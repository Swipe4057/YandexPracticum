{
 "cells": [
  {
   "cell_type": "markdown",
   "metadata": {},
   "source": [
    "# Отток клиентов"
   ]
  },
  {
   "cell_type": "markdown",
   "metadata": {},
   "source": [
    "Источник данных: [https://www.kaggle.com/barelydedicated/bank-customer-churn-modeling](https://www.kaggle.com/barelydedicated/bank-customer-churn-modeling)"
   ]
  },
  {
   "cell_type": "markdown",
   "metadata": {},
   "source": [
    "## Подготовка данных"
   ]
  },
  {
   "cell_type": "code",
   "execution_count": 1,
   "metadata": {},
   "outputs": [],
   "source": [
    "import pandas as pd\n",
    "import matplotlib.pyplot as plt\n",
    "from sklearn.model_selection import train_test_split\n",
    "from sklearn.preprocessing import StandardScaler\n",
    "from sklearn.linear_model import LogisticRegression\n",
    "from sklearn.tree import DecisionTreeClassifier\n",
    "from sklearn.ensemble import RandomForestClassifier\n",
    "from sklearn.metrics import f1_score\n",
    "from sklearn.metrics import roc_curve\n",
    "from sklearn.metrics import roc_auc_score\n",
    "from sklearn.utils import shuffle"
   ]
  },
  {
   "cell_type": "code",
   "execution_count": 2,
   "metadata": {},
   "outputs": [],
   "source": [
    "df = pd.read_csv('/datasets/Churn.csv')"
   ]
  },
  {
   "cell_type": "code",
   "execution_count": 3,
   "metadata": {},
   "outputs": [
    {
     "data": {
      "text/html": [
       "<div>\n",
       "<style scoped>\n",
       "    .dataframe tbody tr th:only-of-type {\n",
       "        vertical-align: middle;\n",
       "    }\n",
       "\n",
       "    .dataframe tbody tr th {\n",
       "        vertical-align: top;\n",
       "    }\n",
       "\n",
       "    .dataframe thead th {\n",
       "        text-align: right;\n",
       "    }\n",
       "</style>\n",
       "<table border=\"1\" class=\"dataframe\">\n",
       "  <thead>\n",
       "    <tr style=\"text-align: right;\">\n",
       "      <th></th>\n",
       "      <th>RowNumber</th>\n",
       "      <th>CustomerId</th>\n",
       "      <th>Surname</th>\n",
       "      <th>CreditScore</th>\n",
       "      <th>Geography</th>\n",
       "      <th>Gender</th>\n",
       "      <th>Age</th>\n",
       "      <th>Tenure</th>\n",
       "      <th>Balance</th>\n",
       "      <th>NumOfProducts</th>\n",
       "      <th>HasCrCard</th>\n",
       "      <th>IsActiveMember</th>\n",
       "      <th>EstimatedSalary</th>\n",
       "      <th>Exited</th>\n",
       "    </tr>\n",
       "  </thead>\n",
       "  <tbody>\n",
       "    <tr>\n",
       "      <th>0</th>\n",
       "      <td>1</td>\n",
       "      <td>15634602</td>\n",
       "      <td>Hargrave</td>\n",
       "      <td>619</td>\n",
       "      <td>France</td>\n",
       "      <td>Female</td>\n",
       "      <td>42</td>\n",
       "      <td>2.0</td>\n",
       "      <td>0.00</td>\n",
       "      <td>1</td>\n",
       "      <td>1</td>\n",
       "      <td>1</td>\n",
       "      <td>101348.88</td>\n",
       "      <td>1</td>\n",
       "    </tr>\n",
       "    <tr>\n",
       "      <th>1</th>\n",
       "      <td>2</td>\n",
       "      <td>15647311</td>\n",
       "      <td>Hill</td>\n",
       "      <td>608</td>\n",
       "      <td>Spain</td>\n",
       "      <td>Female</td>\n",
       "      <td>41</td>\n",
       "      <td>1.0</td>\n",
       "      <td>83807.86</td>\n",
       "      <td>1</td>\n",
       "      <td>0</td>\n",
       "      <td>1</td>\n",
       "      <td>112542.58</td>\n",
       "      <td>0</td>\n",
       "    </tr>\n",
       "    <tr>\n",
       "      <th>2</th>\n",
       "      <td>3</td>\n",
       "      <td>15619304</td>\n",
       "      <td>Onio</td>\n",
       "      <td>502</td>\n",
       "      <td>France</td>\n",
       "      <td>Female</td>\n",
       "      <td>42</td>\n",
       "      <td>8.0</td>\n",
       "      <td>159660.80</td>\n",
       "      <td>3</td>\n",
       "      <td>1</td>\n",
       "      <td>0</td>\n",
       "      <td>113931.57</td>\n",
       "      <td>1</td>\n",
       "    </tr>\n",
       "    <tr>\n",
       "      <th>3</th>\n",
       "      <td>4</td>\n",
       "      <td>15701354</td>\n",
       "      <td>Boni</td>\n",
       "      <td>699</td>\n",
       "      <td>France</td>\n",
       "      <td>Female</td>\n",
       "      <td>39</td>\n",
       "      <td>1.0</td>\n",
       "      <td>0.00</td>\n",
       "      <td>2</td>\n",
       "      <td>0</td>\n",
       "      <td>0</td>\n",
       "      <td>93826.63</td>\n",
       "      <td>0</td>\n",
       "    </tr>\n",
       "    <tr>\n",
       "      <th>4</th>\n",
       "      <td>5</td>\n",
       "      <td>15737888</td>\n",
       "      <td>Mitchell</td>\n",
       "      <td>850</td>\n",
       "      <td>Spain</td>\n",
       "      <td>Female</td>\n",
       "      <td>43</td>\n",
       "      <td>2.0</td>\n",
       "      <td>125510.82</td>\n",
       "      <td>1</td>\n",
       "      <td>1</td>\n",
       "      <td>1</td>\n",
       "      <td>79084.10</td>\n",
       "      <td>0</td>\n",
       "    </tr>\n",
       "  </tbody>\n",
       "</table>\n",
       "</div>"
      ],
      "text/plain": [
       "   RowNumber  CustomerId   Surname  CreditScore Geography  Gender  Age  \\\n",
       "0          1    15634602  Hargrave          619    France  Female   42   \n",
       "1          2    15647311      Hill          608     Spain  Female   41   \n",
       "2          3    15619304      Onio          502    France  Female   42   \n",
       "3          4    15701354      Boni          699    France  Female   39   \n",
       "4          5    15737888  Mitchell          850     Spain  Female   43   \n",
       "\n",
       "   Tenure    Balance  NumOfProducts  HasCrCard  IsActiveMember  \\\n",
       "0     2.0       0.00              1          1               1   \n",
       "1     1.0   83807.86              1          0               1   \n",
       "2     8.0  159660.80              3          1               0   \n",
       "3     1.0       0.00              2          0               0   \n",
       "4     2.0  125510.82              1          1               1   \n",
       "\n",
       "   EstimatedSalary  Exited  \n",
       "0        101348.88       1  \n",
       "1        112542.58       0  \n",
       "2        113931.57       1  \n",
       "3         93826.63       0  \n",
       "4         79084.10       0  "
      ]
     },
     "execution_count": 3,
     "metadata": {},
     "output_type": "execute_result"
    }
   ],
   "source": [
    "df.head()"
   ]
  },
  {
   "cell_type": "code",
   "execution_count": 4,
   "metadata": {},
   "outputs": [
    {
     "name": "stdout",
     "output_type": "stream",
     "text": [
      "<class 'pandas.core.frame.DataFrame'>\n",
      "RangeIndex: 10000 entries, 0 to 9999\n",
      "Data columns (total 14 columns):\n",
      " #   Column           Non-Null Count  Dtype  \n",
      "---  ------           --------------  -----  \n",
      " 0   RowNumber        10000 non-null  int64  \n",
      " 1   CustomerId       10000 non-null  int64  \n",
      " 2   Surname          10000 non-null  object \n",
      " 3   CreditScore      10000 non-null  int64  \n",
      " 4   Geography        10000 non-null  object \n",
      " 5   Gender           10000 non-null  object \n",
      " 6   Age              10000 non-null  int64  \n",
      " 7   Tenure           9091 non-null   float64\n",
      " 8   Balance          10000 non-null  float64\n",
      " 9   NumOfProducts    10000 non-null  int64  \n",
      " 10  HasCrCard        10000 non-null  int64  \n",
      " 11  IsActiveMember   10000 non-null  int64  \n",
      " 12  EstimatedSalary  10000 non-null  float64\n",
      " 13  Exited           10000 non-null  int64  \n",
      "dtypes: float64(3), int64(8), object(3)\n",
      "memory usage: 1.1+ MB\n"
     ]
    }
   ],
   "source": [
    "df.info()"
   ]
  },
  {
   "cell_type": "code",
   "execution_count": 5,
   "metadata": {},
   "outputs": [],
   "source": [
    "df.columns = df.columns.str.lower()"
   ]
  },
  {
   "cell_type": "markdown",
   "metadata": {},
   "source": [
    "Рассмотрим более подробно пропуски в значении столбца tenure — сколько лет человек является клиентом банка."
   ]
  },
  {
   "cell_type": "code",
   "execution_count": 6,
   "metadata": {},
   "outputs": [
    {
     "data": {
      "text/plain": [
       "1.0     952\n",
       "2.0     950\n",
       "8.0     933\n",
       "3.0     928\n",
       "5.0     927\n",
       "7.0     925\n",
       "4.0     885\n",
       "9.0     882\n",
       "6.0     881\n",
       "10.0    446\n",
       "0.0     382\n",
       "Name: tenure, dtype: int64"
      ]
     },
     "execution_count": 6,
     "metadata": {},
     "output_type": "execute_result"
    }
   ],
   "source": [
    "df['tenure'].value_counts()"
   ]
  },
  {
   "cell_type": "code",
   "execution_count": 7,
   "metadata": {},
   "outputs": [
    {
     "data": {
      "text/plain": [
       "909"
      ]
     },
     "execution_count": 7,
     "metadata": {},
     "output_type": "execute_result"
    }
   ],
   "source": [
    "df['tenure'].isna().sum()"
   ]
  },
  {
   "cell_type": "markdown",
   "metadata": {},
   "source": [
    "Существуют значения 0 в столбце скорее всего означают что человек является клиентом банка менее года, пропуски в значении могут означать аналогичным смысл, поэтому заполним пропуски значением 0."
   ]
  },
  {
   "cell_type": "code",
   "execution_count": 8,
   "metadata": {},
   "outputs": [],
   "source": [
    "df['tenure'] = df.fillna(0)\n",
    "df['tenure'] = df['tenure'].astype('int')"
   ]
  },
  {
   "cell_type": "markdown",
   "metadata": {},
   "source": [
    "Столбец RowNumber — индекс строки в данных, является дублированием индексации, он является лишним признаком, удалим его."
   ]
  },
  {
   "cell_type": "markdown",
   "metadata": {},
   "source": [
    "Удалим столбцы customerid и surname, так как фамилия клиента или его идентификатор лишние признаки в анализе."
   ]
  },
  {
   "cell_type": "code",
   "execution_count": 9,
   "metadata": {},
   "outputs": [],
   "source": [
    "df = df.drop(['rownumber', 'customerid', 'surname'], axis=1)"
   ]
  },
  {
   "cell_type": "code",
   "execution_count": 10,
   "metadata": {},
   "outputs": [
    {
     "data": {
      "text/html": [
       "<div>\n",
       "<style scoped>\n",
       "    .dataframe tbody tr th:only-of-type {\n",
       "        vertical-align: middle;\n",
       "    }\n",
       "\n",
       "    .dataframe tbody tr th {\n",
       "        vertical-align: top;\n",
       "    }\n",
       "\n",
       "    .dataframe thead th {\n",
       "        text-align: right;\n",
       "    }\n",
       "</style>\n",
       "<table border=\"1\" class=\"dataframe\">\n",
       "  <thead>\n",
       "    <tr style=\"text-align: right;\">\n",
       "      <th></th>\n",
       "      <th>creditscore</th>\n",
       "      <th>geography</th>\n",
       "      <th>gender</th>\n",
       "      <th>age</th>\n",
       "      <th>tenure</th>\n",
       "      <th>balance</th>\n",
       "      <th>numofproducts</th>\n",
       "      <th>hascrcard</th>\n",
       "      <th>isactivemember</th>\n",
       "      <th>estimatedsalary</th>\n",
       "      <th>exited</th>\n",
       "    </tr>\n",
       "  </thead>\n",
       "  <tbody>\n",
       "    <tr>\n",
       "      <th>0</th>\n",
       "      <td>619</td>\n",
       "      <td>France</td>\n",
       "      <td>Female</td>\n",
       "      <td>42</td>\n",
       "      <td>1</td>\n",
       "      <td>0.00</td>\n",
       "      <td>1</td>\n",
       "      <td>1</td>\n",
       "      <td>1</td>\n",
       "      <td>101348.88</td>\n",
       "      <td>1</td>\n",
       "    </tr>\n",
       "    <tr>\n",
       "      <th>1</th>\n",
       "      <td>608</td>\n",
       "      <td>Spain</td>\n",
       "      <td>Female</td>\n",
       "      <td>41</td>\n",
       "      <td>2</td>\n",
       "      <td>83807.86</td>\n",
       "      <td>1</td>\n",
       "      <td>0</td>\n",
       "      <td>1</td>\n",
       "      <td>112542.58</td>\n",
       "      <td>0</td>\n",
       "    </tr>\n",
       "    <tr>\n",
       "      <th>2</th>\n",
       "      <td>502</td>\n",
       "      <td>France</td>\n",
       "      <td>Female</td>\n",
       "      <td>42</td>\n",
       "      <td>3</td>\n",
       "      <td>159660.80</td>\n",
       "      <td>3</td>\n",
       "      <td>1</td>\n",
       "      <td>0</td>\n",
       "      <td>113931.57</td>\n",
       "      <td>1</td>\n",
       "    </tr>\n",
       "    <tr>\n",
       "      <th>3</th>\n",
       "      <td>699</td>\n",
       "      <td>France</td>\n",
       "      <td>Female</td>\n",
       "      <td>39</td>\n",
       "      <td>4</td>\n",
       "      <td>0.00</td>\n",
       "      <td>2</td>\n",
       "      <td>0</td>\n",
       "      <td>0</td>\n",
       "      <td>93826.63</td>\n",
       "      <td>0</td>\n",
       "    </tr>\n",
       "    <tr>\n",
       "      <th>4</th>\n",
       "      <td>850</td>\n",
       "      <td>Spain</td>\n",
       "      <td>Female</td>\n",
       "      <td>43</td>\n",
       "      <td>5</td>\n",
       "      <td>125510.82</td>\n",
       "      <td>1</td>\n",
       "      <td>1</td>\n",
       "      <td>1</td>\n",
       "      <td>79084.10</td>\n",
       "      <td>0</td>\n",
       "    </tr>\n",
       "  </tbody>\n",
       "</table>\n",
       "</div>"
      ],
      "text/plain": [
       "   creditscore geography  gender  age  tenure    balance  numofproducts  \\\n",
       "0          619    France  Female   42       1       0.00              1   \n",
       "1          608     Spain  Female   41       2   83807.86              1   \n",
       "2          502    France  Female   42       3  159660.80              3   \n",
       "3          699    France  Female   39       4       0.00              2   \n",
       "4          850     Spain  Female   43       5  125510.82              1   \n",
       "\n",
       "   hascrcard  isactivemember  estimatedsalary  exited  \n",
       "0          1               1        101348.88       1  \n",
       "1          0               1        112542.58       0  \n",
       "2          1               0        113931.57       1  \n",
       "3          0               0         93826.63       0  \n",
       "4          1               1         79084.10       0  "
      ]
     },
     "execution_count": 10,
     "metadata": {},
     "output_type": "execute_result"
    }
   ],
   "source": [
    "df.head()"
   ]
  },
  {
   "cell_type": "code",
   "execution_count": 11,
   "metadata": {},
   "outputs": [
    {
     "name": "stdout",
     "output_type": "stream",
     "text": [
      "<class 'pandas.core.frame.DataFrame'>\n",
      "RangeIndex: 10000 entries, 0 to 9999\n",
      "Data columns (total 11 columns):\n",
      " #   Column           Non-Null Count  Dtype  \n",
      "---  ------           --------------  -----  \n",
      " 0   creditscore      10000 non-null  int64  \n",
      " 1   geography        10000 non-null  object \n",
      " 2   gender           10000 non-null  object \n",
      " 3   age              10000 non-null  int64  \n",
      " 4   tenure           10000 non-null  int64  \n",
      " 5   balance          10000 non-null  float64\n",
      " 6   numofproducts    10000 non-null  int64  \n",
      " 7   hascrcard        10000 non-null  int64  \n",
      " 8   isactivemember   10000 non-null  int64  \n",
      " 9   estimatedsalary  10000 non-null  float64\n",
      " 10  exited           10000 non-null  int64  \n",
      "dtypes: float64(2), int64(7), object(2)\n",
      "memory usage: 859.5+ KB\n"
     ]
    }
   ],
   "source": [
    "df.info()"
   ]
  },
  {
   "cell_type": "markdown",
   "metadata": {},
   "source": [
    "Этап предобработки данных закончен, теперь необходимо подготовить данные для обучения."
   ]
  },
  {
   "cell_type": "code",
   "execution_count": 12,
   "metadata": {},
   "outputs": [],
   "source": [
    "df_one = pd.get_dummies(df, columns = ['geography', 'gender'], drop_first=True)"
   ]
  },
  {
   "cell_type": "code",
   "execution_count": 13,
   "metadata": {},
   "outputs": [
    {
     "data": {
      "text/html": [
       "<div>\n",
       "<style scoped>\n",
       "    .dataframe tbody tr th:only-of-type {\n",
       "        vertical-align: middle;\n",
       "    }\n",
       "\n",
       "    .dataframe tbody tr th {\n",
       "        vertical-align: top;\n",
       "    }\n",
       "\n",
       "    .dataframe thead th {\n",
       "        text-align: right;\n",
       "    }\n",
       "</style>\n",
       "<table border=\"1\" class=\"dataframe\">\n",
       "  <thead>\n",
       "    <tr style=\"text-align: right;\">\n",
       "      <th></th>\n",
       "      <th>creditscore</th>\n",
       "      <th>age</th>\n",
       "      <th>tenure</th>\n",
       "      <th>balance</th>\n",
       "      <th>numofproducts</th>\n",
       "      <th>hascrcard</th>\n",
       "      <th>isactivemember</th>\n",
       "      <th>estimatedsalary</th>\n",
       "      <th>exited</th>\n",
       "      <th>geography_Germany</th>\n",
       "      <th>geography_Spain</th>\n",
       "      <th>gender_Male</th>\n",
       "    </tr>\n",
       "  </thead>\n",
       "  <tbody>\n",
       "    <tr>\n",
       "      <th>0</th>\n",
       "      <td>619</td>\n",
       "      <td>42</td>\n",
       "      <td>1</td>\n",
       "      <td>0.00</td>\n",
       "      <td>1</td>\n",
       "      <td>1</td>\n",
       "      <td>1</td>\n",
       "      <td>101348.88</td>\n",
       "      <td>1</td>\n",
       "      <td>0</td>\n",
       "      <td>0</td>\n",
       "      <td>0</td>\n",
       "    </tr>\n",
       "    <tr>\n",
       "      <th>1</th>\n",
       "      <td>608</td>\n",
       "      <td>41</td>\n",
       "      <td>2</td>\n",
       "      <td>83807.86</td>\n",
       "      <td>1</td>\n",
       "      <td>0</td>\n",
       "      <td>1</td>\n",
       "      <td>112542.58</td>\n",
       "      <td>0</td>\n",
       "      <td>0</td>\n",
       "      <td>1</td>\n",
       "      <td>0</td>\n",
       "    </tr>\n",
       "    <tr>\n",
       "      <th>2</th>\n",
       "      <td>502</td>\n",
       "      <td>42</td>\n",
       "      <td>3</td>\n",
       "      <td>159660.80</td>\n",
       "      <td>3</td>\n",
       "      <td>1</td>\n",
       "      <td>0</td>\n",
       "      <td>113931.57</td>\n",
       "      <td>1</td>\n",
       "      <td>0</td>\n",
       "      <td>0</td>\n",
       "      <td>0</td>\n",
       "    </tr>\n",
       "    <tr>\n",
       "      <th>3</th>\n",
       "      <td>699</td>\n",
       "      <td>39</td>\n",
       "      <td>4</td>\n",
       "      <td>0.00</td>\n",
       "      <td>2</td>\n",
       "      <td>0</td>\n",
       "      <td>0</td>\n",
       "      <td>93826.63</td>\n",
       "      <td>0</td>\n",
       "      <td>0</td>\n",
       "      <td>0</td>\n",
       "      <td>0</td>\n",
       "    </tr>\n",
       "    <tr>\n",
       "      <th>4</th>\n",
       "      <td>850</td>\n",
       "      <td>43</td>\n",
       "      <td>5</td>\n",
       "      <td>125510.82</td>\n",
       "      <td>1</td>\n",
       "      <td>1</td>\n",
       "      <td>1</td>\n",
       "      <td>79084.10</td>\n",
       "      <td>0</td>\n",
       "      <td>0</td>\n",
       "      <td>1</td>\n",
       "      <td>0</td>\n",
       "    </tr>\n",
       "  </tbody>\n",
       "</table>\n",
       "</div>"
      ],
      "text/plain": [
       "   creditscore  age  tenure    balance  numofproducts  hascrcard  \\\n",
       "0          619   42       1       0.00              1          1   \n",
       "1          608   41       2   83807.86              1          0   \n",
       "2          502   42       3  159660.80              3          1   \n",
       "3          699   39       4       0.00              2          0   \n",
       "4          850   43       5  125510.82              1          1   \n",
       "\n",
       "   isactivemember  estimatedsalary  exited  geography_Germany  \\\n",
       "0               1        101348.88       1                  0   \n",
       "1               1        112542.58       0                  0   \n",
       "2               0        113931.57       1                  0   \n",
       "3               0         93826.63       0                  0   \n",
       "4               1         79084.10       0                  0   \n",
       "\n",
       "   geography_Spain  gender_Male  \n",
       "0                0            0  \n",
       "1                1            0  \n",
       "2                0            0  \n",
       "3                0            0  \n",
       "4                1            0  "
      ]
     },
     "execution_count": 13,
     "metadata": {},
     "output_type": "execute_result"
    }
   ],
   "source": [
    "df_one.head()"
   ]
  },
  {
   "cell_type": "code",
   "execution_count": 14,
   "metadata": {},
   "outputs": [],
   "source": [
    "target = df_one['exited']\n",
    "features = df_one.drop('exited', axis=1)"
   ]
  },
  {
   "cell_type": "code",
   "execution_count": 15,
   "metadata": {},
   "outputs": [],
   "source": [
    "features_train_80, features_test, target_train_80, target_test = train_test_split(features,target,\n",
    "                                                                                  test_size=0.2,\n",
    "                                                                                  random_state=12345,\n",
    "                                                                                  stratify=target)"
   ]
  },
  {
   "cell_type": "code",
   "execution_count": 16,
   "metadata": {},
   "outputs": [],
   "source": [
    "features_train, features_valid, target_train, target_valid = train_test_split(features_train_80, target_train_80,\n",
    "                                                                              test_size=0.25,\n",
    "                                                                              random_state=12345,\n",
    "                                                                              stratify=target_train_80)"
   ]
  },
  {
   "cell_type": "code",
   "execution_count": 17,
   "metadata": {},
   "outputs": [
    {
     "name": "stdout",
     "output_type": "stream",
     "text": [
      "(8000, 11)\n",
      "(6000, 11)\n",
      "(2000, 11)\n",
      "(2000, 11)\n"
     ]
    }
   ],
   "source": [
    "print(features_train_80.shape)\n",
    "print(features_train.shape)\n",
    "print(features_valid.shape)\n",
    "print(features_test.shape)"
   ]
  },
  {
   "cell_type": "code",
   "execution_count": 18,
   "metadata": {},
   "outputs": [],
   "source": [
    "numeric = ['creditscore', 'age', 'tenure', 'balance', 'numofproducts', 'estimatedsalary']"
   ]
  },
  {
   "cell_type": "code",
   "execution_count": 19,
   "metadata": {},
   "outputs": [],
   "source": [
    "scaler = StandardScaler()\n",
    "pd.options.mode.chained_assignment = None\n",
    "scaler.fit(features_train[numeric])\n",
    "features_train[numeric] = scaler.transform(features_train[numeric])\n",
    "features_valid[numeric] = scaler.transform(features_valid[numeric])\n",
    "features_test[numeric] = scaler.transform(features_test[numeric])\n",
    "features_train_80[numeric] = scaler.transform(features_train_80[numeric])"
   ]
  },
  {
   "cell_type": "code",
   "execution_count": 20,
   "metadata": {
    "scrolled": true
   },
   "outputs": [
    {
     "data": {
      "text/html": [
       "<div>\n",
       "<style scoped>\n",
       "    .dataframe tbody tr th:only-of-type {\n",
       "        vertical-align: middle;\n",
       "    }\n",
       "\n",
       "    .dataframe tbody tr th {\n",
       "        vertical-align: top;\n",
       "    }\n",
       "\n",
       "    .dataframe thead th {\n",
       "        text-align: right;\n",
       "    }\n",
       "</style>\n",
       "<table border=\"1\" class=\"dataframe\">\n",
       "  <thead>\n",
       "    <tr style=\"text-align: right;\">\n",
       "      <th></th>\n",
       "      <th>creditscore</th>\n",
       "      <th>age</th>\n",
       "      <th>tenure</th>\n",
       "      <th>balance</th>\n",
       "      <th>numofproducts</th>\n",
       "      <th>hascrcard</th>\n",
       "      <th>isactivemember</th>\n",
       "      <th>estimatedsalary</th>\n",
       "      <th>geography_Germany</th>\n",
       "      <th>geography_Spain</th>\n",
       "      <th>gender_Male</th>\n",
       "    </tr>\n",
       "  </thead>\n",
       "  <tbody>\n",
       "    <tr>\n",
       "      <th>5536</th>\n",
       "      <td>-0.143332</td>\n",
       "      <td>0.577533</td>\n",
       "      <td>0.188112</td>\n",
       "      <td>-1.220573</td>\n",
       "      <td>0.797767</td>\n",
       "      <td>1</td>\n",
       "      <td>1</td>\n",
       "      <td>1.029613</td>\n",
       "      <td>0</td>\n",
       "      <td>1</td>\n",
       "      <td>1</td>\n",
       "    </tr>\n",
       "    <tr>\n",
       "      <th>8530</th>\n",
       "      <td>1.632702</td>\n",
       "      <td>-0.564119</td>\n",
       "      <td>1.220052</td>\n",
       "      <td>0.435807</td>\n",
       "      <td>-0.916018</td>\n",
       "      <td>1</td>\n",
       "      <td>0</td>\n",
       "      <td>0.237986</td>\n",
       "      <td>0</td>\n",
       "      <td>0</td>\n",
       "      <td>0</td>\n",
       "    </tr>\n",
       "    <tr>\n",
       "      <th>1762</th>\n",
       "      <td>1.116413</td>\n",
       "      <td>-0.468981</td>\n",
       "      <td>-1.112670</td>\n",
       "      <td>1.245822</td>\n",
       "      <td>-0.916018</td>\n",
       "      <td>1</td>\n",
       "      <td>1</td>\n",
       "      <td>-0.686104</td>\n",
       "      <td>0</td>\n",
       "      <td>0</td>\n",
       "      <td>0</td>\n",
       "    </tr>\n",
       "    <tr>\n",
       "      <th>9090</th>\n",
       "      <td>1.643028</td>\n",
       "      <td>0.006707</td>\n",
       "      <td>1.413067</td>\n",
       "      <td>-1.220573</td>\n",
       "      <td>-0.916018</td>\n",
       "      <td>1</td>\n",
       "      <td>0</td>\n",
       "      <td>-0.391097</td>\n",
       "      <td>0</td>\n",
       "      <td>0</td>\n",
       "      <td>0</td>\n",
       "    </tr>\n",
       "    <tr>\n",
       "      <th>8777</th>\n",
       "      <td>-0.484083</td>\n",
       "      <td>-1.420358</td>\n",
       "      <td>1.305186</td>\n",
       "      <td>1.421989</td>\n",
       "      <td>0.797767</td>\n",
       "      <td>1</td>\n",
       "      <td>0</td>\n",
       "      <td>-1.361559</td>\n",
       "      <td>0</td>\n",
       "      <td>1</td>\n",
       "      <td>1</td>\n",
       "    </tr>\n",
       "  </tbody>\n",
       "</table>\n",
       "</div>"
      ],
      "text/plain": [
       "      creditscore       age    tenure   balance  numofproducts  hascrcard  \\\n",
       "5536    -0.143332  0.577533  0.188112 -1.220573       0.797767          1   \n",
       "8530     1.632702 -0.564119  1.220052  0.435807      -0.916018          1   \n",
       "1762     1.116413 -0.468981 -1.112670  1.245822      -0.916018          1   \n",
       "9090     1.643028  0.006707  1.413067 -1.220573      -0.916018          1   \n",
       "8777    -0.484083 -1.420358  1.305186  1.421989       0.797767          1   \n",
       "\n",
       "      isactivemember  estimatedsalary  geography_Germany  geography_Spain  \\\n",
       "5536               1         1.029613                  0                1   \n",
       "8530               0         0.237986                  0                0   \n",
       "1762               1        -0.686104                  0                0   \n",
       "9090               0        -0.391097                  0                0   \n",
       "8777               0        -1.361559                  0                1   \n",
       "\n",
       "      gender_Male  \n",
       "5536            1  \n",
       "8530            0  \n",
       "1762            0  \n",
       "9090            0  \n",
       "8777            1  "
      ]
     },
     "execution_count": 20,
     "metadata": {},
     "output_type": "execute_result"
    }
   ],
   "source": [
    "features_train.head()"
   ]
  },
  {
   "cell_type": "markdown",
   "metadata": {},
   "source": [
    "Данные были разделены на обучающие и валидационную выборки, категориальные признаки преобразовали в численные методом ОНЕ, выполнено масштабирование численных признаков методом стандартизации."
   ]
  },
  {
   "cell_type": "markdown",
   "metadata": {},
   "source": [
    "## Исследование задачи"
   ]
  },
  {
   "cell_type": "code",
   "execution_count": 21,
   "metadata": {},
   "outputs": [
    {
     "data": {
      "text/plain": [
       "0    7963\n",
       "1    2037\n",
       "Name: exited, dtype: int64"
      ]
     },
     "execution_count": 21,
     "metadata": {},
     "output_type": "execute_result"
    }
   ],
   "source": [
    "df['exited'].value_counts()"
   ]
  },
  {
   "cell_type": "code",
   "execution_count": 22,
   "metadata": {},
   "outputs": [
    {
     "data": {
      "text/plain": [
       "3.9091801669121256"
      ]
     },
     "execution_count": 22,
     "metadata": {},
     "output_type": "execute_result"
    }
   ],
   "source": [
    "(df['exited'].count()-df['exited'].sum())/df['exited'].sum()"
   ]
  },
  {
   "cell_type": "code",
   "execution_count": 23,
   "metadata": {},
   "outputs": [
    {
     "data": {
      "text/plain": [
       "0.25580811252040686"
      ]
     },
     "execution_count": 23,
     "metadata": {},
     "output_type": "execute_result"
    }
   ],
   "source": [
    "df['exited'].sum()/(df['exited'].count()-df['exited'].sum())"
   ]
  },
  {
   "cell_type": "markdown",
   "metadata": {},
   "source": [
    "Целевой признак не сбалалансирован."
   ]
  },
  {
   "cell_type": "markdown",
   "metadata": {},
   "source": [
    "Обучим логистическую регрессию без учета дисбаланса:"
   ]
  },
  {
   "cell_type": "code",
   "execution_count": 24,
   "metadata": {},
   "outputs": [],
   "source": [
    "def logistic_regression(train, target):\n",
    "    model = LogisticRegression(random_state=12345, \n",
    "                               solver='liblinear')\n",
    "    model.fit(train,target)\n",
    "    predicted_valid = model.predict(features_valid)\n",
    "    f1 = f1_score(target_valid, predicted_valid)\n",
    "    print('F1:',f1)\n",
    "    return model"
   ]
  },
  {
   "cell_type": "code",
   "execution_count": 25,
   "metadata": {},
   "outputs": [
    {
     "name": "stdout",
     "output_type": "stream",
     "text": [
      "F1: 0.3189493433395873\n"
     ]
    }
   ],
   "source": [
    "model = logistic_regression(features_train, target_train)"
   ]
  },
  {
   "cell_type": "markdown",
   "metadata": {},
   "source": [
    "Построим ROC-кривую и найдем площаль под кривой:"
   ]
  },
  {
   "cell_type": "code",
   "execution_count": 26,
   "metadata": {},
   "outputs": [],
   "source": [
    "def auc_roc(model):\n",
    "    probabilities_valid = model.predict_proba(features_valid)\n",
    "    probabilities_one_valid = probabilities_valid[:, 1]\n",
    "    fpr, tpr, thresholds = roc_curve(target_valid, probabilities_one_valid)\n",
    "    plt.figure()\n",
    "    plt.plot(fpr, tpr)\n",
    "    plt.xlim([0.0, 1.0])\n",
    "    plt.ylim([0.0, 1.0])\n",
    "    plt.plot([0, 1], [0, 1], linestyle='--')\n",
    "    plt.xlabel('False Positive Rate')\n",
    "    plt.ylabel('True Positive Rate')\n",
    "    plt.title('ROC-кривая')\n",
    "    plt.show()\n",
    "    auc_roc = roc_auc_score(target_valid, probabilities_one_valid)\n",
    "    print('Площаль под ROC-кривой:', auc_roc)"
   ]
  },
  {
   "cell_type": "code",
   "execution_count": 27,
   "metadata": {
    "scrolled": false
   },
   "outputs": [
    {
     "data": {
      "image/png": "[encoded data removed]",
      "text/plain": [
       "<Figure size 432x288 with 1 Axes>"
      ]
     },
     "metadata": {
      "needs_background": "light"
     },
     "output_type": "display_data"
    },
    {
     "name": "stdout",
     "output_type": "stream",
     "text": [
      "Площаль под ROC-кривой: 0.7879034658695676\n"
     ]
    }
   ],
   "source": [
    "auc_roc(model)"
   ]
  },
  {
   "cell_type": "markdown",
   "metadata": {},
   "source": [
    "Обучим дерево решений:"
   ]
  },
  {
   "cell_type": "code",
   "execution_count": 28,
   "metadata": {
    "scrolled": true
   },
   "outputs": [],
   "source": [
    "def decision_tree(features, target):\n",
    "    best_model = None\n",
    "    best_f1 = 0\n",
    "    for i in range(1,10):\n",
    "        model = DecisionTreeClassifier(random_state=12345,\n",
    "                                       max_depth=i)\n",
    "        model.fit(features, target)\n",
    "        predicted_valid = model.predict(features_valid)\n",
    "        f1 = f1_score(target_valid, predicted_valid)\n",
    "        if f1 > best_f1:\n",
    "            best_model = model\n",
    "            best_f1 = f1\n",
    "    print('best_model =', best_model)\n",
    "    print('F1 =', best_f1)\n",
    "    return best_model"
   ]
  },
  {
   "cell_type": "code",
   "execution_count": 29,
   "metadata": {},
   "outputs": [
    {
     "name": "stdout",
     "output_type": "stream",
     "text": [
      "best_model = DecisionTreeClassifier(max_depth=7, random_state=12345)\n",
      "F1 = 0.552469135802469\n"
     ]
    }
   ],
   "source": [
    "best_model = decision_tree(features_train, target_train)"
   ]
  },
  {
   "cell_type": "markdown",
   "metadata": {},
   "source": [
    "Построим ROC-кривую и найдем площаль под кривой:"
   ]
  },
  {
   "cell_type": "code",
   "execution_count": 30,
   "metadata": {},
   "outputs": [
    {
     "data": {
      "image/png": "[encoded data removed]",
      "text/plain": [
       "<Figure size 432x288 with 1 Axes>"
      ]
     },
     "metadata": {
      "needs_background": "light"
     },
     "output_type": "display_data"
    },
    {
     "name": "stdout",
     "output_type": "stream",
     "text": [
      "Площаль под ROC-кривой: 0.8259145123551905\n"
     ]
    }
   ],
   "source": [
    "auc_roc(best_model)"
   ]
  },
  {
   "cell_type": "markdown",
   "metadata": {},
   "source": [
    "Обучим случайный лес:"
   ]
  },
  {
   "cell_type": "markdown",
   "metadata": {},
   "source": [
    "Сначала найдем оптимальную величину глубины дерева:"
   ]
  },
  {
   "cell_type": "code",
   "execution_count": 31,
   "metadata": {
    "scrolled": true
   },
   "outputs": [
    {
     "name": "stdout",
     "output_type": "stream",
     "text": [
      "best_model = RandomForestClassifier(max_depth=17, n_estimators=30, random_state=12345)\n",
      "F1 = 0.5849923430321592\n",
      "CPU times: user 3.59 s, sys: 12.2 ms, total: 3.6 s\n",
      "Wall time: 3.61 s\n"
     ]
    }
   ],
   "source": [
    "%%time\n",
    "best_model = None\n",
    "best_f1 = 0\n",
    "for i in range(1,20):\n",
    "    model = RandomForestClassifier(random_state=12345,\n",
    "                                   max_depth=i,\n",
    "                                   n_estimators=30)\n",
    "    model.fit(features_train, target_train)\n",
    "    predicted_valid = model.predict(features_valid)\n",
    "    f1 = f1_score(target_valid, predicted_valid)\n",
    "    if f1 > best_f1:\n",
    "        best_model = model\n",
    "        best_f1 = f1\n",
    "print('best_model =', best_model)\n",
    "print('F1 =', best_f1)"
   ]
  },
  {
   "cell_type": "markdown",
   "metadata": {},
   "source": [
    "Найдем оптимальное количество деревьев решений:"
   ]
  },
  {
   "cell_type": "code",
   "execution_count": 32,
   "metadata": {},
   "outputs": [
    {
     "name": "stdout",
     "output_type": "stream",
     "text": [
      "best_model = RandomForestClassifier(max_depth=17, n_estimators=30, random_state=12345)\n",
      "F1 = 0.5849923430321592\n",
      "CPU times: user 6.68 s, sys: 31.3 ms, total: 6.71 s\n",
      "Wall time: 6.72 s\n"
     ]
    }
   ],
   "source": [
    "%%time\n",
    "best_model = None\n",
    "best_f1 = 0\n",
    "for i in range(1,40):\n",
    "    model = RandomForestClassifier(random_state=12345,\n",
    "                                   max_depth=17,\n",
    "                                   n_estimators=i)\n",
    "    model.fit(features_train, target_train)\n",
    "    predicted_valid = model.predict(features_valid)\n",
    "    f1 = f1_score(target_valid, predicted_valid)\n",
    "    if f1 > best_f1:\n",
    "        best_model = model\n",
    "        best_f1 = f1\n",
    "print('best_model =', best_model)\n",
    "print('F1 =', best_f1)"
   ]
  },
  {
   "cell_type": "markdown",
   "metadata": {},
   "source": [
    "Построим ROC-кривую и найдем площаль под кривой:"
   ]
  },
  {
   "cell_type": "code",
   "execution_count": 33,
   "metadata": {
    "scrolled": true
   },
   "outputs": [
    {
     "data": {
      "image/png": "[encoded data removed]",
      "text/plain": [
       "<Figure size 432x288 with 1 Axes>"
      ]
     },
     "metadata": {
      "needs_background": "light"
     },
     "output_type": "display_data"
    },
    {
     "name": "stdout",
     "output_type": "stream",
     "text": [
      "Площаль под ROC-кривой: 0.8489221116339761\n"
     ]
    }
   ],
   "source": [
    "auc_roc(best_model)"
   ]
  },
  {
   "cell_type": "markdown",
   "metadata": {},
   "source": [
    "Выводы: \n",
    "- среди используемых моделей лучшие показатели метрик после обучения обеспечивает модель случайного леса;\n",
    "- при поиске модели с наиболее высокой метрикой F1 улучшается и площадь под ROC-кривой."
   ]
  },
  {
   "cell_type": "markdown",
   "metadata": {},
   "source": [
    "## Борьба с дисбалансом"
   ]
  },
  {
   "cell_type": "markdown",
   "metadata": {},
   "source": [
    "### Взвешивание классов"
   ]
  },
  {
   "cell_type": "markdown",
   "metadata": {},
   "source": [
    "Выполним взвешивание классов, придадим объектам меньшего класса больший вес:"
   ]
  },
  {
   "cell_type": "code",
   "execution_count": 34,
   "metadata": {},
   "outputs": [
    {
     "name": "stdout",
     "output_type": "stream",
     "text": [
      "F1: 0.5108601216333623\n"
     ]
    }
   ],
   "source": [
    "model = LogisticRegression(random_state=12345, \n",
    "                           solver='liblinear',\n",
    "                           class_weight='balanced')\n",
    "model.fit(features_train,target_train)\n",
    "predicted_valid = model.predict(features_valid)\n",
    "f1 = f1_score(target_valid, predicted_valid)\n",
    "print('F1:',f1)"
   ]
  },
  {
   "cell_type": "code",
   "execution_count": 35,
   "metadata": {},
   "outputs": [
    {
     "data": {
      "image/png": "[encoded data removed]",
      "text/plain": [
       "<Figure size 432x288 with 1 Axes>"
      ]
     },
     "metadata": {
      "needs_background": "light"
     },
     "output_type": "display_data"
    },
    {
     "name": "stdout",
     "output_type": "stream",
     "text": [
      "Площаль под ROC-кривой: 0.7920617073159445\n"
     ]
    }
   ],
   "source": [
    "auc_roc(model)"
   ]
  },
  {
   "cell_type": "markdown",
   "metadata": {},
   "source": [
    "Обучим дерево решений:"
   ]
  },
  {
   "cell_type": "code",
   "execution_count": 36,
   "metadata": {},
   "outputs": [
    {
     "name": "stdout",
     "output_type": "stream",
     "text": [
      "model = DecisionTreeClassifier(class_weight='balanced', max_depth=5, random_state=12345)\n",
      "F1 = 0.5849923430321592\n",
      "CPU times: user 24.7 ms, sys: 27 µs, total: 24.8 ms\n",
      "Wall time: 22.8 ms\n"
     ]
    }
   ],
   "source": [
    "%%time\n",
    "model = DecisionTreeClassifier(random_state=12345, \n",
    "                               max_depth=5,\n",
    "                               class_weight='balanced')\n",
    "model.fit(features_train, target_train)\n",
    "predicted_valid = model.predict(features_valid)\n",
    "f1 = f1_score(target_valid, predicted_valid)\n",
    "print('model =', model)\n",
    "print('F1 =', best_f1)"
   ]
  },
  {
   "cell_type": "code",
   "execution_count": 37,
   "metadata": {
    "scrolled": true
   },
   "outputs": [
    {
     "data": {
      "image/png": "[encoded data removed]",
      "text/plain": [
       "<Figure size 432x288 with 1 Axes>"
      ]
     },
     "metadata": {
      "needs_background": "light"
     },
     "output_type": "display_data"
    },
    {
     "name": "stdout",
     "output_type": "stream",
     "text": [
      "Площаль под ROC-кривой: 0.8373913204421678\n"
     ]
    }
   ],
   "source": [
    "auc_roc(model)"
   ]
  },
  {
   "cell_type": "markdown",
   "metadata": {},
   "source": [
    "Обучим случайный лес:"
   ]
  },
  {
   "cell_type": "markdown",
   "metadata": {},
   "source": [
    "Сначала найдем оптимальную величину глубины дерева:"
   ]
  },
  {
   "cell_type": "code",
   "execution_count": 38,
   "metadata": {},
   "outputs": [
    {
     "name": "stdout",
     "output_type": "stream",
     "text": [
      "best_model = RandomForestClassifier(class_weight='balanced', max_depth=10, n_estimators=30,\n",
      "                       random_state=12345)\n",
      "F1 = 0.6351829988193625\n",
      "CPU times: user 3.61 s, sys: 17.6 ms, total: 3.63 s\n",
      "Wall time: 3.64 s\n"
     ]
    }
   ],
   "source": [
    "%%time\n",
    "best_model = None\n",
    "best_f1 = 0\n",
    "for i in range(1,20):\n",
    "    model = RandomForestClassifier(random_state=12345,\n",
    "                                   max_depth=i,\n",
    "                                   n_estimators=30,\n",
    "                                   class_weight='balanced')\n",
    "    model.fit(features_train, target_train)\n",
    "    predicted_valid = model.predict(features_valid)\n",
    "    f1 = f1_score(target_valid, predicted_valid)\n",
    "    if f1 > best_f1:\n",
    "        best_model = model\n",
    "        best_f1 = f1\n",
    "print('best_model =', best_model)\n",
    "print('F1 =', best_f1)"
   ]
  },
  {
   "cell_type": "markdown",
   "metadata": {},
   "source": [
    "Найдем оптимальное количество деревьев решений:"
   ]
  },
  {
   "cell_type": "code",
   "execution_count": 39,
   "metadata": {},
   "outputs": [
    {
     "name": "stdout",
     "output_type": "stream",
     "text": [
      "best_model = RandomForestClassifier(class_weight='balanced', max_depth=10, n_estimators=12,\n",
      "                       random_state=12345)\n",
      "F1 = 0.646562123039807\n",
      "CPU times: user 1.42 s, sys: 0 ns, total: 1.42 s\n",
      "Wall time: 1.43 s\n"
     ]
    }
   ],
   "source": [
    "%%time\n",
    "best_model = None\n",
    "best_f1 = 0\n",
    "for i in range(1,20):\n",
    "    model = RandomForestClassifier(random_state=12345,\n",
    "                                   max_depth=10,\n",
    "                                   n_estimators=i, \n",
    "                                   class_weight='balanced')\n",
    "    model.fit(features_train, target_train)\n",
    "    predicted_valid = model.predict(features_valid)\n",
    "    f1 = f1_score(target_valid, predicted_valid)\n",
    "    if f1 > best_f1:\n",
    "        best_model = model\n",
    "        best_f1 = f1\n",
    "print('best_model =', best_model)\n",
    "print('F1 =', best_f1)"
   ]
  },
  {
   "cell_type": "code",
   "execution_count": 40,
   "metadata": {
    "scrolled": false
   },
   "outputs": [
    {
     "data": {
      "image/png": "[encoded data removed]",
      "text/plain": [
       "<Figure size 432x288 with 1 Axes>"
      ]
     },
     "metadata": {
      "needs_background": "light"
     },
     "output_type": "display_data"
    },
    {
     "name": "stdout",
     "output_type": "stream",
     "text": [
      "Площаль под ROC-кривой: 0.8521695809831403\n"
     ]
    }
   ],
   "source": [
    "auc_roc(best_model)"
   ]
  },
  {
   "cell_type": "markdown",
   "metadata": {},
   "source": [
    "Вывод: после взвешивания классов предсказания моделей стали лучше чем без учета дисбаланса классов."
   ]
  },
  {
   "cell_type": "markdown",
   "metadata": {},
   "source": [
    "### Увеличение выборки"
   ]
  },
  {
   "cell_type": "markdown",
   "metadata": {},
   "source": [
    "Увеличим количество положительных целевых признаков тем самым убрав дисбаланс классов:"
   ]
  },
  {
   "cell_type": "code",
   "execution_count": 41,
   "metadata": {},
   "outputs": [],
   "source": [
    "features_zeros = features_train[target_train == 0]\n",
    "features_ones = features_train[target_train == 1]\n",
    "target_zeros = target_train[target_train == 0]\n",
    "target_ones = target_train[target_train == 1]\n",
    "repeat = 4\n",
    "features_upsampled = pd.concat([features_zeros] + [features_ones] * repeat)\n",
    "target_upsampled = pd.concat([target_zeros] + [target_ones]*repeat)\n",
    "features_upsampled, target_upsampled = shuffle(features_upsampled,\n",
    "                                               target_upsampled,\n",
    "                                               random_state=12345)"
   ]
  },
  {
   "cell_type": "markdown",
   "metadata": {},
   "source": [
    "Обучим логистическую регрессию:"
   ]
  },
  {
   "cell_type": "code",
   "execution_count": 42,
   "metadata": {},
   "outputs": [
    {
     "name": "stdout",
     "output_type": "stream",
     "text": [
      "F1: 0.5098374679213004\n"
     ]
    }
   ],
   "source": [
    "model = logistic_regression(features_upsampled, target_upsampled)"
   ]
  },
  {
   "cell_type": "code",
   "execution_count": 43,
   "metadata": {},
   "outputs": [
    {
     "data": {
      "image/png": "[encoded data removed]",
      "text/plain": [
       "<Figure size 432x288 with 1 Axes>"
      ]
     },
     "metadata": {
      "needs_background": "light"
     },
     "output_type": "display_data"
    },
    {
     "name": "stdout",
     "output_type": "stream",
     "text": [
      "Площаль под ROC-кривой: 0.7921126056719276\n"
     ]
    }
   ],
   "source": [
    "auc_roc(model)"
   ]
  },
  {
   "cell_type": "markdown",
   "metadata": {},
   "source": [
    "Обучим дерево решений:"
   ]
  },
  {
   "cell_type": "code",
   "execution_count": 44,
   "metadata": {},
   "outputs": [
    {
     "name": "stdout",
     "output_type": "stream",
     "text": [
      "best_model = DecisionTreeClassifier(max_depth=6, random_state=12345)\n",
      "F1 = 0.576544315129812\n"
     ]
    }
   ],
   "source": [
    "best_model = decision_tree(features_upsampled, target_upsampled)"
   ]
  },
  {
   "cell_type": "code",
   "execution_count": 45,
   "metadata": {},
   "outputs": [
    {
     "data": {
      "image/png": "[encoded data removed]",
      "text/plain": [
       "<Figure size 432x288 with 1 Axes>"
      ]
     },
     "metadata": {
      "needs_background": "light"
     },
     "output_type": "display_data"
    },
    {
     "name": "stdout",
     "output_type": "stream",
     "text": [
      "Площаль под ROC-кривой: 0.8363988025004974\n"
     ]
    }
   ],
   "source": [
    "auc_roc(best_model)"
   ]
  },
  {
   "cell_type": "markdown",
   "metadata": {},
   "source": [
    "Обучим случайный лес:"
   ]
  },
  {
   "cell_type": "markdown",
   "metadata": {},
   "source": [
    "Сначала найдем оптимальную величину глубины дерева:"
   ]
  },
  {
   "cell_type": "code",
   "execution_count": 46,
   "metadata": {},
   "outputs": [
    {
     "name": "stdout",
     "output_type": "stream",
     "text": [
      "best_model = RandomForestClassifier(max_depth=11, n_estimators=30, random_state=12345)\n",
      "F1 = 0.6321585903083701\n",
      "CPU times: user 4.77 s, sys: 17.7 ms, total: 4.79 s\n",
      "Wall time: 4.8 s\n"
     ]
    }
   ],
   "source": [
    "%%time\n",
    "best_model = None\n",
    "best_f1 = 0\n",
    "for i in range(1,20):\n",
    "    model = RandomForestClassifier(random_state=12345,\n",
    "                                   max_depth=i,\n",
    "                                   n_estimators=30)\n",
    "    model.fit(features_upsampled, target_upsampled)\n",
    "    predicted_valid = model.predict(features_valid)\n",
    "    f1 = f1_score(target_valid, predicted_valid)\n",
    "    if f1 > best_f1:\n",
    "        best_model = model\n",
    "        best_f1 = f1\n",
    "print('best_model =', best_model)\n",
    "print('F1 =', best_f1)"
   ]
  },
  {
   "cell_type": "markdown",
   "metadata": {},
   "source": [
    "Найдем оптимальное количество деревьев решений:"
   ]
  },
  {
   "cell_type": "code",
   "execution_count": 47,
   "metadata": {},
   "outputs": [
    {
     "name": "stdout",
     "output_type": "stream",
     "text": [
      "best_model = RandomForestClassifier(max_depth=11, n_estimators=62, random_state=12345)\n",
      "F1 = 0.6407119021134594\n",
      "CPU times: user 23.3 s, sys: 87.2 ms, total: 23.4 s\n",
      "Wall time: 23.4 s\n"
     ]
    }
   ],
   "source": [
    "%%time\n",
    "best_model = None\n",
    "best_f1 = 0\n",
    "for i in range(1,70):\n",
    "    model = RandomForestClassifier(random_state=12345,\n",
    "                                   max_depth=11,\n",
    "                                   n_estimators=i)\n",
    "    model.fit(features_upsampled, target_upsampled)\n",
    "    predicted_valid = model.predict(features_valid)\n",
    "    f1 = f1_score(target_valid, predicted_valid)\n",
    "    if f1 > best_f1:\n",
    "        best_model = model\n",
    "        best_f1 = f1\n",
    "print('best_model =', best_model)\n",
    "print('F1 =', best_f1)"
   ]
  },
  {
   "cell_type": "code",
   "execution_count": 48,
   "metadata": {},
   "outputs": [
    {
     "data": {
      "image/png": "[encoded data removed]",
      "text/plain": [
       "<Figure size 432x288 with 1 Axes>"
      ]
     },
     "metadata": {
      "needs_background": "light"
     },
     "output_type": "display_data"
    },
    {
     "name": "stdout",
     "output_type": "stream",
     "text": [
      "Площаль под ROC-кривой: 0.8686606483216652\n"
     ]
    }
   ],
   "source": [
    "auc_roc(best_model)"
   ]
  },
  {
   "cell_type": "markdown",
   "metadata": {},
   "source": [
    "Выводы: метрики каждой модели при учете дисбаланса улучшились."
   ]
  },
  {
   "cell_type": "markdown",
   "metadata": {},
   "source": [
    "### Уменьшение выборки"
   ]
  },
  {
   "cell_type": "markdown",
   "metadata": {},
   "source": [
    "Уменьшим количество нулевых целевых признаков тем самым убрав дисбаланс классов:"
   ]
  },
  {
   "cell_type": "code",
   "execution_count": 49,
   "metadata": {},
   "outputs": [],
   "source": [
    "fraction = 0.255\n",
    "features_downsampled = pd.concat(\n",
    "    [features_zeros.sample(frac=fraction,\n",
    "                           random_state=12345)] + [features_ones])\n",
    "target_downsampled = pd.concat(\n",
    "    [target_zeros.sample(frac=fraction,\n",
    "                         random_state=12345)] + [target_ones])\n",
    "features_downsampled, target_downsampled = shuffle(features_downsampled,\n",
    "                                                   target_downsampled,\n",
    "                                                   random_state=12345)"
   ]
  },
  {
   "cell_type": "markdown",
   "metadata": {},
   "source": [
    "Обучим логистическую регрессию:"
   ]
  },
  {
   "cell_type": "code",
   "execution_count": 50,
   "metadata": {},
   "outputs": [
    {
     "name": "stdout",
     "output_type": "stream",
     "text": [
      "F1: 0.5121527777777778\n"
     ]
    }
   ],
   "source": [
    "model = logistic_regression(features_downsampled, target_downsampled)"
   ]
  },
  {
   "cell_type": "code",
   "execution_count": 51,
   "metadata": {},
   "outputs": [
    {
     "data": {
      "image/png": "[encoded data removed]",
      "text/plain": [
       "<Figure size 432x288 with 1 Axes>"
      ]
     },
     "metadata": {
      "needs_background": "light"
     },
     "output_type": "display_data"
    },
    {
     "name": "stdout",
     "output_type": "stream",
     "text": [
      "Площаль под ROC-кривой: 0.7913552998298761\n"
     ]
    }
   ],
   "source": [
    "auc_roc(model)"
   ]
  },
  {
   "cell_type": "markdown",
   "metadata": {},
   "source": [
    "Обучим дерево решений:"
   ]
  },
  {
   "cell_type": "code",
   "execution_count": 52,
   "metadata": {},
   "outputs": [
    {
     "name": "stdout",
     "output_type": "stream",
     "text": [
      "best_model = DecisionTreeClassifier(max_depth=6, random_state=12345)\n",
      "F1 = 0.5974534769833496\n"
     ]
    }
   ],
   "source": [
    "best_model = decision_tree(features_downsampled, target_downsampled)"
   ]
  },
  {
   "cell_type": "code",
   "execution_count": 53,
   "metadata": {},
   "outputs": [
    {
     "data": {
      "image/png": "[encoded data removed]",
      "text/plain": [
       "<Figure size 432x288 with 1 Axes>"
      ]
     },
     "metadata": {
      "needs_background": "light"
     },
     "output_type": "display_data"
    },
    {
     "name": "stdout",
     "output_type": "stream",
     "text": [
      "Площаль под ROC-кривой: 0.8421827065894861\n"
     ]
    }
   ],
   "source": [
    "auc_roc(best_model)"
   ]
  },
  {
   "cell_type": "markdown",
   "metadata": {},
   "source": [
    "Обучим случайный лес:"
   ]
  },
  {
   "cell_type": "markdown",
   "metadata": {},
   "source": [
    "Сначала найдем оптимальную величину глубины дерева:"
   ]
  },
  {
   "cell_type": "code",
   "execution_count": 54,
   "metadata": {},
   "outputs": [
    {
     "name": "stdout",
     "output_type": "stream",
     "text": [
      "best_model = RandomForestClassifier(max_depth=9, n_estimators=30, random_state=12345)\n",
      "F1 = 0.6164519326065412\n",
      "CPU times: user 1.98 s, sys: 3.74 ms, total: 1.98 s\n",
      "Wall time: 1.99 s\n"
     ]
    }
   ],
   "source": [
    "%%time\n",
    "best_model = None\n",
    "best_f1 = 0\n",
    "for i in range(1,20):\n",
    "    model = RandomForestClassifier(random_state=12345,\n",
    "                                   max_depth=i,\n",
    "                                   n_estimators=30)\n",
    "    model.fit(features_downsampled, target_downsampled)\n",
    "    predicted_valid = model.predict(features_valid)\n",
    "    f1 = f1_score(target_valid, predicted_valid)\n",
    "    if f1 > best_f1:\n",
    "        best_model = model\n",
    "        best_f1 = f1\n",
    "print('best_model =', best_model)\n",
    "print('F1 =', best_f1)"
   ]
  },
  {
   "cell_type": "markdown",
   "metadata": {},
   "source": [
    "Найдем оптимальное количество деревьев решений:"
   ]
  },
  {
   "cell_type": "code",
   "execution_count": 55,
   "metadata": {},
   "outputs": [
    {
     "name": "stdout",
     "output_type": "stream",
     "text": [
      "best_model = RandomForestClassifier(max_depth=9, n_estimators=59, random_state=12345)\n",
      "F1 = 0.6265761396702231\n",
      "CPU times: user 8.4 s, sys: 43.1 ms, total: 8.45 s\n",
      "Wall time: 8.46 s\n"
     ]
    }
   ],
   "source": [
    "%%time\n",
    "best_model = None\n",
    "best_f1 = 0\n",
    "for i in range(1,70):\n",
    "    model = RandomForestClassifier(random_state=12345,\n",
    "                                   max_depth=9,\n",
    "                                   n_estimators=i)\n",
    "    model.fit(features_downsampled, target_downsampled)\n",
    "    predicted_valid = model.predict(features_valid)\n",
    "    f1 = f1_score(target_valid, predicted_valid)\n",
    "    if f1 > best_f1:\n",
    "        best_model = model\n",
    "        best_f1 = f1\n",
    "print('best_model =', best_model)\n",
    "print('F1 =', best_f1)"
   ]
  },
  {
   "cell_type": "code",
   "execution_count": 56,
   "metadata": {},
   "outputs": [
    {
     "data": {
      "image/png": "[encoded data removed]",
      "text/plain": [
       "<Figure size 432x288 with 1 Axes>"
      ]
     },
     "metadata": {
      "needs_background": "light"
     },
     "output_type": "display_data"
    },
    {
     "name": "stdout",
     "output_type": "stream",
     "text": [
      "Площаль под ROC-кривой: 0.8729191441055848\n"
     ]
    }
   ],
   "source": [
    "auc_roc(best_model)"
   ]
  },
  {
   "cell_type": "markdown",
   "metadata": {},
   "source": [
    "Вывод: метод уменьшения обучающей выборки ухудшает метрики моделей по сравнению с методами ее увеличения или взвешивания классов."
   ]
  },
  {
   "cell_type": "markdown",
   "metadata": {},
   "source": [
    "## Тестирование модели"
   ]
  },
  {
   "cell_type": "markdown",
   "metadata": {},
   "source": [
    "Лучшей моделью оказалась модель случайного леса с сбалансированными весами классов, проведем финальное тестирование на валидационной выборке:"
   ]
  },
  {
   "cell_type": "code",
   "execution_count": 57,
   "metadata": {},
   "outputs": [
    {
     "name": "stdout",
     "output_type": "stream",
     "text": [
      "model = RandomForestClassifier(class_weight='balanced', max_depth=10, n_estimators=12,\n",
      "                       random_state=12345)\n",
      "F1 = 0.6182237600922721\n"
     ]
    }
   ],
   "source": [
    "model = RandomForestClassifier(random_state=12345,\n",
    "                               max_depth=10,\n",
    "                               n_estimators=12,\n",
    "                               class_weight='balanced')\n",
    "model.fit(features_train_80, target_train_80)\n",
    "predicted_test = model.predict(features_test)\n",
    "f1 = f1_score(target_test, predicted_test)\n",
    "print('model =', model)\n",
    "print('F1 =', f1)"
   ]
  },
  {
   "cell_type": "code",
   "execution_count": 58,
   "metadata": {},
   "outputs": [
    {
     "data": {
      "image/png": "[encoded data removed]",
      "text/plain": [
       "<Figure size 432x288 with 1 Axes>"
      ]
     },
     "metadata": {
      "needs_background": "light"
     },
     "output_type": "display_data"
    },
    {
     "name": "stdout",
     "output_type": "stream",
     "text": [
      "Площаль под ROC-кривой: 0.8549443125714312\n"
     ]
    }
   ],
   "source": [
    "probabilities_test = model.predict_proba(features_test)\n",
    "probabilities_one_test = probabilities_test[:, 1]\n",
    "fpr, tpr, thresholds = roc_curve(target_test, probabilities_one_test)\n",
    "plt.figure()\n",
    "plt.plot(fpr, tpr)\n",
    "plt.xlim([0.0, 1.0])\n",
    "plt.ylim([0.0, 1.0])\n",
    "plt.plot([0, 1], [0, 1], linestyle='--')\n",
    "plt.xlabel('False Positive Rate')\n",
    "plt.ylabel('True Positive Rate')\n",
    "plt.title('ROC-кривая')\n",
    "plt.show()\n",
    "auc_roc = roc_auc_score(target_test, probabilities_one_test)\n",
    "print('Площаль под ROC-кривой:', auc_roc)"
   ]
  },
  {
   "cell_type": "markdown",
   "metadata": {},
   "source": [
    "Вывод: на тестовой выборке значение метрики F1 = 0.618"
   ]
  },
  {
   "cell_type": "markdown",
   "metadata": {},
   "source": [
    "## Вывод"
   ]
  },
  {
   "cell_type": "markdown",
   "metadata": {},
   "source": [
    "- была выполнена предобработка данных: удалены лишние признаки и заполнены пропуски;\n",
    "- данные были разделены на обучающую и валидационную выборки;\n",
    "- категориальные признаки преобразовали в численные методом ОНЕ;\n",
    "- выполнено масштабирование численных признаков методом стандартизации;\n",
    "- были обучены модели линейной регрессии, дерева решений и случайного леса с учетом дисбаланса классов и без учета дисбаланса;\n",
    "- выявлено что при учете дисбаланса метрики моделей улучшаются."
   ]
  }
 ],
 "metadata": {
  "ExecuteTimeLog": [
   {
    "duration": 43,
    "start_time": "2022-05-01T13:48:35.921Z"
   },
   {
    "duration": 404,
    "start_time": "2022-05-01T13:48:46.238Z"
   },
   {
    "duration": 22,
    "start_time": "2022-05-01T13:48:46.644Z"
   },
   {
    "duration": 18,
    "start_time": "2022-05-01T13:48:46.668Z"
   },
   {
    "duration": 12,
    "start_time": "2022-05-01T13:48:46.688Z"
   },
   {
    "duration": 44,
    "start_time": "2022-05-02T09:37:58.086Z"
   },
   {
    "duration": 365,
    "start_time": "2022-05-02T09:38:02.926Z"
   },
   {
    "duration": 28,
    "start_time": "2022-05-02T09:38:03.293Z"
   },
   {
    "duration": 17,
    "start_time": "2022-05-02T09:38:03.323Z"
   },
   {
    "duration": 12,
    "start_time": "2022-05-02T09:38:03.342Z"
   },
   {
    "duration": 6,
    "start_time": "2022-05-02T09:38:03.356Z"
   },
   {
    "duration": 5,
    "start_time": "2022-05-02T09:38:52.245Z"
   },
   {
    "duration": 10442,
    "start_time": "2022-05-02T09:40:13.625Z"
   },
   {
    "duration": 364,
    "start_time": "2022-05-02T09:40:48.721Z"
   },
   {
    "duration": 28,
    "start_time": "2022-05-02T09:40:49.087Z"
   },
   {
    "duration": 17,
    "start_time": "2022-05-02T09:40:49.116Z"
   },
   {
    "duration": 11,
    "start_time": "2022-05-02T09:40:49.135Z"
   },
   {
    "duration": 5,
    "start_time": "2022-05-02T09:40:49.148Z"
   },
   {
    "duration": 5,
    "start_time": "2022-05-02T09:40:49.155Z"
   },
   {
    "duration": 4688,
    "start_time": "2022-05-02T09:40:49.161Z"
   },
   {
    "duration": 3387,
    "start_time": "2022-05-02T09:41:18.390Z"
   },
   {
    "duration": 23,
    "start_time": "2022-05-02T09:41:24.790Z"
   },
   {
    "duration": 20,
    "start_time": "2022-05-02T09:41:37.833Z"
   },
   {
    "duration": 12,
    "start_time": "2022-05-02T09:47:38.292Z"
   },
   {
    "duration": 5,
    "start_time": "2022-05-02T09:47:58.070Z"
   },
   {
    "duration": 11,
    "start_time": "2022-05-02T09:48:53.490Z"
   },
   {
    "duration": 5,
    "start_time": "2022-05-02T09:50:29.270Z"
   },
   {
    "duration": 11,
    "start_time": "2022-05-02T09:50:45.870Z"
   },
   {
    "duration": 14,
    "start_time": "2022-05-02T09:50:54.929Z"
   },
   {
    "duration": 4,
    "start_time": "2022-05-02T09:52:34.389Z"
   },
   {
    "duration": 7,
    "start_time": "2022-05-02T09:52:39.275Z"
   },
   {
    "duration": 4,
    "start_time": "2022-05-02T09:52:42.564Z"
   },
   {
    "duration": 730,
    "start_time": "2022-05-02T09:52:57.889Z"
   },
   {
    "duration": 3,
    "start_time": "2022-05-02T09:53:06.109Z"
   },
   {
    "duration": 12,
    "start_time": "2022-05-02T09:53:09.884Z"
   },
   {
    "duration": 403,
    "start_time": "2022-05-02T09:53:49.862Z"
   },
   {
    "duration": 29,
    "start_time": "2022-05-02T09:53:50.267Z"
   },
   {
    "duration": 17,
    "start_time": "2022-05-02T09:53:50.298Z"
   },
   {
    "duration": 14,
    "start_time": "2022-05-02T09:53:50.316Z"
   },
   {
    "duration": 10,
    "start_time": "2022-05-02T09:53:50.332Z"
   },
   {
    "duration": 14,
    "start_time": "2022-05-02T09:53:50.344Z"
   },
   {
    "duration": 8,
    "start_time": "2022-05-02T09:53:50.359Z"
   },
   {
    "duration": 14,
    "start_time": "2022-05-02T09:53:50.369Z"
   },
   {
    "duration": 6,
    "start_time": "2022-05-02T09:53:50.384Z"
   },
   {
    "duration": 10,
    "start_time": "2022-05-02T09:54:21.102Z"
   },
   {
    "duration": 13,
    "start_time": "2022-05-02T09:55:06.146Z"
   },
   {
    "duration": 17,
    "start_time": "2022-05-02T09:55:40.022Z"
   },
   {
    "duration": 10,
    "start_time": "2022-05-02T09:55:49.623Z"
   },
   {
    "duration": 7,
    "start_time": "2022-05-02T09:57:20.202Z"
   },
   {
    "duration": 6,
    "start_time": "2022-05-02T09:57:40.542Z"
   },
   {
    "duration": 344,
    "start_time": "2022-05-02T09:57:58.642Z"
   },
   {
    "duration": 27,
    "start_time": "2022-05-02T09:57:58.988Z"
   },
   {
    "duration": 18,
    "start_time": "2022-05-02T09:57:59.017Z"
   },
   {
    "duration": 11,
    "start_time": "2022-05-02T09:57:59.036Z"
   },
   {
    "duration": 2,
    "start_time": "2022-05-02T09:57:59.049Z"
   },
   {
    "duration": 7,
    "start_time": "2022-05-02T09:57:59.052Z"
   },
   {
    "duration": 5,
    "start_time": "2022-05-02T09:57:59.060Z"
   },
   {
    "duration": 34,
    "start_time": "2022-05-02T09:57:59.066Z"
   },
   {
    "duration": 4,
    "start_time": "2022-05-02T09:57:59.102Z"
   },
   {
    "duration": 11,
    "start_time": "2022-05-02T09:58:09.541Z"
   },
   {
    "duration": 6,
    "start_time": "2022-05-02T09:58:36.901Z"
   },
   {
    "duration": 10,
    "start_time": "2022-05-02T09:58:42.521Z"
   },
   {
    "duration": 8,
    "start_time": "2022-05-02T09:59:24.830Z"
   },
   {
    "duration": 6,
    "start_time": "2022-05-02T09:59:46.282Z"
   },
   {
    "duration": 64,
    "start_time": "2022-05-02T10:02:06.511Z"
   },
   {
    "duration": 367,
    "start_time": "2022-05-02T10:02:47.430Z"
   },
   {
    "duration": 40,
    "start_time": "2022-05-02T10:02:47.798Z"
   },
   {
    "duration": 23,
    "start_time": "2022-05-02T10:02:47.839Z"
   },
   {
    "duration": 14,
    "start_time": "2022-05-02T10:02:47.863Z"
   },
   {
    "duration": 3,
    "start_time": "2022-05-02T10:02:47.879Z"
   },
   {
    "duration": 7,
    "start_time": "2022-05-02T10:02:47.883Z"
   },
   {
    "duration": 9,
    "start_time": "2022-05-02T10:02:47.892Z"
   },
   {
    "duration": 12,
    "start_time": "2022-05-02T10:02:47.902Z"
   },
   {
    "duration": 6,
    "start_time": "2022-05-02T10:02:47.916Z"
   },
   {
    "duration": 11,
    "start_time": "2022-05-02T10:02:47.923Z"
   },
   {
    "duration": 394,
    "start_time": "2022-05-02T10:04:32.484Z"
   },
   {
    "duration": 31,
    "start_time": "2022-05-02T10:04:32.880Z"
   },
   {
    "duration": 16,
    "start_time": "2022-05-02T10:04:32.913Z"
   },
   {
    "duration": 11,
    "start_time": "2022-05-02T10:04:32.931Z"
   },
   {
    "duration": 3,
    "start_time": "2022-05-02T10:04:32.943Z"
   },
   {
    "duration": 12,
    "start_time": "2022-05-02T10:04:32.947Z"
   },
   {
    "duration": 9,
    "start_time": "2022-05-02T10:04:32.960Z"
   },
   {
    "duration": 16,
    "start_time": "2022-05-02T10:04:32.970Z"
   },
   {
    "duration": 13,
    "start_time": "2022-05-02T10:04:32.987Z"
   },
   {
    "duration": 9,
    "start_time": "2022-05-02T10:04:33.002Z"
   },
   {
    "duration": 15,
    "start_time": "2022-05-02T10:06:24.496Z"
   },
   {
    "duration": 5,
    "start_time": "2022-05-02T10:07:46.055Z"
   },
   {
    "duration": 6,
    "start_time": "2022-05-02T10:08:00.934Z"
   },
   {
    "duration": 6,
    "start_time": "2022-05-02T10:08:20.243Z"
   },
   {
    "duration": 10,
    "start_time": "2022-05-02T10:09:22.610Z"
   },
   {
    "duration": 401,
    "start_time": "2022-05-02T10:09:34.377Z"
   },
   {
    "duration": 28,
    "start_time": "2022-05-02T10:09:34.780Z"
   },
   {
    "duration": 18,
    "start_time": "2022-05-02T10:09:34.810Z"
   },
   {
    "duration": 11,
    "start_time": "2022-05-02T10:09:34.829Z"
   },
   {
    "duration": 2,
    "start_time": "2022-05-02T10:09:34.842Z"
   },
   {
    "duration": 6,
    "start_time": "2022-05-02T10:09:34.846Z"
   },
   {
    "duration": 5,
    "start_time": "2022-05-02T10:09:34.853Z"
   },
   {
    "duration": 13,
    "start_time": "2022-05-02T10:09:34.859Z"
   },
   {
    "duration": 28,
    "start_time": "2022-05-02T10:09:34.874Z"
   },
   {
    "duration": 11,
    "start_time": "2022-05-02T10:09:34.904Z"
   },
   {
    "duration": 11,
    "start_time": "2022-05-02T10:09:34.917Z"
   },
   {
    "duration": 5,
    "start_time": "2022-05-02T10:26:48.861Z"
   },
   {
    "duration": 13735,
    "start_time": "2022-05-02T10:35:08.203Z"
   },
   {
    "duration": 4900,
    "start_time": "2022-05-02T10:36:11.423Z"
   },
   {
    "duration": 418,
    "start_time": "2022-05-02T10:36:21.701Z"
   },
   {
    "duration": 40,
    "start_time": "2022-05-02T10:36:22.121Z"
   },
   {
    "duration": 17,
    "start_time": "2022-05-02T10:36:22.162Z"
   },
   {
    "duration": 13,
    "start_time": "2022-05-02T10:36:22.181Z"
   },
   {
    "duration": 3,
    "start_time": "2022-05-02T10:36:22.196Z"
   },
   {
    "duration": 7,
    "start_time": "2022-05-02T10:36:22.200Z"
   },
   {
    "duration": 7,
    "start_time": "2022-05-02T10:36:22.208Z"
   },
   {
    "duration": 14,
    "start_time": "2022-05-02T10:36:22.216Z"
   },
   {
    "duration": 4,
    "start_time": "2022-05-02T10:36:22.231Z"
   },
   {
    "duration": 10,
    "start_time": "2022-05-02T10:36:22.237Z"
   },
   {
    "duration": 12,
    "start_time": "2022-05-02T10:36:22.249Z"
   },
   {
    "duration": 4275,
    "start_time": "2022-05-02T10:36:22.263Z"
   },
   {
    "duration": 0,
    "start_time": "2022-05-02T10:36:26.539Z"
   },
   {
    "duration": 7,
    "start_time": "2022-05-02T10:36:51.180Z"
   },
   {
    "duration": 4,
    "start_time": "2022-05-02T10:38:32.300Z"
   },
   {
    "duration": 5,
    "start_time": "2022-05-02T10:38:48.783Z"
   },
   {
    "duration": 10,
    "start_time": "2022-05-02T10:38:59.140Z"
   },
   {
    "duration": 9,
    "start_time": "2022-05-02T10:40:12.381Z"
   },
   {
    "duration": 9,
    "start_time": "2022-05-02T10:40:13.941Z"
   },
   {
    "duration": 432,
    "start_time": "2022-05-02T10:40:27.244Z"
   },
   {
    "duration": 35,
    "start_time": "2022-05-02T10:40:27.678Z"
   },
   {
    "duration": 24,
    "start_time": "2022-05-02T10:40:27.715Z"
   },
   {
    "duration": 15,
    "start_time": "2022-05-02T10:40:27.741Z"
   },
   {
    "duration": 3,
    "start_time": "2022-05-02T10:40:27.758Z"
   },
   {
    "duration": 8,
    "start_time": "2022-05-02T10:40:27.763Z"
   },
   {
    "duration": 5,
    "start_time": "2022-05-02T10:40:27.773Z"
   },
   {
    "duration": 31,
    "start_time": "2022-05-02T10:40:27.779Z"
   },
   {
    "duration": 3,
    "start_time": "2022-05-02T10:40:27.812Z"
   },
   {
    "duration": 13,
    "start_time": "2022-05-02T10:40:27.816Z"
   },
   {
    "duration": 14,
    "start_time": "2022-05-02T10:40:27.830Z"
   },
   {
    "duration": 8,
    "start_time": "2022-05-02T10:40:27.846Z"
   },
   {
    "duration": 9,
    "start_time": "2022-05-02T10:40:27.855Z"
   },
   {
    "duration": 4,
    "start_time": "2022-05-02T10:40:27.866Z"
   },
   {
    "duration": 863,
    "start_time": "2022-05-02T10:43:09.560Z"
   },
   {
    "duration": 2,
    "start_time": "2022-05-02T10:43:26.058Z"
   },
   {
    "duration": 42,
    "start_time": "2022-05-02T10:46:35.985Z"
   },
   {
    "duration": 2,
    "start_time": "2022-05-02T10:49:41.824Z"
   },
   {
    "duration": 6,
    "start_time": "2022-05-02T10:50:22.553Z"
   },
   {
    "duration": 8,
    "start_time": "2022-05-02T10:52:28.391Z"
   },
   {
    "duration": 1278,
    "start_time": "2022-05-02T10:53:25.822Z"
   },
   {
    "duration": 29,
    "start_time": "2022-05-02T10:53:27.101Z"
   },
   {
    "duration": 17,
    "start_time": "2022-05-02T10:53:27.131Z"
   },
   {
    "duration": 12,
    "start_time": "2022-05-02T10:53:27.150Z"
   },
   {
    "duration": 3,
    "start_time": "2022-05-02T10:53:27.163Z"
   },
   {
    "duration": 9,
    "start_time": "2022-05-02T10:53:27.167Z"
   },
   {
    "duration": 5,
    "start_time": "2022-05-02T10:53:27.177Z"
   },
   {
    "duration": 26,
    "start_time": "2022-05-02T10:53:27.183Z"
   },
   {
    "duration": 3,
    "start_time": "2022-05-02T10:53:27.211Z"
   },
   {
    "duration": 9,
    "start_time": "2022-05-02T10:53:27.217Z"
   },
   {
    "duration": 12,
    "start_time": "2022-05-02T10:53:27.227Z"
   },
   {
    "duration": 8,
    "start_time": "2022-05-02T10:53:27.240Z"
   },
   {
    "duration": 10,
    "start_time": "2022-05-02T10:53:27.250Z"
   },
   {
    "duration": 7,
    "start_time": "2022-05-02T10:53:27.261Z"
   },
   {
    "duration": 34,
    "start_time": "2022-05-02T10:53:27.269Z"
   },
   {
    "duration": 5,
    "start_time": "2022-05-02T10:53:27.305Z"
   },
   {
    "duration": 15,
    "start_time": "2022-05-02T10:53:57.551Z"
   },
   {
    "duration": 5,
    "start_time": "2022-05-02T10:54:10.242Z"
   },
   {
    "duration": 5,
    "start_time": "2022-05-02T10:54:26.271Z"
   },
   {
    "duration": 5,
    "start_time": "2022-05-02T10:56:20.917Z"
   },
   {
    "duration": 5,
    "start_time": "2022-05-02T10:56:22.055Z"
   },
   {
    "duration": 6,
    "start_time": "2022-05-02T10:57:18.517Z"
   },
   {
    "duration": 6,
    "start_time": "2022-05-02T11:06:38.762Z"
   },
   {
    "duration": 89,
    "start_time": "2022-05-02T11:09:33.024Z"
   },
   {
    "duration": 9,
    "start_time": "2022-05-02T11:09:57.802Z"
   },
   {
    "duration": 6,
    "start_time": "2022-05-02T11:10:05.461Z"
   },
   {
    "duration": 5,
    "start_time": "2022-05-02T11:14:55.529Z"
   },
   {
    "duration": 6,
    "start_time": "2022-05-02T11:15:23.557Z"
   },
   {
    "duration": 6,
    "start_time": "2022-05-02T11:16:30.396Z"
   },
   {
    "duration": 6,
    "start_time": "2022-05-02T11:17:19.867Z"
   },
   {
    "duration": 8,
    "start_time": "2022-05-02T11:19:44.328Z"
   },
   {
    "duration": 2,
    "start_time": "2022-05-02T11:19:49.267Z"
   },
   {
    "duration": 32,
    "start_time": "2022-05-02T11:19:49.526Z"
   },
   {
    "duration": 5,
    "start_time": "2022-05-02T11:19:59.145Z"
   },
   {
    "duration": 7,
    "start_time": "2022-05-02T11:19:59.606Z"
   },
   {
    "duration": 3,
    "start_time": "2022-05-02T11:20:00.147Z"
   },
   {
    "duration": 24,
    "start_time": "2022-05-02T11:20:00.827Z"
   },
   {
    "duration": 5,
    "start_time": "2022-05-02T11:20:22.406Z"
   },
   {
    "duration": 3,
    "start_time": "2022-05-02T11:20:23.146Z"
   },
   {
    "duration": 24,
    "start_time": "2022-05-02T11:20:23.765Z"
   },
   {
    "duration": 1212,
    "start_time": "2022-05-02T11:20:33.685Z"
   },
   {
    "duration": 29,
    "start_time": "2022-05-02T11:20:34.899Z"
   },
   {
    "duration": 18,
    "start_time": "2022-05-02T11:20:34.929Z"
   },
   {
    "duration": 11,
    "start_time": "2022-05-02T11:20:34.950Z"
   },
   {
    "duration": 3,
    "start_time": "2022-05-02T11:20:34.962Z"
   },
   {
    "duration": 7,
    "start_time": "2022-05-02T11:20:34.967Z"
   },
   {
    "duration": 6,
    "start_time": "2022-05-02T11:20:34.976Z"
   },
   {
    "duration": 14,
    "start_time": "2022-05-02T11:20:35.000Z"
   },
   {
    "duration": 4,
    "start_time": "2022-05-02T11:20:35.015Z"
   },
   {
    "duration": 11,
    "start_time": "2022-05-02T11:20:35.022Z"
   },
   {
    "duration": 14,
    "start_time": "2022-05-02T11:20:35.034Z"
   },
   {
    "duration": 8,
    "start_time": "2022-05-02T11:20:35.050Z"
   },
   {
    "duration": 40,
    "start_time": "2022-05-02T11:20:35.060Z"
   },
   {
    "duration": 6,
    "start_time": "2022-05-02T11:20:35.102Z"
   },
   {
    "duration": 5,
    "start_time": "2022-05-02T11:20:35.110Z"
   },
   {
    "duration": 2,
    "start_time": "2022-05-02T11:20:35.117Z"
   },
   {
    "duration": 23,
    "start_time": "2022-05-02T11:20:35.121Z"
   },
   {
    "duration": 5,
    "start_time": "2022-05-02T11:20:35.145Z"
   },
   {
    "duration": 20,
    "start_time": "2022-05-02T11:21:06.425Z"
   },
   {
    "duration": 1151,
    "start_time": "2022-05-02T11:21:20.228Z"
   },
   {
    "duration": 29,
    "start_time": "2022-05-02T11:21:21.381Z"
   },
   {
    "duration": 17,
    "start_time": "2022-05-02T11:21:21.411Z"
   },
   {
    "duration": 12,
    "start_time": "2022-05-02T11:21:21.430Z"
   },
   {
    "duration": 3,
    "start_time": "2022-05-02T11:21:21.443Z"
   },
   {
    "duration": 10,
    "start_time": "2022-05-02T11:21:21.447Z"
   },
   {
    "duration": 12,
    "start_time": "2022-05-02T11:21:21.458Z"
   },
   {
    "duration": 15,
    "start_time": "2022-05-02T11:21:21.471Z"
   },
   {
    "duration": 5,
    "start_time": "2022-05-02T11:21:21.499Z"
   },
   {
    "duration": 12,
    "start_time": "2022-05-02T11:21:21.507Z"
   },
   {
    "duration": 13,
    "start_time": "2022-05-02T11:21:21.521Z"
   },
   {
    "duration": 8,
    "start_time": "2022-05-02T11:21:21.536Z"
   },
   {
    "duration": 10,
    "start_time": "2022-05-02T11:21:21.545Z"
   },
   {
    "duration": 6,
    "start_time": "2022-05-02T11:21:21.556Z"
   },
   {
    "duration": 6,
    "start_time": "2022-05-02T11:21:21.563Z"
   },
   {
    "duration": 30,
    "start_time": "2022-05-02T11:21:21.570Z"
   },
   {
    "duration": 24,
    "start_time": "2022-05-02T11:21:21.601Z"
   },
   {
    "duration": 4,
    "start_time": "2022-05-02T11:21:21.626Z"
   },
   {
    "duration": 20,
    "start_time": "2022-05-02T11:21:31.303Z"
   },
   {
    "duration": 19,
    "start_time": "2022-05-02T11:21:48.603Z"
   },
   {
    "duration": 21,
    "start_time": "2022-05-02T11:21:51.143Z"
   },
   {
    "duration": 20,
    "start_time": "2022-05-02T11:21:54.363Z"
   },
   {
    "duration": 19,
    "start_time": "2022-05-02T11:22:31.009Z"
   },
   {
    "duration": 18,
    "start_time": "2022-05-02T11:22:32.783Z"
   },
   {
    "duration": 17,
    "start_time": "2022-05-02T11:22:35.146Z"
   },
   {
    "duration": 1111,
    "start_time": "2022-05-02T11:22:39.602Z"
   },
   {
    "duration": 29,
    "start_time": "2022-05-02T11:22:40.715Z"
   },
   {
    "duration": 17,
    "start_time": "2022-05-02T11:22:40.745Z"
   },
   {
    "duration": 11,
    "start_time": "2022-05-02T11:22:40.763Z"
   },
   {
    "duration": 2,
    "start_time": "2022-05-02T11:22:40.776Z"
   },
   {
    "duration": 7,
    "start_time": "2022-05-02T11:22:40.780Z"
   },
   {
    "duration": 14,
    "start_time": "2022-05-02T11:22:40.788Z"
   },
   {
    "duration": 19,
    "start_time": "2022-05-02T11:22:40.803Z"
   },
   {
    "duration": 4,
    "start_time": "2022-05-02T11:22:40.824Z"
   },
   {
    "duration": 11,
    "start_time": "2022-05-02T11:22:40.830Z"
   },
   {
    "duration": 13,
    "start_time": "2022-05-02T11:22:40.843Z"
   },
   {
    "duration": 8,
    "start_time": "2022-05-02T11:22:40.857Z"
   },
   {
    "duration": 33,
    "start_time": "2022-05-02T11:22:40.867Z"
   },
   {
    "duration": 5,
    "start_time": "2022-05-02T11:22:40.903Z"
   },
   {
    "duration": 6,
    "start_time": "2022-05-02T11:22:40.909Z"
   },
   {
    "duration": 4,
    "start_time": "2022-05-02T11:22:40.916Z"
   },
   {
    "duration": 23,
    "start_time": "2022-05-02T11:22:40.922Z"
   },
   {
    "duration": 5,
    "start_time": "2022-05-02T11:22:40.946Z"
   },
   {
    "duration": 20,
    "start_time": "2022-05-02T11:22:53.050Z"
   },
   {
    "duration": 10,
    "start_time": "2022-05-02T11:23:20.349Z"
   },
   {
    "duration": 1293,
    "start_time": "2022-05-02T11:27:22.187Z"
   },
   {
    "duration": 30,
    "start_time": "2022-05-02T11:27:23.482Z"
   },
   {
    "duration": 19,
    "start_time": "2022-05-02T11:27:23.514Z"
   },
   {
    "duration": 12,
    "start_time": "2022-05-02T11:27:23.535Z"
   },
   {
    "duration": 3,
    "start_time": "2022-05-02T11:27:23.548Z"
   },
   {
    "duration": 9,
    "start_time": "2022-05-02T11:27:23.552Z"
   },
   {
    "duration": 5,
    "start_time": "2022-05-02T11:27:23.562Z"
   },
   {
    "duration": 41,
    "start_time": "2022-05-02T11:27:23.569Z"
   },
   {
    "duration": 4,
    "start_time": "2022-05-02T11:27:23.612Z"
   },
   {
    "duration": 10,
    "start_time": "2022-05-02T11:27:23.619Z"
   },
   {
    "duration": 20,
    "start_time": "2022-05-02T11:27:23.631Z"
   },
   {
    "duration": 10,
    "start_time": "2022-05-02T11:27:23.652Z"
   },
   {
    "duration": 10,
    "start_time": "2022-05-02T11:27:23.664Z"
   },
   {
    "duration": 6,
    "start_time": "2022-05-02T11:27:23.700Z"
   },
   {
    "duration": 6,
    "start_time": "2022-05-02T11:27:23.708Z"
   },
   {
    "duration": 2,
    "start_time": "2022-05-02T11:27:23.716Z"
   },
   {
    "duration": 25,
    "start_time": "2022-05-02T11:27:23.720Z"
   },
   {
    "duration": 12,
    "start_time": "2022-05-02T11:27:23.747Z"
   },
   {
    "duration": 41,
    "start_time": "2022-05-02T11:27:23.760Z"
   },
   {
    "duration": 20,
    "start_time": "2022-05-02T11:28:06.691Z"
   },
   {
    "duration": 1221,
    "start_time": "2022-05-02T11:28:48.112Z"
   },
   {
    "duration": 40,
    "start_time": "2022-05-02T11:28:49.335Z"
   },
   {
    "duration": 17,
    "start_time": "2022-05-02T11:28:49.376Z"
   },
   {
    "duration": 12,
    "start_time": "2022-05-02T11:28:49.395Z"
   },
   {
    "duration": 3,
    "start_time": "2022-05-02T11:28:49.408Z"
   },
   {
    "duration": 7,
    "start_time": "2022-05-02T11:28:49.413Z"
   },
   {
    "duration": 6,
    "start_time": "2022-05-02T11:28:49.421Z"
   },
   {
    "duration": 15,
    "start_time": "2022-05-02T11:28:49.428Z"
   },
   {
    "duration": 4,
    "start_time": "2022-05-02T11:28:49.444Z"
   },
   {
    "duration": 14,
    "start_time": "2022-05-02T11:28:49.450Z"
   },
   {
    "duration": 12,
    "start_time": "2022-05-02T11:28:49.466Z"
   },
   {
    "duration": 24,
    "start_time": "2022-05-02T11:28:49.480Z"
   },
   {
    "duration": 10,
    "start_time": "2022-05-02T11:28:49.505Z"
   },
   {
    "duration": 10,
    "start_time": "2022-05-02T11:28:49.516Z"
   },
   {
    "duration": 5,
    "start_time": "2022-05-02T11:28:49.528Z"
   },
   {
    "duration": 4,
    "start_time": "2022-05-02T11:28:49.535Z"
   },
   {
    "duration": 33,
    "start_time": "2022-05-02T11:28:49.540Z"
   },
   {
    "duration": 34,
    "start_time": "2022-05-02T11:28:49.575Z"
   },
   {
    "duration": 7,
    "start_time": "2022-05-02T11:28:49.611Z"
   },
   {
    "duration": 29,
    "start_time": "2022-05-02T11:29:03.781Z"
   },
   {
    "duration": 1122,
    "start_time": "2022-05-02T11:29:08.928Z"
   },
   {
    "duration": 29,
    "start_time": "2022-05-02T11:29:10.052Z"
   },
   {
    "duration": 18,
    "start_time": "2022-05-02T11:29:10.082Z"
   },
   {
    "duration": 11,
    "start_time": "2022-05-02T11:29:10.101Z"
   },
   {
    "duration": 3,
    "start_time": "2022-05-02T11:29:10.114Z"
   },
   {
    "duration": 34,
    "start_time": "2022-05-02T11:29:10.118Z"
   },
   {
    "duration": 9,
    "start_time": "2022-05-02T11:29:10.153Z"
   },
   {
    "duration": 14,
    "start_time": "2022-05-02T11:29:10.164Z"
   },
   {
    "duration": 10,
    "start_time": "2022-05-02T11:29:10.180Z"
   },
   {
    "duration": 12,
    "start_time": "2022-05-02T11:29:10.191Z"
   },
   {
    "duration": 12,
    "start_time": "2022-05-02T11:29:10.205Z"
   },
   {
    "duration": 9,
    "start_time": "2022-05-02T11:29:10.218Z"
   },
   {
    "duration": 15,
    "start_time": "2022-05-02T11:29:10.228Z"
   },
   {
    "duration": 7,
    "start_time": "2022-05-02T11:29:10.246Z"
   },
   {
    "duration": 17,
    "start_time": "2022-05-02T11:29:10.254Z"
   },
   {
    "duration": 7,
    "start_time": "2022-05-02T11:29:10.273Z"
   },
   {
    "duration": 31,
    "start_time": "2022-05-02T11:29:10.281Z"
   },
   {
    "duration": 11,
    "start_time": "2022-05-02T11:29:10.313Z"
   },
   {
    "duration": 9,
    "start_time": "2022-05-02T11:29:10.325Z"
   },
   {
    "duration": 1270,
    "start_time": "2022-05-02T11:29:23.102Z"
   },
   {
    "duration": 28,
    "start_time": "2022-05-02T11:29:24.374Z"
   },
   {
    "duration": 17,
    "start_time": "2022-05-02T11:29:24.404Z"
   },
   {
    "duration": 12,
    "start_time": "2022-05-02T11:29:24.422Z"
   },
   {
    "duration": 3,
    "start_time": "2022-05-02T11:29:24.436Z"
   },
   {
    "duration": 7,
    "start_time": "2022-05-02T11:29:24.440Z"
   },
   {
    "duration": 5,
    "start_time": "2022-05-02T11:29:24.449Z"
   },
   {
    "duration": 15,
    "start_time": "2022-05-02T11:29:24.456Z"
   },
   {
    "duration": 28,
    "start_time": "2022-05-02T11:29:24.472Z"
   },
   {
    "duration": 10,
    "start_time": "2022-05-02T11:29:24.502Z"
   },
   {
    "duration": 12,
    "start_time": "2022-05-02T11:29:24.514Z"
   },
   {
    "duration": 9,
    "start_time": "2022-05-02T11:29:24.528Z"
   },
   {
    "duration": 9,
    "start_time": "2022-05-02T11:29:24.539Z"
   },
   {
    "duration": 5,
    "start_time": "2022-05-02T11:29:24.551Z"
   },
   {
    "duration": 6,
    "start_time": "2022-05-02T11:29:24.558Z"
   },
   {
    "duration": 35,
    "start_time": "2022-05-02T11:29:24.566Z"
   },
   {
    "duration": 22,
    "start_time": "2022-05-02T11:29:24.603Z"
   },
   {
    "duration": 10,
    "start_time": "2022-05-02T11:29:24.626Z"
   },
   {
    "duration": 6,
    "start_time": "2022-05-02T11:29:24.638Z"
   },
   {
    "duration": 1212,
    "start_time": "2022-05-02T11:29:38.906Z"
   },
   {
    "duration": 36,
    "start_time": "2022-05-02T11:29:40.121Z"
   },
   {
    "duration": 24,
    "start_time": "2022-05-02T11:29:40.159Z"
   },
   {
    "duration": 16,
    "start_time": "2022-05-02T11:29:40.185Z"
   },
   {
    "duration": 3,
    "start_time": "2022-05-02T11:29:40.203Z"
   },
   {
    "duration": 9,
    "start_time": "2022-05-02T11:29:40.208Z"
   },
   {
    "duration": 5,
    "start_time": "2022-05-02T11:29:40.218Z"
   },
   {
    "duration": 23,
    "start_time": "2022-05-02T11:29:40.225Z"
   },
   {
    "duration": 5,
    "start_time": "2022-05-02T11:29:40.250Z"
   },
   {
    "duration": 18,
    "start_time": "2022-05-02T11:29:40.258Z"
   },
   {
    "duration": 18,
    "start_time": "2022-05-02T11:29:40.300Z"
   },
   {
    "duration": 8,
    "start_time": "2022-05-02T11:29:40.320Z"
   },
   {
    "duration": 10,
    "start_time": "2022-05-02T11:29:40.330Z"
   },
   {
    "duration": 8,
    "start_time": "2022-05-02T11:29:40.341Z"
   },
   {
    "duration": 7,
    "start_time": "2022-05-02T11:29:40.350Z"
   },
   {
    "duration": 3,
    "start_time": "2022-05-02T11:29:40.358Z"
   },
   {
    "duration": 49,
    "start_time": "2022-05-02T11:29:40.363Z"
   },
   {
    "duration": 12,
    "start_time": "2022-05-02T11:29:40.413Z"
   },
   {
    "duration": 7,
    "start_time": "2022-05-02T11:29:40.427Z"
   },
   {
    "duration": 1325,
    "start_time": "2022-05-02T11:29:55.870Z"
   },
   {
    "duration": 30,
    "start_time": "2022-05-02T11:29:57.197Z"
   },
   {
    "duration": 19,
    "start_time": "2022-05-02T11:29:57.228Z"
   },
   {
    "duration": 13,
    "start_time": "2022-05-02T11:29:57.248Z"
   },
   {
    "duration": 3,
    "start_time": "2022-05-02T11:29:57.263Z"
   },
   {
    "duration": 8,
    "start_time": "2022-05-02T11:29:57.268Z"
   },
   {
    "duration": 23,
    "start_time": "2022-05-02T11:29:57.278Z"
   },
   {
    "duration": 12,
    "start_time": "2022-05-02T11:29:57.302Z"
   },
   {
    "duration": 4,
    "start_time": "2022-05-02T11:29:57.315Z"
   },
   {
    "duration": 16,
    "start_time": "2022-05-02T11:29:57.321Z"
   },
   {
    "duration": 23,
    "start_time": "2022-05-02T11:29:57.339Z"
   },
   {
    "duration": 8,
    "start_time": "2022-05-02T11:29:57.364Z"
   },
   {
    "duration": 25,
    "start_time": "2022-05-02T11:29:57.374Z"
   },
   {
    "duration": 26,
    "start_time": "2022-05-02T11:29:57.402Z"
   },
   {
    "duration": 8,
    "start_time": "2022-05-02T11:29:57.429Z"
   },
   {
    "duration": 4,
    "start_time": "2022-05-02T11:29:57.438Z"
   },
   {
    "duration": 22,
    "start_time": "2022-05-02T11:29:57.443Z"
   },
   {
    "duration": 11,
    "start_time": "2022-05-02T11:29:57.466Z"
   },
   {
    "duration": 8,
    "start_time": "2022-05-02T11:29:57.479Z"
   },
   {
    "duration": 25,
    "start_time": "2022-05-02T11:30:10.712Z"
   },
   {
    "duration": 1195,
    "start_time": "2022-05-02T11:30:17.492Z"
   },
   {
    "duration": 29,
    "start_time": "2022-05-02T11:30:18.689Z"
   },
   {
    "duration": 17,
    "start_time": "2022-05-02T11:30:18.720Z"
   },
   {
    "duration": 13,
    "start_time": "2022-05-02T11:30:18.738Z"
   },
   {
    "duration": 3,
    "start_time": "2022-05-02T11:30:18.753Z"
   },
   {
    "duration": 7,
    "start_time": "2022-05-02T11:30:18.758Z"
   },
   {
    "duration": 9,
    "start_time": "2022-05-02T11:30:18.766Z"
   },
   {
    "duration": 27,
    "start_time": "2022-05-02T11:30:18.777Z"
   },
   {
    "duration": 4,
    "start_time": "2022-05-02T11:30:18.806Z"
   },
   {
    "duration": 16,
    "start_time": "2022-05-02T11:30:18.811Z"
   },
   {
    "duration": 12,
    "start_time": "2022-05-02T11:30:18.829Z"
   },
   {
    "duration": 9,
    "start_time": "2022-05-02T11:30:18.842Z"
   },
   {
    "duration": 9,
    "start_time": "2022-05-02T11:30:18.852Z"
   },
   {
    "duration": 5,
    "start_time": "2022-05-02T11:30:18.863Z"
   },
   {
    "duration": 30,
    "start_time": "2022-05-02T11:30:18.870Z"
   },
   {
    "duration": 3,
    "start_time": "2022-05-02T11:30:18.902Z"
   },
   {
    "duration": 25,
    "start_time": "2022-05-02T11:30:18.907Z"
   },
   {
    "duration": 10,
    "start_time": "2022-05-02T11:30:18.933Z"
   },
   {
    "duration": 7,
    "start_time": "2022-05-02T11:30:18.944Z"
   },
   {
    "duration": 19,
    "start_time": "2022-05-02T11:30:33.386Z"
   },
   {
    "duration": 6,
    "start_time": "2022-05-02T11:37:10.210Z"
   },
   {
    "duration": 282,
    "start_time": "2022-05-02T11:43:22.591Z"
   },
   {
    "duration": 3,
    "start_time": "2022-05-02T11:43:28.428Z"
   },
   {
    "duration": 24,
    "start_time": "2022-05-02T11:43:33.868Z"
   },
   {
    "duration": 17,
    "start_time": "2022-05-02T11:44:02.047Z"
   },
   {
    "duration": 22,
    "start_time": "2022-05-02T11:44:20.808Z"
   },
   {
    "duration": 21,
    "start_time": "2022-05-02T11:46:33.571Z"
   },
   {
    "duration": 22,
    "start_time": "2022-05-02T11:46:37.220Z"
   },
   {
    "duration": 6,
    "start_time": "2022-05-02T11:46:53.281Z"
   },
   {
    "duration": 5,
    "start_time": "2022-05-02T11:47:02.919Z"
   },
   {
    "duration": 192,
    "start_time": "2022-05-02T11:49:45.975Z"
   },
   {
    "duration": 26,
    "start_time": "2022-05-02T11:53:40.563Z"
   },
   {
    "duration": 11,
    "start_time": "2022-05-02T11:54:35.824Z"
   },
   {
    "duration": 44,
    "start_time": "2022-05-02T11:55:49.683Z"
   },
   {
    "duration": 48,
    "start_time": "2022-05-02T11:56:04.564Z"
   },
   {
    "duration": 46,
    "start_time": "2022-05-02T11:56:18.353Z"
   },
   {
    "duration": 585,
    "start_time": "2022-05-02T11:59:01.674Z"
   },
   {
    "duration": 633,
    "start_time": "2022-05-02T11:59:17.282Z"
   },
   {
    "duration": 571,
    "start_time": "2022-05-02T12:02:26.103Z"
   },
   {
    "duration": 274,
    "start_time": "2022-05-02T12:03:06.727Z"
   },
   {
    "duration": 257,
    "start_time": "2022-05-02T12:05:06.186Z"
   },
   {
    "duration": 179,
    "start_time": "2022-05-02T12:05:25.209Z"
   },
   {
    "duration": 841,
    "start_time": "2022-05-02T12:05:36.247Z"
   },
   {
    "duration": 466,
    "start_time": "2022-05-02T12:05:58.208Z"
   },
   {
    "duration": 90,
    "start_time": "2022-05-02T12:06:05.568Z"
   },
   {
    "duration": 139,
    "start_time": "2022-05-02T12:06:12.708Z"
   },
   {
    "duration": 3894,
    "start_time": "2022-05-02T12:06:17.769Z"
   },
   {
    "duration": 12832,
    "start_time": "2022-05-02T12:06:38.208Z"
   },
   {
    "duration": 16212,
    "start_time": "2022-05-02T12:07:09.375Z"
   },
   {
    "duration": 8081,
    "start_time": "2022-05-02T12:08:02.820Z"
   },
   {
    "duration": 756,
    "start_time": "2022-05-02T12:08:21.095Z"
   },
   {
    "duration": 41070,
    "start_time": "2022-05-02T12:09:25.539Z"
   },
   {
    "duration": 13854,
    "start_time": "2022-05-02T12:10:59.777Z"
   },
   {
    "duration": 7877,
    "start_time": "2022-05-02T12:11:24.104Z"
   },
   {
    "duration": 270352,
    "start_time": "2022-05-02T12:11:38.607Z"
   },
   {
    "duration": 3454,
    "start_time": "2022-05-02T12:17:26.838Z"
   },
   {
    "duration": 3827,
    "start_time": "2022-05-02T12:17:47.776Z"
   },
   {
    "duration": 6802,
    "start_time": "2022-05-02T12:17:58.177Z"
   },
   {
    "duration": 10953,
    "start_time": "2022-05-02T12:18:23.917Z"
   },
   {
    "duration": 6124,
    "start_time": "2022-05-02T12:18:56.640Z"
   },
   {
    "duration": 25,
    "start_time": "2022-05-02T12:20:08.418Z"
   },
   {
    "duration": 6146,
    "start_time": "2022-05-02T12:21:24.778Z"
   },
   {
    "duration": 6925,
    "start_time": "2022-05-02T12:21:30.925Z"
   },
   {
    "duration": 806,
    "start_time": "2022-05-02T12:22:57.703Z"
   },
   {
    "duration": 27,
    "start_time": "2022-05-02T12:24:27.589Z"
   },
   {
    "duration": 6074,
    "start_time": "2022-05-02T12:26:19.891Z"
   },
   {
    "duration": 7551,
    "start_time": "2022-05-02T12:27:03.550Z"
   },
   {
    "duration": 10979,
    "start_time": "2022-05-02T12:27:17.174Z"
   },
   {
    "duration": 6097,
    "start_time": "2022-05-02T12:27:38.118Z"
   },
   {
    "duration": 8451,
    "start_time": "2022-05-02T12:29:49.440Z"
   },
   {
    "duration": 1240,
    "start_time": "2022-05-02T12:30:29.221Z"
   },
   {
    "duration": 30,
    "start_time": "2022-05-02T12:30:30.463Z"
   },
   {
    "duration": 20,
    "start_time": "2022-05-02T12:30:30.494Z"
   },
   {
    "duration": 21,
    "start_time": "2022-05-02T12:30:30.516Z"
   },
   {
    "duration": 6,
    "start_time": "2022-05-02T12:30:30.539Z"
   },
   {
    "duration": 46,
    "start_time": "2022-05-02T12:30:30.547Z"
   },
   {
    "duration": 10,
    "start_time": "2022-05-02T12:30:30.595Z"
   },
   {
    "duration": 27,
    "start_time": "2022-05-02T12:30:30.607Z"
   },
   {
    "duration": 9,
    "start_time": "2022-05-02T12:30:30.636Z"
   },
   {
    "duration": 31,
    "start_time": "2022-05-02T12:30:30.648Z"
   },
   {
    "duration": 25,
    "start_time": "2022-05-02T12:30:30.681Z"
   },
   {
    "duration": 11,
    "start_time": "2022-05-02T12:30:30.707Z"
   },
   {
    "duration": 19,
    "start_time": "2022-05-02T12:30:30.719Z"
   },
   {
    "duration": 21,
    "start_time": "2022-05-02T12:30:30.739Z"
   },
   {
    "duration": 19,
    "start_time": "2022-05-02T12:30:30.761Z"
   },
   {
    "duration": 4,
    "start_time": "2022-05-02T12:30:30.781Z"
   },
   {
    "duration": 29,
    "start_time": "2022-05-02T12:30:30.787Z"
   },
   {
    "duration": 9,
    "start_time": "2022-05-02T12:30:30.817Z"
   },
   {
    "duration": 23,
    "start_time": "2022-05-02T12:30:30.828Z"
   },
   {
    "duration": 154,
    "start_time": "2022-05-02T12:30:30.852Z"
   },
   {
    "duration": 871,
    "start_time": "2022-05-02T12:30:31.007Z"
   },
   {
    "duration": 6085,
    "start_time": "2022-05-02T12:30:31.880Z"
   },
   {
    "duration": 7014,
    "start_time": "2022-05-02T12:30:37.967Z"
   },
   {
    "duration": 46,
    "start_time": "2022-05-02T12:30:44.983Z"
   },
   {
    "duration": 119,
    "start_time": "2022-05-02T12:30:45.100Z"
   },
   {
    "duration": 6281,
    "start_time": "2022-05-02T12:30:45.221Z"
   },
   {
    "duration": 8332,
    "start_time": "2022-05-02T12:30:51.504Z"
   },
   {
    "duration": 9595,
    "start_time": "2022-05-02T12:32:42.073Z"
   },
   {
    "duration": 376,
    "start_time": "2022-05-02T12:33:18.651Z"
   },
   {
    "duration": 11286,
    "start_time": "2022-05-02T12:33:35.232Z"
   },
   {
    "duration": 48053,
    "start_time": "2022-05-02T12:34:00.112Z"
   },
   {
    "duration": 12234,
    "start_time": "2022-05-02T12:35:11.992Z"
   },
   {
    "duration": 1361,
    "start_time": "2022-05-03T15:42:22.496Z"
   },
   {
    "duration": 29,
    "start_time": "2022-05-03T15:42:23.859Z"
   },
   {
    "duration": 26,
    "start_time": "2022-05-03T15:42:23.890Z"
   },
   {
    "duration": 39,
    "start_time": "2022-05-03T15:42:23.917Z"
   },
   {
    "duration": 48,
    "start_time": "2022-05-03T15:42:23.959Z"
   },
   {
    "duration": 24,
    "start_time": "2022-05-03T15:42:24.009Z"
   },
   {
    "duration": 25,
    "start_time": "2022-05-03T15:42:24.035Z"
   },
   {
    "duration": 41,
    "start_time": "2022-05-03T15:42:24.061Z"
   },
   {
    "duration": 18,
    "start_time": "2022-05-03T15:42:24.104Z"
   },
   {
    "duration": 33,
    "start_time": "2022-05-03T15:42:24.124Z"
   },
   {
    "duration": 149,
    "start_time": "2022-05-03T15:42:24.160Z"
   },
   {
    "duration": 40,
    "start_time": "2022-05-03T15:42:24.311Z"
   },
   {
    "duration": 100,
    "start_time": "2022-05-03T15:42:24.353Z"
   },
   {
    "duration": 58,
    "start_time": "2022-05-03T15:42:24.457Z"
   },
   {
    "duration": 36,
    "start_time": "2022-05-03T15:42:24.517Z"
   },
   {
    "duration": 34,
    "start_time": "2022-05-03T15:42:24.555Z"
   },
   {
    "duration": 49,
    "start_time": "2022-05-03T15:42:24.591Z"
   },
   {
    "duration": 18,
    "start_time": "2022-05-03T15:42:24.642Z"
   },
   {
    "duration": 46,
    "start_time": "2022-05-03T15:42:24.661Z"
   },
   {
    "duration": 257,
    "start_time": "2022-05-03T15:42:24.712Z"
   },
   {
    "duration": 875,
    "start_time": "2022-05-03T15:42:25.058Z"
   },
   {
    "duration": 7088,
    "start_time": "2022-05-03T15:42:25.934Z"
   },
   {
    "duration": 8426,
    "start_time": "2022-05-03T15:42:33.024Z"
   },
   {
    "duration": 36,
    "start_time": "2022-05-03T15:42:41.454Z"
   },
   {
    "duration": 116,
    "start_time": "2022-05-03T15:42:41.557Z"
   },
   {
    "duration": 6669,
    "start_time": "2022-05-03T15:42:41.675Z"
   },
   {
    "duration": 12874,
    "start_time": "2022-05-03T15:42:48.346Z"
   },
   {
    "duration": 4,
    "start_time": "2022-05-03T15:50:49.143Z"
   },
   {
    "duration": 29,
    "start_time": "2022-05-03T15:55:33.096Z"
   },
   {
    "duration": 286,
    "start_time": "2022-05-03T15:55:34.748Z"
   },
   {
    "duration": 470,
    "start_time": "2022-05-03T15:57:56.036Z"
   },
   {
    "duration": 318,
    "start_time": "2022-05-03T15:58:05.637Z"
   },
   {
    "duration": 340,
    "start_time": "2022-05-03T15:58:18.947Z"
   },
   {
    "duration": 347,
    "start_time": "2022-05-03T15:58:35.766Z"
   },
   {
    "duration": 361,
    "start_time": "2022-05-03T15:58:57.376Z"
   },
   {
    "duration": 5,
    "start_time": "2022-05-03T16:01:43.056Z"
   },
   {
    "duration": 6,
    "start_time": "2022-05-03T16:02:09.419Z"
   },
   {
    "duration": 8,
    "start_time": "2022-05-03T16:02:30.976Z"
   },
   {
    "duration": 7,
    "start_time": "2022-05-03T16:02:58.656Z"
   },
   {
    "duration": 7,
    "start_time": "2022-05-03T16:03:04.717Z"
   },
   {
    "duration": 861,
    "start_time": "2022-05-03T16:05:16.417Z"
   },
   {
    "duration": 167,
    "start_time": "2022-05-03T16:06:06.102Z"
   },
   {
    "duration": 8,
    "start_time": "2022-05-03T16:06:09.519Z"
   },
   {
    "duration": 7830,
    "start_time": "2022-05-03T16:07:24.037Z"
   },
   {
    "duration": 9463,
    "start_time": "2022-05-03T16:07:36.497Z"
   },
   {
    "duration": 133,
    "start_time": "2022-05-03T16:08:16.616Z"
   },
   {
    "duration": 6,
    "start_time": "2022-05-03T16:08:18.037Z"
   },
   {
    "duration": 6,
    "start_time": "2022-05-03T16:10:02.515Z"
   },
   {
    "duration": 134,
    "start_time": "2022-05-03T16:10:23.322Z"
   },
   {
    "duration": 7,
    "start_time": "2022-05-03T16:11:21.000Z"
   },
   {
    "duration": 1865,
    "start_time": "2022-05-03T16:12:36.085Z"
   },
   {
    "duration": 24,
    "start_time": "2022-05-03T16:12:37.953Z"
   },
   {
    "duration": 23,
    "start_time": "2022-05-03T16:12:37.979Z"
   },
   {
    "duration": 59,
    "start_time": "2022-05-03T16:12:38.004Z"
   },
   {
    "duration": 35,
    "start_time": "2022-05-03T16:12:38.066Z"
   },
   {
    "duration": 39,
    "start_time": "2022-05-03T16:12:38.103Z"
   },
   {
    "duration": 42,
    "start_time": "2022-05-03T16:12:38.144Z"
   },
   {
    "duration": 44,
    "start_time": "2022-05-03T16:12:38.188Z"
   },
   {
    "duration": 18,
    "start_time": "2022-05-03T16:12:38.234Z"
   },
   {
    "duration": 41,
    "start_time": "2022-05-03T16:12:38.254Z"
   },
   {
    "duration": 33,
    "start_time": "2022-05-03T16:12:38.297Z"
   },
   {
    "duration": 59,
    "start_time": "2022-05-03T16:12:38.332Z"
   },
   {
    "duration": 33,
    "start_time": "2022-05-03T16:12:38.394Z"
   },
   {
    "duration": 33,
    "start_time": "2022-05-03T16:12:38.431Z"
   },
   {
    "duration": 25,
    "start_time": "2022-05-03T16:12:38.467Z"
   },
   {
    "duration": 17,
    "start_time": "2022-05-03T16:12:38.494Z"
   },
   {
    "duration": 63,
    "start_time": "2022-05-03T16:12:38.514Z"
   },
   {
    "duration": 36,
    "start_time": "2022-05-03T16:12:38.579Z"
   },
   {
    "duration": 34,
    "start_time": "2022-05-03T16:12:38.617Z"
   },
   {
    "duration": 112,
    "start_time": "2022-05-03T16:12:38.654Z"
   },
   {
    "duration": 6,
    "start_time": "2022-05-03T16:12:38.768Z"
   },
   {
    "duration": 299,
    "start_time": "2022-05-03T16:12:38.856Z"
   },
   {
    "duration": 859,
    "start_time": "2022-05-03T16:12:39.157Z"
   },
   {
    "duration": 132,
    "start_time": "2022-05-03T16:12:40.018Z"
   },
   {
    "duration": 7951,
    "start_time": "2022-05-03T16:12:40.155Z"
   },
   {
    "duration": 7736,
    "start_time": "2022-05-03T16:12:48.108Z"
   },
   {
    "duration": 141,
    "start_time": "2022-05-03T16:12:55.846Z"
   },
   {
    "duration": 69,
    "start_time": "2022-05-03T16:12:55.989Z"
   },
   {
    "duration": 303,
    "start_time": "2022-05-03T16:12:56.060Z"
   },
   {
    "duration": 37,
    "start_time": "2022-05-03T16:12:56.366Z"
   },
   {
    "duration": 223,
    "start_time": "2022-05-03T16:12:56.405Z"
   },
   {
    "duration": 9410,
    "start_time": "2022-05-03T16:12:56.629Z"
   },
   {
    "duration": 14440,
    "start_time": "2022-05-03T16:13:06.041Z"
   },
   {
    "duration": 212,
    "start_time": "2022-05-03T16:13:20.483Z"
   },
   {
    "duration": 5,
    "start_time": "2022-05-03T16:37:37.802Z"
   },
   {
    "duration": 118,
    "start_time": "2022-05-03T16:37:59.757Z"
   },
   {
    "duration": 4,
    "start_time": "2022-05-03T16:38:26.889Z"
   },
   {
    "duration": 5,
    "start_time": "2022-05-03T16:38:30.760Z"
   },
   {
    "duration": 16,
    "start_time": "2022-05-03T16:38:39.078Z"
   },
   {
    "duration": 5,
    "start_time": "2022-05-03T16:39:51.478Z"
   },
   {
    "duration": 5,
    "start_time": "2022-05-03T16:40:05.938Z"
   },
   {
    "duration": 3,
    "start_time": "2022-05-03T16:40:24.358Z"
   },
   {
    "duration": 11,
    "start_time": "2022-05-03T16:40:40.323Z"
   },
   {
    "duration": 137,
    "start_time": "2022-05-03T16:40:47.113Z"
   },
   {
    "duration": 4,
    "start_time": "2022-05-03T16:40:50.102Z"
   },
   {
    "duration": 11,
    "start_time": "2022-05-03T16:41:32.158Z"
   },
   {
    "duration": 5,
    "start_time": "2022-05-03T16:41:48.058Z"
   },
   {
    "duration": 4,
    "start_time": "2022-05-03T16:42:06.659Z"
   },
   {
    "duration": 5,
    "start_time": "2022-05-03T16:42:16.799Z"
   },
   {
    "duration": 5,
    "start_time": "2022-05-03T16:42:52.999Z"
   },
   {
    "duration": 4,
    "start_time": "2022-05-03T16:43:13.278Z"
   },
   {
    "duration": 36,
    "start_time": "2022-05-03T16:44:19.137Z"
   },
   {
    "duration": 134,
    "start_time": "2022-05-03T16:46:49.813Z"
   },
   {
    "duration": 4,
    "start_time": "2022-05-03T16:46:58.838Z"
   },
   {
    "duration": 9,
    "start_time": "2022-05-03T16:46:59.638Z"
   },
   {
    "duration": 25,
    "start_time": "2022-05-03T16:47:09.699Z"
   },
   {
    "duration": 12,
    "start_time": "2022-05-03T16:48:49.938Z"
   },
   {
    "duration": 38,
    "start_time": "2022-05-03T16:49:04.958Z"
   },
   {
    "duration": 361,
    "start_time": "2022-05-03T16:49:46.878Z"
   },
   {
    "duration": 142,
    "start_time": "2022-05-03T16:50:18.738Z"
   },
   {
    "duration": 6,
    "start_time": "2022-05-03T16:52:40.538Z"
   },
   {
    "duration": 3,
    "start_time": "2022-05-03T16:52:42.198Z"
   },
   {
    "duration": 5,
    "start_time": "2022-05-03T16:52:54.198Z"
   },
   {
    "duration": 191,
    "start_time": "2022-05-03T16:52:55.217Z"
   },
   {
    "duration": 127,
    "start_time": "2022-05-03T16:53:01.969Z"
   },
   {
    "duration": 245,
    "start_time": "2022-05-03T16:55:00.518Z"
   },
   {
    "duration": 123,
    "start_time": "2022-05-03T16:55:02.677Z"
   },
   {
    "duration": 1862,
    "start_time": "2022-05-03T16:55:30.821Z"
   },
   {
    "duration": 29,
    "start_time": "2022-05-03T16:55:32.685Z"
   },
   {
    "duration": 17,
    "start_time": "2022-05-03T16:55:32.715Z"
   },
   {
    "duration": 15,
    "start_time": "2022-05-03T16:55:32.734Z"
   },
   {
    "duration": 3,
    "start_time": "2022-05-03T16:55:32.754Z"
   },
   {
    "duration": 15,
    "start_time": "2022-05-03T16:55:32.758Z"
   },
   {
    "duration": 10,
    "start_time": "2022-05-03T16:55:32.774Z"
   },
   {
    "duration": 18,
    "start_time": "2022-05-03T16:55:32.786Z"
   },
   {
    "duration": 37,
    "start_time": "2022-05-03T16:55:32.806Z"
   },
   {
    "duration": 26,
    "start_time": "2022-05-03T16:55:32.845Z"
   },
   {
    "duration": 34,
    "start_time": "2022-05-03T16:55:32.872Z"
   },
   {
    "duration": 28,
    "start_time": "2022-05-03T16:55:32.908Z"
   },
   {
    "duration": 22,
    "start_time": "2022-05-03T16:55:32.938Z"
   },
   {
    "duration": 15,
    "start_time": "2022-05-03T16:55:32.963Z"
   },
   {
    "duration": 14,
    "start_time": "2022-05-03T16:55:32.979Z"
   },
   {
    "duration": 13,
    "start_time": "2022-05-03T16:55:32.995Z"
   },
   {
    "duration": 55,
    "start_time": "2022-05-03T16:55:33.009Z"
   },
   {
    "duration": 17,
    "start_time": "2022-05-03T16:55:33.065Z"
   },
   {
    "duration": 17,
    "start_time": "2022-05-03T16:55:33.083Z"
   },
   {
    "duration": 45,
    "start_time": "2022-05-03T16:55:33.101Z"
   },
   {
    "duration": 46,
    "start_time": "2022-05-03T16:55:33.148Z"
   },
   {
    "duration": 10,
    "start_time": "2022-05-03T16:55:33.256Z"
   },
   {
    "duration": 112,
    "start_time": "2022-05-03T16:55:33.356Z"
   },
   {
    "duration": 0,
    "start_time": "2022-05-03T16:55:33.470Z"
   },
   {
    "duration": 0,
    "start_time": "2022-05-03T16:55:33.471Z"
   },
   {
    "duration": 0,
    "start_time": "2022-05-03T16:55:33.472Z"
   },
   {
    "duration": 0,
    "start_time": "2022-05-03T16:55:33.473Z"
   },
   {
    "duration": 0,
    "start_time": "2022-05-03T16:55:33.474Z"
   },
   {
    "duration": 0,
    "start_time": "2022-05-03T16:55:33.475Z"
   },
   {
    "duration": 0,
    "start_time": "2022-05-03T16:55:33.476Z"
   },
   {
    "duration": 0,
    "start_time": "2022-05-03T16:55:33.477Z"
   },
   {
    "duration": 0,
    "start_time": "2022-05-03T16:55:33.478Z"
   },
   {
    "duration": 0,
    "start_time": "2022-05-03T16:55:33.479Z"
   },
   {
    "duration": 0,
    "start_time": "2022-05-03T16:55:33.480Z"
   },
   {
    "duration": 0,
    "start_time": "2022-05-03T16:55:33.481Z"
   },
   {
    "duration": 0,
    "start_time": "2022-05-03T16:55:33.482Z"
   },
   {
    "duration": 0,
    "start_time": "2022-05-03T16:55:33.483Z"
   },
   {
    "duration": 0,
    "start_time": "2022-05-03T16:55:33.484Z"
   },
   {
    "duration": 0,
    "start_time": "2022-05-03T16:55:33.485Z"
   },
   {
    "duration": 0,
    "start_time": "2022-05-03T16:55:33.486Z"
   },
   {
    "duration": 0,
    "start_time": "2022-05-03T16:55:33.487Z"
   },
   {
    "duration": 3,
    "start_time": "2022-05-03T16:58:08.980Z"
   },
   {
    "duration": 92,
    "start_time": "2022-05-03T16:58:10.667Z"
   },
   {
    "duration": 5,
    "start_time": "2022-05-03T16:58:13.700Z"
   },
   {
    "duration": 13,
    "start_time": "2022-05-03T16:58:14.421Z"
   },
   {
    "duration": 3,
    "start_time": "2022-05-03T16:59:19.400Z"
   },
   {
    "duration": 116,
    "start_time": "2022-05-03T16:59:20.441Z"
   },
   {
    "duration": 4,
    "start_time": "2022-05-03T16:59:26.820Z"
   },
   {
    "duration": 12,
    "start_time": "2022-05-03T16:59:27.545Z"
   },
   {
    "duration": 1965,
    "start_time": "2022-05-03T16:59:39.946Z"
   },
   {
    "duration": 25,
    "start_time": "2022-05-03T16:59:41.913Z"
   },
   {
    "duration": 24,
    "start_time": "2022-05-03T16:59:41.940Z"
   },
   {
    "duration": 18,
    "start_time": "2022-05-03T16:59:41.966Z"
   },
   {
    "duration": 3,
    "start_time": "2022-05-03T16:59:41.986Z"
   },
   {
    "duration": 17,
    "start_time": "2022-05-03T16:59:41.990Z"
   },
   {
    "duration": 10,
    "start_time": "2022-05-03T16:59:42.009Z"
   },
   {
    "duration": 23,
    "start_time": "2022-05-03T16:59:42.021Z"
   },
   {
    "duration": 5,
    "start_time": "2022-05-03T16:59:42.055Z"
   },
   {
    "duration": 13,
    "start_time": "2022-05-03T16:59:42.063Z"
   },
   {
    "duration": 13,
    "start_time": "2022-05-03T16:59:42.078Z"
   },
   {
    "duration": 10,
    "start_time": "2022-05-03T16:59:42.093Z"
   },
   {
    "duration": 18,
    "start_time": "2022-05-03T16:59:42.105Z"
   },
   {
    "duration": 31,
    "start_time": "2022-05-03T16:59:42.125Z"
   },
   {
    "duration": 7,
    "start_time": "2022-05-03T16:59:42.158Z"
   },
   {
    "duration": 4,
    "start_time": "2022-05-03T16:59:42.167Z"
   },
   {
    "duration": 27,
    "start_time": "2022-05-03T16:59:42.173Z"
   },
   {
    "duration": 12,
    "start_time": "2022-05-03T16:59:42.202Z"
   },
   {
    "duration": 7,
    "start_time": "2022-05-03T16:59:42.217Z"
   },
   {
    "duration": 4,
    "start_time": "2022-05-03T16:59:42.255Z"
   },
   {
    "duration": 195,
    "start_time": "2022-05-03T16:59:42.261Z"
   },
   {
    "duration": 4,
    "start_time": "2022-05-03T16:59:42.458Z"
   },
   {
    "duration": 164,
    "start_time": "2022-05-03T16:59:42.464Z"
   },
   {
    "duration": 0,
    "start_time": "2022-05-03T16:59:42.630Z"
   },
   {
    "duration": 0,
    "start_time": "2022-05-03T16:59:42.632Z"
   },
   {
    "duration": 0,
    "start_time": "2022-05-03T16:59:42.633Z"
   },
   {
    "duration": 0,
    "start_time": "2022-05-03T16:59:42.635Z"
   },
   {
    "duration": 0,
    "start_time": "2022-05-03T16:59:42.636Z"
   },
   {
    "duration": 0,
    "start_time": "2022-05-03T16:59:42.637Z"
   },
   {
    "duration": 0,
    "start_time": "2022-05-03T16:59:42.639Z"
   },
   {
    "duration": 0,
    "start_time": "2022-05-03T16:59:42.654Z"
   },
   {
    "duration": 0,
    "start_time": "2022-05-03T16:59:42.655Z"
   },
   {
    "duration": 0,
    "start_time": "2022-05-03T16:59:42.657Z"
   },
   {
    "duration": 0,
    "start_time": "2022-05-03T16:59:42.658Z"
   },
   {
    "duration": 0,
    "start_time": "2022-05-03T16:59:42.659Z"
   },
   {
    "duration": 0,
    "start_time": "2022-05-03T16:59:42.660Z"
   },
   {
    "duration": 0,
    "start_time": "2022-05-03T16:59:42.662Z"
   },
   {
    "duration": 0,
    "start_time": "2022-05-03T16:59:42.663Z"
   },
   {
    "duration": 0,
    "start_time": "2022-05-03T16:59:42.664Z"
   },
   {
    "duration": 0,
    "start_time": "2022-05-03T16:59:42.665Z"
   },
   {
    "duration": 0,
    "start_time": "2022-05-03T16:59:42.666Z"
   },
   {
    "duration": 4,
    "start_time": "2022-05-03T17:03:35.538Z"
   },
   {
    "duration": 31,
    "start_time": "2022-05-03T17:03:36.275Z"
   },
   {
    "duration": 14,
    "start_time": "2022-05-03T17:03:48.876Z"
   },
   {
    "duration": 149,
    "start_time": "2022-05-03T17:04:21.955Z"
   },
   {
    "duration": 4,
    "start_time": "2022-05-03T17:04:26.835Z"
   },
   {
    "duration": 26,
    "start_time": "2022-05-03T17:04:27.736Z"
   },
   {
    "duration": 9,
    "start_time": "2022-05-03T17:04:32.596Z"
   },
   {
    "duration": 7,
    "start_time": "2022-05-03T17:05:49.537Z"
   },
   {
    "duration": 356,
    "start_time": "2022-05-03T17:05:50.756Z"
   },
   {
    "duration": 181,
    "start_time": "2022-05-03T17:06:42.016Z"
   },
   {
    "duration": 4,
    "start_time": "2022-05-03T17:07:00.755Z"
   },
   {
    "duration": 27,
    "start_time": "2022-05-03T17:07:01.776Z"
   },
   {
    "duration": 4,
    "start_time": "2022-05-03T17:07:03.516Z"
   },
   {
    "duration": 14,
    "start_time": "2022-05-03T17:07:04.836Z"
   },
   {
    "duration": 59,
    "start_time": "2022-05-03T17:07:25.296Z"
   },
   {
    "duration": 25,
    "start_time": "2022-05-03T17:07:31.757Z"
   },
   {
    "duration": 6,
    "start_time": "2022-05-03T17:07:36.525Z"
   },
   {
    "duration": 247,
    "start_time": "2022-05-03T17:07:37.276Z"
   },
   {
    "duration": 4,
    "start_time": "2022-05-03T17:07:48.595Z"
   },
   {
    "duration": 62,
    "start_time": "2022-05-03T17:07:49.296Z"
   },
   {
    "duration": 6,
    "start_time": "2022-05-03T17:07:50.598Z"
   },
   {
    "duration": 349,
    "start_time": "2022-05-03T17:07:51.237Z"
   },
   {
    "duration": 1510,
    "start_time": "2022-05-03T17:07:58.890Z"
   },
   {
    "duration": 24,
    "start_time": "2022-05-03T17:08:00.402Z"
   },
   {
    "duration": 20,
    "start_time": "2022-05-03T17:08:00.428Z"
   },
   {
    "duration": 15,
    "start_time": "2022-05-03T17:08:00.453Z"
   },
   {
    "duration": 3,
    "start_time": "2022-05-03T17:08:00.470Z"
   },
   {
    "duration": 17,
    "start_time": "2022-05-03T17:08:00.475Z"
   },
   {
    "duration": 6,
    "start_time": "2022-05-03T17:08:00.494Z"
   },
   {
    "duration": 24,
    "start_time": "2022-05-03T17:08:00.502Z"
   },
   {
    "duration": 6,
    "start_time": "2022-05-03T17:08:00.528Z"
   },
   {
    "duration": 15,
    "start_time": "2022-05-03T17:08:00.557Z"
   },
   {
    "duration": 16,
    "start_time": "2022-05-03T17:08:00.574Z"
   },
   {
    "duration": 11,
    "start_time": "2022-05-03T17:08:00.592Z"
   },
   {
    "duration": 22,
    "start_time": "2022-05-03T17:08:00.605Z"
   },
   {
    "duration": 27,
    "start_time": "2022-05-03T17:08:00.630Z"
   },
   {
    "duration": 7,
    "start_time": "2022-05-03T17:08:00.660Z"
   },
   {
    "duration": 8,
    "start_time": "2022-05-03T17:08:00.669Z"
   },
   {
    "duration": 39,
    "start_time": "2022-05-03T17:08:00.679Z"
   },
   {
    "duration": 16,
    "start_time": "2022-05-03T17:08:00.721Z"
   },
   {
    "duration": 20,
    "start_time": "2022-05-03T17:08:00.739Z"
   },
   {
    "duration": 7,
    "start_time": "2022-05-03T17:08:00.761Z"
   },
   {
    "duration": 91,
    "start_time": "2022-05-03T17:08:00.769Z"
   },
   {
    "duration": 93,
    "start_time": "2022-05-03T17:08:00.862Z"
   },
   {
    "duration": 301,
    "start_time": "2022-05-03T17:08:00.957Z"
   },
   {
    "duration": 4,
    "start_time": "2022-05-03T17:08:01.260Z"
   },
   {
    "duration": 214,
    "start_time": "2022-05-03T17:08:01.266Z"
   },
   {
    "duration": 112,
    "start_time": "2022-05-03T17:08:01.482Z"
   },
   {
    "duration": 0,
    "start_time": "2022-05-03T17:08:01.597Z"
   },
   {
    "duration": 0,
    "start_time": "2022-05-03T17:08:01.598Z"
   },
   {
    "duration": 0,
    "start_time": "2022-05-03T17:08:01.600Z"
   },
   {
    "duration": 0,
    "start_time": "2022-05-03T17:08:01.601Z"
   },
   {
    "duration": 0,
    "start_time": "2022-05-03T17:08:01.602Z"
   },
   {
    "duration": 0,
    "start_time": "2022-05-03T17:08:01.604Z"
   },
   {
    "duration": 0,
    "start_time": "2022-05-03T17:08:01.605Z"
   },
   {
    "duration": 0,
    "start_time": "2022-05-03T17:08:01.606Z"
   },
   {
    "duration": 0,
    "start_time": "2022-05-03T17:08:01.607Z"
   },
   {
    "duration": 0,
    "start_time": "2022-05-03T17:08:01.608Z"
   },
   {
    "duration": 0,
    "start_time": "2022-05-03T17:08:01.609Z"
   },
   {
    "duration": 0,
    "start_time": "2022-05-03T17:08:01.610Z"
   },
   {
    "duration": 0,
    "start_time": "2022-05-03T17:08:01.611Z"
   },
   {
    "duration": 0,
    "start_time": "2022-05-03T17:08:01.612Z"
   },
   {
    "duration": 0,
    "start_time": "2022-05-03T17:08:01.613Z"
   },
   {
    "duration": 4,
    "start_time": "2022-05-03T17:09:40.930Z"
   },
   {
    "duration": 254,
    "start_time": "2022-05-03T17:09:41.959Z"
   },
   {
    "duration": 131,
    "start_time": "2022-05-03T17:09:50.514Z"
   },
   {
    "duration": 6840,
    "start_time": "2022-05-03T17:10:00.920Z"
   },
   {
    "duration": 7225,
    "start_time": "2022-05-03T17:10:44.921Z"
   },
   {
    "duration": 124,
    "start_time": "2022-05-03T17:10:54.996Z"
   },
   {
    "duration": 76,
    "start_time": "2022-05-03T17:11:11.082Z"
   },
   {
    "duration": 301,
    "start_time": "2022-05-03T17:11:12.080Z"
   },
   {
    "duration": 39,
    "start_time": "2022-05-03T17:11:16.160Z"
   },
   {
    "duration": 245,
    "start_time": "2022-05-03T17:11:16.970Z"
   },
   {
    "duration": 8561,
    "start_time": "2022-05-03T17:11:21.200Z"
   },
   {
    "duration": 12582,
    "start_time": "2022-05-03T17:11:45.282Z"
   },
   {
    "duration": 125,
    "start_time": "2022-05-03T17:12:00.022Z"
   },
   {
    "duration": 18,
    "start_time": "2022-05-03T17:12:05.481Z"
   },
   {
    "duration": 36,
    "start_time": "2022-05-03T17:12:14.761Z"
   },
   {
    "duration": 33,
    "start_time": "2022-05-03T17:12:48.842Z"
   },
   {
    "duration": 263,
    "start_time": "2022-05-03T17:12:51.621Z"
   },
   {
    "duration": 317,
    "start_time": "2022-05-03T17:13:19.163Z"
   },
   {
    "duration": 99,
    "start_time": "2022-05-03T17:13:26.142Z"
   },
   {
    "duration": 457,
    "start_time": "2022-05-03T17:16:55.089Z"
   },
   {
    "duration": 470,
    "start_time": "2022-05-03T17:17:32.363Z"
   },
   {
    "duration": 115,
    "start_time": "2022-05-03T17:17:39.763Z"
   },
   {
    "duration": 138,
    "start_time": "2022-05-03T17:17:45.642Z"
   },
   {
    "duration": 1745,
    "start_time": "2022-05-03T17:19:19.043Z"
   },
   {
    "duration": 29,
    "start_time": "2022-05-03T17:19:20.790Z"
   },
   {
    "duration": 16,
    "start_time": "2022-05-03T17:19:20.820Z"
   },
   {
    "duration": 22,
    "start_time": "2022-05-03T17:19:20.838Z"
   },
   {
    "duration": 3,
    "start_time": "2022-05-03T17:19:20.861Z"
   },
   {
    "duration": 11,
    "start_time": "2022-05-03T17:19:20.866Z"
   },
   {
    "duration": 9,
    "start_time": "2022-05-03T17:19:20.878Z"
   },
   {
    "duration": 18,
    "start_time": "2022-05-03T17:19:20.889Z"
   },
   {
    "duration": 5,
    "start_time": "2022-05-03T17:19:20.908Z"
   },
   {
    "duration": 11,
    "start_time": "2022-05-03T17:19:20.916Z"
   },
   {
    "duration": 35,
    "start_time": "2022-05-03T17:19:20.928Z"
   },
   {
    "duration": 13,
    "start_time": "2022-05-03T17:19:20.964Z"
   },
   {
    "duration": 15,
    "start_time": "2022-05-03T17:19:20.978Z"
   },
   {
    "duration": 10,
    "start_time": "2022-05-03T17:19:20.994Z"
   },
   {
    "duration": 11,
    "start_time": "2022-05-03T17:19:21.005Z"
   },
   {
    "duration": 5,
    "start_time": "2022-05-03T17:19:21.018Z"
   },
   {
    "duration": 33,
    "start_time": "2022-05-03T17:19:21.025Z"
   },
   {
    "duration": 12,
    "start_time": "2022-05-03T17:19:21.059Z"
   },
   {
    "duration": 23,
    "start_time": "2022-05-03T17:19:21.072Z"
   },
   {
    "duration": 19,
    "start_time": "2022-05-03T17:19:21.096Z"
   },
   {
    "duration": 42,
    "start_time": "2022-05-03T17:19:21.117Z"
   },
   {
    "duration": 94,
    "start_time": "2022-05-03T17:19:21.161Z"
   },
   {
    "duration": 403,
    "start_time": "2022-05-03T17:19:21.256Z"
   },
   {
    "duration": 5,
    "start_time": "2022-05-03T17:19:21.660Z"
   },
   {
    "duration": 200,
    "start_time": "2022-05-03T17:19:21.666Z"
   },
   {
    "duration": 118,
    "start_time": "2022-05-03T17:19:21.868Z"
   },
   {
    "duration": 6488,
    "start_time": "2022-05-03T17:19:21.987Z"
   },
   {
    "duration": 7671,
    "start_time": "2022-05-03T17:19:28.480Z"
   },
   {
    "duration": 128,
    "start_time": "2022-05-03T17:19:36.155Z"
   },
   {
    "duration": 69,
    "start_time": "2022-05-03T17:19:36.285Z"
   },
   {
    "duration": 302,
    "start_time": "2022-05-03T17:19:36.357Z"
   },
   {
    "duration": 27,
    "start_time": "2022-05-03T17:19:36.660Z"
   },
   {
    "duration": 121,
    "start_time": "2022-05-03T17:19:36.689Z"
   },
   {
    "duration": 2778,
    "start_time": "2022-05-03T17:19:36.811Z"
   },
   {
    "duration": 13514,
    "start_time": "2022-05-03T17:19:39.591Z"
   },
   {
    "duration": 138,
    "start_time": "2022-05-03T17:19:53.107Z"
   },
   {
    "duration": 21,
    "start_time": "2022-05-03T17:19:53.247Z"
   },
   {
    "duration": 87,
    "start_time": "2022-05-03T17:19:53.269Z"
   },
   {
    "duration": 282,
    "start_time": "2022-05-03T17:19:53.360Z"
   },
   {
    "duration": 289,
    "start_time": "2022-05-03T17:19:53.655Z"
   },
   {
    "duration": 116,
    "start_time": "2022-05-03T17:19:53.946Z"
   },
   {
    "duration": 481,
    "start_time": "2022-05-03T17:19:54.065Z"
   },
   {
    "duration": 147,
    "start_time": "2022-05-03T17:19:54.548Z"
   },
   {
    "duration": 3616,
    "start_time": "2022-05-03T17:30:27.859Z"
   },
   {
    "duration": 4844,
    "start_time": "2022-05-03T17:30:41.339Z"
   },
   {
    "duration": 7290,
    "start_time": "2022-05-03T17:30:55.780Z"
   },
   {
    "duration": 482,
    "start_time": "2022-05-03T17:32:17.211Z"
   },
   {
    "duration": 133,
    "start_time": "2022-05-03T17:32:21.799Z"
   },
   {
    "duration": 3370,
    "start_time": "2022-05-03T17:33:49.804Z"
   },
   {
    "duration": 4708,
    "start_time": "2022-05-03T17:34:10.096Z"
   },
   {
    "duration": 71,
    "start_time": "2022-05-03T17:35:25.950Z"
   },
   {
    "duration": 15674,
    "start_time": "2022-05-03T17:35:47.319Z"
   },
   {
    "duration": 4804,
    "start_time": "2022-05-03T17:36:41.167Z"
   },
   {
    "duration": 21779,
    "start_time": "2022-05-03T17:36:48.285Z"
   },
   {
    "duration": 128,
    "start_time": "2022-05-03T17:37:20.980Z"
   },
   {
    "duration": 3823,
    "start_time": "2022-05-03T17:37:41.299Z"
   },
   {
    "duration": 12648,
    "start_time": "2022-05-03T17:37:53.336Z"
   },
   {
    "duration": 121,
    "start_time": "2022-05-03T17:39:01.039Z"
   },
   {
    "duration": 1507,
    "start_time": "2022-05-03T17:40:22.424Z"
   },
   {
    "duration": 24,
    "start_time": "2022-05-03T17:40:23.933Z"
   },
   {
    "duration": 16,
    "start_time": "2022-05-03T17:40:23.959Z"
   },
   {
    "duration": 38,
    "start_time": "2022-05-03T17:40:23.976Z"
   },
   {
    "duration": 22,
    "start_time": "2022-05-03T17:40:24.017Z"
   },
   {
    "duration": 26,
    "start_time": "2022-05-03T17:40:24.040Z"
   },
   {
    "duration": 32,
    "start_time": "2022-05-03T17:40:24.067Z"
   },
   {
    "duration": 45,
    "start_time": "2022-05-03T17:40:24.101Z"
   },
   {
    "duration": 7,
    "start_time": "2022-05-03T17:40:24.148Z"
   },
   {
    "duration": 24,
    "start_time": "2022-05-03T17:40:24.156Z"
   },
   {
    "duration": 26,
    "start_time": "2022-05-03T17:40:24.182Z"
   },
   {
    "duration": 15,
    "start_time": "2022-05-03T17:40:24.210Z"
   },
   {
    "duration": 21,
    "start_time": "2022-05-03T17:40:24.226Z"
   },
   {
    "duration": 22,
    "start_time": "2022-05-03T17:40:24.250Z"
   },
   {
    "duration": 41,
    "start_time": "2022-05-03T17:40:24.273Z"
   },
   {
    "duration": 13,
    "start_time": "2022-05-03T17:40:24.315Z"
   },
   {
    "duration": 39,
    "start_time": "2022-05-03T17:40:24.330Z"
   },
   {
    "duration": 11,
    "start_time": "2022-05-03T17:40:24.370Z"
   },
   {
    "duration": 17,
    "start_time": "2022-05-03T17:40:24.382Z"
   },
   {
    "duration": 27,
    "start_time": "2022-05-03T17:40:24.400Z"
   },
   {
    "duration": 50,
    "start_time": "2022-05-03T17:40:24.429Z"
   },
   {
    "duration": 7,
    "start_time": "2022-05-03T17:40:24.554Z"
   },
   {
    "duration": 391,
    "start_time": "2022-05-03T17:40:24.563Z"
   },
   {
    "duration": 4,
    "start_time": "2022-05-03T17:40:24.956Z"
   },
   {
    "duration": 228,
    "start_time": "2022-05-03T17:40:24.962Z"
   },
   {
    "duration": 111,
    "start_time": "2022-05-03T17:40:25.191Z"
   },
   {
    "duration": 6283,
    "start_time": "2022-05-03T17:40:25.304Z"
   },
   {
    "duration": 7218,
    "start_time": "2022-05-03T17:40:31.588Z"
   },
   {
    "duration": 127,
    "start_time": "2022-05-03T17:40:38.807Z"
   },
   {
    "duration": 120,
    "start_time": "2022-05-03T17:40:38.936Z"
   },
   {
    "duration": 296,
    "start_time": "2022-05-03T17:40:39.058Z"
   },
   {
    "duration": 29,
    "start_time": "2022-05-03T17:40:39.356Z"
   },
   {
    "duration": 200,
    "start_time": "2022-05-03T17:40:39.386Z"
   },
   {
    "duration": 2720,
    "start_time": "2022-05-03T17:40:39.588Z"
   },
   {
    "duration": 14281,
    "start_time": "2022-05-03T17:40:42.310Z"
   },
   {
    "duration": 198,
    "start_time": "2022-05-03T17:40:56.593Z"
   },
   {
    "duration": 18,
    "start_time": "2022-05-03T17:40:56.793Z"
   },
   {
    "duration": 52,
    "start_time": "2022-05-03T17:40:56.813Z"
   },
   {
    "duration": 388,
    "start_time": "2022-05-03T17:40:56.867Z"
   },
   {
    "duration": 249,
    "start_time": "2022-05-03T17:40:57.257Z"
   },
   {
    "duration": 111,
    "start_time": "2022-05-03T17:40:57.510Z"
   },
   {
    "duration": 3563,
    "start_time": "2022-05-03T17:40:57.622Z"
   },
   {
    "duration": 12849,
    "start_time": "2022-05-03T17:41:01.188Z"
   },
   {
    "duration": 129,
    "start_time": "2022-05-03T17:41:14.040Z"
   },
   {
    "duration": 1652,
    "start_time": "2022-05-04T07:46:44.513Z"
   },
   {
    "duration": 41,
    "start_time": "2022-05-04T07:46:46.168Z"
   },
   {
    "duration": 15,
    "start_time": "2022-05-04T07:46:46.210Z"
   },
   {
    "duration": 14,
    "start_time": "2022-05-04T07:46:46.226Z"
   },
   {
    "duration": 3,
    "start_time": "2022-05-04T07:46:46.242Z"
   },
   {
    "duration": 7,
    "start_time": "2022-05-04T07:46:46.246Z"
   },
   {
    "duration": 6,
    "start_time": "2022-05-04T07:46:46.255Z"
   },
   {
    "duration": 15,
    "start_time": "2022-05-04T07:46:46.262Z"
   },
   {
    "duration": 4,
    "start_time": "2022-05-04T07:46:46.301Z"
   },
   {
    "duration": 11,
    "start_time": "2022-05-04T07:46:46.306Z"
   },
   {
    "duration": 20,
    "start_time": "2022-05-04T07:46:46.318Z"
   },
   {
    "duration": 15,
    "start_time": "2022-05-04T07:46:46.339Z"
   },
   {
    "duration": 9,
    "start_time": "2022-05-04T07:46:46.355Z"
   },
   {
    "duration": 7,
    "start_time": "2022-05-04T07:46:46.367Z"
   },
   {
    "duration": 24,
    "start_time": "2022-05-04T07:46:46.376Z"
   },
   {
    "duration": 2,
    "start_time": "2022-05-04T07:46:46.402Z"
   },
   {
    "duration": 26,
    "start_time": "2022-05-04T07:46:46.406Z"
   },
   {
    "duration": 10,
    "start_time": "2022-05-04T07:46:46.434Z"
   },
   {
    "duration": 6,
    "start_time": "2022-05-04T07:46:46.445Z"
   },
   {
    "duration": 4,
    "start_time": "2022-05-04T07:46:46.452Z"
   },
   {
    "duration": 144,
    "start_time": "2022-05-04T07:46:46.457Z"
   },
   {
    "duration": 6,
    "start_time": "2022-05-04T07:46:46.603Z"
   },
   {
    "duration": 375,
    "start_time": "2022-05-04T07:46:46.611Z"
   },
   {
    "duration": 4,
    "start_time": "2022-05-04T07:46:46.999Z"
   },
   {
    "duration": 200,
    "start_time": "2022-05-04T07:46:47.005Z"
   },
   {
    "duration": 108,
    "start_time": "2022-05-04T07:46:47.206Z"
   },
   {
    "duration": 6267,
    "start_time": "2022-05-04T07:46:47.316Z"
   },
   {
    "duration": 7009,
    "start_time": "2022-05-04T07:46:53.584Z"
   },
   {
    "duration": 133,
    "start_time": "2022-05-04T07:47:00.595Z"
   },
   {
    "duration": 74,
    "start_time": "2022-05-04T07:47:00.729Z"
   },
   {
    "duration": 374,
    "start_time": "2022-05-04T07:47:00.806Z"
   },
   {
    "duration": 43,
    "start_time": "2022-05-04T07:47:01.181Z"
   },
   {
    "duration": 178,
    "start_time": "2022-05-04T07:47:01.226Z"
   },
   {
    "duration": 2561,
    "start_time": "2022-05-04T07:47:01.406Z"
   },
   {
    "duration": 11908,
    "start_time": "2022-05-04T07:47:03.969Z"
   },
   {
    "duration": 133,
    "start_time": "2022-05-04T07:47:15.879Z"
   },
   {
    "duration": 15,
    "start_time": "2022-05-04T07:47:16.013Z"
   },
   {
    "duration": 72,
    "start_time": "2022-05-04T07:47:16.029Z"
   },
   {
    "duration": 342,
    "start_time": "2022-05-04T07:47:16.103Z"
   },
   {
    "duration": 246,
    "start_time": "2022-05-04T07:47:16.447Z"
   },
   {
    "duration": 113,
    "start_time": "2022-05-04T07:47:16.699Z"
   },
   {
    "duration": 3450,
    "start_time": "2022-05-04T07:47:16.816Z"
   },
   {
    "duration": 12601,
    "start_time": "2022-05-04T07:47:20.270Z"
   },
   {
    "duration": 113,
    "start_time": "2022-05-04T07:47:32.873Z"
   },
   {
    "duration": 20,
    "start_time": "2022-05-04T07:56:07.792Z"
   },
   {
    "duration": 6,
    "start_time": "2022-05-04T07:56:22.514Z"
   },
   {
    "duration": 4,
    "start_time": "2022-05-04T07:56:35.442Z"
   },
   {
    "duration": 4,
    "start_time": "2022-05-04T07:56:43.072Z"
   },
   {
    "duration": 5,
    "start_time": "2022-05-04T07:57:29.013Z"
   },
   {
    "duration": 4,
    "start_time": "2022-05-04T07:57:42.673Z"
   },
   {
    "duration": 107,
    "start_time": "2022-05-04T07:58:14.977Z"
   },
   {
    "duration": 4,
    "start_time": "2022-05-04T07:58:19.208Z"
   },
   {
    "duration": 9,
    "start_time": "2022-05-04T08:00:12.912Z"
   },
   {
    "duration": 15,
    "start_time": "2022-05-04T08:02:14.473Z"
   },
   {
    "duration": 248,
    "start_time": "2022-05-04T08:02:15.472Z"
   },
   {
    "duration": 227,
    "start_time": "2022-05-04T08:03:12.732Z"
   },
   {
    "duration": 99,
    "start_time": "2022-05-04T08:03:14.273Z"
   },
   {
    "duration": 95,
    "start_time": "2022-05-04T08:04:02.292Z"
   },
   {
    "duration": 97,
    "start_time": "2022-05-04T08:04:03.734Z"
   },
   {
    "duration": 1333,
    "start_time": "2022-05-04T08:06:30.892Z"
   },
   {
    "duration": 6014,
    "start_time": "2022-05-04T08:06:44.753Z"
   },
   {
    "duration": 109,
    "start_time": "2022-05-04T08:06:55.638Z"
   },
   {
    "duration": 1553,
    "start_time": "2022-05-04T08:11:02.879Z"
   },
   {
    "duration": 40,
    "start_time": "2022-05-04T08:11:04.434Z"
   },
   {
    "duration": 18,
    "start_time": "2022-05-04T08:11:04.475Z"
   },
   {
    "duration": 29,
    "start_time": "2022-05-04T08:11:04.495Z"
   },
   {
    "duration": 3,
    "start_time": "2022-05-04T08:11:04.526Z"
   },
   {
    "duration": 8,
    "start_time": "2022-05-04T08:11:04.530Z"
   },
   {
    "duration": 6,
    "start_time": "2022-05-04T08:11:04.539Z"
   },
   {
    "duration": 15,
    "start_time": "2022-05-04T08:11:04.547Z"
   },
   {
    "duration": 4,
    "start_time": "2022-05-04T08:11:04.563Z"
   },
   {
    "duration": 11,
    "start_time": "2022-05-04T08:11:04.569Z"
   },
   {
    "duration": 14,
    "start_time": "2022-05-04T08:11:04.599Z"
   },
   {
    "duration": 23,
    "start_time": "2022-05-04T08:11:04.615Z"
   },
   {
    "duration": 10,
    "start_time": "2022-05-04T08:11:04.640Z"
   },
   {
    "duration": 9,
    "start_time": "2022-05-04T08:11:04.651Z"
   },
   {
    "duration": 8,
    "start_time": "2022-05-04T08:11:04.661Z"
   },
   {
    "duration": 4,
    "start_time": "2022-05-04T08:11:04.670Z"
   },
   {
    "duration": 50,
    "start_time": "2022-05-04T08:11:04.675Z"
   },
   {
    "duration": 11,
    "start_time": "2022-05-04T08:11:04.727Z"
   },
   {
    "duration": 10,
    "start_time": "2022-05-04T08:11:04.740Z"
   },
   {
    "duration": 13,
    "start_time": "2022-05-04T08:11:04.751Z"
   },
   {
    "duration": 8,
    "start_time": "2022-05-04T08:11:04.765Z"
   },
   {
    "duration": 4,
    "start_time": "2022-05-04T08:11:04.774Z"
   },
   {
    "duration": 52,
    "start_time": "2022-05-04T08:11:04.779Z"
   },
   {
    "duration": 70,
    "start_time": "2022-05-04T08:11:04.834Z"
   },
   {
    "duration": 398,
    "start_time": "2022-05-04T08:11:04.906Z"
   },
   {
    "duration": 5,
    "start_time": "2022-05-04T08:11:05.307Z"
   },
   {
    "duration": 254,
    "start_time": "2022-05-04T08:11:05.314Z"
   },
   {
    "duration": 112,
    "start_time": "2022-05-04T08:11:05.573Z"
   },
   {
    "duration": 6432,
    "start_time": "2022-05-04T08:11:05.686Z"
   },
   {
    "duration": 7249,
    "start_time": "2022-05-04T08:11:12.120Z"
   },
   {
    "duration": 133,
    "start_time": "2022-05-04T08:11:19.371Z"
   },
   {
    "duration": 28,
    "start_time": "2022-05-04T08:11:19.506Z"
   },
   {
    "duration": 374,
    "start_time": "2022-05-04T08:11:19.603Z"
   },
   {
    "duration": 48,
    "start_time": "2022-05-04T08:11:19.979Z"
   },
   {
    "duration": 190,
    "start_time": "2022-05-04T08:11:20.029Z"
   },
   {
    "duration": 2652,
    "start_time": "2022-05-04T08:11:20.221Z"
   },
   {
    "duration": 12743,
    "start_time": "2022-05-04T08:11:22.875Z"
   },
   {
    "duration": 128,
    "start_time": "2022-05-04T08:11:35.619Z"
   },
   {
    "duration": 112,
    "start_time": "2022-05-04T08:11:35.749Z"
   },
   {
    "duration": 0,
    "start_time": "2022-05-04T08:11:35.862Z"
   },
   {
    "duration": 0,
    "start_time": "2022-05-04T08:11:35.863Z"
   },
   {
    "duration": 0,
    "start_time": "2022-05-04T08:11:35.864Z"
   },
   {
    "duration": 0,
    "start_time": "2022-05-04T08:11:35.866Z"
   },
   {
    "duration": 0,
    "start_time": "2022-05-04T08:11:35.866Z"
   },
   {
    "duration": 0,
    "start_time": "2022-05-04T08:11:35.867Z"
   },
   {
    "duration": 0,
    "start_time": "2022-05-04T08:11:35.868Z"
   },
   {
    "duration": 0,
    "start_time": "2022-05-04T08:11:35.869Z"
   },
   {
    "duration": 0,
    "start_time": "2022-05-04T08:11:35.870Z"
   },
   {
    "duration": 0,
    "start_time": "2022-05-04T08:11:35.871Z"
   },
   {
    "duration": 0,
    "start_time": "2022-05-04T08:11:35.872Z"
   },
   {
    "duration": 0,
    "start_time": "2022-05-04T08:11:35.873Z"
   },
   {
    "duration": 0,
    "start_time": "2022-05-04T08:11:35.874Z"
   },
   {
    "duration": 0,
    "start_time": "2022-05-04T08:11:35.875Z"
   },
   {
    "duration": 0,
    "start_time": "2022-05-04T08:11:35.904Z"
   },
   {
    "duration": 1572,
    "start_time": "2022-05-04T08:12:16.945Z"
   },
   {
    "duration": 31,
    "start_time": "2022-05-04T08:12:18.519Z"
   },
   {
    "duration": 16,
    "start_time": "2022-05-04T08:12:18.551Z"
   },
   {
    "duration": 13,
    "start_time": "2022-05-04T08:12:18.569Z"
   },
   {
    "duration": 3,
    "start_time": "2022-05-04T08:12:18.584Z"
   },
   {
    "duration": 8,
    "start_time": "2022-05-04T08:12:18.599Z"
   },
   {
    "duration": 6,
    "start_time": "2022-05-04T08:12:18.609Z"
   },
   {
    "duration": 16,
    "start_time": "2022-05-04T08:12:18.617Z"
   },
   {
    "duration": 5,
    "start_time": "2022-05-04T08:12:18.635Z"
   },
   {
    "duration": 13,
    "start_time": "2022-05-04T08:12:18.643Z"
   },
   {
    "duration": 53,
    "start_time": "2022-05-04T08:12:18.657Z"
   },
   {
    "duration": 11,
    "start_time": "2022-05-04T08:12:18.712Z"
   },
   {
    "duration": 10,
    "start_time": "2022-05-04T08:12:18.724Z"
   },
   {
    "duration": 7,
    "start_time": "2022-05-04T08:12:18.735Z"
   },
   {
    "duration": 6,
    "start_time": "2022-05-04T08:12:18.744Z"
   },
   {
    "duration": 3,
    "start_time": "2022-05-04T08:12:18.751Z"
   },
   {
    "duration": 59,
    "start_time": "2022-05-04T08:12:18.756Z"
   },
   {
    "duration": 10,
    "start_time": "2022-05-04T08:12:18.817Z"
   },
   {
    "duration": 7,
    "start_time": "2022-05-04T08:12:18.829Z"
   },
   {
    "duration": 6,
    "start_time": "2022-05-04T08:12:18.838Z"
   },
   {
    "duration": 6,
    "start_time": "2022-05-04T08:12:18.845Z"
   },
   {
    "duration": 3,
    "start_time": "2022-05-04T08:12:18.852Z"
   },
   {
    "duration": 145,
    "start_time": "2022-05-04T08:12:18.857Z"
   },
   {
    "duration": 6,
    "start_time": "2022-05-04T08:12:19.004Z"
   },
   {
    "duration": 396,
    "start_time": "2022-05-04T08:12:19.012Z"
   },
   {
    "duration": 4,
    "start_time": "2022-05-04T08:12:19.410Z"
   },
   {
    "duration": 235,
    "start_time": "2022-05-04T08:12:19.415Z"
   },
   {
    "duration": 111,
    "start_time": "2022-05-04T08:12:19.653Z"
   },
   {
    "duration": 6639,
    "start_time": "2022-05-04T08:12:19.766Z"
   },
   {
    "duration": 7189,
    "start_time": "2022-05-04T08:12:26.407Z"
   },
   {
    "duration": 135,
    "start_time": "2022-05-04T08:12:33.601Z"
   },
   {
    "duration": 70,
    "start_time": "2022-05-04T08:12:33.738Z"
   },
   {
    "duration": 383,
    "start_time": "2022-05-04T08:12:33.810Z"
   },
   {
    "duration": 36,
    "start_time": "2022-05-04T08:12:34.194Z"
   },
   {
    "duration": 203,
    "start_time": "2022-05-04T08:12:34.232Z"
   },
   {
    "duration": 2647,
    "start_time": "2022-05-04T08:12:34.438Z"
   },
   {
    "duration": 12418,
    "start_time": "2022-05-04T08:12:37.086Z"
   },
   {
    "duration": 200,
    "start_time": "2022-05-04T08:12:49.506Z"
   },
   {
    "duration": 17,
    "start_time": "2022-05-04T08:12:49.709Z"
   },
   {
    "duration": 172,
    "start_time": "2022-05-04T08:12:49.728Z"
   },
   {
    "duration": 285,
    "start_time": "2022-05-04T08:12:49.903Z"
   },
   {
    "duration": 259,
    "start_time": "2022-05-04T08:12:50.190Z"
   },
   {
    "duration": 120,
    "start_time": "2022-05-04T08:12:50.451Z"
   },
   {
    "duration": 3630,
    "start_time": "2022-05-04T08:12:50.572Z"
   },
   {
    "duration": 13010,
    "start_time": "2022-05-04T08:12:54.203Z"
   },
   {
    "duration": 123,
    "start_time": "2022-05-04T08:13:07.215Z"
   },
   {
    "duration": 8,
    "start_time": "2022-05-04T08:13:07.340Z"
   },
   {
    "duration": 54,
    "start_time": "2022-05-04T08:13:07.349Z"
   },
   {
    "duration": 294,
    "start_time": "2022-05-04T08:13:07.406Z"
   },
   {
    "duration": 117,
    "start_time": "2022-05-04T08:13:07.702Z"
   },
   {
    "duration": 116,
    "start_time": "2022-05-04T08:13:07.821Z"
   },
   {
    "duration": 1423,
    "start_time": "2022-05-04T08:13:07.939Z"
   },
   {
    "duration": 6177,
    "start_time": "2022-05-04T08:13:09.364Z"
   },
   {
    "duration": 129,
    "start_time": "2022-05-04T08:13:15.543Z"
   },
   {
    "duration": 347,
    "start_time": "2022-05-04T08:16:05.676Z"
   },
   {
    "duration": 130,
    "start_time": "2022-05-04T08:16:14.891Z"
   },
   {
    "duration": 586,
    "start_time": "2022-05-04T08:16:56.471Z"
   },
   {
    "duration": 337,
    "start_time": "2022-05-04T08:17:03.450Z"
   },
   {
    "duration": 134,
    "start_time": "2022-05-04T08:17:05.318Z"
   },
   {
    "duration": 348,
    "start_time": "2022-05-04T08:17:44.631Z"
   },
   {
    "duration": 143,
    "start_time": "2022-05-04T08:17:44.981Z"
   },
   {
    "duration": 1441,
    "start_time": "2022-05-04T08:28:14.053Z"
   },
   {
    "duration": 30,
    "start_time": "2022-05-04T08:28:15.497Z"
   },
   {
    "duration": 15,
    "start_time": "2022-05-04T08:28:15.529Z"
   },
   {
    "duration": 11,
    "start_time": "2022-05-04T08:28:15.546Z"
   },
   {
    "duration": 3,
    "start_time": "2022-05-04T08:28:15.558Z"
   },
   {
    "duration": 8,
    "start_time": "2022-05-04T08:28:15.563Z"
   },
   {
    "duration": 28,
    "start_time": "2022-05-04T08:28:15.572Z"
   },
   {
    "duration": 15,
    "start_time": "2022-05-04T08:28:15.602Z"
   },
   {
    "duration": 4,
    "start_time": "2022-05-04T08:28:15.619Z"
   },
   {
    "duration": 10,
    "start_time": "2022-05-04T08:28:15.625Z"
   },
   {
    "duration": 19,
    "start_time": "2022-05-04T08:28:15.637Z"
   },
   {
    "duration": 9,
    "start_time": "2022-05-04T08:28:15.657Z"
   },
   {
    "duration": 34,
    "start_time": "2022-05-04T08:28:15.667Z"
   },
   {
    "duration": 5,
    "start_time": "2022-05-04T08:28:15.703Z"
   },
   {
    "duration": 6,
    "start_time": "2022-05-04T08:28:15.709Z"
   },
   {
    "duration": 7,
    "start_time": "2022-05-04T08:28:15.716Z"
   },
   {
    "duration": 22,
    "start_time": "2022-05-04T08:28:15.724Z"
   },
   {
    "duration": 10,
    "start_time": "2022-05-04T08:28:15.748Z"
   },
   {
    "duration": 4,
    "start_time": "2022-05-04T08:28:15.760Z"
   },
   {
    "duration": 36,
    "start_time": "2022-05-04T08:28:15.766Z"
   },
   {
    "duration": 4,
    "start_time": "2022-05-04T08:28:15.804Z"
   },
   {
    "duration": 5,
    "start_time": "2022-05-04T08:28:15.809Z"
   },
   {
    "duration": 89,
    "start_time": "2022-05-04T08:28:15.815Z"
   },
   {
    "duration": 95,
    "start_time": "2022-05-04T08:28:15.906Z"
   },
   {
    "duration": 302,
    "start_time": "2022-05-04T08:28:16.003Z"
   },
   {
    "duration": 4,
    "start_time": "2022-05-04T08:28:16.307Z"
   },
   {
    "duration": 215,
    "start_time": "2022-05-04T08:28:16.313Z"
   },
   {
    "duration": 102,
    "start_time": "2022-05-04T08:28:16.532Z"
   },
   {
    "duration": 6255,
    "start_time": "2022-05-04T08:28:16.636Z"
   },
   {
    "duration": 7216,
    "start_time": "2022-05-04T08:28:22.892Z"
   },
   {
    "duration": 140,
    "start_time": "2022-05-04T08:28:30.110Z"
   },
   {
    "duration": 150,
    "start_time": "2022-05-04T08:28:30.251Z"
   },
   {
    "duration": 297,
    "start_time": "2022-05-04T08:28:30.404Z"
   },
   {
    "duration": 32,
    "start_time": "2022-05-04T08:28:30.702Z"
   },
   {
    "duration": 202,
    "start_time": "2022-05-04T08:28:30.736Z"
   },
   {
    "duration": 2591,
    "start_time": "2022-05-04T08:28:30.940Z"
   },
   {
    "duration": 12180,
    "start_time": "2022-05-04T08:28:33.532Z"
   },
   {
    "duration": 132,
    "start_time": "2022-05-04T08:28:45.714Z"
   },
   {
    "duration": 14,
    "start_time": "2022-05-04T08:28:45.847Z"
   },
   {
    "duration": 139,
    "start_time": "2022-05-04T08:28:45.862Z"
   },
   {
    "duration": 301,
    "start_time": "2022-05-04T08:28:46.003Z"
   },
   {
    "duration": 263,
    "start_time": "2022-05-04T08:28:46.306Z"
   },
   {
    "duration": 113,
    "start_time": "2022-05-04T08:28:46.570Z"
   },
   {
    "duration": 3582,
    "start_time": "2022-05-04T08:28:46.685Z"
   },
   {
    "duration": 12884,
    "start_time": "2022-05-04T08:28:50.269Z"
   },
   {
    "duration": 123,
    "start_time": "2022-05-04T08:29:03.154Z"
   },
   {
    "duration": 8,
    "start_time": "2022-05-04T08:29:03.279Z"
   },
   {
    "duration": 43,
    "start_time": "2022-05-04T08:29:03.288Z"
   },
   {
    "duration": 367,
    "start_time": "2022-05-04T08:29:03.416Z"
   },
   {
    "duration": 118,
    "start_time": "2022-05-04T08:29:03.784Z"
   },
   {
    "duration": 115,
    "start_time": "2022-05-04T08:29:03.903Z"
   },
   {
    "duration": 1405,
    "start_time": "2022-05-04T08:29:04.020Z"
   },
   {
    "duration": 6234,
    "start_time": "2022-05-04T08:29:05.427Z"
   },
   {
    "duration": 122,
    "start_time": "2022-05-04T08:29:11.663Z"
   },
   {
    "duration": 349,
    "start_time": "2022-05-04T08:29:11.786Z"
   },
   {
    "duration": 131,
    "start_time": "2022-05-04T08:29:12.136Z"
   },
   {
    "duration": 2114,
    "start_time": "2022-05-05T07:28:32.808Z"
   },
   {
    "duration": 31,
    "start_time": "2022-05-05T07:28:34.925Z"
   },
   {
    "duration": 20,
    "start_time": "2022-05-05T07:28:35.008Z"
   },
   {
    "duration": 15,
    "start_time": "2022-05-05T07:28:35.031Z"
   },
   {
    "duration": 4,
    "start_time": "2022-05-05T07:28:35.109Z"
   },
   {
    "duration": 8,
    "start_time": "2022-05-05T07:28:35.115Z"
   },
   {
    "duration": 7,
    "start_time": "2022-05-05T07:28:35.125Z"
   },
   {
    "duration": 88,
    "start_time": "2022-05-05T07:28:35.133Z"
   },
   {
    "duration": 6,
    "start_time": "2022-05-05T07:28:35.223Z"
   },
   {
    "duration": 76,
    "start_time": "2022-05-05T07:28:35.233Z"
   },
   {
    "duration": 18,
    "start_time": "2022-05-05T07:28:35.311Z"
   },
   {
    "duration": 10,
    "start_time": "2022-05-05T07:28:35.331Z"
   },
   {
    "duration": 18,
    "start_time": "2022-05-05T07:28:35.407Z"
   },
   {
    "duration": 7,
    "start_time": "2022-05-05T07:28:35.428Z"
   },
   {
    "duration": 70,
    "start_time": "2022-05-05T07:28:35.437Z"
   },
   {
    "duration": 4,
    "start_time": "2022-05-05T07:28:35.509Z"
   },
   {
    "duration": 92,
    "start_time": "2022-05-05T07:28:35.515Z"
   },
   {
    "duration": 17,
    "start_time": "2022-05-05T07:28:35.610Z"
   },
   {
    "duration": 15,
    "start_time": "2022-05-05T07:28:35.629Z"
   },
   {
    "duration": 63,
    "start_time": "2022-05-05T07:28:35.646Z"
   },
   {
    "duration": 8,
    "start_time": "2022-05-05T07:28:35.711Z"
   },
   {
    "duration": 4,
    "start_time": "2022-05-05T07:28:35.721Z"
   },
   {
    "duration": 183,
    "start_time": "2022-05-05T07:28:35.728Z"
   },
   {
    "duration": 94,
    "start_time": "2022-05-05T07:28:35.914Z"
   },
   {
    "duration": 521,
    "start_time": "2022-05-05T07:28:36.011Z"
   },
   {
    "duration": 6,
    "start_time": "2022-05-05T07:28:36.534Z"
   },
   {
    "duration": 572,
    "start_time": "2022-05-05T07:28:36.542Z"
   },
   {
    "duration": 293,
    "start_time": "2022-05-05T07:28:37.118Z"
   },
   {
    "duration": 14832,
    "start_time": "2022-05-05T07:28:37.414Z"
   },
   {
    "duration": 16562,
    "start_time": "2022-05-05T07:28:52.248Z"
   },
   {
    "duration": 308,
    "start_time": "2022-05-05T07:29:08.811Z"
   },
   {
    "duration": 187,
    "start_time": "2022-05-05T07:29:09.121Z"
   },
   {
    "duration": 502,
    "start_time": "2022-05-05T07:29:09.310Z"
   },
   {
    "duration": 95,
    "start_time": "2022-05-05T07:29:09.814Z"
   },
   {
    "duration": 307,
    "start_time": "2022-05-05T07:29:09.911Z"
   },
   {
    "duration": 6229,
    "start_time": "2022-05-05T07:29:10.220Z"
   },
   {
    "duration": 28231,
    "start_time": "2022-05-05T07:29:16.508Z"
   },
   {
    "duration": 297,
    "start_time": "2022-05-05T07:29:44.741Z"
   },
   {
    "duration": 78,
    "start_time": "2022-05-05T07:29:45.040Z"
   },
   {
    "duration": 191,
    "start_time": "2022-05-05T07:29:45.121Z"
   },
   {
    "duration": 597,
    "start_time": "2022-05-05T07:29:45.314Z"
   },
   {
    "duration": 602,
    "start_time": "2022-05-05T07:29:45.913Z"
   },
   {
    "duration": 226,
    "start_time": "2022-05-05T07:29:46.517Z"
   },
   {
    "duration": 8482,
    "start_time": "2022-05-05T07:29:46.745Z"
   },
   {
    "duration": 30797,
    "start_time": "2022-05-05T07:29:55.229Z"
   },
   {
    "duration": 284,
    "start_time": "2022-05-05T07:30:26.028Z"
   },
   {
    "duration": 11,
    "start_time": "2022-05-05T07:30:26.314Z"
   },
   {
    "duration": 83,
    "start_time": "2022-05-05T07:30:26.327Z"
   },
   {
    "duration": 440,
    "start_time": "2022-05-05T07:30:26.414Z"
   },
   {
    "duration": 226,
    "start_time": "2022-05-05T07:30:26.908Z"
   },
   {
    "duration": 301,
    "start_time": "2022-05-05T07:30:27.136Z"
   },
   {
    "duration": 3293,
    "start_time": "2022-05-05T07:30:27.439Z"
   },
   {
    "duration": 14107,
    "start_time": "2022-05-05T07:30:30.734Z"
   },
   {
    "duration": 301,
    "start_time": "2022-05-05T07:30:44.843Z"
   },
   {
    "duration": 788,
    "start_time": "2022-05-05T07:30:45.147Z"
   },
   {
    "duration": 370,
    "start_time": "2022-05-05T07:30:45.937Z"
   },
   {
    "duration": 1766,
    "start_time": "2022-05-05T09:46:59.422Z"
   },
   {
    "duration": 41,
    "start_time": "2022-05-05T09:47:02.847Z"
   },
   {
    "duration": 18,
    "start_time": "2022-05-05T09:47:03.786Z"
   },
   {
    "duration": 15,
    "start_time": "2022-05-05T09:47:05.008Z"
   },
   {
    "duration": 3,
    "start_time": "2022-05-05T09:47:06.507Z"
   },
   {
    "duration": 6,
    "start_time": "2022-05-05T09:47:08.008Z"
   },
   {
    "duration": 5,
    "start_time": "2022-05-05T09:47:11.068Z"
   },
   {
    "duration": 16,
    "start_time": "2022-05-05T09:47:13.207Z"
   },
   {
    "duration": 5,
    "start_time": "2022-05-05T09:47:16.906Z"
   },
   {
    "duration": 11,
    "start_time": "2022-05-05T09:47:19.527Z"
   },
   {
    "duration": 13,
    "start_time": "2022-05-05T09:47:22.052Z"
   },
   {
    "duration": 11,
    "start_time": "2022-05-05T09:47:25.208Z"
   },
   {
    "duration": 12,
    "start_time": "2022-05-05T09:47:27.350Z"
   },
   {
    "duration": 6,
    "start_time": "2022-05-05T09:47:30.508Z"
   },
   {
    "duration": 6,
    "start_time": "2022-05-05T09:47:37.272Z"
   },
   {
    "duration": 8,
    "start_time": "2022-05-05T09:47:40.987Z"
   },
   {
    "duration": 5,
    "start_time": "2022-05-05T09:49:05.878Z"
   },
   {
    "duration": 7,
    "start_time": "2022-05-05T09:49:07.137Z"
   },
   {
    "duration": 8,
    "start_time": "2022-05-05T09:49:08.117Z"
   },
   {
    "duration": 4,
    "start_time": "2022-05-05T09:50:12.841Z"
   },
   {
    "duration": 4,
    "start_time": "2022-05-05T09:50:25.423Z"
   },
   {
    "duration": 4,
    "start_time": "2022-05-05T09:51:33.699Z"
   },
   {
    "duration": 7,
    "start_time": "2022-05-05T09:51:34.251Z"
   },
   {
    "duration": 7,
    "start_time": "2022-05-05T09:51:34.719Z"
   },
   {
    "duration": 3,
    "start_time": "2022-05-05T09:51:35.799Z"
   },
   {
    "duration": 4,
    "start_time": "2022-05-05T09:52:03.457Z"
   },
   {
    "duration": 1862,
    "start_time": "2022-05-05T09:56:26.984Z"
   },
   {
    "duration": 40,
    "start_time": "2022-05-05T09:56:28.848Z"
   },
   {
    "duration": 17,
    "start_time": "2022-05-05T09:56:28.890Z"
   },
   {
    "duration": 19,
    "start_time": "2022-05-05T09:56:28.909Z"
   },
   {
    "duration": 5,
    "start_time": "2022-05-05T09:56:28.930Z"
   },
   {
    "duration": 21,
    "start_time": "2022-05-05T09:56:28.936Z"
   },
   {
    "duration": 22,
    "start_time": "2022-05-05T09:56:28.959Z"
   },
   {
    "duration": 28,
    "start_time": "2022-05-05T09:56:28.983Z"
   },
   {
    "duration": 25,
    "start_time": "2022-05-05T09:56:29.013Z"
   },
   {
    "duration": 34,
    "start_time": "2022-05-05T09:56:29.040Z"
   },
   {
    "duration": 36,
    "start_time": "2022-05-05T09:56:29.075Z"
   },
   {
    "duration": 23,
    "start_time": "2022-05-05T09:56:29.113Z"
   },
   {
    "duration": 19,
    "start_time": "2022-05-05T09:56:29.137Z"
   },
   {
    "duration": 25,
    "start_time": "2022-05-05T09:56:29.159Z"
   },
   {
    "duration": 15,
    "start_time": "2022-05-05T09:56:29.186Z"
   },
   {
    "duration": 26,
    "start_time": "2022-05-05T09:56:29.203Z"
   },
   {
    "duration": 24,
    "start_time": "2022-05-05T09:56:29.231Z"
   },
   {
    "duration": 22,
    "start_time": "2022-05-05T09:56:29.257Z"
   },
   {
    "duration": 40,
    "start_time": "2022-05-05T09:56:29.281Z"
   },
   {
    "duration": 13,
    "start_time": "2022-05-05T09:56:29.323Z"
   },
   {
    "duration": 24,
    "start_time": "2022-05-05T09:56:29.338Z"
   },
   {
    "duration": 10,
    "start_time": "2022-05-05T09:56:29.364Z"
   },
   {
    "duration": 15,
    "start_time": "2022-05-05T09:56:29.375Z"
   },
   {
    "duration": 30,
    "start_time": "2022-05-05T09:56:29.391Z"
   },
   {
    "duration": 111,
    "start_time": "2022-05-05T09:56:29.423Z"
   },
   {
    "duration": 108,
    "start_time": "2022-05-05T09:56:29.537Z"
   },
   {
    "duration": 311,
    "start_time": "2022-05-05T09:56:29.647Z"
   },
   {
    "duration": 4,
    "start_time": "2022-05-05T09:56:29.960Z"
   },
   {
    "duration": 229,
    "start_time": "2022-05-05T09:56:29.965Z"
   },
   {
    "duration": 137,
    "start_time": "2022-05-05T09:56:30.196Z"
   },
   {
    "duration": 5950,
    "start_time": "2022-05-05T09:56:30.335Z"
   },
   {
    "duration": 6746,
    "start_time": "2022-05-05T09:56:36.287Z"
   },
   {
    "duration": 140,
    "start_time": "2022-05-05T09:56:43.035Z"
   },
   {
    "duration": 58,
    "start_time": "2022-05-05T09:56:43.176Z"
   },
   {
    "duration": 320,
    "start_time": "2022-05-05T09:56:43.236Z"
   },
   {
    "duration": 26,
    "start_time": "2022-05-05T09:56:43.558Z"
   },
   {
    "duration": 148,
    "start_time": "2022-05-05T09:56:43.585Z"
   },
   {
    "duration": 2585,
    "start_time": "2022-05-05T09:56:43.735Z"
   },
   {
    "duration": 11840,
    "start_time": "2022-05-05T09:56:46.322Z"
   },
   {
    "duration": 163,
    "start_time": "2022-05-05T09:56:58.164Z"
   },
   {
    "duration": 14,
    "start_time": "2022-05-05T09:56:58.331Z"
   },
   {
    "duration": 31,
    "start_time": "2022-05-05T09:56:58.347Z"
   },
   {
    "duration": 316,
    "start_time": "2022-05-05T09:56:58.438Z"
   },
   {
    "duration": 231,
    "start_time": "2022-05-05T09:56:58.756Z"
   },
   {
    "duration": 146,
    "start_time": "2022-05-05T09:56:58.989Z"
   },
   {
    "duration": 3498,
    "start_time": "2022-05-05T09:56:59.137Z"
   },
   {
    "duration": 12810,
    "start_time": "2022-05-05T09:57:02.637Z"
   },
   {
    "duration": 139,
    "start_time": "2022-05-05T09:57:15.449Z"
   },
   {
    "duration": 9,
    "start_time": "2022-05-05T09:57:15.590Z"
   },
   {
    "duration": 36,
    "start_time": "2022-05-05T09:57:15.600Z"
   },
   {
    "duration": 420,
    "start_time": "2022-05-05T09:57:15.639Z"
   },
   {
    "duration": 114,
    "start_time": "2022-05-05T09:57:16.061Z"
   },
   {
    "duration": 149,
    "start_time": "2022-05-05T09:57:16.177Z"
   },
   {
    "duration": 1405,
    "start_time": "2022-05-05T09:57:16.328Z"
   },
   {
    "duration": 6313,
    "start_time": "2022-05-05T09:57:17.735Z"
   },
   {
    "duration": 147,
    "start_time": "2022-05-05T09:57:24.050Z"
   },
   {
    "duration": 439,
    "start_time": "2022-05-05T09:57:24.199Z"
   },
   {
    "duration": 146,
    "start_time": "2022-05-05T09:57:24.639Z"
   },
   {
    "duration": 38,
    "start_time": "2022-05-05T10:02:38.005Z"
   },
   {
    "duration": 393,
    "start_time": "2022-05-05T10:03:02.919Z"
   },
   {
    "duration": 138,
    "start_time": "2022-05-05T10:03:35.551Z"
   },
   {
    "duration": 397,
    "start_time": "2022-05-05T10:04:05.399Z"
   },
   {
    "duration": 132,
    "start_time": "2022-05-05T10:04:08.750Z"
   },
   {
    "duration": 411,
    "start_time": "2022-05-05T10:04:30.993Z"
   },
   {
    "duration": 140,
    "start_time": "2022-05-05T10:06:54.667Z"
   },
   {
    "duration": 407,
    "start_time": "2022-05-05T10:07:00.821Z"
   },
   {
    "duration": 1639,
    "start_time": "2022-05-05T10:07:13.619Z"
   },
   {
    "duration": 32,
    "start_time": "2022-05-05T10:07:15.260Z"
   },
   {
    "duration": 16,
    "start_time": "2022-05-05T10:07:15.294Z"
   },
   {
    "duration": 15,
    "start_time": "2022-05-05T10:07:15.312Z"
   },
   {
    "duration": 4,
    "start_time": "2022-05-05T10:07:15.332Z"
   },
   {
    "duration": 11,
    "start_time": "2022-05-05T10:07:15.337Z"
   },
   {
    "duration": 7,
    "start_time": "2022-05-05T10:07:15.350Z"
   },
   {
    "duration": 16,
    "start_time": "2022-05-05T10:07:15.359Z"
   },
   {
    "duration": 5,
    "start_time": "2022-05-05T10:07:15.377Z"
   },
   {
    "duration": 13,
    "start_time": "2022-05-05T10:07:15.383Z"
   },
   {
    "duration": 40,
    "start_time": "2022-05-05T10:07:15.398Z"
   },
   {
    "duration": 10,
    "start_time": "2022-05-05T10:07:15.440Z"
   },
   {
    "duration": 12,
    "start_time": "2022-05-05T10:07:15.451Z"
   },
   {
    "duration": 13,
    "start_time": "2022-05-05T10:07:15.466Z"
   },
   {
    "duration": 7,
    "start_time": "2022-05-05T10:07:15.481Z"
   },
   {
    "duration": 6,
    "start_time": "2022-05-05T10:07:15.490Z"
   },
   {
    "duration": 4,
    "start_time": "2022-05-05T10:07:15.498Z"
   },
   {
    "duration": 33,
    "start_time": "2022-05-05T10:07:15.504Z"
   },
   {
    "duration": 42,
    "start_time": "2022-05-05T10:07:15.539Z"
   },
   {
    "duration": 12,
    "start_time": "2022-05-05T10:07:15.583Z"
   },
   {
    "duration": 6,
    "start_time": "2022-05-05T10:07:15.597Z"
   },
   {
    "duration": 7,
    "start_time": "2022-05-05T10:07:15.605Z"
   },
   {
    "duration": 5,
    "start_time": "2022-05-05T10:07:15.634Z"
   },
   {
    "duration": 6,
    "start_time": "2022-05-05T10:07:15.641Z"
   },
   {
    "duration": 25,
    "start_time": "2022-05-05T10:07:15.649Z"
   },
   {
    "duration": 96,
    "start_time": "2022-05-05T10:07:15.738Z"
   },
   {
    "duration": 314,
    "start_time": "2022-05-05T10:07:15.836Z"
   },
   {
    "duration": 4,
    "start_time": "2022-05-05T10:07:16.152Z"
   },
   {
    "duration": 181,
    "start_time": "2022-05-05T10:07:16.158Z"
   },
   {
    "duration": 132,
    "start_time": "2022-05-05T10:07:16.341Z"
   },
   {
    "duration": 5731,
    "start_time": "2022-05-05T10:07:16.475Z"
   },
   {
    "duration": 6961,
    "start_time": "2022-05-05T10:07:22.208Z"
   },
   {
    "duration": 151,
    "start_time": "2022-05-05T10:07:29.170Z"
   },
   {
    "duration": 115,
    "start_time": "2022-05-05T10:07:29.323Z"
   },
   {
    "duration": 405,
    "start_time": "2022-05-05T10:07:29.441Z"
   },
   {
    "duration": 29,
    "start_time": "2022-05-05T10:07:29.849Z"
   },
   {
    "duration": 158,
    "start_time": "2022-05-05T10:07:29.880Z"
   },
   {
    "duration": 2641,
    "start_time": "2022-05-05T10:07:30.041Z"
   },
   {
    "duration": 11664,
    "start_time": "2022-05-05T10:07:32.684Z"
   },
   {
    "duration": 147,
    "start_time": "2022-05-05T10:07:44.350Z"
   },
   {
    "duration": 11,
    "start_time": "2022-05-05T10:07:44.502Z"
   },
   {
    "duration": 42,
    "start_time": "2022-05-05T10:07:44.514Z"
   },
   {
    "duration": 386,
    "start_time": "2022-05-05T10:07:44.559Z"
   },
   {
    "duration": 230,
    "start_time": "2022-05-05T10:07:44.947Z"
   },
   {
    "duration": 135,
    "start_time": "2022-05-05T10:07:45.179Z"
   },
   {
    "duration": 3263,
    "start_time": "2022-05-05T10:07:45.316Z"
   },
   {
    "duration": 12216,
    "start_time": "2022-05-05T10:07:48.581Z"
   },
   {
    "duration": 154,
    "start_time": "2022-05-05T10:08:00.799Z"
   },
   {
    "duration": 10,
    "start_time": "2022-05-05T10:08:00.955Z"
   },
   {
    "duration": 68,
    "start_time": "2022-05-05T10:08:00.967Z"
   },
   {
    "duration": 419,
    "start_time": "2022-05-05T10:08:01.038Z"
   },
   {
    "duration": 122,
    "start_time": "2022-05-05T10:08:01.458Z"
   },
   {
    "duration": 140,
    "start_time": "2022-05-05T10:08:01.582Z"
   },
   {
    "duration": 1441,
    "start_time": "2022-05-05T10:08:01.724Z"
   },
   {
    "duration": 6297,
    "start_time": "2022-05-05T10:08:03.168Z"
   },
   {
    "duration": 143,
    "start_time": "2022-05-05T10:08:09.466Z"
   },
   {
    "duration": 401,
    "start_time": "2022-05-05T10:08:09.610Z"
   },
   {
    "duration": 159,
    "start_time": "2022-05-05T10:08:10.013Z"
   },
   {
    "duration": 6422,
    "start_time": "2022-05-05T10:14:27.094Z"
   },
   {
    "duration": 5736,
    "start_time": "2022-05-05T10:14:33.518Z"
   },
   {
    "duration": 6390,
    "start_time": "2022-05-05T10:14:42.357Z"
   },
   {
    "duration": 116,
    "start_time": "2022-05-05T10:15:05.274Z"
   },
   {
    "duration": 8,
    "start_time": "2022-05-05T10:15:11.035Z"
   },
   {
    "duration": 5888,
    "start_time": "2022-05-05T10:15:23.634Z"
   },
   {
    "duration": 6736,
    "start_time": "2022-05-05T10:15:32.634Z"
   },
   {
    "duration": 10,
    "start_time": "2022-05-05T10:15:41.054Z"
   },
   {
    "duration": 28,
    "start_time": "2022-05-05T10:16:13.017Z"
   },
   {
    "duration": 2397,
    "start_time": "2022-05-05T10:16:22.615Z"
   },
   {
    "duration": 10559,
    "start_time": "2022-05-05T10:16:35.279Z"
   },
   {
    "duration": 10,
    "start_time": "2022-05-05T10:17:09.338Z"
   },
   {
    "duration": 1541,
    "start_time": "2022-05-05T10:18:29.117Z"
   },
   {
    "duration": 40,
    "start_time": "2022-05-05T10:18:30.661Z"
   },
   {
    "duration": 26,
    "start_time": "2022-05-05T10:18:30.702Z"
   },
   {
    "duration": 29,
    "start_time": "2022-05-05T10:18:30.731Z"
   },
   {
    "duration": 4,
    "start_time": "2022-05-05T10:18:30.762Z"
   },
   {
    "duration": 19,
    "start_time": "2022-05-05T10:18:30.768Z"
   },
   {
    "duration": 10,
    "start_time": "2022-05-05T10:18:30.789Z"
   },
   {
    "duration": 20,
    "start_time": "2022-05-05T10:18:30.800Z"
   },
   {
    "duration": 11,
    "start_time": "2022-05-05T10:18:30.822Z"
   },
   {
    "duration": 18,
    "start_time": "2022-05-05T10:18:30.836Z"
   },
   {
    "duration": 22,
    "start_time": "2022-05-05T10:18:30.856Z"
   },
   {
    "duration": 10,
    "start_time": "2022-05-05T10:18:30.880Z"
   },
   {
    "duration": 27,
    "start_time": "2022-05-05T10:18:30.891Z"
   },
   {
    "duration": 22,
    "start_time": "2022-05-05T10:18:30.920Z"
   },
   {
    "duration": 13,
    "start_time": "2022-05-05T10:18:30.944Z"
   },
   {
    "duration": 25,
    "start_time": "2022-05-05T10:18:30.959Z"
   },
   {
    "duration": 5,
    "start_time": "2022-05-05T10:18:30.986Z"
   },
   {
    "duration": 23,
    "start_time": "2022-05-05T10:18:30.993Z"
   },
   {
    "duration": 54,
    "start_time": "2022-05-05T10:18:31.018Z"
   },
   {
    "duration": 15,
    "start_time": "2022-05-05T10:18:31.074Z"
   },
   {
    "duration": 9,
    "start_time": "2022-05-05T10:18:31.091Z"
   },
   {
    "duration": 11,
    "start_time": "2022-05-05T10:18:31.102Z"
   },
   {
    "duration": 22,
    "start_time": "2022-05-05T10:18:31.115Z"
   },
   {
    "duration": 8,
    "start_time": "2022-05-05T10:18:31.140Z"
   },
   {
    "duration": 83,
    "start_time": "2022-05-05T10:18:31.150Z"
   },
   {
    "duration": 99,
    "start_time": "2022-05-05T10:18:31.236Z"
   },
   {
    "duration": 316,
    "start_time": "2022-05-05T10:18:31.337Z"
   },
   {
    "duration": 4,
    "start_time": "2022-05-05T10:18:31.658Z"
   },
   {
    "duration": 188,
    "start_time": "2022-05-05T10:18:31.664Z"
   },
   {
    "duration": 136,
    "start_time": "2022-05-05T10:18:31.854Z"
   },
   {
    "duration": 5989,
    "start_time": "2022-05-05T10:18:31.992Z"
   },
   {
    "duration": 6473,
    "start_time": "2022-05-05T10:18:37.983Z"
   },
   {
    "duration": 147,
    "start_time": "2022-05-05T10:18:44.458Z"
   },
   {
    "duration": 33,
    "start_time": "2022-05-05T10:18:44.607Z"
   },
   {
    "duration": 400,
    "start_time": "2022-05-05T10:18:44.643Z"
   },
   {
    "duration": 28,
    "start_time": "2022-05-05T10:18:45.045Z"
   },
   {
    "duration": 217,
    "start_time": "2022-05-05T10:18:45.075Z"
   },
   {
    "duration": 2436,
    "start_time": "2022-05-05T10:18:45.293Z"
   },
   {
    "duration": 10619,
    "start_time": "2022-05-05T10:18:47.730Z"
   },
   {
    "duration": 150,
    "start_time": "2022-05-05T10:18:58.351Z"
   },
   {
    "duration": 13,
    "start_time": "2022-05-05T10:18:58.503Z"
   },
   {
    "duration": 46,
    "start_time": "2022-05-05T10:18:58.517Z"
   },
   {
    "duration": 318,
    "start_time": "2022-05-05T10:18:58.633Z"
   },
   {
    "duration": 234,
    "start_time": "2022-05-05T10:18:58.953Z"
   },
   {
    "duration": 126,
    "start_time": "2022-05-05T10:18:59.189Z"
   },
   {
    "duration": 3382,
    "start_time": "2022-05-05T10:18:59.317Z"
   },
   {
    "duration": 17310,
    "start_time": "2022-05-05T10:19:02.701Z"
   },
   {
    "duration": 149,
    "start_time": "2022-05-05T10:19:20.013Z"
   },
   {
    "duration": 9,
    "start_time": "2022-05-05T10:19:20.164Z"
   },
   {
    "duration": 66,
    "start_time": "2022-05-05T10:19:20.174Z"
   },
   {
    "duration": 400,
    "start_time": "2022-05-05T10:19:20.242Z"
   },
   {
    "duration": 106,
    "start_time": "2022-05-05T10:19:20.643Z"
   },
   {
    "duration": 136,
    "start_time": "2022-05-05T10:19:20.751Z"
   },
   {
    "duration": 1516,
    "start_time": "2022-05-05T10:19:20.888Z"
   },
   {
    "duration": 6619,
    "start_time": "2022-05-05T10:19:22.406Z"
   },
   {
    "duration": 145,
    "start_time": "2022-05-05T10:19:29.027Z"
   },
   {
    "duration": 437,
    "start_time": "2022-05-05T10:19:29.174Z"
   },
   {
    "duration": 161,
    "start_time": "2022-05-05T10:19:29.613Z"
   },
   {
    "duration": 2,
    "start_time": "2022-05-05T10:21:22.788Z"
   },
   {
    "duration": 8,
    "start_time": "2022-05-05T10:22:56.023Z"
   },
   {
    "duration": 6,
    "start_time": "2022-05-05T10:23:10.777Z"
   },
   {
    "duration": 6,
    "start_time": "2022-05-05T10:23:59.256Z"
   },
   {
    "duration": 1583,
    "start_time": "2022-05-05T10:28:54.514Z"
   },
   {
    "duration": 30,
    "start_time": "2022-05-05T10:28:56.099Z"
   },
   {
    "duration": 18,
    "start_time": "2022-05-05T10:28:56.131Z"
   },
   {
    "duration": 14,
    "start_time": "2022-05-05T10:28:56.151Z"
   },
   {
    "duration": 3,
    "start_time": "2022-05-05T10:28:56.167Z"
   },
   {
    "duration": 14,
    "start_time": "2022-05-05T10:28:56.172Z"
   },
   {
    "duration": 8,
    "start_time": "2022-05-05T10:28:56.187Z"
   },
   {
    "duration": 36,
    "start_time": "2022-05-05T10:28:56.197Z"
   },
   {
    "duration": 5,
    "start_time": "2022-05-05T10:28:56.235Z"
   },
   {
    "duration": 12,
    "start_time": "2022-05-05T10:28:56.242Z"
   },
   {
    "duration": 14,
    "start_time": "2022-05-05T10:28:56.255Z"
   },
   {
    "duration": 9,
    "start_time": "2022-05-05T10:28:56.270Z"
   },
   {
    "duration": 14,
    "start_time": "2022-05-05T10:28:56.281Z"
   },
   {
    "duration": 35,
    "start_time": "2022-05-05T10:28:56.299Z"
   },
   {
    "duration": 9,
    "start_time": "2022-05-05T10:28:56.336Z"
   },
   {
    "duration": 9,
    "start_time": "2022-05-05T10:28:56.347Z"
   },
   {
    "duration": 14,
    "start_time": "2022-05-05T10:28:56.358Z"
   },
   {
    "duration": 5,
    "start_time": "2022-05-05T10:28:56.374Z"
   },
   {
    "duration": 65,
    "start_time": "2022-05-05T10:28:56.381Z"
   },
   {
    "duration": 13,
    "start_time": "2022-05-05T10:28:56.448Z"
   },
   {
    "duration": 8,
    "start_time": "2022-05-05T10:28:56.463Z"
   },
   {
    "duration": 7,
    "start_time": "2022-05-05T10:28:56.473Z"
   },
   {
    "duration": 7,
    "start_time": "2022-05-05T10:28:56.481Z"
   },
   {
    "duration": 10,
    "start_time": "2022-05-05T10:28:56.490Z"
   },
   {
    "duration": 34,
    "start_time": "2022-05-05T10:28:56.501Z"
   },
   {
    "duration": 7,
    "start_time": "2022-05-05T10:28:56.536Z"
   },
   {
    "duration": 4,
    "start_time": "2022-05-05T10:28:56.545Z"
   },
   {
    "duration": 86,
    "start_time": "2022-05-05T10:28:56.551Z"
   },
   {
    "duration": 96,
    "start_time": "2022-05-05T10:28:56.639Z"
   },
   {
    "duration": 316,
    "start_time": "2022-05-05T10:28:56.737Z"
   },
   {
    "duration": 4,
    "start_time": "2022-05-05T10:28:57.056Z"
   },
   {
    "duration": 183,
    "start_time": "2022-05-05T10:28:57.062Z"
   },
   {
    "duration": 133,
    "start_time": "2022-05-05T10:28:57.247Z"
   },
   {
    "duration": 5987,
    "start_time": "2022-05-05T10:28:57.382Z"
   },
   {
    "duration": 6419,
    "start_time": "2022-05-05T10:29:03.371Z"
   },
   {
    "duration": 145,
    "start_time": "2022-05-05T10:29:09.792Z"
   },
   {
    "duration": 23,
    "start_time": "2022-05-05T10:29:09.939Z"
   },
   {
    "duration": 346,
    "start_time": "2022-05-05T10:29:10.036Z"
   },
   {
    "duration": 26,
    "start_time": "2022-05-05T10:29:10.384Z"
   },
   {
    "duration": 207,
    "start_time": "2022-05-05T10:29:10.412Z"
   },
   {
    "duration": 2428,
    "start_time": "2022-05-05T10:29:10.633Z"
   },
   {
    "duration": 10913,
    "start_time": "2022-05-05T10:29:13.062Z"
   },
   {
    "duration": 138,
    "start_time": "2022-05-05T10:29:23.977Z"
   },
   {
    "duration": 21,
    "start_time": "2022-05-05T10:29:24.117Z"
   },
   {
    "duration": 95,
    "start_time": "2022-05-05T10:29:24.140Z"
   },
   {
    "duration": 415,
    "start_time": "2022-05-05T10:29:24.237Z"
   },
   {
    "duration": 222,
    "start_time": "2022-05-05T10:29:24.654Z"
   },
   {
    "duration": 128,
    "start_time": "2022-05-05T10:29:24.878Z"
   },
   {
    "duration": 3327,
    "start_time": "2022-05-05T10:29:25.007Z"
   },
   {
    "duration": 17059,
    "start_time": "2022-05-05T10:29:28.335Z"
   },
   {
    "duration": 167,
    "start_time": "2022-05-05T10:29:45.396Z"
   },
   {
    "duration": 9,
    "start_time": "2022-05-05T10:29:45.565Z"
   },
   {
    "duration": 63,
    "start_time": "2022-05-05T10:29:45.576Z"
   },
   {
    "duration": 368,
    "start_time": "2022-05-05T10:29:45.641Z"
   },
   {
    "duration": 110,
    "start_time": "2022-05-05T10:29:46.011Z"
   },
   {
    "duration": 131,
    "start_time": "2022-05-05T10:29:46.123Z"
   },
   {
    "duration": 1450,
    "start_time": "2022-05-05T10:29:46.255Z"
   },
   {
    "duration": 6368,
    "start_time": "2022-05-05T10:29:47.706Z"
   },
   {
    "duration": 147,
    "start_time": "2022-05-05T10:29:54.076Z"
   },
   {
    "duration": 404,
    "start_time": "2022-05-05T10:29:54.233Z"
   },
   {
    "duration": 156,
    "start_time": "2022-05-05T10:29:54.638Z"
   },
   {
    "duration": 5,
    "start_time": "2022-05-05T10:29:57.054Z"
   },
   {
    "duration": 6,
    "start_time": "2022-05-05T10:30:17.572Z"
   },
   {
    "duration": 6,
    "start_time": "2022-05-05T10:30:21.254Z"
   },
   {
    "duration": 4,
    "start_time": "2022-05-05T10:32:12.613Z"
   },
   {
    "duration": 4,
    "start_time": "2022-05-05T10:32:36.653Z"
   },
   {
    "duration": 1638,
    "start_time": "2022-05-05T10:36:22.835Z"
   },
   {
    "duration": 30,
    "start_time": "2022-05-05T10:36:24.475Z"
   },
   {
    "duration": 18,
    "start_time": "2022-05-05T10:36:24.507Z"
   },
   {
    "duration": 16,
    "start_time": "2022-05-05T10:36:24.527Z"
   },
   {
    "duration": 3,
    "start_time": "2022-05-05T10:36:24.546Z"
   },
   {
    "duration": 12,
    "start_time": "2022-05-05T10:36:24.551Z"
   },
   {
    "duration": 7,
    "start_time": "2022-05-05T10:36:24.565Z"
   },
   {
    "duration": 16,
    "start_time": "2022-05-05T10:36:24.574Z"
   },
   {
    "duration": 6,
    "start_time": "2022-05-05T10:36:24.592Z"
   },
   {
    "duration": 45,
    "start_time": "2022-05-05T10:36:24.600Z"
   },
   {
    "duration": 15,
    "start_time": "2022-05-05T10:36:24.647Z"
   },
   {
    "duration": 11,
    "start_time": "2022-05-05T10:36:24.664Z"
   },
   {
    "duration": 14,
    "start_time": "2022-05-05T10:36:24.677Z"
   },
   {
    "duration": 39,
    "start_time": "2022-05-05T10:36:24.695Z"
   },
   {
    "duration": 9,
    "start_time": "2022-05-05T10:36:24.736Z"
   },
   {
    "duration": 20,
    "start_time": "2022-05-05T10:36:24.747Z"
   },
   {
    "duration": 4,
    "start_time": "2022-05-05T10:36:24.769Z"
   },
   {
    "duration": 5,
    "start_time": "2022-05-05T10:36:24.775Z"
   },
   {
    "duration": 58,
    "start_time": "2022-05-05T10:36:24.782Z"
   },
   {
    "duration": 13,
    "start_time": "2022-05-05T10:36:24.842Z"
   },
   {
    "duration": 7,
    "start_time": "2022-05-05T10:36:24.857Z"
   },
   {
    "duration": 10,
    "start_time": "2022-05-05T10:36:24.865Z"
   },
   {
    "duration": 8,
    "start_time": "2022-05-05T10:36:24.876Z"
   },
   {
    "duration": 4,
    "start_time": "2022-05-05T10:36:24.886Z"
   },
   {
    "duration": 55,
    "start_time": "2022-05-05T10:36:24.892Z"
   },
   {
    "duration": 8,
    "start_time": "2022-05-05T10:36:25.035Z"
   },
   {
    "duration": 413,
    "start_time": "2022-05-05T10:36:25.045Z"
   },
   {
    "duration": 4,
    "start_time": "2022-05-05T10:36:25.460Z"
   },
   {
    "duration": 207,
    "start_time": "2022-05-05T10:36:25.466Z"
   },
   {
    "duration": 141,
    "start_time": "2022-05-05T10:36:25.675Z"
   },
   {
    "duration": 6261,
    "start_time": "2022-05-05T10:36:25.817Z"
   },
   {
    "duration": 6582,
    "start_time": "2022-05-05T10:36:32.079Z"
   },
   {
    "duration": 146,
    "start_time": "2022-05-05T10:36:38.663Z"
   },
   {
    "duration": 37,
    "start_time": "2022-05-05T10:36:38.811Z"
   },
   {
    "duration": 318,
    "start_time": "2022-05-05T10:36:38.937Z"
   },
   {
    "duration": 28,
    "start_time": "2022-05-05T10:36:39.256Z"
   },
   {
    "duration": 221,
    "start_time": "2022-05-05T10:36:39.286Z"
   },
   {
    "duration": 2596,
    "start_time": "2022-05-05T10:36:39.509Z"
   },
   {
    "duration": 11183,
    "start_time": "2022-05-05T10:36:42.107Z"
   },
   {
    "duration": 146,
    "start_time": "2022-05-05T10:36:53.292Z"
   },
   {
    "duration": 13,
    "start_time": "2022-05-05T10:36:53.442Z"
   },
   {
    "duration": 79,
    "start_time": "2022-05-05T10:36:53.457Z"
   },
   {
    "duration": 414,
    "start_time": "2022-05-05T10:36:53.539Z"
   },
   {
    "duration": 234,
    "start_time": "2022-05-05T10:36:53.954Z"
   },
   {
    "duration": 135,
    "start_time": "2022-05-05T10:36:54.190Z"
   },
   {
    "duration": 3429,
    "start_time": "2022-05-05T10:36:54.327Z"
   },
   {
    "duration": 25192,
    "start_time": "2022-05-05T10:36:57.758Z"
   },
   {
    "duration": 178,
    "start_time": "2022-05-05T10:37:22.953Z"
   },
   {
    "duration": 13,
    "start_time": "2022-05-05T10:37:23.133Z"
   },
   {
    "duration": 23,
    "start_time": "2022-05-05T10:37:23.148Z"
   },
   {
    "duration": 362,
    "start_time": "2022-05-05T10:37:23.238Z"
   },
   {
    "duration": 116,
    "start_time": "2022-05-05T10:37:23.601Z"
   },
   {
    "duration": 156,
    "start_time": "2022-05-05T10:37:23.719Z"
   },
   {
    "duration": 1528,
    "start_time": "2022-05-05T10:37:23.877Z"
   },
   {
    "duration": 8764,
    "start_time": "2022-05-05T10:37:25.407Z"
   },
   {
    "duration": 160,
    "start_time": "2022-05-05T10:37:34.174Z"
   },
   {
    "duration": 477,
    "start_time": "2022-05-05T10:37:34.337Z"
   },
   {
    "duration": 170,
    "start_time": "2022-05-05T10:37:34.815Z"
   },
   {
    "duration": 91,
    "start_time": "2022-05-05T10:38:10.675Z"
   },
   {
    "duration": 14903,
    "start_time": "2022-05-05T10:40:07.375Z"
   },
   {
    "duration": 9221,
    "start_time": "2022-05-05T10:40:32.241Z"
   },
   {
    "duration": 6162,
    "start_time": "2022-05-05T10:40:48.435Z"
   },
   {
    "duration": 12447,
    "start_time": "2022-05-05T10:40:59.774Z"
   },
   {
    "duration": 9378,
    "start_time": "2022-05-05T10:41:19.454Z"
   },
   {
    "duration": 7047,
    "start_time": "2022-05-05T10:41:40.735Z"
   },
   {
    "duration": 121,
    "start_time": "2022-05-05T10:42:04.884Z"
   },
   {
    "duration": 27,
    "start_time": "2022-05-05T10:42:21.058Z"
   },
   {
    "duration": 3825,
    "start_time": "2022-05-05T10:42:31.214Z"
   },
   {
    "duration": 13211,
    "start_time": "2022-05-05T10:42:42.044Z"
   },
   {
    "duration": 130,
    "start_time": "2022-05-05T10:43:29.073Z"
   },
   {
    "duration": 142,
    "start_time": "2022-05-05T10:43:34.175Z"
   },
   {
    "duration": 5327,
    "start_time": "2022-05-05T10:43:57.675Z"
   },
   {
    "duration": 25341,
    "start_time": "2022-05-05T10:44:09.590Z"
   },
   {
    "duration": 2207,
    "start_time": "2022-05-05T10:44:59.646Z"
   },
   {
    "duration": 9412,
    "start_time": "2022-05-05T10:45:08.901Z"
   },
   {
    "duration": 1677,
    "start_time": "2022-05-05T10:45:38.695Z"
   },
   {
    "duration": 41,
    "start_time": "2022-05-05T10:45:40.374Z"
   },
   {
    "duration": 22,
    "start_time": "2022-05-05T10:45:40.417Z"
   },
   {
    "duration": 20,
    "start_time": "2022-05-05T10:45:40.442Z"
   },
   {
    "duration": 4,
    "start_time": "2022-05-05T10:45:40.464Z"
   },
   {
    "duration": 12,
    "start_time": "2022-05-05T10:45:40.470Z"
   },
   {
    "duration": 13,
    "start_time": "2022-05-05T10:45:40.484Z"
   },
   {
    "duration": 40,
    "start_time": "2022-05-05T10:45:40.499Z"
   },
   {
    "duration": 7,
    "start_time": "2022-05-05T10:45:40.541Z"
   },
   {
    "duration": 24,
    "start_time": "2022-05-05T10:45:40.552Z"
   },
   {
    "duration": 18,
    "start_time": "2022-05-05T10:45:40.578Z"
   },
   {
    "duration": 10,
    "start_time": "2022-05-05T10:45:40.599Z"
   },
   {
    "duration": 35,
    "start_time": "2022-05-05T10:45:40.611Z"
   },
   {
    "duration": 16,
    "start_time": "2022-05-05T10:45:40.649Z"
   },
   {
    "duration": 15,
    "start_time": "2022-05-05T10:45:40.667Z"
   },
   {
    "duration": 9,
    "start_time": "2022-05-05T10:45:40.684Z"
   },
   {
    "duration": 5,
    "start_time": "2022-05-05T10:45:40.694Z"
   },
   {
    "duration": 6,
    "start_time": "2022-05-05T10:45:40.701Z"
   },
   {
    "duration": 71,
    "start_time": "2022-05-05T10:45:40.709Z"
   },
   {
    "duration": 15,
    "start_time": "2022-05-05T10:45:40.782Z"
   },
   {
    "duration": 16,
    "start_time": "2022-05-05T10:45:40.799Z"
   },
   {
    "duration": 18,
    "start_time": "2022-05-05T10:45:40.817Z"
   },
   {
    "duration": 23,
    "start_time": "2022-05-05T10:45:40.838Z"
   },
   {
    "duration": 7,
    "start_time": "2022-05-05T10:45:40.864Z"
   },
   {
    "duration": 73,
    "start_time": "2022-05-05T10:45:40.873Z"
   },
   {
    "duration": 84,
    "start_time": "2022-05-05T10:45:40.950Z"
   },
   {
    "duration": 326,
    "start_time": "2022-05-05T10:45:41.037Z"
   },
   {
    "duration": 4,
    "start_time": "2022-05-05T10:45:41.368Z"
   },
   {
    "duration": 209,
    "start_time": "2022-05-05T10:45:41.373Z"
   },
   {
    "duration": 167,
    "start_time": "2022-05-05T10:45:41.585Z"
   },
   {
    "duration": 9504,
    "start_time": "2022-05-05T10:45:41.754Z"
   },
   {
    "duration": 6986,
    "start_time": "2022-05-05T10:45:51.260Z"
   },
   {
    "duration": 151,
    "start_time": "2022-05-05T10:45:58.248Z"
   },
   {
    "duration": 39,
    "start_time": "2022-05-05T10:45:58.400Z"
   },
   {
    "duration": 312,
    "start_time": "2022-05-05T10:45:58.444Z"
   },
   {
    "duration": 32,
    "start_time": "2022-05-05T10:45:58.758Z"
   },
   {
    "duration": 214,
    "start_time": "2022-05-05T10:45:58.791Z"
   },
   {
    "duration": 3887,
    "start_time": "2022-05-05T10:45:59.007Z"
   },
   {
    "duration": 13386,
    "start_time": "2022-05-05T10:46:02.895Z"
   },
   {
    "duration": 158,
    "start_time": "2022-05-05T10:46:16.283Z"
   },
   {
    "duration": 19,
    "start_time": "2022-05-05T10:46:16.444Z"
   },
   {
    "duration": 72,
    "start_time": "2022-05-05T10:46:16.466Z"
   },
   {
    "duration": 423,
    "start_time": "2022-05-05T10:46:16.540Z"
   },
   {
    "duration": 261,
    "start_time": "2022-05-05T10:46:16.965Z"
   },
   {
    "duration": 152,
    "start_time": "2022-05-05T10:46:17.229Z"
   },
   {
    "duration": 5337,
    "start_time": "2022-05-05T10:46:17.383Z"
   },
   {
    "duration": 25884,
    "start_time": "2022-05-05T10:46:22.722Z"
   },
   {
    "duration": 176,
    "start_time": "2022-05-05T10:46:48.608Z"
   },
   {
    "duration": 9,
    "start_time": "2022-05-05T10:46:48.786Z"
   },
   {
    "duration": 42,
    "start_time": "2022-05-05T10:46:48.796Z"
   },
   {
    "duration": 405,
    "start_time": "2022-05-05T10:46:48.840Z"
   },
   {
    "duration": 108,
    "start_time": "2022-05-05T10:46:49.248Z"
   },
   {
    "duration": 149,
    "start_time": "2022-05-05T10:46:49.358Z"
   },
   {
    "duration": 2215,
    "start_time": "2022-05-05T10:46:49.509Z"
   },
   {
    "duration": 10189,
    "start_time": "2022-05-05T10:46:51.726Z"
   },
   {
    "duration": 172,
    "start_time": "2022-05-05T10:47:01.917Z"
   },
   {
    "duration": 926,
    "start_time": "2022-05-05T10:47:02.091Z"
   },
   {
    "duration": 641,
    "start_time": "2022-05-05T10:47:03.019Z"
   },
   {
    "duration": 164,
    "start_time": "2022-05-05T10:52:24.615Z"
   },
   {
    "duration": 133,
    "start_time": "2022-05-05T10:52:39.035Z"
   },
   {
    "duration": 1530,
    "start_time": "2022-05-05T10:53:18.022Z"
   },
   {
    "duration": 30,
    "start_time": "2022-05-05T10:53:19.554Z"
   },
   {
    "duration": 18,
    "start_time": "2022-05-05T10:53:19.586Z"
   },
   {
    "duration": 14,
    "start_time": "2022-05-05T10:53:19.606Z"
   },
   {
    "duration": 11,
    "start_time": "2022-05-05T10:53:19.623Z"
   },
   {
    "duration": 11,
    "start_time": "2022-05-05T10:53:19.637Z"
   },
   {
    "duration": 9,
    "start_time": "2022-05-05T10:53:19.650Z"
   },
   {
    "duration": 21,
    "start_time": "2022-05-05T10:53:19.661Z"
   },
   {
    "duration": 5,
    "start_time": "2022-05-05T10:53:19.683Z"
   },
   {
    "duration": 13,
    "start_time": "2022-05-05T10:53:19.690Z"
   },
   {
    "duration": 34,
    "start_time": "2022-05-05T10:53:19.705Z"
   },
   {
    "duration": 9,
    "start_time": "2022-05-05T10:53:19.741Z"
   },
   {
    "duration": 10,
    "start_time": "2022-05-05T10:53:19.752Z"
   },
   {
    "duration": 6,
    "start_time": "2022-05-05T10:53:19.766Z"
   },
   {
    "duration": 11,
    "start_time": "2022-05-05T10:53:19.773Z"
   },
   {
    "duration": 8,
    "start_time": "2022-05-05T10:53:19.786Z"
   },
   {
    "duration": 39,
    "start_time": "2022-05-05T10:53:19.796Z"
   },
   {
    "duration": 3,
    "start_time": "2022-05-05T10:53:19.836Z"
   },
   {
    "duration": 43,
    "start_time": "2022-05-05T10:53:19.841Z"
   },
   {
    "duration": 13,
    "start_time": "2022-05-05T10:53:19.886Z"
   },
   {
    "duration": 9,
    "start_time": "2022-05-05T10:53:19.901Z"
   },
   {
    "duration": 5,
    "start_time": "2022-05-05T10:53:19.933Z"
   },
   {
    "duration": 6,
    "start_time": "2022-05-05T10:53:19.940Z"
   },
   {
    "duration": 5,
    "start_time": "2022-05-05T10:53:19.948Z"
   },
   {
    "duration": 84,
    "start_time": "2022-05-05T10:53:19.954Z"
   },
   {
    "duration": 95,
    "start_time": "2022-05-05T10:53:20.041Z"
   },
   {
    "duration": 319,
    "start_time": "2022-05-05T10:53:20.138Z"
   },
   {
    "duration": 6,
    "start_time": "2022-05-05T10:53:20.459Z"
   },
   {
    "duration": 194,
    "start_time": "2022-05-05T10:53:20.467Z"
   },
   {
    "duration": 136,
    "start_time": "2022-05-05T10:53:20.663Z"
   },
   {
    "duration": 3616,
    "start_time": "2022-05-05T10:53:20.801Z"
   },
   {
    "duration": 6727,
    "start_time": "2022-05-05T10:53:24.419Z"
   },
   {
    "duration": 152,
    "start_time": "2022-05-05T10:53:31.148Z"
   },
   {
    "duration": 34,
    "start_time": "2022-05-05T10:53:31.301Z"
   },
   {
    "duration": 414,
    "start_time": "2022-05-05T10:53:31.338Z"
   },
   {
    "duration": 27,
    "start_time": "2022-05-05T10:53:31.754Z"
   },
   {
    "duration": 142,
    "start_time": "2022-05-05T10:53:31.783Z"
   },
   {
    "duration": 3646,
    "start_time": "2022-05-05T10:53:31.927Z"
   },
   {
    "duration": 1433,
    "start_time": "2022-05-05T10:53:35.575Z"
   },
   {
    "duration": 131,
    "start_time": "2022-05-05T10:53:37.010Z"
   },
   {
    "duration": 11,
    "start_time": "2022-05-05T10:53:37.146Z"
   },
   {
    "duration": 77,
    "start_time": "2022-05-05T10:53:37.159Z"
   },
   {
    "duration": 355,
    "start_time": "2022-05-05T10:53:37.238Z"
   },
   {
    "duration": 232,
    "start_time": "2022-05-05T10:53:37.595Z"
   },
   {
    "duration": 138,
    "start_time": "2022-05-05T10:53:37.834Z"
   },
   {
    "duration": 4805,
    "start_time": "2022-05-05T10:53:37.973Z"
   },
   {
    "duration": 23380,
    "start_time": "2022-05-05T10:53:42.780Z"
   },
   {
    "duration": 164,
    "start_time": "2022-05-05T10:54:06.162Z"
   },
   {
    "duration": 13,
    "start_time": "2022-05-05T10:54:06.328Z"
   },
   {
    "duration": 16,
    "start_time": "2022-05-05T10:54:06.343Z"
   },
   {
    "duration": 319,
    "start_time": "2022-05-05T10:54:06.433Z"
   },
   {
    "duration": 104,
    "start_time": "2022-05-05T10:54:06.753Z"
   },
   {
    "duration": 130,
    "start_time": "2022-05-05T10:54:06.859Z"
   },
   {
    "duration": 1992,
    "start_time": "2022-05-05T10:54:06.991Z"
   },
   {
    "duration": 8461,
    "start_time": "2022-05-05T10:54:08.985Z"
   },
   {
    "duration": 160,
    "start_time": "2022-05-05T10:54:17.448Z"
   },
   {
    "duration": 139,
    "start_time": "2022-05-05T10:54:17.610Z"
   },
   {
    "duration": 159,
    "start_time": "2022-05-05T10:54:17.751Z"
   }
  ],
  "kernelspec": {
   "display_name": "Python 3 (ipykernel)",
   "language": "python",
   "name": "python3"
  },
  "language_info": {
   "codemirror_mode": {
    "name": "ipython",
    "version": 3
   },
   "file_extension": ".py",
   "mimetype": "text/x-python",
   "name": "python",
   "nbconvert_exporter": "python",
   "pygments_lexer": "ipython3",
   "version": "3.9.10"
  },
  "toc": {
   "base_numbering": 1,
   "nav_menu": {},
   "number_sections": true,
   "sideBar": true,
   "skip_h1_title": true,
   "title_cell": "Содержание",
   "title_sidebar": "Contents",
   "toc_cell": true,
   "toc_position": {},
   "toc_section_display": true,
   "toc_window_display": false
  }
 },
 "nbformat": 4,
 "nbformat_minor": 2
}
