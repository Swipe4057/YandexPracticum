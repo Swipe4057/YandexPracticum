{
 "cells": [
  {
   "cell_type": "markdown",
   "metadata": {},
   "source": [
    "# Восстановление золота из руды"
   ]
  },
  {
   "cell_type": "markdown",
   "metadata": {},
   "source": [
    "## Подготовка данных"
   ]
  },
  {
   "cell_type": "code",
   "execution_count": 35,
   "metadata": {},
   "outputs": [],
   "source": [
    "import pandas as pd\n",
    "import numpy as np\n",
    "import matplotlib.pyplot as plt\n",
    "\n",
    "from sklearn.tree import DecisionTreeRegressor\n",
    "from sklearn.ensemble import RandomForestRegressor\n",
    "\n",
    "from sklearn.metrics import mean_absolute_error, make_scorer\n",
    "\n",
    "from sklearn.model_selection import cross_val_score, GridSearchCV"
   ]
  },
  {
   "cell_type": "code",
   "execution_count": 2,
   "metadata": {},
   "outputs": [],
   "source": [
    "train = pd.read_csv('/datasets/gold_recovery_train_new.csv')\n",
    "test = pd.read_csv('/datasets/gold_recovery_test_new.csv')\n",
    "full = pd.read_csv('/datasets/gold_recovery_full_new.csv')"
   ]
  },
  {
   "cell_type": "markdown",
   "metadata": {},
   "source": [
    "#### Рассчитаем эффективность обогащения на стадии флотации:"
   ]
  },
  {
   "cell_type": "code",
   "execution_count": 3,
   "metadata": {},
   "outputs": [],
   "source": [
    "C = train['rougher.output.concentrate_au']\n",
    "F = train['rougher.input.feed_au']\n",
    "T = train['rougher.output.tail_au']\n",
    "recovery =  100*C*(F-T)/(F*(C-T))"
   ]
  },
  {
   "cell_type": "code",
   "execution_count": 4,
   "metadata": {},
   "outputs": [
    {
     "name": "stdout",
     "output_type": "stream",
     "text": [
      "MAE =  1.1498046842860452e-14\n"
     ]
    }
   ],
   "source": [
    "mae = mean_absolute_error(recovery, train['rougher.output.recovery'])\n",
    "print('MAE = ', mae)"
   ]
  },
  {
   "cell_type": "markdown",
   "metadata": {},
   "source": [
    "Средняя абсолютная погрешность минимальна и практически равна нулю, следовательно эффективность обогащения рассчитана верно."
   ]
  },
  {
   "cell_type": "markdown",
   "metadata": {},
   "source": [
    "#### Проанализируем признаки недоступные в тестовой выборке:"
   ]
  },
  {
   "cell_type": "code",
   "execution_count": 5,
   "metadata": {},
   "outputs": [],
   "source": [
    "columns_not_test = np.setdiff1d(full.columns, test.columns)"
   ]
  },
  {
   "cell_type": "code",
   "execution_count": 6,
   "metadata": {},
   "outputs": [
    {
     "name": "stdout",
     "output_type": "stream",
     "text": [
      "<class 'pandas.core.frame.DataFrame'>\n",
      "RangeIndex: 14149 entries, 0 to 14148\n",
      "Data columns (total 34 columns):\n",
      " #   Column                                              Non-Null Count  Dtype  \n",
      "---  ------                                              --------------  -----  \n",
      " 0   final.output.concentrate_ag                         14148 non-null  float64\n",
      " 1   final.output.concentrate_au                         14149 non-null  float64\n",
      " 2   final.output.concentrate_pb                         14148 non-null  float64\n",
      " 3   final.output.concentrate_sol                        13938 non-null  float64\n",
      " 4   final.output.recovery                               14149 non-null  float64\n",
      " 5   final.output.tail_ag                                14149 non-null  float64\n",
      " 6   final.output.tail_au                                14149 non-null  float64\n",
      " 7   final.output.tail_pb                                14049 non-null  float64\n",
      " 8   final.output.tail_sol                               14144 non-null  float64\n",
      " 9   primary_cleaner.output.concentrate_ag               14149 non-null  float64\n",
      " 10  primary_cleaner.output.concentrate_au               14149 non-null  float64\n",
      " 11  primary_cleaner.output.concentrate_pb               14063 non-null  float64\n",
      " 12  primary_cleaner.output.concentrate_sol              13863 non-null  float64\n",
      " 13  primary_cleaner.output.tail_ag                      14148 non-null  float64\n",
      " 14  primary_cleaner.output.tail_au                      14149 non-null  float64\n",
      " 15  primary_cleaner.output.tail_pb                      14134 non-null  float64\n",
      " 16  primary_cleaner.output.tail_sol                     14103 non-null  float64\n",
      " 17  rougher.calculation.au_pb_ratio                     14149 non-null  float64\n",
      " 18  rougher.calculation.floatbank10_sulfate_to_au_feed  14148 non-null  float64\n",
      " 19  rougher.calculation.floatbank11_sulfate_to_au_feed  14148 non-null  float64\n",
      " 20  rougher.calculation.sulfate_to_au_concentrate       14148 non-null  float64\n",
      " 21  rougher.output.concentrate_ag                       14149 non-null  float64\n",
      " 22  rougher.output.concentrate_au                       14149 non-null  float64\n",
      " 23  rougher.output.concentrate_pb                       14149 non-null  float64\n",
      " 24  rougher.output.concentrate_sol                      14127 non-null  float64\n",
      " 25  rougher.output.recovery                             14149 non-null  float64\n",
      " 26  rougher.output.tail_ag                              14148 non-null  float64\n",
      " 27  rougher.output.tail_au                              14149 non-null  float64\n",
      " 28  rougher.output.tail_pb                              14149 non-null  float64\n",
      " 29  rougher.output.tail_sol                             14149 non-null  float64\n",
      " 30  secondary_cleaner.output.tail_ag                    14147 non-null  float64\n",
      " 31  secondary_cleaner.output.tail_au                    14149 non-null  float64\n",
      " 32  secondary_cleaner.output.tail_pb                    14139 non-null  float64\n",
      " 33  secondary_cleaner.output.tail_sol                   12544 non-null  float64\n",
      "dtypes: float64(34)\n",
      "memory usage: 3.7 MB\n"
     ]
    }
   ],
   "source": [
    "train[columns_not_test].info()"
   ]
  },
  {
   "cell_type": "markdown",
   "metadata": {},
   "source": [
    "В тестовой выборке отсутствуют параметры продукта и отвальных хвостов после каждого из этапов технологического процесса,а также некоторые расчетные характеристики, пока процесс не закончился измерить их невозможно. Однако все остальные параметры есть, а также характеристики изначальной смеси золотоносной руды."
   ]
  },
  {
   "cell_type": "markdown",
   "metadata": {},
   "source": [
    "#### Выполним предобработку:"
   ]
  },
  {
   "cell_type": "markdown",
   "metadata": {},
   "source": [
    "Изменим тип данных для даты:"
   ]
  },
  {
   "cell_type": "code",
   "execution_count": 7,
   "metadata": {},
   "outputs": [],
   "source": [
    "train['date'] = pd.to_datetime(train['date'], format = '%Y-%m-%d %H:%M:%S')\n",
    "test['date'] = pd.to_datetime(test['date'], format = '%Y-%m-%d %H:%M:%S')\n",
    "full['date'] = pd.to_datetime(full['date'], format = '%Y-%m-%d %H:%M:%S')"
   ]
  },
  {
   "cell_type": "markdown",
   "metadata": {},
   "source": [
    "Соседние параметры часто похожи, поэтому заполним пропуски в данных значениями соответствующими ближайшими по времени:"
   ]
  },
  {
   "cell_type": "code",
   "execution_count": 8,
   "metadata": {},
   "outputs": [],
   "source": [
    "test_data = test.fillna(method='ffill')\n",
    "train_data = train.fillna(method='ffill')\n",
    "full_data = full.fillna(method='ffill')"
   ]
  },
  {
   "cell_type": "markdown",
   "metadata": {},
   "source": [
    "Существуют значения, с нулевыми концентрациями:"
   ]
  },
  {
   "cell_type": "code",
   "execution_count": 9,
   "metadata": {},
   "outputs": [
    {
     "data": {
      "text/html": [
       "<div>\n",
       "<style scoped>\n",
       "    .dataframe tbody tr th:only-of-type {\n",
       "        vertical-align: middle;\n",
       "    }\n",
       "\n",
       "    .dataframe tbody tr th {\n",
       "        vertical-align: top;\n",
       "    }\n",
       "\n",
       "    .dataframe thead th {\n",
       "        text-align: right;\n",
       "    }\n",
       "</style>\n",
       "<table border=\"1\" class=\"dataframe\">\n",
       "  <thead>\n",
       "    <tr style=\"text-align: right;\">\n",
       "      <th></th>\n",
       "      <th>date</th>\n",
       "      <th>final.output.concentrate_ag</th>\n",
       "      <th>final.output.concentrate_pb</th>\n",
       "      <th>final.output.concentrate_sol</th>\n",
       "      <th>final.output.concentrate_au</th>\n",
       "      <th>final.output.recovery</th>\n",
       "      <th>final.output.tail_ag</th>\n",
       "      <th>final.output.tail_pb</th>\n",
       "      <th>final.output.tail_sol</th>\n",
       "      <th>final.output.tail_au</th>\n",
       "      <th>...</th>\n",
       "      <th>secondary_cleaner.state.floatbank4_a_air</th>\n",
       "      <th>secondary_cleaner.state.floatbank4_a_level</th>\n",
       "      <th>secondary_cleaner.state.floatbank4_b_air</th>\n",
       "      <th>secondary_cleaner.state.floatbank4_b_level</th>\n",
       "      <th>secondary_cleaner.state.floatbank5_a_air</th>\n",
       "      <th>secondary_cleaner.state.floatbank5_a_level</th>\n",
       "      <th>secondary_cleaner.state.floatbank5_b_air</th>\n",
       "      <th>secondary_cleaner.state.floatbank5_b_level</th>\n",
       "      <th>secondary_cleaner.state.floatbank6_a_air</th>\n",
       "      <th>secondary_cleaner.state.floatbank6_a_level</th>\n",
       "    </tr>\n",
       "  </thead>\n",
       "  <tbody>\n",
       "    <tr>\n",
       "      <th>644</th>\n",
       "      <td>2016-02-13 11:00:00</td>\n",
       "      <td>0.0</td>\n",
       "      <td>0.0</td>\n",
       "      <td>0.0</td>\n",
       "      <td>0.0</td>\n",
       "      <td>0.0</td>\n",
       "      <td>8.894029</td>\n",
       "      <td>0.843584</td>\n",
       "      <td>15.417342</td>\n",
       "      <td>1.779052</td>\n",
       "      <td>...</td>\n",
       "      <td>21.991762</td>\n",
       "      <td>-399.587122</td>\n",
       "      <td>21.988937</td>\n",
       "      <td>-401.366408</td>\n",
       "      <td>22.995012</td>\n",
       "      <td>-399.370680</td>\n",
       "      <td>20.966863</td>\n",
       "      <td>-399.308354</td>\n",
       "      <td>24.987274</td>\n",
       "      <td>-399.619808</td>\n",
       "    </tr>\n",
       "    <tr>\n",
       "      <th>1193</th>\n",
       "      <td>2016-03-11 10:00:00</td>\n",
       "      <td>0.0</td>\n",
       "      <td>0.0</td>\n",
       "      <td>0.0</td>\n",
       "      <td>0.0</td>\n",
       "      <td>0.0</td>\n",
       "      <td>10.817313</td>\n",
       "      <td>1.462800</td>\n",
       "      <td>16.407607</td>\n",
       "      <td>2.984504</td>\n",
       "      <td>...</td>\n",
       "      <td>11.979352</td>\n",
       "      <td>-453.431061</td>\n",
       "      <td>12.003445</td>\n",
       "      <td>-450.179844</td>\n",
       "      <td>11.982937</td>\n",
       "      <td>-449.856468</td>\n",
       "      <td>9.927727</td>\n",
       "      <td>-450.521700</td>\n",
       "      <td>19.971682</td>\n",
       "      <td>-500.685521</td>\n",
       "    </tr>\n",
       "    <tr>\n",
       "      <th>1194</th>\n",
       "      <td>2016-03-11 11:00:00</td>\n",
       "      <td>0.0</td>\n",
       "      <td>0.0</td>\n",
       "      <td>0.0</td>\n",
       "      <td>0.0</td>\n",
       "      <td>0.0</td>\n",
       "      <td>10.436792</td>\n",
       "      <td>1.207636</td>\n",
       "      <td>17.800392</td>\n",
       "      <td>2.747294</td>\n",
       "      <td>...</td>\n",
       "      <td>12.034636</td>\n",
       "      <td>-446.590944</td>\n",
       "      <td>12.130405</td>\n",
       "      <td>-449.684812</td>\n",
       "      <td>11.844983</td>\n",
       "      <td>-450.881424</td>\n",
       "      <td>9.916784</td>\n",
       "      <td>-449.542871</td>\n",
       "      <td>20.004767</td>\n",
       "      <td>-500.137068</td>\n",
       "    </tr>\n",
       "    <tr>\n",
       "      <th>1195</th>\n",
       "      <td>2016-03-11 12:00:00</td>\n",
       "      <td>0.0</td>\n",
       "      <td>0.0</td>\n",
       "      <td>0.0</td>\n",
       "      <td>0.0</td>\n",
       "      <td>0.0</td>\n",
       "      <td>10.637073</td>\n",
       "      <td>1.405778</td>\n",
       "      <td>17.195897</td>\n",
       "      <td>2.791440</td>\n",
       "      <td>...</td>\n",
       "      <td>12.016716</td>\n",
       "      <td>-496.613149</td>\n",
       "      <td>12.055535</td>\n",
       "      <td>-496.908551</td>\n",
       "      <td>12.091144</td>\n",
       "      <td>-496.404140</td>\n",
       "      <td>9.976074</td>\n",
       "      <td>-496.783155</td>\n",
       "      <td>19.921634</td>\n",
       "      <td>-500.769011</td>\n",
       "    </tr>\n",
       "    <tr>\n",
       "      <th>1196</th>\n",
       "      <td>2016-03-11 13:00:00</td>\n",
       "      <td>0.0</td>\n",
       "      <td>0.0</td>\n",
       "      <td>0.0</td>\n",
       "      <td>0.0</td>\n",
       "      <td>0.0</td>\n",
       "      <td>10.530320</td>\n",
       "      <td>1.461550</td>\n",
       "      <td>17.556860</td>\n",
       "      <td>2.682127</td>\n",
       "      <td>...</td>\n",
       "      <td>11.993898</td>\n",
       "      <td>-500.427824</td>\n",
       "      <td>12.083824</td>\n",
       "      <td>-500.162537</td>\n",
       "      <td>12.078809</td>\n",
       "      <td>-499.903743</td>\n",
       "      <td>10.075259</td>\n",
       "      <td>-499.540325</td>\n",
       "      <td>20.039788</td>\n",
       "      <td>-499.932405</td>\n",
       "    </tr>\n",
       "  </tbody>\n",
       "</table>\n",
       "<p>5 rows × 87 columns</p>\n",
       "</div>"
      ],
      "text/plain": [
       "                    date  final.output.concentrate_ag  \\\n",
       "644  2016-02-13 11:00:00                          0.0   \n",
       "1193 2016-03-11 10:00:00                          0.0   \n",
       "1194 2016-03-11 11:00:00                          0.0   \n",
       "1195 2016-03-11 12:00:00                          0.0   \n",
       "1196 2016-03-11 13:00:00                          0.0   \n",
       "\n",
       "      final.output.concentrate_pb  final.output.concentrate_sol  \\\n",
       "644                           0.0                           0.0   \n",
       "1193                          0.0                           0.0   \n",
       "1194                          0.0                           0.0   \n",
       "1195                          0.0                           0.0   \n",
       "1196                          0.0                           0.0   \n",
       "\n",
       "      final.output.concentrate_au  final.output.recovery  \\\n",
       "644                           0.0                    0.0   \n",
       "1193                          0.0                    0.0   \n",
       "1194                          0.0                    0.0   \n",
       "1195                          0.0                    0.0   \n",
       "1196                          0.0                    0.0   \n",
       "\n",
       "      final.output.tail_ag  final.output.tail_pb  final.output.tail_sol  \\\n",
       "644               8.894029              0.843584              15.417342   \n",
       "1193             10.817313              1.462800              16.407607   \n",
       "1194             10.436792              1.207636              17.800392   \n",
       "1195             10.637073              1.405778              17.195897   \n",
       "1196             10.530320              1.461550              17.556860   \n",
       "\n",
       "      final.output.tail_au  ...  secondary_cleaner.state.floatbank4_a_air  \\\n",
       "644               1.779052  ...                                 21.991762   \n",
       "1193              2.984504  ...                                 11.979352   \n",
       "1194              2.747294  ...                                 12.034636   \n",
       "1195              2.791440  ...                                 12.016716   \n",
       "1196              2.682127  ...                                 11.993898   \n",
       "\n",
       "      secondary_cleaner.state.floatbank4_a_level  \\\n",
       "644                                  -399.587122   \n",
       "1193                                 -453.431061   \n",
       "1194                                 -446.590944   \n",
       "1195                                 -496.613149   \n",
       "1196                                 -500.427824   \n",
       "\n",
       "      secondary_cleaner.state.floatbank4_b_air  \\\n",
       "644                                  21.988937   \n",
       "1193                                 12.003445   \n",
       "1194                                 12.130405   \n",
       "1195                                 12.055535   \n",
       "1196                                 12.083824   \n",
       "\n",
       "      secondary_cleaner.state.floatbank4_b_level  \\\n",
       "644                                  -401.366408   \n",
       "1193                                 -450.179844   \n",
       "1194                                 -449.684812   \n",
       "1195                                 -496.908551   \n",
       "1196                                 -500.162537   \n",
       "\n",
       "      secondary_cleaner.state.floatbank5_a_air  \\\n",
       "644                                  22.995012   \n",
       "1193                                 11.982937   \n",
       "1194                                 11.844983   \n",
       "1195                                 12.091144   \n",
       "1196                                 12.078809   \n",
       "\n",
       "      secondary_cleaner.state.floatbank5_a_level  \\\n",
       "644                                  -399.370680   \n",
       "1193                                 -449.856468   \n",
       "1194                                 -450.881424   \n",
       "1195                                 -496.404140   \n",
       "1196                                 -499.903743   \n",
       "\n",
       "      secondary_cleaner.state.floatbank5_b_air  \\\n",
       "644                                  20.966863   \n",
       "1193                                  9.927727   \n",
       "1194                                  9.916784   \n",
       "1195                                  9.976074   \n",
       "1196                                 10.075259   \n",
       "\n",
       "      secondary_cleaner.state.floatbank5_b_level  \\\n",
       "644                                  -399.308354   \n",
       "1193                                 -450.521700   \n",
       "1194                                 -449.542871   \n",
       "1195                                 -496.783155   \n",
       "1196                                 -499.540325   \n",
       "\n",
       "      secondary_cleaner.state.floatbank6_a_air  \\\n",
       "644                                  24.987274   \n",
       "1193                                 19.971682   \n",
       "1194                                 20.004767   \n",
       "1195                                 19.921634   \n",
       "1196                                 20.039788   \n",
       "\n",
       "      secondary_cleaner.state.floatbank6_a_level  \n",
       "644                                  -399.619808  \n",
       "1193                                 -500.685521  \n",
       "1194                                 -500.137068  \n",
       "1195                                 -500.769011  \n",
       "1196                                 -499.932405  \n",
       "\n",
       "[5 rows x 87 columns]"
      ]
     },
     "execution_count": 9,
     "metadata": {},
     "output_type": "execute_result"
    }
   ],
   "source": [
    "full_data[full_data['final.output.concentrate_au'] == 0].head()"
   ]
  },
  {
   "cell_type": "markdown",
   "metadata": {},
   "source": [
    "Удалим такие строки c нулевыми концентрациями а также близкими к нулю концентрациями так как возможно произошла ошибка при измерениях:"
   ]
  },
  {
   "cell_type": "code",
   "execution_count": 10,
   "metadata": {},
   "outputs": [],
   "source": [
    "full_data.loc[full_data['rougher.output.concentrate_au'] < 0.1] = np.NaN\n",
    "full_data.loc[full_data['primary_cleaner.output.concentrate_au'] < 0.1] = np.NaN\n",
    "train_data.loc[full_data['rougher.output.concentrate_au'] < 0.1] = np.NaN\n",
    "train_data.loc[full_data['primary_cleaner.output.concentrate_au'] < 0.1] = np.NaN\n",
    "full_data.loc[full_data['final.output.concentrate_au'] < 0.1] = np.NaN\n",
    "train_data.loc[train_data['final.output.concentrate_au'] < 0.1] = np.NaN\n",
    "full_data.loc[full_data['rougher.output.recovery'] < 0.1] = np.NaN\n",
    "train_data.loc[train_data['rougher.output.recovery'] < 0.1] = np.NaN\n",
    "\n",
    "full_data.dropna(subset=['rougher.output.concentrate_au','primary_cleaner.output.concentrate_au',\n",
    "                    'final.output.concentrate_au', 'rougher.output.recovery', 'final.output.recovery'], inplace=True)\n",
    "train_data.dropna(subset=['rougher.output.concentrate_au','primary_cleaner.output.concentrate_au',\n",
    "                    'final.output.concentrate_au', 'rougher.output.recovery', 'final.output.recovery'], inplace=True)"
   ]
  },
  {
   "cell_type": "markdown",
   "metadata": {},
   "source": [
    "## Анализ данных"
   ]
  },
  {
   "cell_type": "markdown",
   "metadata": {},
   "source": [
    "#### Исследуем изменение концентрации металлов на каждом этапе:"
   ]
  },
  {
   "cell_type": "markdown",
   "metadata": {},
   "source": [
    "Оценивать будем изменение среднего значения:"
   ]
  },
  {
   "cell_type": "code",
   "execution_count": 11,
   "metadata": {},
   "outputs": [],
   "source": [
    "concentrate_ag = full_data[['rougher.input.feed_ag', 'rougher.output.concentrate_ag', 'primary_cleaner.output.concentrate_ag',\n",
    "                       'final.output.concentrate_ag']].mean()\n",
    "concentrate_pb = full_data[['rougher.input.feed_pb', 'rougher.output.concentrate_pb', 'primary_cleaner.output.concentrate_pb',\n",
    "                       'final.output.concentrate_pb']].mean()\n",
    "concentrate_au = full_data[['rougher.input.feed_au', 'rougher.output.concentrate_au', 'primary_cleaner.output.concentrate_au',\n",
    "                       'final.output.concentrate_au']].mean()"
   ]
  },
  {
   "cell_type": "code",
   "execution_count": 12,
   "metadata": {},
   "outputs": [
    {
     "data": {
      "text/plain": [
       "Text(0.5, 0, 'Стадия')"
      ]
     },
     "execution_count": 12,
     "metadata": {},
     "output_type": "execute_result"
    },
    {
     "data": {
      "image/png": "[encoded data removed]",
      "text/plain": [
       "<Figure size 1080x360 with 1 Axes>"
      ]
     },
     "metadata": {
      "needs_background": "light"
     },
     "output_type": "display_data"
    }
   ],
   "source": [
    "concentrate_ag.plot(title='concentrate_ag', style='x-', grid=True, figsize=(15, 5))\n",
    "plt.ylabel('Концентрация', fontsize=14)\n",
    "plt.xlabel('Стадия', fontsize=14)"
   ]
  },
  {
   "cell_type": "code",
   "execution_count": 13,
   "metadata": {},
   "outputs": [
    {
     "data": {
      "text/plain": [
       "Text(0.5, 0, 'Стадия')"
      ]
     },
     "execution_count": 13,
     "metadata": {},
     "output_type": "execute_result"
    },
    {
     "data": {
      "image/png": "[encoded data removed]",
      "text/plain": [
       "<Figure size 1080x360 with 1 Axes>"
      ]
     },
     "metadata": {
      "needs_background": "light"
     },
     "output_type": "display_data"
    }
   ],
   "source": [
    "concentrate_pb.plot(title='concentrate_pb', style='x-', grid=True, figsize=(15, 5))\n",
    "plt.ylabel('Концентрация', fontsize=14)\n",
    "plt.xlabel('Стадия', fontsize=14)"
   ]
  },
  {
   "cell_type": "code",
   "execution_count": 14,
   "metadata": {},
   "outputs": [
    {
     "data": {
      "text/plain": [
       "Text(0.5, 0, 'Стадия')"
      ]
     },
     "execution_count": 14,
     "metadata": {},
     "output_type": "execute_result"
    },
    {
     "data": {
      "image/png": "[encoded data removed]",
      "text/plain": [
       "<Figure size 1080x360 with 1 Axes>"
      ]
     },
     "metadata": {
      "needs_background": "light"
     },
     "output_type": "display_data"
    }
   ],
   "source": [
    "concentrate_au.plot(title='concentrate_au', style='x-', grid=True, figsize=(15, 5))\n",
    "plt.ylabel('Концентрация', fontsize=14)\n",
    "plt.xlabel('Стадия', fontsize=14)"
   ]
  },
  {
   "cell_type": "markdown",
   "metadata": {},
   "source": [
    "Концентрация серебра падает, а золота растет на каждом этапе очистки, концентрация свинца незначительно растет."
   ]
  },
  {
   "cell_type": "markdown",
   "metadata": {},
   "source": [
    "#### Проанализируем распределения размеров гранул на обучающей и тестовой выборках:"
   ]
  },
  {
   "cell_type": "code",
   "execution_count": 15,
   "metadata": {},
   "outputs": [
    {
     "data": {
      "text/plain": [
       "<AxesSubplot:>"
      ]
     },
     "execution_count": 15,
     "metadata": {},
     "output_type": "execute_result"
    },
    {
     "data": {
      "image/png": "[encoded data removed]",
      "text/plain": [
       "<Figure size 1080x360 with 1 Axes>"
      ]
     },
     "metadata": {
      "needs_background": "light"
     },
     "output_type": "display_data"
    }
   ],
   "source": [
    "train_data['rougher.input.feed_size'].hist(bins=100, figsize=(15, 5), alpha = 0.7, range=(20, 100))\n",
    "test_data['rougher.input.feed_size'].hist(bins=100, figsize=(15, 5), alpha = 0.7, range=(20, 100))"
   ]
  },
  {
   "cell_type": "code",
   "execution_count": 16,
   "metadata": {},
   "outputs": [
    {
     "data": {
      "text/plain": [
       "count    13794.000000\n",
       "mean        60.260355\n",
       "std         23.085980\n",
       "min          9.659576\n",
       "25%         48.989406\n",
       "50%         55.335999\n",
       "75%         65.967786\n",
       "max        484.967466\n",
       "Name: rougher.input.feed_size, dtype: float64"
      ]
     },
     "execution_count": 16,
     "metadata": {},
     "output_type": "execute_result"
    }
   ],
   "source": [
    "train_data['rougher.input.feed_size'].describe()"
   ]
  },
  {
   "cell_type": "code",
   "execution_count": 17,
   "metadata": {},
   "outputs": [
    {
     "data": {
      "text/plain": [
       "count    5290.000000\n",
       "mean       55.952754\n",
       "std        19.080334\n",
       "min         0.046369\n",
       "25%        43.906504\n",
       "50%        50.846843\n",
       "75%        62.451165\n",
       "max       392.494040\n",
       "Name: rougher.input.feed_size, dtype: float64"
      ]
     },
     "execution_count": 17,
     "metadata": {},
     "output_type": "execute_result"
    }
   ],
   "source": [
    "test_data['rougher.input.feed_size'].describe()"
   ]
  },
  {
   "cell_type": "markdown",
   "metadata": {},
   "source": [
    "Распределения размеров гранул сырья на обучающей и тестовой выборках сильно не отличаются друг от друга. Средние значения и стандартные отклонения сопоставимы с друг другом, а гистограммы имеют схожий вид."
   ]
  },
  {
   "cell_type": "markdown",
   "metadata": {},
   "source": [
    "#### Исследуем суммарные концентрации:"
   ]
  },
  {
   "cell_type": "markdown",
   "metadata": {},
   "source": [
    "Исследуем суммарную концентрацию всех веществ на разных стадиях: в сырье, в черновом и финальном концентратах"
   ]
  },
  {
   "cell_type": "code",
   "execution_count": 18,
   "metadata": {},
   "outputs": [],
   "source": [
    "concentrate = pd.DataFrame()\n",
    "concentrate['input_concentrate_sum'] = full_data[['rougher.input.feed_ag', 'rougher.input.feed_pb',\n",
    "                                    'rougher.input.feed_sol', 'rougher.input.feed_au']].sum(axis=1)\n",
    "concentrate['rougher_concentrate_sum'] = full_data[['rougher.output.concentrate_ag', 'rougher.output.concentrate_pb',\n",
    "                            'rougher.output.concentrate_sol', 'rougher.output.concentrate_au']].sum(axis=1)\n",
    "concentrate['final_concentrate_sum'] = full_data[['final.output.concentrate_ag', 'final.output.concentrate_pb',\n",
    "                                    'final.output.concentrate_sol', 'final.output.concentrate_au']].sum(axis=1)"
   ]
  },
  {
   "cell_type": "code",
   "execution_count": 19,
   "metadata": {
    "scrolled": true
   },
   "outputs": [
    {
     "data": {
      "text/html": [
       "<div>\n",
       "<style scoped>\n",
       "    .dataframe tbody tr th:only-of-type {\n",
       "        vertical-align: middle;\n",
       "    }\n",
       "\n",
       "    .dataframe tbody tr th {\n",
       "        vertical-align: top;\n",
       "    }\n",
       "\n",
       "    .dataframe thead th {\n",
       "        text-align: right;\n",
       "    }\n",
       "</style>\n",
       "<table border=\"1\" class=\"dataframe\">\n",
       "  <thead>\n",
       "    <tr style=\"text-align: right;\">\n",
       "      <th></th>\n",
       "      <th>input_concentrate_sum</th>\n",
       "      <th>rougher_concentrate_sum</th>\n",
       "      <th>final_concentrate_sum</th>\n",
       "    </tr>\n",
       "  </thead>\n",
       "  <tbody>\n",
       "    <tr>\n",
       "      <th>count</th>\n",
       "      <td>18724.000000</td>\n",
       "      <td>18724.000000</td>\n",
       "      <td>18724.000000</td>\n",
       "    </tr>\n",
       "    <tr>\n",
       "      <th>mean</th>\n",
       "      <td>57.351244</td>\n",
       "      <td>69.633621</td>\n",
       "      <td>69.035878</td>\n",
       "    </tr>\n",
       "    <tr>\n",
       "      <th>std</th>\n",
       "      <td>7.089665</td>\n",
       "      <td>7.651108</td>\n",
       "      <td>5.458440</td>\n",
       "    </tr>\n",
       "    <tr>\n",
       "      <th>min</th>\n",
       "      <td>8.072476</td>\n",
       "      <td>2.016647</td>\n",
       "      <td>1.976540</td>\n",
       "    </tr>\n",
       "    <tr>\n",
       "      <th>25%</th>\n",
       "      <td>53.552566</td>\n",
       "      <td>66.390557</td>\n",
       "      <td>67.946259</td>\n",
       "    </tr>\n",
       "    <tr>\n",
       "      <th>50%</th>\n",
       "      <td>57.601655</td>\n",
       "      <td>70.345534</td>\n",
       "      <td>69.609421</td>\n",
       "    </tr>\n",
       "    <tr>\n",
       "      <th>75%</th>\n",
       "      <td>61.956569</td>\n",
       "      <td>74.460576</td>\n",
       "      <td>71.388476</td>\n",
       "    </tr>\n",
       "    <tr>\n",
       "      <th>max</th>\n",
       "      <td>76.978947</td>\n",
       "      <td>88.140119</td>\n",
       "      <td>80.210644</td>\n",
       "    </tr>\n",
       "  </tbody>\n",
       "</table>\n",
       "</div>"
      ],
      "text/plain": [
       "       input_concentrate_sum  rougher_concentrate_sum  final_concentrate_sum\n",
       "count           18724.000000             18724.000000           18724.000000\n",
       "mean               57.351244                69.633621              69.035878\n",
       "std                 7.089665                 7.651108               5.458440\n",
       "min                 8.072476                 2.016647               1.976540\n",
       "25%                53.552566                66.390557              67.946259\n",
       "50%                57.601655                70.345534              69.609421\n",
       "75%                61.956569                74.460576              71.388476\n",
       "max                76.978947                88.140119              80.210644"
      ]
     },
     "execution_count": 19,
     "metadata": {},
     "output_type": "execute_result"
    }
   ],
   "source": [
    "concentrate.describe()"
   ]
  },
  {
   "cell_type": "code",
   "execution_count": 20,
   "metadata": {},
   "outputs": [
    {
     "data": {
      "text/plain": [
       "<matplotlib.legend.Legend at 0x7ffa18ccd5b0>"
      ]
     },
     "execution_count": 20,
     "metadata": {},
     "output_type": "execute_result"
    },
    {
     "data": {
      "image/png": "[encoded data removed]",
      "text/plain": [
       "<Figure size 864x432 with 1 Axes>"
      ]
     },
     "metadata": {
      "needs_background": "light"
     },
     "output_type": "display_data"
    }
   ],
   "source": [
    "concentrate['input_concentrate_sum'].hist(bins=100, figsize=(12, 6), alpha = 0.7, range=(20, 90), label='input_concentrate_sum')\n",
    "concentrate['rougher_concentrate_sum'].hist(bins=100, figsize=(12, 6), alpha = 0.7, range=(20, 90), label='rougher_concentrate_sum')\n",
    "concentrate['final_concentrate_sum'].hist(bins=100, figsize=(12, 6), alpha = 0.7, range=(20, 90), label='final_concentrate_sum')\n",
    "plt.legend(loc='upper left')"
   ]
  },
  {
   "cell_type": "markdown",
   "metadata": {},
   "source": [
    "В данных были аномалии, а именно нулевые концентрации, данные строки были удалены в начале при предобработке данных. При сравнении гистограмм хорошо видно что среднее значение, вокруг которого распределена концентрация металлов смещается вправо, т.е. увеличивается, а на последнем этапе очистки уменьшается разброс значений."
   ]
  },
  {
   "cell_type": "markdown",
   "metadata": {},
   "source": [
    "## Модель"
   ]
  },
  {
   "cell_type": "markdown",
   "metadata": {},
   "source": [
    "#### Функция для вычисления метрики sMAPE"
   ]
  },
  {
   "cell_type": "code",
   "execution_count": 21,
   "metadata": {},
   "outputs": [],
   "source": [
    "def s_mape(target, predicted):\n",
    "    predicted_rougher_recovery = predicted[:,0]\n",
    "    predicted_final_recovery = predicted[:,1]\n",
    "    target_rougher_recovery = np.array(target)[:,0]\n",
    "    target_final_recovery = np.array(target)[:,1]\n",
    "        \n",
    "    sMAPE_rougher = abs(target_rougher_recovery - predicted_rougher_recovery) / ((abs(target_rougher_recovery) + abs(predicted_rougher_recovery))/2)\n",
    "    sMAPE_rougher = 100 * sMAPE_rougher.sum() / len(target_rougher_recovery)\n",
    "    \n",
    "    sMAPE_final = abs(target_final_recovery - predicted_final_recovery) / ((abs(target_final_recovery) + abs(predicted_final_recovery))/2)\n",
    "    sMAPE_final = 100 * sMAPE_final.sum() / len(target_final_recovery)\n",
    "    \n",
    "    sMAPE = 0.25*sMAPE_rougher + sMAPE_final*0.75\n",
    "    return sMAPE"
   ]
  },
  {
   "cell_type": "markdown",
   "metadata": {},
   "source": [
    "### Обучение модели"
   ]
  },
  {
   "cell_type": "markdown",
   "metadata": {},
   "source": [
    "Обучим разные модели и оценим их качество кросс-валидацией."
   ]
  },
  {
   "cell_type": "code",
   "execution_count": 22,
   "metadata": {},
   "outputs": [],
   "source": [
    "target = train_data[['rougher.output.recovery', 'final.output.recovery']]\n",
    "features = train_data.drop(['date', 'rougher.output.recovery', 'final.output.recovery'], axis=1)"
   ]
  },
  {
   "cell_type": "markdown",
   "metadata": {},
   "source": [
    "### Дерево решений"
   ]
  },
  {
   "cell_type": "markdown",
   "metadata": {},
   "source": [
    "Подберем оптимальные гиперпараметры:"
   ]
  },
  {
   "cell_type": "code",
   "execution_count": 23,
   "metadata": {},
   "outputs": [],
   "source": [
    "def decision_tree(features, target):\n",
    "    best_model = None\n",
    "    best_final_score = 1000\n",
    "    for i in range(1, 15):\n",
    "        model = DecisionTreeRegressor(random_state=12345,\n",
    "                                      max_depth=i)\n",
    "        scores = cross_val_score(model, features, target, scoring = make_scorer(s_mape))\n",
    "        final_score = scores.mean()\n",
    "        if final_score < best_final_score:\n",
    "            best_model = model\n",
    "            best_final_score = final_score\n",
    "    print('best_model =', best_model)\n",
    "    print(f\"Средняя оценка качества модели {scores.mean():.3f} % и ее стандартное отклонение {scores.std():.3f} %\")\n",
    "    return best_model"
   ]
  },
  {
   "cell_type": "code",
   "execution_count": 24,
   "metadata": {},
   "outputs": [
    {
     "data": {
      "text/plain": [
       "GridSearchCV(cv=5, error_score='raise',\n",
       "             estimator=DecisionTreeRegressor(random_state=12345),\n",
       "             param_grid={'max_depth': range(1, 16)},\n",
       "             scoring=make_scorer(s_mape, greater_is_better=False))"
      ]
     },
     "execution_count": 24,
     "metadata": {},
     "output_type": "execute_result"
    }
   ],
   "source": [
    "model = DecisionTreeRegressor(random_state=12345)\n",
    "parametrs = { 'max_depth': range (1, 16, 1)}\n",
    "grid = GridSearchCV(model,\n",
    "                    parametrs,\n",
    "                    scoring=make_scorer(s_mape,\n",
    "                                        greater_is_better=False),\n",
    "                    cv=5,\n",
    "                    error_score=\"raise\")\n",
    "grid.fit(features, target)"
   ]
  },
  {
   "cell_type": "code",
   "execution_count": 25,
   "metadata": {},
   "outputs": [
    {
     "name": "stdout",
     "output_type": "stream",
     "text": [
      "model = {'max_depth': 12}\n",
      "best_score = -4.1557007265730705\n"
     ]
    }
   ],
   "source": [
    "print('model =', grid.best_params_)\n",
    "print('best_score =', grid.best_score_)"
   ]
  },
  {
   "cell_type": "code",
   "execution_count": 26,
   "metadata": {
    "scrolled": true
   },
   "outputs": [
    {
     "name": "stdout",
     "output_type": "stream",
     "text": [
      "best_model = DecisionTreeRegressor(max_depth=12, random_state=12345)\n",
      "Средняя оценка качества модели 4.254 % и ее стандартное отклонение 0.626 %\n",
      "CPU times: user 42.4 s, sys: 16 ms, total: 42.4 s\n",
      "Wall time: 42.4 s\n"
     ]
    }
   ],
   "source": [
    "%%time\n",
    "model_1 = decision_tree(features, target)"
   ]
  },
  {
   "cell_type": "markdown",
   "metadata": {},
   "source": [
    "### Случайный лес"
   ]
  },
  {
   "cell_type": "markdown",
   "metadata": {},
   "source": [
    "Так как оптимальная величина глубины дерева уже найдена обучим случайный лес с той же величиной глубины дерева:"
   ]
  },
  {
   "cell_type": "code",
   "execution_count": 27,
   "metadata": {},
   "outputs": [
    {
     "name": "stdout",
     "output_type": "stream",
     "text": [
      "model = RandomForestRegressor(max_depth=12, n_estimators=30, random_state=12345)\n",
      "Средняя оценка качества модели 2.512 % и ее стандартное отклонение 0.482 %\n",
      "CPU times: user 1min 21s, sys: 80 ms, total: 1min 22s\n",
      "Wall time: 1min 22s\n"
     ]
    }
   ],
   "source": [
    "%%time\n",
    "model_2 = RandomForestRegressor(random_state=12345,\n",
    "                                max_depth=12,\n",
    "                                n_estimators=30)\n",
    "scores = cross_val_score(model_2, features, target, scoring = make_scorer(s_mape))\n",
    "final_score = scores.mean()\n",
    "print('model =', model_2)\n",
    "print(f\"Средняя оценка качества модели {scores.mean():.3f} % и ее стандартное отклонение {scores.std():.3f} %\")"
   ]
  },
  {
   "cell_type": "markdown",
   "metadata": {},
   "source": [
    " ### Выберем лучшую модель и проверим её на тестовой выборке"
   ]
  },
  {
   "cell_type": "markdown",
   "metadata": {},
   "source": [
    "Лучшей моделью оказался случайный лес"
   ]
  },
  {
   "cell_type": "code",
   "execution_count": 28,
   "metadata": {},
   "outputs": [],
   "source": [
    "test = test_data.drop(['date'], axis=1)"
   ]
  },
  {
   "cell_type": "code",
   "execution_count": 29,
   "metadata": {},
   "outputs": [],
   "source": [
    "features_train = train_data.drop(['date'], axis=1)\n",
    "features_train = features_train.drop(columns_not_test, axis=1)\n",
    "features_target = train_data[['rougher.output.recovery', 'final.output.recovery']]"
   ]
  },
  {
   "cell_type": "code",
   "execution_count": 30,
   "metadata": {},
   "outputs": [
    {
     "name": "stdout",
     "output_type": "stream",
     "text": [
      "CPU times: user 13.6 s, sys: 16 ms, total: 13.6 s\n",
      "Wall time: 13.6 s\n"
     ]
    }
   ],
   "source": [
    "%%time\n",
    "model = RandomForestRegressor(random_state=12345,\n",
    "                              max_depth=12,\n",
    "                              n_estimators=30)\n",
    "model.fit(features_train, features_target)\n",
    "test_predicted = model.predict(test)"
   ]
  },
  {
   "cell_type": "code",
   "execution_count": 31,
   "metadata": {},
   "outputs": [
    {
     "name": "stdout",
     "output_type": "stream",
     "text": [
      "[[88.31439481 71.04842966]\n",
      " [88.45613743 71.35580671]\n",
      " [88.08344539 70.16231872]\n",
      " ...\n",
      " [92.9862514  71.83345875]\n",
      " [93.63838447 72.87850647]\n",
      " [92.6335642  73.20206441]]\n"
     ]
    }
   ],
   "source": [
    "print(test_predicted)"
   ]
  },
  {
   "cell_type": "code",
   "execution_count": 32,
   "metadata": {},
   "outputs": [],
   "source": [
    "full_recovery = full[['date', 'rougher.output.recovery', 'final.output.recovery']]\n",
    "target_recovery = test_data.merge(full_recovery, on='date', how = 'inner')\n",
    "target_recovery = target_recovery[['rougher.output.recovery', 'final.output.recovery']]"
   ]
  },
  {
   "cell_type": "code",
   "execution_count": 33,
   "metadata": {},
   "outputs": [
    {
     "name": "stdout",
     "output_type": "stream",
     "text": [
      "Итоговое sMAPE = 9.705 %\n"
     ]
    }
   ],
   "source": [
    "S_MAPE = s_mape(target_recovery, test_predicted)\n",
    "print(f\"Итоговое sMAPE = {S_MAPE :.3f} %\")"
   ]
  }
 ],
 "metadata": {
  "ExecuteTimeLog": [
   {
    "duration": 874,
    "start_time": "2022-05-25T16:35:16.036Z"
   },
   {
    "duration": 3,
    "start_time": "2022-05-25T16:35:21.516Z"
   },
   {
    "duration": 2,
    "start_time": "2022-05-25T16:35:54.945Z"
   },
   {
    "duration": 436,
    "start_time": "2022-05-25T16:52:48.205Z"
   },
   {
    "duration": 591,
    "start_time": "2022-05-25T16:53:01.349Z"
   },
   {
    "duration": 57,
    "start_time": "2022-05-25T16:54:44.254Z"
   },
   {
    "duration": 91,
    "start_time": "2022-05-25T16:59:34.220Z"
   },
   {
    "duration": 20,
    "start_time": "2022-05-25T17:00:01.028Z"
   },
   {
    "duration": 15,
    "start_time": "2022-05-25T17:00:59.706Z"
   },
   {
    "duration": 1812,
    "start_time": "2022-05-25T17:01:46.604Z"
   },
   {
    "duration": 1282,
    "start_time": "2022-05-25T17:02:10.518Z"
   },
   {
    "duration": 47,
    "start_time": "2022-05-25T17:02:48.273Z"
   },
   {
    "duration": 14,
    "start_time": "2022-05-25T17:03:03.924Z"
   },
   {
    "duration": 18,
    "start_time": "2022-05-25T17:03:18.317Z"
   },
   {
    "duration": 13,
    "start_time": "2022-05-25T17:08:07.202Z"
   },
   {
    "duration": 6,
    "start_time": "2022-05-25T17:10:00.049Z"
   },
   {
    "duration": 24,
    "start_time": "2022-05-25T17:15:08.320Z"
   },
   {
    "duration": 8,
    "start_time": "2022-05-25T17:53:59.672Z"
   },
   {
    "duration": 367,
    "start_time": "2022-05-25T17:54:04.488Z"
   },
   {
    "duration": 3,
    "start_time": "2022-05-25T17:54:49.707Z"
   },
   {
    "duration": 4,
    "start_time": "2022-05-25T17:56:11.793Z"
   },
   {
    "duration": 4,
    "start_time": "2022-05-25T17:56:16.137Z"
   },
   {
    "duration": 6,
    "start_time": "2022-05-25T17:56:36.657Z"
   },
   {
    "duration": 4,
    "start_time": "2022-05-25T17:56:48.915Z"
   },
   {
    "duration": 5,
    "start_time": "2022-05-25T17:56:49.454Z"
   },
   {
    "duration": 5,
    "start_time": "2022-05-25T17:56:56.969Z"
   },
   {
    "duration": 4,
    "start_time": "2022-05-25T17:58:02.765Z"
   },
   {
    "duration": 744,
    "start_time": "2022-05-25T17:58:03.229Z"
   },
   {
    "duration": 7,
    "start_time": "2022-05-25T17:58:05.352Z"
   },
   {
    "duration": 5,
    "start_time": "2022-05-25T17:58:06.416Z"
   },
   {
    "duration": 59,
    "start_time": "2022-05-25T19:12:55.415Z"
   },
   {
    "duration": 6,
    "start_time": "2022-05-25T19:12:58.790Z"
   },
   {
    "duration": 6,
    "start_time": "2022-05-25T19:13:11.999Z"
   },
   {
    "duration": 8,
    "start_time": "2022-05-25T19:13:20.575Z"
   },
   {
    "duration": 945,
    "start_time": "2022-05-25T19:13:25.751Z"
   },
   {
    "duration": 1820,
    "start_time": "2022-05-25T19:13:26.698Z"
   },
   {
    "duration": 7,
    "start_time": "2022-05-25T19:13:28.521Z"
   },
   {
    "duration": 5,
    "start_time": "2022-05-25T19:13:28.531Z"
   },
   {
    "duration": 12,
    "start_time": "2022-05-25T19:13:28.539Z"
   },
   {
    "duration": 21,
    "start_time": "2022-05-25T19:13:55.418Z"
   },
   {
    "duration": 14,
    "start_time": "2022-05-25T19:14:08.624Z"
   },
   {
    "duration": 101,
    "start_time": "2022-05-25T19:14:13.546Z"
   },
   {
    "duration": 29,
    "start_time": "2022-05-25T19:14:21.659Z"
   },
   {
    "duration": 22,
    "start_time": "2022-05-25T19:17:35.907Z"
   },
   {
    "duration": 6,
    "start_time": "2022-05-25T19:18:26.385Z"
   },
   {
    "duration": 6,
    "start_time": "2022-05-25T19:18:39.390Z"
   },
   {
    "duration": 283,
    "start_time": "2022-05-25T19:19:35.656Z"
   },
   {
    "duration": 35,
    "start_time": "2022-05-25T19:19:47.679Z"
   },
   {
    "duration": 40,
    "start_time": "2022-05-25T19:24:34.841Z"
   },
   {
    "duration": 25,
    "start_time": "2022-05-25T19:24:40.460Z"
   },
   {
    "duration": 7,
    "start_time": "2022-05-25T19:24:53.156Z"
   },
   {
    "duration": 13,
    "start_time": "2022-05-25T19:25:05.183Z"
   },
   {
    "duration": 6,
    "start_time": "2022-05-25T19:25:25.850Z"
   },
   {
    "duration": 11,
    "start_time": "2022-05-25T19:25:52.070Z"
   },
   {
    "duration": 4,
    "start_time": "2022-05-25T19:27:37.793Z"
   },
   {
    "duration": 5,
    "start_time": "2022-05-25T19:27:40.453Z"
   },
   {
    "duration": 3,
    "start_time": "2022-05-25T19:27:42.153Z"
   },
   {
    "duration": 9,
    "start_time": "2022-05-25T19:30:22.688Z"
   },
   {
    "duration": 9,
    "start_time": "2022-05-25T19:33:06.304Z"
   },
   {
    "duration": 10,
    "start_time": "2022-05-25T19:33:08.308Z"
   },
   {
    "duration": 8,
    "start_time": "2022-05-25T19:33:08.939Z"
   },
   {
    "duration": 9,
    "start_time": "2022-05-25T19:33:09.347Z"
   },
   {
    "duration": 8,
    "start_time": "2022-05-25T19:33:09.646Z"
   },
   {
    "duration": 9,
    "start_time": "2022-05-25T19:33:09.849Z"
   },
   {
    "duration": 3,
    "start_time": "2022-05-25T19:33:16.052Z"
   },
   {
    "duration": 13,
    "start_time": "2022-05-25T19:33:21.331Z"
   },
   {
    "duration": 6,
    "start_time": "2022-05-25T19:33:48.715Z"
   },
   {
    "duration": 4,
    "start_time": "2022-05-25T19:33:54.040Z"
   },
   {
    "duration": 3,
    "start_time": "2022-05-25T19:34:08.082Z"
   },
   {
    "duration": 5,
    "start_time": "2022-05-25T19:34:37.160Z"
   },
   {
    "duration": 5,
    "start_time": "2022-05-25T19:39:09.866Z"
   },
   {
    "duration": 35,
    "start_time": "2022-05-25T19:39:18.787Z"
   },
   {
    "duration": 28,
    "start_time": "2022-05-25T19:39:27.643Z"
   },
   {
    "duration": 8,
    "start_time": "2022-05-25T19:39:33.629Z"
   },
   {
    "duration": 7,
    "start_time": "2022-05-25T19:39:41.129Z"
   },
   {
    "duration": 5,
    "start_time": "2022-05-25T19:44:30.830Z"
   },
   {
    "duration": 5,
    "start_time": "2022-05-25T19:44:44.274Z"
   },
   {
    "duration": 6,
    "start_time": "2022-05-25T19:44:51.115Z"
   },
   {
    "duration": 4,
    "start_time": "2022-05-25T19:45:05.369Z"
   },
   {
    "duration": 2,
    "start_time": "2022-05-25T19:46:36.798Z"
   },
   {
    "duration": 4,
    "start_time": "2022-05-25T19:46:44.449Z"
   },
   {
    "duration": 15,
    "start_time": "2022-05-25T19:46:55.655Z"
   },
   {
    "duration": 12,
    "start_time": "2022-05-25T19:47:26.148Z"
   },
   {
    "duration": 4,
    "start_time": "2022-05-25T19:47:43.379Z"
   },
   {
    "duration": 13,
    "start_time": "2022-05-25T19:47:52.126Z"
   },
   {
    "duration": 922,
    "start_time": "2022-05-25T19:58:26.844Z"
   },
   {
    "duration": 1835,
    "start_time": "2022-05-25T19:58:27.769Z"
   },
   {
    "duration": 7,
    "start_time": "2022-05-25T19:58:29.606Z"
   },
   {
    "duration": 9,
    "start_time": "2022-05-25T19:58:29.615Z"
   },
   {
    "duration": 11,
    "start_time": "2022-05-25T19:58:29.626Z"
   },
   {
    "duration": 115,
    "start_time": "2022-05-25T19:58:29.639Z"
   },
   {
    "duration": 0,
    "start_time": "2022-05-25T19:58:29.756Z"
   },
   {
    "duration": 12,
    "start_time": "2022-05-25T19:59:51.024Z"
   },
   {
    "duration": 10,
    "start_time": "2022-05-25T19:59:59.021Z"
   },
   {
    "duration": 12,
    "start_time": "2022-05-25T20:00:13.134Z"
   },
   {
    "duration": 13,
    "start_time": "2022-05-25T20:00:38.071Z"
   },
   {
    "duration": 13,
    "start_time": "2022-05-25T20:00:52.807Z"
   },
   {
    "duration": 15,
    "start_time": "2022-05-25T20:01:02.349Z"
   },
   {
    "duration": 13,
    "start_time": "2022-05-25T20:01:09.108Z"
   },
   {
    "duration": 13,
    "start_time": "2022-05-25T20:01:14.309Z"
   },
   {
    "duration": 22,
    "start_time": "2022-05-25T20:01:28.991Z"
   },
   {
    "duration": 38,
    "start_time": "2022-05-25T20:02:21.270Z"
   },
   {
    "duration": 14,
    "start_time": "2022-05-25T20:02:28.869Z"
   },
   {
    "duration": 14,
    "start_time": "2022-05-25T20:03:12.841Z"
   },
   {
    "duration": 3,
    "start_time": "2022-05-25T20:03:18.941Z"
   },
   {
    "duration": 27,
    "start_time": "2022-05-25T20:03:19.429Z"
   },
   {
    "duration": 24,
    "start_time": "2022-05-25T20:03:27.002Z"
   },
   {
    "duration": 14,
    "start_time": "2022-05-25T20:06:20.997Z"
   },
   {
    "duration": 14,
    "start_time": "2022-05-25T20:06:29.315Z"
   },
   {
    "duration": 17,
    "start_time": "2022-05-25T20:06:40.196Z"
   },
   {
    "duration": 19,
    "start_time": "2022-05-25T20:07:08.814Z"
   },
   {
    "duration": 20,
    "start_time": "2022-05-25T20:07:08.841Z"
   },
   {
    "duration": 20,
    "start_time": "2022-05-25T20:07:08.868Z"
   },
   {
    "duration": 5,
    "start_time": "2022-05-25T20:10:05.057Z"
   },
   {
    "duration": 6,
    "start_time": "2022-05-25T20:13:13.414Z"
   },
   {
    "duration": 16,
    "start_time": "2022-05-25T20:13:29.196Z"
   },
   {
    "duration": 20,
    "start_time": "2022-05-25T20:13:39.616Z"
   },
   {
    "duration": 5,
    "start_time": "2022-05-25T20:13:49.184Z"
   },
   {
    "duration": 16,
    "start_time": "2022-05-25T20:14:24.748Z"
   },
   {
    "duration": 6,
    "start_time": "2022-05-25T20:14:26.665Z"
   },
   {
    "duration": 20,
    "start_time": "2022-05-25T20:14:32.405Z"
   },
   {
    "duration": 22,
    "start_time": "2022-05-25T20:14:35.569Z"
   },
   {
    "duration": 19,
    "start_time": "2022-05-25T20:14:39.204Z"
   },
   {
    "duration": 17,
    "start_time": "2022-05-25T20:14:42.205Z"
   },
   {
    "duration": 20,
    "start_time": "2022-05-25T20:14:48.609Z"
   },
   {
    "duration": 1062,
    "start_time": "2022-05-25T20:19:20.566Z"
   },
   {
    "duration": 769,
    "start_time": "2022-05-25T20:19:21.630Z"
   },
   {
    "duration": 6,
    "start_time": "2022-05-25T20:19:22.402Z"
   },
   {
    "duration": 7,
    "start_time": "2022-05-25T20:19:22.410Z"
   },
   {
    "duration": 4,
    "start_time": "2022-05-25T20:19:22.418Z"
   },
   {
    "duration": 17,
    "start_time": "2022-05-25T20:19:22.424Z"
   },
   {
    "duration": 17,
    "start_time": "2022-05-25T20:19:22.443Z"
   },
   {
    "duration": 44,
    "start_time": "2022-05-25T20:19:22.462Z"
   },
   {
    "duration": 17,
    "start_time": "2022-05-25T20:19:22.508Z"
   },
   {
    "duration": 26,
    "start_time": "2022-05-25T20:19:22.527Z"
   },
   {
    "duration": 20,
    "start_time": "2022-05-25T20:19:22.554Z"
   },
   {
    "duration": 47,
    "start_time": "2022-05-25T20:19:22.575Z"
   },
   {
    "duration": 15,
    "start_time": "2022-05-25T20:19:22.623Z"
   },
   {
    "duration": 106,
    "start_time": "2022-05-25T20:23:51.660Z"
   },
   {
    "duration": 3,
    "start_time": "2022-05-25T20:23:54.422Z"
   },
   {
    "duration": 15,
    "start_time": "2022-05-25T20:24:07.744Z"
   },
   {
    "duration": 13,
    "start_time": "2022-05-25T20:24:36.795Z"
   },
   {
    "duration": 9,
    "start_time": "2022-05-25T20:24:48.872Z"
   },
   {
    "duration": 9,
    "start_time": "2022-05-25T20:24:54.380Z"
   },
   {
    "duration": 4,
    "start_time": "2022-05-25T20:26:10.261Z"
   },
   {
    "duration": 18,
    "start_time": "2022-05-25T20:26:11.139Z"
   },
   {
    "duration": 19,
    "start_time": "2022-05-25T20:26:45.525Z"
   },
   {
    "duration": 3,
    "start_time": "2022-05-25T20:27:24.068Z"
   },
   {
    "duration": 1185,
    "start_time": "2022-05-26T16:39:06.424Z"
   },
   {
    "duration": 3544,
    "start_time": "2022-05-26T16:39:07.612Z"
   },
   {
    "duration": 7,
    "start_time": "2022-05-26T16:39:11.158Z"
   },
   {
    "duration": 22,
    "start_time": "2022-05-26T16:39:11.167Z"
   },
   {
    "duration": 5,
    "start_time": "2022-05-26T16:39:11.191Z"
   },
   {
    "duration": 17,
    "start_time": "2022-05-26T16:39:11.198Z"
   },
   {
    "duration": 17,
    "start_time": "2022-05-26T16:39:11.217Z"
   },
   {
    "duration": 31,
    "start_time": "2022-05-26T16:39:11.236Z"
   },
   {
    "duration": 22,
    "start_time": "2022-05-26T16:39:11.276Z"
   },
   {
    "duration": 29,
    "start_time": "2022-05-26T16:39:11.300Z"
   },
   {
    "duration": 37,
    "start_time": "2022-05-26T16:39:11.331Z"
   },
   {
    "duration": 23,
    "start_time": "2022-05-26T16:39:11.374Z"
   },
   {
    "duration": 17,
    "start_time": "2022-05-26T16:39:11.399Z"
   },
   {
    "duration": 6,
    "start_time": "2022-05-26T16:39:11.418Z"
   },
   {
    "duration": 22,
    "start_time": "2022-05-26T16:39:11.425Z"
   },
   {
    "duration": 17,
    "start_time": "2022-05-26T16:39:11.467Z"
   },
   {
    "duration": 9,
    "start_time": "2022-05-26T16:39:11.486Z"
   },
   {
    "duration": 3,
    "start_time": "2022-05-26T16:39:11.497Z"
   },
   {
    "duration": 50,
    "start_time": "2022-05-26T16:57:29.179Z"
   },
   {
    "duration": 1076,
    "start_time": "2022-05-26T17:10:33.410Z"
   },
   {
    "duration": 820,
    "start_time": "2022-05-26T17:10:34.488Z"
   },
   {
    "duration": 6,
    "start_time": "2022-05-26T17:10:35.310Z"
   },
   {
    "duration": 6,
    "start_time": "2022-05-26T17:10:35.317Z"
   },
   {
    "duration": 4,
    "start_time": "2022-05-26T17:10:35.326Z"
   },
   {
    "duration": 39,
    "start_time": "2022-05-26T17:10:35.331Z"
   },
   {
    "duration": 30,
    "start_time": "2022-05-26T17:10:35.372Z"
   },
   {
    "duration": 18,
    "start_time": "2022-05-26T17:10:35.405Z"
   },
   {
    "duration": 54,
    "start_time": "2022-05-26T17:10:35.425Z"
   },
   {
    "duration": 18,
    "start_time": "2022-05-26T17:10:35.481Z"
   },
   {
    "duration": 45,
    "start_time": "2022-05-26T17:11:26.689Z"
   },
   {
    "duration": 22,
    "start_time": "2022-05-26T17:11:37.194Z"
   },
   {
    "duration": 52,
    "start_time": "2022-05-26T17:15:43.697Z"
   },
   {
    "duration": 30,
    "start_time": "2022-05-26T17:16:02.644Z"
   },
   {
    "duration": 6,
    "start_time": "2022-05-26T17:26:11.933Z"
   },
   {
    "duration": 9,
    "start_time": "2022-05-26T17:26:17.352Z"
   },
   {
    "duration": 9,
    "start_time": "2022-05-26T17:26:50.912Z"
   },
   {
    "duration": 5,
    "start_time": "2022-05-26T17:27:25.183Z"
   },
   {
    "duration": 10,
    "start_time": "2022-05-26T17:27:27.925Z"
   },
   {
    "duration": 10,
    "start_time": "2022-05-26T17:27:51.663Z"
   },
   {
    "duration": 10,
    "start_time": "2022-05-26T17:27:56.986Z"
   },
   {
    "duration": 4,
    "start_time": "2022-05-26T17:29:10.511Z"
   },
   {
    "duration": 9,
    "start_time": "2022-05-26T17:29:10.990Z"
   },
   {
    "duration": 6,
    "start_time": "2022-05-26T17:29:31.986Z"
   },
   {
    "duration": 12,
    "start_time": "2022-05-26T17:29:32.884Z"
   },
   {
    "duration": 4,
    "start_time": "2022-05-26T17:29:34.680Z"
   },
   {
    "duration": 11,
    "start_time": "2022-05-26T17:29:34.999Z"
   },
   {
    "duration": 8,
    "start_time": "2022-05-26T17:29:48.966Z"
   },
   {
    "duration": 9,
    "start_time": "2022-05-26T17:29:53.090Z"
   },
   {
    "duration": 9,
    "start_time": "2022-05-26T17:29:53.388Z"
   },
   {
    "duration": 4,
    "start_time": "2022-05-26T17:30:21.099Z"
   },
   {
    "duration": 5,
    "start_time": "2022-05-26T17:30:24.572Z"
   },
   {
    "duration": 10,
    "start_time": "2022-05-26T17:30:24.716Z"
   },
   {
    "duration": 3,
    "start_time": "2022-05-26T17:31:04.408Z"
   },
   {
    "duration": 14,
    "start_time": "2022-05-26T17:31:04.773Z"
   },
   {
    "duration": 4,
    "start_time": "2022-05-26T17:31:11.292Z"
   },
   {
    "duration": 10,
    "start_time": "2022-05-26T17:31:11.607Z"
   },
   {
    "duration": 5,
    "start_time": "2022-05-26T17:31:12.586Z"
   },
   {
    "duration": 10,
    "start_time": "2022-05-26T17:31:13.099Z"
   },
   {
    "duration": 12,
    "start_time": "2022-05-26T17:32:36.622Z"
   },
   {
    "duration": 13,
    "start_time": "2022-05-26T17:32:56.692Z"
   },
   {
    "duration": 18,
    "start_time": "2022-05-26T17:33:09.930Z"
   },
   {
    "duration": 1250,
    "start_time": "2022-05-26T17:35:18.068Z"
   },
   {
    "duration": 817,
    "start_time": "2022-05-26T17:35:19.323Z"
   },
   {
    "duration": 7,
    "start_time": "2022-05-26T17:35:20.142Z"
   },
   {
    "duration": 23,
    "start_time": "2022-05-26T17:35:20.150Z"
   },
   {
    "duration": 12,
    "start_time": "2022-05-26T17:35:20.178Z"
   },
   {
    "duration": 23,
    "start_time": "2022-05-26T17:35:20.192Z"
   },
   {
    "duration": 19,
    "start_time": "2022-05-26T17:35:20.218Z"
   },
   {
    "duration": 29,
    "start_time": "2022-05-26T17:35:20.239Z"
   },
   {
    "duration": 23,
    "start_time": "2022-05-26T17:35:20.273Z"
   },
   {
    "duration": 20,
    "start_time": "2022-05-26T17:35:20.299Z"
   },
   {
    "duration": 16,
    "start_time": "2022-05-26T17:35:20.322Z"
   },
   {
    "duration": 41,
    "start_time": "2022-05-26T17:35:20.341Z"
   },
   {
    "duration": 1124,
    "start_time": "2022-05-26T17:36:42.077Z"
   },
   {
    "duration": 869,
    "start_time": "2022-05-26T17:36:43.205Z"
   },
   {
    "duration": 10,
    "start_time": "2022-05-26T17:36:44.078Z"
   },
   {
    "duration": 9,
    "start_time": "2022-05-26T17:36:44.092Z"
   },
   {
    "duration": 7,
    "start_time": "2022-05-26T17:36:44.104Z"
   },
   {
    "duration": 18,
    "start_time": "2022-05-26T17:36:44.114Z"
   },
   {
    "duration": 46,
    "start_time": "2022-05-26T17:36:44.134Z"
   },
   {
    "duration": 22,
    "start_time": "2022-05-26T17:36:44.181Z"
   },
   {
    "duration": 18,
    "start_time": "2022-05-26T17:36:44.205Z"
   },
   {
    "duration": 14,
    "start_time": "2022-05-26T17:36:44.225Z"
   },
   {
    "duration": 36,
    "start_time": "2022-05-26T17:36:44.240Z"
   },
   {
    "duration": 23,
    "start_time": "2022-05-26T17:36:44.280Z"
   },
   {
    "duration": 26,
    "start_time": "2022-05-26T17:37:01.871Z"
   },
   {
    "duration": 15,
    "start_time": "2022-05-26T17:40:42.135Z"
   },
   {
    "duration": 11,
    "start_time": "2022-05-26T17:44:35.206Z"
   },
   {
    "duration": 135,
    "start_time": "2022-05-26T17:44:52.009Z"
   },
   {
    "duration": 1041,
    "start_time": "2022-05-26T17:44:57.733Z"
   },
   {
    "duration": 5,
    "start_time": "2022-05-26T17:45:17.720Z"
   },
   {
    "duration": 219,
    "start_time": "2022-05-26T17:45:25.010Z"
   },
   {
    "duration": 186,
    "start_time": "2022-05-26T17:45:37.195Z"
   },
   {
    "duration": 228,
    "start_time": "2022-05-26T17:45:50.613Z"
   },
   {
    "duration": 14,
    "start_time": "2022-05-26T17:46:01.690Z"
   },
   {
    "duration": 9,
    "start_time": "2022-05-26T17:46:38.515Z"
   },
   {
    "duration": 16,
    "start_time": "2022-05-26T17:46:51.059Z"
   },
   {
    "duration": 64,
    "start_time": "2022-05-26T17:47:21.053Z"
   },
   {
    "duration": 51,
    "start_time": "2022-05-26T17:48:15.290Z"
   },
   {
    "duration": 177,
    "start_time": "2022-05-26T17:48:29.354Z"
   },
   {
    "duration": 820,
    "start_time": "2022-05-26T17:49:17.248Z"
   },
   {
    "duration": 6,
    "start_time": "2022-05-26T17:49:27.604Z"
   },
   {
    "duration": 757,
    "start_time": "2022-05-26T17:49:43.669Z"
   },
   {
    "duration": 668,
    "start_time": "2022-05-26T17:49:56.192Z"
   },
   {
    "duration": 9,
    "start_time": "2022-05-26T17:50:11.989Z"
   },
   {
    "duration": 28,
    "start_time": "2022-05-26T17:50:39.589Z"
   },
   {
    "duration": 40,
    "start_time": "2022-05-26T17:51:36.689Z"
   },
   {
    "duration": 43,
    "start_time": "2022-05-26T17:56:46.852Z"
   },
   {
    "duration": 28,
    "start_time": "2022-05-26T17:56:51.185Z"
   },
   {
    "duration": 39,
    "start_time": "2022-05-26T17:57:24.711Z"
   },
   {
    "duration": 44,
    "start_time": "2022-05-26T17:57:47.092Z"
   },
   {
    "duration": 65,
    "start_time": "2022-05-26T17:57:50.563Z"
   },
   {
    "duration": 47,
    "start_time": "2022-05-26T17:59:06.545Z"
   },
   {
    "duration": 25,
    "start_time": "2022-05-26T17:59:14.002Z"
   },
   {
    "duration": 65,
    "start_time": "2022-05-26T17:59:19.444Z"
   },
   {
    "duration": 47,
    "start_time": "2022-05-26T18:00:03.592Z"
   },
   {
    "duration": 13,
    "start_time": "2022-05-26T18:00:27.895Z"
   },
   {
    "duration": 32,
    "start_time": "2022-05-26T18:00:34.284Z"
   },
   {
    "duration": 33,
    "start_time": "2022-05-26T18:00:39.789Z"
   },
   {
    "duration": 33,
    "start_time": "2022-05-26T18:00:43.123Z"
   },
   {
    "duration": 37,
    "start_time": "2022-05-26T18:00:49.413Z"
   },
   {
    "duration": 38,
    "start_time": "2022-05-26T18:00:55.014Z"
   },
   {
    "duration": 54,
    "start_time": "2022-05-26T18:01:17.450Z"
   },
   {
    "duration": 4,
    "start_time": "2022-05-26T18:01:58.956Z"
   },
   {
    "duration": 952,
    "start_time": "2022-05-26T18:02:00.594Z"
   },
   {
    "duration": 47,
    "start_time": "2022-05-26T18:02:08.556Z"
   },
   {
    "duration": 52,
    "start_time": "2022-05-26T18:02:54.256Z"
   },
   {
    "duration": 47,
    "start_time": "2022-05-26T18:03:22.881Z"
   },
   {
    "duration": 29,
    "start_time": "2022-05-26T18:03:56.916Z"
   },
   {
    "duration": 52,
    "start_time": "2022-05-26T18:04:10.789Z"
   },
   {
    "duration": 48,
    "start_time": "2022-05-26T18:04:35.347Z"
   },
   {
    "duration": 59,
    "start_time": "2022-05-26T18:04:49.542Z"
   },
   {
    "duration": 40,
    "start_time": "2022-05-26T18:05:05.281Z"
   },
   {
    "duration": 20,
    "start_time": "2022-05-26T18:05:10.100Z"
   },
   {
    "duration": 17,
    "start_time": "2022-05-26T18:05:20.346Z"
   },
   {
    "duration": 14,
    "start_time": "2022-05-26T18:08:45.706Z"
   },
   {
    "duration": 54,
    "start_time": "2022-05-26T18:08:50.570Z"
   },
   {
    "duration": 76,
    "start_time": "2022-05-26T18:09:42.242Z"
   },
   {
    "duration": 13,
    "start_time": "2022-05-26T18:10:02.706Z"
   },
   {
    "duration": 6,
    "start_time": "2022-05-26T18:10:13.847Z"
   },
   {
    "duration": 3,
    "start_time": "2022-05-26T18:10:21.439Z"
   },
   {
    "duration": 954,
    "start_time": "2022-05-26T18:10:22.062Z"
   },
   {
    "duration": 13,
    "start_time": "2022-05-26T18:10:24.061Z"
   },
   {
    "duration": 6,
    "start_time": "2022-05-26T18:10:26.847Z"
   },
   {
    "duration": 4,
    "start_time": "2022-05-26T18:10:29.292Z"
   },
   {
    "duration": 14,
    "start_time": "2022-05-26T18:10:29.907Z"
   },
   {
    "duration": 21,
    "start_time": "2022-05-26T18:10:31.783Z"
   },
   {
    "duration": 17,
    "start_time": "2022-05-26T18:10:32.146Z"
   },
   {
    "duration": 29,
    "start_time": "2022-05-26T18:10:32.688Z"
   },
   {
    "duration": 14,
    "start_time": "2022-05-26T18:10:34.790Z"
   },
   {
    "duration": 11,
    "start_time": "2022-05-26T18:10:35.927Z"
   },
   {
    "duration": 24,
    "start_time": "2022-05-26T18:10:37.989Z"
   },
   {
    "duration": 68,
    "start_time": "2022-05-26T18:10:42.869Z"
   },
   {
    "duration": 10,
    "start_time": "2022-05-26T18:11:04.448Z"
   },
   {
    "duration": 175,
    "start_time": "2022-05-26T18:11:17.538Z"
   },
   {
    "duration": 149,
    "start_time": "2022-05-26T18:11:49.596Z"
   },
   {
    "duration": 163,
    "start_time": "2022-05-26T18:12:06.488Z"
   },
   {
    "duration": 5,
    "start_time": "2022-05-26T18:13:03.039Z"
   },
   {
    "duration": 5,
    "start_time": "2022-05-26T18:13:10.307Z"
   },
   {
    "duration": 4,
    "start_time": "2022-05-26T18:13:14.026Z"
   },
   {
    "duration": 3,
    "start_time": "2022-05-26T18:13:17.147Z"
   },
   {
    "duration": 6,
    "start_time": "2022-05-26T18:14:51.547Z"
   },
   {
    "duration": 8,
    "start_time": "2022-05-26T18:14:57.695Z"
   },
   {
    "duration": 20,
    "start_time": "2022-05-26T18:15:49.209Z"
   },
   {
    "duration": 562,
    "start_time": "2022-05-26T18:21:30.700Z"
   },
   {
    "duration": 11,
    "start_time": "2022-05-26T18:21:36.743Z"
   },
   {
    "duration": 11,
    "start_time": "2022-05-26T18:24:16.150Z"
   },
   {
    "duration": 10,
    "start_time": "2022-05-26T18:25:25.415Z"
   },
   {
    "duration": 18,
    "start_time": "2022-05-26T18:25:31.490Z"
   },
   {
    "duration": 11,
    "start_time": "2022-05-26T18:25:39.971Z"
   },
   {
    "duration": 23,
    "start_time": "2022-05-26T18:26:17.591Z"
   },
   {
    "duration": 12,
    "start_time": "2022-05-26T18:26:31.187Z"
   },
   {
    "duration": 9,
    "start_time": "2022-05-26T18:27:57.791Z"
   },
   {
    "duration": 496,
    "start_time": "2022-05-26T18:28:30.971Z"
   },
   {
    "duration": 11,
    "start_time": "2022-05-26T18:29:08.404Z"
   },
   {
    "duration": 9,
    "start_time": "2022-05-26T18:29:16.928Z"
   },
   {
    "duration": 8,
    "start_time": "2022-05-26T18:29:29.179Z"
   },
   {
    "duration": 8,
    "start_time": "2022-05-26T18:29:29.520Z"
   },
   {
    "duration": 8,
    "start_time": "2022-05-26T18:29:48.361Z"
   },
   {
    "duration": 10,
    "start_time": "2022-05-26T18:30:09.081Z"
   },
   {
    "duration": 8,
    "start_time": "2022-05-26T18:30:15.661Z"
   },
   {
    "duration": 9,
    "start_time": "2022-05-26T18:32:00.646Z"
   },
   {
    "duration": 11,
    "start_time": "2022-05-26T18:32:54.966Z"
   },
   {
    "duration": 7,
    "start_time": "2022-05-26T18:33:40.149Z"
   },
   {
    "duration": 8,
    "start_time": "2022-05-26T18:34:08.170Z"
   },
   {
    "duration": 8,
    "start_time": "2022-05-26T18:34:08.691Z"
   },
   {
    "duration": 8,
    "start_time": "2022-05-26T18:34:09.891Z"
   },
   {
    "duration": 9,
    "start_time": "2022-05-26T18:40:05.946Z"
   },
   {
    "duration": 7,
    "start_time": "2022-05-26T18:40:06.649Z"
   },
   {
    "duration": 7,
    "start_time": "2022-05-26T18:40:06.828Z"
   },
   {
    "duration": 5,
    "start_time": "2022-05-26T18:40:11.718Z"
   },
   {
    "duration": 4,
    "start_time": "2022-05-26T18:40:25.251Z"
   },
   {
    "duration": 4,
    "start_time": "2022-05-26T18:40:35.119Z"
   },
   {
    "duration": 9,
    "start_time": "2022-05-26T18:40:40.121Z"
   },
   {
    "duration": 6,
    "start_time": "2022-05-26T18:40:43.597Z"
   },
   {
    "duration": 5,
    "start_time": "2022-05-26T18:41:02.358Z"
   },
   {
    "duration": 3,
    "start_time": "2022-05-26T18:41:10.307Z"
   },
   {
    "duration": 9,
    "start_time": "2022-05-26T18:41:15.717Z"
   },
   {
    "duration": 3,
    "start_time": "2022-05-26T18:41:23.281Z"
   },
   {
    "duration": 5,
    "start_time": "2022-05-26T18:41:28.245Z"
   },
   {
    "duration": 133,
    "start_time": "2022-05-26T18:41:35.557Z"
   },
   {
    "duration": 133,
    "start_time": "2022-05-26T18:41:45.960Z"
   },
   {
    "duration": 147,
    "start_time": "2022-05-26T18:43:52.684Z"
   },
   {
    "duration": 9,
    "start_time": "2022-05-26T18:44:17.826Z"
   },
   {
    "duration": 172,
    "start_time": "2022-05-26T18:44:55.184Z"
   },
   {
    "duration": 168,
    "start_time": "2022-05-26T18:46:35.266Z"
   },
   {
    "duration": 4,
    "start_time": "2022-05-26T18:46:59.767Z"
   },
   {
    "duration": 156,
    "start_time": "2022-05-26T18:47:08.117Z"
   },
   {
    "duration": 167,
    "start_time": "2022-05-26T18:47:44.305Z"
   },
   {
    "duration": 167,
    "start_time": "2022-05-26T18:47:52.245Z"
   },
   {
    "duration": 157,
    "start_time": "2022-05-26T18:48:07.205Z"
   },
   {
    "duration": 159,
    "start_time": "2022-05-26T18:48:07.686Z"
   },
   {
    "duration": 181,
    "start_time": "2022-05-26T18:49:46.224Z"
   },
   {
    "duration": 191,
    "start_time": "2022-05-26T18:49:55.614Z"
   },
   {
    "duration": 193,
    "start_time": "2022-05-26T18:52:36.484Z"
   },
   {
    "duration": 157,
    "start_time": "2022-05-26T18:52:42.343Z"
   },
   {
    "duration": 163,
    "start_time": "2022-05-26T18:52:42.804Z"
   },
   {
    "duration": 200,
    "start_time": "2022-05-26T18:54:15.803Z"
   },
   {
    "duration": 134,
    "start_time": "2022-05-26T18:55:50.722Z"
   },
   {
    "duration": 209,
    "start_time": "2022-05-26T18:56:35.001Z"
   },
   {
    "duration": 181,
    "start_time": "2022-05-26T18:57:05.189Z"
   },
   {
    "duration": 196,
    "start_time": "2022-05-26T18:57:16.061Z"
   },
   {
    "duration": 188,
    "start_time": "2022-05-26T18:57:21.723Z"
   },
   {
    "duration": 5,
    "start_time": "2022-05-26T18:58:48.521Z"
   },
   {
    "duration": 4,
    "start_time": "2022-05-26T19:01:44.013Z"
   },
   {
    "duration": 11,
    "start_time": "2022-05-26T19:01:55.521Z"
   },
   {
    "duration": 10,
    "start_time": "2022-05-26T19:02:01.972Z"
   },
   {
    "duration": 246,
    "start_time": "2022-05-26T19:02:56.172Z"
   },
   {
    "duration": 183,
    "start_time": "2022-05-26T19:05:06.202Z"
   },
   {
    "duration": 198,
    "start_time": "2022-05-26T19:05:13.502Z"
   },
   {
    "duration": 179,
    "start_time": "2022-05-26T19:05:18.542Z"
   },
   {
    "duration": 11,
    "start_time": "2022-05-26T19:08:13.042Z"
   },
   {
    "duration": 12,
    "start_time": "2022-05-26T19:08:14.143Z"
   },
   {
    "duration": 9,
    "start_time": "2022-05-26T19:08:23.943Z"
   },
   {
    "duration": 273,
    "start_time": "2022-05-26T19:08:43.712Z"
   },
   {
    "duration": 12,
    "start_time": "2022-05-26T19:09:23.251Z"
   },
   {
    "duration": 241,
    "start_time": "2022-05-26T19:09:26.996Z"
   },
   {
    "duration": 225,
    "start_time": "2022-05-26T19:09:37.817Z"
   },
   {
    "duration": 13,
    "start_time": "2022-05-26T19:09:58.342Z"
   },
   {
    "duration": 12,
    "start_time": "2022-05-26T19:09:59.872Z"
   },
   {
    "duration": 240,
    "start_time": "2022-05-26T19:10:00.371Z"
   },
   {
    "duration": 13,
    "start_time": "2022-05-26T19:10:15.219Z"
   },
   {
    "duration": 43,
    "start_time": "2022-05-26T19:10:15.681Z"
   },
   {
    "duration": 309,
    "start_time": "2022-05-26T19:10:20.241Z"
   },
   {
    "duration": 271,
    "start_time": "2022-05-26T19:10:31.125Z"
   },
   {
    "duration": 750,
    "start_time": "2022-05-26T19:10:40.790Z"
   },
   {
    "duration": 241,
    "start_time": "2022-05-26T19:10:49.503Z"
   },
   {
    "duration": 587,
    "start_time": "2022-05-26T19:11:05.410Z"
   },
   {
    "duration": 214,
    "start_time": "2022-05-26T19:11:35.642Z"
   },
   {
    "duration": 192,
    "start_time": "2022-05-26T19:11:49.981Z"
   },
   {
    "duration": 11,
    "start_time": "2022-05-26T19:12:47.784Z"
   },
   {
    "duration": 99,
    "start_time": "2022-05-26T19:12:54.038Z"
   },
   {
    "duration": 208,
    "start_time": "2022-05-26T19:14:28.163Z"
   },
   {
    "duration": 264,
    "start_time": "2022-05-26T19:15:01.911Z"
   },
   {
    "duration": 296,
    "start_time": "2022-05-26T19:15:09.985Z"
   },
   {
    "duration": 235,
    "start_time": "2022-05-26T19:15:15.621Z"
   },
   {
    "duration": 17,
    "start_time": "2022-05-26T19:15:43.021Z"
   },
   {
    "duration": 573,
    "start_time": "2022-05-26T19:15:57.054Z"
   },
   {
    "duration": 247,
    "start_time": "2022-05-26T19:16:21.837Z"
   },
   {
    "duration": 512,
    "start_time": "2022-05-26T19:16:41.508Z"
   },
   {
    "duration": 211,
    "start_time": "2022-05-26T19:16:55.860Z"
   },
   {
    "duration": 201,
    "start_time": "2022-05-26T19:17:32.502Z"
   },
   {
    "duration": 242,
    "start_time": "2022-05-26T19:17:43.515Z"
   },
   {
    "duration": 194,
    "start_time": "2022-05-26T19:18:20.373Z"
   },
   {
    "duration": 175,
    "start_time": "2022-05-26T19:19:00.747Z"
   },
   {
    "duration": 59,
    "start_time": "2022-05-26T19:19:07.686Z"
   },
   {
    "duration": 171,
    "start_time": "2022-05-26T19:19:14.500Z"
   },
   {
    "duration": 195,
    "start_time": "2022-05-26T19:22:24.751Z"
   },
   {
    "duration": 187,
    "start_time": "2022-05-26T19:22:30.180Z"
   },
   {
    "duration": 181,
    "start_time": "2022-05-26T19:22:56.069Z"
   },
   {
    "duration": 170,
    "start_time": "2022-05-26T19:22:56.253Z"
   },
   {
    "duration": 179,
    "start_time": "2022-05-26T19:22:56.458Z"
   },
   {
    "duration": 110,
    "start_time": "2022-05-26T19:23:12.261Z"
   },
   {
    "duration": 1298,
    "start_time": "2022-05-26T19:25:01.346Z"
   },
   {
    "duration": 869,
    "start_time": "2022-05-26T19:25:02.646Z"
   },
   {
    "duration": 6,
    "start_time": "2022-05-26T19:25:03.517Z"
   },
   {
    "duration": 4,
    "start_time": "2022-05-26T19:25:03.526Z"
   },
   {
    "duration": 4,
    "start_time": "2022-05-26T19:25:03.531Z"
   },
   {
    "duration": 35,
    "start_time": "2022-05-26T19:25:03.537Z"
   },
   {
    "duration": 17,
    "start_time": "2022-05-26T19:25:03.574Z"
   },
   {
    "duration": 15,
    "start_time": "2022-05-26T19:25:03.592Z"
   },
   {
    "duration": 29,
    "start_time": "2022-05-26T19:25:03.608Z"
   },
   {
    "duration": 38,
    "start_time": "2022-05-26T19:25:03.640Z"
   },
   {
    "duration": 23,
    "start_time": "2022-05-26T19:25:03.679Z"
   },
   {
    "duration": 30,
    "start_time": "2022-05-26T19:25:03.704Z"
   },
   {
    "duration": 70,
    "start_time": "2022-05-26T19:25:03.735Z"
   },
   {
    "duration": 11,
    "start_time": "2022-05-26T19:25:03.807Z"
   },
   {
    "duration": 206,
    "start_time": "2022-05-26T19:25:03.819Z"
   },
   {
    "duration": 182,
    "start_time": "2022-05-26T19:25:04.027Z"
   },
   {
    "duration": 178,
    "start_time": "2022-05-26T19:25:04.211Z"
   },
   {
    "duration": 1262,
    "start_time": "2022-05-26T19:28:06.538Z"
   },
   {
    "duration": 819,
    "start_time": "2022-05-26T19:28:07.802Z"
   },
   {
    "duration": 7,
    "start_time": "2022-05-26T19:28:08.622Z"
   },
   {
    "duration": 5,
    "start_time": "2022-05-26T19:28:08.630Z"
   },
   {
    "duration": 3,
    "start_time": "2022-05-26T19:28:08.637Z"
   },
   {
    "duration": 32,
    "start_time": "2022-05-26T19:28:08.641Z"
   },
   {
    "duration": 14,
    "start_time": "2022-05-26T19:28:08.675Z"
   },
   {
    "duration": 15,
    "start_time": "2022-05-26T19:28:08.691Z"
   },
   {
    "duration": 27,
    "start_time": "2022-05-26T19:28:08.708Z"
   },
   {
    "duration": 54,
    "start_time": "2022-05-26T19:28:08.765Z"
   },
   {
    "duration": 11,
    "start_time": "2022-05-26T19:28:08.821Z"
   },
   {
    "duration": 265,
    "start_time": "2022-05-26T19:28:08.834Z"
   },
   {
    "duration": 188,
    "start_time": "2022-05-26T19:28:09.101Z"
   },
   {
    "duration": 186,
    "start_time": "2022-05-26T19:28:09.292Z"
   },
   {
    "duration": 20,
    "start_time": "2022-05-26T19:35:21.922Z"
   },
   {
    "duration": 6,
    "start_time": "2022-05-26T19:36:14.347Z"
   },
   {
    "duration": 6,
    "start_time": "2022-05-26T19:36:23.076Z"
   },
   {
    "duration": 152,
    "start_time": "2022-05-26T19:36:32.006Z"
   },
   {
    "duration": 152,
    "start_time": "2022-05-26T19:36:37.666Z"
   },
   {
    "duration": 11,
    "start_time": "2022-05-26T19:37:32.063Z"
   },
   {
    "duration": 160,
    "start_time": "2022-05-26T19:37:32.266Z"
   },
   {
    "duration": 10,
    "start_time": "2022-05-26T19:37:32.438Z"
   },
   {
    "duration": 231,
    "start_time": "2022-05-26T19:38:13.496Z"
   },
   {
    "duration": 164,
    "start_time": "2022-05-26T19:38:18.148Z"
   },
   {
    "duration": 217,
    "start_time": "2022-05-26T19:38:23.966Z"
   },
   {
    "duration": 336,
    "start_time": "2022-05-26T19:38:33.047Z"
   },
   {
    "duration": 245,
    "start_time": "2022-05-26T19:38:41.495Z"
   },
   {
    "duration": 313,
    "start_time": "2022-05-26T19:39:07.576Z"
   },
   {
    "duration": 276,
    "start_time": "2022-05-26T19:39:15.035Z"
   },
   {
    "duration": 281,
    "start_time": "2022-05-26T19:39:29.058Z"
   },
   {
    "duration": 257,
    "start_time": "2022-05-26T19:43:07.598Z"
   },
   {
    "duration": 410,
    "start_time": "2022-05-26T19:43:14.687Z"
   },
   {
    "duration": 226,
    "start_time": "2022-05-26T19:43:27.124Z"
   },
   {
    "duration": 263,
    "start_time": "2022-05-26T19:43:37.731Z"
   },
   {
    "duration": 207,
    "start_time": "2022-05-26T19:43:41.230Z"
   },
   {
    "duration": 10,
    "start_time": "2022-05-26T19:43:52.721Z"
   },
   {
    "duration": 256,
    "start_time": "2022-05-26T19:44:02.471Z"
   },
   {
    "duration": 189,
    "start_time": "2022-05-26T19:44:07.598Z"
   },
   {
    "duration": 250,
    "start_time": "2022-05-26T19:44:38.764Z"
   },
   {
    "duration": 198,
    "start_time": "2022-05-26T19:44:45.976Z"
   },
   {
    "duration": 371,
    "start_time": "2022-05-26T19:44:50.400Z"
   },
   {
    "duration": 227,
    "start_time": "2022-05-26T19:44:56.137Z"
   },
   {
    "duration": 262,
    "start_time": "2022-05-26T19:45:18.239Z"
   },
   {
    "duration": 216,
    "start_time": "2022-05-26T19:45:18.503Z"
   },
   {
    "duration": 270,
    "start_time": "2022-05-26T19:45:31.351Z"
   },
   {
    "duration": 214,
    "start_time": "2022-05-26T19:45:31.624Z"
   },
   {
    "duration": 280,
    "start_time": "2022-05-26T19:45:44.953Z"
   },
   {
    "duration": 234,
    "start_time": "2022-05-26T19:45:45.235Z"
   },
   {
    "duration": 9,
    "start_time": "2022-05-26T19:45:53.407Z"
   },
   {
    "duration": 10,
    "start_time": "2022-05-26T19:45:53.562Z"
   },
   {
    "duration": 24,
    "start_time": "2022-05-26T19:53:42.103Z"
   },
   {
    "duration": 4,
    "start_time": "2022-05-26T20:00:08.524Z"
   },
   {
    "duration": 12,
    "start_time": "2022-05-26T20:00:08.648Z"
   },
   {
    "duration": 9,
    "start_time": "2022-05-26T20:00:54.322Z"
   },
   {
    "duration": 5,
    "start_time": "2022-05-26T20:01:45.596Z"
   },
   {
    "duration": 15,
    "start_time": "2022-05-26T20:01:45.694Z"
   },
   {
    "duration": 4,
    "start_time": "2022-05-26T20:02:34.896Z"
   },
   {
    "duration": 9,
    "start_time": "2022-05-26T20:02:35.346Z"
   },
   {
    "duration": 4,
    "start_time": "2022-05-26T20:02:36.988Z"
   },
   {
    "duration": 12,
    "start_time": "2022-05-26T20:02:37.587Z"
   },
   {
    "duration": 10,
    "start_time": "2022-05-26T20:02:43.936Z"
   },
   {
    "duration": 113,
    "start_time": "2022-05-26T20:03:39.196Z"
   },
   {
    "duration": 9,
    "start_time": "2022-05-26T20:03:39.329Z"
   },
   {
    "duration": 4,
    "start_time": "2022-05-26T20:03:46.470Z"
   },
   {
    "duration": 11,
    "start_time": "2022-05-26T20:03:47.306Z"
   },
   {
    "duration": 9,
    "start_time": "2022-05-26T20:03:52.867Z"
   },
   {
    "duration": 13,
    "start_time": "2022-05-26T20:05:08.124Z"
   },
   {
    "duration": 9,
    "start_time": "2022-05-26T20:05:23.674Z"
   },
   {
    "duration": 4,
    "start_time": "2022-05-26T20:06:18.835Z"
   },
   {
    "duration": 5,
    "start_time": "2022-05-26T20:06:28.687Z"
   },
   {
    "duration": 48,
    "start_time": "2022-05-26T20:07:44.995Z"
   },
   {
    "duration": 24,
    "start_time": "2022-05-26T20:07:55.034Z"
   },
   {
    "duration": 6,
    "start_time": "2022-05-26T20:08:07.505Z"
   },
   {
    "duration": 4,
    "start_time": "2022-05-26T20:08:48.161Z"
   },
   {
    "duration": 16,
    "start_time": "2022-05-26T20:08:49.105Z"
   },
   {
    "duration": 6,
    "start_time": "2022-05-26T20:08:56.239Z"
   },
   {
    "duration": 13,
    "start_time": "2022-05-26T20:08:56.986Z"
   },
   {
    "duration": 12,
    "start_time": "2022-05-26T20:09:05.590Z"
   },
   {
    "duration": 10,
    "start_time": "2022-05-26T20:09:07.029Z"
   },
   {
    "duration": 18,
    "start_time": "2022-05-26T20:09:15.230Z"
   },
   {
    "duration": 8,
    "start_time": "2022-05-26T20:09:19.736Z"
   },
   {
    "duration": 6,
    "start_time": "2022-05-26T20:09:24.194Z"
   },
   {
    "duration": 6,
    "start_time": "2022-05-26T20:09:27.130Z"
   },
   {
    "duration": 12,
    "start_time": "2022-05-26T20:09:27.803Z"
   },
   {
    "duration": 425,
    "start_time": "2022-05-26T20:11:24.785Z"
   },
   {
    "duration": 12,
    "start_time": "2022-05-26T20:11:34.143Z"
   },
   {
    "duration": 9,
    "start_time": "2022-05-26T20:11:35.582Z"
   },
   {
    "duration": 8,
    "start_time": "2022-05-26T20:11:39.813Z"
   },
   {
    "duration": 6,
    "start_time": "2022-05-26T20:11:40.350Z"
   },
   {
    "duration": 12,
    "start_time": "2022-05-26T20:11:44.462Z"
   },
   {
    "duration": 11,
    "start_time": "2022-05-26T20:13:31.200Z"
   },
   {
    "duration": 9,
    "start_time": "2022-05-26T20:13:32.130Z"
   },
   {
    "duration": 10,
    "start_time": "2022-05-26T20:14:04.497Z"
   },
   {
    "duration": 4,
    "start_time": "2022-05-26T20:14:05.965Z"
   },
   {
    "duration": 10,
    "start_time": "2022-05-26T20:14:06.629Z"
   },
   {
    "duration": 9,
    "start_time": "2022-05-26T20:14:07.695Z"
   },
   {
    "duration": 10,
    "start_time": "2022-05-26T20:14:12.386Z"
   },
   {
    "duration": 7,
    "start_time": "2022-05-26T20:14:17.033Z"
   },
   {
    "duration": 5,
    "start_time": "2022-05-26T20:14:17.750Z"
   },
   {
    "duration": 14,
    "start_time": "2022-05-26T20:14:21.442Z"
   },
   {
    "duration": 7,
    "start_time": "2022-05-26T20:14:30.138Z"
   },
   {
    "duration": 15,
    "start_time": "2022-05-26T20:14:31.366Z"
   },
   {
    "duration": 1246,
    "start_time": "2022-05-26T20:14:52.510Z"
   },
   {
    "duration": 848,
    "start_time": "2022-05-26T20:14:53.758Z"
   },
   {
    "duration": 7,
    "start_time": "2022-05-26T20:14:54.608Z"
   },
   {
    "duration": 5,
    "start_time": "2022-05-26T20:14:54.617Z"
   },
   {
    "duration": 7,
    "start_time": "2022-05-26T20:14:54.623Z"
   },
   {
    "duration": 33,
    "start_time": "2022-05-26T20:14:54.632Z"
   },
   {
    "duration": 15,
    "start_time": "2022-05-26T20:14:54.667Z"
   },
   {
    "duration": 13,
    "start_time": "2022-05-26T20:14:54.684Z"
   },
   {
    "duration": 29,
    "start_time": "2022-05-26T20:14:54.699Z"
   },
   {
    "duration": 84,
    "start_time": "2022-05-26T20:14:54.731Z"
   },
   {
    "duration": 12,
    "start_time": "2022-05-26T20:14:54.817Z"
   },
   {
    "duration": 203,
    "start_time": "2022-05-26T20:14:54.831Z"
   },
   {
    "duration": 173,
    "start_time": "2022-05-26T20:14:55.036Z"
   },
   {
    "duration": 184,
    "start_time": "2022-05-26T20:14:55.212Z"
   },
   {
    "duration": 278,
    "start_time": "2022-05-26T20:14:55.398Z"
   },
   {
    "duration": 235,
    "start_time": "2022-05-26T20:14:55.677Z"
   },
   {
    "duration": 11,
    "start_time": "2022-05-26T20:14:55.914Z"
   },
   {
    "duration": 9,
    "start_time": "2022-05-26T20:14:55.927Z"
   },
   {
    "duration": 45,
    "start_time": "2022-05-26T20:14:55.938Z"
   },
   {
    "duration": 4,
    "start_time": "2022-05-26T20:14:55.985Z"
   },
   {
    "duration": 10,
    "start_time": "2022-05-26T20:14:55.991Z"
   },
   {
    "duration": 19,
    "start_time": "2022-05-26T20:14:56.004Z"
   },
   {
    "duration": 11,
    "start_time": "2022-05-26T20:14:56.025Z"
   },
   {
    "duration": 9,
    "start_time": "2022-05-26T20:14:56.038Z"
   },
   {
    "duration": 14,
    "start_time": "2022-05-26T20:14:56.065Z"
   },
   {
    "duration": 9,
    "start_time": "2022-05-26T20:14:56.082Z"
   },
   {
    "duration": 9,
    "start_time": "2022-05-26T20:14:56.094Z"
   },
   {
    "duration": 14,
    "start_time": "2022-05-26T20:14:56.107Z"
   },
   {
    "duration": 8,
    "start_time": "2022-05-26T20:15:52.548Z"
   },
   {
    "duration": 5,
    "start_time": "2022-05-26T20:16:03.317Z"
   },
   {
    "duration": 1297,
    "start_time": "2022-05-26T20:16:11.739Z"
   },
   {
    "duration": 887,
    "start_time": "2022-05-26T20:16:13.039Z"
   },
   {
    "duration": 7,
    "start_time": "2022-05-26T20:16:13.928Z"
   },
   {
    "duration": 5,
    "start_time": "2022-05-26T20:16:13.937Z"
   },
   {
    "duration": 21,
    "start_time": "2022-05-26T20:16:13.944Z"
   },
   {
    "duration": 19,
    "start_time": "2022-05-26T20:16:13.967Z"
   },
   {
    "duration": 15,
    "start_time": "2022-05-26T20:16:13.987Z"
   },
   {
    "duration": 14,
    "start_time": "2022-05-26T20:16:14.004Z"
   },
   {
    "duration": 53,
    "start_time": "2022-05-26T20:16:14.020Z"
   },
   {
    "duration": 56,
    "start_time": "2022-05-26T20:16:14.076Z"
   },
   {
    "duration": 31,
    "start_time": "2022-05-26T20:16:14.134Z"
   },
   {
    "duration": 200,
    "start_time": "2022-05-26T20:16:14.169Z"
   },
   {
    "duration": 178,
    "start_time": "2022-05-26T20:16:14.370Z"
   },
   {
    "duration": 182,
    "start_time": "2022-05-26T20:16:14.550Z"
   },
   {
    "duration": 294,
    "start_time": "2022-05-26T20:16:14.734Z"
   },
   {
    "duration": 240,
    "start_time": "2022-05-26T20:16:15.031Z"
   },
   {
    "duration": 10,
    "start_time": "2022-05-26T20:16:15.273Z"
   },
   {
    "duration": 10,
    "start_time": "2022-05-26T20:16:15.285Z"
   },
   {
    "duration": 20,
    "start_time": "2022-05-26T20:16:15.297Z"
   },
   {
    "duration": 3,
    "start_time": "2022-05-26T20:16:15.319Z"
   },
   {
    "duration": 46,
    "start_time": "2022-05-26T20:16:15.324Z"
   },
   {
    "duration": 13,
    "start_time": "2022-05-26T20:16:15.372Z"
   },
   {
    "duration": 13,
    "start_time": "2022-05-26T20:16:15.387Z"
   },
   {
    "duration": 13,
    "start_time": "2022-05-26T20:16:15.402Z"
   },
   {
    "duration": 13,
    "start_time": "2022-05-26T20:16:15.416Z"
   },
   {
    "duration": 9,
    "start_time": "2022-05-26T20:16:15.431Z"
   },
   {
    "duration": 23,
    "start_time": "2022-05-26T20:16:15.442Z"
   },
   {
    "duration": 10,
    "start_time": "2022-05-26T20:16:15.468Z"
   },
   {
    "duration": 6,
    "start_time": "2022-05-26T20:16:40.506Z"
   },
   {
    "duration": 5,
    "start_time": "2022-05-26T20:16:41.298Z"
   },
   {
    "duration": 6,
    "start_time": "2022-05-26T20:16:42.927Z"
   },
   {
    "duration": 6,
    "start_time": "2022-05-26T20:16:43.465Z"
   },
   {
    "duration": 5,
    "start_time": "2022-05-26T20:16:44.002Z"
   },
   {
    "duration": 6,
    "start_time": "2022-05-26T20:16:44.428Z"
   },
   {
    "duration": 6,
    "start_time": "2022-05-26T20:16:44.631Z"
   },
   {
    "duration": 5,
    "start_time": "2022-05-26T20:16:44.806Z"
   },
   {
    "duration": 6,
    "start_time": "2022-05-26T20:16:45.148Z"
   },
   {
    "duration": 1231,
    "start_time": "2022-05-26T20:16:50.780Z"
   },
   {
    "duration": 870,
    "start_time": "2022-05-26T20:16:52.014Z"
   },
   {
    "duration": 7,
    "start_time": "2022-05-26T20:16:52.886Z"
   },
   {
    "duration": 8,
    "start_time": "2022-05-26T20:16:52.894Z"
   },
   {
    "duration": 4,
    "start_time": "2022-05-26T20:16:52.905Z"
   },
   {
    "duration": 20,
    "start_time": "2022-05-26T20:16:52.911Z"
   },
   {
    "duration": 34,
    "start_time": "2022-05-26T20:16:52.933Z"
   },
   {
    "duration": 14,
    "start_time": "2022-05-26T20:16:52.969Z"
   },
   {
    "duration": 29,
    "start_time": "2022-05-26T20:16:52.985Z"
   },
   {
    "duration": 80,
    "start_time": "2022-05-26T20:16:53.015Z"
   },
   {
    "duration": 12,
    "start_time": "2022-05-26T20:16:53.097Z"
   },
   {
    "duration": 200,
    "start_time": "2022-05-26T20:16:53.111Z"
   },
   {
    "duration": 190,
    "start_time": "2022-05-26T20:16:53.313Z"
   },
   {
    "duration": 197,
    "start_time": "2022-05-26T20:16:53.507Z"
   },
   {
    "duration": 267,
    "start_time": "2022-05-26T20:16:53.707Z"
   },
   {
    "duration": 220,
    "start_time": "2022-05-26T20:16:53.976Z"
   },
   {
    "duration": 9,
    "start_time": "2022-05-26T20:16:54.198Z"
   },
   {
    "duration": 7,
    "start_time": "2022-05-26T20:16:54.209Z"
   },
   {
    "duration": 19,
    "start_time": "2022-05-26T20:16:54.218Z"
   },
   {
    "duration": 27,
    "start_time": "2022-05-26T20:16:54.239Z"
   },
   {
    "duration": 8,
    "start_time": "2022-05-26T20:16:54.268Z"
   },
   {
    "duration": 15,
    "start_time": "2022-05-26T20:16:54.278Z"
   },
   {
    "duration": 6,
    "start_time": "2022-05-26T20:16:54.295Z"
   },
   {
    "duration": 11,
    "start_time": "2022-05-26T20:16:54.303Z"
   },
   {
    "duration": 14,
    "start_time": "2022-05-26T20:16:54.316Z"
   },
   {
    "duration": 6,
    "start_time": "2022-05-26T20:16:54.332Z"
   },
   {
    "duration": 6,
    "start_time": "2022-05-26T20:16:54.365Z"
   },
   {
    "duration": 13,
    "start_time": "2022-05-26T20:16:54.372Z"
   },
   {
    "duration": 5,
    "start_time": "2022-05-26T20:17:04.181Z"
   },
   {
    "duration": 6,
    "start_time": "2022-05-26T20:17:04.921Z"
   },
   {
    "duration": 6,
    "start_time": "2022-05-26T20:17:05.390Z"
   },
   {
    "duration": 5,
    "start_time": "2022-05-26T20:17:05.615Z"
   },
   {
    "duration": 5,
    "start_time": "2022-05-26T20:17:05.855Z"
   },
   {
    "duration": 6,
    "start_time": "2022-05-26T20:17:06.061Z"
   },
   {
    "duration": 6,
    "start_time": "2022-05-26T20:17:06.264Z"
   },
   {
    "duration": 6,
    "start_time": "2022-05-26T20:17:06.488Z"
   },
   {
    "duration": 5,
    "start_time": "2022-05-26T20:17:06.704Z"
   },
   {
    "duration": 5,
    "start_time": "2022-05-26T20:17:06.911Z"
   },
   {
    "duration": 6,
    "start_time": "2022-05-26T20:17:07.360Z"
   },
   {
    "duration": 5,
    "start_time": "2022-05-26T20:17:07.533Z"
   },
   {
    "duration": 6,
    "start_time": "2022-05-26T20:17:08.091Z"
   },
   {
    "duration": 6,
    "start_time": "2022-05-26T20:17:08.274Z"
   },
   {
    "duration": 6,
    "start_time": "2022-05-26T20:17:08.486Z"
   },
   {
    "duration": 6,
    "start_time": "2022-05-26T20:17:09.608Z"
   },
   {
    "duration": 6,
    "start_time": "2022-05-26T20:17:10.003Z"
   },
   {
    "duration": 5,
    "start_time": "2022-05-26T20:17:10.212Z"
   },
   {
    "duration": 5,
    "start_time": "2022-05-26T20:17:10.388Z"
   },
   {
    "duration": 5,
    "start_time": "2022-05-26T20:17:10.556Z"
   },
   {
    "duration": 6,
    "start_time": "2022-05-26T20:17:10.711Z"
   },
   {
    "duration": 6,
    "start_time": "2022-05-26T20:17:10.851Z"
   },
   {
    "duration": 7,
    "start_time": "2022-05-26T20:19:50.622Z"
   },
   {
    "duration": 5,
    "start_time": "2022-05-26T20:19:51.942Z"
   },
   {
    "duration": 7,
    "start_time": "2022-05-26T20:20:01.820Z"
   },
   {
    "duration": 5,
    "start_time": "2022-05-26T20:20:36.384Z"
   },
   {
    "duration": 5,
    "start_time": "2022-05-26T20:20:36.772Z"
   },
   {
    "duration": 4,
    "start_time": "2022-05-26T20:20:37.183Z"
   },
   {
    "duration": 5,
    "start_time": "2022-05-26T20:20:37.590Z"
   },
   {
    "duration": 5,
    "start_time": "2022-05-26T20:20:38.022Z"
   },
   {
    "duration": 5,
    "start_time": "2022-05-26T20:20:38.502Z"
   },
   {
    "duration": 12,
    "start_time": "2022-05-26T20:22:01.867Z"
   },
   {
    "duration": 124,
    "start_time": "2022-05-26T20:22:36.205Z"
   },
   {
    "duration": 10,
    "start_time": "2022-05-26T20:22:47.862Z"
   },
   {
    "duration": 14,
    "start_time": "2022-05-26T20:22:57.187Z"
   },
   {
    "duration": 4,
    "start_time": "2022-05-26T20:22:57.600Z"
   },
   {
    "duration": 13,
    "start_time": "2022-05-26T20:23:17.099Z"
   },
   {
    "duration": 12,
    "start_time": "2022-05-26T20:23:25.636Z"
   },
   {
    "duration": 12,
    "start_time": "2022-05-26T20:23:27.317Z"
   },
   {
    "duration": 4,
    "start_time": "2022-05-26T20:23:28.117Z"
   },
   {
    "duration": 18,
    "start_time": "2022-05-26T20:23:44.448Z"
   },
   {
    "duration": 16,
    "start_time": "2022-05-26T20:24:18.738Z"
   },
   {
    "duration": 17,
    "start_time": "2022-05-26T20:24:27.176Z"
   },
   {
    "duration": 18,
    "start_time": "2022-05-26T20:24:28.228Z"
   },
   {
    "duration": 9,
    "start_time": "2022-05-26T20:24:40.694Z"
   },
   {
    "duration": 12,
    "start_time": "2022-05-26T20:24:49.738Z"
   },
   {
    "duration": 10,
    "start_time": "2022-05-26T20:25:09.576Z"
   },
   {
    "duration": 5,
    "start_time": "2022-05-26T20:25:13.615Z"
   },
   {
    "duration": 11,
    "start_time": "2022-05-26T20:25:18.703Z"
   },
   {
    "duration": 22,
    "start_time": "2022-05-26T20:25:39.256Z"
   },
   {
    "duration": 1274,
    "start_time": "2022-05-26T20:26:23.580Z"
   },
   {
    "duration": 858,
    "start_time": "2022-05-26T20:26:24.856Z"
   },
   {
    "duration": 7,
    "start_time": "2022-05-26T20:26:25.715Z"
   },
   {
    "duration": 6,
    "start_time": "2022-05-26T20:26:25.724Z"
   },
   {
    "duration": 4,
    "start_time": "2022-05-26T20:26:25.733Z"
   },
   {
    "duration": 41,
    "start_time": "2022-05-26T20:26:25.739Z"
   },
   {
    "duration": 15,
    "start_time": "2022-05-26T20:26:25.782Z"
   },
   {
    "duration": 11,
    "start_time": "2022-05-26T20:26:25.799Z"
   },
   {
    "duration": 54,
    "start_time": "2022-05-26T20:26:25.812Z"
   },
   {
    "duration": 57,
    "start_time": "2022-05-26T20:26:25.867Z"
   },
   {
    "duration": 11,
    "start_time": "2022-05-26T20:26:25.926Z"
   },
   {
    "duration": 211,
    "start_time": "2022-05-26T20:26:25.938Z"
   },
   {
    "duration": 170,
    "start_time": "2022-05-26T20:26:26.151Z"
   },
   {
    "duration": 189,
    "start_time": "2022-05-26T20:26:26.324Z"
   },
   {
    "duration": 279,
    "start_time": "2022-05-26T20:26:26.515Z"
   },
   {
    "duration": 236,
    "start_time": "2022-05-26T20:26:26.796Z"
   },
   {
    "duration": 11,
    "start_time": "2022-05-26T20:26:27.034Z"
   },
   {
    "duration": 19,
    "start_time": "2022-05-26T20:26:27.047Z"
   },
   {
    "duration": 9,
    "start_time": "2022-05-26T20:26:27.068Z"
   },
   {
    "duration": 14,
    "start_time": "2022-05-26T20:26:27.078Z"
   },
   {
    "duration": 20,
    "start_time": "2022-05-26T20:26:27.093Z"
   },
   {
    "duration": 11,
    "start_time": "2022-05-26T20:27:35.495Z"
   },
   {
    "duration": 12,
    "start_time": "2022-05-26T20:29:27.583Z"
   },
   {
    "duration": 24,
    "start_time": "2022-05-26T20:31:13.066Z"
   },
   {
    "duration": 24,
    "start_time": "2022-05-26T20:31:14.704Z"
   },
   {
    "duration": 328,
    "start_time": "2022-05-26T20:32:51.253Z"
   },
   {
    "duration": 841,
    "start_time": "2022-05-26T20:33:14.684Z"
   },
   {
    "duration": 777,
    "start_time": "2022-05-26T20:33:22.503Z"
   },
   {
    "duration": 1014,
    "start_time": "2022-05-26T20:33:28.057Z"
   },
   {
    "duration": 850,
    "start_time": "2022-05-26T20:33:40.783Z"
   },
   {
    "duration": 950,
    "start_time": "2022-05-26T20:34:06.524Z"
   },
   {
    "duration": 784,
    "start_time": "2022-05-26T20:35:00.387Z"
   },
   {
    "duration": 12,
    "start_time": "2022-05-26T20:37:40.490Z"
   },
   {
    "duration": 33,
    "start_time": "2022-05-26T20:38:01.094Z"
   },
   {
    "duration": 13,
    "start_time": "2022-05-26T20:38:04.576Z"
   },
   {
    "duration": 24,
    "start_time": "2022-05-26T20:38:39.907Z"
   },
   {
    "duration": 8,
    "start_time": "2022-05-26T20:39:41.349Z"
   },
   {
    "duration": 8,
    "start_time": "2022-05-26T20:39:41.839Z"
   },
   {
    "duration": 6,
    "start_time": "2022-05-26T20:39:48.540Z"
   },
   {
    "duration": 8,
    "start_time": "2022-05-26T20:40:00.183Z"
   },
   {
    "duration": 5,
    "start_time": "2022-05-26T20:40:09.146Z"
   },
   {
    "duration": 5,
    "start_time": "2022-05-26T20:40:36.475Z"
   },
   {
    "duration": 40,
    "start_time": "2022-05-26T20:41:11.578Z"
   },
   {
    "duration": 31,
    "start_time": "2022-05-26T20:41:28.528Z"
   },
   {
    "duration": 34,
    "start_time": "2022-05-26T20:41:36.191Z"
   },
   {
    "duration": 25,
    "start_time": "2022-05-26T20:41:51.767Z"
   },
   {
    "duration": 24,
    "start_time": "2022-05-26T20:41:54.768Z"
   },
   {
    "duration": 1199,
    "start_time": "2022-05-26T20:44:51.471Z"
   },
   {
    "duration": 836,
    "start_time": "2022-05-26T20:44:52.672Z"
   },
   {
    "duration": 6,
    "start_time": "2022-05-26T20:44:53.510Z"
   },
   {
    "duration": 4,
    "start_time": "2022-05-26T20:44:53.518Z"
   },
   {
    "duration": 4,
    "start_time": "2022-05-26T20:44:53.524Z"
   },
   {
    "duration": 36,
    "start_time": "2022-05-26T20:44:53.529Z"
   },
   {
    "duration": 15,
    "start_time": "2022-05-26T20:44:53.567Z"
   },
   {
    "duration": 14,
    "start_time": "2022-05-26T20:44:53.584Z"
   },
   {
    "duration": 29,
    "start_time": "2022-05-26T20:44:53.601Z"
   },
   {
    "duration": 51,
    "start_time": "2022-05-26T20:44:53.633Z"
   },
   {
    "duration": 27,
    "start_time": "2022-05-26T20:44:53.686Z"
   },
   {
    "duration": 140,
    "start_time": "2022-05-26T20:44:53.714Z"
   },
   {
    "duration": 14,
    "start_time": "2022-05-26T20:44:53.856Z"
   },
   {
    "duration": 189,
    "start_time": "2022-05-26T20:44:53.872Z"
   },
   {
    "duration": 167,
    "start_time": "2022-05-26T20:44:54.064Z"
   },
   {
    "duration": 188,
    "start_time": "2022-05-26T20:44:54.233Z"
   },
   {
    "duration": 265,
    "start_time": "2022-05-26T20:44:54.422Z"
   },
   {
    "duration": 224,
    "start_time": "2022-05-26T20:44:54.688Z"
   },
   {
    "duration": 8,
    "start_time": "2022-05-26T20:44:54.914Z"
   },
   {
    "duration": 9,
    "start_time": "2022-05-26T20:44:54.924Z"
   },
   {
    "duration": 31,
    "start_time": "2022-05-26T20:44:54.935Z"
   },
   {
    "duration": 12,
    "start_time": "2022-05-26T20:44:54.968Z"
   },
   {
    "duration": 20,
    "start_time": "2022-05-26T20:44:54.981Z"
   },
   {
    "duration": 839,
    "start_time": "2022-05-26T20:44:55.003Z"
   },
   {
    "duration": 8,
    "start_time": "2022-05-26T20:44:55.844Z"
   },
   {
    "duration": 12,
    "start_time": "2022-05-26T20:44:55.854Z"
   },
   {
    "duration": 9,
    "start_time": "2022-05-26T20:44:55.867Z"
   },
   {
    "duration": 9,
    "start_time": "2022-05-26T20:44:55.880Z"
   },
   {
    "duration": 1265,
    "start_time": "2022-05-26T20:46:08.606Z"
   },
   {
    "duration": 864,
    "start_time": "2022-05-26T20:46:09.873Z"
   },
   {
    "duration": 6,
    "start_time": "2022-05-26T20:46:10.738Z"
   },
   {
    "duration": 5,
    "start_time": "2022-05-26T20:46:10.746Z"
   },
   {
    "duration": 3,
    "start_time": "2022-05-26T20:46:10.764Z"
   },
   {
    "duration": 17,
    "start_time": "2022-05-26T20:46:10.769Z"
   },
   {
    "duration": 13,
    "start_time": "2022-05-26T20:46:10.787Z"
   },
   {
    "duration": 13,
    "start_time": "2022-05-26T20:46:10.802Z"
   },
   {
    "duration": 50,
    "start_time": "2022-05-26T20:46:10.816Z"
   },
   {
    "duration": 23,
    "start_time": "2022-05-26T20:46:10.869Z"
   },
   {
    "duration": 25,
    "start_time": "2022-05-26T20:46:10.894Z"
   },
   {
    "duration": 144,
    "start_time": "2022-05-26T20:46:10.921Z"
   },
   {
    "duration": 12,
    "start_time": "2022-05-26T20:46:11.066Z"
   },
   {
    "duration": 193,
    "start_time": "2022-05-26T20:46:11.080Z"
   },
   {
    "duration": 159,
    "start_time": "2022-05-26T20:46:11.275Z"
   },
   {
    "duration": 176,
    "start_time": "2022-05-26T20:46:11.436Z"
   },
   {
    "duration": 263,
    "start_time": "2022-05-26T20:46:11.613Z"
   },
   {
    "duration": 241,
    "start_time": "2022-05-26T20:46:11.878Z"
   },
   {
    "duration": 10,
    "start_time": "2022-05-26T20:46:12.121Z"
   },
   {
    "duration": 9,
    "start_time": "2022-05-26T20:46:12.132Z"
   },
   {
    "duration": 36,
    "start_time": "2022-05-26T20:46:12.143Z"
   },
   {
    "duration": 24,
    "start_time": "2022-05-26T20:46:12.181Z"
   },
   {
    "duration": 832,
    "start_time": "2022-05-26T20:46:12.206Z"
   },
   {
    "duration": 1171,
    "start_time": "2022-05-26T20:48:07.273Z"
   },
   {
    "duration": 924,
    "start_time": "2022-05-26T20:48:08.446Z"
   },
   {
    "duration": 7,
    "start_time": "2022-05-26T20:48:09.372Z"
   },
   {
    "duration": 9,
    "start_time": "2022-05-26T20:48:09.381Z"
   },
   {
    "duration": 5,
    "start_time": "2022-05-26T20:48:09.393Z"
   },
   {
    "duration": 24,
    "start_time": "2022-05-26T20:48:09.400Z"
   },
   {
    "duration": 16,
    "start_time": "2022-05-26T20:48:09.426Z"
   },
   {
    "duration": 32,
    "start_time": "2022-05-26T20:48:09.444Z"
   },
   {
    "duration": 28,
    "start_time": "2022-05-26T20:48:09.478Z"
   },
   {
    "duration": 23,
    "start_time": "2022-05-26T20:48:09.508Z"
   },
   {
    "duration": 63,
    "start_time": "2022-05-26T20:48:09.533Z"
   },
   {
    "duration": 131,
    "start_time": "2022-05-26T20:48:09.597Z"
   },
   {
    "duration": 10,
    "start_time": "2022-05-26T20:48:09.729Z"
   },
   {
    "duration": 197,
    "start_time": "2022-05-26T20:48:09.742Z"
   },
   {
    "duration": 182,
    "start_time": "2022-05-26T20:48:09.941Z"
   },
   {
    "duration": 184,
    "start_time": "2022-05-26T20:48:10.125Z"
   },
   {
    "duration": 276,
    "start_time": "2022-05-26T20:48:10.311Z"
   },
   {
    "duration": 227,
    "start_time": "2022-05-26T20:48:10.589Z"
   },
   {
    "duration": 9,
    "start_time": "2022-05-26T20:48:10.818Z"
   },
   {
    "duration": 8,
    "start_time": "2022-05-26T20:48:10.830Z"
   },
   {
    "duration": 33,
    "start_time": "2022-05-26T20:48:10.840Z"
   },
   {
    "duration": 21,
    "start_time": "2022-05-26T20:48:10.875Z"
   },
   {
    "duration": 883,
    "start_time": "2022-05-26T20:48:10.897Z"
   },
   {
    "duration": 15,
    "start_time": "2022-05-26T20:50:06.385Z"
   },
   {
    "duration": 26,
    "start_time": "2022-05-26T20:50:06.579Z"
   },
   {
    "duration": 776,
    "start_time": "2022-05-26T20:50:08.922Z"
   },
   {
    "duration": 133,
    "start_time": "2022-05-26T20:50:43.652Z"
   },
   {
    "duration": 871,
    "start_time": "2022-05-26T20:50:51.924Z"
   },
   {
    "duration": 807,
    "start_time": "2022-05-26T20:51:06.591Z"
   },
   {
    "duration": 741,
    "start_time": "2022-05-26T20:51:14.054Z"
   },
   {
    "duration": 6,
    "start_time": "2022-05-26T20:57:07.762Z"
   },
   {
    "duration": 1268,
    "start_time": "2022-05-26T20:58:18.278Z"
   },
   {
    "duration": 851,
    "start_time": "2022-05-26T20:58:19.548Z"
   },
   {
    "duration": 7,
    "start_time": "2022-05-26T20:58:20.401Z"
   },
   {
    "duration": 6,
    "start_time": "2022-05-26T20:58:20.410Z"
   },
   {
    "duration": 5,
    "start_time": "2022-05-26T20:58:20.418Z"
   },
   {
    "duration": 42,
    "start_time": "2022-05-26T20:58:20.424Z"
   },
   {
    "duration": 18,
    "start_time": "2022-05-26T20:58:20.467Z"
   },
   {
    "duration": 18,
    "start_time": "2022-05-26T20:58:20.487Z"
   },
   {
    "duration": 27,
    "start_time": "2022-05-26T20:58:20.507Z"
   },
   {
    "duration": 44,
    "start_time": "2022-05-26T20:58:20.536Z"
   },
   {
    "duration": 31,
    "start_time": "2022-05-26T20:58:20.582Z"
   },
   {
    "duration": 133,
    "start_time": "2022-05-26T20:58:20.615Z"
   },
   {
    "duration": 18,
    "start_time": "2022-05-26T20:58:20.750Z"
   },
   {
    "duration": 199,
    "start_time": "2022-05-26T20:58:20.771Z"
   },
   {
    "duration": 178,
    "start_time": "2022-05-26T20:58:20.971Z"
   },
   {
    "duration": 178,
    "start_time": "2022-05-26T20:58:21.151Z"
   },
   {
    "duration": 286,
    "start_time": "2022-05-26T20:58:21.331Z"
   },
   {
    "duration": 222,
    "start_time": "2022-05-26T20:58:21.619Z"
   },
   {
    "duration": 10,
    "start_time": "2022-05-26T20:58:21.844Z"
   },
   {
    "duration": 18,
    "start_time": "2022-05-26T20:58:21.855Z"
   },
   {
    "duration": 13,
    "start_time": "2022-05-26T20:58:21.875Z"
   },
   {
    "duration": 22,
    "start_time": "2022-05-26T20:58:21.890Z"
   },
   {
    "duration": 901,
    "start_time": "2022-05-26T20:58:21.914Z"
   },
   {
    "duration": 1156,
    "start_time": "2022-05-26T20:59:56.486Z"
   },
   {
    "duration": 816,
    "start_time": "2022-05-26T20:59:57.644Z"
   },
   {
    "duration": 9,
    "start_time": "2022-05-26T20:59:58.461Z"
   },
   {
    "duration": 6,
    "start_time": "2022-05-26T20:59:58.471Z"
   },
   {
    "duration": 4,
    "start_time": "2022-05-26T20:59:58.480Z"
   },
   {
    "duration": 19,
    "start_time": "2022-05-26T20:59:58.486Z"
   },
   {
    "duration": 14,
    "start_time": "2022-05-26T20:59:58.507Z"
   },
   {
    "duration": 14,
    "start_time": "2022-05-26T20:59:58.523Z"
   },
   {
    "duration": 62,
    "start_time": "2022-05-26T20:59:58.538Z"
   },
   {
    "duration": 128,
    "start_time": "2022-05-26T20:59:58.602Z"
   },
   {
    "duration": 10,
    "start_time": "2022-05-26T20:59:58.732Z"
   },
   {
    "duration": 223,
    "start_time": "2022-05-26T20:59:58.744Z"
   },
   {
    "duration": 209,
    "start_time": "2022-05-26T20:59:58.969Z"
   },
   {
    "duration": 173,
    "start_time": "2022-05-26T20:59:59.182Z"
   },
   {
    "duration": 267,
    "start_time": "2022-05-26T20:59:59.357Z"
   },
   {
    "duration": 219,
    "start_time": "2022-05-26T20:59:59.626Z"
   },
   {
    "duration": 21,
    "start_time": "2022-05-26T20:59:59.847Z"
   },
   {
    "duration": 9,
    "start_time": "2022-05-26T20:59:59.869Z"
   },
   {
    "duration": 12,
    "start_time": "2022-05-26T20:59:59.880Z"
   },
   {
    "duration": 20,
    "start_time": "2022-05-26T20:59:59.894Z"
   },
   {
    "duration": 851,
    "start_time": "2022-05-26T20:59:59.915Z"
   },
   {
    "duration": 1319,
    "start_time": "2022-05-26T21:00:30.267Z"
   },
   {
    "duration": 854,
    "start_time": "2022-05-26T21:00:31.588Z"
   },
   {
    "duration": 7,
    "start_time": "2022-05-26T21:00:32.444Z"
   },
   {
    "duration": 19,
    "start_time": "2022-05-26T21:00:32.453Z"
   },
   {
    "duration": 11,
    "start_time": "2022-05-26T21:00:32.473Z"
   },
   {
    "duration": 29,
    "start_time": "2022-05-26T21:00:32.486Z"
   },
   {
    "duration": 26,
    "start_time": "2022-05-26T21:00:32.517Z"
   },
   {
    "duration": 31,
    "start_time": "2022-05-26T21:00:32.545Z"
   },
   {
    "duration": 46,
    "start_time": "2022-05-26T21:00:32.578Z"
   },
   {
    "duration": 127,
    "start_time": "2022-05-26T21:00:32.627Z"
   },
   {
    "duration": 16,
    "start_time": "2022-05-26T21:00:32.755Z"
   },
   {
    "duration": 201,
    "start_time": "2022-05-26T21:00:32.773Z"
   },
   {
    "duration": 177,
    "start_time": "2022-05-26T21:00:32.975Z"
   },
   {
    "duration": 183,
    "start_time": "2022-05-26T21:00:33.154Z"
   },
   {
    "duration": 285,
    "start_time": "2022-05-26T21:00:33.338Z"
   },
   {
    "duration": 241,
    "start_time": "2022-05-26T21:00:33.625Z"
   },
   {
    "duration": 9,
    "start_time": "2022-05-26T21:00:33.868Z"
   },
   {
    "duration": 16,
    "start_time": "2022-05-26T21:00:33.879Z"
   },
   {
    "duration": 24,
    "start_time": "2022-05-26T21:00:33.897Z"
   },
   {
    "duration": 39,
    "start_time": "2022-05-26T21:00:33.923Z"
   },
   {
    "duration": 859,
    "start_time": "2022-05-26T21:00:33.964Z"
   },
   {
    "duration": 1315,
    "start_time": "2022-05-26T21:03:07.779Z"
   },
   {
    "duration": 883,
    "start_time": "2022-05-26T21:03:09.096Z"
   },
   {
    "duration": 7,
    "start_time": "2022-05-26T21:03:09.981Z"
   },
   {
    "duration": 14,
    "start_time": "2022-05-26T21:03:09.990Z"
   },
   {
    "duration": 5,
    "start_time": "2022-05-26T21:03:10.007Z"
   },
   {
    "duration": 29,
    "start_time": "2022-05-26T21:03:10.013Z"
   },
   {
    "duration": 23,
    "start_time": "2022-05-26T21:03:10.044Z"
   },
   {
    "duration": 16,
    "start_time": "2022-05-26T21:03:10.069Z"
   },
   {
    "duration": 31,
    "start_time": "2022-05-26T21:03:10.087Z"
   },
   {
    "duration": 148,
    "start_time": "2022-05-26T21:03:10.121Z"
   },
   {
    "duration": 10,
    "start_time": "2022-05-26T21:03:10.271Z"
   },
   {
    "duration": 205,
    "start_time": "2022-05-26T21:03:10.283Z"
   },
   {
    "duration": 182,
    "start_time": "2022-05-26T21:03:10.489Z"
   },
   {
    "duration": 180,
    "start_time": "2022-05-26T21:03:10.673Z"
   },
   {
    "duration": 305,
    "start_time": "2022-05-26T21:03:10.855Z"
   },
   {
    "duration": 250,
    "start_time": "2022-05-26T21:03:11.164Z"
   },
   {
    "duration": 12,
    "start_time": "2022-05-26T21:03:11.417Z"
   },
   {
    "duration": 10,
    "start_time": "2022-05-26T21:03:11.431Z"
   },
   {
    "duration": 38,
    "start_time": "2022-05-26T21:03:11.443Z"
   },
   {
    "duration": 24,
    "start_time": "2022-05-26T21:03:11.483Z"
   },
   {
    "duration": 900,
    "start_time": "2022-05-26T21:03:11.508Z"
   },
   {
    "duration": 1524,
    "start_time": "2022-05-27T13:47:13.625Z"
   },
   {
    "duration": 3563,
    "start_time": "2022-05-27T13:47:15.152Z"
   },
   {
    "duration": 9,
    "start_time": "2022-05-27T13:47:18.717Z"
   },
   {
    "duration": 44,
    "start_time": "2022-05-27T13:47:18.733Z"
   },
   {
    "duration": 10,
    "start_time": "2022-05-27T13:47:18.780Z"
   },
   {
    "duration": 39,
    "start_time": "2022-05-27T13:47:18.791Z"
   },
   {
    "duration": 38,
    "start_time": "2022-05-27T13:47:18.832Z"
   },
   {
    "duration": 27,
    "start_time": "2022-05-27T13:47:18.873Z"
   },
   {
    "duration": 41,
    "start_time": "2022-05-27T13:47:18.902Z"
   },
   {
    "duration": 148,
    "start_time": "2022-05-27T13:47:18.947Z"
   },
   {
    "duration": 16,
    "start_time": "2022-05-27T13:47:19.097Z"
   },
   {
    "duration": 240,
    "start_time": "2022-05-27T13:47:19.116Z"
   },
   {
    "duration": 191,
    "start_time": "2022-05-27T13:47:19.358Z"
   },
   {
    "duration": 193,
    "start_time": "2022-05-27T13:47:19.552Z"
   },
   {
    "duration": 319,
    "start_time": "2022-05-27T13:47:19.747Z"
   },
   {
    "duration": 269,
    "start_time": "2022-05-27T13:47:20.068Z"
   },
   {
    "duration": 9,
    "start_time": "2022-05-27T13:47:20.346Z"
   },
   {
    "duration": 9,
    "start_time": "2022-05-27T13:47:20.357Z"
   },
   {
    "duration": 17,
    "start_time": "2022-05-27T13:47:20.368Z"
   },
   {
    "duration": 23,
    "start_time": "2022-05-27T13:47:20.387Z"
   },
   {
    "duration": 974,
    "start_time": "2022-05-27T13:47:20.427Z"
   },
   {
    "duration": 12,
    "start_time": "2022-05-27T13:50:56.744Z"
   },
   {
    "duration": 191,
    "start_time": "2022-05-27T13:50:57.383Z"
   },
   {
    "duration": 163,
    "start_time": "2022-05-27T13:50:58.654Z"
   },
   {
    "duration": 171,
    "start_time": "2022-05-27T13:50:59.781Z"
   },
   {
    "duration": 1470,
    "start_time": "2022-05-27T13:51:08.264Z"
   },
   {
    "duration": 883,
    "start_time": "2022-05-27T13:51:09.736Z"
   },
   {
    "duration": 20,
    "start_time": "2022-05-27T13:51:10.622Z"
   },
   {
    "duration": 54,
    "start_time": "2022-05-27T13:51:10.646Z"
   },
   {
    "duration": 23,
    "start_time": "2022-05-27T13:51:10.703Z"
   },
   {
    "duration": 34,
    "start_time": "2022-05-27T13:51:10.728Z"
   },
   {
    "duration": 22,
    "start_time": "2022-05-27T13:51:10.764Z"
   },
   {
    "duration": 23,
    "start_time": "2022-05-27T13:51:10.788Z"
   },
   {
    "duration": 31,
    "start_time": "2022-05-27T13:51:10.814Z"
   },
   {
    "duration": 131,
    "start_time": "2022-05-27T13:51:10.848Z"
   },
   {
    "duration": 10,
    "start_time": "2022-05-27T13:51:10.981Z"
   },
   {
    "duration": 199,
    "start_time": "2022-05-27T13:51:10.992Z"
   },
   {
    "duration": 184,
    "start_time": "2022-05-27T13:51:11.193Z"
   },
   {
    "duration": 178,
    "start_time": "2022-05-27T13:51:11.379Z"
   },
   {
    "duration": 286,
    "start_time": "2022-05-27T13:51:11.559Z"
   },
   {
    "duration": 228,
    "start_time": "2022-05-27T13:51:11.847Z"
   },
   {
    "duration": 9,
    "start_time": "2022-05-27T13:51:12.077Z"
   },
   {
    "duration": 9,
    "start_time": "2022-05-27T13:51:12.088Z"
   },
   {
    "duration": 45,
    "start_time": "2022-05-27T13:51:12.098Z"
   },
   {
    "duration": 20,
    "start_time": "2022-05-27T13:51:12.144Z"
   },
   {
    "duration": 867,
    "start_time": "2022-05-27T13:51:12.166Z"
   },
   {
    "duration": 4,
    "start_time": "2022-05-27T14:14:52.101Z"
   },
   {
    "duration": 7,
    "start_time": "2022-05-27T14:15:11.035Z"
   },
   {
    "duration": 17,
    "start_time": "2022-05-27T14:16:10.690Z"
   },
   {
    "duration": 31,
    "start_time": "2022-05-27T14:19:32.183Z"
   },
   {
    "duration": 4,
    "start_time": "2022-05-27T14:19:43.149Z"
   },
   {
    "duration": 5,
    "start_time": "2022-05-27T14:22:26.363Z"
   },
   {
    "duration": 4,
    "start_time": "2022-05-27T14:30:59.832Z"
   },
   {
    "duration": 4,
    "start_time": "2022-05-27T14:38:57.139Z"
   },
   {
    "duration": 4,
    "start_time": "2022-05-27T14:39:59.800Z"
   },
   {
    "duration": 3,
    "start_time": "2022-05-27T14:43:17.418Z"
   },
   {
    "duration": 4,
    "start_time": "2022-05-27T14:43:25.069Z"
   },
   {
    "duration": 26,
    "start_time": "2022-05-27T14:47:19.905Z"
   },
   {
    "duration": 15,
    "start_time": "2022-05-27T14:47:35.046Z"
   },
   {
    "duration": 164,
    "start_time": "2022-05-27T14:53:19.525Z"
   },
   {
    "duration": 11,
    "start_time": "2022-05-27T14:53:34.793Z"
   },
   {
    "duration": 10,
    "start_time": "2022-05-27T14:53:36.190Z"
   },
   {
    "duration": 31,
    "start_time": "2022-05-27T14:53:36.582Z"
   },
   {
    "duration": 6,
    "start_time": "2022-05-27T14:58:15.121Z"
   },
   {
    "duration": 184,
    "start_time": "2022-05-27T14:58:36.574Z"
   },
   {
    "duration": 5,
    "start_time": "2022-05-27T14:58:49.309Z"
   },
   {
    "duration": 9,
    "start_time": "2022-05-27T14:58:55.281Z"
   },
   {
    "duration": 6,
    "start_time": "2022-05-27T14:58:56.269Z"
   },
   {
    "duration": 179,
    "start_time": "2022-05-27T14:58:56.800Z"
   },
   {
    "duration": 10,
    "start_time": "2022-05-27T15:02:23.689Z"
   },
   {
    "duration": 3861,
    "start_time": "2022-05-27T15:03:07.552Z"
   },
   {
    "duration": 3459,
    "start_time": "2022-05-27T15:04:01.895Z"
   },
   {
    "duration": 3292,
    "start_time": "2022-05-27T15:04:23.390Z"
   },
   {
    "duration": 5,
    "start_time": "2022-05-27T15:04:35.267Z"
   },
   {
    "duration": 5,
    "start_time": "2022-05-27T15:04:39.448Z"
   },
   {
    "duration": 6,
    "start_time": "2022-05-27T15:04:40.147Z"
   },
   {
    "duration": 6,
    "start_time": "2022-05-27T15:04:40.818Z"
   },
   {
    "duration": 5,
    "start_time": "2022-05-27T15:04:41.227Z"
   },
   {
    "duration": 7,
    "start_time": "2022-05-27T15:04:41.427Z"
   },
   {
    "duration": 4,
    "start_time": "2022-05-27T15:04:41.616Z"
   },
   {
    "duration": 4,
    "start_time": "2022-05-27T15:04:41.808Z"
   },
   {
    "duration": 4,
    "start_time": "2022-05-27T15:04:41.967Z"
   },
   {
    "duration": 6,
    "start_time": "2022-05-27T15:05:04.874Z"
   },
   {
    "duration": 11,
    "start_time": "2022-05-27T15:05:14.240Z"
   },
   {
    "duration": 5,
    "start_time": "2022-05-27T15:05:18.716Z"
   },
   {
    "duration": 2882,
    "start_time": "2022-05-27T15:06:00.954Z"
   },
   {
    "duration": 6,
    "start_time": "2022-05-27T15:06:04.961Z"
   },
   {
    "duration": 7,
    "start_time": "2022-05-27T15:06:08.056Z"
   },
   {
    "duration": 25,
    "start_time": "2022-05-27T15:06:19.596Z"
   },
   {
    "duration": 12,
    "start_time": "2022-05-27T15:06:31.436Z"
   },
   {
    "duration": 4,
    "start_time": "2022-05-27T15:06:35.676Z"
   },
   {
    "duration": 5,
    "start_time": "2022-05-27T15:06:37.466Z"
   },
   {
    "duration": 5,
    "start_time": "2022-05-27T15:06:37.754Z"
   },
   {
    "duration": 6,
    "start_time": "2022-05-27T15:06:37.997Z"
   },
   {
    "duration": 6,
    "start_time": "2022-05-27T15:06:38.235Z"
   },
   {
    "duration": 4,
    "start_time": "2022-05-27T15:06:38.466Z"
   },
   {
    "duration": 2545,
    "start_time": "2022-05-27T15:15:40.205Z"
   },
   {
    "duration": 22,
    "start_time": "2022-05-27T15:19:19.398Z"
   },
   {
    "duration": 10,
    "start_time": "2022-05-27T15:19:19.545Z"
   },
   {
    "duration": 2574,
    "start_time": "2022-05-27T15:19:45.851Z"
   },
   {
    "duration": 9,
    "start_time": "2022-05-27T15:19:48.427Z"
   },
   {
    "duration": 12,
    "start_time": "2022-05-27T15:19:54.558Z"
   },
   {
    "duration": 5,
    "start_time": "2022-05-27T15:19:58.946Z"
   },
   {
    "duration": 5,
    "start_time": "2022-05-27T15:21:53.790Z"
   },
   {
    "duration": 68324,
    "start_time": "2022-05-27T15:22:16.217Z"
   },
   {
    "duration": 67151,
    "start_time": "2022-05-27T15:25:53.654Z"
   },
   {
    "duration": 25,
    "start_time": "2022-05-27T15:27:00.807Z"
   },
   {
    "duration": 1163,
    "start_time": "2022-05-27T15:28:28.817Z"
   },
   {
    "duration": 841,
    "start_time": "2022-05-27T15:28:29.983Z"
   },
   {
    "duration": 12,
    "start_time": "2022-05-27T15:28:30.826Z"
   },
   {
    "duration": 27,
    "start_time": "2022-05-27T15:28:30.841Z"
   },
   {
    "duration": 10,
    "start_time": "2022-05-27T15:28:30.870Z"
   },
   {
    "duration": 25,
    "start_time": "2022-05-27T15:28:30.881Z"
   },
   {
    "duration": 24,
    "start_time": "2022-05-27T15:28:30.908Z"
   },
   {
    "duration": 27,
    "start_time": "2022-05-27T15:28:30.933Z"
   },
   {
    "duration": 43,
    "start_time": "2022-05-27T15:28:30.963Z"
   },
   {
    "duration": 116,
    "start_time": "2022-05-27T15:28:31.009Z"
   },
   {
    "duration": 12,
    "start_time": "2022-05-27T15:28:31.128Z"
   },
   {
    "duration": 249,
    "start_time": "2022-05-27T15:28:31.144Z"
   },
   {
    "duration": 211,
    "start_time": "2022-05-27T15:28:31.395Z"
   },
   {
    "duration": 177,
    "start_time": "2022-05-27T15:28:31.607Z"
   },
   {
    "duration": 304,
    "start_time": "2022-05-27T15:28:31.786Z"
   },
   {
    "duration": 261,
    "start_time": "2022-05-27T15:28:32.092Z"
   },
   {
    "duration": 9,
    "start_time": "2022-05-27T15:28:32.355Z"
   },
   {
    "duration": 14,
    "start_time": "2022-05-27T15:28:32.366Z"
   },
   {
    "duration": 25,
    "start_time": "2022-05-27T15:28:32.382Z"
   },
   {
    "duration": 31,
    "start_time": "2022-05-27T15:28:32.408Z"
   },
   {
    "duration": 805,
    "start_time": "2022-05-27T15:28:32.443Z"
   },
   {
    "duration": 4,
    "start_time": "2022-05-27T15:28:33.250Z"
   },
   {
    "duration": 15,
    "start_time": "2022-05-27T15:28:33.255Z"
   },
   {
    "duration": 7,
    "start_time": "2022-05-27T15:28:33.272Z"
   },
   {
    "duration": 71556,
    "start_time": "2022-05-27T15:28:33.281Z"
   },
   {
    "duration": 70440,
    "start_time": "2022-05-27T15:29:44.839Z"
   },
   {
    "duration": 5,
    "start_time": "2022-05-27T15:47:53.700Z"
   },
   {
    "duration": 74401,
    "start_time": "2022-05-27T15:47:55.168Z"
   },
   {
    "duration": 76471,
    "start_time": "2022-05-27T15:49:09.571Z"
   },
   {
    "duration": 5,
    "start_time": "2022-05-27T15:50:47.016Z"
   },
   {
    "duration": 105079,
    "start_time": "2022-05-27T15:50:49.940Z"
   },
   {
    "duration": 161,
    "start_time": "2022-05-27T15:59:09.812Z"
   },
   {
    "duration": 18,
    "start_time": "2022-05-27T15:59:25.399Z"
   },
   {
    "duration": 3,
    "start_time": "2022-05-27T16:00:21.002Z"
   },
   {
    "duration": 31,
    "start_time": "2022-05-27T16:15:05.144Z"
   },
   {
    "duration": 6315,
    "start_time": "2022-05-27T16:15:15.682Z"
   },
   {
    "duration": 762430,
    "start_time": "2022-05-27T16:15:41.417Z"
   },
   {
    "duration": 31927,
    "start_time": "2022-05-27T16:28:33.149Z"
   },
   {
    "duration": 340845,
    "start_time": "2022-05-27T16:29:21.299Z"
   },
   {
    "duration": 59052,
    "start_time": "2022-05-27T16:37:33.969Z"
   },
   {
    "duration": 36551,
    "start_time": "2022-05-27T16:39:25.087Z"
   },
   {
    "duration": 112589,
    "start_time": "2022-05-27T16:40:12.220Z"
   },
   {
    "duration": 41,
    "start_time": "2022-05-27T16:59:30.275Z"
   },
   {
    "duration": 51204,
    "start_time": "2022-05-27T16:59:44.964Z"
   },
   {
    "duration": 9362,
    "start_time": "2022-05-27T17:00:52.076Z"
   },
   {
    "duration": 44587,
    "start_time": "2022-05-27T17:01:06.082Z"
   },
   {
    "duration": 8999,
    "start_time": "2022-05-27T17:03:13.187Z"
   },
   {
    "duration": 44543,
    "start_time": "2022-05-27T17:03:24.083Z"
   },
   {
    "duration": 101129,
    "start_time": "2022-05-27T17:04:18.512Z"
   },
   {
    "duration": 175781,
    "start_time": "2022-05-27T17:06:35.967Z"
   },
   {
    "duration": 234858,
    "start_time": "2022-05-27T17:12:03.766Z"
   },
   {
    "duration": 6,
    "start_time": "2022-05-27T17:19:29.683Z"
   },
   {
    "duration": 5,
    "start_time": "2022-05-27T17:25:35.956Z"
   },
   {
    "duration": 7,
    "start_time": "2022-05-27T17:25:39.944Z"
   },
   {
    "duration": 98899,
    "start_time": "2022-05-27T17:25:39.953Z"
   },
   {
    "duration": 98986,
    "start_time": "2022-05-27T17:27:18.854Z"
   },
   {
    "duration": 1245,
    "start_time": "2022-05-27T17:29:55.644Z"
   },
   {
    "duration": 959,
    "start_time": "2022-05-27T17:29:56.892Z"
   },
   {
    "duration": 7,
    "start_time": "2022-05-27T17:29:57.854Z"
   },
   {
    "duration": 37,
    "start_time": "2022-05-27T17:29:57.863Z"
   },
   {
    "duration": 23,
    "start_time": "2022-05-27T17:29:57.903Z"
   },
   {
    "duration": 49,
    "start_time": "2022-05-27T17:29:57.930Z"
   },
   {
    "duration": 33,
    "start_time": "2022-05-27T17:29:57.981Z"
   },
   {
    "duration": 55,
    "start_time": "2022-05-27T17:29:58.019Z"
   },
   {
    "duration": 29,
    "start_time": "2022-05-27T17:29:58.076Z"
   },
   {
    "duration": 119,
    "start_time": "2022-05-27T17:29:58.107Z"
   },
   {
    "duration": 15,
    "start_time": "2022-05-27T17:29:58.233Z"
   },
   {
    "duration": 201,
    "start_time": "2022-05-27T17:29:58.252Z"
   },
   {
    "duration": 175,
    "start_time": "2022-05-27T17:29:58.455Z"
   },
   {
    "duration": 161,
    "start_time": "2022-05-27T17:29:58.636Z"
   },
   {
    "duration": 297,
    "start_time": "2022-05-27T17:29:58.800Z"
   },
   {
    "duration": 298,
    "start_time": "2022-05-27T17:29:59.099Z"
   },
   {
    "duration": 11,
    "start_time": "2022-05-27T17:29:59.399Z"
   },
   {
    "duration": 30,
    "start_time": "2022-05-27T17:29:59.412Z"
   },
   {
    "duration": 29,
    "start_time": "2022-05-27T17:29:59.446Z"
   },
   {
    "duration": 27,
    "start_time": "2022-05-27T17:29:59.477Z"
   },
   {
    "duration": 970,
    "start_time": "2022-05-27T17:29:59.507Z"
   },
   {
    "duration": 4,
    "start_time": "2022-05-27T17:30:00.478Z"
   },
   {
    "duration": 29,
    "start_time": "2022-05-27T17:30:00.484Z"
   },
   {
    "duration": 40,
    "start_time": "2022-05-27T17:30:00.515Z"
   },
   {
    "duration": 107580,
    "start_time": "2022-05-27T17:30:00.557Z"
   },
   {
    "duration": 112476,
    "start_time": "2022-05-27T17:31:48.142Z"
   },
   {
    "duration": 21,
    "start_time": "2022-05-27T17:33:40.620Z"
   },
   {
    "duration": 1306200,
    "start_time": "2022-05-27T17:33:40.646Z"
   },
   {
    "duration": 30570,
    "start_time": "2022-05-27T17:55:26.849Z"
   },
   {
    "duration": 11,
    "start_time": "2022-05-27T17:55:57.426Z"
   },
   {
    "duration": 10,
    "start_time": "2022-05-27T17:56:53.855Z"
   },
   {
    "duration": 5,
    "start_time": "2022-05-27T17:56:55.875Z"
   },
   {
    "duration": 1824,
    "start_time": "2022-05-27T17:58:16.742Z"
   },
   {
    "duration": 5,
    "start_time": "2022-05-27T17:58:18.574Z"
   },
   {
    "duration": 3456,
    "start_time": "2022-05-27T17:58:18.581Z"
   },
   {
    "duration": 6,
    "start_time": "2022-05-27T17:58:25.649Z"
   },
   {
    "duration": 101746,
    "start_time": "2022-05-27T17:58:26.686Z"
   },
   {
    "duration": 104027,
    "start_time": "2022-05-27T18:00:08.438Z"
   },
   {
    "duration": 5,
    "start_time": "2022-05-27T18:02:01.563Z"
   },
   {
    "duration": 4,
    "start_time": "2022-05-27T18:02:23.705Z"
   },
   {
    "duration": 2703,
    "start_time": "2022-05-27T18:02:23.711Z"
   },
   {
    "duration": 6,
    "start_time": "2022-05-27T18:02:29.510Z"
   },
   {
    "duration": 103161,
    "start_time": "2022-05-27T18:02:30.449Z"
   },
   {
    "duration": 101367,
    "start_time": "2022-05-27T18:04:13.612Z"
   },
   {
    "duration": 103219,
    "start_time": "2022-05-27T18:06:28.190Z"
   },
   {
    "duration": 1460,
    "start_time": "2022-05-27T18:10:25.520Z"
   },
   {
    "duration": 2122,
    "start_time": "2022-05-27T18:10:26.985Z"
   },
   {
    "duration": 7,
    "start_time": "2022-05-27T18:10:29.109Z"
   },
   {
    "duration": 45,
    "start_time": "2022-05-27T18:10:29.118Z"
   },
   {
    "duration": 5,
    "start_time": "2022-05-27T18:10:29.165Z"
   },
   {
    "duration": 18,
    "start_time": "2022-05-27T18:10:29.172Z"
   },
   {
    "duration": 14,
    "start_time": "2022-05-27T18:10:29.191Z"
   },
   {
    "duration": 16,
    "start_time": "2022-05-27T18:10:29.207Z"
   },
   {
    "duration": 45,
    "start_time": "2022-05-27T18:10:29.225Z"
   },
   {
    "duration": 152,
    "start_time": "2022-05-27T18:10:29.273Z"
   },
   {
    "duration": 17,
    "start_time": "2022-05-27T18:10:29.427Z"
   },
   {
    "duration": 224,
    "start_time": "2022-05-27T18:10:29.446Z"
   },
   {
    "duration": 182,
    "start_time": "2022-05-27T18:10:29.672Z"
   },
   {
    "duration": 168,
    "start_time": "2022-05-27T18:10:29.857Z"
   },
   {
    "duration": 308,
    "start_time": "2022-05-27T18:10:30.033Z"
   },
   {
    "duration": 265,
    "start_time": "2022-05-27T18:10:30.346Z"
   },
   {
    "duration": 8,
    "start_time": "2022-05-27T18:10:30.613Z"
   },
   {
    "duration": 58,
    "start_time": "2022-05-27T18:10:30.623Z"
   },
   {
    "duration": 32,
    "start_time": "2022-05-27T18:10:30.683Z"
   },
   {
    "duration": 67,
    "start_time": "2022-05-27T18:10:30.717Z"
   },
   {
    "duration": 978,
    "start_time": "2022-05-27T18:10:30.786Z"
   },
   {
    "duration": 3,
    "start_time": "2022-05-27T18:10:31.768Z"
   },
   {
    "duration": 13,
    "start_time": "2022-05-27T18:10:31.773Z"
   },
   {
    "duration": 9,
    "start_time": "2022-05-27T18:10:31.788Z"
   },
   {
    "duration": 86370,
    "start_time": "2022-05-27T18:10:31.800Z"
   },
   {
    "duration": 10771,
    "start_time": "2022-05-27T18:13:25.922Z"
   },
   {
    "duration": 1096,
    "start_time": "2022-05-27T19:49:50.855Z"
   },
   {
    "duration": 762,
    "start_time": "2022-05-27T19:49:51.954Z"
   },
   {
    "duration": 9,
    "start_time": "2022-05-27T19:49:52.718Z"
   },
   {
    "duration": 15,
    "start_time": "2022-05-27T19:49:52.729Z"
   },
   {
    "duration": 7,
    "start_time": "2022-05-27T19:49:52.745Z"
   },
   {
    "duration": 17,
    "start_time": "2022-05-27T19:49:52.753Z"
   },
   {
    "duration": 12,
    "start_time": "2022-05-27T19:49:52.772Z"
   },
   {
    "duration": 18,
    "start_time": "2022-05-27T19:49:52.785Z"
   },
   {
    "duration": 34,
    "start_time": "2022-05-27T19:49:52.805Z"
   },
   {
    "duration": 135,
    "start_time": "2022-05-27T19:49:52.842Z"
   },
   {
    "duration": 9,
    "start_time": "2022-05-27T19:49:52.978Z"
   },
   {
    "duration": 182,
    "start_time": "2022-05-27T19:49:52.988Z"
   },
   {
    "duration": 204,
    "start_time": "2022-05-27T19:49:53.172Z"
   },
   {
    "duration": 162,
    "start_time": "2022-05-27T19:49:53.378Z"
   },
   {
    "duration": 237,
    "start_time": "2022-05-27T19:49:53.542Z"
   },
   {
    "duration": 212,
    "start_time": "2022-05-27T19:49:53.780Z"
   },
   {
    "duration": 8,
    "start_time": "2022-05-27T19:49:53.993Z"
   },
   {
    "duration": 13,
    "start_time": "2022-05-27T19:49:54.002Z"
   },
   {
    "duration": 19,
    "start_time": "2022-05-27T19:49:54.017Z"
   },
   {
    "duration": 32,
    "start_time": "2022-05-27T19:49:54.037Z"
   },
   {
    "duration": 713,
    "start_time": "2022-05-27T19:49:54.071Z"
   },
   {
    "duration": 3,
    "start_time": "2022-05-27T19:49:54.786Z"
   },
   {
    "duration": 13,
    "start_time": "2022-05-27T19:49:54.791Z"
   },
   {
    "duration": 7,
    "start_time": "2022-05-27T19:49:54.806Z"
   },
   {
    "duration": 42871,
    "start_time": "2022-05-27T19:49:54.815Z"
   },
   {
    "duration": 1134,
    "start_time": "2022-05-27T19:53:03.062Z"
   },
   {
    "duration": 814,
    "start_time": "2022-05-27T19:53:04.198Z"
   },
   {
    "duration": 5,
    "start_time": "2022-05-27T19:53:05.014Z"
   },
   {
    "duration": 14,
    "start_time": "2022-05-27T19:53:05.028Z"
   },
   {
    "duration": 11,
    "start_time": "2022-05-27T19:53:05.044Z"
   },
   {
    "duration": 16,
    "start_time": "2022-05-27T19:53:05.057Z"
   },
   {
    "duration": 13,
    "start_time": "2022-05-27T19:53:05.075Z"
   },
   {
    "duration": 14,
    "start_time": "2022-05-27T19:53:05.090Z"
   },
   {
    "duration": 38,
    "start_time": "2022-05-27T19:53:05.105Z"
   },
   {
    "duration": 127,
    "start_time": "2022-05-27T19:53:05.146Z"
   },
   {
    "duration": 8,
    "start_time": "2022-05-27T19:53:05.275Z"
   },
   {
    "duration": 182,
    "start_time": "2022-05-27T19:53:05.285Z"
   },
   {
    "duration": 160,
    "start_time": "2022-05-27T19:53:05.468Z"
   },
   {
    "duration": 162,
    "start_time": "2022-05-27T19:53:05.630Z"
   },
   {
    "duration": 257,
    "start_time": "2022-05-27T19:53:05.793Z"
   },
   {
    "duration": 225,
    "start_time": "2022-05-27T19:53:06.052Z"
   },
   {
    "duration": 10,
    "start_time": "2022-05-27T19:53:06.281Z"
   },
   {
    "duration": 13,
    "start_time": "2022-05-27T19:53:06.292Z"
   },
   {
    "duration": 30,
    "start_time": "2022-05-27T19:53:06.307Z"
   },
   {
    "duration": 21,
    "start_time": "2022-05-27T19:53:06.342Z"
   },
   {
    "duration": 818,
    "start_time": "2022-05-27T19:53:06.365Z"
   },
   {
    "duration": 4,
    "start_time": "2022-05-27T19:53:07.184Z"
   },
   {
    "duration": 169,
    "start_time": "2022-05-27T19:53:07.189Z"
   },
   {
    "duration": 0,
    "start_time": "2022-05-27T19:53:07.359Z"
   },
   {
    "duration": 0,
    "start_time": "2022-05-27T19:53:07.361Z"
   },
   {
    "duration": 0,
    "start_time": "2022-05-27T19:53:07.362Z"
   },
   {
    "duration": 0,
    "start_time": "2022-05-27T19:53:07.363Z"
   },
   {
    "duration": 0,
    "start_time": "2022-05-27T19:53:07.364Z"
   },
   {
    "duration": 36,
    "start_time": "2022-05-27T19:53:30.700Z"
   },
   {
    "duration": 12,
    "start_time": "2022-05-27T19:53:43.479Z"
   },
   {
    "duration": 4,
    "start_time": "2022-05-27T19:53:50.670Z"
   },
   {
    "duration": 47883,
    "start_time": "2022-05-27T19:53:56.831Z"
   },
   {
    "duration": 9,
    "start_time": "2022-05-27T19:57:17.264Z"
   },
   {
    "duration": 25,
    "start_time": "2022-05-27T19:57:22.724Z"
   },
   {
    "duration": 5,
    "start_time": "2022-05-27T20:04:46.983Z"
   },
   {
    "duration": 41,
    "start_time": "2022-05-27T20:04:47.355Z"
   },
   {
    "duration": 4,
    "start_time": "2022-05-27T20:27:12.286Z"
   },
   {
    "duration": 44,
    "start_time": "2022-05-27T20:27:12.943Z"
   },
   {
    "duration": 18,
    "start_time": "2022-05-27T20:27:23.425Z"
   },
   {
    "duration": 4,
    "start_time": "2022-05-27T20:27:24.667Z"
   },
   {
    "duration": 40,
    "start_time": "2022-05-27T20:27:24.941Z"
   },
   {
    "duration": 1159,
    "start_time": "2022-05-27T20:27:44.252Z"
   },
   {
    "duration": 855,
    "start_time": "2022-05-27T20:27:45.414Z"
   },
   {
    "duration": 8,
    "start_time": "2022-05-27T20:27:46.272Z"
   },
   {
    "duration": 7,
    "start_time": "2022-05-27T20:27:46.282Z"
   },
   {
    "duration": 20,
    "start_time": "2022-05-27T20:27:46.292Z"
   },
   {
    "duration": 27,
    "start_time": "2022-05-27T20:27:46.314Z"
   },
   {
    "duration": 32,
    "start_time": "2022-05-27T20:27:46.343Z"
   },
   {
    "duration": 20,
    "start_time": "2022-05-27T20:27:46.377Z"
   },
   {
    "duration": 40,
    "start_time": "2022-05-27T20:27:46.399Z"
   },
   {
    "duration": 156,
    "start_time": "2022-05-27T20:27:46.442Z"
   },
   {
    "duration": 12,
    "start_time": "2022-05-27T20:27:46.600Z"
   },
   {
    "duration": 198,
    "start_time": "2022-05-27T20:27:46.615Z"
   },
   {
    "duration": 196,
    "start_time": "2022-05-27T20:27:46.815Z"
   },
   {
    "duration": 173,
    "start_time": "2022-05-27T20:27:47.014Z"
   },
   {
    "duration": 267,
    "start_time": "2022-05-27T20:27:47.189Z"
   },
   {
    "duration": 205,
    "start_time": "2022-05-27T20:27:47.457Z"
   },
   {
    "duration": 8,
    "start_time": "2022-05-27T20:27:47.664Z"
   },
   {
    "duration": 7,
    "start_time": "2022-05-27T20:27:47.674Z"
   },
   {
    "duration": 10,
    "start_time": "2022-05-27T20:27:47.682Z"
   },
   {
    "duration": 44,
    "start_time": "2022-05-27T20:27:47.694Z"
   },
   {
    "duration": 861,
    "start_time": "2022-05-27T20:27:47.740Z"
   },
   {
    "duration": 3,
    "start_time": "2022-05-27T20:27:48.604Z"
   },
   {
    "duration": 29,
    "start_time": "2022-05-27T20:27:48.609Z"
   },
   {
    "duration": 9,
    "start_time": "2022-05-27T20:27:48.644Z"
   },
   {
    "duration": 132,
    "start_time": "2022-05-27T20:27:48.655Z"
   },
   {
    "duration": 9,
    "start_time": "2022-05-27T20:27:48.789Z"
   },
   {
    "duration": 13,
    "start_time": "2022-05-27T20:27:48.799Z"
   },
   {
    "duration": 29,
    "start_time": "2022-05-27T20:27:48.814Z"
   },
   {
    "duration": 5,
    "start_time": "2022-05-27T20:28:40.455Z"
   },
   {
    "duration": 13,
    "start_time": "2022-05-27T20:28:40.943Z"
   },
   {
    "duration": 22,
    "start_time": "2022-05-27T20:29:56.825Z"
   },
   {
    "duration": 27,
    "start_time": "2022-05-27T20:29:57.825Z"
   },
   {
    "duration": 77,
    "start_time": "2022-05-27T20:30:01.840Z"
   },
   {
    "duration": 81,
    "start_time": "2022-05-27T20:30:01.994Z"
   },
   {
    "duration": 4,
    "start_time": "2022-05-27T20:30:06.097Z"
   },
   {
    "duration": 48,
    "start_time": "2022-05-27T20:30:06.445Z"
   },
   {
    "duration": 4,
    "start_time": "2022-05-27T20:30:14.130Z"
   },
   {
    "duration": 47175,
    "start_time": "2022-05-27T20:30:14.565Z"
   },
   {
    "duration": 1121,
    "start_time": "2022-05-27T20:42:42.447Z"
   },
   {
    "duration": 726,
    "start_time": "2022-05-27T20:42:43.570Z"
   },
   {
    "duration": 5,
    "start_time": "2022-05-27T20:42:44.298Z"
   },
   {
    "duration": 6,
    "start_time": "2022-05-27T20:42:44.305Z"
   },
   {
    "duration": 16,
    "start_time": "2022-05-27T20:42:44.312Z"
   },
   {
    "duration": 16,
    "start_time": "2022-05-27T20:42:44.329Z"
   },
   {
    "duration": 11,
    "start_time": "2022-05-27T20:42:44.346Z"
   },
   {
    "duration": 13,
    "start_time": "2022-05-27T20:42:44.359Z"
   },
   {
    "duration": 24,
    "start_time": "2022-05-27T20:42:44.373Z"
   },
   {
    "duration": 134,
    "start_time": "2022-05-27T20:42:44.399Z"
   },
   {
    "duration": 8,
    "start_time": "2022-05-27T20:42:44.534Z"
   },
   {
    "duration": 163,
    "start_time": "2022-05-27T20:42:44.543Z"
   },
   {
    "duration": 170,
    "start_time": "2022-05-27T20:42:44.707Z"
   },
   {
    "duration": 149,
    "start_time": "2022-05-27T20:42:44.879Z"
   },
   {
    "duration": 226,
    "start_time": "2022-05-27T20:42:45.030Z"
   },
   {
    "duration": 219,
    "start_time": "2022-05-27T20:42:45.258Z"
   },
   {
    "duration": 10,
    "start_time": "2022-05-27T20:42:45.479Z"
   },
   {
    "duration": 7,
    "start_time": "2022-05-27T20:42:45.491Z"
   },
   {
    "duration": 40,
    "start_time": "2022-05-27T20:42:45.500Z"
   },
   {
    "duration": 22,
    "start_time": "2022-05-27T20:42:45.542Z"
   },
   {
    "duration": 732,
    "start_time": "2022-05-27T20:42:45.565Z"
   },
   {
    "duration": 3,
    "start_time": "2022-05-27T20:42:46.299Z"
   },
   {
    "duration": 27,
    "start_time": "2022-05-27T20:42:46.304Z"
   },
   {
    "duration": 12,
    "start_time": "2022-05-27T20:42:46.333Z"
   },
   {
    "duration": 38515,
    "start_time": "2022-05-27T20:42:46.346Z"
   },
   {
    "duration": 16,
    "start_time": "2022-05-27T20:43:24.863Z"
   },
   {
    "duration": 9,
    "start_time": "2022-05-27T20:43:24.881Z"
   },
   {
    "duration": 37,
    "start_time": "2022-05-27T20:43:24.893Z"
   },
   {
    "duration": 1149,
    "start_time": "2022-05-27T20:43:36.240Z"
   },
   {
    "duration": 751,
    "start_time": "2022-05-27T20:43:37.392Z"
   },
   {
    "duration": 6,
    "start_time": "2022-05-27T20:43:38.145Z"
   },
   {
    "duration": 17,
    "start_time": "2022-05-27T20:43:38.153Z"
   },
   {
    "duration": 6,
    "start_time": "2022-05-27T20:43:38.172Z"
   },
   {
    "duration": 15,
    "start_time": "2022-05-27T20:43:38.179Z"
   },
   {
    "duration": 12,
    "start_time": "2022-05-27T20:43:38.196Z"
   },
   {
    "duration": 21,
    "start_time": "2022-05-27T20:43:38.210Z"
   },
   {
    "duration": 23,
    "start_time": "2022-05-27T20:43:38.233Z"
   },
   {
    "duration": 126,
    "start_time": "2022-05-27T20:43:38.258Z"
   },
   {
    "duration": 8,
    "start_time": "2022-05-27T20:43:38.386Z"
   },
   {
    "duration": 174,
    "start_time": "2022-05-27T20:43:38.395Z"
   },
   {
    "duration": 144,
    "start_time": "2022-05-27T20:43:38.570Z"
   },
   {
    "duration": 153,
    "start_time": "2022-05-27T20:43:38.715Z"
   },
   {
    "duration": 237,
    "start_time": "2022-05-27T20:43:38.869Z"
   },
   {
    "duration": 205,
    "start_time": "2022-05-27T20:43:39.108Z"
   },
   {
    "duration": 13,
    "start_time": "2022-05-27T20:43:39.315Z"
   },
   {
    "duration": 8,
    "start_time": "2022-05-27T20:43:39.329Z"
   },
   {
    "duration": 11,
    "start_time": "2022-05-27T20:43:39.338Z"
   },
   {
    "duration": 18,
    "start_time": "2022-05-27T20:43:39.350Z"
   },
   {
    "duration": 739,
    "start_time": "2022-05-27T20:43:39.370Z"
   },
   {
    "duration": 3,
    "start_time": "2022-05-27T20:43:40.111Z"
   },
   {
    "duration": 14,
    "start_time": "2022-05-27T20:43:40.115Z"
   },
   {
    "duration": 7,
    "start_time": "2022-05-27T20:43:40.131Z"
   },
   {
    "duration": 70154,
    "start_time": "2022-05-27T20:43:40.139Z"
   },
   {
    "duration": 129,
    "start_time": "2022-05-27T20:44:50.294Z"
   },
   {
    "duration": 37,
    "start_time": "2022-05-27T20:44:50.425Z"
   },
   {
    "duration": 30,
    "start_time": "2022-05-27T20:44:50.464Z"
   },
   {
    "duration": 6,
    "start_time": "2022-05-27T20:49:13.309Z"
   },
   {
    "duration": 4,
    "start_time": "2022-05-27T20:49:15.629Z"
   },
   {
    "duration": 4,
    "start_time": "2022-05-27T20:49:23.054Z"
   },
   {
    "duration": 4,
    "start_time": "2022-05-27T20:49:32.097Z"
   },
   {
    "duration": 5059,
    "start_time": "2022-05-27T20:49:32.973Z"
   },
   {
    "duration": 1187,
    "start_time": "2022-05-27T20:59:26.104Z"
   },
   {
    "duration": 782,
    "start_time": "2022-05-27T20:59:27.294Z"
   },
   {
    "duration": 7,
    "start_time": "2022-05-27T20:59:28.078Z"
   },
   {
    "duration": 7,
    "start_time": "2022-05-27T20:59:28.087Z"
   },
   {
    "duration": 9,
    "start_time": "2022-05-27T20:59:28.096Z"
   },
   {
    "duration": 30,
    "start_time": "2022-05-27T20:59:28.106Z"
   },
   {
    "duration": 13,
    "start_time": "2022-05-27T20:59:28.137Z"
   },
   {
    "duration": 14,
    "start_time": "2022-05-27T20:59:28.152Z"
   },
   {
    "duration": 26,
    "start_time": "2022-05-27T20:59:28.167Z"
   },
   {
    "duration": 128,
    "start_time": "2022-05-27T20:59:28.194Z"
   },
   {
    "duration": 8,
    "start_time": "2022-05-27T20:59:28.329Z"
   },
   {
    "duration": 181,
    "start_time": "2022-05-27T20:59:28.339Z"
   },
   {
    "duration": 165,
    "start_time": "2022-05-27T20:59:28.527Z"
   },
   {
    "duration": 153,
    "start_time": "2022-05-27T20:59:28.695Z"
   },
   {
    "duration": 260,
    "start_time": "2022-05-27T20:59:28.850Z"
   },
   {
    "duration": 210,
    "start_time": "2022-05-27T20:59:29.112Z"
   },
   {
    "duration": 9,
    "start_time": "2022-05-27T20:59:29.324Z"
   },
   {
    "duration": 11,
    "start_time": "2022-05-27T20:59:29.335Z"
   },
   {
    "duration": 12,
    "start_time": "2022-05-27T20:59:29.348Z"
   },
   {
    "duration": 22,
    "start_time": "2022-05-27T20:59:29.362Z"
   },
   {
    "duration": 862,
    "start_time": "2022-05-27T20:59:29.386Z"
   },
   {
    "duration": 3,
    "start_time": "2022-05-27T20:59:30.249Z"
   },
   {
    "duration": 14,
    "start_time": "2022-05-27T20:59:30.254Z"
   },
   {
    "duration": 38,
    "start_time": "2022-05-27T20:59:30.270Z"
   },
   {
    "duration": 14,
    "start_time": "2022-05-27T20:59:30.309Z"
   },
   {
    "duration": 75763,
    "start_time": "2022-05-27T20:59:30.324Z"
   },
   {
    "duration": 1191,
    "start_time": "2022-05-27T21:01:45.431Z"
   },
   {
    "duration": 815,
    "start_time": "2022-05-27T21:01:46.626Z"
   },
   {
    "duration": 7,
    "start_time": "2022-05-27T21:01:47.443Z"
   },
   {
    "duration": 14,
    "start_time": "2022-05-27T21:01:47.451Z"
   },
   {
    "duration": 5,
    "start_time": "2022-05-27T21:01:47.467Z"
   },
   {
    "duration": 19,
    "start_time": "2022-05-27T21:01:47.474Z"
   },
   {
    "duration": 29,
    "start_time": "2022-05-27T21:01:47.494Z"
   },
   {
    "duration": 14,
    "start_time": "2022-05-27T21:01:47.525Z"
   },
   {
    "duration": 27,
    "start_time": "2022-05-27T21:01:47.541Z"
   },
   {
    "duration": 146,
    "start_time": "2022-05-27T21:01:47.570Z"
   },
   {
    "duration": 10,
    "start_time": "2022-05-27T21:01:47.717Z"
   },
   {
    "duration": 193,
    "start_time": "2022-05-27T21:01:47.728Z"
   },
   {
    "duration": 179,
    "start_time": "2022-05-27T21:01:47.926Z"
   },
   {
    "duration": 168,
    "start_time": "2022-05-27T21:01:48.107Z"
   },
   {
    "duration": 287,
    "start_time": "2022-05-27T21:01:48.277Z"
   },
   {
    "duration": 224,
    "start_time": "2022-05-27T21:01:48.565Z"
   },
   {
    "duration": 9,
    "start_time": "2022-05-27T21:01:48.791Z"
   },
   {
    "duration": 28,
    "start_time": "2022-05-27T21:01:48.801Z"
   },
   {
    "duration": 11,
    "start_time": "2022-05-27T21:01:48.830Z"
   },
   {
    "duration": 35,
    "start_time": "2022-05-27T21:01:48.842Z"
   },
   {
    "duration": 894,
    "start_time": "2022-05-27T21:01:48.879Z"
   },
   {
    "duration": 4,
    "start_time": "2022-05-27T21:01:49.775Z"
   },
   {
    "duration": 23,
    "start_time": "2022-05-27T21:01:49.780Z"
   },
   {
    "duration": 11,
    "start_time": "2022-05-27T21:01:49.805Z"
   },
   {
    "duration": 15,
    "start_time": "2022-05-27T21:01:49.818Z"
   },
   {
    "duration": 76077,
    "start_time": "2022-05-27T21:01:49.835Z"
   },
   {
    "duration": 34126,
    "start_time": "2022-05-27T21:03:05.914Z"
   },
   {
    "duration": 102706,
    "start_time": "2022-05-27T21:03:41.452Z"
   },
   {
    "duration": 4,
    "start_time": "2022-05-27T21:05:58.813Z"
   },
   {
    "duration": 5,
    "start_time": "2022-05-27T21:06:05.628Z"
   },
   {
    "duration": 7,
    "start_time": "2022-05-27T21:06:13.594Z"
   },
   {
    "duration": 11,
    "start_time": "2022-05-27T21:06:31.306Z"
   },
   {
    "duration": 4,
    "start_time": "2022-05-27T21:06:37.976Z"
   },
   {
    "duration": 102707,
    "start_time": "2022-05-27T21:06:55.664Z"
   },
   {
    "duration": 25409,
    "start_time": "2022-05-27T21:11:57.784Z"
   },
   {
    "duration": 77,
    "start_time": "2022-05-27T21:12:23.195Z"
   },
   {
    "duration": 4,
    "start_time": "2022-05-27T21:12:23.275Z"
   },
   {
    "duration": 35,
    "start_time": "2022-05-27T21:13:38.602Z"
   },
   {
    "duration": 13,
    "start_time": "2022-05-27T21:13:39.051Z"
   },
   {
    "duration": 21,
    "start_time": "2022-05-27T21:14:33.600Z"
   },
   {
    "duration": 18,
    "start_time": "2022-05-27T21:14:41.360Z"
   },
   {
    "duration": 3,
    "start_time": "2022-05-27T21:14:57.935Z"
   },
   {
    "duration": 657,
    "start_time": "2022-05-27T21:14:58.942Z"
   },
   {
    "duration": 17,
    "start_time": "2022-05-27T21:15:08.182Z"
   },
   {
    "duration": 10,
    "start_time": "2022-05-27T21:15:29.542Z"
   },
   {
    "duration": 39,
    "start_time": "2022-05-27T21:15:33.865Z"
   },
   {
    "duration": 10,
    "start_time": "2022-05-27T21:16:32.748Z"
   },
   {
    "duration": 74,
    "start_time": "2022-05-27T21:16:33.390Z"
   },
   {
    "duration": 7,
    "start_time": "2022-05-27T21:16:54.563Z"
   },
   {
    "duration": 41,
    "start_time": "2022-05-27T21:16:55.604Z"
   },
   {
    "duration": 27,
    "start_time": "2022-05-27T21:17:20.879Z"
   },
   {
    "duration": 10,
    "start_time": "2022-05-27T21:17:28.394Z"
   },
   {
    "duration": 26,
    "start_time": "2022-05-27T21:17:29.296Z"
   },
   {
    "duration": 20,
    "start_time": "2022-05-27T21:17:55.309Z"
   },
   {
    "duration": 25,
    "start_time": "2022-05-27T21:18:34.519Z"
   },
   {
    "duration": 22,
    "start_time": "2022-05-27T21:18:47.159Z"
   },
   {
    "duration": 24,
    "start_time": "2022-05-27T21:18:55.719Z"
   },
   {
    "duration": 32,
    "start_time": "2022-05-27T21:19:07.483Z"
   },
   {
    "duration": 43,
    "start_time": "2022-05-27T21:19:24.673Z"
   },
   {
    "duration": 740,
    "start_time": "2022-05-27T21:19:40.982Z"
   },
   {
    "duration": 34,
    "start_time": "2022-05-27T21:19:50.055Z"
   },
   {
    "duration": 17,
    "start_time": "2022-05-27T21:20:07.003Z"
   },
   {
    "duration": 8,
    "start_time": "2022-05-27T21:20:47.196Z"
   },
   {
    "duration": 30,
    "start_time": "2022-05-27T21:21:01.523Z"
   },
   {
    "duration": 26,
    "start_time": "2022-05-27T21:21:18.063Z"
   },
   {
    "duration": 28,
    "start_time": "2022-05-27T21:21:37.527Z"
   },
   {
    "duration": 11,
    "start_time": "2022-05-27T21:22:06.386Z"
   },
   {
    "duration": 37,
    "start_time": "2022-05-27T21:22:18.115Z"
   },
   {
    "duration": 5,
    "start_time": "2022-05-27T21:23:11.287Z"
   },
   {
    "duration": 703,
    "start_time": "2022-05-27T21:23:11.697Z"
   },
   {
    "duration": 6,
    "start_time": "2022-05-27T21:23:13.937Z"
   },
   {
    "duration": 5,
    "start_time": "2022-05-27T21:23:14.585Z"
   },
   {
    "duration": 3,
    "start_time": "2022-05-27T21:23:30.626Z"
   },
   {
    "duration": 13,
    "start_time": "2022-05-27T21:23:31.503Z"
   },
   {
    "duration": 1155,
    "start_time": "2022-05-27T21:25:19.265Z"
   },
   {
    "duration": 807,
    "start_time": "2022-05-27T21:25:20.423Z"
   },
   {
    "duration": 6,
    "start_time": "2022-05-27T21:25:21.232Z"
   },
   {
    "duration": 22,
    "start_time": "2022-05-27T21:25:21.240Z"
   },
   {
    "duration": 7,
    "start_time": "2022-05-27T21:25:21.266Z"
   },
   {
    "duration": 121,
    "start_time": "2022-05-27T21:25:21.275Z"
   },
   {
    "duration": 0,
    "start_time": "2022-05-27T21:25:21.398Z"
   },
   {
    "duration": 0,
    "start_time": "2022-05-27T21:25:21.399Z"
   },
   {
    "duration": 0,
    "start_time": "2022-05-27T21:25:21.401Z"
   },
   {
    "duration": 0,
    "start_time": "2022-05-27T21:25:21.402Z"
   },
   {
    "duration": 0,
    "start_time": "2022-05-27T21:25:21.403Z"
   },
   {
    "duration": 0,
    "start_time": "2022-05-27T21:25:21.404Z"
   },
   {
    "duration": 0,
    "start_time": "2022-05-27T21:25:21.405Z"
   },
   {
    "duration": 0,
    "start_time": "2022-05-27T21:25:21.407Z"
   },
   {
    "duration": 0,
    "start_time": "2022-05-27T21:25:21.408Z"
   },
   {
    "duration": 0,
    "start_time": "2022-05-27T21:25:21.409Z"
   },
   {
    "duration": 0,
    "start_time": "2022-05-27T21:25:21.427Z"
   },
   {
    "duration": 0,
    "start_time": "2022-05-27T21:25:21.428Z"
   },
   {
    "duration": 0,
    "start_time": "2022-05-27T21:25:21.429Z"
   },
   {
    "duration": 0,
    "start_time": "2022-05-27T21:25:21.430Z"
   },
   {
    "duration": 0,
    "start_time": "2022-05-27T21:25:21.432Z"
   },
   {
    "duration": 0,
    "start_time": "2022-05-27T21:25:21.432Z"
   },
   {
    "duration": 0,
    "start_time": "2022-05-27T21:25:21.434Z"
   },
   {
    "duration": 0,
    "start_time": "2022-05-27T21:25:21.435Z"
   },
   {
    "duration": 0,
    "start_time": "2022-05-27T21:25:21.436Z"
   },
   {
    "duration": 0,
    "start_time": "2022-05-27T21:25:21.437Z"
   },
   {
    "duration": 0,
    "start_time": "2022-05-27T21:25:21.438Z"
   },
   {
    "duration": 0,
    "start_time": "2022-05-27T21:25:21.439Z"
   },
   {
    "duration": 0,
    "start_time": "2022-05-27T21:25:21.440Z"
   },
   {
    "duration": 0,
    "start_time": "2022-05-27T21:25:21.441Z"
   },
   {
    "duration": 0,
    "start_time": "2022-05-27T21:25:21.443Z"
   },
   {
    "duration": 0,
    "start_time": "2022-05-27T21:25:21.444Z"
   },
   {
    "duration": 0,
    "start_time": "2022-05-27T21:25:21.446Z"
   },
   {
    "duration": 0,
    "start_time": "2022-05-27T21:25:21.447Z"
   },
   {
    "duration": 1156,
    "start_time": "2022-05-27T21:25:39.902Z"
   },
   {
    "duration": 770,
    "start_time": "2022-05-27T21:25:41.061Z"
   },
   {
    "duration": 6,
    "start_time": "2022-05-27T21:25:41.833Z"
   },
   {
    "duration": 13,
    "start_time": "2022-05-27T21:25:41.840Z"
   },
   {
    "duration": 11,
    "start_time": "2022-05-27T21:25:41.855Z"
   },
   {
    "duration": 17,
    "start_time": "2022-05-27T21:25:41.868Z"
   },
   {
    "duration": 13,
    "start_time": "2022-05-27T21:25:41.887Z"
   },
   {
    "duration": 13,
    "start_time": "2022-05-27T21:25:41.902Z"
   },
   {
    "duration": 34,
    "start_time": "2022-05-27T21:25:41.917Z"
   },
   {
    "duration": 127,
    "start_time": "2022-05-27T21:25:41.952Z"
   },
   {
    "duration": 10,
    "start_time": "2022-05-27T21:25:42.080Z"
   },
   {
    "duration": 184,
    "start_time": "2022-05-27T21:25:42.091Z"
   },
   {
    "duration": 181,
    "start_time": "2022-05-27T21:25:42.277Z"
   },
   {
    "duration": 152,
    "start_time": "2022-05-27T21:25:42.461Z"
   },
   {
    "duration": 247,
    "start_time": "2022-05-27T21:25:42.615Z"
   },
   {
    "duration": 205,
    "start_time": "2022-05-27T21:25:42.864Z"
   },
   {
    "duration": 8,
    "start_time": "2022-05-27T21:25:43.071Z"
   },
   {
    "duration": 10,
    "start_time": "2022-05-27T21:25:43.080Z"
   },
   {
    "duration": 11,
    "start_time": "2022-05-27T21:25:43.092Z"
   },
   {
    "duration": 36,
    "start_time": "2022-05-27T21:25:43.105Z"
   },
   {
    "duration": 866,
    "start_time": "2022-05-27T21:25:43.143Z"
   },
   {
    "duration": 3,
    "start_time": "2022-05-27T21:25:44.010Z"
   },
   {
    "duration": 114,
    "start_time": "2022-05-27T21:25:44.015Z"
   },
   {
    "duration": 0,
    "start_time": "2022-05-27T21:25:44.131Z"
   },
   {
    "duration": 1,
    "start_time": "2022-05-27T21:25:44.131Z"
   },
   {
    "duration": 0,
    "start_time": "2022-05-27T21:25:44.133Z"
   },
   {
    "duration": 0,
    "start_time": "2022-05-27T21:25:44.134Z"
   },
   {
    "duration": 0,
    "start_time": "2022-05-27T21:25:44.136Z"
   },
   {
    "duration": 0,
    "start_time": "2022-05-27T21:25:44.137Z"
   },
   {
    "duration": 0,
    "start_time": "2022-05-27T21:25:44.138Z"
   },
   {
    "duration": 0,
    "start_time": "2022-05-27T21:25:44.139Z"
   },
   {
    "duration": 0,
    "start_time": "2022-05-27T21:25:44.140Z"
   },
   {
    "duration": 0,
    "start_time": "2022-05-27T21:25:44.142Z"
   },
   {
    "duration": 0,
    "start_time": "2022-05-27T21:25:44.143Z"
   },
   {
    "duration": 25,
    "start_time": "2022-05-27T21:26:29.069Z"
   },
   {
    "duration": 28,
    "start_time": "2022-05-27T21:26:39.838Z"
   },
   {
    "duration": 20,
    "start_time": "2022-05-27T21:26:54.452Z"
   },
   {
    "duration": 4,
    "start_time": "2022-05-27T21:27:02.715Z"
   },
   {
    "duration": 30,
    "start_time": "2022-05-27T21:27:06.562Z"
   },
   {
    "duration": 4,
    "start_time": "2022-05-27T21:28:07.080Z"
   },
   {
    "duration": 4,
    "start_time": "2022-05-27T21:28:13.012Z"
   },
   {
    "duration": 4,
    "start_time": "2022-05-27T21:28:13.642Z"
   },
   {
    "duration": 4,
    "start_time": "2022-05-27T21:28:14.222Z"
   },
   {
    "duration": 4,
    "start_time": "2022-05-27T21:28:14.433Z"
   },
   {
    "duration": 4,
    "start_time": "2022-05-27T21:28:14.662Z"
   },
   {
    "duration": 9,
    "start_time": "2022-05-27T21:28:24.572Z"
   },
   {
    "duration": 7,
    "start_time": "2022-05-27T21:28:25.443Z"
   },
   {
    "duration": 7,
    "start_time": "2022-05-27T21:28:25.912Z"
   },
   {
    "duration": 9,
    "start_time": "2022-05-27T21:28:26.402Z"
   },
   {
    "duration": 7,
    "start_time": "2022-05-27T21:28:26.832Z"
   },
   {
    "duration": 8,
    "start_time": "2022-05-27T21:28:27.362Z"
   },
   {
    "duration": 8,
    "start_time": "2022-05-27T21:28:27.792Z"
   },
   {
    "duration": 7,
    "start_time": "2022-05-27T21:28:28.034Z"
   },
   {
    "duration": 7,
    "start_time": "2022-05-27T21:28:28.302Z"
   },
   {
    "duration": 8,
    "start_time": "2022-05-27T21:28:28.811Z"
   },
   {
    "duration": 8,
    "start_time": "2022-05-27T21:28:29.205Z"
   },
   {
    "duration": 8,
    "start_time": "2022-05-27T21:28:29.462Z"
   },
   {
    "duration": 9,
    "start_time": "2022-05-27T21:28:29.723Z"
   },
   {
    "duration": 7,
    "start_time": "2022-05-27T21:28:29.930Z"
   },
   {
    "duration": 8,
    "start_time": "2022-05-27T21:28:30.215Z"
   },
   {
    "duration": 7,
    "start_time": "2022-05-27T21:28:30.353Z"
   },
   {
    "duration": 10,
    "start_time": "2022-05-27T21:28:30.722Z"
   },
   {
    "duration": 8,
    "start_time": "2022-05-27T21:28:31.082Z"
   },
   {
    "duration": 8,
    "start_time": "2022-05-27T21:28:31.350Z"
   },
   {
    "duration": 7,
    "start_time": "2022-05-27T21:28:31.582Z"
   },
   {
    "duration": 10,
    "start_time": "2022-05-27T21:28:31.842Z"
   },
   {
    "duration": 12,
    "start_time": "2022-05-27T21:28:32.083Z"
   },
   {
    "duration": 8,
    "start_time": "2022-05-27T21:28:32.502Z"
   },
   {
    "duration": 9,
    "start_time": "2022-05-27T21:28:33.111Z"
   },
   {
    "duration": 8,
    "start_time": "2022-05-27T21:28:33.402Z"
   },
   {
    "duration": 8,
    "start_time": "2022-05-27T21:28:34.352Z"
   },
   {
    "duration": 9,
    "start_time": "2022-05-27T21:28:34.682Z"
   },
   {
    "duration": 10,
    "start_time": "2022-05-27T21:28:34.930Z"
   },
   {
    "duration": 9,
    "start_time": "2022-05-27T21:28:35.124Z"
   },
   {
    "duration": 8,
    "start_time": "2022-05-27T21:28:35.582Z"
   },
   {
    "duration": 8,
    "start_time": "2022-05-27T21:28:35.771Z"
   },
   {
    "duration": 8,
    "start_time": "2022-05-27T21:28:36.010Z"
   },
   {
    "duration": 7,
    "start_time": "2022-05-27T21:28:36.138Z"
   },
   {
    "duration": 10,
    "start_time": "2022-05-27T21:28:36.406Z"
   },
   {
    "duration": 9,
    "start_time": "2022-05-27T21:28:37.062Z"
   },
   {
    "duration": 8,
    "start_time": "2022-05-27T21:28:37.243Z"
   },
   {
    "duration": 8,
    "start_time": "2022-05-27T21:28:37.463Z"
   },
   {
    "duration": 7,
    "start_time": "2022-05-27T21:28:37.712Z"
   },
   {
    "duration": 34,
    "start_time": "2022-05-27T21:28:59.742Z"
   },
   {
    "duration": 1197,
    "start_time": "2022-05-27T21:29:13.685Z"
   },
   {
    "duration": 793,
    "start_time": "2022-05-27T21:29:14.886Z"
   },
   {
    "duration": 6,
    "start_time": "2022-05-27T21:29:15.681Z"
   },
   {
    "duration": 5,
    "start_time": "2022-05-27T21:29:15.690Z"
   },
   {
    "duration": 6,
    "start_time": "2022-05-27T21:29:15.697Z"
   },
   {
    "duration": 31,
    "start_time": "2022-05-27T21:29:15.705Z"
   },
   {
    "duration": 13,
    "start_time": "2022-05-27T21:29:15.737Z"
   },
   {
    "duration": 16,
    "start_time": "2022-05-27T21:29:15.751Z"
   },
   {
    "duration": 27,
    "start_time": "2022-05-27T21:29:15.769Z"
   },
   {
    "duration": 136,
    "start_time": "2022-05-27T21:29:15.799Z"
   },
   {
    "duration": 9,
    "start_time": "2022-05-27T21:29:15.937Z"
   },
   {
    "duration": 192,
    "start_time": "2022-05-27T21:29:15.948Z"
   },
   {
    "duration": 178,
    "start_time": "2022-05-27T21:29:16.142Z"
   },
   {
    "duration": 211,
    "start_time": "2022-05-27T21:29:16.326Z"
   },
   {
    "duration": 263,
    "start_time": "2022-05-27T21:29:16.539Z"
   },
   {
    "duration": 206,
    "start_time": "2022-05-27T21:29:16.803Z"
   },
   {
    "duration": 17,
    "start_time": "2022-05-27T21:29:17.011Z"
   },
   {
    "duration": 9,
    "start_time": "2022-05-27T21:29:17.029Z"
   },
   {
    "duration": 22,
    "start_time": "2022-05-27T21:29:17.040Z"
   },
   {
    "duration": 32,
    "start_time": "2022-05-27T21:29:17.064Z"
   },
   {
    "duration": 805,
    "start_time": "2022-05-27T21:29:17.098Z"
   },
   {
    "duration": 4,
    "start_time": "2022-05-27T21:29:17.905Z"
   },
   {
    "duration": 130,
    "start_time": "2022-05-27T21:29:17.910Z"
   },
   {
    "duration": 0,
    "start_time": "2022-05-27T21:29:18.042Z"
   },
   {
    "duration": 0,
    "start_time": "2022-05-27T21:29:18.044Z"
   },
   {
    "duration": 0,
    "start_time": "2022-05-27T21:29:18.045Z"
   },
   {
    "duration": 0,
    "start_time": "2022-05-27T21:29:18.046Z"
   },
   {
    "duration": 0,
    "start_time": "2022-05-27T21:29:18.047Z"
   },
   {
    "duration": 0,
    "start_time": "2022-05-27T21:29:18.049Z"
   },
   {
    "duration": 0,
    "start_time": "2022-05-27T21:29:18.050Z"
   },
   {
    "duration": 1,
    "start_time": "2022-05-27T21:29:18.051Z"
   },
   {
    "duration": 0,
    "start_time": "2022-05-27T21:29:18.053Z"
   },
   {
    "duration": 0,
    "start_time": "2022-05-27T21:29:18.054Z"
   },
   {
    "duration": 0,
    "start_time": "2022-05-27T21:29:18.055Z"
   },
   {
    "duration": 0,
    "start_time": "2022-05-27T21:29:18.056Z"
   },
   {
    "duration": 0,
    "start_time": "2022-05-27T21:29:18.058Z"
   },
   {
    "duration": 0,
    "start_time": "2022-05-27T21:29:18.058Z"
   },
   {
    "duration": 1172,
    "start_time": "2022-05-27T21:30:40.614Z"
   },
   {
    "duration": 803,
    "start_time": "2022-05-27T21:30:41.789Z"
   },
   {
    "duration": 6,
    "start_time": "2022-05-27T21:30:42.593Z"
   },
   {
    "duration": 9,
    "start_time": "2022-05-27T21:30:42.601Z"
   },
   {
    "duration": 7,
    "start_time": "2022-05-27T21:30:42.612Z"
   },
   {
    "duration": 14,
    "start_time": "2022-05-27T21:30:42.626Z"
   },
   {
    "duration": 13,
    "start_time": "2022-05-27T21:30:42.642Z"
   },
   {
    "duration": 26,
    "start_time": "2022-05-27T21:30:42.656Z"
   },
   {
    "duration": 51,
    "start_time": "2022-05-27T21:30:42.684Z"
   },
   {
    "duration": 135,
    "start_time": "2022-05-27T21:30:42.738Z"
   },
   {
    "duration": 8,
    "start_time": "2022-05-27T21:30:42.875Z"
   },
   {
    "duration": 167,
    "start_time": "2022-05-27T21:30:42.884Z"
   },
   {
    "duration": 154,
    "start_time": "2022-05-27T21:30:43.053Z"
   },
   {
    "duration": 178,
    "start_time": "2022-05-27T21:30:43.210Z"
   },
   {
    "duration": 268,
    "start_time": "2022-05-27T21:30:43.389Z"
   },
   {
    "duration": 213,
    "start_time": "2022-05-27T21:30:43.659Z"
   },
   {
    "duration": 15,
    "start_time": "2022-05-27T21:30:43.875Z"
   },
   {
    "duration": 17,
    "start_time": "2022-05-27T21:30:43.891Z"
   },
   {
    "duration": 18,
    "start_time": "2022-05-27T21:30:43.910Z"
   },
   {
    "duration": 20,
    "start_time": "2022-05-27T21:30:43.930Z"
   },
   {
    "duration": 802,
    "start_time": "2022-05-27T21:30:43.952Z"
   },
   {
    "duration": 4,
    "start_time": "2022-05-27T21:30:44.756Z"
   },
   {
    "duration": 148,
    "start_time": "2022-05-27T21:30:44.762Z"
   },
   {
    "duration": 0,
    "start_time": "2022-05-27T21:30:44.912Z"
   },
   {
    "duration": 0,
    "start_time": "2022-05-27T21:30:44.913Z"
   },
   {
    "duration": 0,
    "start_time": "2022-05-27T21:30:44.915Z"
   },
   {
    "duration": 0,
    "start_time": "2022-05-27T21:30:44.916Z"
   },
   {
    "duration": 0,
    "start_time": "2022-05-27T21:30:44.927Z"
   },
   {
    "duration": 0,
    "start_time": "2022-05-27T21:30:44.928Z"
   },
   {
    "duration": 0,
    "start_time": "2022-05-27T21:30:44.929Z"
   },
   {
    "duration": 0,
    "start_time": "2022-05-27T21:30:44.930Z"
   },
   {
    "duration": 0,
    "start_time": "2022-05-27T21:30:44.931Z"
   },
   {
    "duration": 0,
    "start_time": "2022-05-27T21:30:44.933Z"
   },
   {
    "duration": 0,
    "start_time": "2022-05-27T21:30:44.934Z"
   },
   {
    "duration": 0,
    "start_time": "2022-05-27T21:30:44.935Z"
   },
   {
    "duration": 0,
    "start_time": "2022-05-27T21:30:44.937Z"
   },
   {
    "duration": 0,
    "start_time": "2022-05-27T21:30:44.938Z"
   },
   {
    "duration": 8,
    "start_time": "2022-05-27T21:31:02.478Z"
   },
   {
    "duration": 35,
    "start_time": "2022-05-27T21:31:16.795Z"
   },
   {
    "duration": 37,
    "start_time": "2022-05-27T21:31:25.155Z"
   },
   {
    "duration": 6,
    "start_time": "2022-05-27T21:31:45.898Z"
   },
   {
    "duration": 76577,
    "start_time": "2022-05-27T21:31:47.415Z"
   },
   {
    "duration": 104287,
    "start_time": "2022-05-27T21:33:03.994Z"
   },
   {
    "duration": 23,
    "start_time": "2022-05-27T21:35:30.219Z"
   },
   {
    "duration": 12,
    "start_time": "2022-05-27T21:35:50.261Z"
   },
   {
    "duration": 5,
    "start_time": "2022-05-27T21:37:53.365Z"
   },
   {
    "duration": 6,
    "start_time": "2022-05-27T21:38:13.227Z"
   },
   {
    "duration": 25,
    "start_time": "2022-05-27T21:38:17.875Z"
   },
   {
    "duration": 9,
    "start_time": "2022-05-27T21:39:31.935Z"
   },
   {
    "duration": 25,
    "start_time": "2022-05-27T21:39:39.381Z"
   },
   {
    "duration": 11,
    "start_time": "2022-05-27T21:39:58.675Z"
   },
   {
    "duration": 14,
    "start_time": "2022-05-27T21:40:03.815Z"
   },
   {
    "duration": 9,
    "start_time": "2022-05-27T21:41:20.725Z"
   },
   {
    "duration": 4,
    "start_time": "2022-05-27T21:41:44.427Z"
   },
   {
    "duration": 9,
    "start_time": "2022-05-27T21:41:44.749Z"
   },
   {
    "duration": 24775,
    "start_time": "2022-05-27T21:41:45.368Z"
   },
   {
    "duration": 15,
    "start_time": "2022-05-27T21:42:17.520Z"
   },
   {
    "duration": 16131,
    "start_time": "2022-05-27T21:42:37.593Z"
   },
   {
    "duration": 20,
    "start_time": "2022-05-27T21:42:53.727Z"
   },
   {
    "duration": 4,
    "start_time": "2022-05-27T21:42:53.748Z"
   },
   {
    "duration": 1133,
    "start_time": "2022-05-27T21:43:54.822Z"
   },
   {
    "duration": 809,
    "start_time": "2022-05-27T21:43:55.958Z"
   },
   {
    "duration": 6,
    "start_time": "2022-05-27T21:43:56.769Z"
   },
   {
    "duration": 11,
    "start_time": "2022-05-27T21:43:56.777Z"
   },
   {
    "duration": 6,
    "start_time": "2022-05-27T21:43:56.789Z"
   },
   {
    "duration": 16,
    "start_time": "2022-05-27T21:43:56.797Z"
   },
   {
    "duration": 22,
    "start_time": "2022-05-27T21:43:56.814Z"
   },
   {
    "duration": 30,
    "start_time": "2022-05-27T21:43:56.837Z"
   },
   {
    "duration": 24,
    "start_time": "2022-05-27T21:43:56.869Z"
   },
   {
    "duration": 130,
    "start_time": "2022-05-27T21:43:56.897Z"
   },
   {
    "duration": 8,
    "start_time": "2022-05-27T21:43:57.028Z"
   },
   {
    "duration": 173,
    "start_time": "2022-05-27T21:43:57.038Z"
   },
   {
    "duration": 160,
    "start_time": "2022-05-27T21:43:57.213Z"
   },
   {
    "duration": 157,
    "start_time": "2022-05-27T21:43:57.375Z"
   },
   {
    "duration": 235,
    "start_time": "2022-05-27T21:43:57.534Z"
   },
   {
    "duration": 196,
    "start_time": "2022-05-27T21:43:57.771Z"
   },
   {
    "duration": 8,
    "start_time": "2022-05-27T21:43:57.969Z"
   },
   {
    "duration": 16,
    "start_time": "2022-05-27T21:43:57.979Z"
   },
   {
    "duration": 15,
    "start_time": "2022-05-27T21:43:57.997Z"
   },
   {
    "duration": 24,
    "start_time": "2022-05-27T21:43:58.014Z"
   },
   {
    "duration": 712,
    "start_time": "2022-05-27T21:43:58.040Z"
   },
   {
    "duration": 3,
    "start_time": "2022-05-27T21:43:58.754Z"
   },
   {
    "duration": 11,
    "start_time": "2022-05-27T21:43:58.759Z"
   },
   {
    "duration": 7,
    "start_time": "2022-05-27T21:43:58.771Z"
   },
   {
    "duration": 72783,
    "start_time": "2022-05-27T21:43:58.779Z"
   },
   {
    "duration": 98007,
    "start_time": "2022-05-27T21:45:11.563Z"
   },
   {
    "duration": 6,
    "start_time": "2022-05-27T21:46:49.571Z"
   },
   {
    "duration": 12,
    "start_time": "2022-05-27T21:46:49.580Z"
   },
   {
    "duration": 16278,
    "start_time": "2022-05-27T21:46:49.593Z"
   },
   {
    "duration": 21,
    "start_time": "2022-05-27T21:47:05.872Z"
   },
   {
    "duration": 4,
    "start_time": "2022-05-27T21:47:05.895Z"
   },
   {
    "duration": 3,
    "start_time": "2022-05-27T21:47:42.233Z"
   },
   {
    "duration": 4,
    "start_time": "2022-05-27T21:47:48.385Z"
   },
   {
    "duration": 3,
    "start_time": "2022-05-27T21:48:00.626Z"
   },
   {
    "duration": 4,
    "start_time": "2022-05-27T21:49:33.780Z"
   },
   {
    "duration": 4,
    "start_time": "2022-05-27T21:50:19.029Z"
   },
   {
    "duration": 3,
    "start_time": "2022-05-27T21:50:29.252Z"
   },
   {
    "duration": 11,
    "start_time": "2022-05-27T21:51:40.444Z"
   },
   {
    "duration": 5,
    "start_time": "2022-05-27T21:51:49.234Z"
   },
   {
    "duration": 121,
    "start_time": "2022-05-27T21:51:55.035Z"
   },
   {
    "duration": 4,
    "start_time": "2022-05-27T21:52:29.053Z"
   },
   {
    "duration": 25,
    "start_time": "2022-05-27T21:54:43.602Z"
   },
   {
    "duration": 26,
    "start_time": "2022-05-27T21:54:53.713Z"
   },
   {
    "duration": 24,
    "start_time": "2022-05-27T21:55:00.786Z"
   },
   {
    "duration": 29,
    "start_time": "2022-05-27T21:55:04.495Z"
   },
   {
    "duration": 27,
    "start_time": "2022-05-27T21:55:25.447Z"
   },
   {
    "duration": 341,
    "start_time": "2022-05-27T22:02:34.305Z"
   },
   {
    "duration": 5,
    "start_time": "2022-05-27T22:02:46.195Z"
   },
   {
    "duration": 11,
    "start_time": "2022-05-27T22:02:48.575Z"
   },
   {
    "duration": 413,
    "start_time": "2022-05-27T22:03:41.114Z"
   },
   {
    "duration": 8,
    "start_time": "2022-05-27T22:03:48.840Z"
   },
   {
    "duration": 11,
    "start_time": "2022-05-27T22:04:04.780Z"
   },
   {
    "duration": 29,
    "start_time": "2022-05-27T22:04:15.315Z"
   },
   {
    "duration": 12,
    "start_time": "2022-05-27T22:05:10.847Z"
   },
   {
    "duration": 12,
    "start_time": "2022-05-27T22:05:26.978Z"
   },
   {
    "duration": 9,
    "start_time": "2022-05-27T22:06:23.306Z"
   },
   {
    "duration": 9,
    "start_time": "2022-05-27T22:10:15.911Z"
   },
   {
    "duration": 29,
    "start_time": "2022-05-27T22:10:23.950Z"
   },
   {
    "duration": 6,
    "start_time": "2022-05-27T22:10:54.140Z"
   },
   {
    "duration": 14,
    "start_time": "2022-05-27T22:11:35.116Z"
   },
   {
    "duration": 26,
    "start_time": "2022-05-27T22:11:35.338Z"
   },
   {
    "duration": 5,
    "start_time": "2022-05-27T22:13:56.494Z"
   },
   {
    "duration": 4,
    "start_time": "2022-05-27T22:14:43.970Z"
   },
   {
    "duration": 14,
    "start_time": "2022-05-27T22:14:44.384Z"
   },
   {
    "duration": 27,
    "start_time": "2022-05-27T22:14:48.985Z"
   },
   {
    "duration": 4,
    "start_time": "2022-05-27T22:15:59.015Z"
   },
   {
    "duration": 22,
    "start_time": "2022-05-27T22:15:59.444Z"
   },
   {
    "duration": 6,
    "start_time": "2022-05-27T22:16:00.075Z"
   },
   {
    "duration": 5,
    "start_time": "2022-05-27T22:16:07.884Z"
   },
   {
    "duration": 18,
    "start_time": "2022-05-27T22:17:22.521Z"
   },
   {
    "duration": 3,
    "start_time": "2022-05-27T22:18:24.499Z"
   },
   {
    "duration": 4,
    "start_time": "2022-05-27T22:18:32.188Z"
   },
   {
    "duration": 383,
    "start_time": "2022-05-27T22:20:28.365Z"
   },
   {
    "duration": 5,
    "start_time": "2022-05-27T22:20:51.798Z"
   },
   {
    "duration": 22,
    "start_time": "2022-05-27T22:20:52.436Z"
   },
   {
    "duration": 4,
    "start_time": "2022-05-27T22:20:52.916Z"
   },
   {
    "duration": 27,
    "start_time": "2022-05-27T22:21:24.447Z"
   },
   {
    "duration": 5,
    "start_time": "2022-05-27T22:21:32.966Z"
   },
   {
    "duration": 14,
    "start_time": "2022-05-27T22:21:33.741Z"
   },
   {
    "duration": 402,
    "start_time": "2022-05-27T22:23:26.478Z"
   },
   {
    "duration": 5,
    "start_time": "2022-05-27T22:23:33.227Z"
   },
   {
    "duration": 333,
    "start_time": "2022-05-27T22:23:33.766Z"
   },
   {
    "duration": 6,
    "start_time": "2022-05-27T22:23:40.584Z"
   },
   {
    "duration": 10,
    "start_time": "2022-05-27T22:23:41.072Z"
   },
   {
    "duration": 16284,
    "start_time": "2022-05-27T22:23:41.446Z"
   },
   {
    "duration": 15,
    "start_time": "2022-05-27T22:23:57.731Z"
   },
   {
    "duration": 1187,
    "start_time": "2022-05-27T22:30:04.787Z"
   },
   {
    "duration": 807,
    "start_time": "2022-05-27T22:30:05.976Z"
   },
   {
    "duration": 6,
    "start_time": "2022-05-27T22:30:06.785Z"
   },
   {
    "duration": 6,
    "start_time": "2022-05-27T22:30:06.793Z"
   },
   {
    "duration": 6,
    "start_time": "2022-05-27T22:30:06.801Z"
   },
   {
    "duration": 27,
    "start_time": "2022-05-27T22:30:06.808Z"
   },
   {
    "duration": 14,
    "start_time": "2022-05-27T22:30:06.836Z"
   },
   {
    "duration": 26,
    "start_time": "2022-05-27T22:30:06.851Z"
   },
   {
    "duration": 23,
    "start_time": "2022-05-27T22:30:06.879Z"
   },
   {
    "duration": 130,
    "start_time": "2022-05-27T22:30:06.904Z"
   },
   {
    "duration": 108,
    "start_time": "2022-05-27T22:30:07.036Z"
   },
   {
    "duration": 0,
    "start_time": "2022-05-27T22:30:07.146Z"
   },
   {
    "duration": 0,
    "start_time": "2022-05-27T22:30:07.147Z"
   },
   {
    "duration": 0,
    "start_time": "2022-05-27T22:30:07.149Z"
   },
   {
    "duration": 0,
    "start_time": "2022-05-27T22:30:07.150Z"
   },
   {
    "duration": 0,
    "start_time": "2022-05-27T22:30:07.151Z"
   },
   {
    "duration": 0,
    "start_time": "2022-05-27T22:30:07.152Z"
   },
   {
    "duration": 0,
    "start_time": "2022-05-27T22:30:07.153Z"
   },
   {
    "duration": 0,
    "start_time": "2022-05-27T22:30:07.154Z"
   },
   {
    "duration": 0,
    "start_time": "2022-05-27T22:30:07.156Z"
   },
   {
    "duration": 0,
    "start_time": "2022-05-27T22:30:07.157Z"
   },
   {
    "duration": 0,
    "start_time": "2022-05-27T22:30:07.158Z"
   },
   {
    "duration": 0,
    "start_time": "2022-05-27T22:30:07.159Z"
   },
   {
    "duration": 0,
    "start_time": "2022-05-27T22:30:07.160Z"
   },
   {
    "duration": 0,
    "start_time": "2022-05-27T22:30:07.162Z"
   },
   {
    "duration": 0,
    "start_time": "2022-05-27T22:30:07.163Z"
   },
   {
    "duration": 0,
    "start_time": "2022-05-27T22:30:07.164Z"
   },
   {
    "duration": 0,
    "start_time": "2022-05-27T22:30:07.165Z"
   },
   {
    "duration": 0,
    "start_time": "2022-05-27T22:30:07.167Z"
   },
   {
    "duration": 0,
    "start_time": "2022-05-27T22:30:07.168Z"
   },
   {
    "duration": 0,
    "start_time": "2022-05-27T22:30:07.169Z"
   },
   {
    "duration": 0,
    "start_time": "2022-05-27T22:30:07.170Z"
   },
   {
    "duration": 0,
    "start_time": "2022-05-27T22:30:07.171Z"
   },
   {
    "duration": 0,
    "start_time": "2022-05-27T22:30:07.173Z"
   },
   {
    "duration": 0,
    "start_time": "2022-05-27T22:30:07.174Z"
   },
   {
    "duration": 0,
    "start_time": "2022-05-27T22:30:07.175Z"
   },
   {
    "duration": 0,
    "start_time": "2022-05-27T22:30:07.176Z"
   },
   {
    "duration": 1,
    "start_time": "2022-05-27T22:30:07.226Z"
   },
   {
    "duration": 1084,
    "start_time": "2022-05-27T22:31:54.390Z"
   },
   {
    "duration": 740,
    "start_time": "2022-05-27T22:31:55.477Z"
   },
   {
    "duration": 9,
    "start_time": "2022-05-27T22:31:56.218Z"
   },
   {
    "duration": 9,
    "start_time": "2022-05-27T22:31:56.229Z"
   },
   {
    "duration": 17,
    "start_time": "2022-05-27T22:31:56.240Z"
   },
   {
    "duration": 22,
    "start_time": "2022-05-27T22:31:56.259Z"
   },
   {
    "duration": 21,
    "start_time": "2022-05-27T22:31:56.283Z"
   },
   {
    "duration": 34,
    "start_time": "2022-05-27T22:31:56.305Z"
   },
   {
    "duration": 32,
    "start_time": "2022-05-27T22:31:56.341Z"
   },
   {
    "duration": 153,
    "start_time": "2022-05-27T22:31:56.374Z"
   },
   {
    "duration": 8,
    "start_time": "2022-05-27T22:31:56.528Z"
   },
   {
    "duration": 164,
    "start_time": "2022-05-27T22:31:56.537Z"
   },
   {
    "duration": 148,
    "start_time": "2022-05-27T22:31:56.702Z"
   },
   {
    "duration": 149,
    "start_time": "2022-05-27T22:31:56.853Z"
   },
   {
    "duration": 233,
    "start_time": "2022-05-27T22:31:57.003Z"
   },
   {
    "duration": 194,
    "start_time": "2022-05-27T22:31:57.238Z"
   },
   {
    "duration": 7,
    "start_time": "2022-05-27T22:31:57.434Z"
   },
   {
    "duration": 8,
    "start_time": "2022-05-27T22:31:57.443Z"
   },
   {
    "duration": 11,
    "start_time": "2022-05-27T22:31:57.452Z"
   },
   {
    "duration": 16,
    "start_time": "2022-05-27T22:31:57.465Z"
   },
   {
    "duration": 745,
    "start_time": "2022-05-27T22:31:57.482Z"
   },
   {
    "duration": 3,
    "start_time": "2022-05-27T22:31:58.229Z"
   },
   {
    "duration": 20,
    "start_time": "2022-05-27T22:31:58.233Z"
   },
   {
    "duration": 12,
    "start_time": "2022-05-27T22:31:58.255Z"
   },
   {
    "duration": 73296,
    "start_time": "2022-05-27T22:31:58.268Z"
   },
   {
    "duration": 100576,
    "start_time": "2022-05-27T22:33:11.566Z"
   },
   {
    "duration": 5,
    "start_time": "2022-05-27T22:34:52.143Z"
   },
   {
    "duration": 14,
    "start_time": "2022-05-27T22:34:52.149Z"
   },
   {
    "duration": 17159,
    "start_time": "2022-05-27T22:34:52.165Z"
   },
   {
    "duration": 23,
    "start_time": "2022-05-27T22:35:09.327Z"
   },
   {
    "duration": 4,
    "start_time": "2022-05-27T22:35:09.352Z"
   },
   {
    "duration": 25,
    "start_time": "2022-05-27T22:35:09.358Z"
   },
   {
    "duration": 20,
    "start_time": "2022-05-27T22:35:09.385Z"
   },
   {
    "duration": 23,
    "start_time": "2022-05-27T22:35:09.407Z"
   },
   {
    "duration": 16,
    "start_time": "2022-05-27T22:35:09.432Z"
   },
   {
    "duration": 28,
    "start_time": "2022-05-27T22:35:09.450Z"
   },
   {
    "duration": 22,
    "start_time": "2022-05-27T22:35:09.480Z"
   },
   {
    "duration": 29,
    "start_time": "2022-05-27T22:35:09.503Z"
   },
   {
    "duration": 4,
    "start_time": "2022-05-27T22:35:42.546Z"
   },
   {
    "duration": 1229,
    "start_time": "2022-05-27T22:38:29.705Z"
   },
   {
    "duration": 779,
    "start_time": "2022-05-27T22:38:30.938Z"
   },
   {
    "duration": 8,
    "start_time": "2022-05-27T22:38:31.719Z"
   },
   {
    "duration": 8,
    "start_time": "2022-05-27T22:38:31.728Z"
   },
   {
    "duration": 6,
    "start_time": "2022-05-27T22:38:31.737Z"
   },
   {
    "duration": 23,
    "start_time": "2022-05-27T22:38:31.745Z"
   },
   {
    "duration": 13,
    "start_time": "2022-05-27T22:38:31.770Z"
   },
   {
    "duration": 27,
    "start_time": "2022-05-27T22:38:31.785Z"
   },
   {
    "duration": 40,
    "start_time": "2022-05-27T22:38:31.814Z"
   },
   {
    "duration": 145,
    "start_time": "2022-05-27T22:38:31.857Z"
   },
   {
    "duration": 8,
    "start_time": "2022-05-27T22:38:32.004Z"
   },
   {
    "duration": 177,
    "start_time": "2022-05-27T22:38:32.014Z"
   },
   {
    "duration": 149,
    "start_time": "2022-05-27T22:38:32.194Z"
   },
   {
    "duration": 155,
    "start_time": "2022-05-27T22:38:32.345Z"
   },
   {
    "duration": 242,
    "start_time": "2022-05-27T22:38:32.502Z"
   },
   {
    "duration": 204,
    "start_time": "2022-05-27T22:38:32.745Z"
   },
   {
    "duration": 8,
    "start_time": "2022-05-27T22:38:32.950Z"
   },
   {
    "duration": 9,
    "start_time": "2022-05-27T22:38:32.959Z"
   },
   {
    "duration": 17,
    "start_time": "2022-05-27T22:38:32.969Z"
   },
   {
    "duration": 16,
    "start_time": "2022-05-27T22:38:32.988Z"
   },
   {
    "duration": 743,
    "start_time": "2022-05-27T22:38:33.006Z"
   },
   {
    "duration": 4,
    "start_time": "2022-05-27T22:38:33.751Z"
   },
   {
    "duration": 12,
    "start_time": "2022-05-27T22:38:33.757Z"
   },
   {
    "duration": 16,
    "start_time": "2022-05-27T22:38:33.770Z"
   },
   {
    "duration": 73703,
    "start_time": "2022-05-27T22:38:33.787Z"
   },
   {
    "duration": 98849,
    "start_time": "2022-05-27T22:39:47.492Z"
   },
   {
    "duration": 5,
    "start_time": "2022-05-27T22:41:26.343Z"
   },
   {
    "duration": 25,
    "start_time": "2022-05-27T22:41:26.351Z"
   },
   {
    "duration": 16772,
    "start_time": "2022-05-27T22:41:26.378Z"
   },
   {
    "duration": 20,
    "start_time": "2022-05-27T22:41:43.152Z"
   },
   {
    "duration": 3,
    "start_time": "2022-05-27T22:41:43.174Z"
   },
   {
    "duration": 6,
    "start_time": "2022-05-27T22:41:43.178Z"
   },
   {
    "duration": 8,
    "start_time": "2022-05-27T22:41:43.185Z"
   },
   {
    "duration": 14,
    "start_time": "2022-05-27T22:41:43.194Z"
   },
   {
    "duration": 4,
    "start_time": "2022-05-27T22:41:43.227Z"
   },
   {
    "duration": 7,
    "start_time": "2022-05-27T22:41:43.232Z"
   },
   {
    "duration": 4,
    "start_time": "2022-05-27T22:41:43.240Z"
   },
   {
    "duration": 5,
    "start_time": "2022-05-27T22:41:43.246Z"
   },
   {
    "duration": 51,
    "start_time": "2022-05-28T09:31:59.181Z"
   },
   {
    "duration": 1540,
    "start_time": "2022-05-28T09:32:15.382Z"
   },
   {
    "duration": 1775,
    "start_time": "2022-05-28T09:32:16.924Z"
   },
   {
    "duration": 7,
    "start_time": "2022-05-28T09:32:21.995Z"
   },
   {
    "duration": 6,
    "start_time": "2022-05-28T09:32:22.986Z"
   },
   {
    "duration": 3,
    "start_time": "2022-05-28T09:32:24.182Z"
   },
   {
    "duration": 13,
    "start_time": "2022-05-28T09:32:24.589Z"
   },
   {
    "duration": 12,
    "start_time": "2022-05-28T09:32:29.215Z"
   },
   {
    "duration": 21,
    "start_time": "2022-05-28T09:32:30.132Z"
   },
   {
    "duration": 26,
    "start_time": "2022-05-28T09:32:34.371Z"
   },
   {
    "duration": 110,
    "start_time": "2022-05-28T09:32:37.904Z"
   },
   {
    "duration": 9,
    "start_time": "2022-05-28T09:32:40.805Z"
   },
   {
    "duration": 152,
    "start_time": "2022-05-28T09:32:41.585Z"
   },
   {
    "duration": 148,
    "start_time": "2022-05-28T09:32:58.178Z"
   },
   {
    "duration": 143,
    "start_time": "2022-05-28T09:32:59.578Z"
   },
   {
    "duration": 313,
    "start_time": "2022-05-28T09:44:58.986Z"
   },
   {
    "duration": 300,
    "start_time": "2022-05-28T09:49:10.571Z"
   },
   {
    "duration": 372,
    "start_time": "2022-05-28T09:49:20.279Z"
   },
   {
    "duration": 301,
    "start_time": "2022-05-28T09:49:27.895Z"
   },
   {
    "duration": 301,
    "start_time": "2022-05-28T09:50:20.560Z"
   },
   {
    "duration": 305,
    "start_time": "2022-05-28T09:50:30.314Z"
   },
   {
    "duration": 400,
    "start_time": "2022-05-28T09:50:39.902Z"
   },
   {
    "duration": 282,
    "start_time": "2022-05-28T09:50:48.108Z"
   },
   {
    "duration": 346,
    "start_time": "2022-05-28T09:50:52.212Z"
   },
   {
    "duration": 342,
    "start_time": "2022-05-28T09:51:25.173Z"
   },
   {
    "duration": 27,
    "start_time": "2022-05-28T09:52:04.140Z"
   },
   {
    "duration": 126,
    "start_time": "2022-05-28T09:55:56.280Z"
   },
   {
    "duration": 72,
    "start_time": "2022-05-28T09:57:19.448Z"
   },
   {
    "duration": 11,
    "start_time": "2022-05-28T09:57:29.507Z"
   },
   {
    "duration": 19,
    "start_time": "2022-05-28T09:57:30.398Z"
   },
   {
    "duration": 679,
    "start_time": "2022-05-28T09:57:49.619Z"
   },
   {
    "duration": 457,
    "start_time": "2022-05-28T10:00:59.993Z"
   },
   {
    "duration": 601,
    "start_time": "2022-05-28T10:01:19.033Z"
   },
   {
    "duration": 486,
    "start_time": "2022-05-28T10:01:29.002Z"
   },
   {
    "duration": 484,
    "start_time": "2022-05-28T10:01:51.561Z"
   },
   {
    "duration": 525,
    "start_time": "2022-05-28T10:02:57.307Z"
   },
   {
    "duration": 534,
    "start_time": "2022-05-28T10:03:07.140Z"
   },
   {
    "duration": 502,
    "start_time": "2022-05-28T10:03:19.799Z"
   },
   {
    "duration": 494,
    "start_time": "2022-05-28T10:03:30.876Z"
   },
   {
    "duration": 737,
    "start_time": "2022-05-28T10:03:38.715Z"
   },
   {
    "duration": 5,
    "start_time": "2022-05-28T10:08:08.040Z"
   },
   {
    "duration": 4,
    "start_time": "2022-05-28T10:08:27.840Z"
   },
   {
    "duration": 3,
    "start_time": "2022-05-28T10:15:10.654Z"
   },
   {
    "duration": 624,
    "start_time": "2022-05-28T10:15:10.864Z"
   },
   {
    "duration": 6,
    "start_time": "2022-05-28T10:15:11.489Z"
   },
   {
    "duration": 4,
    "start_time": "2022-05-28T10:15:11.914Z"
   },
   {
    "duration": 3,
    "start_time": "2022-05-28T10:15:12.434Z"
   },
   {
    "duration": 13,
    "start_time": "2022-05-28T10:15:12.574Z"
   },
   {
    "duration": 14,
    "start_time": "2022-05-28T10:15:13.493Z"
   },
   {
    "duration": 18,
    "start_time": "2022-05-28T10:15:13.835Z"
   },
   {
    "duration": 22,
    "start_time": "2022-05-28T10:15:14.374Z"
   },
   {
    "duration": 108,
    "start_time": "2022-05-28T10:15:18.032Z"
   },
   {
    "duration": 9,
    "start_time": "2022-05-28T10:15:18.936Z"
   },
   {
    "duration": 144,
    "start_time": "2022-05-28T10:15:19.104Z"
   },
   {
    "duration": 149,
    "start_time": "2022-05-28T10:15:19.294Z"
   },
   {
    "duration": 142,
    "start_time": "2022-05-28T10:15:19.465Z"
   },
   {
    "duration": 367,
    "start_time": "2022-05-28T10:15:21.806Z"
   },
   {
    "duration": 8,
    "start_time": "2022-05-28T10:15:22.396Z"
   },
   {
    "duration": 8,
    "start_time": "2022-05-28T10:15:22.715Z"
   },
   {
    "duration": 12,
    "start_time": "2022-05-28T10:15:26.411Z"
   },
   {
    "duration": 18,
    "start_time": "2022-05-28T10:15:26.508Z"
   },
   {
    "duration": 515,
    "start_time": "2022-05-28T10:15:26.692Z"
   },
   {
    "duration": 3,
    "start_time": "2022-05-28T10:19:53.343Z"
   },
   {
    "duration": 3,
    "start_time": "2022-05-28T10:21:07.276Z"
   },
   {
    "duration": 7,
    "start_time": "2022-05-28T10:21:12.827Z"
   },
   {
    "duration": 4,
    "start_time": "2022-05-28T10:21:28.542Z"
   },
   {
    "duration": 9,
    "start_time": "2022-05-28T10:21:30.516Z"
   },
   {
    "duration": 16392,
    "start_time": "2022-05-28T10:21:31.816Z"
   },
   {
    "duration": 21,
    "start_time": "2022-05-28T10:21:48.210Z"
   },
   {
    "duration": 4,
    "start_time": "2022-05-28T10:21:48.233Z"
   },
   {
    "duration": 4,
    "start_time": "2022-05-28T10:21:48.239Z"
   },
   {
    "duration": 14,
    "start_time": "2022-05-28T10:21:48.244Z"
   },
   {
    "duration": 15,
    "start_time": "2022-05-28T10:21:48.260Z"
   },
   {
    "duration": 3,
    "start_time": "2022-05-28T10:21:48.276Z"
   },
   {
    "duration": 5,
    "start_time": "2022-05-28T10:21:48.281Z"
   },
   {
    "duration": 4,
    "start_time": "2022-05-28T10:21:48.288Z"
   },
   {
    "duration": 5,
    "start_time": "2022-05-28T10:21:48.293Z"
   },
   {
    "duration": 4,
    "start_time": "2022-05-28T10:26:16.483Z"
   },
   {
    "duration": 72855,
    "start_time": "2022-05-28T10:26:22.084Z"
   },
   {
    "duration": 4,
    "start_time": "2022-05-28T10:47:25.888Z"
   },
   {
    "duration": 73048,
    "start_time": "2022-05-28T10:47:27.098Z"
   },
   {
    "duration": 9,
    "start_time": "2022-05-28T10:49:00.015Z"
   },
   {
    "duration": 51,
    "start_time": "2022-05-28T10:49:32.065Z"
   },
   {
    "duration": 4,
    "start_time": "2022-05-28T10:49:38.296Z"
   },
   {
    "duration": 573,
    "start_time": "2022-05-28T10:49:42.049Z"
   },
   {
    "duration": 4,
    "start_time": "2022-05-28T10:50:55.396Z"
   },
   {
    "duration": 8,
    "start_time": "2022-05-28T10:50:56.034Z"
   },
   {
    "duration": 73016,
    "start_time": "2022-05-28T10:50:58.444Z"
   },
   {
    "duration": 10,
    "start_time": "2022-05-28T11:03:30.575Z"
   },
   {
    "duration": 4,
    "start_time": "2022-05-28T11:03:37.869Z"
   },
   {
    "duration": 3,
    "start_time": "2022-05-28T11:07:34.639Z"
   },
   {
    "duration": 4,
    "start_time": "2022-05-28T11:07:45.200Z"
   },
   {
    "duration": 10,
    "start_time": "2022-05-28T11:07:45.339Z"
   },
   {
    "duration": 16779,
    "start_time": "2022-05-28T11:07:45.679Z"
   },
   {
    "duration": 32,
    "start_time": "2022-05-28T11:08:02.459Z"
   },
   {
    "duration": 3,
    "start_time": "2022-05-28T11:08:02.493Z"
   },
   {
    "duration": 5,
    "start_time": "2022-05-28T11:08:02.498Z"
   },
   {
    "duration": 8,
    "start_time": "2022-05-28T11:08:02.504Z"
   },
   {
    "duration": 16,
    "start_time": "2022-05-28T11:08:02.513Z"
   },
   {
    "duration": 12,
    "start_time": "2022-05-28T11:08:02.530Z"
   },
   {
    "duration": 0,
    "start_time": "2022-05-28T11:08:02.543Z"
   },
   {
    "duration": 0,
    "start_time": "2022-05-28T11:08:02.545Z"
   },
   {
    "duration": 0,
    "start_time": "2022-05-28T11:08:02.545Z"
   },
   {
    "duration": 3,
    "start_time": "2022-05-28T11:08:44.539Z"
   },
   {
    "duration": 11,
    "start_time": "2022-05-28T11:08:54.522Z"
   },
   {
    "duration": 12,
    "start_time": "2022-05-28T11:09:15.783Z"
   },
   {
    "duration": 3,
    "start_time": "2022-05-28T11:10:03.446Z"
   },
   {
    "duration": 4,
    "start_time": "2022-05-28T11:10:10.640Z"
   },
   {
    "duration": 4,
    "start_time": "2022-05-28T11:10:11.928Z"
   },
   {
    "duration": 5,
    "start_time": "2022-05-28T11:10:12.045Z"
   },
   {
    "duration": 3,
    "start_time": "2022-05-28T11:10:12.947Z"
   },
   {
    "duration": 3,
    "start_time": "2022-05-28T11:10:13.948Z"
   },
   {
    "duration": 3,
    "start_time": "2022-05-28T11:10:49.008Z"
   },
   {
    "duration": 5,
    "start_time": "2022-05-28T11:10:58.882Z"
   },
   {
    "duration": 5,
    "start_time": "2022-05-28T11:10:59.599Z"
   },
   {
    "duration": 3,
    "start_time": "2022-05-28T11:11:00.159Z"
   },
   {
    "duration": 8,
    "start_time": "2022-05-28T11:11:16.959Z"
   },
   {
    "duration": 2,
    "start_time": "2022-05-28T11:12:20.161Z"
   },
   {
    "duration": 4,
    "start_time": "2022-05-28T11:12:27.462Z"
   },
   {
    "duration": 4,
    "start_time": "2022-05-28T11:12:28.122Z"
   },
   {
    "duration": 7,
    "start_time": "2022-05-28T11:12:28.422Z"
   },
   {
    "duration": 2,
    "start_time": "2022-05-28T11:12:31.012Z"
   },
   {
    "duration": 8,
    "start_time": "2022-05-28T11:13:08.181Z"
   },
   {
    "duration": 4,
    "start_time": "2022-05-28T11:13:18.242Z"
   },
   {
    "duration": 4,
    "start_time": "2022-05-28T11:13:18.741Z"
   },
   {
    "duration": 7,
    "start_time": "2022-05-28T11:13:23.258Z"
   },
   {
    "duration": 9,
    "start_time": "2022-05-28T11:13:32.573Z"
   },
   {
    "duration": 3,
    "start_time": "2022-05-28T11:14:10.698Z"
   },
   {
    "duration": 4,
    "start_time": "2022-05-28T11:14:15.202Z"
   },
   {
    "duration": 4,
    "start_time": "2022-05-28T11:14:15.552Z"
   },
   {
    "duration": 2,
    "start_time": "2022-05-28T11:14:15.861Z"
   },
   {
    "duration": 3,
    "start_time": "2022-05-28T11:14:16.831Z"
   },
   {
    "duration": 3,
    "start_time": "2022-05-28T11:14:25.921Z"
   },
   {
    "duration": 3,
    "start_time": "2022-05-28T11:14:27.562Z"
   },
   {
    "duration": 3,
    "start_time": "2022-05-28T11:14:27.729Z"
   },
   {
    "duration": 1130,
    "start_time": "2022-05-28T11:17:36.172Z"
   },
   {
    "duration": 732,
    "start_time": "2022-05-28T11:17:37.305Z"
   },
   {
    "duration": 6,
    "start_time": "2022-05-28T11:17:38.039Z"
   },
   {
    "duration": 21,
    "start_time": "2022-05-28T11:17:38.046Z"
   },
   {
    "duration": 17,
    "start_time": "2022-05-28T11:17:38.069Z"
   },
   {
    "duration": 24,
    "start_time": "2022-05-28T11:17:38.087Z"
   },
   {
    "duration": 15,
    "start_time": "2022-05-28T11:17:38.112Z"
   },
   {
    "duration": 32,
    "start_time": "2022-05-28T11:17:38.129Z"
   },
   {
    "duration": 25,
    "start_time": "2022-05-28T11:17:38.162Z"
   },
   {
    "duration": 114,
    "start_time": "2022-05-28T11:17:38.189Z"
   },
   {
    "duration": 7,
    "start_time": "2022-05-28T11:17:38.305Z"
   },
   {
    "duration": 172,
    "start_time": "2022-05-28T11:17:38.314Z"
   },
   {
    "duration": 149,
    "start_time": "2022-05-28T11:17:38.488Z"
   },
   {
    "duration": 159,
    "start_time": "2022-05-28T11:17:38.638Z"
   },
   {
    "duration": 381,
    "start_time": "2022-05-28T11:17:38.799Z"
   },
   {
    "duration": 8,
    "start_time": "2022-05-28T11:17:39.182Z"
   },
   {
    "duration": 7,
    "start_time": "2022-05-28T11:17:39.191Z"
   },
   {
    "duration": 10,
    "start_time": "2022-05-28T11:17:39.200Z"
   },
   {
    "duration": 18,
    "start_time": "2022-05-28T11:17:39.211Z"
   },
   {
    "duration": 512,
    "start_time": "2022-05-28T11:17:39.230Z"
   },
   {
    "duration": 3,
    "start_time": "2022-05-28T11:17:39.743Z"
   },
   {
    "duration": 12,
    "start_time": "2022-05-28T11:17:39.748Z"
   },
   {
    "duration": 16,
    "start_time": "2022-05-28T11:17:39.761Z"
   },
   {
    "duration": 73943,
    "start_time": "2022-05-28T11:17:39.779Z"
   },
   {
    "duration": 98578,
    "start_time": "2022-05-28T11:18:53.723Z"
   },
   {
    "duration": 3,
    "start_time": "2022-05-28T11:20:32.303Z"
   },
   {
    "duration": 10,
    "start_time": "2022-05-28T11:20:32.308Z"
   },
   {
    "duration": 16665,
    "start_time": "2022-05-28T11:20:32.321Z"
   },
   {
    "duration": 22,
    "start_time": "2022-05-28T11:20:48.987Z"
   },
   {
    "duration": 3,
    "start_time": "2022-05-28T11:20:49.010Z"
   },
   {
    "duration": 5,
    "start_time": "2022-05-28T11:20:49.014Z"
   },
   {
    "duration": 6,
    "start_time": "2022-05-28T11:20:49.020Z"
   },
   {
    "duration": 17,
    "start_time": "2022-05-28T11:20:49.028Z"
   },
   {
    "duration": 5,
    "start_time": "2022-05-28T11:20:49.046Z"
   },
   {
    "duration": 24,
    "start_time": "2022-05-28T11:20:49.052Z"
   },
   {
    "duration": 6,
    "start_time": "2022-05-28T11:20:49.077Z"
   },
   {
    "duration": 4,
    "start_time": "2022-05-28T11:30:14.471Z"
   },
   {
    "duration": 150,
    "start_time": "2022-05-28T11:30:17.670Z"
   },
   {
    "duration": 5,
    "start_time": "2022-05-28T11:40:03.440Z"
   },
   {
    "duration": 96,
    "start_time": "2022-05-28T11:40:04.240Z"
   },
   {
    "duration": 4,
    "start_time": "2022-05-28T11:47:21.839Z"
   },
   {
    "duration": 52,
    "start_time": "2022-05-28T11:47:31.075Z"
   },
   {
    "duration": 4,
    "start_time": "2022-05-28T11:47:47.358Z"
   },
   {
    "duration": 5,
    "start_time": "2022-05-28T11:47:57.440Z"
   },
   {
    "duration": 49,
    "start_time": "2022-05-28T11:47:58.551Z"
   },
   {
    "duration": 1129,
    "start_time": "2022-05-28T11:48:25.305Z"
   },
   {
    "duration": 805,
    "start_time": "2022-05-28T11:48:26.438Z"
   },
   {
    "duration": 9,
    "start_time": "2022-05-28T11:48:27.245Z"
   },
   {
    "duration": 9,
    "start_time": "2022-05-28T11:48:27.256Z"
   },
   {
    "duration": 4,
    "start_time": "2022-05-28T11:48:27.274Z"
   },
   {
    "duration": 24,
    "start_time": "2022-05-28T11:48:27.279Z"
   },
   {
    "duration": 17,
    "start_time": "2022-05-28T11:48:27.305Z"
   },
   {
    "duration": 27,
    "start_time": "2022-05-28T11:48:27.323Z"
   },
   {
    "duration": 42,
    "start_time": "2022-05-28T11:48:27.352Z"
   },
   {
    "duration": 133,
    "start_time": "2022-05-28T11:48:27.396Z"
   },
   {
    "duration": 8,
    "start_time": "2022-05-28T11:48:27.530Z"
   },
   {
    "duration": 202,
    "start_time": "2022-05-28T11:48:27.539Z"
   },
   {
    "duration": 160,
    "start_time": "2022-05-28T11:48:27.742Z"
   },
   {
    "duration": 162,
    "start_time": "2022-05-28T11:48:27.905Z"
   },
   {
    "duration": 375,
    "start_time": "2022-05-28T11:48:28.069Z"
   },
   {
    "duration": 8,
    "start_time": "2022-05-28T11:48:28.446Z"
   },
   {
    "duration": 20,
    "start_time": "2022-05-28T11:48:28.455Z"
   },
   {
    "duration": 10,
    "start_time": "2022-05-28T11:48:28.477Z"
   },
   {
    "duration": 16,
    "start_time": "2022-05-28T11:48:28.488Z"
   },
   {
    "duration": 523,
    "start_time": "2022-05-28T11:48:28.506Z"
   },
   {
    "duration": 3,
    "start_time": "2022-05-28T11:48:29.030Z"
   },
   {
    "duration": 13,
    "start_time": "2022-05-28T11:48:29.034Z"
   },
   {
    "duration": 5,
    "start_time": "2022-05-28T11:48:29.049Z"
   },
   {
    "duration": 120,
    "start_time": "2022-05-28T11:48:29.055Z"
   },
   {
    "duration": 103244,
    "start_time": "2022-05-28T11:48:29.177Z"
   },
   {
    "duration": 4,
    "start_time": "2022-05-28T11:50:12.423Z"
   },
   {
    "duration": 13,
    "start_time": "2022-05-28T11:50:12.428Z"
   },
   {
    "duration": 16844,
    "start_time": "2022-05-28T11:50:12.443Z"
   },
   {
    "duration": 20,
    "start_time": "2022-05-28T11:50:29.289Z"
   },
   {
    "duration": 3,
    "start_time": "2022-05-28T11:50:29.311Z"
   },
   {
    "duration": 4,
    "start_time": "2022-05-28T11:50:29.316Z"
   },
   {
    "duration": 6,
    "start_time": "2022-05-28T11:50:29.322Z"
   },
   {
    "duration": 16,
    "start_time": "2022-05-28T11:50:29.329Z"
   },
   {
    "duration": 5,
    "start_time": "2022-05-28T11:50:29.346Z"
   },
   {
    "duration": 23,
    "start_time": "2022-05-28T11:50:29.352Z"
   },
   {
    "duration": 4,
    "start_time": "2022-05-28T11:50:29.376Z"
   },
   {
    "duration": 5484,
    "start_time": "2022-05-28T12:09:14.037Z"
   },
   {
    "duration": 4,
    "start_time": "2022-05-28T12:09:25.506Z"
   },
   {
    "duration": 11,
    "start_time": "2022-05-28T12:10:39.051Z"
   },
   {
    "duration": 5,
    "start_time": "2022-05-28T12:10:43.612Z"
   },
   {
    "duration": 4,
    "start_time": "2022-05-28T12:10:49.164Z"
   },
   {
    "duration": 5,
    "start_time": "2022-05-28T12:10:54.899Z"
   },
   {
    "duration": 4,
    "start_time": "2022-05-28T12:11:21.750Z"
   },
   {
    "duration": 4,
    "start_time": "2022-05-28T12:11:28.103Z"
   },
   {
    "duration": 4,
    "start_time": "2022-05-28T12:11:47.782Z"
   },
   {
    "duration": 6,
    "start_time": "2022-05-28T12:11:54.221Z"
   },
   {
    "duration": 31,
    "start_time": "2022-05-28T12:12:19.566Z"
   },
   {
    "duration": 4,
    "start_time": "2022-05-28T12:12:23.974Z"
   },
   {
    "duration": 18,
    "start_time": "2022-05-28T12:28:36.979Z"
   },
   {
    "duration": 4,
    "start_time": "2022-05-28T12:29:05.096Z"
   },
   {
    "duration": 10,
    "start_time": "2022-05-28T12:29:11.286Z"
   },
   {
    "duration": 23,
    "start_time": "2022-05-28T12:30:46.753Z"
   },
   {
    "duration": 12,
    "start_time": "2022-05-28T12:35:19.998Z"
   },
   {
    "duration": 4,
    "start_time": "2022-05-28T12:35:41.681Z"
   },
   {
    "duration": 21,
    "start_time": "2022-05-28T12:35:53.941Z"
   },
   {
    "duration": 7,
    "start_time": "2022-05-28T12:41:24.090Z"
   },
   {
    "duration": 16,
    "start_time": "2022-05-28T12:41:25.823Z"
   },
   {
    "duration": 8,
    "start_time": "2022-05-28T12:42:01.892Z"
   },
   {
    "duration": 1185,
    "start_time": "2022-05-28T12:42:15.801Z"
   },
   {
    "duration": 842,
    "start_time": "2022-05-28T12:42:16.991Z"
   },
   {
    "duration": 6,
    "start_time": "2022-05-28T12:42:17.835Z"
   },
   {
    "duration": 8,
    "start_time": "2022-05-28T12:42:17.843Z"
   },
   {
    "duration": 5,
    "start_time": "2022-05-28T12:42:17.854Z"
   },
   {
    "duration": 29,
    "start_time": "2022-05-28T12:42:17.860Z"
   },
   {
    "duration": 15,
    "start_time": "2022-05-28T12:42:17.891Z"
   },
   {
    "duration": 24,
    "start_time": "2022-05-28T12:42:17.908Z"
   },
   {
    "duration": 47,
    "start_time": "2022-05-28T12:42:17.933Z"
   },
   {
    "duration": 155,
    "start_time": "2022-05-28T12:42:17.982Z"
   },
   {
    "duration": 8,
    "start_time": "2022-05-28T12:42:18.139Z"
   },
   {
    "duration": 198,
    "start_time": "2022-05-28T12:42:18.149Z"
   },
   {
    "duration": 187,
    "start_time": "2022-05-28T12:42:18.348Z"
   },
   {
    "duration": 180,
    "start_time": "2022-05-28T12:42:18.537Z"
   },
   {
    "duration": 450,
    "start_time": "2022-05-28T12:42:18.719Z"
   },
   {
    "duration": 14,
    "start_time": "2022-05-28T12:42:19.171Z"
   },
   {
    "duration": 20,
    "start_time": "2022-05-28T12:42:19.187Z"
   },
   {
    "duration": 12,
    "start_time": "2022-05-28T12:42:19.209Z"
   },
   {
    "duration": 19,
    "start_time": "2022-05-28T12:42:19.223Z"
   },
   {
    "duration": 591,
    "start_time": "2022-05-28T12:42:19.244Z"
   },
   {
    "duration": 4,
    "start_time": "2022-05-28T12:42:19.837Z"
   },
   {
    "duration": 11,
    "start_time": "2022-05-28T12:42:19.843Z"
   },
   {
    "duration": 156,
    "start_time": "2022-05-28T12:42:19.856Z"
   },
   {
    "duration": 0,
    "start_time": "2022-05-28T12:42:20.013Z"
   },
   {
    "duration": 0,
    "start_time": "2022-05-28T12:42:20.015Z"
   },
   {
    "duration": 0,
    "start_time": "2022-05-28T12:42:20.016Z"
   },
   {
    "duration": 0,
    "start_time": "2022-05-28T12:42:20.017Z"
   },
   {
    "duration": 0,
    "start_time": "2022-05-28T12:42:20.018Z"
   },
   {
    "duration": 0,
    "start_time": "2022-05-28T12:42:20.020Z"
   },
   {
    "duration": 0,
    "start_time": "2022-05-28T12:42:20.021Z"
   },
   {
    "duration": 0,
    "start_time": "2022-05-28T12:42:20.022Z"
   },
   {
    "duration": 0,
    "start_time": "2022-05-28T12:42:20.022Z"
   },
   {
    "duration": 0,
    "start_time": "2022-05-28T12:42:20.024Z"
   },
   {
    "duration": 0,
    "start_time": "2022-05-28T12:42:20.025Z"
   },
   {
    "duration": 0,
    "start_time": "2022-05-28T12:42:20.026Z"
   },
   {
    "duration": 0,
    "start_time": "2022-05-28T12:42:20.027Z"
   },
   {
    "duration": 0,
    "start_time": "2022-05-28T12:42:20.028Z"
   },
   {
    "duration": 0,
    "start_time": "2022-05-28T12:42:20.029Z"
   },
   {
    "duration": 6,
    "start_time": "2022-05-28T12:46:29.575Z"
   },
   {
    "duration": 14,
    "start_time": "2022-05-28T12:46:34.328Z"
   },
   {
    "duration": 12,
    "start_time": "2022-05-28T12:49:30.874Z"
   },
   {
    "duration": 11,
    "start_time": "2022-05-28T12:49:46.982Z"
   },
   {
    "duration": 3,
    "start_time": "2022-05-28T12:50:01.393Z"
   },
   {
    "duration": 12,
    "start_time": "2022-05-28T12:50:08.643Z"
   },
   {
    "duration": 1138,
    "start_time": "2022-05-28T12:50:16.124Z"
   },
   {
    "duration": 805,
    "start_time": "2022-05-28T12:50:17.266Z"
   },
   {
    "duration": 7,
    "start_time": "2022-05-28T12:50:18.076Z"
   },
   {
    "duration": 5,
    "start_time": "2022-05-28T12:50:18.085Z"
   },
   {
    "duration": 5,
    "start_time": "2022-05-28T12:50:18.091Z"
   },
   {
    "duration": 17,
    "start_time": "2022-05-28T12:50:18.097Z"
   },
   {
    "duration": 15,
    "start_time": "2022-05-28T12:50:18.116Z"
   },
   {
    "duration": 48,
    "start_time": "2022-05-28T12:50:18.133Z"
   },
   {
    "duration": 28,
    "start_time": "2022-05-28T12:50:18.183Z"
   },
   {
    "duration": 160,
    "start_time": "2022-05-28T12:50:18.214Z"
   },
   {
    "duration": 11,
    "start_time": "2022-05-28T12:50:18.377Z"
   },
   {
    "duration": 186,
    "start_time": "2022-05-28T12:50:18.390Z"
   },
   {
    "duration": 162,
    "start_time": "2022-05-28T12:50:18.578Z"
   },
   {
    "duration": 185,
    "start_time": "2022-05-28T12:50:18.742Z"
   },
   {
    "duration": 380,
    "start_time": "2022-05-28T12:50:18.929Z"
   },
   {
    "duration": 8,
    "start_time": "2022-05-28T12:50:19.311Z"
   },
   {
    "duration": 8,
    "start_time": "2022-05-28T12:50:19.320Z"
   },
   {
    "duration": 11,
    "start_time": "2022-05-28T12:50:19.329Z"
   },
   {
    "duration": 41,
    "start_time": "2022-05-28T12:50:19.342Z"
   },
   {
    "duration": 525,
    "start_time": "2022-05-28T12:50:19.384Z"
   },
   {
    "duration": 3,
    "start_time": "2022-05-28T12:50:19.911Z"
   },
   {
    "duration": 15,
    "start_time": "2022-05-28T12:50:19.915Z"
   },
   {
    "duration": 122,
    "start_time": "2022-05-28T12:50:19.933Z"
   },
   {
    "duration": 0,
    "start_time": "2022-05-28T12:50:20.057Z"
   },
   {
    "duration": 0,
    "start_time": "2022-05-28T12:50:20.058Z"
   },
   {
    "duration": 0,
    "start_time": "2022-05-28T12:50:20.059Z"
   },
   {
    "duration": 0,
    "start_time": "2022-05-28T12:50:20.061Z"
   },
   {
    "duration": 0,
    "start_time": "2022-05-28T12:50:20.063Z"
   },
   {
    "duration": 0,
    "start_time": "2022-05-28T12:50:20.064Z"
   },
   {
    "duration": 0,
    "start_time": "2022-05-28T12:50:20.075Z"
   },
   {
    "duration": 0,
    "start_time": "2022-05-28T12:50:20.076Z"
   },
   {
    "duration": 0,
    "start_time": "2022-05-28T12:50:20.077Z"
   },
   {
    "duration": 0,
    "start_time": "2022-05-28T12:50:20.078Z"
   },
   {
    "duration": 0,
    "start_time": "2022-05-28T12:50:20.079Z"
   },
   {
    "duration": 0,
    "start_time": "2022-05-28T12:50:20.080Z"
   },
   {
    "duration": 0,
    "start_time": "2022-05-28T12:50:20.081Z"
   },
   {
    "duration": 0,
    "start_time": "2022-05-28T12:50:20.083Z"
   },
   {
    "duration": 0,
    "start_time": "2022-05-28T12:50:20.083Z"
   },
   {
    "duration": 10,
    "start_time": "2022-05-28T12:54:11.697Z"
   },
   {
    "duration": 4,
    "start_time": "2022-05-28T12:54:24.656Z"
   },
   {
    "duration": 4,
    "start_time": "2022-05-28T12:54:29.002Z"
   },
   {
    "duration": 10,
    "start_time": "2022-05-28T12:55:32.232Z"
   },
   {
    "duration": 3,
    "start_time": "2022-05-28T12:55:32.839Z"
   },
   {
    "duration": 6,
    "start_time": "2022-05-28T12:55:33.001Z"
   },
   {
    "duration": 19,
    "start_time": "2022-05-28T12:55:42.801Z"
   },
   {
    "duration": 13,
    "start_time": "2022-05-28T12:57:06.297Z"
   },
   {
    "duration": 5,
    "start_time": "2022-05-28T13:09:41.419Z"
   },
   {
    "duration": 14,
    "start_time": "2022-05-28T13:09:47.518Z"
   },
   {
    "duration": 11,
    "start_time": "2022-05-28T13:09:55.007Z"
   },
   {
    "duration": 4,
    "start_time": "2022-05-28T13:09:55.506Z"
   },
   {
    "duration": 4,
    "start_time": "2022-05-28T13:09:55.927Z"
   },
   {
    "duration": 17,
    "start_time": "2022-05-28T13:09:57.259Z"
   },
   {
    "duration": 3,
    "start_time": "2022-05-28T13:10:10.267Z"
   },
   {
    "duration": 4,
    "start_time": "2022-05-28T13:10:10.803Z"
   },
   {
    "duration": 17,
    "start_time": "2022-05-28T13:10:11.802Z"
   },
   {
    "duration": 11,
    "start_time": "2022-05-28T13:14:24.838Z"
   },
   {
    "duration": 16,
    "start_time": "2022-05-28T13:15:02.204Z"
   },
   {
    "duration": 2,
    "start_time": "2022-05-28T13:15:34.600Z"
   },
   {
    "duration": 3,
    "start_time": "2022-05-28T13:15:34.802Z"
   },
   {
    "duration": 15,
    "start_time": "2022-05-28T13:15:35.631Z"
   },
   {
    "duration": 10,
    "start_time": "2022-05-28T13:16:29.297Z"
   },
   {
    "duration": 35,
    "start_time": "2022-05-28T13:16:32.653Z"
   },
   {
    "duration": 3,
    "start_time": "2022-05-28T13:18:27.354Z"
   },
   {
    "duration": 8,
    "start_time": "2022-05-28T13:18:38.663Z"
   },
   {
    "duration": 3,
    "start_time": "2022-05-28T13:18:38.861Z"
   },
   {
    "duration": 4,
    "start_time": "2022-05-28T13:18:39.404Z"
   },
   {
    "duration": 12,
    "start_time": "2022-05-28T13:18:40.263Z"
   },
   {
    "duration": 11,
    "start_time": "2022-05-28T13:19:02.307Z"
   },
   {
    "duration": 3,
    "start_time": "2022-05-28T13:22:30.822Z"
   },
   {
    "duration": 79,
    "start_time": "2022-05-28T13:22:35.759Z"
   },
   {
    "duration": 10,
    "start_time": "2022-05-28T13:22:39.240Z"
   },
   {
    "duration": 12,
    "start_time": "2022-05-28T13:22:40.449Z"
   },
   {
    "duration": 6,
    "start_time": "2022-05-28T13:22:57.922Z"
   },
   {
    "duration": 3,
    "start_time": "2022-05-28T13:23:06.815Z"
   },
   {
    "duration": 4,
    "start_time": "2022-05-28T13:23:14.631Z"
   },
   {
    "duration": 4,
    "start_time": "2022-05-28T13:23:26.014Z"
   },
   {
    "duration": 10,
    "start_time": "2022-05-28T13:23:30.644Z"
   },
   {
    "duration": 3,
    "start_time": "2022-05-28T13:23:31.632Z"
   },
   {
    "duration": 5,
    "start_time": "2022-05-28T13:23:31.998Z"
   },
   {
    "duration": 15,
    "start_time": "2022-05-28T13:23:33.035Z"
   },
   {
    "duration": 12,
    "start_time": "2022-05-28T13:24:35.926Z"
   },
   {
    "duration": 5078,
    "start_time": "2022-05-28T13:25:44.195Z"
   },
   {
    "duration": 4,
    "start_time": "2022-05-28T13:26:09.078Z"
   },
   {
    "duration": 9,
    "start_time": "2022-05-28T13:26:14.313Z"
   },
   {
    "duration": 2,
    "start_time": "2022-05-28T13:26:15.196Z"
   },
   {
    "duration": 5,
    "start_time": "2022-05-28T13:26:15.713Z"
   },
   {
    "duration": 4890,
    "start_time": "2022-05-28T13:26:16.416Z"
   },
   {
    "duration": 3,
    "start_time": "2022-05-28T13:29:05.770Z"
   },
   {
    "duration": 4,
    "start_time": "2022-05-28T13:29:06.473Z"
   },
   {
    "duration": 5240,
    "start_time": "2022-05-28T13:29:10.153Z"
   },
   {
    "duration": 9,
    "start_time": "2022-05-28T13:29:27.312Z"
   },
   {
    "duration": 4,
    "start_time": "2022-05-28T13:29:28.117Z"
   },
   {
    "duration": 4,
    "start_time": "2022-05-28T13:29:28.460Z"
   },
   {
    "duration": 4,
    "start_time": "2022-05-28T13:29:37.222Z"
   },
   {
    "duration": 7,
    "start_time": "2022-05-28T13:29:42.097Z"
   },
   {
    "duration": 3,
    "start_time": "2022-05-28T13:29:42.549Z"
   },
   {
    "duration": 5,
    "start_time": "2022-05-28T13:29:42.924Z"
   },
   {
    "duration": 5430,
    "start_time": "2022-05-28T13:29:43.715Z"
   },
   {
    "duration": 4861,
    "start_time": "2022-05-28T13:34:48.997Z"
   },
   {
    "duration": 4,
    "start_time": "2022-05-28T13:35:56.197Z"
   },
   {
    "duration": 6,
    "start_time": "2022-05-28T13:36:00.009Z"
   },
   {
    "duration": 3,
    "start_time": "2022-05-28T13:36:00.842Z"
   },
   {
    "duration": 4,
    "start_time": "2022-05-28T13:36:01.286Z"
   },
   {
    "duration": 4801,
    "start_time": "2022-05-28T13:36:03.916Z"
   },
   {
    "duration": 3,
    "start_time": "2022-05-28T13:36:39.307Z"
   },
   {
    "duration": 8,
    "start_time": "2022-05-28T13:36:42.741Z"
   },
   {
    "duration": 2,
    "start_time": "2022-05-28T13:36:43.409Z"
   },
   {
    "duration": 3,
    "start_time": "2022-05-28T13:36:43.697Z"
   },
   {
    "duration": 4867,
    "start_time": "2022-05-28T13:36:44.336Z"
   },
   {
    "duration": 3,
    "start_time": "2022-05-28T13:41:58.527Z"
   },
   {
    "duration": 7,
    "start_time": "2022-05-28T13:42:03.828Z"
   },
   {
    "duration": 3,
    "start_time": "2022-05-28T13:42:04.655Z"
   },
   {
    "duration": 3,
    "start_time": "2022-05-28T13:42:04.827Z"
   },
   {
    "duration": 4830,
    "start_time": "2022-05-28T13:42:05.731Z"
   },
   {
    "duration": 4,
    "start_time": "2022-05-28T13:42:32.137Z"
   },
   {
    "duration": 7,
    "start_time": "2022-05-28T13:42:36.488Z"
   },
   {
    "duration": 2,
    "start_time": "2022-05-28T13:42:37.267Z"
   },
   {
    "duration": 3,
    "start_time": "2022-05-28T13:42:37.764Z"
   },
   {
    "duration": 5346,
    "start_time": "2022-05-28T13:42:38.336Z"
   },
   {
    "duration": 4,
    "start_time": "2022-05-28T13:43:12.200Z"
   },
   {
    "duration": 6,
    "start_time": "2022-05-28T13:43:15.700Z"
   },
   {
    "duration": 2,
    "start_time": "2022-05-28T13:43:16.348Z"
   },
   {
    "duration": 3,
    "start_time": "2022-05-28T13:43:16.512Z"
   },
   {
    "duration": 5207,
    "start_time": "2022-05-28T13:43:16.997Z"
   },
   {
    "duration": 4,
    "start_time": "2022-05-28T13:43:55.057Z"
   },
   {
    "duration": 8,
    "start_time": "2022-05-28T13:44:01.108Z"
   },
   {
    "duration": 2,
    "start_time": "2022-05-28T13:44:01.800Z"
   },
   {
    "duration": 4,
    "start_time": "2022-05-28T13:44:02.214Z"
   },
   {
    "duration": 5068,
    "start_time": "2022-05-28T13:44:02.617Z"
   },
   {
    "duration": 3,
    "start_time": "2022-05-28T13:45:28.703Z"
   },
   {
    "duration": 6,
    "start_time": "2022-05-28T13:45:50.116Z"
   },
   {
    "duration": 3,
    "start_time": "2022-05-28T13:45:50.655Z"
   },
   {
    "duration": 4,
    "start_time": "2022-05-28T13:45:51.119Z"
   },
   {
    "duration": 6,
    "start_time": "2022-05-28T13:46:07.665Z"
   },
   {
    "duration": 5308,
    "start_time": "2022-05-28T13:46:09.143Z"
   },
   {
    "duration": 3,
    "start_time": "2022-05-28T13:46:53.195Z"
   },
   {
    "duration": 4878,
    "start_time": "2022-05-28T13:46:58.032Z"
   },
   {
    "duration": 3,
    "start_time": "2022-05-28T13:47:11.165Z"
   },
   {
    "duration": 4767,
    "start_time": "2022-05-28T13:47:13.692Z"
   },
   {
    "duration": 3,
    "start_time": "2022-05-28T13:48:09.415Z"
   },
   {
    "duration": 8,
    "start_time": "2022-05-28T13:48:22.835Z"
   },
   {
    "duration": 5024,
    "start_time": "2022-05-28T13:48:24.016Z"
   },
   {
    "duration": 8,
    "start_time": "2022-05-28T13:49:47.392Z"
   },
   {
    "duration": 4,
    "start_time": "2022-05-28T13:49:57.245Z"
   },
   {
    "duration": 5,
    "start_time": "2022-05-28T13:50:18.165Z"
   },
   {
    "duration": 7,
    "start_time": "2022-05-28T13:50:31.699Z"
   },
   {
    "duration": 9,
    "start_time": "2022-05-28T13:50:35.965Z"
   },
   {
    "duration": 25,
    "start_time": "2022-05-28T13:50:40.855Z"
   },
   {
    "duration": 9,
    "start_time": "2022-05-28T13:50:53.926Z"
   },
   {
    "duration": 5,
    "start_time": "2022-05-28T13:51:15.354Z"
   },
   {
    "duration": 8,
    "start_time": "2022-05-28T13:59:03.795Z"
   },
   {
    "duration": 11,
    "start_time": "2022-05-28T13:59:20.395Z"
   },
   {
    "duration": 4,
    "start_time": "2022-05-28T14:05:00.684Z"
   },
   {
    "duration": 5,
    "start_time": "2022-05-28T14:08:56.328Z"
   },
   {
    "duration": 644,
    "start_time": "2022-05-28T14:08:56.665Z"
   },
   {
    "duration": 5,
    "start_time": "2022-05-28T14:08:57.311Z"
   },
   {
    "duration": 5,
    "start_time": "2022-05-28T14:08:57.449Z"
   },
   {
    "duration": 3,
    "start_time": "2022-05-28T14:08:58.258Z"
   },
   {
    "duration": 13,
    "start_time": "2022-05-28T14:08:58.431Z"
   },
   {
    "duration": 14,
    "start_time": "2022-05-28T14:08:59.701Z"
   },
   {
    "duration": 23,
    "start_time": "2022-05-28T14:09:00.419Z"
   },
   {
    "duration": 21,
    "start_time": "2022-05-28T14:09:01.195Z"
   },
   {
    "duration": 31,
    "start_time": "2022-05-28T14:09:32.740Z"
   },
   {
    "duration": 120,
    "start_time": "2022-05-28T14:09:43.213Z"
   },
   {
    "duration": 18,
    "start_time": "2022-05-28T14:10:27.349Z"
   },
   {
    "duration": 2,
    "start_time": "2022-05-28T14:11:05.105Z"
   },
   {
    "duration": 5,
    "start_time": "2022-05-28T14:11:09.250Z"
   },
   {
    "duration": 6,
    "start_time": "2022-05-28T14:11:30.098Z"
   },
   {
    "duration": 7,
    "start_time": "2022-05-28T14:11:44.288Z"
   },
   {
    "duration": 4,
    "start_time": "2022-05-28T14:11:57.038Z"
   },
   {
    "duration": 23,
    "start_time": "2022-05-28T14:14:02.399Z"
   },
   {
    "duration": 9,
    "start_time": "2022-05-28T14:14:13.359Z"
   },
   {
    "duration": 10,
    "start_time": "2022-05-28T14:18:15.439Z"
   },
   {
    "duration": 5,
    "start_time": "2022-05-28T14:18:44.140Z"
   },
   {
    "duration": 4,
    "start_time": "2022-05-28T14:21:57.848Z"
   },
   {
    "duration": 695,
    "start_time": "2022-05-28T14:21:58.438Z"
   },
   {
    "duration": 5,
    "start_time": "2022-05-28T14:21:59.703Z"
   },
   {
    "duration": 5,
    "start_time": "2022-05-28T14:22:00.623Z"
   },
   {
    "duration": 3,
    "start_time": "2022-05-28T14:22:01.827Z"
   },
   {
    "duration": 14,
    "start_time": "2022-05-28T14:22:02.449Z"
   },
   {
    "duration": 16,
    "start_time": "2022-05-28T14:22:13.028Z"
   },
   {
    "duration": 15,
    "start_time": "2022-05-28T14:22:27.819Z"
   },
   {
    "duration": 5,
    "start_time": "2022-05-28T14:22:29.040Z"
   },
   {
    "duration": 7,
    "start_time": "2022-05-28T14:22:34.658Z"
   },
   {
    "duration": 129,
    "start_time": "2022-05-28T14:22:44.215Z"
   },
   {
    "duration": 5,
    "start_time": "2022-05-28T14:22:51.404Z"
   },
   {
    "duration": 11,
    "start_time": "2022-05-28T14:23:12.701Z"
   },
   {
    "duration": 3,
    "start_time": "2022-05-28T14:24:03.720Z"
   },
   {
    "duration": 5,
    "start_time": "2022-05-28T14:24:21.919Z"
   },
   {
    "duration": 27,
    "start_time": "2022-05-28T14:25:18.121Z"
   },
   {
    "duration": 16,
    "start_time": "2022-05-28T14:25:43.015Z"
   },
   {
    "duration": 21,
    "start_time": "2022-05-28T14:26:02.467Z"
   },
   {
    "duration": 3,
    "start_time": "2022-05-28T14:26:53.595Z"
   },
   {
    "duration": 718,
    "start_time": "2022-05-28T14:26:53.906Z"
   },
   {
    "duration": 6,
    "start_time": "2022-05-28T14:26:54.626Z"
   },
   {
    "duration": 6,
    "start_time": "2022-05-28T14:26:58.403Z"
   },
   {
    "duration": 4,
    "start_time": "2022-05-28T14:26:59.559Z"
   },
   {
    "duration": 18,
    "start_time": "2022-05-28T14:27:00.099Z"
   },
   {
    "duration": 21,
    "start_time": "2022-05-28T14:27:04.391Z"
   },
   {
    "duration": 19,
    "start_time": "2022-05-28T14:27:08.204Z"
   },
   {
    "duration": 26,
    "start_time": "2022-05-28T14:27:09.439Z"
   },
   {
    "duration": 7,
    "start_time": "2022-05-28T14:27:17.523Z"
   },
   {
    "duration": 3,
    "start_time": "2022-05-28T14:27:18.126Z"
   },
   {
    "duration": 5,
    "start_time": "2022-05-28T14:27:18.706Z"
   },
   {
    "duration": 34,
    "start_time": "2022-05-28T14:27:19.838Z"
   },
   {
    "duration": 71,
    "start_time": "2022-05-28T14:27:23.818Z"
   },
   {
    "duration": 135,
    "start_time": "2022-05-28T14:28:47.401Z"
   },
   {
    "duration": 5,
    "start_time": "2022-05-28T14:28:48.038Z"
   },
   {
    "duration": 3,
    "start_time": "2022-05-28T14:28:49.014Z"
   },
   {
    "duration": 5,
    "start_time": "2022-05-28T14:28:49.247Z"
   },
   {
    "duration": 4,
    "start_time": "2022-05-28T14:28:52.357Z"
   },
   {
    "duration": 69,
    "start_time": "2022-05-28T14:28:52.548Z"
   },
   {
    "duration": 14,
    "start_time": "2022-05-28T14:28:56.440Z"
   },
   {
    "duration": 1138,
    "start_time": "2022-05-28T14:29:19.722Z"
   },
   {
    "duration": 786,
    "start_time": "2022-05-28T14:29:20.863Z"
   },
   {
    "duration": 6,
    "start_time": "2022-05-28T14:29:21.651Z"
   },
   {
    "duration": 18,
    "start_time": "2022-05-28T14:29:21.658Z"
   },
   {
    "duration": 19,
    "start_time": "2022-05-28T14:29:21.678Z"
   },
   {
    "duration": 17,
    "start_time": "2022-05-28T14:29:21.699Z"
   },
   {
    "duration": 12,
    "start_time": "2022-05-28T14:29:21.718Z"
   },
   {
    "duration": 23,
    "start_time": "2022-05-28T14:29:21.731Z"
   },
   {
    "duration": 39,
    "start_time": "2022-05-28T14:29:21.755Z"
   },
   {
    "duration": 122,
    "start_time": "2022-05-28T14:29:21.795Z"
   },
   {
    "duration": 8,
    "start_time": "2022-05-28T14:29:21.919Z"
   },
   {
    "duration": 218,
    "start_time": "2022-05-28T14:29:21.928Z"
   },
   {
    "duration": 188,
    "start_time": "2022-05-28T14:29:22.148Z"
   },
   {
    "duration": 172,
    "start_time": "2022-05-28T14:29:22.339Z"
   },
   {
    "duration": 474,
    "start_time": "2022-05-28T14:29:22.512Z"
   },
   {
    "duration": 13,
    "start_time": "2022-05-28T14:29:22.987Z"
   },
   {
    "duration": 15,
    "start_time": "2022-05-28T14:29:23.003Z"
   },
   {
    "duration": 20,
    "start_time": "2022-05-28T14:29:23.020Z"
   },
   {
    "duration": 36,
    "start_time": "2022-05-28T14:29:23.042Z"
   },
   {
    "duration": 557,
    "start_time": "2022-05-28T14:29:23.081Z"
   },
   {
    "duration": 4,
    "start_time": "2022-05-28T14:29:23.639Z"
   },
   {
    "duration": 13,
    "start_time": "2022-05-28T14:29:23.644Z"
   },
   {
    "duration": 5,
    "start_time": "2022-05-28T14:29:23.658Z"
   },
   {
    "duration": 12,
    "start_time": "2022-05-28T14:29:23.675Z"
   },
   {
    "duration": 13,
    "start_time": "2022-05-28T14:29:23.689Z"
   },
   {
    "duration": 9,
    "start_time": "2022-05-28T14:29:23.705Z"
   },
   {
    "duration": 5,
    "start_time": "2022-05-28T14:29:23.716Z"
   },
   {
    "duration": 25,
    "start_time": "2022-05-28T14:29:23.723Z"
   },
   {
    "duration": 5554,
    "start_time": "2022-05-28T14:29:23.750Z"
   },
   {
    "duration": 4,
    "start_time": "2022-05-28T14:29:29.306Z"
   },
   {
    "duration": 21,
    "start_time": "2022-05-28T14:29:29.311Z"
   },
   {
    "duration": 138,
    "start_time": "2022-05-28T14:29:29.334Z"
   },
   {
    "duration": 94053,
    "start_time": "2022-05-28T14:29:29.473Z"
   },
   {
    "duration": 4,
    "start_time": "2022-05-28T14:31:03.527Z"
   },
   {
    "duration": 13,
    "start_time": "2022-05-28T14:31:03.532Z"
   },
   {
    "duration": 17619,
    "start_time": "2022-05-28T14:31:03.546Z"
   },
   {
    "duration": 30,
    "start_time": "2022-05-28T14:31:21.167Z"
   },
   {
    "duration": 3,
    "start_time": "2022-05-28T14:31:21.199Z"
   },
   {
    "duration": 5,
    "start_time": "2022-05-28T14:31:21.204Z"
   },
   {
    "duration": 7,
    "start_time": "2022-05-28T14:31:21.211Z"
   },
   {
    "duration": 15,
    "start_time": "2022-05-28T14:31:21.221Z"
   },
   {
    "duration": 4,
    "start_time": "2022-05-28T14:31:21.237Z"
   },
   {
    "duration": 9,
    "start_time": "2022-05-28T14:31:21.242Z"
   },
   {
    "duration": 14,
    "start_time": "2022-05-28T14:31:21.281Z"
   },
   {
    "duration": 5,
    "start_time": "2022-05-28T14:31:21.297Z"
   },
   {
    "duration": 9,
    "start_time": "2022-05-28T14:31:21.304Z"
   },
   {
    "duration": 4,
    "start_time": "2022-05-28T14:31:53.088Z"
   },
   {
    "duration": 7,
    "start_time": "2022-05-28T14:31:53.437Z"
   },
   {
    "duration": 6,
    "start_time": "2022-05-28T14:31:54.339Z"
   },
   {
    "duration": 8,
    "start_time": "2022-05-28T14:32:08.687Z"
   },
   {
    "duration": 7,
    "start_time": "2022-05-28T14:32:31.510Z"
   },
   {
    "duration": 7,
    "start_time": "2022-05-28T14:33:16.694Z"
   },
   {
    "duration": 722,
    "start_time": "2022-05-28T14:33:17.037Z"
   },
   {
    "duration": 5,
    "start_time": "2022-05-28T14:33:17.761Z"
   },
   {
    "duration": 17,
    "start_time": "2022-05-28T14:33:17.778Z"
   },
   {
    "duration": 4,
    "start_time": "2022-05-28T14:33:18.030Z"
   },
   {
    "duration": 19,
    "start_time": "2022-05-28T14:33:18.175Z"
   },
   {
    "duration": 14,
    "start_time": "2022-05-28T14:33:25.908Z"
   },
   {
    "duration": 23,
    "start_time": "2022-05-28T14:33:26.283Z"
   },
   {
    "duration": 22,
    "start_time": "2022-05-28T14:33:27.046Z"
   },
   {
    "duration": 129,
    "start_time": "2022-05-28T14:33:27.992Z"
   },
   {
    "duration": 9,
    "start_time": "2022-05-28T14:33:36.830Z"
   },
   {
    "duration": 169,
    "start_time": "2022-05-28T14:33:37.049Z"
   },
   {
    "duration": 176,
    "start_time": "2022-05-28T14:33:38.090Z"
   },
   {
    "duration": 167,
    "start_time": "2022-05-28T14:33:38.669Z"
   },
   {
    "duration": 400,
    "start_time": "2022-05-28T14:33:40.290Z"
   },
   {
    "duration": 10,
    "start_time": "2022-05-28T14:33:40.800Z"
   },
   {
    "duration": 10,
    "start_time": "2022-05-28T14:33:44.410Z"
   },
   {
    "duration": 28,
    "start_time": "2022-05-28T14:34:10.844Z"
   },
   {
    "duration": 17,
    "start_time": "2022-05-28T14:34:40.330Z"
   },
   {
    "duration": 44,
    "start_time": "2022-05-28T14:34:48.921Z"
   },
   {
    "duration": 13,
    "start_time": "2022-05-28T14:34:59.096Z"
   },
   {
    "duration": 98,
    "start_time": "2022-05-28T14:35:07.296Z"
   },
   {
    "duration": 10,
    "start_time": "2022-05-28T14:35:07.702Z"
   },
   {
    "duration": 4,
    "start_time": "2022-05-28T14:35:16.002Z"
   },
   {
    "duration": 838,
    "start_time": "2022-05-28T14:35:16.633Z"
   },
   {
    "duration": 6,
    "start_time": "2022-05-28T14:35:18.450Z"
   },
   {
    "duration": 6,
    "start_time": "2022-05-28T14:35:21.662Z"
   },
   {
    "duration": 4,
    "start_time": "2022-05-28T14:35:22.202Z"
   },
   {
    "duration": 20,
    "start_time": "2022-05-28T14:35:22.398Z"
   },
   {
    "duration": 21,
    "start_time": "2022-05-28T14:35:26.324Z"
   },
   {
    "duration": 19,
    "start_time": "2022-05-28T14:35:27.002Z"
   },
   {
    "duration": 42,
    "start_time": "2022-05-28T14:35:32.202Z"
   },
   {
    "duration": 117,
    "start_time": "2022-05-28T14:35:37.897Z"
   },
   {
    "duration": 7,
    "start_time": "2022-05-28T14:35:38.831Z"
   },
   {
    "duration": 58,
    "start_time": "2022-05-28T14:36:05.438Z"
   },
   {
    "duration": 3,
    "start_time": "2022-05-28T14:36:12.041Z"
   },
   {
    "duration": 757,
    "start_time": "2022-05-28T14:36:12.100Z"
   },
   {
    "duration": 7,
    "start_time": "2022-05-28T14:36:12.859Z"
   },
   {
    "duration": 32,
    "start_time": "2022-05-28T14:36:12.874Z"
   },
   {
    "duration": 7,
    "start_time": "2022-05-28T14:36:13.000Z"
   },
   {
    "duration": 14,
    "start_time": "2022-05-28T14:36:13.153Z"
   },
   {
    "duration": 13,
    "start_time": "2022-05-28T14:36:14.041Z"
   },
   {
    "duration": 20,
    "start_time": "2022-05-28T14:36:14.267Z"
   },
   {
    "duration": 32,
    "start_time": "2022-05-28T14:36:14.730Z"
   },
   {
    "duration": 137,
    "start_time": "2022-05-28T14:36:15.460Z"
   },
   {
    "duration": 9,
    "start_time": "2022-05-28T14:36:16.233Z"
   },
   {
    "duration": 6,
    "start_time": "2022-05-28T14:36:27.006Z"
   },
   {
    "duration": 3,
    "start_time": "2022-05-28T14:36:55.369Z"
   },
   {
    "duration": 707,
    "start_time": "2022-05-28T14:36:55.701Z"
   },
   {
    "duration": 6,
    "start_time": "2022-05-28T14:36:56.410Z"
   },
   {
    "duration": 5,
    "start_time": "2022-05-28T14:36:57.240Z"
   },
   {
    "duration": 4,
    "start_time": "2022-05-28T14:36:58.092Z"
   },
   {
    "duration": 14,
    "start_time": "2022-05-28T14:36:58.387Z"
   },
   {
    "duration": 14,
    "start_time": "2022-05-28T14:37:00.444Z"
   },
   {
    "duration": 16,
    "start_time": "2022-05-28T14:37:01.052Z"
   },
   {
    "duration": 23,
    "start_time": "2022-05-28T14:37:02.500Z"
   },
   {
    "duration": 139,
    "start_time": "2022-05-28T14:37:03.571Z"
   },
   {
    "duration": 7,
    "start_time": "2022-05-28T14:37:04.287Z"
   },
   {
    "duration": 6,
    "start_time": "2022-05-28T14:37:57.740Z"
   },
   {
    "duration": 5,
    "start_time": "2022-05-28T14:38:08.522Z"
   },
   {
    "duration": 5,
    "start_time": "2022-05-28T14:38:15.058Z"
   },
   {
    "duration": 6,
    "start_time": "2022-05-28T14:38:23.617Z"
   },
   {
    "duration": 8,
    "start_time": "2022-05-28T14:38:57.429Z"
   },
   {
    "duration": 12,
    "start_time": "2022-05-28T14:39:00.970Z"
   },
   {
    "duration": 6,
    "start_time": "2022-05-28T14:39:12.721Z"
   },
   {
    "duration": 9,
    "start_time": "2022-05-28T14:39:22.213Z"
   },
   {
    "duration": 37,
    "start_time": "2022-05-28T14:39:38.246Z"
   },
   {
    "duration": 22,
    "start_time": "2022-05-28T14:39:48.120Z"
   },
   {
    "duration": 19,
    "start_time": "2022-05-28T14:40:47.960Z"
   },
   {
    "duration": 11,
    "start_time": "2022-05-28T14:40:53.047Z"
   },
   {
    "duration": 1241,
    "start_time": "2022-05-28T14:41:54.763Z"
   },
   {
    "duration": 871,
    "start_time": "2022-05-28T14:41:56.011Z"
   },
   {
    "duration": 11,
    "start_time": "2022-05-28T14:41:56.885Z"
   },
   {
    "duration": 15,
    "start_time": "2022-05-28T14:41:56.900Z"
   },
   {
    "duration": 6,
    "start_time": "2022-05-28T14:41:56.919Z"
   },
   {
    "duration": 21,
    "start_time": "2022-05-28T14:41:56.926Z"
   },
   {
    "duration": 12,
    "start_time": "2022-05-28T14:41:56.949Z"
   },
   {
    "duration": 28,
    "start_time": "2022-05-28T14:41:56.963Z"
   },
   {
    "duration": 53,
    "start_time": "2022-05-28T14:41:56.994Z"
   },
   {
    "duration": 169,
    "start_time": "2022-05-28T14:41:57.049Z"
   },
   {
    "duration": 11,
    "start_time": "2022-05-28T14:41:57.220Z"
   },
   {
    "duration": 221,
    "start_time": "2022-05-28T14:41:57.233Z"
   },
   {
    "duration": 197,
    "start_time": "2022-05-28T14:41:57.456Z"
   },
   {
    "duration": 187,
    "start_time": "2022-05-28T14:41:57.656Z"
   },
   {
    "duration": 425,
    "start_time": "2022-05-28T14:41:57.845Z"
   },
   {
    "duration": 30,
    "start_time": "2022-05-28T14:41:58.276Z"
   },
   {
    "duration": 15,
    "start_time": "2022-05-28T14:41:58.307Z"
   },
   {
    "duration": 10,
    "start_time": "2022-05-28T14:41:58.324Z"
   },
   {
    "duration": 17,
    "start_time": "2022-05-28T14:41:58.336Z"
   },
   {
    "duration": 667,
    "start_time": "2022-05-28T14:41:58.354Z"
   },
   {
    "duration": 3,
    "start_time": "2022-05-28T14:41:59.023Z"
   },
   {
    "duration": 13,
    "start_time": "2022-05-28T14:41:59.029Z"
   },
   {
    "duration": 6,
    "start_time": "2022-05-28T14:41:59.043Z"
   },
   {
    "duration": 11,
    "start_time": "2022-05-28T14:41:59.050Z"
   },
   {
    "duration": 22,
    "start_time": "2022-05-28T14:41:59.079Z"
   },
   {
    "duration": 207,
    "start_time": "2022-05-28T14:41:59.103Z"
   },
   {
    "duration": 0,
    "start_time": "2022-05-28T14:41:59.315Z"
   },
   {
    "duration": 0,
    "start_time": "2022-05-28T14:41:59.316Z"
   },
   {
    "duration": 0,
    "start_time": "2022-05-28T14:41:59.317Z"
   },
   {
    "duration": 0,
    "start_time": "2022-05-28T14:41:59.319Z"
   },
   {
    "duration": 0,
    "start_time": "2022-05-28T14:41:59.320Z"
   },
   {
    "duration": 0,
    "start_time": "2022-05-28T14:41:59.321Z"
   },
   {
    "duration": 0,
    "start_time": "2022-05-28T14:41:59.322Z"
   },
   {
    "duration": 0,
    "start_time": "2022-05-28T14:41:59.324Z"
   },
   {
    "duration": 0,
    "start_time": "2022-05-28T14:41:59.325Z"
   },
   {
    "duration": 0,
    "start_time": "2022-05-28T14:41:59.326Z"
   },
   {
    "duration": 0,
    "start_time": "2022-05-28T14:41:59.328Z"
   },
   {
    "duration": 0,
    "start_time": "2022-05-28T14:41:59.329Z"
   },
   {
    "duration": 0,
    "start_time": "2022-05-28T14:41:59.486Z"
   },
   {
    "duration": 0,
    "start_time": "2022-05-28T14:41:59.487Z"
   },
   {
    "duration": 0,
    "start_time": "2022-05-28T14:41:59.488Z"
   },
   {
    "duration": 0,
    "start_time": "2022-05-28T14:41:59.489Z"
   },
   {
    "duration": 0,
    "start_time": "2022-05-28T14:41:59.490Z"
   },
   {
    "duration": 0,
    "start_time": "2022-05-28T14:41:59.490Z"
   },
   {
    "duration": 0,
    "start_time": "2022-05-28T14:41:59.492Z"
   },
   {
    "duration": 16,
    "start_time": "2022-05-28T14:42:42.609Z"
   },
   {
    "duration": 9,
    "start_time": "2022-05-28T14:43:36.207Z"
   },
   {
    "duration": 5089,
    "start_time": "2022-05-28T14:43:37.592Z"
   },
   {
    "duration": 5075,
    "start_time": "2022-05-28T14:45:26.697Z"
   },
   {
    "duration": 4,
    "start_time": "2022-05-28T14:46:03.882Z"
   },
   {
    "duration": 7,
    "start_time": "2022-05-28T14:46:13.447Z"
   },
   {
    "duration": 4592,
    "start_time": "2022-05-28T14:46:13.764Z"
   },
   {
    "duration": 4,
    "start_time": "2022-05-28T15:03:58.842Z"
   },
   {
    "duration": 13,
    "start_time": "2022-05-28T15:03:59.444Z"
   },
   {
    "duration": 16207,
    "start_time": "2022-05-28T15:04:00.923Z"
   },
   {
    "duration": 24,
    "start_time": "2022-05-28T15:04:17.132Z"
   },
   {
    "duration": 24,
    "start_time": "2022-05-28T15:04:17.158Z"
   },
   {
    "duration": 3,
    "start_time": "2022-05-28T15:04:18.355Z"
   },
   {
    "duration": 6,
    "start_time": "2022-05-28T15:04:21.755Z"
   },
   {
    "duration": 14,
    "start_time": "2022-05-28T15:04:22.344Z"
   },
   {
    "duration": 6,
    "start_time": "2022-05-28T15:04:25.026Z"
   },
   {
    "duration": 8,
    "start_time": "2022-05-28T15:04:25.375Z"
   },
   {
    "duration": 3,
    "start_time": "2022-05-28T15:04:25.856Z"
   },
   {
    "duration": 4,
    "start_time": "2022-05-28T15:04:50.100Z"
   },
   {
    "duration": 10,
    "start_time": "2022-05-28T15:04:50.547Z"
   },
   {
    "duration": 14900,
    "start_time": "2022-05-28T15:04:52.067Z"
   },
   {
    "duration": 8,
    "start_time": "2022-05-28T15:05:07.007Z"
   },
   {
    "duration": 20,
    "start_time": "2022-05-28T15:05:07.016Z"
   },
   {
    "duration": 14454,
    "start_time": "2022-05-28T15:05:08.055Z"
   },
   {
    "duration": 24,
    "start_time": "2022-05-28T15:05:22.511Z"
   },
   {
    "duration": 3,
    "start_time": "2022-05-28T15:05:22.537Z"
   },
   {
    "duration": 10,
    "start_time": "2022-05-28T15:05:33.854Z"
   },
   {
    "duration": 9,
    "start_time": "2022-05-28T15:05:34.100Z"
   },
   {
    "duration": 19,
    "start_time": "2022-05-28T15:06:03.265Z"
   },
   {
    "duration": 5,
    "start_time": "2022-05-28T15:06:20.644Z"
   },
   {
    "duration": 4,
    "start_time": "2022-05-28T15:06:29.507Z"
   },
   {
    "duration": 6,
    "start_time": "2022-05-28T15:06:42.975Z"
   },
   {
    "duration": 4,
    "start_time": "2022-05-28T15:06:43.299Z"
   },
   {
    "duration": 4,
    "start_time": "2022-05-28T15:08:12.036Z"
   },
   {
    "duration": 16084,
    "start_time": "2022-05-28T15:08:13.054Z"
   },
   {
    "duration": 7,
    "start_time": "2022-05-28T15:08:29.140Z"
   },
   {
    "duration": 8,
    "start_time": "2022-05-28T15:08:33.825Z"
   },
   {
    "duration": 5,
    "start_time": "2022-05-28T15:08:37.690Z"
   },
   {
    "duration": 66511,
    "start_time": "2022-05-28T15:08:38.790Z"
   },
   {
    "duration": 12,
    "start_time": "2022-05-28T15:11:03.042Z"
   },
   {
    "duration": 4,
    "start_time": "2022-05-28T15:11:11.627Z"
   },
   {
    "duration": 4,
    "start_time": "2022-05-28T15:11:20.796Z"
   },
   {
    "duration": 50,
    "start_time": "2022-05-28T15:13:11.670Z"
   },
   {
    "duration": 30,
    "start_time": "2022-05-28T15:13:24.228Z"
   },
   {
    "duration": 4,
    "start_time": "2022-05-28T15:13:29.859Z"
   },
   {
    "duration": 3,
    "start_time": "2022-05-28T15:13:39.453Z"
   },
   {
    "duration": 5,
    "start_time": "2022-05-28T15:14:05.119Z"
   },
   {
    "duration": 12322,
    "start_time": "2022-05-28T15:14:05.518Z"
   },
   {
    "duration": 8,
    "start_time": "2022-05-28T15:14:19.618Z"
   },
   {
    "duration": 5,
    "start_time": "2022-05-28T15:14:20.198Z"
   },
   {
    "duration": 64572,
    "start_time": "2022-05-28T15:14:20.596Z"
   },
   {
    "duration": 11,
    "start_time": "2022-05-28T15:16:22.172Z"
   },
   {
    "duration": 4,
    "start_time": "2022-05-28T15:16:22.545Z"
   },
   {
    "duration": 67066,
    "start_time": "2022-05-28T15:16:23.806Z"
   },
   {
    "duration": 82365,
    "start_time": "2022-05-28T15:18:38.270Z"
   },
   {
    "duration": 5,
    "start_time": "2022-05-28T15:22:29.802Z"
   },
   {
    "duration": 14,
    "start_time": "2022-05-28T15:22:30.679Z"
   },
   {
    "duration": 15234,
    "start_time": "2022-05-28T15:22:43.258Z"
   },
   {
    "duration": 27,
    "start_time": "2022-05-28T15:22:58.494Z"
   },
   {
    "duration": 4,
    "start_time": "2022-05-28T15:22:58.523Z"
   },
   {
    "duration": 4,
    "start_time": "2022-05-28T15:23:09.615Z"
   },
   {
    "duration": 5,
    "start_time": "2022-05-28T15:23:09.755Z"
   },
   {
    "duration": 7,
    "start_time": "2022-05-28T15:23:36.025Z"
   },
   {
    "duration": 4,
    "start_time": "2022-05-28T15:23:40.551Z"
   },
   {
    "duration": 185,
    "start_time": "2022-05-28T15:23:41.665Z"
   },
   {
    "duration": 8,
    "start_time": "2022-05-28T15:27:05.364Z"
   },
   {
    "duration": 11,
    "start_time": "2022-05-28T15:27:08.965Z"
   },
   {
    "duration": 547,
    "start_time": "2022-05-28T15:27:14.799Z"
   },
   {
    "duration": 611,
    "start_time": "2022-05-28T15:27:22.650Z"
   },
   {
    "duration": 9,
    "start_time": "2022-05-28T15:27:28.403Z"
   },
   {
    "duration": 20,
    "start_time": "2022-05-28T15:27:36.172Z"
   },
   {
    "duration": 258,
    "start_time": "2022-05-28T15:27:49.293Z"
   },
   {
    "duration": 296,
    "start_time": "2022-05-28T15:27:55.670Z"
   },
   {
    "duration": 4,
    "start_time": "2022-05-28T15:29:21.994Z"
   },
   {
    "duration": 9,
    "start_time": "2022-05-28T15:29:22.153Z"
   },
   {
    "duration": 5,
    "start_time": "2022-05-28T15:29:44.754Z"
   },
   {
    "duration": 5,
    "start_time": "2022-05-28T15:29:53.926Z"
   },
   {
    "duration": 5,
    "start_time": "2022-05-28T15:30:00.298Z"
   },
   {
    "duration": 4,
    "start_time": "2022-05-28T15:30:08.267Z"
   },
   {
    "duration": 10,
    "start_time": "2022-05-28T15:30:16.881Z"
   },
   {
    "duration": 7,
    "start_time": "2022-05-28T15:35:38.272Z"
   },
   {
    "duration": 7,
    "start_time": "2022-05-28T15:36:03.525Z"
   },
   {
    "duration": 5,
    "start_time": "2022-05-28T15:36:06.827Z"
   },
   {
    "duration": 44421,
    "start_time": "2022-05-28T15:36:08.720Z"
   },
   {
    "duration": 5,
    "start_time": "2022-05-28T15:38:17.711Z"
   },
   {
    "duration": 9,
    "start_time": "2022-05-28T15:38:26.656Z"
   },
   {
    "duration": 6,
    "start_time": "2022-05-28T15:38:30.621Z"
   },
   {
    "duration": 44698,
    "start_time": "2022-05-28T15:38:32.208Z"
   },
   {
    "duration": 89607,
    "start_time": "2022-05-28T15:39:16.908Z"
   },
   {
    "duration": 1369,
    "start_time": "2022-05-28T15:42:56.507Z"
   },
   {
    "duration": 846,
    "start_time": "2022-05-28T15:42:57.879Z"
   },
   {
    "duration": 8,
    "start_time": "2022-05-28T15:42:58.726Z"
   },
   {
    "duration": 5,
    "start_time": "2022-05-28T15:42:58.737Z"
   },
   {
    "duration": 8,
    "start_time": "2022-05-28T15:42:58.743Z"
   },
   {
    "duration": 35,
    "start_time": "2022-05-28T15:42:58.753Z"
   },
   {
    "duration": 22,
    "start_time": "2022-05-28T15:42:58.789Z"
   },
   {
    "duration": 26,
    "start_time": "2022-05-28T15:42:58.813Z"
   },
   {
    "duration": 58,
    "start_time": "2022-05-28T15:42:58.841Z"
   },
   {
    "duration": 213,
    "start_time": "2022-05-28T15:42:58.902Z"
   },
   {
    "duration": 7,
    "start_time": "2022-05-28T15:42:59.117Z"
   },
   {
    "duration": 200,
    "start_time": "2022-05-28T15:42:59.126Z"
   },
   {
    "duration": 188,
    "start_time": "2022-05-28T15:42:59.329Z"
   },
   {
    "duration": 186,
    "start_time": "2022-05-28T15:42:59.518Z"
   },
   {
    "duration": 427,
    "start_time": "2022-05-28T15:42:59.706Z"
   },
   {
    "duration": 9,
    "start_time": "2022-05-28T15:43:00.134Z"
   },
   {
    "duration": 11,
    "start_time": "2022-05-28T15:43:00.145Z"
   },
   {
    "duration": 30,
    "start_time": "2022-05-28T15:43:00.157Z"
   },
   {
    "duration": 51,
    "start_time": "2022-05-28T15:43:00.188Z"
   },
   {
    "duration": 544,
    "start_time": "2022-05-28T15:43:00.241Z"
   },
   {
    "duration": 8,
    "start_time": "2022-05-28T15:43:00.786Z"
   },
   {
    "duration": 19,
    "start_time": "2022-05-28T15:43:00.796Z"
   },
   {
    "duration": 18,
    "start_time": "2022-05-28T15:43:00.817Z"
   },
   {
    "duration": 47904,
    "start_time": "2022-05-28T15:43:00.837Z"
   },
   {
    "duration": 88285,
    "start_time": "2022-05-28T15:43:48.744Z"
   },
   {
    "duration": 4,
    "start_time": "2022-05-28T15:45:17.031Z"
   },
   {
    "duration": 13,
    "start_time": "2022-05-28T15:45:17.037Z"
   },
   {
    "duration": 14640,
    "start_time": "2022-05-28T15:45:17.054Z"
   },
   {
    "duration": 22,
    "start_time": "2022-05-28T15:45:31.696Z"
   },
   {
    "duration": 4,
    "start_time": "2022-05-28T15:45:31.719Z"
   },
   {
    "duration": 6,
    "start_time": "2022-05-28T15:45:31.725Z"
   },
   {
    "duration": 13,
    "start_time": "2022-05-28T15:45:31.733Z"
   },
   {
    "duration": 10,
    "start_time": "2022-05-28T15:45:31.748Z"
   },
   {
    "duration": 174,
    "start_time": "2022-05-28T15:45:31.759Z"
   },
   {
    "duration": 0,
    "start_time": "2022-05-28T15:45:31.935Z"
   },
   {
    "duration": 0,
    "start_time": "2022-05-28T15:45:31.936Z"
   },
   {
    "duration": 0,
    "start_time": "2022-05-28T15:45:31.937Z"
   },
   {
    "duration": 0,
    "start_time": "2022-05-28T15:45:31.938Z"
   },
   {
    "duration": 0,
    "start_time": "2022-05-28T15:45:31.940Z"
   },
   {
    "duration": 1270,
    "start_time": "2022-05-28T15:47:39.466Z"
   },
   {
    "duration": 811,
    "start_time": "2022-05-28T15:47:40.740Z"
   },
   {
    "duration": 7,
    "start_time": "2022-05-28T15:47:41.553Z"
   },
   {
    "duration": 15,
    "start_time": "2022-05-28T15:47:41.562Z"
   },
   {
    "duration": 8,
    "start_time": "2022-05-28T15:47:41.579Z"
   },
   {
    "duration": 23,
    "start_time": "2022-05-28T15:47:41.588Z"
   },
   {
    "duration": 14,
    "start_time": "2022-05-28T15:47:41.613Z"
   },
   {
    "duration": 23,
    "start_time": "2022-05-28T15:47:41.629Z"
   },
   {
    "duration": 45,
    "start_time": "2022-05-28T15:47:41.654Z"
   },
   {
    "duration": 185,
    "start_time": "2022-05-28T15:47:41.701Z"
   },
   {
    "duration": 9,
    "start_time": "2022-05-28T15:47:41.890Z"
   },
   {
    "duration": 196,
    "start_time": "2022-05-28T15:47:41.901Z"
   },
   {
    "duration": 203,
    "start_time": "2022-05-28T15:47:42.099Z"
   },
   {
    "duration": 200,
    "start_time": "2022-05-28T15:47:42.305Z"
   },
   {
    "duration": 487,
    "start_time": "2022-05-28T15:47:42.507Z"
   },
   {
    "duration": 17,
    "start_time": "2022-05-28T15:47:42.998Z"
   },
   {
    "duration": 11,
    "start_time": "2022-05-28T15:47:43.016Z"
   },
   {
    "duration": 25,
    "start_time": "2022-05-28T15:47:43.029Z"
   },
   {
    "duration": 44,
    "start_time": "2022-05-28T15:47:43.056Z"
   },
   {
    "duration": 629,
    "start_time": "2022-05-28T15:47:43.102Z"
   },
   {
    "duration": 5,
    "start_time": "2022-05-28T15:47:43.733Z"
   },
   {
    "duration": 41,
    "start_time": "2022-05-28T15:47:43.740Z"
   },
   {
    "duration": 24,
    "start_time": "2022-05-28T15:47:43.786Z"
   },
   {
    "duration": 45216,
    "start_time": "2022-05-28T15:47:43.812Z"
   },
   {
    "duration": 87522,
    "start_time": "2022-05-28T15:48:29.030Z"
   },
   {
    "duration": 5,
    "start_time": "2022-05-28T15:49:56.554Z"
   },
   {
    "duration": 28,
    "start_time": "2022-05-28T15:49:56.561Z"
   },
   {
    "duration": 13962,
    "start_time": "2022-05-28T15:49:56.594Z"
   },
   {
    "duration": 39,
    "start_time": "2022-05-28T15:50:10.558Z"
   },
   {
    "duration": 4,
    "start_time": "2022-05-28T15:50:10.599Z"
   },
   {
    "duration": 7,
    "start_time": "2022-05-28T15:50:10.605Z"
   },
   {
    "duration": 5,
    "start_time": "2022-05-28T15:50:10.613Z"
   },
   {
    "duration": 6,
    "start_time": "2022-05-28T15:50:10.620Z"
   },
   {
    "duration": 125,
    "start_time": "2022-05-28T15:50:10.628Z"
   },
   {
    "duration": 0,
    "start_time": "2022-05-28T15:50:10.755Z"
   },
   {
    "duration": 0,
    "start_time": "2022-05-28T15:50:10.757Z"
   },
   {
    "duration": 0,
    "start_time": "2022-05-28T15:50:10.759Z"
   },
   {
    "duration": 0,
    "start_time": "2022-05-28T15:50:10.761Z"
   },
   {
    "duration": 0,
    "start_time": "2022-05-28T15:50:10.774Z"
   },
   {
    "duration": 44,
    "start_time": "2022-05-28T15:50:59.862Z"
   },
   {
    "duration": 16,
    "start_time": "2022-05-28T15:51:55.573Z"
   },
   {
    "duration": 5,
    "start_time": "2022-05-28T15:53:44.862Z"
   },
   {
    "duration": 32,
    "start_time": "2022-05-28T15:53:45.318Z"
   },
   {
    "duration": 5,
    "start_time": "2022-05-28T15:54:02.516Z"
   },
   {
    "duration": 13,
    "start_time": "2022-05-28T15:54:02.710Z"
   },
   {
    "duration": 15855,
    "start_time": "2022-05-28T15:54:04.915Z"
   },
   {
    "duration": 4,
    "start_time": "2022-05-28T15:54:31.069Z"
   },
   {
    "duration": 8,
    "start_time": "2022-05-28T15:54:45.194Z"
   },
   {
    "duration": 10,
    "start_time": "2022-05-28T15:55:09.828Z"
   },
   {
    "duration": 16,
    "start_time": "2022-05-28T15:55:17.174Z"
   },
   {
    "duration": 7,
    "start_time": "2022-05-28T15:55:48.473Z"
   },
   {
    "duration": 6,
    "start_time": "2022-05-28T15:56:39.402Z"
   },
   {
    "duration": 6,
    "start_time": "2022-05-28T15:56:41.001Z"
   },
   {
    "duration": 6,
    "start_time": "2022-05-28T15:56:42.310Z"
   },
   {
    "duration": 8,
    "start_time": "2022-05-28T15:56:43.311Z"
   },
   {
    "duration": 26,
    "start_time": "2022-05-28T15:56:44.710Z"
   },
   {
    "duration": 20,
    "start_time": "2022-05-28T15:56:50.523Z"
   },
   {
    "duration": 6,
    "start_time": "2022-05-28T15:59:32.494Z"
   },
   {
    "duration": 39,
    "start_time": "2022-05-28T15:59:32.807Z"
   },
   {
    "duration": 4,
    "start_time": "2022-05-28T16:00:25.059Z"
   },
   {
    "duration": 12,
    "start_time": "2022-05-28T16:00:28.717Z"
   },
   {
    "duration": 9,
    "start_time": "2022-05-28T16:01:11.610Z"
   },
   {
    "duration": 29,
    "start_time": "2022-05-28T16:01:16.087Z"
   },
   {
    "duration": 11,
    "start_time": "2022-05-28T16:01:41.194Z"
   },
   {
    "duration": 21,
    "start_time": "2022-05-28T16:02:32.591Z"
   },
   {
    "duration": 19,
    "start_time": "2022-05-28T16:02:37.267Z"
   },
   {
    "duration": 8,
    "start_time": "2022-05-28T16:02:37.506Z"
   },
   {
    "duration": 15,
    "start_time": "2022-05-28T16:02:44.565Z"
   },
   {
    "duration": 8,
    "start_time": "2022-05-28T16:03:20.596Z"
   },
   {
    "duration": 7,
    "start_time": "2022-05-28T16:03:52.600Z"
   },
   {
    "duration": 31,
    "start_time": "2022-05-28T16:04:13.966Z"
   },
   {
    "duration": 11,
    "start_time": "2022-05-28T16:04:26.499Z"
   },
   {
    "duration": 10,
    "start_time": "2022-05-28T16:04:27.160Z"
   },
   {
    "duration": 11,
    "start_time": "2022-05-28T16:04:27.790Z"
   },
   {
    "duration": 12,
    "start_time": "2022-05-28T16:04:28.072Z"
   },
   {
    "duration": 7,
    "start_time": "2022-05-28T16:04:30.665Z"
   },
   {
    "duration": 1254,
    "start_time": "2022-05-28T16:05:49.667Z"
   },
   {
    "duration": 808,
    "start_time": "2022-05-28T16:05:50.924Z"
   },
   {
    "duration": 7,
    "start_time": "2022-05-28T16:05:51.734Z"
   },
   {
    "duration": 7,
    "start_time": "2022-05-28T16:05:51.743Z"
   },
   {
    "duration": 8,
    "start_time": "2022-05-28T16:05:51.753Z"
   },
   {
    "duration": 47,
    "start_time": "2022-05-28T16:05:51.762Z"
   },
   {
    "duration": 20,
    "start_time": "2022-05-28T16:05:51.811Z"
   },
   {
    "duration": 29,
    "start_time": "2022-05-28T16:05:51.833Z"
   },
   {
    "duration": 36,
    "start_time": "2022-05-28T16:05:51.863Z"
   },
   {
    "duration": 197,
    "start_time": "2022-05-28T16:05:51.901Z"
   },
   {
    "duration": 12,
    "start_time": "2022-05-28T16:05:52.101Z"
   },
   {
    "duration": 245,
    "start_time": "2022-05-28T16:05:52.115Z"
   },
   {
    "duration": 194,
    "start_time": "2022-05-28T16:05:52.362Z"
   },
   {
    "duration": 215,
    "start_time": "2022-05-28T16:05:52.559Z"
   },
   {
    "duration": 604,
    "start_time": "2022-05-28T16:05:52.784Z"
   },
   {
    "duration": 13,
    "start_time": "2022-05-28T16:05:53.390Z"
   },
   {
    "duration": 11,
    "start_time": "2022-05-28T16:05:53.405Z"
   },
   {
    "duration": 14,
    "start_time": "2022-05-28T16:05:53.418Z"
   },
   {
    "duration": 43,
    "start_time": "2022-05-28T16:05:53.434Z"
   },
   {
    "duration": 614,
    "start_time": "2022-05-28T16:05:53.481Z"
   },
   {
    "duration": 7,
    "start_time": "2022-05-28T16:05:54.097Z"
   },
   {
    "duration": 15,
    "start_time": "2022-05-28T16:05:54.105Z"
   },
   {
    "duration": 8,
    "start_time": "2022-05-28T16:05:54.121Z"
   },
   {
    "duration": 45086,
    "start_time": "2022-05-28T16:05:54.131Z"
   },
   {
    "duration": 88116,
    "start_time": "2022-05-28T16:06:39.219Z"
   },
   {
    "duration": 4,
    "start_time": "2022-05-28T16:08:07.337Z"
   },
   {
    "duration": 15,
    "start_time": "2022-05-28T16:08:07.343Z"
   },
   {
    "duration": 13925,
    "start_time": "2022-05-28T16:08:07.359Z"
   },
   {
    "duration": 3,
    "start_time": "2022-05-28T16:08:21.285Z"
   },
   {
    "duration": 30,
    "start_time": "2022-05-28T16:08:21.290Z"
   },
   {
    "duration": 3,
    "start_time": "2022-05-28T16:08:21.322Z"
   },
   {
    "duration": 3,
    "start_time": "2022-05-28T16:08:21.328Z"
   },
   {
    "duration": 5,
    "start_time": "2022-05-28T16:10:14.006Z"
   },
   {
    "duration": 3,
    "start_time": "2022-05-28T16:12:24.652Z"
   },
   {
    "duration": 1406,
    "start_time": "2022-05-31T19:17:22.583Z"
   },
   {
    "duration": 4190,
    "start_time": "2022-05-31T19:17:23.991Z"
   },
   {
    "duration": 6,
    "start_time": "2022-05-31T19:17:28.183Z"
   },
   {
    "duration": 5,
    "start_time": "2022-05-31T19:17:28.190Z"
   },
   {
    "duration": 7,
    "start_time": "2022-05-31T19:17:28.197Z"
   },
   {
    "duration": 17,
    "start_time": "2022-05-31T19:17:28.205Z"
   },
   {
    "duration": 20,
    "start_time": "2022-05-31T19:17:28.223Z"
   },
   {
    "duration": 29,
    "start_time": "2022-05-31T19:17:28.245Z"
   },
   {
    "duration": 34,
    "start_time": "2022-05-31T19:17:28.278Z"
   },
   {
    "duration": 152,
    "start_time": "2022-05-31T19:17:28.313Z"
   },
   {
    "duration": 9,
    "start_time": "2022-05-31T19:17:28.480Z"
   },
   {
    "duration": 186,
    "start_time": "2022-05-31T19:17:28.491Z"
   },
   {
    "duration": 154,
    "start_time": "2022-05-31T19:17:28.682Z"
   },
   {
    "duration": 172,
    "start_time": "2022-05-31T19:17:28.839Z"
   },
   {
    "duration": 423,
    "start_time": "2022-05-31T19:17:29.013Z"
   },
   {
    "duration": 8,
    "start_time": "2022-05-31T19:17:29.437Z"
   },
   {
    "duration": 12,
    "start_time": "2022-05-31T19:17:29.456Z"
   },
   {
    "duration": 31,
    "start_time": "2022-05-31T19:17:29.470Z"
   },
   {
    "duration": 17,
    "start_time": "2022-05-31T19:17:29.502Z"
   },
   {
    "duration": 615,
    "start_time": "2022-05-31T19:17:29.520Z"
   },
   {
    "duration": 4,
    "start_time": "2022-05-31T19:17:30.137Z"
   },
   {
    "duration": 20,
    "start_time": "2022-05-31T19:17:30.143Z"
   },
   {
    "duration": 22,
    "start_time": "2022-05-31T19:17:30.168Z"
   },
   {
    "duration": 44983,
    "start_time": "2022-05-31T19:17:30.192Z"
   },
   {
    "duration": 85747,
    "start_time": "2022-05-31T19:18:15.177Z"
   },
   {
    "duration": 4,
    "start_time": "2022-05-31T19:19:40.926Z"
   },
   {
    "duration": 14,
    "start_time": "2022-05-31T19:19:40.931Z"
   },
   {
    "duration": 13851,
    "start_time": "2022-05-31T19:19:40.956Z"
   },
   {
    "duration": 5,
    "start_time": "2022-05-31T19:19:54.809Z"
   },
   {
    "duration": 14,
    "start_time": "2022-05-31T19:19:54.816Z"
   },
   {
    "duration": 4,
    "start_time": "2022-05-31T19:19:54.832Z"
   },
   {
    "duration": 4,
    "start_time": "2022-05-31T19:20:18.670Z"
   },
   {
    "duration": 7,
    "start_time": "2022-05-31T19:36:38.804Z"
   },
   {
    "duration": 13345,
    "start_time": "2022-05-31T19:41:05.042Z"
   },
   {
    "duration": 0,
    "start_time": "2022-05-31T19:42:14.276Z"
   },
   {
    "duration": 6,
    "start_time": "2022-05-31T19:43:55.708Z"
   },
   {
    "duration": 14087,
    "start_time": "2022-05-31T19:44:57.027Z"
   },
   {
    "duration": 24929,
    "start_time": "2022-05-31T19:46:07.096Z"
   },
   {
    "duration": 49123,
    "start_time": "2022-05-31T19:47:01.726Z"
   },
   {
    "duration": 49557,
    "start_time": "2022-05-31T19:53:54.869Z"
   },
   {
    "duration": 49245,
    "start_time": "2022-05-31T19:56:24.027Z"
   },
   {
    "duration": 48831,
    "start_time": "2022-05-31T19:58:14.148Z"
   },
   {
    "duration": 3,
    "start_time": "2022-05-31T19:59:02.981Z"
   },
   {
    "duration": 15,
    "start_time": "2022-05-31T20:01:32.952Z"
   },
   {
    "duration": 10,
    "start_time": "2022-05-31T20:03:15.325Z"
   },
   {
    "duration": 10,
    "start_time": "2022-05-31T20:03:39.166Z"
   },
   {
    "duration": 8,
    "start_time": "2022-05-31T20:04:48.484Z"
   },
   {
    "duration": 4,
    "start_time": "2022-05-31T20:09:16.924Z"
   },
   {
    "duration": 46790,
    "start_time": "2022-05-31T20:09:36.703Z"
   },
   {
    "duration": 4,
    "start_time": "2022-05-31T20:10:23.495Z"
   },
   {
    "duration": 13,
    "start_time": "2022-05-31T20:10:23.500Z"
   },
   {
    "duration": 5,
    "start_time": "2022-05-31T20:11:23.332Z"
   },
   {
    "duration": 6,
    "start_time": "2022-05-31T20:11:28.706Z"
   },
   {
    "duration": 47551,
    "start_time": "2022-05-31T20:11:34.684Z"
   },
   {
    "duration": 2,
    "start_time": "2022-05-31T20:12:22.237Z"
   },
   {
    "duration": 13,
    "start_time": "2022-05-31T20:12:22.241Z"
   },
   {
    "duration": 13,
    "start_time": "2022-05-31T20:12:53.667Z"
   },
   {
    "duration": 9,
    "start_time": "2022-05-31T20:15:24.368Z"
   },
   {
    "duration": 4,
    "start_time": "2022-05-31T20:15:32.299Z"
   },
   {
    "duration": 4,
    "start_time": "2022-05-31T20:16:03.008Z"
   },
   {
    "duration": 3,
    "start_time": "2022-05-31T20:16:35.650Z"
   },
   {
    "duration": 48681,
    "start_time": "2022-05-31T20:18:07.270Z"
   },
   {
    "duration": 8,
    "start_time": "2022-05-31T20:18:55.954Z"
   },
   {
    "duration": 12,
    "start_time": "2022-05-31T20:18:55.963Z"
   },
   {
    "duration": 10,
    "start_time": "2022-05-31T20:20:02.471Z"
   },
   {
    "duration": 3,
    "start_time": "2022-05-31T20:20:10.899Z"
   },
   {
    "duration": 5,
    "start_time": "2022-05-31T20:20:51.488Z"
   },
   {
    "duration": 10505,
    "start_time": "2022-05-31T20:21:49.098Z"
   },
   {
    "duration": 0,
    "start_time": "2022-05-31T20:21:59.605Z"
   },
   {
    "duration": 10,
    "start_time": "2022-05-31T20:22:12.455Z"
   },
   {
    "duration": 49054,
    "start_time": "2022-05-31T20:22:17.108Z"
   },
   {
    "duration": 5,
    "start_time": "2022-05-31T20:23:06.164Z"
   },
   {
    "duration": 48440,
    "start_time": "2022-05-31T20:25:10.952Z"
   },
   {
    "duration": 3,
    "start_time": "2022-05-31T20:25:59.394Z"
   },
   {
    "duration": 4,
    "start_time": "2022-05-31T20:26:45.752Z"
   },
   {
    "duration": 281,
    "start_time": "2022-05-31T20:26:49.908Z"
   },
   {
    "duration": 0,
    "start_time": "2022-05-31T20:26:50.191Z"
   },
   {
    "duration": 396,
    "start_time": "2022-05-31T20:26:55.392Z"
   },
   {
    "duration": 10,
    "start_time": "2022-05-31T20:26:55.903Z"
   },
   {
    "duration": 4,
    "start_time": "2022-05-31T20:27:04.455Z"
   },
   {
    "duration": 7,
    "start_time": "2022-05-31T20:27:07.628Z"
   },
   {
    "duration": 305,
    "start_time": "2022-05-31T20:27:11.083Z"
   },
   {
    "duration": 4,
    "start_time": "2022-05-31T20:27:22.493Z"
   },
   {
    "duration": 48299,
    "start_time": "2022-05-31T20:27:24.947Z"
   },
   {
    "duration": 7,
    "start_time": "2022-05-31T20:28:13.248Z"
   },
   {
    "duration": 1218,
    "start_time": "2022-06-01T17:58:12.494Z"
   },
   {
    "duration": 3082,
    "start_time": "2022-06-01T17:58:13.715Z"
   },
   {
    "duration": 7,
    "start_time": "2022-06-01T17:58:16.799Z"
   },
   {
    "duration": 5,
    "start_time": "2022-06-01T17:58:16.808Z"
   },
   {
    "duration": 4,
    "start_time": "2022-06-01T17:58:16.815Z"
   },
   {
    "duration": 19,
    "start_time": "2022-06-01T17:58:16.821Z"
   },
   {
    "duration": 13,
    "start_time": "2022-06-01T17:58:16.842Z"
   },
   {
    "duration": 39,
    "start_time": "2022-06-01T17:58:16.856Z"
   },
   {
    "duration": 24,
    "start_time": "2022-06-01T17:58:16.897Z"
   },
   {
    "duration": 155,
    "start_time": "2022-06-01T17:58:16.923Z"
   },
   {
    "duration": 8,
    "start_time": "2022-06-01T17:58:17.079Z"
   },
   {
    "duration": 162,
    "start_time": "2022-06-01T17:58:17.088Z"
   },
   {
    "duration": 151,
    "start_time": "2022-06-01T17:58:17.252Z"
   },
   {
    "duration": 152,
    "start_time": "2022-06-01T17:58:17.405Z"
   },
   {
    "duration": 327,
    "start_time": "2022-06-01T17:58:17.558Z"
   },
   {
    "duration": 7,
    "start_time": "2022-06-01T17:58:17.886Z"
   },
   {
    "duration": 12,
    "start_time": "2022-06-01T17:58:17.895Z"
   },
   {
    "duration": 9,
    "start_time": "2022-06-01T17:58:17.908Z"
   },
   {
    "duration": 14,
    "start_time": "2022-06-01T17:58:17.919Z"
   },
   {
    "duration": 505,
    "start_time": "2022-06-01T17:58:17.935Z"
   },
   {
    "duration": 4,
    "start_time": "2022-06-01T17:58:18.442Z"
   },
   {
    "duration": 14,
    "start_time": "2022-06-01T17:58:18.447Z"
   },
   {
    "duration": 7,
    "start_time": "2022-06-01T17:58:18.463Z"
   },
   {
    "duration": 46893,
    "start_time": "2022-06-01T17:58:18.471Z"
   },
   {
    "duration": 4,
    "start_time": "2022-06-01T17:59:05.365Z"
   },
   {
    "duration": 42435,
    "start_time": "2022-06-01T17:59:05.371Z"
   },
   {
    "duration": 82447,
    "start_time": "2022-06-01T17:59:47.808Z"
   },
   {
    "duration": 4,
    "start_time": "2022-06-01T18:01:10.258Z"
   },
   {
    "duration": 22,
    "start_time": "2022-06-01T18:01:10.264Z"
   },
   {
    "duration": 13611,
    "start_time": "2022-06-01T18:01:10.288Z"
   },
   {
    "duration": 3,
    "start_time": "2022-06-01T18:01:23.901Z"
   },
   {
    "duration": 13,
    "start_time": "2022-06-01T18:01:23.906Z"
   },
   {
    "duration": 5,
    "start_time": "2022-06-01T18:01:23.921Z"
   },
   {
    "duration": 370,
    "start_time": "2022-06-01T18:19:10.258Z"
   },
   {
    "duration": 3,
    "start_time": "2022-06-01T18:20:35.123Z"
   },
   {
    "duration": 108,
    "start_time": "2022-06-01T18:20:39.176Z"
   },
   {
    "duration": 887,
    "start_time": "2022-06-01T18:21:04.428Z"
   },
   {
    "duration": 1468,
    "start_time": "2022-06-01T18:21:12.297Z"
   },
   {
    "duration": 45,
    "start_time": "2022-06-11T10:48:57.083Z"
   }
  ],
  "kernelspec": {
   "display_name": "Python 3 (ipykernel)",
   "language": "python",
   "name": "python3"
  },
  "language_info": {
   "codemirror_mode": {
    "name": "ipython",
    "version": 3
   },
   "file_extension": ".py",
   "mimetype": "text/x-python",
   "name": "python",
   "nbconvert_exporter": "python",
   "pygments_lexer": "ipython3",
   "version": "3.9.10"
  },
  "toc": {
   "base_numbering": 1,
   "nav_menu": {},
   "number_sections": true,
   "sideBar": true,
   "skip_h1_title": true,
   "title_cell": "Содержание",
   "title_sidebar": "Contents",
   "toc_cell": true,
   "toc_position": {
    "height": "calc(100% - 180px)",
    "left": "10px",
    "top": "150px",
    "width": "195px"
   },
   "toc_section_display": true,
   "toc_window_display": true
  }
 },
 "nbformat": 4,
 "nbformat_minor": 2
}
