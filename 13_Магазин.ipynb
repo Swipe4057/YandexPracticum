{
 "cells": [
  {
   "cell_type": "markdown",
   "metadata": {},
   "source": [
    "# Проект для «Викишоп»"
   ]
  },
  {
   "cell_type": "markdown",
   "metadata": {},
   "source": [
    "Интернет-магазин «Викишоп» запускает новый сервис. Теперь пользователи могут редактировать и дополнять описания товаров, как в вики-сообществах. То есть клиенты предлагают свои правки и комментируют изменения других. Магазину нужен инструмент, который будет искать токсичные комментарии и отправлять их на модерацию. \n",
    "\n",
    "Обучите модель классифицировать комментарии на позитивные и негативные. В вашем распоряжении набор данных с разметкой о токсичности правок."
   ]
  },
  {
   "cell_type": "markdown",
   "metadata": {},
   "source": [
    "## Подготовка"
   ]
  },
  {
   "cell_type": "markdown",
   "metadata": {},
   "source": [
    "Импортируем необходимые библиотеки:"
   ]
  },
  {
   "cell_type": "code",
   "execution_count": 1,
   "metadata": {},
   "outputs": [],
   "source": [
    "import pandas as pd\n",
    "from tqdm import *\n",
    "\n",
    "import re\n",
    "\n",
    "import nltk\n",
    "from nltk.stem.wordnet import WordNetLemmatizer\n",
    "from nltk.corpus import stopwords as nltk_stopwords\n",
    "from sklearn.feature_extraction.text import TfidfVectorizer\n",
    "\n",
    "from sklearn.linear_model import LogisticRegression\n",
    "from catboost import CatBoostClassifier\n",
    "\n",
    "from sklearn.metrics import f1_score, recall_score, precision_score\n",
    "from sklearn.model_selection import train_test_split, GridSearchCV\n",
    "from sklearn.utils import shuffle"
   ]
  },
  {
   "cell_type": "code",
   "execution_count": 2,
   "metadata": {},
   "outputs": [],
   "source": [
    "data = pd.read_csv('/datasets/toxic_comments.csv')"
   ]
  },
  {
   "cell_type": "code",
   "execution_count": 3,
   "metadata": {},
   "outputs": [
    {
     "data": {
      "text/html": [
       "<div>\n",
       "<style scoped>\n",
       "    .dataframe tbody tr th:only-of-type {\n",
       "        vertical-align: middle;\n",
       "    }\n",
       "\n",
       "    .dataframe tbody tr th {\n",
       "        vertical-align: top;\n",
       "    }\n",
       "\n",
       "    .dataframe thead th {\n",
       "        text-align: right;\n",
       "    }\n",
       "</style>\n",
       "<table border=\"1\" class=\"dataframe\">\n",
       "  <thead>\n",
       "    <tr style=\"text-align: right;\">\n",
       "      <th></th>\n",
       "      <th>text</th>\n",
       "      <th>toxic</th>\n",
       "    </tr>\n",
       "  </thead>\n",
       "  <tbody>\n",
       "    <tr>\n",
       "      <th>0</th>\n",
       "      <td>Explanation\\nWhy the edits made under my usern...</td>\n",
       "      <td>0</td>\n",
       "    </tr>\n",
       "    <tr>\n",
       "      <th>1</th>\n",
       "      <td>D'aww! He matches this background colour I'm s...</td>\n",
       "      <td>0</td>\n",
       "    </tr>\n",
       "    <tr>\n",
       "      <th>2</th>\n",
       "      <td>Hey man, I'm really not trying to edit war. It...</td>\n",
       "      <td>0</td>\n",
       "    </tr>\n",
       "    <tr>\n",
       "      <th>3</th>\n",
       "      <td>\"\\nMore\\nI can't make any real suggestions on ...</td>\n",
       "      <td>0</td>\n",
       "    </tr>\n",
       "    <tr>\n",
       "      <th>4</th>\n",
       "      <td>You, sir, are my hero. Any chance you remember...</td>\n",
       "      <td>0</td>\n",
       "    </tr>\n",
       "  </tbody>\n",
       "</table>\n",
       "</div>"
      ],
      "text/plain": [
       "                                                text  toxic\n",
       "0  Explanation\\nWhy the edits made under my usern...      0\n",
       "1  D'aww! He matches this background colour I'm s...      0\n",
       "2  Hey man, I'm really not trying to edit war. It...      0\n",
       "3  \"\\nMore\\nI can't make any real suggestions on ...      0\n",
       "4  You, sir, are my hero. Any chance you remember...      0"
      ]
     },
     "execution_count": 3,
     "metadata": {},
     "output_type": "execute_result"
    }
   ],
   "source": [
    "data.head()"
   ]
  },
  {
   "cell_type": "code",
   "execution_count": 4,
   "metadata": {},
   "outputs": [
    {
     "name": "stdout",
     "output_type": "stream",
     "text": [
      "<class 'pandas.core.frame.DataFrame'>\n",
      "RangeIndex: 159571 entries, 0 to 159570\n",
      "Data columns (total 2 columns):\n",
      " #   Column  Non-Null Count   Dtype \n",
      "---  ------  --------------   ----- \n",
      " 0   text    159571 non-null  object\n",
      " 1   toxic   159571 non-null  int64 \n",
      "dtypes: int64(1), object(1)\n",
      "memory usage: 2.4+ MB\n"
     ]
    }
   ],
   "source": [
    "data.info()"
   ]
  },
  {
   "cell_type": "markdown",
   "metadata": {},
   "source": [
    "Проверим присутствует ли дисбаланс классов:"
   ]
  },
  {
   "cell_type": "code",
   "execution_count": 5,
   "metadata": {},
   "outputs": [
    {
     "data": {
      "text/plain": [
       "0.10167887648758234"
      ]
     },
     "execution_count": 5,
     "metadata": {},
     "output_type": "execute_result"
    }
   ],
   "source": [
    "data['toxic'].mean()"
   ]
  },
  {
   "cell_type": "markdown",
   "metadata": {},
   "source": [
    "Дисбаланс классов присутствует!"
   ]
  },
  {
   "cell_type": "markdown",
   "metadata": {},
   "source": [
    "Напишем функцию для лемматизации текста:"
   ]
  },
  {
   "cell_type": "code",
   "execution_count": 6,
   "metadata": {},
   "outputs": [],
   "source": [
    "def lemmatize(text):\n",
    "    m = WordNetLemmatizer()\n",
    "    word_list = nltk.word_tokenize(text)\n",
    "    lemmatized_output = ' '.join([m.lemmatize(i) for i in word_list])\n",
    "    return lemmatized_output"
   ]
  },
  {
   "cell_type": "markdown",
   "metadata": {},
   "source": [
    "Напишем функцию для очистки текста от лишних символов:"
   ]
  },
  {
   "cell_type": "code",
   "execution_count": 7,
   "metadata": {},
   "outputs": [],
   "source": [
    "def clear_text(text):\n",
    "    return \" \".join(re.sub(r'[^a-zA-Z]', ' ', text.lower()).split())"
   ]
  },
  {
   "cell_type": "markdown",
   "metadata": {},
   "source": [
    "Ввиду большого дисбаланса классов, разделим данные на обучающую и тестовую выборки, и в обучающей выборке уменьшим дисбаланс классов, а в тестовой выборке оставим естественный:"
   ]
  },
  {
   "cell_type": "code",
   "execution_count": 8,
   "metadata": {},
   "outputs": [],
   "source": [
    "train, test = train_test_split(data,\n",
    "                               test_size=0.25,\n",
    "                               random_state=12345,\n",
    "                               stratify=data['toxic'])"
   ]
  },
  {
   "cell_type": "code",
   "execution_count": 9,
   "metadata": {},
   "outputs": [],
   "source": [
    "#train_zeros = train[train['toxic'] == 0]\n",
    "#train_ones = train[train['toxic'] == 1]"
   ]
  },
  {
   "cell_type": "code",
   "execution_count": 10,
   "metadata": {},
   "outputs": [],
   "source": [
    "#fraction = train['toxic'].mean()\n",
    "#train_downsampled = pd.concat(\n",
    "#    [train_zeros.sample(frac=fraction,\n",
    "#                        random_state=123)] + [train_ones])\n",
    "#train_downsampled = shuffle(train_downsampled,\n",
    "#                            random_state=123)\n",
    "train_downsampled = train"
   ]
  },
  {
   "cell_type": "markdown",
   "metadata": {},
   "source": [
    "Проверим дисбаланс классов в тренировочной выборке:"
   ]
  },
  {
   "cell_type": "code",
   "execution_count": 12,
   "metadata": {},
   "outputs": [
    {
     "data": {
      "text/plain": [
       "0.10168117782716957"
      ]
     },
     "execution_count": 12,
     "metadata": {},
     "output_type": "execute_result"
    }
   ],
   "source": [
    "train_downsampled['toxic'].mean()"
   ]
  },
  {
   "cell_type": "code",
   "execution_count": 13,
   "metadata": {
    "scrolled": true
   },
   "outputs": [
    {
     "name": "stdout",
     "output_type": "stream",
     "text": [
      "<class 'pandas.core.frame.DataFrame'>\n",
      "Int64Index: 119678 entries, 510 to 56802\n",
      "Data columns (total 2 columns):\n",
      " #   Column  Non-Null Count   Dtype \n",
      "---  ------  --------------   ----- \n",
      " 0   text    119678 non-null  object\n",
      " 1   toxic   119678 non-null  int64 \n",
      "dtypes: int64(1), object(1)\n",
      "memory usage: 2.7+ MB\n"
     ]
    }
   ],
   "source": [
    "train_downsampled.info()"
   ]
  },
  {
   "cell_type": "code",
   "execution_count": 14,
   "metadata": {
    "scrolled": true
   },
   "outputs": [
    {
     "name": "stdout",
     "output_type": "stream",
     "text": [
      "<class 'pandas.core.frame.DataFrame'>\n",
      "Int64Index: 39893 entries, 47336 to 94090\n",
      "Data columns (total 2 columns):\n",
      " #   Column  Non-Null Count  Dtype \n",
      "---  ------  --------------  ----- \n",
      " 0   text    39893 non-null  object\n",
      " 1   toxic   39893 non-null  int64 \n",
      "dtypes: int64(1), object(1)\n",
      "memory usage: 935.0+ KB\n"
     ]
    }
   ],
   "source": [
    "test.info()"
   ]
  },
  {
   "cell_type": "markdown",
   "metadata": {},
   "source": [
    "В тренировочной выборке дисбаланс классов устранен!"
   ]
  },
  {
   "cell_type": "markdown",
   "metadata": {},
   "source": [
    "Лемматизируем и очистим текст:"
   ]
  },
  {
   "cell_type": "code",
   "execution_count": 15,
   "metadata": {},
   "outputs": [],
   "source": [
    "train_downsampled = train_downsampled.reset_index(drop=True)\n",
    "test = test.reset_index(drop=True)"
   ]
  },
  {
   "cell_type": "code",
   "execution_count": 16,
   "metadata": {},
   "outputs": [
    {
     "name": "stderr",
     "output_type": "stream",
     "text": [
      "100%|██████████| 119678/119678 [08:54<00:00, 223.80it/s]\n"
     ]
    }
   ],
   "source": [
    "for i in tqdm(range(len(train_downsampled))):\n",
    "    train_downsampled.loc[i, 'lemm_text'] = lemmatize(train_downsampled.loc[i, 'text'])"
   ]
  },
  {
   "cell_type": "code",
   "execution_count": 17,
   "metadata": {},
   "outputs": [
    {
     "name": "stderr",
     "output_type": "stream",
     "text": [
      "100%|██████████| 39893/39893 [01:28<00:00, 450.42it/s]\n"
     ]
    }
   ],
   "source": [
    "for i in tqdm(range(len(test))):\n",
    "    test.loc[i, 'lemm_text'] = lemmatize(test.loc[i, 'text'])"
   ]
  },
  {
   "cell_type": "code",
   "execution_count": 18,
   "metadata": {},
   "outputs": [
    {
     "name": "stderr",
     "output_type": "stream",
     "text": [
      "100%|██████████| 119678/119678 [09:58<00:00, 199.98it/s]\n"
     ]
    }
   ],
   "source": [
    "for i in tqdm(range(len(train_downsampled))):\n",
    "    train_downsampled.loc[i, 'lemm_text'] = clear_text(train_downsampled.loc[i, 'lemm_text'])"
   ]
  },
  {
   "cell_type": "code",
   "execution_count": 19,
   "metadata": {},
   "outputs": [
    {
     "name": "stderr",
     "output_type": "stream",
     "text": [
      "100%|██████████| 39893/39893 [01:06<00:00, 602.31it/s]\n"
     ]
    }
   ],
   "source": [
    "for i in tqdm(range(len(test))):\n",
    "    test.loc[i, 'lemm_text'] = clear_text(test.loc[i, 'lemm_text'])"
   ]
  },
  {
   "cell_type": "markdown",
   "metadata": {},
   "source": [
    "Подготовленные данные:"
   ]
  },
  {
   "cell_type": "code",
   "execution_count": 20,
   "metadata": {},
   "outputs": [
    {
     "data": {
      "text/html": [
       "<div>\n",
       "<style scoped>\n",
       "    .dataframe tbody tr th:only-of-type {\n",
       "        vertical-align: middle;\n",
       "    }\n",
       "\n",
       "    .dataframe tbody tr th {\n",
       "        vertical-align: top;\n",
       "    }\n",
       "\n",
       "    .dataframe thead th {\n",
       "        text-align: right;\n",
       "    }\n",
       "</style>\n",
       "<table border=\"1\" class=\"dataframe\">\n",
       "  <thead>\n",
       "    <tr style=\"text-align: right;\">\n",
       "      <th></th>\n",
       "      <th>text</th>\n",
       "      <th>toxic</th>\n",
       "      <th>lemm_text</th>\n",
       "    </tr>\n",
       "  </thead>\n",
       "  <tbody>\n",
       "    <tr>\n",
       "      <th>0</th>\n",
       "      <td>Belarus a developed country\\nHahaha, nothing m...</td>\n",
       "      <td>0</td>\n",
       "      <td>belarus a developed country hahaha nothing mor...</td>\n",
       "    </tr>\n",
       "    <tr>\n",
       "      <th>1</th>\n",
       "      <td>Simon-in-sagamihara|talk]]) 04:43, 12 February...</td>\n",
       "      <td>0</td>\n",
       "      <td>simon in sagamihara talk february</td>\n",
       "    </tr>\n",
       "    <tr>\n",
       "      <th>2</th>\n",
       "      <td>I believe the benefit that you are seeking is ...</td>\n",
       "      <td>0</td>\n",
       "      <td>i believe the benefit that you are seeking is ...</td>\n",
       "    </tr>\n",
       "    <tr>\n",
       "      <th>3</th>\n",
       "      <td>before talking about others\\nIslam will take over</td>\n",
       "      <td>0</td>\n",
       "      <td>before talking about others islam will take over</td>\n",
       "    </tr>\n",
       "    <tr>\n",
       "      <th>4</th>\n",
       "      <td>Looking through the history of this article an...</td>\n",
       "      <td>0</td>\n",
       "      <td>looking through the history of this article an...</td>\n",
       "    </tr>\n",
       "  </tbody>\n",
       "</table>\n",
       "</div>"
      ],
      "text/plain": [
       "                                                text  toxic  \\\n",
       "0  Belarus a developed country\\nHahaha, nothing m...      0   \n",
       "1  Simon-in-sagamihara|talk]]) 04:43, 12 February...      0   \n",
       "2  I believe the benefit that you are seeking is ...      0   \n",
       "3  before talking about others\\nIslam will take over      0   \n",
       "4  Looking through the history of this article an...      0   \n",
       "\n",
       "                                           lemm_text  \n",
       "0  belarus a developed country hahaha nothing mor...  \n",
       "1                  simon in sagamihara talk february  \n",
       "2  i believe the benefit that you are seeking is ...  \n",
       "3   before talking about others islam will take over  \n",
       "4  looking through the history of this article an...  "
      ]
     },
     "execution_count": 20,
     "metadata": {},
     "output_type": "execute_result"
    }
   ],
   "source": [
    "train_downsampled.head()"
   ]
  },
  {
   "cell_type": "code",
   "execution_count": 21,
   "metadata": {},
   "outputs": [
    {
     "data": {
      "text/html": [
       "<div>\n",
       "<style scoped>\n",
       "    .dataframe tbody tr th:only-of-type {\n",
       "        vertical-align: middle;\n",
       "    }\n",
       "\n",
       "    .dataframe tbody tr th {\n",
       "        vertical-align: top;\n",
       "    }\n",
       "\n",
       "    .dataframe thead th {\n",
       "        text-align: right;\n",
       "    }\n",
       "</style>\n",
       "<table border=\"1\" class=\"dataframe\">\n",
       "  <thead>\n",
       "    <tr style=\"text-align: right;\">\n",
       "      <th></th>\n",
       "      <th>text</th>\n",
       "      <th>toxic</th>\n",
       "      <th>lemm_text</th>\n",
       "    </tr>\n",
       "  </thead>\n",
       "  <tbody>\n",
       "    <tr>\n",
       "      <th>0</th>\n",
       "      <td>The same standards obviously do not hold for l...</td>\n",
       "      <td>0</td>\n",
       "      <td>the same standard obviously do not hold for li...</td>\n",
       "    </tr>\n",
       "    <tr>\n",
       "      <th>1</th>\n",
       "      <td>\"\\n\\n I think what we have here is a differenc...</td>\n",
       "      <td>0</td>\n",
       "      <td>i think what we have here is a difference in v...</td>\n",
       "    </tr>\n",
       "    <tr>\n",
       "      <th>2</th>\n",
       "      <td>\"\\nhttp://don.logan.com/aboutus.htm\\n\\nNope yo...</td>\n",
       "      <td>0</td>\n",
       "      <td>http don logan com aboutus htm nope your incor...</td>\n",
       "    </tr>\n",
       "    <tr>\n",
       "      <th>3</th>\n",
       "      <td>\"=== Page is in rough shape ===\\nWith the rece...</td>\n",
       "      <td>0</td>\n",
       "      <td>page is in rough shape with the recent purge o...</td>\n",
       "    </tr>\n",
       "    <tr>\n",
       "      <th>4</th>\n",
       "      <td>Seattle Biomed AGAIN \\n\\nDid you read my messa...</td>\n",
       "      <td>0</td>\n",
       "      <td>seattle biomed again did you read my message t...</td>\n",
       "    </tr>\n",
       "  </tbody>\n",
       "</table>\n",
       "</div>"
      ],
      "text/plain": [
       "                                                text  toxic  \\\n",
       "0  The same standards obviously do not hold for l...      0   \n",
       "1  \"\\n\\n I think what we have here is a differenc...      0   \n",
       "2  \"\\nhttp://don.logan.com/aboutus.htm\\n\\nNope yo...      0   \n",
       "3  \"=== Page is in rough shape ===\\nWith the rece...      0   \n",
       "4  Seattle Biomed AGAIN \\n\\nDid you read my messa...      0   \n",
       "\n",
       "                                           lemm_text  \n",
       "0  the same standard obviously do not hold for li...  \n",
       "1  i think what we have here is a difference in v...  \n",
       "2  http don logan com aboutus htm nope your incor...  \n",
       "3  page is in rough shape with the recent purge o...  \n",
       "4  seattle biomed again did you read my message t...  "
      ]
     },
     "execution_count": 21,
     "metadata": {},
     "output_type": "execute_result"
    }
   ],
   "source": [
    "test.head()"
   ]
  },
  {
   "cell_type": "markdown",
   "metadata": {},
   "source": [
    "Вывод: слова приведены к леммам и текст очищен от мусора."
   ]
  },
  {
   "cell_type": "markdown",
   "metadata": {},
   "source": [
    "## Обучение"
   ]
  },
  {
   "cell_type": "markdown",
   "metadata": {},
   "source": [
    "### CatBoost"
   ]
  },
  {
   "cell_type": "markdown",
   "metadata": {},
   "source": [
    "Модель CatBoost может обрабатывать под капотом естественный язык, воспользуемся данным функционалом:"
   ]
  },
  {
   "cell_type": "markdown",
   "metadata": {},
   "source": [
    "Разделим таргет и фичи:"
   ]
  },
  {
   "cell_type": "code",
   "execution_count": 22,
   "metadata": {},
   "outputs": [],
   "source": [
    "features_train = train_downsampled.drop(['text', 'toxic'], axis = 1)\n",
    "target_train = train_downsampled['toxic']\n",
    "features_test = test.drop(['text', 'toxic'], axis = 1)\n",
    "target_test = test['toxic']"
   ]
  },
  {
   "cell_type": "markdown",
   "metadata": {},
   "source": [
    "Найдем оптимальные гиперпараметры:"
   ]
  },
  {
   "cell_type": "code",
   "execution_count": null,
   "metadata": {},
   "outputs": [],
   "source": [
    "%%time\n",
    "model = CatBoostClassifier()\n",
    "params = {\n",
    "    'max_depth' : [2, 5],\n",
    "    'random_seed' : [12345],\n",
    "    'learning_rate' : [0.1],\n",
    "    'logging_level' : ['Silent'],\n",
    "}\n",
    "grid = GridSearchCV(estimator = model,\n",
    "                    param_grid = params,\n",
    "                    cv = 3,\n",
    "                    scoring = 'f1')\n",
    "grid.fit(features_train, target_train,\n",
    "         text_features = ['lemm_text'],\n",
    "         plot = False)"
   ]
  },
  {
   "cell_type": "code",
   "execution_count": 23,
   "metadata": {},
   "outputs": [],
   "source": [
    "print('Лучшие гиперпараметры: ', grid.best_params_)"
   ]
  },
  {
   "cell_type": "markdown",
   "metadata": {},
   "source": [
    "Обучим модель с подобранными гиперпараметрами:"
   ]
  },
  {
   "cell_type": "code",
   "execution_count": 24,
   "metadata": {},
   "outputs": [],
   "source": [
    "model = CatBoostClassifier(max_depth = 5,\n",
    "                           random_seed = 12345,\n",
    "                           learning_rate = 0.1,\n",
    "                           logging_level = 'Silent',\n",
    "                           eval_metric = 'F1')"
   ]
  },
  {
   "cell_type": "code",
   "execution_count": 25,
   "metadata": {},
   "outputs": [
    {
     "name": "stdout",
     "output_type": "stream",
     "text": [
      "CPU times: user 5min 40s, sys: 23.2 s, total: 6min 3s\n",
      "Wall time: 6min 5s\n"
     ]
    },
    {
     "data": {
      "text/plain": [
       "<catboost.core.CatBoostClassifier at 0x7ff60175fcd0>"
      ]
     },
     "execution_count": 25,
     "metadata": {},
     "output_type": "execute_result"
    }
   ],
   "source": [
    "%%time\n",
    "model.fit(features_train,\n",
    "          target_train,\n",
    "          text_features = ['lemm_text'],\n",
    "          plot=False)"
   ]
  },
  {
   "cell_type": "code",
   "execution_count": 26,
   "metadata": {},
   "outputs": [],
   "source": [
    "pred_test = model.predict(features_test)"
   ]
  },
  {
   "cell_type": "code",
   "execution_count": 27,
   "metadata": {},
   "outputs": [
    {
     "name": "stdout",
     "output_type": "stream",
     "text": [
      "F1: 0.7819528250137137\n"
     ]
    }
   ],
   "source": [
    "f1 = f1_score(target_test, pred_test)\n",
    "print('F1:',f1)"
   ]
  },
  {
   "cell_type": "markdown",
   "metadata": {},
   "source": [
    "Удалось достичь метрики F1 равной 0.78"
   ]
  },
  {
   "cell_type": "markdown",
   "metadata": {},
   "source": [
    "### TF-IDF и логистическая регрессия"
   ]
  },
  {
   "cell_type": "markdown",
   "metadata": {},
   "source": [
    "Разделим выборку на обучающую и тестовую:"
   ]
  },
  {
   "cell_type": "code",
   "execution_count": 29,
   "metadata": {},
   "outputs": [],
   "source": [
    "features_train = train_downsampled['lemm_text']\n",
    "target_train = train_downsampled['toxic']\n",
    "features_test = test['lemm_text']\n",
    "target_test = test['toxic']"
   ]
  },
  {
   "cell_type": "code",
   "execution_count": 30,
   "metadata": {},
   "outputs": [],
   "source": [
    "corpus = features_train.values"
   ]
  },
  {
   "cell_type": "code",
   "execution_count": 31,
   "metadata": {},
   "outputs": [
    {
     "name": "stderr",
     "output_type": "stream",
     "text": [
      "[nltk_data] Downloading package stopwords to /home/jovyan/nltk_data...\n",
      "[nltk_data]   Package stopwords is already up-to-date!\n"
     ]
    }
   ],
   "source": [
    "nltk.download('stopwords')\n",
    "stopwords = set(nltk_stopwords.words('english'))"
   ]
  },
  {
   "cell_type": "code",
   "execution_count": 32,
   "metadata": {},
   "outputs": [],
   "source": [
    "count_tf_idf = TfidfVectorizer(stop_words=stopwords,\n",
    "                               ngram_range=(1, 1))\n",
    "tf_idf = count_tf_idf.fit_transform(corpus)"
   ]
  },
  {
   "cell_type": "markdown",
   "metadata": {},
   "source": [
    "Подготовим текст в тестовой выборке:"
   ]
  },
  {
   "cell_type": "code",
   "execution_count": 33,
   "metadata": {},
   "outputs": [],
   "source": [
    "corpus_test = features_test.values\n",
    "tf_idf_test = count_tf_idf.transform(corpus_test)"
   ]
  },
  {
   "cell_type": "markdown",
   "metadata": {},
   "source": [
    "Вектора подготовлены, обучим модель:"
   ]
  },
  {
   "cell_type": "code",
   "execution_count": 34,
   "metadata": {},
   "outputs": [
    {
     "data": {
      "text/plain": [
       "LogisticRegression(max_iter=1000, random_state=4057)"
      ]
     },
     "execution_count": 34,
     "metadata": {},
     "output_type": "execute_result"
    }
   ],
   "source": [
    "model_lr = LogisticRegression(random_state = 4057, \n",
    "                              solver='lbfgs',\n",
    "                              max_iter=1000,\n",
    "                              class_weight='balanced')\n",
    "model_lr.fit(tf_idf, target_train)"
   ]
  },
  {
   "cell_type": "markdown",
   "metadata": {},
   "source": [
    "Сделаем предсказание для тестовой выборки:"
   ]
  },
  {
   "cell_type": "code",
   "execution_count": 35,
   "metadata": {},
   "outputs": [],
   "source": [
    "predict = model_lr.predict(tf_idf_test)"
   ]
  },
  {
   "cell_type": "code",
   "execution_count": 36,
   "metadata": {},
   "outputs": [
    {
     "name": "stdout",
     "output_type": "stream",
     "text": [
      "F1: 0.7283913565426171\n"
     ]
    }
   ],
   "source": [
    "f1 = f1_score(target_test, predict)\n",
    "print('F1:',f1)"
   ]
  },
  {
   "cell_type": "markdown",
   "metadata": {},
   "source": [
    "### TF-IDF и CatBoost"
   ]
  },
  {
   "cell_type": "code",
   "execution_count": 38,
   "metadata": {},
   "outputs": [],
   "source": [
    "model = CatBoostClassifier(max_depth = 5,\n",
    "                           random_seed = 12345,\n",
    "                           learning_rate = 0.1,\n",
    "                           logging_level = 'Silent',\n",
    "                           eval_metric = 'F1')"
   ]
  },
  {
   "cell_type": "code",
   "execution_count": null,
   "metadata": {},
   "outputs": [],
   "source": [
    "%%time\n",
    "model.fit(tf_idf,\n",
    "          target_train,\n",
    "          plot=False)"
   ]
  },
  {
   "cell_type": "code",
   "execution_count": null,
   "metadata": {},
   "outputs": [],
   "source": [
    "pred_test = model.predict(tf_idf_test)"
   ]
  },
  {
   "cell_type": "code",
   "execution_count": null,
   "metadata": {},
   "outputs": [],
   "source": [
    "f1 = f1_score(target_test, pred_test)\n",
    "print('F1:',f1)"
   ]
  },
  {
   "cell_type": "code",
   "execution_count": null,
   "metadata": {},
   "outputs": [],
   "source": [
    "print(recall_score(target_test, pred_test))\n",
    "print(precision_score(target_test, pred_test))"
   ]
  },
  {
   "cell_type": "markdown",
   "metadata": {},
   "source": [
    "## Выводы"
   ]
  },
  {
   "cell_type": "markdown",
   "metadata": {},
   "source": [
    "Удалось достичь метрики F1 равной 0.78"
   ]
  }
 ],
 "metadata": {
  "ExecuteTimeLog": [
   {
    "duration": 44,
    "start_time": "2022-07-19T17:33:05.163Z"
   },
   {
    "duration": 371,
    "start_time": "2022-07-19T17:33:19.961Z"
   },
   {
    "duration": 2323,
    "start_time": "2022-07-19T17:33:21.947Z"
   },
   {
    "duration": 14,
    "start_time": "2022-07-19T17:33:31.557Z"
   },
   {
    "duration": 7,
    "start_time": "2022-07-19T17:45:05.014Z"
   },
   {
    "duration": 32,
    "start_time": "2022-07-19T17:45:12.775Z"
   },
   {
    "duration": 5,
    "start_time": "2022-07-19T18:53:10.891Z"
   },
   {
    "duration": 22,
    "start_time": "2022-07-19T18:53:34.566Z"
   },
   {
    "duration": 39,
    "start_time": "2022-07-19T18:53:43.763Z"
   },
   {
    "duration": 16,
    "start_time": "2022-07-19T18:53:56.659Z"
   },
   {
    "duration": 8,
    "start_time": "2022-07-19T18:54:09.541Z"
   },
   {
    "duration": 5,
    "start_time": "2022-07-19T18:54:26.072Z"
   },
   {
    "duration": 5,
    "start_time": "2022-07-19T18:54:48.917Z"
   },
   {
    "duration": 6,
    "start_time": "2022-07-19T18:54:57.796Z"
   },
   {
    "duration": 5,
    "start_time": "2022-07-19T18:55:00.915Z"
   },
   {
    "duration": 4,
    "start_time": "2022-07-19T18:55:43.035Z"
   },
   {
    "duration": 430,
    "start_time": "2022-07-20T15:57:53.121Z"
   },
   {
    "duration": 3287,
    "start_time": "2022-07-20T15:57:53.554Z"
   },
   {
    "duration": 17,
    "start_time": "2022-07-20T15:57:56.844Z"
   },
   {
    "duration": 79,
    "start_time": "2022-07-20T15:57:56.863Z"
   },
   {
    "duration": 16,
    "start_time": "2022-07-20T15:57:56.945Z"
   },
   {
    "duration": 3,
    "start_time": "2022-07-20T16:07:55.595Z"
   },
   {
    "duration": 4,
    "start_time": "2022-07-20T16:08:01.040Z"
   },
   {
    "duration": 2,
    "start_time": "2022-07-20T16:08:16.461Z"
   },
   {
    "duration": 3,
    "start_time": "2022-07-20T16:08:16.603Z"
   },
   {
    "duration": 2115,
    "start_time": "2022-07-20T16:08:30.049Z"
   },
   {
    "duration": 21,
    "start_time": "2022-07-20T16:08:32.167Z"
   },
   {
    "duration": 5,
    "start_time": "2022-07-20T16:09:40.675Z"
   },
   {
    "duration": 3,
    "start_time": "2022-07-20T16:17:00.112Z"
   },
   {
    "duration": 70,
    "start_time": "2022-07-20T16:17:02.212Z"
   },
   {
    "duration": 9,
    "start_time": "2022-07-20T16:17:11.584Z"
   },
   {
    "duration": 13,
    "start_time": "2022-07-20T16:18:30.703Z"
   },
   {
    "duration": 3,
    "start_time": "2022-07-20T16:18:42.234Z"
   },
   {
    "duration": 1211,
    "start_time": "2022-07-20T16:18:42.798Z"
   },
   {
    "duration": 7,
    "start_time": "2022-07-20T16:18:44.012Z"
   },
   {
    "duration": 37,
    "start_time": "2022-07-20T16:18:44.021Z"
   },
   {
    "duration": 6,
    "start_time": "2022-07-20T16:18:44.061Z"
   },
   {
    "duration": 553,
    "start_time": "2022-07-20T16:19:23.147Z"
   },
   {
    "duration": 3154,
    "start_time": "2022-07-20T16:19:23.702Z"
   },
   {
    "duration": 29,
    "start_time": "2022-07-20T16:19:26.858Z"
   },
   {
    "duration": 53,
    "start_time": "2022-07-20T16:19:26.891Z"
   },
   {
    "duration": 4,
    "start_time": "2022-07-20T16:19:26.946Z"
   },
   {
    "duration": 2164,
    "start_time": "2022-07-20T16:19:26.952Z"
   },
   {
    "duration": 3,
    "start_time": "2022-07-20T16:19:29.118Z"
   },
   {
    "duration": 90,
    "start_time": "2022-07-20T16:19:29.122Z"
   },
   {
    "duration": 986,
    "start_time": "2022-07-20T16:19:37.220Z"
   },
   {
    "duration": 5,
    "start_time": "2022-07-20T16:19:44.948Z"
   },
   {
    "duration": 23,
    "start_time": "2022-07-20T16:20:04.313Z"
   },
   {
    "duration": 33,
    "start_time": "2022-07-20T16:20:23.860Z"
   },
   {
    "duration": 55,
    "start_time": "2022-07-20T16:20:31.502Z"
   },
   {
    "duration": 16,
    "start_time": "2022-07-20T16:20:36.158Z"
   },
   {
    "duration": 59,
    "start_time": "2022-07-20T16:52:37.745Z"
   },
   {
    "duration": 12,
    "start_time": "2022-07-20T16:52:37.858Z"
   },
   {
    "duration": 28,
    "start_time": "2022-07-20T16:52:43.357Z"
   },
   {
    "duration": 7,
    "start_time": "2022-07-20T16:56:29.292Z"
   },
   {
    "duration": 13,
    "start_time": "2022-07-20T16:57:26.599Z"
   },
   {
    "duration": 15,
    "start_time": "2022-07-20T16:57:37.654Z"
   },
   {
    "duration": 17,
    "start_time": "2022-07-20T16:57:41.808Z"
   },
   {
    "duration": 109,
    "start_time": "2022-07-20T16:58:03.691Z"
   },
   {
    "duration": 1463,
    "start_time": "2022-07-20T16:58:08.191Z"
   },
   {
    "duration": 1826,
    "start_time": "2022-07-20T16:58:17.294Z"
   },
   {
    "duration": 4,
    "start_time": "2022-07-20T16:58:34.500Z"
   },
   {
    "duration": 11,
    "start_time": "2022-07-20T16:59:58.746Z"
   },
   {
    "duration": 24,
    "start_time": "2022-07-20T17:00:03.264Z"
   },
   {
    "duration": 18,
    "start_time": "2022-07-20T17:00:08.693Z"
   },
   {
    "duration": 5,
    "start_time": "2022-07-20T17:01:56.107Z"
   },
   {
    "duration": 4,
    "start_time": "2022-07-20T17:02:02.258Z"
   },
   {
    "duration": 11,
    "start_time": "2022-07-20T17:02:09.296Z"
   },
   {
    "duration": 5,
    "start_time": "2022-07-20T17:02:14.447Z"
   },
   {
    "duration": 444,
    "start_time": "2022-07-20T17:03:06.095Z"
   },
   {
    "duration": 1773,
    "start_time": "2022-07-20T17:03:06.541Z"
   },
   {
    "duration": 15,
    "start_time": "2022-07-20T17:03:08.316Z"
   },
   {
    "duration": 43,
    "start_time": "2022-07-20T17:03:08.333Z"
   },
   {
    "duration": 33,
    "start_time": "2022-07-20T17:03:08.379Z"
   },
   {
    "duration": 2236,
    "start_time": "2022-07-20T17:03:08.414Z"
   },
   {
    "duration": 65,
    "start_time": "2022-07-20T17:03:10.653Z"
   },
   {
    "duration": 565532,
    "start_time": "2022-07-20T17:03:10.721Z"
   },
   {
    "duration": 0,
    "start_time": "2022-07-20T17:12:36.264Z"
   },
   {
    "duration": 6,
    "start_time": "2022-07-20T17:12:45.144Z"
   },
   {
    "duration": 5,
    "start_time": "2022-07-20T17:12:49.825Z"
   },
   {
    "duration": 6,
    "start_time": "2022-07-20T17:13:12.649Z"
   },
   {
    "duration": 1941,
    "start_time": "2022-07-20T17:13:12.789Z"
   },
   {
    "duration": 8,
    "start_time": "2022-07-20T17:13:14.733Z"
   },
   {
    "duration": 63,
    "start_time": "2022-07-20T17:13:14.743Z"
   },
   {
    "duration": 16,
    "start_time": "2022-07-20T17:13:14.809Z"
   },
   {
    "duration": 483,
    "start_time": "2022-07-20T17:13:30.914Z"
   },
   {
    "duration": 2605,
    "start_time": "2022-07-20T17:13:31.402Z"
   },
   {
    "duration": 14,
    "start_time": "2022-07-20T17:13:34.009Z"
   },
   {
    "duration": 54,
    "start_time": "2022-07-20T17:13:34.025Z"
   },
   {
    "duration": 9,
    "start_time": "2022-07-20T17:13:34.082Z"
   },
   {
    "duration": 2093,
    "start_time": "2022-07-20T17:13:34.092Z"
   },
   {
    "duration": 9,
    "start_time": "2022-07-20T17:13:36.187Z"
   },
   {
    "duration": 84,
    "start_time": "2022-07-20T17:13:36.197Z"
   },
   {
    "duration": 0,
    "start_time": "2022-07-20T17:13:36.283Z"
   },
   {
    "duration": 0,
    "start_time": "2022-07-20T17:13:36.284Z"
   },
   {
    "duration": 89058,
    "start_time": "2022-07-20T17:13:50.345Z"
   },
   {
    "duration": 4647,
    "start_time": "2022-07-20T17:15:23.535Z"
   },
   {
    "duration": 9,
    "start_time": "2022-07-20T17:15:37.231Z"
   },
   {
    "duration": 3,
    "start_time": "2022-07-20T17:16:03.915Z"
   },
   {
    "duration": 886,
    "start_time": "2022-07-20T17:16:04.079Z"
   },
   {
    "duration": 12,
    "start_time": "2022-07-20T17:16:04.968Z"
   },
   {
    "duration": 44,
    "start_time": "2022-07-20T17:16:06.254Z"
   },
   {
    "duration": 6,
    "start_time": "2022-07-20T17:16:07.676Z"
   },
   {
    "duration": 424,
    "start_time": "2022-07-20T17:16:18.315Z"
   },
   {
    "duration": 2603,
    "start_time": "2022-07-20T17:16:18.741Z"
   },
   {
    "duration": 14,
    "start_time": "2022-07-20T17:16:21.346Z"
   },
   {
    "duration": 49,
    "start_time": "2022-07-20T17:16:21.362Z"
   },
   {
    "duration": 6,
    "start_time": "2022-07-20T17:16:21.414Z"
   },
   {
    "duration": 2251,
    "start_time": "2022-07-20T17:16:21.421Z"
   },
   {
    "duration": 4,
    "start_time": "2022-07-20T17:16:25.832Z"
   },
   {
    "duration": 4831,
    "start_time": "2022-07-20T17:16:32.068Z"
   },
   {
    "duration": 9,
    "start_time": "2022-07-20T17:16:43.801Z"
   },
   {
    "duration": 9,
    "start_time": "2022-07-20T17:16:49.747Z"
   },
   {
    "duration": 1154,
    "start_time": "2022-07-20T17:18:12.079Z"
   },
   {
    "duration": 4,
    "start_time": "2022-07-20T17:18:17.487Z"
   },
   {
    "duration": 13,
    "start_time": "2022-07-20T17:18:34.015Z"
   },
   {
    "duration": 10,
    "start_time": "2022-07-20T17:18:46.497Z"
   },
   {
    "duration": 4,
    "start_time": "2022-07-20T17:19:14.577Z"
   },
   {
    "duration": 17,
    "start_time": "2022-07-20T17:19:25.563Z"
   },
   {
    "duration": 6,
    "start_time": "2022-07-20T17:20:00.870Z"
   },
   {
    "duration": 901,
    "start_time": "2022-07-20T17:20:01.034Z"
   },
   {
    "duration": 7,
    "start_time": "2022-07-20T17:20:01.936Z"
   },
   {
    "duration": 68,
    "start_time": "2022-07-20T17:20:01.945Z"
   },
   {
    "duration": 31,
    "start_time": "2022-07-20T17:20:02.015Z"
   },
   {
    "duration": 424,
    "start_time": "2022-07-20T17:20:12.816Z"
   },
   {
    "duration": 2561,
    "start_time": "2022-07-20T17:20:13.242Z"
   },
   {
    "duration": 13,
    "start_time": "2022-07-20T17:20:15.805Z"
   },
   {
    "duration": 37,
    "start_time": "2022-07-20T17:20:15.820Z"
   },
   {
    "duration": 5,
    "start_time": "2022-07-20T17:20:16.138Z"
   },
   {
    "duration": 2165,
    "start_time": "2022-07-20T17:20:17.264Z"
   },
   {
    "duration": 5,
    "start_time": "2022-07-20T17:20:22.737Z"
   },
   {
    "duration": 2219,
    "start_time": "2022-07-20T17:20:22.944Z"
   },
   {
    "duration": 1936,
    "start_time": "2022-07-20T17:20:44.385Z"
   },
   {
    "duration": 1889,
    "start_time": "2022-07-20T17:20:56.920Z"
   },
   {
    "duration": 51,
    "start_time": "2022-07-20T17:21:37.616Z"
   },
   {
    "duration": 2027,
    "start_time": "2022-07-20T17:21:42.455Z"
   },
   {
    "duration": 32317,
    "start_time": "2022-07-20T17:21:50.677Z"
   },
   {
    "duration": 389,
    "start_time": "2022-07-20T17:23:09.905Z"
   },
   {
    "duration": 941,
    "start_time": "2022-07-20T17:23:10.296Z"
   },
   {
    "duration": 14,
    "start_time": "2022-07-20T17:23:11.238Z"
   },
   {
    "duration": 39,
    "start_time": "2022-07-20T17:23:11.264Z"
   },
   {
    "duration": 6,
    "start_time": "2022-07-20T17:23:11.305Z"
   },
   {
    "duration": 2299,
    "start_time": "2022-07-20T17:23:11.313Z"
   },
   {
    "duration": 3,
    "start_time": "2022-07-20T17:23:13.614Z"
   },
   {
    "duration": 424,
    "start_time": "2022-07-20T17:23:34.237Z"
   },
   {
    "duration": 882,
    "start_time": "2022-07-20T17:23:34.667Z"
   },
   {
    "duration": 18,
    "start_time": "2022-07-20T17:23:35.551Z"
   },
   {
    "duration": 41,
    "start_time": "2022-07-20T17:23:35.571Z"
   },
   {
    "duration": 5,
    "start_time": "2022-07-20T17:23:35.614Z"
   },
   {
    "duration": 2187,
    "start_time": "2022-07-20T17:23:35.621Z"
   },
   {
    "duration": 14,
    "start_time": "2022-07-20T17:23:37.810Z"
   },
   {
    "duration": 413,
    "start_time": "2022-07-20T17:23:54.835Z"
   },
   {
    "duration": 926,
    "start_time": "2022-07-20T17:23:55.250Z"
   },
   {
    "duration": 17,
    "start_time": "2022-07-20T17:23:56.178Z"
   },
   {
    "duration": 37,
    "start_time": "2022-07-20T17:23:56.198Z"
   },
   {
    "duration": 5,
    "start_time": "2022-07-20T17:23:56.237Z"
   },
   {
    "duration": 2216,
    "start_time": "2022-07-20T17:23:56.264Z"
   },
   {
    "duration": 6,
    "start_time": "2022-07-20T17:23:58.482Z"
   },
   {
    "duration": 25488,
    "start_time": "2022-07-20T17:23:58.489Z"
   },
   {
    "duration": 0,
    "start_time": "2022-07-20T17:24:23.979Z"
   },
   {
    "duration": 0,
    "start_time": "2022-07-20T17:24:23.981Z"
   },
   {
    "duration": 417,
    "start_time": "2022-07-20T17:24:27.257Z"
   },
   {
    "duration": 947,
    "start_time": "2022-07-20T17:24:27.680Z"
   },
   {
    "duration": 14,
    "start_time": "2022-07-20T17:24:28.629Z"
   },
   {
    "duration": 53,
    "start_time": "2022-07-20T17:24:28.645Z"
   },
   {
    "duration": 5,
    "start_time": "2022-07-20T17:24:28.700Z"
   },
   {
    "duration": 2281,
    "start_time": "2022-07-20T17:24:28.707Z"
   },
   {
    "duration": 33,
    "start_time": "2022-07-20T17:24:30.991Z"
   },
   {
    "duration": 4892,
    "start_time": "2022-07-20T17:24:31.026Z"
   },
   {
    "duration": 4,
    "start_time": "2022-07-20T17:24:35.920Z"
   },
   {
    "duration": 15,
    "start_time": "2022-07-20T17:24:35.926Z"
   },
   {
    "duration": 999,
    "start_time": "2022-07-20T17:25:06.546Z"
   },
   {
    "duration": 964,
    "start_time": "2022-07-20T17:25:13.878Z"
   },
   {
    "duration": 1055,
    "start_time": "2022-07-20T17:25:21.645Z"
   },
   {
    "duration": 74,
    "start_time": "2022-07-20T17:26:04.498Z"
   },
   {
    "duration": 2158,
    "start_time": "2022-07-20T17:26:09.036Z"
   },
   {
    "duration": 270,
    "start_time": "2022-07-20T17:28:53.509Z"
   },
   {
    "duration": 32,
    "start_time": "2022-07-20T17:28:58.642Z"
   },
   {
    "duration": 7,
    "start_time": "2022-07-20T17:29:02.474Z"
   },
   {
    "duration": 85,
    "start_time": "2022-07-20T17:30:12.740Z"
   },
   {
    "duration": 3946,
    "start_time": "2022-07-20T17:30:17.952Z"
   },
   {
    "duration": 11,
    "start_time": "2022-07-20T17:30:26.141Z"
   },
   {
    "duration": 4,
    "start_time": "2022-07-20T17:39:36.676Z"
   },
   {
    "duration": 30,
    "start_time": "2022-07-20T17:40:43.714Z"
   },
   {
    "duration": 20,
    "start_time": "2022-07-20T17:40:43.885Z"
   },
   {
    "duration": 19,
    "start_time": "2022-07-20T17:40:44.677Z"
   },
   {
    "duration": 9,
    "start_time": "2022-07-20T17:40:44.883Z"
   },
   {
    "duration": 113,
    "start_time": "2022-07-20T17:42:47.252Z"
   },
   {
    "duration": 9,
    "start_time": "2022-07-20T17:42:54.752Z"
   },
   {
    "duration": 798,
    "start_time": "2022-07-20T17:42:58.124Z"
   },
   {
    "duration": 67,
    "start_time": "2022-07-20T17:43:44.733Z"
   },
   {
    "duration": 710,
    "start_time": "2022-07-20T17:43:50.741Z"
   },
   {
    "duration": 743,
    "start_time": "2022-07-20T17:44:21.661Z"
   },
   {
    "duration": 760,
    "start_time": "2022-07-20T17:44:46.277Z"
   },
   {
    "duration": 710,
    "start_time": "2022-07-20T17:45:03.256Z"
   },
   {
    "duration": 402,
    "start_time": "2022-07-20T17:47:05.993Z"
   },
   {
    "duration": 879,
    "start_time": "2022-07-20T17:47:06.396Z"
   },
   {
    "duration": 14,
    "start_time": "2022-07-20T17:47:07.279Z"
   },
   {
    "duration": 35,
    "start_time": "2022-07-20T17:47:07.295Z"
   },
   {
    "duration": 4,
    "start_time": "2022-07-20T17:47:07.332Z"
   },
   {
    "duration": 48,
    "start_time": "2022-07-20T17:47:07.338Z"
   },
   {
    "duration": 7,
    "start_time": "2022-07-20T17:47:07.388Z"
   },
   {
    "duration": 477,
    "start_time": "2022-07-20T17:49:07.450Z"
   },
   {
    "duration": 1095,
    "start_time": "2022-07-20T17:49:07.930Z"
   },
   {
    "duration": 41,
    "start_time": "2022-07-20T17:49:09.027Z"
   },
   {
    "duration": 42,
    "start_time": "2022-07-20T17:49:09.070Z"
   },
   {
    "duration": 6,
    "start_time": "2022-07-20T17:49:09.114Z"
   },
   {
    "duration": 68,
    "start_time": "2022-07-20T17:49:09.122Z"
   },
   {
    "duration": 17,
    "start_time": "2022-07-20T17:49:09.192Z"
   },
   {
    "duration": 12637,
    "start_time": "2022-07-20T17:49:09.211Z"
   },
   {
    "duration": 3,
    "start_time": "2022-07-20T17:49:21.850Z"
   },
   {
    "duration": 51,
    "start_time": "2022-07-20T17:49:21.863Z"
   },
   {
    "duration": 10,
    "start_time": "2022-07-20T17:49:21.916Z"
   },
   {
    "duration": 2060,
    "start_time": "2022-07-20T17:49:53.789Z"
   },
   {
    "duration": 17,
    "start_time": "2022-07-20T17:49:55.852Z"
   },
   {
    "duration": 12885,
    "start_time": "2022-07-20T17:49:55.871Z"
   },
   {
    "duration": 7,
    "start_time": "2022-07-20T17:50:08.760Z"
   },
   {
    "duration": 54,
    "start_time": "2022-07-20T17:50:08.771Z"
   },
   {
    "duration": 11,
    "start_time": "2022-07-20T17:50:08.827Z"
   },
   {
    "duration": 403,
    "start_time": "2022-07-20T17:50:14.100Z"
   },
   {
    "duration": 913,
    "start_time": "2022-07-20T17:50:14.505Z"
   },
   {
    "duration": 14,
    "start_time": "2022-07-20T17:50:15.420Z"
   },
   {
    "duration": 55,
    "start_time": "2022-07-20T17:50:15.436Z"
   },
   {
    "duration": 17,
    "start_time": "2022-07-20T17:50:15.493Z"
   },
   {
    "duration": 2079,
    "start_time": "2022-07-20T17:50:15.512Z"
   },
   {
    "duration": 29,
    "start_time": "2022-07-20T17:50:17.593Z"
   },
   {
    "duration": 13155,
    "start_time": "2022-07-20T17:50:17.624Z"
   },
   {
    "duration": 7,
    "start_time": "2022-07-20T17:50:30.783Z"
   },
   {
    "duration": 75,
    "start_time": "2022-07-20T17:50:30.792Z"
   },
   {
    "duration": 14,
    "start_time": "2022-07-20T17:50:30.868Z"
   },
   {
    "duration": 38,
    "start_time": "2022-07-20T17:53:58.340Z"
   },
   {
    "duration": 73,
    "start_time": "2022-07-20T17:54:39.450Z"
   },
   {
    "duration": 3,
    "start_time": "2022-07-20T17:55:14.648Z"
   },
   {
    "duration": 13998,
    "start_time": "2022-07-20T17:55:19.700Z"
   },
   {
    "duration": 375,
    "start_time": "2022-07-20T17:56:04.816Z"
   },
   {
    "duration": 941,
    "start_time": "2022-07-20T17:56:05.194Z"
   },
   {
    "duration": 32,
    "start_time": "2022-07-20T17:56:06.138Z"
   },
   {
    "duration": 45,
    "start_time": "2022-07-20T17:56:06.171Z"
   },
   {
    "duration": 6,
    "start_time": "2022-07-20T17:56:06.218Z"
   },
   {
    "duration": 2153,
    "start_time": "2022-07-20T17:56:06.226Z"
   },
   {
    "duration": 6,
    "start_time": "2022-07-20T17:56:08.381Z"
   },
   {
    "duration": 156682,
    "start_time": "2022-07-20T17:56:08.388Z"
   },
   {
    "duration": 0,
    "start_time": "2022-07-20T17:58:45.073Z"
   },
   {
    "duration": 0,
    "start_time": "2022-07-20T17:58:45.075Z"
   },
   {
    "duration": 0,
    "start_time": "2022-07-20T17:58:45.077Z"
   },
   {
    "duration": 12,
    "start_time": "2022-07-20T18:00:28.744Z"
   },
   {
    "duration": 57,
    "start_time": "2022-07-20T18:00:57.335Z"
   },
   {
    "duration": 13,
    "start_time": "2022-07-20T18:01:04.304Z"
   },
   {
    "duration": 473,
    "start_time": "2022-07-20T18:06:33.245Z"
   },
   {
    "duration": 946,
    "start_time": "2022-07-20T18:06:33.720Z"
   },
   {
    "duration": 22,
    "start_time": "2022-07-20T18:06:34.668Z"
   },
   {
    "duration": 51,
    "start_time": "2022-07-20T18:06:34.694Z"
   },
   {
    "duration": 5,
    "start_time": "2022-07-20T18:06:34.747Z"
   },
   {
    "duration": 2187,
    "start_time": "2022-07-20T18:06:34.754Z"
   },
   {
    "duration": 7,
    "start_time": "2022-07-20T18:06:36.943Z"
   },
   {
    "duration": 497,
    "start_time": "2022-07-20T18:09:53.236Z"
   },
   {
    "duration": 1197,
    "start_time": "2022-07-20T18:09:53.736Z"
   },
   {
    "duration": 42,
    "start_time": "2022-07-20T18:09:54.935Z"
   },
   {
    "duration": 43,
    "start_time": "2022-07-20T18:09:54.980Z"
   },
   {
    "duration": 5,
    "start_time": "2022-07-20T18:09:55.025Z"
   },
   {
    "duration": 2550,
    "start_time": "2022-07-20T18:09:55.032Z"
   },
   {
    "duration": 16,
    "start_time": "2022-07-20T18:09:57.586Z"
   },
   {
    "duration": 48,
    "start_time": "2022-07-20T18:09:57.604Z"
   },
   {
    "duration": 0,
    "start_time": "2022-07-20T18:09:57.654Z"
   },
   {
    "duration": 0,
    "start_time": "2022-07-20T18:09:57.655Z"
   },
   {
    "duration": 0,
    "start_time": "2022-07-20T18:09:57.656Z"
   },
   {
    "duration": 99996,
    "start_time": "2022-07-20T18:10:06.552Z"
   },
   {
    "duration": 3,
    "start_time": "2022-07-20T18:11:46.551Z"
   },
   {
    "duration": 293,
    "start_time": "2022-07-20T18:11:46.563Z"
   },
   {
    "duration": 14,
    "start_time": "2022-07-20T18:11:53.584Z"
   },
   {
    "duration": 10,
    "start_time": "2022-07-20T18:12:22.211Z"
   },
   {
    "duration": 6,
    "start_time": "2022-07-20T18:12:59.490Z"
   },
   {
    "duration": 70,
    "start_time": "2022-07-20T18:13:38.198Z"
   },
   {
    "duration": 8,
    "start_time": "2022-07-20T18:13:53.215Z"
   },
   {
    "duration": 4,
    "start_time": "2022-07-20T18:14:00.598Z"
   },
   {
    "duration": 10,
    "start_time": "2022-07-20T18:14:05.494Z"
   },
   {
    "duration": 2,
    "start_time": "2022-07-20T18:14:08.329Z"
   },
   {
    "duration": 13,
    "start_time": "2022-07-20T18:14:37.624Z"
   },
   {
    "duration": 99138,
    "start_time": "2022-07-20T18:14:55.015Z"
   },
   {
    "duration": 10,
    "start_time": "2022-07-20T18:16:34.169Z"
   },
   {
    "duration": 4,
    "start_time": "2022-07-20T18:19:56.643Z"
   },
   {
    "duration": 5,
    "start_time": "2022-07-20T18:20:01.291Z"
   },
   {
    "duration": 990,
    "start_time": "2022-07-20T18:20:15.040Z"
   },
   {
    "duration": 1658,
    "start_time": "2022-07-20T18:26:53.839Z"
   },
   {
    "duration": 1602,
    "start_time": "2022-07-20T18:41:16.552Z"
   },
   {
    "duration": 1003,
    "start_time": "2022-07-20T18:41:18.156Z"
   },
   {
    "duration": 24,
    "start_time": "2022-07-20T18:41:19.161Z"
   },
   {
    "duration": 42,
    "start_time": "2022-07-20T18:41:19.192Z"
   },
   {
    "duration": 5,
    "start_time": "2022-07-20T18:41:19.236Z"
   },
   {
    "duration": 25,
    "start_time": "2022-07-20T18:41:19.243Z"
   },
   {
    "duration": 80615,
    "start_time": "2022-07-20T18:41:19.270Z"
   },
   {
    "duration": 4,
    "start_time": "2022-07-20T18:42:39.888Z"
   },
   {
    "duration": 246,
    "start_time": "2022-07-20T18:42:39.895Z"
   },
   {
    "duration": 21,
    "start_time": "2022-07-20T18:42:40.143Z"
   },
   {
    "duration": 13,
    "start_time": "2022-07-20T18:42:40.169Z"
   },
   {
    "duration": 419,
    "start_time": "2022-07-20T18:42:40.185Z"
   },
   {
    "duration": 163,
    "start_time": "2022-07-20T18:42:40.606Z"
   },
   {
    "duration": 0,
    "start_time": "2022-07-20T18:42:40.772Z"
   },
   {
    "duration": 0,
    "start_time": "2022-07-20T18:42:40.775Z"
   },
   {
    "duration": 0,
    "start_time": "2022-07-20T18:42:40.778Z"
   },
   {
    "duration": 0,
    "start_time": "2022-07-20T18:42:40.780Z"
   },
   {
    "duration": 0,
    "start_time": "2022-07-20T18:42:40.781Z"
   },
   {
    "duration": 1383,
    "start_time": "2022-07-20T18:43:29.483Z"
   },
   {
    "duration": 2157,
    "start_time": "2022-07-20T18:43:33.333Z"
   },
   {
    "duration": 5,
    "start_time": "2022-07-20T18:44:00.921Z"
   },
   {
    "duration": 6,
    "start_time": "2022-07-20T18:44:09.291Z"
   },
   {
    "duration": 3,
    "start_time": "2022-07-20T18:44:56.629Z"
   },
   {
    "duration": 4,
    "start_time": "2022-07-20T18:45:57.556Z"
   },
   {
    "duration": 4,
    "start_time": "2022-07-20T18:48:10.415Z"
   },
   {
    "duration": 4,
    "start_time": "2022-07-20T18:51:55.992Z"
   },
   {
    "duration": 849,
    "start_time": "2022-07-20T18:51:56.302Z"
   },
   {
    "duration": 18,
    "start_time": "2022-07-20T18:51:57.152Z"
   },
   {
    "duration": 42,
    "start_time": "2022-07-20T18:51:57.175Z"
   },
   {
    "duration": 4,
    "start_time": "2022-07-20T18:51:57.219Z"
   },
   {
    "duration": 5,
    "start_time": "2022-07-20T18:51:57.386Z"
   },
   {
    "duration": 52767,
    "start_time": "2022-07-20T18:51:58.000Z"
   },
   {
    "duration": 0,
    "start_time": "2022-07-20T18:52:50.770Z"
   },
   {
    "duration": 0,
    "start_time": "2022-07-20T18:52:50.774Z"
   },
   {
    "duration": 0,
    "start_time": "2022-07-20T18:52:50.775Z"
   },
   {
    "duration": 10,
    "start_time": "2022-07-20T18:53:27.241Z"
   },
   {
    "duration": 1116,
    "start_time": "2022-07-20T18:53:51.892Z"
   },
   {
    "duration": 3,
    "start_time": "2022-07-20T18:55:21.723Z"
   },
   {
    "duration": 7,
    "start_time": "2022-07-20T18:55:26.000Z"
   },
   {
    "duration": 1025,
    "start_time": "2022-07-20T18:55:32.003Z"
   },
   {
    "duration": 23,
    "start_time": "2022-07-20T18:55:39.922Z"
   },
   {
    "duration": 5,
    "start_time": "2022-07-20T19:00:55.191Z"
   },
   {
    "duration": 901,
    "start_time": "2022-07-20T19:00:55.307Z"
   },
   {
    "duration": 8,
    "start_time": "2022-07-20T19:00:56.210Z"
   },
   {
    "duration": 62,
    "start_time": "2022-07-20T19:00:56.219Z"
   },
   {
    "duration": 12,
    "start_time": "2022-07-20T19:00:56.286Z"
   },
   {
    "duration": 7,
    "start_time": "2022-07-20T19:00:56.300Z"
   },
   {
    "duration": 1452,
    "start_time": "2022-07-20T19:01:52.992Z"
   },
   {
    "duration": 1012,
    "start_time": "2022-07-20T19:01:54.446Z"
   },
   {
    "duration": 32,
    "start_time": "2022-07-20T19:01:55.460Z"
   },
   {
    "duration": 15,
    "start_time": "2022-07-20T19:01:55.496Z"
   },
   {
    "duration": 14,
    "start_time": "2022-07-20T19:01:55.513Z"
   },
   {
    "duration": 9,
    "start_time": "2022-07-20T19:01:55.529Z"
   },
   {
    "duration": 7,
    "start_time": "2022-07-20T19:01:55.540Z"
   },
   {
    "duration": 162167,
    "start_time": "2022-07-20T19:01:55.549Z"
   },
   {
    "duration": 4,
    "start_time": "2022-07-20T19:04:37.718Z"
   },
   {
    "duration": 126,
    "start_time": "2022-07-20T19:04:37.724Z"
   },
   {
    "duration": 0,
    "start_time": "2022-07-20T19:04:37.852Z"
   },
   {
    "duration": 0,
    "start_time": "2022-07-20T19:04:37.854Z"
   },
   {
    "duration": 0,
    "start_time": "2022-07-20T19:04:37.855Z"
   },
   {
    "duration": 0,
    "start_time": "2022-07-20T19:04:37.857Z"
   },
   {
    "duration": 0,
    "start_time": "2022-07-20T19:04:37.859Z"
   },
   {
    "duration": 0,
    "start_time": "2022-07-20T19:04:37.860Z"
   },
   {
    "duration": 0,
    "start_time": "2022-07-20T19:04:37.862Z"
   },
   {
    "duration": 0,
    "start_time": "2022-07-20T19:04:37.867Z"
   },
   {
    "duration": 0,
    "start_time": "2022-07-20T19:04:37.872Z"
   },
   {
    "duration": 0,
    "start_time": "2022-07-20T19:04:37.873Z"
   },
   {
    "duration": 0,
    "start_time": "2022-07-20T19:04:37.877Z"
   },
   {
    "duration": 0,
    "start_time": "2022-07-20T19:04:37.877Z"
   },
   {
    "duration": 89,
    "start_time": "2022-07-20T19:07:08.398Z"
   },
   {
    "duration": 89,
    "start_time": "2022-07-20T19:07:27.442Z"
   },
   {
    "duration": 79,
    "start_time": "2022-07-20T19:07:37.685Z"
   },
   {
    "duration": 9,
    "start_time": "2022-07-20T19:07:40.889Z"
   },
   {
    "duration": 3,
    "start_time": "2022-07-20T19:07:58.005Z"
   },
   {
    "duration": 7,
    "start_time": "2022-07-20T19:08:34.598Z"
   },
   {
    "duration": 8,
    "start_time": "2022-07-20T19:10:03.393Z"
   },
   {
    "duration": 9,
    "start_time": "2022-07-20T19:10:03.548Z"
   },
   {
    "duration": 4,
    "start_time": "2022-07-20T19:10:58.551Z"
   },
   {
    "duration": 193,
    "start_time": "2022-07-20T19:10:58.709Z"
   },
   {
    "duration": 16,
    "start_time": "2022-07-20T19:10:58.905Z"
   },
   {
    "duration": 2,
    "start_time": "2022-07-20T19:10:59.059Z"
   },
   {
    "duration": 144,
    "start_time": "2022-07-20T19:12:56.692Z"
   },
   {
    "duration": 0,
    "start_time": "2022-07-20T19:12:56.838Z"
   },
   {
    "duration": 15,
    "start_time": "2022-07-20T19:13:08.041Z"
   },
   {
    "duration": 30,
    "start_time": "2022-07-20T19:13:08.800Z"
   },
   {
    "duration": 33,
    "start_time": "2022-07-20T19:13:40.346Z"
   },
   {
    "duration": 37,
    "start_time": "2022-07-20T19:14:19.446Z"
   },
   {
    "duration": 3,
    "start_time": "2022-07-20T19:14:26.713Z"
   },
   {
    "duration": 4,
    "start_time": "2022-07-20T19:14:44.698Z"
   },
   {
    "duration": 7,
    "start_time": "2022-07-20T19:15:13.591Z"
   },
   {
    "duration": 1400,
    "start_time": "2022-07-20T19:16:06.655Z"
   },
   {
    "duration": 963,
    "start_time": "2022-07-20T19:16:08.058Z"
   },
   {
    "duration": 20,
    "start_time": "2022-07-20T19:16:09.023Z"
   },
   {
    "duration": 24,
    "start_time": "2022-07-20T19:16:09.045Z"
   },
   {
    "duration": 52,
    "start_time": "2022-07-20T19:16:09.072Z"
   },
   {
    "duration": 15,
    "start_time": "2022-07-20T19:16:09.126Z"
   },
   {
    "duration": 9,
    "start_time": "2022-07-20T19:16:09.143Z"
   },
   {
    "duration": 51456,
    "start_time": "2022-07-20T19:16:09.154Z"
   },
   {
    "duration": 0,
    "start_time": "2022-07-20T19:17:00.613Z"
   },
   {
    "duration": 0,
    "start_time": "2022-07-20T19:17:00.614Z"
   },
   {
    "duration": 0,
    "start_time": "2022-07-20T19:17:00.616Z"
   },
   {
    "duration": 0,
    "start_time": "2022-07-20T19:17:00.618Z"
   },
   {
    "duration": 0,
    "start_time": "2022-07-20T19:17:00.619Z"
   },
   {
    "duration": 0,
    "start_time": "2022-07-20T19:17:00.620Z"
   },
   {
    "duration": 0,
    "start_time": "2022-07-20T19:17:00.621Z"
   },
   {
    "duration": 0,
    "start_time": "2022-07-20T19:17:00.623Z"
   },
   {
    "duration": 0,
    "start_time": "2022-07-20T19:17:00.624Z"
   },
   {
    "duration": 0,
    "start_time": "2022-07-20T19:17:00.625Z"
   },
   {
    "duration": 0,
    "start_time": "2022-07-20T19:17:00.626Z"
   },
   {
    "duration": 0,
    "start_time": "2022-07-20T19:17:00.628Z"
   },
   {
    "duration": 0,
    "start_time": "2022-07-20T19:17:00.629Z"
   },
   {
    "duration": 0,
    "start_time": "2022-07-20T19:17:00.631Z"
   },
   {
    "duration": 1456,
    "start_time": "2022-07-20T19:17:09.994Z"
   },
   {
    "duration": 996,
    "start_time": "2022-07-20T19:17:11.452Z"
   },
   {
    "duration": 42,
    "start_time": "2022-07-20T19:17:12.450Z"
   },
   {
    "duration": 16,
    "start_time": "2022-07-20T19:17:12.494Z"
   },
   {
    "duration": 29,
    "start_time": "2022-07-20T19:17:12.512Z"
   },
   {
    "duration": 69,
    "start_time": "2022-07-20T19:17:12.543Z"
   },
   {
    "duration": 20,
    "start_time": "2022-07-20T19:17:12.614Z"
   },
   {
    "duration": 385026,
    "start_time": "2022-07-20T19:17:12.637Z"
   },
   {
    "duration": 0,
    "start_time": "2022-07-20T19:23:37.674Z"
   },
   {
    "duration": 0,
    "start_time": "2022-07-20T19:23:37.675Z"
   },
   {
    "duration": 0,
    "start_time": "2022-07-20T19:23:37.676Z"
   },
   {
    "duration": 0,
    "start_time": "2022-07-20T19:23:37.677Z"
   },
   {
    "duration": 0,
    "start_time": "2022-07-20T19:23:37.681Z"
   },
   {
    "duration": 0,
    "start_time": "2022-07-20T19:23:37.683Z"
   },
   {
    "duration": 0,
    "start_time": "2022-07-20T19:23:37.698Z"
   },
   {
    "duration": 0,
    "start_time": "2022-07-20T19:23:37.699Z"
   },
   {
    "duration": 0,
    "start_time": "2022-07-20T19:23:37.700Z"
   },
   {
    "duration": 0,
    "start_time": "2022-07-20T19:23:37.701Z"
   },
   {
    "duration": 0,
    "start_time": "2022-07-20T19:23:37.703Z"
   },
   {
    "duration": 0,
    "start_time": "2022-07-20T19:23:37.704Z"
   },
   {
    "duration": 0,
    "start_time": "2022-07-20T19:23:37.705Z"
   },
   {
    "duration": 0,
    "start_time": "2022-07-20T19:23:37.706Z"
   },
   {
    "duration": 1486,
    "start_time": "2022-07-20T19:23:46.246Z"
   },
   {
    "duration": 963,
    "start_time": "2022-07-20T19:23:47.734Z"
   },
   {
    "duration": 15,
    "start_time": "2022-07-20T19:23:48.699Z"
   },
   {
    "duration": 4,
    "start_time": "2022-07-20T19:23:48.716Z"
   },
   {
    "duration": 16,
    "start_time": "2022-07-20T19:23:48.722Z"
   },
   {
    "duration": 31,
    "start_time": "2022-07-20T19:23:48.739Z"
   },
   {
    "duration": 36,
    "start_time": "2022-07-20T19:23:48.772Z"
   },
   {
    "duration": 80785,
    "start_time": "2022-07-20T19:23:48.810Z"
   },
   {
    "duration": 6,
    "start_time": "2022-07-20T19:25:09.598Z"
   },
   {
    "duration": 64,
    "start_time": "2022-07-20T19:25:09.606Z"
   },
   {
    "duration": 216,
    "start_time": "2022-07-20T19:25:09.673Z"
   },
   {
    "duration": 12,
    "start_time": "2022-07-20T19:25:09.897Z"
   },
   {
    "duration": 5,
    "start_time": "2022-07-20T19:25:09.912Z"
   },
   {
    "duration": 8,
    "start_time": "2022-07-20T19:25:09.920Z"
   },
   {
    "duration": 8,
    "start_time": "2022-07-20T19:25:09.929Z"
   },
   {
    "duration": 194,
    "start_time": "2022-07-20T19:25:09.939Z"
   },
   {
    "duration": 13,
    "start_time": "2022-07-20T19:25:10.135Z"
   },
   {
    "duration": 6,
    "start_time": "2022-07-20T19:25:10.150Z"
   },
   {
    "duration": 21,
    "start_time": "2022-07-20T19:25:10.157Z"
   },
   {
    "duration": 22,
    "start_time": "2022-07-20T19:25:10.179Z"
   },
   {
    "duration": 136,
    "start_time": "2022-07-20T19:25:10.203Z"
   },
   {
    "duration": 0,
    "start_time": "2022-07-20T19:25:10.341Z"
   },
   {
    "duration": 0,
    "start_time": "2022-07-20T19:25:10.342Z"
   },
   {
    "duration": 1456,
    "start_time": "2022-07-20T19:27:51.147Z"
   },
   {
    "duration": 1032,
    "start_time": "2022-07-20T19:27:52.606Z"
   },
   {
    "duration": 15,
    "start_time": "2022-07-20T19:27:53.640Z"
   },
   {
    "duration": 39,
    "start_time": "2022-07-20T19:27:53.657Z"
   },
   {
    "duration": 13,
    "start_time": "2022-07-20T19:27:53.699Z"
   },
   {
    "duration": 8,
    "start_time": "2022-07-20T19:27:53.713Z"
   },
   {
    "duration": 12,
    "start_time": "2022-07-20T19:27:53.722Z"
   },
   {
    "duration": 7882,
    "start_time": "2022-07-20T19:27:53.736Z"
   },
   {
    "duration": 4,
    "start_time": "2022-07-20T19:28:01.620Z"
   },
   {
    "duration": 40,
    "start_time": "2022-07-20T19:28:01.626Z"
   },
   {
    "duration": 58,
    "start_time": "2022-07-20T19:28:01.668Z"
   },
   {
    "duration": 16,
    "start_time": "2022-07-20T19:28:01.727Z"
   },
   {
    "duration": 158,
    "start_time": "2022-07-20T19:28:01.744Z"
   },
   {
    "duration": 0,
    "start_time": "2022-07-20T19:28:01.904Z"
   },
   {
    "duration": 0,
    "start_time": "2022-07-20T19:28:01.905Z"
   },
   {
    "duration": 0,
    "start_time": "2022-07-20T19:28:01.907Z"
   },
   {
    "duration": 0,
    "start_time": "2022-07-20T19:28:01.908Z"
   },
   {
    "duration": 0,
    "start_time": "2022-07-20T19:28:01.909Z"
   },
   {
    "duration": 0,
    "start_time": "2022-07-20T19:28:01.910Z"
   },
   {
    "duration": 0,
    "start_time": "2022-07-20T19:28:01.911Z"
   },
   {
    "duration": 0,
    "start_time": "2022-07-20T19:28:01.912Z"
   },
   {
    "duration": 0,
    "start_time": "2022-07-20T19:28:01.913Z"
   },
   {
    "duration": 1399,
    "start_time": "2022-07-20T19:28:14.701Z"
   },
   {
    "duration": 952,
    "start_time": "2022-07-20T19:28:16.102Z"
   },
   {
    "duration": 27,
    "start_time": "2022-07-20T19:28:17.056Z"
   },
   {
    "duration": 23,
    "start_time": "2022-07-20T19:28:17.085Z"
   },
   {
    "duration": 14,
    "start_time": "2022-07-20T19:28:17.110Z"
   },
   {
    "duration": 7,
    "start_time": "2022-07-20T19:28:17.125Z"
   },
   {
    "duration": 8,
    "start_time": "2022-07-20T19:28:17.133Z"
   },
   {
    "duration": 80477,
    "start_time": "2022-07-20T19:28:17.143Z"
   },
   {
    "duration": 4,
    "start_time": "2022-07-20T19:29:37.622Z"
   },
   {
    "duration": 59,
    "start_time": "2022-07-20T19:29:37.627Z"
   },
   {
    "duration": 10,
    "start_time": "2022-07-20T19:29:37.688Z"
   },
   {
    "duration": 5,
    "start_time": "2022-07-20T19:29:37.700Z"
   },
   {
    "duration": 11,
    "start_time": "2022-07-20T19:29:37.707Z"
   },
   {
    "duration": 3,
    "start_time": "2022-07-20T19:29:37.720Z"
   },
   {
    "duration": 267,
    "start_time": "2022-07-20T19:29:37.724Z"
   },
   {
    "duration": 14,
    "start_time": "2022-07-20T19:29:37.994Z"
   },
   {
    "duration": 3,
    "start_time": "2022-07-20T19:29:38.010Z"
   },
   {
    "duration": 32,
    "start_time": "2022-07-20T19:29:38.015Z"
   },
   {
    "duration": 7,
    "start_time": "2022-07-20T19:29:38.049Z"
   },
   {
    "duration": 137,
    "start_time": "2022-07-20T19:29:38.064Z"
   },
   {
    "duration": 0,
    "start_time": "2022-07-20T19:29:38.202Z"
   },
   {
    "duration": 0,
    "start_time": "2022-07-20T19:29:38.204Z"
   },
   {
    "duration": 6,
    "start_time": "2022-07-20T19:30:36.539Z"
   },
   {
    "duration": 4,
    "start_time": "2022-07-20T19:30:37.392Z"
   },
   {
    "duration": 5,
    "start_time": "2022-07-20T19:30:38.087Z"
   },
   {
    "duration": 1436,
    "start_time": "2022-07-20T19:30:59.735Z"
   },
   {
    "duration": 980,
    "start_time": "2022-07-20T19:31:01.174Z"
   },
   {
    "duration": 24,
    "start_time": "2022-07-20T19:31:02.156Z"
   },
   {
    "duration": 24,
    "start_time": "2022-07-20T19:31:02.182Z"
   },
   {
    "duration": 22,
    "start_time": "2022-07-20T19:31:02.209Z"
   },
   {
    "duration": 12,
    "start_time": "2022-07-20T19:31:02.234Z"
   },
   {
    "duration": 51,
    "start_time": "2022-07-20T19:31:02.248Z"
   },
   {
    "duration": 12700,
    "start_time": "2022-07-20T19:31:02.301Z"
   },
   {
    "duration": 0,
    "start_time": "2022-07-20T19:31:15.003Z"
   },
   {
    "duration": 0,
    "start_time": "2022-07-20T19:31:15.005Z"
   },
   {
    "duration": 0,
    "start_time": "2022-07-20T19:31:15.005Z"
   },
   {
    "duration": 0,
    "start_time": "2022-07-20T19:31:15.006Z"
   },
   {
    "duration": 0,
    "start_time": "2022-07-20T19:31:15.007Z"
   },
   {
    "duration": 0,
    "start_time": "2022-07-20T19:31:15.008Z"
   },
   {
    "duration": 0,
    "start_time": "2022-07-20T19:31:15.009Z"
   },
   {
    "duration": 0,
    "start_time": "2022-07-20T19:31:15.011Z"
   },
   {
    "duration": 0,
    "start_time": "2022-07-20T19:31:15.011Z"
   },
   {
    "duration": 0,
    "start_time": "2022-07-20T19:31:15.012Z"
   },
   {
    "duration": 0,
    "start_time": "2022-07-20T19:31:15.013Z"
   },
   {
    "duration": 0,
    "start_time": "2022-07-20T19:31:15.014Z"
   },
   {
    "duration": 0,
    "start_time": "2022-07-20T19:31:15.016Z"
   },
   {
    "duration": 0,
    "start_time": "2022-07-20T19:31:15.017Z"
   },
   {
    "duration": 1350,
    "start_time": "2022-07-20T19:31:18.436Z"
   },
   {
    "duration": 916,
    "start_time": "2022-07-20T19:31:19.788Z"
   },
   {
    "duration": 14,
    "start_time": "2022-07-20T19:31:20.706Z"
   },
   {
    "duration": 4,
    "start_time": "2022-07-20T19:31:20.722Z"
   },
   {
    "duration": 41,
    "start_time": "2022-07-20T19:31:20.728Z"
   },
   {
    "duration": 6,
    "start_time": "2022-07-20T19:31:20.771Z"
   },
   {
    "duration": 20,
    "start_time": "2022-07-20T19:31:20.779Z"
   },
   {
    "duration": 3336,
    "start_time": "2022-07-20T19:31:20.801Z"
   },
   {
    "duration": 0,
    "start_time": "2022-07-20T19:31:24.140Z"
   },
   {
    "duration": 0,
    "start_time": "2022-07-20T19:31:24.141Z"
   },
   {
    "duration": 0,
    "start_time": "2022-07-20T19:31:24.142Z"
   },
   {
    "duration": 0,
    "start_time": "2022-07-20T19:31:24.143Z"
   },
   {
    "duration": 0,
    "start_time": "2022-07-20T19:31:24.168Z"
   },
   {
    "duration": 0,
    "start_time": "2022-07-20T19:31:24.170Z"
   },
   {
    "duration": 0,
    "start_time": "2022-07-20T19:31:24.172Z"
   },
   {
    "duration": 0,
    "start_time": "2022-07-20T19:31:24.173Z"
   },
   {
    "duration": 0,
    "start_time": "2022-07-20T19:31:24.175Z"
   },
   {
    "duration": 0,
    "start_time": "2022-07-20T19:31:24.177Z"
   },
   {
    "duration": 0,
    "start_time": "2022-07-20T19:31:24.178Z"
   },
   {
    "duration": 1,
    "start_time": "2022-07-20T19:31:24.179Z"
   },
   {
    "duration": 0,
    "start_time": "2022-07-20T19:31:24.181Z"
   },
   {
    "duration": 0,
    "start_time": "2022-07-20T19:31:24.183Z"
   },
   {
    "duration": 1361,
    "start_time": "2022-07-20T19:31:33.779Z"
   },
   {
    "duration": 947,
    "start_time": "2022-07-20T19:31:35.142Z"
   },
   {
    "duration": 15,
    "start_time": "2022-07-20T19:31:36.091Z"
   },
   {
    "duration": 6,
    "start_time": "2022-07-20T19:31:36.108Z"
   },
   {
    "duration": 20,
    "start_time": "2022-07-20T19:31:36.117Z"
   },
   {
    "duration": 28,
    "start_time": "2022-07-20T19:31:36.138Z"
   },
   {
    "duration": 6,
    "start_time": "2022-07-20T19:31:36.168Z"
   },
   {
    "duration": 160516,
    "start_time": "2022-07-20T19:31:36.176Z"
   },
   {
    "duration": 0,
    "start_time": "2022-07-20T19:34:16.695Z"
   },
   {
    "duration": 0,
    "start_time": "2022-07-20T19:34:16.696Z"
   },
   {
    "duration": 0,
    "start_time": "2022-07-20T19:34:16.697Z"
   },
   {
    "duration": 0,
    "start_time": "2022-07-20T19:34:16.698Z"
   },
   {
    "duration": 0,
    "start_time": "2022-07-20T19:34:16.699Z"
   },
   {
    "duration": 0,
    "start_time": "2022-07-20T19:34:16.700Z"
   },
   {
    "duration": 0,
    "start_time": "2022-07-20T19:34:16.701Z"
   },
   {
    "duration": 0,
    "start_time": "2022-07-20T19:34:16.702Z"
   },
   {
    "duration": 0,
    "start_time": "2022-07-20T19:34:16.704Z"
   },
   {
    "duration": 0,
    "start_time": "2022-07-20T19:34:16.705Z"
   },
   {
    "duration": 0,
    "start_time": "2022-07-20T19:34:16.706Z"
   },
   {
    "duration": 0,
    "start_time": "2022-07-20T19:34:16.707Z"
   },
   {
    "duration": 0,
    "start_time": "2022-07-20T19:34:16.708Z"
   },
   {
    "duration": 0,
    "start_time": "2022-07-20T19:34:16.709Z"
   },
   {
    "duration": 1377,
    "start_time": "2022-07-20T19:34:22.283Z"
   },
   {
    "duration": 882,
    "start_time": "2022-07-20T19:34:23.662Z"
   },
   {
    "duration": 24,
    "start_time": "2022-07-20T19:34:24.546Z"
   },
   {
    "duration": 9,
    "start_time": "2022-07-20T19:34:24.573Z"
   },
   {
    "duration": 22,
    "start_time": "2022-07-20T19:34:24.585Z"
   },
   {
    "duration": 7,
    "start_time": "2022-07-20T19:34:24.609Z"
   },
   {
    "duration": 4,
    "start_time": "2022-07-20T19:34:24.618Z"
   },
   {
    "duration": 106908,
    "start_time": "2022-07-20T19:34:24.624Z"
   },
   {
    "duration": 0,
    "start_time": "2022-07-20T19:36:11.535Z"
   },
   {
    "duration": 0,
    "start_time": "2022-07-20T19:36:11.536Z"
   },
   {
    "duration": 0,
    "start_time": "2022-07-20T19:36:11.537Z"
   },
   {
    "duration": 0,
    "start_time": "2022-07-20T19:36:11.538Z"
   },
   {
    "duration": 0,
    "start_time": "2022-07-20T19:36:11.540Z"
   },
   {
    "duration": 0,
    "start_time": "2022-07-20T19:36:11.541Z"
   },
   {
    "duration": 0,
    "start_time": "2022-07-20T19:36:11.542Z"
   },
   {
    "duration": 0,
    "start_time": "2022-07-20T19:36:11.565Z"
   },
   {
    "duration": 0,
    "start_time": "2022-07-20T19:36:11.567Z"
   },
   {
    "duration": 0,
    "start_time": "2022-07-20T19:36:11.569Z"
   },
   {
    "duration": 0,
    "start_time": "2022-07-20T19:36:11.570Z"
   },
   {
    "duration": 0,
    "start_time": "2022-07-20T19:36:11.572Z"
   },
   {
    "duration": 0,
    "start_time": "2022-07-20T19:36:11.574Z"
   },
   {
    "duration": 0,
    "start_time": "2022-07-20T19:36:11.575Z"
   },
   {
    "duration": 0,
    "start_time": "2022-07-20T19:36:11.577Z"
   },
   {
    "duration": 111,
    "start_time": "2022-07-20T19:36:13.613Z"
   },
   {
    "duration": 7,
    "start_time": "2022-07-20T19:36:51.277Z"
   },
   {
    "duration": 3,
    "start_time": "2022-07-20T19:37:05.755Z"
   },
   {
    "duration": 929,
    "start_time": "2022-07-20T19:37:06.165Z"
   },
   {
    "duration": 7,
    "start_time": "2022-07-20T19:37:07.096Z"
   },
   {
    "duration": 42,
    "start_time": "2022-07-20T19:37:12.845Z"
   },
   {
    "duration": 48,
    "start_time": "2022-07-20T19:41:50.451Z"
   },
   {
    "duration": 12,
    "start_time": "2022-07-20T19:41:50.572Z"
   },
   {
    "duration": 4432,
    "start_time": "2022-07-20T19:42:28.966Z"
   },
   {
    "duration": 14,
    "start_time": "2022-07-20T19:42:33.522Z"
   },
   {
    "duration": 1951,
    "start_time": "2022-07-20T19:45:19.490Z"
   },
   {
    "duration": 2411,
    "start_time": "2022-07-20T19:45:26.152Z"
   },
   {
    "duration": 22,
    "start_time": "2022-07-20T19:45:28.565Z"
   },
   {
    "duration": 4,
    "start_time": "2022-07-20T19:45:36.469Z"
   },
   {
    "duration": 13,
    "start_time": "2022-07-20T19:45:36.641Z"
   },
   {
    "duration": 307,
    "start_time": "2022-07-20T19:45:45.530Z"
   },
   {
    "duration": 0,
    "start_time": "2022-07-20T19:45:45.839Z"
   },
   {
    "duration": 164,
    "start_time": "2022-07-20T19:46:22.933Z"
   },
   {
    "duration": 165,
    "start_time": "2022-07-20T19:46:34.760Z"
   },
   {
    "duration": 0,
    "start_time": "2022-07-20T19:46:34.928Z"
   },
   {
    "duration": 148,
    "start_time": "2022-07-20T19:47:38.453Z"
   },
   {
    "duration": 12,
    "start_time": "2022-07-20T19:47:39.195Z"
   },
   {
    "duration": 146,
    "start_time": "2022-07-20T19:48:04.309Z"
   },
   {
    "duration": 5,
    "start_time": "2022-07-20T19:48:21.730Z"
   },
   {
    "duration": 846,
    "start_time": "2022-07-20T19:48:22.310Z"
   },
   {
    "duration": 7,
    "start_time": "2022-07-20T19:48:23.159Z"
   },
   {
    "duration": 3,
    "start_time": "2022-07-20T19:48:23.409Z"
   },
   {
    "duration": 13,
    "start_time": "2022-07-20T19:48:23.589Z"
   },
   {
    "duration": 6,
    "start_time": "2022-07-20T19:48:26.901Z"
   },
   {
    "duration": 4,
    "start_time": "2022-07-20T19:48:28.100Z"
   },
   {
    "duration": 73121,
    "start_time": "2022-07-20T19:48:29.378Z"
   },
   {
    "duration": 4,
    "start_time": "2022-07-20T19:49:42.502Z"
   },
   {
    "duration": 72,
    "start_time": "2022-07-20T19:49:42.507Z"
   },
   {
    "duration": 11,
    "start_time": "2022-07-20T19:49:42.582Z"
   },
   {
    "duration": 39,
    "start_time": "2022-07-20T19:49:42.595Z"
   },
   {
    "duration": 0,
    "start_time": "2022-07-20T19:49:42.665Z"
   },
   {
    "duration": 24,
    "start_time": "2022-07-20T20:06:51.884Z"
   },
   {
    "duration": 0,
    "start_time": "2022-07-20T20:06:51.910Z"
   },
   {
    "duration": 3,
    "start_time": "2022-07-20T20:08:22.066Z"
   },
   {
    "duration": 27,
    "start_time": "2022-07-20T20:08:22.437Z"
   },
   {
    "duration": 16,
    "start_time": "2022-07-20T20:08:23.809Z"
   },
   {
    "duration": 3,
    "start_time": "2022-07-20T20:09:23.618Z"
   },
   {
    "duration": 20,
    "start_time": "2022-07-20T20:09:23.777Z"
   },
   {
    "duration": 19,
    "start_time": "2022-07-20T20:09:24.912Z"
   },
   {
    "duration": 3715,
    "start_time": "2022-07-20T20:09:51.048Z"
   },
   {
    "duration": 0,
    "start_time": "2022-07-20T20:09:54.766Z"
   },
   {
    "duration": 17,
    "start_time": "2022-07-20T20:10:30.738Z"
   },
   {
    "duration": 12,
    "start_time": "2022-07-20T20:10:30.899Z"
   },
   {
    "duration": 3,
    "start_time": "2022-07-20T20:11:14.966Z"
   },
   {
    "duration": 28,
    "start_time": "2022-07-20T20:11:15.216Z"
   },
   {
    "duration": 13,
    "start_time": "2022-07-20T20:11:17.946Z"
   },
   {
    "duration": 15,
    "start_time": "2022-07-20T20:11:55.980Z"
   },
   {
    "duration": 6,
    "start_time": "2022-07-20T20:12:25.383Z"
   },
   {
    "duration": 0,
    "start_time": "2022-07-20T20:12:41.753Z"
   },
   {
    "duration": 0,
    "start_time": "2022-07-20T20:12:41.754Z"
   },
   {
    "duration": 4,
    "start_time": "2022-07-20T20:12:47.606Z"
   },
   {
    "duration": 2087,
    "start_time": "2022-07-20T20:12:47.737Z"
   },
   {
    "duration": 0,
    "start_time": "2022-07-20T20:12:49.826Z"
   },
   {
    "duration": 32,
    "start_time": "2022-07-20T20:13:55.046Z"
   },
   {
    "duration": 17,
    "start_time": "2022-07-20T20:13:55.197Z"
   },
   {
    "duration": 6,
    "start_time": "2022-07-20T20:14:56.566Z"
   },
   {
    "duration": 21,
    "start_time": "2022-07-20T20:14:57.447Z"
   },
   {
    "duration": 3,
    "start_time": "2022-07-20T20:15:10.096Z"
   },
   {
    "duration": 20,
    "start_time": "2022-07-20T20:15:10.898Z"
   },
   {
    "duration": 9,
    "start_time": "2022-07-20T20:15:19.666Z"
   },
   {
    "duration": 4,
    "start_time": "2022-07-20T20:15:55.596Z"
   },
   {
    "duration": 29,
    "start_time": "2022-07-20T20:15:56.360Z"
   },
   {
    "duration": 9,
    "start_time": "2022-07-20T20:16:04.341Z"
   },
   {
    "duration": 4,
    "start_time": "2022-07-20T20:16:30.600Z"
   },
   {
    "duration": 4,
    "start_time": "2022-07-20T20:16:31.400Z"
   },
   {
    "duration": 22,
    "start_time": "2022-07-20T20:16:31.660Z"
   },
   {
    "duration": 14,
    "start_time": "2022-07-20T20:16:32.338Z"
   },
   {
    "duration": 4,
    "start_time": "2022-07-20T20:16:47.900Z"
   },
   {
    "duration": 9,
    "start_time": "2022-07-20T20:17:03.243Z"
   },
   {
    "duration": 4,
    "start_time": "2022-07-20T20:17:39.509Z"
   },
   {
    "duration": 12,
    "start_time": "2022-07-20T20:17:39.729Z"
   },
   {
    "duration": 35825,
    "start_time": "2022-07-20T20:17:52.928Z"
   },
   {
    "duration": 2178,
    "start_time": "2022-07-20T20:18:28.755Z"
   },
   {
    "duration": 9,
    "start_time": "2022-07-20T20:18:58.479Z"
   },
   {
    "duration": 10,
    "start_time": "2022-07-20T20:18:58.586Z"
   },
   {
    "duration": 11,
    "start_time": "2022-07-20T20:19:10.120Z"
   },
   {
    "duration": 5,
    "start_time": "2022-07-20T20:19:26.049Z"
   },
   {
    "duration": 5,
    "start_time": "2022-07-20T20:19:26.199Z"
   },
   {
    "duration": 3,
    "start_time": "2022-07-20T20:19:26.382Z"
   },
   {
    "duration": 176,
    "start_time": "2022-07-20T20:19:26.550Z"
   },
   {
    "duration": 12,
    "start_time": "2022-07-20T20:19:26.737Z"
   },
   {
    "duration": 3,
    "start_time": "2022-07-20T20:19:27.422Z"
   },
   {
    "duration": 19,
    "start_time": "2022-07-20T20:19:37.040Z"
   },
   {
    "duration": 35246,
    "start_time": "2022-07-20T20:20:36.000Z"
   },
   {
    "duration": 8,
    "start_time": "2022-07-20T20:21:11.249Z"
   },
   {
    "duration": 19,
    "start_time": "2022-07-20T20:21:11.259Z"
   },
   {
    "duration": 1547,
    "start_time": "2022-07-20T20:21:46.148Z"
   },
   {
    "duration": 834,
    "start_time": "2022-07-20T20:21:47.697Z"
   },
   {
    "duration": 14,
    "start_time": "2022-07-20T20:21:48.533Z"
   },
   {
    "duration": 15,
    "start_time": "2022-07-20T20:21:48.549Z"
   },
   {
    "duration": 17,
    "start_time": "2022-07-20T20:21:48.567Z"
   },
   {
    "duration": 6,
    "start_time": "2022-07-20T20:21:48.585Z"
   },
   {
    "duration": 4,
    "start_time": "2022-07-20T20:21:48.593Z"
   },
   {
    "duration": 70237,
    "start_time": "2022-07-20T20:21:48.599Z"
   },
   {
    "duration": 3,
    "start_time": "2022-07-20T20:22:58.838Z"
   },
   {
    "duration": 57,
    "start_time": "2022-07-20T20:22:58.843Z"
   },
   {
    "duration": 11,
    "start_time": "2022-07-20T20:22:58.902Z"
   },
   {
    "duration": 7,
    "start_time": "2022-07-20T20:22:58.914Z"
   },
   {
    "duration": 41,
    "start_time": "2022-07-20T20:22:58.923Z"
   },
   {
    "duration": 4,
    "start_time": "2022-07-20T20:22:58.967Z"
   },
   {
    "duration": 215,
    "start_time": "2022-07-20T20:22:58.972Z"
   },
   {
    "duration": 16,
    "start_time": "2022-07-20T20:22:59.189Z"
   },
   {
    "duration": 5,
    "start_time": "2022-07-20T20:22:59.207Z"
   },
   {
    "duration": 16,
    "start_time": "2022-07-20T20:22:59.214Z"
   },
   {
    "duration": 6,
    "start_time": "2022-07-20T20:22:59.232Z"
   },
   {
    "duration": 24,
    "start_time": "2022-07-20T20:22:59.240Z"
   },
   {
    "duration": 4,
    "start_time": "2022-07-20T20:22:59.266Z"
   },
   {
    "duration": 8,
    "start_time": "2022-07-20T20:22:59.272Z"
   },
   {
    "duration": 36096,
    "start_time": "2022-07-20T20:22:59.282Z"
   },
   {
    "duration": 9,
    "start_time": "2022-07-20T20:23:35.380Z"
   },
   {
    "duration": 146,
    "start_time": "2022-07-20T20:23:35.390Z"
   },
   {
    "duration": 5,
    "start_time": "2022-07-20T20:27:36.337Z"
   },
   {
    "duration": 54,
    "start_time": "2022-07-20T20:28:00.253Z"
   },
   {
    "duration": 6,
    "start_time": "2022-07-20T20:28:06.825Z"
   },
   {
    "duration": 6,
    "start_time": "2022-07-20T20:31:19.605Z"
   },
   {
    "duration": 1279,
    "start_time": "2022-07-21T15:59:26.441Z"
   },
   {
    "duration": 2204,
    "start_time": "2022-07-21T15:59:27.722Z"
   },
   {
    "duration": 11,
    "start_time": "2022-07-21T15:59:29.928Z"
   },
   {
    "duration": 29,
    "start_time": "2022-07-21T15:59:37.241Z"
   },
   {
    "duration": 4,
    "start_time": "2022-07-21T15:59:39.051Z"
   },
   {
    "duration": 1282,
    "start_time": "2022-07-21T16:00:16.147Z"
   },
   {
    "duration": 3,
    "start_time": "2022-07-21T16:00:26.609Z"
   },
   {
    "duration": 57,
    "start_time": "2022-07-21T16:00:33.063Z"
   },
   {
    "duration": 6,
    "start_time": "2022-07-21T16:01:13.130Z"
   },
   {
    "duration": 1024,
    "start_time": "2022-07-21T16:02:00.102Z"
   },
   {
    "duration": 3,
    "start_time": "2022-07-21T16:06:22.083Z"
   },
   {
    "duration": 793,
    "start_time": "2022-07-21T16:06:22.414Z"
   },
   {
    "duration": 7,
    "start_time": "2022-07-21T16:06:23.209Z"
   },
   {
    "duration": 3,
    "start_time": "2022-07-21T16:06:28.307Z"
   },
   {
    "duration": 10,
    "start_time": "2022-07-21T16:06:28.718Z"
   },
   {
    "duration": 5,
    "start_time": "2022-07-21T16:06:35.379Z"
   },
   {
    "duration": 4,
    "start_time": "2022-07-21T16:07:02.604Z"
   },
   {
    "duration": 686333,
    "start_time": "2022-07-21T16:07:05.039Z"
   },
   {
    "duration": 51,
    "start_time": "2022-07-21T16:18:31.375Z"
   },
   {
    "duration": 0,
    "start_time": "2022-07-21T16:18:31.428Z"
   },
   {
    "duration": 0,
    "start_time": "2022-07-21T16:18:31.429Z"
   },
   {
    "duration": 0,
    "start_time": "2022-07-21T16:18:31.431Z"
   },
   {
    "duration": 0,
    "start_time": "2022-07-21T16:18:31.432Z"
   },
   {
    "duration": 0,
    "start_time": "2022-07-21T16:18:31.433Z"
   },
   {
    "duration": 0,
    "start_time": "2022-07-21T16:18:31.435Z"
   },
   {
    "duration": 0,
    "start_time": "2022-07-21T16:18:31.437Z"
   },
   {
    "duration": 0,
    "start_time": "2022-07-21T16:18:31.438Z"
   },
   {
    "duration": 0,
    "start_time": "2022-07-21T16:18:31.439Z"
   },
   {
    "duration": 3,
    "start_time": "2022-07-21T16:18:36.416Z"
   },
   {
    "duration": 330,
    "start_time": "2022-07-21T16:18:37.307Z"
   },
   {
    "duration": 9,
    "start_time": "2022-07-21T16:18:39.094Z"
   },
   {
    "duration": 6,
    "start_time": "2022-07-21T16:18:52.715Z"
   },
   {
    "duration": 23,
    "start_time": "2022-07-21T16:18:54.290Z"
   },
   {
    "duration": 12,
    "start_time": "2022-07-21T16:18:55.986Z"
   },
   {
    "duration": 461,
    "start_time": "2022-07-21T16:18:56.515Z"
   },
   {
    "duration": 18,
    "start_time": "2022-07-21T16:18:59.837Z"
   },
   {
    "duration": 25,
    "start_time": "2022-07-21T16:19:58.860Z"
   },
   {
    "duration": 13,
    "start_time": "2022-07-21T16:20:22.275Z"
   },
   {
    "duration": 3,
    "start_time": "2022-07-21T16:20:29.098Z"
   },
   {
    "duration": 6,
    "start_time": "2022-07-21T16:20:29.961Z"
   },
   {
    "duration": 21,
    "start_time": "2022-07-21T16:20:30.133Z"
   },
   {
    "duration": 4,
    "start_time": "2022-07-21T16:22:23.983Z"
   },
   {
    "duration": 8,
    "start_time": "2022-07-21T16:23:19.885Z"
   },
   {
    "duration": 14,
    "start_time": "2022-07-21T16:24:27.840Z"
   },
   {
    "duration": 4,
    "start_time": "2022-07-21T16:24:37.355Z"
   },
   {
    "duration": 3,
    "start_time": "2022-07-21T16:25:14.525Z"
   },
   {
    "duration": 6,
    "start_time": "2022-07-21T16:25:15.212Z"
   },
   {
    "duration": 12,
    "start_time": "2022-07-21T16:25:16.751Z"
   },
   {
    "duration": 4,
    "start_time": "2022-07-21T16:25:17.174Z"
   },
   {
    "duration": 52,
    "start_time": "2022-07-21T16:25:17.920Z"
   },
   {
    "duration": 3,
    "start_time": "2022-07-21T16:25:18.209Z"
   },
   {
    "duration": 49,
    "start_time": "2022-07-21T16:25:57.122Z"
   },
   {
    "duration": 7,
    "start_time": "2022-07-21T16:25:57.263Z"
   },
   {
    "duration": 17,
    "start_time": "2022-07-21T16:25:57.422Z"
   },
   {
    "duration": 5,
    "start_time": "2022-07-21T16:25:57.601Z"
   },
   {
    "duration": 68,
    "start_time": "2022-07-21T16:25:57.767Z"
   },
   {
    "duration": 2,
    "start_time": "2022-07-21T16:25:57.929Z"
   },
   {
    "duration": 3,
    "start_time": "2022-07-21T16:26:15.887Z"
   },
   {
    "duration": 6,
    "start_time": "2022-07-21T16:26:16.676Z"
   },
   {
    "duration": 13,
    "start_time": "2022-07-21T16:26:16.809Z"
   },
   {
    "duration": 4,
    "start_time": "2022-07-21T16:26:16.978Z"
   },
   {
    "duration": 52,
    "start_time": "2022-07-21T16:26:17.160Z"
   },
   {
    "duration": 3,
    "start_time": "2022-07-21T16:26:17.348Z"
   },
   {
    "duration": 11,
    "start_time": "2022-07-21T16:27:19.702Z"
   },
   {
    "duration": 11,
    "start_time": "2022-07-21T16:27:25.682Z"
   },
   {
    "duration": 7,
    "start_time": "2022-07-21T16:27:36.789Z"
   },
   {
    "duration": 11,
    "start_time": "2022-07-21T16:27:45.360Z"
   },
   {
    "duration": 8,
    "start_time": "2022-07-21T16:27:50.489Z"
   },
   {
    "duration": 6,
    "start_time": "2022-07-21T16:27:55.679Z"
   },
   {
    "duration": 4,
    "start_time": "2022-07-21T16:35:36.679Z"
   },
   {
    "duration": 5,
    "start_time": "2022-07-21T16:35:36.841Z"
   },
   {
    "duration": 19,
    "start_time": "2022-07-21T16:37:22.108Z"
   },
   {
    "duration": 12,
    "start_time": "2022-07-21T16:37:22.188Z"
   },
   {
    "duration": 9,
    "start_time": "2022-07-21T16:37:22.300Z"
   },
   {
    "duration": 251884,
    "start_time": "2022-07-21T16:37:48.270Z"
   },
   {
    "duration": 24,
    "start_time": "2022-07-21T16:42:00.156Z"
   },
   {
    "duration": 6,
    "start_time": "2022-07-21T16:42:00.182Z"
   },
   {
    "duration": 3,
    "start_time": "2022-07-21T16:44:44.094Z"
   },
   {
    "duration": 772,
    "start_time": "2022-07-21T16:44:44.283Z"
   },
   {
    "duration": 9,
    "start_time": "2022-07-21T16:44:45.057Z"
   },
   {
    "duration": 13,
    "start_time": "2022-07-21T16:45:09.284Z"
   },
   {
    "duration": 66,
    "start_time": "2022-07-21T16:45:09.438Z"
   },
   {
    "duration": 470584,
    "start_time": "2022-07-21T16:45:09.603Z"
   },
   {
    "duration": 3227,
    "start_time": "2022-07-21T16:53:00.188Z"
   },
   {
    "duration": 14,
    "start_time": "2022-07-21T16:53:03.417Z"
   },
   {
    "duration": 4,
    "start_time": "2022-07-21T16:58:58.037Z"
   },
   {
    "duration": 883,
    "start_time": "2022-07-21T16:58:58.778Z"
   },
   {
    "duration": 6,
    "start_time": "2022-07-21T16:58:59.663Z"
   },
   {
    "duration": 32,
    "start_time": "2022-07-21T16:58:59.767Z"
   },
   {
    "duration": 5,
    "start_time": "2022-07-21T16:59:03.160Z"
   },
   {
    "duration": 4,
    "start_time": "2022-07-21T16:59:07.808Z"
   },
   {
    "duration": 790,
    "start_time": "2022-07-21T16:59:08.025Z"
   },
   {
    "duration": 8,
    "start_time": "2022-07-21T16:59:08.817Z"
   },
   {
    "duration": 52,
    "start_time": "2022-07-21T16:59:08.827Z"
   },
   {
    "duration": 5,
    "start_time": "2022-07-21T16:59:09.336Z"
   },
   {
    "duration": 49,
    "start_time": "2022-07-21T16:59:49.818Z"
   },
   {
    "duration": 4,
    "start_time": "2022-07-21T17:00:46.207Z"
   },
   {
    "duration": 863,
    "start_time": "2022-07-21T17:00:46.366Z"
   },
   {
    "duration": 8,
    "start_time": "2022-07-21T17:00:47.231Z"
   },
   {
    "duration": 53,
    "start_time": "2022-07-21T17:00:47.241Z"
   },
   {
    "duration": 25,
    "start_time": "2022-07-21T17:00:47.297Z"
   },
   {
    "duration": 4,
    "start_time": "2022-07-21T17:00:50.656Z"
   },
   {
    "duration": 4,
    "start_time": "2022-07-21T17:00:51.634Z"
   },
   {
    "duration": 8,
    "start_time": "2022-07-21T17:07:05.229Z"
   },
   {
    "duration": 4,
    "start_time": "2022-07-21T17:08:19.188Z"
   },
   {
    "duration": 5,
    "start_time": "2022-07-21T17:08:27.046Z"
   },
   {
    "duration": 4,
    "start_time": "2022-07-21T17:08:32.129Z"
   },
   {
    "duration": 4,
    "start_time": "2022-07-21T17:08:41.749Z"
   },
   {
    "duration": 12,
    "start_time": "2022-07-21T17:08:56.782Z"
   },
   {
    "duration": 76,
    "start_time": "2022-07-21T17:09:03.148Z"
   },
   {
    "duration": 9,
    "start_time": "2022-07-21T17:09:25.710Z"
   },
   {
    "duration": 9,
    "start_time": "2022-07-21T17:09:28.440Z"
   },
   {
    "duration": 9,
    "start_time": "2022-07-21T17:09:28.581Z"
   },
   {
    "duration": 5,
    "start_time": "2022-07-21T17:09:40.348Z"
   },
   {
    "duration": 11,
    "start_time": "2022-07-21T17:09:46.779Z"
   },
   {
    "duration": 61,
    "start_time": "2022-07-21T17:10:12.113Z"
   },
   {
    "duration": 4,
    "start_time": "2022-07-21T17:10:12.315Z"
   },
   {
    "duration": 9,
    "start_time": "2022-07-21T17:10:18.586Z"
   },
   {
    "duration": 1329,
    "start_time": "2022-07-21T17:11:20.441Z"
   },
   {
    "duration": 908,
    "start_time": "2022-07-21T17:11:21.772Z"
   },
   {
    "duration": 20,
    "start_time": "2022-07-21T17:11:22.682Z"
   },
   {
    "duration": 32,
    "start_time": "2022-07-21T17:11:22.704Z"
   },
   {
    "duration": 4,
    "start_time": "2022-07-21T17:11:22.738Z"
   },
   {
    "duration": 4,
    "start_time": "2022-07-21T17:11:22.744Z"
   },
   {
    "duration": 9,
    "start_time": "2022-07-21T17:11:22.749Z"
   },
   {
    "duration": 123,
    "start_time": "2022-07-21T17:11:22.759Z"
   },
   {
    "duration": 4,
    "start_time": "2022-07-21T17:11:22.884Z"
   },
   {
    "duration": 7,
    "start_time": "2022-07-21T17:11:22.890Z"
   },
   {
    "duration": 357107,
    "start_time": "2022-07-21T17:11:22.899Z"
   },
   {
    "duration": 0,
    "start_time": "2022-07-21T17:17:20.009Z"
   },
   {
    "duration": 0,
    "start_time": "2022-07-21T17:17:20.011Z"
   },
   {
    "duration": 0,
    "start_time": "2022-07-21T17:17:20.013Z"
   },
   {
    "duration": 0,
    "start_time": "2022-07-21T17:17:20.015Z"
   },
   {
    "duration": 0,
    "start_time": "2022-07-21T17:17:20.016Z"
   },
   {
    "duration": 0,
    "start_time": "2022-07-21T17:17:20.018Z"
   },
   {
    "duration": 0,
    "start_time": "2022-07-21T17:17:20.020Z"
   },
   {
    "duration": 0,
    "start_time": "2022-07-21T17:17:20.021Z"
   },
   {
    "duration": 0,
    "start_time": "2022-07-21T17:17:20.023Z"
   },
   {
    "duration": 0,
    "start_time": "2022-07-21T17:17:20.024Z"
   },
   {
    "duration": 0,
    "start_time": "2022-07-21T17:17:20.026Z"
   },
   {
    "duration": 0,
    "start_time": "2022-07-21T17:17:20.027Z"
   },
   {
    "duration": 0,
    "start_time": "2022-07-21T17:17:20.062Z"
   },
   {
    "duration": 0,
    "start_time": "2022-07-21T17:17:20.064Z"
   },
   {
    "duration": 0,
    "start_time": "2022-07-21T17:17:20.065Z"
   },
   {
    "duration": 0,
    "start_time": "2022-07-21T17:17:20.067Z"
   },
   {
    "duration": 0,
    "start_time": "2022-07-21T17:17:20.068Z"
   },
   {
    "duration": 0,
    "start_time": "2022-07-21T17:17:20.070Z"
   },
   {
    "duration": 0,
    "start_time": "2022-07-21T17:17:20.073Z"
   },
   {
    "duration": 0,
    "start_time": "2022-07-21T17:17:20.075Z"
   },
   {
    "duration": 1371,
    "start_time": "2022-07-21T17:17:24.734Z"
   },
   {
    "duration": 994,
    "start_time": "2022-07-21T17:17:26.107Z"
   },
   {
    "duration": 13,
    "start_time": "2022-07-21T17:17:27.103Z"
   },
   {
    "duration": 50,
    "start_time": "2022-07-21T17:17:27.118Z"
   },
   {
    "duration": 7,
    "start_time": "2022-07-21T17:17:27.170Z"
   },
   {
    "duration": 11,
    "start_time": "2022-07-21T17:17:27.180Z"
   },
   {
    "duration": 8,
    "start_time": "2022-07-21T17:17:27.193Z"
   },
   {
    "duration": 71,
    "start_time": "2022-07-21T17:17:27.202Z"
   },
   {
    "duration": 16,
    "start_time": "2022-07-21T17:17:27.276Z"
   },
   {
    "duration": 125,
    "start_time": "2022-07-21T17:17:27.293Z"
   },
   {
    "duration": 0,
    "start_time": "2022-07-21T17:17:27.420Z"
   },
   {
    "duration": 0,
    "start_time": "2022-07-21T17:17:27.421Z"
   },
   {
    "duration": 0,
    "start_time": "2022-07-21T17:17:27.423Z"
   },
   {
    "duration": 0,
    "start_time": "2022-07-21T17:17:27.424Z"
   },
   {
    "duration": 0,
    "start_time": "2022-07-21T17:17:27.425Z"
   },
   {
    "duration": 0,
    "start_time": "2022-07-21T17:17:27.426Z"
   },
   {
    "duration": 0,
    "start_time": "2022-07-21T17:17:27.427Z"
   },
   {
    "duration": 0,
    "start_time": "2022-07-21T17:17:27.429Z"
   },
   {
    "duration": 0,
    "start_time": "2022-07-21T17:17:27.430Z"
   },
   {
    "duration": 0,
    "start_time": "2022-07-21T17:17:27.431Z"
   },
   {
    "duration": 0,
    "start_time": "2022-07-21T17:17:27.432Z"
   },
   {
    "duration": 0,
    "start_time": "2022-07-21T17:17:27.433Z"
   },
   {
    "duration": 0,
    "start_time": "2022-07-21T17:17:27.464Z"
   },
   {
    "duration": 0,
    "start_time": "2022-07-21T17:17:27.465Z"
   },
   {
    "duration": 0,
    "start_time": "2022-07-21T17:17:27.466Z"
   },
   {
    "duration": 0,
    "start_time": "2022-07-21T17:17:27.467Z"
   },
   {
    "duration": 0,
    "start_time": "2022-07-21T17:17:27.468Z"
   },
   {
    "duration": 0,
    "start_time": "2022-07-21T17:17:27.469Z"
   },
   {
    "duration": 0,
    "start_time": "2022-07-21T17:17:27.470Z"
   },
   {
    "duration": 1410,
    "start_time": "2022-07-21T17:17:51.310Z"
   },
   {
    "duration": 986,
    "start_time": "2022-07-21T17:17:52.723Z"
   },
   {
    "duration": 15,
    "start_time": "2022-07-21T17:17:53.711Z"
   },
   {
    "duration": 48,
    "start_time": "2022-07-21T17:17:53.729Z"
   },
   {
    "duration": 16,
    "start_time": "2022-07-21T17:17:53.781Z"
   },
   {
    "duration": 8,
    "start_time": "2022-07-21T17:17:53.799Z"
   },
   {
    "duration": 7,
    "start_time": "2022-07-21T17:17:53.808Z"
   },
   {
    "duration": 95,
    "start_time": "2022-07-21T17:17:53.817Z"
   },
   {
    "duration": 16,
    "start_time": "2022-07-21T17:17:53.914Z"
   },
   {
    "duration": 34,
    "start_time": "2022-07-21T17:17:53.933Z"
   },
   {
    "duration": 8267,
    "start_time": "2022-07-21T17:17:53.968Z"
   },
   {
    "duration": 0,
    "start_time": "2022-07-21T17:18:02.237Z"
   },
   {
    "duration": 0,
    "start_time": "2022-07-21T17:18:02.238Z"
   },
   {
    "duration": 0,
    "start_time": "2022-07-21T17:18:02.239Z"
   },
   {
    "duration": 0,
    "start_time": "2022-07-21T17:18:02.240Z"
   },
   {
    "duration": 0,
    "start_time": "2022-07-21T17:18:02.241Z"
   },
   {
    "duration": 0,
    "start_time": "2022-07-21T17:18:02.242Z"
   },
   {
    "duration": 0,
    "start_time": "2022-07-21T17:18:02.244Z"
   },
   {
    "duration": 0,
    "start_time": "2022-07-21T17:18:02.264Z"
   },
   {
    "duration": 0,
    "start_time": "2022-07-21T17:18:02.265Z"
   },
   {
    "duration": 0,
    "start_time": "2022-07-21T17:18:02.265Z"
   },
   {
    "duration": 0,
    "start_time": "2022-07-21T17:18:02.266Z"
   },
   {
    "duration": 0,
    "start_time": "2022-07-21T17:18:02.267Z"
   },
   {
    "duration": 0,
    "start_time": "2022-07-21T17:18:02.268Z"
   },
   {
    "duration": 0,
    "start_time": "2022-07-21T17:18:02.268Z"
   },
   {
    "duration": 0,
    "start_time": "2022-07-21T17:18:02.269Z"
   },
   {
    "duration": 0,
    "start_time": "2022-07-21T17:18:02.270Z"
   },
   {
    "duration": 0,
    "start_time": "2022-07-21T17:18:02.270Z"
   },
   {
    "duration": 0,
    "start_time": "2022-07-21T17:18:02.271Z"
   },
   {
    "duration": 8,
    "start_time": "2022-07-21T17:18:23.802Z"
   },
   {
    "duration": 6,
    "start_time": "2022-07-21T17:18:39.190Z"
   },
   {
    "duration": 33,
    "start_time": "2022-07-21T17:19:15.501Z"
   },
   {
    "duration": 24,
    "start_time": "2022-07-21T17:20:20.076Z"
   },
   {
    "duration": 94,
    "start_time": "2022-07-21T17:20:29.018Z"
   },
   {
    "duration": 25,
    "start_time": "2022-07-21T17:20:29.215Z"
   },
   {
    "duration": 22,
    "start_time": "2022-07-21T17:20:29.423Z"
   },
   {
    "duration": 5,
    "start_time": "2022-07-21T17:20:30.544Z"
   },
   {
    "duration": 20,
    "start_time": "2022-07-21T17:20:36.020Z"
   },
   {
    "duration": 19,
    "start_time": "2022-07-21T17:20:37.303Z"
   },
   {
    "duration": 1433,
    "start_time": "2022-07-21T17:20:42.487Z"
   },
   {
    "duration": 892,
    "start_time": "2022-07-21T17:20:43.923Z"
   },
   {
    "duration": 15,
    "start_time": "2022-07-21T17:20:44.816Z"
   },
   {
    "duration": 52,
    "start_time": "2022-07-21T17:20:44.833Z"
   },
   {
    "duration": 5,
    "start_time": "2022-07-21T17:20:44.886Z"
   },
   {
    "duration": 8,
    "start_time": "2022-07-21T17:20:44.892Z"
   },
   {
    "duration": 5,
    "start_time": "2022-07-21T17:20:44.901Z"
   },
   {
    "duration": 71,
    "start_time": "2022-07-21T17:20:44.908Z"
   },
   {
    "duration": 17,
    "start_time": "2022-07-21T17:20:44.981Z"
   },
   {
    "duration": 14,
    "start_time": "2022-07-21T17:20:45.000Z"
   },
   {
    "duration": 21,
    "start_time": "2022-07-21T17:20:45.016Z"
   },
   {
    "duration": 24,
    "start_time": "2022-07-21T17:20:45.039Z"
   },
   {
    "duration": 21,
    "start_time": "2022-07-21T17:20:45.065Z"
   },
   {
    "duration": 5495,
    "start_time": "2022-07-21T17:20:45.088Z"
   },
   {
    "duration": 0,
    "start_time": "2022-07-21T17:20:50.585Z"
   },
   {
    "duration": 0,
    "start_time": "2022-07-21T17:20:50.586Z"
   },
   {
    "duration": 0,
    "start_time": "2022-07-21T17:20:50.588Z"
   },
   {
    "duration": 0,
    "start_time": "2022-07-21T17:20:50.589Z"
   },
   {
    "duration": 0,
    "start_time": "2022-07-21T17:20:50.595Z"
   },
   {
    "duration": 0,
    "start_time": "2022-07-21T17:20:50.599Z"
   },
   {
    "duration": 0,
    "start_time": "2022-07-21T17:20:50.600Z"
   },
   {
    "duration": 0,
    "start_time": "2022-07-21T17:20:50.602Z"
   },
   {
    "duration": 0,
    "start_time": "2022-07-21T17:20:50.603Z"
   },
   {
    "duration": 0,
    "start_time": "2022-07-21T17:20:50.604Z"
   },
   {
    "duration": 0,
    "start_time": "2022-07-21T17:20:50.605Z"
   },
   {
    "duration": 0,
    "start_time": "2022-07-21T17:20:50.607Z"
   },
   {
    "duration": 0,
    "start_time": "2022-07-21T17:20:50.608Z"
   },
   {
    "duration": 0,
    "start_time": "2022-07-21T17:20:50.610Z"
   },
   {
    "duration": 0,
    "start_time": "2022-07-21T17:20:50.611Z"
   },
   {
    "duration": 0,
    "start_time": "2022-07-21T17:20:50.612Z"
   },
   {
    "duration": 0,
    "start_time": "2022-07-21T17:20:50.613Z"
   },
   {
    "duration": 0,
    "start_time": "2022-07-21T17:20:50.614Z"
   },
   {
    "duration": 66,
    "start_time": "2022-07-21T17:21:32.817Z"
   },
   {
    "duration": 4,
    "start_time": "2022-07-21T17:24:27.414Z"
   },
   {
    "duration": 845,
    "start_time": "2022-07-21T17:24:27.641Z"
   },
   {
    "duration": 7,
    "start_time": "2022-07-21T17:24:28.488Z"
   },
   {
    "duration": 36,
    "start_time": "2022-07-21T17:24:28.496Z"
   },
   {
    "duration": 4,
    "start_time": "2022-07-21T17:24:28.535Z"
   },
   {
    "duration": 4,
    "start_time": "2022-07-21T17:24:28.837Z"
   },
   {
    "duration": 4,
    "start_time": "2022-07-21T17:24:29.214Z"
   },
   {
    "duration": 99,
    "start_time": "2022-07-21T17:24:29.576Z"
   },
   {
    "duration": 30,
    "start_time": "2022-07-21T17:24:29.776Z"
   },
   {
    "duration": 18,
    "start_time": "2022-07-21T17:24:29.970Z"
   },
   {
    "duration": 8,
    "start_time": "2022-07-21T17:24:30.854Z"
   },
   {
    "duration": 17,
    "start_time": "2022-07-21T17:24:31.398Z"
   },
   {
    "duration": 15,
    "start_time": "2022-07-21T17:24:32.442Z"
   },
   {
    "duration": 899,
    "start_time": "2022-07-21T17:24:34.234Z"
   },
   {
    "duration": 0,
    "start_time": "2022-07-21T17:24:35.135Z"
   },
   {
    "duration": 914,
    "start_time": "2022-07-21T17:24:35.301Z"
   },
   {
    "duration": 0,
    "start_time": "2022-07-21T17:24:36.218Z"
   },
   {
    "duration": 9,
    "start_time": "2022-07-21T17:24:37.549Z"
   },
   {
    "duration": 10,
    "start_time": "2022-07-21T17:24:37.759Z"
   },
   {
    "duration": 10,
    "start_time": "2022-07-21T17:25:13.883Z"
   },
   {
    "duration": 6,
    "start_time": "2022-07-21T17:26:30.173Z"
   },
   {
    "duration": 11,
    "start_time": "2022-07-21T17:26:35.675Z"
   },
   {
    "duration": 1273,
    "start_time": "2022-07-21T17:26:59.619Z"
   },
   {
    "duration": 855,
    "start_time": "2022-07-21T17:27:00.894Z"
   },
   {
    "duration": 17,
    "start_time": "2022-07-21T17:27:01.750Z"
   },
   {
    "duration": 43,
    "start_time": "2022-07-21T17:27:01.769Z"
   },
   {
    "duration": 6,
    "start_time": "2022-07-21T17:27:01.814Z"
   },
   {
    "duration": 15,
    "start_time": "2022-07-21T17:27:01.822Z"
   },
   {
    "duration": 31,
    "start_time": "2022-07-21T17:27:01.839Z"
   },
   {
    "duration": 82,
    "start_time": "2022-07-21T17:27:01.872Z"
   },
   {
    "duration": 17,
    "start_time": "2022-07-21T17:27:01.956Z"
   },
   {
    "duration": 14,
    "start_time": "2022-07-21T17:27:01.976Z"
   },
   {
    "duration": 14,
    "start_time": "2022-07-21T17:27:01.992Z"
   },
   {
    "duration": 18,
    "start_time": "2022-07-21T17:27:02.008Z"
   },
   {
    "duration": 20,
    "start_time": "2022-07-21T17:27:02.028Z"
   },
   {
    "duration": 14,
    "start_time": "2022-07-21T17:27:02.050Z"
   },
   {
    "duration": 304805,
    "start_time": "2022-07-21T17:27:02.066Z"
   },
   {
    "duration": 0,
    "start_time": "2022-07-21T17:32:06.873Z"
   },
   {
    "duration": 0,
    "start_time": "2022-07-21T17:32:06.875Z"
   },
   {
    "duration": 0,
    "start_time": "2022-07-21T17:32:06.876Z"
   },
   {
    "duration": 0,
    "start_time": "2022-07-21T17:32:06.877Z"
   },
   {
    "duration": 0,
    "start_time": "2022-07-21T17:32:06.878Z"
   },
   {
    "duration": 0,
    "start_time": "2022-07-21T17:32:06.879Z"
   },
   {
    "duration": 0,
    "start_time": "2022-07-21T17:32:06.880Z"
   },
   {
    "duration": 0,
    "start_time": "2022-07-21T17:32:06.881Z"
   },
   {
    "duration": 0,
    "start_time": "2022-07-21T17:32:06.882Z"
   },
   {
    "duration": 0,
    "start_time": "2022-07-21T17:32:06.883Z"
   },
   {
    "duration": 0,
    "start_time": "2022-07-21T17:32:06.884Z"
   },
   {
    "duration": 0,
    "start_time": "2022-07-21T17:32:06.885Z"
   },
   {
    "duration": 0,
    "start_time": "2022-07-21T17:32:06.886Z"
   },
   {
    "duration": 0,
    "start_time": "2022-07-21T17:32:06.887Z"
   },
   {
    "duration": 0,
    "start_time": "2022-07-21T17:32:06.888Z"
   },
   {
    "duration": 0,
    "start_time": "2022-07-21T17:32:06.890Z"
   },
   {
    "duration": 0,
    "start_time": "2022-07-21T17:32:06.891Z"
   },
   {
    "duration": 0,
    "start_time": "2022-07-21T17:32:06.892Z"
   },
   {
    "duration": 0,
    "start_time": "2022-07-21T17:32:06.893Z"
   },
   {
    "duration": 0,
    "start_time": "2022-07-21T17:32:06.894Z"
   },
   {
    "duration": 0,
    "start_time": "2022-07-21T17:32:06.895Z"
   },
   {
    "duration": 4,
    "start_time": "2022-07-21T17:32:12.969Z"
   },
   {
    "duration": 801,
    "start_time": "2022-07-21T17:32:13.562Z"
   },
   {
    "duration": 8,
    "start_time": "2022-07-21T17:32:16.134Z"
   },
   {
    "duration": 31,
    "start_time": "2022-07-21T17:32:18.264Z"
   },
   {
    "duration": 3,
    "start_time": "2022-07-21T17:32:18.510Z"
   },
   {
    "duration": 5,
    "start_time": "2022-07-21T17:32:21.968Z"
   },
   {
    "duration": 18,
    "start_time": "2022-07-21T17:32:25.214Z"
   },
   {
    "duration": 3,
    "start_time": "2022-07-21T17:32:29.779Z"
   },
   {
    "duration": 2,
    "start_time": "2022-07-21T17:32:30.573Z"
   },
   {
    "duration": 47,
    "start_time": "2022-07-21T17:32:32.205Z"
   },
   {
    "duration": 12,
    "start_time": "2022-07-21T17:32:32.897Z"
   },
   {
    "duration": 10,
    "start_time": "2022-07-21T17:32:33.627Z"
   },
   {
    "duration": 5,
    "start_time": "2022-07-21T17:32:36.787Z"
   },
   {
    "duration": 11,
    "start_time": "2022-07-21T17:32:39.620Z"
   },
   {
    "duration": 11,
    "start_time": "2022-07-21T17:32:39.806Z"
   },
   {
    "duration": 20,
    "start_time": "2022-07-21T17:32:51.668Z"
   },
   {
    "duration": 9,
    "start_time": "2022-07-21T17:32:51.890Z"
   },
   {
    "duration": 9,
    "start_time": "2022-07-21T17:32:52.068Z"
   },
   {
    "duration": 5,
    "start_time": "2022-07-21T17:32:52.469Z"
   },
   {
    "duration": 13,
    "start_time": "2022-07-21T17:32:52.692Z"
   },
   {
    "duration": 10,
    "start_time": "2022-07-21T17:32:53.346Z"
   },
   {
    "duration": 4,
    "start_time": "2022-07-21T17:33:01.386Z"
   },
   {
    "duration": 1626,
    "start_time": "2022-07-21T17:34:58.939Z"
   },
   {
    "duration": 901,
    "start_time": "2022-07-21T17:35:00.568Z"
   },
   {
    "duration": 315,
    "start_time": "2022-07-21T17:35:01.471Z"
   },
   {
    "duration": 869,
    "start_time": "2022-07-21T17:35:01.788Z"
   },
   {
    "duration": 1124,
    "start_time": "2022-07-21T17:35:02.659Z"
   },
   {
    "duration": 404,
    "start_time": "2022-07-21T17:35:03.785Z"
   },
   {
    "duration": 10,
    "start_time": "2022-07-21T17:35:04.190Z"
   },
   {
    "duration": 12,
    "start_time": "2022-07-21T17:35:04.201Z"
   },
   {
    "duration": 28,
    "start_time": "2022-07-21T17:35:04.215Z"
   },
   {
    "duration": 10,
    "start_time": "2022-07-21T17:35:04.246Z"
   },
   {
    "duration": 12,
    "start_time": "2022-07-21T17:35:04.257Z"
   },
   {
    "duration": 9,
    "start_time": "2022-07-21T17:35:04.271Z"
   },
   {
    "duration": 18,
    "start_time": "2022-07-21T17:35:04.282Z"
   },
   {
    "duration": 16,
    "start_time": "2022-07-21T17:35:04.302Z"
   },
   {
    "duration": 9,
    "start_time": "2022-07-21T17:35:04.319Z"
   },
   {
    "duration": 6655782,
    "start_time": "2022-07-21T17:35:04.330Z"
   },
   {
    "duration": 1768504,
    "start_time": "2022-07-21T19:26:00.114Z"
   },
   {
    "duration": 6280,
    "start_time": "2022-07-21T19:55:28.620Z"
   },
   {
    "duration": 1168,
    "start_time": "2022-07-21T19:55:34.902Z"
   },
   {
    "duration": 10,
    "start_time": "2022-07-21T19:55:36.072Z"
   },
   {
    "duration": 22,
    "start_time": "2022-07-21T19:55:36.084Z"
   },
   {
    "duration": 21,
    "start_time": "2022-07-21T19:55:36.108Z"
   },
   {
    "duration": 30,
    "start_time": "2022-07-21T19:55:36.131Z"
   },
   {
    "duration": 8114,
    "start_time": "2022-07-21T19:55:36.163Z"
   },
   {
    "duration": 0,
    "start_time": "2022-07-21T19:55:44.279Z"
   },
   {
    "duration": 0,
    "start_time": "2022-07-21T19:55:44.281Z"
   },
   {
    "duration": 0,
    "start_time": "2022-07-21T19:55:44.282Z"
   },
   {
    "duration": 0,
    "start_time": "2022-07-21T19:55:44.283Z"
   },
   {
    "duration": 0,
    "start_time": "2022-07-21T19:55:44.284Z"
   },
   {
    "duration": 0,
    "start_time": "2022-07-21T19:55:44.285Z"
   },
   {
    "duration": 0,
    "start_time": "2022-07-21T19:55:44.287Z"
   },
   {
    "duration": 0,
    "start_time": "2022-07-21T19:55:44.288Z"
   },
   {
    "duration": 0,
    "start_time": "2022-07-21T19:55:44.290Z"
   },
   {
    "duration": 0,
    "start_time": "2022-07-21T19:55:44.291Z"
   },
   {
    "duration": 0,
    "start_time": "2022-07-21T19:55:44.292Z"
   },
   {
    "duration": 0,
    "start_time": "2022-07-21T19:55:44.293Z"
   },
   {
    "duration": 0,
    "start_time": "2022-07-21T19:55:44.295Z"
   },
   {
    "duration": 9,
    "start_time": "2022-07-21T19:59:49.031Z"
   },
   {
    "duration": 24,
    "start_time": "2022-07-21T19:59:49.194Z"
   },
   {
    "duration": 16,
    "start_time": "2022-07-21T19:59:49.409Z"
   },
   {
    "duration": 11,
    "start_time": "2022-07-21T19:59:49.604Z"
   },
   {
    "duration": 6,
    "start_time": "2022-07-21T20:00:29.857Z"
   },
   {
    "duration": 284652,
    "start_time": "2022-07-21T20:00:30.047Z"
   },
   {
    "duration": 202,
    "start_time": "2022-07-21T20:05:14.702Z"
   },
   {
    "duration": 6,
    "start_time": "2022-07-21T20:05:14.906Z"
   },
   {
    "duration": 10,
    "start_time": "2022-07-21T20:11:22.407Z"
   },
   {
    "duration": 9,
    "start_time": "2022-07-21T20:11:22.867Z"
   },
   {
    "duration": 4,
    "start_time": "2022-07-21T20:11:40.831Z"
   },
   {
    "duration": 11,
    "start_time": "2022-07-21T20:11:51.167Z"
   },
   {
    "duration": 12,
    "start_time": "2022-07-21T20:11:51.362Z"
   },
   {
    "duration": 18,
    "start_time": "2022-07-21T20:12:48.383Z"
   },
   {
    "duration": 9,
    "start_time": "2022-07-21T20:12:48.512Z"
   },
   {
    "duration": 23,
    "start_time": "2022-07-21T20:12:58.282Z"
   },
   {
    "duration": 11,
    "start_time": "2022-07-21T20:12:58.405Z"
   },
   {
    "duration": 15549,
    "start_time": "2022-07-21T20:13:26.551Z"
   },
   {
    "duration": 0,
    "start_time": "2022-07-21T20:13:42.102Z"
   },
   {
    "duration": 56025,
    "start_time": "2022-07-21T20:14:04.206Z"
   },
   {
    "duration": 0,
    "start_time": "2022-07-21T20:15:00.232Z"
   },
   {
    "duration": 90,
    "start_time": "2022-07-21T20:15:16.431Z"
   },
   {
    "duration": 12,
    "start_time": "2022-07-21T20:15:16.590Z"
   },
   {
    "duration": 30453,
    "start_time": "2022-07-21T20:15:21.177Z"
   },
   {
    "duration": 0,
    "start_time": "2022-07-21T20:15:51.632Z"
   },
   {
    "duration": 48,
    "start_time": "2022-07-21T20:16:29.111Z"
   },
   {
    "duration": 9,
    "start_time": "2022-07-21T20:16:29.252Z"
   },
   {
    "duration": 56511,
    "start_time": "2022-07-21T20:16:36.274Z"
   },
   {
    "duration": 3,
    "start_time": "2022-07-21T20:17:32.787Z"
   },
   {
    "duration": 525383,
    "start_time": "2022-07-21T20:18:36.469Z"
   },
   {
    "duration": 0,
    "start_time": "2022-07-21T20:27:21.854Z"
   },
   {
    "duration": 105181,
    "start_time": "2022-07-21T20:27:30.220Z"
   },
   {
    "duration": 0,
    "start_time": "2022-07-21T20:29:15.403Z"
   },
   {
    "duration": 69240,
    "start_time": "2022-07-21T20:29:33.974Z"
   },
   {
    "duration": 3,
    "start_time": "2022-07-21T20:30:43.216Z"
   },
   {
    "duration": 175625,
    "start_time": "2022-07-21T20:30:57.120Z"
   },
   {
    "duration": 3,
    "start_time": "2022-07-21T20:33:52.746Z"
   },
   {
    "duration": 3,
    "start_time": "2022-07-21T20:36:53.452Z"
   },
   {
    "duration": 44228,
    "start_time": "2022-07-21T20:36:53.582Z"
   },
   {
    "duration": 135,
    "start_time": "2022-07-21T20:37:37.813Z"
   },
   {
    "duration": 5,
    "start_time": "2022-07-21T20:37:37.950Z"
   },
   {
    "duration": 3,
    "start_time": "2022-07-21T20:38:25.713Z"
   },
   {
    "duration": 43083,
    "start_time": "2022-07-21T20:38:25.892Z"
   },
   {
    "duration": 138,
    "start_time": "2022-07-21T20:39:08.977Z"
   },
   {
    "duration": 6,
    "start_time": "2022-07-21T20:39:09.116Z"
   },
   {
    "duration": 3,
    "start_time": "2022-07-21T20:39:20.745Z"
   },
   {
    "duration": 52285,
    "start_time": "2022-07-21T20:39:20.915Z"
   },
   {
    "duration": 139,
    "start_time": "2022-07-21T20:40:13.202Z"
   },
   {
    "duration": 5,
    "start_time": "2022-07-21T20:40:13.343Z"
   },
   {
    "duration": 3,
    "start_time": "2022-07-21T20:40:29.158Z"
   },
   {
    "duration": 97577,
    "start_time": "2022-07-21T20:40:29.307Z"
   },
   {
    "duration": 113,
    "start_time": "2022-07-21T20:42:06.886Z"
   },
   {
    "duration": 5,
    "start_time": "2022-07-21T20:42:07.001Z"
   },
   {
    "duration": 3,
    "start_time": "2022-07-21T20:42:23.568Z"
   },
   {
    "duration": 81404,
    "start_time": "2022-07-21T20:42:23.797Z"
   },
   {
    "duration": 161,
    "start_time": "2022-07-21T20:43:45.203Z"
   },
   {
    "duration": 6,
    "start_time": "2022-07-21T20:43:45.365Z"
   },
   {
    "duration": 3,
    "start_time": "2022-07-21T20:45:14.842Z"
   },
   {
    "duration": 83513,
    "start_time": "2022-07-21T20:45:15.461Z"
   },
   {
    "duration": 163,
    "start_time": "2022-07-21T20:46:38.976Z"
   },
   {
    "duration": 7,
    "start_time": "2022-07-21T20:46:39.141Z"
   },
   {
    "duration": 45,
    "start_time": "2022-07-22T14:21:44.052Z"
   },
   {
    "duration": 1614,
    "start_time": "2022-07-23T00:01:32.913Z"
   },
   {
    "duration": 3295,
    "start_time": "2022-07-23T00:01:34.529Z"
   },
   {
    "duration": 16,
    "start_time": "2022-07-23T00:01:37.826Z"
   },
   {
    "duration": 86,
    "start_time": "2022-07-23T00:01:37.844Z"
   },
   {
    "duration": 3,
    "start_time": "2022-07-23T00:01:37.933Z"
   },
   {
    "duration": 16,
    "start_time": "2022-07-23T00:01:37.938Z"
   },
   {
    "duration": 37,
    "start_time": "2022-07-23T00:01:37.956Z"
   },
   {
    "duration": 9,
    "start_time": "2022-07-23T00:01:37.995Z"
   },
   {
    "duration": 12,
    "start_time": "2022-07-23T00:01:38.006Z"
   },
   {
    "duration": 9,
    "start_time": "2022-07-23T00:01:38.021Z"
   },
   {
    "duration": 11,
    "start_time": "2022-07-23T00:01:38.032Z"
   },
   {
    "duration": 49,
    "start_time": "2022-07-23T00:01:38.049Z"
   },
   {
    "duration": 15,
    "start_time": "2022-07-23T00:01:38.101Z"
   },
   {
    "duration": 16,
    "start_time": "2022-07-23T00:01:38.118Z"
   },
   {
    "duration": 36,
    "start_time": "2022-07-23T00:01:38.137Z"
   },
   {
    "duration": 1475716,
    "start_time": "2022-07-23T00:01:38.175Z"
   },
   {
    "duration": 337425,
    "start_time": "2022-07-23T00:26:13.893Z"
   },
   {
    "duration": 682,
    "start_time": "2022-07-23T00:31:51.320Z"
   },
   {
    "duration": 184,
    "start_time": "2022-07-23T00:31:52.004Z"
   },
   {
    "duration": 7,
    "start_time": "2022-07-23T00:31:52.189Z"
   },
   {
    "duration": 9,
    "start_time": "2022-07-23T00:31:52.198Z"
   },
   {
    "duration": 9,
    "start_time": "2022-07-23T00:31:52.209Z"
   },
   {
    "duration": 37927,
    "start_time": "2022-07-23T00:31:52.220Z"
   },
   {
    "duration": 3,
    "start_time": "2022-07-23T00:32:30.148Z"
   },
   {
    "duration": 17,
    "start_time": "2022-07-23T00:32:30.152Z"
   },
   {
    "duration": 74068,
    "start_time": "2022-07-23T00:32:30.171Z"
   },
   {
    "duration": 26,
    "start_time": "2022-07-23T00:33:44.240Z"
   },
   {
    "duration": 5,
    "start_time": "2022-07-23T00:33:44.269Z"
   },
   {
    "duration": 120,
    "start_time": "2022-07-23T00:33:44.277Z"
   },
   {
    "duration": 0,
    "start_time": "2022-07-23T00:33:44.401Z"
   },
   {
    "duration": 0,
    "start_time": "2022-07-23T00:33:44.402Z"
   },
   {
    "duration": 0,
    "start_time": "2022-07-23T00:33:44.403Z"
   },
   {
    "duration": 0,
    "start_time": "2022-07-23T00:33:44.404Z"
   },
   {
    "duration": 0,
    "start_time": "2022-07-23T00:33:44.404Z"
   },
   {
    "duration": 0,
    "start_time": "2022-07-23T00:33:44.405Z"
   },
   {
    "duration": 0,
    "start_time": "2022-07-23T00:33:44.406Z"
   },
   {
    "duration": 350023,
    "start_time": "2022-07-23T01:15:13.794Z"
   },
   {
    "duration": 659,
    "start_time": "2022-07-23T01:21:03.819Z"
   },
   {
    "duration": 187,
    "start_time": "2022-07-23T01:21:04.480Z"
   },
   {
    "duration": 12,
    "start_time": "2022-07-23T01:21:04.670Z"
   },
   {
    "duration": 20,
    "start_time": "2022-07-23T01:21:04.688Z"
   },
   {
    "duration": 10,
    "start_time": "2022-07-23T01:21:04.709Z"
   },
   {
    "duration": 83600,
    "start_time": "2022-07-23T01:21:04.721Z"
   },
   {
    "duration": 4,
    "start_time": "2022-07-23T01:22:28.323Z"
   },
   {
    "duration": 77,
    "start_time": "2022-07-23T01:22:28.329Z"
   },
   {
    "duration": 0,
    "start_time": "2022-07-23T01:22:28.408Z"
   },
   {
    "duration": 0,
    "start_time": "2022-07-23T01:22:28.410Z"
   },
   {
    "duration": 0,
    "start_time": "2022-07-23T01:22:28.411Z"
   },
   {
    "duration": 0,
    "start_time": "2022-07-23T01:22:28.412Z"
   },
   {
    "duration": 0,
    "start_time": "2022-07-23T01:22:28.413Z"
   },
   {
    "duration": 0,
    "start_time": "2022-07-23T01:22:28.414Z"
   },
   {
    "duration": 0,
    "start_time": "2022-07-23T01:22:28.415Z"
   },
   {
    "duration": 0,
    "start_time": "2022-07-23T01:22:28.416Z"
   },
   {
    "duration": 0,
    "start_time": "2022-07-23T01:22:28.417Z"
   },
   {
    "duration": 0,
    "start_time": "2022-07-23T01:22:28.418Z"
   },
   {
    "duration": 0,
    "start_time": "2022-07-23T01:22:28.420Z"
   },
   {
    "duration": 3,
    "start_time": "2022-07-23T01:23:09.892Z"
   },
   {
    "duration": 634,
    "start_time": "2022-07-23T01:23:09.992Z"
   },
   {
    "duration": 13,
    "start_time": "2022-07-23T01:23:10.628Z"
   },
   {
    "duration": 0,
    "start_time": "2022-07-23T01:23:10.642Z"
   },
   {
    "duration": 3,
    "start_time": "2022-07-23T01:24:01.793Z"
   },
   {
    "duration": 16353,
    "start_time": "2022-07-23T01:24:02.004Z"
   },
   {
    "duration": 23,
    "start_time": "2022-07-23T01:24:18.359Z"
   },
   {
    "duration": 5,
    "start_time": "2022-07-23T01:24:18.384Z"
   },
   {
    "duration": 12,
    "start_time": "2022-07-23T01:24:18.391Z"
   },
   {
    "duration": 0,
    "start_time": "2022-07-23T01:24:18.404Z"
   },
   {
    "duration": 0,
    "start_time": "2022-07-23T01:24:18.406Z"
   },
   {
    "duration": 0,
    "start_time": "2022-07-23T01:24:18.407Z"
   },
   {
    "duration": 0,
    "start_time": "2022-07-23T01:24:18.409Z"
   },
   {
    "duration": 0,
    "start_time": "2022-07-23T01:24:18.410Z"
   },
   {
    "duration": 0,
    "start_time": "2022-07-23T01:24:18.411Z"
   },
   {
    "duration": 0,
    "start_time": "2022-07-23T01:24:18.446Z"
   },
   {
    "duration": 4,
    "start_time": "2022-07-23T01:24:56.541Z"
   },
   {
    "duration": 116,
    "start_time": "2022-07-23T01:24:56.699Z"
   },
   {
    "duration": 15,
    "start_time": "2022-07-23T01:24:58.122Z"
   },
   {
    "duration": 5,
    "start_time": "2022-07-23T01:24:58.203Z"
   },
   {
    "duration": 3,
    "start_time": "2022-07-23T01:25:34.006Z"
   },
   {
    "duration": 178,
    "start_time": "2022-07-23T01:25:34.012Z"
   },
   {
    "duration": 19,
    "start_time": "2022-07-23T01:25:34.684Z"
   },
   {
    "duration": 5,
    "start_time": "2022-07-23T01:26:19.989Z"
   },
   {
    "duration": 37453,
    "start_time": "2022-07-23T01:26:21.077Z"
   },
   {
    "duration": 3,
    "start_time": "2022-07-23T01:26:58.533Z"
   },
   {
    "duration": 9,
    "start_time": "2022-07-23T01:26:58.538Z"
   },
   {
    "duration": 76403,
    "start_time": "2022-07-23T01:26:58.550Z"
   },
   {
    "duration": 26,
    "start_time": "2022-07-23T01:28:14.955Z"
   },
   {
    "duration": 5,
    "start_time": "2022-07-23T01:28:14.983Z"
   },
   {
    "duration": 3,
    "start_time": "2022-07-23T01:28:51.024Z"
   },
   {
    "duration": 37,
    "start_time": "2022-07-23T01:28:51.980Z"
   },
   {
    "duration": 311,
    "start_time": "2022-07-23T01:28:52.170Z"
   },
   {
    "duration": 198,
    "start_time": "2022-07-23T01:28:52.483Z"
   },
   {
    "duration": 42,
    "start_time": "2022-07-23T01:28:52.742Z"
   },
   {
    "duration": 22,
    "start_time": "2022-07-23T01:28:53.160Z"
   },
   {
    "duration": 34,
    "start_time": "2022-07-23T01:28:53.518Z"
   },
   {
    "duration": 11,
    "start_time": "2022-07-23T01:28:53.698Z"
   },
   {
    "duration": 2030,
    "start_time": "2022-07-23T01:29:29.122Z"
   },
   {
    "duration": 5,
    "start_time": "2022-07-23T01:29:31.156Z"
   },
   {
    "duration": 109,
    "start_time": "2022-07-23T01:29:31.163Z"
   },
   {
    "duration": 5,
    "start_time": "2022-07-23T01:29:42.611Z"
   },
   {
    "duration": 1514,
    "start_time": "2022-07-23T07:27:47.630Z"
   },
   {
    "duration": 4116,
    "start_time": "2022-07-23T07:27:49.146Z"
   },
   {
    "duration": 18,
    "start_time": "2022-07-23T07:27:53.263Z"
   },
   {
    "duration": 43,
    "start_time": "2022-07-23T07:27:53.284Z"
   },
   {
    "duration": 2,
    "start_time": "2022-07-23T07:27:53.329Z"
   },
   {
    "duration": 8,
    "start_time": "2022-07-23T07:27:53.333Z"
   },
   {
    "duration": 6,
    "start_time": "2022-07-23T07:27:53.343Z"
   },
   {
    "duration": 7,
    "start_time": "2022-07-23T07:27:53.351Z"
   },
   {
    "duration": 13,
    "start_time": "2022-07-23T07:27:53.360Z"
   },
   {
    "duration": 8,
    "start_time": "2022-07-23T07:27:53.375Z"
   },
   {
    "duration": 26,
    "start_time": "2022-07-23T07:27:53.384Z"
   },
   {
    "duration": 5,
    "start_time": "2022-07-23T07:27:53.412Z"
   },
   {
    "duration": 24,
    "start_time": "2022-07-23T07:27:53.419Z"
   },
   {
    "duration": 20,
    "start_time": "2022-07-23T07:27:53.445Z"
   },
   {
    "duration": 17,
    "start_time": "2022-07-23T07:27:53.468Z"
   },
   {
    "duration": 32492,
    "start_time": "2022-07-23T07:27:53.487Z"
   },
   {
    "duration": 0,
    "start_time": "2022-07-23T07:28:25.981Z"
   },
   {
    "duration": 0,
    "start_time": "2022-07-23T07:28:25.983Z"
   },
   {
    "duration": 0,
    "start_time": "2022-07-23T07:28:25.985Z"
   },
   {
    "duration": 0,
    "start_time": "2022-07-23T07:28:25.986Z"
   },
   {
    "duration": 0,
    "start_time": "2022-07-23T07:28:25.987Z"
   },
   {
    "duration": 1,
    "start_time": "2022-07-23T07:28:25.989Z"
   },
   {
    "duration": 0,
    "start_time": "2022-07-23T07:28:25.991Z"
   },
   {
    "duration": 0,
    "start_time": "2022-07-23T07:28:26.010Z"
   },
   {
    "duration": 0,
    "start_time": "2022-07-23T07:28:26.012Z"
   },
   {
    "duration": 0,
    "start_time": "2022-07-23T07:28:26.014Z"
   },
   {
    "duration": 0,
    "start_time": "2022-07-23T07:28:26.016Z"
   },
   {
    "duration": 0,
    "start_time": "2022-07-23T07:28:26.017Z"
   },
   {
    "duration": 0,
    "start_time": "2022-07-23T07:28:26.019Z"
   },
   {
    "duration": 0,
    "start_time": "2022-07-23T07:28:26.020Z"
   },
   {
    "duration": 0,
    "start_time": "2022-07-23T07:28:26.022Z"
   },
   {
    "duration": 0,
    "start_time": "2022-07-23T07:28:26.023Z"
   },
   {
    "duration": 0,
    "start_time": "2022-07-23T07:28:26.023Z"
   },
   {
    "duration": 0,
    "start_time": "2022-07-23T07:28:26.024Z"
   },
   {
    "duration": 0,
    "start_time": "2022-07-23T07:28:26.026Z"
   },
   {
    "duration": 0,
    "start_time": "2022-07-23T07:28:26.027Z"
   },
   {
    "duration": 1619,
    "start_time": "2022-07-23T07:28:40.481Z"
   },
   {
    "duration": 941,
    "start_time": "2022-07-23T07:28:42.105Z"
   },
   {
    "duration": 16,
    "start_time": "2022-07-23T07:28:43.048Z"
   },
   {
    "duration": 44,
    "start_time": "2022-07-23T07:28:43.067Z"
   },
   {
    "duration": 3,
    "start_time": "2022-07-23T07:28:43.113Z"
   },
   {
    "duration": 9,
    "start_time": "2022-07-23T07:28:43.118Z"
   },
   {
    "duration": 4,
    "start_time": "2022-07-23T07:28:43.129Z"
   },
   {
    "duration": 6,
    "start_time": "2022-07-23T07:28:43.135Z"
   },
   {
    "duration": 16,
    "start_time": "2022-07-23T07:28:43.143Z"
   },
   {
    "duration": 17,
    "start_time": "2022-07-23T07:28:43.163Z"
   },
   {
    "duration": 29,
    "start_time": "2022-07-23T07:28:43.182Z"
   },
   {
    "duration": 5,
    "start_time": "2022-07-23T07:28:43.213Z"
   },
   {
    "duration": 17,
    "start_time": "2022-07-23T07:28:43.221Z"
   },
   {
    "duration": 16,
    "start_time": "2022-07-23T07:28:43.241Z"
   },
   {
    "duration": 10,
    "start_time": "2022-07-23T07:28:43.259Z"
   },
   {
    "duration": 3777583,
    "start_time": "2022-07-23T07:28:43.271Z"
   },
   {
    "duration": 1031653,
    "start_time": "2022-07-23T08:31:40.857Z"
   },
   {
    "duration": 2766,
    "start_time": "2022-07-23T08:48:52.513Z"
   },
   {
    "duration": 676,
    "start_time": "2022-07-23T08:48:55.281Z"
   },
   {
    "duration": 10,
    "start_time": "2022-07-23T08:48:55.959Z"
   },
   {
    "duration": 13,
    "start_time": "2022-07-23T08:48:55.971Z"
   },
   {
    "duration": 32,
    "start_time": "2022-07-23T08:48:55.986Z"
   },
   {
    "duration": 86761,
    "start_time": "2022-07-23T08:48:56.020Z"
   },
   {
    "duration": 0,
    "start_time": "2022-07-23T08:50:22.783Z"
   },
   {
    "duration": 0,
    "start_time": "2022-07-23T08:50:22.785Z"
   },
   {
    "duration": 0,
    "start_time": "2022-07-23T08:50:22.787Z"
   },
   {
    "duration": 0,
    "start_time": "2022-07-23T08:50:22.789Z"
   },
   {
    "duration": 0,
    "start_time": "2022-07-23T08:50:22.791Z"
   },
   {
    "duration": 0,
    "start_time": "2022-07-23T08:50:22.792Z"
   },
   {
    "duration": 0,
    "start_time": "2022-07-23T08:50:22.794Z"
   },
   {
    "duration": 0,
    "start_time": "2022-07-23T08:50:22.797Z"
   },
   {
    "duration": 1,
    "start_time": "2022-07-23T08:50:22.798Z"
   },
   {
    "duration": 0,
    "start_time": "2022-07-23T08:50:22.800Z"
   },
   {
    "duration": 1,
    "start_time": "2022-07-23T08:50:22.801Z"
   },
   {
    "duration": 0,
    "start_time": "2022-07-23T08:50:22.803Z"
   },
   {
    "duration": 0,
    "start_time": "2022-07-23T08:50:22.805Z"
   },
   {
    "duration": 96,
    "start_time": "2022-07-23T08:50:26.945Z"
   },
   {
    "duration": 5,
    "start_time": "2022-07-23T08:50:27.078Z"
   },
   {
    "duration": 94,
    "start_time": "2022-07-23T08:50:27.464Z"
   },
   {
    "duration": 17476,
    "start_time": "2022-07-23T08:50:27.608Z"
   },
   {
    "duration": 22,
    "start_time": "2022-07-23T08:50:45.087Z"
   },
   {
    "duration": 0,
    "start_time": "2022-07-23T08:50:45.112Z"
   },
   {
    "duration": 0,
    "start_time": "2022-07-23T08:50:45.114Z"
   },
   {
    "duration": 0,
    "start_time": "2022-07-23T08:50:45.115Z"
   },
   {
    "duration": 0,
    "start_time": "2022-07-23T08:50:45.117Z"
   },
   {
    "duration": 0,
    "start_time": "2022-07-23T08:50:45.118Z"
   },
   {
    "duration": 0,
    "start_time": "2022-07-23T08:50:45.120Z"
   },
   {
    "duration": 0,
    "start_time": "2022-07-23T08:50:45.121Z"
   },
   {
    "duration": 0,
    "start_time": "2022-07-23T08:50:45.122Z"
   },
   {
    "duration": 0,
    "start_time": "2022-07-23T08:50:45.124Z"
   },
   {
    "duration": 46,
    "start_time": "2022-07-23T08:52:12.253Z"
   },
   {
    "duration": 100,
    "start_time": "2022-07-23T08:52:50.155Z"
   },
   {
    "duration": 86,
    "start_time": "2022-07-23T08:52:56.494Z"
   },
   {
    "duration": 2174,
    "start_time": "2022-07-23T08:53:33.664Z"
   },
   {
    "duration": 76,
    "start_time": "2022-07-23T08:54:19.758Z"
   },
   {
    "duration": 82,
    "start_time": "2022-07-23T08:54:40.090Z"
   },
   {
    "duration": 38229,
    "start_time": "2022-07-23T08:54:55.169Z"
   },
   {
    "duration": 246248,
    "start_time": "2022-07-23T08:55:37.194Z"
   },
   {
    "duration": 5,
    "start_time": "2022-07-23T08:59:43.445Z"
   },
   {
    "duration": 679494,
    "start_time": "2022-07-23T09:00:24.750Z"
   },
   {
    "duration": 4,
    "start_time": "2022-07-23T09:11:44.246Z"
   },
   {
    "duration": 4,
    "start_time": "2022-07-23T09:11:59.954Z"
   },
   {
    "duration": 741,
    "start_time": "2022-07-23T09:12:04.856Z"
   },
   {
    "duration": 14,
    "start_time": "2022-07-23T09:12:05.694Z"
   },
   {
    "duration": 5,
    "start_time": "2022-07-23T09:12:34.131Z"
   },
   {
    "duration": 872,
    "start_time": "2022-07-23T09:12:36.152Z"
   },
   {
    "duration": 105,
    "start_time": "2022-07-23T09:13:01.432Z"
   },
   {
    "duration": 0,
    "start_time": "2022-07-23T09:13:01.539Z"
   },
   {
    "duration": 19,
    "start_time": "2022-07-23T09:13:02.056Z"
   },
   {
    "duration": 86,
    "start_time": "2022-07-23T09:13:21.675Z"
   },
   {
    "duration": 788,
    "start_time": "2022-07-23T09:13:21.855Z"
   },
   {
    "duration": 18,
    "start_time": "2022-07-23T09:13:22.646Z"
   },
   {
    "duration": 4,
    "start_time": "2022-07-23T09:13:45.105Z"
   },
   {
    "duration": 1640,
    "start_time": "2022-07-23T09:13:45.363Z"
   },
   {
    "duration": 24,
    "start_time": "2022-07-23T09:13:47.005Z"
   },
   {
    "duration": 4,
    "start_time": "2022-07-23T09:15:04.841Z"
   },
   {
    "duration": 868,
    "start_time": "2022-07-23T09:15:04.856Z"
   },
   {
    "duration": 15,
    "start_time": "2022-07-23T09:15:05.727Z"
   },
   {
    "duration": 11,
    "start_time": "2022-07-23T09:15:05.952Z"
   },
   {
    "duration": 4,
    "start_time": "2022-07-23T09:15:27.901Z"
   },
   {
    "duration": 1100,
    "start_time": "2022-07-23T09:15:27.907Z"
   },
   {
    "duration": 20,
    "start_time": "2022-07-23T09:15:29.011Z"
   },
   {
    "duration": 0,
    "start_time": "2022-07-23T09:15:29.033Z"
   },
   {
    "duration": 7,
    "start_time": "2022-07-23T09:16:18.109Z"
   },
   {
    "duration": 740,
    "start_time": "2022-07-23T09:16:18.298Z"
   },
   {
    "duration": 19,
    "start_time": "2022-07-23T09:16:19.040Z"
   },
   {
    "duration": 10,
    "start_time": "2022-07-23T09:16:19.171Z"
   },
   {
    "duration": 90,
    "start_time": "2022-07-23T09:16:33.663Z"
   },
   {
    "duration": 0,
    "start_time": "2022-07-23T09:16:33.755Z"
   },
   {
    "duration": 0,
    "start_time": "2022-07-23T09:16:33.757Z"
   },
   {
    "duration": 15,
    "start_time": "2022-07-23T09:16:34.352Z"
   },
   {
    "duration": 6,
    "start_time": "2022-07-23T09:17:01.880Z"
   },
   {
    "duration": 1053,
    "start_time": "2022-07-23T09:17:01.892Z"
   },
   {
    "duration": 18,
    "start_time": "2022-07-23T09:17:02.948Z"
   },
   {
    "duration": 0,
    "start_time": "2022-07-23T09:17:02.967Z"
   },
   {
    "duration": 7,
    "start_time": "2022-07-23T09:18:22.033Z"
   },
   {
    "duration": 1050,
    "start_time": "2022-07-23T09:18:22.151Z"
   },
   {
    "duration": 22,
    "start_time": "2022-07-23T09:18:23.203Z"
   },
   {
    "duration": 4,
    "start_time": "2022-07-23T09:18:54.753Z"
   },
   {
    "duration": 79579,
    "start_time": "2022-07-23T09:18:54.760Z"
   },
   {
    "duration": 109,
    "start_time": "2022-07-23T09:20:14.342Z"
   },
   {
    "duration": 6,
    "start_time": "2022-07-23T09:20:14.455Z"
   },
   {
    "duration": 19,
    "start_time": "2022-07-23T09:20:14.463Z"
   },
   {
    "duration": 101,
    "start_time": "2022-07-23T09:20:14.484Z"
   },
   {
    "duration": 455,
    "start_time": "2022-07-23T09:20:14.587Z"
   },
   {
    "duration": 711,
    "start_time": "2022-07-23T09:20:15.045Z"
   },
   {
    "duration": 122,
    "start_time": "2022-07-23T09:20:15.760Z"
   },
   {
    "duration": 9929,
    "start_time": "2022-07-23T09:20:15.884Z"
   },
   {
    "duration": 10,
    "start_time": "2022-07-23T09:20:25.822Z"
   },
   {
    "duration": 82,
    "start_time": "2022-07-23T09:20:25.834Z"
   },
   {
    "duration": 100,
    "start_time": "2022-07-24T05:56:26.043Z"
   },
   {
    "duration": 1364,
    "start_time": "2022-07-24T06:05:36.471Z"
   },
   {
    "duration": 2338,
    "start_time": "2022-07-24T06:05:37.837Z"
   },
   {
    "duration": 14,
    "start_time": "2022-07-24T06:05:40.177Z"
   },
   {
    "duration": 36,
    "start_time": "2022-07-24T06:05:40.192Z"
   },
   {
    "duration": 3,
    "start_time": "2022-07-24T06:05:40.230Z"
   },
   {
    "duration": 8,
    "start_time": "2022-07-24T06:05:40.235Z"
   },
   {
    "duration": 8,
    "start_time": "2022-07-24T06:05:40.245Z"
   },
   {
    "duration": 9,
    "start_time": "2022-07-24T06:05:40.255Z"
   },
   {
    "duration": 22,
    "start_time": "2022-07-24T06:05:40.266Z"
   },
   {
    "duration": 7,
    "start_time": "2022-07-24T06:05:40.290Z"
   },
   {
    "duration": 23,
    "start_time": "2022-07-24T06:05:40.299Z"
   },
   {
    "duration": 5,
    "start_time": "2022-07-24T06:05:40.324Z"
   },
   {
    "duration": 17,
    "start_time": "2022-07-24T06:05:40.331Z"
   },
   {
    "duration": 17,
    "start_time": "2022-07-24T06:05:40.352Z"
   },
   {
    "duration": 5,
    "start_time": "2022-07-24T06:05:40.371Z"
   },
   {
    "duration": 2852,
    "start_time": "2022-07-24T06:05:40.378Z"
   },
   {
    "duration": 416,
    "start_time": "2022-07-24T06:05:43.232Z"
   },
   {
    "duration": 2064,
    "start_time": "2022-07-24T06:05:43.649Z"
   },
   {
    "duration": 460,
    "start_time": "2022-07-24T06:05:45.714Z"
   },
   {
    "duration": 7,
    "start_time": "2022-07-24T06:05:46.176Z"
   },
   {
    "duration": 10,
    "start_time": "2022-07-24T06:05:46.185Z"
   },
   {
    "duration": 31,
    "start_time": "2022-07-24T06:05:46.196Z"
   },
   {
    "duration": 58573,
    "start_time": "2022-07-24T06:05:46.229Z"
   },
   {
    "duration": 0,
    "start_time": "2022-07-24T06:06:44.804Z"
   },
   {
    "duration": 0,
    "start_time": "2022-07-24T06:06:44.805Z"
   },
   {
    "duration": 0,
    "start_time": "2022-07-24T06:06:44.806Z"
   },
   {
    "duration": 0,
    "start_time": "2022-07-24T06:06:44.807Z"
   },
   {
    "duration": 0,
    "start_time": "2022-07-24T06:06:44.808Z"
   },
   {
    "duration": 0,
    "start_time": "2022-07-24T06:06:44.809Z"
   },
   {
    "duration": 0,
    "start_time": "2022-07-24T06:06:44.810Z"
   },
   {
    "duration": 0,
    "start_time": "2022-07-24T06:06:44.811Z"
   },
   {
    "duration": 0,
    "start_time": "2022-07-24T06:06:44.813Z"
   },
   {
    "duration": 0,
    "start_time": "2022-07-24T06:06:44.814Z"
   },
   {
    "duration": 0,
    "start_time": "2022-07-24T06:06:44.815Z"
   },
   {
    "duration": 0,
    "start_time": "2022-07-24T06:06:44.816Z"
   },
   {
    "duration": 0,
    "start_time": "2022-07-24T06:06:44.816Z"
   },
   {
    "duration": 9,
    "start_time": "2022-07-24T06:08:37.850Z"
   },
   {
    "duration": 4,
    "start_time": "2022-07-24T06:08:49.538Z"
   },
   {
    "duration": 771,
    "start_time": "2022-07-24T06:08:51.608Z"
   },
   {
    "duration": 7,
    "start_time": "2022-07-24T06:08:52.441Z"
   },
   {
    "duration": 34,
    "start_time": "2022-07-24T06:08:53.530Z"
   },
   {
    "duration": 3,
    "start_time": "2022-07-24T06:08:54.850Z"
   },
   {
    "duration": 5,
    "start_time": "2022-07-24T06:08:56.162Z"
   },
   {
    "duration": 2,
    "start_time": "2022-07-24T06:08:57.570Z"
   },
   {
    "duration": 3,
    "start_time": "2022-07-24T06:09:03.039Z"
   },
   {
    "duration": 16,
    "start_time": "2022-07-24T06:09:04.545Z"
   },
   {
    "duration": 7,
    "start_time": "2022-07-24T06:09:04.930Z"
   },
   {
    "duration": 9,
    "start_time": "2022-07-24T06:09:05.570Z"
   },
   {
    "duration": 6,
    "start_time": "2022-07-24T06:09:06.810Z"
   },
   {
    "duration": 12,
    "start_time": "2022-07-24T06:09:07.439Z"
   },
   {
    "duration": 11,
    "start_time": "2022-07-24T06:09:08.081Z"
   },
   {
    "duration": 4,
    "start_time": "2022-07-24T06:09:10.410Z"
   },
   {
    "duration": 1725,
    "start_time": "2022-07-24T06:09:11.080Z"
   },
   {
    "duration": 439,
    "start_time": "2022-07-24T06:09:14.771Z"
   },
   {
    "duration": 2103,
    "start_time": "2022-07-24T06:09:15.551Z"
   },
   {
    "duration": 481,
    "start_time": "2022-07-24T06:09:17.656Z"
   },
   {
    "duration": 9,
    "start_time": "2022-07-24T06:09:22.099Z"
   },
   {
    "duration": 10,
    "start_time": "2022-07-24T06:09:23.891Z"
   },
   {
    "duration": 3,
    "start_time": "2022-07-24T06:10:16.617Z"
   },
   {
    "duration": 4,
    "start_time": "2022-07-24T06:10:17.317Z"
   },
   {
    "duration": 4,
    "start_time": "2022-07-24T06:11:45.954Z"
   },
   {
    "duration": 5,
    "start_time": "2022-07-24T06:11:58.013Z"
   },
   {
    "duration": 4,
    "start_time": "2022-07-24T06:12:33.550Z"
   },
   {
    "duration": 4,
    "start_time": "2022-07-24T06:12:44.122Z"
   },
   {
    "duration": 49,
    "start_time": "2022-07-24T06:13:10.546Z"
   },
   {
    "duration": 4,
    "start_time": "2022-07-24T06:13:16.383Z"
   },
   {
    "duration": 8,
    "start_time": "2022-07-24T06:15:26.372Z"
   },
   {
    "duration": 4,
    "start_time": "2022-07-24T06:16:07.867Z"
   },
   {
    "duration": 5,
    "start_time": "2022-07-24T06:17:27.720Z"
   },
   {
    "duration": 4,
    "start_time": "2022-07-24T06:18:29.723Z"
   },
   {
    "duration": 1374,
    "start_time": "2022-07-24T06:18:53.629Z"
   },
   {
    "duration": 847,
    "start_time": "2022-07-24T06:18:55.005Z"
   },
   {
    "duration": 15,
    "start_time": "2022-07-24T06:18:55.853Z"
   },
   {
    "duration": 34,
    "start_time": "2022-07-24T06:18:55.870Z"
   },
   {
    "duration": 19,
    "start_time": "2022-07-24T06:18:55.906Z"
   },
   {
    "duration": 23,
    "start_time": "2022-07-24T06:18:55.927Z"
   },
   {
    "duration": 7,
    "start_time": "2022-07-24T06:18:55.952Z"
   },
   {
    "duration": 103,
    "start_time": "2022-07-24T06:18:55.961Z"
   },
   {
    "duration": 24,
    "start_time": "2022-07-24T06:18:56.066Z"
   },
   {
    "duration": 16,
    "start_time": "2022-07-24T06:18:56.091Z"
   },
   {
    "duration": 16,
    "start_time": "2022-07-24T06:18:56.109Z"
   },
   {
    "duration": 18,
    "start_time": "2022-07-24T06:18:56.127Z"
   },
   {
    "duration": 13,
    "start_time": "2022-07-24T06:18:56.147Z"
   },
   {
    "duration": 9,
    "start_time": "2022-07-24T06:18:56.164Z"
   },
   {
    "duration": 27988,
    "start_time": "2022-07-24T06:18:56.175Z"
   },
   {
    "duration": 3681,
    "start_time": "2022-07-24T06:19:24.165Z"
   },
   {
    "duration": 33690,
    "start_time": "2022-07-24T06:19:27.847Z"
   },
   {
    "duration": 4704,
    "start_time": "2022-07-24T06:20:01.538Z"
   },
   {
    "duration": 8,
    "start_time": "2022-07-24T06:20:06.243Z"
   },
   {
    "duration": 6,
    "start_time": "2022-07-24T06:20:06.253Z"
   },
   {
    "duration": 20,
    "start_time": "2022-07-24T06:20:06.261Z"
   },
   {
    "duration": 19,
    "start_time": "2022-07-24T06:20:06.282Z"
   },
   {
    "duration": 711008,
    "start_time": "2022-07-24T06:20:06.302Z"
   },
   {
    "duration": 0,
    "start_time": "2022-07-24T06:31:57.311Z"
   },
   {
    "duration": 0,
    "start_time": "2022-07-24T06:31:57.313Z"
   },
   {
    "duration": 0,
    "start_time": "2022-07-24T06:31:57.313Z"
   },
   {
    "duration": 0,
    "start_time": "2022-07-24T06:31:57.314Z"
   },
   {
    "duration": 0,
    "start_time": "2022-07-24T06:31:57.315Z"
   },
   {
    "duration": 0,
    "start_time": "2022-07-24T06:31:57.316Z"
   },
   {
    "duration": 0,
    "start_time": "2022-07-24T06:31:57.318Z"
   },
   {
    "duration": 0,
    "start_time": "2022-07-24T06:31:57.319Z"
   },
   {
    "duration": 0,
    "start_time": "2022-07-24T06:31:57.320Z"
   },
   {
    "duration": 0,
    "start_time": "2022-07-24T06:31:57.321Z"
   },
   {
    "duration": 0,
    "start_time": "2022-07-24T06:31:57.322Z"
   },
   {
    "duration": 0,
    "start_time": "2022-07-24T06:31:57.323Z"
   },
   {
    "duration": 0,
    "start_time": "2022-07-24T06:31:57.325Z"
   },
   {
    "duration": 4,
    "start_time": "2022-07-24T06:32:05.119Z"
   },
   {
    "duration": 793,
    "start_time": "2022-07-24T06:32:05.514Z"
   },
   {
    "duration": 7,
    "start_time": "2022-07-24T06:32:06.309Z"
   },
   {
    "duration": 43,
    "start_time": "2022-07-24T06:32:06.323Z"
   },
   {
    "duration": 5,
    "start_time": "2022-07-24T06:32:06.369Z"
   },
   {
    "duration": 3,
    "start_time": "2022-07-24T06:32:06.676Z"
   },
   {
    "duration": 2,
    "start_time": "2022-07-24T06:32:14.056Z"
   },
   {
    "duration": 71,
    "start_time": "2022-07-24T06:32:14.710Z"
   },
   {
    "duration": 31,
    "start_time": "2022-07-24T06:32:14.906Z"
   },
   {
    "duration": 20,
    "start_time": "2022-07-24T06:32:15.119Z"
   },
   {
    "duration": 4,
    "start_time": "2022-07-24T06:32:15.571Z"
   },
   {
    "duration": 17,
    "start_time": "2022-07-24T06:32:15.802Z"
   },
   {
    "duration": 14,
    "start_time": "2022-07-24T06:32:16.056Z"
   },
   {
    "duration": 6,
    "start_time": "2022-07-24T06:32:25.433Z"
   },
   {
    "duration": 29651,
    "start_time": "2022-07-24T06:32:25.444Z"
   },
   {
    "duration": 1363,
    "start_time": "2022-07-24T06:32:55.097Z"
   },
   {
    "duration": 38016,
    "start_time": "2022-07-24T06:32:56.461Z"
   },
   {
    "duration": 1867,
    "start_time": "2022-07-24T06:33:34.480Z"
   },
   {
    "duration": 8,
    "start_time": "2022-07-24T06:33:36.349Z"
   },
   {
    "duration": 12,
    "start_time": "2022-07-24T06:33:36.359Z"
   },
   {
    "duration": 4,
    "start_time": "2022-07-24T06:33:56.437Z"
   },
   {
    "duration": 780,
    "start_time": "2022-07-24T06:33:56.719Z"
   },
   {
    "duration": 6,
    "start_time": "2022-07-24T06:33:57.501Z"
   },
   {
    "duration": 49,
    "start_time": "2022-07-24T06:33:57.509Z"
   },
   {
    "duration": 4,
    "start_time": "2022-07-24T06:33:57.561Z"
   },
   {
    "duration": 3,
    "start_time": "2022-07-24T06:33:58.186Z"
   },
   {
    "duration": 3,
    "start_time": "2022-07-24T06:33:58.846Z"
   },
   {
    "duration": 64,
    "start_time": "2022-07-24T06:33:59.334Z"
   },
   {
    "duration": 21,
    "start_time": "2022-07-24T06:33:59.510Z"
   },
   {
    "duration": 16,
    "start_time": "2022-07-24T06:33:59.698Z"
   },
   {
    "duration": 5,
    "start_time": "2022-07-24T06:34:00.103Z"
   },
   {
    "duration": 21,
    "start_time": "2022-07-24T06:34:00.257Z"
   },
   {
    "duration": 15,
    "start_time": "2022-07-24T06:34:00.442Z"
   },
   {
    "duration": 6,
    "start_time": "2022-07-24T06:34:01.530Z"
   },
   {
    "duration": 30401,
    "start_time": "2022-07-24T06:34:01.697Z"
   },
   {
    "duration": 2279,
    "start_time": "2022-07-24T06:34:32.101Z"
   },
   {
    "duration": 39245,
    "start_time": "2022-07-24T06:34:34.382Z"
   },
   {
    "duration": 2601,
    "start_time": "2022-07-24T06:35:13.630Z"
   },
   {
    "duration": 9,
    "start_time": "2022-07-24T06:35:16.232Z"
   },
   {
    "duration": 21,
    "start_time": "2022-07-24T06:35:16.242Z"
   },
   {
    "duration": 3,
    "start_time": "2022-07-24T06:35:33.198Z"
   },
   {
    "duration": 93991,
    "start_time": "2022-07-24T06:35:33.440Z"
   },
   {
    "duration": 540,
    "start_time": "2022-07-24T06:37:07.433Z"
   },
   {
    "duration": 8,
    "start_time": "2022-07-24T06:37:07.975Z"
   },
   {
    "duration": 15,
    "start_time": "2022-07-24T06:37:07.985Z"
   },
   {
    "duration": 9,
    "start_time": "2022-07-24T06:37:08.003Z"
   },
   {
    "duration": 453,
    "start_time": "2022-07-24T06:37:08.015Z"
   },
   {
    "duration": 3924,
    "start_time": "2022-07-24T06:37:08.469Z"
   },
   {
    "duration": 451,
    "start_time": "2022-07-24T06:37:12.395Z"
   },
   {
    "duration": 42401,
    "start_time": "2022-07-24T06:37:12.848Z"
   },
   {
    "duration": 4,
    "start_time": "2022-07-24T06:37:55.251Z"
   },
   {
    "duration": 19,
    "start_time": "2022-07-24T06:37:55.257Z"
   },
   {
    "duration": 3,
    "start_time": "2022-07-24T06:38:16.940Z"
   },
   {
    "duration": 3,
    "start_time": "2022-07-24T06:38:16.959Z"
   },
   {
    "duration": 5,
    "start_time": "2022-07-24T06:38:16.988Z"
   },
   {
    "duration": 1248,
    "start_time": "2022-07-24T06:38:17.003Z"
   },
   {
    "duration": 206,
    "start_time": "2022-07-24T06:38:18.253Z"
   },
   {
    "duration": 20662,
    "start_time": "2022-07-24T06:38:18.462Z"
   },
   {
    "duration": 5,
    "start_time": "2022-07-24T06:38:39.127Z"
   },
   {
    "duration": 10,
    "start_time": "2022-07-24T06:38:39.223Z"
   },
   {
    "duration": 3,
    "start_time": "2022-07-24T06:39:01.482Z"
   },
   {
    "duration": 22,
    "start_time": "2022-07-24T06:39:01.487Z"
   },
   {
    "duration": 24,
    "start_time": "2022-07-24T06:39:01.511Z"
   },
   {
    "duration": 4191,
    "start_time": "2022-07-24T06:39:01.537Z"
   },
   {
    "duration": 244,
    "start_time": "2022-07-24T06:39:05.730Z"
   },
   {
    "duration": 28184,
    "start_time": "2022-07-24T06:39:05.976Z"
   },
   {
    "duration": 3,
    "start_time": "2022-07-24T06:39:34.162Z"
   },
   {
    "duration": 14,
    "start_time": "2022-07-24T06:39:34.167Z"
   },
   {
    "duration": 3,
    "start_time": "2022-07-24T06:39:49.191Z"
   },
   {
    "duration": 2,
    "start_time": "2022-07-24T06:39:49.210Z"
   },
   {
    "duration": 4,
    "start_time": "2022-07-24T06:39:49.219Z"
   },
   {
    "duration": 85,
    "start_time": "2022-07-24T06:39:49.269Z"
   },
   {
    "duration": 12,
    "start_time": "2022-07-24T06:39:49.580Z"
   },
   {
    "duration": 4401,
    "start_time": "2022-07-24T06:40:18.863Z"
   },
   {
    "duration": 410,
    "start_time": "2022-07-24T06:40:23.267Z"
   },
   {
    "duration": 42875,
    "start_time": "2022-07-24T06:40:23.679Z"
   },
   {
    "duration": 4,
    "start_time": "2022-07-24T06:41:06.556Z"
   },
   {
    "duration": 18,
    "start_time": "2022-07-24T06:41:06.561Z"
   },
   {
    "duration": 3,
    "start_time": "2022-07-24T06:41:17.329Z"
   },
   {
    "duration": 2,
    "start_time": "2022-07-24T06:41:17.519Z"
   },
   {
    "duration": 5,
    "start_time": "2022-07-24T06:41:18.133Z"
   },
   {
    "duration": 1222,
    "start_time": "2022-07-24T06:41:18.272Z"
   },
   {
    "duration": 199,
    "start_time": "2022-07-24T06:41:19.497Z"
   },
   {
    "duration": 19331,
    "start_time": "2022-07-24T06:41:19.698Z"
   },
   {
    "duration": 5,
    "start_time": "2022-07-24T06:41:39.032Z"
   },
   {
    "duration": 7,
    "start_time": "2022-07-24T06:41:39.122Z"
   },
   {
    "duration": 3,
    "start_time": "2022-07-24T06:43:03.448Z"
   },
   {
    "duration": 5,
    "start_time": "2022-07-24T06:43:04.078Z"
   },
   {
    "duration": 2,
    "start_time": "2022-07-24T06:43:17.693Z"
   },
   {
    "duration": 4,
    "start_time": "2022-07-24T06:43:18.276Z"
   },
   {
    "duration": 4,
    "start_time": "2022-07-24T06:43:52.531Z"
   },
   {
    "duration": 4,
    "start_time": "2022-07-24T06:44:29.161Z"
   },
   {
    "duration": 4,
    "start_time": "2022-07-24T06:44:47.378Z"
   },
   {
    "duration": 5,
    "start_time": "2022-07-24T06:45:08.355Z"
   },
   {
    "duration": 4,
    "start_time": "2022-07-24T06:45:36.758Z"
   },
   {
    "duration": 4,
    "start_time": "2022-07-24T06:45:54.964Z"
   },
   {
    "duration": 3,
    "start_time": "2022-07-24T06:53:03.267Z"
   },
   {
    "duration": 10,
    "start_time": "2022-07-24T06:54:12.296Z"
   },
   {
    "duration": 4,
    "start_time": "2022-07-24T06:54:24.076Z"
   },
   {
    "duration": 3,
    "start_time": "2022-07-24T06:56:47.033Z"
   },
   {
    "duration": 3,
    "start_time": "2022-07-24T06:56:56.018Z"
   },
   {
    "duration": 3,
    "start_time": "2022-07-24T06:57:30.659Z"
   },
   {
    "duration": 3,
    "start_time": "2022-07-24T06:57:31.097Z"
   },
   {
    "duration": 3,
    "start_time": "2022-07-24T06:57:35.008Z"
   },
   {
    "duration": 3,
    "start_time": "2022-07-24T06:57:35.488Z"
   },
   {
    "duration": 4,
    "start_time": "2022-07-24T06:57:35.934Z"
   },
   {
    "duration": 3,
    "start_time": "2022-07-24T06:57:36.703Z"
   },
   {
    "duration": 4,
    "start_time": "2022-07-24T06:57:38.906Z"
   },
   {
    "duration": 3,
    "start_time": "2022-07-24T06:57:54.830Z"
   },
   {
    "duration": 3,
    "start_time": "2022-07-24T06:57:55.554Z"
   },
   {
    "duration": 4,
    "start_time": "2022-07-24T06:57:55.891Z"
   },
   {
    "duration": 3,
    "start_time": "2022-07-24T06:57:56.301Z"
   },
   {
    "duration": 4,
    "start_time": "2022-07-24T06:57:57.087Z"
   },
   {
    "duration": 1319,
    "start_time": "2022-07-24T06:59:37.249Z"
   },
   {
    "duration": 859,
    "start_time": "2022-07-24T06:59:38.570Z"
   },
   {
    "duration": 14,
    "start_time": "2022-07-24T06:59:39.431Z"
   },
   {
    "duration": 35,
    "start_time": "2022-07-24T06:59:39.447Z"
   },
   {
    "duration": 5,
    "start_time": "2022-07-24T06:59:39.484Z"
   },
   {
    "duration": 7,
    "start_time": "2022-07-24T06:59:39.490Z"
   },
   {
    "duration": 25,
    "start_time": "2022-07-24T06:59:39.498Z"
   },
   {
    "duration": 64,
    "start_time": "2022-07-24T06:59:39.525Z"
   },
   {
    "duration": 31,
    "start_time": "2022-07-24T06:59:39.591Z"
   },
   {
    "duration": 16,
    "start_time": "2022-07-24T06:59:39.625Z"
   },
   {
    "duration": 4,
    "start_time": "2022-07-24T06:59:39.643Z"
   },
   {
    "duration": 18,
    "start_time": "2022-07-24T06:59:39.649Z"
   },
   {
    "duration": 16,
    "start_time": "2022-07-24T06:59:39.668Z"
   },
   {
    "duration": 11,
    "start_time": "2022-07-24T06:59:39.686Z"
   },
   {
    "duration": 59598,
    "start_time": "2022-07-24T06:59:39.699Z"
   },
   {
    "duration": 6853,
    "start_time": "2022-07-24T07:00:39.299Z"
   },
   {
    "duration": 39821,
    "start_time": "2022-07-24T07:00:46.155Z"
   },
   {
    "duration": 2620,
    "start_time": "2022-07-24T07:01:25.979Z"
   },
   {
    "duration": 23,
    "start_time": "2022-07-24T07:01:28.601Z"
   },
   {
    "duration": 10,
    "start_time": "2022-07-24T07:01:28.626Z"
   },
   {
    "duration": 16,
    "start_time": "2022-07-24T07:01:28.638Z"
   },
   {
    "duration": 98468,
    "start_time": "2022-07-24T07:01:28.656Z"
   },
   {
    "duration": 16,
    "start_time": "2022-07-24T07:03:07.126Z"
   },
   {
    "duration": 0,
    "start_time": "2022-07-24T07:03:07.145Z"
   },
   {
    "duration": 0,
    "start_time": "2022-07-24T07:03:07.146Z"
   },
   {
    "duration": 0,
    "start_time": "2022-07-24T07:03:07.147Z"
   },
   {
    "duration": 0,
    "start_time": "2022-07-24T07:03:07.149Z"
   },
   {
    "duration": 0,
    "start_time": "2022-07-24T07:03:07.151Z"
   },
   {
    "duration": 0,
    "start_time": "2022-07-24T07:03:07.153Z"
   },
   {
    "duration": 0,
    "start_time": "2022-07-24T07:03:07.154Z"
   },
   {
    "duration": 0,
    "start_time": "2022-07-24T07:03:07.156Z"
   },
   {
    "duration": 0,
    "start_time": "2022-07-24T07:03:07.157Z"
   },
   {
    "duration": 0,
    "start_time": "2022-07-24T07:03:07.158Z"
   },
   {
    "duration": 0,
    "start_time": "2022-07-24T07:03:07.160Z"
   },
   {
    "duration": 0,
    "start_time": "2022-07-24T07:03:07.162Z"
   },
   {
    "duration": 5,
    "start_time": "2022-07-24T07:03:13.363Z"
   },
   {
    "duration": 96212,
    "start_time": "2022-07-24T07:03:13.523Z"
   },
   {
    "duration": 329,
    "start_time": "2022-07-24T07:04:49.738Z"
   },
   {
    "duration": 6,
    "start_time": "2022-07-24T07:04:50.069Z"
   },
   {
    "duration": 10,
    "start_time": "2022-07-24T07:04:50.077Z"
   },
   {
    "duration": 6,
    "start_time": "2022-07-24T07:04:50.088Z"
   },
   {
    "duration": 151,
    "start_time": "2022-07-24T07:04:50.095Z"
   },
   {
    "duration": 1176,
    "start_time": "2022-07-24T07:04:50.248Z"
   },
   {
    "duration": 201,
    "start_time": "2022-07-24T07:04:51.426Z"
   },
   {
    "duration": 26297,
    "start_time": "2022-07-24T07:04:51.629Z"
   },
   {
    "duration": 4,
    "start_time": "2022-07-24T07:05:17.929Z"
   },
   {
    "duration": 92,
    "start_time": "2022-07-24T07:05:17.935Z"
   },
   {
    "duration": 3,
    "start_time": "2022-07-24T07:07:36.412Z"
   },
   {
    "duration": 24,
    "start_time": "2022-07-24T07:07:36.417Z"
   },
   {
    "duration": 1310,
    "start_time": "2022-07-24T07:09:31.671Z"
   },
   {
    "duration": 911,
    "start_time": "2022-07-24T07:09:32.984Z"
   },
   {
    "duration": 13,
    "start_time": "2022-07-24T07:09:33.897Z"
   },
   {
    "duration": 43,
    "start_time": "2022-07-24T07:09:33.912Z"
   },
   {
    "duration": 6,
    "start_time": "2022-07-24T07:09:33.957Z"
   },
   {
    "duration": 12,
    "start_time": "2022-07-24T07:09:33.965Z"
   },
   {
    "duration": 12,
    "start_time": "2022-07-24T07:09:33.978Z"
   },
   {
    "duration": 80,
    "start_time": "2022-07-24T07:09:33.992Z"
   },
   {
    "duration": 19,
    "start_time": "2022-07-24T07:09:34.074Z"
   },
   {
    "duration": 27,
    "start_time": "2022-07-24T07:09:34.095Z"
   },
   {
    "duration": 5,
    "start_time": "2022-07-24T07:09:34.124Z"
   },
   {
    "duration": 20,
    "start_time": "2022-07-24T07:09:34.130Z"
   },
   {
    "duration": 14,
    "start_time": "2022-07-24T07:09:34.152Z"
   },
   {
    "duration": 1104,
    "start_time": "2022-07-24T07:09:34.168Z"
   },
   {
    "duration": 0,
    "start_time": "2022-07-24T07:09:35.274Z"
   },
   {
    "duration": 0,
    "start_time": "2022-07-24T07:09:35.275Z"
   },
   {
    "duration": 0,
    "start_time": "2022-07-24T07:09:35.277Z"
   },
   {
    "duration": 0,
    "start_time": "2022-07-24T07:09:35.278Z"
   },
   {
    "duration": 0,
    "start_time": "2022-07-24T07:09:35.279Z"
   },
   {
    "duration": 0,
    "start_time": "2022-07-24T07:09:35.280Z"
   },
   {
    "duration": 0,
    "start_time": "2022-07-24T07:09:35.282Z"
   },
   {
    "duration": 0,
    "start_time": "2022-07-24T07:09:35.284Z"
   },
   {
    "duration": 0,
    "start_time": "2022-07-24T07:09:35.285Z"
   },
   {
    "duration": 0,
    "start_time": "2022-07-24T07:09:35.286Z"
   },
   {
    "duration": 0,
    "start_time": "2022-07-24T07:09:35.289Z"
   },
   {
    "duration": 0,
    "start_time": "2022-07-24T07:09:35.290Z"
   },
   {
    "duration": 0,
    "start_time": "2022-07-24T07:09:35.291Z"
   },
   {
    "duration": 0,
    "start_time": "2022-07-24T07:09:35.293Z"
   },
   {
    "duration": 0,
    "start_time": "2022-07-24T07:09:35.294Z"
   },
   {
    "duration": 0,
    "start_time": "2022-07-24T07:09:35.296Z"
   },
   {
    "duration": 0,
    "start_time": "2022-07-24T07:09:35.298Z"
   },
   {
    "duration": 0,
    "start_time": "2022-07-24T07:09:35.299Z"
   },
   {
    "duration": 0,
    "start_time": "2022-07-24T07:09:35.301Z"
   },
   {
    "duration": 0,
    "start_time": "2022-07-24T07:09:35.302Z"
   },
   {
    "duration": 0,
    "start_time": "2022-07-24T07:09:35.304Z"
   },
   {
    "duration": 0,
    "start_time": "2022-07-24T07:09:35.306Z"
   },
   {
    "duration": 0,
    "start_time": "2022-07-24T07:09:35.307Z"
   },
   {
    "duration": 18,
    "start_time": "2022-07-24T07:10:33.798Z"
   },
   {
    "duration": 950,
    "start_time": "2022-07-24T07:11:17.449Z"
   },
   {
    "duration": 0,
    "start_time": "2022-07-24T07:11:18.400Z"
   },
   {
    "duration": 9,
    "start_time": "2022-07-24T07:11:37.870Z"
   },
   {
    "duration": 1481,
    "start_time": "2022-07-24T07:12:10.880Z"
   },
   {
    "duration": 915,
    "start_time": "2022-07-24T07:12:12.363Z"
   },
   {
    "duration": 16,
    "start_time": "2022-07-24T07:12:13.281Z"
   },
   {
    "duration": 49,
    "start_time": "2022-07-24T07:12:13.300Z"
   },
   {
    "duration": 4,
    "start_time": "2022-07-24T07:12:13.351Z"
   },
   {
    "duration": 12,
    "start_time": "2022-07-24T07:12:13.357Z"
   },
   {
    "duration": 6,
    "start_time": "2022-07-24T07:12:13.371Z"
   },
   {
    "duration": 69,
    "start_time": "2022-07-24T07:12:13.378Z"
   },
   {
    "duration": 20,
    "start_time": "2022-07-24T07:12:13.449Z"
   },
   {
    "duration": 15,
    "start_time": "2022-07-24T07:12:13.472Z"
   },
   {
    "duration": 4,
    "start_time": "2022-07-24T07:12:13.489Z"
   },
   {
    "duration": 40,
    "start_time": "2022-07-24T07:12:13.494Z"
   },
   {
    "duration": 13,
    "start_time": "2022-07-24T07:12:13.536Z"
   },
   {
    "duration": 10,
    "start_time": "2022-07-24T07:12:13.551Z"
   },
   {
    "duration": 73704,
    "start_time": "2022-07-24T07:12:13.562Z"
   },
   {
    "duration": 3788,
    "start_time": "2022-07-24T07:13:27.268Z"
   },
   {
    "duration": 48040,
    "start_time": "2022-07-24T07:13:31.058Z"
   },
   {
    "duration": 5153,
    "start_time": "2022-07-24T07:14:19.100Z"
   },
   {
    "duration": 37524,
    "start_time": "2022-07-24T07:14:24.255Z"
   },
   {
    "duration": 2366,
    "start_time": "2022-07-24T07:15:01.781Z"
   },
   {
    "duration": 7,
    "start_time": "2022-07-24T07:15:04.149Z"
   },
   {
    "duration": 10,
    "start_time": "2022-07-24T07:15:04.157Z"
   },
   {
    "duration": 11,
    "start_time": "2022-07-24T07:15:04.168Z"
   },
   {
    "duration": 816693,
    "start_time": "2022-07-24T07:15:04.181Z"
   },
   {
    "duration": 4,
    "start_time": "2022-07-24T07:28:40.876Z"
   },
   {
    "duration": 6,
    "start_time": "2022-07-24T07:28:40.882Z"
   },
   {
    "duration": 94230,
    "start_time": "2022-07-24T07:28:40.889Z"
   },
   {
    "duration": 312,
    "start_time": "2022-07-24T07:30:15.123Z"
   },
   {
    "duration": 6,
    "start_time": "2022-07-24T07:30:15.437Z"
   },
   {
    "duration": 13,
    "start_time": "2022-07-24T07:30:15.445Z"
   },
   {
    "duration": 10,
    "start_time": "2022-07-24T07:30:15.460Z"
   },
   {
    "duration": 167,
    "start_time": "2022-07-24T07:30:15.472Z"
   },
   {
    "duration": 1161,
    "start_time": "2022-07-24T07:30:15.640Z"
   },
   {
    "duration": 195,
    "start_time": "2022-07-24T07:30:16.803Z"
   },
   {
    "duration": 15828,
    "start_time": "2022-07-24T07:30:16.999Z"
   },
   {
    "duration": 8,
    "start_time": "2022-07-24T07:30:32.829Z"
   },
   {
    "duration": 6,
    "start_time": "2022-07-24T07:30:32.923Z"
   },
   {
    "duration": 5,
    "start_time": "2022-07-24T07:30:32.931Z"
   },
   {
    "duration": 8,
    "start_time": "2022-07-24T07:30:32.937Z"
   },
   {
    "duration": 10,
    "start_time": "2022-07-24T07:30:32.947Z"
   },
   {
    "duration": 10,
    "start_time": "2022-07-24T07:30:32.959Z"
   },
   {
    "duration": 5,
    "start_time": "2022-07-24T07:32:16.498Z"
   },
   {
    "duration": 4,
    "start_time": "2022-07-24T07:32:32.900Z"
   },
   {
    "duration": 2,
    "start_time": "2022-07-24T07:32:35.247Z"
   },
   {
    "duration": 3,
    "start_time": "2022-07-24T07:32:36.077Z"
   },
   {
    "duration": 5,
    "start_time": "2022-07-24T07:32:37.495Z"
   },
   {
    "duration": 3,
    "start_time": "2022-07-24T07:32:40.730Z"
   },
   {
    "duration": 3,
    "start_time": "2022-07-24T07:32:41.931Z"
   },
   {
    "duration": 4,
    "start_time": "2022-07-24T07:32:42.810Z"
   },
   {
    "duration": 3,
    "start_time": "2022-07-24T07:32:47.866Z"
   },
   {
    "duration": 4,
    "start_time": "2022-07-24T07:32:48.705Z"
   },
   {
    "duration": 5,
    "start_time": "2022-07-24T07:32:52.150Z"
   },
   {
    "duration": 3,
    "start_time": "2022-07-24T07:32:57.572Z"
   },
   {
    "duration": 2,
    "start_time": "2022-07-24T07:32:58.932Z"
   },
   {
    "duration": 4,
    "start_time": "2022-07-24T07:32:59.210Z"
   },
   {
    "duration": 5,
    "start_time": "2022-07-24T07:32:59.450Z"
   },
   {
    "duration": 3,
    "start_time": "2022-07-24T07:32:59.690Z"
   },
   {
    "duration": 4,
    "start_time": "2022-07-24T07:33:00.611Z"
   },
   {
    "duration": 3,
    "start_time": "2022-07-24T07:34:25.197Z"
   },
   {
    "duration": 933,
    "start_time": "2022-07-24T07:34:25.202Z"
   },
   {
    "duration": 35,
    "start_time": "2022-07-24T07:34:26.137Z"
   },
   {
    "duration": 0,
    "start_time": "2022-07-24T07:34:26.173Z"
   },
   {
    "duration": 3,
    "start_time": "2022-07-24T07:34:37.340Z"
   },
   {
    "duration": 844,
    "start_time": "2022-07-24T07:34:37.345Z"
   },
   {
    "duration": 38,
    "start_time": "2022-07-24T07:34:38.191Z"
   },
   {
    "duration": 0,
    "start_time": "2022-07-24T07:34:38.230Z"
   },
   {
    "duration": 3206,
    "start_time": "2022-07-24T07:34:43.377Z"
   },
   {
    "duration": 6,
    "start_time": "2022-07-24T07:34:50.079Z"
   },
   {
    "duration": 3,
    "start_time": "2022-07-24T07:34:53.921Z"
   },
   {
    "duration": 59183,
    "start_time": "2022-07-24T07:34:54.100Z"
   },
   {
    "duration": 261,
    "start_time": "2022-07-24T07:35:53.285Z"
   },
   {
    "duration": 6,
    "start_time": "2022-07-24T07:35:53.548Z"
   },
   {
    "duration": 6,
    "start_time": "2022-07-24T07:36:51.164Z"
   },
   {
    "duration": 3,
    "start_time": "2022-07-24T07:38:12.842Z"
   },
   {
    "duration": 42291,
    "start_time": "2022-07-24T07:38:55.005Z"
   },
   {
    "duration": 8,
    "start_time": "2022-07-24T07:39:50.504Z"
   },
   {
    "duration": 11,
    "start_time": "2022-07-24T07:39:50.634Z"
   },
   {
    "duration": 9,
    "start_time": "2022-07-24T07:40:14.414Z"
   },
   {
    "duration": 6,
    "start_time": "2022-07-24T07:40:32.293Z"
   },
   {
    "duration": 4,
    "start_time": "2022-07-24T07:40:46.257Z"
   },
   {
    "duration": 17338,
    "start_time": "2022-07-24T07:40:46.269Z"
   },
   {
    "duration": 4,
    "start_time": "2022-07-24T07:41:26.803Z"
   },
   {
    "duration": 3212,
    "start_time": "2022-07-24T07:41:26.813Z"
   },
   {
    "duration": 9,
    "start_time": "2022-07-24T07:41:47.615Z"
   },
   {
    "duration": 1569,
    "start_time": "2022-07-24T07:43:16.580Z"
   },
   {
    "duration": 1011,
    "start_time": "2022-07-24T07:43:18.151Z"
   },
   {
    "duration": 19,
    "start_time": "2022-07-24T07:43:19.164Z"
   },
   {
    "duration": 61,
    "start_time": "2022-07-24T07:43:19.186Z"
   },
   {
    "duration": 20,
    "start_time": "2022-07-24T07:43:19.249Z"
   },
   {
    "duration": 9,
    "start_time": "2022-07-24T07:43:19.271Z"
   },
   {
    "duration": 6,
    "start_time": "2022-07-24T07:43:19.282Z"
   },
   {
    "duration": 121,
    "start_time": "2022-07-24T07:43:19.292Z"
   },
   {
    "duration": 30,
    "start_time": "2022-07-24T07:43:19.416Z"
   },
   {
    "duration": 22,
    "start_time": "2022-07-24T07:43:19.449Z"
   },
   {
    "duration": 7,
    "start_time": "2022-07-24T07:43:19.473Z"
   },
   {
    "duration": 49,
    "start_time": "2022-07-24T07:43:19.482Z"
   },
   {
    "duration": 19,
    "start_time": "2022-07-24T07:43:19.533Z"
   },
   {
    "duration": 15,
    "start_time": "2022-07-24T07:43:19.555Z"
   },
   {
    "duration": 70334,
    "start_time": "2022-07-24T07:43:19.572Z"
   },
   {
    "duration": 8022,
    "start_time": "2022-07-24T07:44:29.908Z"
   },
   {
    "duration": 48368,
    "start_time": "2022-07-24T07:44:37.932Z"
   },
   {
    "duration": 3070,
    "start_time": "2022-07-24T07:45:26.302Z"
   },
   {
    "duration": 26,
    "start_time": "2022-07-24T07:45:29.375Z"
   },
   {
    "duration": 25,
    "start_time": "2022-07-24T07:45:29.404Z"
   },
   {
    "duration": 21,
    "start_time": "2022-07-24T07:45:29.431Z"
   },
   {
    "duration": 606612,
    "start_time": "2022-07-24T07:45:29.455Z"
   },
   {
    "duration": 4,
    "start_time": "2022-07-24T07:55:36.070Z"
   },
   {
    "duration": 24,
    "start_time": "2022-07-24T07:55:36.076Z"
   },
   {
    "duration": 194851,
    "start_time": "2022-07-24T07:55:36.103Z"
   },
   {
    "duration": 482,
    "start_time": "2022-07-24T07:58:50.955Z"
   },
   {
    "duration": 7,
    "start_time": "2022-07-24T07:58:51.439Z"
   },
   {
    "duration": 9,
    "start_time": "2022-07-24T07:58:51.450Z"
   },
   {
    "duration": 14,
    "start_time": "2022-07-24T07:58:51.461Z"
   },
   {
    "duration": 168,
    "start_time": "2022-07-24T07:58:51.477Z"
   },
   {
    "duration": 1256,
    "start_time": "2022-07-24T07:58:51.648Z"
   },
   {
    "duration": 233,
    "start_time": "2022-07-24T07:58:52.906Z"
   },
   {
    "duration": 27585,
    "start_time": "2022-07-24T07:58:53.141Z"
   },
   {
    "duration": 6,
    "start_time": "2022-07-24T07:59:20.729Z"
   },
   {
    "duration": 101,
    "start_time": "2022-07-24T07:59:20.737Z"
   },
   {
    "duration": 5,
    "start_time": "2022-07-24T08:21:05.797Z"
   },
   {
    "duration": 4,
    "start_time": "2022-07-24T08:21:05.968Z"
   },
   {
    "duration": 137,
    "start_time": "2022-07-24T08:21:59.654Z"
   },
   {
    "duration": 2,
    "start_time": "2022-07-24T08:23:03.541Z"
   },
   {
    "duration": 19,
    "start_time": "2022-07-24T08:23:08.412Z"
   },
   {
    "duration": 7,
    "start_time": "2022-07-24T08:23:43.298Z"
   },
   {
    "duration": 2,
    "start_time": "2022-07-24T08:23:45.519Z"
   },
   {
    "duration": 3,
    "start_time": "2022-07-24T08:23:46.173Z"
   },
   {
    "duration": 24,
    "start_time": "2022-07-24T08:23:46.749Z"
   },
   {
    "duration": 4,
    "start_time": "2022-07-24T08:25:07.008Z"
   },
   {
    "duration": 4,
    "start_time": "2022-07-24T08:25:08.768Z"
   },
   {
    "duration": 5,
    "start_time": "2022-07-24T08:25:09.415Z"
   },
   {
    "duration": 6,
    "start_time": "2022-07-24T08:25:18.863Z"
   },
   {
    "duration": 5,
    "start_time": "2022-07-24T08:25:19.196Z"
   },
   {
    "duration": 5,
    "start_time": "2022-07-24T08:25:20.551Z"
   },
   {
    "duration": 5,
    "start_time": "2022-07-24T08:25:21.857Z"
   },
   {
    "duration": 4,
    "start_time": "2022-07-24T08:25:49.464Z"
   },
   {
    "duration": 6,
    "start_time": "2022-07-24T08:25:50.000Z"
   },
   {
    "duration": 3,
    "start_time": "2022-07-24T08:25:50.651Z"
   },
   {
    "duration": 7,
    "start_time": "2022-07-24T08:25:51.195Z"
   },
   {
    "duration": 1552,
    "start_time": "2022-07-24T08:28:27.160Z"
   },
   {
    "duration": 1102,
    "start_time": "2022-07-24T08:28:28.715Z"
   },
   {
    "duration": 19,
    "start_time": "2022-07-24T08:28:29.820Z"
   },
   {
    "duration": 72,
    "start_time": "2022-07-24T08:28:29.843Z"
   },
   {
    "duration": 27,
    "start_time": "2022-07-24T08:28:29.918Z"
   },
   {
    "duration": 22,
    "start_time": "2022-07-24T08:28:29.947Z"
   },
   {
    "duration": 21,
    "start_time": "2022-07-24T08:28:29.972Z"
   },
   {
    "duration": 96,
    "start_time": "2022-07-24T08:28:29.996Z"
   },
   {
    "duration": 29,
    "start_time": "2022-07-24T08:28:30.094Z"
   },
   {
    "duration": 37,
    "start_time": "2022-07-24T08:28:30.128Z"
   },
   {
    "duration": 6,
    "start_time": "2022-07-24T08:28:30.166Z"
   },
   {
    "duration": 67,
    "start_time": "2022-07-24T08:28:30.175Z"
   },
   {
    "duration": 37,
    "start_time": "2022-07-24T08:28:30.244Z"
   },
   {
    "duration": 27,
    "start_time": "2022-07-24T08:28:30.283Z"
   },
   {
    "duration": 67577,
    "start_time": "2022-07-24T08:28:30.313Z"
   },
   {
    "duration": 7766,
    "start_time": "2022-07-24T08:29:37.892Z"
   },
   {
    "duration": 44613,
    "start_time": "2022-07-24T08:29:45.660Z"
   },
   {
    "duration": 2697,
    "start_time": "2022-07-24T08:30:30.275Z"
   },
   {
    "duration": 197,
    "start_time": "2022-07-24T08:30:32.974Z"
   },
   {
    "duration": 3,
    "start_time": "2022-07-24T08:30:33.173Z"
   },
   {
    "duration": 180,
    "start_time": "2022-07-24T08:30:33.178Z"
   },
   {
    "duration": 0,
    "start_time": "2022-07-24T08:30:33.360Z"
   },
   {
    "duration": 0,
    "start_time": "2022-07-24T08:30:33.362Z"
   },
   {
    "duration": 0,
    "start_time": "2022-07-24T08:30:33.363Z"
   },
   {
    "duration": 0,
    "start_time": "2022-07-24T08:30:33.364Z"
   },
   {
    "duration": 0,
    "start_time": "2022-07-24T08:30:33.365Z"
   },
   {
    "duration": 0,
    "start_time": "2022-07-24T08:30:33.366Z"
   },
   {
    "duration": 0,
    "start_time": "2022-07-24T08:30:33.367Z"
   },
   {
    "duration": 0,
    "start_time": "2022-07-24T08:30:33.368Z"
   },
   {
    "duration": 0,
    "start_time": "2022-07-24T08:30:33.369Z"
   },
   {
    "duration": 0,
    "start_time": "2022-07-24T08:30:33.370Z"
   },
   {
    "duration": 0,
    "start_time": "2022-07-24T08:30:33.371Z"
   },
   {
    "duration": 0,
    "start_time": "2022-07-24T08:30:33.373Z"
   },
   {
    "duration": 0,
    "start_time": "2022-07-24T08:30:33.374Z"
   },
   {
    "duration": 0,
    "start_time": "2022-07-24T08:30:33.375Z"
   },
   {
    "duration": 0,
    "start_time": "2022-07-24T08:30:33.376Z"
   },
   {
    "duration": 0,
    "start_time": "2022-07-24T08:30:33.377Z"
   },
   {
    "duration": 0,
    "start_time": "2022-07-24T08:30:33.379Z"
   },
   {
    "duration": 23,
    "start_time": "2022-07-24T08:32:15.118Z"
   },
   {
    "duration": 0,
    "start_time": "2022-07-24T08:32:15.144Z"
   },
   {
    "duration": 17,
    "start_time": "2022-07-24T08:32:19.639Z"
   },
   {
    "duration": 6,
    "start_time": "2022-07-24T08:33:22.760Z"
   },
   {
    "duration": 16,
    "start_time": "2022-07-24T08:34:34.467Z"
   },
   {
    "duration": 5,
    "start_time": "2022-07-24T08:34:41.846Z"
   },
   {
    "duration": 5,
    "start_time": "2022-07-24T08:35:25.497Z"
   },
   {
    "duration": 58497,
    "start_time": "2022-07-24T08:35:25.618Z"
   },
   {
    "duration": 5102,
    "start_time": "2022-07-24T08:36:24.123Z"
   },
   {
    "duration": 16,
    "start_time": "2022-07-24T08:36:29.228Z"
   },
   {
    "duration": 16,
    "start_time": "2022-07-24T08:36:29.247Z"
   },
   {
    "duration": 17,
    "start_time": "2022-07-24T08:36:43.354Z"
   },
   {
    "duration": 4,
    "start_time": "2022-07-24T08:36:46.107Z"
   },
   {
    "duration": 209220,
    "start_time": "2022-07-24T08:36:46.279Z"
   },
   {
    "duration": 275,
    "start_time": "2022-07-24T08:40:15.501Z"
   },
   {
    "duration": 7,
    "start_time": "2022-07-24T08:40:15.778Z"
   },
   {
    "duration": 10,
    "start_time": "2022-07-24T08:40:15.788Z"
   },
   {
    "duration": 12,
    "start_time": "2022-07-24T08:40:15.800Z"
   },
   {
    "duration": 24,
    "start_time": "2022-07-24T08:40:15.814Z"
   },
   {
    "duration": 1098,
    "start_time": "2022-07-24T08:40:15.840Z"
   },
   {
    "duration": 168,
    "start_time": "2022-07-24T08:40:16.940Z"
   },
   {
    "duration": 28514,
    "start_time": "2022-07-24T08:40:17.110Z"
   },
   {
    "duration": 7,
    "start_time": "2022-07-24T08:40:45.643Z"
   },
   {
    "duration": 75,
    "start_time": "2022-07-24T08:40:45.654Z"
   },
   {
    "duration": 3,
    "start_time": "2022-07-24T08:47:34.456Z"
   },
   {
    "duration": 696011,
    "start_time": "2022-07-24T08:47:34.497Z"
   },
   {
    "duration": 112,
    "start_time": "2022-07-24T08:59:10.511Z"
   },
   {
    "duration": 6,
    "start_time": "2022-07-24T08:59:10.625Z"
   },
   {
    "duration": 26,
    "start_time": "2022-07-24T08:59:10.633Z"
   },
   {
    "duration": 0,
    "start_time": "2022-07-24T08:59:10.662Z"
   },
   {
    "duration": 34,
    "start_time": "2022-07-24T08:59:21.435Z"
   },
   {
    "duration": 11,
    "start_time": "2022-07-24T08:59:57.661Z"
   },
   {
    "duration": 5,
    "start_time": "2022-07-24T09:00:41.632Z"
   },
   {
    "duration": 9,
    "start_time": "2022-07-24T09:00:48.874Z"
   },
   {
    "duration": 6,
    "start_time": "2022-07-24T09:00:49.007Z"
   },
   {
    "duration": 6,
    "start_time": "2022-07-24T09:00:55.507Z"
   },
   {
    "duration": 9,
    "start_time": "2022-07-24T09:01:08.642Z"
   },
   {
    "duration": 1950,
    "start_time": "2022-07-24T09:04:54.373Z"
   },
   {
    "duration": 923,
    "start_time": "2022-07-24T09:04:56.325Z"
   },
   {
    "duration": 14,
    "start_time": "2022-07-24T09:04:57.250Z"
   },
   {
    "duration": 42,
    "start_time": "2022-07-24T09:04:57.266Z"
   },
   {
    "duration": 5,
    "start_time": "2022-07-24T09:04:57.322Z"
   },
   {
    "duration": 8,
    "start_time": "2022-07-24T09:04:57.328Z"
   },
   {
    "duration": 10,
    "start_time": "2022-07-24T09:04:57.338Z"
   },
   {
    "duration": 72,
    "start_time": "2022-07-24T09:04:57.351Z"
   },
   {
    "duration": 22,
    "start_time": "2022-07-24T09:04:57.424Z"
   },
   {
    "duration": 3,
    "start_time": "2022-07-24T09:04:57.448Z"
   },
   {
    "duration": 7,
    "start_time": "2022-07-24T09:04:57.453Z"
   },
   {
    "duration": 10,
    "start_time": "2022-07-24T09:04:57.461Z"
   },
   {
    "duration": 69,
    "start_time": "2022-07-24T09:04:57.473Z"
   },
   {
    "duration": 11,
    "start_time": "2022-07-24T09:04:57.546Z"
   },
   {
    "duration": 24,
    "start_time": "2022-07-24T09:04:57.560Z"
   },
   {
    "duration": 1691,
    "start_time": "2022-07-24T09:05:33.327Z"
   },
   {
    "duration": 930,
    "start_time": "2022-07-24T09:05:35.021Z"
   },
   {
    "duration": 16,
    "start_time": "2022-07-24T09:05:35.953Z"
   },
   {
    "duration": 51,
    "start_time": "2022-07-24T09:05:35.972Z"
   },
   {
    "duration": 6,
    "start_time": "2022-07-24T09:05:36.025Z"
   },
   {
    "duration": 14,
    "start_time": "2022-07-24T09:05:36.033Z"
   },
   {
    "duration": 8,
    "start_time": "2022-07-24T09:05:36.049Z"
   },
   {
    "duration": 81,
    "start_time": "2022-07-24T09:05:36.058Z"
   },
   {
    "duration": 17,
    "start_time": "2022-07-24T09:05:36.142Z"
   },
   {
    "duration": 3,
    "start_time": "2022-07-24T09:05:36.162Z"
   },
   {
    "duration": 19,
    "start_time": "2022-07-24T09:05:36.166Z"
   },
   {
    "duration": 16,
    "start_time": "2022-07-24T09:05:36.187Z"
   },
   {
    "duration": 42,
    "start_time": "2022-07-24T09:05:36.206Z"
   },
   {
    "duration": 21,
    "start_time": "2022-07-24T09:05:36.250Z"
   },
   {
    "duration": 21,
    "start_time": "2022-07-24T09:05:36.273Z"
   },
   {
    "duration": 76966,
    "start_time": "2022-07-24T09:05:36.296Z"
   },
   {
    "duration": 0,
    "start_time": "2022-07-24T09:06:53.264Z"
   },
   {
    "duration": 1,
    "start_time": "2022-07-24T09:06:53.265Z"
   },
   {
    "duration": 0,
    "start_time": "2022-07-24T09:06:53.267Z"
   },
   {
    "duration": 0,
    "start_time": "2022-07-24T09:06:53.268Z"
   },
   {
    "duration": 0,
    "start_time": "2022-07-24T09:06:53.269Z"
   },
   {
    "duration": 0,
    "start_time": "2022-07-24T09:06:53.271Z"
   },
   {
    "duration": 0,
    "start_time": "2022-07-24T09:06:53.275Z"
   },
   {
    "duration": 0,
    "start_time": "2022-07-24T09:06:53.276Z"
   },
   {
    "duration": 0,
    "start_time": "2022-07-24T09:06:53.278Z"
   },
   {
    "duration": 0,
    "start_time": "2022-07-24T09:06:53.280Z"
   },
   {
    "duration": 0,
    "start_time": "2022-07-24T09:06:53.284Z"
   },
   {
    "duration": 1,
    "start_time": "2022-07-24T09:06:53.285Z"
   },
   {
    "duration": 0,
    "start_time": "2022-07-24T09:06:53.323Z"
   },
   {
    "duration": 0,
    "start_time": "2022-07-24T09:06:53.324Z"
   },
   {
    "duration": 0,
    "start_time": "2022-07-24T09:06:53.326Z"
   },
   {
    "duration": 0,
    "start_time": "2022-07-24T09:06:53.327Z"
   },
   {
    "duration": 0,
    "start_time": "2022-07-24T09:06:53.329Z"
   },
   {
    "duration": 0,
    "start_time": "2022-07-24T09:06:53.331Z"
   },
   {
    "duration": 0,
    "start_time": "2022-07-24T09:06:53.332Z"
   },
   {
    "duration": 0,
    "start_time": "2022-07-24T09:06:53.333Z"
   },
   {
    "duration": 0,
    "start_time": "2022-07-24T09:06:53.335Z"
   },
   {
    "duration": 1,
    "start_time": "2022-07-24T09:06:53.335Z"
   },
   {
    "duration": 0,
    "start_time": "2022-07-24T09:06:53.337Z"
   },
   {
    "duration": 0,
    "start_time": "2022-07-24T09:06:53.338Z"
   },
   {
    "duration": 0,
    "start_time": "2022-07-24T09:06:53.340Z"
   },
   {
    "duration": 0,
    "start_time": "2022-07-24T09:06:53.341Z"
   },
   {
    "duration": 0,
    "start_time": "2022-07-24T09:06:53.342Z"
   },
   {
    "duration": 1447,
    "start_time": "2022-07-24T09:06:59.445Z"
   },
   {
    "duration": 934,
    "start_time": "2022-07-24T09:07:00.895Z"
   },
   {
    "duration": 15,
    "start_time": "2022-07-24T09:07:01.831Z"
   },
   {
    "duration": 68,
    "start_time": "2022-07-24T09:07:01.849Z"
   },
   {
    "duration": 23,
    "start_time": "2022-07-24T09:07:01.919Z"
   },
   {
    "duration": 23,
    "start_time": "2022-07-24T09:07:01.944Z"
   },
   {
    "duration": 34,
    "start_time": "2022-07-24T09:07:01.969Z"
   },
   {
    "duration": 72,
    "start_time": "2022-07-24T09:07:02.005Z"
   },
   {
    "duration": 19,
    "start_time": "2022-07-24T09:07:02.079Z"
   },
   {
    "duration": 3,
    "start_time": "2022-07-24T09:07:02.101Z"
   },
   {
    "duration": 17,
    "start_time": "2022-07-24T09:07:02.105Z"
   },
   {
    "duration": 13,
    "start_time": "2022-07-24T09:07:02.124Z"
   },
   {
    "duration": 51,
    "start_time": "2022-07-24T09:07:02.139Z"
   },
   {
    "duration": 22,
    "start_time": "2022-07-24T09:07:02.192Z"
   },
   {
    "duration": 18,
    "start_time": "2022-07-24T09:07:02.216Z"
   },
   {
    "duration": 534771,
    "start_time": "2022-07-24T09:07:02.236Z"
   },
   {
    "duration": 88574,
    "start_time": "2022-07-24T09:15:57.022Z"
   },
   {
    "duration": 598449,
    "start_time": "2022-07-24T09:17:25.598Z"
   },
   {
    "duration": 66239,
    "start_time": "2022-07-24T09:27:24.049Z"
   },
   {
    "duration": 8,
    "start_time": "2022-07-24T09:28:30.290Z"
   },
   {
    "duration": 23,
    "start_time": "2022-07-24T09:28:30.300Z"
   },
   {
    "duration": 50,
    "start_time": "2022-07-24T09:28:30.325Z"
   },
   {
    "duration": 3,
    "start_time": "2022-07-24T09:28:30.377Z"
   },
   {
    "duration": 21,
    "start_time": "2022-07-24T09:28:30.381Z"
   },
   {
    "duration": 365151,
    "start_time": "2022-07-24T09:28:30.404Z"
   },
   {
    "duration": 3584,
    "start_time": "2022-07-24T09:34:35.557Z"
   },
   {
    "duration": 15,
    "start_time": "2022-07-24T09:34:39.143Z"
   },
   {
    "duration": 23,
    "start_time": "2022-07-24T09:34:39.161Z"
   },
   {
    "duration": 6,
    "start_time": "2022-07-24T09:34:39.186Z"
   },
   {
    "duration": 7,
    "start_time": "2022-07-24T09:34:39.193Z"
   },
   {
    "duration": 140,
    "start_time": "2022-07-24T09:34:39.202Z"
   },
   {
    "duration": 5344,
    "start_time": "2022-07-24T09:34:39.344Z"
   },
   {
    "duration": 1704,
    "start_time": "2022-07-24T09:34:44.690Z"
   },
   {
    "duration": 52131,
    "start_time": "2022-07-24T09:34:46.396Z"
   },
   {
    "duration": 23,
    "start_time": "2022-07-24T09:35:38.529Z"
   },
   {
    "duration": 89,
    "start_time": "2022-07-24T09:35:38.557Z"
   },
   {
    "duration": 25,
    "start_time": "2022-07-24T09:35:38.648Z"
   },
   {
    "duration": 3,
    "start_time": "2022-07-24T09:35:38.675Z"
   }
  ],
  "kernelspec": {
   "display_name": "Python 3 (ipykernel)",
   "language": "python",
   "name": "python3"
  },
  "language_info": {
   "codemirror_mode": {
    "name": "ipython",
    "version": 3
   },
   "file_extension": ".py",
   "mimetype": "text/x-python",
   "name": "python",
   "nbconvert_exporter": "python",
   "pygments_lexer": "ipython3",
   "version": "3.9.10"
  },
  "toc": {
   "base_numbering": 1,
   "nav_menu": {},
   "number_sections": true,
   "sideBar": true,
   "skip_h1_title": true,
   "title_cell": "Содержание",
   "title_sidebar": "Contents",
   "toc_cell": true,
   "toc_position": {
    "height": "calc(100% - 180px)",
    "left": "10px",
    "top": "150px",
    "width": "302.391px"
   },
   "toc_section_display": true,
   "toc_window_display": false
  }
 },
 "nbformat": 4,
 "nbformat_minor": 2
}
