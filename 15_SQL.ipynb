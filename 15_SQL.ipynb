{
 "cells": [
  {
   "cell_type": "markdown",
   "id": "4bcad921",
   "metadata": {},
   "source": [
    "1. Посчитайте, сколько компаний закрылось."
   ]
  },
  {
   "cell_type": "code",
   "execution_count": null,
   "id": "7dcc9d2f",
   "metadata": {},
   "outputs": [],
   "source": [
    "SELECT COUNT(*)\n",
    "FROM company\n",
    "WHERE status = 'closed';"
   ]
  },
  {
   "cell_type": "markdown",
   "id": "38892d86",
   "metadata": {},
   "source": [
    "2. Отобразите количество привлечённых средств для новостных компаний США. Используйте данные из таблицы company. Отсортируйте таблицу по убыванию значений в поле funding_total ."
   ]
  },
  {
   "cell_type": "code",
   "execution_count": null,
   "id": "68ffb24f",
   "metadata": {},
   "outputs": [],
   "source": [
    "SELECT funding_total\n",
    "FROM company\n",
    "WHERE category_code = 'news' AND\n",
    "country_code = 'USA'\n",
    "ORDER BY funding_total DESC;"
   ]
  },
  {
   "cell_type": "markdown",
   "id": "b3a14e60",
   "metadata": {},
   "source": [
    "3. Найдите общую сумму сделок по покупке одних компаний другими в долларах. Отберите сделки, которые осуществлялись только за наличные с 2011 по 2013 год включительно."
   ]
  },
  {
   "cell_type": "code",
   "execution_count": null,
   "id": "1a47888e",
   "metadata": {},
   "outputs": [],
   "source": [
    "SELECT SUM(price_amount)\n",
    "FROM acquisition\n",
    "WHERE term_code = 'cash' AND\n",
    "EXTRACT(YEAR FROM CAST(acquired_at AS date)) >= 2011 AND \n",
    "EXTRACT(YEAR FROM CAST(acquired_at AS date)) <= 2013\n",
    ";"
   ]
  },
  {
   "cell_type": "markdown",
   "id": "a362baf5",
   "metadata": {},
   "source": [
    "4. Отобразите имя, фамилию и названия аккаунтов людей в твиттере, у которых названия аккаунтов начинаются на 'Silver'."
   ]
  },
  {
   "cell_type": "code",
   "execution_count": null,
   "id": "a4ec7be7",
   "metadata": {},
   "outputs": [],
   "source": [
    "SELECT first_name,\n",
    "       last_name,\n",
    "       twitter_username\n",
    "FROM people\n",
    "WHERE twitter_username LIKE 'Silver%';"
   ]
  },
  {
   "cell_type": "markdown",
   "id": "dc6f410f",
   "metadata": {},
   "source": [
    "5. Выведите на экран всю информацию о людях, у которых названия аккаунтов в твиттере содержат подстроку 'money', а фамилия начинается на 'K'."
   ]
  },
  {
   "cell_type": "code",
   "execution_count": null,
   "id": "52198788",
   "metadata": {},
   "outputs": [],
   "source": [
    "SELECT *\n",
    "FROM people\n",
    "WHERE twitter_username LIKE '%money%' AND\n",
    "      last_name LIKE 'K%'\n",
    "\n",
    ";"
   ]
  },
  {
   "cell_type": "markdown",
   "id": "5393451d",
   "metadata": {},
   "source": [
    "6. Для каждой страны отобразите общую сумму привлечённых инвестиций, которые получили компании, зарегистрированные в этой стране. Страну, в которой зарегистрирована компания, можно определить по коду страны. Отсортируйте данные по убыванию суммы."
   ]
  },
  {
   "cell_type": "code",
   "execution_count": null,
   "id": "57b521cb",
   "metadata": {},
   "outputs": [],
   "source": [
    "SELECT country_code,\n",
    "       SUM(funding_total)\n",
    "FROM company\n",
    "GROUP BY country_code\n",
    "ORDER BY sum desc\n",
    ";"
   ]
  },
  {
   "cell_type": "markdown",
   "id": "c52c661d",
   "metadata": {},
   "source": [
    "7. Составьте таблицу, в которую войдёт дата проведения раунда, а также минимальное и максимальное значения суммы инвестиций, привлечённых в эту дату.\n",
    "Оставьте в итоговой таблице только те записи, в которых минимальное значение суммы инвестиций не равно нулю и не равно максимальному значению."
   ]
  },
  {
   "cell_type": "code",
   "execution_count": null,
   "id": "93d27d28",
   "metadata": {},
   "outputs": [],
   "source": [
    "SELECT funded_at, MIN(raised_amount),\n",
    "       MAX(raised_amount)\n",
    "FROM funding_round\n",
    "GROUP BY funded_at\n",
    "HAVING MIN(raised_amount) != MAX(raised_amount)\n",
    "AND MIN(raised_amount) > 0;"
   ]
  },
  {
   "cell_type": "markdown",
   "id": "19e11201",
   "metadata": {},
   "source": [
    "8. Создайте поле с категориями:\n",
    "Для фондов, которые инвестируют в 100 и более компаний, назначьте категорию high_activity.\n",
    "Для фондов, которые инвестируют в 20 и более компаний до 100, назначьте категорию middle_activity.\n",
    "Если количество инвестируемых компаний фонда не достигает 20, назначьте категорию low_activity.\n",
    "Отобразите все поля таблицы fund и новое поле с категориями."
   ]
  },
  {
   "cell_type": "code",
   "execution_count": null,
   "id": "dbc93031",
   "metadata": {},
   "outputs": [],
   "source": [
    "SELECT *,\n",
    "CASE\n",
    "    WHEN invested_companies >= 100 THEN 'high_activity'\n",
    "    WHEN invested_companies BETWEEN 20 AND 99 THEN 'middle_activity'\n",
    "    WHEN invested_companies < 20 THEN 'low_activity'\n",
    "END\n",
    "FROM fund;"
   ]
  },
  {
   "cell_type": "markdown",
   "id": "53c0d44a",
   "metadata": {},
   "source": [
    "9. Для каждой из категорий, назначенных в предыдущем задании, посчитайте округлённое до ближайшего целого числа среднее количество инвестиционных раундов, в которых фонд принимал участие. Выведите на экран категории и среднее число инвестиционных раундов. Отсортируйте таблицу по возрастанию среднего."
   ]
  },
  {
   "cell_type": "code",
   "execution_count": null,
   "id": "f20edf56",
   "metadata": {},
   "outputs": [],
   "source": [
    "SELECT t.activity,\n",
    "       ROUND(AVG(t.investment_rounds))\n",
    "FROM\n",
    "(SELECT *,\n",
    "       CASE\n",
    "           WHEN invested_companies>=100 THEN 'high_activity'\n",
    "           WHEN invested_companies>=20 THEN 'middle_activity'\n",
    "           ELSE 'low_activity'\n",
    "       END AS activity\n",
    "FROM fund) AS t\n",
    "GROUP BY activity\n",
    "ORDER BY round;"
   ]
  },
  {
   "cell_type": "markdown",
   "id": "9abdc1c3",
   "metadata": {},
   "source": [
    "10. Проанализируйте, в каких странах находятся фонды, которые чаще всего инвестируют в стартапы. \n",
    "Для каждой страны посчитайте минимальное, максимальное и среднее число компаний, в которые инвестировали фонды этой страны, основанные с 2010 по 2012 год включительно. Исключите страны с фондами, у которых минимальное число компаний, получивших инвестиции, равно нулю. Выгрузите десять самых активных стран-инвесторов.\n",
    "Отсортируйте таблицу по среднему количеству компаний от большего к меньшему, а затем по коду страны в лексикографическом порядке."
   ]
  },
  {
   "cell_type": "code",
   "execution_count": null,
   "id": "7cab3f63",
   "metadata": {},
   "outputs": [],
   "source": [
    "SELECT country_code,\n",
    "       MIN(invested_companies),\n",
    "       MAX(invested_companies),\n",
    "       AVG(invested_companies)\n",
    "FROM fund\n",
    "WHERE EXTRACT(YEAR FROM CAST(founded_at AS date)) BETWEEN '2010' AND '2012' \n",
    "GROUP BY country_code\n",
    "HAVING MIN(invested_companies) > 0\n",
    "ORDER BY AVG(invested_companies) DESC, country_code\n",
    "limit 10;"
   ]
  },
  {
   "cell_type": "markdown",
   "id": "7952da6a",
   "metadata": {},
   "source": [
    "11. Отобразите имя и фамилию всех сотрудников стартапов. Добавьте поле с названием учебного заведения, которое окончил сотрудник, если эта информация известна."
   ]
  },
  {
   "cell_type": "code",
   "execution_count": null,
   "id": "c1a7df60",
   "metadata": {},
   "outputs": [],
   "source": [
    "SELECT ppl.first_name,\n",
    "ppl.last_name,\n",
    "ed.instituition\n",
    "FROM people AS ppl\n",
    "LEFT JOIN education AS ed ON ppl.id=ed.person_id"
   ]
  },
  {
   "cell_type": "markdown",
   "id": "b7ecd57c",
   "metadata": {},
   "source": [
    "12. Для каждой компании найдите количество учебных заведений, которые окончили её сотрудники. Выведите название компании и число уникальных названий учебных заведений. Составьте топ-5 компаний по количеству университетов."
   ]
  },
  {
   "cell_type": "code",
   "execution_count": null,
   "id": "456934ec",
   "metadata": {},
   "outputs": [],
   "source": [
    "WITH\n",
    "p AS (\n",
    "      SELECT *\n",
    "      FROM people),\n",
    "c AS (\n",
    "      SELECT *\n",
    "      FROM company),\n",
    "ed AS (\n",
    "      SELECT *\n",
    "      FROM education)\n",
    "SELECT c.name,\n",
    "       COUNT(DISTINCT ed.instituition)\n",
    "FROM c LEFT JOIN p ON c.id = p.company_id\n",
    "LEFT JOIN ed ON p.id = ed.person_id\n",
    "GROUP BY c.name\n",
    "ORDER BY COUNT(DISTINCT ed.instituition) DESC\n",
    "LIMIT 5\n",
    ";"
   ]
  },
  {
   "cell_type": "markdown",
   "id": "8428ac42",
   "metadata": {},
   "source": [
    "13. Составьте список с уникальными названиями закрытых компаний, для которых первый раунд финансирования оказался последним."
   ]
  },
  {
   "cell_type": "code",
   "execution_count": null,
   "id": "bce9ad94",
   "metadata": {},
   "outputs": [],
   "source": [
    "select distinct name\n",
    "from company\n",
    "where id in (select company_id\n",
    "from funding_round\n",
    "where is_first_round = 1 and is_first_round = is_last_round) and status = 'closed';"
   ]
  },
  {
   "cell_type": "markdown",
   "id": "1bcc3ef0",
   "metadata": {},
   "source": [
    "14. Составьте список уникальных номеров сотрудников, которые работают в компаниях, отобранных в предыдущем задании."
   ]
  },
  {
   "cell_type": "code",
   "execution_count": null,
   "id": "61847f07",
   "metadata": {},
   "outputs": [],
   "source": [
    "WITH\n",
    "i AS (select distinct id\n",
    "from company\n",
    "where id in (select company_id\n",
    "from funding_round\n",
    "where is_first_round = 1 and is_first_round = is_last_round) and status = 'closed')\n",
    "SELECT DISTINCT p.id\n",
    "FROM people AS p\n",
    "INNER JOIN i ON i.id = p.company_id\n",
    ";"
   ]
  },
  {
   "cell_type": "markdown",
   "id": "8e77d455",
   "metadata": {},
   "source": [
    "15. Составьте таблицу, куда войдут уникальные пары с номерами сотрудников из предыдущей задачи и учебным заведением, которое окончил сотрудник."
   ]
  },
  {
   "cell_type": "code",
   "execution_count": null,
   "id": "20355e4d",
   "metadata": {},
   "outputs": [],
   "source": [
    "WITH\n",
    "i AS (select distinct id\n",
    "from company\n",
    "where id in (select company_id\n",
    "from funding_round\n",
    "where is_first_round = 1 and is_first_round = is_last_round) and status = 'closed')\n",
    "\n",
    "SELECT DISTINCT p.id, e.instituition\n",
    "FROM people AS p\n",
    "INNER JOIN i ON i.id = p.company_id\n",
    "INNER JOIN education AS e ON p.id = e.person_id\n",
    ";"
   ]
  },
  {
   "cell_type": "markdown",
   "id": "79fe655c",
   "metadata": {},
   "source": [
    "16. Посчитайте количество учебных заведений для каждого сотрудника из предыдущего задания. При подсчёте учитывайте, что некоторые сотрудники могли окончить одно и то же заведение дважды."
   ]
  },
  {
   "cell_type": "code",
   "execution_count": null,
   "id": "ba8324ac",
   "metadata": {},
   "outputs": [],
   "source": [
    "WITH\n",
    "i AS (select distinct id\n",
    "from company\n",
    "where id in (select company_id\n",
    "from funding_round\n",
    "where is_first_round = 1 and is_first_round = is_last_round) and status = 'closed')\n",
    "\n",
    "SELECT p.id, COUNT(e.instituition)\n",
    "FROM people AS p\n",
    "INNER JOIN i ON i.id = p.company_id\n",
    "INNER JOIN education AS e ON p.id = e.person_id\n",
    "group by p.id\n",
    ";"
   ]
  },
  {
   "cell_type": "markdown",
   "id": "3a25d210",
   "metadata": {},
   "source": [
    "17. Дополните предыдущий запрос и выведите среднее число учебных заведений (всех, не только уникальных), которые окончили сотрудники разных компаний. Нужно вывести только одну запись, группировка здесь не понадобится."
   ]
  },
  {
   "cell_type": "code",
   "execution_count": null,
   "id": "00613d7b",
   "metadata": {},
   "outputs": [],
   "source": [
    "WITH\n",
    "i AS (select distinct id\n",
    "from company\n",
    "where id in (select company_id\n",
    "from funding_round\n",
    "where is_first_round = 1 and is_first_round = is_last_round) and status = 'closed')\n",
    "\n",
    "SELECT AVG(d.count)\n",
    "FROM\n",
    "(SELECT p.id, COUNT(e.instituition)\n",
    "FROM people AS p\n",
    "INNER JOIN i ON i.id = p.company_id\n",
    "INNER JOIN education AS e ON p.id = e.person_id\n",
    "group by p.id) AS d\n",
    ";"
   ]
  },
  {
   "cell_type": "markdown",
   "id": "93d9a87c",
   "metadata": {},
   "source": [
    "18. Напишите похожий запрос: выведите среднее число учебных заведений (всех, не только уникальных), которые окончили сотрудники Facebook*.\n",
    "*(сервис, запрещённый на территории РФ)"
   ]
  },
  {
   "cell_type": "code",
   "execution_count": null,
   "id": "d7bf0863",
   "metadata": {},
   "outputs": [],
   "source": [
    "WITH companies AS\n",
    "    (SELECT DISTINCT id\n",
    "    FROM company\n",
    "    WHERE name='Facebook')\n",
    "\n",
    "SELECT AVG(ff.count)\n",
    "FROM (\n",
    "SELECT p.id as id,\n",
    "(COUNT( ed.instituition)) as count\n",
    "from people as p\n",
    "JOIN education as ed  ON p.id=ed.person_id\n",
    "Where company_id in (select id from companies)\n",
    "GROUP BY p.id) as ff"
   ]
  },
  {
   "cell_type": "markdown",
   "id": "979b72c7",
   "metadata": {},
   "source": [
    "19. Составьте таблицу из полей:\n",
    "name_of_fund — название фонда;\n",
    "name_of_company — название компании;\n",
    "amount — сумма инвестиций, которую привлекла компания в раунде.\n",
    "В таблицу войдут данные о компаниях, в истории которых было больше шести важных этапов, а раунды финансирования проходили с 2012 по 2013 год включительно."
   ]
  },
  {
   "cell_type": "code",
   "execution_count": null,
   "id": "359e7023",
   "metadata": {},
   "outputs": [],
   "source": [
    "SELECT fund.name as name_of_fund, company.name as name_of_company, funding_round.raised_amount as amount\n",
    "FROM investment\n",
    "INNER JOIN fund ON fund.id=investment.fund_id\n",
    "INNER JOIN funding_round ON funding_round.id=investment.funding_round_id\n",
    "INNER JOIN company ON company.id=investment.company_id\n",
    "Where company.id in (select id from company where milestones > 6)\n",
    "And funding_round.id in (select id from funding_round where extract(YEAR FROM CAST(funded_at as DATE)) between 2012 and 2013)"
   ]
  },
  {
   "cell_type": "markdown",
   "id": "80d6dbb7",
   "metadata": {},
   "source": [
    "20. Выгрузите таблицу, в которой будут такие поля:\n",
    "название компании-покупателя;\n",
    "сумма сделки;\n",
    "название компании, которую купили;\n",
    "сумма инвестиций, вложенных в купленную компанию;\n",
    "доля, которая отображает, во сколько раз сумма покупки превысила сумму вложенных в компанию инвестиций, округлённая до ближайшего целого числа.\n",
    "Не учитывайте те сделки, в которых сумма покупки равна нулю. Если сумма инвестиций в компанию равна нулю, исключите такую компанию из таблицы. \n",
    "Отсортируйте таблицу по сумме сделки от большей к меньшей, а затем по названию купленной компании в лексикографическом порядке. Ограничьте таблицу первыми десятью записями."
   ]
  },
  {
   "cell_type": "code",
   "execution_count": null,
   "id": "7ddbbb5b",
   "metadata": {},
   "outputs": [],
   "source": [
    "WITH table_ AS(\n",
    "               SELECT t1.*, t2.*\n",
    "               FROM acquisition AS t1             \n",
    "               LEFT JOIN company AS t2 ON t1.acquiring_company_id = t2.id)  \n",
    "SELECT t1.name,\n",
    "       t1.price_amount,\n",
    "       t2.name,\n",
    "       t2.funding_total,\n",
    "       ROUND(t1.price_amount / t2.funding_total)\n",
    "FROM table_ AS t1\n",
    "LEFT JOIN company t2 ON t1.acquired_company_id = t2.id\n",
    "WHERE t1.price_amount > 0 AND t2.funding_total > 0\n",
    "ORDER BY t1.price_amount DESC, t2.name\n",
    "LIMIT 10;"
   ]
  },
  {
   "cell_type": "markdown",
   "id": "5ce19e5a",
   "metadata": {},
   "source": [
    "21. Выгрузите таблицу, в которую войдут названия компаний из категории social, получившие финансирование с 2010 по 2013 год включительно. Проверьте, что сумма инвестиций не равна нулю. Выведите также номер месяца, в котором проходил раунд финансирования."
   ]
  },
  {
   "cell_type": "code",
   "execution_count": null,
   "id": "4c8aea87",
   "metadata": {},
   "outputs": [],
   "source": [
    "WITH\n",
    "t1 AS(SELECT id, name\n",
    "    FROM company\n",
    "    WHERE category_code = 'social'),\n",
    "t2 AS(SELECT company_id, EXTRACT(MONTH FROM CAST(funded_at AS date))\n",
    "    FROM funding_round\n",
    "    WHERE raised_amount != 0 AND\n",
    "    EXTRACT(YEAR FROM CAST(funded_at AS date)) BETWEEN 2010 AND 2013)\n",
    "    \n",
    "SELECT t1.name,\n",
    "       t2.date_part\n",
    "FROM t2 INNER JOIN t1 ON t1.id = t2.company_id;"
   ]
  },
  {
   "cell_type": "markdown",
   "id": "5e5c32ff",
   "metadata": {},
   "source": [
    "22. Отберите данные по месяцам с 2010 по 2013 год, когда проходили инвестиционные раунды. Сгруппируйте данные по номеру месяца и получите таблицу, в которой будут поля:\n",
    "номер месяца, в котором проходили раунды;\n",
    "количество уникальных названий фондов из США, которые инвестировали в этом месяце;\n",
    "количество компаний, купленных за этот месяц;\n",
    "общая сумма сделок по покупкам в этом месяце."
   ]
  },
  {
   "cell_type": "code",
   "execution_count": null,
   "id": "1102157c",
   "metadata": {},
   "outputs": [],
   "source": [
    "WITH\n",
    "s1 AS\n",
    "    (SELECT EXTRACT(MONTH FROM (fr.funded_at)::date) AS month_f,\n",
    "            COUNT(DISTINCT f.name) AS count_name\n",
    "    FROM fund as f\n",
    "    INNER JOIN investment AS i ON f.id = i.fund_id\n",
    "    INNER JOIN funding_round AS fr ON fr.id = i.funding_round_id\n",
    "    WHERE f.country_code = 'USA' AND\n",
    "          EXTRACT(YEAR FROM (funded_at)::date) BETWEEN '2010' AND '2013' \n",
    "    GROUP BY month_f),\n",
    "s2 AS\n",
    "    (SELECT EXTRACT(MONTH FROM (acquired_at)::date) AS month_as,\n",
    "            count(acquired_company_id) AS count_ac,\n",
    "            sum(price_amount) AS sum_pr\n",
    "    FROM acquisition\n",
    "    WHERE EXTRACT(YEAR FROM (acquired_at)::date) BETWEEN '2010' AND '2013' \n",
    "    GROUP BY month_as)\n",
    "    \n",
    "SELECT s2.month_as,\n",
    "       count_name,\n",
    "       count_ac,\n",
    "       sum_pr\n",
    "FROM s1\n",
    "JOIN s2 ON s1.month_f = s2.month_as"
   ]
  },
  {
   "cell_type": "markdown",
   "id": "4279fa8a",
   "metadata": {},
   "source": [
    "23. Составьте сводную таблицу и выведите среднюю сумму инвестиций для стран, в которых есть стартапы, зарегистрированные в 2011, 2012 и 2013 годах. Данные за каждый год должны быть в отдельном поле. Отсортируйте таблицу по среднему значению инвестиций за 2011 год от большего к меньшему."
   ]
  },
  {
   "cell_type": "code",
   "execution_count": null,
   "id": "ba0451ab",
   "metadata": {},
   "outputs": [],
   "source": [
    "WITH\n",
    "s AS (SELECT g.country_code\n",
    "      FROM\n",
    "          (SELECT DISTINCT country_code, EXTRACT(YEAR FROM CAST(founded_at AS date))\n",
    "           FROM company\n",
    "           WHERE EXTRACT(YEAR FROM CAST(founded_at AS date)) BETWEEN 2011 AND 2013 AND\n",
    "               country_code IS NOT NULL\n",
    "           ORDER BY country_code) AS g\n",
    "      GROUP BY g.country_code\n",
    "      HAVING AVG(g.date_part) = 2012),\n",
    "      \n",
    "t2011 AS(\n",
    "SELECT c.country_code,\n",
    "       AVG(f.raised_amount)\n",
    "FROM funding_round AS f\n",
    "INNER JOIN company AS c ON c.id = f.company_id\n",
    "WHERE EXTRACT(YEAR FROM CAST(c.founded_at AS date)) = 2011 AND\n",
    "    c.country_code IS NOT NULL AND\n",
    "    funding_total >0\n",
    "GROUP BY c.country_code,\n",
    "         EXTRACT(YEAR FROM CAST(c.founded_at AS date))),\n",
    "\n",
    "t2012 AS(\n",
    "SELECT c.country_code,\n",
    "       AVG(f.raised_amount)\n",
    "FROM funding_round AS f\n",
    "INNER JOIN company AS c ON c.id = f.company_id\n",
    "WHERE EXTRACT(YEAR FROM CAST(c.founded_at AS date)) = 2012 AND\n",
    "    c.country_code IS NOT NULL AND\n",
    "    funding_total >0\n",
    "GROUP BY c.country_code,\n",
    "         EXTRACT(YEAR FROM CAST(c.founded_at AS date))),\n",
    "\n",
    "t2013 AS(\n",
    "SELECT c.country_code,\n",
    "       AVG(f.raised_amount)\n",
    "FROM funding_round AS f\n",
    "INNER JOIN company AS c ON c.id = f.company_id\n",
    "WHERE EXTRACT(YEAR FROM CAST(c.founded_at AS date)) = 2013 AND\n",
    "    c.country_code IS NOT NULL AND\n",
    "    funding_total >0\n",
    "GROUP BY c.country_code,\n",
    "         EXTRACT(YEAR FROM CAST(c.founded_at AS date)))\n",
    "\n",
    "SELECT t1.country_code,\n",
    "       t1.avg,\n",
    "       t2.avg,\n",
    "       t3.avg\n",
    "FROM t2011 AS t1\n",
    "INNER JOIN t2012 AS t2 ON t1.country_code = t2.country_code\n",
    "INNER JOIN t2013 AS t3 ON t1.country_code = t3.country_code\n",
    "INNER JOIN s ON s.country_code = t1.country_code\n",
    "ORDER BY t1.avg DESC;"
   ]
  }
 ],
 "metadata": {
  "kernelspec": {
   "display_name": "Python 3 (ipykernel)",
   "language": "python",
   "name": "python3"
  },
  "language_info": {
   "codemirror_mode": {
    "name": "ipython",
    "version": 3
   },
   "file_extension": ".py",
   "mimetype": "text/x-python",
   "name": "python",
   "nbconvert_exporter": "python",
   "pygments_lexer": "ipython3",
   "version": "3.9.10"
  }
 },
 "nbformat": 4,
 "nbformat_minor": 5
}
