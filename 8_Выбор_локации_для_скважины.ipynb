{
 "cells": [
  {
   "cell_type": "markdown",
   "metadata": {},
   "source": [
    "# Выбор локации для скважины"
   ]
  },
  {
   "cell_type": "markdown",
   "metadata": {},
   "source": [
    "## Загрузка и подготовка данных"
   ]
  },
  {
   "cell_type": "code",
   "execution_count": 1,
   "metadata": {},
   "outputs": [],
   "source": [
    "import pandas as pd\n",
    "import numpy as np\n",
    "import matplotlib as plt\n",
    "from sklearn.model_selection import train_test_split\n",
    "from sklearn.preprocessing import StandardScaler\n",
    "from sklearn.linear_model import LinearRegression\n",
    "from sklearn.metrics import mean_squared_error\n",
    "from sklearn.metrics import mean_absolute_error"
   ]
  },
  {
   "cell_type": "code",
   "execution_count": 2,
   "metadata": {},
   "outputs": [],
   "source": [
    "geo_data_1 = pd.read_csv('/datasets/geo_data_0.csv')\n",
    "geo_data_2 = pd.read_csv('/datasets/geo_data_1.csv')\n",
    "geo_data_3 = pd.read_csv('/datasets/geo_data_2.csv')"
   ]
  },
  {
   "cell_type": "code",
   "execution_count": 3,
   "metadata": {},
   "outputs": [
    {
     "data": {
      "text/html": [
       "<div>\n",
       "<style scoped>\n",
       "    .dataframe tbody tr th:only-of-type {\n",
       "        vertical-align: middle;\n",
       "    }\n",
       "\n",
       "    .dataframe tbody tr th {\n",
       "        vertical-align: top;\n",
       "    }\n",
       "\n",
       "    .dataframe thead th {\n",
       "        text-align: right;\n",
       "    }\n",
       "</style>\n",
       "<table border=\"1\" class=\"dataframe\">\n",
       "  <thead>\n",
       "    <tr style=\"text-align: right;\">\n",
       "      <th></th>\n",
       "      <th>id</th>\n",
       "      <th>f0</th>\n",
       "      <th>f1</th>\n",
       "      <th>f2</th>\n",
       "      <th>product</th>\n",
       "    </tr>\n",
       "  </thead>\n",
       "  <tbody>\n",
       "    <tr>\n",
       "      <th>0</th>\n",
       "      <td>txEyH</td>\n",
       "      <td>0.705745</td>\n",
       "      <td>-0.497823</td>\n",
       "      <td>1.221170</td>\n",
       "      <td>105.280062</td>\n",
       "    </tr>\n",
       "    <tr>\n",
       "      <th>1</th>\n",
       "      <td>2acmU</td>\n",
       "      <td>1.334711</td>\n",
       "      <td>-0.340164</td>\n",
       "      <td>4.365080</td>\n",
       "      <td>73.037750</td>\n",
       "    </tr>\n",
       "    <tr>\n",
       "      <th>2</th>\n",
       "      <td>409Wp</td>\n",
       "      <td>1.022732</td>\n",
       "      <td>0.151990</td>\n",
       "      <td>1.419926</td>\n",
       "      <td>85.265647</td>\n",
       "    </tr>\n",
       "    <tr>\n",
       "      <th>3</th>\n",
       "      <td>iJLyR</td>\n",
       "      <td>-0.032172</td>\n",
       "      <td>0.139033</td>\n",
       "      <td>2.978566</td>\n",
       "      <td>168.620776</td>\n",
       "    </tr>\n",
       "    <tr>\n",
       "      <th>4</th>\n",
       "      <td>Xdl7t</td>\n",
       "      <td>1.988431</td>\n",
       "      <td>0.155413</td>\n",
       "      <td>4.751769</td>\n",
       "      <td>154.036647</td>\n",
       "    </tr>\n",
       "  </tbody>\n",
       "</table>\n",
       "</div>"
      ],
      "text/plain": [
       "      id        f0        f1        f2     product\n",
       "0  txEyH  0.705745 -0.497823  1.221170  105.280062\n",
       "1  2acmU  1.334711 -0.340164  4.365080   73.037750\n",
       "2  409Wp  1.022732  0.151990  1.419926   85.265647\n",
       "3  iJLyR -0.032172  0.139033  2.978566  168.620776\n",
       "4  Xdl7t  1.988431  0.155413  4.751769  154.036647"
      ]
     },
     "execution_count": 3,
     "metadata": {},
     "output_type": "execute_result"
    }
   ],
   "source": [
    "geo_data_1.head()"
   ]
  },
  {
   "cell_type": "code",
   "execution_count": 4,
   "metadata": {},
   "outputs": [
    {
     "name": "stdout",
     "output_type": "stream",
     "text": [
      "<class 'pandas.core.frame.DataFrame'>\n",
      "RangeIndex: 100000 entries, 0 to 99999\n",
      "Data columns (total 5 columns):\n",
      " #   Column   Non-Null Count   Dtype  \n",
      "---  ------   --------------   -----  \n",
      " 0   id       100000 non-null  object \n",
      " 1   f0       100000 non-null  float64\n",
      " 2   f1       100000 non-null  float64\n",
      " 3   f2       100000 non-null  float64\n",
      " 4   product  100000 non-null  float64\n",
      "dtypes: float64(4), object(1)\n",
      "memory usage: 3.8+ MB\n"
     ]
    }
   ],
   "source": [
    "geo_data_1.info()"
   ]
  },
  {
   "cell_type": "code",
   "execution_count": 5,
   "metadata": {},
   "outputs": [],
   "source": [
    "def model_regression(data):\n",
    "    target = data['product']\n",
    "    features = data.drop(['id','product'], axis=1)\n",
    "    features_train, features_valid, target_train, target_valid = train_test_split(features, target,\n",
    "                                                                                  test_size=0.25,\n",
    "                                                                                  random_state=12345)\n",
    "    scaler = StandardScaler()\n",
    "    pd.options.mode.chained_assignment = None\n",
    "    scaler.fit(features_train)\n",
    "    features_train = scaler.transform(features_train)\n",
    "    features_valid = scaler.transform(features_valid)\n",
    "    return (features_train, features_valid, target_train, target_valid)"
   ]
  },
  {
   "cell_type": "markdown",
   "metadata": {},
   "source": [
    "Вывод: данные загружены и подготовлены для последующего обучения."
   ]
  },
  {
   "cell_type": "markdown",
   "metadata": {},
   "source": [
    "## Обучение и проверка модели"
   ]
  },
  {
   "cell_type": "markdown",
   "metadata": {},
   "source": [
    "### Первый регион"
   ]
  },
  {
   "cell_type": "code",
   "execution_count": 6,
   "metadata": {},
   "outputs": [
    {
     "name": "stdout",
     "output_type": "stream",
     "text": [
      "Средний прогнозируемый запас сырья: 92.59256778438035\n",
      "RMSE =  37.5794217150813\n",
      "MAE =  30.919600777151313\n"
     ]
    }
   ],
   "source": [
    "features_train_1, features_valid_1, target_train_1, target_valid_1 = model_regression(geo_data_1)\n",
    "\n",
    "model_1 = LinearRegression()\n",
    "model_1.fit(features_train_1, target_train_1)\n",
    "\n",
    "predicted_valid_1 = model_1.predict(features_valid_1)\n",
    "mse_1 = mean_squared_error(target_valid_1, predicted_valid_1)\n",
    "mae_1 = mean_absolute_error(target_valid_1, predicted_valid_1)\n",
    "\n",
    "print('Средний прогнозируемый запас сырья:', predicted_valid_1.mean())\n",
    "print('RMSE = ', mse_1 ** 0.5)\n",
    "print('MAE = ', mae_1)"
   ]
  },
  {
   "cell_type": "markdown",
   "metadata": {},
   "source": [
    "### Второй регион"
   ]
  },
  {
   "cell_type": "code",
   "execution_count": 7,
   "metadata": {},
   "outputs": [
    {
     "name": "stdout",
     "output_type": "stream",
     "text": [
      "Средний прогнозируемый запас сырья: 68.728546895446\n",
      "RMSE =  0.893099286775617\n",
      "MAE =  0.7187662442124758\n"
     ]
    }
   ],
   "source": [
    "features_train_2, features_valid_2, target_train_2, target_valid_2 = model_regression(geo_data_2)\n",
    "\n",
    "model_2 = LinearRegression()\n",
    "model_2.fit(features_train_2, target_train_2)\n",
    "\n",
    "predicted_valid_2 = model_2.predict(features_valid_2)\n",
    "mse_2 = mean_squared_error(target_valid_2, predicted_valid_2)\n",
    "mae_2 = mean_absolute_error(target_valid_2, predicted_valid_2)\n",
    "\n",
    "print('Средний прогнозируемый запас сырья:', predicted_valid_2.mean())\n",
    "print('RMSE = ', mse_2 ** 0.5)\n",
    "print('MAE = ', mae_2)"
   ]
  },
  {
   "cell_type": "markdown",
   "metadata": {},
   "source": [
    "### Третий регион"
   ]
  },
  {
   "cell_type": "code",
   "execution_count": 8,
   "metadata": {
    "scrolled": true
   },
   "outputs": [
    {
     "name": "stdout",
     "output_type": "stream",
     "text": [
      "Средний прогнозируемый запас сырья: 94.96504596800489\n",
      "RMSE =  40.02970873393434\n",
      "MAE =  32.792652105481814\n"
     ]
    }
   ],
   "source": [
    "features_train_3, features_valid_3, target_train_3, target_valid_3 = model_regression(geo_data_3)\n",
    "\n",
    "model_3 = LinearRegression()\n",
    "model_3.fit(features_train_3, target_train_3)\n",
    "\n",
    "predicted_valid_3 = model_3.predict(features_valid_3)\n",
    "mse_3 = mean_squared_error(target_valid_3, predicted_valid_3)\n",
    "mae_3 = mean_absolute_error(target_valid_3, predicted_valid_3)\n",
    "\n",
    "print('Средний прогнозируемый запас сырья:', predicted_valid_3.mean())\n",
    "print('RMSE = ', mse_3 ** 0.5)\n",
    "print('MAE = ', mae_3)"
   ]
  },
  {
   "cell_type": "markdown",
   "metadata": {},
   "source": [
    "Вывод: средний прогнозируемый запас сырья меньше всего во втором регионе, однако погрешность в нем меньше всего, в первом и третьем регионах средний прогнозируемый запас сырья выше, но гароздо больше погрешность."
   ]
  },
  {
   "cell_type": "markdown",
   "metadata": {},
   "source": [
    "## Подготовка к расчёту прибыли"
   ]
  },
  {
   "cell_type": "code",
   "execution_count": 9,
   "metadata": {},
   "outputs": [],
   "source": [
    "BUDGET = 10_000_000_000\n",
    "INCOME = 450_000\n",
    "N = 200"
   ]
  },
  {
   "cell_type": "markdown",
   "metadata": {},
   "source": [
    "Примем что себестоимость разработки новой скважины равна:"
   ]
  },
  {
   "cell_type": "code",
   "execution_count": 10,
   "metadata": {},
   "outputs": [
    {
     "name": "stdout",
     "output_type": "stream",
     "text": [
      "50000000.0\n"
     ]
    }
   ],
   "source": [
    "COST_PRICE = BUDGET / N\n",
    "print(COST_PRICE)"
   ]
  },
  {
   "cell_type": "markdown",
   "metadata": {},
   "source": [
    "Объем сырья для безубыточной разработки равен:"
   ]
  },
  {
   "cell_type": "code",
   "execution_count": 11,
   "metadata": {},
   "outputs": [
    {
     "name": "stdout",
     "output_type": "stream",
     "text": [
      "111.11111111111111\n"
     ]
    }
   ],
   "source": [
    "BREAKEVEN_POINT = COST_PRICE / INCOME\n",
    "print(BREAKEVEN_POINT)"
   ]
  },
  {
   "cell_type": "markdown",
   "metadata": {},
   "source": [
    "Вывод: средний объем сырья во всех регионах ниже объема сырья которого достаточно для безубыточной разработки, следовательно для разработки необходимо выбирать скважины с максимальными запасами которые выше точки безубыточности."
   ]
  },
  {
   "cell_type": "markdown",
   "metadata": {},
   "source": [
    "Напишем функцию расчета прибыли:"
   ]
  },
  {
   "cell_type": "code",
   "execution_count": 12,
   "metadata": {},
   "outputs": [],
   "source": [
    "def profit(predicted_volume, target):\n",
    "    predicted_volume = predicted_volume.sort_values(ascending=False)\n",
    "    product_volume = target[predicted_volume.index]\n",
    "    product_volume = product_volume[:N]\n",
    "    profit = product_volume * INCOME - COST_PRICE\n",
    "    return profit.sum()"
   ]
  },
  {
   "cell_type": "markdown",
   "metadata": {},
   "source": [
    "## Расчёт прибыли и рисков "
   ]
  },
  {
   "cell_type": "markdown",
   "metadata": {},
   "source": [
    "### Первый регион"
   ]
  },
  {
   "cell_type": "code",
   "execution_count": 13,
   "metadata": {},
   "outputs": [],
   "source": [
    "state = np.random.RandomState(12345)\n",
    "\n",
    "values = []\n",
    "for i in range(1000):\n",
    "    predicted_valid_1 = pd.Series(predicted_valid_1)\n",
    "    target_valid_1 = pd.Series(target_valid_1).reset_index(drop=True)\n",
    "    target_subsample = target_valid_1.sample(n=500,\n",
    "                                             replace=True,\n",
    "                                             random_state=state)\n",
    "    predicted_subsample = predicted_valid_1[target_subsample.index]\n",
    "    values.append(profit(predicted_subsample, target_subsample))"
   ]
  },
  {
   "cell_type": "code",
   "execution_count": 14,
   "metadata": {},
   "outputs": [
    {
     "name": "stdout",
     "output_type": "stream",
     "text": [
      "Средняя прибыль: 425938526.91059244\n",
      "2.5%-квантиль: -102090094.83793713\n",
      "97.5%-квантиль: 947976353.358369\n",
      "Риск убытков: 0.06\n"
     ]
    }
   ],
   "source": [
    "values = pd.Series(values)\n",
    "lower = values.quantile(0.025)\n",
    "upper = values.quantile(0.975)\n",
    "mean = values.mean()\n",
    "print(\"Средняя прибыль:\", mean)\n",
    "print(\"2.5%-квантиль:\", lower)\n",
    "print(\"97.5%-квантиль:\", upper)\n",
    "loss = values[values<0].count() / len(values)\n",
    "print(f'Риск убытков:', loss)"
   ]
  },
  {
   "cell_type": "markdown",
   "metadata": {},
   "source": [
    "### Второй регион"
   ]
  },
  {
   "cell_type": "code",
   "execution_count": 15,
   "metadata": {},
   "outputs": [],
   "source": [
    "values = []\n",
    "for i in range(1000):\n",
    "    predicted_valid_2 = pd.Series(predicted_valid_2)\n",
    "    target_valid_2 = pd.Series(target_valid_2).reset_index(drop=True)\n",
    "    target_subsample = target_valid_2.sample(n=500,\n",
    "                                             replace=True,\n",
    "                                             random_state=state)\n",
    "    predicted_subsample = predicted_valid_2[target_subsample.index]\n",
    "    values.append(profit(predicted_subsample, target_subsample))"
   ]
  },
  {
   "cell_type": "code",
   "execution_count": 16,
   "metadata": {},
   "outputs": [
    {
     "name": "stdout",
     "output_type": "stream",
     "text": [
      "Средняя прибыль: 518259493.6973247\n",
      "2.5%-квантиль: 128123231.43308508\n",
      "97.5%-квантиль: 953612982.066907\n",
      "Риск убытков: 0.003\n"
     ]
    }
   ],
   "source": [
    "values = pd.Series(values)\n",
    "lower = values.quantile(0.025)\n",
    "upper = values.quantile(0.975)\n",
    "mean = values.mean()\n",
    "print(\"Средняя прибыль:\", mean)\n",
    "print(\"2.5%-квантиль:\", lower)\n",
    "print(\"97.5%-квантиль:\", upper)\n",
    "loss = values[values<0].count() / len(values)\n",
    "print(f'Риск убытков:', loss)"
   ]
  },
  {
   "cell_type": "markdown",
   "metadata": {},
   "source": [
    "### Третий регион"
   ]
  },
  {
   "cell_type": "code",
   "execution_count": 17,
   "metadata": {},
   "outputs": [],
   "source": [
    "values = []\n",
    "for i in range(1000):\n",
    "    predicted_valid_3 = pd.Series(predicted_valid_3)\n",
    "    target_valid_3 = pd.Series(target_valid_3).reset_index(drop=True)\n",
    "    target_subsample = target_valid_3.sample(n=500,\n",
    "                                             replace=True,\n",
    "                                             random_state=state)\n",
    "    predicted_subsample = predicted_valid_3[target_subsample.index]\n",
    "    values.append(profit(predicted_subsample, target_subsample))"
   ]
  },
  {
   "cell_type": "code",
   "execution_count": 18,
   "metadata": {},
   "outputs": [
    {
     "name": "stdout",
     "output_type": "stream",
     "text": [
      "Средняя прибыль: 420194005.3440501\n",
      "2.5%-квантиль: -115852609.1600105\n",
      "97.5%-квантиль: 989629939.8445754\n",
      "Риск убытков: 0.062\n"
     ]
    }
   ],
   "source": [
    "values = pd.Series(values)\n",
    "lower = values.quantile(0.025)\n",
    "upper = values.quantile(0.975)\n",
    "mean = values.mean()\n",
    "print(\"Средняя прибыль:\", mean)\n",
    "print(\"2.5%-квантиль:\", lower)\n",
    "print(\"97.5%-квантиль:\", upper)\n",
    "loss = values[values<0].count() / len(values)\n",
    "print(f'Риск убытков:', loss)"
   ]
  },
  {
   "cell_type": "markdown",
   "metadata": {},
   "source": [
    "Вывод: Второй регион обладает наименьшим риском убытков из всех, а также средняя прибыль выше чем у других регионов, следовательно к разработке предлагается второй регион."
   ]
  }
 ],
 "metadata": {
  "ExecuteTimeLog": [
   {
    "duration": 432,
    "start_time": "2022-05-16T15:09:42.111Z"
   },
   {
    "duration": 376,
    "start_time": "2022-05-16T15:11:51.234Z"
   },
   {
    "duration": 17,
    "start_time": "2022-05-16T15:12:00.148Z"
   },
   {
    "duration": 9,
    "start_time": "2022-05-16T15:12:10.768Z"
   },
   {
    "duration": 9,
    "start_time": "2022-05-16T15:12:21.406Z"
   },
   {
    "duration": 15,
    "start_time": "2022-05-16T15:13:24.968Z"
   },
   {
    "duration": 14,
    "start_time": "2022-05-16T15:13:40.935Z"
   },
   {
    "duration": 14,
    "start_time": "2022-05-16T15:13:49.895Z"
   },
   {
    "duration": 9,
    "start_time": "2022-05-16T15:13:51.814Z"
   },
   {
    "duration": 2,
    "start_time": "2022-05-16T15:14:32.165Z"
   },
   {
    "duration": 361,
    "start_time": "2022-05-16T15:14:33.084Z"
   },
   {
    "duration": 9,
    "start_time": "2022-05-16T15:14:34.164Z"
   },
   {
    "duration": 16,
    "start_time": "2022-05-16T15:14:34.684Z"
   },
   {
    "duration": 9,
    "start_time": "2022-05-16T15:14:34.945Z"
   },
   {
    "duration": 15,
    "start_time": "2022-05-16T15:14:35.185Z"
   },
   {
    "duration": 9,
    "start_time": "2022-05-16T15:14:35.412Z"
   },
   {
    "duration": 15,
    "start_time": "2022-05-16T15:14:35.546Z"
   },
   {
    "duration": 72,
    "start_time": "2022-05-16T15:15:54.860Z"
   },
   {
    "duration": 76,
    "start_time": "2022-05-16T15:16:01.820Z"
   },
   {
    "duration": 73,
    "start_time": "2022-05-16T15:16:07.781Z"
   },
   {
    "duration": 16,
    "start_time": "2022-05-16T15:16:28.991Z"
   },
   {
    "duration": 39,
    "start_time": "2022-05-16T15:40:19.723Z"
   },
   {
    "duration": 447,
    "start_time": "2022-05-16T15:41:08.934Z"
   },
   {
    "duration": 390,
    "start_time": "2022-05-16T15:41:09.383Z"
   },
   {
    "duration": 17,
    "start_time": "2022-05-16T15:41:09.775Z"
   },
   {
    "duration": 17,
    "start_time": "2022-05-16T15:41:09.794Z"
   },
   {
    "duration": 9,
    "start_time": "2022-05-16T15:41:09.813Z"
   },
   {
    "duration": 36,
    "start_time": "2022-05-16T15:41:09.824Z"
   },
   {
    "duration": 9,
    "start_time": "2022-05-16T15:41:09.862Z"
   },
   {
    "duration": 19,
    "start_time": "2022-05-16T15:41:09.873Z"
   },
   {
    "duration": 57,
    "start_time": "2022-05-16T15:41:09.894Z"
   },
   {
    "duration": 525,
    "start_time": "2022-05-16T17:31:34.697Z"
   },
   {
    "duration": 496,
    "start_time": "2022-05-16T17:31:35.224Z"
   },
   {
    "duration": 26,
    "start_time": "2022-05-16T17:31:35.722Z"
   },
   {
    "duration": 16,
    "start_time": "2022-05-16T17:31:35.751Z"
   },
   {
    "duration": 8,
    "start_time": "2022-05-16T17:31:35.769Z"
   },
   {
    "duration": 16,
    "start_time": "2022-05-16T17:31:35.779Z"
   },
   {
    "duration": 9,
    "start_time": "2022-05-16T17:31:35.796Z"
   },
   {
    "duration": 51,
    "start_time": "2022-05-16T17:31:35.806Z"
   },
   {
    "duration": 33,
    "start_time": "2022-05-16T17:31:35.858Z"
   },
   {
    "duration": 492,
    "start_time": "2022-05-16T17:32:41.974Z"
   },
   {
    "duration": 497,
    "start_time": "2022-05-16T17:32:42.468Z"
   },
   {
    "duration": 22,
    "start_time": "2022-05-16T17:32:42.967Z"
   },
   {
    "duration": 31,
    "start_time": "2022-05-16T17:32:42.992Z"
   },
   {
    "duration": 25,
    "start_time": "2022-05-16T17:32:43.025Z"
   },
   {
    "duration": 17,
    "start_time": "2022-05-16T17:32:43.052Z"
   },
   {
    "duration": 9,
    "start_time": "2022-05-16T17:32:43.071Z"
   },
   {
    "duration": 22,
    "start_time": "2022-05-16T17:32:43.082Z"
   },
   {
    "duration": 69,
    "start_time": "2022-05-16T17:32:43.106Z"
   },
   {
    "duration": 13,
    "start_time": "2022-05-16T17:33:19.630Z"
   },
   {
    "duration": 14,
    "start_time": "2022-05-16T17:33:53.485Z"
   },
   {
    "duration": 16,
    "start_time": "2022-05-16T17:34:51.427Z"
   },
   {
    "duration": 15,
    "start_time": "2022-05-16T17:35:07.428Z"
   },
   {
    "duration": 15,
    "start_time": "2022-05-16T17:35:23.777Z"
   },
   {
    "duration": 1456,
    "start_time": "2022-05-18T16:26:40.899Z"
   },
   {
    "duration": 723,
    "start_time": "2022-05-18T16:26:42.357Z"
   },
   {
    "duration": 13,
    "start_time": "2022-05-18T16:26:43.081Z"
   },
   {
    "duration": 30,
    "start_time": "2022-05-18T16:26:43.096Z"
   },
   {
    "duration": 5,
    "start_time": "2022-05-18T16:26:43.128Z"
   },
   {
    "duration": 102,
    "start_time": "2022-05-18T16:26:43.134Z"
   },
   {
    "duration": 197,
    "start_time": "2022-05-18T16:26:43.329Z"
   },
   {
    "duration": 125,
    "start_time": "2022-05-18T16:26:43.531Z"
   },
   {
    "duration": 4,
    "start_time": "2022-05-18T16:26:43.728Z"
   },
   {
    "duration": 408,
    "start_time": "2022-05-18T16:44:16.128Z"
   },
   {
    "duration": 15,
    "start_time": "2022-05-18T16:44:19.516Z"
   },
   {
    "duration": 4,
    "start_time": "2022-05-18T16:44:23.640Z"
   },
   {
    "duration": 46,
    "start_time": "2022-05-18T16:44:41.941Z"
   },
   {
    "duration": 47,
    "start_time": "2022-05-18T16:44:46.425Z"
   },
   {
    "duration": 47,
    "start_time": "2022-05-18T16:46:29.099Z"
   },
   {
    "duration": 1300,
    "start_time": "2022-05-18T16:48:13.844Z"
   },
   {
    "duration": 241,
    "start_time": "2022-05-18T16:48:15.148Z"
   },
   {
    "duration": 0,
    "start_time": "2022-05-18T16:48:15.391Z"
   },
   {
    "duration": 0,
    "start_time": "2022-05-18T16:48:15.392Z"
   },
   {
    "duration": 0,
    "start_time": "2022-05-18T16:48:15.393Z"
   },
   {
    "duration": 0,
    "start_time": "2022-05-18T16:48:15.394Z"
   },
   {
    "duration": 0,
    "start_time": "2022-05-18T16:48:15.395Z"
   },
   {
    "duration": 0,
    "start_time": "2022-05-18T16:48:15.396Z"
   },
   {
    "duration": 0,
    "start_time": "2022-05-18T16:48:15.397Z"
   },
   {
    "duration": 1188,
    "start_time": "2022-05-18T16:48:41.356Z"
   },
   {
    "duration": 353,
    "start_time": "2022-05-18T16:48:42.545Z"
   },
   {
    "duration": 14,
    "start_time": "2022-05-18T16:48:42.900Z"
   },
   {
    "duration": 28,
    "start_time": "2022-05-18T16:48:42.916Z"
   },
   {
    "duration": 5,
    "start_time": "2022-05-18T16:48:42.945Z"
   },
   {
    "duration": 92,
    "start_time": "2022-05-18T16:48:42.952Z"
   },
   {
    "duration": 105,
    "start_time": "2022-05-18T16:48:43.046Z"
   },
   {
    "duration": 192,
    "start_time": "2022-05-18T16:48:43.153Z"
   },
   {
    "duration": 96,
    "start_time": "2022-05-18T16:48:43.349Z"
   },
   {
    "duration": 1562,
    "start_time": "2022-05-19T01:42:44.635Z"
   },
   {
    "duration": 1730,
    "start_time": "2022-05-19T01:42:46.199Z"
   },
   {
    "duration": 14,
    "start_time": "2022-05-19T01:42:47.931Z"
   },
   {
    "duration": 15,
    "start_time": "2022-05-19T01:42:47.946Z"
   },
   {
    "duration": 4,
    "start_time": "2022-05-19T01:42:47.963Z"
   },
   {
    "duration": 124,
    "start_time": "2022-05-19T01:42:47.974Z"
   },
   {
    "duration": 119,
    "start_time": "2022-05-19T01:42:48.194Z"
   },
   {
    "duration": 129,
    "start_time": "2022-05-19T01:42:48.376Z"
   },
   {
    "duration": 67,
    "start_time": "2022-05-19T01:42:48.510Z"
   },
   {
    "duration": 4,
    "start_time": "2022-05-19T01:46:58.847Z"
   },
   {
    "duration": 44,
    "start_time": "2022-05-19T01:51:37.791Z"
   },
   {
    "duration": 3,
    "start_time": "2022-05-19T01:52:49.626Z"
   },
   {
    "duration": 5,
    "start_time": "2022-05-19T01:53:12.870Z"
   },
   {
    "duration": 3,
    "start_time": "2022-05-19T01:53:54.475Z"
   },
   {
    "duration": 7,
    "start_time": "2022-05-19T01:53:56.225Z"
   },
   {
    "duration": 3,
    "start_time": "2022-05-19T01:54:20.565Z"
   },
   {
    "duration": 3,
    "start_time": "2022-05-19T01:54:22.738Z"
   },
   {
    "duration": 3,
    "start_time": "2022-05-19T01:54:33.509Z"
   },
   {
    "duration": 4,
    "start_time": "2022-05-19T01:54:33.976Z"
   },
   {
    "duration": 5,
    "start_time": "2022-05-19T01:57:35.524Z"
   },
   {
    "duration": 1294,
    "start_time": "2022-05-19T01:59:44.645Z"
   },
   {
    "duration": 403,
    "start_time": "2022-05-19T01:59:45.940Z"
   },
   {
    "duration": 15,
    "start_time": "2022-05-19T01:59:46.345Z"
   },
   {
    "duration": 35,
    "start_time": "2022-05-19T01:59:46.362Z"
   },
   {
    "duration": 8,
    "start_time": "2022-05-19T01:59:46.399Z"
   },
   {
    "duration": 72,
    "start_time": "2022-05-19T01:59:46.409Z"
   },
   {
    "duration": 200,
    "start_time": "2022-05-19T01:59:46.484Z"
   },
   {
    "duration": 126,
    "start_time": "2022-05-19T01:59:46.692Z"
   },
   {
    "duration": 11,
    "start_time": "2022-05-19T01:59:46.822Z"
   },
   {
    "duration": 134,
    "start_time": "2022-05-19T01:59:46.875Z"
   },
   {
    "duration": 5,
    "start_time": "2022-05-19T01:59:47.011Z"
   },
   {
    "duration": 179,
    "start_time": "2022-05-19T02:01:37.727Z"
   },
   {
    "duration": 3,
    "start_time": "2022-05-19T02:01:46.064Z"
   },
   {
    "duration": 3,
    "start_time": "2022-05-19T02:14:37.905Z"
   },
   {
    "duration": 6,
    "start_time": "2022-05-19T02:23:41.703Z"
   },
   {
    "duration": 5,
    "start_time": "2022-05-19T02:24:15.200Z"
   },
   {
    "duration": 8,
    "start_time": "2022-05-19T02:24:49.203Z"
   },
   {
    "duration": 6,
    "start_time": "2022-05-19T02:25:03.058Z"
   },
   {
    "duration": 6,
    "start_time": "2022-05-19T02:25:07.397Z"
   },
   {
    "duration": 5,
    "start_time": "2022-05-19T02:25:20.619Z"
   },
   {
    "duration": 10,
    "start_time": "2022-05-19T02:25:54.505Z"
   },
   {
    "duration": 3,
    "start_time": "2022-05-19T02:26:02.306Z"
   },
   {
    "duration": 8,
    "start_time": "2022-05-19T02:26:09.969Z"
   },
   {
    "duration": 492,
    "start_time": "2022-05-19T02:26:30.141Z"
   },
   {
    "duration": 5,
    "start_time": "2022-05-19T02:26:48.720Z"
   },
   {
    "duration": 7,
    "start_time": "2022-05-19T02:27:06.963Z"
   },
   {
    "duration": 6,
    "start_time": "2022-05-19T02:27:18.460Z"
   },
   {
    "duration": 466,
    "start_time": "2022-05-19T02:28:56.328Z"
   },
   {
    "duration": 8,
    "start_time": "2022-05-19T02:29:08.199Z"
   },
   {
    "duration": 1300,
    "start_time": "2022-05-19T02:29:19.056Z"
   },
   {
    "duration": 473,
    "start_time": "2022-05-19T02:29:20.359Z"
   },
   {
    "duration": 17,
    "start_time": "2022-05-19T02:29:20.834Z"
   },
   {
    "duration": 31,
    "start_time": "2022-05-19T02:29:20.853Z"
   },
   {
    "duration": 7,
    "start_time": "2022-05-19T02:29:20.886Z"
   },
   {
    "duration": 82,
    "start_time": "2022-05-19T02:29:20.894Z"
   },
   {
    "duration": 127,
    "start_time": "2022-05-19T02:29:20.977Z"
   },
   {
    "duration": 275,
    "start_time": "2022-05-19T02:29:21.107Z"
   },
   {
    "duration": 3,
    "start_time": "2022-05-19T02:29:21.385Z"
   },
   {
    "duration": 128,
    "start_time": "2022-05-19T02:29:21.389Z"
   },
   {
    "duration": 6,
    "start_time": "2022-05-19T02:29:21.520Z"
   },
   {
    "duration": 6,
    "start_time": "2022-05-19T02:29:21.527Z"
   },
   {
    "duration": 7,
    "start_time": "2022-05-19T02:29:21.534Z"
   },
   {
    "duration": 8,
    "start_time": "2022-05-19T02:31:54.809Z"
   },
   {
    "duration": 4,
    "start_time": "2022-05-19T02:38:03.201Z"
   },
   {
    "duration": 3,
    "start_time": "2022-05-19T02:38:10.259Z"
   },
   {
    "duration": 2,
    "start_time": "2022-05-19T02:38:11.830Z"
   },
   {
    "duration": 794,
    "start_time": "2022-05-19T02:38:18.640Z"
   },
   {
    "duration": 426,
    "start_time": "2022-05-19T02:38:19.436Z"
   },
   {
    "duration": 92,
    "start_time": "2022-05-19T02:38:19.864Z"
   },
   {
    "duration": 31,
    "start_time": "2022-05-19T02:38:19.958Z"
   },
   {
    "duration": 5,
    "start_time": "2022-05-19T02:38:19.997Z"
   },
   {
    "duration": 83,
    "start_time": "2022-05-19T02:38:20.004Z"
   },
   {
    "duration": 112,
    "start_time": "2022-05-19T02:38:20.175Z"
   },
   {
    "duration": 134,
    "start_time": "2022-05-19T02:38:20.292Z"
   },
   {
    "duration": 5,
    "start_time": "2022-05-19T02:38:20.503Z"
   },
   {
    "duration": 106,
    "start_time": "2022-05-19T02:38:20.512Z"
   },
   {
    "duration": 9,
    "start_time": "2022-05-19T02:38:20.620Z"
   },
   {
    "duration": 12,
    "start_time": "2022-05-19T02:38:20.631Z"
   },
   {
    "duration": 7,
    "start_time": "2022-05-19T02:38:20.645Z"
   },
   {
    "duration": 18,
    "start_time": "2022-05-19T02:38:40.898Z"
   },
   {
    "duration": 119,
    "start_time": "2022-05-19T02:39:00.495Z"
   },
   {
    "duration": 2,
    "start_time": "2022-05-19T02:40:38.767Z"
   },
   {
    "duration": 12,
    "start_time": "2022-05-19T02:40:41.060Z"
   },
   {
    "duration": 5,
    "start_time": "2022-05-19T02:41:48.901Z"
   },
   {
    "duration": 8,
    "start_time": "2022-05-19T02:41:52.362Z"
   },
   {
    "duration": 3,
    "start_time": "2022-05-19T02:41:59.942Z"
   },
   {
    "duration": 9,
    "start_time": "2022-05-19T02:42:15.104Z"
   },
   {
    "duration": 11,
    "start_time": "2022-05-19T02:42:18.031Z"
   },
   {
    "duration": 5,
    "start_time": "2022-05-19T02:42:42.740Z"
   },
   {
    "duration": 9,
    "start_time": "2022-05-19T02:42:44.118Z"
   },
   {
    "duration": 3,
    "start_time": "2022-05-19T02:42:59.140Z"
   },
   {
    "duration": 4,
    "start_time": "2022-05-19T02:43:08.323Z"
   },
   {
    "duration": 21,
    "start_time": "2022-05-19T02:43:09.802Z"
   },
   {
    "duration": 4,
    "start_time": "2022-05-19T02:43:18.799Z"
   },
   {
    "duration": 28,
    "start_time": "2022-05-19T02:43:21.291Z"
   },
   {
    "duration": 12,
    "start_time": "2022-05-19T02:43:36.797Z"
   },
   {
    "duration": 19,
    "start_time": "2022-05-19T02:43:49.461Z"
   },
   {
    "duration": 4,
    "start_time": "2022-05-19T02:44:38.512Z"
   },
   {
    "duration": 930,
    "start_time": "2022-05-19T02:44:52.790Z"
   },
   {
    "duration": 445,
    "start_time": "2022-05-19T02:44:53.722Z"
   },
   {
    "duration": 84,
    "start_time": "2022-05-19T02:44:54.168Z"
   },
   {
    "duration": 42,
    "start_time": "2022-05-19T02:44:54.254Z"
   },
   {
    "duration": 8,
    "start_time": "2022-05-19T02:44:54.299Z"
   },
   {
    "duration": 100,
    "start_time": "2022-05-19T02:44:54.309Z"
   },
   {
    "duration": 169,
    "start_time": "2022-05-19T02:44:54.413Z"
   },
   {
    "duration": 142,
    "start_time": "2022-05-19T02:44:54.585Z"
   },
   {
    "duration": 142,
    "start_time": "2022-05-19T02:44:54.780Z"
   },
   {
    "duration": 9,
    "start_time": "2022-05-19T02:44:54.924Z"
   },
   {
    "duration": 6,
    "start_time": "2022-05-19T02:44:54.935Z"
   },
   {
    "duration": 5,
    "start_time": "2022-05-19T02:44:54.943Z"
   },
   {
    "duration": 8,
    "start_time": "2022-05-19T02:49:04.703Z"
   },
   {
    "duration": 4,
    "start_time": "2022-05-19T02:56:18.544Z"
   },
   {
    "duration": 255,
    "start_time": "2022-05-19T02:57:27.977Z"
   },
   {
    "duration": 13,
    "start_time": "2022-05-19T02:57:40.001Z"
   },
   {
    "duration": 67,
    "start_time": "2022-05-19T02:57:41.514Z"
   },
   {
    "duration": 4,
    "start_time": "2022-05-19T02:59:41.192Z"
   },
   {
    "duration": 38,
    "start_time": "2022-05-19T02:59:42.102Z"
   },
   {
    "duration": 18,
    "start_time": "2022-05-19T02:59:53.316Z"
   },
   {
    "duration": 55,
    "start_time": "2022-05-19T02:59:54.802Z"
   },
   {
    "duration": 8,
    "start_time": "2022-05-19T03:00:35.744Z"
   },
   {
    "duration": 6,
    "start_time": "2022-05-19T03:01:37.960Z"
   },
   {
    "duration": 45,
    "start_time": "2022-05-19T03:01:38.814Z"
   },
   {
    "duration": 1436,
    "start_time": "2022-05-19T03:03:59.909Z"
   },
   {
    "duration": 794,
    "start_time": "2022-05-19T03:04:01.347Z"
   },
   {
    "duration": 257,
    "start_time": "2022-05-19T03:04:02.147Z"
   },
   {
    "duration": 41,
    "start_time": "2022-05-19T03:04:02.407Z"
   },
   {
    "duration": 131,
    "start_time": "2022-05-19T03:04:02.450Z"
   },
   {
    "duration": 310,
    "start_time": "2022-05-19T03:04:02.583Z"
   },
   {
    "duration": 142,
    "start_time": "2022-05-19T03:04:02.920Z"
   },
   {
    "duration": 272,
    "start_time": "2022-05-19T03:04:03.068Z"
   },
   {
    "duration": 22,
    "start_time": "2022-05-19T03:04:03.359Z"
   },
   {
    "duration": 172,
    "start_time": "2022-05-19T03:04:03.384Z"
   },
   {
    "duration": 181,
    "start_time": "2022-05-19T03:04:03.559Z"
   },
   {
    "duration": 115,
    "start_time": "2022-05-19T03:04:03.743Z"
   },
   {
    "duration": 403,
    "start_time": "2022-05-19T03:04:03.861Z"
   },
   {
    "duration": 0,
    "start_time": "2022-05-19T03:04:04.266Z"
   },
   {
    "duration": 25,
    "start_time": "2022-05-19T03:04:45.035Z"
   },
   {
    "duration": 15,
    "start_time": "2022-05-19T03:04:49.113Z"
   },
   {
    "duration": 10,
    "start_time": "2022-05-19T03:04:54.326Z"
   },
   {
    "duration": 23,
    "start_time": "2022-05-19T03:06:38.195Z"
   },
   {
    "duration": 6,
    "start_time": "2022-05-19T03:07:20.334Z"
   },
   {
    "duration": 8,
    "start_time": "2022-05-19T03:07:23.189Z"
   },
   {
    "duration": 37,
    "start_time": "2022-05-19T03:08:00.073Z"
   },
   {
    "duration": 13,
    "start_time": "2022-05-19T03:08:04.542Z"
   },
   {
    "duration": 7,
    "start_time": "2022-05-19T03:08:10.144Z"
   },
   {
    "duration": 16,
    "start_time": "2022-05-19T03:08:16.152Z"
   },
   {
    "duration": 21,
    "start_time": "2022-05-19T03:08:26.213Z"
   },
   {
    "duration": 9,
    "start_time": "2022-05-19T03:08:36.224Z"
   },
   {
    "duration": 10,
    "start_time": "2022-05-19T03:09:09.486Z"
   },
   {
    "duration": 8,
    "start_time": "2022-05-19T03:09:11.026Z"
   },
   {
    "duration": 640,
    "start_time": "2022-05-19T03:09:11.744Z"
   },
   {
    "duration": 17,
    "start_time": "2022-05-19T03:11:30.762Z"
   },
   {
    "duration": 22,
    "start_time": "2022-05-19T03:11:38.462Z"
   },
   {
    "duration": 4,
    "start_time": "2022-05-19T03:14:32.956Z"
   },
   {
    "duration": 947,
    "start_time": "2022-05-19T03:16:04.100Z"
   },
   {
    "duration": 447,
    "start_time": "2022-05-19T03:16:05.049Z"
   },
   {
    "duration": 100,
    "start_time": "2022-05-19T03:16:05.498Z"
   },
   {
    "duration": 31,
    "start_time": "2022-05-19T03:16:05.599Z"
   },
   {
    "duration": 5,
    "start_time": "2022-05-19T03:16:05.632Z"
   },
   {
    "duration": 83,
    "start_time": "2022-05-19T03:16:05.639Z"
   },
   {
    "duration": 208,
    "start_time": "2022-05-19T03:16:05.725Z"
   },
   {
    "duration": 135,
    "start_time": "2022-05-19T03:16:05.991Z"
   },
   {
    "duration": 7,
    "start_time": "2022-05-19T03:16:06.137Z"
   },
   {
    "duration": 91,
    "start_time": "2022-05-19T03:16:06.186Z"
   },
   {
    "duration": 55,
    "start_time": "2022-05-19T03:16:06.278Z"
   },
   {
    "duration": 25,
    "start_time": "2022-05-19T03:16:06.335Z"
   },
   {
    "duration": 154,
    "start_time": "2022-05-19T03:33:27.610Z"
   },
   {
    "duration": 16,
    "start_time": "2022-05-19T03:38:14.777Z"
   },
   {
    "duration": 1057,
    "start_time": "2022-05-19T03:38:37.024Z"
   },
   {
    "duration": 472,
    "start_time": "2022-05-19T03:38:38.083Z"
   },
   {
    "duration": 100,
    "start_time": "2022-05-19T03:38:38.557Z"
   },
   {
    "duration": 25,
    "start_time": "2022-05-19T03:38:38.659Z"
   },
   {
    "duration": 5,
    "start_time": "2022-05-19T03:38:38.687Z"
   },
   {
    "duration": 93,
    "start_time": "2022-05-19T03:38:38.695Z"
   },
   {
    "duration": 137,
    "start_time": "2022-05-19T03:38:38.794Z"
   },
   {
    "duration": 177,
    "start_time": "2022-05-19T03:38:38.934Z"
   },
   {
    "duration": 79,
    "start_time": "2022-05-19T03:38:39.114Z"
   },
   {
    "duration": 56,
    "start_time": "2022-05-19T03:38:39.195Z"
   },
   {
    "duration": 11,
    "start_time": "2022-05-19T03:38:39.254Z"
   },
   {
    "duration": 52,
    "start_time": "2022-05-19T03:38:39.267Z"
   },
   {
    "duration": 149,
    "start_time": "2022-05-19T03:38:39.321Z"
   },
   {
    "duration": 1,
    "start_time": "2022-05-19T03:38:39.472Z"
   },
   {
    "duration": 13,
    "start_time": "2022-05-19T03:39:35.946Z"
   },
   {
    "duration": 13,
    "start_time": "2022-05-19T03:39:38.873Z"
   },
   {
    "duration": 978,
    "start_time": "2022-05-19T03:40:42.591Z"
   },
   {
    "duration": 411,
    "start_time": "2022-05-19T03:40:43.571Z"
   },
   {
    "duration": 69,
    "start_time": "2022-05-19T03:40:43.992Z"
   },
   {
    "duration": 31,
    "start_time": "2022-05-19T03:40:44.063Z"
   },
   {
    "duration": 9,
    "start_time": "2022-05-19T03:40:44.097Z"
   },
   {
    "duration": 70,
    "start_time": "2022-05-19T03:40:44.108Z"
   },
   {
    "duration": 124,
    "start_time": "2022-05-19T03:40:44.180Z"
   },
   {
    "duration": 271,
    "start_time": "2022-05-19T03:40:44.307Z"
   },
   {
    "duration": 98,
    "start_time": "2022-05-19T03:40:44.580Z"
   },
   {
    "duration": 17,
    "start_time": "2022-05-19T03:40:44.683Z"
   },
   {
    "duration": 5,
    "start_time": "2022-05-19T03:40:44.701Z"
   },
   {
    "duration": 6,
    "start_time": "2022-05-19T03:40:44.708Z"
   },
   {
    "duration": 162,
    "start_time": "2022-05-19T03:40:44.716Z"
   },
   {
    "duration": 0,
    "start_time": "2022-05-19T03:40:44.885Z"
   },
   {
    "duration": 0,
    "start_time": "2022-05-19T03:40:44.886Z"
   },
   {
    "duration": 0,
    "start_time": "2022-05-19T03:40:44.887Z"
   },
   {
    "duration": 5,
    "start_time": "2022-05-19T03:40:59.208Z"
   },
   {
    "duration": 11,
    "start_time": "2022-05-19T03:41:19.774Z"
   },
   {
    "duration": 33,
    "start_time": "2022-05-19T03:43:47.118Z"
   },
   {
    "duration": 10,
    "start_time": "2022-05-19T03:44:53.284Z"
   },
   {
    "duration": 10,
    "start_time": "2022-05-19T03:45:23.901Z"
   },
   {
    "duration": 8,
    "start_time": "2022-05-19T03:45:36.413Z"
   },
   {
    "duration": 11,
    "start_time": "2022-05-19T03:45:40.374Z"
   },
   {
    "duration": 8,
    "start_time": "2022-05-19T03:45:42.114Z"
   },
   {
    "duration": 28,
    "start_time": "2022-05-19T03:46:52.452Z"
   },
   {
    "duration": 3,
    "start_time": "2022-05-19T03:47:14.252Z"
   },
   {
    "duration": 2808,
    "start_time": "2022-05-19T03:47:16.358Z"
   },
   {
    "duration": 552,
    "start_time": "2022-05-19T03:47:21.837Z"
   },
   {
    "duration": 182,
    "start_time": "2022-05-19T03:47:50.325Z"
   },
   {
    "duration": 206,
    "start_time": "2022-05-19T03:47:57.059Z"
   },
   {
    "duration": 236,
    "start_time": "2022-05-19T03:48:01.590Z"
   },
   {
    "duration": 253,
    "start_time": "2022-05-19T03:48:06.410Z"
   },
   {
    "duration": 204,
    "start_time": "2022-05-19T03:48:11.452Z"
   },
   {
    "duration": 217,
    "start_time": "2022-05-19T03:48:41.436Z"
   },
   {
    "duration": 14,
    "start_time": "2022-05-19T03:49:38.544Z"
   },
   {
    "duration": 8,
    "start_time": "2022-05-19T03:50:53.656Z"
   },
   {
    "duration": 228,
    "start_time": "2022-05-19T03:50:57.602Z"
   },
   {
    "duration": 30,
    "start_time": "2022-05-19T03:52:02.006Z"
   },
   {
    "duration": 207,
    "start_time": "2022-05-19T03:52:08.893Z"
   },
   {
    "duration": 201,
    "start_time": "2022-05-19T03:52:25.606Z"
   },
   {
    "duration": 227,
    "start_time": "2022-05-19T03:53:40.239Z"
   },
   {
    "duration": 14,
    "start_time": "2022-05-19T03:54:07.502Z"
   },
   {
    "duration": 3,
    "start_time": "2022-05-19T03:54:08.554Z"
   },
   {
    "duration": 308,
    "start_time": "2022-05-19T03:54:14.641Z"
   },
   {
    "duration": 211,
    "start_time": "2022-05-19T03:54:33.113Z"
   },
   {
    "duration": 220,
    "start_time": "2022-05-19T03:54:53.118Z"
   },
   {
    "duration": 151,
    "start_time": "2022-05-19T03:55:07.506Z"
   },
   {
    "duration": 182,
    "start_time": "2022-05-19T03:55:11.037Z"
   },
   {
    "duration": 12,
    "start_time": "2022-05-19T03:57:33.515Z"
   },
   {
    "duration": 19,
    "start_time": "2022-05-19T03:57:41.924Z"
   },
   {
    "duration": 8,
    "start_time": "2022-05-19T03:57:50.841Z"
   },
   {
    "duration": 7,
    "start_time": "2022-05-19T03:57:58.866Z"
   },
   {
    "duration": 38,
    "start_time": "2022-05-19T03:58:07.002Z"
   },
   {
    "duration": 14,
    "start_time": "2022-05-19T03:58:12.369Z"
   },
   {
    "duration": 12,
    "start_time": "2022-05-19T03:58:31.220Z"
   },
   {
    "duration": 18,
    "start_time": "2022-05-19T03:58:39.273Z"
   },
   {
    "duration": 16,
    "start_time": "2022-05-19T03:58:44.989Z"
   },
   {
    "duration": 15,
    "start_time": "2022-05-19T03:58:48.763Z"
   },
   {
    "duration": 9,
    "start_time": "2022-05-19T03:58:55.861Z"
   },
   {
    "duration": 26,
    "start_time": "2022-05-19T03:59:03.371Z"
   },
   {
    "duration": 15,
    "start_time": "2022-05-19T03:59:07.902Z"
   },
   {
    "duration": 151,
    "start_time": "2022-05-19T03:59:19.200Z"
   },
   {
    "duration": 220,
    "start_time": "2022-05-19T03:59:22.797Z"
   },
   {
    "duration": 102,
    "start_time": "2022-05-19T08:50:54.308Z"
   },
   {
    "duration": 0,
    "start_time": "2022-05-19T08:52:43.982Z"
   },
   {
    "duration": 0,
    "start_time": "2022-05-19T08:52:49.537Z"
   },
   {
    "duration": 0,
    "start_time": "2022-05-19T08:52:49.538Z"
   },
   {
    "duration": 0,
    "start_time": "2022-05-19T08:52:49.539Z"
   },
   {
    "duration": 0,
    "start_time": "2022-05-19T08:52:49.540Z"
   },
   {
    "duration": 0,
    "start_time": "2022-05-19T08:52:49.541Z"
   },
   {
    "duration": 0,
    "start_time": "2022-05-19T08:52:49.542Z"
   },
   {
    "duration": 0,
    "start_time": "2022-05-19T08:52:49.542Z"
   },
   {
    "duration": 0,
    "start_time": "2022-05-19T08:52:49.543Z"
   },
   {
    "duration": 0,
    "start_time": "2022-05-19T08:52:49.544Z"
   },
   {
    "duration": 0,
    "start_time": "2022-05-19T08:52:49.545Z"
   },
   {
    "duration": 0,
    "start_time": "2022-05-19T08:52:49.546Z"
   },
   {
    "duration": 0,
    "start_time": "2022-05-19T08:52:49.547Z"
   },
   {
    "duration": 0,
    "start_time": "2022-05-19T08:52:49.548Z"
   },
   {
    "duration": 0,
    "start_time": "2022-05-19T08:52:49.549Z"
   },
   {
    "duration": 0,
    "start_time": "2022-05-19T08:52:49.550Z"
   },
   {
    "duration": 0,
    "start_time": "2022-05-19T08:52:49.551Z"
   },
   {
    "duration": 0,
    "start_time": "2022-05-19T08:52:49.552Z"
   },
   {
    "duration": 980,
    "start_time": "2022-05-19T08:53:55.106Z"
   },
   {
    "duration": 353,
    "start_time": "2022-05-19T08:53:56.088Z"
   },
   {
    "duration": 15,
    "start_time": "2022-05-19T08:53:56.443Z"
   },
   {
    "duration": 15,
    "start_time": "2022-05-19T08:53:56.460Z"
   },
   {
    "duration": 3,
    "start_time": "2022-05-19T08:53:56.477Z"
   },
   {
    "duration": 64,
    "start_time": "2022-05-19T08:53:56.482Z"
   },
   {
    "duration": 264,
    "start_time": "2022-05-19T08:53:56.548Z"
   },
   {
    "duration": 119,
    "start_time": "2022-05-19T08:53:56.814Z"
   },
   {
    "duration": 3,
    "start_time": "2022-05-19T08:53:56.935Z"
   },
   {
    "duration": 82,
    "start_time": "2022-05-19T08:53:56.939Z"
   },
   {
    "duration": 97,
    "start_time": "2022-05-19T08:53:57.023Z"
   },
   {
    "duration": 6,
    "start_time": "2022-05-19T08:53:57.122Z"
   },
   {
    "duration": 1851,
    "start_time": "2022-05-19T08:53:57.130Z"
   },
   {
    "duration": 7,
    "start_time": "2022-05-19T08:53:58.984Z"
   },
   {
    "duration": 130,
    "start_time": "2022-05-19T08:53:58.992Z"
   },
   {
    "duration": 0,
    "start_time": "2022-05-19T08:53:59.123Z"
   },
   {
    "duration": 0,
    "start_time": "2022-05-19T08:53:59.124Z"
   },
   {
    "duration": 10,
    "start_time": "2022-05-19T08:54:22.481Z"
   },
   {
    "duration": 9,
    "start_time": "2022-05-19T08:54:49.056Z"
   },
   {
    "duration": 8,
    "start_time": "2022-05-19T08:54:57.536Z"
   },
   {
    "duration": 9,
    "start_time": "2022-05-19T08:55:09.089Z"
   },
   {
    "duration": 11,
    "start_time": "2022-05-19T08:55:28.867Z"
   },
   {
    "duration": 534,
    "start_time": "2022-05-19T08:55:34.669Z"
   },
   {
    "duration": 8,
    "start_time": "2022-05-19T08:55:37.567Z"
   },
   {
    "duration": 9,
    "start_time": "2022-05-19T08:56:11.046Z"
   },
   {
    "duration": 5,
    "start_time": "2022-05-19T08:56:24.581Z"
   },
   {
    "duration": 40,
    "start_time": "2022-05-19T08:56:35.589Z"
   },
   {
    "duration": 5,
    "start_time": "2022-05-19T08:56:40.848Z"
   },
   {
    "duration": 35,
    "start_time": "2022-05-19T08:56:48.951Z"
   },
   {
    "duration": 5,
    "start_time": "2022-05-19T08:56:53.270Z"
   },
   {
    "duration": 4,
    "start_time": "2022-05-19T08:57:16.914Z"
   },
   {
    "duration": 10,
    "start_time": "2022-05-19T09:03:34.177Z"
   },
   {
    "duration": 5,
    "start_time": "2022-05-19T09:04:42.544Z"
   },
   {
    "duration": 6,
    "start_time": "2022-05-19T09:05:22.381Z"
   },
   {
    "duration": 46,
    "start_time": "2022-05-19T09:06:49.944Z"
   },
   {
    "duration": 62,
    "start_time": "2022-05-19T09:07:15.113Z"
   },
   {
    "duration": 40,
    "start_time": "2022-05-19T09:07:33.419Z"
   },
   {
    "duration": 4,
    "start_time": "2022-05-19T09:07:52.397Z"
   },
   {
    "duration": 10,
    "start_time": "2022-05-19T09:09:40.921Z"
   },
   {
    "duration": 10,
    "start_time": "2022-05-19T09:09:43.186Z"
   },
   {
    "duration": 1920,
    "start_time": "2022-05-19T09:10:22.178Z"
   },
   {
    "duration": 10,
    "start_time": "2022-05-19T09:10:27.542Z"
   },
   {
    "duration": 1012,
    "start_time": "2022-05-19T09:11:27.494Z"
   },
   {
    "duration": 365,
    "start_time": "2022-05-19T09:11:28.508Z"
   },
   {
    "duration": 18,
    "start_time": "2022-05-19T09:11:28.875Z"
   },
   {
    "duration": 25,
    "start_time": "2022-05-19T09:11:28.895Z"
   },
   {
    "duration": 4,
    "start_time": "2022-05-19T09:11:28.922Z"
   },
   {
    "duration": 87,
    "start_time": "2022-05-19T09:11:28.928Z"
   },
   {
    "duration": 198,
    "start_time": "2022-05-19T09:11:29.018Z"
   },
   {
    "duration": 196,
    "start_time": "2022-05-19T09:11:29.219Z"
   },
   {
    "duration": 3,
    "start_time": "2022-05-19T09:11:29.418Z"
   },
   {
    "duration": 93,
    "start_time": "2022-05-19T09:11:29.424Z"
   },
   {
    "duration": 6,
    "start_time": "2022-05-19T09:11:29.519Z"
   },
   {
    "duration": 10,
    "start_time": "2022-05-19T09:11:29.527Z"
   },
   {
    "duration": 1974,
    "start_time": "2022-05-19T09:11:29.539Z"
   },
   {
    "duration": 15,
    "start_time": "2022-05-19T09:11:31.516Z"
   },
   {
    "duration": 2089,
    "start_time": "2022-05-19T09:11:31.533Z"
   },
   {
    "duration": 12,
    "start_time": "2022-05-19T09:11:33.624Z"
   },
   {
    "duration": 1879,
    "start_time": "2022-05-19T09:11:33.638Z"
   },
   {
    "duration": 10,
    "start_time": "2022-05-19T09:11:35.519Z"
   },
   {
    "duration": 2146,
    "start_time": "2022-05-19T09:11:56.149Z"
   },
   {
    "duration": 9,
    "start_time": "2022-05-19T09:11:59.342Z"
   },
   {
    "duration": 1067,
    "start_time": "2022-05-19T09:12:28.417Z"
   },
   {
    "duration": 365,
    "start_time": "2022-05-19T09:12:29.486Z"
   },
   {
    "duration": 24,
    "start_time": "2022-05-19T09:12:29.853Z"
   },
   {
    "duration": 36,
    "start_time": "2022-05-19T09:12:29.879Z"
   },
   {
    "duration": 11,
    "start_time": "2022-05-19T09:12:29.918Z"
   },
   {
    "duration": 82,
    "start_time": "2022-05-19T09:12:29.931Z"
   },
   {
    "duration": 119,
    "start_time": "2022-05-19T09:12:30.021Z"
   },
   {
    "duration": 200,
    "start_time": "2022-05-19T09:12:30.212Z"
   },
   {
    "duration": 4,
    "start_time": "2022-05-19T09:12:30.414Z"
   },
   {
    "duration": 101,
    "start_time": "2022-05-19T09:12:30.421Z"
   },
   {
    "duration": 9,
    "start_time": "2022-05-19T09:12:30.524Z"
   },
   {
    "duration": 21,
    "start_time": "2022-05-19T09:12:30.534Z"
   },
   {
    "duration": 2078,
    "start_time": "2022-05-19T09:12:30.557Z"
   },
   {
    "duration": 10,
    "start_time": "2022-05-19T09:12:32.637Z"
   },
   {
    "duration": 1889,
    "start_time": "2022-05-19T09:12:32.649Z"
   },
   {
    "duration": 10,
    "start_time": "2022-05-19T09:12:34.540Z"
   },
   {
    "duration": 2117,
    "start_time": "2022-05-19T09:12:34.552Z"
   },
   {
    "duration": 11,
    "start_time": "2022-05-19T09:12:36.671Z"
   },
   {
    "duration": 1190,
    "start_time": "2022-05-19T09:14:36.769Z"
   },
   {
    "duration": 446,
    "start_time": "2022-05-19T09:14:37.961Z"
   },
   {
    "duration": 25,
    "start_time": "2022-05-19T09:14:38.409Z"
   },
   {
    "duration": 22,
    "start_time": "2022-05-19T09:14:38.437Z"
   },
   {
    "duration": 5,
    "start_time": "2022-05-19T09:14:38.461Z"
   },
   {
    "duration": 80,
    "start_time": "2022-05-19T09:14:38.468Z"
   },
   {
    "duration": 174,
    "start_time": "2022-05-19T09:14:38.550Z"
   },
   {
    "duration": 199,
    "start_time": "2022-05-19T09:14:38.727Z"
   },
   {
    "duration": 4,
    "start_time": "2022-05-19T09:14:38.928Z"
   },
   {
    "duration": 79,
    "start_time": "2022-05-19T09:14:38.935Z"
   },
   {
    "duration": 102,
    "start_time": "2022-05-19T09:14:39.017Z"
   },
   {
    "duration": 21,
    "start_time": "2022-05-19T09:14:39.121Z"
   },
   {
    "duration": 1961,
    "start_time": "2022-05-19T09:14:39.145Z"
   },
   {
    "duration": 9,
    "start_time": "2022-05-19T09:14:41.111Z"
   },
   {
    "duration": 2175,
    "start_time": "2022-05-19T09:14:41.122Z"
   },
   {
    "duration": 17,
    "start_time": "2022-05-19T09:14:43.299Z"
   },
   {
    "duration": 2063,
    "start_time": "2022-05-19T09:14:43.318Z"
   },
   {
    "duration": 11,
    "start_time": "2022-05-19T09:14:45.383Z"
   },
   {
    "duration": 1164,
    "start_time": "2022-05-20T06:04:03.678Z"
   },
   {
    "duration": 760,
    "start_time": "2022-05-20T06:04:04.845Z"
   },
   {
    "duration": 19,
    "start_time": "2022-05-20T06:04:05.607Z"
   },
   {
    "duration": 20,
    "start_time": "2022-05-20T06:04:05.628Z"
   },
   {
    "duration": 4,
    "start_time": "2022-05-20T06:04:05.650Z"
   },
   {
    "duration": 53,
    "start_time": "2022-05-20T06:04:05.656Z"
   },
   {
    "duration": 123,
    "start_time": "2022-05-20T06:04:05.794Z"
   },
   {
    "duration": 191,
    "start_time": "2022-05-20T06:04:05.920Z"
   },
   {
    "duration": 80,
    "start_time": "2022-05-20T06:04:06.114Z"
   },
   {
    "duration": 5,
    "start_time": "2022-05-20T06:04:06.198Z"
   },
   {
    "duration": 90,
    "start_time": "2022-05-20T06:04:06.206Z"
   },
   {
    "duration": 8,
    "start_time": "2022-05-20T06:04:06.299Z"
   },
   {
    "duration": 2003,
    "start_time": "2022-05-20T06:04:06.309Z"
   },
   {
    "duration": 9,
    "start_time": "2022-05-20T06:04:08.314Z"
   },
   {
    "duration": 1040,
    "start_time": "2022-05-20T12:52:13.225Z"
   },
   {
    "duration": 1752,
    "start_time": "2022-05-20T12:52:14.266Z"
   },
   {
    "duration": 22,
    "start_time": "2022-05-20T12:52:16.020Z"
   },
   {
    "duration": 16,
    "start_time": "2022-05-20T12:52:16.045Z"
   },
   {
    "duration": 4,
    "start_time": "2022-05-20T12:52:16.063Z"
   },
   {
    "duration": 138,
    "start_time": "2022-05-20T12:52:16.069Z"
   },
   {
    "duration": 192,
    "start_time": "2022-05-20T12:52:16.210Z"
   },
   {
    "duration": 123,
    "start_time": "2022-05-20T12:52:16.405Z"
   },
   {
    "duration": 69,
    "start_time": "2022-05-20T12:52:16.530Z"
   },
   {
    "duration": 11,
    "start_time": "2022-05-20T12:52:16.604Z"
   },
   {
    "duration": 83,
    "start_time": "2022-05-20T12:52:16.617Z"
   },
   {
    "duration": 17,
    "start_time": "2022-05-20T12:52:16.701Z"
   },
   {
    "duration": 1994,
    "start_time": "2022-05-20T12:52:16.720Z"
   },
   {
    "duration": 10,
    "start_time": "2022-05-20T12:52:18.716Z"
   },
   {
    "duration": 2061,
    "start_time": "2022-05-20T12:52:18.728Z"
   },
   {
    "duration": 16,
    "start_time": "2022-05-20T12:52:20.791Z"
   },
   {
    "duration": 1865,
    "start_time": "2022-05-20T12:52:20.810Z"
   },
   {
    "duration": 24,
    "start_time": "2022-05-20T12:52:22.676Z"
   },
   {
    "duration": 5,
    "start_time": "2022-05-20T12:53:01.840Z"
   },
   {
    "duration": 22,
    "start_time": "2022-05-20T12:53:24.389Z"
   },
   {
    "duration": 9,
    "start_time": "2022-05-20T12:53:41.041Z"
   },
   {
    "duration": 10,
    "start_time": "2022-05-20T12:53:56.916Z"
   },
   {
    "duration": 1862,
    "start_time": "2022-05-20T12:54:47.372Z"
   },
   {
    "duration": 9,
    "start_time": "2022-05-20T12:54:51.609Z"
   },
   {
    "duration": 1853,
    "start_time": "2022-05-20T12:54:58.330Z"
   },
   {
    "duration": 10,
    "start_time": "2022-05-20T12:55:02.253Z"
   },
   {
    "duration": 1953,
    "start_time": "2022-05-20T12:55:05.090Z"
   },
   {
    "duration": 12,
    "start_time": "2022-05-20T12:55:07.046Z"
   },
   {
    "duration": 1949,
    "start_time": "2022-05-20T12:55:11.453Z"
   },
   {
    "duration": 14,
    "start_time": "2022-05-20T12:55:14.492Z"
   },
   {
    "duration": 69,
    "start_time": "2022-05-20T12:56:25.171Z"
   },
   {
    "duration": 1026,
    "start_time": "2022-05-20T12:56:33.095Z"
   },
   {
    "duration": 426,
    "start_time": "2022-05-20T12:56:34.123Z"
   },
   {
    "duration": 20,
    "start_time": "2022-05-20T12:56:34.550Z"
   },
   {
    "duration": 34,
    "start_time": "2022-05-20T12:56:34.572Z"
   },
   {
    "duration": 10,
    "start_time": "2022-05-20T12:56:34.613Z"
   },
   {
    "duration": 82,
    "start_time": "2022-05-20T12:56:34.625Z"
   },
   {
    "duration": 187,
    "start_time": "2022-05-20T12:56:34.710Z"
   },
   {
    "duration": 130,
    "start_time": "2022-05-20T12:56:34.899Z"
   },
   {
    "duration": 68,
    "start_time": "2022-05-20T12:56:35.030Z"
   },
   {
    "duration": 4,
    "start_time": "2022-05-20T12:56:35.101Z"
   },
   {
    "duration": 109,
    "start_time": "2022-05-20T12:56:35.108Z"
   },
   {
    "duration": 19,
    "start_time": "2022-05-20T12:56:35.219Z"
   },
   {
    "duration": 1981,
    "start_time": "2022-05-20T12:56:35.240Z"
   },
   {
    "duration": 8,
    "start_time": "2022-05-20T12:56:37.223Z"
   },
   {
    "duration": 2001,
    "start_time": "2022-05-20T12:56:37.233Z"
   },
   {
    "duration": 8,
    "start_time": "2022-05-20T12:56:39.235Z"
   },
   {
    "duration": 1975,
    "start_time": "2022-05-20T12:56:39.245Z"
   },
   {
    "duration": 8,
    "start_time": "2022-05-20T12:56:41.222Z"
   }
  ],
  "kernelspec": {
   "display_name": "Python 3 (ipykernel)",
   "language": "python",
   "name": "python3"
  },
  "language_info": {
   "codemirror_mode": {
    "name": "ipython",
    "version": 3
   },
   "file_extension": ".py",
   "mimetype": "text/x-python",
   "name": "python",
   "nbconvert_exporter": "python",
   "pygments_lexer": "ipython3",
   "version": "3.9.10"
  },
  "toc": {
   "base_numbering": 1,
   "nav_menu": {},
   "number_sections": true,
   "sideBar": true,
   "skip_h1_title": true,
   "title_cell": "Table of Contents",
   "title_sidebar": "Contents",
   "toc_cell": false,
   "toc_position": {},
   "toc_section_display": true,
   "toc_window_display": false
  }
 },
 "nbformat": 4,
 "nbformat_minor": 2
}
