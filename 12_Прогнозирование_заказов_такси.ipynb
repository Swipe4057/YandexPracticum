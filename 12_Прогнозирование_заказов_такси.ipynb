{
 "cells": [
  {
   "cell_type": "markdown",
   "metadata": {
    "toc": true
   },
   "source": [
    "<h1>Содержание<span class=\"tocSkip\"></span></h1>\n",
    "<div class=\"toc\"><ul class=\"toc-item\"><li><span><a href=\"#Подготовка\" data-toc-modified-id=\"Подготовка-1\"><span class=\"toc-item-num\">1&nbsp;&nbsp;</span>Подготовка</a></span></li><li><span><a href=\"#Анализ\" data-toc-modified-id=\"Анализ-2\"><span class=\"toc-item-num\">2&nbsp;&nbsp;</span>Анализ</a></span></li><li><span><a href=\"#Обучение\" data-toc-modified-id=\"Обучение-3\"><span class=\"toc-item-num\">3&nbsp;&nbsp;</span>Обучение</a></span><ul class=\"toc-item\"><li><span><a href=\"#Линейная-регрессия\" data-toc-modified-id=\"Линейная-регрессия-3.1\"><span class=\"toc-item-num\">3.1&nbsp;&nbsp;</span>Линейная регрессия</a></span></li><li><span><a href=\"#Catboost\" data-toc-modified-id=\"Catboost-3.2\"><span class=\"toc-item-num\">3.2&nbsp;&nbsp;</span>Catboost</a></span></li></ul></li><li><span><a href=\"#Чек-лист-проверки\" data-toc-modified-id=\"Чек-лист-проверки-4\"><span class=\"toc-item-num\">4&nbsp;&nbsp;</span>Чек-лист проверки</a></span></li></ul></div>"
   ]
  },
  {
   "cell_type": "markdown",
   "metadata": {},
   "source": [
    "#  Прогнозирование заказов такси"
   ]
  },
  {
   "cell_type": "markdown",
   "metadata": {},
   "source": [
    "## Подготовка"
   ]
  },
  {
   "cell_type": "code",
   "execution_count": 2,
   "metadata": {},
   "outputs": [],
   "source": [
    "import pandas as pd\n",
    "import numpy as np\n",
    "\n",
    "from sklearn.model_selection import train_test_split, GridSearchCV, TimeSeriesSplit\n",
    "from sklearn.metrics import mean_squared_error\n",
    "\n",
    "from catboost import CatBoostRegressor\n",
    "from sklearn.linear_model import LinearRegression\n",
    "\n",
    "from statsmodels.tsa.seasonal import seasonal_decompose\n",
    "import matplotlib.pyplot as plt"
   ]
  },
  {
   "cell_type": "code",
   "execution_count": 3,
   "metadata": {},
   "outputs": [],
   "source": [
    "df = pd.read_csv('/datasets/taxi.csv', parse_dates=[0], index_col=[0])"
   ]
  },
  {
   "cell_type": "code",
   "execution_count": 4,
   "metadata": {},
   "outputs": [],
   "source": [
    "df.sort_index(inplace=True)"
   ]
  },
  {
   "cell_type": "code",
   "execution_count": 5,
   "metadata": {},
   "outputs": [],
   "source": [
    "df = df.resample('1H').sum()"
   ]
  },
  {
   "cell_type": "code",
   "execution_count": 7,
   "metadata": {},
   "outputs": [
    {
     "data": {
      "text/html": [
       "<div>\n",
       "<style scoped>\n",
       "    .dataframe tbody tr th:only-of-type {\n",
       "        vertical-align: middle;\n",
       "    }\n",
       "\n",
       "    .dataframe tbody tr th {\n",
       "        vertical-align: top;\n",
       "    }\n",
       "\n",
       "    .dataframe thead th {\n",
       "        text-align: right;\n",
       "    }\n",
       "</style>\n",
       "<table border=\"1\" class=\"dataframe\">\n",
       "  <thead>\n",
       "    <tr style=\"text-align: right;\">\n",
       "      <th></th>\n",
       "      <th>num_orders</th>\n",
       "    </tr>\n",
       "    <tr>\n",
       "      <th>datetime</th>\n",
       "      <th></th>\n",
       "    </tr>\n",
       "  </thead>\n",
       "  <tbody>\n",
       "    <tr>\n",
       "      <th>2018-03-01 00:00:00</th>\n",
       "      <td>124</td>\n",
       "    </tr>\n",
       "    <tr>\n",
       "      <th>2018-03-01 01:00:00</th>\n",
       "      <td>85</td>\n",
       "    </tr>\n",
       "    <tr>\n",
       "      <th>2018-03-01 02:00:00</th>\n",
       "      <td>71</td>\n",
       "    </tr>\n",
       "    <tr>\n",
       "      <th>2018-03-01 03:00:00</th>\n",
       "      <td>66</td>\n",
       "    </tr>\n",
       "    <tr>\n",
       "      <th>2018-03-01 04:00:00</th>\n",
       "      <td>43</td>\n",
       "    </tr>\n",
       "  </tbody>\n",
       "</table>\n",
       "</div>"
      ],
      "text/plain": [
       "                     num_orders\n",
       "datetime                       \n",
       "2018-03-01 00:00:00         124\n",
       "2018-03-01 01:00:00          85\n",
       "2018-03-01 02:00:00          71\n",
       "2018-03-01 03:00:00          66\n",
       "2018-03-01 04:00:00          43"
      ]
     },
     "execution_count": 7,
     "metadata": {},
     "output_type": "execute_result"
    }
   ],
   "source": [
    "df.head()"
   ]
  },
  {
   "cell_type": "code",
   "execution_count": 8,
   "metadata": {},
   "outputs": [
    {
     "name": "stdout",
     "output_type": "stream",
     "text": [
      "<class 'pandas.core.frame.DataFrame'>\n",
      "DatetimeIndex: 4416 entries, 2018-03-01 00:00:00 to 2018-08-31 23:00:00\n",
      "Freq: H\n",
      "Data columns (total 1 columns):\n",
      " #   Column      Non-Null Count  Dtype\n",
      "---  ------      --------------  -----\n",
      " 0   num_orders  4416 non-null   int64\n",
      "dtypes: int64(1)\n",
      "memory usage: 69.0 KB\n"
     ]
    }
   ],
   "source": [
    "df.info()"
   ]
  },
  {
   "cell_type": "markdown",
   "metadata": {},
   "source": [
    "Данные подготовлены."
   ]
  },
  {
   "cell_type": "markdown",
   "metadata": {},
   "source": [
    "## Анализ"
   ]
  },
  {
   "cell_type": "markdown",
   "metadata": {},
   "source": [
    "Выполним анализ временного ряда, для начала добавим новые признаки основанные на временном ряде:"
   ]
  },
  {
   "cell_type": "code",
   "execution_count": 9,
   "metadata": {},
   "outputs": [],
   "source": [
    "df['hour'] = df.index.hour\n",
    "df['day'] = df.index.day\n",
    "df['dayofweek'] = df.index.dayofweek\n",
    "df['month'] = df.index.month"
   ]
  },
  {
   "cell_type": "markdown",
   "metadata": {},
   "source": [
    "Полный график временного ряда:"
   ]
  },
  {
   "cell_type": "code",
   "execution_count": 10,
   "metadata": {
    "scrolled": false
   },
   "outputs": [
    {
     "data": {
      "text/plain": [
       "<AxesSubplot:xlabel='datetime'>"
      ]
     },
     "execution_count": 10,
     "metadata": {},
     "output_type": "execute_result"
    },
    {
     "data": {
      "image/png": "[encoded data removed]",
      "text/plain": [
       "<Figure size 1080x360 with 1 Axes>"
      ]
     },
     "metadata": {
      "needs_background": "light"
     },
     "output_type": "display_data"
    }
   ],
   "source": [
    "df['num_orders'].plot(figsize=[15,5], grid=True)"
   ]
  },
  {
   "cell_type": "markdown",
   "metadata": {},
   "source": [
    "Средний месячный график:"
   ]
  },
  {
   "cell_type": "code",
   "execution_count": 11,
   "metadata": {},
   "outputs": [
    {
     "data": {
      "text/plain": [
       "<AxesSubplot:xlabel='month'>"
      ]
     },
     "execution_count": 11,
     "metadata": {},
     "output_type": "execute_result"
    },
    {
     "data": {
      "image/png": "[encoded data removed]",
      "text/plain": [
       "<Figure size 1080x360 with 1 Axes>"
      ]
     },
     "metadata": {
      "needs_background": "light"
     },
     "output_type": "display_data"
    }
   ],
   "source": [
    "df.pivot_table(index = 'month', values='num_orders', aggfunc=['mean']).plot(figsize=[15,5] ,grid=True)"
   ]
  },
  {
   "cell_type": "markdown",
   "metadata": {},
   "source": [
    "На месячном графике виден растущий тренд, среднее число заказов такси растет от марта к августу, возможно это связано с летними месяцами и сезонами отпусков."
   ]
  },
  {
   "cell_type": "markdown",
   "metadata": {},
   "source": [
    "Средний недельный график:"
   ]
  },
  {
   "cell_type": "code",
   "execution_count": 12,
   "metadata": {},
   "outputs": [
    {
     "data": {
      "text/plain": [
       "<AxesSubplot:xlabel='dayofweek'>"
      ]
     },
     "execution_count": 12,
     "metadata": {},
     "output_type": "execute_result"
    },
    {
     "data": {
      "image/png": "[encoded data removed]",
      "text/plain": [
       "<Figure size 1080x360 with 1 Axes>"
      ]
     },
     "metadata": {
      "needs_background": "light"
     },
     "output_type": "display_data"
    }
   ],
   "source": [
    "df.pivot_table(index = 'dayofweek', values='num_orders', aggfunc=['mean']).plot(figsize=[15,5] ,grid=True)"
   ]
  },
  {
   "cell_type": "markdown",
   "metadata": {},
   "source": [
    "На недельном графике можно увидеть недельную закономерность: максимальное количество вызовов такси фиксируется в понедельник и пятницу (начало и конец рабочей недели)."
   ]
  },
  {
   "cell_type": "markdown",
   "metadata": {},
   "source": [
    "Средний дневной график:"
   ]
  },
  {
   "cell_type": "code",
   "execution_count": 13,
   "metadata": {},
   "outputs": [
    {
     "data": {
      "text/plain": [
       "<AxesSubplot:xlabel='day'>"
      ]
     },
     "execution_count": 13,
     "metadata": {},
     "output_type": "execute_result"
    },
    {
     "data": {
      "image/png": "[encoded data removed]",
      "text/plain": [
       "<Figure size 1080x360 with 1 Axes>"
      ]
     },
     "metadata": {
      "needs_background": "light"
     },
     "output_type": "display_data"
    }
   ],
   "source": [
    "df.pivot_table(index = 'day', values='num_orders', aggfunc=['mean']).plot(figsize=[15,5] ,grid=True)"
   ]
  },
  {
   "cell_type": "markdown",
   "metadata": {},
   "source": [
    "Из графика виден тренд на повышение заказов с течением времени, что аналогично показывает среднемесячный график - растущий тренд."
   ]
  },
  {
   "cell_type": "markdown",
   "metadata": {},
   "source": [
    "Средний часовой график:"
   ]
  },
  {
   "cell_type": "code",
   "execution_count": 14,
   "metadata": {},
   "outputs": [
    {
     "data": {
      "text/plain": [
       "<AxesSubplot:xlabel='hour'>"
      ]
     },
     "execution_count": 14,
     "metadata": {},
     "output_type": "execute_result"
    },
    {
     "data": {
      "image/png": "[encoded data removed]",
      "text/plain": [
       "<Figure size 1080x360 with 1 Axes>"
      ]
     },
     "metadata": {
      "needs_background": "light"
     },
     "output_type": "display_data"
    }
   ],
   "source": [
    "df.pivot_table(index = 'hour', values='num_orders', aggfunc=['mean']).plot(figsize=[15,5] ,grid=True)"
   ]
  },
  {
   "cell_type": "markdown",
   "metadata": {},
   "source": [
    "Из часового графика видна определенная закономерность, минимум заказов такси осуществляется приблезительно в 5 часов ночи, а далее число заказов начинает расти и достигает максимума в полночь."
   ]
  },
  {
   "cell_type": "markdown",
   "metadata": {},
   "source": [
    "Теперь разложим временной ряд на компоненты:"
   ]
  },
  {
   "cell_type": "code",
   "execution_count": 15,
   "metadata": {
    "scrolled": true
   },
   "outputs": [
    {
     "data": {
      "image/png": "[encoded data removed]",
      "text/plain": [
       "<Figure size 1080x1440 with 3 Axes>"
      ]
     },
     "metadata": {
      "needs_background": "light"
     },
     "output_type": "display_data"
    }
   ],
   "source": [
    "decomposed = seasonal_decompose(df['num_orders'])\n",
    "\n",
    "plt.figure(figsize=(15, 20))\n",
    "plt.subplot(311)\n",
    "decomposed.trend.plot(ax=plt.gca())\n",
    "plt.title('Тренд')\n",
    "plt.subplot(312)\n",
    "decomposed.seasonal.plot(ax=plt.gca()) \n",
    "plt.title('Сезонность')\n",
    "plt.subplot(313)\n",
    "decomposed.resid.plot(ax=plt.gca()) \n",
    "plt.title('Остаток')\n",
    "plt.tight_layout()"
   ]
  },
  {
   "cell_type": "markdown",
   "metadata": {},
   "source": [
    "Вывод: во временном ряде существует растущий тренд, а также существует несколько сезонностей: первая - в течении недели максимальное число заказов такси наблюдается в понедельник, во вторник наблюдается минимум заказов с последующим ростом к пятнице, в выходные опять спад заказов, с последующим максимумом в понедельник; вторая - в течении дня минимум заказов происходит в 5 утра, далее число плавно растет и достигает максимума к полночи, после чего идет спад заказов до 5 утра."
   ]
  },
  {
   "cell_type": "markdown",
   "metadata": {},
   "source": [
    "## Обучение"
   ]
  },
  {
   "cell_type": "markdown",
   "metadata": {},
   "source": [
    "### Линейная регрессия"
   ]
  },
  {
   "cell_type": "code",
   "execution_count": 16,
   "metadata": {},
   "outputs": [],
   "source": [
    "df = df.drop(['day', 'month'], axis=1)"
   ]
  },
  {
   "cell_type": "markdown",
   "metadata": {},
   "source": [
    "Ранее добавленные признаки \"День\" и \"Месяц\" удалим как не отражающие сезонность."
   ]
  },
  {
   "cell_type": "code",
   "execution_count": 17,
   "metadata": {},
   "outputs": [
    {
     "data": {
      "text/html": [
       "<div>\n",
       "<style scoped>\n",
       "    .dataframe tbody tr th:only-of-type {\n",
       "        vertical-align: middle;\n",
       "    }\n",
       "\n",
       "    .dataframe tbody tr th {\n",
       "        vertical-align: top;\n",
       "    }\n",
       "\n",
       "    .dataframe thead th {\n",
       "        text-align: right;\n",
       "    }\n",
       "</style>\n",
       "<table border=\"1\" class=\"dataframe\">\n",
       "  <thead>\n",
       "    <tr style=\"text-align: right;\">\n",
       "      <th></th>\n",
       "      <th>num_orders</th>\n",
       "      <th>hour</th>\n",
       "      <th>dayofweek</th>\n",
       "    </tr>\n",
       "    <tr>\n",
       "      <th>datetime</th>\n",
       "      <th></th>\n",
       "      <th></th>\n",
       "      <th></th>\n",
       "    </tr>\n",
       "  </thead>\n",
       "  <tbody>\n",
       "    <tr>\n",
       "      <th>2018-03-01 00:00:00</th>\n",
       "      <td>124</td>\n",
       "      <td>0</td>\n",
       "      <td>3</td>\n",
       "    </tr>\n",
       "    <tr>\n",
       "      <th>2018-03-01 01:00:00</th>\n",
       "      <td>85</td>\n",
       "      <td>1</td>\n",
       "      <td>3</td>\n",
       "    </tr>\n",
       "    <tr>\n",
       "      <th>2018-03-01 02:00:00</th>\n",
       "      <td>71</td>\n",
       "      <td>2</td>\n",
       "      <td>3</td>\n",
       "    </tr>\n",
       "    <tr>\n",
       "      <th>2018-03-01 03:00:00</th>\n",
       "      <td>66</td>\n",
       "      <td>3</td>\n",
       "      <td>3</td>\n",
       "    </tr>\n",
       "    <tr>\n",
       "      <th>2018-03-01 04:00:00</th>\n",
       "      <td>43</td>\n",
       "      <td>4</td>\n",
       "      <td>3</td>\n",
       "    </tr>\n",
       "  </tbody>\n",
       "</table>\n",
       "</div>"
      ],
      "text/plain": [
       "                     num_orders  hour  dayofweek\n",
       "datetime                                        \n",
       "2018-03-01 00:00:00         124     0          3\n",
       "2018-03-01 01:00:00          85     1          3\n",
       "2018-03-01 02:00:00          71     2          3\n",
       "2018-03-01 03:00:00          66     3          3\n",
       "2018-03-01 04:00:00          43     4          3"
      ]
     },
     "execution_count": 17,
     "metadata": {},
     "output_type": "execute_result"
    }
   ],
   "source": [
    "df.head()"
   ]
  },
  {
   "cell_type": "code",
   "execution_count": 18,
   "metadata": {},
   "outputs": [],
   "source": [
    "def make_features(df, max_lag, rolling_mean_size):\n",
    "    for lag in range(1, max_lag + 1):\n",
    "        df['lag_{}'.format(lag)] = df['num_orders'].shift(lag)\n",
    "\n",
    "    df['rolling_mean'] = df['num_orders'].shift().rolling(rolling_mean_size).mean()"
   ]
  },
  {
   "cell_type": "code",
   "execution_count": 19,
   "metadata": {},
   "outputs": [],
   "source": [
    "make_features(df, 24, 120)"
   ]
  },
  {
   "cell_type": "code",
   "execution_count": 20,
   "metadata": {},
   "outputs": [],
   "source": [
    "train, test = train_test_split(df, shuffle=False, test_size=0.1)\n",
    "train = train.dropna()"
   ]
  },
  {
   "cell_type": "code",
   "execution_count": 21,
   "metadata": {},
   "outputs": [],
   "source": [
    "train_features = train.drop(['num_orders'], axis=True)\n",
    "train_target = train['num_orders']\n",
    "test_features = test.drop(['num_orders'], axis=True)\n",
    "test_target = test['num_orders']"
   ]
  },
  {
   "cell_type": "code",
   "execution_count": 22,
   "metadata": {},
   "outputs": [],
   "source": [
    "model = LinearRegression()\n",
    "model.fit(train_features, train_target)\n",
    "predict_train = model.predict(train_features)\n",
    "predict_test = model.predict(test_features)"
   ]
  },
  {
   "cell_type": "code",
   "execution_count": 23,
   "metadata": {},
   "outputs": [
    {
     "name": "stdout",
     "output_type": "stream",
     "text": [
      "RMSE обучающей выборки: 25.77804648216871\n",
      "RMSE тестовой выборки:  44.74884002226531\n"
     ]
    }
   ],
   "source": [
    "print(\"RMSE обучающей выборки:\", mean_squared_error(predict_train, train_target)**0.5)\n",
    "print(\"RMSE тестовой выборки: \", mean_squared_error(predict_test, test_target)**0.5)"
   ]
  },
  {
   "cell_type": "markdown",
   "metadata": {},
   "source": [
    "### Catboost"
   ]
  },
  {
   "cell_type": "code",
   "execution_count": 24,
   "metadata": {},
   "outputs": [],
   "source": [
    "cat_features = ['hour', 'dayofweek']"
   ]
  },
  {
   "cell_type": "markdown",
   "metadata": {},
   "source": [
    "Найдем оптимальные гиперпараметры:"
   ]
  },
  {
   "cell_type": "code",
   "execution_count": null,
   "metadata": {},
   "outputs": [],
   "source": [
    "model = CatBoostRegressor()\n",
    "params = {\n",
    "    'max_depth' : [2, 5, 10],\n",
    "    'random_seed' : [12345],\n",
    "    'learning_rate' : [0.1],\n",
    "    'logging_level' : ['Silent'],\n",
    "    'eval_metric' : ['RMSE']\n",
    "}\n",
    "grid = GridSearchCV(estimator=model,\n",
    "                    param_grid=params, \n",
    "                               cv=TimeSeriesSplit(n_splits=5),\n",
    "                               scoring='neg_mean_squared_error')\n",
    "grid.fit(train_features, train_target,\n",
    "         cat_features=cat_features,\n",
    "         plot=False)"
   ]
  },
  {
   "cell_type": "code",
   "execution_count": null,
   "metadata": {},
   "outputs": [],
   "source": [
    "print('Лучшие гиперпараметры: ', grid.best_params_)"
   ]
  },
  {
   "cell_type": "code",
   "execution_count": null,
   "metadata": {},
   "outputs": [],
   "source": [
    "print('RMSE: {:.2f}'.format((-grid.best_score_)**0.5))"
   ]
  },
  {
   "cell_type": "markdown",
   "metadata": {},
   "source": [
    "Обучим модель с оптимальными гиперпараметрами:"
   ]
  },
  {
   "cell_type": "code",
   "execution_count": null,
   "metadata": {},
   "outputs": [],
   "source": [
    "model = CatBoostRegressor(max_depth = 5,\n",
    "                          random_seed=12345,\n",
    "                          learning_rate=0.1,\n",
    "                          logging_level='Silent')\n",
    "model.fit(train_features,\n",
    "          train_target,\n",
    "          cat_features=cat_features,\n",
    "          plot=False)\n",
    "pred_test = model.predict(test_features)"
   ]
  },
  {
   "cell_type": "code",
   "execution_count": null,
   "metadata": {},
   "outputs": [],
   "source": [
    "catboost_rmse = (mean_squared_error(pred_test, test_target))**0.5\n",
    "catboost_rmse"
   ]
  },
  {
   "cell_type": "code",
   "execution_count": null,
   "metadata": {},
   "outputs": [],
   "source": [
    "a=np.array(test_target, np.int32)\n",
    "b=np.array(pred_test, np.int32)\n",
    "\n",
    "plt.plot(a, color = 'red', label = 'Historical data')\n",
    "plt.plot(b, color = 'blue', label='Predicted data')\n",
    "plt.legend()\n",
    "plt.show()"
   ]
  },
  {
   "cell_type": "markdown",
   "metadata": {},
   "source": [
    "Вывод: лучший результат показала модель Catboost с результатом RMSE = 40,37 тестовой выборке."
   ]
  }
 ],
 "metadata": {
  "ExecuteTimeLog": [
   {
    "duration": 48,
    "start_time": "2022-07-09T18:23:13.535Z"
   },
   {
    "duration": 428,
    "start_time": "2022-07-09T18:23:16.807Z"
   },
   {
    "duration": 88,
    "start_time": "2022-07-09T18:23:17.237Z"
   },
   {
    "duration": 13,
    "start_time": "2022-07-09T18:23:22.435Z"
   },
   {
    "duration": 12,
    "start_time": "2022-07-09T18:25:12.057Z"
   },
   {
    "duration": 38,
    "start_time": "2022-07-09T18:25:27.761Z"
   },
   {
    "duration": 7,
    "start_time": "2022-07-09T18:25:27.937Z"
   },
   {
    "duration": 9,
    "start_time": "2022-07-09T18:25:28.136Z"
   },
   {
    "duration": 2,
    "start_time": "2022-07-09T18:26:33.967Z"
   },
   {
    "duration": 33,
    "start_time": "2022-07-09T18:26:34.147Z"
   },
   {
    "duration": 7,
    "start_time": "2022-07-09T18:26:34.343Z"
   },
   {
    "duration": 13,
    "start_time": "2022-07-09T18:26:34.487Z"
   },
   {
    "duration": 2,
    "start_time": "2022-07-09T18:26:41.095Z"
   },
   {
    "duration": 34,
    "start_time": "2022-07-09T18:26:41.219Z"
   },
   {
    "duration": 7,
    "start_time": "2022-07-09T18:26:41.437Z"
   },
   {
    "duration": 10,
    "start_time": "2022-07-09T18:26:41.588Z"
   },
   {
    "duration": 27,
    "start_time": "2022-07-09T18:26:59.135Z"
   },
   {
    "duration": 26,
    "start_time": "2022-07-09T18:27:14.358Z"
   },
   {
    "duration": 8,
    "start_time": "2022-07-09T18:27:14.543Z"
   },
   {
    "duration": 9,
    "start_time": "2022-07-09T18:27:14.720Z"
   },
   {
    "duration": 50,
    "start_time": "2022-07-09T18:27:23.768Z"
   },
   {
    "duration": 6,
    "start_time": "2022-07-09T18:27:23.935Z"
   },
   {
    "duration": 10,
    "start_time": "2022-07-09T18:27:24.077Z"
   },
   {
    "duration": 676,
    "start_time": "2022-07-09T18:30:02.275Z"
   },
   {
    "duration": 84,
    "start_time": "2022-07-09T18:30:02.953Z"
   },
   {
    "duration": 0,
    "start_time": "2022-07-09T18:30:03.038Z"
   },
   {
    "duration": 44,
    "start_time": "2022-07-09T18:30:10.513Z"
   },
   {
    "duration": 7,
    "start_time": "2022-07-09T18:30:10.690Z"
   },
   {
    "duration": 10,
    "start_time": "2022-07-09T18:30:10.874Z"
   },
   {
    "duration": 12,
    "start_time": "2022-07-09T18:30:31.954Z"
   },
   {
    "duration": 3,
    "start_time": "2022-07-09T18:32:39.313Z"
   },
   {
    "duration": 42,
    "start_time": "2022-07-09T18:32:39.542Z"
   },
   {
    "duration": 3,
    "start_time": "2022-07-09T18:32:39.680Z"
   },
   {
    "duration": 9,
    "start_time": "2022-07-09T18:32:39.904Z"
   },
   {
    "duration": 7,
    "start_time": "2022-07-09T18:32:40.104Z"
   },
   {
    "duration": 10,
    "start_time": "2022-07-09T18:32:40.293Z"
   },
   {
    "duration": 12,
    "start_time": "2022-07-09T18:32:55.637Z"
   },
   {
    "duration": 696,
    "start_time": "2022-07-09T18:33:04.257Z"
   },
   {
    "duration": 7,
    "start_time": "2022-07-09T18:37:20.323Z"
   },
   {
    "duration": 126,
    "start_time": "2022-07-09T18:37:25.755Z"
   },
   {
    "duration": 136,
    "start_time": "2022-07-09T18:38:16.495Z"
   },
   {
    "duration": 158,
    "start_time": "2022-07-09T18:38:22.490Z"
   },
   {
    "duration": 161,
    "start_time": "2022-07-09T18:38:31.636Z"
   },
   {
    "duration": 274,
    "start_time": "2022-07-09T18:38:49.996Z"
   },
   {
    "duration": 171,
    "start_time": "2022-07-09T18:40:15.554Z"
   },
   {
    "duration": 177,
    "start_time": "2022-07-09T18:40:21.714Z"
   },
   {
    "duration": 200,
    "start_time": "2022-07-09T18:40:29.054Z"
   },
   {
    "duration": 238,
    "start_time": "2022-07-09T18:40:33.285Z"
   },
   {
    "duration": 179,
    "start_time": "2022-07-09T18:40:37.556Z"
   },
   {
    "duration": 176,
    "start_time": "2022-07-09T18:40:41.973Z"
   },
   {
    "duration": 12,
    "start_time": "2022-07-09T18:41:44.041Z"
   },
   {
    "duration": 194,
    "start_time": "2022-07-09T18:43:14.164Z"
   },
   {
    "duration": 344,
    "start_time": "2022-07-09T18:43:25.435Z"
   },
   {
    "duration": 631,
    "start_time": "2022-07-09T18:43:42.194Z"
   },
   {
    "duration": 232,
    "start_time": "2022-07-09T18:43:47.357Z"
   },
   {
    "duration": 238,
    "start_time": "2022-07-09T18:43:51.949Z"
   },
   {
    "duration": 10,
    "start_time": "2022-07-09T18:46:40.639Z"
   },
   {
    "duration": 36,
    "start_time": "2022-07-09T18:47:00.585Z"
   },
   {
    "duration": 3,
    "start_time": "2022-07-09T18:47:00.728Z"
   },
   {
    "duration": 6,
    "start_time": "2022-07-09T18:47:00.936Z"
   },
   {
    "duration": 9,
    "start_time": "2022-07-09T18:47:01.112Z"
   },
   {
    "duration": 8,
    "start_time": "2022-07-09T18:47:01.347Z"
   },
   {
    "duration": 1086,
    "start_time": "2022-07-09T18:47:29.750Z"
   },
   {
    "duration": 37,
    "start_time": "2022-07-09T18:47:30.838Z"
   },
   {
    "duration": 3,
    "start_time": "2022-07-09T18:47:30.877Z"
   },
   {
    "duration": 32,
    "start_time": "2022-07-09T18:47:30.882Z"
   },
   {
    "duration": 12,
    "start_time": "2022-07-09T18:47:30.916Z"
   },
   {
    "duration": 16,
    "start_time": "2022-07-09T18:47:30.930Z"
   },
   {
    "duration": 17,
    "start_time": "2022-07-09T18:47:30.948Z"
   },
   {
    "duration": 962,
    "start_time": "2022-07-09T18:47:30.967Z"
   },
   {
    "duration": 23,
    "start_time": "2022-07-09T18:47:31.930Z"
   },
   {
    "duration": 438,
    "start_time": "2022-07-09T18:47:31.954Z"
   },
   {
    "duration": 3,
    "start_time": "2022-07-09T18:51:33.463Z"
   },
   {
    "duration": 33,
    "start_time": "2022-07-09T18:51:33.581Z"
   },
   {
    "duration": 7,
    "start_time": "2022-07-09T18:51:33.746Z"
   },
   {
    "duration": 2,
    "start_time": "2022-07-09T18:51:33.885Z"
   },
   {
    "duration": 16,
    "start_time": "2022-07-09T18:51:34.048Z"
   },
   {
    "duration": 10,
    "start_time": "2022-07-09T18:51:34.304Z"
   },
   {
    "duration": 12,
    "start_time": "2022-07-09T18:51:34.503Z"
   },
   {
    "duration": 12,
    "start_time": "2022-07-09T18:51:34.640Z"
   },
   {
    "duration": 674,
    "start_time": "2022-07-09T18:51:35.264Z"
   },
   {
    "duration": 21,
    "start_time": "2022-07-09T18:51:35.939Z"
   },
   {
    "duration": 435,
    "start_time": "2022-07-09T18:51:35.962Z"
   },
   {
    "duration": 5,
    "start_time": "2022-07-09T18:52:56.634Z"
   },
   {
    "duration": 36,
    "start_time": "2022-07-09T18:53:46.363Z"
   },
   {
    "duration": 7,
    "start_time": "2022-07-09T18:53:46.479Z"
   },
   {
    "duration": 28,
    "start_time": "2022-07-09T18:53:58.432Z"
   },
   {
    "duration": 8,
    "start_time": "2022-07-09T18:53:58.468Z"
   },
   {
    "duration": 117,
    "start_time": "2022-07-09T18:54:25.481Z"
   },
   {
    "duration": 32,
    "start_time": "2022-07-09T18:54:58.873Z"
   },
   {
    "duration": 8,
    "start_time": "2022-07-09T18:54:59.131Z"
   },
   {
    "duration": 10,
    "start_time": "2022-07-09T18:55:00.541Z"
   },
   {
    "duration": 39,
    "start_time": "2022-07-09T18:55:07.346Z"
   },
   {
    "duration": 8,
    "start_time": "2022-07-09T18:55:07.650Z"
   },
   {
    "duration": 10,
    "start_time": "2022-07-09T18:55:14.464Z"
   },
   {
    "duration": 7,
    "start_time": "2022-07-09T18:55:36.173Z"
   },
   {
    "duration": 9,
    "start_time": "2022-07-09T18:55:37.392Z"
   },
   {
    "duration": 3,
    "start_time": "2022-07-09T18:56:34.587Z"
   },
   {
    "duration": 34,
    "start_time": "2022-07-09T18:56:34.889Z"
   },
   {
    "duration": 3,
    "start_time": "2022-07-09T18:56:35.668Z"
   },
   {
    "duration": 6,
    "start_time": "2022-07-09T18:56:36.383Z"
   },
   {
    "duration": 9,
    "start_time": "2022-07-09T18:56:36.968Z"
   },
   {
    "duration": 8,
    "start_time": "2022-07-09T18:56:41.380Z"
   },
   {
    "duration": 8,
    "start_time": "2022-07-09T18:56:43.690Z"
   },
   {
    "duration": 12,
    "start_time": "2022-07-09T18:56:47.582Z"
   },
   {
    "duration": 23,
    "start_time": "2022-07-09T18:56:56.412Z"
   },
   {
    "duration": 1121,
    "start_time": "2022-07-09T18:58:56.513Z"
   },
   {
    "duration": 36,
    "start_time": "2022-07-09T18:58:57.636Z"
   },
   {
    "duration": 3,
    "start_time": "2022-07-09T18:58:57.673Z"
   },
   {
    "duration": 11,
    "start_time": "2022-07-09T18:58:57.677Z"
   },
   {
    "duration": 11,
    "start_time": "2022-07-09T18:58:57.690Z"
   },
   {
    "duration": 11,
    "start_time": "2022-07-09T18:58:57.702Z"
   },
   {
    "duration": 15,
    "start_time": "2022-07-09T18:58:57.715Z"
   },
   {
    "duration": 14,
    "start_time": "2022-07-09T18:58:57.731Z"
   },
   {
    "duration": 928,
    "start_time": "2022-07-09T18:58:57.747Z"
   },
   {
    "duration": 23,
    "start_time": "2022-07-09T18:58:58.677Z"
   },
   {
    "duration": 422,
    "start_time": "2022-07-09T18:58:58.702Z"
   },
   {
    "duration": 1075,
    "start_time": "2022-07-09T19:00:36.270Z"
   },
   {
    "duration": 48,
    "start_time": "2022-07-09T19:00:37.348Z"
   },
   {
    "duration": 3,
    "start_time": "2022-07-09T19:00:37.398Z"
   },
   {
    "duration": 14,
    "start_time": "2022-07-09T19:00:37.403Z"
   },
   {
    "duration": 11,
    "start_time": "2022-07-09T19:00:37.420Z"
   },
   {
    "duration": 14,
    "start_time": "2022-07-09T19:00:37.433Z"
   },
   {
    "duration": 12,
    "start_time": "2022-07-09T19:00:37.449Z"
   },
   {
    "duration": 426,
    "start_time": "2022-07-09T19:00:37.462Z"
   },
   {
    "duration": 23,
    "start_time": "2022-07-09T19:00:37.890Z"
   },
   {
    "duration": 241,
    "start_time": "2022-07-09T19:00:37.914Z"
   },
   {
    "duration": 194,
    "start_time": "2022-07-09T19:00:48.578Z"
   },
   {
    "duration": 258,
    "start_time": "2022-07-09T19:00:54.748Z"
   },
   {
    "duration": 192,
    "start_time": "2022-07-09T19:08:23.042Z"
   },
   {
    "duration": 135,
    "start_time": "2022-07-09T19:08:37.489Z"
   },
   {
    "duration": 199,
    "start_time": "2022-07-09T19:09:06.764Z"
   },
   {
    "duration": 201,
    "start_time": "2022-07-09T19:09:27.798Z"
   },
   {
    "duration": 98,
    "start_time": "2022-07-09T19:14:10.438Z"
   },
   {
    "duration": 128,
    "start_time": "2022-07-09T19:14:29.241Z"
   },
   {
    "duration": 691,
    "start_time": "2022-07-09T19:14:34.908Z"
   },
   {
    "duration": 753,
    "start_time": "2022-07-09T19:15:29.768Z"
   },
   {
    "duration": 857,
    "start_time": "2022-07-09T19:15:39.841Z"
   },
   {
    "duration": 546,
    "start_time": "2022-07-09T19:16:59.062Z"
   },
   {
    "duration": 938,
    "start_time": "2022-07-09T19:17:05.555Z"
   },
   {
    "duration": 19,
    "start_time": "2022-07-09T19:19:32.993Z"
   },
   {
    "duration": 15,
    "start_time": "2022-07-09T19:20:10.243Z"
   },
   {
    "duration": 8,
    "start_time": "2022-07-09T19:20:20.951Z"
   },
   {
    "duration": 13,
    "start_time": "2022-07-09T19:20:36.763Z"
   },
   {
    "duration": 15,
    "start_time": "2022-07-09T19:23:52.568Z"
   },
   {
    "duration": 148,
    "start_time": "2022-07-09T19:24:09.040Z"
   },
   {
    "duration": 166,
    "start_time": "2022-07-09T19:24:18.529Z"
   },
   {
    "duration": 166,
    "start_time": "2022-07-09T19:24:36.269Z"
   },
   {
    "duration": 1254,
    "start_time": "2022-07-09T19:25:11.349Z"
   },
   {
    "duration": 36,
    "start_time": "2022-07-09T19:25:12.605Z"
   },
   {
    "duration": 4,
    "start_time": "2022-07-09T19:25:12.642Z"
   },
   {
    "duration": 11,
    "start_time": "2022-07-09T19:25:12.648Z"
   },
   {
    "duration": 8,
    "start_time": "2022-07-09T19:25:12.660Z"
   },
   {
    "duration": 11,
    "start_time": "2022-07-09T19:25:12.669Z"
   },
   {
    "duration": 10,
    "start_time": "2022-07-09T19:25:12.682Z"
   },
   {
    "duration": 204,
    "start_time": "2022-07-09T19:25:12.693Z"
   },
   {
    "duration": 29,
    "start_time": "2022-07-09T19:25:12.898Z"
   },
   {
    "duration": 229,
    "start_time": "2022-07-09T19:25:12.929Z"
   },
   {
    "duration": 141,
    "start_time": "2022-07-09T19:25:13.160Z"
   },
   {
    "duration": 220,
    "start_time": "2022-07-09T19:25:13.303Z"
   },
   {
    "duration": 243,
    "start_time": "2022-07-09T19:25:13.525Z"
   },
   {
    "duration": 892,
    "start_time": "2022-07-09T19:25:13.769Z"
   },
   {
    "duration": 1726,
    "start_time": "2022-07-10T16:53:23.234Z"
   },
   {
    "duration": 86,
    "start_time": "2022-07-10T16:53:24.962Z"
   },
   {
    "duration": 2,
    "start_time": "2022-07-10T16:53:25.050Z"
   },
   {
    "duration": 14,
    "start_time": "2022-07-10T16:53:25.053Z"
   },
   {
    "duration": 7,
    "start_time": "2022-07-10T16:53:25.069Z"
   },
   {
    "duration": 12,
    "start_time": "2022-07-10T16:53:25.077Z"
   },
   {
    "duration": 10,
    "start_time": "2022-07-10T16:53:25.090Z"
   },
   {
    "duration": 182,
    "start_time": "2022-07-10T16:53:25.101Z"
   },
   {
    "duration": 21,
    "start_time": "2022-07-10T16:53:25.285Z"
   },
   {
    "duration": 214,
    "start_time": "2022-07-10T16:53:25.307Z"
   },
   {
    "duration": 133,
    "start_time": "2022-07-10T16:53:25.523Z"
   },
   {
    "duration": 221,
    "start_time": "2022-07-10T16:53:25.658Z"
   },
   {
    "duration": 876,
    "start_time": "2022-07-10T16:53:25.881Z"
   },
   {
    "duration": 863,
    "start_time": "2022-07-10T16:54:01.562Z"
   },
   {
    "duration": 1371,
    "start_time": "2022-07-10T17:06:13.832Z"
   },
   {
    "duration": 34,
    "start_time": "2022-07-10T17:06:15.205Z"
   },
   {
    "duration": 2,
    "start_time": "2022-07-10T17:06:15.241Z"
   },
   {
    "duration": 14,
    "start_time": "2022-07-10T17:06:15.245Z"
   },
   {
    "duration": 7,
    "start_time": "2022-07-10T17:06:15.261Z"
   },
   {
    "duration": 10,
    "start_time": "2022-07-10T17:06:15.270Z"
   },
   {
    "duration": 11,
    "start_time": "2022-07-10T17:06:15.281Z"
   },
   {
    "duration": 201,
    "start_time": "2022-07-10T17:06:15.293Z"
   },
   {
    "duration": 22,
    "start_time": "2022-07-10T17:06:15.496Z"
   },
   {
    "duration": 232,
    "start_time": "2022-07-10T17:06:15.520Z"
   },
   {
    "duration": 135,
    "start_time": "2022-07-10T17:06:15.753Z"
   },
   {
    "duration": 171,
    "start_time": "2022-07-10T17:06:15.889Z"
   },
   {
    "duration": 1035,
    "start_time": "2022-07-10T17:06:16.062Z"
   },
   {
    "duration": 4,
    "start_time": "2022-07-10T17:06:17.099Z"
   },
   {
    "duration": 10,
    "start_time": "2022-07-10T17:06:17.104Z"
   },
   {
    "duration": 95,
    "start_time": "2022-07-10T17:06:17.116Z"
   },
   {
    "duration": 0,
    "start_time": "2022-07-10T17:06:17.212Z"
   },
   {
    "duration": 0,
    "start_time": "2022-07-10T17:06:17.213Z"
   },
   {
    "duration": 0,
    "start_time": "2022-07-10T17:06:17.214Z"
   },
   {
    "duration": 0,
    "start_time": "2022-07-10T17:06:17.215Z"
   },
   {
    "duration": 5,
    "start_time": "2022-07-10T17:06:42.670Z"
   },
   {
    "duration": 6,
    "start_time": "2022-07-10T17:06:42.779Z"
   },
   {
    "duration": 19,
    "start_time": "2022-07-10T17:06:42.941Z"
   },
   {
    "duration": 13,
    "start_time": "2022-07-10T17:06:43.060Z"
   },
   {
    "duration": 9,
    "start_time": "2022-07-10T17:06:43.269Z"
   },
   {
    "duration": 1156,
    "start_time": "2022-07-10T17:07:10.192Z"
   },
   {
    "duration": 33,
    "start_time": "2022-07-10T17:07:11.350Z"
   },
   {
    "duration": 2,
    "start_time": "2022-07-10T17:07:11.385Z"
   },
   {
    "duration": 9,
    "start_time": "2022-07-10T17:07:11.389Z"
   },
   {
    "duration": 7,
    "start_time": "2022-07-10T17:07:11.399Z"
   },
   {
    "duration": 10,
    "start_time": "2022-07-10T17:07:11.407Z"
   },
   {
    "duration": 26,
    "start_time": "2022-07-10T17:07:11.418Z"
   },
   {
    "duration": 197,
    "start_time": "2022-07-10T17:07:11.446Z"
   },
   {
    "duration": 20,
    "start_time": "2022-07-10T17:07:11.644Z"
   },
   {
    "duration": 233,
    "start_time": "2022-07-10T17:07:11.666Z"
   },
   {
    "duration": 143,
    "start_time": "2022-07-10T17:07:11.900Z"
   },
   {
    "duration": 160,
    "start_time": "2022-07-10T17:07:12.045Z"
   },
   {
    "duration": 958,
    "start_time": "2022-07-10T17:07:12.207Z"
   },
   {
    "duration": 3,
    "start_time": "2022-07-10T17:07:13.167Z"
   },
   {
    "duration": 11,
    "start_time": "2022-07-10T17:07:13.172Z"
   },
   {
    "duration": 6,
    "start_time": "2022-07-10T17:07:13.184Z"
   },
   {
    "duration": 5,
    "start_time": "2022-07-10T17:07:13.192Z"
   },
   {
    "duration": 106,
    "start_time": "2022-07-10T17:07:13.198Z"
   },
   {
    "duration": 0,
    "start_time": "2022-07-10T17:07:13.306Z"
   },
   {
    "duration": 0,
    "start_time": "2022-07-10T17:07:13.307Z"
   },
   {
    "duration": 1248,
    "start_time": "2022-07-10T17:08:04.725Z"
   },
   {
    "duration": 33,
    "start_time": "2022-07-10T17:08:05.975Z"
   },
   {
    "duration": 2,
    "start_time": "2022-07-10T17:08:06.009Z"
   },
   {
    "duration": 11,
    "start_time": "2022-07-10T17:08:06.013Z"
   },
   {
    "duration": 7,
    "start_time": "2022-07-10T17:08:06.025Z"
   },
   {
    "duration": 15,
    "start_time": "2022-07-10T17:08:06.033Z"
   },
   {
    "duration": 9,
    "start_time": "2022-07-10T17:08:06.049Z"
   },
   {
    "duration": 186,
    "start_time": "2022-07-10T17:08:06.060Z"
   },
   {
    "duration": 21,
    "start_time": "2022-07-10T17:08:06.248Z"
   },
   {
    "duration": 216,
    "start_time": "2022-07-10T17:08:06.271Z"
   },
   {
    "duration": 142,
    "start_time": "2022-07-10T17:08:06.488Z"
   },
   {
    "duration": 172,
    "start_time": "2022-07-10T17:08:06.632Z"
   },
   {
    "duration": 939,
    "start_time": "2022-07-10T17:08:06.806Z"
   },
   {
    "duration": 3,
    "start_time": "2022-07-10T17:08:07.746Z"
   },
   {
    "duration": 12,
    "start_time": "2022-07-10T17:08:07.750Z"
   },
   {
    "duration": 10,
    "start_time": "2022-07-10T17:08:07.764Z"
   },
   {
    "duration": 5,
    "start_time": "2022-07-10T17:08:07.775Z"
   },
   {
    "duration": 16,
    "start_time": "2022-07-10T17:08:07.781Z"
   },
   {
    "duration": 45,
    "start_time": "2022-07-10T17:08:07.798Z"
   },
   {
    "duration": 5,
    "start_time": "2022-07-10T17:08:07.845Z"
   },
   {
    "duration": 1155,
    "start_time": "2022-07-10T17:08:58.068Z"
   },
   {
    "duration": 33,
    "start_time": "2022-07-10T17:08:59.225Z"
   },
   {
    "duration": 2,
    "start_time": "2022-07-10T17:08:59.260Z"
   },
   {
    "duration": 10,
    "start_time": "2022-07-10T17:08:59.264Z"
   },
   {
    "duration": 6,
    "start_time": "2022-07-10T17:08:59.276Z"
   },
   {
    "duration": 9,
    "start_time": "2022-07-10T17:08:59.284Z"
   },
   {
    "duration": 10,
    "start_time": "2022-07-10T17:08:59.294Z"
   },
   {
    "duration": 196,
    "start_time": "2022-07-10T17:08:59.305Z"
   },
   {
    "duration": 20,
    "start_time": "2022-07-10T17:08:59.502Z"
   },
   {
    "duration": 220,
    "start_time": "2022-07-10T17:08:59.523Z"
   },
   {
    "duration": 131,
    "start_time": "2022-07-10T17:08:59.744Z"
   },
   {
    "duration": 159,
    "start_time": "2022-07-10T17:08:59.877Z"
   },
   {
    "duration": 944,
    "start_time": "2022-07-10T17:09:00.037Z"
   },
   {
    "duration": 3,
    "start_time": "2022-07-10T17:09:00.984Z"
   },
   {
    "duration": 11,
    "start_time": "2022-07-10T17:09:00.989Z"
   },
   {
    "duration": 9,
    "start_time": "2022-07-10T17:09:01.001Z"
   },
   {
    "duration": 7,
    "start_time": "2022-07-10T17:09:01.011Z"
   },
   {
    "duration": 11,
    "start_time": "2022-07-10T17:09:01.019Z"
   },
   {
    "duration": 15,
    "start_time": "2022-07-10T17:09:01.032Z"
   },
   {
    "duration": 203,
    "start_time": "2022-07-10T17:09:01.049Z"
   },
   {
    "duration": 5,
    "start_time": "2022-07-10T17:09:40.206Z"
   },
   {
    "duration": 6,
    "start_time": "2022-07-10T17:09:41.006Z"
   },
   {
    "duration": 5,
    "start_time": "2022-07-10T17:09:41.126Z"
   },
   {
    "duration": 8,
    "start_time": "2022-07-10T17:09:41.316Z"
   },
   {
    "duration": 16,
    "start_time": "2022-07-10T17:09:41.486Z"
   },
   {
    "duration": 5,
    "start_time": "2022-07-10T17:09:41.644Z"
   },
   {
    "duration": 5,
    "start_time": "2022-07-10T17:09:47.715Z"
   },
   {
    "duration": 6,
    "start_time": "2022-07-10T17:09:47.856Z"
   },
   {
    "duration": 5,
    "start_time": "2022-07-10T17:09:48.086Z"
   },
   {
    "duration": 7,
    "start_time": "2022-07-10T17:09:48.314Z"
   },
   {
    "duration": 6,
    "start_time": "2022-07-10T17:09:48.438Z"
   },
   {
    "duration": 5,
    "start_time": "2022-07-10T17:09:48.643Z"
   },
   {
    "duration": 5,
    "start_time": "2022-07-10T17:09:55.248Z"
   },
   {
    "duration": 6,
    "start_time": "2022-07-10T17:09:55.417Z"
   },
   {
    "duration": 5,
    "start_time": "2022-07-10T17:09:55.594Z"
   },
   {
    "duration": 7,
    "start_time": "2022-07-10T17:09:55.745Z"
   },
   {
    "duration": 6,
    "start_time": "2022-07-10T17:09:55.915Z"
   },
   {
    "duration": 8,
    "start_time": "2022-07-10T17:09:56.043Z"
   },
   {
    "duration": 4,
    "start_time": "2022-07-10T17:10:00.287Z"
   },
   {
    "duration": 5,
    "start_time": "2022-07-10T17:10:00.517Z"
   },
   {
    "duration": 7,
    "start_time": "2022-07-10T17:10:00.617Z"
   },
   {
    "duration": 5,
    "start_time": "2022-07-10T17:10:00.734Z"
   },
   {
    "duration": 8,
    "start_time": "2022-07-10T17:10:00.875Z"
   },
   {
    "duration": 26,
    "start_time": "2022-07-10T17:10:01.017Z"
   },
   {
    "duration": 10,
    "start_time": "2022-07-10T17:10:01.142Z"
   },
   {
    "duration": 4,
    "start_time": "2022-07-10T17:10:07.556Z"
   },
   {
    "duration": 5,
    "start_time": "2022-07-10T17:10:07.708Z"
   },
   {
    "duration": 6,
    "start_time": "2022-07-10T17:10:07.827Z"
   },
   {
    "duration": 5,
    "start_time": "2022-07-10T17:10:07.986Z"
   },
   {
    "duration": 7,
    "start_time": "2022-07-10T17:10:08.098Z"
   },
   {
    "duration": 11,
    "start_time": "2022-07-10T17:10:08.256Z"
   },
   {
    "duration": 5,
    "start_time": "2022-07-10T17:10:08.443Z"
   },
   {
    "duration": 4,
    "start_time": "2022-07-10T17:10:15.786Z"
   },
   {
    "duration": 7,
    "start_time": "2022-07-10T17:10:15.895Z"
   },
   {
    "duration": 5,
    "start_time": "2022-07-10T17:10:16.039Z"
   },
   {
    "duration": 7,
    "start_time": "2022-07-10T17:10:16.207Z"
   },
   {
    "duration": 32,
    "start_time": "2022-07-10T17:10:16.314Z"
   },
   {
    "duration": 5,
    "start_time": "2022-07-10T17:10:16.460Z"
   },
   {
    "duration": 5,
    "start_time": "2022-07-10T17:10:30.367Z"
   },
   {
    "duration": 7,
    "start_time": "2022-07-10T17:10:30.481Z"
   },
   {
    "duration": 5,
    "start_time": "2022-07-10T17:10:30.636Z"
   },
   {
    "duration": 7,
    "start_time": "2022-07-10T17:10:30.807Z"
   },
   {
    "duration": 13,
    "start_time": "2022-07-10T17:10:30.936Z"
   },
   {
    "duration": 5,
    "start_time": "2022-07-10T17:10:31.143Z"
   },
   {
    "duration": 1269,
    "start_time": "2022-07-10T17:10:41.558Z"
   },
   {
    "duration": 32,
    "start_time": "2022-07-10T17:10:42.829Z"
   },
   {
    "duration": 2,
    "start_time": "2022-07-10T17:10:42.863Z"
   },
   {
    "duration": 9,
    "start_time": "2022-07-10T17:10:42.867Z"
   },
   {
    "duration": 8,
    "start_time": "2022-07-10T17:10:42.878Z"
   },
   {
    "duration": 10,
    "start_time": "2022-07-10T17:10:42.887Z"
   },
   {
    "duration": 11,
    "start_time": "2022-07-10T17:10:42.898Z"
   },
   {
    "duration": 197,
    "start_time": "2022-07-10T17:10:42.910Z"
   },
   {
    "duration": 22,
    "start_time": "2022-07-10T17:10:43.109Z"
   },
   {
    "duration": 224,
    "start_time": "2022-07-10T17:10:43.142Z"
   },
   {
    "duration": 137,
    "start_time": "2022-07-10T17:10:43.368Z"
   },
   {
    "duration": 173,
    "start_time": "2022-07-10T17:10:43.506Z"
   },
   {
    "duration": 1076,
    "start_time": "2022-07-10T17:10:43.681Z"
   },
   {
    "duration": 4,
    "start_time": "2022-07-10T17:10:44.760Z"
   },
   {
    "duration": 15,
    "start_time": "2022-07-10T17:10:44.766Z"
   },
   {
    "duration": 7,
    "start_time": "2022-07-10T17:10:44.783Z"
   },
   {
    "duration": 5,
    "start_time": "2022-07-10T17:10:44.792Z"
   },
   {
    "duration": 10,
    "start_time": "2022-07-10T17:10:44.798Z"
   },
   {
    "duration": 133,
    "start_time": "2022-07-10T17:10:44.809Z"
   },
   {
    "duration": 6,
    "start_time": "2022-07-10T17:10:44.944Z"
   },
   {
    "duration": 7,
    "start_time": "2022-07-10T17:10:51.969Z"
   },
   {
    "duration": 7,
    "start_time": "2022-07-10T17:10:52.090Z"
   },
   {
    "duration": 5,
    "start_time": "2022-07-10T17:10:52.236Z"
   },
   {
    "duration": 8,
    "start_time": "2022-07-10T17:10:52.388Z"
   },
   {
    "duration": 8,
    "start_time": "2022-07-10T17:10:52.558Z"
   },
   {
    "duration": 6,
    "start_time": "2022-07-10T17:10:52.742Z"
   },
   {
    "duration": 5,
    "start_time": "2022-07-10T17:10:57.087Z"
   },
   {
    "duration": 7,
    "start_time": "2022-07-10T17:10:57.217Z"
   },
   {
    "duration": 5,
    "start_time": "2022-07-10T17:10:57.446Z"
   },
   {
    "duration": 7,
    "start_time": "2022-07-10T17:10:57.589Z"
   },
   {
    "duration": 12,
    "start_time": "2022-07-10T17:10:57.767Z"
   },
   {
    "duration": 5,
    "start_time": "2022-07-10T17:10:57.943Z"
   },
   {
    "duration": 6,
    "start_time": "2022-07-10T17:11:05.686Z"
   },
   {
    "duration": 6,
    "start_time": "2022-07-10T17:11:05.849Z"
   },
   {
    "duration": 4,
    "start_time": "2022-07-10T17:11:06.027Z"
   },
   {
    "duration": 7,
    "start_time": "2022-07-10T17:11:06.151Z"
   },
   {
    "duration": 14,
    "start_time": "2022-07-10T17:11:06.329Z"
   },
   {
    "duration": 6,
    "start_time": "2022-07-10T17:11:06.543Z"
   },
   {
    "duration": 6,
    "start_time": "2022-07-10T17:12:21.727Z"
   },
   {
    "duration": 7,
    "start_time": "2022-07-10T17:12:21.867Z"
   },
   {
    "duration": 6,
    "start_time": "2022-07-10T17:12:22.025Z"
   },
   {
    "duration": 7,
    "start_time": "2022-07-10T17:12:22.140Z"
   },
   {
    "duration": 26,
    "start_time": "2022-07-10T17:12:22.319Z"
   },
   {
    "duration": 5,
    "start_time": "2022-07-10T17:12:22.587Z"
   },
   {
    "duration": 10,
    "start_time": "2022-07-10T17:12:27.378Z"
   },
   {
    "duration": 8,
    "start_time": "2022-07-10T17:12:27.514Z"
   },
   {
    "duration": 5,
    "start_time": "2022-07-10T17:12:27.707Z"
   },
   {
    "duration": 8,
    "start_time": "2022-07-10T17:12:27.839Z"
   },
   {
    "duration": 17,
    "start_time": "2022-07-10T17:12:28.027Z"
   },
   {
    "duration": 5,
    "start_time": "2022-07-10T17:12:28.242Z"
   },
   {
    "duration": 7,
    "start_time": "2022-07-10T17:12:32.787Z"
   },
   {
    "duration": 7,
    "start_time": "2022-07-10T17:12:32.936Z"
   },
   {
    "duration": 6,
    "start_time": "2022-07-10T17:12:33.125Z"
   },
   {
    "duration": 9,
    "start_time": "2022-07-10T17:12:33.317Z"
   },
   {
    "duration": 27,
    "start_time": "2022-07-10T17:12:33.426Z"
   },
   {
    "duration": 6,
    "start_time": "2022-07-10T17:12:33.696Z"
   },
   {
    "duration": 15,
    "start_time": "2022-07-10T17:12:42.087Z"
   },
   {
    "duration": 9,
    "start_time": "2022-07-10T17:12:42.228Z"
   },
   {
    "duration": 5,
    "start_time": "2022-07-10T17:12:42.377Z"
   },
   {
    "duration": 10,
    "start_time": "2022-07-10T17:12:42.560Z"
   },
   {
    "duration": 14,
    "start_time": "2022-07-10T17:12:42.743Z"
   },
   {
    "duration": 15,
    "start_time": "2022-07-10T17:12:47.491Z"
   },
   {
    "duration": 7,
    "start_time": "2022-07-10T17:12:47.867Z"
   },
   {
    "duration": 5,
    "start_time": "2022-07-10T17:12:48.288Z"
   },
   {
    "duration": 11,
    "start_time": "2022-07-10T17:12:48.457Z"
   },
   {
    "duration": 7,
    "start_time": "2022-07-10T17:12:48.663Z"
   },
   {
    "duration": 5,
    "start_time": "2022-07-10T17:12:50.088Z"
   },
   {
    "duration": 8,
    "start_time": "2022-07-10T17:13:12.662Z"
   },
   {
    "duration": 6,
    "start_time": "2022-07-10T17:13:12.859Z"
   },
   {
    "duration": 5,
    "start_time": "2022-07-10T17:13:12.997Z"
   },
   {
    "duration": 10,
    "start_time": "2022-07-10T17:13:13.166Z"
   },
   {
    "duration": 10,
    "start_time": "2022-07-10T17:13:13.343Z"
   },
   {
    "duration": 5,
    "start_time": "2022-07-10T17:13:13.543Z"
   },
   {
    "duration": 7,
    "start_time": "2022-07-10T17:13:28.488Z"
   },
   {
    "duration": 7,
    "start_time": "2022-07-10T17:13:29.087Z"
   },
   {
    "duration": 6,
    "start_time": "2022-07-10T17:13:29.479Z"
   },
   {
    "duration": 11,
    "start_time": "2022-07-10T17:13:29.744Z"
   },
   {
    "duration": 14,
    "start_time": "2022-07-10T17:13:29.977Z"
   },
   {
    "duration": 5,
    "start_time": "2022-07-10T17:13:30.545Z"
   },
   {
    "duration": 7,
    "start_time": "2022-07-10T17:13:36.449Z"
   },
   {
    "duration": 8,
    "start_time": "2022-07-10T17:13:36.630Z"
   },
   {
    "duration": 6,
    "start_time": "2022-07-10T17:13:36.867Z"
   },
   {
    "duration": 11,
    "start_time": "2022-07-10T17:13:37.066Z"
   },
   {
    "duration": 7,
    "start_time": "2022-07-10T17:13:37.289Z"
   },
   {
    "duration": 5,
    "start_time": "2022-07-10T17:13:37.529Z"
   },
   {
    "duration": 10,
    "start_time": "2022-07-10T17:13:42.047Z"
   },
   {
    "duration": 7,
    "start_time": "2022-07-10T17:13:42.317Z"
   },
   {
    "duration": 5,
    "start_time": "2022-07-10T17:13:42.567Z"
   },
   {
    "duration": 10,
    "start_time": "2022-07-10T17:13:42.827Z"
   },
   {
    "duration": 13,
    "start_time": "2022-07-10T17:13:43.078Z"
   },
   {
    "duration": 6,
    "start_time": "2022-07-10T17:13:43.738Z"
   },
   {
    "duration": 9,
    "start_time": "2022-07-10T17:13:48.337Z"
   },
   {
    "duration": 7,
    "start_time": "2022-07-10T17:13:48.649Z"
   },
   {
    "duration": 6,
    "start_time": "2022-07-10T17:13:48.809Z"
   },
   {
    "duration": 15,
    "start_time": "2022-07-10T17:13:49.011Z"
   },
   {
    "duration": 10,
    "start_time": "2022-07-10T17:13:49.268Z"
   },
   {
    "duration": 5,
    "start_time": "2022-07-10T17:13:49.969Z"
   },
   {
    "duration": 16,
    "start_time": "2022-07-10T17:13:54.528Z"
   },
   {
    "duration": 14,
    "start_time": "2022-07-10T17:13:54.775Z"
   },
   {
    "duration": 7,
    "start_time": "2022-07-10T17:13:54.960Z"
   },
   {
    "duration": 18,
    "start_time": "2022-07-10T17:13:55.120Z"
   },
   {
    "duration": 54,
    "start_time": "2022-07-10T17:13:55.293Z"
   },
   {
    "duration": 4,
    "start_time": "2022-07-10T17:13:56.022Z"
   },
   {
    "duration": 10,
    "start_time": "2022-07-10T17:14:00.522Z"
   },
   {
    "duration": 9,
    "start_time": "2022-07-10T17:14:00.660Z"
   },
   {
    "duration": 5,
    "start_time": "2022-07-10T17:14:00.821Z"
   },
   {
    "duration": 13,
    "start_time": "2022-07-10T17:14:00.935Z"
   },
   {
    "duration": 102,
    "start_time": "2022-07-10T17:14:01.143Z"
   },
   {
    "duration": 5,
    "start_time": "2022-07-10T17:14:01.541Z"
   },
   {
    "duration": 8,
    "start_time": "2022-07-10T17:14:05.580Z"
   },
   {
    "duration": 7,
    "start_time": "2022-07-10T17:14:06.052Z"
   },
   {
    "duration": 5,
    "start_time": "2022-07-10T17:14:06.213Z"
   },
   {
    "duration": 11,
    "start_time": "2022-07-10T17:14:06.410Z"
   },
   {
    "duration": 14,
    "start_time": "2022-07-10T17:14:06.630Z"
   },
   {
    "duration": 4,
    "start_time": "2022-07-10T17:14:07.143Z"
   },
   {
    "duration": 11,
    "start_time": "2022-07-10T17:14:11.481Z"
   },
   {
    "duration": 8,
    "start_time": "2022-07-10T17:14:11.610Z"
   },
   {
    "duration": 5,
    "start_time": "2022-07-10T17:14:11.850Z"
   },
   {
    "duration": 11,
    "start_time": "2022-07-10T17:14:12.060Z"
   },
   {
    "duration": 8,
    "start_time": "2022-07-10T17:14:12.281Z"
   },
   {
    "duration": 6,
    "start_time": "2022-07-10T17:14:12.760Z"
   },
   {
    "duration": 6,
    "start_time": "2022-07-10T17:14:20.290Z"
   },
   {
    "duration": 7,
    "start_time": "2022-07-10T17:14:20.423Z"
   },
   {
    "duration": 5,
    "start_time": "2022-07-10T17:14:20.621Z"
   },
   {
    "duration": 14,
    "start_time": "2022-07-10T17:14:20.777Z"
   },
   {
    "duration": 13,
    "start_time": "2022-07-10T17:14:20.962Z"
   },
   {
    "duration": 5,
    "start_time": "2022-07-10T17:14:21.306Z"
   },
   {
    "duration": 10,
    "start_time": "2022-07-10T17:14:27.220Z"
   },
   {
    "duration": 8,
    "start_time": "2022-07-10T17:14:27.381Z"
   },
   {
    "duration": 6,
    "start_time": "2022-07-10T17:14:27.485Z"
   },
   {
    "duration": 17,
    "start_time": "2022-07-10T17:14:27.691Z"
   },
   {
    "duration": 20,
    "start_time": "2022-07-10T17:14:27.846Z"
   },
   {
    "duration": 6,
    "start_time": "2022-07-10T17:14:28.043Z"
   },
   {
    "duration": 1305,
    "start_time": "2022-07-10T17:14:33.145Z"
   },
   {
    "duration": 34,
    "start_time": "2022-07-10T17:14:34.452Z"
   },
   {
    "duration": 3,
    "start_time": "2022-07-10T17:14:34.488Z"
   },
   {
    "duration": 10,
    "start_time": "2022-07-10T17:14:34.492Z"
   },
   {
    "duration": 8,
    "start_time": "2022-07-10T17:14:34.504Z"
   },
   {
    "duration": 11,
    "start_time": "2022-07-10T17:14:34.513Z"
   },
   {
    "duration": 20,
    "start_time": "2022-07-10T17:14:34.545Z"
   },
   {
    "duration": 321,
    "start_time": "2022-07-10T17:14:34.567Z"
   },
   {
    "duration": 28,
    "start_time": "2022-07-10T17:14:34.890Z"
   },
   {
    "duration": 254,
    "start_time": "2022-07-10T17:14:34.920Z"
   },
   {
    "duration": 141,
    "start_time": "2022-07-10T17:14:35.176Z"
   },
   {
    "duration": 181,
    "start_time": "2022-07-10T17:14:35.319Z"
   },
   {
    "duration": 1027,
    "start_time": "2022-07-10T17:14:35.502Z"
   },
   {
    "duration": 4,
    "start_time": "2022-07-10T17:14:36.532Z"
   },
   {
    "duration": 21,
    "start_time": "2022-07-10T17:14:36.539Z"
   },
   {
    "duration": 10,
    "start_time": "2022-07-10T17:14:36.562Z"
   },
   {
    "duration": 7,
    "start_time": "2022-07-10T17:14:36.574Z"
   },
   {
    "duration": 64,
    "start_time": "2022-07-10T17:14:36.582Z"
   },
   {
    "duration": 94,
    "start_time": "2022-07-10T17:14:36.649Z"
   },
   {
    "duration": 96,
    "start_time": "2022-07-10T17:14:36.746Z"
   },
   {
    "duration": 17,
    "start_time": "2022-07-10T17:19:42.554Z"
   },
   {
    "duration": 29,
    "start_time": "2022-07-10T17:19:54.859Z"
   },
   {
    "duration": 21,
    "start_time": "2022-07-10T17:20:41.072Z"
   },
   {
    "duration": 2,
    "start_time": "2022-07-10T17:22:15.212Z"
   },
   {
    "duration": 3,
    "start_time": "2022-07-10T17:24:40.581Z"
   },
   {
    "duration": 105,
    "start_time": "2022-07-10T17:24:40.691Z"
   },
   {
    "duration": 9,
    "start_time": "2022-07-10T17:24:40.879Z"
   },
   {
    "duration": 8,
    "start_time": "2022-07-10T17:24:41.071Z"
   },
   {
    "duration": 63,
    "start_time": "2022-07-10T17:25:02.582Z"
   },
   {
    "duration": 1286,
    "start_time": "2022-07-10T17:25:06.931Z"
   },
   {
    "duration": 34,
    "start_time": "2022-07-10T17:25:08.219Z"
   },
   {
    "duration": 3,
    "start_time": "2022-07-10T17:25:08.254Z"
   },
   {
    "duration": 11,
    "start_time": "2022-07-10T17:25:08.259Z"
   },
   {
    "duration": 8,
    "start_time": "2022-07-10T17:25:08.272Z"
   },
   {
    "duration": 11,
    "start_time": "2022-07-10T17:25:08.281Z"
   },
   {
    "duration": 11,
    "start_time": "2022-07-10T17:25:08.294Z"
   },
   {
    "duration": 205,
    "start_time": "2022-07-10T17:25:08.306Z"
   },
   {
    "duration": 34,
    "start_time": "2022-07-10T17:25:08.513Z"
   },
   {
    "duration": 220,
    "start_time": "2022-07-10T17:25:08.549Z"
   },
   {
    "duration": 165,
    "start_time": "2022-07-10T17:25:08.771Z"
   },
   {
    "duration": 241,
    "start_time": "2022-07-10T17:25:08.938Z"
   },
   {
    "duration": 924,
    "start_time": "2022-07-10T17:25:09.181Z"
   },
   {
    "duration": 4,
    "start_time": "2022-07-10T17:25:10.109Z"
   },
   {
    "duration": 28,
    "start_time": "2022-07-10T17:25:10.115Z"
   },
   {
    "duration": 8,
    "start_time": "2022-07-10T17:25:10.145Z"
   },
   {
    "duration": 5,
    "start_time": "2022-07-10T17:25:10.154Z"
   },
   {
    "duration": 19,
    "start_time": "2022-07-10T17:25:10.160Z"
   },
   {
    "duration": 161,
    "start_time": "2022-07-10T17:25:10.181Z"
   },
   {
    "duration": 99,
    "start_time": "2022-07-10T17:25:10.345Z"
   },
   {
    "duration": 3,
    "start_time": "2022-07-10T17:25:10.446Z"
   },
   {
    "duration": 108,
    "start_time": "2022-07-10T17:25:10.451Z"
   },
   {
    "duration": 0,
    "start_time": "2022-07-10T17:25:10.560Z"
   },
   {
    "duration": 0,
    "start_time": "2022-07-10T17:25:10.562Z"
   },
   {
    "duration": 152893,
    "start_time": "2022-07-10T17:26:10.227Z"
   },
   {
    "duration": 3,
    "start_time": "2022-07-10T17:31:59.664Z"
   },
   {
    "duration": 5358,
    "start_time": "2022-07-10T17:31:59.761Z"
   },
   {
    "duration": 5,
    "start_time": "2022-07-10T17:32:05.121Z"
   },
   {
    "duration": 12,
    "start_time": "2022-07-10T17:32:05.127Z"
   },
   {
    "duration": 4,
    "start_time": "2022-07-10T17:32:37.778Z"
   },
   {
    "duration": 3,
    "start_time": "2022-07-10T17:32:55.118Z"
   },
   {
    "duration": 3,
    "start_time": "2022-07-10T17:32:55.264Z"
   },
   {
    "duration": 4712,
    "start_time": "2022-07-10T17:32:55.406Z"
   },
   {
    "duration": 5,
    "start_time": "2022-07-10T17:33:00.120Z"
   },
   {
    "duration": 7,
    "start_time": "2022-07-10T17:33:00.126Z"
   },
   {
    "duration": 3,
    "start_time": "2022-07-10T17:33:25.459Z"
   },
   {
    "duration": 15655,
    "start_time": "2022-07-10T17:33:25.573Z"
   },
   {
    "duration": 5,
    "start_time": "2022-07-10T17:33:41.231Z"
   },
   {
    "duration": 5,
    "start_time": "2022-07-10T17:33:41.237Z"
   },
   {
    "duration": 3,
    "start_time": "2022-07-10T17:34:03.029Z"
   },
   {
    "duration": 1143,
    "start_time": "2022-07-10T17:34:03.117Z"
   },
   {
    "duration": 5,
    "start_time": "2022-07-10T17:34:04.261Z"
   },
   {
    "duration": 11,
    "start_time": "2022-07-10T17:34:04.267Z"
   },
   {
    "duration": 3,
    "start_time": "2022-07-10T17:34:16.500Z"
   },
   {
    "duration": 527,
    "start_time": "2022-07-10T17:34:16.630Z"
   },
   {
    "duration": 65,
    "start_time": "2022-07-10T17:34:17.159Z"
   },
   {
    "duration": 4,
    "start_time": "2022-07-10T17:34:17.226Z"
   },
   {
    "duration": 3,
    "start_time": "2022-07-10T17:34:20.699Z"
   },
   {
    "duration": 3,
    "start_time": "2022-07-10T17:34:20.819Z"
   },
   {
    "duration": 433,
    "start_time": "2022-07-10T17:34:20.926Z"
   },
   {
    "duration": 58,
    "start_time": "2022-07-10T17:34:21.361Z"
   },
   {
    "duration": 5,
    "start_time": "2022-07-10T17:34:21.421Z"
   },
   {
    "duration": 2,
    "start_time": "2022-07-10T17:34:32.116Z"
   },
   {
    "duration": 1245,
    "start_time": "2022-07-10T17:35:40.865Z"
   },
   {
    "duration": 33,
    "start_time": "2022-07-10T17:35:42.111Z"
   },
   {
    "duration": 2,
    "start_time": "2022-07-10T17:35:42.146Z"
   },
   {
    "duration": 11,
    "start_time": "2022-07-10T17:35:42.150Z"
   },
   {
    "duration": 7,
    "start_time": "2022-07-10T17:35:42.162Z"
   },
   {
    "duration": 12,
    "start_time": "2022-07-10T17:35:42.170Z"
   },
   {
    "duration": 10,
    "start_time": "2022-07-10T17:35:42.184Z"
   },
   {
    "duration": 179,
    "start_time": "2022-07-10T17:35:42.195Z"
   },
   {
    "duration": 21,
    "start_time": "2022-07-10T17:35:42.376Z"
   },
   {
    "duration": 232,
    "start_time": "2022-07-10T17:35:42.399Z"
   },
   {
    "duration": 136,
    "start_time": "2022-07-10T17:35:42.632Z"
   },
   {
    "duration": 221,
    "start_time": "2022-07-10T17:35:42.777Z"
   },
   {
    "duration": 854,
    "start_time": "2022-07-10T17:35:42.999Z"
   },
   {
    "duration": 3,
    "start_time": "2022-07-10T17:35:43.856Z"
   },
   {
    "duration": 25,
    "start_time": "2022-07-10T17:35:43.860Z"
   },
   {
    "duration": 8,
    "start_time": "2022-07-10T17:35:43.886Z"
   },
   {
    "duration": 4,
    "start_time": "2022-07-10T17:35:43.896Z"
   },
   {
    "duration": 43,
    "start_time": "2022-07-10T17:35:43.901Z"
   },
   {
    "duration": 197,
    "start_time": "2022-07-10T17:35:43.945Z"
   },
   {
    "duration": 101,
    "start_time": "2022-07-10T17:35:44.144Z"
   },
   {
    "duration": 5,
    "start_time": "2022-07-10T17:35:44.247Z"
   },
   {
    "duration": 4,
    "start_time": "2022-07-10T17:35:44.253Z"
   },
   {
    "duration": 1314,
    "start_time": "2022-07-10T17:37:19.562Z"
   },
   {
    "duration": 32,
    "start_time": "2022-07-10T17:37:20.878Z"
   },
   {
    "duration": 2,
    "start_time": "2022-07-10T17:37:20.912Z"
   },
   {
    "duration": 9,
    "start_time": "2022-07-10T17:37:20.916Z"
   },
   {
    "duration": 6,
    "start_time": "2022-07-10T17:37:20.927Z"
   },
   {
    "duration": 13,
    "start_time": "2022-07-10T17:37:20.935Z"
   },
   {
    "duration": 10,
    "start_time": "2022-07-10T17:37:20.949Z"
   },
   {
    "duration": 184,
    "start_time": "2022-07-10T17:37:20.960Z"
   },
   {
    "duration": 21,
    "start_time": "2022-07-10T17:37:21.146Z"
   },
   {
    "duration": 210,
    "start_time": "2022-07-10T17:37:21.169Z"
   },
   {
    "duration": 141,
    "start_time": "2022-07-10T17:37:21.380Z"
   },
   {
    "duration": 243,
    "start_time": "2022-07-10T17:37:21.523Z"
   },
   {
    "duration": 893,
    "start_time": "2022-07-10T17:37:21.768Z"
   },
   {
    "duration": 6,
    "start_time": "2022-07-10T17:37:22.666Z"
   },
   {
    "duration": 26,
    "start_time": "2022-07-10T17:37:22.673Z"
   },
   {
    "duration": 7,
    "start_time": "2022-07-10T17:37:22.701Z"
   },
   {
    "duration": 4,
    "start_time": "2022-07-10T17:37:22.710Z"
   },
   {
    "duration": 31,
    "start_time": "2022-07-10T17:37:22.715Z"
   },
   {
    "duration": 194,
    "start_time": "2022-07-10T17:37:22.748Z"
   },
   {
    "duration": 8,
    "start_time": "2022-07-10T17:37:22.944Z"
   },
   {
    "duration": 5,
    "start_time": "2022-07-10T17:37:22.953Z"
   },
   {
    "duration": 8,
    "start_time": "2022-07-10T17:37:22.959Z"
   },
   {
    "duration": 15607,
    "start_time": "2022-07-10T17:37:22.968Z"
   },
   {
    "duration": 6,
    "start_time": "2022-07-10T17:37:38.577Z"
   },
   {
    "duration": 6,
    "start_time": "2022-07-10T17:37:38.584Z"
   },
   {
    "duration": 3,
    "start_time": "2022-07-10T17:37:46.563Z"
   },
   {
    "duration": 67057,
    "start_time": "2022-07-10T17:37:46.713Z"
   },
   {
    "duration": 6,
    "start_time": "2022-07-10T17:38:53.772Z"
   },
   {
    "duration": 6,
    "start_time": "2022-07-10T17:38:53.780Z"
   },
   {
    "duration": 2,
    "start_time": "2022-07-10T17:39:43.112Z"
   },
   {
    "duration": 2096,
    "start_time": "2022-07-10T17:39:43.118Z"
   },
   {
    "duration": 4,
    "start_time": "2022-07-10T17:39:45.216Z"
   },
   {
    "duration": 6,
    "start_time": "2022-07-10T17:39:45.222Z"
   },
   {
    "duration": 3,
    "start_time": "2022-07-10T17:39:55.171Z"
   },
   {
    "duration": 950,
    "start_time": "2022-07-10T17:39:55.317Z"
   },
   {
    "duration": 3,
    "start_time": "2022-07-10T17:39:56.269Z"
   },
   {
    "duration": 6,
    "start_time": "2022-07-10T17:39:56.274Z"
   },
   {
    "duration": 3,
    "start_time": "2022-07-10T17:40:08.186Z"
   },
   {
    "duration": 1228,
    "start_time": "2022-07-10T17:40:08.318Z"
   },
   {
    "duration": 3,
    "start_time": "2022-07-10T17:40:09.548Z"
   },
   {
    "duration": 6,
    "start_time": "2022-07-10T17:40:09.552Z"
   },
   {
    "duration": 2,
    "start_time": "2022-07-10T17:40:15.575Z"
   },
   {
    "duration": 1874,
    "start_time": "2022-07-10T17:40:16.408Z"
   },
   {
    "duration": 4,
    "start_time": "2022-07-10T17:40:18.284Z"
   },
   {
    "duration": 7,
    "start_time": "2022-07-10T17:40:18.289Z"
   },
   {
    "duration": 3,
    "start_time": "2022-07-10T17:40:24.217Z"
   },
   {
    "duration": 1811,
    "start_time": "2022-07-10T17:40:24.364Z"
   },
   {
    "duration": 3,
    "start_time": "2022-07-10T17:40:26.177Z"
   },
   {
    "duration": 6,
    "start_time": "2022-07-10T17:40:26.182Z"
   },
   {
    "duration": 3,
    "start_time": "2022-07-10T17:40:37.205Z"
   },
   {
    "duration": 3168,
    "start_time": "2022-07-10T17:40:37.312Z"
   },
   {
    "duration": 4,
    "start_time": "2022-07-10T17:40:40.481Z"
   },
   {
    "duration": 6,
    "start_time": "2022-07-10T17:40:40.487Z"
   },
   {
    "duration": 3,
    "start_time": "2022-07-10T17:40:49.090Z"
   },
   {
    "duration": 7192,
    "start_time": "2022-07-10T17:40:49.217Z"
   },
   {
    "duration": 5,
    "start_time": "2022-07-10T17:40:56.410Z"
   },
   {
    "duration": 9,
    "start_time": "2022-07-10T17:40:56.416Z"
   },
   {
    "duration": 6,
    "start_time": "2022-07-10T17:41:04.536Z"
   },
   {
    "duration": 10928,
    "start_time": "2022-07-10T17:41:04.663Z"
   },
   {
    "duration": 5,
    "start_time": "2022-07-10T17:41:15.593Z"
   },
   {
    "duration": 8,
    "start_time": "2022-07-10T17:41:15.599Z"
   },
   {
    "duration": 3,
    "start_time": "2022-07-10T17:41:40.765Z"
   },
   {
    "duration": 2050,
    "start_time": "2022-07-10T17:41:40.887Z"
   },
   {
    "duration": 4,
    "start_time": "2022-07-10T17:41:42.938Z"
   },
   {
    "duration": 10,
    "start_time": "2022-07-10T17:41:42.943Z"
   },
   {
    "duration": 3,
    "start_time": "2022-07-10T17:41:52.009Z"
   },
   {
    "duration": 1957,
    "start_time": "2022-07-10T17:41:52.162Z"
   },
   {
    "duration": 4,
    "start_time": "2022-07-10T17:41:54.121Z"
   },
   {
    "duration": 7,
    "start_time": "2022-07-10T17:41:54.126Z"
   },
   {
    "duration": 3,
    "start_time": "2022-07-10T17:42:03.775Z"
   },
   {
    "duration": 10635,
    "start_time": "2022-07-10T17:42:03.967Z"
   },
   {
    "duration": 6,
    "start_time": "2022-07-10T17:42:14.604Z"
   },
   {
    "duration": 9,
    "start_time": "2022-07-10T17:42:14.611Z"
   },
   {
    "duration": 3,
    "start_time": "2022-07-10T17:42:21.721Z"
   },
   {
    "duration": 2074,
    "start_time": "2022-07-10T17:42:21.869Z"
   },
   {
    "duration": 5,
    "start_time": "2022-07-10T17:42:23.944Z"
   },
   {
    "duration": 4,
    "start_time": "2022-07-10T17:42:23.965Z"
   },
   {
    "duration": 2386,
    "start_time": "2022-07-10T17:44:17.104Z"
   },
   {
    "duration": 5,
    "start_time": "2022-07-10T17:44:28.763Z"
   },
   {
    "duration": 1231,
    "start_time": "2022-07-10T17:45:23.688Z"
   },
   {
    "duration": 33,
    "start_time": "2022-07-10T17:45:24.921Z"
   },
   {
    "duration": 3,
    "start_time": "2022-07-10T17:45:24.955Z"
   },
   {
    "duration": 10,
    "start_time": "2022-07-10T17:45:24.959Z"
   },
   {
    "duration": 7,
    "start_time": "2022-07-10T17:45:24.970Z"
   },
   {
    "duration": 10,
    "start_time": "2022-07-10T17:45:24.978Z"
   },
   {
    "duration": 10,
    "start_time": "2022-07-10T17:45:24.989Z"
   },
   {
    "duration": 189,
    "start_time": "2022-07-10T17:45:25.000Z"
   },
   {
    "duration": 21,
    "start_time": "2022-07-10T17:45:25.190Z"
   },
   {
    "duration": 214,
    "start_time": "2022-07-10T17:45:25.213Z"
   },
   {
    "duration": 144,
    "start_time": "2022-07-10T17:45:25.429Z"
   },
   {
    "duration": 237,
    "start_time": "2022-07-10T17:45:25.574Z"
   },
   {
    "duration": 904,
    "start_time": "2022-07-10T17:45:25.813Z"
   },
   {
    "duration": 3,
    "start_time": "2022-07-10T17:45:26.720Z"
   },
   {
    "duration": 18,
    "start_time": "2022-07-10T17:45:26.725Z"
   },
   {
    "duration": 8,
    "start_time": "2022-07-10T17:45:26.745Z"
   },
   {
    "duration": 5,
    "start_time": "2022-07-10T17:45:26.755Z"
   },
   {
    "duration": 85,
    "start_time": "2022-07-10T17:45:26.761Z"
   },
   {
    "duration": 98,
    "start_time": "2022-07-10T17:45:26.848Z"
   },
   {
    "duration": 195,
    "start_time": "2022-07-10T17:45:26.948Z"
   },
   {
    "duration": 6,
    "start_time": "2022-07-10T17:45:27.145Z"
   },
   {
    "duration": 11658,
    "start_time": "2022-07-10T17:45:27.152Z"
   },
   {
    "duration": 4,
    "start_time": "2022-07-10T17:45:38.812Z"
   },
   {
    "duration": 1650,
    "start_time": "2022-07-10T17:45:38.818Z"
   },
   {
    "duration": 4,
    "start_time": "2022-07-10T17:45:40.470Z"
   },
   {
    "duration": 1260,
    "start_time": "2022-07-10T17:47:59.064Z"
   },
   {
    "duration": 33,
    "start_time": "2022-07-10T17:48:00.326Z"
   },
   {
    "duration": 3,
    "start_time": "2022-07-10T17:48:00.360Z"
   },
   {
    "duration": 11,
    "start_time": "2022-07-10T17:48:00.364Z"
   },
   {
    "duration": 7,
    "start_time": "2022-07-10T17:48:00.376Z"
   },
   {
    "duration": 13,
    "start_time": "2022-07-10T17:48:00.385Z"
   },
   {
    "duration": 17,
    "start_time": "2022-07-10T17:48:00.400Z"
   },
   {
    "duration": 170,
    "start_time": "2022-07-10T17:48:00.418Z"
   },
   {
    "duration": 20,
    "start_time": "2022-07-10T17:48:00.589Z"
   },
   {
    "duration": 226,
    "start_time": "2022-07-10T17:48:00.611Z"
   },
   {
    "duration": 136,
    "start_time": "2022-07-10T17:48:00.841Z"
   },
   {
    "duration": 236,
    "start_time": "2022-07-10T17:48:00.978Z"
   },
   {
    "duration": 918,
    "start_time": "2022-07-10T17:48:01.215Z"
   },
   {
    "duration": 3,
    "start_time": "2022-07-10T17:48:02.135Z"
   },
   {
    "duration": 25,
    "start_time": "2022-07-10T17:48:02.140Z"
   },
   {
    "duration": 9,
    "start_time": "2022-07-10T17:48:02.167Z"
   },
   {
    "duration": 5,
    "start_time": "2022-07-10T17:48:02.177Z"
   },
   {
    "duration": 12,
    "start_time": "2022-07-10T17:48:02.184Z"
   },
   {
    "duration": 144,
    "start_time": "2022-07-10T17:48:02.198Z"
   },
   {
    "duration": 99,
    "start_time": "2022-07-10T17:48:02.345Z"
   },
   {
    "duration": 15,
    "start_time": "2022-07-10T17:48:02.446Z"
   },
   {
    "duration": 11628,
    "start_time": "2022-07-10T17:48:02.462Z"
   },
   {
    "duration": 4,
    "start_time": "2022-07-10T17:48:14.092Z"
   },
   {
    "duration": 1898,
    "start_time": "2022-07-10T17:48:14.097Z"
   },
   {
    "duration": 4,
    "start_time": "2022-07-10T17:48:15.997Z"
   },
   {
    "duration": 237,
    "start_time": "2022-07-11T10:06:28.656Z"
   },
   {
    "duration": 1588,
    "start_time": "2022-07-11T16:34:31.146Z"
   },
   {
    "duration": 178,
    "start_time": "2022-07-11T16:34:32.737Z"
   },
   {
    "duration": 3,
    "start_time": "2022-07-11T16:34:32.917Z"
   },
   {
    "duration": 23,
    "start_time": "2022-07-11T16:34:32.922Z"
   },
   {
    "duration": 16,
    "start_time": "2022-07-11T16:34:32.947Z"
   },
   {
    "duration": 23,
    "start_time": "2022-07-11T16:34:32.964Z"
   },
   {
    "duration": 30,
    "start_time": "2022-07-11T16:34:32.989Z"
   },
   {
    "duration": 189,
    "start_time": "2022-07-11T16:34:33.021Z"
   },
   {
    "duration": 25,
    "start_time": "2022-07-11T16:34:33.212Z"
   },
   {
    "duration": 238,
    "start_time": "2022-07-11T16:34:33.239Z"
   },
   {
    "duration": 162,
    "start_time": "2022-07-11T16:34:33.479Z"
   },
   {
    "duration": 253,
    "start_time": "2022-07-11T16:34:33.643Z"
   },
   {
    "duration": 1010,
    "start_time": "2022-07-11T16:34:33.898Z"
   },
   {
    "duration": 3,
    "start_time": "2022-07-11T16:34:34.910Z"
   },
   {
    "duration": 50,
    "start_time": "2022-07-11T16:34:34.915Z"
   },
   {
    "duration": 8,
    "start_time": "2022-07-11T16:34:34.967Z"
   },
   {
    "duration": 4,
    "start_time": "2022-07-11T16:34:34.977Z"
   },
   {
    "duration": 80,
    "start_time": "2022-07-11T16:34:34.983Z"
   },
   {
    "duration": 196,
    "start_time": "2022-07-11T16:34:35.065Z"
   },
   {
    "duration": 104,
    "start_time": "2022-07-11T16:34:35.263Z"
   },
   {
    "duration": 9,
    "start_time": "2022-07-11T16:34:35.368Z"
   },
   {
    "duration": 13555,
    "start_time": "2022-07-11T16:34:35.379Z"
   },
   {
    "duration": 4,
    "start_time": "2022-07-11T16:34:48.936Z"
   },
   {
    "duration": 2557,
    "start_time": "2022-07-11T16:34:48.942Z"
   },
   {
    "duration": 5,
    "start_time": "2022-07-11T16:34:51.501Z"
   },
   {
    "duration": 44,
    "start_time": "2022-07-11T16:35:25.129Z"
   },
   {
    "duration": 107,
    "start_time": "2022-07-11T17:01:18.553Z"
   },
   {
    "duration": 9,
    "start_time": "2022-07-11T17:01:33.569Z"
   },
   {
    "duration": 3,
    "start_time": "2022-07-11T17:04:53.709Z"
   },
   {
    "duration": 33,
    "start_time": "2022-07-11T17:04:54.399Z"
   },
   {
    "duration": 3,
    "start_time": "2022-07-11T17:04:54.937Z"
   },
   {
    "duration": 7,
    "start_time": "2022-07-11T17:04:55.137Z"
   },
   {
    "duration": 2,
    "start_time": "2022-07-11T17:04:55.836Z"
   },
   {
    "duration": 7,
    "start_time": "2022-07-11T17:04:56.760Z"
   },
   {
    "duration": 10,
    "start_time": "2022-07-11T17:04:59.370Z"
   },
   {
    "duration": 183,
    "start_time": "2022-07-11T17:05:44.763Z"
   },
   {
    "duration": 21,
    "start_time": "2022-07-11T17:05:44.948Z"
   },
   {
    "duration": 254,
    "start_time": "2022-07-11T17:05:45.059Z"
   },
   {
    "duration": 165,
    "start_time": "2022-07-11T17:05:45.315Z"
   },
   {
    "duration": 19,
    "start_time": "2022-07-11T17:05:45.575Z"
   },
   {
    "duration": 1037,
    "start_time": "2022-07-11T17:05:45.802Z"
   },
   {
    "duration": 1329,
    "start_time": "2022-07-11T17:08:43.433Z"
   },
   {
    "duration": 35,
    "start_time": "2022-07-11T17:08:44.764Z"
   },
   {
    "duration": 3,
    "start_time": "2022-07-11T17:08:44.801Z"
   },
   {
    "duration": 22,
    "start_time": "2022-07-11T17:08:44.806Z"
   },
   {
    "duration": 15,
    "start_time": "2022-07-11T17:08:44.829Z"
   },
   {
    "duration": 16,
    "start_time": "2022-07-11T17:08:44.846Z"
   },
   {
    "duration": 14,
    "start_time": "2022-07-11T17:08:44.863Z"
   },
   {
    "duration": 19,
    "start_time": "2022-07-11T17:08:44.879Z"
   },
   {
    "duration": 197,
    "start_time": "2022-07-11T17:08:44.899Z"
   },
   {
    "duration": 25,
    "start_time": "2022-07-11T17:08:45.099Z"
   },
   {
    "duration": 260,
    "start_time": "2022-07-11T17:08:45.126Z"
   },
   {
    "duration": 142,
    "start_time": "2022-07-11T17:08:45.388Z"
   },
   {
    "duration": 259,
    "start_time": "2022-07-11T17:08:45.532Z"
   },
   {
    "duration": 136,
    "start_time": "2022-07-11T17:08:45.793Z"
   },
   {
    "duration": 0,
    "start_time": "2022-07-11T17:08:45.932Z"
   },
   {
    "duration": 0,
    "start_time": "2022-07-11T17:08:45.933Z"
   },
   {
    "duration": 0,
    "start_time": "2022-07-11T17:08:45.935Z"
   },
   {
    "duration": 0,
    "start_time": "2022-07-11T17:08:45.936Z"
   },
   {
    "duration": 0,
    "start_time": "2022-07-11T17:08:45.937Z"
   },
   {
    "duration": 0,
    "start_time": "2022-07-11T17:08:45.939Z"
   },
   {
    "duration": 0,
    "start_time": "2022-07-11T17:08:45.940Z"
   },
   {
    "duration": 0,
    "start_time": "2022-07-11T17:08:45.942Z"
   },
   {
    "duration": 0,
    "start_time": "2022-07-11T17:08:45.960Z"
   },
   {
    "duration": 0,
    "start_time": "2022-07-11T17:08:45.962Z"
   },
   {
    "duration": 0,
    "start_time": "2022-07-11T17:08:45.963Z"
   },
   {
    "duration": 0,
    "start_time": "2022-07-11T17:08:45.964Z"
   },
   {
    "duration": 918,
    "start_time": "2022-07-11T17:08:57.358Z"
   },
   {
    "duration": 1346,
    "start_time": "2022-07-11T17:13:59.376Z"
   },
   {
    "duration": 36,
    "start_time": "2022-07-11T17:14:00.724Z"
   },
   {
    "duration": 3,
    "start_time": "2022-07-11T17:14:00.762Z"
   },
   {
    "duration": 23,
    "start_time": "2022-07-11T17:14:00.766Z"
   },
   {
    "duration": 8,
    "start_time": "2022-07-11T17:14:00.791Z"
   },
   {
    "duration": 22,
    "start_time": "2022-07-11T17:14:00.800Z"
   },
   {
    "duration": 15,
    "start_time": "2022-07-11T17:14:00.824Z"
   },
   {
    "duration": 19,
    "start_time": "2022-07-11T17:14:00.840Z"
   },
   {
    "duration": 248,
    "start_time": "2022-07-11T17:14:00.861Z"
   },
   {
    "duration": 568,
    "start_time": "2022-07-11T17:14:01.111Z"
   },
   {
    "duration": 0,
    "start_time": "2022-07-11T17:14:01.681Z"
   },
   {
    "duration": 0,
    "start_time": "2022-07-11T17:14:01.683Z"
   },
   {
    "duration": 0,
    "start_time": "2022-07-11T17:14:01.684Z"
   },
   {
    "duration": 0,
    "start_time": "2022-07-11T17:14:01.685Z"
   },
   {
    "duration": 0,
    "start_time": "2022-07-11T17:14:01.686Z"
   },
   {
    "duration": 0,
    "start_time": "2022-07-11T17:14:01.687Z"
   },
   {
    "duration": 0,
    "start_time": "2022-07-11T17:14:01.688Z"
   },
   {
    "duration": 1,
    "start_time": "2022-07-11T17:14:01.689Z"
   },
   {
    "duration": 0,
    "start_time": "2022-07-11T17:14:01.691Z"
   },
   {
    "duration": 1,
    "start_time": "2022-07-11T17:14:01.691Z"
   },
   {
    "duration": 0,
    "start_time": "2022-07-11T17:14:01.692Z"
   },
   {
    "duration": 0,
    "start_time": "2022-07-11T17:14:01.693Z"
   },
   {
    "duration": 0,
    "start_time": "2022-07-11T17:14:01.694Z"
   },
   {
    "duration": 0,
    "start_time": "2022-07-11T17:14:01.695Z"
   },
   {
    "duration": 0,
    "start_time": "2022-07-11T17:14:01.696Z"
   },
   {
    "duration": 0,
    "start_time": "2022-07-11T17:14:01.697Z"
   },
   {
    "duration": 0,
    "start_time": "2022-07-11T17:14:01.698Z"
   },
   {
    "duration": 0,
    "start_time": "2022-07-11T17:14:01.699Z"
   },
   {
    "duration": 0,
    "start_time": "2022-07-11T17:14:01.700Z"
   },
   {
    "duration": 1391,
    "start_time": "2022-07-11T17:14:40.946Z"
   },
   {
    "duration": 39,
    "start_time": "2022-07-11T17:14:42.339Z"
   },
   {
    "duration": 2,
    "start_time": "2022-07-11T17:14:42.380Z"
   },
   {
    "duration": 18,
    "start_time": "2022-07-11T17:14:42.384Z"
   },
   {
    "duration": 18,
    "start_time": "2022-07-11T17:14:42.404Z"
   },
   {
    "duration": 26,
    "start_time": "2022-07-11T17:14:42.424Z"
   },
   {
    "duration": 21,
    "start_time": "2022-07-11T17:14:42.451Z"
   },
   {
    "duration": 26,
    "start_time": "2022-07-11T17:14:42.474Z"
   },
   {
    "duration": 240,
    "start_time": "2022-07-11T17:14:42.501Z"
   },
   {
    "duration": 178,
    "start_time": "2022-07-11T17:14:42.743Z"
   },
   {
    "duration": 178,
    "start_time": "2022-07-11T17:14:42.922Z"
   },
   {
    "duration": 248,
    "start_time": "2022-07-11T17:14:43.102Z"
   },
   {
    "duration": 175,
    "start_time": "2022-07-11T17:14:43.351Z"
   },
   {
    "duration": 940,
    "start_time": "2022-07-11T17:14:43.529Z"
   },
   {
    "duration": 3,
    "start_time": "2022-07-11T17:14:44.470Z"
   },
   {
    "duration": 29,
    "start_time": "2022-07-11T17:14:44.475Z"
   },
   {
    "duration": 8,
    "start_time": "2022-07-11T17:14:44.505Z"
   },
   {
    "duration": 9,
    "start_time": "2022-07-11T17:14:44.515Z"
   },
   {
    "duration": 53,
    "start_time": "2022-07-11T17:14:44.526Z"
   },
   {
    "duration": 87,
    "start_time": "2022-07-11T17:14:44.581Z"
   },
   {
    "duration": 194,
    "start_time": "2022-07-11T17:14:44.670Z"
   },
   {
    "duration": 6,
    "start_time": "2022-07-11T17:14:44.866Z"
   },
   {
    "duration": 12656,
    "start_time": "2022-07-11T17:14:44.874Z"
   },
   {
    "duration": 6,
    "start_time": "2022-07-11T17:14:57.532Z"
   },
   {
    "duration": 1922,
    "start_time": "2022-07-11T17:14:57.539Z"
   },
   {
    "duration": 4,
    "start_time": "2022-07-11T17:14:59.463Z"
   },
   {
    "duration": 162,
    "start_time": "2022-07-11T17:19:06.980Z"
   },
   {
    "duration": 19,
    "start_time": "2022-07-11T17:19:35.360Z"
   },
   {
    "duration": 18,
    "start_time": "2022-07-11T17:20:02.008Z"
   },
   {
    "duration": 192,
    "start_time": "2022-07-11T17:20:16.380Z"
   },
   {
    "duration": 15,
    "start_time": "2022-07-11T17:20:41.741Z"
   },
   {
    "duration": 4,
    "start_time": "2022-07-11T17:21:22.020Z"
   },
   {
    "duration": 172,
    "start_time": "2022-07-11T17:21:28.361Z"
   },
   {
    "duration": 194,
    "start_time": "2022-07-11T17:21:34.492Z"
   },
   {
    "duration": 265,
    "start_time": "2022-07-11T17:21:39.188Z"
   },
   {
    "duration": 164,
    "start_time": "2022-07-11T17:21:44.303Z"
   },
   {
    "duration": 162,
    "start_time": "2022-07-11T17:21:48.490Z"
   },
   {
    "duration": 165,
    "start_time": "2022-07-11T17:21:57.902Z"
   },
   {
    "duration": 172,
    "start_time": "2022-07-11T17:22:30.225Z"
   },
   {
    "duration": 17,
    "start_time": "2022-07-11T17:26:03.878Z"
   },
   {
    "duration": 876,
    "start_time": "2022-07-11T17:29:26.256Z"
   },
   {
    "duration": 171,
    "start_time": "2022-07-11T17:32:10.733Z"
   },
   {
    "duration": 176,
    "start_time": "2022-07-11T17:32:15.782Z"
   },
   {
    "duration": 160,
    "start_time": "2022-07-11T17:32:22.833Z"
   },
   {
    "duration": 66,
    "start_time": "2022-07-11T17:33:44.928Z"
   },
   {
    "duration": 1308,
    "start_time": "2022-07-11T17:38:50.628Z"
   },
   {
    "duration": 36,
    "start_time": "2022-07-11T17:38:51.938Z"
   },
   {
    "duration": 4,
    "start_time": "2022-07-11T17:38:51.975Z"
   },
   {
    "duration": 14,
    "start_time": "2022-07-11T17:38:51.982Z"
   },
   {
    "duration": 3,
    "start_time": "2022-07-11T17:38:51.997Z"
   },
   {
    "duration": 16,
    "start_time": "2022-07-11T17:38:52.001Z"
   },
   {
    "duration": 9,
    "start_time": "2022-07-11T17:38:52.019Z"
   },
   {
    "duration": 36,
    "start_time": "2022-07-11T17:38:52.029Z"
   },
   {
    "duration": 241,
    "start_time": "2022-07-11T17:38:52.066Z"
   },
   {
    "duration": 173,
    "start_time": "2022-07-11T17:38:52.309Z"
   },
   {
    "duration": 181,
    "start_time": "2022-07-11T17:38:52.483Z"
   },
   {
    "duration": 259,
    "start_time": "2022-07-11T17:38:52.665Z"
   },
   {
    "duration": 172,
    "start_time": "2022-07-11T17:38:52.926Z"
   },
   {
    "duration": 70,
    "start_time": "2022-07-11T17:38:53.099Z"
   },
   {
    "duration": 0,
    "start_time": "2022-07-11T17:38:53.171Z"
   },
   {
    "duration": 0,
    "start_time": "2022-07-11T17:38:53.173Z"
   },
   {
    "duration": 0,
    "start_time": "2022-07-11T17:38:53.174Z"
   },
   {
    "duration": 0,
    "start_time": "2022-07-11T17:38:53.176Z"
   },
   {
    "duration": 0,
    "start_time": "2022-07-11T17:38:53.177Z"
   },
   {
    "duration": 0,
    "start_time": "2022-07-11T17:38:53.179Z"
   },
   {
    "duration": 0,
    "start_time": "2022-07-11T17:38:53.180Z"
   },
   {
    "duration": 0,
    "start_time": "2022-07-11T17:38:53.182Z"
   },
   {
    "duration": 0,
    "start_time": "2022-07-11T17:38:53.183Z"
   },
   {
    "duration": 0,
    "start_time": "2022-07-11T17:38:53.184Z"
   },
   {
    "duration": 0,
    "start_time": "2022-07-11T17:38:53.186Z"
   },
   {
    "duration": 0,
    "start_time": "2022-07-11T17:38:53.187Z"
   },
   {
    "duration": 59,
    "start_time": "2022-07-11T17:39:50.945Z"
   },
   {
    "duration": 920,
    "start_time": "2022-07-11T17:39:58.267Z"
   },
   {
    "duration": 1406,
    "start_time": "2022-07-11T17:40:25.780Z"
   },
   {
    "duration": 38,
    "start_time": "2022-07-11T17:40:27.188Z"
   },
   {
    "duration": 3,
    "start_time": "2022-07-11T17:40:27.227Z"
   },
   {
    "duration": 13,
    "start_time": "2022-07-11T17:40:27.232Z"
   },
   {
    "duration": 3,
    "start_time": "2022-07-11T17:40:27.247Z"
   },
   {
    "duration": 12,
    "start_time": "2022-07-11T17:40:27.261Z"
   },
   {
    "duration": 10,
    "start_time": "2022-07-11T17:40:27.275Z"
   },
   {
    "duration": 8,
    "start_time": "2022-07-11T17:40:27.287Z"
   },
   {
    "duration": 279,
    "start_time": "2022-07-11T17:40:27.297Z"
   },
   {
    "duration": 175,
    "start_time": "2022-07-11T17:40:27.579Z"
   },
   {
    "duration": 172,
    "start_time": "2022-07-11T17:40:27.755Z"
   },
   {
    "duration": 248,
    "start_time": "2022-07-11T17:40:27.929Z"
   },
   {
    "duration": 184,
    "start_time": "2022-07-11T17:40:28.178Z"
   },
   {
    "duration": 921,
    "start_time": "2022-07-11T17:40:28.364Z"
   },
   {
    "duration": 4,
    "start_time": "2022-07-11T17:40:29.286Z"
   },
   {
    "duration": 30,
    "start_time": "2022-07-11T17:40:29.291Z"
   },
   {
    "duration": 9,
    "start_time": "2022-07-11T17:40:29.323Z"
   },
   {
    "duration": 29,
    "start_time": "2022-07-11T17:40:29.334Z"
   },
   {
    "duration": 33,
    "start_time": "2022-07-11T17:40:29.364Z"
   },
   {
    "duration": 102,
    "start_time": "2022-07-11T17:40:29.461Z"
   },
   {
    "duration": 102,
    "start_time": "2022-07-11T17:40:29.567Z"
   },
   {
    "duration": 5,
    "start_time": "2022-07-11T17:40:29.761Z"
   },
   {
    "duration": 13057,
    "start_time": "2022-07-11T17:40:29.768Z"
   },
   {
    "duration": 5,
    "start_time": "2022-07-11T17:40:42.826Z"
   },
   {
    "duration": 2043,
    "start_time": "2022-07-11T17:40:42.832Z"
   },
   {
    "duration": 5,
    "start_time": "2022-07-11T17:40:44.877Z"
   },
   {
    "duration": 5,
    "start_time": "2022-07-11T18:00:54.282Z"
   },
   {
    "duration": 5,
    "start_time": "2022-07-11T18:02:00.404Z"
   },
   {
    "duration": 11,
    "start_time": "2022-07-11T18:02:00.592Z"
   },
   {
    "duration": 6,
    "start_time": "2022-07-11T18:02:00.813Z"
   },
   {
    "duration": 8,
    "start_time": "2022-07-11T18:02:01.014Z"
   },
   {
    "duration": 265,
    "start_time": "2022-07-11T18:02:02.401Z"
   },
   {
    "duration": 96,
    "start_time": "2022-07-11T18:02:02.669Z"
   },
   {
    "duration": 59,
    "start_time": "2022-07-11T18:02:11.714Z"
   },
   {
    "duration": 101,
    "start_time": "2022-07-11T18:02:11.862Z"
   },
   {
    "duration": 273,
    "start_time": "2022-07-11T18:02:29.793Z"
   },
   {
    "duration": 13,
    "start_time": "2022-07-11T18:02:30.070Z"
   },
   {
    "duration": 74,
    "start_time": "2022-07-11T18:02:34.515Z"
   },
   {
    "duration": 13,
    "start_time": "2022-07-11T18:02:34.761Z"
   },
   {
    "duration": 4,
    "start_time": "2022-07-11T18:02:46.514Z"
   },
   {
    "duration": 3,
    "start_time": "2022-07-11T18:02:56.834Z"
   },
   {
    "duration": 10,
    "start_time": "2022-07-11T18:02:56.996Z"
   },
   {
    "duration": 7,
    "start_time": "2022-07-11T18:02:57.152Z"
   },
   {
    "duration": 5,
    "start_time": "2022-07-11T18:02:57.336Z"
   },
   {
    "duration": 16,
    "start_time": "2022-07-11T18:02:57.704Z"
   },
   {
    "duration": 7,
    "start_time": "2022-07-11T18:02:57.913Z"
   },
   {
    "duration": 15,
    "start_time": "2022-07-11T18:03:11.995Z"
   },
   {
    "duration": 5,
    "start_time": "2022-07-11T18:03:12.162Z"
   },
   {
    "duration": 12,
    "start_time": "2022-07-11T18:03:15.435Z"
   },
   {
    "duration": 6,
    "start_time": "2022-07-11T18:03:15.638Z"
   },
   {
    "duration": 15,
    "start_time": "2022-07-11T18:03:19.337Z"
   },
   {
    "duration": 5,
    "start_time": "2022-07-11T18:03:19.735Z"
   },
   {
    "duration": 14,
    "start_time": "2022-07-11T18:03:23.281Z"
   },
   {
    "duration": 5,
    "start_time": "2022-07-11T18:03:23.676Z"
   },
   {
    "duration": 26,
    "start_time": "2022-07-11T18:04:32.943Z"
   },
   {
    "duration": 13,
    "start_time": "2022-07-11T18:04:33.162Z"
   },
   {
    "duration": 13,
    "start_time": "2022-07-11T18:04:39.975Z"
   },
   {
    "duration": 8,
    "start_time": "2022-07-11T18:04:40.162Z"
   },
   {
    "duration": 14,
    "start_time": "2022-07-11T18:04:48.466Z"
   },
   {
    "duration": 5,
    "start_time": "2022-07-11T18:04:48.662Z"
   },
   {
    "duration": 13,
    "start_time": "2022-07-11T18:04:55.646Z"
   },
   {
    "duration": 6,
    "start_time": "2022-07-11T18:04:55.996Z"
   },
   {
    "duration": 15,
    "start_time": "2022-07-11T18:05:01.734Z"
   },
   {
    "duration": 98,
    "start_time": "2022-07-11T18:05:01.862Z"
   },
   {
    "duration": 14,
    "start_time": "2022-07-11T18:05:07.316Z"
   },
   {
    "duration": 5,
    "start_time": "2022-07-11T18:05:07.497Z"
   },
   {
    "duration": 4,
    "start_time": "2022-07-11T18:05:36.045Z"
   },
   {
    "duration": 89,
    "start_time": "2022-07-11T18:05:42.875Z"
   },
   {
    "duration": 86,
    "start_time": "2022-07-11T18:05:43.077Z"
   },
   {
    "duration": 74,
    "start_time": "2022-07-11T18:05:55.593Z"
   },
   {
    "duration": 6,
    "start_time": "2022-07-11T18:05:55.861Z"
   },
   {
    "duration": 102,
    "start_time": "2022-07-11T18:06:00.461Z"
   },
   {
    "duration": 6,
    "start_time": "2022-07-11T18:06:00.785Z"
   },
   {
    "duration": 292,
    "start_time": "2022-07-11T18:06:15.282Z"
   },
   {
    "duration": 90,
    "start_time": "2022-07-11T18:06:15.577Z"
   },
   {
    "duration": 3,
    "start_time": "2022-07-11T18:09:58.679Z"
   },
   {
    "duration": 10,
    "start_time": "2022-07-11T18:09:58.855Z"
   },
   {
    "duration": 8,
    "start_time": "2022-07-11T18:09:59.044Z"
   },
   {
    "duration": 6,
    "start_time": "2022-07-11T18:09:59.210Z"
   },
   {
    "duration": 50,
    "start_time": "2022-07-11T18:09:59.611Z"
   },
   {
    "duration": 7,
    "start_time": "2022-07-11T18:10:00.249Z"
   },
   {
    "duration": 21,
    "start_time": "2022-07-11T18:10:40.736Z"
   },
   {
    "duration": 114,
    "start_time": "2022-07-11T18:11:51.379Z"
   },
   {
    "duration": 1339,
    "start_time": "2022-07-11T18:11:56.976Z"
   },
   {
    "duration": 36,
    "start_time": "2022-07-11T18:11:58.317Z"
   },
   {
    "duration": 4,
    "start_time": "2022-07-11T18:11:58.354Z"
   },
   {
    "duration": 17,
    "start_time": "2022-07-11T18:11:58.359Z"
   },
   {
    "duration": 2,
    "start_time": "2022-07-11T18:11:58.378Z"
   },
   {
    "duration": 13,
    "start_time": "2022-07-11T18:11:58.381Z"
   },
   {
    "duration": 11,
    "start_time": "2022-07-11T18:11:58.395Z"
   },
   {
    "duration": 12,
    "start_time": "2022-07-11T18:11:58.407Z"
   },
   {
    "duration": 267,
    "start_time": "2022-07-11T18:11:58.420Z"
   },
   {
    "duration": 179,
    "start_time": "2022-07-11T18:11:58.688Z"
   },
   {
    "duration": 183,
    "start_time": "2022-07-11T18:11:58.868Z"
   },
   {
    "duration": 243,
    "start_time": "2022-07-11T18:11:59.053Z"
   },
   {
    "duration": 173,
    "start_time": "2022-07-11T18:11:59.298Z"
   },
   {
    "duration": 896,
    "start_time": "2022-07-11T18:11:59.474Z"
   },
   {
    "duration": 132,
    "start_time": "2022-07-11T18:12:00.371Z"
   },
   {
    "duration": 0,
    "start_time": "2022-07-11T18:12:00.505Z"
   },
   {
    "duration": 0,
    "start_time": "2022-07-11T18:12:00.506Z"
   },
   {
    "duration": 0,
    "start_time": "2022-07-11T18:12:00.507Z"
   },
   {
    "duration": 0,
    "start_time": "2022-07-11T18:12:00.508Z"
   },
   {
    "duration": 0,
    "start_time": "2022-07-11T18:12:00.508Z"
   },
   {
    "duration": 0,
    "start_time": "2022-07-11T18:12:00.509Z"
   },
   {
    "duration": 0,
    "start_time": "2022-07-11T18:12:00.510Z"
   },
   {
    "duration": 0,
    "start_time": "2022-07-11T18:12:00.511Z"
   },
   {
    "duration": 0,
    "start_time": "2022-07-11T18:12:00.512Z"
   },
   {
    "duration": 0,
    "start_time": "2022-07-11T18:12:00.513Z"
   },
   {
    "duration": 0,
    "start_time": "2022-07-11T18:12:00.514Z"
   },
   {
    "duration": 4,
    "start_time": "2022-07-11T18:12:39.291Z"
   },
   {
    "duration": 1353,
    "start_time": "2022-07-11T18:12:43.997Z"
   },
   {
    "duration": 35,
    "start_time": "2022-07-11T18:12:45.352Z"
   },
   {
    "duration": 3,
    "start_time": "2022-07-11T18:12:45.389Z"
   },
   {
    "duration": 12,
    "start_time": "2022-07-11T18:12:45.394Z"
   },
   {
    "duration": 2,
    "start_time": "2022-07-11T18:12:45.408Z"
   },
   {
    "duration": 13,
    "start_time": "2022-07-11T18:12:45.412Z"
   },
   {
    "duration": 37,
    "start_time": "2022-07-11T18:12:45.427Z"
   },
   {
    "duration": 12,
    "start_time": "2022-07-11T18:12:45.465Z"
   },
   {
    "duration": 259,
    "start_time": "2022-07-11T18:12:45.478Z"
   },
   {
    "duration": 176,
    "start_time": "2022-07-11T18:12:45.740Z"
   },
   {
    "duration": 213,
    "start_time": "2022-07-11T18:12:45.917Z"
   },
   {
    "duration": 314,
    "start_time": "2022-07-11T18:12:46.132Z"
   },
   {
    "duration": 183,
    "start_time": "2022-07-11T18:12:46.448Z"
   },
   {
    "duration": 925,
    "start_time": "2022-07-11T18:12:46.633Z"
   },
   {
    "duration": 4,
    "start_time": "2022-07-11T18:12:47.560Z"
   },
   {
    "duration": 9,
    "start_time": "2022-07-11T18:12:47.565Z"
   },
   {
    "duration": 24,
    "start_time": "2022-07-11T18:12:47.576Z"
   },
   {
    "duration": 8,
    "start_time": "2022-07-11T18:12:47.601Z"
   },
   {
    "duration": 7,
    "start_time": "2022-07-11T18:12:47.611Z"
   },
   {
    "duration": 148,
    "start_time": "2022-07-11T18:12:47.620Z"
   },
   {
    "duration": 98,
    "start_time": "2022-07-11T18:12:47.770Z"
   },
   {
    "duration": 103,
    "start_time": "2022-07-11T18:12:47.870Z"
   },
   {
    "duration": 123,
    "start_time": "2022-07-11T18:12:47.974Z"
   },
   {
    "duration": 0,
    "start_time": "2022-07-11T18:12:48.098Z"
   },
   {
    "duration": 0,
    "start_time": "2022-07-11T18:12:48.099Z"
   },
   {
    "duration": 0,
    "start_time": "2022-07-11T18:12:48.100Z"
   },
   {
    "duration": 5,
    "start_time": "2022-07-11T18:13:15.139Z"
   },
   {
    "duration": 3,
    "start_time": "2022-07-11T18:13:15.812Z"
   },
   {
    "duration": 11529,
    "start_time": "2022-07-11T18:13:16.133Z"
   },
   {
    "duration": 4,
    "start_time": "2022-07-11T18:13:27.664Z"
   },
   {
    "duration": 1579,
    "start_time": "2022-07-11T18:13:27.670Z"
   },
   {
    "duration": 5,
    "start_time": "2022-07-11T18:13:29.252Z"
   },
   {
    "duration": 3,
    "start_time": "2022-07-11T18:13:59.916Z"
   },
   {
    "duration": 32,
    "start_time": "2022-07-11T18:14:00.044Z"
   },
   {
    "duration": 3,
    "start_time": "2022-07-11T18:14:00.243Z"
   },
   {
    "duration": 8,
    "start_time": "2022-07-11T18:14:00.401Z"
   },
   {
    "duration": 2,
    "start_time": "2022-07-11T18:14:00.743Z"
   },
   {
    "duration": 7,
    "start_time": "2022-07-11T18:14:01.264Z"
   },
   {
    "duration": 10,
    "start_time": "2022-07-11T18:14:01.443Z"
   },
   {
    "duration": 8,
    "start_time": "2022-07-11T18:14:04.653Z"
   },
   {
    "duration": 222,
    "start_time": "2022-07-11T18:14:04.977Z"
   },
   {
    "duration": 167,
    "start_time": "2022-07-11T18:14:05.642Z"
   },
   {
    "duration": 190,
    "start_time": "2022-07-11T18:14:06.141Z"
   },
   {
    "duration": 258,
    "start_time": "2022-07-11T18:14:06.656Z"
   },
   {
    "duration": 155,
    "start_time": "2022-07-11T18:14:10.073Z"
   },
   {
    "duration": 870,
    "start_time": "2022-07-11T18:14:13.813Z"
   },
   {
    "duration": 4,
    "start_time": "2022-07-11T18:14:21.957Z"
   },
   {
    "duration": 8,
    "start_time": "2022-07-11T18:14:30.151Z"
   },
   {
    "duration": 158185,
    "start_time": "2022-07-11T18:28:46.677Z"
   },
   {
    "duration": 3,
    "start_time": "2022-07-11T18:31:24.864Z"
   },
   {
    "duration": 254169,
    "start_time": "2022-07-11T18:32:41.445Z"
   },
   {
    "duration": 4,
    "start_time": "2022-07-11T18:36:55.616Z"
   },
   {
    "duration": 8,
    "start_time": "2022-07-11T18:36:55.622Z"
   },
   {
    "duration": 3,
    "start_time": "2022-07-11T18:37:21.908Z"
   },
   {
    "duration": 64,
    "start_time": "2022-07-11T18:37:22.348Z"
   },
   {
    "duration": 3,
    "start_time": "2022-07-11T18:37:22.501Z"
   },
   {
    "duration": 74,
    "start_time": "2022-07-11T18:37:44.447Z"
   },
   {
    "duration": 1157,
    "start_time": "2022-07-11T18:37:52.102Z"
   },
   {
    "duration": 20007,
    "start_time": "2022-07-11T18:38:18.737Z"
   },
   {
    "duration": 0,
    "start_time": "2022-07-11T18:38:38.747Z"
   },
   {
    "duration": 0,
    "start_time": "2022-07-11T18:38:38.748Z"
   },
   {
    "duration": 130055,
    "start_time": "2022-07-11T18:38:43.750Z"
   },
   {
    "duration": 1,
    "start_time": "2022-07-11T18:40:53.807Z"
   },
   {
    "duration": 0,
    "start_time": "2022-07-11T18:40:53.809Z"
   },
   {
    "duration": 0,
    "start_time": "2022-07-11T18:40:53.810Z"
   },
   {
    "duration": 4,
    "start_time": "2022-07-11T18:40:56.239Z"
   },
   {
    "duration": 1442,
    "start_time": "2022-07-11T18:42:38.935Z"
   },
   {
    "duration": 35,
    "start_time": "2022-07-11T18:42:40.379Z"
   },
   {
    "duration": 3,
    "start_time": "2022-07-11T18:42:40.416Z"
   },
   {
    "duration": 15,
    "start_time": "2022-07-11T18:42:40.420Z"
   },
   {
    "duration": 3,
    "start_time": "2022-07-11T18:42:40.437Z"
   },
   {
    "duration": 20,
    "start_time": "2022-07-11T18:42:40.441Z"
   },
   {
    "duration": 10,
    "start_time": "2022-07-11T18:42:40.463Z"
   },
   {
    "duration": 10,
    "start_time": "2022-07-11T18:42:40.475Z"
   },
   {
    "duration": 261,
    "start_time": "2022-07-11T18:42:40.486Z"
   },
   {
    "duration": 182,
    "start_time": "2022-07-11T18:42:40.749Z"
   },
   {
    "duration": 182,
    "start_time": "2022-07-11T18:42:40.933Z"
   },
   {
    "duration": 253,
    "start_time": "2022-07-11T18:42:41.116Z"
   },
   {
    "duration": 177,
    "start_time": "2022-07-11T18:42:41.372Z"
   },
   {
    "duration": 939,
    "start_time": "2022-07-11T18:42:41.553Z"
   },
   {
    "duration": 4,
    "start_time": "2022-07-11T18:42:42.494Z"
   },
   {
    "duration": 53,
    "start_time": "2022-07-11T18:42:42.499Z"
   },
   {
    "duration": 26,
    "start_time": "2022-07-11T18:42:42.554Z"
   },
   {
    "duration": 52,
    "start_time": "2022-07-11T18:42:42.582Z"
   },
   {
    "duration": 49,
    "start_time": "2022-07-11T18:42:42.636Z"
   },
   {
    "duration": 14,
    "start_time": "2022-07-11T18:42:42.687Z"
   },
   {
    "duration": 159,
    "start_time": "2022-07-11T18:42:42.702Z"
   },
   {
    "duration": 6,
    "start_time": "2022-07-11T18:42:42.864Z"
   },
   {
    "duration": 3,
    "start_time": "2022-07-11T18:42:42.961Z"
   },
   {
    "duration": 252765,
    "start_time": "2022-07-11T18:42:42.966Z"
   },
   {
    "duration": 4,
    "start_time": "2022-07-11T18:46:55.733Z"
   },
   {
    "duration": 7,
    "start_time": "2022-07-11T18:46:55.738Z"
   },
   {
    "duration": 11811,
    "start_time": "2022-07-11T18:46:55.747Z"
   },
   {
    "duration": 4,
    "start_time": "2022-07-11T18:47:07.560Z"
   },
   {
    "duration": 1834,
    "start_time": "2022-07-11T18:47:07.566Z"
   },
   {
    "duration": 4,
    "start_time": "2022-07-11T18:47:09.402Z"
   },
   {
    "duration": 1668,
    "start_time": "2022-07-11T18:48:03.283Z"
   },
   {
    "duration": 5,
    "start_time": "2022-07-11T18:48:04.953Z"
   },
   {
    "duration": 6103,
    "start_time": "2022-07-11T18:48:17.604Z"
   },
   {
    "duration": 5,
    "start_time": "2022-07-11T18:48:23.709Z"
   },
   {
    "duration": 5,
    "start_time": "2022-07-11T18:48:39.799Z"
   },
   {
    "duration": 69,
    "start_time": "2022-07-11T18:49:42.709Z"
   },
   {
    "duration": 5898,
    "start_time": "2022-07-11T18:50:18.457Z"
   },
   {
    "duration": 1395,
    "start_time": "2022-07-11T18:50:41.562Z"
   },
   {
    "duration": 34,
    "start_time": "2022-07-11T18:50:42.959Z"
   },
   {
    "duration": 2,
    "start_time": "2022-07-11T18:50:42.995Z"
   },
   {
    "duration": 11,
    "start_time": "2022-07-11T18:50:42.999Z"
   },
   {
    "duration": 3,
    "start_time": "2022-07-11T18:50:43.012Z"
   },
   {
    "duration": 10,
    "start_time": "2022-07-11T18:50:43.016Z"
   },
   {
    "duration": 34,
    "start_time": "2022-07-11T18:50:43.028Z"
   },
   {
    "duration": 8,
    "start_time": "2022-07-11T18:50:43.064Z"
   },
   {
    "duration": 248,
    "start_time": "2022-07-11T18:50:43.074Z"
   },
   {
    "duration": 168,
    "start_time": "2022-07-11T18:50:43.324Z"
   },
   {
    "duration": 176,
    "start_time": "2022-07-11T18:50:43.494Z"
   },
   {
    "duration": 248,
    "start_time": "2022-07-11T18:50:43.671Z"
   },
   {
    "duration": 163,
    "start_time": "2022-07-11T18:50:43.921Z"
   },
   {
    "duration": 908,
    "start_time": "2022-07-11T18:50:44.087Z"
   },
   {
    "duration": 4,
    "start_time": "2022-07-11T18:50:44.996Z"
   },
   {
    "duration": 38,
    "start_time": "2022-07-11T18:50:45.002Z"
   },
   {
    "duration": 9,
    "start_time": "2022-07-11T18:50:45.042Z"
   },
   {
    "duration": 22,
    "start_time": "2022-07-11T18:50:45.052Z"
   },
   {
    "duration": 9,
    "start_time": "2022-07-11T18:50:45.075Z"
   },
   {
    "duration": 8,
    "start_time": "2022-07-11T18:50:45.085Z"
   },
   {
    "duration": 166,
    "start_time": "2022-07-11T18:50:45.094Z"
   },
   {
    "duration": 98,
    "start_time": "2022-07-11T18:50:45.263Z"
   },
   {
    "duration": 3,
    "start_time": "2022-07-11T18:50:45.362Z"
   },
   {
    "duration": 259924,
    "start_time": "2022-07-11T18:50:45.366Z"
   },
   {
    "duration": 4,
    "start_time": "2022-07-11T18:55:05.292Z"
   },
   {
    "duration": 10,
    "start_time": "2022-07-11T18:55:05.298Z"
   },
   {
    "duration": 6317,
    "start_time": "2022-07-11T18:55:05.310Z"
   },
   {
    "duration": 4,
    "start_time": "2022-07-11T18:55:11.629Z"
   },
   {
    "duration": 5502,
    "start_time": "2022-07-11T21:40:16.623Z"
   },
   {
    "duration": 116,
    "start_time": "2022-07-11T21:40:22.128Z"
   },
   {
    "duration": 79,
    "start_time": "2022-07-11T21:40:22.246Z"
   },
   {
    "duration": 16,
    "start_time": "2022-07-11T21:40:22.328Z"
   },
   {
    "duration": 3,
    "start_time": "2022-07-11T21:40:22.346Z"
   },
   {
    "duration": 16,
    "start_time": "2022-07-11T21:40:22.425Z"
   },
   {
    "duration": 88,
    "start_time": "2022-07-11T21:40:22.443Z"
   },
   {
    "duration": 13,
    "start_time": "2022-07-11T21:40:22.533Z"
   },
   {
    "duration": 1216,
    "start_time": "2022-07-11T21:40:22.624Z"
   },
   {
    "duration": 980,
    "start_time": "2022-07-11T21:40:23.844Z"
   },
   {
    "duration": 807,
    "start_time": "2022-07-11T21:40:24.827Z"
   },
   {
    "duration": 1193,
    "start_time": "2022-07-11T21:40:25.636Z"
   },
   {
    "duration": 805,
    "start_time": "2022-07-11T21:40:26.833Z"
   },
   {
    "duration": 4285,
    "start_time": "2022-07-11T21:40:27.640Z"
   },
   {
    "duration": 5,
    "start_time": "2022-07-11T21:40:31.928Z"
   },
   {
    "duration": 17,
    "start_time": "2022-07-11T21:40:31.935Z"
   },
   {
    "duration": 5,
    "start_time": "2022-07-11T21:40:32.024Z"
   },
   {
    "duration": 93,
    "start_time": "2022-07-11T21:40:32.031Z"
   },
   {
    "duration": 11,
    "start_time": "2022-07-11T21:40:32.126Z"
   },
   {
    "duration": 7,
    "start_time": "2022-07-11T21:40:32.139Z"
   },
   {
    "duration": 181,
    "start_time": "2022-07-11T21:40:32.147Z"
   },
   {
    "duration": 96,
    "start_time": "2022-07-11T21:40:32.331Z"
   },
   {
    "duration": 94,
    "start_time": "2022-07-11T21:40:32.430Z"
   }
  ],
  "kernelspec": {
   "display_name": "Python 3 (ipykernel)",
   "language": "python",
   "name": "python3"
  },
  "language_info": {
   "codemirror_mode": {
    "name": "ipython",
    "version": 3
   },
   "file_extension": ".py",
   "mimetype": "text/x-python",
   "name": "python",
   "nbconvert_exporter": "python",
   "pygments_lexer": "ipython3",
   "version": "3.9.10"
  },
  "toc": {
   "base_numbering": 1,
   "nav_menu": {},
   "number_sections": true,
   "sideBar": true,
   "skip_h1_title": true,
   "title_cell": "Содержание",
   "title_sidebar": "Contents",
   "toc_cell": true,
   "toc_position": {},
   "toc_section_display": true,
   "toc_window_display": false
  }
 },
 "nbformat": 4,
 "nbformat_minor": 2
}
