{
 "cells": [
  {
   "cell_type": "markdown",
   "metadata": {
    "id": "E0vqbgi9ay0H"
   },
   "source": [
    "# Яндекс.Музыка"
   ]
  },
  {
   "cell_type": "markdown",
   "metadata": {
    "id": "VUC88oWjTJw2"
   },
   "source": [
    "**Цель исследования** — проверьте три гипотезы:\n",
    "1. Активность пользователей зависит от дня недели. Причём в Москве и Петербурге это проявляется по-разному.\n",
    "2. В понедельник утром в Москве преобладают одни жанры, а в Петербурге — другие. Так же и вечером пятницы преобладают разные жанры — в зависимости от города. \n",
    "3. Москва и Петербург предпочитают разные жанры музыки. В Москве чаще слушают поп-музыку, в Петербурге — русский рэп."
   ]
  },
  {
   "cell_type": "markdown",
   "metadata": {
    "id": "Ml1hmfXC_Zcs"
   },
   "source": [
    "## Обзор данных\n",
    "\n",
    "Составьте первое представление о данных Яндекс.Музыки.\n",
    "\n",
    "\n"
   ]
  },
  {
   "cell_type": "markdown",
   "metadata": {
    "id": "57eAOGIz_Zcs"
   },
   "source": [
    "Основной инструмент аналитика — `pandas`. Импортируйте эту библиотеку."
   ]
  },
  {
   "cell_type": "code",
   "execution_count": 1,
   "metadata": {
    "id": "AXN7PHPN_Zcs"
   },
   "outputs": [],
   "source": [
    "import pandas as pd # импорт библиотеки pandas"
   ]
  },
  {
   "cell_type": "markdown",
   "metadata": {
    "id": "SG23P8tt_Zcs"
   },
   "source": [
    "Прочитайте файл `yandex_music_project.csv` из папки `/datasets` и сохраните его в переменной `df`:"
   ]
  },
  {
   "cell_type": "code",
   "execution_count": 2,
   "metadata": {
    "id": "fFVu7vqh_Zct"
   },
   "outputs": [],
   "source": [
    "df = pd.read_csv(\"/datasets/yandex_music_project.csv\")# чтение файла с данными и сохранение в df"
   ]
  },
  {
   "cell_type": "markdown",
   "metadata": {
    "id": "rDoOMd3uTqnZ"
   },
   "source": [
    "Выведите на экран первые десять строк таблицы:"
   ]
  },
  {
   "cell_type": "code",
   "execution_count": 3,
   "metadata": {
    "id": "oWTVX3gW_Zct"
   },
   "outputs": [
    {
     "data": {
      "text/html": [
       "<div>\n",
       "<style scoped>\n",
       "    .dataframe tbody tr th:only-of-type {\n",
       "        vertical-align: middle;\n",
       "    }\n",
       "\n",
       "    .dataframe tbody tr th {\n",
       "        vertical-align: top;\n",
       "    }\n",
       "\n",
       "    .dataframe thead th {\n",
       "        text-align: right;\n",
       "    }\n",
       "</style>\n",
       "<table border=\"1\" class=\"dataframe\">\n",
       "  <thead>\n",
       "    <tr style=\"text-align: right;\">\n",
       "      <th></th>\n",
       "      <th>userID</th>\n",
       "      <th>Track</th>\n",
       "      <th>artist</th>\n",
       "      <th>genre</th>\n",
       "      <th>City</th>\n",
       "      <th>time</th>\n",
       "      <th>Day</th>\n",
       "    </tr>\n",
       "  </thead>\n",
       "  <tbody>\n",
       "    <tr>\n",
       "      <td>0</td>\n",
       "      <td>FFB692EC</td>\n",
       "      <td>Kamigata To Boots</td>\n",
       "      <td>The Mass Missile</td>\n",
       "      <td>rock</td>\n",
       "      <td>Saint-Petersburg</td>\n",
       "      <td>20:28:33</td>\n",
       "      <td>Wednesday</td>\n",
       "    </tr>\n",
       "    <tr>\n",
       "      <td>1</td>\n",
       "      <td>55204538</td>\n",
       "      <td>Delayed Because of Accident</td>\n",
       "      <td>Andreas Rönnberg</td>\n",
       "      <td>rock</td>\n",
       "      <td>Moscow</td>\n",
       "      <td>14:07:09</td>\n",
       "      <td>Friday</td>\n",
       "    </tr>\n",
       "    <tr>\n",
       "      <td>2</td>\n",
       "      <td>20EC38</td>\n",
       "      <td>Funiculì funiculà</td>\n",
       "      <td>Mario Lanza</td>\n",
       "      <td>pop</td>\n",
       "      <td>Saint-Petersburg</td>\n",
       "      <td>20:58:07</td>\n",
       "      <td>Wednesday</td>\n",
       "    </tr>\n",
       "    <tr>\n",
       "      <td>3</td>\n",
       "      <td>A3DD03C9</td>\n",
       "      <td>Dragons in the Sunset</td>\n",
       "      <td>Fire + Ice</td>\n",
       "      <td>folk</td>\n",
       "      <td>Saint-Petersburg</td>\n",
       "      <td>08:37:09</td>\n",
       "      <td>Monday</td>\n",
       "    </tr>\n",
       "    <tr>\n",
       "      <td>4</td>\n",
       "      <td>E2DC1FAE</td>\n",
       "      <td>Soul People</td>\n",
       "      <td>Space Echo</td>\n",
       "      <td>dance</td>\n",
       "      <td>Moscow</td>\n",
       "      <td>08:34:34</td>\n",
       "      <td>Monday</td>\n",
       "    </tr>\n",
       "    <tr>\n",
       "      <td>5</td>\n",
       "      <td>842029A1</td>\n",
       "      <td>Преданная</td>\n",
       "      <td>IMPERVTOR</td>\n",
       "      <td>rusrap</td>\n",
       "      <td>Saint-Petersburg</td>\n",
       "      <td>13:09:41</td>\n",
       "      <td>Friday</td>\n",
       "    </tr>\n",
       "    <tr>\n",
       "      <td>6</td>\n",
       "      <td>4CB90AA5</td>\n",
       "      <td>True</td>\n",
       "      <td>Roman Messer</td>\n",
       "      <td>dance</td>\n",
       "      <td>Moscow</td>\n",
       "      <td>13:00:07</td>\n",
       "      <td>Wednesday</td>\n",
       "    </tr>\n",
       "    <tr>\n",
       "      <td>7</td>\n",
       "      <td>F03E1C1F</td>\n",
       "      <td>Feeling This Way</td>\n",
       "      <td>Polina Griffith</td>\n",
       "      <td>dance</td>\n",
       "      <td>Moscow</td>\n",
       "      <td>20:47:49</td>\n",
       "      <td>Wednesday</td>\n",
       "    </tr>\n",
       "    <tr>\n",
       "      <td>8</td>\n",
       "      <td>8FA1D3BE</td>\n",
       "      <td>И вновь продолжается бой</td>\n",
       "      <td>NaN</td>\n",
       "      <td>ruspop</td>\n",
       "      <td>Moscow</td>\n",
       "      <td>09:17:40</td>\n",
       "      <td>Friday</td>\n",
       "    </tr>\n",
       "    <tr>\n",
       "      <td>9</td>\n",
       "      <td>E772D5C0</td>\n",
       "      <td>Pessimist</td>\n",
       "      <td>NaN</td>\n",
       "      <td>dance</td>\n",
       "      <td>Saint-Petersburg</td>\n",
       "      <td>21:20:49</td>\n",
       "      <td>Wednesday</td>\n",
       "    </tr>\n",
       "  </tbody>\n",
       "</table>\n",
       "</div>"
      ],
      "text/plain": [
       "     userID                        Track            artist   genre  \\\n",
       "0  FFB692EC            Kamigata To Boots  The Mass Missile    rock   \n",
       "1  55204538  Delayed Because of Accident  Andreas Rönnberg    rock   \n",
       "2    20EC38            Funiculì funiculà       Mario Lanza     pop   \n",
       "3  A3DD03C9        Dragons in the Sunset        Fire + Ice    folk   \n",
       "4  E2DC1FAE                  Soul People        Space Echo   dance   \n",
       "5  842029A1                    Преданная         IMPERVTOR  rusrap   \n",
       "6  4CB90AA5                         True      Roman Messer   dance   \n",
       "7  F03E1C1F             Feeling This Way   Polina Griffith   dance   \n",
       "8  8FA1D3BE     И вновь продолжается бой               NaN  ruspop   \n",
       "9  E772D5C0                    Pessimist               NaN   dance   \n",
       "\n",
       "             City        time        Day  \n",
       "0  Saint-Petersburg  20:28:33  Wednesday  \n",
       "1            Moscow  14:07:09     Friday  \n",
       "2  Saint-Petersburg  20:58:07  Wednesday  \n",
       "3  Saint-Petersburg  08:37:09     Monday  \n",
       "4            Moscow  08:34:34     Monday  \n",
       "5  Saint-Petersburg  13:09:41     Friday  \n",
       "6            Moscow  13:00:07  Wednesday  \n",
       "7            Moscow  20:47:49  Wednesday  \n",
       "8            Moscow  09:17:40     Friday  \n",
       "9  Saint-Petersburg  21:20:49  Wednesday  "
      ]
     },
     "execution_count": 3,
     "metadata": {},
     "output_type": "execute_result"
    }
   ],
   "source": [
    "df.head(10) # получение первых 10 строк таблицы df"
   ]
  },
  {
   "cell_type": "markdown",
   "metadata": {
    "id": "EO73Kwic_Zct"
   },
   "source": [
    "Одной командой получить общую информацию о таблице:"
   ]
  },
  {
   "cell_type": "code",
   "execution_count": 4,
   "metadata": {
    "id": "DSf2kIb-_Zct"
   },
   "outputs": [
    {
     "name": "stdout",
     "output_type": "stream",
     "text": [
      "<class 'pandas.core.frame.DataFrame'>\n",
      "RangeIndex: 65079 entries, 0 to 65078\n",
      "Data columns (total 7 columns):\n",
      "  userID    65079 non-null object\n",
      "Track       63848 non-null object\n",
      "artist      57876 non-null object\n",
      "genre       63881 non-null object\n",
      "  City      65079 non-null object\n",
      "time        65079 non-null object\n",
      "Day         65079 non-null object\n",
      "dtypes: object(7)\n",
      "memory usage: 3.5+ MB\n"
     ]
    }
   ],
   "source": [
    "df.info() # получение общей информации о данных в таблице df"
   ]
  },
  {
   "cell_type": "markdown",
   "metadata": {
    "id": "TaQ2Iwbr_Zct"
   },
   "source": [
    "Итак, в таблице семь столбцов. Тип данных во всех столбцах — `object`.\n",
    "\n",
    "Согласно документации к данным:\n",
    "* `userID` — идентификатор пользователя;\n",
    "* `Track` — название трека;  \n",
    "* `artist` — имя исполнителя;\n",
    "* `genre` — название жанра;\n",
    "* `City` — город пользователя;\n",
    "* `time` — время начала прослушивания;\n",
    "* `Day` — день недели.\n",
    "\n",
    "В названиях колонок видны три нарушения стиля:\n",
    "1. Строчные буквы сочетаются с прописными.\n",
    "2. Встречаются пробелы.\n",
    "3. Найдите ещё одну проблему в названии колонок и опишите её в этом пункте.\n",
    "\n",
    "\n",
    "\n",
    "Количество значений в столбцах различается. Значит, в данных есть пропущенные значения.\n"
   ]
  },
  {
   "cell_type": "markdown",
   "metadata": {
    "id": "MCB6-dXG_Zct"
   },
   "source": [
    "**Выводы**\n",
    "\n",
    "В каждой строке таблицы — данные о прослушанном треке. Часть колонок описывает саму композицию: название, исполнителя и жанр. Остальные данные рассказывают о пользователе: из какого он города, когда он слушал музыку. \n",
    "\n",
    "Предварительно можно утверждать, что, данных достаточно для проверки гипотез. Но встречаются пропуски в данных, а в названиях колонок — расхождения с хорошим стилем.\n",
    "\n",
    "Чтобы двигаться дальше, нужно устранить проблемы в данных."
   ]
  },
  {
   "cell_type": "markdown",
   "metadata": {
    "id": "SjYF6Ub9_Zct"
   },
   "source": [
    "## Предобработка данных\n",
    "Исправьте стиль в заголовках столбцов, исключите пропуски. Затем проверьте данные на дубликаты."
   ]
  },
  {
   "cell_type": "markdown",
   "metadata": {
    "id": "dIaKXr29_Zct"
   },
   "source": [
    "### Стиль заголовков\n",
    "Выведите на экран названия столбцов:"
   ]
  },
  {
   "cell_type": "code",
   "execution_count": 5,
   "metadata": {
    "id": "oKOTdF_Q_Zct"
   },
   "outputs": [
    {
     "data": {
      "text/plain": [
       "Index(['  userID', 'Track', 'artist', 'genre', '  City  ', 'time', 'Day'], dtype='object')"
      ]
     },
     "execution_count": 5,
     "metadata": {},
     "output_type": "execute_result"
    }
   ],
   "source": [
    "df.columns # перечень названий столбцов таблицы df"
   ]
  },
  {
   "cell_type": "markdown",
   "metadata": {
    "id": "zj5534cv_Zct"
   },
   "source": [
    "Приведите названия в соответствие с хорошим стилем:\n",
    "* несколько слов в названии запишите в «змеином_регистре»,\n",
    "* все символы сделайте строчными,\n",
    "* устраните пробелы.\n",
    "\n",
    "Для этого переименуйте колонки так:\n",
    "* `'  userID'` → `'user_id'`;\n",
    "* `'Track'` → `'track'`;\n",
    "* `'  City  '` → `'city'`;\n",
    "* `'Day'` → `'day'`."
   ]
  },
  {
   "cell_type": "code",
   "execution_count": 6,
   "metadata": {
    "id": "ISlFqs5y_Zct"
   },
   "outputs": [],
   "source": [
    "df = df.rename(columns = {'  userID' : 'user_id', 'Track' : 'track', '  City  ' : 'city', 'Day' : 'day'}) # переименование столбцов"
   ]
  },
  {
   "cell_type": "markdown",
   "metadata": {
    "id": "1dqbh00J_Zct"
   },
   "source": [
    "Проверьте результат. Для этого ещё раз выведите на экран названия столбцов:"
   ]
  },
  {
   "cell_type": "code",
   "execution_count": 7,
   "metadata": {
    "id": "d4NOAmTW_Zct"
   },
   "outputs": [
    {
     "data": {
      "text/plain": [
       "Index(['user_id', 'track', 'artist', 'genre', 'city', 'time', 'day'], dtype='object')"
      ]
     },
     "execution_count": 7,
     "metadata": {},
     "output_type": "execute_result"
    }
   ],
   "source": [
    "df.columns # проверка результатов - перечень названий столбцов"
   ]
  },
  {
   "cell_type": "markdown",
   "metadata": {
    "id": "5ISfbcfY_Zct"
   },
   "source": [
    "### Пропуски значений\n",
    "Сначала посчитайте, сколько в таблице пропущенных значений. Для этого достаточно двух методов `pandas`:"
   ]
  },
  {
   "cell_type": "code",
   "execution_count": 8,
   "metadata": {
    "id": "RskX29qr_Zct"
   },
   "outputs": [
    {
     "data": {
      "text/plain": [
       "user_id       0\n",
       "track      1231\n",
       "artist     7203\n",
       "genre      1198\n",
       "city          0\n",
       "time          0\n",
       "day           0\n",
       "dtype: int64"
      ]
     },
     "execution_count": 8,
     "metadata": {},
     "output_type": "execute_result"
    }
   ],
   "source": [
    "df.isna().sum() # подсчёт пропусков"
   ]
  },
  {
   "cell_type": "markdown",
   "metadata": {
    "id": "qubhgnlO_Zct"
   },
   "source": [
    "Не все пропущенные значения влияют на исследование. Так в `track` и `artist` пропуски не важны для вашей работы. Достаточно заменить их явными обозначениями.\n",
    "\n",
    "Но пропуски в `genre` могут помешать сравнению музыкальных вкусов в Москве и Санкт-Петербурге. На практике было бы правильно установить причину пропусков и восстановить данные. Такой возможности нет в учебном проекте. Придётся:\n",
    "* заполнить и эти пропуски явными обозначениями,\n",
    "* оценить, насколько они повредят расчётам. "
   ]
  },
  {
   "cell_type": "markdown",
   "metadata": {
    "id": "fSv2laPA_Zct"
   },
   "source": [
    "Замените пропущенные значения в столбцах `track`, `artist` и `genre` на строку `'unknown'`. Для этого создайте список `columns_to_replace`, переберите его элементы циклом `for` и для каждого столбца выполните замену пропущенных значений:"
   ]
  },
  {
   "cell_type": "code",
   "execution_count": 9,
   "metadata": {
    "id": "KplB5qWs_Zct"
   },
   "outputs": [],
   "source": [
    "columns_to_replace = ['track', 'artist', 'genre']\n",
    "for i in columns_to_replace:\n",
    "    df[i] = df[i].fillna('unknown')\n",
    "# перебор названий столбцов в цикле и замена пропущенных значений на 'unknown'"
   ]
  },
  {
   "cell_type": "markdown",
   "metadata": {
    "id": "Ilsm-MZo_Zct"
   },
   "source": [
    "Убедитесь, что в таблице не осталось пропусков. Для этого ещё раз посчитайте пропущенные значения."
   ]
  },
  {
   "cell_type": "code",
   "execution_count": 10,
   "metadata": {
    "id": "Tq4nYRX4_Zct"
   },
   "outputs": [
    {
     "data": {
      "text/plain": [
       "user_id    0\n",
       "track      0\n",
       "artist     0\n",
       "genre      0\n",
       "city       0\n",
       "time       0\n",
       "day        0\n",
       "dtype: int64"
      ]
     },
     "execution_count": 10,
     "metadata": {},
     "output_type": "execute_result"
    }
   ],
   "source": [
    "df.isna().sum() # подсчёт пропусков"
   ]
  },
  {
   "cell_type": "markdown",
   "metadata": {
    "id": "BWKRtBJ3_Zct"
   },
   "source": [
    "### Дубликаты\n",
    "Посчитайте явные дубликаты в таблице одной командой:"
   ]
  },
  {
   "cell_type": "code",
   "execution_count": 11,
   "metadata": {
    "id": "36eES_S0_Zct"
   },
   "outputs": [
    {
     "data": {
      "text/plain": [
       "3826"
      ]
     },
     "execution_count": 11,
     "metadata": {},
     "output_type": "execute_result"
    }
   ],
   "source": [
    "df.duplicated().sum() # подсчёт явных дубликатов"
   ]
  },
  {
   "cell_type": "markdown",
   "metadata": {
    "id": "Ot25h6XR_Zct"
   },
   "source": [
    "Вызовите специальный метод `pandas`, чтобы удалить явные дубликаты:"
   ]
  },
  {
   "cell_type": "code",
   "execution_count": 12,
   "metadata": {
    "id": "exFHq6tt_Zct"
   },
   "outputs": [],
   "source": [
    "df = df.drop_duplicates().reset_index(drop=True) # удаление явных дубликатов (с удалением старых индексов и формированием новых)"
   ]
  },
  {
   "cell_type": "markdown",
   "metadata": {
    "id": "Im2YwBEG_Zct"
   },
   "source": [
    "Ещё раз посчитайте явные дубликаты в таблице — убедитесь, что полностью от них избавились:"
   ]
  },
  {
   "cell_type": "code",
   "execution_count": 13,
   "metadata": {
    "id": "-8PuNWQ0_Zct"
   },
   "outputs": [
    {
     "data": {
      "text/plain": [
       "0"
      ]
     },
     "execution_count": 13,
     "metadata": {},
     "output_type": "execute_result"
    }
   ],
   "source": [
    "df.duplicated().sum() # проверка на отсутствие дубликатов"
   ]
  },
  {
   "cell_type": "markdown",
   "metadata": {
    "id": "QlFBsxAr_Zct"
   },
   "source": [
    "Теперь избавьтесь от неявных дубликатов в колонке `genre`. Например, название одного и того же жанра может быть записано немного по-разному. Такие ошибки тоже повлияют на результат исследования."
   ]
  },
  {
   "cell_type": "markdown",
   "metadata": {
    "id": "eSjWwsOh_Zct"
   },
   "source": [
    "Выведите на экран список уникальных названий жанров, отсортированный в алфавитном порядке. Для этого:\n",
    "* извлеките нужный столбец датафрейма, \n",
    "* примените к нему метод сортировки,\n",
    "* для отсортированного столбца вызовите метод, который вернёт уникальные значения из столбца."
   ]
  },
  {
   "cell_type": "code",
   "execution_count": 14,
   "metadata": {
    "id": "JIUcqzZN_Zct",
    "scrolled": false
   },
   "outputs": [
    {
     "data": {
      "text/plain": [
       "array(['acid', 'acoustic', 'action', 'adult', 'africa', 'afrikaans',\n",
       "       'alternative', 'alternativepunk', 'ambient', 'americana',\n",
       "       'animated', 'anime', 'arabesk', 'arabic', 'arena',\n",
       "       'argentinetango', 'art', 'audiobook', 'author', 'avantgarde',\n",
       "       'axé', 'baile', 'balkan', 'beats', 'bigroom', 'black', 'bluegrass',\n",
       "       'blues', 'bollywood', 'bossa', 'brazilian', 'breakbeat', 'breaks',\n",
       "       'broadway', 'cantautori', 'cantopop', 'canzone', 'caribbean',\n",
       "       'caucasian', 'celtic', 'chamber', 'chanson', 'children', 'chill',\n",
       "       'chinese', 'choral', 'christian', 'christmas', 'classical',\n",
       "       'classicmetal', 'club', 'colombian', 'comedy', 'conjazz',\n",
       "       'contemporary', 'country', 'cuban', 'dance', 'dancehall',\n",
       "       'dancepop', 'dark', 'death', 'deep', 'deutschrock', 'deutschspr',\n",
       "       'dirty', 'disco', 'dnb', 'documentary', 'downbeat', 'downtempo',\n",
       "       'drum', 'dub', 'dubstep', 'eastern', 'easy', 'electronic',\n",
       "       'electropop', 'emo', 'entehno', 'epicmetal', 'estrada', 'ethnic',\n",
       "       'eurofolk', 'european', 'experimental', 'extrememetal', 'fado',\n",
       "       'fairytail', 'film', 'fitness', 'flamenco', 'folk', 'folklore',\n",
       "       'folkmetal', 'folkrock', 'folktronica', 'forró', 'frankreich',\n",
       "       'französisch', 'french', 'funk', 'future', 'gangsta', 'garage',\n",
       "       'german', 'ghazal', 'gitarre', 'glitch', 'gospel', 'gothic',\n",
       "       'grime', 'grunge', 'gypsy', 'handsup', \"hard'n'heavy\", 'hardcore',\n",
       "       'hardstyle', 'hardtechno', 'hip', 'hip-hop', 'hiphop',\n",
       "       'historisch', 'holiday', 'hop', 'horror', 'house', 'hymn', 'idm',\n",
       "       'independent', 'indian', 'indie', 'indipop', 'industrial',\n",
       "       'inspirational', 'instrumental', 'international', 'irish', 'jam',\n",
       "       'japanese', 'jazz', 'jewish', 'jpop', 'jungle', 'k-pop',\n",
       "       'karadeniz', 'karaoke', 'kayokyoku', 'korean', 'laiko', 'latin',\n",
       "       'latino', 'leftfield', 'local', 'lounge', 'loungeelectronic',\n",
       "       'lovers', 'malaysian', 'mandopop', 'marschmusik', 'meditative',\n",
       "       'mediterranean', 'melodic', 'metal', 'metalcore', 'mexican',\n",
       "       'middle', 'minimal', 'miscellaneous', 'modern', 'mood', 'mpb',\n",
       "       'muslim', 'native', 'neoklassik', 'neue', 'new', 'newage',\n",
       "       'newwave', 'nu', 'nujazz', 'numetal', 'oceania', 'old', 'opera',\n",
       "       'orchestral', 'other', 'piano', 'podcasts', 'pop', 'popdance',\n",
       "       'popelectronic', 'popeurodance', 'poprussian', 'post',\n",
       "       'posthardcore', 'postrock', 'power', 'progmetal', 'progressive',\n",
       "       'psychedelic', 'punjabi', 'punk', 'quebecois', 'ragga', 'ram',\n",
       "       'rancheras', 'rap', 'rave', 'reggae', 'reggaeton', 'regional',\n",
       "       'relax', 'religious', 'retro', 'rhythm', 'rnb', 'rnr', 'rock',\n",
       "       'rockabilly', 'rockalternative', 'rockindie', 'rockother',\n",
       "       'romance', 'roots', 'ruspop', 'rusrap', 'rusrock', 'russian',\n",
       "       'salsa', 'samba', 'scenic', 'schlager', 'self', 'sertanejo',\n",
       "       'shanson', 'shoegazing', 'showtunes', 'singer', 'ska', 'skarock',\n",
       "       'slow', 'smooth', 'soft', 'soul', 'soulful', 'sound', 'soundtrack',\n",
       "       'southern', 'specialty', 'speech', 'spiritual', 'sport',\n",
       "       'stonerrock', 'surf', 'swing', 'synthpop', 'synthrock',\n",
       "       'sängerportrait', 'tango', 'tanzorchester', 'taraftar', 'tatar',\n",
       "       'tech', 'techno', 'teen', 'thrash', 'top', 'traditional',\n",
       "       'tradjazz', 'trance', 'tribal', 'trip', 'triphop', 'tropical',\n",
       "       'türk', 'türkçe', 'ukrrock', 'unknown', 'urban', 'uzbek',\n",
       "       'variété', 'vi', 'videogame', 'vocal', 'western', 'world',\n",
       "       'worldbeat', 'ïîï', 'электроника'], dtype=object)"
      ]
     },
     "execution_count": 14,
     "metadata": {},
     "output_type": "execute_result"
    }
   ],
   "source": [
    "df['genre'].sort_values().unique() # Просмотр уникальных названий жанров"
   ]
  },
  {
   "cell_type": "markdown",
   "metadata": {
    "id": "qej-Qmuo_Zct"
   },
   "source": [
    "Просмотрите список и найдите неявные дубликаты названия `hiphop`. Это могут быть названия с ошибками или альтернативные названия того же жанра.\n",
    "\n",
    "Вы увидите следующие неявные дубликаты:\n",
    "* *hip*,\n",
    "* *hop*,\n",
    "* *hip-hop*.\n",
    "\n",
    "Чтобы очистить от них таблицу, напишите функцию `replace_wrong_genres()` с двумя параметрами: \n",
    "* `wrong_genres` — список дубликатов,\n",
    "* `correct_genre` — строка с правильным значением.\n",
    "\n",
    "Функция должна исправить колонку `genre` в таблице `df`: заменить каждое значение из списка `wrong_genres` на значение из `correct_genre`."
   ]
  },
  {
   "cell_type": "code",
   "execution_count": 15,
   "metadata": {
    "id": "ErNDkmns_Zct"
   },
   "outputs": [],
   "source": [
    "def replace_wrong_genres(wrong_genres, correct_genre):\n",
    "    for i in wrong_genres:\n",
    "        df['genre'] = df['genre'].replace(wrong_genres, correct_genre)\n",
    "# Функция для замены неявных дубликатов"
   ]
  },
  {
   "cell_type": "markdown",
   "metadata": {
    "id": "aDoBJxbA_Zct"
   },
   "source": [
    "Вызовите `replace_wrong_genres()` и передайте ей такие аргументы, чтобы она устранила неявные дубликаты: вместо `hip`, `hop` и `hip-hop` в таблице должно быть значение `hiphop`:"
   ]
  },
  {
   "cell_type": "code",
   "execution_count": 16,
   "metadata": {
    "id": "YN5i2hpmSo09"
   },
   "outputs": [],
   "source": [
    "wrong_genres = ['hip', 'hop', 'hip-hop']\n",
    "replace_wrong_genres(wrong_genres,'hiphop')\n",
    "# Устранение неявных дубликатов"
   ]
  },
  {
   "cell_type": "markdown",
   "metadata": {
    "id": "zQKF16_RG15m"
   },
   "source": [
    "Проверьте, что заменили неправильные названия:\n",
    "\n",
    "*   hip\n",
    "*   hop\n",
    "*   hip-hop\n",
    "\n",
    "Выведите отсортированный список уникальных значений столбца `genre`:"
   ]
  },
  {
   "cell_type": "code",
   "execution_count": 17,
   "metadata": {
    "id": "wvixALnFG15m",
    "scrolled": true
   },
   "outputs": [
    {
     "data": {
      "text/plain": [
       "array(['rock', 'pop', 'folk', 'dance', 'rusrap', 'ruspop', 'world',\n",
       "       'electronic', 'unknown', 'alternative', 'children', 'rnb',\n",
       "       'hiphop', 'jazz', 'postrock', 'latin', 'classical', 'metal',\n",
       "       'reggae', 'tatar', 'blues', 'instrumental', 'rusrock', 'dnb',\n",
       "       'türk', 'post', 'country', 'psychedelic', 'conjazz', 'indie',\n",
       "       'posthardcore', 'local', 'avantgarde', 'punk', 'videogame',\n",
       "       'techno', 'house', 'christmas', 'melodic', 'caucasian',\n",
       "       'reggaeton', 'soundtrack', 'singer', 'ska', 'shanson', 'ambient',\n",
       "       'film', 'western', 'rap', 'beats', \"hard'n'heavy\", 'progmetal',\n",
       "       'minimal', 'contemporary', 'new', 'soul', 'holiday', 'german',\n",
       "       'tropical', 'fairytail', 'spiritual', 'urban', 'gospel', 'nujazz',\n",
       "       'folkmetal', 'trance', 'miscellaneous', 'anime', 'hardcore',\n",
       "       'progressive', 'chanson', 'numetal', 'vocal', 'estrada', 'russian',\n",
       "       'classicmetal', 'dubstep', 'club', 'deep', 'southern', 'black',\n",
       "       'folkrock', 'fitness', 'french', 'disco', 'religious', 'drum',\n",
       "       'extrememetal', 'türkçe', 'experimental', 'easy', 'metalcore',\n",
       "       'modern', 'argentinetango', 'old', 'breaks', 'eurofolk',\n",
       "       'stonerrock', 'industrial', 'funk', 'jpop', 'middle', 'variété',\n",
       "       'other', 'adult', 'christian', 'gothic', 'international', 'muslim',\n",
       "       'relax', 'schlager', 'caribbean', 'ukrrock', 'nu', 'breakbeat',\n",
       "       'comedy', 'chill', 'newage', 'specialty', 'uzbek', 'k-pop',\n",
       "       'balkan', 'chinese', 'meditative', 'dub', 'power', 'death',\n",
       "       'grime', 'arabesk', 'romance', 'flamenco', 'leftfield', 'european',\n",
       "       'tech', 'newwave', 'dancehall', 'mpb', 'piano', 'top', 'bigroom',\n",
       "       'opera', 'celtic', 'tradjazz', 'acoustic', 'epicmetal',\n",
       "       'historisch', 'downbeat', 'downtempo', 'africa', 'audiobook',\n",
       "       'jewish', 'sängerportrait', 'deutschrock', 'eastern', 'action',\n",
       "       'future', 'electropop', 'folklore', 'bollywood', 'marschmusik',\n",
       "       'rnr', 'karaoke', 'indian', 'rancheras', 'электроника',\n",
       "       'afrikaans', 'tango', 'rhythm', 'sound', 'deutschspr', 'trip',\n",
       "       'lovers', 'choral', 'dancepop', 'podcasts', 'retro', 'smooth',\n",
       "       'mexican', 'brazilian', 'ïîï', 'mood', 'surf', 'author', 'gangsta',\n",
       "       'triphop', 'inspirational', 'idm', 'ethnic', 'bluegrass',\n",
       "       'broadway', 'animated', 'americana', 'karadeniz', 'rockabilly',\n",
       "       'colombian', 'self', 'synthrock', 'sertanejo', 'japanese',\n",
       "       'canzone', 'swing', 'lounge', 'sport', 'korean', 'ragga',\n",
       "       'traditional', 'gitarre', 'frankreich', 'alternativepunk', 'emo',\n",
       "       'laiko', 'cantopop', 'glitch', 'documentary', 'rockalternative',\n",
       "       'thrash', 'hymn', 'oceania', 'rockother', 'popeurodance', 'dark',\n",
       "       'vi', 'grunge', 'hardstyle', 'samba', 'garage', 'soft', 'art',\n",
       "       'folktronica', 'entehno', 'mediterranean', 'chamber', 'cuban',\n",
       "       'taraftar', 'rockindie', 'gypsy', 'hardtechno', 'shoegazing',\n",
       "       'skarock', 'bossa', 'salsa', 'latino', 'worldbeat', 'malaysian',\n",
       "       'baile', 'ghazal', 'loungeelectronic', 'arabic', 'popelectronic',\n",
       "       'acid', 'kayokyoku', 'neoklassik', 'tribal', 'tanzorchester',\n",
       "       'native', 'independent', 'cantautori', 'handsup', 'poprussian',\n",
       "       'punjabi', 'synthpop', 'rave', 'französisch', 'quebecois',\n",
       "       'speech', 'soulful', 'teen', 'jam', 'ram', 'horror', 'scenic',\n",
       "       'orchestral', 'neue', 'roots', 'slow', 'jungle', 'indipop', 'axé',\n",
       "       'fado', 'showtunes', 'arena', 'irish', 'mandopop', 'forró',\n",
       "       'popdance', 'dirty', 'regional'], dtype=object)"
      ]
     },
     "execution_count": 17,
     "metadata": {},
     "output_type": "execute_result"
    }
   ],
   "source": [
    "df['genre'].unique() # Проверка на неявные дубликаты"
   ]
  },
  {
   "cell_type": "markdown",
   "metadata": {
    "id": "jz6a9-7HQUDd"
   },
   "source": [
    "**Выводы**\n",
    "\n",
    "Предобработка обнаружила три проблемы в данных:\n",
    "\n",
    "- нарушения в стиле заголовков,\n",
    "- пропущенные значения,\n",
    "- дубликаты — явные и неявные.\n",
    "\n",
    "Вы исправили заголовки, чтобы упростить работу с таблицей. Без дубликатов исследование станет более точным.\n",
    "\n",
    "Пропущенные значения вы заменили на `'unknown'`. Ещё предстоит увидеть, не повредят ли исследованию пропуски в колонке `genre`.\n",
    "\n",
    "Теперь можно перейти к проверке гипотез. "
   ]
  },
  {
   "cell_type": "markdown",
   "metadata": {
    "id": "WttZHXH0SqKk"
   },
   "source": [
    "## Проверка гипотез"
   ]
  },
  {
   "cell_type": "markdown",
   "metadata": {
    "id": "Im936VVi_Zcu"
   },
   "source": [
    "### Сравнение поведения пользователей двух столиц"
   ]
  },
  {
   "cell_type": "markdown",
   "metadata": {
    "id": "nwt_MuaL_Zcu"
   },
   "source": [
    "Первая гипотеза утверждает, что пользователи по-разному слушают музыку в Москве и Санкт-Петербурге. Проверьте это предположение по данным о трёх днях недели — понедельнике, среде и пятнице. Для этого:\n",
    "\n",
    "* Разделите пользователей Москвы и Санкт-Петербурга\n",
    "* Сравните, сколько треков послушала каждая группа пользователей в понедельник, среду и пятницу.\n"
   ]
  },
  {
   "cell_type": "markdown",
   "metadata": {
    "id": "8Dw_YMmT_Zcu"
   },
   "source": [
    "Для тренировки сначала выполните каждый из расчётов по отдельности. \n",
    "\n",
    "Оцените активность пользователей в каждом городе. Сгруппируйте данные по городу и посчитайте прослушивания в каждой группе.\n",
    "\n"
   ]
  },
  {
   "cell_type": "code",
   "execution_count": 18,
   "metadata": {
    "id": "0_Qs96oh_Zcu"
   },
   "outputs": [
    {
     "data": {
      "text/plain": [
       "city\n",
       "Moscow              42741\n",
       "Saint-Petersburg    18512\n",
       "Name: genre, dtype: int64"
      ]
     },
     "execution_count": 18,
     "metadata": {},
     "output_type": "execute_result"
    }
   ],
   "source": [
    "df.groupby('city')['genre'].count() # Подсчёт прослушиваний в каждом городе"
   ]
  },
  {
   "cell_type": "markdown",
   "metadata": {
    "id": "dzli3w8o_Zcu"
   },
   "source": [
    "В Москве прослушиваний больше, чем в Петербурге. Из этого не следует, что московские пользователи чаще слушают музыку. Просто самих пользователей в Москве больше.\n",
    "\n",
    "Теперь сгруппируйте данные по дню недели и подсчитайте прослушивания в понедельник, среду и пятницу. Учтите, что в данных есть информация только о прослушиваниях только за эти дни.\n"
   ]
  },
  {
   "cell_type": "code",
   "execution_count": 19,
   "metadata": {
    "id": "uZMKjiJz_Zcu",
    "scrolled": true
   },
   "outputs": [
    {
     "data": {
      "text/plain": [
       "day\n",
       "Friday       21840\n",
       "Monday       21354\n",
       "Wednesday    18059\n",
       "Name: genre, dtype: int64"
      ]
     },
     "execution_count": 19,
     "metadata": {},
     "output_type": "execute_result"
    }
   ],
   "source": [
    "df.groupby('day')['genre'].count()# Подсчёт прослушиваний в каждый из трёх дней "
   ]
  },
  {
   "cell_type": "markdown",
   "metadata": {
    "id": "cC2tNrlL_Zcu"
   },
   "source": [
    "В среднем пользователи из двух городов менее активны по средам. Но картина может измениться, если рассмотреть каждый город в отдельности."
   ]
  },
  {
   "cell_type": "markdown",
   "metadata": {
    "id": "POzs8bGa_Zcu"
   },
   "source": [
    "Вы видели, как работает группировка по городу и по дням недели. Теперь напишите функцию, которая объединит два эти расчёта.\n",
    "\n",
    "Создайте функцию `number_tracks()`, которая посчитает прослушивания для заданного дня и города. Ей понадобятся два параметра:\n",
    "* день недели,\n",
    "* название города.\n",
    "\n",
    "В функции сохраните в переменную строки исходной таблицы, у которых значение:\n",
    "  * в колонке `day` равно параметру `day`,\n",
    "  * в колонке `city` равно параметру `city`.\n",
    "\n",
    "Для этого примените последовательную фильтрацию с логической индексацией.\n",
    "\n",
    "Затем посчитайте значения в столбце `user_id` получившейся таблицы. Результат сохраните в новую переменную. Верните эту переменную из функции."
   ]
  },
  {
   "cell_type": "code",
   "execution_count": 20,
   "metadata": {
    "id": "Nz3GdQB1_Zcu"
   },
   "outputs": [],
   "source": [
    "def number_tracks(day, city):\n",
    "    track_list = df[df['day'] == day]\n",
    "    track_list = track_list[track_list['city'] == city]\n",
    "    track_list_count = track_list['user_id'].count()\n",
    "    return track_list_count"
   ]
  },
  {
   "cell_type": "markdown",
   "metadata": {
    "id": "ytf7xFrFJQ2r"
   },
   "source": [
    "Вызовите `number_tracks()` шесть раз, меняя значение параметров — так, чтобы получить данные для каждого города в каждый из трёх дней."
   ]
  },
  {
   "cell_type": "code",
   "execution_count": 21,
   "metadata": {
    "id": "rJcRATNQ_Zcu",
    "scrolled": true
   },
   "outputs": [
    {
     "data": {
      "text/plain": [
       "15740"
      ]
     },
     "execution_count": 21,
     "metadata": {},
     "output_type": "execute_result"
    }
   ],
   "source": [
    "number_tracks('Monday', 'Moscow') # количество прослушиваний в Москве по понедельникам"
   ]
  },
  {
   "cell_type": "code",
   "execution_count": 22,
   "metadata": {
    "id": "hq_ncZ5T_Zcu"
   },
   "outputs": [
    {
     "data": {
      "text/plain": [
       "5614"
      ]
     },
     "execution_count": 22,
     "metadata": {},
     "output_type": "execute_result"
    }
   ],
   "source": [
    "number_tracks('Monday', 'Saint-Petersburg') # количество прослушиваний в Санкт-Петербурге по понедельникам"
   ]
  },
  {
   "cell_type": "code",
   "execution_count": 23,
   "metadata": {
    "id": "_NTy2VPU_Zcu"
   },
   "outputs": [
    {
     "data": {
      "text/plain": [
       "11056"
      ]
     },
     "execution_count": 23,
     "metadata": {},
     "output_type": "execute_result"
    }
   ],
   "source": [
    "number_tracks('Wednesday', 'Moscow') # количество прослушиваний в Москве по средам "
   ]
  },
  {
   "cell_type": "code",
   "execution_count": 24,
   "metadata": {
    "id": "j2y3TAwo_Zcu"
   },
   "outputs": [
    {
     "data": {
      "text/plain": [
       "7003"
      ]
     },
     "execution_count": 24,
     "metadata": {},
     "output_type": "execute_result"
    }
   ],
   "source": [
    "number_tracks('Wednesday', 'Saint-Petersburg') # количество прослушиваний в Санкт-Петербурге по средам"
   ]
  },
  {
   "cell_type": "code",
   "execution_count": 25,
   "metadata": {
    "id": "vYDw5u_K_Zcu"
   },
   "outputs": [
    {
     "data": {
      "text/plain": [
       "15945"
      ]
     },
     "execution_count": 25,
     "metadata": {},
     "output_type": "execute_result"
    }
   ],
   "source": [
    "number_tracks('Friday', 'Moscow') # количество прослушиваний в Москве по пятницам"
   ]
  },
  {
   "cell_type": "code",
   "execution_count": 26,
   "metadata": {
    "id": "8_yzFtW3_Zcu"
   },
   "outputs": [
    {
     "data": {
      "text/plain": [
       "5895"
      ]
     },
     "execution_count": 26,
     "metadata": {},
     "output_type": "execute_result"
    }
   ],
   "source": [
    "number_tracks('Friday', 'Saint-Petersburg') # количество прослушиваний в Санкт-Петербурге по пятницам"
   ]
  },
  {
   "cell_type": "markdown",
   "metadata": {
    "id": "7QXffbO-_Zcu"
   },
   "source": [
    "Создайте c помощью конструктора `pd.DataFrame` таблицу, где\n",
    "* названия колонок — `['city', 'monday', 'wednesday', 'friday']`;\n",
    "* данные — результаты, которые вы получили с помощью `number_tracks`."
   ]
  },
  {
   "cell_type": "code",
   "execution_count": 27,
   "metadata": {
    "id": "APAcLpOr_Zcu"
   },
   "outputs": [
    {
     "data": {
      "text/html": [
       "<div>\n",
       "<style scoped>\n",
       "    .dataframe tbody tr th:only-of-type {\n",
       "        vertical-align: middle;\n",
       "    }\n",
       "\n",
       "    .dataframe tbody tr th {\n",
       "        vertical-align: top;\n",
       "    }\n",
       "\n",
       "    .dataframe thead th {\n",
       "        text-align: right;\n",
       "    }\n",
       "</style>\n",
       "<table border=\"1\" class=\"dataframe\">\n",
       "  <thead>\n",
       "    <tr style=\"text-align: right;\">\n",
       "      <th></th>\n",
       "      <th>city</th>\n",
       "      <th>monday</th>\n",
       "      <th>wednesday</th>\n",
       "      <th>friday</th>\n",
       "    </tr>\n",
       "  </thead>\n",
       "  <tbody>\n",
       "    <tr>\n",
       "      <td>0</td>\n",
       "      <td>Moscow</td>\n",
       "      <td>15740</td>\n",
       "      <td>11056</td>\n",
       "      <td>15945</td>\n",
       "    </tr>\n",
       "    <tr>\n",
       "      <td>1</td>\n",
       "      <td>Saint-Petersburg</td>\n",
       "      <td>5614</td>\n",
       "      <td>7003</td>\n",
       "      <td>5895</td>\n",
       "    </tr>\n",
       "  </tbody>\n",
       "</table>\n",
       "</div>"
      ],
      "text/plain": [
       "               city  monday  wednesday  friday\n",
       "0            Moscow   15740      11056   15945\n",
       "1  Saint-Petersburg    5614       7003    5895"
      ]
     },
     "execution_count": 27,
     "metadata": {},
     "output_type": "execute_result"
    }
   ],
   "source": [
    "data = [['Moscow', 15740, 11056, 15945],\n",
    "       ['Saint-Petersburg', 5614, 7003, 5895]]\n",
    "columns = ['city','monday','wednesday','friday']\n",
    "table = pd.DataFrame(data = data, columns = columns)\n",
    "table\n",
    "# Таблица с результатами"
   ]
  },
  {
   "cell_type": "markdown",
   "metadata": {
    "id": "-EgPIHYu_Zcu"
   },
   "source": [
    "**Выводы**\n",
    "\n",
    "Данные показывают разницу поведения пользователей:\n",
    "\n",
    "- В Москве пик прослушиваний приходится на понедельник и пятницу, а в среду заметен спад.\n",
    "- В Петербурге, наоборот, больше слушают музыку по средам. Активность в понедельник и пятницу здесь почти в равной мере уступает среде.\n",
    "\n",
    "Значит, данные говорят в пользу первой гипотезы."
   ]
  },
  {
   "cell_type": "markdown",
   "metadata": {
    "id": "atZAxtq4_Zcu"
   },
   "source": [
    "### Музыка в начале и в конце недели"
   ]
  },
  {
   "cell_type": "markdown",
   "metadata": {
    "id": "eXrQqXFH_Zcu"
   },
   "source": [
    "Согласно второй гипотезе, утром в понедельник в Москве преобладают одни жанры, а в Петербурге — другие. Так же и вечером пятницы преобладают разные жанры — в зависимости от города."
   ]
  },
  {
   "cell_type": "markdown",
   "metadata": {
    "id": "S8UcW6Hw_Zcu"
   },
   "source": [
    "Сохраните таблицы с данными в две переменные:\n",
    "* по Москве — в `moscow_general`;\n",
    "* по Санкт-Петербургу — в `spb_general`."
   ]
  },
  {
   "cell_type": "code",
   "execution_count": 28,
   "metadata": {
    "id": "qeaFfM_P_Zcu"
   },
   "outputs": [],
   "source": [
    "moscow_general=df[df['city'] == 'Moscow']\n",
    "\n",
    "# получение таблицы moscow_general из тех строк таблицы df, \n",
    "# для которых значение в столбце 'city' равно 'Moscow'\n"
   ]
  },
  {
   "cell_type": "code",
   "execution_count": 29,
   "metadata": {
    "id": "ORaVRKto_Zcu"
   },
   "outputs": [],
   "source": [
    "spb_general=df[df['city']=='Saint-Petersburg']\n",
    "# получение таблицы spb_general из тех строк таблицы df,\n",
    "# для которых значение в столбце 'city' равно 'Saint-Petersburg'\n"
   ]
  },
  {
   "cell_type": "markdown",
   "metadata": {
    "id": "MEJV-CX2_Zcu"
   },
   "source": [
    "Создайте функцию `genre_weekday()` с четырьмя параметрами:\n",
    "* таблица (датафрейм) с данными,\n",
    "* день недели,\n",
    "* начальная временная метка в формате 'hh:mm', \n",
    "* последняя временная метка в формате 'hh:mm'.\n",
    "\n",
    "Функция должна вернуть информацию о топ-10 жанров тех треков, которые прослушивали в указанный день, в промежутке между двумя отметками времени."
   ]
  },
  {
   "cell_type": "code",
   "execution_count": 30,
   "metadata": {
    "id": "laJT9BYl_Zcu"
   },
   "outputs": [],
   "source": [
    "def genre_weekday(table, day, time1, time2):\n",
    "    genre_df = table[table['day'] == day]\n",
    "    genre_df = genre_df[genre_df['time'] > time1]\n",
    "    genre_df = genre_df[genre_df['time'] <= time2]            \n",
    "    genre_df_count = genre_df.groupby('genre')['genre'].count()\n",
    "    genre_df_sorted = genre_df_count.sort_values(ascending = False).head(10)\n",
    "    return genre_df_sorted\n",
    "# Объявление функции genre_weekday() с параметрами table, day, time1, time2,\n",
    "# которая возвращает информацию о самых популярных жанрах в указанный день в\n",
    "# заданное время:\n",
    "# 1) в переменную genre_df сохраняются те строки переданного датафрейма table, для\n",
    "#    которых одновременно:\n",
    "#    - значение в столбце day равно значению аргумента day\n",
    "#    - значение в столбце time больше значения аргумента time1\n",
    "#    - значение в столбце time меньше значения аргумента time2\n",
    "#    Используйте последовательную фильтрацию с помощью логической индексации.\n",
    "# 2) сгруппировать датафрейм genre_df по столбцу genre, взять один из его\n",
    "#    столбцов и посчитать методом count() количество записей для каждого из\n",
    "#    присутствующих жанров, получившийся Series записать в переменную\n",
    "#    genre_df_count\n",
    "# 3) отсортировать genre_df_count по убыванию встречаемости и сохранить\n",
    "#    в переменную genre_df_sorted\n",
    "# 4) вернуть Series из 10 первых значений genre_df_sorted, это будут топ-10\n",
    "#    популярных жанров (в указанный день, в заданное время)"
   ]
  },
  {
   "cell_type": "markdown",
   "metadata": {
    "id": "la2s2_PF_Zcu"
   },
   "source": [
    "Cравните результаты функции `genre_weekday()` для Москвы и Санкт-Петербурга в понедельник утром (с 7:00 до 11:00) и в пятницу вечером (с 17:00 до 23:00):"
   ]
  },
  {
   "cell_type": "code",
   "execution_count": 31,
   "metadata": {
    "id": "yz7itPUQ_Zcu"
   },
   "outputs": [
    {
     "data": {
      "text/plain": [
       "genre\n",
       "pop            781\n",
       "dance          549\n",
       "electronic     480\n",
       "rock           474\n",
       "hiphop         286\n",
       "ruspop         186\n",
       "world          181\n",
       "rusrap         175\n",
       "alternative    164\n",
       "unknown        161\n",
       "Name: genre, dtype: int64"
      ]
     },
     "execution_count": 31,
     "metadata": {},
     "output_type": "execute_result"
    }
   ],
   "source": [
    "genre_weekday(moscow_general, 'Monday', '07:00', '11:00')\n",
    "# вызов функции для утра понедельника в Москве (вместо df — таблица moscow_general)\n",
    "# объекты, хранящие время, являются строками и сравниваются как строки\n",
    "# пример вызова: genre_weekday(moscow_general, 'Monday', '07:00', '11:00')"
   ]
  },
  {
   "cell_type": "code",
   "execution_count": 32,
   "metadata": {
    "id": "kwUcHPdy_Zcu"
   },
   "outputs": [
    {
     "data": {
      "text/plain": [
       "genre\n",
       "pop            218\n",
       "dance          182\n",
       "rock           162\n",
       "electronic     147\n",
       "hiphop          80\n",
       "ruspop          64\n",
       "alternative     58\n",
       "rusrap          55\n",
       "jazz            44\n",
       "classical       40\n",
       "Name: genre, dtype: int64"
      ]
     },
     "execution_count": 32,
     "metadata": {},
     "output_type": "execute_result"
    }
   ],
   "source": [
    "genre_weekday(spb_general, 'Monday', '07:00', '11:00')\n",
    "# вызов функции для утра понедельника в Петербурге (вместо df — таблица spb_general)"
   ]
  },
  {
   "cell_type": "code",
   "execution_count": 33,
   "metadata": {
    "id": "EzXVRE1o_Zcu"
   },
   "outputs": [
    {
     "data": {
      "text/plain": [
       "genre\n",
       "pop            713\n",
       "rock           517\n",
       "dance          495\n",
       "electronic     482\n",
       "hiphop         273\n",
       "world          208\n",
       "ruspop         170\n",
       "alternative    163\n",
       "classical      163\n",
       "rusrap         142\n",
       "Name: genre, dtype: int64"
      ]
     },
     "execution_count": 33,
     "metadata": {},
     "output_type": "execute_result"
    }
   ],
   "source": [
    "genre_weekday(moscow_general, 'Friday', '17:00', '23:00')\n",
    "# вызов функции для вечера пятницы в Москве"
   ]
  },
  {
   "cell_type": "code",
   "execution_count": 34,
   "metadata": {
    "id": "JZaEKu5v_Zcu"
   },
   "outputs": [
    {
     "data": {
      "text/plain": [
       "genre\n",
       "pop            256\n",
       "rock           216\n",
       "electronic     216\n",
       "dance          210\n",
       "hiphop          97\n",
       "alternative     63\n",
       "jazz            61\n",
       "classical       60\n",
       "rusrap          59\n",
       "world           54\n",
       "Name: genre, dtype: int64"
      ]
     },
     "execution_count": 34,
     "metadata": {},
     "output_type": "execute_result"
    }
   ],
   "source": [
    "genre_weekday(spb_general, 'Friday', '17:00', '23:00')\n",
    "# вызов функции для вечера пятницы в Петербурге"
   ]
  },
  {
   "cell_type": "markdown",
   "metadata": {
    "id": "wrCe4MNX_Zcu"
   },
   "source": [
    "**Выводы**\n",
    "\n",
    "Если сравнить топ-10 жанров в понедельник утром, можно сделать такие выводы:\n",
    "\n",
    "1. В Москве и Петербурге слушают похожую музыку. Единственное отличие — в московский рейтинг вошёл жанр “world”, а в петербургский — джаз и классика.\n",
    "\n",
    "2. В Москве пропущенных значений оказалось так много, что значение `'unknown'` заняло десятое место среди самых популярных жанров. Значит, пропущенные значения занимают существенную долю в данных и угрожают достоверности исследования.\n",
    "\n",
    "Вечер пятницы не меняет эту картину. Некоторые жанры поднимаются немного выше, другие спускаются, но в целом топ-10 остаётся тем же самым.\n",
    "\n",
    "Таким образом, вторая гипотеза подтвердилась лишь частично:\n",
    "* Пользователи слушают похожую музыку в начале недели и в конце.\n",
    "* Разница между Москвой и Петербургом не слишком выражена. В Москве чаще слушают русскую популярную музыку, в Петербурге — джаз.\n",
    "\n",
    "Однако пропуски в данных ставят под сомнение этот результат. В Москве их так много, что рейтинг топ-10 мог бы выглядеть иначе, если бы не утерянные  данные о жанрах."
   ]
  },
  {
   "cell_type": "markdown",
   "metadata": {
    "id": "JolODAqr_Zcu"
   },
   "source": [
    "### Жанровые предпочтения в Москве и Петербурге\n",
    "\n",
    "Гипотеза: Петербург — столица рэпа, музыку этого жанра там слушают чаще, чем в Москве.  А Москва — город контрастов, в котором, тем не менее, преобладает поп-музыка."
   ]
  },
  {
   "cell_type": "markdown",
   "metadata": {
    "id": "DlegSvaT_Zcu"
   },
   "source": [
    "Сгруппируйте таблицу `moscow_general` по жанру и посчитайте прослушивания треков каждого жанра методом `count()`. Затем отсортируйте результат в порядке убывания и сохраните его в таблице `moscow_genres`."
   ]
  },
  {
   "cell_type": "code",
   "execution_count": 35,
   "metadata": {
    "id": "r19lIPke_Zcu"
   },
   "outputs": [],
   "source": [
    "moscow_genres = moscow_general.groupby('genre')['genre'].count().sort_values(ascending = False)\n",
    "\n",
    "# одной строкой: группировка таблицы moscow_general по столбцу 'genre', \n",
    "# подсчёт числа значений 'genre' в этой группировке методом count(), \n",
    "# сортировка получившегося Series в порядке убывания и сохранение в moscow_genres"
   ]
  },
  {
   "cell_type": "markdown",
   "metadata": {
    "id": "6kMuomxTiIr8"
   },
   "source": [
    "Выведите на экран первые десять строк `moscow_genres`:"
   ]
  },
  {
   "cell_type": "code",
   "execution_count": 36,
   "metadata": {
    "id": "WhCSooF8_Zcv",
    "scrolled": true
   },
   "outputs": [
    {
     "data": {
      "text/plain": [
       "genre\n",
       "pop            5892\n",
       "dance          4435\n",
       "rock           3965\n",
       "electronic     3786\n",
       "hiphop         2096\n",
       "classical      1616\n",
       "world          1432\n",
       "alternative    1379\n",
       "ruspop         1372\n",
       "rusrap         1161\n",
       "Name: genre, dtype: int64"
      ]
     },
     "execution_count": 36,
     "metadata": {},
     "output_type": "execute_result"
    }
   ],
   "source": [
    "moscow_genres.head(10) # просмотр первых 10 строк moscow_genres"
   ]
  },
  {
   "cell_type": "markdown",
   "metadata": {
    "id": "cnPG2vnN_Zcv"
   },
   "source": [
    "Теперь повторите то же и для Петербурга.\n",
    "\n",
    "Сгруппируйте таблицу `spb_general` по жанру. Посчитайте прослушивания треков каждого жанра. Результат отсортируйте в порядке убывания и сохраните в таблице `spb_genres`:\n"
   ]
  },
  {
   "cell_type": "code",
   "execution_count": 37,
   "metadata": {
    "id": "gluLIpE7_Zcv"
   },
   "outputs": [],
   "source": [
    "spb_genres = spb_general.groupby('genre')['genre'].count().sort_values(ascending = False)\n",
    "\n",
    "# одной строкой: группировка таблицы spb_general по столбцу 'genre', \n",
    "# подсчёт числа значений 'genre' в этой группировке методом count(), \n",
    "# сортировка получившегося Series в порядке убывания и сохранение в spb_genres"
   ]
  },
  {
   "cell_type": "markdown",
   "metadata": {
    "id": "5Doha_ODgyQ8"
   },
   "source": [
    "Выведите на экран первые десять строк `spb_genres`:"
   ]
  },
  {
   "cell_type": "code",
   "execution_count": 38,
   "metadata": {
    "id": "uaGJHjVU_Zcv"
   },
   "outputs": [
    {
     "data": {
      "text/plain": [
       "genre\n",
       "pop            2431\n",
       "dance          1932\n",
       "rock           1879\n",
       "electronic     1736\n",
       "hiphop          960\n",
       "alternative     649\n",
       "classical       646\n",
       "rusrap          564\n",
       "ruspop          538\n",
       "world           515\n",
       "Name: genre, dtype: int64"
      ]
     },
     "execution_count": 38,
     "metadata": {},
     "output_type": "execute_result"
    }
   ],
   "source": [
    "spb_genres.head(10) # просмотр первых 10 строк spb_genres"
   ]
  },
  {
   "cell_type": "markdown",
   "metadata": {
    "id": "RY51YJYu_Zcv"
   },
   "source": [
    "**Выводы**"
   ]
  },
  {
   "cell_type": "markdown",
   "metadata": {
    "id": "nVhnJEm__Zcv"
   },
   "source": [
    "Гипотеза частично подтвердилась:\n",
    "* Поп-музыка — самый популярный жанр в Москве, как и предполагала гипотеза. Более того, в топ-10 жанров встречается близкий жанр — русская популярная музыка.\n",
    "* Вопреки ожиданиям, рэп одинаково популярен в Москве и Петербурге. \n"
   ]
  },
  {
   "cell_type": "markdown",
   "metadata": {
    "id": "ykKQ0N65_Zcv"
   },
   "source": [
    "## Итоги исследования"
   ]
  },
  {
   "cell_type": "markdown",
   "metadata": {
    "id": "tjUwbHb3_Zcv"
   },
   "source": [
    "Вы проверили три гипотезы и установили:\n",
    "\n",
    "1. День недели по-разному влияет на активность пользователей в Москве и Петербурге. \n",
    "\n",
    "Первая гипотеза полностью подтвердилась.\n",
    "\n",
    "2. Музыкальные предпочтения не сильно меняются в течение недели — будь то Москва или Петербург. Небольшие различия заметны в начале недели, по понедельникам:\n",
    "* в Москве слушают музыку жанра “world”,\n",
    "* в Петербурге — джаз и классику.\n",
    "\n",
    "Таким образом, вторая гипотеза подтвердилась лишь отчасти. Этот результат мог оказаться иным, если бы не пропуски в данных.\n",
    "\n",
    "3. Во вкусах пользователей Москвы и Петербурга больше общего чем различий. Вопреки ожиданиям, предпочтения жанров в Петербурге напоминают московские.\n",
    "\n",
    "Третья гипотеза не подтвердилась. Если различия в предпочтениях и существуют, на основной массе пользователей они незаметны."
   ]
  }
 ],
 "metadata": {
  "ExecuteTimeLog": [
   {
    "duration": 852,
    "start_time": "2022-02-09T16:20:03.168Z"
   },
   {
    "duration": 164,
    "start_time": "2022-02-09T16:20:52.782Z"
   },
   {
    "duration": 20,
    "start_time": "2022-02-09T16:21:10.620Z"
   },
   {
    "duration": 26,
    "start_time": "2022-02-09T16:21:27.772Z"
   },
   {
    "duration": 395,
    "start_time": "2022-02-09T17:36:22.101Z"
   },
   {
    "duration": 273,
    "start_time": "2022-02-09T17:36:29.188Z"
   },
   {
    "duration": 324,
    "start_time": "2022-02-09T17:36:40.261Z"
   },
   {
    "duration": 279,
    "start_time": "2022-02-09T17:36:43.749Z"
   },
   {
    "duration": 283,
    "start_time": "2022-02-09T17:59:23.903Z"
   },
   {
    "duration": 4,
    "start_time": "2022-02-09T17:59:34.645Z"
   },
   {
    "duration": 32,
    "start_time": "2022-02-09T18:10:10.741Z"
   },
   {
    "duration": 4,
    "start_time": "2022-02-09T18:10:15.550Z"
   },
   {
    "duration": 4,
    "start_time": "2022-02-09T18:10:52.538Z"
   },
   {
    "duration": 30,
    "start_time": "2022-02-09T18:10:56.291Z"
   },
   {
    "duration": 4,
    "start_time": "2022-02-09T18:10:58.570Z"
   },
   {
    "duration": 4,
    "start_time": "2022-02-09T18:11:09.223Z"
   },
   {
    "duration": 32,
    "start_time": "2022-02-09T18:11:16.050Z"
   },
   {
    "duration": 4,
    "start_time": "2022-02-09T18:11:18.304Z"
   },
   {
    "duration": 26,
    "start_time": "2022-02-09T18:11:40.186Z"
   },
   {
    "duration": 4,
    "start_time": "2022-02-09T18:11:41.938Z"
   },
   {
    "duration": 25,
    "start_time": "2022-02-09T18:12:59.808Z"
   },
   {
    "duration": 17,
    "start_time": "2022-02-09T18:13:06.978Z"
   },
   {
    "duration": 6,
    "start_time": "2022-02-09T18:13:09.985Z"
   },
   {
    "duration": 32,
    "start_time": "2022-02-09T18:14:22.738Z"
   },
   {
    "duration": 24,
    "start_time": "2022-02-09T18:14:40.365Z"
   },
   {
    "duration": 26,
    "start_time": "2022-02-09T18:14:51.770Z"
   },
   {
    "duration": 25,
    "start_time": "2022-02-09T18:15:03.296Z"
   },
   {
    "duration": 6452,
    "start_time": "2022-02-09T18:26:48.552Z"
   },
   {
    "duration": -23,
    "start_time": "2022-02-09T18:26:55.029Z"
   },
   {
    "duration": 19,
    "start_time": "2022-02-09T18:27:58.745Z"
   },
   {
    "duration": 27,
    "start_time": "2022-02-09T18:28:04.326Z"
   },
   {
    "duration": 58,
    "start_time": "2022-02-09T18:56:48.513Z"
   },
   {
    "duration": 67,
    "start_time": "2022-02-09T18:57:24.205Z"
   },
   {
    "duration": 58,
    "start_time": "2022-02-09T18:57:31.959Z"
   },
   {
    "duration": 8,
    "start_time": "2022-02-09T18:58:15.599Z"
   },
   {
    "duration": 261,
    "start_time": "2022-02-09T19:46:09.132Z"
   },
   {
    "duration": 88,
    "start_time": "2022-02-09T19:46:38.819Z"
   },
   {
    "duration": 86,
    "start_time": "2022-02-09T19:46:48.528Z"
   },
   {
    "duration": 3,
    "start_time": "2022-02-09T19:47:01.931Z"
   },
   {
    "duration": 16,
    "start_time": "2022-02-09T19:47:17.122Z"
   },
   {
    "duration": 7,
    "start_time": "2022-02-09T19:47:32.129Z"
   },
   {
    "duration": 261,
    "start_time": "2022-02-09T19:58:11.320Z"
   },
   {
    "duration": 32,
    "start_time": "2022-02-09T19:59:41.173Z"
   },
   {
    "duration": 36,
    "start_time": "2022-02-09T19:59:45.517Z"
   },
   {
    "duration": 43,
    "start_time": "2022-02-09T20:00:57.853Z"
   },
   {
    "duration": 3,
    "start_time": "2022-02-09T20:12:24.523Z"
   },
   {
    "duration": 313,
    "start_time": "2022-02-09T20:13:13.698Z"
   },
   {
    "duration": 9,
    "start_time": "2022-02-09T20:13:22.995Z"
   },
   {
    "duration": 9,
    "start_time": "2022-02-09T20:14:01.739Z"
   },
   {
    "duration": 5,
    "start_time": "2022-02-09T20:16:36.424Z"
   },
   {
    "duration": 531,
    "start_time": "2022-02-09T20:16:39.399Z"
   },
   {
    "duration": 4,
    "start_time": "2022-02-09T20:16:49.610Z"
   },
   {
    "duration": 560,
    "start_time": "2022-02-09T20:16:51.288Z"
   },
   {
    "duration": 3,
    "start_time": "2022-02-09T20:17:24.159Z"
   },
   {
    "duration": 513,
    "start_time": "2022-02-09T20:17:25.399Z"
   },
   {
    "duration": 4,
    "start_time": "2022-02-09T20:19:07.167Z"
   },
   {
    "duration": 13,
    "start_time": "2022-02-09T20:19:08.275Z"
   },
   {
    "duration": 4,
    "start_time": "2022-02-09T20:20:35.938Z"
   },
   {
    "duration": 15,
    "start_time": "2022-02-09T20:20:37.496Z"
   },
   {
    "duration": 3,
    "start_time": "2022-02-09T20:23:23.819Z"
   },
   {
    "duration": 522,
    "start_time": "2022-02-09T20:23:25.168Z"
   },
   {
    "duration": 3,
    "start_time": "2022-02-09T20:23:51.372Z"
   },
   {
    "duration": 539,
    "start_time": "2022-02-09T20:23:53.402Z"
   },
   {
    "duration": 3,
    "start_time": "2022-02-09T20:24:42.244Z"
   },
   {
    "duration": 555,
    "start_time": "2022-02-09T20:24:44.809Z"
   },
   {
    "duration": 4,
    "start_time": "2022-02-09T20:26:15.881Z"
   },
   {
    "duration": 533,
    "start_time": "2022-02-09T20:26:18.883Z"
   },
   {
    "duration": 4,
    "start_time": "2022-02-09T20:28:09.322Z"
   },
   {
    "duration": 508,
    "start_time": "2022-02-09T20:28:10.456Z"
   },
   {
    "duration": 4,
    "start_time": "2022-02-09T20:31:32.620Z"
   },
   {
    "duration": 530,
    "start_time": "2022-02-09T20:31:38.451Z"
   },
   {
    "duration": 3,
    "start_time": "2022-02-09T20:32:42.155Z"
   },
   {
    "duration": 14,
    "start_time": "2022-02-09T20:32:43.609Z"
   },
   {
    "duration": 4,
    "start_time": "2022-02-09T20:32:55.644Z"
   },
   {
    "duration": 554,
    "start_time": "2022-02-09T20:32:56.578Z"
   },
   {
    "duration": 3,
    "start_time": "2022-02-09T20:34:15.694Z"
   },
   {
    "duration": 4,
    "start_time": "2022-02-09T20:34:28.126Z"
   },
   {
    "duration": 4,
    "start_time": "2022-02-09T20:36:58.330Z"
   },
   {
    "duration": 9,
    "start_time": "2022-02-09T20:37:00.047Z"
   },
   {
    "duration": 3,
    "start_time": "2022-02-09T20:38:12.995Z"
   },
   {
    "duration": 10,
    "start_time": "2022-02-09T20:38:14.888Z"
   },
   {
    "duration": 34,
    "start_time": "2022-02-09T20:38:49.885Z"
   },
   {
    "duration": 9,
    "start_time": "2022-02-09T20:40:19.937Z"
   },
   {
    "duration": 9,
    "start_time": "2022-02-09T20:40:27.124Z"
   },
   {
    "duration": 10,
    "start_time": "2022-02-09T20:40:27.237Z"
   },
   {
    "duration": 9,
    "start_time": "2022-02-09T20:42:34.807Z"
   },
   {
    "duration": 9,
    "start_time": "2022-02-09T20:42:57.723Z"
   },
   {
    "duration": 10,
    "start_time": "2022-02-09T20:43:39.137Z"
   },
   {
    "duration": 8,
    "start_time": "2022-02-09T20:43:43.724Z"
   },
   {
    "duration": 10,
    "start_time": "2022-02-09T20:43:44.278Z"
   },
   {
    "duration": 9,
    "start_time": "2022-02-09T20:43:44.689Z"
   },
   {
    "duration": 9,
    "start_time": "2022-02-09T20:43:45.090Z"
   },
   {
    "duration": 9,
    "start_time": "2022-02-09T20:43:45.530Z"
   },
   {
    "duration": 3,
    "start_time": "2022-02-09T20:45:02.081Z"
   },
   {
    "duration": 149,
    "start_time": "2022-02-09T20:45:03.162Z"
   },
   {
    "duration": 17,
    "start_time": "2022-02-09T20:45:04.134Z"
   },
   {
    "duration": 25,
    "start_time": "2022-02-09T20:45:05.421Z"
   },
   {
    "duration": 4,
    "start_time": "2022-02-09T20:45:07.849Z"
   },
   {
    "duration": 15,
    "start_time": "2022-02-09T20:45:09.177Z"
   },
   {
    "duration": 4,
    "start_time": "2022-02-09T20:45:09.618Z"
   },
   {
    "duration": 24,
    "start_time": "2022-02-09T20:45:10.574Z"
   },
   {
    "duration": 20,
    "start_time": "2022-02-09T20:45:11.497Z"
   },
   {
    "duration": 25,
    "start_time": "2022-02-09T20:45:12.134Z"
   },
   {
    "duration": 59,
    "start_time": "2022-02-09T20:45:13.296Z"
   },
   {
    "duration": 73,
    "start_time": "2022-02-09T20:45:14.048Z"
   },
   {
    "duration": 53,
    "start_time": "2022-02-09T20:45:15.370Z"
   },
   {
    "duration": 7,
    "start_time": "2022-02-09T20:45:17.555Z"
   },
   {
    "duration": 4,
    "start_time": "2022-02-09T20:45:20.178Z"
   },
   {
    "duration": 18,
    "start_time": "2022-02-09T20:45:21.261Z"
   },
   {
    "duration": 8,
    "start_time": "2022-02-09T20:45:22.377Z"
   },
   {
    "duration": 35,
    "start_time": "2022-02-09T20:45:25.834Z"
   },
   {
    "duration": 36,
    "start_time": "2022-02-09T20:45:27.378Z"
   },
   {
    "duration": 3,
    "start_time": "2022-02-09T20:45:29.213Z"
   },
   {
    "duration": 11,
    "start_time": "2022-02-09T20:45:30.723Z"
   },
   {
    "duration": 17,
    "start_time": "2022-02-09T20:47:57.377Z"
   },
   {
    "duration": 18,
    "start_time": "2022-02-09T20:49:05.520Z"
   },
   {
    "duration": 17,
    "start_time": "2022-02-09T20:49:06.121Z"
   },
   {
    "duration": 17,
    "start_time": "2022-02-09T20:49:06.614Z"
   },
   {
    "duration": 16,
    "start_time": "2022-02-09T20:49:07.021Z"
   },
   {
    "duration": 18,
    "start_time": "2022-02-09T20:49:07.494Z"
   },
   {
    "duration": 15,
    "start_time": "2022-02-09T20:49:07.920Z"
   },
   {
    "duration": 9,
    "start_time": "2022-02-09T20:52:28.440Z"
   },
   {
    "duration": 228,
    "start_time": "2022-02-10T07:35:33.823Z"
   },
   {
    "duration": 552,
    "start_time": "2022-02-10T07:36:18.897Z"
   },
   {
    "duration": 129,
    "start_time": "2022-02-10T07:36:19.451Z"
   },
   {
    "duration": 15,
    "start_time": "2022-02-10T07:36:19.705Z"
   },
   {
    "duration": 23,
    "start_time": "2022-02-10T07:36:20.168Z"
   },
   {
    "duration": 4,
    "start_time": "2022-02-10T07:36:21.099Z"
   },
   {
    "duration": 21,
    "start_time": "2022-02-10T07:36:21.868Z"
   },
   {
    "duration": 4,
    "start_time": "2022-02-10T07:36:22.250Z"
   },
   {
    "duration": 23,
    "start_time": "2022-02-10T07:36:22.693Z"
   },
   {
    "duration": 17,
    "start_time": "2022-02-10T07:36:23.267Z"
   },
   {
    "duration": 23,
    "start_time": "2022-02-10T07:36:23.663Z"
   },
   {
    "duration": 56,
    "start_time": "2022-02-10T07:36:25.472Z"
   },
   {
    "duration": 66,
    "start_time": "2022-02-10T07:36:26.418Z"
   },
   {
    "duration": 49,
    "start_time": "2022-02-10T07:36:27.032Z"
   },
   {
    "duration": 7,
    "start_time": "2022-02-10T07:36:28.383Z"
   },
   {
    "duration": 3,
    "start_time": "2022-02-10T07:36:29.780Z"
   },
   {
    "duration": 15,
    "start_time": "2022-02-10T07:36:30.554Z"
   },
   {
    "duration": 7,
    "start_time": "2022-02-10T07:36:31.105Z"
   },
   {
    "duration": 29,
    "start_time": "2022-02-10T07:36:33.233Z"
   },
   {
    "duration": 28,
    "start_time": "2022-02-10T07:36:33.661Z"
   },
   {
    "duration": 3,
    "start_time": "2022-02-10T07:36:34.214Z"
   },
   {
    "duration": 17,
    "start_time": "2022-02-10T07:36:35.408Z"
   },
   {
    "duration": 16,
    "start_time": "2022-02-10T07:36:35.555Z"
   },
   {
    "duration": 15,
    "start_time": "2022-02-10T07:36:35.778Z"
   },
   {
    "duration": 17,
    "start_time": "2022-02-10T07:36:35.987Z"
   },
   {
    "duration": 18,
    "start_time": "2022-02-10T07:36:36.229Z"
   },
   {
    "duration": 18,
    "start_time": "2022-02-10T07:36:38.876Z"
   },
   {
    "duration": 4,
    "start_time": "2022-02-10T07:36:52.773Z"
   },
   {
    "duration": 18,
    "start_time": "2022-02-10T07:36:53.704Z"
   },
   {
    "duration": 9,
    "start_time": "2022-02-10T07:37:02.354Z"
   },
   {
    "duration": 18,
    "start_time": "2022-02-10T07:37:25.032Z"
   },
   {
    "duration": 3,
    "start_time": "2022-02-10T07:37:38.394Z"
   },
   {
    "duration": 18,
    "start_time": "2022-02-10T07:37:39.302Z"
   },
   {
    "duration": 2,
    "start_time": "2022-02-10T07:38:04.917Z"
   },
   {
    "duration": 134,
    "start_time": "2022-02-10T07:38:05.969Z"
   },
   {
    "duration": 11,
    "start_time": "2022-02-10T07:38:07.030Z"
   },
   {
    "duration": 24,
    "start_time": "2022-02-10T07:38:08.617Z"
   },
   {
    "duration": 5,
    "start_time": "2022-02-10T07:38:13.501Z"
   },
   {
    "duration": 11,
    "start_time": "2022-02-10T07:38:14.597Z"
   },
   {
    "duration": 4,
    "start_time": "2022-02-10T07:38:16.025Z"
   },
   {
    "duration": 23,
    "start_time": "2022-02-10T07:38:19.185Z"
   },
   {
    "duration": 17,
    "start_time": "2022-02-10T07:38:22.056Z"
   },
   {
    "duration": 23,
    "start_time": "2022-02-10T07:38:23.184Z"
   },
   {
    "duration": 70,
    "start_time": "2022-02-10T07:38:25.780Z"
   },
   {
    "duration": 59,
    "start_time": "2022-02-10T07:38:26.751Z"
   },
   {
    "duration": 49,
    "start_time": "2022-02-10T07:38:27.542Z"
   },
   {
    "duration": 6,
    "start_time": "2022-02-10T07:38:29.055Z"
   },
   {
    "duration": 2,
    "start_time": "2022-02-10T07:38:32.430Z"
   },
   {
    "duration": 14,
    "start_time": "2022-02-10T07:38:34.055Z"
   },
   {
    "duration": 7,
    "start_time": "2022-02-10T07:38:36.830Z"
   },
   {
    "duration": 29,
    "start_time": "2022-02-10T07:38:42.504Z"
   },
   {
    "duration": 31,
    "start_time": "2022-02-10T07:39:11.345Z"
   },
   {
    "duration": 31,
    "start_time": "2022-02-10T07:39:13.218Z"
   },
   {
    "duration": 3,
    "start_time": "2022-02-10T07:43:28.084Z"
   },
   {
    "duration": 17,
    "start_time": "2022-02-10T07:43:30.690Z"
   },
   {
    "duration": 3,
    "start_time": "2022-02-10T07:43:57.051Z"
   },
   {
    "duration": 17,
    "start_time": "2022-02-10T07:43:58.788Z"
   },
   {
    "duration": 4,
    "start_time": "2022-02-10T07:45:50.548Z"
   },
   {
    "duration": 16,
    "start_time": "2022-02-10T07:45:52.692Z"
   },
   {
    "duration": 22,
    "start_time": "2022-02-10T07:45:54.531Z"
   },
   {
    "duration": 16,
    "start_time": "2022-02-10T07:45:57.108Z"
   },
   {
    "duration": 16,
    "start_time": "2022-02-10T07:45:57.743Z"
   },
   {
    "duration": 17,
    "start_time": "2022-02-10T07:45:58.378Z"
   },
   {
    "duration": 16,
    "start_time": "2022-02-10T07:45:59.068Z"
   },
   {
    "duration": 9,
    "start_time": "2022-02-10T07:46:21.364Z"
   },
   {
    "duration": 4618,
    "start_time": "2022-02-10T07:49:21.026Z"
   },
   {
    "duration": -207,
    "start_time": "2022-02-10T07:49:25.853Z"
   },
   {
    "duration": 5,
    "start_time": "2022-02-10T07:52:15.818Z"
   },
   {
    "duration": 4423,
    "start_time": "2022-02-10T07:52:35.329Z"
   },
   {
    "duration": 4440,
    "start_time": "2022-02-10T07:52:43.623Z"
   },
   {
    "duration": 5,
    "start_time": "2022-02-10T07:52:55.091Z"
   },
   {
    "duration": 10,
    "start_time": "2022-02-10T07:53:15.793Z"
   },
   {
    "duration": 9,
    "start_time": "2022-02-10T07:53:37.853Z"
   },
   {
    "duration": 64,
    "start_time": "2022-02-10T08:16:31.784Z"
   },
   {
    "duration": 4,
    "start_time": "2022-02-10T08:16:51.767Z"
   },
   {
    "duration": 3,
    "start_time": "2022-02-10T08:17:49.750Z"
   },
   {
    "duration": 18,
    "start_time": "2022-02-10T08:18:43.155Z"
   },
   {
    "duration": 18,
    "start_time": "2022-02-10T08:19:17.279Z"
   },
   {
    "duration": 14,
    "start_time": "2022-02-10T08:19:18.278Z"
   },
   {
    "duration": 10,
    "start_time": "2022-02-10T08:20:17.290Z"
   },
   {
    "duration": 19,
    "start_time": "2022-02-10T08:21:04.945Z"
   },
   {
    "duration": 15,
    "start_time": "2022-02-10T08:21:06.997Z"
   },
   {
    "duration": 7,
    "start_time": "2022-02-10T08:24:01.091Z"
   },
   {
    "duration": 5,
    "start_time": "2022-02-10T08:24:18.416Z"
   },
   {
    "duration": 8,
    "start_time": "2022-02-10T08:24:36.496Z"
   },
   {
    "duration": 5,
    "start_time": "2022-02-10T08:24:37.581Z"
   },
   {
    "duration": 7,
    "start_time": "2022-02-10T08:24:48.752Z"
   },
   {
    "duration": 5,
    "start_time": "2022-02-10T08:24:51.271Z"
   },
   {
    "duration": 9,
    "start_time": "2022-02-10T08:24:57.156Z"
   },
   {
    "duration": 5,
    "start_time": "2022-02-10T08:24:58.149Z"
   },
   {
    "duration": 7,
    "start_time": "2022-02-10T08:25:42.510Z"
   },
   {
    "duration": 4,
    "start_time": "2022-02-10T08:25:55.380Z"
   },
   {
    "duration": 971,
    "start_time": "2022-02-15T16:22:00.642Z"
   },
   {
    "duration": 255,
    "start_time": "2022-02-15T16:22:01.617Z"
   },
   {
    "duration": 34,
    "start_time": "2022-02-15T16:22:01.876Z"
   },
   {
    "duration": 52,
    "start_time": "2022-02-15T16:22:01.914Z"
   },
   {
    "duration": 22,
    "start_time": "2022-02-15T16:22:01.968Z"
   },
   {
    "duration": 40,
    "start_time": "2022-02-15T16:22:01.992Z"
   },
   {
    "duration": 20,
    "start_time": "2022-02-15T16:22:02.034Z"
   },
   {
    "duration": 57,
    "start_time": "2022-02-15T16:22:02.057Z"
   },
   {
    "duration": 24,
    "start_time": "2022-02-15T16:22:02.120Z"
   },
   {
    "duration": 43,
    "start_time": "2022-02-15T16:22:02.148Z"
   },
   {
    "duration": 94,
    "start_time": "2022-02-15T16:22:02.194Z"
   },
   {
    "duration": 111,
    "start_time": "2022-02-15T16:22:02.291Z"
   },
   {
    "duration": 83,
    "start_time": "2022-02-15T16:22:02.405Z"
   },
   {
    "duration": 9,
    "start_time": "2022-02-15T16:22:02.490Z"
   },
   {
    "duration": 22,
    "start_time": "2022-02-15T16:22:02.501Z"
   },
   {
    "duration": 45,
    "start_time": "2022-02-15T16:22:02.525Z"
   },
   {
    "duration": 11,
    "start_time": "2022-02-15T16:22:02.573Z"
   },
   {
    "duration": 63,
    "start_time": "2022-02-15T16:22:02.586Z"
   },
   {
    "duration": 42,
    "start_time": "2022-02-15T16:22:02.652Z"
   },
   {
    "duration": 5,
    "start_time": "2022-02-15T16:22:02.696Z"
   },
   {
    "duration": 48,
    "start_time": "2022-02-15T16:22:02.704Z"
   },
   {
    "duration": 20,
    "start_time": "2022-02-15T16:22:02.754Z"
   },
   {
    "duration": 28,
    "start_time": "2022-02-15T16:22:02.776Z"
   },
   {
    "duration": 24,
    "start_time": "2022-02-15T16:22:02.806Z"
   },
   {
    "duration": 19,
    "start_time": "2022-02-15T16:22:02.848Z"
   },
   {
    "duration": 29,
    "start_time": "2022-02-15T16:22:02.869Z"
   },
   {
    "duration": 21,
    "start_time": "2022-02-15T16:22:02.903Z"
   },
   {
    "duration": 24,
    "start_time": "2022-02-15T16:22:02.927Z"
   },
   {
    "duration": 27,
    "start_time": "2022-02-15T16:22:02.954Z"
   },
   {
    "duration": 16,
    "start_time": "2022-02-15T16:22:02.983Z"
   },
   {
    "duration": 42,
    "start_time": "2022-02-15T16:22:03.002Z"
   },
   {
    "duration": 30,
    "start_time": "2022-02-15T16:22:03.046Z"
   },
   {
    "duration": 19,
    "start_time": "2022-02-15T16:22:03.078Z"
   },
   {
    "duration": 20,
    "start_time": "2022-02-15T16:22:03.100Z"
   },
   {
    "duration": 32,
    "start_time": "2022-02-15T16:22:03.123Z"
   },
   {
    "duration": 8,
    "start_time": "2022-02-15T16:22:03.158Z"
   },
   {
    "duration": 14,
    "start_time": "2022-02-15T16:22:03.169Z"
   },
   {
    "duration": 11,
    "start_time": "2022-02-15T16:22:03.185Z"
   },
   {
    "duration": 3,
    "start_time": "2022-02-15T16:22:26.408Z"
   },
   {
    "duration": 397,
    "start_time": "2022-02-17T18:20:00.240Z"
   },
   {
    "duration": 705,
    "start_time": "2022-02-17T18:20:18.897Z"
   },
   {
    "duration": 177,
    "start_time": "2022-02-17T18:20:19.929Z"
   },
   {
    "duration": 26,
    "start_time": "2022-02-17T18:20:20.492Z"
   },
   {
    "duration": 34,
    "start_time": "2022-02-17T18:20:24.916Z"
   },
   {
    "duration": 6,
    "start_time": "2022-02-17T18:20:31.412Z"
   },
   {
    "duration": 25,
    "start_time": "2022-02-17T18:20:34.933Z"
   },
   {
    "duration": 5,
    "start_time": "2022-02-17T18:20:35.599Z"
   },
   {
    "duration": 50,
    "start_time": "2022-02-17T18:20:36.898Z"
   },
   {
    "duration": 24,
    "start_time": "2022-02-17T18:23:03.687Z"
   },
   {
    "duration": 31,
    "start_time": "2022-02-17T18:23:06.530Z"
   },
   {
    "duration": 83,
    "start_time": "2022-02-17T18:23:10.277Z"
   },
   {
    "duration": 133,
    "start_time": "2022-02-17T18:23:13.195Z"
   },
   {
    "duration": 75,
    "start_time": "2022-02-17T18:23:14.914Z"
   },
   {
    "duration": 10,
    "start_time": "2022-02-17T18:27:36.130Z"
   },
   {
    "duration": 4,
    "start_time": "2022-02-17T18:27:45.288Z"
   },
   {
    "duration": 23,
    "start_time": "2022-02-17T18:27:48.009Z"
   },
   {
    "duration": 10,
    "start_time": "2022-02-17T18:27:49.170Z"
   },
   {
    "duration": 14,
    "start_time": "2022-02-17T18:27:58.525Z"
   },
   {
    "duration": 46,
    "start_time": "2022-02-17T18:28:14.999Z"
   },
   {
    "duration": 16,
    "start_time": "2022-02-17T18:28:31.287Z"
   },
   {
    "duration": 15,
    "start_time": "2022-02-17T18:29:07.292Z"
   },
   {
    "duration": 17,
    "start_time": "2022-02-17T18:30:32.678Z"
   },
   {
    "duration": 4,
    "start_time": "2022-02-17T18:32:04.322Z"
   },
   {
    "duration": 199,
    "start_time": "2022-02-17T18:32:04.338Z"
   },
   {
    "duration": 30,
    "start_time": "2022-02-17T18:32:04.539Z"
   },
   {
    "duration": 36,
    "start_time": "2022-02-17T18:32:04.572Z"
   },
   {
    "duration": 6,
    "start_time": "2022-02-17T18:32:04.611Z"
   },
   {
    "duration": 50,
    "start_time": "2022-02-17T18:32:04.620Z"
   },
   {
    "duration": 7,
    "start_time": "2022-02-17T18:32:04.673Z"
   },
   {
    "duration": 41,
    "start_time": "2022-02-17T18:32:04.683Z"
   },
   {
    "duration": 46,
    "start_time": "2022-02-17T18:32:04.728Z"
   },
   {
    "duration": 33,
    "start_time": "2022-02-17T18:32:04.777Z"
   },
   {
    "duration": 120,
    "start_time": "2022-02-17T18:32:04.812Z"
   },
   {
    "duration": 113,
    "start_time": "2022-02-17T18:32:04.935Z"
   },
   {
    "duration": 84,
    "start_time": "2022-02-17T18:32:05.051Z"
   },
   {
    "duration": 28,
    "start_time": "2022-02-17T18:32:05.138Z"
   },
   {
    "duration": 4,
    "start_time": "2022-02-17T18:32:05.169Z"
   },
   {
    "duration": 26,
    "start_time": "2022-02-17T18:32:05.175Z"
   },
   {
    "duration": 10,
    "start_time": "2022-02-17T18:32:05.204Z"
   },
   {
    "duration": 51,
    "start_time": "2022-02-17T18:32:05.217Z"
   },
   {
    "duration": 14,
    "start_time": "2022-02-17T18:32:05.270Z"
   },
   {
    "duration": 6,
    "start_time": "2022-02-17T18:32:05.287Z"
   },
   {
    "duration": 29,
    "start_time": "2022-02-17T18:32:05.296Z"
   },
   {
    "duration": 21,
    "start_time": "2022-02-17T18:32:05.361Z"
   },
   {
    "duration": 19,
    "start_time": "2022-02-17T18:32:05.384Z"
   },
   {
    "duration": 18,
    "start_time": "2022-02-17T18:32:05.408Z"
   },
   {
    "duration": 22,
    "start_time": "2022-02-17T18:32:05.462Z"
   },
   {
    "duration": 20,
    "start_time": "2022-02-17T18:32:05.486Z"
   },
   {
    "duration": 12,
    "start_time": "2022-02-17T18:32:05.508Z"
   },
   {
    "duration": 14,
    "start_time": "2022-02-17T18:32:05.561Z"
   },
   {
    "duration": 12,
    "start_time": "2022-02-17T18:32:05.578Z"
   },
   {
    "duration": 6,
    "start_time": "2022-02-17T18:32:05.592Z"
   },
   {
    "duration": 66,
    "start_time": "2022-02-17T18:32:05.601Z"
   },
   {
    "duration": 18,
    "start_time": "2022-02-17T18:32:05.670Z"
   },
   {
    "duration": 39,
    "start_time": "2022-02-17T18:32:05.690Z"
   },
   {
    "duration": 33,
    "start_time": "2022-02-17T18:32:05.731Z"
   },
   {
    "duration": 11,
    "start_time": "2022-02-17T18:32:05.766Z"
   },
   {
    "duration": 8,
    "start_time": "2022-02-17T18:32:05.779Z"
   },
   {
    "duration": 11,
    "start_time": "2022-02-17T18:32:05.789Z"
   },
   {
    "duration": 12,
    "start_time": "2022-02-17T18:32:05.803Z"
   },
   {
    "duration": 378,
    "start_time": "2022-02-17T18:33:48.689Z"
   },
   {
    "duration": 629,
    "start_time": "2022-02-17T18:33:56.078Z"
   },
   {
    "duration": 546,
    "start_time": "2022-02-17T18:34:02.080Z"
   },
   {
    "duration": 325,
    "start_time": "2022-02-17T18:34:50.340Z"
   },
   {
    "duration": 61,
    "start_time": "2022-02-17T18:35:07.724Z"
   },
   {
    "duration": 589,
    "start_time": "2022-02-18T07:50:21.823Z"
   },
   {
    "duration": 150,
    "start_time": "2022-02-18T07:50:22.414Z"
   },
   {
    "duration": 19,
    "start_time": "2022-02-18T07:50:22.566Z"
   },
   {
    "duration": 27,
    "start_time": "2022-02-18T07:50:22.588Z"
   },
   {
    "duration": 7,
    "start_time": "2022-02-18T07:50:22.617Z"
   },
   {
    "duration": 43,
    "start_time": "2022-02-18T07:50:22.626Z"
   },
   {
    "duration": 7,
    "start_time": "2022-02-18T07:50:22.671Z"
   },
   {
    "duration": 29,
    "start_time": "2022-02-18T07:50:22.681Z"
   },
   {
    "duration": 19,
    "start_time": "2022-02-18T07:50:22.712Z"
   },
   {
    "duration": 44,
    "start_time": "2022-02-18T07:50:22.733Z"
   },
   {
    "duration": 67,
    "start_time": "2022-02-18T07:50:22.779Z"
   },
   {
    "duration": 98,
    "start_time": "2022-02-18T07:50:22.848Z"
   },
   {
    "duration": 69,
    "start_time": "2022-02-18T07:50:22.948Z"
   },
   {
    "duration": 55,
    "start_time": "2022-02-18T07:50:23.019Z"
   },
   {
    "duration": 3,
    "start_time": "2022-02-18T07:50:23.076Z"
   },
   {
    "duration": 19,
    "start_time": "2022-02-18T07:50:23.081Z"
   },
   {
    "duration": 7,
    "start_time": "2022-02-18T07:50:23.101Z"
   },
   {
    "duration": 13,
    "start_time": "2022-02-18T07:50:23.110Z"
   },
   {
    "duration": 10,
    "start_time": "2022-02-18T07:50:23.125Z"
   },
   {
    "duration": 33,
    "start_time": "2022-02-18T07:50:23.137Z"
   },
   {
    "duration": 23,
    "start_time": "2022-02-18T07:50:23.172Z"
   },
   {
    "duration": 16,
    "start_time": "2022-02-18T07:50:23.197Z"
   },
   {
    "duration": 17,
    "start_time": "2022-02-18T07:50:23.216Z"
   },
   {
    "duration": 42,
    "start_time": "2022-02-18T07:50:23.235Z"
   },
   {
    "duration": 19,
    "start_time": "2022-02-18T07:50:23.278Z"
   },
   {
    "duration": 17,
    "start_time": "2022-02-18T07:50:23.299Z"
   },
   {
    "duration": 10,
    "start_time": "2022-02-18T07:50:23.318Z"
   },
   {
    "duration": 48,
    "start_time": "2022-02-18T07:50:23.330Z"
   },
   {
    "duration": 23,
    "start_time": "2022-02-18T07:50:23.380Z"
   },
   {
    "duration": 11,
    "start_time": "2022-02-18T07:50:23.405Z"
   },
   {
    "duration": 30,
    "start_time": "2022-02-18T07:50:23.418Z"
   },
   {
    "duration": 15,
    "start_time": "2022-02-18T07:50:23.450Z"
   },
   {
    "duration": 21,
    "start_time": "2022-02-18T07:50:23.466Z"
   },
   {
    "duration": 14,
    "start_time": "2022-02-18T07:50:23.489Z"
   },
   {
    "duration": 10,
    "start_time": "2022-02-18T07:50:23.505Z"
   },
   {
    "duration": 5,
    "start_time": "2022-02-18T07:50:23.517Z"
   },
   {
    "duration": 46,
    "start_time": "2022-02-18T07:50:23.525Z"
   },
   {
    "duration": 6,
    "start_time": "2022-02-18T07:50:23.573Z"
   }
  ],
  "colab": {
   "collapsed_sections": [
    "E0vqbgi9ay0H",
    "VUC88oWjTJw2"
   ],
   "name": "yandex_music_project_2021.2.ipynb",
   "provenance": []
  },
  "kernelspec": {
   "display_name": "Python 3 (ipykernel)",
   "language": "python",
   "name": "python3"
  },
  "language_info": {
   "codemirror_mode": {
    "name": "ipython",
    "version": 3
   },
   "file_extension": ".py",
   "mimetype": "text/x-python",
   "name": "python",
   "nbconvert_exporter": "python",
   "pygments_lexer": "ipython3",
   "version": "3.9.10"
  },
  "toc": {
   "base_numbering": 1,
   "nav_menu": {},
   "number_sections": true,
   "sideBar": true,
   "skip_h1_title": true,
   "title_cell": "Table of Contents",
   "title_sidebar": "Contents",
   "toc_cell": false,
   "toc_position": {},
   "toc_section_display": true,
   "toc_window_display": true
  }
 },
 "nbformat": 4,
 "nbformat_minor": 1
}
