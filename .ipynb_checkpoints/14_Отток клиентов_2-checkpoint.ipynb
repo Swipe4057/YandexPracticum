{
 "cells": [
  {
   "cell_type": "markdown",
   "id": "baa321f7",
   "metadata": {},
   "source": [
    "# Прогнозирование оттока клиентов"
   ]
  },
  {
   "cell_type": "markdown",
   "id": "b346f64c",
   "metadata": {},
   "source": [
    "## Описание пректа"
   ]
  },
  {
   "cell_type": "markdown",
   "id": "43b9f423",
   "metadata": {},
   "source": [
    "Перед нами стоит задача прогнозирования оттока клиентов. Для пользователей планирующих уйти могут быть предложены промокоды и специальные условия. Необходимо выполнить модель прогнозирования оттока на основе персональных данных о некоторых клиентах, информации об их тарифах и договорах."
   ]
  },
  {
   "cell_type": "markdown",
   "id": "77e310dc",
   "metadata": {},
   "source": [
    "Импортируем необходимые библиотеки:"
   ]
  },
  {
   "cell_type": "code",
   "execution_count": 1,
   "id": "e78ffcf1",
   "metadata": {},
   "outputs": [],
   "source": [
    "import numpy as np\n",
    "import pandas as pd\n",
    "import matplotlib.pyplot as plt\n",
    "\n",
    "from sklearn.model_selection import train_test_split, GridSearchCV\n",
    "from sklearn.preprocessing import LabelEncoder\n",
    "\n",
    "from sklearn.metrics import roc_curve, roc_auc_score, accuracy_score\n",
    "\n",
    "from catboost import CatBoostClassifier\n",
    "from lightgbm import LGBMClassifier"
   ]
  },
  {
   "cell_type": "markdown",
   "id": "55e287f6",
   "metadata": {},
   "source": [
    "Прочтем файлы и выведем основную информацию:"
   ]
  },
  {
   "cell_type": "code",
   "execution_count": 2,
   "id": "dab9fb6e",
   "metadata": {},
   "outputs": [],
   "source": [
    "try:\n",
    "    contract_df = pd.read_csv('contract.csv', index_col=0)\n",
    "    internet_df = pd.read_csv('internet.csv', index_col=0)\n",
    "    personal_df = pd.read_csv('personal.csv', index_col=0)\n",
    "    phone_df = pd.read_csv('phone.csv', index_col=0)\n",
    "except:\n",
    "    contract_df = pd.read_csv('/datasets/final_provider/contract.csv', index_col=0)\n",
    "    internet_df = pd.read_csv('/datasets/final_provider/internet.csv', index_col=0)\n",
    "    personal_df = pd.read_csv('/datasets/final_provider/personal.csv', index_col=0)\n",
    "    phone_df = pd.read_csv('/datasets/final_provider/phone.csv', index_col=0)"
   ]
  },
  {
   "cell_type": "markdown",
   "id": "8f8766e7",
   "metadata": {},
   "source": [
    "В таблице contract находится информация о договоре:"
   ]
  },
  {
   "cell_type": "code",
   "execution_count": 3,
   "id": "d01c8d83",
   "metadata": {},
   "outputs": [
    {
     "name": "stdout",
     "output_type": "stream",
     "text": [
      "<class 'pandas.core.frame.DataFrame'>\n",
      "Index: 7043 entries, 7590-VHVEG to 3186-AJIEK\n",
      "Data columns (total 7 columns):\n",
      " #   Column            Non-Null Count  Dtype  \n",
      "---  ------            --------------  -----  \n",
      " 0   BeginDate         7043 non-null   object \n",
      " 1   EndDate           7043 non-null   object \n",
      " 2   Type              7043 non-null   object \n",
      " 3   PaperlessBilling  7043 non-null   object \n",
      " 4   PaymentMethod     7043 non-null   object \n",
      " 5   MonthlyCharges    7043 non-null   float64\n",
      " 6   TotalCharges      7043 non-null   object \n",
      "dtypes: float64(1), object(6)\n",
      "memory usage: 440.2+ KB\n"
     ]
    }
   ],
   "source": [
    "contract_df.info()"
   ]
  },
  {
   "cell_type": "code",
   "execution_count": 4,
   "id": "972b9ce7",
   "metadata": {},
   "outputs": [
    {
     "data": {
      "text/html": [
       "<div>\n",
       "<style scoped>\n",
       "    .dataframe tbody tr th:only-of-type {\n",
       "        vertical-align: middle;\n",
       "    }\n",
       "\n",
       "    .dataframe tbody tr th {\n",
       "        vertical-align: top;\n",
       "    }\n",
       "\n",
       "    .dataframe thead th {\n",
       "        text-align: right;\n",
       "    }\n",
       "</style>\n",
       "<table border=\"1\" class=\"dataframe\">\n",
       "  <thead>\n",
       "    <tr style=\"text-align: right;\">\n",
       "      <th></th>\n",
       "      <th>BeginDate</th>\n",
       "      <th>EndDate</th>\n",
       "      <th>Type</th>\n",
       "      <th>PaperlessBilling</th>\n",
       "      <th>PaymentMethod</th>\n",
       "      <th>MonthlyCharges</th>\n",
       "      <th>TotalCharges</th>\n",
       "    </tr>\n",
       "    <tr>\n",
       "      <th>customerID</th>\n",
       "      <th></th>\n",
       "      <th></th>\n",
       "      <th></th>\n",
       "      <th></th>\n",
       "      <th></th>\n",
       "      <th></th>\n",
       "      <th></th>\n",
       "    </tr>\n",
       "  </thead>\n",
       "  <tbody>\n",
       "    <tr>\n",
       "      <th>7590-VHVEG</th>\n",
       "      <td>2020-01-01</td>\n",
       "      <td>No</td>\n",
       "      <td>Month-to-month</td>\n",
       "      <td>Yes</td>\n",
       "      <td>Electronic check</td>\n",
       "      <td>29.85</td>\n",
       "      <td>29.85</td>\n",
       "    </tr>\n",
       "    <tr>\n",
       "      <th>5575-GNVDE</th>\n",
       "      <td>2017-04-01</td>\n",
       "      <td>No</td>\n",
       "      <td>One year</td>\n",
       "      <td>No</td>\n",
       "      <td>Mailed check</td>\n",
       "      <td>56.95</td>\n",
       "      <td>1889.5</td>\n",
       "    </tr>\n",
       "    <tr>\n",
       "      <th>3668-QPYBK</th>\n",
       "      <td>2019-10-01</td>\n",
       "      <td>2019-12-01 00:00:00</td>\n",
       "      <td>Month-to-month</td>\n",
       "      <td>Yes</td>\n",
       "      <td>Mailed check</td>\n",
       "      <td>53.85</td>\n",
       "      <td>108.15</td>\n",
       "    </tr>\n",
       "    <tr>\n",
       "      <th>7795-CFOCW</th>\n",
       "      <td>2016-05-01</td>\n",
       "      <td>No</td>\n",
       "      <td>One year</td>\n",
       "      <td>No</td>\n",
       "      <td>Bank transfer (automatic)</td>\n",
       "      <td>42.30</td>\n",
       "      <td>1840.75</td>\n",
       "    </tr>\n",
       "    <tr>\n",
       "      <th>9237-HQITU</th>\n",
       "      <td>2019-09-01</td>\n",
       "      <td>2019-11-01 00:00:00</td>\n",
       "      <td>Month-to-month</td>\n",
       "      <td>Yes</td>\n",
       "      <td>Electronic check</td>\n",
       "      <td>70.70</td>\n",
       "      <td>151.65</td>\n",
       "    </tr>\n",
       "  </tbody>\n",
       "</table>\n",
       "</div>"
      ],
      "text/plain": [
       "             BeginDate              EndDate            Type PaperlessBilling  \\\n",
       "customerID                                                                     \n",
       "7590-VHVEG  2020-01-01                   No  Month-to-month              Yes   \n",
       "5575-GNVDE  2017-04-01                   No        One year               No   \n",
       "3668-QPYBK  2019-10-01  2019-12-01 00:00:00  Month-to-month              Yes   \n",
       "7795-CFOCW  2016-05-01                   No        One year               No   \n",
       "9237-HQITU  2019-09-01  2019-11-01 00:00:00  Month-to-month              Yes   \n",
       "\n",
       "                        PaymentMethod  MonthlyCharges TotalCharges  \n",
       "customerID                                                          \n",
       "7590-VHVEG           Electronic check           29.85        29.85  \n",
       "5575-GNVDE               Mailed check           56.95       1889.5  \n",
       "3668-QPYBK               Mailed check           53.85       108.15  \n",
       "7795-CFOCW  Bank transfer (automatic)           42.30      1840.75  \n",
       "9237-HQITU           Electronic check           70.70       151.65  "
      ]
     },
     "execution_count": 4,
     "metadata": {},
     "output_type": "execute_result"
    }
   ],
   "source": [
    "contract_df.head()"
   ]
  },
  {
   "cell_type": "markdown",
   "id": "cad847f1",
   "metadata": {},
   "source": [
    "* BeginDate - дата начала пользования услугами имеет формат объект, а не формат даты;\n",
    "* EndDate - дата окончания пользования услугами, также имеет формат объект, в случае если клиент ушел то ставиться дата ухода, если клиент еще пользуется услугами то заполнено значением \"No\"\n",
    "* TotalCharges - имеет формат объекта, а заполнено цифрами\n",
    "\n",
    "Остальные данные признаки категориальные или числовые и у них верно указан формат данных."
   ]
  },
  {
   "cell_type": "markdown",
   "id": "7f8b3f0f",
   "metadata": {},
   "source": [
    "В таблице internet находится информация об интернет-услугах:"
   ]
  },
  {
   "cell_type": "code",
   "execution_count": 5,
   "id": "c85a8b3d",
   "metadata": {},
   "outputs": [
    {
     "name": "stdout",
     "output_type": "stream",
     "text": [
      "<class 'pandas.core.frame.DataFrame'>\n",
      "Index: 5517 entries, 7590-VHVEG to 3186-AJIEK\n",
      "Data columns (total 7 columns):\n",
      " #   Column            Non-Null Count  Dtype \n",
      "---  ------            --------------  ----- \n",
      " 0   InternetService   5517 non-null   object\n",
      " 1   OnlineSecurity    5517 non-null   object\n",
      " 2   OnlineBackup      5517 non-null   object\n",
      " 3   DeviceProtection  5517 non-null   object\n",
      " 4   TechSupport       5517 non-null   object\n",
      " 5   StreamingTV       5517 non-null   object\n",
      " 6   StreamingMovies   5517 non-null   object\n",
      "dtypes: object(7)\n",
      "memory usage: 344.8+ KB\n"
     ]
    }
   ],
   "source": [
    "internet_df.info()"
   ]
  },
  {
   "cell_type": "code",
   "execution_count": 6,
   "id": "b59d7eb5",
   "metadata": {},
   "outputs": [
    {
     "data": {
      "text/html": [
       "<div>\n",
       "<style scoped>\n",
       "    .dataframe tbody tr th:only-of-type {\n",
       "        vertical-align: middle;\n",
       "    }\n",
       "\n",
       "    .dataframe tbody tr th {\n",
       "        vertical-align: top;\n",
       "    }\n",
       "\n",
       "    .dataframe thead th {\n",
       "        text-align: right;\n",
       "    }\n",
       "</style>\n",
       "<table border=\"1\" class=\"dataframe\">\n",
       "  <thead>\n",
       "    <tr style=\"text-align: right;\">\n",
       "      <th></th>\n",
       "      <th>InternetService</th>\n",
       "      <th>OnlineSecurity</th>\n",
       "      <th>OnlineBackup</th>\n",
       "      <th>DeviceProtection</th>\n",
       "      <th>TechSupport</th>\n",
       "      <th>StreamingTV</th>\n",
       "      <th>StreamingMovies</th>\n",
       "    </tr>\n",
       "    <tr>\n",
       "      <th>customerID</th>\n",
       "      <th></th>\n",
       "      <th></th>\n",
       "      <th></th>\n",
       "      <th></th>\n",
       "      <th></th>\n",
       "      <th></th>\n",
       "      <th></th>\n",
       "    </tr>\n",
       "  </thead>\n",
       "  <tbody>\n",
       "    <tr>\n",
       "      <th>7590-VHVEG</th>\n",
       "      <td>DSL</td>\n",
       "      <td>No</td>\n",
       "      <td>Yes</td>\n",
       "      <td>No</td>\n",
       "      <td>No</td>\n",
       "      <td>No</td>\n",
       "      <td>No</td>\n",
       "    </tr>\n",
       "    <tr>\n",
       "      <th>5575-GNVDE</th>\n",
       "      <td>DSL</td>\n",
       "      <td>Yes</td>\n",
       "      <td>No</td>\n",
       "      <td>Yes</td>\n",
       "      <td>No</td>\n",
       "      <td>No</td>\n",
       "      <td>No</td>\n",
       "    </tr>\n",
       "    <tr>\n",
       "      <th>3668-QPYBK</th>\n",
       "      <td>DSL</td>\n",
       "      <td>Yes</td>\n",
       "      <td>Yes</td>\n",
       "      <td>No</td>\n",
       "      <td>No</td>\n",
       "      <td>No</td>\n",
       "      <td>No</td>\n",
       "    </tr>\n",
       "    <tr>\n",
       "      <th>7795-CFOCW</th>\n",
       "      <td>DSL</td>\n",
       "      <td>Yes</td>\n",
       "      <td>No</td>\n",
       "      <td>Yes</td>\n",
       "      <td>Yes</td>\n",
       "      <td>No</td>\n",
       "      <td>No</td>\n",
       "    </tr>\n",
       "    <tr>\n",
       "      <th>9237-HQITU</th>\n",
       "      <td>Fiber optic</td>\n",
       "      <td>No</td>\n",
       "      <td>No</td>\n",
       "      <td>No</td>\n",
       "      <td>No</td>\n",
       "      <td>No</td>\n",
       "      <td>No</td>\n",
       "    </tr>\n",
       "  </tbody>\n",
       "</table>\n",
       "</div>"
      ],
      "text/plain": [
       "           InternetService OnlineSecurity OnlineBackup DeviceProtection  \\\n",
       "customerID                                                                \n",
       "7590-VHVEG             DSL             No          Yes               No   \n",
       "5575-GNVDE             DSL            Yes           No              Yes   \n",
       "3668-QPYBK             DSL            Yes          Yes               No   \n",
       "7795-CFOCW             DSL            Yes           No              Yes   \n",
       "9237-HQITU     Fiber optic             No           No               No   \n",
       "\n",
       "           TechSupport StreamingTV StreamingMovies  \n",
       "customerID                                          \n",
       "7590-VHVEG          No          No              No  \n",
       "5575-GNVDE          No          No              No  \n",
       "3668-QPYBK          No          No              No  \n",
       "7795-CFOCW         Yes          No              No  \n",
       "9237-HQITU          No          No              No  "
      ]
     },
     "execution_count": 6,
     "metadata": {},
     "output_type": "execute_result"
    }
   ],
   "source": [
    "internet_df.head()"
   ]
  },
  {
   "cell_type": "markdown",
   "id": "36c13044",
   "metadata": {},
   "source": [
    "Все признаки категориальные, видимо информация указана только для клиентов пользующихся интернетом, не все им пользуются."
   ]
  },
  {
   "cell_type": "markdown",
   "id": "22bbba7a",
   "metadata": {},
   "source": [
    "В таблице personal находится персональные данные клиента:"
   ]
  },
  {
   "cell_type": "code",
   "execution_count": 7,
   "id": "ab32fd99",
   "metadata": {},
   "outputs": [
    {
     "name": "stdout",
     "output_type": "stream",
     "text": [
      "<class 'pandas.core.frame.DataFrame'>\n",
      "Index: 7043 entries, 7590-VHVEG to 3186-AJIEK\n",
      "Data columns (total 4 columns):\n",
      " #   Column         Non-Null Count  Dtype \n",
      "---  ------         --------------  ----- \n",
      " 0   gender         7043 non-null   object\n",
      " 1   SeniorCitizen  7043 non-null   int64 \n",
      " 2   Partner        7043 non-null   object\n",
      " 3   Dependents     7043 non-null   object\n",
      "dtypes: int64(1), object(3)\n",
      "memory usage: 275.1+ KB\n"
     ]
    }
   ],
   "source": [
    "personal_df.info()"
   ]
  },
  {
   "cell_type": "code",
   "execution_count": 8,
   "id": "f6469e2f",
   "metadata": {},
   "outputs": [
    {
     "data": {
      "text/html": [
       "<div>\n",
       "<style scoped>\n",
       "    .dataframe tbody tr th:only-of-type {\n",
       "        vertical-align: middle;\n",
       "    }\n",
       "\n",
       "    .dataframe tbody tr th {\n",
       "        vertical-align: top;\n",
       "    }\n",
       "\n",
       "    .dataframe thead th {\n",
       "        text-align: right;\n",
       "    }\n",
       "</style>\n",
       "<table border=\"1\" class=\"dataframe\">\n",
       "  <thead>\n",
       "    <tr style=\"text-align: right;\">\n",
       "      <th></th>\n",
       "      <th>gender</th>\n",
       "      <th>SeniorCitizen</th>\n",
       "      <th>Partner</th>\n",
       "      <th>Dependents</th>\n",
       "    </tr>\n",
       "    <tr>\n",
       "      <th>customerID</th>\n",
       "      <th></th>\n",
       "      <th></th>\n",
       "      <th></th>\n",
       "      <th></th>\n",
       "    </tr>\n",
       "  </thead>\n",
       "  <tbody>\n",
       "    <tr>\n",
       "      <th>7590-VHVEG</th>\n",
       "      <td>Female</td>\n",
       "      <td>0</td>\n",
       "      <td>Yes</td>\n",
       "      <td>No</td>\n",
       "    </tr>\n",
       "    <tr>\n",
       "      <th>5575-GNVDE</th>\n",
       "      <td>Male</td>\n",
       "      <td>0</td>\n",
       "      <td>No</td>\n",
       "      <td>No</td>\n",
       "    </tr>\n",
       "    <tr>\n",
       "      <th>3668-QPYBK</th>\n",
       "      <td>Male</td>\n",
       "      <td>0</td>\n",
       "      <td>No</td>\n",
       "      <td>No</td>\n",
       "    </tr>\n",
       "    <tr>\n",
       "      <th>7795-CFOCW</th>\n",
       "      <td>Male</td>\n",
       "      <td>0</td>\n",
       "      <td>No</td>\n",
       "      <td>No</td>\n",
       "    </tr>\n",
       "    <tr>\n",
       "      <th>9237-HQITU</th>\n",
       "      <td>Female</td>\n",
       "      <td>0</td>\n",
       "      <td>No</td>\n",
       "      <td>No</td>\n",
       "    </tr>\n",
       "  </tbody>\n",
       "</table>\n",
       "</div>"
      ],
      "text/plain": [
       "            gender  SeniorCitizen Partner Dependents\n",
       "customerID                                          \n",
       "7590-VHVEG  Female              0     Yes         No\n",
       "5575-GNVDE    Male              0      No         No\n",
       "3668-QPYBK    Male              0      No         No\n",
       "7795-CFOCW    Male              0      No         No\n",
       "9237-HQITU  Female              0      No         No"
      ]
     },
     "execution_count": 8,
     "metadata": {},
     "output_type": "execute_result"
    }
   ],
   "source": [
    "personal_df.head()"
   ]
  },
  {
   "cell_type": "markdown",
   "id": "5ae3afda",
   "metadata": {},
   "source": [
    "В таблице указана информация о клиентах: пенсионер он или нет, мужчина или женщина и тп."
   ]
  },
  {
   "cell_type": "markdown",
   "id": "19295d4e",
   "metadata": {},
   "source": [
    "В таблице phone находится информация об услугах телефонии:"
   ]
  },
  {
   "cell_type": "code",
   "execution_count": 9,
   "id": "0808533b",
   "metadata": {},
   "outputs": [
    {
     "name": "stdout",
     "output_type": "stream",
     "text": [
      "<class 'pandas.core.frame.DataFrame'>\n",
      "Index: 6361 entries, 5575-GNVDE to 3186-AJIEK\n",
      "Data columns (total 1 columns):\n",
      " #   Column         Non-Null Count  Dtype \n",
      "---  ------         --------------  ----- \n",
      " 0   MultipleLines  6361 non-null   object\n",
      "dtypes: object(1)\n",
      "memory usage: 99.4+ KB\n"
     ]
    }
   ],
   "source": [
    "phone_df.info()"
   ]
  },
  {
   "cell_type": "code",
   "execution_count": 10,
   "id": "c99ce128",
   "metadata": {},
   "outputs": [
    {
     "data": {
      "text/html": [
       "<div>\n",
       "<style scoped>\n",
       "    .dataframe tbody tr th:only-of-type {\n",
       "        vertical-align: middle;\n",
       "    }\n",
       "\n",
       "    .dataframe tbody tr th {\n",
       "        vertical-align: top;\n",
       "    }\n",
       "\n",
       "    .dataframe thead th {\n",
       "        text-align: right;\n",
       "    }\n",
       "</style>\n",
       "<table border=\"1\" class=\"dataframe\">\n",
       "  <thead>\n",
       "    <tr style=\"text-align: right;\">\n",
       "      <th></th>\n",
       "      <th>MultipleLines</th>\n",
       "    </tr>\n",
       "    <tr>\n",
       "      <th>customerID</th>\n",
       "      <th></th>\n",
       "    </tr>\n",
       "  </thead>\n",
       "  <tbody>\n",
       "    <tr>\n",
       "      <th>5575-GNVDE</th>\n",
       "      <td>No</td>\n",
       "    </tr>\n",
       "    <tr>\n",
       "      <th>3668-QPYBK</th>\n",
       "      <td>No</td>\n",
       "    </tr>\n",
       "    <tr>\n",
       "      <th>9237-HQITU</th>\n",
       "      <td>No</td>\n",
       "    </tr>\n",
       "    <tr>\n",
       "      <th>9305-CDSKC</th>\n",
       "      <td>Yes</td>\n",
       "    </tr>\n",
       "    <tr>\n",
       "      <th>1452-KIOVK</th>\n",
       "      <td>Yes</td>\n",
       "    </tr>\n",
       "  </tbody>\n",
       "</table>\n",
       "</div>"
      ],
      "text/plain": [
       "           MultipleLines\n",
       "customerID              \n",
       "5575-GNVDE            No\n",
       "3668-QPYBK            No\n",
       "9237-HQITU            No\n",
       "9305-CDSKC           Yes\n",
       "1452-KIOVK           Yes"
      ]
     },
     "execution_count": 10,
     "metadata": {},
     "output_type": "execute_result"
    }
   ],
   "source": [
    "phone_df.head()"
   ]
  },
  {
   "cell_type": "markdown",
   "id": "fa9822de",
   "metadata": {},
   "source": [
    "Таблица содержит только информацию о том возможно ли использовать параллельные линии во время звонка или нет, данные категориальные. Не все клиенты пользуются услугами телефонии."
   ]
  },
  {
   "cell_type": "markdown",
   "id": "8c1f658e",
   "metadata": {},
   "source": [
    "#### План дальнейшей работы:\n",
    "* выполнить предобработку данных, поменять форматы данных, выполнить анализ признаков;\n",
    "* выделить целевой признак в данных\n",
    "* объединить таблицы в одну, обучить модель, проанализировать результаты."
   ]
  },
  {
   "cell_type": "markdown",
   "id": "42a47259",
   "metadata": {},
   "source": [
    "## Предобработка данных"
   ]
  },
  {
   "cell_type": "markdown",
   "id": "b3c2032c",
   "metadata": {},
   "source": [
    "Изменим формат данных даты заключения договора:"
   ]
  },
  {
   "cell_type": "code",
   "execution_count": 11,
   "id": "8c519af9",
   "metadata": {},
   "outputs": [],
   "source": [
    "contract_df['BeginDate'] = pd.to_datetime(contract_df['BeginDate'], format='%Y-%m-%d')"
   ]
  },
  {
   "cell_type": "markdown",
   "id": "2cddb554",
   "metadata": {},
   "source": [
    "Приведем общие траты в числовой формат:"
   ]
  },
  {
   "cell_type": "code",
   "execution_count": 12,
   "id": "a6ce3972",
   "metadata": {},
   "outputs": [],
   "source": [
    "contract_df['TotalCharges'] = pd.to_numeric(contract_df['TotalCharges'], errors='coerce')"
   ]
  },
  {
   "cell_type": "markdown",
   "id": "311eaf7c",
   "metadata": {},
   "source": [
    "Выделились пропуски в общих тратах, пропуски образовались для клиентов, для которых дата заключения контракта совпадает с датой выгрузки данных - 1 февраля 2020 года, такие клиенты подключили тарифы первый день и еще не успели им воспользоваться, поэтому их можно исключить из данных:"
   ]
  },
  {
   "cell_type": "code",
   "execution_count": 13,
   "id": "eb32bbca",
   "metadata": {},
   "outputs": [
    {
     "data": {
      "text/html": [
       "<div>\n",
       "<style scoped>\n",
       "    .dataframe tbody tr th:only-of-type {\n",
       "        vertical-align: middle;\n",
       "    }\n",
       "\n",
       "    .dataframe tbody tr th {\n",
       "        vertical-align: top;\n",
       "    }\n",
       "\n",
       "    .dataframe thead th {\n",
       "        text-align: right;\n",
       "    }\n",
       "</style>\n",
       "<table border=\"1\" class=\"dataframe\">\n",
       "  <thead>\n",
       "    <tr style=\"text-align: right;\">\n",
       "      <th></th>\n",
       "      <th>BeginDate</th>\n",
       "      <th>EndDate</th>\n",
       "      <th>Type</th>\n",
       "      <th>PaperlessBilling</th>\n",
       "      <th>PaymentMethod</th>\n",
       "      <th>MonthlyCharges</th>\n",
       "      <th>TotalCharges</th>\n",
       "    </tr>\n",
       "    <tr>\n",
       "      <th>customerID</th>\n",
       "      <th></th>\n",
       "      <th></th>\n",
       "      <th></th>\n",
       "      <th></th>\n",
       "      <th></th>\n",
       "      <th></th>\n",
       "      <th></th>\n",
       "    </tr>\n",
       "  </thead>\n",
       "  <tbody>\n",
       "    <tr>\n",
       "      <th>4472-LVYGI</th>\n",
       "      <td>2020-02-01</td>\n",
       "      <td>No</td>\n",
       "      <td>Two year</td>\n",
       "      <td>Yes</td>\n",
       "      <td>Bank transfer (automatic)</td>\n",
       "      <td>52.55</td>\n",
       "      <td>NaN</td>\n",
       "    </tr>\n",
       "    <tr>\n",
       "      <th>3115-CZMZD</th>\n",
       "      <td>2020-02-01</td>\n",
       "      <td>No</td>\n",
       "      <td>Two year</td>\n",
       "      <td>No</td>\n",
       "      <td>Mailed check</td>\n",
       "      <td>20.25</td>\n",
       "      <td>NaN</td>\n",
       "    </tr>\n",
       "    <tr>\n",
       "      <th>5709-LVOEQ</th>\n",
       "      <td>2020-02-01</td>\n",
       "      <td>No</td>\n",
       "      <td>Two year</td>\n",
       "      <td>No</td>\n",
       "      <td>Mailed check</td>\n",
       "      <td>80.85</td>\n",
       "      <td>NaN</td>\n",
       "    </tr>\n",
       "    <tr>\n",
       "      <th>4367-NUYAO</th>\n",
       "      <td>2020-02-01</td>\n",
       "      <td>No</td>\n",
       "      <td>Two year</td>\n",
       "      <td>No</td>\n",
       "      <td>Mailed check</td>\n",
       "      <td>25.75</td>\n",
       "      <td>NaN</td>\n",
       "    </tr>\n",
       "    <tr>\n",
       "      <th>1371-DWPAZ</th>\n",
       "      <td>2020-02-01</td>\n",
       "      <td>No</td>\n",
       "      <td>Two year</td>\n",
       "      <td>No</td>\n",
       "      <td>Credit card (automatic)</td>\n",
       "      <td>56.05</td>\n",
       "      <td>NaN</td>\n",
       "    </tr>\n",
       "    <tr>\n",
       "      <th>7644-OMVMY</th>\n",
       "      <td>2020-02-01</td>\n",
       "      <td>No</td>\n",
       "      <td>Two year</td>\n",
       "      <td>No</td>\n",
       "      <td>Mailed check</td>\n",
       "      <td>19.85</td>\n",
       "      <td>NaN</td>\n",
       "    </tr>\n",
       "    <tr>\n",
       "      <th>3213-VVOLG</th>\n",
       "      <td>2020-02-01</td>\n",
       "      <td>No</td>\n",
       "      <td>Two year</td>\n",
       "      <td>No</td>\n",
       "      <td>Mailed check</td>\n",
       "      <td>25.35</td>\n",
       "      <td>NaN</td>\n",
       "    </tr>\n",
       "    <tr>\n",
       "      <th>2520-SGTTA</th>\n",
       "      <td>2020-02-01</td>\n",
       "      <td>No</td>\n",
       "      <td>Two year</td>\n",
       "      <td>No</td>\n",
       "      <td>Mailed check</td>\n",
       "      <td>20.00</td>\n",
       "      <td>NaN</td>\n",
       "    </tr>\n",
       "    <tr>\n",
       "      <th>2923-ARZLG</th>\n",
       "      <td>2020-02-01</td>\n",
       "      <td>No</td>\n",
       "      <td>One year</td>\n",
       "      <td>Yes</td>\n",
       "      <td>Mailed check</td>\n",
       "      <td>19.70</td>\n",
       "      <td>NaN</td>\n",
       "    </tr>\n",
       "    <tr>\n",
       "      <th>4075-WKNIU</th>\n",
       "      <td>2020-02-01</td>\n",
       "      <td>No</td>\n",
       "      <td>Two year</td>\n",
       "      <td>No</td>\n",
       "      <td>Mailed check</td>\n",
       "      <td>73.35</td>\n",
       "      <td>NaN</td>\n",
       "    </tr>\n",
       "    <tr>\n",
       "      <th>2775-SEFEE</th>\n",
       "      <td>2020-02-01</td>\n",
       "      <td>No</td>\n",
       "      <td>Two year</td>\n",
       "      <td>Yes</td>\n",
       "      <td>Bank transfer (automatic)</td>\n",
       "      <td>61.90</td>\n",
       "      <td>NaN</td>\n",
       "    </tr>\n",
       "  </tbody>\n",
       "</table>\n",
       "</div>"
      ],
      "text/plain": [
       "            BeginDate EndDate      Type PaperlessBilling  \\\n",
       "customerID                                                 \n",
       "4472-LVYGI 2020-02-01      No  Two year              Yes   \n",
       "3115-CZMZD 2020-02-01      No  Two year               No   \n",
       "5709-LVOEQ 2020-02-01      No  Two year               No   \n",
       "4367-NUYAO 2020-02-01      No  Two year               No   \n",
       "1371-DWPAZ 2020-02-01      No  Two year               No   \n",
       "7644-OMVMY 2020-02-01      No  Two year               No   \n",
       "3213-VVOLG 2020-02-01      No  Two year               No   \n",
       "2520-SGTTA 2020-02-01      No  Two year               No   \n",
       "2923-ARZLG 2020-02-01      No  One year              Yes   \n",
       "4075-WKNIU 2020-02-01      No  Two year               No   \n",
       "2775-SEFEE 2020-02-01      No  Two year              Yes   \n",
       "\n",
       "                        PaymentMethod  MonthlyCharges  TotalCharges  \n",
       "customerID                                                           \n",
       "4472-LVYGI  Bank transfer (automatic)           52.55           NaN  \n",
       "3115-CZMZD               Mailed check           20.25           NaN  \n",
       "5709-LVOEQ               Mailed check           80.85           NaN  \n",
       "4367-NUYAO               Mailed check           25.75           NaN  \n",
       "1371-DWPAZ    Credit card (automatic)           56.05           NaN  \n",
       "7644-OMVMY               Mailed check           19.85           NaN  \n",
       "3213-VVOLG               Mailed check           25.35           NaN  \n",
       "2520-SGTTA               Mailed check           20.00           NaN  \n",
       "2923-ARZLG               Mailed check           19.70           NaN  \n",
       "4075-WKNIU               Mailed check           73.35           NaN  \n",
       "2775-SEFEE  Bank transfer (automatic)           61.90           NaN  "
      ]
     },
     "execution_count": 13,
     "metadata": {},
     "output_type": "execute_result"
    }
   ],
   "source": [
    "contract_df[contract_df['TotalCharges'].isna()]"
   ]
  },
  {
   "cell_type": "markdown",
   "id": "62877f33",
   "metadata": {},
   "source": [
    "Удалим клиентов из выборки которые подключились в день выгрузки данных, таких строк не много:"
   ]
  },
  {
   "cell_type": "code",
   "execution_count": 14,
   "id": "82194838",
   "metadata": {},
   "outputs": [],
   "source": [
    "contract_df = contract_df[contract_df['BeginDate'] < '2020-02-01']"
   ]
  },
  {
   "cell_type": "markdown",
   "id": "8c7fccb1",
   "metadata": {},
   "source": [
    "Необходимо выделить целевой признак из столбца EndDate, а сам столбец EndDate исключить:"
   ]
  },
  {
   "cell_type": "code",
   "execution_count": 15,
   "id": "a4686485",
   "metadata": {},
   "outputs": [],
   "source": [
    "contract_df.loc[contract_df['EndDate'] == 'No', 'target'] = 0\n",
    "contract_df['target'] = contract_df['target'].fillna(1)\n",
    "contract_df['target'] = contract_df['target'].astype(int)"
   ]
  },
  {
   "cell_type": "code",
   "execution_count": 16,
   "id": "5c793695",
   "metadata": {},
   "outputs": [],
   "source": [
    "#df = contract_df[['BeginDate', 'Type', 'PaperlessBilling', 'PaymentMethod', 'MonthlyCharges', 'TotalCharges', 'target']]\n",
    "df = contract_df.drop('EndDate', axis=1)"
   ]
  },
  {
   "cell_type": "code",
   "execution_count": 17,
   "id": "28710f93",
   "metadata": {},
   "outputs": [
    {
     "data": {
      "text/html": [
       "<div>\n",
       "<style scoped>\n",
       "    .dataframe tbody tr th:only-of-type {\n",
       "        vertical-align: middle;\n",
       "    }\n",
       "\n",
       "    .dataframe tbody tr th {\n",
       "        vertical-align: top;\n",
       "    }\n",
       "\n",
       "    .dataframe thead th {\n",
       "        text-align: right;\n",
       "    }\n",
       "</style>\n",
       "<table border=\"1\" class=\"dataframe\">\n",
       "  <thead>\n",
       "    <tr style=\"text-align: right;\">\n",
       "      <th></th>\n",
       "      <th>BeginDate</th>\n",
       "      <th>Type</th>\n",
       "      <th>PaperlessBilling</th>\n",
       "      <th>PaymentMethod</th>\n",
       "      <th>MonthlyCharges</th>\n",
       "      <th>TotalCharges</th>\n",
       "      <th>target</th>\n",
       "    </tr>\n",
       "    <tr>\n",
       "      <th>customerID</th>\n",
       "      <th></th>\n",
       "      <th></th>\n",
       "      <th></th>\n",
       "      <th></th>\n",
       "      <th></th>\n",
       "      <th></th>\n",
       "      <th></th>\n",
       "    </tr>\n",
       "  </thead>\n",
       "  <tbody>\n",
       "    <tr>\n",
       "      <th>7590-VHVEG</th>\n",
       "      <td>2020-01-01</td>\n",
       "      <td>Month-to-month</td>\n",
       "      <td>Yes</td>\n",
       "      <td>Electronic check</td>\n",
       "      <td>29.85</td>\n",
       "      <td>29.85</td>\n",
       "      <td>0</td>\n",
       "    </tr>\n",
       "    <tr>\n",
       "      <th>5575-GNVDE</th>\n",
       "      <td>2017-04-01</td>\n",
       "      <td>One year</td>\n",
       "      <td>No</td>\n",
       "      <td>Mailed check</td>\n",
       "      <td>56.95</td>\n",
       "      <td>1889.50</td>\n",
       "      <td>0</td>\n",
       "    </tr>\n",
       "    <tr>\n",
       "      <th>3668-QPYBK</th>\n",
       "      <td>2019-10-01</td>\n",
       "      <td>Month-to-month</td>\n",
       "      <td>Yes</td>\n",
       "      <td>Mailed check</td>\n",
       "      <td>53.85</td>\n",
       "      <td>108.15</td>\n",
       "      <td>1</td>\n",
       "    </tr>\n",
       "    <tr>\n",
       "      <th>7795-CFOCW</th>\n",
       "      <td>2016-05-01</td>\n",
       "      <td>One year</td>\n",
       "      <td>No</td>\n",
       "      <td>Bank transfer (automatic)</td>\n",
       "      <td>42.30</td>\n",
       "      <td>1840.75</td>\n",
       "      <td>0</td>\n",
       "    </tr>\n",
       "    <tr>\n",
       "      <th>9237-HQITU</th>\n",
       "      <td>2019-09-01</td>\n",
       "      <td>Month-to-month</td>\n",
       "      <td>Yes</td>\n",
       "      <td>Electronic check</td>\n",
       "      <td>70.70</td>\n",
       "      <td>151.65</td>\n",
       "      <td>1</td>\n",
       "    </tr>\n",
       "  </tbody>\n",
       "</table>\n",
       "</div>"
      ],
      "text/plain": [
       "            BeginDate            Type PaperlessBilling  \\\n",
       "customerID                                               \n",
       "7590-VHVEG 2020-01-01  Month-to-month              Yes   \n",
       "5575-GNVDE 2017-04-01        One year               No   \n",
       "3668-QPYBK 2019-10-01  Month-to-month              Yes   \n",
       "7795-CFOCW 2016-05-01        One year               No   \n",
       "9237-HQITU 2019-09-01  Month-to-month              Yes   \n",
       "\n",
       "                        PaymentMethod  MonthlyCharges  TotalCharges  target  \n",
       "customerID                                                                   \n",
       "7590-VHVEG           Electronic check           29.85         29.85       0  \n",
       "5575-GNVDE               Mailed check           56.95       1889.50       0  \n",
       "3668-QPYBK               Mailed check           53.85        108.15       1  \n",
       "7795-CFOCW  Bank transfer (automatic)           42.30       1840.75       0  \n",
       "9237-HQITU           Electronic check           70.70        151.65       1  "
      ]
     },
     "execution_count": 17,
     "metadata": {},
     "output_type": "execute_result"
    }
   ],
   "source": [
    "df.head()"
   ]
  },
  {
   "cell_type": "markdown",
   "id": "06bed962",
   "metadata": {},
   "source": [
    "Другие таблицы в предобработке не нуждаются."
   ]
  },
  {
   "cell_type": "markdown",
   "id": "59ec59eb",
   "metadata": {},
   "source": [
    "Создадим общую таблицу:"
   ]
  },
  {
   "cell_type": "code",
   "execution_count": 18,
   "id": "38339afc",
   "metadata": {},
   "outputs": [],
   "source": [
    "other = internet_df, personal_df, phone_df\n",
    "df = df.join(other, how = 'left')\n",
    "#df = df.join(personal_df, how = 'left')\n",
    "#df = df.join(phone_df, how = 'left')"
   ]
  },
  {
   "cell_type": "code",
   "execution_count": 19,
   "id": "b20e4e2b",
   "metadata": {},
   "outputs": [
    {
     "data": {
      "text/html": [
       "<div>\n",
       "<style scoped>\n",
       "    .dataframe tbody tr th:only-of-type {\n",
       "        vertical-align: middle;\n",
       "    }\n",
       "\n",
       "    .dataframe tbody tr th {\n",
       "        vertical-align: top;\n",
       "    }\n",
       "\n",
       "    .dataframe thead th {\n",
       "        text-align: right;\n",
       "    }\n",
       "</style>\n",
       "<table border=\"1\" class=\"dataframe\">\n",
       "  <thead>\n",
       "    <tr style=\"text-align: right;\">\n",
       "      <th></th>\n",
       "      <th>BeginDate</th>\n",
       "      <th>Type</th>\n",
       "      <th>PaperlessBilling</th>\n",
       "      <th>PaymentMethod</th>\n",
       "      <th>MonthlyCharges</th>\n",
       "      <th>TotalCharges</th>\n",
       "      <th>target</th>\n",
       "      <th>InternetService</th>\n",
       "      <th>OnlineSecurity</th>\n",
       "      <th>OnlineBackup</th>\n",
       "      <th>DeviceProtection</th>\n",
       "      <th>TechSupport</th>\n",
       "      <th>StreamingTV</th>\n",
       "      <th>StreamingMovies</th>\n",
       "      <th>gender</th>\n",
       "      <th>SeniorCitizen</th>\n",
       "      <th>Partner</th>\n",
       "      <th>Dependents</th>\n",
       "      <th>MultipleLines</th>\n",
       "    </tr>\n",
       "    <tr>\n",
       "      <th>customerID</th>\n",
       "      <th></th>\n",
       "      <th></th>\n",
       "      <th></th>\n",
       "      <th></th>\n",
       "      <th></th>\n",
       "      <th></th>\n",
       "      <th></th>\n",
       "      <th></th>\n",
       "      <th></th>\n",
       "      <th></th>\n",
       "      <th></th>\n",
       "      <th></th>\n",
       "      <th></th>\n",
       "      <th></th>\n",
       "      <th></th>\n",
       "      <th></th>\n",
       "      <th></th>\n",
       "      <th></th>\n",
       "      <th></th>\n",
       "    </tr>\n",
       "  </thead>\n",
       "  <tbody>\n",
       "    <tr>\n",
       "      <th>7590-VHVEG</th>\n",
       "      <td>2020-01-01</td>\n",
       "      <td>Month-to-month</td>\n",
       "      <td>Yes</td>\n",
       "      <td>Electronic check</td>\n",
       "      <td>29.85</td>\n",
       "      <td>29.85</td>\n",
       "      <td>0.0</td>\n",
       "      <td>DSL</td>\n",
       "      <td>No</td>\n",
       "      <td>Yes</td>\n",
       "      <td>No</td>\n",
       "      <td>No</td>\n",
       "      <td>No</td>\n",
       "      <td>No</td>\n",
       "      <td>Female</td>\n",
       "      <td>0</td>\n",
       "      <td>Yes</td>\n",
       "      <td>No</td>\n",
       "      <td>NaN</td>\n",
       "    </tr>\n",
       "    <tr>\n",
       "      <th>5575-GNVDE</th>\n",
       "      <td>2017-04-01</td>\n",
       "      <td>One year</td>\n",
       "      <td>No</td>\n",
       "      <td>Mailed check</td>\n",
       "      <td>56.95</td>\n",
       "      <td>1889.50</td>\n",
       "      <td>0.0</td>\n",
       "      <td>DSL</td>\n",
       "      <td>Yes</td>\n",
       "      <td>No</td>\n",
       "      <td>Yes</td>\n",
       "      <td>No</td>\n",
       "      <td>No</td>\n",
       "      <td>No</td>\n",
       "      <td>Male</td>\n",
       "      <td>0</td>\n",
       "      <td>No</td>\n",
       "      <td>No</td>\n",
       "      <td>No</td>\n",
       "    </tr>\n",
       "    <tr>\n",
       "      <th>3668-QPYBK</th>\n",
       "      <td>2019-10-01</td>\n",
       "      <td>Month-to-month</td>\n",
       "      <td>Yes</td>\n",
       "      <td>Mailed check</td>\n",
       "      <td>53.85</td>\n",
       "      <td>108.15</td>\n",
       "      <td>1.0</td>\n",
       "      <td>DSL</td>\n",
       "      <td>Yes</td>\n",
       "      <td>Yes</td>\n",
       "      <td>No</td>\n",
       "      <td>No</td>\n",
       "      <td>No</td>\n",
       "      <td>No</td>\n",
       "      <td>Male</td>\n",
       "      <td>0</td>\n",
       "      <td>No</td>\n",
       "      <td>No</td>\n",
       "      <td>No</td>\n",
       "    </tr>\n",
       "    <tr>\n",
       "      <th>7795-CFOCW</th>\n",
       "      <td>2016-05-01</td>\n",
       "      <td>One year</td>\n",
       "      <td>No</td>\n",
       "      <td>Bank transfer (automatic)</td>\n",
       "      <td>42.30</td>\n",
       "      <td>1840.75</td>\n",
       "      <td>0.0</td>\n",
       "      <td>DSL</td>\n",
       "      <td>Yes</td>\n",
       "      <td>No</td>\n",
       "      <td>Yes</td>\n",
       "      <td>Yes</td>\n",
       "      <td>No</td>\n",
       "      <td>No</td>\n",
       "      <td>Male</td>\n",
       "      <td>0</td>\n",
       "      <td>No</td>\n",
       "      <td>No</td>\n",
       "      <td>NaN</td>\n",
       "    </tr>\n",
       "    <tr>\n",
       "      <th>9237-HQITU</th>\n",
       "      <td>2019-09-01</td>\n",
       "      <td>Month-to-month</td>\n",
       "      <td>Yes</td>\n",
       "      <td>Electronic check</td>\n",
       "      <td>70.70</td>\n",
       "      <td>151.65</td>\n",
       "      <td>1.0</td>\n",
       "      <td>Fiber optic</td>\n",
       "      <td>No</td>\n",
       "      <td>No</td>\n",
       "      <td>No</td>\n",
       "      <td>No</td>\n",
       "      <td>No</td>\n",
       "      <td>No</td>\n",
       "      <td>Female</td>\n",
       "      <td>0</td>\n",
       "      <td>No</td>\n",
       "      <td>No</td>\n",
       "      <td>No</td>\n",
       "    </tr>\n",
       "  </tbody>\n",
       "</table>\n",
       "</div>"
      ],
      "text/plain": [
       "            BeginDate            Type PaperlessBilling  \\\n",
       "customerID                                               \n",
       "7590-VHVEG 2020-01-01  Month-to-month              Yes   \n",
       "5575-GNVDE 2017-04-01        One year               No   \n",
       "3668-QPYBK 2019-10-01  Month-to-month              Yes   \n",
       "7795-CFOCW 2016-05-01        One year               No   \n",
       "9237-HQITU 2019-09-01  Month-to-month              Yes   \n",
       "\n",
       "                        PaymentMethod  MonthlyCharges  TotalCharges  target  \\\n",
       "customerID                                                                    \n",
       "7590-VHVEG           Electronic check           29.85         29.85     0.0   \n",
       "5575-GNVDE               Mailed check           56.95       1889.50     0.0   \n",
       "3668-QPYBK               Mailed check           53.85        108.15     1.0   \n",
       "7795-CFOCW  Bank transfer (automatic)           42.30       1840.75     0.0   \n",
       "9237-HQITU           Electronic check           70.70        151.65     1.0   \n",
       "\n",
       "           InternetService OnlineSecurity OnlineBackup DeviceProtection  \\\n",
       "customerID                                                                \n",
       "7590-VHVEG             DSL             No          Yes               No   \n",
       "5575-GNVDE             DSL            Yes           No              Yes   \n",
       "3668-QPYBK             DSL            Yes          Yes               No   \n",
       "7795-CFOCW             DSL            Yes           No              Yes   \n",
       "9237-HQITU     Fiber optic             No           No               No   \n",
       "\n",
       "           TechSupport StreamingTV StreamingMovies  gender  SeniorCitizen  \\\n",
       "customerID                                                                  \n",
       "7590-VHVEG          No          No              No  Female              0   \n",
       "5575-GNVDE          No          No              No    Male              0   \n",
       "3668-QPYBK          No          No              No    Male              0   \n",
       "7795-CFOCW         Yes          No              No    Male              0   \n",
       "9237-HQITU          No          No              No  Female              0   \n",
       "\n",
       "           Partner Dependents MultipleLines  \n",
       "customerID                                   \n",
       "7590-VHVEG     Yes         No           NaN  \n",
       "5575-GNVDE      No         No            No  \n",
       "3668-QPYBK      No         No            No  \n",
       "7795-CFOCW      No         No           NaN  \n",
       "9237-HQITU      No         No            No  "
      ]
     },
     "execution_count": 19,
     "metadata": {},
     "output_type": "execute_result"
    }
   ],
   "source": [
    "df.head()"
   ]
  },
  {
   "cell_type": "code",
   "execution_count": 20,
   "id": "0fab83eb",
   "metadata": {},
   "outputs": [
    {
     "name": "stdout",
     "output_type": "stream",
     "text": [
      "<class 'pandas.core.frame.DataFrame'>\n",
      "Index: 7032 entries, 7590-VHVEG to 3186-AJIEK\n",
      "Data columns (total 19 columns):\n",
      " #   Column            Non-Null Count  Dtype         \n",
      "---  ------            --------------  -----         \n",
      " 0   BeginDate         7032 non-null   datetime64[ns]\n",
      " 1   Type              7032 non-null   object        \n",
      " 2   PaperlessBilling  7032 non-null   object        \n",
      " 3   PaymentMethod     7032 non-null   object        \n",
      " 4   MonthlyCharges    7032 non-null   float64       \n",
      " 5   TotalCharges      7032 non-null   float64       \n",
      " 6   target            7032 non-null   float64       \n",
      " 7   InternetService   5512 non-null   object        \n",
      " 8   OnlineSecurity    5512 non-null   object        \n",
      " 9   OnlineBackup      5512 non-null   object        \n",
      " 10  DeviceProtection  5512 non-null   object        \n",
      " 11  TechSupport       5512 non-null   object        \n",
      " 12  StreamingTV       5512 non-null   object        \n",
      " 13  StreamingMovies   5512 non-null   object        \n",
      " 14  gender            7032 non-null   object        \n",
      " 15  SeniorCitizen     7032 non-null   int64         \n",
      " 16  Partner           7032 non-null   object        \n",
      " 17  Dependents        7032 non-null   object        \n",
      " 18  MultipleLines     6352 non-null   object        \n",
      "dtypes: datetime64[ns](1), float64(3), int64(1), object(14)\n",
      "memory usage: 1.3+ MB\n"
     ]
    }
   ],
   "source": [
    "df.info()"
   ]
  },
  {
   "cell_type": "markdown",
   "id": "65f8ae96",
   "metadata": {},
   "source": [
    "Вывод:\n",
    "\n",
    "На этапе предобработки были исправлены типы данных, выделен целевой признак, из выборки исключены клиенты которые подключились в первый день и еще не успели воспользоваться услугами, а также была подготовлена единая таблица данных."
   ]
  },
  {
   "cell_type": "markdown",
   "id": "d6bd8ea1",
   "metadata": {},
   "source": [
    "## Исследовательский анализ данных"
   ]
  },
  {
   "cell_type": "markdown",
   "id": "0c117962",
   "metadata": {},
   "source": [
    "Проведем исследовательский анализ данных, необходимо лучше узнать пользователей, их предпочтения и причины оттока:"
   ]
  },
  {
   "cell_type": "markdown",
   "id": "a0c96305",
   "metadata": {},
   "source": [
    "### Каков приток пользователей?"
   ]
  },
  {
   "cell_type": "markdown",
   "id": "ffe6d107",
   "metadata": {},
   "source": [
    "Приток пользователей по годам (за 2020 год в выборке только один месяц - январь, поэтому данный год исключен):"
   ]
  },
  {
   "cell_type": "code",
   "execution_count": 21,
   "id": "657fa1e8",
   "metadata": {},
   "outputs": [
    {
     "data": {
      "image/png": "[encoded data removed]",
      "text/plain": [
       "<Figure size 1080x504 with 1 Axes>"
      ]
     },
     "metadata": {
      "needs_background": "light"
     },
     "output_type": "display_data"
    }
   ],
   "source": [
    "x = df.pivot_table(index = pd.DatetimeIndex(df['BeginDate']).year,\n",
    "                   values='target',\n",
    "                   aggfunc=['sum'])\n",
    "x.plot(figsize=[15,7],\n",
    "       grid=True,\n",
    "       style='x-',\n",
    "       xlim=(2013, 2019))\n",
    "plt.xlabel('Год')\n",
    "plt.ylabel('Кол-во новых клиентов')\n",
    "plt.title('Годовой приток клиентов')\n",
    "plt.legend('')\n",
    "plt.show()"
   ]
  },
  {
   "cell_type": "markdown",
   "id": "b048baf0",
   "metadata": {},
   "source": [
    "Средний приток пользователей по месяцам в течении года:"
   ]
  },
  {
   "cell_type": "code",
   "execution_count": 22,
   "id": "e41ad429",
   "metadata": {},
   "outputs": [
    {
     "data": {
      "image/png": "[encoded data removed]",
      "text/plain": [
       "<Figure size 1080x504 with 1 Axes>"
      ]
     },
     "metadata": {
      "needs_background": "light"
     },
     "output_type": "display_data"
    }
   ],
   "source": [
    "x = df.pivot_table(index = pd.DatetimeIndex(df['BeginDate']).month,\n",
    "                   values='target',\n",
    "                   aggfunc=['sum'])\n",
    "x.plot(figsize=[15,7],\n",
    "       grid=True,\n",
    "       style='x-')\n",
    "plt.xlabel('Месяц')\n",
    "plt.ylabel('Среднее кол-во новых клиентов')\n",
    "plt.title('Среднемесячный приток клиентов')\n",
    "plt.legend('')\n",
    "plt.show()"
   ]
  },
  {
   "cell_type": "markdown",
   "id": "19171ec1",
   "metadata": {},
   "source": [
    "Судя по графикам, с годами приток пользователей только растет, а также видно что приток максимален в конце года."
   ]
  },
  {
   "cell_type": "markdown",
   "id": "16cba4ce",
   "metadata": {},
   "source": [
    "### Каков отток пользователей?"
   ]
  },
  {
   "cell_type": "code",
   "execution_count": 23,
   "id": "62b3b345",
   "metadata": {},
   "outputs": [
    {
     "data": {
      "text/plain": [
       "0.26578498293515357"
      ]
     },
     "execution_count": 23,
     "metadata": {},
     "output_type": "execute_result"
    }
   ],
   "source": [
    "df['target'].mean()"
   ]
  },
  {
   "cell_type": "markdown",
   "id": "363555f6",
   "metadata": {},
   "source": [
    "26% пользователей ушло за рассматриваемый период в 6 лет!"
   ]
  },
  {
   "cell_type": "markdown",
   "id": "a7525079",
   "metadata": {},
   "source": [
    "Рассмотрим динамику оттока во времени:"
   ]
  },
  {
   "cell_type": "code",
   "execution_count": 24,
   "id": "7dc1d1ce",
   "metadata": {},
   "outputs": [
    {
     "name": "stderr",
     "output_type": "stream",
     "text": [
      "C:\\Users\\Сергей\\AppData\\Local\\Temp\\ipykernel_14528\\24014401.py:2: SettingWithCopyWarning: \n",
      "A value is trying to be set on a copy of a slice from a DataFrame.\n",
      "Try using .loc[row_indexer,col_indexer] = value instead\n",
      "\n",
      "See the caveats in the documentation: https://pandas.pydata.org/pandas-docs/stable/user_guide/indexing.html#returning-a-view-versus-a-copy\n",
      "  contract_churn['EndDate'] = pd.to_datetime(contract_churn['EndDate'], format='%Y-%m-%d')\n"
     ]
    },
    {
     "data": {
      "text/html": [
       "<div>\n",
       "<style scoped>\n",
       "    .dataframe tbody tr th:only-of-type {\n",
       "        vertical-align: middle;\n",
       "    }\n",
       "\n",
       "    .dataframe tbody tr th {\n",
       "        vertical-align: top;\n",
       "    }\n",
       "\n",
       "    .dataframe thead th {\n",
       "        text-align: right;\n",
       "    }\n",
       "</style>\n",
       "<table border=\"1\" class=\"dataframe\">\n",
       "  <thead>\n",
       "    <tr style=\"text-align: right;\">\n",
       "      <th></th>\n",
       "      <th>BeginDate</th>\n",
       "      <th>EndDate</th>\n",
       "      <th>Type</th>\n",
       "      <th>PaperlessBilling</th>\n",
       "      <th>PaymentMethod</th>\n",
       "      <th>MonthlyCharges</th>\n",
       "      <th>TotalCharges</th>\n",
       "      <th>target</th>\n",
       "    </tr>\n",
       "    <tr>\n",
       "      <th>customerID</th>\n",
       "      <th></th>\n",
       "      <th></th>\n",
       "      <th></th>\n",
       "      <th></th>\n",
       "      <th></th>\n",
       "      <th></th>\n",
       "      <th></th>\n",
       "      <th></th>\n",
       "    </tr>\n",
       "  </thead>\n",
       "  <tbody>\n",
       "    <tr>\n",
       "      <th>3668-QPYBK</th>\n",
       "      <td>2019-10-01</td>\n",
       "      <td>2019-12-01</td>\n",
       "      <td>Month-to-month</td>\n",
       "      <td>Yes</td>\n",
       "      <td>Mailed check</td>\n",
       "      <td>53.85</td>\n",
       "      <td>108.15</td>\n",
       "      <td>1</td>\n",
       "    </tr>\n",
       "    <tr>\n",
       "      <th>9237-HQITU</th>\n",
       "      <td>2019-09-01</td>\n",
       "      <td>2019-11-01</td>\n",
       "      <td>Month-to-month</td>\n",
       "      <td>Yes</td>\n",
       "      <td>Electronic check</td>\n",
       "      <td>70.70</td>\n",
       "      <td>151.65</td>\n",
       "      <td>1</td>\n",
       "    </tr>\n",
       "    <tr>\n",
       "      <th>9305-CDSKC</th>\n",
       "      <td>2019-03-01</td>\n",
       "      <td>2019-11-01</td>\n",
       "      <td>Month-to-month</td>\n",
       "      <td>Yes</td>\n",
       "      <td>Electronic check</td>\n",
       "      <td>99.65</td>\n",
       "      <td>820.50</td>\n",
       "      <td>1</td>\n",
       "    </tr>\n",
       "    <tr>\n",
       "      <th>7892-POOKP</th>\n",
       "      <td>2017-07-01</td>\n",
       "      <td>2019-11-01</td>\n",
       "      <td>Month-to-month</td>\n",
       "      <td>Yes</td>\n",
       "      <td>Electronic check</td>\n",
       "      <td>104.80</td>\n",
       "      <td>3046.05</td>\n",
       "      <td>1</td>\n",
       "    </tr>\n",
       "    <tr>\n",
       "      <th>0280-XJGEX</th>\n",
       "      <td>2015-09-01</td>\n",
       "      <td>2019-10-01</td>\n",
       "      <td>Month-to-month</td>\n",
       "      <td>Yes</td>\n",
       "      <td>Bank transfer (automatic)</td>\n",
       "      <td>103.70</td>\n",
       "      <td>5036.30</td>\n",
       "      <td>1</td>\n",
       "    </tr>\n",
       "  </tbody>\n",
       "</table>\n",
       "</div>"
      ],
      "text/plain": [
       "            BeginDate    EndDate            Type PaperlessBilling  \\\n",
       "customerID                                                          \n",
       "3668-QPYBK 2019-10-01 2019-12-01  Month-to-month              Yes   \n",
       "9237-HQITU 2019-09-01 2019-11-01  Month-to-month              Yes   \n",
       "9305-CDSKC 2019-03-01 2019-11-01  Month-to-month              Yes   \n",
       "7892-POOKP 2017-07-01 2019-11-01  Month-to-month              Yes   \n",
       "0280-XJGEX 2015-09-01 2019-10-01  Month-to-month              Yes   \n",
       "\n",
       "                        PaymentMethod  MonthlyCharges  TotalCharges  target  \n",
       "customerID                                                                   \n",
       "3668-QPYBK               Mailed check           53.85        108.15       1  \n",
       "9237-HQITU           Electronic check           70.70        151.65       1  \n",
       "9305-CDSKC           Electronic check           99.65        820.50       1  \n",
       "7892-POOKP           Electronic check          104.80       3046.05       1  \n",
       "0280-XJGEX  Bank transfer (automatic)          103.70       5036.30       1  "
      ]
     },
     "execution_count": 24,
     "metadata": {},
     "output_type": "execute_result"
    }
   ],
   "source": [
    "contract_churn = contract_df[contract_df['target']==1]\n",
    "contract_churn['EndDate'] = pd.to_datetime(contract_churn['EndDate'], format='%Y-%m-%d')\n",
    "contract_churn.head()"
   ]
  },
  {
   "cell_type": "code",
   "execution_count": 25,
   "id": "767a3362",
   "metadata": {},
   "outputs": [
    {
     "name": "stdout",
     "output_type": "stream",
     "text": [
      "<class 'pandas.core.frame.DataFrame'>\n",
      "Index: 1869 entries, 3668-QPYBK to 8361-LTMKD\n",
      "Data columns (total 8 columns):\n",
      " #   Column            Non-Null Count  Dtype         \n",
      "---  ------            --------------  -----         \n",
      " 0   BeginDate         1869 non-null   datetime64[ns]\n",
      " 1   EndDate           1869 non-null   datetime64[ns]\n",
      " 2   Type              1869 non-null   object        \n",
      " 3   PaperlessBilling  1869 non-null   object        \n",
      " 4   PaymentMethod     1869 non-null   object        \n",
      " 5   MonthlyCharges    1869 non-null   float64       \n",
      " 6   TotalCharges      1869 non-null   float64       \n",
      " 7   target            1869 non-null   int32         \n",
      "dtypes: datetime64[ns](2), float64(2), int32(1), object(3)\n",
      "memory usage: 124.1+ KB\n"
     ]
    }
   ],
   "source": [
    "contract_churn.info()"
   ]
  },
  {
   "cell_type": "markdown",
   "id": "1365d806",
   "metadata": {},
   "source": [
    "Динамика оттока клиентовв:"
   ]
  },
  {
   "cell_type": "code",
   "execution_count": 26,
   "id": "0523f1cc",
   "metadata": {},
   "outputs": [
    {
     "data": {
      "image/png": "[encoded data removed]",
      "text/plain": [
       "<Figure size 1080x504 with 1 Axes>"
      ]
     },
     "metadata": {
      "needs_background": "light"
     },
     "output_type": "display_data"
    }
   ],
   "source": [
    "x = contract_churn.pivot_table(index = [pd.DatetimeIndex(contract_churn['EndDate'])],\n",
    "                               values='target',\n",
    "                               aggfunc=['sum'])\n",
    "x.plot(figsize=[15,7],\n",
    "       grid=True,\n",
    "       style='x-')\n",
    "plt.xlabel('Дата')\n",
    "plt.ylabel('Кол-во ушедших клиентов')\n",
    "plt.title('Динамика оттока клиентов')\n",
    "plt.legend('')\n",
    "plt.show()"
   ]
  },
  {
   "cell_type": "markdown",
   "id": "7f459852",
   "metadata": {},
   "source": [
    "Количество ушедших клиентов по годам и тарифному плану:"
   ]
  },
  {
   "cell_type": "code",
   "execution_count": 27,
   "id": "e774ce03",
   "metadata": {},
   "outputs": [
    {
     "data": {
      "text/html": [
       "<div>\n",
       "<style scoped>\n",
       "    .dataframe tbody tr th:only-of-type {\n",
       "        vertical-align: middle;\n",
       "    }\n",
       "\n",
       "    .dataframe tbody tr th {\n",
       "        vertical-align: top;\n",
       "    }\n",
       "\n",
       "    .dataframe thead tr th {\n",
       "        text-align: left;\n",
       "    }\n",
       "\n",
       "    .dataframe thead tr:last-of-type th {\n",
       "        text-align: right;\n",
       "    }\n",
       "</style>\n",
       "<table border=\"1\" class=\"dataframe\">\n",
       "  <thead>\n",
       "    <tr>\n",
       "      <th></th>\n",
       "      <th></th>\n",
       "      <th>sum</th>\n",
       "    </tr>\n",
       "    <tr>\n",
       "      <th></th>\n",
       "      <th></th>\n",
       "      <th>target</th>\n",
       "    </tr>\n",
       "    <tr>\n",
       "      <th>EndDate</th>\n",
       "      <th>Type</th>\n",
       "      <th></th>\n",
       "    </tr>\n",
       "  </thead>\n",
       "  <tbody>\n",
       "    <tr>\n",
       "      <th rowspan=\"3\" valign=\"top\">2019</th>\n",
       "      <th>Month-to-month</th>\n",
       "      <td>1242</td>\n",
       "    </tr>\n",
       "    <tr>\n",
       "      <th>One year</th>\n",
       "      <td>129</td>\n",
       "    </tr>\n",
       "    <tr>\n",
       "      <th>Two year</th>\n",
       "      <td>38</td>\n",
       "    </tr>\n",
       "    <tr>\n",
       "      <th rowspan=\"3\" valign=\"top\">2020</th>\n",
       "      <th>Month-to-month</th>\n",
       "      <td>413</td>\n",
       "    </tr>\n",
       "    <tr>\n",
       "      <th>One year</th>\n",
       "      <td>37</td>\n",
       "    </tr>\n",
       "    <tr>\n",
       "      <th>Two year</th>\n",
       "      <td>10</td>\n",
       "    </tr>\n",
       "  </tbody>\n",
       "</table>\n",
       "</div>"
      ],
      "text/plain": [
       "                          sum\n",
       "                       target\n",
       "EndDate Type                 \n",
       "2019    Month-to-month   1242\n",
       "        One year          129\n",
       "        Two year           38\n",
       "2020    Month-to-month    413\n",
       "        One year           37\n",
       "        Two year           10"
      ]
     },
     "execution_count": 27,
     "metadata": {},
     "output_type": "execute_result"
    }
   ],
   "source": [
    "contract_churn.pivot_table(index = [pd.DatetimeIndex(contract_churn['EndDate']).year, 'Type'],\n",
    "                                    values='target',\n",
    "                                    aggfunc=['sum'])"
   ]
  },
  {
   "cell_type": "markdown",
   "id": "80e08ca6",
   "metadata": {},
   "source": [
    "До 2019 года оттока небыло! А за один месяц 2020 года ушло 460 клиентов! Самый большой отток клиентов с ежемесячной оплатой."
   ]
  },
  {
   "cell_type": "markdown",
   "id": "872e91a8",
   "metadata": {},
   "source": [
    "Когда зарегистрировались ушедшие клиенты?"
   ]
  },
  {
   "cell_type": "code",
   "execution_count": 28,
   "id": "2f5d9032",
   "metadata": {},
   "outputs": [
    {
     "data": {
      "text/html": [
       "<div>\n",
       "<style scoped>\n",
       "    .dataframe tbody tr th:only-of-type {\n",
       "        vertical-align: middle;\n",
       "    }\n",
       "\n",
       "    .dataframe tbody tr th {\n",
       "        vertical-align: top;\n",
       "    }\n",
       "\n",
       "    .dataframe thead tr th {\n",
       "        text-align: left;\n",
       "    }\n",
       "\n",
       "    .dataframe thead tr:last-of-type th {\n",
       "        text-align: right;\n",
       "    }\n",
       "</style>\n",
       "<table border=\"1\" class=\"dataframe\">\n",
       "  <thead>\n",
       "    <tr>\n",
       "      <th></th>\n",
       "      <th>sum</th>\n",
       "    </tr>\n",
       "    <tr>\n",
       "      <th></th>\n",
       "      <th>target</th>\n",
       "    </tr>\n",
       "    <tr>\n",
       "      <th>BeginDate</th>\n",
       "      <th></th>\n",
       "    </tr>\n",
       "  </thead>\n",
       "  <tbody>\n",
       "    <tr>\n",
       "      <th>2013</th>\n",
       "      <td>8</td>\n",
       "    </tr>\n",
       "    <tr>\n",
       "      <th>2014</th>\n",
       "      <td>98</td>\n",
       "    </tr>\n",
       "    <tr>\n",
       "      <th>2015</th>\n",
       "      <td>123</td>\n",
       "    </tr>\n",
       "    <tr>\n",
       "      <th>2016</th>\n",
       "      <td>145</td>\n",
       "    </tr>\n",
       "    <tr>\n",
       "      <th>2017</th>\n",
       "      <td>199</td>\n",
       "    </tr>\n",
       "    <tr>\n",
       "      <th>2018</th>\n",
       "      <td>315</td>\n",
       "    </tr>\n",
       "    <tr>\n",
       "      <th>2019</th>\n",
       "      <td>981</td>\n",
       "    </tr>\n",
       "  </tbody>\n",
       "</table>\n",
       "</div>"
      ],
      "text/plain": [
       "             sum\n",
       "          target\n",
       "BeginDate       \n",
       "2013           8\n",
       "2014          98\n",
       "2015         123\n",
       "2016         145\n",
       "2017         199\n",
       "2018         315\n",
       "2019         981"
      ]
     },
     "execution_count": 28,
     "metadata": {},
     "output_type": "execute_result"
    }
   ],
   "source": [
    "contract_churn.pivot_table(index = pd.DatetimeIndex(contract_churn['BeginDate']).year,\n",
    "                           values='target',\n",
    "                           aggfunc=['sum'])"
   ]
  },
  {
   "cell_type": "markdown",
   "id": "bc149c4c",
   "metadata": {},
   "source": [
    "Ушедшие клиенты регистрировались в разные года, но большую часть оттока составляют люди зарегистрировавшиеся в том же 2019 году, примечательно, что в том же 2019 году был самый резкий рост клиентской базы, не удивительно что и начал увеличиваться отток."
   ]
  },
  {
   "cell_type": "markdown",
   "id": "9672ab99",
   "metadata": {},
   "source": [
    "За счет чего был резкий рост клиентской базы? Сравним подключения по тарифным планам:"
   ]
  },
  {
   "cell_type": "code",
   "execution_count": 29,
   "id": "1d57b81f",
   "metadata": {},
   "outputs": [
    {
     "data": {
      "text/html": [
       "<div>\n",
       "<style scoped>\n",
       "    .dataframe tbody tr th:only-of-type {\n",
       "        vertical-align: middle;\n",
       "    }\n",
       "\n",
       "    .dataframe tbody tr th {\n",
       "        vertical-align: top;\n",
       "    }\n",
       "\n",
       "    .dataframe thead th {\n",
       "        text-align: right;\n",
       "    }\n",
       "</style>\n",
       "<table border=\"1\" class=\"dataframe\">\n",
       "  <thead>\n",
       "    <tr style=\"text-align: right;\">\n",
       "      <th></th>\n",
       "      <th></th>\n",
       "      <th>user_count</th>\n",
       "    </tr>\n",
       "    <tr>\n",
       "      <th>BeginDate</th>\n",
       "      <th>Type</th>\n",
       "      <th></th>\n",
       "    </tr>\n",
       "  </thead>\n",
       "  <tbody>\n",
       "    <tr>\n",
       "      <th rowspan=\"2\" valign=\"top\">2013</th>\n",
       "      <th>One year</th>\n",
       "      <td>1</td>\n",
       "    </tr>\n",
       "    <tr>\n",
       "      <th>Two year</th>\n",
       "      <td>7</td>\n",
       "    </tr>\n",
       "    <tr>\n",
       "      <th rowspan=\"3\" valign=\"top\">2014</th>\n",
       "      <th>Month-to-month</th>\n",
       "      <td>102</td>\n",
       "    </tr>\n",
       "    <tr>\n",
       "      <th>One year</th>\n",
       "      <td>292</td>\n",
       "    </tr>\n",
       "    <tr>\n",
       "      <th>Two year</th>\n",
       "      <td>950</td>\n",
       "    </tr>\n",
       "    <tr>\n",
       "      <th rowspan=\"3\" valign=\"top\">2015</th>\n",
       "      <th>Month-to-month</th>\n",
       "      <td>232</td>\n",
       "    </tr>\n",
       "    <tr>\n",
       "      <th>One year</th>\n",
       "      <td>327</td>\n",
       "    </tr>\n",
       "    <tr>\n",
       "      <th>Two year</th>\n",
       "      <td>293</td>\n",
       "    </tr>\n",
       "    <tr>\n",
       "      <th rowspan=\"3\" valign=\"top\">2016</th>\n",
       "      <th>Month-to-month</th>\n",
       "      <td>316</td>\n",
       "    </tr>\n",
       "    <tr>\n",
       "      <th>One year</th>\n",
       "      <td>267</td>\n",
       "    </tr>\n",
       "    <tr>\n",
       "      <th>Two year</th>\n",
       "      <td>180</td>\n",
       "    </tr>\n",
       "    <tr>\n",
       "      <th rowspan=\"3\" valign=\"top\">2017</th>\n",
       "      <th>Month-to-month</th>\n",
       "      <td>496</td>\n",
       "    </tr>\n",
       "    <tr>\n",
       "      <th>One year</th>\n",
       "      <td>250</td>\n",
       "    </tr>\n",
       "    <tr>\n",
       "      <th>Two year</th>\n",
       "      <td>99</td>\n",
       "    </tr>\n",
       "    <tr>\n",
       "      <th rowspan=\"3\" valign=\"top\">2018</th>\n",
       "      <th>Month-to-month</th>\n",
       "      <td>740</td>\n",
       "    </tr>\n",
       "    <tr>\n",
       "      <th>One year</th>\n",
       "      <td>203</td>\n",
       "    </tr>\n",
       "    <tr>\n",
       "      <th>Two year</th>\n",
       "      <td>87</td>\n",
       "    </tr>\n",
       "    <tr>\n",
       "      <th rowspan=\"3\" valign=\"top\">2019</th>\n",
       "      <th>Month-to-month</th>\n",
       "      <td>1765</td>\n",
       "    </tr>\n",
       "    <tr>\n",
       "      <th>One year</th>\n",
       "      <td>125</td>\n",
       "    </tr>\n",
       "    <tr>\n",
       "      <th>Two year</th>\n",
       "      <td>67</td>\n",
       "    </tr>\n",
       "    <tr>\n",
       "      <th rowspan=\"3\" valign=\"top\">2020</th>\n",
       "      <th>Month-to-month</th>\n",
       "      <td>224</td>\n",
       "    </tr>\n",
       "    <tr>\n",
       "      <th>One year</th>\n",
       "      <td>7</td>\n",
       "    </tr>\n",
       "    <tr>\n",
       "      <th>Two year</th>\n",
       "      <td>2</td>\n",
       "    </tr>\n",
       "  </tbody>\n",
       "</table>\n",
       "</div>"
      ],
      "text/plain": [
       "                          user_count\n",
       "BeginDate Type                      \n",
       "2013      One year                 1\n",
       "          Two year                 7\n",
       "2014      Month-to-month         102\n",
       "          One year               292\n",
       "          Two year               950\n",
       "2015      Month-to-month         232\n",
       "          One year               327\n",
       "          Two year               293\n",
       "2016      Month-to-month         316\n",
       "          One year               267\n",
       "          Two year               180\n",
       "2017      Month-to-month         496\n",
       "          One year               250\n",
       "          Two year                99\n",
       "2018      Month-to-month         740\n",
       "          One year               203\n",
       "          Two year                87\n",
       "2019      Month-to-month        1765\n",
       "          One year               125\n",
       "          Two year                67\n",
       "2020      Month-to-month         224\n",
       "          One year                 7\n",
       "          Two year                 2"
      ]
     },
     "execution_count": 29,
     "metadata": {},
     "output_type": "execute_result"
    }
   ],
   "source": [
    "df_user_year = df.pivot_table(index = [pd.DatetimeIndex(df['BeginDate']).year, 'Type'],\n",
    "               values='target',\n",
    "               aggfunc=['count'])\n",
    "df_user_year.columns = ['user_count']\n",
    "df_user_year"
   ]
  },
  {
   "cell_type": "markdown",
   "id": "2b8e40e8",
   "metadata": {},
   "source": [
    "Из таблицы ясно видно, что тарифный план с ежемесячными платежами уже в 2017 году стал самым популярным и во многом за счет него шел рост клиентской базы. На такой тариф легко перейти, и с него легко уйти, так как срок всего 1 месяц, а не год или два года. Клиенты данного тарифа чаще всего уходят."
   ]
  },
  {
   "cell_type": "markdown",
   "id": "63829401",
   "metadata": {},
   "source": [
    "### Отличаются ли уходящие клиенты от тех кто остается?"
   ]
  },
  {
   "cell_type": "markdown",
   "id": "58fa38a4",
   "metadata": {},
   "source": [
    "Сравнение по полу пользователей:"
   ]
  },
  {
   "cell_type": "code",
   "execution_count": 30,
   "id": "29d1ad86",
   "metadata": {},
   "outputs": [],
   "source": [
    "def user_churn(features):\n",
    "    df_user = df.pivot_table(index=[features], values='target', aggfunc=['sum', 'count', 'mean'])\n",
    "    df_user.columns = ['sum', 'total', 'user_churn']\n",
    "    #df_user['user_churn'] = df_user['sum']/df_user['total']\n",
    "    return df_user"
   ]
  },
  {
   "cell_type": "code",
   "execution_count": 31,
   "id": "b6adbf98",
   "metadata": {
    "scrolled": true
   },
   "outputs": [
    {
     "data": {
      "text/html": [
       "<div>\n",
       "<style scoped>\n",
       "    .dataframe tbody tr th:only-of-type {\n",
       "        vertical-align: middle;\n",
       "    }\n",
       "\n",
       "    .dataframe tbody tr th {\n",
       "        vertical-align: top;\n",
       "    }\n",
       "\n",
       "    .dataframe thead th {\n",
       "        text-align: right;\n",
       "    }\n",
       "</style>\n",
       "<table border=\"1\" class=\"dataframe\">\n",
       "  <thead>\n",
       "    <tr style=\"text-align: right;\">\n",
       "      <th></th>\n",
       "      <th>sum</th>\n",
       "      <th>total</th>\n",
       "      <th>user_churn</th>\n",
       "    </tr>\n",
       "    <tr>\n",
       "      <th>gender</th>\n",
       "      <th></th>\n",
       "      <th></th>\n",
       "      <th></th>\n",
       "    </tr>\n",
       "  </thead>\n",
       "  <tbody>\n",
       "    <tr>\n",
       "      <th>Female</th>\n",
       "      <td>939.0</td>\n",
       "      <td>3483</td>\n",
       "      <td>0.269595</td>\n",
       "    </tr>\n",
       "    <tr>\n",
       "      <th>Male</th>\n",
       "      <td>930.0</td>\n",
       "      <td>3549</td>\n",
       "      <td>0.262046</td>\n",
       "    </tr>\n",
       "  </tbody>\n",
       "</table>\n",
       "</div>"
      ],
      "text/plain": [
       "          sum  total  user_churn\n",
       "gender                          \n",
       "Female  939.0   3483    0.269595\n",
       "Male    930.0   3549    0.262046"
      ]
     },
     "execution_count": 31,
     "metadata": {},
     "output_type": "execute_result"
    }
   ],
   "source": [
    "user_churn('gender')"
   ]
  },
  {
   "cell_type": "markdown",
   "id": "1aee5d75",
   "metadata": {},
   "source": [
    "Отток пользователей каждого пола почти одинаков, 26%."
   ]
  },
  {
   "cell_type": "markdown",
   "id": "db4b58ca",
   "metadata": {},
   "source": [
    "Сравнение по пенсионному возрасту:"
   ]
  },
  {
   "cell_type": "code",
   "execution_count": 32,
   "id": "e89f5021",
   "metadata": {},
   "outputs": [
    {
     "data": {
      "text/html": [
       "<div>\n",
       "<style scoped>\n",
       "    .dataframe tbody tr th:only-of-type {\n",
       "        vertical-align: middle;\n",
       "    }\n",
       "\n",
       "    .dataframe tbody tr th {\n",
       "        vertical-align: top;\n",
       "    }\n",
       "\n",
       "    .dataframe thead th {\n",
       "        text-align: right;\n",
       "    }\n",
       "</style>\n",
       "<table border=\"1\" class=\"dataframe\">\n",
       "  <thead>\n",
       "    <tr style=\"text-align: right;\">\n",
       "      <th></th>\n",
       "      <th>sum</th>\n",
       "      <th>total</th>\n",
       "      <th>user_churn</th>\n",
       "    </tr>\n",
       "    <tr>\n",
       "      <th>SeniorCitizen</th>\n",
       "      <th></th>\n",
       "      <th></th>\n",
       "      <th></th>\n",
       "    </tr>\n",
       "  </thead>\n",
       "  <tbody>\n",
       "    <tr>\n",
       "      <th>0</th>\n",
       "      <td>1393.0</td>\n",
       "      <td>5890</td>\n",
       "      <td>0.236503</td>\n",
       "    </tr>\n",
       "    <tr>\n",
       "      <th>1</th>\n",
       "      <td>476.0</td>\n",
       "      <td>1142</td>\n",
       "      <td>0.416813</td>\n",
       "    </tr>\n",
       "  </tbody>\n",
       "</table>\n",
       "</div>"
      ],
      "text/plain": [
       "                  sum  total  user_churn\n",
       "SeniorCitizen                           \n",
       "0              1393.0   5890    0.236503\n",
       "1               476.0   1142    0.416813"
      ]
     },
     "execution_count": 32,
     "metadata": {},
     "output_type": "execute_result"
    }
   ],
   "source": [
    "user_churn('SeniorCitizen')"
   ]
  },
  {
   "cell_type": "markdown",
   "id": "5a9fae41",
   "metadata": {},
   "source": [
    "Пенсионеров меньше, но доля их оттока выше чем клиентов не достигших пенсионного возраста."
   ]
  },
  {
   "cell_type": "markdown",
   "id": "5356e621",
   "metadata": {},
   "source": [
    "Сравнение по семейному положению:"
   ]
  },
  {
   "cell_type": "code",
   "execution_count": 33,
   "id": "d3a65ae1",
   "metadata": {},
   "outputs": [
    {
     "data": {
      "text/html": [
       "<div>\n",
       "<style scoped>\n",
       "    .dataframe tbody tr th:only-of-type {\n",
       "        vertical-align: middle;\n",
       "    }\n",
       "\n",
       "    .dataframe tbody tr th {\n",
       "        vertical-align: top;\n",
       "    }\n",
       "\n",
       "    .dataframe thead th {\n",
       "        text-align: right;\n",
       "    }\n",
       "</style>\n",
       "<table border=\"1\" class=\"dataframe\">\n",
       "  <thead>\n",
       "    <tr style=\"text-align: right;\">\n",
       "      <th></th>\n",
       "      <th>sum</th>\n",
       "      <th>total</th>\n",
       "      <th>user_churn</th>\n",
       "    </tr>\n",
       "    <tr>\n",
       "      <th>Partner</th>\n",
       "      <th></th>\n",
       "      <th></th>\n",
       "      <th></th>\n",
       "    </tr>\n",
       "  </thead>\n",
       "  <tbody>\n",
       "    <tr>\n",
       "      <th>No</th>\n",
       "      <td>1200.0</td>\n",
       "      <td>3639</td>\n",
       "      <td>0.329761</td>\n",
       "    </tr>\n",
       "    <tr>\n",
       "      <th>Yes</th>\n",
       "      <td>669.0</td>\n",
       "      <td>3393</td>\n",
       "      <td>0.197171</td>\n",
       "    </tr>\n",
       "  </tbody>\n",
       "</table>\n",
       "</div>"
      ],
      "text/plain": [
       "            sum  total  user_churn\n",
       "Partner                           \n",
       "No       1200.0   3639    0.329761\n",
       "Yes       669.0   3393    0.197171"
      ]
     },
     "execution_count": 33,
     "metadata": {},
     "output_type": "execute_result"
    }
   ],
   "source": [
    "user_churn('Partner')"
   ]
  },
  {
   "cell_type": "markdown",
   "id": "bcf3afdd",
   "metadata": {},
   "source": [
    "Количество клиентов в имеющих партнера и не имеющих такового почти одинаково, однако клиенты не имеющие партнера гораздо чаще уходят - в 33% процентов случаев, против 20% у клиентов с партнером."
   ]
  },
  {
   "cell_type": "markdown",
   "id": "3d094b9c",
   "metadata": {},
   "source": [
    "Сравнение пользователей по наличию иждевенцев:"
   ]
  },
  {
   "cell_type": "code",
   "execution_count": 34,
   "id": "388c3a0a",
   "metadata": {},
   "outputs": [
    {
     "data": {
      "text/html": [
       "<div>\n",
       "<style scoped>\n",
       "    .dataframe tbody tr th:only-of-type {\n",
       "        vertical-align: middle;\n",
       "    }\n",
       "\n",
       "    .dataframe tbody tr th {\n",
       "        vertical-align: top;\n",
       "    }\n",
       "\n",
       "    .dataframe thead th {\n",
       "        text-align: right;\n",
       "    }\n",
       "</style>\n",
       "<table border=\"1\" class=\"dataframe\">\n",
       "  <thead>\n",
       "    <tr style=\"text-align: right;\">\n",
       "      <th></th>\n",
       "      <th>sum</th>\n",
       "      <th>total</th>\n",
       "      <th>user_churn</th>\n",
       "    </tr>\n",
       "    <tr>\n",
       "      <th>Dependents</th>\n",
       "      <th></th>\n",
       "      <th></th>\n",
       "      <th></th>\n",
       "    </tr>\n",
       "  </thead>\n",
       "  <tbody>\n",
       "    <tr>\n",
       "      <th>No</th>\n",
       "      <td>1543.0</td>\n",
       "      <td>4933</td>\n",
       "      <td>0.312791</td>\n",
       "    </tr>\n",
       "    <tr>\n",
       "      <th>Yes</th>\n",
       "      <td>326.0</td>\n",
       "      <td>2099</td>\n",
       "      <td>0.155312</td>\n",
       "    </tr>\n",
       "  </tbody>\n",
       "</table>\n",
       "</div>"
      ],
      "text/plain": [
       "               sum  total  user_churn\n",
       "Dependents                           \n",
       "No          1543.0   4933    0.312791\n",
       "Yes          326.0   2099    0.155312"
      ]
     },
     "execution_count": 34,
     "metadata": {},
     "output_type": "execute_result"
    }
   ],
   "source": [
    "user_churn('Dependents')"
   ]
  },
  {
   "cell_type": "markdown",
   "id": "914aa32d",
   "metadata": {},
   "source": [
    "Клиентов без иждевенцев больше, и отток в данной группе тоже больше, чем в группе имеющих иждевенцев."
   ]
  },
  {
   "cell_type": "markdown",
   "id": "a44b1a88",
   "metadata": {},
   "source": [
    "### Сколько тратят уходящие клиенты и остающиеся?"
   ]
  },
  {
   "cell_type": "markdown",
   "id": "6ee4502f",
   "metadata": {},
   "source": [
    "Активные клиенты:"
   ]
  },
  {
   "cell_type": "code",
   "execution_count": 35,
   "id": "ce2ac5cd",
   "metadata": {},
   "outputs": [
    {
     "data": {
      "text/html": [
       "<div>\n",
       "<style scoped>\n",
       "    .dataframe tbody tr th:only-of-type {\n",
       "        vertical-align: middle;\n",
       "    }\n",
       "\n",
       "    .dataframe tbody tr th {\n",
       "        vertical-align: top;\n",
       "    }\n",
       "\n",
       "    .dataframe thead th {\n",
       "        text-align: right;\n",
       "    }\n",
       "</style>\n",
       "<table border=\"1\" class=\"dataframe\">\n",
       "  <thead>\n",
       "    <tr style=\"text-align: right;\">\n",
       "      <th></th>\n",
       "      <th>MonthlyCharges</th>\n",
       "      <th>TotalCharges</th>\n",
       "      <th>target</th>\n",
       "      <th>SeniorCitizen</th>\n",
       "    </tr>\n",
       "  </thead>\n",
       "  <tbody>\n",
       "    <tr>\n",
       "      <th>count</th>\n",
       "      <td>2220.000000</td>\n",
       "      <td>2220.000000</td>\n",
       "      <td>2220.0</td>\n",
       "      <td>2220.000000</td>\n",
       "    </tr>\n",
       "    <tr>\n",
       "      <th>mean</th>\n",
       "      <td>61.462635</td>\n",
       "      <td>1521.927590</td>\n",
       "      <td>0.0</td>\n",
       "      <td>0.164865</td>\n",
       "    </tr>\n",
       "    <tr>\n",
       "      <th>std</th>\n",
       "      <td>27.863547</td>\n",
       "      <td>1690.054484</td>\n",
       "      <td>0.0</td>\n",
       "      <td>0.371142</td>\n",
       "    </tr>\n",
       "    <tr>\n",
       "      <th>min</th>\n",
       "      <td>18.750000</td>\n",
       "      <td>18.850000</td>\n",
       "      <td>0.0</td>\n",
       "      <td>0.000000</td>\n",
       "    </tr>\n",
       "    <tr>\n",
       "      <th>25%</th>\n",
       "      <td>38.537500</td>\n",
       "      <td>223.362500</td>\n",
       "      <td>0.0</td>\n",
       "      <td>0.000000</td>\n",
       "    </tr>\n",
       "    <tr>\n",
       "      <th>50%</th>\n",
       "      <td>64.950000</td>\n",
       "      <td>830.525000</td>\n",
       "      <td>0.0</td>\n",
       "      <td>0.000000</td>\n",
       "    </tr>\n",
       "    <tr>\n",
       "      <th>75%</th>\n",
       "      <td>84.912500</td>\n",
       "      <td>2251.662500</td>\n",
       "      <td>0.0</td>\n",
       "      <td>0.000000</td>\n",
       "    </tr>\n",
       "    <tr>\n",
       "      <th>max</th>\n",
       "      <td>116.500000</td>\n",
       "      <td>8061.500000</td>\n",
       "      <td>0.0</td>\n",
       "      <td>1.000000</td>\n",
       "    </tr>\n",
       "  </tbody>\n",
       "</table>\n",
       "</div>"
      ],
      "text/plain": [
       "       MonthlyCharges  TotalCharges  target  SeniorCitizen\n",
       "count     2220.000000   2220.000000  2220.0    2220.000000\n",
       "mean        61.462635   1521.927590     0.0       0.164865\n",
       "std         27.863547   1690.054484     0.0       0.371142\n",
       "min         18.750000     18.850000     0.0       0.000000\n",
       "25%         38.537500    223.362500     0.0       0.000000\n",
       "50%         64.950000    830.525000     0.0       0.000000\n",
       "75%         84.912500   2251.662500     0.0       0.000000\n",
       "max        116.500000   8061.500000     0.0       1.000000"
      ]
     },
     "execution_count": 35,
     "metadata": {},
     "output_type": "execute_result"
    }
   ],
   "source": [
    "df.query('target == 0 and Type == \"Month-to-month\"').describe()"
   ]
  },
  {
   "cell_type": "code",
   "execution_count": 36,
   "id": "642fcc73",
   "metadata": {},
   "outputs": [
    {
     "data": {
      "text/html": [
       "<div>\n",
       "<style scoped>\n",
       "    .dataframe tbody tr th:only-of-type {\n",
       "        vertical-align: middle;\n",
       "    }\n",
       "\n",
       "    .dataframe tbody tr th {\n",
       "        vertical-align: top;\n",
       "    }\n",
       "\n",
       "    .dataframe thead th {\n",
       "        text-align: right;\n",
       "    }\n",
       "</style>\n",
       "<table border=\"1\" class=\"dataframe\">\n",
       "  <thead>\n",
       "    <tr style=\"text-align: right;\">\n",
       "      <th></th>\n",
       "      <th>MonthlyCharges</th>\n",
       "      <th>TotalCharges</th>\n",
       "      <th>target</th>\n",
       "      <th>SeniorCitizen</th>\n",
       "    </tr>\n",
       "  </thead>\n",
       "  <tbody>\n",
       "    <tr>\n",
       "      <th>count</th>\n",
       "      <td>1306.000000</td>\n",
       "      <td>1306.000000</td>\n",
       "      <td>1306.0</td>\n",
       "      <td>1306.000000</td>\n",
       "    </tr>\n",
       "    <tr>\n",
       "      <th>mean</th>\n",
       "      <td>62.540926</td>\n",
       "      <td>2903.569908</td>\n",
       "      <td>0.0</td>\n",
       "      <td>0.123277</td>\n",
       "    </tr>\n",
       "    <tr>\n",
       "      <th>std</th>\n",
       "      <td>31.649134</td>\n",
       "      <td>2196.071516</td>\n",
       "      <td>0.0</td>\n",
       "      <td>0.328881</td>\n",
       "    </tr>\n",
       "    <tr>\n",
       "      <th>min</th>\n",
       "      <td>18.250000</td>\n",
       "      <td>18.800000</td>\n",
       "      <td>0.0</td>\n",
       "      <td>0.000000</td>\n",
       "    </tr>\n",
       "    <tr>\n",
       "      <th>25%</th>\n",
       "      <td>24.850000</td>\n",
       "      <td>938.725000</td>\n",
       "      <td>0.0</td>\n",
       "      <td>0.000000</td>\n",
       "    </tr>\n",
       "    <tr>\n",
       "      <th>50%</th>\n",
       "      <td>64.850000</td>\n",
       "      <td>2477.300000</td>\n",
       "      <td>0.0</td>\n",
       "      <td>0.000000</td>\n",
       "    </tr>\n",
       "    <tr>\n",
       "      <th>75%</th>\n",
       "      <td>91.250000</td>\n",
       "      <td>4598.025000</td>\n",
       "      <td>0.0</td>\n",
       "      <td>0.000000</td>\n",
       "    </tr>\n",
       "    <tr>\n",
       "      <th>max</th>\n",
       "      <td>118.600000</td>\n",
       "      <td>8309.550000</td>\n",
       "      <td>0.0</td>\n",
       "      <td>1.000000</td>\n",
       "    </tr>\n",
       "  </tbody>\n",
       "</table>\n",
       "</div>"
      ],
      "text/plain": [
       "       MonthlyCharges  TotalCharges  target  SeniorCitizen\n",
       "count     1306.000000   1306.000000  1306.0    1306.000000\n",
       "mean        62.540926   2903.569908     0.0       0.123277\n",
       "std         31.649134   2196.071516     0.0       0.328881\n",
       "min         18.250000     18.800000     0.0       0.000000\n",
       "25%         24.850000    938.725000     0.0       0.000000\n",
       "50%         64.850000   2477.300000     0.0       0.000000\n",
       "75%         91.250000   4598.025000     0.0       0.000000\n",
       "max        118.600000   8309.550000     0.0       1.000000"
      ]
     },
     "execution_count": 36,
     "metadata": {},
     "output_type": "execute_result"
    }
   ],
   "source": [
    "df.query('target == 0 and Type == \"One year\"').describe()"
   ]
  },
  {
   "cell_type": "code",
   "execution_count": 37,
   "id": "1d7643dc",
   "metadata": {},
   "outputs": [
    {
     "data": {
      "text/html": [
       "<div>\n",
       "<style scoped>\n",
       "    .dataframe tbody tr th:only-of-type {\n",
       "        vertical-align: middle;\n",
       "    }\n",
       "\n",
       "    .dataframe tbody tr th {\n",
       "        vertical-align: top;\n",
       "    }\n",
       "\n",
       "    .dataframe thead th {\n",
       "        text-align: right;\n",
       "    }\n",
       "</style>\n",
       "<table border=\"1\" class=\"dataframe\">\n",
       "  <thead>\n",
       "    <tr style=\"text-align: right;\">\n",
       "      <th></th>\n",
       "      <th>MonthlyCharges</th>\n",
       "      <th>TotalCharges</th>\n",
       "      <th>target</th>\n",
       "      <th>SeniorCitizen</th>\n",
       "    </tr>\n",
       "  </thead>\n",
       "  <tbody>\n",
       "    <tr>\n",
       "      <th>count</th>\n",
       "      <td>1637.000000</td>\n",
       "      <td>1637.000000</td>\n",
       "      <td>1637.0</td>\n",
       "      <td>1637.000000</td>\n",
       "    </tr>\n",
       "    <tr>\n",
       "      <th>mean</th>\n",
       "      <td>60.112798</td>\n",
       "      <td>3678.986103</td>\n",
       "      <td>0.0</td>\n",
       "      <td>0.084911</td>\n",
       "    </tr>\n",
       "    <tr>\n",
       "      <th>std</th>\n",
       "      <td>34.583235</td>\n",
       "      <td>2567.323227</td>\n",
       "      <td>0.0</td>\n",
       "      <td>0.278835</td>\n",
       "    </tr>\n",
       "    <tr>\n",
       "      <th>min</th>\n",
       "      <td>18.400000</td>\n",
       "      <td>20.350000</td>\n",
       "      <td>0.0</td>\n",
       "      <td>0.000000</td>\n",
       "    </tr>\n",
       "    <tr>\n",
       "      <th>25%</th>\n",
       "      <td>23.800000</td>\n",
       "      <td>1269.100000</td>\n",
       "      <td>0.0</td>\n",
       "      <td>0.000000</td>\n",
       "    </tr>\n",
       "    <tr>\n",
       "      <th>50%</th>\n",
       "      <td>63.550000</td>\n",
       "      <td>3527.000000</td>\n",
       "      <td>0.0</td>\n",
       "      <td>0.000000</td>\n",
       "    </tr>\n",
       "    <tr>\n",
       "      <th>75%</th>\n",
       "      <td>89.900000</td>\n",
       "      <td>5968.400000</td>\n",
       "      <td>0.0</td>\n",
       "      <td>0.000000</td>\n",
       "    </tr>\n",
       "    <tr>\n",
       "      <th>max</th>\n",
       "      <td>118.750000</td>\n",
       "      <td>8672.450000</td>\n",
       "      <td>0.0</td>\n",
       "      <td>1.000000</td>\n",
       "    </tr>\n",
       "  </tbody>\n",
       "</table>\n",
       "</div>"
      ],
      "text/plain": [
       "       MonthlyCharges  TotalCharges  target  SeniorCitizen\n",
       "count     1637.000000   1637.000000  1637.0    1637.000000\n",
       "mean        60.112798   3678.986103     0.0       0.084911\n",
       "std         34.583235   2567.323227     0.0       0.278835\n",
       "min         18.400000     20.350000     0.0       0.000000\n",
       "25%         23.800000   1269.100000     0.0       0.000000\n",
       "50%         63.550000   3527.000000     0.0       0.000000\n",
       "75%         89.900000   5968.400000     0.0       0.000000\n",
       "max        118.750000   8672.450000     0.0       1.000000"
      ]
     },
     "execution_count": 37,
     "metadata": {},
     "output_type": "execute_result"
    }
   ],
   "source": [
    "df.query('target == 0 and Type == \"Two year\"').describe()"
   ]
  },
  {
   "cell_type": "markdown",
   "id": "c1ba5525",
   "metadata": {},
   "source": [
    "У активных клиентов всех тарифов средняя месячная плата сравнительно одинакова и равна 64."
   ]
  },
  {
   "cell_type": "markdown",
   "id": "c228a7b2",
   "metadata": {},
   "source": [
    "Ушедшие клиенты:"
   ]
  },
  {
   "cell_type": "code",
   "execution_count": 38,
   "id": "e9762149",
   "metadata": {},
   "outputs": [
    {
     "data": {
      "text/html": [
       "<div>\n",
       "<style scoped>\n",
       "    .dataframe tbody tr th:only-of-type {\n",
       "        vertical-align: middle;\n",
       "    }\n",
       "\n",
       "    .dataframe tbody tr th {\n",
       "        vertical-align: top;\n",
       "    }\n",
       "\n",
       "    .dataframe thead th {\n",
       "        text-align: right;\n",
       "    }\n",
       "</style>\n",
       "<table border=\"1\" class=\"dataframe\">\n",
       "  <thead>\n",
       "    <tr style=\"text-align: right;\">\n",
       "      <th></th>\n",
       "      <th>MonthlyCharges</th>\n",
       "      <th>TotalCharges</th>\n",
       "      <th>target</th>\n",
       "      <th>SeniorCitizen</th>\n",
       "    </tr>\n",
       "  </thead>\n",
       "  <tbody>\n",
       "    <tr>\n",
       "      <th>count</th>\n",
       "      <td>1655.000000</td>\n",
       "      <td>1655.000000</td>\n",
       "      <td>1655.0</td>\n",
       "      <td>1655.000000</td>\n",
       "    </tr>\n",
       "    <tr>\n",
       "      <th>mean</th>\n",
       "      <td>73.019396</td>\n",
       "      <td>1164.460574</td>\n",
       "      <td>1.0</td>\n",
       "      <td>0.266465</td>\n",
       "    </tr>\n",
       "    <tr>\n",
       "      <th>std</th>\n",
       "      <td>24.084146</td>\n",
       "      <td>1481.646935</td>\n",
       "      <td>0.0</td>\n",
       "      <td>0.442244</td>\n",
       "    </tr>\n",
       "    <tr>\n",
       "      <th>min</th>\n",
       "      <td>18.850000</td>\n",
       "      <td>18.850000</td>\n",
       "      <td>1.0</td>\n",
       "      <td>0.000000</td>\n",
       "    </tr>\n",
       "    <tr>\n",
       "      <th>25%</th>\n",
       "      <td>55.200000</td>\n",
       "      <td>94.200000</td>\n",
       "      <td>1.0</td>\n",
       "      <td>0.000000</td>\n",
       "    </tr>\n",
       "    <tr>\n",
       "      <th>50%</th>\n",
       "      <td>79.050000</td>\n",
       "      <td>514.000000</td>\n",
       "      <td>1.0</td>\n",
       "      <td>0.000000</td>\n",
       "    </tr>\n",
       "    <tr>\n",
       "      <th>75%</th>\n",
       "      <td>90.875000</td>\n",
       "      <td>1649.650000</td>\n",
       "      <td>1.0</td>\n",
       "      <td>1.000000</td>\n",
       "    </tr>\n",
       "    <tr>\n",
       "      <th>max</th>\n",
       "      <td>117.450000</td>\n",
       "      <td>7548.100000</td>\n",
       "      <td>1.0</td>\n",
       "      <td>1.000000</td>\n",
       "    </tr>\n",
       "  </tbody>\n",
       "</table>\n",
       "</div>"
      ],
      "text/plain": [
       "       MonthlyCharges  TotalCharges  target  SeniorCitizen\n",
       "count     1655.000000   1655.000000  1655.0    1655.000000\n",
       "mean        73.019396   1164.460574     1.0       0.266465\n",
       "std         24.084146   1481.646935     0.0       0.442244\n",
       "min         18.850000     18.850000     1.0       0.000000\n",
       "25%         55.200000     94.200000     1.0       0.000000\n",
       "50%         79.050000    514.000000     1.0       0.000000\n",
       "75%         90.875000   1649.650000     1.0       1.000000\n",
       "max        117.450000   7548.100000     1.0       1.000000"
      ]
     },
     "execution_count": 38,
     "metadata": {},
     "output_type": "execute_result"
    }
   ],
   "source": [
    "df.query('target == 1 and Type == \"Month-to-month\"').describe()"
   ]
  },
  {
   "cell_type": "code",
   "execution_count": 39,
   "id": "67a578a5",
   "metadata": {},
   "outputs": [
    {
     "data": {
      "text/html": [
       "<div>\n",
       "<style scoped>\n",
       "    .dataframe tbody tr th:only-of-type {\n",
       "        vertical-align: middle;\n",
       "    }\n",
       "\n",
       "    .dataframe tbody tr th {\n",
       "        vertical-align: top;\n",
       "    }\n",
       "\n",
       "    .dataframe thead th {\n",
       "        text-align: right;\n",
       "    }\n",
       "</style>\n",
       "<table border=\"1\" class=\"dataframe\">\n",
       "  <thead>\n",
       "    <tr style=\"text-align: right;\">\n",
       "      <th></th>\n",
       "      <th>MonthlyCharges</th>\n",
       "      <th>TotalCharges</th>\n",
       "      <th>target</th>\n",
       "      <th>SeniorCitizen</th>\n",
       "    </tr>\n",
       "  </thead>\n",
       "  <tbody>\n",
       "    <tr>\n",
       "      <th>count</th>\n",
       "      <td>166.000000</td>\n",
       "      <td>166.000000</td>\n",
       "      <td>166.0</td>\n",
       "      <td>166.000000</td>\n",
       "    </tr>\n",
       "    <tr>\n",
       "      <th>mean</th>\n",
       "      <td>85.050904</td>\n",
       "      <td>4066.212048</td>\n",
       "      <td>1.0</td>\n",
       "      <td>0.174699</td>\n",
       "    </tr>\n",
       "    <tr>\n",
       "      <th>std</th>\n",
       "      <td>25.641127</td>\n",
       "      <td>2230.122564</td>\n",
       "      <td>0.0</td>\n",
       "      <td>0.380858</td>\n",
       "    </tr>\n",
       "    <tr>\n",
       "      <th>min</th>\n",
       "      <td>19.300000</td>\n",
       "      <td>28.300000</td>\n",
       "      <td>1.0</td>\n",
       "      <td>0.000000</td>\n",
       "    </tr>\n",
       "    <tr>\n",
       "      <th>25%</th>\n",
       "      <td>70.112500</td>\n",
       "      <td>2359.950000</td>\n",
       "      <td>1.0</td>\n",
       "      <td>0.000000</td>\n",
       "    </tr>\n",
       "    <tr>\n",
       "      <th>50%</th>\n",
       "      <td>95.050000</td>\n",
       "      <td>4098.525000</td>\n",
       "      <td>1.0</td>\n",
       "      <td>0.000000</td>\n",
       "    </tr>\n",
       "    <tr>\n",
       "      <th>75%</th>\n",
       "      <td>104.700000</td>\n",
       "      <td>5910.625000</td>\n",
       "      <td>1.0</td>\n",
       "      <td>0.000000</td>\n",
       "    </tr>\n",
       "    <tr>\n",
       "      <th>max</th>\n",
       "      <td>118.350000</td>\n",
       "      <td>8684.800000</td>\n",
       "      <td>1.0</td>\n",
       "      <td>1.000000</td>\n",
       "    </tr>\n",
       "  </tbody>\n",
       "</table>\n",
       "</div>"
      ],
      "text/plain": [
       "       MonthlyCharges  TotalCharges  target  SeniorCitizen\n",
       "count      166.000000    166.000000   166.0     166.000000\n",
       "mean        85.050904   4066.212048     1.0       0.174699\n",
       "std         25.641127   2230.122564     0.0       0.380858\n",
       "min         19.300000     28.300000     1.0       0.000000\n",
       "25%         70.112500   2359.950000     1.0       0.000000\n",
       "50%         95.050000   4098.525000     1.0       0.000000\n",
       "75%        104.700000   5910.625000     1.0       0.000000\n",
       "max        118.350000   8684.800000     1.0       1.000000"
      ]
     },
     "execution_count": 39,
     "metadata": {},
     "output_type": "execute_result"
    }
   ],
   "source": [
    "df.query('target == 1 and Type == \"One year\"').describe()"
   ]
  },
  {
   "cell_type": "code",
   "execution_count": 40,
   "id": "573f409a",
   "metadata": {},
   "outputs": [
    {
     "data": {
      "text/html": [
       "<div>\n",
       "<style scoped>\n",
       "    .dataframe tbody tr th:only-of-type {\n",
       "        vertical-align: middle;\n",
       "    }\n",
       "\n",
       "    .dataframe tbody tr th {\n",
       "        vertical-align: top;\n",
       "    }\n",
       "\n",
       "    .dataframe thead th {\n",
       "        text-align: right;\n",
       "    }\n",
       "</style>\n",
       "<table border=\"1\" class=\"dataframe\">\n",
       "  <thead>\n",
       "    <tr style=\"text-align: right;\">\n",
       "      <th></th>\n",
       "      <th>MonthlyCharges</th>\n",
       "      <th>TotalCharges</th>\n",
       "      <th>target</th>\n",
       "      <th>SeniorCitizen</th>\n",
       "    </tr>\n",
       "  </thead>\n",
       "  <tbody>\n",
       "    <tr>\n",
       "      <th>count</th>\n",
       "      <td>48.000000</td>\n",
       "      <td>48.000000</td>\n",
       "      <td>48.0</td>\n",
       "      <td>48.000000</td>\n",
       "    </tr>\n",
       "    <tr>\n",
       "      <th>mean</th>\n",
       "      <td>86.777083</td>\n",
       "      <td>5432.363542</td>\n",
       "      <td>1.0</td>\n",
       "      <td>0.125000</td>\n",
       "    </tr>\n",
       "    <tr>\n",
       "      <th>std</th>\n",
       "      <td>28.917883</td>\n",
       "      <td>2098.707593</td>\n",
       "      <td>0.0</td>\n",
       "      <td>0.334219</td>\n",
       "    </tr>\n",
       "    <tr>\n",
       "      <th>min</th>\n",
       "      <td>19.350000</td>\n",
       "      <td>692.100000</td>\n",
       "      <td>1.0</td>\n",
       "      <td>0.000000</td>\n",
       "    </tr>\n",
       "    <tr>\n",
       "      <th>25%</th>\n",
       "      <td>73.650000</td>\n",
       "      <td>4591.137500</td>\n",
       "      <td>1.0</td>\n",
       "      <td>0.000000</td>\n",
       "    </tr>\n",
       "    <tr>\n",
       "      <th>50%</th>\n",
       "      <td>97.275000</td>\n",
       "      <td>5874.250000</td>\n",
       "      <td>1.0</td>\n",
       "      <td>0.000000</td>\n",
       "    </tr>\n",
       "    <tr>\n",
       "      <th>75%</th>\n",
       "      <td>108.450000</td>\n",
       "      <td>7179.687500</td>\n",
       "      <td>1.0</td>\n",
       "      <td>0.000000</td>\n",
       "    </tr>\n",
       "    <tr>\n",
       "      <th>max</th>\n",
       "      <td>116.200000</td>\n",
       "      <td>7856.000000</td>\n",
       "      <td>1.0</td>\n",
       "      <td>1.000000</td>\n",
       "    </tr>\n",
       "  </tbody>\n",
       "</table>\n",
       "</div>"
      ],
      "text/plain": [
       "       MonthlyCharges  TotalCharges  target  SeniorCitizen\n",
       "count       48.000000     48.000000    48.0      48.000000\n",
       "mean        86.777083   5432.363542     1.0       0.125000\n",
       "std         28.917883   2098.707593     0.0       0.334219\n",
       "min         19.350000    692.100000     1.0       0.000000\n",
       "25%         73.650000   4591.137500     1.0       0.000000\n",
       "50%         97.275000   5874.250000     1.0       0.000000\n",
       "75%        108.450000   7179.687500     1.0       0.000000\n",
       "max        116.200000   7856.000000     1.0       1.000000"
      ]
     },
     "execution_count": 40,
     "metadata": {},
     "output_type": "execute_result"
    }
   ],
   "source": [
    "df.query('target == 1 and Type == \"Two year\"').describe()"
   ]
  },
  {
   "cell_type": "markdown",
   "id": "a4d374cd",
   "metadata": {},
   "source": [
    "Выведем график 'ящик с усами':"
   ]
  },
  {
   "cell_type": "code",
   "execution_count": 41,
   "id": "2d6b025a",
   "metadata": {},
   "outputs": [
    {
     "data": {
      "image/png": "[encoded data removed]",
      "text/plain": [
       "<Figure size 1224x504 with 1 Axes>"
      ]
     },
     "metadata": {
      "needs_background": "light"
     },
     "output_type": "display_data"
    }
   ],
   "source": [
    "df.boxplot(figsize=(17, 7), column=['MonthlyCharges'], by='target')\n",
    "plt.xlabel('Категории : 0 - активные клиенты, 1 - ушедшие клиенты')\n",
    "plt.ylabel('Charges')\n",
    "plt.title('Месячные траты клиентов')\n",
    "plt.show()"
   ]
  },
  {
   "cell_type": "markdown",
   "id": "d4dfde05",
   "metadata": {},
   "source": [
    "Среднее и медианное значение месячной платы за связь для клиентов которые ушли гораздо выше чем у тех, кто остается."
   ]
  },
  {
   "cell_type": "markdown",
   "id": "0a1244a2",
   "metadata": {},
   "source": [
    "Средняя переплата для ушедших клиентов на тарифе Month-to-month:"
   ]
  },
  {
   "cell_type": "code",
   "execution_count": 42,
   "id": "f252b40d",
   "metadata": {},
   "outputs": [
    {
     "name": "stdout",
     "output_type": "stream",
     "text": [
      "Средняя переплата 18.803 %\n"
     ]
    }
   ],
   "source": [
    "price_month = (df[df['target']==1].query('Type == \"Month-to-month\"')['MonthlyCharges'].mean() / df[df['target']==0].query('Type == \"Month-to-month\"')['MonthlyCharges'].mean()-1)*100\n",
    "print(f\"Средняя переплата {price_month:.3f} %\")"
   ]
  },
  {
   "cell_type": "markdown",
   "id": "c6e1735e",
   "metadata": {},
   "source": [
    "Средняя переплата для ушедших клиентов на тарифе One year:"
   ]
  },
  {
   "cell_type": "code",
   "execution_count": 43,
   "id": "999e1819",
   "metadata": {},
   "outputs": [
    {
     "name": "stdout",
     "output_type": "stream",
     "text": [
      "Средняя переплата 35.992 %\n"
     ]
    }
   ],
   "source": [
    "price_one_year = (df[df['target']==1].query('Type == \"One year\"')['MonthlyCharges'].mean() / df[df['target']==0].query('Type == \"One year\"')['MonthlyCharges'].mean()-1)*100\n",
    "print(f\"Средняя переплата {price_one_year:.3f} %\")"
   ]
  },
  {
   "cell_type": "markdown",
   "id": "05e8c777",
   "metadata": {},
   "source": [
    "Средняя переплата для ушедших клиентов на тарифе Two year:"
   ]
  },
  {
   "cell_type": "code",
   "execution_count": 44,
   "id": "f696c113",
   "metadata": {},
   "outputs": [
    {
     "name": "stdout",
     "output_type": "stream",
     "text": [
      "Средняя переплата 44.357 %\n"
     ]
    }
   ],
   "source": [
    "price_two_year = (df[df['target']==1].query('Type == \"Two year\"')['MonthlyCharges'].mean() / df[df['target']==0].query('Type == \"Two year\"')['MonthlyCharges'].mean()-1)*100\n",
    "print(f\"Средняя переплата {price_two_year:.3f} %\")"
   ]
  },
  {
   "cell_type": "markdown",
   "id": "97a1042c",
   "metadata": {},
   "source": [
    "С учетом того что у уходящих пользователей есть переплата, им можно предложить скидку!"
   ]
  },
  {
   "cell_type": "markdown",
   "id": "b370b060",
   "metadata": {},
   "source": [
    "### Каким количеством услуг пользуются пользователи?"
   ]
  },
  {
   "cell_type": "code",
   "execution_count": 45,
   "id": "797f8d33",
   "metadata": {},
   "outputs": [],
   "source": [
    "categorical = ['Type', 'PaperlessBilling', 'PaymentMethod', 'InternetService', 'OnlineSecurity',\n",
    "               'OnlineBackup', 'DeviceProtection', 'TechSupport', 'StreamingTV', 'StreamingMovies', 'MultipleLines']"
   ]
  },
  {
   "cell_type": "code",
   "execution_count": 46,
   "id": "8d21c43b",
   "metadata": {},
   "outputs": [],
   "source": [
    "def total(target,i):\n",
    "    return df[df['target']==target][i].value_counts().reset_index()"
   ]
  },
  {
   "cell_type": "markdown",
   "id": "1d781e77",
   "metadata": {},
   "source": [
    "Рассмотрим пользователей которые ушли:"
   ]
  },
  {
   "cell_type": "code",
   "execution_count": 47,
   "id": "a7e11df4",
   "metadata": {},
   "outputs": [
    {
     "name": "stdout",
     "output_type": "stream",
     "text": [
      "\n",
      "-----------------------------------------------------\n",
      "             index  Type\n",
      "0  Month-to-month  1655\n",
      "1        One year   166\n",
      "2        Two year    48 \n",
      "-----------------------------------------------------\n",
      "\n",
      "\n",
      "-----------------------------------------------------\n",
      "   index  PaperlessBilling\n",
      "0   Yes              1400\n",
      "1    No               469 \n",
      "-----------------------------------------------------\n",
      "\n",
      "\n",
      "-----------------------------------------------------\n",
      "                        index  PaymentMethod\n",
      "0           Electronic check           1071\n",
      "1               Mailed check            308\n",
      "2  Bank transfer (automatic)            258\n",
      "3    Credit card (automatic)            232 \n",
      "-----------------------------------------------------\n",
      "\n",
      "\n",
      "-----------------------------------------------------\n",
      "          index  InternetService\n",
      "0  Fiber optic             1297\n",
      "1          DSL              459 \n",
      "-----------------------------------------------------\n",
      "\n",
      "\n",
      "-----------------------------------------------------\n",
      "   index  OnlineSecurity\n",
      "0    No            1461\n",
      "1   Yes             295 \n",
      "-----------------------------------------------------\n",
      "\n",
      "\n",
      "-----------------------------------------------------\n",
      "   index  OnlineBackup\n",
      "0    No          1233\n",
      "1   Yes           523 \n",
      "-----------------------------------------------------\n",
      "\n",
      "\n",
      "-----------------------------------------------------\n",
      "   index  DeviceProtection\n",
      "0    No              1211\n",
      "1   Yes               545 \n",
      "-----------------------------------------------------\n",
      "\n",
      "\n",
      "-----------------------------------------------------\n",
      "   index  TechSupport\n",
      "0    No         1446\n",
      "1   Yes          310 \n",
      "-----------------------------------------------------\n",
      "\n",
      "\n",
      "-----------------------------------------------------\n",
      "   index  StreamingTV\n",
      "0    No          942\n",
      "1   Yes          814 \n",
      "-----------------------------------------------------\n",
      "\n",
      "\n",
      "-----------------------------------------------------\n",
      "   index  StreamingMovies\n",
      "0    No              938\n",
      "1   Yes              818 \n",
      "-----------------------------------------------------\n",
      "\n",
      "\n",
      "-----------------------------------------------------\n",
      "   index  MultipleLines\n",
      "0   Yes            850\n",
      "1    No            849 \n",
      "-----------------------------------------------------\n",
      "\n"
     ]
    }
   ],
   "source": [
    "for i in categorical:\n",
    "    print('\\n-----------------------------------------------------\\n',\n",
    "          total(1,i), \n",
    "          '\\n-----------------------------------------------------\\n')"
   ]
  },
  {
   "cell_type": "markdown",
   "id": "3985622d",
   "metadata": {},
   "source": [
    "Рассмотрим оставшихся пользователей:"
   ]
  },
  {
   "cell_type": "code",
   "execution_count": 48,
   "id": "01b42f5f",
   "metadata": {},
   "outputs": [
    {
     "name": "stdout",
     "output_type": "stream",
     "text": [
      "\n",
      "-----------------------------------------------------\n",
      "             index  Type\n",
      "0  Month-to-month  2220\n",
      "1        Two year  1637\n",
      "2        One year  1306 \n",
      "-----------------------------------------------------\n",
      "\n",
      "\n",
      "-----------------------------------------------------\n",
      "   index  PaperlessBilling\n",
      "0   Yes              2768\n",
      "1    No              2395 \n",
      "-----------------------------------------------------\n",
      "\n",
      "\n",
      "-----------------------------------------------------\n",
      "                        index  PaymentMethod\n",
      "0               Mailed check           1296\n",
      "1           Electronic check           1294\n",
      "2    Credit card (automatic)           1289\n",
      "3  Bank transfer (automatic)           1284 \n",
      "-----------------------------------------------------\n",
      "\n",
      "\n",
      "-----------------------------------------------------\n",
      "          index  InternetService\n",
      "0          DSL             1957\n",
      "1  Fiber optic             1799 \n",
      "-----------------------------------------------------\n",
      "\n",
      "\n",
      "-----------------------------------------------------\n",
      "   index  OnlineSecurity\n",
      "0    No            2036\n",
      "1   Yes            1720 \n",
      "-----------------------------------------------------\n",
      "\n",
      "\n",
      "-----------------------------------------------------\n",
      "   index  OnlineBackup\n",
      "0   Yes          1902\n",
      "1    No          1854 \n",
      "-----------------------------------------------------\n",
      "\n",
      "\n",
      "-----------------------------------------------------\n",
      "   index  DeviceProtection\n",
      "0    No              1883\n",
      "1   Yes              1873 \n",
      "-----------------------------------------------------\n",
      "\n",
      "\n",
      "-----------------------------------------------------\n",
      "   index  TechSupport\n",
      "0    No         2026\n",
      "1   Yes         1730 \n",
      "-----------------------------------------------------\n",
      "\n",
      "\n",
      "-----------------------------------------------------\n",
      "   index  StreamingTV\n",
      "0   Yes         1889\n",
      "1    No         1867 \n",
      "-----------------------------------------------------\n",
      "\n",
      "\n",
      "-----------------------------------------------------\n",
      "   index  StreamingMovies\n",
      "0   Yes             1913\n",
      "1    No             1843 \n",
      "-----------------------------------------------------\n",
      "\n",
      "\n",
      "-----------------------------------------------------\n",
      "   index  MultipleLines\n",
      "0    No           2536\n",
      "1   Yes           2117 \n",
      "-----------------------------------------------------\n",
      "\n"
     ]
    }
   ],
   "source": [
    "for i in categorical:\n",
    "    print('\\n-----------------------------------------------------\\n',\n",
    "          total(0,i),\n",
    "          '\\n-----------------------------------------------------\\n')"
   ]
  },
  {
   "cell_type": "markdown",
   "id": "5633915d",
   "metadata": {},
   "source": [
    "Из анализа видно что в среднем группа пользователей которые уходят, больше пользуются дополнительными услугами."
   ]
  },
  {
   "cell_type": "markdown",
   "id": "9d03237a",
   "metadata": {},
   "source": [
    "### Рассмотрим зависимости от других категориальных признаков:"
   ]
  },
  {
   "cell_type": "code",
   "execution_count": 49,
   "id": "28937221",
   "metadata": {},
   "outputs": [
    {
     "name": "stdout",
     "output_type": "stream",
     "text": [
      "\n",
      "-----------------------------------------------------\n",
      "                    sum  total  user_churn\n",
      "Type                                     \n",
      "Month-to-month  1655.0   3875    0.427097\n",
      "One year         166.0   1472    0.112772\n",
      "Two year          48.0   1685    0.028487 \n",
      "-----------------------------------------------------\n",
      "\n",
      "\n",
      "-----------------------------------------------------\n",
      "                      sum  total  user_churn\n",
      "PaperlessBilling                           \n",
      "No                 469.0   2864    0.163757\n",
      "Yes               1400.0   4168    0.335893 \n",
      "-----------------------------------------------------\n",
      "\n",
      "\n",
      "-----------------------------------------------------\n",
      "                               sum  total  user_churn\n",
      "PaymentMethod                                       \n",
      "Bank transfer (automatic)   258.0   1542    0.167315\n",
      "Credit card (automatic)     232.0   1521    0.152531\n",
      "Electronic check           1071.0   2365    0.452854\n",
      "Mailed check                308.0   1604    0.192020 \n",
      "-----------------------------------------------------\n",
      "\n",
      "\n",
      "-----------------------------------------------------\n",
      "                     sum  total  user_churn\n",
      "InternetService                           \n",
      "DSL               459.0   2416    0.189983\n",
      "Fiber optic      1297.0   3096    0.418928 \n",
      "-----------------------------------------------------\n",
      "\n",
      "\n",
      "-----------------------------------------------------\n",
      "                    sum  total  user_churn\n",
      "OnlineSecurity                           \n",
      "No              1461.0   3497    0.417787\n",
      "Yes              295.0   2015    0.146402 \n",
      "-----------------------------------------------------\n",
      "\n",
      "\n",
      "-----------------------------------------------------\n",
      "                  sum  total  user_churn\n",
      "OnlineBackup                           \n",
      "No            1233.0   3087    0.399417\n",
      "Yes            523.0   2425    0.215670 \n",
      "-----------------------------------------------------\n",
      "\n",
      "\n",
      "-----------------------------------------------------\n",
      "                      sum  total  user_churn\n",
      "DeviceProtection                           \n",
      "No                1211.0   3094    0.391403\n",
      "Yes                545.0   2418    0.225393 \n",
      "-----------------------------------------------------\n",
      "\n",
      "\n",
      "-----------------------------------------------------\n",
      "                 sum  total  user_churn\n",
      "TechSupport                           \n",
      "No           1446.0   3472    0.416475\n",
      "Yes           310.0   2040    0.151961 \n",
      "-----------------------------------------------------\n",
      "\n",
      "\n",
      "-----------------------------------------------------\n",
      "                sum  total  user_churn\n",
      "StreamingTV                          \n",
      "No           942.0   2809    0.335351\n",
      "Yes          814.0   2703    0.301147 \n",
      "-----------------------------------------------------\n",
      "\n",
      "\n",
      "-----------------------------------------------------\n",
      "                    sum  total  user_churn\n",
      "StreamingMovies                          \n",
      "No               938.0   2781    0.337289\n",
      "Yes              818.0   2731    0.299524 \n",
      "-----------------------------------------------------\n",
      "\n",
      "\n",
      "-----------------------------------------------------\n",
      "                  sum  total  user_churn\n",
      "MultipleLines                          \n",
      "No             849.0   3385    0.250812\n",
      "Yes            850.0   2967    0.286485 \n",
      "-----------------------------------------------------\n",
      "\n"
     ]
    }
   ],
   "source": [
    "for i in categorical:\n",
    "    print('\\n-----------------------------------------------------\\n',\n",
    "          user_churn(i),\n",
    "          '\\n-----------------------------------------------------\\n')"
   ]
  },
  {
   "cell_type": "markdown",
   "id": "0fc0c5a0",
   "metadata": {},
   "source": [
    "#### Выводы:\n",
    "Анализ показывает что меньше всего разницы в оттоке при делении по категориям gender, StreamingTV, StreamingMovies, PaymentMethod и MultipleLines. Также одним из выводов исследования является то, что существует сильная зависимость оттока от текущего тарифного плана, также сильно влияет профиль самого клиента, есть ли у него партнер, пенсионер ли он. Также анализ показал что ушедшие клиенты значительно переплачивали, по сравнению с теми кто остается, соответственно, ради удержания клиентов можно предложить им скидку на связь."
   ]
  },
  {
   "cell_type": "markdown",
   "id": "5f6fd46a",
   "metadata": {},
   "source": [
    "## Обучение модели"
   ]
  },
  {
   "cell_type": "markdown",
   "id": "56e1ef6f",
   "metadata": {},
   "source": [
    "### CatBoost"
   ]
  },
  {
   "cell_type": "markdown",
   "id": "31929fbe",
   "metadata": {},
   "source": [
    "Исключим из обучающей выборки признаки gender, StreamingTV, StreamingMovies, PaymentMethod и MultipleLines:"
   ]
  },
  {
   "cell_type": "code",
   "execution_count": 50,
   "id": "ba07360c",
   "metadata": {},
   "outputs": [],
   "source": [
    "df = df.drop(['gender', 'StreamingTV', 'StreamingMovies', 'PaymentMethod', 'MultipleLines'], axis=1)\n",
    "#df = df[['BeginDate', 'Type', 'PaperlessBilling', 'MonthlyCharges', 'TotalCharges', 'target', 'InternetService',\n",
    "#       'OnlineSecurity', 'OnlineBackup', 'DeviceProtection', 'TechSupport', 'SeniorCitizen', 'Partner', 'Dependents']]"
   ]
  },
  {
   "cell_type": "markdown",
   "id": "d3f8d6ce",
   "metadata": {},
   "source": [
    "Выделим категориальные признаки и заполним в них пропуски:"
   ]
  },
  {
   "cell_type": "code",
   "execution_count": 51,
   "id": "990177a3",
   "metadata": {},
   "outputs": [],
   "source": [
    "cat_features = ['Type', 'PaperlessBilling', 'InternetService', 'OnlineSecurity',\n",
    "                'OnlineBackup', 'DeviceProtection', 'TechSupport', 'Partner', 'Dependents']"
   ]
  },
  {
   "cell_type": "markdown",
   "id": "0a8707f6",
   "metadata": {},
   "source": [
    "Пропуски в категориальных признаках заполним категореий 'NaN', для возможности дальнейшего обучения моделей:"
   ]
  },
  {
   "cell_type": "code",
   "execution_count": 52,
   "id": "8edb78c8",
   "metadata": {},
   "outputs": [],
   "source": [
    "df[cat_features] = df[cat_features].fillna('NaN')"
   ]
  },
  {
   "cell_type": "markdown",
   "id": "244b1b93",
   "metadata": {},
   "source": [
    "Разделим выборку на обучающие признаки и целевой признак:"
   ]
  },
  {
   "cell_type": "code",
   "execution_count": 53,
   "id": "2fe2aa0a",
   "metadata": {},
   "outputs": [],
   "source": [
    "target = df['target']\n",
    "features = df.drop('target', axis=1)"
   ]
  },
  {
   "cell_type": "markdown",
   "id": "06a7593b",
   "metadata": {},
   "source": [
    "Разделим выборку на обучающую и тестовую:"
   ]
  },
  {
   "cell_type": "code",
   "execution_count": 54,
   "id": "5ea35d94",
   "metadata": {},
   "outputs": [],
   "source": [
    "features_train, features_test, target_train, target_test = train_test_split(features, target,\n",
    "                                                                            test_size=0.25,\n",
    "                                                                            random_state=120922,\n",
    "                                                                            stratify=target)"
   ]
  },
  {
   "cell_type": "markdown",
   "id": "c8ba8492",
   "metadata": {},
   "source": [
    "Найдем оптимальные гиперпараметры:"
   ]
  },
  {
   "cell_type": "code",
   "execution_count": 55,
   "id": "96141fcc",
   "metadata": {},
   "outputs": [
    {
     "name": "stdout",
     "output_type": "stream",
     "text": [
      "Лучшие гиперпараметры:  {'learning_rate': 0.7, 'logging_level': 'Silent', 'max_depth': 2, 'random_seed': 120922}\n",
      "ROC_AUC: 0.9448092506242055\n"
     ]
    }
   ],
   "source": [
    "model_cat = CatBoostClassifier()\n",
    "params = {\n",
    "    'max_depth' : [2, 3, 4],\n",
    "    'random_seed' : [120922],\n",
    "    'learning_rate' : [0.7],\n",
    "    'logging_level' : ['Silent']\n",
    "}\n",
    "grid_cat = GridSearchCV(estimator=model_cat,\n",
    "                        param_grid=params, \n",
    "                                   cv=3,\n",
    "                                   scoring='roc_auc')\n",
    "grid_cat.fit(features_train, target_train,\n",
    "             cat_features=cat_features,\n",
    "             plot=False)\n",
    "print('Лучшие гиперпараметры: ', grid_cat.best_params_)\n",
    "print('ROC_AUC:', grid_cat.best_score_)"
   ]
  },
  {
   "cell_type": "markdown",
   "id": "638536c8",
   "metadata": {},
   "source": [
    "Обучим модель с оптимальными гиперпараметрами:"
   ]
  },
  {
   "cell_type": "markdown",
   "id": "577558b0",
   "metadata": {},
   "source": [
    "Построим ROC-кривую и найдем площаль под кривой:"
   ]
  },
  {
   "cell_type": "markdown",
   "id": "bbce7fe7",
   "metadata": {},
   "source": [
    "### LGBM Classifier"
   ]
  },
  {
   "cell_type": "code",
   "execution_count": 60,
   "id": "873f7f63",
   "metadata": {},
   "outputs": [],
   "source": [
    "categorical_feature = ['Type', 'PaperlessBilling', 'InternetService', 'OnlineSecurity', 'OnlineBackup', 'DeviceProtection', 'TechSupport', 'Partner', 'Dependents']"
   ]
  },
  {
   "cell_type": "markdown",
   "id": "fad01112",
   "metadata": {},
   "source": [
    "Закодируем катигориальные признаки и дату:"
   ]
  },
  {
   "cell_type": "code",
   "execution_count": 62,
   "id": "e82c203e",
   "metadata": {},
   "outputs": [],
   "source": [
    "df_lgbm = df.drop('BeginDate', axis=1)\n",
    "df_lgbm['day'] = pd.DatetimeIndex(df['BeginDate']).day\n",
    "df_lgbm['month'] = pd.DatetimeIndex(df['BeginDate']).month\n",
    "df_lgbm['year'] = pd.DatetimeIndex(df['BeginDate']).year"
   ]
  },
  {
   "cell_type": "code",
   "execution_count": 63,
   "id": "d707ccc7",
   "metadata": {},
   "outputs": [],
   "source": [
    "for i in categorical_feature:\n",
    "    df_lgbm[i] = df_lgbm[i].astype('category')"
   ]
  },
  {
   "cell_type": "code",
   "execution_count": 64,
   "id": "8afb107b",
   "metadata": {},
   "outputs": [],
   "source": [
    "target = df_lgbm['target']\n",
    "features = df_lgbm.drop('target', axis=1)"
   ]
  },
  {
   "cell_type": "code",
   "execution_count": 65,
   "id": "6ee25934",
   "metadata": {},
   "outputs": [],
   "source": [
    "features_train_lgbm, features_test_lgbm, target_train_lgbm, target_test_lgbm = train_test_split(features, target,\n",
    "                                                                                                test_size=0.25,\n",
    "                                                                                                random_state=120922,\n",
    "                                                                                                stratify=target)"
   ]
  },
  {
   "cell_type": "markdown",
   "id": "0569745a",
   "metadata": {},
   "source": [
    "Найдем лучшие гиперпараметры модели:"
   ]
  },
  {
   "cell_type": "code",
   "execution_count": 66,
   "id": "6ba2b023",
   "metadata": {},
   "outputs": [],
   "source": [
    "model_lgbm = LGBMClassifier()\n",
    "params = {\n",
    "    'boosting_type' : ['gbdt'],\n",
    "    'max_depth' : [2, 3, 4],\n",
    "    'verbose' : [0],\n",
    "    'random_state' : [120922],\n",
    "    'learning_rate' : [0.7],\n",
    "    'force_col_wise': [True],\n",
    "    'num_leaves' : [70]}\n",
    "grid_lgbm = GridSearchCV(estimator=model_lgbm,\n",
    "                         param_grid=params,\n",
    "                         cv=3,\n",
    "                         scoring='roc_auc')"
   ]
  },
  {
   "cell_type": "code",
   "execution_count": 67,
   "id": "783255d2",
   "metadata": {},
   "outputs": [
    {
     "name": "stdout",
     "output_type": "stream",
     "text": [
      "<class 'pandas.core.frame.DataFrame'>\n",
      "Index: 5274 entries, 9777-WJJPR to 8883-ANODQ\n",
      "Data columns (total 15 columns):\n",
      " #   Column            Non-Null Count  Dtype   \n",
      "---  ------            --------------  -----   \n",
      " 0   Type              5274 non-null   category\n",
      " 1   PaperlessBilling  5274 non-null   category\n",
      " 2   MonthlyCharges    5274 non-null   float64 \n",
      " 3   TotalCharges      5274 non-null   float64 \n",
      " 4   InternetService   5274 non-null   category\n",
      " 5   OnlineSecurity    5274 non-null   category\n",
      " 6   OnlineBackup      5274 non-null   category\n",
      " 7   DeviceProtection  5274 non-null   category\n",
      " 8   TechSupport       5274 non-null   category\n",
      " 9   SeniorCitizen     5274 non-null   int64   \n",
      " 10  Partner           5274 non-null   category\n",
      " 11  Dependents        5274 non-null   category\n",
      " 12  day               5274 non-null   int64   \n",
      " 13  month             5274 non-null   int64   \n",
      " 14  year              5274 non-null   int64   \n",
      "dtypes: category(9), float64(2), int64(4)\n",
      "memory usage: 335.9+ KB\n"
     ]
    }
   ],
   "source": [
    "features_train_lgbm.info()"
   ]
  },
  {
   "cell_type": "code",
   "execution_count": 68,
   "id": "30658d2c",
   "metadata": {},
   "outputs": [
    {
     "data": {
      "text/plain": [
       "['Type',\n",
       " 'PaperlessBilling',\n",
       " 'InternetService',\n",
       " 'OnlineSecurity',\n",
       " 'OnlineBackup',\n",
       " 'DeviceProtection',\n",
       " 'TechSupport',\n",
       " 'Partner',\n",
       " 'Dependents']"
      ]
     },
     "execution_count": 68,
     "metadata": {},
     "output_type": "execute_result"
    }
   ],
   "source": [
    "categorical_feature"
   ]
  },
  {
   "cell_type": "code",
   "execution_count": 69,
   "id": "8bc63eb6",
   "metadata": {},
   "outputs": [
    {
     "name": "stdout",
     "output_type": "stream",
     "text": [
      "[LightGBM] [Warning] No further splits with positive gain, best gain: -inf\n",
      "[LightGBM] [Warning] No further splits with positive gain, best gain: -inf\n",
      "[LightGBM] [Warning] No further splits with positive gain, best gain: -inf\n",
      "[LightGBM] [Warning] No further splits with positive gain, best gain: -inf\n",
      "[LightGBM] [Warning] No further splits with positive gain, best gain: -inf\n",
      "[LightGBM] [Warning] No further splits with positive gain, best gain: -inf\n",
      "[LightGBM] [Warning] No further splits with positive gain, best gain: -inf\n",
      "[LightGBM] [Warning] No further splits with positive gain, best gain: -inf\n",
      "[LightGBM] [Warning] No further splits with positive gain, best gain: -inf\n",
      "[LightGBM] [Warning] No further splits with positive gain, best gain: -inf\n",
      "[LightGBM] [Warning] No further splits with positive gain, best gain: -inf\n",
      "[LightGBM] [Warning] No further splits with positive gain, best gain: -inf\n",
      "[LightGBM] [Warning] No further splits with positive gain, best gain: -inf\n",
      "[LightGBM] [Warning] No further splits with positive gain, best gain: -inf\n",
      "[LightGBM] [Warning] No further splits with positive gain, best gain: -inf\n",
      "[LightGBM] [Warning] No further splits with positive gain, best gain: -inf\n",
      "[LightGBM] [Warning] No further splits with positive gain, best gain: -inf\n",
      "[LightGBM] [Warning] No further splits with positive gain, best gain: -inf\n",
      "[LightGBM] [Warning] No further splits with positive gain, best gain: -inf\n",
      "[LightGBM] [Warning] No further splits with positive gain, best gain: -inf\n",
      "[LightGBM] [Warning] No further splits with positive gain, best gain: -inf\n",
      "[LightGBM] [Warning] No further splits with positive gain, best gain: -inf\n",
      "[LightGBM] [Warning] No further splits with positive gain, best gain: -inf\n",
      "[LightGBM] [Warning] No further splits with positive gain, best gain: -inf\n",
      "[LightGBM] [Warning] No further splits with positive gain, best gain: -inf\n"
     ]
    },
    {
     "name": "stderr",
     "output_type": "stream",
     "text": [
      "C:\\Users\\Сергей\\AppData\\Local\\Programs\\Python\\Python39\\lib\\site-packages\\lightgbm\\basic.py:2065: UserWarning: Using categorical_feature in Dataset.\n",
      "  _log_warning('Using categorical_feature in Dataset.')\n",
      "C:\\Users\\Сергей\\AppData\\Local\\Programs\\Python\\Python39\\lib\\site-packages\\lightgbm\\basic.py:2065: UserWarning: Using categorical_feature in Dataset.\n",
      "  _log_warning('Using categorical_feature in Dataset.')\n",
      "C:\\Users\\Сергей\\AppData\\Local\\Programs\\Python\\Python39\\lib\\site-packages\\lightgbm\\basic.py:2065: UserWarning: Using categorical_feature in Dataset.\n",
      "  _log_warning('Using categorical_feature in Dataset.')\n",
      "C:\\Users\\Сергей\\AppData\\Local\\Programs\\Python\\Python39\\lib\\site-packages\\lightgbm\\basic.py:2065: UserWarning: Using categorical_feature in Dataset.\n",
      "  _log_warning('Using categorical_feature in Dataset.')\n",
      "C:\\Users\\Сергей\\AppData\\Local\\Programs\\Python\\Python39\\lib\\site-packages\\lightgbm\\basic.py:2065: UserWarning: Using categorical_feature in Dataset.\n",
      "  _log_warning('Using categorical_feature in Dataset.')\n"
     ]
    },
    {
     "name": "stdout",
     "output_type": "stream",
     "text": [
      "[LightGBM] [Warning] No further splits with positive gain, best gain: -inf\n",
      "[LightGBM] [Warning] No further splits with positive gain, best gain: -inf\n",
      "[LightGBM] [Warning] No further splits with positive gain, best gain: -inf\n",
      "[LightGBM] [Warning] No further splits with positive gain, best gain: -inf\n",
      "[LightGBM] [Warning] No further splits with positive gain, best gain: -inf\n",
      "[LightGBM] [Warning] No further splits with positive gain, best gain: -inf\n",
      "[LightGBM] [Warning] No further splits with positive gain, best gain: -inf\n",
      "[LightGBM] [Warning] No further splits with positive gain, best gain: -inf\n",
      "[LightGBM] [Warning] No further splits with positive gain, best gain: -inf\n",
      "[LightGBM] [Warning] No further splits with positive gain, best gain: -inf\n",
      "[LightGBM] [Warning] No further splits with positive gain, best gain: -inf\n",
      "[LightGBM] [Warning] No further splits with positive gain, best gain: -inf\n",
      "[LightGBM] [Warning] No further splits with positive gain, best gain: -inf\n",
      "[LightGBM] [Warning] No further splits with positive gain, best gain: -inf\n",
      "[LightGBM] [Warning] No further splits with positive gain, best gain: -inf\n",
      "[LightGBM] [Warning] No further splits with positive gain, best gain: -inf\n",
      "[LightGBM] [Warning] No further splits with positive gain, best gain: -inf\n",
      "[LightGBM] [Warning] No further splits with positive gain, best gain: -inf\n",
      "[LightGBM] [Warning] No further splits with positive gain, best gain: -inf\n",
      "[LightGBM] [Warning] No further splits with positive gain, best gain: -inf\n",
      "[LightGBM] [Warning] No further splits with positive gain, best gain: -inf\n",
      "[LightGBM] [Warning] No further splits with positive gain, best gain: -inf\n",
      "[LightGBM] [Warning] No further splits with positive gain, best gain: -inf\n",
      "[LightGBM] [Warning] No further splits with positive gain, best gain: -inf\n",
      "[LightGBM] [Warning] No further splits with positive gain, best gain: -inf\n",
      "[LightGBM] [Warning] No further splits with positive gain, best gain: -inf\n",
      "[LightGBM] [Warning] No further splits with positive gain, best gain: -inf\n",
      "[LightGBM] [Warning] No further splits with positive gain, best gain: -inf\n",
      "[LightGBM] [Warning] No further splits with positive gain, best gain: -inf\n",
      "[LightGBM] [Warning] No further splits with positive gain, best gain: -inf\n",
      "[LightGBM] [Warning] No further splits with positive gain, best gain: -inf\n",
      "[LightGBM] [Warning] No further splits with positive gain, best gain: -inf\n",
      "[LightGBM] [Warning] No further splits with positive gain, best gain: -inf\n",
      "[LightGBM] [Warning] No further splits with positive gain, best gain: -inf\n",
      "[LightGBM] [Warning] No further splits with positive gain, best gain: -inf\n",
      "[LightGBM] [Warning] No further splits with positive gain, best gain: -inf\n",
      "[LightGBM] [Warning] No further splits with positive gain, best gain: -inf\n",
      "[LightGBM] [Warning] No further splits with positive gain, best gain: -inf\n",
      "[LightGBM] [Warning] No further splits with positive gain, best gain: -inf\n",
      "[LightGBM] [Warning] No further splits with positive gain, best gain: -inf\n",
      "[LightGBM] [Warning] No further splits with positive gain, best gain: -inf\n",
      "[LightGBM] [Warning] No further splits with positive gain, best gain: -inf\n",
      "[LightGBM] [Warning] No further splits with positive gain, best gain: -inf\n",
      "[LightGBM] [Warning] No further splits with positive gain, best gain: -inf\n",
      "[LightGBM] [Warning] No further splits with positive gain, best gain: -inf\n",
      "[LightGBM] [Warning] No further splits with positive gain, best gain: -inf\n",
      "[LightGBM] [Warning] No further splits with positive gain, best gain: -inf\n",
      "[LightGBM] [Warning] No further splits with positive gain, best gain: -inf\n",
      "[LightGBM] [Warning] No further splits with positive gain, best gain: -inf\n",
      "[LightGBM] [Warning] No further splits with positive gain, best gain: -inf\n",
      "[LightGBM] [Warning] No further splits with positive gain, best gain: -inf\n",
      "[LightGBM] [Warning] No further splits with positive gain, best gain: -inf\n",
      "[LightGBM] [Warning] No further splits with positive gain, best gain: -inf\n",
      "[LightGBM] [Warning] No further splits with positive gain, best gain: -inf\n",
      "[LightGBM] [Warning] No further splits with positive gain, best gain: -inf\n",
      "[LightGBM] [Warning] No further splits with positive gain, best gain: -inf\n",
      "[LightGBM] [Warning] No further splits with positive gain, best gain: -inf\n",
      "[LightGBM] [Warning] No further splits with positive gain, best gain: -inf\n",
      "[LightGBM] [Warning] No further splits with positive gain, best gain: -inf\n",
      "[LightGBM] [Warning] No further splits with positive gain, best gain: -inf\n",
      "[LightGBM] [Warning] No further splits with positive gain, best gain: -inf\n",
      "[LightGBM] [Warning] No further splits with positive gain, best gain: -inf\n",
      "[LightGBM] [Warning] No further splits with positive gain, best gain: -inf\n",
      "[LightGBM] [Warning] No further splits with positive gain, best gain: -inf\n",
      "[LightGBM] [Warning] No further splits with positive gain, best gain: -inf\n",
      "[LightGBM] [Warning] No further splits with positive gain, best gain: -inf\n",
      "[LightGBM] [Warning] No further splits with positive gain, best gain: -inf\n",
      "[LightGBM] [Warning] No further splits with positive gain, best gain: -inf\n",
      "[LightGBM] [Warning] No further splits with positive gain, best gain: -inf\n",
      "[LightGBM] [Warning] No further splits with positive gain, best gain: -inf\n",
      "[LightGBM] [Warning] No further splits with positive gain, best gain: -inf\n",
      "[LightGBM] [Warning] No further splits with positive gain, best gain: -inf\n",
      "[LightGBM] [Warning] No further splits with positive gain, best gain: -inf\n",
      "[LightGBM] [Warning] No further splits with positive gain, best gain: -inf\n",
      "[LightGBM] [Warning] No further splits with positive gain, best gain: -inf\n",
      "[LightGBM] [Warning] No further splits with positive gain, best gain: -inf\n",
      "[LightGBM] [Warning] No further splits with positive gain, best gain: -inf\n",
      "[LightGBM] [Warning] No further splits with positive gain, best gain: -inf\n",
      "[LightGBM] [Warning] No further splits with positive gain, best gain: -inf\n",
      "[LightGBM] [Warning] No further splits with positive gain, best gain: -inf\n",
      "[LightGBM] [Warning] No further splits with positive gain, best gain: -inf\n",
      "[LightGBM] [Warning] No further splits with positive gain, best gain: -inf\n",
      "[LightGBM] [Warning] No further splits with positive gain, best gain: -inf\n",
      "[LightGBM] [Warning] No further splits with positive gain, best gain: -inf\n",
      "[LightGBM] [Warning] No further splits with positive gain, best gain: -inf\n",
      "[LightGBM] [Warning] No further splits with positive gain, best gain: -inf\n",
      "[LightGBM] [Warning] No further splits with positive gain, best gain: -inf\n",
      "[LightGBM] [Warning] No further splits with positive gain, best gain: -inf\n",
      "[LightGBM] [Warning] No further splits with positive gain, best gain: -inf\n",
      "[LightGBM] [Warning] No further splits with positive gain, best gain: -inf\n",
      "[LightGBM] [Warning] No further splits with positive gain, best gain: -inf\n",
      "[LightGBM] [Warning] No further splits with positive gain, best gain: -inf\n",
      "[LightGBM] [Warning] No further splits with positive gain, best gain: -inf\n",
      "[LightGBM] [Warning] No further splits with positive gain, best gain: -inf\n",
      "[LightGBM] [Warning] No further splits with positive gain, best gain: -inf\n",
      "[LightGBM] [Warning] No further splits with positive gain, best gain: -inf\n",
      "[LightGBM] [Warning] No further splits with positive gain, best gain: -inf\n",
      "[LightGBM] [Warning] No further splits with positive gain, best gain: -inf\n",
      "[LightGBM] [Warning] No further splits with positive gain, best gain: -inf\n",
      "[LightGBM] [Warning] No further splits with positive gain, best gain: -inf\n",
      "[LightGBM] [Warning] No further splits with positive gain, best gain: -inf\n",
      "[LightGBM] [Warning] No further splits with positive gain, best gain: -inf\n",
      "[LightGBM] [Warning] No further splits with positive gain, best gain: -inf\n",
      "[LightGBM] [Warning] No further splits with positive gain, best gain: -inf\n",
      "[LightGBM] [Warning] No further splits with positive gain, best gain: -inf\n",
      "[LightGBM] [Warning] No further splits with positive gain, best gain: -inf\n",
      "[LightGBM] [Warning] No further splits with positive gain, best gain: -inf\n",
      "[LightGBM] [Warning] No further splits with positive gain, best gain: -inf\n",
      "[LightGBM] [Warning] No further splits with positive gain, best gain: -inf\n",
      "[LightGBM] [Warning] No further splits with positive gain, best gain: -inf\n",
      "[LightGBM] [Warning] No further splits with positive gain, best gain: -inf\n",
      "[LightGBM] [Warning] No further splits with positive gain, best gain: -inf\n",
      "[LightGBM] [Warning] No further splits with positive gain, best gain: -inf\n",
      "[LightGBM] [Warning] No further splits with positive gain, best gain: -inf\n",
      "[LightGBM] [Warning] No further splits with positive gain, best gain: -inf\n",
      "[LightGBM] [Warning] No further splits with positive gain, best gain: -inf\n",
      "[LightGBM] [Warning] No further splits with positive gain, best gain: -inf\n",
      "[LightGBM] [Warning] No further splits with positive gain, best gain: -inf\n",
      "[LightGBM] [Warning] No further splits with positive gain, best gain: -inf\n",
      "[LightGBM] [Warning] No further splits with positive gain, best gain: -inf\n",
      "[LightGBM] [Warning] No further splits with positive gain, best gain: -inf\n",
      "[LightGBM] [Warning] No further splits with positive gain, best gain: -inf\n",
      "[LightGBM] [Warning] No further splits with positive gain, best gain: -inf\n",
      "[LightGBM] [Warning] No further splits with positive gain, best gain: -inf\n",
      "[LightGBM] [Warning] No further splits with positive gain, best gain: -inf\n",
      "[LightGBM] [Warning] No further splits with positive gain, best gain: -inf\n",
      "[LightGBM] [Warning] No further splits with positive gain, best gain: -inf\n",
      "[LightGBM] [Warning] No further splits with positive gain, best gain: -inf\n",
      "[LightGBM] [Warning] No further splits with positive gain, best gain: -inf\n",
      "[LightGBM] [Warning] No further splits with positive gain, best gain: -inf\n",
      "[LightGBM] [Warning] No further splits with positive gain, best gain: -inf\n",
      "[LightGBM] [Warning] No further splits with positive gain, best gain: -inf\n",
      "[LightGBM] [Warning] No further splits with positive gain, best gain: -inf\n",
      "[LightGBM] [Warning] No further splits with positive gain, best gain: -inf\n",
      "[LightGBM] [Warning] No further splits with positive gain, best gain: -inf\n",
      "[LightGBM] [Warning] No further splits with positive gain, best gain: -inf\n",
      "[LightGBM] [Warning] No further splits with positive gain, best gain: -inf\n",
      "[LightGBM] [Warning] No further splits with positive gain, best gain: -inf\n",
      "[LightGBM] [Warning] No further splits with positive gain, best gain: -inf\n",
      "[LightGBM] [Warning] No further splits with positive gain, best gain: -inf\n",
      "[LightGBM] [Warning] No further splits with positive gain, best gain: -inf\n",
      "[LightGBM] [Warning] No further splits with positive gain, best gain: -inf\n",
      "[LightGBM] [Warning] No further splits with positive gain, best gain: -inf\n",
      "[LightGBM] [Warning] No further splits with positive gain, best gain: -inf\n",
      "[LightGBM] [Warning] No further splits with positive gain, best gain: -inf\n",
      "[LightGBM] [Warning] No further splits with positive gain, best gain: -inf\n",
      "[LightGBM] [Warning] No further splits with positive gain, best gain: -inf\n",
      "[LightGBM] [Warning] No further splits with positive gain, best gain: -inf\n",
      "[LightGBM] [Warning] No further splits with positive gain, best gain: -inf\n",
      "[LightGBM] [Warning] No further splits with positive gain, best gain: -inf\n",
      "[LightGBM] [Warning] No further splits with positive gain, best gain: -inf\n",
      "[LightGBM] [Warning] No further splits with positive gain, best gain: -inf\n",
      "[LightGBM] [Warning] No further splits with positive gain, best gain: -inf\n",
      "[LightGBM] [Warning] No further splits with positive gain, best gain: -inf\n",
      "[LightGBM] [Warning] No further splits with positive gain, best gain: -inf\n",
      "[LightGBM] [Warning] No further splits with positive gain, best gain: -inf\n",
      "[LightGBM] [Warning] No further splits with positive gain, best gain: -inf\n",
      "[LightGBM] [Warning] No further splits with positive gain, best gain: -inf\n",
      "[LightGBM] [Warning] No further splits with positive gain, best gain: -inf\n",
      "[LightGBM] [Warning] No further splits with positive gain, best gain: -inf\n",
      "[LightGBM] [Warning] No further splits with positive gain, best gain: -inf\n",
      "[LightGBM] [Warning] No further splits with positive gain, best gain: -inf\n",
      "[LightGBM] [Warning] No further splits with positive gain, best gain: -inf\n",
      "[LightGBM] [Warning] No further splits with positive gain, best gain: -inf\n",
      "[LightGBM] [Warning] No further splits with positive gain, best gain: -inf\n",
      "[LightGBM] [Warning] No further splits with positive gain, best gain: -inf\n",
      "[LightGBM] [Warning] No further splits with positive gain, best gain: -inf\n",
      "[LightGBM] [Warning] No further splits with positive gain, best gain: -inf\n",
      "[LightGBM] [Warning] No further splits with positive gain, best gain: -inf\n",
      "[LightGBM] [Warning] No further splits with positive gain, best gain: -inf\n",
      "[LightGBM] [Warning] No further splits with positive gain, best gain: -inf\n",
      "[LightGBM] [Warning] No further splits with positive gain, best gain: -inf\n",
      "[LightGBM] [Warning] No further splits with positive gain, best gain: -inf\n",
      "[LightGBM] [Warning] No further splits with positive gain, best gain: -inf\n",
      "[LightGBM] [Warning] No further splits with positive gain, best gain: -inf\n",
      "[LightGBM] [Warning] No further splits with positive gain, best gain: -inf\n",
      "[LightGBM] [Warning] No further splits with positive gain, best gain: -inf\n",
      "[LightGBM] [Warning] No further splits with positive gain, best gain: -inf\n",
      "[LightGBM] [Warning] No further splits with positive gain, best gain: -inf\n",
      "[LightGBM] [Warning] No further splits with positive gain, best gain: -inf\n",
      "[LightGBM] [Warning] No further splits with positive gain, best gain: -inf\n",
      "[LightGBM] [Warning] No further splits with positive gain, best gain: -inf\n",
      "[LightGBM] [Warning] No further splits with positive gain, best gain: -inf\n",
      "[LightGBM] [Warning] No further splits with positive gain, best gain: -inf\n",
      "[LightGBM] [Warning] No further splits with positive gain, best gain: -inf\n",
      "[LightGBM] [Warning] No further splits with positive gain, best gain: -inf\n",
      "[LightGBM] [Warning] No further splits with positive gain, best gain: -inf\n",
      "[LightGBM] [Warning] No further splits with positive gain, best gain: -inf\n",
      "[LightGBM] [Warning] No further splits with positive gain, best gain: -inf\n",
      "[LightGBM] [Warning] No further splits with positive gain, best gain: -inf\n",
      "[LightGBM] [Warning] No further splits with positive gain, best gain: -inf\n",
      "[LightGBM] [Warning] No further splits with positive gain, best gain: -inf\n",
      "[LightGBM] [Warning] No further splits with positive gain, best gain: -inf\n",
      "[LightGBM] [Warning] No further splits with positive gain, best gain: -inf\n",
      "[LightGBM] [Warning] No further splits with positive gain, best gain: -inf\n",
      "[LightGBM] [Warning] No further splits with positive gain, best gain: -inf\n",
      "[LightGBM] [Warning] No further splits with positive gain, best gain: -inf\n",
      "[LightGBM] [Warning] No further splits with positive gain, best gain: -inf\n",
      "[LightGBM] [Warning] No further splits with positive gain, best gain: -inf\n",
      "[LightGBM] [Warning] No further splits with positive gain, best gain: -inf\n",
      "[LightGBM] [Warning] No further splits with positive gain, best gain: -inf\n",
      "[LightGBM] [Warning] No further splits with positive gain, best gain: -inf\n",
      "[LightGBM] [Warning] No further splits with positive gain, best gain: -inf\n",
      "[LightGBM] [Warning] No further splits with positive gain, best gain: -inf\n",
      "[LightGBM] [Warning] No further splits with positive gain, best gain: -inf\n",
      "[LightGBM] [Warning] No further splits with positive gain, best gain: -inf\n",
      "[LightGBM] [Warning] No further splits with positive gain, best gain: -inf\n",
      "[LightGBM] [Warning] No further splits with positive gain, best gain: -inf\n",
      "[LightGBM] [Warning] No further splits with positive gain, best gain: -inf\n",
      "[LightGBM] [Warning] No further splits with positive gain, best gain: -inf\n",
      "[LightGBM] [Warning] No further splits with positive gain, best gain: -inf\n",
      "[LightGBM] [Warning] No further splits with positive gain, best gain: -inf\n",
      "[LightGBM] [Warning] No further splits with positive gain, best gain: -inf\n",
      "[LightGBM] [Warning] No further splits with positive gain, best gain: -inf\n",
      "[LightGBM] [Warning] No further splits with positive gain, best gain: -inf\n",
      "[LightGBM] [Warning] No further splits with positive gain, best gain: -inf\n",
      "[LightGBM] [Warning] No further splits with positive gain, best gain: -inf\n",
      "[LightGBM] [Warning] No further splits with positive gain, best gain: -inf\n",
      "[LightGBM] [Warning] No further splits with positive gain, best gain: -inf\n",
      "[LightGBM] [Warning] No further splits with positive gain, best gain: -inf\n",
      "[LightGBM] [Warning] No further splits with positive gain, best gain: -inf\n",
      "[LightGBM] [Warning] No further splits with positive gain, best gain: -inf\n",
      "[LightGBM] [Warning] No further splits with positive gain, best gain: -inf\n",
      "[LightGBM] [Warning] No further splits with positive gain, best gain: -inf\n",
      "[LightGBM] [Warning] No further splits with positive gain, best gain: -inf\n",
      "[LightGBM] [Warning] No further splits with positive gain, best gain: -inf\n",
      "[LightGBM] [Warning] No further splits with positive gain, best gain: -inf\n",
      "[LightGBM] [Warning] No further splits with positive gain, best gain: -inf\n",
      "[LightGBM] [Warning] No further splits with positive gain, best gain: -inf\n",
      "[LightGBM] [Warning] No further splits with positive gain, best gain: -inf\n"
     ]
    },
    {
     "name": "stderr",
     "output_type": "stream",
     "text": [
      "C:\\Users\\Сергей\\AppData\\Local\\Programs\\Python\\Python39\\lib\\site-packages\\lightgbm\\basic.py:2065: UserWarning: Using categorical_feature in Dataset.\n",
      "  _log_warning('Using categorical_feature in Dataset.')\n",
      "C:\\Users\\Сергей\\AppData\\Local\\Programs\\Python\\Python39\\lib\\site-packages\\lightgbm\\basic.py:2065: UserWarning: Using categorical_feature in Dataset.\n",
      "  _log_warning('Using categorical_feature in Dataset.')\n",
      "C:\\Users\\Сергей\\AppData\\Local\\Programs\\Python\\Python39\\lib\\site-packages\\lightgbm\\basic.py:2065: UserWarning: Using categorical_feature in Dataset.\n",
      "  _log_warning('Using categorical_feature in Dataset.')\n",
      "C:\\Users\\Сергей\\AppData\\Local\\Programs\\Python\\Python39\\lib\\site-packages\\lightgbm\\basic.py:2065: UserWarning: Using categorical_feature in Dataset.\n",
      "  _log_warning('Using categorical_feature in Dataset.')\n"
     ]
    },
    {
     "name": "stdout",
     "output_type": "stream",
     "text": [
      "[LightGBM] [Warning] No further splits with positive gain, best gain: -inf\n",
      "[LightGBM] [Warning] No further splits with positive gain, best gain: -inf\n",
      "[LightGBM] [Warning] No further splits with positive gain, best gain: -inf\n",
      "[LightGBM] [Warning] No further splits with positive gain, best gain: -inf\n",
      "[LightGBM] [Warning] No further splits with positive gain, best gain: -inf\n",
      "[LightGBM] [Warning] No further splits with positive gain, best gain: -inf\n",
      "[LightGBM] [Warning] No further splits with positive gain, best gain: -inf\n",
      "[LightGBM] [Warning] No further splits with positive gain, best gain: -inf\n",
      "[LightGBM] [Warning] No further splits with positive gain, best gain: -inf\n",
      "[LightGBM] [Warning] No further splits with positive gain, best gain: -inf\n",
      "[LightGBM] [Warning] No further splits with positive gain, best gain: -inf\n",
      "[LightGBM] [Warning] No further splits with positive gain, best gain: -inf\n",
      "[LightGBM] [Warning] No further splits with positive gain, best gain: -inf\n",
      "[LightGBM] [Warning] No further splits with positive gain, best gain: -inf\n",
      "[LightGBM] [Warning] No further splits with positive gain, best gain: -inf\n",
      "[LightGBM] [Warning] No further splits with positive gain, best gain: -inf\n",
      "[LightGBM] [Warning] No further splits with positive gain, best gain: -inf\n",
      "[LightGBM] [Warning] No further splits with positive gain, best gain: -inf\n",
      "[LightGBM] [Warning] No further splits with positive gain, best gain: -inf\n",
      "[LightGBM] [Warning] No further splits with positive gain, best gain: -inf\n",
      "[LightGBM] [Warning] No further splits with positive gain, best gain: -inf\n",
      "[LightGBM] [Warning] No further splits with positive gain, best gain: -inf\n",
      "[LightGBM] [Warning] No further splits with positive gain, best gain: -inf\n",
      "[LightGBM] [Warning] No further splits with positive gain, best gain: -inf\n",
      "[LightGBM] [Warning] No further splits with positive gain, best gain: -inf\n",
      "[LightGBM] [Warning] No further splits with positive gain, best gain: -inf\n",
      "[LightGBM] [Warning] No further splits with positive gain, best gain: -inf\n",
      "[LightGBM] [Warning] No further splits with positive gain, best gain: -inf\n",
      "[LightGBM] [Warning] No further splits with positive gain, best gain: -inf\n",
      "[LightGBM] [Warning] No further splits with positive gain, best gain: -inf\n",
      "[LightGBM] [Warning] No further splits with positive gain, best gain: -inf\n",
      "[LightGBM] [Warning] No further splits with positive gain, best gain: -inf\n",
      "[LightGBM] [Warning] No further splits with positive gain, best gain: -inf\n",
      "[LightGBM] [Warning] No further splits with positive gain, best gain: -inf\n",
      "[LightGBM] [Warning] No further splits with positive gain, best gain: -inf\n",
      "[LightGBM] [Warning] No further splits with positive gain, best gain: -inf\n",
      "[LightGBM] [Warning] No further splits with positive gain, best gain: -inf\n",
      "[LightGBM] [Warning] No further splits with positive gain, best gain: -inf\n",
      "[LightGBM] [Warning] No further splits with positive gain, best gain: -inf\n",
      "[LightGBM] [Warning] No further splits with positive gain, best gain: -inf\n",
      "[LightGBM] [Warning] No further splits with positive gain, best gain: -inf\n",
      "[LightGBM] [Warning] No further splits with positive gain, best gain: -inf\n",
      "[LightGBM] [Warning] No further splits with positive gain, best gain: -inf\n",
      "[LightGBM] [Warning] No further splits with positive gain, best gain: -inf\n",
      "[LightGBM] [Warning] No further splits with positive gain, best gain: -inf\n",
      "[LightGBM] [Warning] No further splits with positive gain, best gain: -inf\n",
      "[LightGBM] [Warning] No further splits with positive gain, best gain: -inf\n",
      "[LightGBM] [Warning] No further splits with positive gain, best gain: -inf\n",
      "[LightGBM] [Warning] No further splits with positive gain, best gain: -inf\n",
      "[LightGBM] [Warning] No further splits with positive gain, best gain: -inf\n",
      "[LightGBM] [Warning] No further splits with positive gain, best gain: -inf\n",
      "[LightGBM] [Warning] No further splits with positive gain, best gain: -inf\n",
      "[LightGBM] [Warning] No further splits with positive gain, best gain: -inf\n",
      "[LightGBM] [Warning] No further splits with positive gain, best gain: -inf\n",
      "[LightGBM] [Warning] No further splits with positive gain, best gain: -inf\n",
      "[LightGBM] [Warning] No further splits with positive gain, best gain: -inf\n",
      "[LightGBM] [Warning] No further splits with positive gain, best gain: -inf\n",
      "[LightGBM] [Warning] No further splits with positive gain, best gain: -inf\n",
      "[LightGBM] [Warning] No further splits with positive gain, best gain: -inf\n",
      "[LightGBM] [Warning] No further splits with positive gain, best gain: -inf\n",
      "[LightGBM] [Warning] No further splits with positive gain, best gain: -inf\n",
      "[LightGBM] [Warning] No further splits with positive gain, best gain: -inf\n",
      "[LightGBM] [Warning] No further splits with positive gain, best gain: -inf\n",
      "[LightGBM] [Warning] No further splits with positive gain, best gain: -inf\n",
      "[LightGBM] [Warning] No further splits with positive gain, best gain: -inf\n",
      "[LightGBM] [Warning] No further splits with positive gain, best gain: -inf\n",
      "[LightGBM] [Warning] No further splits with positive gain, best gain: -inf\n",
      "[LightGBM] [Warning] No further splits with positive gain, best gain: -inf\n",
      "[LightGBM] [Warning] No further splits with positive gain, best gain: -inf\n",
      "[LightGBM] [Warning] No further splits with positive gain, best gain: -inf\n",
      "[LightGBM] [Warning] No further splits with positive gain, best gain: -inf\n",
      "[LightGBM] [Warning] No further splits with positive gain, best gain: -inf\n",
      "[LightGBM] [Warning] No further splits with positive gain, best gain: -inf\n",
      "[LightGBM] [Warning] No further splits with positive gain, best gain: -inf\n",
      "[LightGBM] [Warning] No further splits with positive gain, best gain: -inf\n",
      "[LightGBM] [Warning] No further splits with positive gain, best gain: -inf\n",
      "[LightGBM] [Warning] No further splits with positive gain, best gain: -inf\n",
      "[LightGBM] [Warning] No further splits with positive gain, best gain: -inf\n",
      "[LightGBM] [Warning] No further splits with positive gain, best gain: -inf\n",
      "[LightGBM] [Warning] No further splits with positive gain, best gain: -inf\n",
      "[LightGBM] [Warning] No further splits with positive gain, best gain: -inf\n",
      "[LightGBM] [Warning] No further splits with positive gain, best gain: -inf\n",
      "[LightGBM] [Warning] No further splits with positive gain, best gain: -inf\n",
      "[LightGBM] [Warning] No further splits with positive gain, best gain: -inf\n",
      "[LightGBM] [Warning] No further splits with positive gain, best gain: -inf\n",
      "[LightGBM] [Warning] No further splits with positive gain, best gain: -inf\n",
      "[LightGBM] [Warning] No further splits with positive gain, best gain: -inf\n",
      "[LightGBM] [Warning] No further splits with positive gain, best gain: -inf\n",
      "[LightGBM] [Warning] No further splits with positive gain, best gain: -inf\n",
      "[LightGBM] [Warning] No further splits with positive gain, best gain: -inf\n",
      "[LightGBM] [Warning] No further splits with positive gain, best gain: -inf\n",
      "[LightGBM] [Warning] No further splits with positive gain, best gain: -inf\n",
      "[LightGBM] [Warning] No further splits with positive gain, best gain: -inf\n",
      "[LightGBM] [Warning] No further splits with positive gain, best gain: -inf\n",
      "[LightGBM] [Warning] No further splits with positive gain, best gain: -inf\n",
      "[LightGBM] [Warning] No further splits with positive gain, best gain: -inf\n",
      "[LightGBM] [Warning] No further splits with positive gain, best gain: -inf\n",
      "[LightGBM] [Warning] No further splits with positive gain, best gain: -inf\n",
      "[LightGBM] [Warning] No further splits with positive gain, best gain: -inf\n",
      "[LightGBM] [Warning] No further splits with positive gain, best gain: -inf\n",
      "[LightGBM] [Warning] No further splits with positive gain, best gain: -inf\n",
      "[LightGBM] [Warning] No further splits with positive gain, best gain: -inf\n",
      "[LightGBM] [Warning] No further splits with positive gain, best gain: -inf\n",
      "[LightGBM] [Warning] No further splits with positive gain, best gain: -inf\n",
      "[LightGBM] [Warning] No further splits with positive gain, best gain: -inf\n",
      "[LightGBM] [Warning] No further splits with positive gain, best gain: -inf\n",
      "[LightGBM] [Warning] No further splits with positive gain, best gain: -inf\n",
      "[LightGBM] [Warning] No further splits with positive gain, best gain: -inf\n",
      "[LightGBM] [Warning] No further splits with positive gain, best gain: -inf\n",
      "[LightGBM] [Warning] No further splits with positive gain, best gain: -inf\n",
      "[LightGBM] [Warning] No further splits with positive gain, best gain: -inf\n",
      "[LightGBM] [Warning] No further splits with positive gain, best gain: -inf\n",
      "[LightGBM] [Warning] No further splits with positive gain, best gain: -inf\n",
      "[LightGBM] [Warning] No further splits with positive gain, best gain: -inf\n",
      "[LightGBM] [Warning] No further splits with positive gain, best gain: -inf\n",
      "[LightGBM] [Warning] No further splits with positive gain, best gain: -inf\n",
      "[LightGBM] [Warning] No further splits with positive gain, best gain: -inf\n",
      "[LightGBM] [Warning] No further splits with positive gain, best gain: -inf\n",
      "[LightGBM] [Warning] No further splits with positive gain, best gain: -inf\n",
      "[LightGBM] [Warning] No further splits with positive gain, best gain: -inf\n",
      "[LightGBM] [Warning] No further splits with positive gain, best gain: -inf\n",
      "[LightGBM] [Warning] No further splits with positive gain, best gain: -inf\n",
      "[LightGBM] [Warning] No further splits with positive gain, best gain: -inf\n",
      "[LightGBM] [Warning] No further splits with positive gain, best gain: -inf\n",
      "[LightGBM] [Warning] No further splits with positive gain, best gain: -inf\n",
      "[LightGBM] [Warning] No further splits with positive gain, best gain: -inf\n",
      "[LightGBM] [Warning] No further splits with positive gain, best gain: -inf\n",
      "[LightGBM] [Warning] No further splits with positive gain, best gain: -inf\n",
      "[LightGBM] [Warning] No further splits with positive gain, best gain: -inf\n",
      "[LightGBM] [Warning] No further splits with positive gain, best gain: -inf\n",
      "[LightGBM] [Warning] No further splits with positive gain, best gain: -inf\n",
      "[LightGBM] [Warning] No further splits with positive gain, best gain: -inf\n",
      "[LightGBM] [Warning] No further splits with positive gain, best gain: -inf\n",
      "[LightGBM] [Warning] No further splits with positive gain, best gain: -inf\n",
      "[LightGBM] [Warning] No further splits with positive gain, best gain: -inf\n",
      "[LightGBM] [Warning] No further splits with positive gain, best gain: -inf\n",
      "[LightGBM] [Warning] No further splits with positive gain, best gain: -inf\n",
      "[LightGBM] [Warning] No further splits with positive gain, best gain: -inf\n",
      "[LightGBM] [Warning] No further splits with positive gain, best gain: -inf\n",
      "[LightGBM] [Warning] No further splits with positive gain, best gain: -inf\n",
      "[LightGBM] [Warning] No further splits with positive gain, best gain: -inf\n",
      "[LightGBM] [Warning] No further splits with positive gain, best gain: -inf\n",
      "[LightGBM] [Warning] No further splits with positive gain, best gain: -inf\n",
      "[LightGBM] [Warning] No further splits with positive gain, best gain: -inf\n",
      "[LightGBM] [Warning] No further splits with positive gain, best gain: -inf\n",
      "[LightGBM] [Warning] No further splits with positive gain, best gain: -inf\n",
      "[LightGBM] [Warning] No further splits with positive gain, best gain: -inf\n",
      "[LightGBM] [Warning] No further splits with positive gain, best gain: -inf\n",
      "[LightGBM] [Warning] No further splits with positive gain, best gain: -inf\n",
      "[LightGBM] [Warning] No further splits with positive gain, best gain: -inf\n",
      "[LightGBM] [Warning] No further splits with positive gain, best gain: -inf\n",
      "[LightGBM] [Warning] No further splits with positive gain, best gain: -inf\n",
      "[LightGBM] [Warning] No further splits with positive gain, best gain: -inf\n",
      "[LightGBM] [Warning] No further splits with positive gain, best gain: -inf\n",
      "[LightGBM] [Warning] No further splits with positive gain, best gain: -inf\n",
      "[LightGBM] [Warning] No further splits with positive gain, best gain: -inf\n",
      "[LightGBM] [Warning] No further splits with positive gain, best gain: -inf\n",
      "[LightGBM] [Warning] No further splits with positive gain, best gain: -inf\n",
      "[LightGBM] [Warning] No further splits with positive gain, best gain: -inf\n",
      "[LightGBM] [Warning] No further splits with positive gain, best gain: -inf\n",
      "[LightGBM] [Warning] No further splits with positive gain, best gain: -inf\n",
      "[LightGBM] [Warning] No further splits with positive gain, best gain: -inf\n",
      "[LightGBM] [Warning] No further splits with positive gain, best gain: -inf\n",
      "[LightGBM] [Warning] No further splits with positive gain, best gain: -inf\n",
      "[LightGBM] [Warning] No further splits with positive gain, best gain: -inf\n",
      "[LightGBM] [Warning] No further splits with positive gain, best gain: -inf\n",
      "[LightGBM] [Warning] No further splits with positive gain, best gain: -inf\n",
      "[LightGBM] [Warning] No further splits with positive gain, best gain: -inf\n",
      "[LightGBM] [Warning] No further splits with positive gain, best gain: -inf\n",
      "[LightGBM] [Warning] No further splits with positive gain, best gain: -inf\n",
      "[LightGBM] [Warning] No further splits with positive gain, best gain: -inf\n",
      "[LightGBM] [Warning] No further splits with positive gain, best gain: -inf\n",
      "[LightGBM] [Warning] No further splits with positive gain, best gain: -inf\n",
      "Лучшие гиперпараметры:  {'boosting_type': 'gbdt', 'force_col_wise': True, 'learning_rate': 0.7, 'max_depth': 4, 'num_leaves': 70, 'random_state': 120922, 'verbose': 0}\n",
      "ROC_AUC: 0.9163356272442787\n"
     ]
    },
    {
     "name": "stderr",
     "output_type": "stream",
     "text": [
      "C:\\Users\\Сергей\\AppData\\Local\\Programs\\Python\\Python39\\lib\\site-packages\\lightgbm\\basic.py:2065: UserWarning: Using categorical_feature in Dataset.\n",
      "  _log_warning('Using categorical_feature in Dataset.')\n"
     ]
    }
   ],
   "source": [
    "grid_lgbm.fit(features_train_lgbm, target_train_lgbm,\n",
    "             categorical_feature=categorical_feature)\n",
    "print('Лучшие гиперпараметры: ', grid_lgbm.best_params_)\n",
    "print('ROC_AUC:', grid_lgbm.best_score_)"
   ]
  },
  {
   "cell_type": "markdown",
   "id": "ba0e8264",
   "metadata": {},
   "source": [
    "### Тестирование модели"
   ]
  },
  {
   "cell_type": "markdown",
   "id": "c107f8c3",
   "metadata": {},
   "source": [
    "Наибольшая метрика ROC_AUC на валидационной выборке у модели CatBoost - 0.944, протестируем её:"
   ]
  },
  {
   "cell_type": "markdown",
   "id": "f38173c1",
   "metadata": {},
   "source": [
    "Обучим модель с лучшими гиперпараметрами:"
   ]
  },
  {
   "cell_type": "code",
   "execution_count": 70,
   "id": "e88ea9ad",
   "metadata": {},
   "outputs": [
    {
     "data": {
      "text/plain": [
       "<catboost.core.CatBoostClassifier at 0x210b613bcd0>"
      ]
     },
     "execution_count": 70,
     "metadata": {},
     "output_type": "execute_result"
    }
   ],
   "source": [
    "model = CatBoostClassifier(**grid_cat.best_params_)\n",
    "model.fit(features_train,\n",
    "          target_train,\n",
    "          cat_features=cat_features,\n",
    "          plot=False)"
   ]
  },
  {
   "cell_type": "code",
   "execution_count": 71,
   "id": "76552fdb",
   "metadata": {},
   "outputs": [],
   "source": [
    "pred_test = model.predict(features_test)"
   ]
  },
  {
   "cell_type": "markdown",
   "id": "868a3a52",
   "metadata": {},
   "source": [
    "Построим ROC-кривую и найдем площаль под кривой:"
   ]
  },
  {
   "cell_type": "code",
   "execution_count": 72,
   "id": "21f73322",
   "metadata": {},
   "outputs": [
    {
     "data": {
      "image/png": "[encoded data removed]",
      "text/plain": [
       "<Figure size 432x288 with 1 Axes>"
      ]
     },
     "metadata": {
      "needs_background": "light"
     },
     "output_type": "display_data"
    },
    {
     "name": "stdout",
     "output_type": "stream",
     "text": [
      "Площаль под ROC-кривой: 0.9542965050414913\n"
     ]
    }
   ],
   "source": [
    "probabilities_test = model.predict_proba(features_test)\n",
    "probabilities_one_test = probabilities_test[:, 1]\n",
    "fpr, tpr, thresholds = roc_curve(target_test, probabilities_one_test)\n",
    "plt.figure()\n",
    "plt.plot(fpr, tpr)\n",
    "plt.xlim([0.0, 1.0])\n",
    "plt.ylim([0.0, 1.0])\n",
    "plt.plot([0, 1], [0, 1], linestyle='--')\n",
    "plt.xlabel('False Positive Rate')\n",
    "plt.ylabel('True Positive Rate')\n",
    "plt.title('ROC-кривая')\n",
    "plt.show()\n",
    "auc_roc = roc_auc_score(target_test, probabilities_one_test)\n",
    "print('Площаль под ROC-кривой:', auc_roc)"
   ]
  },
  {
   "cell_type": "code",
   "execution_count": 73,
   "id": "620c4d79",
   "metadata": {},
   "outputs": [
    {
     "data": {
      "text/plain": [
       "0.9089874857792947"
      ]
     },
     "execution_count": 73,
     "metadata": {},
     "output_type": "execute_result"
    }
   ],
   "source": [
    "accuracy_score(target_test, pred_test)"
   ]
  },
  {
   "cell_type": "markdown",
   "id": "5907ec69",
   "metadata": {},
   "source": [
    "## Итоги:\n",
    "* Были выгружены данные и предобработаны;\n",
    "* Был проведен исследовательский анализ данных, с обнаружением различных зависимостей на целевой признак, например зависимость оттока от тарифа;\n",
    "* Было обнаружено что некоторые признаки, например пол клиента, не влияют на целевой признак, такие признаки были удалены;\n",
    "* Модель была обучена, площаль под ROC-кривой составляет: 0.956, accuracy составляет: 0.913\n",
    "* Было обнаружено что средняя месячная оплата клиентов которые разрывают контракт гораздо выше клиентов которые остаются, существует задел чтобы дать клиентам скидку ради их удержания."
   ]
  },
  {
   "cell_type": "markdown",
   "id": "57befab7",
   "metadata": {},
   "source": [
    "## Отчет по решению"
   ]
  },
  {
   "cell_type": "markdown",
   "id": "aaa7b32e",
   "metadata": {},
   "source": [
    "### Этап описания пректа\n",
    "Перед нами стоит задача прогнозирования оттока клиентов. Для пользователей планирующих уйти могут быть предложены промокоды и специальные условия. Необходимо выполнить модель прогнозирования оттока на основе персональных данных о некоторых клиентах, информации об их тарифах и договорах."
   ]
  },
  {
   "cell_type": "markdown",
   "id": "c9028ac4",
   "metadata": {},
   "source": [
    "### Этап исследования данных\n",
    "##### Предобработка данных\n",
    "<div class=\"alert alert-info\">\n",
    "<h2> Комментарий студента<a class=\"tocSkip\"></h2>\n",
    "<hr>  \n",
    "    При загрузке данных идентификаторы пользователей customerID были использованы как индексы таблиц, и небыли использованы в анализе данных и при обучении модели.\n",
    "</div>\n",
    "    На данном этапе была выполнена предобработка данных, изменен формат для данных заключения договора в таблице contract_df, также в числовой формат приведены общие затраты.\n",
    "* характерный момент, что в данных существовали пользователи, которые подключились в день выгрузки данных, такие пользователи были удалены из данных\n",
    "\n",
    "Из столбца окончания контракта был выделен целевой признак для оттока, если наступила дата окончания контракта - значит наступило целевое событие.\n",
    "<div class=\"alert alert-info\">\n",
    "<h2> Комментарий студента<a class=\"tocSkip\"></h2>\n",
    "<hr>  \n",
    "    После выделения целевого признака из столбца EndDate сам столбец EndDate был исключен из данных и не использовался при обучении модели.\n",
    "</div>\n",
    "После предобработки все таблицы были объеденены в одну таблицу.\n",
    "\n",
    "    \n",
    " ##### Анализ данных\n",
    "Был рассмотрен график притока пользователей, он показал что с 2018 года был резкий прирост новых клиентов, рост был обусловлен подключением клиентов к тарифу с месячной оплатой. Далее был исследован отток пользователей, за все время он составляет 26%, большую часть оттока составляют люди зарегестрировашиеся в 2018-2019 годы (максимального роста клиентской базы), анализ группы оттока показал что больше всего в данной группе клиентов которые подключены также к тарифу с месячной оплатой. \n",
    "\n",
    "Далее было проанализировано, чем отличается группа оттока от клиентов, которые не разрывают контракты. Было изучено влияние полового признака, наличие партнера, иждевенцев, а также пенсионный статус. Также были проанализировано то, как пользуются клиенты дополнительными услугами, оказалось, что среди активных и ушедших клиентов использование услуг различно, из-за чего в группе оттока наблюдается эффект превышения среднемесячных трат, по сравнению с пользователями активной группы.\n",
    "\n",
    "Анализ показыл, что меньше всего разницы в оттоке при делении по категориям gender, StreamingTV, StreamingMovies, PaymentMethod и MultipleLines. Также одним из выводов исследования является то, что существует сильная зависимость оттока от текущего тарифного плана, также сильно влияет профиль самого клиента, есть ли у него партнер, пенсионер ли он.\n",
    "\n",
    "Признаки gender, StreamingTV, StreamingMovies, PaymentMethod и MultipleLines были удалены при составлении обучающей выборки."
   ]
  },
  {
   "cell_type": "markdown",
   "id": "322c4108",
   "metadata": {},
   "source": [
    "### Этап обучения модели\n",
    "Было обучено две модели (CatBoost и LGBM), перед обучением пропуски в категориальных признаках были заполнены специально введенной категорией 'NaN', выборки разделены на обучающую и тестовую, объем тестовой выборки составил 25% от всех данных. На каждой модели выполнен поиск оптимальных гипер-параметров методом кросс-валидации.\n",
    "Лучшие гиперпараметры моделей и метрики на обучающей выборке составили:\n",
    "\n",
    "#### Для модели CatBoost:\n",
    "* learning_rate - 0.7;\n",
    "* logging_level - 'Silent';\n",
    "* max_depth - 2;\n",
    "* random_seed - 120922;\n",
    "* ROC_AUC: 0.9446.\n",
    "\n",
    "#### Для модели LGBM:\n",
    "* boosting_type - gbdt;\n",
    "* force_col_wise - True;\n",
    "* learning_rate - 0.7;\n",
    "* num_leaves - 70;\n",
    "* max_depth - 4;\n",
    "* random_seed - 120922;\n",
    "* verbose - 0\n",
    "* ROC_AUC: 0.9163.\n",
    "\n",
    "#### Итоги\n",
    "По итогам была выбрана модель CatBoost так как показала лучшие метрики при кросс-валидации, далее модель была протестирована на тестовой выборке и метрики составили:\n",
    "* Площаль под ROC-кривой: 0.956\n",
    "* accuracy = 0.9129"
   ]
  },
  {
   "cell_type": "markdown",
   "id": "1693e05a",
   "metadata": {},
   "source": [
    "### Трудности при выполнении проекта:\n",
    "Наиболее трудным оказался этап исследования данных, нужно было разобраться в каждом признаке, исправить типы данных, а также искать в данных зависимости и закономерности, а также интерпретировать их."
   ]
  },
  {
   "cell_type": "markdown",
   "id": "af890430",
   "metadata": {},
   "source": [
    "### Сопоставление итогового решения и первоначального плана:\n",
    "Первоначальный план состоял из пунктов:\n",
    "* выполнить предобработку данных, поменять форматы данных, выполнить анализ признаков;\n",
    "* выделить целевой признак в данных;\n",
    "* объединить таблицы в одну, обучить модель, проанализировать результаты.\n",
    "Все пункты плана были выполнены, ключевым шагом являются предобработка данных и предварительный анализ данных."
   ]
  }
 ],
 "metadata": {
  "ExecuteTimeLog": [
   {
    "duration": 1832,
    "start_time": "2022-09-19T19:46:37.744Z"
   },
   {
    "duration": 290,
    "start_time": "2022-09-19T19:46:40.804Z"
   },
   {
    "duration": 1873,
    "start_time": "2022-09-20T17:58:00.604Z"
   },
   {
    "duration": 703,
    "start_time": "2022-09-20T17:58:02.479Z"
   },
   {
    "duration": 22,
    "start_time": "2022-09-20T17:58:03.184Z"
   },
   {
    "duration": 51,
    "start_time": "2022-09-20T17:58:03.213Z"
   },
   {
    "duration": 13,
    "start_time": "2022-09-20T17:58:03.267Z"
   },
   {
    "duration": 15,
    "start_time": "2022-09-20T17:58:03.282Z"
   },
   {
    "duration": 43,
    "start_time": "2022-09-20T17:58:03.299Z"
   },
   {
    "duration": 16,
    "start_time": "2022-09-20T17:58:03.344Z"
   },
   {
    "duration": 16,
    "start_time": "2022-09-20T17:58:03.362Z"
   },
   {
    "duration": 8,
    "start_time": "2022-09-20T17:58:03.382Z"
   },
   {
    "duration": 9,
    "start_time": "2022-09-20T17:58:03.391Z"
   },
   {
    "duration": 38,
    "start_time": "2022-09-20T17:58:03.402Z"
   },
   {
    "duration": 22,
    "start_time": "2022-09-20T17:58:03.442Z"
   },
   {
    "duration": 5,
    "start_time": "2022-09-20T17:58:03.466Z"
   },
   {
    "duration": 12,
    "start_time": "2022-09-20T17:58:03.472Z"
   },
   {
    "duration": 8,
    "start_time": "2022-09-20T17:58:03.485Z"
   },
   {
    "duration": 43,
    "start_time": "2022-09-20T17:58:03.495Z"
   },
   {
    "duration": 15,
    "start_time": "2022-09-20T17:58:03.540Z"
   },
   {
    "duration": 17,
    "start_time": "2022-09-20T17:58:03.557Z"
   },
   {
    "duration": 16,
    "start_time": "2022-09-20T17:58:03.576Z"
   },
   {
    "duration": 241,
    "start_time": "2022-09-20T17:58:03.599Z"
   },
   {
    "duration": 263,
    "start_time": "2022-09-20T17:58:03.842Z"
   },
   {
    "duration": 12,
    "start_time": "2022-09-20T17:58:04.113Z"
   },
   {
    "duration": 22,
    "start_time": "2022-09-20T17:58:04.127Z"
   },
   {
    "duration": 14,
    "start_time": "2022-09-20T17:58:04.150Z"
   },
   {
    "duration": 19,
    "start_time": "2022-09-20T17:58:04.165Z"
   },
   {
    "duration": 29,
    "start_time": "2022-09-20T17:58:04.185Z"
   },
   {
    "duration": 23,
    "start_time": "2022-09-20T17:58:04.227Z"
   },
   {
    "duration": 5,
    "start_time": "2022-09-20T17:58:04.252Z"
   },
   {
    "duration": 39,
    "start_time": "2022-09-20T17:58:04.259Z"
   },
   {
    "duration": 42,
    "start_time": "2022-09-20T17:58:04.300Z"
   },
   {
    "duration": 26,
    "start_time": "2022-09-20T17:58:04.346Z"
   },
   {
    "duration": 32,
    "start_time": "2022-09-20T17:58:04.375Z"
   },
   {
    "duration": 30,
    "start_time": "2022-09-20T17:58:04.417Z"
   },
   {
    "duration": 25,
    "start_time": "2022-09-20T17:58:04.448Z"
   },
   {
    "duration": 39,
    "start_time": "2022-09-20T17:58:04.474Z"
   },
   {
    "duration": 36,
    "start_time": "2022-09-20T17:58:04.515Z"
   },
   {
    "duration": 23,
    "start_time": "2022-09-20T17:58:04.553Z"
   },
   {
    "duration": 38,
    "start_time": "2022-09-20T17:58:04.577Z"
   },
   {
    "duration": 24,
    "start_time": "2022-09-20T17:58:04.623Z"
   },
   {
    "duration": 14,
    "start_time": "2022-09-20T17:58:04.649Z"
   },
   {
    "duration": 13,
    "start_time": "2022-09-20T17:58:04.665Z"
   },
   {
    "duration": 3,
    "start_time": "2022-09-20T17:58:04.679Z"
   },
   {
    "duration": 201,
    "start_time": "2022-09-20T17:58:04.707Z"
   },
   {
    "duration": 6,
    "start_time": "2022-09-20T17:58:04.910Z"
   },
   {
    "duration": 9,
    "start_time": "2022-09-20T17:58:04.919Z"
   },
   {
    "duration": 12,
    "start_time": "2022-09-20T17:58:04.930Z"
   },
   {
    "duration": 5,
    "start_time": "2022-09-20T17:58:04.945Z"
   },
   {
    "duration": 12,
    "start_time": "2022-09-20T17:58:04.952Z"
   },
   {
    "duration": 57075,
    "start_time": "2022-09-20T17:58:04.967Z"
   },
   {
    "duration": 5978,
    "start_time": "2022-09-20T17:59:02.044Z"
   },
   {
    "duration": 13,
    "start_time": "2022-09-20T17:59:08.024Z"
   },
   {
    "duration": 160,
    "start_time": "2022-09-20T17:59:08.039Z"
   },
   {
    "duration": 9,
    "start_time": "2022-09-20T17:59:08.201Z"
   },
   {
    "duration": 22,
    "start_time": "2022-09-20T17:59:08.212Z"
   },
   {
    "duration": 23,
    "start_time": "2022-09-20T17:59:08.236Z"
   },
   {
    "duration": 7,
    "start_time": "2022-09-20T17:59:08.261Z"
   },
   {
    "duration": 5,
    "start_time": "2022-09-20T17:59:08.270Z"
   },
   {
    "duration": 31,
    "start_time": "2022-09-20T17:59:08.276Z"
   },
   {
    "duration": 14,
    "start_time": "2022-09-20T17:59:08.316Z"
   },
   {
    "duration": 12,
    "start_time": "2022-09-20T17:59:08.332Z"
   },
   {
    "duration": 5,
    "start_time": "2022-09-20T17:59:08.345Z"
   },
   {
    "duration": 1471,
    "start_time": "2022-09-20T18:10:08.905Z"
   },
   {
    "duration": 155,
    "start_time": "2022-09-20T18:10:10.378Z"
   },
   {
    "duration": 13,
    "start_time": "2022-09-20T18:10:10.535Z"
   },
   {
    "duration": 16,
    "start_time": "2022-09-20T18:10:10.551Z"
   },
   {
    "duration": 11,
    "start_time": "2022-09-20T18:10:10.569Z"
   },
   {
    "duration": 9,
    "start_time": "2022-09-20T18:10:10.582Z"
   },
   {
    "duration": 26,
    "start_time": "2022-09-20T18:10:10.593Z"
   },
   {
    "duration": 9,
    "start_time": "2022-09-20T18:10:10.621Z"
   },
   {
    "duration": 10,
    "start_time": "2022-09-20T18:10:10.632Z"
   },
   {
    "duration": 7,
    "start_time": "2022-09-20T18:10:10.644Z"
   },
   {
    "duration": 7,
    "start_time": "2022-09-20T18:10:10.653Z"
   },
   {
    "duration": 6,
    "start_time": "2022-09-20T18:10:10.661Z"
   },
   {
    "duration": 36,
    "start_time": "2022-09-20T18:10:10.669Z"
   },
   {
    "duration": 6,
    "start_time": "2022-09-20T18:10:10.707Z"
   },
   {
    "duration": 8,
    "start_time": "2022-09-20T18:10:10.715Z"
   },
   {
    "duration": 8,
    "start_time": "2022-09-20T18:10:10.724Z"
   },
   {
    "duration": 13,
    "start_time": "2022-09-20T18:10:10.734Z"
   },
   {
    "duration": 23,
    "start_time": "2022-09-20T18:10:10.749Z"
   },
   {
    "duration": 40,
    "start_time": "2022-09-20T18:10:10.773Z"
   },
   {
    "duration": 18,
    "start_time": "2022-09-20T18:10:10.815Z"
   },
   {
    "duration": 225,
    "start_time": "2022-09-20T18:10:10.835Z"
   },
   {
    "duration": 202,
    "start_time": "2022-09-20T18:10:11.062Z"
   },
   {
    "duration": 5,
    "start_time": "2022-09-20T18:10:11.265Z"
   },
   {
    "duration": 34,
    "start_time": "2022-09-20T18:10:11.271Z"
   },
   {
    "duration": 13,
    "start_time": "2022-09-20T18:10:11.307Z"
   },
   {
    "duration": 17,
    "start_time": "2022-09-20T18:10:11.322Z"
   },
   {
    "duration": 12,
    "start_time": "2022-09-20T18:10:11.341Z"
   },
   {
    "duration": 50,
    "start_time": "2022-09-20T18:10:11.357Z"
   },
   {
    "duration": 3,
    "start_time": "2022-09-20T18:10:11.409Z"
   },
   {
    "duration": 20,
    "start_time": "2022-09-20T18:10:11.414Z"
   },
   {
    "duration": 16,
    "start_time": "2022-09-20T18:10:11.436Z"
   },
   {
    "duration": 20,
    "start_time": "2022-09-20T18:10:11.453Z"
   },
   {
    "duration": 40,
    "start_time": "2022-09-20T18:10:11.474Z"
   },
   {
    "duration": 25,
    "start_time": "2022-09-20T18:10:11.515Z"
   },
   {
    "duration": 28,
    "start_time": "2022-09-20T18:10:11.542Z"
   },
   {
    "duration": 41,
    "start_time": "2022-09-20T18:10:11.572Z"
   },
   {
    "duration": 24,
    "start_time": "2022-09-20T18:10:11.615Z"
   },
   {
    "duration": 23,
    "start_time": "2022-09-20T18:10:11.640Z"
   },
   {
    "duration": 53,
    "start_time": "2022-09-20T18:10:11.665Z"
   },
   {
    "duration": 15,
    "start_time": "2022-09-20T18:10:11.720Z"
   },
   {
    "duration": 22,
    "start_time": "2022-09-20T18:10:11.737Z"
   },
   {
    "duration": 14,
    "start_time": "2022-09-20T18:10:11.761Z"
   },
   {
    "duration": 33,
    "start_time": "2022-09-20T18:10:11.776Z"
   },
   {
    "duration": 153,
    "start_time": "2022-09-20T18:10:11.811Z"
   },
   {
    "duration": 4,
    "start_time": "2022-09-20T18:10:11.966Z"
   },
   {
    "duration": 5,
    "start_time": "2022-09-20T18:10:11.972Z"
   },
   {
    "duration": 29,
    "start_time": "2022-09-20T18:10:11.979Z"
   },
   {
    "duration": 20,
    "start_time": "2022-09-20T18:10:12.010Z"
   },
   {
    "duration": 41,
    "start_time": "2022-09-20T18:10:12.032Z"
   },
   {
    "duration": 53109,
    "start_time": "2022-09-20T18:10:12.075Z"
   },
   {
    "duration": 5494,
    "start_time": "2022-09-20T18:11:05.185Z"
   },
   {
    "duration": 3,
    "start_time": "2022-09-20T18:11:10.681Z"
   },
   {
    "duration": 141,
    "start_time": "2022-09-20T18:11:10.686Z"
   },
   {
    "duration": 122,
    "start_time": "2022-09-20T18:11:10.829Z"
   },
   {
    "duration": 0,
    "start_time": "2022-09-20T18:11:10.953Z"
   },
   {
    "duration": 0,
    "start_time": "2022-09-20T18:11:10.953Z"
   },
   {
    "duration": 0,
    "start_time": "2022-09-20T18:11:10.955Z"
   },
   {
    "duration": 0,
    "start_time": "2022-09-20T18:11:10.955Z"
   },
   {
    "duration": 0,
    "start_time": "2022-09-20T18:11:10.956Z"
   },
   {
    "duration": 0,
    "start_time": "2022-09-20T18:11:10.957Z"
   },
   {
    "duration": 0,
    "start_time": "2022-09-20T18:11:10.958Z"
   },
   {
    "duration": 0,
    "start_time": "2022-09-20T18:11:10.960Z"
   },
   {
    "duration": 0,
    "start_time": "2022-09-20T18:11:10.961Z"
   },
   {
    "duration": 0,
    "start_time": "2022-09-20T18:11:10.962Z"
   },
   {
    "duration": 0,
    "start_time": "2022-09-20T18:11:10.963Z"
   },
   {
    "duration": 0,
    "start_time": "2022-09-20T18:11:10.964Z"
   },
   {
    "duration": 14,
    "start_time": "2022-09-20T18:13:19.293Z"
   },
   {
    "duration": 11,
    "start_time": "2022-09-20T18:13:24.868Z"
   },
   {
    "duration": 13,
    "start_time": "2022-09-20T18:13:28.690Z"
   },
   {
    "duration": 1535,
    "start_time": "2022-09-20T18:18:35.639Z"
   },
   {
    "duration": 175,
    "start_time": "2022-09-20T18:18:37.177Z"
   },
   {
    "duration": 13,
    "start_time": "2022-09-20T18:18:37.354Z"
   },
   {
    "duration": 16,
    "start_time": "2022-09-20T18:18:37.368Z"
   },
   {
    "duration": 21,
    "start_time": "2022-09-20T18:18:37.386Z"
   },
   {
    "duration": 12,
    "start_time": "2022-09-20T18:18:37.410Z"
   },
   {
    "duration": 12,
    "start_time": "2022-09-20T18:18:37.423Z"
   },
   {
    "duration": 11,
    "start_time": "2022-09-20T18:18:37.436Z"
   },
   {
    "duration": 13,
    "start_time": "2022-09-20T18:18:37.449Z"
   },
   {
    "duration": 8,
    "start_time": "2022-09-20T18:18:37.464Z"
   },
   {
    "duration": 7,
    "start_time": "2022-09-20T18:18:37.474Z"
   },
   {
    "duration": 27,
    "start_time": "2022-09-20T18:18:37.482Z"
   },
   {
    "duration": 14,
    "start_time": "2022-09-20T18:18:37.510Z"
   },
   {
    "duration": 4,
    "start_time": "2022-09-20T18:18:37.528Z"
   },
   {
    "duration": 6,
    "start_time": "2022-09-20T18:18:37.533Z"
   },
   {
    "duration": 5,
    "start_time": "2022-09-20T18:18:37.541Z"
   },
   {
    "duration": 12,
    "start_time": "2022-09-20T18:18:37.547Z"
   },
   {
    "duration": 15,
    "start_time": "2022-09-20T18:18:37.561Z"
   },
   {
    "duration": 19,
    "start_time": "2022-09-20T18:18:37.600Z"
   },
   {
    "duration": 16,
    "start_time": "2022-09-20T18:18:37.621Z"
   },
   {
    "duration": 249,
    "start_time": "2022-09-20T18:18:37.639Z"
   },
   {
    "duration": 249,
    "start_time": "2022-09-20T18:18:37.889Z"
   },
   {
    "duration": 5,
    "start_time": "2022-09-20T18:18:38.141Z"
   },
   {
    "duration": 18,
    "start_time": "2022-09-20T18:18:38.148Z"
   },
   {
    "duration": 42,
    "start_time": "2022-09-20T18:18:38.168Z"
   },
   {
    "duration": 20,
    "start_time": "2022-09-20T18:18:38.211Z"
   },
   {
    "duration": 12,
    "start_time": "2022-09-20T18:18:38.233Z"
   },
   {
    "duration": 16,
    "start_time": "2022-09-20T18:18:38.247Z"
   },
   {
    "duration": 3,
    "start_time": "2022-09-20T18:18:38.265Z"
   },
   {
    "duration": 52,
    "start_time": "2022-09-20T18:18:38.269Z"
   },
   {
    "duration": 19,
    "start_time": "2022-09-20T18:18:38.322Z"
   },
   {
    "duration": 20,
    "start_time": "2022-09-20T18:18:38.343Z"
   },
   {
    "duration": 48,
    "start_time": "2022-09-20T18:18:38.365Z"
   },
   {
    "duration": 25,
    "start_time": "2022-09-20T18:18:38.415Z"
   },
   {
    "duration": 24,
    "start_time": "2022-09-20T18:18:38.441Z"
   },
   {
    "duration": 46,
    "start_time": "2022-09-20T18:18:38.467Z"
   },
   {
    "duration": 24,
    "start_time": "2022-09-20T18:18:38.514Z"
   },
   {
    "duration": 24,
    "start_time": "2022-09-20T18:18:38.540Z"
   },
   {
    "duration": 45,
    "start_time": "2022-09-20T18:18:38.566Z"
   },
   {
    "duration": 19,
    "start_time": "2022-09-20T18:18:38.613Z"
   },
   {
    "duration": 14,
    "start_time": "2022-09-20T18:18:38.636Z"
   },
   {
    "duration": 14,
    "start_time": "2022-09-20T18:18:38.652Z"
   },
   {
    "duration": 32,
    "start_time": "2022-09-20T18:18:38.667Z"
   },
   {
    "duration": 184,
    "start_time": "2022-09-20T18:18:38.700Z"
   },
   {
    "duration": 22,
    "start_time": "2022-09-20T18:18:38.886Z"
   },
   {
    "duration": 8,
    "start_time": "2022-09-20T18:18:38.910Z"
   },
   {
    "duration": 11,
    "start_time": "2022-09-20T18:18:38.920Z"
   },
   {
    "duration": 6,
    "start_time": "2022-09-20T18:18:38.933Z"
   },
   {
    "duration": 10,
    "start_time": "2022-09-20T18:18:38.941Z"
   },
   {
    "duration": 53161,
    "start_time": "2022-09-20T18:18:38.953Z"
   },
   {
    "duration": 5442,
    "start_time": "2022-09-20T18:19:32.116Z"
   },
   {
    "duration": 11,
    "start_time": "2022-09-20T18:19:37.560Z"
   },
   {
    "duration": 134,
    "start_time": "2022-09-20T18:19:37.572Z"
   },
   {
    "duration": 5,
    "start_time": "2022-09-20T18:19:37.708Z"
   },
   {
    "duration": 11,
    "start_time": "2022-09-20T18:19:37.715Z"
   },
   {
    "duration": 24,
    "start_time": "2022-09-20T18:19:37.727Z"
   },
   {
    "duration": 9,
    "start_time": "2022-09-20T18:19:37.753Z"
   },
   {
    "duration": 9,
    "start_time": "2022-09-20T18:19:37.763Z"
   },
   {
    "duration": 27,
    "start_time": "2022-09-20T18:19:37.774Z"
   },
   {
    "duration": 23,
    "start_time": "2022-09-20T18:19:37.805Z"
   },
   {
    "duration": 12,
    "start_time": "2022-09-20T18:19:37.830Z"
   },
   {
    "duration": 4,
    "start_time": "2022-09-20T18:19:37.843Z"
   },
   {
    "duration": 282150,
    "start_time": "2022-09-20T18:19:37.849Z"
   },
   {
    "duration": 148,
    "start_time": "2022-09-20T18:24:20.000Z"
   },
   {
    "duration": 0,
    "start_time": "2022-09-20T18:24:20.149Z"
   },
   {
    "duration": 1,
    "start_time": "2022-09-20T18:24:20.150Z"
   },
   {
    "duration": 1,
    "start_time": "2022-09-20T18:24:20.151Z"
   },
   {
    "duration": 15794,
    "start_time": "2022-09-20T18:32:12.911Z"
   },
   {
    "duration": 14,
    "start_time": "2022-09-20T18:32:28.708Z"
   },
   {
    "duration": 0,
    "start_time": "2022-09-20T18:32:28.724Z"
   },
   {
    "duration": 0,
    "start_time": "2022-09-20T18:32:28.725Z"
   },
   {
    "duration": 21,
    "start_time": "2022-09-20T18:38:22.461Z"
   },
   {
    "duration": 220,
    "start_time": "2022-09-20T18:38:22.809Z"
   },
   {
    "duration": 5,
    "start_time": "2022-09-20T18:38:23.031Z"
   },
   {
    "duration": 5,
    "start_time": "2022-09-20T18:43:29.140Z"
   },
   {
    "duration": 19,
    "start_time": "2022-09-20T18:45:36.932Z"
   },
   {
    "duration": 30,
    "start_time": "2022-09-20T18:45:44.838Z"
   },
   {
    "duration": 28,
    "start_time": "2022-09-20T18:45:54.036Z"
   },
   {
    "duration": 4,
    "start_time": "2022-09-20T18:45:54.141Z"
   },
   {
    "duration": 16,
    "start_time": "2022-09-20T18:45:58.509Z"
   },
   {
    "duration": 3,
    "start_time": "2022-09-20T18:49:41.474Z"
   },
   {
    "duration": 144,
    "start_time": "2022-09-20T18:49:41.789Z"
   },
   {
    "duration": 13,
    "start_time": "2022-09-20T18:49:42.411Z"
   },
   {
    "duration": 12,
    "start_time": "2022-09-20T18:49:42.560Z"
   },
   {
    "duration": 12,
    "start_time": "2022-09-20T18:49:42.958Z"
   },
   {
    "duration": 11,
    "start_time": "2022-09-20T18:49:43.094Z"
   },
   {
    "duration": 11,
    "start_time": "2022-09-20T18:49:43.532Z"
   },
   {
    "duration": 9,
    "start_time": "2022-09-20T18:49:43.644Z"
   },
   {
    "duration": 12,
    "start_time": "2022-09-20T18:49:44.072Z"
   },
   {
    "duration": 11,
    "start_time": "2022-09-20T18:49:44.194Z"
   },
   {
    "duration": 6,
    "start_time": "2022-09-20T18:49:45.662Z"
   },
   {
    "duration": 6,
    "start_time": "2022-09-20T18:49:45.936Z"
   },
   {
    "duration": 17,
    "start_time": "2022-09-20T18:49:46.552Z"
   },
   {
    "duration": 5,
    "start_time": "2022-09-20T18:49:46.581Z"
   },
   {
    "duration": 7,
    "start_time": "2022-09-20T18:49:48.360Z"
   },
   {
    "duration": 4,
    "start_time": "2022-09-20T18:49:52.692Z"
   },
   {
    "duration": 11,
    "start_time": "2022-09-20T18:49:53.132Z"
   },
   {
    "duration": 11,
    "start_time": "2022-09-20T18:49:53.936Z"
   },
   {
    "duration": 13,
    "start_time": "2022-09-20T18:49:55.188Z"
   },
   {
    "duration": 2,
    "start_time": "2022-09-20T18:51:26.372Z"
   },
   {
    "duration": 14,
    "start_time": "2022-09-20T18:51:31.479Z"
   },
   {
    "duration": 21,
    "start_time": "2022-09-20T18:51:43.189Z"
   },
   {
    "duration": 17,
    "start_time": "2022-09-20T18:51:44.459Z"
   },
   {
    "duration": 69,
    "start_time": "2022-09-20T18:52:13.170Z"
   },
   {
    "duration": 1427,
    "start_time": "2022-09-20T18:59:44.537Z"
   },
   {
    "duration": 145,
    "start_time": "2022-09-20T18:59:45.966Z"
   },
   {
    "duration": 14,
    "start_time": "2022-09-20T18:59:46.112Z"
   },
   {
    "duration": 13,
    "start_time": "2022-09-20T18:59:46.128Z"
   },
   {
    "duration": 13,
    "start_time": "2022-09-20T18:59:46.143Z"
   },
   {
    "duration": 20,
    "start_time": "2022-09-20T18:59:46.158Z"
   },
   {
    "duration": 27,
    "start_time": "2022-09-20T18:59:46.180Z"
   },
   {
    "duration": 12,
    "start_time": "2022-09-20T18:59:46.209Z"
   },
   {
    "duration": 12,
    "start_time": "2022-09-20T18:59:46.223Z"
   },
   {
    "duration": 8,
    "start_time": "2022-09-20T18:59:46.237Z"
   },
   {
    "duration": 7,
    "start_time": "2022-09-20T18:59:46.247Z"
   },
   {
    "duration": 5,
    "start_time": "2022-09-20T18:59:46.256Z"
   },
   {
    "duration": 14,
    "start_time": "2022-09-20T18:59:46.263Z"
   },
   {
    "duration": 27,
    "start_time": "2022-09-20T18:59:46.281Z"
   },
   {
    "duration": 8,
    "start_time": "2022-09-20T18:59:46.309Z"
   },
   {
    "duration": 7,
    "start_time": "2022-09-20T18:59:46.318Z"
   },
   {
    "duration": 12,
    "start_time": "2022-09-20T18:59:46.326Z"
   },
   {
    "duration": 25,
    "start_time": "2022-09-20T18:59:46.340Z"
   },
   {
    "duration": 18,
    "start_time": "2022-09-20T18:59:46.366Z"
   },
   {
    "duration": 26,
    "start_time": "2022-09-20T18:59:46.394Z"
   },
   {
    "duration": 241,
    "start_time": "2022-09-20T18:59:46.421Z"
   },
   {
    "duration": 248,
    "start_time": "2022-09-20T18:59:46.664Z"
   },
   {
    "duration": 5,
    "start_time": "2022-09-20T18:59:46.914Z"
   },
   {
    "duration": 19,
    "start_time": "2022-09-20T18:59:46.921Z"
   },
   {
    "duration": 11,
    "start_time": "2022-09-20T18:59:46.942Z"
   },
   {
    "duration": 19,
    "start_time": "2022-09-20T18:59:46.955Z"
   },
   {
    "duration": 34,
    "start_time": "2022-09-20T18:59:46.975Z"
   },
   {
    "duration": 20,
    "start_time": "2022-09-20T18:59:47.010Z"
   },
   {
    "duration": 3,
    "start_time": "2022-09-20T18:59:47.032Z"
   },
   {
    "duration": 22,
    "start_time": "2022-09-20T18:59:47.037Z"
   },
   {
    "duration": 38,
    "start_time": "2022-09-20T18:59:47.061Z"
   },
   {
    "duration": 24,
    "start_time": "2022-09-20T18:59:47.100Z"
   },
   {
    "duration": 18,
    "start_time": "2022-09-20T18:59:47.126Z"
   },
   {
    "duration": 23,
    "start_time": "2022-09-20T18:59:47.146Z"
   },
   {
    "duration": 49,
    "start_time": "2022-09-20T18:59:47.170Z"
   },
   {
    "duration": 23,
    "start_time": "2022-09-20T18:59:47.221Z"
   },
   {
    "duration": 22,
    "start_time": "2022-09-20T18:59:47.245Z"
   },
   {
    "duration": 48,
    "start_time": "2022-09-20T18:59:47.269Z"
   },
   {
    "duration": 23,
    "start_time": "2022-09-20T18:59:47.319Z"
   },
   {
    "duration": 13,
    "start_time": "2022-09-20T18:59:47.343Z"
   },
   {
    "duration": 12,
    "start_time": "2022-09-20T18:59:47.360Z"
   },
   {
    "duration": 36,
    "start_time": "2022-09-20T18:59:47.374Z"
   },
   {
    "duration": 2,
    "start_time": "2022-09-20T18:59:47.412Z"
   },
   {
    "duration": 151,
    "start_time": "2022-09-20T18:59:47.416Z"
   },
   {
    "duration": 4,
    "start_time": "2022-09-20T18:59:47.569Z"
   },
   {
    "duration": 5,
    "start_time": "2022-09-20T18:59:47.574Z"
   },
   {
    "duration": 27,
    "start_time": "2022-09-20T18:59:47.581Z"
   },
   {
    "duration": 5,
    "start_time": "2022-09-20T18:59:47.610Z"
   },
   {
    "duration": 10,
    "start_time": "2022-09-20T18:59:47.617Z"
   },
   {
    "duration": 54230,
    "start_time": "2022-09-20T18:59:47.628Z"
   },
   {
    "duration": 5596,
    "start_time": "2022-09-20T19:00:41.860Z"
   },
   {
    "duration": 11,
    "start_time": "2022-09-20T19:00:47.458Z"
   },
   {
    "duration": 163,
    "start_time": "2022-09-20T19:00:47.470Z"
   },
   {
    "duration": 6,
    "start_time": "2022-09-20T19:00:47.635Z"
   },
   {
    "duration": 20,
    "start_time": "2022-09-20T19:00:47.643Z"
   },
   {
    "duration": 38,
    "start_time": "2022-09-20T19:00:47.665Z"
   },
   {
    "duration": 18,
    "start_time": "2022-09-20T19:00:47.705Z"
   },
   {
    "duration": 10,
    "start_time": "2022-09-20T19:00:47.724Z"
   },
   {
    "duration": 27,
    "start_time": "2022-09-20T19:00:47.737Z"
   },
   {
    "duration": 7,
    "start_time": "2022-09-20T19:00:47.766Z"
   },
   {
    "duration": 16,
    "start_time": "2022-09-20T19:00:47.775Z"
   },
   {
    "duration": 15,
    "start_time": "2022-09-20T19:00:47.793Z"
   },
   {
    "duration": 1493,
    "start_time": "2022-09-20T19:09:17.716Z"
   },
   {
    "duration": 158,
    "start_time": "2022-09-20T19:09:19.211Z"
   },
   {
    "duration": 15,
    "start_time": "2022-09-20T19:09:19.371Z"
   },
   {
    "duration": 20,
    "start_time": "2022-09-20T19:09:19.388Z"
   },
   {
    "duration": 29,
    "start_time": "2022-09-20T19:09:19.410Z"
   },
   {
    "duration": 13,
    "start_time": "2022-09-20T19:09:19.441Z"
   },
   {
    "duration": 22,
    "start_time": "2022-09-20T19:09:19.456Z"
   },
   {
    "duration": 13,
    "start_time": "2022-09-20T19:09:19.480Z"
   },
   {
    "duration": 28,
    "start_time": "2022-09-20T19:09:19.495Z"
   },
   {
    "duration": 7,
    "start_time": "2022-09-20T19:09:19.525Z"
   },
   {
    "duration": 6,
    "start_time": "2022-09-20T19:09:19.534Z"
   },
   {
    "duration": 7,
    "start_time": "2022-09-20T19:09:19.542Z"
   },
   {
    "duration": 14,
    "start_time": "2022-09-20T19:09:19.551Z"
   },
   {
    "duration": 4,
    "start_time": "2022-09-20T19:09:19.570Z"
   },
   {
    "duration": 22,
    "start_time": "2022-09-20T19:09:19.576Z"
   },
   {
    "duration": 6,
    "start_time": "2022-09-20T19:09:19.599Z"
   },
   {
    "duration": 31,
    "start_time": "2022-09-20T19:09:19.606Z"
   },
   {
    "duration": 21,
    "start_time": "2022-09-20T19:09:19.639Z"
   },
   {
    "duration": 25,
    "start_time": "2022-09-20T19:09:19.662Z"
   },
   {
    "duration": 37,
    "start_time": "2022-09-20T19:09:19.688Z"
   },
   {
    "duration": 213,
    "start_time": "2022-09-20T19:09:19.727Z"
   },
   {
    "duration": 218,
    "start_time": "2022-09-20T19:09:19.941Z"
   },
   {
    "duration": 5,
    "start_time": "2022-09-20T19:09:20.160Z"
   },
   {
    "duration": 46,
    "start_time": "2022-09-20T19:09:20.167Z"
   },
   {
    "duration": 15,
    "start_time": "2022-09-20T19:09:20.214Z"
   },
   {
    "duration": 16,
    "start_time": "2022-09-20T19:09:20.231Z"
   },
   {
    "duration": 15,
    "start_time": "2022-09-20T19:09:20.248Z"
   },
   {
    "duration": 18,
    "start_time": "2022-09-20T19:09:20.264Z"
   },
   {
    "duration": 7,
    "start_time": "2022-09-20T19:09:20.294Z"
   },
   {
    "duration": 40,
    "start_time": "2022-09-20T19:09:20.302Z"
   },
   {
    "duration": 20,
    "start_time": "2022-09-20T19:09:20.344Z"
   },
   {
    "duration": 20,
    "start_time": "2022-09-20T19:09:20.366Z"
   },
   {
    "duration": 32,
    "start_time": "2022-09-20T19:09:20.387Z"
   },
   {
    "duration": 28,
    "start_time": "2022-09-20T19:09:20.422Z"
   },
   {
    "duration": 24,
    "start_time": "2022-09-20T19:09:20.452Z"
   },
   {
    "duration": 42,
    "start_time": "2022-09-20T19:09:20.477Z"
   },
   {
    "duration": 33,
    "start_time": "2022-09-20T19:09:20.524Z"
   },
   {
    "duration": 24,
    "start_time": "2022-09-20T19:09:20.558Z"
   },
   {
    "duration": 41,
    "start_time": "2022-09-20T19:09:20.584Z"
   },
   {
    "duration": 15,
    "start_time": "2022-09-20T19:09:20.626Z"
   },
   {
    "duration": 13,
    "start_time": "2022-09-20T19:09:20.645Z"
   },
   {
    "duration": 37,
    "start_time": "2022-09-20T19:09:20.659Z"
   },
   {
    "duration": 10,
    "start_time": "2022-09-20T19:09:20.705Z"
   },
   {
    "duration": 175,
    "start_time": "2022-09-20T19:09:20.716Z"
   },
   {
    "duration": 78,
    "start_time": "2022-09-20T19:09:20.898Z"
   },
   {
    "duration": 0,
    "start_time": "2022-09-20T19:09:20.978Z"
   },
   {
    "duration": 0,
    "start_time": "2022-09-20T19:09:20.979Z"
   },
   {
    "duration": 0,
    "start_time": "2022-09-20T19:09:20.980Z"
   },
   {
    "duration": 0,
    "start_time": "2022-09-20T19:09:20.981Z"
   },
   {
    "duration": 0,
    "start_time": "2022-09-20T19:09:20.982Z"
   },
   {
    "duration": 0,
    "start_time": "2022-09-20T19:09:20.983Z"
   },
   {
    "duration": 0,
    "start_time": "2022-09-20T19:09:20.984Z"
   },
   {
    "duration": 0,
    "start_time": "2022-09-20T19:09:20.986Z"
   },
   {
    "duration": 0,
    "start_time": "2022-09-20T19:09:20.987Z"
   },
   {
    "duration": 0,
    "start_time": "2022-09-20T19:09:20.988Z"
   },
   {
    "duration": 0,
    "start_time": "2022-09-20T19:09:20.989Z"
   },
   {
    "duration": 0,
    "start_time": "2022-09-20T19:09:20.990Z"
   },
   {
    "duration": 0,
    "start_time": "2022-09-20T19:09:20.991Z"
   },
   {
    "duration": 0,
    "start_time": "2022-09-20T19:09:20.991Z"
   },
   {
    "duration": 0,
    "start_time": "2022-09-20T19:09:20.993Z"
   },
   {
    "duration": 0,
    "start_time": "2022-09-20T19:09:20.994Z"
   },
   {
    "duration": 0,
    "start_time": "2022-09-20T19:09:20.994Z"
   },
   {
    "duration": 0,
    "start_time": "2022-09-20T19:09:20.996Z"
   },
   {
    "duration": 0,
    "start_time": "2022-09-20T19:09:21.000Z"
   },
   {
    "duration": 1,
    "start_time": "2022-09-20T19:09:21.003Z"
   },
   {
    "duration": 0,
    "start_time": "2022-09-20T19:09:21.004Z"
   },
   {
    "duration": 0,
    "start_time": "2022-09-20T19:09:21.005Z"
   },
   {
    "duration": 0,
    "start_time": "2022-09-20T19:09:21.006Z"
   },
   {
    "duration": 204,
    "start_time": "2022-09-20T19:12:48.346Z"
   },
   {
    "duration": 209,
    "start_time": "2022-09-20T19:13:20.824Z"
   },
   {
    "duration": 314,
    "start_time": "2022-09-20T19:15:02.120Z"
   },
   {
    "duration": 216,
    "start_time": "2022-09-20T19:15:20.662Z"
   },
   {
    "duration": 323,
    "start_time": "2022-09-20T19:15:39.657Z"
   },
   {
    "duration": 235,
    "start_time": "2022-09-20T19:18:05.290Z"
   },
   {
    "duration": 207,
    "start_time": "2022-09-20T19:18:09.758Z"
   },
   {
    "duration": 194,
    "start_time": "2022-09-20T19:21:44.158Z"
   },
   {
    "duration": 206,
    "start_time": "2022-09-20T19:22:34.707Z"
   },
   {
    "duration": 209,
    "start_time": "2022-09-20T19:22:51.935Z"
   },
   {
    "duration": 246,
    "start_time": "2022-09-20T19:23:26.581Z"
   },
   {
    "duration": 242,
    "start_time": "2022-09-20T19:23:36.675Z"
   },
   {
    "duration": 195,
    "start_time": "2022-09-20T19:23:45.330Z"
   },
   {
    "duration": 207,
    "start_time": "2022-09-20T19:24:08.430Z"
   },
   {
    "duration": 334,
    "start_time": "2022-09-20T19:26:50.891Z"
   },
   {
    "duration": 429,
    "start_time": "2022-09-20T19:27:49.870Z"
   },
   {
    "duration": 308,
    "start_time": "2022-09-20T19:27:53.571Z"
   },
   {
    "duration": 301,
    "start_time": "2022-09-20T19:29:13.769Z"
   },
   {
    "duration": 332,
    "start_time": "2022-09-20T19:29:29.123Z"
   },
   {
    "duration": 310,
    "start_time": "2022-09-20T19:29:37.942Z"
   },
   {
    "duration": 211,
    "start_time": "2022-09-20T19:29:43.063Z"
   },
   {
    "duration": 220,
    "start_time": "2022-09-20T19:31:44.630Z"
   },
   {
    "duration": 199,
    "start_time": "2022-09-20T19:36:29.839Z"
   },
   {
    "duration": 9,
    "start_time": "2022-09-20T19:36:43.731Z"
   },
   {
    "duration": 228,
    "start_time": "2022-09-20T19:37:22.107Z"
   },
   {
    "duration": 203,
    "start_time": "2022-09-20T19:38:08.460Z"
   },
   {
    "duration": 192,
    "start_time": "2022-09-20T19:38:50.662Z"
   },
   {
    "duration": 198,
    "start_time": "2022-09-20T19:38:58.789Z"
   },
   {
    "duration": 271,
    "start_time": "2022-09-20T19:39:07.960Z"
   },
   {
    "duration": 263,
    "start_time": "2022-09-20T19:41:28.921Z"
   },
   {
    "duration": 253,
    "start_time": "2022-09-20T19:41:36.513Z"
   },
   {
    "duration": 1590,
    "start_time": "2022-09-20T19:42:31.564Z"
   },
   {
    "duration": 193,
    "start_time": "2022-09-20T19:43:26.059Z"
   },
   {
    "duration": 191,
    "start_time": "2022-09-20T19:43:33.039Z"
   },
   {
    "duration": 217,
    "start_time": "2022-09-20T19:44:48.021Z"
   },
   {
    "duration": 197,
    "start_time": "2022-09-20T19:45:01.365Z"
   },
   {
    "duration": 201,
    "start_time": "2022-09-20T19:46:51.621Z"
   },
   {
    "duration": 220,
    "start_time": "2022-09-20T19:47:09.069Z"
   },
   {
    "duration": 199,
    "start_time": "2022-09-20T19:47:59.575Z"
   },
   {
    "duration": 192,
    "start_time": "2022-09-20T19:48:04.215Z"
   },
   {
    "duration": 212,
    "start_time": "2022-09-20T19:48:24.421Z"
   },
   {
    "duration": 199,
    "start_time": "2022-09-20T19:50:34.419Z"
   },
   {
    "duration": 197,
    "start_time": "2022-09-20T19:50:43.393Z"
   },
   {
    "duration": 304,
    "start_time": "2022-09-20T19:50:47.786Z"
   },
   {
    "duration": 153,
    "start_time": "2022-09-20T19:50:54.218Z"
   },
   {
    "duration": 202,
    "start_time": "2022-09-20T19:50:58.144Z"
   },
   {
    "duration": 16,
    "start_time": "2022-09-20T19:51:19.559Z"
   },
   {
    "duration": 169,
    "start_time": "2022-09-20T19:51:37.781Z"
   },
   {
    "duration": 20,
    "start_time": "2022-09-20T19:53:23.565Z"
   },
   {
    "duration": 20,
    "start_time": "2022-09-20T19:53:41.949Z"
   },
   {
    "duration": 189,
    "start_time": "2022-09-20T19:53:51.734Z"
   },
   {
    "duration": 20,
    "start_time": "2022-09-20T19:54:04.935Z"
   },
   {
    "duration": 40,
    "start_time": "2022-09-20T19:54:17.976Z"
   },
   {
    "duration": 20,
    "start_time": "2022-09-20T19:54:23.422Z"
   },
   {
    "duration": 141,
    "start_time": "2022-09-20T19:54:36.459Z"
   },
   {
    "duration": 205,
    "start_time": "2022-09-20T19:54:46.220Z"
   },
   {
    "duration": 19,
    "start_time": "2022-09-20T19:55:14.860Z"
   },
   {
    "duration": 85,
    "start_time": "2022-09-20T19:55:55.925Z"
   },
   {
    "duration": 127,
    "start_time": "2022-09-20T19:56:01.018Z"
   },
   {
    "duration": 155,
    "start_time": "2022-09-20T19:56:19.096Z"
   },
   {
    "duration": 100,
    "start_time": "2022-09-20T19:56:27.360Z"
   },
   {
    "duration": 153,
    "start_time": "2022-09-20T19:56:30.589Z"
   },
   {
    "duration": 212,
    "start_time": "2022-09-20T19:57:14.193Z"
   },
   {
    "duration": 187,
    "start_time": "2022-09-20T19:57:26.584Z"
   },
   {
    "duration": 201,
    "start_time": "2022-09-20T20:00:30.344Z"
   },
   {
    "duration": 196,
    "start_time": "2022-09-20T20:01:04.869Z"
   },
   {
    "duration": 290,
    "start_time": "2022-09-20T20:01:21.034Z"
   },
   {
    "duration": 187,
    "start_time": "2022-09-20T20:01:26.996Z"
   },
   {
    "duration": 198,
    "start_time": "2022-09-20T20:01:31.690Z"
   },
   {
    "duration": 328,
    "start_time": "2022-09-20T20:02:05.218Z"
   },
   {
    "duration": 197,
    "start_time": "2022-09-20T20:02:10.774Z"
   },
   {
    "duration": 199,
    "start_time": "2022-09-20T20:02:33.444Z"
   },
   {
    "duration": 197,
    "start_time": "2022-09-20T20:02:41.068Z"
   },
   {
    "duration": 204,
    "start_time": "2022-09-20T20:02:53.024Z"
   },
   {
    "duration": 213,
    "start_time": "2022-09-20T20:02:57.617Z"
   },
   {
    "duration": 185,
    "start_time": "2022-09-20T20:03:04.377Z"
   },
   {
    "duration": 191,
    "start_time": "2022-09-20T20:03:28.294Z"
   },
   {
    "duration": 211,
    "start_time": "2022-09-20T20:03:41.068Z"
   },
   {
    "duration": 210,
    "start_time": "2022-09-20T20:03:48.704Z"
   },
   {
    "duration": 393,
    "start_time": "2022-09-20T20:05:16.733Z"
   },
   {
    "duration": 186,
    "start_time": "2022-09-20T20:05:45.973Z"
   },
   {
    "duration": 195,
    "start_time": "2022-09-20T20:06:02.534Z"
   },
   {
    "duration": 213,
    "start_time": "2022-09-20T20:06:07.946Z"
   },
   {
    "duration": 221,
    "start_time": "2022-09-20T20:06:12.170Z"
   },
   {
    "duration": 213,
    "start_time": "2022-09-20T20:06:32.113Z"
   },
   {
    "duration": 192,
    "start_time": "2022-09-20T20:06:57.318Z"
   },
   {
    "duration": 232,
    "start_time": "2022-09-20T20:07:03.683Z"
   },
   {
    "duration": 7,
    "start_time": "2022-09-20T20:08:43.219Z"
   },
   {
    "duration": 11,
    "start_time": "2022-09-20T20:08:49.188Z"
   },
   {
    "duration": 212,
    "start_time": "2022-09-20T20:15:12.323Z"
   },
   {
    "duration": 218,
    "start_time": "2022-09-20T20:15:27.412Z"
   },
   {
    "duration": 243,
    "start_time": "2022-09-20T20:15:36.574Z"
   },
   {
    "duration": 195,
    "start_time": "2022-09-20T20:15:52.162Z"
   },
   {
    "duration": 241,
    "start_time": "2022-09-20T20:16:06.604Z"
   },
   {
    "duration": 304,
    "start_time": "2022-09-20T20:17:05.224Z"
   },
   {
    "duration": 197,
    "start_time": "2022-09-20T20:17:05.995Z"
   },
   {
    "duration": 207,
    "start_time": "2022-09-20T20:18:07.045Z"
   },
   {
    "duration": 220,
    "start_time": "2022-09-20T20:18:07.972Z"
   },
   {
    "duration": 184,
    "start_time": "2022-09-20T20:21:37.550Z"
   },
   {
    "duration": 23,
    "start_time": "2022-09-20T20:21:52.011Z"
   },
   {
    "duration": 190,
    "start_time": "2022-09-20T20:22:15.948Z"
   },
   {
    "duration": 255,
    "start_time": "2022-09-20T20:22:27.684Z"
   },
   {
    "duration": 204,
    "start_time": "2022-09-20T20:22:34.830Z"
   },
   {
    "duration": 178,
    "start_time": "2022-09-20T20:23:23.112Z"
   },
   {
    "duration": 177,
    "start_time": "2022-09-20T20:24:51.049Z"
   },
   {
    "duration": 127,
    "start_time": "2022-09-20T20:25:19.895Z"
   },
   {
    "duration": 198,
    "start_time": "2022-09-20T20:26:00.791Z"
   },
   {
    "duration": 191,
    "start_time": "2022-09-20T20:26:11.693Z"
   },
   {
    "duration": 1536,
    "start_time": "2022-09-20T20:27:20.081Z"
   },
   {
    "duration": 172,
    "start_time": "2022-09-20T20:27:21.619Z"
   },
   {
    "duration": 20,
    "start_time": "2022-09-20T20:27:21.793Z"
   },
   {
    "duration": 31,
    "start_time": "2022-09-20T20:27:21.816Z"
   },
   {
    "duration": 11,
    "start_time": "2022-09-20T20:27:21.849Z"
   },
   {
    "duration": 15,
    "start_time": "2022-09-20T20:27:21.862Z"
   },
   {
    "duration": 20,
    "start_time": "2022-09-20T20:27:21.878Z"
   },
   {
    "duration": 37,
    "start_time": "2022-09-20T20:27:21.899Z"
   },
   {
    "duration": 14,
    "start_time": "2022-09-20T20:27:21.938Z"
   },
   {
    "duration": 10,
    "start_time": "2022-09-20T20:27:21.955Z"
   },
   {
    "duration": 9,
    "start_time": "2022-09-20T20:27:21.967Z"
   },
   {
    "duration": 11,
    "start_time": "2022-09-20T20:27:21.978Z"
   },
   {
    "duration": 47,
    "start_time": "2022-09-20T20:27:21.991Z"
   },
   {
    "duration": 6,
    "start_time": "2022-09-20T20:27:22.040Z"
   },
   {
    "duration": 11,
    "start_time": "2022-09-20T20:27:22.048Z"
   },
   {
    "duration": 15,
    "start_time": "2022-09-20T20:27:22.061Z"
   },
   {
    "duration": 28,
    "start_time": "2022-09-20T20:27:22.078Z"
   },
   {
    "duration": 37,
    "start_time": "2022-09-20T20:27:22.109Z"
   },
   {
    "duration": 20,
    "start_time": "2022-09-20T20:27:22.148Z"
   },
   {
    "duration": 19,
    "start_time": "2022-09-20T20:27:22.170Z"
   },
   {
    "duration": 237,
    "start_time": "2022-09-20T20:27:22.190Z"
   },
   {
    "duration": 216,
    "start_time": "2022-09-20T20:27:22.429Z"
   },
   {
    "duration": 4,
    "start_time": "2022-09-20T20:27:22.647Z"
   },
   {
    "duration": 17,
    "start_time": "2022-09-20T20:27:22.653Z"
   },
   {
    "duration": 35,
    "start_time": "2022-09-20T20:27:22.672Z"
   },
   {
    "duration": 213,
    "start_time": "2022-09-20T20:27:22.709Z"
   },
   {
    "duration": 19,
    "start_time": "2022-09-20T20:27:22.924Z"
   },
   {
    "duration": 17,
    "start_time": "2022-09-20T20:27:22.949Z"
   },
   {
    "duration": 49,
    "start_time": "2022-09-20T20:27:22.968Z"
   },
   {
    "duration": 7,
    "start_time": "2022-09-20T20:27:23.022Z"
   },
   {
    "duration": 24,
    "start_time": "2022-09-20T20:27:23.030Z"
   },
   {
    "duration": 19,
    "start_time": "2022-09-20T20:27:23.055Z"
   },
   {
    "duration": 47,
    "start_time": "2022-09-20T20:27:23.076Z"
   },
   {
    "duration": 21,
    "start_time": "2022-09-20T20:27:23.125Z"
   },
   {
    "duration": 25,
    "start_time": "2022-09-20T20:27:23.148Z"
   },
   {
    "duration": 50,
    "start_time": "2022-09-20T20:27:23.175Z"
   },
   {
    "duration": 28,
    "start_time": "2022-09-20T20:27:23.227Z"
   },
   {
    "duration": 21,
    "start_time": "2022-09-20T20:27:23.257Z"
   },
   {
    "duration": 41,
    "start_time": "2022-09-20T20:27:23.280Z"
   },
   {
    "duration": 26,
    "start_time": "2022-09-20T20:27:23.323Z"
   },
   {
    "duration": 14,
    "start_time": "2022-09-20T20:27:23.350Z"
   },
   {
    "duration": 36,
    "start_time": "2022-09-20T20:27:23.366Z"
   },
   {
    "duration": 25,
    "start_time": "2022-09-20T20:27:23.404Z"
   },
   {
    "duration": 3,
    "start_time": "2022-09-20T20:27:23.430Z"
   },
   {
    "duration": 155,
    "start_time": "2022-09-20T20:27:23.434Z"
   },
   {
    "duration": 147,
    "start_time": "2022-09-20T20:27:23.595Z"
   },
   {
    "duration": 0,
    "start_time": "2022-09-20T20:27:23.744Z"
   },
   {
    "duration": 0,
    "start_time": "2022-09-20T20:27:23.745Z"
   },
   {
    "duration": 0,
    "start_time": "2022-09-20T20:27:23.746Z"
   },
   {
    "duration": 0,
    "start_time": "2022-09-20T20:27:23.747Z"
   },
   {
    "duration": 0,
    "start_time": "2022-09-20T20:27:23.748Z"
   },
   {
    "duration": 0,
    "start_time": "2022-09-20T20:27:23.749Z"
   },
   {
    "duration": 0,
    "start_time": "2022-09-20T20:27:23.750Z"
   },
   {
    "duration": 0,
    "start_time": "2022-09-20T20:27:23.751Z"
   },
   {
    "duration": 0,
    "start_time": "2022-09-20T20:27:23.752Z"
   },
   {
    "duration": 0,
    "start_time": "2022-09-20T20:27:23.753Z"
   },
   {
    "duration": 0,
    "start_time": "2022-09-20T20:27:23.754Z"
   },
   {
    "duration": 1,
    "start_time": "2022-09-20T20:27:23.754Z"
   },
   {
    "duration": 0,
    "start_time": "2022-09-20T20:27:23.756Z"
   },
   {
    "duration": 0,
    "start_time": "2022-09-20T20:27:23.757Z"
   },
   {
    "duration": 0,
    "start_time": "2022-09-20T20:27:23.758Z"
   },
   {
    "duration": 0,
    "start_time": "2022-09-20T20:27:23.759Z"
   },
   {
    "duration": 0,
    "start_time": "2022-09-20T20:27:23.760Z"
   },
   {
    "duration": 0,
    "start_time": "2022-09-20T20:27:23.761Z"
   },
   {
    "duration": 0,
    "start_time": "2022-09-20T20:27:23.763Z"
   },
   {
    "duration": 0,
    "start_time": "2022-09-20T20:27:23.764Z"
   },
   {
    "duration": 0,
    "start_time": "2022-09-20T20:27:23.766Z"
   },
   {
    "duration": 0,
    "start_time": "2022-09-20T20:27:23.767Z"
   },
   {
    "duration": 0,
    "start_time": "2022-09-20T20:27:23.769Z"
   },
   {
    "duration": 9,
    "start_time": "2022-09-20T20:29:36.692Z"
   },
   {
    "duration": 22,
    "start_time": "2022-09-20T20:29:49.016Z"
   },
   {
    "duration": 24,
    "start_time": "2022-09-20T20:29:55.350Z"
   },
   {
    "duration": 31,
    "start_time": "2022-09-20T20:29:58.120Z"
   },
   {
    "duration": 28,
    "start_time": "2022-09-20T20:30:00.970Z"
   },
   {
    "duration": 23,
    "start_time": "2022-09-20T20:30:06.150Z"
   },
   {
    "duration": 3,
    "start_time": "2022-09-20T20:42:34.254Z"
   },
   {
    "duration": 23,
    "start_time": "2022-09-20T20:42:36.014Z"
   },
   {
    "duration": 353,
    "start_time": "2022-09-20T20:46:02.327Z"
   },
   {
    "duration": 271,
    "start_time": "2022-09-20T20:46:57.516Z"
   },
   {
    "duration": 279,
    "start_time": "2022-09-20T20:47:15.346Z"
   },
   {
    "duration": 280,
    "start_time": "2022-09-20T20:47:24.993Z"
   },
   {
    "duration": 169,
    "start_time": "2022-09-20T20:47:45.921Z"
   },
   {
    "duration": 188,
    "start_time": "2022-09-20T20:49:21.589Z"
   },
   {
    "duration": 183,
    "start_time": "2022-09-20T20:49:52.350Z"
   },
   {
    "duration": 173,
    "start_time": "2022-09-20T20:50:41.802Z"
   },
   {
    "duration": 19,
    "start_time": "2022-09-20T20:59:50.021Z"
   },
   {
    "duration": 20,
    "start_time": "2022-09-20T21:00:52.241Z"
   },
   {
    "duration": 34,
    "start_time": "2022-09-20T21:00:58.086Z"
   },
   {
    "duration": 111,
    "start_time": "2022-09-20T21:04:09.570Z"
   },
   {
    "duration": 28,
    "start_time": "2022-09-20T21:04:14.850Z"
   },
   {
    "duration": 13,
    "start_time": "2022-09-20T21:06:22.773Z"
   },
   {
    "duration": 148,
    "start_time": "2022-09-20T21:06:28.375Z"
   },
   {
    "duration": 20,
    "start_time": "2022-09-20T21:06:39.830Z"
   },
   {
    "duration": 14,
    "start_time": "2022-09-20T21:06:47.059Z"
   },
   {
    "duration": 1358,
    "start_time": "2022-09-20T21:08:03.042Z"
   },
   {
    "duration": 161,
    "start_time": "2022-09-20T21:08:04.407Z"
   },
   {
    "duration": 12,
    "start_time": "2022-09-20T21:08:04.570Z"
   },
   {
    "duration": 25,
    "start_time": "2022-09-20T21:08:04.584Z"
   },
   {
    "duration": 21,
    "start_time": "2022-09-20T21:08:04.616Z"
   },
   {
    "duration": 13,
    "start_time": "2022-09-20T21:08:04.639Z"
   },
   {
    "duration": 14,
    "start_time": "2022-09-20T21:08:04.654Z"
   },
   {
    "duration": 10,
    "start_time": "2022-09-20T21:08:04.669Z"
   },
   {
    "duration": 15,
    "start_time": "2022-09-20T21:08:04.681Z"
   },
   {
    "duration": 34,
    "start_time": "2022-09-20T21:08:04.703Z"
   },
   {
    "duration": 8,
    "start_time": "2022-09-20T21:08:04.738Z"
   },
   {
    "duration": 11,
    "start_time": "2022-09-20T21:08:04.747Z"
   },
   {
    "duration": 18,
    "start_time": "2022-09-20T21:08:04.760Z"
   },
   {
    "duration": 5,
    "start_time": "2022-09-20T21:08:04.783Z"
   },
   {
    "duration": 11,
    "start_time": "2022-09-20T21:08:04.789Z"
   },
   {
    "duration": 28,
    "start_time": "2022-09-20T21:08:04.802Z"
   },
   {
    "duration": 15,
    "start_time": "2022-09-20T21:08:04.832Z"
   },
   {
    "duration": 22,
    "start_time": "2022-09-20T21:08:04.849Z"
   },
   {
    "duration": 19,
    "start_time": "2022-09-20T21:08:04.872Z"
   },
   {
    "duration": 42,
    "start_time": "2022-09-20T21:08:04.892Z"
   },
   {
    "duration": 199,
    "start_time": "2022-09-20T21:08:04.936Z"
   },
   {
    "duration": 202,
    "start_time": "2022-09-20T21:08:05.137Z"
   },
   {
    "duration": 4,
    "start_time": "2022-09-20T21:08:05.340Z"
   },
   {
    "duration": 18,
    "start_time": "2022-09-20T21:08:05.346Z"
   },
   {
    "duration": 30,
    "start_time": "2022-09-20T21:08:05.366Z"
   },
   {
    "duration": 175,
    "start_time": "2022-09-20T21:08:05.398Z"
   },
   {
    "duration": 23,
    "start_time": "2022-09-20T21:08:05.575Z"
   },
   {
    "duration": 24,
    "start_time": "2022-09-20T21:08:05.599Z"
   },
   {
    "duration": 20,
    "start_time": "2022-09-20T21:08:05.624Z"
   },
   {
    "duration": 2,
    "start_time": "2022-09-20T21:08:05.646Z"
   },
   {
    "duration": 24,
    "start_time": "2022-09-20T21:08:05.650Z"
   },
   {
    "duration": 36,
    "start_time": "2022-09-20T21:08:05.676Z"
   },
   {
    "duration": 25,
    "start_time": "2022-09-20T21:08:05.714Z"
   },
   {
    "duration": 22,
    "start_time": "2022-09-20T21:08:05.741Z"
   },
   {
    "duration": 47,
    "start_time": "2022-09-20T21:08:05.764Z"
   },
   {
    "duration": 24,
    "start_time": "2022-09-20T21:08:05.813Z"
   },
   {
    "duration": 21,
    "start_time": "2022-09-20T21:08:05.839Z"
   },
   {
    "duration": 41,
    "start_time": "2022-09-20T21:08:05.861Z"
   },
   {
    "duration": 26,
    "start_time": "2022-09-20T21:08:05.903Z"
   },
   {
    "duration": 26,
    "start_time": "2022-09-20T21:08:05.931Z"
   },
   {
    "duration": 189,
    "start_time": "2022-09-20T21:08:05.962Z"
   },
   {
    "duration": 14,
    "start_time": "2022-09-20T21:08:06.153Z"
   },
   {
    "duration": 30,
    "start_time": "2022-09-20T21:08:06.168Z"
   },
   {
    "duration": 32,
    "start_time": "2022-09-20T21:08:06.199Z"
   },
   {
    "duration": 3,
    "start_time": "2022-09-20T21:08:06.232Z"
   },
   {
    "duration": 290,
    "start_time": "2022-09-20T21:08:06.236Z"
   },
   {
    "duration": 95,
    "start_time": "2022-09-20T21:08:06.528Z"
   },
   {
    "duration": 0,
    "start_time": "2022-09-20T21:08:06.625Z"
   },
   {
    "duration": 0,
    "start_time": "2022-09-20T21:08:06.628Z"
   },
   {
    "duration": 0,
    "start_time": "2022-09-20T21:08:06.628Z"
   },
   {
    "duration": 0,
    "start_time": "2022-09-20T21:08:06.630Z"
   },
   {
    "duration": 0,
    "start_time": "2022-09-20T21:08:06.631Z"
   },
   {
    "duration": 0,
    "start_time": "2022-09-20T21:08:06.633Z"
   },
   {
    "duration": 0,
    "start_time": "2022-09-20T21:08:06.634Z"
   },
   {
    "duration": 0,
    "start_time": "2022-09-20T21:08:06.635Z"
   },
   {
    "duration": 0,
    "start_time": "2022-09-20T21:08:06.636Z"
   },
   {
    "duration": 0,
    "start_time": "2022-09-20T21:08:06.637Z"
   },
   {
    "duration": 0,
    "start_time": "2022-09-20T21:08:06.638Z"
   },
   {
    "duration": 0,
    "start_time": "2022-09-20T21:08:06.639Z"
   },
   {
    "duration": 0,
    "start_time": "2022-09-20T21:08:06.641Z"
   },
   {
    "duration": 0,
    "start_time": "2022-09-20T21:08:06.643Z"
   },
   {
    "duration": 0,
    "start_time": "2022-09-20T21:08:06.644Z"
   },
   {
    "duration": 0,
    "start_time": "2022-09-20T21:08:06.646Z"
   },
   {
    "duration": 0,
    "start_time": "2022-09-20T21:08:06.647Z"
   },
   {
    "duration": 0,
    "start_time": "2022-09-20T21:08:06.648Z"
   },
   {
    "duration": 0,
    "start_time": "2022-09-20T21:08:06.650Z"
   },
   {
    "duration": 0,
    "start_time": "2022-09-20T21:08:06.651Z"
   },
   {
    "duration": 0,
    "start_time": "2022-09-20T21:08:06.652Z"
   },
   {
    "duration": 0,
    "start_time": "2022-09-20T21:08:06.654Z"
   },
   {
    "duration": 0,
    "start_time": "2022-09-20T21:08:06.655Z"
   },
   {
    "duration": 121,
    "start_time": "2022-09-20T21:10:25.225Z"
   },
   {
    "duration": 7,
    "start_time": "2022-09-20T21:10:36.247Z"
   },
   {
    "duration": 20,
    "start_time": "2022-09-20T21:10:42.548Z"
   },
   {
    "duration": 3,
    "start_time": "2022-09-20T21:13:25.767Z"
   },
   {
    "duration": 1512,
    "start_time": "2022-09-20T21:17:18.542Z"
   },
   {
    "duration": 175,
    "start_time": "2022-09-20T21:17:20.057Z"
   },
   {
    "duration": 13,
    "start_time": "2022-09-20T21:17:20.234Z"
   },
   {
    "duration": 22,
    "start_time": "2022-09-20T21:17:20.248Z"
   },
   {
    "duration": 12,
    "start_time": "2022-09-20T21:17:20.272Z"
   },
   {
    "duration": 27,
    "start_time": "2022-09-20T21:17:20.285Z"
   },
   {
    "duration": 26,
    "start_time": "2022-09-20T21:17:20.315Z"
   },
   {
    "duration": 11,
    "start_time": "2022-09-20T21:17:20.343Z"
   },
   {
    "duration": 12,
    "start_time": "2022-09-20T21:17:20.355Z"
   },
   {
    "duration": 11,
    "start_time": "2022-09-20T21:17:20.369Z"
   },
   {
    "duration": 8,
    "start_time": "2022-09-20T21:17:20.382Z"
   },
   {
    "duration": 37,
    "start_time": "2022-09-20T21:17:20.392Z"
   },
   {
    "duration": 18,
    "start_time": "2022-09-20T21:17:20.430Z"
   },
   {
    "duration": 5,
    "start_time": "2022-09-20T21:17:20.453Z"
   },
   {
    "duration": 12,
    "start_time": "2022-09-20T21:17:20.460Z"
   },
   {
    "duration": 5,
    "start_time": "2022-09-20T21:17:20.474Z"
   },
   {
    "duration": 32,
    "start_time": "2022-09-20T21:17:20.481Z"
   },
   {
    "duration": 25,
    "start_time": "2022-09-20T21:17:20.520Z"
   },
   {
    "duration": 20,
    "start_time": "2022-09-20T21:17:20.546Z"
   },
   {
    "duration": 16,
    "start_time": "2022-09-20T21:17:20.568Z"
   },
   {
    "duration": 235,
    "start_time": "2022-09-20T21:17:20.585Z"
   },
   {
    "duration": 216,
    "start_time": "2022-09-20T21:17:20.822Z"
   },
   {
    "duration": 5,
    "start_time": "2022-09-20T21:17:21.040Z"
   },
   {
    "duration": 21,
    "start_time": "2022-09-20T21:17:21.047Z"
   },
   {
    "duration": 39,
    "start_time": "2022-09-20T21:17:21.070Z"
   },
   {
    "duration": 193,
    "start_time": "2022-09-20T21:17:21.110Z"
   },
   {
    "duration": 20,
    "start_time": "2022-09-20T21:17:21.305Z"
   },
   {
    "duration": 13,
    "start_time": "2022-09-20T21:17:21.327Z"
   },
   {
    "duration": 16,
    "start_time": "2022-09-20T21:17:21.342Z"
   },
   {
    "duration": 4,
    "start_time": "2022-09-20T21:17:21.359Z"
   },
   {
    "duration": 59,
    "start_time": "2022-09-20T21:17:21.364Z"
   },
   {
    "duration": 24,
    "start_time": "2022-09-20T21:17:21.425Z"
   },
   {
    "duration": 46,
    "start_time": "2022-09-20T21:17:21.452Z"
   },
   {
    "duration": 32,
    "start_time": "2022-09-20T21:17:21.500Z"
   },
   {
    "duration": 25,
    "start_time": "2022-09-20T21:17:21.534Z"
   },
   {
    "duration": 60,
    "start_time": "2022-09-20T21:17:21.561Z"
   },
   {
    "duration": 24,
    "start_time": "2022-09-20T21:17:21.623Z"
   },
   {
    "duration": 24,
    "start_time": "2022-09-20T21:17:21.648Z"
   },
   {
    "duration": 49,
    "start_time": "2022-09-20T21:17:21.673Z"
   },
   {
    "duration": 25,
    "start_time": "2022-09-20T21:17:21.724Z"
   },
   {
    "duration": 200,
    "start_time": "2022-09-20T21:17:21.754Z"
   },
   {
    "duration": 16,
    "start_time": "2022-09-20T21:17:21.956Z"
   },
   {
    "duration": 38,
    "start_time": "2022-09-20T21:17:21.974Z"
   },
   {
    "duration": 18,
    "start_time": "2022-09-20T21:17:22.014Z"
   },
   {
    "duration": 3,
    "start_time": "2022-09-20T21:17:22.035Z"
   },
   {
    "duration": 313,
    "start_time": "2022-09-20T21:17:22.040Z"
   },
   {
    "duration": 4,
    "start_time": "2022-09-20T21:17:22.355Z"
   },
   {
    "duration": 12,
    "start_time": "2022-09-20T21:17:22.361Z"
   },
   {
    "duration": 11,
    "start_time": "2022-09-20T21:17:22.374Z"
   },
   {
    "duration": 16,
    "start_time": "2022-09-20T21:17:22.386Z"
   },
   {
    "duration": 26,
    "start_time": "2022-09-20T21:17:22.414Z"
   },
   {
    "duration": 65834,
    "start_time": "2022-09-20T21:17:22.442Z"
   },
   {
    "duration": 7160,
    "start_time": "2022-09-20T21:18:28.281Z"
   },
   {
    "duration": 10,
    "start_time": "2022-09-20T21:18:35.443Z"
   },
   {
    "duration": 135,
    "start_time": "2022-09-20T21:18:35.455Z"
   },
   {
    "duration": 101,
    "start_time": "2022-09-20T21:18:35.592Z"
   },
   {
    "duration": 0,
    "start_time": "2022-09-20T21:18:35.695Z"
   },
   {
    "duration": 0,
    "start_time": "2022-09-20T21:18:35.695Z"
   },
   {
    "duration": 0,
    "start_time": "2022-09-20T21:18:35.696Z"
   },
   {
    "duration": 0,
    "start_time": "2022-09-20T21:18:35.699Z"
   },
   {
    "duration": 0,
    "start_time": "2022-09-20T21:18:35.700Z"
   },
   {
    "duration": 0,
    "start_time": "2022-09-20T21:18:35.700Z"
   },
   {
    "duration": 0,
    "start_time": "2022-09-20T21:18:35.701Z"
   },
   {
    "duration": 0,
    "start_time": "2022-09-20T21:18:35.702Z"
   },
   {
    "duration": 0,
    "start_time": "2022-09-20T21:18:35.703Z"
   },
   {
    "duration": 0,
    "start_time": "2022-09-20T21:18:35.704Z"
   },
   {
    "duration": 0,
    "start_time": "2022-09-20T21:18:35.705Z"
   },
   {
    "duration": 0,
    "start_time": "2022-09-20T21:18:35.706Z"
   },
   {
    "duration": 0,
    "start_time": "2022-09-20T21:18:35.708Z"
   },
   {
    "duration": 0,
    "start_time": "2022-09-20T21:18:35.709Z"
   },
   {
    "duration": 0,
    "start_time": "2022-09-20T21:18:35.710Z"
   },
   {
    "duration": 1564,
    "start_time": "2022-09-20T21:19:40.304Z"
   },
   {
    "duration": 165,
    "start_time": "2022-09-20T21:19:41.870Z"
   },
   {
    "duration": 13,
    "start_time": "2022-09-20T21:19:42.037Z"
   },
   {
    "duration": 16,
    "start_time": "2022-09-20T21:19:42.051Z"
   },
   {
    "duration": 10,
    "start_time": "2022-09-20T21:19:42.069Z"
   },
   {
    "duration": 12,
    "start_time": "2022-09-20T21:19:42.081Z"
   },
   {
    "duration": 38,
    "start_time": "2022-09-20T21:19:42.100Z"
   },
   {
    "duration": 10,
    "start_time": "2022-09-20T21:19:42.140Z"
   },
   {
    "duration": 14,
    "start_time": "2022-09-20T21:19:42.151Z"
   },
   {
    "duration": 8,
    "start_time": "2022-09-20T21:19:42.167Z"
   },
   {
    "duration": 9,
    "start_time": "2022-09-20T21:19:42.177Z"
   },
   {
    "duration": 9,
    "start_time": "2022-09-20T21:19:42.187Z"
   },
   {
    "duration": 42,
    "start_time": "2022-09-20T21:19:42.197Z"
   },
   {
    "duration": 4,
    "start_time": "2022-09-20T21:19:42.243Z"
   },
   {
    "duration": 5,
    "start_time": "2022-09-20T21:19:42.249Z"
   },
   {
    "duration": 7,
    "start_time": "2022-09-20T21:19:42.256Z"
   },
   {
    "duration": 11,
    "start_time": "2022-09-20T21:19:42.265Z"
   },
   {
    "duration": 26,
    "start_time": "2022-09-20T21:19:42.278Z"
   },
   {
    "duration": 23,
    "start_time": "2022-09-20T21:19:42.316Z"
   },
   {
    "duration": 25,
    "start_time": "2022-09-20T21:19:42.341Z"
   },
   {
    "duration": 198,
    "start_time": "2022-09-20T21:19:42.367Z"
   },
   {
    "duration": 202,
    "start_time": "2022-09-20T21:19:42.567Z"
   },
   {
    "duration": 5,
    "start_time": "2022-09-20T21:19:42.771Z"
   },
   {
    "duration": 38,
    "start_time": "2022-09-20T21:19:42.778Z"
   },
   {
    "duration": 50,
    "start_time": "2022-09-20T21:19:42.817Z"
   },
   {
    "duration": 216,
    "start_time": "2022-09-20T21:19:42.870Z"
   },
   {
    "duration": 23,
    "start_time": "2022-09-20T21:19:43.088Z"
   },
   {
    "duration": 26,
    "start_time": "2022-09-20T21:19:43.112Z"
   },
   {
    "duration": 21,
    "start_time": "2022-09-20T21:19:43.140Z"
   },
   {
    "duration": 4,
    "start_time": "2022-09-20T21:19:43.162Z"
   },
   {
    "duration": 32,
    "start_time": "2022-09-20T21:19:43.168Z"
   },
   {
    "duration": 27,
    "start_time": "2022-09-20T21:19:43.205Z"
   },
   {
    "duration": 22,
    "start_time": "2022-09-20T21:19:43.234Z"
   },
   {
    "duration": 25,
    "start_time": "2022-09-20T21:19:43.258Z"
   },
   {
    "duration": 34,
    "start_time": "2022-09-20T21:19:43.285Z"
   },
   {
    "duration": 35,
    "start_time": "2022-09-20T21:19:43.320Z"
   },
   {
    "duration": 47,
    "start_time": "2022-09-20T21:19:43.357Z"
   },
   {
    "duration": 29,
    "start_time": "2022-09-20T21:19:43.407Z"
   },
   {
    "duration": 23,
    "start_time": "2022-09-20T21:19:43.438Z"
   },
   {
    "duration": 39,
    "start_time": "2022-09-20T21:19:43.464Z"
   },
   {
    "duration": 174,
    "start_time": "2022-09-20T21:19:43.507Z"
   },
   {
    "duration": 40,
    "start_time": "2022-09-20T21:19:43.683Z"
   },
   {
    "duration": 16,
    "start_time": "2022-09-20T21:19:43.726Z"
   },
   {
    "duration": 16,
    "start_time": "2022-09-20T21:19:43.744Z"
   },
   {
    "duration": 6,
    "start_time": "2022-09-20T21:19:43.762Z"
   },
   {
    "duration": 315,
    "start_time": "2022-09-20T21:19:43.770Z"
   },
   {
    "duration": 5,
    "start_time": "2022-09-20T21:19:44.100Z"
   },
   {
    "duration": 30,
    "start_time": "2022-09-20T21:19:44.107Z"
   },
   {
    "duration": 13,
    "start_time": "2022-09-20T21:19:44.139Z"
   },
   {
    "duration": 7,
    "start_time": "2022-09-20T21:19:44.153Z"
   },
   {
    "duration": 11,
    "start_time": "2022-09-20T21:19:44.161Z"
   },
   {
    "duration": 12466,
    "start_time": "2022-09-20T21:19:44.174Z"
   },
   {
    "duration": 0,
    "start_time": "2022-09-20T21:19:56.642Z"
   },
   {
    "duration": 0,
    "start_time": "2022-09-20T21:19:56.643Z"
   },
   {
    "duration": 0,
    "start_time": "2022-09-20T21:19:56.645Z"
   },
   {
    "duration": 0,
    "start_time": "2022-09-20T21:19:56.646Z"
   },
   {
    "duration": 0,
    "start_time": "2022-09-20T21:19:56.647Z"
   },
   {
    "duration": 0,
    "start_time": "2022-09-20T21:19:56.648Z"
   },
   {
    "duration": 0,
    "start_time": "2022-09-20T21:19:56.649Z"
   },
   {
    "duration": 0,
    "start_time": "2022-09-20T21:19:56.651Z"
   },
   {
    "duration": 0,
    "start_time": "2022-09-20T21:19:56.652Z"
   },
   {
    "duration": 0,
    "start_time": "2022-09-20T21:19:56.654Z"
   },
   {
    "duration": 0,
    "start_time": "2022-09-20T21:19:56.656Z"
   },
   {
    "duration": 0,
    "start_time": "2022-09-20T21:19:56.657Z"
   },
   {
    "duration": 0,
    "start_time": "2022-09-20T21:19:56.658Z"
   },
   {
    "duration": 0,
    "start_time": "2022-09-20T21:19:56.660Z"
   },
   {
    "duration": 0,
    "start_time": "2022-09-20T21:19:56.662Z"
   },
   {
    "duration": 0,
    "start_time": "2022-09-20T21:19:56.664Z"
   },
   {
    "duration": 0,
    "start_time": "2022-09-20T21:19:56.665Z"
   },
   {
    "duration": 0,
    "start_time": "2022-09-20T21:19:56.667Z"
   },
   {
    "duration": 1481,
    "start_time": "2022-09-20T21:20:58.121Z"
   },
   {
    "duration": 184,
    "start_time": "2022-09-20T21:20:59.604Z"
   },
   {
    "duration": 21,
    "start_time": "2022-09-20T21:20:59.789Z"
   },
   {
    "duration": 31,
    "start_time": "2022-09-20T21:20:59.813Z"
   },
   {
    "duration": 11,
    "start_time": "2022-09-20T21:20:59.847Z"
   },
   {
    "duration": 13,
    "start_time": "2022-09-20T21:20:59.859Z"
   },
   {
    "duration": 13,
    "start_time": "2022-09-20T21:20:59.874Z"
   },
   {
    "duration": 17,
    "start_time": "2022-09-20T21:20:59.888Z"
   },
   {
    "duration": 33,
    "start_time": "2022-09-20T21:20:59.906Z"
   },
   {
    "duration": 9,
    "start_time": "2022-09-20T21:20:59.940Z"
   },
   {
    "duration": 8,
    "start_time": "2022-09-20T21:20:59.951Z"
   },
   {
    "duration": 8,
    "start_time": "2022-09-20T21:20:59.960Z"
   },
   {
    "duration": 16,
    "start_time": "2022-09-20T21:20:59.970Z"
   },
   {
    "duration": 14,
    "start_time": "2022-09-20T21:20:59.992Z"
   },
   {
    "duration": 24,
    "start_time": "2022-09-20T21:21:00.014Z"
   },
   {
    "duration": 8,
    "start_time": "2022-09-20T21:21:00.040Z"
   },
   {
    "duration": 16,
    "start_time": "2022-09-20T21:21:00.050Z"
   },
   {
    "duration": 31,
    "start_time": "2022-09-20T21:21:00.069Z"
   },
   {
    "duration": 45,
    "start_time": "2022-09-20T21:21:00.102Z"
   },
   {
    "duration": 20,
    "start_time": "2022-09-20T21:21:00.148Z"
   },
   {
    "duration": 205,
    "start_time": "2022-09-20T21:21:00.170Z"
   },
   {
    "duration": 216,
    "start_time": "2022-09-20T21:21:00.377Z"
   },
   {
    "duration": 19,
    "start_time": "2022-09-20T21:21:00.595Z"
   },
   {
    "duration": 23,
    "start_time": "2022-09-20T21:21:00.619Z"
   },
   {
    "duration": 13,
    "start_time": "2022-09-20T21:21:00.643Z"
   },
   {
    "duration": 220,
    "start_time": "2022-09-20T21:21:00.658Z"
   },
   {
    "duration": 45,
    "start_time": "2022-09-20T21:21:00.880Z"
   },
   {
    "duration": 18,
    "start_time": "2022-09-20T21:21:00.931Z"
   },
   {
    "duration": 22,
    "start_time": "2022-09-20T21:21:00.950Z"
   },
   {
    "duration": 5,
    "start_time": "2022-09-20T21:21:00.974Z"
   },
   {
    "duration": 54,
    "start_time": "2022-09-20T21:21:00.981Z"
   },
   {
    "duration": 40,
    "start_time": "2022-09-20T21:21:01.038Z"
   },
   {
    "duration": 33,
    "start_time": "2022-09-20T21:21:01.079Z"
   },
   {
    "duration": 41,
    "start_time": "2022-09-20T21:21:01.114Z"
   },
   {
    "duration": 25,
    "start_time": "2022-09-20T21:21:01.156Z"
   },
   {
    "duration": 42,
    "start_time": "2022-09-20T21:21:01.183Z"
   },
   {
    "duration": 24,
    "start_time": "2022-09-20T21:21:01.227Z"
   },
   {
    "duration": 31,
    "start_time": "2022-09-20T21:21:01.252Z"
   },
   {
    "duration": 39,
    "start_time": "2022-09-20T21:21:01.284Z"
   },
   {
    "duration": 32,
    "start_time": "2022-09-20T21:21:01.328Z"
   },
   {
    "duration": 188,
    "start_time": "2022-09-20T21:21:01.365Z"
   },
   {
    "duration": 16,
    "start_time": "2022-09-20T21:21:01.555Z"
   },
   {
    "duration": 36,
    "start_time": "2022-09-20T21:21:01.572Z"
   },
   {
    "duration": 19,
    "start_time": "2022-09-20T21:21:01.609Z"
   },
   {
    "duration": 5,
    "start_time": "2022-09-20T21:21:01.629Z"
   },
   {
    "duration": 312,
    "start_time": "2022-09-20T21:21:01.636Z"
   },
   {
    "duration": 4,
    "start_time": "2022-09-20T21:21:01.950Z"
   },
   {
    "duration": 18,
    "start_time": "2022-09-20T21:21:01.956Z"
   },
   {
    "duration": 54,
    "start_time": "2022-09-20T21:21:01.976Z"
   },
   {
    "duration": 8,
    "start_time": "2022-09-20T21:21:02.032Z"
   },
   {
    "duration": 14,
    "start_time": "2022-09-20T21:21:02.042Z"
   },
   {
    "duration": 62107,
    "start_time": "2022-09-20T21:21:02.057Z"
   },
   {
    "duration": 6126,
    "start_time": "2022-09-20T21:22:04.167Z"
   },
   {
    "duration": 19,
    "start_time": "2022-09-20T21:22:10.294Z"
   },
   {
    "duration": 151,
    "start_time": "2022-09-20T21:22:10.314Z"
   },
   {
    "duration": 7,
    "start_time": "2022-09-20T21:22:10.466Z"
   },
   {
    "duration": 144,
    "start_time": "2022-09-20T21:22:10.475Z"
   },
   {
    "duration": 0,
    "start_time": "2022-09-20T21:22:10.625Z"
   },
   {
    "duration": 0,
    "start_time": "2022-09-20T21:22:10.626Z"
   },
   {
    "duration": 0,
    "start_time": "2022-09-20T21:22:10.627Z"
   },
   {
    "duration": 0,
    "start_time": "2022-09-20T21:22:10.628Z"
   },
   {
    "duration": 0,
    "start_time": "2022-09-20T21:22:10.629Z"
   },
   {
    "duration": 0,
    "start_time": "2022-09-20T21:22:10.630Z"
   },
   {
    "duration": 0,
    "start_time": "2022-09-20T21:22:10.632Z"
   },
   {
    "duration": 0,
    "start_time": "2022-09-20T21:22:10.633Z"
   },
   {
    "duration": 0,
    "start_time": "2022-09-20T21:22:10.634Z"
   },
   {
    "duration": 0,
    "start_time": "2022-09-20T21:22:10.635Z"
   },
   {
    "duration": 0,
    "start_time": "2022-09-20T21:22:10.636Z"
   },
   {
    "duration": 0,
    "start_time": "2022-09-20T21:22:10.638Z"
   },
   {
    "duration": 0,
    "start_time": "2022-09-20T21:22:10.639Z"
   },
   {
    "duration": 7,
    "start_time": "2022-09-20T21:26:07.523Z"
   },
   {
    "duration": 26,
    "start_time": "2022-09-20T21:26:14.628Z"
   },
   {
    "duration": 1599,
    "start_time": "2022-09-20T21:27:12.108Z"
   },
   {
    "duration": 161,
    "start_time": "2022-09-20T21:27:13.709Z"
   },
   {
    "duration": 15,
    "start_time": "2022-09-20T21:27:13.871Z"
   },
   {
    "duration": 30,
    "start_time": "2022-09-20T21:27:13.889Z"
   },
   {
    "duration": 23,
    "start_time": "2022-09-20T21:27:13.920Z"
   },
   {
    "duration": 17,
    "start_time": "2022-09-20T21:27:13.945Z"
   },
   {
    "duration": 18,
    "start_time": "2022-09-20T21:27:13.964Z"
   },
   {
    "duration": 7,
    "start_time": "2022-09-20T21:27:13.985Z"
   },
   {
    "duration": 47,
    "start_time": "2022-09-20T21:27:13.994Z"
   },
   {
    "duration": 9,
    "start_time": "2022-09-20T21:27:14.045Z"
   },
   {
    "duration": 12,
    "start_time": "2022-09-20T21:27:14.056Z"
   },
   {
    "duration": 9,
    "start_time": "2022-09-20T21:27:14.070Z"
   },
   {
    "duration": 25,
    "start_time": "2022-09-20T21:27:14.081Z"
   },
   {
    "duration": 17,
    "start_time": "2022-09-20T21:27:14.109Z"
   },
   {
    "duration": 9,
    "start_time": "2022-09-20T21:27:14.128Z"
   },
   {
    "duration": 7,
    "start_time": "2022-09-20T21:27:14.138Z"
   },
   {
    "duration": 15,
    "start_time": "2022-09-20T21:27:14.147Z"
   },
   {
    "duration": 20,
    "start_time": "2022-09-20T21:27:14.163Z"
   },
   {
    "duration": 45,
    "start_time": "2022-09-20T21:27:14.185Z"
   },
   {
    "duration": 16,
    "start_time": "2022-09-20T21:27:14.232Z"
   },
   {
    "duration": 200,
    "start_time": "2022-09-20T21:27:14.249Z"
   },
   {
    "duration": 206,
    "start_time": "2022-09-20T21:27:14.451Z"
   },
   {
    "duration": 4,
    "start_time": "2022-09-20T21:27:14.659Z"
   },
   {
    "duration": 35,
    "start_time": "2022-09-20T21:27:14.664Z"
   },
   {
    "duration": 21,
    "start_time": "2022-09-20T21:27:14.700Z"
   },
   {
    "duration": 202,
    "start_time": "2022-09-20T21:27:14.726Z"
   },
   {
    "duration": 23,
    "start_time": "2022-09-20T21:27:14.929Z"
   },
   {
    "duration": 14,
    "start_time": "2022-09-20T21:27:14.955Z"
   },
   {
    "duration": 20,
    "start_time": "2022-09-20T21:27:14.971Z"
   },
   {
    "duration": 19,
    "start_time": "2022-09-20T21:27:15.000Z"
   },
   {
    "duration": 38,
    "start_time": "2022-09-20T21:27:15.028Z"
   },
   {
    "duration": 23,
    "start_time": "2022-09-20T21:27:15.068Z"
   },
   {
    "duration": 31,
    "start_time": "2022-09-20T21:27:15.092Z"
   },
   {
    "duration": 28,
    "start_time": "2022-09-20T21:27:15.125Z"
   },
   {
    "duration": 23,
    "start_time": "2022-09-20T21:27:15.155Z"
   },
   {
    "duration": 42,
    "start_time": "2022-09-20T21:27:15.179Z"
   },
   {
    "duration": 34,
    "start_time": "2022-09-20T21:27:15.223Z"
   },
   {
    "duration": 24,
    "start_time": "2022-09-20T21:27:15.259Z"
   },
   {
    "duration": 45,
    "start_time": "2022-09-20T21:27:15.285Z"
   },
   {
    "duration": 23,
    "start_time": "2022-09-20T21:27:15.332Z"
   },
   {
    "duration": 199,
    "start_time": "2022-09-20T21:27:15.356Z"
   },
   {
    "duration": 15,
    "start_time": "2022-09-20T21:27:15.557Z"
   },
   {
    "duration": 43,
    "start_time": "2022-09-20T21:27:15.573Z"
   },
   {
    "duration": 20,
    "start_time": "2022-09-20T21:27:15.622Z"
   },
   {
    "duration": 3,
    "start_time": "2022-09-20T21:27:15.644Z"
   },
   {
    "duration": 289,
    "start_time": "2022-09-20T21:27:15.649Z"
   },
   {
    "duration": 5,
    "start_time": "2022-09-20T21:27:15.940Z"
   },
   {
    "duration": 5,
    "start_time": "2022-09-20T21:27:15.947Z"
   },
   {
    "duration": 15,
    "start_time": "2022-09-20T21:27:15.953Z"
   },
   {
    "duration": 27,
    "start_time": "2022-09-20T21:27:15.970Z"
   },
   {
    "duration": 52,
    "start_time": "2022-09-20T21:27:15.999Z"
   },
   {
    "duration": 58566,
    "start_time": "2022-09-20T21:27:16.053Z"
   },
   {
    "duration": 6244,
    "start_time": "2022-09-20T21:28:14.621Z"
   },
   {
    "duration": 11,
    "start_time": "2022-09-20T21:28:20.867Z"
   },
   {
    "duration": 148,
    "start_time": "2022-09-20T21:28:20.880Z"
   },
   {
    "duration": 5,
    "start_time": "2022-09-20T21:28:21.029Z"
   },
   {
    "duration": 136,
    "start_time": "2022-09-20T21:28:21.036Z"
   },
   {
    "duration": 0,
    "start_time": "2022-09-20T21:28:21.174Z"
   },
   {
    "duration": 0,
    "start_time": "2022-09-20T21:28:21.175Z"
   },
   {
    "duration": 0,
    "start_time": "2022-09-20T21:28:21.176Z"
   },
   {
    "duration": 0,
    "start_time": "2022-09-20T21:28:21.177Z"
   },
   {
    "duration": 0,
    "start_time": "2022-09-20T21:28:21.178Z"
   },
   {
    "duration": 0,
    "start_time": "2022-09-20T21:28:21.179Z"
   },
   {
    "duration": 0,
    "start_time": "2022-09-20T21:28:21.180Z"
   },
   {
    "duration": 0,
    "start_time": "2022-09-20T21:28:21.181Z"
   },
   {
    "duration": 0,
    "start_time": "2022-09-20T21:28:21.203Z"
   },
   {
    "duration": 0,
    "start_time": "2022-09-20T21:28:21.204Z"
   },
   {
    "duration": 0,
    "start_time": "2022-09-20T21:28:21.204Z"
   },
   {
    "duration": 0,
    "start_time": "2022-09-20T21:28:21.205Z"
   },
   {
    "duration": 0,
    "start_time": "2022-09-20T21:28:21.210Z"
   },
   {
    "duration": 0,
    "start_time": "2022-09-20T21:28:21.210Z"
   },
   {
    "duration": 0,
    "start_time": "2022-09-20T21:28:21.211Z"
   },
   {
    "duration": 0,
    "start_time": "2022-09-20T21:28:21.212Z"
   },
   {
    "duration": 3,
    "start_time": "2022-09-20T21:28:33.623Z"
   },
   {
    "duration": 3,
    "start_time": "2022-09-20T21:28:34.020Z"
   },
   {
    "duration": 6,
    "start_time": "2022-09-20T21:28:38.966Z"
   },
   {
    "duration": 24,
    "start_time": "2022-09-20T21:28:39.745Z"
   },
   {
    "duration": 5,
    "start_time": "2022-09-20T21:29:02.105Z"
   },
   {
    "duration": 9,
    "start_time": "2022-09-20T21:30:45.036Z"
   },
   {
    "duration": 24,
    "start_time": "2022-09-20T21:30:49.125Z"
   },
   {
    "duration": 14,
    "start_time": "2022-09-20T21:31:09.709Z"
   },
   {
    "duration": 5,
    "start_time": "2022-09-20T21:31:13.962Z"
   },
   {
    "duration": 10,
    "start_time": "2022-09-20T21:31:14.409Z"
   },
   {
    "duration": 4,
    "start_time": "2022-09-20T21:31:15.328Z"
   },
   {
    "duration": 1540,
    "start_time": "2022-09-20T21:41:03.705Z"
   },
   {
    "duration": 175,
    "start_time": "2022-09-20T21:41:05.247Z"
   },
   {
    "duration": 14,
    "start_time": "2022-09-20T21:41:05.424Z"
   },
   {
    "duration": 15,
    "start_time": "2022-09-20T21:41:05.440Z"
   },
   {
    "duration": 11,
    "start_time": "2022-09-20T21:41:05.456Z"
   },
   {
    "duration": 15,
    "start_time": "2022-09-20T21:41:05.469Z"
   },
   {
    "duration": 23,
    "start_time": "2022-09-20T21:41:05.485Z"
   },
   {
    "duration": 7,
    "start_time": "2022-09-20T21:41:05.509Z"
   },
   {
    "duration": 14,
    "start_time": "2022-09-20T21:41:05.518Z"
   },
   {
    "duration": 11,
    "start_time": "2022-09-20T21:41:05.535Z"
   },
   {
    "duration": 9,
    "start_time": "2022-09-20T21:41:05.547Z"
   },
   {
    "duration": 7,
    "start_time": "2022-09-20T21:41:05.558Z"
   },
   {
    "duration": 19,
    "start_time": "2022-09-20T21:41:05.566Z"
   },
   {
    "duration": 5,
    "start_time": "2022-09-20T21:41:05.605Z"
   },
   {
    "duration": 8,
    "start_time": "2022-09-20T21:41:05.612Z"
   },
   {
    "duration": 3,
    "start_time": "2022-09-20T21:41:05.622Z"
   },
   {
    "duration": 12,
    "start_time": "2022-09-20T21:41:05.627Z"
   },
   {
    "duration": 21,
    "start_time": "2022-09-20T21:41:05.641Z"
   },
   {
    "duration": 18,
    "start_time": "2022-09-20T21:41:05.663Z"
   },
   {
    "duration": 36,
    "start_time": "2022-09-20T21:41:05.682Z"
   },
   {
    "duration": 196,
    "start_time": "2022-09-20T21:41:05.720Z"
   },
   {
    "duration": 195,
    "start_time": "2022-09-20T21:41:05.917Z"
   },
   {
    "duration": 4,
    "start_time": "2022-09-20T21:41:06.116Z"
   },
   {
    "duration": 19,
    "start_time": "2022-09-20T21:41:06.122Z"
   },
   {
    "duration": 11,
    "start_time": "2022-09-20T21:41:06.143Z"
   },
   {
    "duration": 197,
    "start_time": "2022-09-20T21:41:06.156Z"
   },
   {
    "duration": 17,
    "start_time": "2022-09-20T21:41:06.355Z"
   },
   {
    "duration": 41,
    "start_time": "2022-09-20T21:41:06.375Z"
   },
   {
    "duration": 19,
    "start_time": "2022-09-20T21:41:06.418Z"
   },
   {
    "duration": 4,
    "start_time": "2022-09-20T21:41:06.438Z"
   },
   {
    "duration": 28,
    "start_time": "2022-09-20T21:41:06.443Z"
   },
   {
    "duration": 40,
    "start_time": "2022-09-20T21:41:06.475Z"
   },
   {
    "duration": 37,
    "start_time": "2022-09-20T21:41:06.517Z"
   },
   {
    "duration": 51,
    "start_time": "2022-09-20T21:41:06.556Z"
   },
   {
    "duration": 30,
    "start_time": "2022-09-20T21:41:06.609Z"
   },
   {
    "duration": 27,
    "start_time": "2022-09-20T21:41:06.641Z"
   },
   {
    "duration": 46,
    "start_time": "2022-09-20T21:41:06.670Z"
   },
   {
    "duration": 24,
    "start_time": "2022-09-20T21:41:06.717Z"
   },
   {
    "duration": 25,
    "start_time": "2022-09-20T21:41:06.742Z"
   },
   {
    "duration": 55,
    "start_time": "2022-09-20T21:41:06.768Z"
   },
   {
    "duration": 185,
    "start_time": "2022-09-20T21:41:06.825Z"
   },
   {
    "duration": 14,
    "start_time": "2022-09-20T21:41:07.012Z"
   },
   {
    "duration": 15,
    "start_time": "2022-09-20T21:41:07.027Z"
   },
   {
    "duration": 15,
    "start_time": "2022-09-20T21:41:07.043Z"
   },
   {
    "duration": 3,
    "start_time": "2022-09-20T21:41:07.059Z"
   },
   {
    "duration": 291,
    "start_time": "2022-09-20T21:41:07.064Z"
   },
   {
    "duration": 4,
    "start_time": "2022-09-20T21:41:07.356Z"
   },
   {
    "duration": 6,
    "start_time": "2022-09-20T21:41:07.361Z"
   },
   {
    "duration": 9,
    "start_time": "2022-09-20T21:41:07.369Z"
   },
   {
    "duration": 27,
    "start_time": "2022-09-20T21:41:07.380Z"
   },
   {
    "duration": 9,
    "start_time": "2022-09-20T21:41:07.410Z"
   },
   {
    "duration": 51884,
    "start_time": "2022-09-20T21:41:07.421Z"
   },
   {
    "duration": 5226,
    "start_time": "2022-09-20T21:41:59.306Z"
   },
   {
    "duration": 11,
    "start_time": "2022-09-20T21:42:04.533Z"
   },
   {
    "duration": 125,
    "start_time": "2022-09-20T21:42:04.546Z"
   },
   {
    "duration": 5,
    "start_time": "2022-09-20T21:42:04.672Z"
   },
   {
    "duration": 8,
    "start_time": "2022-09-20T21:42:04.678Z"
   },
   {
    "duration": 15,
    "start_time": "2022-09-20T21:42:04.688Z"
   },
   {
    "duration": 11,
    "start_time": "2022-09-20T21:42:04.705Z"
   },
   {
    "duration": 12,
    "start_time": "2022-09-20T21:42:04.720Z"
   },
   {
    "duration": 4,
    "start_time": "2022-09-20T21:42:04.733Z"
   },
   {
    "duration": 13,
    "start_time": "2022-09-20T21:42:04.739Z"
   },
   {
    "duration": 4,
    "start_time": "2022-09-20T21:42:04.754Z"
   },
   {
    "duration": 1534,
    "start_time": "2022-09-22T03:46:47.802Z"
   },
   {
    "duration": 331,
    "start_time": "2022-09-22T03:46:49.338Z"
   },
   {
    "duration": 14,
    "start_time": "2022-09-22T03:46:49.671Z"
   },
   {
    "duration": 16,
    "start_time": "2022-09-22T03:46:49.687Z"
   },
   {
    "duration": 10,
    "start_time": "2022-09-22T03:46:49.705Z"
   },
   {
    "duration": 13,
    "start_time": "2022-09-22T03:46:49.717Z"
   },
   {
    "duration": 22,
    "start_time": "2022-09-22T03:46:49.732Z"
   },
   {
    "duration": 12,
    "start_time": "2022-09-22T03:46:49.756Z"
   },
   {
    "duration": 12,
    "start_time": "2022-09-22T03:46:49.769Z"
   },
   {
    "duration": 8,
    "start_time": "2022-09-22T03:46:49.783Z"
   },
   {
    "duration": 8,
    "start_time": "2022-09-22T03:46:49.792Z"
   },
   {
    "duration": 8,
    "start_time": "2022-09-22T03:46:49.801Z"
   },
   {
    "duration": 20,
    "start_time": "2022-09-22T03:46:49.810Z"
   },
   {
    "duration": 22,
    "start_time": "2022-09-22T03:46:49.832Z"
   },
   {
    "duration": 8,
    "start_time": "2022-09-22T03:46:49.856Z"
   },
   {
    "duration": 5,
    "start_time": "2022-09-22T03:46:49.865Z"
   },
   {
    "duration": 13,
    "start_time": "2022-09-22T03:46:49.871Z"
   },
   {
    "duration": 20,
    "start_time": "2022-09-22T03:46:49.886Z"
   },
   {
    "duration": 19,
    "start_time": "2022-09-22T03:46:49.908Z"
   },
   {
    "duration": 15,
    "start_time": "2022-09-22T03:46:49.955Z"
   },
   {
    "duration": 206,
    "start_time": "2022-09-22T03:46:49.972Z"
   },
   {
    "duration": 189,
    "start_time": "2022-09-22T03:46:50.179Z"
   },
   {
    "duration": 4,
    "start_time": "2022-09-22T03:46:50.370Z"
   },
   {
    "duration": 19,
    "start_time": "2022-09-22T03:46:50.375Z"
   },
   {
    "duration": 10,
    "start_time": "2022-09-22T03:46:50.395Z"
   },
   {
    "duration": 181,
    "start_time": "2022-09-22T03:46:50.406Z"
   },
   {
    "duration": 16,
    "start_time": "2022-09-22T03:46:50.589Z"
   },
   {
    "duration": 13,
    "start_time": "2022-09-22T03:46:50.609Z"
   },
   {
    "duration": 37,
    "start_time": "2022-09-22T03:46:50.623Z"
   },
   {
    "duration": 3,
    "start_time": "2022-09-22T03:46:50.662Z"
   },
   {
    "duration": 35,
    "start_time": "2022-09-22T03:46:50.667Z"
   },
   {
    "duration": 21,
    "start_time": "2022-09-22T03:46:50.704Z"
   },
   {
    "duration": 37,
    "start_time": "2022-09-22T03:46:50.726Z"
   },
   {
    "duration": 23,
    "start_time": "2022-09-22T03:46:50.765Z"
   },
   {
    "duration": 22,
    "start_time": "2022-09-22T03:46:50.790Z"
   },
   {
    "duration": 46,
    "start_time": "2022-09-22T03:46:50.814Z"
   },
   {
    "duration": 27,
    "start_time": "2022-09-22T03:46:50.861Z"
   },
   {
    "duration": 24,
    "start_time": "2022-09-22T03:46:50.889Z"
   },
   {
    "duration": 45,
    "start_time": "2022-09-22T03:46:50.915Z"
   },
   {
    "duration": 33,
    "start_time": "2022-09-22T03:46:50.962Z"
   },
   {
    "duration": 163,
    "start_time": "2022-09-22T03:46:50.996Z"
   },
   {
    "duration": 15,
    "start_time": "2022-09-22T03:46:51.160Z"
   },
   {
    "duration": 12,
    "start_time": "2022-09-22T03:46:51.177Z"
   },
   {
    "duration": 12,
    "start_time": "2022-09-22T03:46:51.191Z"
   },
   {
    "duration": 10,
    "start_time": "2022-09-22T03:46:51.204Z"
   },
   {
    "duration": 324,
    "start_time": "2022-09-22T03:46:51.215Z"
   },
   {
    "duration": 14,
    "start_time": "2022-09-22T03:46:51.541Z"
   },
   {
    "duration": 10,
    "start_time": "2022-09-22T03:46:51.556Z"
   },
   {
    "duration": 31,
    "start_time": "2022-09-22T03:46:51.568Z"
   },
   {
    "duration": 6,
    "start_time": "2022-09-22T03:46:51.601Z"
   },
   {
    "duration": 14,
    "start_time": "2022-09-22T03:46:51.609Z"
   },
   {
    "duration": 46411,
    "start_time": "2022-09-22T03:46:51.625Z"
   },
   {
    "duration": 3,
    "start_time": "2022-09-22T03:47:38.037Z"
   },
   {
    "duration": 8,
    "start_time": "2022-09-22T03:47:38.041Z"
   },
   {
    "duration": 6,
    "start_time": "2022-09-22T03:47:38.050Z"
   },
   {
    "duration": 9,
    "start_time": "2022-09-22T03:47:38.057Z"
   },
   {
    "duration": 5,
    "start_time": "2022-09-22T03:47:38.067Z"
   },
   {
    "duration": 5,
    "start_time": "2022-09-22T03:47:38.074Z"
   },
   {
    "duration": 11,
    "start_time": "2022-09-22T03:47:38.081Z"
   },
   {
    "duration": 16,
    "start_time": "2022-09-22T03:47:38.094Z"
   },
   {
    "duration": 4,
    "start_time": "2022-09-22T03:47:38.111Z"
   },
   {
    "duration": 15,
    "start_time": "2022-09-22T03:47:38.117Z"
   },
   {
    "duration": 4,
    "start_time": "2022-09-22T03:47:38.133Z"
   },
   {
    "duration": 118,
    "start_time": "2022-09-22T03:47:38.139Z"
   },
   {
    "duration": 0,
    "start_time": "2022-09-22T03:47:38.258Z"
   },
   {
    "duration": 0,
    "start_time": "2022-09-22T03:47:38.259Z"
   },
   {
    "duration": 0,
    "start_time": "2022-09-22T03:47:38.260Z"
   },
   {
    "duration": 0,
    "start_time": "2022-09-22T03:47:38.261Z"
   },
   {
    "duration": 0,
    "start_time": "2022-09-22T03:47:38.262Z"
   },
   {
    "duration": 6367,
    "start_time": "2022-09-22T03:49:33.088Z"
   },
   {
    "duration": 1394,
    "start_time": "2022-09-22T03:53:43.188Z"
   },
   {
    "duration": 125,
    "start_time": "2022-09-22T03:53:44.584Z"
   },
   {
    "duration": 14,
    "start_time": "2022-09-22T03:53:44.710Z"
   },
   {
    "duration": 16,
    "start_time": "2022-09-22T03:53:44.726Z"
   },
   {
    "duration": 10,
    "start_time": "2022-09-22T03:53:44.744Z"
   },
   {
    "duration": 14,
    "start_time": "2022-09-22T03:53:44.755Z"
   },
   {
    "duration": 13,
    "start_time": "2022-09-22T03:53:44.771Z"
   },
   {
    "duration": 15,
    "start_time": "2022-09-22T03:53:44.786Z"
   },
   {
    "duration": 11,
    "start_time": "2022-09-22T03:53:44.802Z"
   },
   {
    "duration": 8,
    "start_time": "2022-09-22T03:53:44.815Z"
   },
   {
    "duration": 7,
    "start_time": "2022-09-22T03:53:44.825Z"
   },
   {
    "duration": 22,
    "start_time": "2022-09-22T03:53:44.833Z"
   },
   {
    "duration": 18,
    "start_time": "2022-09-22T03:53:44.856Z"
   },
   {
    "duration": 4,
    "start_time": "2022-09-22T03:53:44.875Z"
   },
   {
    "duration": 8,
    "start_time": "2022-09-22T03:53:44.881Z"
   },
   {
    "duration": 8,
    "start_time": "2022-09-22T03:53:44.891Z"
   },
   {
    "duration": 19,
    "start_time": "2022-09-22T03:53:44.900Z"
   },
   {
    "duration": 33,
    "start_time": "2022-09-22T03:53:44.921Z"
   },
   {
    "duration": 29,
    "start_time": "2022-09-22T03:53:44.955Z"
   },
   {
    "duration": 23,
    "start_time": "2022-09-22T03:53:44.986Z"
   },
   {
    "duration": 199,
    "start_time": "2022-09-22T03:53:45.010Z"
   },
   {
    "duration": 184,
    "start_time": "2022-09-22T03:53:45.210Z"
   },
   {
    "duration": 5,
    "start_time": "2022-09-22T03:53:45.395Z"
   },
   {
    "duration": 43,
    "start_time": "2022-09-22T03:53:45.401Z"
   },
   {
    "duration": 28,
    "start_time": "2022-09-22T03:53:45.446Z"
   },
   {
    "duration": 210,
    "start_time": "2022-09-22T03:53:45.475Z"
   },
   {
    "duration": 17,
    "start_time": "2022-09-22T03:53:45.687Z"
   },
   {
    "duration": 30,
    "start_time": "2022-09-22T03:53:45.708Z"
   },
   {
    "duration": 22,
    "start_time": "2022-09-22T03:53:45.739Z"
   },
   {
    "duration": 12,
    "start_time": "2022-09-22T03:53:45.763Z"
   },
   {
    "duration": 40,
    "start_time": "2022-09-22T03:53:45.777Z"
   },
   {
    "duration": 22,
    "start_time": "2022-09-22T03:53:45.819Z"
   },
   {
    "duration": 27,
    "start_time": "2022-09-22T03:53:45.842Z"
   },
   {
    "duration": 21,
    "start_time": "2022-09-22T03:53:45.871Z"
   },
   {
    "duration": 34,
    "start_time": "2022-09-22T03:53:45.893Z"
   },
   {
    "duration": 26,
    "start_time": "2022-09-22T03:53:45.928Z"
   },
   {
    "duration": 24,
    "start_time": "2022-09-22T03:53:45.955Z"
   },
   {
    "duration": 25,
    "start_time": "2022-09-22T03:53:45.980Z"
   },
   {
    "duration": 21,
    "start_time": "2022-09-22T03:53:46.007Z"
   },
   {
    "duration": 41,
    "start_time": "2022-09-22T03:53:46.029Z"
   },
   {
    "duration": 168,
    "start_time": "2022-09-22T03:53:46.072Z"
   },
   {
    "duration": 23,
    "start_time": "2022-09-22T03:53:46.242Z"
   },
   {
    "duration": 21,
    "start_time": "2022-09-22T03:53:46.267Z"
   },
   {
    "duration": 20,
    "start_time": "2022-09-22T03:53:46.289Z"
   },
   {
    "duration": 14,
    "start_time": "2022-09-22T03:53:46.310Z"
   },
   {
    "duration": 287,
    "start_time": "2022-09-22T03:53:46.326Z"
   },
   {
    "duration": 4,
    "start_time": "2022-09-22T03:53:46.615Z"
   },
   {
    "duration": 20,
    "start_time": "2022-09-22T03:53:46.620Z"
   },
   {
    "duration": 25,
    "start_time": "2022-09-22T03:53:46.642Z"
   },
   {
    "duration": 32,
    "start_time": "2022-09-22T03:53:46.669Z"
   },
   {
    "duration": 27,
    "start_time": "2022-09-22T03:53:46.702Z"
   },
   {
    "duration": 46404,
    "start_time": "2022-09-22T03:53:46.730Z"
   },
   {
    "duration": 3,
    "start_time": "2022-09-22T03:54:33.136Z"
   },
   {
    "duration": 19,
    "start_time": "2022-09-22T03:54:33.141Z"
   },
   {
    "duration": 5,
    "start_time": "2022-09-22T03:54:33.162Z"
   },
   {
    "duration": 5,
    "start_time": "2022-09-22T03:54:33.168Z"
   },
   {
    "duration": 8,
    "start_time": "2022-09-22T03:54:33.175Z"
   },
   {
    "duration": 8,
    "start_time": "2022-09-22T03:54:33.184Z"
   },
   {
    "duration": 13,
    "start_time": "2022-09-22T03:54:33.193Z"
   },
   {
    "duration": 13,
    "start_time": "2022-09-22T03:54:33.207Z"
   },
   {
    "duration": 4,
    "start_time": "2022-09-22T03:54:33.221Z"
   },
   {
    "duration": 17,
    "start_time": "2022-09-22T03:54:33.226Z"
   },
   {
    "duration": 3,
    "start_time": "2022-09-22T03:54:33.245Z"
   },
   {
    "duration": 6307,
    "start_time": "2022-09-22T03:54:33.254Z"
   },
   {
    "duration": 200,
    "start_time": "2022-09-22T03:54:39.563Z"
   },
   {
    "duration": 0,
    "start_time": "2022-09-22T03:54:39.765Z"
   },
   {
    "duration": 0,
    "start_time": "2022-09-22T03:54:39.766Z"
   },
   {
    "duration": 0,
    "start_time": "2022-09-22T03:54:39.767Z"
   },
   {
    "duration": 0,
    "start_time": "2022-09-22T03:54:39.768Z"
   },
   {
    "duration": 10,
    "start_time": "2022-09-22T03:55:07.233Z"
   },
   {
    "duration": 13,
    "start_time": "2022-09-22T03:55:07.267Z"
   },
   {
    "duration": 13,
    "start_time": "2022-09-22T03:55:07.337Z"
   },
   {
    "duration": 10,
    "start_time": "2022-09-22T03:55:07.404Z"
   },
   {
    "duration": 1372,
    "start_time": "2022-09-22T03:55:37.183Z"
   },
   {
    "duration": 134,
    "start_time": "2022-09-22T03:55:38.557Z"
   },
   {
    "duration": 13,
    "start_time": "2022-09-22T03:55:38.693Z"
   },
   {
    "duration": 28,
    "start_time": "2022-09-22T03:55:38.708Z"
   },
   {
    "duration": 14,
    "start_time": "2022-09-22T03:55:38.738Z"
   },
   {
    "duration": 20,
    "start_time": "2022-09-22T03:55:38.754Z"
   },
   {
    "duration": 17,
    "start_time": "2022-09-22T03:55:38.776Z"
   },
   {
    "duration": 14,
    "start_time": "2022-09-22T03:55:38.795Z"
   },
   {
    "duration": 11,
    "start_time": "2022-09-22T03:55:38.811Z"
   },
   {
    "duration": 12,
    "start_time": "2022-09-22T03:55:38.826Z"
   },
   {
    "duration": 10,
    "start_time": "2022-09-22T03:55:38.839Z"
   },
   {
    "duration": 7,
    "start_time": "2022-09-22T03:55:38.854Z"
   },
   {
    "duration": 27,
    "start_time": "2022-09-22T03:55:38.862Z"
   },
   {
    "duration": 6,
    "start_time": "2022-09-22T03:55:38.891Z"
   },
   {
    "duration": 10,
    "start_time": "2022-09-22T03:55:38.899Z"
   },
   {
    "duration": 15,
    "start_time": "2022-09-22T03:55:38.910Z"
   },
   {
    "duration": 23,
    "start_time": "2022-09-22T03:55:38.926Z"
   },
   {
    "duration": 34,
    "start_time": "2022-09-22T03:55:38.951Z"
   },
   {
    "duration": 18,
    "start_time": "2022-09-22T03:55:38.988Z"
   },
   {
    "duration": 24,
    "start_time": "2022-09-22T03:55:39.007Z"
   },
   {
    "duration": 197,
    "start_time": "2022-09-22T03:55:39.033Z"
   },
   {
    "duration": 188,
    "start_time": "2022-09-22T03:55:39.232Z"
   },
   {
    "duration": 5,
    "start_time": "2022-09-22T03:55:39.422Z"
   },
   {
    "duration": 50,
    "start_time": "2022-09-22T03:55:39.428Z"
   },
   {
    "duration": 11,
    "start_time": "2022-09-22T03:55:39.480Z"
   },
   {
    "duration": 169,
    "start_time": "2022-09-22T03:55:39.493Z"
   },
   {
    "duration": 17,
    "start_time": "2022-09-22T03:55:39.664Z"
   },
   {
    "duration": 13,
    "start_time": "2022-09-22T03:55:39.685Z"
   },
   {
    "duration": 14,
    "start_time": "2022-09-22T03:55:39.700Z"
   },
   {
    "duration": 3,
    "start_time": "2022-09-22T03:55:39.716Z"
   },
   {
    "duration": 53,
    "start_time": "2022-09-22T03:55:39.720Z"
   },
   {
    "duration": 23,
    "start_time": "2022-09-22T03:55:39.775Z"
   },
   {
    "duration": 23,
    "start_time": "2022-09-22T03:55:39.800Z"
   },
   {
    "duration": 50,
    "start_time": "2022-09-22T03:55:39.825Z"
   },
   {
    "duration": 25,
    "start_time": "2022-09-22T03:55:39.877Z"
   },
   {
    "duration": 22,
    "start_time": "2022-09-22T03:55:39.904Z"
   },
   {
    "duration": 47,
    "start_time": "2022-09-22T03:55:39.928Z"
   },
   {
    "duration": 22,
    "start_time": "2022-09-22T03:55:39.977Z"
   },
   {
    "duration": 22,
    "start_time": "2022-09-22T03:55:40.001Z"
   },
   {
    "duration": 51,
    "start_time": "2022-09-22T03:55:40.024Z"
   },
   {
    "duration": 177,
    "start_time": "2022-09-22T03:55:40.077Z"
   },
   {
    "duration": 14,
    "start_time": "2022-09-22T03:55:40.256Z"
   },
   {
    "duration": 15,
    "start_time": "2022-09-22T03:55:40.272Z"
   },
   {
    "duration": 14,
    "start_time": "2022-09-22T03:55:40.289Z"
   },
   {
    "duration": 2,
    "start_time": "2022-09-22T03:55:40.305Z"
   },
   {
    "duration": 305,
    "start_time": "2022-09-22T03:55:40.309Z"
   },
   {
    "duration": 4,
    "start_time": "2022-09-22T03:55:40.616Z"
   },
   {
    "duration": 8,
    "start_time": "2022-09-22T03:55:40.623Z"
   },
   {
    "duration": 26,
    "start_time": "2022-09-22T03:55:40.634Z"
   },
   {
    "duration": 4,
    "start_time": "2022-09-22T03:55:40.662Z"
   },
   {
    "duration": 11,
    "start_time": "2022-09-22T03:55:40.667Z"
   },
   {
    "duration": 47869,
    "start_time": "2022-09-22T03:55:40.679Z"
   },
   {
    "duration": 3,
    "start_time": "2022-09-22T03:56:28.549Z"
   },
   {
    "duration": 7,
    "start_time": "2022-09-22T03:56:28.554Z"
   },
   {
    "duration": 6,
    "start_time": "2022-09-22T03:56:28.562Z"
   },
   {
    "duration": 7,
    "start_time": "2022-09-22T03:56:28.570Z"
   },
   {
    "duration": 6,
    "start_time": "2022-09-22T03:56:28.578Z"
   },
   {
    "duration": 5,
    "start_time": "2022-09-22T03:56:28.585Z"
   },
   {
    "duration": 18,
    "start_time": "2022-09-22T03:56:28.592Z"
   },
   {
    "duration": 20,
    "start_time": "2022-09-22T03:56:28.612Z"
   },
   {
    "duration": 5,
    "start_time": "2022-09-22T03:56:28.633Z"
   },
   {
    "duration": 18,
    "start_time": "2022-09-22T03:56:28.640Z"
   },
   {
    "duration": 5,
    "start_time": "2022-09-22T03:56:28.660Z"
   },
   {
    "duration": 6292,
    "start_time": "2022-09-22T03:56:28.668Z"
   },
   {
    "duration": 169,
    "start_time": "2022-09-22T03:56:34.963Z"
   },
   {
    "duration": 0,
    "start_time": "2022-09-22T03:56:35.134Z"
   },
   {
    "duration": 0,
    "start_time": "2022-09-22T03:56:35.135Z"
   },
   {
    "duration": 0,
    "start_time": "2022-09-22T03:56:35.136Z"
   },
   {
    "duration": 4910,
    "start_time": "2022-09-22T03:57:12.592Z"
   },
   {
    "duration": 9,
    "start_time": "2022-09-22T03:57:17.504Z"
   },
   {
    "duration": 126,
    "start_time": "2022-09-22T03:57:17.515Z"
   },
   {
    "duration": 13,
    "start_time": "2022-09-22T03:57:17.643Z"
   },
   {
    "duration": 1377,
    "start_time": "2022-09-22T04:03:04.226Z"
   },
   {
    "duration": 129,
    "start_time": "2022-09-22T04:03:05.605Z"
   },
   {
    "duration": 13,
    "start_time": "2022-09-22T04:03:05.736Z"
   },
   {
    "duration": 25,
    "start_time": "2022-09-22T04:03:05.751Z"
   },
   {
    "duration": 26,
    "start_time": "2022-09-22T04:03:05.778Z"
   },
   {
    "duration": 32,
    "start_time": "2022-09-22T04:03:05.806Z"
   },
   {
    "duration": 35,
    "start_time": "2022-09-22T04:03:05.839Z"
   },
   {
    "duration": 32,
    "start_time": "2022-09-22T04:03:05.875Z"
   },
   {
    "duration": 22,
    "start_time": "2022-09-22T04:03:05.909Z"
   },
   {
    "duration": 36,
    "start_time": "2022-09-22T04:03:05.933Z"
   },
   {
    "duration": 23,
    "start_time": "2022-09-22T04:03:05.971Z"
   },
   {
    "duration": 28,
    "start_time": "2022-09-22T04:03:05.996Z"
   },
   {
    "duration": 25,
    "start_time": "2022-09-22T04:03:06.026Z"
   },
   {
    "duration": 20,
    "start_time": "2022-09-22T04:03:06.056Z"
   },
   {
    "duration": 35,
    "start_time": "2022-09-22T04:03:06.077Z"
   },
   {
    "duration": 19,
    "start_time": "2022-09-22T04:03:06.114Z"
   },
   {
    "duration": 45,
    "start_time": "2022-09-22T04:03:06.134Z"
   },
   {
    "duration": 32,
    "start_time": "2022-09-22T04:03:06.181Z"
   },
   {
    "duration": 27,
    "start_time": "2022-09-22T04:03:06.214Z"
   },
   {
    "duration": 40,
    "start_time": "2022-09-22T04:03:06.242Z"
   },
   {
    "duration": 209,
    "start_time": "2022-09-22T04:03:06.284Z"
   },
   {
    "duration": 195,
    "start_time": "2022-09-22T04:03:06.495Z"
   },
   {
    "duration": 4,
    "start_time": "2022-09-22T04:03:06.691Z"
   },
   {
    "duration": 37,
    "start_time": "2022-09-22T04:03:06.697Z"
   },
   {
    "duration": 17,
    "start_time": "2022-09-22T04:03:06.735Z"
   },
   {
    "duration": 183,
    "start_time": "2022-09-22T04:03:06.754Z"
   },
   {
    "duration": 18,
    "start_time": "2022-09-22T04:03:06.939Z"
   },
   {
    "duration": 24,
    "start_time": "2022-09-22T04:03:06.959Z"
   },
   {
    "duration": 15,
    "start_time": "2022-09-22T04:03:06.985Z"
   },
   {
    "duration": 16,
    "start_time": "2022-09-22T04:03:07.001Z"
   },
   {
    "duration": 47,
    "start_time": "2022-09-22T04:03:07.019Z"
   },
   {
    "duration": 27,
    "start_time": "2022-09-22T04:03:07.067Z"
   },
   {
    "duration": 25,
    "start_time": "2022-09-22T04:03:07.096Z"
   },
   {
    "duration": 23,
    "start_time": "2022-09-22T04:03:07.123Z"
   },
   {
    "duration": 24,
    "start_time": "2022-09-22T04:03:07.154Z"
   },
   {
    "duration": 32,
    "start_time": "2022-09-22T04:03:07.179Z"
   },
   {
    "duration": 28,
    "start_time": "2022-09-22T04:03:07.213Z"
   },
   {
    "duration": 36,
    "start_time": "2022-09-22T04:03:07.242Z"
   },
   {
    "duration": 26,
    "start_time": "2022-09-22T04:03:07.280Z"
   },
   {
    "duration": 35,
    "start_time": "2022-09-22T04:03:07.307Z"
   },
   {
    "duration": 170,
    "start_time": "2022-09-22T04:03:07.346Z"
   },
   {
    "duration": 15,
    "start_time": "2022-09-22T04:03:07.517Z"
   },
   {
    "duration": 28,
    "start_time": "2022-09-22T04:03:07.533Z"
   },
   {
    "duration": 12,
    "start_time": "2022-09-22T04:03:07.563Z"
   },
   {
    "duration": 18,
    "start_time": "2022-09-22T04:03:07.577Z"
   },
   {
    "duration": 285,
    "start_time": "2022-09-22T04:03:07.596Z"
   },
   {
    "duration": 5,
    "start_time": "2022-09-22T04:03:07.882Z"
   },
   {
    "duration": 32,
    "start_time": "2022-09-22T04:03:07.889Z"
   },
   {
    "duration": 22,
    "start_time": "2022-09-22T04:03:07.923Z"
   },
   {
    "duration": 39,
    "start_time": "2022-09-22T04:03:07.947Z"
   },
   {
    "duration": 29,
    "start_time": "2022-09-22T04:03:07.988Z"
   },
   {
    "duration": 124,
    "start_time": "2022-09-22T04:03:08.019Z"
   },
   {
    "duration": 0,
    "start_time": "2022-09-22T04:03:08.145Z"
   },
   {
    "duration": 0,
    "start_time": "2022-09-22T04:03:08.146Z"
   },
   {
    "duration": 0,
    "start_time": "2022-09-22T04:03:08.147Z"
   },
   {
    "duration": 0,
    "start_time": "2022-09-22T04:03:08.154Z"
   },
   {
    "duration": 0,
    "start_time": "2022-09-22T04:03:08.155Z"
   },
   {
    "duration": 0,
    "start_time": "2022-09-22T04:03:08.156Z"
   },
   {
    "duration": 0,
    "start_time": "2022-09-22T04:03:08.157Z"
   },
   {
    "duration": 0,
    "start_time": "2022-09-22T04:03:08.158Z"
   },
   {
    "duration": 0,
    "start_time": "2022-09-22T04:03:08.159Z"
   },
   {
    "duration": 0,
    "start_time": "2022-09-22T04:03:08.160Z"
   },
   {
    "duration": 0,
    "start_time": "2022-09-22T04:03:08.162Z"
   },
   {
    "duration": 0,
    "start_time": "2022-09-22T04:03:08.162Z"
   },
   {
    "duration": 0,
    "start_time": "2022-09-22T04:03:08.164Z"
   },
   {
    "duration": 0,
    "start_time": "2022-09-22T04:03:08.165Z"
   },
   {
    "duration": 0,
    "start_time": "2022-09-22T04:03:08.166Z"
   },
   {
    "duration": 0,
    "start_time": "2022-09-22T04:03:08.166Z"
   },
   {
    "duration": 1403,
    "start_time": "2022-09-22T04:03:32.024Z"
   },
   {
    "duration": 149,
    "start_time": "2022-09-22T04:03:33.429Z"
   },
   {
    "duration": 14,
    "start_time": "2022-09-22T04:03:33.580Z"
   },
   {
    "duration": 18,
    "start_time": "2022-09-22T04:03:33.595Z"
   },
   {
    "duration": 15,
    "start_time": "2022-09-22T04:03:33.616Z"
   },
   {
    "duration": 14,
    "start_time": "2022-09-22T04:03:33.633Z"
   },
   {
    "duration": 22,
    "start_time": "2022-09-22T04:03:33.648Z"
   },
   {
    "duration": 12,
    "start_time": "2022-09-22T04:03:33.672Z"
   },
   {
    "duration": 19,
    "start_time": "2022-09-22T04:03:33.685Z"
   },
   {
    "duration": 24,
    "start_time": "2022-09-22T04:03:33.705Z"
   },
   {
    "duration": 22,
    "start_time": "2022-09-22T04:03:33.731Z"
   },
   {
    "duration": 10,
    "start_time": "2022-09-22T04:03:33.754Z"
   },
   {
    "duration": 20,
    "start_time": "2022-09-22T04:03:33.765Z"
   },
   {
    "duration": 4,
    "start_time": "2022-09-22T04:03:33.789Z"
   },
   {
    "duration": 17,
    "start_time": "2022-09-22T04:03:33.795Z"
   },
   {
    "duration": 6,
    "start_time": "2022-09-22T04:03:33.814Z"
   },
   {
    "duration": 20,
    "start_time": "2022-09-22T04:03:33.822Z"
   },
   {
    "duration": 23,
    "start_time": "2022-09-22T04:03:33.843Z"
   },
   {
    "duration": 22,
    "start_time": "2022-09-22T04:03:33.868Z"
   },
   {
    "duration": 19,
    "start_time": "2022-09-22T04:03:33.891Z"
   },
   {
    "duration": 210,
    "start_time": "2022-09-22T04:03:33.912Z"
   },
   {
    "duration": 191,
    "start_time": "2022-09-22T04:03:34.124Z"
   },
   {
    "duration": 5,
    "start_time": "2022-09-22T04:03:34.317Z"
   },
   {
    "duration": 30,
    "start_time": "2022-09-22T04:03:34.324Z"
   },
   {
    "duration": 12,
    "start_time": "2022-09-22T04:03:34.356Z"
   },
   {
    "duration": 185,
    "start_time": "2022-09-22T04:03:34.370Z"
   },
   {
    "duration": 17,
    "start_time": "2022-09-22T04:03:34.557Z"
   },
   {
    "duration": 13,
    "start_time": "2022-09-22T04:03:34.576Z"
   },
   {
    "duration": 15,
    "start_time": "2022-09-22T04:03:34.591Z"
   },
   {
    "duration": 3,
    "start_time": "2022-09-22T04:03:34.607Z"
   },
   {
    "duration": 56,
    "start_time": "2022-09-22T04:03:34.611Z"
   },
   {
    "duration": 22,
    "start_time": "2022-09-22T04:03:34.669Z"
   },
   {
    "duration": 22,
    "start_time": "2022-09-22T04:03:34.693Z"
   },
   {
    "duration": 46,
    "start_time": "2022-09-22T04:03:34.716Z"
   },
   {
    "duration": 23,
    "start_time": "2022-09-22T04:03:34.763Z"
   },
   {
    "duration": 23,
    "start_time": "2022-09-22T04:03:34.788Z"
   },
   {
    "duration": 49,
    "start_time": "2022-09-22T04:03:34.812Z"
   },
   {
    "duration": 22,
    "start_time": "2022-09-22T04:03:34.863Z"
   },
   {
    "duration": 25,
    "start_time": "2022-09-22T04:03:34.886Z"
   },
   {
    "duration": 45,
    "start_time": "2022-09-22T04:03:34.913Z"
   },
   {
    "duration": 185,
    "start_time": "2022-09-22T04:03:34.963Z"
   },
   {
    "duration": 14,
    "start_time": "2022-09-22T04:03:35.153Z"
   },
   {
    "duration": 12,
    "start_time": "2022-09-22T04:03:35.169Z"
   },
   {
    "duration": 12,
    "start_time": "2022-09-22T04:03:35.183Z"
   },
   {
    "duration": 2,
    "start_time": "2022-09-22T04:03:35.197Z"
   },
   {
    "duration": 295,
    "start_time": "2022-09-22T04:03:35.201Z"
   },
   {
    "duration": 6,
    "start_time": "2022-09-22T04:03:35.498Z"
   },
   {
    "duration": 20,
    "start_time": "2022-09-22T04:03:35.506Z"
   },
   {
    "duration": 17,
    "start_time": "2022-09-22T04:03:35.528Z"
   },
   {
    "duration": 6,
    "start_time": "2022-09-22T04:03:35.547Z"
   },
   {
    "duration": 16,
    "start_time": "2022-09-22T04:03:35.555Z"
   },
   {
    "duration": 47231,
    "start_time": "2022-09-22T04:03:35.574Z"
   },
   {
    "duration": 3,
    "start_time": "2022-09-22T04:04:22.807Z"
   },
   {
    "duration": 8,
    "start_time": "2022-09-22T04:04:22.812Z"
   },
   {
    "duration": 8,
    "start_time": "2022-09-22T04:04:22.821Z"
   },
   {
    "duration": 17,
    "start_time": "2022-09-22T04:04:22.830Z"
   },
   {
    "duration": 5,
    "start_time": "2022-09-22T04:04:22.849Z"
   },
   {
    "duration": 10,
    "start_time": "2022-09-22T04:04:22.856Z"
   },
   {
    "duration": 11,
    "start_time": "2022-09-22T04:04:22.868Z"
   },
   {
    "duration": 17,
    "start_time": "2022-09-22T04:04:22.881Z"
   },
   {
    "duration": 5,
    "start_time": "2022-09-22T04:04:22.900Z"
   },
   {
    "duration": 19,
    "start_time": "2022-09-22T04:04:22.907Z"
   },
   {
    "duration": 111,
    "start_time": "2022-09-22T04:04:22.928Z"
   },
   {
    "duration": 0,
    "start_time": "2022-09-22T04:04:23.041Z"
   },
   {
    "duration": 0,
    "start_time": "2022-09-22T04:04:23.042Z"
   },
   {
    "duration": 0,
    "start_time": "2022-09-22T04:04:23.054Z"
   },
   {
    "duration": 0,
    "start_time": "2022-09-22T04:04:23.055Z"
   },
   {
    "duration": 0,
    "start_time": "2022-09-22T04:04:23.056Z"
   },
   {
    "duration": 4,
    "start_time": "2022-09-22T04:04:27.743Z"
   },
   {
    "duration": 75,
    "start_time": "2022-09-22T04:04:27.845Z"
   },
   {
    "duration": 4873,
    "start_time": "2022-09-22T04:04:28.354Z"
   },
   {
    "duration": 11,
    "start_time": "2022-09-22T04:04:33.229Z"
   },
   {
    "duration": 127,
    "start_time": "2022-09-22T04:04:33.242Z"
   },
   {
    "duration": 6,
    "start_time": "2022-09-22T04:04:33.371Z"
   },
   {
    "duration": 23,
    "start_time": "2022-09-22T04:05:20.145Z"
   },
   {
    "duration": 13,
    "start_time": "2022-09-22T04:05:40.074Z"
   },
   {
    "duration": 4,
    "start_time": "2022-09-22T04:06:13.585Z"
   },
   {
    "duration": 1343,
    "start_time": "2022-09-22T04:06:39.675Z"
   },
   {
    "duration": 132,
    "start_time": "2022-09-22T04:06:41.021Z"
   },
   {
    "duration": 13,
    "start_time": "2022-09-22T04:06:41.154Z"
   },
   {
    "duration": 36,
    "start_time": "2022-09-22T04:06:41.168Z"
   },
   {
    "duration": 20,
    "start_time": "2022-09-22T04:06:41.206Z"
   },
   {
    "duration": 40,
    "start_time": "2022-09-22T04:06:41.227Z"
   },
   {
    "duration": 22,
    "start_time": "2022-09-22T04:06:41.268Z"
   },
   {
    "duration": 29,
    "start_time": "2022-09-22T04:06:41.291Z"
   },
   {
    "duration": 26,
    "start_time": "2022-09-22T04:06:41.322Z"
   },
   {
    "duration": 23,
    "start_time": "2022-09-22T04:06:41.350Z"
   },
   {
    "duration": 22,
    "start_time": "2022-09-22T04:06:41.375Z"
   },
   {
    "duration": 17,
    "start_time": "2022-09-22T04:06:41.399Z"
   },
   {
    "duration": 34,
    "start_time": "2022-09-22T04:06:41.418Z"
   },
   {
    "duration": 33,
    "start_time": "2022-09-22T04:06:41.457Z"
   },
   {
    "duration": 9,
    "start_time": "2022-09-22T04:06:41.491Z"
   },
   {
    "duration": 17,
    "start_time": "2022-09-22T04:06:41.502Z"
   },
   {
    "duration": 23,
    "start_time": "2022-09-22T04:06:41.522Z"
   },
   {
    "duration": 25,
    "start_time": "2022-09-22T04:06:41.550Z"
   },
   {
    "duration": 24,
    "start_time": "2022-09-22T04:06:41.577Z"
   },
   {
    "duration": 25,
    "start_time": "2022-09-22T04:06:41.603Z"
   },
   {
    "duration": 251,
    "start_time": "2022-09-22T04:06:41.630Z"
   },
   {
    "duration": 186,
    "start_time": "2022-09-22T04:06:41.883Z"
   },
   {
    "duration": 5,
    "start_time": "2022-09-22T04:06:42.070Z"
   },
   {
    "duration": 19,
    "start_time": "2022-09-22T04:06:42.076Z"
   },
   {
    "duration": 11,
    "start_time": "2022-09-22T04:06:42.096Z"
   },
   {
    "duration": 183,
    "start_time": "2022-09-22T04:06:42.109Z"
   },
   {
    "duration": 17,
    "start_time": "2022-09-22T04:06:42.293Z"
   },
   {
    "duration": 15,
    "start_time": "2022-09-22T04:06:42.311Z"
   },
   {
    "duration": 39,
    "start_time": "2022-09-22T04:06:42.327Z"
   },
   {
    "duration": 3,
    "start_time": "2022-09-22T04:06:42.368Z"
   },
   {
    "duration": 29,
    "start_time": "2022-09-22T04:06:42.372Z"
   },
   {
    "duration": 21,
    "start_time": "2022-09-22T04:06:42.402Z"
   },
   {
    "duration": 45,
    "start_time": "2022-09-22T04:06:42.425Z"
   },
   {
    "duration": 22,
    "start_time": "2022-09-22T04:06:42.471Z"
   },
   {
    "duration": 25,
    "start_time": "2022-09-22T04:06:42.495Z"
   },
   {
    "duration": 43,
    "start_time": "2022-09-22T04:06:42.522Z"
   },
   {
    "duration": 23,
    "start_time": "2022-09-22T04:06:42.566Z"
   },
   {
    "duration": 22,
    "start_time": "2022-09-22T04:06:42.590Z"
   },
   {
    "duration": 49,
    "start_time": "2022-09-22T04:06:42.614Z"
   },
   {
    "duration": 22,
    "start_time": "2022-09-22T04:06:42.665Z"
   },
   {
    "duration": 184,
    "start_time": "2022-09-22T04:06:42.691Z"
   },
   {
    "duration": 14,
    "start_time": "2022-09-22T04:06:42.877Z"
   },
   {
    "duration": 14,
    "start_time": "2022-09-22T04:06:42.892Z"
   },
   {
    "duration": 13,
    "start_time": "2022-09-22T04:06:42.907Z"
   },
   {
    "duration": 3,
    "start_time": "2022-09-22T04:06:42.922Z"
   },
   {
    "duration": 278,
    "start_time": "2022-09-22T04:06:42.954Z"
   },
   {
    "duration": 4,
    "start_time": "2022-09-22T04:06:43.234Z"
   },
   {
    "duration": 15,
    "start_time": "2022-09-22T04:06:43.240Z"
   },
   {
    "duration": 12,
    "start_time": "2022-09-22T04:06:43.257Z"
   },
   {
    "duration": 8,
    "start_time": "2022-09-22T04:06:43.271Z"
   },
   {
    "duration": 12,
    "start_time": "2022-09-22T04:06:43.280Z"
   },
   {
    "duration": 47506,
    "start_time": "2022-09-22T04:06:43.294Z"
   },
   {
    "duration": 2,
    "start_time": "2022-09-22T04:07:30.802Z"
   },
   {
    "duration": 32,
    "start_time": "2022-09-22T04:07:30.805Z"
   },
   {
    "duration": 27,
    "start_time": "2022-09-22T04:07:30.839Z"
   },
   {
    "duration": 54,
    "start_time": "2022-09-22T04:07:30.868Z"
   },
   {
    "duration": 37,
    "start_time": "2022-09-22T04:07:30.924Z"
   },
   {
    "duration": 31,
    "start_time": "2022-09-22T04:07:30.963Z"
   },
   {
    "duration": 27,
    "start_time": "2022-09-22T04:07:30.996Z"
   },
   {
    "duration": 30,
    "start_time": "2022-09-22T04:07:31.025Z"
   },
   {
    "duration": 14,
    "start_time": "2022-09-22T04:07:31.057Z"
   },
   {
    "duration": 26,
    "start_time": "2022-09-22T04:07:31.072Z"
   },
   {
    "duration": 20,
    "start_time": "2022-09-22T04:07:31.100Z"
   },
   {
    "duration": 32,
    "start_time": "2022-09-22T04:07:31.122Z"
   },
   {
    "duration": 12,
    "start_time": "2022-09-22T04:07:31.156Z"
   },
   {
    "duration": 184,
    "start_time": "2022-09-22T04:07:31.170Z"
   },
   {
    "duration": 0,
    "start_time": "2022-09-22T04:07:31.356Z"
   },
   {
    "duration": 0,
    "start_time": "2022-09-22T04:07:31.357Z"
   },
   {
    "duration": 0,
    "start_time": "2022-09-22T04:07:31.358Z"
   },
   {
    "duration": 0,
    "start_time": "2022-09-22T04:07:31.360Z"
   },
   {
    "duration": 1496,
    "start_time": "2022-09-22T04:07:42.024Z"
   },
   {
    "duration": 154,
    "start_time": "2022-09-22T04:07:43.522Z"
   },
   {
    "duration": 14,
    "start_time": "2022-09-22T04:07:43.677Z"
   },
   {
    "duration": 19,
    "start_time": "2022-09-22T04:07:43.693Z"
   },
   {
    "duration": 11,
    "start_time": "2022-09-22T04:07:43.714Z"
   },
   {
    "duration": 12,
    "start_time": "2022-09-22T04:07:43.726Z"
   },
   {
    "duration": 16,
    "start_time": "2022-09-22T04:07:43.739Z"
   },
   {
    "duration": 8,
    "start_time": "2022-09-22T04:07:43.756Z"
   },
   {
    "duration": 14,
    "start_time": "2022-09-22T04:07:43.765Z"
   },
   {
    "duration": 8,
    "start_time": "2022-09-22T04:07:43.781Z"
   },
   {
    "duration": 8,
    "start_time": "2022-09-22T04:07:43.790Z"
   },
   {
    "duration": 7,
    "start_time": "2022-09-22T04:07:43.799Z"
   },
   {
    "duration": 15,
    "start_time": "2022-09-22T04:07:43.807Z"
   },
   {
    "duration": 5,
    "start_time": "2022-09-22T04:07:43.854Z"
   },
   {
    "duration": 11,
    "start_time": "2022-09-22T04:07:43.860Z"
   },
   {
    "duration": 11,
    "start_time": "2022-09-22T04:07:43.872Z"
   },
   {
    "duration": 20,
    "start_time": "2022-09-22T04:07:43.885Z"
   },
   {
    "duration": 20,
    "start_time": "2022-09-22T04:07:43.907Z"
   },
   {
    "duration": 26,
    "start_time": "2022-09-22T04:07:43.929Z"
   },
   {
    "duration": 16,
    "start_time": "2022-09-22T04:07:43.956Z"
   },
   {
    "duration": 203,
    "start_time": "2022-09-22T04:07:43.973Z"
   },
   {
    "duration": 189,
    "start_time": "2022-09-22T04:07:44.178Z"
   },
   {
    "duration": 4,
    "start_time": "2022-09-22T04:07:44.369Z"
   },
   {
    "duration": 20,
    "start_time": "2022-09-22T04:07:44.374Z"
   },
   {
    "duration": 11,
    "start_time": "2022-09-22T04:07:44.396Z"
   },
   {
    "duration": 202,
    "start_time": "2022-09-22T04:07:44.408Z"
   },
   {
    "duration": 16,
    "start_time": "2022-09-22T04:07:44.612Z"
   },
   {
    "duration": 28,
    "start_time": "2022-09-22T04:07:44.630Z"
   },
   {
    "duration": 17,
    "start_time": "2022-09-22T04:07:44.660Z"
   },
   {
    "duration": 3,
    "start_time": "2022-09-22T04:07:44.679Z"
   },
   {
    "duration": 33,
    "start_time": "2022-09-22T04:07:44.683Z"
   },
   {
    "duration": 39,
    "start_time": "2022-09-22T04:07:44.718Z"
   },
   {
    "duration": 23,
    "start_time": "2022-09-22T04:07:44.759Z"
   },
   {
    "duration": 22,
    "start_time": "2022-09-22T04:07:44.783Z"
   },
   {
    "duration": 49,
    "start_time": "2022-09-22T04:07:44.806Z"
   },
   {
    "duration": 23,
    "start_time": "2022-09-22T04:07:44.856Z"
   },
   {
    "duration": 22,
    "start_time": "2022-09-22T04:07:44.880Z"
   },
   {
    "duration": 22,
    "start_time": "2022-09-22T04:07:44.903Z"
   },
   {
    "duration": 44,
    "start_time": "2022-09-22T04:07:44.927Z"
   },
   {
    "duration": 23,
    "start_time": "2022-09-22T04:07:44.973Z"
   },
   {
    "duration": 187,
    "start_time": "2022-09-22T04:07:45.000Z"
   },
   {
    "duration": 14,
    "start_time": "2022-09-22T04:07:45.188Z"
   },
   {
    "duration": 19,
    "start_time": "2022-09-22T04:07:45.204Z"
   },
   {
    "duration": 12,
    "start_time": "2022-09-22T04:07:45.225Z"
   },
   {
    "duration": 3,
    "start_time": "2022-09-22T04:07:45.253Z"
   },
   {
    "duration": 273,
    "start_time": "2022-09-22T04:07:45.257Z"
   },
   {
    "duration": 5,
    "start_time": "2022-09-22T04:07:45.532Z"
   },
   {
    "duration": 16,
    "start_time": "2022-09-22T04:07:45.538Z"
   },
   {
    "duration": 11,
    "start_time": "2022-09-22T04:07:45.555Z"
   },
   {
    "duration": 5,
    "start_time": "2022-09-22T04:07:45.567Z"
   },
   {
    "duration": 17,
    "start_time": "2022-09-22T04:07:45.573Z"
   },
   {
    "duration": 48011,
    "start_time": "2022-09-22T04:07:45.592Z"
   },
   {
    "duration": 3,
    "start_time": "2022-09-22T04:08:33.604Z"
   },
   {
    "duration": 8,
    "start_time": "2022-09-22T04:08:33.608Z"
   },
   {
    "duration": 12,
    "start_time": "2022-09-22T04:08:33.617Z"
   },
   {
    "duration": 13,
    "start_time": "2022-09-22T04:08:33.631Z"
   },
   {
    "duration": 8,
    "start_time": "2022-09-22T04:08:33.645Z"
   },
   {
    "duration": 8,
    "start_time": "2022-09-22T04:08:33.654Z"
   },
   {
    "duration": 14,
    "start_time": "2022-09-22T04:08:33.663Z"
   },
   {
    "duration": 14,
    "start_time": "2022-09-22T04:08:33.679Z"
   },
   {
    "duration": 4,
    "start_time": "2022-09-22T04:08:33.695Z"
   },
   {
    "duration": 10,
    "start_time": "2022-09-22T04:08:33.701Z"
   },
   {
    "duration": 3,
    "start_time": "2022-09-22T04:08:33.713Z"
   },
   {
    "duration": 37,
    "start_time": "2022-09-22T04:08:33.717Z"
   },
   {
    "duration": 3,
    "start_time": "2022-09-22T04:08:33.756Z"
   },
   {
    "duration": 6402,
    "start_time": "2022-09-22T04:08:33.760Z"
   },
   {
    "duration": 4875,
    "start_time": "2022-09-22T04:08:40.164Z"
   },
   {
    "duration": 11,
    "start_time": "2022-09-22T04:08:45.040Z"
   },
   {
    "duration": 140,
    "start_time": "2022-09-22T04:08:45.052Z"
   },
   {
    "duration": 5,
    "start_time": "2022-09-22T04:08:45.193Z"
   },
   {
    "duration": 79,
    "start_time": "2022-09-22T04:12:05.649Z"
   },
   {
    "duration": 82,
    "start_time": "2022-09-22T04:12:09.400Z"
   },
   {
    "duration": 28,
    "start_time": "2022-09-22T04:12:16.860Z"
   },
   {
    "duration": 1677,
    "start_time": "2022-09-22T08:48:46.577Z"
   },
   {
    "duration": 374,
    "start_time": "2022-09-22T08:48:48.256Z"
   },
   {
    "duration": 14,
    "start_time": "2022-09-22T08:48:48.631Z"
   },
   {
    "duration": 16,
    "start_time": "2022-09-22T08:48:48.648Z"
   },
   {
    "duration": 11,
    "start_time": "2022-09-22T08:48:48.666Z"
   },
   {
    "duration": 12,
    "start_time": "2022-09-22T08:48:48.679Z"
   },
   {
    "duration": 12,
    "start_time": "2022-09-22T08:48:48.692Z"
   },
   {
    "duration": 10,
    "start_time": "2022-09-22T08:48:48.705Z"
   },
   {
    "duration": 10,
    "start_time": "2022-09-22T08:48:48.717Z"
   },
   {
    "duration": 8,
    "start_time": "2022-09-22T08:48:48.730Z"
   },
   {
    "duration": 7,
    "start_time": "2022-09-22T08:48:48.740Z"
   },
   {
    "duration": 6,
    "start_time": "2022-09-22T08:48:48.749Z"
   },
   {
    "duration": 46,
    "start_time": "2022-09-22T08:48:48.757Z"
   },
   {
    "duration": 6,
    "start_time": "2022-09-22T08:48:48.805Z"
   },
   {
    "duration": 9,
    "start_time": "2022-09-22T08:48:48.813Z"
   },
   {
    "duration": 4,
    "start_time": "2022-09-22T08:48:48.823Z"
   },
   {
    "duration": 16,
    "start_time": "2022-09-22T08:48:48.829Z"
   },
   {
    "duration": 25,
    "start_time": "2022-09-22T08:48:48.847Z"
   },
   {
    "duration": 19,
    "start_time": "2022-09-22T08:48:48.896Z"
   },
   {
    "duration": 18,
    "start_time": "2022-09-22T08:48:48.917Z"
   },
   {
    "duration": 232,
    "start_time": "2022-09-22T08:48:48.938Z"
   },
   {
    "duration": 198,
    "start_time": "2022-09-22T08:48:49.172Z"
   },
   {
    "duration": 5,
    "start_time": "2022-09-22T08:48:49.371Z"
   },
   {
    "duration": 29,
    "start_time": "2022-09-22T08:48:49.377Z"
   },
   {
    "duration": 11,
    "start_time": "2022-09-22T08:48:49.408Z"
   },
   {
    "duration": 181,
    "start_time": "2022-09-22T08:48:49.420Z"
   },
   {
    "duration": 16,
    "start_time": "2022-09-22T08:48:49.603Z"
   },
   {
    "duration": 12,
    "start_time": "2022-09-22T08:48:49.623Z"
   },
   {
    "duration": 15,
    "start_time": "2022-09-22T08:48:49.637Z"
   },
   {
    "duration": 3,
    "start_time": "2022-09-22T08:48:49.653Z"
   },
   {
    "duration": 52,
    "start_time": "2022-09-22T08:48:49.658Z"
   },
   {
    "duration": 22,
    "start_time": "2022-09-22T08:48:49.712Z"
   },
   {
    "duration": 22,
    "start_time": "2022-09-22T08:48:49.735Z"
   },
   {
    "duration": 51,
    "start_time": "2022-09-22T08:48:49.759Z"
   },
   {
    "duration": 23,
    "start_time": "2022-09-22T08:48:49.812Z"
   },
   {
    "duration": 23,
    "start_time": "2022-09-22T08:48:49.837Z"
   },
   {
    "duration": 43,
    "start_time": "2022-09-22T08:48:49.861Z"
   },
   {
    "duration": 24,
    "start_time": "2022-09-22T08:48:49.906Z"
   },
   {
    "duration": 22,
    "start_time": "2022-09-22T08:48:49.931Z"
   },
   {
    "duration": 50,
    "start_time": "2022-09-22T08:48:49.955Z"
   },
   {
    "duration": 180,
    "start_time": "2022-09-22T08:48:50.006Z"
   },
   {
    "duration": 16,
    "start_time": "2022-09-22T08:48:50.194Z"
   },
   {
    "duration": 14,
    "start_time": "2022-09-22T08:48:50.211Z"
   },
   {
    "duration": 14,
    "start_time": "2022-09-22T08:48:50.226Z"
   },
   {
    "duration": 75,
    "start_time": "2022-09-22T08:48:50.241Z"
   },
   {
    "duration": 0,
    "start_time": "2022-09-22T08:48:50.318Z"
   },
   {
    "duration": 0,
    "start_time": "2022-09-22T08:48:50.320Z"
   },
   {
    "duration": 0,
    "start_time": "2022-09-22T08:48:50.321Z"
   },
   {
    "duration": 0,
    "start_time": "2022-09-22T08:48:50.323Z"
   },
   {
    "duration": 0,
    "start_time": "2022-09-22T08:48:50.325Z"
   },
   {
    "duration": 0,
    "start_time": "2022-09-22T08:48:50.326Z"
   },
   {
    "duration": 0,
    "start_time": "2022-09-22T08:48:50.328Z"
   },
   {
    "duration": 0,
    "start_time": "2022-09-22T08:48:50.329Z"
   },
   {
    "duration": 0,
    "start_time": "2022-09-22T08:48:50.330Z"
   },
   {
    "duration": 0,
    "start_time": "2022-09-22T08:48:50.332Z"
   },
   {
    "duration": 0,
    "start_time": "2022-09-22T08:48:50.333Z"
   },
   {
    "duration": 0,
    "start_time": "2022-09-22T08:48:50.335Z"
   },
   {
    "duration": 0,
    "start_time": "2022-09-22T08:48:50.336Z"
   },
   {
    "duration": 0,
    "start_time": "2022-09-22T08:48:50.337Z"
   },
   {
    "duration": 0,
    "start_time": "2022-09-22T08:48:50.338Z"
   },
   {
    "duration": 0,
    "start_time": "2022-09-22T08:48:50.340Z"
   },
   {
    "duration": 0,
    "start_time": "2022-09-22T08:48:50.341Z"
   },
   {
    "duration": 0,
    "start_time": "2022-09-22T08:48:50.342Z"
   },
   {
    "duration": 0,
    "start_time": "2022-09-22T08:48:50.344Z"
   },
   {
    "duration": 0,
    "start_time": "2022-09-22T08:48:50.345Z"
   },
   {
    "duration": 0,
    "start_time": "2022-09-22T08:48:50.346Z"
   },
   {
    "duration": 0,
    "start_time": "2022-09-22T08:48:50.454Z"
   },
   {
    "duration": 0,
    "start_time": "2022-09-22T08:48:50.455Z"
   },
   {
    "duration": 0,
    "start_time": "2022-09-22T08:48:50.456Z"
   },
   {
    "duration": 0,
    "start_time": "2022-09-22T08:48:50.457Z"
   },
   {
    "duration": 0,
    "start_time": "2022-09-22T08:48:50.458Z"
   },
   {
    "duration": 0,
    "start_time": "2022-09-22T08:48:50.459Z"
   },
   {
    "duration": 0,
    "start_time": "2022-09-22T08:48:50.460Z"
   },
   {
    "duration": 3,
    "start_time": "2022-09-22T08:50:48.351Z"
   },
   {
    "duration": 185,
    "start_time": "2022-09-22T08:50:48.514Z"
   },
   {
    "duration": 76,
    "start_time": "2022-09-22T08:51:21.659Z"
   },
   {
    "duration": 9,
    "start_time": "2022-09-22T08:51:30.771Z"
   },
   {
    "duration": 115,
    "start_time": "2022-09-22T08:51:48.598Z"
   },
   {
    "duration": 118,
    "start_time": "2022-09-22T08:51:57.450Z"
   },
   {
    "duration": 114,
    "start_time": "2022-09-22T08:52:08.191Z"
   },
   {
    "duration": 110,
    "start_time": "2022-09-22T08:52:10.387Z"
   },
   {
    "duration": 8,
    "start_time": "2022-09-22T08:52:43.048Z"
   },
   {
    "duration": 8,
    "start_time": "2022-09-22T08:53:28.573Z"
   },
   {
    "duration": 6,
    "start_time": "2022-09-22T08:54:03.591Z"
   },
   {
    "duration": 5,
    "start_time": "2022-09-22T08:54:06.105Z"
   },
   {
    "duration": 131,
    "start_time": "2022-09-22T08:54:11.525Z"
   },
   {
    "duration": 5,
    "start_time": "2022-09-22T08:54:16.805Z"
   },
   {
    "duration": 80,
    "start_time": "2022-09-22T08:54:22.547Z"
   },
   {
    "duration": 4,
    "start_time": "2022-09-22T08:54:26.197Z"
   },
   {
    "duration": 5,
    "start_time": "2022-09-22T08:54:30.022Z"
   },
   {
    "duration": 9,
    "start_time": "2022-09-22T08:54:53.495Z"
   },
   {
    "duration": 3,
    "start_time": "2022-09-22T08:57:28.434Z"
   },
   {
    "duration": 12,
    "start_time": "2022-09-22T08:57:29.129Z"
   },
   {
    "duration": 27,
    "start_time": "2022-09-22T08:57:35.177Z"
   },
   {
    "duration": 1422,
    "start_time": "2022-09-22T09:02:04.711Z"
   },
   {
    "duration": 154,
    "start_time": "2022-09-22T09:02:06.135Z"
   },
   {
    "duration": 12,
    "start_time": "2022-09-22T09:02:06.291Z"
   },
   {
    "duration": 18,
    "start_time": "2022-09-22T09:02:06.305Z"
   },
   {
    "duration": 12,
    "start_time": "2022-09-22T09:02:06.324Z"
   },
   {
    "duration": 13,
    "start_time": "2022-09-22T09:02:06.337Z"
   },
   {
    "duration": 11,
    "start_time": "2022-09-22T09:02:06.351Z"
   },
   {
    "duration": 9,
    "start_time": "2022-09-22T09:02:06.364Z"
   },
   {
    "duration": 29,
    "start_time": "2022-09-22T09:02:06.374Z"
   },
   {
    "duration": 8,
    "start_time": "2022-09-22T09:02:06.406Z"
   },
   {
    "duration": 7,
    "start_time": "2022-09-22T09:02:06.415Z"
   },
   {
    "duration": 6,
    "start_time": "2022-09-22T09:02:06.424Z"
   },
   {
    "duration": 16,
    "start_time": "2022-09-22T09:02:06.431Z"
   },
   {
    "duration": 4,
    "start_time": "2022-09-22T09:02:06.449Z"
   },
   {
    "duration": 7,
    "start_time": "2022-09-22T09:02:06.454Z"
   },
   {
    "duration": 36,
    "start_time": "2022-09-22T09:02:06.463Z"
   },
   {
    "duration": 15,
    "start_time": "2022-09-22T09:02:06.502Z"
   },
   {
    "duration": 28,
    "start_time": "2022-09-22T09:02:06.519Z"
   },
   {
    "duration": 24,
    "start_time": "2022-09-22T09:02:06.549Z"
   },
   {
    "duration": 44,
    "start_time": "2022-09-22T09:02:06.576Z"
   },
   {
    "duration": 207,
    "start_time": "2022-09-22T09:02:06.622Z"
   },
   {
    "duration": 199,
    "start_time": "2022-09-22T09:02:06.832Z"
   },
   {
    "duration": 5,
    "start_time": "2022-09-22T09:02:07.033Z"
   },
   {
    "duration": 21,
    "start_time": "2022-09-22T09:02:07.039Z"
   },
   {
    "duration": 12,
    "start_time": "2022-09-22T09:02:07.062Z"
   },
   {
    "duration": 176,
    "start_time": "2022-09-22T09:02:07.096Z"
   },
   {
    "duration": 28,
    "start_time": "2022-09-22T09:02:07.274Z"
   },
   {
    "duration": 13,
    "start_time": "2022-09-22T09:02:07.306Z"
   },
   {
    "duration": 18,
    "start_time": "2022-09-22T09:02:07.321Z"
   },
   {
    "duration": 3,
    "start_time": "2022-09-22T09:02:07.340Z"
   },
   {
    "duration": 28,
    "start_time": "2022-09-22T09:02:07.345Z"
   },
   {
    "duration": 42,
    "start_time": "2022-09-22T09:02:07.374Z"
   },
   {
    "duration": 23,
    "start_time": "2022-09-22T09:02:07.417Z"
   },
   {
    "duration": 24,
    "start_time": "2022-09-22T09:02:07.442Z"
   },
   {
    "duration": 48,
    "start_time": "2022-09-22T09:02:07.468Z"
   },
   {
    "duration": 23,
    "start_time": "2022-09-22T09:02:07.517Z"
   },
   {
    "duration": 24,
    "start_time": "2022-09-22T09:02:07.541Z"
   },
   {
    "duration": 47,
    "start_time": "2022-09-22T09:02:07.566Z"
   },
   {
    "duration": 22,
    "start_time": "2022-09-22T09:02:07.614Z"
   },
   {
    "duration": 23,
    "start_time": "2022-09-22T09:02:07.638Z"
   },
   {
    "duration": 200,
    "start_time": "2022-09-22T09:02:07.662Z"
   },
   {
    "duration": 14,
    "start_time": "2022-09-22T09:02:07.863Z"
   },
   {
    "duration": 28,
    "start_time": "2022-09-22T09:02:07.879Z"
   },
   {
    "duration": 14,
    "start_time": "2022-09-22T09:02:07.909Z"
   },
   {
    "duration": 4,
    "start_time": "2022-09-22T09:02:07.924Z"
   },
   {
    "duration": 129,
    "start_time": "2022-09-22T09:02:07.929Z"
   },
   {
    "duration": 0,
    "start_time": "2022-09-22T09:02:08.060Z"
   },
   {
    "duration": 0,
    "start_time": "2022-09-22T09:02:08.061Z"
   },
   {
    "duration": 0,
    "start_time": "2022-09-22T09:02:08.062Z"
   },
   {
    "duration": 0,
    "start_time": "2022-09-22T09:02:08.066Z"
   },
   {
    "duration": 0,
    "start_time": "2022-09-22T09:02:08.067Z"
   },
   {
    "duration": 0,
    "start_time": "2022-09-22T09:02:08.068Z"
   },
   {
    "duration": 0,
    "start_time": "2022-09-22T09:02:08.070Z"
   },
   {
    "duration": 0,
    "start_time": "2022-09-22T09:02:08.071Z"
   },
   {
    "duration": 0,
    "start_time": "2022-09-22T09:02:08.072Z"
   },
   {
    "duration": 0,
    "start_time": "2022-09-22T09:02:08.074Z"
   },
   {
    "duration": 0,
    "start_time": "2022-09-22T09:02:08.096Z"
   },
   {
    "duration": 0,
    "start_time": "2022-09-22T09:02:08.098Z"
   },
   {
    "duration": 0,
    "start_time": "2022-09-22T09:02:08.100Z"
   },
   {
    "duration": 0,
    "start_time": "2022-09-22T09:02:08.101Z"
   },
   {
    "duration": 0,
    "start_time": "2022-09-22T09:02:08.102Z"
   },
   {
    "duration": 0,
    "start_time": "2022-09-22T09:02:08.103Z"
   },
   {
    "duration": 0,
    "start_time": "2022-09-22T09:02:08.104Z"
   },
   {
    "duration": 0,
    "start_time": "2022-09-22T09:02:08.105Z"
   },
   {
    "duration": 0,
    "start_time": "2022-09-22T09:02:08.215Z"
   },
   {
    "duration": 0,
    "start_time": "2022-09-22T09:02:08.216Z"
   },
   {
    "duration": 0,
    "start_time": "2022-09-22T09:02:08.217Z"
   },
   {
    "duration": 0,
    "start_time": "2022-09-22T09:02:08.218Z"
   },
   {
    "duration": 0,
    "start_time": "2022-09-22T09:02:08.219Z"
   },
   {
    "duration": 0,
    "start_time": "2022-09-22T09:02:08.220Z"
   },
   {
    "duration": 0,
    "start_time": "2022-09-22T09:02:08.221Z"
   },
   {
    "duration": 0,
    "start_time": "2022-09-22T09:02:08.222Z"
   },
   {
    "duration": 0,
    "start_time": "2022-09-22T09:02:08.223Z"
   },
   {
    "duration": 1480,
    "start_time": "2022-09-22T09:02:40.324Z"
   },
   {
    "duration": 148,
    "start_time": "2022-09-22T09:02:41.806Z"
   },
   {
    "duration": 13,
    "start_time": "2022-09-22T09:02:41.956Z"
   },
   {
    "duration": 18,
    "start_time": "2022-09-22T09:02:41.971Z"
   },
   {
    "duration": 11,
    "start_time": "2022-09-22T09:02:41.991Z"
   },
   {
    "duration": 13,
    "start_time": "2022-09-22T09:02:42.004Z"
   },
   {
    "duration": 13,
    "start_time": "2022-09-22T09:02:42.019Z"
   },
   {
    "duration": 10,
    "start_time": "2022-09-22T09:02:42.034Z"
   },
   {
    "duration": 11,
    "start_time": "2022-09-22T09:02:42.046Z"
   },
   {
    "duration": 13,
    "start_time": "2022-09-22T09:02:42.060Z"
   },
   {
    "duration": 21,
    "start_time": "2022-09-22T09:02:42.075Z"
   },
   {
    "duration": 6,
    "start_time": "2022-09-22T09:02:42.098Z"
   },
   {
    "duration": 18,
    "start_time": "2022-09-22T09:02:42.106Z"
   },
   {
    "duration": 5,
    "start_time": "2022-09-22T09:02:42.125Z"
   },
   {
    "duration": 14,
    "start_time": "2022-09-22T09:02:42.131Z"
   },
   {
    "duration": 6,
    "start_time": "2022-09-22T09:02:42.147Z"
   },
   {
    "duration": 14,
    "start_time": "2022-09-22T09:02:42.155Z"
   },
   {
    "duration": 45,
    "start_time": "2022-09-22T09:02:42.170Z"
   },
   {
    "duration": 18,
    "start_time": "2022-09-22T09:02:42.217Z"
   },
   {
    "duration": 19,
    "start_time": "2022-09-22T09:02:42.237Z"
   },
   {
    "duration": 217,
    "start_time": "2022-09-22T09:02:42.257Z"
   },
   {
    "duration": 202,
    "start_time": "2022-09-22T09:02:42.476Z"
   },
   {
    "duration": 5,
    "start_time": "2022-09-22T09:02:42.680Z"
   },
   {
    "duration": 23,
    "start_time": "2022-09-22T09:02:42.686Z"
   },
   {
    "duration": 11,
    "start_time": "2022-09-22T09:02:42.711Z"
   },
   {
    "duration": 211,
    "start_time": "2022-09-22T09:02:42.723Z"
   },
   {
    "duration": 17,
    "start_time": "2022-09-22T09:02:42.936Z"
   },
   {
    "duration": 15,
    "start_time": "2022-09-22T09:02:42.957Z"
   },
   {
    "duration": 35,
    "start_time": "2022-09-22T09:02:42.973Z"
   },
   {
    "duration": 3,
    "start_time": "2022-09-22T09:02:43.009Z"
   },
   {
    "duration": 27,
    "start_time": "2022-09-22T09:02:43.014Z"
   },
   {
    "duration": 23,
    "start_time": "2022-09-22T09:02:43.042Z"
   },
   {
    "duration": 49,
    "start_time": "2022-09-22T09:02:43.067Z"
   },
   {
    "duration": 23,
    "start_time": "2022-09-22T09:02:43.117Z"
   },
   {
    "duration": 24,
    "start_time": "2022-09-22T09:02:43.142Z"
   },
   {
    "duration": 49,
    "start_time": "2022-09-22T09:02:43.167Z"
   },
   {
    "duration": 23,
    "start_time": "2022-09-22T09:02:43.218Z"
   },
   {
    "duration": 24,
    "start_time": "2022-09-22T09:02:43.243Z"
   },
   {
    "duration": 49,
    "start_time": "2022-09-22T09:02:43.269Z"
   },
   {
    "duration": 20,
    "start_time": "2022-09-22T09:02:43.320Z"
   },
   {
    "duration": 190,
    "start_time": "2022-09-22T09:02:43.342Z"
   },
   {
    "duration": 14,
    "start_time": "2022-09-22T09:02:43.534Z"
   },
   {
    "duration": 14,
    "start_time": "2022-09-22T09:02:43.549Z"
   },
   {
    "duration": 39,
    "start_time": "2022-09-22T09:02:43.564Z"
   },
   {
    "duration": 3,
    "start_time": "2022-09-22T09:02:43.606Z"
   },
   {
    "duration": 9,
    "start_time": "2022-09-22T09:02:43.611Z"
   },
   {
    "duration": 32,
    "start_time": "2022-09-22T09:02:43.622Z"
   },
   {
    "duration": 54,
    "start_time": "2022-09-22T09:02:43.656Z"
   },
   {
    "duration": 288,
    "start_time": "2022-09-22T09:02:43.712Z"
   },
   {
    "duration": 6,
    "start_time": "2022-09-22T09:02:44.002Z"
   },
   {
    "duration": 5,
    "start_time": "2022-09-22T09:02:44.010Z"
   },
   {
    "duration": 14,
    "start_time": "2022-09-22T09:02:44.016Z"
   },
   {
    "duration": 4,
    "start_time": "2022-09-22T09:02:44.032Z"
   },
   {
    "duration": 12,
    "start_time": "2022-09-22T09:02:44.038Z"
   },
   {
    "duration": 48407,
    "start_time": "2022-09-22T09:02:44.051Z"
   },
   {
    "duration": 3,
    "start_time": "2022-09-22T09:03:32.459Z"
   },
   {
    "duration": 6,
    "start_time": "2022-09-22T09:03:32.464Z"
   },
   {
    "duration": 9,
    "start_time": "2022-09-22T09:03:32.472Z"
   },
   {
    "duration": 9,
    "start_time": "2022-09-22T09:03:32.482Z"
   },
   {
    "duration": 5,
    "start_time": "2022-09-22T09:03:32.492Z"
   },
   {
    "duration": 5,
    "start_time": "2022-09-22T09:03:32.499Z"
   },
   {
    "duration": 11,
    "start_time": "2022-09-22T09:03:32.506Z"
   },
   {
    "duration": 13,
    "start_time": "2022-09-22T09:03:32.519Z"
   },
   {
    "duration": 5,
    "start_time": "2022-09-22T09:03:32.534Z"
   },
   {
    "duration": 15,
    "start_time": "2022-09-22T09:03:32.540Z"
   },
   {
    "duration": 3,
    "start_time": "2022-09-22T09:03:32.557Z"
   },
   {
    "duration": 34,
    "start_time": "2022-09-22T09:03:32.562Z"
   },
   {
    "duration": 3,
    "start_time": "2022-09-22T09:03:32.598Z"
   },
   {
    "duration": 6500,
    "start_time": "2022-09-22T09:03:32.603Z"
   },
   {
    "duration": 4828,
    "start_time": "2022-09-22T09:03:39.105Z"
   },
   {
    "duration": 11,
    "start_time": "2022-09-22T09:03:43.935Z"
   },
   {
    "duration": 136,
    "start_time": "2022-09-22T09:03:43.948Z"
   },
   {
    "duration": 12,
    "start_time": "2022-09-22T09:03:44.086Z"
   },
   {
    "duration": 7,
    "start_time": "2022-09-22T09:03:44.103Z"
   },
   {
    "duration": 7,
    "start_time": "2022-09-22T09:03:50.333Z"
   },
   {
    "duration": 7,
    "start_time": "2022-09-22T09:03:55.680Z"
   },
   {
    "duration": 117,
    "start_time": "2022-09-22T09:04:17.353Z"
   },
   {
    "duration": 10,
    "start_time": "2022-09-22T09:04:21.781Z"
   },
   {
    "duration": 3,
    "start_time": "2022-09-22T09:04:39.054Z"
   },
   {
    "duration": 3,
    "start_time": "2022-09-22T09:04:39.192Z"
   },
   {
    "duration": 1450,
    "start_time": "2022-09-22T09:04:39.523Z"
   },
   {
    "duration": 0,
    "start_time": "2022-09-22T09:04:40.974Z"
   },
   {
    "duration": 1406,
    "start_time": "2022-09-22T09:04:53.555Z"
   },
   {
    "duration": 145,
    "start_time": "2022-09-22T09:04:54.963Z"
   },
   {
    "duration": 15,
    "start_time": "2022-09-22T09:04:55.110Z"
   },
   {
    "duration": 20,
    "start_time": "2022-09-22T09:04:55.126Z"
   },
   {
    "duration": 11,
    "start_time": "2022-09-22T09:04:55.149Z"
   },
   {
    "duration": 14,
    "start_time": "2022-09-22T09:04:55.161Z"
   },
   {
    "duration": 21,
    "start_time": "2022-09-22T09:04:55.176Z"
   },
   {
    "duration": 12,
    "start_time": "2022-09-22T09:04:55.198Z"
   },
   {
    "duration": 13,
    "start_time": "2022-09-22T09:04:55.212Z"
   },
   {
    "duration": 12,
    "start_time": "2022-09-22T09:04:55.227Z"
   },
   {
    "duration": 7,
    "start_time": "2022-09-22T09:04:55.241Z"
   },
   {
    "duration": 14,
    "start_time": "2022-09-22T09:04:55.250Z"
   },
   {
    "duration": 21,
    "start_time": "2022-09-22T09:04:55.266Z"
   },
   {
    "duration": 5,
    "start_time": "2022-09-22T09:04:55.295Z"
   },
   {
    "duration": 7,
    "start_time": "2022-09-22T09:04:55.301Z"
   },
   {
    "duration": 5,
    "start_time": "2022-09-22T09:04:55.310Z"
   },
   {
    "duration": 14,
    "start_time": "2022-09-22T09:04:55.317Z"
   },
   {
    "duration": 24,
    "start_time": "2022-09-22T09:04:55.332Z"
   },
   {
    "duration": 44,
    "start_time": "2022-09-22T09:04:55.357Z"
   },
   {
    "duration": 19,
    "start_time": "2022-09-22T09:04:55.403Z"
   },
   {
    "duration": 214,
    "start_time": "2022-09-22T09:04:55.424Z"
   },
   {
    "duration": 205,
    "start_time": "2022-09-22T09:04:55.640Z"
   },
   {
    "duration": 5,
    "start_time": "2022-09-22T09:04:55.846Z"
   },
   {
    "duration": 23,
    "start_time": "2022-09-22T09:04:55.853Z"
   },
   {
    "duration": 26,
    "start_time": "2022-09-22T09:04:55.879Z"
   },
   {
    "duration": 200,
    "start_time": "2022-09-22T09:04:55.907Z"
   },
   {
    "duration": 18,
    "start_time": "2022-09-22T09:04:56.109Z"
   },
   {
    "duration": 14,
    "start_time": "2022-09-22T09:04:56.129Z"
   },
   {
    "duration": 23,
    "start_time": "2022-09-22T09:04:56.144Z"
   },
   {
    "duration": 27,
    "start_time": "2022-09-22T09:04:56.168Z"
   },
   {
    "duration": 25,
    "start_time": "2022-09-22T09:04:56.197Z"
   },
   {
    "duration": 22,
    "start_time": "2022-09-22T09:04:56.224Z"
   },
   {
    "duration": 57,
    "start_time": "2022-09-22T09:04:56.248Z"
   },
   {
    "duration": 24,
    "start_time": "2022-09-22T09:04:56.307Z"
   },
   {
    "duration": 24,
    "start_time": "2022-09-22T09:04:56.332Z"
   },
   {
    "duration": 47,
    "start_time": "2022-09-22T09:04:56.358Z"
   },
   {
    "duration": 23,
    "start_time": "2022-09-22T09:04:56.406Z"
   },
   {
    "duration": 22,
    "start_time": "2022-09-22T09:04:56.431Z"
   },
   {
    "duration": 52,
    "start_time": "2022-09-22T09:04:56.455Z"
   },
   {
    "duration": 29,
    "start_time": "2022-09-22T09:04:56.509Z"
   },
   {
    "duration": 206,
    "start_time": "2022-09-22T09:04:56.543Z"
   },
   {
    "duration": 15,
    "start_time": "2022-09-22T09:04:56.750Z"
   },
   {
    "duration": 29,
    "start_time": "2022-09-22T09:04:56.767Z"
   },
   {
    "duration": 15,
    "start_time": "2022-09-22T09:04:56.798Z"
   },
   {
    "duration": 2,
    "start_time": "2022-09-22T09:04:56.815Z"
   },
   {
    "duration": 11,
    "start_time": "2022-09-22T09:04:56.819Z"
   },
   {
    "duration": 68,
    "start_time": "2022-09-22T09:04:56.833Z"
   },
   {
    "duration": 51,
    "start_time": "2022-09-22T09:04:56.903Z"
   },
   {
    "duration": 286,
    "start_time": "2022-09-22T09:04:56.956Z"
   },
   {
    "duration": 4,
    "start_time": "2022-09-22T09:04:57.244Z"
   },
   {
    "duration": 7,
    "start_time": "2022-09-22T09:04:57.250Z"
   },
   {
    "duration": 13,
    "start_time": "2022-09-22T09:04:57.258Z"
   },
   {
    "duration": 5,
    "start_time": "2022-09-22T09:04:57.273Z"
   },
   {
    "duration": 24,
    "start_time": "2022-09-22T09:04:57.279Z"
   },
   {
    "duration": 48735,
    "start_time": "2022-09-22T09:04:57.305Z"
   },
   {
    "duration": 2,
    "start_time": "2022-09-22T09:05:46.042Z"
   },
   {
    "duration": 5,
    "start_time": "2022-09-22T09:05:46.046Z"
   },
   {
    "duration": 5,
    "start_time": "2022-09-22T09:05:46.053Z"
   },
   {
    "duration": 7,
    "start_time": "2022-09-22T09:05:46.060Z"
   },
   {
    "duration": 5,
    "start_time": "2022-09-22T09:05:46.069Z"
   },
   {
    "duration": 5,
    "start_time": "2022-09-22T09:05:46.076Z"
   },
   {
    "duration": 11,
    "start_time": "2022-09-22T09:05:46.083Z"
   },
   {
    "duration": 15,
    "start_time": "2022-09-22T09:05:46.096Z"
   },
   {
    "duration": 5,
    "start_time": "2022-09-22T09:05:46.113Z"
   },
   {
    "duration": 11,
    "start_time": "2022-09-22T09:05:46.120Z"
   },
   {
    "duration": 4,
    "start_time": "2022-09-22T09:05:46.133Z"
   },
   {
    "duration": 20,
    "start_time": "2022-09-22T09:05:46.139Z"
   },
   {
    "duration": 4,
    "start_time": "2022-09-22T09:05:46.161Z"
   },
   {
    "duration": 6034,
    "start_time": "2022-09-22T09:05:46.167Z"
   },
   {
    "duration": 5003,
    "start_time": "2022-09-22T09:05:52.203Z"
   },
   {
    "duration": 12,
    "start_time": "2022-09-22T09:05:57.207Z"
   },
   {
    "duration": 132,
    "start_time": "2022-09-22T09:05:57.220Z"
   },
   {
    "duration": 4,
    "start_time": "2022-09-22T09:05:57.355Z"
   },
   {
    "duration": 110,
    "start_time": "2022-09-22T09:07:06.172Z"
   },
   {
    "duration": 26,
    "start_time": "2022-09-22T09:07:15.824Z"
   },
   {
    "duration": 1442,
    "start_time": "2022-09-22T09:11:07.819Z"
   },
   {
    "duration": 146,
    "start_time": "2022-09-22T09:11:09.263Z"
   },
   {
    "duration": 13,
    "start_time": "2022-09-22T09:11:09.411Z"
   },
   {
    "duration": 14,
    "start_time": "2022-09-22T09:11:09.426Z"
   },
   {
    "duration": 11,
    "start_time": "2022-09-22T09:11:09.442Z"
   },
   {
    "duration": 16,
    "start_time": "2022-09-22T09:11:09.455Z"
   },
   {
    "duration": 26,
    "start_time": "2022-09-22T09:11:09.472Z"
   },
   {
    "duration": 9,
    "start_time": "2022-09-22T09:11:09.500Z"
   },
   {
    "duration": 12,
    "start_time": "2022-09-22T09:11:09.510Z"
   },
   {
    "duration": 8,
    "start_time": "2022-09-22T09:11:09.524Z"
   },
   {
    "duration": 17,
    "start_time": "2022-09-22T09:11:09.534Z"
   },
   {
    "duration": 8,
    "start_time": "2022-09-22T09:11:09.553Z"
   },
   {
    "duration": 34,
    "start_time": "2022-09-22T09:11:09.562Z"
   },
   {
    "duration": 4,
    "start_time": "2022-09-22T09:11:09.598Z"
   },
   {
    "duration": 9,
    "start_time": "2022-09-22T09:11:09.604Z"
   },
   {
    "duration": 7,
    "start_time": "2022-09-22T09:11:09.614Z"
   },
   {
    "duration": 13,
    "start_time": "2022-09-22T09:11:09.623Z"
   },
   {
    "duration": 22,
    "start_time": "2022-09-22T09:11:09.638Z"
   },
   {
    "duration": 39,
    "start_time": "2022-09-22T09:11:09.662Z"
   },
   {
    "duration": 18,
    "start_time": "2022-09-22T09:11:09.702Z"
   },
   {
    "duration": 199,
    "start_time": "2022-09-22T09:11:09.722Z"
   },
   {
    "duration": 201,
    "start_time": "2022-09-22T09:11:09.923Z"
   },
   {
    "duration": 5,
    "start_time": "2022-09-22T09:11:10.125Z"
   },
   {
    "duration": 20,
    "start_time": "2022-09-22T09:11:10.131Z"
   },
   {
    "duration": 13,
    "start_time": "2022-09-22T09:11:10.152Z"
   },
   {
    "duration": 191,
    "start_time": "2022-09-22T09:11:10.166Z"
   },
   {
    "duration": 16,
    "start_time": "2022-09-22T09:11:10.358Z"
   },
   {
    "duration": 26,
    "start_time": "2022-09-22T09:11:10.378Z"
   },
   {
    "duration": 22,
    "start_time": "2022-09-22T09:11:10.406Z"
   },
   {
    "duration": 3,
    "start_time": "2022-09-22T09:11:10.430Z"
   },
   {
    "duration": 29,
    "start_time": "2022-09-22T09:11:10.434Z"
   },
   {
    "duration": 35,
    "start_time": "2022-09-22T09:11:10.465Z"
   },
   {
    "duration": 26,
    "start_time": "2022-09-22T09:11:10.502Z"
   },
   {
    "duration": 21,
    "start_time": "2022-09-22T09:11:10.530Z"
   },
   {
    "duration": 43,
    "start_time": "2022-09-22T09:11:10.553Z"
   },
   {
    "duration": 23,
    "start_time": "2022-09-22T09:11:10.598Z"
   },
   {
    "duration": 23,
    "start_time": "2022-09-22T09:11:10.622Z"
   },
   {
    "duration": 23,
    "start_time": "2022-09-22T09:11:10.646Z"
   },
   {
    "duration": 24,
    "start_time": "2022-09-22T09:11:10.694Z"
   },
   {
    "duration": 25,
    "start_time": "2022-09-22T09:11:10.719Z"
   },
   {
    "duration": 200,
    "start_time": "2022-09-22T09:11:10.746Z"
   },
   {
    "duration": 14,
    "start_time": "2022-09-22T09:11:10.948Z"
   },
   {
    "duration": 13,
    "start_time": "2022-09-22T09:11:10.964Z"
   },
   {
    "duration": 30,
    "start_time": "2022-09-22T09:11:10.978Z"
   },
   {
    "duration": 3,
    "start_time": "2022-09-22T09:11:11.009Z"
   },
   {
    "duration": 6,
    "start_time": "2022-09-22T09:11:11.013Z"
   },
   {
    "duration": 50,
    "start_time": "2022-09-22T09:11:11.020Z"
   },
   {
    "duration": 71,
    "start_time": "2022-09-22T09:11:11.072Z"
   },
   {
    "duration": 271,
    "start_time": "2022-09-22T09:11:11.145Z"
   },
   {
    "duration": 5,
    "start_time": "2022-09-22T09:11:11.417Z"
   },
   {
    "duration": 7,
    "start_time": "2022-09-22T09:11:11.423Z"
   },
   {
    "duration": 11,
    "start_time": "2022-09-22T09:11:11.432Z"
   },
   {
    "duration": 4,
    "start_time": "2022-09-22T09:11:11.445Z"
   },
   {
    "duration": 14,
    "start_time": "2022-09-22T09:11:11.450Z"
   },
   {
    "duration": 48531,
    "start_time": "2022-09-22T09:11:11.465Z"
   },
   {
    "duration": 2,
    "start_time": "2022-09-22T09:11:59.998Z"
   },
   {
    "duration": 22,
    "start_time": "2022-09-22T09:12:00.002Z"
   },
   {
    "duration": 7,
    "start_time": "2022-09-22T09:12:00.026Z"
   },
   {
    "duration": 13,
    "start_time": "2022-09-22T09:12:00.035Z"
   },
   {
    "duration": 31,
    "start_time": "2022-09-22T09:12:00.050Z"
   },
   {
    "duration": 17,
    "start_time": "2022-09-22T09:12:00.083Z"
   },
   {
    "duration": 21,
    "start_time": "2022-09-22T09:12:00.101Z"
   },
   {
    "duration": 31,
    "start_time": "2022-09-22T09:12:00.123Z"
   },
   {
    "duration": 10,
    "start_time": "2022-09-22T09:12:00.156Z"
   },
   {
    "duration": 43,
    "start_time": "2022-09-22T09:12:00.168Z"
   },
   {
    "duration": 22,
    "start_time": "2022-09-22T09:12:00.213Z"
   },
   {
    "duration": 35,
    "start_time": "2022-09-22T09:12:00.237Z"
   },
   {
    "duration": 8,
    "start_time": "2022-09-22T09:12:00.273Z"
   },
   {
    "duration": 5821,
    "start_time": "2022-09-22T09:12:00.282Z"
   },
   {
    "duration": 5431,
    "start_time": "2022-09-22T09:12:06.105Z"
   },
   {
    "duration": 13,
    "start_time": "2022-09-22T09:12:11.538Z"
   },
   {
    "duration": 152,
    "start_time": "2022-09-22T09:12:11.554Z"
   },
   {
    "duration": 5,
    "start_time": "2022-09-22T09:12:11.708Z"
   }
  ],
  "kernelspec": {
   "display_name": "Python 3 (ipykernel)",
   "language": "python",
   "name": "python3"
  },
  "language_info": {
   "codemirror_mode": {
    "name": "ipython",
    "version": 3
   },
   "file_extension": ".py",
   "mimetype": "text/x-python",
   "name": "python",
   "nbconvert_exporter": "python",
   "pygments_lexer": "ipython3",
   "version": "3.9.10"
  },
  "toc": {
   "base_numbering": 1,
   "nav_menu": {},
   "number_sections": true,
   "sideBar": true,
   "skip_h1_title": true,
   "title_cell": "Table of Contents",
   "title_sidebar": "Contents",
   "toc_cell": false,
   "toc_position": {},
   "toc_section_display": true,
   "toc_window_display": false
  }
 },
 "nbformat": 4,
 "nbformat_minor": 5
}
