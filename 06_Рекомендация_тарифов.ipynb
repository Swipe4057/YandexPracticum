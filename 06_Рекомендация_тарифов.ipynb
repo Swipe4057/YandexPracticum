{
 "cells": [
  {
   "cell_type": "markdown",
   "metadata": {},
   "source": [
    "# Рекомендация тарифов"
   ]
  },
  {
   "cell_type": "markdown",
   "metadata": {},
   "source": [
    "## Откройте и изучите файл"
   ]
  },
  {
   "cell_type": "code",
   "execution_count": 1,
   "metadata": {},
   "outputs": [],
   "source": [
    "import pandas as pd\n",
    "from sklearn.tree import DecisionTreeClassifier\n",
    "from sklearn.ensemble import RandomForestClassifier\n",
    "from sklearn.linear_model import LogisticRegression\n",
    "from sklearn.metrics import accuracy_score\n",
    "from sklearn.model_selection import train_test_split"
   ]
  },
  {
   "cell_type": "code",
   "execution_count": 2,
   "metadata": {},
   "outputs": [],
   "source": [
    "df = pd.read_csv('/datasets/users_behavior.csv')"
   ]
  },
  {
   "cell_type": "code",
   "execution_count": 3,
   "metadata": {},
   "outputs": [
    {
     "data": {
      "text/html": [
       "<div>\n",
       "<style scoped>\n",
       "    .dataframe tbody tr th:only-of-type {\n",
       "        vertical-align: middle;\n",
       "    }\n",
       "\n",
       "    .dataframe tbody tr th {\n",
       "        vertical-align: top;\n",
       "    }\n",
       "\n",
       "    .dataframe thead th {\n",
       "        text-align: right;\n",
       "    }\n",
       "</style>\n",
       "<table border=\"1\" class=\"dataframe\">\n",
       "  <thead>\n",
       "    <tr style=\"text-align: right;\">\n",
       "      <th></th>\n",
       "      <th>calls</th>\n",
       "      <th>minutes</th>\n",
       "      <th>messages</th>\n",
       "      <th>mb_used</th>\n",
       "      <th>is_ultra</th>\n",
       "    </tr>\n",
       "  </thead>\n",
       "  <tbody>\n",
       "    <tr>\n",
       "      <th>0</th>\n",
       "      <td>40.0</td>\n",
       "      <td>311.90</td>\n",
       "      <td>83.0</td>\n",
       "      <td>19915.42</td>\n",
       "      <td>0</td>\n",
       "    </tr>\n",
       "    <tr>\n",
       "      <th>1</th>\n",
       "      <td>85.0</td>\n",
       "      <td>516.75</td>\n",
       "      <td>56.0</td>\n",
       "      <td>22696.96</td>\n",
       "      <td>0</td>\n",
       "    </tr>\n",
       "    <tr>\n",
       "      <th>2</th>\n",
       "      <td>77.0</td>\n",
       "      <td>467.66</td>\n",
       "      <td>86.0</td>\n",
       "      <td>21060.45</td>\n",
       "      <td>0</td>\n",
       "    </tr>\n",
       "    <tr>\n",
       "      <th>3</th>\n",
       "      <td>106.0</td>\n",
       "      <td>745.53</td>\n",
       "      <td>81.0</td>\n",
       "      <td>8437.39</td>\n",
       "      <td>1</td>\n",
       "    </tr>\n",
       "    <tr>\n",
       "      <th>4</th>\n",
       "      <td>66.0</td>\n",
       "      <td>418.74</td>\n",
       "      <td>1.0</td>\n",
       "      <td>14502.75</td>\n",
       "      <td>0</td>\n",
       "    </tr>\n",
       "  </tbody>\n",
       "</table>\n",
       "</div>"
      ],
      "text/plain": [
       "   calls  minutes  messages   mb_used  is_ultra\n",
       "0   40.0   311.90      83.0  19915.42         0\n",
       "1   85.0   516.75      56.0  22696.96         0\n",
       "2   77.0   467.66      86.0  21060.45         0\n",
       "3  106.0   745.53      81.0   8437.39         1\n",
       "4   66.0   418.74       1.0  14502.75         0"
      ]
     },
     "execution_count": 3,
     "metadata": {},
     "output_type": "execute_result"
    }
   ],
   "source": [
    "df.head()"
   ]
  },
  {
   "cell_type": "code",
   "execution_count": 4,
   "metadata": {},
   "outputs": [
    {
     "name": "stdout",
     "output_type": "stream",
     "text": [
      "<class 'pandas.core.frame.DataFrame'>\n",
      "RangeIndex: 3214 entries, 0 to 3213\n",
      "Data columns (total 5 columns):\n",
      " #   Column    Non-Null Count  Dtype  \n",
      "---  ------    --------------  -----  \n",
      " 0   calls     3214 non-null   float64\n",
      " 1   minutes   3214 non-null   float64\n",
      " 2   messages  3214 non-null   float64\n",
      " 3   mb_used   3214 non-null   float64\n",
      " 4   is_ultra  3214 non-null   int64  \n",
      "dtypes: float64(4), int64(1)\n",
      "memory usage: 125.7 KB\n"
     ]
    }
   ],
   "source": [
    "df.info()"
   ]
  },
  {
   "cell_type": "markdown",
   "metadata": {},
   "source": [
    "## Разбейте данные на выборки"
   ]
  },
  {
   "cell_type": "code",
   "execution_count": 5,
   "metadata": {},
   "outputs": [],
   "source": [
    "df_train_80, df_test = train_test_split(df,\n",
    "                                      test_size=0.2,\n",
    "                                      random_state = 4057)"
   ]
  },
  {
   "cell_type": "code",
   "execution_count": 6,
   "metadata": {},
   "outputs": [],
   "source": [
    "df_train, df_valid = train_test_split(df_train_80,\n",
    "                                      test_size=0.25,\n",
    "                                      random_state = 4057)"
   ]
  },
  {
   "cell_type": "code",
   "execution_count": 7,
   "metadata": {},
   "outputs": [
    {
     "name": "stdout",
     "output_type": "stream",
     "text": [
      "(2571, 5)\n",
      "(1928, 5)\n",
      "(643, 5)\n",
      "(643, 5)\n"
     ]
    }
   ],
   "source": [
    "print(df_train_80.shape)\n",
    "print(df_train.shape)\n",
    "print(df_valid.shape)\n",
    "print(df_test.shape)"
   ]
  },
  {
   "cell_type": "code",
   "execution_count": 8,
   "metadata": {},
   "outputs": [],
   "source": [
    "features_train_80 = df_train_80.drop(['is_ultra'], axis=1)\n",
    "target_train_80 = df_train_80['is_ultra']\n",
    "features_train = df_train.drop(['is_ultra'], axis=1)\n",
    "target_train = df_train['is_ultra']\n",
    "features_valid = df_valid.drop(['is_ultra'], axis=1)\n",
    "target_valid = df_valid['is_ultra']\n",
    "features_test = df_test.drop(['is_ultra'], axis=1)\n",
    "target_test = df_test['is_ultra']"
   ]
  },
  {
   "cell_type": "markdown",
   "metadata": {},
   "source": [
    "## Исследуйте модели"
   ]
  },
  {
   "cell_type": "markdown",
   "metadata": {},
   "source": [
    "DecisionTreeClassifier"
   ]
  },
  {
   "cell_type": "code",
   "execution_count": 9,
   "metadata": {},
   "outputs": [
    {
     "name": "stdout",
     "output_type": "stream",
     "text": [
      "Accuracy наилучшей модели на валидационной выборке: 0.7947122861586314\n",
      "Глубина дерева наилучшей модели на валидационной выборке: 7\n"
     ]
    }
   ],
   "source": [
    "best_model_dt = None\n",
    "best_result_dt = 0\n",
    "best_depth_dt = 0\n",
    "for i in range(1, 8):\n",
    "    model_dt = DecisionTreeClassifier(random_state = 4057,\n",
    "                                      max_depth = i)\n",
    "    model_dt.fit(features_train, target_train)\n",
    "    accuracy = model_dt.score(features_valid, target_valid)\n",
    "    if accuracy > best_result_dt:\n",
    "        best_result_dt = accuracy\n",
    "        best_model_dt = model_dt\n",
    "        best_depth_dt = i\n",
    "print(\"Accuracy наилучшей модели на валидационной выборке:\", best_result_dt)\n",
    "print(\"Глубина дерева наилучшей модели на валидационной выборке:\", best_depth_dt)"
   ]
  },
  {
   "cell_type": "markdown",
   "metadata": {},
   "source": [
    "RandomForestClassifier"
   ]
  },
  {
   "cell_type": "code",
   "execution_count": 10,
   "metadata": {},
   "outputs": [
    {
     "name": "stdout",
     "output_type": "stream",
     "text": [
      "Accuracy наилучшей модели на валидационной выборке: 0.8133748055987559\n",
      "Глубина дерева наилучшей модели на валидационной выборке: 8\n",
      "Количество деревьев наилучшей модели на валидационной выборке: 13\n"
     ]
    }
   ],
   "source": [
    "best_model_rf = None\n",
    "best_result_rf = 0\n",
    "best_depth_rf = 0\n",
    "best_n_estimators_rf = 0\n",
    "for i in range(1, 15):\n",
    "    for k in range(1, 10):\n",
    "        model_rf = RandomForestClassifier(random_state = 4057, \n",
    "                                          n_estimators = i,\n",
    "                                          max_depth = k)\n",
    "        model_rf.fit(features_train, target_train)\n",
    "        accuracy = model_rf.score(features_valid, target_valid)\n",
    "        if accuracy > best_result_rf:\n",
    "            best_result_rf = accuracy\n",
    "            best_model_rf = model_rf\n",
    "            best_depth_rf = k\n",
    "            best_n_estimators_rf = i\n",
    "print(\"Accuracy наилучшей модели на валидационной выборке:\", best_result_rf)\n",
    "print(\"Глубина дерева наилучшей модели на валидационной выборке:\", best_depth_rf)\n",
    "print(\"Количество деревьев наилучшей модели на валидационной выборке:\", best_n_estimators_rf)"
   ]
  },
  {
   "cell_type": "markdown",
   "metadata": {},
   "source": [
    "LogisticRegression"
   ]
  },
  {
   "cell_type": "code",
   "execution_count": 11,
   "metadata": {},
   "outputs": [
    {
     "name": "stdout",
     "output_type": "stream",
     "text": [
      "Accuracy модели на валидационной выборке: 0.7371695178849145\n"
     ]
    }
   ],
   "source": [
    "model_lr = LogisticRegression(random_state = 4057, \n",
    "                              solver='lbfgs',\n",
    "                              max_iter=1000)\n",
    "model_lr.fit(features_train, target_train)\n",
    "accuracy = model_lr.score(features_valid, target_valid)\n",
    "print(\"Accuracy модели на валидационной выборке:\", accuracy)"
   ]
  },
  {
   "cell_type": "markdown",
   "metadata": {},
   "source": [
    "## Проверьте модель на тестовой выборке"
   ]
  },
  {
   "cell_type": "code",
   "execution_count": 12,
   "metadata": {},
   "outputs": [
    {
     "name": "stdout",
     "output_type": "stream",
     "text": [
      "Accuracy наилучшей модели на тестовой выборке: 0.8180404354587869\n"
     ]
    }
   ],
   "source": [
    "accuracy = best_model_rf.score(features_test, target_test)\n",
    "print(\"Accuracy наилучшей модели на тестовой выборке:\", accuracy)"
   ]
  },
  {
   "cell_type": "markdown",
   "metadata": {},
   "source": [
    "## Вывод"
   ]
  },
  {
   "cell_type": "markdown",
   "metadata": {},
   "source": [
    "Из всех моделей лучшей оказалась модель случайного леса, но также она дольше всех обучается."
   ]
  }
 ],
 "metadata": {
  "ExecuteTimeLog": [
   {
    "duration": 1100,
    "start_time": "2022-04-25T03:49:26.042Z"
   },
   {
    "duration": 28,
    "start_time": "2022-04-25T03:49:27.144Z"
   },
   {
    "duration": 15,
    "start_time": "2022-04-25T03:49:27.173Z"
   },
   {
    "duration": 10,
    "start_time": "2022-04-25T03:49:27.190Z"
   },
   {
    "duration": 1181,
    "start_time": "2022-04-25T03:52:26.374Z"
   },
   {
    "duration": 18,
    "start_time": "2022-04-25T03:52:27.557Z"
   },
   {
    "duration": 15,
    "start_time": "2022-04-25T03:52:27.577Z"
   },
   {
    "duration": 10,
    "start_time": "2022-04-25T03:52:27.594Z"
   },
   {
    "duration": 7,
    "start_time": "2022-04-25T03:52:27.606Z"
   },
   {
    "duration": 5,
    "start_time": "2022-04-25T03:52:27.615Z"
   },
   {
    "duration": 6,
    "start_time": "2022-04-25T03:52:27.621Z"
   },
   {
    "duration": 6,
    "start_time": "2022-04-25T03:52:27.628Z"
   },
   {
    "duration": 38,
    "start_time": "2022-04-25T03:52:27.636Z"
   },
   {
    "duration": 2422,
    "start_time": "2022-04-25T03:52:27.701Z"
   },
   {
    "duration": 30,
    "start_time": "2022-04-25T03:52:30.124Z"
   },
   {
    "duration": 8,
    "start_time": "2022-04-25T03:53:41.661Z"
   },
   {
    "duration": 8,
    "start_time": "2022-04-25T03:54:50.293Z"
   },
   {
    "duration": 1191,
    "start_time": "2022-04-25T03:55:20.348Z"
   },
   {
    "duration": 28,
    "start_time": "2022-04-25T03:55:21.541Z"
   },
   {
    "duration": 15,
    "start_time": "2022-04-25T03:55:21.571Z"
   },
   {
    "duration": 9,
    "start_time": "2022-04-25T03:55:21.588Z"
   },
   {
    "duration": 7,
    "start_time": "2022-04-25T03:55:21.599Z"
   },
   {
    "duration": 7,
    "start_time": "2022-04-25T03:55:21.607Z"
   },
   {
    "duration": 5,
    "start_time": "2022-04-25T03:55:21.616Z"
   },
   {
    "duration": 8,
    "start_time": "2022-04-25T03:55:21.623Z"
   },
   {
    "duration": 70,
    "start_time": "2022-04-25T03:55:21.633Z"
   },
   {
    "duration": 2443,
    "start_time": "2022-04-25T03:55:21.706Z"
   },
   {
    "duration": 31,
    "start_time": "2022-04-25T03:55:24.151Z"
   },
   {
    "duration": 21,
    "start_time": "2022-04-25T03:55:24.184Z"
   },
   {
    "duration": 1335,
    "start_time": "2022-04-25T03:56:23.157Z"
   },
   {
    "duration": 18,
    "start_time": "2022-04-25T03:56:24.494Z"
   },
   {
    "duration": 17,
    "start_time": "2022-04-25T03:56:24.514Z"
   },
   {
    "duration": 10,
    "start_time": "2022-04-25T03:56:24.533Z"
   },
   {
    "duration": 6,
    "start_time": "2022-04-25T03:56:24.545Z"
   },
   {
    "duration": 6,
    "start_time": "2022-04-25T03:56:24.553Z"
   },
   {
    "duration": 6,
    "start_time": "2022-04-25T03:56:24.561Z"
   },
   {
    "duration": 32,
    "start_time": "2022-04-25T03:56:24.568Z"
   },
   {
    "duration": 42,
    "start_time": "2022-04-25T03:56:24.602Z"
   },
   {
    "duration": 2325,
    "start_time": "2022-04-25T03:56:24.645Z"
   },
   {
    "duration": 42,
    "start_time": "2022-04-25T03:56:26.972Z"
   },
   {
    "duration": 8,
    "start_time": "2022-04-25T03:56:27.017Z"
   },
   {
    "duration": 1234,
    "start_time": "2022-04-25T14:13:16.993Z"
   },
   {
    "duration": 31,
    "start_time": "2022-04-25T14:13:18.229Z"
   },
   {
    "duration": 15,
    "start_time": "2022-04-25T14:13:18.262Z"
   },
   {
    "duration": 10,
    "start_time": "2022-04-25T14:13:18.280Z"
   },
   {
    "duration": 13,
    "start_time": "2022-04-25T14:13:18.292Z"
   },
   {
    "duration": 14,
    "start_time": "2022-04-25T14:13:18.307Z"
   },
   {
    "duration": 8,
    "start_time": "2022-04-25T14:13:18.323Z"
   },
   {
    "duration": 15,
    "start_time": "2022-04-25T14:13:18.333Z"
   },
   {
    "duration": 41,
    "start_time": "2022-04-25T14:13:18.349Z"
   },
   {
    "duration": 2600,
    "start_time": "2022-04-25T14:13:18.393Z"
   },
   {
    "duration": 32,
    "start_time": "2022-04-25T14:13:20.995Z"
   },
   {
    "duration": 27,
    "start_time": "2022-04-25T14:13:21.029Z"
   }
  ],
  "kernelspec": {
   "display_name": "Python 3 (ipykernel)",
   "language": "python",
   "name": "python3"
  },
  "language_info": {
   "codemirror_mode": {
    "name": "ipython",
    "version": 3
   },
   "file_extension": ".py",
   "mimetype": "text/x-python",
   "name": "python",
   "nbconvert_exporter": "python",
   "pygments_lexer": "ipython3",
   "version": "3.9.10"
  },
  "toc": {
   "base_numbering": 1,
   "nav_menu": {},
   "number_sections": true,
   "sideBar": true,
   "skip_h1_title": true,
   "title_cell": "Table of Contents",
   "title_sidebar": "Contents",
   "toc_cell": false,
   "toc_position": {},
   "toc_section_display": true,
   "toc_window_display": false
  }
 },
 "nbformat": 4,
 "nbformat_minor": 2
}
