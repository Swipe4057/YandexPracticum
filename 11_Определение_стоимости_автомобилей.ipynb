{
 "cells": [
  {
   "cell_type": "markdown",
   "metadata": {},
   "source": [
    "# Определение стоимости автомобилей"
   ]
  },
  {
   "cell_type": "markdown",
   "metadata": {},
   "source": [
    "## Подготовка данных"
   ]
  },
  {
   "cell_type": "code",
   "execution_count": 1,
   "metadata": {},
   "outputs": [],
   "source": [
    "import pandas as pd\n",
    "import numpy as np\n",
    "import seaborn as sns\n",
    "\n",
    "from sklearn.preprocessing import LabelEncoder\n",
    "from sklearn.ensemble import RandomForestRegressor\n",
    "\n",
    "from catboost import CatBoostRegressor\n",
    "from lightgbm import LGBMRegressor\n",
    "\n",
    "from sklearn.model_selection import train_test_split, GridSearchCV\n",
    "from sklearn.metrics import mean_squared_error"
   ]
  },
  {
   "cell_type": "code",
   "execution_count": 2,
   "metadata": {},
   "outputs": [],
   "source": [
    "df = pd.read_csv('/datasets/autos.csv')"
   ]
  },
  {
   "cell_type": "code",
   "execution_count": 3,
   "metadata": {},
   "outputs": [
    {
     "name": "stdout",
     "output_type": "stream",
     "text": [
      "<class 'pandas.core.frame.DataFrame'>\n",
      "RangeIndex: 354369 entries, 0 to 354368\n",
      "Data columns (total 16 columns):\n",
      " #   Column             Non-Null Count   Dtype \n",
      "---  ------             --------------   ----- \n",
      " 0   DateCrawled        354369 non-null  object\n",
      " 1   Price              354369 non-null  int64 \n",
      " 2   VehicleType        316879 non-null  object\n",
      " 3   RegistrationYear   354369 non-null  int64 \n",
      " 4   Gearbox            334536 non-null  object\n",
      " 5   Power              354369 non-null  int64 \n",
      " 6   Model              334664 non-null  object\n",
      " 7   Kilometer          354369 non-null  int64 \n",
      " 8   RegistrationMonth  354369 non-null  int64 \n",
      " 9   FuelType           321474 non-null  object\n",
      " 10  Brand              354369 non-null  object\n",
      " 11  NotRepaired        283215 non-null  object\n",
      " 12  DateCreated        354369 non-null  object\n",
      " 13  NumberOfPictures   354369 non-null  int64 \n",
      " 14  PostalCode         354369 non-null  int64 \n",
      " 15  LastSeen           354369 non-null  object\n",
      "dtypes: int64(7), object(9)\n",
      "memory usage: 43.3+ MB\n"
     ]
    }
   ],
   "source": [
    "df.info()"
   ]
  },
  {
   "cell_type": "code",
   "execution_count": 4,
   "metadata": {},
   "outputs": [
    {
     "data": {
      "text/html": [
       "<div>\n",
       "<style scoped>\n",
       "    .dataframe tbody tr th:only-of-type {\n",
       "        vertical-align: middle;\n",
       "    }\n",
       "\n",
       "    .dataframe tbody tr th {\n",
       "        vertical-align: top;\n",
       "    }\n",
       "\n",
       "    .dataframe thead th {\n",
       "        text-align: right;\n",
       "    }\n",
       "</style>\n",
       "<table border=\"1\" class=\"dataframe\">\n",
       "  <thead>\n",
       "    <tr style=\"text-align: right;\">\n",
       "      <th></th>\n",
       "      <th>DateCrawled</th>\n",
       "      <th>Price</th>\n",
       "      <th>VehicleType</th>\n",
       "      <th>RegistrationYear</th>\n",
       "      <th>Gearbox</th>\n",
       "      <th>Power</th>\n",
       "      <th>Model</th>\n",
       "      <th>Kilometer</th>\n",
       "      <th>RegistrationMonth</th>\n",
       "      <th>FuelType</th>\n",
       "      <th>Brand</th>\n",
       "      <th>NotRepaired</th>\n",
       "      <th>DateCreated</th>\n",
       "      <th>NumberOfPictures</th>\n",
       "      <th>PostalCode</th>\n",
       "      <th>LastSeen</th>\n",
       "    </tr>\n",
       "  </thead>\n",
       "  <tbody>\n",
       "    <tr>\n",
       "      <th>0</th>\n",
       "      <td>2016-03-24 11:52:17</td>\n",
       "      <td>480</td>\n",
       "      <td>NaN</td>\n",
       "      <td>1993</td>\n",
       "      <td>manual</td>\n",
       "      <td>0</td>\n",
       "      <td>golf</td>\n",
       "      <td>150000</td>\n",
       "      <td>0</td>\n",
       "      <td>petrol</td>\n",
       "      <td>volkswagen</td>\n",
       "      <td>NaN</td>\n",
       "      <td>2016-03-24 00:00:00</td>\n",
       "      <td>0</td>\n",
       "      <td>70435</td>\n",
       "      <td>2016-04-07 03:16:57</td>\n",
       "    </tr>\n",
       "    <tr>\n",
       "      <th>1</th>\n",
       "      <td>2016-03-24 10:58:45</td>\n",
       "      <td>18300</td>\n",
       "      <td>coupe</td>\n",
       "      <td>2011</td>\n",
       "      <td>manual</td>\n",
       "      <td>190</td>\n",
       "      <td>NaN</td>\n",
       "      <td>125000</td>\n",
       "      <td>5</td>\n",
       "      <td>gasoline</td>\n",
       "      <td>audi</td>\n",
       "      <td>yes</td>\n",
       "      <td>2016-03-24 00:00:00</td>\n",
       "      <td>0</td>\n",
       "      <td>66954</td>\n",
       "      <td>2016-04-07 01:46:50</td>\n",
       "    </tr>\n",
       "    <tr>\n",
       "      <th>2</th>\n",
       "      <td>2016-03-14 12:52:21</td>\n",
       "      <td>9800</td>\n",
       "      <td>suv</td>\n",
       "      <td>2004</td>\n",
       "      <td>auto</td>\n",
       "      <td>163</td>\n",
       "      <td>grand</td>\n",
       "      <td>125000</td>\n",
       "      <td>8</td>\n",
       "      <td>gasoline</td>\n",
       "      <td>jeep</td>\n",
       "      <td>NaN</td>\n",
       "      <td>2016-03-14 00:00:00</td>\n",
       "      <td>0</td>\n",
       "      <td>90480</td>\n",
       "      <td>2016-04-05 12:47:46</td>\n",
       "    </tr>\n",
       "    <tr>\n",
       "      <th>3</th>\n",
       "      <td>2016-03-17 16:54:04</td>\n",
       "      <td>1500</td>\n",
       "      <td>small</td>\n",
       "      <td>2001</td>\n",
       "      <td>manual</td>\n",
       "      <td>75</td>\n",
       "      <td>golf</td>\n",
       "      <td>150000</td>\n",
       "      <td>6</td>\n",
       "      <td>petrol</td>\n",
       "      <td>volkswagen</td>\n",
       "      <td>no</td>\n",
       "      <td>2016-03-17 00:00:00</td>\n",
       "      <td>0</td>\n",
       "      <td>91074</td>\n",
       "      <td>2016-03-17 17:40:17</td>\n",
       "    </tr>\n",
       "    <tr>\n",
       "      <th>4</th>\n",
       "      <td>2016-03-31 17:25:20</td>\n",
       "      <td>3600</td>\n",
       "      <td>small</td>\n",
       "      <td>2008</td>\n",
       "      <td>manual</td>\n",
       "      <td>69</td>\n",
       "      <td>fabia</td>\n",
       "      <td>90000</td>\n",
       "      <td>7</td>\n",
       "      <td>gasoline</td>\n",
       "      <td>skoda</td>\n",
       "      <td>no</td>\n",
       "      <td>2016-03-31 00:00:00</td>\n",
       "      <td>0</td>\n",
       "      <td>60437</td>\n",
       "      <td>2016-04-06 10:17:21</td>\n",
       "    </tr>\n",
       "  </tbody>\n",
       "</table>\n",
       "</div>"
      ],
      "text/plain": [
       "           DateCrawled  Price VehicleType  RegistrationYear Gearbox  Power  \\\n",
       "0  2016-03-24 11:52:17    480         NaN              1993  manual      0   \n",
       "1  2016-03-24 10:58:45  18300       coupe              2011  manual    190   \n",
       "2  2016-03-14 12:52:21   9800         suv              2004    auto    163   \n",
       "3  2016-03-17 16:54:04   1500       small              2001  manual     75   \n",
       "4  2016-03-31 17:25:20   3600       small              2008  manual     69   \n",
       "\n",
       "   Model  Kilometer  RegistrationMonth  FuelType       Brand NotRepaired  \\\n",
       "0   golf     150000                  0    petrol  volkswagen         NaN   \n",
       "1    NaN     125000                  5  gasoline        audi         yes   \n",
       "2  grand     125000                  8  gasoline        jeep         NaN   \n",
       "3   golf     150000                  6    petrol  volkswagen          no   \n",
       "4  fabia      90000                  7  gasoline       skoda          no   \n",
       "\n",
       "           DateCreated  NumberOfPictures  PostalCode             LastSeen  \n",
       "0  2016-03-24 00:00:00                 0       70435  2016-04-07 03:16:57  \n",
       "1  2016-03-24 00:00:00                 0       66954  2016-04-07 01:46:50  \n",
       "2  2016-03-14 00:00:00                 0       90480  2016-04-05 12:47:46  \n",
       "3  2016-03-17 00:00:00                 0       91074  2016-03-17 17:40:17  \n",
       "4  2016-03-31 00:00:00                 0       60437  2016-04-06 10:17:21  "
      ]
     },
     "execution_count": 4,
     "metadata": {},
     "output_type": "execute_result"
    }
   ],
   "source": [
    "df.head()"
   ]
  },
  {
   "cell_type": "code",
   "execution_count": 5,
   "metadata": {},
   "outputs": [
    {
     "data": {
      "text/html": [
       "<div>\n",
       "<style scoped>\n",
       "    .dataframe tbody tr th:only-of-type {\n",
       "        vertical-align: middle;\n",
       "    }\n",
       "\n",
       "    .dataframe tbody tr th {\n",
       "        vertical-align: top;\n",
       "    }\n",
       "\n",
       "    .dataframe thead th {\n",
       "        text-align: right;\n",
       "    }\n",
       "</style>\n",
       "<table border=\"1\" class=\"dataframe\">\n",
       "  <thead>\n",
       "    <tr style=\"text-align: right;\">\n",
       "      <th></th>\n",
       "      <th>Price</th>\n",
       "      <th>RegistrationYear</th>\n",
       "      <th>Power</th>\n",
       "      <th>Kilometer</th>\n",
       "      <th>RegistrationMonth</th>\n",
       "      <th>NumberOfPictures</th>\n",
       "      <th>PostalCode</th>\n",
       "    </tr>\n",
       "  </thead>\n",
       "  <tbody>\n",
       "    <tr>\n",
       "      <th>count</th>\n",
       "      <td>354369.000000</td>\n",
       "      <td>354369.000000</td>\n",
       "      <td>354369.000000</td>\n",
       "      <td>354369.000000</td>\n",
       "      <td>354369.000000</td>\n",
       "      <td>354369.0</td>\n",
       "      <td>354369.000000</td>\n",
       "    </tr>\n",
       "    <tr>\n",
       "      <th>mean</th>\n",
       "      <td>4416.656776</td>\n",
       "      <td>2004.234448</td>\n",
       "      <td>110.094337</td>\n",
       "      <td>128211.172535</td>\n",
       "      <td>5.714645</td>\n",
       "      <td>0.0</td>\n",
       "      <td>50508.689087</td>\n",
       "    </tr>\n",
       "    <tr>\n",
       "      <th>std</th>\n",
       "      <td>4514.158514</td>\n",
       "      <td>90.227958</td>\n",
       "      <td>189.850405</td>\n",
       "      <td>37905.341530</td>\n",
       "      <td>3.726421</td>\n",
       "      <td>0.0</td>\n",
       "      <td>25783.096248</td>\n",
       "    </tr>\n",
       "    <tr>\n",
       "      <th>min</th>\n",
       "      <td>0.000000</td>\n",
       "      <td>1000.000000</td>\n",
       "      <td>0.000000</td>\n",
       "      <td>5000.000000</td>\n",
       "      <td>0.000000</td>\n",
       "      <td>0.0</td>\n",
       "      <td>1067.000000</td>\n",
       "    </tr>\n",
       "    <tr>\n",
       "      <th>25%</th>\n",
       "      <td>1050.000000</td>\n",
       "      <td>1999.000000</td>\n",
       "      <td>69.000000</td>\n",
       "      <td>125000.000000</td>\n",
       "      <td>3.000000</td>\n",
       "      <td>0.0</td>\n",
       "      <td>30165.000000</td>\n",
       "    </tr>\n",
       "    <tr>\n",
       "      <th>50%</th>\n",
       "      <td>2700.000000</td>\n",
       "      <td>2003.000000</td>\n",
       "      <td>105.000000</td>\n",
       "      <td>150000.000000</td>\n",
       "      <td>6.000000</td>\n",
       "      <td>0.0</td>\n",
       "      <td>49413.000000</td>\n",
       "    </tr>\n",
       "    <tr>\n",
       "      <th>75%</th>\n",
       "      <td>6400.000000</td>\n",
       "      <td>2008.000000</td>\n",
       "      <td>143.000000</td>\n",
       "      <td>150000.000000</td>\n",
       "      <td>9.000000</td>\n",
       "      <td>0.0</td>\n",
       "      <td>71083.000000</td>\n",
       "    </tr>\n",
       "    <tr>\n",
       "      <th>max</th>\n",
       "      <td>20000.000000</td>\n",
       "      <td>9999.000000</td>\n",
       "      <td>20000.000000</td>\n",
       "      <td>150000.000000</td>\n",
       "      <td>12.000000</td>\n",
       "      <td>0.0</td>\n",
       "      <td>99998.000000</td>\n",
       "    </tr>\n",
       "  </tbody>\n",
       "</table>\n",
       "</div>"
      ],
      "text/plain": [
       "               Price  RegistrationYear          Power      Kilometer  \\\n",
       "count  354369.000000     354369.000000  354369.000000  354369.000000   \n",
       "mean     4416.656776       2004.234448     110.094337  128211.172535   \n",
       "std      4514.158514         90.227958     189.850405   37905.341530   \n",
       "min         0.000000       1000.000000       0.000000    5000.000000   \n",
       "25%      1050.000000       1999.000000      69.000000  125000.000000   \n",
       "50%      2700.000000       2003.000000     105.000000  150000.000000   \n",
       "75%      6400.000000       2008.000000     143.000000  150000.000000   \n",
       "max     20000.000000       9999.000000   20000.000000  150000.000000   \n",
       "\n",
       "       RegistrationMonth  NumberOfPictures     PostalCode  \n",
       "count      354369.000000          354369.0  354369.000000  \n",
       "mean            5.714645               0.0   50508.689087  \n",
       "std             3.726421               0.0   25783.096248  \n",
       "min             0.000000               0.0    1067.000000  \n",
       "25%             3.000000               0.0   30165.000000  \n",
       "50%             6.000000               0.0   49413.000000  \n",
       "75%             9.000000               0.0   71083.000000  \n",
       "max            12.000000               0.0   99998.000000  "
      ]
     },
     "execution_count": 5,
     "metadata": {},
     "output_type": "execute_result"
    }
   ],
   "source": [
    "df.describe()"
   ]
  },
  {
   "cell_type": "markdown",
   "metadata": {},
   "source": [
    "Как видим в данных существуют пропуски и выбросы"
   ]
  },
  {
   "cell_type": "markdown",
   "metadata": {},
   "source": [
    "Целевой признак - Цена, найдем количество бесплатных автомобилей:"
   ]
  },
  {
   "cell_type": "code",
   "execution_count": 6,
   "metadata": {},
   "outputs": [
    {
     "data": {
      "text/plain": [
       "10772"
      ]
     },
     "execution_count": 6,
     "metadata": {},
     "output_type": "execute_result"
    }
   ],
   "source": [
    "df[df['Price']==0]['Price'].count()"
   ]
  },
  {
   "cell_type": "markdown",
   "metadata": {},
   "source": [
    "Распределение целевого признака:"
   ]
  },
  {
   "cell_type": "code",
   "execution_count": 7,
   "metadata": {},
   "outputs": [
    {
     "data": {
      "text/plain": [
       "<AxesSubplot:>"
      ]
     },
     "execution_count": 7,
     "metadata": {},
     "output_type": "execute_result"
    },
    {
     "data": {
      "image/png": "[encoded data removed]",
      "text/plain": [
       "<Figure size 1080x504 with 1 Axes>"
      ]
     },
     "metadata": {
      "needs_background": "light"
     },
     "output_type": "display_data"
    }
   ],
   "source": [
    "df['Price'].hist(bins=250, figsize=(15,7))"
   ]
  },
  {
   "cell_type": "markdown",
   "metadata": {},
   "source": [
    "Исключим даныне из рассмотрения для которых цена указана как 0:"
   ]
  },
  {
   "cell_type": "code",
   "execution_count": 8,
   "metadata": {},
   "outputs": [],
   "source": [
    "df = df.query('Price>0')"
   ]
  },
  {
   "cell_type": "markdown",
   "metadata": {},
   "source": [
    "Мощность автомобиля не может быть равна нулю, поэтому такие нулевые признаки будем считать пропусками в значениях:"
   ]
  },
  {
   "cell_type": "code",
   "execution_count": 9,
   "metadata": {},
   "outputs": [],
   "source": [
    "df.loc[df['Power']==0, 'Power'] = np.nan"
   ]
  },
  {
   "cell_type": "code",
   "execution_count": 10,
   "metadata": {},
   "outputs": [
    {
     "data": {
      "text/plain": [
       "<AxesSubplot:>"
      ]
     },
     "execution_count": 10,
     "metadata": {},
     "output_type": "execute_result"
    },
    {
     "data": {
      "image/png": "[encoded data removed]",
      "text/plain": [
       "<Figure size 1080x504 with 1 Axes>"
      ]
     },
     "metadata": {
      "needs_background": "light"
     },
     "output_type": "display_data"
    }
   ],
   "source": [
    "df[\"Power\"].hist(range = [0,300], bins=250, figsize=(15,7))"
   ]
  },
  {
   "cell_type": "code",
   "execution_count": 11,
   "metadata": {},
   "outputs": [
    {
     "data": {
      "text/plain": [
       "45.0"
      ]
     },
     "execution_count": 11,
     "metadata": {},
     "output_type": "execute_result"
    }
   ],
   "source": [
    "power_quantile_1 = df[\"Power\"].quantile(0.01)\n",
    "power_quantile_1"
   ]
  },
  {
   "cell_type": "code",
   "execution_count": 12,
   "metadata": {},
   "outputs": [
    {
     "data": {
      "text/plain": [
       "306.0"
      ]
     },
     "execution_count": 12,
     "metadata": {},
     "output_type": "execute_result"
    }
   ],
   "source": [
    "power_quantile_99 = df['Power'].quantile(0.99)\n",
    "power_quantile_99"
   ]
  },
  {
   "cell_type": "code",
   "execution_count": 13,
   "metadata": {},
   "outputs": [],
   "source": [
    "df.loc[df['Power']<power_quantile_1, 'Power'] = np.nan\n",
    "df.loc[df['Power']>power_quantile_99, 'Power'] = np.nan"
   ]
  },
  {
   "cell_type": "markdown",
   "metadata": {},
   "source": [
    "В годе выпуска существуют выбросы значений, исключим такие данные из рассмотрения:"
   ]
  },
  {
   "cell_type": "code",
   "execution_count": 14,
   "metadata": {},
   "outputs": [
    {
     "data": {
      "text/plain": [
       "1000    31\n",
       "1001     1\n",
       "1039     1\n",
       "1111     1\n",
       "1234     4\n",
       "        ..\n",
       "8500     1\n",
       "8888     1\n",
       "9000     2\n",
       "9450     1\n",
       "9999    18\n",
       "Name: RegistrationYear, Length: 140, dtype: int64"
      ]
     },
     "execution_count": 14,
     "metadata": {},
     "output_type": "execute_result"
    }
   ],
   "source": [
    "df['RegistrationYear'].value_counts().sort_index()"
   ]
  },
  {
   "cell_type": "code",
   "execution_count": 15,
   "metadata": {},
   "outputs": [
    {
     "data": {
      "text/plain": [
       "1980.0"
      ]
     },
     "execution_count": 15,
     "metadata": {},
     "output_type": "execute_result"
    }
   ],
   "source": [
    "registration_year_quantile_1 = df['RegistrationYear'].quantile(0.01)\n",
    "registration_year_quantile_1"
   ]
  },
  {
   "cell_type": "code",
   "execution_count": 17,
   "metadata": {},
   "outputs": [
    {
     "data": {
      "text/html": [
       "<div>\n",
       "<style scoped>\n",
       "    .dataframe tbody tr th:only-of-type {\n",
       "        vertical-align: middle;\n",
       "    }\n",
       "\n",
       "    .dataframe tbody tr th {\n",
       "        vertical-align: top;\n",
       "    }\n",
       "\n",
       "    .dataframe thead th {\n",
       "        text-align: right;\n",
       "    }\n",
       "</style>\n",
       "<table border=\"1\" class=\"dataframe\">\n",
       "  <thead>\n",
       "    <tr style=\"text-align: right;\">\n",
       "      <th></th>\n",
       "      <th>DateCrawled</th>\n",
       "      <th>VehicleType</th>\n",
       "      <th>Gearbox</th>\n",
       "      <th>Model</th>\n",
       "      <th>FuelType</th>\n",
       "      <th>Brand</th>\n",
       "      <th>NotRepaired</th>\n",
       "      <th>DateCreated</th>\n",
       "      <th>LastSeen</th>\n",
       "    </tr>\n",
       "  </thead>\n",
       "  <tbody>\n",
       "    <tr>\n",
       "      <th>count</th>\n",
       "      <td>343597</td>\n",
       "      <td>309847</td>\n",
       "      <td>326242</td>\n",
       "      <td>326076</td>\n",
       "      <td>314138</td>\n",
       "      <td>343597</td>\n",
       "      <td>277731</td>\n",
       "      <td>343597</td>\n",
       "      <td>343597</td>\n",
       "    </tr>\n",
       "    <tr>\n",
       "      <th>unique</th>\n",
       "      <td>265135</td>\n",
       "      <td>8</td>\n",
       "      <td>2</td>\n",
       "      <td>250</td>\n",
       "      <td>7</td>\n",
       "      <td>40</td>\n",
       "      <td>2</td>\n",
       "      <td>109</td>\n",
       "      <td>174543</td>\n",
       "    </tr>\n",
       "    <tr>\n",
       "      <th>top</th>\n",
       "      <td>2016-03-24 14:49:47</td>\n",
       "      <td>sedan</td>\n",
       "      <td>manual</td>\n",
       "      <td>golf</td>\n",
       "      <td>petrol</td>\n",
       "      <td>volkswagen</td>\n",
       "      <td>no</td>\n",
       "      <td>2016-04-03 00:00:00</td>\n",
       "      <td>2016-04-06 09:46:00</td>\n",
       "    </tr>\n",
       "    <tr>\n",
       "      <th>freq</th>\n",
       "      <td>7</td>\n",
       "      <td>89405</td>\n",
       "      <td>261373</td>\n",
       "      <td>28246</td>\n",
       "      <td>210765</td>\n",
       "      <td>74413</td>\n",
       "      <td>243682</td>\n",
       "      <td>13342</td>\n",
       "      <td>16</td>\n",
       "    </tr>\n",
       "  </tbody>\n",
       "</table>\n",
       "</div>"
      ],
      "text/plain": [
       "                DateCrawled VehicleType Gearbox   Model FuelType       Brand  \\\n",
       "count                343597      309847  326242  326076   314138      343597   \n",
       "unique               265135           8       2     250        7          40   \n",
       "top     2016-03-24 14:49:47       sedan  manual    golf   petrol  volkswagen   \n",
       "freq                      7       89405  261373   28246   210765       74413   \n",
       "\n",
       "       NotRepaired          DateCreated             LastSeen  \n",
       "count       277731               343597               343597  \n",
       "unique           2                  109               174543  \n",
       "top             no  2016-04-03 00:00:00  2016-04-06 09:46:00  \n",
       "freq        243682                13342                   16  "
      ]
     },
     "execution_count": 17,
     "metadata": {},
     "output_type": "execute_result"
    }
   ],
   "source": [
    "df.describe(include='object')"
   ]
  },
  {
   "cell_type": "code",
   "execution_count": 18,
   "metadata": {},
   "outputs": [
    {
     "data": {
      "text/html": [
       "<div>\n",
       "<style scoped>\n",
       "    .dataframe tbody tr th:only-of-type {\n",
       "        vertical-align: middle;\n",
       "    }\n",
       "\n",
       "    .dataframe tbody tr th {\n",
       "        vertical-align: top;\n",
       "    }\n",
       "\n",
       "    .dataframe thead th {\n",
       "        text-align: right;\n",
       "    }\n",
       "</style>\n",
       "<table border=\"1\" class=\"dataframe\">\n",
       "  <thead>\n",
       "    <tr style=\"text-align: right;\">\n",
       "      <th></th>\n",
       "      <th>DateCrawled</th>\n",
       "      <th>Price</th>\n",
       "      <th>VehicleType</th>\n",
       "      <th>RegistrationYear</th>\n",
       "      <th>Gearbox</th>\n",
       "      <th>Power</th>\n",
       "      <th>Model</th>\n",
       "      <th>Kilometer</th>\n",
       "      <th>RegistrationMonth</th>\n",
       "      <th>FuelType</th>\n",
       "      <th>Brand</th>\n",
       "      <th>NotRepaired</th>\n",
       "      <th>DateCreated</th>\n",
       "      <th>NumberOfPictures</th>\n",
       "      <th>PostalCode</th>\n",
       "      <th>LastSeen</th>\n",
       "    </tr>\n",
       "  </thead>\n",
       "  <tbody>\n",
       "    <tr>\n",
       "      <th>22</th>\n",
       "      <td>2016-03-23 14:52:51</td>\n",
       "      <td>2900</td>\n",
       "      <td>NaN</td>\n",
       "      <td>2018</td>\n",
       "      <td>manual</td>\n",
       "      <td>90.0</td>\n",
       "      <td>meriva</td>\n",
       "      <td>150000</td>\n",
       "      <td>5</td>\n",
       "      <td>petrol</td>\n",
       "      <td>opel</td>\n",
       "      <td>no</td>\n",
       "      <td>2016-03-23 00:00:00</td>\n",
       "      <td>0</td>\n",
       "      <td>49716</td>\n",
       "      <td>2016-03-31 01:16:33</td>\n",
       "    </tr>\n",
       "    <tr>\n",
       "      <th>26</th>\n",
       "      <td>2016-03-10 19:38:18</td>\n",
       "      <td>5555</td>\n",
       "      <td>NaN</td>\n",
       "      <td>2017</td>\n",
       "      <td>manual</td>\n",
       "      <td>125.0</td>\n",
       "      <td>c4</td>\n",
       "      <td>125000</td>\n",
       "      <td>4</td>\n",
       "      <td>NaN</td>\n",
       "      <td>citroen</td>\n",
       "      <td>no</td>\n",
       "      <td>2016-03-10 00:00:00</td>\n",
       "      <td>0</td>\n",
       "      <td>31139</td>\n",
       "      <td>2016-03-16 09:16:46</td>\n",
       "    </tr>\n",
       "    <tr>\n",
       "      <th>48</th>\n",
       "      <td>2016-03-25 14:40:12</td>\n",
       "      <td>7750</td>\n",
       "      <td>NaN</td>\n",
       "      <td>2017</td>\n",
       "      <td>manual</td>\n",
       "      <td>80.0</td>\n",
       "      <td>golf</td>\n",
       "      <td>100000</td>\n",
       "      <td>1</td>\n",
       "      <td>petrol</td>\n",
       "      <td>volkswagen</td>\n",
       "      <td>NaN</td>\n",
       "      <td>2016-03-25 00:00:00</td>\n",
       "      <td>0</td>\n",
       "      <td>48499</td>\n",
       "      <td>2016-03-31 21:47:44</td>\n",
       "    </tr>\n",
       "    <tr>\n",
       "      <th>51</th>\n",
       "      <td>2016-03-07 18:57:08</td>\n",
       "      <td>2000</td>\n",
       "      <td>NaN</td>\n",
       "      <td>2017</td>\n",
       "      <td>manual</td>\n",
       "      <td>90.0</td>\n",
       "      <td>punto</td>\n",
       "      <td>150000</td>\n",
       "      <td>11</td>\n",
       "      <td>gasoline</td>\n",
       "      <td>fiat</td>\n",
       "      <td>yes</td>\n",
       "      <td>2016-03-07 00:00:00</td>\n",
       "      <td>0</td>\n",
       "      <td>66115</td>\n",
       "      <td>2016-03-07 18:57:08</td>\n",
       "    </tr>\n",
       "    <tr>\n",
       "      <th>57</th>\n",
       "      <td>2016-03-10 20:53:19</td>\n",
       "      <td>2399</td>\n",
       "      <td>NaN</td>\n",
       "      <td>2018</td>\n",
       "      <td>manual</td>\n",
       "      <td>64.0</td>\n",
       "      <td>other</td>\n",
       "      <td>125000</td>\n",
       "      <td>3</td>\n",
       "      <td>NaN</td>\n",
       "      <td>seat</td>\n",
       "      <td>no</td>\n",
       "      <td>2016-03-10 00:00:00</td>\n",
       "      <td>0</td>\n",
       "      <td>33397</td>\n",
       "      <td>2016-03-25 10:17:37</td>\n",
       "    </tr>\n",
       "  </tbody>\n",
       "</table>\n",
       "</div>"
      ],
      "text/plain": [
       "            DateCrawled  Price VehicleType  RegistrationYear Gearbox  Power  \\\n",
       "22  2016-03-23 14:52:51   2900         NaN              2018  manual   90.0   \n",
       "26  2016-03-10 19:38:18   5555         NaN              2017  manual  125.0   \n",
       "48  2016-03-25 14:40:12   7750         NaN              2017  manual   80.0   \n",
       "51  2016-03-07 18:57:08   2000         NaN              2017  manual   90.0   \n",
       "57  2016-03-10 20:53:19   2399         NaN              2018  manual   64.0   \n",
       "\n",
       "     Model  Kilometer  RegistrationMonth  FuelType       Brand NotRepaired  \\\n",
       "22  meriva     150000                  5    petrol        opel          no   \n",
       "26      c4     125000                  4       NaN     citroen          no   \n",
       "48    golf     100000                  1    petrol  volkswagen         NaN   \n",
       "51   punto     150000                 11  gasoline        fiat         yes   \n",
       "57   other     125000                  3       NaN        seat          no   \n",
       "\n",
       "            DateCreated  NumberOfPictures  PostalCode             LastSeen  \n",
       "22  2016-03-23 00:00:00                 0       49716  2016-03-31 01:16:33  \n",
       "26  2016-03-10 00:00:00                 0       31139  2016-03-16 09:16:46  \n",
       "48  2016-03-25 00:00:00                 0       48499  2016-03-31 21:47:44  \n",
       "51  2016-03-07 00:00:00                 0       66115  2016-03-07 18:57:08  \n",
       "57  2016-03-10 00:00:00                 0       33397  2016-03-25 10:17:37  "
      ]
     },
     "execution_count": 18,
     "metadata": {},
     "output_type": "execute_result"
    }
   ],
   "source": [
    "df[df['RegistrationYear']>2016].head()"
   ]
  },
  {
   "cell_type": "markdown",
   "metadata": {},
   "source": [
    "Также исключим выбросы в цене автомобиля:"
   ]
  },
  {
   "cell_type": "code",
   "execution_count": 19,
   "metadata": {},
   "outputs": [
    {
     "data": {
      "text/plain": [
       "100.0"
      ]
     },
     "execution_count": 19,
     "metadata": {},
     "output_type": "execute_result"
    }
   ],
   "source": [
    "price_quantile_1 = df[\"Price\"].quantile(0.01)\n",
    "price_quantile_1"
   ]
  },
  {
   "cell_type": "code",
   "execution_count": 20,
   "metadata": {},
   "outputs": [],
   "source": [
    "df = df.query('2016 >= RegistrationYear > @registration_year_quantile_1')\n",
    "df = df.query('Price > @price_quantile_1').reset_index(drop=True)"
   ]
  },
  {
   "cell_type": "code",
   "execution_count": 21,
   "metadata": {},
   "outputs": [
    {
     "data": {
      "text/plain": [
       "1981      247\n",
       "1982      299\n",
       "1983      400\n",
       "1984      382\n",
       "1985      641\n",
       "1986      492\n",
       "1987      623\n",
       "1988      892\n",
       "1989     1215\n",
       "1990     2352\n",
       "1991     2566\n",
       "1992     2805\n",
       "1993     3174\n",
       "1994     4513\n",
       "1995     8560\n",
       "1996    10170\n",
       "1997    13731\n",
       "1998    16920\n",
       "1999    21780\n",
       "2000    22496\n",
       "2001    19550\n",
       "2002    18666\n",
       "2003    19450\n",
       "2004    19300\n",
       "2005    21341\n",
       "2006    19639\n",
       "2007    16975\n",
       "2008    15220\n",
       "2009    14372\n",
       "2010    10656\n",
       "2011     9812\n",
       "2012     7105\n",
       "2013     4077\n",
       "2014     2494\n",
       "2015     1161\n",
       "2016     8764\n",
       "Name: RegistrationYear, dtype: int64"
      ]
     },
     "execution_count": 21,
     "metadata": {},
     "output_type": "execute_result"
    }
   ],
   "source": [
    "df['RegistrationYear'].value_counts().sort_index()"
   ]
  },
  {
   "cell_type": "markdown",
   "metadata": {},
   "source": [
    "Удалим лишние признаки:"
   ]
  },
  {
   "cell_type": "code",
   "execution_count": 22,
   "metadata": {},
   "outputs": [],
   "source": [
    "df = df.drop(['DateCrawled', 'DateCreated', 'LastSeen', 'NumberOfPictures', 'PostalCode', 'RegistrationMonth'], axis=1)"
   ]
  },
  {
   "cell_type": "markdown",
   "metadata": {},
   "source": [
    "Присвоим пропускам в категориальных признаках отдельный признак и обозначим как NaN:"
   ]
  },
  {
   "cell_type": "code",
   "execution_count": 23,
   "metadata": {},
   "outputs": [],
   "source": [
    "values = {'VehicleType': 'NaN',\n",
    "          'Gearbox': 'NaN',\n",
    "          'Model': 'NaN',\n",
    "          'FuelType': 'NaN',\n",
    "          'Brand': 'NaN',\n",
    "          'NotRepaired': 'NaN'}\n",
    "df = df.fillna(value=values)"
   ]
  },
  {
   "cell_type": "markdown",
   "metadata": {},
   "source": [
    "Количество пройденных машиной километров можно считать категориальным признаком так как количество вариантов не велико:"
   ]
  },
  {
   "cell_type": "code",
   "execution_count": 24,
   "metadata": {},
   "outputs": [
    {
     "data": {
      "text/plain": [
       "13"
      ]
     },
     "execution_count": 24,
     "metadata": {},
     "output_type": "execute_result"
    }
   ],
   "source": [
    "len(df['Kilometer'].unique())"
   ]
  },
  {
   "cell_type": "markdown",
   "metadata": {},
   "source": [
    "Предобработка данных закончена, убраны лишние признаки исключены аномалии и выбросы из данных."
   ]
  },
  {
   "cell_type": "code",
   "execution_count": 25,
   "metadata": {},
   "outputs": [
    {
     "data": {
      "text/plain": [
       "<seaborn.axisgrid.PairGrid at 0x7ffade4fd250>"
      ]
     },
     "execution_count": 25,
     "metadata": {},
     "output_type": "execute_result"
    },
    {
     "data": {
      "image/png": "[encoded data removed]",
      "text/plain": [
       "<Figure size 720x720 with 20 Axes>"
      ]
     },
     "metadata": {
      "needs_background": "light"
     },
     "output_type": "display_data"
    }
   ],
   "source": [
    "sns.pairplot(df)"
   ]
  },
  {
   "cell_type": "code",
   "execution_count": 26,
   "metadata": {},
   "outputs": [
    {
     "data": {
      "text/html": [
       "<div>\n",
       "<style scoped>\n",
       "    .dataframe tbody tr th:only-of-type {\n",
       "        vertical-align: middle;\n",
       "    }\n",
       "\n",
       "    .dataframe tbody tr th {\n",
       "        vertical-align: top;\n",
       "    }\n",
       "\n",
       "    .dataframe thead th {\n",
       "        text-align: right;\n",
       "    }\n",
       "</style>\n",
       "<table border=\"1\" class=\"dataframe\">\n",
       "  <thead>\n",
       "    <tr style=\"text-align: right;\">\n",
       "      <th></th>\n",
       "      <th>Price</th>\n",
       "      <th>RegistrationYear</th>\n",
       "      <th>Power</th>\n",
       "      <th>Kilometer</th>\n",
       "    </tr>\n",
       "  </thead>\n",
       "  <tbody>\n",
       "    <tr>\n",
       "      <th>Price</th>\n",
       "      <td>1.000000</td>\n",
       "      <td>0.550106</td>\n",
       "      <td>0.506623</td>\n",
       "      <td>-0.367190</td>\n",
       "    </tr>\n",
       "    <tr>\n",
       "      <th>RegistrationYear</th>\n",
       "      <td>0.550106</td>\n",
       "      <td>1.000000</td>\n",
       "      <td>0.135390</td>\n",
       "      <td>-0.336273</td>\n",
       "    </tr>\n",
       "    <tr>\n",
       "      <th>Power</th>\n",
       "      <td>0.506623</td>\n",
       "      <td>0.135390</td>\n",
       "      <td>1.000000</td>\n",
       "      <td>0.100142</td>\n",
       "    </tr>\n",
       "    <tr>\n",
       "      <th>Kilometer</th>\n",
       "      <td>-0.367190</td>\n",
       "      <td>-0.336273</td>\n",
       "      <td>0.100142</td>\n",
       "      <td>1.000000</td>\n",
       "    </tr>\n",
       "  </tbody>\n",
       "</table>\n",
       "</div>"
      ],
      "text/plain": [
       "                     Price  RegistrationYear     Power  Kilometer\n",
       "Price             1.000000          0.550106  0.506623  -0.367190\n",
       "RegistrationYear  0.550106          1.000000  0.135390  -0.336273\n",
       "Power             0.506623          0.135390  1.000000   0.100142\n",
       "Kilometer        -0.367190         -0.336273  0.100142   1.000000"
      ]
     },
     "execution_count": 26,
     "metadata": {},
     "output_type": "execute_result"
    }
   ],
   "source": [
    "df.corr()"
   ]
  },
  {
   "cell_type": "markdown",
   "metadata": {},
   "source": [
    "Сильно коррелирующих между собой признаков не обнаружено."
   ]
  },
  {
   "cell_type": "code",
   "execution_count": 27,
   "metadata": {},
   "outputs": [],
   "source": [
    "df = df.drop_duplicates().reset_index(drop=True)"
   ]
  },
  {
   "cell_type": "code",
   "execution_count": 28,
   "metadata": {},
   "outputs": [
    {
     "name": "stdout",
     "output_type": "stream",
     "text": [
      "<class 'pandas.core.frame.DataFrame'>\n",
      "RangeIndex: 280776 entries, 0 to 280775\n",
      "Data columns (total 10 columns):\n",
      " #   Column            Non-Null Count   Dtype  \n",
      "---  ------            --------------   -----  \n",
      " 0   Price             280776 non-null  int64  \n",
      " 1   VehicleType       280776 non-null  object \n",
      " 2   RegistrationYear  280776 non-null  int64  \n",
      " 3   Gearbox           280776 non-null  object \n",
      " 4   Power             249567 non-null  float64\n",
      " 5   Model             280776 non-null  object \n",
      " 6   Kilometer         280776 non-null  int64  \n",
      " 7   FuelType          280776 non-null  object \n",
      " 8   Brand             280776 non-null  object \n",
      " 9   NotRepaired       280776 non-null  object \n",
      "dtypes: float64(1), int64(3), object(6)\n",
      "memory usage: 21.4+ MB\n"
     ]
    }
   ],
   "source": [
    "df.info()"
   ]
  },
  {
   "cell_type": "code",
   "execution_count": 29,
   "metadata": {},
   "outputs": [
    {
     "data": {
      "text/html": [
       "<div>\n",
       "<style scoped>\n",
       "    .dataframe tbody tr th:only-of-type {\n",
       "        vertical-align: middle;\n",
       "    }\n",
       "\n",
       "    .dataframe tbody tr th {\n",
       "        vertical-align: top;\n",
       "    }\n",
       "\n",
       "    .dataframe thead th {\n",
       "        text-align: right;\n",
       "    }\n",
       "</style>\n",
       "<table border=\"1\" class=\"dataframe\">\n",
       "  <thead>\n",
       "    <tr style=\"text-align: right;\">\n",
       "      <th></th>\n",
       "      <th>Price</th>\n",
       "      <th>VehicleType</th>\n",
       "      <th>RegistrationYear</th>\n",
       "      <th>Gearbox</th>\n",
       "      <th>Power</th>\n",
       "      <th>Model</th>\n",
       "      <th>Kilometer</th>\n",
       "      <th>FuelType</th>\n",
       "      <th>Brand</th>\n",
       "      <th>NotRepaired</th>\n",
       "    </tr>\n",
       "  </thead>\n",
       "  <tbody>\n",
       "    <tr>\n",
       "      <th>0</th>\n",
       "      <td>480</td>\n",
       "      <td>NaN</td>\n",
       "      <td>1993</td>\n",
       "      <td>manual</td>\n",
       "      <td>NaN</td>\n",
       "      <td>golf</td>\n",
       "      <td>150000</td>\n",
       "      <td>petrol</td>\n",
       "      <td>volkswagen</td>\n",
       "      <td>NaN</td>\n",
       "    </tr>\n",
       "    <tr>\n",
       "      <th>1</th>\n",
       "      <td>18300</td>\n",
       "      <td>coupe</td>\n",
       "      <td>2011</td>\n",
       "      <td>manual</td>\n",
       "      <td>190.0</td>\n",
       "      <td>NaN</td>\n",
       "      <td>125000</td>\n",
       "      <td>gasoline</td>\n",
       "      <td>audi</td>\n",
       "      <td>yes</td>\n",
       "    </tr>\n",
       "    <tr>\n",
       "      <th>2</th>\n",
       "      <td>9800</td>\n",
       "      <td>suv</td>\n",
       "      <td>2004</td>\n",
       "      <td>auto</td>\n",
       "      <td>163.0</td>\n",
       "      <td>grand</td>\n",
       "      <td>125000</td>\n",
       "      <td>gasoline</td>\n",
       "      <td>jeep</td>\n",
       "      <td>NaN</td>\n",
       "    </tr>\n",
       "    <tr>\n",
       "      <th>3</th>\n",
       "      <td>1500</td>\n",
       "      <td>small</td>\n",
       "      <td>2001</td>\n",
       "      <td>manual</td>\n",
       "      <td>75.0</td>\n",
       "      <td>golf</td>\n",
       "      <td>150000</td>\n",
       "      <td>petrol</td>\n",
       "      <td>volkswagen</td>\n",
       "      <td>no</td>\n",
       "    </tr>\n",
       "    <tr>\n",
       "      <th>4</th>\n",
       "      <td>3600</td>\n",
       "      <td>small</td>\n",
       "      <td>2008</td>\n",
       "      <td>manual</td>\n",
       "      <td>69.0</td>\n",
       "      <td>fabia</td>\n",
       "      <td>90000</td>\n",
       "      <td>gasoline</td>\n",
       "      <td>skoda</td>\n",
       "      <td>no</td>\n",
       "    </tr>\n",
       "  </tbody>\n",
       "</table>\n",
       "</div>"
      ],
      "text/plain": [
       "   Price VehicleType  RegistrationYear Gearbox  Power  Model  Kilometer  \\\n",
       "0    480         NaN              1993  manual    NaN   golf     150000   \n",
       "1  18300       coupe              2011  manual  190.0    NaN     125000   \n",
       "2   9800         suv              2004    auto  163.0  grand     125000   \n",
       "3   1500       small              2001  manual   75.0   golf     150000   \n",
       "4   3600       small              2008  manual   69.0  fabia      90000   \n",
       "\n",
       "   FuelType       Brand NotRepaired  \n",
       "0    petrol  volkswagen         NaN  \n",
       "1  gasoline        audi         yes  \n",
       "2  gasoline        jeep         NaN  \n",
       "3    petrol  volkswagen          no  \n",
       "4  gasoline       skoda          no  "
      ]
     },
     "execution_count": 29,
     "metadata": {},
     "output_type": "execute_result"
    }
   ],
   "source": [
    "df.head()"
   ]
  },
  {
   "cell_type": "code",
   "execution_count": 30,
   "metadata": {},
   "outputs": [
    {
     "data": {
      "text/html": [
       "<div>\n",
       "<style scoped>\n",
       "    .dataframe tbody tr th:only-of-type {\n",
       "        vertical-align: middle;\n",
       "    }\n",
       "\n",
       "    .dataframe tbody tr th {\n",
       "        vertical-align: top;\n",
       "    }\n",
       "\n",
       "    .dataframe thead th {\n",
       "        text-align: right;\n",
       "    }\n",
       "</style>\n",
       "<table border=\"1\" class=\"dataframe\">\n",
       "  <thead>\n",
       "    <tr style=\"text-align: right;\">\n",
       "      <th></th>\n",
       "      <th>Price</th>\n",
       "      <th>RegistrationYear</th>\n",
       "      <th>Power</th>\n",
       "      <th>Kilometer</th>\n",
       "    </tr>\n",
       "  </thead>\n",
       "  <tbody>\n",
       "    <tr>\n",
       "      <th>count</th>\n",
       "      <td>280776.000000</td>\n",
       "      <td>280776.000000</td>\n",
       "      <td>249567.000000</td>\n",
       "      <td>280776.000000</td>\n",
       "    </tr>\n",
       "    <tr>\n",
       "      <th>mean</th>\n",
       "      <td>4701.355276</td>\n",
       "      <td>2003.037015</td>\n",
       "      <td>120.642741</td>\n",
       "      <td>127749.932330</td>\n",
       "    </tr>\n",
       "    <tr>\n",
       "      <th>std</th>\n",
       "      <td>4579.803068</td>\n",
       "      <td>6.053972</td>\n",
       "      <td>49.200380</td>\n",
       "      <td>37504.025178</td>\n",
       "    </tr>\n",
       "    <tr>\n",
       "      <th>min</th>\n",
       "      <td>101.000000</td>\n",
       "      <td>1981.000000</td>\n",
       "      <td>45.000000</td>\n",
       "      <td>5000.000000</td>\n",
       "    </tr>\n",
       "    <tr>\n",
       "      <th>25%</th>\n",
       "      <td>1250.000000</td>\n",
       "      <td>1999.000000</td>\n",
       "      <td>80.000000</td>\n",
       "      <td>125000.000000</td>\n",
       "    </tr>\n",
       "    <tr>\n",
       "      <th>50%</th>\n",
       "      <td>2999.000000</td>\n",
       "      <td>2003.000000</td>\n",
       "      <td>115.000000</td>\n",
       "      <td>150000.000000</td>\n",
       "    </tr>\n",
       "    <tr>\n",
       "      <th>75%</th>\n",
       "      <td>6800.000000</td>\n",
       "      <td>2007.000000</td>\n",
       "      <td>150.000000</td>\n",
       "      <td>150000.000000</td>\n",
       "    </tr>\n",
       "    <tr>\n",
       "      <th>max</th>\n",
       "      <td>20000.000000</td>\n",
       "      <td>2016.000000</td>\n",
       "      <td>306.000000</td>\n",
       "      <td>150000.000000</td>\n",
       "    </tr>\n",
       "  </tbody>\n",
       "</table>\n",
       "</div>"
      ],
      "text/plain": [
       "               Price  RegistrationYear          Power      Kilometer\n",
       "count  280776.000000     280776.000000  249567.000000  280776.000000\n",
       "mean     4701.355276       2003.037015     120.642741  127749.932330\n",
       "std      4579.803068          6.053972      49.200380   37504.025178\n",
       "min       101.000000       1981.000000      45.000000    5000.000000\n",
       "25%      1250.000000       1999.000000      80.000000  125000.000000\n",
       "50%      2999.000000       2003.000000     115.000000  150000.000000\n",
       "75%      6800.000000       2007.000000     150.000000  150000.000000\n",
       "max     20000.000000       2016.000000     306.000000  150000.000000"
      ]
     },
     "execution_count": 30,
     "metadata": {},
     "output_type": "execute_result"
    }
   ],
   "source": [
    "df.describe()"
   ]
  },
  {
   "cell_type": "markdown",
   "metadata": {},
   "source": [
    "## Обучение моделей"
   ]
  },
  {
   "cell_type": "markdown",
   "metadata": {},
   "source": [
    "### CatBoost"
   ]
  },
  {
   "cell_type": "code",
   "execution_count": 31,
   "metadata": {},
   "outputs": [],
   "source": [
    "features_train, features_valid, target_train, target_valid = train_test_split(df.drop('Price', axis=1), df.Price,\n",
    "                                                                              test_size=0.25,\n",
    "                                                                              random_state=1,\n",
    "                                                                              stratify = df['RegistrationYear'])"
   ]
  },
  {
   "cell_type": "code",
   "execution_count": 32,
   "metadata": {},
   "outputs": [],
   "source": [
    "cat_features = ['VehicleType', 'Gearbox', 'Model', 'FuelType', 'Brand', 'NotRepaired', 'Kilometer']"
   ]
  },
  {
   "cell_type": "code",
   "execution_count": 33,
   "metadata": {},
   "outputs": [
    {
     "data": {
      "text/plain": [
       "GridSearchCV(cv=2,\n",
       "             estimator=<catboost.core.CatBoostRegressor object at 0x7ffadd4617c0>,\n",
       "             param_grid={'learning_rate': [0.5], 'logging_level': ['Silent'],\n",
       "                         'max_depth': [2, 10], 'random_seed': [12345]},\n",
       "             scoring='neg_mean_squared_error')"
      ]
     },
     "execution_count": 33,
     "metadata": {},
     "output_type": "execute_result"
    }
   ],
   "source": [
    "model = CatBoostRegressor()\n",
    "params = {\n",
    "    'max_depth' : [2, 10],\n",
    "    'random_seed' : [12345],\n",
    "    'learning_rate' : [0.5],\n",
    "    'logging_level' : ['Silent']\n",
    "}\n",
    "grid = GridSearchCV(estimator=model,\n",
    "                    param_grid=params, \n",
    "                               cv=2,\n",
    "                               scoring='neg_mean_squared_error')\n",
    "grid.fit(features_train, target_train,\n",
    "         cat_features=cat_features,\n",
    "         plot=False)"
   ]
  },
  {
   "cell_type": "code",
   "execution_count": 34,
   "metadata": {},
   "outputs": [
    {
     "name": "stdout",
     "output_type": "stream",
     "text": [
      "Лучшие гиперпараметры:  {'learning_rate': 0.5, 'logging_level': 'Silent', 'max_depth': 10, 'random_seed': 12345}\n"
     ]
    }
   ],
   "source": [
    "print('Лучшие гиперпараметры: ', grid.best_params_)"
   ]
  },
  {
   "cell_type": "code",
   "execution_count": 35,
   "metadata": {},
   "outputs": [
    {
     "name": "stdout",
     "output_type": "stream",
     "text": [
      "RMSE: 1711.75\n"
     ]
    }
   ],
   "source": [
    "print('RMSE: {:.2f}'.format((-grid.best_score_)**0.5))"
   ]
  },
  {
   "cell_type": "markdown",
   "metadata": {},
   "source": [
    "Обучим модель с подобранными гиперпараметрами:"
   ]
  },
  {
   "cell_type": "code",
   "execution_count": 36,
   "metadata": {},
   "outputs": [],
   "source": [
    "model = CatBoostRegressor(iterations=1000,\n",
    "                          max_depth = 10,\n",
    "                          random_seed=12345,\n",
    "                          learning_rate=0.25,\n",
    "                          logging_level='Silent',\n",
    "                          od_type='Iter',\n",
    "                          od_wait=20)"
   ]
  },
  {
   "cell_type": "code",
   "execution_count": 37,
   "metadata": {
    "scrolled": true
   },
   "outputs": [
    {
     "data": {
      "application/vnd.jupyter.widget-view+json": {
       "model_id": "670a0b712f764e2cbf2234d700de6937",
       "version_major": 2,
       "version_minor": 0
      },
      "text/plain": [
       "MetricVisualizer(layout=Layout(align_self='stretch', height='500px'))"
      ]
     },
     "metadata": {},
     "output_type": "display_data"
    },
    {
     "name": "stdout",
     "output_type": "stream",
     "text": [
      "CPU times: user 6min 3s, sys: 2.58 s, total: 6min 5s\n",
      "Wall time: 6min 8s\n"
     ]
    },
    {
     "data": {
      "text/plain": [
       "<catboost.core.CatBoostRegressor at 0x7ffadd461c70>"
      ]
     },
     "execution_count": 37,
     "metadata": {},
     "output_type": "execute_result"
    }
   ],
   "source": [
    "%%time\n",
    "model.fit(features_train,\n",
    "          target_train,\n",
    "          cat_features=cat_features,\n",
    "          eval_set=(features_valid, target_valid),\n",
    "          plot=True)"
   ]
  },
  {
   "cell_type": "code",
   "execution_count": 38,
   "metadata": {},
   "outputs": [
    {
     "name": "stdout",
     "output_type": "stream",
     "text": [
      "CPU times: user 1.07 s, sys: 8 ms, total: 1.08 s\n",
      "Wall time: 1.08 s\n"
     ]
    }
   ],
   "source": [
    "%%time\n",
    "pred_valid = model.predict(features_valid)"
   ]
  },
  {
   "cell_type": "code",
   "execution_count": 39,
   "metadata": {},
   "outputs": [
    {
     "data": {
      "text/plain": [
       "1570.2776332383096"
      ]
     },
     "execution_count": 39,
     "metadata": {},
     "output_type": "execute_result"
    }
   ],
   "source": [
    "catboost_rmse = (mean_squared_error(pred_valid, target_valid))**0.5\n",
    "catboost_rmse"
   ]
  },
  {
   "cell_type": "markdown",
   "metadata": {},
   "source": [
    "### LightGBM"
   ]
  },
  {
   "cell_type": "code",
   "execution_count": 40,
   "metadata": {},
   "outputs": [],
   "source": [
    "categorical_feature = ['VehicleType', 'Gearbox', 'Model', 'FuelType', 'Brand', 'NotRepaired', 'Kilometer']"
   ]
  },
  {
   "cell_type": "markdown",
   "metadata": {},
   "source": [
    "Закодируем катигориальные признаки:"
   ]
  },
  {
   "cell_type": "code",
   "execution_count": 41,
   "metadata": {},
   "outputs": [],
   "source": [
    "label_encode = LabelEncoder()\n",
    "for i in categorical_feature:\n",
    "    label_encode.fit(df[i].astype('str'))\n",
    "    df[i] = label_encode.transform(df[i].astype('str'))"
   ]
  },
  {
   "cell_type": "code",
   "execution_count": 42,
   "metadata": {
    "scrolled": true
   },
   "outputs": [
    {
     "data": {
      "text/html": [
       "<div>\n",
       "<style scoped>\n",
       "    .dataframe tbody tr th:only-of-type {\n",
       "        vertical-align: middle;\n",
       "    }\n",
       "\n",
       "    .dataframe tbody tr th {\n",
       "        vertical-align: top;\n",
       "    }\n",
       "\n",
       "    .dataframe thead th {\n",
       "        text-align: right;\n",
       "    }\n",
       "</style>\n",
       "<table border=\"1\" class=\"dataframe\">\n",
       "  <thead>\n",
       "    <tr style=\"text-align: right;\">\n",
       "      <th></th>\n",
       "      <th>Price</th>\n",
       "      <th>VehicleType</th>\n",
       "      <th>RegistrationYear</th>\n",
       "      <th>Gearbox</th>\n",
       "      <th>Power</th>\n",
       "      <th>Model</th>\n",
       "      <th>Kilometer</th>\n",
       "      <th>FuelType</th>\n",
       "      <th>Brand</th>\n",
       "      <th>NotRepaired</th>\n",
       "    </tr>\n",
       "  </thead>\n",
       "  <tbody>\n",
       "    <tr>\n",
       "      <th>0</th>\n",
       "      <td>480</td>\n",
       "      <td>0</td>\n",
       "      <td>1993</td>\n",
       "      <td>2</td>\n",
       "      <td>NaN</td>\n",
       "      <td>117</td>\n",
       "      <td>3</td>\n",
       "      <td>7</td>\n",
       "      <td>38</td>\n",
       "      <td>0</td>\n",
       "    </tr>\n",
       "    <tr>\n",
       "      <th>1</th>\n",
       "      <td>18300</td>\n",
       "      <td>3</td>\n",
       "      <td>2011</td>\n",
       "      <td>2</td>\n",
       "      <td>190.0</td>\n",
       "      <td>26</td>\n",
       "      <td>2</td>\n",
       "      <td>3</td>\n",
       "      <td>1</td>\n",
       "      <td>2</td>\n",
       "    </tr>\n",
       "    <tr>\n",
       "      <th>2</th>\n",
       "      <td>9800</td>\n",
       "      <td>7</td>\n",
       "      <td>2004</td>\n",
       "      <td>1</td>\n",
       "      <td>163.0</td>\n",
       "      <td>118</td>\n",
       "      <td>2</td>\n",
       "      <td>3</td>\n",
       "      <td>14</td>\n",
       "      <td>0</td>\n",
       "    </tr>\n",
       "    <tr>\n",
       "      <th>3</th>\n",
       "      <td>1500</td>\n",
       "      <td>6</td>\n",
       "      <td>2001</td>\n",
       "      <td>2</td>\n",
       "      <td>75.0</td>\n",
       "      <td>117</td>\n",
       "      <td>3</td>\n",
       "      <td>7</td>\n",
       "      <td>38</td>\n",
       "      <td>1</td>\n",
       "    </tr>\n",
       "    <tr>\n",
       "      <th>4</th>\n",
       "      <td>3600</td>\n",
       "      <td>6</td>\n",
       "      <td>2008</td>\n",
       "      <td>2</td>\n",
       "      <td>69.0</td>\n",
       "      <td>102</td>\n",
       "      <td>12</td>\n",
       "      <td>3</td>\n",
       "      <td>31</td>\n",
       "      <td>1</td>\n",
       "    </tr>\n",
       "  </tbody>\n",
       "</table>\n",
       "</div>"
      ],
      "text/plain": [
       "   Price  VehicleType  RegistrationYear  Gearbox  Power  Model  Kilometer  \\\n",
       "0    480            0              1993        2    NaN    117          3   \n",
       "1  18300            3              2011        2  190.0     26          2   \n",
       "2   9800            7              2004        1  163.0    118          2   \n",
       "3   1500            6              2001        2   75.0    117          3   \n",
       "4   3600            6              2008        2   69.0    102         12   \n",
       "\n",
       "   FuelType  Brand  NotRepaired  \n",
       "0         7     38            0  \n",
       "1         3      1            2  \n",
       "2         3     14            0  \n",
       "3         7     38            1  \n",
       "4         3     31            1  "
      ]
     },
     "execution_count": 42,
     "metadata": {},
     "output_type": "execute_result"
    }
   ],
   "source": [
    "df.head()"
   ]
  },
  {
   "cell_type": "code",
   "execution_count": 43,
   "metadata": {},
   "outputs": [],
   "source": [
    "for i in categorical_feature:\n",
    "    df[i] = df[i].astype('category')"
   ]
  },
  {
   "cell_type": "code",
   "execution_count": 44,
   "metadata": {},
   "outputs": [],
   "source": [
    "features_train, features_valid, target_train, target_valid = train_test_split(df.drop('Price', axis=1), df.Price,\n",
    "                                                                              test_size=0.25,\n",
    "                                                                              random_state=1,\n",
    "                                                                              stratify = df['RegistrationYear'])"
   ]
  },
  {
   "cell_type": "markdown",
   "metadata": {},
   "source": [
    "Найдем лучшие гиперпараметры модели:"
   ]
  },
  {
   "cell_type": "code",
   "execution_count": 51,
   "metadata": {
    "scrolled": true
   },
   "outputs": [
    {
     "name": "stderr",
     "output_type": "stream",
     "text": [
      "/opt/conda/lib/python3.9/site-packages/lightgbm/basic.py:2065: UserWarning: Using categorical_feature in Dataset.\n",
      "  _log_warning('Using categorical_feature in Dataset.')\n",
      "/opt/conda/lib/python3.9/site-packages/lightgbm/basic.py:2065: UserWarning: Using categorical_feature in Dataset.\n",
      "  _log_warning('Using categorical_feature in Dataset.')\n",
      "/opt/conda/lib/python3.9/site-packages/lightgbm/basic.py:2065: UserWarning: Using categorical_feature in Dataset.\n",
      "  _log_warning('Using categorical_feature in Dataset.')\n",
      "/opt/conda/lib/python3.9/site-packages/lightgbm/basic.py:2065: UserWarning: Using categorical_feature in Dataset.\n",
      "  _log_warning('Using categorical_feature in Dataset.')\n",
      "/opt/conda/lib/python3.9/site-packages/lightgbm/basic.py:2065: UserWarning: Using categorical_feature in Dataset.\n",
      "  _log_warning('Using categorical_feature in Dataset.')\n"
     ]
    },
    {
     "name": "stdout",
     "output_type": "stream",
     "text": [
      "CPU times: user 48.9 s, sys: 243 ms, total: 49.1 s\n",
      "Wall time: 49.6 s\n"
     ]
    },
    {
     "data": {
      "text/plain": [
       "GridSearchCV(cv=2, estimator=LGBMRegressor(),\n",
       "             param_grid={'boosting_type': ['gbdt'], 'force_col_wise': [True],\n",
       "                         'max_depth': [2, 10], 'num_leaves': [70],\n",
       "                         'random_state': [12345], 'verbose': [0]},\n",
       "             scoring='neg_mean_squared_error')"
      ]
     },
     "execution_count": 51,
     "metadata": {},
     "output_type": "execute_result"
    }
   ],
   "source": [
    "%%time\n",
    "model = LGBMRegressor()\n",
    "params = {\n",
    "    'boosting_type' : ['gbdt'],\n",
    "    'max_depth' : [2, 10],\n",
    "    'verbose' : [0],\n",
    "    'random_state' : [12345],\n",
    "    'force_col_wise': [True],\n",
    "    'num_leaves' : [70]}\n",
    "grid = GridSearchCV(estimator=model,\n",
    "                    param_grid=params,\n",
    "                    cv=2,\n",
    "                    scoring='neg_mean_squared_error')\n",
    "grid.fit(features_train, target_train,\n",
    "         categorical_feature=categorical_feature)"
   ]
  },
  {
   "cell_type": "code",
   "execution_count": 52,
   "metadata": {},
   "outputs": [
    {
     "name": "stdout",
     "output_type": "stream",
     "text": [
      "Лучшие гиперпараметры:  {'boosting_type': 'gbdt', 'force_col_wise': True, 'max_depth': 10, 'num_leaves': 70, 'random_state': 12345, 'verbose': 0}\n"
     ]
    }
   ],
   "source": [
    "print('Лучшие гиперпараметры: ', grid.best_params_)"
   ]
  },
  {
   "cell_type": "code",
   "execution_count": 53,
   "metadata": {},
   "outputs": [
    {
     "name": "stdout",
     "output_type": "stream",
     "text": [
      "RMSE: 1619.42\n"
     ]
    }
   ],
   "source": [
    "print('RMSE: {:.2f}'.format((-grid.best_score_) ** 0.5))"
   ]
  },
  {
   "cell_type": "markdown",
   "metadata": {},
   "source": [
    "Обучим модель с лучшими гиперпараметрами:"
   ]
  },
  {
   "cell_type": "code",
   "execution_count": 54,
   "metadata": {},
   "outputs": [
    {
     "name": "stderr",
     "output_type": "stream",
     "text": [
      "/opt/conda/lib/python3.9/site-packages/lightgbm/sklearn.py:736: UserWarning: 'verbose' argument is deprecated and will be removed in a future release of LightGBM. Pass 'log_evaluation()' callback via 'callbacks' argument instead.\n",
      "  _log_warning(\"'verbose' argument is deprecated and will be removed in a future release of LightGBM. \"\n",
      "/opt/conda/lib/python3.9/site-packages/lightgbm/basic.py:1780: UserWarning: Overriding the parameters from Reference Dataset.\n",
      "  _log_warning('Overriding the parameters from Reference Dataset.')\n",
      "/opt/conda/lib/python3.9/site-packages/lightgbm/basic.py:1513: UserWarning: categorical_column in param dict is overridden.\n",
      "  _log_warning(f'{cat_alias} in param dict is overridden.')\n"
     ]
    },
    {
     "name": "stdout",
     "output_type": "stream",
     "text": [
      "CPU times: user 13.2 s, sys: 95.4 ms, total: 13.3 s\n",
      "Wall time: 13.4 s\n"
     ]
    },
    {
     "data": {
      "text/plain": [
       "LGBMRegressor(boosting_type=['gbdt'], force_col_wise=[True], max_depth=[10],\n",
       "              num_leaves=[70], random_state=[12345], verbose=[0])"
      ]
     },
     "execution_count": 54,
     "metadata": {},
     "output_type": "execute_result"
    }
   ],
   "source": [
    "%%time\n",
    "params = {\n",
    "    'boosting_type' : ['gbdt'],\n",
    "    'max_depth' : [10],\n",
    "    'verbose' : [0],\n",
    "    'random_state' : [12345],\n",
    "    'force_col_wise': [True],\n",
    "    'num_leaves' : [70]}\n",
    "model_lgb = LGBMRegressor(**params)\n",
    "model_lgb.fit(features_train, target_train,\n",
    "              eval_set=(features_valid, target_valid),\n",
    "              verbose=0,\n",
    "              eval_metric='root_mean_squared_error')"
   ]
  },
  {
   "cell_type": "code",
   "execution_count": 55,
   "metadata": {},
   "outputs": [
    {
     "name": "stdout",
     "output_type": "stream",
     "text": [
      "CPU times: user 1.02 s, sys: 0 ns, total: 1.02 s\n",
      "Wall time: 1.09 s\n"
     ]
    }
   ],
   "source": [
    "%%time\n",
    "predict = model_lgb.predict(features_valid)"
   ]
  },
  {
   "cell_type": "code",
   "execution_count": 56,
   "metadata": {},
   "outputs": [
    {
     "data": {
      "text/plain": [
       "1592.1982632407576"
      ]
     },
     "execution_count": 56,
     "metadata": {},
     "output_type": "execute_result"
    }
   ],
   "source": [
    "lgbm_rmse = (mean_squared_error(predict, target_valid))**0.5\n",
    "lgbm_rmse"
   ]
  },
  {
   "cell_type": "markdown",
   "metadata": {},
   "source": [
    "## Анализ моделей"
   ]
  },
  {
   "cell_type": "markdown",
   "metadata": {},
   "source": [
    "CatBoost:\n",
    "- значение метрики RMSE равно 1570.2;\n",
    "- время обучения модели 6 минут 8 секунд;\n",
    "- время предсказания 1.08 секунд\n",
    "\n",
    "LightGBM:\n",
    "- значение метрики RMSE равно 1592.19;\n",
    "- время обучения модели 13.4 секунд;\n",
    "- время предсказания 1.09 секунд"
   ]
  },
  {
   "cell_type": "markdown",
   "metadata": {},
   "source": [
    "Вывод: метрика RMSE получилась меньше при использовании модели CatBoost, время обучения модели быстрее всего при использовании LightGBM, а время предсказания одинаково."
   ]
  }
 ],
 "metadata": {
  "ExecuteTimeLog": [
   {
    "duration": 39,
    "start_time": "2022-06-21T10:11:23.316Z"
   },
   {
    "duration": 382,
    "start_time": "2022-06-21T10:11:28.214Z"
   },
   {
    "duration": 2525,
    "start_time": "2022-06-21T10:11:28.598Z"
   },
   {
    "duration": 17,
    "start_time": "2022-06-21T10:11:39.743Z"
   },
   {
    "duration": 106,
    "start_time": "2022-06-21T10:11:47.699Z"
   },
   {
    "duration": 26,
    "start_time": "2022-06-21T10:15:47.582Z"
   },
   {
    "duration": 78,
    "start_time": "2022-06-21T10:15:48.619Z"
   },
   {
    "duration": 11,
    "start_time": "2022-06-21T10:15:53.592Z"
   },
   {
    "duration": 2,
    "start_time": "2022-06-21T10:16:51.123Z"
   },
   {
    "duration": 678,
    "start_time": "2022-06-21T10:16:51.147Z"
   },
   {
    "duration": 17,
    "start_time": "2022-06-21T10:16:51.827Z"
   },
   {
    "duration": 2,
    "start_time": "2022-06-21T10:18:26.999Z"
   },
   {
    "duration": 663,
    "start_time": "2022-06-21T10:18:27.175Z"
   },
   {
    "duration": 12,
    "start_time": "2022-06-21T10:18:27.839Z"
   },
   {
    "duration": 90,
    "start_time": "2022-06-21T10:18:27.852Z"
   },
   {
    "duration": 19,
    "start_time": "2022-06-21T10:18:27.944Z"
   },
   {
    "duration": 90,
    "start_time": "2022-06-21T10:18:27.964Z"
   },
   {
    "duration": 3,
    "start_time": "2022-06-21T10:19:18.819Z"
   },
   {
    "duration": 708,
    "start_time": "2022-06-21T10:19:18.976Z"
   },
   {
    "duration": 12,
    "start_time": "2022-06-21T10:19:19.686Z"
   },
   {
    "duration": 88,
    "start_time": "2022-06-21T10:19:19.699Z"
   },
   {
    "duration": 20,
    "start_time": "2022-06-21T10:19:19.789Z"
   },
   {
    "duration": 80,
    "start_time": "2022-06-21T10:19:19.811Z"
   },
   {
    "duration": 5,
    "start_time": "2022-06-21T10:19:51.286Z"
   },
   {
    "duration": 16,
    "start_time": "2022-06-21T10:20:04.891Z"
   },
   {
    "duration": 27,
    "start_time": "2022-06-21T10:20:22.227Z"
   },
   {
    "duration": 7,
    "start_time": "2022-06-21T10:20:28.381Z"
   },
   {
    "duration": 2,
    "start_time": "2022-06-21T10:21:20.451Z"
   },
   {
    "duration": 716,
    "start_time": "2022-06-21T10:21:20.628Z"
   },
   {
    "duration": 13,
    "start_time": "2022-06-21T10:21:21.346Z"
   },
   {
    "duration": 78,
    "start_time": "2022-06-21T10:21:23.545Z"
   },
   {
    "duration": 6,
    "start_time": "2022-06-21T10:22:42.261Z"
   },
   {
    "duration": 7,
    "start_time": "2022-06-21T10:22:56.882Z"
   },
   {
    "duration": 373,
    "start_time": "2022-06-21T10:24:17.862Z"
   },
   {
    "duration": 818,
    "start_time": "2022-06-21T10:24:18.237Z"
   },
   {
    "duration": 18,
    "start_time": "2022-06-21T10:24:19.056Z"
   },
   {
    "duration": 155,
    "start_time": "2022-06-21T10:24:19.076Z"
   },
   {
    "duration": 30,
    "start_time": "2022-06-21T10:24:19.233Z"
   },
   {
    "duration": 96,
    "start_time": "2022-06-21T10:24:19.265Z"
   },
   {
    "duration": 10,
    "start_time": "2022-06-21T10:24:35.290Z"
   },
   {
    "duration": 3,
    "start_time": "2022-06-21T10:43:57.758Z"
   },
   {
    "duration": 726,
    "start_time": "2022-06-21T10:44:08.201Z"
   },
   {
    "duration": 93,
    "start_time": "2022-06-21T10:45:07.838Z"
   },
   {
    "duration": 12,
    "start_time": "2022-06-21T10:45:18.099Z"
   },
   {
    "duration": 90,
    "start_time": "2022-06-21T10:45:22.138Z"
   },
   {
    "duration": 10,
    "start_time": "2022-06-21T10:45:29.719Z"
   },
   {
    "duration": 8,
    "start_time": "2022-06-21T10:45:36.900Z"
   },
   {
    "duration": 3,
    "start_time": "2022-06-21T10:46:59.573Z"
   },
   {
    "duration": 8,
    "start_time": "2022-06-21T10:47:23.458Z"
   },
   {
    "duration": 3,
    "start_time": "2022-06-21T10:50:44.526Z"
   },
   {
    "duration": 91,
    "start_time": "2022-06-21T10:51:19.290Z"
   },
   {
    "duration": 79,
    "start_time": "2022-06-21T10:51:21.219Z"
   },
   {
    "duration": 72,
    "start_time": "2022-06-21T10:51:52.861Z"
   },
   {
    "duration": 7,
    "start_time": "2022-06-21T11:04:19.646Z"
   },
   {
    "duration": 6,
    "start_time": "2022-06-21T11:06:57.170Z"
   },
   {
    "duration": 102,
    "start_time": "2022-06-21T11:07:33.493Z"
   },
   {
    "duration": 1084,
    "start_time": "2022-06-21T11:08:10.263Z"
   },
   {
    "duration": 750,
    "start_time": "2022-06-21T11:08:11.349Z"
   },
   {
    "duration": 28,
    "start_time": "2022-06-21T11:08:12.101Z"
   },
   {
    "duration": 124,
    "start_time": "2022-06-21T11:08:12.131Z"
   },
   {
    "duration": 22,
    "start_time": "2022-06-21T11:08:12.256Z"
   },
   {
    "duration": 90,
    "start_time": "2022-06-21T11:08:12.279Z"
   },
   {
    "duration": 126,
    "start_time": "2022-06-21T11:08:12.371Z"
   },
   {
    "duration": 2,
    "start_time": "2022-06-21T11:08:12.499Z"
   },
   {
    "duration": 7,
    "start_time": "2022-06-21T11:08:12.502Z"
   },
   {
    "duration": 3120,
    "start_time": "2022-06-21T11:08:12.511Z"
   },
   {
    "duration": 15,
    "start_time": "2022-06-21T11:08:15.633Z"
   },
   {
    "duration": 3,
    "start_time": "2022-06-21T11:09:26.264Z"
   },
   {
    "duration": 2260,
    "start_time": "2022-06-21T11:09:26.363Z"
   },
   {
    "duration": 10,
    "start_time": "2022-06-21T11:09:28.625Z"
   },
   {
    "duration": 1096,
    "start_time": "2022-06-21T11:09:37.059Z"
   },
   {
    "duration": 695,
    "start_time": "2022-06-21T11:09:38.157Z"
   },
   {
    "duration": 18,
    "start_time": "2022-06-21T11:09:38.854Z"
   },
   {
    "duration": 137,
    "start_time": "2022-06-21T11:09:38.874Z"
   },
   {
    "duration": 28,
    "start_time": "2022-06-21T11:09:39.012Z"
   },
   {
    "duration": 74,
    "start_time": "2022-06-21T11:09:39.042Z"
   },
   {
    "duration": 113,
    "start_time": "2022-06-21T11:09:39.129Z"
   },
   {
    "duration": 3,
    "start_time": "2022-06-21T11:09:39.244Z"
   },
   {
    "duration": 11,
    "start_time": "2022-06-21T11:09:39.248Z"
   },
   {
    "duration": 2585,
    "start_time": "2022-06-21T11:09:39.261Z"
   },
   {
    "duration": 11,
    "start_time": "2022-06-21T11:09:41.847Z"
   },
   {
    "duration": 20,
    "start_time": "2022-06-21T11:12:27.484Z"
   },
   {
    "duration": 18,
    "start_time": "2022-06-21T11:12:59.920Z"
   },
   {
    "duration": 20,
    "start_time": "2022-06-21T11:13:17.313Z"
   },
   {
    "duration": 19,
    "start_time": "2022-06-21T11:13:31.964Z"
   },
   {
    "duration": 18,
    "start_time": "2022-06-21T11:13:51.052Z"
   },
   {
    "duration": 20,
    "start_time": "2022-06-21T11:14:06.916Z"
   },
   {
    "duration": 21,
    "start_time": "2022-06-21T11:14:18.038Z"
   },
   {
    "duration": 2,
    "start_time": "2022-06-21T11:15:16.383Z"
   },
   {
    "duration": 2,
    "start_time": "2022-06-21T11:15:26.456Z"
   },
   {
    "duration": 681,
    "start_time": "2022-06-21T11:15:27.015Z"
   },
   {
    "duration": 12,
    "start_time": "2022-06-21T11:15:27.698Z"
   },
   {
    "duration": 75,
    "start_time": "2022-06-21T11:15:28.651Z"
   },
   {
    "duration": 15,
    "start_time": "2022-06-21T11:15:30.643Z"
   },
   {
    "duration": 78,
    "start_time": "2022-06-21T11:15:30.892Z"
   },
   {
    "duration": 11,
    "start_time": "2022-06-21T11:15:42.125Z"
   },
   {
    "duration": 65,
    "start_time": "2022-06-21T11:15:58.029Z"
   },
   {
    "duration": 21,
    "start_time": "2022-06-21T11:16:10.131Z"
   },
   {
    "duration": 91,
    "start_time": "2022-06-21T11:16:27.084Z"
   },
   {
    "duration": 84,
    "start_time": "2022-06-21T11:16:28.175Z"
   },
   {
    "duration": 2,
    "start_time": "2022-06-21T11:16:28.826Z"
   },
   {
    "duration": 2,
    "start_time": "2022-06-21T11:16:30.569Z"
   },
   {
    "duration": 2720,
    "start_time": "2022-06-21T11:16:35.296Z"
   },
   {
    "duration": 7,
    "start_time": "2022-06-21T11:23:10.541Z"
   },
   {
    "duration": 4,
    "start_time": "2022-06-21T11:23:25.255Z"
   },
   {
    "duration": 11,
    "start_time": "2022-06-21T11:23:39.521Z"
   },
   {
    "duration": 5,
    "start_time": "2022-06-21T11:23:49.522Z"
   },
   {
    "duration": 18,
    "start_time": "2022-06-21T11:24:11.148Z"
   },
   {
    "duration": 17,
    "start_time": "2022-06-21T11:25:10.609Z"
   },
   {
    "duration": 70,
    "start_time": "2022-06-21T11:25:22.415Z"
   },
   {
    "duration": 3,
    "start_time": "2022-06-21T11:25:59.788Z"
   },
   {
    "duration": 658,
    "start_time": "2022-06-21T11:25:59.905Z"
   },
   {
    "duration": 11,
    "start_time": "2022-06-21T11:26:00.565Z"
   },
   {
    "duration": 78,
    "start_time": "2022-06-21T11:26:08.515Z"
   },
   {
    "duration": 2,
    "start_time": "2022-06-21T11:28:25.395Z"
   },
   {
    "duration": 594,
    "start_time": "2022-06-21T11:28:25.404Z"
   },
   {
    "duration": 15,
    "start_time": "2022-06-21T11:28:26.000Z"
   },
   {
    "duration": 75,
    "start_time": "2022-06-21T11:28:28.487Z"
   },
   {
    "duration": 16,
    "start_time": "2022-06-21T11:28:32.723Z"
   },
   {
    "duration": 12,
    "start_time": "2022-06-21T11:28:37.820Z"
   },
   {
    "duration": 82,
    "start_time": "2022-06-21T11:28:38.102Z"
   },
   {
    "duration": 64,
    "start_time": "2022-06-21T11:29:08.051Z"
   },
   {
    "duration": 15,
    "start_time": "2022-06-21T11:29:20.113Z"
   },
   {
    "duration": 72,
    "start_time": "2022-06-21T11:29:20.130Z"
   },
   {
    "duration": 67,
    "start_time": "2022-06-21T11:29:27.030Z"
   },
   {
    "duration": 984,
    "start_time": "2022-06-21T11:30:07.081Z"
   },
   {
    "duration": 689,
    "start_time": "2022-06-21T11:30:08.067Z"
   },
   {
    "duration": 18,
    "start_time": "2022-06-21T11:30:08.758Z"
   },
   {
    "duration": 123,
    "start_time": "2022-06-21T11:30:08.777Z"
   },
   {
    "duration": 27,
    "start_time": "2022-06-21T11:30:08.902Z"
   },
   {
    "duration": 70,
    "start_time": "2022-06-21T11:30:08.931Z"
   },
   {
    "duration": 33,
    "start_time": "2022-06-21T11:30:09.003Z"
   },
   {
    "duration": 109,
    "start_time": "2022-06-21T11:30:09.038Z"
   },
   {
    "duration": 2,
    "start_time": "2022-06-21T11:30:09.149Z"
   },
   {
    "duration": 6,
    "start_time": "2022-06-21T11:30:09.153Z"
   },
   {
    "duration": 2374,
    "start_time": "2022-06-21T11:30:09.160Z"
   },
   {
    "duration": 11,
    "start_time": "2022-06-21T11:30:11.535Z"
   },
   {
    "duration": 2,
    "start_time": "2022-06-21T11:46:54.247Z"
   },
   {
    "duration": 9,
    "start_time": "2022-06-21T11:46:58.530Z"
   },
   {
    "duration": 4,
    "start_time": "2022-06-21T11:47:43.469Z"
   },
   {
    "duration": 8,
    "start_time": "2022-06-21T11:48:19.953Z"
   },
   {
    "duration": 8,
    "start_time": "2022-06-21T11:48:38.860Z"
   },
   {
    "duration": 8,
    "start_time": "2022-06-21T11:48:54.588Z"
   },
   {
    "duration": 3,
    "start_time": "2022-06-21T11:49:02.283Z"
   },
   {
    "duration": 7,
    "start_time": "2022-06-21T11:49:10.253Z"
   },
   {
    "duration": 8,
    "start_time": "2022-06-21T11:49:30.420Z"
   },
   {
    "duration": 8,
    "start_time": "2022-06-21T11:49:32.991Z"
   },
   {
    "duration": 2194,
    "start_time": "2022-06-21T11:50:53.720Z"
   },
   {
    "duration": 2810,
    "start_time": "2022-06-21T11:51:16.924Z"
   },
   {
    "duration": 2031,
    "start_time": "2022-06-21T11:51:52.947Z"
   },
   {
    "duration": 1057,
    "start_time": "2022-06-21T12:28:04.276Z"
   },
   {
    "duration": 768,
    "start_time": "2022-06-21T12:28:05.336Z"
   },
   {
    "duration": 27,
    "start_time": "2022-06-21T12:28:06.106Z"
   },
   {
    "duration": 158,
    "start_time": "2022-06-21T12:28:06.136Z"
   },
   {
    "duration": 33,
    "start_time": "2022-06-21T12:28:06.297Z"
   },
   {
    "duration": 79,
    "start_time": "2022-06-21T12:28:06.332Z"
   },
   {
    "duration": 102,
    "start_time": "2022-06-21T12:28:06.412Z"
   },
   {
    "duration": 0,
    "start_time": "2022-06-21T12:28:06.515Z"
   },
   {
    "duration": 0,
    "start_time": "2022-06-21T12:28:06.516Z"
   },
   {
    "duration": 0,
    "start_time": "2022-06-21T12:28:06.517Z"
   },
   {
    "duration": 0,
    "start_time": "2022-06-21T12:28:06.518Z"
   },
   {
    "duration": 0,
    "start_time": "2022-06-21T12:28:06.529Z"
   },
   {
    "duration": 10,
    "start_time": "2022-06-21T12:28:47.384Z"
   },
   {
    "duration": 2,
    "start_time": "2022-06-21T12:31:48.637Z"
   },
   {
    "duration": 662,
    "start_time": "2022-06-21T12:31:49.684Z"
   },
   {
    "duration": 13,
    "start_time": "2022-06-21T12:31:50.347Z"
   },
   {
    "duration": 90,
    "start_time": "2022-06-21T12:31:50.361Z"
   },
   {
    "duration": 15,
    "start_time": "2022-06-21T12:31:50.452Z"
   },
   {
    "duration": 68,
    "start_time": "2022-06-21T12:31:50.574Z"
   },
   {
    "duration": 13,
    "start_time": "2022-06-21T12:31:51.171Z"
   },
   {
    "duration": 3,
    "start_time": "2022-06-21T12:32:31.969Z"
   },
   {
    "duration": 9,
    "start_time": "2022-06-21T12:33:01.647Z"
   },
   {
    "duration": 9,
    "start_time": "2022-06-21T12:33:04.352Z"
   },
   {
    "duration": 49,
    "start_time": "2022-06-21T12:33:27.506Z"
   },
   {
    "duration": 2,
    "start_time": "2022-06-21T12:33:28.952Z"
   },
   {
    "duration": 31263,
    "start_time": "2022-06-21T12:33:36.402Z"
   },
   {
    "duration": 90,
    "start_time": "2022-06-21T12:34:18.085Z"
   },
   {
    "duration": 2,
    "start_time": "2022-06-21T12:50:59.074Z"
   },
   {
    "duration": 29073,
    "start_time": "2022-06-21T12:51:05.179Z"
   },
   {
    "duration": 28474,
    "start_time": "2022-06-21T12:52:26.670Z"
   },
   {
    "duration": 30020,
    "start_time": "2022-06-21T12:53:29.995Z"
   },
   {
    "duration": 73,
    "start_time": "2022-06-21T13:11:16.591Z"
   },
   {
    "duration": 3,
    "start_time": "2022-06-21T13:11:44.136Z"
   },
   {
    "duration": 3,
    "start_time": "2022-06-21T13:13:05.440Z"
   },
   {
    "duration": 32614,
    "start_time": "2022-06-21T13:13:08.736Z"
   },
   {
    "duration": 3,
    "start_time": "2022-06-21T13:13:41.352Z"
   },
   {
    "duration": 33467,
    "start_time": "2022-06-21T13:14:15.951Z"
   },
   {
    "duration": 2,
    "start_time": "2022-06-21T13:14:56.382Z"
   },
   {
    "duration": 3,
    "start_time": "2022-06-21T13:14:56.496Z"
   },
   {
    "duration": 32867,
    "start_time": "2022-06-21T13:14:56.686Z"
   },
   {
    "duration": 3,
    "start_time": "2022-06-21T13:15:48.349Z"
   },
   {
    "duration": 82,
    "start_time": "2022-06-21T13:16:24.348Z"
   },
   {
    "duration": 5,
    "start_time": "2022-06-21T13:17:22.534Z"
   },
   {
    "duration": 5,
    "start_time": "2022-06-21T13:17:38.999Z"
   },
   {
    "duration": 3,
    "start_time": "2022-06-21T13:21:04.115Z"
   },
   {
    "duration": 697,
    "start_time": "2022-06-21T13:21:04.610Z"
   },
   {
    "duration": 13,
    "start_time": "2022-06-21T13:21:05.309Z"
   },
   {
    "duration": 86,
    "start_time": "2022-06-21T13:21:05.329Z"
   },
   {
    "duration": 23,
    "start_time": "2022-06-21T13:21:05.417Z"
   },
   {
    "duration": 92,
    "start_time": "2022-06-21T13:21:05.982Z"
   },
   {
    "duration": 10,
    "start_time": "2022-06-21T13:21:08.386Z"
   },
   {
    "duration": 10,
    "start_time": "2022-06-21T13:21:56.762Z"
   },
   {
    "duration": 66,
    "start_time": "2022-06-21T13:22:07.890Z"
   },
   {
    "duration": 74,
    "start_time": "2022-06-21T13:22:19.878Z"
   },
   {
    "duration": 11,
    "start_time": "2022-06-21T13:22:34.633Z"
   },
   {
    "duration": 3,
    "start_time": "2022-06-21T13:23:00.792Z"
   },
   {
    "duration": 685,
    "start_time": "2022-06-21T13:23:01.022Z"
   },
   {
    "duration": 12,
    "start_time": "2022-06-21T13:23:01.982Z"
   },
   {
    "duration": 89,
    "start_time": "2022-06-21T13:23:01.996Z"
   },
   {
    "duration": 16,
    "start_time": "2022-06-21T13:23:02.087Z"
   },
   {
    "duration": 83,
    "start_time": "2022-06-21T13:23:04.844Z"
   },
   {
    "duration": 12,
    "start_time": "2022-06-21T13:23:07.041Z"
   },
   {
    "duration": 74,
    "start_time": "2022-06-21T13:23:19.150Z"
   },
   {
    "duration": 561,
    "start_time": "2022-06-21T13:23:41.982Z"
   },
   {
    "duration": 286,
    "start_time": "2022-06-21T13:23:53.402Z"
   },
   {
    "duration": 254,
    "start_time": "2022-06-21T13:24:01.153Z"
   },
   {
    "duration": 1374,
    "start_time": "2022-06-21T13:24:22.487Z"
   },
   {
    "duration": 23,
    "start_time": "2022-06-21T13:25:05.944Z"
   },
   {
    "duration": 19,
    "start_time": "2022-06-21T13:25:40.648Z"
   },
   {
    "duration": 10,
    "start_time": "2022-06-21T13:26:14.999Z"
   },
   {
    "duration": 9,
    "start_time": "2022-06-21T13:26:21.936Z"
   },
   {
    "duration": 24,
    "start_time": "2022-06-21T13:27:06.706Z"
   },
   {
    "duration": 9,
    "start_time": "2022-06-21T13:27:23.596Z"
   },
   {
    "duration": 8,
    "start_time": "2022-06-21T13:27:29.540Z"
   },
   {
    "duration": 147,
    "start_time": "2022-06-21T13:27:56.282Z"
   },
   {
    "duration": 322,
    "start_time": "2022-06-21T13:28:10.848Z"
   },
   {
    "duration": 8,
    "start_time": "2022-06-21T13:28:27.490Z"
   },
   {
    "duration": 20,
    "start_time": "2022-06-21T13:29:42.882Z"
   },
   {
    "duration": 15,
    "start_time": "2022-06-21T13:29:47.448Z"
   },
   {
    "duration": 10,
    "start_time": "2022-06-21T13:30:05.310Z"
   },
   {
    "duration": 31,
    "start_time": "2022-06-21T13:37:42.802Z"
   },
   {
    "duration": 7,
    "start_time": "2022-06-21T13:37:46.202Z"
   },
   {
    "duration": 11,
    "start_time": "2022-06-21T13:38:32.282Z"
   },
   {
    "duration": 6,
    "start_time": "2022-06-21T13:39:41.907Z"
   },
   {
    "duration": 56,
    "start_time": "2022-06-21T13:39:59.848Z"
   },
   {
    "duration": 6,
    "start_time": "2022-06-21T13:40:03.215Z"
   },
   {
    "duration": 60,
    "start_time": "2022-06-21T13:40:14.553Z"
   },
   {
    "duration": 3,
    "start_time": "2022-06-21T13:40:31.550Z"
   },
   {
    "duration": 706,
    "start_time": "2022-06-21T13:40:32.082Z"
   },
   {
    "duration": 14,
    "start_time": "2022-06-21T13:40:32.790Z"
   },
   {
    "duration": 97,
    "start_time": "2022-06-21T13:40:33.852Z"
   },
   {
    "duration": 16,
    "start_time": "2022-06-21T13:40:41.994Z"
   },
   {
    "duration": 11,
    "start_time": "2022-06-21T13:40:42.890Z"
   },
   {
    "duration": 11,
    "start_time": "2022-06-21T13:40:43.994Z"
   },
   {
    "duration": 46,
    "start_time": "2022-06-21T13:40:46.710Z"
   },
   {
    "duration": 3,
    "start_time": "2022-06-21T13:41:15.508Z"
   },
   {
    "duration": 725,
    "start_time": "2022-06-21T13:41:15.513Z"
   },
   {
    "duration": 116,
    "start_time": "2022-06-21T13:41:16.240Z"
   },
   {
    "duration": 19,
    "start_time": "2022-06-21T13:41:16.359Z"
   },
   {
    "duration": 102,
    "start_time": "2022-06-21T13:41:16.381Z"
   },
   {
    "duration": 16,
    "start_time": "2022-06-21T13:41:21.322Z"
   },
   {
    "duration": 9,
    "start_time": "2022-06-21T13:41:21.341Z"
   },
   {
    "duration": 12,
    "start_time": "2022-06-21T13:41:21.547Z"
   },
   {
    "duration": 46,
    "start_time": "2022-06-21T13:41:22.548Z"
   },
   {
    "duration": 66,
    "start_time": "2022-06-21T13:41:23.182Z"
   },
   {
    "duration": 10,
    "start_time": "2022-06-21T13:41:25.655Z"
   },
   {
    "duration": 50,
    "start_time": "2022-06-21T13:42:34.995Z"
   },
   {
    "duration": 60,
    "start_time": "2022-06-21T13:42:55.122Z"
   },
   {
    "duration": 3,
    "start_time": "2022-06-21T13:42:59.002Z"
   },
   {
    "duration": 691,
    "start_time": "2022-06-21T13:42:59.118Z"
   },
   {
    "duration": 105,
    "start_time": "2022-06-21T13:42:59.811Z"
   },
   {
    "duration": 19,
    "start_time": "2022-06-21T13:42:59.918Z"
   },
   {
    "duration": 105,
    "start_time": "2022-06-21T13:42:59.939Z"
   },
   {
    "duration": 16,
    "start_time": "2022-06-21T13:43:00.046Z"
   },
   {
    "duration": 10,
    "start_time": "2022-06-21T13:43:00.064Z"
   },
   {
    "duration": 11,
    "start_time": "2022-06-21T13:43:00.186Z"
   },
   {
    "duration": 51,
    "start_time": "2022-06-21T13:43:00.348Z"
   },
   {
    "duration": 48,
    "start_time": "2022-06-21T13:43:11.442Z"
   },
   {
    "duration": 41,
    "start_time": "2022-06-21T13:43:12.407Z"
   },
   {
    "duration": 58,
    "start_time": "2022-06-21T13:43:13.005Z"
   },
   {
    "duration": 12,
    "start_time": "2022-06-21T13:43:16.905Z"
   },
   {
    "duration": 70,
    "start_time": "2022-06-21T13:43:35.440Z"
   },
   {
    "duration": 3,
    "start_time": "2022-06-21T13:43:35.512Z"
   },
   {
    "duration": 4,
    "start_time": "2022-06-21T13:43:35.912Z"
   },
   {
    "duration": 2518,
    "start_time": "2022-06-21T13:43:36.548Z"
   },
   {
    "duration": 4,
    "start_time": "2022-06-21T13:43:39.447Z"
   },
   {
    "duration": 16,
    "start_time": "2022-06-21T13:43:39.686Z"
   },
   {
    "duration": 76,
    "start_time": "2022-06-21T13:46:02.021Z"
   },
   {
    "duration": 58,
    "start_time": "2022-06-21T13:46:02.182Z"
   },
   {
    "duration": 1114,
    "start_time": "2022-06-21T13:46:12.306Z"
   },
   {
    "duration": 729,
    "start_time": "2022-06-21T13:46:13.423Z"
   },
   {
    "duration": 103,
    "start_time": "2022-06-21T13:46:14.154Z"
   },
   {
    "duration": 18,
    "start_time": "2022-06-21T13:46:14.260Z"
   },
   {
    "duration": 135,
    "start_time": "2022-06-21T13:46:14.279Z"
   },
   {
    "duration": 28,
    "start_time": "2022-06-21T13:46:14.415Z"
   },
   {
    "duration": 17,
    "start_time": "2022-06-21T13:46:14.444Z"
   },
   {
    "duration": 11,
    "start_time": "2022-06-21T13:46:14.463Z"
   },
   {
    "duration": 99,
    "start_time": "2022-06-21T13:46:14.476Z"
   },
   {
    "duration": 64,
    "start_time": "2022-06-21T13:46:14.578Z"
   },
   {
    "duration": 10,
    "start_time": "2022-06-21T13:46:14.644Z"
   },
   {
    "duration": 100,
    "start_time": "2022-06-21T13:46:14.655Z"
   },
   {
    "duration": 3,
    "start_time": "2022-06-21T13:46:14.757Z"
   },
   {
    "duration": 7,
    "start_time": "2022-06-21T13:46:14.761Z"
   },
   {
    "duration": 2973,
    "start_time": "2022-06-21T13:46:14.770Z"
   },
   {
    "duration": 5,
    "start_time": "2022-06-21T13:46:17.745Z"
   },
   {
    "duration": 14,
    "start_time": "2022-06-21T13:46:17.752Z"
   },
   {
    "duration": 57,
    "start_time": "2022-06-21T13:46:49.453Z"
   },
   {
    "duration": 88,
    "start_time": "2022-06-21T13:47:17.198Z"
   },
   {
    "duration": 60,
    "start_time": "2022-06-21T13:47:21.596Z"
   },
   {
    "duration": 3,
    "start_time": "2022-06-21T14:24:41.869Z"
   },
   {
    "duration": 748,
    "start_time": "2022-06-21T14:24:42.046Z"
   },
   {
    "duration": 125,
    "start_time": "2022-06-21T14:24:42.796Z"
   },
   {
    "duration": 20,
    "start_time": "2022-06-21T14:24:42.929Z"
   },
   {
    "duration": 85,
    "start_time": "2022-06-21T14:24:48.575Z"
   },
   {
    "duration": 16,
    "start_time": "2022-06-21T14:24:48.868Z"
   },
   {
    "duration": 9,
    "start_time": "2022-06-21T14:24:49.730Z"
   },
   {
    "duration": 12,
    "start_time": "2022-06-21T14:24:50.163Z"
   },
   {
    "duration": 99,
    "start_time": "2022-06-21T14:24:53.486Z"
   },
   {
    "duration": 60,
    "start_time": "2022-06-21T14:24:54.144Z"
   },
   {
    "duration": 11,
    "start_time": "2022-06-21T14:24:58.591Z"
   },
   {
    "duration": 14,
    "start_time": "2022-06-21T14:26:00.090Z"
   },
   {
    "duration": 21,
    "start_time": "2022-06-21T14:26:07.079Z"
   },
   {
    "duration": 15,
    "start_time": "2022-06-21T14:26:52.677Z"
   },
   {
    "duration": 15,
    "start_time": "2022-06-21T14:27:06.784Z"
   },
   {
    "duration": 70,
    "start_time": "2022-06-21T14:34:18.450Z"
   },
   {
    "duration": 66,
    "start_time": "2022-06-21T14:34:24.703Z"
   },
   {
    "duration": 11,
    "start_time": "2022-06-21T14:34:27.339Z"
   },
   {
    "duration": 1619,
    "start_time": "2022-06-21T14:35:21.393Z"
   },
   {
    "duration": 809,
    "start_time": "2022-06-21T14:35:23.014Z"
   },
   {
    "duration": 111,
    "start_time": "2022-06-21T14:35:23.824Z"
   },
   {
    "duration": 22,
    "start_time": "2022-06-21T14:35:23.938Z"
   },
   {
    "duration": 158,
    "start_time": "2022-06-21T14:35:23.961Z"
   },
   {
    "duration": 28,
    "start_time": "2022-06-21T14:35:24.121Z"
   },
   {
    "duration": 16,
    "start_time": "2022-06-21T14:35:24.151Z"
   },
   {
    "duration": 11,
    "start_time": "2022-06-21T14:35:24.168Z"
   },
   {
    "duration": 123,
    "start_time": "2022-06-21T14:35:24.181Z"
   },
   {
    "duration": 86,
    "start_time": "2022-06-21T14:35:24.306Z"
   },
   {
    "duration": 77,
    "start_time": "2022-06-21T14:35:24.394Z"
   },
   {
    "duration": 9,
    "start_time": "2022-06-21T14:35:24.473Z"
   },
   {
    "duration": 109,
    "start_time": "2022-06-21T14:35:24.484Z"
   },
   {
    "duration": 2,
    "start_time": "2022-06-21T14:35:24.595Z"
   },
   {
    "duration": 6,
    "start_time": "2022-06-21T14:35:24.600Z"
   },
   {
    "duration": 284408,
    "start_time": "2022-06-21T14:35:24.608Z"
   },
   {
    "duration": 5,
    "start_time": "2022-06-21T14:40:09.018Z"
   },
   {
    "duration": 124,
    "start_time": "2022-06-21T14:40:09.025Z"
   },
   {
    "duration": 12,
    "start_time": "2022-06-21T14:40:21.089Z"
   },
   {
    "duration": 4,
    "start_time": "2022-06-21T14:40:28.314Z"
   },
   {
    "duration": 8,
    "start_time": "2022-06-21T14:40:31.599Z"
   },
   {
    "duration": 565,
    "start_time": "2022-06-21T14:41:26.219Z"
   },
   {
    "duration": 6,
    "start_time": "2022-06-21T14:41:26.786Z"
   },
   {
    "duration": 1107,
    "start_time": "2022-06-21T18:57:04.489Z"
   },
   {
    "duration": 3385,
    "start_time": "2022-06-21T18:57:05.598Z"
   },
   {
    "duration": 125,
    "start_time": "2022-06-21T18:57:08.985Z"
   },
   {
    "duration": 32,
    "start_time": "2022-06-21T18:57:09.112Z"
   },
   {
    "duration": 103,
    "start_time": "2022-06-21T18:57:13.446Z"
   },
   {
    "duration": 26,
    "start_time": "2022-06-21T18:57:14.986Z"
   },
   {
    "duration": 16,
    "start_time": "2022-06-21T18:57:25.696Z"
   },
   {
    "duration": 14,
    "start_time": "2022-06-21T18:57:26.657Z"
   },
   {
    "duration": 129,
    "start_time": "2022-06-21T18:58:21.607Z"
   },
   {
    "duration": 12,
    "start_time": "2022-06-21T18:58:28.785Z"
   },
   {
    "duration": 735,
    "start_time": "2022-06-21T18:58:39.209Z"
   },
   {
    "duration": 1521,
    "start_time": "2022-06-21T18:58:52.582Z"
   },
   {
    "duration": 1791,
    "start_time": "2022-06-21T18:59:45.910Z"
   },
   {
    "duration": 1656,
    "start_time": "2022-06-21T18:59:57.108Z"
   },
   {
    "duration": 1080,
    "start_time": "2022-06-21T19:00:09.443Z"
   },
   {
    "duration": 569,
    "start_time": "2022-06-21T19:00:44.413Z"
   },
   {
    "duration": 469,
    "start_time": "2022-06-21T19:00:54.291Z"
   },
   {
    "duration": 577,
    "start_time": "2022-06-21T19:01:00.692Z"
   },
   {
    "duration": 618,
    "start_time": "2022-06-21T19:01:05.945Z"
   },
   {
    "duration": 453,
    "start_time": "2022-06-21T19:06:36.417Z"
   },
   {
    "duration": 213,
    "start_time": "2022-06-21T19:06:43.738Z"
   },
   {
    "duration": 460,
    "start_time": "2022-06-21T19:06:49.296Z"
   },
   {
    "duration": 689,
    "start_time": "2022-06-21T19:07:50.482Z"
   },
   {
    "duration": 220,
    "start_time": "2022-06-21T19:07:56.803Z"
   },
   {
    "duration": 250,
    "start_time": "2022-06-21T19:08:02.095Z"
   },
   {
    "duration": 173,
    "start_time": "2022-06-21T19:08:10.315Z"
   },
   {
    "duration": 202,
    "start_time": "2022-06-21T19:08:14.468Z"
   },
   {
    "duration": 210,
    "start_time": "2022-06-21T19:08:17.987Z"
   },
   {
    "duration": 217,
    "start_time": "2022-06-21T19:08:23.303Z"
   },
   {
    "duration": 208,
    "start_time": "2022-06-21T19:08:30.187Z"
   },
   {
    "duration": 451,
    "start_time": "2022-06-21T19:09:00.737Z"
   },
   {
    "duration": 211,
    "start_time": "2022-06-21T19:09:26.636Z"
   },
   {
    "duration": 216,
    "start_time": "2022-06-21T19:09:34.436Z"
   },
   {
    "duration": 169,
    "start_time": "2022-06-21T19:09:45.370Z"
   },
   {
    "duration": 173,
    "start_time": "2022-06-21T19:09:48.365Z"
   },
   {
    "duration": 184,
    "start_time": "2022-06-21T19:09:50.996Z"
   },
   {
    "duration": 184,
    "start_time": "2022-06-21T19:10:02.927Z"
   },
   {
    "duration": 493,
    "start_time": "2022-06-21T19:10:05.738Z"
   },
   {
    "duration": 234,
    "start_time": "2022-06-21T19:10:17.123Z"
   },
   {
    "duration": 207,
    "start_time": "2022-06-21T19:10:26.416Z"
   },
   {
    "duration": 14,
    "start_time": "2022-06-21T19:11:17.346Z"
   },
   {
    "duration": 76,
    "start_time": "2022-06-21T19:11:24.330Z"
   },
   {
    "duration": 26,
    "start_time": "2022-06-21T19:12:00.461Z"
   },
   {
    "duration": 55,
    "start_time": "2022-06-21T19:12:48.933Z"
   },
   {
    "duration": 20,
    "start_time": "2022-06-21T19:13:01.840Z"
   },
   {
    "duration": 4,
    "start_time": "2022-06-21T19:16:47.197Z"
   },
   {
    "duration": 786,
    "start_time": "2022-06-21T19:16:47.713Z"
   },
   {
    "duration": 109,
    "start_time": "2022-06-21T19:16:48.501Z"
   },
   {
    "duration": 20,
    "start_time": "2022-06-21T19:16:48.611Z"
   },
   {
    "duration": 100,
    "start_time": "2022-06-21T19:16:48.930Z"
   },
   {
    "duration": 6,
    "start_time": "2022-06-21T19:18:39.285Z"
   },
   {
    "duration": 5,
    "start_time": "2022-06-21T19:18:46.548Z"
   },
   {
    "duration": 5,
    "start_time": "2022-06-21T19:19:01.189Z"
   },
   {
    "duration": 20,
    "start_time": "2022-06-21T19:19:11.033Z"
   },
   {
    "duration": 6,
    "start_time": "2022-06-21T19:19:32.053Z"
   },
   {
    "duration": 8,
    "start_time": "2022-06-21T19:19:33.665Z"
   },
   {
    "duration": 10,
    "start_time": "2022-06-21T19:19:52.569Z"
   },
   {
    "duration": 5,
    "start_time": "2022-06-21T19:20:06.602Z"
   },
   {
    "duration": 5,
    "start_time": "2022-06-21T19:20:16.432Z"
   },
   {
    "duration": 6,
    "start_time": "2022-06-21T19:20:28.351Z"
   },
   {
    "duration": 26,
    "start_time": "2022-06-21T19:21:06.987Z"
   },
   {
    "duration": 129,
    "start_time": "2022-06-21T19:23:40.277Z"
   },
   {
    "duration": 146,
    "start_time": "2022-06-21T19:24:02.748Z"
   },
   {
    "duration": 153,
    "start_time": "2022-06-21T19:24:10.225Z"
   },
   {
    "duration": 145,
    "start_time": "2022-06-21T19:24:13.773Z"
   },
   {
    "duration": 8,
    "start_time": "2022-06-21T19:25:42.351Z"
   },
   {
    "duration": 88,
    "start_time": "2022-06-21T19:26:33.805Z"
   },
   {
    "duration": 461,
    "start_time": "2022-06-21T19:26:37.848Z"
   },
   {
    "duration": 336,
    "start_time": "2022-06-21T19:26:49.377Z"
   },
   {
    "duration": 296,
    "start_time": "2022-06-21T19:26:58.218Z"
   },
   {
    "duration": 461,
    "start_time": "2022-06-21T19:27:08.609Z"
   },
   {
    "duration": 85,
    "start_time": "2022-06-21T19:27:55.718Z"
   },
   {
    "duration": 66,
    "start_time": "2022-06-21T19:28:01.410Z"
   },
   {
    "duration": 20,
    "start_time": "2022-06-21T19:28:20.906Z"
   },
   {
    "duration": 3,
    "start_time": "2022-06-21T19:28:58.827Z"
   },
   {
    "duration": 731,
    "start_time": "2022-06-21T19:28:58.831Z"
   },
   {
    "duration": 101,
    "start_time": "2022-06-21T19:28:59.564Z"
   },
   {
    "duration": 14,
    "start_time": "2022-06-21T19:28:59.667Z"
   },
   {
    "duration": 89,
    "start_time": "2022-06-21T19:28:59.712Z"
   },
   {
    "duration": 14,
    "start_time": "2022-06-21T19:28:59.908Z"
   },
   {
    "duration": 423,
    "start_time": "2022-06-21T19:29:00.110Z"
   },
   {
    "duration": 99,
    "start_time": "2022-06-21T19:29:07.530Z"
   },
   {
    "duration": 18,
    "start_time": "2022-06-21T19:29:07.631Z"
   },
   {
    "duration": 7,
    "start_time": "2022-06-21T19:29:07.650Z"
   },
   {
    "duration": 19,
    "start_time": "2022-06-21T19:29:18.875Z"
   },
   {
    "duration": 10,
    "start_time": "2022-06-21T19:30:15.186Z"
   },
   {
    "duration": 11,
    "start_time": "2022-06-21T19:30:31.161Z"
   },
   {
    "duration": 2,
    "start_time": "2022-06-21T19:30:40.510Z"
   },
   {
    "duration": 732,
    "start_time": "2022-06-21T19:30:40.695Z"
   },
   {
    "duration": 111,
    "start_time": "2022-06-21T19:30:41.430Z"
   },
   {
    "duration": 14,
    "start_time": "2022-06-21T19:30:41.542Z"
   },
   {
    "duration": 103,
    "start_time": "2022-06-21T19:30:41.557Z"
   },
   {
    "duration": 13,
    "start_time": "2022-06-21T19:30:41.662Z"
   },
   {
    "duration": 759,
    "start_time": "2022-06-21T19:30:41.712Z"
   },
   {
    "duration": 61,
    "start_time": "2022-06-21T19:30:45.906Z"
   },
   {
    "duration": 11,
    "start_time": "2022-06-21T19:30:46.104Z"
   },
   {
    "duration": 7,
    "start_time": "2022-06-21T19:30:46.251Z"
   },
   {
    "duration": 12,
    "start_time": "2022-06-21T19:30:46.507Z"
   },
   {
    "duration": 10,
    "start_time": "2022-06-21T19:31:38.104Z"
   },
   {
    "duration": 11,
    "start_time": "2022-06-21T19:31:51.944Z"
   },
   {
    "duration": 6,
    "start_time": "2022-06-21T19:32:54.388Z"
   },
   {
    "duration": 6,
    "start_time": "2022-06-21T19:33:05.223Z"
   },
   {
    "duration": 11,
    "start_time": "2022-06-21T19:33:27.603Z"
   },
   {
    "duration": 10,
    "start_time": "2022-06-21T19:34:23.703Z"
   },
   {
    "duration": 124,
    "start_time": "2022-06-21T19:34:44.541Z"
   },
   {
    "duration": 11,
    "start_time": "2022-06-21T19:35:21.126Z"
   },
   {
    "duration": 9,
    "start_time": "2022-06-21T19:35:24.952Z"
   },
   {
    "duration": 9,
    "start_time": "2022-06-21T19:35:33.179Z"
   },
   {
    "duration": 9,
    "start_time": "2022-06-21T19:35:59.874Z"
   },
   {
    "duration": 38,
    "start_time": "2022-06-21T19:36:55.961Z"
   },
   {
    "duration": 19,
    "start_time": "2022-06-21T19:37:27.858Z"
   },
   {
    "duration": 32,
    "start_time": "2022-06-21T19:37:39.409Z"
   },
   {
    "duration": 30,
    "start_time": "2022-06-21T19:38:32.955Z"
   },
   {
    "duration": 45,
    "start_time": "2022-06-21T19:40:57.734Z"
   },
   {
    "duration": 22,
    "start_time": "2022-06-21T19:41:06.270Z"
   },
   {
    "duration": 3,
    "start_time": "2022-06-21T19:42:11.592Z"
   },
   {
    "duration": 733,
    "start_time": "2022-06-21T19:42:11.610Z"
   },
   {
    "duration": 104,
    "start_time": "2022-06-21T19:42:12.345Z"
   },
   {
    "duration": 13,
    "start_time": "2022-06-21T19:42:12.451Z"
   },
   {
    "duration": 111,
    "start_time": "2022-06-21T19:42:12.466Z"
   },
   {
    "duration": 14,
    "start_time": "2022-06-21T19:42:12.781Z"
   },
   {
    "duration": 491,
    "start_time": "2022-06-21T19:42:12.929Z"
   },
   {
    "duration": 40,
    "start_time": "2022-06-21T19:42:13.421Z"
   },
   {
    "duration": 11,
    "start_time": "2022-06-21T19:42:13.822Z"
   },
   {
    "duration": 8,
    "start_time": "2022-06-21T19:42:14.382Z"
   },
   {
    "duration": 10,
    "start_time": "2022-06-21T19:42:14.927Z"
   },
   {
    "duration": 10,
    "start_time": "2022-06-21T19:42:15.109Z"
   },
   {
    "duration": 9,
    "start_time": "2022-06-21T19:42:18.911Z"
   },
   {
    "duration": 25,
    "start_time": "2022-06-21T19:42:19.250Z"
   },
   {
    "duration": 97,
    "start_time": "2022-06-21T19:42:23.450Z"
   },
   {
    "duration": 25,
    "start_time": "2022-06-21T19:42:31.547Z"
   },
   {
    "duration": 94,
    "start_time": "2022-06-21T19:42:35.329Z"
   },
   {
    "duration": 75,
    "start_time": "2022-06-21T19:42:37.214Z"
   },
   {
    "duration": 13,
    "start_time": "2022-06-21T19:43:04.511Z"
   },
   {
    "duration": 94,
    "start_time": "2022-06-21T19:43:17.654Z"
   },
   {
    "duration": 80,
    "start_time": "2022-06-21T19:44:03.734Z"
   },
   {
    "duration": 3,
    "start_time": "2022-06-21T19:44:04.589Z"
   },
   {
    "duration": 3,
    "start_time": "2022-06-21T19:44:05.311Z"
   },
   {
    "duration": 309815,
    "start_time": "2022-06-21T19:44:06.791Z"
   },
   {
    "duration": 1146,
    "start_time": "2022-06-22T04:42:23.444Z"
   },
   {
    "duration": 1205,
    "start_time": "2022-06-22T04:42:36.040Z"
   },
   {
    "duration": 145,
    "start_time": "2022-06-22T04:42:37.248Z"
   },
   {
    "duration": 42,
    "start_time": "2022-06-22T04:42:37.395Z"
   },
   {
    "duration": 160,
    "start_time": "2022-06-22T04:42:37.439Z"
   },
   {
    "duration": 37,
    "start_time": "2022-06-22T04:42:37.601Z"
   },
   {
    "duration": 915,
    "start_time": "2022-06-22T04:42:37.743Z"
   },
   {
    "duration": 90,
    "start_time": "2022-06-22T04:42:38.660Z"
   },
   {
    "duration": 16,
    "start_time": "2022-06-22T04:42:38.756Z"
   },
   {
    "duration": 7,
    "start_time": "2022-06-22T04:42:38.774Z"
   },
   {
    "duration": 15,
    "start_time": "2022-06-22T04:42:39.077Z"
   },
   {
    "duration": 10,
    "start_time": "2022-06-22T04:42:39.248Z"
   },
   {
    "duration": 11,
    "start_time": "2022-06-22T04:42:40.027Z"
   },
   {
    "duration": 35,
    "start_time": "2022-06-22T04:42:49.514Z"
   },
   {
    "duration": 126,
    "start_time": "2022-06-22T04:42:52.993Z"
   },
   {
    "duration": 28,
    "start_time": "2022-06-22T04:43:05.540Z"
   },
   {
    "duration": 114,
    "start_time": "2022-06-22T04:43:05.570Z"
   },
   {
    "duration": 102,
    "start_time": "2022-06-22T04:43:06.752Z"
   },
   {
    "duration": 12,
    "start_time": "2022-06-22T04:43:11.948Z"
   },
   {
    "duration": 86,
    "start_time": "2022-06-22T04:43:12.910Z"
   },
   {
    "duration": 144,
    "start_time": "2022-06-22T04:44:28.447Z"
   },
   {
    "duration": 414,
    "start_time": "2022-06-22T04:44:39.136Z"
   },
   {
    "duration": 202,
    "start_time": "2022-06-22T04:44:52.475Z"
   },
   {
    "duration": 157,
    "start_time": "2022-06-22T04:44:58.350Z"
   },
   {
    "duration": 8,
    "start_time": "2022-06-22T04:45:12.307Z"
   },
   {
    "duration": 7,
    "start_time": "2022-06-22T04:45:27.691Z"
   },
   {
    "duration": 6,
    "start_time": "2022-06-22T04:45:35.889Z"
   },
   {
    "duration": 3,
    "start_time": "2022-06-22T04:47:00.942Z"
   },
   {
    "duration": 878,
    "start_time": "2022-06-22T04:47:01.066Z"
   },
   {
    "duration": 145,
    "start_time": "2022-06-22T04:47:01.947Z"
   },
   {
    "duration": 13,
    "start_time": "2022-06-22T04:47:02.094Z"
   },
   {
    "duration": 99,
    "start_time": "2022-06-22T04:47:02.127Z"
   },
   {
    "duration": 17,
    "start_time": "2022-06-22T04:47:02.234Z"
   },
   {
    "duration": 502,
    "start_time": "2022-06-22T04:47:02.252Z"
   },
   {
    "duration": 39,
    "start_time": "2022-06-22T04:47:02.756Z"
   },
   {
    "duration": 30,
    "start_time": "2022-06-22T04:47:02.797Z"
   },
   {
    "duration": 24,
    "start_time": "2022-06-22T04:47:02.830Z"
   },
   {
    "duration": 12,
    "start_time": "2022-06-22T04:47:02.857Z"
   },
   {
    "duration": 10,
    "start_time": "2022-06-22T04:47:02.871Z"
   },
   {
    "duration": 9,
    "start_time": "2022-06-22T04:47:02.883Z"
   },
   {
    "duration": 53,
    "start_time": "2022-06-22T04:47:02.894Z"
   },
   {
    "duration": 106,
    "start_time": "2022-06-22T04:47:03.819Z"
   },
   {
    "duration": 35,
    "start_time": "2022-06-22T04:47:04.558Z"
   },
   {
    "duration": 124,
    "start_time": "2022-06-22T04:47:05.015Z"
   },
   {
    "duration": 6,
    "start_time": "2022-06-22T04:47:05.485Z"
   },
   {
    "duration": 105,
    "start_time": "2022-06-22T04:47:05.669Z"
   },
   {
    "duration": 12,
    "start_time": "2022-06-22T04:47:08.306Z"
   },
   {
    "duration": 88,
    "start_time": "2022-06-22T04:47:09.367Z"
   },
   {
    "duration": 97,
    "start_time": "2022-06-22T04:47:20.550Z"
   },
   {
    "duration": 3,
    "start_time": "2022-06-22T04:47:20.755Z"
   },
   {
    "duration": 2,
    "start_time": "2022-06-22T04:47:21.006Z"
   },
   {
    "duration": 367746,
    "start_time": "2022-06-22T04:47:38.457Z"
   },
   {
    "duration": 4,
    "start_time": "2022-06-22T04:53:46.205Z"
   },
   {
    "duration": 770,
    "start_time": "2022-06-22T04:53:46.211Z"
   },
   {
    "duration": 7,
    "start_time": "2022-06-22T04:53:46.984Z"
   },
   {
    "duration": 112,
    "start_time": "2022-06-22T04:56:09.472Z"
   },
   {
    "duration": 4,
    "start_time": "2022-06-22T04:56:17.187Z"
   },
   {
    "duration": 830,
    "start_time": "2022-06-22T04:56:17.350Z"
   },
   {
    "duration": 154,
    "start_time": "2022-06-22T04:56:18.182Z"
   },
   {
    "duration": 18,
    "start_time": "2022-06-22T04:56:18.343Z"
   },
   {
    "duration": 105,
    "start_time": "2022-06-22T04:56:18.365Z"
   },
   {
    "duration": 14,
    "start_time": "2022-06-22T04:56:18.473Z"
   },
   {
    "duration": 526,
    "start_time": "2022-06-22T04:56:18.489Z"
   },
   {
    "duration": 43,
    "start_time": "2022-06-22T04:56:19.017Z"
   },
   {
    "duration": 10,
    "start_time": "2022-06-22T04:56:19.061Z"
   },
   {
    "duration": 9,
    "start_time": "2022-06-22T04:56:19.073Z"
   },
   {
    "duration": 17,
    "start_time": "2022-06-22T04:56:19.123Z"
   },
   {
    "duration": 9,
    "start_time": "2022-06-22T04:56:19.281Z"
   },
   {
    "duration": 9,
    "start_time": "2022-06-22T04:56:19.448Z"
   },
   {
    "duration": 29,
    "start_time": "2022-06-22T04:56:19.614Z"
   },
   {
    "duration": 109,
    "start_time": "2022-06-22T04:56:19.755Z"
   },
   {
    "duration": 27,
    "start_time": "2022-06-22T04:56:20.410Z"
   },
   {
    "duration": 122,
    "start_time": "2022-06-22T04:56:20.575Z"
   },
   {
    "duration": 7,
    "start_time": "2022-06-22T04:56:20.756Z"
   },
   {
    "duration": 95,
    "start_time": "2022-06-22T04:56:20.950Z"
   },
   {
    "duration": 13,
    "start_time": "2022-06-22T04:56:21.154Z"
   },
   {
    "duration": 95,
    "start_time": "2022-06-22T04:56:23.241Z"
   },
   {
    "duration": 85,
    "start_time": "2022-06-22T04:56:43.915Z"
   },
   {
    "duration": 3,
    "start_time": "2022-06-22T04:56:44.103Z"
   },
   {
    "duration": 3,
    "start_time": "2022-06-22T04:56:44.359Z"
   },
   {
    "duration": 1882,
    "start_time": "2022-06-22T04:56:47.265Z"
   },
   {
    "duration": 1071,
    "start_time": "2022-06-22T04:57:14.376Z"
   },
   {
    "duration": 891,
    "start_time": "2022-06-22T04:57:15.449Z"
   },
   {
    "duration": 151,
    "start_time": "2022-06-22T04:57:16.344Z"
   },
   {
    "duration": 38,
    "start_time": "2022-06-22T04:57:16.498Z"
   },
   {
    "duration": 108,
    "start_time": "2022-06-22T04:57:16.538Z"
   },
   {
    "duration": 17,
    "start_time": "2022-06-22T04:57:16.652Z"
   },
   {
    "duration": 743,
    "start_time": "2022-06-22T04:57:16.671Z"
   },
   {
    "duration": 56,
    "start_time": "2022-06-22T04:57:17.415Z"
   },
   {
    "duration": 14,
    "start_time": "2022-06-22T04:57:17.473Z"
   },
   {
    "duration": 13,
    "start_time": "2022-06-22T04:57:17.490Z"
   },
   {
    "duration": 28,
    "start_time": "2022-06-22T04:57:17.505Z"
   },
   {
    "duration": 29,
    "start_time": "2022-06-22T04:57:17.536Z"
   },
   {
    "duration": 17,
    "start_time": "2022-06-22T04:57:17.567Z"
   },
   {
    "duration": 23,
    "start_time": "2022-06-22T04:57:17.586Z"
   },
   {
    "duration": 131,
    "start_time": "2022-06-22T04:57:17.610Z"
   },
   {
    "duration": 27,
    "start_time": "2022-06-22T04:57:17.743Z"
   },
   {
    "duration": 150,
    "start_time": "2022-06-22T04:57:17.772Z"
   },
   {
    "duration": 16,
    "start_time": "2022-06-22T04:57:17.930Z"
   },
   {
    "duration": 114,
    "start_time": "2022-06-22T04:57:17.948Z"
   },
   {
    "duration": 12,
    "start_time": "2022-06-22T04:57:18.063Z"
   },
   {
    "duration": 122,
    "start_time": "2022-06-22T04:57:18.076Z"
   },
   {
    "duration": 153,
    "start_time": "2022-06-22T04:57:18.200Z"
   },
   {
    "duration": 3,
    "start_time": "2022-06-22T04:57:18.355Z"
   },
   {
    "duration": 18,
    "start_time": "2022-06-22T04:57:18.360Z"
   },
   {
    "duration": 1864,
    "start_time": "2022-06-22T04:57:18.380Z"
   },
   {
    "duration": 5,
    "start_time": "2022-06-22T04:57:20.245Z"
   },
   {
    "duration": 25,
    "start_time": "2022-06-22T04:57:20.252Z"
   },
   {
    "duration": 0,
    "start_time": "2022-06-22T04:57:20.279Z"
   },
   {
    "duration": 1138,
    "start_time": "2022-06-22T04:59:49.927Z"
   },
   {
    "duration": 971,
    "start_time": "2022-06-22T04:59:51.068Z"
   },
   {
    "duration": 148,
    "start_time": "2022-06-22T04:59:52.041Z"
   },
   {
    "duration": 38,
    "start_time": "2022-06-22T04:59:52.191Z"
   },
   {
    "duration": 105,
    "start_time": "2022-06-22T04:59:52.231Z"
   },
   {
    "duration": 15,
    "start_time": "2022-06-22T04:59:52.338Z"
   },
   {
    "duration": 783,
    "start_time": "2022-06-22T04:59:52.355Z"
   },
   {
    "duration": 54,
    "start_time": "2022-06-22T04:59:53.140Z"
   },
   {
    "duration": 31,
    "start_time": "2022-06-22T04:59:53.196Z"
   },
   {
    "duration": 11,
    "start_time": "2022-06-22T04:59:53.231Z"
   },
   {
    "duration": 4,
    "start_time": "2022-06-22T04:59:53.247Z"
   },
   {
    "duration": 16,
    "start_time": "2022-06-22T04:59:53.253Z"
   },
   {
    "duration": 10,
    "start_time": "2022-06-22T04:59:53.271Z"
   },
   {
    "duration": 50,
    "start_time": "2022-06-22T04:59:53.283Z"
   },
   {
    "duration": 138,
    "start_time": "2022-06-22T04:59:53.335Z"
   },
   {
    "duration": 28,
    "start_time": "2022-06-22T04:59:53.475Z"
   },
   {
    "duration": 108,
    "start_time": "2022-06-22T04:59:53.505Z"
   },
   {
    "duration": 13,
    "start_time": "2022-06-22T04:59:53.615Z"
   },
   {
    "duration": 98,
    "start_time": "2022-06-22T04:59:53.630Z"
   },
   {
    "duration": 12,
    "start_time": "2022-06-22T04:59:53.730Z"
   },
   {
    "duration": 94,
    "start_time": "2022-06-22T04:59:53.744Z"
   },
   {
    "duration": 110,
    "start_time": "2022-06-22T04:59:53.840Z"
   },
   {
    "duration": 4,
    "start_time": "2022-06-22T04:59:53.951Z"
   },
   {
    "duration": 5,
    "start_time": "2022-06-22T04:59:53.957Z"
   },
   {
    "duration": 430639,
    "start_time": "2022-06-22T04:59:53.963Z"
   },
   {
    "duration": 5,
    "start_time": "2022-06-22T05:07:04.603Z"
   },
   {
    "duration": 793,
    "start_time": "2022-06-22T05:07:04.609Z"
   },
   {
    "duration": 4,
    "start_time": "2022-06-22T05:07:05.405Z"
   },
   {
    "duration": 9,
    "start_time": "2022-06-22T05:08:48.028Z"
   },
   {
    "duration": 9,
    "start_time": "2022-06-22T05:08:51.823Z"
   },
   {
    "duration": 10,
    "start_time": "2022-06-22T05:08:58.142Z"
   },
   {
    "duration": 11,
    "start_time": "2022-06-22T05:09:04.561Z"
   },
   {
    "duration": 11,
    "start_time": "2022-06-22T05:09:20.438Z"
   },
   {
    "duration": 29,
    "start_time": "2022-06-22T05:09:56.845Z"
   },
   {
    "duration": 18,
    "start_time": "2022-06-22T05:10:07.757Z"
   },
   {
    "duration": 15,
    "start_time": "2022-06-22T05:10:11.971Z"
   },
   {
    "duration": 15,
    "start_time": "2022-06-22T05:10:26.076Z"
   },
   {
    "duration": 26,
    "start_time": "2022-06-22T05:10:33.956Z"
   },
   {
    "duration": 27,
    "start_time": "2022-06-22T05:12:46.684Z"
   },
   {
    "duration": 10,
    "start_time": "2022-06-22T05:13:09.293Z"
   },
   {
    "duration": 14,
    "start_time": "2022-06-22T05:13:26.943Z"
   },
   {
    "duration": 10,
    "start_time": "2022-06-22T05:13:40.500Z"
   },
   {
    "duration": 122,
    "start_time": "2022-06-22T05:14:00.004Z"
   },
   {
    "duration": 11,
    "start_time": "2022-06-22T05:14:08.508Z"
   },
   {
    "duration": 1067,
    "start_time": "2022-06-22T05:17:26.642Z"
   },
   {
    "duration": 865,
    "start_time": "2022-06-22T05:17:27.710Z"
   },
   {
    "duration": 169,
    "start_time": "2022-06-22T05:17:28.576Z"
   },
   {
    "duration": 20,
    "start_time": "2022-06-22T05:17:28.748Z"
   },
   {
    "duration": 120,
    "start_time": "2022-06-22T05:17:28.769Z"
   },
   {
    "duration": 16,
    "start_time": "2022-06-22T05:17:28.890Z"
   },
   {
    "duration": 739,
    "start_time": "2022-06-22T05:17:28.908Z"
   },
   {
    "duration": 49,
    "start_time": "2022-06-22T05:17:29.649Z"
   },
   {
    "duration": 33,
    "start_time": "2022-06-22T05:17:29.700Z"
   },
   {
    "duration": 11,
    "start_time": "2022-06-22T05:17:29.737Z"
   },
   {
    "duration": 30,
    "start_time": "2022-06-22T05:17:29.750Z"
   },
   {
    "duration": 20,
    "start_time": "2022-06-22T05:17:29.781Z"
   },
   {
    "duration": 19,
    "start_time": "2022-06-22T05:17:29.803Z"
   },
   {
    "duration": 196,
    "start_time": "2022-06-22T05:17:29.824Z"
   },
   {
    "duration": 0,
    "start_time": "2022-06-22T05:17:30.023Z"
   },
   {
    "duration": 0,
    "start_time": "2022-06-22T05:17:30.027Z"
   },
   {
    "duration": 0,
    "start_time": "2022-06-22T05:17:30.028Z"
   },
   {
    "duration": 0,
    "start_time": "2022-06-22T05:17:30.029Z"
   },
   {
    "duration": 0,
    "start_time": "2022-06-22T05:17:30.029Z"
   },
   {
    "duration": 0,
    "start_time": "2022-06-22T05:17:30.033Z"
   },
   {
    "duration": 0,
    "start_time": "2022-06-22T05:17:30.044Z"
   },
   {
    "duration": 0,
    "start_time": "2022-06-22T05:17:30.045Z"
   },
   {
    "duration": 0,
    "start_time": "2022-06-22T05:17:30.046Z"
   },
   {
    "duration": 0,
    "start_time": "2022-06-22T05:17:30.047Z"
   },
   {
    "duration": 0,
    "start_time": "2022-06-22T05:17:30.048Z"
   },
   {
    "duration": 0,
    "start_time": "2022-06-22T05:17:30.049Z"
   },
   {
    "duration": 0,
    "start_time": "2022-06-22T05:17:30.053Z"
   },
   {
    "duration": 11,
    "start_time": "2022-06-22T05:18:21.646Z"
   },
   {
    "duration": 1171,
    "start_time": "2022-06-22T05:18:42.431Z"
   },
   {
    "duration": 850,
    "start_time": "2022-06-22T05:18:43.604Z"
   },
   {
    "duration": 150,
    "start_time": "2022-06-22T05:18:44.456Z"
   },
   {
    "duration": 35,
    "start_time": "2022-06-22T05:18:44.609Z"
   },
   {
    "duration": 132,
    "start_time": "2022-06-22T05:18:44.646Z"
   },
   {
    "duration": 19,
    "start_time": "2022-06-22T05:18:44.780Z"
   },
   {
    "duration": 744,
    "start_time": "2022-06-22T05:18:44.800Z"
   },
   {
    "duration": 50,
    "start_time": "2022-06-22T05:18:45.546Z"
   },
   {
    "duration": 28,
    "start_time": "2022-06-22T05:18:45.598Z"
   },
   {
    "duration": 10,
    "start_time": "2022-06-22T05:18:45.629Z"
   },
   {
    "duration": 10,
    "start_time": "2022-06-22T05:18:45.642Z"
   },
   {
    "duration": 24,
    "start_time": "2022-06-22T05:18:45.653Z"
   },
   {
    "duration": 20,
    "start_time": "2022-06-22T05:18:45.679Z"
   },
   {
    "duration": 29,
    "start_time": "2022-06-22T05:18:45.701Z"
   },
   {
    "duration": 184,
    "start_time": "2022-06-22T05:18:45.732Z"
   },
   {
    "duration": 31,
    "start_time": "2022-06-22T05:18:45.918Z"
   },
   {
    "duration": 131,
    "start_time": "2022-06-22T05:18:45.951Z"
   },
   {
    "duration": 6,
    "start_time": "2022-06-22T05:18:46.084Z"
   },
   {
    "duration": 114,
    "start_time": "2022-06-22T05:18:46.092Z"
   },
   {
    "duration": 21,
    "start_time": "2022-06-22T05:18:46.207Z"
   },
   {
    "duration": 83,
    "start_time": "2022-06-22T05:18:46.229Z"
   },
   {
    "duration": 101,
    "start_time": "2022-06-22T05:18:46.314Z"
   },
   {
    "duration": 9,
    "start_time": "2022-06-22T05:18:46.417Z"
   },
   {
    "duration": 5,
    "start_time": "2022-06-22T05:18:46.428Z"
   },
   {
    "duration": 413066,
    "start_time": "2022-06-22T05:18:46.435Z"
   },
   {
    "duration": 4,
    "start_time": "2022-06-22T05:25:39.504Z"
   },
   {
    "duration": 759,
    "start_time": "2022-06-22T05:25:39.511Z"
   },
   {
    "duration": 5,
    "start_time": "2022-06-22T05:25:40.274Z"
   },
   {
    "duration": 7,
    "start_time": "2022-06-22T05:26:16.923Z"
   },
   {
    "duration": 91,
    "start_time": "2022-06-22T05:26:18.855Z"
   },
   {
    "duration": 3,
    "start_time": "2022-06-22T05:29:32.610Z"
   },
   {
    "duration": 763,
    "start_time": "2022-06-22T05:29:32.714Z"
   },
   {
    "duration": 160,
    "start_time": "2022-06-22T05:29:33.479Z"
   },
   {
    "duration": 22,
    "start_time": "2022-06-22T05:29:33.641Z"
   },
   {
    "duration": 86,
    "start_time": "2022-06-22T05:29:33.664Z"
   },
   {
    "duration": 13,
    "start_time": "2022-06-22T05:29:33.751Z"
   },
   {
    "duration": 561,
    "start_time": "2022-06-22T05:29:33.765Z"
   },
   {
    "duration": 35,
    "start_time": "2022-06-22T05:29:34.329Z"
   },
   {
    "duration": 11,
    "start_time": "2022-06-22T05:29:34.366Z"
   },
   {
    "duration": 8,
    "start_time": "2022-06-22T05:29:34.379Z"
   },
   {
    "duration": 7,
    "start_time": "2022-06-22T05:29:34.442Z"
   },
   {
    "duration": 10,
    "start_time": "2022-06-22T05:29:34.618Z"
   },
   {
    "duration": 21,
    "start_time": "2022-06-22T05:29:34.822Z"
   },
   {
    "duration": 13,
    "start_time": "2022-06-22T05:29:35.018Z"
   },
   {
    "duration": 137,
    "start_time": "2022-06-22T05:29:35.242Z"
   },
   {
    "duration": 130,
    "start_time": "2022-06-22T05:29:46.668Z"
   },
   {
    "duration": 15,
    "start_time": "2022-06-22T05:29:56.751Z"
   },
   {
    "duration": 94,
    "start_time": "2022-06-22T05:29:58.765Z"
   },
   {
    "duration": 72443,
    "start_time": "2022-06-22T05:31:43.816Z"
   },
   {
    "duration": 6,
    "start_time": "2022-06-22T05:35:26.313Z"
   },
   {
    "duration": 132,
    "start_time": "2022-06-22T05:35:51.472Z"
   },
   {
    "duration": 5,
    "start_time": "2022-06-22T05:35:55.475Z"
   },
   {
    "duration": 12,
    "start_time": "2022-06-22T05:36:02.825Z"
   },
   {
    "duration": 7,
    "start_time": "2022-06-22T05:37:39.378Z"
   },
   {
    "duration": 15,
    "start_time": "2022-06-22T05:38:33.882Z"
   },
   {
    "duration": 9,
    "start_time": "2022-06-22T05:38:47.305Z"
   },
   {
    "duration": 7,
    "start_time": "2022-06-22T05:38:47.834Z"
   },
   {
    "duration": 10,
    "start_time": "2022-06-22T05:39:05.399Z"
   },
   {
    "duration": 7,
    "start_time": "2022-06-22T05:39:18.379Z"
   },
   {
    "duration": 6,
    "start_time": "2022-06-22T05:39:24.441Z"
   },
   {
    "duration": 160,
    "start_time": "2022-06-22T05:39:33.438Z"
   },
   {
    "duration": 497,
    "start_time": "2022-06-22T05:40:11.825Z"
   },
   {
    "duration": 429,
    "start_time": "2022-06-22T05:41:03.467Z"
   },
   {
    "duration": 4,
    "start_time": "2022-06-22T05:42:23.800Z"
   },
   {
    "duration": 9,
    "start_time": "2022-06-22T05:42:47.310Z"
   },
   {
    "duration": 81,
    "start_time": "2022-06-22T05:46:24.245Z"
   },
   {
    "duration": 7,
    "start_time": "2022-06-22T05:46:26.394Z"
   },
   {
    "duration": 29,
    "start_time": "2022-06-22T05:47:04.908Z"
   },
   {
    "duration": 33,
    "start_time": "2022-06-22T05:47:18.214Z"
   },
   {
    "duration": 4,
    "start_time": "2022-06-22T05:49:20.424Z"
   },
   {
    "duration": 10,
    "start_time": "2022-06-22T05:49:33.640Z"
   },
   {
    "duration": 12,
    "start_time": "2022-06-22T05:49:36.668Z"
   },
   {
    "duration": 12,
    "start_time": "2022-06-22T05:49:43.577Z"
   },
   {
    "duration": 7,
    "start_time": "2022-06-22T05:50:02.581Z"
   },
   {
    "duration": 6,
    "start_time": "2022-06-22T05:50:38.443Z"
   },
   {
    "duration": 432,
    "start_time": "2022-06-22T05:52:22.251Z"
   },
   {
    "duration": 427,
    "start_time": "2022-06-22T05:52:34.221Z"
   },
   {
    "duration": 451,
    "start_time": "2022-06-22T05:52:52.199Z"
   },
   {
    "duration": 4,
    "start_time": "2022-06-22T05:53:41.605Z"
   },
   {
    "duration": 822,
    "start_time": "2022-06-22T05:53:41.749Z"
   },
   {
    "duration": 133,
    "start_time": "2022-06-22T05:53:42.573Z"
   },
   {
    "duration": 30,
    "start_time": "2022-06-22T05:53:42.707Z"
   },
   {
    "duration": 96,
    "start_time": "2022-06-22T05:53:42.739Z"
   },
   {
    "duration": 13,
    "start_time": "2022-06-22T05:53:42.837Z"
   },
   {
    "duration": 489,
    "start_time": "2022-06-22T05:53:42.852Z"
   },
   {
    "duration": 38,
    "start_time": "2022-06-22T05:53:43.343Z"
   },
   {
    "duration": 11,
    "start_time": "2022-06-22T05:53:43.382Z"
   },
   {
    "duration": 7,
    "start_time": "2022-06-22T05:53:43.395Z"
   },
   {
    "duration": 8,
    "start_time": "2022-06-22T05:53:43.430Z"
   },
   {
    "duration": 7,
    "start_time": "2022-06-22T05:53:43.603Z"
   },
   {
    "duration": 21,
    "start_time": "2022-06-22T05:53:43.796Z"
   },
   {
    "duration": 8,
    "start_time": "2022-06-22T05:53:44.002Z"
   },
   {
    "duration": 161,
    "start_time": "2022-06-22T05:53:44.183Z"
   },
   {
    "duration": 27,
    "start_time": "2022-06-22T05:53:44.517Z"
   },
   {
    "duration": 92,
    "start_time": "2022-06-22T05:53:45.325Z"
   },
   {
    "duration": 6,
    "start_time": "2022-06-22T05:53:46.417Z"
   },
   {
    "duration": 89,
    "start_time": "2022-06-22T05:53:47.299Z"
   },
   {
    "duration": 11,
    "start_time": "2022-06-22T05:53:48.251Z"
   },
   {
    "duration": 72,
    "start_time": "2022-06-22T05:53:49.323Z"
   },
   {
    "duration": 16,
    "start_time": "2022-06-22T05:54:27.426Z"
   },
   {
    "duration": 1044,
    "start_time": "2022-06-22T05:54:55.056Z"
   },
   {
    "duration": 808,
    "start_time": "2022-06-22T05:54:56.102Z"
   },
   {
    "duration": 141,
    "start_time": "2022-06-22T05:54:56.912Z"
   },
   {
    "duration": 18,
    "start_time": "2022-06-22T05:54:57.055Z"
   },
   {
    "duration": 104,
    "start_time": "2022-06-22T05:54:57.075Z"
   },
   {
    "duration": 16,
    "start_time": "2022-06-22T05:54:57.181Z"
   },
   {
    "duration": 715,
    "start_time": "2022-06-22T05:54:57.198Z"
   },
   {
    "duration": 58,
    "start_time": "2022-06-22T05:54:57.915Z"
   },
   {
    "duration": 15,
    "start_time": "2022-06-22T05:54:57.974Z"
   },
   {
    "duration": 21,
    "start_time": "2022-06-22T05:54:57.991Z"
   },
   {
    "duration": 16,
    "start_time": "2022-06-22T05:54:58.014Z"
   },
   {
    "duration": 28,
    "start_time": "2022-06-22T05:54:58.032Z"
   },
   {
    "duration": 27,
    "start_time": "2022-06-22T05:54:58.062Z"
   },
   {
    "duration": 9,
    "start_time": "2022-06-22T05:54:58.093Z"
   },
   {
    "duration": 212,
    "start_time": "2022-06-22T05:54:58.104Z"
   },
   {
    "duration": 31,
    "start_time": "2022-06-22T05:54:58.318Z"
   },
   {
    "duration": 122,
    "start_time": "2022-06-22T05:54:58.351Z"
   },
   {
    "duration": 6,
    "start_time": "2022-06-22T05:54:58.475Z"
   },
   {
    "duration": 98,
    "start_time": "2022-06-22T05:54:58.482Z"
   },
   {
    "duration": 21,
    "start_time": "2022-06-22T05:54:58.582Z"
   },
   {
    "duration": 76,
    "start_time": "2022-06-22T05:54:58.605Z"
   },
   {
    "duration": 101,
    "start_time": "2022-06-22T05:54:58.683Z"
   },
   {
    "duration": 3,
    "start_time": "2022-06-22T05:54:58.786Z"
   },
   {
    "duration": 20,
    "start_time": "2022-06-22T05:54:58.790Z"
   },
   {
    "duration": 338745,
    "start_time": "2022-06-22T05:54:58.811Z"
   },
   {
    "duration": 5,
    "start_time": "2022-06-22T06:00:37.558Z"
   },
   {
    "duration": 643,
    "start_time": "2022-06-22T06:00:37.564Z"
   },
   {
    "duration": 5,
    "start_time": "2022-06-22T06:00:38.209Z"
   },
   {
    "duration": 8,
    "start_time": "2022-06-22T06:00:49.779Z"
   },
   {
    "duration": 11,
    "start_time": "2022-06-22T06:01:14.267Z"
   },
   {
    "duration": 3,
    "start_time": "2022-06-22T06:01:23.956Z"
   },
   {
    "duration": 815,
    "start_time": "2022-06-22T06:01:24.121Z"
   },
   {
    "duration": 132,
    "start_time": "2022-06-22T06:01:24.938Z"
   },
   {
    "duration": 14,
    "start_time": "2022-06-22T06:01:25.071Z"
   },
   {
    "duration": 111,
    "start_time": "2022-06-22T06:01:25.087Z"
   },
   {
    "duration": 14,
    "start_time": "2022-06-22T06:01:25.200Z"
   },
   {
    "duration": 486,
    "start_time": "2022-06-22T06:01:25.226Z"
   },
   {
    "duration": 55,
    "start_time": "2022-06-22T06:01:25.714Z"
   },
   {
    "duration": 11,
    "start_time": "2022-06-22T06:01:25.771Z"
   },
   {
    "duration": 20,
    "start_time": "2022-06-22T06:01:25.784Z"
   },
   {
    "duration": 8,
    "start_time": "2022-06-22T06:01:43.458Z"
   },
   {
    "duration": 9,
    "start_time": "2022-06-22T06:01:47.649Z"
   },
   {
    "duration": 8,
    "start_time": "2022-06-22T06:01:49.091Z"
   },
   {
    "duration": 19,
    "start_time": "2022-06-22T06:01:54.232Z"
   },
   {
    "duration": 10,
    "start_time": "2022-06-22T06:01:58.488Z"
   },
   {
    "duration": 156,
    "start_time": "2022-06-22T06:02:00.866Z"
   },
   {
    "duration": 9,
    "start_time": "2022-06-22T06:02:07.877Z"
   },
   {
    "duration": 25,
    "start_time": "2022-06-22T06:02:29.719Z"
   },
   {
    "duration": 4,
    "start_time": "2022-06-22T06:04:18.488Z"
   },
   {
    "duration": 776,
    "start_time": "2022-06-22T06:04:18.806Z"
   },
   {
    "duration": 132,
    "start_time": "2022-06-22T06:04:19.584Z"
   },
   {
    "duration": 19,
    "start_time": "2022-06-22T06:04:19.718Z"
   },
   {
    "duration": 84,
    "start_time": "2022-06-22T06:04:19.846Z"
   },
   {
    "duration": 15,
    "start_time": "2022-06-22T06:04:20.126Z"
   },
   {
    "duration": 556,
    "start_time": "2022-06-22T06:04:20.779Z"
   },
   {
    "duration": 37,
    "start_time": "2022-06-22T06:04:21.338Z"
   },
   {
    "duration": 12,
    "start_time": "2022-06-22T06:04:21.376Z"
   },
   {
    "duration": 10,
    "start_time": "2022-06-22T06:04:21.389Z"
   },
   {
    "duration": 48,
    "start_time": "2022-06-22T06:04:21.401Z"
   },
   {
    "duration": 11,
    "start_time": "2022-06-22T06:04:21.542Z"
   },
   {
    "duration": 18,
    "start_time": "2022-06-22T06:04:21.789Z"
   },
   {
    "duration": 2,
    "start_time": "2022-06-22T06:04:29.258Z"
   },
   {
    "duration": 780,
    "start_time": "2022-06-22T06:04:29.860Z"
   },
   {
    "duration": 131,
    "start_time": "2022-06-22T06:04:30.642Z"
   },
   {
    "duration": 15,
    "start_time": "2022-06-22T06:04:31.287Z"
   },
   {
    "duration": 92,
    "start_time": "2022-06-22T06:04:32.819Z"
   },
   {
    "duration": 13,
    "start_time": "2022-06-22T06:04:35.646Z"
   },
   {
    "duration": 488,
    "start_time": "2022-06-22T06:04:36.925Z"
   },
   {
    "duration": 35,
    "start_time": "2022-06-22T06:04:42.048Z"
   },
   {
    "duration": 9,
    "start_time": "2022-06-22T06:04:58.416Z"
   },
   {
    "duration": 38,
    "start_time": "2022-06-22T06:05:11.245Z"
   },
   {
    "duration": 1047,
    "start_time": "2022-06-22T06:07:09.763Z"
   },
   {
    "duration": 867,
    "start_time": "2022-06-22T06:07:10.812Z"
   },
   {
    "duration": 152,
    "start_time": "2022-06-22T06:07:11.681Z"
   },
   {
    "duration": 20,
    "start_time": "2022-06-22T06:07:11.835Z"
   },
   {
    "duration": 113,
    "start_time": "2022-06-22T06:07:11.856Z"
   },
   {
    "duration": 16,
    "start_time": "2022-06-22T06:07:11.970Z"
   },
   {
    "duration": 718,
    "start_time": "2022-06-22T06:07:11.988Z"
   },
   {
    "duration": 58,
    "start_time": "2022-06-22T06:07:12.708Z"
   },
   {
    "duration": 3,
    "start_time": "2022-06-22T06:07:12.768Z"
   },
   {
    "duration": 12,
    "start_time": "2022-06-22T06:07:12.774Z"
   },
   {
    "duration": 10,
    "start_time": "2022-06-22T06:07:12.788Z"
   },
   {
    "duration": 31,
    "start_time": "2022-06-22T06:07:12.799Z"
   },
   {
    "duration": 43,
    "start_time": "2022-06-22T06:07:12.831Z"
   },
   {
    "duration": 0,
    "start_time": "2022-06-22T06:07:12.875Z"
   },
   {
    "duration": 0,
    "start_time": "2022-06-22T06:07:12.876Z"
   },
   {
    "duration": 0,
    "start_time": "2022-06-22T06:07:12.877Z"
   },
   {
    "duration": 0,
    "start_time": "2022-06-22T06:07:12.878Z"
   },
   {
    "duration": 0,
    "start_time": "2022-06-22T06:07:12.879Z"
   },
   {
    "duration": 0,
    "start_time": "2022-06-22T06:07:12.880Z"
   },
   {
    "duration": 0,
    "start_time": "2022-06-22T06:07:12.882Z"
   },
   {
    "duration": 0,
    "start_time": "2022-06-22T06:07:12.883Z"
   },
   {
    "duration": 0,
    "start_time": "2022-06-22T06:07:12.884Z"
   },
   {
    "duration": 0,
    "start_time": "2022-06-22T06:07:12.885Z"
   },
   {
    "duration": 0,
    "start_time": "2022-06-22T06:07:12.886Z"
   },
   {
    "duration": 0,
    "start_time": "2022-06-22T06:07:12.887Z"
   },
   {
    "duration": 0,
    "start_time": "2022-06-22T06:07:12.889Z"
   },
   {
    "duration": 0,
    "start_time": "2022-06-22T06:07:12.890Z"
   },
   {
    "duration": 0,
    "start_time": "2022-06-22T06:07:12.891Z"
   },
   {
    "duration": 0,
    "start_time": "2022-06-22T06:07:12.892Z"
   },
   {
    "duration": 1108,
    "start_time": "2022-06-22T06:07:42.414Z"
   },
   {
    "duration": 865,
    "start_time": "2022-06-22T06:07:43.524Z"
   },
   {
    "duration": 143,
    "start_time": "2022-06-22T06:07:44.391Z"
   },
   {
    "duration": 25,
    "start_time": "2022-06-22T06:07:44.537Z"
   },
   {
    "duration": 117,
    "start_time": "2022-06-22T06:07:44.564Z"
   },
   {
    "duration": 19,
    "start_time": "2022-06-22T06:07:44.683Z"
   },
   {
    "duration": 715,
    "start_time": "2022-06-22T06:07:44.704Z"
   },
   {
    "duration": 53,
    "start_time": "2022-06-22T06:07:45.427Z"
   },
   {
    "duration": 3,
    "start_time": "2022-06-22T06:07:45.481Z"
   },
   {
    "duration": 13,
    "start_time": "2022-06-22T06:07:45.485Z"
   },
   {
    "duration": 28,
    "start_time": "2022-06-22T06:07:45.500Z"
   },
   {
    "duration": 10,
    "start_time": "2022-06-22T06:07:45.530Z"
   },
   {
    "duration": 22,
    "start_time": "2022-06-22T06:07:45.542Z"
   },
   {
    "duration": 11,
    "start_time": "2022-06-22T06:07:45.567Z"
   },
   {
    "duration": 228,
    "start_time": "2022-06-22T06:07:45.580Z"
   },
   {
    "duration": 9,
    "start_time": "2022-06-22T06:07:45.810Z"
   },
   {
    "duration": 29,
    "start_time": "2022-06-22T06:07:45.827Z"
   },
   {
    "duration": 128,
    "start_time": "2022-06-22T06:07:45.859Z"
   },
   {
    "duration": 6,
    "start_time": "2022-06-22T06:07:45.988Z"
   },
   {
    "duration": 93,
    "start_time": "2022-06-22T06:07:45.996Z"
   },
   {
    "duration": 10,
    "start_time": "2022-06-22T06:07:46.091Z"
   },
   {
    "duration": 59,
    "start_time": "2022-06-22T06:07:46.103Z"
   },
   {
    "duration": 99,
    "start_time": "2022-06-22T06:07:46.164Z"
   },
   {
    "duration": 3,
    "start_time": "2022-06-22T06:07:46.266Z"
   },
   {
    "duration": 11,
    "start_time": "2022-06-22T06:07:46.271Z"
   },
   {
    "duration": 350732,
    "start_time": "2022-06-22T06:07:46.284Z"
   },
   {
    "duration": 4,
    "start_time": "2022-06-22T06:13:37.017Z"
   },
   {
    "duration": 648,
    "start_time": "2022-06-22T06:13:37.023Z"
   },
   {
    "duration": 6,
    "start_time": "2022-06-22T06:13:37.673Z"
   },
   {
    "duration": 115,
    "start_time": "2022-06-22T06:15:35.890Z"
   },
   {
    "duration": 1202,
    "start_time": "2022-06-22T06:15:58.130Z"
   },
   {
    "duration": 948,
    "start_time": "2022-06-22T06:15:59.337Z"
   },
   {
    "duration": 158,
    "start_time": "2022-06-22T06:16:00.287Z"
   },
   {
    "duration": 18,
    "start_time": "2022-06-22T06:16:00.448Z"
   },
   {
    "duration": 126,
    "start_time": "2022-06-22T06:16:00.468Z"
   },
   {
    "duration": 17,
    "start_time": "2022-06-22T06:16:00.597Z"
   },
   {
    "duration": 777,
    "start_time": "2022-06-22T06:16:00.629Z"
   },
   {
    "duration": 74,
    "start_time": "2022-06-22T06:16:01.407Z"
   },
   {
    "duration": 17,
    "start_time": "2022-06-22T06:16:01.483Z"
   },
   {
    "duration": 25,
    "start_time": "2022-06-22T06:16:01.503Z"
   },
   {
    "duration": 31,
    "start_time": "2022-06-22T06:16:01.530Z"
   },
   {
    "duration": 64,
    "start_time": "2022-06-22T06:16:01.564Z"
   },
   {
    "duration": 51,
    "start_time": "2022-06-22T06:16:01.631Z"
   },
   {
    "duration": 19,
    "start_time": "2022-06-22T06:16:01.684Z"
   },
   {
    "duration": 194,
    "start_time": "2022-06-22T06:16:01.705Z"
   },
   {
    "duration": 9,
    "start_time": "2022-06-22T06:16:01.901Z"
   },
   {
    "duration": 47,
    "start_time": "2022-06-22T06:16:01.911Z"
   },
   {
    "duration": 138,
    "start_time": "2022-06-22T06:16:01.960Z"
   },
   {
    "duration": 6,
    "start_time": "2022-06-22T06:16:02.100Z"
   },
   {
    "duration": 102,
    "start_time": "2022-06-22T06:16:02.108Z"
   },
   {
    "duration": 20,
    "start_time": "2022-06-22T06:16:02.212Z"
   },
   {
    "duration": 79,
    "start_time": "2022-06-22T06:16:02.234Z"
   },
   {
    "duration": 105,
    "start_time": "2022-06-22T06:16:02.315Z"
   },
   {
    "duration": 3,
    "start_time": "2022-06-22T06:16:02.426Z"
   },
   {
    "duration": 7,
    "start_time": "2022-06-22T06:16:02.431Z"
   },
   {
    "duration": 353902,
    "start_time": "2022-06-22T06:16:02.441Z"
   },
   {
    "duration": 5,
    "start_time": "2022-06-22T06:21:56.345Z"
   },
   {
    "duration": 638,
    "start_time": "2022-06-22T06:21:56.352Z"
   },
   {
    "duration": 4,
    "start_time": "2022-06-22T06:21:56.992Z"
   },
   {
    "duration": 13,
    "start_time": "2022-06-22T06:23:18.506Z"
   },
   {
    "duration": 3,
    "start_time": "2022-06-22T06:23:30.687Z"
   },
   {
    "duration": 852,
    "start_time": "2022-06-22T06:23:30.692Z"
   },
   {
    "duration": 159,
    "start_time": "2022-06-22T06:23:31.546Z"
   },
   {
    "duration": 11,
    "start_time": "2022-06-22T06:23:31.707Z"
   },
   {
    "duration": 88,
    "start_time": "2022-06-22T06:23:31.720Z"
   },
   {
    "duration": 30,
    "start_time": "2022-06-22T06:23:31.810Z"
   },
   {
    "duration": 536,
    "start_time": "2022-06-22T06:23:33.873Z"
   },
   {
    "duration": 38,
    "start_time": "2022-06-22T06:23:42.014Z"
   },
   {
    "duration": 7,
    "start_time": "2022-06-22T06:23:44.776Z"
   },
   {
    "duration": 6,
    "start_time": "2022-06-22T06:24:15.550Z"
   },
   {
    "duration": 8,
    "start_time": "2022-06-22T06:24:26.555Z"
   },
   {
    "duration": 7,
    "start_time": "2022-06-22T06:24:56.496Z"
   },
   {
    "duration": 1030,
    "start_time": "2022-06-22T06:26:17.286Z"
   },
   {
    "duration": 846,
    "start_time": "2022-06-22T06:26:18.317Z"
   },
   {
    "duration": 138,
    "start_time": "2022-06-22T06:26:19.164Z"
   },
   {
    "duration": 24,
    "start_time": "2022-06-22T06:26:19.304Z"
   },
   {
    "duration": 104,
    "start_time": "2022-06-22T06:26:19.330Z"
   },
   {
    "duration": 15,
    "start_time": "2022-06-22T06:26:19.436Z"
   },
   {
    "duration": 685,
    "start_time": "2022-06-22T06:26:19.453Z"
   },
   {
    "duration": 51,
    "start_time": "2022-06-22T06:26:20.140Z"
   },
   {
    "duration": 13,
    "start_time": "2022-06-22T06:26:20.193Z"
   },
   {
    "duration": 29,
    "start_time": "2022-06-22T06:26:20.208Z"
   },
   {
    "duration": 10,
    "start_time": "2022-06-22T06:26:20.238Z"
   },
   {
    "duration": 7,
    "start_time": "2022-06-22T06:26:20.250Z"
   },
   {
    "duration": 20,
    "start_time": "2022-06-22T06:26:20.259Z"
   },
   {
    "duration": 8,
    "start_time": "2022-06-22T06:26:20.281Z"
   },
   {
    "duration": 188,
    "start_time": "2022-06-22T06:26:20.291Z"
   },
   {
    "duration": 8,
    "start_time": "2022-06-22T06:26:20.481Z"
   },
   {
    "duration": 37,
    "start_time": "2022-06-22T06:26:20.491Z"
   },
   {
    "duration": 122,
    "start_time": "2022-06-22T06:26:20.530Z"
   },
   {
    "duration": 5,
    "start_time": "2022-06-22T06:26:20.654Z"
   },
   {
    "duration": 91,
    "start_time": "2022-06-22T06:26:20.660Z"
   },
   {
    "duration": 21,
    "start_time": "2022-06-22T06:26:20.753Z"
   },
   {
    "duration": 66,
    "start_time": "2022-06-22T06:26:20.775Z"
   },
   {
    "duration": 102,
    "start_time": "2022-06-22T06:26:20.842Z"
   },
   {
    "duration": 3,
    "start_time": "2022-06-22T06:26:20.946Z"
   },
   {
    "duration": 7,
    "start_time": "2022-06-22T06:26:20.951Z"
   },
   {
    "duration": 328008,
    "start_time": "2022-06-22T06:26:20.959Z"
   },
   {
    "duration": 4,
    "start_time": "2022-06-22T06:31:48.969Z"
   },
   {
    "duration": 876,
    "start_time": "2022-06-22T06:31:48.976Z"
   },
   {
    "duration": 5,
    "start_time": "2022-06-22T06:31:49.857Z"
   },
   {
    "duration": 1091,
    "start_time": "2022-06-22T13:57:44.813Z"
   },
   {
    "duration": 2838,
    "start_time": "2022-06-22T13:57:45.905Z"
   },
   {
    "duration": 120,
    "start_time": "2022-06-22T13:57:48.745Z"
   },
   {
    "duration": 17,
    "start_time": "2022-06-22T13:57:48.867Z"
   },
   {
    "duration": 115,
    "start_time": "2022-06-22T13:57:48.886Z"
   },
   {
    "duration": 14,
    "start_time": "2022-06-22T13:57:49.003Z"
   },
   {
    "duration": 849,
    "start_time": "2022-06-22T13:57:54.149Z"
   },
   {
    "duration": 80,
    "start_time": "2022-06-22T13:57:55.000Z"
   },
   {
    "duration": 16,
    "start_time": "2022-06-22T13:57:55.081Z"
   },
   {
    "duration": 31,
    "start_time": "2022-06-22T13:57:55.098Z"
   },
   {
    "duration": 8,
    "start_time": "2022-06-22T13:57:55.145Z"
   },
   {
    "duration": 8,
    "start_time": "2022-06-22T13:57:55.155Z"
   },
   {
    "duration": 17,
    "start_time": "2022-06-22T13:57:55.164Z"
   },
   {
    "duration": 9,
    "start_time": "2022-06-22T13:57:55.182Z"
   },
   {
    "duration": 210,
    "start_time": "2022-06-22T13:57:55.193Z"
   },
   {
    "duration": 8,
    "start_time": "2022-06-22T13:57:55.404Z"
   },
   {
    "duration": 38,
    "start_time": "2022-06-22T13:57:55.413Z"
   },
   {
    "duration": 117,
    "start_time": "2022-06-22T13:57:55.453Z"
   },
   {
    "duration": 4,
    "start_time": "2022-06-22T13:57:55.572Z"
   },
   {
    "duration": 85,
    "start_time": "2022-06-22T13:57:55.579Z"
   },
   {
    "duration": 10,
    "start_time": "2022-06-22T13:57:55.665Z"
   },
   {
    "duration": 82,
    "start_time": "2022-06-22T13:57:55.676Z"
   },
   {
    "duration": 111,
    "start_time": "2022-06-22T14:02:28.867Z"
   },
   {
    "duration": 126,
    "start_time": "2022-06-22T14:02:41.513Z"
   },
   {
    "duration": 94,
    "start_time": "2022-06-22T14:05:58.114Z"
   },
   {
    "duration": 95,
    "start_time": "2022-06-22T14:09:47.636Z"
   },
   {
    "duration": 22,
    "start_time": "2022-06-22T14:11:43.883Z"
   },
   {
    "duration": 3,
    "start_time": "2022-06-22T14:12:53.547Z"
   },
   {
    "duration": 15,
    "start_time": "2022-06-22T14:13:11.086Z"
   },
   {
    "duration": 6285,
    "start_time": "2022-06-22T14:15:49.446Z"
   },
   {
    "duration": 2,
    "start_time": "2022-06-22T14:19:48.241Z"
   },
   {
    "duration": 11,
    "start_time": "2022-06-22T14:20:12.213Z"
   },
   {
    "duration": 3,
    "start_time": "2022-06-22T14:20:44.178Z"
   },
   {
    "duration": 3,
    "start_time": "2022-06-22T14:20:45.988Z"
   },
   {
    "duration": 65,
    "start_time": "2022-06-22T14:20:51.570Z"
   },
   {
    "duration": 3,
    "start_time": "2022-06-22T14:20:59.482Z"
   },
   {
    "duration": 82,
    "start_time": "2022-06-22T14:20:59.513Z"
   },
   {
    "duration": 117,
    "start_time": "2022-06-22T14:21:17.912Z"
   },
   {
    "duration": 4,
    "start_time": "2022-06-22T14:21:18.073Z"
   },
   {
    "duration": 69,
    "start_time": "2022-06-22T14:21:18.253Z"
   },
   {
    "duration": 73,
    "start_time": "2022-06-22T14:22:40.191Z"
   },
   {
    "duration": 16,
    "start_time": "2022-06-22T14:23:04.590Z"
   },
   {
    "duration": 2132,
    "start_time": "2022-06-22T14:24:16.619Z"
   },
   {
    "duration": 109,
    "start_time": "2022-06-22T14:24:38.572Z"
   },
   {
    "duration": 183,
    "start_time": "2022-06-22T14:29:37.122Z"
   },
   {
    "duration": 2,
    "start_time": "2022-06-22T14:29:47.449Z"
   },
   {
    "duration": 8,
    "start_time": "2022-06-22T14:29:47.454Z"
   },
   {
    "duration": 321419,
    "start_time": "2022-06-22T14:29:47.464Z"
   },
   {
    "duration": 5,
    "start_time": "2022-06-22T14:35:08.885Z"
   },
   {
    "duration": 747,
    "start_time": "2022-06-22T14:35:08.893Z"
   },
   {
    "duration": 5,
    "start_time": "2022-06-22T14:35:09.642Z"
   },
   {
    "duration": 4,
    "start_time": "2022-06-22T14:37:24.786Z"
   },
   {
    "duration": 72,
    "start_time": "2022-06-22T14:37:24.949Z"
   },
   {
    "duration": 11,
    "start_time": "2022-06-22T14:37:25.159Z"
   },
   {
    "duration": 69,
    "start_time": "2022-06-22T14:39:12.759Z"
   },
   {
    "duration": 22,
    "start_time": "2022-06-22T14:39:32.622Z"
   },
   {
    "duration": 24,
    "start_time": "2022-06-22T14:40:51.165Z"
   },
   {
    "duration": 82,
    "start_time": "2022-06-22T14:41:00.666Z"
   },
   {
    "duration": 25,
    "start_time": "2022-06-22T14:41:17.429Z"
   },
   {
    "duration": 1227,
    "start_time": "2022-06-22T18:51:50.071Z"
   },
   {
    "duration": 2706,
    "start_time": "2022-06-22T18:51:53.200Z"
   },
   {
    "duration": 107,
    "start_time": "2022-06-22T18:51:55.908Z"
   },
   {
    "duration": 21,
    "start_time": "2022-06-22T18:51:56.016Z"
   },
   {
    "duration": 98,
    "start_time": "2022-06-22T18:51:56.039Z"
   },
   {
    "duration": 15,
    "start_time": "2022-06-22T18:51:56.138Z"
   },
   {
    "duration": 875,
    "start_time": "2022-06-22T18:51:56.154Z"
   },
   {
    "duration": 65,
    "start_time": "2022-06-22T18:51:57.031Z"
   },
   {
    "duration": 35,
    "start_time": "2022-06-22T18:51:57.098Z"
   },
   {
    "duration": 11,
    "start_time": "2022-06-22T18:51:57.134Z"
   },
   {
    "duration": 9,
    "start_time": "2022-06-22T18:51:57.148Z"
   },
   {
    "duration": 7,
    "start_time": "2022-06-22T18:51:57.159Z"
   },
   {
    "duration": 15,
    "start_time": "2022-06-22T18:51:57.168Z"
   },
   {
    "duration": 50,
    "start_time": "2022-06-22T18:51:57.184Z"
   },
   {
    "duration": 190,
    "start_time": "2022-06-22T18:51:57.236Z"
   },
   {
    "duration": 7,
    "start_time": "2022-06-22T18:51:57.428Z"
   },
   {
    "duration": 41,
    "start_time": "2022-06-22T18:51:57.436Z"
   },
   {
    "duration": 102,
    "start_time": "2022-06-22T18:51:57.479Z"
   },
   {
    "duration": 5,
    "start_time": "2022-06-22T18:51:57.582Z"
   },
   {
    "duration": 79,
    "start_time": "2022-06-22T18:51:57.589Z"
   },
   {
    "duration": 11,
    "start_time": "2022-06-22T18:51:57.670Z"
   },
   {
    "duration": 76,
    "start_time": "2022-06-22T18:51:57.682Z"
   },
   {
    "duration": 167,
    "start_time": "2022-06-22T18:53:15.620Z"
   },
   {
    "duration": 3,
    "start_time": "2022-06-22T18:53:20.552Z"
   },
   {
    "duration": 105,
    "start_time": "2022-06-22T18:53:31.126Z"
   },
   {
    "duration": 524377,
    "start_time": "2022-06-22T18:53:57.599Z"
   },
   {
    "duration": 1,
    "start_time": "2022-06-22T19:02:41.977Z"
   },
   {
    "duration": 644884,
    "start_time": "2022-06-22T19:03:26.250Z"
   },
   {
    "duration": 215,
    "start_time": "2022-06-22T19:15:13.971Z"
   },
   {
    "duration": 3,
    "start_time": "2022-06-22T19:15:19.431Z"
   },
   {
    "duration": 3,
    "start_time": "2022-06-22T19:15:22.091Z"
   },
   {
    "duration": 1372,
    "start_time": "2022-06-23T06:26:28.168Z"
   },
   {
    "duration": 1132,
    "start_time": "2022-06-23T06:26:29.542Z"
   },
   {
    "duration": 130,
    "start_time": "2022-06-23T06:26:30.676Z"
   },
   {
    "duration": 28,
    "start_time": "2022-06-23T06:26:30.808Z"
   },
   {
    "duration": 135,
    "start_time": "2022-06-23T06:26:30.853Z"
   },
   {
    "duration": 15,
    "start_time": "2022-06-23T06:26:30.990Z"
   },
   {
    "duration": 931,
    "start_time": "2022-06-23T06:26:31.007Z"
   },
   {
    "duration": 66,
    "start_time": "2022-06-23T06:26:31.940Z"
   },
   {
    "duration": 16,
    "start_time": "2022-06-23T06:26:32.008Z"
   },
   {
    "duration": 26,
    "start_time": "2022-06-23T06:26:32.026Z"
   },
   {
    "duration": 10,
    "start_time": "2022-06-23T06:26:32.054Z"
   },
   {
    "duration": 16,
    "start_time": "2022-06-23T06:26:32.066Z"
   },
   {
    "duration": 17,
    "start_time": "2022-06-23T06:26:32.084Z"
   },
   {
    "duration": 10,
    "start_time": "2022-06-23T06:26:32.104Z"
   },
   {
    "duration": 204,
    "start_time": "2022-06-23T06:26:32.117Z"
   },
   {
    "duration": 8,
    "start_time": "2022-06-23T06:26:32.323Z"
   },
   {
    "duration": 41,
    "start_time": "2022-06-23T06:26:32.333Z"
   },
   {
    "duration": 128,
    "start_time": "2022-06-23T06:26:32.376Z"
   },
   {
    "duration": 6,
    "start_time": "2022-06-23T06:26:32.506Z"
   },
   {
    "duration": 100,
    "start_time": "2022-06-23T06:26:32.514Z"
   },
   {
    "duration": 18,
    "start_time": "2022-06-23T06:26:32.616Z"
   },
   {
    "duration": 121,
    "start_time": "2022-06-23T06:26:32.636Z"
   },
   {
    "duration": 188,
    "start_time": "2022-06-23T06:27:43.136Z"
   },
   {
    "duration": 3,
    "start_time": "2022-06-23T06:27:44.136Z"
   },
   {
    "duration": 3,
    "start_time": "2022-06-23T06:27:45.785Z"
   },
   {
    "duration": 509583,
    "start_time": "2022-06-23T06:27:47.528Z"
   },
   {
    "duration": 185,
    "start_time": "2022-06-23T06:36:25.421Z"
   },
   {
    "duration": 3,
    "start_time": "2022-06-23T06:36:25.608Z"
   },
   {
    "duration": 3,
    "start_time": "2022-06-23T06:36:27.575Z"
   },
   {
    "duration": 1343,
    "start_time": "2022-06-23T06:37:17.160Z"
   },
   {
    "duration": 786,
    "start_time": "2022-06-23T06:37:18.505Z"
   },
   {
    "duration": 115,
    "start_time": "2022-06-23T06:37:19.293Z"
   },
   {
    "duration": 23,
    "start_time": "2022-06-23T06:37:19.410Z"
   },
   {
    "duration": 103,
    "start_time": "2022-06-23T06:37:19.435Z"
   },
   {
    "duration": 24,
    "start_time": "2022-06-23T06:37:19.540Z"
   },
   {
    "duration": 726,
    "start_time": "2022-06-23T06:37:19.566Z"
   },
   {
    "duration": 58,
    "start_time": "2022-06-23T06:37:20.294Z"
   },
   {
    "duration": 15,
    "start_time": "2022-06-23T06:37:20.354Z"
   },
   {
    "duration": 8,
    "start_time": "2022-06-23T06:37:20.372Z"
   },
   {
    "duration": 14,
    "start_time": "2022-06-23T06:37:20.382Z"
   },
   {
    "duration": 8,
    "start_time": "2022-06-23T06:37:20.398Z"
   },
   {
    "duration": 45,
    "start_time": "2022-06-23T06:37:20.408Z"
   },
   {
    "duration": 10,
    "start_time": "2022-06-23T06:37:20.455Z"
   },
   {
    "duration": 170,
    "start_time": "2022-06-23T06:37:20.467Z"
   },
   {
    "duration": 17,
    "start_time": "2022-06-23T06:37:20.639Z"
   },
   {
    "duration": 27,
    "start_time": "2022-06-23T06:37:20.658Z"
   },
   {
    "duration": 127,
    "start_time": "2022-06-23T06:37:20.686Z"
   },
   {
    "duration": 6,
    "start_time": "2022-06-23T06:37:20.815Z"
   },
   {
    "duration": 81,
    "start_time": "2022-06-23T06:37:20.822Z"
   },
   {
    "duration": 11,
    "start_time": "2022-06-23T06:37:20.905Z"
   },
   {
    "duration": 74,
    "start_time": "2022-06-23T06:37:20.917Z"
   },
   {
    "duration": 192,
    "start_time": "2022-06-23T06:37:20.993Z"
   },
   {
    "duration": 3,
    "start_time": "2022-06-23T06:37:21.187Z"
   },
   {
    "duration": 11,
    "start_time": "2022-06-23T06:37:21.191Z"
   },
   {
    "duration": 278497,
    "start_time": "2022-06-23T06:37:21.204Z"
   },
   {
    "duration": 47,
    "start_time": "2022-06-23T06:41:59.703Z"
   },
   {
    "duration": 0,
    "start_time": "2022-06-23T06:41:59.752Z"
   },
   {
    "duration": 0,
    "start_time": "2022-06-23T06:41:59.753Z"
   },
   {
    "duration": 0,
    "start_time": "2022-06-23T06:41:59.755Z"
   },
   {
    "duration": 0,
    "start_time": "2022-06-23T06:41:59.755Z"
   },
   {
    "duration": 4,
    "start_time": "2022-06-23T06:47:42.873Z"
   },
   {
    "duration": 5,
    "start_time": "2022-06-23T06:48:47.164Z"
   },
   {
    "duration": 8,
    "start_time": "2022-06-23T06:49:17.989Z"
   },
   {
    "duration": 108,
    "start_time": "2022-06-23T06:50:08.292Z"
   },
   {
    "duration": 4,
    "start_time": "2022-06-23T06:50:17.927Z"
   },
   {
    "duration": 5,
    "start_time": "2022-06-23T06:50:24.436Z"
   },
   {
    "duration": 50,
    "start_time": "2022-06-23T06:51:38.653Z"
   },
   {
    "duration": 260454,
    "start_time": "2022-06-23T06:51:59.911Z"
   },
   {
    "duration": 0,
    "start_time": "2022-06-23T06:56:20.367Z"
   },
   {
    "duration": 0,
    "start_time": "2022-06-23T06:56:20.368Z"
   },
   {
    "duration": 233260,
    "start_time": "2022-06-23T06:56:30.600Z"
   },
   {
    "duration": 0,
    "start_time": "2022-06-23T07:00:23.861Z"
   },
   {
    "duration": 0,
    "start_time": "2022-06-23T07:00:23.862Z"
   },
   {
    "duration": 1227939,
    "start_time": "2022-06-23T07:00:32.845Z"
   },
   {
    "duration": 0,
    "start_time": "2022-06-23T07:21:00.786Z"
   },
   {
    "duration": 0,
    "start_time": "2022-06-23T07:21:00.789Z"
   },
   {
    "duration": 12,
    "start_time": "2022-06-23T07:24:53.234Z"
   },
   {
    "duration": 11,
    "start_time": "2022-06-23T07:25:28.635Z"
   },
   {
    "duration": 3,
    "start_time": "2022-06-23T07:26:07.749Z"
   },
   {
    "duration": 12,
    "start_time": "2022-06-23T07:26:20.087Z"
   },
   {
    "duration": 12,
    "start_time": "2022-06-23T07:26:55.575Z"
   },
   {
    "duration": 11,
    "start_time": "2022-06-23T07:27:58.921Z"
   },
   {
    "duration": 11,
    "start_time": "2022-06-23T07:28:26.249Z"
   },
   {
    "duration": 53983,
    "start_time": "2022-06-23T07:30:32.924Z"
   },
   {
    "duration": 0,
    "start_time": "2022-06-23T07:31:26.910Z"
   },
   {
    "duration": 0,
    "start_time": "2022-06-23T07:31:26.912Z"
   },
   {
    "duration": 33080,
    "start_time": "2022-06-23T07:31:38.824Z"
   },
   {
    "duration": 0,
    "start_time": "2022-06-23T07:32:11.906Z"
   },
   {
    "duration": 0,
    "start_time": "2022-06-23T07:32:11.908Z"
   },
   {
    "duration": 1384,
    "start_time": "2022-06-23T07:33:11.270Z"
   },
   {
    "duration": 793,
    "start_time": "2022-06-23T07:33:12.657Z"
   },
   {
    "duration": 118,
    "start_time": "2022-06-23T07:33:13.451Z"
   },
   {
    "duration": 20,
    "start_time": "2022-06-23T07:33:13.571Z"
   },
   {
    "duration": 128,
    "start_time": "2022-06-23T07:33:13.592Z"
   },
   {
    "duration": 30,
    "start_time": "2022-06-23T07:33:13.723Z"
   },
   {
    "duration": 695,
    "start_time": "2022-06-23T07:33:13.755Z"
   },
   {
    "duration": 52,
    "start_time": "2022-06-23T07:33:14.452Z"
   },
   {
    "duration": 23,
    "start_time": "2022-06-23T07:33:14.505Z"
   },
   {
    "duration": 25,
    "start_time": "2022-06-23T07:33:14.531Z"
   },
   {
    "duration": 8,
    "start_time": "2022-06-23T07:33:14.558Z"
   },
   {
    "duration": 17,
    "start_time": "2022-06-23T07:33:14.567Z"
   },
   {
    "duration": 17,
    "start_time": "2022-06-23T07:33:14.587Z"
   },
   {
    "duration": 20,
    "start_time": "2022-06-23T07:33:14.606Z"
   },
   {
    "duration": 179,
    "start_time": "2022-06-23T07:33:14.653Z"
   },
   {
    "duration": 7,
    "start_time": "2022-06-23T07:33:14.834Z"
   },
   {
    "duration": 50,
    "start_time": "2022-06-23T07:33:14.843Z"
   },
   {
    "duration": 123,
    "start_time": "2022-06-23T07:33:14.895Z"
   },
   {
    "duration": 7,
    "start_time": "2022-06-23T07:33:15.020Z"
   },
   {
    "duration": 86,
    "start_time": "2022-06-23T07:33:15.029Z"
   },
   {
    "duration": 12,
    "start_time": "2022-06-23T07:33:15.117Z"
   },
   {
    "duration": 81,
    "start_time": "2022-06-23T07:33:15.131Z"
   },
   {
    "duration": 254,
    "start_time": "2022-06-23T07:33:15.214Z"
   },
   {
    "duration": 4,
    "start_time": "2022-06-23T07:33:15.470Z"
   },
   {
    "duration": 21,
    "start_time": "2022-06-23T07:33:15.476Z"
   },
   {
    "duration": 290751,
    "start_time": "2022-06-23T07:33:15.499Z"
   },
   {
    "duration": 1015039,
    "start_time": "2022-06-23T07:38:06.252Z"
   },
   {
    "duration": 0,
    "start_time": "2022-06-23T07:55:01.293Z"
   },
   {
    "duration": 1,
    "start_time": "2022-06-23T07:55:01.294Z"
   },
   {
    "duration": 0,
    "start_time": "2022-06-23T07:55:01.296Z"
   },
   {
    "duration": 0,
    "start_time": "2022-06-23T07:55:01.297Z"
   },
   {
    "duration": 0,
    "start_time": "2022-06-23T07:55:01.298Z"
   },
   {
    "duration": 134866,
    "start_time": "2022-06-23T07:55:37.477Z"
   },
   {
    "duration": 10,
    "start_time": "2022-06-23T07:57:52.345Z"
   },
   {
    "duration": 0,
    "start_time": "2022-06-23T07:57:52.357Z"
   },
   {
    "duration": 4,
    "start_time": "2022-06-23T07:59:06.768Z"
   },
   {
    "duration": 29806,
    "start_time": "2022-06-23T08:00:09.897Z"
   },
   {
    "duration": 229462,
    "start_time": "2022-06-23T08:02:23.503Z"
   },
   {
    "duration": 180,
    "start_time": "2022-06-23T08:08:36.234Z"
   },
   {
    "duration": 3,
    "start_time": "2022-06-23T08:08:36.417Z"
   },
   {
    "duration": 7,
    "start_time": "2022-06-23T08:08:36.422Z"
   },
   {
    "duration": 1372,
    "start_time": "2022-06-23T08:09:17.220Z"
   },
   {
    "duration": 844,
    "start_time": "2022-06-23T08:09:18.595Z"
   },
   {
    "duration": 120,
    "start_time": "2022-06-23T08:09:19.440Z"
   },
   {
    "duration": 19,
    "start_time": "2022-06-23T08:09:19.563Z"
   },
   {
    "duration": 116,
    "start_time": "2022-06-23T08:09:19.584Z"
   },
   {
    "duration": 17,
    "start_time": "2022-06-23T08:09:19.702Z"
   },
   {
    "duration": 731,
    "start_time": "2022-06-23T08:09:19.721Z"
   },
   {
    "duration": 53,
    "start_time": "2022-06-23T08:09:20.454Z"
   },
   {
    "duration": 14,
    "start_time": "2022-06-23T08:09:20.509Z"
   },
   {
    "duration": 9,
    "start_time": "2022-06-23T08:09:20.525Z"
   },
   {
    "duration": 10,
    "start_time": "2022-06-23T08:09:20.552Z"
   },
   {
    "duration": 14,
    "start_time": "2022-06-23T08:09:20.564Z"
   },
   {
    "duration": 16,
    "start_time": "2022-06-23T08:09:20.580Z"
   },
   {
    "duration": 10,
    "start_time": "2022-06-23T08:09:20.598Z"
   },
   {
    "duration": 206,
    "start_time": "2022-06-23T08:09:20.609Z"
   },
   {
    "duration": 8,
    "start_time": "2022-06-23T08:09:20.817Z"
   },
   {
    "duration": 37,
    "start_time": "2022-06-23T08:09:20.826Z"
   },
   {
    "duration": 106,
    "start_time": "2022-06-23T08:09:20.864Z"
   },
   {
    "duration": 5,
    "start_time": "2022-06-23T08:09:20.972Z"
   },
   {
    "duration": 84,
    "start_time": "2022-06-23T08:09:20.978Z"
   },
   {
    "duration": 12,
    "start_time": "2022-06-23T08:09:21.064Z"
   },
   {
    "duration": 82,
    "start_time": "2022-06-23T08:09:21.077Z"
   },
   {
    "duration": 206,
    "start_time": "2022-06-23T08:09:21.161Z"
   },
   {
    "duration": 3,
    "start_time": "2022-06-23T08:09:21.369Z"
   },
   {
    "duration": 44,
    "start_time": "2022-06-23T08:09:21.373Z"
   },
   {
    "duration": 146212,
    "start_time": "2022-06-23T08:09:21.419Z"
   },
   {
    "duration": 124,
    "start_time": "2022-06-23T08:11:47.633Z"
   },
   {
    "duration": 0,
    "start_time": "2022-06-23T08:11:47.758Z"
   },
   {
    "duration": 0,
    "start_time": "2022-06-23T08:11:47.760Z"
   },
   {
    "duration": 0,
    "start_time": "2022-06-23T08:11:47.761Z"
   },
   {
    "duration": 6,
    "start_time": "2022-06-23T08:12:06.143Z"
   },
   {
    "duration": 3,
    "start_time": "2022-06-23T08:12:19.091Z"
   },
   {
    "duration": 4,
    "start_time": "2022-06-23T08:12:26.879Z"
   },
   {
    "duration": 4,
    "start_time": "2022-06-23T08:12:28.037Z"
   },
   {
    "duration": 398,
    "start_time": "2022-06-23T08:12:28.217Z"
   },
   {
    "duration": 5,
    "start_time": "2022-06-23T08:12:28.616Z"
   },
   {
    "duration": 3,
    "start_time": "2022-06-23T08:12:57.241Z"
   },
   {
    "duration": 287328,
    "start_time": "2022-06-23T08:12:57.251Z"
   },
   {
    "duration": 978,
    "start_time": "2022-06-23T08:17:44.580Z"
   },
   {
    "duration": 5,
    "start_time": "2022-06-23T08:17:45.560Z"
   },
   {
    "duration": 3,
    "start_time": "2022-06-23T08:20:00.264Z"
   },
   {
    "duration": 175812,
    "start_time": "2022-06-23T08:20:00.292Z"
   },
   {
    "duration": 646,
    "start_time": "2022-06-23T08:22:56.106Z"
   },
   {
    "duration": 5,
    "start_time": "2022-06-23T08:22:56.753Z"
   },
   {
    "duration": 10,
    "start_time": "2022-06-23T08:22:56.760Z"
   },
   {
    "duration": 3,
    "start_time": "2022-06-23T08:23:28.088Z"
   },
   {
    "duration": 181270,
    "start_time": "2022-06-23T08:23:28.952Z"
   },
   {
    "duration": 577,
    "start_time": "2022-06-23T08:26:30.224Z"
   },
   {
    "duration": 6,
    "start_time": "2022-06-23T08:26:30.803Z"
   },
   {
    "duration": 44,
    "start_time": "2022-06-23T08:26:30.811Z"
   },
   {
    "duration": 52,
    "start_time": "2022-06-23T08:26:30.858Z"
   },
   {
    "duration": 3,
    "start_time": "2022-06-23T08:26:53.296Z"
   },
   {
    "duration": 418504,
    "start_time": "2022-06-23T08:26:53.457Z"
   },
   {
    "duration": 665,
    "start_time": "2022-06-23T08:33:51.964Z"
   },
   {
    "duration": 5,
    "start_time": "2022-06-23T08:33:52.631Z"
   },
   {
    "duration": 15,
    "start_time": "2022-06-23T08:33:52.638Z"
   },
   {
    "duration": 15,
    "start_time": "2022-06-23T08:33:52.655Z"
   },
   {
    "duration": 16,
    "start_time": "2022-06-23T08:33:52.672Z"
   },
   {
    "duration": 11,
    "start_time": "2022-06-23T08:33:52.690Z"
   },
   {
    "duration": 22,
    "start_time": "2022-06-23T08:33:52.702Z"
   },
   {
    "duration": 11,
    "start_time": "2022-06-23T08:34:33.357Z"
   },
   {
    "duration": 9,
    "start_time": "2022-06-23T08:34:40.167Z"
   },
   {
    "duration": 14,
    "start_time": "2022-06-23T08:39:36.630Z"
   },
   {
    "duration": 0,
    "start_time": "2022-06-23T08:39:36.645Z"
   },
   {
    "duration": 14,
    "start_time": "2022-06-23T08:39:52.082Z"
   },
   {
    "duration": 31,
    "start_time": "2022-06-23T08:41:09.188Z"
   },
   {
    "duration": 10,
    "start_time": "2022-06-23T08:41:10.681Z"
   },
   {
    "duration": 9,
    "start_time": "2022-06-23T08:41:10.821Z"
   },
   {
    "duration": 249092,
    "start_time": "2022-06-23T08:42:07.035Z"
   },
   {
    "duration": 0,
    "start_time": "2022-06-23T08:46:16.129Z"
   },
   {
    "duration": 0,
    "start_time": "2022-06-23T08:46:16.131Z"
   },
   {
    "duration": 216163,
    "start_time": "2022-06-23T08:46:33.629Z"
   },
   {
    "duration": 0,
    "start_time": "2022-06-23T08:50:09.794Z"
   },
   {
    "duration": 0,
    "start_time": "2022-06-23T08:50:09.796Z"
   },
   {
    "duration": 1494,
    "start_time": "2022-06-23T08:51:02.092Z"
   },
   {
    "duration": 1024,
    "start_time": "2022-06-23T08:51:03.588Z"
   },
   {
    "duration": 111,
    "start_time": "2022-06-23T08:51:04.614Z"
   },
   {
    "duration": 34,
    "start_time": "2022-06-23T08:51:04.727Z"
   },
   {
    "duration": 105,
    "start_time": "2022-06-23T08:51:04.763Z"
   },
   {
    "duration": 18,
    "start_time": "2022-06-23T08:51:04.870Z"
   },
   {
    "duration": 853,
    "start_time": "2022-06-23T08:51:04.890Z"
   },
   {
    "duration": 55,
    "start_time": "2022-06-23T08:51:05.745Z"
   },
   {
    "duration": 14,
    "start_time": "2022-06-23T08:51:05.802Z"
   },
   {
    "duration": 9,
    "start_time": "2022-06-23T08:51:05.818Z"
   },
   {
    "duration": 30,
    "start_time": "2022-06-23T08:51:05.829Z"
   },
   {
    "duration": 10,
    "start_time": "2022-06-23T08:51:05.861Z"
   },
   {
    "duration": 15,
    "start_time": "2022-06-23T08:51:05.873Z"
   },
   {
    "duration": 10,
    "start_time": "2022-06-23T08:51:05.891Z"
   },
   {
    "duration": 204,
    "start_time": "2022-06-23T08:51:05.903Z"
   },
   {
    "duration": 9,
    "start_time": "2022-06-23T08:51:06.109Z"
   },
   {
    "duration": 54,
    "start_time": "2022-06-23T08:51:06.120Z"
   },
   {
    "duration": 112,
    "start_time": "2022-06-23T08:51:06.176Z"
   },
   {
    "duration": 7,
    "start_time": "2022-06-23T08:51:06.290Z"
   },
   {
    "duration": 83,
    "start_time": "2022-06-23T08:51:06.298Z"
   },
   {
    "duration": 12,
    "start_time": "2022-06-23T08:51:06.383Z"
   },
   {
    "duration": 85,
    "start_time": "2022-06-23T08:51:06.396Z"
   },
   {
    "duration": 232,
    "start_time": "2022-06-23T08:51:06.483Z"
   },
   {
    "duration": 3,
    "start_time": "2022-06-23T08:51:06.717Z"
   },
   {
    "duration": 840109,
    "start_time": "2022-06-23T08:51:06.722Z"
   },
   {
    "duration": 0,
    "start_time": "2022-06-23T09:05:06.833Z"
   },
   {
    "duration": 0,
    "start_time": "2022-06-23T09:05:06.835Z"
   },
   {
    "duration": 0,
    "start_time": "2022-06-23T09:05:06.836Z"
   },
   {
    "duration": 0,
    "start_time": "2022-06-23T09:05:06.837Z"
   },
   {
    "duration": 0,
    "start_time": "2022-06-23T09:05:06.838Z"
   },
   {
    "duration": 0,
    "start_time": "2022-06-23T09:05:06.839Z"
   },
   {
    "duration": 203694,
    "start_time": "2022-06-23T09:07:25.262Z"
   },
   {
    "duration": 1447,
    "start_time": "2022-06-23T09:16:20.926Z"
   },
   {
    "duration": 833,
    "start_time": "2022-06-23T09:16:22.375Z"
   },
   {
    "duration": 120,
    "start_time": "2022-06-23T09:16:23.209Z"
   },
   {
    "duration": 40,
    "start_time": "2022-06-23T09:16:23.332Z"
   },
   {
    "duration": 100,
    "start_time": "2022-06-23T09:16:23.374Z"
   },
   {
    "duration": 15,
    "start_time": "2022-06-23T09:16:23.476Z"
   },
   {
    "duration": 674,
    "start_time": "2022-06-23T09:16:23.492Z"
   },
   {
    "duration": 49,
    "start_time": "2022-06-23T09:16:24.168Z"
   },
   {
    "duration": 13,
    "start_time": "2022-06-23T09:16:24.219Z"
   },
   {
    "duration": 22,
    "start_time": "2022-06-23T09:16:24.235Z"
   },
   {
    "duration": 9,
    "start_time": "2022-06-23T09:16:24.258Z"
   },
   {
    "duration": 8,
    "start_time": "2022-06-23T09:16:24.269Z"
   },
   {
    "duration": 26,
    "start_time": "2022-06-23T09:16:24.278Z"
   },
   {
    "duration": 9,
    "start_time": "2022-06-23T09:16:24.305Z"
   },
   {
    "duration": 193,
    "start_time": "2022-06-23T09:16:24.316Z"
   },
   {
    "duration": 7,
    "start_time": "2022-06-23T09:16:24.511Z"
   },
   {
    "duration": 40,
    "start_time": "2022-06-23T09:16:24.520Z"
   },
   {
    "duration": 111,
    "start_time": "2022-06-23T09:16:24.562Z"
   },
   {
    "duration": 5,
    "start_time": "2022-06-23T09:16:24.675Z"
   },
   {
    "duration": 78,
    "start_time": "2022-06-23T09:16:24.682Z"
   },
   {
    "duration": 11,
    "start_time": "2022-06-23T09:16:24.762Z"
   },
   {
    "duration": 79,
    "start_time": "2022-06-23T09:16:24.774Z"
   },
   {
    "duration": 203,
    "start_time": "2022-06-23T09:16:24.854Z"
   },
   {
    "duration": 3,
    "start_time": "2022-06-23T09:16:25.059Z"
   },
   {
    "duration": 1327,
    "start_time": "2022-06-23T09:16:43.386Z"
   },
   {
    "duration": 894,
    "start_time": "2022-06-23T09:16:44.715Z"
   },
   {
    "duration": 118,
    "start_time": "2022-06-23T09:16:45.611Z"
   },
   {
    "duration": 29,
    "start_time": "2022-06-23T09:16:45.731Z"
   },
   {
    "duration": 108,
    "start_time": "2022-06-23T09:16:45.762Z"
   },
   {
    "duration": 16,
    "start_time": "2022-06-23T09:16:45.872Z"
   },
   {
    "duration": 712,
    "start_time": "2022-06-23T09:16:45.890Z"
   },
   {
    "duration": 61,
    "start_time": "2022-06-23T09:16:46.604Z"
   },
   {
    "duration": 14,
    "start_time": "2022-06-23T09:16:46.667Z"
   },
   {
    "duration": 9,
    "start_time": "2022-06-23T09:16:46.685Z"
   },
   {
    "duration": 9,
    "start_time": "2022-06-23T09:16:46.696Z"
   },
   {
    "duration": 9,
    "start_time": "2022-06-23T09:16:46.707Z"
   },
   {
    "duration": 48,
    "start_time": "2022-06-23T09:16:46.717Z"
   },
   {
    "duration": 10,
    "start_time": "2022-06-23T09:16:46.766Z"
   },
   {
    "duration": 187,
    "start_time": "2022-06-23T09:16:46.777Z"
   },
   {
    "duration": 10,
    "start_time": "2022-06-23T09:16:46.966Z"
   },
   {
    "duration": 31,
    "start_time": "2022-06-23T09:16:46.978Z"
   },
   {
    "duration": 120,
    "start_time": "2022-06-23T09:16:47.010Z"
   },
   {
    "duration": 5,
    "start_time": "2022-06-23T09:16:47.132Z"
   },
   {
    "duration": 79,
    "start_time": "2022-06-23T09:16:47.139Z"
   },
   {
    "duration": 12,
    "start_time": "2022-06-23T09:16:47.220Z"
   },
   {
    "duration": 73,
    "start_time": "2022-06-23T09:16:47.234Z"
   },
   {
    "duration": 191,
    "start_time": "2022-06-23T09:16:47.308Z"
   },
   {
    "duration": 3,
    "start_time": "2022-06-23T09:16:47.501Z"
   },
   {
    "duration": 2425870,
    "start_time": "2022-06-23T09:16:47.505Z"
   },
   {
    "duration": 3,
    "start_time": "2022-06-23T09:57:13.377Z"
   },
   {
    "duration": 79380,
    "start_time": "2022-06-23T09:57:13.381Z"
   },
   {
    "duration": 61,
    "start_time": "2022-06-23T09:58:32.766Z"
   },
   {
    "duration": 10,
    "start_time": "2022-06-23T09:58:32.829Z"
   },
   {
    "duration": 0,
    "start_time": "2022-06-23T09:58:32.841Z"
   },
   {
    "duration": 0,
    "start_time": "2022-06-23T09:58:32.843Z"
   },
   {
    "duration": 0,
    "start_time": "2022-06-23T09:58:32.844Z"
   },
   {
    "duration": 4,
    "start_time": "2022-06-23T09:58:38.296Z"
   },
   {
    "duration": 4,
    "start_time": "2022-06-23T09:59:03.229Z"
   },
   {
    "duration": 4,
    "start_time": "2022-06-23T09:59:19.084Z"
   },
   {
    "duration": 4,
    "start_time": "2022-06-23T09:59:20.719Z"
   },
   {
    "duration": 3,
    "start_time": "2022-06-23T09:59:20.818Z"
   },
   {
    "duration": 61,
    "start_time": "2022-06-23T09:59:31.009Z"
   },
   {
    "duration": 0,
    "start_time": "2022-06-23T09:59:31.072Z"
   },
   {
    "duration": 59,
    "start_time": "2022-06-23T09:59:33.424Z"
   },
   {
    "duration": 3,
    "start_time": "2022-06-23T09:59:51.857Z"
   },
   {
    "duration": 184284,
    "start_time": "2022-06-23T09:59:53.764Z"
   },
   {
    "duration": 568,
    "start_time": "2022-06-23T10:02:58.050Z"
   },
   {
    "duration": 6,
    "start_time": "2022-06-23T10:02:58.619Z"
   },
   {
    "duration": 3,
    "start_time": "2022-06-23T10:03:33.360Z"
   },
   {
    "duration": 592564,
    "start_time": "2022-06-23T10:03:33.413Z"
   },
   {
    "duration": 1617,
    "start_time": "2022-06-23T10:13:25.979Z"
   },
   {
    "duration": 4,
    "start_time": "2022-06-23T10:13:27.598Z"
   },
   {
    "duration": 5,
    "start_time": "2022-06-23T10:19:41.651Z"
   },
   {
    "duration": 70,
    "start_time": "2022-06-23T10:19:43.122Z"
   },
   {
    "duration": 56,
    "start_time": "2022-06-23T10:19:43.264Z"
   },
   {
    "duration": 4,
    "start_time": "2022-06-23T10:20:00.949Z"
   },
   {
    "duration": 116,
    "start_time": "2022-06-23T10:20:00.955Z"
   },
   {
    "duration": 4,
    "start_time": "2022-06-23T10:20:38.514Z"
   },
   {
    "duration": 504,
    "start_time": "2022-06-23T10:20:38.903Z"
   },
   {
    "duration": 105,
    "start_time": "2022-06-23T10:20:51.643Z"
   },
   {
    "duration": 1347,
    "start_time": "2022-06-23T10:21:50.542Z"
   },
   {
    "duration": 807,
    "start_time": "2022-06-23T10:21:51.891Z"
   },
   {
    "duration": 115,
    "start_time": "2022-06-23T10:21:52.700Z"
   },
   {
    "duration": 19,
    "start_time": "2022-06-23T10:21:52.817Z"
   },
   {
    "duration": 93,
    "start_time": "2022-06-23T10:21:52.851Z"
   },
   {
    "duration": 16,
    "start_time": "2022-06-23T10:21:52.952Z"
   },
   {
    "duration": 644,
    "start_time": "2022-06-23T10:21:52.970Z"
   },
   {
    "duration": 60,
    "start_time": "2022-06-23T10:21:53.615Z"
   },
   {
    "duration": 13,
    "start_time": "2022-06-23T10:21:53.677Z"
   },
   {
    "duration": 8,
    "start_time": "2022-06-23T10:21:53.693Z"
   },
   {
    "duration": 10,
    "start_time": "2022-06-23T10:21:53.703Z"
   },
   {
    "duration": 104,
    "start_time": "2022-06-23T10:21:53.714Z"
   },
   {
    "duration": 17,
    "start_time": "2022-06-23T10:21:53.819Z"
   },
   {
    "duration": 21,
    "start_time": "2022-06-23T10:21:53.838Z"
   },
   {
    "duration": 178,
    "start_time": "2022-06-23T10:21:53.860Z"
   },
   {
    "duration": 13,
    "start_time": "2022-06-23T10:21:54.040Z"
   },
   {
    "duration": 28,
    "start_time": "2022-06-23T10:21:54.055Z"
   },
   {
    "duration": 122,
    "start_time": "2022-06-23T10:21:54.085Z"
   },
   {
    "duration": 7,
    "start_time": "2022-06-23T10:21:54.209Z"
   },
   {
    "duration": 77,
    "start_time": "2022-06-23T10:21:54.217Z"
   },
   {
    "duration": 11,
    "start_time": "2022-06-23T10:21:54.296Z"
   },
   {
    "duration": 79,
    "start_time": "2022-06-23T10:21:54.308Z"
   },
   {
    "duration": 190,
    "start_time": "2022-06-23T10:21:54.389Z"
   },
   {
    "duration": 3,
    "start_time": "2022-06-23T10:21:54.581Z"
   },
   {
    "duration": 1483423,
    "start_time": "2022-06-23T10:21:54.585Z"
   },
   {
    "duration": 3,
    "start_time": "2022-06-23T10:46:38.009Z"
   },
   {
    "duration": 20,
    "start_time": "2022-06-23T10:46:38.014Z"
   },
   {
    "duration": 9,
    "start_time": "2022-06-23T10:46:38.037Z"
   },
   {
    "duration": 582006,
    "start_time": "2022-06-23T10:46:38.048Z"
   },
   {
    "duration": 1581,
    "start_time": "2022-06-23T10:56:20.055Z"
   },
   {
    "duration": 6,
    "start_time": "2022-06-23T10:56:21.638Z"
   },
   {
    "duration": 12,
    "start_time": "2022-06-23T10:56:21.645Z"
   },
   {
    "duration": 441,
    "start_time": "2022-06-23T10:56:21.659Z"
   },
   {
    "duration": 59,
    "start_time": "2022-06-23T10:56:22.102Z"
   },
   {
    "duration": 1435,
    "start_time": "2022-06-23T12:35:42.276Z"
   },
   {
    "duration": 1290,
    "start_time": "2022-06-23T12:35:43.713Z"
   },
   {
    "duration": 158,
    "start_time": "2022-06-23T12:35:45.005Z"
   },
   {
    "duration": 27,
    "start_time": "2022-06-23T12:35:45.166Z"
   },
   {
    "duration": 116,
    "start_time": "2022-06-23T12:35:45.194Z"
   },
   {
    "duration": 13,
    "start_time": "2022-06-23T12:35:45.312Z"
   },
   {
    "duration": 937,
    "start_time": "2022-06-23T12:35:45.327Z"
   },
   {
    "duration": 65,
    "start_time": "2022-06-23T12:35:46.267Z"
   },
   {
    "duration": 32,
    "start_time": "2022-06-23T12:35:46.335Z"
   },
   {
    "duration": 14,
    "start_time": "2022-06-23T12:35:46.373Z"
   },
   {
    "duration": 8,
    "start_time": "2022-06-23T12:35:46.389Z"
   },
   {
    "duration": 7,
    "start_time": "2022-06-23T12:35:46.399Z"
   },
   {
    "duration": 15,
    "start_time": "2022-06-23T12:35:46.408Z"
   },
   {
    "duration": 38,
    "start_time": "2022-06-23T12:35:46.424Z"
   },
   {
    "duration": 170,
    "start_time": "2022-06-23T12:35:46.464Z"
   },
   {
    "duration": 9,
    "start_time": "2022-06-23T12:35:46.636Z"
   },
   {
    "duration": 30,
    "start_time": "2022-06-23T12:35:46.659Z"
   },
   {
    "duration": 138,
    "start_time": "2022-06-23T12:35:46.691Z"
   },
   {
    "duration": 5,
    "start_time": "2022-06-23T12:35:46.832Z"
   },
   {
    "duration": 104,
    "start_time": "2022-06-23T12:35:46.838Z"
   },
   {
    "duration": 16,
    "start_time": "2022-06-23T12:35:46.944Z"
   },
   {
    "duration": 75,
    "start_time": "2022-06-23T12:35:46.962Z"
   },
   {
    "duration": 4,
    "start_time": "2022-06-23T12:36:08.937Z"
   },
   {
    "duration": 278,
    "start_time": "2022-06-23T12:36:13.658Z"
   },
   {
    "duration": 79,
    "start_time": "2022-06-23T12:36:13.938Z"
   },
   {
    "duration": 224,
    "start_time": "2022-06-23T12:36:24.680Z"
   },
   {
    "duration": 3,
    "start_time": "2022-06-23T12:36:24.906Z"
   },
   {
    "duration": 4,
    "start_time": "2022-06-23T12:36:29.876Z"
   },
   {
    "duration": 269,
    "start_time": "2022-06-23T12:36:30.093Z"
   },
   {
    "duration": 198,
    "start_time": "2022-06-23T12:36:30.364Z"
   },
   {
    "duration": 84,
    "start_time": "2022-06-23T12:50:55.865Z"
   },
   {
    "duration": 237,
    "start_time": "2022-06-23T12:50:56.010Z"
   },
   {
    "duration": 4,
    "start_time": "2022-06-23T12:51:12.004Z"
   },
   {
    "duration": 210,
    "start_time": "2022-06-23T12:51:12.288Z"
   },
   {
    "duration": 74,
    "start_time": "2022-06-23T12:51:19.460Z"
   },
   {
    "duration": 3,
    "start_time": "2022-06-23T13:09:04.613Z"
   },
   {
    "duration": 3,
    "start_time": "2022-06-23T13:09:04.715Z"
   },
   {
    "duration": 1479,
    "start_time": "2022-06-23T13:09:04.908Z"
   },
   {
    "duration": 13,
    "start_time": "2022-06-23T13:09:13.510Z"
   },
   {
    "duration": 5,
    "start_time": "2022-06-23T13:10:33.215Z"
   },
   {
    "duration": 236,
    "start_time": "2022-06-23T13:10:33.295Z"
   },
   {
    "duration": 117,
    "start_time": "2022-06-23T13:10:33.534Z"
   },
   {
    "duration": 3,
    "start_time": "2022-06-23T13:11:05.004Z"
   },
   {
    "duration": 3687,
    "start_time": "2022-06-23T13:11:05.159Z"
   },
   {
    "duration": 26,
    "start_time": "2022-06-23T13:11:08.848Z"
   },
   {
    "duration": 303,
    "start_time": "2022-06-23T13:11:08.883Z"
   },
   {
    "duration": 12,
    "start_time": "2022-06-23T13:11:09.189Z"
   },
   {
    "duration": 443830,
    "start_time": "2022-06-23T13:11:09.210Z"
   },
   {
    "duration": 110,
    "start_time": "2022-06-23T13:18:33.042Z"
   },
   {
    "duration": 25,
    "start_time": "2022-06-23T13:18:55.770Z"
   },
   {
    "duration": 191,
    "start_time": "2022-06-23T13:18:58.570Z"
   },
   {
    "duration": 22,
    "start_time": "2022-06-23T13:18:59.763Z"
   },
   {
    "duration": 18,
    "start_time": "2022-06-23T13:19:05.874Z"
   },
   {
    "duration": 48115,
    "start_time": "2022-06-23T13:19:23.405Z"
   },
   {
    "duration": 0,
    "start_time": "2022-06-23T13:20:11.522Z"
   },
   {
    "duration": 0,
    "start_time": "2022-06-23T13:20:11.559Z"
   },
   {
    "duration": 250811,
    "start_time": "2022-06-23T13:20:14.379Z"
   },
   {
    "duration": 0,
    "start_time": "2022-06-23T13:24:25.192Z"
   },
   {
    "duration": 0,
    "start_time": "2022-06-23T13:24:25.194Z"
   },
   {
    "duration": 0,
    "start_time": "2022-06-23T13:24:25.195Z"
   },
   {
    "duration": 0,
    "start_time": "2022-06-23T13:24:25.197Z"
   },
   {
    "duration": 1377,
    "start_time": "2022-06-27T15:51:58.704Z"
   },
   {
    "duration": 3206,
    "start_time": "2022-06-27T15:52:00.084Z"
   },
   {
    "duration": 112,
    "start_time": "2022-06-27T15:52:03.292Z"
   },
   {
    "duration": 30,
    "start_time": "2022-06-27T15:52:03.406Z"
   },
   {
    "duration": 141,
    "start_time": "2022-06-27T15:52:03.439Z"
   },
   {
    "duration": 19,
    "start_time": "2022-06-27T15:52:03.582Z"
   },
   {
    "duration": 944,
    "start_time": "2022-06-27T15:52:03.604Z"
   },
   {
    "duration": 86,
    "start_time": "2022-06-27T15:52:04.550Z"
   },
   {
    "duration": 16,
    "start_time": "2022-06-27T15:52:04.638Z"
   },
   {
    "duration": 12,
    "start_time": "2022-06-27T15:52:04.657Z"
   },
   {
    "duration": 11,
    "start_time": "2022-06-27T15:52:04.671Z"
   },
   {
    "duration": 48,
    "start_time": "2022-06-27T15:52:04.684Z"
   },
   {
    "duration": 17,
    "start_time": "2022-06-27T15:52:04.735Z"
   },
   {
    "duration": 10,
    "start_time": "2022-06-27T15:52:04.756Z"
   },
   {
    "duration": 189,
    "start_time": "2022-06-27T15:52:04.767Z"
   },
   {
    "duration": 13,
    "start_time": "2022-06-27T15:52:04.957Z"
   },
   {
    "duration": 36,
    "start_time": "2022-06-27T15:52:04.971Z"
   },
   {
    "duration": 124,
    "start_time": "2022-06-27T15:52:05.009Z"
   },
   {
    "duration": 6,
    "start_time": "2022-06-27T15:52:05.135Z"
   },
   {
    "duration": 101,
    "start_time": "2022-06-27T15:52:05.142Z"
   },
   {
    "duration": 13,
    "start_time": "2022-06-27T15:52:05.245Z"
   },
   {
    "duration": 98,
    "start_time": "2022-06-27T15:52:05.260Z"
   },
   {
    "duration": 205,
    "start_time": "2022-06-27T15:52:05.360Z"
   },
   {
    "duration": 3,
    "start_time": "2022-06-27T15:52:05.567Z"
   },
   {
    "duration": 1523025,
    "start_time": "2022-06-27T15:52:05.573Z"
   },
   {
    "duration": 4,
    "start_time": "2022-06-27T16:17:28.599Z"
   },
   {
    "duration": 8,
    "start_time": "2022-06-27T16:17:28.604Z"
   },
   {
    "duration": 17,
    "start_time": "2022-06-27T16:17:28.613Z"
   },
   {
    "duration": 611210,
    "start_time": "2022-06-27T16:17:28.631Z"
   },
   {
    "duration": 1821,
    "start_time": "2022-06-27T16:27:39.843Z"
   },
   {
    "duration": 5,
    "start_time": "2022-06-27T16:27:41.666Z"
   },
   {
    "duration": 4,
    "start_time": "2022-06-27T16:27:41.673Z"
   },
   {
    "duration": 819,
    "start_time": "2022-06-27T16:27:41.679Z"
   },
   {
    "duration": 9,
    "start_time": "2022-06-27T16:27:42.499Z"
   },
   {
    "duration": 172,
    "start_time": "2022-06-27T16:27:42.510Z"
   },
   {
    "duration": 2246358,
    "start_time": "2022-06-27T16:27:42.684Z"
   },
   {
    "duration": 0,
    "start_time": "2022-06-27T17:05:09.047Z"
   },
   {
    "duration": 1,
    "start_time": "2022-06-27T17:05:09.048Z"
   },
   {
    "duration": 0,
    "start_time": "2022-06-27T17:05:09.050Z"
   },
   {
    "duration": 0,
    "start_time": "2022-06-27T17:05:09.051Z"
   },
   {
    "duration": 46,
    "start_time": "2022-06-27T17:05:13.468Z"
   },
   {
    "duration": 29,
    "start_time": "2022-06-27T17:05:14.518Z"
   },
   {
    "duration": 27328,
    "start_time": "2022-06-27T17:05:22.626Z"
   },
   {
    "duration": 6,
    "start_time": "2022-06-27T17:06:12.715Z"
   },
   {
    "duration": 145,
    "start_time": "2022-06-27T17:06:13.617Z"
   },
   {
    "duration": 6473,
    "start_time": "2022-06-27T17:06:14.459Z"
   },
   {
    "duration": 25,
    "start_time": "2022-06-27T17:06:29.418Z"
   },
   {
    "duration": 1,
    "start_time": "2022-06-27T17:08:44.833Z"
   },
   {
    "duration": 3,
    "start_time": "2022-06-27T17:09:03.101Z"
   },
   {
    "duration": 1618,
    "start_time": "2022-06-27T17:09:03.252Z"
   },
   {
    "duration": 10,
    "start_time": "2022-06-27T17:09:04.872Z"
   },
   {
    "duration": 29,
    "start_time": "2022-06-27T17:09:04.883Z"
   },
   {
    "duration": 159,
    "start_time": "2022-06-27T17:09:04.914Z"
   },
   {
    "duration": 0,
    "start_time": "2022-06-27T17:14:54.549Z"
   },
   {
    "duration": 0,
    "start_time": "2022-06-27T17:14:54.550Z"
   },
   {
    "duration": 0,
    "start_time": "2022-06-27T17:14:54.551Z"
   },
   {
    "duration": 0,
    "start_time": "2022-06-27T17:14:54.552Z"
   },
   {
    "duration": 0,
    "start_time": "2022-06-27T17:14:54.553Z"
   },
   {
    "duration": 1439736,
    "start_time": "2022-06-27T17:15:06.503Z"
   },
   {
    "duration": 3,
    "start_time": "2022-06-27T17:39:06.241Z"
   },
   {
    "duration": 9,
    "start_time": "2022-06-27T17:39:06.245Z"
   },
   {
    "duration": 83,
    "start_time": "2022-06-27T17:39:06.329Z"
   },
   {
    "duration": 86,
    "start_time": "2022-06-27T17:39:06.414Z"
   },
   {
    "duration": 915707,
    "start_time": "2022-06-27T18:30:54.324Z"
   },
   {
    "duration": 39,
    "start_time": "2022-06-27T18:55:31.513Z"
   },
   {
    "duration": 924781,
    "start_time": "2022-06-27T18:56:22.832Z"
   },
   {
    "duration": 76,
    "start_time": "2022-06-27T19:11:47.615Z"
   },
   {
    "duration": 0,
    "start_time": "2022-06-27T19:11:47.692Z"
   },
   {
    "duration": 0,
    "start_time": "2022-06-27T19:11:47.694Z"
   },
   {
    "duration": 0,
    "start_time": "2022-06-27T19:11:47.696Z"
   },
   {
    "duration": 49,
    "start_time": "2022-06-27T19:16:12.711Z"
   },
   {
    "duration": 925443,
    "start_time": "2022-06-27T19:16:20.932Z"
   },
   {
    "duration": 83,
    "start_time": "2022-06-27T19:31:46.377Z"
   },
   {
    "duration": 5,
    "start_time": "2022-06-27T19:31:46.462Z"
   },
   {
    "duration": 913413,
    "start_time": "2022-06-27T19:32:46.023Z"
   },
   {
    "duration": 1197,
    "start_time": "2022-06-27T19:47:59.438Z"
   },
   {
    "duration": 6,
    "start_time": "2022-06-27T19:48:00.637Z"
   },
   {
    "duration": 9,
    "start_time": "2022-06-27T19:49:26.115Z"
   },
   {
    "duration": 5,
    "start_time": "2022-06-27T20:13:30.087Z"
   },
   {
    "duration": 1208,
    "start_time": "2022-06-28T15:45:06.680Z"
   },
   {
    "duration": 967,
    "start_time": "2022-06-28T15:45:10.644Z"
   },
   {
    "duration": 112,
    "start_time": "2022-06-28T15:45:11.613Z"
   },
   {
    "duration": 17,
    "start_time": "2022-06-28T15:45:11.727Z"
   },
   {
    "duration": 90,
    "start_time": "2022-06-28T15:45:11.811Z"
   },
   {
    "duration": 15,
    "start_time": "2022-06-28T15:45:14.652Z"
   },
   {
    "duration": 781,
    "start_time": "2022-06-28T15:45:16.850Z"
   },
   {
    "duration": 55,
    "start_time": "2022-06-28T15:45:25.000Z"
   },
   {
    "duration": 14,
    "start_time": "2022-06-28T15:45:32.880Z"
   },
   {
    "duration": 92,
    "start_time": "2022-06-28T15:45:37.630Z"
   },
   {
    "duration": 10,
    "start_time": "2022-06-28T15:46:34.721Z"
   },
   {
    "duration": 152,
    "start_time": "2022-06-28T15:46:50.564Z"
   },
   {
    "duration": 358,
    "start_time": "2022-06-28T15:47:03.079Z"
   },
   {
    "duration": 51,
    "start_time": "2022-06-28T15:47:11.477Z"
   },
   {
    "duration": 135,
    "start_time": "2022-06-28T15:47:18.620Z"
   },
   {
    "duration": 151,
    "start_time": "2022-06-28T15:47:24.869Z"
   },
   {
    "duration": 134,
    "start_time": "2022-06-28T15:47:36.948Z"
   },
   {
    "duration": 143,
    "start_time": "2022-06-28T15:47:42.631Z"
   },
   {
    "duration": 417,
    "start_time": "2022-06-28T15:47:55.989Z"
   },
   {
    "duration": 499,
    "start_time": "2022-06-28T15:48:06.102Z"
   },
   {
    "duration": 276,
    "start_time": "2022-06-28T15:48:11.462Z"
   },
   {
    "duration": 411,
    "start_time": "2022-06-28T15:48:16.120Z"
   },
   {
    "duration": 78,
    "start_time": "2022-06-28T15:49:59.489Z"
   },
   {
    "duration": 13,
    "start_time": "2022-06-28T15:50:05.101Z"
   },
   {
    "duration": 9,
    "start_time": "2022-06-28T15:52:37.897Z"
   },
   {
    "duration": 8,
    "start_time": "2022-06-28T15:52:38.028Z"
   },
   {
    "duration": 11,
    "start_time": "2022-06-28T15:52:43.066Z"
   },
   {
    "duration": 9,
    "start_time": "2022-06-28T15:52:43.216Z"
   },
   {
    "duration": 9,
    "start_time": "2022-06-28T15:53:50.715Z"
   },
   {
    "duration": 17,
    "start_time": "2022-06-28T15:53:59.351Z"
   },
   {
    "duration": 9,
    "start_time": "2022-06-28T15:54:51.640Z"
   },
   {
    "duration": 433,
    "start_time": "2022-06-28T15:54:55.666Z"
   },
   {
    "duration": 11,
    "start_time": "2022-06-28T15:55:00.547Z"
   },
   {
    "duration": 13,
    "start_time": "2022-06-28T15:55:00.706Z"
   },
   {
    "duration": 750,
    "start_time": "2022-06-28T15:55:37.568Z"
   },
   {
    "duration": 22,
    "start_time": "2022-06-28T15:59:02.385Z"
   },
   {
    "duration": 24,
    "start_time": "2022-06-28T15:59:19.685Z"
   },
   {
    "duration": 25,
    "start_time": "2022-06-28T15:59:26.985Z"
   },
   {
    "duration": 150,
    "start_time": "2022-06-28T16:00:52.177Z"
   },
   {
    "duration": 0,
    "start_time": "2022-06-28T16:00:52.328Z"
   },
   {
    "duration": 3,
    "start_time": "2022-06-28T16:01:12.848Z"
   },
   {
    "duration": 722,
    "start_time": "2022-06-28T16:01:13.166Z"
   },
   {
    "duration": 103,
    "start_time": "2022-06-28T16:01:13.890Z"
   },
   {
    "duration": 12,
    "start_time": "2022-06-28T16:01:13.995Z"
   },
   {
    "duration": 106,
    "start_time": "2022-06-28T16:01:14.009Z"
   },
   {
    "duration": 12,
    "start_time": "2022-06-28T16:01:14.226Z"
   },
   {
    "duration": 431,
    "start_time": "2022-06-28T16:01:14.629Z"
   },
   {
    "duration": 33,
    "start_time": "2022-06-28T16:01:15.068Z"
   },
   {
    "duration": 11,
    "start_time": "2022-06-28T16:01:15.317Z"
   },
   {
    "duration": 425,
    "start_time": "2022-06-28T16:01:16.217Z"
   },
   {
    "duration": 11,
    "start_time": "2022-06-28T16:01:16.643Z"
   },
   {
    "duration": 21,
    "start_time": "2022-06-28T16:01:16.655Z"
   },
   {
    "duration": 9,
    "start_time": "2022-06-28T16:01:16.797Z"
   },
   {
    "duration": 8,
    "start_time": "2022-06-28T16:01:17.236Z"
   },
   {
    "duration": 8,
    "start_time": "2022-06-28T16:01:18.036Z"
   },
   {
    "duration": 2,
    "start_time": "2022-06-28T16:01:18.617Z"
   },
   {
    "duration": 684,
    "start_time": "2022-06-28T16:01:20.627Z"
   },
   {
    "duration": 19,
    "start_time": "2022-06-28T16:01:21.313Z"
   },
   {
    "duration": 10,
    "start_time": "2022-06-28T16:01:25.688Z"
   },
   {
    "duration": 131,
    "start_time": "2022-06-28T16:01:25.846Z"
   },
   {
    "duration": 9,
    "start_time": "2022-06-28T16:01:26.045Z"
   },
   {
    "duration": 24,
    "start_time": "2022-06-28T16:01:38.446Z"
   },
   {
    "duration": 77,
    "start_time": "2022-06-28T16:01:40.805Z"
   },
   {
    "duration": 5,
    "start_time": "2022-06-28T16:01:46.005Z"
   },
   {
    "duration": 60,
    "start_time": "2022-06-28T16:01:47.100Z"
   },
   {
    "duration": 11,
    "start_time": "2022-06-28T16:01:52.994Z"
   },
   {
    "duration": 59,
    "start_time": "2022-06-28T16:01:55.059Z"
   },
   {
    "duration": 145,
    "start_time": "2022-06-28T16:02:33.621Z"
   },
   {
    "duration": 127,
    "start_time": "2022-06-28T16:02:41.044Z"
   },
   {
    "duration": 127,
    "start_time": "2022-06-28T16:03:20.394Z"
   },
   {
    "duration": 143,
    "start_time": "2022-06-28T16:04:16.366Z"
   },
   {
    "duration": 155,
    "start_time": "2022-06-28T16:05:45.090Z"
   },
   {
    "duration": 22,
    "start_time": "2022-06-28T16:05:48.463Z"
   },
   {
    "duration": 27,
    "start_time": "2022-06-28T16:05:58.438Z"
   },
   {
    "duration": 20,
    "start_time": "2022-06-28T16:06:01.288Z"
   },
   {
    "duration": 174,
    "start_time": "2022-06-28T16:07:18.288Z"
   },
   {
    "duration": 21,
    "start_time": "2022-06-28T16:07:30.279Z"
   },
   {
    "duration": 194,
    "start_time": "2022-06-28T16:07:34.864Z"
   },
   {
    "duration": 23,
    "start_time": "2022-06-28T16:07:35.060Z"
   },
   {
    "duration": 68,
    "start_time": "2022-06-28T16:07:48.247Z"
   },
   {
    "duration": 14,
    "start_time": "2022-06-28T16:07:48.418Z"
   },
   {
    "duration": 67,
    "start_time": "2022-06-28T16:07:48.574Z"
   },
   {
    "duration": 26,
    "start_time": "2022-06-28T16:14:05.561Z"
   },
   {
    "duration": 735,
    "start_time": "2022-06-28T16:14:06.509Z"
   },
   {
    "duration": 109,
    "start_time": "2022-06-28T16:14:07.246Z"
   },
   {
    "duration": 15,
    "start_time": "2022-06-28T16:14:07.368Z"
   },
   {
    "duration": 86,
    "start_time": "2022-06-28T16:14:11.388Z"
   },
   {
    "duration": 14,
    "start_time": "2022-06-28T16:14:11.777Z"
   },
   {
    "duration": 579,
    "start_time": "2022-06-28T16:14:12.067Z"
   },
   {
    "duration": 39,
    "start_time": "2022-06-28T16:14:12.648Z"
   },
   {
    "duration": 14,
    "start_time": "2022-06-28T16:14:12.689Z"
   },
   {
    "duration": 447,
    "start_time": "2022-06-28T16:14:12.920Z"
   },
   {
    "duration": 11,
    "start_time": "2022-06-28T16:14:13.369Z"
   },
   {
    "duration": 9,
    "start_time": "2022-06-28T16:14:13.382Z"
   },
   {
    "duration": 7,
    "start_time": "2022-06-28T16:14:13.393Z"
   },
   {
    "duration": 8,
    "start_time": "2022-06-28T16:14:13.597Z"
   },
   {
    "duration": 9,
    "start_time": "2022-06-28T16:14:13.729Z"
   },
   {
    "duration": 3,
    "start_time": "2022-06-28T16:14:13.870Z"
   },
   {
    "duration": 850,
    "start_time": "2022-06-28T16:14:14.278Z"
   },
   {
    "duration": 24,
    "start_time": "2022-06-28T16:14:15.130Z"
   },
   {
    "duration": 10,
    "start_time": "2022-06-28T16:14:15.167Z"
   },
   {
    "duration": 156,
    "start_time": "2022-06-28T16:14:15.179Z"
   },
   {
    "duration": 8,
    "start_time": "2022-06-28T16:14:15.337Z"
   },
   {
    "duration": 31,
    "start_time": "2022-06-28T16:14:15.348Z"
   },
   {
    "duration": 89,
    "start_time": "2022-06-28T16:14:15.748Z"
   },
   {
    "duration": 5,
    "start_time": "2022-06-28T16:14:16.908Z"
   },
   {
    "duration": 64,
    "start_time": "2022-06-28T16:14:17.104Z"
   },
   {
    "duration": 12,
    "start_time": "2022-06-28T16:14:21.278Z"
   },
   {
    "duration": 61,
    "start_time": "2022-06-28T16:14:21.445Z"
   },
   {
    "duration": 9492,
    "start_time": "2022-06-28T16:14:31.306Z"
   },
   {
    "duration": 195,
    "start_time": "2022-06-28T16:14:40.800Z"
   },
   {
    "duration": 87,
    "start_time": "2022-06-28T16:14:40.997Z"
   },
   {
    "duration": 12,
    "start_time": "2022-06-28T16:14:41.086Z"
   },
   {
    "duration": 76,
    "start_time": "2022-06-28T16:14:41.100Z"
   },
   {
    "duration": 29,
    "start_time": "2022-06-28T16:15:37.502Z"
   },
   {
    "duration": 4,
    "start_time": "2022-06-28T16:17:07.261Z"
   },
   {
    "duration": 760,
    "start_time": "2022-06-28T16:17:07.541Z"
   },
   {
    "duration": 112,
    "start_time": "2022-06-28T16:17:08.303Z"
   },
   {
    "duration": 20,
    "start_time": "2022-06-28T16:17:08.416Z"
   },
   {
    "duration": 110,
    "start_time": "2022-06-28T16:17:08.438Z"
   },
   {
    "duration": 20,
    "start_time": "2022-06-28T16:17:08.550Z"
   },
   {
    "duration": 757,
    "start_time": "2022-06-28T16:17:08.863Z"
   },
   {
    "duration": 51,
    "start_time": "2022-06-28T16:17:09.622Z"
   },
   {
    "duration": 15,
    "start_time": "2022-06-28T16:17:09.675Z"
   },
   {
    "duration": 485,
    "start_time": "2022-06-28T16:17:09.692Z"
   },
   {
    "duration": 10,
    "start_time": "2022-06-28T16:17:10.179Z"
   },
   {
    "duration": 8,
    "start_time": "2022-06-28T16:17:10.191Z"
   },
   {
    "duration": 8,
    "start_time": "2022-06-28T16:17:10.201Z"
   },
   {
    "duration": 8,
    "start_time": "2022-06-28T16:17:10.210Z"
   },
   {
    "duration": 9,
    "start_time": "2022-06-28T16:17:10.219Z"
   },
   {
    "duration": 38,
    "start_time": "2022-06-28T16:17:10.230Z"
   },
   {
    "duration": 817,
    "start_time": "2022-06-28T16:17:10.269Z"
   },
   {
    "duration": 24,
    "start_time": "2022-06-28T16:17:11.088Z"
   },
   {
    "duration": 10,
    "start_time": "2022-06-28T16:17:11.114Z"
   },
   {
    "duration": 169,
    "start_time": "2022-06-28T16:17:11.125Z"
   },
   {
    "duration": 8,
    "start_time": "2022-06-28T16:17:11.296Z"
   },
   {
    "duration": 30,
    "start_time": "2022-06-28T16:17:11.306Z"
   },
   {
    "duration": 98,
    "start_time": "2022-06-28T16:17:11.338Z"
   },
   {
    "duration": 5,
    "start_time": "2022-06-28T16:17:11.439Z"
   },
   {
    "duration": 9258,
    "start_time": "2022-06-28T16:17:12.082Z"
   },
   {
    "duration": 45,
    "start_time": "2022-06-28T16:17:21.342Z"
   },
   {
    "duration": 185,
    "start_time": "2022-06-28T16:17:21.388Z"
   },
   {
    "duration": 64,
    "start_time": "2022-06-28T16:17:21.575Z"
   },
   {
    "duration": 11,
    "start_time": "2022-06-28T16:17:21.641Z"
   },
   {
    "duration": 56,
    "start_time": "2022-06-28T16:17:21.668Z"
   },
   {
    "duration": 13,
    "start_time": "2022-06-28T16:20:34.243Z"
   },
   {
    "duration": 5,
    "start_time": "2022-06-28T16:21:19.666Z"
   },
   {
    "duration": 754,
    "start_time": "2022-06-28T16:21:19.716Z"
   },
   {
    "duration": 114,
    "start_time": "2022-06-28T16:21:20.472Z"
   },
   {
    "duration": 14,
    "start_time": "2022-06-28T16:21:20.588Z"
   },
   {
    "duration": 115,
    "start_time": "2022-06-28T16:21:20.605Z"
   },
   {
    "duration": 15,
    "start_time": "2022-06-28T16:21:20.722Z"
   },
   {
    "duration": 511,
    "start_time": "2022-06-28T16:21:20.739Z"
   },
   {
    "duration": 51,
    "start_time": "2022-06-28T16:21:21.253Z"
   },
   {
    "duration": 15,
    "start_time": "2022-06-28T16:21:21.306Z"
   },
   {
    "duration": 549,
    "start_time": "2022-06-28T16:21:21.323Z"
   },
   {
    "duration": 11,
    "start_time": "2022-06-28T16:21:21.876Z"
   },
   {
    "duration": 9,
    "start_time": "2022-06-28T16:21:21.889Z"
   },
   {
    "duration": 8,
    "start_time": "2022-06-28T16:21:21.901Z"
   },
   {
    "duration": 11,
    "start_time": "2022-06-28T16:21:21.912Z"
   },
   {
    "duration": 45,
    "start_time": "2022-06-28T16:21:21.926Z"
   },
   {
    "duration": 2,
    "start_time": "2022-06-28T16:21:21.973Z"
   },
   {
    "duration": 882,
    "start_time": "2022-06-28T16:21:21.977Z"
   },
   {
    "duration": 29,
    "start_time": "2022-06-28T16:21:22.861Z"
   },
   {
    "duration": 10,
    "start_time": "2022-06-28T16:21:22.891Z"
   },
   {
    "duration": 173,
    "start_time": "2022-06-28T16:21:22.903Z"
   },
   {
    "duration": 8,
    "start_time": "2022-06-28T16:21:23.077Z"
   },
   {
    "duration": 30,
    "start_time": "2022-06-28T16:21:23.087Z"
   },
   {
    "duration": 117,
    "start_time": "2022-06-28T16:21:23.119Z"
   },
   {
    "duration": 5,
    "start_time": "2022-06-28T16:21:23.238Z"
   },
   {
    "duration": 9329,
    "start_time": "2022-06-28T16:21:23.244Z"
   },
   {
    "duration": 30,
    "start_time": "2022-06-28T16:21:32.575Z"
   },
   {
    "duration": 187,
    "start_time": "2022-06-28T16:21:32.607Z"
   },
   {
    "duration": 56,
    "start_time": "2022-06-28T16:21:32.796Z"
   },
   {
    "duration": 12,
    "start_time": "2022-06-28T16:21:32.866Z"
   },
   {
    "duration": 75,
    "start_time": "2022-06-28T16:21:32.879Z"
   },
   {
    "duration": 142,
    "start_time": "2022-06-28T16:21:32.956Z"
   },
   {
    "duration": 4,
    "start_time": "2022-06-28T16:21:33.100Z"
   },
   {
    "duration": 1259333,
    "start_time": "2022-06-28T16:21:33.106Z"
   },
   {
    "duration": 3,
    "start_time": "2022-06-28T16:42:32.441Z"
   },
   {
    "duration": 10,
    "start_time": "2022-06-28T16:42:32.445Z"
   },
   {
    "duration": 8,
    "start_time": "2022-06-28T16:42:32.457Z"
   },
   {
    "duration": 330302,
    "start_time": "2022-06-28T16:42:32.467Z"
   },
   {
    "duration": 1048,
    "start_time": "2022-06-28T16:48:02.771Z"
   },
   {
    "duration": 7,
    "start_time": "2022-06-28T16:48:03.829Z"
   },
   {
    "duration": 3,
    "start_time": "2022-06-28T16:48:03.838Z"
   },
   {
    "duration": 810,
    "start_time": "2022-06-28T16:48:03.843Z"
   },
   {
    "duration": 14,
    "start_time": "2022-06-28T16:48:04.655Z"
   },
   {
    "duration": 41,
    "start_time": "2022-06-28T16:48:04.672Z"
   },
   {
    "duration": 118,
    "start_time": "2022-06-28T16:48:04.715Z"
   },
   {
    "duration": 54534,
    "start_time": "2022-06-28T16:48:04.835Z"
   },
   {
    "duration": 4,
    "start_time": "2022-06-28T16:48:59.370Z"
   },
   {
    "duration": 12,
    "start_time": "2022-06-28T16:48:59.376Z"
   },
   {
    "duration": 12692,
    "start_time": "2022-06-28T16:48:59.390Z"
   },
   {
    "duration": 906,
    "start_time": "2022-06-28T16:49:12.083Z"
   },
   {
    "duration": 5,
    "start_time": "2022-06-28T16:49:12.991Z"
   },
   {
    "duration": 1418,
    "start_time": "2022-06-28T16:50:17.696Z"
   },
   {
    "duration": 802,
    "start_time": "2022-06-28T16:50:19.116Z"
   },
   {
    "duration": 130,
    "start_time": "2022-06-28T16:50:19.919Z"
   },
   {
    "duration": 22,
    "start_time": "2022-06-28T16:50:20.051Z"
   },
   {
    "duration": 102,
    "start_time": "2022-06-28T16:50:20.075Z"
   },
   {
    "duration": 15,
    "start_time": "2022-06-28T16:50:20.178Z"
   },
   {
    "duration": 468,
    "start_time": "2022-06-28T16:50:20.194Z"
   },
   {
    "duration": 50,
    "start_time": "2022-06-28T16:50:20.667Z"
   },
   {
    "duration": 13,
    "start_time": "2022-06-28T16:50:20.719Z"
   },
   {
    "duration": 539,
    "start_time": "2022-06-28T16:50:20.735Z"
   },
   {
    "duration": 11,
    "start_time": "2022-06-28T16:50:21.276Z"
   },
   {
    "duration": 8,
    "start_time": "2022-06-28T16:50:21.289Z"
   },
   {
    "duration": 8,
    "start_time": "2022-06-28T16:50:21.299Z"
   },
   {
    "duration": 10,
    "start_time": "2022-06-28T16:50:21.308Z"
   },
   {
    "duration": 14,
    "start_time": "2022-06-28T16:50:21.320Z"
   },
   {
    "duration": 3,
    "start_time": "2022-06-28T16:50:21.335Z"
   },
   {
    "duration": 803,
    "start_time": "2022-06-28T16:50:21.368Z"
   },
   {
    "duration": 23,
    "start_time": "2022-06-28T16:50:22.172Z"
   },
   {
    "duration": 9,
    "start_time": "2022-06-28T16:50:22.197Z"
   },
   {
    "duration": 178,
    "start_time": "2022-06-28T16:50:22.208Z"
   },
   {
    "duration": 7,
    "start_time": "2022-06-28T16:50:22.388Z"
   },
   {
    "duration": 29,
    "start_time": "2022-06-28T16:50:22.397Z"
   },
   {
    "duration": 112,
    "start_time": "2022-06-28T16:50:22.427Z"
   },
   {
    "duration": 5,
    "start_time": "2022-06-28T16:50:22.541Z"
   },
   {
    "duration": 8891,
    "start_time": "2022-06-28T16:50:22.547Z"
   },
   {
    "duration": 32,
    "start_time": "2022-06-28T16:50:31.440Z"
   },
   {
    "duration": 178,
    "start_time": "2022-06-28T16:50:31.474Z"
   },
   {
    "duration": 58,
    "start_time": "2022-06-28T16:50:31.657Z"
   },
   {
    "duration": 11,
    "start_time": "2022-06-28T16:50:31.716Z"
   },
   {
    "duration": 72,
    "start_time": "2022-06-28T16:50:31.729Z"
   },
   {
    "duration": 146,
    "start_time": "2022-06-28T16:50:31.803Z"
   },
   {
    "duration": 2,
    "start_time": "2022-06-28T16:50:31.951Z"
   },
   {
    "duration": 1264963,
    "start_time": "2022-06-28T16:50:31.955Z"
   },
   {
    "duration": 5,
    "start_time": "2022-06-28T17:11:36.921Z"
   },
   {
    "duration": 27,
    "start_time": "2022-06-28T17:11:36.930Z"
   },
   {
    "duration": 13,
    "start_time": "2022-06-28T17:11:36.960Z"
   },
   {
    "duration": 368705,
    "start_time": "2022-06-28T17:11:36.975Z"
   },
   {
    "duration": 1087,
    "start_time": "2022-06-28T17:17:45.682Z"
   },
   {
    "duration": 5,
    "start_time": "2022-06-28T17:17:46.771Z"
   },
   {
    "duration": 5,
    "start_time": "2022-06-28T17:17:46.778Z"
   },
   {
    "duration": 796,
    "start_time": "2022-06-28T17:17:46.785Z"
   },
   {
    "duration": 10,
    "start_time": "2022-06-28T17:17:47.583Z"
   },
   {
    "duration": 26,
    "start_time": "2022-06-28T17:17:47.595Z"
   },
   {
    "duration": 133,
    "start_time": "2022-06-28T17:17:47.623Z"
   },
   {
    "duration": 34510,
    "start_time": "2022-06-28T17:17:47.758Z"
   },
   {
    "duration": 3,
    "start_time": "2022-06-28T17:18:22.271Z"
   },
   {
    "duration": 6,
    "start_time": "2022-06-28T17:18:22.277Z"
   },
   {
    "duration": 13286,
    "start_time": "2022-06-28T17:18:22.285Z"
   },
   {
    "duration": 1017,
    "start_time": "2022-06-28T17:18:35.574Z"
   },
   {
    "duration": 6,
    "start_time": "2022-06-28T17:18:36.594Z"
   },
   {
    "duration": 49655,
    "start_time": "2022-06-28T17:24:11.321Z"
   },
   {
    "duration": 4,
    "start_time": "2022-06-28T17:25:00.978Z"
   },
   {
    "duration": 23,
    "start_time": "2022-06-28T17:25:00.984Z"
   },
   {
    "duration": 13469,
    "start_time": "2022-06-28T17:25:01.009Z"
   },
   {
    "duration": 1093,
    "start_time": "2022-06-28T17:25:14.480Z"
   },
   {
    "duration": 6,
    "start_time": "2022-06-28T17:25:15.575Z"
   }
  ],
  "kernelspec": {
   "display_name": "Python 3 (ipykernel)",
   "language": "python",
   "name": "python3"
  },
  "language_info": {
   "codemirror_mode": {
    "name": "ipython",
    "version": 3
   },
   "file_extension": ".py",
   "mimetype": "text/x-python",
   "name": "python",
   "nbconvert_exporter": "python",
   "pygments_lexer": "ipython3",
   "version": "3.9.10"
  },
  "toc": {
   "base_numbering": 1,
   "nav_menu": {},
   "number_sections": true,
   "sideBar": true,
   "skip_h1_title": true,
   "title_cell": "Table of Contents",
   "title_sidebar": "Contents",
   "toc_cell": false,
   "toc_position": {},
   "toc_section_display": true,
   "toc_window_display": false
  }
 },
 "nbformat": 4,
 "nbformat_minor": 2
}
