{
 "cells": [
  {
   "cell_type": "markdown",
   "metadata": {
    "toc": true
   },
   "source": [
    "<h1>Содержание<span class=\"tocSkip\"></span></h1>\n",
    "<div class=\"toc\"><ul class=\"toc-item\"><li><span><a href=\"#Изучение-данных-из-файла\" data-toc-modified-id=\"Изучение-данных-из-файла-1\"><span class=\"toc-item-num\">1&nbsp;&nbsp;</span>Изучение данных из файла</a></span><ul class=\"toc-item\"><li><span><a href=\"#Вывод\" data-toc-modified-id=\"Вывод-1.1\"><span class=\"toc-item-num\">1.1&nbsp;&nbsp;</span>Вывод</a></span></li></ul></li><li><span><a href=\"#Предобработка-данных\" data-toc-modified-id=\"Предобработка-данных-2\"><span class=\"toc-item-num\">2&nbsp;&nbsp;</span>Предобработка данных</a></span><ul class=\"toc-item\"><li><ul class=\"toc-item\"><li><span><a href=\"#Заполнение-пропусков:\" data-toc-modified-id=\"Заполнение-пропусков:-2.0.1\"><span class=\"toc-item-num\">2.0.1&nbsp;&nbsp;</span>Заполнение пропусков:</a></span></li><li><span><a href=\"#Изменение-типов-данных:\" data-toc-modified-id=\"Изменение-типов-данных:-2.0.2\"><span class=\"toc-item-num\">2.0.2&nbsp;&nbsp;</span>Изменение типов данных:</a></span></li></ul></li><li><span><a href=\"#Вывод\" data-toc-modified-id=\"Вывод-2.1\"><span class=\"toc-item-num\">2.1&nbsp;&nbsp;</span>Вывод</a></span></li></ul></li><li><span><a href=\"#Расчёты-и-добавление-результатов-в-таблицу\" data-toc-modified-id=\"Расчёты-и-добавление-результатов-в-таблицу-3\"><span class=\"toc-item-num\">3&nbsp;&nbsp;</span>Расчёты и добавление результатов в таблицу</a></span><ul class=\"toc-item\"><li><span><a href=\"#Вывод\" data-toc-modified-id=\"Вывод-3.1\"><span class=\"toc-item-num\">3.1&nbsp;&nbsp;</span>Вывод</a></span></li></ul></li><li><span><a href=\"#Исследовательский-анализ-данных\" data-toc-modified-id=\"Исследовательский-анализ-данных-4\"><span class=\"toc-item-num\">4&nbsp;&nbsp;</span>Исследовательский анализ данных</a></span><ul class=\"toc-item\"><li><span><a href=\"#Изучим-следующие-параметры:-площадь,-цена,-число-комнат,-высота-потолков.-Построим-гистограммы-для-каждого-параметра.\" data-toc-modified-id=\"Изучим-следующие-параметры:-площадь,-цена,-число-комнат,-высота-потолков.-Построим-гистограммы-для-каждого-параметра.-4.1\"><span class=\"toc-item-num\">4.1&nbsp;&nbsp;</span>Изучим следующие параметры: площадь, цена, число комнат, высота потолков. Построим гистограммы для каждого параметра.</a></span><ul class=\"toc-item\"><li><span><a href=\"#Изучим-общую-площадь:\" data-toc-modified-id=\"Изучим-общую-площадь:-4.1.1\"><span class=\"toc-item-num\">4.1.1&nbsp;&nbsp;</span>Изучим общую площадь:</a></span></li><li><span><a href=\"#Изучим-цены:\" data-toc-modified-id=\"Изучим-цены:-4.1.2\"><span class=\"toc-item-num\">4.1.2&nbsp;&nbsp;</span>Изучим цены:</a></span></li><li><span><a href=\"#Изучим-количество-комнат:\" data-toc-modified-id=\"Изучим-количество-комнат:-4.1.3\"><span class=\"toc-item-num\">4.1.3&nbsp;&nbsp;</span>Изучим количество комнат:</a></span></li><li><span><a href=\"#Изучим-высоту-потолков:\" data-toc-modified-id=\"Изучим-высоту-потолков:-4.1.4\"><span class=\"toc-item-num\">4.1.4&nbsp;&nbsp;</span>Изучим высоту потолков:</a></span></li><li><span><a href=\"#Изучим-время-продажи-квартиры:\" data-toc-modified-id=\"Изучим-время-продажи-квартиры:-4.1.5\"><span class=\"toc-item-num\">4.1.5&nbsp;&nbsp;</span>Изучим время продажи квартиры:</a></span></li><li><span><a href=\"#Гистограммы-для-каждого-параметра:\" data-toc-modified-id=\"Гистограммы-для-каждого-параметра:-4.1.6\"><span class=\"toc-item-num\">4.1.6&nbsp;&nbsp;</span>Гистограммы для каждого параметра:</a></span></li></ul></li><li><span><a href=\"#Какие-факторы-больше-всего-влияют-на-стоимость-квартиры?\" data-toc-modified-id=\"Какие-факторы-больше-всего-влияют-на-стоимость-квартиры?-4.2\"><span class=\"toc-item-num\">4.2&nbsp;&nbsp;</span>Какие факторы больше всего влияют на стоимость квартиры?</a></span><ul class=\"toc-item\"><li><span><a href=\"#Проверим,-зависит-ли-цена-от-общей-площади,-числа-комнат-и-удалённости-от-центра,-найдем-коэффициенты-корреляции-Пирсона:\" data-toc-modified-id=\"Проверим,-зависит-ли-цена-от-общей-площади,-числа-комнат-и-удалённости-от-центра,-найдем-коэффициенты-корреляции-Пирсона:-4.2.1\"><span class=\"toc-item-num\">4.2.1&nbsp;&nbsp;</span>Проверим, зависит ли цена от общей площади, числа комнат и удалённости от центра, найдем коэффициенты корреляции Пирсона:</a></span></li><li><span><a href=\"#Изучим-зависимость-цены-от-того,-на-каком-этаже-расположена-квартира:-первом,-последнем-или-другом:\" data-toc-modified-id=\"Изучим-зависимость-цены-от-того,-на-каком-этаже-расположена-квартира:-первом,-последнем-или-другом:-4.2.2\"><span class=\"toc-item-num\">4.2.2&nbsp;&nbsp;</span>Изучим зависимость цены от того, на каком этаже расположена квартира: первом, последнем или другом:</a></span></li><li><span><a href=\"#Изучим-зависимость-цены-от-даты-размещения:-дня-недели,-месяца-и-года:\" data-toc-modified-id=\"Изучим-зависимость-цены-от-даты-размещения:-дня-недели,-месяца-и-года:-4.2.3\"><span class=\"toc-item-num\">4.2.3&nbsp;&nbsp;</span>Изучим зависимость цены от даты размещения: дня недели, месяца и года:</a></span><ul class=\"toc-item\"><li><span><a href=\"#Зависимость-цены-от-дня-недели:\" data-toc-modified-id=\"Зависимость-цены-от-дня-недели:-4.2.3.1\"><span class=\"toc-item-num\">4.2.3.1&nbsp;&nbsp;</span>Зависимость цены от дня недели:</a></span></li><li><span><a href=\"#Зависимость-цены-от-месяца:\" data-toc-modified-id=\"Зависимость-цены-от-месяца:-4.2.3.2\"><span class=\"toc-item-num\">4.2.3.2&nbsp;&nbsp;</span>Зависимость цены от месяца:</a></span></li><li><span><a href=\"#Зависимость-цены-от-года:\" data-toc-modified-id=\"Зависимость-цены-от-года:-4.2.3.3\"><span class=\"toc-item-num\">4.2.3.3&nbsp;&nbsp;</span>Зависимость цены от года:</a></span></li></ul></li></ul></li><li><span><a href=\"#Анализ-населенных-пунктов\" data-toc-modified-id=\"Анализ-населенных-пунктов-4.3\"><span class=\"toc-item-num\">4.3&nbsp;&nbsp;</span>Анализ населенных пунктов</a></span></li><li><span><a href=\"#Изучение-предложения-квартир-в-Санкт-Петербурге\" data-toc-modified-id=\"Изучение-предложения-квартир-в-Санкт-Петербурге-4.4\"><span class=\"toc-item-num\">4.4&nbsp;&nbsp;</span>Изучение предложения квартир в Санкт-Петербурге</a></span></li><li><span><a href=\"#Проанализируем-квартиры-в-центре-города\" data-toc-modified-id=\"Проанализируем-квартиры-в-центре-города-4.5\"><span class=\"toc-item-num\">4.5&nbsp;&nbsp;</span>Проанализируем квартиры в центре города</a></span></li></ul></li><li><span><a href=\"#Общий-вывод\" data-toc-modified-id=\"Общий-вывод-5\"><span class=\"toc-item-num\">5&nbsp;&nbsp;</span>Общий вывод</a></span></li><li><span><a href=\"#Чек-лист-готовности-проекта\" data-toc-modified-id=\"Чек-лист-готовности-проекта-6\"><span class=\"toc-item-num\">6&nbsp;&nbsp;</span>Чек-лист готовности проекта</a></span></li></ul></div>"
   ]
  },
  {
   "cell_type": "markdown",
   "metadata": {},
   "source": [
    "# Исследование объявлений о продаже квартир"
   ]
  },
  {
   "cell_type": "markdown",
   "metadata": {},
   "source": [
    "## Изучение данных из файла"
   ]
  },
  {
   "cell_type": "markdown",
   "metadata": {},
   "source": [
    "Основная цель проекта - установление параметров определеяющих рыночную стоимость объектов недвижимости.\n",
    "\n",
    "Изучим основную информацию о данных:"
   ]
  },
  {
   "cell_type": "code",
   "execution_count": 1,
   "metadata": {
    "scrolled": true
   },
   "outputs": [
    {
     "data": {
      "text/html": [
       "<div>\n",
       "<style scoped>\n",
       "    .dataframe tbody tr th:only-of-type {\n",
       "        vertical-align: middle;\n",
       "    }\n",
       "\n",
       "    .dataframe tbody tr th {\n",
       "        vertical-align: top;\n",
       "    }\n",
       "\n",
       "    .dataframe thead th {\n",
       "        text-align: right;\n",
       "    }\n",
       "</style>\n",
       "<table border=\"1\" class=\"dataframe\">\n",
       "  <thead>\n",
       "    <tr style=\"text-align: right;\">\n",
       "      <th></th>\n",
       "      <th>total_images</th>\n",
       "      <th>last_price</th>\n",
       "      <th>total_area</th>\n",
       "      <th>first_day_exposition</th>\n",
       "      <th>rooms</th>\n",
       "      <th>ceiling_height</th>\n",
       "      <th>floors_total</th>\n",
       "      <th>living_area</th>\n",
       "      <th>floor</th>\n",
       "      <th>is_apartment</th>\n",
       "      <th>...</th>\n",
       "      <th>kitchen_area</th>\n",
       "      <th>balcony</th>\n",
       "      <th>locality_name</th>\n",
       "      <th>airports_nearest</th>\n",
       "      <th>cityCenters_nearest</th>\n",
       "      <th>parks_around3000</th>\n",
       "      <th>parks_nearest</th>\n",
       "      <th>ponds_around3000</th>\n",
       "      <th>ponds_nearest</th>\n",
       "      <th>days_exposition</th>\n",
       "    </tr>\n",
       "  </thead>\n",
       "  <tbody>\n",
       "    <tr>\n",
       "      <th>0</th>\n",
       "      <td>20</td>\n",
       "      <td>13000000.0</td>\n",
       "      <td>108.0</td>\n",
       "      <td>2019-03-07T00:00:00</td>\n",
       "      <td>3</td>\n",
       "      <td>2.70</td>\n",
       "      <td>16.0</td>\n",
       "      <td>51.0</td>\n",
       "      <td>8</td>\n",
       "      <td>NaN</td>\n",
       "      <td>...</td>\n",
       "      <td>25.0</td>\n",
       "      <td>NaN</td>\n",
       "      <td>Санкт-Петербург</td>\n",
       "      <td>18863.0</td>\n",
       "      <td>16028.0</td>\n",
       "      <td>1.0</td>\n",
       "      <td>482.0</td>\n",
       "      <td>2.0</td>\n",
       "      <td>755.0</td>\n",
       "      <td>NaN</td>\n",
       "    </tr>\n",
       "    <tr>\n",
       "      <th>1</th>\n",
       "      <td>7</td>\n",
       "      <td>3350000.0</td>\n",
       "      <td>40.4</td>\n",
       "      <td>2018-12-04T00:00:00</td>\n",
       "      <td>1</td>\n",
       "      <td>NaN</td>\n",
       "      <td>11.0</td>\n",
       "      <td>18.6</td>\n",
       "      <td>1</td>\n",
       "      <td>NaN</td>\n",
       "      <td>...</td>\n",
       "      <td>11.0</td>\n",
       "      <td>2.0</td>\n",
       "      <td>посёлок Шушары</td>\n",
       "      <td>12817.0</td>\n",
       "      <td>18603.0</td>\n",
       "      <td>0.0</td>\n",
       "      <td>NaN</td>\n",
       "      <td>0.0</td>\n",
       "      <td>NaN</td>\n",
       "      <td>81.0</td>\n",
       "    </tr>\n",
       "    <tr>\n",
       "      <th>2</th>\n",
       "      <td>10</td>\n",
       "      <td>5196000.0</td>\n",
       "      <td>56.0</td>\n",
       "      <td>2015-08-20T00:00:00</td>\n",
       "      <td>2</td>\n",
       "      <td>NaN</td>\n",
       "      <td>5.0</td>\n",
       "      <td>34.3</td>\n",
       "      <td>4</td>\n",
       "      <td>NaN</td>\n",
       "      <td>...</td>\n",
       "      <td>8.3</td>\n",
       "      <td>0.0</td>\n",
       "      <td>Санкт-Петербург</td>\n",
       "      <td>21741.0</td>\n",
       "      <td>13933.0</td>\n",
       "      <td>1.0</td>\n",
       "      <td>90.0</td>\n",
       "      <td>2.0</td>\n",
       "      <td>574.0</td>\n",
       "      <td>558.0</td>\n",
       "    </tr>\n",
       "    <tr>\n",
       "      <th>3</th>\n",
       "      <td>0</td>\n",
       "      <td>64900000.0</td>\n",
       "      <td>159.0</td>\n",
       "      <td>2015-07-24T00:00:00</td>\n",
       "      <td>3</td>\n",
       "      <td>NaN</td>\n",
       "      <td>14.0</td>\n",
       "      <td>NaN</td>\n",
       "      <td>9</td>\n",
       "      <td>NaN</td>\n",
       "      <td>...</td>\n",
       "      <td>NaN</td>\n",
       "      <td>0.0</td>\n",
       "      <td>Санкт-Петербург</td>\n",
       "      <td>28098.0</td>\n",
       "      <td>6800.0</td>\n",
       "      <td>2.0</td>\n",
       "      <td>84.0</td>\n",
       "      <td>3.0</td>\n",
       "      <td>234.0</td>\n",
       "      <td>424.0</td>\n",
       "    </tr>\n",
       "    <tr>\n",
       "      <th>4</th>\n",
       "      <td>2</td>\n",
       "      <td>10000000.0</td>\n",
       "      <td>100.0</td>\n",
       "      <td>2018-06-19T00:00:00</td>\n",
       "      <td>2</td>\n",
       "      <td>3.03</td>\n",
       "      <td>14.0</td>\n",
       "      <td>32.0</td>\n",
       "      <td>13</td>\n",
       "      <td>NaN</td>\n",
       "      <td>...</td>\n",
       "      <td>41.0</td>\n",
       "      <td>NaN</td>\n",
       "      <td>Санкт-Петербург</td>\n",
       "      <td>31856.0</td>\n",
       "      <td>8098.0</td>\n",
       "      <td>2.0</td>\n",
       "      <td>112.0</td>\n",
       "      <td>1.0</td>\n",
       "      <td>48.0</td>\n",
       "      <td>121.0</td>\n",
       "    </tr>\n",
       "  </tbody>\n",
       "</table>\n",
       "<p>5 rows × 22 columns</p>\n",
       "</div>"
      ],
      "text/plain": [
       "   total_images  last_price  total_area first_day_exposition  rooms  \\\n",
       "0            20  13000000.0       108.0  2019-03-07T00:00:00      3   \n",
       "1             7   3350000.0        40.4  2018-12-04T00:00:00      1   \n",
       "2            10   5196000.0        56.0  2015-08-20T00:00:00      2   \n",
       "3             0  64900000.0       159.0  2015-07-24T00:00:00      3   \n",
       "4             2  10000000.0       100.0  2018-06-19T00:00:00      2   \n",
       "\n",
       "   ceiling_height  floors_total  living_area  floor is_apartment  ...  \\\n",
       "0            2.70          16.0         51.0      8          NaN  ...   \n",
       "1             NaN          11.0         18.6      1          NaN  ...   \n",
       "2             NaN           5.0         34.3      4          NaN  ...   \n",
       "3             NaN          14.0          NaN      9          NaN  ...   \n",
       "4            3.03          14.0         32.0     13          NaN  ...   \n",
       "\n",
       "   kitchen_area  balcony    locality_name  airports_nearest  \\\n",
       "0          25.0      NaN  Санкт-Петербург           18863.0   \n",
       "1          11.0      2.0   посёлок Шушары           12817.0   \n",
       "2           8.3      0.0  Санкт-Петербург           21741.0   \n",
       "3           NaN      0.0  Санкт-Петербург           28098.0   \n",
       "4          41.0      NaN  Санкт-Петербург           31856.0   \n",
       "\n",
       "  cityCenters_nearest  parks_around3000  parks_nearest  ponds_around3000  \\\n",
       "0             16028.0               1.0          482.0               2.0   \n",
       "1             18603.0               0.0            NaN               0.0   \n",
       "2             13933.0               1.0           90.0               2.0   \n",
       "3              6800.0               2.0           84.0               3.0   \n",
       "4              8098.0               2.0          112.0               1.0   \n",
       "\n",
       "   ponds_nearest  days_exposition  \n",
       "0          755.0              NaN  \n",
       "1            NaN             81.0  \n",
       "2          574.0            558.0  \n",
       "3          234.0            424.0  \n",
       "4           48.0            121.0  \n",
       "\n",
       "[5 rows x 22 columns]"
      ]
     },
     "execution_count": 1,
     "metadata": {},
     "output_type": "execute_result"
    }
   ],
   "source": [
    "import pandas as pd\n",
    "import matplotlib.pyplot as plt\n",
    "import warnings\n",
    "warnings.filterwarnings('ignore')\n",
    "df = pd.read_csv('/datasets/real_estate_data.csv', sep = '\\t')\n",
    "df.head()"
   ]
  },
  {
   "cell_type": "code",
   "execution_count": 2,
   "metadata": {},
   "outputs": [
    {
     "name": "stdout",
     "output_type": "stream",
     "text": [
      "<class 'pandas.core.frame.DataFrame'>\n",
      "RangeIndex: 23699 entries, 0 to 23698\n",
      "Data columns (total 22 columns):\n",
      " #   Column                Non-Null Count  Dtype  \n",
      "---  ------                --------------  -----  \n",
      " 0   total_images          23699 non-null  int64  \n",
      " 1   last_price            23699 non-null  float64\n",
      " 2   total_area            23699 non-null  float64\n",
      " 3   first_day_exposition  23699 non-null  object \n",
      " 4   rooms                 23699 non-null  int64  \n",
      " 5   ceiling_height        14504 non-null  float64\n",
      " 6   floors_total          23613 non-null  float64\n",
      " 7   living_area           21796 non-null  float64\n",
      " 8   floor                 23699 non-null  int64  \n",
      " 9   is_apartment          2775 non-null   object \n",
      " 10  studio                23699 non-null  bool   \n",
      " 11  open_plan             23699 non-null  bool   \n",
      " 12  kitchen_area          21421 non-null  float64\n",
      " 13  balcony               12180 non-null  float64\n",
      " 14  locality_name         23650 non-null  object \n",
      " 15  airports_nearest      18157 non-null  float64\n",
      " 16  cityCenters_nearest   18180 non-null  float64\n",
      " 17  parks_around3000      18181 non-null  float64\n",
      " 18  parks_nearest         8079 non-null   float64\n",
      " 19  ponds_around3000      18181 non-null  float64\n",
      " 20  ponds_nearest         9110 non-null   float64\n",
      " 21  days_exposition       20518 non-null  float64\n",
      "dtypes: bool(2), float64(14), int64(3), object(3)\n",
      "memory usage: 3.7+ MB\n"
     ]
    }
   ],
   "source": [
    "df.info()"
   ]
  },
  {
   "cell_type": "code",
   "execution_count": 3,
   "metadata": {
    "scrolled": true
   },
   "outputs": [
    {
     "data": {
      "text/html": [
       "<div>\n",
       "<style scoped>\n",
       "    .dataframe tbody tr th:only-of-type {\n",
       "        vertical-align: middle;\n",
       "    }\n",
       "\n",
       "    .dataframe tbody tr th {\n",
       "        vertical-align: top;\n",
       "    }\n",
       "\n",
       "    .dataframe thead th {\n",
       "        text-align: right;\n",
       "    }\n",
       "</style>\n",
       "<table border=\"1\" class=\"dataframe\">\n",
       "  <thead>\n",
       "    <tr style=\"text-align: right;\">\n",
       "      <th></th>\n",
       "      <th>total_images</th>\n",
       "      <th>last_price</th>\n",
       "      <th>total_area</th>\n",
       "      <th>rooms</th>\n",
       "      <th>ceiling_height</th>\n",
       "      <th>floors_total</th>\n",
       "      <th>living_area</th>\n",
       "      <th>floor</th>\n",
       "      <th>kitchen_area</th>\n",
       "      <th>balcony</th>\n",
       "      <th>airports_nearest</th>\n",
       "      <th>cityCenters_nearest</th>\n",
       "      <th>parks_around3000</th>\n",
       "      <th>parks_nearest</th>\n",
       "      <th>ponds_around3000</th>\n",
       "      <th>ponds_nearest</th>\n",
       "      <th>days_exposition</th>\n",
       "    </tr>\n",
       "  </thead>\n",
       "  <tbody>\n",
       "    <tr>\n",
       "      <th>count</th>\n",
       "      <td>23699.000000</td>\n",
       "      <td>2.369900e+04</td>\n",
       "      <td>23699.000000</td>\n",
       "      <td>23699.000000</td>\n",
       "      <td>14504.000000</td>\n",
       "      <td>23613.000000</td>\n",
       "      <td>21796.000000</td>\n",
       "      <td>23699.000000</td>\n",
       "      <td>21421.000000</td>\n",
       "      <td>12180.000000</td>\n",
       "      <td>18157.000000</td>\n",
       "      <td>18180.000000</td>\n",
       "      <td>18181.000000</td>\n",
       "      <td>8079.000000</td>\n",
       "      <td>18181.000000</td>\n",
       "      <td>9110.000000</td>\n",
       "      <td>20518.000000</td>\n",
       "    </tr>\n",
       "    <tr>\n",
       "      <th>mean</th>\n",
       "      <td>9.858475</td>\n",
       "      <td>6.541549e+06</td>\n",
       "      <td>60.348651</td>\n",
       "      <td>2.070636</td>\n",
       "      <td>2.771499</td>\n",
       "      <td>10.673824</td>\n",
       "      <td>34.457852</td>\n",
       "      <td>5.892358</td>\n",
       "      <td>10.569807</td>\n",
       "      <td>1.150082</td>\n",
       "      <td>28793.672193</td>\n",
       "      <td>14191.277833</td>\n",
       "      <td>0.611408</td>\n",
       "      <td>490.804555</td>\n",
       "      <td>0.770255</td>\n",
       "      <td>517.980900</td>\n",
       "      <td>180.888634</td>\n",
       "    </tr>\n",
       "    <tr>\n",
       "      <th>std</th>\n",
       "      <td>5.682529</td>\n",
       "      <td>1.088701e+07</td>\n",
       "      <td>35.654083</td>\n",
       "      <td>1.078405</td>\n",
       "      <td>1.261056</td>\n",
       "      <td>6.597173</td>\n",
       "      <td>22.030445</td>\n",
       "      <td>4.885249</td>\n",
       "      <td>5.905438</td>\n",
       "      <td>1.071300</td>\n",
       "      <td>12630.880622</td>\n",
       "      <td>8608.386210</td>\n",
       "      <td>0.802074</td>\n",
       "      <td>342.317995</td>\n",
       "      <td>0.938346</td>\n",
       "      <td>277.720643</td>\n",
       "      <td>219.727988</td>\n",
       "    </tr>\n",
       "    <tr>\n",
       "      <th>min</th>\n",
       "      <td>0.000000</td>\n",
       "      <td>1.219000e+04</td>\n",
       "      <td>12.000000</td>\n",
       "      <td>0.000000</td>\n",
       "      <td>1.000000</td>\n",
       "      <td>1.000000</td>\n",
       "      <td>2.000000</td>\n",
       "      <td>1.000000</td>\n",
       "      <td>1.300000</td>\n",
       "      <td>0.000000</td>\n",
       "      <td>0.000000</td>\n",
       "      <td>181.000000</td>\n",
       "      <td>0.000000</td>\n",
       "      <td>1.000000</td>\n",
       "      <td>0.000000</td>\n",
       "      <td>13.000000</td>\n",
       "      <td>1.000000</td>\n",
       "    </tr>\n",
       "    <tr>\n",
       "      <th>25%</th>\n",
       "      <td>6.000000</td>\n",
       "      <td>3.400000e+06</td>\n",
       "      <td>40.000000</td>\n",
       "      <td>1.000000</td>\n",
       "      <td>2.520000</td>\n",
       "      <td>5.000000</td>\n",
       "      <td>18.600000</td>\n",
       "      <td>2.000000</td>\n",
       "      <td>7.000000</td>\n",
       "      <td>0.000000</td>\n",
       "      <td>18585.000000</td>\n",
       "      <td>9238.000000</td>\n",
       "      <td>0.000000</td>\n",
       "      <td>288.000000</td>\n",
       "      <td>0.000000</td>\n",
       "      <td>294.000000</td>\n",
       "      <td>45.000000</td>\n",
       "    </tr>\n",
       "    <tr>\n",
       "      <th>50%</th>\n",
       "      <td>9.000000</td>\n",
       "      <td>4.650000e+06</td>\n",
       "      <td>52.000000</td>\n",
       "      <td>2.000000</td>\n",
       "      <td>2.650000</td>\n",
       "      <td>9.000000</td>\n",
       "      <td>30.000000</td>\n",
       "      <td>4.000000</td>\n",
       "      <td>9.100000</td>\n",
       "      <td>1.000000</td>\n",
       "      <td>26726.000000</td>\n",
       "      <td>13098.500000</td>\n",
       "      <td>0.000000</td>\n",
       "      <td>455.000000</td>\n",
       "      <td>1.000000</td>\n",
       "      <td>502.000000</td>\n",
       "      <td>95.000000</td>\n",
       "    </tr>\n",
       "    <tr>\n",
       "      <th>75%</th>\n",
       "      <td>14.000000</td>\n",
       "      <td>6.800000e+06</td>\n",
       "      <td>69.900000</td>\n",
       "      <td>3.000000</td>\n",
       "      <td>2.800000</td>\n",
       "      <td>16.000000</td>\n",
       "      <td>42.300000</td>\n",
       "      <td>8.000000</td>\n",
       "      <td>12.000000</td>\n",
       "      <td>2.000000</td>\n",
       "      <td>37273.000000</td>\n",
       "      <td>16293.000000</td>\n",
       "      <td>1.000000</td>\n",
       "      <td>612.000000</td>\n",
       "      <td>1.000000</td>\n",
       "      <td>729.000000</td>\n",
       "      <td>232.000000</td>\n",
       "    </tr>\n",
       "    <tr>\n",
       "      <th>max</th>\n",
       "      <td>50.000000</td>\n",
       "      <td>7.630000e+08</td>\n",
       "      <td>900.000000</td>\n",
       "      <td>19.000000</td>\n",
       "      <td>100.000000</td>\n",
       "      <td>60.000000</td>\n",
       "      <td>409.700000</td>\n",
       "      <td>33.000000</td>\n",
       "      <td>112.000000</td>\n",
       "      <td>5.000000</td>\n",
       "      <td>84869.000000</td>\n",
       "      <td>65968.000000</td>\n",
       "      <td>3.000000</td>\n",
       "      <td>3190.000000</td>\n",
       "      <td>3.000000</td>\n",
       "      <td>1344.000000</td>\n",
       "      <td>1580.000000</td>\n",
       "    </tr>\n",
       "  </tbody>\n",
       "</table>\n",
       "</div>"
      ],
      "text/plain": [
       "       total_images    last_price    total_area         rooms  ceiling_height  \\\n",
       "count  23699.000000  2.369900e+04  23699.000000  23699.000000    14504.000000   \n",
       "mean       9.858475  6.541549e+06     60.348651      2.070636        2.771499   \n",
       "std        5.682529  1.088701e+07     35.654083      1.078405        1.261056   \n",
       "min        0.000000  1.219000e+04     12.000000      0.000000        1.000000   \n",
       "25%        6.000000  3.400000e+06     40.000000      1.000000        2.520000   \n",
       "50%        9.000000  4.650000e+06     52.000000      2.000000        2.650000   \n",
       "75%       14.000000  6.800000e+06     69.900000      3.000000        2.800000   \n",
       "max       50.000000  7.630000e+08    900.000000     19.000000      100.000000   \n",
       "\n",
       "       floors_total   living_area         floor  kitchen_area       balcony  \\\n",
       "count  23613.000000  21796.000000  23699.000000  21421.000000  12180.000000   \n",
       "mean      10.673824     34.457852      5.892358     10.569807      1.150082   \n",
       "std        6.597173     22.030445      4.885249      5.905438      1.071300   \n",
       "min        1.000000      2.000000      1.000000      1.300000      0.000000   \n",
       "25%        5.000000     18.600000      2.000000      7.000000      0.000000   \n",
       "50%        9.000000     30.000000      4.000000      9.100000      1.000000   \n",
       "75%       16.000000     42.300000      8.000000     12.000000      2.000000   \n",
       "max       60.000000    409.700000     33.000000    112.000000      5.000000   \n",
       "\n",
       "       airports_nearest  cityCenters_nearest  parks_around3000  parks_nearest  \\\n",
       "count      18157.000000         18180.000000      18181.000000    8079.000000   \n",
       "mean       28793.672193         14191.277833          0.611408     490.804555   \n",
       "std        12630.880622          8608.386210          0.802074     342.317995   \n",
       "min            0.000000           181.000000          0.000000       1.000000   \n",
       "25%        18585.000000          9238.000000          0.000000     288.000000   \n",
       "50%        26726.000000         13098.500000          0.000000     455.000000   \n",
       "75%        37273.000000         16293.000000          1.000000     612.000000   \n",
       "max        84869.000000         65968.000000          3.000000    3190.000000   \n",
       "\n",
       "       ponds_around3000  ponds_nearest  days_exposition  \n",
       "count      18181.000000    9110.000000     20518.000000  \n",
       "mean           0.770255     517.980900       180.888634  \n",
       "std            0.938346     277.720643       219.727988  \n",
       "min            0.000000      13.000000         1.000000  \n",
       "25%            0.000000     294.000000        45.000000  \n",
       "50%            1.000000     502.000000        95.000000  \n",
       "75%            1.000000     729.000000       232.000000  \n",
       "max            3.000000    1344.000000      1580.000000  "
      ]
     },
     "execution_count": 3,
     "metadata": {},
     "output_type": "execute_result"
    }
   ],
   "source": [
    "df.describe()"
   ]
  },
  {
   "cell_type": "markdown",
   "metadata": {},
   "source": [
    "### Вывод"
   ]
  },
  {
   "cell_type": "markdown",
   "metadata": {},
   "source": [
    "В данных существуют пропуски и выбросы. Для начала заполним пропуски:"
   ]
  },
  {
   "cell_type": "markdown",
   "metadata": {},
   "source": [
    "## Предобработка данных"
   ]
  },
  {
   "cell_type": "markdown",
   "metadata": {},
   "source": [
    "#### Заполнение пропусков:"
   ]
  },
  {
   "cell_type": "code",
   "execution_count": 4,
   "metadata": {},
   "outputs": [],
   "source": [
    "df['ceiling_height'] = df['ceiling_height'].fillna(2.6)"
   ]
  },
  {
   "cell_type": "markdown",
   "metadata": {},
   "source": [
    "Отсутствие указанного числа балконов означает скорее всего что их нет, заполним пропуски в столбце 'balcony' значением 0:"
   ]
  },
  {
   "cell_type": "code",
   "execution_count": 5,
   "metadata": {},
   "outputs": [],
   "source": [
    "df['balcony'] = df['balcony'].fillna(0)"
   ]
  },
  {
   "cell_type": "markdown",
   "metadata": {},
   "source": [
    "Отсутствие указания типа недвижимости (жилая, или аппартаменты) как правило указывает на то что данная недвижимость относится к жилищной. Аппартаменты юридически относятся к нежилой недвижимости, в аппартаментах нельзя зарегестрироваться. Девелопер апартаментов не обязан обеспечивать жителей детсадами, школами, магазинами и другими объектами инфраструктуры.\n",
    "Поэтому аппартаменты не являются популярным типом недвижимости. Заполним пропуски в столбце 'is_apartment' значением False:"
   ]
  },
  {
   "cell_type": "code",
   "execution_count": 6,
   "metadata": {},
   "outputs": [],
   "source": [
    "df['is_apartment'] = df['is_apartment'].fillna(False)"
   ]
  },
  {
   "cell_type": "markdown",
   "metadata": {},
   "source": [
    "Существуют пропуски в значении общего количества этажей в здании, возможно они появились из-за того, что продается квартира на последнем этаже, таких пропусков не много, заполним их значением этажа на котором продается данный объект недвижимости:"
   ]
  },
  {
   "cell_type": "code",
   "execution_count": 7,
   "metadata": {},
   "outputs": [],
   "source": [
    "df['floors_total'] = df['floors_total'].fillna(df['floor'])"
   ]
  },
  {
   "cell_type": "markdown",
   "metadata": {},
   "source": [
    "Была выполнена логичная замена пропусков в некоторых столбцах, в других столбцах, характеризующих, например, площадь или город, замену выполнить проблематично."
   ]
  },
  {
   "cell_type": "code",
   "execution_count": 8,
   "metadata": {},
   "outputs": [
    {
     "data": {
      "text/plain": [
       "total_images            0.000000\n",
       "last_price              0.000000\n",
       "total_area              0.000000\n",
       "first_day_exposition    0.000000\n",
       "rooms                   0.000000\n",
       "ceiling_height          0.000000\n",
       "floors_total            0.000000\n",
       "living_area             0.080299\n",
       "floor                   0.000000\n",
       "is_apartment            0.000000\n",
       "studio                  0.000000\n",
       "open_plan               0.000000\n",
       "kitchen_area            0.096122\n",
       "balcony                 0.000000\n",
       "locality_name           0.002068\n",
       "airports_nearest        0.233850\n",
       "cityCenters_nearest     0.232879\n",
       "parks_around3000        0.232837\n",
       "parks_nearest           0.659100\n",
       "ponds_around3000        0.232837\n",
       "ponds_nearest           0.615596\n",
       "days_exposition         0.134225\n",
       "dtype: float64"
      ]
     },
     "execution_count": 8,
     "metadata": {},
     "output_type": "execute_result"
    }
   ],
   "source": [
    "# Код ревьюера\n",
    "df.isna().mean()"
   ]
  },
  {
   "cell_type": "code",
   "execution_count": 9,
   "metadata": {
    "scrolled": true
   },
   "outputs": [
    {
     "data": {
      "text/html": [
       "<div>\n",
       "<style scoped>\n",
       "    .dataframe tbody tr th:only-of-type {\n",
       "        vertical-align: middle;\n",
       "    }\n",
       "\n",
       "    .dataframe tbody tr th {\n",
       "        vertical-align: top;\n",
       "    }\n",
       "\n",
       "    .dataframe thead th {\n",
       "        text-align: right;\n",
       "    }\n",
       "</style>\n",
       "<table border=\"1\" class=\"dataframe\">\n",
       "  <thead>\n",
       "    <tr style=\"text-align: right;\">\n",
       "      <th></th>\n",
       "      <th>total_images</th>\n",
       "      <th>last_price</th>\n",
       "      <th>total_area</th>\n",
       "      <th>first_day_exposition</th>\n",
       "      <th>rooms</th>\n",
       "      <th>ceiling_height</th>\n",
       "      <th>floors_total</th>\n",
       "      <th>living_area</th>\n",
       "      <th>floor</th>\n",
       "      <th>is_apartment</th>\n",
       "      <th>...</th>\n",
       "      <th>kitchen_area</th>\n",
       "      <th>balcony</th>\n",
       "      <th>locality_name</th>\n",
       "      <th>airports_nearest</th>\n",
       "      <th>cityCenters_nearest</th>\n",
       "      <th>parks_around3000</th>\n",
       "      <th>parks_nearest</th>\n",
       "      <th>ponds_around3000</th>\n",
       "      <th>ponds_nearest</th>\n",
       "      <th>days_exposition</th>\n",
       "    </tr>\n",
       "  </thead>\n",
       "  <tbody>\n",
       "    <tr>\n",
       "      <th>0</th>\n",
       "      <td>20</td>\n",
       "      <td>13000000.0</td>\n",
       "      <td>108.0</td>\n",
       "      <td>2019-03-07T00:00:00</td>\n",
       "      <td>3</td>\n",
       "      <td>2.70</td>\n",
       "      <td>16.0</td>\n",
       "      <td>51.0</td>\n",
       "      <td>8</td>\n",
       "      <td>False</td>\n",
       "      <td>...</td>\n",
       "      <td>25.0</td>\n",
       "      <td>0.0</td>\n",
       "      <td>Санкт-Петербург</td>\n",
       "      <td>18863.0</td>\n",
       "      <td>16028.0</td>\n",
       "      <td>1.0</td>\n",
       "      <td>482.0</td>\n",
       "      <td>2.0</td>\n",
       "      <td>755.0</td>\n",
       "      <td>NaN</td>\n",
       "    </tr>\n",
       "    <tr>\n",
       "      <th>7</th>\n",
       "      <td>5</td>\n",
       "      <td>7915000.0</td>\n",
       "      <td>71.6</td>\n",
       "      <td>2019-04-18T00:00:00</td>\n",
       "      <td>2</td>\n",
       "      <td>2.60</td>\n",
       "      <td>24.0</td>\n",
       "      <td>NaN</td>\n",
       "      <td>22</td>\n",
       "      <td>False</td>\n",
       "      <td>...</td>\n",
       "      <td>18.9</td>\n",
       "      <td>2.0</td>\n",
       "      <td>Санкт-Петербург</td>\n",
       "      <td>23982.0</td>\n",
       "      <td>11634.0</td>\n",
       "      <td>0.0</td>\n",
       "      <td>NaN</td>\n",
       "      <td>0.0</td>\n",
       "      <td>NaN</td>\n",
       "      <td>NaN</td>\n",
       "    </tr>\n",
       "    <tr>\n",
       "      <th>44</th>\n",
       "      <td>13</td>\n",
       "      <td>5350000.0</td>\n",
       "      <td>40.0</td>\n",
       "      <td>2018-11-18T00:00:00</td>\n",
       "      <td>1</td>\n",
       "      <td>2.60</td>\n",
       "      <td>22.0</td>\n",
       "      <td>NaN</td>\n",
       "      <td>3</td>\n",
       "      <td>False</td>\n",
       "      <td>...</td>\n",
       "      <td>NaN</td>\n",
       "      <td>1.0</td>\n",
       "      <td>Санкт-Петербург</td>\n",
       "      <td>30471.0</td>\n",
       "      <td>11603.0</td>\n",
       "      <td>1.0</td>\n",
       "      <td>620.0</td>\n",
       "      <td>1.0</td>\n",
       "      <td>1152.0</td>\n",
       "      <td>NaN</td>\n",
       "    </tr>\n",
       "    <tr>\n",
       "      <th>45</th>\n",
       "      <td>17</td>\n",
       "      <td>5200000.0</td>\n",
       "      <td>50.6</td>\n",
       "      <td>2018-12-02T00:00:00</td>\n",
       "      <td>2</td>\n",
       "      <td>2.65</td>\n",
       "      <td>9.0</td>\n",
       "      <td>30.3</td>\n",
       "      <td>7</td>\n",
       "      <td>False</td>\n",
       "      <td>...</td>\n",
       "      <td>7.0</td>\n",
       "      <td>0.0</td>\n",
       "      <td>Санкт-Петербург</td>\n",
       "      <td>30011.0</td>\n",
       "      <td>12872.0</td>\n",
       "      <td>0.0</td>\n",
       "      <td>NaN</td>\n",
       "      <td>0.0</td>\n",
       "      <td>NaN</td>\n",
       "      <td>NaN</td>\n",
       "    </tr>\n",
       "    <tr>\n",
       "      <th>46</th>\n",
       "      <td>17</td>\n",
       "      <td>6600000.0</td>\n",
       "      <td>52.1</td>\n",
       "      <td>2019-01-31T00:00:00</td>\n",
       "      <td>2</td>\n",
       "      <td>2.60</td>\n",
       "      <td>24.0</td>\n",
       "      <td>29.7</td>\n",
       "      <td>9</td>\n",
       "      <td>False</td>\n",
       "      <td>...</td>\n",
       "      <td>8.3</td>\n",
       "      <td>2.0</td>\n",
       "      <td>Санкт-Петербург</td>\n",
       "      <td>15114.0</td>\n",
       "      <td>12702.0</td>\n",
       "      <td>0.0</td>\n",
       "      <td>NaN</td>\n",
       "      <td>0.0</td>\n",
       "      <td>NaN</td>\n",
       "      <td>NaN</td>\n",
       "    </tr>\n",
       "  </tbody>\n",
       "</table>\n",
       "<p>5 rows × 22 columns</p>\n",
       "</div>"
      ],
      "text/plain": [
       "    total_images  last_price  total_area first_day_exposition  rooms  \\\n",
       "0             20  13000000.0       108.0  2019-03-07T00:00:00      3   \n",
       "7              5   7915000.0        71.6  2019-04-18T00:00:00      2   \n",
       "44            13   5350000.0        40.0  2018-11-18T00:00:00      1   \n",
       "45            17   5200000.0        50.6  2018-12-02T00:00:00      2   \n",
       "46            17   6600000.0        52.1  2019-01-31T00:00:00      2   \n",
       "\n",
       "    ceiling_height  floors_total  living_area  floor  is_apartment  ...  \\\n",
       "0             2.70          16.0         51.0      8         False  ...   \n",
       "7             2.60          24.0          NaN     22         False  ...   \n",
       "44            2.60          22.0          NaN      3         False  ...   \n",
       "45            2.65           9.0         30.3      7         False  ...   \n",
       "46            2.60          24.0         29.7      9         False  ...   \n",
       "\n",
       "    kitchen_area  balcony    locality_name  airports_nearest  \\\n",
       "0           25.0      0.0  Санкт-Петербург           18863.0   \n",
       "7           18.9      2.0  Санкт-Петербург           23982.0   \n",
       "44           NaN      1.0  Санкт-Петербург           30471.0   \n",
       "45           7.0      0.0  Санкт-Петербург           30011.0   \n",
       "46           8.3      2.0  Санкт-Петербург           15114.0   \n",
       "\n",
       "   cityCenters_nearest  parks_around3000  parks_nearest  ponds_around3000  \\\n",
       "0              16028.0               1.0          482.0               2.0   \n",
       "7              11634.0               0.0            NaN               0.0   \n",
       "44             11603.0               1.0          620.0               1.0   \n",
       "45             12872.0               0.0            NaN               0.0   \n",
       "46             12702.0               0.0            NaN               0.0   \n",
       "\n",
       "    ponds_nearest  days_exposition  \n",
       "0           755.0              NaN  \n",
       "7             NaN              NaN  \n",
       "44         1152.0              NaN  \n",
       "45            NaN              NaN  \n",
       "46            NaN              NaN  \n",
       "\n",
       "[5 rows x 22 columns]"
      ]
     },
     "execution_count": 9,
     "metadata": {},
     "output_type": "execute_result"
    }
   ],
   "source": [
    "df[df['days_exposition'].isna() == True].head()"
   ]
  },
  {
   "cell_type": "code",
   "execution_count": 10,
   "metadata": {
    "scrolled": true
   },
   "outputs": [
    {
     "data": {
      "text/html": [
       "<div>\n",
       "<style scoped>\n",
       "    .dataframe tbody tr th:only-of-type {\n",
       "        vertical-align: middle;\n",
       "    }\n",
       "\n",
       "    .dataframe tbody tr th {\n",
       "        vertical-align: top;\n",
       "    }\n",
       "\n",
       "    .dataframe thead th {\n",
       "        text-align: right;\n",
       "    }\n",
       "</style>\n",
       "<table border=\"1\" class=\"dataframe\">\n",
       "  <thead>\n",
       "    <tr style=\"text-align: right;\">\n",
       "      <th></th>\n",
       "      <th>total_images</th>\n",
       "      <th>last_price</th>\n",
       "      <th>total_area</th>\n",
       "      <th>first_day_exposition</th>\n",
       "      <th>rooms</th>\n",
       "      <th>ceiling_height</th>\n",
       "      <th>floors_total</th>\n",
       "      <th>living_area</th>\n",
       "      <th>floor</th>\n",
       "      <th>is_apartment</th>\n",
       "      <th>...</th>\n",
       "      <th>kitchen_area</th>\n",
       "      <th>balcony</th>\n",
       "      <th>locality_name</th>\n",
       "      <th>airports_nearest</th>\n",
       "      <th>cityCenters_nearest</th>\n",
       "      <th>parks_around3000</th>\n",
       "      <th>parks_nearest</th>\n",
       "      <th>ponds_around3000</th>\n",
       "      <th>ponds_nearest</th>\n",
       "      <th>days_exposition</th>\n",
       "    </tr>\n",
       "  </thead>\n",
       "  <tbody>\n",
       "    <tr>\n",
       "      <th>3</th>\n",
       "      <td>0</td>\n",
       "      <td>64900000.0</td>\n",
       "      <td>159.0</td>\n",
       "      <td>2015-07-24T00:00:00</td>\n",
       "      <td>3</td>\n",
       "      <td>2.6</td>\n",
       "      <td>14.0</td>\n",
       "      <td>NaN</td>\n",
       "      <td>9</td>\n",
       "      <td>False</td>\n",
       "      <td>...</td>\n",
       "      <td>NaN</td>\n",
       "      <td>0.0</td>\n",
       "      <td>Санкт-Петербург</td>\n",
       "      <td>28098.0</td>\n",
       "      <td>6800.0</td>\n",
       "      <td>2.0</td>\n",
       "      <td>84.0</td>\n",
       "      <td>3.0</td>\n",
       "      <td>234.0</td>\n",
       "      <td>424.0</td>\n",
       "    </tr>\n",
       "    <tr>\n",
       "      <th>7</th>\n",
       "      <td>5</td>\n",
       "      <td>7915000.0</td>\n",
       "      <td>71.6</td>\n",
       "      <td>2019-04-18T00:00:00</td>\n",
       "      <td>2</td>\n",
       "      <td>2.6</td>\n",
       "      <td>24.0</td>\n",
       "      <td>NaN</td>\n",
       "      <td>22</td>\n",
       "      <td>False</td>\n",
       "      <td>...</td>\n",
       "      <td>18.9</td>\n",
       "      <td>2.0</td>\n",
       "      <td>Санкт-Петербург</td>\n",
       "      <td>23982.0</td>\n",
       "      <td>11634.0</td>\n",
       "      <td>0.0</td>\n",
       "      <td>NaN</td>\n",
       "      <td>0.0</td>\n",
       "      <td>NaN</td>\n",
       "      <td>NaN</td>\n",
       "    </tr>\n",
       "    <tr>\n",
       "      <th>30</th>\n",
       "      <td>12</td>\n",
       "      <td>2200000.0</td>\n",
       "      <td>32.8</td>\n",
       "      <td>2018-02-19T00:00:00</td>\n",
       "      <td>1</td>\n",
       "      <td>2.6</td>\n",
       "      <td>9.0</td>\n",
       "      <td>NaN</td>\n",
       "      <td>2</td>\n",
       "      <td>False</td>\n",
       "      <td>...</td>\n",
       "      <td>NaN</td>\n",
       "      <td>0.0</td>\n",
       "      <td>Коммунар</td>\n",
       "      <td>NaN</td>\n",
       "      <td>NaN</td>\n",
       "      <td>NaN</td>\n",
       "      <td>NaN</td>\n",
       "      <td>NaN</td>\n",
       "      <td>NaN</td>\n",
       "      <td>63.0</td>\n",
       "    </tr>\n",
       "    <tr>\n",
       "      <th>37</th>\n",
       "      <td>10</td>\n",
       "      <td>1990000.0</td>\n",
       "      <td>45.8</td>\n",
       "      <td>2017-10-28T00:00:00</td>\n",
       "      <td>2</td>\n",
       "      <td>2.5</td>\n",
       "      <td>5.0</td>\n",
       "      <td>NaN</td>\n",
       "      <td>1</td>\n",
       "      <td>False</td>\n",
       "      <td>...</td>\n",
       "      <td>NaN</td>\n",
       "      <td>0.0</td>\n",
       "      <td>поселок городского типа Красный Бор</td>\n",
       "      <td>NaN</td>\n",
       "      <td>NaN</td>\n",
       "      <td>NaN</td>\n",
       "      <td>NaN</td>\n",
       "      <td>NaN</td>\n",
       "      <td>NaN</td>\n",
       "      <td>196.0</td>\n",
       "    </tr>\n",
       "    <tr>\n",
       "      <th>44</th>\n",
       "      <td>13</td>\n",
       "      <td>5350000.0</td>\n",
       "      <td>40.0</td>\n",
       "      <td>2018-11-18T00:00:00</td>\n",
       "      <td>1</td>\n",
       "      <td>2.6</td>\n",
       "      <td>22.0</td>\n",
       "      <td>NaN</td>\n",
       "      <td>3</td>\n",
       "      <td>False</td>\n",
       "      <td>...</td>\n",
       "      <td>NaN</td>\n",
       "      <td>1.0</td>\n",
       "      <td>Санкт-Петербург</td>\n",
       "      <td>30471.0</td>\n",
       "      <td>11603.0</td>\n",
       "      <td>1.0</td>\n",
       "      <td>620.0</td>\n",
       "      <td>1.0</td>\n",
       "      <td>1152.0</td>\n",
       "      <td>NaN</td>\n",
       "    </tr>\n",
       "  </tbody>\n",
       "</table>\n",
       "<p>5 rows × 22 columns</p>\n",
       "</div>"
      ],
      "text/plain": [
       "    total_images  last_price  total_area first_day_exposition  rooms  \\\n",
       "3              0  64900000.0       159.0  2015-07-24T00:00:00      3   \n",
       "7              5   7915000.0        71.6  2019-04-18T00:00:00      2   \n",
       "30            12   2200000.0        32.8  2018-02-19T00:00:00      1   \n",
       "37            10   1990000.0        45.8  2017-10-28T00:00:00      2   \n",
       "44            13   5350000.0        40.0  2018-11-18T00:00:00      1   \n",
       "\n",
       "    ceiling_height  floors_total  living_area  floor  is_apartment  ...  \\\n",
       "3              2.6          14.0          NaN      9         False  ...   \n",
       "7              2.6          24.0          NaN     22         False  ...   \n",
       "30             2.6           9.0          NaN      2         False  ...   \n",
       "37             2.5           5.0          NaN      1         False  ...   \n",
       "44             2.6          22.0          NaN      3         False  ...   \n",
       "\n",
       "    kitchen_area  balcony                        locality_name  \\\n",
       "3            NaN      0.0                      Санкт-Петербург   \n",
       "7           18.9      2.0                      Санкт-Петербург   \n",
       "30           NaN      0.0                             Коммунар   \n",
       "37           NaN      0.0  поселок городского типа Красный Бор   \n",
       "44           NaN      1.0                      Санкт-Петербург   \n",
       "\n",
       "    airports_nearest cityCenters_nearest  parks_around3000  parks_nearest  \\\n",
       "3            28098.0              6800.0               2.0           84.0   \n",
       "7            23982.0             11634.0               0.0            NaN   \n",
       "30               NaN                 NaN               NaN            NaN   \n",
       "37               NaN                 NaN               NaN            NaN   \n",
       "44           30471.0             11603.0               1.0          620.0   \n",
       "\n",
       "    ponds_around3000  ponds_nearest  days_exposition  \n",
       "3                3.0          234.0            424.0  \n",
       "7                0.0            NaN              NaN  \n",
       "30               NaN            NaN             63.0  \n",
       "37               NaN            NaN            196.0  \n",
       "44               1.0         1152.0              NaN  \n",
       "\n",
       "[5 rows x 22 columns]"
      ]
     },
     "execution_count": 10,
     "metadata": {},
     "output_type": "execute_result"
    }
   ],
   "source": [
    "df[df['living_area'].isna() == True].head()"
   ]
  },
  {
   "cell_type": "code",
   "execution_count": 11,
   "metadata": {},
   "outputs": [
    {
     "data": {
      "text/plain": [
       "1903"
      ]
     },
     "execution_count": 11,
     "metadata": {},
     "output_type": "execute_result"
    }
   ],
   "source": [
    "df[df['living_area'].isna() == True]['total_area'].count()"
   ]
  },
  {
   "cell_type": "code",
   "execution_count": 12,
   "metadata": {},
   "outputs": [
    {
     "data": {
      "text/html": [
       "<div>\n",
       "<style scoped>\n",
       "    .dataframe tbody tr th:only-of-type {\n",
       "        vertical-align: middle;\n",
       "    }\n",
       "\n",
       "    .dataframe tbody tr th {\n",
       "        vertical-align: top;\n",
       "    }\n",
       "\n",
       "    .dataframe thead th {\n",
       "        text-align: right;\n",
       "    }\n",
       "</style>\n",
       "<table border=\"1\" class=\"dataframe\">\n",
       "  <thead>\n",
       "    <tr style=\"text-align: right;\">\n",
       "      <th></th>\n",
       "      <th>total_images</th>\n",
       "      <th>last_price</th>\n",
       "      <th>total_area</th>\n",
       "      <th>first_day_exposition</th>\n",
       "      <th>rooms</th>\n",
       "      <th>ceiling_height</th>\n",
       "      <th>floors_total</th>\n",
       "      <th>living_area</th>\n",
       "      <th>floor</th>\n",
       "      <th>is_apartment</th>\n",
       "      <th>...</th>\n",
       "      <th>kitchen_area</th>\n",
       "      <th>balcony</th>\n",
       "      <th>locality_name</th>\n",
       "      <th>airports_nearest</th>\n",
       "      <th>cityCenters_nearest</th>\n",
       "      <th>parks_around3000</th>\n",
       "      <th>parks_nearest</th>\n",
       "      <th>ponds_around3000</th>\n",
       "      <th>ponds_nearest</th>\n",
       "      <th>days_exposition</th>\n",
       "    </tr>\n",
       "  </thead>\n",
       "  <tbody>\n",
       "    <tr>\n",
       "      <th>3</th>\n",
       "      <td>0</td>\n",
       "      <td>64900000.0</td>\n",
       "      <td>159.0</td>\n",
       "      <td>2015-07-24T00:00:00</td>\n",
       "      <td>3</td>\n",
       "      <td>2.6</td>\n",
       "      <td>14.0</td>\n",
       "      <td>NaN</td>\n",
       "      <td>9</td>\n",
       "      <td>False</td>\n",
       "      <td>...</td>\n",
       "      <td>NaN</td>\n",
       "      <td>0.0</td>\n",
       "      <td>Санкт-Петербург</td>\n",
       "      <td>28098.0</td>\n",
       "      <td>6800.0</td>\n",
       "      <td>2.0</td>\n",
       "      <td>84.0</td>\n",
       "      <td>3.0</td>\n",
       "      <td>234.0</td>\n",
       "      <td>424.0</td>\n",
       "    </tr>\n",
       "    <tr>\n",
       "      <th>30</th>\n",
       "      <td>12</td>\n",
       "      <td>2200000.0</td>\n",
       "      <td>32.8</td>\n",
       "      <td>2018-02-19T00:00:00</td>\n",
       "      <td>1</td>\n",
       "      <td>2.6</td>\n",
       "      <td>9.0</td>\n",
       "      <td>NaN</td>\n",
       "      <td>2</td>\n",
       "      <td>False</td>\n",
       "      <td>...</td>\n",
       "      <td>NaN</td>\n",
       "      <td>0.0</td>\n",
       "      <td>Коммунар</td>\n",
       "      <td>NaN</td>\n",
       "      <td>NaN</td>\n",
       "      <td>NaN</td>\n",
       "      <td>NaN</td>\n",
       "      <td>NaN</td>\n",
       "      <td>NaN</td>\n",
       "      <td>63.0</td>\n",
       "    </tr>\n",
       "    <tr>\n",
       "      <th>37</th>\n",
       "      <td>10</td>\n",
       "      <td>1990000.0</td>\n",
       "      <td>45.8</td>\n",
       "      <td>2017-10-28T00:00:00</td>\n",
       "      <td>2</td>\n",
       "      <td>2.5</td>\n",
       "      <td>5.0</td>\n",
       "      <td>NaN</td>\n",
       "      <td>1</td>\n",
       "      <td>False</td>\n",
       "      <td>...</td>\n",
       "      <td>NaN</td>\n",
       "      <td>0.0</td>\n",
       "      <td>поселок городского типа Красный Бор</td>\n",
       "      <td>NaN</td>\n",
       "      <td>NaN</td>\n",
       "      <td>NaN</td>\n",
       "      <td>NaN</td>\n",
       "      <td>NaN</td>\n",
       "      <td>NaN</td>\n",
       "      <td>196.0</td>\n",
       "    </tr>\n",
       "    <tr>\n",
       "      <th>44</th>\n",
       "      <td>13</td>\n",
       "      <td>5350000.0</td>\n",
       "      <td>40.0</td>\n",
       "      <td>2018-11-18T00:00:00</td>\n",
       "      <td>1</td>\n",
       "      <td>2.6</td>\n",
       "      <td>22.0</td>\n",
       "      <td>NaN</td>\n",
       "      <td>3</td>\n",
       "      <td>False</td>\n",
       "      <td>...</td>\n",
       "      <td>NaN</td>\n",
       "      <td>1.0</td>\n",
       "      <td>Санкт-Петербург</td>\n",
       "      <td>30471.0</td>\n",
       "      <td>11603.0</td>\n",
       "      <td>1.0</td>\n",
       "      <td>620.0</td>\n",
       "      <td>1.0</td>\n",
       "      <td>1152.0</td>\n",
       "      <td>NaN</td>\n",
       "    </tr>\n",
       "    <tr>\n",
       "      <th>59</th>\n",
       "      <td>15</td>\n",
       "      <td>6300000.0</td>\n",
       "      <td>46.5</td>\n",
       "      <td>2017-03-06T00:00:00</td>\n",
       "      <td>1</td>\n",
       "      <td>2.6</td>\n",
       "      <td>13.0</td>\n",
       "      <td>NaN</td>\n",
       "      <td>13</td>\n",
       "      <td>False</td>\n",
       "      <td>...</td>\n",
       "      <td>NaN</td>\n",
       "      <td>0.0</td>\n",
       "      <td>Санкт-Петербург</td>\n",
       "      <td>11125.0</td>\n",
       "      <td>14501.0</td>\n",
       "      <td>0.0</td>\n",
       "      <td>NaN</td>\n",
       "      <td>0.0</td>\n",
       "      <td>NaN</td>\n",
       "      <td>336.0</td>\n",
       "    </tr>\n",
       "  </tbody>\n",
       "</table>\n",
       "<p>5 rows × 22 columns</p>\n",
       "</div>"
      ],
      "text/plain": [
       "    total_images  last_price  total_area first_day_exposition  rooms  \\\n",
       "3              0  64900000.0       159.0  2015-07-24T00:00:00      3   \n",
       "30            12   2200000.0        32.8  2018-02-19T00:00:00      1   \n",
       "37            10   1990000.0        45.8  2017-10-28T00:00:00      2   \n",
       "44            13   5350000.0        40.0  2018-11-18T00:00:00      1   \n",
       "59            15   6300000.0        46.5  2017-03-06T00:00:00      1   \n",
       "\n",
       "    ceiling_height  floors_total  living_area  floor  is_apartment  ...  \\\n",
       "3              2.6          14.0          NaN      9         False  ...   \n",
       "30             2.6           9.0          NaN      2         False  ...   \n",
       "37             2.5           5.0          NaN      1         False  ...   \n",
       "44             2.6          22.0          NaN      3         False  ...   \n",
       "59             2.6          13.0          NaN     13         False  ...   \n",
       "\n",
       "    kitchen_area  balcony                        locality_name  \\\n",
       "3            NaN      0.0                      Санкт-Петербург   \n",
       "30           NaN      0.0                             Коммунар   \n",
       "37           NaN      0.0  поселок городского типа Красный Бор   \n",
       "44           NaN      1.0                      Санкт-Петербург   \n",
       "59           NaN      0.0                      Санкт-Петербург   \n",
       "\n",
       "    airports_nearest cityCenters_nearest  parks_around3000  parks_nearest  \\\n",
       "3            28098.0              6800.0               2.0           84.0   \n",
       "30               NaN                 NaN               NaN            NaN   \n",
       "37               NaN                 NaN               NaN            NaN   \n",
       "44           30471.0             11603.0               1.0          620.0   \n",
       "59           11125.0             14501.0               0.0            NaN   \n",
       "\n",
       "    ponds_around3000  ponds_nearest  days_exposition  \n",
       "3                3.0          234.0            424.0  \n",
       "30               NaN            NaN             63.0  \n",
       "37               NaN            NaN            196.0  \n",
       "44               1.0         1152.0              NaN  \n",
       "59               0.0            NaN            336.0  \n",
       "\n",
       "[5 rows x 22 columns]"
      ]
     },
     "execution_count": 12,
     "metadata": {},
     "output_type": "execute_result"
    }
   ],
   "source": [
    "df[df['kitchen_area'].isna() == True].head()"
   ]
  },
  {
   "cell_type": "code",
   "execution_count": 13,
   "metadata": {},
   "outputs": [
    {
     "data": {
      "text/plain": [
       "2278"
      ]
     },
     "execution_count": 13,
     "metadata": {},
     "output_type": "execute_result"
    }
   ],
   "source": [
    "df[df['kitchen_area'].isna() == True]['total_area'].count()"
   ]
  },
  {
   "cell_type": "code",
   "execution_count": 14,
   "metadata": {},
   "outputs": [
    {
     "data": {
      "text/html": [
       "<div>\n",
       "<style scoped>\n",
       "    .dataframe tbody tr th:only-of-type {\n",
       "        vertical-align: middle;\n",
       "    }\n",
       "\n",
       "    .dataframe tbody tr th {\n",
       "        vertical-align: top;\n",
       "    }\n",
       "\n",
       "    .dataframe thead th {\n",
       "        text-align: right;\n",
       "    }\n",
       "</style>\n",
       "<table border=\"1\" class=\"dataframe\">\n",
       "  <thead>\n",
       "    <tr style=\"text-align: right;\">\n",
       "      <th></th>\n",
       "      <th>total_images</th>\n",
       "      <th>last_price</th>\n",
       "      <th>total_area</th>\n",
       "      <th>first_day_exposition</th>\n",
       "      <th>rooms</th>\n",
       "      <th>ceiling_height</th>\n",
       "      <th>floors_total</th>\n",
       "      <th>living_area</th>\n",
       "      <th>floor</th>\n",
       "      <th>is_apartment</th>\n",
       "      <th>...</th>\n",
       "      <th>kitchen_area</th>\n",
       "      <th>balcony</th>\n",
       "      <th>locality_name</th>\n",
       "      <th>airports_nearest</th>\n",
       "      <th>cityCenters_nearest</th>\n",
       "      <th>parks_around3000</th>\n",
       "      <th>parks_nearest</th>\n",
       "      <th>ponds_around3000</th>\n",
       "      <th>ponds_nearest</th>\n",
       "      <th>days_exposition</th>\n",
       "    </tr>\n",
       "  </thead>\n",
       "  <tbody>\n",
       "    <tr>\n",
       "      <th>3</th>\n",
       "      <td>0</td>\n",
       "      <td>64900000.0</td>\n",
       "      <td>159.0</td>\n",
       "      <td>2015-07-24T00:00:00</td>\n",
       "      <td>3</td>\n",
       "      <td>2.6</td>\n",
       "      <td>14.0</td>\n",
       "      <td>NaN</td>\n",
       "      <td>9</td>\n",
       "      <td>False</td>\n",
       "      <td>...</td>\n",
       "      <td>NaN</td>\n",
       "      <td>0.0</td>\n",
       "      <td>Санкт-Петербург</td>\n",
       "      <td>28098.0</td>\n",
       "      <td>6800.0</td>\n",
       "      <td>2.0</td>\n",
       "      <td>84.0</td>\n",
       "      <td>3.0</td>\n",
       "      <td>234.0</td>\n",
       "      <td>424.0</td>\n",
       "    </tr>\n",
       "    <tr>\n",
       "      <th>30</th>\n",
       "      <td>12</td>\n",
       "      <td>2200000.0</td>\n",
       "      <td>32.8</td>\n",
       "      <td>2018-02-19T00:00:00</td>\n",
       "      <td>1</td>\n",
       "      <td>2.6</td>\n",
       "      <td>9.0</td>\n",
       "      <td>NaN</td>\n",
       "      <td>2</td>\n",
       "      <td>False</td>\n",
       "      <td>...</td>\n",
       "      <td>NaN</td>\n",
       "      <td>0.0</td>\n",
       "      <td>Коммунар</td>\n",
       "      <td>NaN</td>\n",
       "      <td>NaN</td>\n",
       "      <td>NaN</td>\n",
       "      <td>NaN</td>\n",
       "      <td>NaN</td>\n",
       "      <td>NaN</td>\n",
       "      <td>63.0</td>\n",
       "    </tr>\n",
       "    <tr>\n",
       "      <th>37</th>\n",
       "      <td>10</td>\n",
       "      <td>1990000.0</td>\n",
       "      <td>45.8</td>\n",
       "      <td>2017-10-28T00:00:00</td>\n",
       "      <td>2</td>\n",
       "      <td>2.5</td>\n",
       "      <td>5.0</td>\n",
       "      <td>NaN</td>\n",
       "      <td>1</td>\n",
       "      <td>False</td>\n",
       "      <td>...</td>\n",
       "      <td>NaN</td>\n",
       "      <td>0.0</td>\n",
       "      <td>поселок городского типа Красный Бор</td>\n",
       "      <td>NaN</td>\n",
       "      <td>NaN</td>\n",
       "      <td>NaN</td>\n",
       "      <td>NaN</td>\n",
       "      <td>NaN</td>\n",
       "      <td>NaN</td>\n",
       "      <td>196.0</td>\n",
       "    </tr>\n",
       "    <tr>\n",
       "      <th>44</th>\n",
       "      <td>13</td>\n",
       "      <td>5350000.0</td>\n",
       "      <td>40.0</td>\n",
       "      <td>2018-11-18T00:00:00</td>\n",
       "      <td>1</td>\n",
       "      <td>2.6</td>\n",
       "      <td>22.0</td>\n",
       "      <td>NaN</td>\n",
       "      <td>3</td>\n",
       "      <td>False</td>\n",
       "      <td>...</td>\n",
       "      <td>NaN</td>\n",
       "      <td>1.0</td>\n",
       "      <td>Санкт-Петербург</td>\n",
       "      <td>30471.0</td>\n",
       "      <td>11603.0</td>\n",
       "      <td>1.0</td>\n",
       "      <td>620.0</td>\n",
       "      <td>1.0</td>\n",
       "      <td>1152.0</td>\n",
       "      <td>NaN</td>\n",
       "    </tr>\n",
       "    <tr>\n",
       "      <th>59</th>\n",
       "      <td>15</td>\n",
       "      <td>6300000.0</td>\n",
       "      <td>46.5</td>\n",
       "      <td>2017-03-06T00:00:00</td>\n",
       "      <td>1</td>\n",
       "      <td>2.6</td>\n",
       "      <td>13.0</td>\n",
       "      <td>NaN</td>\n",
       "      <td>13</td>\n",
       "      <td>False</td>\n",
       "      <td>...</td>\n",
       "      <td>NaN</td>\n",
       "      <td>0.0</td>\n",
       "      <td>Санкт-Петербург</td>\n",
       "      <td>11125.0</td>\n",
       "      <td>14501.0</td>\n",
       "      <td>0.0</td>\n",
       "      <td>NaN</td>\n",
       "      <td>0.0</td>\n",
       "      <td>NaN</td>\n",
       "      <td>336.0</td>\n",
       "    </tr>\n",
       "  </tbody>\n",
       "</table>\n",
       "<p>5 rows × 22 columns</p>\n",
       "</div>"
      ],
      "text/plain": [
       "    total_images  last_price  total_area first_day_exposition  rooms  \\\n",
       "3              0  64900000.0       159.0  2015-07-24T00:00:00      3   \n",
       "30            12   2200000.0        32.8  2018-02-19T00:00:00      1   \n",
       "37            10   1990000.0        45.8  2017-10-28T00:00:00      2   \n",
       "44            13   5350000.0        40.0  2018-11-18T00:00:00      1   \n",
       "59            15   6300000.0        46.5  2017-03-06T00:00:00      1   \n",
       "\n",
       "    ceiling_height  floors_total  living_area  floor  is_apartment  ...  \\\n",
       "3              2.6          14.0          NaN      9         False  ...   \n",
       "30             2.6           9.0          NaN      2         False  ...   \n",
       "37             2.5           5.0          NaN      1         False  ...   \n",
       "44             2.6          22.0          NaN      3         False  ...   \n",
       "59             2.6          13.0          NaN     13         False  ...   \n",
       "\n",
       "    kitchen_area  balcony                        locality_name  \\\n",
       "3            NaN      0.0                      Санкт-Петербург   \n",
       "30           NaN      0.0                             Коммунар   \n",
       "37           NaN      0.0  поселок городского типа Красный Бор   \n",
       "44           NaN      1.0                      Санкт-Петербург   \n",
       "59           NaN      0.0                      Санкт-Петербург   \n",
       "\n",
       "    airports_nearest cityCenters_nearest  parks_around3000  parks_nearest  \\\n",
       "3            28098.0              6800.0               2.0           84.0   \n",
       "30               NaN                 NaN               NaN            NaN   \n",
       "37               NaN                 NaN               NaN            NaN   \n",
       "44           30471.0             11603.0               1.0          620.0   \n",
       "59           11125.0             14501.0               0.0            NaN   \n",
       "\n",
       "    ponds_around3000  ponds_nearest  days_exposition  \n",
       "3                3.0          234.0            424.0  \n",
       "30               NaN            NaN             63.0  \n",
       "37               NaN            NaN            196.0  \n",
       "44               1.0         1152.0              NaN  \n",
       "59               0.0            NaN            336.0  \n",
       "\n",
       "[5 rows x 22 columns]"
      ]
     },
     "execution_count": 14,
     "metadata": {},
     "output_type": "execute_result"
    }
   ],
   "source": [
    "df[(df['living_area'].isna() == True) & (df['kitchen_area'].isna() == True)].head()"
   ]
  },
  {
   "cell_type": "code",
   "execution_count": 15,
   "metadata": {},
   "outputs": [
    {
     "data": {
      "text/plain": [
       "1464"
      ]
     },
     "execution_count": 15,
     "metadata": {},
     "output_type": "execute_result"
    }
   ],
   "source": [
    "df[(df['living_area'].isna() == True) & (df['kitchen_area'].isna() == True)]['total_area'].count()"
   ]
  },
  {
   "cell_type": "markdown",
   "metadata": {},
   "source": [
    "#### Изменение типов данных:"
   ]
  },
  {
   "cell_type": "markdown",
   "metadata": {},
   "source": [
    "Изменим тип данных в столбцах:\n",
    "1. В столбце 'first_day_exposition' указана дата;\n",
    "2. В столбце 'balcony' и 'floors_total' записаны целочисленные значения.\n",
    "\n",
    "Присвоим соответствующие типы:"
   ]
  },
  {
   "cell_type": "code",
   "execution_count": 16,
   "metadata": {},
   "outputs": [],
   "source": [
    "df['first_day_exposition'] = pd.to_datetime(df['first_day_exposition'], format='%Y-%m-%dT%H:%M:%S')"
   ]
  },
  {
   "cell_type": "code",
   "execution_count": 17,
   "metadata": {},
   "outputs": [],
   "source": [
    "df['floors_total'] = df['floors_total'].astype(int)"
   ]
  },
  {
   "cell_type": "code",
   "execution_count": 18,
   "metadata": {},
   "outputs": [],
   "source": [
    "df['balcony'] = df['balcony'].astype(int)"
   ]
  },
  {
   "cell_type": "code",
   "execution_count": 19,
   "metadata": {},
   "outputs": [
    {
     "data": {
      "text/html": [
       "<div>\n",
       "<style scoped>\n",
       "    .dataframe tbody tr th:only-of-type {\n",
       "        vertical-align: middle;\n",
       "    }\n",
       "\n",
       "    .dataframe tbody tr th {\n",
       "        vertical-align: top;\n",
       "    }\n",
       "\n",
       "    .dataframe thead th {\n",
       "        text-align: right;\n",
       "    }\n",
       "</style>\n",
       "<table border=\"1\" class=\"dataframe\">\n",
       "  <thead>\n",
       "    <tr style=\"text-align: right;\">\n",
       "      <th></th>\n",
       "      <th>total_images</th>\n",
       "      <th>last_price</th>\n",
       "      <th>total_area</th>\n",
       "      <th>first_day_exposition</th>\n",
       "      <th>rooms</th>\n",
       "      <th>ceiling_height</th>\n",
       "      <th>floors_total</th>\n",
       "      <th>living_area</th>\n",
       "      <th>floor</th>\n",
       "      <th>is_apartment</th>\n",
       "      <th>...</th>\n",
       "      <th>kitchen_area</th>\n",
       "      <th>balcony</th>\n",
       "      <th>locality_name</th>\n",
       "      <th>airports_nearest</th>\n",
       "      <th>cityCenters_nearest</th>\n",
       "      <th>parks_around3000</th>\n",
       "      <th>parks_nearest</th>\n",
       "      <th>ponds_around3000</th>\n",
       "      <th>ponds_nearest</th>\n",
       "      <th>days_exposition</th>\n",
       "    </tr>\n",
       "  </thead>\n",
       "  <tbody>\n",
       "    <tr>\n",
       "      <th>0</th>\n",
       "      <td>20</td>\n",
       "      <td>13000000.0</td>\n",
       "      <td>108.0</td>\n",
       "      <td>2019-03-07</td>\n",
       "      <td>3</td>\n",
       "      <td>2.70</td>\n",
       "      <td>16</td>\n",
       "      <td>51.0</td>\n",
       "      <td>8</td>\n",
       "      <td>False</td>\n",
       "      <td>...</td>\n",
       "      <td>25.0</td>\n",
       "      <td>0</td>\n",
       "      <td>Санкт-Петербург</td>\n",
       "      <td>18863.0</td>\n",
       "      <td>16028.0</td>\n",
       "      <td>1.0</td>\n",
       "      <td>482.0</td>\n",
       "      <td>2.0</td>\n",
       "      <td>755.0</td>\n",
       "      <td>NaN</td>\n",
       "    </tr>\n",
       "    <tr>\n",
       "      <th>1</th>\n",
       "      <td>7</td>\n",
       "      <td>3350000.0</td>\n",
       "      <td>40.4</td>\n",
       "      <td>2018-12-04</td>\n",
       "      <td>1</td>\n",
       "      <td>2.60</td>\n",
       "      <td>11</td>\n",
       "      <td>18.6</td>\n",
       "      <td>1</td>\n",
       "      <td>False</td>\n",
       "      <td>...</td>\n",
       "      <td>11.0</td>\n",
       "      <td>2</td>\n",
       "      <td>посёлок Шушары</td>\n",
       "      <td>12817.0</td>\n",
       "      <td>18603.0</td>\n",
       "      <td>0.0</td>\n",
       "      <td>NaN</td>\n",
       "      <td>0.0</td>\n",
       "      <td>NaN</td>\n",
       "      <td>81.0</td>\n",
       "    </tr>\n",
       "    <tr>\n",
       "      <th>2</th>\n",
       "      <td>10</td>\n",
       "      <td>5196000.0</td>\n",
       "      <td>56.0</td>\n",
       "      <td>2015-08-20</td>\n",
       "      <td>2</td>\n",
       "      <td>2.60</td>\n",
       "      <td>5</td>\n",
       "      <td>34.3</td>\n",
       "      <td>4</td>\n",
       "      <td>False</td>\n",
       "      <td>...</td>\n",
       "      <td>8.3</td>\n",
       "      <td>0</td>\n",
       "      <td>Санкт-Петербург</td>\n",
       "      <td>21741.0</td>\n",
       "      <td>13933.0</td>\n",
       "      <td>1.0</td>\n",
       "      <td>90.0</td>\n",
       "      <td>2.0</td>\n",
       "      <td>574.0</td>\n",
       "      <td>558.0</td>\n",
       "    </tr>\n",
       "    <tr>\n",
       "      <th>3</th>\n",
       "      <td>0</td>\n",
       "      <td>64900000.0</td>\n",
       "      <td>159.0</td>\n",
       "      <td>2015-07-24</td>\n",
       "      <td>3</td>\n",
       "      <td>2.60</td>\n",
       "      <td>14</td>\n",
       "      <td>NaN</td>\n",
       "      <td>9</td>\n",
       "      <td>False</td>\n",
       "      <td>...</td>\n",
       "      <td>NaN</td>\n",
       "      <td>0</td>\n",
       "      <td>Санкт-Петербург</td>\n",
       "      <td>28098.0</td>\n",
       "      <td>6800.0</td>\n",
       "      <td>2.0</td>\n",
       "      <td>84.0</td>\n",
       "      <td>3.0</td>\n",
       "      <td>234.0</td>\n",
       "      <td>424.0</td>\n",
       "    </tr>\n",
       "    <tr>\n",
       "      <th>4</th>\n",
       "      <td>2</td>\n",
       "      <td>10000000.0</td>\n",
       "      <td>100.0</td>\n",
       "      <td>2018-06-19</td>\n",
       "      <td>2</td>\n",
       "      <td>3.03</td>\n",
       "      <td>14</td>\n",
       "      <td>32.0</td>\n",
       "      <td>13</td>\n",
       "      <td>False</td>\n",
       "      <td>...</td>\n",
       "      <td>41.0</td>\n",
       "      <td>0</td>\n",
       "      <td>Санкт-Петербург</td>\n",
       "      <td>31856.0</td>\n",
       "      <td>8098.0</td>\n",
       "      <td>2.0</td>\n",
       "      <td>112.0</td>\n",
       "      <td>1.0</td>\n",
       "      <td>48.0</td>\n",
       "      <td>121.0</td>\n",
       "    </tr>\n",
       "  </tbody>\n",
       "</table>\n",
       "<p>5 rows × 22 columns</p>\n",
       "</div>"
      ],
      "text/plain": [
       "   total_images  last_price  total_area first_day_exposition  rooms  \\\n",
       "0            20  13000000.0       108.0           2019-03-07      3   \n",
       "1             7   3350000.0        40.4           2018-12-04      1   \n",
       "2            10   5196000.0        56.0           2015-08-20      2   \n",
       "3             0  64900000.0       159.0           2015-07-24      3   \n",
       "4             2  10000000.0       100.0           2018-06-19      2   \n",
       "\n",
       "   ceiling_height  floors_total  living_area  floor  is_apartment  ...  \\\n",
       "0            2.70            16         51.0      8         False  ...   \n",
       "1            2.60            11         18.6      1         False  ...   \n",
       "2            2.60             5         34.3      4         False  ...   \n",
       "3            2.60            14          NaN      9         False  ...   \n",
       "4            3.03            14         32.0     13         False  ...   \n",
       "\n",
       "   kitchen_area  balcony    locality_name  airports_nearest  \\\n",
       "0          25.0        0  Санкт-Петербург           18863.0   \n",
       "1          11.0        2   посёлок Шушары           12817.0   \n",
       "2           8.3        0  Санкт-Петербург           21741.0   \n",
       "3           NaN        0  Санкт-Петербург           28098.0   \n",
       "4          41.0        0  Санкт-Петербург           31856.0   \n",
       "\n",
       "  cityCenters_nearest  parks_around3000  parks_nearest  ponds_around3000  \\\n",
       "0             16028.0               1.0          482.0               2.0   \n",
       "1             18603.0               0.0            NaN               0.0   \n",
       "2             13933.0               1.0           90.0               2.0   \n",
       "3              6800.0               2.0           84.0               3.0   \n",
       "4              8098.0               2.0          112.0               1.0   \n",
       "\n",
       "   ponds_nearest  days_exposition  \n",
       "0          755.0              NaN  \n",
       "1            NaN             81.0  \n",
       "2          574.0            558.0  \n",
       "3          234.0            424.0  \n",
       "4           48.0            121.0  \n",
       "\n",
       "[5 rows x 22 columns]"
      ]
     },
     "execution_count": 19,
     "metadata": {},
     "output_type": "execute_result"
    }
   ],
   "source": [
    "df.head()"
   ]
  },
  {
   "cell_type": "code",
   "execution_count": 20,
   "metadata": {},
   "outputs": [
    {
     "name": "stdout",
     "output_type": "stream",
     "text": [
      "<class 'pandas.core.frame.DataFrame'>\n",
      "RangeIndex: 23699 entries, 0 to 23698\n",
      "Data columns (total 22 columns):\n",
      " #   Column                Non-Null Count  Dtype         \n",
      "---  ------                --------------  -----         \n",
      " 0   total_images          23699 non-null  int64         \n",
      " 1   last_price            23699 non-null  float64       \n",
      " 2   total_area            23699 non-null  float64       \n",
      " 3   first_day_exposition  23699 non-null  datetime64[ns]\n",
      " 4   rooms                 23699 non-null  int64         \n",
      " 5   ceiling_height        23699 non-null  float64       \n",
      " 6   floors_total          23699 non-null  int64         \n",
      " 7   living_area           21796 non-null  float64       \n",
      " 8   floor                 23699 non-null  int64         \n",
      " 9   is_apartment          23699 non-null  bool          \n",
      " 10  studio                23699 non-null  bool          \n",
      " 11  open_plan             23699 non-null  bool          \n",
      " 12  kitchen_area          21421 non-null  float64       \n",
      " 13  balcony               23699 non-null  int64         \n",
      " 14  locality_name         23650 non-null  object        \n",
      " 15  airports_nearest      18157 non-null  float64       \n",
      " 16  cityCenters_nearest   18180 non-null  float64       \n",
      " 17  parks_around3000      18181 non-null  float64       \n",
      " 18  parks_nearest         8079 non-null   float64       \n",
      " 19  ponds_around3000      18181 non-null  float64       \n",
      " 20  ponds_nearest         9110 non-null   float64       \n",
      " 21  days_exposition       20518 non-null  float64       \n",
      "dtypes: bool(3), datetime64[ns](1), float64(12), int64(5), object(1)\n",
      "memory usage: 3.5+ MB\n"
     ]
    }
   ],
   "source": [
    "df.info()"
   ]
  },
  {
   "cell_type": "markdown",
   "metadata": {},
   "source": [
    "### Вывод"
   ]
  },
  {
   "cell_type": "markdown",
   "metadata": {},
   "source": [
    "Удалось заменить пропущенные значения на логичные по смыслу, а также изменить типы данных в столбцах на соответствующие данными значениям. Не все пропущенные данные удается заменить самостоятельно."
   ]
  },
  {
   "cell_type": "markdown",
   "metadata": {},
   "source": [
    "## Расчёты и добавление результатов в таблицу"
   ]
  },
  {
   "cell_type": "markdown",
   "metadata": {},
   "source": [
    "Посчитаем цену квадратного метра и добавим в таблицу:"
   ]
  },
  {
   "cell_type": "code",
   "execution_count": 21,
   "metadata": {},
   "outputs": [],
   "source": [
    "df['price_square_meter'] = df['last_price'] / df['total_area']"
   ]
  },
  {
   "cell_type": "markdown",
   "metadata": {},
   "source": [
    "Добавим в таблицу день недели, месяц и год публикации объявления:"
   ]
  },
  {
   "cell_type": "code",
   "execution_count": 22,
   "metadata": {},
   "outputs": [],
   "source": [
    "df['day_exposition'] = df['first_day_exposition'].dt.dayofweek"
   ]
  },
  {
   "cell_type": "code",
   "execution_count": 23,
   "metadata": {},
   "outputs": [],
   "source": [
    "df['month_exposition'] = pd.DatetimeIndex(df['first_day_exposition']).month"
   ]
  },
  {
   "cell_type": "code",
   "execution_count": 24,
   "metadata": {},
   "outputs": [],
   "source": [
    "df['year_exposition'] = pd.DatetimeIndex(df['first_day_exposition']).year"
   ]
  },
  {
   "cell_type": "markdown",
   "metadata": {},
   "source": [
    "Добавим в таблицу определение этажа:"
   ]
  },
  {
   "cell_type": "code",
   "execution_count": 25,
   "metadata": {},
   "outputs": [],
   "source": [
    "df.loc[df['floor'] == 1, 'building_floor'] = 'первый'\n",
    "df.loc[df['floor'] == df['floors_total'], 'building_floor'] = 'последний'\n",
    "df['building_floor'] = df['building_floor'].fillna('другой')"
   ]
  },
  {
   "cell_type": "markdown",
   "metadata": {},
   "source": [
    "Добавим в таблицу соотношение жилой и общей площади, а также отношение площади кухни к общей:"
   ]
  },
  {
   "cell_type": "code",
   "execution_count": 26,
   "metadata": {},
   "outputs": [],
   "source": [
    "df['living_by_total_area'] = df['living_area'] / df['total_area']"
   ]
  },
  {
   "cell_type": "code",
   "execution_count": 27,
   "metadata": {},
   "outputs": [],
   "source": [
    "df['kitchen_by_total_area'] = df['kitchen_area'] / df['total_area']"
   ]
  },
  {
   "cell_type": "code",
   "execution_count": 28,
   "metadata": {},
   "outputs": [
    {
     "data": {
      "text/html": [
       "<div>\n",
       "<style scoped>\n",
       "    .dataframe tbody tr th:only-of-type {\n",
       "        vertical-align: middle;\n",
       "    }\n",
       "\n",
       "    .dataframe tbody tr th {\n",
       "        vertical-align: top;\n",
       "    }\n",
       "\n",
       "    .dataframe thead th {\n",
       "        text-align: right;\n",
       "    }\n",
       "</style>\n",
       "<table border=\"1\" class=\"dataframe\">\n",
       "  <thead>\n",
       "    <tr style=\"text-align: right;\">\n",
       "      <th></th>\n",
       "      <th>total_images</th>\n",
       "      <th>last_price</th>\n",
       "      <th>total_area</th>\n",
       "      <th>first_day_exposition</th>\n",
       "      <th>rooms</th>\n",
       "      <th>ceiling_height</th>\n",
       "      <th>floors_total</th>\n",
       "      <th>living_area</th>\n",
       "      <th>floor</th>\n",
       "      <th>is_apartment</th>\n",
       "      <th>...</th>\n",
       "      <th>ponds_around3000</th>\n",
       "      <th>ponds_nearest</th>\n",
       "      <th>days_exposition</th>\n",
       "      <th>price_square_meter</th>\n",
       "      <th>day_exposition</th>\n",
       "      <th>month_exposition</th>\n",
       "      <th>year_exposition</th>\n",
       "      <th>building_floor</th>\n",
       "      <th>living_by_total_area</th>\n",
       "      <th>kitchen_by_total_area</th>\n",
       "    </tr>\n",
       "  </thead>\n",
       "  <tbody>\n",
       "    <tr>\n",
       "      <th>0</th>\n",
       "      <td>20</td>\n",
       "      <td>13000000.0</td>\n",
       "      <td>108.0</td>\n",
       "      <td>2019-03-07</td>\n",
       "      <td>3</td>\n",
       "      <td>2.70</td>\n",
       "      <td>16</td>\n",
       "      <td>51.0</td>\n",
       "      <td>8</td>\n",
       "      <td>False</td>\n",
       "      <td>...</td>\n",
       "      <td>2.0</td>\n",
       "      <td>755.0</td>\n",
       "      <td>NaN</td>\n",
       "      <td>120370.370370</td>\n",
       "      <td>3</td>\n",
       "      <td>3</td>\n",
       "      <td>2019</td>\n",
       "      <td>другой</td>\n",
       "      <td>0.472222</td>\n",
       "      <td>0.231481</td>\n",
       "    </tr>\n",
       "    <tr>\n",
       "      <th>1</th>\n",
       "      <td>7</td>\n",
       "      <td>3350000.0</td>\n",
       "      <td>40.4</td>\n",
       "      <td>2018-12-04</td>\n",
       "      <td>1</td>\n",
       "      <td>2.60</td>\n",
       "      <td>11</td>\n",
       "      <td>18.6</td>\n",
       "      <td>1</td>\n",
       "      <td>False</td>\n",
       "      <td>...</td>\n",
       "      <td>0.0</td>\n",
       "      <td>NaN</td>\n",
       "      <td>81.0</td>\n",
       "      <td>82920.792079</td>\n",
       "      <td>1</td>\n",
       "      <td>12</td>\n",
       "      <td>2018</td>\n",
       "      <td>первый</td>\n",
       "      <td>0.460396</td>\n",
       "      <td>0.272277</td>\n",
       "    </tr>\n",
       "    <tr>\n",
       "      <th>2</th>\n",
       "      <td>10</td>\n",
       "      <td>5196000.0</td>\n",
       "      <td>56.0</td>\n",
       "      <td>2015-08-20</td>\n",
       "      <td>2</td>\n",
       "      <td>2.60</td>\n",
       "      <td>5</td>\n",
       "      <td>34.3</td>\n",
       "      <td>4</td>\n",
       "      <td>False</td>\n",
       "      <td>...</td>\n",
       "      <td>2.0</td>\n",
       "      <td>574.0</td>\n",
       "      <td>558.0</td>\n",
       "      <td>92785.714286</td>\n",
       "      <td>3</td>\n",
       "      <td>8</td>\n",
       "      <td>2015</td>\n",
       "      <td>другой</td>\n",
       "      <td>0.612500</td>\n",
       "      <td>0.148214</td>\n",
       "    </tr>\n",
       "    <tr>\n",
       "      <th>3</th>\n",
       "      <td>0</td>\n",
       "      <td>64900000.0</td>\n",
       "      <td>159.0</td>\n",
       "      <td>2015-07-24</td>\n",
       "      <td>3</td>\n",
       "      <td>2.60</td>\n",
       "      <td>14</td>\n",
       "      <td>NaN</td>\n",
       "      <td>9</td>\n",
       "      <td>False</td>\n",
       "      <td>...</td>\n",
       "      <td>3.0</td>\n",
       "      <td>234.0</td>\n",
       "      <td>424.0</td>\n",
       "      <td>408176.100629</td>\n",
       "      <td>4</td>\n",
       "      <td>7</td>\n",
       "      <td>2015</td>\n",
       "      <td>другой</td>\n",
       "      <td>NaN</td>\n",
       "      <td>NaN</td>\n",
       "    </tr>\n",
       "    <tr>\n",
       "      <th>4</th>\n",
       "      <td>2</td>\n",
       "      <td>10000000.0</td>\n",
       "      <td>100.0</td>\n",
       "      <td>2018-06-19</td>\n",
       "      <td>2</td>\n",
       "      <td>3.03</td>\n",
       "      <td>14</td>\n",
       "      <td>32.0</td>\n",
       "      <td>13</td>\n",
       "      <td>False</td>\n",
       "      <td>...</td>\n",
       "      <td>1.0</td>\n",
       "      <td>48.0</td>\n",
       "      <td>121.0</td>\n",
       "      <td>100000.000000</td>\n",
       "      <td>1</td>\n",
       "      <td>6</td>\n",
       "      <td>2018</td>\n",
       "      <td>другой</td>\n",
       "      <td>0.320000</td>\n",
       "      <td>0.410000</td>\n",
       "    </tr>\n",
       "  </tbody>\n",
       "</table>\n",
       "<p>5 rows × 29 columns</p>\n",
       "</div>"
      ],
      "text/plain": [
       "   total_images  last_price  total_area first_day_exposition  rooms  \\\n",
       "0            20  13000000.0       108.0           2019-03-07      3   \n",
       "1             7   3350000.0        40.4           2018-12-04      1   \n",
       "2            10   5196000.0        56.0           2015-08-20      2   \n",
       "3             0  64900000.0       159.0           2015-07-24      3   \n",
       "4             2  10000000.0       100.0           2018-06-19      2   \n",
       "\n",
       "   ceiling_height  floors_total  living_area  floor  is_apartment  ...  \\\n",
       "0            2.70            16         51.0      8         False  ...   \n",
       "1            2.60            11         18.6      1         False  ...   \n",
       "2            2.60             5         34.3      4         False  ...   \n",
       "3            2.60            14          NaN      9         False  ...   \n",
       "4            3.03            14         32.0     13         False  ...   \n",
       "\n",
       "   ponds_around3000  ponds_nearest  days_exposition  price_square_meter  \\\n",
       "0               2.0          755.0              NaN       120370.370370   \n",
       "1               0.0            NaN             81.0        82920.792079   \n",
       "2               2.0          574.0            558.0        92785.714286   \n",
       "3               3.0          234.0            424.0       408176.100629   \n",
       "4               1.0           48.0            121.0       100000.000000   \n",
       "\n",
       "  day_exposition  month_exposition  year_exposition  building_floor  \\\n",
       "0              3                 3             2019          другой   \n",
       "1              1                12             2018          первый   \n",
       "2              3                 8             2015          другой   \n",
       "3              4                 7             2015          другой   \n",
       "4              1                 6             2018          другой   \n",
       "\n",
       "   living_by_total_area  kitchen_by_total_area  \n",
       "0              0.472222               0.231481  \n",
       "1              0.460396               0.272277  \n",
       "2              0.612500               0.148214  \n",
       "3                   NaN                    NaN  \n",
       "4              0.320000               0.410000  \n",
       "\n",
       "[5 rows x 29 columns]"
      ]
     },
     "execution_count": 28,
     "metadata": {},
     "output_type": "execute_result"
    }
   ],
   "source": [
    "df.head()"
   ]
  },
  {
   "cell_type": "markdown",
   "metadata": {},
   "source": [
    "### Вывод"
   ]
  },
  {
   "cell_type": "markdown",
   "metadata": {},
   "source": [
    "Все расчеты были успешно выполнены и добавлены в таблицу."
   ]
  },
  {
   "cell_type": "markdown",
   "metadata": {},
   "source": [
    "## Исследовательский анализ данных"
   ]
  },
  {
   "cell_type": "markdown",
   "metadata": {},
   "source": [
    "### Изучим следующие параметры: площадь, цена, число комнат, высота потолков. Построим гистограммы для каждого параметра."
   ]
  },
  {
   "cell_type": "markdown",
   "metadata": {},
   "source": [
    "При построении диаграмм будем убирать редкие и выбивающиеся значения и интерпретировать полученные результаты."
   ]
  },
  {
   "cell_type": "markdown",
   "metadata": {},
   "source": [
    "#### Изучим общую площадь:"
   ]
  },
  {
   "cell_type": "code",
   "execution_count": 29,
   "metadata": {},
   "outputs": [
    {
     "data": {
      "text/plain": [
       "count    23699.000000\n",
       "mean        60.348651\n",
       "std         35.654083\n",
       "min         12.000000\n",
       "25%         40.000000\n",
       "50%         52.000000\n",
       "75%         69.900000\n",
       "max        900.000000\n",
       "Name: total_area, dtype: float64"
      ]
     },
     "execution_count": 29,
     "metadata": {},
     "output_type": "execute_result"
    }
   ],
   "source": [
    "df['total_area'].describe()"
   ]
  },
  {
   "cell_type": "code",
   "execution_count": 30,
   "metadata": {},
   "outputs": [],
   "source": [
    "df = df.query('20 <= total_area <= 120')"
   ]
  },
  {
   "cell_type": "markdown",
   "metadata": {},
   "source": [
    "#### Изучим цены:"
   ]
  },
  {
   "cell_type": "code",
   "execution_count": 31,
   "metadata": {},
   "outputs": [
    {
     "data": {
      "text/plain": [
       "count    2.261000e+04\n",
       "mean     5.387700e+06\n",
       "std      3.543495e+06\n",
       "min      1.219000e+04\n",
       "25%      3.390000e+06\n",
       "50%      4.500000e+06\n",
       "75%      6.350000e+06\n",
       "max      8.200000e+07\n",
       "Name: last_price, dtype: float64"
      ]
     },
     "execution_count": 31,
     "metadata": {},
     "output_type": "execute_result"
    }
   ],
   "source": [
    "df['last_price'].describe()"
   ]
  },
  {
   "cell_type": "code",
   "execution_count": 32,
   "metadata": {},
   "outputs": [],
   "source": [
    "df = df.query('5e+05 <= last_price <= 10e+06')"
   ]
  },
  {
   "cell_type": "markdown",
   "metadata": {},
   "source": [
    "#### Изучим количество комнат:"
   ]
  },
  {
   "cell_type": "code",
   "execution_count": 33,
   "metadata": {},
   "outputs": [
    {
     "data": {
      "text/plain": [
       "count    20872.000000\n",
       "mean         1.895506\n",
       "std          0.884957\n",
       "min          0.000000\n",
       "25%          1.000000\n",
       "50%          2.000000\n",
       "75%          3.000000\n",
       "max          6.000000\n",
       "Name: rooms, dtype: float64"
      ]
     },
     "execution_count": 33,
     "metadata": {},
     "output_type": "execute_result"
    }
   ],
   "source": [
    "df['rooms'].describe()"
   ]
  },
  {
   "cell_type": "markdown",
   "metadata": {},
   "source": [
    "#### Изучим высоту потолков:"
   ]
  },
  {
   "cell_type": "code",
   "execution_count": 34,
   "metadata": {},
   "outputs": [
    {
     "data": {
      "text/plain": [
       "count    20872.000000\n",
       "mean         2.673103\n",
       "std          0.796433\n",
       "min          1.000000\n",
       "25%          2.600000\n",
       "50%          2.600000\n",
       "75%          2.650000\n",
       "max         32.000000\n",
       "Name: ceiling_height, dtype: float64"
      ]
     },
     "execution_count": 34,
     "metadata": {},
     "output_type": "execute_result"
    }
   ],
   "source": [
    "df['ceiling_height'].describe()"
   ]
  },
  {
   "cell_type": "code",
   "execution_count": 35,
   "metadata": {},
   "outputs": [],
   "source": [
    "df = df.query('2.4 <= ceiling_height <= 3.5')"
   ]
  },
  {
   "cell_type": "markdown",
   "metadata": {},
   "source": [
    "#### Изучим время продажи квартиры:"
   ]
  },
  {
   "cell_type": "code",
   "execution_count": 36,
   "metadata": {},
   "outputs": [
    {
     "data": {
      "text/plain": [
       "count    18252.000000\n",
       "mean       170.403189\n",
       "std        207.415987\n",
       "min          1.000000\n",
       "25%         43.000000\n",
       "50%         91.000000\n",
       "75%        216.000000\n",
       "max       1580.000000\n",
       "Name: days_exposition, dtype: float64"
      ]
     },
     "execution_count": 36,
     "metadata": {},
     "output_type": "execute_result"
    }
   ],
   "source": [
    "df['days_exposition'].describe()"
   ]
  },
  {
   "cell_type": "markdown",
   "metadata": {},
   "source": [
    "#### Гистограммы для каждого параметра:"
   ]
  },
  {
   "cell_type": "code",
   "execution_count": 37,
   "metadata": {},
   "outputs": [
    {
     "data": {
      "text/plain": [
       "<AxesSubplot:>"
      ]
     },
     "execution_count": 37,
     "metadata": {},
     "output_type": "execute_result"
    },
    {
     "data": {
      "image/png": "[encoded data removed]",
      "text/plain": [
       "<Figure size 432x288 with 1 Axes>"
      ]
     },
     "metadata": {
      "needs_background": "light"
     },
     "output_type": "display_data"
    }
   ],
   "source": [
    "df['total_area'].hist(bins=40)"
   ]
  },
  {
   "cell_type": "markdown",
   "metadata": {},
   "source": [
    "Распределение стремится к нормальному, среднее и медианные значения общей площади очень близки."
   ]
  },
  {
   "cell_type": "code",
   "execution_count": 38,
   "metadata": {},
   "outputs": [
    {
     "data": {
      "text/plain": [
       "<AxesSubplot:>"
      ]
     },
     "execution_count": 38,
     "metadata": {},
     "output_type": "execute_result"
    },
    {
     "data": {
      "image/png": "[encoded data removed]",
      "text/plain": [
       "<Figure size 432x288 with 1 Axes>"
      ]
     },
     "metadata": {
      "needs_background": "light"
     },
     "output_type": "display_data"
    }
   ],
   "source": [
    "df['last_price'].hist(bins=50)"
   ]
  },
  {
   "cell_type": "markdown",
   "metadata": {},
   "source": [
    "Распределение стремится к нормальному, больше всего квартир ценой в 4 млн рублей. Видимо именно в такую сумму большинство граждан оценивают свои квартиры. С ростом цены число квартир уменьшается, не многие могут себе позволить дорогую недвижимость."
   ]
  },
  {
   "cell_type": "code",
   "execution_count": 39,
   "metadata": {},
   "outputs": [
    {
     "data": {
      "text/plain": [
       "<AxesSubplot:>"
      ]
     },
     "execution_count": 39,
     "metadata": {},
     "output_type": "execute_result"
    },
    {
     "data": {
      "image/png": "[encoded data removed]",
      "text/plain": [
       "<Figure size 432x288 with 1 Axes>"
      ]
     },
     "metadata": {
      "needs_background": "light"
     },
     "output_type": "display_data"
    }
   ],
   "source": [
    "df['rooms'].hist(bins=6)"
   ]
  },
  {
   "cell_type": "markdown",
   "metadata": {},
   "source": [
    "Распределение стремится к нормальному, больше всего квартир 2,3-х комнатных. Студий и квартир с большим количеством комнат не много. "
   ]
  },
  {
   "cell_type": "code",
   "execution_count": 40,
   "metadata": {},
   "outputs": [
    {
     "data": {
      "text/plain": [
       "<AxesSubplot:>"
      ]
     },
     "execution_count": 40,
     "metadata": {},
     "output_type": "execute_result"
    },
    {
     "data": {
      "image/png": "[encoded data removed]",
      "text/plain": [
       "<Figure size 432x288 with 1 Axes>"
      ]
     },
     "metadata": {
      "needs_background": "light"
     },
     "output_type": "display_data"
    }
   ],
   "source": [
    "df['ceiling_height'].hist()"
   ]
  },
  {
   "cell_type": "markdown",
   "metadata": {},
   "source": [
    "В РФ минимальная высота потолка должна составлять 2.4 метра, стандартная высота от 2.5 до 2.7 метров. В элитных домах может достигать 3 метров. Данные требования хорошо отражены на гистограмме."
   ]
  },
  {
   "cell_type": "code",
   "execution_count": 41,
   "metadata": {},
   "outputs": [
    {
     "data": {
      "text/plain": [
       "<AxesSubplot:>"
      ]
     },
     "execution_count": 41,
     "metadata": {},
     "output_type": "execute_result"
    },
    {
     "data": {
      "image/png": "[encoded data removed]",
      "text/plain": [
       "<Figure size 432x288 with 1 Axes>"
      ]
     },
     "metadata": {
      "needs_background": "light"
     },
     "output_type": "display_data"
    }
   ],
   "source": [
    "df['days_exposition'].hist(bins=80, range=(1, 1000))"
   ]
  },
  {
   "cell_type": "markdown",
   "metadata": {},
   "source": [
    "Время продажи квартиры имеет форму распределения Пуассона. В среднем продажа квартиры длится 180 дней, а половину квартир продадут уже через 219 дней. Можно считать что продажа прошла очень быстро если она прошла за менее чем месяц, и очень долго если она длилась более года."
   ]
  },
  {
   "cell_type": "markdown",
   "metadata": {},
   "source": [
    "### Какие факторы больше всего влияют на стоимость квартиры?"
   ]
  },
  {
   "cell_type": "markdown",
   "metadata": {},
   "source": [
    "#### Проверим, зависит ли цена от общей площади, числа комнат и удалённости от центра, найдем коэффициенты корреляции Пирсона:"
   ]
  },
  {
   "cell_type": "code",
   "execution_count": 42,
   "metadata": {},
   "outputs": [
    {
     "data": {
      "text/plain": [
       "0.6624717818516338"
      ]
     },
     "execution_count": 42,
     "metadata": {},
     "output_type": "execute_result"
    }
   ],
   "source": [
    "df['last_price'].corr(df['total_area'])"
   ]
  },
  {
   "cell_type": "code",
   "execution_count": 43,
   "metadata": {},
   "outputs": [
    {
     "data": {
      "text/plain": [
       "0.42219167462818374"
      ]
     },
     "execution_count": 43,
     "metadata": {},
     "output_type": "execute_result"
    }
   ],
   "source": [
    "df['last_price'].corr(df['rooms'])"
   ]
  },
  {
   "cell_type": "code",
   "execution_count": 44,
   "metadata": {},
   "outputs": [
    {
     "data": {
      "text/plain": [
       "-0.33359662884510105"
      ]
     },
     "execution_count": 44,
     "metadata": {},
     "output_type": "execute_result"
    }
   ],
   "source": [
    "df['last_price'].corr(df['cityCenters_nearest'])"
   ]
  },
  {
   "cell_type": "markdown",
   "metadata": {},
   "source": [
    "Видно, что существует сильная положительная корреляции цены квартиры с ее общей площадью, т.е. при увеличении площади, увеличивается и цена. А вот при увеличении комнат, положительная корреляция уже не такая сильная, возможно это связано с тем, что площадь комнат может быть не большой, и общая площадь может быть все равно маленькой. Также видна завимость, когда при отдалении от центра цена квартир падает, но она практически отсутствует."
   ]
  },
  {
   "cell_type": "markdown",
   "metadata": {},
   "source": [
    "#### Изучим зависимость цены от того, на каком этаже расположена квартира: первом, последнем или другом:"
   ]
  },
  {
   "cell_type": "markdown",
   "metadata": {},
   "source": [
    "Чтобы это выяснить рассчитаем средние и медианные значения общей цены в данных группах:"
   ]
  },
  {
   "cell_type": "code",
   "execution_count": 45,
   "metadata": {},
   "outputs": [
    {
     "data": {
      "text/html": [
       "<div>\n",
       "<style scoped>\n",
       "    .dataframe tbody tr th:only-of-type {\n",
       "        vertical-align: middle;\n",
       "    }\n",
       "\n",
       "    .dataframe tbody tr th {\n",
       "        vertical-align: top;\n",
       "    }\n",
       "\n",
       "    .dataframe thead th {\n",
       "        text-align: right;\n",
       "    }\n",
       "</style>\n",
       "<table border=\"1\" class=\"dataframe\">\n",
       "  <thead>\n",
       "    <tr style=\"text-align: right;\">\n",
       "      <th></th>\n",
       "      <th>median</th>\n",
       "      <th>mean</th>\n",
       "      <th>count</th>\n",
       "    </tr>\n",
       "    <tr>\n",
       "      <th>building_floor</th>\n",
       "      <th></th>\n",
       "      <th></th>\n",
       "      <th></th>\n",
       "    </tr>\n",
       "  </thead>\n",
       "  <tbody>\n",
       "    <tr>\n",
       "      <th>первый</th>\n",
       "      <td>3800000.0</td>\n",
       "      <td>4.050457e+06</td>\n",
       "      <td>2694</td>\n",
       "    </tr>\n",
       "    <tr>\n",
       "      <th>последний</th>\n",
       "      <td>3990000.0</td>\n",
       "      <td>4.255303e+06</td>\n",
       "      <td>2939</td>\n",
       "    </tr>\n",
       "    <tr>\n",
       "      <th>другой</th>\n",
       "      <td>4500000.0</td>\n",
       "      <td>4.815213e+06</td>\n",
       "      <td>15089</td>\n",
       "    </tr>\n",
       "  </tbody>\n",
       "</table>\n",
       "</div>"
      ],
      "text/plain": [
       "                   median          mean  count\n",
       "building_floor                                \n",
       "первый          3800000.0  4.050457e+06   2694\n",
       "последний       3990000.0  4.255303e+06   2939\n",
       "другой          4500000.0  4.815213e+06  15089"
      ]
     },
     "execution_count": 45,
     "metadata": {},
     "output_type": "execute_result"
    }
   ],
   "source": [
    "price_floor = df.pivot_table(index='building_floor', values='last_price', aggfunc=['median', 'mean', 'count'])\n",
    "price_floor.columns = ['median', 'mean', 'count']\n",
    "price_floor.sort_values('median')"
   ]
  },
  {
   "cell_type": "markdown",
   "metadata": {},
   "source": [
    "Из анализа видно, что квартиры на первом этаже оцениваются дешевле всего. Квартиры на последнем этаже также стоят дешевле чем на этажах посередине дома. В итоге саммые дорогие квартиры на этажах между первым и последним."
   ]
  },
  {
   "cell_type": "markdown",
   "metadata": {},
   "source": [
    "#### Изучим зависимость цены от даты размещения: дня недели, месяца и года:"
   ]
  },
  {
   "cell_type": "markdown",
   "metadata": {},
   "source": [
    "##### Зависимость цены от дня недели:"
   ]
  },
  {
   "cell_type": "code",
   "execution_count": 46,
   "metadata": {},
   "outputs": [
    {
     "data": {
      "text/html": [
       "<div>\n",
       "<style scoped>\n",
       "    .dataframe tbody tr th:only-of-type {\n",
       "        vertical-align: middle;\n",
       "    }\n",
       "\n",
       "    .dataframe tbody tr th {\n",
       "        vertical-align: top;\n",
       "    }\n",
       "\n",
       "    .dataframe thead th {\n",
       "        text-align: right;\n",
       "    }\n",
       "</style>\n",
       "<table border=\"1\" class=\"dataframe\">\n",
       "  <thead>\n",
       "    <tr style=\"text-align: right;\">\n",
       "      <th></th>\n",
       "      <th>day_exposition</th>\n",
       "      <th>median</th>\n",
       "      <th>count</th>\n",
       "    </tr>\n",
       "  </thead>\n",
       "  <tbody>\n",
       "    <tr>\n",
       "      <th>0</th>\n",
       "      <td>0</td>\n",
       "      <td>4350000.0</td>\n",
       "      <td>3162</td>\n",
       "    </tr>\n",
       "    <tr>\n",
       "      <th>1</th>\n",
       "      <td>1</td>\n",
       "      <td>4350000.0</td>\n",
       "      <td>3647</td>\n",
       "    </tr>\n",
       "    <tr>\n",
       "      <th>2</th>\n",
       "      <td>2</td>\n",
       "      <td>4370000.0</td>\n",
       "      <td>3457</td>\n",
       "    </tr>\n",
       "    <tr>\n",
       "      <th>3</th>\n",
       "      <td>3</td>\n",
       "      <td>4300000.0</td>\n",
       "      <td>3684</td>\n",
       "    </tr>\n",
       "    <tr>\n",
       "      <th>4</th>\n",
       "      <td>4</td>\n",
       "      <td>4300000.0</td>\n",
       "      <td>3540</td>\n",
       "    </tr>\n",
       "    <tr>\n",
       "      <th>5</th>\n",
       "      <td>5</td>\n",
       "      <td>4300000.0</td>\n",
       "      <td>1730</td>\n",
       "    </tr>\n",
       "    <tr>\n",
       "      <th>6</th>\n",
       "      <td>6</td>\n",
       "      <td>4305000.0</td>\n",
       "      <td>1502</td>\n",
       "    </tr>\n",
       "  </tbody>\n",
       "</table>\n",
       "</div>"
      ],
      "text/plain": [
       "   day_exposition     median  count\n",
       "0               0  4350000.0   3162\n",
       "1               1  4350000.0   3647\n",
       "2               2  4370000.0   3457\n",
       "3               3  4300000.0   3684\n",
       "4               4  4300000.0   3540\n",
       "5               5  4300000.0   1730\n",
       "6               6  4305000.0   1502"
      ]
     },
     "execution_count": 46,
     "metadata": {},
     "output_type": "execute_result"
    }
   ],
   "source": [
    "price_day = df.pivot_table(index='day_exposition', values='last_price', aggfunc=['median', 'count']).reset_index()\n",
    "price_day.columns = ['day_exposition', 'median', 'count']\n",
    "price_day"
   ]
  },
  {
   "cell_type": "code",
   "execution_count": 47,
   "metadata": {},
   "outputs": [
    {
     "data": {
      "text/plain": [
       "<AxesSubplot:xlabel='day_exposition'>"
      ]
     },
     "execution_count": 47,
     "metadata": {},
     "output_type": "execute_result"
    },
    {
     "data": {
      "image/png": "[encoded data removed]",
      "text/plain": [
       "<Figure size 360x360 with 1 Axes>"
      ]
     },
     "metadata": {
      "needs_background": "light"
     },
     "output_type": "display_data"
    }
   ],
   "source": [
    "price_day.plot(x='day_exposition', y='median', style='x-', grid=True, figsize=(5, 5), ylim=(4250000, 4400000))"
   ]
  },
  {
   "cell_type": "markdown",
   "metadata": {},
   "source": [
    "Из построенных графиков видно, что медианное значение цен к концу недели имеет тенденцию снижаться, возможно это связано с особенностями рабочей недели, видно что в выходные дни мало объявлений."
   ]
  },
  {
   "cell_type": "markdown",
   "metadata": {},
   "source": [
    "##### Зависимость цены от месяца:"
   ]
  },
  {
   "cell_type": "code",
   "execution_count": 48,
   "metadata": {},
   "outputs": [
    {
     "data": {
      "text/html": [
       "<div>\n",
       "<style scoped>\n",
       "    .dataframe tbody tr th:only-of-type {\n",
       "        vertical-align: middle;\n",
       "    }\n",
       "\n",
       "    .dataframe tbody tr th {\n",
       "        vertical-align: top;\n",
       "    }\n",
       "\n",
       "    .dataframe thead th {\n",
       "        text-align: right;\n",
       "    }\n",
       "</style>\n",
       "<table border=\"1\" class=\"dataframe\">\n",
       "  <thead>\n",
       "    <tr style=\"text-align: right;\">\n",
       "      <th></th>\n",
       "      <th>month_exposition</th>\n",
       "      <th>median</th>\n",
       "      <th>count</th>\n",
       "    </tr>\n",
       "  </thead>\n",
       "  <tbody>\n",
       "    <tr>\n",
       "      <th>0</th>\n",
       "      <td>1</td>\n",
       "      <td>4320000.0</td>\n",
       "      <td>1307</td>\n",
       "    </tr>\n",
       "    <tr>\n",
       "      <th>1</th>\n",
       "      <td>2</td>\n",
       "      <td>4300000.0</td>\n",
       "      <td>2314</td>\n",
       "    </tr>\n",
       "    <tr>\n",
       "      <th>2</th>\n",
       "      <td>3</td>\n",
       "      <td>4350000.0</td>\n",
       "      <td>2268</td>\n",
       "    </tr>\n",
       "    <tr>\n",
       "      <th>3</th>\n",
       "      <td>4</td>\n",
       "      <td>4500000.0</td>\n",
       "      <td>2096</td>\n",
       "    </tr>\n",
       "    <tr>\n",
       "      <th>4</th>\n",
       "      <td>5</td>\n",
       "      <td>4300000.0</td>\n",
       "      <td>1120</td>\n",
       "    </tr>\n",
       "    <tr>\n",
       "      <th>5</th>\n",
       "      <td>6</td>\n",
       "      <td>4150000.0</td>\n",
       "      <td>1554</td>\n",
       "    </tr>\n",
       "    <tr>\n",
       "      <th>6</th>\n",
       "      <td>7</td>\n",
       "      <td>4300000.0</td>\n",
       "      <td>1470</td>\n",
       "    </tr>\n",
       "    <tr>\n",
       "      <th>7</th>\n",
       "      <td>8</td>\n",
       "      <td>4300000.0</td>\n",
       "      <td>1524</td>\n",
       "    </tr>\n",
       "    <tr>\n",
       "      <th>8</th>\n",
       "      <td>9</td>\n",
       "      <td>4300000.0</td>\n",
       "      <td>1689</td>\n",
       "    </tr>\n",
       "    <tr>\n",
       "      <th>9</th>\n",
       "      <td>10</td>\n",
       "      <td>4300000.0</td>\n",
       "      <td>1883</td>\n",
       "    </tr>\n",
       "    <tr>\n",
       "      <th>10</th>\n",
       "      <td>11</td>\n",
       "      <td>4367500.0</td>\n",
       "      <td>2064</td>\n",
       "    </tr>\n",
       "    <tr>\n",
       "      <th>11</th>\n",
       "      <td>12</td>\n",
       "      <td>4390000.0</td>\n",
       "      <td>1433</td>\n",
       "    </tr>\n",
       "  </tbody>\n",
       "</table>\n",
       "</div>"
      ],
      "text/plain": [
       "    month_exposition     median  count\n",
       "0                  1  4320000.0   1307\n",
       "1                  2  4300000.0   2314\n",
       "2                  3  4350000.0   2268\n",
       "3                  4  4500000.0   2096\n",
       "4                  5  4300000.0   1120\n",
       "5                  6  4150000.0   1554\n",
       "6                  7  4300000.0   1470\n",
       "7                  8  4300000.0   1524\n",
       "8                  9  4300000.0   1689\n",
       "9                 10  4300000.0   1883\n",
       "10                11  4367500.0   2064\n",
       "11                12  4390000.0   1433"
      ]
     },
     "execution_count": 48,
     "metadata": {},
     "output_type": "execute_result"
    }
   ],
   "source": [
    "price_month = df.pivot_table(index='month_exposition', values='last_price', aggfunc=['median', 'count']).reset_index()\n",
    "price_month.columns = ['month_exposition', 'median', 'count']\n",
    "price_month"
   ]
  },
  {
   "cell_type": "code",
   "execution_count": 49,
   "metadata": {},
   "outputs": [
    {
     "data": {
      "text/plain": [
       "<AxesSubplot:xlabel='month_exposition'>"
      ]
     },
     "execution_count": 49,
     "metadata": {},
     "output_type": "execute_result"
    },
    {
     "data": {
      "image/png": "[encoded data removed]",
      "text/plain": [
       "<Figure size 360x360 with 1 Axes>"
      ]
     },
     "metadata": {
      "needs_background": "light"
     },
     "output_type": "display_data"
    }
   ],
   "source": [
    "price_month.plot(x='month_exposition', y='median', style='x-', grid=True, figsize=(5, 5), ylim=(4100000, 4600000))"
   ]
  },
  {
   "cell_type": "markdown",
   "metadata": {},
   "source": [
    "Из графика видна тенденция к снижению цены в летнее время года, возможно это связано с сезоном отпусков и снижением предложения на рынке недвижимости."
   ]
  },
  {
   "cell_type": "markdown",
   "metadata": {},
   "source": [
    "##### Зависимость цены от года:"
   ]
  },
  {
   "cell_type": "code",
   "execution_count": 50,
   "metadata": {},
   "outputs": [
    {
     "data": {
      "text/html": [
       "<div>\n",
       "<style scoped>\n",
       "    .dataframe tbody tr th:only-of-type {\n",
       "        vertical-align: middle;\n",
       "    }\n",
       "\n",
       "    .dataframe tbody tr th {\n",
       "        vertical-align: top;\n",
       "    }\n",
       "\n",
       "    .dataframe thead th {\n",
       "        text-align: right;\n",
       "    }\n",
       "</style>\n",
       "<table border=\"1\" class=\"dataframe\">\n",
       "  <thead>\n",
       "    <tr style=\"text-align: right;\">\n",
       "      <th></th>\n",
       "      <th>year_exposition</th>\n",
       "      <th>median</th>\n",
       "      <th>count</th>\n",
       "    </tr>\n",
       "  </thead>\n",
       "  <tbody>\n",
       "    <tr>\n",
       "      <th>0</th>\n",
       "      <td>2014</td>\n",
       "      <td>4920000.0</td>\n",
       "      <td>79</td>\n",
       "    </tr>\n",
       "    <tr>\n",
       "      <th>1</th>\n",
       "      <td>2015</td>\n",
       "      <td>4700000.0</td>\n",
       "      <td>949</td>\n",
       "    </tr>\n",
       "    <tr>\n",
       "      <th>2</th>\n",
       "      <td>2016</td>\n",
       "      <td>4200000.0</td>\n",
       "      <td>2410</td>\n",
       "    </tr>\n",
       "    <tr>\n",
       "      <th>3</th>\n",
       "      <td>2017</td>\n",
       "      <td>4200000.0</td>\n",
       "      <td>7180</td>\n",
       "    </tr>\n",
       "    <tr>\n",
       "      <th>4</th>\n",
       "      <td>2018</td>\n",
       "      <td>4300000.0</td>\n",
       "      <td>7599</td>\n",
       "    </tr>\n",
       "    <tr>\n",
       "      <th>5</th>\n",
       "      <td>2019</td>\n",
       "      <td>4700000.0</td>\n",
       "      <td>2505</td>\n",
       "    </tr>\n",
       "  </tbody>\n",
       "</table>\n",
       "</div>"
      ],
      "text/plain": [
       "   year_exposition     median  count\n",
       "0             2014  4920000.0     79\n",
       "1             2015  4700000.0    949\n",
       "2             2016  4200000.0   2410\n",
       "3             2017  4200000.0   7180\n",
       "4             2018  4300000.0   7599\n",
       "5             2019  4700000.0   2505"
      ]
     },
     "execution_count": 50,
     "metadata": {},
     "output_type": "execute_result"
    }
   ],
   "source": [
    "price_year = df.pivot_table(index='year_exposition', values='last_price', aggfunc=['median', 'count']).reset_index()\n",
    "price_year.columns = ['year_exposition', 'median', 'count']\n",
    "price_year"
   ]
  },
  {
   "cell_type": "code",
   "execution_count": 51,
   "metadata": {},
   "outputs": [
    {
     "data": {
      "text/plain": [
       "<AxesSubplot:xlabel='year_exposition'>"
      ]
     },
     "execution_count": 51,
     "metadata": {},
     "output_type": "execute_result"
    },
    {
     "data": {
      "image/png": "[encoded data removed]",
      "text/plain": [
       "<Figure size 360x360 with 1 Axes>"
      ]
     },
     "metadata": {
      "needs_background": "light"
     },
     "output_type": "display_data"
    }
   ],
   "source": [
    "price_year.plot(x='year_exposition', y='median', style='x-', grid=True, figsize=(5, 5), ylim=(4100000, 5000000))"
   ]
  },
  {
   "cell_type": "markdown",
   "metadata": {},
   "source": [
    "В 2014 году в России произошел кризис, влияние которого на цены отражено на графике выше, цены на жилье снижались три года."
   ]
  },
  {
   "cell_type": "markdown",
   "metadata": {},
   "source": [
    "### Анализ населенных пунктов"
   ]
  },
  {
   "cell_type": "markdown",
   "metadata": {},
   "source": [
    "Выберим 10 населённых пунктов с наибольшим числом объявлений и посчитаем среднюю цену квадратного метра в этих населённых пунктах."
   ]
  },
  {
   "cell_type": "code",
   "execution_count": 52,
   "metadata": {},
   "outputs": [
    {
     "data": {
      "text/html": [
       "<div>\n",
       "<style scoped>\n",
       "    .dataframe tbody tr th:only-of-type {\n",
       "        vertical-align: middle;\n",
       "    }\n",
       "\n",
       "    .dataframe tbody tr th {\n",
       "        vertical-align: top;\n",
       "    }\n",
       "\n",
       "    .dataframe thead th {\n",
       "        text-align: right;\n",
       "    }\n",
       "</style>\n",
       "<table border=\"1\" class=\"dataframe\">\n",
       "  <thead>\n",
       "    <tr style=\"text-align: right;\">\n",
       "      <th></th>\n",
       "      <th>locality_name</th>\n",
       "      <th>median</th>\n",
       "      <th>count</th>\n",
       "    </tr>\n",
       "  </thead>\n",
       "  <tbody>\n",
       "    <tr>\n",
       "      <th>0</th>\n",
       "      <td>Санкт-Петербург</td>\n",
       "      <td>101219.512195</td>\n",
       "      <td>12949</td>\n",
       "    </tr>\n",
       "    <tr>\n",
       "      <th>1</th>\n",
       "      <td>посёлок Мурино</td>\n",
       "      <td>85878.462169</td>\n",
       "      <td>520</td>\n",
       "    </tr>\n",
       "    <tr>\n",
       "      <th>2</th>\n",
       "      <td>посёлок Шушары</td>\n",
       "      <td>76666.666667</td>\n",
       "      <td>435</td>\n",
       "    </tr>\n",
       "    <tr>\n",
       "      <th>3</th>\n",
       "      <td>Всеволожск</td>\n",
       "      <td>65789.473684</td>\n",
       "      <td>389</td>\n",
       "    </tr>\n",
       "    <tr>\n",
       "      <th>4</th>\n",
       "      <td>Колпино</td>\n",
       "      <td>74722.222222</td>\n",
       "      <td>335</td>\n",
       "    </tr>\n",
       "    <tr>\n",
       "      <th>5</th>\n",
       "      <td>Пушкин</td>\n",
       "      <td>98045.581869</td>\n",
       "      <td>328</td>\n",
       "    </tr>\n",
       "    <tr>\n",
       "      <th>6</th>\n",
       "      <td>посёлок Парголово</td>\n",
       "      <td>91780.224134</td>\n",
       "      <td>326</td>\n",
       "    </tr>\n",
       "    <tr>\n",
       "      <th>7</th>\n",
       "      <td>Гатчина</td>\n",
       "      <td>67924.528302</td>\n",
       "      <td>301</td>\n",
       "    </tr>\n",
       "    <tr>\n",
       "      <th>8</th>\n",
       "      <td>деревня Кудрово</td>\n",
       "      <td>91803.278689</td>\n",
       "      <td>297</td>\n",
       "    </tr>\n",
       "    <tr>\n",
       "      <th>9</th>\n",
       "      <td>Выборг</td>\n",
       "      <td>58307.692308</td>\n",
       "      <td>225</td>\n",
       "    </tr>\n",
       "  </tbody>\n",
       "</table>\n",
       "</div>"
      ],
      "text/plain": [
       "       locality_name         median  count\n",
       "0    Санкт-Петербург  101219.512195  12949\n",
       "1     посёлок Мурино   85878.462169    520\n",
       "2     посёлок Шушары   76666.666667    435\n",
       "3         Всеволожск   65789.473684    389\n",
       "4            Колпино   74722.222222    335\n",
       "5             Пушкин   98045.581869    328\n",
       "6  посёлок Парголово   91780.224134    326\n",
       "7            Гатчина   67924.528302    301\n",
       "8    деревня Кудрово   91803.278689    297\n",
       "9             Выборг   58307.692308    225"
      ]
     },
     "execution_count": 52,
     "metadata": {},
     "output_type": "execute_result"
    }
   ],
   "source": [
    "price_city = df.pivot_table(index='locality_name', values='price_square_meter', aggfunc=['median', 'count']).reset_index()\n",
    "price_city.columns = ['locality_name', 'median', 'count']\n",
    "price_city = price_city.sort_values(by='count', ascending=False).reset_index(drop=True)\n",
    "price_city = price_city.query('count >= @price_city[\"count\"][9]')\n",
    "price_city.head(10)"
   ]
  },
  {
   "cell_type": "markdown",
   "metadata": {},
   "source": [
    "Отсортируем по цене:"
   ]
  },
  {
   "cell_type": "code",
   "execution_count": 53,
   "metadata": {},
   "outputs": [
    {
     "data": {
      "text/html": [
       "<div>\n",
       "<style scoped>\n",
       "    .dataframe tbody tr th:only-of-type {\n",
       "        vertical-align: middle;\n",
       "    }\n",
       "\n",
       "    .dataframe tbody tr th {\n",
       "        vertical-align: top;\n",
       "    }\n",
       "\n",
       "    .dataframe thead th {\n",
       "        text-align: right;\n",
       "    }\n",
       "</style>\n",
       "<table border=\"1\" class=\"dataframe\">\n",
       "  <thead>\n",
       "    <tr style=\"text-align: right;\">\n",
       "      <th></th>\n",
       "      <th>locality_name</th>\n",
       "      <th>median</th>\n",
       "      <th>count</th>\n",
       "    </tr>\n",
       "  </thead>\n",
       "  <tbody>\n",
       "    <tr>\n",
       "      <th>0</th>\n",
       "      <td>Санкт-Петербург</td>\n",
       "      <td>101219.512195</td>\n",
       "      <td>12949</td>\n",
       "    </tr>\n",
       "    <tr>\n",
       "      <th>1</th>\n",
       "      <td>Пушкин</td>\n",
       "      <td>98045.581869</td>\n",
       "      <td>328</td>\n",
       "    </tr>\n",
       "    <tr>\n",
       "      <th>2</th>\n",
       "      <td>деревня Кудрово</td>\n",
       "      <td>91803.278689</td>\n",
       "      <td>297</td>\n",
       "    </tr>\n",
       "    <tr>\n",
       "      <th>3</th>\n",
       "      <td>посёлок Парголово</td>\n",
       "      <td>91780.224134</td>\n",
       "      <td>326</td>\n",
       "    </tr>\n",
       "    <tr>\n",
       "      <th>4</th>\n",
       "      <td>посёлок Мурино</td>\n",
       "      <td>85878.462169</td>\n",
       "      <td>520</td>\n",
       "    </tr>\n",
       "    <tr>\n",
       "      <th>5</th>\n",
       "      <td>посёлок Шушары</td>\n",
       "      <td>76666.666667</td>\n",
       "      <td>435</td>\n",
       "    </tr>\n",
       "    <tr>\n",
       "      <th>6</th>\n",
       "      <td>Колпино</td>\n",
       "      <td>74722.222222</td>\n",
       "      <td>335</td>\n",
       "    </tr>\n",
       "    <tr>\n",
       "      <th>7</th>\n",
       "      <td>Гатчина</td>\n",
       "      <td>67924.528302</td>\n",
       "      <td>301</td>\n",
       "    </tr>\n",
       "    <tr>\n",
       "      <th>8</th>\n",
       "      <td>Всеволожск</td>\n",
       "      <td>65789.473684</td>\n",
       "      <td>389</td>\n",
       "    </tr>\n",
       "    <tr>\n",
       "      <th>9</th>\n",
       "      <td>Выборг</td>\n",
       "      <td>58307.692308</td>\n",
       "      <td>225</td>\n",
       "    </tr>\n",
       "  </tbody>\n",
       "</table>\n",
       "</div>"
      ],
      "text/plain": [
       "       locality_name         median  count\n",
       "0    Санкт-Петербург  101219.512195  12949\n",
       "1             Пушкин   98045.581869    328\n",
       "2    деревня Кудрово   91803.278689    297\n",
       "3  посёлок Парголово   91780.224134    326\n",
       "4     посёлок Мурино   85878.462169    520\n",
       "5     посёлок Шушары   76666.666667    435\n",
       "6            Колпино   74722.222222    335\n",
       "7            Гатчина   67924.528302    301\n",
       "8         Всеволожск   65789.473684    389\n",
       "9             Выборг   58307.692308    225"
      ]
     },
     "execution_count": 53,
     "metadata": {},
     "output_type": "execute_result"
    }
   ],
   "source": [
    "price_city = price_city.sort_values(by='median', ascending=False).reset_index(drop=True)\n",
    "price_city"
   ]
  },
  {
   "cell_type": "markdown",
   "metadata": {},
   "source": [
    "Средняя цена квадратного метра дороже всего в Санкт-Петербурге, а дешевле всего в Выборге."
   ]
  },
  {
   "cell_type": "markdown",
   "metadata": {},
   "source": [
    "### Изучение предложения квартир в Санкт-Петербурге"
   ]
  },
  {
   "cell_type": "markdown",
   "metadata": {},
   "source": [
    "Выделим квартиры в Санкт-Петербурге (locality_name). Выясним, какая область входит в центр.\n",
    "\n",
    "Создадим столбец с расстоянием до центра в километрах округлив до целых значений, перед этим исключив пропуски. "
   ]
  },
  {
   "cell_type": "code",
   "execution_count": 54,
   "metadata": {},
   "outputs": [
    {
     "data": {
      "text/html": [
       "<div>\n",
       "<style scoped>\n",
       "    .dataframe tbody tr th:only-of-type {\n",
       "        vertical-align: middle;\n",
       "    }\n",
       "\n",
       "    .dataframe tbody tr th {\n",
       "        vertical-align: top;\n",
       "    }\n",
       "\n",
       "    .dataframe thead th {\n",
       "        text-align: right;\n",
       "    }\n",
       "</style>\n",
       "<table border=\"1\" class=\"dataframe\">\n",
       "  <thead>\n",
       "    <tr style=\"text-align: right;\">\n",
       "      <th></th>\n",
       "      <th>total_images</th>\n",
       "      <th>last_price</th>\n",
       "      <th>total_area</th>\n",
       "      <th>first_day_exposition</th>\n",
       "      <th>rooms</th>\n",
       "      <th>ceiling_height</th>\n",
       "      <th>floors_total</th>\n",
       "      <th>living_area</th>\n",
       "      <th>floor</th>\n",
       "      <th>is_apartment</th>\n",
       "      <th>...</th>\n",
       "      <th>ponds_nearest</th>\n",
       "      <th>days_exposition</th>\n",
       "      <th>price_square_meter</th>\n",
       "      <th>day_exposition</th>\n",
       "      <th>month_exposition</th>\n",
       "      <th>year_exposition</th>\n",
       "      <th>building_floor</th>\n",
       "      <th>living_by_total_area</th>\n",
       "      <th>kitchen_by_total_area</th>\n",
       "      <th>centers_nearest_km</th>\n",
       "    </tr>\n",
       "  </thead>\n",
       "  <tbody>\n",
       "    <tr>\n",
       "      <th>0</th>\n",
       "      <td>10</td>\n",
       "      <td>5196000.0</td>\n",
       "      <td>56.0</td>\n",
       "      <td>2015-08-20</td>\n",
       "      <td>2</td>\n",
       "      <td>2.60</td>\n",
       "      <td>5</td>\n",
       "      <td>34.3</td>\n",
       "      <td>4</td>\n",
       "      <td>False</td>\n",
       "      <td>...</td>\n",
       "      <td>574.0</td>\n",
       "      <td>558.0</td>\n",
       "      <td>92785.714286</td>\n",
       "      <td>3</td>\n",
       "      <td>8</td>\n",
       "      <td>2015</td>\n",
       "      <td>другой</td>\n",
       "      <td>0.612500</td>\n",
       "      <td>0.148214</td>\n",
       "      <td>13</td>\n",
       "    </tr>\n",
       "    <tr>\n",
       "      <th>1</th>\n",
       "      <td>2</td>\n",
       "      <td>10000000.0</td>\n",
       "      <td>100.0</td>\n",
       "      <td>2018-06-19</td>\n",
       "      <td>2</td>\n",
       "      <td>3.03</td>\n",
       "      <td>14</td>\n",
       "      <td>32.0</td>\n",
       "      <td>13</td>\n",
       "      <td>False</td>\n",
       "      <td>...</td>\n",
       "      <td>48.0</td>\n",
       "      <td>121.0</td>\n",
       "      <td>100000.000000</td>\n",
       "      <td>1</td>\n",
       "      <td>6</td>\n",
       "      <td>2018</td>\n",
       "      <td>другой</td>\n",
       "      <td>0.320000</td>\n",
       "      <td>0.410000</td>\n",
       "      <td>8</td>\n",
       "    </tr>\n",
       "    <tr>\n",
       "      <th>2</th>\n",
       "      <td>5</td>\n",
       "      <td>7915000.0</td>\n",
       "      <td>71.6</td>\n",
       "      <td>2019-04-18</td>\n",
       "      <td>2</td>\n",
       "      <td>2.60</td>\n",
       "      <td>24</td>\n",
       "      <td>NaN</td>\n",
       "      <td>22</td>\n",
       "      <td>False</td>\n",
       "      <td>...</td>\n",
       "      <td>NaN</td>\n",
       "      <td>NaN</td>\n",
       "      <td>110544.692737</td>\n",
       "      <td>3</td>\n",
       "      <td>4</td>\n",
       "      <td>2019</td>\n",
       "      <td>другой</td>\n",
       "      <td>NaN</td>\n",
       "      <td>0.263966</td>\n",
       "      <td>11</td>\n",
       "    </tr>\n",
       "    <tr>\n",
       "      <th>3</th>\n",
       "      <td>18</td>\n",
       "      <td>5400000.0</td>\n",
       "      <td>61.0</td>\n",
       "      <td>2017-02-26</td>\n",
       "      <td>3</td>\n",
       "      <td>2.50</td>\n",
       "      <td>9</td>\n",
       "      <td>43.6</td>\n",
       "      <td>7</td>\n",
       "      <td>False</td>\n",
       "      <td>...</td>\n",
       "      <td>NaN</td>\n",
       "      <td>289.0</td>\n",
       "      <td>88524.590164</td>\n",
       "      <td>6</td>\n",
       "      <td>2</td>\n",
       "      <td>2017</td>\n",
       "      <td>другой</td>\n",
       "      <td>0.714754</td>\n",
       "      <td>0.106557</td>\n",
       "      <td>15</td>\n",
       "    </tr>\n",
       "    <tr>\n",
       "      <th>4</th>\n",
       "      <td>5</td>\n",
       "      <td>5050000.0</td>\n",
       "      <td>39.6</td>\n",
       "      <td>2017-11-16</td>\n",
       "      <td>1</td>\n",
       "      <td>2.67</td>\n",
       "      <td>12</td>\n",
       "      <td>20.3</td>\n",
       "      <td>3</td>\n",
       "      <td>False</td>\n",
       "      <td>...</td>\n",
       "      <td>553.0</td>\n",
       "      <td>137.0</td>\n",
       "      <td>127525.252525</td>\n",
       "      <td>3</td>\n",
       "      <td>11</td>\n",
       "      <td>2017</td>\n",
       "      <td>другой</td>\n",
       "      <td>0.512626</td>\n",
       "      <td>0.214646</td>\n",
       "      <td>13</td>\n",
       "    </tr>\n",
       "  </tbody>\n",
       "</table>\n",
       "<p>5 rows × 30 columns</p>\n",
       "</div>"
      ],
      "text/plain": [
       "   total_images  last_price  total_area first_day_exposition  rooms  \\\n",
       "0            10   5196000.0        56.0           2015-08-20      2   \n",
       "1             2  10000000.0       100.0           2018-06-19      2   \n",
       "2             5   7915000.0        71.6           2019-04-18      2   \n",
       "3            18   5400000.0        61.0           2017-02-26      3   \n",
       "4             5   5050000.0        39.6           2017-11-16      1   \n",
       "\n",
       "   ceiling_height  floors_total  living_area  floor  is_apartment  ...  \\\n",
       "0            2.60             5         34.3      4         False  ...   \n",
       "1            3.03            14         32.0     13         False  ...   \n",
       "2            2.60            24          NaN     22         False  ...   \n",
       "3            2.50             9         43.6      7         False  ...   \n",
       "4            2.67            12         20.3      3         False  ...   \n",
       "\n",
       "   ponds_nearest  days_exposition  price_square_meter  day_exposition  \\\n",
       "0          574.0            558.0        92785.714286               3   \n",
       "1           48.0            121.0       100000.000000               1   \n",
       "2            NaN              NaN       110544.692737               3   \n",
       "3            NaN            289.0        88524.590164               6   \n",
       "4          553.0            137.0       127525.252525               3   \n",
       "\n",
       "  month_exposition  year_exposition  building_floor  living_by_total_area  \\\n",
       "0                8             2015          другой              0.612500   \n",
       "1                6             2018          другой              0.320000   \n",
       "2                4             2019          другой                   NaN   \n",
       "3                2             2017          другой              0.714754   \n",
       "4               11             2017          другой              0.512626   \n",
       "\n",
       "   kitchen_by_total_area  centers_nearest_km  \n",
       "0               0.148214                  13  \n",
       "1               0.410000                   8  \n",
       "2               0.263966                  11  \n",
       "3               0.106557                  15  \n",
       "4               0.214646                  13  \n",
       "\n",
       "[5 rows x 30 columns]"
      ]
     },
     "execution_count": 54,
     "metadata": {},
     "output_type": "execute_result"
    }
   ],
   "source": [
    "sankt_peterburg_price = df.query('locality_name == \"Санкт-Петербург\"')\n",
    "sankt_peterburg_price.loc[:, 'cityCenters_nearest'] = sankt_peterburg_price['cityCenters_nearest'].fillna(0)\n",
    "sankt_peterburg_price = sankt_peterburg_price.query('cityCenters_nearest > 0')\n",
    "sankt_peterburg_price.loc[:, 'centers_nearest_km'] = sankt_peterburg_price['cityCenters_nearest'] / 1000\n",
    "sankt_peterburg_price.loc[:, 'centers_nearest_km'] = sankt_peterburg_price['centers_nearest_km'].astype(int)\n",
    "sankt_peterburg_price = sankt_peterburg_price.reset_index(drop=True)\n",
    "sankt_peterburg_price.head()"
   ]
  },
  {
   "cell_type": "markdown",
   "metadata": {},
   "source": [
    "Посчитаем среднюю цену для каждого километра и построим график:"
   ]
  },
  {
   "cell_type": "code",
   "execution_count": 55,
   "metadata": {},
   "outputs": [
    {
     "data": {
      "text/html": [
       "<div>\n",
       "<style scoped>\n",
       "    .dataframe tbody tr th:only-of-type {\n",
       "        vertical-align: middle;\n",
       "    }\n",
       "\n",
       "    .dataframe tbody tr th {\n",
       "        vertical-align: top;\n",
       "    }\n",
       "\n",
       "    .dataframe thead th {\n",
       "        text-align: right;\n",
       "    }\n",
       "</style>\n",
       "<table border=\"1\" class=\"dataframe\">\n",
       "  <thead>\n",
       "    <tr style=\"text-align: right;\">\n",
       "      <th></th>\n",
       "      <th>centers_nearest_km</th>\n",
       "      <th>mean</th>\n",
       "      <th>count</th>\n",
       "    </tr>\n",
       "  </thead>\n",
       "  <tbody>\n",
       "    <tr>\n",
       "      <th>0</th>\n",
       "      <td>0</td>\n",
       "      <td>113004.154154</td>\n",
       "      <td>32</td>\n",
       "    </tr>\n",
       "    <tr>\n",
       "      <th>1</th>\n",
       "      <td>1</td>\n",
       "      <td>112158.465854</td>\n",
       "      <td>101</td>\n",
       "    </tr>\n",
       "    <tr>\n",
       "      <th>2</th>\n",
       "      <td>2</td>\n",
       "      <td>111120.385812</td>\n",
       "      <td>149</td>\n",
       "    </tr>\n",
       "    <tr>\n",
       "      <th>3</th>\n",
       "      <td>3</td>\n",
       "      <td>108336.715749</td>\n",
       "      <td>292</td>\n",
       "    </tr>\n",
       "    <tr>\n",
       "      <th>4</th>\n",
       "      <td>4</td>\n",
       "      <td>118053.185264</td>\n",
       "      <td>445</td>\n",
       "    </tr>\n",
       "    <tr>\n",
       "      <th>5</th>\n",
       "      <td>5</td>\n",
       "      <td>120693.094155</td>\n",
       "      <td>438</td>\n",
       "    </tr>\n",
       "    <tr>\n",
       "      <th>6</th>\n",
       "      <td>6</td>\n",
       "      <td>116966.937929</td>\n",
       "      <td>286</td>\n",
       "    </tr>\n",
       "    <tr>\n",
       "      <th>7</th>\n",
       "      <td>7</td>\n",
       "      <td>116457.800042</td>\n",
       "      <td>275</td>\n",
       "    </tr>\n",
       "    <tr>\n",
       "      <th>8</th>\n",
       "      <td>8</td>\n",
       "      <td>109725.646591</td>\n",
       "      <td>499</td>\n",
       "    </tr>\n",
       "    <tr>\n",
       "      <th>9</th>\n",
       "      <td>9</td>\n",
       "      <td>105215.746333</td>\n",
       "      <td>601</td>\n",
       "    </tr>\n",
       "    <tr>\n",
       "      <th>10</th>\n",
       "      <td>10</td>\n",
       "      <td>105344.243490</td>\n",
       "      <td>800</td>\n",
       "    </tr>\n",
       "    <tr>\n",
       "      <th>11</th>\n",
       "      <td>11</td>\n",
       "      <td>103866.773205</td>\n",
       "      <td>1298</td>\n",
       "    </tr>\n",
       "    <tr>\n",
       "      <th>12</th>\n",
       "      <td>12</td>\n",
       "      <td>105145.607068</td>\n",
       "      <td>1363</td>\n",
       "    </tr>\n",
       "    <tr>\n",
       "      <th>13</th>\n",
       "      <td>13</td>\n",
       "      <td>105172.964769</td>\n",
       "      <td>1286</td>\n",
       "    </tr>\n",
       "    <tr>\n",
       "      <th>14</th>\n",
       "      <td>14</td>\n",
       "      <td>103000.308081</td>\n",
       "      <td>1412</td>\n",
       "    </tr>\n",
       "    <tr>\n",
       "      <th>15</th>\n",
       "      <td>15</td>\n",
       "      <td>100287.827894</td>\n",
       "      <td>1294</td>\n",
       "    </tr>\n",
       "    <tr>\n",
       "      <th>16</th>\n",
       "      <td>16</td>\n",
       "      <td>97973.674441</td>\n",
       "      <td>1038</td>\n",
       "    </tr>\n",
       "    <tr>\n",
       "      <th>17</th>\n",
       "      <td>17</td>\n",
       "      <td>93161.307236</td>\n",
       "      <td>516</td>\n",
       "    </tr>\n",
       "    <tr>\n",
       "      <th>18</th>\n",
       "      <td>18</td>\n",
       "      <td>93695.136464</td>\n",
       "      <td>165</td>\n",
       "    </tr>\n",
       "    <tr>\n",
       "      <th>19</th>\n",
       "      <td>19</td>\n",
       "      <td>95082.949854</td>\n",
       "      <td>81</td>\n",
       "    </tr>\n",
       "    <tr>\n",
       "      <th>20</th>\n",
       "      <td>20</td>\n",
       "      <td>106074.434052</td>\n",
       "      <td>78</td>\n",
       "    </tr>\n",
       "    <tr>\n",
       "      <th>21</th>\n",
       "      <td>21</td>\n",
       "      <td>90829.259670</td>\n",
       "      <td>190</td>\n",
       "    </tr>\n",
       "    <tr>\n",
       "      <th>22</th>\n",
       "      <td>22</td>\n",
       "      <td>87938.742369</td>\n",
       "      <td>134</td>\n",
       "    </tr>\n",
       "    <tr>\n",
       "      <th>23</th>\n",
       "      <td>23</td>\n",
       "      <td>92720.641577</td>\n",
       "      <td>30</td>\n",
       "    </tr>\n",
       "    <tr>\n",
       "      <th>24</th>\n",
       "      <td>24</td>\n",
       "      <td>82440.343912</td>\n",
       "      <td>22</td>\n",
       "    </tr>\n",
       "    <tr>\n",
       "      <th>25</th>\n",
       "      <td>25</td>\n",
       "      <td>91270.484072</td>\n",
       "      <td>74</td>\n",
       "    </tr>\n",
       "    <tr>\n",
       "      <th>26</th>\n",
       "      <td>26</td>\n",
       "      <td>75171.911041</td>\n",
       "      <td>3</td>\n",
       "    </tr>\n",
       "    <tr>\n",
       "      <th>27</th>\n",
       "      <td>27</td>\n",
       "      <td>70312.500000</td>\n",
       "      <td>1</td>\n",
       "    </tr>\n",
       "    <tr>\n",
       "      <th>28</th>\n",
       "      <td>28</td>\n",
       "      <td>81840.638722</td>\n",
       "      <td>10</td>\n",
       "    </tr>\n",
       "    <tr>\n",
       "      <th>29</th>\n",
       "      <td>29</td>\n",
       "      <td>65460.203079</td>\n",
       "      <td>2</td>\n",
       "    </tr>\n",
       "  </tbody>\n",
       "</table>\n",
       "</div>"
      ],
      "text/plain": [
       "    centers_nearest_km           mean  count\n",
       "0                    0  113004.154154     32\n",
       "1                    1  112158.465854    101\n",
       "2                    2  111120.385812    149\n",
       "3                    3  108336.715749    292\n",
       "4                    4  118053.185264    445\n",
       "5                    5  120693.094155    438\n",
       "6                    6  116966.937929    286\n",
       "7                    7  116457.800042    275\n",
       "8                    8  109725.646591    499\n",
       "9                    9  105215.746333    601\n",
       "10                  10  105344.243490    800\n",
       "11                  11  103866.773205   1298\n",
       "12                  12  105145.607068   1363\n",
       "13                  13  105172.964769   1286\n",
       "14                  14  103000.308081   1412\n",
       "15                  15  100287.827894   1294\n",
       "16                  16   97973.674441   1038\n",
       "17                  17   93161.307236    516\n",
       "18                  18   93695.136464    165\n",
       "19                  19   95082.949854     81\n",
       "20                  20  106074.434052     78\n",
       "21                  21   90829.259670    190\n",
       "22                  22   87938.742369    134\n",
       "23                  23   92720.641577     30\n",
       "24                  24   82440.343912     22\n",
       "25                  25   91270.484072     74\n",
       "26                  26   75171.911041      3\n",
       "27                  27   70312.500000      1\n",
       "28                  28   81840.638722     10\n",
       "29                  29   65460.203079      2"
      ]
     },
     "execution_count": 55,
     "metadata": {},
     "output_type": "execute_result"
    }
   ],
   "source": [
    "sankt_peterburg_pivot = sankt_peterburg_price.pivot_table(index='centers_nearest_km', values='price_square_meter', aggfunc=['mean', 'count']).reset_index()\n",
    "sankt_peterburg_pivot.columns = ['centers_nearest_km', 'mean', 'count']\n",
    "sankt_peterburg_pivot"
   ]
  },
  {
   "cell_type": "code",
   "execution_count": 56,
   "metadata": {},
   "outputs": [
    {
     "data": {
      "text/plain": [
       "<AxesSubplot:xlabel='centers_nearest_km'>"
      ]
     },
     "execution_count": 56,
     "metadata": {},
     "output_type": "execute_result"
    },
    {
     "data": {
      "image/png": "[encoded data removed]",
      "text/plain": [
       "<Figure size 720x360 with 1 Axes>"
      ]
     },
     "metadata": {
      "needs_background": "light"
     },
     "output_type": "display_data"
    }
   ],
   "source": [
    "sankt_peterburg_pivot.plot(x='centers_nearest_km', y='mean', style='x-', grid=True, figsize=(10, 5))"
   ]
  },
  {
   "cell_type": "markdown",
   "metadata": {},
   "source": [
    "График выше показывает как цена зависит от удаленности от центра. Всплеск цены в конце графика (26-29 км) вызван выбросами в данных, так как количество объявлений на указанном расстоянии очень мало по сравнению с другими расстояниями, и выброс на 27 километрах внес значительную ошибку в значение среднего, так как оно было посчитано только из двух значений.\n",
    "\n",
    "Центральную зону можно определить равной 9 км, так как с данного значения на графике начинается более резкий рост цены."
   ]
  },
  {
   "cell_type": "markdown",
   "metadata": {},
   "source": [
    "### Проанализируем квартиры в центре города"
   ]
  },
  {
   "cell_type": "markdown",
   "metadata": {},
   "source": [
    "Выделим сегмент квартир в центре:"
   ]
  },
  {
   "cell_type": "code",
   "execution_count": 57,
   "metadata": {},
   "outputs": [],
   "source": [
    "sankt_peterburg_center = sankt_peterburg_price.query('centers_nearest_km <= 9')\n",
    "sankt_peterburg_center = sankt_peterburg_center.reset_index(drop=True)"
   ]
  },
  {
   "cell_type": "code",
   "execution_count": 58,
   "metadata": {},
   "outputs": [
    {
     "data": {
      "text/html": [
       "<div>\n",
       "<style scoped>\n",
       "    .dataframe tbody tr th:only-of-type {\n",
       "        vertical-align: middle;\n",
       "    }\n",
       "\n",
       "    .dataframe tbody tr th {\n",
       "        vertical-align: top;\n",
       "    }\n",
       "\n",
       "    .dataframe thead th {\n",
       "        text-align: right;\n",
       "    }\n",
       "</style>\n",
       "<table border=\"1\" class=\"dataframe\">\n",
       "  <thead>\n",
       "    <tr style=\"text-align: right;\">\n",
       "      <th></th>\n",
       "      <th>total_images</th>\n",
       "      <th>last_price</th>\n",
       "      <th>total_area</th>\n",
       "      <th>first_day_exposition</th>\n",
       "      <th>rooms</th>\n",
       "      <th>ceiling_height</th>\n",
       "      <th>floors_total</th>\n",
       "      <th>living_area</th>\n",
       "      <th>floor</th>\n",
       "      <th>is_apartment</th>\n",
       "      <th>...</th>\n",
       "      <th>ponds_nearest</th>\n",
       "      <th>days_exposition</th>\n",
       "      <th>price_square_meter</th>\n",
       "      <th>day_exposition</th>\n",
       "      <th>month_exposition</th>\n",
       "      <th>year_exposition</th>\n",
       "      <th>building_floor</th>\n",
       "      <th>living_by_total_area</th>\n",
       "      <th>kitchen_by_total_area</th>\n",
       "      <th>centers_nearest_km</th>\n",
       "    </tr>\n",
       "  </thead>\n",
       "  <tbody>\n",
       "    <tr>\n",
       "      <th>0</th>\n",
       "      <td>2</td>\n",
       "      <td>10000000.0</td>\n",
       "      <td>100.0</td>\n",
       "      <td>2018-06-19</td>\n",
       "      <td>2</td>\n",
       "      <td>3.03</td>\n",
       "      <td>14</td>\n",
       "      <td>32.0</td>\n",
       "      <td>13</td>\n",
       "      <td>False</td>\n",
       "      <td>...</td>\n",
       "      <td>48.0</td>\n",
       "      <td>121.0</td>\n",
       "      <td>100000.000000</td>\n",
       "      <td>1</td>\n",
       "      <td>6</td>\n",
       "      <td>2018</td>\n",
       "      <td>другой</td>\n",
       "      <td>0.320000</td>\n",
       "      <td>0.410000</td>\n",
       "      <td>8</td>\n",
       "    </tr>\n",
       "    <tr>\n",
       "      <th>1</th>\n",
       "      <td>13</td>\n",
       "      <td>3200000.0</td>\n",
       "      <td>31.6</td>\n",
       "      <td>2018-03-14</td>\n",
       "      <td>1</td>\n",
       "      <td>2.60</td>\n",
       "      <td>5</td>\n",
       "      <td>16.9</td>\n",
       "      <td>2</td>\n",
       "      <td>False</td>\n",
       "      <td>...</td>\n",
       "      <td>NaN</td>\n",
       "      <td>310.0</td>\n",
       "      <td>101265.822785</td>\n",
       "      <td>2</td>\n",
       "      <td>3</td>\n",
       "      <td>2018</td>\n",
       "      <td>другой</td>\n",
       "      <td>0.534810</td>\n",
       "      <td>0.180380</td>\n",
       "      <td>9</td>\n",
       "    </tr>\n",
       "    <tr>\n",
       "      <th>2</th>\n",
       "      <td>8</td>\n",
       "      <td>6500000.0</td>\n",
       "      <td>97.2</td>\n",
       "      <td>2015-10-31</td>\n",
       "      <td>2</td>\n",
       "      <td>2.60</td>\n",
       "      <td>3</td>\n",
       "      <td>46.5</td>\n",
       "      <td>1</td>\n",
       "      <td>False</td>\n",
       "      <td>...</td>\n",
       "      <td>124.0</td>\n",
       "      <td>265.0</td>\n",
       "      <td>66872.427984</td>\n",
       "      <td>5</td>\n",
       "      <td>10</td>\n",
       "      <td>2015</td>\n",
       "      <td>первый</td>\n",
       "      <td>0.478395</td>\n",
       "      <td>0.201646</td>\n",
       "      <td>2</td>\n",
       "    </tr>\n",
       "    <tr>\n",
       "      <th>3</th>\n",
       "      <td>14</td>\n",
       "      <td>4350000.0</td>\n",
       "      <td>41.0</td>\n",
       "      <td>2016-03-28</td>\n",
       "      <td>1</td>\n",
       "      <td>2.80</td>\n",
       "      <td>7</td>\n",
       "      <td>18.1</td>\n",
       "      <td>4</td>\n",
       "      <td>False</td>\n",
       "      <td>...</td>\n",
       "      <td>439.0</td>\n",
       "      <td>152.0</td>\n",
       "      <td>106097.560976</td>\n",
       "      <td>0</td>\n",
       "      <td>3</td>\n",
       "      <td>2016</td>\n",
       "      <td>другой</td>\n",
       "      <td>0.441463</td>\n",
       "      <td>0.270732</td>\n",
       "      <td>9</td>\n",
       "    </tr>\n",
       "    <tr>\n",
       "      <th>4</th>\n",
       "      <td>18</td>\n",
       "      <td>7990000.0</td>\n",
       "      <td>74.0</td>\n",
       "      <td>2017-08-24</td>\n",
       "      <td>2</td>\n",
       "      <td>2.60</td>\n",
       "      <td>4</td>\n",
       "      <td>43.0</td>\n",
       "      <td>4</td>\n",
       "      <td>False</td>\n",
       "      <td>...</td>\n",
       "      <td>NaN</td>\n",
       "      <td>609.0</td>\n",
       "      <td>107972.972973</td>\n",
       "      <td>3</td>\n",
       "      <td>8</td>\n",
       "      <td>2017</td>\n",
       "      <td>последний</td>\n",
       "      <td>0.581081</td>\n",
       "      <td>0.270270</td>\n",
       "      <td>4</td>\n",
       "    </tr>\n",
       "  </tbody>\n",
       "</table>\n",
       "<p>5 rows × 30 columns</p>\n",
       "</div>"
      ],
      "text/plain": [
       "   total_images  last_price  total_area first_day_exposition  rooms  \\\n",
       "0             2  10000000.0       100.0           2018-06-19      2   \n",
       "1            13   3200000.0        31.6           2018-03-14      1   \n",
       "2             8   6500000.0        97.2           2015-10-31      2   \n",
       "3            14   4350000.0        41.0           2016-03-28      1   \n",
       "4            18   7990000.0        74.0           2017-08-24      2   \n",
       "\n",
       "   ceiling_height  floors_total  living_area  floor  is_apartment  ...  \\\n",
       "0            3.03            14         32.0     13         False  ...   \n",
       "1            2.60             5         16.9      2         False  ...   \n",
       "2            2.60             3         46.5      1         False  ...   \n",
       "3            2.80             7         18.1      4         False  ...   \n",
       "4            2.60             4         43.0      4         False  ...   \n",
       "\n",
       "   ponds_nearest  days_exposition  price_square_meter  day_exposition  \\\n",
       "0           48.0            121.0       100000.000000               1   \n",
       "1            NaN            310.0       101265.822785               2   \n",
       "2          124.0            265.0        66872.427984               5   \n",
       "3          439.0            152.0       106097.560976               0   \n",
       "4            NaN            609.0       107972.972973               3   \n",
       "\n",
       "  month_exposition  year_exposition  building_floor  living_by_total_area  \\\n",
       "0                6             2018          другой              0.320000   \n",
       "1                3             2018          другой              0.534810   \n",
       "2               10             2015          первый              0.478395   \n",
       "3                3             2016          другой              0.441463   \n",
       "4                8             2017       последний              0.581081   \n",
       "\n",
       "   kitchen_by_total_area  centers_nearest_km  \n",
       "0               0.410000                   8  \n",
       "1               0.180380                   9  \n",
       "2               0.201646                   2  \n",
       "3               0.270732                   9  \n",
       "4               0.270270                   4  \n",
       "\n",
       "[5 rows x 30 columns]"
      ]
     },
     "execution_count": 58,
     "metadata": {},
     "output_type": "execute_result"
    }
   ],
   "source": [
    "sankt_peterburg_center.head()"
   ]
  },
  {
   "cell_type": "markdown",
   "metadata": {},
   "source": [
    "Проанализируем эту территорию и изучим следующие параметры: площадь, цена, число комнат, высота потолков:"
   ]
  },
  {
   "cell_type": "code",
   "execution_count": 59,
   "metadata": {},
   "outputs": [
    {
     "data": {
      "text/html": [
       "<div>\n",
       "<style scoped>\n",
       "    .dataframe tbody tr th:only-of-type {\n",
       "        vertical-align: middle;\n",
       "    }\n",
       "\n",
       "    .dataframe tbody tr th {\n",
       "        vertical-align: top;\n",
       "    }\n",
       "\n",
       "    .dataframe thead th {\n",
       "        text-align: right;\n",
       "    }\n",
       "</style>\n",
       "<table border=\"1\" class=\"dataframe\">\n",
       "  <thead>\n",
       "    <tr style=\"text-align: right;\">\n",
       "      <th></th>\n",
       "      <th>total_images</th>\n",
       "      <th>last_price</th>\n",
       "      <th>total_area</th>\n",
       "      <th>rooms</th>\n",
       "      <th>ceiling_height</th>\n",
       "      <th>floors_total</th>\n",
       "      <th>living_area</th>\n",
       "      <th>floor</th>\n",
       "      <th>kitchen_area</th>\n",
       "      <th>balcony</th>\n",
       "      <th>...</th>\n",
       "      <th>ponds_around3000</th>\n",
       "      <th>ponds_nearest</th>\n",
       "      <th>days_exposition</th>\n",
       "      <th>price_square_meter</th>\n",
       "      <th>day_exposition</th>\n",
       "      <th>month_exposition</th>\n",
       "      <th>year_exposition</th>\n",
       "      <th>living_by_total_area</th>\n",
       "      <th>kitchen_by_total_area</th>\n",
       "      <th>centers_nearest_km</th>\n",
       "    </tr>\n",
       "  </thead>\n",
       "  <tbody>\n",
       "    <tr>\n",
       "      <th>count</th>\n",
       "      <td>3118.000000</td>\n",
       "      <td>3.118000e+03</td>\n",
       "      <td>3118.000000</td>\n",
       "      <td>3118.000000</td>\n",
       "      <td>3118.000000</td>\n",
       "      <td>3118.000000</td>\n",
       "      <td>2909.00000</td>\n",
       "      <td>3118.000000</td>\n",
       "      <td>2845.000000</td>\n",
       "      <td>3118.000000</td>\n",
       "      <td>...</td>\n",
       "      <td>3118.000000</td>\n",
       "      <td>1886.000000</td>\n",
       "      <td>2775.000000</td>\n",
       "      <td>3118.000000</td>\n",
       "      <td>3118.000000</td>\n",
       "      <td>3118.000000</td>\n",
       "      <td>3118.000000</td>\n",
       "      <td>2909.000000</td>\n",
       "      <td>2845.000000</td>\n",
       "      <td>3118.000000</td>\n",
       "    </tr>\n",
       "    <tr>\n",
       "      <th>mean</th>\n",
       "      <td>9.409237</td>\n",
       "      <td>6.358785e+06</td>\n",
       "      <td>58.304727</td>\n",
       "      <td>2.095574</td>\n",
       "      <td>2.767870</td>\n",
       "      <td>8.213919</td>\n",
       "      <td>34.23419</td>\n",
       "      <td>4.510904</td>\n",
       "      <td>10.149961</td>\n",
       "      <td>0.340282</td>\n",
       "      <td>...</td>\n",
       "      <td>1.020847</td>\n",
       "      <td>488.785260</td>\n",
       "      <td>199.184505</td>\n",
       "      <td>112892.507891</td>\n",
       "      <td>2.551315</td>\n",
       "      <td>6.313342</td>\n",
       "      <td>2017.287364</td>\n",
       "      <td>0.575314</td>\n",
       "      <td>0.183397</td>\n",
       "      <td>5.864978</td>\n",
       "    </tr>\n",
       "    <tr>\n",
       "      <th>std</th>\n",
       "      <td>5.490909</td>\n",
       "      <td>1.920246e+06</td>\n",
       "      <td>19.784669</td>\n",
       "      <td>0.930280</td>\n",
       "      <td>0.253691</td>\n",
       "      <td>5.183397</td>\n",
       "      <td>14.73458</td>\n",
       "      <td>3.542543</td>\n",
       "      <td>4.325125</td>\n",
       "      <td>0.732394</td>\n",
       "      <td>...</td>\n",
       "      <td>1.044970</td>\n",
       "      <td>259.683496</td>\n",
       "      <td>238.228362</td>\n",
       "      <td>26650.006150</td>\n",
       "      <td>1.749769</td>\n",
       "      <td>3.453475</td>\n",
       "      <td>1.077152</td>\n",
       "      <td>0.109539</td>\n",
       "      <td>0.076826</td>\n",
       "      <td>2.438210</td>\n",
       "    </tr>\n",
       "    <tr>\n",
       "      <th>min</th>\n",
       "      <td>0.000000</td>\n",
       "      <td>1.600000e+06</td>\n",
       "      <td>20.000000</td>\n",
       "      <td>0.000000</td>\n",
       "      <td>2.400000</td>\n",
       "      <td>2.000000</td>\n",
       "      <td>2.00000</td>\n",
       "      <td>1.000000</td>\n",
       "      <td>2.000000</td>\n",
       "      <td>0.000000</td>\n",
       "      <td>...</td>\n",
       "      <td>0.000000</td>\n",
       "      <td>22.000000</td>\n",
       "      <td>2.000000</td>\n",
       "      <td>15345.268542</td>\n",
       "      <td>0.000000</td>\n",
       "      <td>1.000000</td>\n",
       "      <td>2014.000000</td>\n",
       "      <td>0.038462</td>\n",
       "      <td>0.055556</td>\n",
       "      <td>0.000000</td>\n",
       "    </tr>\n",
       "    <tr>\n",
       "      <th>25%</th>\n",
       "      <td>5.000000</td>\n",
       "      <td>4.800000e+06</td>\n",
       "      <td>43.100000</td>\n",
       "      <td>1.000000</td>\n",
       "      <td>2.600000</td>\n",
       "      <td>5.000000</td>\n",
       "      <td>21.00000</td>\n",
       "      <td>2.000000</td>\n",
       "      <td>7.300000</td>\n",
       "      <td>0.000000</td>\n",
       "      <td>...</td>\n",
       "      <td>0.000000</td>\n",
       "      <td>280.000000</td>\n",
       "      <td>45.000000</td>\n",
       "      <td>93750.000000</td>\n",
       "      <td>1.000000</td>\n",
       "      <td>3.000000</td>\n",
       "      <td>2017.000000</td>\n",
       "      <td>0.508929</td>\n",
       "      <td>0.128571</td>\n",
       "      <td>4.000000</td>\n",
       "    </tr>\n",
       "    <tr>\n",
       "      <th>50%</th>\n",
       "      <td>9.000000</td>\n",
       "      <td>6.300000e+06</td>\n",
       "      <td>55.500000</td>\n",
       "      <td>2.000000</td>\n",
       "      <td>2.600000</td>\n",
       "      <td>6.000000</td>\n",
       "      <td>32.00000</td>\n",
       "      <td>4.000000</td>\n",
       "      <td>9.100000</td>\n",
       "      <td>0.000000</td>\n",
       "      <td>...</td>\n",
       "      <td>1.000000</td>\n",
       "      <td>471.000000</td>\n",
       "      <td>104.000000</td>\n",
       "      <td>108305.800832</td>\n",
       "      <td>3.000000</td>\n",
       "      <td>6.000000</td>\n",
       "      <td>2017.000000</td>\n",
       "      <td>0.588235</td>\n",
       "      <td>0.162437</td>\n",
       "      <td>6.000000</td>\n",
       "    </tr>\n",
       "    <tr>\n",
       "      <th>75%</th>\n",
       "      <td>13.000000</td>\n",
       "      <td>7.927500e+06</td>\n",
       "      <td>71.475000</td>\n",
       "      <td>3.000000</td>\n",
       "      <td>3.000000</td>\n",
       "      <td>10.000000</td>\n",
       "      <td>43.80000</td>\n",
       "      <td>5.000000</td>\n",
       "      <td>12.000000</td>\n",
       "      <td>0.000000</td>\n",
       "      <td>...</td>\n",
       "      <td>2.000000</td>\n",
       "      <td>682.750000</td>\n",
       "      <td>258.500000</td>\n",
       "      <td>128744.922452</td>\n",
       "      <td>4.000000</td>\n",
       "      <td>9.000000</td>\n",
       "      <td>2018.000000</td>\n",
       "      <td>0.652838</td>\n",
       "      <td>0.221675</td>\n",
       "      <td>8.000000</td>\n",
       "    </tr>\n",
       "    <tr>\n",
       "      <th>max</th>\n",
       "      <td>32.000000</td>\n",
       "      <td>1.000000e+07</td>\n",
       "      <td>120.000000</td>\n",
       "      <td>6.000000</td>\n",
       "      <td>3.500000</td>\n",
       "      <td>28.000000</td>\n",
       "      <td>87.00000</td>\n",
       "      <td>26.000000</td>\n",
       "      <td>48.300000</td>\n",
       "      <td>5.000000</td>\n",
       "      <td>...</td>\n",
       "      <td>3.000000</td>\n",
       "      <td>1313.000000</td>\n",
       "      <td>1497.000000</td>\n",
       "      <td>276000.000000</td>\n",
       "      <td>6.000000</td>\n",
       "      <td>12.000000</td>\n",
       "      <td>2019.000000</td>\n",
       "      <td>0.972222</td>\n",
       "      <td>0.612648</td>\n",
       "      <td>9.000000</td>\n",
       "    </tr>\n",
       "  </tbody>\n",
       "</table>\n",
       "<p>8 rows × 24 columns</p>\n",
       "</div>"
      ],
      "text/plain": [
       "       total_images    last_price   total_area        rooms  ceiling_height  \\\n",
       "count   3118.000000  3.118000e+03  3118.000000  3118.000000     3118.000000   \n",
       "mean       9.409237  6.358785e+06    58.304727     2.095574        2.767870   \n",
       "std        5.490909  1.920246e+06    19.784669     0.930280        0.253691   \n",
       "min        0.000000  1.600000e+06    20.000000     0.000000        2.400000   \n",
       "25%        5.000000  4.800000e+06    43.100000     1.000000        2.600000   \n",
       "50%        9.000000  6.300000e+06    55.500000     2.000000        2.600000   \n",
       "75%       13.000000  7.927500e+06    71.475000     3.000000        3.000000   \n",
       "max       32.000000  1.000000e+07   120.000000     6.000000        3.500000   \n",
       "\n",
       "       floors_total  living_area        floor  kitchen_area      balcony  ...  \\\n",
       "count   3118.000000   2909.00000  3118.000000   2845.000000  3118.000000  ...   \n",
       "mean       8.213919     34.23419     4.510904     10.149961     0.340282  ...   \n",
       "std        5.183397     14.73458     3.542543      4.325125     0.732394  ...   \n",
       "min        2.000000      2.00000     1.000000      2.000000     0.000000  ...   \n",
       "25%        5.000000     21.00000     2.000000      7.300000     0.000000  ...   \n",
       "50%        6.000000     32.00000     4.000000      9.100000     0.000000  ...   \n",
       "75%       10.000000     43.80000     5.000000     12.000000     0.000000  ...   \n",
       "max       28.000000     87.00000    26.000000     48.300000     5.000000  ...   \n",
       "\n",
       "       ponds_around3000  ponds_nearest  days_exposition  price_square_meter  \\\n",
       "count       3118.000000    1886.000000      2775.000000         3118.000000   \n",
       "mean           1.020847     488.785260       199.184505       112892.507891   \n",
       "std            1.044970     259.683496       238.228362        26650.006150   \n",
       "min            0.000000      22.000000         2.000000        15345.268542   \n",
       "25%            0.000000     280.000000        45.000000        93750.000000   \n",
       "50%            1.000000     471.000000       104.000000       108305.800832   \n",
       "75%            2.000000     682.750000       258.500000       128744.922452   \n",
       "max            3.000000    1313.000000      1497.000000       276000.000000   \n",
       "\n",
       "       day_exposition  month_exposition  year_exposition  \\\n",
       "count     3118.000000       3118.000000      3118.000000   \n",
       "mean         2.551315          6.313342      2017.287364   \n",
       "std          1.749769          3.453475         1.077152   \n",
       "min          0.000000          1.000000      2014.000000   \n",
       "25%          1.000000          3.000000      2017.000000   \n",
       "50%          3.000000          6.000000      2017.000000   \n",
       "75%          4.000000          9.000000      2018.000000   \n",
       "max          6.000000         12.000000      2019.000000   \n",
       "\n",
       "       living_by_total_area  kitchen_by_total_area  centers_nearest_km  \n",
       "count           2909.000000            2845.000000         3118.000000  \n",
       "mean               0.575314               0.183397            5.864978  \n",
       "std                0.109539               0.076826            2.438210  \n",
       "min                0.038462               0.055556            0.000000  \n",
       "25%                0.508929               0.128571            4.000000  \n",
       "50%                0.588235               0.162437            6.000000  \n",
       "75%                0.652838               0.221675            8.000000  \n",
       "max                0.972222               0.612648            9.000000  \n",
       "\n",
       "[8 rows x 24 columns]"
      ]
     },
     "execution_count": 59,
     "metadata": {},
     "output_type": "execute_result"
    }
   ],
   "source": [
    "sankt_peterburg_center.describe()"
   ]
  },
  {
   "cell_type": "code",
   "execution_count": 60,
   "metadata": {},
   "outputs": [
    {
     "data": {
      "text/plain": [
       "<AxesSubplot:>"
      ]
     },
     "execution_count": 60,
     "metadata": {},
     "output_type": "execute_result"
    },
    {
     "data": {
      "image/png": "[encoded data removed]",
      "text/plain": [
       "<Figure size 432x288 with 1 Axes>"
      ]
     },
     "metadata": {
      "needs_background": "light"
     },
     "output_type": "display_data"
    }
   ],
   "source": [
    "sankt_peterburg_center['total_area'].hist(bins=20)"
   ]
  },
  {
   "cell_type": "code",
   "execution_count": 61,
   "metadata": {},
   "outputs": [
    {
     "data": {
      "text/plain": [
       "<AxesSubplot:>"
      ]
     },
     "execution_count": 61,
     "metadata": {},
     "output_type": "execute_result"
    },
    {
     "data": {
      "image/png": "[encoded data removed]",
      "text/plain": [
       "<Figure size 432x288 with 1 Axes>"
      ]
     },
     "metadata": {
      "needs_background": "light"
     },
     "output_type": "display_data"
    }
   ],
   "source": [
    "sankt_peterburg_center['last_price'].hist(bins=20)"
   ]
  },
  {
   "cell_type": "code",
   "execution_count": 62,
   "metadata": {},
   "outputs": [
    {
     "data": {
      "text/plain": [
       "<AxesSubplot:>"
      ]
     },
     "execution_count": 62,
     "metadata": {},
     "output_type": "execute_result"
    },
    {
     "data": {
      "image/png": "[encoded data removed]",
      "text/plain": [
       "<Figure size 432x288 with 1 Axes>"
      ]
     },
     "metadata": {
      "needs_background": "light"
     },
     "output_type": "display_data"
    }
   ],
   "source": [
    "sankt_peterburg_center['rooms'].hist(bins=6)"
   ]
  },
  {
   "cell_type": "code",
   "execution_count": 63,
   "metadata": {},
   "outputs": [
    {
     "data": {
      "text/plain": [
       "<AxesSubplot:>"
      ]
     },
     "execution_count": 63,
     "metadata": {},
     "output_type": "execute_result"
    },
    {
     "data": {
      "image/png": "[encoded data removed]",
      "text/plain": [
       "<Figure size 432x288 with 1 Axes>"
      ]
     },
     "metadata": {
      "needs_background": "light"
     },
     "output_type": "display_data"
    }
   ],
   "source": [
    "sankt_peterburg_center['ceiling_height'].hist()"
   ]
  },
  {
   "cell_type": "markdown",
   "metadata": {},
   "source": [
    "Гистограммы показывают, что недвижимость в центре города сильно отличается от остальной: у нее гораздо больше общая средняя площадь, выше цена и выше потолки, а вот количество комнат примерно сопоставимо, видимо много комнат (4 и более) для проживания мало кому необходимы."
   ]
  },
  {
   "cell_type": "markdown",
   "metadata": {},
   "source": [
    "Выделим факторы, которые влияют на стоимость квартиры (число комнат, этаж, удалённость от центра, дата размещения объявления):"
   ]
  },
  {
   "cell_type": "code",
   "execution_count": 64,
   "metadata": {},
   "outputs": [
    {
     "data": {
      "text/plain": [
       "0.4896952374605282"
      ]
     },
     "execution_count": 64,
     "metadata": {},
     "output_type": "execute_result"
    }
   ],
   "source": [
    "sankt_peterburg_center['last_price'].corr(sankt_peterburg_center['rooms'])"
   ]
  },
  {
   "cell_type": "code",
   "execution_count": 65,
   "metadata": {},
   "outputs": [
    {
     "data": {
      "text/plain": [
       "-0.3727235496540571"
      ]
     },
     "execution_count": 65,
     "metadata": {},
     "output_type": "execute_result"
    }
   ],
   "source": [
    "sankt_peterburg_center['last_price'].corr(sankt_peterburg_center['cityCenters_nearest'])"
   ]
  },
  {
   "cell_type": "markdown",
   "metadata": {},
   "source": [
    "Между числом комнат и ценой коррелияция практически отсутствует. Корреляция между расстоянием до центра города и ценой так же отсутствует, скорее всего в данном случае оно уже не имеет значения ввиду маленького расстояния обозначенного как центр города и все в данной области одинаково легкодоступно, нет большой разницы где именно в центре проживать."
   ]
  },
  {
   "cell_type": "markdown",
   "metadata": {},
   "source": [
    "Проверим влияние этажа на цену:"
   ]
  },
  {
   "cell_type": "code",
   "execution_count": 66,
   "metadata": {},
   "outputs": [
    {
     "data": {
      "text/html": [
       "<div>\n",
       "<style scoped>\n",
       "    .dataframe tbody tr th:only-of-type {\n",
       "        vertical-align: middle;\n",
       "    }\n",
       "\n",
       "    .dataframe tbody tr th {\n",
       "        vertical-align: top;\n",
       "    }\n",
       "\n",
       "    .dataframe thead th {\n",
       "        text-align: right;\n",
       "    }\n",
       "</style>\n",
       "<table border=\"1\" class=\"dataframe\">\n",
       "  <thead>\n",
       "    <tr style=\"text-align: right;\">\n",
       "      <th></th>\n",
       "      <th>median</th>\n",
       "      <th>mean</th>\n",
       "      <th>count</th>\n",
       "    </tr>\n",
       "    <tr>\n",
       "      <th>building_floor</th>\n",
       "      <th></th>\n",
       "      <th></th>\n",
       "      <th></th>\n",
       "    </tr>\n",
       "  </thead>\n",
       "  <tbody>\n",
       "    <tr>\n",
       "      <th>первый</th>\n",
       "      <td>5500000.0</td>\n",
       "      <td>5.736899e+06</td>\n",
       "      <td>420</td>\n",
       "    </tr>\n",
       "    <tr>\n",
       "      <th>последний</th>\n",
       "      <td>6300000.0</td>\n",
       "      <td>6.377650e+06</td>\n",
       "      <td>503</td>\n",
       "    </tr>\n",
       "    <tr>\n",
       "      <th>другой</th>\n",
       "      <td>6499999.0</td>\n",
       "      <td>6.473456e+06</td>\n",
       "      <td>2195</td>\n",
       "    </tr>\n",
       "  </tbody>\n",
       "</table>\n",
       "</div>"
      ],
      "text/plain": [
       "                   median          mean  count\n",
       "building_floor                                \n",
       "первый          5500000.0  5.736899e+06    420\n",
       "последний       6300000.0  6.377650e+06    503\n",
       "другой          6499999.0  6.473456e+06   2195"
      ]
     },
     "execution_count": 66,
     "metadata": {},
     "output_type": "execute_result"
    }
   ],
   "source": [
    "price_sankt_peterburg_center_floor = sankt_peterburg_center.pivot_table(index='building_floor', values='last_price', aggfunc=['median', 'mean', 'count'])\n",
    "price_sankt_peterburg_center_floor.columns = ['median', 'mean', 'count']\n",
    "price_sankt_peterburg_center_floor.sort_values('median')"
   ]
  },
  {
   "cell_type": "markdown",
   "metadata": {},
   "source": [
    "Зависимости не изменились, самой дешевой недвижимостью опять оказалась расположенная на первом этаже, а самой дорогой оказалась та, что посередине дома."
   ]
  },
  {
   "cell_type": "markdown",
   "metadata": {},
   "source": [
    "Проверим зависимости цены от даты размещения:"
   ]
  },
  {
   "cell_type": "code",
   "execution_count": 67,
   "metadata": {},
   "outputs": [
    {
     "data": {
      "text/html": [
       "<div>\n",
       "<style scoped>\n",
       "    .dataframe tbody tr th:only-of-type {\n",
       "        vertical-align: middle;\n",
       "    }\n",
       "\n",
       "    .dataframe tbody tr th {\n",
       "        vertical-align: top;\n",
       "    }\n",
       "\n",
       "    .dataframe thead th {\n",
       "        text-align: right;\n",
       "    }\n",
       "</style>\n",
       "<table border=\"1\" class=\"dataframe\">\n",
       "  <thead>\n",
       "    <tr style=\"text-align: right;\">\n",
       "      <th></th>\n",
       "      <th>day_exposition</th>\n",
       "      <th>median</th>\n",
       "      <th>count</th>\n",
       "    </tr>\n",
       "  </thead>\n",
       "  <tbody>\n",
       "    <tr>\n",
       "      <th>0</th>\n",
       "      <td>0</td>\n",
       "      <td>6300000.0</td>\n",
       "      <td>463</td>\n",
       "    </tr>\n",
       "    <tr>\n",
       "      <th>1</th>\n",
       "      <td>1</td>\n",
       "      <td>6266074.0</td>\n",
       "      <td>556</td>\n",
       "    </tr>\n",
       "    <tr>\n",
       "      <th>2</th>\n",
       "      <td>2</td>\n",
       "      <td>6300000.0</td>\n",
       "      <td>513</td>\n",
       "    </tr>\n",
       "    <tr>\n",
       "      <th>3</th>\n",
       "      <td>3</td>\n",
       "      <td>6250000.0</td>\n",
       "      <td>605</td>\n",
       "    </tr>\n",
       "    <tr>\n",
       "      <th>4</th>\n",
       "      <td>4</td>\n",
       "      <td>6338000.0</td>\n",
       "      <td>539</td>\n",
       "    </tr>\n",
       "    <tr>\n",
       "      <th>5</th>\n",
       "      <td>5</td>\n",
       "      <td>6497178.5</td>\n",
       "      <td>250</td>\n",
       "    </tr>\n",
       "    <tr>\n",
       "      <th>6</th>\n",
       "      <td>6</td>\n",
       "      <td>6500000.0</td>\n",
       "      <td>192</td>\n",
       "    </tr>\n",
       "  </tbody>\n",
       "</table>\n",
       "</div>"
      ],
      "text/plain": [
       "   day_exposition     median  count\n",
       "0               0  6300000.0    463\n",
       "1               1  6266074.0    556\n",
       "2               2  6300000.0    513\n",
       "3               3  6250000.0    605\n",
       "4               4  6338000.0    539\n",
       "5               5  6497178.5    250\n",
       "6               6  6500000.0    192"
      ]
     },
     "execution_count": 67,
     "metadata": {},
     "output_type": "execute_result"
    }
   ],
   "source": [
    "sankt_peterburg_center_price_day = sankt_peterburg_center.pivot_table(index='day_exposition', values='last_price', aggfunc=['median', 'count']).reset_index()\n",
    "sankt_peterburg_center_price_day.columns = ['day_exposition', 'median', 'count']\n",
    "sankt_peterburg_center_price_day"
   ]
  },
  {
   "cell_type": "code",
   "execution_count": 68,
   "metadata": {},
   "outputs": [
    {
     "data": {
      "text/plain": [
       "<AxesSubplot:xlabel='day_exposition'>"
      ]
     },
     "execution_count": 68,
     "metadata": {},
     "output_type": "execute_result"
    },
    {
     "data": {
      "image/png": "[encoded data removed]",
      "text/plain": [
       "<Figure size 360x360 with 1 Axes>"
      ]
     },
     "metadata": {
      "needs_background": "light"
     },
     "output_type": "display_data"
    }
   ],
   "source": [
    "sankt_peterburg_center_price_day.plot(x='day_exposition', y='median', style='x-', grid=True, figsize=(5, 5))"
   ]
  },
  {
   "cell_type": "markdown",
   "metadata": {},
   "source": [
    "Цена имеет тенденцию к не значительному росту ближе к выходным дням, и аналогично уменьшается количество объявлений в выходные."
   ]
  },
  {
   "cell_type": "code",
   "execution_count": 69,
   "metadata": {},
   "outputs": [
    {
     "data": {
      "text/html": [
       "<div>\n",
       "<style scoped>\n",
       "    .dataframe tbody tr th:only-of-type {\n",
       "        vertical-align: middle;\n",
       "    }\n",
       "\n",
       "    .dataframe tbody tr th {\n",
       "        vertical-align: top;\n",
       "    }\n",
       "\n",
       "    .dataframe thead th {\n",
       "        text-align: right;\n",
       "    }\n",
       "</style>\n",
       "<table border=\"1\" class=\"dataframe\">\n",
       "  <thead>\n",
       "    <tr style=\"text-align: right;\">\n",
       "      <th></th>\n",
       "      <th>month_exposition</th>\n",
       "      <th>median</th>\n",
       "      <th>count</th>\n",
       "    </tr>\n",
       "  </thead>\n",
       "  <tbody>\n",
       "    <tr>\n",
       "      <th>0</th>\n",
       "      <td>1</td>\n",
       "      <td>6375000.0</td>\n",
       "      <td>192</td>\n",
       "    </tr>\n",
       "    <tr>\n",
       "      <th>1</th>\n",
       "      <td>2</td>\n",
       "      <td>6200000.0</td>\n",
       "      <td>356</td>\n",
       "    </tr>\n",
       "    <tr>\n",
       "      <th>2</th>\n",
       "      <td>3</td>\n",
       "      <td>6249600.0</td>\n",
       "      <td>337</td>\n",
       "    </tr>\n",
       "    <tr>\n",
       "      <th>3</th>\n",
       "      <td>4</td>\n",
       "      <td>6285000.0</td>\n",
       "      <td>318</td>\n",
       "    </tr>\n",
       "    <tr>\n",
       "      <th>4</th>\n",
       "      <td>5</td>\n",
       "      <td>6390000.0</td>\n",
       "      <td>195</td>\n",
       "    </tr>\n",
       "    <tr>\n",
       "      <th>5</th>\n",
       "      <td>6</td>\n",
       "      <td>6299000.0</td>\n",
       "      <td>247</td>\n",
       "    </tr>\n",
       "    <tr>\n",
       "      <th>6</th>\n",
       "      <td>7</td>\n",
       "      <td>6500000.0</td>\n",
       "      <td>240</td>\n",
       "    </tr>\n",
       "    <tr>\n",
       "      <th>7</th>\n",
       "      <td>8</td>\n",
       "      <td>6450000.0</td>\n",
       "      <td>221</td>\n",
       "    </tr>\n",
       "    <tr>\n",
       "      <th>8</th>\n",
       "      <td>9</td>\n",
       "      <td>6260000.0</td>\n",
       "      <td>238</td>\n",
       "    </tr>\n",
       "    <tr>\n",
       "      <th>9</th>\n",
       "      <td>10</td>\n",
       "      <td>6283000.0</td>\n",
       "      <td>281</td>\n",
       "    </tr>\n",
       "    <tr>\n",
       "      <th>10</th>\n",
       "      <td>11</td>\n",
       "      <td>6200000.0</td>\n",
       "      <td>275</td>\n",
       "    </tr>\n",
       "    <tr>\n",
       "      <th>11</th>\n",
       "      <td>12</td>\n",
       "      <td>6420000.0</td>\n",
       "      <td>218</td>\n",
       "    </tr>\n",
       "  </tbody>\n",
       "</table>\n",
       "</div>"
      ],
      "text/plain": [
       "    month_exposition     median  count\n",
       "0                  1  6375000.0    192\n",
       "1                  2  6200000.0    356\n",
       "2                  3  6249600.0    337\n",
       "3                  4  6285000.0    318\n",
       "4                  5  6390000.0    195\n",
       "5                  6  6299000.0    247\n",
       "6                  7  6500000.0    240\n",
       "7                  8  6450000.0    221\n",
       "8                  9  6260000.0    238\n",
       "9                 10  6283000.0    281\n",
       "10                11  6200000.0    275\n",
       "11                12  6420000.0    218"
      ]
     },
     "execution_count": 69,
     "metadata": {},
     "output_type": "execute_result"
    }
   ],
   "source": [
    "sankt_peterburg_center_price_month = sankt_peterburg_center.pivot_table(index='month_exposition', values='last_price', aggfunc=['median', 'count']).reset_index()\n",
    "sankt_peterburg_center_price_month.columns = ['month_exposition', 'median', 'count']\n",
    "sankt_peterburg_center_price_month"
   ]
  },
  {
   "cell_type": "code",
   "execution_count": 70,
   "metadata": {},
   "outputs": [
    {
     "data": {
      "text/plain": [
       "<AxesSubplot:xlabel='month_exposition'>"
      ]
     },
     "execution_count": 70,
     "metadata": {},
     "output_type": "execute_result"
    },
    {
     "data": {
      "image/png": "[encoded data removed]",
      "text/plain": [
       "<Figure size 360x360 with 1 Axes>"
      ]
     },
     "metadata": {
      "needs_background": "light"
     },
     "output_type": "display_data"
    }
   ],
   "source": [
    "sankt_peterburg_center_price_month.plot(x='month_exposition', y='median', style='x-', grid=True, figsize=(5, 5))"
   ]
  },
  {
   "cell_type": "markdown",
   "metadata": {},
   "source": [
    "Цена также имеет максимум в летние месяцы."
   ]
  },
  {
   "cell_type": "code",
   "execution_count": 71,
   "metadata": {},
   "outputs": [
    {
     "data": {
      "text/html": [
       "<div>\n",
       "<style scoped>\n",
       "    .dataframe tbody tr th:only-of-type {\n",
       "        vertical-align: middle;\n",
       "    }\n",
       "\n",
       "    .dataframe tbody tr th {\n",
       "        vertical-align: top;\n",
       "    }\n",
       "\n",
       "    .dataframe thead th {\n",
       "        text-align: right;\n",
       "    }\n",
       "</style>\n",
       "<table border=\"1\" class=\"dataframe\">\n",
       "  <thead>\n",
       "    <tr style=\"text-align: right;\">\n",
       "      <th></th>\n",
       "      <th>year_exposition</th>\n",
       "      <th>mean</th>\n",
       "      <th>count</th>\n",
       "    </tr>\n",
       "  </thead>\n",
       "  <tbody>\n",
       "    <tr>\n",
       "      <th>0</th>\n",
       "      <td>2014</td>\n",
       "      <td>6.863822e+06</td>\n",
       "      <td>14</td>\n",
       "    </tr>\n",
       "    <tr>\n",
       "      <th>1</th>\n",
       "      <td>2015</td>\n",
       "      <td>6.511377e+06</td>\n",
       "      <td>213</td>\n",
       "    </tr>\n",
       "    <tr>\n",
       "      <th>2</th>\n",
       "      <td>2016</td>\n",
       "      <td>6.361660e+06</td>\n",
       "      <td>407</td>\n",
       "    </tr>\n",
       "    <tr>\n",
       "      <th>3</th>\n",
       "      <td>2017</td>\n",
       "      <td>6.306876e+06</td>\n",
       "      <td>1072</td>\n",
       "    </tr>\n",
       "    <tr>\n",
       "      <th>4</th>\n",
       "      <td>2018</td>\n",
       "      <td>6.331562e+06</td>\n",
       "      <td>1053</td>\n",
       "    </tr>\n",
       "    <tr>\n",
       "      <th>5</th>\n",
       "      <td>2019</td>\n",
       "      <td>6.480149e+06</td>\n",
       "      <td>359</td>\n",
       "    </tr>\n",
       "  </tbody>\n",
       "</table>\n",
       "</div>"
      ],
      "text/plain": [
       "   year_exposition          mean  count\n",
       "0             2014  6.863822e+06     14\n",
       "1             2015  6.511377e+06    213\n",
       "2             2016  6.361660e+06    407\n",
       "3             2017  6.306876e+06   1072\n",
       "4             2018  6.331562e+06   1053\n",
       "5             2019  6.480149e+06    359"
      ]
     },
     "execution_count": 71,
     "metadata": {},
     "output_type": "execute_result"
    }
   ],
   "source": [
    "sankt_peterburg_center_price_year = sankt_peterburg_center.pivot_table(index='year_exposition', values='last_price', aggfunc=['mean', 'count']).reset_index()\n",
    "sankt_peterburg_center_price_year.columns = ['year_exposition', 'mean', 'count']\n",
    "sankt_peterburg_center_price_year"
   ]
  },
  {
   "cell_type": "code",
   "execution_count": 72,
   "metadata": {},
   "outputs": [
    {
     "data": {
      "text/plain": [
       "<AxesSubplot:xlabel='year_exposition'>"
      ]
     },
     "execution_count": 72,
     "metadata": {},
     "output_type": "execute_result"
    },
    {
     "data": {
      "image/png": "[encoded data removed]",
      "text/plain": [
       "<Figure size 360x360 with 1 Axes>"
      ]
     },
     "metadata": {
      "needs_background": "light"
     },
     "output_type": "display_data"
    }
   ],
   "source": [
    "sankt_peterburg_center_price_year.plot(x='year_exposition', y='mean', style='x-', grid=True, figsize=(5, 5))"
   ]
  },
  {
   "cell_type": "markdown",
   "metadata": {},
   "source": [
    "Аналогично всем квартирам, квартиры в центре города также потеряли в цене после кризиса 2014 года."
   ]
  },
  {
   "cell_type": "markdown",
   "metadata": {},
   "source": [
    "Вывод: Анализ недвижимости в центре города показал что основные закономерности изменения цены аналогичны недвижимости во всем городе. Разница лишь в том, что в центре города она оценивается дороже."
   ]
  },
  {
   "cell_type": "markdown",
   "metadata": {},
   "source": [
    "## Общий вывод"
   ]
  },
  {
   "cell_type": "markdown",
   "metadata": {},
   "source": [
    "В процессе работы было выполнено:\n",
    "    \n",
    "- обнаружены и заполнены основные пропуски в данных;\n",
    "    \n",
    "- изменены типы данных;\n",
    "    \n",
    "- посчитаны и добавлены в таблицу дополнительные характеристики;\n",
    "    \n",
    "- построены гистограммы для каждого параметра;\n",
    "    \n",
    "- проанализированы и исключены выбросы в данных;\n",
    "\n",
    "- изучены основные факторы влияющие на стоимость жилья.\n",
    "    \n",
    "В результате анализа обнаружены следующие закономерности:\n",
    "    \n",
    "- самое большое влияние на цену оказывает общая площадь, чем больше площадь тем больше цена;\n",
    "    \n",
    "- квартиры на первом и последнем этажах дешевле квартир между ними;\n",
    "    \n",
    "- в летний период и ближе к выходным дням цены имеют тенденцию к снижению, а количество объявлений уменьшается;\n",
    "    \n",
    "- цена недвижимости увеличивается при приближении к центру города;\n",
    "    \n",
    "- цена недвижимости падает в период экономического кризиса;\n",
    "\n",
    "- закономерности обычной и элитной недвижимостью аналогичны друг другу.\n"
   ]
  }
 ],
 "metadata": {
  "ExecuteTimeLog": [
   {
    "duration": 604,
    "start_time": "2022-03-16T16:52:30.635Z"
   },
   {
    "duration": 78,
    "start_time": "2022-03-16T16:52:46.825Z"
   },
   {
    "duration": 10,
    "start_time": "2022-03-16T16:53:06.364Z"
   },
   {
    "duration": 66,
    "start_time": "2022-03-16T16:53:19.924Z"
   },
   {
    "duration": 2309,
    "start_time": "2022-03-16T18:10:15.653Z"
   },
   {
    "duration": 37,
    "start_time": "2022-03-16T18:12:11.050Z"
   },
   {
    "duration": 23,
    "start_time": "2022-03-16T18:12:20.499Z"
   },
   {
    "duration": 288,
    "start_time": "2022-03-16T18:16:46.920Z"
   },
   {
    "duration": 301,
    "start_time": "2022-03-16T18:16:51.149Z"
   },
   {
    "duration": 327,
    "start_time": "2022-03-16T18:17:00.051Z"
   },
   {
    "duration": 287,
    "start_time": "2022-03-16T18:17:15.349Z"
   },
   {
    "duration": 6,
    "start_time": "2022-03-16T18:17:20.477Z"
   },
   {
    "duration": 7,
    "start_time": "2022-03-16T18:17:39.890Z"
   },
   {
    "duration": 6,
    "start_time": "2022-03-16T18:17:56.094Z"
   },
   {
    "duration": 7,
    "start_time": "2022-03-16T18:18:02.709Z"
   },
   {
    "duration": 7,
    "start_time": "2022-03-16T18:18:10.818Z"
   },
   {
    "duration": 5,
    "start_time": "2022-03-16T18:36:32.490Z"
   },
   {
    "duration": 9,
    "start_time": "2022-03-16T18:41:14.930Z"
   },
   {
    "duration": 22,
    "start_time": "2022-03-16T18:41:28.180Z"
   },
   {
    "duration": 21,
    "start_time": "2022-03-16T18:41:54.648Z"
   },
   {
    "duration": 703,
    "start_time": "2022-03-16T18:42:02.068Z"
   },
   {
    "duration": 11,
    "start_time": "2022-03-16T18:42:02.773Z"
   },
   {
    "duration": 64,
    "start_time": "2022-03-16T18:42:02.785Z"
   },
   {
    "duration": 35,
    "start_time": "2022-03-16T18:42:02.850Z"
   },
   {
    "duration": 20,
    "start_time": "2022-03-16T18:42:23.128Z"
   },
   {
    "duration": 21,
    "start_time": "2022-03-16T18:42:27.887Z"
   },
   {
    "duration": 669,
    "start_time": "2022-03-16T18:42:32.490Z"
   },
   {
    "duration": 12,
    "start_time": "2022-03-16T18:42:33.161Z"
   },
   {
    "duration": 70,
    "start_time": "2022-03-16T18:42:33.175Z"
   },
   {
    "duration": 39,
    "start_time": "2022-03-16T18:42:33.246Z"
   },
   {
    "duration": 21,
    "start_time": "2022-03-16T18:42:59.269Z"
   },
   {
    "duration": 383,
    "start_time": "2022-03-16T18:43:27.912Z"
   },
   {
    "duration": 335,
    "start_time": "2022-03-16T18:43:42.269Z"
   },
   {
    "duration": 337,
    "start_time": "2022-03-16T18:43:47.510Z"
   },
   {
    "duration": 10,
    "start_time": "2022-03-16T18:43:59.439Z"
   },
   {
    "duration": 706,
    "start_time": "2022-03-16T18:44:06.902Z"
   },
   {
    "duration": 10,
    "start_time": "2022-03-16T18:44:07.609Z"
   },
   {
    "duration": 85,
    "start_time": "2022-03-16T18:44:07.622Z"
   },
   {
    "duration": 27,
    "start_time": "2022-03-16T18:44:07.709Z"
   },
   {
    "duration": 13,
    "start_time": "2022-03-16T18:44:07.737Z"
   },
   {
    "duration": 21,
    "start_time": "2022-03-16T18:45:50.800Z"
   },
   {
    "duration": 700,
    "start_time": "2022-03-16T18:45:56.354Z"
   },
   {
    "duration": 9,
    "start_time": "2022-03-16T18:45:57.056Z"
   },
   {
    "duration": 62,
    "start_time": "2022-03-16T18:45:57.067Z"
   },
   {
    "duration": 26,
    "start_time": "2022-03-16T18:45:57.132Z"
   },
   {
    "duration": 22,
    "start_time": "2022-03-16T18:45:57.160Z"
   },
   {
    "duration": 6,
    "start_time": "2022-03-16T18:48:59.733Z"
   },
   {
    "duration": 227,
    "start_time": "2022-03-16T18:51:35.694Z"
   },
   {
    "duration": 156,
    "start_time": "2022-03-16T18:51:45.727Z"
   },
   {
    "duration": 291,
    "start_time": "2022-03-16T18:51:49.602Z"
   },
   {
    "duration": 160,
    "start_time": "2022-03-16T18:52:56.567Z"
   },
   {
    "duration": 156,
    "start_time": "2022-03-16T18:53:05.371Z"
   },
   {
    "duration": 163,
    "start_time": "2022-03-16T18:53:17.406Z"
   },
   {
    "duration": 418,
    "start_time": "2022-03-16T18:53:21.676Z"
   },
   {
    "duration": 324,
    "start_time": "2022-03-16T18:53:31.285Z"
   },
   {
    "duration": 8,
    "start_time": "2022-03-16T18:56:33.252Z"
   },
   {
    "duration": 301,
    "start_time": "2022-03-16T18:57:13.051Z"
   },
   {
    "duration": 351,
    "start_time": "2022-03-16T19:03:07.063Z"
   },
   {
    "duration": 737,
    "start_time": "2022-03-16T19:04:11.175Z"
   },
   {
    "duration": 9,
    "start_time": "2022-03-16T19:04:11.914Z"
   },
   {
    "duration": 77,
    "start_time": "2022-03-16T19:04:11.925Z"
   },
   {
    "duration": 25,
    "start_time": "2022-03-16T19:04:12.004Z"
   },
   {
    "duration": 7,
    "start_time": "2022-03-16T19:04:12.031Z"
   },
   {
    "duration": 353,
    "start_time": "2022-03-16T19:04:12.040Z"
   },
   {
    "duration": -1231,
    "start_time": "2022-03-16T19:04:13.626Z"
   },
   {
    "duration": 835,
    "start_time": "2022-03-16T19:37:38.850Z"
   },
   {
    "duration": 10,
    "start_time": "2022-03-16T19:37:39.686Z"
   },
   {
    "duration": 69,
    "start_time": "2022-03-16T19:37:39.698Z"
   },
   {
    "duration": 25,
    "start_time": "2022-03-16T19:37:39.780Z"
   },
   {
    "duration": 8,
    "start_time": "2022-03-16T19:37:39.807Z"
   },
   {
    "duration": 361,
    "start_time": "2022-03-16T19:37:39.817Z"
   },
   {
    "duration": -1284,
    "start_time": "2022-03-16T19:37:41.465Z"
   },
   {
    "duration": 910,
    "start_time": "2022-03-16T19:38:32.044Z"
   },
   {
    "duration": 13,
    "start_time": "2022-03-16T19:38:32.956Z"
   },
   {
    "duration": 92,
    "start_time": "2022-03-16T19:38:32.972Z"
   },
   {
    "duration": 44,
    "start_time": "2022-03-16T19:38:33.066Z"
   },
   {
    "duration": 7,
    "start_time": "2022-03-16T19:38:33.112Z"
   },
   {
    "duration": 328,
    "start_time": "2022-03-16T19:38:33.121Z"
   },
   {
    "duration": 305,
    "start_time": "2022-03-16T19:38:57.203Z"
   },
   {
    "duration": 322,
    "start_time": "2022-03-16T19:39:12.761Z"
   },
   {
    "duration": 191,
    "start_time": "2022-03-16T19:39:29.254Z"
   },
   {
    "duration": 176,
    "start_time": "2022-03-16T19:39:33.803Z"
   },
   {
    "duration": 299,
    "start_time": "2022-03-16T19:39:37.647Z"
   },
   {
    "duration": 289,
    "start_time": "2022-03-16T19:40:16.493Z"
   },
   {
    "duration": 421,
    "start_time": "2022-03-16T19:40:31.195Z"
   },
   {
    "duration": 443,
    "start_time": "2022-03-16T19:40:52.503Z"
   },
   {
    "duration": 9,
    "start_time": "2022-03-16T19:43:44.374Z"
   },
   {
    "duration": 356,
    "start_time": "2022-03-16T19:44:09.943Z"
   },
   {
    "duration": 359,
    "start_time": "2022-03-16T19:44:48.763Z"
   },
   {
    "duration": 8,
    "start_time": "2022-03-16T19:44:52.591Z"
   },
   {
    "duration": 1228,
    "start_time": "2022-03-19T08:41:52.436Z"
   },
   {
    "duration": 22,
    "start_time": "2022-03-19T08:41:53.669Z"
   },
   {
    "duration": 119,
    "start_time": "2022-03-19T08:41:53.693Z"
   },
   {
    "duration": 56,
    "start_time": "2022-03-19T08:41:53.814Z"
   },
   {
    "duration": 12,
    "start_time": "2022-03-19T08:41:53.873Z"
   },
   {
    "duration": 422,
    "start_time": "2022-03-19T08:41:53.887Z"
   },
   {
    "duration": 401,
    "start_time": "2022-03-19T08:41:54.312Z"
   },
   {
    "duration": 12,
    "start_time": "2022-03-19T08:41:54.716Z"
   },
   {
    "duration": 495,
    "start_time": "2022-03-19T08:41:54.730Z"
   },
   {
    "duration": 9,
    "start_time": "2022-03-19T08:41:55.227Z"
   },
   {
    "duration": 11,
    "start_time": "2022-03-19T08:46:19.260Z"
   },
   {
    "duration": 10,
    "start_time": "2022-03-19T08:57:31.978Z"
   },
   {
    "duration": 110,
    "start_time": "2022-03-19T08:57:52.666Z"
   },
   {
    "duration": 11,
    "start_time": "2022-03-19T08:58:26.418Z"
   },
   {
    "duration": 11,
    "start_time": "2022-03-19T08:58:36.186Z"
   },
   {
    "duration": 8,
    "start_time": "2022-03-19T08:59:51.998Z"
   },
   {
    "duration": 9,
    "start_time": "2022-03-19T09:00:12.419Z"
   },
   {
    "duration": 12,
    "start_time": "2022-03-19T09:02:32.826Z"
   },
   {
    "duration": 13,
    "start_time": "2022-03-19T09:05:08.386Z"
   },
   {
    "duration": 15,
    "start_time": "2022-03-19T09:06:20.559Z"
   },
   {
    "duration": 9,
    "start_time": "2022-03-19T09:06:32.226Z"
   },
   {
    "duration": 12,
    "start_time": "2022-03-19T09:07:21.978Z"
   },
   {
    "duration": 8,
    "start_time": "2022-03-19T09:07:54.396Z"
   },
   {
    "duration": 12,
    "start_time": "2022-03-19T09:12:13.059Z"
   },
   {
    "duration": 13,
    "start_time": "2022-03-19T09:13:00.886Z"
   },
   {
    "duration": 12,
    "start_time": "2022-03-19T09:13:57.960Z"
   },
   {
    "duration": 10,
    "start_time": "2022-03-19T09:14:17.159Z"
   },
   {
    "duration": 14,
    "start_time": "2022-03-19T09:15:19.855Z"
   },
   {
    "duration": 10,
    "start_time": "2022-03-19T09:16:19.246Z"
   },
   {
    "duration": 14,
    "start_time": "2022-03-19T09:16:43.658Z"
   },
   {
    "duration": 12,
    "start_time": "2022-03-19T09:17:33.822Z"
   },
   {
    "duration": 958,
    "start_time": "2022-03-19T09:20:07.319Z"
   },
   {
    "duration": 21,
    "start_time": "2022-03-19T09:20:08.279Z"
   },
   {
    "duration": 116,
    "start_time": "2022-03-19T09:20:08.302Z"
   },
   {
    "duration": 50,
    "start_time": "2022-03-19T09:20:08.421Z"
   },
   {
    "duration": 13,
    "start_time": "2022-03-19T09:20:08.474Z"
   },
   {
    "duration": 426,
    "start_time": "2022-03-19T09:20:08.488Z"
   },
   {
    "duration": 381,
    "start_time": "2022-03-19T09:20:08.917Z"
   },
   {
    "duration": 12,
    "start_time": "2022-03-19T09:20:09.301Z"
   },
   {
    "duration": 474,
    "start_time": "2022-03-19T09:20:09.315Z"
   },
   {
    "duration": 10,
    "start_time": "2022-03-19T09:20:09.792Z"
   },
   {
    "duration": 17,
    "start_time": "2022-03-19T09:20:09.804Z"
   },
   {
    "duration": 12,
    "start_time": "2022-03-19T09:20:09.823Z"
   },
   {
    "duration": 10,
    "start_time": "2022-03-19T09:20:09.867Z"
   },
   {
    "duration": 9,
    "start_time": "2022-03-19T09:20:09.882Z"
   },
   {
    "duration": 16,
    "start_time": "2022-03-19T09:20:09.895Z"
   },
   {
    "duration": 13,
    "start_time": "2022-03-19T09:20:09.913Z"
   },
   {
    "duration": 47,
    "start_time": "2022-03-19T09:20:09.928Z"
   },
   {
    "duration": 14,
    "start_time": "2022-03-19T09:20:09.977Z"
   },
   {
    "duration": 7,
    "start_time": "2022-03-19T09:20:09.993Z"
   },
   {
    "duration": 13,
    "start_time": "2022-03-19T09:20:10.002Z"
   },
   {
    "duration": 57,
    "start_time": "2022-03-19T09:20:10.017Z"
   },
   {
    "duration": 92,
    "start_time": "2022-03-19T09:21:53.058Z"
   },
   {
    "duration": 12,
    "start_time": "2022-03-19T09:22:25.606Z"
   },
   {
    "duration": 8,
    "start_time": "2022-03-19T09:22:37.047Z"
   },
   {
    "duration": 10,
    "start_time": "2022-03-19T09:25:03.093Z"
   },
   {
    "duration": 5,
    "start_time": "2022-03-19T09:31:02.749Z"
   },
   {
    "duration": 6,
    "start_time": "2022-03-19T09:31:32.475Z"
   },
   {
    "duration": 8,
    "start_time": "2022-03-19T09:32:02.679Z"
   },
   {
    "duration": 21,
    "start_time": "2022-03-19T09:32:12.778Z"
   },
   {
    "duration": 58,
    "start_time": "2022-03-19T09:33:37.299Z"
   },
   {
    "duration": 9,
    "start_time": "2022-03-19T09:34:21.367Z"
   },
   {
    "duration": 10,
    "start_time": "2022-03-19T09:34:57.417Z"
   },
   {
    "duration": 8,
    "start_time": "2022-03-19T09:35:41.492Z"
   },
   {
    "duration": 6,
    "start_time": "2022-03-19T09:36:01.918Z"
   },
   {
    "duration": 8,
    "start_time": "2022-03-19T09:36:18.278Z"
   },
   {
    "duration": 13,
    "start_time": "2022-03-19T09:36:28.846Z"
   },
   {
    "duration": 890,
    "start_time": "2022-03-19T09:36:37.012Z"
   },
   {
    "duration": 23,
    "start_time": "2022-03-19T09:36:37.905Z"
   },
   {
    "duration": 119,
    "start_time": "2022-03-19T09:36:37.931Z"
   },
   {
    "duration": 14,
    "start_time": "2022-03-19T09:36:38.055Z"
   },
   {
    "duration": 9,
    "start_time": "2022-03-19T09:36:38.072Z"
   },
   {
    "duration": 9,
    "start_time": "2022-03-19T09:36:38.084Z"
   },
   {
    "duration": 75,
    "start_time": "2022-03-19T09:36:38.095Z"
   },
   {
    "duration": 11,
    "start_time": "2022-03-19T09:36:38.173Z"
   },
   {
    "duration": 417,
    "start_time": "2022-03-19T09:36:38.187Z"
   },
   {
    "duration": 379,
    "start_time": "2022-03-19T09:36:38.608Z"
   },
   {
    "duration": 13,
    "start_time": "2022-03-19T09:36:38.989Z"
   },
   {
    "duration": 442,
    "start_time": "2022-03-19T09:36:39.004Z"
   },
   {
    "duration": 20,
    "start_time": "2022-03-19T09:36:39.448Z"
   },
   {
    "duration": 12,
    "start_time": "2022-03-19T09:36:39.471Z"
   },
   {
    "duration": 11,
    "start_time": "2022-03-19T09:36:39.485Z"
   },
   {
    "duration": 9,
    "start_time": "2022-03-19T09:36:39.499Z"
   },
   {
    "duration": 10,
    "start_time": "2022-03-19T09:36:39.511Z"
   },
   {
    "duration": 13,
    "start_time": "2022-03-19T09:36:39.568Z"
   },
   {
    "duration": 12,
    "start_time": "2022-03-19T09:36:39.583Z"
   },
   {
    "duration": 8,
    "start_time": "2022-03-19T09:36:39.597Z"
   },
   {
    "duration": 12,
    "start_time": "2022-03-19T09:36:39.608Z"
   },
   {
    "duration": 9,
    "start_time": "2022-03-19T09:36:39.667Z"
   },
   {
    "duration": 15,
    "start_time": "2022-03-19T09:36:39.678Z"
   },
   {
    "duration": 12,
    "start_time": "2022-03-19T09:36:39.696Z"
   },
   {
    "duration": 10,
    "start_time": "2022-03-19T09:37:13.017Z"
   },
   {
    "duration": 57,
    "start_time": "2022-03-19T09:37:19.408Z"
   },
   {
    "duration": 8,
    "start_time": "2022-03-19T09:38:22.175Z"
   },
   {
    "duration": 6,
    "start_time": "2022-03-19T09:40:21.478Z"
   },
   {
    "duration": 21,
    "start_time": "2022-03-19T09:40:24.388Z"
   },
   {
    "duration": 914,
    "start_time": "2022-03-19T09:40:48.412Z"
   },
   {
    "duration": 22,
    "start_time": "2022-03-19T09:40:49.330Z"
   },
   {
    "duration": 120,
    "start_time": "2022-03-19T09:40:49.354Z"
   },
   {
    "duration": 6,
    "start_time": "2022-03-19T09:40:49.477Z"
   },
   {
    "duration": 82,
    "start_time": "2022-03-19T09:40:49.485Z"
   },
   {
    "duration": 47,
    "start_time": "2022-03-19T09:40:49.569Z"
   },
   {
    "duration": 12,
    "start_time": "2022-03-19T09:40:49.619Z"
   },
   {
    "duration": 449,
    "start_time": "2022-03-19T09:40:49.634Z"
   },
   {
    "duration": 389,
    "start_time": "2022-03-19T09:40:50.086Z"
   },
   {
    "duration": 12,
    "start_time": "2022-03-19T09:40:50.480Z"
   },
   {
    "duration": 441,
    "start_time": "2022-03-19T09:40:50.494Z"
   },
   {
    "duration": 10,
    "start_time": "2022-03-19T09:40:50.937Z"
   },
   {
    "duration": 24,
    "start_time": "2022-03-19T09:40:50.949Z"
   },
   {
    "duration": 31,
    "start_time": "2022-03-19T09:40:50.975Z"
   },
   {
    "duration": 7,
    "start_time": "2022-03-19T09:40:51.008Z"
   },
   {
    "duration": 10,
    "start_time": "2022-03-19T09:40:51.017Z"
   },
   {
    "duration": 14,
    "start_time": "2022-03-19T09:40:51.029Z"
   },
   {
    "duration": 32,
    "start_time": "2022-03-19T09:40:51.045Z"
   },
   {
    "duration": 7,
    "start_time": "2022-03-19T09:40:51.079Z"
   },
   {
    "duration": 13,
    "start_time": "2022-03-19T09:40:51.088Z"
   },
   {
    "duration": 8,
    "start_time": "2022-03-19T09:40:51.103Z"
   },
   {
    "duration": 58,
    "start_time": "2022-03-19T09:40:51.113Z"
   },
   {
    "duration": 13,
    "start_time": "2022-03-19T09:40:51.173Z"
   },
   {
    "duration": 10,
    "start_time": "2022-03-19T09:42:40.072Z"
   },
   {
    "duration": 11,
    "start_time": "2022-03-19T09:42:42.774Z"
   },
   {
    "duration": 9,
    "start_time": "2022-03-19T09:43:00.133Z"
   },
   {
    "duration": 111,
    "start_time": "2022-03-19T09:43:18.752Z"
   },
   {
    "duration": 13,
    "start_time": "2022-03-19T09:43:27.295Z"
   },
   {
    "duration": 8,
    "start_time": "2022-03-19T09:43:35.858Z"
   },
   {
    "duration": 6,
    "start_time": "2022-03-19T09:44:20.105Z"
   },
   {
    "duration": 9,
    "start_time": "2022-03-19T09:45:25.167Z"
   },
   {
    "duration": 56,
    "start_time": "2022-03-19T09:45:37.083Z"
   },
   {
    "duration": 9,
    "start_time": "2022-03-19T09:46:24.095Z"
   },
   {
    "duration": 19,
    "start_time": "2022-03-19T09:46:47.144Z"
   },
   {
    "duration": 10,
    "start_time": "2022-03-19T09:47:45.976Z"
   },
   {
    "duration": 1054,
    "start_time": "2022-03-19T09:49:59.972Z"
   },
   {
    "duration": 47,
    "start_time": "2022-03-19T09:50:01.030Z"
   },
   {
    "duration": 167,
    "start_time": "2022-03-19T09:50:01.080Z"
   },
   {
    "duration": 7,
    "start_time": "2022-03-19T09:50:01.250Z"
   },
   {
    "duration": 17,
    "start_time": "2022-03-19T09:50:01.269Z"
   },
   {
    "duration": 28,
    "start_time": "2022-03-19T09:50:01.288Z"
   },
   {
    "duration": 86,
    "start_time": "2022-03-19T09:50:01.318Z"
   },
   {
    "duration": 62,
    "start_time": "2022-03-19T09:50:01.408Z"
   },
   {
    "duration": 15,
    "start_time": "2022-03-19T09:50:01.472Z"
   },
   {
    "duration": 443,
    "start_time": "2022-03-19T09:50:01.490Z"
   },
   {
    "duration": 394,
    "start_time": "2022-03-19T09:50:01.935Z"
   },
   {
    "duration": 13,
    "start_time": "2022-03-19T09:50:02.331Z"
   },
   {
    "duration": 455,
    "start_time": "2022-03-19T09:50:02.367Z"
   },
   {
    "duration": 9,
    "start_time": "2022-03-19T09:50:02.826Z"
   },
   {
    "duration": 35,
    "start_time": "2022-03-19T09:50:02.837Z"
   },
   {
    "duration": 13,
    "start_time": "2022-03-19T09:50:02.875Z"
   },
   {
    "duration": 8,
    "start_time": "2022-03-19T09:50:02.891Z"
   },
   {
    "duration": 19,
    "start_time": "2022-03-19T09:50:02.901Z"
   },
   {
    "duration": 52,
    "start_time": "2022-03-19T09:50:02.923Z"
   },
   {
    "duration": 13,
    "start_time": "2022-03-19T09:50:02.977Z"
   },
   {
    "duration": 24,
    "start_time": "2022-03-19T09:50:02.992Z"
   },
   {
    "duration": 50,
    "start_time": "2022-03-19T09:50:03.019Z"
   },
   {
    "duration": 9,
    "start_time": "2022-03-19T09:50:03.072Z"
   },
   {
    "duration": 23,
    "start_time": "2022-03-19T09:50:03.084Z"
   },
   {
    "duration": 37,
    "start_time": "2022-03-19T09:50:03.109Z"
   },
   {
    "duration": 20,
    "start_time": "2022-03-19T09:50:19.537Z"
   },
   {
    "duration": 985,
    "start_time": "2022-03-19T09:56:47.525Z"
   },
   {
    "duration": 22,
    "start_time": "2022-03-19T09:56:48.515Z"
   },
   {
    "duration": 117,
    "start_time": "2022-03-19T09:56:48.540Z"
   },
   {
    "duration": 10,
    "start_time": "2022-03-19T09:56:48.659Z"
   },
   {
    "duration": 5,
    "start_time": "2022-03-19T09:56:48.672Z"
   },
   {
    "duration": 8,
    "start_time": "2022-03-19T09:56:48.680Z"
   },
   {
    "duration": 88,
    "start_time": "2022-03-19T09:56:48.690Z"
   },
   {
    "duration": 45,
    "start_time": "2022-03-19T09:56:48.781Z"
   },
   {
    "duration": 38,
    "start_time": "2022-03-19T09:56:48.830Z"
   },
   {
    "duration": 418,
    "start_time": "2022-03-19T09:56:48.870Z"
   },
   {
    "duration": 379,
    "start_time": "2022-03-19T09:56:49.290Z"
   },
   {
    "duration": 12,
    "start_time": "2022-03-19T09:56:49.672Z"
   },
   {
    "duration": 445,
    "start_time": "2022-03-19T09:56:49.686Z"
   },
   {
    "duration": 10,
    "start_time": "2022-03-19T09:56:50.133Z"
   },
   {
    "duration": 29,
    "start_time": "2022-03-19T09:56:50.145Z"
   },
   {
    "duration": 10,
    "start_time": "2022-03-19T09:56:50.176Z"
   },
   {
    "duration": 7,
    "start_time": "2022-03-19T09:56:50.189Z"
   },
   {
    "duration": 11,
    "start_time": "2022-03-19T09:56:50.199Z"
   },
   {
    "duration": 14,
    "start_time": "2022-03-19T09:56:50.212Z"
   },
   {
    "duration": 13,
    "start_time": "2022-03-19T09:56:50.268Z"
   },
   {
    "duration": 8,
    "start_time": "2022-03-19T09:56:50.282Z"
   },
   {
    "duration": 15,
    "start_time": "2022-03-19T09:56:50.292Z"
   },
   {
    "duration": 8,
    "start_time": "2022-03-19T09:56:50.309Z"
   },
   {
    "duration": 53,
    "start_time": "2022-03-19T09:56:50.319Z"
   },
   {
    "duration": 16,
    "start_time": "2022-03-19T09:56:50.374Z"
   },
   {
    "duration": 8,
    "start_time": "2022-03-19T10:00:48.615Z"
   },
   {
    "duration": 5,
    "start_time": "2022-03-19T10:01:13.366Z"
   },
   {
    "duration": 9,
    "start_time": "2022-03-19T10:01:14.252Z"
   },
   {
    "duration": 9,
    "start_time": "2022-03-19T10:02:12.597Z"
   },
   {
    "duration": 9,
    "start_time": "2022-03-19T10:02:36.304Z"
   },
   {
    "duration": 8,
    "start_time": "2022-03-19T10:02:37.231Z"
   },
   {
    "duration": 886,
    "start_time": "2022-03-19T10:03:41.207Z"
   },
   {
    "duration": 21,
    "start_time": "2022-03-19T10:03:42.095Z"
   },
   {
    "duration": 116,
    "start_time": "2022-03-19T10:03:42.119Z"
   },
   {
    "duration": 5,
    "start_time": "2022-03-19T10:03:42.237Z"
   },
   {
    "duration": 22,
    "start_time": "2022-03-19T10:03:42.246Z"
   },
   {
    "duration": 7,
    "start_time": "2022-03-19T10:03:42.271Z"
   },
   {
    "duration": 11,
    "start_time": "2022-03-19T10:03:42.281Z"
   },
   {
    "duration": 9,
    "start_time": "2022-03-19T10:03:42.294Z"
   },
   {
    "duration": 93,
    "start_time": "2022-03-19T10:03:42.305Z"
   },
   {
    "duration": 44,
    "start_time": "2022-03-19T10:03:42.400Z"
   },
   {
    "duration": 26,
    "start_time": "2022-03-19T10:03:42.447Z"
   },
   {
    "duration": 408,
    "start_time": "2022-03-19T10:03:42.476Z"
   },
   {
    "duration": 371,
    "start_time": "2022-03-19T10:03:42.886Z"
   },
   {
    "duration": 11,
    "start_time": "2022-03-19T10:03:43.267Z"
   },
   {
    "duration": 452,
    "start_time": "2022-03-19T10:03:43.281Z"
   },
   {
    "duration": 8,
    "start_time": "2022-03-19T10:03:43.735Z"
   },
   {
    "duration": 31,
    "start_time": "2022-03-19T10:03:43.745Z"
   },
   {
    "duration": 10,
    "start_time": "2022-03-19T10:03:43.778Z"
   },
   {
    "duration": 7,
    "start_time": "2022-03-19T10:03:43.791Z"
   },
   {
    "duration": 9,
    "start_time": "2022-03-19T10:03:43.800Z"
   },
   {
    "duration": 14,
    "start_time": "2022-03-19T10:03:43.811Z"
   },
   {
    "duration": 50,
    "start_time": "2022-03-19T10:03:43.827Z"
   },
   {
    "duration": 7,
    "start_time": "2022-03-19T10:03:43.879Z"
   },
   {
    "duration": 11,
    "start_time": "2022-03-19T10:03:43.889Z"
   },
   {
    "duration": 7,
    "start_time": "2022-03-19T10:03:43.903Z"
   },
   {
    "duration": 60,
    "start_time": "2022-03-19T10:03:43.913Z"
   },
   {
    "duration": 12,
    "start_time": "2022-03-19T10:03:43.975Z"
   },
   {
    "duration": 19,
    "start_time": "2022-03-19T10:04:02.613Z"
   },
   {
    "duration": 922,
    "start_time": "2022-03-19T10:06:15.388Z"
   },
   {
    "duration": 22,
    "start_time": "2022-03-19T10:06:16.314Z"
   },
   {
    "duration": 113,
    "start_time": "2022-03-19T10:06:16.338Z"
   },
   {
    "duration": 15,
    "start_time": "2022-03-19T10:06:16.453Z"
   },
   {
    "duration": 4,
    "start_time": "2022-03-19T10:06:16.472Z"
   },
   {
    "duration": 9,
    "start_time": "2022-03-19T10:06:16.479Z"
   },
   {
    "duration": 10,
    "start_time": "2022-03-19T10:06:16.490Z"
   },
   {
    "duration": 18,
    "start_time": "2022-03-19T10:06:16.502Z"
   },
   {
    "duration": 46,
    "start_time": "2022-03-19T10:06:16.523Z"
   },
   {
    "duration": 64,
    "start_time": "2022-03-19T10:06:16.571Z"
   },
   {
    "duration": 66,
    "start_time": "2022-03-19T10:06:16.637Z"
   },
   {
    "duration": 11,
    "start_time": "2022-03-19T10:06:16.705Z"
   },
   {
    "duration": 423,
    "start_time": "2022-03-19T10:06:16.718Z"
   },
   {
    "duration": 400,
    "start_time": "2022-03-19T10:06:17.147Z"
   },
   {
    "duration": 20,
    "start_time": "2022-03-19T10:06:17.550Z"
   },
   {
    "duration": 425,
    "start_time": "2022-03-19T10:06:17.572Z"
   },
   {
    "duration": 9,
    "start_time": "2022-03-19T10:06:17.999Z"
   },
   {
    "duration": 15,
    "start_time": "2022-03-19T10:06:18.010Z"
   },
   {
    "duration": 42,
    "start_time": "2022-03-19T10:06:18.028Z"
   },
   {
    "duration": 8,
    "start_time": "2022-03-19T10:06:18.072Z"
   },
   {
    "duration": 9,
    "start_time": "2022-03-19T10:06:18.082Z"
   },
   {
    "duration": 12,
    "start_time": "2022-03-19T10:06:18.092Z"
   },
   {
    "duration": 12,
    "start_time": "2022-03-19T10:06:18.106Z"
   },
   {
    "duration": 51,
    "start_time": "2022-03-19T10:06:18.121Z"
   },
   {
    "duration": 12,
    "start_time": "2022-03-19T10:06:18.175Z"
   },
   {
    "duration": 7,
    "start_time": "2022-03-19T10:06:18.189Z"
   },
   {
    "duration": 14,
    "start_time": "2022-03-19T10:06:18.199Z"
   },
   {
    "duration": 53,
    "start_time": "2022-03-19T10:06:18.216Z"
   },
   {
    "duration": 5,
    "start_time": "2022-03-19T10:10:41.096Z"
   },
   {
    "duration": 20,
    "start_time": "2022-03-19T10:10:42.775Z"
   },
   {
    "duration": 9,
    "start_time": "2022-03-19T10:13:43.099Z"
   },
   {
    "duration": 10,
    "start_time": "2022-03-19T10:13:49.909Z"
   },
   {
    "duration": 14,
    "start_time": "2022-03-19T10:14:11.678Z"
   },
   {
    "duration": 89,
    "start_time": "2022-03-19T10:15:16.128Z"
   },
   {
    "duration": 55,
    "start_time": "2022-03-19T10:15:21.785Z"
   },
   {
    "duration": 12,
    "start_time": "2022-03-19T10:15:36.321Z"
   },
   {
    "duration": 9,
    "start_time": "2022-03-19T10:15:48.118Z"
   },
   {
    "duration": 9,
    "start_time": "2022-03-19T10:15:55.637Z"
   },
   {
    "duration": 9,
    "start_time": "2022-03-19T10:16:19.208Z"
   },
   {
    "duration": 45,
    "start_time": "2022-03-19T10:16:34.878Z"
   },
   {
    "duration": 107,
    "start_time": "2022-03-19T10:17:40.367Z"
   },
   {
    "duration": 19,
    "start_time": "2022-03-19T10:17:50.388Z"
   },
   {
    "duration": 9,
    "start_time": "2022-03-19T10:19:32.005Z"
   },
   {
    "duration": 9,
    "start_time": "2022-03-19T10:20:08.426Z"
   },
   {
    "duration": 1023,
    "start_time": "2022-03-19T10:22:07.965Z"
   },
   {
    "duration": 34,
    "start_time": "2022-03-19T10:22:08.991Z"
   },
   {
    "duration": 170,
    "start_time": "2022-03-19T10:22:09.029Z"
   },
   {
    "duration": 6,
    "start_time": "2022-03-19T10:22:09.203Z"
   },
   {
    "duration": 8,
    "start_time": "2022-03-19T10:22:09.212Z"
   },
   {
    "duration": 10,
    "start_time": "2022-03-19T10:22:09.223Z"
   },
   {
    "duration": 33,
    "start_time": "2022-03-19T10:22:09.236Z"
   },
   {
    "duration": 23,
    "start_time": "2022-03-19T10:22:09.271Z"
   },
   {
    "duration": 7,
    "start_time": "2022-03-19T10:22:09.297Z"
   },
   {
    "duration": 10,
    "start_time": "2022-03-19T10:22:09.308Z"
   },
   {
    "duration": 86,
    "start_time": "2022-03-19T10:22:09.320Z"
   },
   {
    "duration": 62,
    "start_time": "2022-03-19T10:22:09.408Z"
   },
   {
    "duration": 12,
    "start_time": "2022-03-19T10:22:09.472Z"
   },
   {
    "duration": 423,
    "start_time": "2022-03-19T10:22:09.486Z"
   },
   {
    "duration": 391,
    "start_time": "2022-03-19T10:22:09.912Z"
   },
   {
    "duration": 13,
    "start_time": "2022-03-19T10:22:10.305Z"
   },
   {
    "duration": 473,
    "start_time": "2022-03-19T10:22:10.320Z"
   },
   {
    "duration": 9,
    "start_time": "2022-03-19T10:22:10.795Z"
   },
   {
    "duration": 16,
    "start_time": "2022-03-19T10:22:10.806Z"
   },
   {
    "duration": 11,
    "start_time": "2022-03-19T10:22:10.824Z"
   },
   {
    "duration": 36,
    "start_time": "2022-03-19T10:22:10.837Z"
   },
   {
    "duration": 10,
    "start_time": "2022-03-19T10:22:10.875Z"
   },
   {
    "duration": 15,
    "start_time": "2022-03-19T10:22:10.887Z"
   },
   {
    "duration": 12,
    "start_time": "2022-03-19T10:22:10.904Z"
   },
   {
    "duration": 52,
    "start_time": "2022-03-19T10:22:10.918Z"
   },
   {
    "duration": 12,
    "start_time": "2022-03-19T10:22:10.973Z"
   },
   {
    "duration": 8,
    "start_time": "2022-03-19T10:22:10.986Z"
   },
   {
    "duration": 12,
    "start_time": "2022-03-19T10:22:10.999Z"
   },
   {
    "duration": 13,
    "start_time": "2022-03-19T10:22:11.013Z"
   },
   {
    "duration": 1019,
    "start_time": "2022-03-19T10:24:06.533Z"
   },
   {
    "duration": 30,
    "start_time": "2022-03-19T10:24:07.555Z"
   },
   {
    "duration": 111,
    "start_time": "2022-03-19T10:24:07.587Z"
   },
   {
    "duration": 5,
    "start_time": "2022-03-19T10:24:07.700Z"
   },
   {
    "duration": 20,
    "start_time": "2022-03-19T10:24:07.708Z"
   },
   {
    "duration": 13,
    "start_time": "2022-03-19T10:24:07.731Z"
   },
   {
    "duration": 13,
    "start_time": "2022-03-19T10:24:07.748Z"
   },
   {
    "duration": 40,
    "start_time": "2022-03-19T10:24:07.768Z"
   },
   {
    "duration": 7,
    "start_time": "2022-03-19T10:24:07.811Z"
   },
   {
    "duration": 34,
    "start_time": "2022-03-19T10:24:07.821Z"
   },
   {
    "duration": 73,
    "start_time": "2022-03-19T10:24:07.857Z"
   },
   {
    "duration": 42,
    "start_time": "2022-03-19T10:24:07.933Z"
   },
   {
    "duration": 35,
    "start_time": "2022-03-19T10:24:07.977Z"
   },
   {
    "duration": 479,
    "start_time": "2022-03-19T10:24:08.016Z"
   },
   {
    "duration": 415,
    "start_time": "2022-03-19T10:24:08.497Z"
   },
   {
    "duration": 14,
    "start_time": "2022-03-19T10:24:08.914Z"
   },
   {
    "duration": 462,
    "start_time": "2022-03-19T10:24:08.930Z"
   },
   {
    "duration": 8,
    "start_time": "2022-03-19T10:24:09.394Z"
   },
   {
    "duration": 35,
    "start_time": "2022-03-19T10:24:09.404Z"
   },
   {
    "duration": 15,
    "start_time": "2022-03-19T10:24:09.441Z"
   },
   {
    "duration": 27,
    "start_time": "2022-03-19T10:24:09.458Z"
   },
   {
    "duration": 22,
    "start_time": "2022-03-19T10:24:09.487Z"
   },
   {
    "duration": 21,
    "start_time": "2022-03-19T10:24:09.511Z"
   },
   {
    "duration": 17,
    "start_time": "2022-03-19T10:24:09.534Z"
   },
   {
    "duration": 21,
    "start_time": "2022-03-19T10:24:09.553Z"
   },
   {
    "duration": 34,
    "start_time": "2022-03-19T10:24:09.577Z"
   },
   {
    "duration": 25,
    "start_time": "2022-03-19T10:24:09.614Z"
   },
   {
    "duration": 26,
    "start_time": "2022-03-19T10:24:09.641Z"
   },
   {
    "duration": 26,
    "start_time": "2022-03-19T10:24:09.669Z"
   },
   {
    "duration": 13,
    "start_time": "2022-03-19T10:24:15.707Z"
   },
   {
    "duration": 921,
    "start_time": "2022-03-19T10:24:23.907Z"
   },
   {
    "duration": 22,
    "start_time": "2022-03-19T10:24:24.831Z"
   },
   {
    "duration": 117,
    "start_time": "2022-03-19T10:24:24.855Z"
   },
   {
    "duration": 12,
    "start_time": "2022-03-19T10:24:24.974Z"
   },
   {
    "duration": 5,
    "start_time": "2022-03-19T10:24:24.988Z"
   },
   {
    "duration": 5,
    "start_time": "2022-03-19T10:24:24.995Z"
   },
   {
    "duration": 9,
    "start_time": "2022-03-19T10:24:25.002Z"
   },
   {
    "duration": 7,
    "start_time": "2022-03-19T10:24:25.013Z"
   },
   {
    "duration": 70,
    "start_time": "2022-03-19T10:24:25.022Z"
   },
   {
    "duration": 9,
    "start_time": "2022-03-19T10:24:25.094Z"
   },
   {
    "duration": 10,
    "start_time": "2022-03-19T10:24:25.105Z"
   },
   {
    "duration": 86,
    "start_time": "2022-03-19T10:24:25.117Z"
   },
   {
    "duration": 44,
    "start_time": "2022-03-19T10:24:25.205Z"
   },
   {
    "duration": 12,
    "start_time": "2022-03-19T10:24:25.270Z"
   },
   {
    "duration": 427,
    "start_time": "2022-03-19T10:24:25.284Z"
   },
   {
    "duration": 382,
    "start_time": "2022-03-19T10:24:25.714Z"
   },
   {
    "duration": 12,
    "start_time": "2022-03-19T10:24:26.098Z"
   },
   {
    "duration": 463,
    "start_time": "2022-03-19T10:24:26.112Z"
   },
   {
    "duration": 8,
    "start_time": "2022-03-19T10:24:26.577Z"
   },
   {
    "duration": 17,
    "start_time": "2022-03-19T10:24:26.588Z"
   },
   {
    "duration": 12,
    "start_time": "2022-03-19T10:24:26.607Z"
   },
   {
    "duration": 47,
    "start_time": "2022-03-19T10:24:26.621Z"
   },
   {
    "duration": 9,
    "start_time": "2022-03-19T10:24:26.671Z"
   },
   {
    "duration": 12,
    "start_time": "2022-03-19T10:24:26.682Z"
   },
   {
    "duration": 10,
    "start_time": "2022-03-19T10:24:26.696Z"
   },
   {
    "duration": 8,
    "start_time": "2022-03-19T10:24:26.708Z"
   },
   {
    "duration": 54,
    "start_time": "2022-03-19T10:24:26.718Z"
   },
   {
    "duration": 7,
    "start_time": "2022-03-19T10:24:26.774Z"
   },
   {
    "duration": 14,
    "start_time": "2022-03-19T10:24:26.783Z"
   },
   {
    "duration": 11,
    "start_time": "2022-03-19T10:24:26.799Z"
   },
   {
    "duration": 1020,
    "start_time": "2022-03-19T10:25:01.823Z"
   },
   {
    "duration": 32,
    "start_time": "2022-03-19T10:25:02.846Z"
   },
   {
    "duration": 120,
    "start_time": "2022-03-19T10:25:02.881Z"
   },
   {
    "duration": 9,
    "start_time": "2022-03-19T10:25:03.003Z"
   },
   {
    "duration": 6,
    "start_time": "2022-03-19T10:25:03.016Z"
   },
   {
    "duration": 7,
    "start_time": "2022-03-19T10:25:03.025Z"
   },
   {
    "duration": 41,
    "start_time": "2022-03-19T10:25:03.034Z"
   },
   {
    "duration": 7,
    "start_time": "2022-03-19T10:25:03.078Z"
   },
   {
    "duration": 24,
    "start_time": "2022-03-19T10:25:03.087Z"
   },
   {
    "duration": 9,
    "start_time": "2022-03-19T10:25:03.114Z"
   },
   {
    "duration": 48,
    "start_time": "2022-03-19T10:25:03.125Z"
   },
   {
    "duration": 56,
    "start_time": "2022-03-19T10:25:03.175Z"
   },
   {
    "duration": 72,
    "start_time": "2022-03-19T10:25:03.234Z"
   },
   {
    "duration": 13,
    "start_time": "2022-03-19T10:25:03.309Z"
   },
   {
    "duration": 464,
    "start_time": "2022-03-19T10:25:03.325Z"
   },
   {
    "duration": 386,
    "start_time": "2022-03-19T10:25:03.792Z"
   },
   {
    "duration": 13,
    "start_time": "2022-03-19T10:25:04.180Z"
   },
   {
    "duration": 457,
    "start_time": "2022-03-19T10:25:04.195Z"
   },
   {
    "duration": 20,
    "start_time": "2022-03-19T10:25:04.654Z"
   },
   {
    "duration": 33,
    "start_time": "2022-03-19T10:25:04.676Z"
   },
   {
    "duration": 11,
    "start_time": "2022-03-19T10:25:04.712Z"
   },
   {
    "duration": 8,
    "start_time": "2022-03-19T10:25:04.725Z"
   },
   {
    "duration": 33,
    "start_time": "2022-03-19T10:25:04.734Z"
   },
   {
    "duration": 12,
    "start_time": "2022-03-19T10:25:04.770Z"
   },
   {
    "duration": 12,
    "start_time": "2022-03-19T10:25:04.784Z"
   },
   {
    "duration": 10,
    "start_time": "2022-03-19T10:25:04.798Z"
   },
   {
    "duration": 12,
    "start_time": "2022-03-19T10:25:04.810Z"
   },
   {
    "duration": 49,
    "start_time": "2022-03-19T10:25:04.824Z"
   },
   {
    "duration": 12,
    "start_time": "2022-03-19T10:25:04.875Z"
   },
   {
    "duration": 11,
    "start_time": "2022-03-19T10:25:04.889Z"
   },
   {
    "duration": 11,
    "start_time": "2022-03-19T10:26:04.160Z"
   },
   {
    "duration": 993,
    "start_time": "2022-03-19T10:26:10.326Z"
   },
   {
    "duration": 22,
    "start_time": "2022-03-19T10:26:11.322Z"
   },
   {
    "duration": 124,
    "start_time": "2022-03-19T10:26:11.347Z"
   },
   {
    "duration": 14,
    "start_time": "2022-03-19T10:26:11.473Z"
   },
   {
    "duration": 5,
    "start_time": "2022-03-19T10:26:11.491Z"
   },
   {
    "duration": 20,
    "start_time": "2022-03-19T10:26:11.499Z"
   },
   {
    "duration": 18,
    "start_time": "2022-03-19T10:26:11.521Z"
   },
   {
    "duration": 26,
    "start_time": "2022-03-19T10:26:11.542Z"
   },
   {
    "duration": 25,
    "start_time": "2022-03-19T10:26:11.570Z"
   },
   {
    "duration": 8,
    "start_time": "2022-03-19T10:26:11.597Z"
   },
   {
    "duration": 8,
    "start_time": "2022-03-19T10:26:11.607Z"
   },
   {
    "duration": 88,
    "start_time": "2022-03-19T10:26:11.617Z"
   },
   {
    "duration": 44,
    "start_time": "2022-03-19T10:26:11.707Z"
   },
   {
    "duration": 10,
    "start_time": "2022-03-19T10:26:11.769Z"
   },
   {
    "duration": 421,
    "start_time": "2022-03-19T10:26:11.781Z"
   },
   {
    "duration": 395,
    "start_time": "2022-03-19T10:26:12.204Z"
   },
   {
    "duration": 12,
    "start_time": "2022-03-19T10:26:12.601Z"
   },
   {
    "duration": 461,
    "start_time": "2022-03-19T10:26:12.615Z"
   },
   {
    "duration": 8,
    "start_time": "2022-03-19T10:26:13.079Z"
   },
   {
    "duration": 13,
    "start_time": "2022-03-19T10:26:13.089Z"
   },
   {
    "duration": 10,
    "start_time": "2022-03-19T10:26:13.104Z"
   },
   {
    "duration": 12,
    "start_time": "2022-03-19T10:26:13.117Z"
   },
   {
    "duration": 44,
    "start_time": "2022-03-19T10:26:13.131Z"
   },
   {
    "duration": 15,
    "start_time": "2022-03-19T10:26:13.177Z"
   },
   {
    "duration": 13,
    "start_time": "2022-03-19T10:26:13.194Z"
   },
   {
    "duration": 7,
    "start_time": "2022-03-19T10:26:13.209Z"
   },
   {
    "duration": 54,
    "start_time": "2022-03-19T10:26:13.219Z"
   },
   {
    "duration": 8,
    "start_time": "2022-03-19T10:26:13.275Z"
   },
   {
    "duration": 12,
    "start_time": "2022-03-19T10:26:13.286Z"
   },
   {
    "duration": 12,
    "start_time": "2022-03-19T10:26:13.300Z"
   },
   {
    "duration": 101,
    "start_time": "2022-03-19T10:27:36.483Z"
   },
   {
    "duration": 58,
    "start_time": "2022-03-19T10:27:54.740Z"
   },
   {
    "duration": 12,
    "start_time": "2022-03-19T10:28:23.626Z"
   },
   {
    "duration": 8,
    "start_time": "2022-03-19T10:28:39.109Z"
   },
   {
    "duration": 5,
    "start_time": "2022-03-19T10:29:30.905Z"
   },
   {
    "duration": 12,
    "start_time": "2022-03-19T10:29:46.658Z"
   },
   {
    "duration": 939,
    "start_time": "2022-03-19T10:29:55.000Z"
   },
   {
    "duration": 34,
    "start_time": "2022-03-19T10:29:55.943Z"
   },
   {
    "duration": 106,
    "start_time": "2022-03-19T10:29:55.980Z"
   },
   {
    "duration": 10,
    "start_time": "2022-03-19T10:29:56.088Z"
   },
   {
    "duration": 13,
    "start_time": "2022-03-19T10:29:56.100Z"
   },
   {
    "duration": 4,
    "start_time": "2022-03-19T10:29:56.115Z"
   },
   {
    "duration": 7,
    "start_time": "2022-03-19T10:29:56.121Z"
   },
   {
    "duration": 41,
    "start_time": "2022-03-19T10:29:56.130Z"
   },
   {
    "duration": 6,
    "start_time": "2022-03-19T10:29:56.173Z"
   },
   {
    "duration": 22,
    "start_time": "2022-03-19T10:29:56.183Z"
   },
   {
    "duration": 7,
    "start_time": "2022-03-19T10:29:56.208Z"
   },
   {
    "duration": 9,
    "start_time": "2022-03-19T10:29:56.218Z"
   },
   {
    "duration": 55,
    "start_time": "2022-03-19T10:29:56.268Z"
   },
   {
    "duration": 64,
    "start_time": "2022-03-19T10:29:56.326Z"
   },
   {
    "duration": 11,
    "start_time": "2022-03-19T10:29:56.392Z"
   },
   {
    "duration": 436,
    "start_time": "2022-03-19T10:29:56.405Z"
   },
   {
    "duration": 375,
    "start_time": "2022-03-19T10:29:56.843Z"
   },
   {
    "duration": 12,
    "start_time": "2022-03-19T10:29:57.220Z"
   },
   {
    "duration": 446,
    "start_time": "2022-03-19T10:29:57.233Z"
   },
   {
    "duration": 8,
    "start_time": "2022-03-19T10:29:57.682Z"
   },
   {
    "duration": 14,
    "start_time": "2022-03-19T10:29:57.692Z"
   },
   {
    "duration": 11,
    "start_time": "2022-03-19T10:29:57.708Z"
   },
   {
    "duration": 8,
    "start_time": "2022-03-19T10:29:57.720Z"
   },
   {
    "duration": 11,
    "start_time": "2022-03-19T10:29:57.768Z"
   },
   {
    "duration": 13,
    "start_time": "2022-03-19T10:29:57.781Z"
   },
   {
    "duration": 10,
    "start_time": "2022-03-19T10:29:57.796Z"
   },
   {
    "duration": 8,
    "start_time": "2022-03-19T10:29:57.808Z"
   },
   {
    "duration": 13,
    "start_time": "2022-03-19T10:29:57.868Z"
   },
   {
    "duration": 8,
    "start_time": "2022-03-19T10:29:57.883Z"
   },
   {
    "duration": 14,
    "start_time": "2022-03-19T10:29:57.893Z"
   },
   {
    "duration": 11,
    "start_time": "2022-03-19T10:29:57.909Z"
   },
   {
    "duration": 870,
    "start_time": "2022-03-19T10:30:46.800Z"
   },
   {
    "duration": 11,
    "start_time": "2022-03-19T10:31:00.621Z"
   },
   {
    "duration": 9,
    "start_time": "2022-03-19T10:31:11.406Z"
   },
   {
    "duration": 8,
    "start_time": "2022-03-19T10:31:16.669Z"
   },
   {
    "duration": 8,
    "start_time": "2022-03-19T10:31:19.119Z"
   },
   {
    "duration": 9,
    "start_time": "2022-03-19T10:31:22.587Z"
   },
   {
    "duration": 8,
    "start_time": "2022-03-19T10:31:25.534Z"
   },
   {
    "duration": 8,
    "start_time": "2022-03-19T10:31:28.099Z"
   },
   {
    "duration": 8,
    "start_time": "2022-03-19T10:31:32.370Z"
   },
   {
    "duration": 963,
    "start_time": "2022-03-19T10:33:00.879Z"
   },
   {
    "duration": 28,
    "start_time": "2022-03-19T10:33:01.851Z"
   },
   {
    "duration": 113,
    "start_time": "2022-03-19T10:33:01.882Z"
   },
   {
    "duration": 6,
    "start_time": "2022-03-19T10:33:01.998Z"
   },
   {
    "duration": 7,
    "start_time": "2022-03-19T10:33:02.008Z"
   },
   {
    "duration": 16,
    "start_time": "2022-03-19T10:33:02.017Z"
   },
   {
    "duration": 31,
    "start_time": "2022-03-19T10:33:02.035Z"
   },
   {
    "duration": 25,
    "start_time": "2022-03-19T10:33:02.069Z"
   },
   {
    "duration": 8,
    "start_time": "2022-03-19T10:33:02.096Z"
   },
   {
    "duration": 9,
    "start_time": "2022-03-19T10:33:02.106Z"
   },
   {
    "duration": 88,
    "start_time": "2022-03-19T10:33:02.117Z"
   },
   {
    "duration": 60,
    "start_time": "2022-03-19T10:33:02.207Z"
   },
   {
    "duration": 13,
    "start_time": "2022-03-19T10:33:02.270Z"
   },
   {
    "duration": 453,
    "start_time": "2022-03-19T10:33:02.287Z"
   },
   {
    "duration": 390,
    "start_time": "2022-03-19T10:33:02.742Z"
   },
   {
    "duration": 13,
    "start_time": "2022-03-19T10:33:03.134Z"
   },
   {
    "duration": 462,
    "start_time": "2022-03-19T10:33:03.149Z"
   },
   {
    "duration": 9,
    "start_time": "2022-03-19T10:33:03.614Z"
   },
   {
    "duration": 13,
    "start_time": "2022-03-19T10:33:03.625Z"
   },
   {
    "duration": 36,
    "start_time": "2022-03-19T10:33:03.640Z"
   },
   {
    "duration": 8,
    "start_time": "2022-03-19T10:33:03.678Z"
   },
   {
    "duration": 8,
    "start_time": "2022-03-19T10:33:03.688Z"
   },
   {
    "duration": 12,
    "start_time": "2022-03-19T10:33:03.698Z"
   },
   {
    "duration": 11,
    "start_time": "2022-03-19T10:33:03.712Z"
   },
   {
    "duration": 8,
    "start_time": "2022-03-19T10:33:03.768Z"
   },
   {
    "duration": 12,
    "start_time": "2022-03-19T10:33:03.778Z"
   },
   {
    "duration": 7,
    "start_time": "2022-03-19T10:33:03.792Z"
   },
   {
    "duration": 13,
    "start_time": "2022-03-19T10:33:03.801Z"
   },
   {
    "duration": 59,
    "start_time": "2022-03-19T10:33:03.816Z"
   },
   {
    "duration": 19,
    "start_time": "2022-03-19T10:34:14.056Z"
   },
   {
    "duration": 933,
    "start_time": "2022-03-19T10:34:56.476Z"
   },
   {
    "duration": 23,
    "start_time": "2022-03-19T10:34:57.412Z"
   },
   {
    "duration": 117,
    "start_time": "2022-03-19T10:34:57.436Z"
   },
   {
    "duration": 14,
    "start_time": "2022-03-19T10:34:57.555Z"
   },
   {
    "duration": 10,
    "start_time": "2022-03-19T10:34:57.572Z"
   },
   {
    "duration": 8,
    "start_time": "2022-03-19T10:34:57.584Z"
   },
   {
    "duration": 9,
    "start_time": "2022-03-19T10:34:57.594Z"
   },
   {
    "duration": 62,
    "start_time": "2022-03-19T10:34:57.605Z"
   },
   {
    "duration": 19,
    "start_time": "2022-03-19T10:34:57.669Z"
   },
   {
    "duration": 21,
    "start_time": "2022-03-19T10:34:57.691Z"
   },
   {
    "duration": 8,
    "start_time": "2022-03-19T10:34:57.714Z"
   },
   {
    "duration": 46,
    "start_time": "2022-03-19T10:34:57.724Z"
   },
   {
    "duration": 53,
    "start_time": "2022-03-19T10:34:57.772Z"
   },
   {
    "duration": 12,
    "start_time": "2022-03-19T10:34:57.829Z"
   },
   {
    "duration": 425,
    "start_time": "2022-03-19T10:34:57.867Z"
   },
   {
    "duration": 386,
    "start_time": "2022-03-19T10:34:58.294Z"
   },
   {
    "duration": 12,
    "start_time": "2022-03-19T10:34:58.683Z"
   },
   {
    "duration": 460,
    "start_time": "2022-03-19T10:34:58.697Z"
   },
   {
    "duration": 9,
    "start_time": "2022-03-19T10:34:59.167Z"
   },
   {
    "duration": 13,
    "start_time": "2022-03-19T10:34:59.178Z"
   },
   {
    "duration": 12,
    "start_time": "2022-03-19T10:34:59.194Z"
   },
   {
    "duration": 11,
    "start_time": "2022-03-19T10:34:59.208Z"
   },
   {
    "duration": 9,
    "start_time": "2022-03-19T10:34:59.269Z"
   },
   {
    "duration": 13,
    "start_time": "2022-03-19T10:34:59.281Z"
   },
   {
    "duration": 21,
    "start_time": "2022-03-19T10:34:59.297Z"
   },
   {
    "duration": 12,
    "start_time": "2022-03-19T10:34:59.321Z"
   },
   {
    "duration": 41,
    "start_time": "2022-03-19T10:34:59.336Z"
   },
   {
    "duration": 17,
    "start_time": "2022-03-19T10:34:59.379Z"
   },
   {
    "duration": 11,
    "start_time": "2022-03-19T10:34:59.398Z"
   },
   {
    "duration": 11,
    "start_time": "2022-03-19T10:34:59.411Z"
   },
   {
    "duration": 106,
    "start_time": "2022-03-19T10:37:08.083Z"
   },
   {
    "duration": 13,
    "start_time": "2022-03-19T10:37:08.565Z"
   },
   {
    "duration": 15,
    "start_time": "2022-03-19T10:37:52.305Z"
   },
   {
    "duration": 956,
    "start_time": "2022-03-19T10:38:01.601Z"
   },
   {
    "duration": 25,
    "start_time": "2022-03-19T10:38:02.559Z"
   },
   {
    "duration": 108,
    "start_time": "2022-03-19T10:38:02.586Z"
   },
   {
    "duration": 5,
    "start_time": "2022-03-19T10:38:02.696Z"
   },
   {
    "duration": 6,
    "start_time": "2022-03-19T10:38:02.705Z"
   },
   {
    "duration": 10,
    "start_time": "2022-03-19T10:38:02.713Z"
   },
   {
    "duration": 6,
    "start_time": "2022-03-19T10:38:02.725Z"
   },
   {
    "duration": 68,
    "start_time": "2022-03-19T10:38:02.734Z"
   },
   {
    "duration": 19,
    "start_time": "2022-03-19T10:38:02.805Z"
   },
   {
    "duration": 131,
    "start_time": "2022-03-19T10:38:02.827Z"
   },
   {
    "duration": 0,
    "start_time": "2022-03-19T10:38:02.968Z"
   },
   {
    "duration": 0,
    "start_time": "2022-03-19T10:38:02.970Z"
   },
   {
    "duration": 0,
    "start_time": "2022-03-19T10:38:02.972Z"
   },
   {
    "duration": 0,
    "start_time": "2022-03-19T10:38:02.974Z"
   },
   {
    "duration": 0,
    "start_time": "2022-03-19T10:38:02.975Z"
   },
   {
    "duration": 0,
    "start_time": "2022-03-19T10:38:02.977Z"
   },
   {
    "duration": 0,
    "start_time": "2022-03-19T10:38:02.979Z"
   },
   {
    "duration": 0,
    "start_time": "2022-03-19T10:38:02.980Z"
   },
   {
    "duration": 0,
    "start_time": "2022-03-19T10:38:02.982Z"
   },
   {
    "duration": 1,
    "start_time": "2022-03-19T10:38:02.983Z"
   },
   {
    "duration": 0,
    "start_time": "2022-03-19T10:38:02.985Z"
   },
   {
    "duration": 0,
    "start_time": "2022-03-19T10:38:02.987Z"
   },
   {
    "duration": 0,
    "start_time": "2022-03-19T10:38:02.988Z"
   },
   {
    "duration": 0,
    "start_time": "2022-03-19T10:38:02.990Z"
   },
   {
    "duration": 0,
    "start_time": "2022-03-19T10:38:02.992Z"
   },
   {
    "duration": 0,
    "start_time": "2022-03-19T10:38:02.994Z"
   },
   {
    "duration": 0,
    "start_time": "2022-03-19T10:38:02.996Z"
   },
   {
    "duration": 0,
    "start_time": "2022-03-19T10:38:02.997Z"
   },
   {
    "duration": 0,
    "start_time": "2022-03-19T10:38:02.998Z"
   },
   {
    "duration": 0,
    "start_time": "2022-03-19T10:38:03.000Z"
   },
   {
    "duration": 0,
    "start_time": "2022-03-19T10:38:03.001Z"
   },
   {
    "duration": 0,
    "start_time": "2022-03-19T10:38:03.003Z"
   },
   {
    "duration": 6,
    "start_time": "2022-03-19T10:39:47.128Z"
   },
   {
    "duration": 1027,
    "start_time": "2022-03-19T10:40:11.720Z"
   },
   {
    "duration": 26,
    "start_time": "2022-03-19T10:40:12.750Z"
   },
   {
    "duration": 110,
    "start_time": "2022-03-19T10:40:12.779Z"
   },
   {
    "duration": 4,
    "start_time": "2022-03-19T10:40:12.892Z"
   },
   {
    "duration": 8,
    "start_time": "2022-03-19T10:40:12.899Z"
   },
   {
    "duration": 15,
    "start_time": "2022-03-19T10:40:12.909Z"
   },
   {
    "duration": 6,
    "start_time": "2022-03-19T10:40:12.926Z"
   },
   {
    "duration": 35,
    "start_time": "2022-03-19T10:40:12.935Z"
   },
   {
    "duration": 7,
    "start_time": "2022-03-19T10:40:12.972Z"
   },
   {
    "duration": 21,
    "start_time": "2022-03-19T10:40:12.983Z"
   },
   {
    "duration": 26,
    "start_time": "2022-03-19T10:40:13.006Z"
   },
   {
    "duration": 39,
    "start_time": "2022-03-19T10:40:13.035Z"
   },
   {
    "duration": 14,
    "start_time": "2022-03-19T10:40:13.076Z"
   },
   {
    "duration": 107,
    "start_time": "2022-03-19T10:40:13.093Z"
   },
   {
    "duration": 15,
    "start_time": "2022-03-19T10:40:13.203Z"
   },
   {
    "duration": 659,
    "start_time": "2022-03-19T10:40:13.221Z"
   },
   {
    "duration": 497,
    "start_time": "2022-03-19T10:40:13.883Z"
   },
   {
    "duration": 12,
    "start_time": "2022-03-19T10:40:14.382Z"
   },
   {
    "duration": 511,
    "start_time": "2022-03-19T10:40:14.397Z"
   },
   {
    "duration": 9,
    "start_time": "2022-03-19T10:40:14.911Z"
   },
   {
    "duration": 13,
    "start_time": "2022-03-19T10:40:14.922Z"
   },
   {
    "duration": 35,
    "start_time": "2022-03-19T10:40:14.937Z"
   },
   {
    "duration": 8,
    "start_time": "2022-03-19T10:40:14.975Z"
   },
   {
    "duration": 10,
    "start_time": "2022-03-19T10:40:14.985Z"
   },
   {
    "duration": 24,
    "start_time": "2022-03-19T10:40:14.997Z"
   },
   {
    "duration": 49,
    "start_time": "2022-03-19T10:40:15.024Z"
   },
   {
    "duration": 7,
    "start_time": "2022-03-19T10:40:15.075Z"
   },
   {
    "duration": 19,
    "start_time": "2022-03-19T10:40:15.087Z"
   },
   {
    "duration": 9,
    "start_time": "2022-03-19T10:40:15.108Z"
   },
   {
    "duration": 49,
    "start_time": "2022-03-19T10:40:15.120Z"
   },
   {
    "duration": 13,
    "start_time": "2022-03-19T10:40:15.171Z"
   },
   {
    "duration": 5,
    "start_time": "2022-03-19T11:04:04.228Z"
   },
   {
    "duration": 89,
    "start_time": "2022-03-19T11:06:05.746Z"
   },
   {
    "duration": 10,
    "start_time": "2022-03-19T11:06:57.636Z"
   },
   {
    "duration": 947,
    "start_time": "2022-03-19T11:07:09.403Z"
   },
   {
    "duration": 26,
    "start_time": "2022-03-19T11:07:10.353Z"
   },
   {
    "duration": 124,
    "start_time": "2022-03-19T11:07:10.382Z"
   },
   {
    "duration": 5,
    "start_time": "2022-03-19T11:07:10.508Z"
   },
   {
    "duration": 5,
    "start_time": "2022-03-19T11:07:10.517Z"
   },
   {
    "duration": 10,
    "start_time": "2022-03-19T11:07:10.524Z"
   },
   {
    "duration": 34,
    "start_time": "2022-03-19T11:07:10.536Z"
   },
   {
    "duration": 5,
    "start_time": "2022-03-19T11:07:10.574Z"
   },
   {
    "duration": 12,
    "start_time": "2022-03-19T11:07:10.582Z"
   },
   {
    "duration": 5,
    "start_time": "2022-03-19T11:07:10.596Z"
   },
   {
    "duration": 19,
    "start_time": "2022-03-19T11:07:10.604Z"
   },
   {
    "duration": 61,
    "start_time": "2022-03-19T11:07:10.626Z"
   },
   {
    "duration": 9,
    "start_time": "2022-03-19T11:07:10.690Z"
   },
   {
    "duration": 10,
    "start_time": "2022-03-19T11:07:10.703Z"
   },
   {
    "duration": 87,
    "start_time": "2022-03-19T11:07:10.715Z"
   },
   {
    "duration": 12,
    "start_time": "2022-03-19T11:07:10.805Z"
   },
   {
    "duration": 431,
    "start_time": "2022-03-19T11:07:10.819Z"
   },
   {
    "duration": 397,
    "start_time": "2022-03-19T11:07:11.253Z"
   },
   {
    "duration": 21,
    "start_time": "2022-03-19T11:07:11.653Z"
   },
   {
    "duration": 438,
    "start_time": "2022-03-19T11:07:11.676Z"
   },
   {
    "duration": 8,
    "start_time": "2022-03-19T11:07:12.117Z"
   },
   {
    "duration": 14,
    "start_time": "2022-03-19T11:07:12.127Z"
   },
   {
    "duration": 11,
    "start_time": "2022-03-19T11:07:12.167Z"
   },
   {
    "duration": 9,
    "start_time": "2022-03-19T11:07:12.180Z"
   },
   {
    "duration": 9,
    "start_time": "2022-03-19T11:07:12.191Z"
   },
   {
    "duration": 12,
    "start_time": "2022-03-19T11:07:12.202Z"
   },
   {
    "duration": 57,
    "start_time": "2022-03-19T11:07:12.216Z"
   },
   {
    "duration": 7,
    "start_time": "2022-03-19T11:07:12.276Z"
   },
   {
    "duration": 11,
    "start_time": "2022-03-19T11:07:12.285Z"
   },
   {
    "duration": 8,
    "start_time": "2022-03-19T11:07:12.298Z"
   },
   {
    "duration": 12,
    "start_time": "2022-03-19T11:07:12.308Z"
   },
   {
    "duration": 56,
    "start_time": "2022-03-19T11:07:12.322Z"
   },
   {
    "duration": 4,
    "start_time": "2022-03-19T11:15:02.663Z"
   },
   {
    "duration": 975,
    "start_time": "2022-03-19T11:15:20.327Z"
   },
   {
    "duration": 22,
    "start_time": "2022-03-19T11:15:21.304Z"
   },
   {
    "duration": 114,
    "start_time": "2022-03-19T11:15:21.328Z"
   },
   {
    "duration": 5,
    "start_time": "2022-03-19T11:15:21.445Z"
   },
   {
    "duration": 14,
    "start_time": "2022-03-19T11:15:21.453Z"
   },
   {
    "duration": 9,
    "start_time": "2022-03-19T11:15:21.470Z"
   },
   {
    "duration": 6,
    "start_time": "2022-03-19T11:15:21.481Z"
   },
   {
    "duration": 12,
    "start_time": "2022-03-19T11:15:21.490Z"
   },
   {
    "duration": 9,
    "start_time": "2022-03-19T11:15:21.505Z"
   },
   {
    "duration": 17,
    "start_time": "2022-03-19T11:15:21.518Z"
   },
   {
    "duration": 25,
    "start_time": "2022-03-19T11:15:21.568Z"
   },
   {
    "duration": 9,
    "start_time": "2022-03-19T11:15:21.595Z"
   },
   {
    "duration": 11,
    "start_time": "2022-03-19T11:15:21.606Z"
   },
   {
    "duration": 93,
    "start_time": "2022-03-19T11:15:21.619Z"
   },
   {
    "duration": 10,
    "start_time": "2022-03-19T11:15:21.714Z"
   },
   {
    "duration": 431,
    "start_time": "2022-03-19T11:15:21.727Z"
   },
   {
    "duration": 366,
    "start_time": "2022-03-19T11:15:22.160Z"
   },
   {
    "duration": 12,
    "start_time": "2022-03-19T11:15:22.529Z"
   },
   {
    "duration": 448,
    "start_time": "2022-03-19T11:15:22.543Z"
   },
   {
    "duration": 8,
    "start_time": "2022-03-19T11:15:22.994Z"
   },
   {
    "duration": 11,
    "start_time": "2022-03-19T11:15:23.005Z"
   },
   {
    "duration": 10,
    "start_time": "2022-03-19T11:15:23.019Z"
   },
   {
    "duration": 8,
    "start_time": "2022-03-19T11:15:23.067Z"
   },
   {
    "duration": 9,
    "start_time": "2022-03-19T11:15:23.077Z"
   },
   {
    "duration": 15,
    "start_time": "2022-03-19T11:15:23.088Z"
   },
   {
    "duration": 12,
    "start_time": "2022-03-19T11:15:23.105Z"
   },
   {
    "duration": 48,
    "start_time": "2022-03-19T11:15:23.120Z"
   },
   {
    "duration": 13,
    "start_time": "2022-03-19T11:15:23.175Z"
   },
   {
    "duration": 9,
    "start_time": "2022-03-19T11:15:23.191Z"
   },
   {
    "duration": 14,
    "start_time": "2022-03-19T11:15:23.202Z"
   },
   {
    "duration": 61,
    "start_time": "2022-03-19T11:15:23.218Z"
   },
   {
    "duration": 972,
    "start_time": "2022-03-19T11:16:27.233Z"
   },
   {
    "duration": 21,
    "start_time": "2022-03-19T11:16:28.207Z"
   },
   {
    "duration": 110,
    "start_time": "2022-03-19T11:16:28.230Z"
   },
   {
    "duration": 4,
    "start_time": "2022-03-19T11:16:28.344Z"
   },
   {
    "duration": 17,
    "start_time": "2022-03-19T11:16:28.350Z"
   },
   {
    "duration": 7,
    "start_time": "2022-03-19T11:16:28.369Z"
   },
   {
    "duration": 20,
    "start_time": "2022-03-19T11:16:28.379Z"
   },
   {
    "duration": 10,
    "start_time": "2022-03-19T11:16:28.401Z"
   },
   {
    "duration": 7,
    "start_time": "2022-03-19T11:16:28.414Z"
   },
   {
    "duration": 63,
    "start_time": "2022-03-19T11:16:28.424Z"
   },
   {
    "duration": 30,
    "start_time": "2022-03-19T11:16:28.490Z"
   },
   {
    "duration": 9,
    "start_time": "2022-03-19T11:16:28.523Z"
   },
   {
    "duration": 40,
    "start_time": "2022-03-19T11:16:28.534Z"
   },
   {
    "duration": 54,
    "start_time": "2022-03-19T11:16:28.577Z"
   },
   {
    "duration": 42,
    "start_time": "2022-03-19T11:16:28.634Z"
   },
   {
    "duration": 419,
    "start_time": "2022-03-19T11:16:28.679Z"
   },
   {
    "duration": 387,
    "start_time": "2022-03-19T11:16:29.101Z"
   },
   {
    "duration": 12,
    "start_time": "2022-03-19T11:16:29.490Z"
   },
   {
    "duration": 474,
    "start_time": "2022-03-19T11:16:29.505Z"
   },
   {
    "duration": 9,
    "start_time": "2022-03-19T11:16:29.982Z"
   },
   {
    "duration": 12,
    "start_time": "2022-03-19T11:16:29.993Z"
   },
   {
    "duration": 13,
    "start_time": "2022-03-19T11:16:30.008Z"
   },
   {
    "duration": 45,
    "start_time": "2022-03-19T11:16:30.024Z"
   },
   {
    "duration": 10,
    "start_time": "2022-03-19T11:16:30.072Z"
   },
   {
    "duration": 19,
    "start_time": "2022-03-19T11:16:30.085Z"
   },
   {
    "duration": 14,
    "start_time": "2022-03-19T11:16:30.107Z"
   },
   {
    "duration": 49,
    "start_time": "2022-03-19T11:16:30.125Z"
   },
   {
    "duration": 12,
    "start_time": "2022-03-19T11:16:30.179Z"
   },
   {
    "duration": 7,
    "start_time": "2022-03-19T11:16:30.194Z"
   },
   {
    "duration": 18,
    "start_time": "2022-03-19T11:16:30.203Z"
   },
   {
    "duration": 52,
    "start_time": "2022-03-19T11:16:30.223Z"
   },
   {
    "duration": 100,
    "start_time": "2022-03-19T11:20:26.102Z"
   },
   {
    "duration": 17,
    "start_time": "2022-03-19T11:25:15.463Z"
   },
   {
    "duration": 121,
    "start_time": "2022-03-19T11:25:17.642Z"
   },
   {
    "duration": 5,
    "start_time": "2022-03-19T11:25:17.910Z"
   },
   {
    "duration": 956,
    "start_time": "2022-03-19T11:25:25.653Z"
   },
   {
    "duration": 23,
    "start_time": "2022-03-19T11:25:26.611Z"
   },
   {
    "duration": 113,
    "start_time": "2022-03-19T11:25:26.636Z"
   },
   {
    "duration": 5,
    "start_time": "2022-03-19T11:25:26.751Z"
   },
   {
    "duration": 6,
    "start_time": "2022-03-19T11:25:26.766Z"
   },
   {
    "duration": 8,
    "start_time": "2022-03-19T11:25:26.774Z"
   },
   {
    "duration": 21,
    "start_time": "2022-03-19T11:25:26.784Z"
   },
   {
    "duration": 10,
    "start_time": "2022-03-19T11:25:26.808Z"
   },
   {
    "duration": 148,
    "start_time": "2022-03-19T11:25:26.820Z"
   },
   {
    "duration": 0,
    "start_time": "2022-03-19T11:25:26.972Z"
   },
   {
    "duration": 0,
    "start_time": "2022-03-19T11:25:26.974Z"
   },
   {
    "duration": 0,
    "start_time": "2022-03-19T11:25:26.975Z"
   },
   {
    "duration": 0,
    "start_time": "2022-03-19T11:25:26.977Z"
   },
   {
    "duration": 0,
    "start_time": "2022-03-19T11:25:26.979Z"
   },
   {
    "duration": 0,
    "start_time": "2022-03-19T11:25:26.980Z"
   },
   {
    "duration": 0,
    "start_time": "2022-03-19T11:25:26.982Z"
   },
   {
    "duration": 0,
    "start_time": "2022-03-19T11:25:26.984Z"
   },
   {
    "duration": 0,
    "start_time": "2022-03-19T11:25:26.985Z"
   },
   {
    "duration": 0,
    "start_time": "2022-03-19T11:25:26.987Z"
   },
   {
    "duration": 0,
    "start_time": "2022-03-19T11:25:26.988Z"
   },
   {
    "duration": 0,
    "start_time": "2022-03-19T11:25:26.990Z"
   },
   {
    "duration": 0,
    "start_time": "2022-03-19T11:25:26.992Z"
   },
   {
    "duration": 0,
    "start_time": "2022-03-19T11:25:26.994Z"
   },
   {
    "duration": 0,
    "start_time": "2022-03-19T11:25:26.996Z"
   },
   {
    "duration": 0,
    "start_time": "2022-03-19T11:25:26.998Z"
   },
   {
    "duration": 0,
    "start_time": "2022-03-19T11:25:27.001Z"
   },
   {
    "duration": 0,
    "start_time": "2022-03-19T11:25:27.002Z"
   },
   {
    "duration": 0,
    "start_time": "2022-03-19T11:25:27.004Z"
   },
   {
    "duration": 0,
    "start_time": "2022-03-19T11:25:27.005Z"
   },
   {
    "duration": 0,
    "start_time": "2022-03-19T11:25:27.007Z"
   },
   {
    "duration": 0,
    "start_time": "2022-03-19T11:25:27.008Z"
   },
   {
    "duration": 0,
    "start_time": "2022-03-19T11:25:27.009Z"
   },
   {
    "duration": 6,
    "start_time": "2022-03-19T11:26:10.361Z"
   },
   {
    "duration": 21,
    "start_time": "2022-03-19T11:26:11.483Z"
   },
   {
    "duration": 6,
    "start_time": "2022-03-19T11:27:15.347Z"
   },
   {
    "duration": 21,
    "start_time": "2022-03-19T11:27:16.744Z"
   },
   {
    "duration": 16,
    "start_time": "2022-03-19T11:27:37.024Z"
   },
   {
    "duration": 7,
    "start_time": "2022-03-19T11:27:37.703Z"
   },
   {
    "duration": 5,
    "start_time": "2022-03-19T11:27:38.563Z"
   },
   {
    "duration": 19,
    "start_time": "2022-03-19T11:27:39.339Z"
   },
   {
    "duration": 962,
    "start_time": "2022-03-19T11:27:53.028Z"
   },
   {
    "duration": 21,
    "start_time": "2022-03-19T11:27:53.993Z"
   },
   {
    "duration": 115,
    "start_time": "2022-03-19T11:27:54.016Z"
   },
   {
    "duration": 5,
    "start_time": "2022-03-19T11:27:54.134Z"
   },
   {
    "duration": 7,
    "start_time": "2022-03-19T11:27:54.141Z"
   },
   {
    "duration": 7,
    "start_time": "2022-03-19T11:27:54.168Z"
   },
   {
    "duration": 8,
    "start_time": "2022-03-19T11:27:54.177Z"
   },
   {
    "duration": 20,
    "start_time": "2022-03-19T11:27:54.187Z"
   },
   {
    "duration": 10,
    "start_time": "2022-03-19T11:27:54.209Z"
   },
   {
    "duration": 7,
    "start_time": "2022-03-19T11:27:54.223Z"
   },
   {
    "duration": 37,
    "start_time": "2022-03-19T11:27:54.232Z"
   },
   {
    "duration": 23,
    "start_time": "2022-03-19T11:27:54.271Z"
   },
   {
    "duration": 21,
    "start_time": "2022-03-19T11:27:54.296Z"
   },
   {
    "duration": 7,
    "start_time": "2022-03-19T11:27:54.319Z"
   },
   {
    "duration": 40,
    "start_time": "2022-03-19T11:27:54.328Z"
   },
   {
    "duration": 53,
    "start_time": "2022-03-19T11:27:54.371Z"
   },
   {
    "duration": 10,
    "start_time": "2022-03-19T11:27:54.427Z"
   },
   {
    "duration": 402,
    "start_time": "2022-03-19T11:27:54.468Z"
   },
   {
    "duration": 375,
    "start_time": "2022-03-19T11:27:54.872Z"
   },
   {
    "duration": 23,
    "start_time": "2022-03-19T11:27:55.250Z"
   },
   {
    "duration": 433,
    "start_time": "2022-03-19T11:27:55.275Z"
   },
   {
    "duration": 7,
    "start_time": "2022-03-19T11:27:55.710Z"
   },
   {
    "duration": 11,
    "start_time": "2022-03-19T11:27:55.720Z"
   },
   {
    "duration": 36,
    "start_time": "2022-03-19T11:27:55.733Z"
   },
   {
    "duration": 7,
    "start_time": "2022-03-19T11:27:55.771Z"
   },
   {
    "duration": 9,
    "start_time": "2022-03-19T11:27:55.780Z"
   },
   {
    "duration": 13,
    "start_time": "2022-03-19T11:27:55.791Z"
   },
   {
    "duration": 11,
    "start_time": "2022-03-19T11:27:55.808Z"
   },
   {
    "duration": 51,
    "start_time": "2022-03-19T11:27:55.821Z"
   },
   {
    "duration": 11,
    "start_time": "2022-03-19T11:27:55.876Z"
   },
   {
    "duration": 8,
    "start_time": "2022-03-19T11:27:55.888Z"
   },
   {
    "duration": 12,
    "start_time": "2022-03-19T11:27:55.899Z"
   },
   {
    "duration": 56,
    "start_time": "2022-03-19T11:27:55.914Z"
   },
   {
    "duration": 6,
    "start_time": "2022-03-19T11:31:49.369Z"
   },
   {
    "duration": 36,
    "start_time": "2022-03-19T11:31:49.940Z"
   },
   {
    "duration": 975,
    "start_time": "2022-03-19T11:31:54.940Z"
   },
   {
    "duration": 22,
    "start_time": "2022-03-19T11:31:55.918Z"
   },
   {
    "duration": 125,
    "start_time": "2022-03-19T11:31:55.942Z"
   },
   {
    "duration": 5,
    "start_time": "2022-03-19T11:31:56.071Z"
   },
   {
    "duration": 5,
    "start_time": "2022-03-19T11:31:56.078Z"
   },
   {
    "duration": 7,
    "start_time": "2022-03-19T11:31:56.086Z"
   },
   {
    "duration": 7,
    "start_time": "2022-03-19T11:31:56.095Z"
   },
   {
    "duration": 75,
    "start_time": "2022-03-19T11:31:56.104Z"
   },
   {
    "duration": 12,
    "start_time": "2022-03-19T11:31:56.181Z"
   },
   {
    "duration": 6,
    "start_time": "2022-03-19T11:31:56.197Z"
   },
   {
    "duration": 7,
    "start_time": "2022-03-19T11:31:56.205Z"
   },
   {
    "duration": 54,
    "start_time": "2022-03-19T11:31:56.214Z"
   },
   {
    "duration": 26,
    "start_time": "2022-03-19T11:31:56.270Z"
   },
   {
    "duration": 8,
    "start_time": "2022-03-19T11:31:56.299Z"
   },
   {
    "duration": 8,
    "start_time": "2022-03-19T11:31:56.310Z"
   },
   {
    "duration": 92,
    "start_time": "2022-03-19T11:31:56.321Z"
   },
   {
    "duration": 13,
    "start_time": "2022-03-19T11:31:56.415Z"
   },
   {
    "duration": 431,
    "start_time": "2022-03-19T11:31:56.430Z"
   },
   {
    "duration": 388,
    "start_time": "2022-03-19T11:31:56.863Z"
   },
   {
    "duration": 20,
    "start_time": "2022-03-19T11:31:57.254Z"
   },
   {
    "duration": 446,
    "start_time": "2022-03-19T11:31:57.276Z"
   },
   {
    "duration": 8,
    "start_time": "2022-03-19T11:31:57.725Z"
   },
   {
    "duration": 12,
    "start_time": "2022-03-19T11:31:57.735Z"
   },
   {
    "duration": 11,
    "start_time": "2022-03-19T11:31:57.768Z"
   },
   {
    "duration": 7,
    "start_time": "2022-03-19T11:31:57.781Z"
   },
   {
    "duration": 8,
    "start_time": "2022-03-19T11:31:57.790Z"
   },
   {
    "duration": 16,
    "start_time": "2022-03-19T11:31:57.801Z"
   },
   {
    "duration": 53,
    "start_time": "2022-03-19T11:31:57.822Z"
   },
   {
    "duration": 9,
    "start_time": "2022-03-19T11:31:57.877Z"
   },
   {
    "duration": 13,
    "start_time": "2022-03-19T11:31:57.888Z"
   },
   {
    "duration": 7,
    "start_time": "2022-03-19T11:31:57.903Z"
   },
   {
    "duration": 17,
    "start_time": "2022-03-19T11:31:57.912Z"
   },
   {
    "duration": 13,
    "start_time": "2022-03-19T11:31:57.968Z"
   },
   {
    "duration": 926,
    "start_time": "2022-03-19T11:33:03.004Z"
   },
   {
    "duration": 23,
    "start_time": "2022-03-19T11:33:03.933Z"
   },
   {
    "duration": 107,
    "start_time": "2022-03-19T11:33:03.968Z"
   },
   {
    "duration": 5,
    "start_time": "2022-03-19T11:33:04.077Z"
   },
   {
    "duration": 5,
    "start_time": "2022-03-19T11:33:04.085Z"
   },
   {
    "duration": 7,
    "start_time": "2022-03-19T11:33:04.092Z"
   },
   {
    "duration": 6,
    "start_time": "2022-03-19T11:33:04.101Z"
   },
   {
    "duration": 18,
    "start_time": "2022-03-19T11:33:04.109Z"
   },
   {
    "duration": 42,
    "start_time": "2022-03-19T11:33:04.129Z"
   },
   {
    "duration": 7,
    "start_time": "2022-03-19T11:33:04.173Z"
   },
   {
    "duration": 41,
    "start_time": "2022-03-19T11:33:04.182Z"
   },
   {
    "duration": 53,
    "start_time": "2022-03-19T11:33:04.226Z"
   },
   {
    "duration": 27,
    "start_time": "2022-03-19T11:33:04.281Z"
   },
   {
    "duration": 9,
    "start_time": "2022-03-19T11:33:04.312Z"
   },
   {
    "duration": 47,
    "start_time": "2022-03-19T11:33:04.322Z"
   },
   {
    "duration": 56,
    "start_time": "2022-03-19T11:33:04.371Z"
   },
   {
    "duration": 11,
    "start_time": "2022-03-19T11:33:04.429Z"
   },
   {
    "duration": 451,
    "start_time": "2022-03-19T11:33:04.442Z"
   },
   {
    "duration": 389,
    "start_time": "2022-03-19T11:33:04.895Z"
   },
   {
    "duration": 12,
    "start_time": "2022-03-19T11:33:05.286Z"
   },
   {
    "duration": 480,
    "start_time": "2022-03-19T11:33:05.301Z"
   },
   {
    "duration": 7,
    "start_time": "2022-03-19T11:33:05.784Z"
   },
   {
    "duration": 16,
    "start_time": "2022-03-19T11:33:05.794Z"
   },
   {
    "duration": 11,
    "start_time": "2022-03-19T11:33:05.812Z"
   },
   {
    "duration": 43,
    "start_time": "2022-03-19T11:33:05.825Z"
   },
   {
    "duration": 9,
    "start_time": "2022-03-19T11:33:05.870Z"
   },
   {
    "duration": 16,
    "start_time": "2022-03-19T11:33:05.881Z"
   },
   {
    "duration": 12,
    "start_time": "2022-03-19T11:33:05.899Z"
   },
   {
    "duration": 8,
    "start_time": "2022-03-19T11:33:05.914Z"
   },
   {
    "duration": 54,
    "start_time": "2022-03-19T11:33:05.924Z"
   },
   {
    "duration": 8,
    "start_time": "2022-03-19T11:33:05.980Z"
   },
   {
    "duration": 28,
    "start_time": "2022-03-19T11:33:05.990Z"
   },
   {
    "duration": 12,
    "start_time": "2022-03-19T11:33:06.020Z"
   },
   {
    "duration": 928,
    "start_time": "2022-03-19T11:35:48.676Z"
   },
   {
    "duration": 23,
    "start_time": "2022-03-19T11:35:49.606Z"
   },
   {
    "duration": 112,
    "start_time": "2022-03-19T11:35:49.631Z"
   },
   {
    "duration": 5,
    "start_time": "2022-03-19T11:35:49.747Z"
   },
   {
    "duration": 14,
    "start_time": "2022-03-19T11:35:49.754Z"
   },
   {
    "duration": 11,
    "start_time": "2022-03-19T11:35:49.770Z"
   },
   {
    "duration": 6,
    "start_time": "2022-03-19T11:35:49.783Z"
   },
   {
    "duration": 10,
    "start_time": "2022-03-19T11:35:49.791Z"
   },
   {
    "duration": 7,
    "start_time": "2022-03-19T11:35:49.803Z"
   },
   {
    "duration": 51,
    "start_time": "2022-03-19T11:35:49.816Z"
   },
   {
    "duration": 40,
    "start_time": "2022-03-19T11:35:49.869Z"
   },
   {
    "duration": 21,
    "start_time": "2022-03-19T11:35:49.911Z"
   },
   {
    "duration": 48,
    "start_time": "2022-03-19T11:35:49.934Z"
   },
   {
    "duration": 7,
    "start_time": "2022-03-19T11:35:49.985Z"
   },
   {
    "duration": 10,
    "start_time": "2022-03-19T11:35:49.994Z"
   },
   {
    "duration": 82,
    "start_time": "2022-03-19T11:35:50.007Z"
   },
   {
    "duration": 13,
    "start_time": "2022-03-19T11:35:50.092Z"
   },
   {
    "duration": 462,
    "start_time": "2022-03-19T11:35:50.108Z"
   },
   {
    "duration": 401,
    "start_time": "2022-03-19T11:35:50.572Z"
   },
   {
    "duration": 12,
    "start_time": "2022-03-19T11:35:50.975Z"
   },
   {
    "duration": 448,
    "start_time": "2022-03-19T11:35:50.990Z"
   },
   {
    "duration": 9,
    "start_time": "2022-03-19T11:35:51.441Z"
   },
   {
    "duration": 20,
    "start_time": "2022-03-19T11:35:51.468Z"
   },
   {
    "duration": 15,
    "start_time": "2022-03-19T11:35:51.490Z"
   },
   {
    "duration": 22,
    "start_time": "2022-03-19T11:35:51.507Z"
   },
   {
    "duration": 20,
    "start_time": "2022-03-19T11:35:51.532Z"
   },
   {
    "duration": 24,
    "start_time": "2022-03-19T11:35:51.554Z"
   },
   {
    "duration": 12,
    "start_time": "2022-03-19T11:35:51.583Z"
   },
   {
    "duration": 8,
    "start_time": "2022-03-19T11:35:51.598Z"
   },
   {
    "duration": 18,
    "start_time": "2022-03-19T11:35:51.608Z"
   },
   {
    "duration": 7,
    "start_time": "2022-03-19T11:35:51.629Z"
   },
   {
    "duration": 35,
    "start_time": "2022-03-19T11:35:51.638Z"
   },
   {
    "duration": 16,
    "start_time": "2022-03-19T11:35:51.676Z"
   },
   {
    "duration": 35,
    "start_time": "2022-03-19T11:41:10.970Z"
   },
   {
    "duration": 117,
    "start_time": "2022-03-19T11:42:31.888Z"
   },
   {
    "duration": 912,
    "start_time": "2022-03-19T11:42:41.384Z"
   },
   {
    "duration": 23,
    "start_time": "2022-03-19T11:42:42.298Z"
   },
   {
    "duration": 116,
    "start_time": "2022-03-19T11:42:42.324Z"
   },
   {
    "duration": 5,
    "start_time": "2022-03-19T11:42:42.443Z"
   },
   {
    "duration": 19,
    "start_time": "2022-03-19T11:42:42.451Z"
   },
   {
    "duration": 18,
    "start_time": "2022-03-19T11:42:42.472Z"
   },
   {
    "duration": 11,
    "start_time": "2022-03-19T11:42:42.493Z"
   },
   {
    "duration": 12,
    "start_time": "2022-03-19T11:42:42.506Z"
   },
   {
    "duration": 13,
    "start_time": "2022-03-19T11:42:42.520Z"
   },
   {
    "duration": 10,
    "start_time": "2022-03-19T11:42:42.535Z"
   },
   {
    "duration": 51,
    "start_time": "2022-03-19T11:42:42.547Z"
   },
   {
    "duration": 21,
    "start_time": "2022-03-19T11:42:42.600Z"
   },
   {
    "duration": 50,
    "start_time": "2022-03-19T11:42:42.624Z"
   },
   {
    "duration": 417,
    "start_time": "2022-03-19T11:42:42.678Z"
   },
   {
    "duration": 117,
    "start_time": "2022-03-19T11:42:43.097Z"
   },
   {
    "duration": 12,
    "start_time": "2022-03-19T11:42:59.382Z"
   },
   {
    "duration": 18,
    "start_time": "2022-03-19T11:43:25.039Z"
   },
   {
    "duration": 34,
    "start_time": "2022-03-19T11:43:41.999Z"
   },
   {
    "duration": 24,
    "start_time": "2022-03-19T11:43:56.080Z"
   },
   {
    "duration": 28,
    "start_time": "2022-03-19T11:44:25.620Z"
   },
   {
    "duration": 28,
    "start_time": "2022-03-19T11:44:34.127Z"
   },
   {
    "duration": 25,
    "start_time": "2022-03-19T11:44:51.071Z"
   },
   {
    "duration": 29,
    "start_time": "2022-03-19T11:45:16.486Z"
   },
   {
    "duration": 29,
    "start_time": "2022-03-19T11:45:29.581Z"
   },
   {
    "duration": 28,
    "start_time": "2022-03-19T11:45:44.942Z"
   },
   {
    "duration": 45,
    "start_time": "2022-03-19T11:45:52.964Z"
   },
   {
    "duration": 47,
    "start_time": "2022-03-19T11:45:59.520Z"
   },
   {
    "duration": 54,
    "start_time": "2022-03-19T11:46:15.111Z"
   },
   {
    "duration": 956,
    "start_time": "2022-03-19T11:50:38.140Z"
   },
   {
    "duration": 22,
    "start_time": "2022-03-19T11:50:39.098Z"
   },
   {
    "duration": 118,
    "start_time": "2022-03-19T11:50:39.122Z"
   },
   {
    "duration": 5,
    "start_time": "2022-03-19T11:50:39.243Z"
   },
   {
    "duration": 22,
    "start_time": "2022-03-19T11:50:39.251Z"
   },
   {
    "duration": 10,
    "start_time": "2022-03-19T11:50:39.275Z"
   },
   {
    "duration": 7,
    "start_time": "2022-03-19T11:50:39.287Z"
   },
   {
    "duration": 17,
    "start_time": "2022-03-19T11:50:39.296Z"
   },
   {
    "duration": 8,
    "start_time": "2022-03-19T11:50:39.315Z"
   },
   {
    "duration": 9,
    "start_time": "2022-03-19T11:50:39.325Z"
   },
   {
    "duration": 61,
    "start_time": "2022-03-19T11:50:39.336Z"
   },
   {
    "duration": 19,
    "start_time": "2022-03-19T11:50:39.399Z"
   },
   {
    "duration": 24,
    "start_time": "2022-03-19T11:50:39.420Z"
   },
   {
    "duration": 401,
    "start_time": "2022-03-19T11:50:39.468Z"
   },
   {
    "duration": 982,
    "start_time": "2022-03-19T11:56:14.491Z"
   },
   {
    "duration": 23,
    "start_time": "2022-03-19T11:56:15.476Z"
   },
   {
    "duration": 114,
    "start_time": "2022-03-19T11:56:15.502Z"
   },
   {
    "duration": 5,
    "start_time": "2022-03-19T11:56:15.621Z"
   },
   {
    "duration": 9,
    "start_time": "2022-03-19T11:56:15.628Z"
   },
   {
    "duration": 31,
    "start_time": "2022-03-19T11:56:15.639Z"
   },
   {
    "duration": 4,
    "start_time": "2022-03-19T11:56:15.673Z"
   },
   {
    "duration": 19,
    "start_time": "2022-03-19T11:56:15.679Z"
   },
   {
    "duration": 10,
    "start_time": "2022-03-19T11:56:15.700Z"
   },
   {
    "duration": 11,
    "start_time": "2022-03-19T11:56:15.713Z"
   },
   {
    "duration": 52,
    "start_time": "2022-03-19T11:56:15.726Z"
   },
   {
    "duration": 20,
    "start_time": "2022-03-19T11:56:15.780Z"
   },
   {
    "duration": 25,
    "start_time": "2022-03-19T11:56:15.802Z"
   },
   {
    "duration": 446,
    "start_time": "2022-03-19T11:56:15.829Z"
   },
   {
    "duration": 5,
    "start_time": "2022-03-19T12:09:27.867Z"
   },
   {
    "duration": 8,
    "start_time": "2022-03-19T12:09:35.078Z"
   },
   {
    "duration": 8,
    "start_time": "2022-03-19T12:15:36.499Z"
   },
   {
    "duration": 8,
    "start_time": "2022-03-19T12:15:36.892Z"
   },
   {
    "duration": 8,
    "start_time": "2022-03-19T12:15:37.302Z"
   },
   {
    "duration": 37,
    "start_time": "2022-03-19T12:16:07.563Z"
   },
   {
    "duration": 7,
    "start_time": "2022-03-19T12:18:32.000Z"
   },
   {
    "duration": 7,
    "start_time": "2022-03-19T12:18:32.988Z"
   },
   {
    "duration": 7,
    "start_time": "2022-03-19T12:18:33.319Z"
   },
   {
    "duration": 35,
    "start_time": "2022-03-19T12:18:33.759Z"
   },
   {
    "duration": 952,
    "start_time": "2022-03-19T12:18:43.784Z"
   },
   {
    "duration": 38,
    "start_time": "2022-03-19T12:18:44.739Z"
   },
   {
    "duration": 118,
    "start_time": "2022-03-19T12:18:44.780Z"
   },
   {
    "duration": 4,
    "start_time": "2022-03-19T12:18:44.901Z"
   },
   {
    "duration": 5,
    "start_time": "2022-03-19T12:18:44.910Z"
   },
   {
    "duration": 10,
    "start_time": "2022-03-19T12:18:44.918Z"
   },
   {
    "duration": 37,
    "start_time": "2022-03-19T12:18:44.931Z"
   },
   {
    "duration": 10,
    "start_time": "2022-03-19T12:18:44.970Z"
   },
   {
    "duration": 5,
    "start_time": "2022-03-19T12:18:44.982Z"
   },
   {
    "duration": 8,
    "start_time": "2022-03-19T12:18:44.989Z"
   },
   {
    "duration": 69,
    "start_time": "2022-03-19T12:18:45.000Z"
   },
   {
    "duration": 20,
    "start_time": "2022-03-19T12:18:45.072Z"
   },
   {
    "duration": 8,
    "start_time": "2022-03-19T12:18:45.094Z"
   },
   {
    "duration": 8,
    "start_time": "2022-03-19T12:18:45.106Z"
   },
   {
    "duration": 6,
    "start_time": "2022-03-19T12:18:45.116Z"
   },
   {
    "duration": 46,
    "start_time": "2022-03-19T12:18:45.125Z"
   },
   {
    "duration": 44,
    "start_time": "2022-03-19T12:18:45.173Z"
   },
   {
    "duration": 48,
    "start_time": "2022-03-19T12:18:45.219Z"
   },
   {
    "duration": 424,
    "start_time": "2022-03-19T12:18:45.269Z"
   },
   {
    "duration": 104,
    "start_time": "2022-03-19T12:22:00.029Z"
   },
   {
    "duration": 16,
    "start_time": "2022-03-19T12:22:04.844Z"
   },
   {
    "duration": 7,
    "start_time": "2022-03-19T12:22:11.241Z"
   },
   {
    "duration": 977,
    "start_time": "2022-03-19T12:22:15.744Z"
   },
   {
    "duration": 24,
    "start_time": "2022-03-19T12:22:16.725Z"
   },
   {
    "duration": 122,
    "start_time": "2022-03-19T12:22:16.752Z"
   },
   {
    "duration": 5,
    "start_time": "2022-03-19T12:22:16.878Z"
   },
   {
    "duration": 7,
    "start_time": "2022-03-19T12:22:16.886Z"
   },
   {
    "duration": 9,
    "start_time": "2022-03-19T12:22:16.895Z"
   },
   {
    "duration": 6,
    "start_time": "2022-03-19T12:22:16.906Z"
   },
   {
    "duration": 55,
    "start_time": "2022-03-19T12:22:16.914Z"
   },
   {
    "duration": 5,
    "start_time": "2022-03-19T12:22:16.972Z"
   },
   {
    "duration": 15,
    "start_time": "2022-03-19T12:22:16.981Z"
   },
   {
    "duration": 41,
    "start_time": "2022-03-19T12:22:16.999Z"
   },
   {
    "duration": 35,
    "start_time": "2022-03-19T12:22:17.042Z"
   },
   {
    "duration": 9,
    "start_time": "2022-03-19T12:22:17.079Z"
   },
   {
    "duration": 7,
    "start_time": "2022-03-19T12:22:17.090Z"
   },
   {
    "duration": 12,
    "start_time": "2022-03-19T12:22:17.099Z"
   },
   {
    "duration": 10,
    "start_time": "2022-03-19T12:22:17.113Z"
   },
   {
    "duration": 69,
    "start_time": "2022-03-19T12:22:17.125Z"
   },
   {
    "duration": 25,
    "start_time": "2022-03-19T12:22:17.196Z"
   },
   {
    "duration": 443,
    "start_time": "2022-03-19T12:22:17.224Z"
   },
   {
    "duration": 97,
    "start_time": "2022-03-19T12:30:12.492Z"
   },
   {
    "duration": 8,
    "start_time": "2022-03-19T12:31:15.103Z"
   },
   {
    "duration": 37,
    "start_time": "2022-03-19T12:31:20.146Z"
   },
   {
    "duration": 8,
    "start_time": "2022-03-19T12:32:43.571Z"
   },
   {
    "duration": 36,
    "start_time": "2022-03-19T12:32:44.064Z"
   },
   {
    "duration": 9,
    "start_time": "2022-03-19T12:33:04.505Z"
   },
   {
    "duration": 10,
    "start_time": "2022-03-19T12:33:18.263Z"
   },
   {
    "duration": 11,
    "start_time": "2022-03-19T12:34:11.906Z"
   },
   {
    "duration": 35,
    "start_time": "2022-03-19T12:34:12.306Z"
   },
   {
    "duration": 43,
    "start_time": "2022-03-19T12:34:19.227Z"
   },
   {
    "duration": 45,
    "start_time": "2022-03-19T12:34:25.483Z"
   },
   {
    "duration": 35,
    "start_time": "2022-03-19T12:34:34.464Z"
   },
   {
    "duration": 1011,
    "start_time": "2022-03-19T12:43:59.143Z"
   },
   {
    "duration": 28,
    "start_time": "2022-03-19T12:44:00.156Z"
   },
   {
    "duration": 123,
    "start_time": "2022-03-19T12:44:00.186Z"
   },
   {
    "duration": 7,
    "start_time": "2022-03-19T12:44:00.312Z"
   },
   {
    "duration": 9,
    "start_time": "2022-03-19T12:44:00.323Z"
   },
   {
    "duration": 23,
    "start_time": "2022-03-19T12:44:00.334Z"
   },
   {
    "duration": 6,
    "start_time": "2022-03-19T12:44:00.368Z"
   },
   {
    "duration": 21,
    "start_time": "2022-03-19T12:44:00.377Z"
   },
   {
    "duration": 12,
    "start_time": "2022-03-19T12:44:00.401Z"
   },
   {
    "duration": 10,
    "start_time": "2022-03-19T12:44:00.416Z"
   },
   {
    "duration": 62,
    "start_time": "2022-03-19T12:44:00.429Z"
   },
   {
    "duration": 24,
    "start_time": "2022-03-19T12:44:00.494Z"
   },
   {
    "duration": 9,
    "start_time": "2022-03-19T12:44:00.521Z"
   },
   {
    "duration": 37,
    "start_time": "2022-03-19T12:44:00.533Z"
   },
   {
    "duration": 7,
    "start_time": "2022-03-19T12:44:00.573Z"
   },
   {
    "duration": 10,
    "start_time": "2022-03-19T12:44:00.583Z"
   },
   {
    "duration": 12,
    "start_time": "2022-03-19T12:44:00.596Z"
   },
   {
    "duration": 5,
    "start_time": "2022-03-19T12:44:00.611Z"
   },
   {
    "duration": 10,
    "start_time": "2022-03-19T12:44:00.618Z"
   },
   {
    "duration": 38,
    "start_time": "2022-03-19T12:44:00.667Z"
   },
   {
    "duration": 29,
    "start_time": "2022-03-19T12:44:00.708Z"
   },
   {
    "duration": 486,
    "start_time": "2022-03-19T12:44:00.740Z"
   },
   {
    "duration": 28,
    "start_time": "2022-03-19T12:44:38.563Z"
   },
   {
    "duration": 223,
    "start_time": "2022-03-19T13:04:20.885Z"
   },
   {
    "duration": 192,
    "start_time": "2022-03-19T13:04:41.767Z"
   },
   {
    "duration": 12,
    "start_time": "2022-03-19T13:04:56.613Z"
   },
   {
    "duration": 271,
    "start_time": "2022-03-19T13:05:22.787Z"
   },
   {
    "duration": 236,
    "start_time": "2022-03-19T13:06:13.473Z"
   },
   {
    "duration": 218,
    "start_time": "2022-03-19T13:06:19.063Z"
   },
   {
    "duration": 188,
    "start_time": "2022-03-19T13:06:38.825Z"
   },
   {
    "duration": 219,
    "start_time": "2022-03-19T13:06:44.525Z"
   },
   {
    "duration": 189,
    "start_time": "2022-03-19T13:06:52.023Z"
   },
   {
    "duration": 201,
    "start_time": "2022-03-19T13:07:00.949Z"
   },
   {
    "duration": 211,
    "start_time": "2022-03-19T13:07:05.945Z"
   },
   {
    "duration": 217,
    "start_time": "2022-03-19T13:07:29.068Z"
   },
   {
    "duration": 211,
    "start_time": "2022-03-19T13:07:32.685Z"
   },
   {
    "duration": 230,
    "start_time": "2022-03-19T13:07:37.584Z"
   },
   {
    "duration": 349,
    "start_time": "2022-03-19T13:07:44.104Z"
   },
   {
    "duration": 285,
    "start_time": "2022-03-19T13:07:49.553Z"
   },
   {
    "duration": 286,
    "start_time": "2022-03-19T13:07:53.543Z"
   },
   {
    "duration": 327,
    "start_time": "2022-03-19T13:08:04.503Z"
   },
   {
    "duration": 319,
    "start_time": "2022-03-19T13:08:14.826Z"
   },
   {
    "duration": 14,
    "start_time": "2022-03-19T13:08:19.324Z"
   },
   {
    "duration": 296,
    "start_time": "2022-03-19T13:08:37.964Z"
   },
   {
    "duration": 331,
    "start_time": "2022-03-19T13:08:44.505Z"
   },
   {
    "duration": 410,
    "start_time": "2022-03-19T13:08:50.722Z"
   },
   {
    "duration": 314,
    "start_time": "2022-03-19T13:08:59.786Z"
   },
   {
    "duration": 320,
    "start_time": "2022-03-19T13:09:04.166Z"
   },
   {
    "duration": 328,
    "start_time": "2022-03-19T13:09:21.417Z"
   },
   {
    "duration": 278,
    "start_time": "2022-03-19T13:09:26.753Z"
   },
   {
    "duration": 267,
    "start_time": "2022-03-19T13:09:30.444Z"
   },
   {
    "duration": 314,
    "start_time": "2022-03-19T13:09:40.163Z"
   },
   {
    "duration": 94,
    "start_time": "2022-03-19T13:10:26.365Z"
   },
   {
    "duration": 12,
    "start_time": "2022-03-19T13:10:40.303Z"
   },
   {
    "duration": 401,
    "start_time": "2022-03-19T13:10:40.923Z"
   },
   {
    "duration": 13,
    "start_time": "2022-03-19T13:11:21.644Z"
   },
   {
    "duration": 282,
    "start_time": "2022-03-19T13:11:39.564Z"
   },
   {
    "duration": 315,
    "start_time": "2022-03-19T13:11:48.203Z"
   },
   {
    "duration": 213,
    "start_time": "2022-03-19T13:12:08.843Z"
   },
   {
    "duration": 219,
    "start_time": "2022-03-19T13:12:38.562Z"
   },
   {
    "duration": 240,
    "start_time": "2022-03-19T13:12:45.964Z"
   },
   {
    "duration": 222,
    "start_time": "2022-03-19T13:13:01.188Z"
   },
   {
    "duration": 326,
    "start_time": "2022-03-19T13:13:07.044Z"
   },
   {
    "duration": 199,
    "start_time": "2022-03-19T13:13:29.243Z"
   },
   {
    "duration": 223,
    "start_time": "2022-03-19T13:13:38.424Z"
   },
   {
    "duration": 337,
    "start_time": "2022-03-19T13:13:50.081Z"
   },
   {
    "duration": 298,
    "start_time": "2022-03-19T13:14:08.863Z"
   },
   {
    "duration": 16,
    "start_time": "2022-03-19T13:15:52.904Z"
   },
   {
    "duration": 378,
    "start_time": "2022-03-19T13:16:27.343Z"
   },
   {
    "duration": 231,
    "start_time": "2022-03-19T13:16:58.663Z"
   },
   {
    "duration": 211,
    "start_time": "2022-03-19T13:17:08.004Z"
   },
   {
    "duration": 208,
    "start_time": "2022-03-19T13:17:12.783Z"
   },
   {
    "duration": 231,
    "start_time": "2022-03-19T13:17:17.260Z"
   },
   {
    "duration": 250,
    "start_time": "2022-03-19T13:17:57.353Z"
   },
   {
    "duration": 243,
    "start_time": "2022-03-19T13:18:05.663Z"
   },
   {
    "duration": 205,
    "start_time": "2022-03-19T13:18:11.684Z"
   },
   {
    "duration": 11,
    "start_time": "2022-03-19T13:20:51.502Z"
   },
   {
    "duration": 215,
    "start_time": "2022-03-19T13:21:05.754Z"
   },
   {
    "duration": 209,
    "start_time": "2022-03-19T13:21:26.013Z"
   },
   {
    "duration": 213,
    "start_time": "2022-03-19T13:21:34.611Z"
   },
   {
    "duration": 349,
    "start_time": "2022-03-19T13:21:55.518Z"
   },
   {
    "duration": 370,
    "start_time": "2022-03-19T13:22:01.662Z"
   },
   {
    "duration": 394,
    "start_time": "2022-03-19T13:22:08.651Z"
   },
   {
    "duration": 408,
    "start_time": "2022-03-19T13:22:18.485Z"
   },
   {
    "duration": 9,
    "start_time": "2022-03-19T13:22:37.683Z"
   },
   {
    "duration": 9,
    "start_time": "2022-03-19T13:22:50.953Z"
   },
   {
    "duration": 1079,
    "start_time": "2022-03-19T13:23:32.273Z"
   },
   {
    "duration": 26,
    "start_time": "2022-03-19T13:23:33.355Z"
   },
   {
    "duration": 118,
    "start_time": "2022-03-19T13:23:33.384Z"
   },
   {
    "duration": 5,
    "start_time": "2022-03-19T13:23:33.505Z"
   },
   {
    "duration": 11,
    "start_time": "2022-03-19T13:23:33.513Z"
   },
   {
    "duration": 13,
    "start_time": "2022-03-19T13:23:33.526Z"
   },
   {
    "duration": 44,
    "start_time": "2022-03-19T13:23:33.541Z"
   },
   {
    "duration": 9,
    "start_time": "2022-03-19T13:23:33.587Z"
   },
   {
    "duration": 10,
    "start_time": "2022-03-19T13:23:33.598Z"
   },
   {
    "duration": 42,
    "start_time": "2022-03-19T13:23:33.612Z"
   },
   {
    "duration": 28,
    "start_time": "2022-03-19T13:23:33.656Z"
   },
   {
    "duration": 9,
    "start_time": "2022-03-19T13:23:33.686Z"
   },
   {
    "duration": 9,
    "start_time": "2022-03-19T13:23:33.697Z"
   },
   {
    "duration": 9,
    "start_time": "2022-03-19T13:23:33.708Z"
   },
   {
    "duration": 49,
    "start_time": "2022-03-19T13:23:33.720Z"
   },
   {
    "duration": 15,
    "start_time": "2022-03-19T13:23:33.772Z"
   },
   {
    "duration": 6,
    "start_time": "2022-03-19T13:23:33.789Z"
   },
   {
    "duration": 9,
    "start_time": "2022-03-19T13:23:33.798Z"
   },
   {
    "duration": 70,
    "start_time": "2022-03-19T13:23:33.809Z"
   },
   {
    "duration": 12,
    "start_time": "2022-03-19T13:23:33.881Z"
   },
   {
    "duration": 355,
    "start_time": "2022-03-19T13:23:33.895Z"
   },
   {
    "duration": 20,
    "start_time": "2022-03-19T13:23:34.253Z"
   },
   {
    "duration": 363,
    "start_time": "2022-03-19T13:23:34.276Z"
   },
   {
    "duration": 27,
    "start_time": "2022-03-19T13:23:34.641Z"
   },
   {
    "duration": 411,
    "start_time": "2022-03-19T13:23:34.671Z"
   },
   {
    "duration": 14,
    "start_time": "2022-03-19T13:23:35.085Z"
   },
   {
    "duration": 449,
    "start_time": "2022-03-19T13:23:35.101Z"
   },
   {
    "duration": 23,
    "start_time": "2022-03-19T13:23:35.556Z"
   },
   {
    "duration": 31,
    "start_time": "2022-03-19T13:23:35.582Z"
   },
   {
    "duration": 440,
    "start_time": "2022-03-19T13:23:35.615Z"
   },
   {
    "duration": 1072,
    "start_time": "2022-03-19T13:24:06.032Z"
   },
   {
    "duration": 23,
    "start_time": "2022-03-19T13:24:07.108Z"
   },
   {
    "duration": 120,
    "start_time": "2022-03-19T13:24:07.134Z"
   },
   {
    "duration": 13,
    "start_time": "2022-03-19T13:24:07.256Z"
   },
   {
    "duration": 6,
    "start_time": "2022-03-19T13:24:07.272Z"
   },
   {
    "duration": 8,
    "start_time": "2022-03-19T13:24:07.280Z"
   },
   {
    "duration": 6,
    "start_time": "2022-03-19T13:24:07.291Z"
   },
   {
    "duration": 11,
    "start_time": "2022-03-19T13:24:07.299Z"
   },
   {
    "duration": 9,
    "start_time": "2022-03-19T13:24:07.312Z"
   },
   {
    "duration": 45,
    "start_time": "2022-03-19T13:24:07.323Z"
   },
   {
    "duration": 47,
    "start_time": "2022-03-19T13:24:07.371Z"
   },
   {
    "duration": 57,
    "start_time": "2022-03-19T13:24:07.420Z"
   },
   {
    "duration": 8,
    "start_time": "2022-03-19T13:24:07.479Z"
   },
   {
    "duration": 8,
    "start_time": "2022-03-19T13:24:07.493Z"
   },
   {
    "duration": 8,
    "start_time": "2022-03-19T13:24:07.504Z"
   },
   {
    "duration": 8,
    "start_time": "2022-03-19T13:24:07.514Z"
   },
   {
    "duration": 48,
    "start_time": "2022-03-19T13:24:07.524Z"
   },
   {
    "duration": 6,
    "start_time": "2022-03-19T13:24:07.574Z"
   },
   {
    "duration": 7,
    "start_time": "2022-03-19T13:24:07.582Z"
   },
   {
    "duration": 37,
    "start_time": "2022-03-19T13:24:07.591Z"
   },
   {
    "duration": 46,
    "start_time": "2022-03-19T13:24:07.630Z"
   },
   {
    "duration": 343,
    "start_time": "2022-03-19T13:24:07.679Z"
   },
   {
    "duration": 13,
    "start_time": "2022-03-19T13:24:08.025Z"
   },
   {
    "duration": 320,
    "start_time": "2022-03-19T13:24:08.040Z"
   },
   {
    "duration": 15,
    "start_time": "2022-03-19T13:24:08.362Z"
   },
   {
    "duration": 299,
    "start_time": "2022-03-19T13:24:08.379Z"
   },
   {
    "duration": 12,
    "start_time": "2022-03-19T13:24:08.681Z"
   },
   {
    "duration": 406,
    "start_time": "2022-03-19T13:24:08.696Z"
   },
   {
    "duration": 9,
    "start_time": "2022-03-19T13:24:09.104Z"
   },
   {
    "duration": 53,
    "start_time": "2022-03-19T13:24:09.116Z"
   },
   {
    "duration": 402,
    "start_time": "2022-03-19T13:24:09.171Z"
   },
   {
    "duration": 393,
    "start_time": "2022-03-19T13:24:37.712Z"
   },
   {
    "duration": 241,
    "start_time": "2022-03-19T13:24:41.819Z"
   },
   {
    "duration": 232,
    "start_time": "2022-03-19T13:24:47.641Z"
   },
   {
    "duration": 247,
    "start_time": "2022-03-19T13:24:57.332Z"
   },
   {
    "duration": 232,
    "start_time": "2022-03-19T13:25:00.641Z"
   },
   {
    "duration": 318,
    "start_time": "2022-03-19T13:25:12.249Z"
   },
   {
    "duration": 981,
    "start_time": "2022-03-19T13:25:42.874Z"
   },
   {
    "duration": 29,
    "start_time": "2022-03-19T13:25:43.858Z"
   },
   {
    "duration": 117,
    "start_time": "2022-03-19T13:25:43.890Z"
   },
   {
    "duration": 4,
    "start_time": "2022-03-19T13:25:44.009Z"
   },
   {
    "duration": 13,
    "start_time": "2022-03-19T13:25:44.016Z"
   },
   {
    "duration": 9,
    "start_time": "2022-03-19T13:25:44.031Z"
   },
   {
    "duration": 27,
    "start_time": "2022-03-19T13:25:44.042Z"
   },
   {
    "duration": 6,
    "start_time": "2022-03-19T13:25:44.071Z"
   },
   {
    "duration": 7,
    "start_time": "2022-03-19T13:25:44.080Z"
   },
   {
    "duration": 37,
    "start_time": "2022-03-19T13:25:44.089Z"
   },
   {
    "duration": 53,
    "start_time": "2022-03-19T13:25:44.128Z"
   },
   {
    "duration": 9,
    "start_time": "2022-03-19T13:25:44.183Z"
   },
   {
    "duration": 8,
    "start_time": "2022-03-19T13:25:44.195Z"
   },
   {
    "duration": 7,
    "start_time": "2022-03-19T13:25:44.209Z"
   },
   {
    "duration": 8,
    "start_time": "2022-03-19T13:25:44.219Z"
   },
   {
    "duration": 49,
    "start_time": "2022-03-19T13:25:44.230Z"
   },
   {
    "duration": 6,
    "start_time": "2022-03-19T13:25:44.281Z"
   },
   {
    "duration": 6,
    "start_time": "2022-03-19T13:25:44.289Z"
   },
   {
    "duration": 35,
    "start_time": "2022-03-19T13:25:44.297Z"
   },
   {
    "duration": 11,
    "start_time": "2022-03-19T13:25:44.368Z"
   },
   {
    "duration": 336,
    "start_time": "2022-03-19T13:25:44.381Z"
   },
   {
    "duration": 18,
    "start_time": "2022-03-19T13:25:44.719Z"
   },
   {
    "duration": 348,
    "start_time": "2022-03-19T13:25:44.740Z"
   },
   {
    "duration": 11,
    "start_time": "2022-03-19T13:25:45.091Z"
   },
   {
    "duration": 307,
    "start_time": "2022-03-19T13:25:45.105Z"
   },
   {
    "duration": 13,
    "start_time": "2022-03-19T13:25:45.414Z"
   },
   {
    "duration": 286,
    "start_time": "2022-03-19T13:25:45.429Z"
   },
   {
    "duration": 10,
    "start_time": "2022-03-19T13:25:45.717Z"
   },
   {
    "duration": 52,
    "start_time": "2022-03-19T13:25:45.729Z"
   },
   {
    "duration": 440,
    "start_time": "2022-03-19T13:25:45.783Z"
   },
   {
    "duration": 980,
    "start_time": "2022-03-19T13:28:19.680Z"
   },
   {
    "duration": 22,
    "start_time": "2022-03-19T13:28:20.668Z"
   },
   {
    "duration": 125,
    "start_time": "2022-03-19T13:28:20.693Z"
   },
   {
    "duration": 5,
    "start_time": "2022-03-19T13:28:20.822Z"
   },
   {
    "duration": 13,
    "start_time": "2022-03-19T13:28:20.829Z"
   },
   {
    "duration": 23,
    "start_time": "2022-03-19T13:28:20.844Z"
   },
   {
    "duration": 12,
    "start_time": "2022-03-19T13:28:20.870Z"
   },
   {
    "duration": 9,
    "start_time": "2022-03-19T13:28:20.884Z"
   },
   {
    "duration": 7,
    "start_time": "2022-03-19T13:28:20.895Z"
   },
   {
    "duration": 66,
    "start_time": "2022-03-19T13:28:20.906Z"
   },
   {
    "duration": 20,
    "start_time": "2022-03-19T13:28:20.974Z"
   },
   {
    "duration": 9,
    "start_time": "2022-03-19T13:28:20.996Z"
   },
   {
    "duration": 9,
    "start_time": "2022-03-19T13:28:21.008Z"
   },
   {
    "duration": 11,
    "start_time": "2022-03-19T13:28:21.019Z"
   },
   {
    "duration": 39,
    "start_time": "2022-03-19T13:28:21.033Z"
   },
   {
    "duration": 13,
    "start_time": "2022-03-19T13:28:21.075Z"
   },
   {
    "duration": 5,
    "start_time": "2022-03-19T13:28:21.090Z"
   },
   {
    "duration": 7,
    "start_time": "2022-03-19T13:28:21.097Z"
   },
   {
    "duration": 76,
    "start_time": "2022-03-19T13:28:21.106Z"
   },
   {
    "duration": 11,
    "start_time": "2022-03-19T13:28:21.185Z"
   },
   {
    "duration": 325,
    "start_time": "2022-03-19T13:28:21.198Z"
   },
   {
    "duration": 12,
    "start_time": "2022-03-19T13:28:21.526Z"
   },
   {
    "duration": 334,
    "start_time": "2022-03-19T13:28:21.540Z"
   },
   {
    "duration": 13,
    "start_time": "2022-03-19T13:28:21.877Z"
   },
   {
    "duration": 323,
    "start_time": "2022-03-19T13:28:21.893Z"
   },
   {
    "duration": 13,
    "start_time": "2022-03-19T13:28:22.219Z"
   },
   {
    "duration": 280,
    "start_time": "2022-03-19T13:28:22.235Z"
   },
   {
    "duration": 10,
    "start_time": "2022-03-19T13:28:22.519Z"
   },
   {
    "duration": 51,
    "start_time": "2022-03-19T13:28:22.531Z"
   },
   {
    "duration": 223,
    "start_time": "2022-03-19T13:28:54.185Z"
   },
   {
    "duration": 228,
    "start_time": "2022-03-19T13:28:59.277Z"
   },
   {
    "duration": 281,
    "start_time": "2022-03-19T13:29:02.815Z"
   },
   {
    "duration": 304,
    "start_time": "2022-03-19T13:29:07.246Z"
   },
   {
    "duration": 343,
    "start_time": "2022-03-19T13:29:10.072Z"
   },
   {
    "duration": 410,
    "start_time": "2022-03-19T13:29:14.587Z"
   },
   {
    "duration": 433,
    "start_time": "2022-03-19T13:29:19.725Z"
   },
   {
    "duration": 301,
    "start_time": "2022-03-19T13:29:25.020Z"
   },
   {
    "duration": 294,
    "start_time": "2022-03-19T13:29:28.806Z"
   },
   {
    "duration": 299,
    "start_time": "2022-03-19T13:29:38.547Z"
   },
   {
    "duration": 336,
    "start_time": "2022-03-19T13:29:47.198Z"
   },
   {
    "duration": 281,
    "start_time": "2022-03-19T13:29:51.512Z"
   },
   {
    "duration": 956,
    "start_time": "2022-03-19T13:30:55.765Z"
   },
   {
    "duration": 22,
    "start_time": "2022-03-19T13:30:56.724Z"
   },
   {
    "duration": 111,
    "start_time": "2022-03-19T13:30:56.748Z"
   },
   {
    "duration": 4,
    "start_time": "2022-03-19T13:30:56.868Z"
   },
   {
    "duration": 9,
    "start_time": "2022-03-19T13:30:56.876Z"
   },
   {
    "duration": 8,
    "start_time": "2022-03-19T13:30:56.886Z"
   },
   {
    "duration": 11,
    "start_time": "2022-03-19T13:30:56.896Z"
   },
   {
    "duration": 8,
    "start_time": "2022-03-19T13:30:56.909Z"
   },
   {
    "duration": 7,
    "start_time": "2022-03-19T13:30:56.919Z"
   },
   {
    "duration": 73,
    "start_time": "2022-03-19T13:30:56.928Z"
   },
   {
    "duration": 20,
    "start_time": "2022-03-19T13:30:57.004Z"
   },
   {
    "duration": 8,
    "start_time": "2022-03-19T13:30:57.026Z"
   },
   {
    "duration": 36,
    "start_time": "2022-03-19T13:30:57.037Z"
   },
   {
    "duration": 7,
    "start_time": "2022-03-19T13:30:57.077Z"
   },
   {
    "duration": 7,
    "start_time": "2022-03-19T13:30:57.087Z"
   },
   {
    "duration": 12,
    "start_time": "2022-03-19T13:30:57.096Z"
   },
   {
    "duration": 5,
    "start_time": "2022-03-19T13:30:57.110Z"
   },
   {
    "duration": 51,
    "start_time": "2022-03-19T13:30:57.117Z"
   },
   {
    "duration": 37,
    "start_time": "2022-03-19T13:30:57.170Z"
   },
   {
    "duration": 11,
    "start_time": "2022-03-19T13:30:57.209Z"
   },
   {
    "duration": 314,
    "start_time": "2022-03-19T13:30:57.222Z"
   },
   {
    "duration": 12,
    "start_time": "2022-03-19T13:30:57.538Z"
   },
   {
    "duration": 329,
    "start_time": "2022-03-19T13:30:57.568Z"
   },
   {
    "duration": 12,
    "start_time": "2022-03-19T13:30:57.899Z"
   },
   {
    "duration": 256,
    "start_time": "2022-03-19T13:30:57.913Z"
   },
   {
    "duration": 13,
    "start_time": "2022-03-19T13:30:58.171Z"
   },
   {
    "duration": 336,
    "start_time": "2022-03-19T13:30:58.186Z"
   },
   {
    "duration": 27,
    "start_time": "2022-03-19T13:30:58.524Z"
   },
   {
    "duration": 15,
    "start_time": "2022-03-19T13:57:46.155Z"
   },
   {
    "duration": 246,
    "start_time": "2022-03-19T13:58:10.126Z"
   },
   {
    "duration": 231,
    "start_time": "2022-03-19T13:58:18.045Z"
   },
   {
    "duration": 205,
    "start_time": "2022-03-19T13:58:39.746Z"
   },
   {
    "duration": 387,
    "start_time": "2022-03-19T13:58:59.900Z"
   },
   {
    "duration": 364,
    "start_time": "2022-03-19T13:59:07.545Z"
   },
   {
    "duration": 332,
    "start_time": "2022-03-19T13:59:12.565Z"
   },
   {
    "duration": 300,
    "start_time": "2022-03-19T13:59:17.805Z"
   },
   {
    "duration": 355,
    "start_time": "2022-03-19T13:59:22.846Z"
   },
   {
    "duration": 357,
    "start_time": "2022-03-19T13:59:26.736Z"
   },
   {
    "duration": 359,
    "start_time": "2022-03-19T13:59:33.117Z"
   },
   {
    "duration": 371,
    "start_time": "2022-03-19T13:59:44.247Z"
   },
   {
    "duration": 338,
    "start_time": "2022-03-19T13:59:54.508Z"
   },
   {
    "duration": 355,
    "start_time": "2022-03-19T14:00:00.704Z"
   },
   {
    "duration": 454,
    "start_time": "2022-03-19T14:00:06.106Z"
   },
   {
    "duration": 369,
    "start_time": "2022-03-19T14:00:16.988Z"
   },
   {
    "duration": 358,
    "start_time": "2022-03-19T14:00:28.218Z"
   },
   {
    "duration": 402,
    "start_time": "2022-03-19T14:00:37.804Z"
   },
   {
    "duration": 1441,
    "start_time": "2022-03-19T14:00:43.462Z"
   },
   {
    "duration": 398,
    "start_time": "2022-03-19T14:00:47.969Z"
   },
   {
    "duration": 328,
    "start_time": "2022-03-19T14:01:43.706Z"
   },
   {
    "duration": 363,
    "start_time": "2022-03-19T14:01:50.756Z"
   },
   {
    "duration": 322,
    "start_time": "2022-03-19T14:03:06.915Z"
   },
   {
    "duration": 506,
    "start_time": "2022-03-19T14:03:15.486Z"
   },
   {
    "duration": 255,
    "start_time": "2022-03-19T14:03:19.724Z"
   },
   {
    "duration": 224,
    "start_time": "2022-03-19T14:03:21.987Z"
   },
   {
    "duration": 249,
    "start_time": "2022-03-19T14:03:25.146Z"
   },
   {
    "duration": 361,
    "start_time": "2022-03-19T14:03:33.006Z"
   },
   {
    "duration": 281,
    "start_time": "2022-03-19T14:12:51.533Z"
   },
   {
    "duration": 288,
    "start_time": "2022-03-19T14:12:56.965Z"
   },
   {
    "duration": 92,
    "start_time": "2022-03-19T14:13:31.286Z"
   },
   {
    "duration": 286,
    "start_time": "2022-03-19T14:15:58.446Z"
   },
   {
    "duration": 305,
    "start_time": "2022-03-19T14:16:03.277Z"
   },
   {
    "duration": 314,
    "start_time": "2022-03-19T14:16:11.666Z"
   },
   {
    "duration": 359,
    "start_time": "2022-03-19T14:16:19.446Z"
   },
   {
    "duration": 285,
    "start_time": "2022-03-19T14:16:23.332Z"
   },
   {
    "duration": 309,
    "start_time": "2022-03-19T14:16:30.516Z"
   },
   {
    "duration": 482,
    "start_time": "2022-03-19T14:16:34.733Z"
   },
   {
    "duration": 258,
    "start_time": "2022-03-19T14:16:39.245Z"
   },
   {
    "duration": 303,
    "start_time": "2022-03-19T14:16:42.755Z"
   },
   {
    "duration": 267,
    "start_time": "2022-03-19T14:17:04.746Z"
   },
   {
    "duration": 301,
    "start_time": "2022-03-19T14:17:13.555Z"
   },
   {
    "duration": 95,
    "start_time": "2022-03-19T14:25:37.741Z"
   },
   {
    "duration": 53,
    "start_time": "2022-03-19T14:25:42.086Z"
   },
   {
    "duration": 14,
    "start_time": "2022-03-19T14:26:01.561Z"
   },
   {
    "duration": 9,
    "start_time": "2022-03-19T14:26:17.733Z"
   },
   {
    "duration": 52,
    "start_time": "2022-03-19T14:26:28.905Z"
   },
   {
    "duration": 10,
    "start_time": "2022-03-19T14:26:38.948Z"
   },
   {
    "duration": 9,
    "start_time": "2022-03-19T14:26:47.225Z"
   },
   {
    "duration": 108,
    "start_time": "2022-03-19T14:27:38.965Z"
   },
   {
    "duration": 13,
    "start_time": "2022-03-19T14:27:55.454Z"
   },
   {
    "duration": 217,
    "start_time": "2022-03-19T14:28:43.725Z"
   },
   {
    "duration": 220,
    "start_time": "2022-03-19T14:28:48.213Z"
   },
   {
    "duration": 219,
    "start_time": "2022-03-19T14:28:53.963Z"
   },
   {
    "duration": 222,
    "start_time": "2022-03-19T14:28:58.626Z"
   },
   {
    "duration": 222,
    "start_time": "2022-03-19T14:29:18.506Z"
   },
   {
    "duration": 231,
    "start_time": "2022-03-19T14:29:39.555Z"
   },
   {
    "duration": 230,
    "start_time": "2022-03-19T14:29:52.429Z"
   },
   {
    "duration": 231,
    "start_time": "2022-03-19T14:30:00.765Z"
   },
   {
    "duration": 228,
    "start_time": "2022-03-19T14:30:36.565Z"
   },
   {
    "duration": 8,
    "start_time": "2022-03-19T14:44:58.100Z"
   },
   {
    "duration": 8,
    "start_time": "2022-03-19T14:46:06.653Z"
   },
   {
    "duration": 7,
    "start_time": "2022-03-19T14:46:58.605Z"
   },
   {
    "duration": 7,
    "start_time": "2022-03-19T14:48:40.405Z"
   },
   {
    "duration": 7,
    "start_time": "2022-03-19T14:48:40.785Z"
   },
   {
    "duration": 7,
    "start_time": "2022-03-19T14:48:41.186Z"
   },
   {
    "duration": 82,
    "start_time": "2022-03-19T14:54:58.383Z"
   },
   {
    "duration": 1001,
    "start_time": "2022-03-19T14:56:30.462Z"
   },
   {
    "duration": 22,
    "start_time": "2022-03-19T14:56:31.466Z"
   },
   {
    "duration": 119,
    "start_time": "2022-03-19T14:56:31.490Z"
   },
   {
    "duration": 5,
    "start_time": "2022-03-19T14:56:31.611Z"
   },
   {
    "duration": 23,
    "start_time": "2022-03-19T14:56:31.621Z"
   },
   {
    "duration": 15,
    "start_time": "2022-03-19T14:56:31.646Z"
   },
   {
    "duration": 20,
    "start_time": "2022-03-19T14:56:31.664Z"
   },
   {
    "duration": 14,
    "start_time": "2022-03-19T14:56:31.687Z"
   },
   {
    "duration": 8,
    "start_time": "2022-03-19T14:56:31.704Z"
   },
   {
    "duration": 82,
    "start_time": "2022-03-19T14:56:31.715Z"
   },
   {
    "duration": 29,
    "start_time": "2022-03-19T14:56:31.800Z"
   },
   {
    "duration": 10,
    "start_time": "2022-03-19T14:56:31.832Z"
   },
   {
    "duration": 29,
    "start_time": "2022-03-19T14:56:31.845Z"
   },
   {
    "duration": 7,
    "start_time": "2022-03-19T14:56:31.878Z"
   },
   {
    "duration": 8,
    "start_time": "2022-03-19T14:56:31.887Z"
   },
   {
    "duration": 15,
    "start_time": "2022-03-19T14:56:31.898Z"
   },
   {
    "duration": 5,
    "start_time": "2022-03-19T14:56:31.916Z"
   },
   {
    "duration": 54,
    "start_time": "2022-03-19T14:56:31.923Z"
   },
   {
    "duration": 41,
    "start_time": "2022-03-19T14:56:31.980Z"
   },
   {
    "duration": 12,
    "start_time": "2022-03-19T14:56:32.023Z"
   },
   {
    "duration": 356,
    "start_time": "2022-03-19T14:56:32.037Z"
   },
   {
    "duration": 13,
    "start_time": "2022-03-19T14:56:32.395Z"
   },
   {
    "duration": 540,
    "start_time": "2022-03-19T14:56:32.411Z"
   },
   {
    "duration": 23,
    "start_time": "2022-03-19T14:56:32.954Z"
   },
   {
    "duration": 256,
    "start_time": "2022-03-19T14:56:32.981Z"
   },
   {
    "duration": 13,
    "start_time": "2022-03-19T14:56:33.239Z"
   },
   {
    "duration": 349,
    "start_time": "2022-03-19T14:56:33.255Z"
   },
   {
    "duration": 12,
    "start_time": "2022-03-19T14:56:33.606Z"
   },
   {
    "duration": 395,
    "start_time": "2022-03-19T14:56:33.620Z"
   },
   {
    "duration": 8,
    "start_time": "2022-03-19T14:56:34.017Z"
   },
   {
    "duration": 9,
    "start_time": "2022-03-19T14:56:34.027Z"
   },
   {
    "duration": 8,
    "start_time": "2022-03-19T14:56:34.067Z"
   },
   {
    "duration": 28,
    "start_time": "2022-03-19T14:56:34.079Z"
   },
   {
    "duration": 17,
    "start_time": "2022-03-19T15:00:59.265Z"
   },
   {
    "duration": 10,
    "start_time": "2022-03-19T15:01:04.113Z"
   },
   {
    "duration": 25,
    "start_time": "2022-03-19T15:01:27.091Z"
   },
   {
    "duration": 13,
    "start_time": "2022-03-19T15:01:27.723Z"
   },
   {
    "duration": 26,
    "start_time": "2022-03-19T15:03:12.726Z"
   },
   {
    "duration": 11,
    "start_time": "2022-03-19T15:03:13.074Z"
   },
   {
    "duration": 37,
    "start_time": "2022-03-19T15:03:36.645Z"
   },
   {
    "duration": 11,
    "start_time": "2022-03-19T15:03:37.147Z"
   },
   {
    "duration": 41,
    "start_time": "2022-03-19T15:04:26.785Z"
   },
   {
    "duration": 41,
    "start_time": "2022-03-19T15:05:13.884Z"
   },
   {
    "duration": 43,
    "start_time": "2022-03-19T15:05:23.292Z"
   },
   {
    "duration": 44,
    "start_time": "2022-03-19T15:05:24.151Z"
   },
   {
    "duration": 42,
    "start_time": "2022-03-19T15:06:34.386Z"
   },
   {
    "duration": 42,
    "start_time": "2022-03-19T15:06:36.841Z"
   },
   {
    "duration": 42,
    "start_time": "2022-03-19T15:08:09.272Z"
   },
   {
    "duration": 42,
    "start_time": "2022-03-19T15:08:09.836Z"
   },
   {
    "duration": 138,
    "start_time": "2022-03-19T15:15:06.731Z"
   },
   {
    "duration": 947,
    "start_time": "2022-03-19T15:15:15.075Z"
   },
   {
    "duration": 23,
    "start_time": "2022-03-19T15:15:16.025Z"
   },
   {
    "duration": 104,
    "start_time": "2022-03-19T15:15:16.067Z"
   },
   {
    "duration": 5,
    "start_time": "2022-03-19T15:15:16.174Z"
   },
   {
    "duration": 10,
    "start_time": "2022-03-19T15:15:16.181Z"
   },
   {
    "duration": 7,
    "start_time": "2022-03-19T15:15:16.193Z"
   },
   {
    "duration": 13,
    "start_time": "2022-03-19T15:15:16.202Z"
   },
   {
    "duration": 6,
    "start_time": "2022-03-19T15:15:16.217Z"
   },
   {
    "duration": 42,
    "start_time": "2022-03-19T15:15:16.226Z"
   },
   {
    "duration": 38,
    "start_time": "2022-03-19T15:15:16.271Z"
   },
   {
    "duration": 21,
    "start_time": "2022-03-19T15:15:16.310Z"
   },
   {
    "duration": 41,
    "start_time": "2022-03-19T15:15:16.333Z"
   },
   {
    "duration": 8,
    "start_time": "2022-03-19T15:15:16.377Z"
   },
   {
    "duration": 7,
    "start_time": "2022-03-19T15:15:16.388Z"
   },
   {
    "duration": 7,
    "start_time": "2022-03-19T15:15:16.397Z"
   },
   {
    "duration": 15,
    "start_time": "2022-03-19T15:15:16.407Z"
   },
   {
    "duration": 48,
    "start_time": "2022-03-19T15:15:16.424Z"
   },
   {
    "duration": 7,
    "start_time": "2022-03-19T15:15:16.474Z"
   },
   {
    "duration": 37,
    "start_time": "2022-03-19T15:15:16.483Z"
   },
   {
    "duration": 48,
    "start_time": "2022-03-19T15:15:16.522Z"
   },
   {
    "duration": 302,
    "start_time": "2022-03-19T15:15:16.572Z"
   },
   {
    "duration": 14,
    "start_time": "2022-03-19T15:15:16.877Z"
   },
   {
    "duration": 356,
    "start_time": "2022-03-19T15:15:16.894Z"
   },
   {
    "duration": 24,
    "start_time": "2022-03-19T15:15:17.253Z"
   },
   {
    "duration": 246,
    "start_time": "2022-03-19T15:15:17.279Z"
   },
   {
    "duration": 13,
    "start_time": "2022-03-19T15:15:17.527Z"
   },
   {
    "duration": 344,
    "start_time": "2022-03-19T15:15:17.542Z"
   },
   {
    "duration": 12,
    "start_time": "2022-03-19T15:15:17.892Z"
   },
   {
    "duration": 405,
    "start_time": "2022-03-19T15:15:17.906Z"
   },
   {
    "duration": 7,
    "start_time": "2022-03-19T15:15:18.313Z"
   },
   {
    "duration": 6,
    "start_time": "2022-03-19T15:15:18.322Z"
   },
   {
    "duration": 7,
    "start_time": "2022-03-19T15:15:18.330Z"
   },
   {
    "duration": 183,
    "start_time": "2022-03-19T15:15:18.339Z"
   },
   {
    "duration": 0,
    "start_time": "2022-03-19T15:15:18.525Z"
   },
   {
    "duration": 0,
    "start_time": "2022-03-19T15:15:18.527Z"
   },
   {
    "duration": 47,
    "start_time": "2022-03-19T15:15:29.694Z"
   },
   {
    "duration": 470,
    "start_time": "2022-03-19T15:15:44.085Z"
   },
   {
    "duration": 44,
    "start_time": "2022-03-19T15:15:57.875Z"
   },
   {
    "duration": 41,
    "start_time": "2022-03-19T15:16:09.331Z"
   },
   {
    "duration": 58,
    "start_time": "2022-03-19T15:16:24.562Z"
   },
   {
    "duration": 43,
    "start_time": "2022-03-19T15:17:08.512Z"
   },
   {
    "duration": 43,
    "start_time": "2022-03-19T15:17:16.565Z"
   },
   {
    "duration": 45,
    "start_time": "2022-03-19T15:19:00.227Z"
   },
   {
    "duration": 43,
    "start_time": "2022-03-19T15:20:27.124Z"
   },
   {
    "duration": 307,
    "start_time": "2022-03-19T15:22:30.224Z"
   },
   {
    "duration": 328,
    "start_time": "2022-03-19T15:22:46.565Z"
   },
   {
    "duration": 569,
    "start_time": "2022-03-19T15:22:53.132Z"
   },
   {
    "duration": 23,
    "start_time": "2022-03-19T15:23:40.085Z"
   },
   {
    "duration": 43,
    "start_time": "2022-03-19T15:23:51.790Z"
   },
   {
    "duration": 37,
    "start_time": "2022-03-19T15:24:09.915Z"
   },
   {
    "duration": 2034,
    "start_time": "2022-03-19T15:25:01.706Z"
   },
   {
    "duration": 1801,
    "start_time": "2022-03-19T15:25:13.867Z"
   },
   {
    "duration": 552,
    "start_time": "2022-03-19T15:25:43.305Z"
   },
   {
    "duration": 46,
    "start_time": "2022-03-19T15:25:50.867Z"
   },
   {
    "duration": 65,
    "start_time": "2022-03-19T15:26:01.395Z"
   },
   {
    "duration": 41,
    "start_time": "2022-03-19T15:26:11.256Z"
   },
   {
    "duration": 46,
    "start_time": "2022-03-19T15:26:41.485Z"
   },
   {
    "duration": 442,
    "start_time": "2022-03-19T15:26:48.048Z"
   },
   {
    "duration": 249,
    "start_time": "2022-03-19T15:27:00.795Z"
   },
   {
    "duration": 41,
    "start_time": "2022-03-19T15:27:33.873Z"
   },
   {
    "duration": 44,
    "start_time": "2022-03-19T15:28:26.115Z"
   },
   {
    "duration": 242,
    "start_time": "2022-03-19T15:29:14.804Z"
   },
   {
    "duration": 234,
    "start_time": "2022-03-19T15:30:43.672Z"
   },
   {
    "duration": 360,
    "start_time": "2022-03-19T15:30:55.186Z"
   },
   {
    "duration": 323,
    "start_time": "2022-03-19T15:30:58.746Z"
   },
   {
    "duration": 231,
    "start_time": "2022-03-19T15:31:02.584Z"
   },
   {
    "duration": 227,
    "start_time": "2022-03-19T15:31:06.292Z"
   },
   {
    "duration": 249,
    "start_time": "2022-03-19T15:31:19.146Z"
   },
   {
    "duration": 261,
    "start_time": "2022-03-19T15:31:24.356Z"
   },
   {
    "duration": 326,
    "start_time": "2022-03-19T15:31:29.034Z"
   },
   {
    "duration": 254,
    "start_time": "2022-03-19T15:31:33.828Z"
   },
   {
    "duration": 321,
    "start_time": "2022-03-19T15:31:38.525Z"
   },
   {
    "duration": 234,
    "start_time": "2022-03-19T15:31:42.941Z"
   },
   {
    "duration": 255,
    "start_time": "2022-03-19T15:31:51.555Z"
   },
   {
    "duration": 248,
    "start_time": "2022-03-19T15:31:57.931Z"
   },
   {
    "duration": 56,
    "start_time": "2022-03-19T15:32:36.506Z"
   },
   {
    "duration": 342,
    "start_time": "2022-03-19T15:33:03.867Z"
   },
   {
    "duration": 230,
    "start_time": "2022-03-19T15:38:43.725Z"
   },
   {
    "duration": 356,
    "start_time": "2022-03-19T15:38:49.324Z"
   },
   {
    "duration": 233,
    "start_time": "2022-03-19T15:39:00.361Z"
   },
   {
    "duration": 217,
    "start_time": "2022-03-19T15:39:18.026Z"
   },
   {
    "duration": 243,
    "start_time": "2022-03-19T15:41:18.287Z"
   },
   {
    "duration": 249,
    "start_time": "2022-03-19T15:41:34.542Z"
   },
   {
    "duration": 229,
    "start_time": "2022-03-19T15:41:47.731Z"
   },
   {
    "duration": 215,
    "start_time": "2022-03-19T15:41:56.705Z"
   },
   {
    "duration": 44,
    "start_time": "2022-03-19T15:43:14.565Z"
   },
   {
    "duration": 39,
    "start_time": "2022-03-19T15:44:15.566Z"
   },
   {
    "duration": 40,
    "start_time": "2022-03-19T15:44:19.284Z"
   },
   {
    "duration": 230,
    "start_time": "2022-03-19T15:45:52.567Z"
   },
   {
    "duration": 232,
    "start_time": "2022-03-19T15:46:00.426Z"
   },
   {
    "duration": 240,
    "start_time": "2022-03-19T15:46:06.963Z"
   },
   {
    "duration": 232,
    "start_time": "2022-03-19T15:46:15.243Z"
   },
   {
    "duration": 309,
    "start_time": "2022-03-19T15:46:35.751Z"
   },
   {
    "duration": 262,
    "start_time": "2022-03-19T15:46:46.346Z"
   },
   {
    "duration": 229,
    "start_time": "2022-03-19T15:46:53.823Z"
   },
   {
    "duration": 237,
    "start_time": "2022-03-19T15:47:01.825Z"
   },
   {
    "duration": 217,
    "start_time": "2022-03-19T15:47:22.885Z"
   },
   {
    "duration": 41,
    "start_time": "2022-03-19T15:48:05.147Z"
   },
   {
    "duration": 32,
    "start_time": "2022-03-19T15:48:30.005Z"
   },
   {
    "duration": 440,
    "start_time": "2022-03-19T15:48:30.665Z"
   },
   {
    "duration": 33,
    "start_time": "2022-03-19T15:49:02.285Z"
   },
   {
    "duration": 244,
    "start_time": "2022-03-19T15:49:05.873Z"
   },
   {
    "duration": 30,
    "start_time": "2022-03-19T15:49:29.025Z"
   },
   {
    "duration": 267,
    "start_time": "2022-03-19T15:50:05.154Z"
   },
   {
    "duration": 244,
    "start_time": "2022-03-19T15:50:10.746Z"
   },
   {
    "duration": 338,
    "start_time": "2022-03-19T15:50:20.984Z"
   },
   {
    "duration": 949,
    "start_time": "2022-03-19T15:58:22.392Z"
   },
   {
    "duration": 26,
    "start_time": "2022-03-19T15:58:23.344Z"
   },
   {
    "duration": 110,
    "start_time": "2022-03-19T15:58:23.373Z"
   },
   {
    "duration": 6,
    "start_time": "2022-03-19T15:58:23.486Z"
   },
   {
    "duration": 11,
    "start_time": "2022-03-19T15:58:23.495Z"
   },
   {
    "duration": 6,
    "start_time": "2022-03-19T15:58:23.508Z"
   },
   {
    "duration": 11,
    "start_time": "2022-03-19T15:58:23.516Z"
   },
   {
    "duration": 40,
    "start_time": "2022-03-19T15:58:23.530Z"
   },
   {
    "duration": 7,
    "start_time": "2022-03-19T15:58:23.573Z"
   },
   {
    "duration": 37,
    "start_time": "2022-03-19T15:58:23.583Z"
   },
   {
    "duration": 49,
    "start_time": "2022-03-19T15:58:23.622Z"
   },
   {
    "duration": 9,
    "start_time": "2022-03-19T15:58:23.673Z"
   },
   {
    "duration": 7,
    "start_time": "2022-03-19T15:58:23.684Z"
   },
   {
    "duration": 7,
    "start_time": "2022-03-19T15:58:23.696Z"
   },
   {
    "duration": 8,
    "start_time": "2022-03-19T15:58:23.705Z"
   },
   {
    "duration": 53,
    "start_time": "2022-03-19T15:58:23.716Z"
   },
   {
    "duration": 6,
    "start_time": "2022-03-19T15:58:23.771Z"
   },
   {
    "duration": 11,
    "start_time": "2022-03-19T15:58:23.778Z"
   },
   {
    "duration": 40,
    "start_time": "2022-03-19T15:58:23.791Z"
   },
   {
    "duration": 44,
    "start_time": "2022-03-19T15:58:23.833Z"
   },
   {
    "duration": 318,
    "start_time": "2022-03-19T15:58:23.879Z"
   },
   {
    "duration": 12,
    "start_time": "2022-03-19T15:58:24.199Z"
   },
   {
    "duration": 338,
    "start_time": "2022-03-19T15:58:24.213Z"
   },
   {
    "duration": 19,
    "start_time": "2022-03-19T15:58:24.554Z"
   },
   {
    "duration": 252,
    "start_time": "2022-03-19T15:58:24.576Z"
   },
   {
    "duration": 13,
    "start_time": "2022-03-19T15:58:24.830Z"
   },
   {
    "duration": 338,
    "start_time": "2022-03-19T15:58:24.846Z"
   },
   {
    "duration": 13,
    "start_time": "2022-03-19T15:58:25.186Z"
   },
   {
    "duration": 375,
    "start_time": "2022-03-19T15:58:25.202Z"
   },
   {
    "duration": 7,
    "start_time": "2022-03-19T15:58:25.579Z"
   },
   {
    "duration": 8,
    "start_time": "2022-03-19T15:58:25.588Z"
   },
   {
    "duration": 8,
    "start_time": "2022-03-19T15:58:25.598Z"
   },
   {
    "duration": 98,
    "start_time": "2022-03-19T15:58:25.608Z"
   },
   {
    "duration": 30,
    "start_time": "2022-03-19T15:58:25.708Z"
   },
   {
    "duration": 257,
    "start_time": "2022-03-19T15:58:25.740Z"
   },
   {
    "duration": 30,
    "start_time": "2022-03-19T15:58:26.000Z"
   },
   {
    "duration": 264,
    "start_time": "2022-03-19T15:58:26.033Z"
   },
   {
    "duration": 30,
    "start_time": "2022-03-19T15:58:26.300Z"
   },
   {
    "duration": 276,
    "start_time": "2022-03-19T15:58:26.333Z"
   },
   {
    "duration": 28,
    "start_time": "2022-03-19T15:58:26.612Z"
   },
   {
    "duration": 12,
    "start_time": "2022-03-19T15:59:55.342Z"
   },
   {
    "duration": 9,
    "start_time": "2022-03-19T16:02:11.992Z"
   },
   {
    "duration": 113,
    "start_time": "2022-03-19T16:02:50.865Z"
   },
   {
    "duration": 25,
    "start_time": "2022-03-19T16:02:59.224Z"
   },
   {
    "duration": 35,
    "start_time": "2022-03-19T16:03:23.213Z"
   },
   {
    "duration": 10,
    "start_time": "2022-03-19T16:03:35.379Z"
   },
   {
    "duration": 9,
    "start_time": "2022-03-19T16:04:01.563Z"
   },
   {
    "duration": 25,
    "start_time": "2022-03-19T16:04:02.834Z"
   },
   {
    "duration": 24,
    "start_time": "2022-03-19T16:05:13.374Z"
   },
   {
    "duration": 8,
    "start_time": "2022-03-19T16:05:21.203Z"
   },
   {
    "duration": 20,
    "start_time": "2022-03-19T16:08:05.262Z"
   },
   {
    "duration": 25,
    "start_time": "2022-03-19T16:08:11.662Z"
   },
   {
    "duration": 24,
    "start_time": "2022-03-19T16:09:09.223Z"
   },
   {
    "duration": 956,
    "start_time": "2022-03-19T16:09:22.012Z"
   },
   {
    "duration": 22,
    "start_time": "2022-03-19T16:09:22.970Z"
   },
   {
    "duration": 118,
    "start_time": "2022-03-19T16:09:22.995Z"
   },
   {
    "duration": 5,
    "start_time": "2022-03-19T16:09:23.115Z"
   },
   {
    "duration": 13,
    "start_time": "2022-03-19T16:09:23.124Z"
   },
   {
    "duration": 30,
    "start_time": "2022-03-19T16:09:23.139Z"
   },
   {
    "duration": 11,
    "start_time": "2022-03-19T16:09:23.171Z"
   },
   {
    "duration": 7,
    "start_time": "2022-03-19T16:09:23.185Z"
   },
   {
    "duration": 6,
    "start_time": "2022-03-19T16:09:23.195Z"
   },
   {
    "duration": 66,
    "start_time": "2022-03-19T16:09:23.204Z"
   },
   {
    "duration": 20,
    "start_time": "2022-03-19T16:09:23.273Z"
   },
   {
    "duration": 7,
    "start_time": "2022-03-19T16:09:23.296Z"
   },
   {
    "duration": 9,
    "start_time": "2022-03-19T16:09:23.305Z"
   },
   {
    "duration": 8,
    "start_time": "2022-03-19T16:09:23.319Z"
   },
   {
    "duration": 9,
    "start_time": "2022-03-19T16:09:23.367Z"
   },
   {
    "duration": 13,
    "start_time": "2022-03-19T16:09:23.379Z"
   },
   {
    "duration": 5,
    "start_time": "2022-03-19T16:09:23.395Z"
   },
   {
    "duration": 6,
    "start_time": "2022-03-19T16:09:23.402Z"
   },
   {
    "duration": 85,
    "start_time": "2022-03-19T16:09:23.410Z"
   },
   {
    "duration": 11,
    "start_time": "2022-03-19T16:09:23.498Z"
   },
   {
    "duration": 317,
    "start_time": "2022-03-19T16:09:23.511Z"
   },
   {
    "duration": 12,
    "start_time": "2022-03-19T16:09:23.831Z"
   },
   {
    "duration": 482,
    "start_time": "2022-03-19T16:09:23.846Z"
   },
   {
    "duration": 15,
    "start_time": "2022-03-19T16:09:24.331Z"
   },
   {
    "duration": 344,
    "start_time": "2022-03-19T16:09:24.348Z"
   },
   {
    "duration": 15,
    "start_time": "2022-03-19T16:09:24.695Z"
   },
   {
    "duration": 458,
    "start_time": "2022-03-19T16:09:24.714Z"
   },
   {
    "duration": 14,
    "start_time": "2022-03-19T16:09:25.175Z"
   },
   {
    "duration": 369,
    "start_time": "2022-03-19T16:09:25.192Z"
   },
   {
    "duration": 8,
    "start_time": "2022-03-19T16:09:25.564Z"
   },
   {
    "duration": 9,
    "start_time": "2022-03-19T16:09:25.575Z"
   },
   {
    "duration": 7,
    "start_time": "2022-03-19T16:09:25.586Z"
   },
   {
    "duration": 95,
    "start_time": "2022-03-19T16:09:25.595Z"
   },
   {
    "duration": 30,
    "start_time": "2022-03-19T16:09:25.693Z"
   },
   {
    "duration": 253,
    "start_time": "2022-03-19T16:09:25.726Z"
   },
   {
    "duration": 30,
    "start_time": "2022-03-19T16:09:25.982Z"
   },
   {
    "duration": 240,
    "start_time": "2022-03-19T16:09:26.014Z"
   },
   {
    "duration": 38,
    "start_time": "2022-03-19T16:09:26.256Z"
   },
   {
    "duration": 253,
    "start_time": "2022-03-19T16:09:26.296Z"
   },
   {
    "duration": 33,
    "start_time": "2022-03-19T16:09:26.551Z"
   },
   {
    "duration": 41,
    "start_time": "2022-03-19T16:09:26.589Z"
   },
   {
    "duration": 1348,
    "start_time": "2022-03-19T16:11:14.353Z"
   },
   {
    "duration": 23,
    "start_time": "2022-03-19T16:11:15.705Z"
   },
   {
    "duration": 120,
    "start_time": "2022-03-19T16:11:15.730Z"
   },
   {
    "duration": 5,
    "start_time": "2022-03-19T16:11:15.852Z"
   },
   {
    "duration": 15,
    "start_time": "2022-03-19T16:11:15.860Z"
   },
   {
    "duration": 8,
    "start_time": "2022-03-19T16:11:15.877Z"
   },
   {
    "duration": 22,
    "start_time": "2022-03-19T16:11:15.888Z"
   },
   {
    "duration": 7,
    "start_time": "2022-03-19T16:11:15.913Z"
   },
   {
    "duration": 46,
    "start_time": "2022-03-19T16:11:15.922Z"
   },
   {
    "duration": 40,
    "start_time": "2022-03-19T16:11:15.971Z"
   },
   {
    "duration": 55,
    "start_time": "2022-03-19T16:11:16.014Z"
   },
   {
    "duration": 7,
    "start_time": "2022-03-19T16:11:16.072Z"
   },
   {
    "duration": 9,
    "start_time": "2022-03-19T16:11:16.082Z"
   },
   {
    "duration": 7,
    "start_time": "2022-03-19T16:11:16.097Z"
   },
   {
    "duration": 8,
    "start_time": "2022-03-19T16:11:16.106Z"
   },
   {
    "duration": 58,
    "start_time": "2022-03-19T16:11:16.116Z"
   },
   {
    "duration": 5,
    "start_time": "2022-03-19T16:11:16.177Z"
   },
   {
    "duration": 7,
    "start_time": "2022-03-19T16:11:16.184Z"
   },
   {
    "duration": 37,
    "start_time": "2022-03-19T16:11:16.193Z"
   },
   {
    "duration": 44,
    "start_time": "2022-03-19T16:11:16.232Z"
   },
   {
    "duration": 334,
    "start_time": "2022-03-19T16:11:16.278Z"
   },
   {
    "duration": 14,
    "start_time": "2022-03-19T16:11:16.614Z"
   },
   {
    "duration": 358,
    "start_time": "2022-03-19T16:11:16.631Z"
   },
   {
    "duration": 11,
    "start_time": "2022-03-19T16:11:16.993Z"
   },
   {
    "duration": 248,
    "start_time": "2022-03-19T16:11:17.006Z"
   },
   {
    "duration": 20,
    "start_time": "2022-03-19T16:11:17.256Z"
   },
   {
    "duration": 336,
    "start_time": "2022-03-19T16:11:17.278Z"
   },
   {
    "duration": 13,
    "start_time": "2022-03-19T16:11:17.616Z"
   },
   {
    "duration": 375,
    "start_time": "2022-03-19T16:11:17.631Z"
   },
   {
    "duration": 7,
    "start_time": "2022-03-19T16:11:18.009Z"
   },
   {
    "duration": 7,
    "start_time": "2022-03-19T16:11:18.018Z"
   },
   {
    "duration": 7,
    "start_time": "2022-03-19T16:11:18.027Z"
   },
   {
    "duration": 50,
    "start_time": "2022-03-19T16:11:18.069Z"
   },
   {
    "duration": 50,
    "start_time": "2022-03-19T16:11:18.122Z"
   },
   {
    "duration": 238,
    "start_time": "2022-03-19T16:11:18.174Z"
   },
   {
    "duration": 31,
    "start_time": "2022-03-19T16:11:18.415Z"
   },
   {
    "duration": 243,
    "start_time": "2022-03-19T16:11:18.467Z"
   },
   {
    "duration": 34,
    "start_time": "2022-03-19T16:11:18.712Z"
   },
   {
    "duration": 270,
    "start_time": "2022-03-19T16:11:18.768Z"
   },
   {
    "duration": 41,
    "start_time": "2022-03-19T16:11:19.041Z"
   },
   {
    "duration": 40,
    "start_time": "2022-03-19T16:11:19.088Z"
   },
   {
    "duration": 78,
    "start_time": "2022-03-19T16:11:43.142Z"
   },
   {
    "duration": 1045,
    "start_time": "2022-03-19T16:11:51.433Z"
   },
   {
    "duration": 21,
    "start_time": "2022-03-19T16:11:52.481Z"
   },
   {
    "duration": 126,
    "start_time": "2022-03-19T16:11:52.504Z"
   },
   {
    "duration": 5,
    "start_time": "2022-03-19T16:11:52.635Z"
   },
   {
    "duration": 27,
    "start_time": "2022-03-19T16:11:52.643Z"
   },
   {
    "duration": 5,
    "start_time": "2022-03-19T16:11:52.673Z"
   },
   {
    "duration": 13,
    "start_time": "2022-03-19T16:11:52.681Z"
   },
   {
    "duration": 8,
    "start_time": "2022-03-19T16:11:52.697Z"
   },
   {
    "duration": 8,
    "start_time": "2022-03-19T16:11:52.707Z"
   },
   {
    "duration": 83,
    "start_time": "2022-03-19T16:11:52.721Z"
   },
   {
    "duration": 20,
    "start_time": "2022-03-19T16:11:52.807Z"
   },
   {
    "duration": 37,
    "start_time": "2022-03-19T16:11:52.830Z"
   },
   {
    "duration": 8,
    "start_time": "2022-03-19T16:11:52.870Z"
   },
   {
    "duration": 9,
    "start_time": "2022-03-19T16:11:52.880Z"
   },
   {
    "duration": 8,
    "start_time": "2022-03-19T16:11:52.891Z"
   },
   {
    "duration": 15,
    "start_time": "2022-03-19T16:11:52.901Z"
   },
   {
    "duration": 51,
    "start_time": "2022-03-19T16:11:52.919Z"
   },
   {
    "duration": 7,
    "start_time": "2022-03-19T16:11:52.973Z"
   },
   {
    "duration": 36,
    "start_time": "2022-03-19T16:11:52.982Z"
   },
   {
    "duration": 11,
    "start_time": "2022-03-19T16:11:53.020Z"
   },
   {
    "duration": 346,
    "start_time": "2022-03-19T16:11:53.033Z"
   },
   {
    "duration": 13,
    "start_time": "2022-03-19T16:11:53.381Z"
   },
   {
    "duration": 343,
    "start_time": "2022-03-19T16:11:53.396Z"
   },
   {
    "duration": 28,
    "start_time": "2022-03-19T16:11:53.741Z"
   },
   {
    "duration": 234,
    "start_time": "2022-03-19T16:11:53.771Z"
   },
   {
    "duration": 14,
    "start_time": "2022-03-19T16:11:54.008Z"
   },
   {
    "duration": 334,
    "start_time": "2022-03-19T16:11:54.025Z"
   },
   {
    "duration": 12,
    "start_time": "2022-03-19T16:11:54.368Z"
   },
   {
    "duration": 369,
    "start_time": "2022-03-19T16:11:54.382Z"
   },
   {
    "duration": 15,
    "start_time": "2022-03-19T16:11:54.753Z"
   },
   {
    "duration": 7,
    "start_time": "2022-03-19T16:11:54.770Z"
   },
   {
    "duration": 8,
    "start_time": "2022-03-19T16:11:54.780Z"
   },
   {
    "duration": 106,
    "start_time": "2022-03-19T16:11:54.791Z"
   },
   {
    "duration": 42,
    "start_time": "2022-03-19T16:11:54.900Z"
   },
   {
    "duration": 258,
    "start_time": "2022-03-19T16:11:54.946Z"
   },
   {
    "duration": 31,
    "start_time": "2022-03-19T16:11:55.207Z"
   },
   {
    "duration": 247,
    "start_time": "2022-03-19T16:11:55.240Z"
   },
   {
    "duration": 29,
    "start_time": "2022-03-19T16:11:55.490Z"
   },
   {
    "duration": 259,
    "start_time": "2022-03-19T16:11:55.522Z"
   },
   {
    "duration": 52,
    "start_time": "2022-03-19T16:11:55.783Z"
   },
   {
    "duration": 41,
    "start_time": "2022-03-19T16:11:55.837Z"
   },
   {
    "duration": 189,
    "start_time": "2022-03-19T16:26:21.469Z"
   },
   {
    "duration": 23,
    "start_time": "2022-03-19T16:26:27.779Z"
   },
   {
    "duration": 11,
    "start_time": "2022-03-19T16:26:28.945Z"
   },
   {
    "duration": 4,
    "start_time": "2022-03-19T16:27:01.863Z"
   },
   {
    "duration": 7,
    "start_time": "2022-03-19T16:27:06.644Z"
   },
   {
    "duration": 13,
    "start_time": "2022-03-19T16:28:09.491Z"
   },
   {
    "duration": 12,
    "start_time": "2022-03-19T16:30:00.025Z"
   },
   {
    "duration": 5,
    "start_time": "2022-03-19T16:30:29.424Z"
   },
   {
    "duration": 11,
    "start_time": "2022-03-19T16:30:32.563Z"
   },
   {
    "duration": 1003,
    "start_time": "2022-03-19T16:30:41.974Z"
   },
   {
    "duration": 21,
    "start_time": "2022-03-19T16:30:42.980Z"
   },
   {
    "duration": 118,
    "start_time": "2022-03-19T16:30:43.003Z"
   },
   {
    "duration": 5,
    "start_time": "2022-03-19T16:30:43.123Z"
   },
   {
    "duration": 9,
    "start_time": "2022-03-19T16:30:43.132Z"
   },
   {
    "duration": 24,
    "start_time": "2022-03-19T16:30:43.144Z"
   },
   {
    "duration": 13,
    "start_time": "2022-03-19T16:30:43.171Z"
   },
   {
    "duration": 8,
    "start_time": "2022-03-19T16:30:43.186Z"
   },
   {
    "duration": 9,
    "start_time": "2022-03-19T16:30:43.197Z"
   },
   {
    "duration": 90,
    "start_time": "2022-03-19T16:30:43.209Z"
   },
   {
    "duration": 28,
    "start_time": "2022-03-19T16:30:43.301Z"
   },
   {
    "duration": 35,
    "start_time": "2022-03-19T16:30:43.332Z"
   },
   {
    "duration": 11,
    "start_time": "2022-03-19T16:30:43.370Z"
   },
   {
    "duration": 8,
    "start_time": "2022-03-19T16:30:43.388Z"
   },
   {
    "duration": 9,
    "start_time": "2022-03-19T16:30:43.399Z"
   },
   {
    "duration": 21,
    "start_time": "2022-03-19T16:30:43.411Z"
   },
   {
    "duration": 33,
    "start_time": "2022-03-19T16:30:43.434Z"
   },
   {
    "duration": 6,
    "start_time": "2022-03-19T16:30:43.470Z"
   },
   {
    "duration": 38,
    "start_time": "2022-03-19T16:30:43.479Z"
   },
   {
    "duration": 13,
    "start_time": "2022-03-19T16:30:43.520Z"
   },
   {
    "duration": 474,
    "start_time": "2022-03-19T16:30:43.567Z"
   },
   {
    "duration": 25,
    "start_time": "2022-03-19T16:30:44.044Z"
   },
   {
    "duration": 330,
    "start_time": "2022-03-19T16:30:44.072Z"
   },
   {
    "duration": 13,
    "start_time": "2022-03-19T16:30:44.405Z"
   },
   {
    "duration": 274,
    "start_time": "2022-03-19T16:30:44.421Z"
   },
   {
    "duration": 13,
    "start_time": "2022-03-19T16:30:44.708Z"
   },
   {
    "duration": 409,
    "start_time": "2022-03-19T16:30:44.724Z"
   },
   {
    "duration": 13,
    "start_time": "2022-03-19T16:30:45.135Z"
   },
   {
    "duration": 356,
    "start_time": "2022-03-19T16:30:45.167Z"
   },
   {
    "duration": 9,
    "start_time": "2022-03-19T16:30:45.525Z"
   },
   {
    "duration": 33,
    "start_time": "2022-03-19T16:30:45.537Z"
   },
   {
    "duration": 9,
    "start_time": "2022-03-19T16:30:45.573Z"
   },
   {
    "duration": 92,
    "start_time": "2022-03-19T16:30:45.585Z"
   },
   {
    "duration": 43,
    "start_time": "2022-03-19T16:30:45.679Z"
   },
   {
    "duration": 273,
    "start_time": "2022-03-19T16:30:45.724Z"
   },
   {
    "duration": 32,
    "start_time": "2022-03-19T16:30:45.999Z"
   },
   {
    "duration": 255,
    "start_time": "2022-03-19T16:30:46.034Z"
   },
   {
    "duration": 32,
    "start_time": "2022-03-19T16:30:46.292Z"
   },
   {
    "duration": 273,
    "start_time": "2022-03-19T16:30:46.327Z"
   },
   {
    "duration": 65,
    "start_time": "2022-03-19T16:30:46.602Z"
   },
   {
    "duration": 24,
    "start_time": "2022-03-19T16:30:46.673Z"
   },
   {
    "duration": 24,
    "start_time": "2022-03-19T16:30:46.699Z"
   },
   {
    "duration": 9,
    "start_time": "2022-03-19T16:30:46.725Z"
   },
   {
    "duration": 38,
    "start_time": "2022-03-19T16:30:46.736Z"
   },
   {
    "duration": 182,
    "start_time": "2022-03-19T16:35:10.507Z"
   },
   {
    "duration": 78,
    "start_time": "2022-03-19T16:36:59.851Z"
   },
   {
    "duration": 84,
    "start_time": "2022-03-19T16:37:28.823Z"
   },
   {
    "duration": 54,
    "start_time": "2022-03-19T16:38:22.765Z"
   },
   {
    "duration": 53,
    "start_time": "2022-03-19T16:38:30.624Z"
   },
   {
    "duration": 51,
    "start_time": "2022-03-19T16:38:48.751Z"
   },
   {
    "duration": 51,
    "start_time": "2022-03-19T16:39:03.193Z"
   },
   {
    "duration": 63,
    "start_time": "2022-03-19T16:39:13.450Z"
   },
   {
    "duration": 51,
    "start_time": "2022-03-19T16:41:33.643Z"
   },
   {
    "duration": 46,
    "start_time": "2022-03-19T16:41:54.083Z"
   },
   {
    "duration": 63,
    "start_time": "2022-03-19T16:42:49.591Z"
   },
   {
    "duration": 1279,
    "start_time": "2022-03-19T16:43:06.314Z"
   },
   {
    "duration": 22,
    "start_time": "2022-03-19T16:43:07.596Z"
   },
   {
    "duration": 121,
    "start_time": "2022-03-19T16:43:07.620Z"
   },
   {
    "duration": 5,
    "start_time": "2022-03-19T16:43:07.744Z"
   },
   {
    "duration": 21,
    "start_time": "2022-03-19T16:43:07.752Z"
   },
   {
    "duration": 12,
    "start_time": "2022-03-19T16:43:07.776Z"
   },
   {
    "duration": 12,
    "start_time": "2022-03-19T16:43:07.791Z"
   },
   {
    "duration": 6,
    "start_time": "2022-03-19T16:43:07.806Z"
   },
   {
    "duration": 11,
    "start_time": "2022-03-19T16:43:07.815Z"
   },
   {
    "duration": 69,
    "start_time": "2022-03-19T16:43:07.828Z"
   },
   {
    "duration": 29,
    "start_time": "2022-03-19T16:43:07.899Z"
   },
   {
    "duration": 37,
    "start_time": "2022-03-19T16:43:07.931Z"
   },
   {
    "duration": 10,
    "start_time": "2022-03-19T16:43:07.971Z"
   },
   {
    "duration": 9,
    "start_time": "2022-03-19T16:43:07.987Z"
   },
   {
    "duration": 18,
    "start_time": "2022-03-19T16:43:07.999Z"
   },
   {
    "duration": 18,
    "start_time": "2022-03-19T16:43:08.020Z"
   },
   {
    "duration": 32,
    "start_time": "2022-03-19T16:43:08.040Z"
   },
   {
    "duration": 13,
    "start_time": "2022-03-19T16:43:08.074Z"
   },
   {
    "duration": 40,
    "start_time": "2022-03-19T16:43:08.089Z"
   },
   {
    "duration": 41,
    "start_time": "2022-03-19T16:43:08.132Z"
   },
   {
    "duration": 471,
    "start_time": "2022-03-19T16:43:08.175Z"
   },
   {
    "duration": 24,
    "start_time": "2022-03-19T16:43:08.650Z"
   },
   {
    "duration": 474,
    "start_time": "2022-03-19T16:43:08.677Z"
   },
   {
    "duration": 24,
    "start_time": "2022-03-19T16:43:09.154Z"
   },
   {
    "duration": 344,
    "start_time": "2022-03-19T16:43:09.181Z"
   },
   {
    "duration": 17,
    "start_time": "2022-03-19T16:43:09.528Z"
   },
   {
    "duration": 343,
    "start_time": "2022-03-19T16:43:09.548Z"
   },
   {
    "duration": 17,
    "start_time": "2022-03-19T16:43:09.894Z"
   },
   {
    "duration": 367,
    "start_time": "2022-03-19T16:43:09.914Z"
   },
   {
    "duration": 8,
    "start_time": "2022-03-19T16:43:10.283Z"
   },
   {
    "duration": 7,
    "start_time": "2022-03-19T16:43:10.294Z"
   },
   {
    "duration": 7,
    "start_time": "2022-03-19T16:43:10.303Z"
   },
   {
    "duration": 91,
    "start_time": "2022-03-19T16:43:10.313Z"
   },
   {
    "duration": 29,
    "start_time": "2022-03-19T16:43:10.407Z"
   },
   {
    "duration": 250,
    "start_time": "2022-03-19T16:43:10.438Z"
   },
   {
    "duration": 31,
    "start_time": "2022-03-19T16:43:10.690Z"
   },
   {
    "duration": 247,
    "start_time": "2022-03-19T16:43:10.723Z"
   },
   {
    "duration": 30,
    "start_time": "2022-03-19T16:43:10.972Z"
   },
   {
    "duration": 256,
    "start_time": "2022-03-19T16:43:11.004Z"
   },
   {
    "duration": 48,
    "start_time": "2022-03-19T16:43:11.267Z"
   },
   {
    "duration": 24,
    "start_time": "2022-03-19T16:43:11.320Z"
   },
   {
    "duration": 69,
    "start_time": "2022-03-19T16:43:11.346Z"
   },
   {
    "duration": 50,
    "start_time": "2022-03-19T16:43:40.871Z"
   },
   {
    "duration": 50,
    "start_time": "2022-03-19T16:43:57.704Z"
   },
   {
    "duration": 37,
    "start_time": "2022-03-19T16:44:12.953Z"
   },
   {
    "duration": 29,
    "start_time": "2022-03-19T16:44:47.642Z"
   },
   {
    "duration": 41,
    "start_time": "2022-03-19T16:44:53.880Z"
   },
   {
    "duration": 26,
    "start_time": "2022-03-19T16:45:03.272Z"
   },
   {
    "duration": 509,
    "start_time": "2022-03-19T16:45:49.192Z"
   },
   {
    "duration": 1350,
    "start_time": "2022-03-19T16:46:05.952Z"
   },
   {
    "duration": 30,
    "start_time": "2022-03-19T16:46:07.305Z"
   },
   {
    "duration": 115,
    "start_time": "2022-03-19T16:46:07.338Z"
   },
   {
    "duration": 15,
    "start_time": "2022-03-19T16:46:07.455Z"
   },
   {
    "duration": 13,
    "start_time": "2022-03-19T16:46:07.473Z"
   },
   {
    "duration": 5,
    "start_time": "2022-03-19T16:46:07.488Z"
   },
   {
    "duration": 12,
    "start_time": "2022-03-19T16:46:07.495Z"
   },
   {
    "duration": 7,
    "start_time": "2022-03-19T16:46:07.509Z"
   },
   {
    "duration": 9,
    "start_time": "2022-03-19T16:46:07.518Z"
   },
   {
    "duration": 73,
    "start_time": "2022-03-19T16:46:07.529Z"
   },
   {
    "duration": 20,
    "start_time": "2022-03-19T16:46:07.605Z"
   },
   {
    "duration": 6,
    "start_time": "2022-03-19T16:46:07.627Z"
   },
   {
    "duration": 38,
    "start_time": "2022-03-19T16:46:07.636Z"
   },
   {
    "duration": 7,
    "start_time": "2022-03-19T16:46:07.680Z"
   },
   {
    "duration": 7,
    "start_time": "2022-03-19T16:46:07.690Z"
   },
   {
    "duration": 16,
    "start_time": "2022-03-19T16:46:07.700Z"
   },
   {
    "duration": 51,
    "start_time": "2022-03-19T16:46:07.718Z"
   },
   {
    "duration": 6,
    "start_time": "2022-03-19T16:46:07.772Z"
   },
   {
    "duration": 41,
    "start_time": "2022-03-19T16:46:07.781Z"
   },
   {
    "duration": 12,
    "start_time": "2022-03-19T16:46:07.824Z"
   },
   {
    "duration": 477,
    "start_time": "2022-03-19T16:46:07.868Z"
   },
   {
    "duration": 28,
    "start_time": "2022-03-19T16:46:08.348Z"
   },
   {
    "duration": 343,
    "start_time": "2022-03-19T16:46:08.379Z"
   },
   {
    "duration": 14,
    "start_time": "2022-03-19T16:46:08.725Z"
   },
   {
    "duration": 255,
    "start_time": "2022-03-19T16:46:08.741Z"
   },
   {
    "duration": 12,
    "start_time": "2022-03-19T16:46:08.998Z"
   },
   {
    "duration": 354,
    "start_time": "2022-03-19T16:46:09.013Z"
   },
   {
    "duration": 15,
    "start_time": "2022-03-19T16:46:09.369Z"
   },
   {
    "duration": 370,
    "start_time": "2022-03-19T16:46:09.386Z"
   },
   {
    "duration": 12,
    "start_time": "2022-03-19T16:46:09.759Z"
   },
   {
    "duration": 7,
    "start_time": "2022-03-19T16:46:09.774Z"
   },
   {
    "duration": 7,
    "start_time": "2022-03-19T16:46:09.783Z"
   },
   {
    "duration": 93,
    "start_time": "2022-03-19T16:46:09.793Z"
   },
   {
    "duration": 30,
    "start_time": "2022-03-19T16:46:09.889Z"
   },
   {
    "duration": 267,
    "start_time": "2022-03-19T16:46:09.922Z"
   },
   {
    "duration": 32,
    "start_time": "2022-03-19T16:46:10.192Z"
   },
   {
    "duration": 259,
    "start_time": "2022-03-19T16:46:10.226Z"
   },
   {
    "duration": 32,
    "start_time": "2022-03-19T16:46:10.488Z"
   },
   {
    "duration": 275,
    "start_time": "2022-03-19T16:46:10.523Z"
   },
   {
    "duration": 68,
    "start_time": "2022-03-19T16:46:10.801Z"
   },
   {
    "duration": 23,
    "start_time": "2022-03-19T16:46:10.876Z"
   },
   {
    "duration": 577,
    "start_time": "2022-03-19T16:46:10.902Z"
   },
   {
    "duration": 0,
    "start_time": "2022-03-19T16:46:11.481Z"
   },
   {
    "duration": 54,
    "start_time": "2022-03-19T16:46:44.269Z"
   },
   {
    "duration": 59,
    "start_time": "2022-03-19T16:47:22.503Z"
   },
   {
    "duration": 36,
    "start_time": "2022-03-19T16:48:09.742Z"
   },
   {
    "duration": 1777,
    "start_time": "2022-03-19T16:50:36.912Z"
   },
   {
    "duration": 39,
    "start_time": "2022-03-19T16:50:45.312Z"
   },
   {
    "duration": 40,
    "start_time": "2022-03-19T16:53:34.771Z"
   },
   {
    "duration": 123,
    "start_time": "2022-03-19T16:54:00.819Z"
   },
   {
    "duration": 98,
    "start_time": "2022-03-19T16:54:24.590Z"
   },
   {
    "duration": 93,
    "start_time": "2022-03-19T16:56:19.602Z"
   },
   {
    "duration": 44,
    "start_time": "2022-03-19T16:57:51.432Z"
   },
   {
    "duration": 92,
    "start_time": "2022-03-19T16:58:11.351Z"
   },
   {
    "duration": 92,
    "start_time": "2022-03-19T16:58:27.623Z"
   },
   {
    "duration": 38,
    "start_time": "2022-03-19T16:58:35.602Z"
   },
   {
    "duration": 64,
    "start_time": "2022-03-19T17:01:17.905Z"
   },
   {
    "duration": 71,
    "start_time": "2022-03-19T17:01:36.264Z"
   },
   {
    "duration": 48,
    "start_time": "2022-03-19T17:01:42.180Z"
   },
   {
    "duration": 54,
    "start_time": "2022-03-19T17:01:56.073Z"
   },
   {
    "duration": 40,
    "start_time": "2022-03-19T17:03:04.622Z"
   },
   {
    "duration": 41,
    "start_time": "2022-03-19T17:03:16.372Z"
   },
   {
    "duration": 1665,
    "start_time": "2022-03-19T17:03:51.740Z"
   },
   {
    "duration": 105,
    "start_time": "2022-03-19T17:06:19.265Z"
   },
   {
    "duration": 39,
    "start_time": "2022-03-19T17:06:35.813Z"
   },
   {
    "duration": 37,
    "start_time": "2022-03-19T17:06:40.764Z"
   },
   {
    "duration": 38,
    "start_time": "2022-03-19T17:06:57.170Z"
   },
   {
    "duration": 37,
    "start_time": "2022-03-19T17:07:24.353Z"
   },
   {
    "duration": 38,
    "start_time": "2022-03-19T17:07:33.943Z"
   },
   {
    "duration": 1394,
    "start_time": "2022-03-19T17:07:39.635Z"
   },
   {
    "duration": 35,
    "start_time": "2022-03-19T17:07:41.032Z"
   },
   {
    "duration": 155,
    "start_time": "2022-03-19T17:07:41.069Z"
   },
   {
    "duration": 6,
    "start_time": "2022-03-19T17:07:41.227Z"
   },
   {
    "duration": 13,
    "start_time": "2022-03-19T17:07:41.238Z"
   },
   {
    "duration": 9,
    "start_time": "2022-03-19T17:07:41.270Z"
   },
   {
    "duration": 12,
    "start_time": "2022-03-19T17:07:41.281Z"
   },
   {
    "duration": 7,
    "start_time": "2022-03-19T17:07:41.296Z"
   },
   {
    "duration": 8,
    "start_time": "2022-03-19T17:07:41.305Z"
   },
   {
    "duration": 75,
    "start_time": "2022-03-19T17:07:41.315Z"
   },
   {
    "duration": 20,
    "start_time": "2022-03-19T17:07:41.393Z"
   },
   {
    "duration": 6,
    "start_time": "2022-03-19T17:07:41.416Z"
   },
   {
    "duration": 16,
    "start_time": "2022-03-19T17:07:41.424Z"
   },
   {
    "duration": 7,
    "start_time": "2022-03-19T17:07:41.471Z"
   },
   {
    "duration": 8,
    "start_time": "2022-03-19T17:07:41.481Z"
   },
   {
    "duration": 14,
    "start_time": "2022-03-19T17:07:41.491Z"
   },
   {
    "duration": 5,
    "start_time": "2022-03-19T17:07:41.508Z"
   },
   {
    "duration": 9,
    "start_time": "2022-03-19T17:07:41.515Z"
   },
   {
    "duration": 77,
    "start_time": "2022-03-19T17:07:41.526Z"
   },
   {
    "duration": 12,
    "start_time": "2022-03-19T17:07:41.605Z"
   },
   {
    "duration": 329,
    "start_time": "2022-03-19T17:07:41.619Z"
   },
   {
    "duration": 24,
    "start_time": "2022-03-19T17:07:41.950Z"
   },
   {
    "duration": 330,
    "start_time": "2022-03-19T17:07:41.977Z"
   },
   {
    "duration": 12,
    "start_time": "2022-03-19T17:07:42.310Z"
   },
   {
    "duration": 245,
    "start_time": "2022-03-19T17:07:42.325Z"
   },
   {
    "duration": 13,
    "start_time": "2022-03-19T17:07:42.573Z"
   },
   {
    "duration": 341,
    "start_time": "2022-03-19T17:07:42.588Z"
   },
   {
    "duration": 12,
    "start_time": "2022-03-19T17:07:42.932Z"
   },
   {
    "duration": 378,
    "start_time": "2022-03-19T17:07:42.946Z"
   },
   {
    "duration": 7,
    "start_time": "2022-03-19T17:07:43.327Z"
   },
   {
    "duration": 7,
    "start_time": "2022-03-19T17:07:43.337Z"
   },
   {
    "duration": 9,
    "start_time": "2022-03-19T17:07:43.369Z"
   },
   {
    "duration": 57,
    "start_time": "2022-03-19T17:07:43.380Z"
   },
   {
    "duration": 58,
    "start_time": "2022-03-19T17:07:43.440Z"
   },
   {
    "duration": 261,
    "start_time": "2022-03-19T17:07:43.500Z"
   },
   {
    "duration": 31,
    "start_time": "2022-03-19T17:07:43.767Z"
   },
   {
    "duration": 248,
    "start_time": "2022-03-19T17:07:43.800Z"
   },
   {
    "duration": 35,
    "start_time": "2022-03-19T17:07:44.050Z"
   },
   {
    "duration": 269,
    "start_time": "2022-03-19T17:07:44.087Z"
   },
   {
    "duration": 44,
    "start_time": "2022-03-19T17:07:44.359Z"
   },
   {
    "duration": 13,
    "start_time": "2022-03-19T17:07:44.409Z"
   },
   {
    "duration": 55,
    "start_time": "2022-03-19T17:09:10.627Z"
   },
   {
    "duration": 57,
    "start_time": "2022-03-19T17:09:30.728Z"
   },
   {
    "duration": 978,
    "start_time": "2022-03-19T17:09:57.857Z"
   },
   {
    "duration": 34,
    "start_time": "2022-03-19T17:09:58.837Z"
   },
   {
    "duration": 113,
    "start_time": "2022-03-19T17:09:58.873Z"
   },
   {
    "duration": 5,
    "start_time": "2022-03-19T17:09:58.989Z"
   },
   {
    "duration": 9,
    "start_time": "2022-03-19T17:09:58.996Z"
   },
   {
    "duration": 6,
    "start_time": "2022-03-19T17:09:59.007Z"
   },
   {
    "duration": 13,
    "start_time": "2022-03-19T17:09:59.015Z"
   },
   {
    "duration": 7,
    "start_time": "2022-03-19T17:09:59.068Z"
   },
   {
    "duration": 9,
    "start_time": "2022-03-19T17:09:59.078Z"
   },
   {
    "duration": 76,
    "start_time": "2022-03-19T17:09:59.092Z"
   },
   {
    "duration": 24,
    "start_time": "2022-03-19T17:09:59.171Z"
   },
   {
    "duration": 9,
    "start_time": "2022-03-19T17:09:59.198Z"
   },
   {
    "duration": 6,
    "start_time": "2022-03-19T17:09:59.210Z"
   },
   {
    "duration": 8,
    "start_time": "2022-03-19T17:09:59.218Z"
   },
   {
    "duration": 44,
    "start_time": "2022-03-19T17:09:59.228Z"
   },
   {
    "duration": 14,
    "start_time": "2022-03-19T17:09:59.274Z"
   },
   {
    "duration": 6,
    "start_time": "2022-03-19T17:09:59.291Z"
   },
   {
    "duration": 6,
    "start_time": "2022-03-19T17:09:59.299Z"
   },
   {
    "duration": 72,
    "start_time": "2022-03-19T17:09:59.307Z"
   },
   {
    "duration": 11,
    "start_time": "2022-03-19T17:09:59.381Z"
   },
   {
    "duration": 327,
    "start_time": "2022-03-19T17:09:59.394Z"
   },
   {
    "duration": 15,
    "start_time": "2022-03-19T17:09:59.724Z"
   },
   {
    "duration": 350,
    "start_time": "2022-03-19T17:09:59.741Z"
   },
   {
    "duration": 11,
    "start_time": "2022-03-19T17:10:00.094Z"
   },
   {
    "duration": 240,
    "start_time": "2022-03-19T17:10:00.107Z"
   },
   {
    "duration": 22,
    "start_time": "2022-03-19T17:10:00.349Z"
   },
   {
    "duration": 332,
    "start_time": "2022-03-19T17:10:00.373Z"
   },
   {
    "duration": 12,
    "start_time": "2022-03-19T17:10:00.710Z"
   },
   {
    "duration": 573,
    "start_time": "2022-03-19T17:10:00.724Z"
   },
   {
    "duration": 9,
    "start_time": "2022-03-19T17:10:01.300Z"
   },
   {
    "duration": 14,
    "start_time": "2022-03-19T17:10:01.312Z"
   },
   {
    "duration": 13,
    "start_time": "2022-03-19T17:10:01.329Z"
   },
   {
    "duration": 55,
    "start_time": "2022-03-19T17:10:01.368Z"
   },
   {
    "duration": 55,
    "start_time": "2022-03-19T17:10:01.426Z"
   },
   {
    "duration": 240,
    "start_time": "2022-03-19T17:10:01.483Z"
   },
   {
    "duration": 44,
    "start_time": "2022-03-19T17:10:01.725Z"
   },
   {
    "duration": 246,
    "start_time": "2022-03-19T17:10:01.771Z"
   },
   {
    "duration": 49,
    "start_time": "2022-03-19T17:10:02.020Z"
   },
   {
    "duration": 254,
    "start_time": "2022-03-19T17:10:02.071Z"
   },
   {
    "duration": 54,
    "start_time": "2022-03-19T17:10:02.327Z"
   },
   {
    "duration": 45,
    "start_time": "2022-03-19T17:10:31.186Z"
   },
   {
    "duration": 43,
    "start_time": "2022-03-19T17:10:40.512Z"
   },
   {
    "duration": 122,
    "start_time": "2022-03-19T17:11:00.121Z"
   },
   {
    "duration": 109,
    "start_time": "2022-03-19T17:11:11.550Z"
   },
   {
    "duration": 92,
    "start_time": "2022-03-19T17:11:17.047Z"
   },
   {
    "duration": 39,
    "start_time": "2022-03-19T17:11:39.287Z"
   },
   {
    "duration": 38,
    "start_time": "2022-03-19T17:11:50.747Z"
   },
   {
    "duration": 42,
    "start_time": "2022-03-19T17:12:59.776Z"
   },
   {
    "duration": 38,
    "start_time": "2022-03-19T17:13:07.987Z"
   },
   {
    "duration": 41,
    "start_time": "2022-03-19T17:13:18.906Z"
   },
   {
    "duration": 41,
    "start_time": "2022-03-19T17:13:25.476Z"
   },
   {
    "duration": 274,
    "start_time": "2022-03-19T17:14:15.166Z"
   },
   {
    "duration": 100,
    "start_time": "2022-03-19T17:14:24.276Z"
   },
   {
    "duration": 42,
    "start_time": "2022-03-19T17:14:41.078Z"
   },
   {
    "duration": 59,
    "start_time": "2022-03-19T17:14:47.073Z"
   },
   {
    "duration": 105,
    "start_time": "2022-03-19T17:16:28.595Z"
   },
   {
    "duration": 1691,
    "start_time": "2022-03-19T17:16:56.314Z"
   },
   {
    "duration": 1863,
    "start_time": "2022-03-19T17:17:02.453Z"
   },
   {
    "duration": 39,
    "start_time": "2022-03-19T17:17:17.907Z"
   },
   {
    "duration": 1706,
    "start_time": "2022-03-19T17:17:26.037Z"
   },
   {
    "duration": 1873,
    "start_time": "2022-03-19T17:17:30.518Z"
   },
   {
    "duration": 7,
    "start_time": "2022-03-19T17:17:55.097Z"
   },
   {
    "duration": 86,
    "start_time": "2022-03-19T17:18:15.643Z"
   },
   {
    "duration": 69,
    "start_time": "2022-03-19T17:18:23.636Z"
   },
   {
    "duration": 61,
    "start_time": "2022-03-19T17:18:31.413Z"
   },
   {
    "duration": 57,
    "start_time": "2022-03-19T17:19:12.605Z"
   },
   {
    "duration": 354,
    "start_time": "2022-03-19T17:19:48.045Z"
   },
   {
    "duration": 11,
    "start_time": "2022-03-19T17:20:10.059Z"
   },
   {
    "duration": 238,
    "start_time": "2022-03-19T17:20:19.345Z"
   },
   {
    "duration": 63,
    "start_time": "2022-03-19T17:20:40.268Z"
   },
   {
    "duration": 59,
    "start_time": "2022-03-19T17:21:36.667Z"
   },
   {
    "duration": 228,
    "start_time": "2022-03-19T17:26:05.925Z"
   },
   {
    "duration": 290,
    "start_time": "2022-03-19T17:26:13.025Z"
   },
   {
    "duration": 553,
    "start_time": "2022-03-19T17:26:20.365Z"
   },
   {
    "duration": 362,
    "start_time": "2022-03-19T17:26:26.864Z"
   },
   {
    "duration": 13,
    "start_time": "2022-03-19T17:29:32.946Z"
   },
   {
    "duration": 367,
    "start_time": "2022-03-19T17:30:02.027Z"
   },
   {
    "duration": 938,
    "start_time": "2022-03-19T17:33:04.383Z"
   },
   {
    "duration": 22,
    "start_time": "2022-03-19T17:33:05.323Z"
   },
   {
    "duration": 112,
    "start_time": "2022-03-19T17:33:05.347Z"
   },
   {
    "duration": 5,
    "start_time": "2022-03-19T17:33:05.467Z"
   },
   {
    "duration": 12,
    "start_time": "2022-03-19T17:33:05.474Z"
   },
   {
    "duration": 10,
    "start_time": "2022-03-19T17:33:05.489Z"
   },
   {
    "duration": 13,
    "start_time": "2022-03-19T17:33:05.502Z"
   },
   {
    "duration": 13,
    "start_time": "2022-03-19T17:33:05.518Z"
   },
   {
    "duration": 37,
    "start_time": "2022-03-19T17:33:05.533Z"
   },
   {
    "duration": 43,
    "start_time": "2022-03-19T17:33:05.575Z"
   },
   {
    "duration": 48,
    "start_time": "2022-03-19T17:33:05.620Z"
   },
   {
    "duration": 9,
    "start_time": "2022-03-19T17:33:05.670Z"
   },
   {
    "duration": 11,
    "start_time": "2022-03-19T17:33:05.681Z"
   },
   {
    "duration": 9,
    "start_time": "2022-03-19T17:33:05.694Z"
   },
   {
    "duration": 8,
    "start_time": "2022-03-19T17:33:05.705Z"
   },
   {
    "duration": 13,
    "start_time": "2022-03-19T17:33:05.715Z"
   },
   {
    "duration": 5,
    "start_time": "2022-03-19T17:33:05.768Z"
   },
   {
    "duration": 15,
    "start_time": "2022-03-19T17:33:05.775Z"
   },
   {
    "duration": 42,
    "start_time": "2022-03-19T17:33:05.792Z"
   },
   {
    "duration": 36,
    "start_time": "2022-03-19T17:33:05.836Z"
   },
   {
    "duration": 475,
    "start_time": "2022-03-19T17:33:05.874Z"
   },
   {
    "duration": 26,
    "start_time": "2022-03-19T17:33:06.352Z"
   },
   {
    "duration": 346,
    "start_time": "2022-03-19T17:33:06.381Z"
   },
   {
    "duration": 13,
    "start_time": "2022-03-19T17:33:06.730Z"
   },
   {
    "duration": 255,
    "start_time": "2022-03-19T17:33:06.745Z"
   },
   {
    "duration": 16,
    "start_time": "2022-03-19T17:33:07.003Z"
   },
   {
    "duration": 334,
    "start_time": "2022-03-19T17:33:07.022Z"
   },
   {
    "duration": 17,
    "start_time": "2022-03-19T17:33:07.361Z"
   },
   {
    "duration": 368,
    "start_time": "2022-03-19T17:33:07.380Z"
   },
   {
    "duration": 17,
    "start_time": "2022-03-19T17:33:07.751Z"
   },
   {
    "duration": 6,
    "start_time": "2022-03-19T17:33:07.771Z"
   },
   {
    "duration": 17,
    "start_time": "2022-03-19T17:33:07.779Z"
   },
   {
    "duration": 83,
    "start_time": "2022-03-19T17:33:07.798Z"
   },
   {
    "duration": 31,
    "start_time": "2022-03-19T17:33:07.884Z"
   },
   {
    "duration": 368,
    "start_time": "2022-03-19T17:33:07.917Z"
   },
   {
    "duration": 45,
    "start_time": "2022-03-19T17:33:08.289Z"
   },
   {
    "duration": 353,
    "start_time": "2022-03-19T17:33:08.337Z"
   },
   {
    "duration": 29,
    "start_time": "2022-03-19T17:33:08.692Z"
   },
   {
    "duration": 269,
    "start_time": "2022-03-19T17:33:08.724Z"
   },
   {
    "duration": 179,
    "start_time": "2022-03-19T17:33:08.996Z"
   },
   {
    "duration": 13,
    "start_time": "2022-03-19T17:33:09.177Z"
   },
   {
    "duration": 49,
    "start_time": "2022-03-19T17:40:09.680Z"
   },
   {
    "duration": 63,
    "start_time": "2022-03-19T17:40:28.382Z"
   },
   {
    "duration": 17,
    "start_time": "2022-03-19T17:42:16.375Z"
   },
   {
    "duration": 63,
    "start_time": "2022-03-19T17:42:29.519Z"
   },
   {
    "duration": 96,
    "start_time": "2022-03-19T17:43:05.530Z"
   },
   {
    "duration": 33,
    "start_time": "2022-03-19T17:43:47.229Z"
   },
   {
    "duration": 16,
    "start_time": "2022-03-19T17:43:54.982Z"
   },
   {
    "duration": 47,
    "start_time": "2022-03-19T17:44:44.271Z"
   },
   {
    "duration": 1366,
    "start_time": "2022-03-19T17:44:50.243Z"
   },
   {
    "duration": 23,
    "start_time": "2022-03-19T17:44:51.612Z"
   },
   {
    "duration": 112,
    "start_time": "2022-03-19T17:44:51.637Z"
   },
   {
    "duration": 6,
    "start_time": "2022-03-19T17:44:51.753Z"
   },
   {
    "duration": 9,
    "start_time": "2022-03-19T17:44:51.767Z"
   },
   {
    "duration": 8,
    "start_time": "2022-03-19T17:44:51.779Z"
   },
   {
    "duration": 15,
    "start_time": "2022-03-19T17:44:51.789Z"
   },
   {
    "duration": 7,
    "start_time": "2022-03-19T17:44:51.806Z"
   },
   {
    "duration": 8,
    "start_time": "2022-03-19T17:44:51.816Z"
   },
   {
    "duration": 63,
    "start_time": "2022-03-19T17:44:51.830Z"
   },
   {
    "duration": 26,
    "start_time": "2022-03-19T17:44:51.896Z"
   },
   {
    "duration": 12,
    "start_time": "2022-03-19T17:44:51.924Z"
   },
   {
    "duration": 10,
    "start_time": "2022-03-19T17:44:51.939Z"
   },
   {
    "duration": 22,
    "start_time": "2022-03-19T17:44:51.953Z"
   },
   {
    "duration": 13,
    "start_time": "2022-03-19T17:44:51.978Z"
   },
   {
    "duration": 15,
    "start_time": "2022-03-19T17:44:51.993Z"
   },
   {
    "duration": 6,
    "start_time": "2022-03-19T17:44:52.010Z"
   },
   {
    "duration": 7,
    "start_time": "2022-03-19T17:44:52.019Z"
   },
   {
    "duration": 65,
    "start_time": "2022-03-19T17:44:52.029Z"
   },
   {
    "duration": 15,
    "start_time": "2022-03-19T17:44:52.098Z"
   },
   {
    "duration": 667,
    "start_time": "2022-03-19T17:44:52.116Z"
   },
   {
    "duration": 14,
    "start_time": "2022-03-19T17:44:52.786Z"
   },
   {
    "duration": 520,
    "start_time": "2022-03-19T17:44:52.802Z"
   },
   {
    "duration": 12,
    "start_time": "2022-03-19T17:44:53.325Z"
   },
   {
    "duration": 252,
    "start_time": "2022-03-19T17:44:53.340Z"
   },
   {
    "duration": 13,
    "start_time": "2022-03-19T17:44:53.594Z"
   },
   {
    "duration": 339,
    "start_time": "2022-03-19T17:44:53.610Z"
   },
   {
    "duration": 21,
    "start_time": "2022-03-19T17:44:53.956Z"
   },
   {
    "duration": 372,
    "start_time": "2022-03-19T17:44:53.980Z"
   },
   {
    "duration": 14,
    "start_time": "2022-03-19T17:44:54.355Z"
   },
   {
    "duration": 7,
    "start_time": "2022-03-19T17:44:54.371Z"
   },
   {
    "duration": 7,
    "start_time": "2022-03-19T17:44:54.381Z"
   },
   {
    "duration": 93,
    "start_time": "2022-03-19T17:44:54.391Z"
   },
   {
    "duration": 33,
    "start_time": "2022-03-19T17:44:54.486Z"
   },
   {
    "duration": 369,
    "start_time": "2022-03-19T17:44:54.521Z"
   },
   {
    "duration": 36,
    "start_time": "2022-03-19T17:44:54.893Z"
   },
   {
    "duration": 256,
    "start_time": "2022-03-19T17:44:54.931Z"
   },
   {
    "duration": 32,
    "start_time": "2022-03-19T17:44:55.189Z"
   },
   {
    "duration": 272,
    "start_time": "2022-03-19T17:44:55.223Z"
   },
   {
    "duration": 166,
    "start_time": "2022-03-19T17:44:55.497Z"
   },
   {
    "duration": 19,
    "start_time": "2022-03-19T17:44:55.668Z"
   },
   {
    "duration": 42,
    "start_time": "2022-03-19T17:44:55.690Z"
   },
   {
    "duration": 23,
    "start_time": "2022-03-19T17:45:19.250Z"
   },
   {
    "duration": 22,
    "start_time": "2022-03-19T17:46:06.224Z"
   },
   {
    "duration": 41,
    "start_time": "2022-03-19T17:46:10.364Z"
   },
   {
    "duration": 45,
    "start_time": "2022-03-19T17:46:13.427Z"
   },
   {
    "duration": 1297,
    "start_time": "2022-03-19T17:46:18.950Z"
   },
   {
    "duration": 42,
    "start_time": "2022-03-19T17:46:20.251Z"
   },
   {
    "duration": 152,
    "start_time": "2022-03-19T17:46:20.296Z"
   },
   {
    "duration": 18,
    "start_time": "2022-03-19T17:46:20.451Z"
   },
   {
    "duration": 10,
    "start_time": "2022-03-19T17:46:20.474Z"
   },
   {
    "duration": 12,
    "start_time": "2022-03-19T17:46:20.487Z"
   },
   {
    "duration": 20,
    "start_time": "2022-03-19T17:46:20.501Z"
   },
   {
    "duration": 10,
    "start_time": "2022-03-19T17:46:20.523Z"
   },
   {
    "duration": 33,
    "start_time": "2022-03-19T17:46:20.536Z"
   },
   {
    "duration": 45,
    "start_time": "2022-03-19T17:46:20.572Z"
   },
   {
    "duration": 56,
    "start_time": "2022-03-19T17:46:20.620Z"
   },
   {
    "duration": 7,
    "start_time": "2022-03-19T17:46:20.679Z"
   },
   {
    "duration": 10,
    "start_time": "2022-03-19T17:46:20.688Z"
   },
   {
    "duration": 7,
    "start_time": "2022-03-19T17:46:20.703Z"
   },
   {
    "duration": 9,
    "start_time": "2022-03-19T17:46:20.713Z"
   },
   {
    "duration": 15,
    "start_time": "2022-03-19T17:46:20.767Z"
   },
   {
    "duration": 7,
    "start_time": "2022-03-19T17:46:20.786Z"
   },
   {
    "duration": 8,
    "start_time": "2022-03-19T17:46:20.796Z"
   },
   {
    "duration": 73,
    "start_time": "2022-03-19T17:46:20.807Z"
   },
   {
    "duration": 15,
    "start_time": "2022-03-19T17:46:20.883Z"
   },
   {
    "duration": 370,
    "start_time": "2022-03-19T17:46:20.900Z"
   },
   {
    "duration": 13,
    "start_time": "2022-03-19T17:46:21.273Z"
   },
   {
    "duration": 516,
    "start_time": "2022-03-19T17:46:21.289Z"
   },
   {
    "duration": 17,
    "start_time": "2022-03-19T17:46:21.807Z"
   },
   {
    "duration": 340,
    "start_time": "2022-03-19T17:46:21.827Z"
   },
   {
    "duration": 19,
    "start_time": "2022-03-19T17:46:22.170Z"
   },
   {
    "duration": 481,
    "start_time": "2022-03-19T17:46:22.192Z"
   },
   {
    "duration": 26,
    "start_time": "2022-03-19T17:46:22.676Z"
   },
   {
    "duration": 433,
    "start_time": "2022-03-19T17:46:22.705Z"
   },
   {
    "duration": 8,
    "start_time": "2022-03-19T17:46:23.141Z"
   },
   {
    "duration": 16,
    "start_time": "2022-03-19T17:46:23.168Z"
   },
   {
    "duration": 7,
    "start_time": "2022-03-19T17:46:23.187Z"
   },
   {
    "duration": 86,
    "start_time": "2022-03-19T17:46:23.197Z"
   },
   {
    "duration": 33,
    "start_time": "2022-03-19T17:46:23.285Z"
   },
   {
    "duration": 360,
    "start_time": "2022-03-19T17:46:23.321Z"
   },
   {
    "duration": 47,
    "start_time": "2022-03-19T17:46:23.684Z"
   },
   {
    "duration": 281,
    "start_time": "2022-03-19T17:46:23.734Z"
   },
   {
    "duration": 51,
    "start_time": "2022-03-19T17:46:24.018Z"
   },
   {
    "duration": 373,
    "start_time": "2022-03-19T17:46:24.072Z"
   },
   {
    "duration": 177,
    "start_time": "2022-03-19T17:46:24.448Z"
   },
   {
    "duration": 13,
    "start_time": "2022-03-19T17:46:24.631Z"
   },
   {
    "duration": 83,
    "start_time": "2022-03-19T17:46:24.646Z"
   },
   {
    "duration": 22,
    "start_time": "2022-03-19T17:48:16.422Z"
   },
   {
    "duration": 36,
    "start_time": "2022-03-19T17:48:20.802Z"
   },
   {
    "duration": 954,
    "start_time": "2022-03-19T17:48:25.783Z"
   },
   {
    "duration": 39,
    "start_time": "2022-03-19T17:48:26.741Z"
   },
   {
    "duration": 149,
    "start_time": "2022-03-19T17:48:26.783Z"
   },
   {
    "duration": 6,
    "start_time": "2022-03-19T17:48:26.936Z"
   },
   {
    "duration": 25,
    "start_time": "2022-03-19T17:48:26.945Z"
   },
   {
    "duration": 5,
    "start_time": "2022-03-19T17:48:26.972Z"
   },
   {
    "duration": 15,
    "start_time": "2022-03-19T17:48:26.979Z"
   },
   {
    "duration": 6,
    "start_time": "2022-03-19T17:48:26.997Z"
   },
   {
    "duration": 10,
    "start_time": "2022-03-19T17:48:27.005Z"
   },
   {
    "duration": 73,
    "start_time": "2022-03-19T17:48:27.019Z"
   },
   {
    "duration": 20,
    "start_time": "2022-03-19T17:48:27.094Z"
   },
   {
    "duration": 8,
    "start_time": "2022-03-19T17:48:27.117Z"
   },
   {
    "duration": 40,
    "start_time": "2022-03-19T17:48:27.127Z"
   },
   {
    "duration": 9,
    "start_time": "2022-03-19T17:48:27.170Z"
   },
   {
    "duration": 9,
    "start_time": "2022-03-19T17:48:27.182Z"
   },
   {
    "duration": 18,
    "start_time": "2022-03-19T17:48:27.193Z"
   },
   {
    "duration": 6,
    "start_time": "2022-03-19T17:48:27.214Z"
   },
   {
    "duration": 47,
    "start_time": "2022-03-19T17:48:27.222Z"
   },
   {
    "duration": 39,
    "start_time": "2022-03-19T17:48:27.272Z"
   },
   {
    "duration": 12,
    "start_time": "2022-03-19T17:48:27.314Z"
   },
   {
    "duration": 328,
    "start_time": "2022-03-19T17:48:27.329Z"
   },
   {
    "duration": 17,
    "start_time": "2022-03-19T17:48:27.659Z"
   },
   {
    "duration": 328,
    "start_time": "2022-03-19T17:48:27.679Z"
   },
   {
    "duration": 12,
    "start_time": "2022-03-19T17:48:28.009Z"
   },
   {
    "duration": 252,
    "start_time": "2022-03-19T17:48:28.024Z"
   },
   {
    "duration": 13,
    "start_time": "2022-03-19T17:48:28.279Z"
   },
   {
    "duration": 476,
    "start_time": "2022-03-19T17:48:28.295Z"
   },
   {
    "duration": 16,
    "start_time": "2022-03-19T17:48:28.779Z"
   },
   {
    "duration": 557,
    "start_time": "2022-03-19T17:48:28.797Z"
   },
   {
    "duration": 16,
    "start_time": "2022-03-19T17:48:29.356Z"
   },
   {
    "duration": 7,
    "start_time": "2022-03-19T17:48:29.375Z"
   },
   {
    "duration": 9,
    "start_time": "2022-03-19T17:48:29.385Z"
   },
   {
    "duration": 109,
    "start_time": "2022-03-19T17:48:29.397Z"
   },
   {
    "duration": 41,
    "start_time": "2022-03-19T17:48:29.509Z"
   },
   {
    "duration": 307,
    "start_time": "2022-03-19T17:48:29.553Z"
   },
   {
    "duration": 33,
    "start_time": "2022-03-19T17:48:29.867Z"
   },
   {
    "duration": 248,
    "start_time": "2022-03-19T17:48:29.902Z"
   },
   {
    "duration": 41,
    "start_time": "2022-03-19T17:48:30.152Z"
   },
   {
    "duration": 266,
    "start_time": "2022-03-19T17:48:30.196Z"
   },
   {
    "duration": 169,
    "start_time": "2022-03-19T17:48:30.468Z"
   },
   {
    "duration": 13,
    "start_time": "2022-03-19T17:48:30.639Z"
   },
   {
    "duration": 43,
    "start_time": "2022-03-19T17:48:30.669Z"
   },
   {
    "duration": 11,
    "start_time": "2022-03-19T17:48:30.714Z"
   },
   {
    "duration": 20,
    "start_time": "2022-03-19T17:49:32.643Z"
   },
   {
    "duration": 1772,
    "start_time": "2022-03-19T17:49:55.786Z"
   },
   {
    "duration": 18,
    "start_time": "2022-03-19T17:50:00.734Z"
   },
   {
    "duration": 106,
    "start_time": "2022-03-19T17:51:10.721Z"
   },
   {
    "duration": 22,
    "start_time": "2022-03-19T17:51:19.351Z"
   },
   {
    "duration": 21,
    "start_time": "2022-03-19T17:52:25.811Z"
   },
   {
    "duration": 43,
    "start_time": "2022-03-19T17:52:43.944Z"
   },
   {
    "duration": 19,
    "start_time": "2022-03-19T17:54:05.824Z"
   },
   {
    "duration": 19,
    "start_time": "2022-03-19T17:54:21.544Z"
   },
   {
    "duration": 1155,
    "start_time": "2022-03-19T17:54:27.947Z"
   },
   {
    "duration": 22,
    "start_time": "2022-03-19T17:54:29.105Z"
   },
   {
    "duration": 129,
    "start_time": "2022-03-19T17:54:29.130Z"
   },
   {
    "duration": 9,
    "start_time": "2022-03-19T17:54:29.262Z"
   },
   {
    "duration": 10,
    "start_time": "2022-03-19T17:54:29.274Z"
   },
   {
    "duration": 7,
    "start_time": "2022-03-19T17:54:29.285Z"
   },
   {
    "duration": 13,
    "start_time": "2022-03-19T17:54:29.295Z"
   },
   {
    "duration": 6,
    "start_time": "2022-03-19T17:54:29.311Z"
   },
   {
    "duration": 7,
    "start_time": "2022-03-19T17:54:29.320Z"
   },
   {
    "duration": 43,
    "start_time": "2022-03-19T17:54:29.369Z"
   },
   {
    "duration": 21,
    "start_time": "2022-03-19T17:54:29.414Z"
   },
   {
    "duration": 38,
    "start_time": "2022-03-19T17:54:29.438Z"
   },
   {
    "duration": 10,
    "start_time": "2022-03-19T17:54:29.478Z"
   },
   {
    "duration": 8,
    "start_time": "2022-03-19T17:54:29.490Z"
   },
   {
    "duration": 12,
    "start_time": "2022-03-19T17:54:29.501Z"
   },
   {
    "duration": 13,
    "start_time": "2022-03-19T17:54:29.516Z"
   },
   {
    "duration": 40,
    "start_time": "2022-03-19T17:54:29.531Z"
   },
   {
    "duration": 6,
    "start_time": "2022-03-19T17:54:29.574Z"
   },
   {
    "duration": 36,
    "start_time": "2022-03-19T17:54:29.582Z"
   },
   {
    "duration": 48,
    "start_time": "2022-03-19T17:54:29.620Z"
   },
   {
    "duration": 424,
    "start_time": "2022-03-19T17:54:29.671Z"
   },
   {
    "duration": 14,
    "start_time": "2022-03-19T17:54:30.097Z"
   },
   {
    "duration": 356,
    "start_time": "2022-03-19T17:54:30.113Z"
   },
   {
    "duration": 12,
    "start_time": "2022-03-19T17:54:30.471Z"
   },
   {
    "duration": 256,
    "start_time": "2022-03-19T17:54:30.486Z"
   },
   {
    "duration": 30,
    "start_time": "2022-03-19T17:54:30.745Z"
   },
   {
    "duration": 343,
    "start_time": "2022-03-19T17:54:30.777Z"
   },
   {
    "duration": 12,
    "start_time": "2022-03-19T17:54:31.125Z"
   },
   {
    "duration": 396,
    "start_time": "2022-03-19T17:54:31.139Z"
   },
   {
    "duration": 9,
    "start_time": "2022-03-19T17:54:31.538Z"
   },
   {
    "duration": 7,
    "start_time": "2022-03-19T17:54:31.569Z"
   },
   {
    "duration": 12,
    "start_time": "2022-03-19T17:54:31.578Z"
   },
   {
    "duration": 98,
    "start_time": "2022-03-19T17:54:31.592Z"
   },
   {
    "duration": 34,
    "start_time": "2022-03-19T17:54:31.692Z"
   },
   {
    "duration": 280,
    "start_time": "2022-03-19T17:54:31.729Z"
   },
   {
    "duration": 33,
    "start_time": "2022-03-19T17:54:32.011Z"
   },
   {
    "duration": 260,
    "start_time": "2022-03-19T17:54:32.047Z"
   },
   {
    "duration": 31,
    "start_time": "2022-03-19T17:54:32.310Z"
   },
   {
    "duration": 275,
    "start_time": "2022-03-19T17:54:32.344Z"
   },
   {
    "duration": 170,
    "start_time": "2022-03-19T17:54:32.621Z"
   },
   {
    "duration": 16,
    "start_time": "2022-03-19T17:54:32.794Z"
   },
   {
    "duration": 29,
    "start_time": "2022-03-19T17:54:32.813Z"
   },
   {
    "duration": 12,
    "start_time": "2022-03-19T17:54:32.869Z"
   },
   {
    "duration": 23,
    "start_time": "2022-03-19T17:54:55.919Z"
   },
   {
    "duration": 1067,
    "start_time": "2022-03-19T17:55:04.470Z"
   },
   {
    "duration": 36,
    "start_time": "2022-03-19T17:55:05.540Z"
   },
   {
    "duration": 123,
    "start_time": "2022-03-19T17:55:05.579Z"
   },
   {
    "duration": 5,
    "start_time": "2022-03-19T17:55:05.705Z"
   },
   {
    "duration": 10,
    "start_time": "2022-03-19T17:55:05.712Z"
   },
   {
    "duration": 9,
    "start_time": "2022-03-19T17:55:05.724Z"
   },
   {
    "duration": 35,
    "start_time": "2022-03-19T17:55:05.735Z"
   },
   {
    "duration": 9,
    "start_time": "2022-03-19T17:55:05.772Z"
   },
   {
    "duration": 8,
    "start_time": "2022-03-19T17:55:05.784Z"
   },
   {
    "duration": 74,
    "start_time": "2022-03-19T17:55:05.799Z"
   },
   {
    "duration": 18,
    "start_time": "2022-03-19T17:55:05.875Z"
   },
   {
    "duration": 8,
    "start_time": "2022-03-19T17:55:05.895Z"
   },
   {
    "duration": 8,
    "start_time": "2022-03-19T17:55:05.906Z"
   },
   {
    "duration": 7,
    "start_time": "2022-03-19T17:55:05.916Z"
   },
   {
    "duration": 44,
    "start_time": "2022-03-19T17:55:05.925Z"
   },
   {
    "duration": 14,
    "start_time": "2022-03-19T17:55:05.971Z"
   },
   {
    "duration": 6,
    "start_time": "2022-03-19T17:55:05.987Z"
   },
   {
    "duration": 6,
    "start_time": "2022-03-19T17:55:05.995Z"
   },
   {
    "duration": 73,
    "start_time": "2022-03-19T17:55:06.003Z"
   },
   {
    "duration": 12,
    "start_time": "2022-03-19T17:55:06.078Z"
   },
   {
    "duration": 327,
    "start_time": "2022-03-19T17:55:06.092Z"
   },
   {
    "duration": 12,
    "start_time": "2022-03-19T17:55:06.422Z"
   },
   {
    "duration": 337,
    "start_time": "2022-03-19T17:55:06.436Z"
   },
   {
    "duration": 12,
    "start_time": "2022-03-19T17:55:06.775Z"
   },
   {
    "duration": 246,
    "start_time": "2022-03-19T17:55:06.789Z"
   },
   {
    "duration": 13,
    "start_time": "2022-03-19T17:55:07.037Z"
   },
   {
    "duration": 319,
    "start_time": "2022-03-19T17:55:07.052Z"
   },
   {
    "duration": 12,
    "start_time": "2022-03-19T17:55:07.376Z"
   },
   {
    "duration": 558,
    "start_time": "2022-03-19T17:55:07.391Z"
   },
   {
    "duration": 17,
    "start_time": "2022-03-19T17:55:07.952Z"
   },
   {
    "duration": 9,
    "start_time": "2022-03-19T17:55:07.971Z"
   },
   {
    "duration": 8,
    "start_time": "2022-03-19T17:55:07.983Z"
   },
   {
    "duration": 82,
    "start_time": "2022-03-19T17:55:07.993Z"
   },
   {
    "duration": 30,
    "start_time": "2022-03-19T17:55:08.079Z"
   },
   {
    "duration": 269,
    "start_time": "2022-03-19T17:55:08.112Z"
   },
   {
    "duration": 32,
    "start_time": "2022-03-19T17:55:08.384Z"
   },
   {
    "duration": 354,
    "start_time": "2022-03-19T17:55:08.418Z"
   },
   {
    "duration": 40,
    "start_time": "2022-03-19T17:55:08.775Z"
   },
   {
    "duration": 364,
    "start_time": "2022-03-19T17:55:08.818Z"
   },
   {
    "duration": 171,
    "start_time": "2022-03-19T17:55:09.185Z"
   },
   {
    "duration": 16,
    "start_time": "2022-03-19T17:55:09.358Z"
   },
   {
    "duration": 23,
    "start_time": "2022-03-19T17:55:12.863Z"
   },
   {
    "duration": 16,
    "start_time": "2022-03-19T17:55:17.469Z"
   },
   {
    "duration": 63,
    "start_time": "2022-03-19T17:55:25.120Z"
   },
   {
    "duration": 1338,
    "start_time": "2022-03-19T17:55:30.100Z"
   },
   {
    "duration": 41,
    "start_time": "2022-03-19T17:55:31.442Z"
   },
   {
    "duration": 163,
    "start_time": "2022-03-19T17:55:31.485Z"
   },
   {
    "duration": 18,
    "start_time": "2022-03-19T17:55:31.650Z"
   },
   {
    "duration": 11,
    "start_time": "2022-03-19T17:55:31.673Z"
   },
   {
    "duration": 7,
    "start_time": "2022-03-19T17:55:31.687Z"
   },
   {
    "duration": 22,
    "start_time": "2022-03-19T17:55:31.696Z"
   },
   {
    "duration": 7,
    "start_time": "2022-03-19T17:55:31.721Z"
   },
   {
    "duration": 42,
    "start_time": "2022-03-19T17:55:31.730Z"
   },
   {
    "duration": 58,
    "start_time": "2022-03-19T17:55:31.775Z"
   },
   {
    "duration": 47,
    "start_time": "2022-03-19T17:55:31.836Z"
   },
   {
    "duration": 8,
    "start_time": "2022-03-19T17:55:31.886Z"
   },
   {
    "duration": 10,
    "start_time": "2022-03-19T17:55:31.897Z"
   },
   {
    "duration": 9,
    "start_time": "2022-03-19T17:55:31.915Z"
   },
   {
    "duration": 43,
    "start_time": "2022-03-19T17:55:31.927Z"
   },
   {
    "duration": 16,
    "start_time": "2022-03-19T17:55:31.973Z"
   },
   {
    "duration": 6,
    "start_time": "2022-03-19T17:55:31.992Z"
   },
   {
    "duration": 12,
    "start_time": "2022-03-19T17:55:32.000Z"
   },
   {
    "duration": 74,
    "start_time": "2022-03-19T17:55:32.014Z"
   },
   {
    "duration": 12,
    "start_time": "2022-03-19T17:55:32.090Z"
   },
   {
    "duration": 434,
    "start_time": "2022-03-19T17:55:32.105Z"
   },
   {
    "duration": 25,
    "start_time": "2022-03-19T17:55:32.542Z"
   },
   {
    "duration": 321,
    "start_time": "2022-03-19T17:55:32.569Z"
   },
   {
    "duration": 11,
    "start_time": "2022-03-19T17:55:32.893Z"
   },
   {
    "duration": 244,
    "start_time": "2022-03-19T17:55:32.906Z"
   },
   {
    "duration": 21,
    "start_time": "2022-03-19T17:55:33.152Z"
   },
   {
    "duration": 340,
    "start_time": "2022-03-19T17:55:33.175Z"
   },
   {
    "duration": 14,
    "start_time": "2022-03-19T17:55:33.518Z"
   },
   {
    "duration": 388,
    "start_time": "2022-03-19T17:55:33.535Z"
   },
   {
    "duration": 7,
    "start_time": "2022-03-19T17:55:33.926Z"
   },
   {
    "duration": 9,
    "start_time": "2022-03-19T17:55:33.935Z"
   },
   {
    "duration": 7,
    "start_time": "2022-03-19T17:55:33.968Z"
   },
   {
    "duration": 52,
    "start_time": "2022-03-19T17:55:33.978Z"
   },
   {
    "duration": 54,
    "start_time": "2022-03-19T17:55:34.032Z"
   },
   {
    "duration": 250,
    "start_time": "2022-03-19T17:55:34.088Z"
   },
   {
    "duration": 43,
    "start_time": "2022-03-19T17:55:34.340Z"
   },
   {
    "duration": 245,
    "start_time": "2022-03-19T17:55:34.385Z"
   },
   {
    "duration": 43,
    "start_time": "2022-03-19T17:55:34.632Z"
   },
   {
    "duration": 249,
    "start_time": "2022-03-19T17:55:34.677Z"
   },
   {
    "duration": 158,
    "start_time": "2022-03-19T17:55:34.928Z"
   },
   {
    "duration": 13,
    "start_time": "2022-03-19T17:55:35.092Z"
   },
   {
    "duration": 67,
    "start_time": "2022-03-19T17:55:35.108Z"
   },
   {
    "duration": 48,
    "start_time": "2022-03-19T17:55:45.983Z"
   },
   {
    "duration": 986,
    "start_time": "2022-03-19T17:55:51.864Z"
   },
   {
    "duration": 29,
    "start_time": "2022-03-19T17:55:52.854Z"
   },
   {
    "duration": 110,
    "start_time": "2022-03-19T17:55:52.886Z"
   },
   {
    "duration": 5,
    "start_time": "2022-03-19T17:55:52.999Z"
   },
   {
    "duration": 8,
    "start_time": "2022-03-19T17:55:53.007Z"
   },
   {
    "duration": 7,
    "start_time": "2022-03-19T17:55:53.017Z"
   },
   {
    "duration": 44,
    "start_time": "2022-03-19T17:55:53.026Z"
   },
   {
    "duration": 9,
    "start_time": "2022-03-19T17:55:53.072Z"
   },
   {
    "duration": 7,
    "start_time": "2022-03-19T17:55:53.084Z"
   },
   {
    "duration": 39,
    "start_time": "2022-03-19T17:55:53.095Z"
   },
   {
    "duration": 52,
    "start_time": "2022-03-19T17:55:53.137Z"
   },
   {
    "duration": 9,
    "start_time": "2022-03-19T17:55:53.191Z"
   },
   {
    "duration": 10,
    "start_time": "2022-03-19T17:55:53.202Z"
   },
   {
    "duration": 8,
    "start_time": "2022-03-19T17:55:53.214Z"
   },
   {
    "duration": 45,
    "start_time": "2022-03-19T17:55:53.224Z"
   },
   {
    "duration": 18,
    "start_time": "2022-03-19T17:55:53.272Z"
   },
   {
    "duration": 6,
    "start_time": "2022-03-19T17:55:53.293Z"
   },
   {
    "duration": 9,
    "start_time": "2022-03-19T17:55:53.302Z"
   },
   {
    "duration": 81,
    "start_time": "2022-03-19T17:55:53.314Z"
   },
   {
    "duration": 15,
    "start_time": "2022-03-19T17:55:53.397Z"
   },
   {
    "duration": 319,
    "start_time": "2022-03-19T17:55:53.415Z"
   },
   {
    "duration": 12,
    "start_time": "2022-03-19T17:55:53.736Z"
   },
   {
    "duration": 339,
    "start_time": "2022-03-19T17:55:53.751Z"
   },
   {
    "duration": 12,
    "start_time": "2022-03-19T17:55:54.092Z"
   },
   {
    "duration": 232,
    "start_time": "2022-03-19T17:55:54.107Z"
   },
   {
    "duration": 28,
    "start_time": "2022-03-19T17:55:54.341Z"
   },
   {
    "duration": 326,
    "start_time": "2022-03-19T17:55:54.371Z"
   },
   {
    "duration": 14,
    "start_time": "2022-03-19T17:55:54.702Z"
   },
   {
    "duration": 368,
    "start_time": "2022-03-19T17:55:54.718Z"
   },
   {
    "duration": 7,
    "start_time": "2022-03-19T17:55:55.089Z"
   },
   {
    "duration": 7,
    "start_time": "2022-03-19T17:55:55.099Z"
   },
   {
    "duration": 9,
    "start_time": "2022-03-19T17:55:55.108Z"
   },
   {
    "duration": 97,
    "start_time": "2022-03-19T17:55:55.119Z"
   },
   {
    "duration": 52,
    "start_time": "2022-03-19T17:55:55.218Z"
   },
   {
    "duration": 243,
    "start_time": "2022-03-19T17:55:55.272Z"
   },
   {
    "duration": 50,
    "start_time": "2022-03-19T17:55:55.517Z"
   },
   {
    "duration": 319,
    "start_time": "2022-03-19T17:55:55.570Z"
   },
   {
    "duration": 42,
    "start_time": "2022-03-19T17:55:55.892Z"
   },
   {
    "duration": 271,
    "start_time": "2022-03-19T17:55:55.937Z"
   },
   {
    "duration": 162,
    "start_time": "2022-03-19T17:55:56.211Z"
   },
   {
    "duration": 13,
    "start_time": "2022-03-19T17:55:56.376Z"
   },
   {
    "duration": 18,
    "start_time": "2022-03-19T17:55:56.391Z"
   },
   {
    "duration": 16,
    "start_time": "2022-03-19T17:56:02.794Z"
   },
   {
    "duration": 1000,
    "start_time": "2022-03-19T17:56:09.738Z"
   },
   {
    "duration": 38,
    "start_time": "2022-03-19T17:56:10.741Z"
   },
   {
    "duration": 110,
    "start_time": "2022-03-19T17:56:10.782Z"
   },
   {
    "duration": 5,
    "start_time": "2022-03-19T17:56:10.894Z"
   },
   {
    "duration": 9,
    "start_time": "2022-03-19T17:56:10.903Z"
   },
   {
    "duration": 5,
    "start_time": "2022-03-19T17:56:10.914Z"
   },
   {
    "duration": 49,
    "start_time": "2022-03-19T17:56:10.921Z"
   },
   {
    "duration": 5,
    "start_time": "2022-03-19T17:56:10.973Z"
   },
   {
    "duration": 8,
    "start_time": "2022-03-19T17:56:10.981Z"
   },
   {
    "duration": 80,
    "start_time": "2022-03-19T17:56:10.992Z"
   },
   {
    "duration": 28,
    "start_time": "2022-03-19T17:56:11.075Z"
   },
   {
    "duration": 10,
    "start_time": "2022-03-19T17:56:11.105Z"
   },
   {
    "duration": 7,
    "start_time": "2022-03-19T17:56:11.117Z"
   },
   {
    "duration": 41,
    "start_time": "2022-03-19T17:56:11.129Z"
   },
   {
    "duration": 13,
    "start_time": "2022-03-19T17:56:11.172Z"
   },
   {
    "duration": 13,
    "start_time": "2022-03-19T17:56:11.188Z"
   },
   {
    "duration": 5,
    "start_time": "2022-03-19T17:56:11.203Z"
   },
   {
    "duration": 5,
    "start_time": "2022-03-19T17:56:11.210Z"
   },
   {
    "duration": 72,
    "start_time": "2022-03-19T17:56:11.218Z"
   },
   {
    "duration": 11,
    "start_time": "2022-03-19T17:56:11.292Z"
   },
   {
    "duration": 462,
    "start_time": "2022-03-19T17:56:11.306Z"
   },
   {
    "duration": 13,
    "start_time": "2022-03-19T17:56:11.771Z"
   },
   {
    "duration": 341,
    "start_time": "2022-03-19T17:56:11.786Z"
   },
   {
    "duration": 12,
    "start_time": "2022-03-19T17:56:12.129Z"
   },
   {
    "duration": 251,
    "start_time": "2022-03-19T17:56:12.143Z"
   },
   {
    "duration": 13,
    "start_time": "2022-03-19T17:56:12.396Z"
   },
   {
    "duration": 322,
    "start_time": "2022-03-19T17:56:12.412Z"
   },
   {
    "duration": 12,
    "start_time": "2022-03-19T17:56:12.736Z"
   },
   {
    "duration": 377,
    "start_time": "2022-03-19T17:56:12.750Z"
   },
   {
    "duration": 7,
    "start_time": "2022-03-19T17:56:13.129Z"
   },
   {
    "duration": 28,
    "start_time": "2022-03-19T17:56:13.139Z"
   },
   {
    "duration": 8,
    "start_time": "2022-03-19T17:56:13.169Z"
   },
   {
    "duration": 50,
    "start_time": "2022-03-19T17:56:13.179Z"
   },
   {
    "duration": 59,
    "start_time": "2022-03-19T17:56:13.232Z"
   },
   {
    "duration": 275,
    "start_time": "2022-03-19T17:56:13.294Z"
   },
   {
    "duration": 35,
    "start_time": "2022-03-19T17:56:13.571Z"
   },
   {
    "duration": 255,
    "start_time": "2022-03-19T17:56:13.609Z"
   },
   {
    "duration": 31,
    "start_time": "2022-03-19T17:56:13.868Z"
   },
   {
    "duration": 353,
    "start_time": "2022-03-19T17:56:13.902Z"
   },
   {
    "duration": 258,
    "start_time": "2022-03-19T17:56:14.258Z"
   },
   {
    "duration": 17,
    "start_time": "2022-03-19T17:56:14.524Z"
   },
   {
    "duration": 36,
    "start_time": "2022-03-19T17:56:14.544Z"
   },
   {
    "duration": 37,
    "start_time": "2022-03-19T17:56:14.583Z"
   },
   {
    "duration": 15,
    "start_time": "2022-03-19T17:56:18.951Z"
   },
   {
    "duration": 18,
    "start_time": "2022-03-19T17:56:41.946Z"
   },
   {
    "duration": 1191,
    "start_time": "2022-03-19T17:56:46.236Z"
   },
   {
    "duration": 39,
    "start_time": "2022-03-19T17:56:47.430Z"
   },
   {
    "duration": 110,
    "start_time": "2022-03-19T17:56:47.472Z"
   },
   {
    "duration": 6,
    "start_time": "2022-03-19T17:56:47.584Z"
   },
   {
    "duration": 19,
    "start_time": "2022-03-19T17:56:47.593Z"
   },
   {
    "duration": 18,
    "start_time": "2022-03-19T17:56:47.615Z"
   },
   {
    "duration": 30,
    "start_time": "2022-03-19T17:56:47.635Z"
   },
   {
    "duration": 13,
    "start_time": "2022-03-19T17:56:47.667Z"
   },
   {
    "duration": 15,
    "start_time": "2022-03-19T17:56:47.682Z"
   },
   {
    "duration": 51,
    "start_time": "2022-03-19T17:56:47.700Z"
   },
   {
    "duration": 20,
    "start_time": "2022-03-19T17:56:47.754Z"
   },
   {
    "duration": 9,
    "start_time": "2022-03-19T17:56:47.776Z"
   },
   {
    "duration": 12,
    "start_time": "2022-03-19T17:56:47.787Z"
   },
   {
    "duration": 14,
    "start_time": "2022-03-19T17:56:47.804Z"
   },
   {
    "duration": 20,
    "start_time": "2022-03-19T17:56:47.820Z"
   },
   {
    "duration": 30,
    "start_time": "2022-03-19T17:56:47.842Z"
   },
   {
    "duration": 17,
    "start_time": "2022-03-19T17:56:47.875Z"
   },
   {
    "duration": 10,
    "start_time": "2022-03-19T17:56:47.895Z"
   },
   {
    "duration": 41,
    "start_time": "2022-03-19T17:56:47.908Z"
   },
   {
    "duration": 25,
    "start_time": "2022-03-19T17:56:47.951Z"
   },
   {
    "duration": 312,
    "start_time": "2022-03-19T17:56:47.978Z"
   },
   {
    "duration": 14,
    "start_time": "2022-03-19T17:56:48.294Z"
   },
   {
    "duration": 331,
    "start_time": "2022-03-19T17:56:48.311Z"
   },
   {
    "duration": 22,
    "start_time": "2022-03-19T17:56:48.645Z"
   },
   {
    "duration": 229,
    "start_time": "2022-03-19T17:56:48.669Z"
   },
   {
    "duration": 13,
    "start_time": "2022-03-19T17:56:48.900Z"
   },
   {
    "duration": 330,
    "start_time": "2022-03-19T17:56:48.915Z"
   },
   {
    "duration": 24,
    "start_time": "2022-03-19T17:56:49.248Z"
   },
   {
    "duration": 373,
    "start_time": "2022-03-19T17:56:49.275Z"
   },
   {
    "duration": 17,
    "start_time": "2022-03-19T17:56:49.651Z"
   },
   {
    "duration": 7,
    "start_time": "2022-03-19T17:56:49.671Z"
   },
   {
    "duration": 7,
    "start_time": "2022-03-19T17:56:49.680Z"
   },
   {
    "duration": 80,
    "start_time": "2022-03-19T17:56:49.689Z"
   },
   {
    "duration": 29,
    "start_time": "2022-03-19T17:56:49.771Z"
   },
   {
    "duration": 260,
    "start_time": "2022-03-19T17:56:49.803Z"
   },
   {
    "duration": 31,
    "start_time": "2022-03-19T17:56:50.068Z"
   },
   {
    "duration": 251,
    "start_time": "2022-03-19T17:56:50.101Z"
   },
   {
    "duration": 40,
    "start_time": "2022-03-19T17:56:50.355Z"
   },
   {
    "duration": 254,
    "start_time": "2022-03-19T17:56:50.397Z"
   },
   {
    "duration": 166,
    "start_time": "2022-03-19T17:56:50.653Z"
   },
   {
    "duration": 12,
    "start_time": "2022-03-19T17:56:50.825Z"
   },
   {
    "duration": 36,
    "start_time": "2022-03-19T17:56:50.840Z"
   },
   {
    "duration": 36,
    "start_time": "2022-03-19T17:56:50.878Z"
   },
   {
    "duration": 17,
    "start_time": "2022-03-19T17:56:56.399Z"
   },
   {
    "duration": 20,
    "start_time": "2022-03-19T17:57:03.548Z"
   },
   {
    "duration": 12,
    "start_time": "2022-03-19T17:58:12.101Z"
   },
   {
    "duration": 37,
    "start_time": "2022-03-19T17:58:12.581Z"
   },
   {
    "duration": 7,
    "start_time": "2022-03-19T17:58:26.815Z"
   },
   {
    "duration": 31,
    "start_time": "2022-03-19T17:58:54.329Z"
   },
   {
    "duration": 28,
    "start_time": "2022-03-19T17:59:44.541Z"
   },
   {
    "duration": 14,
    "start_time": "2022-03-19T18:00:19.140Z"
   },
   {
    "duration": 7,
    "start_time": "2022-03-19T18:00:21.078Z"
   },
   {
    "duration": 18,
    "start_time": "2022-03-19T18:00:36.930Z"
   },
   {
    "duration": 12,
    "start_time": "2022-03-19T18:00:59.730Z"
   },
   {
    "duration": 6,
    "start_time": "2022-03-19T18:01:08.051Z"
   },
   {
    "duration": 19,
    "start_time": "2022-03-19T18:02:55.702Z"
   },
   {
    "duration": 984,
    "start_time": "2022-03-19T18:03:03.476Z"
   },
   {
    "duration": 22,
    "start_time": "2022-03-19T18:03:04.468Z"
   },
   {
    "duration": 119,
    "start_time": "2022-03-19T18:03:04.493Z"
   },
   {
    "duration": 5,
    "start_time": "2022-03-19T18:03:04.614Z"
   },
   {
    "duration": 9,
    "start_time": "2022-03-19T18:03:04.623Z"
   },
   {
    "duration": 6,
    "start_time": "2022-03-19T18:03:04.634Z"
   },
   {
    "duration": 11,
    "start_time": "2022-03-19T18:03:04.668Z"
   },
   {
    "duration": 9,
    "start_time": "2022-03-19T18:03:04.681Z"
   },
   {
    "duration": 10,
    "start_time": "2022-03-19T18:03:04.693Z"
   },
   {
    "duration": 86,
    "start_time": "2022-03-19T18:03:04.706Z"
   },
   {
    "duration": 22,
    "start_time": "2022-03-19T18:03:04.795Z"
   },
   {
    "duration": 10,
    "start_time": "2022-03-19T18:03:04.820Z"
   },
   {
    "duration": 34,
    "start_time": "2022-03-19T18:03:04.833Z"
   },
   {
    "duration": 9,
    "start_time": "2022-03-19T18:03:04.874Z"
   },
   {
    "duration": 8,
    "start_time": "2022-03-19T18:03:04.886Z"
   },
   {
    "duration": 18,
    "start_time": "2022-03-19T18:03:04.897Z"
   },
   {
    "duration": 5,
    "start_time": "2022-03-19T18:03:04.918Z"
   },
   {
    "duration": 46,
    "start_time": "2022-03-19T18:03:04.926Z"
   },
   {
    "duration": 39,
    "start_time": "2022-03-19T18:03:04.974Z"
   },
   {
    "duration": 11,
    "start_time": "2022-03-19T18:03:05.016Z"
   },
   {
    "duration": 340,
    "start_time": "2022-03-19T18:03:05.030Z"
   },
   {
    "duration": 12,
    "start_time": "2022-03-19T18:03:05.372Z"
   },
   {
    "duration": 336,
    "start_time": "2022-03-19T18:03:05.386Z"
   },
   {
    "duration": 12,
    "start_time": "2022-03-19T18:03:05.725Z"
   },
   {
    "duration": 238,
    "start_time": "2022-03-19T18:03:05.739Z"
   },
   {
    "duration": 12,
    "start_time": "2022-03-19T18:03:05.980Z"
   },
   {
    "duration": 336,
    "start_time": "2022-03-19T18:03:05.994Z"
   },
   {
    "duration": 13,
    "start_time": "2022-03-19T18:03:06.332Z"
   },
   {
    "duration": 373,
    "start_time": "2022-03-19T18:03:06.347Z"
   },
   {
    "duration": 7,
    "start_time": "2022-03-19T18:03:06.722Z"
   },
   {
    "duration": 8,
    "start_time": "2022-03-19T18:03:06.731Z"
   },
   {
    "duration": 9,
    "start_time": "2022-03-19T18:03:06.767Z"
   },
   {
    "duration": 55,
    "start_time": "2022-03-19T18:03:06.779Z"
   },
   {
    "duration": 54,
    "start_time": "2022-03-19T18:03:06.836Z"
   },
   {
    "duration": 246,
    "start_time": "2022-03-19T18:03:06.893Z"
   },
   {
    "duration": 44,
    "start_time": "2022-03-19T18:03:07.141Z"
   },
   {
    "duration": 248,
    "start_time": "2022-03-19T18:03:07.187Z"
   },
   {
    "duration": 39,
    "start_time": "2022-03-19T18:03:07.437Z"
   },
   {
    "duration": 259,
    "start_time": "2022-03-19T18:03:07.479Z"
   },
   {
    "duration": 174,
    "start_time": "2022-03-19T18:03:07.740Z"
   },
   {
    "duration": 24,
    "start_time": "2022-03-19T18:03:07.921Z"
   },
   {
    "duration": 34,
    "start_time": "2022-03-19T18:03:07.948Z"
   },
   {
    "duration": 6,
    "start_time": "2022-03-19T18:03:07.984Z"
   },
   {
    "duration": 6,
    "start_time": "2022-03-19T18:03:07.992Z"
   },
   {
    "duration": 20,
    "start_time": "2022-03-19T18:03:08.000Z"
   },
   {
    "duration": 17,
    "start_time": "2022-03-19T18:03:54.112Z"
   },
   {
    "duration": 12,
    "start_time": "2022-03-19T18:05:32.781Z"
   },
   {
    "duration": 43,
    "start_time": "2022-03-19T18:05:46.378Z"
   },
   {
    "duration": 15,
    "start_time": "2022-03-19T18:06:33.956Z"
   },
   {
    "duration": 19,
    "start_time": "2022-03-19T18:08:47.241Z"
   },
   {
    "duration": 17,
    "start_time": "2022-03-19T18:11:53.969Z"
   },
   {
    "duration": 20,
    "start_time": "2022-03-19T18:12:03.243Z"
   },
   {
    "duration": 13,
    "start_time": "2022-03-19T18:12:09.418Z"
   },
   {
    "duration": 978,
    "start_time": "2022-03-19T18:12:14.837Z"
   },
   {
    "duration": 23,
    "start_time": "2022-03-19T18:12:15.818Z"
   },
   {
    "duration": 115,
    "start_time": "2022-03-19T18:12:15.844Z"
   },
   {
    "duration": 9,
    "start_time": "2022-03-19T18:12:15.961Z"
   },
   {
    "duration": 31,
    "start_time": "2022-03-19T18:12:15.973Z"
   },
   {
    "duration": 6,
    "start_time": "2022-03-19T18:12:16.006Z"
   },
   {
    "duration": 13,
    "start_time": "2022-03-19T18:12:16.015Z"
   },
   {
    "duration": 9,
    "start_time": "2022-03-19T18:12:16.030Z"
   },
   {
    "duration": 6,
    "start_time": "2022-03-19T18:12:16.042Z"
   },
   {
    "duration": 50,
    "start_time": "2022-03-19T18:12:16.051Z"
   },
   {
    "duration": 20,
    "start_time": "2022-03-19T18:12:16.104Z"
   },
   {
    "duration": 9,
    "start_time": "2022-03-19T18:12:16.127Z"
   },
   {
    "duration": 8,
    "start_time": "2022-03-19T18:12:16.167Z"
   },
   {
    "duration": 7,
    "start_time": "2022-03-19T18:12:16.180Z"
   },
   {
    "duration": 6,
    "start_time": "2022-03-19T18:12:16.189Z"
   },
   {
    "duration": 13,
    "start_time": "2022-03-19T18:12:16.198Z"
   },
   {
    "duration": 5,
    "start_time": "2022-03-19T18:12:16.213Z"
   },
   {
    "duration": 47,
    "start_time": "2022-03-19T18:12:16.221Z"
   },
   {
    "duration": 38,
    "start_time": "2022-03-19T18:12:16.270Z"
   },
   {
    "duration": 11,
    "start_time": "2022-03-19T18:12:16.311Z"
   },
   {
    "duration": 316,
    "start_time": "2022-03-19T18:12:16.325Z"
   },
   {
    "duration": 25,
    "start_time": "2022-03-19T18:12:16.643Z"
   },
   {
    "duration": 309,
    "start_time": "2022-03-19T18:12:16.670Z"
   },
   {
    "duration": 11,
    "start_time": "2022-03-19T18:12:16.982Z"
   },
   {
    "duration": 267,
    "start_time": "2022-03-19T18:12:16.996Z"
   },
   {
    "duration": 17,
    "start_time": "2022-03-19T18:12:17.268Z"
   },
   {
    "duration": 483,
    "start_time": "2022-03-19T18:12:17.288Z"
   },
   {
    "duration": 15,
    "start_time": "2022-03-19T18:12:17.773Z"
   },
   {
    "duration": 366,
    "start_time": "2022-03-19T18:12:17.791Z"
   },
   {
    "duration": 13,
    "start_time": "2022-03-19T18:12:18.159Z"
   },
   {
    "duration": 6,
    "start_time": "2022-03-19T18:12:18.174Z"
   },
   {
    "duration": 7,
    "start_time": "2022-03-19T18:12:18.182Z"
   },
   {
    "duration": 93,
    "start_time": "2022-03-19T18:12:18.191Z"
   },
   {
    "duration": 30,
    "start_time": "2022-03-19T18:12:18.287Z"
   },
   {
    "duration": 251,
    "start_time": "2022-03-19T18:12:18.319Z"
   },
   {
    "duration": 32,
    "start_time": "2022-03-19T18:12:18.572Z"
   },
   {
    "duration": 239,
    "start_time": "2022-03-19T18:12:18.606Z"
   },
   {
    "duration": 37,
    "start_time": "2022-03-19T18:12:18.847Z"
   },
   {
    "duration": 246,
    "start_time": "2022-03-19T18:12:18.886Z"
   },
   {
    "duration": 164,
    "start_time": "2022-03-19T18:12:19.134Z"
   },
   {
    "duration": 12,
    "start_time": "2022-03-19T18:12:19.304Z"
   },
   {
    "duration": 20,
    "start_time": "2022-03-19T18:12:19.318Z"
   },
   {
    "duration": 41,
    "start_time": "2022-03-19T18:12:19.340Z"
   },
   {
    "duration": 7,
    "start_time": "2022-03-19T18:12:19.383Z"
   },
   {
    "duration": 7,
    "start_time": "2022-03-19T18:12:19.392Z"
   },
   {
    "duration": 25,
    "start_time": "2022-03-19T18:12:55.865Z"
   },
   {
    "duration": 20,
    "start_time": "2022-03-19T18:13:06.586Z"
   },
   {
    "duration": 17,
    "start_time": "2022-03-19T18:13:12.653Z"
   },
   {
    "duration": 32,
    "start_time": "2022-03-19T18:13:59.309Z"
   },
   {
    "duration": 33,
    "start_time": "2022-03-19T18:14:09.667Z"
   },
   {
    "duration": 1119,
    "start_time": "2022-03-19T18:14:15.462Z"
   },
   {
    "duration": 25,
    "start_time": "2022-03-19T18:14:16.584Z"
   },
   {
    "duration": 127,
    "start_time": "2022-03-19T18:14:16.611Z"
   },
   {
    "duration": 6,
    "start_time": "2022-03-19T18:14:16.740Z"
   },
   {
    "duration": 21,
    "start_time": "2022-03-19T18:14:16.749Z"
   },
   {
    "duration": 5,
    "start_time": "2022-03-19T18:14:16.772Z"
   },
   {
    "duration": 13,
    "start_time": "2022-03-19T18:14:16.779Z"
   },
   {
    "duration": 8,
    "start_time": "2022-03-19T18:14:16.794Z"
   },
   {
    "duration": 7,
    "start_time": "2022-03-19T18:14:16.804Z"
   },
   {
    "duration": 71,
    "start_time": "2022-03-19T18:14:16.813Z"
   },
   {
    "duration": 20,
    "start_time": "2022-03-19T18:14:16.887Z"
   },
   {
    "duration": 14,
    "start_time": "2022-03-19T18:14:16.910Z"
   },
   {
    "duration": 7,
    "start_time": "2022-03-19T18:14:16.927Z"
   },
   {
    "duration": 32,
    "start_time": "2022-03-19T18:14:16.938Z"
   },
   {
    "duration": 8,
    "start_time": "2022-03-19T18:14:16.973Z"
   },
   {
    "duration": 15,
    "start_time": "2022-03-19T18:14:16.984Z"
   },
   {
    "duration": 6,
    "start_time": "2022-03-19T18:14:17.001Z"
   },
   {
    "duration": 11,
    "start_time": "2022-03-19T18:14:17.010Z"
   },
   {
    "duration": 79,
    "start_time": "2022-03-19T18:14:17.023Z"
   },
   {
    "duration": 12,
    "start_time": "2022-03-19T18:14:17.105Z"
   },
   {
    "duration": 339,
    "start_time": "2022-03-19T18:14:17.119Z"
   },
   {
    "duration": 13,
    "start_time": "2022-03-19T18:14:17.468Z"
   },
   {
    "duration": 343,
    "start_time": "2022-03-19T18:14:17.483Z"
   },
   {
    "duration": 14,
    "start_time": "2022-03-19T18:14:17.829Z"
   },
   {
    "duration": 276,
    "start_time": "2022-03-19T18:14:17.845Z"
   },
   {
    "duration": 14,
    "start_time": "2022-03-19T18:14:18.123Z"
   },
   {
    "duration": 359,
    "start_time": "2022-03-19T18:14:18.139Z"
   },
   {
    "duration": 12,
    "start_time": "2022-03-19T18:14:18.501Z"
   },
   {
    "duration": 402,
    "start_time": "2022-03-19T18:14:18.516Z"
   },
   {
    "duration": 9,
    "start_time": "2022-03-19T18:14:18.921Z"
   },
   {
    "duration": 8,
    "start_time": "2022-03-19T18:14:18.933Z"
   },
   {
    "duration": 9,
    "start_time": "2022-03-19T18:14:18.968Z"
   },
   {
    "duration": 52,
    "start_time": "2022-03-19T18:14:18.980Z"
   },
   {
    "duration": 61,
    "start_time": "2022-03-19T18:14:19.035Z"
   },
   {
    "duration": 261,
    "start_time": "2022-03-19T18:14:19.098Z"
   },
   {
    "duration": 37,
    "start_time": "2022-03-19T18:14:19.361Z"
   },
   {
    "duration": 261,
    "start_time": "2022-03-19T18:14:19.401Z"
   },
   {
    "duration": 33,
    "start_time": "2022-03-19T18:14:19.668Z"
   },
   {
    "duration": 269,
    "start_time": "2022-03-19T18:14:19.703Z"
   },
   {
    "duration": 179,
    "start_time": "2022-03-19T18:14:19.975Z"
   },
   {
    "duration": 12,
    "start_time": "2022-03-19T18:14:20.168Z"
   },
   {
    "duration": 38,
    "start_time": "2022-03-19T18:14:20.182Z"
   },
   {
    "duration": 19,
    "start_time": "2022-03-19T18:14:20.222Z"
   },
   {
    "duration": 8,
    "start_time": "2022-03-19T18:14:20.269Z"
   },
   {
    "duration": 6,
    "start_time": "2022-03-19T18:14:20.279Z"
   },
   {
    "duration": 38,
    "start_time": "2022-03-19T18:14:56.632Z"
   },
   {
    "duration": 950,
    "start_time": "2022-03-19T18:15:28.267Z"
   },
   {
    "duration": 22,
    "start_time": "2022-03-19T18:15:29.219Z"
   },
   {
    "duration": 109,
    "start_time": "2022-03-19T18:15:29.243Z"
   },
   {
    "duration": 15,
    "start_time": "2022-03-19T18:15:29.354Z"
   },
   {
    "duration": 9,
    "start_time": "2022-03-19T18:15:29.372Z"
   },
   {
    "duration": 6,
    "start_time": "2022-03-19T18:15:29.383Z"
   },
   {
    "duration": 12,
    "start_time": "2022-03-19T18:15:29.392Z"
   },
   {
    "duration": 7,
    "start_time": "2022-03-19T18:15:29.406Z"
   },
   {
    "duration": 54,
    "start_time": "2022-03-19T18:15:29.415Z"
   },
   {
    "duration": 39,
    "start_time": "2022-03-19T18:15:29.472Z"
   },
   {
    "duration": 55,
    "start_time": "2022-03-19T18:15:29.513Z"
   },
   {
    "duration": 9,
    "start_time": "2022-03-19T18:15:29.571Z"
   },
   {
    "duration": 9,
    "start_time": "2022-03-19T18:15:29.582Z"
   },
   {
    "duration": 8,
    "start_time": "2022-03-19T18:15:29.595Z"
   },
   {
    "duration": 8,
    "start_time": "2022-03-19T18:15:29.605Z"
   },
   {
    "duration": 12,
    "start_time": "2022-03-19T18:15:29.616Z"
   },
   {
    "duration": 6,
    "start_time": "2022-03-19T18:15:29.668Z"
   },
   {
    "duration": 13,
    "start_time": "2022-03-19T18:15:29.676Z"
   },
   {
    "duration": 40,
    "start_time": "2022-03-19T18:15:29.691Z"
   },
   {
    "duration": 37,
    "start_time": "2022-03-19T18:15:29.733Z"
   },
   {
    "duration": 385,
    "start_time": "2022-03-19T18:15:29.772Z"
   },
   {
    "duration": 12,
    "start_time": "2022-03-19T18:15:30.167Z"
   },
   {
    "duration": 333,
    "start_time": "2022-03-19T18:15:30.182Z"
   },
   {
    "duration": 13,
    "start_time": "2022-03-19T18:15:30.518Z"
   },
   {
    "duration": 255,
    "start_time": "2022-03-19T18:15:30.534Z"
   },
   {
    "duration": 15,
    "start_time": "2022-03-19T18:15:30.792Z"
   },
   {
    "duration": 352,
    "start_time": "2022-03-19T18:15:30.809Z"
   },
   {
    "duration": 11,
    "start_time": "2022-03-19T18:15:31.163Z"
   },
   {
    "duration": 373,
    "start_time": "2022-03-19T18:15:31.177Z"
   },
   {
    "duration": 16,
    "start_time": "2022-03-19T18:15:31.553Z"
   },
   {
    "duration": 8,
    "start_time": "2022-03-19T18:15:31.571Z"
   },
   {
    "duration": 16,
    "start_time": "2022-03-19T18:15:31.581Z"
   },
   {
    "duration": 75,
    "start_time": "2022-03-19T18:15:31.600Z"
   },
   {
    "duration": 32,
    "start_time": "2022-03-19T18:15:31.678Z"
   },
   {
    "duration": 265,
    "start_time": "2022-03-19T18:15:31.713Z"
   },
   {
    "duration": 34,
    "start_time": "2022-03-19T18:15:31.982Z"
   },
   {
    "duration": 365,
    "start_time": "2022-03-19T18:15:32.019Z"
   },
   {
    "duration": 30,
    "start_time": "2022-03-19T18:15:32.387Z"
   },
   {
    "duration": 266,
    "start_time": "2022-03-19T18:15:32.420Z"
   },
   {
    "duration": 163,
    "start_time": "2022-03-19T18:15:32.689Z"
   },
   {
    "duration": 19,
    "start_time": "2022-03-19T18:15:32.858Z"
   },
   {
    "duration": 74,
    "start_time": "2022-03-19T18:15:32.879Z"
   },
   {
    "duration": 17,
    "start_time": "2022-03-19T18:15:32.968Z"
   },
   {
    "duration": 7,
    "start_time": "2022-03-19T18:15:32.988Z"
   },
   {
    "duration": 5,
    "start_time": "2022-03-19T18:15:32.998Z"
   },
   {
    "duration": 981,
    "start_time": "2022-03-19T18:16:08.842Z"
   },
   {
    "duration": 24,
    "start_time": "2022-03-19T18:16:09.826Z"
   },
   {
    "duration": 132,
    "start_time": "2022-03-19T18:16:09.852Z"
   },
   {
    "duration": 6,
    "start_time": "2022-03-19T18:16:09.987Z"
   },
   {
    "duration": 8,
    "start_time": "2022-03-19T18:16:09.998Z"
   },
   {
    "duration": 6,
    "start_time": "2022-03-19T18:16:10.009Z"
   },
   {
    "duration": 52,
    "start_time": "2022-03-19T18:16:10.018Z"
   },
   {
    "duration": 6,
    "start_time": "2022-03-19T18:16:10.072Z"
   },
   {
    "duration": 11,
    "start_time": "2022-03-19T18:16:10.080Z"
   },
   {
    "duration": 38,
    "start_time": "2022-03-19T18:16:10.094Z"
   },
   {
    "duration": 46,
    "start_time": "2022-03-19T18:16:10.134Z"
   },
   {
    "duration": 9,
    "start_time": "2022-03-19T18:16:10.182Z"
   },
   {
    "duration": 8,
    "start_time": "2022-03-19T18:16:10.193Z"
   },
   {
    "duration": 7,
    "start_time": "2022-03-19T18:16:10.205Z"
   },
   {
    "duration": 6,
    "start_time": "2022-03-19T18:16:10.215Z"
   },
   {
    "duration": 54,
    "start_time": "2022-03-19T18:16:10.224Z"
   },
   {
    "duration": 5,
    "start_time": "2022-03-19T18:16:10.280Z"
   },
   {
    "duration": 7,
    "start_time": "2022-03-19T18:16:10.287Z"
   },
   {
    "duration": 36,
    "start_time": "2022-03-19T18:16:10.296Z"
   },
   {
    "duration": 43,
    "start_time": "2022-03-19T18:16:10.334Z"
   },
   {
    "duration": 311,
    "start_time": "2022-03-19T18:16:10.380Z"
   },
   {
    "duration": 13,
    "start_time": "2022-03-19T18:16:10.693Z"
   },
   {
    "duration": 329,
    "start_time": "2022-03-19T18:16:10.708Z"
   },
   {
    "duration": 12,
    "start_time": "2022-03-19T18:16:11.040Z"
   },
   {
    "duration": 234,
    "start_time": "2022-03-19T18:16:11.068Z"
   },
   {
    "duration": 13,
    "start_time": "2022-03-19T18:16:11.304Z"
   },
   {
    "duration": 324,
    "start_time": "2022-03-19T18:16:11.319Z"
   },
   {
    "duration": 24,
    "start_time": "2022-03-19T18:16:11.646Z"
   },
   {
    "duration": 370,
    "start_time": "2022-03-19T18:16:11.673Z"
   },
   {
    "duration": 7,
    "start_time": "2022-03-19T18:16:12.046Z"
   },
   {
    "duration": 7,
    "start_time": "2022-03-19T18:16:12.068Z"
   },
   {
    "duration": 6,
    "start_time": "2022-03-19T18:16:12.078Z"
   },
   {
    "duration": 53,
    "start_time": "2022-03-19T18:16:12.086Z"
   },
   {
    "duration": 29,
    "start_time": "2022-03-19T18:16:12.168Z"
   },
   {
    "duration": 254,
    "start_time": "2022-03-19T18:16:12.199Z"
   },
   {
    "duration": 39,
    "start_time": "2022-03-19T18:16:12.455Z"
   },
   {
    "duration": 242,
    "start_time": "2022-03-19T18:16:12.496Z"
   },
   {
    "duration": 42,
    "start_time": "2022-03-19T18:16:12.740Z"
   },
   {
    "duration": 248,
    "start_time": "2022-03-19T18:16:12.785Z"
   },
   {
    "duration": 168,
    "start_time": "2022-03-19T18:16:13.035Z"
   },
   {
    "duration": 13,
    "start_time": "2022-03-19T18:16:13.209Z"
   },
   {
    "duration": 62,
    "start_time": "2022-03-19T18:16:13.225Z"
   },
   {
    "duration": 32,
    "start_time": "2022-03-19T18:16:38.003Z"
   },
   {
    "duration": 64,
    "start_time": "2022-03-19T18:17:02.801Z"
   },
   {
    "duration": 923,
    "start_time": "2022-03-19T18:17:10.392Z"
   },
   {
    "duration": 21,
    "start_time": "2022-03-19T18:17:11.318Z"
   },
   {
    "duration": 111,
    "start_time": "2022-03-19T18:17:11.341Z"
   },
   {
    "duration": 14,
    "start_time": "2022-03-19T18:17:11.455Z"
   },
   {
    "duration": 11,
    "start_time": "2022-03-19T18:17:11.472Z"
   },
   {
    "duration": 11,
    "start_time": "2022-03-19T18:17:11.486Z"
   },
   {
    "duration": 13,
    "start_time": "2022-03-19T18:17:11.499Z"
   },
   {
    "duration": 5,
    "start_time": "2022-03-19T18:17:11.514Z"
   },
   {
    "duration": 7,
    "start_time": "2022-03-19T18:17:11.522Z"
   },
   {
    "duration": 38,
    "start_time": "2022-03-19T18:17:11.568Z"
   },
   {
    "duration": 20,
    "start_time": "2022-03-19T18:17:11.608Z"
   },
   {
    "duration": 9,
    "start_time": "2022-03-19T18:17:11.630Z"
   },
   {
    "duration": 9,
    "start_time": "2022-03-19T18:17:11.668Z"
   },
   {
    "duration": 9,
    "start_time": "2022-03-19T18:17:11.679Z"
   },
   {
    "duration": 7,
    "start_time": "2022-03-19T18:17:11.691Z"
   },
   {
    "duration": 13,
    "start_time": "2022-03-19T18:17:11.701Z"
   },
   {
    "duration": 5,
    "start_time": "2022-03-19T18:17:11.717Z"
   },
   {
    "duration": 6,
    "start_time": "2022-03-19T18:17:11.768Z"
   },
   {
    "duration": 40,
    "start_time": "2022-03-19T18:17:11.777Z"
   },
   {
    "duration": 11,
    "start_time": "2022-03-19T18:17:11.819Z"
   },
   {
    "duration": 331,
    "start_time": "2022-03-19T18:17:11.832Z"
   },
   {
    "duration": 13,
    "start_time": "2022-03-19T18:17:12.167Z"
   },
   {
    "duration": 322,
    "start_time": "2022-03-19T18:17:12.182Z"
   },
   {
    "duration": 12,
    "start_time": "2022-03-19T18:17:12.506Z"
   },
   {
    "duration": 236,
    "start_time": "2022-03-19T18:17:12.520Z"
   },
   {
    "duration": 18,
    "start_time": "2022-03-19T18:17:12.758Z"
   },
   {
    "duration": 319,
    "start_time": "2022-03-19T18:17:12.778Z"
   },
   {
    "duration": 13,
    "start_time": "2022-03-19T18:17:13.102Z"
   },
   {
    "duration": 369,
    "start_time": "2022-03-19T18:17:13.117Z"
   },
   {
    "duration": 7,
    "start_time": "2022-03-19T18:17:13.489Z"
   },
   {
    "duration": 7,
    "start_time": "2022-03-19T18:17:13.499Z"
   },
   {
    "duration": 6,
    "start_time": "2022-03-19T18:17:13.510Z"
   },
   {
    "duration": 95,
    "start_time": "2022-03-19T18:17:13.519Z"
   },
   {
    "duration": 32,
    "start_time": "2022-03-19T18:17:13.616Z"
   },
   {
    "duration": 250,
    "start_time": "2022-03-19T18:17:13.650Z"
   },
   {
    "duration": 30,
    "start_time": "2022-03-19T18:17:13.902Z"
   },
   {
    "duration": 241,
    "start_time": "2022-03-19T18:17:13.935Z"
   },
   {
    "duration": 38,
    "start_time": "2022-03-19T18:17:14.179Z"
   },
   {
    "duration": 253,
    "start_time": "2022-03-19T18:17:14.219Z"
   },
   {
    "duration": 152,
    "start_time": "2022-03-19T18:17:14.474Z"
   },
   {
    "duration": 12,
    "start_time": "2022-03-19T18:17:14.628Z"
   },
   {
    "duration": 122,
    "start_time": "2022-03-19T18:17:14.642Z"
   },
   {
    "duration": 67,
    "start_time": "2022-03-19T18:17:55.242Z"
   },
   {
    "duration": 18,
    "start_time": "2022-03-19T18:18:18.772Z"
   },
   {
    "duration": 40,
    "start_time": "2022-03-19T18:18:31.131Z"
   },
   {
    "duration": 920,
    "start_time": "2022-03-19T18:18:40.910Z"
   },
   {
    "duration": 35,
    "start_time": "2022-03-19T18:18:41.834Z"
   },
   {
    "duration": 112,
    "start_time": "2022-03-19T18:18:41.871Z"
   },
   {
    "duration": 5,
    "start_time": "2022-03-19T18:18:41.985Z"
   },
   {
    "duration": 7,
    "start_time": "2022-03-19T18:18:41.994Z"
   },
   {
    "duration": 8,
    "start_time": "2022-03-19T18:18:42.003Z"
   },
   {
    "duration": 12,
    "start_time": "2022-03-19T18:18:42.013Z"
   },
   {
    "duration": 38,
    "start_time": "2022-03-19T18:18:42.030Z"
   },
   {
    "duration": 7,
    "start_time": "2022-03-19T18:18:42.071Z"
   },
   {
    "duration": 39,
    "start_time": "2022-03-19T18:18:42.081Z"
   },
   {
    "duration": 53,
    "start_time": "2022-03-19T18:18:42.122Z"
   },
   {
    "duration": 9,
    "start_time": "2022-03-19T18:18:42.177Z"
   },
   {
    "duration": 8,
    "start_time": "2022-03-19T18:18:42.189Z"
   },
   {
    "duration": 7,
    "start_time": "2022-03-19T18:18:42.203Z"
   },
   {
    "duration": 7,
    "start_time": "2022-03-19T18:18:42.213Z"
   },
   {
    "duration": 53,
    "start_time": "2022-03-19T18:18:42.223Z"
   },
   {
    "duration": 5,
    "start_time": "2022-03-19T18:18:42.278Z"
   },
   {
    "duration": 7,
    "start_time": "2022-03-19T18:18:42.286Z"
   },
   {
    "duration": 85,
    "start_time": "2022-03-19T18:18:42.296Z"
   },
   {
    "duration": 12,
    "start_time": "2022-03-19T18:18:42.384Z"
   },
   {
    "duration": 322,
    "start_time": "2022-03-19T18:18:42.399Z"
   },
   {
    "duration": 13,
    "start_time": "2022-03-19T18:18:42.723Z"
   },
   {
    "duration": 337,
    "start_time": "2022-03-19T18:18:42.739Z"
   },
   {
    "duration": 16,
    "start_time": "2022-03-19T18:18:43.078Z"
   },
   {
    "duration": 263,
    "start_time": "2022-03-19T18:18:43.096Z"
   },
   {
    "duration": 18,
    "start_time": "2022-03-19T18:18:43.362Z"
   },
   {
    "duration": 335,
    "start_time": "2022-03-19T18:18:43.382Z"
   },
   {
    "duration": 12,
    "start_time": "2022-03-19T18:18:43.722Z"
   },
   {
    "duration": 379,
    "start_time": "2022-03-19T18:18:43.736Z"
   },
   {
    "duration": 9,
    "start_time": "2022-03-19T18:18:44.118Z"
   },
   {
    "duration": 7,
    "start_time": "2022-03-19T18:18:44.129Z"
   },
   {
    "duration": 8,
    "start_time": "2022-03-19T18:18:44.168Z"
   },
   {
    "duration": 58,
    "start_time": "2022-03-19T18:18:44.178Z"
   },
   {
    "duration": 55,
    "start_time": "2022-03-19T18:18:44.238Z"
   },
   {
    "duration": 252,
    "start_time": "2022-03-19T18:18:44.296Z"
   },
   {
    "duration": 39,
    "start_time": "2022-03-19T18:18:44.550Z"
   },
   {
    "duration": 284,
    "start_time": "2022-03-19T18:18:44.592Z"
   },
   {
    "duration": 45,
    "start_time": "2022-03-19T18:18:44.879Z"
   },
   {
    "duration": 402,
    "start_time": "2022-03-19T18:18:44.927Z"
   },
   {
    "duration": 280,
    "start_time": "2022-03-19T18:18:45.332Z"
   },
   {
    "duration": 18,
    "start_time": "2022-03-19T18:18:45.621Z"
   },
   {
    "duration": 63,
    "start_time": "2022-03-19T18:18:45.641Z"
   },
   {
    "duration": 1462,
    "start_time": "2022-03-19T18:19:04.720Z"
   },
   {
    "duration": 34,
    "start_time": "2022-03-19T18:19:06.186Z"
   },
   {
    "duration": 125,
    "start_time": "2022-03-19T18:19:06.223Z"
   },
   {
    "duration": 16,
    "start_time": "2022-03-19T18:19:06.351Z"
   },
   {
    "duration": 10,
    "start_time": "2022-03-19T18:19:06.373Z"
   },
   {
    "duration": 9,
    "start_time": "2022-03-19T18:19:06.386Z"
   },
   {
    "duration": 18,
    "start_time": "2022-03-19T18:19:06.398Z"
   },
   {
    "duration": 6,
    "start_time": "2022-03-19T18:19:06.419Z"
   },
   {
    "duration": 47,
    "start_time": "2022-03-19T18:19:06.428Z"
   },
   {
    "duration": 41,
    "start_time": "2022-03-19T18:19:06.478Z"
   },
   {
    "duration": 21,
    "start_time": "2022-03-19T18:19:06.522Z"
   },
   {
    "duration": 10,
    "start_time": "2022-03-19T18:19:06.568Z"
   },
   {
    "duration": 8,
    "start_time": "2022-03-19T18:19:06.580Z"
   },
   {
    "duration": 8,
    "start_time": "2022-03-19T18:19:06.593Z"
   },
   {
    "duration": 8,
    "start_time": "2022-03-19T18:19:06.603Z"
   },
   {
    "duration": 56,
    "start_time": "2022-03-19T18:19:06.613Z"
   },
   {
    "duration": 7,
    "start_time": "2022-03-19T18:19:06.672Z"
   },
   {
    "duration": 8,
    "start_time": "2022-03-19T18:19:06.682Z"
   },
   {
    "duration": 37,
    "start_time": "2022-03-19T18:19:06.692Z"
   },
   {
    "duration": 47,
    "start_time": "2022-03-19T18:19:06.731Z"
   },
   {
    "duration": 330,
    "start_time": "2022-03-19T18:19:06.781Z"
   },
   {
    "duration": 13,
    "start_time": "2022-03-19T18:19:07.113Z"
   },
   {
    "duration": 342,
    "start_time": "2022-03-19T18:19:07.129Z"
   },
   {
    "duration": 12,
    "start_time": "2022-03-19T18:19:07.473Z"
   },
   {
    "duration": 245,
    "start_time": "2022-03-19T18:19:07.487Z"
   },
   {
    "duration": 13,
    "start_time": "2022-03-19T18:19:07.734Z"
   },
   {
    "duration": 334,
    "start_time": "2022-03-19T18:19:07.749Z"
   },
   {
    "duration": 13,
    "start_time": "2022-03-19T18:19:08.085Z"
   },
   {
    "duration": 393,
    "start_time": "2022-03-19T18:19:08.100Z"
   },
   {
    "duration": 8,
    "start_time": "2022-03-19T18:19:08.495Z"
   },
   {
    "duration": 11,
    "start_time": "2022-03-19T18:19:08.505Z"
   },
   {
    "duration": 13,
    "start_time": "2022-03-19T18:19:08.519Z"
   },
   {
    "duration": 85,
    "start_time": "2022-03-19T18:19:08.534Z"
   },
   {
    "duration": 52,
    "start_time": "2022-03-19T18:19:08.622Z"
   },
   {
    "duration": 241,
    "start_time": "2022-03-19T18:19:08.676Z"
   },
   {
    "duration": 48,
    "start_time": "2022-03-19T18:19:08.920Z"
   },
   {
    "duration": 245,
    "start_time": "2022-03-19T18:19:08.971Z"
   },
   {
    "duration": 57,
    "start_time": "2022-03-19T18:19:09.218Z"
   },
   {
    "duration": 262,
    "start_time": "2022-03-19T18:19:09.278Z"
   },
   {
    "duration": 169,
    "start_time": "2022-03-19T18:19:09.542Z"
   },
   {
    "duration": 12,
    "start_time": "2022-03-19T18:19:09.717Z"
   },
   {
    "duration": 96,
    "start_time": "2022-03-19T18:19:09.731Z"
   },
   {
    "duration": 949,
    "start_time": "2022-03-19T18:19:31.189Z"
   },
   {
    "duration": 31,
    "start_time": "2022-03-19T18:19:32.141Z"
   },
   {
    "duration": 107,
    "start_time": "2022-03-19T18:19:32.174Z"
   },
   {
    "duration": 4,
    "start_time": "2022-03-19T18:19:32.284Z"
   },
   {
    "duration": 7,
    "start_time": "2022-03-19T18:19:32.292Z"
   },
   {
    "duration": 7,
    "start_time": "2022-03-19T18:19:32.301Z"
   },
   {
    "duration": 11,
    "start_time": "2022-03-19T18:19:32.310Z"
   },
   {
    "duration": 6,
    "start_time": "2022-03-19T18:19:32.323Z"
   },
   {
    "duration": 47,
    "start_time": "2022-03-19T18:19:32.331Z"
   },
   {
    "duration": 37,
    "start_time": "2022-03-19T18:19:32.380Z"
   },
   {
    "duration": 50,
    "start_time": "2022-03-19T18:19:32.419Z"
   },
   {
    "duration": 9,
    "start_time": "2022-03-19T18:19:32.471Z"
   },
   {
    "duration": 8,
    "start_time": "2022-03-19T18:19:32.482Z"
   },
   {
    "duration": 7,
    "start_time": "2022-03-19T18:19:32.495Z"
   },
   {
    "duration": 7,
    "start_time": "2022-03-19T18:19:32.505Z"
   },
   {
    "duration": 52,
    "start_time": "2022-03-19T18:19:32.515Z"
   },
   {
    "duration": 5,
    "start_time": "2022-03-19T18:19:32.570Z"
   },
   {
    "duration": 7,
    "start_time": "2022-03-19T18:19:32.577Z"
   },
   {
    "duration": 38,
    "start_time": "2022-03-19T18:19:32.586Z"
   },
   {
    "duration": 43,
    "start_time": "2022-03-19T18:19:32.627Z"
   },
   {
    "duration": 316,
    "start_time": "2022-03-19T18:19:32.672Z"
   },
   {
    "duration": 12,
    "start_time": "2022-03-19T18:19:32.990Z"
   },
   {
    "duration": 337,
    "start_time": "2022-03-19T18:19:33.005Z"
   },
   {
    "duration": 24,
    "start_time": "2022-03-19T18:19:33.344Z"
   },
   {
    "duration": 237,
    "start_time": "2022-03-19T18:19:33.370Z"
   },
   {
    "duration": 13,
    "start_time": "2022-03-19T18:19:33.609Z"
   },
   {
    "duration": 334,
    "start_time": "2022-03-19T18:19:33.624Z"
   },
   {
    "duration": 18,
    "start_time": "2022-03-19T18:19:33.960Z"
   },
   {
    "duration": 355,
    "start_time": "2022-03-19T18:19:33.980Z"
   },
   {
    "duration": 8,
    "start_time": "2022-03-19T18:19:34.337Z"
   },
   {
    "duration": 20,
    "start_time": "2022-03-19T18:19:34.348Z"
   },
   {
    "duration": 7,
    "start_time": "2022-03-19T18:19:34.370Z"
   },
   {
    "duration": 51,
    "start_time": "2022-03-19T18:19:34.379Z"
   },
   {
    "duration": 61,
    "start_time": "2022-03-19T18:19:34.432Z"
   },
   {
    "duration": 251,
    "start_time": "2022-03-19T18:19:34.495Z"
   },
   {
    "duration": 42,
    "start_time": "2022-03-19T18:19:34.748Z"
   },
   {
    "duration": 240,
    "start_time": "2022-03-19T18:19:34.793Z"
   },
   {
    "duration": 45,
    "start_time": "2022-03-19T18:19:35.036Z"
   },
   {
    "duration": 239,
    "start_time": "2022-03-19T18:19:35.083Z"
   },
   {
    "duration": 166,
    "start_time": "2022-03-19T18:19:35.324Z"
   },
   {
    "duration": 12,
    "start_time": "2022-03-19T18:19:35.496Z"
   },
   {
    "duration": 95,
    "start_time": "2022-03-19T18:19:35.510Z"
   },
   {
    "duration": 73,
    "start_time": "2022-03-19T18:20:03.248Z"
   },
   {
    "duration": 68,
    "start_time": "2022-03-19T18:20:26.523Z"
   },
   {
    "duration": 71,
    "start_time": "2022-03-19T18:20:48.162Z"
   },
   {
    "duration": 26,
    "start_time": "2022-03-19T18:20:56.272Z"
   },
   {
    "duration": 52,
    "start_time": "2022-03-19T18:21:02.629Z"
   },
   {
    "duration": 56,
    "start_time": "2022-03-19T18:21:30.273Z"
   },
   {
    "duration": 54,
    "start_time": "2022-03-19T18:22:21.206Z"
   },
   {
    "duration": 8,
    "start_time": "2022-03-19T18:22:55.162Z"
   },
   {
    "duration": 53,
    "start_time": "2022-03-19T18:25:53.748Z"
   },
   {
    "duration": 56,
    "start_time": "2022-03-19T18:26:19.970Z"
   },
   {
    "duration": 58,
    "start_time": "2022-03-19T18:26:42.094Z"
   },
   {
    "duration": 974,
    "start_time": "2022-03-19T18:27:08.838Z"
   },
   {
    "duration": 21,
    "start_time": "2022-03-19T18:27:09.815Z"
   },
   {
    "duration": 110,
    "start_time": "2022-03-19T18:27:09.838Z"
   },
   {
    "duration": 19,
    "start_time": "2022-03-19T18:27:09.950Z"
   },
   {
    "duration": 9,
    "start_time": "2022-03-19T18:27:09.972Z"
   },
   {
    "duration": 7,
    "start_time": "2022-03-19T18:27:09.983Z"
   },
   {
    "duration": 11,
    "start_time": "2022-03-19T18:27:09.992Z"
   },
   {
    "duration": 8,
    "start_time": "2022-03-19T18:27:10.005Z"
   },
   {
    "duration": 53,
    "start_time": "2022-03-19T18:27:10.015Z"
   },
   {
    "duration": 39,
    "start_time": "2022-03-19T18:27:10.070Z"
   },
   {
    "duration": 19,
    "start_time": "2022-03-19T18:27:10.111Z"
   },
   {
    "duration": 36,
    "start_time": "2022-03-19T18:27:10.132Z"
   },
   {
    "duration": 12,
    "start_time": "2022-03-19T18:27:10.170Z"
   },
   {
    "duration": 8,
    "start_time": "2022-03-19T18:27:10.188Z"
   },
   {
    "duration": 9,
    "start_time": "2022-03-19T18:27:10.198Z"
   },
   {
    "duration": 15,
    "start_time": "2022-03-19T18:27:10.209Z"
   },
   {
    "duration": 43,
    "start_time": "2022-03-19T18:27:10.227Z"
   },
   {
    "duration": 7,
    "start_time": "2022-03-19T18:27:10.273Z"
   },
   {
    "duration": 36,
    "start_time": "2022-03-19T18:27:10.283Z"
   },
   {
    "duration": 50,
    "start_time": "2022-03-19T18:27:10.322Z"
   },
   {
    "duration": 311,
    "start_time": "2022-03-19T18:27:10.374Z"
   },
   {
    "duration": 13,
    "start_time": "2022-03-19T18:27:10.687Z"
   },
   {
    "duration": 355,
    "start_time": "2022-03-19T18:27:10.702Z"
   },
   {
    "duration": 20,
    "start_time": "2022-03-19T18:27:11.060Z"
   },
   {
    "duration": 376,
    "start_time": "2022-03-19T18:27:11.083Z"
   },
   {
    "duration": 22,
    "start_time": "2022-03-19T18:27:11.462Z"
   },
   {
    "duration": 504,
    "start_time": "2022-03-19T18:27:11.487Z"
   },
   {
    "duration": 16,
    "start_time": "2022-03-19T18:27:11.994Z"
   },
   {
    "duration": 606,
    "start_time": "2022-03-19T18:27:12.013Z"
   },
   {
    "duration": 9,
    "start_time": "2022-03-19T18:27:12.624Z"
   },
   {
    "duration": 8,
    "start_time": "2022-03-19T18:27:12.636Z"
   },
   {
    "duration": 8,
    "start_time": "2022-03-19T18:27:12.667Z"
   },
   {
    "duration": 95,
    "start_time": "2022-03-19T18:27:12.679Z"
   },
   {
    "duration": 44,
    "start_time": "2022-03-19T18:27:12.777Z"
   },
   {
    "duration": 251,
    "start_time": "2022-03-19T18:27:12.824Z"
   },
   {
    "duration": 32,
    "start_time": "2022-03-19T18:27:13.078Z"
   },
   {
    "duration": 258,
    "start_time": "2022-03-19T18:27:13.112Z"
   },
   {
    "duration": 32,
    "start_time": "2022-03-19T18:27:13.373Z"
   },
   {
    "duration": 290,
    "start_time": "2022-03-19T18:27:13.408Z"
   },
   {
    "duration": 158,
    "start_time": "2022-03-19T18:27:13.701Z"
   },
   {
    "duration": 12,
    "start_time": "2022-03-19T18:27:13.870Z"
   },
   {
    "duration": 61,
    "start_time": "2022-03-19T18:27:13.884Z"
   },
   {
    "duration": 7,
    "start_time": "2022-03-19T18:27:13.968Z"
   },
   {
    "duration": 56,
    "start_time": "2022-03-19T18:28:00.072Z"
   },
   {
    "duration": 929,
    "start_time": "2022-03-19T18:28:05.680Z"
   },
   {
    "duration": 21,
    "start_time": "2022-03-19T18:28:06.612Z"
   },
   {
    "duration": 118,
    "start_time": "2022-03-19T18:28:06.636Z"
   },
   {
    "duration": 13,
    "start_time": "2022-03-19T18:28:06.756Z"
   },
   {
    "duration": 11,
    "start_time": "2022-03-19T18:28:06.772Z"
   },
   {
    "duration": 6,
    "start_time": "2022-03-19T18:28:06.785Z"
   },
   {
    "duration": 13,
    "start_time": "2022-03-19T18:28:06.793Z"
   },
   {
    "duration": 7,
    "start_time": "2022-03-19T18:28:06.808Z"
   },
   {
    "duration": 9,
    "start_time": "2022-03-19T18:28:06.817Z"
   },
   {
    "duration": 38,
    "start_time": "2022-03-19T18:28:06.867Z"
   },
   {
    "duration": 22,
    "start_time": "2022-03-19T18:28:06.907Z"
   },
   {
    "duration": 41,
    "start_time": "2022-03-19T18:28:06.932Z"
   },
   {
    "duration": 12,
    "start_time": "2022-03-19T18:28:06.975Z"
   },
   {
    "duration": 7,
    "start_time": "2022-03-19T18:28:06.994Z"
   },
   {
    "duration": 8,
    "start_time": "2022-03-19T18:28:07.003Z"
   },
   {
    "duration": 12,
    "start_time": "2022-03-19T18:28:07.013Z"
   },
   {
    "duration": 41,
    "start_time": "2022-03-19T18:28:07.027Z"
   },
   {
    "duration": 6,
    "start_time": "2022-03-19T18:28:07.070Z"
   },
   {
    "duration": 35,
    "start_time": "2022-03-19T18:28:07.079Z"
   },
   {
    "duration": 10,
    "start_time": "2022-03-19T18:28:07.116Z"
   },
   {
    "duration": 328,
    "start_time": "2022-03-19T18:28:07.128Z"
   },
   {
    "duration": 11,
    "start_time": "2022-03-19T18:28:07.458Z"
   },
   {
    "duration": 309,
    "start_time": "2022-03-19T18:28:07.471Z"
   },
   {
    "duration": 11,
    "start_time": "2022-03-19T18:28:07.783Z"
   },
   {
    "duration": 247,
    "start_time": "2022-03-19T18:28:07.797Z"
   },
   {
    "duration": 24,
    "start_time": "2022-03-19T18:28:08.047Z"
   },
   {
    "duration": 311,
    "start_time": "2022-03-19T18:28:08.073Z"
   },
   {
    "duration": 12,
    "start_time": "2022-03-19T18:28:08.387Z"
   },
   {
    "duration": 368,
    "start_time": "2022-03-19T18:28:08.401Z"
   },
   {
    "duration": 7,
    "start_time": "2022-03-19T18:28:08.772Z"
   },
   {
    "duration": 7,
    "start_time": "2022-03-19T18:28:08.782Z"
   },
   {
    "duration": 7,
    "start_time": "2022-03-19T18:28:08.791Z"
   },
   {
    "duration": 99,
    "start_time": "2022-03-19T18:28:08.801Z"
   },
   {
    "duration": 31,
    "start_time": "2022-03-19T18:28:08.903Z"
   },
   {
    "duration": 245,
    "start_time": "2022-03-19T18:28:08.936Z"
   },
   {
    "duration": 31,
    "start_time": "2022-03-19T18:28:09.184Z"
   },
   {
    "duration": 246,
    "start_time": "2022-03-19T18:28:09.217Z"
   },
   {
    "duration": 29,
    "start_time": "2022-03-19T18:28:09.468Z"
   },
   {
    "duration": 255,
    "start_time": "2022-03-19T18:28:09.499Z"
   },
   {
    "duration": 161,
    "start_time": "2022-03-19T18:28:09.757Z"
   },
   {
    "duration": 12,
    "start_time": "2022-03-19T18:28:09.923Z"
   },
   {
    "duration": 82,
    "start_time": "2022-03-19T18:28:09.938Z"
   },
   {
    "duration": 8,
    "start_time": "2022-03-19T18:28:10.023Z"
   },
   {
    "duration": 59,
    "start_time": "2022-03-19T18:28:22.443Z"
   },
   {
    "duration": 1014,
    "start_time": "2022-03-19T18:28:27.423Z"
   },
   {
    "duration": 30,
    "start_time": "2022-03-19T18:28:28.440Z"
   },
   {
    "duration": 112,
    "start_time": "2022-03-19T18:28:28.473Z"
   },
   {
    "duration": 5,
    "start_time": "2022-03-19T18:28:28.589Z"
   },
   {
    "duration": 10,
    "start_time": "2022-03-19T18:28:28.596Z"
   },
   {
    "duration": 5,
    "start_time": "2022-03-19T18:28:28.608Z"
   },
   {
    "duration": 12,
    "start_time": "2022-03-19T18:28:28.615Z"
   },
   {
    "duration": 40,
    "start_time": "2022-03-19T18:28:28.630Z"
   },
   {
    "duration": 7,
    "start_time": "2022-03-19T18:28:28.673Z"
   },
   {
    "duration": 36,
    "start_time": "2022-03-19T18:28:28.684Z"
   },
   {
    "duration": 49,
    "start_time": "2022-03-19T18:28:28.722Z"
   },
   {
    "duration": 8,
    "start_time": "2022-03-19T18:28:28.773Z"
   },
   {
    "duration": 9,
    "start_time": "2022-03-19T18:28:28.783Z"
   },
   {
    "duration": 7,
    "start_time": "2022-03-19T18:28:28.794Z"
   },
   {
    "duration": 10,
    "start_time": "2022-03-19T18:28:28.802Z"
   },
   {
    "duration": 14,
    "start_time": "2022-03-19T18:28:28.814Z"
   },
   {
    "duration": 6,
    "start_time": "2022-03-19T18:28:28.867Z"
   },
   {
    "duration": 12,
    "start_time": "2022-03-19T18:28:28.876Z"
   },
   {
    "duration": 40,
    "start_time": "2022-03-19T18:28:28.890Z"
   },
   {
    "duration": 40,
    "start_time": "2022-03-19T18:28:28.932Z"
   },
   {
    "duration": 308,
    "start_time": "2022-03-19T18:28:28.975Z"
   },
   {
    "duration": 13,
    "start_time": "2022-03-19T18:28:29.285Z"
   },
   {
    "duration": 331,
    "start_time": "2022-03-19T18:28:29.300Z"
   },
   {
    "duration": 13,
    "start_time": "2022-03-19T18:28:29.634Z"
   },
   {
    "duration": 274,
    "start_time": "2022-03-19T18:28:29.650Z"
   },
   {
    "duration": 14,
    "start_time": "2022-03-19T18:28:29.927Z"
   },
   {
    "duration": 349,
    "start_time": "2022-03-19T18:28:29.943Z"
   },
   {
    "duration": 12,
    "start_time": "2022-03-19T18:28:30.298Z"
   },
   {
    "duration": 373,
    "start_time": "2022-03-19T18:28:30.312Z"
   },
   {
    "duration": 8,
    "start_time": "2022-03-19T18:28:30.687Z"
   },
   {
    "duration": 17,
    "start_time": "2022-03-19T18:28:30.697Z"
   },
   {
    "duration": 15,
    "start_time": "2022-03-19T18:28:30.717Z"
   },
   {
    "duration": 70,
    "start_time": "2022-03-19T18:28:30.734Z"
   },
   {
    "duration": 32,
    "start_time": "2022-03-19T18:28:30.807Z"
   },
   {
    "duration": 257,
    "start_time": "2022-03-19T18:28:30.842Z"
   },
   {
    "duration": 33,
    "start_time": "2022-03-19T18:28:31.102Z"
   },
   {
    "duration": 267,
    "start_time": "2022-03-19T18:28:31.138Z"
   },
   {
    "duration": 32,
    "start_time": "2022-03-19T18:28:31.408Z"
   },
   {
    "duration": 324,
    "start_time": "2022-03-19T18:28:31.443Z"
   },
   {
    "duration": 163,
    "start_time": "2022-03-19T18:28:31.770Z"
   },
   {
    "duration": 12,
    "start_time": "2022-03-19T18:28:31.935Z"
   },
   {
    "duration": 76,
    "start_time": "2022-03-19T18:28:31.950Z"
   },
   {
    "duration": 8,
    "start_time": "2022-03-19T18:28:32.028Z"
   },
   {
    "duration": 58,
    "start_time": "2022-03-19T18:33:03.691Z"
   },
   {
    "duration": 58,
    "start_time": "2022-03-19T18:33:35.156Z"
   },
   {
    "duration": 58,
    "start_time": "2022-03-19T18:33:44.709Z"
   },
   {
    "duration": 60,
    "start_time": "2022-03-19T18:34:00.531Z"
   },
   {
    "duration": 34,
    "start_time": "2022-03-19T18:34:28.903Z"
   },
   {
    "duration": 59,
    "start_time": "2022-03-19T18:34:34.803Z"
   },
   {
    "duration": 59,
    "start_time": "2022-03-19T18:34:55.063Z"
   },
   {
    "duration": 61,
    "start_time": "2022-03-19T18:35:02.445Z"
   },
   {
    "duration": 34,
    "start_time": "2022-03-19T18:36:42.482Z"
   },
   {
    "duration": 32,
    "start_time": "2022-03-19T18:37:07.604Z"
   },
   {
    "duration": 1631,
    "start_time": "2022-03-19T18:37:45.943Z"
   },
   {
    "duration": 210,
    "start_time": "2022-03-19T18:38:03.783Z"
   },
   {
    "duration": 219,
    "start_time": "2022-03-19T18:38:13.864Z"
   },
   {
    "duration": 234,
    "start_time": "2022-03-19T18:38:22.062Z"
   },
   {
    "duration": 33,
    "start_time": "2022-03-19T18:39:07.491Z"
   },
   {
    "duration": 257,
    "start_time": "2022-03-19T18:39:12.952Z"
   },
   {
    "duration": 909,
    "start_time": "2022-03-19T18:40:08.784Z"
   },
   {
    "duration": 22,
    "start_time": "2022-03-19T18:40:09.695Z"
   },
   {
    "duration": 120,
    "start_time": "2022-03-19T18:40:09.719Z"
   },
   {
    "duration": 5,
    "start_time": "2022-03-19T18:40:09.841Z"
   },
   {
    "duration": 24,
    "start_time": "2022-03-19T18:40:09.849Z"
   },
   {
    "duration": 8,
    "start_time": "2022-03-19T18:40:09.875Z"
   },
   {
    "duration": 13,
    "start_time": "2022-03-19T18:40:09.885Z"
   },
   {
    "duration": 7,
    "start_time": "2022-03-19T18:40:09.900Z"
   },
   {
    "duration": 6,
    "start_time": "2022-03-19T18:40:09.909Z"
   },
   {
    "duration": 66,
    "start_time": "2022-03-19T18:40:09.918Z"
   },
   {
    "duration": 20,
    "start_time": "2022-03-19T18:40:09.986Z"
   },
   {
    "duration": 9,
    "start_time": "2022-03-19T18:40:10.008Z"
   },
   {
    "duration": 8,
    "start_time": "2022-03-19T18:40:10.019Z"
   },
   {
    "duration": 36,
    "start_time": "2022-03-19T18:40:10.032Z"
   },
   {
    "duration": 12,
    "start_time": "2022-03-19T18:40:10.070Z"
   },
   {
    "duration": 16,
    "start_time": "2022-03-19T18:40:10.084Z"
   },
   {
    "duration": 12,
    "start_time": "2022-03-19T18:40:10.102Z"
   },
   {
    "duration": 9,
    "start_time": "2022-03-19T18:40:10.116Z"
   },
   {
    "duration": 74,
    "start_time": "2022-03-19T18:40:10.127Z"
   },
   {
    "duration": 11,
    "start_time": "2022-03-19T18:40:10.203Z"
   },
   {
    "duration": 321,
    "start_time": "2022-03-19T18:40:10.216Z"
   },
   {
    "duration": 14,
    "start_time": "2022-03-19T18:40:10.540Z"
   },
   {
    "duration": 327,
    "start_time": "2022-03-19T18:40:10.568Z"
   },
   {
    "duration": 14,
    "start_time": "2022-03-19T18:40:10.898Z"
   },
   {
    "duration": 255,
    "start_time": "2022-03-19T18:40:10.915Z"
   },
   {
    "duration": 14,
    "start_time": "2022-03-19T18:40:11.173Z"
   },
   {
    "duration": 327,
    "start_time": "2022-03-19T18:40:11.190Z"
   },
   {
    "duration": 15,
    "start_time": "2022-03-19T18:40:11.520Z"
   },
   {
    "duration": 377,
    "start_time": "2022-03-19T18:40:11.537Z"
   },
   {
    "duration": 7,
    "start_time": "2022-03-19T18:40:11.917Z"
   },
   {
    "duration": 6,
    "start_time": "2022-03-19T18:40:11.927Z"
   },
   {
    "duration": 35,
    "start_time": "2022-03-19T18:40:11.936Z"
   },
   {
    "duration": 49,
    "start_time": "2022-03-19T18:40:11.973Z"
   },
   {
    "duration": 52,
    "start_time": "2022-03-19T18:40:12.024Z"
   },
   {
    "duration": 240,
    "start_time": "2022-03-19T18:40:12.078Z"
   },
   {
    "duration": 30,
    "start_time": "2022-03-19T18:40:12.320Z"
   },
   {
    "duration": 242,
    "start_time": "2022-03-19T18:40:12.352Z"
   },
   {
    "duration": 30,
    "start_time": "2022-03-19T18:40:12.596Z"
   },
   {
    "duration": 258,
    "start_time": "2022-03-19T18:40:12.628Z"
   },
   {
    "duration": 165,
    "start_time": "2022-03-19T18:40:12.889Z"
   },
   {
    "duration": 13,
    "start_time": "2022-03-19T18:40:13.067Z"
   },
   {
    "duration": 63,
    "start_time": "2022-03-19T18:40:13.082Z"
   },
   {
    "duration": 34,
    "start_time": "2022-03-19T18:40:13.169Z"
   },
   {
    "duration": 284,
    "start_time": "2022-03-19T18:40:13.205Z"
   },
   {
    "duration": 10,
    "start_time": "2022-03-19T18:40:13.492Z"
   },
   {
    "duration": 8,
    "start_time": "2022-03-19T18:40:39.123Z"
   },
   {
    "duration": 32,
    "start_time": "2022-03-19T18:41:24.212Z"
   },
   {
    "duration": 251,
    "start_time": "2022-03-19T18:41:24.962Z"
   },
   {
    "duration": 33,
    "start_time": "2022-03-19T18:41:37.647Z"
   },
   {
    "duration": 260,
    "start_time": "2022-03-19T18:41:39.642Z"
   },
   {
    "duration": 26,
    "start_time": "2022-03-19T18:42:05.641Z"
   },
   {
    "duration": 25,
    "start_time": "2022-03-19T18:42:43.196Z"
   },
   {
    "duration": 260,
    "start_time": "2022-03-19T18:43:42.553Z"
   },
   {
    "duration": 271,
    "start_time": "2022-03-19T18:43:47.751Z"
   },
   {
    "duration": 338,
    "start_time": "2022-03-19T18:43:53.020Z"
   },
   {
    "duration": 971,
    "start_time": "2022-03-19T18:44:46.224Z"
   },
   {
    "duration": 21,
    "start_time": "2022-03-19T18:44:47.198Z"
   },
   {
    "duration": 118,
    "start_time": "2022-03-19T18:44:47.221Z"
   },
   {
    "duration": 5,
    "start_time": "2022-03-19T18:44:47.341Z"
   },
   {
    "duration": 20,
    "start_time": "2022-03-19T18:44:47.349Z"
   },
   {
    "duration": 5,
    "start_time": "2022-03-19T18:44:47.371Z"
   },
   {
    "duration": 12,
    "start_time": "2022-03-19T18:44:47.378Z"
   },
   {
    "duration": 6,
    "start_time": "2022-03-19T18:44:47.392Z"
   },
   {
    "duration": 8,
    "start_time": "2022-03-19T18:44:47.400Z"
   },
   {
    "duration": 73,
    "start_time": "2022-03-19T18:44:47.411Z"
   },
   {
    "duration": 19,
    "start_time": "2022-03-19T18:44:47.487Z"
   },
   {
    "duration": 8,
    "start_time": "2022-03-19T18:44:47.509Z"
   },
   {
    "duration": 9,
    "start_time": "2022-03-19T18:44:47.521Z"
   },
   {
    "duration": 8,
    "start_time": "2022-03-19T18:44:47.568Z"
   },
   {
    "duration": 8,
    "start_time": "2022-03-19T18:44:47.579Z"
   },
   {
    "duration": 15,
    "start_time": "2022-03-19T18:44:47.589Z"
   },
   {
    "duration": 5,
    "start_time": "2022-03-19T18:44:47.607Z"
   },
   {
    "duration": 54,
    "start_time": "2022-03-19T18:44:47.615Z"
   },
   {
    "duration": 37,
    "start_time": "2022-03-19T18:44:47.671Z"
   },
   {
    "duration": 14,
    "start_time": "2022-03-19T18:44:47.710Z"
   },
   {
    "duration": 325,
    "start_time": "2022-03-19T18:44:47.726Z"
   },
   {
    "duration": 26,
    "start_time": "2022-03-19T18:44:48.054Z"
   },
   {
    "duration": 321,
    "start_time": "2022-03-19T18:44:48.082Z"
   },
   {
    "duration": 13,
    "start_time": "2022-03-19T18:44:48.406Z"
   },
   {
    "duration": 242,
    "start_time": "2022-03-19T18:44:48.422Z"
   },
   {
    "duration": 14,
    "start_time": "2022-03-19T18:44:48.668Z"
   },
   {
    "duration": 310,
    "start_time": "2022-03-19T18:44:48.685Z"
   },
   {
    "duration": 13,
    "start_time": "2022-03-19T18:44:48.997Z"
   },
   {
    "duration": 363,
    "start_time": "2022-03-19T18:44:49.012Z"
   },
   {
    "duration": 7,
    "start_time": "2022-03-19T18:44:49.377Z"
   },
   {
    "duration": 24,
    "start_time": "2022-03-19T18:44:49.386Z"
   },
   {
    "duration": 8,
    "start_time": "2022-03-19T18:44:49.413Z"
   },
   {
    "duration": 70,
    "start_time": "2022-03-19T18:44:49.423Z"
   },
   {
    "duration": 30,
    "start_time": "2022-03-19T18:44:49.496Z"
   },
   {
    "duration": 264,
    "start_time": "2022-03-19T18:44:49.528Z"
   },
   {
    "duration": 32,
    "start_time": "2022-03-19T18:44:49.794Z"
   },
   {
    "duration": 251,
    "start_time": "2022-03-19T18:44:49.828Z"
   },
   {
    "duration": 30,
    "start_time": "2022-03-19T18:44:50.082Z"
   },
   {
    "duration": 269,
    "start_time": "2022-03-19T18:44:50.114Z"
   },
   {
    "duration": 165,
    "start_time": "2022-03-19T18:44:50.385Z"
   },
   {
    "duration": 20,
    "start_time": "2022-03-19T18:44:50.555Z"
   },
   {
    "duration": 65,
    "start_time": "2022-03-19T18:44:50.577Z"
   },
   {
    "duration": 53,
    "start_time": "2022-03-19T18:44:50.645Z"
   },
   {
    "duration": 287,
    "start_time": "2022-03-19T18:44:50.700Z"
   },
   {
    "duration": 60,
    "start_time": "2022-03-19T18:45:07.252Z"
   },
   {
    "duration": 60,
    "start_time": "2022-03-19T18:45:15.763Z"
   },
   {
    "duration": 31,
    "start_time": "2022-03-19T18:45:20.620Z"
   },
   {
    "duration": 247,
    "start_time": "2022-03-19T18:45:23.706Z"
   },
   {
    "duration": 37,
    "start_time": "2022-03-19T18:51:59.934Z"
   },
   {
    "duration": 57,
    "start_time": "2022-03-19T18:52:24.545Z"
   },
   {
    "duration": 32,
    "start_time": "2022-03-19T18:52:33.602Z"
   },
   {
    "duration": 258,
    "start_time": "2022-03-19T18:52:35.601Z"
   },
   {
    "duration": 32,
    "start_time": "2022-03-19T18:53:34.603Z"
   },
   {
    "duration": 55,
    "start_time": "2022-03-19T18:53:51.080Z"
   },
   {
    "duration": 32,
    "start_time": "2022-03-19T18:53:54.252Z"
   },
   {
    "duration": 246,
    "start_time": "2022-03-19T18:53:56.794Z"
   },
   {
    "duration": 58,
    "start_time": "2022-03-19T19:01:37.330Z"
   },
   {
    "duration": 11,
    "start_time": "2022-03-19T19:02:33.032Z"
   },
   {
    "duration": 37,
    "start_time": "2022-03-19T19:02:33.931Z"
   },
   {
    "duration": 15,
    "start_time": "2022-03-19T19:04:10.454Z"
   },
   {
    "duration": 10,
    "start_time": "2022-03-19T19:04:17.474Z"
   },
   {
    "duration": 35,
    "start_time": "2022-03-19T19:04:18.353Z"
   },
   {
    "duration": 116,
    "start_time": "2022-03-19T19:06:15.962Z"
   },
   {
    "duration": 244,
    "start_time": "2022-03-19T19:07:07.282Z"
   },
   {
    "duration": 341,
    "start_time": "2022-03-19T19:07:31.833Z"
   },
   {
    "duration": 286,
    "start_time": "2022-03-19T19:07:49.390Z"
   },
   {
    "duration": 316,
    "start_time": "2022-03-19T19:07:53.270Z"
   },
   {
    "duration": 276,
    "start_time": "2022-03-19T19:08:04.562Z"
   },
   {
    "duration": 306,
    "start_time": "2022-03-19T19:08:12.150Z"
   },
   {
    "duration": 274,
    "start_time": "2022-03-19T19:08:18.072Z"
   },
   {
    "duration": 304,
    "start_time": "2022-03-19T19:08:22.972Z"
   },
   {
    "duration": 269,
    "start_time": "2022-03-19T19:08:34.392Z"
   },
   {
    "duration": 248,
    "start_time": "2022-03-19T19:08:45.823Z"
   },
   {
    "duration": 443,
    "start_time": "2022-03-19T19:08:51.868Z"
   },
   {
    "duration": 270,
    "start_time": "2022-03-19T19:09:00.202Z"
   },
   {
    "duration": 317,
    "start_time": "2022-03-19T19:11:05.504Z"
   },
   {
    "duration": 204,
    "start_time": "2022-03-19T19:11:06.410Z"
   },
   {
    "duration": 365,
    "start_time": "2022-03-19T19:11:09.412Z"
   },
   {
    "duration": 118,
    "start_time": "2022-03-19T19:11:29.870Z"
   },
   {
    "duration": 276,
    "start_time": "2022-03-19T19:11:30.722Z"
   },
   {
    "duration": 271,
    "start_time": "2022-03-19T19:11:36.043Z"
   },
   {
    "duration": 316,
    "start_time": "2022-03-19T19:11:39.997Z"
   },
   {
    "duration": 306,
    "start_time": "2022-03-19T19:11:42.683Z"
   },
   {
    "duration": 280,
    "start_time": "2022-03-19T19:11:44.563Z"
   },
   {
    "duration": 425,
    "start_time": "2022-03-19T19:12:15.272Z"
   },
   {
    "duration": 255,
    "start_time": "2022-03-19T19:12:25.122Z"
   },
   {
    "duration": 290,
    "start_time": "2022-03-19T19:12:43.793Z"
   },
   {
    "duration": 314,
    "start_time": "2022-03-19T19:13:02.523Z"
   },
   {
    "duration": 222,
    "start_time": "2022-03-19T19:13:44.853Z"
   },
   {
    "duration": 255,
    "start_time": "2022-03-19T19:14:57.252Z"
   },
   {
    "duration": 358,
    "start_time": "2022-03-19T19:15:02.990Z"
   },
   {
    "duration": 333,
    "start_time": "2022-03-19T19:15:09.442Z"
   },
   {
    "duration": 243,
    "start_time": "2022-03-19T19:15:14.001Z"
   },
   {
    "duration": 10,
    "start_time": "2022-03-19T19:24:02.473Z"
   },
   {
    "duration": 7,
    "start_time": "2022-03-19T19:24:03.147Z"
   },
   {
    "duration": 39,
    "start_time": "2022-03-19T19:24:59.543Z"
   },
   {
    "duration": 7,
    "start_time": "2022-03-19T19:27:17.093Z"
   },
   {
    "duration": 10,
    "start_time": "2022-03-19T19:31:50.333Z"
   },
   {
    "duration": 35,
    "start_time": "2022-03-19T19:31:51.282Z"
   },
   {
    "duration": 107,
    "start_time": "2022-03-19T19:32:01.063Z"
   },
   {
    "duration": 290,
    "start_time": "2022-03-19T19:32:05.782Z"
   },
   {
    "duration": 326,
    "start_time": "2022-03-19T19:32:08.870Z"
   },
   {
    "duration": 207,
    "start_time": "2022-03-19T19:32:13.841Z"
   },
   {
    "duration": 381,
    "start_time": "2022-03-19T19:32:15.052Z"
   },
   {
    "duration": 6,
    "start_time": "2022-03-19T19:32:21.988Z"
   },
   {
    "duration": 8,
    "start_time": "2022-03-19T19:32:24.171Z"
   },
   {
    "duration": 256,
    "start_time": "2022-03-19T19:32:39.843Z"
   },
   {
    "duration": 235,
    "start_time": "2022-03-19T19:33:03.947Z"
   },
   {
    "duration": 210,
    "start_time": "2022-03-19T19:33:13.001Z"
   },
   {
    "duration": 207,
    "start_time": "2022-03-19T19:33:19.392Z"
   },
   {
    "duration": 39,
    "start_time": "2022-03-19T19:37:20.489Z"
   },
   {
    "duration": 38,
    "start_time": "2022-03-19T19:37:51.619Z"
   },
   {
    "duration": 32,
    "start_time": "2022-03-19T19:55:53.668Z"
   },
   {
    "duration": 31,
    "start_time": "2022-03-19T19:58:41.599Z"
   },
   {
    "duration": 221,
    "start_time": "2022-03-19T19:58:42.760Z"
   },
   {
    "duration": 221,
    "start_time": "2022-03-19T19:58:52.433Z"
   },
   {
    "duration": 228,
    "start_time": "2022-03-19T19:59:09.378Z"
   },
   {
    "duration": 213,
    "start_time": "2022-03-19T19:59:20.689Z"
   },
   {
    "duration": 238,
    "start_time": "2022-03-19T19:59:31.689Z"
   },
   {
    "duration": 30,
    "start_time": "2022-03-19T20:00:58.989Z"
   },
   {
    "duration": 216,
    "start_time": "2022-03-19T20:01:20.701Z"
   },
   {
    "duration": 219,
    "start_time": "2022-03-19T20:02:23.450Z"
   },
   {
    "duration": 229,
    "start_time": "2022-03-19T20:02:30.391Z"
   },
   {
    "duration": 222,
    "start_time": "2022-03-19T20:02:35.771Z"
   },
   {
    "duration": 31,
    "start_time": "2022-03-19T20:04:28.819Z"
   },
   {
    "duration": 230,
    "start_time": "2022-03-19T20:04:30.107Z"
   },
   {
    "duration": 216,
    "start_time": "2022-03-19T20:04:47.730Z"
   },
   {
    "duration": 214,
    "start_time": "2022-03-19T20:05:03.570Z"
   },
   {
    "duration": 206,
    "start_time": "2022-03-19T20:05:08.688Z"
   },
   {
    "duration": 214,
    "start_time": "2022-03-19T20:05:21.420Z"
   },
   {
    "duration": 201,
    "start_time": "2022-03-19T20:05:25.201Z"
   },
   {
    "duration": 242,
    "start_time": "2022-03-19T20:06:22.000Z"
   },
   {
    "duration": 266,
    "start_time": "2022-03-19T20:06:29.651Z"
   },
   {
    "duration": 236,
    "start_time": "2022-03-19T20:06:35.400Z"
   },
   {
    "duration": 269,
    "start_time": "2022-03-19T20:06:44.520Z"
   },
   {
    "duration": 258,
    "start_time": "2022-03-19T20:06:58.722Z"
   },
   {
    "duration": 428,
    "start_time": "2022-03-19T20:07:07.442Z"
   },
   {
    "duration": 252,
    "start_time": "2022-03-19T20:07:21.960Z"
   },
   {
    "duration": 267,
    "start_time": "2022-03-19T20:07:31.428Z"
   },
   {
    "duration": 270,
    "start_time": "2022-03-19T20:07:41.229Z"
   },
   {
    "duration": 257,
    "start_time": "2022-03-19T20:07:57.968Z"
   },
   {
    "duration": 232,
    "start_time": "2022-03-19T20:08:17.059Z"
   },
   {
    "duration": 30,
    "start_time": "2022-03-19T20:08:41.091Z"
   },
   {
    "duration": 1925,
    "start_time": "2022-03-19T20:08:44.309Z"
   },
   {
    "duration": 225,
    "start_time": "2022-03-19T20:08:50.190Z"
   },
   {
    "duration": 987,
    "start_time": "2022-03-19T20:10:05.981Z"
   },
   {
    "duration": 22,
    "start_time": "2022-03-19T20:10:06.972Z"
   },
   {
    "duration": 115,
    "start_time": "2022-03-19T20:10:06.996Z"
   },
   {
    "duration": 5,
    "start_time": "2022-03-19T20:10:07.114Z"
   },
   {
    "duration": 8,
    "start_time": "2022-03-19T20:10:07.122Z"
   },
   {
    "duration": 7,
    "start_time": "2022-03-19T20:10:07.133Z"
   },
   {
    "duration": 34,
    "start_time": "2022-03-19T20:10:07.142Z"
   },
   {
    "duration": 5,
    "start_time": "2022-03-19T20:10:07.179Z"
   },
   {
    "duration": 10,
    "start_time": "2022-03-19T20:10:07.186Z"
   },
   {
    "duration": 37,
    "start_time": "2022-03-19T20:10:07.198Z"
   },
   {
    "duration": 21,
    "start_time": "2022-03-19T20:10:07.267Z"
   },
   {
    "duration": 6,
    "start_time": "2022-03-19T20:10:07.290Z"
   },
   {
    "duration": 8,
    "start_time": "2022-03-19T20:10:07.299Z"
   },
   {
    "duration": 8,
    "start_time": "2022-03-19T20:10:07.312Z"
   },
   {
    "duration": 49,
    "start_time": "2022-03-19T20:10:07.323Z"
   },
   {
    "duration": 15,
    "start_time": "2022-03-19T20:10:07.374Z"
   },
   {
    "duration": 5,
    "start_time": "2022-03-19T20:10:07.391Z"
   },
   {
    "duration": 8,
    "start_time": "2022-03-19T20:10:07.398Z"
   },
   {
    "duration": 77,
    "start_time": "2022-03-19T20:10:07.408Z"
   },
   {
    "duration": 12,
    "start_time": "2022-03-19T20:10:07.487Z"
   },
   {
    "duration": 366,
    "start_time": "2022-03-19T20:10:07.501Z"
   },
   {
    "duration": 12,
    "start_time": "2022-03-19T20:10:07.869Z"
   },
   {
    "duration": 357,
    "start_time": "2022-03-19T20:10:07.884Z"
   },
   {
    "duration": 26,
    "start_time": "2022-03-19T20:10:08.245Z"
   },
   {
    "duration": 243,
    "start_time": "2022-03-19T20:10:08.274Z"
   },
   {
    "duration": 14,
    "start_time": "2022-03-19T20:10:08.519Z"
   },
   {
    "duration": 347,
    "start_time": "2022-03-19T20:10:08.535Z"
   },
   {
    "duration": 13,
    "start_time": "2022-03-19T20:10:08.885Z"
   },
   {
    "duration": 500,
    "start_time": "2022-03-19T20:10:08.900Z"
   },
   {
    "duration": 8,
    "start_time": "2022-03-19T20:10:09.403Z"
   },
   {
    "duration": 8,
    "start_time": "2022-03-19T20:10:09.414Z"
   },
   {
    "duration": 45,
    "start_time": "2022-03-19T20:10:09.425Z"
   },
   {
    "duration": 59,
    "start_time": "2022-03-19T20:10:09.473Z"
   },
   {
    "duration": 56,
    "start_time": "2022-03-19T20:10:09.536Z"
   },
   {
    "duration": 390,
    "start_time": "2022-03-19T20:10:09.595Z"
   },
   {
    "duration": 44,
    "start_time": "2022-03-19T20:10:09.988Z"
   },
   {
    "duration": 375,
    "start_time": "2022-03-19T20:10:10.035Z"
   },
   {
    "duration": 56,
    "start_time": "2022-03-19T20:10:10.413Z"
   },
   {
    "duration": 384,
    "start_time": "2022-03-19T20:10:10.473Z"
   },
   {
    "duration": 176,
    "start_time": "2022-03-19T20:10:10.860Z"
   },
   {
    "duration": 23,
    "start_time": "2022-03-19T20:10:11.044Z"
   },
   {
    "duration": 104,
    "start_time": "2022-03-19T20:10:11.070Z"
   },
   {
    "duration": 46,
    "start_time": "2022-03-19T20:10:11.177Z"
   },
   {
    "duration": 398,
    "start_time": "2022-03-19T20:10:11.226Z"
   },
   {
    "duration": 15,
    "start_time": "2022-03-19T20:10:11.627Z"
   },
   {
    "duration": 53,
    "start_time": "2022-03-19T20:10:11.645Z"
   },
   {
    "duration": 169,
    "start_time": "2022-03-19T20:10:11.701Z"
   },
   {
    "duration": 405,
    "start_time": "2022-03-19T20:10:11.873Z"
   },
   {
    "duration": 386,
    "start_time": "2022-03-19T20:10:12.281Z"
   },
   {
    "duration": 255,
    "start_time": "2022-03-19T20:10:12.669Z"
   },
   {
    "duration": 349,
    "start_time": "2022-03-19T20:10:12.926Z"
   },
   {
    "duration": 7,
    "start_time": "2022-03-19T20:10:13.277Z"
   },
   {
    "duration": 8,
    "start_time": "2022-03-19T20:10:13.287Z"
   },
   {
    "duration": 37,
    "start_time": "2022-03-19T20:10:13.297Z"
   },
   {
    "duration": 73,
    "start_time": "2022-03-19T20:10:13.336Z"
   },
   {
    "duration": 279,
    "start_time": "2022-03-19T20:10:13.412Z"
   },
   {
    "duration": 32,
    "start_time": "2022-03-19T20:10:13.693Z"
   },
   {
    "duration": 245,
    "start_time": "2022-03-19T20:10:13.727Z"
   },
   {
    "duration": 32,
    "start_time": "2022-03-19T20:10:13.974Z"
   },
   {
    "duration": 252,
    "start_time": "2022-03-19T20:10:14.008Z"
   },
   {
    "duration": 1245,
    "start_time": "2022-03-30T09:49:11.713Z"
   },
   {
    "duration": 37,
    "start_time": "2022-03-30T09:49:12.961Z"
   },
   {
    "duration": 117,
    "start_time": "2022-03-30T09:49:13.001Z"
   },
   {
    "duration": 5,
    "start_time": "2022-03-30T09:49:13.121Z"
   },
   {
    "duration": 11,
    "start_time": "2022-03-30T09:49:13.152Z"
   },
   {
    "duration": 11,
    "start_time": "2022-03-30T09:49:13.165Z"
   },
   {
    "duration": 10,
    "start_time": "2022-03-30T09:49:13.178Z"
   },
   {
    "duration": 5,
    "start_time": "2022-03-30T09:49:13.191Z"
   },
   {
    "duration": 10,
    "start_time": "2022-03-30T09:49:13.198Z"
   },
   {
    "duration": 66,
    "start_time": "2022-03-30T09:49:13.210Z"
   },
   {
    "duration": 21,
    "start_time": "2022-03-30T09:49:13.278Z"
   },
   {
    "duration": 7,
    "start_time": "2022-03-30T09:49:13.302Z"
   },
   {
    "duration": 11,
    "start_time": "2022-03-30T09:49:13.314Z"
   },
   {
    "duration": 10,
    "start_time": "2022-03-30T09:49:13.332Z"
   },
   {
    "duration": 11,
    "start_time": "2022-03-30T09:49:13.375Z"
   },
   {
    "duration": 24,
    "start_time": "2022-03-30T09:49:13.388Z"
   },
   {
    "duration": 6,
    "start_time": "2022-03-30T09:49:13.415Z"
   },
   {
    "duration": 22,
    "start_time": "2022-03-30T09:49:13.423Z"
   },
   {
    "duration": 54,
    "start_time": "2022-03-30T09:49:13.447Z"
   },
   {
    "duration": 11,
    "start_time": "2022-03-30T09:49:13.504Z"
   },
   {
    "duration": 581,
    "start_time": "2022-03-30T09:49:13.517Z"
   },
   {
    "duration": 12,
    "start_time": "2022-03-30T09:49:14.100Z"
   },
   {
    "duration": 333,
    "start_time": "2022-03-30T09:49:14.114Z"
   },
   {
    "duration": 26,
    "start_time": "2022-03-30T09:49:14.449Z"
   },
   {
    "duration": 302,
    "start_time": "2022-03-30T09:49:14.477Z"
   },
   {
    "duration": 15,
    "start_time": "2022-03-30T09:49:14.782Z"
   },
   {
    "duration": 337,
    "start_time": "2022-03-30T09:49:14.799Z"
   },
   {
    "duration": 13,
    "start_time": "2022-03-30T09:49:15.138Z"
   },
   {
    "duration": 360,
    "start_time": "2022-03-30T09:49:15.153Z"
   },
   {
    "duration": 9,
    "start_time": "2022-03-30T09:49:15.515Z"
   },
   {
    "duration": 9,
    "start_time": "2022-03-30T09:49:15.526Z"
   },
   {
    "duration": 39,
    "start_time": "2022-03-30T09:49:15.538Z"
   },
   {
    "duration": 51,
    "start_time": "2022-03-30T09:49:15.580Z"
   },
   {
    "duration": 52,
    "start_time": "2022-03-30T09:49:15.634Z"
   },
   {
    "duration": 240,
    "start_time": "2022-03-30T09:49:15.688Z"
   },
   {
    "duration": 44,
    "start_time": "2022-03-30T09:49:15.931Z"
   },
   {
    "duration": 303,
    "start_time": "2022-03-30T09:49:15.977Z"
   },
   {
    "duration": 42,
    "start_time": "2022-03-30T09:49:16.283Z"
   },
   {
    "duration": 268,
    "start_time": "2022-03-30T09:49:16.328Z"
   },
   {
    "duration": 254,
    "start_time": "2022-03-30T09:49:16.598Z"
   },
   {
    "duration": 25,
    "start_time": "2022-03-30T09:49:16.860Z"
   },
   {
    "duration": 62,
    "start_time": "2022-03-30T09:49:16.888Z"
   },
   {
    "duration": 47,
    "start_time": "2022-03-30T09:49:16.974Z"
   },
   {
    "duration": 362,
    "start_time": "2022-03-30T09:49:17.023Z"
   },
   {
    "duration": 10,
    "start_time": "2022-03-30T09:49:17.387Z"
   },
   {
    "duration": 35,
    "start_time": "2022-03-30T09:49:17.400Z"
   },
   {
    "duration": 144,
    "start_time": "2022-03-30T09:49:17.437Z"
   },
   {
    "duration": 271,
    "start_time": "2022-03-30T09:49:17.584Z"
   },
   {
    "duration": 352,
    "start_time": "2022-03-30T09:49:17.858Z"
   },
   {
    "duration": 338,
    "start_time": "2022-03-30T09:49:18.213Z"
   },
   {
    "duration": 339,
    "start_time": "2022-03-30T09:49:18.554Z"
   },
   {
    "duration": 7,
    "start_time": "2022-03-30T09:49:18.896Z"
   },
   {
    "duration": 7,
    "start_time": "2022-03-30T09:49:18.905Z"
   },
   {
    "duration": 66,
    "start_time": "2022-03-30T09:49:18.914Z"
   },
   {
    "duration": 41,
    "start_time": "2022-03-30T09:49:18.984Z"
   },
   {
    "duration": 285,
    "start_time": "2022-03-30T09:49:19.027Z"
   },
   {
    "duration": 31,
    "start_time": "2022-03-30T09:49:19.315Z"
   },
   {
    "duration": 246,
    "start_time": "2022-03-30T09:49:19.348Z"
   },
   {
    "duration": 30,
    "start_time": "2022-03-30T09:49:19.596Z"
   },
   {
    "duration": 253,
    "start_time": "2022-03-30T09:49:19.628Z"
   },
   {
    "duration": 19,
    "start_time": "2022-03-30T09:51:27.261Z"
   },
   {
    "duration": 1031,
    "start_time": "2022-03-30T09:52:49.112Z"
   },
   {
    "duration": 41,
    "start_time": "2022-03-30T09:52:50.146Z"
   },
   {
    "duration": 145,
    "start_time": "2022-03-30T09:52:50.190Z"
   },
   {
    "duration": 5,
    "start_time": "2022-03-30T09:52:50.629Z"
   },
   {
    "duration": 8,
    "start_time": "2022-03-30T09:52:51.637Z"
   },
   {
    "duration": 5,
    "start_time": "2022-03-30T09:52:52.389Z"
   },
   {
    "duration": 13,
    "start_time": "2022-03-30T09:52:53.710Z"
   },
   {
    "duration": 1086,
    "start_time": "2022-03-30T09:53:45.817Z"
   },
   {
    "duration": 22,
    "start_time": "2022-03-30T09:53:46.906Z"
   },
   {
    "duration": 126,
    "start_time": "2022-03-30T09:53:46.930Z"
   },
   {
    "duration": 13,
    "start_time": "2022-03-30T09:53:47.060Z"
   },
   {
    "duration": 8,
    "start_time": "2022-03-30T09:53:47.076Z"
   },
   {
    "duration": 9,
    "start_time": "2022-03-30T09:53:47.087Z"
   },
   {
    "duration": 15,
    "start_time": "2022-03-30T09:53:47.098Z"
   },
   {
    "duration": 11,
    "start_time": "2022-03-30T09:53:47.115Z"
   },
   {
    "duration": 46,
    "start_time": "2022-03-30T09:53:47.128Z"
   },
   {
    "duration": 6,
    "start_time": "2022-03-30T09:53:47.178Z"
   },
   {
    "duration": 40,
    "start_time": "2022-03-30T09:53:47.186Z"
   },
   {
    "duration": 49,
    "start_time": "2022-03-30T09:53:47.228Z"
   },
   {
    "duration": 9,
    "start_time": "2022-03-30T09:53:47.280Z"
   },
   {
    "duration": 10,
    "start_time": "2022-03-30T09:53:47.292Z"
   },
   {
    "duration": 7,
    "start_time": "2022-03-30T09:53:47.304Z"
   },
   {
    "duration": 8,
    "start_time": "2022-03-30T09:53:47.315Z"
   },
   {
    "duration": 54,
    "start_time": "2022-03-30T09:53:47.325Z"
   },
   {
    "duration": 4,
    "start_time": "2022-03-30T09:53:47.381Z"
   },
   {
    "duration": 10,
    "start_time": "2022-03-30T09:53:47.388Z"
   },
   {
    "duration": 35,
    "start_time": "2022-03-30T09:53:47.401Z"
   },
   {
    "duration": 36,
    "start_time": "2022-03-30T09:53:47.439Z"
   },
   {
    "duration": 329,
    "start_time": "2022-03-30T09:53:47.477Z"
   },
   {
    "duration": 12,
    "start_time": "2022-03-30T09:53:47.809Z"
   },
   {
    "duration": 600,
    "start_time": "2022-03-30T09:53:47.874Z"
   },
   {
    "duration": 14,
    "start_time": "2022-03-30T09:53:48.476Z"
   },
   {
    "duration": 414,
    "start_time": "2022-03-30T09:53:48.493Z"
   },
   {
    "duration": 11,
    "start_time": "2022-03-30T09:53:48.909Z"
   },
   {
    "duration": 599,
    "start_time": "2022-03-30T09:53:48.977Z"
   },
   {
    "duration": 16,
    "start_time": "2022-03-30T09:53:49.578Z"
   },
   {
    "duration": 725,
    "start_time": "2022-03-30T09:53:49.596Z"
   },
   {
    "duration": 8,
    "start_time": "2022-03-30T09:53:50.375Z"
   },
   {
    "duration": 11,
    "start_time": "2022-03-30T09:53:50.386Z"
   },
   {
    "duration": 15,
    "start_time": "2022-03-30T09:53:50.399Z"
   },
   {
    "duration": 167,
    "start_time": "2022-03-30T09:53:50.417Z"
   },
   {
    "duration": 96,
    "start_time": "2022-03-30T09:53:50.587Z"
   },
   {
    "duration": 458,
    "start_time": "2022-03-30T09:53:50.686Z"
   },
   {
    "duration": 37,
    "start_time": "2022-03-30T09:53:51.146Z"
   },
   {
    "duration": 236,
    "start_time": "2022-03-30T09:53:51.186Z"
   },
   {
    "duration": 29,
    "start_time": "2022-03-30T09:53:51.425Z"
   },
   {
    "duration": 249,
    "start_time": "2022-03-30T09:53:51.473Z"
   },
   {
    "duration": 181,
    "start_time": "2022-03-30T09:53:51.725Z"
   },
   {
    "duration": 14,
    "start_time": "2022-03-30T09:53:51.908Z"
   },
   {
    "duration": 89,
    "start_time": "2022-03-30T09:53:51.925Z"
   },
   {
    "duration": 32,
    "start_time": "2022-03-30T09:53:52.017Z"
   },
   {
    "duration": 287,
    "start_time": "2022-03-30T09:53:52.051Z"
   },
   {
    "duration": 10,
    "start_time": "2022-03-30T09:53:52.341Z"
   },
   {
    "duration": 48,
    "start_time": "2022-03-30T09:53:52.353Z"
   },
   {
    "duration": 116,
    "start_time": "2022-03-30T09:53:52.404Z"
   },
   {
    "duration": 263,
    "start_time": "2022-03-30T09:53:52.522Z"
   },
   {
    "duration": 470,
    "start_time": "2022-03-30T09:53:52.788Z"
   },
   {
    "duration": 235,
    "start_time": "2022-03-30T09:53:53.260Z"
   },
   {
    "duration": 306,
    "start_time": "2022-03-30T09:53:53.497Z"
   },
   {
    "duration": 7,
    "start_time": "2022-03-30T09:53:53.806Z"
   },
   {
    "duration": 13,
    "start_time": "2022-03-30T09:53:53.816Z"
   },
   {
    "duration": 58,
    "start_time": "2022-03-30T09:53:53.831Z"
   },
   {
    "duration": 29,
    "start_time": "2022-03-30T09:53:53.891Z"
   },
   {
    "duration": 278,
    "start_time": "2022-03-30T09:53:53.922Z"
   },
   {
    "duration": 35,
    "start_time": "2022-03-30T09:53:54.202Z"
   },
   {
    "duration": 236,
    "start_time": "2022-03-30T09:53:54.240Z"
   },
   {
    "duration": 33,
    "start_time": "2022-03-30T09:53:54.478Z"
   },
   {
    "duration": 247,
    "start_time": "2022-03-30T09:53:54.513Z"
   },
   {
    "duration": 963,
    "start_time": "2022-03-30T10:00:32.586Z"
   },
   {
    "duration": 32,
    "start_time": "2022-03-30T10:00:33.551Z"
   },
   {
    "duration": 116,
    "start_time": "2022-03-30T10:00:33.585Z"
   },
   {
    "duration": 5,
    "start_time": "2022-03-30T10:00:33.704Z"
   },
   {
    "duration": 10,
    "start_time": "2022-03-30T10:00:33.711Z"
   },
   {
    "duration": 6,
    "start_time": "2022-03-30T10:00:33.724Z"
   },
   {
    "duration": 56,
    "start_time": "2022-03-30T10:00:33.733Z"
   },
   {
    "duration": 18,
    "start_time": "2022-03-30T10:00:33.791Z"
   },
   {
    "duration": 19,
    "start_time": "2022-03-30T10:00:33.811Z"
   },
   {
    "duration": 8,
    "start_time": "2022-03-30T10:00:33.835Z"
   },
   {
    "duration": 59,
    "start_time": "2022-03-30T10:00:33.845Z"
   },
   {
    "duration": 19,
    "start_time": "2022-03-30T10:00:33.906Z"
   },
   {
    "duration": 9,
    "start_time": "2022-03-30T10:00:33.927Z"
   },
   {
    "duration": 36,
    "start_time": "2022-03-30T10:00:33.938Z"
   },
   {
    "duration": 8,
    "start_time": "2022-03-30T10:00:33.976Z"
   },
   {
    "duration": 18,
    "start_time": "2022-03-30T10:00:33.986Z"
   },
   {
    "duration": 14,
    "start_time": "2022-03-30T10:00:34.006Z"
   },
   {
    "duration": 6,
    "start_time": "2022-03-30T10:00:34.022Z"
   },
   {
    "duration": 16,
    "start_time": "2022-03-30T10:00:34.029Z"
   },
   {
    "duration": 58,
    "start_time": "2022-03-30T10:00:34.047Z"
   },
   {
    "duration": 10,
    "start_time": "2022-03-30T10:00:34.108Z"
   },
   {
    "duration": 310,
    "start_time": "2022-03-30T10:00:34.120Z"
   },
   {
    "duration": 12,
    "start_time": "2022-03-30T10:00:34.432Z"
   },
   {
    "duration": 337,
    "start_time": "2022-03-30T10:00:34.446Z"
   },
   {
    "duration": 13,
    "start_time": "2022-03-30T10:00:34.786Z"
   },
   {
    "duration": 261,
    "start_time": "2022-03-30T10:00:34.802Z"
   },
   {
    "duration": 18,
    "start_time": "2022-03-30T10:00:35.066Z"
   },
   {
    "duration": 323,
    "start_time": "2022-03-30T10:00:35.091Z"
   },
   {
    "duration": 13,
    "start_time": "2022-03-30T10:00:35.417Z"
   },
   {
    "duration": 354,
    "start_time": "2022-03-30T10:00:35.432Z"
   },
   {
    "duration": 7,
    "start_time": "2022-03-30T10:00:35.788Z"
   },
   {
    "duration": 7,
    "start_time": "2022-03-30T10:00:35.797Z"
   },
   {
    "duration": 11,
    "start_time": "2022-03-30T10:00:35.807Z"
   },
   {
    "duration": 100,
    "start_time": "2022-03-30T10:00:35.820Z"
   },
   {
    "duration": 33,
    "start_time": "2022-03-30T10:00:35.923Z"
   },
   {
    "duration": 236,
    "start_time": "2022-03-30T10:00:35.974Z"
   },
   {
    "duration": 32,
    "start_time": "2022-03-30T10:00:36.213Z"
   },
   {
    "duration": 252,
    "start_time": "2022-03-30T10:00:36.248Z"
   },
   {
    "duration": 31,
    "start_time": "2022-03-30T10:00:36.503Z"
   },
   {
    "duration": 266,
    "start_time": "2022-03-30T10:00:36.537Z"
   },
   {
    "duration": 175,
    "start_time": "2022-03-30T10:00:36.805Z"
   },
   {
    "duration": 13,
    "start_time": "2022-03-30T10:00:36.983Z"
   },
   {
    "duration": 89,
    "start_time": "2022-03-30T10:00:36.998Z"
   },
   {
    "duration": 32,
    "start_time": "2022-03-30T10:00:37.090Z"
   },
   {
    "duration": 385,
    "start_time": "2022-03-30T10:00:37.125Z"
   },
   {
    "duration": 13,
    "start_time": "2022-03-30T10:00:37.513Z"
   },
   {
    "duration": 58,
    "start_time": "2022-03-30T10:00:37.528Z"
   },
   {
    "duration": 106,
    "start_time": "2022-03-30T10:00:37.589Z"
   },
   {
    "duration": 285,
    "start_time": "2022-03-30T10:00:37.697Z"
   },
   {
    "duration": 361,
    "start_time": "2022-03-30T10:00:37.985Z"
   },
   {
    "duration": 231,
    "start_time": "2022-03-30T10:00:38.348Z"
   },
   {
    "duration": 315,
    "start_time": "2022-03-30T10:00:38.582Z"
   },
   {
    "duration": 7,
    "start_time": "2022-03-30T10:00:38.899Z"
   },
   {
    "duration": 32,
    "start_time": "2022-03-30T10:00:38.909Z"
   },
   {
    "duration": 68,
    "start_time": "2022-03-30T10:00:38.944Z"
   },
   {
    "duration": 31,
    "start_time": "2022-03-30T10:00:39.016Z"
   },
   {
    "duration": 266,
    "start_time": "2022-03-30T10:00:39.049Z"
   },
   {
    "duration": 30,
    "start_time": "2022-03-30T10:00:39.317Z"
   },
   {
    "duration": 241,
    "start_time": "2022-03-30T10:00:39.350Z"
   },
   {
    "duration": 32,
    "start_time": "2022-03-30T10:00:39.595Z"
   },
   {
    "duration": 247,
    "start_time": "2022-03-30T10:00:39.630Z"
   },
   {
    "duration": 50,
    "start_time": "2022-03-30T17:32:32.496Z"
   },
   {
    "duration": 959,
    "start_time": "2022-03-30T17:32:40.319Z"
   },
   {
    "duration": 16,
    "start_time": "2022-03-30T17:32:41.280Z"
   },
   {
    "duration": 77,
    "start_time": "2022-03-30T17:32:41.298Z"
   },
   {
    "duration": 3,
    "start_time": "2022-03-30T17:32:41.377Z"
   },
   {
    "duration": 10,
    "start_time": "2022-03-30T17:32:41.382Z"
   },
   {
    "duration": 10,
    "start_time": "2022-03-30T17:32:41.393Z"
   },
   {
    "duration": 12,
    "start_time": "2022-03-30T17:32:41.404Z"
   },
   {
    "duration": 8,
    "start_time": "2022-03-30T17:32:41.417Z"
   },
   {
    "duration": 21,
    "start_time": "2022-03-30T17:32:41.437Z"
   },
   {
    "duration": 6,
    "start_time": "2022-03-30T17:32:41.460Z"
   },
   {
    "duration": 26,
    "start_time": "2022-03-30T17:32:41.467Z"
   },
   {
    "duration": 13,
    "start_time": "2022-03-30T17:32:41.495Z"
   },
   {
    "duration": 4,
    "start_time": "2022-03-30T17:32:41.510Z"
   },
   {
    "duration": 28,
    "start_time": "2022-03-30T17:32:41.517Z"
   },
   {
    "duration": 5,
    "start_time": "2022-03-30T17:32:41.548Z"
   },
   {
    "duration": 9,
    "start_time": "2022-03-30T17:32:41.554Z"
   },
   {
    "duration": 11,
    "start_time": "2022-03-30T17:32:41.564Z"
   },
   {
    "duration": 3,
    "start_time": "2022-03-30T17:32:41.577Z"
   },
   {
    "duration": 9,
    "start_time": "2022-03-30T17:32:41.581Z"
   },
   {
    "duration": 49,
    "start_time": "2022-03-30T17:32:41.592Z"
   },
   {
    "duration": 10,
    "start_time": "2022-03-30T17:32:41.643Z"
   },
   {
    "duration": 197,
    "start_time": "2022-03-30T17:32:41.655Z"
   },
   {
    "duration": 9,
    "start_time": "2022-03-30T17:32:41.854Z"
   },
   {
    "duration": 205,
    "start_time": "2022-03-30T17:32:41.864Z"
   },
   {
    "duration": 9,
    "start_time": "2022-03-30T17:32:42.070Z"
   },
   {
    "duration": 180,
    "start_time": "2022-03-30T17:32:42.081Z"
   },
   {
    "duration": 10,
    "start_time": "2022-03-30T17:32:42.263Z"
   },
   {
    "duration": 239,
    "start_time": "2022-03-30T17:32:42.275Z"
   },
   {
    "duration": 10,
    "start_time": "2022-03-30T17:32:42.515Z"
   },
   {
    "duration": 233,
    "start_time": "2022-03-30T17:32:42.537Z"
   },
   {
    "duration": 6,
    "start_time": "2022-03-30T17:32:42.772Z"
   },
   {
    "duration": 12,
    "start_time": "2022-03-30T17:32:42.780Z"
   },
   {
    "duration": 18,
    "start_time": "2022-03-30T17:32:42.793Z"
   },
   {
    "duration": 47,
    "start_time": "2022-03-30T17:32:42.812Z"
   },
   {
    "duration": 19,
    "start_time": "2022-03-30T17:32:42.861Z"
   },
   {
    "duration": 166,
    "start_time": "2022-03-30T17:32:42.882Z"
   },
   {
    "duration": 21,
    "start_time": "2022-03-30T17:32:43.050Z"
   },
   {
    "duration": 157,
    "start_time": "2022-03-30T17:32:43.073Z"
   },
   {
    "duration": 24,
    "start_time": "2022-03-30T17:32:43.232Z"
   },
   {
    "duration": 171,
    "start_time": "2022-03-30T17:32:43.258Z"
   },
   {
    "duration": 110,
    "start_time": "2022-03-30T17:32:43.433Z"
   },
   {
    "duration": 10,
    "start_time": "2022-03-30T17:32:43.546Z"
   },
   {
    "duration": 27,
    "start_time": "2022-03-30T17:32:43.558Z"
   },
   {
    "duration": 22,
    "start_time": "2022-03-30T17:32:43.587Z"
   },
   {
    "duration": 160,
    "start_time": "2022-03-30T17:32:43.637Z"
   },
   {
    "duration": 7,
    "start_time": "2022-03-30T17:32:43.799Z"
   },
   {
    "duration": 35,
    "start_time": "2022-03-30T17:32:43.808Z"
   },
   {
    "duration": 69,
    "start_time": "2022-03-30T17:32:43.845Z"
   },
   {
    "duration": 176,
    "start_time": "2022-03-30T17:32:43.916Z"
   },
   {
    "duration": 215,
    "start_time": "2022-03-30T17:32:44.094Z"
   },
   {
    "duration": 142,
    "start_time": "2022-03-30T17:32:44.310Z"
   },
   {
    "duration": 233,
    "start_time": "2022-03-30T17:32:44.455Z"
   },
   {
    "duration": 6,
    "start_time": "2022-03-30T17:32:44.689Z"
   },
   {
    "duration": 7,
    "start_time": "2022-03-30T17:32:44.697Z"
   },
   {
    "duration": 40,
    "start_time": "2022-03-30T17:32:44.706Z"
   },
   {
    "duration": 20,
    "start_time": "2022-03-30T17:32:44.753Z"
   },
   {
    "duration": 176,
    "start_time": "2022-03-30T17:32:44.775Z"
   },
   {
    "duration": 21,
    "start_time": "2022-03-30T17:32:44.953Z"
   },
   {
    "duration": 163,
    "start_time": "2022-03-30T17:32:44.976Z"
   },
   {
    "duration": 22,
    "start_time": "2022-03-30T17:32:45.143Z"
   },
   {
    "duration": 158,
    "start_time": "2022-03-30T17:32:45.166Z"
   },
   {
    "duration": 21,
    "start_time": "2022-03-30T17:33:05.251Z"
   },
   {
    "duration": 20,
    "start_time": "2022-03-30T17:33:08.700Z"
   },
   {
    "duration": 4,
    "start_time": "2022-03-30T18:07:23.381Z"
   },
   {
    "duration": 4,
    "start_time": "2022-03-30T18:08:41.469Z"
   },
   {
    "duration": 11,
    "start_time": "2022-03-30T18:09:33.732Z"
   },
   {
    "duration": 152,
    "start_time": "2022-03-30T18:09:48.351Z"
   },
   {
    "duration": 6,
    "start_time": "2022-03-30T18:12:01.383Z"
   },
   {
    "duration": 6,
    "start_time": "2022-03-30T18:12:19.561Z"
   },
   {
    "duration": 34,
    "start_time": "2022-03-30T18:12:32.652Z"
   },
   {
    "duration": 11,
    "start_time": "2022-03-30T18:13:20.391Z"
   },
   {
    "duration": 7,
    "start_time": "2022-03-30T18:13:43.041Z"
   },
   {
    "duration": 792,
    "start_time": "2022-03-30T18:13:52.936Z"
   },
   {
    "duration": 14,
    "start_time": "2022-03-30T18:13:53.730Z"
   },
   {
    "duration": 75,
    "start_time": "2022-03-30T18:13:53.746Z"
   },
   {
    "duration": 4,
    "start_time": "2022-03-30T18:13:53.823Z"
   },
   {
    "duration": 10,
    "start_time": "2022-03-30T18:13:53.838Z"
   },
   {
    "duration": 21,
    "start_time": "2022-03-30T18:13:53.849Z"
   },
   {
    "duration": 32,
    "start_time": "2022-03-30T18:13:53.871Z"
   },
   {
    "duration": 16,
    "start_time": "2022-03-30T18:13:53.905Z"
   },
   {
    "duration": 17,
    "start_time": "2022-03-30T18:13:53.923Z"
   },
   {
    "duration": 15,
    "start_time": "2022-03-30T18:13:53.943Z"
   },
   {
    "duration": 19,
    "start_time": "2022-03-30T18:13:53.960Z"
   },
   {
    "duration": 22,
    "start_time": "2022-03-30T18:13:53.981Z"
   },
   {
    "duration": 45,
    "start_time": "2022-03-30T18:13:54.005Z"
   },
   {
    "duration": 14,
    "start_time": "2022-03-30T18:13:54.052Z"
   },
   {
    "duration": 13,
    "start_time": "2022-03-30T18:13:54.067Z"
   },
   {
    "duration": 30,
    "start_time": "2022-03-30T18:13:54.081Z"
   },
   {
    "duration": 21,
    "start_time": "2022-03-30T18:13:54.112Z"
   },
   {
    "duration": 29,
    "start_time": "2022-03-30T18:13:54.135Z"
   },
   {
    "duration": 18,
    "start_time": "2022-03-30T18:13:54.166Z"
   },
   {
    "duration": 15,
    "start_time": "2022-03-30T18:13:54.186Z"
   },
   {
    "duration": 25,
    "start_time": "2022-03-30T18:13:54.203Z"
   },
   {
    "duration": 42,
    "start_time": "2022-03-30T18:13:54.229Z"
   },
   {
    "duration": 14,
    "start_time": "2022-03-30T18:13:54.273Z"
   },
   {
    "duration": 180,
    "start_time": "2022-03-30T18:13:54.288Z"
   },
   {
    "duration": 10,
    "start_time": "2022-03-30T18:13:54.469Z"
   },
   {
    "duration": 201,
    "start_time": "2022-03-30T18:13:54.480Z"
   },
   {
    "duration": 8,
    "start_time": "2022-03-30T18:13:54.683Z"
   },
   {
    "duration": 151,
    "start_time": "2022-03-30T18:13:54.695Z"
   },
   {
    "duration": 9,
    "start_time": "2022-03-30T18:13:54.847Z"
   },
   {
    "duration": 215,
    "start_time": "2022-03-30T18:13:54.857Z"
   },
   {
    "duration": 10,
    "start_time": "2022-03-30T18:13:55.074Z"
   },
   {
    "duration": 221,
    "start_time": "2022-03-30T18:13:55.085Z"
   },
   {
    "duration": 5,
    "start_time": "2022-03-30T18:13:55.308Z"
   },
   {
    "duration": 28,
    "start_time": "2022-03-30T18:13:55.314Z"
   },
   {
    "duration": 17,
    "start_time": "2022-03-30T18:13:55.344Z"
   },
   {
    "duration": 37,
    "start_time": "2022-03-30T18:13:55.363Z"
   },
   {
    "duration": 20,
    "start_time": "2022-03-30T18:13:55.401Z"
   },
   {
    "duration": 162,
    "start_time": "2022-03-30T18:13:55.423Z"
   },
   {
    "duration": 23,
    "start_time": "2022-03-30T18:13:55.587Z"
   },
   {
    "duration": 164,
    "start_time": "2022-03-30T18:13:55.612Z"
   },
   {
    "duration": 22,
    "start_time": "2022-03-30T18:13:55.778Z"
   },
   {
    "duration": 165,
    "start_time": "2022-03-30T18:13:55.802Z"
   },
   {
    "duration": 116,
    "start_time": "2022-03-30T18:13:55.969Z"
   },
   {
    "duration": 13,
    "start_time": "2022-03-30T18:13:56.087Z"
   },
   {
    "duration": 44,
    "start_time": "2022-03-30T18:13:56.102Z"
   },
   {
    "duration": 22,
    "start_time": "2022-03-30T18:13:56.148Z"
   },
   {
    "duration": 179,
    "start_time": "2022-03-30T18:13:56.172Z"
   },
   {
    "duration": 8,
    "start_time": "2022-03-30T18:13:56.353Z"
   },
   {
    "duration": 23,
    "start_time": "2022-03-30T18:13:56.363Z"
   },
   {
    "duration": 90,
    "start_time": "2022-03-30T18:13:56.388Z"
   },
   {
    "duration": 170,
    "start_time": "2022-03-30T18:13:56.480Z"
   },
   {
    "duration": 214,
    "start_time": "2022-03-30T18:13:56.652Z"
   },
   {
    "duration": 163,
    "start_time": "2022-03-30T18:13:56.868Z"
   },
   {
    "duration": 230,
    "start_time": "2022-03-30T18:13:57.038Z"
   },
   {
    "duration": 6,
    "start_time": "2022-03-30T18:13:57.270Z"
   },
   {
    "duration": 17,
    "start_time": "2022-03-30T18:13:57.278Z"
   },
   {
    "duration": 27,
    "start_time": "2022-03-30T18:13:57.296Z"
   },
   {
    "duration": 28,
    "start_time": "2022-03-30T18:13:57.338Z"
   },
   {
    "duration": 173,
    "start_time": "2022-03-30T18:13:57.368Z"
   },
   {
    "duration": 22,
    "start_time": "2022-03-30T18:13:57.542Z"
   },
   {
    "duration": 173,
    "start_time": "2022-03-30T18:13:57.566Z"
   },
   {
    "duration": 20,
    "start_time": "2022-03-30T18:13:57.741Z"
   },
   {
    "duration": 163,
    "start_time": "2022-03-30T18:13:57.763Z"
   },
   {
    "duration": 9,
    "start_time": "2022-03-30T18:14:30.475Z"
   },
   {
    "duration": 36,
    "start_time": "2022-03-30T18:14:37.138Z"
   },
   {
    "duration": 8,
    "start_time": "2022-03-30T18:15:27.477Z"
   },
   {
    "duration": 20,
    "start_time": "2022-03-30T18:15:50.715Z"
   },
   {
    "duration": 15,
    "start_time": "2022-03-30T18:18:05.780Z"
   },
   {
    "duration": 39,
    "start_time": "2022-03-30T18:18:21.256Z"
   },
   {
    "duration": 6,
    "start_time": "2022-03-30T18:20:55.359Z"
   },
   {
    "duration": 8,
    "start_time": "2022-03-30T18:21:28.085Z"
   },
   {
    "duration": 8,
    "start_time": "2022-03-30T18:23:06.143Z"
   },
   {
    "duration": 25,
    "start_time": "2022-03-30T18:27:06.019Z"
   },
   {
    "duration": 109,
    "start_time": "2022-03-30T18:27:30.963Z"
   },
   {
    "duration": 27,
    "start_time": "2022-03-30T18:27:53.654Z"
   },
   {
    "duration": 25,
    "start_time": "2022-03-30T18:28:47.134Z"
   },
   {
    "duration": 24,
    "start_time": "2022-03-30T18:29:22.652Z"
   },
   {
    "duration": 26,
    "start_time": "2022-03-30T18:29:23.333Z"
   },
   {
    "duration": 750,
    "start_time": "2022-03-30T18:29:39.478Z"
   },
   {
    "duration": 22,
    "start_time": "2022-03-30T18:29:40.230Z"
   },
   {
    "duration": 86,
    "start_time": "2022-03-30T18:29:40.253Z"
   },
   {
    "duration": 3,
    "start_time": "2022-03-30T18:29:40.341Z"
   },
   {
    "duration": 8,
    "start_time": "2022-03-30T18:29:40.347Z"
   },
   {
    "duration": 6,
    "start_time": "2022-03-30T18:29:40.357Z"
   },
   {
    "duration": 5,
    "start_time": "2022-03-30T18:29:40.365Z"
   },
   {
    "duration": 12,
    "start_time": "2022-03-30T18:29:40.372Z"
   },
   {
    "duration": 53,
    "start_time": "2022-03-30T18:29:40.386Z"
   },
   {
    "duration": 1843,
    "start_time": "2022-03-30T18:29:40.441Z"
   },
   {
    "duration": 0,
    "start_time": "2022-03-30T18:29:42.286Z"
   },
   {
    "duration": 0,
    "start_time": "2022-03-30T18:29:42.288Z"
   },
   {
    "duration": 1,
    "start_time": "2022-03-30T18:29:42.288Z"
   },
   {
    "duration": 0,
    "start_time": "2022-03-30T18:29:42.289Z"
   },
   {
    "duration": 0,
    "start_time": "2022-03-30T18:29:42.290Z"
   },
   {
    "duration": 0,
    "start_time": "2022-03-30T18:29:42.291Z"
   },
   {
    "duration": 0,
    "start_time": "2022-03-30T18:29:42.292Z"
   },
   {
    "duration": 0,
    "start_time": "2022-03-30T18:29:42.293Z"
   },
   {
    "duration": 0,
    "start_time": "2022-03-30T18:29:42.294Z"
   },
   {
    "duration": 0,
    "start_time": "2022-03-30T18:29:42.294Z"
   },
   {
    "duration": 1,
    "start_time": "2022-03-30T18:29:42.295Z"
   },
   {
    "duration": 0,
    "start_time": "2022-03-30T18:29:42.296Z"
   },
   {
    "duration": 0,
    "start_time": "2022-03-30T18:29:42.297Z"
   },
   {
    "duration": 0,
    "start_time": "2022-03-30T18:29:42.299Z"
   },
   {
    "duration": 0,
    "start_time": "2022-03-30T18:29:42.300Z"
   },
   {
    "duration": 0,
    "start_time": "2022-03-30T18:29:42.301Z"
   },
   {
    "duration": 0,
    "start_time": "2022-03-30T18:29:42.302Z"
   },
   {
    "duration": 0,
    "start_time": "2022-03-30T18:29:42.303Z"
   },
   {
    "duration": 0,
    "start_time": "2022-03-30T18:29:42.304Z"
   },
   {
    "duration": 0,
    "start_time": "2022-03-30T18:29:42.306Z"
   },
   {
    "duration": 0,
    "start_time": "2022-03-30T18:29:42.306Z"
   },
   {
    "duration": 0,
    "start_time": "2022-03-30T18:29:42.307Z"
   },
   {
    "duration": 0,
    "start_time": "2022-03-30T18:29:42.308Z"
   },
   {
    "duration": 0,
    "start_time": "2022-03-30T18:29:42.309Z"
   },
   {
    "duration": 0,
    "start_time": "2022-03-30T18:29:42.310Z"
   },
   {
    "duration": 0,
    "start_time": "2022-03-30T18:29:42.311Z"
   },
   {
    "duration": 0,
    "start_time": "2022-03-30T18:29:42.312Z"
   },
   {
    "duration": 0,
    "start_time": "2022-03-30T18:29:42.313Z"
   },
   {
    "duration": 0,
    "start_time": "2022-03-30T18:29:42.314Z"
   },
   {
    "duration": 0,
    "start_time": "2022-03-30T18:29:42.315Z"
   },
   {
    "duration": 0,
    "start_time": "2022-03-30T18:29:42.316Z"
   },
   {
    "duration": 0,
    "start_time": "2022-03-30T18:29:42.318Z"
   },
   {
    "duration": 0,
    "start_time": "2022-03-30T18:29:42.318Z"
   },
   {
    "duration": 0,
    "start_time": "2022-03-30T18:29:42.319Z"
   },
   {
    "duration": 0,
    "start_time": "2022-03-30T18:29:42.321Z"
   },
   {
    "duration": 0,
    "start_time": "2022-03-30T18:29:42.322Z"
   },
   {
    "duration": 0,
    "start_time": "2022-03-30T18:29:42.339Z"
   },
   {
    "duration": 0,
    "start_time": "2022-03-30T18:29:42.340Z"
   },
   {
    "duration": 0,
    "start_time": "2022-03-30T18:29:42.341Z"
   },
   {
    "duration": 0,
    "start_time": "2022-03-30T18:29:42.342Z"
   },
   {
    "duration": 0,
    "start_time": "2022-03-30T18:29:42.343Z"
   },
   {
    "duration": 0,
    "start_time": "2022-03-30T18:29:42.344Z"
   },
   {
    "duration": 0,
    "start_time": "2022-03-30T18:29:42.345Z"
   },
   {
    "duration": 0,
    "start_time": "2022-03-30T18:29:42.346Z"
   },
   {
    "duration": 0,
    "start_time": "2022-03-30T18:29:42.347Z"
   },
   {
    "duration": 0,
    "start_time": "2022-03-30T18:29:42.348Z"
   },
   {
    "duration": 0,
    "start_time": "2022-03-30T18:29:42.349Z"
   },
   {
    "duration": 0,
    "start_time": "2022-03-30T18:29:42.349Z"
   },
   {
    "duration": 0,
    "start_time": "2022-03-30T18:29:42.350Z"
   },
   {
    "duration": 0,
    "start_time": "2022-03-30T18:29:42.351Z"
   },
   {
    "duration": 0,
    "start_time": "2022-03-30T18:29:42.351Z"
   },
   {
    "duration": 0,
    "start_time": "2022-03-30T18:29:42.352Z"
   },
   {
    "duration": 0,
    "start_time": "2022-03-30T18:29:42.353Z"
   },
   {
    "duration": 0,
    "start_time": "2022-03-30T18:29:42.353Z"
   },
   {
    "duration": 0,
    "start_time": "2022-03-30T18:29:42.354Z"
   },
   {
    "duration": 0,
    "start_time": "2022-03-30T18:29:42.355Z"
   },
   {
    "duration": 1869,
    "start_time": "2022-03-30T18:31:25.553Z"
   },
   {
    "duration": 52,
    "start_time": "2022-03-30T18:38:18.172Z"
   },
   {
    "duration": 8,
    "start_time": "2022-03-30T18:38:18.785Z"
   },
   {
    "duration": 1007,
    "start_time": "2022-03-30T18:38:24.611Z"
   },
   {
    "duration": 17,
    "start_time": "2022-03-30T18:38:25.620Z"
   },
   {
    "duration": 74,
    "start_time": "2022-03-30T18:38:25.639Z"
   },
   {
    "duration": 18,
    "start_time": "2022-03-30T18:38:25.715Z"
   },
   {
    "duration": 8,
    "start_time": "2022-03-30T18:38:25.735Z"
   },
   {
    "duration": 8,
    "start_time": "2022-03-30T18:38:25.744Z"
   },
   {
    "duration": 5,
    "start_time": "2022-03-30T18:38:25.753Z"
   },
   {
    "duration": 13,
    "start_time": "2022-03-30T18:38:25.759Z"
   },
   {
    "duration": 27,
    "start_time": "2022-03-30T18:38:25.774Z"
   },
   {
    "duration": 48,
    "start_time": "2022-03-30T18:38:25.803Z"
   },
   {
    "duration": 27,
    "start_time": "2022-03-30T18:38:25.853Z"
   },
   {
    "duration": 9,
    "start_time": "2022-03-30T18:38:25.882Z"
   },
   {
    "duration": 11,
    "start_time": "2022-03-30T18:38:25.893Z"
   },
   {
    "duration": 30,
    "start_time": "2022-03-30T18:38:25.906Z"
   },
   {
    "duration": 27,
    "start_time": "2022-03-30T18:38:25.938Z"
   },
   {
    "duration": 15,
    "start_time": "2022-03-30T18:38:25.967Z"
   },
   {
    "duration": 4,
    "start_time": "2022-03-30T18:38:25.984Z"
   },
   {
    "duration": 41,
    "start_time": "2022-03-30T18:38:25.990Z"
   },
   {
    "duration": 7,
    "start_time": "2022-03-30T18:38:26.034Z"
   },
   {
    "duration": 7,
    "start_time": "2022-03-30T18:38:26.042Z"
   },
   {
    "duration": 12,
    "start_time": "2022-03-30T18:38:26.051Z"
   },
   {
    "duration": 5,
    "start_time": "2022-03-30T18:38:26.065Z"
   },
   {
    "duration": 8,
    "start_time": "2022-03-30T18:38:26.072Z"
   },
   {
    "duration": 61,
    "start_time": "2022-03-30T18:38:26.082Z"
   },
   {
    "duration": 10,
    "start_time": "2022-03-30T18:38:26.145Z"
   },
   {
    "duration": 218,
    "start_time": "2022-03-30T18:38:26.157Z"
   },
   {
    "duration": 9,
    "start_time": "2022-03-30T18:38:26.377Z"
   },
   {
    "duration": 227,
    "start_time": "2022-03-30T18:38:26.390Z"
   },
   {
    "duration": 19,
    "start_time": "2022-03-30T18:38:26.620Z"
   },
   {
    "duration": 170,
    "start_time": "2022-03-30T18:38:26.641Z"
   },
   {
    "duration": 18,
    "start_time": "2022-03-30T18:38:26.813Z"
   },
   {
    "duration": 235,
    "start_time": "2022-03-30T18:38:26.833Z"
   },
   {
    "duration": 10,
    "start_time": "2022-03-30T18:38:27.069Z"
   },
   {
    "duration": 241,
    "start_time": "2022-03-30T18:38:27.081Z"
   },
   {
    "duration": 11,
    "start_time": "2022-03-30T18:38:27.323Z"
   },
   {
    "duration": 35,
    "start_time": "2022-03-30T18:38:27.336Z"
   },
   {
    "duration": 32,
    "start_time": "2022-03-30T18:38:27.373Z"
   },
   {
    "duration": 65,
    "start_time": "2022-03-30T18:38:27.406Z"
   },
   {
    "duration": 20,
    "start_time": "2022-03-30T18:38:27.473Z"
   },
   {
    "duration": 162,
    "start_time": "2022-03-30T18:38:27.494Z"
   },
   {
    "duration": 22,
    "start_time": "2022-03-30T18:38:27.658Z"
   },
   {
    "duration": 167,
    "start_time": "2022-03-30T18:38:27.681Z"
   },
   {
    "duration": 22,
    "start_time": "2022-03-30T18:38:27.850Z"
   },
   {
    "duration": 184,
    "start_time": "2022-03-30T18:38:27.874Z"
   },
   {
    "duration": 124,
    "start_time": "2022-03-30T18:38:28.060Z"
   },
   {
    "duration": 9,
    "start_time": "2022-03-30T18:38:28.185Z"
   },
   {
    "duration": 51,
    "start_time": "2022-03-30T18:38:28.195Z"
   },
   {
    "duration": 23,
    "start_time": "2022-03-30T18:38:28.247Z"
   },
   {
    "duration": 173,
    "start_time": "2022-03-30T18:38:28.272Z"
   },
   {
    "duration": 8,
    "start_time": "2022-03-30T18:38:28.447Z"
   },
   {
    "duration": 44,
    "start_time": "2022-03-30T18:38:28.456Z"
   },
   {
    "duration": 79,
    "start_time": "2022-03-30T18:38:28.501Z"
   },
   {
    "duration": 175,
    "start_time": "2022-03-30T18:38:28.582Z"
   },
   {
    "duration": 221,
    "start_time": "2022-03-30T18:38:28.758Z"
   },
   {
    "duration": 152,
    "start_time": "2022-03-30T18:38:28.981Z"
   },
   {
    "duration": 222,
    "start_time": "2022-03-30T18:38:29.135Z"
   },
   {
    "duration": 5,
    "start_time": "2022-03-30T18:38:29.359Z"
   },
   {
    "duration": 8,
    "start_time": "2022-03-30T18:38:29.366Z"
   },
   {
    "duration": 25,
    "start_time": "2022-03-30T18:38:29.376Z"
   },
   {
    "duration": 45,
    "start_time": "2022-03-30T18:38:29.403Z"
   },
   {
    "duration": 196,
    "start_time": "2022-03-30T18:38:29.449Z"
   },
   {
    "duration": 28,
    "start_time": "2022-03-30T18:38:29.646Z"
   },
   {
    "duration": 166,
    "start_time": "2022-03-30T18:38:29.676Z"
   },
   {
    "duration": 23,
    "start_time": "2022-03-30T18:38:29.844Z"
   },
   {
    "duration": 184,
    "start_time": "2022-03-30T18:38:29.868Z"
   },
   {
    "duration": 17,
    "start_time": "2022-03-30T18:43:15.591Z"
   },
   {
    "duration": 14,
    "start_time": "2022-03-30T18:44:01.732Z"
   },
   {
    "duration": 27,
    "start_time": "2022-03-30T18:44:20.801Z"
   },
   {
    "duration": 11,
    "start_time": "2022-03-30T18:44:33.715Z"
   },
   {
    "duration": 11,
    "start_time": "2022-03-30T18:44:54.441Z"
   },
   {
    "duration": 8,
    "start_time": "2022-03-30T18:45:36.181Z"
   },
   {
    "duration": 7,
    "start_time": "2022-03-30T18:45:41.852Z"
   },
   {
    "duration": 26,
    "start_time": "2022-03-30T18:45:47.351Z"
   },
   {
    "duration": 7,
    "start_time": "2022-03-30T18:45:53.070Z"
   },
   {
    "duration": 25,
    "start_time": "2022-03-30T18:45:57.357Z"
   },
   {
    "duration": 9,
    "start_time": "2022-03-30T18:46:55.001Z"
   },
   {
    "duration": 10,
    "start_time": "2022-03-30T18:47:09.912Z"
   },
   {
    "duration": 156,
    "start_time": "2022-03-30T18:47:47.452Z"
   },
   {
    "duration": 211,
    "start_time": "2022-03-30T18:47:51.358Z"
   },
   {
    "duration": 28,
    "start_time": "2022-03-30T18:49:08.431Z"
   },
   {
    "duration": 8,
    "start_time": "2022-03-30T18:50:13.820Z"
   },
   {
    "duration": 850,
    "start_time": "2022-03-30T18:58:25.795Z"
   },
   {
    "duration": 16,
    "start_time": "2022-03-30T18:58:26.647Z"
   },
   {
    "duration": 90,
    "start_time": "2022-03-30T18:58:26.665Z"
   },
   {
    "duration": 4,
    "start_time": "2022-03-30T18:58:26.757Z"
   },
   {
    "duration": 9,
    "start_time": "2022-03-30T18:58:26.763Z"
   },
   {
    "duration": 7,
    "start_time": "2022-03-30T18:58:26.774Z"
   },
   {
    "duration": 6,
    "start_time": "2022-03-30T18:58:26.782Z"
   },
   {
    "duration": 12,
    "start_time": "2022-03-30T18:58:26.790Z"
   },
   {
    "duration": 48,
    "start_time": "2022-03-30T18:58:26.804Z"
   },
   {
    "duration": 27,
    "start_time": "2022-03-30T18:58:26.855Z"
   },
   {
    "duration": 6,
    "start_time": "2022-03-30T18:58:26.884Z"
   },
   {
    "duration": 46,
    "start_time": "2022-03-30T18:58:26.892Z"
   },
   {
    "duration": 6,
    "start_time": "2022-03-30T18:58:26.940Z"
   },
   {
    "duration": 27,
    "start_time": "2022-03-30T18:58:26.948Z"
   },
   {
    "duration": 7,
    "start_time": "2022-03-30T18:58:26.977Z"
   },
   {
    "duration": 8,
    "start_time": "2022-03-30T18:58:26.986Z"
   },
   {
    "duration": 36,
    "start_time": "2022-03-30T18:58:26.996Z"
   },
   {
    "duration": 12,
    "start_time": "2022-03-30T18:58:27.034Z"
   },
   {
    "duration": 28,
    "start_time": "2022-03-30T18:58:27.048Z"
   },
   {
    "duration": 13,
    "start_time": "2022-03-30T18:58:27.078Z"
   },
   {
    "duration": 4,
    "start_time": "2022-03-30T18:58:27.093Z"
   },
   {
    "duration": 34,
    "start_time": "2022-03-30T18:58:27.098Z"
   },
   {
    "duration": 6,
    "start_time": "2022-03-30T18:58:27.133Z"
   },
   {
    "duration": 15,
    "start_time": "2022-03-30T18:58:27.141Z"
   },
   {
    "duration": 17,
    "start_time": "2022-03-30T18:58:27.157Z"
   },
   {
    "duration": 4,
    "start_time": "2022-03-30T18:58:27.176Z"
   },
   {
    "duration": 9,
    "start_time": "2022-03-30T18:58:27.182Z"
   },
   {
    "duration": 44,
    "start_time": "2022-03-30T18:58:27.196Z"
   },
   {
    "duration": 9,
    "start_time": "2022-03-30T18:58:27.242Z"
   },
   {
    "duration": 212,
    "start_time": "2022-03-30T18:58:27.253Z"
   },
   {
    "duration": 10,
    "start_time": "2022-03-30T18:58:27.467Z"
   },
   {
    "duration": 221,
    "start_time": "2022-03-30T18:58:27.478Z"
   },
   {
    "duration": 10,
    "start_time": "2022-03-30T18:58:27.700Z"
   },
   {
    "duration": 209,
    "start_time": "2022-03-30T18:58:27.711Z"
   },
   {
    "duration": 16,
    "start_time": "2022-03-30T18:58:27.922Z"
   },
   {
    "duration": 173,
    "start_time": "2022-03-30T18:58:27.940Z"
   },
   {
    "duration": 18,
    "start_time": "2022-03-30T18:58:28.114Z"
   },
   {
    "duration": 230,
    "start_time": "2022-03-30T18:58:28.133Z"
   },
   {
    "duration": 5,
    "start_time": "2022-03-30T18:58:28.365Z"
   },
   {
    "duration": 7,
    "start_time": "2022-03-30T18:58:28.371Z"
   },
   {
    "duration": 7,
    "start_time": "2022-03-30T18:58:28.380Z"
   },
   {
    "duration": 54,
    "start_time": "2022-03-30T18:58:28.389Z"
   },
   {
    "duration": 22,
    "start_time": "2022-03-30T18:58:28.445Z"
   },
   {
    "duration": 176,
    "start_time": "2022-03-30T18:58:28.468Z"
   },
   {
    "duration": 23,
    "start_time": "2022-03-30T18:58:28.646Z"
   },
   {
    "duration": 163,
    "start_time": "2022-03-30T18:58:28.671Z"
   },
   {
    "duration": 21,
    "start_time": "2022-03-30T18:58:28.836Z"
   },
   {
    "duration": 180,
    "start_time": "2022-03-30T18:58:28.859Z"
   },
   {
    "duration": 121,
    "start_time": "2022-03-30T18:58:29.041Z"
   },
   {
    "duration": 10,
    "start_time": "2022-03-30T18:58:29.164Z"
   },
   {
    "duration": 31,
    "start_time": "2022-03-30T18:58:29.175Z"
   },
   {
    "duration": 39,
    "start_time": "2022-03-30T18:58:29.209Z"
   },
   {
    "duration": 188,
    "start_time": "2022-03-30T18:58:29.250Z"
   },
   {
    "duration": 8,
    "start_time": "2022-03-30T18:58:29.440Z"
   },
   {
    "duration": 28,
    "start_time": "2022-03-30T18:58:29.450Z"
   },
   {
    "duration": 89,
    "start_time": "2022-03-30T18:58:29.480Z"
   },
   {
    "duration": 183,
    "start_time": "2022-03-30T18:58:29.571Z"
   },
   {
    "duration": 221,
    "start_time": "2022-03-30T18:58:29.756Z"
   },
   {
    "duration": 233,
    "start_time": "2022-03-30T18:58:29.979Z"
   },
   {
    "duration": 148,
    "start_time": "2022-03-30T18:58:30.213Z"
   },
   {
    "duration": 5,
    "start_time": "2022-03-30T18:58:30.363Z"
   },
   {
    "duration": 10,
    "start_time": "2022-03-30T18:58:30.370Z"
   },
   {
    "duration": 27,
    "start_time": "2022-03-30T18:58:30.381Z"
   },
   {
    "duration": 34,
    "start_time": "2022-03-30T18:58:30.410Z"
   },
   {
    "duration": 183,
    "start_time": "2022-03-30T18:58:30.445Z"
   },
   {
    "duration": 22,
    "start_time": "2022-03-30T18:58:30.631Z"
   },
   {
    "duration": 167,
    "start_time": "2022-03-30T18:58:30.654Z"
   },
   {
    "duration": 27,
    "start_time": "2022-03-30T18:58:30.823Z"
   },
   {
    "duration": 160,
    "start_time": "2022-03-30T18:58:30.852Z"
   },
   {
    "duration": 159,
    "start_time": "2022-03-30T19:00:09.142Z"
   },
   {
    "duration": 9,
    "start_time": "2022-03-30T19:01:06.978Z"
   },
   {
    "duration": 8,
    "start_time": "2022-03-30T19:03:07.228Z"
   },
   {
    "duration": 186,
    "start_time": "2022-03-30T19:03:15.081Z"
   },
   {
    "duration": 177,
    "start_time": "2022-03-30T19:03:50.485Z"
   },
   {
    "duration": 170,
    "start_time": "2022-03-30T19:04:04.103Z"
   },
   {
    "duration": 5,
    "start_time": "2022-03-30T19:04:11.935Z"
   },
   {
    "duration": 21,
    "start_time": "2022-03-30T19:04:39.685Z"
   },
   {
    "duration": 40,
    "start_time": "2022-03-30T19:05:11.308Z"
   },
   {
    "duration": 809,
    "start_time": "2022-03-30T19:07:17.258Z"
   },
   {
    "duration": 16,
    "start_time": "2022-03-30T19:07:18.069Z"
   },
   {
    "duration": 92,
    "start_time": "2022-03-30T19:07:18.086Z"
   },
   {
    "duration": 4,
    "start_time": "2022-03-30T19:07:18.180Z"
   },
   {
    "duration": 15,
    "start_time": "2022-03-30T19:07:18.186Z"
   },
   {
    "duration": 18,
    "start_time": "2022-03-30T19:07:18.203Z"
   },
   {
    "duration": 15,
    "start_time": "2022-03-30T19:07:18.223Z"
   },
   {
    "duration": 35,
    "start_time": "2022-03-30T19:07:18.240Z"
   },
   {
    "duration": 34,
    "start_time": "2022-03-30T19:07:18.277Z"
   },
   {
    "duration": 30,
    "start_time": "2022-03-30T19:07:18.320Z"
   },
   {
    "duration": 9,
    "start_time": "2022-03-30T19:07:18.351Z"
   },
   {
    "duration": 36,
    "start_time": "2022-03-30T19:07:18.362Z"
   },
   {
    "duration": 7,
    "start_time": "2022-03-30T19:07:18.400Z"
   },
   {
    "duration": 46,
    "start_time": "2022-03-30T19:07:18.410Z"
   },
   {
    "duration": 8,
    "start_time": "2022-03-30T19:07:18.458Z"
   },
   {
    "duration": 16,
    "start_time": "2022-03-30T19:07:18.468Z"
   },
   {
    "duration": 22,
    "start_time": "2022-03-30T19:07:18.486Z"
   },
   {
    "duration": 18,
    "start_time": "2022-03-30T19:07:18.510Z"
   },
   {
    "duration": 44,
    "start_time": "2022-03-30T19:07:18.530Z"
   },
   {
    "duration": 22,
    "start_time": "2022-03-30T19:07:18.576Z"
   },
   {
    "duration": 8,
    "start_time": "2022-03-30T19:07:18.600Z"
   },
   {
    "duration": 42,
    "start_time": "2022-03-30T19:07:18.609Z"
   },
   {
    "duration": 24,
    "start_time": "2022-03-30T19:07:18.653Z"
   },
   {
    "duration": 20,
    "start_time": "2022-03-30T19:07:18.679Z"
   },
   {
    "duration": 25,
    "start_time": "2022-03-30T19:07:18.701Z"
   },
   {
    "duration": 17,
    "start_time": "2022-03-30T19:07:18.728Z"
   },
   {
    "duration": 26,
    "start_time": "2022-03-30T19:07:18.747Z"
   },
   {
    "duration": 34,
    "start_time": "2022-03-30T19:07:18.775Z"
   },
   {
    "duration": 10,
    "start_time": "2022-03-30T19:07:18.810Z"
   },
   {
    "duration": 205,
    "start_time": "2022-03-30T19:07:18.822Z"
   },
   {
    "duration": 10,
    "start_time": "2022-03-30T19:07:19.032Z"
   },
   {
    "duration": 214,
    "start_time": "2022-03-30T19:07:19.043Z"
   },
   {
    "duration": 10,
    "start_time": "2022-03-30T19:07:19.259Z"
   },
   {
    "duration": 211,
    "start_time": "2022-03-30T19:07:19.271Z"
   },
   {
    "duration": 10,
    "start_time": "2022-03-30T19:07:19.484Z"
   },
   {
    "duration": 186,
    "start_time": "2022-03-30T19:07:19.496Z"
   },
   {
    "duration": 11,
    "start_time": "2022-03-30T19:07:19.684Z"
   },
   {
    "duration": 232,
    "start_time": "2022-03-30T19:07:19.697Z"
   },
   {
    "duration": 6,
    "start_time": "2022-03-30T19:07:19.932Z"
   },
   {
    "duration": 15,
    "start_time": "2022-03-30T19:07:19.939Z"
   },
   {
    "duration": 21,
    "start_time": "2022-03-30T19:07:19.959Z"
   },
   {
    "duration": 59,
    "start_time": "2022-03-30T19:07:19.982Z"
   },
   {
    "duration": 23,
    "start_time": "2022-03-30T19:07:20.043Z"
   },
   {
    "duration": 172,
    "start_time": "2022-03-30T19:07:20.069Z"
   },
   {
    "duration": 24,
    "start_time": "2022-03-30T19:07:20.243Z"
   },
   {
    "duration": 177,
    "start_time": "2022-03-30T19:07:20.269Z"
   },
   {
    "duration": 23,
    "start_time": "2022-03-30T19:07:20.448Z"
   },
   {
    "duration": 179,
    "start_time": "2022-03-30T19:07:20.473Z"
   },
   {
    "duration": 121,
    "start_time": "2022-03-30T19:07:20.654Z"
   },
   {
    "duration": 9,
    "start_time": "2022-03-30T19:07:20.778Z"
   },
   {
    "duration": 62,
    "start_time": "2022-03-30T19:07:20.789Z"
   },
   {
    "duration": 22,
    "start_time": "2022-03-30T19:07:20.854Z"
   },
   {
    "duration": 187,
    "start_time": "2022-03-30T19:07:20.878Z"
   },
   {
    "duration": 9,
    "start_time": "2022-03-30T19:07:21.067Z"
   },
   {
    "duration": 40,
    "start_time": "2022-03-30T19:07:21.078Z"
   },
   {
    "duration": 86,
    "start_time": "2022-03-30T19:07:21.120Z"
   },
   {
    "duration": 164,
    "start_time": "2022-03-30T19:07:21.207Z"
   },
   {
    "duration": 221,
    "start_time": "2022-03-30T19:07:21.373Z"
   },
   {
    "duration": 216,
    "start_time": "2022-03-30T19:07:21.596Z"
   },
   {
    "duration": 148,
    "start_time": "2022-03-30T19:07:21.814Z"
   },
   {
    "duration": 5,
    "start_time": "2022-03-30T19:07:21.964Z"
   },
   {
    "duration": 34,
    "start_time": "2022-03-30T19:07:21.970Z"
   },
   {
    "duration": 30,
    "start_time": "2022-03-30T19:07:22.006Z"
   },
   {
    "duration": 27,
    "start_time": "2022-03-30T19:07:22.037Z"
   },
   {
    "duration": 197,
    "start_time": "2022-03-30T19:07:22.065Z"
   },
   {
    "duration": 21,
    "start_time": "2022-03-30T19:07:22.263Z"
   },
   {
    "duration": 161,
    "start_time": "2022-03-30T19:07:22.286Z"
   },
   {
    "duration": 21,
    "start_time": "2022-03-30T19:07:22.449Z"
   },
   {
    "duration": 157,
    "start_time": "2022-03-30T19:07:22.471Z"
   },
   {
    "duration": 9,
    "start_time": "2022-03-30T19:26:16.118Z"
   },
   {
    "duration": 181,
    "start_time": "2022-03-30T19:26:18.043Z"
   },
   {
    "duration": 174,
    "start_time": "2022-03-30T19:26:29.077Z"
   },
   {
    "duration": 168,
    "start_time": "2022-03-30T19:26:34.557Z"
   },
   {
    "duration": 181,
    "start_time": "2022-03-30T19:26:42.247Z"
   },
   {
    "duration": 9,
    "start_time": "2022-03-30T19:26:45.448Z"
   },
   {
    "duration": 179,
    "start_time": "2022-03-30T19:26:46.967Z"
   },
   {
    "duration": 168,
    "start_time": "2022-03-30T19:26:53.488Z"
   },
   {
    "duration": 848,
    "start_time": "2022-03-30T19:27:05.243Z"
   },
   {
    "duration": 17,
    "start_time": "2022-03-30T19:27:06.093Z"
   },
   {
    "duration": 96,
    "start_time": "2022-03-30T19:27:06.112Z"
   },
   {
    "duration": 4,
    "start_time": "2022-03-30T19:27:06.210Z"
   },
   {
    "duration": 16,
    "start_time": "2022-03-30T19:27:06.217Z"
   },
   {
    "duration": 7,
    "start_time": "2022-03-30T19:27:06.235Z"
   },
   {
    "duration": 11,
    "start_time": "2022-03-30T19:27:06.244Z"
   },
   {
    "duration": 24,
    "start_time": "2022-03-30T19:27:06.257Z"
   },
   {
    "duration": 31,
    "start_time": "2022-03-30T19:27:06.283Z"
   },
   {
    "duration": 42,
    "start_time": "2022-03-30T19:27:06.316Z"
   },
   {
    "duration": 6,
    "start_time": "2022-03-30T19:27:06.359Z"
   },
   {
    "duration": 31,
    "start_time": "2022-03-30T19:27:06.367Z"
   },
   {
    "duration": 6,
    "start_time": "2022-03-30T19:27:06.400Z"
   },
   {
    "duration": 28,
    "start_time": "2022-03-30T19:27:06.434Z"
   },
   {
    "duration": 7,
    "start_time": "2022-03-30T19:27:06.464Z"
   },
   {
    "duration": 9,
    "start_time": "2022-03-30T19:27:06.472Z"
   },
   {
    "duration": 8,
    "start_time": "2022-03-30T19:27:06.482Z"
   },
   {
    "duration": 6,
    "start_time": "2022-03-30T19:27:06.492Z"
   },
   {
    "duration": 28,
    "start_time": "2022-03-30T19:27:06.531Z"
   },
   {
    "duration": 14,
    "start_time": "2022-03-30T19:27:06.561Z"
   },
   {
    "duration": 4,
    "start_time": "2022-03-30T19:27:06.576Z"
   },
   {
    "duration": 12,
    "start_time": "2022-03-30T19:27:06.582Z"
   },
   {
    "duration": 6,
    "start_time": "2022-03-30T19:27:06.596Z"
   },
   {
    "duration": 32,
    "start_time": "2022-03-30T19:27:06.604Z"
   },
   {
    "duration": 11,
    "start_time": "2022-03-30T19:27:06.639Z"
   },
   {
    "duration": 4,
    "start_time": "2022-03-30T19:27:06.652Z"
   },
   {
    "duration": 8,
    "start_time": "2022-03-30T19:27:06.657Z"
   },
   {
    "duration": 28,
    "start_time": "2022-03-30T19:27:06.666Z"
   },
   {
    "duration": 43,
    "start_time": "2022-03-30T19:27:06.697Z"
   },
   {
    "duration": 221,
    "start_time": "2022-03-30T19:27:06.742Z"
   },
   {
    "duration": 9,
    "start_time": "2022-03-30T19:27:06.965Z"
   },
   {
    "duration": 222,
    "start_time": "2022-03-30T19:27:06.976Z"
   },
   {
    "duration": 10,
    "start_time": "2022-03-30T19:27:07.199Z"
   },
   {
    "duration": 217,
    "start_time": "2022-03-30T19:27:07.210Z"
   },
   {
    "duration": 11,
    "start_time": "2022-03-30T19:27:07.428Z"
   },
   {
    "duration": 177,
    "start_time": "2022-03-30T19:27:07.440Z"
   },
   {
    "duration": 18,
    "start_time": "2022-03-30T19:27:07.619Z"
   },
   {
    "duration": 245,
    "start_time": "2022-03-30T19:27:07.639Z"
   },
   {
    "duration": 5,
    "start_time": "2022-03-30T19:27:07.886Z"
   },
   {
    "duration": 24,
    "start_time": "2022-03-30T19:27:07.893Z"
   },
   {
    "duration": 21,
    "start_time": "2022-03-30T19:27:07.922Z"
   },
   {
    "duration": 57,
    "start_time": "2022-03-30T19:27:07.945Z"
   },
   {
    "duration": 20,
    "start_time": "2022-03-30T19:27:08.004Z"
   },
   {
    "duration": 167,
    "start_time": "2022-03-30T19:27:08.026Z"
   },
   {
    "duration": 21,
    "start_time": "2022-03-30T19:27:08.195Z"
   },
   {
    "duration": 172,
    "start_time": "2022-03-30T19:27:08.217Z"
   },
   {
    "duration": 23,
    "start_time": "2022-03-30T19:27:08.391Z"
   },
   {
    "duration": 176,
    "start_time": "2022-03-30T19:27:08.416Z"
   },
   {
    "duration": 124,
    "start_time": "2022-03-30T19:27:08.594Z"
   },
   {
    "duration": 18,
    "start_time": "2022-03-30T19:27:08.720Z"
   },
   {
    "duration": 44,
    "start_time": "2022-03-30T19:27:08.740Z"
   },
   {
    "duration": 22,
    "start_time": "2022-03-30T19:27:08.786Z"
   },
   {
    "duration": 195,
    "start_time": "2022-03-30T19:27:08.810Z"
   },
   {
    "duration": 8,
    "start_time": "2022-03-30T19:27:09.007Z"
   },
   {
    "duration": 34,
    "start_time": "2022-03-30T19:27:09.016Z"
   },
   {
    "duration": 82,
    "start_time": "2022-03-30T19:27:09.051Z"
   },
   {
    "duration": 177,
    "start_time": "2022-03-30T19:27:09.135Z"
   },
   {
    "duration": 238,
    "start_time": "2022-03-30T19:27:09.314Z"
   },
   {
    "duration": 219,
    "start_time": "2022-03-30T19:27:09.554Z"
   },
   {
    "duration": 151,
    "start_time": "2022-03-30T19:27:09.775Z"
   },
   {
    "duration": 8,
    "start_time": "2022-03-30T19:27:09.927Z"
   },
   {
    "duration": 6,
    "start_time": "2022-03-30T19:27:09.936Z"
   },
   {
    "duration": 25,
    "start_time": "2022-03-30T19:27:09.944Z"
   },
   {
    "duration": 21,
    "start_time": "2022-03-30T19:27:09.970Z"
   },
   {
    "duration": 205,
    "start_time": "2022-03-30T19:27:09.992Z"
   },
   {
    "duration": 36,
    "start_time": "2022-03-30T19:27:10.199Z"
   },
   {
    "duration": 159,
    "start_time": "2022-03-30T19:27:10.237Z"
   },
   {
    "duration": 36,
    "start_time": "2022-03-30T19:27:10.398Z"
   },
   {
    "duration": 164,
    "start_time": "2022-03-30T19:27:10.436Z"
   },
   {
    "duration": 169,
    "start_time": "2022-03-30T19:28:14.082Z"
   },
   {
    "duration": 183,
    "start_time": "2022-03-30T19:30:25.109Z"
   },
   {
    "duration": 196,
    "start_time": "2022-03-30T19:33:14.361Z"
   },
   {
    "duration": 182,
    "start_time": "2022-03-30T19:34:00.701Z"
   },
   {
    "duration": 204,
    "start_time": "2022-03-30T19:34:05.851Z"
   },
   {
    "duration": 189,
    "start_time": "2022-03-30T19:34:10.921Z"
   },
   {
    "duration": 299,
    "start_time": "2022-03-30T19:34:19.801Z"
   },
   {
    "duration": 202,
    "start_time": "2022-03-30T19:34:24.163Z"
   },
   {
    "duration": 10,
    "start_time": "2022-03-30T19:34:34.363Z"
   },
   {
    "duration": 183,
    "start_time": "2022-03-30T19:34:35.781Z"
   },
   {
    "duration": 12,
    "start_time": "2022-03-30T19:36:19.178Z"
   },
   {
    "duration": 180,
    "start_time": "2022-03-30T19:36:19.660Z"
   },
   {
    "duration": 929,
    "start_time": "2022-03-30T19:36:29.209Z"
   },
   {
    "duration": 18,
    "start_time": "2022-03-30T19:36:30.141Z"
   },
   {
    "duration": 103,
    "start_time": "2022-03-30T19:36:30.161Z"
   },
   {
    "duration": 5,
    "start_time": "2022-03-30T19:36:30.266Z"
   },
   {
    "duration": 15,
    "start_time": "2022-03-30T19:36:30.274Z"
   },
   {
    "duration": 12,
    "start_time": "2022-03-30T19:36:30.291Z"
   },
   {
    "duration": 13,
    "start_time": "2022-03-30T19:36:30.306Z"
   },
   {
    "duration": 22,
    "start_time": "2022-03-30T19:36:30.321Z"
   },
   {
    "duration": 44,
    "start_time": "2022-03-30T19:36:30.346Z"
   },
   {
    "duration": 46,
    "start_time": "2022-03-30T19:36:30.392Z"
   },
   {
    "duration": 8,
    "start_time": "2022-03-30T19:36:30.440Z"
   },
   {
    "duration": 34,
    "start_time": "2022-03-30T19:36:30.450Z"
   },
   {
    "duration": 8,
    "start_time": "2022-03-30T19:36:30.486Z"
   },
   {
    "duration": 71,
    "start_time": "2022-03-30T19:36:30.498Z"
   },
   {
    "duration": 15,
    "start_time": "2022-03-30T19:36:30.570Z"
   },
   {
    "duration": 21,
    "start_time": "2022-03-30T19:36:30.587Z"
   },
   {
    "duration": 22,
    "start_time": "2022-03-30T19:36:30.610Z"
   },
   {
    "duration": 6,
    "start_time": "2022-03-30T19:36:30.633Z"
   },
   {
    "duration": 37,
    "start_time": "2022-03-30T19:36:30.641Z"
   },
   {
    "duration": 13,
    "start_time": "2022-03-30T19:36:30.680Z"
   },
   {
    "duration": 4,
    "start_time": "2022-03-30T19:36:30.695Z"
   },
   {
    "duration": 32,
    "start_time": "2022-03-30T19:36:30.701Z"
   },
   {
    "duration": 14,
    "start_time": "2022-03-30T19:36:30.735Z"
   },
   {
    "duration": 14,
    "start_time": "2022-03-30T19:36:30.751Z"
   },
   {
    "duration": 23,
    "start_time": "2022-03-30T19:36:30.767Z"
   },
   {
    "duration": 33,
    "start_time": "2022-03-30T19:36:30.792Z"
   },
   {
    "duration": 23,
    "start_time": "2022-03-30T19:36:30.827Z"
   },
   {
    "duration": 41,
    "start_time": "2022-03-30T19:36:30.852Z"
   },
   {
    "duration": 20,
    "start_time": "2022-03-30T19:36:30.895Z"
   },
   {
    "duration": 20,
    "start_time": "2022-03-30T19:36:30.916Z"
   },
   {
    "duration": 220,
    "start_time": "2022-03-30T19:36:30.938Z"
   },
   {
    "duration": 10,
    "start_time": "2022-03-30T19:36:31.160Z"
   },
   {
    "duration": 230,
    "start_time": "2022-03-30T19:36:31.172Z"
   },
   {
    "duration": 9,
    "start_time": "2022-03-30T19:36:31.404Z"
   },
   {
    "duration": 230,
    "start_time": "2022-03-30T19:36:31.415Z"
   },
   {
    "duration": 10,
    "start_time": "2022-03-30T19:36:31.646Z"
   },
   {
    "duration": 181,
    "start_time": "2022-03-30T19:36:31.657Z"
   },
   {
    "duration": 10,
    "start_time": "2022-03-30T19:36:31.840Z"
   },
   {
    "duration": 249,
    "start_time": "2022-03-30T19:36:31.851Z"
   },
   {
    "duration": 5,
    "start_time": "2022-03-30T19:36:32.102Z"
   },
   {
    "duration": 22,
    "start_time": "2022-03-30T19:36:32.112Z"
   },
   {
    "duration": 6,
    "start_time": "2022-03-30T19:36:32.136Z"
   },
   {
    "duration": 33,
    "start_time": "2022-03-30T19:36:32.144Z"
   },
   {
    "duration": 22,
    "start_time": "2022-03-30T19:36:32.178Z"
   },
   {
    "duration": 200,
    "start_time": "2022-03-30T19:36:32.202Z"
   },
   {
    "duration": 37,
    "start_time": "2022-03-30T19:36:32.404Z"
   },
   {
    "duration": 169,
    "start_time": "2022-03-30T19:36:32.443Z"
   },
   {
    "duration": 32,
    "start_time": "2022-03-30T19:36:32.613Z"
   },
   {
    "duration": 173,
    "start_time": "2022-03-30T19:36:32.646Z"
   },
   {
    "duration": 119,
    "start_time": "2022-03-30T19:36:32.821Z"
   },
   {
    "duration": 10,
    "start_time": "2022-03-30T19:36:32.942Z"
   },
   {
    "duration": 47,
    "start_time": "2022-03-30T19:36:32.954Z"
   },
   {
    "duration": 44,
    "start_time": "2022-03-30T19:36:33.003Z"
   },
   {
    "duration": 185,
    "start_time": "2022-03-30T19:36:33.049Z"
   },
   {
    "duration": 8,
    "start_time": "2022-03-30T19:36:33.236Z"
   },
   {
    "duration": 28,
    "start_time": "2022-03-30T19:36:33.246Z"
   },
   {
    "duration": 93,
    "start_time": "2022-03-30T19:36:33.277Z"
   },
   {
    "duration": 174,
    "start_time": "2022-03-30T19:36:33.372Z"
   },
   {
    "duration": 220,
    "start_time": "2022-03-30T19:36:33.547Z"
   },
   {
    "duration": 219,
    "start_time": "2022-03-30T19:36:33.769Z"
   },
   {
    "duration": 167,
    "start_time": "2022-03-30T19:36:33.990Z"
   },
   {
    "duration": 5,
    "start_time": "2022-03-30T19:36:34.159Z"
   },
   {
    "duration": 8,
    "start_time": "2022-03-30T19:36:34.165Z"
   },
   {
    "duration": 24,
    "start_time": "2022-03-30T19:36:34.175Z"
   },
   {
    "duration": 42,
    "start_time": "2022-03-30T19:36:34.201Z"
   },
   {
    "duration": 171,
    "start_time": "2022-03-30T19:36:34.245Z"
   },
   {
    "duration": 27,
    "start_time": "2022-03-30T19:36:34.417Z"
   },
   {
    "duration": 155,
    "start_time": "2022-03-30T19:36:34.446Z"
   },
   {
    "duration": 31,
    "start_time": "2022-03-30T19:36:34.603Z"
   },
   {
    "duration": 159,
    "start_time": "2022-03-30T19:36:34.636Z"
   },
   {
    "duration": 204,
    "start_time": "2022-03-30T19:38:10.869Z"
   },
   {
    "duration": 198,
    "start_time": "2022-03-30T19:38:23.433Z"
   },
   {
    "duration": 196,
    "start_time": "2022-03-30T19:38:28.180Z"
   },
   {
    "duration": 182,
    "start_time": "2022-03-30T19:38:35.117Z"
   },
   {
    "duration": 198,
    "start_time": "2022-03-30T19:38:39.209Z"
   },
   {
    "duration": 198,
    "start_time": "2022-03-30T19:38:43.751Z"
   },
   {
    "duration": 274,
    "start_time": "2022-03-30T19:38:48.452Z"
   },
   {
    "duration": 206,
    "start_time": "2022-03-30T19:39:04.929Z"
   },
   {
    "duration": 189,
    "start_time": "2022-03-30T19:39:16.086Z"
   },
   {
    "duration": 180,
    "start_time": "2022-03-30T19:39:29.275Z"
   },
   {
    "duration": 196,
    "start_time": "2022-03-30T19:39:34.490Z"
   },
   {
    "duration": 208,
    "start_time": "2022-03-30T19:39:41.461Z"
   },
   {
    "duration": 226,
    "start_time": "2022-03-30T19:39:47.207Z"
   },
   {
    "duration": 210,
    "start_time": "2022-03-30T19:39:51.398Z"
   },
   {
    "duration": 321,
    "start_time": "2022-03-30T19:39:56.527Z"
   },
   {
    "duration": 239,
    "start_time": "2022-03-30T19:39:59.878Z"
   },
   {
    "duration": 207,
    "start_time": "2022-03-30T19:40:04.769Z"
   },
   {
    "duration": 188,
    "start_time": "2022-03-30T19:40:11.060Z"
   },
   {
    "duration": 194,
    "start_time": "2022-03-30T19:40:14.855Z"
   },
   {
    "duration": 187,
    "start_time": "2022-03-30T19:40:21.808Z"
   },
   {
    "duration": 187,
    "start_time": "2022-03-30T19:40:25.779Z"
   },
   {
    "duration": 191,
    "start_time": "2022-03-30T19:40:30.811Z"
   },
   {
    "duration": 199,
    "start_time": "2022-03-30T19:40:35.316Z"
   },
   {
    "duration": 208,
    "start_time": "2022-03-30T19:40:39.629Z"
   },
   {
    "duration": 306,
    "start_time": "2022-03-30T19:40:45.888Z"
   },
   {
    "duration": 11,
    "start_time": "2022-03-30T19:41:26.379Z"
   },
   {
    "duration": 190,
    "start_time": "2022-03-30T19:41:27.209Z"
   },
   {
    "duration": 11,
    "start_time": "2022-03-30T19:41:37.999Z"
   },
   {
    "duration": 815,
    "start_time": "2022-03-30T19:41:48.776Z"
   },
   {
    "duration": 17,
    "start_time": "2022-03-30T19:41:49.593Z"
   },
   {
    "duration": 88,
    "start_time": "2022-03-30T19:41:49.611Z"
   },
   {
    "duration": 4,
    "start_time": "2022-03-30T19:41:49.700Z"
   },
   {
    "duration": 8,
    "start_time": "2022-03-30T19:41:49.706Z"
   },
   {
    "duration": 20,
    "start_time": "2022-03-30T19:41:49.715Z"
   },
   {
    "duration": 3,
    "start_time": "2022-03-30T19:41:49.737Z"
   },
   {
    "duration": 13,
    "start_time": "2022-03-30T19:41:49.742Z"
   },
   {
    "duration": 37,
    "start_time": "2022-03-30T19:41:49.756Z"
   },
   {
    "duration": 55,
    "start_time": "2022-03-30T19:41:49.795Z"
   },
   {
    "duration": 7,
    "start_time": "2022-03-30T19:41:49.851Z"
   },
   {
    "duration": 28,
    "start_time": "2022-03-30T19:41:49.860Z"
   },
   {
    "duration": 6,
    "start_time": "2022-03-30T19:41:49.890Z"
   },
   {
    "duration": 59,
    "start_time": "2022-03-30T19:41:49.899Z"
   },
   {
    "duration": 8,
    "start_time": "2022-03-30T19:41:49.960Z"
   },
   {
    "duration": 12,
    "start_time": "2022-03-30T19:41:49.970Z"
   },
   {
    "duration": 8,
    "start_time": "2022-03-30T19:41:49.984Z"
   },
   {
    "duration": 9,
    "start_time": "2022-03-30T19:41:49.994Z"
   },
   {
    "duration": 61,
    "start_time": "2022-03-30T19:41:50.005Z"
   },
   {
    "duration": 15,
    "start_time": "2022-03-30T19:41:50.068Z"
   },
   {
    "duration": 4,
    "start_time": "2022-03-30T19:41:50.085Z"
   },
   {
    "duration": 13,
    "start_time": "2022-03-30T19:41:50.091Z"
   },
   {
    "duration": 30,
    "start_time": "2022-03-30T19:41:50.106Z"
   },
   {
    "duration": 6,
    "start_time": "2022-03-30T19:41:50.138Z"
   },
   {
    "duration": 17,
    "start_time": "2022-03-30T19:41:50.145Z"
   },
   {
    "duration": 4,
    "start_time": "2022-03-30T19:41:50.164Z"
   },
   {
    "duration": 7,
    "start_time": "2022-03-30T19:41:50.170Z"
   },
   {
    "duration": 30,
    "start_time": "2022-03-30T19:41:50.179Z"
   },
   {
    "duration": 27,
    "start_time": "2022-03-30T19:41:50.210Z"
   },
   {
    "duration": 20,
    "start_time": "2022-03-30T19:41:50.239Z"
   },
   {
    "duration": 215,
    "start_time": "2022-03-30T19:41:50.261Z"
   },
   {
    "duration": 11,
    "start_time": "2022-03-30T19:41:50.478Z"
   },
   {
    "duration": 12,
    "start_time": "2022-03-30T19:41:50.491Z"
   },
   {
    "duration": 213,
    "start_time": "2022-03-30T19:41:50.505Z"
   },
   {
    "duration": 13,
    "start_time": "2022-03-30T19:41:50.720Z"
   },
   {
    "duration": 159,
    "start_time": "2022-03-30T19:41:50.735Z"
   },
   {
    "duration": 9,
    "start_time": "2022-03-30T19:41:50.896Z"
   },
   {
    "duration": 237,
    "start_time": "2022-03-30T19:41:50.907Z"
   },
   {
    "duration": 11,
    "start_time": "2022-03-30T19:41:51.145Z"
   },
   {
    "duration": 244,
    "start_time": "2022-03-30T19:41:51.157Z"
   },
   {
    "duration": 6,
    "start_time": "2022-03-30T19:41:51.406Z"
   },
   {
    "duration": 19,
    "start_time": "2022-03-30T19:41:51.414Z"
   },
   {
    "duration": 5,
    "start_time": "2022-03-30T19:41:51.435Z"
   },
   {
    "duration": 35,
    "start_time": "2022-03-30T19:41:51.442Z"
   },
   {
    "duration": 22,
    "start_time": "2022-03-30T19:41:51.478Z"
   },
   {
    "duration": 189,
    "start_time": "2022-03-30T19:41:51.502Z"
   },
   {
    "duration": 23,
    "start_time": "2022-03-30T19:41:51.693Z"
   },
   {
    "duration": 176,
    "start_time": "2022-03-30T19:41:51.717Z"
   },
   {
    "duration": 22,
    "start_time": "2022-03-30T19:41:51.894Z"
   },
   {
    "duration": 182,
    "start_time": "2022-03-30T19:41:51.918Z"
   },
   {
    "duration": 123,
    "start_time": "2022-03-30T19:41:52.102Z"
   },
   {
    "duration": 12,
    "start_time": "2022-03-30T19:41:52.227Z"
   },
   {
    "duration": 50,
    "start_time": "2022-03-30T19:41:52.241Z"
   },
   {
    "duration": 43,
    "start_time": "2022-03-30T19:41:52.293Z"
   },
   {
    "duration": 184,
    "start_time": "2022-03-30T19:41:52.338Z"
   },
   {
    "duration": 14,
    "start_time": "2022-03-30T19:41:52.525Z"
   },
   {
    "duration": 26,
    "start_time": "2022-03-30T19:41:52.541Z"
   },
   {
    "duration": 101,
    "start_time": "2022-03-30T19:41:52.569Z"
   },
   {
    "duration": 232,
    "start_time": "2022-03-30T19:41:52.672Z"
   },
   {
    "duration": 216,
    "start_time": "2022-03-30T19:41:52.906Z"
   },
   {
    "duration": 137,
    "start_time": "2022-03-30T19:41:53.124Z"
   },
   {
    "duration": 231,
    "start_time": "2022-03-30T19:41:53.262Z"
   },
   {
    "duration": 6,
    "start_time": "2022-03-30T19:41:53.494Z"
   },
   {
    "duration": 7,
    "start_time": "2022-03-30T19:41:53.501Z"
   },
   {
    "duration": 31,
    "start_time": "2022-03-30T19:41:53.510Z"
   },
   {
    "duration": 21,
    "start_time": "2022-03-30T19:41:53.542Z"
   },
   {
    "duration": 177,
    "start_time": "2022-03-30T19:41:53.564Z"
   },
   {
    "duration": 21,
    "start_time": "2022-03-30T19:41:53.743Z"
   },
   {
    "duration": 153,
    "start_time": "2022-03-30T19:41:53.765Z"
   },
   {
    "duration": 23,
    "start_time": "2022-03-30T19:41:53.920Z"
   },
   {
    "duration": 217,
    "start_time": "2022-03-30T19:41:53.945Z"
   },
   {
    "duration": 192,
    "start_time": "2022-03-30T19:42:52.690Z"
   },
   {
    "duration": 205,
    "start_time": "2022-03-30T19:42:57.456Z"
   },
   {
    "duration": 182,
    "start_time": "2022-03-30T19:43:01.190Z"
   },
   {
    "duration": 205,
    "start_time": "2022-03-30T19:43:08.629Z"
   },
   {
    "duration": 206,
    "start_time": "2022-03-30T19:43:12.989Z"
   },
   {
    "duration": 298,
    "start_time": "2022-03-30T19:43:15.397Z"
   },
   {
    "duration": 199,
    "start_time": "2022-03-30T19:43:21.149Z"
   },
   {
    "duration": 188,
    "start_time": "2022-03-30T19:43:39.797Z"
   },
   {
    "duration": 180,
    "start_time": "2022-03-30T19:44:03.190Z"
   },
   {
    "duration": 10,
    "start_time": "2022-03-30T19:44:11.258Z"
   },
   {
    "duration": 176,
    "start_time": "2022-03-30T19:44:13.299Z"
   },
   {
    "duration": 12,
    "start_time": "2022-03-30T19:44:18.299Z"
   },
   {
    "duration": 206,
    "start_time": "2022-03-30T19:44:19.627Z"
   },
   {
    "duration": 869,
    "start_time": "2022-03-30T19:48:01.616Z"
   },
   {
    "duration": 19,
    "start_time": "2022-03-30T19:48:02.488Z"
   },
   {
    "duration": 100,
    "start_time": "2022-03-30T19:48:02.510Z"
   },
   {
    "duration": 4,
    "start_time": "2022-03-30T19:48:02.612Z"
   },
   {
    "duration": 18,
    "start_time": "2022-03-30T19:48:02.617Z"
   },
   {
    "duration": 13,
    "start_time": "2022-03-30T19:48:02.637Z"
   },
   {
    "duration": 19,
    "start_time": "2022-03-30T19:48:02.652Z"
   },
   {
    "duration": 14,
    "start_time": "2022-03-30T19:48:02.673Z"
   },
   {
    "duration": 54,
    "start_time": "2022-03-30T19:48:02.689Z"
   },
   {
    "duration": 30,
    "start_time": "2022-03-30T19:48:02.746Z"
   },
   {
    "duration": 7,
    "start_time": "2022-03-30T19:48:02.778Z"
   },
   {
    "duration": 54,
    "start_time": "2022-03-30T19:48:02.787Z"
   },
   {
    "duration": 6,
    "start_time": "2022-03-30T19:48:02.844Z"
   },
   {
    "duration": 33,
    "start_time": "2022-03-30T19:48:02.852Z"
   },
   {
    "duration": 7,
    "start_time": "2022-03-30T19:48:02.887Z"
   },
   {
    "duration": 13,
    "start_time": "2022-03-30T19:48:02.895Z"
   },
   {
    "duration": 7,
    "start_time": "2022-03-30T19:48:02.931Z"
   },
   {
    "duration": 19,
    "start_time": "2022-03-30T19:48:02.939Z"
   },
   {
    "duration": 36,
    "start_time": "2022-03-30T19:48:02.960Z"
   },
   {
    "duration": 17,
    "start_time": "2022-03-30T19:48:02.998Z"
   },
   {
    "duration": 4,
    "start_time": "2022-03-30T19:48:03.017Z"
   },
   {
    "duration": 6,
    "start_time": "2022-03-30T19:48:03.032Z"
   },
   {
    "duration": 27,
    "start_time": "2022-03-30T19:48:03.040Z"
   },
   {
    "duration": 19,
    "start_time": "2022-03-30T19:48:03.069Z"
   },
   {
    "duration": 13,
    "start_time": "2022-03-30T19:48:03.090Z"
   },
   {
    "duration": 5,
    "start_time": "2022-03-30T19:48:03.105Z"
   },
   {
    "duration": 10,
    "start_time": "2022-03-30T19:48:03.113Z"
   },
   {
    "duration": 33,
    "start_time": "2022-03-30T19:48:03.129Z"
   },
   {
    "duration": 11,
    "start_time": "2022-03-30T19:48:03.164Z"
   },
   {
    "duration": 22,
    "start_time": "2022-03-30T19:48:03.177Z"
   },
   {
    "duration": 3,
    "start_time": "2022-03-30T19:48:03.201Z"
   },
   {
    "duration": 33,
    "start_time": "2022-03-30T19:48:03.206Z"
   },
   {
    "duration": 164,
    "start_time": "2022-03-30T19:48:03.242Z"
   },
   {
    "duration": 0,
    "start_time": "2022-03-30T19:48:03.408Z"
   },
   {
    "duration": 0,
    "start_time": "2022-03-30T19:48:03.410Z"
   },
   {
    "duration": 0,
    "start_time": "2022-03-30T19:48:03.411Z"
   },
   {
    "duration": 0,
    "start_time": "2022-03-30T19:48:03.412Z"
   },
   {
    "duration": 0,
    "start_time": "2022-03-30T19:48:03.413Z"
   },
   {
    "duration": 1,
    "start_time": "2022-03-30T19:48:03.414Z"
   },
   {
    "duration": 0,
    "start_time": "2022-03-30T19:48:03.416Z"
   },
   {
    "duration": 0,
    "start_time": "2022-03-30T19:48:03.417Z"
   },
   {
    "duration": 0,
    "start_time": "2022-03-30T19:48:03.418Z"
   },
   {
    "duration": 0,
    "start_time": "2022-03-30T19:48:03.419Z"
   },
   {
    "duration": 0,
    "start_time": "2022-03-30T19:48:03.420Z"
   },
   {
    "duration": 0,
    "start_time": "2022-03-30T19:48:03.421Z"
   },
   {
    "duration": 0,
    "start_time": "2022-03-30T19:48:03.422Z"
   },
   {
    "duration": 0,
    "start_time": "2022-03-30T19:48:03.423Z"
   },
   {
    "duration": 0,
    "start_time": "2022-03-30T19:48:03.425Z"
   },
   {
    "duration": 0,
    "start_time": "2022-03-30T19:48:03.426Z"
   },
   {
    "duration": 0,
    "start_time": "2022-03-30T19:48:03.427Z"
   },
   {
    "duration": 0,
    "start_time": "2022-03-30T19:48:03.428Z"
   },
   {
    "duration": 0,
    "start_time": "2022-03-30T19:48:03.429Z"
   },
   {
    "duration": 0,
    "start_time": "2022-03-30T19:48:03.430Z"
   },
   {
    "duration": 0,
    "start_time": "2022-03-30T19:48:03.431Z"
   },
   {
    "duration": 0,
    "start_time": "2022-03-30T19:48:03.432Z"
   },
   {
    "duration": 0,
    "start_time": "2022-03-30T19:48:03.433Z"
   },
   {
    "duration": 0,
    "start_time": "2022-03-30T19:48:03.435Z"
   },
   {
    "duration": 0,
    "start_time": "2022-03-30T19:48:03.435Z"
   },
   {
    "duration": 0,
    "start_time": "2022-03-30T19:48:03.436Z"
   },
   {
    "duration": 0,
    "start_time": "2022-03-30T19:48:03.437Z"
   },
   {
    "duration": 0,
    "start_time": "2022-03-30T19:48:03.438Z"
   },
   {
    "duration": 0,
    "start_time": "2022-03-30T19:48:03.439Z"
   },
   {
    "duration": 0,
    "start_time": "2022-03-30T19:48:03.440Z"
   },
   {
    "duration": 0,
    "start_time": "2022-03-30T19:48:03.441Z"
   },
   {
    "duration": 0,
    "start_time": "2022-03-30T19:48:03.443Z"
   },
   {
    "duration": 0,
    "start_time": "2022-03-30T19:48:03.444Z"
   },
   {
    "duration": 0,
    "start_time": "2022-03-30T19:48:03.445Z"
   },
   {
    "duration": 0,
    "start_time": "2022-03-30T19:48:03.446Z"
   },
   {
    "duration": 0,
    "start_time": "2022-03-30T19:48:03.447Z"
   },
   {
    "duration": 0,
    "start_time": "2022-03-30T19:48:03.448Z"
   },
   {
    "duration": 0,
    "start_time": "2022-03-30T19:48:03.448Z"
   },
   {
    "duration": 0,
    "start_time": "2022-03-30T19:48:03.449Z"
   },
   {
    "duration": 0,
    "start_time": "2022-03-30T19:48:03.450Z"
   },
   {
    "duration": 0,
    "start_time": "2022-03-30T19:48:03.452Z"
   },
   {
    "duration": 0,
    "start_time": "2022-03-30T19:48:03.453Z"
   },
   {
    "duration": 0,
    "start_time": "2022-03-30T19:48:03.454Z"
   },
   {
    "duration": 12,
    "start_time": "2022-03-30T19:48:21.735Z"
   },
   {
    "duration": 10,
    "start_time": "2022-03-30T19:48:26.485Z"
   },
   {
    "duration": 162,
    "start_time": "2022-03-30T19:48:28.013Z"
   },
   {
    "duration": 851,
    "start_time": "2022-03-30T19:48:48.013Z"
   },
   {
    "duration": 15,
    "start_time": "2022-03-30T19:48:48.866Z"
   },
   {
    "duration": 99,
    "start_time": "2022-03-30T19:48:48.883Z"
   },
   {
    "duration": 4,
    "start_time": "2022-03-30T19:48:48.984Z"
   },
   {
    "duration": 24,
    "start_time": "2022-03-30T19:48:48.990Z"
   },
   {
    "duration": 23,
    "start_time": "2022-03-30T19:48:49.016Z"
   },
   {
    "duration": 19,
    "start_time": "2022-03-30T19:48:49.041Z"
   },
   {
    "duration": 18,
    "start_time": "2022-03-30T19:48:49.062Z"
   },
   {
    "duration": 37,
    "start_time": "2022-03-30T19:48:49.082Z"
   },
   {
    "duration": 30,
    "start_time": "2022-03-30T19:48:49.122Z"
   },
   {
    "duration": 11,
    "start_time": "2022-03-30T19:48:49.154Z"
   },
   {
    "duration": 47,
    "start_time": "2022-03-30T19:48:49.167Z"
   },
   {
    "duration": 7,
    "start_time": "2022-03-30T19:48:49.216Z"
   },
   {
    "duration": 61,
    "start_time": "2022-03-30T19:48:49.224Z"
   },
   {
    "duration": 8,
    "start_time": "2022-03-30T19:48:49.287Z"
   },
   {
    "duration": 27,
    "start_time": "2022-03-30T19:48:49.296Z"
   },
   {
    "duration": 18,
    "start_time": "2022-03-30T19:48:49.324Z"
   },
   {
    "duration": 19,
    "start_time": "2022-03-30T19:48:49.344Z"
   },
   {
    "duration": 34,
    "start_time": "2022-03-30T19:48:49.365Z"
   },
   {
    "duration": 26,
    "start_time": "2022-03-30T19:48:49.401Z"
   },
   {
    "duration": 15,
    "start_time": "2022-03-30T19:48:49.429Z"
   },
   {
    "duration": 23,
    "start_time": "2022-03-30T19:48:49.446Z"
   },
   {
    "duration": 23,
    "start_time": "2022-03-30T19:48:49.471Z"
   },
   {
    "duration": 18,
    "start_time": "2022-03-30T19:48:49.496Z"
   },
   {
    "duration": 20,
    "start_time": "2022-03-30T19:48:49.516Z"
   },
   {
    "duration": 12,
    "start_time": "2022-03-30T19:48:49.537Z"
   },
   {
    "duration": 11,
    "start_time": "2022-03-30T19:48:49.551Z"
   },
   {
    "duration": 48,
    "start_time": "2022-03-30T19:48:49.568Z"
   },
   {
    "duration": 14,
    "start_time": "2022-03-30T19:48:49.618Z"
   },
   {
    "duration": 38,
    "start_time": "2022-03-30T19:48:49.633Z"
   },
   {
    "duration": 10,
    "start_time": "2022-03-30T19:48:49.673Z"
   },
   {
    "duration": 25,
    "start_time": "2022-03-30T19:48:49.684Z"
   },
   {
    "duration": 19,
    "start_time": "2022-03-30T19:48:49.711Z"
   },
   {
    "duration": 15,
    "start_time": "2022-03-30T19:48:49.732Z"
   },
   {
    "duration": 32,
    "start_time": "2022-03-30T19:48:49.748Z"
   },
   {
    "duration": 207,
    "start_time": "2022-03-30T19:48:49.781Z"
   },
   {
    "duration": 206,
    "start_time": "2022-03-30T19:48:49.989Z"
   },
   {
    "duration": 159,
    "start_time": "2022-03-30T19:48:50.197Z"
   },
   {
    "duration": 228,
    "start_time": "2022-03-30T19:48:50.357Z"
   },
   {
    "duration": 238,
    "start_time": "2022-03-30T19:48:50.587Z"
   },
   {
    "duration": 8,
    "start_time": "2022-03-30T19:48:50.827Z"
   },
   {
    "duration": 10,
    "start_time": "2022-03-30T19:48:50.837Z"
   },
   {
    "duration": 7,
    "start_time": "2022-03-30T19:48:50.849Z"
   },
   {
    "duration": 31,
    "start_time": "2022-03-30T19:48:50.859Z"
   },
   {
    "duration": 53,
    "start_time": "2022-03-30T19:48:50.893Z"
   },
   {
    "duration": 183,
    "start_time": "2022-03-30T19:48:50.948Z"
   },
   {
    "duration": 22,
    "start_time": "2022-03-30T19:48:51.133Z"
   },
   {
    "duration": 167,
    "start_time": "2022-03-30T19:48:51.157Z"
   },
   {
    "duration": 24,
    "start_time": "2022-03-30T19:48:51.326Z"
   },
   {
    "duration": 172,
    "start_time": "2022-03-30T19:48:51.352Z"
   },
   {
    "duration": 123,
    "start_time": "2022-03-30T19:48:51.525Z"
   },
   {
    "duration": 10,
    "start_time": "2022-03-30T19:48:51.650Z"
   },
   {
    "duration": 45,
    "start_time": "2022-03-30T19:48:51.661Z"
   },
   {
    "duration": 46,
    "start_time": "2022-03-30T19:48:51.708Z"
   },
   {
    "duration": 183,
    "start_time": "2022-03-30T19:48:51.755Z"
   },
   {
    "duration": 8,
    "start_time": "2022-03-30T19:48:51.940Z"
   },
   {
    "duration": 27,
    "start_time": "2022-03-30T19:48:51.949Z"
   },
   {
    "duration": 92,
    "start_time": "2022-03-30T19:48:51.977Z"
   },
   {
    "duration": 189,
    "start_time": "2022-03-30T19:48:52.071Z"
   },
   {
    "duration": 230,
    "start_time": "2022-03-30T19:48:52.262Z"
   },
   {
    "duration": 145,
    "start_time": "2022-03-30T19:48:52.494Z"
   },
   {
    "duration": 235,
    "start_time": "2022-03-30T19:48:52.641Z"
   },
   {
    "duration": 5,
    "start_time": "2022-03-30T19:48:52.878Z"
   },
   {
    "duration": 14,
    "start_time": "2022-03-30T19:48:52.885Z"
   },
   {
    "duration": 43,
    "start_time": "2022-03-30T19:48:52.901Z"
   },
   {
    "duration": 21,
    "start_time": "2022-03-30T19:48:52.946Z"
   },
   {
    "duration": 189,
    "start_time": "2022-03-30T19:48:52.970Z"
   },
   {
    "duration": 24,
    "start_time": "2022-03-30T19:48:53.161Z"
   },
   {
    "duration": 165,
    "start_time": "2022-03-30T19:48:53.187Z"
   },
   {
    "duration": 21,
    "start_time": "2022-03-30T19:48:53.355Z"
   },
   {
    "duration": 185,
    "start_time": "2022-03-30T19:48:53.378Z"
   },
   {
    "duration": 10,
    "start_time": "2022-03-30T19:52:33.213Z"
   },
   {
    "duration": 12,
    "start_time": "2022-03-30T19:52:35.097Z"
   },
   {
    "duration": 10,
    "start_time": "2022-03-30T19:52:36.902Z"
   },
   {
    "duration": 813,
    "start_time": "2022-03-30T19:53:41.574Z"
   },
   {
    "duration": 16,
    "start_time": "2022-03-30T19:53:42.389Z"
   },
   {
    "duration": 87,
    "start_time": "2022-03-30T19:53:42.407Z"
   },
   {
    "duration": 3,
    "start_time": "2022-03-30T19:53:42.497Z"
   },
   {
    "duration": 6,
    "start_time": "2022-03-30T19:53:42.502Z"
   },
   {
    "duration": 25,
    "start_time": "2022-03-30T19:53:42.509Z"
   },
   {
    "duration": 6,
    "start_time": "2022-03-30T19:53:42.536Z"
   },
   {
    "duration": 12,
    "start_time": "2022-03-30T19:53:42.543Z"
   },
   {
    "duration": 29,
    "start_time": "2022-03-30T19:53:42.556Z"
   },
   {
    "duration": 48,
    "start_time": "2022-03-30T19:53:42.587Z"
   },
   {
    "duration": 7,
    "start_time": "2022-03-30T19:53:42.636Z"
   },
   {
    "duration": 28,
    "start_time": "2022-03-30T19:53:42.644Z"
   },
   {
    "duration": 6,
    "start_time": "2022-03-30T19:53:42.674Z"
   },
   {
    "duration": 60,
    "start_time": "2022-03-30T19:53:42.682Z"
   },
   {
    "duration": 7,
    "start_time": "2022-03-30T19:53:42.743Z"
   },
   {
    "duration": 10,
    "start_time": "2022-03-30T19:53:42.752Z"
   },
   {
    "duration": 10,
    "start_time": "2022-03-30T19:53:42.764Z"
   },
   {
    "duration": 9,
    "start_time": "2022-03-30T19:53:42.776Z"
   },
   {
    "duration": 49,
    "start_time": "2022-03-30T19:53:42.786Z"
   },
   {
    "duration": 14,
    "start_time": "2022-03-30T19:53:42.837Z"
   },
   {
    "duration": 4,
    "start_time": "2022-03-30T19:53:42.852Z"
   },
   {
    "duration": 9,
    "start_time": "2022-03-30T19:53:42.858Z"
   },
   {
    "duration": 8,
    "start_time": "2022-03-30T19:53:42.869Z"
   },
   {
    "duration": 7,
    "start_time": "2022-03-30T19:53:42.878Z"
   },
   {
    "duration": 45,
    "start_time": "2022-03-30T19:53:42.887Z"
   },
   {
    "duration": 5,
    "start_time": "2022-03-30T19:53:42.933Z"
   },
   {
    "duration": 8,
    "start_time": "2022-03-30T19:53:42.939Z"
   },
   {
    "duration": 26,
    "start_time": "2022-03-30T19:53:42.953Z"
   },
   {
    "duration": 9,
    "start_time": "2022-03-30T19:53:42.981Z"
   },
   {
    "duration": 48,
    "start_time": "2022-03-30T19:53:42.992Z"
   },
   {
    "duration": 10,
    "start_time": "2022-03-30T19:53:43.042Z"
   },
   {
    "duration": 11,
    "start_time": "2022-03-30T19:53:43.053Z"
   },
   {
    "duration": 9,
    "start_time": "2022-03-30T19:53:43.066Z"
   },
   {
    "duration": 9,
    "start_time": "2022-03-30T19:53:43.077Z"
   },
   {
    "duration": 46,
    "start_time": "2022-03-30T19:53:43.088Z"
   },
   {
    "duration": 10,
    "start_time": "2022-03-30T19:53:43.136Z"
   },
   {
    "duration": 215,
    "start_time": "2022-03-30T19:53:43.148Z"
   },
   {
    "duration": 197,
    "start_time": "2022-03-30T19:53:43.365Z"
   },
   {
    "duration": 161,
    "start_time": "2022-03-30T19:53:43.564Z"
   },
   {
    "duration": 235,
    "start_time": "2022-03-30T19:53:43.726Z"
   },
   {
    "duration": 239,
    "start_time": "2022-03-30T19:53:43.963Z"
   },
   {
    "duration": 5,
    "start_time": "2022-03-30T19:53:44.205Z"
   },
   {
    "duration": 21,
    "start_time": "2022-03-30T19:53:44.212Z"
   },
   {
    "duration": 6,
    "start_time": "2022-03-30T19:53:44.234Z"
   },
   {
    "duration": 34,
    "start_time": "2022-03-30T19:53:44.242Z"
   },
   {
    "duration": 21,
    "start_time": "2022-03-30T19:53:44.278Z"
   },
   {
    "duration": 191,
    "start_time": "2022-03-30T19:53:44.301Z"
   },
   {
    "duration": 22,
    "start_time": "2022-03-30T19:53:44.494Z"
   },
   {
    "duration": 176,
    "start_time": "2022-03-30T19:53:44.518Z"
   },
   {
    "duration": 36,
    "start_time": "2022-03-30T19:53:44.696Z"
   },
   {
    "duration": 183,
    "start_time": "2022-03-30T19:53:44.734Z"
   },
   {
    "duration": 122,
    "start_time": "2022-03-30T19:53:44.919Z"
   },
   {
    "duration": 11,
    "start_time": "2022-03-30T19:53:45.043Z"
   },
   {
    "duration": 46,
    "start_time": "2022-03-30T19:53:45.056Z"
   },
   {
    "duration": 44,
    "start_time": "2022-03-30T19:53:45.104Z"
   },
   {
    "duration": 188,
    "start_time": "2022-03-30T19:53:45.150Z"
   },
   {
    "duration": 10,
    "start_time": "2022-03-30T19:53:45.341Z"
   },
   {
    "duration": 32,
    "start_time": "2022-03-30T19:53:45.353Z"
   },
   {
    "duration": 93,
    "start_time": "2022-03-30T19:53:45.387Z"
   },
   {
    "duration": 181,
    "start_time": "2022-03-30T19:53:45.482Z"
   },
   {
    "duration": 222,
    "start_time": "2022-03-30T19:53:45.664Z"
   },
   {
    "duration": 151,
    "start_time": "2022-03-30T19:53:45.887Z"
   },
   {
    "duration": 239,
    "start_time": "2022-03-30T19:53:46.039Z"
   },
   {
    "duration": 5,
    "start_time": "2022-03-30T19:53:46.280Z"
   },
   {
    "duration": 13,
    "start_time": "2022-03-30T19:53:46.287Z"
   },
   {
    "duration": 41,
    "start_time": "2022-03-30T19:53:46.301Z"
   },
   {
    "duration": 22,
    "start_time": "2022-03-30T19:53:46.343Z"
   },
   {
    "duration": 182,
    "start_time": "2022-03-30T19:53:46.367Z"
   },
   {
    "duration": 21,
    "start_time": "2022-03-30T19:53:46.550Z"
   },
   {
    "duration": 161,
    "start_time": "2022-03-30T19:53:46.573Z"
   },
   {
    "duration": 22,
    "start_time": "2022-03-30T19:53:46.736Z"
   },
   {
    "duration": 187,
    "start_time": "2022-03-30T19:53:46.759Z"
   },
   {
    "duration": 155,
    "start_time": "2022-03-30T19:54:49.392Z"
   },
   {
    "duration": 3,
    "start_time": "2022-03-30T19:56:18.300Z"
   },
   {
    "duration": 803,
    "start_time": "2022-03-30T19:57:16.272Z"
   },
   {
    "duration": 17,
    "start_time": "2022-03-30T19:57:17.077Z"
   },
   {
    "duration": 84,
    "start_time": "2022-03-30T19:57:17.096Z"
   },
   {
    "duration": 4,
    "start_time": "2022-03-30T19:57:17.182Z"
   },
   {
    "duration": 10,
    "start_time": "2022-03-30T19:57:17.188Z"
   },
   {
    "duration": 11,
    "start_time": "2022-03-30T19:57:17.200Z"
   },
   {
    "duration": 9,
    "start_time": "2022-03-30T19:57:17.212Z"
   },
   {
    "duration": 13,
    "start_time": "2022-03-30T19:57:17.223Z"
   },
   {
    "duration": 31,
    "start_time": "2022-03-30T19:57:17.238Z"
   },
   {
    "duration": 26,
    "start_time": "2022-03-30T19:57:17.271Z"
   },
   {
    "duration": 34,
    "start_time": "2022-03-30T19:57:17.299Z"
   },
   {
    "duration": 27,
    "start_time": "2022-03-30T19:57:17.335Z"
   },
   {
    "duration": 7,
    "start_time": "2022-03-30T19:57:17.363Z"
   },
   {
    "duration": 27,
    "start_time": "2022-03-30T19:57:17.373Z"
   },
   {
    "duration": 33,
    "start_time": "2022-03-30T19:57:17.402Z"
   },
   {
    "duration": 12,
    "start_time": "2022-03-30T19:57:17.437Z"
   },
   {
    "duration": 7,
    "start_time": "2022-03-30T19:57:17.451Z"
   },
   {
    "duration": 6,
    "start_time": "2022-03-30T19:57:17.460Z"
   },
   {
    "duration": 27,
    "start_time": "2022-03-30T19:57:17.467Z"
   },
   {
    "duration": 43,
    "start_time": "2022-03-30T19:57:17.497Z"
   },
   {
    "duration": 4,
    "start_time": "2022-03-30T19:57:17.543Z"
   },
   {
    "duration": 9,
    "start_time": "2022-03-30T19:57:17.549Z"
   },
   {
    "duration": 7,
    "start_time": "2022-03-30T19:57:17.560Z"
   },
   {
    "duration": 6,
    "start_time": "2022-03-30T19:57:17.569Z"
   },
   {
    "duration": 11,
    "start_time": "2022-03-30T19:57:17.577Z"
   },
   {
    "duration": 4,
    "start_time": "2022-03-30T19:57:17.590Z"
   },
   {
    "duration": 4,
    "start_time": "2022-03-30T19:57:17.633Z"
   },
   {
    "duration": 30,
    "start_time": "2022-03-30T19:57:17.639Z"
   },
   {
    "duration": 9,
    "start_time": "2022-03-30T19:57:17.671Z"
   },
   {
    "duration": 52,
    "start_time": "2022-03-30T19:57:17.682Z"
   },
   {
    "duration": 10,
    "start_time": "2022-03-30T19:57:17.735Z"
   },
   {
    "duration": 10,
    "start_time": "2022-03-30T19:57:17.747Z"
   },
   {
    "duration": 14,
    "start_time": "2022-03-30T19:57:17.759Z"
   },
   {
    "duration": 11,
    "start_time": "2022-03-30T19:57:17.775Z"
   },
   {
    "duration": 9,
    "start_time": "2022-03-30T19:57:17.788Z"
   },
   {
    "duration": 35,
    "start_time": "2022-03-30T19:57:17.799Z"
   },
   {
    "duration": 207,
    "start_time": "2022-03-30T19:57:17.836Z"
   },
   {
    "duration": 193,
    "start_time": "2022-03-30T19:57:18.045Z"
   },
   {
    "duration": 162,
    "start_time": "2022-03-30T19:57:18.240Z"
   },
   {
    "duration": 233,
    "start_time": "2022-03-30T19:57:18.404Z"
   },
   {
    "duration": 249,
    "start_time": "2022-03-30T19:57:18.641Z"
   },
   {
    "duration": 5,
    "start_time": "2022-03-30T19:57:18.892Z"
   },
   {
    "duration": 10,
    "start_time": "2022-03-30T19:57:18.899Z"
   },
   {
    "duration": 22,
    "start_time": "2022-03-30T19:57:18.910Z"
   },
   {
    "duration": 30,
    "start_time": "2022-03-30T19:57:18.934Z"
   },
   {
    "duration": 21,
    "start_time": "2022-03-30T19:57:18.966Z"
   },
   {
    "duration": 180,
    "start_time": "2022-03-30T19:57:18.989Z"
   },
   {
    "duration": 24,
    "start_time": "2022-03-30T19:57:19.170Z"
   },
   {
    "duration": 171,
    "start_time": "2022-03-30T19:57:19.196Z"
   },
   {
    "duration": 23,
    "start_time": "2022-03-30T19:57:19.368Z"
   },
   {
    "duration": 170,
    "start_time": "2022-03-30T19:57:19.392Z"
   },
   {
    "duration": 116,
    "start_time": "2022-03-30T19:57:19.564Z"
   },
   {
    "duration": 10,
    "start_time": "2022-03-30T19:57:19.681Z"
   },
   {
    "duration": 55,
    "start_time": "2022-03-30T19:57:19.693Z"
   },
   {
    "duration": 20,
    "start_time": "2022-03-30T19:57:19.750Z"
   },
   {
    "duration": 189,
    "start_time": "2022-03-30T19:57:19.772Z"
   },
   {
    "duration": 7,
    "start_time": "2022-03-30T19:57:19.963Z"
   },
   {
    "duration": 32,
    "start_time": "2022-03-30T19:57:19.972Z"
   },
   {
    "duration": 85,
    "start_time": "2022-03-30T19:57:20.006Z"
   },
   {
    "duration": 183,
    "start_time": "2022-03-30T19:57:20.093Z"
   },
   {
    "duration": 225,
    "start_time": "2022-03-30T19:57:20.278Z"
   },
   {
    "duration": 148,
    "start_time": "2022-03-30T19:57:20.504Z"
   },
   {
    "duration": 229,
    "start_time": "2022-03-30T19:57:20.654Z"
   },
   {
    "duration": 5,
    "start_time": "2022-03-30T19:57:20.885Z"
   },
   {
    "duration": 8,
    "start_time": "2022-03-30T19:57:20.892Z"
   },
   {
    "duration": 41,
    "start_time": "2022-03-30T19:57:20.902Z"
   },
   {
    "duration": 23,
    "start_time": "2022-03-30T19:57:20.944Z"
   },
   {
    "duration": 188,
    "start_time": "2022-03-30T19:57:20.969Z"
   },
   {
    "duration": 22,
    "start_time": "2022-03-30T19:57:21.159Z"
   },
   {
    "duration": 171,
    "start_time": "2022-03-30T19:57:21.182Z"
   },
   {
    "duration": 22,
    "start_time": "2022-03-30T19:57:21.355Z"
   },
   {
    "duration": 184,
    "start_time": "2022-03-30T19:57:21.379Z"
   },
   {
    "duration": 148,
    "start_time": "2022-03-30T19:57:44.012Z"
   },
   {
    "duration": 141,
    "start_time": "2022-03-30T19:57:55.053Z"
   },
   {
    "duration": 148,
    "start_time": "2022-03-30T19:58:01.462Z"
   },
   {
    "duration": 139,
    "start_time": "2022-03-30T19:58:09.162Z"
   },
   {
    "duration": 139,
    "start_time": "2022-03-30T19:58:12.058Z"
   },
   {
    "duration": 144,
    "start_time": "2022-03-30T19:58:16.842Z"
   },
   {
    "duration": 822,
    "start_time": "2022-03-30T19:59:12.457Z"
   },
   {
    "duration": 17,
    "start_time": "2022-03-30T19:59:13.281Z"
   },
   {
    "duration": 91,
    "start_time": "2022-03-30T19:59:13.299Z"
   },
   {
    "duration": 4,
    "start_time": "2022-03-30T19:59:13.392Z"
   },
   {
    "duration": 8,
    "start_time": "2022-03-30T19:59:13.398Z"
   },
   {
    "duration": 9,
    "start_time": "2022-03-30T19:59:13.407Z"
   },
   {
    "duration": 4,
    "start_time": "2022-03-30T19:59:13.431Z"
   },
   {
    "duration": 18,
    "start_time": "2022-03-30T19:59:13.436Z"
   },
   {
    "duration": 36,
    "start_time": "2022-03-30T19:59:13.456Z"
   },
   {
    "duration": 37,
    "start_time": "2022-03-30T19:59:13.494Z"
   },
   {
    "duration": 7,
    "start_time": "2022-03-30T19:59:13.533Z"
   },
   {
    "duration": 40,
    "start_time": "2022-03-30T19:59:13.541Z"
   },
   {
    "duration": 7,
    "start_time": "2022-03-30T19:59:13.583Z"
   },
   {
    "duration": 41,
    "start_time": "2022-03-30T19:59:13.593Z"
   },
   {
    "duration": 7,
    "start_time": "2022-03-30T19:59:13.636Z"
   },
   {
    "duration": 24,
    "start_time": "2022-03-30T19:59:13.644Z"
   },
   {
    "duration": 27,
    "start_time": "2022-03-30T19:59:13.669Z"
   },
   {
    "duration": 15,
    "start_time": "2022-03-30T19:59:13.698Z"
   },
   {
    "duration": 36,
    "start_time": "2022-03-30T19:59:13.715Z"
   },
   {
    "duration": 19,
    "start_time": "2022-03-30T19:59:13.754Z"
   },
   {
    "duration": 12,
    "start_time": "2022-03-30T19:59:13.774Z"
   },
   {
    "duration": 17,
    "start_time": "2022-03-30T19:59:13.788Z"
   },
   {
    "duration": 20,
    "start_time": "2022-03-30T19:59:13.807Z"
   },
   {
    "duration": 25,
    "start_time": "2022-03-30T19:59:13.829Z"
   },
   {
    "duration": 22,
    "start_time": "2022-03-30T19:59:13.856Z"
   },
   {
    "duration": 9,
    "start_time": "2022-03-30T19:59:13.880Z"
   },
   {
    "duration": 8,
    "start_time": "2022-03-30T19:59:13.891Z"
   },
   {
    "duration": 45,
    "start_time": "2022-03-30T19:59:13.901Z"
   },
   {
    "duration": 10,
    "start_time": "2022-03-30T19:59:13.949Z"
   },
   {
    "duration": 28,
    "start_time": "2022-03-30T19:59:13.962Z"
   },
   {
    "duration": 11,
    "start_time": "2022-03-30T19:59:13.992Z"
   },
   {
    "duration": 31,
    "start_time": "2022-03-30T19:59:14.005Z"
   },
   {
    "duration": 10,
    "start_time": "2022-03-30T19:59:14.038Z"
   },
   {
    "duration": 22,
    "start_time": "2022-03-30T19:59:14.050Z"
   },
   {
    "duration": 16,
    "start_time": "2022-03-30T19:59:14.074Z"
   },
   {
    "duration": 25,
    "start_time": "2022-03-30T19:59:14.092Z"
   },
   {
    "duration": 193,
    "start_time": "2022-03-30T19:59:14.119Z"
   },
   {
    "duration": 190,
    "start_time": "2022-03-30T19:59:14.314Z"
   },
   {
    "duration": 160,
    "start_time": "2022-03-30T19:59:14.506Z"
   },
   {
    "duration": 225,
    "start_time": "2022-03-30T19:59:14.668Z"
   },
   {
    "duration": 246,
    "start_time": "2022-03-30T19:59:14.897Z"
   },
   {
    "duration": 5,
    "start_time": "2022-03-30T19:59:15.145Z"
   },
   {
    "duration": 7,
    "start_time": "2022-03-30T19:59:15.152Z"
   },
   {
    "duration": 6,
    "start_time": "2022-03-30T19:59:15.161Z"
   },
   {
    "duration": 30,
    "start_time": "2022-03-30T19:59:15.168Z"
   },
   {
    "duration": 50,
    "start_time": "2022-03-30T19:59:15.200Z"
   },
   {
    "duration": 163,
    "start_time": "2022-03-30T19:59:15.252Z"
   },
   {
    "duration": 26,
    "start_time": "2022-03-30T19:59:15.417Z"
   },
   {
    "duration": 162,
    "start_time": "2022-03-30T19:59:15.445Z"
   },
   {
    "duration": 30,
    "start_time": "2022-03-30T19:59:15.609Z"
   },
   {
    "duration": 166,
    "start_time": "2022-03-30T19:59:15.641Z"
   },
   {
    "duration": 122,
    "start_time": "2022-03-30T19:59:15.808Z"
   },
   {
    "duration": 9,
    "start_time": "2022-03-30T19:59:15.932Z"
   },
   {
    "duration": 43,
    "start_time": "2022-03-30T19:59:15.943Z"
   },
   {
    "duration": 46,
    "start_time": "2022-03-30T19:59:15.987Z"
   },
   {
    "duration": 179,
    "start_time": "2022-03-30T19:59:16.034Z"
   },
   {
    "duration": 7,
    "start_time": "2022-03-30T19:59:16.215Z"
   },
   {
    "duration": 29,
    "start_time": "2022-03-30T19:59:16.231Z"
   },
   {
    "duration": 78,
    "start_time": "2022-03-30T19:59:16.261Z"
   },
   {
    "duration": 183,
    "start_time": "2022-03-30T19:59:16.341Z"
   },
   {
    "duration": 216,
    "start_time": "2022-03-30T19:59:16.526Z"
   },
   {
    "duration": 151,
    "start_time": "2022-03-30T19:59:16.744Z"
   },
   {
    "duration": 227,
    "start_time": "2022-03-30T19:59:16.897Z"
   },
   {
    "duration": 8,
    "start_time": "2022-03-30T19:59:17.126Z"
   },
   {
    "duration": 8,
    "start_time": "2022-03-30T19:59:17.136Z"
   },
   {
    "duration": 25,
    "start_time": "2022-03-30T19:59:17.146Z"
   },
   {
    "duration": 20,
    "start_time": "2022-03-30T19:59:17.173Z"
   },
   {
    "duration": 189,
    "start_time": "2022-03-30T19:59:17.194Z"
   },
   {
    "duration": 22,
    "start_time": "2022-03-30T19:59:17.384Z"
   },
   {
    "duration": 159,
    "start_time": "2022-03-30T19:59:17.408Z"
   },
   {
    "duration": 20,
    "start_time": "2022-03-30T19:59:17.569Z"
   },
   {
    "duration": 180,
    "start_time": "2022-03-30T19:59:17.591Z"
   },
   {
    "duration": 158,
    "start_time": "2022-03-30T20:01:23.846Z"
   },
   {
    "duration": 143,
    "start_time": "2022-03-30T20:01:31.495Z"
   },
   {
    "duration": 152,
    "start_time": "2022-03-30T20:01:41.544Z"
   },
   {
    "duration": 144,
    "start_time": "2022-03-30T20:01:47.445Z"
   },
   {
    "duration": 141,
    "start_time": "2022-03-30T20:01:51.769Z"
   },
   {
    "duration": 849,
    "start_time": "2022-03-30T20:02:09.091Z"
   },
   {
    "duration": 16,
    "start_time": "2022-03-30T20:02:09.942Z"
   },
   {
    "duration": 109,
    "start_time": "2022-03-30T20:02:09.960Z"
   },
   {
    "duration": 4,
    "start_time": "2022-03-30T20:02:10.071Z"
   },
   {
    "duration": 38,
    "start_time": "2022-03-30T20:02:10.077Z"
   },
   {
    "duration": 51,
    "start_time": "2022-03-30T20:02:10.117Z"
   },
   {
    "duration": 31,
    "start_time": "2022-03-30T20:02:10.170Z"
   },
   {
    "duration": 42,
    "start_time": "2022-03-30T20:02:10.203Z"
   },
   {
    "duration": 44,
    "start_time": "2022-03-30T20:02:10.246Z"
   },
   {
    "duration": 40,
    "start_time": "2022-03-30T20:02:10.293Z"
   },
   {
    "duration": 7,
    "start_time": "2022-03-30T20:02:10.335Z"
   },
   {
    "duration": 54,
    "start_time": "2022-03-30T20:02:10.343Z"
   },
   {
    "duration": 19,
    "start_time": "2022-03-30T20:02:10.399Z"
   },
   {
    "duration": 52,
    "start_time": "2022-03-30T20:02:10.419Z"
   },
   {
    "duration": 19,
    "start_time": "2022-03-30T20:02:10.473Z"
   },
   {
    "duration": 49,
    "start_time": "2022-03-30T20:02:10.494Z"
   },
   {
    "duration": 59,
    "start_time": "2022-03-30T20:02:10.545Z"
   },
   {
    "duration": 26,
    "start_time": "2022-03-30T20:02:10.605Z"
   },
   {
    "duration": 56,
    "start_time": "2022-03-30T20:02:10.633Z"
   },
   {
    "duration": 24,
    "start_time": "2022-03-30T20:02:10.692Z"
   },
   {
    "duration": 23,
    "start_time": "2022-03-30T20:02:10.717Z"
   },
   {
    "duration": 29,
    "start_time": "2022-03-30T20:02:10.741Z"
   },
   {
    "duration": 36,
    "start_time": "2022-03-30T20:02:10.772Z"
   },
   {
    "duration": 24,
    "start_time": "2022-03-30T20:02:10.810Z"
   },
   {
    "duration": 24,
    "start_time": "2022-03-30T20:02:10.836Z"
   },
   {
    "duration": 26,
    "start_time": "2022-03-30T20:02:10.862Z"
   },
   {
    "duration": 29,
    "start_time": "2022-03-30T20:02:10.890Z"
   },
   {
    "duration": 42,
    "start_time": "2022-03-30T20:02:10.924Z"
   },
   {
    "duration": 18,
    "start_time": "2022-03-30T20:02:10.968Z"
   },
   {
    "duration": 38,
    "start_time": "2022-03-30T20:02:10.989Z"
   },
   {
    "duration": 11,
    "start_time": "2022-03-30T20:02:11.029Z"
   },
   {
    "duration": 28,
    "start_time": "2022-03-30T20:02:11.042Z"
   },
   {
    "duration": 27,
    "start_time": "2022-03-30T20:02:11.072Z"
   },
   {
    "duration": 29,
    "start_time": "2022-03-30T20:02:11.101Z"
   },
   {
    "duration": 27,
    "start_time": "2022-03-30T20:02:11.132Z"
   },
   {
    "duration": 25,
    "start_time": "2022-03-30T20:02:11.160Z"
   },
   {
    "duration": 193,
    "start_time": "2022-03-30T20:02:11.186Z"
   },
   {
    "duration": 183,
    "start_time": "2022-03-30T20:02:11.381Z"
   },
   {
    "duration": 155,
    "start_time": "2022-03-30T20:02:11.566Z"
   },
   {
    "duration": 209,
    "start_time": "2022-03-30T20:02:11.722Z"
   },
   {
    "duration": 236,
    "start_time": "2022-03-30T20:02:11.933Z"
   },
   {
    "duration": 6,
    "start_time": "2022-03-30T20:02:12.171Z"
   },
   {
    "duration": 24,
    "start_time": "2022-03-30T20:02:12.179Z"
   },
   {
    "duration": 25,
    "start_time": "2022-03-30T20:02:12.205Z"
   },
   {
    "duration": 52,
    "start_time": "2022-03-30T20:02:12.231Z"
   },
   {
    "duration": 21,
    "start_time": "2022-03-30T20:02:12.285Z"
   },
   {
    "duration": 154,
    "start_time": "2022-03-30T20:02:12.307Z"
   },
   {
    "duration": 23,
    "start_time": "2022-03-30T20:02:12.463Z"
   },
   {
    "duration": 166,
    "start_time": "2022-03-30T20:02:12.488Z"
   },
   {
    "duration": 22,
    "start_time": "2022-03-30T20:02:12.656Z"
   },
   {
    "duration": 176,
    "start_time": "2022-03-30T20:02:12.679Z"
   },
   {
    "duration": 127,
    "start_time": "2022-03-30T20:02:12.856Z"
   },
   {
    "duration": 9,
    "start_time": "2022-03-30T20:02:12.985Z"
   },
   {
    "duration": 55,
    "start_time": "2022-03-30T20:02:12.996Z"
   },
   {
    "duration": 23,
    "start_time": "2022-03-30T20:02:13.052Z"
   },
   {
    "duration": 190,
    "start_time": "2022-03-30T20:02:13.077Z"
   },
   {
    "duration": 7,
    "start_time": "2022-03-30T20:02:13.270Z"
   },
   {
    "duration": 36,
    "start_time": "2022-03-30T20:02:13.278Z"
   },
   {
    "duration": 82,
    "start_time": "2022-03-30T20:02:13.316Z"
   },
   {
    "duration": 183,
    "start_time": "2022-03-30T20:02:13.399Z"
   },
   {
    "duration": 218,
    "start_time": "2022-03-30T20:02:13.584Z"
   },
   {
    "duration": 148,
    "start_time": "2022-03-30T20:02:13.804Z"
   },
   {
    "duration": 231,
    "start_time": "2022-03-30T20:02:13.953Z"
   },
   {
    "duration": 5,
    "start_time": "2022-03-30T20:02:14.186Z"
   },
   {
    "duration": 9,
    "start_time": "2022-03-30T20:02:14.192Z"
   },
   {
    "duration": 42,
    "start_time": "2022-03-30T20:02:14.203Z"
   },
   {
    "duration": 20,
    "start_time": "2022-03-30T20:02:14.247Z"
   },
   {
    "duration": 175,
    "start_time": "2022-03-30T20:02:14.268Z"
   },
   {
    "duration": 23,
    "start_time": "2022-03-30T20:02:14.445Z"
   },
   {
    "duration": 161,
    "start_time": "2022-03-30T20:02:14.470Z"
   },
   {
    "duration": 21,
    "start_time": "2022-03-30T20:02:14.633Z"
   },
   {
    "duration": 184,
    "start_time": "2022-03-30T20:02:14.656Z"
   },
   {
    "duration": 15,
    "start_time": "2022-03-30T20:03:40.909Z"
   },
   {
    "duration": 150,
    "start_time": "2022-03-30T20:07:17.691Z"
   },
   {
    "duration": 165,
    "start_time": "2022-03-30T20:07:23.981Z"
   },
   {
    "duration": 150,
    "start_time": "2022-03-30T20:07:33.651Z"
   },
   {
    "duration": 177,
    "start_time": "2022-03-30T20:07:46.031Z"
   },
   {
    "duration": 159,
    "start_time": "2022-03-30T20:07:56.620Z"
   },
   {
    "duration": 151,
    "start_time": "2022-03-30T20:08:21.491Z"
   },
   {
    "duration": 167,
    "start_time": "2022-03-30T20:08:26.368Z"
   },
   {
    "duration": 145,
    "start_time": "2022-03-30T20:08:33.683Z"
   },
   {
    "duration": 163,
    "start_time": "2022-03-30T20:09:06.301Z"
   },
   {
    "duration": 250,
    "start_time": "2022-03-30T20:09:11.141Z"
   },
   {
    "duration": 7,
    "start_time": "2022-03-30T20:11:27.669Z"
   },
   {
    "duration": 25,
    "start_time": "2022-03-30T20:11:28.581Z"
   },
   {
    "duration": 73,
    "start_time": "2022-03-30T20:11:43.677Z"
   },
   {
    "duration": 168,
    "start_time": "2022-03-30T20:11:47.548Z"
   },
   {
    "duration": 153,
    "start_time": "2022-03-30T20:11:54.432Z"
   },
   {
    "duration": 184,
    "start_time": "2022-03-30T20:11:59.669Z"
   },
   {
    "duration": 142,
    "start_time": "2022-03-30T20:12:03.169Z"
   },
   {
    "duration": 190,
    "start_time": "2022-03-30T20:12:11.271Z"
   },
   {
    "duration": 178,
    "start_time": "2022-03-30T20:12:15.620Z"
   },
   {
    "duration": 159,
    "start_time": "2022-03-30T20:12:20.420Z"
   },
   {
    "duration": 136,
    "start_time": "2022-03-30T20:12:23.349Z"
   },
   {
    "duration": 132,
    "start_time": "2022-03-30T20:12:42.749Z"
   },
   {
    "duration": 237,
    "start_time": "2022-03-30T20:12:52.841Z"
   },
   {
    "duration": 5,
    "start_time": "2022-03-30T20:13:25.261Z"
   },
   {
    "duration": 6,
    "start_time": "2022-03-30T20:13:26.349Z"
   },
   {
    "duration": 883,
    "start_time": "2022-03-30T20:13:30.830Z"
   },
   {
    "duration": 19,
    "start_time": "2022-03-30T20:13:31.715Z"
   },
   {
    "duration": 110,
    "start_time": "2022-03-30T20:13:31.735Z"
   },
   {
    "duration": 4,
    "start_time": "2022-03-30T20:13:31.847Z"
   },
   {
    "duration": 29,
    "start_time": "2022-03-30T20:13:31.853Z"
   },
   {
    "duration": 32,
    "start_time": "2022-03-30T20:13:31.884Z"
   },
   {
    "duration": 22,
    "start_time": "2022-03-30T20:13:31.918Z"
   },
   {
    "duration": 48,
    "start_time": "2022-03-30T20:13:31.942Z"
   },
   {
    "duration": 45,
    "start_time": "2022-03-30T20:13:31.992Z"
   },
   {
    "duration": 27,
    "start_time": "2022-03-30T20:13:32.039Z"
   },
   {
    "duration": 12,
    "start_time": "2022-03-30T20:13:32.068Z"
   },
   {
    "duration": 51,
    "start_time": "2022-03-30T20:13:32.081Z"
   },
   {
    "duration": 21,
    "start_time": "2022-03-30T20:13:32.133Z"
   },
   {
    "duration": 58,
    "start_time": "2022-03-30T20:13:32.157Z"
   },
   {
    "duration": 7,
    "start_time": "2022-03-30T20:13:32.216Z"
   },
   {
    "duration": 49,
    "start_time": "2022-03-30T20:13:32.225Z"
   },
   {
    "duration": 47,
    "start_time": "2022-03-30T20:13:32.276Z"
   },
   {
    "duration": 31,
    "start_time": "2022-03-30T20:13:32.325Z"
   },
   {
    "duration": 56,
    "start_time": "2022-03-30T20:13:32.358Z"
   },
   {
    "duration": 46,
    "start_time": "2022-03-30T20:13:32.416Z"
   },
   {
    "duration": 52,
    "start_time": "2022-03-30T20:13:32.464Z"
   },
   {
    "duration": 28,
    "start_time": "2022-03-30T20:13:32.518Z"
   },
   {
    "duration": 30,
    "start_time": "2022-03-30T20:13:32.548Z"
   },
   {
    "duration": 25,
    "start_time": "2022-03-30T20:13:32.580Z"
   },
   {
    "duration": 31,
    "start_time": "2022-03-30T20:13:32.607Z"
   },
   {
    "duration": 21,
    "start_time": "2022-03-30T20:13:32.640Z"
   },
   {
    "duration": 29,
    "start_time": "2022-03-30T20:13:32.663Z"
   },
   {
    "duration": 52,
    "start_time": "2022-03-30T20:13:32.694Z"
   },
   {
    "duration": 25,
    "start_time": "2022-03-30T20:13:32.747Z"
   },
   {
    "duration": 27,
    "start_time": "2022-03-30T20:13:32.774Z"
   },
   {
    "duration": 18,
    "start_time": "2022-03-30T20:13:32.803Z"
   },
   {
    "duration": 29,
    "start_time": "2022-03-30T20:13:32.822Z"
   },
   {
    "duration": 16,
    "start_time": "2022-03-30T20:13:32.852Z"
   },
   {
    "duration": 33,
    "start_time": "2022-03-30T20:13:32.870Z"
   },
   {
    "duration": 18,
    "start_time": "2022-03-30T20:13:32.905Z"
   },
   {
    "duration": 23,
    "start_time": "2022-03-30T20:13:32.925Z"
   },
   {
    "duration": 219,
    "start_time": "2022-03-30T20:13:32.950Z"
   },
   {
    "duration": 195,
    "start_time": "2022-03-30T20:13:33.170Z"
   },
   {
    "duration": 156,
    "start_time": "2022-03-30T20:13:33.367Z"
   },
   {
    "duration": 209,
    "start_time": "2022-03-30T20:13:33.525Z"
   },
   {
    "duration": 242,
    "start_time": "2022-03-30T20:13:33.739Z"
   },
   {
    "duration": 5,
    "start_time": "2022-03-30T20:13:33.983Z"
   },
   {
    "duration": 14,
    "start_time": "2022-03-30T20:13:33.990Z"
   },
   {
    "duration": 33,
    "start_time": "2022-03-30T20:13:34.005Z"
   },
   {
    "duration": 61,
    "start_time": "2022-03-30T20:13:34.040Z"
   },
   {
    "duration": 22,
    "start_time": "2022-03-30T20:13:34.103Z"
   },
   {
    "duration": 193,
    "start_time": "2022-03-30T20:13:34.127Z"
   },
   {
    "duration": 24,
    "start_time": "2022-03-30T20:13:34.322Z"
   },
   {
    "duration": 165,
    "start_time": "2022-03-30T20:13:34.348Z"
   },
   {
    "duration": 32,
    "start_time": "2022-03-30T20:13:34.515Z"
   },
   {
    "duration": 196,
    "start_time": "2022-03-30T20:13:34.549Z"
   },
   {
    "duration": 122,
    "start_time": "2022-03-30T20:13:34.747Z"
   },
   {
    "duration": 10,
    "start_time": "2022-03-30T20:13:34.871Z"
   },
   {
    "duration": 61,
    "start_time": "2022-03-30T20:13:34.883Z"
   },
   {
    "duration": 24,
    "start_time": "2022-03-30T20:13:34.946Z"
   },
   {
    "duration": 201,
    "start_time": "2022-03-30T20:13:34.972Z"
   },
   {
    "duration": 9,
    "start_time": "2022-03-30T20:13:35.176Z"
   },
   {
    "duration": 27,
    "start_time": "2022-03-30T20:13:35.187Z"
   },
   {
    "duration": 93,
    "start_time": "2022-03-30T20:13:35.215Z"
   },
   {
    "duration": 175,
    "start_time": "2022-03-30T20:13:35.310Z"
   },
   {
    "duration": 155,
    "start_time": "2022-03-30T20:13:35.488Z"
   },
   {
    "duration": 148,
    "start_time": "2022-03-30T20:13:35.645Z"
   },
   {
    "duration": 153,
    "start_time": "2022-03-30T20:13:35.795Z"
   },
   {
    "duration": 6,
    "start_time": "2022-03-30T20:13:35.950Z"
   },
   {
    "duration": 7,
    "start_time": "2022-03-30T20:13:35.958Z"
   },
   {
    "duration": 26,
    "start_time": "2022-03-30T20:13:35.967Z"
   },
   {
    "duration": 51,
    "start_time": "2022-03-30T20:13:35.995Z"
   },
   {
    "duration": 257,
    "start_time": "2022-03-30T20:13:36.048Z"
   },
   {
    "duration": 31,
    "start_time": "2022-03-30T20:13:36.306Z"
   },
   {
    "duration": 158,
    "start_time": "2022-03-30T20:13:36.339Z"
   },
   {
    "duration": 34,
    "start_time": "2022-03-30T20:13:36.498Z"
   },
   {
    "duration": 164,
    "start_time": "2022-03-30T20:13:36.534Z"
   },
   {
    "duration": 897,
    "start_time": "2022-03-30T20:14:30.001Z"
   },
   {
    "duration": 17,
    "start_time": "2022-03-30T20:14:30.900Z"
   },
   {
    "duration": 91,
    "start_time": "2022-03-30T20:14:30.919Z"
   },
   {
    "duration": 4,
    "start_time": "2022-03-30T20:14:31.012Z"
   },
   {
    "duration": 5,
    "start_time": "2022-03-30T20:14:31.031Z"
   },
   {
    "duration": 10,
    "start_time": "2022-03-30T20:14:31.037Z"
   },
   {
    "duration": 11,
    "start_time": "2022-03-30T20:14:31.049Z"
   },
   {
    "duration": 13,
    "start_time": "2022-03-30T20:14:31.063Z"
   },
   {
    "duration": 31,
    "start_time": "2022-03-30T20:14:31.077Z"
   },
   {
    "duration": 49,
    "start_time": "2022-03-30T20:14:31.111Z"
   },
   {
    "duration": 7,
    "start_time": "2022-03-30T20:14:31.162Z"
   },
   {
    "duration": 35,
    "start_time": "2022-03-30T20:14:31.170Z"
   },
   {
    "duration": 31,
    "start_time": "2022-03-30T20:14:31.207Z"
   },
   {
    "duration": 30,
    "start_time": "2022-03-30T20:14:31.240Z"
   },
   {
    "duration": 8,
    "start_time": "2022-03-30T20:14:31.271Z"
   },
   {
    "duration": 13,
    "start_time": "2022-03-30T20:14:31.280Z"
   },
   {
    "duration": 37,
    "start_time": "2022-03-30T20:14:31.295Z"
   },
   {
    "duration": 6,
    "start_time": "2022-03-30T20:14:31.334Z"
   },
   {
    "duration": 28,
    "start_time": "2022-03-30T20:14:31.342Z"
   },
   {
    "duration": 15,
    "start_time": "2022-03-30T20:14:31.372Z"
   },
   {
    "duration": 4,
    "start_time": "2022-03-30T20:14:31.389Z"
   },
   {
    "duration": 40,
    "start_time": "2022-03-30T20:14:31.394Z"
   },
   {
    "duration": 6,
    "start_time": "2022-03-30T20:14:31.436Z"
   },
   {
    "duration": 8,
    "start_time": "2022-03-30T20:14:31.444Z"
   },
   {
    "duration": 23,
    "start_time": "2022-03-30T20:14:31.454Z"
   },
   {
    "duration": 5,
    "start_time": "2022-03-30T20:14:31.478Z"
   },
   {
    "duration": 11,
    "start_time": "2022-03-30T20:14:31.484Z"
   },
   {
    "duration": 44,
    "start_time": "2022-03-30T20:14:31.499Z"
   },
   {
    "duration": 10,
    "start_time": "2022-03-30T20:14:31.545Z"
   },
   {
    "duration": 34,
    "start_time": "2022-03-30T20:14:31.557Z"
   },
   {
    "duration": 10,
    "start_time": "2022-03-30T20:14:31.593Z"
   },
   {
    "duration": 29,
    "start_time": "2022-03-30T20:14:31.605Z"
   },
   {
    "duration": 9,
    "start_time": "2022-03-30T20:14:31.636Z"
   },
   {
    "duration": 20,
    "start_time": "2022-03-30T20:14:31.647Z"
   },
   {
    "duration": 17,
    "start_time": "2022-03-30T20:14:31.669Z"
   },
   {
    "duration": 20,
    "start_time": "2022-03-30T20:14:31.688Z"
   },
   {
    "duration": 205,
    "start_time": "2022-03-30T20:14:31.710Z"
   },
   {
    "duration": 191,
    "start_time": "2022-03-30T20:14:31.917Z"
   },
   {
    "duration": 155,
    "start_time": "2022-03-30T20:14:32.110Z"
   },
   {
    "duration": 209,
    "start_time": "2022-03-30T20:14:32.267Z"
   },
   {
    "duration": 236,
    "start_time": "2022-03-30T20:14:32.478Z"
   },
   {
    "duration": 16,
    "start_time": "2022-03-30T20:14:32.716Z"
   },
   {
    "duration": 9,
    "start_time": "2022-03-30T20:14:32.734Z"
   },
   {
    "duration": 14,
    "start_time": "2022-03-30T20:14:32.745Z"
   },
   {
    "duration": 35,
    "start_time": "2022-03-30T20:14:32.761Z"
   },
   {
    "duration": 41,
    "start_time": "2022-03-30T20:14:32.798Z"
   },
   {
    "duration": 182,
    "start_time": "2022-03-30T20:14:32.841Z"
   },
   {
    "duration": 25,
    "start_time": "2022-03-30T20:14:33.025Z"
   },
   {
    "duration": 175,
    "start_time": "2022-03-30T20:14:33.052Z"
   },
   {
    "duration": 25,
    "start_time": "2022-03-30T20:14:33.229Z"
   },
   {
    "duration": 194,
    "start_time": "2022-03-30T20:14:33.256Z"
   },
   {
    "duration": 126,
    "start_time": "2022-03-30T20:14:33.452Z"
   },
   {
    "duration": 10,
    "start_time": "2022-03-30T20:14:33.580Z"
   },
   {
    "duration": 59,
    "start_time": "2022-03-30T20:14:33.592Z"
   },
   {
    "duration": 24,
    "start_time": "2022-03-30T20:14:33.653Z"
   },
   {
    "duration": 192,
    "start_time": "2022-03-30T20:14:33.679Z"
   },
   {
    "duration": 10,
    "start_time": "2022-03-30T20:14:33.873Z"
   },
   {
    "duration": 25,
    "start_time": "2022-03-30T20:14:33.885Z"
   },
   {
    "duration": 91,
    "start_time": "2022-03-30T20:14:33.912Z"
   },
   {
    "duration": 179,
    "start_time": "2022-03-30T20:14:34.005Z"
   },
   {
    "duration": 159,
    "start_time": "2022-03-30T20:14:34.186Z"
   },
   {
    "duration": 148,
    "start_time": "2022-03-30T20:14:34.347Z"
   },
   {
    "duration": 158,
    "start_time": "2022-03-30T20:14:34.497Z"
   },
   {
    "duration": 6,
    "start_time": "2022-03-30T20:14:34.657Z"
   },
   {
    "duration": 18,
    "start_time": "2022-03-30T20:14:34.665Z"
   },
   {
    "duration": 34,
    "start_time": "2022-03-30T20:14:34.685Z"
   },
   {
    "duration": 26,
    "start_time": "2022-03-30T20:14:34.721Z"
   },
   {
    "duration": 258,
    "start_time": "2022-03-30T20:14:34.749Z"
   },
   {
    "duration": 32,
    "start_time": "2022-03-30T20:14:35.009Z"
   },
   {
    "duration": 163,
    "start_time": "2022-03-30T20:14:35.042Z"
   },
   {
    "duration": 30,
    "start_time": "2022-03-30T20:14:35.207Z"
   },
   {
    "duration": 164,
    "start_time": "2022-03-30T20:14:35.238Z"
   },
   {
    "duration": 5,
    "start_time": "2022-03-30T20:15:15.259Z"
   },
   {
    "duration": 161,
    "start_time": "2022-03-30T20:16:09.591Z"
   },
   {
    "duration": 182,
    "start_time": "2022-03-30T20:16:15.532Z"
   },
   {
    "duration": 155,
    "start_time": "2022-03-30T20:16:25.191Z"
   },
   {
    "duration": 152,
    "start_time": "2022-03-30T20:16:30.339Z"
   },
   {
    "duration": 162,
    "start_time": "2022-03-30T20:16:38.201Z"
   },
   {
    "duration": 154,
    "start_time": "2022-03-30T20:17:49.164Z"
   },
   {
    "duration": 144,
    "start_time": "2022-03-30T20:18:09.812Z"
   },
   {
    "duration": 893,
    "start_time": "2022-03-30T20:18:20.801Z"
   },
   {
    "duration": 18,
    "start_time": "2022-03-30T20:18:21.696Z"
   },
   {
    "duration": 85,
    "start_time": "2022-03-30T20:18:21.716Z"
   },
   {
    "duration": 3,
    "start_time": "2022-03-30T20:18:21.803Z"
   },
   {
    "duration": 8,
    "start_time": "2022-03-30T20:18:21.809Z"
   },
   {
    "duration": 17,
    "start_time": "2022-03-30T20:18:21.818Z"
   },
   {
    "duration": 7,
    "start_time": "2022-03-30T20:18:21.837Z"
   },
   {
    "duration": 15,
    "start_time": "2022-03-30T20:18:21.845Z"
   },
   {
    "duration": 29,
    "start_time": "2022-03-30T20:18:21.862Z"
   },
   {
    "duration": 49,
    "start_time": "2022-03-30T20:18:21.892Z"
   },
   {
    "duration": 7,
    "start_time": "2022-03-30T20:18:21.943Z"
   },
   {
    "duration": 32,
    "start_time": "2022-03-30T20:18:21.951Z"
   },
   {
    "duration": 8,
    "start_time": "2022-03-30T20:18:21.984Z"
   },
   {
    "duration": 54,
    "start_time": "2022-03-30T20:18:21.995Z"
   },
   {
    "duration": 8,
    "start_time": "2022-03-30T20:18:22.051Z"
   },
   {
    "duration": 17,
    "start_time": "2022-03-30T20:18:22.060Z"
   },
   {
    "duration": 9,
    "start_time": "2022-03-30T20:18:22.079Z"
   },
   {
    "duration": 9,
    "start_time": "2022-03-30T20:18:22.089Z"
   },
   {
    "duration": 38,
    "start_time": "2022-03-30T20:18:22.100Z"
   },
   {
    "duration": 17,
    "start_time": "2022-03-30T20:18:22.139Z"
   },
   {
    "duration": 3,
    "start_time": "2022-03-30T20:18:22.158Z"
   },
   {
    "duration": 9,
    "start_time": "2022-03-30T20:18:22.163Z"
   },
   {
    "duration": 7,
    "start_time": "2022-03-30T20:18:22.174Z"
   },
   {
    "duration": 7,
    "start_time": "2022-03-30T20:18:22.183Z"
   },
   {
    "duration": 48,
    "start_time": "2022-03-30T20:18:22.191Z"
   },
   {
    "duration": 6,
    "start_time": "2022-03-30T20:18:22.241Z"
   },
   {
    "duration": 7,
    "start_time": "2022-03-30T20:18:22.249Z"
   },
   {
    "duration": 30,
    "start_time": "2022-03-30T20:18:22.257Z"
   },
   {
    "duration": 11,
    "start_time": "2022-03-30T20:18:22.289Z"
   },
   {
    "duration": 49,
    "start_time": "2022-03-30T20:18:22.302Z"
   },
   {
    "duration": 11,
    "start_time": "2022-03-30T20:18:22.353Z"
   },
   {
    "duration": 11,
    "start_time": "2022-03-30T20:18:22.366Z"
   },
   {
    "duration": 10,
    "start_time": "2022-03-30T20:18:22.379Z"
   },
   {
    "duration": 47,
    "start_time": "2022-03-30T20:18:22.391Z"
   },
   {
    "duration": 9,
    "start_time": "2022-03-30T20:18:22.440Z"
   },
   {
    "duration": 13,
    "start_time": "2022-03-30T20:18:22.450Z"
   },
   {
    "duration": 218,
    "start_time": "2022-03-30T20:18:22.464Z"
   },
   {
    "duration": 191,
    "start_time": "2022-03-30T20:18:22.683Z"
   },
   {
    "duration": 167,
    "start_time": "2022-03-30T20:18:22.876Z"
   },
   {
    "duration": 218,
    "start_time": "2022-03-30T20:18:23.045Z"
   },
   {
    "duration": 241,
    "start_time": "2022-03-30T20:18:23.268Z"
   },
   {
    "duration": 7,
    "start_time": "2022-03-30T20:18:23.511Z"
   },
   {
    "duration": 6,
    "start_time": "2022-03-30T20:18:23.531Z"
   },
   {
    "duration": 10,
    "start_time": "2022-03-30T20:18:23.539Z"
   },
   {
    "duration": 37,
    "start_time": "2022-03-30T20:18:23.551Z"
   },
   {
    "duration": 44,
    "start_time": "2022-03-30T20:18:23.590Z"
   },
   {
    "duration": 179,
    "start_time": "2022-03-30T20:18:23.636Z"
   },
   {
    "duration": 27,
    "start_time": "2022-03-30T20:18:23.817Z"
   },
   {
    "duration": 168,
    "start_time": "2022-03-30T20:18:23.846Z"
   },
   {
    "duration": 26,
    "start_time": "2022-03-30T20:18:24.016Z"
   },
   {
    "duration": 181,
    "start_time": "2022-03-30T20:18:24.043Z"
   },
   {
    "duration": 136,
    "start_time": "2022-03-30T20:18:24.226Z"
   },
   {
    "duration": 10,
    "start_time": "2022-03-30T20:18:24.365Z"
   },
   {
    "duration": 56,
    "start_time": "2022-03-30T20:18:24.377Z"
   },
   {
    "duration": 23,
    "start_time": "2022-03-30T20:18:24.434Z"
   },
   {
    "duration": 178,
    "start_time": "2022-03-30T20:18:24.459Z"
   },
   {
    "duration": 9,
    "start_time": "2022-03-30T20:18:24.638Z"
   },
   {
    "duration": 25,
    "start_time": "2022-03-30T20:18:24.649Z"
   },
   {
    "duration": 98,
    "start_time": "2022-03-30T20:18:24.676Z"
   },
   {
    "duration": 162,
    "start_time": "2022-03-30T20:18:24.776Z"
   },
   {
    "duration": 156,
    "start_time": "2022-03-30T20:18:24.939Z"
   },
   {
    "duration": 147,
    "start_time": "2022-03-30T20:18:25.097Z"
   },
   {
    "duration": 158,
    "start_time": "2022-03-30T20:18:25.246Z"
   },
   {
    "duration": 6,
    "start_time": "2022-03-30T20:18:25.406Z"
   },
   {
    "duration": 35,
    "start_time": "2022-03-30T20:18:25.414Z"
   },
   {
    "duration": 40,
    "start_time": "2022-03-30T20:18:25.451Z"
   },
   {
    "duration": 22,
    "start_time": "2022-03-30T20:18:25.493Z"
   },
   {
    "duration": 229,
    "start_time": "2022-03-30T20:18:25.517Z"
   },
   {
    "duration": 21,
    "start_time": "2022-03-30T20:18:25.747Z"
   },
   {
    "duration": 167,
    "start_time": "2022-03-30T20:18:25.770Z"
   },
   {
    "duration": 21,
    "start_time": "2022-03-30T20:18:25.939Z"
   },
   {
    "duration": 186,
    "start_time": "2022-03-30T20:18:25.962Z"
   },
   {
    "duration": 22,
    "start_time": "2022-03-30T20:20:14.381Z"
   },
   {
    "duration": 168,
    "start_time": "2022-03-30T20:20:15.021Z"
   },
   {
    "duration": 10,
    "start_time": "2022-03-30T20:26:14.533Z"
   },
   {
    "duration": 890,
    "start_time": "2022-03-30T20:41:50.684Z"
   },
   {
    "duration": 17,
    "start_time": "2022-03-30T20:41:51.576Z"
   },
   {
    "duration": 83,
    "start_time": "2022-03-30T20:41:51.594Z"
   },
   {
    "duration": 4,
    "start_time": "2022-03-30T20:41:51.679Z"
   },
   {
    "duration": 6,
    "start_time": "2022-03-30T20:41:51.684Z"
   },
   {
    "duration": 9,
    "start_time": "2022-03-30T20:41:51.692Z"
   },
   {
    "duration": 7,
    "start_time": "2022-03-30T20:41:51.703Z"
   },
   {
    "duration": 24,
    "start_time": "2022-03-30T20:41:51.712Z"
   },
   {
    "duration": 29,
    "start_time": "2022-03-30T20:41:51.738Z"
   },
   {
    "duration": 28,
    "start_time": "2022-03-30T20:41:51.770Z"
   },
   {
    "duration": 33,
    "start_time": "2022-03-30T20:41:51.801Z"
   },
   {
    "duration": 30,
    "start_time": "2022-03-30T20:41:51.836Z"
   },
   {
    "duration": 7,
    "start_time": "2022-03-30T20:41:51.868Z"
   },
   {
    "duration": 57,
    "start_time": "2022-03-30T20:41:51.878Z"
   },
   {
    "duration": 7,
    "start_time": "2022-03-30T20:41:51.937Z"
   },
   {
    "duration": 8,
    "start_time": "2022-03-30T20:41:51.946Z"
   },
   {
    "duration": 9,
    "start_time": "2022-03-30T20:41:51.956Z"
   },
   {
    "duration": 9,
    "start_time": "2022-03-30T20:41:51.967Z"
   },
   {
    "duration": 29,
    "start_time": "2022-03-30T20:41:51.977Z"
   },
   {
    "duration": 16,
    "start_time": "2022-03-30T20:41:52.031Z"
   },
   {
    "duration": 10,
    "start_time": "2022-03-30T20:41:52.049Z"
   },
   {
    "duration": 9,
    "start_time": "2022-03-30T20:41:52.061Z"
   },
   {
    "duration": 6,
    "start_time": "2022-03-30T20:41:52.072Z"
   },
   {
    "duration": 11,
    "start_time": "2022-03-30T20:41:52.080Z"
   },
   {
    "duration": 11,
    "start_time": "2022-03-30T20:41:52.093Z"
   },
   {
    "duration": 27,
    "start_time": "2022-03-30T20:41:52.106Z"
   },
   {
    "duration": 11,
    "start_time": "2022-03-30T20:41:52.135Z"
   },
   {
    "duration": 28,
    "start_time": "2022-03-30T20:41:52.147Z"
   },
   {
    "duration": 11,
    "start_time": "2022-03-30T20:41:52.177Z"
   },
   {
    "duration": 47,
    "start_time": "2022-03-30T20:41:52.190Z"
   },
   {
    "duration": 11,
    "start_time": "2022-03-30T20:41:52.239Z"
   },
   {
    "duration": 12,
    "start_time": "2022-03-30T20:41:52.252Z"
   },
   {
    "duration": 10,
    "start_time": "2022-03-30T20:41:52.266Z"
   },
   {
    "duration": 9,
    "start_time": "2022-03-30T20:41:52.278Z"
   },
   {
    "duration": 43,
    "start_time": "2022-03-30T20:41:52.289Z"
   },
   {
    "duration": 10,
    "start_time": "2022-03-30T20:41:52.334Z"
   },
   {
    "duration": 219,
    "start_time": "2022-03-30T20:41:52.346Z"
   },
   {
    "duration": 234,
    "start_time": "2022-03-30T20:41:52.567Z"
   },
   {
    "duration": 157,
    "start_time": "2022-03-30T20:41:52.803Z"
   },
   {
    "duration": 197,
    "start_time": "2022-03-30T20:41:52.962Z"
   },
   {
    "duration": 245,
    "start_time": "2022-03-30T20:41:53.164Z"
   },
   {
    "duration": 6,
    "start_time": "2022-03-30T20:41:53.411Z"
   },
   {
    "duration": 12,
    "start_time": "2022-03-30T20:41:53.419Z"
   },
   {
    "duration": 6,
    "start_time": "2022-03-30T20:41:53.433Z"
   },
   {
    "duration": 41,
    "start_time": "2022-03-30T20:41:53.441Z"
   },
   {
    "duration": 27,
    "start_time": "2022-03-30T20:41:53.484Z"
   },
   {
    "duration": 170,
    "start_time": "2022-03-30T20:41:53.513Z"
   },
   {
    "duration": 23,
    "start_time": "2022-03-30T20:41:53.684Z"
   },
   {
    "duration": 261,
    "start_time": "2022-03-30T20:41:53.733Z"
   },
   {
    "duration": 21,
    "start_time": "2022-03-30T20:41:54.033Z"
   },
   {
    "duration": 223,
    "start_time": "2022-03-30T20:41:54.056Z"
   },
   {
    "duration": 193,
    "start_time": "2022-03-30T20:41:54.280Z"
   },
   {
    "duration": 9,
    "start_time": "2022-03-30T20:41:54.475Z"
   },
   {
    "duration": 57,
    "start_time": "2022-03-30T20:41:54.486Z"
   },
   {
    "duration": 21,
    "start_time": "2022-03-30T20:41:54.545Z"
   },
   {
    "duration": 192,
    "start_time": "2022-03-30T20:41:54.568Z"
   },
   {
    "duration": 8,
    "start_time": "2022-03-30T20:41:54.762Z"
   },
   {
    "duration": 28,
    "start_time": "2022-03-30T20:41:54.771Z"
   },
   {
    "duration": 92,
    "start_time": "2022-03-30T20:41:54.801Z"
   },
   {
    "duration": 167,
    "start_time": "2022-03-30T20:41:54.895Z"
   },
   {
    "duration": 155,
    "start_time": "2022-03-30T20:41:55.063Z"
   },
   {
    "duration": 157,
    "start_time": "2022-03-30T20:41:55.220Z"
   },
   {
    "duration": 146,
    "start_time": "2022-03-30T20:41:55.379Z"
   },
   {
    "duration": 7,
    "start_time": "2022-03-30T20:41:55.531Z"
   },
   {
    "duration": 10,
    "start_time": "2022-03-30T20:41:55.539Z"
   },
   {
    "duration": 29,
    "start_time": "2022-03-30T20:41:55.551Z"
   },
   {
    "duration": 22,
    "start_time": "2022-03-30T20:41:55.582Z"
   },
   {
    "duration": 260,
    "start_time": "2022-03-30T20:41:55.606Z"
   },
   {
    "duration": 21,
    "start_time": "2022-03-30T20:41:55.868Z"
   },
   {
    "duration": 177,
    "start_time": "2022-03-30T20:41:55.891Z"
   },
   {
    "duration": 21,
    "start_time": "2022-03-30T20:41:56.070Z"
   },
   {
    "duration": 178,
    "start_time": "2022-03-30T20:41:56.093Z"
   },
   {
    "duration": 175,
    "start_time": "2022-03-30T20:43:04.367Z"
   },
   {
    "duration": 912,
    "start_time": "2022-03-30T20:43:33.219Z"
   },
   {
    "duration": 16,
    "start_time": "2022-03-30T20:43:34.133Z"
   },
   {
    "duration": 89,
    "start_time": "2022-03-30T20:43:34.151Z"
   },
   {
    "duration": 4,
    "start_time": "2022-03-30T20:43:34.242Z"
   },
   {
    "duration": 9,
    "start_time": "2022-03-30T20:43:34.248Z"
   },
   {
    "duration": 8,
    "start_time": "2022-03-30T20:43:34.259Z"
   },
   {
    "duration": 7,
    "start_time": "2022-03-30T20:43:34.269Z"
   },
   {
    "duration": 12,
    "start_time": "2022-03-30T20:43:34.278Z"
   },
   {
    "duration": 54,
    "start_time": "2022-03-30T20:43:34.292Z"
   },
   {
    "duration": 27,
    "start_time": "2022-03-30T20:43:34.348Z"
   },
   {
    "duration": 6,
    "start_time": "2022-03-30T20:43:34.377Z"
   },
   {
    "duration": 49,
    "start_time": "2022-03-30T20:43:34.385Z"
   },
   {
    "duration": 7,
    "start_time": "2022-03-30T20:43:34.435Z"
   },
   {
    "duration": 30,
    "start_time": "2022-03-30T20:43:34.445Z"
   },
   {
    "duration": 7,
    "start_time": "2022-03-30T20:43:34.476Z"
   },
   {
    "duration": 10,
    "start_time": "2022-03-30T20:43:34.485Z"
   },
   {
    "duration": 37,
    "start_time": "2022-03-30T20:43:34.497Z"
   },
   {
    "duration": 6,
    "start_time": "2022-03-30T20:43:34.536Z"
   },
   {
    "duration": 27,
    "start_time": "2022-03-30T20:43:34.544Z"
   },
   {
    "duration": 17,
    "start_time": "2022-03-30T20:43:34.573Z"
   },
   {
    "duration": 4,
    "start_time": "2022-03-30T20:43:34.592Z"
   },
   {
    "duration": 37,
    "start_time": "2022-03-30T20:43:34.597Z"
   },
   {
    "duration": 6,
    "start_time": "2022-03-30T20:43:34.636Z"
   },
   {
    "duration": 10,
    "start_time": "2022-03-30T20:43:34.643Z"
   },
   {
    "duration": 15,
    "start_time": "2022-03-30T20:43:34.655Z"
   },
   {
    "duration": 4,
    "start_time": "2022-03-30T20:43:34.672Z"
   },
   {
    "duration": 9,
    "start_time": "2022-03-30T20:43:34.678Z"
   },
   {
    "duration": 47,
    "start_time": "2022-03-30T20:43:34.689Z"
   },
   {
    "duration": 11,
    "start_time": "2022-03-30T20:43:34.738Z"
   },
   {
    "duration": 22,
    "start_time": "2022-03-30T20:43:34.751Z"
   },
   {
    "duration": 11,
    "start_time": "2022-03-30T20:43:34.774Z"
   },
   {
    "duration": 11,
    "start_time": "2022-03-30T20:43:34.787Z"
   },
   {
    "duration": 39,
    "start_time": "2022-03-30T20:43:34.800Z"
   },
   {
    "duration": 12,
    "start_time": "2022-03-30T20:43:34.840Z"
   },
   {
    "duration": 9,
    "start_time": "2022-03-30T20:43:34.854Z"
   },
   {
    "duration": 9,
    "start_time": "2022-03-30T20:43:34.865Z"
   },
   {
    "duration": 226,
    "start_time": "2022-03-30T20:43:34.876Z"
   },
   {
    "duration": 197,
    "start_time": "2022-03-30T20:43:35.104Z"
   },
   {
    "duration": 161,
    "start_time": "2022-03-30T20:43:35.303Z"
   },
   {
    "duration": 210,
    "start_time": "2022-03-30T20:43:35.466Z"
   },
   {
    "duration": 257,
    "start_time": "2022-03-30T20:43:35.680Z"
   },
   {
    "duration": 7,
    "start_time": "2022-03-30T20:43:35.939Z"
   },
   {
    "duration": 7,
    "start_time": "2022-03-30T20:43:35.948Z"
   },
   {
    "duration": 7,
    "start_time": "2022-03-30T20:43:35.957Z"
   },
   {
    "duration": 33,
    "start_time": "2022-03-30T20:43:35.966Z"
   },
   {
    "duration": 51,
    "start_time": "2022-03-30T20:43:36.001Z"
   },
   {
    "duration": 177,
    "start_time": "2022-03-30T20:43:36.054Z"
   },
   {
    "duration": 24,
    "start_time": "2022-03-30T20:43:36.233Z"
   },
   {
    "duration": 175,
    "start_time": "2022-03-30T20:43:36.259Z"
   },
   {
    "duration": 23,
    "start_time": "2022-03-30T20:43:36.436Z"
   },
   {
    "duration": 192,
    "start_time": "2022-03-30T20:43:36.461Z"
   },
   {
    "duration": 118,
    "start_time": "2022-03-30T20:43:36.655Z"
   },
   {
    "duration": 10,
    "start_time": "2022-03-30T20:43:36.774Z"
   },
   {
    "duration": 59,
    "start_time": "2022-03-30T20:43:36.785Z"
   },
   {
    "duration": 22,
    "start_time": "2022-03-30T20:43:36.846Z"
   },
   {
    "duration": 193,
    "start_time": "2022-03-30T20:43:36.870Z"
   },
   {
    "duration": 9,
    "start_time": "2022-03-30T20:43:37.065Z"
   },
   {
    "duration": 25,
    "start_time": "2022-03-30T20:43:37.076Z"
   },
   {
    "duration": 93,
    "start_time": "2022-03-30T20:43:37.103Z"
   },
   {
    "duration": 174,
    "start_time": "2022-03-30T20:43:37.198Z"
   },
   {
    "duration": 154,
    "start_time": "2022-03-30T20:43:37.373Z"
   },
   {
    "duration": 148,
    "start_time": "2022-03-30T20:43:37.532Z"
   },
   {
    "duration": 157,
    "start_time": "2022-03-30T20:43:37.682Z"
   },
   {
    "duration": 5,
    "start_time": "2022-03-30T20:43:37.841Z"
   },
   {
    "duration": 10,
    "start_time": "2022-03-30T20:43:37.848Z"
   },
   {
    "duration": 26,
    "start_time": "2022-03-30T20:43:37.860Z"
   },
   {
    "duration": 45,
    "start_time": "2022-03-30T20:43:37.888Z"
   },
   {
    "duration": 259,
    "start_time": "2022-03-30T20:43:37.935Z"
   },
   {
    "duration": 22,
    "start_time": "2022-03-30T20:43:38.195Z"
   },
   {
    "duration": 172,
    "start_time": "2022-03-30T20:43:38.232Z"
   },
   {
    "duration": 32,
    "start_time": "2022-03-30T20:43:38.406Z"
   },
   {
    "duration": 173,
    "start_time": "2022-03-30T20:43:38.440Z"
   },
   {
    "duration": 968,
    "start_time": "2022-03-31T13:20:10.496Z"
   },
   {
    "duration": 26,
    "start_time": "2022-03-31T13:20:11.467Z"
   },
   {
    "duration": 112,
    "start_time": "2022-03-31T13:20:11.495Z"
   },
   {
    "duration": 5,
    "start_time": "2022-03-31T13:20:11.610Z"
   },
   {
    "duration": 44,
    "start_time": "2022-03-31T13:20:11.617Z"
   },
   {
    "duration": 52,
    "start_time": "2022-03-31T13:20:11.663Z"
   },
   {
    "duration": 34,
    "start_time": "2022-03-31T13:20:11.718Z"
   },
   {
    "duration": 50,
    "start_time": "2022-03-31T13:20:11.754Z"
   },
   {
    "duration": 54,
    "start_time": "2022-03-31T13:20:11.806Z"
   },
   {
    "duration": 41,
    "start_time": "2022-03-31T13:20:11.864Z"
   },
   {
    "duration": 10,
    "start_time": "2022-03-31T13:20:11.908Z"
   },
   {
    "duration": 61,
    "start_time": "2022-03-31T13:20:11.920Z"
   },
   {
    "duration": 12,
    "start_time": "2022-03-31T13:20:11.984Z"
   },
   {
    "duration": 58,
    "start_time": "2022-03-31T13:20:11.998Z"
   },
   {
    "duration": 8,
    "start_time": "2022-03-31T13:20:12.059Z"
   },
   {
    "duration": 46,
    "start_time": "2022-03-31T13:20:12.070Z"
   },
   {
    "duration": 35,
    "start_time": "2022-03-31T13:20:12.118Z"
   },
   {
    "duration": 43,
    "start_time": "2022-03-31T13:20:12.156Z"
   },
   {
    "duration": 58,
    "start_time": "2022-03-31T13:20:12.201Z"
   },
   {
    "duration": 34,
    "start_time": "2022-03-31T13:20:12.262Z"
   },
   {
    "duration": 20,
    "start_time": "2022-03-31T13:20:12.298Z"
   },
   {
    "duration": 32,
    "start_time": "2022-03-31T13:20:12.320Z"
   },
   {
    "duration": 37,
    "start_time": "2022-03-31T13:20:12.354Z"
   },
   {
    "duration": 32,
    "start_time": "2022-03-31T13:20:12.393Z"
   },
   {
    "duration": 27,
    "start_time": "2022-03-31T13:20:12.428Z"
   },
   {
    "duration": 21,
    "start_time": "2022-03-31T13:20:12.457Z"
   },
   {
    "duration": 28,
    "start_time": "2022-03-31T13:20:12.480Z"
   },
   {
    "duration": 54,
    "start_time": "2022-03-31T13:20:12.513Z"
   },
   {
    "duration": 22,
    "start_time": "2022-03-31T13:20:12.569Z"
   },
   {
    "duration": 46,
    "start_time": "2022-03-31T13:20:12.593Z"
   },
   {
    "duration": 26,
    "start_time": "2022-03-31T13:20:12.641Z"
   },
   {
    "duration": 40,
    "start_time": "2022-03-31T13:20:12.669Z"
   },
   {
    "duration": 29,
    "start_time": "2022-03-31T13:20:12.712Z"
   },
   {
    "duration": 14,
    "start_time": "2022-03-31T13:20:12.743Z"
   },
   {
    "duration": 22,
    "start_time": "2022-03-31T13:20:12.759Z"
   },
   {
    "duration": 33,
    "start_time": "2022-03-31T13:20:12.784Z"
   },
   {
    "duration": 288,
    "start_time": "2022-03-31T13:20:12.820Z"
   },
   {
    "duration": 287,
    "start_time": "2022-03-31T13:20:13.110Z"
   },
   {
    "duration": 227,
    "start_time": "2022-03-31T13:20:13.400Z"
   },
   {
    "duration": 260,
    "start_time": "2022-03-31T13:20:13.630Z"
   },
   {
    "duration": 339,
    "start_time": "2022-03-31T13:20:13.892Z"
   },
   {
    "duration": 8,
    "start_time": "2022-03-31T13:20:14.234Z"
   },
   {
    "duration": 9,
    "start_time": "2022-03-31T13:20:14.245Z"
   },
   {
    "duration": 10,
    "start_time": "2022-03-31T13:20:14.281Z"
   },
   {
    "duration": 45,
    "start_time": "2022-03-31T13:20:14.293Z"
   },
   {
    "duration": 52,
    "start_time": "2022-03-31T13:20:14.340Z"
   },
   {
    "duration": 236,
    "start_time": "2022-03-31T13:20:14.394Z"
   },
   {
    "duration": 28,
    "start_time": "2022-03-31T13:20:14.632Z"
   },
   {
    "duration": 263,
    "start_time": "2022-03-31T13:20:14.663Z"
   },
   {
    "duration": 28,
    "start_time": "2022-03-31T13:20:14.927Z"
   },
   {
    "duration": 265,
    "start_time": "2022-03-31T13:20:14.957Z"
   },
   {
    "duration": 159,
    "start_time": "2022-03-31T13:20:15.225Z"
   },
   {
    "duration": 13,
    "start_time": "2022-03-31T13:20:15.390Z"
   },
   {
    "duration": 59,
    "start_time": "2022-03-31T13:20:15.406Z"
   },
   {
    "duration": 44,
    "start_time": "2022-03-31T13:20:15.467Z"
   },
   {
    "duration": 264,
    "start_time": "2022-03-31T13:20:15.514Z"
   },
   {
    "duration": 11,
    "start_time": "2022-03-31T13:20:15.781Z"
   },
   {
    "duration": 52,
    "start_time": "2022-03-31T13:20:15.795Z"
   },
   {
    "duration": 106,
    "start_time": "2022-03-31T13:20:15.849Z"
   },
   {
    "duration": 235,
    "start_time": "2022-03-31T13:20:15.957Z"
   },
   {
    "duration": 211,
    "start_time": "2022-03-31T13:20:16.195Z"
   },
   {
    "duration": 209,
    "start_time": "2022-03-31T13:20:16.409Z"
   },
   {
    "duration": 208,
    "start_time": "2022-03-31T13:20:16.620Z"
   },
   {
    "duration": 7,
    "start_time": "2022-03-31T13:20:16.831Z"
   },
   {
    "duration": 8,
    "start_time": "2022-03-31T13:20:16.840Z"
   },
   {
    "duration": 61,
    "start_time": "2022-03-31T13:20:16.851Z"
   },
   {
    "duration": 26,
    "start_time": "2022-03-31T13:20:16.914Z"
   },
   {
    "duration": 301,
    "start_time": "2022-03-31T13:20:16.942Z"
   },
   {
    "duration": 38,
    "start_time": "2022-03-31T13:20:17.245Z"
   },
   {
    "duration": 228,
    "start_time": "2022-03-31T13:20:17.293Z"
   },
   {
    "duration": 32,
    "start_time": "2022-03-31T13:20:17.524Z"
   },
   {
    "duration": 242,
    "start_time": "2022-03-31T13:20:17.558Z"
   },
   {
    "duration": 1012,
    "start_time": "2022-03-31T13:23:47.106Z"
   },
   {
    "duration": 20,
    "start_time": "2022-03-31T13:23:48.120Z"
   },
   {
    "duration": 101,
    "start_time": "2022-03-31T13:23:48.143Z"
   },
   {
    "duration": 5,
    "start_time": "2022-03-31T13:23:48.247Z"
   },
   {
    "duration": 25,
    "start_time": "2022-03-31T13:23:48.254Z"
   },
   {
    "duration": 17,
    "start_time": "2022-03-31T13:23:48.281Z"
   },
   {
    "duration": 19,
    "start_time": "2022-03-31T13:23:48.300Z"
   },
   {
    "duration": 27,
    "start_time": "2022-03-31T13:23:48.321Z"
   },
   {
    "duration": 39,
    "start_time": "2022-03-31T13:23:48.351Z"
   },
   {
    "duration": 39,
    "start_time": "2022-03-31T13:23:48.393Z"
   },
   {
    "duration": 9,
    "start_time": "2022-03-31T13:23:48.434Z"
   },
   {
    "duration": 62,
    "start_time": "2022-03-31T13:23:48.445Z"
   },
   {
    "duration": 9,
    "start_time": "2022-03-31T13:23:48.509Z"
   },
   {
    "duration": 53,
    "start_time": "2022-03-31T13:23:48.520Z"
   },
   {
    "duration": 11,
    "start_time": "2022-03-31T13:23:48.575Z"
   },
   {
    "duration": 16,
    "start_time": "2022-03-31T13:23:48.588Z"
   },
   {
    "duration": 25,
    "start_time": "2022-03-31T13:23:48.607Z"
   },
   {
    "duration": 17,
    "start_time": "2022-03-31T13:23:48.634Z"
   },
   {
    "duration": 49,
    "start_time": "2022-03-31T13:23:48.653Z"
   },
   {
    "duration": 19,
    "start_time": "2022-03-31T13:23:48.704Z"
   },
   {
    "duration": 10,
    "start_time": "2022-03-31T13:23:48.725Z"
   },
   {
    "duration": 25,
    "start_time": "2022-03-31T13:23:48.736Z"
   },
   {
    "duration": 28,
    "start_time": "2022-03-31T13:23:48.763Z"
   },
   {
    "duration": 20,
    "start_time": "2022-03-31T13:23:48.792Z"
   },
   {
    "duration": 34,
    "start_time": "2022-03-31T13:23:48.814Z"
   },
   {
    "duration": 22,
    "start_time": "2022-03-31T13:23:48.850Z"
   },
   {
    "duration": 24,
    "start_time": "2022-03-31T13:23:48.874Z"
   },
   {
    "duration": 56,
    "start_time": "2022-03-31T13:23:48.903Z"
   },
   {
    "duration": 9,
    "start_time": "2022-03-31T13:23:48.961Z"
   },
   {
    "duration": 35,
    "start_time": "2022-03-31T13:23:48.972Z"
   },
   {
    "duration": 15,
    "start_time": "2022-03-31T13:23:49.009Z"
   },
   {
    "duration": 25,
    "start_time": "2022-03-31T13:23:49.026Z"
   },
   {
    "duration": 31,
    "start_time": "2022-03-31T13:23:49.053Z"
   },
   {
    "duration": 17,
    "start_time": "2022-03-31T13:23:49.087Z"
   },
   {
    "duration": 24,
    "start_time": "2022-03-31T13:23:49.106Z"
   },
   {
    "duration": 11,
    "start_time": "2022-03-31T13:23:49.132Z"
   },
   {
    "duration": 265,
    "start_time": "2022-03-31T13:23:49.144Z"
   },
   {
    "duration": 252,
    "start_time": "2022-03-31T13:23:49.411Z"
   },
   {
    "duration": 209,
    "start_time": "2022-03-31T13:23:49.665Z"
   },
   {
    "duration": 251,
    "start_time": "2022-03-31T13:23:49.881Z"
   },
   {
    "duration": 324,
    "start_time": "2022-03-31T13:23:50.135Z"
   },
   {
    "duration": 21,
    "start_time": "2022-03-31T13:23:50.462Z"
   },
   {
    "duration": 8,
    "start_time": "2022-03-31T13:23:50.486Z"
   },
   {
    "duration": 13,
    "start_time": "2022-03-31T13:23:50.496Z"
   },
   {
    "duration": 44,
    "start_time": "2022-03-31T13:23:50.511Z"
   },
   {
    "duration": 28,
    "start_time": "2022-03-31T13:23:50.581Z"
   },
   {
    "duration": 228,
    "start_time": "2022-03-31T13:23:50.611Z"
   },
   {
    "duration": 28,
    "start_time": "2022-03-31T13:23:50.841Z"
   },
   {
    "duration": 206,
    "start_time": "2022-03-31T13:23:50.882Z"
   },
   {
    "duration": 27,
    "start_time": "2022-03-31T13:23:51.090Z"
   },
   {
    "duration": 246,
    "start_time": "2022-03-31T13:23:51.119Z"
   },
   {
    "duration": 158,
    "start_time": "2022-03-31T13:23:51.368Z"
   },
   {
    "duration": 12,
    "start_time": "2022-03-31T13:23:51.529Z"
   },
   {
    "duration": 69,
    "start_time": "2022-03-31T13:23:51.543Z"
   },
   {
    "duration": 28,
    "start_time": "2022-03-31T13:23:51.615Z"
   },
   {
    "duration": 248,
    "start_time": "2022-03-31T13:23:51.645Z"
   },
   {
    "duration": 11,
    "start_time": "2022-03-31T13:23:51.895Z"
   },
   {
    "duration": 50,
    "start_time": "2022-03-31T13:23:51.908Z"
   },
   {
    "duration": 100,
    "start_time": "2022-03-31T13:23:51.960Z"
   },
   {
    "duration": 237,
    "start_time": "2022-03-31T13:23:52.062Z"
   },
   {
    "duration": 215,
    "start_time": "2022-03-31T13:23:52.301Z"
   },
   {
    "duration": 207,
    "start_time": "2022-03-31T13:23:52.518Z"
   },
   {
    "duration": 197,
    "start_time": "2022-03-31T13:23:52.727Z"
   },
   {
    "duration": 7,
    "start_time": "2022-03-31T13:23:52.926Z"
   },
   {
    "duration": 11,
    "start_time": "2022-03-31T13:23:52.935Z"
   },
   {
    "duration": 63,
    "start_time": "2022-03-31T13:23:52.948Z"
   },
   {
    "duration": 27,
    "start_time": "2022-03-31T13:23:53.013Z"
   },
   {
    "duration": 299,
    "start_time": "2022-03-31T13:23:53.042Z"
   },
   {
    "duration": 40,
    "start_time": "2022-03-31T13:23:53.343Z"
   },
   {
    "duration": 213,
    "start_time": "2022-03-31T13:23:53.385Z"
   },
   {
    "duration": 28,
    "start_time": "2022-03-31T13:23:53.601Z"
   },
   {
    "duration": 224,
    "start_time": "2022-03-31T13:23:53.631Z"
   }
  ],
  "kernelspec": {
   "display_name": "Python 3 (ipykernel)",
   "language": "python",
   "name": "python3"
  },
  "language_info": {
   "codemirror_mode": {
    "name": "ipython",
    "version": 3
   },
   "file_extension": ".py",
   "mimetype": "text/x-python",
   "name": "python",
   "nbconvert_exporter": "python",
   "pygments_lexer": "ipython3",
   "version": "3.9.10"
  },
  "toc": {
   "base_numbering": 1,
   "nav_menu": {
    "height": "661.997px",
    "width": "636.198px"
   },
   "number_sections": true,
   "sideBar": true,
   "skip_h1_title": true,
   "title_cell": "Содержание",
   "title_sidebar": "Contents",
   "toc_cell": true,
   "toc_position": {
    "height": "calc(100% - 180px)",
    "left": "10px",
    "top": "150px",
    "width": "409.08px"
   },
   "toc_section_display": true,
   "toc_window_display": true
  }
 },
 "nbformat": 4,
 "nbformat_minor": 4
}
