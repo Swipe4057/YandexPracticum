{
 "cells": [
  {
   "cell_type": "markdown",
   "id": "6de088cc",
   "metadata": {},
   "source": [
    "# Исследование игровых платформ"
   ]
  },
  {
   "cell_type": "markdown",
   "id": "89b0e479",
   "metadata": {},
   "source": [
    "Нужно выявить определяющие успешность игры закономерности. Это позволит сделать ставку на потенциально популярный продукт и спланировать рекламные кампании."
   ]
  },
  {
   "cell_type": "markdown",
   "id": "e57e783b",
   "metadata": {},
   "source": [
    "## Изучение данных и предобработка"
   ]
  },
  {
   "cell_type": "code",
   "execution_count": 1,
   "id": "bd8bc173",
   "metadata": {},
   "outputs": [],
   "source": [
    "import pandas as pd\n",
    "import numpy as np\n",
    "import matplotlib.pyplot as plt\n",
    "from scipy import stats as st"
   ]
  },
  {
   "cell_type": "code",
   "execution_count": 2,
   "id": "8e537a1e",
   "metadata": {},
   "outputs": [],
   "source": [
    "df = pd.read_csv('/datasets/games.csv')"
   ]
  },
  {
   "cell_type": "code",
   "execution_count": 3,
   "id": "f9e8f7dc",
   "metadata": {},
   "outputs": [
    {
     "data": {
      "text/html": [
       "<div>\n",
       "<style scoped>\n",
       "    .dataframe tbody tr th:only-of-type {\n",
       "        vertical-align: middle;\n",
       "    }\n",
       "\n",
       "    .dataframe tbody tr th {\n",
       "        vertical-align: top;\n",
       "    }\n",
       "\n",
       "    .dataframe thead th {\n",
       "        text-align: right;\n",
       "    }\n",
       "</style>\n",
       "<table border=\"1\" class=\"dataframe\">\n",
       "  <thead>\n",
       "    <tr style=\"text-align: right;\">\n",
       "      <th></th>\n",
       "      <th>Name</th>\n",
       "      <th>Platform</th>\n",
       "      <th>Year_of_Release</th>\n",
       "      <th>Genre</th>\n",
       "      <th>NA_sales</th>\n",
       "      <th>EU_sales</th>\n",
       "      <th>JP_sales</th>\n",
       "      <th>Other_sales</th>\n",
       "      <th>Critic_Score</th>\n",
       "      <th>User_Score</th>\n",
       "      <th>Rating</th>\n",
       "    </tr>\n",
       "  </thead>\n",
       "  <tbody>\n",
       "    <tr>\n",
       "      <th>0</th>\n",
       "      <td>Wii Sports</td>\n",
       "      <td>Wii</td>\n",
       "      <td>2006.0</td>\n",
       "      <td>Sports</td>\n",
       "      <td>41.36</td>\n",
       "      <td>28.96</td>\n",
       "      <td>3.77</td>\n",
       "      <td>8.45</td>\n",
       "      <td>76.0</td>\n",
       "      <td>8</td>\n",
       "      <td>E</td>\n",
       "    </tr>\n",
       "    <tr>\n",
       "      <th>1</th>\n",
       "      <td>Super Mario Bros.</td>\n",
       "      <td>NES</td>\n",
       "      <td>1985.0</td>\n",
       "      <td>Platform</td>\n",
       "      <td>29.08</td>\n",
       "      <td>3.58</td>\n",
       "      <td>6.81</td>\n",
       "      <td>0.77</td>\n",
       "      <td>NaN</td>\n",
       "      <td>NaN</td>\n",
       "      <td>NaN</td>\n",
       "    </tr>\n",
       "    <tr>\n",
       "      <th>2</th>\n",
       "      <td>Mario Kart Wii</td>\n",
       "      <td>Wii</td>\n",
       "      <td>2008.0</td>\n",
       "      <td>Racing</td>\n",
       "      <td>15.68</td>\n",
       "      <td>12.76</td>\n",
       "      <td>3.79</td>\n",
       "      <td>3.29</td>\n",
       "      <td>82.0</td>\n",
       "      <td>8.3</td>\n",
       "      <td>E</td>\n",
       "    </tr>\n",
       "    <tr>\n",
       "      <th>3</th>\n",
       "      <td>Wii Sports Resort</td>\n",
       "      <td>Wii</td>\n",
       "      <td>2009.0</td>\n",
       "      <td>Sports</td>\n",
       "      <td>15.61</td>\n",
       "      <td>10.93</td>\n",
       "      <td>3.28</td>\n",
       "      <td>2.95</td>\n",
       "      <td>80.0</td>\n",
       "      <td>8</td>\n",
       "      <td>E</td>\n",
       "    </tr>\n",
       "    <tr>\n",
       "      <th>4</th>\n",
       "      <td>Pokemon Red/Pokemon Blue</td>\n",
       "      <td>GB</td>\n",
       "      <td>1996.0</td>\n",
       "      <td>Role-Playing</td>\n",
       "      <td>11.27</td>\n",
       "      <td>8.89</td>\n",
       "      <td>10.22</td>\n",
       "      <td>1.00</td>\n",
       "      <td>NaN</td>\n",
       "      <td>NaN</td>\n",
       "      <td>NaN</td>\n",
       "    </tr>\n",
       "  </tbody>\n",
       "</table>\n",
       "</div>"
      ],
      "text/plain": [
       "                       Name Platform  Year_of_Release         Genre  NA_sales  \\\n",
       "0                Wii Sports      Wii           2006.0        Sports     41.36   \n",
       "1         Super Mario Bros.      NES           1985.0      Platform     29.08   \n",
       "2            Mario Kart Wii      Wii           2008.0        Racing     15.68   \n",
       "3         Wii Sports Resort      Wii           2009.0        Sports     15.61   \n",
       "4  Pokemon Red/Pokemon Blue       GB           1996.0  Role-Playing     11.27   \n",
       "\n",
       "   EU_sales  JP_sales  Other_sales  Critic_Score User_Score Rating  \n",
       "0     28.96      3.77         8.45          76.0          8      E  \n",
       "1      3.58      6.81         0.77           NaN        NaN    NaN  \n",
       "2     12.76      3.79         3.29          82.0        8.3      E  \n",
       "3     10.93      3.28         2.95          80.0          8      E  \n",
       "4      8.89     10.22         1.00           NaN        NaN    NaN  "
      ]
     },
     "execution_count": 3,
     "metadata": {},
     "output_type": "execute_result"
    }
   ],
   "source": [
    "df.head()"
   ]
  },
  {
   "cell_type": "code",
   "execution_count": 4,
   "id": "1245e062",
   "metadata": {},
   "outputs": [
    {
     "name": "stdout",
     "output_type": "stream",
     "text": [
      "<class 'pandas.core.frame.DataFrame'>\n",
      "RangeIndex: 16715 entries, 0 to 16714\n",
      "Data columns (total 11 columns):\n",
      " #   Column           Non-Null Count  Dtype  \n",
      "---  ------           --------------  -----  \n",
      " 0   Name             16713 non-null  object \n",
      " 1   Platform         16715 non-null  object \n",
      " 2   Year_of_Release  16446 non-null  float64\n",
      " 3   Genre            16713 non-null  object \n",
      " 4   NA_sales         16715 non-null  float64\n",
      " 5   EU_sales         16715 non-null  float64\n",
      " 6   JP_sales         16715 non-null  float64\n",
      " 7   Other_sales      16715 non-null  float64\n",
      " 8   Critic_Score     8137 non-null   float64\n",
      " 9   User_Score       10014 non-null  object \n",
      " 10  Rating           9949 non-null   object \n",
      "dtypes: float64(6), object(5)\n",
      "memory usage: 1.4+ MB\n"
     ]
    }
   ],
   "source": [
    "df.info()"
   ]
  },
  {
   "cell_type": "markdown",
   "id": "3af3a30d",
   "metadata": {},
   "source": [
    "Приведем названия столбцов к нижнему регистру:"
   ]
  },
  {
   "cell_type": "code",
   "execution_count": 5,
   "id": "da841a06",
   "metadata": {},
   "outputs": [],
   "source": [
    "df.columns = df.columns.str.lower()"
   ]
  },
  {
   "cell_type": "markdown",
   "id": "3899416f",
   "metadata": {},
   "source": [
    "Пропуски в столбце 'year_of_release' заполним значением 1800, чтобы понимать в будущем что такие значения - это пропуски, и приведем к формату даты:"
   ]
  },
  {
   "cell_type": "code",
   "execution_count": 6,
   "id": "eef8eabc",
   "metadata": {},
   "outputs": [
    {
     "data": {
      "text/html": [
       "<div>\n",
       "<style scoped>\n",
       "    .dataframe tbody tr th:only-of-type {\n",
       "        vertical-align: middle;\n",
       "    }\n",
       "\n",
       "    .dataframe tbody tr th {\n",
       "        vertical-align: top;\n",
       "    }\n",
       "\n",
       "    .dataframe thead th {\n",
       "        text-align: right;\n",
       "    }\n",
       "</style>\n",
       "<table border=\"1\" class=\"dataframe\">\n",
       "  <thead>\n",
       "    <tr style=\"text-align: right;\">\n",
       "      <th></th>\n",
       "      <th>name</th>\n",
       "      <th>platform</th>\n",
       "      <th>year_of_release</th>\n",
       "      <th>genre</th>\n",
       "      <th>na_sales</th>\n",
       "      <th>eu_sales</th>\n",
       "      <th>jp_sales</th>\n",
       "      <th>other_sales</th>\n",
       "      <th>critic_score</th>\n",
       "      <th>user_score</th>\n",
       "      <th>rating</th>\n",
       "    </tr>\n",
       "  </thead>\n",
       "  <tbody>\n",
       "    <tr>\n",
       "      <th>183</th>\n",
       "      <td>Madden NFL 2004</td>\n",
       "      <td>PS2</td>\n",
       "      <td>NaN</td>\n",
       "      <td>Sports</td>\n",
       "      <td>4.26</td>\n",
       "      <td>0.26</td>\n",
       "      <td>0.01</td>\n",
       "      <td>0.71</td>\n",
       "      <td>94.0</td>\n",
       "      <td>8.5</td>\n",
       "      <td>E</td>\n",
       "    </tr>\n",
       "    <tr>\n",
       "      <th>377</th>\n",
       "      <td>FIFA Soccer 2004</td>\n",
       "      <td>PS2</td>\n",
       "      <td>NaN</td>\n",
       "      <td>Sports</td>\n",
       "      <td>0.59</td>\n",
       "      <td>2.36</td>\n",
       "      <td>0.04</td>\n",
       "      <td>0.51</td>\n",
       "      <td>84.0</td>\n",
       "      <td>6.4</td>\n",
       "      <td>E</td>\n",
       "    </tr>\n",
       "    <tr>\n",
       "      <th>456</th>\n",
       "      <td>LEGO Batman: The Videogame</td>\n",
       "      <td>Wii</td>\n",
       "      <td>NaN</td>\n",
       "      <td>Action</td>\n",
       "      <td>1.80</td>\n",
       "      <td>0.97</td>\n",
       "      <td>0.00</td>\n",
       "      <td>0.29</td>\n",
       "      <td>74.0</td>\n",
       "      <td>7.9</td>\n",
       "      <td>E10+</td>\n",
       "    </tr>\n",
       "    <tr>\n",
       "      <th>475</th>\n",
       "      <td>wwe Smackdown vs. Raw 2006</td>\n",
       "      <td>PS2</td>\n",
       "      <td>NaN</td>\n",
       "      <td>Fighting</td>\n",
       "      <td>1.57</td>\n",
       "      <td>1.02</td>\n",
       "      <td>0.00</td>\n",
       "      <td>0.41</td>\n",
       "      <td>NaN</td>\n",
       "      <td>NaN</td>\n",
       "      <td>NaN</td>\n",
       "    </tr>\n",
       "    <tr>\n",
       "      <th>609</th>\n",
       "      <td>Space Invaders</td>\n",
       "      <td>2600</td>\n",
       "      <td>NaN</td>\n",
       "      <td>Shooter</td>\n",
       "      <td>2.36</td>\n",
       "      <td>0.14</td>\n",
       "      <td>0.00</td>\n",
       "      <td>0.03</td>\n",
       "      <td>NaN</td>\n",
       "      <td>NaN</td>\n",
       "      <td>NaN</td>\n",
       "    </tr>\n",
       "  </tbody>\n",
       "</table>\n",
       "</div>"
      ],
      "text/plain": [
       "                           name platform  year_of_release     genre  na_sales  \\\n",
       "183             Madden NFL 2004      PS2              NaN    Sports      4.26   \n",
       "377            FIFA Soccer 2004      PS2              NaN    Sports      0.59   \n",
       "456  LEGO Batman: The Videogame      Wii              NaN    Action      1.80   \n",
       "475  wwe Smackdown vs. Raw 2006      PS2              NaN  Fighting      1.57   \n",
       "609              Space Invaders     2600              NaN   Shooter      2.36   \n",
       "\n",
       "     eu_sales  jp_sales  other_sales  critic_score user_score rating  \n",
       "183      0.26      0.01         0.71          94.0        8.5      E  \n",
       "377      2.36      0.04         0.51          84.0        6.4      E  \n",
       "456      0.97      0.00         0.29          74.0        7.9   E10+  \n",
       "475      1.02      0.00         0.41           NaN        NaN    NaN  \n",
       "609      0.14      0.00         0.03           NaN        NaN    NaN  "
      ]
     },
     "execution_count": 6,
     "metadata": {},
     "output_type": "execute_result"
    }
   ],
   "source": [
    "df[df['year_of_release'].isna() == True].head()"
   ]
  },
  {
   "cell_type": "code",
   "execution_count": 7,
   "id": "32977a73",
   "metadata": {},
   "outputs": [
    {
     "name": "stdout",
     "output_type": "stream",
     "text": [
      "Количество пропущенных значений в столбце \"year_of_release\": 269\n",
      "Доля пропущенных значений в столбце \"year_of_release\": 0.01609332934489979\n"
     ]
    }
   ],
   "source": [
    "print('Количество пропущенных значений в столбце \"year_of_release\":', df['year_of_release'].isna().sum())\n",
    "print('Доля пропущенных значений в столбце \"year_of_release\":', df['year_of_release'].isna().sum()/ df.shape[0])"
   ]
  },
  {
   "cell_type": "code",
   "execution_count": 8,
   "id": "2cfd8b7b",
   "metadata": {},
   "outputs": [],
   "source": [
    "df = df.dropna(subset = ['year_of_release']).reset_index(drop=True)"
   ]
  },
  {
   "cell_type": "code",
   "execution_count": 9,
   "id": "1c14de8c",
   "metadata": {},
   "outputs": [],
   "source": [
    "df['year_of_release'] = df['year_of_release'].astype(int).astype(str)\n",
    "df['year_of_release'] += '-01-01'\n",
    "df['year_of_release'] = pd.to_datetime(df['year_of_release'], format='%Y-%m-%d')"
   ]
  },
  {
   "cell_type": "markdown",
   "id": "609a18c9",
   "metadata": {},
   "source": [
    "Данные строки не несут в себе какой либо информации, можно удалить:"
   ]
  },
  {
   "cell_type": "code",
   "execution_count": 10,
   "id": "7d2a7972",
   "metadata": {},
   "outputs": [
    {
     "data": {
      "text/html": [
       "<div>\n",
       "<style scoped>\n",
       "    .dataframe tbody tr th:only-of-type {\n",
       "        vertical-align: middle;\n",
       "    }\n",
       "\n",
       "    .dataframe tbody tr th {\n",
       "        vertical-align: top;\n",
       "    }\n",
       "\n",
       "    .dataframe thead th {\n",
       "        text-align: right;\n",
       "    }\n",
       "</style>\n",
       "<table border=\"1\" class=\"dataframe\">\n",
       "  <thead>\n",
       "    <tr style=\"text-align: right;\">\n",
       "      <th></th>\n",
       "      <th>name</th>\n",
       "      <th>platform</th>\n",
       "      <th>year_of_release</th>\n",
       "      <th>genre</th>\n",
       "      <th>na_sales</th>\n",
       "      <th>eu_sales</th>\n",
       "      <th>jp_sales</th>\n",
       "      <th>other_sales</th>\n",
       "      <th>critic_score</th>\n",
       "      <th>user_score</th>\n",
       "      <th>rating</th>\n",
       "    </tr>\n",
       "  </thead>\n",
       "  <tbody>\n",
       "    <tr>\n",
       "      <th>652</th>\n",
       "      <td>NaN</td>\n",
       "      <td>GEN</td>\n",
       "      <td>1993-01-01</td>\n",
       "      <td>NaN</td>\n",
       "      <td>1.78</td>\n",
       "      <td>0.53</td>\n",
       "      <td>0.00</td>\n",
       "      <td>0.08</td>\n",
       "      <td>NaN</td>\n",
       "      <td>NaN</td>\n",
       "      <td>NaN</td>\n",
       "    </tr>\n",
       "    <tr>\n",
       "      <th>14022</th>\n",
       "      <td>NaN</td>\n",
       "      <td>GEN</td>\n",
       "      <td>1993-01-01</td>\n",
       "      <td>NaN</td>\n",
       "      <td>0.00</td>\n",
       "      <td>0.00</td>\n",
       "      <td>0.03</td>\n",
       "      <td>0.00</td>\n",
       "      <td>NaN</td>\n",
       "      <td>NaN</td>\n",
       "      <td>NaN</td>\n",
       "    </tr>\n",
       "  </tbody>\n",
       "</table>\n",
       "</div>"
      ],
      "text/plain": [
       "      name platform year_of_release genre  na_sales  eu_sales  jp_sales  \\\n",
       "652    NaN      GEN      1993-01-01   NaN      1.78      0.53      0.00   \n",
       "14022  NaN      GEN      1993-01-01   NaN      0.00      0.00      0.03   \n",
       "\n",
       "       other_sales  critic_score user_score rating  \n",
       "652           0.08           NaN        NaN    NaN  \n",
       "14022         0.00           NaN        NaN    NaN  "
      ]
     },
     "execution_count": 10,
     "metadata": {},
     "output_type": "execute_result"
    }
   ],
   "source": [
    "df[df['name'].isna() == True]"
   ]
  },
  {
   "cell_type": "code",
   "execution_count": 11,
   "id": "5730b6c2",
   "metadata": {},
   "outputs": [],
   "source": [
    "df = df.dropna(subset = ['name']).reset_index(drop=True)"
   ]
  },
  {
   "cell_type": "code",
   "execution_count": 12,
   "id": "0cb30efe",
   "metadata": {},
   "outputs": [
    {
     "data": {
      "text/plain": [
       "array([76., nan, 82., 80., 89., 58., 87., 91., 61., 97., 95., 77., 88.,\n",
       "       83., 94., 93., 85., 86., 98., 96., 90., 84., 73., 74., 78., 92.,\n",
       "       71., 72., 68., 62., 49., 67., 81., 66., 56., 79., 70., 59., 64.,\n",
       "       75., 60., 63., 69., 50., 25., 42., 44., 55., 48., 57., 29., 47.,\n",
       "       65., 54., 20., 53., 37., 38., 33., 52., 30., 32., 43., 45., 51.,\n",
       "       40., 46., 39., 34., 41., 36., 31., 27., 35., 26., 19., 28., 23.,\n",
       "       24., 21., 17., 13.])"
      ]
     },
     "execution_count": 12,
     "metadata": {},
     "output_type": "execute_result"
    }
   ],
   "source": [
    "df['critic_score'].unique()"
   ]
  },
  {
   "cell_type": "markdown",
   "id": "7f31033b",
   "metadata": {},
   "source": [
    "Оценку критиков нечем заполнить. Оставим пропуски"
   ]
  },
  {
   "cell_type": "code",
   "execution_count": 13,
   "id": "418a92aa",
   "metadata": {},
   "outputs": [
    {
     "data": {
      "text/plain": [
       "array(['8', nan, '8.3', '8.5', '6.6', '8.4', '8.6', '7.7', '6.3', '7.4',\n",
       "       '8.2', '9', '7.9', '8.1', '8.7', '7.1', '3.4', '5.3', '4.8', '3.2',\n",
       "       '8.9', '6.4', '7.8', '7.5', '2.6', '7.2', '9.2', '7', '7.3', '4.3',\n",
       "       '7.6', '5.7', '5', '9.1', '6.5', 'tbd', '8.8', '6.9', '9.4', '6.8',\n",
       "       '6.1', '6.7', '5.4', '4', '4.9', '4.5', '9.3', '6.2', '4.2', '6',\n",
       "       '3.7', '4.1', '5.8', '5.6', '5.5', '4.4', '4.6', '5.9', '3.9',\n",
       "       '3.1', '2.9', '5.2', '3.3', '4.7', '5.1', '3.5', '2.5', '1.9', '3',\n",
       "       '2.7', '2.2', '2', '9.5', '2.1', '3.6', '2.8', '1.8', '3.8', '0',\n",
       "       '1.6', '9.6', '2.4', '1.7', '1.1', '0.3', '1.5', '0.7', '1.2',\n",
       "       '2.3', '0.5', '1.3', '0.2', '0.6', '1.4', '0.9', '1', '9.7'],\n",
       "      dtype=object)"
      ]
     },
     "execution_count": 13,
     "metadata": {},
     "output_type": "execute_result"
    }
   ],
   "source": [
    "df['user_score'].unique()"
   ]
  },
  {
   "cell_type": "markdown",
   "id": "bdf09274",
   "metadata": {},
   "source": [
    "tbd - будет определено позднее (по сути это пропуск, поэтому заменим на NaN)"
   ]
  },
  {
   "cell_type": "code",
   "execution_count": 14,
   "id": "eff4ec36",
   "metadata": {},
   "outputs": [],
   "source": [
    "df.loc[df['user_score'] == 'tbd', 'user_score'] = np.NaN"
   ]
  },
  {
   "cell_type": "code",
   "execution_count": 15,
   "id": "6f06db7b",
   "metadata": {},
   "outputs": [],
   "source": [
    "df['user_score'] = df['user_score'].astype(float)"
   ]
  },
  {
   "cell_type": "code",
   "execution_count": 16,
   "id": "0497c95e",
   "metadata": {},
   "outputs": [
    {
     "data": {
      "text/html": [
       "<div>\n",
       "<style scoped>\n",
       "    .dataframe tbody tr th:only-of-type {\n",
       "        vertical-align: middle;\n",
       "    }\n",
       "\n",
       "    .dataframe tbody tr th {\n",
       "        vertical-align: top;\n",
       "    }\n",
       "\n",
       "    .dataframe thead th {\n",
       "        text-align: right;\n",
       "    }\n",
       "</style>\n",
       "<table border=\"1\" class=\"dataframe\">\n",
       "  <thead>\n",
       "    <tr style=\"text-align: right;\">\n",
       "      <th></th>\n",
       "      <th>name</th>\n",
       "      <th>platform</th>\n",
       "      <th>year_of_release</th>\n",
       "      <th>genre</th>\n",
       "      <th>na_sales</th>\n",
       "      <th>eu_sales</th>\n",
       "      <th>jp_sales</th>\n",
       "      <th>other_sales</th>\n",
       "      <th>critic_score</th>\n",
       "      <th>user_score</th>\n",
       "      <th>rating</th>\n",
       "    </tr>\n",
       "  </thead>\n",
       "  <tbody>\n",
       "    <tr>\n",
       "      <th>1</th>\n",
       "      <td>Super Mario Bros.</td>\n",
       "      <td>NES</td>\n",
       "      <td>1985-01-01</td>\n",
       "      <td>Platform</td>\n",
       "      <td>29.08</td>\n",
       "      <td>3.58</td>\n",
       "      <td>6.81</td>\n",
       "      <td>0.77</td>\n",
       "      <td>NaN</td>\n",
       "      <td>NaN</td>\n",
       "      <td>NaN</td>\n",
       "    </tr>\n",
       "    <tr>\n",
       "      <th>4</th>\n",
       "      <td>Pokemon Red/Pokemon Blue</td>\n",
       "      <td>GB</td>\n",
       "      <td>1996-01-01</td>\n",
       "      <td>Role-Playing</td>\n",
       "      <td>11.27</td>\n",
       "      <td>8.89</td>\n",
       "      <td>10.22</td>\n",
       "      <td>1.00</td>\n",
       "      <td>NaN</td>\n",
       "      <td>NaN</td>\n",
       "      <td>NaN</td>\n",
       "    </tr>\n",
       "    <tr>\n",
       "      <th>5</th>\n",
       "      <td>Tetris</td>\n",
       "      <td>GB</td>\n",
       "      <td>1989-01-01</td>\n",
       "      <td>Puzzle</td>\n",
       "      <td>23.20</td>\n",
       "      <td>2.26</td>\n",
       "      <td>4.22</td>\n",
       "      <td>0.58</td>\n",
       "      <td>NaN</td>\n",
       "      <td>NaN</td>\n",
       "      <td>NaN</td>\n",
       "    </tr>\n",
       "    <tr>\n",
       "      <th>9</th>\n",
       "      <td>Duck Hunt</td>\n",
       "      <td>NES</td>\n",
       "      <td>1984-01-01</td>\n",
       "      <td>Shooter</td>\n",
       "      <td>26.93</td>\n",
       "      <td>0.63</td>\n",
       "      <td>0.28</td>\n",
       "      <td>0.47</td>\n",
       "      <td>NaN</td>\n",
       "      <td>NaN</td>\n",
       "      <td>NaN</td>\n",
       "    </tr>\n",
       "    <tr>\n",
       "      <th>10</th>\n",
       "      <td>Nintendogs</td>\n",
       "      <td>DS</td>\n",
       "      <td>2005-01-01</td>\n",
       "      <td>Simulation</td>\n",
       "      <td>9.05</td>\n",
       "      <td>10.95</td>\n",
       "      <td>1.93</td>\n",
       "      <td>2.74</td>\n",
       "      <td>NaN</td>\n",
       "      <td>NaN</td>\n",
       "      <td>NaN</td>\n",
       "    </tr>\n",
       "  </tbody>\n",
       "</table>\n",
       "</div>"
      ],
      "text/plain": [
       "                        name platform year_of_release         genre  na_sales  \\\n",
       "1          Super Mario Bros.      NES      1985-01-01      Platform     29.08   \n",
       "4   Pokemon Red/Pokemon Blue       GB      1996-01-01  Role-Playing     11.27   \n",
       "5                     Tetris       GB      1989-01-01        Puzzle     23.20   \n",
       "9                  Duck Hunt      NES      1984-01-01       Shooter     26.93   \n",
       "10                Nintendogs       DS      2005-01-01    Simulation      9.05   \n",
       "\n",
       "    eu_sales  jp_sales  other_sales  critic_score  user_score rating  \n",
       "1       3.58      6.81         0.77           NaN         NaN    NaN  \n",
       "4       8.89     10.22         1.00           NaN         NaN    NaN  \n",
       "5       2.26      4.22         0.58           NaN         NaN    NaN  \n",
       "9       0.63      0.28         0.47           NaN         NaN    NaN  \n",
       "10     10.95      1.93         2.74           NaN         NaN    NaN  "
      ]
     },
     "execution_count": 16,
     "metadata": {},
     "output_type": "execute_result"
    }
   ],
   "source": [
    "df[df['rating'].isna() == True].head()"
   ]
  },
  {
   "cell_type": "markdown",
   "id": "a67af8ea",
   "metadata": {},
   "source": [
    "Оценку критиков нечем заполнить. Оставим пропуски"
   ]
  },
  {
   "cell_type": "code",
   "execution_count": 17,
   "id": "87566eea",
   "metadata": {},
   "outputs": [
    {
     "data": {
      "text/plain": [
       "E       3921\n",
       "T       2905\n",
       "M       1536\n",
       "E10+    1393\n",
       "EC         8\n",
       "K-A        3\n",
       "RP         1\n",
       "AO         1\n",
       "Name: rating, dtype: int64"
      ]
     },
     "execution_count": 17,
     "metadata": {},
     "output_type": "execute_result"
    }
   ],
   "source": [
    "df['rating'].value_counts()"
   ]
  },
  {
   "cell_type": "code",
   "execution_count": 18,
   "id": "396d8a56",
   "metadata": {},
   "outputs": [
    {
     "data": {
      "text/html": [
       "<div>\n",
       "<style scoped>\n",
       "    .dataframe tbody tr th:only-of-type {\n",
       "        vertical-align: middle;\n",
       "    }\n",
       "\n",
       "    .dataframe tbody tr th {\n",
       "        vertical-align: top;\n",
       "    }\n",
       "\n",
       "    .dataframe thead th {\n",
       "        text-align: right;\n",
       "    }\n",
       "</style>\n",
       "<table border=\"1\" class=\"dataframe\">\n",
       "  <thead>\n",
       "    <tr style=\"text-align: right;\">\n",
       "      <th></th>\n",
       "      <th>name</th>\n",
       "      <th>platform</th>\n",
       "      <th>year_of_release</th>\n",
       "      <th>genre</th>\n",
       "      <th>na_sales</th>\n",
       "      <th>eu_sales</th>\n",
       "      <th>jp_sales</th>\n",
       "      <th>other_sales</th>\n",
       "      <th>critic_score</th>\n",
       "      <th>user_score</th>\n",
       "      <th>rating</th>\n",
       "    </tr>\n",
       "  </thead>\n",
       "  <tbody>\n",
       "    <tr>\n",
       "      <th>650</th>\n",
       "      <td>Theme Hospital</td>\n",
       "      <td>PC</td>\n",
       "      <td>1997-01-01</td>\n",
       "      <td>Strategy</td>\n",
       "      <td>2.30</td>\n",
       "      <td>0.10</td>\n",
       "      <td>0.00</td>\n",
       "      <td>0.00</td>\n",
       "      <td>NaN</td>\n",
       "      <td>9.0</td>\n",
       "      <td>K-A</td>\n",
       "    </tr>\n",
       "    <tr>\n",
       "      <th>892</th>\n",
       "      <td>PaRappa The Rapper</td>\n",
       "      <td>PS</td>\n",
       "      <td>1996-01-01</td>\n",
       "      <td>Misc</td>\n",
       "      <td>0.26</td>\n",
       "      <td>0.16</td>\n",
       "      <td>1.46</td>\n",
       "      <td>0.03</td>\n",
       "      <td>92.0</td>\n",
       "      <td>7.4</td>\n",
       "      <td>K-A</td>\n",
       "    </tr>\n",
       "    <tr>\n",
       "      <th>16410</th>\n",
       "      <td>Worms 2</td>\n",
       "      <td>PC</td>\n",
       "      <td>1997-01-01</td>\n",
       "      <td>Strategy</td>\n",
       "      <td>0.00</td>\n",
       "      <td>0.01</td>\n",
       "      <td>0.00</td>\n",
       "      <td>0.00</td>\n",
       "      <td>NaN</td>\n",
       "      <td>8.1</td>\n",
       "      <td>K-A</td>\n",
       "    </tr>\n",
       "  </tbody>\n",
       "</table>\n",
       "</div>"
      ],
      "text/plain": [
       "                     name platform year_of_release     genre  na_sales  \\\n",
       "650        Theme Hospital       PC      1997-01-01  Strategy      2.30   \n",
       "892    PaRappa The Rapper       PS      1996-01-01      Misc      0.26   \n",
       "16410             Worms 2       PC      1997-01-01  Strategy      0.00   \n",
       "\n",
       "       eu_sales  jp_sales  other_sales  critic_score  user_score rating  \n",
       "650        0.10      0.00         0.00           NaN         9.0    K-A  \n",
       "892        0.16      1.46         0.03          92.0         7.4    K-A  \n",
       "16410      0.01      0.00         0.00           NaN         8.1    K-A  "
      ]
     },
     "execution_count": 18,
     "metadata": {},
     "output_type": "execute_result"
    }
   ],
   "source": [
    "df[df['rating'] == 'K-A']"
   ]
  },
  {
   "cell_type": "code",
   "execution_count": 19,
   "id": "ebc05d8e",
   "metadata": {},
   "outputs": [],
   "source": [
    "df.loc[df['rating'] == 'K-A', 'rating'] = 'E'"
   ]
  },
  {
   "cell_type": "markdown",
   "id": "e6487f19",
   "metadata": {},
   "source": [
    "Рейтинг K-A устаревший, он был заменен рейтингом Е, проведем замену в таблице."
   ]
  },
  {
   "cell_type": "code",
   "execution_count": 20,
   "id": "2228a942",
   "metadata": {},
   "outputs": [],
   "source": [
    "df['rating'] = df['rating'].fillna('None')"
   ]
  },
  {
   "cell_type": "markdown",
   "id": "03e2353c",
   "metadata": {},
   "source": [
    "Посчитаем общую выручку:"
   ]
  },
  {
   "cell_type": "code",
   "execution_count": 21,
   "id": "faa15443",
   "metadata": {},
   "outputs": [],
   "source": [
    "df['sales'] = df['na_sales'] + df['eu_sales'] + df['jp_sales'] + df['other_sales']"
   ]
  },
  {
   "cell_type": "code",
   "execution_count": 22,
   "id": "5aaf3dc3",
   "metadata": {},
   "outputs": [
    {
     "data": {
      "text/html": [
       "<div>\n",
       "<style scoped>\n",
       "    .dataframe tbody tr th:only-of-type {\n",
       "        vertical-align: middle;\n",
       "    }\n",
       "\n",
       "    .dataframe tbody tr th {\n",
       "        vertical-align: top;\n",
       "    }\n",
       "\n",
       "    .dataframe thead th {\n",
       "        text-align: right;\n",
       "    }\n",
       "</style>\n",
       "<table border=\"1\" class=\"dataframe\">\n",
       "  <thead>\n",
       "    <tr style=\"text-align: right;\">\n",
       "      <th></th>\n",
       "      <th>name</th>\n",
       "      <th>platform</th>\n",
       "      <th>year_of_release</th>\n",
       "      <th>genre</th>\n",
       "      <th>na_sales</th>\n",
       "      <th>eu_sales</th>\n",
       "      <th>jp_sales</th>\n",
       "      <th>other_sales</th>\n",
       "      <th>critic_score</th>\n",
       "      <th>user_score</th>\n",
       "      <th>rating</th>\n",
       "      <th>sales</th>\n",
       "    </tr>\n",
       "  </thead>\n",
       "  <tbody>\n",
       "    <tr>\n",
       "      <th>0</th>\n",
       "      <td>Wii Sports</td>\n",
       "      <td>Wii</td>\n",
       "      <td>2006-01-01</td>\n",
       "      <td>Sports</td>\n",
       "      <td>41.36</td>\n",
       "      <td>28.96</td>\n",
       "      <td>3.77</td>\n",
       "      <td>8.45</td>\n",
       "      <td>76.0</td>\n",
       "      <td>8.0</td>\n",
       "      <td>E</td>\n",
       "      <td>82.54</td>\n",
       "    </tr>\n",
       "    <tr>\n",
       "      <th>1</th>\n",
       "      <td>Super Mario Bros.</td>\n",
       "      <td>NES</td>\n",
       "      <td>1985-01-01</td>\n",
       "      <td>Platform</td>\n",
       "      <td>29.08</td>\n",
       "      <td>3.58</td>\n",
       "      <td>6.81</td>\n",
       "      <td>0.77</td>\n",
       "      <td>NaN</td>\n",
       "      <td>NaN</td>\n",
       "      <td>None</td>\n",
       "      <td>40.24</td>\n",
       "    </tr>\n",
       "    <tr>\n",
       "      <th>2</th>\n",
       "      <td>Mario Kart Wii</td>\n",
       "      <td>Wii</td>\n",
       "      <td>2008-01-01</td>\n",
       "      <td>Racing</td>\n",
       "      <td>15.68</td>\n",
       "      <td>12.76</td>\n",
       "      <td>3.79</td>\n",
       "      <td>3.29</td>\n",
       "      <td>82.0</td>\n",
       "      <td>8.3</td>\n",
       "      <td>E</td>\n",
       "      <td>35.52</td>\n",
       "    </tr>\n",
       "    <tr>\n",
       "      <th>3</th>\n",
       "      <td>Wii Sports Resort</td>\n",
       "      <td>Wii</td>\n",
       "      <td>2009-01-01</td>\n",
       "      <td>Sports</td>\n",
       "      <td>15.61</td>\n",
       "      <td>10.93</td>\n",
       "      <td>3.28</td>\n",
       "      <td>2.95</td>\n",
       "      <td>80.0</td>\n",
       "      <td>8.0</td>\n",
       "      <td>E</td>\n",
       "      <td>32.77</td>\n",
       "    </tr>\n",
       "    <tr>\n",
       "      <th>4</th>\n",
       "      <td>Pokemon Red/Pokemon Blue</td>\n",
       "      <td>GB</td>\n",
       "      <td>1996-01-01</td>\n",
       "      <td>Role-Playing</td>\n",
       "      <td>11.27</td>\n",
       "      <td>8.89</td>\n",
       "      <td>10.22</td>\n",
       "      <td>1.00</td>\n",
       "      <td>NaN</td>\n",
       "      <td>NaN</td>\n",
       "      <td>None</td>\n",
       "      <td>31.38</td>\n",
       "    </tr>\n",
       "  </tbody>\n",
       "</table>\n",
       "</div>"
      ],
      "text/plain": [
       "                       name platform year_of_release         genre  na_sales  \\\n",
       "0                Wii Sports      Wii      2006-01-01        Sports     41.36   \n",
       "1         Super Mario Bros.      NES      1985-01-01      Platform     29.08   \n",
       "2            Mario Kart Wii      Wii      2008-01-01        Racing     15.68   \n",
       "3         Wii Sports Resort      Wii      2009-01-01        Sports     15.61   \n",
       "4  Pokemon Red/Pokemon Blue       GB      1996-01-01  Role-Playing     11.27   \n",
       "\n",
       "   eu_sales  jp_sales  other_sales  critic_score  user_score rating  sales  \n",
       "0     28.96      3.77         8.45          76.0         8.0      E  82.54  \n",
       "1      3.58      6.81         0.77           NaN         NaN   None  40.24  \n",
       "2     12.76      3.79         3.29          82.0         8.3      E  35.52  \n",
       "3     10.93      3.28         2.95          80.0         8.0      E  32.77  \n",
       "4      8.89     10.22         1.00           NaN         NaN   None  31.38  "
      ]
     },
     "execution_count": 22,
     "metadata": {},
     "output_type": "execute_result"
    }
   ],
   "source": [
    "df.head()"
   ]
  },
  {
   "cell_type": "code",
   "execution_count": 23,
   "id": "b45228b2",
   "metadata": {},
   "outputs": [
    {
     "name": "stdout",
     "output_type": "stream",
     "text": [
      "<class 'pandas.core.frame.DataFrame'>\n",
      "RangeIndex: 16444 entries, 0 to 16443\n",
      "Data columns (total 12 columns):\n",
      " #   Column           Non-Null Count  Dtype         \n",
      "---  ------           --------------  -----         \n",
      " 0   name             16444 non-null  object        \n",
      " 1   platform         16444 non-null  object        \n",
      " 2   year_of_release  16444 non-null  datetime64[ns]\n",
      " 3   genre            16444 non-null  object        \n",
      " 4   na_sales         16444 non-null  float64       \n",
      " 5   eu_sales         16444 non-null  float64       \n",
      " 6   jp_sales         16444 non-null  float64       \n",
      " 7   other_sales      16444 non-null  float64       \n",
      " 8   critic_score     7983 non-null   float64       \n",
      " 9   user_score       7463 non-null   float64       \n",
      " 10  rating           16444 non-null  object        \n",
      " 11  sales            16444 non-null  float64       \n",
      "dtypes: datetime64[ns](1), float64(7), object(4)\n",
      "memory usage: 1.5+ MB\n"
     ]
    }
   ],
   "source": [
    "df.info()"
   ]
  },
  {
   "cell_type": "markdown",
   "id": "00c566cb",
   "metadata": {},
   "source": [
    "Вывод: данные были предварительно обработаны: проанализированы пропуски и изменены типы данных. Также была посчитана дополнительная величина (суммарные продажи)."
   ]
  },
  {
   "cell_type": "code",
   "execution_count": 24,
   "id": "d999f10d",
   "metadata": {},
   "outputs": [
    {
     "name": "stdout",
     "output_type": "stream",
     "text": [
      "<class 'pandas.core.frame.DataFrame'>\n",
      "RangeIndex: 16444 entries, 0 to 16443\n",
      "Data columns (total 12 columns):\n",
      " #   Column           Non-Null Count  Dtype         \n",
      "---  ------           --------------  -----         \n",
      " 0   name             16444 non-null  object        \n",
      " 1   platform         16444 non-null  object        \n",
      " 2   year_of_release  16444 non-null  datetime64[ns]\n",
      " 3   genre            16444 non-null  object        \n",
      " 4   na_sales         16444 non-null  float64       \n",
      " 5   eu_sales         16444 non-null  float64       \n",
      " 6   jp_sales         16444 non-null  float64       \n",
      " 7   other_sales      16444 non-null  float64       \n",
      " 8   critic_score     7983 non-null   float64       \n",
      " 9   user_score       7463 non-null   float64       \n",
      " 10  rating           16444 non-null  object        \n",
      " 11  sales            16444 non-null  float64       \n",
      "dtypes: datetime64[ns](1), float64(7), object(4)\n",
      "memory usage: 1.5+ MB\n",
      "None\n",
      "-------------------------\n",
      "name [' Beyblade Burst' ' Fire Emblem Fates' \" Frozen: Olaf's Quest\" ...\n",
      " 'uDraw Studio' 'uDraw Studio: Instant Artist'\n",
      " '¡Shin Chan Flipa en colores!']\n",
      "name : кол-во NaN 0 , процент NaN 0.0 %\n",
      "-------------------------\n",
      "platform ['2600' '3DO' '3DS' 'DC' 'DS' 'GB' 'GBA' 'GC' 'GEN' 'GG' 'N64' 'NES' 'NG'\n",
      " 'PC' 'PCFX' 'PS' 'PS2' 'PS3' 'PS4' 'PSP' 'PSV' 'SAT' 'SCD' 'SNES' 'TG16'\n",
      " 'WS' 'Wii' 'WiiU' 'X360' 'XB' 'XOne']\n",
      "platform : кол-во NaN 0 , процент NaN 0.0 %\n",
      "-------------------------\n",
      "year_of_release ['1980-01-01T00:00:00.000000000' '1981-01-01T00:00:00.000000000'\n",
      " '1982-01-01T00:00:00.000000000' '1983-01-01T00:00:00.000000000'\n",
      " '1984-01-01T00:00:00.000000000' '1985-01-01T00:00:00.000000000'\n",
      " '1986-01-01T00:00:00.000000000' '1987-01-01T00:00:00.000000000'\n",
      " '1988-01-01T00:00:00.000000000' '1989-01-01T00:00:00.000000000'\n",
      " '1990-01-01T00:00:00.000000000' '1991-01-01T00:00:00.000000000'\n",
      " '1992-01-01T00:00:00.000000000' '1993-01-01T00:00:00.000000000'\n",
      " '1994-01-01T00:00:00.000000000' '1995-01-01T00:00:00.000000000'\n",
      " '1996-01-01T00:00:00.000000000' '1997-01-01T00:00:00.000000000'\n",
      " '1998-01-01T00:00:00.000000000' '1999-01-01T00:00:00.000000000'\n",
      " '2000-01-01T00:00:00.000000000' '2001-01-01T00:00:00.000000000'\n",
      " '2002-01-01T00:00:00.000000000' '2003-01-01T00:00:00.000000000'\n",
      " '2004-01-01T00:00:00.000000000' '2005-01-01T00:00:00.000000000'\n",
      " '2006-01-01T00:00:00.000000000' '2007-01-01T00:00:00.000000000'\n",
      " '2008-01-01T00:00:00.000000000' '2009-01-01T00:00:00.000000000'\n",
      " '2010-01-01T00:00:00.000000000' '2011-01-01T00:00:00.000000000'\n",
      " '2012-01-01T00:00:00.000000000' '2013-01-01T00:00:00.000000000'\n",
      " '2014-01-01T00:00:00.000000000' '2015-01-01T00:00:00.000000000'\n",
      " '2016-01-01T00:00:00.000000000']\n",
      "year_of_release : кол-во NaN 0 , процент NaN 0.0 %\n",
      "-------------------------\n",
      "genre ['Action' 'Adventure' 'Fighting' 'Misc' 'Platform' 'Puzzle' 'Racing'\n",
      " 'Role-Playing' 'Shooter' 'Simulation' 'Sports' 'Strategy']\n",
      "genre : кол-во NaN 0 , процент NaN 0.0 %\n",
      "-------------------------\n",
      "critic_score [13. 17. 19. 20. 21. 23. 24. 25. 26. 27. 28. 29. 30. 31. 32. 33. 34. 35.\n",
      " 36. 37. 38. 39. 40. 41. 42. 43. 44. 45. 46. 47. 48. 49. 50. 51. 52. 53.\n",
      " 54. 55. 56. 57. 58. 59. 60. 61. 62. 63. 64. 65. 66. 67. 68. 69. 70. 71.\n",
      " 72. 73. 74. 75. 76. 77. 78. 79. 80. 81. 82. 83. 84. 85. 86. 87. 88. 89.\n",
      " 90. 91. 92. 93. 94. 95. 96. 97. 98. nan]\n",
      "critic_score : кол-во NaN 8461 , процент NaN 51.45 %\n",
      "-------------------------\n",
      "user_score [0.  0.2 0.3 0.5 0.6 0.7 0.9 1.  1.1 1.2 1.3 1.4 1.5 1.6 1.7 1.8 1.9 2.\n",
      " 2.1 2.2 2.3 2.4 2.5 2.6 2.7 2.8 2.9 3.  3.1 3.2 3.3 3.4 3.5 3.6 3.7 3.8\n",
      " 3.9 4.  4.1 4.2 4.3 4.4 4.5 4.6 4.7 4.8 4.9 5.  5.1 5.2 5.3 5.4 5.5 5.6\n",
      " 5.7 5.8 5.9 6.  6.1 6.2 6.3 6.4 6.5 6.6 6.7 6.8 6.9 7.  7.1 7.2 7.3 7.4\n",
      " 7.5 7.6 7.7 7.8 7.9 8.  8.1 8.2 8.3 8.4 8.5 8.6 8.7 8.8 8.9 9.  9.1 9.2\n",
      " 9.3 9.4 9.5 9.6 9.7 nan]\n",
      "user_score : кол-во NaN 8981 , процент NaN 54.62 %\n",
      "-------------------------\n",
      "rating ['AO' 'E' 'E10+' 'EC' 'M' 'None' 'RP' 'T']\n",
      "rating : кол-во NaN 0 , процент NaN 0.0 %\n"
     ]
    }
   ],
   "source": [
    "temp = df.copy() \n",
    "list_c = ['name', 'platform', 'year_of_release', 'genre', 'critic_score', 'user_score', 'rating']\n",
    "print(temp.info())\n",
    "for col_l in list_c:\n",
    "  print('-------------------------')\n",
    "  print(col_l, temp[col_l].sort_values().unique())\n",
    "  print(col_l,': кол-во NaN',temp[col_l].isna().sum(),\n",
    "        ', процент NaN', round(temp[col_l].isna().sum()/len(temp)*100, 2),'%')"
   ]
  },
  {
   "cell_type": "markdown",
   "id": "2f15f042",
   "metadata": {},
   "source": [
    "## Проведем исследовательский анализ данных"
   ]
  },
  {
   "cell_type": "markdown",
   "id": "76b7d686",
   "metadata": {},
   "source": [
    "### Сколько игр выпускалось в разные годы. Важны ли данные за все периоды?"
   ]
  },
  {
   "cell_type": "code",
   "execution_count": 26,
   "id": "b63ecc55",
   "metadata": {},
   "outputs": [],
   "source": [
    "pivot_year_of_sales = df.pivot_table(index='year_of_release', values='name', aggfunc='count')\n",
    "pivot_year_of_sales.columns = ['count_release']"
   ]
  },
  {
   "cell_type": "code",
   "execution_count": 27,
   "id": "059cb545",
   "metadata": {},
   "outputs": [
    {
     "data": {
      "text/plain": [
       "Text(0, 0.5, 'Кол-во игр')"
      ]
     },
     "execution_count": 27,
     "metadata": {},
     "output_type": "execute_result"
    },
    {
     "data": {
      "image/png": "[encoded data removed]",
      "text/plain": [
       "<Figure size 1080x360 with 1 Axes>"
      ]
     },
     "metadata": {
      "needs_background": "light"
     },
     "output_type": "display_data"
    }
   ],
   "source": [
    "pivot_year_of_sales.plot(y='count_release', style='x-', grid=True, figsize=(15, 5))\n",
    "plt.xlabel('Год')\n",
    "plt.ylabel('Кол-во игр')"
   ]
  },
  {
   "cell_type": "markdown",
   "id": "8b7a8251",
   "metadata": {},
   "source": [
    "Данные до 1995 года не столь велики по сравнению с пиковыми значениями, количество игр было мало."
   ]
  },
  {
   "cell_type": "markdown",
   "id": "33c9d132",
   "metadata": {},
   "source": [
    "### Как менялись продажи по платформам? "
   ]
  },
  {
   "cell_type": "code",
   "execution_count": 28,
   "id": "7ea9fe0d",
   "metadata": {},
   "outputs": [
    {
     "data": {
      "text/html": [
       "<div>\n",
       "<style scoped>\n",
       "    .dataframe tbody tr th:only-of-type {\n",
       "        vertical-align: middle;\n",
       "    }\n",
       "\n",
       "    .dataframe tbody tr th {\n",
       "        vertical-align: top;\n",
       "    }\n",
       "\n",
       "    .dataframe thead th {\n",
       "        text-align: right;\n",
       "    }\n",
       "</style>\n",
       "<table border=\"1\" class=\"dataframe\">\n",
       "  <thead>\n",
       "    <tr style=\"text-align: right;\">\n",
       "      <th></th>\n",
       "      <th>platform</th>\n",
       "      <th>sales</th>\n",
       "    </tr>\n",
       "  </thead>\n",
       "  <tbody>\n",
       "    <tr>\n",
       "      <th>0</th>\n",
       "      <td>PS2</td>\n",
       "      <td>1233.56</td>\n",
       "    </tr>\n",
       "    <tr>\n",
       "      <th>1</th>\n",
       "      <td>X360</td>\n",
       "      <td>961.24</td>\n",
       "    </tr>\n",
       "    <tr>\n",
       "      <th>2</th>\n",
       "      <td>PS3</td>\n",
       "      <td>931.34</td>\n",
       "    </tr>\n",
       "    <tr>\n",
       "      <th>3</th>\n",
       "      <td>Wii</td>\n",
       "      <td>891.18</td>\n",
       "    </tr>\n",
       "    <tr>\n",
       "      <th>4</th>\n",
       "      <td>DS</td>\n",
       "      <td>802.78</td>\n",
       "    </tr>\n",
       "    <tr>\n",
       "      <th>5</th>\n",
       "      <td>PS</td>\n",
       "      <td>727.58</td>\n",
       "    </tr>\n",
       "    <tr>\n",
       "      <th>6</th>\n",
       "      <td>PS4</td>\n",
       "      <td>314.14</td>\n",
       "    </tr>\n",
       "  </tbody>\n",
       "</table>\n",
       "</div>"
      ],
      "text/plain": [
       "  platform    sales\n",
       "0      PS2  1233.56\n",
       "1     X360   961.24\n",
       "2      PS3   931.34\n",
       "3      Wii   891.18\n",
       "4       DS   802.78\n",
       "5       PS   727.58\n",
       "6      PS4   314.14"
      ]
     },
     "execution_count": 28,
     "metadata": {},
     "output_type": "execute_result"
    }
   ],
   "source": [
    "platforms_sales = df.pivot_table(index=['platform'], values='sales', aggfunc='sum').sort_values('sales', ascending=False).reset_index()\n",
    "platforms_sales.head(7)"
   ]
  },
  {
   "cell_type": "code",
   "execution_count": 29,
   "id": "54ffb45e",
   "metadata": {},
   "outputs": [
    {
     "data": {
      "text/html": [
       "<div>\n",
       "<style scoped>\n",
       "    .dataframe tbody tr th:only-of-type {\n",
       "        vertical-align: middle;\n",
       "    }\n",
       "\n",
       "    .dataframe tbody tr th {\n",
       "        vertical-align: top;\n",
       "    }\n",
       "\n",
       "    .dataframe thead th {\n",
       "        text-align: right;\n",
       "    }\n",
       "</style>\n",
       "<table border=\"1\" class=\"dataframe\">\n",
       "  <thead>\n",
       "    <tr style=\"text-align: right;\">\n",
       "      <th></th>\n",
       "      <th>platform</th>\n",
       "      <th>year_of_release</th>\n",
       "      <th>sales</th>\n",
       "    </tr>\n",
       "  </thead>\n",
       "  <tbody>\n",
       "    <tr>\n",
       "      <th>0</th>\n",
       "      <td>2600</td>\n",
       "      <td>1980-01-01</td>\n",
       "      <td>11.38</td>\n",
       "    </tr>\n",
       "    <tr>\n",
       "      <th>1</th>\n",
       "      <td>2600</td>\n",
       "      <td>1981-01-01</td>\n",
       "      <td>35.68</td>\n",
       "    </tr>\n",
       "    <tr>\n",
       "      <th>2</th>\n",
       "      <td>2600</td>\n",
       "      <td>1982-01-01</td>\n",
       "      <td>28.88</td>\n",
       "    </tr>\n",
       "    <tr>\n",
       "      <th>3</th>\n",
       "      <td>2600</td>\n",
       "      <td>1983-01-01</td>\n",
       "      <td>5.84</td>\n",
       "    </tr>\n",
       "    <tr>\n",
       "      <th>4</th>\n",
       "      <td>2600</td>\n",
       "      <td>1984-01-01</td>\n",
       "      <td>0.27</td>\n",
       "    </tr>\n",
       "  </tbody>\n",
       "</table>\n",
       "</div>"
      ],
      "text/plain": [
       "  platform year_of_release  sales\n",
       "0     2600      1980-01-01  11.38\n",
       "1     2600      1981-01-01  35.68\n",
       "2     2600      1982-01-01  28.88\n",
       "3     2600      1983-01-01   5.84\n",
       "4     2600      1984-01-01   0.27"
      ]
     },
     "execution_count": 29,
     "metadata": {},
     "output_type": "execute_result"
    }
   ],
   "source": [
    "platforms_year_sales = df.pivot_table(index=['platform', 'year_of_release'], values='sales', aggfunc='sum').reset_index()\n",
    "platforms_year_sales.head()"
   ]
  },
  {
   "cell_type": "code",
   "execution_count": 30,
   "id": "bfe15e17",
   "metadata": {},
   "outputs": [],
   "source": [
    "a = []\n",
    "for i in platforms_sales['platform']:\n",
    "    y = platforms_year_sales[platforms_year_sales['platform'] == i].pivot_table(index='year_of_release')\n",
    "    y.columns = [i]\n",
    "    a.append(y)"
   ]
  },
  {
   "cell_type": "code",
   "execution_count": 31,
   "id": "2ff4ced5",
   "metadata": {},
   "outputs": [
    {
     "data": {
      "text/html": [
       "<div>\n",
       "<style scoped>\n",
       "    .dataframe tbody tr th:only-of-type {\n",
       "        vertical-align: middle;\n",
       "    }\n",
       "\n",
       "    .dataframe tbody tr th {\n",
       "        vertical-align: top;\n",
       "    }\n",
       "\n",
       "    .dataframe thead th {\n",
       "        text-align: right;\n",
       "    }\n",
       "</style>\n",
       "<table border=\"1\" class=\"dataframe\">\n",
       "  <thead>\n",
       "    <tr style=\"text-align: right;\">\n",
       "      <th></th>\n",
       "      <th>PS2</th>\n",
       "      <th>X360</th>\n",
       "      <th>PS3</th>\n",
       "      <th>Wii</th>\n",
       "      <th>DS</th>\n",
       "      <th>PS</th>\n",
       "      <th>PS4</th>\n",
       "      <th>GBA</th>\n",
       "      <th>PSP</th>\n",
       "      <th>3DS</th>\n",
       "      <th>...</th>\n",
       "      <th>SAT</th>\n",
       "      <th>GEN</th>\n",
       "      <th>DC</th>\n",
       "      <th>SCD</th>\n",
       "      <th>NG</th>\n",
       "      <th>WS</th>\n",
       "      <th>TG16</th>\n",
       "      <th>3DO</th>\n",
       "      <th>GG</th>\n",
       "      <th>PCFX</th>\n",
       "    </tr>\n",
       "    <tr>\n",
       "      <th>year_of_release</th>\n",
       "      <th></th>\n",
       "      <th></th>\n",
       "      <th></th>\n",
       "      <th></th>\n",
       "      <th></th>\n",
       "      <th></th>\n",
       "      <th></th>\n",
       "      <th></th>\n",
       "      <th></th>\n",
       "      <th></th>\n",
       "      <th></th>\n",
       "      <th></th>\n",
       "      <th></th>\n",
       "      <th></th>\n",
       "      <th></th>\n",
       "      <th></th>\n",
       "      <th></th>\n",
       "      <th></th>\n",
       "      <th></th>\n",
       "      <th></th>\n",
       "      <th></th>\n",
       "    </tr>\n",
       "  </thead>\n",
       "  <tbody>\n",
       "    <tr>\n",
       "      <th>2012-01-01</th>\n",
       "      <td>NaN</td>\n",
       "      <td>99.74</td>\n",
       "      <td>107.36</td>\n",
       "      <td>21.71</td>\n",
       "      <td>11.01</td>\n",
       "      <td>NaN</td>\n",
       "      <td>NaN</td>\n",
       "      <td>NaN</td>\n",
       "      <td>7.69</td>\n",
       "      <td>51.36</td>\n",
       "      <td>...</td>\n",
       "      <td>NaN</td>\n",
       "      <td>NaN</td>\n",
       "      <td>NaN</td>\n",
       "      <td>NaN</td>\n",
       "      <td>NaN</td>\n",
       "      <td>NaN</td>\n",
       "      <td>NaN</td>\n",
       "      <td>NaN</td>\n",
       "      <td>NaN</td>\n",
       "      <td>NaN</td>\n",
       "    </tr>\n",
       "    <tr>\n",
       "      <th>2013-01-01</th>\n",
       "      <td>NaN</td>\n",
       "      <td>88.58</td>\n",
       "      <td>113.25</td>\n",
       "      <td>8.59</td>\n",
       "      <td>1.54</td>\n",
       "      <td>NaN</td>\n",
       "      <td>25.99</td>\n",
       "      <td>NaN</td>\n",
       "      <td>3.14</td>\n",
       "      <td>56.57</td>\n",
       "      <td>...</td>\n",
       "      <td>NaN</td>\n",
       "      <td>NaN</td>\n",
       "      <td>NaN</td>\n",
       "      <td>NaN</td>\n",
       "      <td>NaN</td>\n",
       "      <td>NaN</td>\n",
       "      <td>NaN</td>\n",
       "      <td>NaN</td>\n",
       "      <td>NaN</td>\n",
       "      <td>NaN</td>\n",
       "    </tr>\n",
       "    <tr>\n",
       "      <th>2014-01-01</th>\n",
       "      <td>NaN</td>\n",
       "      <td>34.74</td>\n",
       "      <td>47.76</td>\n",
       "      <td>3.75</td>\n",
       "      <td>NaN</td>\n",
       "      <td>NaN</td>\n",
       "      <td>100.00</td>\n",
       "      <td>NaN</td>\n",
       "      <td>0.24</td>\n",
       "      <td>43.76</td>\n",
       "      <td>...</td>\n",
       "      <td>NaN</td>\n",
       "      <td>NaN</td>\n",
       "      <td>NaN</td>\n",
       "      <td>NaN</td>\n",
       "      <td>NaN</td>\n",
       "      <td>NaN</td>\n",
       "      <td>NaN</td>\n",
       "      <td>NaN</td>\n",
       "      <td>NaN</td>\n",
       "      <td>NaN</td>\n",
       "    </tr>\n",
       "    <tr>\n",
       "      <th>2015-01-01</th>\n",
       "      <td>NaN</td>\n",
       "      <td>11.96</td>\n",
       "      <td>16.82</td>\n",
       "      <td>1.14</td>\n",
       "      <td>NaN</td>\n",
       "      <td>NaN</td>\n",
       "      <td>118.90</td>\n",
       "      <td>NaN</td>\n",
       "      <td>0.12</td>\n",
       "      <td>27.78</td>\n",
       "      <td>...</td>\n",
       "      <td>NaN</td>\n",
       "      <td>NaN</td>\n",
       "      <td>NaN</td>\n",
       "      <td>NaN</td>\n",
       "      <td>NaN</td>\n",
       "      <td>NaN</td>\n",
       "      <td>NaN</td>\n",
       "      <td>NaN</td>\n",
       "      <td>NaN</td>\n",
       "      <td>NaN</td>\n",
       "    </tr>\n",
       "    <tr>\n",
       "      <th>2016-01-01</th>\n",
       "      <td>NaN</td>\n",
       "      <td>1.52</td>\n",
       "      <td>3.60</td>\n",
       "      <td>0.18</td>\n",
       "      <td>NaN</td>\n",
       "      <td>NaN</td>\n",
       "      <td>69.25</td>\n",
       "      <td>NaN</td>\n",
       "      <td>NaN</td>\n",
       "      <td>15.14</td>\n",
       "      <td>...</td>\n",
       "      <td>NaN</td>\n",
       "      <td>NaN</td>\n",
       "      <td>NaN</td>\n",
       "      <td>NaN</td>\n",
       "      <td>NaN</td>\n",
       "      <td>NaN</td>\n",
       "      <td>NaN</td>\n",
       "      <td>NaN</td>\n",
       "      <td>NaN</td>\n",
       "      <td>NaN</td>\n",
       "    </tr>\n",
       "  </tbody>\n",
       "</table>\n",
       "<p>5 rows × 31 columns</p>\n",
       "</div>"
      ],
      "text/plain": [
       "                 PS2   X360     PS3    Wii     DS  PS     PS4  GBA   PSP  \\\n",
       "year_of_release                                                            \n",
       "2012-01-01       NaN  99.74  107.36  21.71  11.01 NaN     NaN  NaN  7.69   \n",
       "2013-01-01       NaN  88.58  113.25   8.59   1.54 NaN   25.99  NaN  3.14   \n",
       "2014-01-01       NaN  34.74   47.76   3.75    NaN NaN  100.00  NaN  0.24   \n",
       "2015-01-01       NaN  11.96   16.82   1.14    NaN NaN  118.90  NaN  0.12   \n",
       "2016-01-01       NaN   1.52    3.60   0.18    NaN NaN   69.25  NaN   NaN   \n",
       "\n",
       "                   3DS  ...  SAT  GEN  DC  SCD  NG  WS  TG16  3DO  GG  PCFX  \n",
       "year_of_release         ...                                                  \n",
       "2012-01-01       51.36  ...  NaN  NaN NaN  NaN NaN NaN   NaN  NaN NaN   NaN  \n",
       "2013-01-01       56.57  ...  NaN  NaN NaN  NaN NaN NaN   NaN  NaN NaN   NaN  \n",
       "2014-01-01       43.76  ...  NaN  NaN NaN  NaN NaN NaN   NaN  NaN NaN   NaN  \n",
       "2015-01-01       27.78  ...  NaN  NaN NaN  NaN NaN NaN   NaN  NaN NaN   NaN  \n",
       "2016-01-01       15.14  ...  NaN  NaN NaN  NaN NaN NaN   NaN  NaN NaN   NaN  \n",
       "\n",
       "[5 rows x 31 columns]"
      ]
     },
     "execution_count": 31,
     "metadata": {},
     "output_type": "execute_result"
    }
   ],
   "source": [
    "platforms_global = a[0]\n",
    "for i in range(len(a)):\n",
    "    if i < 30:\n",
    "        platforms_global = platforms_global.join(a[i+1], how='outer')\n",
    "platforms_global.tail()"
   ]
  },
  {
   "cell_type": "markdown",
   "id": "813bf662",
   "metadata": {},
   "source": [
    "Выберем шесть самых популярных платформ:"
   ]
  },
  {
   "cell_type": "code",
   "execution_count": 32,
   "id": "2d4aa3a7",
   "metadata": {},
   "outputs": [
    {
     "data": {
      "text/html": [
       "<div>\n",
       "<style scoped>\n",
       "    .dataframe tbody tr th:only-of-type {\n",
       "        vertical-align: middle;\n",
       "    }\n",
       "\n",
       "    .dataframe tbody tr th {\n",
       "        vertical-align: top;\n",
       "    }\n",
       "\n",
       "    .dataframe thead th {\n",
       "        text-align: right;\n",
       "    }\n",
       "</style>\n",
       "<table border=\"1\" class=\"dataframe\">\n",
       "  <thead>\n",
       "    <tr style=\"text-align: right;\">\n",
       "      <th></th>\n",
       "      <th>PS2</th>\n",
       "      <th>X360</th>\n",
       "      <th>Wii</th>\n",
       "      <th>PS3</th>\n",
       "      <th>DS</th>\n",
       "      <th>PS</th>\n",
       "    </tr>\n",
       "    <tr>\n",
       "      <th>year_of_release</th>\n",
       "      <th></th>\n",
       "      <th></th>\n",
       "      <th></th>\n",
       "      <th></th>\n",
       "      <th></th>\n",
       "      <th></th>\n",
       "    </tr>\n",
       "  </thead>\n",
       "  <tbody>\n",
       "    <tr>\n",
       "      <th>2012-01-01</th>\n",
       "      <td>NaN</td>\n",
       "      <td>99.74</td>\n",
       "      <td>21.71</td>\n",
       "      <td>107.36</td>\n",
       "      <td>11.01</td>\n",
       "      <td>NaN</td>\n",
       "    </tr>\n",
       "    <tr>\n",
       "      <th>2013-01-01</th>\n",
       "      <td>NaN</td>\n",
       "      <td>88.58</td>\n",
       "      <td>8.59</td>\n",
       "      <td>113.25</td>\n",
       "      <td>1.54</td>\n",
       "      <td>NaN</td>\n",
       "    </tr>\n",
       "    <tr>\n",
       "      <th>2014-01-01</th>\n",
       "      <td>NaN</td>\n",
       "      <td>34.74</td>\n",
       "      <td>3.75</td>\n",
       "      <td>47.76</td>\n",
       "      <td>NaN</td>\n",
       "      <td>NaN</td>\n",
       "    </tr>\n",
       "    <tr>\n",
       "      <th>2015-01-01</th>\n",
       "      <td>NaN</td>\n",
       "      <td>11.96</td>\n",
       "      <td>1.14</td>\n",
       "      <td>16.82</td>\n",
       "      <td>NaN</td>\n",
       "      <td>NaN</td>\n",
       "    </tr>\n",
       "    <tr>\n",
       "      <th>2016-01-01</th>\n",
       "      <td>NaN</td>\n",
       "      <td>1.52</td>\n",
       "      <td>0.18</td>\n",
       "      <td>3.60</td>\n",
       "      <td>NaN</td>\n",
       "      <td>NaN</td>\n",
       "    </tr>\n",
       "  </tbody>\n",
       "</table>\n",
       "</div>"
      ],
      "text/plain": [
       "                 PS2   X360    Wii     PS3     DS  PS\n",
       "year_of_release                                      \n",
       "2012-01-01       NaN  99.74  21.71  107.36  11.01 NaN\n",
       "2013-01-01       NaN  88.58   8.59  113.25   1.54 NaN\n",
       "2014-01-01       NaN  34.74   3.75   47.76    NaN NaN\n",
       "2015-01-01       NaN  11.96   1.14   16.82    NaN NaN\n",
       "2016-01-01       NaN   1.52   0.18    3.60    NaN NaN"
      ]
     },
     "execution_count": 32,
     "metadata": {},
     "output_type": "execute_result"
    }
   ],
   "source": [
    "popular_platforms = platforms_global[['PS2', 'X360', 'Wii', 'PS3', 'DS', 'PS']]\n",
    "popular_platforms.tail()"
   ]
  },
  {
   "cell_type": "code",
   "execution_count": 33,
   "id": "12ba3b68",
   "metadata": {},
   "outputs": [
    {
     "data": {
      "text/plain": [
       "Text(0, 0.5, 'Продажи (млн. шт.)')"
      ]
     },
     "execution_count": 33,
     "metadata": {},
     "output_type": "execute_result"
    },
    {
     "data": {
      "image/png": "[encoded data removed]",
      "text/plain": [
       "<Figure size 1080x360 with 1 Axes>"
      ]
     },
     "metadata": {
      "needs_background": "light"
     },
     "output_type": "display_data"
    }
   ],
   "source": [
    "popular_platforms.plot(style='x-', grid=True, figsize=(15, 5), xlim=('1993', '2016'))\n",
    "plt.xlabel('Год')\n",
    "plt.ylabel('Продажи (млн. шт.)')"
   ]
  },
  {
   "cell_type": "markdown",
   "id": "1dcc016d",
   "metadata": {},
   "source": [
    "Выводы: из графика можно увидеть, что в среднем за 5 лет происходит рост платформы, и также за 5 лет игровая платформа исчезает."
   ]
  },
  {
   "cell_type": "markdown",
   "id": "4ea4966a",
   "metadata": {},
   "source": [
    "### Построим прогноз на 2017 год"
   ]
  },
  {
   "cell_type": "markdown",
   "id": "27be6967",
   "metadata": {},
   "source": [
    "Актуальным периодом будем считать 5 лет, поэтому промежуток состовляет с 2012 по 2016 годы."
   ]
  },
  {
   "cell_type": "markdown",
   "id": "2aaad484",
   "metadata": {},
   "source": [
    "Сначала построим глобальный график по всем платформам чтобы увидеть общую картину."
   ]
  },
  {
   "cell_type": "code",
   "execution_count": 34,
   "id": "3dd0535e",
   "metadata": {},
   "outputs": [
    {
     "data": {
      "text/plain": [
       "Text(0, 0.5, 'Продажи (млн. шт.)')"
      ]
     },
     "execution_count": 34,
     "metadata": {},
     "output_type": "execute_result"
    },
    {
     "data": {
      "image/png": "[encoded data removed]",
      "text/plain": [
       "<Figure size 1224x648 with 1 Axes>"
      ]
     },
     "metadata": {
      "needs_background": "light"
     },
     "output_type": "display_data"
    }
   ],
   "source": [
    "platforms_global.plot(style='x-', grid=True, figsize=(17, 9))\n",
    "plt.xlabel('Год')\n",
    "plt.ylabel('Продажи (млн. шт.)')"
   ]
  },
  {
   "cell_type": "markdown",
   "id": "91dd5e3a",
   "metadata": {},
   "source": [
    "Рассмотрим детально последние 5 лет."
   ]
  },
  {
   "cell_type": "code",
   "execution_count": 35,
   "id": "7ec10533",
   "metadata": {},
   "outputs": [
    {
     "data": {
      "text/html": [
       "<div>\n",
       "<style scoped>\n",
       "    .dataframe tbody tr th:only-of-type {\n",
       "        vertical-align: middle;\n",
       "    }\n",
       "\n",
       "    .dataframe tbody tr th {\n",
       "        vertical-align: top;\n",
       "    }\n",
       "\n",
       "    .dataframe thead th {\n",
       "        text-align: right;\n",
       "    }\n",
       "</style>\n",
       "<table border=\"1\" class=\"dataframe\">\n",
       "  <thead>\n",
       "    <tr style=\"text-align: right;\">\n",
       "      <th></th>\n",
       "      <th>name</th>\n",
       "      <th>platform</th>\n",
       "      <th>year_of_release</th>\n",
       "      <th>genre</th>\n",
       "      <th>na_sales</th>\n",
       "      <th>eu_sales</th>\n",
       "      <th>jp_sales</th>\n",
       "      <th>other_sales</th>\n",
       "      <th>critic_score</th>\n",
       "      <th>user_score</th>\n",
       "      <th>rating</th>\n",
       "      <th>sales</th>\n",
       "    </tr>\n",
       "  </thead>\n",
       "  <tbody>\n",
       "    <tr>\n",
       "      <th>16</th>\n",
       "      <td>Grand Theft Auto V</td>\n",
       "      <td>PS3</td>\n",
       "      <td>2013-01-01</td>\n",
       "      <td>Action</td>\n",
       "      <td>7.02</td>\n",
       "      <td>9.09</td>\n",
       "      <td>0.98</td>\n",
       "      <td>3.96</td>\n",
       "      <td>97.0</td>\n",
       "      <td>8.2</td>\n",
       "      <td>M</td>\n",
       "      <td>21.05</td>\n",
       "    </tr>\n",
       "    <tr>\n",
       "      <th>23</th>\n",
       "      <td>Grand Theft Auto V</td>\n",
       "      <td>X360</td>\n",
       "      <td>2013-01-01</td>\n",
       "      <td>Action</td>\n",
       "      <td>9.66</td>\n",
       "      <td>5.14</td>\n",
       "      <td>0.06</td>\n",
       "      <td>1.41</td>\n",
       "      <td>97.0</td>\n",
       "      <td>8.1</td>\n",
       "      <td>M</td>\n",
       "      <td>16.27</td>\n",
       "    </tr>\n",
       "    <tr>\n",
       "      <th>31</th>\n",
       "      <td>Call of Duty: Black Ops 3</td>\n",
       "      <td>PS4</td>\n",
       "      <td>2015-01-01</td>\n",
       "      <td>Shooter</td>\n",
       "      <td>6.03</td>\n",
       "      <td>5.86</td>\n",
       "      <td>0.36</td>\n",
       "      <td>2.38</td>\n",
       "      <td>NaN</td>\n",
       "      <td>NaN</td>\n",
       "      <td>None</td>\n",
       "      <td>14.63</td>\n",
       "    </tr>\n",
       "    <tr>\n",
       "      <th>33</th>\n",
       "      <td>Pokemon X/Pokemon Y</td>\n",
       "      <td>3DS</td>\n",
       "      <td>2013-01-01</td>\n",
       "      <td>Role-Playing</td>\n",
       "      <td>5.28</td>\n",
       "      <td>4.19</td>\n",
       "      <td>4.35</td>\n",
       "      <td>0.78</td>\n",
       "      <td>NaN</td>\n",
       "      <td>NaN</td>\n",
       "      <td>None</td>\n",
       "      <td>14.60</td>\n",
       "    </tr>\n",
       "    <tr>\n",
       "      <th>34</th>\n",
       "      <td>Call of Duty: Black Ops II</td>\n",
       "      <td>PS3</td>\n",
       "      <td>2012-01-01</td>\n",
       "      <td>Shooter</td>\n",
       "      <td>4.99</td>\n",
       "      <td>5.73</td>\n",
       "      <td>0.65</td>\n",
       "      <td>2.42</td>\n",
       "      <td>83.0</td>\n",
       "      <td>5.3</td>\n",
       "      <td>M</td>\n",
       "      <td>13.79</td>\n",
       "    </tr>\n",
       "  </tbody>\n",
       "</table>\n",
       "</div>"
      ],
      "text/plain": [
       "                          name platform year_of_release         genre  \\\n",
       "16          Grand Theft Auto V      PS3      2013-01-01        Action   \n",
       "23          Grand Theft Auto V     X360      2013-01-01        Action   \n",
       "31   Call of Duty: Black Ops 3      PS4      2015-01-01       Shooter   \n",
       "33         Pokemon X/Pokemon Y      3DS      2013-01-01  Role-Playing   \n",
       "34  Call of Duty: Black Ops II      PS3      2012-01-01       Shooter   \n",
       "\n",
       "    na_sales  eu_sales  jp_sales  other_sales  critic_score  user_score  \\\n",
       "16      7.02      9.09      0.98         3.96          97.0         8.2   \n",
       "23      9.66      5.14      0.06         1.41          97.0         8.1   \n",
       "31      6.03      5.86      0.36         2.38           NaN         NaN   \n",
       "33      5.28      4.19      4.35         0.78           NaN         NaN   \n",
       "34      4.99      5.73      0.65         2.42          83.0         5.3   \n",
       "\n",
       "   rating  sales  \n",
       "16      M  21.05  \n",
       "23      M  16.27  \n",
       "31   None  14.63  \n",
       "33   None  14.60  \n",
       "34      M  13.79  "
      ]
     },
     "execution_count": 35,
     "metadata": {},
     "output_type": "execute_result"
    }
   ],
   "source": [
    "df_year = df.query('year_of_release >= 2012')\n",
    "df_year.head()"
   ]
  },
  {
   "cell_type": "code",
   "execution_count": 36,
   "id": "25ca3bc9",
   "metadata": {},
   "outputs": [
    {
     "data": {
      "text/html": [
       "<div>\n",
       "<style scoped>\n",
       "    .dataframe tbody tr th:only-of-type {\n",
       "        vertical-align: middle;\n",
       "    }\n",
       "\n",
       "    .dataframe tbody tr th {\n",
       "        vertical-align: top;\n",
       "    }\n",
       "\n",
       "    .dataframe thead th {\n",
       "        text-align: right;\n",
       "    }\n",
       "</style>\n",
       "<table border=\"1\" class=\"dataframe\">\n",
       "  <thead>\n",
       "    <tr style=\"text-align: right;\">\n",
       "      <th></th>\n",
       "      <th>platform</th>\n",
       "      <th>sales</th>\n",
       "    </tr>\n",
       "  </thead>\n",
       "  <tbody>\n",
       "    <tr>\n",
       "      <th>0</th>\n",
       "      <td>PS4</td>\n",
       "      <td>314.14</td>\n",
       "    </tr>\n",
       "    <tr>\n",
       "      <th>1</th>\n",
       "      <td>PS3</td>\n",
       "      <td>288.79</td>\n",
       "    </tr>\n",
       "    <tr>\n",
       "      <th>2</th>\n",
       "      <td>X360</td>\n",
       "      <td>236.54</td>\n",
       "    </tr>\n",
       "    <tr>\n",
       "      <th>3</th>\n",
       "      <td>3DS</td>\n",
       "      <td>194.61</td>\n",
       "    </tr>\n",
       "    <tr>\n",
       "      <th>4</th>\n",
       "      <td>XOne</td>\n",
       "      <td>159.32</td>\n",
       "    </tr>\n",
       "    <tr>\n",
       "      <th>5</th>\n",
       "      <td>WiiU</td>\n",
       "      <td>82.19</td>\n",
       "    </tr>\n",
       "    <tr>\n",
       "      <th>6</th>\n",
       "      <td>PC</td>\n",
       "      <td>62.65</td>\n",
       "    </tr>\n",
       "    <tr>\n",
       "      <th>7</th>\n",
       "      <td>PSV</td>\n",
       "      <td>49.18</td>\n",
       "    </tr>\n",
       "    <tr>\n",
       "      <th>8</th>\n",
       "      <td>Wii</td>\n",
       "      <td>35.37</td>\n",
       "    </tr>\n",
       "    <tr>\n",
       "      <th>9</th>\n",
       "      <td>DS</td>\n",
       "      <td>12.55</td>\n",
       "    </tr>\n",
       "    <tr>\n",
       "      <th>10</th>\n",
       "      <td>PSP</td>\n",
       "      <td>11.19</td>\n",
       "    </tr>\n",
       "  </tbody>\n",
       "</table>\n",
       "</div>"
      ],
      "text/plain": [
       "   platform   sales\n",
       "0       PS4  314.14\n",
       "1       PS3  288.79\n",
       "2      X360  236.54\n",
       "3       3DS  194.61\n",
       "4      XOne  159.32\n",
       "5      WiiU   82.19\n",
       "6        PC   62.65\n",
       "7       PSV   49.18\n",
       "8       Wii   35.37\n",
       "9        DS   12.55\n",
       "10      PSP   11.19"
      ]
     },
     "execution_count": 36,
     "metadata": {},
     "output_type": "execute_result"
    }
   ],
   "source": [
    "platforms_sales_2016 = df_year.pivot_table(index=['platform'], values='sales', aggfunc='sum').sort_values('sales', ascending=False).reset_index()\n",
    "platforms_sales_2016.head(11)"
   ]
  },
  {
   "cell_type": "code",
   "execution_count": 37,
   "id": "280dd74b",
   "metadata": {},
   "outputs": [
    {
     "data": {
      "text/html": [
       "<div>\n",
       "<style scoped>\n",
       "    .dataframe tbody tr th:only-of-type {\n",
       "        vertical-align: middle;\n",
       "    }\n",
       "\n",
       "    .dataframe tbody tr th {\n",
       "        vertical-align: top;\n",
       "    }\n",
       "\n",
       "    .dataframe thead th {\n",
       "        text-align: right;\n",
       "    }\n",
       "</style>\n",
       "<table border=\"1\" class=\"dataframe\">\n",
       "  <thead>\n",
       "    <tr style=\"text-align: right;\">\n",
       "      <th></th>\n",
       "      <th>X360</th>\n",
       "      <th>PS3</th>\n",
       "      <th>Wii</th>\n",
       "      <th>DS</th>\n",
       "      <th>PS4</th>\n",
       "      <th>PSP</th>\n",
       "      <th>3DS</th>\n",
       "      <th>PC</th>\n",
       "      <th>XOne</th>\n",
       "      <th>WiiU</th>\n",
       "      <th>PSV</th>\n",
       "    </tr>\n",
       "    <tr>\n",
       "      <th>year_of_release</th>\n",
       "      <th></th>\n",
       "      <th></th>\n",
       "      <th></th>\n",
       "      <th></th>\n",
       "      <th></th>\n",
       "      <th></th>\n",
       "      <th></th>\n",
       "      <th></th>\n",
       "      <th></th>\n",
       "      <th></th>\n",
       "      <th></th>\n",
       "    </tr>\n",
       "  </thead>\n",
       "  <tbody>\n",
       "    <tr>\n",
       "      <th>2012-01-01</th>\n",
       "      <td>99.74</td>\n",
       "      <td>107.36</td>\n",
       "      <td>21.71</td>\n",
       "      <td>11.01</td>\n",
       "      <td>NaN</td>\n",
       "      <td>7.69</td>\n",
       "      <td>51.36</td>\n",
       "      <td>23.22</td>\n",
       "      <td>NaN</td>\n",
       "      <td>17.56</td>\n",
       "      <td>16.19</td>\n",
       "    </tr>\n",
       "    <tr>\n",
       "      <th>2013-01-01</th>\n",
       "      <td>88.58</td>\n",
       "      <td>113.25</td>\n",
       "      <td>8.59</td>\n",
       "      <td>1.54</td>\n",
       "      <td>25.99</td>\n",
       "      <td>3.14</td>\n",
       "      <td>56.57</td>\n",
       "      <td>12.38</td>\n",
       "      <td>18.96</td>\n",
       "      <td>21.65</td>\n",
       "      <td>10.59</td>\n",
       "    </tr>\n",
       "    <tr>\n",
       "      <th>2014-01-01</th>\n",
       "      <td>34.74</td>\n",
       "      <td>47.76</td>\n",
       "      <td>3.75</td>\n",
       "      <td>NaN</td>\n",
       "      <td>100.00</td>\n",
       "      <td>0.24</td>\n",
       "      <td>43.76</td>\n",
       "      <td>13.28</td>\n",
       "      <td>54.07</td>\n",
       "      <td>22.03</td>\n",
       "      <td>11.90</td>\n",
       "    </tr>\n",
       "    <tr>\n",
       "      <th>2015-01-01</th>\n",
       "      <td>11.96</td>\n",
       "      <td>16.82</td>\n",
       "      <td>1.14</td>\n",
       "      <td>NaN</td>\n",
       "      <td>118.90</td>\n",
       "      <td>0.12</td>\n",
       "      <td>27.78</td>\n",
       "      <td>8.52</td>\n",
       "      <td>60.14</td>\n",
       "      <td>16.35</td>\n",
       "      <td>6.25</td>\n",
       "    </tr>\n",
       "    <tr>\n",
       "      <th>2016-01-01</th>\n",
       "      <td>1.52</td>\n",
       "      <td>3.60</td>\n",
       "      <td>0.18</td>\n",
       "      <td>NaN</td>\n",
       "      <td>69.25</td>\n",
       "      <td>NaN</td>\n",
       "      <td>15.14</td>\n",
       "      <td>5.25</td>\n",
       "      <td>26.15</td>\n",
       "      <td>4.60</td>\n",
       "      <td>4.25</td>\n",
       "    </tr>\n",
       "  </tbody>\n",
       "</table>\n",
       "</div>"
      ],
      "text/plain": [
       "                  X360     PS3    Wii     DS     PS4   PSP    3DS     PC  \\\n",
       "year_of_release                                                            \n",
       "2012-01-01       99.74  107.36  21.71  11.01     NaN  7.69  51.36  23.22   \n",
       "2013-01-01       88.58  113.25   8.59   1.54   25.99  3.14  56.57  12.38   \n",
       "2014-01-01       34.74   47.76   3.75    NaN  100.00  0.24  43.76  13.28   \n",
       "2015-01-01       11.96   16.82   1.14    NaN  118.90  0.12  27.78   8.52   \n",
       "2016-01-01        1.52    3.60   0.18    NaN   69.25   NaN  15.14   5.25   \n",
       "\n",
       "                  XOne   WiiU    PSV  \n",
       "year_of_release                       \n",
       "2012-01-01         NaN  17.56  16.19  \n",
       "2013-01-01       18.96  21.65  10.59  \n",
       "2014-01-01       54.07  22.03  11.90  \n",
       "2015-01-01       60.14  16.35   6.25  \n",
       "2016-01-01       26.15   4.60   4.25  "
      ]
     },
     "execution_count": 37,
     "metadata": {},
     "output_type": "execute_result"
    }
   ],
   "source": [
    "popular_platforms_2016 = platforms_global.query('year_of_release >= 2012').dropna(axis=1, how='all')\n",
    "popular_platforms_2016"
   ]
  },
  {
   "cell_type": "code",
   "execution_count": 38,
   "id": "58a2a11f",
   "metadata": {},
   "outputs": [
    {
     "data": {
      "text/plain": [
       "Text(0, 0.5, 'Продажи (млн. шт.)')"
      ]
     },
     "execution_count": 38,
     "metadata": {},
     "output_type": "execute_result"
    },
    {
     "data": {
      "image/png": "[encoded data removed]",
      "text/plain": [
       "<Figure size 1080x720 with 1 Axes>"
      ]
     },
     "metadata": {
      "needs_background": "light"
     },
     "output_type": "display_data"
    }
   ],
   "source": [
    "popular_platforms_2016.plot(style='x-', grid=True, figsize=(15, 10))\n",
    "plt.xlabel('Год')\n",
    "plt.ylabel('Продажи (млн. шт.)')"
   ]
  },
  {
   "cell_type": "markdown",
   "id": "467b9432",
   "metadata": {},
   "source": [
    "Вывод: Лидирует по продажам платформа PS4. Продажи на всех платформах сейчас снижаются и можем предположить что продолжат снижаться в 2017 году, но у PS4 и XOne до 2015 года наблюдался рост продаж, а в 2016 году они упали, в целом, эти две платформы остаются потенциально прибильными."
   ]
  },
  {
   "cell_type": "markdown",
   "id": "09329124",
   "metadata": {},
   "source": [
    "### Построим график «ящик с усами» по глобальным продажам игр в разбивке по платформам. "
   ]
  },
  {
   "cell_type": "code",
   "execution_count": 39,
   "id": "91f54d82",
   "metadata": {},
   "outputs": [
    {
     "data": {
      "text/plain": [
       "Text(0, 0.5, 'Продажи (млн. шт.)')"
      ]
     },
     "execution_count": 39,
     "metadata": {},
     "output_type": "execute_result"
    },
    {
     "data": {
      "image/png": "[encoded data removed]",
      "text/plain": [
       "<Figure size 1224x504 with 1 Axes>"
      ]
     },
     "metadata": {
      "needs_background": "light"
     },
     "output_type": "display_data"
    }
   ],
   "source": [
    "df_year.boxplot(figsize=(17, 7), column='sales', by='platform')\n",
    "plt.xlabel('Платформы')\n",
    "plt.ylabel('Продажи (млн. шт.)')"
   ]
  },
  {
   "cell_type": "code",
   "execution_count": 40,
   "id": "32fbfe04",
   "metadata": {},
   "outputs": [
    {
     "data": {
      "text/plain": [
       "(0.0, 2.1)"
      ]
     },
     "execution_count": 40,
     "metadata": {},
     "output_type": "execute_result"
    },
    {
     "data": {
      "image/png": "[encoded data removed]",
      "text/plain": [
       "<Figure size 1224x504 with 1 Axes>"
      ]
     },
     "metadata": {
      "needs_background": "light"
     },
     "output_type": "display_data"
    }
   ],
   "source": [
    "df_year.boxplot(figsize=(17, 7), column='sales', by='platform')\n",
    "plt.xlabel('Платформы')\n",
    "plt.ylabel('Продажи (млн. шт.)')\n",
    "plt.ylim(0, 2.1)"
   ]
  },
  {
   "cell_type": "code",
   "execution_count": 41,
   "id": "781525e1",
   "metadata": {},
   "outputs": [
    {
     "data": {
      "text/plain": [
       "Text(0, 0.5, 'Продажи (млн. шт.)')"
      ]
     },
     "execution_count": 41,
     "metadata": {},
     "output_type": "execute_result"
    },
    {
     "data": {
      "image/png": "[encoded data removed]",
      "text/plain": [
       "<Figure size 1224x504 with 1 Axes>"
      ]
     },
     "metadata": {
      "needs_background": "light"
     },
     "output_type": "display_data"
    }
   ],
   "source": [
    "popular_platforms_2016.boxplot(figsize=(17, 7))\n",
    "plt.xlabel('Платформы')\n",
    "plt.ylabel('Продажи (млн. шт.)')"
   ]
  },
  {
   "cell_type": "markdown",
   "id": "cfa4c4e1",
   "metadata": {},
   "source": [
    "Вывод: На некоторых платформах существуют игры с большим количеством продаж, существенно превышающие средние значения. "
   ]
  },
  {
   "cell_type": "markdown",
   "id": "d6aa1f04",
   "metadata": {},
   "source": [
    "### Как влияют на продажи внутри одной популярной платформы отзывы пользователей и критиков. "
   ]
  },
  {
   "cell_type": "markdown",
   "id": "cfa8b3eb",
   "metadata": {},
   "source": [
    "Самой популярной платформой в период с 2012 по 2016 год была PS4:"
   ]
  },
  {
   "cell_type": "code",
   "execution_count": 42,
   "id": "44d88683",
   "metadata": {},
   "outputs": [
    {
     "data": {
      "text/html": [
       "<div>\n",
       "<style scoped>\n",
       "    .dataframe tbody tr th:only-of-type {\n",
       "        vertical-align: middle;\n",
       "    }\n",
       "\n",
       "    .dataframe tbody tr th {\n",
       "        vertical-align: top;\n",
       "    }\n",
       "\n",
       "    .dataframe thead th {\n",
       "        text-align: right;\n",
       "    }\n",
       "</style>\n",
       "<table border=\"1\" class=\"dataframe\">\n",
       "  <thead>\n",
       "    <tr style=\"text-align: right;\">\n",
       "      <th></th>\n",
       "      <th>critic_score</th>\n",
       "      <th>sales</th>\n",
       "    </tr>\n",
       "  </thead>\n",
       "  <tbody>\n",
       "    <tr>\n",
       "      <th>247</th>\n",
       "      <td>92.0</td>\n",
       "      <td>3.97</td>\n",
       "    </tr>\n",
       "    <tr>\n",
       "      <th>248</th>\n",
       "      <td>92.0</td>\n",
       "      <td>2.48</td>\n",
       "    </tr>\n",
       "    <tr>\n",
       "      <th>249</th>\n",
       "      <td>93.0</td>\n",
       "      <td>3.42</td>\n",
       "    </tr>\n",
       "    <tr>\n",
       "      <th>250</th>\n",
       "      <td>93.0</td>\n",
       "      <td>5.39</td>\n",
       "    </tr>\n",
       "    <tr>\n",
       "      <th>251</th>\n",
       "      <td>97.0</td>\n",
       "      <td>12.62</td>\n",
       "    </tr>\n",
       "  </tbody>\n",
       "</table>\n",
       "</div>"
      ],
      "text/plain": [
       "     critic_score  sales\n",
       "247          92.0   3.97\n",
       "248          92.0   2.48\n",
       "249          93.0   3.42\n",
       "250          93.0   5.39\n",
       "251          97.0  12.62"
      ]
     },
     "execution_count": 42,
     "metadata": {},
     "output_type": "execute_result"
    }
   ],
   "source": [
    "df_critic_score = df_year.query('platform == \"PS4\"')\n",
    "df_critic_score = df_critic_score[['critic_score', 'sales']].dropna().sort_values('critic_score').reset_index(drop=True)\n",
    "df_critic_score.tail()"
   ]
  },
  {
   "cell_type": "code",
   "execution_count": 88,
   "id": "323e4b6c",
   "metadata": {},
   "outputs": [
    {
     "data": {
      "text/plain": [
       "Timestamp('2012-01-01 00:00:00')"
      ]
     },
     "execution_count": 88,
     "metadata": {},
     "output_type": "execute_result"
    }
   ],
   "source": [
    "df_year.year_of_release.min()"
   ]
  },
  {
   "cell_type": "code",
   "execution_count": 44,
   "id": "f1f8bdf5",
   "metadata": {},
   "outputs": [
    {
     "data": {
      "text/plain": [
       "<AxesSubplot:xlabel='critic_score', ylabel='sales'>"
      ]
     },
     "execution_count": 44,
     "metadata": {},
     "output_type": "execute_result"
    },
    {
     "data": {
      "image/png": "[encoded data removed]",
      "text/plain": [
       "<Figure size 432x288 with 1 Axes>"
      ]
     },
     "metadata": {
      "needs_background": "light"
     },
     "output_type": "display_data"
    }
   ],
   "source": [
    "df_critic_score.plot(x='critic_score', y='sales', kind='scatter', alpha=0.25)"
   ]
  },
  {
   "cell_type": "code",
   "execution_count": 45,
   "id": "c3feb967",
   "metadata": {},
   "outputs": [
    {
     "data": {
      "text/plain": [
       "0.40656790206178167"
      ]
     },
     "execution_count": 45,
     "metadata": {},
     "output_type": "execute_result"
    }
   ],
   "source": [
    "df_critic_score['critic_score'].corr(df_critic_score['sales'])"
   ]
  },
  {
   "cell_type": "code",
   "execution_count": 46,
   "id": "fbadd7f8",
   "metadata": {},
   "outputs": [
    {
     "data": {
      "text/html": [
       "<div>\n",
       "<style scoped>\n",
       "    .dataframe tbody tr th:only-of-type {\n",
       "        vertical-align: middle;\n",
       "    }\n",
       "\n",
       "    .dataframe tbody tr th {\n",
       "        vertical-align: top;\n",
       "    }\n",
       "\n",
       "    .dataframe thead th {\n",
       "        text-align: right;\n",
       "    }\n",
       "</style>\n",
       "<table border=\"1\" class=\"dataframe\">\n",
       "  <thead>\n",
       "    <tr style=\"text-align: right;\">\n",
       "      <th></th>\n",
       "      <th>user_score</th>\n",
       "      <th>sales</th>\n",
       "    </tr>\n",
       "  </thead>\n",
       "  <tbody>\n",
       "    <tr>\n",
       "      <th>252</th>\n",
       "      <td>8.7</td>\n",
       "      <td>0.15</td>\n",
       "    </tr>\n",
       "    <tr>\n",
       "      <th>253</th>\n",
       "      <td>8.7</td>\n",
       "      <td>0.42</td>\n",
       "    </tr>\n",
       "    <tr>\n",
       "      <th>254</th>\n",
       "      <td>8.7</td>\n",
       "      <td>0.36</td>\n",
       "    </tr>\n",
       "    <tr>\n",
       "      <th>255</th>\n",
       "      <td>8.8</td>\n",
       "      <td>1.66</td>\n",
       "    </tr>\n",
       "    <tr>\n",
       "      <th>256</th>\n",
       "      <td>9.2</td>\n",
       "      <td>3.97</td>\n",
       "    </tr>\n",
       "  </tbody>\n",
       "</table>\n",
       "</div>"
      ],
      "text/plain": [
       "     user_score  sales\n",
       "252         8.7   0.15\n",
       "253         8.7   0.42\n",
       "254         8.7   0.36\n",
       "255         8.8   1.66\n",
       "256         9.2   3.97"
      ]
     },
     "execution_count": 46,
     "metadata": {},
     "output_type": "execute_result"
    }
   ],
   "source": [
    "df_user_score = df_year.query('platform == \"PS4\"')\n",
    "df_user_score = df_user_score[['user_score', 'sales']].dropna().sort_values('user_score').reset_index(drop=True)\n",
    "df_user_score.tail()"
   ]
  },
  {
   "cell_type": "code",
   "execution_count": 47,
   "id": "d2a47428",
   "metadata": {},
   "outputs": [
    {
     "data": {
      "text/plain": [
       "<AxesSubplot:xlabel='user_score', ylabel='sales'>"
      ]
     },
     "execution_count": 47,
     "metadata": {},
     "output_type": "execute_result"
    },
    {
     "data": {
      "image/png": "[encoded data removed]",
      "text/plain": [
       "<Figure size 432x288 with 1 Axes>"
      ]
     },
     "metadata": {
      "needs_background": "light"
     },
     "output_type": "display_data"
    }
   ],
   "source": [
    "df_user_score.plot(x='user_score', y='sales', kind='scatter', alpha=0.2)"
   ]
  },
  {
   "cell_type": "code",
   "execution_count": 48,
   "id": "b529992c",
   "metadata": {},
   "outputs": [
    {
     "data": {
      "text/plain": [
       "-0.03195711020455643"
      ]
     },
     "execution_count": 48,
     "metadata": {},
     "output_type": "execute_result"
    }
   ],
   "source": [
    "df_user_score['user_score'].corr(df_user_score['sales'])"
   ]
  },
  {
   "cell_type": "markdown",
   "id": "d7d12ec6",
   "metadata": {},
   "source": [
    "Вывод: существует корреляция продаж с отзывами критиков, а вот с отзывами пользователей она почти отсутствует."
   ]
  },
  {
   "cell_type": "markdown",
   "id": "655d299c",
   "metadata": {},
   "source": [
    "###  Продажи игр на других платформах"
   ]
  },
  {
   "cell_type": "code",
   "execution_count": 49,
   "id": "5c869460",
   "metadata": {},
   "outputs": [
    {
     "data": {
      "text/html": [
       "<div>\n",
       "<style scoped>\n",
       "    .dataframe tbody tr th:only-of-type {\n",
       "        vertical-align: middle;\n",
       "    }\n",
       "\n",
       "    .dataframe tbody tr th {\n",
       "        vertical-align: top;\n",
       "    }\n",
       "\n",
       "    .dataframe thead th {\n",
       "        text-align: right;\n",
       "    }\n",
       "</style>\n",
       "<table border=\"1\" class=\"dataframe\">\n",
       "  <thead>\n",
       "    <tr style=\"text-align: right;\">\n",
       "      <th></th>\n",
       "      <th>critic_score</th>\n",
       "      <th>sales</th>\n",
       "    </tr>\n",
       "  </thead>\n",
       "  <tbody>\n",
       "    <tr>\n",
       "      <th>209</th>\n",
       "      <td>93.0</td>\n",
       "      <td>1.42</td>\n",
       "    </tr>\n",
       "    <tr>\n",
       "      <th>210</th>\n",
       "      <td>93.0</td>\n",
       "      <td>0.41</td>\n",
       "    </tr>\n",
       "    <tr>\n",
       "      <th>211</th>\n",
       "      <td>94.0</td>\n",
       "      <td>1.69</td>\n",
       "    </tr>\n",
       "    <tr>\n",
       "      <th>212</th>\n",
       "      <td>95.0</td>\n",
       "      <td>5.86</td>\n",
       "    </tr>\n",
       "    <tr>\n",
       "      <th>213</th>\n",
       "      <td>97.0</td>\n",
       "      <td>21.05</td>\n",
       "    </tr>\n",
       "  </tbody>\n",
       "</table>\n",
       "</div>"
      ],
      "text/plain": [
       "     critic_score  sales\n",
       "209          93.0   1.42\n",
       "210          93.0   0.41\n",
       "211          94.0   1.69\n",
       "212          95.0   5.86\n",
       "213          97.0  21.05"
      ]
     },
     "execution_count": 49,
     "metadata": {},
     "output_type": "execute_result"
    }
   ],
   "source": [
    "df_critic_score = df_year.query('platform == \"PS3\"')\n",
    "df_critic_score = df_critic_score[['critic_score', 'sales']].dropna().sort_values('critic_score').reset_index(drop=True)\n",
    "df_critic_score.tail()"
   ]
  },
  {
   "cell_type": "code",
   "execution_count": 50,
   "id": "d47dad3f",
   "metadata": {},
   "outputs": [
    {
     "data": {
      "text/plain": [
       "0.3314972592629591"
      ]
     },
     "execution_count": 50,
     "metadata": {},
     "output_type": "execute_result"
    }
   ],
   "source": [
    "df_critic_score['critic_score'].corr(df_critic_score['sales'])"
   ]
  },
  {
   "cell_type": "code",
   "execution_count": 51,
   "id": "4b0b0b90",
   "metadata": {},
   "outputs": [
    {
     "data": {
      "text/html": [
       "<div>\n",
       "<style scoped>\n",
       "    .dataframe tbody tr th:only-of-type {\n",
       "        vertical-align: middle;\n",
       "    }\n",
       "\n",
       "    .dataframe tbody tr th {\n",
       "        vertical-align: top;\n",
       "    }\n",
       "\n",
       "    .dataframe thead th {\n",
       "        text-align: right;\n",
       "    }\n",
       "</style>\n",
       "<table border=\"1\" class=\"dataframe\">\n",
       "  <thead>\n",
       "    <tr style=\"text-align: right;\">\n",
       "      <th></th>\n",
       "      <th>user_score</th>\n",
       "      <th>sales</th>\n",
       "    </tr>\n",
       "  </thead>\n",
       "  <tbody>\n",
       "    <tr>\n",
       "      <th>278</th>\n",
       "      <td>8.7</td>\n",
       "      <td>0.43</td>\n",
       "    </tr>\n",
       "    <tr>\n",
       "      <th>279</th>\n",
       "      <td>8.8</td>\n",
       "      <td>0.81</td>\n",
       "    </tr>\n",
       "    <tr>\n",
       "      <th>280</th>\n",
       "      <td>8.8</td>\n",
       "      <td>0.21</td>\n",
       "    </tr>\n",
       "    <tr>\n",
       "      <th>281</th>\n",
       "      <td>9.0</td>\n",
       "      <td>0.41</td>\n",
       "    </tr>\n",
       "    <tr>\n",
       "      <th>282</th>\n",
       "      <td>9.1</td>\n",
       "      <td>5.86</td>\n",
       "    </tr>\n",
       "  </tbody>\n",
       "</table>\n",
       "</div>"
      ],
      "text/plain": [
       "     user_score  sales\n",
       "278         8.7   0.43\n",
       "279         8.8   0.81\n",
       "280         8.8   0.21\n",
       "281         9.0   0.41\n",
       "282         9.1   5.86"
      ]
     },
     "execution_count": 51,
     "metadata": {},
     "output_type": "execute_result"
    }
   ],
   "source": [
    "df_user_score = df_year.query('platform == \"PS3\"')\n",
    "df_user_score = df_user_score[['user_score', 'sales']].dropna().sort_values('user_score').reset_index(drop=True)\n",
    "df_user_score.tail()"
   ]
  },
  {
   "cell_type": "code",
   "execution_count": 52,
   "id": "f5ec2c24",
   "metadata": {},
   "outputs": [
    {
     "data": {
      "text/plain": [
       "-0.005143522887113798"
      ]
     },
     "execution_count": 52,
     "metadata": {},
     "output_type": "execute_result"
    }
   ],
   "source": [
    "df_user_score['user_score'].corr(df_user_score['sales'])"
   ]
  },
  {
   "cell_type": "code",
   "execution_count": 53,
   "id": "ad470da4",
   "metadata": {},
   "outputs": [
    {
     "data": {
      "text/html": [
       "<div>\n",
       "<style scoped>\n",
       "    .dataframe tbody tr th:only-of-type {\n",
       "        vertical-align: middle;\n",
       "    }\n",
       "\n",
       "    .dataframe tbody tr th {\n",
       "        vertical-align: top;\n",
       "    }\n",
       "\n",
       "    .dataframe thead th {\n",
       "        text-align: right;\n",
       "    }\n",
       "</style>\n",
       "<table border=\"1\" class=\"dataframe\">\n",
       "  <thead>\n",
       "    <tr style=\"text-align: right;\">\n",
       "      <th></th>\n",
       "      <th></th>\n",
       "      <th>corr</th>\n",
       "    </tr>\n",
       "    <tr>\n",
       "      <th>platform</th>\n",
       "      <th></th>\n",
       "      <th></th>\n",
       "    </tr>\n",
       "  </thead>\n",
       "  <tbody>\n",
       "    <tr>\n",
       "      <th rowspan=\"3\" valign=\"top\">3DS</th>\n",
       "      <th>critic_score</th>\n",
       "      <td>0.320803</td>\n",
       "    </tr>\n",
       "    <tr>\n",
       "      <th>user_score</th>\n",
       "      <td>0.197583</td>\n",
       "    </tr>\n",
       "    <tr>\n",
       "      <th>sales</th>\n",
       "      <td>1.000000</td>\n",
       "    </tr>\n",
       "    <tr>\n",
       "      <th rowspan=\"2\" valign=\"top\">DS</th>\n",
       "      <th>user_score</th>\n",
       "      <td>0.882709</td>\n",
       "    </tr>\n",
       "    <tr>\n",
       "      <th>sales</th>\n",
       "      <td>1.000000</td>\n",
       "    </tr>\n",
       "    <tr>\n",
       "      <th rowspan=\"3\" valign=\"top\">PC</th>\n",
       "      <th>critic_score</th>\n",
       "      <td>0.237243</td>\n",
       "    </tr>\n",
       "    <tr>\n",
       "      <th>user_score</th>\n",
       "      <td>-0.121867</td>\n",
       "    </tr>\n",
       "    <tr>\n",
       "      <th>sales</th>\n",
       "      <td>1.000000</td>\n",
       "    </tr>\n",
       "    <tr>\n",
       "      <th rowspan=\"3\" valign=\"top\">PS3</th>\n",
       "      <th>critic_score</th>\n",
       "      <td>0.331497</td>\n",
       "    </tr>\n",
       "    <tr>\n",
       "      <th>user_score</th>\n",
       "      <td>-0.005144</td>\n",
       "    </tr>\n",
       "    <tr>\n",
       "      <th>sales</th>\n",
       "      <td>1.000000</td>\n",
       "    </tr>\n",
       "    <tr>\n",
       "      <th rowspan=\"3\" valign=\"top\">PS4</th>\n",
       "      <th>critic_score</th>\n",
       "      <td>0.406568</td>\n",
       "    </tr>\n",
       "    <tr>\n",
       "      <th>user_score</th>\n",
       "      <td>-0.031957</td>\n",
       "    </tr>\n",
       "    <tr>\n",
       "      <th>sales</th>\n",
       "      <td>1.000000</td>\n",
       "    </tr>\n",
       "    <tr>\n",
       "      <th rowspan=\"2\" valign=\"top\">PSP</th>\n",
       "      <th>user_score</th>\n",
       "      <td>-0.802302</td>\n",
       "    </tr>\n",
       "    <tr>\n",
       "      <th>sales</th>\n",
       "      <td>1.000000</td>\n",
       "    </tr>\n",
       "    <tr>\n",
       "      <th rowspan=\"3\" valign=\"top\">PSV</th>\n",
       "      <th>critic_score</th>\n",
       "      <td>0.094488</td>\n",
       "    </tr>\n",
       "    <tr>\n",
       "      <th>user_score</th>\n",
       "      <td>-0.004339</td>\n",
       "    </tr>\n",
       "    <tr>\n",
       "      <th>sales</th>\n",
       "      <td>1.000000</td>\n",
       "    </tr>\n",
       "    <tr>\n",
       "      <th rowspan=\"3\" valign=\"top\">Wii</th>\n",
       "      <th>critic_score</th>\n",
       "      <td>-0.424341</td>\n",
       "    </tr>\n",
       "    <tr>\n",
       "      <th>user_score</th>\n",
       "      <td>0.296197</td>\n",
       "    </tr>\n",
       "    <tr>\n",
       "      <th>sales</th>\n",
       "      <td>1.000000</td>\n",
       "    </tr>\n",
       "    <tr>\n",
       "      <th rowspan=\"3\" valign=\"top\">WiiU</th>\n",
       "      <th>critic_score</th>\n",
       "      <td>0.348380</td>\n",
       "    </tr>\n",
       "    <tr>\n",
       "      <th>user_score</th>\n",
       "      <td>0.400219</td>\n",
       "    </tr>\n",
       "    <tr>\n",
       "      <th>sales</th>\n",
       "      <td>1.000000</td>\n",
       "    </tr>\n",
       "    <tr>\n",
       "      <th rowspan=\"3\" valign=\"top\">X360</th>\n",
       "      <th>critic_score</th>\n",
       "      <td>0.360573</td>\n",
       "    </tr>\n",
       "    <tr>\n",
       "      <th>user_score</th>\n",
       "      <td>0.006164</td>\n",
       "    </tr>\n",
       "    <tr>\n",
       "      <th>sales</th>\n",
       "      <td>1.000000</td>\n",
       "    </tr>\n",
       "    <tr>\n",
       "      <th rowspan=\"3\" valign=\"top\">XOne</th>\n",
       "      <th>critic_score</th>\n",
       "      <td>0.416998</td>\n",
       "    </tr>\n",
       "    <tr>\n",
       "      <th>user_score</th>\n",
       "      <td>-0.068925</td>\n",
       "    </tr>\n",
       "    <tr>\n",
       "      <th>sales</th>\n",
       "      <td>1.000000</td>\n",
       "    </tr>\n",
       "  </tbody>\n",
       "</table>\n",
       "</div>"
      ],
      "text/plain": [
       "                           corr\n",
       "platform                       \n",
       "3DS      critic_score  0.320803\n",
       "         user_score    0.197583\n",
       "         sales         1.000000\n",
       "DS       user_score    0.882709\n",
       "         sales         1.000000\n",
       "PC       critic_score  0.237243\n",
       "         user_score   -0.121867\n",
       "         sales         1.000000\n",
       "PS3      critic_score  0.331497\n",
       "         user_score   -0.005144\n",
       "         sales         1.000000\n",
       "PS4      critic_score  0.406568\n",
       "         user_score   -0.031957\n",
       "         sales         1.000000\n",
       "PSP      user_score   -0.802302\n",
       "         sales         1.000000\n",
       "PSV      critic_score  0.094488\n",
       "         user_score   -0.004339\n",
       "         sales         1.000000\n",
       "Wii      critic_score -0.424341\n",
       "         user_score    0.296197\n",
       "         sales         1.000000\n",
       "WiiU     critic_score  0.348380\n",
       "         user_score    0.400219\n",
       "         sales         1.000000\n",
       "X360     critic_score  0.360573\n",
       "         user_score    0.006164\n",
       "         sales         1.000000\n",
       "XOne     critic_score  0.416998\n",
       "         user_score   -0.068925\n",
       "         sales         1.000000"
      ]
     },
     "execution_count": 53,
     "metadata": {},
     "output_type": "execute_result"
    }
   ],
   "source": [
    "df_critic = df_year.pivot_table(index=['platform'], values=['critic_score', 'user_score', 'sales'], aggfunc='corr')\n",
    "df_critic = df_critic.drop(['critic_score','user_score'], axis=1)\n",
    "df_critic.columns = ['corr']\n",
    "df_critic.head(35)"
   ]
  },
  {
   "cell_type": "markdown",
   "id": "7512fd99",
   "metadata": {},
   "source": [
    "Вывод: получили аналогичный результат, рейтинг критиков коррелирует сильнее рейтинга пользователей в основном у всех топовых платформ таких как: PS4, PS3,X360,3DS и XOne. А на платформах с малым количеством игр мало оценок рейтингов и погрешность в корреляции может быть в таком случае большой."
   ]
  },
  {
   "cell_type": "markdown",
   "id": "b623ab16",
   "metadata": {},
   "source": [
    "### Общее распределение игр по жанрам"
   ]
  },
  {
   "cell_type": "code",
   "execution_count": 54,
   "id": "d3ab24e1",
   "metadata": {},
   "outputs": [
    {
     "data": {
      "text/html": [
       "<div>\n",
       "<style scoped>\n",
       "    .dataframe tbody tr th:only-of-type {\n",
       "        vertical-align: middle;\n",
       "    }\n",
       "\n",
       "    .dataframe tbody tr th {\n",
       "        vertical-align: top;\n",
       "    }\n",
       "\n",
       "    .dataframe thead th {\n",
       "        text-align: right;\n",
       "    }\n",
       "</style>\n",
       "<table border=\"1\" class=\"dataframe\">\n",
       "  <thead>\n",
       "    <tr style=\"text-align: right;\">\n",
       "      <th></th>\n",
       "      <th>sales</th>\n",
       "    </tr>\n",
       "    <tr>\n",
       "      <th>genre</th>\n",
       "      <th></th>\n",
       "    </tr>\n",
       "  </thead>\n",
       "  <tbody>\n",
       "    <tr>\n",
       "      <th>Action</th>\n",
       "      <td>441.12</td>\n",
       "    </tr>\n",
       "    <tr>\n",
       "      <th>Shooter</th>\n",
       "      <td>304.73</td>\n",
       "    </tr>\n",
       "    <tr>\n",
       "      <th>Role-Playing</th>\n",
       "      <td>192.80</td>\n",
       "    </tr>\n",
       "    <tr>\n",
       "      <th>Sports</th>\n",
       "      <td>181.07</td>\n",
       "    </tr>\n",
       "    <tr>\n",
       "      <th>Misc</th>\n",
       "      <td>85.04</td>\n",
       "    </tr>\n",
       "  </tbody>\n",
       "</table>\n",
       "</div>"
      ],
      "text/plain": [
       "               sales\n",
       "genre               \n",
       "Action        441.12\n",
       "Shooter       304.73\n",
       "Role-Playing  192.80\n",
       "Sports        181.07\n",
       "Misc           85.04"
      ]
     },
     "execution_count": 54,
     "metadata": {},
     "output_type": "execute_result"
    }
   ],
   "source": [
    "genre_top = df_year.pivot_table(index='genre', values='sales', aggfunc='sum').sort_values('sales', ascending=False)\n",
    "genre_top.head()"
   ]
  },
  {
   "cell_type": "code",
   "execution_count": 55,
   "id": "34723adf",
   "metadata": {},
   "outputs": [],
   "source": [
    "top = df_year.pivot_table(index=['genre'], values='name', aggfunc='count').sort_values('name', ascending=False)"
   ]
  },
  {
   "cell_type": "code",
   "execution_count": 56,
   "id": "3f6057b4",
   "metadata": {},
   "outputs": [],
   "source": [
    "genre_top = genre_top.join(top).reset_index()"
   ]
  },
  {
   "cell_type": "code",
   "execution_count": 57,
   "id": "ccece6fe",
   "metadata": {},
   "outputs": [
    {
     "data": {
      "text/html": [
       "<div>\n",
       "<style scoped>\n",
       "    .dataframe tbody tr th:only-of-type {\n",
       "        vertical-align: middle;\n",
       "    }\n",
       "\n",
       "    .dataframe tbody tr th {\n",
       "        vertical-align: top;\n",
       "    }\n",
       "\n",
       "    .dataframe thead tr th {\n",
       "        text-align: left;\n",
       "    }\n",
       "</style>\n",
       "<table border=\"1\" class=\"dataframe\">\n",
       "  <thead>\n",
       "    <tr>\n",
       "      <th></th>\n",
       "      <th>genre</th>\n",
       "      <th>sales</th>\n",
       "      <th>count</th>\n",
       "    </tr>\n",
       "  </thead>\n",
       "  <tbody>\n",
       "    <tr>\n",
       "      <th>0</th>\n",
       "      <td>Action</td>\n",
       "      <td>441.12</td>\n",
       "      <td>1031</td>\n",
       "    </tr>\n",
       "    <tr>\n",
       "      <th>1</th>\n",
       "      <td>Shooter</td>\n",
       "      <td>304.73</td>\n",
       "      <td>235</td>\n",
       "    </tr>\n",
       "    <tr>\n",
       "      <th>2</th>\n",
       "      <td>Role-Playing</td>\n",
       "      <td>192.80</td>\n",
       "      <td>370</td>\n",
       "    </tr>\n",
       "    <tr>\n",
       "      <th>3</th>\n",
       "      <td>Sports</td>\n",
       "      <td>181.07</td>\n",
       "      <td>268</td>\n",
       "    </tr>\n",
       "    <tr>\n",
       "      <th>4</th>\n",
       "      <td>Misc</td>\n",
       "      <td>85.04</td>\n",
       "      <td>192</td>\n",
       "    </tr>\n",
       "    <tr>\n",
       "      <th>5</th>\n",
       "      <td>Platform</td>\n",
       "      <td>61.00</td>\n",
       "      <td>85</td>\n",
       "    </tr>\n",
       "    <tr>\n",
       "      <th>6</th>\n",
       "      <td>Racing</td>\n",
       "      <td>53.50</td>\n",
       "      <td>115</td>\n",
       "    </tr>\n",
       "    <tr>\n",
       "      <th>7</th>\n",
       "      <td>Fighting</td>\n",
       "      <td>44.49</td>\n",
       "      <td>109</td>\n",
       "    </tr>\n",
       "    <tr>\n",
       "      <th>8</th>\n",
       "      <td>Simulation</td>\n",
       "      <td>35.12</td>\n",
       "      <td>80</td>\n",
       "    </tr>\n",
       "    <tr>\n",
       "      <th>9</th>\n",
       "      <td>Adventure</td>\n",
       "      <td>29.43</td>\n",
       "      <td>302</td>\n",
       "    </tr>\n",
       "    <tr>\n",
       "      <th>10</th>\n",
       "      <td>Strategy</td>\n",
       "      <td>13.34</td>\n",
       "      <td>71</td>\n",
       "    </tr>\n",
       "    <tr>\n",
       "      <th>11</th>\n",
       "      <td>Puzzle</td>\n",
       "      <td>4.89</td>\n",
       "      <td>28</td>\n",
       "    </tr>\n",
       "  </tbody>\n",
       "</table>\n",
       "</div>"
      ],
      "text/plain": [
       "           genre   sales count\n",
       "0         Action  441.12  1031\n",
       "1        Shooter  304.73   235\n",
       "2   Role-Playing  192.80   370\n",
       "3         Sports  181.07   268\n",
       "4           Misc   85.04   192\n",
       "5       Platform   61.00    85\n",
       "6         Racing   53.50   115\n",
       "7       Fighting   44.49   109\n",
       "8     Simulation   35.12    80\n",
       "9      Adventure   29.43   302\n",
       "10      Strategy   13.34    71\n",
       "11        Puzzle    4.89    28"
      ]
     },
     "execution_count": 57,
     "metadata": {},
     "output_type": "execute_result"
    }
   ],
   "source": [
    "genre_top.columns = [['genre', 'sales', 'count']]\n",
    "genre_top"
   ]
  },
  {
   "cell_type": "markdown",
   "id": "241bdd35",
   "metadata": {},
   "source": [
    "Самый прибыльный жанр Action, самый менее прибыльный Puzzle."
   ]
  },
  {
   "cell_type": "code",
   "execution_count": 58,
   "id": "11a578e8",
   "metadata": {},
   "outputs": [
    {
     "data": {
      "text/html": [
       "<div>\n",
       "<style scoped>\n",
       "    .dataframe tbody tr th:only-of-type {\n",
       "        vertical-align: middle;\n",
       "    }\n",
       "\n",
       "    .dataframe tbody tr th {\n",
       "        vertical-align: top;\n",
       "    }\n",
       "\n",
       "    .dataframe thead th {\n",
       "        text-align: right;\n",
       "    }\n",
       "</style>\n",
       "<table border=\"1\" class=\"dataframe\">\n",
       "  <thead>\n",
       "    <tr style=\"text-align: right;\">\n",
       "      <th></th>\n",
       "      <th>name</th>\n",
       "      <th>platform</th>\n",
       "      <th>year_of_release</th>\n",
       "      <th>genre</th>\n",
       "      <th>na_sales</th>\n",
       "      <th>eu_sales</th>\n",
       "      <th>jp_sales</th>\n",
       "      <th>other_sales</th>\n",
       "      <th>critic_score</th>\n",
       "      <th>user_score</th>\n",
       "      <th>rating</th>\n",
       "      <th>sales</th>\n",
       "    </tr>\n",
       "  </thead>\n",
       "  <tbody>\n",
       "    <tr>\n",
       "      <th>16</th>\n",
       "      <td>Grand Theft Auto V</td>\n",
       "      <td>PS3</td>\n",
       "      <td>2013-01-01</td>\n",
       "      <td>Action</td>\n",
       "      <td>7.02</td>\n",
       "      <td>9.09</td>\n",
       "      <td>0.98</td>\n",
       "      <td>3.96</td>\n",
       "      <td>97.0</td>\n",
       "      <td>8.2</td>\n",
       "      <td>M</td>\n",
       "      <td>21.05</td>\n",
       "    </tr>\n",
       "    <tr>\n",
       "      <th>23</th>\n",
       "      <td>Grand Theft Auto V</td>\n",
       "      <td>X360</td>\n",
       "      <td>2013-01-01</td>\n",
       "      <td>Action</td>\n",
       "      <td>9.66</td>\n",
       "      <td>5.14</td>\n",
       "      <td>0.06</td>\n",
       "      <td>1.41</td>\n",
       "      <td>97.0</td>\n",
       "      <td>8.1</td>\n",
       "      <td>M</td>\n",
       "      <td>16.27</td>\n",
       "    </tr>\n",
       "    <tr>\n",
       "      <th>42</th>\n",
       "      <td>Grand Theft Auto V</td>\n",
       "      <td>PS4</td>\n",
       "      <td>2014-01-01</td>\n",
       "      <td>Action</td>\n",
       "      <td>3.96</td>\n",
       "      <td>6.31</td>\n",
       "      <td>0.38</td>\n",
       "      <td>1.97</td>\n",
       "      <td>97.0</td>\n",
       "      <td>8.3</td>\n",
       "      <td>M</td>\n",
       "      <td>12.62</td>\n",
       "    </tr>\n",
       "    <tr>\n",
       "      <th>81</th>\n",
       "      <td>FIFA Soccer 13</td>\n",
       "      <td>PS3</td>\n",
       "      <td>2012-01-01</td>\n",
       "      <td>Action</td>\n",
       "      <td>1.06</td>\n",
       "      <td>5.01</td>\n",
       "      <td>0.13</td>\n",
       "      <td>1.97</td>\n",
       "      <td>88.0</td>\n",
       "      <td>6.6</td>\n",
       "      <td>E</td>\n",
       "      <td>8.17</td>\n",
       "    </tr>\n",
       "    <tr>\n",
       "      <th>127</th>\n",
       "      <td>Assassin's Creed III</td>\n",
       "      <td>PS3</td>\n",
       "      <td>2012-01-01</td>\n",
       "      <td>Action</td>\n",
       "      <td>2.64</td>\n",
       "      <td>2.52</td>\n",
       "      <td>0.16</td>\n",
       "      <td>1.12</td>\n",
       "      <td>85.0</td>\n",
       "      <td>6.9</td>\n",
       "      <td>M</td>\n",
       "      <td>6.44</td>\n",
       "    </tr>\n",
       "  </tbody>\n",
       "</table>\n",
       "</div>"
      ],
      "text/plain": [
       "                     name platform year_of_release   genre  na_sales  \\\n",
       "16     Grand Theft Auto V      PS3      2013-01-01  Action      7.02   \n",
       "23     Grand Theft Auto V     X360      2013-01-01  Action      9.66   \n",
       "42     Grand Theft Auto V      PS4      2014-01-01  Action      3.96   \n",
       "81         FIFA Soccer 13      PS3      2012-01-01  Action      1.06   \n",
       "127  Assassin's Creed III      PS3      2012-01-01  Action      2.64   \n",
       "\n",
       "     eu_sales  jp_sales  other_sales  critic_score  user_score rating  sales  \n",
       "16       9.09      0.98         3.96          97.0         8.2      M  21.05  \n",
       "23       5.14      0.06         1.41          97.0         8.1      M  16.27  \n",
       "42       6.31      0.38         1.97          97.0         8.3      M  12.62  \n",
       "81       5.01      0.13         1.97          88.0         6.6      E   8.17  \n",
       "127      2.52      0.16         1.12          85.0         6.9      M   6.44  "
      ]
     },
     "execution_count": 58,
     "metadata": {},
     "output_type": "execute_result"
    }
   ],
   "source": [
    "df_action = df_year.query('genre == \"Action\"')\n",
    "df_action.head()"
   ]
  },
  {
   "cell_type": "code",
   "execution_count": 59,
   "id": "daca8897",
   "metadata": {},
   "outputs": [
    {
     "data": {
      "text/html": [
       "<div>\n",
       "<style scoped>\n",
       "    .dataframe tbody tr th:only-of-type {\n",
       "        vertical-align: middle;\n",
       "    }\n",
       "\n",
       "    .dataframe tbody tr th {\n",
       "        vertical-align: top;\n",
       "    }\n",
       "\n",
       "    .dataframe thead th {\n",
       "        text-align: right;\n",
       "    }\n",
       "</style>\n",
       "<table border=\"1\" class=\"dataframe\">\n",
       "  <thead>\n",
       "    <tr style=\"text-align: right;\">\n",
       "      <th></th>\n",
       "      <th>name</th>\n",
       "      <th>platform</th>\n",
       "      <th>year_of_release</th>\n",
       "      <th>genre</th>\n",
       "      <th>na_sales</th>\n",
       "      <th>eu_sales</th>\n",
       "      <th>jp_sales</th>\n",
       "      <th>other_sales</th>\n",
       "      <th>critic_score</th>\n",
       "      <th>user_score</th>\n",
       "      <th>rating</th>\n",
       "      <th>sales</th>\n",
       "    </tr>\n",
       "  </thead>\n",
       "  <tbody>\n",
       "    <tr>\n",
       "      <th>1672</th>\n",
       "      <td>Captain Toad: Treasure Tracker</td>\n",
       "      <td>WiiU</td>\n",
       "      <td>2014-01-01</td>\n",
       "      <td>Puzzle</td>\n",
       "      <td>0.53</td>\n",
       "      <td>0.38</td>\n",
       "      <td>0.19</td>\n",
       "      <td>0.09</td>\n",
       "      <td>81.0</td>\n",
       "      <td>8.6</td>\n",
       "      <td>E</td>\n",
       "      <td>1.19</td>\n",
       "    </tr>\n",
       "    <tr>\n",
       "      <th>2524</th>\n",
       "      <td>Professor Layton vs Phoenix Wright: Ace Attorney</td>\n",
       "      <td>3DS</td>\n",
       "      <td>2012-01-01</td>\n",
       "      <td>Puzzle</td>\n",
       "      <td>0.20</td>\n",
       "      <td>0.26</td>\n",
       "      <td>0.30</td>\n",
       "      <td>0.04</td>\n",
       "      <td>79.0</td>\n",
       "      <td>8.5</td>\n",
       "      <td>T</td>\n",
       "      <td>0.80</td>\n",
       "    </tr>\n",
       "    <tr>\n",
       "      <th>2677</th>\n",
       "      <td>Professor Layton and the Azran Legacy</td>\n",
       "      <td>3DS</td>\n",
       "      <td>2013-01-01</td>\n",
       "      <td>Puzzle</td>\n",
       "      <td>0.00</td>\n",
       "      <td>0.48</td>\n",
       "      <td>0.25</td>\n",
       "      <td>0.03</td>\n",
       "      <td>81.0</td>\n",
       "      <td>7.9</td>\n",
       "      <td>E10+</td>\n",
       "      <td>0.76</td>\n",
       "    </tr>\n",
       "    <tr>\n",
       "      <th>3014</th>\n",
       "      <td>Puzzler Brain Games</td>\n",
       "      <td>Wii</td>\n",
       "      <td>2012-01-01</td>\n",
       "      <td>Puzzle</td>\n",
       "      <td>0.00</td>\n",
       "      <td>0.00</td>\n",
       "      <td>0.66</td>\n",
       "      <td>0.00</td>\n",
       "      <td>NaN</td>\n",
       "      <td>NaN</td>\n",
       "      <td>None</td>\n",
       "      <td>0.66</td>\n",
       "    </tr>\n",
       "    <tr>\n",
       "      <th>4018</th>\n",
       "      <td>Puzzle &amp; Dragons Z + Super Mario Bros. Edition</td>\n",
       "      <td>3DS</td>\n",
       "      <td>2015-01-01</td>\n",
       "      <td>Puzzle</td>\n",
       "      <td>0.06</td>\n",
       "      <td>0.07</td>\n",
       "      <td>0.34</td>\n",
       "      <td>0.01</td>\n",
       "      <td>NaN</td>\n",
       "      <td>NaN</td>\n",
       "      <td>None</td>\n",
       "      <td>0.48</td>\n",
       "    </tr>\n",
       "  </tbody>\n",
       "</table>\n",
       "</div>"
      ],
      "text/plain": [
       "                                                  name platform  \\\n",
       "1672                    Captain Toad: Treasure Tracker     WiiU   \n",
       "2524  Professor Layton vs Phoenix Wright: Ace Attorney      3DS   \n",
       "2677             Professor Layton and the Azran Legacy      3DS   \n",
       "3014                               Puzzler Brain Games      Wii   \n",
       "4018    Puzzle & Dragons Z + Super Mario Bros. Edition      3DS   \n",
       "\n",
       "     year_of_release   genre  na_sales  eu_sales  jp_sales  other_sales  \\\n",
       "1672      2014-01-01  Puzzle      0.53      0.38      0.19         0.09   \n",
       "2524      2012-01-01  Puzzle      0.20      0.26      0.30         0.04   \n",
       "2677      2013-01-01  Puzzle      0.00      0.48      0.25         0.03   \n",
       "3014      2012-01-01  Puzzle      0.00      0.00      0.66         0.00   \n",
       "4018      2015-01-01  Puzzle      0.06      0.07      0.34         0.01   \n",
       "\n",
       "      critic_score  user_score rating  sales  \n",
       "1672          81.0         8.6      E   1.19  \n",
       "2524          79.0         8.5      T   0.80  \n",
       "2677          81.0         7.9   E10+   0.76  \n",
       "3014           NaN         NaN   None   0.66  \n",
       "4018           NaN         NaN   None   0.48  "
      ]
     },
     "execution_count": 59,
     "metadata": {},
     "output_type": "execute_result"
    }
   ],
   "source": [
    "df_puzzle = df_year.query('genre == \"Puzzle\"')\n",
    "df_puzzle.head()"
   ]
  },
  {
   "cell_type": "code",
   "execution_count": 60,
   "id": "28dc991c",
   "metadata": {},
   "outputs": [
    {
     "data": {
      "text/plain": [
       "0.12"
      ]
     },
     "execution_count": 60,
     "metadata": {},
     "output_type": "execute_result"
    }
   ],
   "source": [
    "df_action['sales'].median()"
   ]
  },
  {
   "cell_type": "code",
   "execution_count": 61,
   "id": "dea834cb",
   "metadata": {},
   "outputs": [
    {
     "data": {
      "text/plain": [
       "73.0"
      ]
     },
     "execution_count": 61,
     "metadata": {},
     "output_type": "execute_result"
    }
   ],
   "source": [
    "df_action['critic_score'].median()"
   ]
  },
  {
   "cell_type": "code",
   "execution_count": 62,
   "id": "18827b0e",
   "metadata": {},
   "outputs": [
    {
     "data": {
      "text/plain": [
       "0.045"
      ]
     },
     "execution_count": 62,
     "metadata": {},
     "output_type": "execute_result"
    }
   ],
   "source": [
    "df_puzzle['sales'].median()"
   ]
  },
  {
   "cell_type": "code",
   "execution_count": 63,
   "id": "13a9596f",
   "metadata": {},
   "outputs": [
    {
     "data": {
      "text/plain": [
       "71.0"
      ]
     },
     "execution_count": 63,
     "metadata": {},
     "output_type": "execute_result"
    }
   ],
   "source": [
    "df_puzzle['critic_score'].median()"
   ]
  },
  {
   "cell_type": "markdown",
   "id": "ff3b31f8",
   "metadata": {},
   "source": [
    "Вывод: медианные значения продаж и рейтинга больше у топового жанра Action."
   ]
  },
  {
   "cell_type": "markdown",
   "id": "931bada2",
   "metadata": {},
   "source": [
    "## Портрет пользователя каждого региона"
   ]
  },
  {
   "cell_type": "markdown",
   "id": "4b6878e2",
   "metadata": {},
   "source": [
    "### Самые популярные платформы (топ-5)"
   ]
  },
  {
   "cell_type": "code",
   "execution_count": 64,
   "id": "af35e8e6",
   "metadata": {},
   "outputs": [
    {
     "data": {
      "text/html": [
       "<div>\n",
       "<style scoped>\n",
       "    .dataframe tbody tr th:only-of-type {\n",
       "        vertical-align: middle;\n",
       "    }\n",
       "\n",
       "    .dataframe tbody tr th {\n",
       "        vertical-align: top;\n",
       "    }\n",
       "\n",
       "    .dataframe thead th {\n",
       "        text-align: right;\n",
       "    }\n",
       "</style>\n",
       "<table border=\"1\" class=\"dataframe\">\n",
       "  <thead>\n",
       "    <tr style=\"text-align: right;\">\n",
       "      <th></th>\n",
       "      <th>platform</th>\n",
       "      <th>eu_sales</th>\n",
       "      <th>jp_sales</th>\n",
       "      <th>na_sales</th>\n",
       "    </tr>\n",
       "  </thead>\n",
       "  <tbody>\n",
       "    <tr>\n",
       "      <th>0</th>\n",
       "      <td>3DS</td>\n",
       "      <td>42.64</td>\n",
       "      <td>87.79</td>\n",
       "      <td>55.31</td>\n",
       "    </tr>\n",
       "    <tr>\n",
       "      <th>1</th>\n",
       "      <td>DS</td>\n",
       "      <td>3.53</td>\n",
       "      <td>3.72</td>\n",
       "      <td>4.59</td>\n",
       "    </tr>\n",
       "    <tr>\n",
       "      <th>2</th>\n",
       "      <td>PC</td>\n",
       "      <td>37.76</td>\n",
       "      <td>0.00</td>\n",
       "      <td>19.12</td>\n",
       "    </tr>\n",
       "    <tr>\n",
       "      <th>3</th>\n",
       "      <td>PS3</td>\n",
       "      <td>106.86</td>\n",
       "      <td>35.29</td>\n",
       "      <td>103.38</td>\n",
       "    </tr>\n",
       "    <tr>\n",
       "      <th>4</th>\n",
       "      <td>PS4</td>\n",
       "      <td>141.09</td>\n",
       "      <td>15.96</td>\n",
       "      <td>108.74</td>\n",
       "    </tr>\n",
       "    <tr>\n",
       "      <th>5</th>\n",
       "      <td>PSP</td>\n",
       "      <td>0.42</td>\n",
       "      <td>10.47</td>\n",
       "      <td>0.13</td>\n",
       "    </tr>\n",
       "    <tr>\n",
       "      <th>6</th>\n",
       "      <td>PSV</td>\n",
       "      <td>11.36</td>\n",
       "      <td>21.04</td>\n",
       "      <td>10.98</td>\n",
       "    </tr>\n",
       "    <tr>\n",
       "      <th>7</th>\n",
       "      <td>Wii</td>\n",
       "      <td>11.92</td>\n",
       "      <td>3.39</td>\n",
       "      <td>17.45</td>\n",
       "    </tr>\n",
       "    <tr>\n",
       "      <th>8</th>\n",
       "      <td>WiiU</td>\n",
       "      <td>25.13</td>\n",
       "      <td>13.01</td>\n",
       "      <td>38.10</td>\n",
       "    </tr>\n",
       "    <tr>\n",
       "      <th>9</th>\n",
       "      <td>X360</td>\n",
       "      <td>74.52</td>\n",
       "      <td>1.57</td>\n",
       "      <td>140.05</td>\n",
       "    </tr>\n",
       "    <tr>\n",
       "      <th>10</th>\n",
       "      <td>XOne</td>\n",
       "      <td>51.59</td>\n",
       "      <td>0.34</td>\n",
       "      <td>93.12</td>\n",
       "    </tr>\n",
       "  </tbody>\n",
       "</table>\n",
       "</div>"
      ],
      "text/plain": [
       "   platform  eu_sales  jp_sales  na_sales\n",
       "0       3DS     42.64     87.79     55.31\n",
       "1        DS      3.53      3.72      4.59\n",
       "2        PC     37.76      0.00     19.12\n",
       "3       PS3    106.86     35.29    103.38\n",
       "4       PS4    141.09     15.96    108.74\n",
       "5       PSP      0.42     10.47      0.13\n",
       "6       PSV     11.36     21.04     10.98\n",
       "7       Wii     11.92      3.39     17.45\n",
       "8      WiiU     25.13     13.01     38.10\n",
       "9      X360     74.52      1.57    140.05\n",
       "10     XOne     51.59      0.34     93.12"
      ]
     },
     "execution_count": 64,
     "metadata": {},
     "output_type": "execute_result"
    }
   ],
   "source": [
    "platform_top = df_year.pivot_table(index=['platform'], values=['na_sales', 'eu_sales', 'jp_sales'], aggfunc='sum').reset_index()\n",
    "platform_top.head(11)"
   ]
  },
  {
   "cell_type": "code",
   "execution_count": 65,
   "id": "2c14dc9b",
   "metadata": {},
   "outputs": [],
   "source": [
    "jp_sales_sum = platform_top['jp_sales'].sum()"
   ]
  },
  {
   "cell_type": "code",
   "execution_count": 66,
   "id": "271dbef9",
   "metadata": {},
   "outputs": [],
   "source": [
    "na_sales_sum = platform_top['na_sales'].sum()"
   ]
  },
  {
   "cell_type": "code",
   "execution_count": 67,
   "id": "1ede56e3",
   "metadata": {},
   "outputs": [],
   "source": [
    "eu_sales_sum = platform_top['eu_sales'].sum()"
   ]
  },
  {
   "cell_type": "markdown",
   "id": "60a1bac3",
   "metadata": {},
   "source": [
    "Найдем доли продаж для каждого региона выраженного в процентах:"
   ]
  },
  {
   "cell_type": "code",
   "execution_count": 68,
   "id": "2998f543",
   "metadata": {},
   "outputs": [
    {
     "data": {
      "text/html": [
       "<div>\n",
       "<style scoped>\n",
       "    .dataframe tbody tr th:only-of-type {\n",
       "        vertical-align: middle;\n",
       "    }\n",
       "\n",
       "    .dataframe tbody tr th {\n",
       "        vertical-align: top;\n",
       "    }\n",
       "\n",
       "    .dataframe thead th {\n",
       "        text-align: right;\n",
       "    }\n",
       "</style>\n",
       "<table border=\"1\" class=\"dataframe\">\n",
       "  <thead>\n",
       "    <tr style=\"text-align: right;\">\n",
       "      <th></th>\n",
       "      <th>platform</th>\n",
       "      <th>na_sales</th>\n",
       "    </tr>\n",
       "  </thead>\n",
       "  <tbody>\n",
       "    <tr>\n",
       "      <th>0</th>\n",
       "      <td>X360</td>\n",
       "      <td>23.698326</td>\n",
       "    </tr>\n",
       "    <tr>\n",
       "      <th>1</th>\n",
       "      <td>PS4</td>\n",
       "      <td>18.400257</td>\n",
       "    </tr>\n",
       "    <tr>\n",
       "      <th>2</th>\n",
       "      <td>PS3</td>\n",
       "      <td>17.493274</td>\n",
       "    </tr>\n",
       "    <tr>\n",
       "      <th>3</th>\n",
       "      <td>XOne</td>\n",
       "      <td>15.757145</td>\n",
       "    </tr>\n",
       "    <tr>\n",
       "      <th>4</th>\n",
       "      <td>3DS</td>\n",
       "      <td>9.359189</td>\n",
       "    </tr>\n",
       "  </tbody>\n",
       "</table>\n",
       "</div>"
      ],
      "text/plain": [
       "  platform   na_sales\n",
       "0     X360  23.698326\n",
       "1      PS4  18.400257\n",
       "2      PS3  17.493274\n",
       "3     XOne  15.757145\n",
       "4      3DS   9.359189"
      ]
     },
     "execution_count": 68,
     "metadata": {},
     "output_type": "execute_result"
    }
   ],
   "source": [
    "platform_top_na = platform_top[['platform', 'na_sales']].sort_values('na_sales', ascending=False).reset_index(drop=True)\n",
    "platform_top_na['na_sales'] = platform_top_na['na_sales'] / na_sales_sum * 100\n",
    "platform_top_na.head()"
   ]
  },
  {
   "cell_type": "code",
   "execution_count": 69,
   "id": "823e7fd3",
   "metadata": {},
   "outputs": [
    {
     "data": {
      "text/html": [
       "<div>\n",
       "<style scoped>\n",
       "    .dataframe tbody tr th:only-of-type {\n",
       "        vertical-align: middle;\n",
       "    }\n",
       "\n",
       "    .dataframe tbody tr th {\n",
       "        vertical-align: top;\n",
       "    }\n",
       "\n",
       "    .dataframe thead th {\n",
       "        text-align: right;\n",
       "    }\n",
       "</style>\n",
       "<table border=\"1\" class=\"dataframe\">\n",
       "  <thead>\n",
       "    <tr style=\"text-align: right;\">\n",
       "      <th></th>\n",
       "      <th>platform</th>\n",
       "      <th>jp_sales</th>\n",
       "    </tr>\n",
       "  </thead>\n",
       "  <tbody>\n",
       "    <tr>\n",
       "      <th>0</th>\n",
       "      <td>3DS</td>\n",
       "      <td>45.586250</td>\n",
       "    </tr>\n",
       "    <tr>\n",
       "      <th>1</th>\n",
       "      <td>PS3</td>\n",
       "      <td>18.324852</td>\n",
       "    </tr>\n",
       "    <tr>\n",
       "      <th>2</th>\n",
       "      <td>PSV</td>\n",
       "      <td>10.925330</td>\n",
       "    </tr>\n",
       "    <tr>\n",
       "      <th>3</th>\n",
       "      <td>PS4</td>\n",
       "      <td>8.287465</td>\n",
       "    </tr>\n",
       "    <tr>\n",
       "      <th>4</th>\n",
       "      <td>WiiU</td>\n",
       "      <td>6.755634</td>\n",
       "    </tr>\n",
       "  </tbody>\n",
       "</table>\n",
       "</div>"
      ],
      "text/plain": [
       "  platform   jp_sales\n",
       "0      3DS  45.586250\n",
       "1      PS3  18.324852\n",
       "2      PSV  10.925330\n",
       "3      PS4   8.287465\n",
       "4     WiiU   6.755634"
      ]
     },
     "execution_count": 69,
     "metadata": {},
     "output_type": "execute_result"
    }
   ],
   "source": [
    "platform_top_jp = platform_top[['platform', 'jp_sales']].sort_values('jp_sales', ascending=False).reset_index(drop=True)\n",
    "platform_top_jp['jp_sales'] = platform_top_jp['jp_sales'] / jp_sales_sum * 100\n",
    "platform_top_jp.head()"
   ]
  },
  {
   "cell_type": "code",
   "execution_count": 70,
   "id": "5fc136c5",
   "metadata": {},
   "outputs": [
    {
     "data": {
      "text/html": [
       "<div>\n",
       "<style scoped>\n",
       "    .dataframe tbody tr th:only-of-type {\n",
       "        vertical-align: middle;\n",
       "    }\n",
       "\n",
       "    .dataframe tbody tr th {\n",
       "        vertical-align: top;\n",
       "    }\n",
       "\n",
       "    .dataframe thead th {\n",
       "        text-align: right;\n",
       "    }\n",
       "</style>\n",
       "<table border=\"1\" class=\"dataframe\">\n",
       "  <thead>\n",
       "    <tr style=\"text-align: right;\">\n",
       "      <th></th>\n",
       "      <th>platform</th>\n",
       "      <th>eu_sales</th>\n",
       "    </tr>\n",
       "  </thead>\n",
       "  <tbody>\n",
       "    <tr>\n",
       "      <th>0</th>\n",
       "      <td>PS4</td>\n",
       "      <td>27.838286</td>\n",
       "    </tr>\n",
       "    <tr>\n",
       "      <th>1</th>\n",
       "      <td>PS3</td>\n",
       "      <td>21.084409</td>\n",
       "    </tr>\n",
       "    <tr>\n",
       "      <th>2</th>\n",
       "      <td>X360</td>\n",
       "      <td>14.703445</td>\n",
       "    </tr>\n",
       "    <tr>\n",
       "      <th>3</th>\n",
       "      <td>XOne</td>\n",
       "      <td>10.179156</td>\n",
       "    </tr>\n",
       "    <tr>\n",
       "      <th>4</th>\n",
       "      <td>3DS</td>\n",
       "      <td>8.413243</td>\n",
       "    </tr>\n",
       "  </tbody>\n",
       "</table>\n",
       "</div>"
      ],
      "text/plain": [
       "  platform   eu_sales\n",
       "0      PS4  27.838286\n",
       "1      PS3  21.084409\n",
       "2     X360  14.703445\n",
       "3     XOne  10.179156\n",
       "4      3DS   8.413243"
      ]
     },
     "execution_count": 70,
     "metadata": {},
     "output_type": "execute_result"
    }
   ],
   "source": [
    "platform_top_eu = platform_top[['platform', 'eu_sales']].sort_values('eu_sales', ascending=False).reset_index(drop=True)\n",
    "platform_top_eu['eu_sales'] = platform_top_eu['eu_sales'] / eu_sales_sum * 100\n",
    "platform_top_eu.head()"
   ]
  },
  {
   "cell_type": "markdown",
   "id": "2e391ac6",
   "metadata": {},
   "source": [
    "Вывод: доли продаж в каждом регионе сильно разнятся, как и популярные платформы."
   ]
  },
  {
   "cell_type": "markdown",
   "id": "1c8f8ffd",
   "metadata": {},
   "source": [
    "### Самые популярные жанры (топ-5)"
   ]
  },
  {
   "cell_type": "code",
   "execution_count": 71,
   "id": "3c587068",
   "metadata": {},
   "outputs": [
    {
     "data": {
      "text/html": [
       "<div>\n",
       "<style scoped>\n",
       "    .dataframe tbody tr th:only-of-type {\n",
       "        vertical-align: middle;\n",
       "    }\n",
       "\n",
       "    .dataframe tbody tr th {\n",
       "        vertical-align: top;\n",
       "    }\n",
       "\n",
       "    .dataframe thead th {\n",
       "        text-align: right;\n",
       "    }\n",
       "</style>\n",
       "<table border=\"1\" class=\"dataframe\">\n",
       "  <thead>\n",
       "    <tr style=\"text-align: right;\">\n",
       "      <th></th>\n",
       "      <th>genre</th>\n",
       "      <th>eu_sales</th>\n",
       "      <th>jp_sales</th>\n",
       "      <th>na_sales</th>\n",
       "      <th>sales</th>\n",
       "    </tr>\n",
       "  </thead>\n",
       "  <tbody>\n",
       "    <tr>\n",
       "      <th>0</th>\n",
       "      <td>Action</td>\n",
       "      <td>159.34</td>\n",
       "      <td>52.80</td>\n",
       "      <td>177.84</td>\n",
       "      <td>441.12</td>\n",
       "    </tr>\n",
       "    <tr>\n",
       "      <th>1</th>\n",
       "      <td>Adventure</td>\n",
       "      <td>9.46</td>\n",
       "      <td>8.24</td>\n",
       "      <td>8.92</td>\n",
       "      <td>29.43</td>\n",
       "    </tr>\n",
       "    <tr>\n",
       "      <th>2</th>\n",
       "      <td>Fighting</td>\n",
       "      <td>10.79</td>\n",
       "      <td>9.44</td>\n",
       "      <td>19.79</td>\n",
       "      <td>44.49</td>\n",
       "    </tr>\n",
       "    <tr>\n",
       "      <th>3</th>\n",
       "      <td>Misc</td>\n",
       "      <td>26.32</td>\n",
       "      <td>12.86</td>\n",
       "      <td>38.19</td>\n",
       "      <td>85.04</td>\n",
       "    </tr>\n",
       "    <tr>\n",
       "      <th>4</th>\n",
       "      <td>Platform</td>\n",
       "      <td>21.41</td>\n",
       "      <td>8.63</td>\n",
       "      <td>25.38</td>\n",
       "      <td>61.00</td>\n",
       "    </tr>\n",
       "  </tbody>\n",
       "</table>\n",
       "</div>"
      ],
      "text/plain": [
       "       genre  eu_sales  jp_sales  na_sales   sales\n",
       "0     Action    159.34     52.80    177.84  441.12\n",
       "1  Adventure      9.46      8.24      8.92   29.43\n",
       "2   Fighting     10.79      9.44     19.79   44.49\n",
       "3       Misc     26.32     12.86     38.19   85.04\n",
       "4   Platform     21.41      8.63     25.38   61.00"
      ]
     },
     "execution_count": 71,
     "metadata": {},
     "output_type": "execute_result"
    }
   ],
   "source": [
    "genre_top = df_year.pivot_table(index=['genre'], values=['na_sales', 'eu_sales', 'jp_sales', 'sales'], aggfunc='sum').reset_index()\n",
    "genre_top.head()"
   ]
  },
  {
   "cell_type": "code",
   "execution_count": 72,
   "id": "179ea79e",
   "metadata": {},
   "outputs": [
    {
     "data": {
      "text/html": [
       "<div>\n",
       "<style scoped>\n",
       "    .dataframe tbody tr th:only-of-type {\n",
       "        vertical-align: middle;\n",
       "    }\n",
       "\n",
       "    .dataframe tbody tr th {\n",
       "        vertical-align: top;\n",
       "    }\n",
       "\n",
       "    .dataframe thead th {\n",
       "        text-align: right;\n",
       "    }\n",
       "</style>\n",
       "<table border=\"1\" class=\"dataframe\">\n",
       "  <thead>\n",
       "    <tr style=\"text-align: right;\">\n",
       "      <th></th>\n",
       "      <th>genre</th>\n",
       "      <th>eu_sales</th>\n",
       "      <th>jp_sales</th>\n",
       "      <th>na_sales</th>\n",
       "      <th>sales</th>\n",
       "    </tr>\n",
       "  </thead>\n",
       "  <tbody>\n",
       "    <tr>\n",
       "      <th>0</th>\n",
       "      <td>Action</td>\n",
       "      <td>159.34</td>\n",
       "      <td>52.80</td>\n",
       "      <td>177.84</td>\n",
       "      <td>441.12</td>\n",
       "    </tr>\n",
       "    <tr>\n",
       "      <th>8</th>\n",
       "      <td>Shooter</td>\n",
       "      <td>113.47</td>\n",
       "      <td>9.23</td>\n",
       "      <td>144.77</td>\n",
       "      <td>304.73</td>\n",
       "    </tr>\n",
       "    <tr>\n",
       "      <th>10</th>\n",
       "      <td>Sports</td>\n",
       "      <td>69.09</td>\n",
       "      <td>8.01</td>\n",
       "      <td>81.53</td>\n",
       "      <td>181.07</td>\n",
       "    </tr>\n",
       "    <tr>\n",
       "      <th>7</th>\n",
       "      <td>Role-Playing</td>\n",
       "      <td>48.53</td>\n",
       "      <td>65.44</td>\n",
       "      <td>64.00</td>\n",
       "      <td>192.80</td>\n",
       "    </tr>\n",
       "    <tr>\n",
       "      <th>6</th>\n",
       "      <td>Racing</td>\n",
       "      <td>27.29</td>\n",
       "      <td>2.50</td>\n",
       "      <td>17.22</td>\n",
       "      <td>53.50</td>\n",
       "    </tr>\n",
       "  </tbody>\n",
       "</table>\n",
       "</div>"
      ],
      "text/plain": [
       "           genre  eu_sales  jp_sales  na_sales   sales\n",
       "0         Action    159.34     52.80    177.84  441.12\n",
       "8        Shooter    113.47      9.23    144.77  304.73\n",
       "10        Sports     69.09      8.01     81.53  181.07\n",
       "7   Role-Playing     48.53     65.44     64.00  192.80\n",
       "6         Racing     27.29      2.50     17.22   53.50"
      ]
     },
     "execution_count": 72,
     "metadata": {},
     "output_type": "execute_result"
    }
   ],
   "source": [
    "genre_top.sort_values('eu_sales', ascending=False).head()"
   ]
  },
  {
   "cell_type": "code",
   "execution_count": 73,
   "id": "878a6cff",
   "metadata": {},
   "outputs": [
    {
     "data": {
      "text/html": [
       "<div>\n",
       "<style scoped>\n",
       "    .dataframe tbody tr th:only-of-type {\n",
       "        vertical-align: middle;\n",
       "    }\n",
       "\n",
       "    .dataframe tbody tr th {\n",
       "        vertical-align: top;\n",
       "    }\n",
       "\n",
       "    .dataframe thead th {\n",
       "        text-align: right;\n",
       "    }\n",
       "</style>\n",
       "<table border=\"1\" class=\"dataframe\">\n",
       "  <thead>\n",
       "    <tr style=\"text-align: right;\">\n",
       "      <th></th>\n",
       "      <th>genre</th>\n",
       "      <th>eu_sales</th>\n",
       "      <th>jp_sales</th>\n",
       "      <th>na_sales</th>\n",
       "      <th>sales</th>\n",
       "    </tr>\n",
       "  </thead>\n",
       "  <tbody>\n",
       "    <tr>\n",
       "      <th>7</th>\n",
       "      <td>Role-Playing</td>\n",
       "      <td>48.53</td>\n",
       "      <td>65.44</td>\n",
       "      <td>64.00</td>\n",
       "      <td>192.80</td>\n",
       "    </tr>\n",
       "    <tr>\n",
       "      <th>0</th>\n",
       "      <td>Action</td>\n",
       "      <td>159.34</td>\n",
       "      <td>52.80</td>\n",
       "      <td>177.84</td>\n",
       "      <td>441.12</td>\n",
       "    </tr>\n",
       "    <tr>\n",
       "      <th>3</th>\n",
       "      <td>Misc</td>\n",
       "      <td>26.32</td>\n",
       "      <td>12.86</td>\n",
       "      <td>38.19</td>\n",
       "      <td>85.04</td>\n",
       "    </tr>\n",
       "    <tr>\n",
       "      <th>9</th>\n",
       "      <td>Simulation</td>\n",
       "      <td>14.55</td>\n",
       "      <td>10.41</td>\n",
       "      <td>7.97</td>\n",
       "      <td>35.12</td>\n",
       "    </tr>\n",
       "    <tr>\n",
       "      <th>2</th>\n",
       "      <td>Fighting</td>\n",
       "      <td>10.79</td>\n",
       "      <td>9.44</td>\n",
       "      <td>19.79</td>\n",
       "      <td>44.49</td>\n",
       "    </tr>\n",
       "  </tbody>\n",
       "</table>\n",
       "</div>"
      ],
      "text/plain": [
       "          genre  eu_sales  jp_sales  na_sales   sales\n",
       "7  Role-Playing     48.53     65.44     64.00  192.80\n",
       "0        Action    159.34     52.80    177.84  441.12\n",
       "3          Misc     26.32     12.86     38.19   85.04\n",
       "9    Simulation     14.55     10.41      7.97   35.12\n",
       "2      Fighting     10.79      9.44     19.79   44.49"
      ]
     },
     "execution_count": 73,
     "metadata": {},
     "output_type": "execute_result"
    }
   ],
   "source": [
    "genre_top.sort_values('jp_sales', ascending=False).head()"
   ]
  },
  {
   "cell_type": "code",
   "execution_count": 74,
   "id": "5b9e1fbe",
   "metadata": {},
   "outputs": [
    {
     "data": {
      "text/html": [
       "<div>\n",
       "<style scoped>\n",
       "    .dataframe tbody tr th:only-of-type {\n",
       "        vertical-align: middle;\n",
       "    }\n",
       "\n",
       "    .dataframe tbody tr th {\n",
       "        vertical-align: top;\n",
       "    }\n",
       "\n",
       "    .dataframe thead th {\n",
       "        text-align: right;\n",
       "    }\n",
       "</style>\n",
       "<table border=\"1\" class=\"dataframe\">\n",
       "  <thead>\n",
       "    <tr style=\"text-align: right;\">\n",
       "      <th></th>\n",
       "      <th>genre</th>\n",
       "      <th>eu_sales</th>\n",
       "      <th>jp_sales</th>\n",
       "      <th>na_sales</th>\n",
       "      <th>sales</th>\n",
       "    </tr>\n",
       "  </thead>\n",
       "  <tbody>\n",
       "    <tr>\n",
       "      <th>0</th>\n",
       "      <td>Action</td>\n",
       "      <td>159.34</td>\n",
       "      <td>52.80</td>\n",
       "      <td>177.84</td>\n",
       "      <td>441.12</td>\n",
       "    </tr>\n",
       "    <tr>\n",
       "      <th>8</th>\n",
       "      <td>Shooter</td>\n",
       "      <td>113.47</td>\n",
       "      <td>9.23</td>\n",
       "      <td>144.77</td>\n",
       "      <td>304.73</td>\n",
       "    </tr>\n",
       "    <tr>\n",
       "      <th>10</th>\n",
       "      <td>Sports</td>\n",
       "      <td>69.09</td>\n",
       "      <td>8.01</td>\n",
       "      <td>81.53</td>\n",
       "      <td>181.07</td>\n",
       "    </tr>\n",
       "    <tr>\n",
       "      <th>7</th>\n",
       "      <td>Role-Playing</td>\n",
       "      <td>48.53</td>\n",
       "      <td>65.44</td>\n",
       "      <td>64.00</td>\n",
       "      <td>192.80</td>\n",
       "    </tr>\n",
       "    <tr>\n",
       "      <th>3</th>\n",
       "      <td>Misc</td>\n",
       "      <td>26.32</td>\n",
       "      <td>12.86</td>\n",
       "      <td>38.19</td>\n",
       "      <td>85.04</td>\n",
       "    </tr>\n",
       "  </tbody>\n",
       "</table>\n",
       "</div>"
      ],
      "text/plain": [
       "           genre  eu_sales  jp_sales  na_sales   sales\n",
       "0         Action    159.34     52.80    177.84  441.12\n",
       "8        Shooter    113.47      9.23    144.77  304.73\n",
       "10        Sports     69.09      8.01     81.53  181.07\n",
       "7   Role-Playing     48.53     65.44     64.00  192.80\n",
       "3           Misc     26.32     12.86     38.19   85.04"
      ]
     },
     "execution_count": 74,
     "metadata": {},
     "output_type": "execute_result"
    }
   ],
   "source": [
    "genre_top.sort_values('na_sales', ascending=False).head()"
   ]
  },
  {
   "cell_type": "markdown",
   "id": "b5d3c83e",
   "metadata": {},
   "source": [
    "Вывод: жанр Action является топовым во всех регионах кроме Японии, где он занял 2-е место."
   ]
  },
  {
   "cell_type": "markdown",
   "id": "a383a4c0",
   "metadata": {},
   "source": [
    "### Влияет ли рейтинг ESRB на продажи в отдельном регионе?"
   ]
  },
  {
   "cell_type": "code",
   "execution_count": 75,
   "id": "43f732c7",
   "metadata": {},
   "outputs": [
    {
     "data": {
      "text/html": [
       "<div>\n",
       "<style scoped>\n",
       "    .dataframe tbody tr th:only-of-type {\n",
       "        vertical-align: middle;\n",
       "    }\n",
       "\n",
       "    .dataframe tbody tr th {\n",
       "        vertical-align: top;\n",
       "    }\n",
       "\n",
       "    .dataframe thead th {\n",
       "        text-align: right;\n",
       "    }\n",
       "</style>\n",
       "<table border=\"1\" class=\"dataframe\">\n",
       "  <thead>\n",
       "    <tr style=\"text-align: right;\">\n",
       "      <th></th>\n",
       "      <th>eu_sales</th>\n",
       "      <th>jp_sales</th>\n",
       "      <th>na_sales</th>\n",
       "      <th>sales</th>\n",
       "    </tr>\n",
       "    <tr>\n",
       "      <th>rating</th>\n",
       "      <th></th>\n",
       "      <th></th>\n",
       "      <th></th>\n",
       "      <th></th>\n",
       "    </tr>\n",
       "  </thead>\n",
       "  <tbody>\n",
       "    <tr>\n",
       "      <th>M</th>\n",
       "      <td>193.96</td>\n",
       "      <td>21.20</td>\n",
       "      <td>231.57</td>\n",
       "      <td>510.11</td>\n",
       "    </tr>\n",
       "    <tr>\n",
       "      <th>None</th>\n",
       "      <td>91.50</td>\n",
       "      <td>108.84</td>\n",
       "      <td>103.31</td>\n",
       "      <td>330.82</td>\n",
       "    </tr>\n",
       "    <tr>\n",
       "      <th>E</th>\n",
       "      <td>113.03</td>\n",
       "      <td>28.33</td>\n",
       "      <td>114.37</td>\n",
       "      <td>287.17</td>\n",
       "    </tr>\n",
       "    <tr>\n",
       "      <th>T</th>\n",
       "      <td>52.96</td>\n",
       "      <td>26.02</td>\n",
       "      <td>66.02</td>\n",
       "      <td>162.94</td>\n",
       "    </tr>\n",
       "    <tr>\n",
       "      <th>E10+</th>\n",
       "      <td>55.37</td>\n",
       "      <td>8.19</td>\n",
       "      <td>75.70</td>\n",
       "      <td>155.49</td>\n",
       "    </tr>\n",
       "  </tbody>\n",
       "</table>\n",
       "</div>"
      ],
      "text/plain": [
       "        eu_sales  jp_sales  na_sales   sales\n",
       "rating                                      \n",
       "M         193.96     21.20    231.57  510.11\n",
       "None       91.50    108.84    103.31  330.82\n",
       "E         113.03     28.33    114.37  287.17\n",
       "T          52.96     26.02     66.02  162.94\n",
       "E10+       55.37      8.19     75.70  155.49"
      ]
     },
     "execution_count": 75,
     "metadata": {},
     "output_type": "execute_result"
    }
   ],
   "source": [
    "ESRB_sales = df_year.pivot_table(index=['rating'], values=['sales', 'na_sales', 'eu_sales', 'jp_sales'], aggfunc='sum').sort_values('sales', ascending=False)\n",
    "ESRB_sales.head()"
   ]
  },
  {
   "cell_type": "markdown",
   "id": "d0fc6579",
   "metadata": {},
   "source": [
    "Вывод: рейтинг М - для взрослых, в топах про продажам во всех регионах кроме Японии, возможно это связано с тем что рейтинг ESRB для данного региона не обязательно присваивать, поэтому в Японии в основном игры без рейтинга."
   ]
  },
  {
   "cell_type": "code",
   "execution_count": 76,
   "id": "31ca733e",
   "metadata": {},
   "outputs": [
    {
     "name": "stdout",
     "output_type": "stream",
     "text": [
      "0 0.0\n"
     ]
    },
    {
     "data": {
      "text/plain": [
       "None    6676\n",
       "E       3924\n",
       "T       2905\n",
       "M       1536\n",
       "E10+    1393\n",
       "EC         8\n",
       "RP         1\n",
       "AO         1\n",
       "Name: rating, dtype: int64"
      ]
     },
     "execution_count": 76,
     "metadata": {},
     "output_type": "execute_result"
    }
   ],
   "source": [
    "\n",
    "temp = df.copy()\n",
    "print(temp.rating.isna().sum(), temp.rating.isna().sum()/len(temp))\n",
    "temp.rating.value_counts()"
   ]
  },
  {
   "cell_type": "markdown",
   "id": "e08cab0a",
   "metadata": {},
   "source": [
    "## Проверка гипотез"
   ]
  },
  {
   "cell_type": "markdown",
   "id": "c6ef411e",
   "metadata": {},
   "source": [
    "### Средние пользовательские рейтинги платформ Xbox One и PС одинаковые"
   ]
  },
  {
   "cell_type": "markdown",
   "id": "d2330c5a",
   "metadata": {},
   "source": [
    "Н0 - гипотеза о том, что средняя выручка двух игровых платформ одинакова;\n",
    "\n",
    "H1 - гипотеза о том, что средняя выручка двух игровых платформ разная"
   ]
  },
  {
   "cell_type": "code",
   "execution_count": 77,
   "id": "009e47aa",
   "metadata": {},
   "outputs": [],
   "source": [
    "user_score_PC = df_year.query('platform == \"PC\"')\n",
    "user_score_XOne = df_year.query('platform == \"XOne\"')"
   ]
  },
  {
   "cell_type": "code",
   "execution_count": 78,
   "id": "9dd38bc6",
   "metadata": {},
   "outputs": [
    {
     "data": {
      "text/plain": [
       "count    206.000000\n",
       "mean       6.428641\n",
       "std        1.664465\n",
       "min        1.400000\n",
       "25%        5.500000\n",
       "50%        6.800000\n",
       "75%        7.700000\n",
       "max        9.300000\n",
       "Name: user_score, dtype: float64"
      ]
     },
     "execution_count": 78,
     "metadata": {},
     "output_type": "execute_result"
    }
   ],
   "source": [
    "user_score_PC['user_score'].describe()"
   ]
  },
  {
   "cell_type": "code",
   "execution_count": 79,
   "id": "3b4ad89a",
   "metadata": {},
   "outputs": [
    {
     "data": {
      "text/plain": [
       "count    182.000000\n",
       "mean       6.521429\n",
       "std        1.380941\n",
       "min        1.600000\n",
       "25%        5.800000\n",
       "50%        6.800000\n",
       "75%        7.500000\n",
       "max        9.200000\n",
       "Name: user_score, dtype: float64"
      ]
     },
     "execution_count": 79,
     "metadata": {},
     "output_type": "execute_result"
    }
   ],
   "source": [
    "user_score_XOne['user_score'].describe()"
   ]
  },
  {
   "cell_type": "code",
   "execution_count": 80,
   "id": "28d9a580",
   "metadata": {},
   "outputs": [],
   "source": [
    "alpha = .05 # критический уровень статистической значимости\n",
    "# если p-value окажется меньше него - отвегнем гипотезу"
   ]
  },
  {
   "cell_type": "code",
   "execution_count": 81,
   "id": "710a7802",
   "metadata": {},
   "outputs": [],
   "source": [
    "results = st.ttest_ind(\n",
    "    user_score_PC['user_score'].dropna(), \n",
    "    user_score_XOne['user_score'].dropna())"
   ]
  },
  {
   "cell_type": "code",
   "execution_count": 82,
   "id": "51b2e47f",
   "metadata": {},
   "outputs": [
    {
     "name": "stdout",
     "output_type": "stream",
     "text": [
      "p-значение: 0.5535080500643661\n",
      "Не получилось отвергнуть нулевую гипотезу в пользу альтернативной\n"
     ]
    }
   ],
   "source": [
    "print('p-значение:', results.pvalue)\n",
    "\n",
    "if results.pvalue < alpha:\n",
    "    print(\"Отвергаем нулевую гипотезу\")\n",
    "else:\n",
    "    print(\"Не получилось отвергнуть нулевую гипотезу в пользу альтернативной\")"
   ]
  },
  {
   "cell_type": "markdown",
   "id": "c4fff808",
   "metadata": {},
   "source": [
    "### Средние пользовательские рейтинги жанров Action и Sports одинаковые"
   ]
  },
  {
   "cell_type": "markdown",
   "id": "ee26d44a",
   "metadata": {},
   "source": [
    "Н0 - гипотеза о том, что средний рейтинг игр двух жанров одинаков;\n",
    "\n",
    "H1 - гипотеза о том, что средний рейтинг игр двух жанров разный"
   ]
  },
  {
   "cell_type": "code",
   "execution_count": 83,
   "id": "1d238539",
   "metadata": {},
   "outputs": [],
   "source": [
    "user_score_action = df_year.query('genre == \"Action\"')\n",
    "user_score_sports = df_year.query('genre == \"Sports\"')"
   ]
  },
  {
   "cell_type": "code",
   "execution_count": 84,
   "id": "f2036cd3",
   "metadata": {},
   "outputs": [
    {
     "data": {
      "text/plain": [
       "count    523.000000\n",
       "mean       6.825048\n",
       "std        1.374440\n",
       "min        1.600000\n",
       "25%        6.250000\n",
       "50%        7.100000\n",
       "75%        7.800000\n",
       "max        9.100000\n",
       "Name: user_score, dtype: float64"
      ]
     },
     "execution_count": 84,
     "metadata": {},
     "output_type": "execute_result"
    }
   ],
   "source": [
    "user_score_action['user_score'].describe()"
   ]
  },
  {
   "cell_type": "code",
   "execution_count": 85,
   "id": "59b8095c",
   "metadata": {},
   "outputs": [
    {
     "data": {
      "text/plain": [
       "count    195.000000\n",
       "mean       5.455897\n",
       "std        1.738646\n",
       "min        0.200000\n",
       "25%        4.300000\n",
       "50%        5.700000\n",
       "75%        6.800000\n",
       "max        8.800000\n",
       "Name: user_score, dtype: float64"
      ]
     },
     "execution_count": 85,
     "metadata": {},
     "output_type": "execute_result"
    }
   ],
   "source": [
    "user_score_sports['user_score'].describe()"
   ]
  },
  {
   "cell_type": "code",
   "execution_count": 86,
   "id": "da8242e4",
   "metadata": {},
   "outputs": [],
   "source": [
    "results = st.ttest_ind(\n",
    "    user_score_action['user_score'].dropna(), \n",
    "    user_score_sports['user_score'].dropna(),\n",
    "    equal_var = False)"
   ]
  },
  {
   "cell_type": "code",
   "execution_count": 87,
   "id": "878eb74a",
   "metadata": {},
   "outputs": [
    {
     "name": "stdout",
     "output_type": "stream",
     "text": [
      "p-значение: 4.24307776572644e-20\n",
      "Отвергаем нулевую гипотезу\n"
     ]
    }
   ],
   "source": [
    "print('p-значение:', results.pvalue)\n",
    "\n",
    "if results.pvalue < alpha:\n",
    "    print(\"Отвергаем нулевую гипотезу\")\n",
    "else:\n",
    "    print(\"Не получилось отвергнуть нулевую гипотезу\")"
   ]
  },
  {
   "cell_type": "markdown",
   "id": "36efde94",
   "metadata": {},
   "source": [
    "## Общий вывод"
   ]
  },
  {
   "cell_type": "markdown",
   "id": "7e415208",
   "metadata": {},
   "source": [
    "- успешность выпускаемой игры во многом зависит от жанра к которому она пренадлежит. Если выпустить игру популярного жанра она с большей вероятностью станет успешной чем игра не популярного жанра. В процессе работы были найдены топ 5 жанров;\n",
    "- продажи игры зависят от рейтинга ESRB;\n",
    "- игровые платформы появляются и исчезают, лучше выпускать игру на самой популярной игровой платформе в данный момент, либо набирающей популярность;\n",
    "- в успешности игры важно мнение критиков, если у рейтинг критиков низкий, стоит прислушаться и доработать игру;\n",
    "- прогнозируется что в 2017 году продажи игр будут падать;\n",
    "- По итогам анализа в 2017 году рекомендуется выпустить игру на PS4 или Xbox One жанров Action или Shooter и рейтингом ESRB - М которая будет распространяться на рынках Северной Америки и Европы."
   ]
  }
 ],
 "metadata": {
  "ExecuteTimeLog": [
   {
    "duration": 1356,
    "start_time": "2022-04-23T11:28:06.250Z"
   },
   {
    "duration": 183,
    "start_time": "2022-04-23T11:28:07.608Z"
   },
   {
    "duration": 1,
    "start_time": "2022-04-23T11:28:07.794Z"
   },
   {
    "duration": 0,
    "start_time": "2022-04-23T11:28:07.796Z"
   },
   {
    "duration": 0,
    "start_time": "2022-04-23T11:28:07.797Z"
   },
   {
    "duration": 0,
    "start_time": "2022-04-23T11:28:07.798Z"
   },
   {
    "duration": 0,
    "start_time": "2022-04-23T11:28:07.799Z"
   },
   {
    "duration": 0,
    "start_time": "2022-04-23T11:28:07.801Z"
   },
   {
    "duration": 0,
    "start_time": "2022-04-23T11:28:07.802Z"
   },
   {
    "duration": 0,
    "start_time": "2022-04-23T11:28:07.803Z"
   },
   {
    "duration": 0,
    "start_time": "2022-04-23T11:28:07.804Z"
   },
   {
    "duration": 0,
    "start_time": "2022-04-23T11:28:07.805Z"
   },
   {
    "duration": 0,
    "start_time": "2022-04-23T11:28:07.806Z"
   },
   {
    "duration": 0,
    "start_time": "2022-04-23T11:28:07.807Z"
   },
   {
    "duration": 0,
    "start_time": "2022-04-23T11:28:07.808Z"
   },
   {
    "duration": 0,
    "start_time": "2022-04-23T11:28:07.810Z"
   },
   {
    "duration": 0,
    "start_time": "2022-04-23T11:28:07.834Z"
   },
   {
    "duration": 1,
    "start_time": "2022-04-23T11:28:07.835Z"
   },
   {
    "duration": 0,
    "start_time": "2022-04-23T11:28:07.837Z"
   },
   {
    "duration": 0,
    "start_time": "2022-04-23T11:28:07.838Z"
   },
   {
    "duration": 0,
    "start_time": "2022-04-23T11:28:07.839Z"
   },
   {
    "duration": 0,
    "start_time": "2022-04-23T11:28:07.840Z"
   },
   {
    "duration": 0,
    "start_time": "2022-04-23T11:28:07.842Z"
   },
   {
    "duration": 0,
    "start_time": "2022-04-23T11:28:07.843Z"
   },
   {
    "duration": 0,
    "start_time": "2022-04-23T11:28:07.845Z"
   },
   {
    "duration": 0,
    "start_time": "2022-04-23T11:28:07.846Z"
   },
   {
    "duration": 0,
    "start_time": "2022-04-23T11:28:07.847Z"
   },
   {
    "duration": 0,
    "start_time": "2022-04-23T11:28:07.849Z"
   },
   {
    "duration": 0,
    "start_time": "2022-04-23T11:28:07.850Z"
   },
   {
    "duration": 0,
    "start_time": "2022-04-23T11:28:07.852Z"
   },
   {
    "duration": 0,
    "start_time": "2022-04-23T11:28:07.853Z"
   },
   {
    "duration": 0,
    "start_time": "2022-04-23T11:28:07.855Z"
   },
   {
    "duration": 0,
    "start_time": "2022-04-23T11:28:07.857Z"
   },
   {
    "duration": 0,
    "start_time": "2022-04-23T11:28:07.858Z"
   },
   {
    "duration": 0,
    "start_time": "2022-04-23T11:28:07.859Z"
   },
   {
    "duration": 0,
    "start_time": "2022-04-23T11:28:07.861Z"
   },
   {
    "duration": 0,
    "start_time": "2022-04-23T11:28:07.862Z"
   },
   {
    "duration": 0,
    "start_time": "2022-04-23T11:28:07.863Z"
   },
   {
    "duration": 0,
    "start_time": "2022-04-23T11:28:07.864Z"
   },
   {
    "duration": 0,
    "start_time": "2022-04-23T11:28:07.864Z"
   },
   {
    "duration": 0,
    "start_time": "2022-04-23T11:28:07.866Z"
   },
   {
    "duration": 0,
    "start_time": "2022-04-23T11:28:07.867Z"
   },
   {
    "duration": 0,
    "start_time": "2022-04-23T11:28:07.869Z"
   },
   {
    "duration": 0,
    "start_time": "2022-04-23T11:28:07.870Z"
   },
   {
    "duration": 0,
    "start_time": "2022-04-23T11:28:07.872Z"
   },
   {
    "duration": 0,
    "start_time": "2022-04-23T11:28:07.934Z"
   },
   {
    "duration": 0,
    "start_time": "2022-04-23T11:28:07.936Z"
   },
   {
    "duration": 0,
    "start_time": "2022-04-23T11:28:07.937Z"
   },
   {
    "duration": 0,
    "start_time": "2022-04-23T11:28:07.938Z"
   },
   {
    "duration": 0,
    "start_time": "2022-04-23T11:28:07.940Z"
   },
   {
    "duration": 0,
    "start_time": "2022-04-23T11:28:07.941Z"
   },
   {
    "duration": 0,
    "start_time": "2022-04-23T11:28:07.943Z"
   },
   {
    "duration": 0,
    "start_time": "2022-04-23T11:28:07.944Z"
   },
   {
    "duration": 0,
    "start_time": "2022-04-23T11:28:07.946Z"
   },
   {
    "duration": 0,
    "start_time": "2022-04-23T11:28:07.947Z"
   },
   {
    "duration": 0,
    "start_time": "2022-04-23T11:28:07.949Z"
   },
   {
    "duration": 0,
    "start_time": "2022-04-23T11:28:07.950Z"
   },
   {
    "duration": 0,
    "start_time": "2022-04-23T11:28:07.951Z"
   },
   {
    "duration": 0,
    "start_time": "2022-04-23T11:28:07.953Z"
   },
   {
    "duration": 0,
    "start_time": "2022-04-23T11:28:07.955Z"
   },
   {
    "duration": 0,
    "start_time": "2022-04-23T11:28:07.956Z"
   },
   {
    "duration": 0,
    "start_time": "2022-04-23T11:28:07.958Z"
   },
   {
    "duration": 0,
    "start_time": "2022-04-23T11:28:07.959Z"
   },
   {
    "duration": 0,
    "start_time": "2022-04-23T11:28:07.961Z"
   },
   {
    "duration": 0,
    "start_time": "2022-04-23T11:28:07.962Z"
   },
   {
    "duration": 0,
    "start_time": "2022-04-23T11:28:07.963Z"
   },
   {
    "duration": 0,
    "start_time": "2022-04-23T11:28:07.965Z"
   },
   {
    "duration": 0,
    "start_time": "2022-04-23T11:28:07.966Z"
   },
   {
    "duration": 0,
    "start_time": "2022-04-23T11:28:07.969Z"
   },
   {
    "duration": 0,
    "start_time": "2022-04-23T11:28:08.033Z"
   },
   {
    "duration": 0,
    "start_time": "2022-04-23T11:28:08.035Z"
   },
   {
    "duration": 0,
    "start_time": "2022-04-23T11:28:08.036Z"
   },
   {
    "duration": 0,
    "start_time": "2022-04-23T11:28:08.037Z"
   },
   {
    "duration": 0,
    "start_time": "2022-04-23T11:28:08.038Z"
   },
   {
    "duration": 0,
    "start_time": "2022-04-23T11:28:08.040Z"
   },
   {
    "duration": 0,
    "start_time": "2022-04-23T11:28:08.041Z"
   },
   {
    "duration": 0,
    "start_time": "2022-04-23T11:28:08.042Z"
   },
   {
    "duration": 46,
    "start_time": "2022-04-23T11:29:46.848Z"
   },
   {
    "duration": 1129,
    "start_time": "2022-04-23T11:29:54.184Z"
   },
   {
    "duration": 46,
    "start_time": "2022-04-23T11:29:55.315Z"
   },
   {
    "duration": 21,
    "start_time": "2022-04-23T11:29:55.363Z"
   },
   {
    "duration": 17,
    "start_time": "2022-04-23T11:29:55.386Z"
   },
   {
    "duration": 4,
    "start_time": "2022-04-23T11:29:55.404Z"
   },
   {
    "duration": 38,
    "start_time": "2022-04-23T11:29:55.409Z"
   },
   {
    "duration": 23,
    "start_time": "2022-04-23T11:29:55.449Z"
   },
   {
    "duration": 15,
    "start_time": "2022-04-23T11:29:55.474Z"
   },
   {
    "duration": 138,
    "start_time": "2022-04-23T11:29:55.490Z"
   },
   {
    "duration": 0,
    "start_time": "2022-04-23T11:29:55.633Z"
   },
   {
    "duration": 0,
    "start_time": "2022-04-23T11:29:55.634Z"
   },
   {
    "duration": 0,
    "start_time": "2022-04-23T11:29:55.635Z"
   },
   {
    "duration": 0,
    "start_time": "2022-04-23T11:29:55.636Z"
   },
   {
    "duration": 0,
    "start_time": "2022-04-23T11:29:55.637Z"
   },
   {
    "duration": 0,
    "start_time": "2022-04-23T11:29:55.638Z"
   },
   {
    "duration": 0,
    "start_time": "2022-04-23T11:29:55.639Z"
   },
   {
    "duration": 0,
    "start_time": "2022-04-23T11:29:55.640Z"
   },
   {
    "duration": 0,
    "start_time": "2022-04-23T11:29:55.640Z"
   },
   {
    "duration": 0,
    "start_time": "2022-04-23T11:29:55.641Z"
   },
   {
    "duration": 0,
    "start_time": "2022-04-23T11:29:55.642Z"
   },
   {
    "duration": 0,
    "start_time": "2022-04-23T11:29:55.644Z"
   },
   {
    "duration": 0,
    "start_time": "2022-04-23T11:29:55.644Z"
   },
   {
    "duration": 0,
    "start_time": "2022-04-23T11:29:55.645Z"
   },
   {
    "duration": 0,
    "start_time": "2022-04-23T11:29:55.647Z"
   },
   {
    "duration": 0,
    "start_time": "2022-04-23T11:29:55.648Z"
   },
   {
    "duration": 0,
    "start_time": "2022-04-23T11:29:55.649Z"
   },
   {
    "duration": 0,
    "start_time": "2022-04-23T11:29:55.650Z"
   },
   {
    "duration": 0,
    "start_time": "2022-04-23T11:29:55.651Z"
   },
   {
    "duration": 0,
    "start_time": "2022-04-23T11:29:55.651Z"
   },
   {
    "duration": 0,
    "start_time": "2022-04-23T11:29:55.653Z"
   },
   {
    "duration": 0,
    "start_time": "2022-04-23T11:29:55.654Z"
   },
   {
    "duration": 0,
    "start_time": "2022-04-23T11:29:55.655Z"
   },
   {
    "duration": 0,
    "start_time": "2022-04-23T11:29:55.656Z"
   },
   {
    "duration": 0,
    "start_time": "2022-04-23T11:29:55.657Z"
   },
   {
    "duration": 0,
    "start_time": "2022-04-23T11:29:55.658Z"
   },
   {
    "duration": 0,
    "start_time": "2022-04-23T11:29:55.659Z"
   },
   {
    "duration": 0,
    "start_time": "2022-04-23T11:29:55.660Z"
   },
   {
    "duration": 0,
    "start_time": "2022-04-23T11:29:55.661Z"
   },
   {
    "duration": 0,
    "start_time": "2022-04-23T11:29:55.662Z"
   },
   {
    "duration": 0,
    "start_time": "2022-04-23T11:29:55.663Z"
   },
   {
    "duration": 0,
    "start_time": "2022-04-23T11:29:55.664Z"
   },
   {
    "duration": 0,
    "start_time": "2022-04-23T11:29:55.665Z"
   },
   {
    "duration": 0,
    "start_time": "2022-04-23T11:29:55.666Z"
   },
   {
    "duration": 0,
    "start_time": "2022-04-23T11:29:55.667Z"
   },
   {
    "duration": 0,
    "start_time": "2022-04-23T11:29:55.668Z"
   },
   {
    "duration": 0,
    "start_time": "2022-04-23T11:29:55.669Z"
   },
   {
    "duration": 0,
    "start_time": "2022-04-23T11:29:55.670Z"
   },
   {
    "duration": 0,
    "start_time": "2022-04-23T11:29:55.671Z"
   },
   {
    "duration": 0,
    "start_time": "2022-04-23T11:29:55.672Z"
   },
   {
    "duration": 0,
    "start_time": "2022-04-23T11:29:55.733Z"
   },
   {
    "duration": 0,
    "start_time": "2022-04-23T11:29:55.734Z"
   },
   {
    "duration": 0,
    "start_time": "2022-04-23T11:29:55.735Z"
   },
   {
    "duration": 0,
    "start_time": "2022-04-23T11:29:55.736Z"
   },
   {
    "duration": 0,
    "start_time": "2022-04-23T11:29:55.737Z"
   },
   {
    "duration": 0,
    "start_time": "2022-04-23T11:29:55.738Z"
   },
   {
    "duration": 0,
    "start_time": "2022-04-23T11:29:55.739Z"
   },
   {
    "duration": 0,
    "start_time": "2022-04-23T11:29:55.740Z"
   },
   {
    "duration": 0,
    "start_time": "2022-04-23T11:29:55.741Z"
   },
   {
    "duration": 0,
    "start_time": "2022-04-23T11:29:55.742Z"
   },
   {
    "duration": 0,
    "start_time": "2022-04-23T11:29:55.743Z"
   },
   {
    "duration": 0,
    "start_time": "2022-04-23T11:29:55.744Z"
   },
   {
    "duration": 0,
    "start_time": "2022-04-23T11:29:55.745Z"
   },
   {
    "duration": 0,
    "start_time": "2022-04-23T11:29:55.746Z"
   },
   {
    "duration": 0,
    "start_time": "2022-04-23T11:29:55.747Z"
   },
   {
    "duration": 0,
    "start_time": "2022-04-23T11:29:55.748Z"
   },
   {
    "duration": 0,
    "start_time": "2022-04-23T11:29:55.749Z"
   },
   {
    "duration": 0,
    "start_time": "2022-04-23T11:29:55.750Z"
   },
   {
    "duration": 0,
    "start_time": "2022-04-23T11:29:55.751Z"
   },
   {
    "duration": 0,
    "start_time": "2022-04-23T11:29:55.752Z"
   },
   {
    "duration": 0,
    "start_time": "2022-04-23T11:29:55.753Z"
   },
   {
    "duration": 0,
    "start_time": "2022-04-23T11:29:55.754Z"
   },
   {
    "duration": 0,
    "start_time": "2022-04-23T11:29:55.755Z"
   },
   {
    "duration": 0,
    "start_time": "2022-04-23T11:29:55.756Z"
   },
   {
    "duration": 0,
    "start_time": "2022-04-23T11:29:55.757Z"
   },
   {
    "duration": 0,
    "start_time": "2022-04-23T11:29:55.758Z"
   },
   {
    "duration": 0,
    "start_time": "2022-04-23T11:29:55.759Z"
   },
   {
    "duration": 0,
    "start_time": "2022-04-23T11:29:55.760Z"
   },
   {
    "duration": 11,
    "start_time": "2022-04-23T11:36:39.413Z"
   },
   {
    "duration": 1195,
    "start_time": "2022-04-23T11:36:46.401Z"
   },
   {
    "duration": 43,
    "start_time": "2022-04-23T11:36:47.598Z"
   },
   {
    "duration": 20,
    "start_time": "2022-04-23T11:36:47.642Z"
   },
   {
    "duration": 15,
    "start_time": "2022-04-23T11:36:47.663Z"
   },
   {
    "duration": 16,
    "start_time": "2022-04-23T11:36:47.681Z"
   },
   {
    "duration": 26,
    "start_time": "2022-04-23T11:36:47.699Z"
   },
   {
    "duration": 22,
    "start_time": "2022-04-23T11:36:47.733Z"
   },
   {
    "duration": 16,
    "start_time": "2022-04-23T11:36:47.757Z"
   },
   {
    "duration": 18,
    "start_time": "2022-04-23T11:36:47.774Z"
   },
   {
    "duration": 19,
    "start_time": "2022-04-23T11:36:47.793Z"
   },
   {
    "duration": 21,
    "start_time": "2022-04-23T11:36:47.814Z"
   },
   {
    "duration": 15,
    "start_time": "2022-04-23T11:36:47.837Z"
   },
   {
    "duration": 15,
    "start_time": "2022-04-23T11:36:47.853Z"
   },
   {
    "duration": 38,
    "start_time": "2022-04-23T11:36:47.873Z"
   },
   {
    "duration": 11,
    "start_time": "2022-04-23T11:36:47.913Z"
   },
   {
    "duration": 36,
    "start_time": "2022-04-23T11:36:47.926Z"
   },
   {
    "duration": 12,
    "start_time": "2022-04-23T11:36:47.964Z"
   },
   {
    "duration": 25,
    "start_time": "2022-04-23T11:36:47.978Z"
   },
   {
    "duration": 30,
    "start_time": "2022-04-23T11:36:48.005Z"
   },
   {
    "duration": 17,
    "start_time": "2022-04-23T11:36:48.037Z"
   },
   {
    "duration": 14,
    "start_time": "2022-04-23T11:36:48.056Z"
   },
   {
    "duration": 14,
    "start_time": "2022-04-23T11:36:48.073Z"
   },
   {
    "duration": 292,
    "start_time": "2022-04-23T11:36:48.089Z"
   },
   {
    "duration": 17,
    "start_time": "2022-04-23T11:36:48.384Z"
   },
   {
    "duration": 38,
    "start_time": "2022-04-23T11:36:48.404Z"
   },
   {
    "duration": 175,
    "start_time": "2022-04-23T11:36:48.444Z"
   },
   {
    "duration": 129,
    "start_time": "2022-04-23T11:36:48.621Z"
   },
   {
    "duration": 15,
    "start_time": "2022-04-23T11:36:48.751Z"
   },
   {
    "duration": 330,
    "start_time": "2022-04-23T11:36:48.768Z"
   },
   {
    "duration": 742,
    "start_time": "2022-04-23T11:36:49.100Z"
   },
   {
    "duration": 21,
    "start_time": "2022-04-23T11:36:49.844Z"
   },
   {
    "duration": 377,
    "start_time": "2022-04-23T11:36:49.867Z"
   },
   {
    "duration": 593,
    "start_time": "2022-04-23T11:36:50.246Z"
   },
   {
    "duration": 97,
    "start_time": "2022-04-23T11:36:50.841Z"
   },
   {
    "duration": 15,
    "start_time": "2022-04-23T11:36:50.939Z"
   },
   {
    "duration": 178,
    "start_time": "2022-04-23T11:36:50.956Z"
   },
   {
    "duration": 5,
    "start_time": "2022-04-23T11:36:51.136Z"
   },
   {
    "duration": 24,
    "start_time": "2022-04-23T11:36:51.142Z"
   },
   {
    "duration": 167,
    "start_time": "2022-04-23T11:36:51.168Z"
   },
   {
    "duration": 5,
    "start_time": "2022-04-23T11:36:51.337Z"
   },
   {
    "duration": 16,
    "start_time": "2022-04-23T11:36:51.347Z"
   },
   {
    "duration": 5,
    "start_time": "2022-04-23T11:36:51.365Z"
   },
   {
    "duration": 16,
    "start_time": "2022-04-23T11:36:51.372Z"
   },
   {
    "duration": 5,
    "start_time": "2022-04-23T11:36:51.390Z"
   },
   {
    "duration": 48,
    "start_time": "2022-04-23T11:36:51.396Z"
   },
   {
    "duration": 12,
    "start_time": "2022-04-23T11:36:51.446Z"
   },
   {
    "duration": 5,
    "start_time": "2022-04-23T11:36:51.459Z"
   },
   {
    "duration": 13,
    "start_time": "2022-04-23T11:36:51.466Z"
   },
   {
    "duration": 21,
    "start_time": "2022-04-23T11:36:51.480Z"
   },
   {
    "duration": 50,
    "start_time": "2022-04-23T11:36:51.503Z"
   },
   {
    "duration": 8,
    "start_time": "2022-04-23T11:36:51.555Z"
   },
   {
    "duration": 6,
    "start_time": "2022-04-23T11:36:51.564Z"
   },
   {
    "duration": 5,
    "start_time": "2022-04-23T11:36:51.572Z"
   },
   {
    "duration": 8,
    "start_time": "2022-04-23T11:36:51.579Z"
   },
   {
    "duration": 51,
    "start_time": "2022-04-23T11:36:51.589Z"
   },
   {
    "duration": 3,
    "start_time": "2022-04-23T11:36:51.641Z"
   },
   {
    "duration": 7,
    "start_time": "2022-04-23T11:36:51.646Z"
   },
   {
    "duration": 9,
    "start_time": "2022-04-23T11:36:51.654Z"
   },
   {
    "duration": 13,
    "start_time": "2022-04-23T11:36:51.664Z"
   },
   {
    "duration": 12,
    "start_time": "2022-04-23T11:36:51.679Z"
   },
   {
    "duration": 12,
    "start_time": "2022-04-23T11:36:51.693Z"
   },
   {
    "duration": 43,
    "start_time": "2022-04-23T11:36:51.706Z"
   },
   {
    "duration": 11,
    "start_time": "2022-04-23T11:36:51.750Z"
   },
   {
    "duration": 13,
    "start_time": "2022-04-23T11:36:51.762Z"
   },
   {
    "duration": 13,
    "start_time": "2022-04-23T11:36:51.777Z"
   },
   {
    "duration": 47,
    "start_time": "2022-04-23T11:36:51.791Z"
   },
   {
    "duration": 9,
    "start_time": "2022-04-23T11:36:51.839Z"
   },
   {
    "duration": 11,
    "start_time": "2022-04-23T11:36:51.849Z"
   },
   {
    "duration": 8,
    "start_time": "2022-04-23T11:36:51.861Z"
   },
   {
    "duration": 11,
    "start_time": "2022-04-23T11:36:51.870Z"
   },
   {
    "duration": 6,
    "start_time": "2022-04-23T11:36:51.883Z"
   },
   {
    "duration": 8,
    "start_time": "2022-04-23T11:36:51.891Z"
   },
   {
    "duration": 20,
    "start_time": "2022-04-23T11:36:51.901Z"
   },
   {
    "duration": 18,
    "start_time": "2022-04-23T11:36:51.922Z"
   },
   {
    "duration": 9,
    "start_time": "2022-04-23T11:36:51.942Z"
   },
   {
    "duration": 4,
    "start_time": "2022-04-23T11:36:51.952Z"
   },
   {
    "duration": 7,
    "start_time": "2022-04-23T11:36:51.958Z"
   },
   {
    "duration": 80,
    "start_time": "2022-04-23T12:36:41.896Z"
   },
   {
    "duration": 1215,
    "start_time": "2022-04-23T12:37:09.769Z"
   },
   {
    "duration": 43,
    "start_time": "2022-04-23T12:37:10.986Z"
   },
   {
    "duration": 20,
    "start_time": "2022-04-23T12:37:11.031Z"
   },
   {
    "duration": 16,
    "start_time": "2022-04-23T12:37:11.053Z"
   },
   {
    "duration": 3,
    "start_time": "2022-04-23T12:37:11.072Z"
   },
   {
    "duration": 20,
    "start_time": "2022-04-23T12:37:11.077Z"
   },
   {
    "duration": 48,
    "start_time": "2022-04-23T12:37:11.099Z"
   },
   {
    "duration": 16,
    "start_time": "2022-04-23T12:37:11.148Z"
   },
   {
    "duration": 11,
    "start_time": "2022-04-23T12:37:11.166Z"
   },
   {
    "duration": 7,
    "start_time": "2022-04-23T12:37:11.179Z"
   },
   {
    "duration": 6,
    "start_time": "2022-04-23T12:37:11.188Z"
   },
   {
    "duration": 6,
    "start_time": "2022-04-23T12:37:11.233Z"
   },
   {
    "duration": 8,
    "start_time": "2022-04-23T12:37:11.241Z"
   },
   {
    "duration": 18,
    "start_time": "2022-04-23T12:37:11.255Z"
   },
   {
    "duration": 8,
    "start_time": "2022-04-23T12:37:11.275Z"
   },
   {
    "duration": 16,
    "start_time": "2022-04-23T12:37:11.285Z"
   },
   {
    "duration": 6,
    "start_time": "2022-04-23T12:37:11.334Z"
   },
   {
    "duration": 6,
    "start_time": "2022-04-23T12:37:11.342Z"
   },
   {
    "duration": 16,
    "start_time": "2022-04-23T12:37:11.349Z"
   },
   {
    "duration": 16,
    "start_time": "2022-04-23T12:37:11.367Z"
   },
   {
    "duration": 107,
    "start_time": "2022-04-23T12:37:11.385Z"
   },
   {
    "duration": 8,
    "start_time": "2022-04-23T12:37:11.494Z"
   },
   {
    "duration": 9,
    "start_time": "2022-04-23T12:37:11.504Z"
   },
   {
    "duration": 281,
    "start_time": "2022-04-23T12:37:11.515Z"
   },
   {
    "duration": 17,
    "start_time": "2022-04-23T12:37:11.797Z"
   },
   {
    "duration": 32,
    "start_time": "2022-04-23T12:37:11.816Z"
   },
   {
    "duration": 155,
    "start_time": "2022-04-23T12:37:11.849Z"
   },
   {
    "duration": 105,
    "start_time": "2022-04-23T12:37:12.006Z"
   },
   {
    "duration": 23,
    "start_time": "2022-04-23T12:37:12.113Z"
   },
   {
    "duration": 312,
    "start_time": "2022-04-23T12:37:12.138Z"
   },
   {
    "duration": 663,
    "start_time": "2022-04-23T12:37:12.452Z"
   },
   {
    "duration": 31,
    "start_time": "2022-04-23T12:37:13.117Z"
   },
   {
    "duration": 332,
    "start_time": "2022-04-23T12:37:13.149Z"
   },
   {
    "duration": 574,
    "start_time": "2022-04-23T12:37:13.483Z"
   },
   {
    "duration": 92,
    "start_time": "2022-04-23T12:37:14.059Z"
   },
   {
    "duration": 15,
    "start_time": "2022-04-23T12:37:14.153Z"
   },
   {
    "duration": 166,
    "start_time": "2022-04-23T12:37:14.170Z"
   },
   {
    "duration": 6,
    "start_time": "2022-04-23T12:37:14.338Z"
   },
   {
    "duration": 39,
    "start_time": "2022-04-23T12:37:14.346Z"
   },
   {
    "duration": 164,
    "start_time": "2022-04-23T12:37:14.386Z"
   },
   {
    "duration": 6,
    "start_time": "2022-04-23T12:37:14.555Z"
   },
   {
    "duration": 20,
    "start_time": "2022-04-23T12:37:14.563Z"
   },
   {
    "duration": 10,
    "start_time": "2022-04-23T12:37:14.585Z"
   },
   {
    "duration": 17,
    "start_time": "2022-04-23T12:37:14.597Z"
   },
   {
    "duration": 27,
    "start_time": "2022-04-23T12:37:14.616Z"
   },
   {
    "duration": 14,
    "start_time": "2022-04-23T12:37:14.645Z"
   },
   {
    "duration": 12,
    "start_time": "2022-04-23T12:37:14.661Z"
   },
   {
    "duration": 14,
    "start_time": "2022-04-23T12:37:14.674Z"
   },
   {
    "duration": 28,
    "start_time": "2022-04-23T12:37:14.690Z"
   },
   {
    "duration": 20,
    "start_time": "2022-04-23T12:37:14.719Z"
   },
   {
    "duration": 18,
    "start_time": "2022-04-23T12:37:14.741Z"
   },
   {
    "duration": 15,
    "start_time": "2022-04-23T12:37:14.761Z"
   },
   {
    "duration": 24,
    "start_time": "2022-04-23T12:37:14.778Z"
   },
   {
    "duration": 23,
    "start_time": "2022-04-23T12:37:14.804Z"
   },
   {
    "duration": 19,
    "start_time": "2022-04-23T12:37:14.829Z"
   },
   {
    "duration": 34,
    "start_time": "2022-04-23T12:37:14.849Z"
   },
   {
    "duration": 9,
    "start_time": "2022-04-23T12:37:14.885Z"
   },
   {
    "duration": 21,
    "start_time": "2022-04-23T12:37:14.896Z"
   },
   {
    "duration": 20,
    "start_time": "2022-04-23T12:37:14.918Z"
   },
   {
    "duration": 25,
    "start_time": "2022-04-23T12:37:14.940Z"
   },
   {
    "duration": 27,
    "start_time": "2022-04-23T12:37:14.967Z"
   },
   {
    "duration": 34,
    "start_time": "2022-04-23T12:37:14.995Z"
   },
   {
    "duration": 44,
    "start_time": "2022-04-23T12:37:15.031Z"
   },
   {
    "duration": 12,
    "start_time": "2022-04-23T12:37:15.077Z"
   },
   {
    "duration": 21,
    "start_time": "2022-04-23T12:37:15.091Z"
   },
   {
    "duration": 27,
    "start_time": "2022-04-23T12:37:15.113Z"
   },
   {
    "duration": 22,
    "start_time": "2022-04-23T12:37:15.142Z"
   },
   {
    "duration": 10,
    "start_time": "2022-04-23T12:37:15.166Z"
   },
   {
    "duration": 20,
    "start_time": "2022-04-23T12:37:15.178Z"
   },
   {
    "duration": 10,
    "start_time": "2022-04-23T12:37:15.200Z"
   },
   {
    "duration": 6,
    "start_time": "2022-04-23T12:37:15.212Z"
   },
   {
    "duration": 8,
    "start_time": "2022-04-23T12:37:15.219Z"
   },
   {
    "duration": 15,
    "start_time": "2022-04-23T12:37:15.229Z"
   },
   {
    "duration": 17,
    "start_time": "2022-04-23T12:37:15.246Z"
   },
   {
    "duration": 19,
    "start_time": "2022-04-23T12:37:15.265Z"
   },
   {
    "duration": 29,
    "start_time": "2022-04-23T12:37:15.286Z"
   },
   {
    "duration": 14,
    "start_time": "2022-04-23T12:37:15.317Z"
   },
   {
    "duration": 9,
    "start_time": "2022-04-23T12:37:15.333Z"
   },
   {
    "duration": 10,
    "start_time": "2022-04-23T12:56:16.457Z"
   },
   {
    "duration": 24,
    "start_time": "2022-04-23T12:56:31.456Z"
   },
   {
    "duration": 12,
    "start_time": "2022-04-23T12:56:46.932Z"
   },
   {
    "duration": 4,
    "start_time": "2022-04-23T12:57:05.330Z"
   },
   {
    "duration": 5,
    "start_time": "2022-04-23T12:58:01.488Z"
   },
   {
    "duration": 11,
    "start_time": "2022-04-23T13:10:12.850Z"
   },
   {
    "duration": 1952,
    "start_time": "2022-04-23T14:59:44.399Z"
   },
   {
    "duration": 58,
    "start_time": "2022-04-23T14:59:46.354Z"
   },
   {
    "duration": 29,
    "start_time": "2022-04-23T14:59:46.414Z"
   },
   {
    "duration": 45,
    "start_time": "2022-04-23T14:59:46.447Z"
   },
   {
    "duration": 6,
    "start_time": "2022-04-23T14:59:46.495Z"
   },
   {
    "duration": 25,
    "start_time": "2022-04-23T14:59:46.503Z"
   },
   {
    "duration": 64,
    "start_time": "2022-04-23T14:59:46.530Z"
   },
   {
    "duration": 20,
    "start_time": "2022-04-23T14:59:46.597Z"
   },
   {
    "duration": 13,
    "start_time": "2022-04-23T14:59:46.620Z"
   },
   {
    "duration": 8,
    "start_time": "2022-04-23T14:59:46.637Z"
   },
   {
    "duration": 44,
    "start_time": "2022-04-23T14:59:46.647Z"
   },
   {
    "duration": 13,
    "start_time": "2022-04-23T14:59:46.694Z"
   },
   {
    "duration": 8,
    "start_time": "2022-04-23T14:59:46.709Z"
   },
   {
    "duration": 31,
    "start_time": "2022-04-23T14:59:46.719Z"
   },
   {
    "duration": 36,
    "start_time": "2022-04-23T14:59:46.752Z"
   },
   {
    "duration": 26,
    "start_time": "2022-04-23T14:59:46.790Z"
   },
   {
    "duration": 7,
    "start_time": "2022-04-23T14:59:46.818Z"
   },
   {
    "duration": 6,
    "start_time": "2022-04-23T14:59:46.827Z"
   },
   {
    "duration": 56,
    "start_time": "2022-04-23T14:59:46.835Z"
   },
   {
    "duration": 23,
    "start_time": "2022-04-23T14:59:46.895Z"
   },
   {
    "duration": 135,
    "start_time": "2022-04-23T14:59:46.920Z"
   },
   {
    "duration": 12,
    "start_time": "2022-04-23T14:59:47.057Z"
   },
   {
    "duration": 29,
    "start_time": "2022-04-23T14:59:47.071Z"
   },
   {
    "duration": 485,
    "start_time": "2022-04-23T14:59:47.102Z"
   },
   {
    "duration": 24,
    "start_time": "2022-04-23T14:59:47.590Z"
   },
   {
    "duration": 25,
    "start_time": "2022-04-23T14:59:47.616Z"
   },
   {
    "duration": 309,
    "start_time": "2022-04-23T14:59:47.643Z"
   },
   {
    "duration": 192,
    "start_time": "2022-04-23T14:59:47.960Z"
   },
   {
    "duration": 17,
    "start_time": "2022-04-23T14:59:48.154Z"
   },
   {
    "duration": 492,
    "start_time": "2022-04-23T14:59:48.186Z"
   },
   {
    "duration": 1101,
    "start_time": "2022-04-23T14:59:48.680Z"
   },
   {
    "duration": 34,
    "start_time": "2022-04-23T14:59:49.784Z"
   },
   {
    "duration": 592,
    "start_time": "2022-04-23T14:59:49.820Z"
   },
   {
    "duration": 905,
    "start_time": "2022-04-23T14:59:50.414Z"
   },
   {
    "duration": 141,
    "start_time": "2022-04-23T14:59:51.321Z"
   },
   {
    "duration": 36,
    "start_time": "2022-04-23T14:59:51.464Z"
   },
   {
    "duration": 5,
    "start_time": "2022-04-23T14:59:51.503Z"
   },
   {
    "duration": 363,
    "start_time": "2022-04-23T14:59:51.510Z"
   },
   {
    "duration": 10,
    "start_time": "2022-04-23T14:59:51.881Z"
   },
   {
    "duration": 25,
    "start_time": "2022-04-23T14:59:51.895Z"
   },
   {
    "duration": 266,
    "start_time": "2022-04-23T14:59:51.922Z"
   },
   {
    "duration": 8,
    "start_time": "2022-04-23T14:59:52.191Z"
   },
   {
    "duration": 27,
    "start_time": "2022-04-23T14:59:52.202Z"
   },
   {
    "duration": 7,
    "start_time": "2022-04-23T14:59:52.231Z"
   },
   {
    "duration": 65,
    "start_time": "2022-04-23T14:59:52.240Z"
   },
   {
    "duration": 7,
    "start_time": "2022-04-23T14:59:52.308Z"
   },
   {
    "duration": 16,
    "start_time": "2022-04-23T14:59:52.319Z"
   },
   {
    "duration": 56,
    "start_time": "2022-04-23T14:59:52.338Z"
   },
   {
    "duration": 6,
    "start_time": "2022-04-23T14:59:52.397Z"
   },
   {
    "duration": 20,
    "start_time": "2022-04-23T14:59:52.405Z"
   },
   {
    "duration": 32,
    "start_time": "2022-04-23T14:59:52.427Z"
   },
   {
    "duration": 52,
    "start_time": "2022-04-23T14:59:52.461Z"
   },
   {
    "duration": 8,
    "start_time": "2022-04-23T14:59:52.515Z"
   },
   {
    "duration": 11,
    "start_time": "2022-04-23T14:59:52.526Z"
   },
   {
    "duration": 9,
    "start_time": "2022-04-23T14:59:52.539Z"
   },
   {
    "duration": 36,
    "start_time": "2022-04-23T14:59:52.551Z"
   },
   {
    "duration": 26,
    "start_time": "2022-04-23T14:59:52.593Z"
   },
   {
    "duration": 4,
    "start_time": "2022-04-23T14:59:52.621Z"
   },
   {
    "duration": 7,
    "start_time": "2022-04-23T14:59:52.627Z"
   },
   {
    "duration": 15,
    "start_time": "2022-04-23T14:59:52.636Z"
   },
   {
    "duration": 45,
    "start_time": "2022-04-23T14:59:52.654Z"
   },
   {
    "duration": 17,
    "start_time": "2022-04-23T14:59:52.702Z"
   },
   {
    "duration": 16,
    "start_time": "2022-04-23T14:59:52.722Z"
   },
   {
    "duration": 60,
    "start_time": "2022-04-23T14:59:52.740Z"
   },
   {
    "duration": 15,
    "start_time": "2022-04-23T14:59:52.803Z"
   },
   {
    "duration": 15,
    "start_time": "2022-04-23T14:59:52.820Z"
   },
   {
    "duration": 15,
    "start_time": "2022-04-23T14:59:52.837Z"
   },
   {
    "duration": 34,
    "start_time": "2022-04-23T14:59:52.882Z"
   },
   {
    "duration": 15,
    "start_time": "2022-04-23T14:59:52.918Z"
   },
   {
    "duration": 21,
    "start_time": "2022-04-23T14:59:52.934Z"
   },
   {
    "duration": 33,
    "start_time": "2022-04-23T14:59:52.957Z"
   },
   {
    "duration": 16,
    "start_time": "2022-04-23T14:59:52.993Z"
   },
   {
    "duration": 5,
    "start_time": "2022-04-23T14:59:53.011Z"
   },
   {
    "duration": 10,
    "start_time": "2022-04-23T14:59:53.018Z"
   },
   {
    "duration": 7,
    "start_time": "2022-04-23T14:59:53.031Z"
   },
   {
    "duration": 51,
    "start_time": "2022-04-23T14:59:53.040Z"
   },
   {
    "duration": 11,
    "start_time": "2022-04-23T14:59:53.094Z"
   },
   {
    "duration": 13,
    "start_time": "2022-04-23T14:59:53.107Z"
   },
   {
    "duration": 6,
    "start_time": "2022-04-23T14:59:53.122Z"
   },
   {
    "duration": 10,
    "start_time": "2022-04-23T14:59:53.130Z"
   },
   {
    "duration": 4,
    "start_time": "2022-04-23T16:02:45.274Z"
   },
   {
    "duration": 51,
    "start_time": "2022-04-23T16:02:45.444Z"
   },
   {
    "duration": 21,
    "start_time": "2022-04-23T16:02:47.602Z"
   },
   {
    "duration": 25,
    "start_time": "2022-04-23T16:02:48.075Z"
   },
   {
    "duration": 5,
    "start_time": "2022-04-23T16:02:51.666Z"
   },
   {
    "duration": 30,
    "start_time": "2022-04-23T16:02:53.673Z"
   },
   {
    "duration": 13,
    "start_time": "2022-04-23T16:03:16.141Z"
   },
   {
    "duration": 10,
    "start_time": "2022-04-23T16:03:38.495Z"
   },
   {
    "duration": 10,
    "start_time": "2022-04-23T16:04:02.455Z"
   },
   {
    "duration": 7,
    "start_time": "2022-04-23T16:05:28.615Z"
   },
   {
    "duration": 6,
    "start_time": "2022-04-23T16:05:32.518Z"
   },
   {
    "duration": 6,
    "start_time": "2022-04-23T16:05:35.614Z"
   },
   {
    "duration": 8,
    "start_time": "2022-04-23T16:05:45.826Z"
   },
   {
    "duration": 8,
    "start_time": "2022-04-23T16:05:57.167Z"
   },
   {
    "duration": 10,
    "start_time": "2022-04-23T16:07:44.526Z"
   },
   {
    "duration": 11,
    "start_time": "2022-04-23T16:07:53.696Z"
   },
   {
    "duration": 10,
    "start_time": "2022-04-23T16:08:10.762Z"
   },
   {
    "duration": 12,
    "start_time": "2022-04-23T16:11:04.347Z"
   },
   {
    "duration": 33,
    "start_time": "2022-04-23T16:13:36.992Z"
   },
   {
    "duration": 13,
    "start_time": "2022-04-23T16:14:15.627Z"
   },
   {
    "duration": 179,
    "start_time": "2022-04-23T16:14:34.877Z"
   },
   {
    "duration": 18,
    "start_time": "2022-04-23T16:14:39.779Z"
   },
   {
    "duration": 1467,
    "start_time": "2022-04-23T16:14:46.515Z"
   },
   {
    "duration": 55,
    "start_time": "2022-04-23T16:14:47.987Z"
   },
   {
    "duration": 27,
    "start_time": "2022-04-23T16:14:48.044Z"
   },
   {
    "duration": 26,
    "start_time": "2022-04-23T16:14:48.082Z"
   },
   {
    "duration": 4,
    "start_time": "2022-04-23T16:14:48.112Z"
   },
   {
    "duration": 26,
    "start_time": "2022-04-23T16:14:48.118Z"
   },
   {
    "duration": 20,
    "start_time": "2022-04-23T16:14:48.182Z"
   },
   {
    "duration": 13,
    "start_time": "2022-04-23T16:14:48.205Z"
   },
   {
    "duration": 31,
    "start_time": "2022-04-23T16:14:48.220Z"
   },
   {
    "duration": 56,
    "start_time": "2022-04-23T16:14:48.254Z"
   },
   {
    "duration": 12,
    "start_time": "2022-04-23T16:14:48.312Z"
   },
   {
    "duration": 10,
    "start_time": "2022-04-23T16:14:48.327Z"
   },
   {
    "duration": 9,
    "start_time": "2022-04-23T16:14:48.340Z"
   },
   {
    "duration": 11,
    "start_time": "2022-04-23T16:14:48.392Z"
   },
   {
    "duration": 11,
    "start_time": "2022-04-23T16:14:48.405Z"
   },
   {
    "duration": 27,
    "start_time": "2022-04-23T16:14:48.419Z"
   },
   {
    "duration": 10,
    "start_time": "2022-04-23T16:14:48.449Z"
   },
   {
    "duration": 51,
    "start_time": "2022-04-23T16:14:48.461Z"
   },
   {
    "duration": 11,
    "start_time": "2022-04-23T16:14:48.514Z"
   },
   {
    "duration": 10,
    "start_time": "2022-04-23T16:14:48.527Z"
   },
   {
    "duration": 48,
    "start_time": "2022-04-23T16:14:48.539Z"
   },
   {
    "duration": 30,
    "start_time": "2022-04-23T16:14:48.590Z"
   },
   {
    "duration": 128,
    "start_time": "2022-04-23T16:14:48.622Z"
   },
   {
    "duration": 12,
    "start_time": "2022-04-23T16:14:48.752Z"
   },
   {
    "duration": 33,
    "start_time": "2022-04-23T16:14:48.766Z"
   },
   {
    "duration": 477,
    "start_time": "2022-04-23T16:14:48.802Z"
   },
   {
    "duration": 27,
    "start_time": "2022-04-23T16:14:49.283Z"
   },
   {
    "duration": 26,
    "start_time": "2022-04-23T16:14:49.312Z"
   },
   {
    "duration": 272,
    "start_time": "2022-04-23T16:14:49.341Z"
   },
   {
    "duration": 260,
    "start_time": "2022-04-23T16:14:49.615Z"
   },
   {
    "duration": 26,
    "start_time": "2022-04-23T16:14:49.881Z"
   },
   {
    "duration": 676,
    "start_time": "2022-04-23T16:14:49.910Z"
   },
   {
    "duration": 1575,
    "start_time": "2022-04-23T16:14:50.589Z"
   },
   {
    "duration": 46,
    "start_time": "2022-04-23T16:14:52.166Z"
   },
   {
    "duration": 792,
    "start_time": "2022-04-23T16:14:52.215Z"
   },
   {
    "duration": 1270,
    "start_time": "2022-04-23T16:14:53.011Z"
   },
   {
    "duration": 200,
    "start_time": "2022-04-23T16:14:54.290Z"
   },
   {
    "duration": 29,
    "start_time": "2022-04-23T16:14:54.499Z"
   },
   {
    "duration": 7,
    "start_time": "2022-04-23T16:14:54.531Z"
   },
   {
    "duration": 341,
    "start_time": "2022-04-23T16:14:54.541Z"
   },
   {
    "duration": 8,
    "start_time": "2022-04-23T16:14:54.892Z"
   },
   {
    "duration": 21,
    "start_time": "2022-04-23T16:14:54.903Z"
   },
   {
    "duration": 264,
    "start_time": "2022-04-23T16:14:54.926Z"
   },
   {
    "duration": 10,
    "start_time": "2022-04-23T16:14:55.194Z"
   },
   {
    "duration": 21,
    "start_time": "2022-04-23T16:14:55.206Z"
   },
   {
    "duration": 7,
    "start_time": "2022-04-23T16:14:55.229Z"
   },
   {
    "duration": 61,
    "start_time": "2022-04-23T16:14:55.238Z"
   },
   {
    "duration": 9,
    "start_time": "2022-04-23T16:14:55.302Z"
   },
   {
    "duration": 21,
    "start_time": "2022-04-23T16:14:55.313Z"
   },
   {
    "duration": 45,
    "start_time": "2022-04-23T16:14:55.337Z"
   },
   {
    "duration": 8,
    "start_time": "2022-04-23T16:14:55.385Z"
   },
   {
    "duration": 22,
    "start_time": "2022-04-23T16:14:55.396Z"
   },
   {
    "duration": 30,
    "start_time": "2022-04-23T16:14:55.423Z"
   },
   {
    "duration": 61,
    "start_time": "2022-04-23T16:14:55.456Z"
   },
   {
    "duration": 8,
    "start_time": "2022-04-23T16:14:55.520Z"
   },
   {
    "duration": 6,
    "start_time": "2022-04-23T16:14:55.530Z"
   },
   {
    "duration": 6,
    "start_time": "2022-04-23T16:14:55.538Z"
   },
   {
    "duration": 38,
    "start_time": "2022-04-23T16:14:55.546Z"
   },
   {
    "duration": 34,
    "start_time": "2022-04-23T16:14:55.586Z"
   },
   {
    "duration": 4,
    "start_time": "2022-04-23T16:14:55.623Z"
   },
   {
    "duration": 7,
    "start_time": "2022-04-23T16:14:55.629Z"
   },
   {
    "duration": 7,
    "start_time": "2022-04-23T16:14:55.638Z"
   },
   {
    "duration": 66,
    "start_time": "2022-04-23T16:14:55.647Z"
   },
   {
    "duration": 21,
    "start_time": "2022-04-23T16:14:55.715Z"
   },
   {
    "duration": 23,
    "start_time": "2022-04-23T16:14:55.738Z"
   },
   {
    "duration": 48,
    "start_time": "2022-04-23T16:14:55.764Z"
   },
   {
    "duration": 16,
    "start_time": "2022-04-23T16:14:55.814Z"
   },
   {
    "duration": 23,
    "start_time": "2022-04-23T16:14:55.833Z"
   },
   {
    "duration": 37,
    "start_time": "2022-04-23T16:14:55.859Z"
   },
   {
    "duration": 39,
    "start_time": "2022-04-23T16:14:55.899Z"
   },
   {
    "duration": 15,
    "start_time": "2022-04-23T16:14:55.941Z"
   },
   {
    "duration": 39,
    "start_time": "2022-04-23T16:14:55.958Z"
   },
   {
    "duration": 13,
    "start_time": "2022-04-23T16:14:56.000Z"
   },
   {
    "duration": 11,
    "start_time": "2022-04-23T16:14:56.015Z"
   },
   {
    "duration": 4,
    "start_time": "2022-04-23T16:14:56.029Z"
   },
   {
    "duration": 11,
    "start_time": "2022-04-23T16:14:56.036Z"
   },
   {
    "duration": 9,
    "start_time": "2022-04-23T16:14:56.083Z"
   },
   {
    "duration": 18,
    "start_time": "2022-04-23T16:14:56.095Z"
   },
   {
    "duration": 12,
    "start_time": "2022-04-23T16:14:56.115Z"
   },
   {
    "duration": 11,
    "start_time": "2022-04-23T16:14:56.130Z"
   },
   {
    "duration": 5,
    "start_time": "2022-04-23T16:14:56.144Z"
   },
   {
    "duration": 6,
    "start_time": "2022-04-23T16:14:56.195Z"
   },
   {
    "duration": 1505,
    "start_time": "2022-04-23T16:18:07.539Z"
   },
   {
    "duration": 54,
    "start_time": "2022-04-23T16:18:09.046Z"
   },
   {
    "duration": 26,
    "start_time": "2022-04-23T16:18:09.104Z"
   },
   {
    "duration": 21,
    "start_time": "2022-04-23T16:18:09.133Z"
   },
   {
    "duration": 27,
    "start_time": "2022-04-23T16:18:09.156Z"
   },
   {
    "duration": 40,
    "start_time": "2022-04-23T16:18:09.188Z"
   },
   {
    "duration": 9,
    "start_time": "2022-04-23T16:18:09.231Z"
   },
   {
    "duration": 13,
    "start_time": "2022-04-23T16:18:09.242Z"
   },
   {
    "duration": 64,
    "start_time": "2022-04-23T16:18:09.257Z"
   },
   {
    "duration": 20,
    "start_time": "2022-04-23T16:18:09.325Z"
   },
   {
    "duration": 43,
    "start_time": "2022-04-23T16:18:09.347Z"
   },
   {
    "duration": 8,
    "start_time": "2022-04-23T16:18:09.393Z"
   },
   {
    "duration": 8,
    "start_time": "2022-04-23T16:18:09.404Z"
   },
   {
    "duration": 9,
    "start_time": "2022-04-23T16:18:09.414Z"
   },
   {
    "duration": 8,
    "start_time": "2022-04-23T16:18:09.425Z"
   },
   {
    "duration": 61,
    "start_time": "2022-04-23T16:18:09.435Z"
   },
   {
    "duration": 8,
    "start_time": "2022-04-23T16:18:09.499Z"
   },
   {
    "duration": 22,
    "start_time": "2022-04-23T16:18:09.509Z"
   },
   {
    "duration": 7,
    "start_time": "2022-04-23T16:18:09.533Z"
   },
   {
    "duration": 7,
    "start_time": "2022-04-23T16:18:09.542Z"
   },
   {
    "duration": 56,
    "start_time": "2022-04-23T16:18:09.551Z"
   },
   {
    "duration": 50,
    "start_time": "2022-04-23T16:18:09.610Z"
   },
   {
    "duration": 128,
    "start_time": "2022-04-23T16:18:09.663Z"
   },
   {
    "duration": 15,
    "start_time": "2022-04-23T16:18:09.793Z"
   },
   {
    "duration": 18,
    "start_time": "2022-04-23T16:18:09.811Z"
   },
   {
    "duration": 474,
    "start_time": "2022-04-23T16:18:09.832Z"
   },
   {
    "duration": 32,
    "start_time": "2022-04-23T16:18:10.308Z"
   },
   {
    "duration": 56,
    "start_time": "2022-04-23T16:18:10.346Z"
   },
   {
    "duration": 257,
    "start_time": "2022-04-23T16:18:10.404Z"
   },
   {
    "duration": 175,
    "start_time": "2022-04-23T16:18:10.663Z"
   },
   {
    "duration": 18,
    "start_time": "2022-04-23T16:18:10.840Z"
   },
   {
    "duration": 662,
    "start_time": "2022-04-23T16:18:10.860Z"
   },
   {
    "duration": 1059,
    "start_time": "2022-04-23T16:18:11.525Z"
   },
   {
    "duration": 35,
    "start_time": "2022-04-23T16:18:12.587Z"
   },
   {
    "duration": 570,
    "start_time": "2022-04-23T16:18:12.624Z"
   },
   {
    "duration": 851,
    "start_time": "2022-04-23T16:18:13.197Z"
   },
   {
    "duration": 156,
    "start_time": "2022-04-23T16:18:14.050Z"
   },
   {
    "duration": 20,
    "start_time": "2022-04-23T16:18:14.208Z"
   },
   {
    "duration": 12,
    "start_time": "2022-04-23T16:18:14.231Z"
   },
   {
    "duration": 255,
    "start_time": "2022-04-23T16:18:14.246Z"
   },
   {
    "duration": 7,
    "start_time": "2022-04-23T16:18:14.504Z"
   },
   {
    "duration": 28,
    "start_time": "2022-04-23T16:18:14.513Z"
   },
   {
    "duration": 241,
    "start_time": "2022-04-23T16:18:14.543Z"
   },
   {
    "duration": 9,
    "start_time": "2022-04-23T16:18:14.787Z"
   },
   {
    "duration": 24,
    "start_time": "2022-04-23T16:18:14.799Z"
   },
   {
    "duration": 7,
    "start_time": "2022-04-23T16:18:14.825Z"
   },
   {
    "duration": 65,
    "start_time": "2022-04-23T16:18:14.834Z"
   },
   {
    "duration": 8,
    "start_time": "2022-04-23T16:18:14.902Z"
   },
   {
    "duration": 17,
    "start_time": "2022-04-23T16:18:14.912Z"
   },
   {
    "duration": 53,
    "start_time": "2022-04-23T16:18:14.932Z"
   },
   {
    "duration": 9,
    "start_time": "2022-04-23T16:18:14.988Z"
   },
   {
    "duration": 37,
    "start_time": "2022-04-23T16:18:15.000Z"
   },
   {
    "duration": 31,
    "start_time": "2022-04-23T16:18:15.039Z"
   },
   {
    "duration": 40,
    "start_time": "2022-04-23T16:18:15.073Z"
   },
   {
    "duration": 7,
    "start_time": "2022-04-23T16:18:15.115Z"
   },
   {
    "duration": 12,
    "start_time": "2022-04-23T16:18:15.124Z"
   },
   {
    "duration": 8,
    "start_time": "2022-04-23T16:18:15.138Z"
   },
   {
    "duration": 49,
    "start_time": "2022-04-23T16:18:15.148Z"
   },
   {
    "duration": 27,
    "start_time": "2022-04-23T16:18:15.200Z"
   },
   {
    "duration": 4,
    "start_time": "2022-04-23T16:18:15.229Z"
   },
   {
    "duration": 6,
    "start_time": "2022-04-23T16:18:15.236Z"
   },
   {
    "duration": 7,
    "start_time": "2022-04-23T16:18:15.244Z"
   },
   {
    "duration": 43,
    "start_time": "2022-04-23T16:18:15.253Z"
   },
   {
    "duration": 17,
    "start_time": "2022-04-23T16:18:15.299Z"
   },
   {
    "duration": 14,
    "start_time": "2022-04-23T16:18:15.318Z"
   },
   {
    "duration": 62,
    "start_time": "2022-04-23T16:18:15.334Z"
   },
   {
    "duration": 17,
    "start_time": "2022-04-23T16:18:15.398Z"
   },
   {
    "duration": 18,
    "start_time": "2022-04-23T16:18:15.418Z"
   },
   {
    "duration": 17,
    "start_time": "2022-04-23T16:18:15.438Z"
   },
   {
    "duration": 29,
    "start_time": "2022-04-23T16:18:15.486Z"
   },
   {
    "duration": 15,
    "start_time": "2022-04-23T16:18:15.517Z"
   },
   {
    "duration": 15,
    "start_time": "2022-04-23T16:18:15.534Z"
   },
   {
    "duration": 46,
    "start_time": "2022-04-23T16:18:15.551Z"
   },
   {
    "duration": 13,
    "start_time": "2022-04-23T16:18:15.599Z"
   },
   {
    "duration": 4,
    "start_time": "2022-04-23T16:18:15.617Z"
   },
   {
    "duration": 10,
    "start_time": "2022-04-23T16:18:15.623Z"
   },
   {
    "duration": 10,
    "start_time": "2022-04-23T16:18:15.635Z"
   },
   {
    "duration": 50,
    "start_time": "2022-04-23T16:18:15.647Z"
   },
   {
    "duration": 12,
    "start_time": "2022-04-23T16:18:15.700Z"
   },
   {
    "duration": 12,
    "start_time": "2022-04-23T16:18:15.715Z"
   },
   {
    "duration": 7,
    "start_time": "2022-04-23T16:18:15.730Z"
   },
   {
    "duration": 11,
    "start_time": "2022-04-23T16:18:15.782Z"
   },
   {
    "duration": 133,
    "start_time": "2022-04-23T16:21:04.576Z"
   },
   {
    "duration": 1517,
    "start_time": "2022-04-23T16:21:12.464Z"
   },
   {
    "duration": 54,
    "start_time": "2022-04-23T16:21:13.985Z"
   },
   {
    "duration": 28,
    "start_time": "2022-04-23T16:21:14.041Z"
   },
   {
    "duration": 25,
    "start_time": "2022-04-23T16:21:14.083Z"
   },
   {
    "duration": 5,
    "start_time": "2022-04-23T16:21:14.110Z"
   },
   {
    "duration": 29,
    "start_time": "2022-04-23T16:21:14.117Z"
   },
   {
    "duration": 100,
    "start_time": "2022-04-23T16:21:14.148Z"
   },
   {
    "duration": 1,
    "start_time": "2022-04-23T16:21:14.254Z"
   },
   {
    "duration": 0,
    "start_time": "2022-04-23T16:21:14.257Z"
   },
   {
    "duration": 0,
    "start_time": "2022-04-23T16:21:14.258Z"
   },
   {
    "duration": 0,
    "start_time": "2022-04-23T16:21:14.260Z"
   },
   {
    "duration": 0,
    "start_time": "2022-04-23T16:21:14.261Z"
   },
   {
    "duration": 0,
    "start_time": "2022-04-23T16:21:14.263Z"
   },
   {
    "duration": 0,
    "start_time": "2022-04-23T16:21:14.264Z"
   },
   {
    "duration": 0,
    "start_time": "2022-04-23T16:21:14.266Z"
   },
   {
    "duration": 0,
    "start_time": "2022-04-23T16:21:14.267Z"
   },
   {
    "duration": 0,
    "start_time": "2022-04-23T16:21:14.269Z"
   },
   {
    "duration": 0,
    "start_time": "2022-04-23T16:21:14.270Z"
   },
   {
    "duration": 0,
    "start_time": "2022-04-23T16:21:14.271Z"
   },
   {
    "duration": 0,
    "start_time": "2022-04-23T16:21:14.273Z"
   },
   {
    "duration": 0,
    "start_time": "2022-04-23T16:21:14.274Z"
   },
   {
    "duration": 0,
    "start_time": "2022-04-23T16:21:14.276Z"
   },
   {
    "duration": 0,
    "start_time": "2022-04-23T16:21:14.278Z"
   },
   {
    "duration": 0,
    "start_time": "2022-04-23T16:21:14.279Z"
   },
   {
    "duration": 0,
    "start_time": "2022-04-23T16:21:14.283Z"
   },
   {
    "duration": 0,
    "start_time": "2022-04-23T16:21:14.284Z"
   },
   {
    "duration": 0,
    "start_time": "2022-04-23T16:21:14.286Z"
   },
   {
    "duration": 0,
    "start_time": "2022-04-23T16:21:14.287Z"
   },
   {
    "duration": 0,
    "start_time": "2022-04-23T16:21:14.288Z"
   },
   {
    "duration": 0,
    "start_time": "2022-04-23T16:21:14.290Z"
   },
   {
    "duration": 0,
    "start_time": "2022-04-23T16:21:14.291Z"
   },
   {
    "duration": 0,
    "start_time": "2022-04-23T16:21:14.292Z"
   },
   {
    "duration": 0,
    "start_time": "2022-04-23T16:21:14.296Z"
   },
   {
    "duration": 0,
    "start_time": "2022-04-23T16:21:14.302Z"
   },
   {
    "duration": 0,
    "start_time": "2022-04-23T16:21:14.305Z"
   },
   {
    "duration": 0,
    "start_time": "2022-04-23T16:21:14.306Z"
   },
   {
    "duration": 0,
    "start_time": "2022-04-23T16:21:14.308Z"
   },
   {
    "duration": 0,
    "start_time": "2022-04-23T16:21:14.310Z"
   },
   {
    "duration": 0,
    "start_time": "2022-04-23T16:21:14.311Z"
   },
   {
    "duration": 0,
    "start_time": "2022-04-23T16:21:14.313Z"
   },
   {
    "duration": 0,
    "start_time": "2022-04-23T16:21:14.314Z"
   },
   {
    "duration": 0,
    "start_time": "2022-04-23T16:21:14.315Z"
   },
   {
    "duration": 0,
    "start_time": "2022-04-23T16:21:14.317Z"
   },
   {
    "duration": 0,
    "start_time": "2022-04-23T16:21:14.318Z"
   },
   {
    "duration": 0,
    "start_time": "2022-04-23T16:21:14.320Z"
   },
   {
    "duration": 0,
    "start_time": "2022-04-23T16:21:14.321Z"
   },
   {
    "duration": 0,
    "start_time": "2022-04-23T16:21:14.322Z"
   },
   {
    "duration": 0,
    "start_time": "2022-04-23T16:21:14.323Z"
   },
   {
    "duration": 0,
    "start_time": "2022-04-23T16:21:14.324Z"
   },
   {
    "duration": 0,
    "start_time": "2022-04-23T16:21:14.326Z"
   },
   {
    "duration": 0,
    "start_time": "2022-04-23T16:21:14.327Z"
   },
   {
    "duration": 0,
    "start_time": "2022-04-23T16:21:14.329Z"
   },
   {
    "duration": 0,
    "start_time": "2022-04-23T16:21:14.391Z"
   },
   {
    "duration": 0,
    "start_time": "2022-04-23T16:21:14.392Z"
   },
   {
    "duration": 0,
    "start_time": "2022-04-23T16:21:14.398Z"
   },
   {
    "duration": 0,
    "start_time": "2022-04-23T16:21:14.399Z"
   },
   {
    "duration": 0,
    "start_time": "2022-04-23T16:21:14.401Z"
   },
   {
    "duration": 0,
    "start_time": "2022-04-23T16:21:14.403Z"
   },
   {
    "duration": 0,
    "start_time": "2022-04-23T16:21:14.405Z"
   },
   {
    "duration": 0,
    "start_time": "2022-04-23T16:21:14.406Z"
   },
   {
    "duration": 0,
    "start_time": "2022-04-23T16:21:14.408Z"
   },
   {
    "duration": 0,
    "start_time": "2022-04-23T16:21:14.409Z"
   },
   {
    "duration": 0,
    "start_time": "2022-04-23T16:21:14.411Z"
   },
   {
    "duration": 0,
    "start_time": "2022-04-23T16:21:14.412Z"
   },
   {
    "duration": 0,
    "start_time": "2022-04-23T16:21:14.414Z"
   },
   {
    "duration": 0,
    "start_time": "2022-04-23T16:21:14.415Z"
   },
   {
    "duration": 0,
    "start_time": "2022-04-23T16:21:14.416Z"
   },
   {
    "duration": 0,
    "start_time": "2022-04-23T16:21:14.418Z"
   },
   {
    "duration": 0,
    "start_time": "2022-04-23T16:21:14.420Z"
   },
   {
    "duration": 0,
    "start_time": "2022-04-23T16:21:14.422Z"
   },
   {
    "duration": 0,
    "start_time": "2022-04-23T16:21:14.423Z"
   },
   {
    "duration": 0,
    "start_time": "2022-04-23T16:21:14.425Z"
   },
   {
    "duration": 0,
    "start_time": "2022-04-23T16:21:14.426Z"
   },
   {
    "duration": 0,
    "start_time": "2022-04-23T16:21:14.427Z"
   },
   {
    "duration": 0,
    "start_time": "2022-04-23T16:21:14.428Z"
   },
   {
    "duration": 0,
    "start_time": "2022-04-23T16:21:14.429Z"
   },
   {
    "duration": 0,
    "start_time": "2022-04-23T16:21:14.431Z"
   },
   {
    "duration": 0,
    "start_time": "2022-04-23T16:21:14.486Z"
   },
   {
    "duration": 0,
    "start_time": "2022-04-23T16:21:14.488Z"
   },
   {
    "duration": 0,
    "start_time": "2022-04-23T16:21:14.490Z"
   },
   {
    "duration": 0,
    "start_time": "2022-04-23T16:21:14.492Z"
   },
   {
    "duration": 0,
    "start_time": "2022-04-23T16:21:14.498Z"
   },
   {
    "duration": 9,
    "start_time": "2022-04-23T16:21:45.095Z"
   },
   {
    "duration": 7,
    "start_time": "2022-04-23T16:21:59.797Z"
   },
   {
    "duration": 1503,
    "start_time": "2022-04-23T16:22:10.550Z"
   },
   {
    "duration": 54,
    "start_time": "2022-04-23T16:22:12.056Z"
   },
   {
    "duration": 29,
    "start_time": "2022-04-23T16:22:12.112Z"
   },
   {
    "duration": 42,
    "start_time": "2022-04-23T16:22:12.145Z"
   },
   {
    "duration": 16,
    "start_time": "2022-04-23T16:22:12.189Z"
   },
   {
    "duration": 33,
    "start_time": "2022-04-23T16:22:12.208Z"
   },
   {
    "duration": 7,
    "start_time": "2022-04-23T16:22:12.244Z"
   },
   {
    "duration": 44,
    "start_time": "2022-04-23T16:22:12.254Z"
   },
   {
    "duration": 34,
    "start_time": "2022-04-23T16:22:12.300Z"
   },
   {
    "duration": 51,
    "start_time": "2022-04-23T16:22:12.339Z"
   },
   {
    "duration": 18,
    "start_time": "2022-04-23T16:22:12.393Z"
   },
   {
    "duration": 11,
    "start_time": "2022-04-23T16:22:12.413Z"
   },
   {
    "duration": 7,
    "start_time": "2022-04-23T16:22:12.427Z"
   },
   {
    "duration": 12,
    "start_time": "2022-04-23T16:22:12.436Z"
   },
   {
    "duration": 42,
    "start_time": "2022-04-23T16:22:12.451Z"
   },
   {
    "duration": 44,
    "start_time": "2022-04-23T16:22:12.496Z"
   },
   {
    "duration": 12,
    "start_time": "2022-04-23T16:22:12.543Z"
   },
   {
    "duration": 50,
    "start_time": "2022-04-23T16:22:12.557Z"
   },
   {
    "duration": 9,
    "start_time": "2022-04-23T16:22:12.610Z"
   },
   {
    "duration": 10,
    "start_time": "2022-04-23T16:22:12.621Z"
   },
   {
    "duration": 45,
    "start_time": "2022-04-23T16:22:12.634Z"
   },
   {
    "duration": 41,
    "start_time": "2022-04-23T16:22:12.682Z"
   },
   {
    "duration": 120,
    "start_time": "2022-04-23T16:22:12.726Z"
   },
   {
    "duration": 12,
    "start_time": "2022-04-23T16:22:12.848Z"
   },
   {
    "duration": 34,
    "start_time": "2022-04-23T16:22:12.862Z"
   },
   {
    "duration": 460,
    "start_time": "2022-04-23T16:22:12.899Z"
   },
   {
    "duration": 34,
    "start_time": "2022-04-23T16:22:13.361Z"
   },
   {
    "duration": 26,
    "start_time": "2022-04-23T16:22:13.402Z"
   },
   {
    "duration": 277,
    "start_time": "2022-04-23T16:22:13.430Z"
   },
   {
    "duration": 195,
    "start_time": "2022-04-23T16:22:13.709Z"
   },
   {
    "duration": 17,
    "start_time": "2022-04-23T16:22:13.907Z"
   },
   {
    "duration": 473,
    "start_time": "2022-04-23T16:22:13.926Z"
   },
   {
    "duration": 1097,
    "start_time": "2022-04-23T16:22:14.401Z"
   },
   {
    "duration": 31,
    "start_time": "2022-04-23T16:22:15.500Z"
   },
   {
    "duration": 567,
    "start_time": "2022-04-23T16:22:15.533Z"
   },
   {
    "duration": 902,
    "start_time": "2022-04-23T16:22:16.103Z"
   },
   {
    "duration": 142,
    "start_time": "2022-04-23T16:22:17.008Z"
   },
   {
    "duration": 34,
    "start_time": "2022-04-23T16:22:17.152Z"
   },
   {
    "duration": 7,
    "start_time": "2022-04-23T16:22:17.189Z"
   },
   {
    "duration": 244,
    "start_time": "2022-04-23T16:22:17.199Z"
   },
   {
    "duration": 7,
    "start_time": "2022-04-23T16:22:17.446Z"
   },
   {
    "duration": 44,
    "start_time": "2022-04-23T16:22:17.455Z"
   },
   {
    "duration": 242,
    "start_time": "2022-04-23T16:22:17.502Z"
   },
   {
    "duration": 7,
    "start_time": "2022-04-23T16:22:17.746Z"
   },
   {
    "duration": 51,
    "start_time": "2022-04-23T16:22:17.755Z"
   },
   {
    "duration": 7,
    "start_time": "2022-04-23T16:22:17.809Z"
   },
   {
    "duration": 20,
    "start_time": "2022-04-23T16:22:17.818Z"
   },
   {
    "duration": 7,
    "start_time": "2022-04-23T16:22:17.840Z"
   },
   {
    "duration": 48,
    "start_time": "2022-04-23T16:22:17.850Z"
   },
   {
    "duration": 16,
    "start_time": "2022-04-23T16:22:17.902Z"
   },
   {
    "duration": 7,
    "start_time": "2022-04-23T16:22:17.921Z"
   },
   {
    "duration": 20,
    "start_time": "2022-04-23T16:22:17.930Z"
   },
   {
    "duration": 62,
    "start_time": "2022-04-23T16:22:17.952Z"
   },
   {
    "duration": 42,
    "start_time": "2022-04-23T16:22:18.017Z"
   },
   {
    "duration": 24,
    "start_time": "2022-04-23T16:22:18.062Z"
   },
   {
    "duration": 8,
    "start_time": "2022-04-23T16:22:18.088Z"
   },
   {
    "duration": 13,
    "start_time": "2022-04-23T16:22:18.099Z"
   },
   {
    "duration": 11,
    "start_time": "2022-04-23T16:22:18.115Z"
   },
   {
    "duration": 67,
    "start_time": "2022-04-23T16:22:18.128Z"
   },
   {
    "duration": 5,
    "start_time": "2022-04-23T16:22:18.197Z"
   },
   {
    "duration": 11,
    "start_time": "2022-04-23T16:22:18.203Z"
   },
   {
    "duration": 8,
    "start_time": "2022-04-23T16:22:18.216Z"
   },
   {
    "duration": 16,
    "start_time": "2022-04-23T16:22:18.226Z"
   },
   {
    "duration": 39,
    "start_time": "2022-04-23T16:22:18.244Z"
   },
   {
    "duration": 19,
    "start_time": "2022-04-23T16:22:18.288Z"
   },
   {
    "duration": 29,
    "start_time": "2022-04-23T16:22:18.310Z"
   },
   {
    "duration": 46,
    "start_time": "2022-04-23T16:22:18.342Z"
   },
   {
    "duration": 24,
    "start_time": "2022-04-23T16:22:18.390Z"
   },
   {
    "duration": 20,
    "start_time": "2022-04-23T16:22:18.416Z"
   },
   {
    "duration": 60,
    "start_time": "2022-04-23T16:22:18.438Z"
   },
   {
    "duration": 15,
    "start_time": "2022-04-23T16:22:18.500Z"
   },
   {
    "duration": 15,
    "start_time": "2022-04-23T16:22:18.517Z"
   },
   {
    "duration": 10,
    "start_time": "2022-04-23T16:22:18.534Z"
   },
   {
    "duration": 38,
    "start_time": "2022-04-23T16:22:18.547Z"
   },
   {
    "duration": 5,
    "start_time": "2022-04-23T16:22:18.588Z"
   },
   {
    "duration": 12,
    "start_time": "2022-04-23T16:22:18.596Z"
   },
   {
    "duration": 11,
    "start_time": "2022-04-23T16:22:18.611Z"
   },
   {
    "duration": 21,
    "start_time": "2022-04-23T16:22:18.625Z"
   },
   {
    "duration": 10,
    "start_time": "2022-04-23T16:22:18.648Z"
   },
   {
    "duration": 36,
    "start_time": "2022-04-23T16:22:18.661Z"
   },
   {
    "duration": 17,
    "start_time": "2022-04-23T16:22:18.699Z"
   },
   {
    "duration": 8,
    "start_time": "2022-04-23T16:22:18.726Z"
   },
   {
    "duration": 1458,
    "start_time": "2022-04-23T16:35:30.200Z"
   },
   {
    "duration": 57,
    "start_time": "2022-04-23T16:35:31.661Z"
   },
   {
    "duration": 26,
    "start_time": "2022-04-23T16:35:31.720Z"
   },
   {
    "duration": 41,
    "start_time": "2022-04-23T16:35:31.749Z"
   },
   {
    "duration": 5,
    "start_time": "2022-04-23T16:35:31.795Z"
   },
   {
    "duration": 40,
    "start_time": "2022-04-23T16:35:31.802Z"
   },
   {
    "duration": 7,
    "start_time": "2022-04-23T16:35:31.844Z"
   },
   {
    "duration": 37,
    "start_time": "2022-04-23T16:35:31.853Z"
   },
   {
    "duration": 33,
    "start_time": "2022-04-23T16:35:31.893Z"
   },
   {
    "duration": 21,
    "start_time": "2022-04-23T16:35:31.928Z"
   },
   {
    "duration": 34,
    "start_time": "2022-04-23T16:35:31.951Z"
   },
   {
    "duration": 18,
    "start_time": "2022-04-23T16:35:31.989Z"
   },
   {
    "duration": 21,
    "start_time": "2022-04-23T16:35:32.009Z"
   },
   {
    "duration": 21,
    "start_time": "2022-04-23T16:35:32.034Z"
   },
   {
    "duration": 12,
    "start_time": "2022-04-23T16:35:32.057Z"
   },
   {
    "duration": 31,
    "start_time": "2022-04-23T16:35:32.071Z"
   },
   {
    "duration": 9,
    "start_time": "2022-04-23T16:35:32.104Z"
   },
   {
    "duration": 23,
    "start_time": "2022-04-23T16:35:32.115Z"
   },
   {
    "duration": 22,
    "start_time": "2022-04-23T16:35:32.140Z"
   },
   {
    "duration": 20,
    "start_time": "2022-04-23T16:35:32.165Z"
   },
   {
    "duration": 35,
    "start_time": "2022-04-23T16:35:32.188Z"
   },
   {
    "duration": 21,
    "start_time": "2022-04-23T16:35:32.225Z"
   },
   {
    "duration": 147,
    "start_time": "2022-04-23T16:35:32.249Z"
   },
   {
    "duration": 4,
    "start_time": "2022-04-23T16:35:32.398Z"
   },
   {
    "duration": 18,
    "start_time": "2022-04-23T16:35:32.404Z"
   },
   {
    "duration": 472,
    "start_time": "2022-04-23T16:35:32.424Z"
   },
   {
    "duration": 24,
    "start_time": "2022-04-23T16:35:32.899Z"
   },
   {
    "duration": 29,
    "start_time": "2022-04-23T16:35:32.926Z"
   },
   {
    "duration": 282,
    "start_time": "2022-04-23T16:35:32.958Z"
   },
   {
    "duration": 193,
    "start_time": "2022-04-23T16:35:33.242Z"
   },
   {
    "duration": 17,
    "start_time": "2022-04-23T16:35:33.437Z"
   },
   {
    "duration": 450,
    "start_time": "2022-04-23T16:35:33.456Z"
   },
   {
    "duration": 1063,
    "start_time": "2022-04-23T16:35:33.909Z"
   },
   {
    "duration": 35,
    "start_time": "2022-04-23T16:35:34.987Z"
   },
   {
    "duration": 655,
    "start_time": "2022-04-23T16:35:35.024Z"
   },
   {
    "duration": 872,
    "start_time": "2022-04-23T16:35:35.682Z"
   },
   {
    "duration": 142,
    "start_time": "2022-04-23T16:35:36.556Z"
   },
   {
    "duration": 19,
    "start_time": "2022-04-23T16:35:36.701Z"
   },
   {
    "duration": 6,
    "start_time": "2022-04-23T16:35:36.722Z"
   },
   {
    "duration": 271,
    "start_time": "2022-04-23T16:35:36.730Z"
   },
   {
    "duration": 7,
    "start_time": "2022-04-23T16:35:37.010Z"
   },
   {
    "duration": 21,
    "start_time": "2022-04-23T16:35:37.019Z"
   },
   {
    "duration": 248,
    "start_time": "2022-04-23T16:35:37.042Z"
   },
   {
    "duration": 8,
    "start_time": "2022-04-23T16:35:37.292Z"
   },
   {
    "duration": 44,
    "start_time": "2022-04-23T16:35:37.302Z"
   },
   {
    "duration": 9,
    "start_time": "2022-04-23T16:35:37.348Z"
   },
   {
    "duration": 36,
    "start_time": "2022-04-23T16:35:37.360Z"
   },
   {
    "duration": 12,
    "start_time": "2022-04-23T16:35:37.399Z"
   },
   {
    "duration": 25,
    "start_time": "2022-04-23T16:35:37.413Z"
   },
   {
    "duration": 14,
    "start_time": "2022-04-23T16:35:37.440Z"
   },
   {
    "duration": 17,
    "start_time": "2022-04-23T16:35:37.456Z"
   },
   {
    "duration": 26,
    "start_time": "2022-04-23T16:35:37.475Z"
   },
   {
    "duration": 42,
    "start_time": "2022-04-23T16:35:37.503Z"
   },
   {
    "duration": 37,
    "start_time": "2022-04-23T16:35:37.547Z"
   },
   {
    "duration": 22,
    "start_time": "2022-04-23T16:35:37.587Z"
   },
   {
    "duration": 16,
    "start_time": "2022-04-23T16:35:37.612Z"
   },
   {
    "duration": 13,
    "start_time": "2022-04-23T16:35:37.631Z"
   },
   {
    "duration": 24,
    "start_time": "2022-04-23T16:35:37.646Z"
   },
   {
    "duration": 33,
    "start_time": "2022-04-23T16:35:37.673Z"
   },
   {
    "duration": 12,
    "start_time": "2022-04-23T16:35:37.708Z"
   },
   {
    "duration": 22,
    "start_time": "2022-04-23T16:35:37.722Z"
   },
   {
    "duration": 14,
    "start_time": "2022-04-23T16:35:37.746Z"
   },
   {
    "duration": 29,
    "start_time": "2022-04-23T16:35:37.762Z"
   },
   {
    "duration": 23,
    "start_time": "2022-04-23T16:35:37.793Z"
   },
   {
    "duration": 23,
    "start_time": "2022-04-23T16:35:37.818Z"
   },
   {
    "duration": 32,
    "start_time": "2022-04-23T16:35:37.843Z"
   },
   {
    "duration": 23,
    "start_time": "2022-04-23T16:35:37.881Z"
   },
   {
    "duration": 19,
    "start_time": "2022-04-23T16:35:37.906Z"
   },
   {
    "duration": 26,
    "start_time": "2022-04-23T16:35:37.927Z"
   },
   {
    "duration": 42,
    "start_time": "2022-04-23T16:35:37.955Z"
   },
   {
    "duration": 15,
    "start_time": "2022-04-23T16:35:37.999Z"
   },
   {
    "duration": 16,
    "start_time": "2022-04-23T16:35:38.016Z"
   },
   {
    "duration": 11,
    "start_time": "2022-04-23T16:35:38.034Z"
   },
   {
    "duration": 48,
    "start_time": "2022-04-23T16:35:38.047Z"
   },
   {
    "duration": 7,
    "start_time": "2022-04-23T16:35:38.097Z"
   },
   {
    "duration": 13,
    "start_time": "2022-04-23T16:35:38.106Z"
   },
   {
    "duration": 7,
    "start_time": "2022-04-23T16:35:38.122Z"
   },
   {
    "duration": 20,
    "start_time": "2022-04-23T16:35:38.131Z"
   },
   {
    "duration": 33,
    "start_time": "2022-04-23T16:35:38.153Z"
   },
   {
    "duration": 13,
    "start_time": "2022-04-23T16:35:38.189Z"
   },
   {
    "duration": 5,
    "start_time": "2022-04-23T16:35:38.205Z"
   },
   {
    "duration": 8,
    "start_time": "2022-04-23T16:35:38.212Z"
   },
   {
    "duration": 14,
    "start_time": "2022-04-23T16:36:26.722Z"
   },
   {
    "duration": 453,
    "start_time": "2022-04-23T16:36:27.713Z"
   },
   {
    "duration": 442,
    "start_time": "2022-04-23T16:36:58.183Z"
   },
   {
    "duration": 1508,
    "start_time": "2022-04-23T16:37:09.311Z"
   },
   {
    "duration": 53,
    "start_time": "2022-04-23T16:37:10.822Z"
   },
   {
    "duration": 31,
    "start_time": "2022-04-23T16:37:10.878Z"
   },
   {
    "duration": 22,
    "start_time": "2022-04-23T16:37:10.912Z"
   },
   {
    "duration": 4,
    "start_time": "2022-04-23T16:37:10.936Z"
   },
   {
    "duration": 29,
    "start_time": "2022-04-23T16:37:10.942Z"
   },
   {
    "duration": 12,
    "start_time": "2022-04-23T16:37:10.973Z"
   },
   {
    "duration": 27,
    "start_time": "2022-04-23T16:37:10.989Z"
   },
   {
    "duration": 29,
    "start_time": "2022-04-23T16:37:11.018Z"
   },
   {
    "duration": 20,
    "start_time": "2022-04-23T16:37:11.051Z"
   },
   {
    "duration": 17,
    "start_time": "2022-04-23T16:37:11.073Z"
   },
   {
    "duration": 14,
    "start_time": "2022-04-23T16:37:11.092Z"
   },
   {
    "duration": 7,
    "start_time": "2022-04-23T16:37:11.109Z"
   },
   {
    "duration": 10,
    "start_time": "2022-04-23T16:37:11.119Z"
   },
   {
    "duration": 7,
    "start_time": "2022-04-23T16:37:11.131Z"
   },
   {
    "duration": 24,
    "start_time": "2022-04-23T16:37:11.140Z"
   },
   {
    "duration": 9,
    "start_time": "2022-04-23T16:37:11.167Z"
   },
   {
    "duration": 28,
    "start_time": "2022-04-23T16:37:11.186Z"
   },
   {
    "duration": 12,
    "start_time": "2022-04-23T16:37:11.216Z"
   },
   {
    "duration": 11,
    "start_time": "2022-04-23T16:37:11.231Z"
   },
   {
    "duration": 53,
    "start_time": "2022-04-23T16:37:11.244Z"
   },
   {
    "duration": 20,
    "start_time": "2022-04-23T16:37:11.300Z"
   },
   {
    "duration": 212,
    "start_time": "2022-04-23T16:37:11.322Z"
   },
   {
    "duration": 3,
    "start_time": "2022-04-23T16:37:11.536Z"
   },
   {
    "duration": 53,
    "start_time": "2022-04-23T16:37:11.541Z"
   },
   {
    "duration": 947,
    "start_time": "2022-04-23T16:37:11.597Z"
   },
   {
    "duration": 179,
    "start_time": "2022-04-23T16:37:12.547Z"
   },
   {
    "duration": 0,
    "start_time": "2022-04-23T16:37:12.732Z"
   },
   {
    "duration": 0,
    "start_time": "2022-04-23T16:37:12.734Z"
   },
   {
    "duration": 0,
    "start_time": "2022-04-23T16:37:12.736Z"
   },
   {
    "duration": 1,
    "start_time": "2022-04-23T16:37:12.738Z"
   },
   {
    "duration": 0,
    "start_time": "2022-04-23T16:37:12.741Z"
   },
   {
    "duration": 0,
    "start_time": "2022-04-23T16:37:12.743Z"
   },
   {
    "duration": 0,
    "start_time": "2022-04-23T16:37:12.746Z"
   },
   {
    "duration": 0,
    "start_time": "2022-04-23T16:37:12.748Z"
   },
   {
    "duration": 0,
    "start_time": "2022-04-23T16:37:12.750Z"
   },
   {
    "duration": 0,
    "start_time": "2022-04-23T16:37:12.787Z"
   },
   {
    "duration": 0,
    "start_time": "2022-04-23T16:37:12.789Z"
   },
   {
    "duration": 0,
    "start_time": "2022-04-23T16:37:12.793Z"
   },
   {
    "duration": 0,
    "start_time": "2022-04-23T16:37:12.796Z"
   },
   {
    "duration": 0,
    "start_time": "2022-04-23T16:37:12.798Z"
   },
   {
    "duration": 0,
    "start_time": "2022-04-23T16:37:12.800Z"
   },
   {
    "duration": 0,
    "start_time": "2022-04-23T16:37:12.802Z"
   },
   {
    "duration": 0,
    "start_time": "2022-04-23T16:37:12.805Z"
   },
   {
    "duration": 0,
    "start_time": "2022-04-23T16:37:12.806Z"
   },
   {
    "duration": 0,
    "start_time": "2022-04-23T16:37:12.808Z"
   },
   {
    "duration": 0,
    "start_time": "2022-04-23T16:37:12.809Z"
   },
   {
    "duration": 0,
    "start_time": "2022-04-23T16:37:12.811Z"
   },
   {
    "duration": 0,
    "start_time": "2022-04-23T16:37:12.812Z"
   },
   {
    "duration": 0,
    "start_time": "2022-04-23T16:37:12.814Z"
   },
   {
    "duration": 0,
    "start_time": "2022-04-23T16:37:12.815Z"
   },
   {
    "duration": 0,
    "start_time": "2022-04-23T16:37:12.817Z"
   },
   {
    "duration": 0,
    "start_time": "2022-04-23T16:37:12.818Z"
   },
   {
    "duration": 0,
    "start_time": "2022-04-23T16:37:12.819Z"
   },
   {
    "duration": 0,
    "start_time": "2022-04-23T16:37:12.821Z"
   },
   {
    "duration": 0,
    "start_time": "2022-04-23T16:37:12.822Z"
   },
   {
    "duration": 0,
    "start_time": "2022-04-23T16:37:12.823Z"
   },
   {
    "duration": 0,
    "start_time": "2022-04-23T16:37:12.825Z"
   },
   {
    "duration": 0,
    "start_time": "2022-04-23T16:37:12.826Z"
   },
   {
    "duration": 0,
    "start_time": "2022-04-23T16:37:12.886Z"
   },
   {
    "duration": 1,
    "start_time": "2022-04-23T16:37:12.894Z"
   },
   {
    "duration": 0,
    "start_time": "2022-04-23T16:37:12.897Z"
   },
   {
    "duration": 0,
    "start_time": "2022-04-23T16:37:12.899Z"
   },
   {
    "duration": 0,
    "start_time": "2022-04-23T16:37:12.902Z"
   },
   {
    "duration": 0,
    "start_time": "2022-04-23T16:37:12.903Z"
   },
   {
    "duration": 0,
    "start_time": "2022-04-23T16:37:12.906Z"
   },
   {
    "duration": 0,
    "start_time": "2022-04-23T16:37:12.908Z"
   },
   {
    "duration": 1,
    "start_time": "2022-04-23T16:37:12.910Z"
   },
   {
    "duration": 0,
    "start_time": "2022-04-23T16:37:12.913Z"
   },
   {
    "duration": 0,
    "start_time": "2022-04-23T16:37:12.914Z"
   },
   {
    "duration": 0,
    "start_time": "2022-04-23T16:37:12.917Z"
   },
   {
    "duration": 0,
    "start_time": "2022-04-23T16:37:12.919Z"
   },
   {
    "duration": 0,
    "start_time": "2022-04-23T16:37:12.921Z"
   },
   {
    "duration": 0,
    "start_time": "2022-04-23T16:37:12.923Z"
   },
   {
    "duration": 0,
    "start_time": "2022-04-23T16:37:12.925Z"
   },
   {
    "duration": 0,
    "start_time": "2022-04-23T16:37:12.986Z"
   },
   {
    "duration": 1,
    "start_time": "2022-04-23T16:37:12.988Z"
   },
   {
    "duration": 0,
    "start_time": "2022-04-23T16:37:12.999Z"
   },
   {
    "duration": 0,
    "start_time": "2022-04-23T16:37:13.001Z"
   },
   {
    "duration": 0,
    "start_time": "2022-04-23T16:37:13.003Z"
   },
   {
    "duration": 0,
    "start_time": "2022-04-23T16:37:13.005Z"
   },
   {
    "duration": 0,
    "start_time": "2022-04-23T16:37:13.006Z"
   },
   {
    "duration": 12,
    "start_time": "2022-04-23T16:37:48.714Z"
   },
   {
    "duration": 16,
    "start_time": "2022-04-23T16:38:21.535Z"
   },
   {
    "duration": 12,
    "start_time": "2022-04-23T16:38:24.557Z"
   },
   {
    "duration": 589,
    "start_time": "2022-04-23T16:38:28.973Z"
   },
   {
    "duration": 296,
    "start_time": "2022-04-23T16:38:34.595Z"
   },
   {
    "duration": 15,
    "start_time": "2022-04-23T16:38:49.827Z"
   },
   {
    "duration": 434,
    "start_time": "2022-04-23T16:38:50.929Z"
   },
   {
    "duration": 1466,
    "start_time": "2022-04-23T16:39:34.696Z"
   },
   {
    "duration": 61,
    "start_time": "2022-04-23T16:39:36.165Z"
   },
   {
    "duration": 26,
    "start_time": "2022-04-23T16:39:36.228Z"
   },
   {
    "duration": 42,
    "start_time": "2022-04-23T16:39:36.256Z"
   },
   {
    "duration": 4,
    "start_time": "2022-04-23T16:39:36.301Z"
   },
   {
    "duration": 24,
    "start_time": "2022-04-23T16:39:36.308Z"
   },
   {
    "duration": 6,
    "start_time": "2022-04-23T16:39:36.334Z"
   },
   {
    "duration": 44,
    "start_time": "2022-04-23T16:39:36.342Z"
   },
   {
    "duration": 31,
    "start_time": "2022-04-23T16:39:36.389Z"
   },
   {
    "duration": 20,
    "start_time": "2022-04-23T16:39:36.422Z"
   },
   {
    "duration": 42,
    "start_time": "2022-04-23T16:39:36.444Z"
   },
   {
    "duration": 9,
    "start_time": "2022-04-23T16:39:36.489Z"
   },
   {
    "duration": 7,
    "start_time": "2022-04-23T16:39:36.501Z"
   },
   {
    "duration": 8,
    "start_time": "2022-04-23T16:39:36.512Z"
   },
   {
    "duration": 9,
    "start_time": "2022-04-23T16:39:36.522Z"
   },
   {
    "duration": 58,
    "start_time": "2022-04-23T16:39:36.533Z"
   },
   {
    "duration": 10,
    "start_time": "2022-04-23T16:39:36.594Z"
   },
   {
    "duration": 20,
    "start_time": "2022-04-23T16:39:36.606Z"
   },
   {
    "duration": 6,
    "start_time": "2022-04-23T16:39:36.629Z"
   },
   {
    "duration": 6,
    "start_time": "2022-04-23T16:39:36.637Z"
   },
   {
    "duration": 59,
    "start_time": "2022-04-23T16:39:36.645Z"
   },
   {
    "duration": 20,
    "start_time": "2022-04-23T16:39:36.706Z"
   },
   {
    "duration": 140,
    "start_time": "2022-04-23T16:39:36.728Z"
   },
   {
    "duration": 14,
    "start_time": "2022-04-23T16:39:36.870Z"
   },
   {
    "duration": 24,
    "start_time": "2022-04-23T16:39:36.887Z"
   },
   {
    "duration": 457,
    "start_time": "2022-04-23T16:39:36.914Z"
   },
   {
    "duration": 30,
    "start_time": "2022-04-23T16:39:37.373Z"
   },
   {
    "duration": 26,
    "start_time": "2022-04-23T16:39:37.405Z"
   },
   {
    "duration": 260,
    "start_time": "2022-04-23T16:39:37.433Z"
   },
   {
    "duration": 210,
    "start_time": "2022-04-23T16:39:37.695Z"
   },
   {
    "duration": 20,
    "start_time": "2022-04-23T16:39:37.908Z"
   },
   {
    "duration": 488,
    "start_time": "2022-04-23T16:39:37.930Z"
   },
   {
    "duration": 1045,
    "start_time": "2022-04-23T16:39:38.420Z"
   },
   {
    "duration": 42,
    "start_time": "2022-04-23T16:39:39.467Z"
   },
   {
    "duration": 560,
    "start_time": "2022-04-23T16:39:39.511Z"
   },
   {
    "duration": 883,
    "start_time": "2022-04-23T16:39:40.073Z"
   },
   {
    "duration": 146,
    "start_time": "2022-04-23T16:39:40.958Z"
   },
   {
    "duration": 21,
    "start_time": "2022-04-23T16:39:41.106Z"
   },
   {
    "duration": 8,
    "start_time": "2022-04-23T16:39:41.129Z"
   },
   {
    "duration": 258,
    "start_time": "2022-04-23T16:39:41.139Z"
   },
   {
    "duration": 6,
    "start_time": "2022-04-23T16:39:41.405Z"
   },
   {
    "duration": 24,
    "start_time": "2022-04-23T16:39:41.413Z"
   },
   {
    "duration": 254,
    "start_time": "2022-04-23T16:39:41.438Z"
   },
   {
    "duration": 8,
    "start_time": "2022-04-23T16:39:41.694Z"
   },
   {
    "duration": 28,
    "start_time": "2022-04-23T16:39:41.705Z"
   },
   {
    "duration": 7,
    "start_time": "2022-04-23T16:39:41.735Z"
   },
   {
    "duration": 53,
    "start_time": "2022-04-23T16:39:41.744Z"
   },
   {
    "duration": 6,
    "start_time": "2022-04-23T16:39:41.800Z"
   },
   {
    "duration": 16,
    "start_time": "2022-04-23T16:39:41.808Z"
   },
   {
    "duration": 14,
    "start_time": "2022-04-23T16:39:41.826Z"
   },
   {
    "duration": 6,
    "start_time": "2022-04-23T16:39:41.842Z"
   },
   {
    "duration": 48,
    "start_time": "2022-04-23T16:39:41.850Z"
   },
   {
    "duration": 38,
    "start_time": "2022-04-23T16:39:41.900Z"
   },
   {
    "duration": 26,
    "start_time": "2022-04-23T16:39:41.940Z"
   },
   {
    "duration": 12,
    "start_time": "2022-04-23T16:39:41.981Z"
   },
   {
    "duration": 13,
    "start_time": "2022-04-23T16:39:41.996Z"
   },
   {
    "duration": 7,
    "start_time": "2022-04-23T16:39:42.011Z"
   },
   {
    "duration": 9,
    "start_time": "2022-04-23T16:39:42.020Z"
   },
   {
    "duration": 58,
    "start_time": "2022-04-23T16:39:42.032Z"
   },
   {
    "duration": 4,
    "start_time": "2022-04-23T16:39:42.092Z"
   },
   {
    "duration": 6,
    "start_time": "2022-04-23T16:39:42.100Z"
   },
   {
    "duration": 7,
    "start_time": "2022-04-23T16:39:42.108Z"
   },
   {
    "duration": 17,
    "start_time": "2022-04-23T16:39:42.117Z"
   },
   {
    "duration": 53,
    "start_time": "2022-04-23T16:39:42.136Z"
   },
   {
    "duration": 25,
    "start_time": "2022-04-23T16:39:42.191Z"
   },
   {
    "duration": 29,
    "start_time": "2022-04-23T16:39:42.218Z"
   },
   {
    "duration": 41,
    "start_time": "2022-04-23T16:39:42.249Z"
   },
   {
    "duration": 27,
    "start_time": "2022-04-23T16:39:42.294Z"
   },
   {
    "duration": 17,
    "start_time": "2022-04-23T16:39:42.323Z"
   },
   {
    "duration": 45,
    "start_time": "2022-04-23T16:39:42.342Z"
   },
   {
    "duration": 158,
    "start_time": "2022-04-23T16:39:42.390Z"
   },
   {
    "duration": 0,
    "start_time": "2022-04-23T16:39:42.551Z"
   },
   {
    "duration": 1,
    "start_time": "2022-04-23T16:39:42.553Z"
   },
   {
    "duration": 0,
    "start_time": "2022-04-23T16:39:42.555Z"
   },
   {
    "duration": 0,
    "start_time": "2022-04-23T16:39:42.558Z"
   },
   {
    "duration": 0,
    "start_time": "2022-04-23T16:39:42.560Z"
   },
   {
    "duration": 1,
    "start_time": "2022-04-23T16:39:42.562Z"
   },
   {
    "duration": 0,
    "start_time": "2022-04-23T16:39:42.564Z"
   },
   {
    "duration": 1,
    "start_time": "2022-04-23T16:39:42.587Z"
   },
   {
    "duration": 0,
    "start_time": "2022-04-23T16:39:42.590Z"
   },
   {
    "duration": 0,
    "start_time": "2022-04-23T16:39:42.592Z"
   },
   {
    "duration": 0,
    "start_time": "2022-04-23T16:39:42.594Z"
   },
   {
    "duration": 14,
    "start_time": "2022-04-23T16:40:10.921Z"
   },
   {
    "duration": 1499,
    "start_time": "2022-04-23T16:40:52.660Z"
   },
   {
    "duration": 57,
    "start_time": "2022-04-23T16:40:54.162Z"
   },
   {
    "duration": 25,
    "start_time": "2022-04-23T16:40:54.221Z"
   },
   {
    "duration": 42,
    "start_time": "2022-04-23T16:40:54.250Z"
   },
   {
    "duration": 20,
    "start_time": "2022-04-23T16:40:54.295Z"
   },
   {
    "duration": 32,
    "start_time": "2022-04-23T16:40:54.317Z"
   },
   {
    "duration": 7,
    "start_time": "2022-04-23T16:40:54.352Z"
   },
   {
    "duration": 27,
    "start_time": "2022-04-23T16:40:54.361Z"
   },
   {
    "duration": 35,
    "start_time": "2022-04-23T16:40:54.391Z"
   },
   {
    "duration": 21,
    "start_time": "2022-04-23T16:40:54.431Z"
   },
   {
    "duration": 38,
    "start_time": "2022-04-23T16:40:54.454Z"
   },
   {
    "duration": 19,
    "start_time": "2022-04-23T16:40:54.495Z"
   },
   {
    "duration": 21,
    "start_time": "2022-04-23T16:40:54.516Z"
   },
   {
    "duration": 11,
    "start_time": "2022-04-23T16:40:54.539Z"
   },
   {
    "duration": 9,
    "start_time": "2022-04-23T16:40:54.552Z"
   },
   {
    "duration": 41,
    "start_time": "2022-04-23T16:40:54.564Z"
   },
   {
    "duration": 18,
    "start_time": "2022-04-23T16:40:54.607Z"
   },
   {
    "duration": 30,
    "start_time": "2022-04-23T16:40:54.627Z"
   },
   {
    "duration": 17,
    "start_time": "2022-04-23T16:40:54.659Z"
   },
   {
    "duration": 21,
    "start_time": "2022-04-23T16:40:54.678Z"
   },
   {
    "duration": 28,
    "start_time": "2022-04-23T16:40:54.701Z"
   },
   {
    "duration": 25,
    "start_time": "2022-04-23T16:40:54.731Z"
   },
   {
    "duration": 119,
    "start_time": "2022-04-23T16:40:54.759Z"
   },
   {
    "duration": 4,
    "start_time": "2022-04-23T16:40:54.887Z"
   },
   {
    "duration": 24,
    "start_time": "2022-04-23T16:40:54.893Z"
   },
   {
    "duration": 476,
    "start_time": "2022-04-23T16:40:54.919Z"
   },
   {
    "duration": 24,
    "start_time": "2022-04-23T16:40:55.398Z"
   },
   {
    "duration": 57,
    "start_time": "2022-04-23T16:40:55.430Z"
   },
   {
    "duration": 266,
    "start_time": "2022-04-23T16:40:55.490Z"
   },
   {
    "duration": 188,
    "start_time": "2022-04-23T16:40:55.759Z"
   },
   {
    "duration": 18,
    "start_time": "2022-04-23T16:40:55.949Z"
   },
   {
    "duration": 457,
    "start_time": "2022-04-23T16:40:55.969Z"
   },
   {
    "duration": 1048,
    "start_time": "2022-04-23T16:40:56.429Z"
   },
   {
    "duration": 36,
    "start_time": "2022-04-23T16:40:57.479Z"
   },
   {
    "duration": 578,
    "start_time": "2022-04-23T16:40:57.517Z"
   },
   {
    "duration": 855,
    "start_time": "2022-04-23T16:40:58.097Z"
   },
   {
    "duration": 143,
    "start_time": "2022-04-23T16:40:58.955Z"
   },
   {
    "duration": 23,
    "start_time": "2022-04-23T16:40:59.101Z"
   },
   {
    "duration": 7,
    "start_time": "2022-04-23T16:40:59.127Z"
   },
   {
    "duration": 274,
    "start_time": "2022-04-23T16:40:59.136Z"
   },
   {
    "duration": 9,
    "start_time": "2022-04-23T16:40:59.413Z"
   },
   {
    "duration": 20,
    "start_time": "2022-04-23T16:40:59.424Z"
   },
   {
    "duration": 259,
    "start_time": "2022-04-23T16:40:59.447Z"
   },
   {
    "duration": 8,
    "start_time": "2022-04-23T16:40:59.709Z"
   },
   {
    "duration": 21,
    "start_time": "2022-04-23T16:40:59.719Z"
   },
   {
    "duration": 8,
    "start_time": "2022-04-23T16:40:59.743Z"
   },
   {
    "duration": 30,
    "start_time": "2022-04-23T16:40:59.783Z"
   },
   {
    "duration": 10,
    "start_time": "2022-04-23T16:40:59.815Z"
   },
   {
    "duration": 14,
    "start_time": "2022-04-23T16:40:59.827Z"
   },
   {
    "duration": 58,
    "start_time": "2022-04-23T16:40:59.844Z"
   },
   {
    "duration": 7,
    "start_time": "2022-04-23T16:40:59.904Z"
   },
   {
    "duration": 21,
    "start_time": "2022-04-23T16:40:59.913Z"
   },
   {
    "duration": 29,
    "start_time": "2022-04-23T16:40:59.936Z"
   },
   {
    "duration": 44,
    "start_time": "2022-04-23T16:40:59.968Z"
   },
   {
    "duration": 7,
    "start_time": "2022-04-23T16:41:00.015Z"
   },
   {
    "duration": 9,
    "start_time": "2022-04-23T16:41:00.024Z"
   },
   {
    "duration": 8,
    "start_time": "2022-04-23T16:41:00.036Z"
   },
   {
    "duration": 43,
    "start_time": "2022-04-23T16:41:00.047Z"
   },
   {
    "duration": 43,
    "start_time": "2022-04-23T16:41:00.092Z"
   },
   {
    "duration": 11,
    "start_time": "2022-04-23T16:41:00.137Z"
   },
   {
    "duration": 19,
    "start_time": "2022-04-23T16:41:00.150Z"
   },
   {
    "duration": 25,
    "start_time": "2022-04-23T16:41:00.171Z"
   },
   {
    "duration": 29,
    "start_time": "2022-04-23T16:41:00.198Z"
   },
   {
    "duration": 21,
    "start_time": "2022-04-23T16:41:00.229Z"
   },
   {
    "duration": 22,
    "start_time": "2022-04-23T16:41:00.252Z"
   },
   {
    "duration": 50,
    "start_time": "2022-04-23T16:41:00.276Z"
   },
   {
    "duration": 25,
    "start_time": "2022-04-23T16:41:00.328Z"
   },
   {
    "duration": 41,
    "start_time": "2022-04-23T16:41:00.355Z"
   },
   {
    "duration": 28,
    "start_time": "2022-04-23T16:41:00.399Z"
   },
   {
    "duration": 33,
    "start_time": "2022-04-23T16:41:00.429Z"
   },
   {
    "duration": 24,
    "start_time": "2022-04-23T16:41:00.465Z"
   },
   {
    "duration": 15,
    "start_time": "2022-04-23T16:41:00.492Z"
   },
   {
    "duration": 12,
    "start_time": "2022-04-23T16:41:00.510Z"
   },
   {
    "duration": 12,
    "start_time": "2022-04-23T16:41:00.525Z"
   },
   {
    "duration": 46,
    "start_time": "2022-04-23T16:41:00.540Z"
   },
   {
    "duration": 30,
    "start_time": "2022-04-23T16:41:00.589Z"
   },
   {
    "duration": 22,
    "start_time": "2022-04-23T16:41:00.621Z"
   },
   {
    "duration": 46,
    "start_time": "2022-04-23T16:41:00.646Z"
   },
   {
    "duration": 26,
    "start_time": "2022-04-23T16:41:00.695Z"
   },
   {
    "duration": 18,
    "start_time": "2022-04-23T16:41:00.724Z"
   },
   {
    "duration": 5,
    "start_time": "2022-04-23T16:41:00.745Z"
   },
   {
    "duration": 22,
    "start_time": "2022-04-23T16:41:00.758Z"
   },
   {
    "duration": 7,
    "start_time": "2022-04-23T16:46:52.177Z"
   },
   {
    "duration": 1528,
    "start_time": "2022-04-23T16:46:57.466Z"
   },
   {
    "duration": 48,
    "start_time": "2022-04-23T16:46:58.997Z"
   },
   {
    "duration": 26,
    "start_time": "2022-04-23T16:46:59.048Z"
   },
   {
    "duration": 23,
    "start_time": "2022-04-23T16:46:59.088Z"
   },
   {
    "duration": 5,
    "start_time": "2022-04-23T16:46:59.113Z"
   },
   {
    "duration": 27,
    "start_time": "2022-04-23T16:46:59.119Z"
   },
   {
    "duration": 7,
    "start_time": "2022-04-23T16:46:59.148Z"
   },
   {
    "duration": 13,
    "start_time": "2022-04-23T16:46:59.183Z"
   },
   {
    "duration": 34,
    "start_time": "2022-04-23T16:46:59.199Z"
   },
   {
    "duration": 49,
    "start_time": "2022-04-23T16:46:59.238Z"
   },
   {
    "duration": 22,
    "start_time": "2022-04-23T16:46:59.290Z"
   },
   {
    "duration": 7,
    "start_time": "2022-04-23T16:46:59.315Z"
   },
   {
    "duration": 8,
    "start_time": "2022-04-23T16:46:59.324Z"
   },
   {
    "duration": 11,
    "start_time": "2022-04-23T16:46:59.334Z"
   },
   {
    "duration": 41,
    "start_time": "2022-04-23T16:46:59.347Z"
   },
   {
    "duration": 31,
    "start_time": "2022-04-23T16:46:59.391Z"
   },
   {
    "duration": 9,
    "start_time": "2022-04-23T16:46:59.424Z"
   },
   {
    "duration": 20,
    "start_time": "2022-04-23T16:46:59.435Z"
   },
   {
    "duration": 10,
    "start_time": "2022-04-23T16:46:59.485Z"
   },
   {
    "duration": 9,
    "start_time": "2022-04-23T16:46:59.498Z"
   },
   {
    "duration": 10,
    "start_time": "2022-04-23T16:46:59.509Z"
   },
   {
    "duration": 23,
    "start_time": "2022-04-23T16:46:59.521Z"
   },
   {
    "duration": 50,
    "start_time": "2022-04-23T16:46:59.546Z"
   },
   {
    "duration": 250,
    "start_time": "2022-04-23T16:46:59.599Z"
   },
   {
    "duration": 0,
    "start_time": "2022-04-23T16:46:59.854Z"
   },
   {
    "duration": 0,
    "start_time": "2022-04-23T16:46:59.855Z"
   },
   {
    "duration": 0,
    "start_time": "2022-04-23T16:46:59.857Z"
   },
   {
    "duration": 0,
    "start_time": "2022-04-23T16:46:59.858Z"
   },
   {
    "duration": 0,
    "start_time": "2022-04-23T16:46:59.860Z"
   },
   {
    "duration": 0,
    "start_time": "2022-04-23T16:46:59.861Z"
   },
   {
    "duration": 0,
    "start_time": "2022-04-23T16:46:59.862Z"
   },
   {
    "duration": 0,
    "start_time": "2022-04-23T16:46:59.863Z"
   },
   {
    "duration": 0,
    "start_time": "2022-04-23T16:46:59.865Z"
   },
   {
    "duration": 0,
    "start_time": "2022-04-23T16:46:59.887Z"
   },
   {
    "duration": 0,
    "start_time": "2022-04-23T16:46:59.889Z"
   },
   {
    "duration": 0,
    "start_time": "2022-04-23T16:46:59.893Z"
   },
   {
    "duration": 0,
    "start_time": "2022-04-23T16:46:59.894Z"
   },
   {
    "duration": 0,
    "start_time": "2022-04-23T16:46:59.896Z"
   },
   {
    "duration": 0,
    "start_time": "2022-04-23T16:46:59.898Z"
   },
   {
    "duration": 0,
    "start_time": "2022-04-23T16:46:59.900Z"
   },
   {
    "duration": 0,
    "start_time": "2022-04-23T16:46:59.901Z"
   },
   {
    "duration": 0,
    "start_time": "2022-04-23T16:46:59.903Z"
   },
   {
    "duration": 0,
    "start_time": "2022-04-23T16:46:59.904Z"
   },
   {
    "duration": 0,
    "start_time": "2022-04-23T16:46:59.906Z"
   },
   {
    "duration": 0,
    "start_time": "2022-04-23T16:46:59.908Z"
   },
   {
    "duration": 0,
    "start_time": "2022-04-23T16:46:59.909Z"
   },
   {
    "duration": 0,
    "start_time": "2022-04-23T16:46:59.910Z"
   },
   {
    "duration": 0,
    "start_time": "2022-04-23T16:46:59.911Z"
   },
   {
    "duration": 0,
    "start_time": "2022-04-23T16:46:59.913Z"
   },
   {
    "duration": 0,
    "start_time": "2022-04-23T16:46:59.914Z"
   },
   {
    "duration": 0,
    "start_time": "2022-04-23T16:46:59.915Z"
   },
   {
    "duration": 0,
    "start_time": "2022-04-23T16:46:59.917Z"
   },
   {
    "duration": 0,
    "start_time": "2022-04-23T16:46:59.919Z"
   },
   {
    "duration": 0,
    "start_time": "2022-04-23T16:46:59.920Z"
   },
   {
    "duration": 0,
    "start_time": "2022-04-23T16:46:59.922Z"
   },
   {
    "duration": 0,
    "start_time": "2022-04-23T16:46:59.923Z"
   },
   {
    "duration": 0,
    "start_time": "2022-04-23T16:46:59.925Z"
   },
   {
    "duration": 0,
    "start_time": "2022-04-23T16:46:59.982Z"
   },
   {
    "duration": 0,
    "start_time": "2022-04-23T16:46:59.986Z"
   },
   {
    "duration": 0,
    "start_time": "2022-04-23T16:46:59.987Z"
   },
   {
    "duration": 0,
    "start_time": "2022-04-23T16:46:59.988Z"
   },
   {
    "duration": 0,
    "start_time": "2022-04-23T16:46:59.989Z"
   },
   {
    "duration": 0,
    "start_time": "2022-04-23T16:46:59.990Z"
   },
   {
    "duration": 0,
    "start_time": "2022-04-23T16:46:59.991Z"
   },
   {
    "duration": 0,
    "start_time": "2022-04-23T16:46:59.992Z"
   },
   {
    "duration": 0,
    "start_time": "2022-04-23T16:46:59.993Z"
   },
   {
    "duration": 0,
    "start_time": "2022-04-23T16:46:59.999Z"
   },
   {
    "duration": 0,
    "start_time": "2022-04-23T16:47:00.001Z"
   },
   {
    "duration": 0,
    "start_time": "2022-04-23T16:47:00.004Z"
   },
   {
    "duration": 0,
    "start_time": "2022-04-23T16:47:00.006Z"
   },
   {
    "duration": 0,
    "start_time": "2022-04-23T16:47:00.008Z"
   },
   {
    "duration": 0,
    "start_time": "2022-04-23T16:47:00.011Z"
   },
   {
    "duration": 0,
    "start_time": "2022-04-23T16:47:00.013Z"
   },
   {
    "duration": 0,
    "start_time": "2022-04-23T16:47:00.015Z"
   },
   {
    "duration": 0,
    "start_time": "2022-04-23T16:47:00.017Z"
   },
   {
    "duration": 0,
    "start_time": "2022-04-23T16:47:00.019Z"
   },
   {
    "duration": 0,
    "start_time": "2022-04-23T16:47:00.021Z"
   },
   {
    "duration": 0,
    "start_time": "2022-04-23T16:47:00.023Z"
   },
   {
    "duration": 0,
    "start_time": "2022-04-23T16:47:00.025Z"
   },
   {
    "duration": 0,
    "start_time": "2022-04-23T16:47:00.093Z"
   },
   {
    "duration": 0,
    "start_time": "2022-04-23T16:47:00.095Z"
   },
   {
    "duration": 0,
    "start_time": "2022-04-23T16:47:00.097Z"
   },
   {
    "duration": 0,
    "start_time": "2022-04-23T16:47:00.099Z"
   },
   {
    "duration": 1565,
    "start_time": "2022-04-23T16:50:16.581Z"
   },
   {
    "duration": 61,
    "start_time": "2022-04-23T16:50:18.149Z"
   },
   {
    "duration": 27,
    "start_time": "2022-04-23T16:50:18.212Z"
   },
   {
    "duration": 21,
    "start_time": "2022-04-23T16:50:18.242Z"
   },
   {
    "duration": 22,
    "start_time": "2022-04-23T16:50:18.265Z"
   },
   {
    "duration": 43,
    "start_time": "2022-04-23T16:50:18.290Z"
   },
   {
    "duration": 7,
    "start_time": "2022-04-23T16:50:18.336Z"
   },
   {
    "duration": 14,
    "start_time": "2022-04-23T16:50:18.346Z"
   },
   {
    "duration": 56,
    "start_time": "2022-04-23T16:50:18.363Z"
   },
   {
    "duration": 21,
    "start_time": "2022-04-23T16:50:18.423Z"
   },
   {
    "duration": 14,
    "start_time": "2022-04-23T16:50:18.446Z"
   },
   {
    "duration": 37,
    "start_time": "2022-04-23T16:50:18.462Z"
   },
   {
    "duration": 15,
    "start_time": "2022-04-23T16:50:18.502Z"
   },
   {
    "duration": 13,
    "start_time": "2022-04-23T16:50:18.519Z"
   },
   {
    "duration": 10,
    "start_time": "2022-04-23T16:50:18.534Z"
   },
   {
    "duration": 51,
    "start_time": "2022-04-23T16:50:18.546Z"
   },
   {
    "duration": 12,
    "start_time": "2022-04-23T16:50:18.601Z"
   },
   {
    "duration": 27,
    "start_time": "2022-04-23T16:50:18.615Z"
   },
   {
    "duration": 7,
    "start_time": "2022-04-23T16:50:18.644Z"
   },
   {
    "duration": 8,
    "start_time": "2022-04-23T16:50:18.653Z"
   },
   {
    "duration": 18,
    "start_time": "2022-04-23T16:50:18.686Z"
   },
   {
    "duration": 29,
    "start_time": "2022-04-23T16:50:18.707Z"
   },
   {
    "duration": 22,
    "start_time": "2022-04-23T16:50:18.738Z"
   },
   {
    "duration": 165,
    "start_time": "2022-04-23T16:50:18.762Z"
   },
   {
    "duration": 4,
    "start_time": "2022-04-23T16:50:18.929Z"
   },
   {
    "duration": 20,
    "start_time": "2022-04-23T16:50:18.935Z"
   },
   {
    "duration": 492,
    "start_time": "2022-04-23T16:50:18.957Z"
   },
   {
    "duration": 45,
    "start_time": "2022-04-23T16:50:19.456Z"
   },
   {
    "duration": 28,
    "start_time": "2022-04-23T16:50:19.504Z"
   },
   {
    "duration": 284,
    "start_time": "2022-04-23T16:50:19.534Z"
   },
   {
    "duration": 221,
    "start_time": "2022-04-23T16:50:19.821Z"
   },
   {
    "duration": 45,
    "start_time": "2022-04-23T16:50:20.045Z"
   },
   {
    "duration": 618,
    "start_time": "2022-04-23T16:50:20.092Z"
   },
   {
    "duration": 1215,
    "start_time": "2022-04-23T16:50:20.713Z"
   },
   {
    "duration": 32,
    "start_time": "2022-04-23T16:50:21.931Z"
   },
   {
    "duration": 589,
    "start_time": "2022-04-23T16:50:21.965Z"
   },
   {
    "duration": 943,
    "start_time": "2022-04-23T16:50:22.557Z"
   },
   {
    "duration": 136,
    "start_time": "2022-04-23T16:50:23.505Z"
   },
   {
    "duration": 20,
    "start_time": "2022-04-23T16:50:23.643Z"
   },
   {
    "duration": 28,
    "start_time": "2022-04-23T16:50:23.666Z"
   },
   {
    "duration": 245,
    "start_time": "2022-04-23T16:50:23.697Z"
   },
   {
    "duration": 8,
    "start_time": "2022-04-23T16:50:23.946Z"
   },
   {
    "duration": 52,
    "start_time": "2022-04-23T16:50:23.957Z"
   },
   {
    "duration": 246,
    "start_time": "2022-04-23T16:50:24.012Z"
   },
   {
    "duration": 8,
    "start_time": "2022-04-23T16:50:24.260Z"
   },
   {
    "duration": 26,
    "start_time": "2022-04-23T16:50:24.290Z"
   },
   {
    "duration": 7,
    "start_time": "2022-04-23T16:50:24.318Z"
   },
   {
    "duration": 20,
    "start_time": "2022-04-23T16:50:24.328Z"
   },
   {
    "duration": 33,
    "start_time": "2022-04-23T16:50:24.350Z"
   },
   {
    "duration": 32,
    "start_time": "2022-04-23T16:50:24.387Z"
   },
   {
    "duration": 15,
    "start_time": "2022-04-23T16:50:24.422Z"
   },
   {
    "duration": 6,
    "start_time": "2022-04-23T16:50:24.440Z"
   },
   {
    "duration": 17,
    "start_time": "2022-04-23T16:50:24.448Z"
   },
   {
    "duration": 45,
    "start_time": "2022-04-23T16:50:24.486Z"
   },
   {
    "duration": 26,
    "start_time": "2022-04-23T16:50:24.533Z"
   },
   {
    "duration": 8,
    "start_time": "2022-04-23T16:50:24.561Z"
   },
   {
    "duration": 25,
    "start_time": "2022-04-23T16:50:24.571Z"
   },
   {
    "duration": 16,
    "start_time": "2022-04-23T16:50:24.599Z"
   },
   {
    "duration": 7,
    "start_time": "2022-04-23T16:50:24.618Z"
   },
   {
    "duration": 26,
    "start_time": "2022-04-23T16:50:24.627Z"
   },
   {
    "duration": 32,
    "start_time": "2022-04-23T16:50:24.655Z"
   },
   {
    "duration": 28,
    "start_time": "2022-04-23T16:50:24.692Z"
   },
   {
    "duration": 7,
    "start_time": "2022-04-23T16:50:24.722Z"
   },
   {
    "duration": 23,
    "start_time": "2022-04-23T16:50:24.731Z"
   },
   {
    "duration": 17,
    "start_time": "2022-04-23T16:50:24.756Z"
   },
   {
    "duration": 30,
    "start_time": "2022-04-23T16:50:24.775Z"
   },
   {
    "duration": 28,
    "start_time": "2022-04-23T16:50:24.807Z"
   },
   {
    "duration": 15,
    "start_time": "2022-04-23T16:50:24.837Z"
   },
   {
    "duration": 38,
    "start_time": "2022-04-23T16:50:24.854Z"
   },
   {
    "duration": 33,
    "start_time": "2022-04-23T16:50:24.895Z"
   },
   {
    "duration": 29,
    "start_time": "2022-04-23T16:50:24.930Z"
   },
   {
    "duration": 29,
    "start_time": "2022-04-23T16:50:24.961Z"
   },
   {
    "duration": 18,
    "start_time": "2022-04-23T16:50:24.992Z"
   },
   {
    "duration": 12,
    "start_time": "2022-04-23T16:50:25.013Z"
   },
   {
    "duration": 10,
    "start_time": "2022-04-23T16:50:25.028Z"
   },
   {
    "duration": 4,
    "start_time": "2022-04-23T16:50:25.041Z"
   },
   {
    "duration": 45,
    "start_time": "2022-04-23T16:50:25.047Z"
   },
   {
    "duration": 17,
    "start_time": "2022-04-23T16:50:25.094Z"
   },
   {
    "duration": 13,
    "start_time": "2022-04-23T16:50:25.113Z"
   },
   {
    "duration": 10,
    "start_time": "2022-04-23T16:50:25.129Z"
   },
   {
    "duration": 11,
    "start_time": "2022-04-23T16:50:25.141Z"
   },
   {
    "duration": 9,
    "start_time": "2022-04-23T16:50:25.181Z"
   },
   {
    "duration": 12,
    "start_time": "2022-04-23T16:50:25.192Z"
   },
   {
    "duration": 613,
    "start_time": "2022-04-23T16:57:49.252Z"
   },
   {
    "duration": 459,
    "start_time": "2022-04-23T16:58:18.850Z"
   },
   {
    "duration": 15,
    "start_time": "2022-04-23T16:58:30.215Z"
   },
   {
    "duration": 475,
    "start_time": "2022-04-23T16:58:30.932Z"
   },
   {
    "duration": 2143,
    "start_time": "2022-04-23T17:01:59.601Z"
   },
   {
    "duration": 17,
    "start_time": "2022-04-23T17:02:02.717Z"
   },
   {
    "duration": 1654,
    "start_time": "2022-04-23T17:02:03.119Z"
   },
   {
    "duration": 446,
    "start_time": "2022-04-23T17:02:14.550Z"
   },
   {
    "duration": 437,
    "start_time": "2022-04-23T17:03:33.644Z"
   },
   {
    "duration": 103,
    "start_time": "2022-04-23T17:04:19.338Z"
   },
   {
    "duration": 487,
    "start_time": "2022-04-23T17:04:26.034Z"
   },
   {
    "duration": 536,
    "start_time": "2022-04-23T17:04:44.104Z"
   },
   {
    "duration": 103,
    "start_time": "2022-04-23T17:05:16.961Z"
   },
   {
    "duration": 1661,
    "start_time": "2022-04-23T17:06:12.862Z"
   },
   {
    "duration": 55,
    "start_time": "2022-04-23T17:06:14.526Z"
   },
   {
    "duration": 36,
    "start_time": "2022-04-23T17:06:14.584Z"
   },
   {
    "duration": 30,
    "start_time": "2022-04-23T17:06:14.623Z"
   },
   {
    "duration": 7,
    "start_time": "2022-04-23T17:06:14.682Z"
   },
   {
    "duration": 45,
    "start_time": "2022-04-23T17:06:14.692Z"
   },
   {
    "duration": 7,
    "start_time": "2022-04-23T17:06:14.739Z"
   },
   {
    "duration": 14,
    "start_time": "2022-04-23T17:06:14.748Z"
   },
   {
    "duration": 36,
    "start_time": "2022-04-23T17:06:14.790Z"
   },
   {
    "duration": 22,
    "start_time": "2022-04-23T17:06:14.830Z"
   },
   {
    "duration": 38,
    "start_time": "2022-04-23T17:06:14.854Z"
   },
   {
    "duration": 19,
    "start_time": "2022-04-23T17:06:14.894Z"
   },
   {
    "duration": 11,
    "start_time": "2022-04-23T17:06:14.915Z"
   },
   {
    "duration": 12,
    "start_time": "2022-04-23T17:06:14.929Z"
   },
   {
    "duration": 43,
    "start_time": "2022-04-23T17:06:14.944Z"
   },
   {
    "duration": 44,
    "start_time": "2022-04-23T17:06:14.995Z"
   },
   {
    "duration": 10,
    "start_time": "2022-04-23T17:06:15.042Z"
   },
   {
    "duration": 32,
    "start_time": "2022-04-23T17:06:15.055Z"
   },
   {
    "duration": 17,
    "start_time": "2022-04-23T17:06:15.094Z"
   },
   {
    "duration": 7,
    "start_time": "2022-04-23T17:06:15.114Z"
   },
   {
    "duration": 7,
    "start_time": "2022-04-23T17:06:15.124Z"
   },
   {
    "duration": 24,
    "start_time": "2022-04-23T17:06:15.133Z"
   },
   {
    "duration": 46,
    "start_time": "2022-04-23T17:06:15.159Z"
   },
   {
    "duration": 181,
    "start_time": "2022-04-23T17:06:15.208Z"
   },
   {
    "duration": 7,
    "start_time": "2022-04-23T17:06:15.395Z"
   },
   {
    "duration": 18,
    "start_time": "2022-04-23T17:06:15.405Z"
   },
   {
    "duration": 483,
    "start_time": "2022-04-23T17:06:15.425Z"
   },
   {
    "duration": 27,
    "start_time": "2022-04-23T17:06:15.914Z"
   },
   {
    "duration": 58,
    "start_time": "2022-04-23T17:06:15.943Z"
   },
   {
    "duration": 259,
    "start_time": "2022-04-23T17:06:16.003Z"
   },
   {
    "duration": 184,
    "start_time": "2022-04-23T17:06:16.264Z"
   },
   {
    "duration": 33,
    "start_time": "2022-04-23T17:06:16.451Z"
   },
   {
    "duration": 471,
    "start_time": "2022-04-23T17:06:16.487Z"
   },
   {
    "duration": 1056,
    "start_time": "2022-04-23T17:06:16.961Z"
   },
   {
    "duration": 32,
    "start_time": "2022-04-23T17:06:18.019Z"
   },
   {
    "duration": 576,
    "start_time": "2022-04-23T17:06:18.054Z"
   },
   {
    "duration": 878,
    "start_time": "2022-04-23T17:06:18.632Z"
   },
   {
    "duration": 157,
    "start_time": "2022-04-23T17:06:19.513Z"
   },
   {
    "duration": 29,
    "start_time": "2022-04-23T17:06:19.672Z"
   },
   {
    "duration": 6,
    "start_time": "2022-04-23T17:06:19.703Z"
   },
   {
    "duration": 243,
    "start_time": "2022-04-23T17:06:19.711Z"
   },
   {
    "duration": 7,
    "start_time": "2022-04-23T17:06:19.956Z"
   },
   {
    "duration": 47,
    "start_time": "2022-04-23T17:06:19.965Z"
   },
   {
    "duration": 221,
    "start_time": "2022-04-23T17:06:20.014Z"
   },
   {
    "duration": 9,
    "start_time": "2022-04-23T17:06:20.238Z"
   },
   {
    "duration": 49,
    "start_time": "2022-04-23T17:06:20.249Z"
   },
   {
    "duration": 10,
    "start_time": "2022-04-23T17:06:20.302Z"
   },
   {
    "duration": 27,
    "start_time": "2022-04-23T17:06:20.314Z"
   },
   {
    "duration": 7,
    "start_time": "2022-04-23T17:06:20.343Z"
   },
   {
    "duration": 46,
    "start_time": "2022-04-23T17:06:20.353Z"
   },
   {
    "duration": 17,
    "start_time": "2022-04-23T17:06:20.402Z"
   },
   {
    "duration": 7,
    "start_time": "2022-04-23T17:06:20.421Z"
   },
   {
    "duration": 21,
    "start_time": "2022-04-23T17:06:20.431Z"
   },
   {
    "duration": 69,
    "start_time": "2022-04-23T17:06:20.454Z"
   },
   {
    "duration": 26,
    "start_time": "2022-04-23T17:06:20.525Z"
   },
   {
    "duration": 12,
    "start_time": "2022-04-23T17:06:20.553Z"
   },
   {
    "duration": 26,
    "start_time": "2022-04-23T17:06:20.567Z"
   },
   {
    "duration": 17,
    "start_time": "2022-04-23T17:06:20.596Z"
   },
   {
    "duration": 11,
    "start_time": "2022-04-23T17:06:20.617Z"
   },
   {
    "duration": 70,
    "start_time": "2022-04-23T17:06:20.630Z"
   },
   {
    "duration": 5,
    "start_time": "2022-04-23T17:06:20.707Z"
   },
   {
    "duration": 16,
    "start_time": "2022-04-23T17:06:20.715Z"
   },
   {
    "duration": 13,
    "start_time": "2022-04-23T17:06:20.734Z"
   },
   {
    "duration": 38,
    "start_time": "2022-04-23T17:06:20.750Z"
   },
   {
    "duration": 23,
    "start_time": "2022-04-23T17:06:20.792Z"
   },
   {
    "duration": 17,
    "start_time": "2022-04-23T17:06:20.817Z"
   },
   {
    "duration": 64,
    "start_time": "2022-04-23T17:06:20.837Z"
   },
   {
    "duration": 23,
    "start_time": "2022-04-23T17:06:20.904Z"
   },
   {
    "duration": 18,
    "start_time": "2022-04-23T17:06:20.931Z"
   },
   {
    "duration": 52,
    "start_time": "2022-04-23T17:06:20.951Z"
   },
   {
    "duration": 26,
    "start_time": "2022-04-23T17:06:21.006Z"
   },
   {
    "duration": 16,
    "start_time": "2022-04-23T17:06:21.034Z"
   },
   {
    "duration": 43,
    "start_time": "2022-04-23T17:06:21.052Z"
   },
   {
    "duration": 18,
    "start_time": "2022-04-23T17:06:21.097Z"
   },
   {
    "duration": 11,
    "start_time": "2022-04-23T17:06:21.118Z"
   },
   {
    "duration": 4,
    "start_time": "2022-04-23T17:06:21.132Z"
   },
   {
    "duration": 10,
    "start_time": "2022-04-23T17:06:21.140Z"
   },
   {
    "duration": 35,
    "start_time": "2022-04-23T17:06:21.153Z"
   },
   {
    "duration": 21,
    "start_time": "2022-04-23T17:06:21.191Z"
   },
   {
    "duration": 16,
    "start_time": "2022-04-23T17:06:21.215Z"
   },
   {
    "duration": 11,
    "start_time": "2022-04-23T17:06:21.234Z"
   },
   {
    "duration": 17,
    "start_time": "2022-04-23T17:06:21.289Z"
   },
   {
    "duration": 7,
    "start_time": "2022-04-23T17:06:21.311Z"
   },
   {
    "duration": 453,
    "start_time": "2022-04-23T17:13:54.401Z"
   },
   {
    "duration": 1089,
    "start_time": "2022-04-23T17:15:30.631Z"
   },
   {
    "duration": 586,
    "start_time": "2022-04-23T17:15:46.111Z"
   },
   {
    "duration": 28,
    "start_time": "2022-04-23T17:18:56.962Z"
   },
   {
    "duration": 7,
    "start_time": "2022-04-23T17:20:37.252Z"
   },
   {
    "duration": 423,
    "start_time": "2022-04-23T17:23:19.031Z"
   },
   {
    "duration": 66,
    "start_time": "2022-04-23T17:25:21.830Z"
   },
   {
    "duration": 564,
    "start_time": "2022-04-23T18:13:39.505Z"
   },
   {
    "duration": 58,
    "start_time": "2022-04-23T18:18:12.062Z"
   },
   {
    "duration": 21,
    "start_time": "2022-04-23T18:19:59.745Z"
   },
   {
    "duration": 22,
    "start_time": "2022-04-23T18:20:08.903Z"
   },
   {
    "duration": 23,
    "start_time": "2022-04-23T18:20:14.641Z"
   },
   {
    "duration": 25,
    "start_time": "2022-04-23T18:21:51.583Z"
   },
   {
    "duration": 18,
    "start_time": "2022-04-23T18:22:35.636Z"
   },
   {
    "duration": 30,
    "start_time": "2022-04-23T18:24:38.376Z"
   },
   {
    "duration": 1689,
    "start_time": "2022-04-23T18:25:08.552Z"
   },
   {
    "duration": 81,
    "start_time": "2022-04-23T18:25:10.244Z"
   },
   {
    "duration": 88,
    "start_time": "2022-04-23T18:25:10.328Z"
   },
   {
    "duration": 80,
    "start_time": "2022-04-23T18:25:10.420Z"
   },
   {
    "duration": 7,
    "start_time": "2022-04-23T18:25:10.506Z"
   },
   {
    "duration": 72,
    "start_time": "2022-04-23T18:25:10.515Z"
   },
   {
    "duration": 7,
    "start_time": "2022-04-23T18:25:10.590Z"
   },
   {
    "duration": 25,
    "start_time": "2022-04-23T18:25:10.599Z"
   },
   {
    "duration": 60,
    "start_time": "2022-04-23T18:25:10.627Z"
   },
   {
    "duration": 23,
    "start_time": "2022-04-23T18:25:10.694Z"
   },
   {
    "duration": 73,
    "start_time": "2022-04-23T18:25:10.720Z"
   },
   {
    "duration": 9,
    "start_time": "2022-04-23T18:25:10.798Z"
   },
   {
    "duration": 8,
    "start_time": "2022-04-23T18:25:10.809Z"
   },
   {
    "duration": 8,
    "start_time": "2022-04-23T18:25:10.820Z"
   },
   {
    "duration": 8,
    "start_time": "2022-04-23T18:25:10.831Z"
   },
   {
    "duration": 29,
    "start_time": "2022-04-23T18:25:10.881Z"
   },
   {
    "duration": 10,
    "start_time": "2022-04-23T18:25:10.913Z"
   },
   {
    "duration": 78,
    "start_time": "2022-04-23T18:25:10.925Z"
   },
   {
    "duration": 8,
    "start_time": "2022-04-23T18:25:11.006Z"
   },
   {
    "duration": 9,
    "start_time": "2022-04-23T18:25:11.017Z"
   },
   {
    "duration": 61,
    "start_time": "2022-04-23T18:25:11.028Z"
   },
   {
    "duration": 35,
    "start_time": "2022-04-23T18:25:11.091Z"
   },
   {
    "duration": 74,
    "start_time": "2022-04-23T18:25:11.128Z"
   },
   {
    "duration": 139,
    "start_time": "2022-04-23T18:25:11.208Z"
   },
   {
    "duration": 4,
    "start_time": "2022-04-23T18:25:11.350Z"
   },
   {
    "duration": 39,
    "start_time": "2022-04-23T18:25:11.356Z"
   },
   {
    "duration": 480,
    "start_time": "2022-04-23T18:25:11.397Z"
   },
   {
    "duration": 26,
    "start_time": "2022-04-23T18:25:11.886Z"
   },
   {
    "duration": 28,
    "start_time": "2022-04-23T18:25:11.915Z"
   },
   {
    "duration": 295,
    "start_time": "2022-04-23T18:25:11.945Z"
   },
   {
    "duration": 213,
    "start_time": "2022-04-23T18:25:12.242Z"
   },
   {
    "duration": 26,
    "start_time": "2022-04-23T18:25:12.457Z"
   },
   {
    "duration": 476,
    "start_time": "2022-04-23T18:25:12.486Z"
   },
   {
    "duration": 1131,
    "start_time": "2022-04-23T18:25:12.965Z"
   },
   {
    "duration": 29,
    "start_time": "2022-04-23T18:25:14.099Z"
   },
   {
    "duration": 58,
    "start_time": "2022-04-23T18:25:14.131Z"
   },
   {
    "duration": 33,
    "start_time": "2022-04-23T18:25:14.195Z"
   },
   {
    "duration": 561,
    "start_time": "2022-04-23T18:25:14.230Z"
   },
   {
    "duration": 475,
    "start_time": "2022-04-23T18:25:14.793Z"
   },
   {
    "duration": 62,
    "start_time": "2022-04-23T18:25:15.271Z"
   },
   {
    "duration": 20,
    "start_time": "2022-04-23T18:25:15.335Z"
   },
   {
    "duration": 29,
    "start_time": "2022-04-23T18:25:15.357Z"
   },
   {
    "duration": 340,
    "start_time": "2022-04-23T18:25:15.388Z"
   },
   {
    "duration": 8,
    "start_time": "2022-04-23T18:25:15.731Z"
   },
   {
    "duration": 44,
    "start_time": "2022-04-23T18:25:15.741Z"
   },
   {
    "duration": 239,
    "start_time": "2022-04-23T18:25:15.793Z"
   },
   {
    "duration": 7,
    "start_time": "2022-04-23T18:25:16.035Z"
   },
   {
    "duration": 39,
    "start_time": "2022-04-23T18:25:16.044Z"
   },
   {
    "duration": 26,
    "start_time": "2022-04-23T18:25:16.086Z"
   },
   {
    "duration": 20,
    "start_time": "2022-04-23T18:25:16.115Z"
   },
   {
    "duration": 7,
    "start_time": "2022-04-23T18:25:16.137Z"
   },
   {
    "duration": 42,
    "start_time": "2022-04-23T18:25:16.146Z"
   },
   {
    "duration": 18,
    "start_time": "2022-04-23T18:25:16.192Z"
   },
   {
    "duration": 6,
    "start_time": "2022-04-23T18:25:16.212Z"
   },
   {
    "duration": 26,
    "start_time": "2022-04-23T18:25:16.221Z"
   },
   {
    "duration": 56,
    "start_time": "2022-04-23T18:25:16.249Z"
   },
   {
    "duration": 26,
    "start_time": "2022-04-23T18:25:16.307Z"
   },
   {
    "duration": 13,
    "start_time": "2022-04-23T18:25:16.335Z"
   },
   {
    "duration": 37,
    "start_time": "2022-04-23T18:25:16.351Z"
   },
   {
    "duration": 19,
    "start_time": "2022-04-23T18:25:16.389Z"
   },
   {
    "duration": 11,
    "start_time": "2022-04-23T18:25:16.411Z"
   },
   {
    "duration": 26,
    "start_time": "2022-04-23T18:25:16.424Z"
   },
   {
    "duration": 29,
    "start_time": "2022-04-23T18:25:16.452Z"
   },
   {
    "duration": 9,
    "start_time": "2022-04-23T18:25:16.489Z"
   },
   {
    "duration": 8,
    "start_time": "2022-04-23T18:25:16.501Z"
   },
   {
    "duration": 17,
    "start_time": "2022-04-23T18:25:16.511Z"
   },
   {
    "duration": 15,
    "start_time": "2022-04-23T18:25:16.530Z"
   },
   {
    "duration": 43,
    "start_time": "2022-04-23T18:25:16.548Z"
   },
   {
    "duration": 38,
    "start_time": "2022-04-23T18:25:16.593Z"
   },
   {
    "duration": 15,
    "start_time": "2022-04-23T18:25:16.633Z"
   },
   {
    "duration": 41,
    "start_time": "2022-04-23T18:25:16.651Z"
   },
   {
    "duration": 18,
    "start_time": "2022-04-23T18:25:16.697Z"
   },
   {
    "duration": 37,
    "start_time": "2022-04-23T18:25:16.718Z"
   },
   {
    "duration": 51,
    "start_time": "2022-04-23T18:25:16.757Z"
   },
   {
    "duration": 15,
    "start_time": "2022-04-23T18:25:16.810Z"
   },
   {
    "duration": 15,
    "start_time": "2022-04-23T18:25:16.827Z"
   },
   {
    "duration": 14,
    "start_time": "2022-04-23T18:25:16.845Z"
   },
   {
    "duration": 8,
    "start_time": "2022-04-23T18:25:16.886Z"
   },
   {
    "duration": 11,
    "start_time": "2022-04-23T18:25:16.897Z"
   },
   {
    "duration": 6,
    "start_time": "2022-04-23T18:25:16.910Z"
   },
   {
    "duration": 14,
    "start_time": "2022-04-23T18:25:16.918Z"
   },
   {
    "duration": 40,
    "start_time": "2022-04-23T18:25:16.942Z"
   },
   {
    "duration": 23,
    "start_time": "2022-04-23T18:25:16.984Z"
   },
   {
    "duration": 5,
    "start_time": "2022-04-23T18:25:17.009Z"
   },
   {
    "duration": 11,
    "start_time": "2022-04-23T18:25:17.016Z"
   },
   {
    "duration": 223,
    "start_time": "2022-04-23T18:28:11.343Z"
   },
   {
    "duration": 229,
    "start_time": "2022-04-23T18:28:17.984Z"
   },
   {
    "duration": 220,
    "start_time": "2022-04-23T18:28:32.531Z"
   },
   {
    "duration": 238,
    "start_time": "2022-04-23T18:28:38.275Z"
   },
   {
    "duration": 8,
    "start_time": "2022-04-23T18:29:57.322Z"
   },
   {
    "duration": 1594,
    "start_time": "2022-04-23T18:30:09.730Z"
   },
   {
    "duration": 52,
    "start_time": "2022-04-23T18:30:11.328Z"
   },
   {
    "duration": 29,
    "start_time": "2022-04-23T18:30:11.388Z"
   },
   {
    "duration": 21,
    "start_time": "2022-04-23T18:30:11.419Z"
   },
   {
    "duration": 5,
    "start_time": "2022-04-23T18:30:11.444Z"
   },
   {
    "duration": 59,
    "start_time": "2022-04-23T18:30:11.451Z"
   },
   {
    "duration": 7,
    "start_time": "2022-04-23T18:30:11.513Z"
   },
   {
    "duration": 23,
    "start_time": "2022-04-23T18:30:11.522Z"
   },
   {
    "duration": 67,
    "start_time": "2022-04-23T18:30:11.548Z"
   },
   {
    "duration": 28,
    "start_time": "2022-04-23T18:30:11.618Z"
   },
   {
    "duration": 46,
    "start_time": "2022-04-23T18:30:11.648Z"
   },
   {
    "duration": 9,
    "start_time": "2022-04-23T18:30:11.697Z"
   },
   {
    "duration": 12,
    "start_time": "2022-04-23T18:30:11.710Z"
   },
   {
    "duration": 11,
    "start_time": "2022-04-23T18:30:11.728Z"
   },
   {
    "duration": 10,
    "start_time": "2022-04-23T18:30:11.741Z"
   },
   {
    "duration": 50,
    "start_time": "2022-04-23T18:30:11.753Z"
   },
   {
    "duration": 17,
    "start_time": "2022-04-23T18:30:11.805Z"
   },
   {
    "duration": 29,
    "start_time": "2022-04-23T18:30:11.825Z"
   },
   {
    "duration": 32,
    "start_time": "2022-04-23T18:30:11.857Z"
   },
   {
    "duration": 13,
    "start_time": "2022-04-23T18:30:11.892Z"
   },
   {
    "duration": 7,
    "start_time": "2022-04-23T18:30:11.908Z"
   },
   {
    "duration": 26,
    "start_time": "2022-04-23T18:30:11.917Z"
   },
   {
    "duration": 52,
    "start_time": "2022-04-23T18:30:11.945Z"
   },
   {
    "duration": 127,
    "start_time": "2022-04-23T18:30:11.999Z"
   },
   {
    "duration": 3,
    "start_time": "2022-04-23T18:30:12.128Z"
   },
   {
    "duration": 25,
    "start_time": "2022-04-23T18:30:12.133Z"
   },
   {
    "duration": 656,
    "start_time": "2022-04-23T18:30:12.161Z"
   },
   {
    "duration": 41,
    "start_time": "2022-04-23T18:30:12.820Z"
   },
   {
    "duration": 40,
    "start_time": "2022-04-23T18:30:12.864Z"
   },
   {
    "duration": 255,
    "start_time": "2022-04-23T18:30:12.906Z"
   },
   {
    "duration": 189,
    "start_time": "2022-04-23T18:30:13.163Z"
   },
   {
    "duration": 31,
    "start_time": "2022-04-23T18:30:13.354Z"
   },
   {
    "duration": 484,
    "start_time": "2022-04-23T18:30:13.387Z"
   },
   {
    "duration": 1075,
    "start_time": "2022-04-23T18:30:13.874Z"
   },
   {
    "duration": 43,
    "start_time": "2022-04-23T18:30:14.951Z"
   },
   {
    "duration": 24,
    "start_time": "2022-04-23T18:30:14.998Z"
   },
   {
    "duration": 58,
    "start_time": "2022-04-23T18:30:15.025Z"
   },
   {
    "duration": 545,
    "start_time": "2022-04-23T18:30:15.086Z"
   },
   {
    "duration": 450,
    "start_time": "2022-04-23T18:30:15.634Z"
   },
   {
    "duration": 54,
    "start_time": "2022-04-23T18:30:16.087Z"
   },
   {
    "duration": 133,
    "start_time": "2022-04-23T18:30:16.148Z"
   },
   {
    "duration": 7,
    "start_time": "2022-04-23T18:30:16.284Z"
   },
   {
    "duration": 281,
    "start_time": "2022-04-23T18:30:16.296Z"
   },
   {
    "duration": 10,
    "start_time": "2022-04-23T18:30:16.580Z"
   },
   {
    "duration": 29,
    "start_time": "2022-04-23T18:30:16.594Z"
   },
   {
    "duration": 243,
    "start_time": "2022-04-23T18:30:16.626Z"
   },
   {
    "duration": 17,
    "start_time": "2022-04-23T18:30:16.872Z"
   },
   {
    "duration": 35,
    "start_time": "2022-04-23T18:30:16.892Z"
   },
   {
    "duration": 8,
    "start_time": "2022-04-23T18:30:16.929Z"
   },
   {
    "duration": 46,
    "start_time": "2022-04-23T18:30:16.939Z"
   },
   {
    "duration": 10,
    "start_time": "2022-04-23T18:30:16.988Z"
   },
   {
    "duration": 17,
    "start_time": "2022-04-23T18:30:17.002Z"
   },
   {
    "duration": 15,
    "start_time": "2022-04-23T18:30:17.021Z"
   },
   {
    "duration": 7,
    "start_time": "2022-04-23T18:30:17.038Z"
   },
   {
    "duration": 50,
    "start_time": "2022-04-23T18:30:17.047Z"
   },
   {
    "duration": 28,
    "start_time": "2022-04-23T18:30:17.098Z"
   },
   {
    "duration": 26,
    "start_time": "2022-04-23T18:30:17.128Z"
   },
   {
    "duration": 38,
    "start_time": "2022-04-23T18:30:17.156Z"
   },
   {
    "duration": 14,
    "start_time": "2022-04-23T18:30:17.196Z"
   },
   {
    "duration": 8,
    "start_time": "2022-04-23T18:30:17.213Z"
   },
   {
    "duration": 12,
    "start_time": "2022-04-23T18:30:17.224Z"
   },
   {
    "duration": 61,
    "start_time": "2022-04-23T18:30:17.238Z"
   },
   {
    "duration": 5,
    "start_time": "2022-04-23T18:30:17.302Z"
   },
   {
    "duration": 8,
    "start_time": "2022-04-23T18:30:17.311Z"
   },
   {
    "duration": 11,
    "start_time": "2022-04-23T18:30:17.321Z"
   },
   {
    "duration": 17,
    "start_time": "2022-04-23T18:30:17.334Z"
   },
   {
    "duration": 37,
    "start_time": "2022-04-23T18:30:17.353Z"
   },
   {
    "duration": 21,
    "start_time": "2022-04-23T18:30:17.392Z"
   },
   {
    "duration": 30,
    "start_time": "2022-04-23T18:30:17.415Z"
   },
   {
    "duration": 44,
    "start_time": "2022-04-23T18:30:17.447Z"
   },
   {
    "duration": 24,
    "start_time": "2022-04-23T18:30:17.494Z"
   },
   {
    "duration": 22,
    "start_time": "2022-04-23T18:30:17.520Z"
   },
   {
    "duration": 58,
    "start_time": "2022-04-23T18:30:17.545Z"
   },
   {
    "duration": 63,
    "start_time": "2022-04-23T18:30:17.605Z"
   },
   {
    "duration": 19,
    "start_time": "2022-04-23T18:30:17.670Z"
   },
   {
    "duration": 18,
    "start_time": "2022-04-23T18:30:17.691Z"
   },
   {
    "duration": 12,
    "start_time": "2022-04-23T18:30:17.712Z"
   },
   {
    "duration": 8,
    "start_time": "2022-04-23T18:30:17.727Z"
   },
   {
    "duration": 13,
    "start_time": "2022-04-23T18:30:17.738Z"
   },
   {
    "duration": 37,
    "start_time": "2022-04-23T18:30:17.753Z"
   },
   {
    "duration": 23,
    "start_time": "2022-04-23T18:30:17.792Z"
   },
   {
    "duration": 23,
    "start_time": "2022-04-23T18:30:17.817Z"
   },
   {
    "duration": 12,
    "start_time": "2022-04-23T18:30:17.842Z"
   },
   {
    "duration": 6,
    "start_time": "2022-04-23T18:30:17.857Z"
   },
   {
    "duration": 11,
    "start_time": "2022-04-23T18:30:17.882Z"
   },
   {
    "duration": 21,
    "start_time": "2022-04-23T18:30:57.911Z"
   },
   {
    "duration": 223,
    "start_time": "2022-04-23T18:30:59.823Z"
   },
   {
    "duration": 7,
    "start_time": "2022-04-23T18:31:05.695Z"
   },
   {
    "duration": 20,
    "start_time": "2022-04-23T18:33:14.715Z"
   },
   {
    "duration": 7,
    "start_time": "2022-04-23T18:33:16.716Z"
   },
   {
    "duration": 23,
    "start_time": "2022-04-23T18:33:19.415Z"
   },
   {
    "duration": 7,
    "start_time": "2022-04-23T18:33:20.976Z"
   },
   {
    "duration": 14,
    "start_time": "2022-04-23T18:34:36.193Z"
   },
   {
    "duration": 8,
    "start_time": "2022-04-23T18:34:36.913Z"
   },
   {
    "duration": 555,
    "start_time": "2022-04-23T18:34:37.562Z"
   },
   {
    "duration": 16,
    "start_time": "2022-04-23T18:34:46.020Z"
   },
   {
    "duration": 24,
    "start_time": "2022-04-23T18:34:46.514Z"
   },
   {
    "duration": 441,
    "start_time": "2022-04-23T18:34:47.315Z"
   },
   {
    "duration": 15,
    "start_time": "2022-04-23T18:34:52.908Z"
   },
   {
    "duration": 17,
    "start_time": "2022-04-23T18:34:53.876Z"
   },
   {
    "duration": 9,
    "start_time": "2022-04-23T18:34:54.438Z"
   },
   {
    "duration": 25,
    "start_time": "2022-04-23T18:34:55.382Z"
   },
   {
    "duration": 35,
    "start_time": "2022-04-23T18:35:15.440Z"
   },
   {
    "duration": 25,
    "start_time": "2022-04-23T18:35:22.800Z"
   },
   {
    "duration": 22,
    "start_time": "2022-04-23T18:37:23.753Z"
   },
   {
    "duration": 20,
    "start_time": "2022-04-23T18:37:34.704Z"
   },
   {
    "duration": 26,
    "start_time": "2022-04-23T18:40:06.755Z"
   },
   {
    "duration": 19,
    "start_time": "2022-04-23T18:40:29.619Z"
   },
   {
    "duration": 23,
    "start_time": "2022-04-23T18:40:39.450Z"
   },
   {
    "duration": 128,
    "start_time": "2022-04-23T18:40:45.803Z"
   },
   {
    "duration": 24,
    "start_time": "2022-04-23T18:40:52.863Z"
   },
   {
    "duration": 31,
    "start_time": "2022-04-23T18:41:23.740Z"
   },
   {
    "duration": 30,
    "start_time": "2022-04-23T18:41:51.109Z"
   },
   {
    "duration": 37,
    "start_time": "2022-04-23T18:43:18.407Z"
   },
   {
    "duration": 27,
    "start_time": "2022-04-23T18:43:35.847Z"
   },
   {
    "duration": 23,
    "start_time": "2022-04-23T18:43:39.011Z"
   },
   {
    "duration": 30,
    "start_time": "2022-04-23T18:43:41.998Z"
   },
   {
    "duration": 32,
    "start_time": "2022-04-23T18:46:01.033Z"
   },
   {
    "duration": 35,
    "start_time": "2022-04-23T18:46:07.611Z"
   },
   {
    "duration": 40,
    "start_time": "2022-04-23T18:46:14.352Z"
   },
   {
    "duration": 33,
    "start_time": "2022-04-23T18:46:24.893Z"
   },
   {
    "duration": 44,
    "start_time": "2022-04-23T18:46:31.954Z"
   },
   {
    "duration": 32,
    "start_time": "2022-04-23T18:46:42.333Z"
   },
   {
    "duration": 31,
    "start_time": "2022-04-23T18:47:23.514Z"
   },
   {
    "duration": 33,
    "start_time": "2022-04-23T18:48:41.714Z"
   },
   {
    "duration": 127,
    "start_time": "2022-04-23T18:49:25.314Z"
   },
   {
    "duration": 34,
    "start_time": "2022-04-23T18:50:21.171Z"
   },
   {
    "duration": 38,
    "start_time": "2022-04-23T18:50:36.074Z"
   },
   {
    "duration": 757,
    "start_time": "2022-04-23T18:50:50.796Z"
   },
   {
    "duration": 39,
    "start_time": "2022-04-23T18:51:00.796Z"
   },
   {
    "duration": 56,
    "start_time": "2022-04-23T18:57:04.441Z"
   },
   {
    "duration": 54,
    "start_time": "2022-04-23T18:57:16.604Z"
   },
   {
    "duration": 36,
    "start_time": "2022-04-23T18:57:37.117Z"
   },
   {
    "duration": 44,
    "start_time": "2022-04-23T19:00:07.602Z"
   },
   {
    "duration": 32,
    "start_time": "2022-04-23T19:01:00.983Z"
   },
   {
    "duration": 35,
    "start_time": "2022-04-23T19:01:23.642Z"
   },
   {
    "duration": 34,
    "start_time": "2022-04-23T19:02:38.515Z"
   },
   {
    "duration": 33,
    "start_time": "2022-04-23T19:03:38.635Z"
   },
   {
    "duration": 13,
    "start_time": "2022-04-23T19:04:28.994Z"
   },
   {
    "duration": 20,
    "start_time": "2022-04-23T19:04:47.365Z"
   },
   {
    "duration": 15,
    "start_time": "2022-04-23T19:05:34.002Z"
   },
   {
    "duration": 6,
    "start_time": "2022-04-23T19:05:35.922Z"
   },
   {
    "duration": 14,
    "start_time": "2022-04-23T19:05:36.835Z"
   },
   {
    "duration": 26,
    "start_time": "2022-04-23T19:06:06.195Z"
   },
   {
    "duration": 25,
    "start_time": "2022-04-23T19:06:13.740Z"
   },
   {
    "duration": 27,
    "start_time": "2022-04-23T19:06:44.923Z"
   },
   {
    "duration": 6,
    "start_time": "2022-04-23T19:06:52.356Z"
   },
   {
    "duration": 7,
    "start_time": "2022-04-23T19:06:56.324Z"
   },
   {
    "duration": 7,
    "start_time": "2022-04-23T19:06:57.862Z"
   },
   {
    "duration": 6,
    "start_time": "2022-04-23T19:07:04.493Z"
   },
   {
    "duration": 25,
    "start_time": "2022-04-23T19:07:42.600Z"
   },
   {
    "duration": 6,
    "start_time": "2022-04-23T19:07:43.674Z"
   },
   {
    "duration": 7,
    "start_time": "2022-04-23T19:07:44.173Z"
   },
   {
    "duration": 6,
    "start_time": "2022-04-23T19:07:44.678Z"
   },
   {
    "duration": 7,
    "start_time": "2022-04-23T19:07:45.194Z"
   },
   {
    "duration": 12,
    "start_time": "2022-04-23T19:10:40.007Z"
   },
   {
    "duration": 25,
    "start_time": "2022-04-23T19:10:50.799Z"
   },
   {
    "duration": 25,
    "start_time": "2022-04-23T19:10:51.201Z"
   },
   {
    "duration": 7,
    "start_time": "2022-04-23T19:10:51.984Z"
   },
   {
    "duration": 7,
    "start_time": "2022-04-23T19:10:52.415Z"
   },
   {
    "duration": 7,
    "start_time": "2022-04-23T19:10:54.200Z"
   },
   {
    "duration": 7,
    "start_time": "2022-04-23T19:10:54.678Z"
   },
   {
    "duration": 13,
    "start_time": "2022-04-23T19:10:55.702Z"
   },
   {
    "duration": 1468,
    "start_time": "2022-04-23T19:11:14.675Z"
   },
   {
    "duration": 53,
    "start_time": "2022-04-23T19:11:16.146Z"
   },
   {
    "duration": 26,
    "start_time": "2022-04-23T19:11:16.201Z"
   },
   {
    "duration": 21,
    "start_time": "2022-04-23T19:11:16.229Z"
   },
   {
    "duration": 29,
    "start_time": "2022-04-23T19:11:16.253Z"
   },
   {
    "duration": 27,
    "start_time": "2022-04-23T19:11:16.284Z"
   },
   {
    "duration": 7,
    "start_time": "2022-04-23T19:11:16.313Z"
   },
   {
    "duration": 15,
    "start_time": "2022-04-23T19:11:16.322Z"
   },
   {
    "duration": 54,
    "start_time": "2022-04-23T19:11:16.340Z"
   },
   {
    "duration": 21,
    "start_time": "2022-04-23T19:11:16.396Z"
   },
   {
    "duration": 13,
    "start_time": "2022-04-23T19:11:16.419Z"
   },
   {
    "duration": 7,
    "start_time": "2022-04-23T19:11:16.435Z"
   },
   {
    "duration": 39,
    "start_time": "2022-04-23T19:11:16.444Z"
   },
   {
    "duration": 9,
    "start_time": "2022-04-23T19:11:16.487Z"
   },
   {
    "duration": 10,
    "start_time": "2022-04-23T19:11:16.498Z"
   },
   {
    "duration": 25,
    "start_time": "2022-04-23T19:11:16.510Z"
   },
   {
    "duration": 44,
    "start_time": "2022-04-23T19:11:16.537Z"
   },
   {
    "duration": 21,
    "start_time": "2022-04-23T19:11:16.584Z"
   },
   {
    "duration": 10,
    "start_time": "2022-04-23T19:11:16.607Z"
   },
   {
    "duration": 6,
    "start_time": "2022-04-23T19:11:16.619Z"
   },
   {
    "duration": 8,
    "start_time": "2022-04-23T19:11:16.628Z"
   },
   {
    "duration": 52,
    "start_time": "2022-04-23T19:11:16.638Z"
   },
   {
    "duration": 22,
    "start_time": "2022-04-23T19:11:16.692Z"
   },
   {
    "duration": 125,
    "start_time": "2022-04-23T19:11:16.716Z"
   },
   {
    "duration": 4,
    "start_time": "2022-04-23T19:11:16.844Z"
   },
   {
    "duration": 36,
    "start_time": "2022-04-23T19:11:16.850Z"
   },
   {
    "duration": 545,
    "start_time": "2022-04-23T19:11:16.889Z"
   },
   {
    "duration": 23,
    "start_time": "2022-04-23T19:11:17.436Z"
   },
   {
    "duration": 43,
    "start_time": "2022-04-23T19:11:17.462Z"
   },
   {
    "duration": 256,
    "start_time": "2022-04-23T19:11:17.508Z"
   },
   {
    "duration": 178,
    "start_time": "2022-04-23T19:11:17.766Z"
   },
   {
    "duration": 17,
    "start_time": "2022-04-23T19:11:17.946Z"
   },
   {
    "duration": 449,
    "start_time": "2022-04-23T19:11:17.965Z"
   },
   {
    "duration": 1014,
    "start_time": "2022-04-23T19:11:18.416Z"
   },
   {
    "duration": 27,
    "start_time": "2022-04-23T19:11:19.433Z"
   },
   {
    "duration": 23,
    "start_time": "2022-04-23T19:11:19.482Z"
   },
   {
    "duration": 33,
    "start_time": "2022-04-23T19:11:19.507Z"
   },
   {
    "duration": 547,
    "start_time": "2022-04-23T19:11:19.542Z"
   },
   {
    "duration": 449,
    "start_time": "2022-04-23T19:11:20.091Z"
   },
   {
    "duration": 68,
    "start_time": "2022-04-23T19:11:20.542Z"
   },
   {
    "duration": 105,
    "start_time": "2022-04-23T19:11:20.617Z"
   },
   {
    "duration": 10,
    "start_time": "2022-04-23T19:11:20.725Z"
   },
   {
    "duration": 250,
    "start_time": "2022-04-23T19:11:20.738Z"
   },
   {
    "duration": 8,
    "start_time": "2022-04-23T19:11:20.990Z"
   },
   {
    "duration": 22,
    "start_time": "2022-04-23T19:11:21.001Z"
   },
   {
    "duration": 260,
    "start_time": "2022-04-23T19:11:21.026Z"
   },
   {
    "duration": 8,
    "start_time": "2022-04-23T19:11:21.289Z"
   },
   {
    "duration": 21,
    "start_time": "2022-04-23T19:11:21.300Z"
   },
   {
    "duration": 8,
    "start_time": "2022-04-23T19:11:21.323Z"
   },
   {
    "duration": 55,
    "start_time": "2022-04-23T19:11:21.333Z"
   },
   {
    "duration": 11,
    "start_time": "2022-04-23T19:11:21.390Z"
   },
   {
    "duration": 39,
    "start_time": "2022-04-23T19:11:21.404Z"
   },
   {
    "duration": 40,
    "start_time": "2022-04-23T19:11:21.446Z"
   },
   {
    "duration": 13,
    "start_time": "2022-04-23T19:11:21.488Z"
   },
   {
    "duration": 5,
    "start_time": "2022-04-23T19:11:21.503Z"
   },
   {
    "duration": 15,
    "start_time": "2022-04-23T19:11:21.511Z"
   },
   {
    "duration": 60,
    "start_time": "2022-04-23T19:11:21.528Z"
   },
   {
    "duration": 25,
    "start_time": "2022-04-23T19:11:21.590Z"
   },
   {
    "duration": 10,
    "start_time": "2022-04-23T19:11:21.617Z"
   },
   {
    "duration": 8,
    "start_time": "2022-04-23T19:11:21.629Z"
   },
   {
    "duration": 6,
    "start_time": "2022-04-23T19:11:21.639Z"
   },
   {
    "duration": 39,
    "start_time": "2022-04-23T19:11:21.647Z"
   },
   {
    "duration": 162,
    "start_time": "2022-04-23T19:11:21.688Z"
   },
   {
    "duration": 0,
    "start_time": "2022-04-23T19:11:21.852Z"
   },
   {
    "duration": 0,
    "start_time": "2022-04-23T19:11:21.854Z"
   },
   {
    "duration": 0,
    "start_time": "2022-04-23T19:11:21.855Z"
   },
   {
    "duration": 0,
    "start_time": "2022-04-23T19:11:21.857Z"
   },
   {
    "duration": 0,
    "start_time": "2022-04-23T19:11:21.858Z"
   },
   {
    "duration": 1,
    "start_time": "2022-04-23T19:11:21.859Z"
   },
   {
    "duration": 0,
    "start_time": "2022-04-23T19:11:21.861Z"
   },
   {
    "duration": 0,
    "start_time": "2022-04-23T19:11:21.862Z"
   },
   {
    "duration": 0,
    "start_time": "2022-04-23T19:11:21.882Z"
   },
   {
    "duration": 0,
    "start_time": "2022-04-23T19:11:21.883Z"
   },
   {
    "duration": 0,
    "start_time": "2022-04-23T19:11:21.885Z"
   },
   {
    "duration": 0,
    "start_time": "2022-04-23T19:11:21.886Z"
   },
   {
    "duration": 0,
    "start_time": "2022-04-23T19:11:21.887Z"
   },
   {
    "duration": 0,
    "start_time": "2022-04-23T19:11:21.889Z"
   },
   {
    "duration": 0,
    "start_time": "2022-04-23T19:11:21.890Z"
   },
   {
    "duration": 0,
    "start_time": "2022-04-23T19:11:21.891Z"
   },
   {
    "duration": 0,
    "start_time": "2022-04-23T19:11:21.893Z"
   },
   {
    "duration": 0,
    "start_time": "2022-04-23T19:11:21.894Z"
   },
   {
    "duration": 0,
    "start_time": "2022-04-23T19:11:21.896Z"
   },
   {
    "duration": 0,
    "start_time": "2022-04-23T19:11:21.898Z"
   },
   {
    "duration": 0,
    "start_time": "2022-04-23T19:11:21.900Z"
   },
   {
    "duration": 0,
    "start_time": "2022-04-23T19:11:21.901Z"
   },
   {
    "duration": 0,
    "start_time": "2022-04-23T19:11:21.903Z"
   },
   {
    "duration": 0,
    "start_time": "2022-04-23T19:11:21.904Z"
   },
   {
    "duration": 349,
    "start_time": "2022-04-23T19:12:20.179Z"
   },
   {
    "duration": 25,
    "start_time": "2022-04-23T19:13:37.338Z"
   },
   {
    "duration": 4,
    "start_time": "2022-04-23T19:14:06.679Z"
   },
   {
    "duration": 5,
    "start_time": "2022-04-23T19:14:07.448Z"
   },
   {
    "duration": 4,
    "start_time": "2022-04-23T19:14:07.881Z"
   },
   {
    "duration": 15,
    "start_time": "2022-04-23T19:14:10.628Z"
   },
   {
    "duration": 14,
    "start_time": "2022-04-23T19:14:11.751Z"
   },
   {
    "duration": 14,
    "start_time": "2022-04-23T19:14:13.706Z"
   },
   {
    "duration": 26,
    "start_time": "2022-04-23T19:14:49.839Z"
   },
   {
    "duration": 25,
    "start_time": "2022-04-23T19:15:11.484Z"
   },
   {
    "duration": 29,
    "start_time": "2022-04-23T19:17:06.630Z"
   },
   {
    "duration": 16,
    "start_time": "2022-04-23T19:17:09.147Z"
   },
   {
    "duration": 15,
    "start_time": "2022-04-23T19:17:10.702Z"
   },
   {
    "duration": 15,
    "start_time": "2022-04-23T19:17:12.419Z"
   },
   {
    "duration": 1474,
    "start_time": "2022-04-23T19:18:55.673Z"
   },
   {
    "duration": 54,
    "start_time": "2022-04-23T19:18:57.150Z"
   },
   {
    "duration": 26,
    "start_time": "2022-04-23T19:18:57.206Z"
   },
   {
    "duration": 23,
    "start_time": "2022-04-23T19:18:57.235Z"
   },
   {
    "duration": 25,
    "start_time": "2022-04-23T19:18:57.259Z"
   },
   {
    "duration": 25,
    "start_time": "2022-04-23T19:18:57.286Z"
   },
   {
    "duration": 7,
    "start_time": "2022-04-23T19:18:57.313Z"
   },
   {
    "duration": 12,
    "start_time": "2022-04-23T19:18:57.322Z"
   },
   {
    "duration": 65,
    "start_time": "2022-04-23T19:18:57.337Z"
   },
   {
    "duration": 20,
    "start_time": "2022-04-23T19:18:57.407Z"
   },
   {
    "duration": 16,
    "start_time": "2022-04-23T19:18:57.430Z"
   },
   {
    "duration": 35,
    "start_time": "2022-04-23T19:18:57.448Z"
   },
   {
    "duration": 12,
    "start_time": "2022-04-23T19:18:57.486Z"
   },
   {
    "duration": 13,
    "start_time": "2022-04-23T19:18:57.500Z"
   },
   {
    "duration": 14,
    "start_time": "2022-04-23T19:18:57.515Z"
   },
   {
    "duration": 26,
    "start_time": "2022-04-23T19:18:57.531Z"
   },
   {
    "duration": 10,
    "start_time": "2022-04-23T19:18:57.582Z"
   },
   {
    "duration": 24,
    "start_time": "2022-04-23T19:18:57.594Z"
   },
   {
    "duration": 13,
    "start_time": "2022-04-23T19:18:57.620Z"
   },
   {
    "duration": 13,
    "start_time": "2022-04-23T19:18:57.635Z"
   },
   {
    "duration": 33,
    "start_time": "2022-04-23T19:18:57.651Z"
   },
   {
    "duration": 23,
    "start_time": "2022-04-23T19:18:57.686Z"
   },
   {
    "duration": 26,
    "start_time": "2022-04-23T19:18:57.711Z"
   },
   {
    "duration": 128,
    "start_time": "2022-04-23T19:18:57.739Z"
   },
   {
    "duration": 3,
    "start_time": "2022-04-23T19:18:57.881Z"
   },
   {
    "duration": 19,
    "start_time": "2022-04-23T19:18:57.886Z"
   },
   {
    "duration": 453,
    "start_time": "2022-04-23T19:18:57.908Z"
   },
   {
    "duration": 29,
    "start_time": "2022-04-23T19:18:58.368Z"
   },
   {
    "duration": 26,
    "start_time": "2022-04-23T19:18:58.399Z"
   },
   {
    "duration": 270,
    "start_time": "2022-04-23T19:18:58.427Z"
   },
   {
    "duration": 193,
    "start_time": "2022-04-23T19:18:58.699Z"
   },
   {
    "duration": 17,
    "start_time": "2022-04-23T19:18:58.894Z"
   },
   {
    "duration": 461,
    "start_time": "2022-04-23T19:18:58.913Z"
   },
   {
    "duration": 1010,
    "start_time": "2022-04-23T19:18:59.377Z"
   },
   {
    "duration": 28,
    "start_time": "2022-04-23T19:19:00.389Z"
   },
   {
    "duration": 36,
    "start_time": "2022-04-23T19:19:00.419Z"
   },
   {
    "duration": 46,
    "start_time": "2022-04-23T19:19:00.458Z"
   },
   {
    "duration": 645,
    "start_time": "2022-04-23T19:19:00.506Z"
   },
   {
    "duration": 460,
    "start_time": "2022-04-23T19:19:01.154Z"
   },
   {
    "duration": 78,
    "start_time": "2022-04-23T19:19:01.616Z"
   },
   {
    "duration": 20,
    "start_time": "2022-04-23T19:19:01.696Z"
   },
   {
    "duration": 12,
    "start_time": "2022-04-23T19:19:01.718Z"
   },
   {
    "duration": 351,
    "start_time": "2022-04-23T19:19:01.733Z"
   },
   {
    "duration": 8,
    "start_time": "2022-04-23T19:19:02.086Z"
   },
   {
    "duration": 25,
    "start_time": "2022-04-23T19:19:02.096Z"
   },
   {
    "duration": 246,
    "start_time": "2022-04-23T19:19:02.123Z"
   },
   {
    "duration": 12,
    "start_time": "2022-04-23T19:19:02.371Z"
   },
   {
    "duration": 28,
    "start_time": "2022-04-23T19:19:02.385Z"
   },
   {
    "duration": 17,
    "start_time": "2022-04-23T19:19:02.416Z"
   },
   {
    "duration": 22,
    "start_time": "2022-04-23T19:19:02.435Z"
   },
   {
    "duration": 31,
    "start_time": "2022-04-23T19:19:02.460Z"
   },
   {
    "duration": 40,
    "start_time": "2022-04-23T19:19:02.493Z"
   },
   {
    "duration": 18,
    "start_time": "2022-04-23T19:19:02.536Z"
   },
   {
    "duration": 35,
    "start_time": "2022-04-23T19:19:02.557Z"
   },
   {
    "duration": 7,
    "start_time": "2022-04-23T19:19:02.594Z"
   },
   {
    "duration": 16,
    "start_time": "2022-04-23T19:19:02.604Z"
   },
   {
    "duration": 27,
    "start_time": "2022-04-23T19:19:02.622Z"
   },
   {
    "duration": 57,
    "start_time": "2022-04-23T19:19:02.651Z"
   },
   {
    "duration": 9,
    "start_time": "2022-04-23T19:19:02.710Z"
   },
   {
    "duration": 14,
    "start_time": "2022-04-23T19:19:02.721Z"
   },
   {
    "duration": 9,
    "start_time": "2022-04-23T19:19:02.738Z"
   },
   {
    "duration": 7,
    "start_time": "2022-04-23T19:19:02.782Z"
   },
   {
    "duration": 39,
    "start_time": "2022-04-23T19:19:02.792Z"
   },
   {
    "duration": 5,
    "start_time": "2022-04-23T19:19:02.834Z"
   },
   {
    "duration": 11,
    "start_time": "2022-04-23T19:19:02.841Z"
   },
   {
    "duration": 28,
    "start_time": "2022-04-23T19:19:02.854Z"
   },
   {
    "duration": 15,
    "start_time": "2022-04-23T19:19:02.884Z"
   },
   {
    "duration": 15,
    "start_time": "2022-04-23T19:19:02.902Z"
   },
   {
    "duration": 16,
    "start_time": "2022-04-23T19:19:02.920Z"
   },
   {
    "duration": 29,
    "start_time": "2022-04-23T19:19:02.982Z"
   },
   {
    "duration": 16,
    "start_time": "2022-04-23T19:19:03.013Z"
   },
   {
    "duration": 16,
    "start_time": "2022-04-23T19:19:03.031Z"
   },
   {
    "duration": 16,
    "start_time": "2022-04-23T19:19:03.081Z"
   },
   {
    "duration": 27,
    "start_time": "2022-04-23T19:19:03.099Z"
   },
   {
    "duration": 19,
    "start_time": "2022-04-23T19:19:03.129Z"
   },
   {
    "duration": 13,
    "start_time": "2022-04-23T19:19:03.182Z"
   },
   {
    "duration": 11,
    "start_time": "2022-04-23T19:19:03.198Z"
   },
   {
    "duration": 10,
    "start_time": "2022-04-23T19:19:03.212Z"
   },
   {
    "duration": 6,
    "start_time": "2022-04-23T19:19:03.224Z"
   },
   {
    "duration": 6,
    "start_time": "2022-04-23T19:19:03.232Z"
   },
   {
    "duration": 47,
    "start_time": "2022-04-23T19:19:03.239Z"
   },
   {
    "duration": 12,
    "start_time": "2022-04-23T19:19:03.294Z"
   },
   {
    "duration": 14,
    "start_time": "2022-04-23T19:19:03.308Z"
   },
   {
    "duration": 10,
    "start_time": "2022-04-23T19:19:03.325Z"
   },
   {
    "duration": 6,
    "start_time": "2022-04-23T19:19:03.337Z"
   },
   {
    "duration": 39,
    "start_time": "2022-04-23T19:19:03.345Z"
   },
   {
    "duration": 34,
    "start_time": "2022-04-23T19:20:17.768Z"
   },
   {
    "duration": 9,
    "start_time": "2022-04-23T19:30:29.033Z"
   },
   {
    "duration": 10,
    "start_time": "2022-04-23T19:30:32.666Z"
   },
   {
    "duration": 13,
    "start_time": "2022-04-23T19:30:39.634Z"
   },
   {
    "duration": 11,
    "start_time": "2022-04-23T19:32:14.355Z"
   },
   {
    "duration": 11,
    "start_time": "2022-04-23T19:32:15.711Z"
   },
   {
    "duration": 1557,
    "start_time": "2022-04-23T19:32:30.394Z"
   },
   {
    "duration": 49,
    "start_time": "2022-04-23T19:32:31.954Z"
   },
   {
    "duration": 26,
    "start_time": "2022-04-23T19:32:32.005Z"
   },
   {
    "duration": 21,
    "start_time": "2022-04-23T19:32:32.033Z"
   },
   {
    "duration": 27,
    "start_time": "2022-04-23T19:32:32.056Z"
   },
   {
    "duration": 29,
    "start_time": "2022-04-23T19:32:32.085Z"
   },
   {
    "duration": 6,
    "start_time": "2022-04-23T19:32:32.116Z"
   },
   {
    "duration": 13,
    "start_time": "2022-04-23T19:32:32.124Z"
   },
   {
    "duration": 61,
    "start_time": "2022-04-23T19:32:32.138Z"
   },
   {
    "duration": 20,
    "start_time": "2022-04-23T19:32:32.203Z"
   },
   {
    "duration": 14,
    "start_time": "2022-04-23T19:32:32.225Z"
   },
   {
    "duration": 7,
    "start_time": "2022-04-23T19:32:32.241Z"
   },
   {
    "duration": 36,
    "start_time": "2022-04-23T19:32:32.250Z"
   },
   {
    "duration": 10,
    "start_time": "2022-04-23T19:32:32.288Z"
   },
   {
    "duration": 10,
    "start_time": "2022-04-23T19:32:32.301Z"
   },
   {
    "duration": 27,
    "start_time": "2022-04-23T19:32:32.313Z"
   },
   {
    "duration": 9,
    "start_time": "2022-04-23T19:32:32.342Z"
   },
   {
    "duration": 48,
    "start_time": "2022-04-23T19:32:32.352Z"
   },
   {
    "duration": 10,
    "start_time": "2022-04-23T19:32:32.402Z"
   },
   {
    "duration": 8,
    "start_time": "2022-04-23T19:32:32.414Z"
   },
   {
    "duration": 6,
    "start_time": "2022-04-23T19:32:32.424Z"
   },
   {
    "duration": 52,
    "start_time": "2022-04-23T19:32:32.432Z"
   },
   {
    "duration": 22,
    "start_time": "2022-04-23T19:32:32.486Z"
   },
   {
    "duration": 127,
    "start_time": "2022-04-23T19:32:32.510Z"
   },
   {
    "duration": 3,
    "start_time": "2022-04-23T19:32:32.639Z"
   },
   {
    "duration": 24,
    "start_time": "2022-04-23T19:32:32.644Z"
   },
   {
    "duration": 442,
    "start_time": "2022-04-23T19:32:32.682Z"
   },
   {
    "duration": 24,
    "start_time": "2022-04-23T19:32:33.130Z"
   },
   {
    "duration": 39,
    "start_time": "2022-04-23T19:32:33.157Z"
   },
   {
    "duration": 263,
    "start_time": "2022-04-23T19:32:33.198Z"
   },
   {
    "duration": 175,
    "start_time": "2022-04-23T19:32:33.464Z"
   },
   {
    "duration": 18,
    "start_time": "2022-04-23T19:32:33.642Z"
   },
   {
    "duration": 465,
    "start_time": "2022-04-23T19:32:33.662Z"
   },
   {
    "duration": 1202,
    "start_time": "2022-04-23T19:32:34.130Z"
   },
   {
    "duration": 51,
    "start_time": "2022-04-23T19:32:35.335Z"
   },
   {
    "duration": 22,
    "start_time": "2022-04-23T19:32:35.388Z"
   },
   {
    "duration": 32,
    "start_time": "2022-04-23T19:32:35.412Z"
   },
   {
    "duration": 569,
    "start_time": "2022-04-23T19:32:35.446Z"
   },
   {
    "duration": 445,
    "start_time": "2022-04-23T19:32:36.017Z"
   },
   {
    "duration": 63,
    "start_time": "2022-04-23T19:32:36.464Z"
   },
   {
    "duration": 19,
    "start_time": "2022-04-23T19:32:36.529Z"
   },
   {
    "duration": 8,
    "start_time": "2022-04-23T19:32:36.550Z"
   },
   {
    "duration": 311,
    "start_time": "2022-04-23T19:32:36.582Z"
   },
   {
    "duration": 7,
    "start_time": "2022-04-23T19:32:36.895Z"
   },
   {
    "duration": 19,
    "start_time": "2022-04-23T19:32:36.904Z"
   },
   {
    "duration": 245,
    "start_time": "2022-04-23T19:32:36.925Z"
   },
   {
    "duration": 12,
    "start_time": "2022-04-23T19:32:37.172Z"
   },
   {
    "duration": 18,
    "start_time": "2022-04-23T19:32:37.186Z"
   },
   {
    "duration": 11,
    "start_time": "2022-04-23T19:32:37.206Z"
   },
   {
    "duration": 18,
    "start_time": "2022-04-23T19:32:37.219Z"
   },
   {
    "duration": 48,
    "start_time": "2022-04-23T19:32:37.240Z"
   },
   {
    "duration": 34,
    "start_time": "2022-04-23T19:32:37.290Z"
   },
   {
    "duration": 20,
    "start_time": "2022-04-23T19:32:37.327Z"
   },
   {
    "duration": 41,
    "start_time": "2022-04-23T19:32:37.349Z"
   },
   {
    "duration": 6,
    "start_time": "2022-04-23T19:32:37.393Z"
   },
   {
    "duration": 15,
    "start_time": "2022-04-23T19:32:37.401Z"
   },
   {
    "duration": 24,
    "start_time": "2022-04-23T19:32:37.419Z"
   },
   {
    "duration": 54,
    "start_time": "2022-04-23T19:32:37.446Z"
   },
   {
    "duration": 8,
    "start_time": "2022-04-23T19:32:37.502Z"
   },
   {
    "duration": 7,
    "start_time": "2022-04-23T19:32:37.513Z"
   },
   {
    "duration": 7,
    "start_time": "2022-04-23T19:32:37.522Z"
   },
   {
    "duration": 7,
    "start_time": "2022-04-23T19:32:37.531Z"
   },
   {
    "duration": 24,
    "start_time": "2022-04-23T19:32:37.581Z"
   },
   {
    "duration": 4,
    "start_time": "2022-04-23T19:32:37.607Z"
   },
   {
    "duration": 8,
    "start_time": "2022-04-23T19:32:37.613Z"
   },
   {
    "duration": 8,
    "start_time": "2022-04-23T19:32:37.623Z"
   },
   {
    "duration": 17,
    "start_time": "2022-04-23T19:32:37.633Z"
   },
   {
    "duration": 43,
    "start_time": "2022-04-23T19:32:37.652Z"
   },
   {
    "duration": 17,
    "start_time": "2022-04-23T19:32:37.697Z"
   },
   {
    "duration": 24,
    "start_time": "2022-04-23T19:32:37.715Z"
   },
   {
    "duration": 41,
    "start_time": "2022-04-23T19:32:37.742Z"
   },
   {
    "duration": 20,
    "start_time": "2022-04-23T19:32:37.785Z"
   },
   {
    "duration": 16,
    "start_time": "2022-04-23T19:32:37.807Z"
   },
   {
    "duration": 24,
    "start_time": "2022-04-23T19:32:37.825Z"
   },
   {
    "duration": 43,
    "start_time": "2022-04-23T19:32:37.851Z"
   },
   {
    "duration": 10,
    "start_time": "2022-04-23T19:32:37.896Z"
   },
   {
    "duration": 11,
    "start_time": "2022-04-23T19:32:37.908Z"
   },
   {
    "duration": 16,
    "start_time": "2022-04-23T19:32:37.921Z"
   },
   {
    "duration": 7,
    "start_time": "2022-04-23T19:32:37.940Z"
   },
   {
    "duration": 5,
    "start_time": "2022-04-23T19:32:37.981Z"
   },
   {
    "duration": 10,
    "start_time": "2022-04-23T19:32:37.988Z"
   },
   {
    "duration": 12,
    "start_time": "2022-04-23T19:32:38.006Z"
   },
   {
    "duration": 14,
    "start_time": "2022-04-23T19:32:38.021Z"
   },
   {
    "duration": 9,
    "start_time": "2022-04-23T19:32:38.038Z"
   },
   {
    "duration": 36,
    "start_time": "2022-04-23T19:32:38.049Z"
   },
   {
    "duration": 10,
    "start_time": "2022-04-23T19:32:38.087Z"
   },
   {
    "duration": 10,
    "start_time": "2022-04-23T19:34:10.486Z"
   },
   {
    "duration": 9,
    "start_time": "2022-04-23T19:34:21.666Z"
   },
   {
    "duration": 11,
    "start_time": "2022-04-23T19:34:22.702Z"
   },
   {
    "duration": 12,
    "start_time": "2022-04-23T19:34:33.050Z"
   },
   {
    "duration": 10,
    "start_time": "2022-04-23T19:35:00.870Z"
   },
   {
    "duration": 35,
    "start_time": "2022-04-23T19:35:03.121Z"
   },
   {
    "duration": 9,
    "start_time": "2022-04-23T19:35:12.962Z"
   },
   {
    "duration": 11,
    "start_time": "2022-04-23T19:35:14.511Z"
   },
   {
    "duration": 11,
    "start_time": "2022-04-23T19:35:15.681Z"
   },
   {
    "duration": 4,
    "start_time": "2022-04-23T19:35:32.904Z"
   },
   {
    "duration": 5,
    "start_time": "2022-04-23T19:35:36.873Z"
   },
   {
    "duration": 5,
    "start_time": "2022-04-23T19:35:55.683Z"
   },
   {
    "duration": 6,
    "start_time": "2022-04-23T19:35:57.863Z"
   },
   {
    "duration": 10,
    "start_time": "2022-04-23T19:36:06.031Z"
   },
   {
    "duration": 12,
    "start_time": "2022-04-23T19:36:07.060Z"
   },
   {
    "duration": 10,
    "start_time": "2022-04-23T19:36:07.370Z"
   },
   {
    "duration": 3,
    "start_time": "2022-04-23T19:36:09.643Z"
   },
   {
    "duration": 5,
    "start_time": "2022-04-23T19:36:10.440Z"
   },
   {
    "duration": 5,
    "start_time": "2022-04-23T19:36:12.902Z"
   },
   {
    "duration": 9,
    "start_time": "2022-04-23T19:36:58.322Z"
   },
   {
    "duration": 10,
    "start_time": "2022-04-23T19:36:59.852Z"
   },
   {
    "duration": 10,
    "start_time": "2022-04-23T19:37:00.311Z"
   },
   {
    "duration": 11,
    "start_time": "2022-04-23T19:37:22.611Z"
   },
   {
    "duration": 10,
    "start_time": "2022-04-23T19:37:23.289Z"
   },
   {
    "duration": 6,
    "start_time": "2022-04-23T19:37:25.290Z"
   },
   {
    "duration": 5,
    "start_time": "2022-04-23T19:37:28.551Z"
   },
   {
    "duration": 1451,
    "start_time": "2022-04-23T19:37:55.410Z"
   },
   {
    "duration": 48,
    "start_time": "2022-04-23T19:37:56.864Z"
   },
   {
    "duration": 26,
    "start_time": "2022-04-23T19:37:56.914Z"
   },
   {
    "duration": 41,
    "start_time": "2022-04-23T19:37:56.942Z"
   },
   {
    "duration": 5,
    "start_time": "2022-04-23T19:37:56.986Z"
   },
   {
    "duration": 28,
    "start_time": "2022-04-23T19:37:56.993Z"
   },
   {
    "duration": 7,
    "start_time": "2022-04-23T19:37:57.023Z"
   },
   {
    "duration": 17,
    "start_time": "2022-04-23T19:37:57.033Z"
   },
   {
    "duration": 57,
    "start_time": "2022-04-23T19:37:57.052Z"
   },
   {
    "duration": 21,
    "start_time": "2022-04-23T19:37:57.112Z"
   },
   {
    "duration": 13,
    "start_time": "2022-04-23T19:37:57.135Z"
   },
   {
    "duration": 33,
    "start_time": "2022-04-23T19:37:57.151Z"
   },
   {
    "duration": 7,
    "start_time": "2022-04-23T19:37:57.186Z"
   },
   {
    "duration": 8,
    "start_time": "2022-04-23T19:37:57.198Z"
   },
   {
    "duration": 11,
    "start_time": "2022-04-23T19:37:57.208Z"
   },
   {
    "duration": 27,
    "start_time": "2022-04-23T19:37:57.221Z"
   },
   {
    "duration": 9,
    "start_time": "2022-04-23T19:37:57.281Z"
   },
   {
    "duration": 26,
    "start_time": "2022-04-23T19:37:57.292Z"
   },
   {
    "duration": 8,
    "start_time": "2022-04-23T19:37:57.320Z"
   },
   {
    "duration": 12,
    "start_time": "2022-04-23T19:37:57.330Z"
   },
   {
    "duration": 9,
    "start_time": "2022-04-23T19:37:57.344Z"
   },
   {
    "duration": 21,
    "start_time": "2022-04-23T19:37:57.382Z"
   },
   {
    "duration": 21,
    "start_time": "2022-04-23T19:37:57.405Z"
   },
   {
    "duration": 133,
    "start_time": "2022-04-23T19:37:57.428Z"
   },
   {
    "duration": 4,
    "start_time": "2022-04-23T19:37:57.563Z"
   },
   {
    "duration": 15,
    "start_time": "2022-04-23T19:37:57.581Z"
   },
   {
    "duration": 451,
    "start_time": "2022-04-23T19:37:57.598Z"
   },
   {
    "duration": 36,
    "start_time": "2022-04-23T19:37:58.052Z"
   },
   {
    "duration": 27,
    "start_time": "2022-04-23T19:37:58.090Z"
   },
   {
    "duration": 307,
    "start_time": "2022-04-23T19:37:58.119Z"
   },
   {
    "duration": 179,
    "start_time": "2022-04-23T19:37:58.428Z"
   },
   {
    "duration": 17,
    "start_time": "2022-04-23T19:37:58.609Z"
   },
   {
    "duration": 550,
    "start_time": "2022-04-23T19:37:58.628Z"
   },
   {
    "duration": 1009,
    "start_time": "2022-04-23T19:37:59.181Z"
   },
   {
    "duration": 28,
    "start_time": "2022-04-23T19:38:00.192Z"
   },
   {
    "duration": 22,
    "start_time": "2022-04-23T19:38:00.222Z"
   },
   {
    "duration": 64,
    "start_time": "2022-04-23T19:38:00.246Z"
   },
   {
    "duration": 541,
    "start_time": "2022-04-23T19:38:00.312Z"
   },
   {
    "duration": 444,
    "start_time": "2022-04-23T19:38:00.855Z"
   },
   {
    "duration": 55,
    "start_time": "2022-04-23T19:38:01.302Z"
   },
   {
    "duration": 107,
    "start_time": "2022-04-23T19:38:01.386Z"
   },
   {
    "duration": 6,
    "start_time": "2022-04-23T19:38:01.495Z"
   },
   {
    "duration": 252,
    "start_time": "2022-04-23T19:38:01.503Z"
   },
   {
    "duration": 7,
    "start_time": "2022-04-23T19:38:01.757Z"
   },
   {
    "duration": 29,
    "start_time": "2022-04-23T19:38:01.766Z"
   },
   {
    "duration": 239,
    "start_time": "2022-04-23T19:38:01.797Z"
   },
   {
    "duration": 7,
    "start_time": "2022-04-23T19:38:02.038Z"
   },
   {
    "duration": 36,
    "start_time": "2022-04-23T19:38:02.047Z"
   },
   {
    "duration": 16,
    "start_time": "2022-04-23T19:38:02.086Z"
   },
   {
    "duration": 26,
    "start_time": "2022-04-23T19:38:02.104Z"
   },
   {
    "duration": 9,
    "start_time": "2022-04-23T19:38:02.133Z"
   },
   {
    "duration": 53,
    "start_time": "2022-04-23T19:38:02.144Z"
   },
   {
    "duration": 19,
    "start_time": "2022-04-23T19:38:02.199Z"
   },
   {
    "duration": 13,
    "start_time": "2022-04-23T19:38:02.221Z"
   },
   {
    "duration": 6,
    "start_time": "2022-04-23T19:38:02.236Z"
   },
   {
    "duration": 48,
    "start_time": "2022-04-23T19:38:02.244Z"
   },
   {
    "duration": 37,
    "start_time": "2022-04-23T19:38:02.294Z"
   },
   {
    "duration": 33,
    "start_time": "2022-04-23T19:38:02.333Z"
   },
   {
    "duration": 15,
    "start_time": "2022-04-23T19:38:02.369Z"
   },
   {
    "duration": 13,
    "start_time": "2022-04-23T19:38:02.386Z"
   },
   {
    "duration": 11,
    "start_time": "2022-04-23T19:38:02.401Z"
   },
   {
    "duration": 12,
    "start_time": "2022-04-23T19:38:02.414Z"
   },
   {
    "duration": 30,
    "start_time": "2022-04-23T19:38:02.428Z"
   },
   {
    "duration": 24,
    "start_time": "2022-04-23T19:38:02.460Z"
   },
   {
    "duration": 14,
    "start_time": "2022-04-23T19:38:02.486Z"
   },
   {
    "duration": 10,
    "start_time": "2022-04-23T19:38:02.502Z"
   },
   {
    "duration": 25,
    "start_time": "2022-04-23T19:38:02.514Z"
   },
   {
    "duration": 22,
    "start_time": "2022-04-23T19:38:02.541Z"
   },
   {
    "duration": 20,
    "start_time": "2022-04-23T19:38:02.565Z"
   },
   {
    "duration": 28,
    "start_time": "2022-04-23T19:38:02.587Z"
   },
   {
    "duration": 15,
    "start_time": "2022-04-23T19:38:02.617Z"
   },
   {
    "duration": 47,
    "start_time": "2022-04-23T19:38:02.635Z"
   },
   {
    "duration": 15,
    "start_time": "2022-04-23T19:38:02.684Z"
   },
   {
    "duration": 25,
    "start_time": "2022-04-23T19:38:02.701Z"
   },
   {
    "duration": 14,
    "start_time": "2022-04-23T19:38:02.728Z"
   },
   {
    "duration": 43,
    "start_time": "2022-04-23T19:38:02.744Z"
   },
   {
    "duration": 21,
    "start_time": "2022-04-23T19:38:02.790Z"
   },
   {
    "duration": 14,
    "start_time": "2022-04-23T19:38:02.813Z"
   },
   {
    "duration": 4,
    "start_time": "2022-04-23T19:38:02.829Z"
   },
   {
    "duration": 11,
    "start_time": "2022-04-23T19:38:02.835Z"
   },
   {
    "duration": 9,
    "start_time": "2022-04-23T19:38:02.848Z"
   },
   {
    "duration": 11,
    "start_time": "2022-04-23T19:38:02.882Z"
   },
   {
    "duration": 13,
    "start_time": "2022-04-23T19:38:02.895Z"
   },
   {
    "duration": 11,
    "start_time": "2022-04-23T19:38:02.911Z"
   },
   {
    "duration": 8,
    "start_time": "2022-04-23T19:38:02.924Z"
   },
   {
    "duration": 49,
    "start_time": "2022-04-23T19:38:02.934Z"
   },
   {
    "duration": 6,
    "start_time": "2022-04-23T19:48:01.577Z"
   },
   {
    "duration": 6,
    "start_time": "2022-04-23T19:48:02.310Z"
   },
   {
    "duration": 6,
    "start_time": "2022-04-23T19:48:06.817Z"
   },
   {
    "duration": 7,
    "start_time": "2022-04-23T19:48:07.619Z"
   },
   {
    "duration": 1646,
    "start_time": "2022-04-23T19:49:49.650Z"
   },
   {
    "duration": 48,
    "start_time": "2022-04-23T19:49:51.299Z"
   },
   {
    "duration": 35,
    "start_time": "2022-04-23T19:49:51.350Z"
   },
   {
    "duration": 21,
    "start_time": "2022-04-23T19:49:51.387Z"
   },
   {
    "duration": 14,
    "start_time": "2022-04-23T19:49:51.413Z"
   },
   {
    "duration": 55,
    "start_time": "2022-04-23T19:49:51.430Z"
   },
   {
    "duration": 9,
    "start_time": "2022-04-23T19:49:51.487Z"
   },
   {
    "duration": 19,
    "start_time": "2022-04-23T19:49:51.499Z"
   },
   {
    "duration": 33,
    "start_time": "2022-04-23T19:49:51.521Z"
   },
   {
    "duration": 22,
    "start_time": "2022-04-23T19:49:51.582Z"
   },
   {
    "duration": 13,
    "start_time": "2022-04-23T19:49:51.607Z"
   },
   {
    "duration": 7,
    "start_time": "2022-04-23T19:49:51.622Z"
   },
   {
    "duration": 12,
    "start_time": "2022-04-23T19:49:51.632Z"
   },
   {
    "duration": 39,
    "start_time": "2022-04-23T19:49:51.649Z"
   },
   {
    "duration": 10,
    "start_time": "2022-04-23T19:49:51.690Z"
   },
   {
    "duration": 36,
    "start_time": "2022-04-23T19:49:51.702Z"
   },
   {
    "duration": 10,
    "start_time": "2022-04-23T19:49:51.741Z"
   },
   {
    "duration": 25,
    "start_time": "2022-04-23T19:49:51.781Z"
   },
   {
    "duration": 9,
    "start_time": "2022-04-23T19:49:51.808Z"
   },
   {
    "duration": 7,
    "start_time": "2022-04-23T19:49:51.819Z"
   },
   {
    "duration": 12,
    "start_time": "2022-04-23T19:49:51.829Z"
   },
   {
    "duration": 57,
    "start_time": "2022-04-23T19:49:51.843Z"
   },
   {
    "duration": 26,
    "start_time": "2022-04-23T19:49:51.902Z"
   },
   {
    "duration": 129,
    "start_time": "2022-04-23T19:49:51.930Z"
   },
   {
    "duration": 4,
    "start_time": "2022-04-23T19:49:52.061Z"
   },
   {
    "duration": 28,
    "start_time": "2022-04-23T19:49:52.066Z"
   },
   {
    "duration": 459,
    "start_time": "2022-04-23T19:49:52.097Z"
   },
   {
    "duration": 36,
    "start_time": "2022-04-23T19:49:52.559Z"
   },
   {
    "duration": 26,
    "start_time": "2022-04-23T19:49:52.598Z"
   },
   {
    "duration": 278,
    "start_time": "2022-04-23T19:49:52.626Z"
   },
   {
    "duration": 176,
    "start_time": "2022-04-23T19:49:52.907Z"
   },
   {
    "duration": 18,
    "start_time": "2022-04-23T19:49:53.085Z"
   },
   {
    "duration": 461,
    "start_time": "2022-04-23T19:49:53.105Z"
   },
   {
    "duration": 1039,
    "start_time": "2022-04-23T19:49:53.569Z"
   },
   {
    "duration": 28,
    "start_time": "2022-04-23T19:49:54.610Z"
   },
   {
    "duration": 49,
    "start_time": "2022-04-23T19:49:54.641Z"
   },
   {
    "duration": 30,
    "start_time": "2022-04-23T19:49:54.691Z"
   },
   {
    "duration": 549,
    "start_time": "2022-04-23T19:49:54.723Z"
   },
   {
    "duration": 441,
    "start_time": "2022-04-23T19:49:55.282Z"
   },
   {
    "duration": 73,
    "start_time": "2022-04-23T19:49:55.725Z"
   },
   {
    "duration": 117,
    "start_time": "2022-04-23T19:49:55.806Z"
   },
   {
    "duration": 7,
    "start_time": "2022-04-23T19:49:55.925Z"
   },
   {
    "duration": 249,
    "start_time": "2022-04-23T19:49:55.934Z"
   },
   {
    "duration": 7,
    "start_time": "2022-04-23T19:49:56.185Z"
   },
   {
    "duration": 19,
    "start_time": "2022-04-23T19:49:56.195Z"
   },
   {
    "duration": 259,
    "start_time": "2022-04-23T19:49:56.216Z"
   },
   {
    "duration": 7,
    "start_time": "2022-04-23T19:49:56.482Z"
   },
   {
    "duration": 20,
    "start_time": "2022-04-23T19:49:56.491Z"
   },
   {
    "duration": 8,
    "start_time": "2022-04-23T19:49:56.513Z"
   },
   {
    "duration": 19,
    "start_time": "2022-04-23T19:49:56.523Z"
   },
   {
    "duration": 43,
    "start_time": "2022-04-23T19:49:56.544Z"
   },
   {
    "duration": 37,
    "start_time": "2022-04-23T19:49:56.589Z"
   },
   {
    "duration": 22,
    "start_time": "2022-04-23T19:49:56.628Z"
   },
   {
    "duration": 14,
    "start_time": "2022-04-23T19:49:56.682Z"
   },
   {
    "duration": 7,
    "start_time": "2022-04-23T19:49:56.698Z"
   },
   {
    "duration": 19,
    "start_time": "2022-04-23T19:49:56.707Z"
   },
   {
    "duration": 55,
    "start_time": "2022-04-23T19:49:56.729Z"
   },
   {
    "duration": 30,
    "start_time": "2022-04-23T19:49:56.787Z"
   },
   {
    "duration": 46,
    "start_time": "2022-04-23T19:49:56.819Z"
   },
   {
    "duration": 25,
    "start_time": "2022-04-23T19:49:56.867Z"
   },
   {
    "duration": 16,
    "start_time": "2022-04-23T19:49:56.895Z"
   },
   {
    "duration": 9,
    "start_time": "2022-04-23T19:49:56.914Z"
   },
   {
    "duration": 36,
    "start_time": "2022-04-23T19:49:56.926Z"
   },
   {
    "duration": 3,
    "start_time": "2022-04-23T19:49:56.965Z"
   },
   {
    "duration": 5,
    "start_time": "2022-04-23T19:49:56.981Z"
   },
   {
    "duration": 6,
    "start_time": "2022-04-23T19:49:56.988Z"
   },
   {
    "duration": 17,
    "start_time": "2022-04-23T19:49:56.997Z"
   },
   {
    "duration": 16,
    "start_time": "2022-04-23T19:49:57.016Z"
   },
   {
    "duration": 49,
    "start_time": "2022-04-23T19:49:57.034Z"
   },
   {
    "duration": 26,
    "start_time": "2022-04-23T19:49:57.085Z"
   },
   {
    "duration": 14,
    "start_time": "2022-04-23T19:49:57.113Z"
   },
   {
    "duration": 15,
    "start_time": "2022-04-23T19:49:57.130Z"
   },
   {
    "duration": 47,
    "start_time": "2022-04-23T19:49:57.147Z"
   },
   {
    "duration": 31,
    "start_time": "2022-04-23T19:49:57.196Z"
   },
   {
    "duration": 15,
    "start_time": "2022-04-23T19:49:57.229Z"
   },
   {
    "duration": 38,
    "start_time": "2022-04-23T19:49:57.246Z"
   },
   {
    "duration": 14,
    "start_time": "2022-04-23T19:49:57.286Z"
   },
   {
    "duration": 10,
    "start_time": "2022-04-23T19:49:57.302Z"
   },
   {
    "duration": 4,
    "start_time": "2022-04-23T19:49:57.314Z"
   },
   {
    "duration": 5,
    "start_time": "2022-04-23T19:49:57.320Z"
   },
   {
    "duration": 7,
    "start_time": "2022-04-23T19:49:57.327Z"
   },
   {
    "duration": 50,
    "start_time": "2022-04-23T19:49:57.336Z"
   },
   {
    "duration": 16,
    "start_time": "2022-04-23T19:49:57.389Z"
   },
   {
    "duration": 11,
    "start_time": "2022-04-23T19:49:57.407Z"
   },
   {
    "duration": 5,
    "start_time": "2022-04-23T19:49:57.420Z"
   },
   {
    "duration": 8,
    "start_time": "2022-04-23T19:49:57.427Z"
   },
   {
    "duration": 1510,
    "start_time": "2022-04-23T19:58:21.728Z"
   },
   {
    "duration": 53,
    "start_time": "2022-04-23T19:58:23.242Z"
   },
   {
    "duration": 29,
    "start_time": "2022-04-23T19:58:23.298Z"
   },
   {
    "duration": 20,
    "start_time": "2022-04-23T19:58:23.330Z"
   },
   {
    "duration": 29,
    "start_time": "2022-04-23T19:58:23.353Z"
   },
   {
    "duration": 26,
    "start_time": "2022-04-23T19:58:23.384Z"
   },
   {
    "duration": 7,
    "start_time": "2022-04-23T19:58:23.413Z"
   },
   {
    "duration": 13,
    "start_time": "2022-04-23T19:58:23.422Z"
   },
   {
    "duration": 63,
    "start_time": "2022-04-23T19:58:23.437Z"
   },
   {
    "duration": 20,
    "start_time": "2022-04-23T19:58:23.504Z"
   },
   {
    "duration": 15,
    "start_time": "2022-04-23T19:58:23.526Z"
   },
   {
    "duration": 39,
    "start_time": "2022-04-23T19:58:23.544Z"
   },
   {
    "duration": 13,
    "start_time": "2022-04-23T19:58:23.586Z"
   },
   {
    "duration": 14,
    "start_time": "2022-04-23T19:58:23.601Z"
   },
   {
    "duration": 8,
    "start_time": "2022-04-23T19:58:23.618Z"
   },
   {
    "duration": 28,
    "start_time": "2022-04-23T19:58:23.629Z"
   },
   {
    "duration": 30,
    "start_time": "2022-04-23T19:58:23.659Z"
   },
   {
    "duration": 28,
    "start_time": "2022-04-23T19:58:23.691Z"
   },
   {
    "duration": 10,
    "start_time": "2022-04-23T19:58:23.721Z"
   },
   {
    "duration": 9,
    "start_time": "2022-04-23T19:58:23.733Z"
   },
   {
    "duration": 8,
    "start_time": "2022-04-23T19:58:23.744Z"
   },
   {
    "duration": 45,
    "start_time": "2022-04-23T19:58:23.754Z"
   },
   {
    "duration": 28,
    "start_time": "2022-04-23T19:58:23.802Z"
   },
   {
    "duration": 130,
    "start_time": "2022-04-23T19:58:23.832Z"
   },
   {
    "duration": 3,
    "start_time": "2022-04-23T19:58:23.965Z"
   },
   {
    "duration": 18,
    "start_time": "2022-04-23T19:58:23.982Z"
   },
   {
    "duration": 596,
    "start_time": "2022-04-23T19:58:24.003Z"
   },
   {
    "duration": 25,
    "start_time": "2022-04-23T19:58:24.605Z"
   },
   {
    "duration": 52,
    "start_time": "2022-04-23T19:58:24.633Z"
   },
   {
    "duration": 253,
    "start_time": "2022-04-23T19:58:24.687Z"
   },
   {
    "duration": 185,
    "start_time": "2022-04-23T19:58:24.943Z"
   },
   {
    "duration": 17,
    "start_time": "2022-04-23T19:58:25.131Z"
   },
   {
    "duration": 460,
    "start_time": "2022-04-23T19:58:25.150Z"
   },
   {
    "duration": 1029,
    "start_time": "2022-04-23T19:58:25.613Z"
   },
   {
    "duration": 56,
    "start_time": "2022-04-23T19:58:26.645Z"
   },
   {
    "duration": 24,
    "start_time": "2022-04-23T19:58:26.704Z"
   },
   {
    "duration": 53,
    "start_time": "2022-04-23T19:58:26.731Z"
   },
   {
    "duration": 551,
    "start_time": "2022-04-23T19:58:26.786Z"
   },
   {
    "duration": 450,
    "start_time": "2022-04-23T19:58:27.340Z"
   },
   {
    "duration": 57,
    "start_time": "2022-04-23T19:58:27.793Z"
   },
   {
    "duration": 43,
    "start_time": "2022-04-23T19:58:27.853Z"
   },
   {
    "duration": 9,
    "start_time": "2022-04-23T19:58:27.898Z"
   },
   {
    "duration": 327,
    "start_time": "2022-04-23T19:58:27.909Z"
   },
   {
    "duration": 8,
    "start_time": "2022-04-23T19:58:28.238Z"
   },
   {
    "duration": 41,
    "start_time": "2022-04-23T19:58:28.249Z"
   },
   {
    "duration": 236,
    "start_time": "2022-04-23T19:58:28.293Z"
   },
   {
    "duration": 8,
    "start_time": "2022-04-23T19:58:28.532Z"
   },
   {
    "duration": 45,
    "start_time": "2022-04-23T19:58:28.543Z"
   },
   {
    "duration": 11,
    "start_time": "2022-04-23T19:58:28.590Z"
   },
   {
    "duration": 20,
    "start_time": "2022-04-23T19:58:28.604Z"
   },
   {
    "duration": 11,
    "start_time": "2022-04-23T19:58:28.627Z"
   },
   {
    "duration": 72,
    "start_time": "2022-04-23T19:58:28.640Z"
   },
   {
    "duration": 21,
    "start_time": "2022-04-23T19:58:28.715Z"
   },
   {
    "duration": 48,
    "start_time": "2022-04-23T19:58:28.738Z"
   },
   {
    "duration": 6,
    "start_time": "2022-04-23T19:58:28.789Z"
   },
   {
    "duration": 17,
    "start_time": "2022-04-23T19:58:28.797Z"
   },
   {
    "duration": 27,
    "start_time": "2022-04-23T19:58:28.816Z"
   },
   {
    "duration": 49,
    "start_time": "2022-04-23T19:58:28.846Z"
   },
   {
    "duration": 10,
    "start_time": "2022-04-23T19:58:28.898Z"
   },
   {
    "duration": 6,
    "start_time": "2022-04-23T19:58:28.910Z"
   },
   {
    "duration": 8,
    "start_time": "2022-04-23T19:58:28.918Z"
   },
   {
    "duration": 12,
    "start_time": "2022-04-23T19:58:28.928Z"
   },
   {
    "duration": 62,
    "start_time": "2022-04-23T19:58:28.942Z"
   },
   {
    "duration": 4,
    "start_time": "2022-04-23T19:58:29.006Z"
   },
   {
    "duration": 7,
    "start_time": "2022-04-23T19:58:29.012Z"
   },
   {
    "duration": 7,
    "start_time": "2022-04-23T19:58:29.022Z"
   },
   {
    "duration": 16,
    "start_time": "2022-04-23T19:58:29.031Z"
   },
   {
    "duration": 14,
    "start_time": "2022-04-23T19:58:29.082Z"
   },
   {
    "duration": 16,
    "start_time": "2022-04-23T19:58:29.098Z"
   },
   {
    "duration": 30,
    "start_time": "2022-04-23T19:58:29.116Z"
   },
   {
    "duration": 41,
    "start_time": "2022-04-23T19:58:29.149Z"
   },
   {
    "duration": 21,
    "start_time": "2022-04-23T19:58:29.192Z"
   },
   {
    "duration": 25,
    "start_time": "2022-04-23T19:58:29.215Z"
   },
   {
    "duration": 47,
    "start_time": "2022-04-23T19:58:29.242Z"
   },
   {
    "duration": 16,
    "start_time": "2022-04-23T19:58:29.291Z"
   },
   {
    "duration": 10,
    "start_time": "2022-04-23T19:58:29.309Z"
   },
   {
    "duration": 14,
    "start_time": "2022-04-23T19:58:29.321Z"
   },
   {
    "duration": 45,
    "start_time": "2022-04-23T19:58:29.338Z"
   },
   {
    "duration": 4,
    "start_time": "2022-04-23T19:58:29.385Z"
   },
   {
    "duration": 12,
    "start_time": "2022-04-23T19:58:29.391Z"
   },
   {
    "duration": 10,
    "start_time": "2022-04-23T19:58:29.405Z"
   },
   {
    "duration": 9,
    "start_time": "2022-04-23T19:58:29.423Z"
   },
   {
    "duration": 13,
    "start_time": "2022-04-23T19:58:29.435Z"
   },
   {
    "duration": 35,
    "start_time": "2022-04-23T19:58:29.450Z"
   },
   {
    "duration": 11,
    "start_time": "2022-04-23T19:58:29.487Z"
   },
   {
    "duration": 7,
    "start_time": "2022-04-23T19:58:29.500Z"
   },
   {
    "duration": 24,
    "start_time": "2022-04-23T20:03:20.612Z"
   },
   {
    "duration": 22,
    "start_time": "2022-04-23T20:03:42.409Z"
   },
   {
    "duration": 19,
    "start_time": "2022-04-23T20:03:50.418Z"
   },
   {
    "duration": 31,
    "start_time": "2022-04-23T20:04:08.733Z"
   },
   {
    "duration": 26,
    "start_time": "2022-04-23T20:04:26.051Z"
   },
   {
    "duration": 231,
    "start_time": "2022-04-23T20:04:36.737Z"
   },
   {
    "duration": 350,
    "start_time": "2022-04-23T20:05:02.724Z"
   },
   {
    "duration": 28,
    "start_time": "2022-04-23T20:06:09.933Z"
   },
   {
    "duration": 30,
    "start_time": "2022-04-23T20:06:28.921Z"
   },
   {
    "duration": 65,
    "start_time": "2022-04-23T20:08:03.389Z"
   },
   {
    "duration": 69,
    "start_time": "2022-04-23T20:12:25.584Z"
   },
   {
    "duration": 1453,
    "start_time": "2022-04-23T20:12:32.388Z"
   },
   {
    "duration": 53,
    "start_time": "2022-04-23T20:12:33.844Z"
   },
   {
    "duration": 25,
    "start_time": "2022-04-23T20:12:33.900Z"
   },
   {
    "duration": 20,
    "start_time": "2022-04-23T20:12:33.928Z"
   },
   {
    "duration": 5,
    "start_time": "2022-04-23T20:12:33.981Z"
   },
   {
    "duration": 25,
    "start_time": "2022-04-23T20:12:33.989Z"
   },
   {
    "duration": 9,
    "start_time": "2022-04-23T20:12:34.017Z"
   },
   {
    "duration": 15,
    "start_time": "2022-04-23T20:12:34.028Z"
   },
   {
    "duration": 62,
    "start_time": "2022-04-23T20:12:34.046Z"
   },
   {
    "duration": 20,
    "start_time": "2022-04-23T20:12:34.111Z"
   },
   {
    "duration": 17,
    "start_time": "2022-04-23T20:12:34.133Z"
   },
   {
    "duration": 32,
    "start_time": "2022-04-23T20:12:34.152Z"
   },
   {
    "duration": 9,
    "start_time": "2022-04-23T20:12:34.187Z"
   },
   {
    "duration": 9,
    "start_time": "2022-04-23T20:12:34.200Z"
   },
   {
    "duration": 9,
    "start_time": "2022-04-23T20:12:34.211Z"
   },
   {
    "duration": 60,
    "start_time": "2022-04-23T20:12:34.223Z"
   },
   {
    "duration": 9,
    "start_time": "2022-04-23T20:12:34.286Z"
   },
   {
    "duration": 22,
    "start_time": "2022-04-23T20:12:34.297Z"
   },
   {
    "duration": 9,
    "start_time": "2022-04-23T20:12:34.321Z"
   },
   {
    "duration": 6,
    "start_time": "2022-04-23T20:12:34.332Z"
   },
   {
    "duration": 42,
    "start_time": "2022-04-23T20:12:34.340Z"
   },
   {
    "duration": 22,
    "start_time": "2022-04-23T20:12:34.384Z"
   },
   {
    "duration": 20,
    "start_time": "2022-04-23T20:12:34.408Z"
   },
   {
    "duration": 133,
    "start_time": "2022-04-23T20:12:34.431Z"
   },
   {
    "duration": 3,
    "start_time": "2022-04-23T20:12:34.566Z"
   },
   {
    "duration": 15,
    "start_time": "2022-04-23T20:12:34.582Z"
   },
   {
    "duration": 446,
    "start_time": "2022-04-23T20:12:34.599Z"
   },
   {
    "duration": 35,
    "start_time": "2022-04-23T20:12:35.047Z"
   },
   {
    "duration": 27,
    "start_time": "2022-04-23T20:12:35.084Z"
   },
   {
    "duration": 269,
    "start_time": "2022-04-23T20:12:35.113Z"
   },
   {
    "duration": 180,
    "start_time": "2022-04-23T20:12:35.384Z"
   },
   {
    "duration": 32,
    "start_time": "2022-04-23T20:12:35.566Z"
   },
   {
    "duration": 474,
    "start_time": "2022-04-23T20:12:35.601Z"
   },
   {
    "duration": 1741,
    "start_time": "2022-04-23T20:12:36.078Z"
   },
   {
    "duration": 31,
    "start_time": "2022-04-23T20:12:37.822Z"
   },
   {
    "duration": 48,
    "start_time": "2022-04-23T20:12:37.855Z"
   },
   {
    "duration": 32,
    "start_time": "2022-04-23T20:12:37.905Z"
   },
   {
    "duration": 555,
    "start_time": "2022-04-23T20:12:37.940Z"
   },
   {
    "duration": 29,
    "start_time": "2022-04-23T20:12:38.498Z"
   },
   {
    "duration": 464,
    "start_time": "2022-04-23T20:12:38.530Z"
   },
   {
    "duration": 203,
    "start_time": "2022-04-23T20:12:39.003Z"
   },
   {
    "duration": 28,
    "start_time": "2022-04-23T20:12:39.209Z"
   },
   {
    "duration": 7,
    "start_time": "2022-04-23T20:12:39.240Z"
   },
   {
    "duration": 254,
    "start_time": "2022-04-23T20:12:39.250Z"
   },
   {
    "duration": 8,
    "start_time": "2022-04-23T20:12:39.506Z"
   },
   {
    "duration": 21,
    "start_time": "2022-04-23T20:12:39.517Z"
   },
   {
    "duration": 257,
    "start_time": "2022-04-23T20:12:39.541Z"
   },
   {
    "duration": 8,
    "start_time": "2022-04-23T20:12:39.801Z"
   },
   {
    "duration": 20,
    "start_time": "2022-04-23T20:12:39.812Z"
   },
   {
    "duration": 47,
    "start_time": "2022-04-23T20:12:39.835Z"
   },
   {
    "duration": 27,
    "start_time": "2022-04-23T20:12:39.885Z"
   },
   {
    "duration": 9,
    "start_time": "2022-04-23T20:12:39.915Z"
   },
   {
    "duration": 80,
    "start_time": "2022-04-23T20:12:39.927Z"
   },
   {
    "duration": 28,
    "start_time": "2022-04-23T20:12:40.010Z"
   },
   {
    "duration": 41,
    "start_time": "2022-04-23T20:12:40.041Z"
   },
   {
    "duration": 9,
    "start_time": "2022-04-23T20:12:40.085Z"
   },
   {
    "duration": 25,
    "start_time": "2022-04-23T20:12:40.097Z"
   },
   {
    "duration": 59,
    "start_time": "2022-04-23T20:12:40.125Z"
   },
   {
    "duration": 42,
    "start_time": "2022-04-23T20:12:40.186Z"
   },
   {
    "duration": 10,
    "start_time": "2022-04-23T20:12:40.230Z"
   },
   {
    "duration": 7,
    "start_time": "2022-04-23T20:12:40.243Z"
   },
   {
    "duration": 34,
    "start_time": "2022-04-23T20:12:40.253Z"
   },
   {
    "duration": 8,
    "start_time": "2022-04-23T20:12:40.290Z"
   },
   {
    "duration": 38,
    "start_time": "2022-04-23T20:12:40.301Z"
   },
   {
    "duration": 5,
    "start_time": "2022-04-23T20:12:40.341Z"
   },
   {
    "duration": 5,
    "start_time": "2022-04-23T20:12:40.381Z"
   },
   {
    "duration": 9,
    "start_time": "2022-04-23T20:12:40.389Z"
   },
   {
    "duration": 23,
    "start_time": "2022-04-23T20:12:40.400Z"
   },
   {
    "duration": 20,
    "start_time": "2022-04-23T20:12:40.425Z"
   },
   {
    "duration": 51,
    "start_time": "2022-04-23T20:12:40.448Z"
   },
   {
    "duration": 36,
    "start_time": "2022-04-23T20:12:40.502Z"
   },
   {
    "duration": 46,
    "start_time": "2022-04-23T20:12:40.541Z"
   },
   {
    "duration": 18,
    "start_time": "2022-04-23T20:12:40.589Z"
   },
   {
    "duration": 16,
    "start_time": "2022-04-23T20:12:40.609Z"
   },
   {
    "duration": 23,
    "start_time": "2022-04-23T20:12:40.627Z"
   },
   {
    "duration": 41,
    "start_time": "2022-04-23T20:12:40.652Z"
   },
   {
    "duration": 11,
    "start_time": "2022-04-23T20:12:40.695Z"
   },
   {
    "duration": 14,
    "start_time": "2022-04-23T20:12:40.708Z"
   },
   {
    "duration": 12,
    "start_time": "2022-04-23T20:12:40.724Z"
   },
   {
    "duration": 5,
    "start_time": "2022-04-23T20:12:40.739Z"
   },
   {
    "duration": 42,
    "start_time": "2022-04-23T20:12:40.746Z"
   },
   {
    "duration": 8,
    "start_time": "2022-04-23T20:12:40.791Z"
   },
   {
    "duration": 10,
    "start_time": "2022-04-23T20:12:40.802Z"
   },
   {
    "duration": 14,
    "start_time": "2022-04-23T20:12:40.814Z"
   },
   {
    "duration": 10,
    "start_time": "2022-04-23T20:12:40.830Z"
   },
   {
    "duration": 42,
    "start_time": "2022-04-23T20:12:40.843Z"
   },
   {
    "duration": 21,
    "start_time": "2022-04-23T20:12:40.887Z"
   },
   {
    "duration": 231,
    "start_time": "2022-04-23T20:13:39.764Z"
   },
   {
    "duration": 29,
    "start_time": "2022-04-23T20:15:30.493Z"
   },
   {
    "duration": 31,
    "start_time": "2022-04-23T20:16:51.613Z"
   },
   {
    "duration": 697,
    "start_time": "2022-04-23T20:19:20.674Z"
   },
   {
    "duration": 9,
    "start_time": "2022-04-23T20:19:38.251Z"
   },
   {
    "duration": 7,
    "start_time": "2022-04-23T20:19:55.068Z"
   },
   {
    "duration": 7,
    "start_time": "2022-04-23T20:20:05.315Z"
   },
   {
    "duration": 87,
    "start_time": "2022-04-23T20:20:18.010Z"
   },
   {
    "duration": 39,
    "start_time": "2022-04-23T20:20:35.609Z"
   },
   {
    "duration": 26,
    "start_time": "2022-04-23T20:20:43.230Z"
   },
   {
    "duration": 86,
    "start_time": "2022-04-23T20:20:44.086Z"
   },
   {
    "duration": 40,
    "start_time": "2022-04-23T20:20:45.209Z"
   },
   {
    "duration": 6,
    "start_time": "2022-04-23T20:21:29.519Z"
   },
   {
    "duration": 27,
    "start_time": "2022-04-23T20:21:42.083Z"
   },
   {
    "duration": 23,
    "start_time": "2022-04-23T20:21:45.037Z"
   },
   {
    "duration": 5,
    "start_time": "2022-04-23T20:21:49.509Z"
   },
   {
    "duration": 6,
    "start_time": "2022-04-23T20:21:55.750Z"
   },
   {
    "duration": 24,
    "start_time": "2022-04-23T20:22:00.518Z"
   },
   {
    "duration": 39,
    "start_time": "2022-04-23T20:22:22.352Z"
   },
   {
    "duration": 18,
    "start_time": "2022-04-23T20:24:08.231Z"
   },
   {
    "duration": 240,
    "start_time": "2022-04-23T20:24:15.917Z"
   },
   {
    "duration": 164,
    "start_time": "2022-04-23T20:24:27.229Z"
   },
   {
    "duration": 11,
    "start_time": "2022-04-23T20:25:45.308Z"
   },
   {
    "duration": 449,
    "start_time": "2022-04-23T20:26:01.756Z"
   },
   {
    "duration": 533,
    "start_time": "2022-04-23T20:26:19.079Z"
   },
   {
    "duration": 96,
    "start_time": "2022-04-23T20:26:56.681Z"
   },
   {
    "duration": 7,
    "start_time": "2022-04-23T20:27:09.148Z"
   },
   {
    "duration": 505,
    "start_time": "2022-04-23T20:27:56.893Z"
   },
   {
    "duration": 1126,
    "start_time": "2022-04-23T20:28:11.490Z"
   },
   {
    "duration": 662,
    "start_time": "2022-04-23T20:29:37.911Z"
   },
   {
    "duration": 460,
    "start_time": "2022-04-23T20:30:08.678Z"
   },
   {
    "duration": 463,
    "start_time": "2022-04-23T20:30:30.638Z"
   },
   {
    "duration": 67,
    "start_time": "2022-04-23T20:31:15.319Z"
   },
   {
    "duration": 49,
    "start_time": "2022-04-23T20:32:10.959Z"
   },
   {
    "duration": 100,
    "start_time": "2022-04-23T20:32:47.962Z"
   },
   {
    "duration": 28,
    "start_time": "2022-04-23T20:32:58.904Z"
   },
   {
    "duration": 129,
    "start_time": "2022-04-23T20:32:59.550Z"
   },
   {
    "duration": 100,
    "start_time": "2022-04-23T20:33:15.823Z"
   },
   {
    "duration": 21,
    "start_time": "2022-04-23T20:33:48.874Z"
   },
   {
    "duration": 7,
    "start_time": "2022-04-23T20:34:04.051Z"
   },
   {
    "duration": 42,
    "start_time": "2022-04-23T20:34:11.674Z"
   },
   {
    "duration": 98,
    "start_time": "2022-04-23T20:34:12.442Z"
   },
   {
    "duration": 6,
    "start_time": "2022-04-23T20:34:13.201Z"
   },
   {
    "duration": 19,
    "start_time": "2022-04-23T20:34:14.092Z"
   },
   {
    "duration": 477,
    "start_time": "2022-04-23T20:34:38.772Z"
   },
   {
    "duration": 568,
    "start_time": "2022-04-23T20:34:48.172Z"
   },
   {
    "duration": 301,
    "start_time": "2022-04-23T20:38:25.612Z"
   },
   {
    "duration": 174,
    "start_time": "2022-04-23T20:39:12.422Z"
   },
   {
    "duration": 23,
    "start_time": "2022-04-23T20:39:28.210Z"
   },
   {
    "duration": 376,
    "start_time": "2022-04-23T20:39:38.021Z"
   },
   {
    "duration": 483,
    "start_time": "2022-04-23T20:40:06.522Z"
   },
   {
    "duration": 450,
    "start_time": "2022-04-23T20:41:11.393Z"
   },
   {
    "duration": 264,
    "start_time": "2022-04-23T20:44:32.871Z"
   },
   {
    "duration": 461,
    "start_time": "2022-04-23T20:44:46.872Z"
   },
   {
    "duration": 371,
    "start_time": "2022-04-23T20:44:50.733Z"
   },
   {
    "duration": 423,
    "start_time": "2022-04-23T20:45:02.943Z"
   },
   {
    "duration": 272,
    "start_time": "2022-04-23T20:45:12.651Z"
   },
   {
    "duration": 266,
    "start_time": "2022-04-23T20:46:48.061Z"
   },
   {
    "duration": 473,
    "start_time": "2022-04-23T20:49:42.983Z"
   },
   {
    "duration": 458,
    "start_time": "2022-04-23T20:53:16.712Z"
   },
   {
    "duration": 490,
    "start_time": "2022-04-23T20:53:27.682Z"
   },
   {
    "duration": 472,
    "start_time": "2022-04-23T20:53:37.258Z"
   },
   {
    "duration": 1405,
    "start_time": "2022-04-23T20:56:37.326Z"
   },
   {
    "duration": 54,
    "start_time": "2022-04-23T20:56:38.734Z"
   },
   {
    "duration": 26,
    "start_time": "2022-04-23T20:56:38.790Z"
   },
   {
    "duration": 20,
    "start_time": "2022-04-23T20:56:38.818Z"
   },
   {
    "duration": 4,
    "start_time": "2022-04-23T20:56:38.841Z"
   },
   {
    "duration": 55,
    "start_time": "2022-04-23T20:56:38.847Z"
   },
   {
    "duration": 6,
    "start_time": "2022-04-23T20:56:38.904Z"
   },
   {
    "duration": 18,
    "start_time": "2022-04-23T20:56:38.912Z"
   },
   {
    "duration": 66,
    "start_time": "2022-04-23T20:56:38.932Z"
   },
   {
    "duration": 22,
    "start_time": "2022-04-23T20:56:39.000Z"
   },
   {
    "duration": 15,
    "start_time": "2022-04-23T20:56:39.025Z"
   },
   {
    "duration": 39,
    "start_time": "2022-04-23T20:56:39.043Z"
   },
   {
    "duration": 7,
    "start_time": "2022-04-23T20:56:39.085Z"
   },
   {
    "duration": 9,
    "start_time": "2022-04-23T20:56:39.097Z"
   },
   {
    "duration": 7,
    "start_time": "2022-04-23T20:56:39.108Z"
   },
   {
    "duration": 27,
    "start_time": "2022-04-23T20:56:39.117Z"
   },
   {
    "duration": 44,
    "start_time": "2022-04-23T20:56:39.146Z"
   },
   {
    "duration": 22,
    "start_time": "2022-04-23T20:56:39.193Z"
   },
   {
    "duration": 8,
    "start_time": "2022-04-23T20:56:39.217Z"
   },
   {
    "duration": 7,
    "start_time": "2022-04-23T20:56:39.227Z"
   },
   {
    "duration": 7,
    "start_time": "2022-04-23T20:56:39.236Z"
   },
   {
    "duration": 58,
    "start_time": "2022-04-23T20:56:39.245Z"
   },
   {
    "duration": 33,
    "start_time": "2022-04-23T20:56:39.307Z"
   },
   {
    "duration": 194,
    "start_time": "2022-04-23T20:56:39.343Z"
   },
   {
    "duration": 4,
    "start_time": "2022-04-23T20:56:39.540Z"
   },
   {
    "duration": 45,
    "start_time": "2022-04-23T20:56:39.546Z"
   },
   {
    "duration": 444,
    "start_time": "2022-04-23T20:56:39.594Z"
   },
   {
    "duration": 40,
    "start_time": "2022-04-23T20:56:40.041Z"
   },
   {
    "duration": 28,
    "start_time": "2022-04-23T20:56:40.084Z"
   },
   {
    "duration": 287,
    "start_time": "2022-04-23T20:56:40.114Z"
   },
   {
    "duration": 179,
    "start_time": "2022-04-23T20:56:40.403Z"
   },
   {
    "duration": 27,
    "start_time": "2022-04-23T20:56:40.585Z"
   },
   {
    "duration": 707,
    "start_time": "2022-04-23T20:56:40.616Z"
   },
   {
    "duration": 1097,
    "start_time": "2022-04-23T20:56:41.326Z"
   },
   {
    "duration": 28,
    "start_time": "2022-04-23T20:56:42.425Z"
   },
   {
    "duration": 46,
    "start_time": "2022-04-23T20:56:42.455Z"
   },
   {
    "duration": 30,
    "start_time": "2022-04-23T20:56:42.503Z"
   },
   {
    "duration": 1042,
    "start_time": "2022-04-23T20:56:42.535Z"
   },
   {
    "duration": 476,
    "start_time": "2022-04-23T20:56:43.582Z"
   },
   {
    "duration": 646,
    "start_time": "2022-04-23T20:56:44.061Z"
   },
   {
    "duration": 455,
    "start_time": "2022-04-23T20:56:44.716Z"
   },
   {
    "duration": 23,
    "start_time": "2022-04-23T20:56:45.174Z"
   },
   {
    "duration": 9,
    "start_time": "2022-04-23T20:56:45.200Z"
   },
   {
    "duration": 252,
    "start_time": "2022-04-23T20:56:45.211Z"
   },
   {
    "duration": 18,
    "start_time": "2022-04-23T20:56:45.465Z"
   },
   {
    "duration": 22,
    "start_time": "2022-04-23T20:56:45.486Z"
   },
   {
    "duration": 242,
    "start_time": "2022-04-23T20:56:45.510Z"
   },
   {
    "duration": 8,
    "start_time": "2022-04-23T20:56:45.755Z"
   },
   {
    "duration": 29,
    "start_time": "2022-04-23T20:56:45.765Z"
   },
   {
    "duration": 7,
    "start_time": "2022-04-23T20:56:45.796Z"
   },
   {
    "duration": 18,
    "start_time": "2022-04-23T20:56:45.805Z"
   },
   {
    "duration": 11,
    "start_time": "2022-04-23T20:56:45.825Z"
   },
   {
    "duration": 70,
    "start_time": "2022-04-23T20:56:45.839Z"
   },
   {
    "duration": 19,
    "start_time": "2022-04-23T20:56:45.912Z"
   },
   {
    "duration": 20,
    "start_time": "2022-04-23T20:56:45.933Z"
   },
   {
    "duration": 29,
    "start_time": "2022-04-23T20:56:45.955Z"
   },
   {
    "duration": 17,
    "start_time": "2022-04-23T20:56:45.986Z"
   },
   {
    "duration": 27,
    "start_time": "2022-04-23T20:56:46.005Z"
   },
   {
    "duration": 56,
    "start_time": "2022-04-23T20:56:46.034Z"
   },
   {
    "duration": 12,
    "start_time": "2022-04-23T20:56:46.092Z"
   },
   {
    "duration": 8,
    "start_time": "2022-04-23T20:56:46.106Z"
   },
   {
    "duration": 8,
    "start_time": "2022-04-23T20:56:46.116Z"
   },
   {
    "duration": 6,
    "start_time": "2022-04-23T20:56:46.127Z"
   },
   {
    "duration": 65,
    "start_time": "2022-04-23T20:56:46.135Z"
   },
   {
    "duration": 4,
    "start_time": "2022-04-23T20:56:46.203Z"
   },
   {
    "duration": 6,
    "start_time": "2022-04-23T20:56:46.209Z"
   },
   {
    "duration": 9,
    "start_time": "2022-04-23T20:56:46.217Z"
   },
   {
    "duration": 28,
    "start_time": "2022-04-23T20:56:46.229Z"
   },
   {
    "duration": 30,
    "start_time": "2022-04-23T20:56:46.259Z"
   },
   {
    "duration": 19,
    "start_time": "2022-04-23T20:56:46.291Z"
   },
   {
    "duration": 31,
    "start_time": "2022-04-23T20:56:46.312Z"
   },
   {
    "duration": 37,
    "start_time": "2022-04-23T20:56:46.346Z"
   },
   {
    "duration": 17,
    "start_time": "2022-04-23T20:56:46.386Z"
   },
   {
    "duration": 19,
    "start_time": "2022-04-23T20:56:46.405Z"
   },
   {
    "duration": 25,
    "start_time": "2022-04-23T20:56:46.426Z"
   },
   {
    "duration": 16,
    "start_time": "2022-04-23T20:56:46.482Z"
   },
   {
    "duration": 12,
    "start_time": "2022-04-23T20:56:46.501Z"
   },
   {
    "duration": 12,
    "start_time": "2022-04-23T20:56:46.516Z"
   },
   {
    "duration": 13,
    "start_time": "2022-04-23T20:56:46.530Z"
   },
   {
    "duration": 5,
    "start_time": "2022-04-23T20:56:46.581Z"
   },
   {
    "duration": 9,
    "start_time": "2022-04-23T20:56:46.588Z"
   },
   {
    "duration": 8,
    "start_time": "2022-04-23T20:56:46.599Z"
   },
   {
    "duration": 16,
    "start_time": "2022-04-23T20:56:46.609Z"
   },
   {
    "duration": 12,
    "start_time": "2022-04-23T20:56:46.628Z"
   },
   {
    "duration": 42,
    "start_time": "2022-04-23T20:56:46.642Z"
   },
   {
    "duration": 6,
    "start_time": "2022-04-23T20:56:46.686Z"
   },
   {
    "duration": 10,
    "start_time": "2022-04-23T20:56:46.694Z"
   },
   {
    "duration": 1670,
    "start_time": "2022-04-24T20:10:57.277Z"
   },
   {
    "duration": 69,
    "start_time": "2022-04-24T20:10:58.951Z"
   },
   {
    "duration": 36,
    "start_time": "2022-04-24T20:10:59.023Z"
   },
   {
    "duration": 37,
    "start_time": "2022-04-24T20:10:59.062Z"
   },
   {
    "duration": 5,
    "start_time": "2022-04-24T20:10:59.103Z"
   },
   {
    "duration": 33,
    "start_time": "2022-04-24T20:10:59.111Z"
   },
   {
    "duration": 7,
    "start_time": "2022-04-24T20:10:59.146Z"
   },
   {
    "duration": 13,
    "start_time": "2022-04-24T20:10:59.183Z"
   },
   {
    "duration": 30,
    "start_time": "2022-04-24T20:10:59.199Z"
   },
   {
    "duration": 52,
    "start_time": "2022-04-24T20:10:59.231Z"
   },
   {
    "duration": 27,
    "start_time": "2022-04-24T20:10:59.286Z"
   },
   {
    "duration": 14,
    "start_time": "2022-04-24T20:10:59.316Z"
   },
   {
    "duration": 11,
    "start_time": "2022-04-24T20:10:59.332Z"
   },
   {
    "duration": 10,
    "start_time": "2022-04-24T20:10:59.349Z"
   },
   {
    "duration": 10,
    "start_time": "2022-04-24T20:10:59.382Z"
   },
   {
    "duration": 36,
    "start_time": "2022-04-24T20:10:59.395Z"
   },
   {
    "duration": 10,
    "start_time": "2022-04-24T20:10:59.433Z"
   },
   {
    "duration": 49,
    "start_time": "2022-04-24T20:10:59.445Z"
   },
   {
    "duration": 8,
    "start_time": "2022-04-24T20:10:59.497Z"
   },
   {
    "duration": 13,
    "start_time": "2022-04-24T20:10:59.507Z"
   },
   {
    "duration": 8,
    "start_time": "2022-04-24T20:10:59.523Z"
   },
   {
    "duration": 48,
    "start_time": "2022-04-24T20:10:59.533Z"
   },
   {
    "duration": 30,
    "start_time": "2022-04-24T20:10:59.584Z"
   },
   {
    "duration": 137,
    "start_time": "2022-04-24T20:10:59.617Z"
   },
   {
    "duration": 4,
    "start_time": "2022-04-24T20:10:59.756Z"
   },
   {
    "duration": 37,
    "start_time": "2022-04-24T20:10:59.762Z"
   },
   {
    "duration": 505,
    "start_time": "2022-04-24T20:10:59.801Z"
   },
   {
    "duration": 25,
    "start_time": "2022-04-24T20:11:00.309Z"
   },
   {
    "duration": 58,
    "start_time": "2022-04-24T20:11:00.336Z"
   },
   {
    "duration": 304,
    "start_time": "2022-04-24T20:11:00.396Z"
   },
   {
    "duration": 238,
    "start_time": "2022-04-24T20:11:00.703Z"
   },
   {
    "duration": 18,
    "start_time": "2022-04-24T20:11:00.944Z"
   },
   {
    "duration": 564,
    "start_time": "2022-04-24T20:11:00.982Z"
   },
   {
    "duration": 1333,
    "start_time": "2022-04-24T20:11:01.548Z"
   },
   {
    "duration": 37,
    "start_time": "2022-04-24T20:11:02.884Z"
   },
   {
    "duration": 61,
    "start_time": "2022-04-24T20:11:02.923Z"
   },
   {
    "duration": 44,
    "start_time": "2022-04-24T20:11:02.987Z"
   },
   {
    "duration": 635,
    "start_time": "2022-04-24T20:11:03.033Z"
   },
   {
    "duration": 530,
    "start_time": "2022-04-24T20:11:03.681Z"
   },
   {
    "duration": 610,
    "start_time": "2022-04-24T20:11:04.214Z"
   },
   {
    "duration": 616,
    "start_time": "2022-04-24T20:11:04.833Z"
   },
   {
    "duration": 30,
    "start_time": "2022-04-24T20:11:05.452Z"
   },
   {
    "duration": 9,
    "start_time": "2022-04-24T20:11:05.484Z"
   },
   {
    "duration": 315,
    "start_time": "2022-04-24T20:11:05.495Z"
   },
   {
    "duration": 8,
    "start_time": "2022-04-24T20:11:05.813Z"
   },
   {
    "duration": 25,
    "start_time": "2022-04-24T20:11:05.823Z"
   },
   {
    "duration": 324,
    "start_time": "2022-04-24T20:11:05.851Z"
   },
   {
    "duration": 8,
    "start_time": "2022-04-24T20:11:06.177Z"
   },
   {
    "duration": 27,
    "start_time": "2022-04-24T20:11:06.188Z"
   },
   {
    "duration": 8,
    "start_time": "2022-04-24T20:11:06.218Z"
   },
   {
    "duration": 21,
    "start_time": "2022-04-24T20:11:06.229Z"
   },
   {
    "duration": 7,
    "start_time": "2022-04-24T20:11:06.283Z"
   },
   {
    "duration": 55,
    "start_time": "2022-04-24T20:11:06.293Z"
   },
   {
    "duration": 44,
    "start_time": "2022-04-24T20:11:06.351Z"
   },
   {
    "duration": 17,
    "start_time": "2022-04-24T20:11:06.397Z"
   },
   {
    "duration": 6,
    "start_time": "2022-04-24T20:11:06.417Z"
   },
   {
    "duration": 28,
    "start_time": "2022-04-24T20:11:06.426Z"
   },
   {
    "duration": 39,
    "start_time": "2022-04-24T20:11:06.481Z"
   },
   {
    "duration": 36,
    "start_time": "2022-04-24T20:11:06.523Z"
   },
   {
    "duration": 26,
    "start_time": "2022-04-24T20:11:06.561Z"
   },
   {
    "duration": 7,
    "start_time": "2022-04-24T20:11:06.589Z"
   },
   {
    "duration": 10,
    "start_time": "2022-04-24T20:11:06.598Z"
   },
   {
    "duration": 9,
    "start_time": "2022-04-24T20:11:06.610Z"
   },
   {
    "duration": 74,
    "start_time": "2022-04-24T20:11:06.622Z"
   },
   {
    "duration": 4,
    "start_time": "2022-04-24T20:11:06.699Z"
   },
   {
    "duration": 6,
    "start_time": "2022-04-24T20:11:06.706Z"
   },
   {
    "duration": 7,
    "start_time": "2022-04-24T20:11:06.714Z"
   },
   {
    "duration": 17,
    "start_time": "2022-04-24T20:11:06.723Z"
   },
   {
    "duration": 15,
    "start_time": "2022-04-24T20:11:06.782Z"
   },
   {
    "duration": 14,
    "start_time": "2022-04-24T20:11:06.799Z"
   },
   {
    "duration": 66,
    "start_time": "2022-04-24T20:11:06.816Z"
   },
   {
    "duration": 21,
    "start_time": "2022-04-24T20:11:06.885Z"
   },
   {
    "duration": 24,
    "start_time": "2022-04-24T20:11:06.908Z"
   },
   {
    "duration": 16,
    "start_time": "2022-04-24T20:11:06.935Z"
   },
   {
    "duration": 25,
    "start_time": "2022-04-24T20:11:06.981Z"
   },
   {
    "duration": 24,
    "start_time": "2022-04-24T20:11:07.008Z"
   },
   {
    "duration": 11,
    "start_time": "2022-04-24T20:11:07.034Z"
   },
   {
    "duration": 45,
    "start_time": "2022-04-24T20:11:07.047Z"
   },
   {
    "duration": 12,
    "start_time": "2022-04-24T20:11:07.094Z"
   },
   {
    "duration": 8,
    "start_time": "2022-04-24T20:11:07.109Z"
   },
   {
    "duration": 9,
    "start_time": "2022-04-24T20:11:07.120Z"
   },
   {
    "duration": 9,
    "start_time": "2022-04-24T20:11:07.131Z"
   },
   {
    "duration": 11,
    "start_time": "2022-04-24T20:11:07.183Z"
   },
   {
    "duration": 25,
    "start_time": "2022-04-24T20:11:07.197Z"
   },
   {
    "duration": 13,
    "start_time": "2022-04-24T20:11:07.225Z"
   },
   {
    "duration": 7,
    "start_time": "2022-04-24T20:11:07.240Z"
   },
   {
    "duration": 33,
    "start_time": "2022-04-24T20:11:07.250Z"
   },
   {
    "duration": 7,
    "start_time": "2022-04-24T20:12:32.603Z"
   }
  ],
  "kernelspec": {
   "display_name": "Python 3 (ipykernel)",
   "language": "python",
   "name": "python3"
  },
  "language_info": {
   "codemirror_mode": {
    "name": "ipython",
    "version": 3
   },
   "file_extension": ".py",
   "mimetype": "text/x-python",
   "name": "python",
   "nbconvert_exporter": "python",
   "pygments_lexer": "ipython3",
   "version": "3.9.10"
  },
  "toc": {
   "base_numbering": 1,
   "nav_menu": {},
   "number_sections": true,
   "sideBar": true,
   "skip_h1_title": true,
   "title_cell": "Table of Contents",
   "title_sidebar": "Contents",
   "toc_cell": false,
   "toc_position": {
    "height": "calc(100% - 180px)",
    "left": "10px",
    "top": "150px",
    "width": "254.659px"
   },
   "toc_section_display": true,
   "toc_window_display": true
  }
 },
 "nbformat": 4,
 "nbformat_minor": 5
}
