{
 "cells": [
  {
   "cell_type": "markdown",
   "metadata": {},
   "source": [
    "# Определение лучшего тарифа для телеком-компании\n",
    "Коммерческий департамент хочет понять, какой тариф приносит больше денег.\n",
    "Предстоит сделать предварительный анализ тарифов на небольшой выборке клиентов.  Нужно проанализировать поведение клиентов и сделать вывод — какой тариф лучше."
   ]
  },
  {
   "cell_type": "markdown",
   "metadata": {},
   "source": [
    "## Изучение данных из файла"
   ]
  },
  {
   "cell_type": "markdown",
   "metadata": {},
   "source": [
    "Изучим основную информацию о данных:"
   ]
  },
  {
   "cell_type": "code",
   "execution_count": 1,
   "metadata": {},
   "outputs": [],
   "source": [
    "import pandas as pd\n",
    "import numpy as np\n",
    "import math\n",
    "from scipy import stats as st"
   ]
  },
  {
   "cell_type": "code",
   "execution_count": 2,
   "metadata": {},
   "outputs": [],
   "source": [
    "calls = pd.read_csv('/datasets/calls.csv')\n",
    "internet = pd.read_csv('/datasets/internet.csv')\n",
    "messages = pd.read_csv('/datasets/messages.csv')\n",
    "tariffs = pd.read_csv('/datasets/tariffs.csv')\n",
    "users =  pd.read_csv('/datasets/users.csv')"
   ]
  },
  {
   "cell_type": "code",
   "execution_count": 3,
   "metadata": {},
   "outputs": [
    {
     "data": {
      "text/html": [
       "<div>\n",
       "<style scoped>\n",
       "    .dataframe tbody tr th:only-of-type {\n",
       "        vertical-align: middle;\n",
       "    }\n",
       "\n",
       "    .dataframe tbody tr th {\n",
       "        vertical-align: top;\n",
       "    }\n",
       "\n",
       "    .dataframe thead th {\n",
       "        text-align: right;\n",
       "    }\n",
       "</style>\n",
       "<table border=\"1\" class=\"dataframe\">\n",
       "  <thead>\n",
       "    <tr style=\"text-align: right;\">\n",
       "      <th></th>\n",
       "      <th>id</th>\n",
       "      <th>call_date</th>\n",
       "      <th>duration</th>\n",
       "      <th>user_id</th>\n",
       "    </tr>\n",
       "  </thead>\n",
       "  <tbody>\n",
       "    <tr>\n",
       "      <th>0</th>\n",
       "      <td>1000_0</td>\n",
       "      <td>2018-07-25</td>\n",
       "      <td>0.00</td>\n",
       "      <td>1000</td>\n",
       "    </tr>\n",
       "    <tr>\n",
       "      <th>1</th>\n",
       "      <td>1000_1</td>\n",
       "      <td>2018-08-17</td>\n",
       "      <td>0.00</td>\n",
       "      <td>1000</td>\n",
       "    </tr>\n",
       "    <tr>\n",
       "      <th>2</th>\n",
       "      <td>1000_2</td>\n",
       "      <td>2018-06-11</td>\n",
       "      <td>2.85</td>\n",
       "      <td>1000</td>\n",
       "    </tr>\n",
       "    <tr>\n",
       "      <th>3</th>\n",
       "      <td>1000_3</td>\n",
       "      <td>2018-09-21</td>\n",
       "      <td>13.80</td>\n",
       "      <td>1000</td>\n",
       "    </tr>\n",
       "    <tr>\n",
       "      <th>4</th>\n",
       "      <td>1000_4</td>\n",
       "      <td>2018-12-15</td>\n",
       "      <td>5.18</td>\n",
       "      <td>1000</td>\n",
       "    </tr>\n",
       "  </tbody>\n",
       "</table>\n",
       "</div>"
      ],
      "text/plain": [
       "       id   call_date  duration  user_id\n",
       "0  1000_0  2018-07-25      0.00     1000\n",
       "1  1000_1  2018-08-17      0.00     1000\n",
       "2  1000_2  2018-06-11      2.85     1000\n",
       "3  1000_3  2018-09-21     13.80     1000\n",
       "4  1000_4  2018-12-15      5.18     1000"
      ]
     },
     "execution_count": 3,
     "metadata": {},
     "output_type": "execute_result"
    }
   ],
   "source": [
    "calls.head()"
   ]
  },
  {
   "cell_type": "code",
   "execution_count": 4,
   "metadata": {},
   "outputs": [
    {
     "data": {
      "text/html": [
       "<div>\n",
       "<style scoped>\n",
       "    .dataframe tbody tr th:only-of-type {\n",
       "        vertical-align: middle;\n",
       "    }\n",
       "\n",
       "    .dataframe tbody tr th {\n",
       "        vertical-align: top;\n",
       "    }\n",
       "\n",
       "    .dataframe thead th {\n",
       "        text-align: right;\n",
       "    }\n",
       "</style>\n",
       "<table border=\"1\" class=\"dataframe\">\n",
       "  <thead>\n",
       "    <tr style=\"text-align: right;\">\n",
       "      <th></th>\n",
       "      <th>duration</th>\n",
       "      <th>user_id</th>\n",
       "    </tr>\n",
       "  </thead>\n",
       "  <tbody>\n",
       "    <tr>\n",
       "      <th>count</th>\n",
       "      <td>202607.000000</td>\n",
       "      <td>202607.000000</td>\n",
       "    </tr>\n",
       "    <tr>\n",
       "      <th>mean</th>\n",
       "      <td>6.755887</td>\n",
       "      <td>1253.940619</td>\n",
       "    </tr>\n",
       "    <tr>\n",
       "      <th>std</th>\n",
       "      <td>5.843365</td>\n",
       "      <td>144.722751</td>\n",
       "    </tr>\n",
       "    <tr>\n",
       "      <th>min</th>\n",
       "      <td>0.000000</td>\n",
       "      <td>1000.000000</td>\n",
       "    </tr>\n",
       "    <tr>\n",
       "      <th>25%</th>\n",
       "      <td>1.300000</td>\n",
       "      <td>1126.000000</td>\n",
       "    </tr>\n",
       "    <tr>\n",
       "      <th>50%</th>\n",
       "      <td>6.000000</td>\n",
       "      <td>1260.000000</td>\n",
       "    </tr>\n",
       "    <tr>\n",
       "      <th>75%</th>\n",
       "      <td>10.700000</td>\n",
       "      <td>1379.000000</td>\n",
       "    </tr>\n",
       "    <tr>\n",
       "      <th>max</th>\n",
       "      <td>38.000000</td>\n",
       "      <td>1499.000000</td>\n",
       "    </tr>\n",
       "  </tbody>\n",
       "</table>\n",
       "</div>"
      ],
      "text/plain": [
       "            duration        user_id\n",
       "count  202607.000000  202607.000000\n",
       "mean        6.755887    1253.940619\n",
       "std         5.843365     144.722751\n",
       "min         0.000000    1000.000000\n",
       "25%         1.300000    1126.000000\n",
       "50%         6.000000    1260.000000\n",
       "75%        10.700000    1379.000000\n",
       "max        38.000000    1499.000000"
      ]
     },
     "execution_count": 4,
     "metadata": {},
     "output_type": "execute_result"
    }
   ],
   "source": [
    "calls.describe()"
   ]
  },
  {
   "cell_type": "code",
   "execution_count": 5,
   "metadata": {},
   "outputs": [
    {
     "name": "stdout",
     "output_type": "stream",
     "text": [
      "<class 'pandas.core.frame.DataFrame'>\n",
      "RangeIndex: 202607 entries, 0 to 202606\n",
      "Data columns (total 4 columns):\n",
      " #   Column     Non-Null Count   Dtype  \n",
      "---  ------     --------------   -----  \n",
      " 0   id         202607 non-null  object \n",
      " 1   call_date  202607 non-null  object \n",
      " 2   duration   202607 non-null  float64\n",
      " 3   user_id    202607 non-null  int64  \n",
      "dtypes: float64(1), int64(1), object(2)\n",
      "memory usage: 6.2+ MB\n"
     ]
    }
   ],
   "source": [
    "calls.info()"
   ]
  },
  {
   "cell_type": "code",
   "execution_count": 6,
   "metadata": {},
   "outputs": [
    {
     "data": {
      "text/html": [
       "<div>\n",
       "<style scoped>\n",
       "    .dataframe tbody tr th:only-of-type {\n",
       "        vertical-align: middle;\n",
       "    }\n",
       "\n",
       "    .dataframe tbody tr th {\n",
       "        vertical-align: top;\n",
       "    }\n",
       "\n",
       "    .dataframe thead th {\n",
       "        text-align: right;\n",
       "    }\n",
       "</style>\n",
       "<table border=\"1\" class=\"dataframe\">\n",
       "  <thead>\n",
       "    <tr style=\"text-align: right;\">\n",
       "      <th></th>\n",
       "      <th>Unnamed: 0</th>\n",
       "      <th>id</th>\n",
       "      <th>mb_used</th>\n",
       "      <th>session_date</th>\n",
       "      <th>user_id</th>\n",
       "    </tr>\n",
       "  </thead>\n",
       "  <tbody>\n",
       "    <tr>\n",
       "      <th>0</th>\n",
       "      <td>0</td>\n",
       "      <td>1000_0</td>\n",
       "      <td>112.95</td>\n",
       "      <td>2018-11-25</td>\n",
       "      <td>1000</td>\n",
       "    </tr>\n",
       "    <tr>\n",
       "      <th>1</th>\n",
       "      <td>1</td>\n",
       "      <td>1000_1</td>\n",
       "      <td>1052.81</td>\n",
       "      <td>2018-09-07</td>\n",
       "      <td>1000</td>\n",
       "    </tr>\n",
       "    <tr>\n",
       "      <th>2</th>\n",
       "      <td>2</td>\n",
       "      <td>1000_2</td>\n",
       "      <td>1197.26</td>\n",
       "      <td>2018-06-25</td>\n",
       "      <td>1000</td>\n",
       "    </tr>\n",
       "    <tr>\n",
       "      <th>3</th>\n",
       "      <td>3</td>\n",
       "      <td>1000_3</td>\n",
       "      <td>550.27</td>\n",
       "      <td>2018-08-22</td>\n",
       "      <td>1000</td>\n",
       "    </tr>\n",
       "    <tr>\n",
       "      <th>4</th>\n",
       "      <td>4</td>\n",
       "      <td>1000_4</td>\n",
       "      <td>302.56</td>\n",
       "      <td>2018-09-24</td>\n",
       "      <td>1000</td>\n",
       "    </tr>\n",
       "  </tbody>\n",
       "</table>\n",
       "</div>"
      ],
      "text/plain": [
       "   Unnamed: 0      id  mb_used session_date  user_id\n",
       "0           0  1000_0   112.95   2018-11-25     1000\n",
       "1           1  1000_1  1052.81   2018-09-07     1000\n",
       "2           2  1000_2  1197.26   2018-06-25     1000\n",
       "3           3  1000_3   550.27   2018-08-22     1000\n",
       "4           4  1000_4   302.56   2018-09-24     1000"
      ]
     },
     "execution_count": 6,
     "metadata": {},
     "output_type": "execute_result"
    }
   ],
   "source": [
    "internet.head()"
   ]
  },
  {
   "cell_type": "code",
   "execution_count": 7,
   "metadata": {},
   "outputs": [
    {
     "data": {
      "text/html": [
       "<div>\n",
       "<style scoped>\n",
       "    .dataframe tbody tr th:only-of-type {\n",
       "        vertical-align: middle;\n",
       "    }\n",
       "\n",
       "    .dataframe tbody tr th {\n",
       "        vertical-align: top;\n",
       "    }\n",
       "\n",
       "    .dataframe thead th {\n",
       "        text-align: right;\n",
       "    }\n",
       "</style>\n",
       "<table border=\"1\" class=\"dataframe\">\n",
       "  <thead>\n",
       "    <tr style=\"text-align: right;\">\n",
       "      <th></th>\n",
       "      <th>Unnamed: 0</th>\n",
       "      <th>mb_used</th>\n",
       "      <th>user_id</th>\n",
       "    </tr>\n",
       "  </thead>\n",
       "  <tbody>\n",
       "    <tr>\n",
       "      <th>count</th>\n",
       "      <td>149396.000000</td>\n",
       "      <td>149396.000000</td>\n",
       "      <td>149396.000000</td>\n",
       "    </tr>\n",
       "    <tr>\n",
       "      <th>mean</th>\n",
       "      <td>74697.500000</td>\n",
       "      <td>370.192426</td>\n",
       "      <td>1252.099842</td>\n",
       "    </tr>\n",
       "    <tr>\n",
       "      <th>std</th>\n",
       "      <td>43127.054745</td>\n",
       "      <td>278.300951</td>\n",
       "      <td>144.050823</td>\n",
       "    </tr>\n",
       "    <tr>\n",
       "      <th>min</th>\n",
       "      <td>0.000000</td>\n",
       "      <td>0.000000</td>\n",
       "      <td>1000.000000</td>\n",
       "    </tr>\n",
       "    <tr>\n",
       "      <th>25%</th>\n",
       "      <td>37348.750000</td>\n",
       "      <td>138.187500</td>\n",
       "      <td>1130.000000</td>\n",
       "    </tr>\n",
       "    <tr>\n",
       "      <th>50%</th>\n",
       "      <td>74697.500000</td>\n",
       "      <td>348.015000</td>\n",
       "      <td>1251.000000</td>\n",
       "    </tr>\n",
       "    <tr>\n",
       "      <th>75%</th>\n",
       "      <td>112046.250000</td>\n",
       "      <td>559.552500</td>\n",
       "      <td>1380.000000</td>\n",
       "    </tr>\n",
       "    <tr>\n",
       "      <th>max</th>\n",
       "      <td>149395.000000</td>\n",
       "      <td>1724.830000</td>\n",
       "      <td>1499.000000</td>\n",
       "    </tr>\n",
       "  </tbody>\n",
       "</table>\n",
       "</div>"
      ],
      "text/plain": [
       "          Unnamed: 0        mb_used        user_id\n",
       "count  149396.000000  149396.000000  149396.000000\n",
       "mean    74697.500000     370.192426    1252.099842\n",
       "std     43127.054745     278.300951     144.050823\n",
       "min         0.000000       0.000000    1000.000000\n",
       "25%     37348.750000     138.187500    1130.000000\n",
       "50%     74697.500000     348.015000    1251.000000\n",
       "75%    112046.250000     559.552500    1380.000000\n",
       "max    149395.000000    1724.830000    1499.000000"
      ]
     },
     "execution_count": 7,
     "metadata": {},
     "output_type": "execute_result"
    }
   ],
   "source": [
    "internet.describe()"
   ]
  },
  {
   "cell_type": "code",
   "execution_count": 8,
   "metadata": {},
   "outputs": [
    {
     "name": "stdout",
     "output_type": "stream",
     "text": [
      "<class 'pandas.core.frame.DataFrame'>\n",
      "RangeIndex: 149396 entries, 0 to 149395\n",
      "Data columns (total 5 columns):\n",
      " #   Column        Non-Null Count   Dtype  \n",
      "---  ------        --------------   -----  \n",
      " 0   Unnamed: 0    149396 non-null  int64  \n",
      " 1   id            149396 non-null  object \n",
      " 2   mb_used       149396 non-null  float64\n",
      " 3   session_date  149396 non-null  object \n",
      " 4   user_id       149396 non-null  int64  \n",
      "dtypes: float64(1), int64(2), object(2)\n",
      "memory usage: 5.7+ MB\n"
     ]
    }
   ],
   "source": [
    "internet.info()"
   ]
  },
  {
   "cell_type": "code",
   "execution_count": 9,
   "metadata": {},
   "outputs": [
    {
     "data": {
      "text/html": [
       "<div>\n",
       "<style scoped>\n",
       "    .dataframe tbody tr th:only-of-type {\n",
       "        vertical-align: middle;\n",
       "    }\n",
       "\n",
       "    .dataframe tbody tr th {\n",
       "        vertical-align: top;\n",
       "    }\n",
       "\n",
       "    .dataframe thead th {\n",
       "        text-align: right;\n",
       "    }\n",
       "</style>\n",
       "<table border=\"1\" class=\"dataframe\">\n",
       "  <thead>\n",
       "    <tr style=\"text-align: right;\">\n",
       "      <th></th>\n",
       "      <th>id</th>\n",
       "      <th>message_date</th>\n",
       "      <th>user_id</th>\n",
       "    </tr>\n",
       "  </thead>\n",
       "  <tbody>\n",
       "    <tr>\n",
       "      <th>0</th>\n",
       "      <td>1000_0</td>\n",
       "      <td>2018-06-27</td>\n",
       "      <td>1000</td>\n",
       "    </tr>\n",
       "    <tr>\n",
       "      <th>1</th>\n",
       "      <td>1000_1</td>\n",
       "      <td>2018-10-08</td>\n",
       "      <td>1000</td>\n",
       "    </tr>\n",
       "    <tr>\n",
       "      <th>2</th>\n",
       "      <td>1000_2</td>\n",
       "      <td>2018-08-04</td>\n",
       "      <td>1000</td>\n",
       "    </tr>\n",
       "    <tr>\n",
       "      <th>3</th>\n",
       "      <td>1000_3</td>\n",
       "      <td>2018-06-16</td>\n",
       "      <td>1000</td>\n",
       "    </tr>\n",
       "    <tr>\n",
       "      <th>4</th>\n",
       "      <td>1000_4</td>\n",
       "      <td>2018-12-05</td>\n",
       "      <td>1000</td>\n",
       "    </tr>\n",
       "  </tbody>\n",
       "</table>\n",
       "</div>"
      ],
      "text/plain": [
       "       id message_date  user_id\n",
       "0  1000_0   2018-06-27     1000\n",
       "1  1000_1   2018-10-08     1000\n",
       "2  1000_2   2018-08-04     1000\n",
       "3  1000_3   2018-06-16     1000\n",
       "4  1000_4   2018-12-05     1000"
      ]
     },
     "execution_count": 9,
     "metadata": {},
     "output_type": "execute_result"
    }
   ],
   "source": [
    "messages.head()"
   ]
  },
  {
   "cell_type": "code",
   "execution_count": 10,
   "metadata": {},
   "outputs": [
    {
     "data": {
      "text/html": [
       "<div>\n",
       "<style scoped>\n",
       "    .dataframe tbody tr th:only-of-type {\n",
       "        vertical-align: middle;\n",
       "    }\n",
       "\n",
       "    .dataframe tbody tr th {\n",
       "        vertical-align: top;\n",
       "    }\n",
       "\n",
       "    .dataframe thead th {\n",
       "        text-align: right;\n",
       "    }\n",
       "</style>\n",
       "<table border=\"1\" class=\"dataframe\">\n",
       "  <thead>\n",
       "    <tr style=\"text-align: right;\">\n",
       "      <th></th>\n",
       "      <th>user_id</th>\n",
       "    </tr>\n",
       "  </thead>\n",
       "  <tbody>\n",
       "    <tr>\n",
       "      <th>count</th>\n",
       "      <td>123036.000000</td>\n",
       "    </tr>\n",
       "    <tr>\n",
       "      <th>mean</th>\n",
       "      <td>1256.989410</td>\n",
       "    </tr>\n",
       "    <tr>\n",
       "      <th>std</th>\n",
       "      <td>143.523967</td>\n",
       "    </tr>\n",
       "    <tr>\n",
       "      <th>min</th>\n",
       "      <td>1000.000000</td>\n",
       "    </tr>\n",
       "    <tr>\n",
       "      <th>25%</th>\n",
       "      <td>1134.000000</td>\n",
       "    </tr>\n",
       "    <tr>\n",
       "      <th>50%</th>\n",
       "      <td>1271.000000</td>\n",
       "    </tr>\n",
       "    <tr>\n",
       "      <th>75%</th>\n",
       "      <td>1381.000000</td>\n",
       "    </tr>\n",
       "    <tr>\n",
       "      <th>max</th>\n",
       "      <td>1499.000000</td>\n",
       "    </tr>\n",
       "  </tbody>\n",
       "</table>\n",
       "</div>"
      ],
      "text/plain": [
       "             user_id\n",
       "count  123036.000000\n",
       "mean     1256.989410\n",
       "std       143.523967\n",
       "min      1000.000000\n",
       "25%      1134.000000\n",
       "50%      1271.000000\n",
       "75%      1381.000000\n",
       "max      1499.000000"
      ]
     },
     "execution_count": 10,
     "metadata": {},
     "output_type": "execute_result"
    }
   ],
   "source": [
    "messages.describe()"
   ]
  },
  {
   "cell_type": "code",
   "execution_count": 11,
   "metadata": {},
   "outputs": [
    {
     "name": "stdout",
     "output_type": "stream",
     "text": [
      "<class 'pandas.core.frame.DataFrame'>\n",
      "RangeIndex: 123036 entries, 0 to 123035\n",
      "Data columns (total 3 columns):\n",
      " #   Column        Non-Null Count   Dtype \n",
      "---  ------        --------------   ----- \n",
      " 0   id            123036 non-null  object\n",
      " 1   message_date  123036 non-null  object\n",
      " 2   user_id       123036 non-null  int64 \n",
      "dtypes: int64(1), object(2)\n",
      "memory usage: 2.8+ MB\n"
     ]
    }
   ],
   "source": [
    "messages.info()"
   ]
  },
  {
   "cell_type": "code",
   "execution_count": 12,
   "metadata": {},
   "outputs": [
    {
     "data": {
      "text/html": [
       "<div>\n",
       "<style scoped>\n",
       "    .dataframe tbody tr th:only-of-type {\n",
       "        vertical-align: middle;\n",
       "    }\n",
       "\n",
       "    .dataframe tbody tr th {\n",
       "        vertical-align: top;\n",
       "    }\n",
       "\n",
       "    .dataframe thead th {\n",
       "        text-align: right;\n",
       "    }\n",
       "</style>\n",
       "<table border=\"1\" class=\"dataframe\">\n",
       "  <thead>\n",
       "    <tr style=\"text-align: right;\">\n",
       "      <th></th>\n",
       "      <th>messages_included</th>\n",
       "      <th>mb_per_month_included</th>\n",
       "      <th>minutes_included</th>\n",
       "      <th>rub_monthly_fee</th>\n",
       "      <th>rub_per_gb</th>\n",
       "      <th>rub_per_message</th>\n",
       "      <th>rub_per_minute</th>\n",
       "      <th>tariff_name</th>\n",
       "    </tr>\n",
       "  </thead>\n",
       "  <tbody>\n",
       "    <tr>\n",
       "      <th>0</th>\n",
       "      <td>50</td>\n",
       "      <td>15360</td>\n",
       "      <td>500</td>\n",
       "      <td>550</td>\n",
       "      <td>200</td>\n",
       "      <td>3</td>\n",
       "      <td>3</td>\n",
       "      <td>smart</td>\n",
       "    </tr>\n",
       "    <tr>\n",
       "      <th>1</th>\n",
       "      <td>1000</td>\n",
       "      <td>30720</td>\n",
       "      <td>3000</td>\n",
       "      <td>1950</td>\n",
       "      <td>150</td>\n",
       "      <td>1</td>\n",
       "      <td>1</td>\n",
       "      <td>ultra</td>\n",
       "    </tr>\n",
       "  </tbody>\n",
       "</table>\n",
       "</div>"
      ],
      "text/plain": [
       "   messages_included  mb_per_month_included  minutes_included  \\\n",
       "0                 50                  15360               500   \n",
       "1               1000                  30720              3000   \n",
       "\n",
       "   rub_monthly_fee  rub_per_gb  rub_per_message  rub_per_minute tariff_name  \n",
       "0              550         200                3               3       smart  \n",
       "1             1950         150                1               1       ultra  "
      ]
     },
     "execution_count": 12,
     "metadata": {},
     "output_type": "execute_result"
    }
   ],
   "source": [
    "tariffs.head()"
   ]
  },
  {
   "cell_type": "code",
   "execution_count": 13,
   "metadata": {},
   "outputs": [
    {
     "name": "stdout",
     "output_type": "stream",
     "text": [
      "<class 'pandas.core.frame.DataFrame'>\n",
      "RangeIndex: 2 entries, 0 to 1\n",
      "Data columns (total 8 columns):\n",
      " #   Column                 Non-Null Count  Dtype \n",
      "---  ------                 --------------  ----- \n",
      " 0   messages_included      2 non-null      int64 \n",
      " 1   mb_per_month_included  2 non-null      int64 \n",
      " 2   minutes_included       2 non-null      int64 \n",
      " 3   rub_monthly_fee        2 non-null      int64 \n",
      " 4   rub_per_gb             2 non-null      int64 \n",
      " 5   rub_per_message        2 non-null      int64 \n",
      " 6   rub_per_minute         2 non-null      int64 \n",
      " 7   tariff_name            2 non-null      object\n",
      "dtypes: int64(7), object(1)\n",
      "memory usage: 256.0+ bytes\n"
     ]
    }
   ],
   "source": [
    "tariffs.info()"
   ]
  },
  {
   "cell_type": "code",
   "execution_count": 14,
   "metadata": {},
   "outputs": [
    {
     "data": {
      "text/html": [
       "<div>\n",
       "<style scoped>\n",
       "    .dataframe tbody tr th:only-of-type {\n",
       "        vertical-align: middle;\n",
       "    }\n",
       "\n",
       "    .dataframe tbody tr th {\n",
       "        vertical-align: top;\n",
       "    }\n",
       "\n",
       "    .dataframe thead th {\n",
       "        text-align: right;\n",
       "    }\n",
       "</style>\n",
       "<table border=\"1\" class=\"dataframe\">\n",
       "  <thead>\n",
       "    <tr style=\"text-align: right;\">\n",
       "      <th></th>\n",
       "      <th>user_id</th>\n",
       "      <th>age</th>\n",
       "      <th>churn_date</th>\n",
       "      <th>city</th>\n",
       "      <th>first_name</th>\n",
       "      <th>last_name</th>\n",
       "      <th>reg_date</th>\n",
       "      <th>tariff</th>\n",
       "    </tr>\n",
       "  </thead>\n",
       "  <tbody>\n",
       "    <tr>\n",
       "      <th>0</th>\n",
       "      <td>1000</td>\n",
       "      <td>52</td>\n",
       "      <td>NaN</td>\n",
       "      <td>Краснодар</td>\n",
       "      <td>Рафаил</td>\n",
       "      <td>Верещагин</td>\n",
       "      <td>2018-05-25</td>\n",
       "      <td>ultra</td>\n",
       "    </tr>\n",
       "    <tr>\n",
       "      <th>1</th>\n",
       "      <td>1001</td>\n",
       "      <td>41</td>\n",
       "      <td>NaN</td>\n",
       "      <td>Москва</td>\n",
       "      <td>Иван</td>\n",
       "      <td>Ежов</td>\n",
       "      <td>2018-11-01</td>\n",
       "      <td>smart</td>\n",
       "    </tr>\n",
       "    <tr>\n",
       "      <th>2</th>\n",
       "      <td>1002</td>\n",
       "      <td>59</td>\n",
       "      <td>NaN</td>\n",
       "      <td>Стерлитамак</td>\n",
       "      <td>Евгений</td>\n",
       "      <td>Абрамович</td>\n",
       "      <td>2018-06-17</td>\n",
       "      <td>smart</td>\n",
       "    </tr>\n",
       "    <tr>\n",
       "      <th>3</th>\n",
       "      <td>1003</td>\n",
       "      <td>23</td>\n",
       "      <td>NaN</td>\n",
       "      <td>Москва</td>\n",
       "      <td>Белла</td>\n",
       "      <td>Белякова</td>\n",
       "      <td>2018-08-17</td>\n",
       "      <td>ultra</td>\n",
       "    </tr>\n",
       "    <tr>\n",
       "      <th>4</th>\n",
       "      <td>1004</td>\n",
       "      <td>68</td>\n",
       "      <td>NaN</td>\n",
       "      <td>Новокузнецк</td>\n",
       "      <td>Татьяна</td>\n",
       "      <td>Авдеенко</td>\n",
       "      <td>2018-05-14</td>\n",
       "      <td>ultra</td>\n",
       "    </tr>\n",
       "  </tbody>\n",
       "</table>\n",
       "</div>"
      ],
      "text/plain": [
       "   user_id  age churn_date         city first_name  last_name    reg_date  \\\n",
       "0     1000   52        NaN    Краснодар     Рафаил  Верещагин  2018-05-25   \n",
       "1     1001   41        NaN       Москва       Иван       Ежов  2018-11-01   \n",
       "2     1002   59        NaN  Стерлитамак    Евгений  Абрамович  2018-06-17   \n",
       "3     1003   23        NaN       Москва      Белла   Белякова  2018-08-17   \n",
       "4     1004   68        NaN  Новокузнецк    Татьяна   Авдеенко  2018-05-14   \n",
       "\n",
       "  tariff  \n",
       "0  ultra  \n",
       "1  smart  \n",
       "2  smart  \n",
       "3  ultra  \n",
       "4  ultra  "
      ]
     },
     "execution_count": 14,
     "metadata": {},
     "output_type": "execute_result"
    }
   ],
   "source": [
    "users.head()"
   ]
  },
  {
   "cell_type": "code",
   "execution_count": 15,
   "metadata": {},
   "outputs": [
    {
     "data": {
      "text/html": [
       "<div>\n",
       "<style scoped>\n",
       "    .dataframe tbody tr th:only-of-type {\n",
       "        vertical-align: middle;\n",
       "    }\n",
       "\n",
       "    .dataframe tbody tr th {\n",
       "        vertical-align: top;\n",
       "    }\n",
       "\n",
       "    .dataframe thead th {\n",
       "        text-align: right;\n",
       "    }\n",
       "</style>\n",
       "<table border=\"1\" class=\"dataframe\">\n",
       "  <thead>\n",
       "    <tr style=\"text-align: right;\">\n",
       "      <th></th>\n",
       "      <th>user_id</th>\n",
       "      <th>age</th>\n",
       "    </tr>\n",
       "  </thead>\n",
       "  <tbody>\n",
       "    <tr>\n",
       "      <th>count</th>\n",
       "      <td>500.000000</td>\n",
       "      <td>500.00000</td>\n",
       "    </tr>\n",
       "    <tr>\n",
       "      <th>mean</th>\n",
       "      <td>1249.500000</td>\n",
       "      <td>46.58800</td>\n",
       "    </tr>\n",
       "    <tr>\n",
       "      <th>std</th>\n",
       "      <td>144.481833</td>\n",
       "      <td>16.66763</td>\n",
       "    </tr>\n",
       "    <tr>\n",
       "      <th>min</th>\n",
       "      <td>1000.000000</td>\n",
       "      <td>18.00000</td>\n",
       "    </tr>\n",
       "    <tr>\n",
       "      <th>25%</th>\n",
       "      <td>1124.750000</td>\n",
       "      <td>32.00000</td>\n",
       "    </tr>\n",
       "    <tr>\n",
       "      <th>50%</th>\n",
       "      <td>1249.500000</td>\n",
       "      <td>46.00000</td>\n",
       "    </tr>\n",
       "    <tr>\n",
       "      <th>75%</th>\n",
       "      <td>1374.250000</td>\n",
       "      <td>62.00000</td>\n",
       "    </tr>\n",
       "    <tr>\n",
       "      <th>max</th>\n",
       "      <td>1499.000000</td>\n",
       "      <td>75.00000</td>\n",
       "    </tr>\n",
       "  </tbody>\n",
       "</table>\n",
       "</div>"
      ],
      "text/plain": [
       "           user_id        age\n",
       "count   500.000000  500.00000\n",
       "mean   1249.500000   46.58800\n",
       "std     144.481833   16.66763\n",
       "min    1000.000000   18.00000\n",
       "25%    1124.750000   32.00000\n",
       "50%    1249.500000   46.00000\n",
       "75%    1374.250000   62.00000\n",
       "max    1499.000000   75.00000"
      ]
     },
     "execution_count": 15,
     "metadata": {},
     "output_type": "execute_result"
    }
   ],
   "source": [
    "users.describe()"
   ]
  },
  {
   "cell_type": "code",
   "execution_count": 16,
   "metadata": {},
   "outputs": [
    {
     "name": "stdout",
     "output_type": "stream",
     "text": [
      "<class 'pandas.core.frame.DataFrame'>\n",
      "RangeIndex: 500 entries, 0 to 499\n",
      "Data columns (total 8 columns):\n",
      " #   Column      Non-Null Count  Dtype \n",
      "---  ------      --------------  ----- \n",
      " 0   user_id     500 non-null    int64 \n",
      " 1   age         500 non-null    int64 \n",
      " 2   churn_date  38 non-null     object\n",
      " 3   city        500 non-null    object\n",
      " 4   first_name  500 non-null    object\n",
      " 5   last_name   500 non-null    object\n",
      " 6   reg_date    500 non-null    object\n",
      " 7   tariff      500 non-null    object\n",
      "dtypes: int64(2), object(6)\n",
      "memory usage: 31.4+ KB\n"
     ]
    }
   ],
   "source": [
    "users.info()"
   ]
  },
  {
   "cell_type": "markdown",
   "metadata": {},
   "source": [
    "Пропуски в столбцах отсутствуют, но существуют не верные типы данных которые нужно исправить, а в таблице 'internet' двойная индексация строк которую нужно исправить."
   ]
  },
  {
   "cell_type": "markdown",
   "metadata": {},
   "source": [
    "## Предобработка данных"
   ]
  },
  {
   "cell_type": "markdown",
   "metadata": {},
   "source": [
    "Исправим типы данных и двойную индексацию строк в таблице 'internet':"
   ]
  },
  {
   "cell_type": "code",
   "execution_count": 17,
   "metadata": {},
   "outputs": [],
   "source": [
    "calls['call_date'] = pd.to_datetime(calls['call_date'], format = '%Y-%m-%d')\n",
    "internet['session_date'] = pd.to_datetime(internet['session_date'], format = '%Y-%m-%d')\n",
    "messages['message_date'] = pd.to_datetime(messages['message_date'], format = '%Y-%m-%d')\n",
    "users['reg_date'] = pd.to_datetime(users['reg_date'], format = '%Y-%m-%d')\n",
    "users['churn_date'] = pd.to_datetime(users['churn_date'], format = '%Y-%m-%d')"
   ]
  },
  {
   "cell_type": "code",
   "execution_count": 18,
   "metadata": {},
   "outputs": [],
   "source": [
    "internet = internet[['id','mb_used','session_date','user_id']]"
   ]
  },
  {
   "cell_type": "code",
   "execution_count": 19,
   "metadata": {},
   "outputs": [
    {
     "data": {
      "text/html": [
       "<div>\n",
       "<style scoped>\n",
       "    .dataframe tbody tr th:only-of-type {\n",
       "        vertical-align: middle;\n",
       "    }\n",
       "\n",
       "    .dataframe tbody tr th {\n",
       "        vertical-align: top;\n",
       "    }\n",
       "\n",
       "    .dataframe thead th {\n",
       "        text-align: right;\n",
       "    }\n",
       "</style>\n",
       "<table border=\"1\" class=\"dataframe\">\n",
       "  <thead>\n",
       "    <tr style=\"text-align: right;\">\n",
       "      <th></th>\n",
       "      <th>id</th>\n",
       "      <th>mb_used</th>\n",
       "      <th>session_date</th>\n",
       "      <th>user_id</th>\n",
       "    </tr>\n",
       "  </thead>\n",
       "  <tbody>\n",
       "    <tr>\n",
       "      <th>0</th>\n",
       "      <td>1000_0</td>\n",
       "      <td>112.95</td>\n",
       "      <td>2018-11-25</td>\n",
       "      <td>1000</td>\n",
       "    </tr>\n",
       "    <tr>\n",
       "      <th>1</th>\n",
       "      <td>1000_1</td>\n",
       "      <td>1052.81</td>\n",
       "      <td>2018-09-07</td>\n",
       "      <td>1000</td>\n",
       "    </tr>\n",
       "    <tr>\n",
       "      <th>2</th>\n",
       "      <td>1000_2</td>\n",
       "      <td>1197.26</td>\n",
       "      <td>2018-06-25</td>\n",
       "      <td>1000</td>\n",
       "    </tr>\n",
       "    <tr>\n",
       "      <th>3</th>\n",
       "      <td>1000_3</td>\n",
       "      <td>550.27</td>\n",
       "      <td>2018-08-22</td>\n",
       "      <td>1000</td>\n",
       "    </tr>\n",
       "    <tr>\n",
       "      <th>4</th>\n",
       "      <td>1000_4</td>\n",
       "      <td>302.56</td>\n",
       "      <td>2018-09-24</td>\n",
       "      <td>1000</td>\n",
       "    </tr>\n",
       "  </tbody>\n",
       "</table>\n",
       "</div>"
      ],
      "text/plain": [
       "       id  mb_used session_date  user_id\n",
       "0  1000_0   112.95   2018-11-25     1000\n",
       "1  1000_1  1052.81   2018-09-07     1000\n",
       "2  1000_2  1197.26   2018-06-25     1000\n",
       "3  1000_3   550.27   2018-08-22     1000\n",
       "4  1000_4   302.56   2018-09-24     1000"
      ]
     },
     "execution_count": 19,
     "metadata": {},
     "output_type": "execute_result"
    }
   ],
   "source": [
    "internet.head()"
   ]
  },
  {
   "cell_type": "markdown",
   "metadata": {},
   "source": [
    "Округлим каждый звонок отдельно: даже если звонок длился всего 1 секунду, он будет засчитан как 1 минута:"
   ]
  },
  {
   "cell_type": "code",
   "execution_count": 20,
   "metadata": {},
   "outputs": [],
   "source": [
    "calls['duration'] = calls['duration'].apply(lambda x: math.ceil(x))"
   ]
  },
  {
   "cell_type": "code",
   "execution_count": 21,
   "metadata": {},
   "outputs": [
    {
     "data": {
      "text/html": [
       "<div>\n",
       "<style scoped>\n",
       "    .dataframe tbody tr th:only-of-type {\n",
       "        vertical-align: middle;\n",
       "    }\n",
       "\n",
       "    .dataframe tbody tr th {\n",
       "        vertical-align: top;\n",
       "    }\n",
       "\n",
       "    .dataframe thead th {\n",
       "        text-align: right;\n",
       "    }\n",
       "</style>\n",
       "<table border=\"1\" class=\"dataframe\">\n",
       "  <thead>\n",
       "    <tr style=\"text-align: right;\">\n",
       "      <th></th>\n",
       "      <th>id</th>\n",
       "      <th>call_date</th>\n",
       "      <th>duration</th>\n",
       "      <th>user_id</th>\n",
       "    </tr>\n",
       "  </thead>\n",
       "  <tbody>\n",
       "    <tr>\n",
       "      <th>0</th>\n",
       "      <td>1000_0</td>\n",
       "      <td>2018-07-25</td>\n",
       "      <td>0</td>\n",
       "      <td>1000</td>\n",
       "    </tr>\n",
       "    <tr>\n",
       "      <th>1</th>\n",
       "      <td>1000_1</td>\n",
       "      <td>2018-08-17</td>\n",
       "      <td>0</td>\n",
       "      <td>1000</td>\n",
       "    </tr>\n",
       "    <tr>\n",
       "      <th>2</th>\n",
       "      <td>1000_2</td>\n",
       "      <td>2018-06-11</td>\n",
       "      <td>3</td>\n",
       "      <td>1000</td>\n",
       "    </tr>\n",
       "    <tr>\n",
       "      <th>3</th>\n",
       "      <td>1000_3</td>\n",
       "      <td>2018-09-21</td>\n",
       "      <td>14</td>\n",
       "      <td>1000</td>\n",
       "    </tr>\n",
       "    <tr>\n",
       "      <th>4</th>\n",
       "      <td>1000_4</td>\n",
       "      <td>2018-12-15</td>\n",
       "      <td>6</td>\n",
       "      <td>1000</td>\n",
       "    </tr>\n",
       "  </tbody>\n",
       "</table>\n",
       "</div>"
      ],
      "text/plain": [
       "       id  call_date  duration  user_id\n",
       "0  1000_0 2018-07-25         0     1000\n",
       "1  1000_1 2018-08-17         0     1000\n",
       "2  1000_2 2018-06-11         3     1000\n",
       "3  1000_3 2018-09-21        14     1000\n",
       "4  1000_4 2018-12-15         6     1000"
      ]
     },
     "execution_count": 21,
     "metadata": {},
     "output_type": "execute_result"
    }
   ],
   "source": [
    "calls.head()"
   ]
  },
  {
   "cell_type": "code",
   "execution_count": 22,
   "metadata": {},
   "outputs": [
    {
     "name": "stdout",
     "output_type": "stream",
     "text": [
      "<class 'pandas.core.frame.DataFrame'>\n",
      "RangeIndex: 202607 entries, 0 to 202606\n",
      "Data columns (total 4 columns):\n",
      " #   Column     Non-Null Count   Dtype         \n",
      "---  ------     --------------   -----         \n",
      " 0   id         202607 non-null  object        \n",
      " 1   call_date  202607 non-null  datetime64[ns]\n",
      " 2   duration   202607 non-null  int64         \n",
      " 3   user_id    202607 non-null  int64         \n",
      "dtypes: datetime64[ns](1), int64(2), object(1)\n",
      "memory usage: 6.2+ MB\n"
     ]
    }
   ],
   "source": [
    "calls.info()"
   ]
  },
  {
   "cell_type": "code",
   "execution_count": 23,
   "metadata": {},
   "outputs": [
    {
     "name": "stdout",
     "output_type": "stream",
     "text": [
      "<class 'pandas.core.frame.DataFrame'>\n",
      "RangeIndex: 149396 entries, 0 to 149395\n",
      "Data columns (total 4 columns):\n",
      " #   Column        Non-Null Count   Dtype         \n",
      "---  ------        --------------   -----         \n",
      " 0   id            149396 non-null  object        \n",
      " 1   mb_used       149396 non-null  float64       \n",
      " 2   session_date  149396 non-null  datetime64[ns]\n",
      " 3   user_id       149396 non-null  int64         \n",
      "dtypes: datetime64[ns](1), float64(1), int64(1), object(1)\n",
      "memory usage: 4.6+ MB\n"
     ]
    }
   ],
   "source": [
    "internet.info()"
   ]
  },
  {
   "cell_type": "code",
   "execution_count": 24,
   "metadata": {},
   "outputs": [
    {
     "name": "stdout",
     "output_type": "stream",
     "text": [
      "<class 'pandas.core.frame.DataFrame'>\n",
      "RangeIndex: 123036 entries, 0 to 123035\n",
      "Data columns (total 3 columns):\n",
      " #   Column        Non-Null Count   Dtype         \n",
      "---  ------        --------------   -----         \n",
      " 0   id            123036 non-null  object        \n",
      " 1   message_date  123036 non-null  datetime64[ns]\n",
      " 2   user_id       123036 non-null  int64         \n",
      "dtypes: datetime64[ns](1), int64(1), object(1)\n",
      "memory usage: 2.8+ MB\n"
     ]
    }
   ],
   "source": [
    "messages.info()"
   ]
  },
  {
   "cell_type": "code",
   "execution_count": 25,
   "metadata": {},
   "outputs": [
    {
     "name": "stdout",
     "output_type": "stream",
     "text": [
      "<class 'pandas.core.frame.DataFrame'>\n",
      "RangeIndex: 500 entries, 0 to 499\n",
      "Data columns (total 8 columns):\n",
      " #   Column      Non-Null Count  Dtype         \n",
      "---  ------      --------------  -----         \n",
      " 0   user_id     500 non-null    int64         \n",
      " 1   age         500 non-null    int64         \n",
      " 2   churn_date  38 non-null     datetime64[ns]\n",
      " 3   city        500 non-null    object        \n",
      " 4   first_name  500 non-null    object        \n",
      " 5   last_name   500 non-null    object        \n",
      " 6   reg_date    500 non-null    datetime64[ns]\n",
      " 7   tariff      500 non-null    object        \n",
      "dtypes: datetime64[ns](2), int64(2), object(4)\n",
      "memory usage: 31.4+ KB\n"
     ]
    }
   ],
   "source": [
    "users.info()"
   ]
  },
  {
   "cell_type": "markdown",
   "metadata": {},
   "source": [
    "Тип данных указывающих даты исправлен."
   ]
  },
  {
   "cell_type": "markdown",
   "metadata": {},
   "source": [
    "## Рассчет дополнительных характеристик"
   ]
  },
  {
   "cell_type": "markdown",
   "metadata": {},
   "source": [
    "### Количество звонков и израсходованных минут по месяцам"
   ]
  },
  {
   "cell_type": "code",
   "execution_count": 26,
   "metadata": {},
   "outputs": [
    {
     "data": {
      "text/html": [
       "<div>\n",
       "<style scoped>\n",
       "    .dataframe tbody tr th:only-of-type {\n",
       "        vertical-align: middle;\n",
       "    }\n",
       "\n",
       "    .dataframe tbody tr th {\n",
       "        vertical-align: top;\n",
       "    }\n",
       "\n",
       "    .dataframe thead th {\n",
       "        text-align: right;\n",
       "    }\n",
       "</style>\n",
       "<table border=\"1\" class=\"dataframe\">\n",
       "  <thead>\n",
       "    <tr style=\"text-align: right;\">\n",
       "      <th></th>\n",
       "      <th>id</th>\n",
       "      <th>call_date</th>\n",
       "      <th>duration</th>\n",
       "      <th>user_id</th>\n",
       "      <th>month</th>\n",
       "    </tr>\n",
       "  </thead>\n",
       "  <tbody>\n",
       "    <tr>\n",
       "      <th>0</th>\n",
       "      <td>1000_0</td>\n",
       "      <td>2018-07-25</td>\n",
       "      <td>0</td>\n",
       "      <td>1000</td>\n",
       "      <td>7</td>\n",
       "    </tr>\n",
       "    <tr>\n",
       "      <th>1</th>\n",
       "      <td>1000_1</td>\n",
       "      <td>2018-08-17</td>\n",
       "      <td>0</td>\n",
       "      <td>1000</td>\n",
       "      <td>8</td>\n",
       "    </tr>\n",
       "    <tr>\n",
       "      <th>2</th>\n",
       "      <td>1000_2</td>\n",
       "      <td>2018-06-11</td>\n",
       "      <td>3</td>\n",
       "      <td>1000</td>\n",
       "      <td>6</td>\n",
       "    </tr>\n",
       "    <tr>\n",
       "      <th>3</th>\n",
       "      <td>1000_3</td>\n",
       "      <td>2018-09-21</td>\n",
       "      <td>14</td>\n",
       "      <td>1000</td>\n",
       "      <td>9</td>\n",
       "    </tr>\n",
       "    <tr>\n",
       "      <th>4</th>\n",
       "      <td>1000_4</td>\n",
       "      <td>2018-12-15</td>\n",
       "      <td>6</td>\n",
       "      <td>1000</td>\n",
       "      <td>12</td>\n",
       "    </tr>\n",
       "  </tbody>\n",
       "</table>\n",
       "</div>"
      ],
      "text/plain": [
       "       id  call_date  duration  user_id  month\n",
       "0  1000_0 2018-07-25         0     1000      7\n",
       "1  1000_1 2018-08-17         0     1000      8\n",
       "2  1000_2 2018-06-11         3     1000      6\n",
       "3  1000_3 2018-09-21        14     1000      9\n",
       "4  1000_4 2018-12-15         6     1000     12"
      ]
     },
     "execution_count": 26,
     "metadata": {},
     "output_type": "execute_result"
    }
   ],
   "source": [
    "calls['month'] = pd.DatetimeIndex(calls['call_date']).month\n",
    "calls.head()"
   ]
  },
  {
   "cell_type": "code",
   "execution_count": 27,
   "metadata": {},
   "outputs": [
    {
     "data": {
      "text/html": [
       "<div>\n",
       "<style scoped>\n",
       "    .dataframe tbody tr th:only-of-type {\n",
       "        vertical-align: middle;\n",
       "    }\n",
       "\n",
       "    .dataframe tbody tr th {\n",
       "        vertical-align: top;\n",
       "    }\n",
       "\n",
       "    .dataframe thead th {\n",
       "        text-align: right;\n",
       "    }\n",
       "</style>\n",
       "<table border=\"1\" class=\"dataframe\">\n",
       "  <thead>\n",
       "    <tr style=\"text-align: right;\">\n",
       "      <th></th>\n",
       "      <th></th>\n",
       "      <th>sum_duration_call</th>\n",
       "      <th>count_call</th>\n",
       "    </tr>\n",
       "    <tr>\n",
       "      <th>user_id</th>\n",
       "      <th>month</th>\n",
       "      <th></th>\n",
       "      <th></th>\n",
       "    </tr>\n",
       "  </thead>\n",
       "  <tbody>\n",
       "    <tr>\n",
       "      <th rowspan=\"8\" valign=\"top\">1000</th>\n",
       "      <th>5</th>\n",
       "      <td>159</td>\n",
       "      <td>22</td>\n",
       "    </tr>\n",
       "    <tr>\n",
       "      <th>6</th>\n",
       "      <td>172</td>\n",
       "      <td>43</td>\n",
       "    </tr>\n",
       "    <tr>\n",
       "      <th>7</th>\n",
       "      <td>340</td>\n",
       "      <td>47</td>\n",
       "    </tr>\n",
       "    <tr>\n",
       "      <th>8</th>\n",
       "      <td>408</td>\n",
       "      <td>52</td>\n",
       "    </tr>\n",
       "    <tr>\n",
       "      <th>9</th>\n",
       "      <td>466</td>\n",
       "      <td>58</td>\n",
       "    </tr>\n",
       "    <tr>\n",
       "      <th>10</th>\n",
       "      <td>350</td>\n",
       "      <td>57</td>\n",
       "    </tr>\n",
       "    <tr>\n",
       "      <th>11</th>\n",
       "      <td>338</td>\n",
       "      <td>43</td>\n",
       "    </tr>\n",
       "    <tr>\n",
       "      <th>12</th>\n",
       "      <td>333</td>\n",
       "      <td>46</td>\n",
       "    </tr>\n",
       "    <tr>\n",
       "      <th rowspan=\"2\" valign=\"top\">1001</th>\n",
       "      <th>11</th>\n",
       "      <td>430</td>\n",
       "      <td>59</td>\n",
       "    </tr>\n",
       "    <tr>\n",
       "      <th>12</th>\n",
       "      <td>414</td>\n",
       "      <td>63</td>\n",
       "    </tr>\n",
       "    <tr>\n",
       "      <th rowspan=\"5\" valign=\"top\">1002</th>\n",
       "      <th>6</th>\n",
       "      <td>117</td>\n",
       "      <td>15</td>\n",
       "    </tr>\n",
       "    <tr>\n",
       "      <th>7</th>\n",
       "      <td>214</td>\n",
       "      <td>26</td>\n",
       "    </tr>\n",
       "    <tr>\n",
       "      <th>8</th>\n",
       "      <td>289</td>\n",
       "      <td>42</td>\n",
       "    </tr>\n",
       "    <tr>\n",
       "      <th>9</th>\n",
       "      <td>206</td>\n",
       "      <td>36</td>\n",
       "    </tr>\n",
       "    <tr>\n",
       "      <th>10</th>\n",
       "      <td>212</td>\n",
       "      <td>33</td>\n",
       "    </tr>\n",
       "  </tbody>\n",
       "</table>\n",
       "</div>"
      ],
      "text/plain": [
       "               sum_duration_call  count_call\n",
       "user_id month                               \n",
       "1000    5                    159          22\n",
       "        6                    172          43\n",
       "        7                    340          47\n",
       "        8                    408          52\n",
       "        9                    466          58\n",
       "        10                   350          57\n",
       "        11                   338          43\n",
       "        12                   333          46\n",
       "1001    11                   430          59\n",
       "        12                   414          63\n",
       "1002    6                    117          15\n",
       "        7                    214          26\n",
       "        8                    289          42\n",
       "        9                    206          36\n",
       "        10                   212          33"
      ]
     },
     "execution_count": 27,
     "metadata": {},
     "output_type": "execute_result"
    }
   ],
   "source": [
    "calls_pivot = calls.pivot_table(index=['user_id', 'month'], values='duration', aggfunc=['sum', 'count'])\n",
    "calls_pivot.columns = ['sum_duration_call', 'count_call']\n",
    "calls_pivot.head(15)"
   ]
  },
  {
   "cell_type": "markdown",
   "metadata": {},
   "source": [
    "### Количество отправленных сообщений по месяцам"
   ]
  },
  {
   "cell_type": "code",
   "execution_count": 28,
   "metadata": {},
   "outputs": [
    {
     "data": {
      "text/html": [
       "<div>\n",
       "<style scoped>\n",
       "    .dataframe tbody tr th:only-of-type {\n",
       "        vertical-align: middle;\n",
       "    }\n",
       "\n",
       "    .dataframe tbody tr th {\n",
       "        vertical-align: top;\n",
       "    }\n",
       "\n",
       "    .dataframe thead th {\n",
       "        text-align: right;\n",
       "    }\n",
       "</style>\n",
       "<table border=\"1\" class=\"dataframe\">\n",
       "  <thead>\n",
       "    <tr style=\"text-align: right;\">\n",
       "      <th></th>\n",
       "      <th>id</th>\n",
       "      <th>message_date</th>\n",
       "      <th>user_id</th>\n",
       "      <th>month</th>\n",
       "    </tr>\n",
       "  </thead>\n",
       "  <tbody>\n",
       "    <tr>\n",
       "      <th>0</th>\n",
       "      <td>1000_0</td>\n",
       "      <td>2018-06-27</td>\n",
       "      <td>1000</td>\n",
       "      <td>6</td>\n",
       "    </tr>\n",
       "    <tr>\n",
       "      <th>1</th>\n",
       "      <td>1000_1</td>\n",
       "      <td>2018-10-08</td>\n",
       "      <td>1000</td>\n",
       "      <td>10</td>\n",
       "    </tr>\n",
       "    <tr>\n",
       "      <th>2</th>\n",
       "      <td>1000_2</td>\n",
       "      <td>2018-08-04</td>\n",
       "      <td>1000</td>\n",
       "      <td>8</td>\n",
       "    </tr>\n",
       "    <tr>\n",
       "      <th>3</th>\n",
       "      <td>1000_3</td>\n",
       "      <td>2018-06-16</td>\n",
       "      <td>1000</td>\n",
       "      <td>6</td>\n",
       "    </tr>\n",
       "    <tr>\n",
       "      <th>4</th>\n",
       "      <td>1000_4</td>\n",
       "      <td>2018-12-05</td>\n",
       "      <td>1000</td>\n",
       "      <td>12</td>\n",
       "    </tr>\n",
       "  </tbody>\n",
       "</table>\n",
       "</div>"
      ],
      "text/plain": [
       "       id message_date  user_id  month\n",
       "0  1000_0   2018-06-27     1000      6\n",
       "1  1000_1   2018-10-08     1000     10\n",
       "2  1000_2   2018-08-04     1000      8\n",
       "3  1000_3   2018-06-16     1000      6\n",
       "4  1000_4   2018-12-05     1000     12"
      ]
     },
     "execution_count": 28,
     "metadata": {},
     "output_type": "execute_result"
    }
   ],
   "source": [
    "messages['month'] = pd.DatetimeIndex(messages['message_date']).month\n",
    "messages.head()"
   ]
  },
  {
   "cell_type": "code",
   "execution_count": 29,
   "metadata": {},
   "outputs": [
    {
     "data": {
      "text/html": [
       "<div>\n",
       "<style scoped>\n",
       "    .dataframe tbody tr th:only-of-type {\n",
       "        vertical-align: middle;\n",
       "    }\n",
       "\n",
       "    .dataframe tbody tr th {\n",
       "        vertical-align: top;\n",
       "    }\n",
       "\n",
       "    .dataframe thead th {\n",
       "        text-align: right;\n",
       "    }\n",
       "</style>\n",
       "<table border=\"1\" class=\"dataframe\">\n",
       "  <thead>\n",
       "    <tr style=\"text-align: right;\">\n",
       "      <th></th>\n",
       "      <th></th>\n",
       "      <th>count_messages</th>\n",
       "    </tr>\n",
       "    <tr>\n",
       "      <th>user_id</th>\n",
       "      <th>month</th>\n",
       "      <th></th>\n",
       "    </tr>\n",
       "  </thead>\n",
       "  <tbody>\n",
       "    <tr>\n",
       "      <th rowspan=\"8\" valign=\"top\">1000</th>\n",
       "      <th>5</th>\n",
       "      <td>22</td>\n",
       "    </tr>\n",
       "    <tr>\n",
       "      <th>6</th>\n",
       "      <td>60</td>\n",
       "    </tr>\n",
       "    <tr>\n",
       "      <th>7</th>\n",
       "      <td>75</td>\n",
       "    </tr>\n",
       "    <tr>\n",
       "      <th>8</th>\n",
       "      <td>81</td>\n",
       "    </tr>\n",
       "    <tr>\n",
       "      <th>9</th>\n",
       "      <td>57</td>\n",
       "    </tr>\n",
       "    <tr>\n",
       "      <th>10</th>\n",
       "      <td>73</td>\n",
       "    </tr>\n",
       "    <tr>\n",
       "      <th>11</th>\n",
       "      <td>58</td>\n",
       "    </tr>\n",
       "    <tr>\n",
       "      <th>12</th>\n",
       "      <td>70</td>\n",
       "    </tr>\n",
       "    <tr>\n",
       "      <th rowspan=\"7\" valign=\"top\">1002</th>\n",
       "      <th>6</th>\n",
       "      <td>4</td>\n",
       "    </tr>\n",
       "    <tr>\n",
       "      <th>7</th>\n",
       "      <td>11</td>\n",
       "    </tr>\n",
       "    <tr>\n",
       "      <th>8</th>\n",
       "      <td>13</td>\n",
       "    </tr>\n",
       "    <tr>\n",
       "      <th>9</th>\n",
       "      <td>4</td>\n",
       "    </tr>\n",
       "    <tr>\n",
       "      <th>10</th>\n",
       "      <td>10</td>\n",
       "    </tr>\n",
       "    <tr>\n",
       "      <th>11</th>\n",
       "      <td>16</td>\n",
       "    </tr>\n",
       "    <tr>\n",
       "      <th>12</th>\n",
       "      <td>12</td>\n",
       "    </tr>\n",
       "  </tbody>\n",
       "</table>\n",
       "</div>"
      ],
      "text/plain": [
       "               count_messages\n",
       "user_id month                \n",
       "1000    5                  22\n",
       "        6                  60\n",
       "        7                  75\n",
       "        8                  81\n",
       "        9                  57\n",
       "        10                 73\n",
       "        11                 58\n",
       "        12                 70\n",
       "1002    6                   4\n",
       "        7                  11\n",
       "        8                  13\n",
       "        9                   4\n",
       "        10                 10\n",
       "        11                 16\n",
       "        12                 12"
      ]
     },
     "execution_count": 29,
     "metadata": {},
     "output_type": "execute_result"
    }
   ],
   "source": [
    "messages_pivot = messages.pivot_table(index=['user_id', 'month'], values='id', aggfunc='count')\n",
    "messages_pivot.columns = ['count_messages']\n",
    "messages_pivot.head(15)"
   ]
  },
  {
   "cell_type": "markdown",
   "metadata": {},
   "source": [
    "### Объем израсходованного интернет-трафика по месяцам"
   ]
  },
  {
   "cell_type": "code",
   "execution_count": 30,
   "metadata": {},
   "outputs": [
    {
     "data": {
      "text/html": [
       "<div>\n",
       "<style scoped>\n",
       "    .dataframe tbody tr th:only-of-type {\n",
       "        vertical-align: middle;\n",
       "    }\n",
       "\n",
       "    .dataframe tbody tr th {\n",
       "        vertical-align: top;\n",
       "    }\n",
       "\n",
       "    .dataframe thead th {\n",
       "        text-align: right;\n",
       "    }\n",
       "</style>\n",
       "<table border=\"1\" class=\"dataframe\">\n",
       "  <thead>\n",
       "    <tr style=\"text-align: right;\">\n",
       "      <th></th>\n",
       "      <th>id</th>\n",
       "      <th>mb_used</th>\n",
       "      <th>session_date</th>\n",
       "      <th>user_id</th>\n",
       "      <th>month</th>\n",
       "    </tr>\n",
       "  </thead>\n",
       "  <tbody>\n",
       "    <tr>\n",
       "      <th>0</th>\n",
       "      <td>1000_0</td>\n",
       "      <td>112.95</td>\n",
       "      <td>2018-11-25</td>\n",
       "      <td>1000</td>\n",
       "      <td>11</td>\n",
       "    </tr>\n",
       "    <tr>\n",
       "      <th>1</th>\n",
       "      <td>1000_1</td>\n",
       "      <td>1052.81</td>\n",
       "      <td>2018-09-07</td>\n",
       "      <td>1000</td>\n",
       "      <td>9</td>\n",
       "    </tr>\n",
       "    <tr>\n",
       "      <th>2</th>\n",
       "      <td>1000_2</td>\n",
       "      <td>1197.26</td>\n",
       "      <td>2018-06-25</td>\n",
       "      <td>1000</td>\n",
       "      <td>6</td>\n",
       "    </tr>\n",
       "    <tr>\n",
       "      <th>3</th>\n",
       "      <td>1000_3</td>\n",
       "      <td>550.27</td>\n",
       "      <td>2018-08-22</td>\n",
       "      <td>1000</td>\n",
       "      <td>8</td>\n",
       "    </tr>\n",
       "    <tr>\n",
       "      <th>4</th>\n",
       "      <td>1000_4</td>\n",
       "      <td>302.56</td>\n",
       "      <td>2018-09-24</td>\n",
       "      <td>1000</td>\n",
       "      <td>9</td>\n",
       "    </tr>\n",
       "  </tbody>\n",
       "</table>\n",
       "</div>"
      ],
      "text/plain": [
       "       id  mb_used session_date  user_id  month\n",
       "0  1000_0   112.95   2018-11-25     1000     11\n",
       "1  1000_1  1052.81   2018-09-07     1000      9\n",
       "2  1000_2  1197.26   2018-06-25     1000      6\n",
       "3  1000_3   550.27   2018-08-22     1000      8\n",
       "4  1000_4   302.56   2018-09-24     1000      9"
      ]
     },
     "execution_count": 30,
     "metadata": {},
     "output_type": "execute_result"
    }
   ],
   "source": [
    "internet['month'] = pd.DatetimeIndex(internet['session_date']).month\n",
    "internet.head()"
   ]
  },
  {
   "cell_type": "code",
   "execution_count": 31,
   "metadata": {},
   "outputs": [
    {
     "data": {
      "text/html": [
       "<div>\n",
       "<style scoped>\n",
       "    .dataframe tbody tr th:only-of-type {\n",
       "        vertical-align: middle;\n",
       "    }\n",
       "\n",
       "    .dataframe tbody tr th {\n",
       "        vertical-align: top;\n",
       "    }\n",
       "\n",
       "    .dataframe thead th {\n",
       "        text-align: right;\n",
       "    }\n",
       "</style>\n",
       "<table border=\"1\" class=\"dataframe\">\n",
       "  <thead>\n",
       "    <tr style=\"text-align: right;\">\n",
       "      <th></th>\n",
       "      <th></th>\n",
       "      <th>sum_mb</th>\n",
       "    </tr>\n",
       "    <tr>\n",
       "      <th>user_id</th>\n",
       "      <th>month</th>\n",
       "      <th></th>\n",
       "    </tr>\n",
       "  </thead>\n",
       "  <tbody>\n",
       "    <tr>\n",
       "      <th rowspan=\"8\" valign=\"top\">1000</th>\n",
       "      <th>5</th>\n",
       "      <td>2253.49</td>\n",
       "    </tr>\n",
       "    <tr>\n",
       "      <th>6</th>\n",
       "      <td>23233.77</td>\n",
       "    </tr>\n",
       "    <tr>\n",
       "      <th>7</th>\n",
       "      <td>14003.64</td>\n",
       "    </tr>\n",
       "    <tr>\n",
       "      <th>8</th>\n",
       "      <td>14055.93</td>\n",
       "    </tr>\n",
       "    <tr>\n",
       "      <th>9</th>\n",
       "      <td>14568.91</td>\n",
       "    </tr>\n",
       "    <tr>\n",
       "      <th>10</th>\n",
       "      <td>14702.49</td>\n",
       "    </tr>\n",
       "    <tr>\n",
       "      <th>11</th>\n",
       "      <td>14756.47</td>\n",
       "    </tr>\n",
       "    <tr>\n",
       "      <th>12</th>\n",
       "      <td>9817.61</td>\n",
       "    </tr>\n",
       "    <tr>\n",
       "      <th rowspan=\"2\" valign=\"top\">1001</th>\n",
       "      <th>11</th>\n",
       "      <td>18429.34</td>\n",
       "    </tr>\n",
       "    <tr>\n",
       "      <th>12</th>\n",
       "      <td>14036.66</td>\n",
       "    </tr>\n",
       "    <tr>\n",
       "      <th rowspan=\"5\" valign=\"top\">1002</th>\n",
       "      <th>6</th>\n",
       "      <td>10856.82</td>\n",
       "    </tr>\n",
       "    <tr>\n",
       "      <th>7</th>\n",
       "      <td>17580.10</td>\n",
       "    </tr>\n",
       "    <tr>\n",
       "      <th>8</th>\n",
       "      <td>20319.26</td>\n",
       "    </tr>\n",
       "    <tr>\n",
       "      <th>9</th>\n",
       "      <td>16691.08</td>\n",
       "    </tr>\n",
       "    <tr>\n",
       "      <th>10</th>\n",
       "      <td>13888.25</td>\n",
       "    </tr>\n",
       "  </tbody>\n",
       "</table>\n",
       "</div>"
      ],
      "text/plain": [
       "                 sum_mb\n",
       "user_id month          \n",
       "1000    5       2253.49\n",
       "        6      23233.77\n",
       "        7      14003.64\n",
       "        8      14055.93\n",
       "        9      14568.91\n",
       "        10     14702.49\n",
       "        11     14756.47\n",
       "        12      9817.61\n",
       "1001    11     18429.34\n",
       "        12     14036.66\n",
       "1002    6      10856.82\n",
       "        7      17580.10\n",
       "        8      20319.26\n",
       "        9      16691.08\n",
       "        10     13888.25"
      ]
     },
     "execution_count": 31,
     "metadata": {},
     "output_type": "execute_result"
    }
   ],
   "source": [
    "internet_pivot = internet.pivot_table(index=['user_id', 'month'], values='mb_used', aggfunc='sum')\n",
    "internet_pivot.columns = ['sum_mb']\n",
    "internet_pivot.head(15)"
   ]
  },
  {
   "cell_type": "markdown",
   "metadata": {},
   "source": [
    "Округлим полученные значения до целых Гб в бОльшую сторону по правилам тарифа:"
   ]
  },
  {
   "cell_type": "code",
   "execution_count": 32,
   "metadata": {},
   "outputs": [
    {
     "data": {
      "text/html": [
       "<div>\n",
       "<style scoped>\n",
       "    .dataframe tbody tr th:only-of-type {\n",
       "        vertical-align: middle;\n",
       "    }\n",
       "\n",
       "    .dataframe tbody tr th {\n",
       "        vertical-align: top;\n",
       "    }\n",
       "\n",
       "    .dataframe thead th {\n",
       "        text-align: right;\n",
       "    }\n",
       "</style>\n",
       "<table border=\"1\" class=\"dataframe\">\n",
       "  <thead>\n",
       "    <tr style=\"text-align: right;\">\n",
       "      <th></th>\n",
       "      <th></th>\n",
       "      <th>sum_mb</th>\n",
       "    </tr>\n",
       "    <tr>\n",
       "      <th>user_id</th>\n",
       "      <th>month</th>\n",
       "      <th></th>\n",
       "    </tr>\n",
       "  </thead>\n",
       "  <tbody>\n",
       "    <tr>\n",
       "      <th rowspan=\"8\" valign=\"top\">1000</th>\n",
       "      <th>5</th>\n",
       "      <td>3072</td>\n",
       "    </tr>\n",
       "    <tr>\n",
       "      <th>6</th>\n",
       "      <td>23552</td>\n",
       "    </tr>\n",
       "    <tr>\n",
       "      <th>7</th>\n",
       "      <td>14336</td>\n",
       "    </tr>\n",
       "    <tr>\n",
       "      <th>8</th>\n",
       "      <td>14336</td>\n",
       "    </tr>\n",
       "    <tr>\n",
       "      <th>9</th>\n",
       "      <td>15360</td>\n",
       "    </tr>\n",
       "    <tr>\n",
       "      <th>10</th>\n",
       "      <td>15360</td>\n",
       "    </tr>\n",
       "    <tr>\n",
       "      <th>11</th>\n",
       "      <td>15360</td>\n",
       "    </tr>\n",
       "    <tr>\n",
       "      <th>12</th>\n",
       "      <td>10240</td>\n",
       "    </tr>\n",
       "    <tr>\n",
       "      <th rowspan=\"2\" valign=\"top\">1001</th>\n",
       "      <th>11</th>\n",
       "      <td>18432</td>\n",
       "    </tr>\n",
       "    <tr>\n",
       "      <th>12</th>\n",
       "      <td>14336</td>\n",
       "    </tr>\n",
       "    <tr>\n",
       "      <th rowspan=\"5\" valign=\"top\">1002</th>\n",
       "      <th>6</th>\n",
       "      <td>11264</td>\n",
       "    </tr>\n",
       "    <tr>\n",
       "      <th>7</th>\n",
       "      <td>18432</td>\n",
       "    </tr>\n",
       "    <tr>\n",
       "      <th>8</th>\n",
       "      <td>20480</td>\n",
       "    </tr>\n",
       "    <tr>\n",
       "      <th>9</th>\n",
       "      <td>17408</td>\n",
       "    </tr>\n",
       "    <tr>\n",
       "      <th>10</th>\n",
       "      <td>14336</td>\n",
       "    </tr>\n",
       "  </tbody>\n",
       "</table>\n",
       "</div>"
      ],
      "text/plain": [
       "               sum_mb\n",
       "user_id month        \n",
       "1000    5        3072\n",
       "        6       23552\n",
       "        7       14336\n",
       "        8       14336\n",
       "        9       15360\n",
       "        10      15360\n",
       "        11      15360\n",
       "        12      10240\n",
       "1001    11      18432\n",
       "        12      14336\n",
       "1002    6       11264\n",
       "        7       18432\n",
       "        8       20480\n",
       "        9       17408\n",
       "        10      14336"
      ]
     },
     "execution_count": 32,
     "metadata": {},
     "output_type": "execute_result"
    }
   ],
   "source": [
    "internet_pivot['sum_mb'] = (internet_pivot['sum_mb'] / 1024).apply(lambda x: math.ceil(x))*1024\n",
    "internet_pivot.head(15)"
   ]
  },
  {
   "cell_type": "markdown",
   "metadata": {},
   "source": [
    "### Помесячная выручка с каждого пользователя"
   ]
  },
  {
   "cell_type": "code",
   "execution_count": 33,
   "metadata": {},
   "outputs": [
    {
     "data": {
      "text/html": [
       "<div>\n",
       "<style scoped>\n",
       "    .dataframe tbody tr th:only-of-type {\n",
       "        vertical-align: middle;\n",
       "    }\n",
       "\n",
       "    .dataframe tbody tr th {\n",
       "        vertical-align: top;\n",
       "    }\n",
       "\n",
       "    .dataframe thead th {\n",
       "        text-align: right;\n",
       "    }\n",
       "</style>\n",
       "<table border=\"1\" class=\"dataframe\">\n",
       "  <thead>\n",
       "    <tr style=\"text-align: right;\">\n",
       "      <th></th>\n",
       "      <th></th>\n",
       "      <th>sum_duration_call</th>\n",
       "      <th>count_call</th>\n",
       "      <th>count_messages</th>\n",
       "      <th>sum_mb</th>\n",
       "    </tr>\n",
       "    <tr>\n",
       "      <th>user_id</th>\n",
       "      <th>month</th>\n",
       "      <th></th>\n",
       "      <th></th>\n",
       "      <th></th>\n",
       "      <th></th>\n",
       "    </tr>\n",
       "  </thead>\n",
       "  <tbody>\n",
       "    <tr>\n",
       "      <th rowspan=\"5\" valign=\"top\">1000</th>\n",
       "      <th>5</th>\n",
       "      <td>159.0</td>\n",
       "      <td>22.0</td>\n",
       "      <td>22.0</td>\n",
       "      <td>3072.0</td>\n",
       "    </tr>\n",
       "    <tr>\n",
       "      <th>6</th>\n",
       "      <td>172.0</td>\n",
       "      <td>43.0</td>\n",
       "      <td>60.0</td>\n",
       "      <td>23552.0</td>\n",
       "    </tr>\n",
       "    <tr>\n",
       "      <th>7</th>\n",
       "      <td>340.0</td>\n",
       "      <td>47.0</td>\n",
       "      <td>75.0</td>\n",
       "      <td>14336.0</td>\n",
       "    </tr>\n",
       "    <tr>\n",
       "      <th>8</th>\n",
       "      <td>408.0</td>\n",
       "      <td>52.0</td>\n",
       "      <td>81.0</td>\n",
       "      <td>14336.0</td>\n",
       "    </tr>\n",
       "    <tr>\n",
       "      <th>9</th>\n",
       "      <td>466.0</td>\n",
       "      <td>58.0</td>\n",
       "      <td>57.0</td>\n",
       "      <td>15360.0</td>\n",
       "    </tr>\n",
       "  </tbody>\n",
       "</table>\n",
       "</div>"
      ],
      "text/plain": [
       "               sum_duration_call  count_call  count_messages   sum_mb\n",
       "user_id month                                                        \n",
       "1000    5                  159.0        22.0            22.0   3072.0\n",
       "        6                  172.0        43.0            60.0  23552.0\n",
       "        7                  340.0        47.0            75.0  14336.0\n",
       "        8                  408.0        52.0            81.0  14336.0\n",
       "        9                  466.0        58.0            57.0  15360.0"
      ]
     },
     "execution_count": 33,
     "metadata": {},
     "output_type": "execute_result"
    }
   ],
   "source": [
    "user_revenue = calls_pivot.join([messages_pivot, internet_pivot], how='outer')\n",
    "user_revenue.head()"
   ]
  },
  {
   "cell_type": "code",
   "execution_count": 34,
   "metadata": {},
   "outputs": [
    {
     "name": "stdout",
     "output_type": "stream",
     "text": [
      "<class 'pandas.core.frame.DataFrame'>\n",
      "MultiIndex: 3214 entries, (1000, 5) to (1499, 12)\n",
      "Data columns (total 4 columns):\n",
      " #   Column             Non-Null Count  Dtype  \n",
      "---  ------             --------------  -----  \n",
      " 0   sum_duration_call  3214 non-null   float64\n",
      " 1   count_call         3214 non-null   int64  \n",
      " 2   count_messages     3214 non-null   int64  \n",
      " 3   sum_mb             3214 non-null   float64\n",
      "dtypes: float64(2), int64(2)\n",
      "memory usage: 130.4 KB\n"
     ]
    }
   ],
   "source": [
    "user_revenue = user_revenue.fillna(0)\n",
    "user_revenue['count_call'] = user_revenue['count_call'].astype(int)\n",
    "user_revenue['count_messages'] = user_revenue['count_messages'].astype(int)\n",
    "user_revenue.info()"
   ]
  },
  {
   "cell_type": "code",
   "execution_count": 35,
   "metadata": {},
   "outputs": [
    {
     "data": {
      "text/html": [
       "<div>\n",
       "<style scoped>\n",
       "    .dataframe tbody tr th:only-of-type {\n",
       "        vertical-align: middle;\n",
       "    }\n",
       "\n",
       "    .dataframe tbody tr th {\n",
       "        vertical-align: top;\n",
       "    }\n",
       "\n",
       "    .dataframe thead th {\n",
       "        text-align: right;\n",
       "    }\n",
       "</style>\n",
       "<table border=\"1\" class=\"dataframe\">\n",
       "  <thead>\n",
       "    <tr style=\"text-align: right;\">\n",
       "      <th></th>\n",
       "      <th>user_id</th>\n",
       "      <th>month</th>\n",
       "      <th>sum_duration_call</th>\n",
       "      <th>count_call</th>\n",
       "      <th>count_messages</th>\n",
       "      <th>sum_mb</th>\n",
       "    </tr>\n",
       "  </thead>\n",
       "  <tbody>\n",
       "    <tr>\n",
       "      <th>0</th>\n",
       "      <td>1000</td>\n",
       "      <td>5</td>\n",
       "      <td>159.0</td>\n",
       "      <td>22</td>\n",
       "      <td>22</td>\n",
       "      <td>3072.0</td>\n",
       "    </tr>\n",
       "    <tr>\n",
       "      <th>1</th>\n",
       "      <td>1000</td>\n",
       "      <td>6</td>\n",
       "      <td>172.0</td>\n",
       "      <td>43</td>\n",
       "      <td>60</td>\n",
       "      <td>23552.0</td>\n",
       "    </tr>\n",
       "    <tr>\n",
       "      <th>2</th>\n",
       "      <td>1000</td>\n",
       "      <td>7</td>\n",
       "      <td>340.0</td>\n",
       "      <td>47</td>\n",
       "      <td>75</td>\n",
       "      <td>14336.0</td>\n",
       "    </tr>\n",
       "    <tr>\n",
       "      <th>3</th>\n",
       "      <td>1000</td>\n",
       "      <td>8</td>\n",
       "      <td>408.0</td>\n",
       "      <td>52</td>\n",
       "      <td>81</td>\n",
       "      <td>14336.0</td>\n",
       "    </tr>\n",
       "    <tr>\n",
       "      <th>4</th>\n",
       "      <td>1000</td>\n",
       "      <td>9</td>\n",
       "      <td>466.0</td>\n",
       "      <td>58</td>\n",
       "      <td>57</td>\n",
       "      <td>15360.0</td>\n",
       "    </tr>\n",
       "    <tr>\n",
       "      <th>5</th>\n",
       "      <td>1000</td>\n",
       "      <td>10</td>\n",
       "      <td>350.0</td>\n",
       "      <td>57</td>\n",
       "      <td>73</td>\n",
       "      <td>15360.0</td>\n",
       "    </tr>\n",
       "    <tr>\n",
       "      <th>6</th>\n",
       "      <td>1000</td>\n",
       "      <td>11</td>\n",
       "      <td>338.0</td>\n",
       "      <td>43</td>\n",
       "      <td>58</td>\n",
       "      <td>15360.0</td>\n",
       "    </tr>\n",
       "    <tr>\n",
       "      <th>7</th>\n",
       "      <td>1000</td>\n",
       "      <td>12</td>\n",
       "      <td>333.0</td>\n",
       "      <td>46</td>\n",
       "      <td>70</td>\n",
       "      <td>10240.0</td>\n",
       "    </tr>\n",
       "    <tr>\n",
       "      <th>8</th>\n",
       "      <td>1001</td>\n",
       "      <td>11</td>\n",
       "      <td>430.0</td>\n",
       "      <td>59</td>\n",
       "      <td>0</td>\n",
       "      <td>18432.0</td>\n",
       "    </tr>\n",
       "    <tr>\n",
       "      <th>9</th>\n",
       "      <td>1001</td>\n",
       "      <td>12</td>\n",
       "      <td>414.0</td>\n",
       "      <td>63</td>\n",
       "      <td>0</td>\n",
       "      <td>14336.0</td>\n",
       "    </tr>\n",
       "    <tr>\n",
       "      <th>10</th>\n",
       "      <td>1002</td>\n",
       "      <td>6</td>\n",
       "      <td>117.0</td>\n",
       "      <td>15</td>\n",
       "      <td>4</td>\n",
       "      <td>11264.0</td>\n",
       "    </tr>\n",
       "    <tr>\n",
       "      <th>11</th>\n",
       "      <td>1002</td>\n",
       "      <td>7</td>\n",
       "      <td>214.0</td>\n",
       "      <td>26</td>\n",
       "      <td>11</td>\n",
       "      <td>18432.0</td>\n",
       "    </tr>\n",
       "    <tr>\n",
       "      <th>12</th>\n",
       "      <td>1002</td>\n",
       "      <td>8</td>\n",
       "      <td>289.0</td>\n",
       "      <td>42</td>\n",
       "      <td>13</td>\n",
       "      <td>20480.0</td>\n",
       "    </tr>\n",
       "    <tr>\n",
       "      <th>13</th>\n",
       "      <td>1002</td>\n",
       "      <td>9</td>\n",
       "      <td>206.0</td>\n",
       "      <td>36</td>\n",
       "      <td>4</td>\n",
       "      <td>17408.0</td>\n",
       "    </tr>\n",
       "    <tr>\n",
       "      <th>14</th>\n",
       "      <td>1002</td>\n",
       "      <td>10</td>\n",
       "      <td>212.0</td>\n",
       "      <td>33</td>\n",
       "      <td>10</td>\n",
       "      <td>14336.0</td>\n",
       "    </tr>\n",
       "  </tbody>\n",
       "</table>\n",
       "</div>"
      ],
      "text/plain": [
       "    user_id  month  sum_duration_call  count_call  count_messages   sum_mb\n",
       "0      1000      5              159.0          22              22   3072.0\n",
       "1      1000      6              172.0          43              60  23552.0\n",
       "2      1000      7              340.0          47              75  14336.0\n",
       "3      1000      8              408.0          52              81  14336.0\n",
       "4      1000      9              466.0          58              57  15360.0\n",
       "5      1000     10              350.0          57              73  15360.0\n",
       "6      1000     11              338.0          43              58  15360.0\n",
       "7      1000     12              333.0          46              70  10240.0\n",
       "8      1001     11              430.0          59               0  18432.0\n",
       "9      1001     12              414.0          63               0  14336.0\n",
       "10     1002      6              117.0          15               4  11264.0\n",
       "11     1002      7              214.0          26              11  18432.0\n",
       "12     1002      8              289.0          42              13  20480.0\n",
       "13     1002      9              206.0          36               4  17408.0\n",
       "14     1002     10              212.0          33              10  14336.0"
      ]
     },
     "execution_count": 35,
     "metadata": {},
     "output_type": "execute_result"
    }
   ],
   "source": [
    "user_revenue = user_revenue.reset_index()\n",
    "user_revenue.head(15)"
   ]
  },
  {
   "cell_type": "code",
   "execution_count": 36,
   "metadata": {},
   "outputs": [
    {
     "data": {
      "text/html": [
       "<div>\n",
       "<style scoped>\n",
       "    .dataframe tbody tr th:only-of-type {\n",
       "        vertical-align: middle;\n",
       "    }\n",
       "\n",
       "    .dataframe tbody tr th {\n",
       "        vertical-align: top;\n",
       "    }\n",
       "\n",
       "    .dataframe thead th {\n",
       "        text-align: right;\n",
       "    }\n",
       "</style>\n",
       "<table border=\"1\" class=\"dataframe\">\n",
       "  <thead>\n",
       "    <tr style=\"text-align: right;\">\n",
       "      <th></th>\n",
       "      <th>user_id</th>\n",
       "      <th>month</th>\n",
       "      <th>sum_duration_call</th>\n",
       "      <th>count_call</th>\n",
       "      <th>count_messages</th>\n",
       "      <th>sum_mb</th>\n",
       "      <th>city</th>\n",
       "      <th>tariff_name</th>\n",
       "    </tr>\n",
       "  </thead>\n",
       "  <tbody>\n",
       "    <tr>\n",
       "      <th>0</th>\n",
       "      <td>1000</td>\n",
       "      <td>5</td>\n",
       "      <td>159.0</td>\n",
       "      <td>22</td>\n",
       "      <td>22</td>\n",
       "      <td>3072.0</td>\n",
       "      <td>Краснодар</td>\n",
       "      <td>ultra</td>\n",
       "    </tr>\n",
       "    <tr>\n",
       "      <th>1</th>\n",
       "      <td>1000</td>\n",
       "      <td>6</td>\n",
       "      <td>172.0</td>\n",
       "      <td>43</td>\n",
       "      <td>60</td>\n",
       "      <td>23552.0</td>\n",
       "      <td>Краснодар</td>\n",
       "      <td>ultra</td>\n",
       "    </tr>\n",
       "    <tr>\n",
       "      <th>2</th>\n",
       "      <td>1000</td>\n",
       "      <td>7</td>\n",
       "      <td>340.0</td>\n",
       "      <td>47</td>\n",
       "      <td>75</td>\n",
       "      <td>14336.0</td>\n",
       "      <td>Краснодар</td>\n",
       "      <td>ultra</td>\n",
       "    </tr>\n",
       "    <tr>\n",
       "      <th>3</th>\n",
       "      <td>1000</td>\n",
       "      <td>8</td>\n",
       "      <td>408.0</td>\n",
       "      <td>52</td>\n",
       "      <td>81</td>\n",
       "      <td>14336.0</td>\n",
       "      <td>Краснодар</td>\n",
       "      <td>ultra</td>\n",
       "    </tr>\n",
       "    <tr>\n",
       "      <th>4</th>\n",
       "      <td>1000</td>\n",
       "      <td>9</td>\n",
       "      <td>466.0</td>\n",
       "      <td>58</td>\n",
       "      <td>57</td>\n",
       "      <td>15360.0</td>\n",
       "      <td>Краснодар</td>\n",
       "      <td>ultra</td>\n",
       "    </tr>\n",
       "    <tr>\n",
       "      <th>5</th>\n",
       "      <td>1000</td>\n",
       "      <td>10</td>\n",
       "      <td>350.0</td>\n",
       "      <td>57</td>\n",
       "      <td>73</td>\n",
       "      <td>15360.0</td>\n",
       "      <td>Краснодар</td>\n",
       "      <td>ultra</td>\n",
       "    </tr>\n",
       "    <tr>\n",
       "      <th>6</th>\n",
       "      <td>1000</td>\n",
       "      <td>11</td>\n",
       "      <td>338.0</td>\n",
       "      <td>43</td>\n",
       "      <td>58</td>\n",
       "      <td>15360.0</td>\n",
       "      <td>Краснодар</td>\n",
       "      <td>ultra</td>\n",
       "    </tr>\n",
       "    <tr>\n",
       "      <th>7</th>\n",
       "      <td>1000</td>\n",
       "      <td>12</td>\n",
       "      <td>333.0</td>\n",
       "      <td>46</td>\n",
       "      <td>70</td>\n",
       "      <td>10240.0</td>\n",
       "      <td>Краснодар</td>\n",
       "      <td>ultra</td>\n",
       "    </tr>\n",
       "    <tr>\n",
       "      <th>8</th>\n",
       "      <td>1001</td>\n",
       "      <td>11</td>\n",
       "      <td>430.0</td>\n",
       "      <td>59</td>\n",
       "      <td>0</td>\n",
       "      <td>18432.0</td>\n",
       "      <td>Москва</td>\n",
       "      <td>smart</td>\n",
       "    </tr>\n",
       "    <tr>\n",
       "      <th>9</th>\n",
       "      <td>1001</td>\n",
       "      <td>12</td>\n",
       "      <td>414.0</td>\n",
       "      <td>63</td>\n",
       "      <td>0</td>\n",
       "      <td>14336.0</td>\n",
       "      <td>Москва</td>\n",
       "      <td>smart</td>\n",
       "    </tr>\n",
       "    <tr>\n",
       "      <th>10</th>\n",
       "      <td>1002</td>\n",
       "      <td>6</td>\n",
       "      <td>117.0</td>\n",
       "      <td>15</td>\n",
       "      <td>4</td>\n",
       "      <td>11264.0</td>\n",
       "      <td>Стерлитамак</td>\n",
       "      <td>smart</td>\n",
       "    </tr>\n",
       "    <tr>\n",
       "      <th>11</th>\n",
       "      <td>1002</td>\n",
       "      <td>7</td>\n",
       "      <td>214.0</td>\n",
       "      <td>26</td>\n",
       "      <td>11</td>\n",
       "      <td>18432.0</td>\n",
       "      <td>Стерлитамак</td>\n",
       "      <td>smart</td>\n",
       "    </tr>\n",
       "    <tr>\n",
       "      <th>12</th>\n",
       "      <td>1002</td>\n",
       "      <td>8</td>\n",
       "      <td>289.0</td>\n",
       "      <td>42</td>\n",
       "      <td>13</td>\n",
       "      <td>20480.0</td>\n",
       "      <td>Стерлитамак</td>\n",
       "      <td>smart</td>\n",
       "    </tr>\n",
       "    <tr>\n",
       "      <th>13</th>\n",
       "      <td>1002</td>\n",
       "      <td>9</td>\n",
       "      <td>206.0</td>\n",
       "      <td>36</td>\n",
       "      <td>4</td>\n",
       "      <td>17408.0</td>\n",
       "      <td>Стерлитамак</td>\n",
       "      <td>smart</td>\n",
       "    </tr>\n",
       "    <tr>\n",
       "      <th>14</th>\n",
       "      <td>1002</td>\n",
       "      <td>10</td>\n",
       "      <td>212.0</td>\n",
       "      <td>33</td>\n",
       "      <td>10</td>\n",
       "      <td>14336.0</td>\n",
       "      <td>Стерлитамак</td>\n",
       "      <td>smart</td>\n",
       "    </tr>\n",
       "  </tbody>\n",
       "</table>\n",
       "</div>"
      ],
      "text/plain": [
       "    user_id  month  sum_duration_call  count_call  count_messages   sum_mb  \\\n",
       "0      1000      5              159.0          22              22   3072.0   \n",
       "1      1000      6              172.0          43              60  23552.0   \n",
       "2      1000      7              340.0          47              75  14336.0   \n",
       "3      1000      8              408.0          52              81  14336.0   \n",
       "4      1000      9              466.0          58              57  15360.0   \n",
       "5      1000     10              350.0          57              73  15360.0   \n",
       "6      1000     11              338.0          43              58  15360.0   \n",
       "7      1000     12              333.0          46              70  10240.0   \n",
       "8      1001     11              430.0          59               0  18432.0   \n",
       "9      1001     12              414.0          63               0  14336.0   \n",
       "10     1002      6              117.0          15               4  11264.0   \n",
       "11     1002      7              214.0          26              11  18432.0   \n",
       "12     1002      8              289.0          42              13  20480.0   \n",
       "13     1002      9              206.0          36               4  17408.0   \n",
       "14     1002     10              212.0          33              10  14336.0   \n",
       "\n",
       "           city tariff_name  \n",
       "0     Краснодар       ultra  \n",
       "1     Краснодар       ultra  \n",
       "2     Краснодар       ultra  \n",
       "3     Краснодар       ultra  \n",
       "4     Краснодар       ultra  \n",
       "5     Краснодар       ultra  \n",
       "6     Краснодар       ultra  \n",
       "7     Краснодар       ultra  \n",
       "8        Москва       smart  \n",
       "9        Москва       smart  \n",
       "10  Стерлитамак       smart  \n",
       "11  Стерлитамак       smart  \n",
       "12  Стерлитамак       smart  \n",
       "13  Стерлитамак       smart  \n",
       "14  Стерлитамак       smart  "
      ]
     },
     "execution_count": 36,
     "metadata": {},
     "output_type": "execute_result"
    }
   ],
   "source": [
    "user_revenue = user_revenue.merge(users, on='user_id')\n",
    "user_revenue = user_revenue[['user_id','month','sum_duration_call','count_call','count_messages','sum_mb','city','tariff']]\n",
    "user_revenue.columns = ['user_id','month','sum_duration_call','count_call','count_messages','sum_mb','city','tariff_name']\n",
    "user_revenue.head(15)"
   ]
  },
  {
   "cell_type": "code",
   "execution_count": 37,
   "metadata": {},
   "outputs": [
    {
     "data": {
      "text/html": [
       "<div>\n",
       "<style scoped>\n",
       "    .dataframe tbody tr th:only-of-type {\n",
       "        vertical-align: middle;\n",
       "    }\n",
       "\n",
       "    .dataframe tbody tr th {\n",
       "        vertical-align: top;\n",
       "    }\n",
       "\n",
       "    .dataframe thead th {\n",
       "        text-align: right;\n",
       "    }\n",
       "</style>\n",
       "<table border=\"1\" class=\"dataframe\">\n",
       "  <thead>\n",
       "    <tr style=\"text-align: right;\">\n",
       "      <th></th>\n",
       "      <th>user_id</th>\n",
       "      <th>month</th>\n",
       "      <th>sum_duration_call</th>\n",
       "      <th>count_call</th>\n",
       "      <th>count_messages</th>\n",
       "      <th>sum_mb</th>\n",
       "      <th>city</th>\n",
       "      <th>tariff_name</th>\n",
       "      <th>messages_included</th>\n",
       "      <th>mb_per_month_included</th>\n",
       "      <th>minutes_included</th>\n",
       "      <th>rub_monthly_fee</th>\n",
       "      <th>rub_per_gb</th>\n",
       "      <th>rub_per_message</th>\n",
       "      <th>rub_per_minute</th>\n",
       "    </tr>\n",
       "  </thead>\n",
       "  <tbody>\n",
       "    <tr>\n",
       "      <th>0</th>\n",
       "      <td>1000</td>\n",
       "      <td>5</td>\n",
       "      <td>159.0</td>\n",
       "      <td>22</td>\n",
       "      <td>22</td>\n",
       "      <td>3072.0</td>\n",
       "      <td>Краснодар</td>\n",
       "      <td>ultra</td>\n",
       "      <td>1000</td>\n",
       "      <td>30720</td>\n",
       "      <td>3000</td>\n",
       "      <td>1950</td>\n",
       "      <td>150</td>\n",
       "      <td>1</td>\n",
       "      <td>1</td>\n",
       "    </tr>\n",
       "    <tr>\n",
       "      <th>1</th>\n",
       "      <td>1000</td>\n",
       "      <td>6</td>\n",
       "      <td>172.0</td>\n",
       "      <td>43</td>\n",
       "      <td>60</td>\n",
       "      <td>23552.0</td>\n",
       "      <td>Краснодар</td>\n",
       "      <td>ultra</td>\n",
       "      <td>1000</td>\n",
       "      <td>30720</td>\n",
       "      <td>3000</td>\n",
       "      <td>1950</td>\n",
       "      <td>150</td>\n",
       "      <td>1</td>\n",
       "      <td>1</td>\n",
       "    </tr>\n",
       "    <tr>\n",
       "      <th>2</th>\n",
       "      <td>1000</td>\n",
       "      <td>7</td>\n",
       "      <td>340.0</td>\n",
       "      <td>47</td>\n",
       "      <td>75</td>\n",
       "      <td>14336.0</td>\n",
       "      <td>Краснодар</td>\n",
       "      <td>ultra</td>\n",
       "      <td>1000</td>\n",
       "      <td>30720</td>\n",
       "      <td>3000</td>\n",
       "      <td>1950</td>\n",
       "      <td>150</td>\n",
       "      <td>1</td>\n",
       "      <td>1</td>\n",
       "    </tr>\n",
       "    <tr>\n",
       "      <th>3</th>\n",
       "      <td>1000</td>\n",
       "      <td>8</td>\n",
       "      <td>408.0</td>\n",
       "      <td>52</td>\n",
       "      <td>81</td>\n",
       "      <td>14336.0</td>\n",
       "      <td>Краснодар</td>\n",
       "      <td>ultra</td>\n",
       "      <td>1000</td>\n",
       "      <td>30720</td>\n",
       "      <td>3000</td>\n",
       "      <td>1950</td>\n",
       "      <td>150</td>\n",
       "      <td>1</td>\n",
       "      <td>1</td>\n",
       "    </tr>\n",
       "    <tr>\n",
       "      <th>4</th>\n",
       "      <td>1000</td>\n",
       "      <td>9</td>\n",
       "      <td>466.0</td>\n",
       "      <td>58</td>\n",
       "      <td>57</td>\n",
       "      <td>15360.0</td>\n",
       "      <td>Краснодар</td>\n",
       "      <td>ultra</td>\n",
       "      <td>1000</td>\n",
       "      <td>30720</td>\n",
       "      <td>3000</td>\n",
       "      <td>1950</td>\n",
       "      <td>150</td>\n",
       "      <td>1</td>\n",
       "      <td>1</td>\n",
       "    </tr>\n",
       "  </tbody>\n",
       "</table>\n",
       "</div>"
      ],
      "text/plain": [
       "   user_id  month  sum_duration_call  count_call  count_messages   sum_mb  \\\n",
       "0     1000      5              159.0          22              22   3072.0   \n",
       "1     1000      6              172.0          43              60  23552.0   \n",
       "2     1000      7              340.0          47              75  14336.0   \n",
       "3     1000      8              408.0          52              81  14336.0   \n",
       "4     1000      9              466.0          58              57  15360.0   \n",
       "\n",
       "        city tariff_name  messages_included  mb_per_month_included  \\\n",
       "0  Краснодар       ultra               1000                  30720   \n",
       "1  Краснодар       ultra               1000                  30720   \n",
       "2  Краснодар       ultra               1000                  30720   \n",
       "3  Краснодар       ultra               1000                  30720   \n",
       "4  Краснодар       ultra               1000                  30720   \n",
       "\n",
       "   minutes_included  rub_monthly_fee  rub_per_gb  rub_per_message  \\\n",
       "0              3000             1950         150                1   \n",
       "1              3000             1950         150                1   \n",
       "2              3000             1950         150                1   \n",
       "3              3000             1950         150                1   \n",
       "4              3000             1950         150                1   \n",
       "\n",
       "   rub_per_minute  \n",
       "0               1  \n",
       "1               1  \n",
       "2               1  \n",
       "3               1  \n",
       "4               1  "
      ]
     },
     "execution_count": 37,
     "metadata": {},
     "output_type": "execute_result"
    }
   ],
   "source": [
    "user_revenue = user_revenue.merge(tariffs, on='tariff_name', how='left')\n",
    "user_revenue = user_revenue[['user_id','month','sum_duration_call','count_call','count_messages','sum_mb','city','tariff_name', 'messages_included', 'mb_per_month_included', 'minutes_included', 'rub_monthly_fee', 'rub_per_gb', 'rub_per_message', 'rub_per_minute']]\n",
    "user_revenue.head()"
   ]
  },
  {
   "cell_type": "code",
   "execution_count": 38,
   "metadata": {},
   "outputs": [],
   "source": [
    "user_revenue['revenue'] = user_revenue['rub_monthly_fee']\n",
    "user_revenue.loc[user_revenue['sum_duration_call'] - user_revenue['minutes_included'] > 0, ['revenue']] = user_revenue['revenue'] + (user_revenue['sum_duration_call'] - user_revenue['minutes_included'])*user_revenue['rub_per_minute']\n",
    "user_revenue.loc[user_revenue['count_messages'] - user_revenue['messages_included'] > 0, ['revenue']] = user_revenue['revenue'] + (user_revenue['count_messages'] - user_revenue['messages_included'])*user_revenue['rub_per_message']\n",
    "user_revenue.loc[user_revenue['sum_mb'] - user_revenue['mb_per_month_included'] > 0, ['revenue']] = user_revenue['revenue'] + (user_revenue['sum_mb'] - user_revenue['mb_per_month_included'])*user_revenue['rub_per_gb']/1024"
   ]
  },
  {
   "cell_type": "code",
   "execution_count": 39,
   "metadata": {},
   "outputs": [
    {
     "data": {
      "text/html": [
       "<div>\n",
       "<style scoped>\n",
       "    .dataframe tbody tr th:only-of-type {\n",
       "        vertical-align: middle;\n",
       "    }\n",
       "\n",
       "    .dataframe tbody tr th {\n",
       "        vertical-align: top;\n",
       "    }\n",
       "\n",
       "    .dataframe thead th {\n",
       "        text-align: right;\n",
       "    }\n",
       "</style>\n",
       "<table border=\"1\" class=\"dataframe\">\n",
       "  <thead>\n",
       "    <tr style=\"text-align: right;\">\n",
       "      <th></th>\n",
       "      <th>user_id</th>\n",
       "      <th>month</th>\n",
       "      <th>sum_duration_call</th>\n",
       "      <th>count_call</th>\n",
       "      <th>count_messages</th>\n",
       "      <th>sum_mb</th>\n",
       "      <th>city</th>\n",
       "      <th>tariff_name</th>\n",
       "      <th>revenue</th>\n",
       "    </tr>\n",
       "  </thead>\n",
       "  <tbody>\n",
       "    <tr>\n",
       "      <th>0</th>\n",
       "      <td>1000</td>\n",
       "      <td>5</td>\n",
       "      <td>159.0</td>\n",
       "      <td>22</td>\n",
       "      <td>22</td>\n",
       "      <td>3072.0</td>\n",
       "      <td>Краснодар</td>\n",
       "      <td>ultra</td>\n",
       "      <td>1950.0</td>\n",
       "    </tr>\n",
       "    <tr>\n",
       "      <th>1</th>\n",
       "      <td>1000</td>\n",
       "      <td>6</td>\n",
       "      <td>172.0</td>\n",
       "      <td>43</td>\n",
       "      <td>60</td>\n",
       "      <td>23552.0</td>\n",
       "      <td>Краснодар</td>\n",
       "      <td>ultra</td>\n",
       "      <td>1950.0</td>\n",
       "    </tr>\n",
       "    <tr>\n",
       "      <th>2</th>\n",
       "      <td>1000</td>\n",
       "      <td>7</td>\n",
       "      <td>340.0</td>\n",
       "      <td>47</td>\n",
       "      <td>75</td>\n",
       "      <td>14336.0</td>\n",
       "      <td>Краснодар</td>\n",
       "      <td>ultra</td>\n",
       "      <td>1950.0</td>\n",
       "    </tr>\n",
       "    <tr>\n",
       "      <th>3</th>\n",
       "      <td>1000</td>\n",
       "      <td>8</td>\n",
       "      <td>408.0</td>\n",
       "      <td>52</td>\n",
       "      <td>81</td>\n",
       "      <td>14336.0</td>\n",
       "      <td>Краснодар</td>\n",
       "      <td>ultra</td>\n",
       "      <td>1950.0</td>\n",
       "    </tr>\n",
       "    <tr>\n",
       "      <th>4</th>\n",
       "      <td>1000</td>\n",
       "      <td>9</td>\n",
       "      <td>466.0</td>\n",
       "      <td>58</td>\n",
       "      <td>57</td>\n",
       "      <td>15360.0</td>\n",
       "      <td>Краснодар</td>\n",
       "      <td>ultra</td>\n",
       "      <td>1950.0</td>\n",
       "    </tr>\n",
       "    <tr>\n",
       "      <th>5</th>\n",
       "      <td>1000</td>\n",
       "      <td>10</td>\n",
       "      <td>350.0</td>\n",
       "      <td>57</td>\n",
       "      <td>73</td>\n",
       "      <td>15360.0</td>\n",
       "      <td>Краснодар</td>\n",
       "      <td>ultra</td>\n",
       "      <td>1950.0</td>\n",
       "    </tr>\n",
       "    <tr>\n",
       "      <th>6</th>\n",
       "      <td>1000</td>\n",
       "      <td>11</td>\n",
       "      <td>338.0</td>\n",
       "      <td>43</td>\n",
       "      <td>58</td>\n",
       "      <td>15360.0</td>\n",
       "      <td>Краснодар</td>\n",
       "      <td>ultra</td>\n",
       "      <td>1950.0</td>\n",
       "    </tr>\n",
       "    <tr>\n",
       "      <th>7</th>\n",
       "      <td>1000</td>\n",
       "      <td>12</td>\n",
       "      <td>333.0</td>\n",
       "      <td>46</td>\n",
       "      <td>70</td>\n",
       "      <td>10240.0</td>\n",
       "      <td>Краснодар</td>\n",
       "      <td>ultra</td>\n",
       "      <td>1950.0</td>\n",
       "    </tr>\n",
       "    <tr>\n",
       "      <th>8</th>\n",
       "      <td>1001</td>\n",
       "      <td>11</td>\n",
       "      <td>430.0</td>\n",
       "      <td>59</td>\n",
       "      <td>0</td>\n",
       "      <td>18432.0</td>\n",
       "      <td>Москва</td>\n",
       "      <td>smart</td>\n",
       "      <td>1150.0</td>\n",
       "    </tr>\n",
       "    <tr>\n",
       "      <th>9</th>\n",
       "      <td>1001</td>\n",
       "      <td>12</td>\n",
       "      <td>414.0</td>\n",
       "      <td>63</td>\n",
       "      <td>0</td>\n",
       "      <td>14336.0</td>\n",
       "      <td>Москва</td>\n",
       "      <td>smart</td>\n",
       "      <td>550.0</td>\n",
       "    </tr>\n",
       "    <tr>\n",
       "      <th>10</th>\n",
       "      <td>1002</td>\n",
       "      <td>6</td>\n",
       "      <td>117.0</td>\n",
       "      <td>15</td>\n",
       "      <td>4</td>\n",
       "      <td>11264.0</td>\n",
       "      <td>Стерлитамак</td>\n",
       "      <td>smart</td>\n",
       "      <td>550.0</td>\n",
       "    </tr>\n",
       "    <tr>\n",
       "      <th>11</th>\n",
       "      <td>1002</td>\n",
       "      <td>7</td>\n",
       "      <td>214.0</td>\n",
       "      <td>26</td>\n",
       "      <td>11</td>\n",
       "      <td>18432.0</td>\n",
       "      <td>Стерлитамак</td>\n",
       "      <td>smart</td>\n",
       "      <td>1150.0</td>\n",
       "    </tr>\n",
       "    <tr>\n",
       "      <th>12</th>\n",
       "      <td>1002</td>\n",
       "      <td>8</td>\n",
       "      <td>289.0</td>\n",
       "      <td>42</td>\n",
       "      <td>13</td>\n",
       "      <td>20480.0</td>\n",
       "      <td>Стерлитамак</td>\n",
       "      <td>smart</td>\n",
       "      <td>1550.0</td>\n",
       "    </tr>\n",
       "    <tr>\n",
       "      <th>13</th>\n",
       "      <td>1002</td>\n",
       "      <td>9</td>\n",
       "      <td>206.0</td>\n",
       "      <td>36</td>\n",
       "      <td>4</td>\n",
       "      <td>17408.0</td>\n",
       "      <td>Стерлитамак</td>\n",
       "      <td>smart</td>\n",
       "      <td>950.0</td>\n",
       "    </tr>\n",
       "    <tr>\n",
       "      <th>14</th>\n",
       "      <td>1002</td>\n",
       "      <td>10</td>\n",
       "      <td>212.0</td>\n",
       "      <td>33</td>\n",
       "      <td>10</td>\n",
       "      <td>14336.0</td>\n",
       "      <td>Стерлитамак</td>\n",
       "      <td>smart</td>\n",
       "      <td>550.0</td>\n",
       "    </tr>\n",
       "  </tbody>\n",
       "</table>\n",
       "</div>"
      ],
      "text/plain": [
       "    user_id  month  sum_duration_call  count_call  count_messages   sum_mb  \\\n",
       "0      1000      5              159.0          22              22   3072.0   \n",
       "1      1000      6              172.0          43              60  23552.0   \n",
       "2      1000      7              340.0          47              75  14336.0   \n",
       "3      1000      8              408.0          52              81  14336.0   \n",
       "4      1000      9              466.0          58              57  15360.0   \n",
       "5      1000     10              350.0          57              73  15360.0   \n",
       "6      1000     11              338.0          43              58  15360.0   \n",
       "7      1000     12              333.0          46              70  10240.0   \n",
       "8      1001     11              430.0          59               0  18432.0   \n",
       "9      1001     12              414.0          63               0  14336.0   \n",
       "10     1002      6              117.0          15               4  11264.0   \n",
       "11     1002      7              214.0          26              11  18432.0   \n",
       "12     1002      8              289.0          42              13  20480.0   \n",
       "13     1002      9              206.0          36               4  17408.0   \n",
       "14     1002     10              212.0          33              10  14336.0   \n",
       "\n",
       "           city tariff_name  revenue  \n",
       "0     Краснодар       ultra   1950.0  \n",
       "1     Краснодар       ultra   1950.0  \n",
       "2     Краснодар       ultra   1950.0  \n",
       "3     Краснодар       ultra   1950.0  \n",
       "4     Краснодар       ultra   1950.0  \n",
       "5     Краснодар       ultra   1950.0  \n",
       "6     Краснодар       ultra   1950.0  \n",
       "7     Краснодар       ultra   1950.0  \n",
       "8        Москва       smart   1150.0  \n",
       "9        Москва       smart    550.0  \n",
       "10  Стерлитамак       smart    550.0  \n",
       "11  Стерлитамак       smart   1150.0  \n",
       "12  Стерлитамак       smart   1550.0  \n",
       "13  Стерлитамак       smart    950.0  \n",
       "14  Стерлитамак       smart    550.0  "
      ]
     },
     "execution_count": 39,
     "metadata": {},
     "output_type": "execute_result"
    }
   ],
   "source": [
    "user_revenue = user_revenue[['user_id','month','sum_duration_call','count_call','count_messages','sum_mb','city','tariff_name', 'revenue']]\n",
    "user_revenue.head(15)"
   ]
  },
  {
   "cell_type": "markdown",
   "metadata": {},
   "source": [
    "Дополнительные данные рассчитаны."
   ]
  },
  {
   "cell_type": "markdown",
   "metadata": {},
   "source": [
    "## Анализ данных"
   ]
  },
  {
   "cell_type": "markdown",
   "metadata": {},
   "source": [
    "Опишем поведение клиентов оператора исходя из выборки. Рассчитаем сколько минут разговора, сколько сообщений и какой объём интернет-трафика требуется пользователям каждого тарифа в месяц. Посчитаем среднее количество, дисперсию и стандартное отклонение. Построим гистограммы. Опишем распределения."
   ]
  },
  {
   "cell_type": "markdown",
   "metadata": {},
   "source": [
    "### Тариф ULTRA"
   ]
  },
  {
   "cell_type": "markdown",
   "metadata": {},
   "source": [
    "#### Месяная длительность звонков"
   ]
  },
  {
   "cell_type": "code",
   "execution_count": 40,
   "metadata": {},
   "outputs": [
    {
     "data": {
      "text/plain": [
       "count     985.000000\n",
       "mean      526.623350\n",
       "std       317.606098\n",
       "min         0.000000\n",
       "25%       284.000000\n",
       "50%       518.000000\n",
       "75%       752.000000\n",
       "max      1673.000000\n",
       "Name: sum_duration_call, dtype: float64"
      ]
     },
     "execution_count": 40,
     "metadata": {},
     "output_type": "execute_result"
    }
   ],
   "source": [
    "user_revenue[user_revenue['tariff_name'] =='ultra']['sum_duration_call'].describe()"
   ]
  },
  {
   "cell_type": "code",
   "execution_count": 41,
   "metadata": {},
   "outputs": [
    {
     "data": {
      "text/plain": [
       "100771.2236172022"
      ]
     },
     "execution_count": 41,
     "metadata": {},
     "output_type": "execute_result"
    }
   ],
   "source": [
    "np.var(user_revenue[user_revenue['tariff_name'] =='ultra']['sum_duration_call'])"
   ]
  },
  {
   "cell_type": "code",
   "execution_count": 42,
   "metadata": {},
   "outputs": [
    {
     "data": {
      "text/plain": [
       "<AxesSubplot:>"
      ]
     },
     "execution_count": 42,
     "metadata": {},
     "output_type": "execute_result"
    },
    {
     "data": {
      "image/png": "[encoded data removed]",
      "text/plain": [
       "<Figure size 432x288 with 1 Axes>"
      ]
     },
     "metadata": {
      "needs_background": "light"
     },
     "output_type": "display_data"
    }
   ],
   "source": [
    "user_revenue[user_revenue['tariff_name'] =='ultra']['sum_duration_call'].hist(bins=40)"
   ]
  },
  {
   "cell_type": "code",
   "execution_count": 43,
   "metadata": {},
   "outputs": [
    {
     "data": {
      "text/plain": [
       "<AxesSubplot:>"
      ]
     },
     "execution_count": 43,
     "metadata": {},
     "output_type": "execute_result"
    },
    {
     "data": {
      "image/png": "[encoded data removed]",
      "text/plain": [
       "<Figure size 432x288 with 1 Axes>"
      ]
     },
     "metadata": {
      "needs_background": "light"
     },
     "output_type": "display_data"
    }
   ],
   "source": [
    "user_revenue[user_revenue['tariff_name'] =='ultra']['sum_duration_call'].hist(bins=40, range=(1, 1578.06))"
   ]
  },
  {
   "cell_type": "markdown",
   "metadata": {},
   "source": [
    "В среднем пользователи тарифа говорят 526 минут в месяц. Гистограмма показывает что существует довольно большое количество пользователей которые не пользуются услугами связи целый месяц. При этом, в пакете тарифа предусмотрено 3000 минут, однако, ни один из пользователей не использовал его полностью, максимальное время составило 1673 минут в месяц, скорее всего количество минут предусмотренных тарифом избыточно."
   ]
  },
  {
   "cell_type": "markdown",
   "metadata": {},
   "source": [
    "#### Месяное количество сообщений"
   ]
  },
  {
   "cell_type": "code",
   "execution_count": 44,
   "metadata": {},
   "outputs": [
    {
     "data": {
      "text/plain": [
       "count    985.000000\n",
       "mean      49.363452\n",
       "std       47.804457\n",
       "min        0.000000\n",
       "25%        6.000000\n",
       "50%       38.000000\n",
       "75%       79.000000\n",
       "max      224.000000\n",
       "Name: count_messages, dtype: float64"
      ]
     },
     "execution_count": 44,
     "metadata": {},
     "output_type": "execute_result"
    }
   ],
   "source": [
    "user_revenue[user_revenue['tariff_name'] =='ultra']['count_messages'].describe()"
   ]
  },
  {
   "cell_type": "code",
   "execution_count": 45,
   "metadata": {},
   "outputs": [
    {
     "data": {
      "text/plain": [
       "2282.9460753948824"
      ]
     },
     "execution_count": 45,
     "metadata": {},
     "output_type": "execute_result"
    }
   ],
   "source": [
    "np.var(user_revenue[user_revenue['tariff_name'] =='ultra']['count_messages'])"
   ]
  },
  {
   "cell_type": "code",
   "execution_count": 46,
   "metadata": {},
   "outputs": [
    {
     "data": {
      "text/plain": [
       "<AxesSubplot:>"
      ]
     },
     "execution_count": 46,
     "metadata": {},
     "output_type": "execute_result"
    },
    {
     "data": {
      "image/png": "[encoded data removed]",
      "text/plain": [
       "<Figure size 432x288 with 1 Axes>"
      ]
     },
     "metadata": {
      "needs_background": "light"
     },
     "output_type": "display_data"
    }
   ],
   "source": [
    "user_revenue[user_revenue['tariff_name'] =='ultra']['count_messages'].hist(bins=30)"
   ]
  },
  {
   "cell_type": "code",
   "execution_count": 47,
   "metadata": {},
   "outputs": [
    {
     "data": {
      "text/plain": [
       "<AxesSubplot:>"
      ]
     },
     "execution_count": 47,
     "metadata": {},
     "output_type": "execute_result"
    },
    {
     "data": {
      "image/png": "[encoded data removed]",
      "text/plain": [
       "<Figure size 432x288 with 1 Axes>"
      ]
     },
     "metadata": {
      "needs_background": "light"
     },
     "output_type": "display_data"
    }
   ],
   "source": [
    "user_revenue[user_revenue['tariff_name'] =='ultra']['count_messages'].hist(bins=20, range=(1, 224))"
   ]
  },
  {
   "cell_type": "markdown",
   "metadata": {},
   "source": [
    "В среднем пользователи тарифа отправляют 49 сообщений в месяц. Гистограмма показывает что существует довольно большое количество пользователей которые не отправляют сообщения целый месяц. При этом, в пакете тарифа предусмотрено 1000 сообщений, однако, ни один из пользователей не использовал его полностью, максимальное количество составило 224 сообщения в месяц, скорее всего количество сообщений предусмотренных тарифом избыточно. Гистограмма стремится к распределению Пуассона."
   ]
  },
  {
   "cell_type": "markdown",
   "metadata": {},
   "source": [
    "#### Месяный объем интернет-трафика"
   ]
  },
  {
   "cell_type": "code",
   "execution_count": 48,
   "metadata": {},
   "outputs": [
    {
     "data": {
      "text/plain": [
       "count      985.000000\n",
       "mean     19962.282234\n",
       "std      10089.995640\n",
       "min          0.000000\n",
       "25%      12288.000000\n",
       "50%      19456.000000\n",
       "75%      27648.000000\n",
       "max      50176.000000\n",
       "Name: sum_mb, dtype: float64"
      ]
     },
     "execution_count": 48,
     "metadata": {},
     "output_type": "execute_result"
    }
   ],
   "source": [
    "user_revenue[user_revenue['tariff_name'] =='ultra']['sum_mb'].describe()"
   ]
  },
  {
   "cell_type": "code",
   "execution_count": 49,
   "metadata": {},
   "outputs": [
    {
     "data": {
      "text/plain": [
       "101704653.63404985"
      ]
     },
     "execution_count": 49,
     "metadata": {},
     "output_type": "execute_result"
    }
   ],
   "source": [
    "np.var(user_revenue[user_revenue['tariff_name'] =='ultra']['sum_mb'])"
   ]
  },
  {
   "cell_type": "code",
   "execution_count": 50,
   "metadata": {},
   "outputs": [
    {
     "data": {
      "text/plain": [
       "<AxesSubplot:>"
      ]
     },
     "execution_count": 50,
     "metadata": {},
     "output_type": "execute_result"
    },
    {
     "data": {
      "image/png": "[encoded data removed]",
      "text/plain": [
       "<Figure size 432x288 with 1 Axes>"
      ]
     },
     "metadata": {
      "needs_background": "light"
     },
     "output_type": "display_data"
    }
   ],
   "source": [
    "user_revenue[user_revenue['tariff_name'] =='ultra']['sum_mb'].hist(bins=10)"
   ]
  },
  {
   "cell_type": "markdown",
   "metadata": {},
   "source": [
    "В среднем пользователи тарифа используют 19962 Мб трафика в месяц. В пакете тарифа предусмотрено 30720 Мб трафика, и исходя из гистограммы можно сказать что более чем 75% пользователей такой объем устраивает."
   ]
  },
  {
   "cell_type": "markdown",
   "metadata": {},
   "source": [
    "Вывод:\n",
    "\n",
    "Исходя из анализа использования тарифа пользователями можно сделать вывод что тариф ULTRA используется из-за большого количества интернет-трафика в нём, предоставленный пакет трафика используется полностью, а вот сообщения и звонки остаются не востребованными и объем пакетов предусмотренных тарифом завышен."
   ]
  },
  {
   "cell_type": "markdown",
   "metadata": {},
   "source": [
    "### Тариф SMART"
   ]
  },
  {
   "cell_type": "markdown",
   "metadata": {},
   "source": [
    "#### Месяная длительность звонков"
   ]
  },
  {
   "cell_type": "code",
   "execution_count": 51,
   "metadata": {},
   "outputs": [
    {
     "data": {
      "text/plain": [
       "count    2229.000000\n",
       "mean      417.934948\n",
       "std       190.313730\n",
       "min         0.000000\n",
       "25%       282.000000\n",
       "50%       422.000000\n",
       "75%       545.000000\n",
       "max      1435.000000\n",
       "Name: sum_duration_call, dtype: float64"
      ]
     },
     "execution_count": 51,
     "metadata": {},
     "output_type": "execute_result"
    }
   ],
   "source": [
    "user_revenue[user_revenue['tariff_name'] =='smart']['sum_duration_call'].describe()"
   ]
  },
  {
   "cell_type": "code",
   "execution_count": 52,
   "metadata": {},
   "outputs": [
    {
     "data": {
      "text/plain": [
       "36203.06665209469"
      ]
     },
     "execution_count": 52,
     "metadata": {},
     "output_type": "execute_result"
    }
   ],
   "source": [
    "np.var(user_revenue[user_revenue['tariff_name']=='smart']['sum_duration_call'])"
   ]
  },
  {
   "cell_type": "code",
   "execution_count": 53,
   "metadata": {},
   "outputs": [
    {
     "data": {
      "text/plain": [
       "<AxesSubplot:>"
      ]
     },
     "execution_count": 53,
     "metadata": {},
     "output_type": "execute_result"
    },
    {
     "data": {
      "image/png": "[encoded data removed]",
      "text/plain": [
       "<Figure size 432x288 with 1 Axes>"
      ]
     },
     "metadata": {
      "needs_background": "light"
     },
     "output_type": "display_data"
    }
   ],
   "source": [
    "user_revenue[user_revenue['tariff_name']=='smart']['sum_duration_call'].hist(bins=40)"
   ]
  },
  {
   "cell_type": "markdown",
   "metadata": {},
   "source": [
    "В среднем пользователи тарифа говорят 418 минут в месяц. При этом количество пользователей не использующих услуги связи не велико."
   ]
  },
  {
   "cell_type": "markdown",
   "metadata": {},
   "source": [
    "#### Месяное количество сообщений"
   ]
  },
  {
   "cell_type": "code",
   "execution_count": 54,
   "metadata": {},
   "outputs": [
    {
     "data": {
      "text/plain": [
       "count    2229.000000\n",
       "mean       33.384029\n",
       "std        28.227876\n",
       "min         0.000000\n",
       "25%        10.000000\n",
       "50%        28.000000\n",
       "75%        51.000000\n",
       "max       143.000000\n",
       "Name: count_messages, dtype: float64"
      ]
     },
     "execution_count": 54,
     "metadata": {},
     "output_type": "execute_result"
    }
   ],
   "source": [
    "user_revenue[user_revenue['tariff_name'] =='smart']['count_messages'].describe()"
   ]
  },
  {
   "cell_type": "code",
   "execution_count": 55,
   "metadata": {},
   "outputs": [
    {
     "data": {
      "text/plain": [
       "796.455482917076"
      ]
     },
     "execution_count": 55,
     "metadata": {},
     "output_type": "execute_result"
    }
   ],
   "source": [
    "np.var(user_revenue[user_revenue['tariff_name'] =='smart']['count_messages'])"
   ]
  },
  {
   "cell_type": "code",
   "execution_count": 56,
   "metadata": {},
   "outputs": [
    {
     "data": {
      "text/plain": [
       "<AxesSubplot:>"
      ]
     },
     "execution_count": 56,
     "metadata": {},
     "output_type": "execute_result"
    },
    {
     "data": {
      "image/png": "[encoded data removed]",
      "text/plain": [
       "<Figure size 432x288 with 1 Axes>"
      ]
     },
     "metadata": {
      "needs_background": "light"
     },
     "output_type": "display_data"
    }
   ],
   "source": [
    "user_revenue[user_revenue['tariff_name'] =='smart']['count_messages'].hist(bins=50)"
   ]
  },
  {
   "cell_type": "code",
   "execution_count": 57,
   "metadata": {},
   "outputs": [
    {
     "data": {
      "text/plain": [
       "<AxesSubplot:>"
      ]
     },
     "execution_count": 57,
     "metadata": {},
     "output_type": "execute_result"
    },
    {
     "data": {
      "image/png": "[encoded data removed]",
      "text/plain": [
       "<Figure size 432x288 with 1 Axes>"
      ]
     },
     "metadata": {
      "needs_background": "light"
     },
     "output_type": "display_data"
    }
   ],
   "source": [
    "user_revenue[user_revenue['tariff_name'] =='smart']['count_messages'].hist(bins=30, range=(1, 143))"
   ]
  },
  {
   "cell_type": "markdown",
   "metadata": {},
   "source": [
    "В среднем пользователи тарифа отправляют 33 сообщения в месяц. Гистограмма показывает что существует довольно большое количество пользователей которые не отправляют сообщения целый месяц. При этом, в пакете тарифа предусмотрено 50 сообщений, и такого объема хватает 75% пользователей. Гистограмма стремится к распределению Пуассона."
   ]
  },
  {
   "cell_type": "markdown",
   "metadata": {},
   "source": [
    "#### Месяный объем интернет-трафика"
   ]
  },
  {
   "cell_type": "code",
   "execution_count": 58,
   "metadata": {},
   "outputs": [
    {
     "data": {
      "text/plain": [
       "count     2229.000000\n",
       "mean     16720.739345\n",
       "std       5884.990022\n",
       "min          0.000000\n",
       "25%      13312.000000\n",
       "50%      17408.000000\n",
       "75%      20480.000000\n",
       "max      38912.000000\n",
       "Name: sum_mb, dtype: float64"
      ]
     },
     "execution_count": 58,
     "metadata": {},
     "output_type": "execute_result"
    }
   ],
   "source": [
    "user_revenue[user_revenue['tariff_name'] =='smart']['sum_mb'].describe()"
   ]
  },
  {
   "cell_type": "code",
   "execution_count": 59,
   "metadata": {},
   "outputs": [
    {
     "data": {
      "text/plain": [
       "34617570.05184363"
      ]
     },
     "execution_count": 59,
     "metadata": {},
     "output_type": "execute_result"
    }
   ],
   "source": [
    "np.var(user_revenue[user_revenue['tariff_name'] =='smart']['sum_mb'])"
   ]
  },
  {
   "cell_type": "code",
   "execution_count": 60,
   "metadata": {},
   "outputs": [
    {
     "data": {
      "text/plain": [
       "<AxesSubplot:>"
      ]
     },
     "execution_count": 60,
     "metadata": {},
     "output_type": "execute_result"
    },
    {
     "data": {
      "image/png": "[encoded data removed]",
      "text/plain": [
       "<Figure size 432x288 with 1 Axes>"
      ]
     },
     "metadata": {
      "needs_background": "light"
     },
     "output_type": "display_data"
    }
   ],
   "source": [
    "user_revenue[user_revenue['tariff_name'] =='smart']['sum_mb'].hist(bins=15)"
   ]
  },
  {
   "cell_type": "markdown",
   "metadata": {},
   "source": [
    "В среднем пользователи тарифа используют 16720 Мб трафика в месяц. В пакете тарифа предусмотрено 15360 Мб трафика, и исходя из гистограммы можно сказать что почти половину пользователей такой объем устраивает."
   ]
  },
  {
   "cell_type": "markdown",
   "metadata": {},
   "source": [
    "Вывод:\n",
    "\n",
    "Исходя из анализа использования тарифа пользователями можно сделать вывод что тариф SMART используется не только для использования интернет-трафика, но и для связи и звонков."
   ]
  },
  {
   "cell_type": "code",
   "execution_count": 61,
   "metadata": {},
   "outputs": [
    {
     "data": {
      "text/html": [
       "<div>\n",
       "<style scoped>\n",
       "    .dataframe tbody tr th:only-of-type {\n",
       "        vertical-align: middle;\n",
       "    }\n",
       "\n",
       "    .dataframe tbody tr th {\n",
       "        vertical-align: top;\n",
       "    }\n",
       "\n",
       "    .dataframe thead tr th {\n",
       "        text-align: left;\n",
       "    }\n",
       "\n",
       "    .dataframe thead tr:last-of-type th {\n",
       "        text-align: right;\n",
       "    }\n",
       "</style>\n",
       "<table border=\"1\" class=\"dataframe\">\n",
       "  <thead>\n",
       "    <tr>\n",
       "      <th></th>\n",
       "      <th colspan=\"3\" halign=\"left\">var</th>\n",
       "      <th colspan=\"3\" halign=\"left\">std</th>\n",
       "      <th colspan=\"3\" halign=\"left\">mean</th>\n",
       "    </tr>\n",
       "    <tr>\n",
       "      <th></th>\n",
       "      <th>count_messages</th>\n",
       "      <th>sum_duration_call</th>\n",
       "      <th>sum_mb</th>\n",
       "      <th>count_messages</th>\n",
       "      <th>sum_duration_call</th>\n",
       "      <th>sum_mb</th>\n",
       "      <th>count_messages</th>\n",
       "      <th>sum_duration_call</th>\n",
       "      <th>sum_mb</th>\n",
       "    </tr>\n",
       "    <tr>\n",
       "      <th>tariff_name</th>\n",
       "      <th></th>\n",
       "      <th></th>\n",
       "      <th></th>\n",
       "      <th></th>\n",
       "      <th></th>\n",
       "      <th></th>\n",
       "      <th></th>\n",
       "      <th></th>\n",
       "      <th></th>\n",
       "    </tr>\n",
       "  </thead>\n",
       "  <tbody>\n",
       "    <tr>\n",
       "      <th>smart</th>\n",
       "      <td>796.812958</td>\n",
       "      <td>36219.315784</td>\n",
       "      <td>3.463311e+07</td>\n",
       "      <td>28.227876</td>\n",
       "      <td>190.313730</td>\n",
       "      <td>5884.990022</td>\n",
       "      <td>33.384029</td>\n",
       "      <td>417.934948</td>\n",
       "      <td>16720.739345</td>\n",
       "    </tr>\n",
       "    <tr>\n",
       "      <th>ultra</th>\n",
       "      <td>2285.266143</td>\n",
       "      <td>100873.633397</td>\n",
       "      <td>1.018080e+08</td>\n",
       "      <td>47.804457</td>\n",
       "      <td>317.606098</td>\n",
       "      <td>10089.995640</td>\n",
       "      <td>49.363452</td>\n",
       "      <td>526.623350</td>\n",
       "      <td>19962.282234</td>\n",
       "    </tr>\n",
       "  </tbody>\n",
       "</table>\n",
       "</div>"
      ],
      "text/plain": [
       "                       var                                            std  \\\n",
       "            count_messages sum_duration_call        sum_mb count_messages   \n",
       "tariff_name                                                                 \n",
       "smart           796.812958      36219.315784  3.463311e+07      28.227876   \n",
       "ultra          2285.266143     100873.633397  1.018080e+08      47.804457   \n",
       "\n",
       "                                                      mean                    \\\n",
       "            sum_duration_call        sum_mb count_messages sum_duration_call   \n",
       "tariff_name                                                                    \n",
       "smart              190.313730   5884.990022      33.384029        417.934948   \n",
       "ultra              317.606098  10089.995640      49.363452        526.623350   \n",
       "\n",
       "                           \n",
       "                   sum_mb  \n",
       "tariff_name                \n",
       "smart        16720.739345  \n",
       "ultra        19962.282234  "
      ]
     },
     "execution_count": 61,
     "metadata": {},
     "output_type": "execute_result"
    }
   ],
   "source": [
    "# код ревьюера\n",
    "user_revenue.pivot_table(index = 'tariff_name', values = ['sum_duration_call', 'sum_mb', 'count_messages'],\n",
    "                            aggfunc = ['var', 'std', 'mean'])"
   ]
  },
  {
   "cell_type": "markdown",
   "metadata": {},
   "source": [
    "## Проверка гипотез"
   ]
  },
  {
   "cell_type": "markdown",
   "metadata": {},
   "source": [
    "### Средняя выручка пользователей тарифов «Ультра» и «Смарт» одинаковы"
   ]
  },
  {
   "cell_type": "markdown",
   "metadata": {},
   "source": [
    "Выдвинем гипотезу, что средняя выручка пользователей тарифов «Ультра» и «Смарт» одинаковы и проверим её:"
   ]
  },
  {
   "cell_type": "markdown",
   "metadata": {},
   "source": [
    "Н0 - гипотеза о том, что средняя выручка пользователей тарифов «Ультра» и «Смарт» одинаковы;\n",
    "\n",
    "H1 - гипотеза о том, что средняя выручка пользователей тарифов «Ультра» и «Смарт» разные."
   ]
  },
  {
   "cell_type": "code",
   "execution_count": 62,
   "metadata": {},
   "outputs": [
    {
     "data": {
      "text/plain": [
       "count     985.000000\n",
       "mean     2070.152284\n",
       "std       376.187114\n",
       "min      1950.000000\n",
       "25%      1950.000000\n",
       "50%      1950.000000\n",
       "75%      1950.000000\n",
       "max      4800.000000\n",
       "Name: revenue, dtype: float64"
      ]
     },
     "execution_count": 62,
     "metadata": {},
     "output_type": "execute_result"
    }
   ],
   "source": [
    "user_revenue[user_revenue['tariff_name'] == 'ultra']['revenue'].describe()"
   ]
  },
  {
   "cell_type": "code",
   "execution_count": 63,
   "metadata": {},
   "outputs": [
    {
     "data": {
      "text/plain": [
       "count    2229.000000\n",
       "mean     1289.973531\n",
       "std       818.404367\n",
       "min       550.000000\n",
       "25%       550.000000\n",
       "50%      1023.000000\n",
       "75%      1750.000000\n",
       "max      6770.000000\n",
       "Name: revenue, dtype: float64"
      ]
     },
     "execution_count": 63,
     "metadata": {},
     "output_type": "execute_result"
    }
   ],
   "source": [
    "user_revenue[user_revenue['tariff_name'] == 'smart']['revenue'].describe()"
   ]
  },
  {
   "cell_type": "code",
   "execution_count": 64,
   "metadata": {},
   "outputs": [],
   "source": [
    "alpha = .05 # критический уровень статистической значимости\n",
    "# если p-value окажется меньше него - отвегнем гипотезу"
   ]
  },
  {
   "cell_type": "code",
   "execution_count": 65,
   "metadata": {},
   "outputs": [],
   "source": [
    "results = st.ttest_ind(\n",
    "    user_revenue[user_revenue['tariff_name'] == 'ultra']['revenue'], \n",
    "    user_revenue[user_revenue['tariff_name'] == 'smart']['revenue'],\n",
    "    equal_var = False)"
   ]
  },
  {
   "cell_type": "code",
   "execution_count": 66,
   "metadata": {},
   "outputs": [
    {
     "name": "stdout",
     "output_type": "stream",
     "text": [
      "p-значение: 4.2606313931076085e-250\n",
      "Отвергаем нулевую гипотезу\n"
     ]
    }
   ],
   "source": [
    "print('p-значение:', results.pvalue)\n",
    "\n",
    "if results.pvalue < alpha:\n",
    "    print(\"Отвергаем нулевую гипотезу\")\n",
    "else:\n",
    "    print(\"Не получилось отвергнуть нулевую гипотезу\")"
   ]
  },
  {
   "cell_type": "markdown",
   "metadata": {},
   "source": [
    "Гипотезу о том, что средняя выручка пользователей на двух разных тарифах одинакова отвергаем в пользу альтернативной."
   ]
  },
  {
   "cell_type": "markdown",
   "metadata": {},
   "source": [
    "### Средняя выручка пользователей из Москвы не отличается от выручки пользователей из других регионов"
   ]
  },
  {
   "cell_type": "markdown",
   "metadata": {},
   "source": [
    "Выдвинем гипотезу, что средняя выручка пользователей из Москвы не отличается от выручки пользователей из других регионов и проверим её:\n",
    "\n",
    "Н0 - гипотеза о том, что средняя выручка пользователей из Москвы и из других регионов одинаковы;\n",
    "\n",
    "H1 - гипотеза о том, что средняя выручка пользователей из Москвы и из других регионов разные."
   ]
  },
  {
   "cell_type": "code",
   "execution_count": 67,
   "metadata": {},
   "outputs": [
    {
     "data": {
      "text/plain": [
       "count     611.000000\n",
       "mean     1546.713584\n",
       "std       752.088071\n",
       "min       550.000000\n",
       "25%       780.500000\n",
       "50%      1750.000000\n",
       "75%      1950.000000\n",
       "max      5321.000000\n",
       "Name: revenue, dtype: float64"
      ]
     },
     "execution_count": 67,
     "metadata": {},
     "output_type": "execute_result"
    }
   ],
   "source": [
    "user_revenue[user_revenue['city'] == 'Москва']['revenue'].describe()"
   ]
  },
  {
   "cell_type": "code",
   "execution_count": 68,
   "metadata": {},
   "outputs": [
    {
     "data": {
      "text/plain": [
       "count    2603.000000\n",
       "mean     1524.936227\n",
       "std       808.787752\n",
       "min       550.000000\n",
       "25%       750.000000\n",
       "50%      1583.000000\n",
       "75%      1950.000000\n",
       "max      6770.000000\n",
       "Name: revenue, dtype: float64"
      ]
     },
     "execution_count": 68,
     "metadata": {},
     "output_type": "execute_result"
    }
   ],
   "source": [
    "user_revenue[user_revenue['city'] != 'Москва']['revenue'].describe()"
   ]
  },
  {
   "cell_type": "code",
   "execution_count": 69,
   "metadata": {},
   "outputs": [],
   "source": [
    "results = st.ttest_ind(\n",
    "    user_revenue[user_revenue['city'] == 'Москва']['revenue'], \n",
    "    user_revenue[user_revenue['city'] != 'Москва']['revenue'])"
   ]
  },
  {
   "cell_type": "code",
   "execution_count": 70,
   "metadata": {},
   "outputs": [
    {
     "name": "stdout",
     "output_type": "stream",
     "text": [
      "p-значение: 0.5440152911670224\n",
      "Не получилось отвергнуть нулевую гипотезу\n"
     ]
    }
   ],
   "source": [
    "print('p-значение:', results.pvalue)\n",
    "\n",
    "if results.pvalue < alpha:\n",
    "    print(\"Отвергаем нулевую гипотезу\")\n",
    "else:\n",
    "    print(\"Не получилось отвергнуть нулевую гипотезу\")"
   ]
  },
  {
   "cell_type": "markdown",
   "metadata": {},
   "source": [
    "Нулевую гипотезу о том, что средняя выручка в Москве и других городах одинаковая отвергнуть не получилось."
   ]
  },
  {
   "cell_type": "markdown",
   "metadata": {},
   "source": [
    "### Средняя выручка пользователей тарифа «Ультра» выше тарифа «Смарт»"
   ]
  },
  {
   "cell_type": "markdown",
   "metadata": {},
   "source": [
    "Н0 - гипотеза о том, что средняя выручка пользователей тарифа «Ультра» не отличается от тарифа «Смарт»;\n",
    "\n",
    "H1 - гипотеза о том, что средняя выручка пользователей тарифа «Ультра» выше тарифа «Смарт»."
   ]
  },
  {
   "cell_type": "code",
   "execution_count": 71,
   "metadata": {},
   "outputs": [],
   "source": [
    "alpha = .05 # критический уровень статистической значимости"
   ]
  },
  {
   "cell_type": "code",
   "execution_count": 72,
   "metadata": {},
   "outputs": [],
   "source": [
    "mean_ultra = user_revenue[user_revenue['tariff_name'] == 'ultra']['revenue'].mean()"
   ]
  },
  {
   "cell_type": "code",
   "execution_count": 73,
   "metadata": {},
   "outputs": [],
   "source": [
    "results = st.ttest_1samp(\n",
    "    user_revenue[user_revenue['tariff_name'] == 'smart']['revenue'], \n",
    "    mean_ultra)"
   ]
  },
  {
   "cell_type": "code",
   "execution_count": 74,
   "metadata": {},
   "outputs": [
    {
     "name": "stdout",
     "output_type": "stream",
     "text": [
      "p-значение: 1.681759983e-315\n",
      "Отвергаем нулевую гипотезу\n"
     ]
    }
   ],
   "source": [
    "print('p-значение:', results.pvalue / 2)\n",
    "\n",
    "# отвергаем гипотезу только тогда, когда выборочное среднее значимо меньше предполагаемого значения\n",
    "if (results.pvalue / 2 < alpha) and (mean_ultra > user_revenue[user_revenue['tariff_name'] == 'smart']['revenue'].mean()):\n",
    "    print(\"Отвергаем нулевую гипотезу\")\n",
    "else:\n",
    "    print(\"Не отвергаем нулевую гипотезу\") "
   ]
  },
  {
   "cell_type": "markdown",
   "metadata": {},
   "source": [
    "Гипотезу о том, что средняя выручка пользователей тарифа «Ультра» не отличается для тарифа «Смарт» отвергаем в пользу альтернативной."
   ]
  },
  {
   "cell_type": "code",
   "execution_count": 75,
   "metadata": {},
   "outputs": [
    {
     "data": {
      "text/plain": [
       "count     985.000000\n",
       "mean     2070.152284\n",
       "std       376.187114\n",
       "min      1950.000000\n",
       "25%      1950.000000\n",
       "50%      1950.000000\n",
       "75%      1950.000000\n",
       "max      4800.000000\n",
       "Name: revenue, dtype: float64"
      ]
     },
     "execution_count": 75,
     "metadata": {},
     "output_type": "execute_result"
    }
   ],
   "source": [
    "user_revenue[user_revenue['tariff_name'] == 'ultra']['revenue'].describe()"
   ]
  },
  {
   "cell_type": "code",
   "execution_count": 76,
   "metadata": {},
   "outputs": [
    {
     "data": {
      "text/plain": [
       "count    2229.000000\n",
       "mean     1289.973531\n",
       "std       818.404367\n",
       "min       550.000000\n",
       "25%       550.000000\n",
       "50%      1023.000000\n",
       "75%      1750.000000\n",
       "max      6770.000000\n",
       "Name: revenue, dtype: float64"
      ]
     },
     "execution_count": 76,
     "metadata": {},
     "output_type": "execute_result"
    }
   ],
   "source": [
    "user_revenue[user_revenue['tariff_name'] == 'smart']['revenue'].describe()"
   ]
  },
  {
   "cell_type": "markdown",
   "metadata": {},
   "source": [
    "## Выводы"
   ]
  },
  {
   "cell_type": "markdown",
   "metadata": {},
   "source": [
    "- В процессе исследования были исправлены типы данных в таблицах, округлено количество минут и интернет трафика согласно правилам тарифа, были рассчитаны помесячные данные использования сообщений, минут и трафика;\n",
    "- Было выявлено что сообщения не пользуются популярностью ни на одном из тарифов, а тариф ULTRA используется в осномном ради интернет-трафика, количество сообщений и минут в этом тарифе избыточно, пользователи их не используют;\n",
    "- Тариф SMART используется оптимально с точки зрения пакетов минут и смс, а количество трафика скорее недостаточно для пользователей;\n",
    "- Cредняя выручка пользователей между тарифами разная, выручка выше у тарифа «Ультра»;\n",
    "- Средняя выручка в Москве не отличается от других регионов"
   ]
  },
  {
   "cell_type": "markdown",
   "metadata": {},
   "source": [
    "Средняя выручка тарифа «Ультра» выше чем у тарифа «Смарт» в расчете на пользователя, однако, назвать только из-за этого данный тариф лучшим было бы не верно, но считать его перспективным можно.\n",
    "Данные тарифы можно было бы улучшить: для тарифа «Смарт» немного увеличить количество трафика, а для тарифа «Ультра» уменьшить количество смс и минут, при уменьшении пакетов минут и смс цена тарифа снизится, а значит количество пользователей данного тарифа в перспективе должно увеличится из-за снижения цены. Чем больше пользователей - тем лучше для компании."
   ]
  }
 ],
 "metadata": {
  "ExecuteTimeLog": [
   {
    "duration": 695,
    "start_time": "2022-04-01T17:56:44.206Z"
   },
   {
    "duration": 0,
    "start_time": "2022-04-01T17:56:44.904Z"
   },
   {
    "duration": 11,
    "start_time": "2022-04-01T17:56:45.013Z"
   },
   {
    "duration": 90,
    "start_time": "2022-04-01T17:56:53.170Z"
   },
   {
    "duration": 574,
    "start_time": "2022-04-01T17:57:13.184Z"
   },
   {
    "duration": 26,
    "start_time": "2022-04-01T17:57:14.172Z"
   },
   {
    "duration": 29,
    "start_time": "2022-04-01T17:57:14.623Z"
   },
   {
    "duration": 868,
    "start_time": "2022-04-01T18:01:21.181Z"
   },
   {
    "duration": 20,
    "start_time": "2022-04-01T18:01:22.051Z"
   },
   {
    "duration": 28,
    "start_time": "2022-04-01T18:01:22.073Z"
   },
   {
    "duration": 10,
    "start_time": "2022-04-01T18:01:22.104Z"
   },
   {
    "duration": 30,
    "start_time": "2022-04-01T18:01:22.115Z"
   },
   {
    "duration": 9,
    "start_time": "2022-04-01T18:01:22.147Z"
   },
   {
    "duration": 50,
    "start_time": "2022-04-01T18:01:22.158Z"
   },
   {
    "duration": 10,
    "start_time": "2022-04-01T18:01:22.210Z"
   },
   {
    "duration": 60,
    "start_time": "2022-04-01T18:01:22.222Z"
   },
   {
    "duration": 19,
    "start_time": "2022-04-01T18:01:22.285Z"
   },
   {
    "duration": 15,
    "start_time": "2022-04-01T18:01:22.306Z"
   },
   {
    "duration": 33,
    "start_time": "2022-04-01T18:02:17.186Z"
   },
   {
    "duration": 29,
    "start_time": "2022-04-01T18:03:35.176Z"
   },
   {
    "duration": 16,
    "start_time": "2022-04-01T18:04:31.908Z"
   },
   {
    "duration": 17,
    "start_time": "2022-04-01T18:05:00.186Z"
   },
   {
    "duration": 820,
    "start_time": "2022-04-01T18:05:10.146Z"
   },
   {
    "duration": 17,
    "start_time": "2022-04-01T18:05:10.968Z"
   },
   {
    "duration": 36,
    "start_time": "2022-04-01T18:05:10.987Z"
   },
   {
    "duration": 30,
    "start_time": "2022-04-01T18:05:11.026Z"
   },
   {
    "duration": 10,
    "start_time": "2022-04-01T18:05:11.058Z"
   },
   {
    "duration": 62,
    "start_time": "2022-04-01T18:05:11.071Z"
   },
   {
    "duration": 26,
    "start_time": "2022-04-01T18:05:11.135Z"
   },
   {
    "duration": 38,
    "start_time": "2022-04-01T18:05:11.163Z"
   },
   {
    "duration": 21,
    "start_time": "2022-04-01T18:05:11.203Z"
   },
   {
    "duration": 21,
    "start_time": "2022-04-01T18:05:11.227Z"
   },
   {
    "duration": 11,
    "start_time": "2022-04-01T18:05:11.249Z"
   },
   {
    "duration": 46,
    "start_time": "2022-04-01T18:05:11.262Z"
   },
   {
    "duration": 13,
    "start_time": "2022-04-01T18:05:11.310Z"
   },
   {
    "duration": 19,
    "start_time": "2022-04-01T18:05:11.325Z"
   },
   {
    "duration": 17,
    "start_time": "2022-04-01T18:05:11.346Z"
   },
   {
    "duration": 88,
    "start_time": "2022-04-01T18:23:03.191Z"
   },
   {
    "duration": 10,
    "start_time": "2022-04-01T18:23:10.948Z"
   },
   {
    "duration": 21,
    "start_time": "2022-04-01T18:23:26.369Z"
   },
   {
    "duration": 25,
    "start_time": "2022-04-01T18:24:05.096Z"
   },
   {
    "duration": 17,
    "start_time": "2022-04-01T18:24:16.968Z"
   },
   {
    "duration": 12,
    "start_time": "2022-04-01T18:24:29.259Z"
   },
   {
    "duration": 9,
    "start_time": "2022-04-01T18:24:45.139Z"
   },
   {
    "duration": 864,
    "start_time": "2022-04-01T18:24:53.486Z"
   },
   {
    "duration": 17,
    "start_time": "2022-04-01T18:24:54.352Z"
   },
   {
    "duration": 39,
    "start_time": "2022-04-01T18:24:54.370Z"
   },
   {
    "duration": 27,
    "start_time": "2022-04-01T18:24:54.412Z"
   },
   {
    "duration": 10,
    "start_time": "2022-04-01T18:24:54.442Z"
   },
   {
    "duration": 35,
    "start_time": "2022-04-01T18:24:54.453Z"
   },
   {
    "duration": 30,
    "start_time": "2022-04-01T18:24:54.502Z"
   },
   {
    "duration": 9,
    "start_time": "2022-04-01T18:24:54.535Z"
   },
   {
    "duration": 17,
    "start_time": "2022-04-01T18:24:54.546Z"
   },
   {
    "duration": 42,
    "start_time": "2022-04-01T18:24:54.565Z"
   },
   {
    "duration": 13,
    "start_time": "2022-04-01T18:24:54.610Z"
   },
   {
    "duration": 26,
    "start_time": "2022-04-01T18:24:54.625Z"
   },
   {
    "duration": 16,
    "start_time": "2022-04-01T18:24:54.653Z"
   },
   {
    "duration": 39,
    "start_time": "2022-04-01T18:24:54.672Z"
   },
   {
    "duration": 11,
    "start_time": "2022-04-01T18:24:54.713Z"
   },
   {
    "duration": 101,
    "start_time": "2022-04-01T18:24:54.725Z"
   },
   {
    "duration": 10,
    "start_time": "2022-04-01T18:24:54.827Z"
   },
   {
    "duration": 16,
    "start_time": "2022-04-01T18:24:54.839Z"
   },
   {
    "duration": 25,
    "start_time": "2022-04-01T18:24:54.857Z"
   },
   {
    "duration": 33,
    "start_time": "2022-04-01T18:24:54.884Z"
   },
   {
    "duration": 16,
    "start_time": "2022-04-01T18:24:54.919Z"
   },
   {
    "duration": 16,
    "start_time": "2022-04-01T18:24:54.936Z"
   },
   {
    "duration": 9,
    "start_time": "2022-04-01T18:25:50.629Z"
   },
   {
    "duration": 31,
    "start_time": "2022-04-01T18:30:35.948Z"
   },
   {
    "duration": 65,
    "start_time": "2022-04-01T18:30:36.668Z"
   },
   {
    "duration": 21,
    "start_time": "2022-04-01T18:32:12.468Z"
   },
   {
    "duration": 33,
    "start_time": "2022-04-01T18:32:12.856Z"
   },
   {
    "duration": 817,
    "start_time": "2022-04-01T18:33:10.110Z"
   },
   {
    "duration": 18,
    "start_time": "2022-04-01T18:33:10.929Z"
   },
   {
    "duration": 35,
    "start_time": "2022-04-01T18:33:10.949Z"
   },
   {
    "duration": 27,
    "start_time": "2022-04-01T18:33:10.986Z"
   },
   {
    "duration": 15,
    "start_time": "2022-04-01T18:33:11.015Z"
   },
   {
    "duration": 38,
    "start_time": "2022-04-01T18:33:11.032Z"
   },
   {
    "duration": 40,
    "start_time": "2022-04-01T18:33:11.072Z"
   },
   {
    "duration": 8,
    "start_time": "2022-04-01T18:33:11.114Z"
   },
   {
    "duration": 19,
    "start_time": "2022-04-01T18:33:11.123Z"
   },
   {
    "duration": 20,
    "start_time": "2022-04-01T18:33:11.144Z"
   },
   {
    "duration": 39,
    "start_time": "2022-04-01T18:33:11.166Z"
   },
   {
    "duration": 15,
    "start_time": "2022-04-01T18:33:11.207Z"
   },
   {
    "duration": 23,
    "start_time": "2022-04-01T18:33:11.224Z"
   },
   {
    "duration": 20,
    "start_time": "2022-04-01T18:33:11.250Z"
   },
   {
    "duration": 14,
    "start_time": "2022-04-01T18:33:11.272Z"
   },
   {
    "duration": 99,
    "start_time": "2022-04-01T18:33:11.288Z"
   },
   {
    "duration": 19,
    "start_time": "2022-04-01T18:33:11.389Z"
   },
   {
    "duration": 15,
    "start_time": "2022-04-01T18:33:11.410Z"
   },
   {
    "duration": 47,
    "start_time": "2022-04-01T18:33:11.427Z"
   },
   {
    "duration": 36,
    "start_time": "2022-04-01T18:33:11.477Z"
   },
   {
    "duration": 26,
    "start_time": "2022-04-01T18:33:11.515Z"
   },
   {
    "duration": 17,
    "start_time": "2022-04-01T18:33:11.543Z"
   },
   {
    "duration": 39,
    "start_time": "2022-04-01T18:33:11.562Z"
   },
   {
    "duration": 65,
    "start_time": "2022-04-01T18:33:11.603Z"
   },
   {
    "duration": 39,
    "start_time": "2022-04-01T18:33:11.669Z"
   },
   {
    "duration": 32,
    "start_time": "2022-04-01T18:33:11.710Z"
   },
   {
    "duration": 25,
    "start_time": "2022-04-01T18:33:11.745Z"
   },
   {
    "duration": 56,
    "start_time": "2022-04-01T18:33:11.772Z"
   },
   {
    "duration": 70,
    "start_time": "2022-04-01T18:35:24.459Z"
   },
   {
    "duration": 69,
    "start_time": "2022-04-01T18:35:29.808Z"
   },
   {
    "duration": 14,
    "start_time": "2022-04-01T18:35:30.699Z"
   },
   {
    "duration": 11,
    "start_time": "2022-04-01T18:35:42.552Z"
   },
   {
    "duration": 11,
    "start_time": "2022-04-01T18:36:32.708Z"
   },
   {
    "duration": 12,
    "start_time": "2022-04-01T18:36:54.918Z"
   },
   {
    "duration": 802,
    "start_time": "2022-04-01T18:37:10.130Z"
   },
   {
    "duration": 18,
    "start_time": "2022-04-01T18:37:10.934Z"
   },
   {
    "duration": 33,
    "start_time": "2022-04-01T18:37:10.953Z"
   },
   {
    "duration": 28,
    "start_time": "2022-04-01T18:37:10.989Z"
   },
   {
    "duration": 9,
    "start_time": "2022-04-01T18:37:11.019Z"
   },
   {
    "duration": 35,
    "start_time": "2022-04-01T18:37:11.030Z"
   },
   {
    "duration": 44,
    "start_time": "2022-04-01T18:37:11.067Z"
   },
   {
    "duration": 12,
    "start_time": "2022-04-01T18:37:11.112Z"
   },
   {
    "duration": 19,
    "start_time": "2022-04-01T18:37:11.126Z"
   },
   {
    "duration": 21,
    "start_time": "2022-04-01T18:37:11.148Z"
   },
   {
    "duration": 34,
    "start_time": "2022-04-01T18:37:11.171Z"
   },
   {
    "duration": 16,
    "start_time": "2022-04-01T18:37:11.207Z"
   },
   {
    "duration": 15,
    "start_time": "2022-04-01T18:37:11.225Z"
   },
   {
    "duration": 18,
    "start_time": "2022-04-01T18:37:11.242Z"
   },
   {
    "duration": 39,
    "start_time": "2022-04-01T18:37:11.262Z"
   },
   {
    "duration": 83,
    "start_time": "2022-04-01T18:37:11.303Z"
   },
   {
    "duration": 20,
    "start_time": "2022-04-01T18:37:11.388Z"
   },
   {
    "duration": 15,
    "start_time": "2022-04-01T18:37:11.411Z"
   },
   {
    "duration": 28,
    "start_time": "2022-04-01T18:37:11.428Z"
   },
   {
    "duration": 18,
    "start_time": "2022-04-01T18:37:11.458Z"
   },
   {
    "duration": 39,
    "start_time": "2022-04-01T18:37:11.478Z"
   },
   {
    "duration": 13,
    "start_time": "2022-04-01T18:37:11.519Z"
   },
   {
    "duration": 38,
    "start_time": "2022-04-01T18:37:11.534Z"
   },
   {
    "duration": 88,
    "start_time": "2022-04-01T18:37:11.574Z"
   },
   {
    "duration": 39,
    "start_time": "2022-04-01T18:37:11.663Z"
   },
   {
    "duration": 33,
    "start_time": "2022-04-01T18:37:11.704Z"
   },
   {
    "duration": 25,
    "start_time": "2022-04-01T18:37:11.739Z"
   },
   {
    "duration": 60,
    "start_time": "2022-04-01T18:37:11.767Z"
   },
   {
    "duration": 77,
    "start_time": "2022-04-01T18:37:11.829Z"
   },
   {
    "duration": 14,
    "start_time": "2022-04-01T18:37:11.908Z"
   },
   {
    "duration": 14,
    "start_time": "2022-04-01T18:37:11.924Z"
   },
   {
    "duration": 23,
    "start_time": "2022-04-01T18:37:38.076Z"
   },
   {
    "duration": 20,
    "start_time": "2022-04-01T18:37:52.997Z"
   },
   {
    "duration": 15,
    "start_time": "2022-04-01T18:39:09.041Z"
   },
   {
    "duration": 19,
    "start_time": "2022-04-01T18:39:10.088Z"
   },
   {
    "duration": 974,
    "start_time": "2022-04-01T18:40:30.888Z"
   },
   {
    "duration": 17,
    "start_time": "2022-04-01T18:40:31.864Z"
   },
   {
    "duration": 37,
    "start_time": "2022-04-01T18:40:31.883Z"
   },
   {
    "duration": 28,
    "start_time": "2022-04-01T18:40:31.922Z"
   },
   {
    "duration": 15,
    "start_time": "2022-04-01T18:40:31.952Z"
   },
   {
    "duration": 55,
    "start_time": "2022-04-01T18:40:31.969Z"
   },
   {
    "duration": 24,
    "start_time": "2022-04-01T18:40:32.026Z"
   },
   {
    "duration": 10,
    "start_time": "2022-04-01T18:40:32.051Z"
   },
   {
    "duration": 41,
    "start_time": "2022-04-01T18:40:32.063Z"
   },
   {
    "duration": 22,
    "start_time": "2022-04-01T18:40:32.111Z"
   },
   {
    "duration": 9,
    "start_time": "2022-04-01T18:40:32.135Z"
   },
   {
    "duration": 19,
    "start_time": "2022-04-01T18:40:32.146Z"
   },
   {
    "duration": 16,
    "start_time": "2022-04-01T18:40:32.167Z"
   },
   {
    "duration": 20,
    "start_time": "2022-04-01T18:40:32.201Z"
   },
   {
    "duration": 19,
    "start_time": "2022-04-01T18:40:32.223Z"
   },
   {
    "duration": 104,
    "start_time": "2022-04-01T18:40:32.244Z"
   },
   {
    "duration": 11,
    "start_time": "2022-04-01T18:40:32.350Z"
   },
   {
    "duration": 28,
    "start_time": "2022-04-01T18:40:32.363Z"
   },
   {
    "duration": 46,
    "start_time": "2022-04-01T18:40:32.392Z"
   },
   {
    "duration": 22,
    "start_time": "2022-04-01T18:40:32.440Z"
   },
   {
    "duration": 17,
    "start_time": "2022-04-01T18:40:32.464Z"
   },
   {
    "duration": 11,
    "start_time": "2022-04-01T18:40:32.483Z"
   },
   {
    "duration": 50,
    "start_time": "2022-04-01T18:40:32.501Z"
   },
   {
    "duration": 104,
    "start_time": "2022-04-01T18:40:32.553Z"
   },
   {
    "duration": 39,
    "start_time": "2022-04-01T18:40:32.658Z"
   },
   {
    "duration": 49,
    "start_time": "2022-04-01T18:40:32.699Z"
   },
   {
    "duration": 50,
    "start_time": "2022-04-01T18:40:32.749Z"
   },
   {
    "duration": 47,
    "start_time": "2022-04-01T18:40:32.807Z"
   },
   {
    "duration": 81,
    "start_time": "2022-04-01T18:40:32.856Z"
   },
   {
    "duration": 15,
    "start_time": "2022-04-01T18:40:32.939Z"
   },
   {
    "duration": 25,
    "start_time": "2022-04-01T18:40:32.957Z"
   },
   {
    "duration": 39,
    "start_time": "2022-04-01T18:40:32.985Z"
   },
   {
    "duration": 22,
    "start_time": "2022-04-01T18:40:33.026Z"
   },
   {
    "duration": 36,
    "start_time": "2022-04-01T18:40:33.050Z"
   },
   {
    "duration": 40,
    "start_time": "2022-04-01T18:40:33.088Z"
   },
   {
    "duration": 858,
    "start_time": "2022-04-01T18:56:54.526Z"
   },
   {
    "duration": 19,
    "start_time": "2022-04-01T18:56:55.387Z"
   },
   {
    "duration": 44,
    "start_time": "2022-04-01T18:56:55.408Z"
   },
   {
    "duration": 52,
    "start_time": "2022-04-01T18:56:55.454Z"
   },
   {
    "duration": 9,
    "start_time": "2022-04-01T18:56:55.509Z"
   },
   {
    "duration": 31,
    "start_time": "2022-04-01T18:56:55.520Z"
   },
   {
    "duration": 48,
    "start_time": "2022-04-01T18:56:55.553Z"
   },
   {
    "duration": 10,
    "start_time": "2022-04-01T18:56:55.604Z"
   },
   {
    "duration": 16,
    "start_time": "2022-04-01T18:56:55.616Z"
   },
   {
    "duration": 20,
    "start_time": "2022-04-01T18:56:55.634Z"
   },
   {
    "duration": 44,
    "start_time": "2022-04-01T18:56:55.657Z"
   },
   {
    "duration": 13,
    "start_time": "2022-04-01T18:56:55.704Z"
   },
   {
    "duration": 19,
    "start_time": "2022-04-01T18:56:55.719Z"
   },
   {
    "duration": 17,
    "start_time": "2022-04-01T18:56:55.742Z"
   },
   {
    "duration": 40,
    "start_time": "2022-04-01T18:56:55.762Z"
   },
   {
    "duration": 91,
    "start_time": "2022-04-01T18:56:55.804Z"
   },
   {
    "duration": 11,
    "start_time": "2022-04-01T18:56:55.900Z"
   },
   {
    "duration": 13,
    "start_time": "2022-04-01T18:56:55.913Z"
   },
   {
    "duration": 25,
    "start_time": "2022-04-01T18:56:55.928Z"
   },
   {
    "duration": 18,
    "start_time": "2022-04-01T18:56:55.954Z"
   },
   {
    "duration": 17,
    "start_time": "2022-04-01T18:56:56.001Z"
   },
   {
    "duration": 12,
    "start_time": "2022-04-01T18:56:56.021Z"
   },
   {
    "duration": 35,
    "start_time": "2022-04-01T18:56:56.036Z"
   },
   {
    "duration": 90,
    "start_time": "2022-04-01T18:56:56.073Z"
   },
   {
    "duration": 38,
    "start_time": "2022-04-01T18:56:56.165Z"
   },
   {
    "duration": 35,
    "start_time": "2022-04-01T18:56:56.205Z"
   },
   {
    "duration": 25,
    "start_time": "2022-04-01T18:56:56.242Z"
   },
   {
    "duration": 61,
    "start_time": "2022-04-01T18:56:56.269Z"
   },
   {
    "duration": 85,
    "start_time": "2022-04-01T18:56:56.333Z"
   },
   {
    "duration": 13,
    "start_time": "2022-04-01T18:56:56.420Z"
   },
   {
    "duration": 13,
    "start_time": "2022-04-01T18:56:56.435Z"
   },
   {
    "duration": 25,
    "start_time": "2022-04-01T18:56:56.451Z"
   },
   {
    "duration": 40,
    "start_time": "2022-04-01T18:56:56.478Z"
   },
   {
    "duration": 18,
    "start_time": "2022-04-01T18:56:56.520Z"
   },
   {
    "duration": 27,
    "start_time": "2022-04-01T18:56:56.540Z"
   },
   {
    "duration": 12,
    "start_time": "2022-04-01T18:56:56.601Z"
   },
   {
    "duration": 12,
    "start_time": "2022-04-01T18:56:56.615Z"
   },
   {
    "duration": 786,
    "start_time": "2022-04-01T18:56:56.629Z"
   },
   {
    "duration": 12,
    "start_time": "2022-04-01T18:56:57.417Z"
   },
   {
    "duration": 15,
    "start_time": "2022-04-01T18:56:57.432Z"
   },
   {
    "duration": 180,
    "start_time": "2022-04-01T18:56:57.452Z"
   },
   {
    "duration": 10,
    "start_time": "2022-04-01T18:56:57.634Z"
   },
   {
    "duration": 6,
    "start_time": "2022-04-01T18:56:57.646Z"
   },
   {
    "duration": 177,
    "start_time": "2022-04-01T18:56:57.654Z"
   },
   {
    "duration": 9,
    "start_time": "2022-04-01T18:56:57.833Z"
   },
   {
    "duration": 6,
    "start_time": "2022-04-01T18:56:57.844Z"
   },
   {
    "duration": 198,
    "start_time": "2022-04-01T18:56:57.852Z"
   },
   {
    "duration": 10,
    "start_time": "2022-04-01T18:56:58.052Z"
   },
   {
    "duration": 9,
    "start_time": "2022-04-01T18:56:58.064Z"
   },
   {
    "duration": 187,
    "start_time": "2022-04-01T18:56:58.075Z"
   },
   {
    "duration": 11,
    "start_time": "2022-04-01T18:56:58.264Z"
   },
   {
    "duration": 26,
    "start_time": "2022-04-01T18:56:58.276Z"
   },
   {
    "duration": 188,
    "start_time": "2022-04-01T18:56:58.304Z"
   },
   {
    "duration": 807,
    "start_time": "2022-04-01T19:02:45.999Z"
   },
   {
    "duration": 16,
    "start_time": "2022-04-01T19:02:46.808Z"
   },
   {
    "duration": 31,
    "start_time": "2022-04-01T19:02:46.826Z"
   },
   {
    "duration": 45,
    "start_time": "2022-04-01T19:02:46.858Z"
   },
   {
    "duration": 9,
    "start_time": "2022-04-01T19:02:46.905Z"
   },
   {
    "duration": 32,
    "start_time": "2022-04-01T19:02:46.916Z"
   },
   {
    "duration": 23,
    "start_time": "2022-04-01T19:02:46.949Z"
   },
   {
    "duration": 9,
    "start_time": "2022-04-01T19:02:47.001Z"
   },
   {
    "duration": 16,
    "start_time": "2022-04-01T19:02:47.012Z"
   },
   {
    "duration": 20,
    "start_time": "2022-04-01T19:02:47.030Z"
   },
   {
    "duration": 9,
    "start_time": "2022-04-01T19:02:47.052Z"
   },
   {
    "duration": 47,
    "start_time": "2022-04-01T19:02:47.062Z"
   },
   {
    "duration": 10,
    "start_time": "2022-04-01T19:02:47.112Z"
   },
   {
    "duration": 15,
    "start_time": "2022-04-01T19:02:47.125Z"
   },
   {
    "duration": 11,
    "start_time": "2022-04-01T19:02:47.142Z"
   },
   {
    "duration": 106,
    "start_time": "2022-04-01T19:02:47.155Z"
   },
   {
    "duration": 10,
    "start_time": "2022-04-01T19:02:47.263Z"
   },
   {
    "duration": 13,
    "start_time": "2022-04-01T19:02:47.274Z"
   },
   {
    "duration": 20,
    "start_time": "2022-04-01T19:02:47.302Z"
   },
   {
    "duration": 17,
    "start_time": "2022-04-01T19:02:47.324Z"
   },
   {
    "duration": 16,
    "start_time": "2022-04-01T19:02:47.343Z"
   },
   {
    "duration": 44,
    "start_time": "2022-04-01T19:02:47.361Z"
   },
   {
    "duration": 50,
    "start_time": "2022-04-01T19:02:47.407Z"
   },
   {
    "duration": 78,
    "start_time": "2022-04-01T19:02:47.459Z"
   },
   {
    "duration": 22,
    "start_time": "2022-04-01T19:02:47.538Z"
   },
   {
    "duration": 44,
    "start_time": "2022-04-01T19:02:47.562Z"
   },
   {
    "duration": 24,
    "start_time": "2022-04-01T19:02:47.608Z"
   },
   {
    "duration": 31,
    "start_time": "2022-04-01T19:02:47.634Z"
   },
   {
    "duration": 92,
    "start_time": "2022-04-01T19:02:47.667Z"
   },
   {
    "duration": 12,
    "start_time": "2022-04-01T19:02:47.761Z"
   },
   {
    "duration": 27,
    "start_time": "2022-04-01T19:02:47.775Z"
   },
   {
    "duration": 20,
    "start_time": "2022-04-01T19:02:47.804Z"
   },
   {
    "duration": 19,
    "start_time": "2022-04-01T19:02:47.826Z"
   },
   {
    "duration": 14,
    "start_time": "2022-04-01T19:02:47.847Z"
   },
   {
    "duration": 46,
    "start_time": "2022-04-01T19:02:47.863Z"
   },
   {
    "duration": 21,
    "start_time": "2022-04-01T19:02:47.911Z"
   },
   {
    "duration": 20,
    "start_time": "2022-04-01T19:02:47.933Z"
   },
   {
    "duration": 460,
    "start_time": "2022-04-01T19:02:47.954Z"
   },
   {
    "duration": 10,
    "start_time": "2022-04-01T19:02:48.415Z"
   },
   {
    "duration": 15,
    "start_time": "2022-04-01T19:02:48.427Z"
   },
   {
    "duration": 170,
    "start_time": "2022-04-01T19:02:48.446Z"
   },
   {
    "duration": 10,
    "start_time": "2022-04-01T19:02:48.617Z"
   },
   {
    "duration": 13,
    "start_time": "2022-04-01T19:02:48.629Z"
   },
   {
    "duration": 168,
    "start_time": "2022-04-01T19:02:48.644Z"
   },
   {
    "duration": 10,
    "start_time": "2022-04-01T19:02:48.815Z"
   },
   {
    "duration": 8,
    "start_time": "2022-04-01T19:02:48.827Z"
   },
   {
    "duration": 201,
    "start_time": "2022-04-01T19:02:48.837Z"
   },
   {
    "duration": 10,
    "start_time": "2022-04-01T19:02:49.041Z"
   },
   {
    "duration": 8,
    "start_time": "2022-04-01T19:02:49.053Z"
   },
   {
    "duration": 186,
    "start_time": "2022-04-01T19:02:49.063Z"
   },
   {
    "duration": 10,
    "start_time": "2022-04-01T19:02:49.250Z"
   },
   {
    "duration": 8,
    "start_time": "2022-04-01T19:02:49.261Z"
   },
   {
    "duration": 204,
    "start_time": "2022-04-01T19:02:49.270Z"
   },
   {
    "duration": 173,
    "start_time": "2022-04-01T19:05:09.917Z"
   },
   {
    "duration": 162,
    "start_time": "2022-04-01T19:05:24.067Z"
   },
   {
    "duration": 170,
    "start_time": "2022-04-01T19:05:24.589Z"
   },
   {
    "duration": 168,
    "start_time": "2022-04-01T19:05:47.819Z"
   },
   {
    "duration": 4,
    "start_time": "2022-04-01T19:11:23.439Z"
   },
   {
    "duration": 28,
    "start_time": "2022-04-01T19:11:30.250Z"
   },
   {
    "duration": 23,
    "start_time": "2022-04-01T19:12:33.520Z"
   },
   {
    "duration": 17,
    "start_time": "2022-04-01T19:12:43.609Z"
   },
   {
    "duration": 15,
    "start_time": "2022-04-01T19:13:27.759Z"
   },
   {
    "duration": 11,
    "start_time": "2022-04-01T19:13:51.462Z"
   },
   {
    "duration": 11,
    "start_time": "2022-04-01T19:13:58.139Z"
   },
   {
    "duration": 20,
    "start_time": "2022-04-01T19:14:08.049Z"
   },
   {
    "duration": 11,
    "start_time": "2022-04-01T19:14:18.400Z"
   },
   {
    "duration": 10,
    "start_time": "2022-04-01T19:14:33.199Z"
   },
   {
    "duration": 5,
    "start_time": "2022-04-01T19:14:48.820Z"
   },
   {
    "duration": 5,
    "start_time": "2022-04-01T19:15:15.997Z"
   },
   {
    "duration": 5,
    "start_time": "2022-04-01T19:15:18.209Z"
   },
   {
    "duration": 5,
    "start_time": "2022-04-01T19:16:33.007Z"
   },
   {
    "duration": 7,
    "start_time": "2022-04-01T19:16:33.267Z"
   },
   {
    "duration": 5,
    "start_time": "2022-04-01T19:16:33.439Z"
   },
   {
    "duration": 149,
    "start_time": "2022-04-01T19:23:11.612Z"
   },
   {
    "duration": 351,
    "start_time": "2022-04-01T19:23:31.132Z"
   },
   {
    "duration": 265,
    "start_time": "2022-04-01T19:23:52.477Z"
   },
   {
    "duration": 136,
    "start_time": "2022-04-01T19:24:01.379Z"
   },
   {
    "duration": 157,
    "start_time": "2022-04-01T19:24:06.370Z"
   },
   {
    "duration": 134,
    "start_time": "2022-04-01T19:24:10.379Z"
   },
   {
    "duration": 131,
    "start_time": "2022-04-01T19:24:19.578Z"
   },
   {
    "duration": 137,
    "start_time": "2022-04-01T19:24:25.860Z"
   },
   {
    "duration": 817,
    "start_time": "2022-04-01T19:37:02.234Z"
   },
   {
    "duration": 17,
    "start_time": "2022-04-01T19:37:03.054Z"
   },
   {
    "duration": 38,
    "start_time": "2022-04-01T19:37:03.073Z"
   },
   {
    "duration": 28,
    "start_time": "2022-04-01T19:37:03.114Z"
   },
   {
    "duration": 42,
    "start_time": "2022-04-01T19:37:03.143Z"
   },
   {
    "duration": 42,
    "start_time": "2022-04-01T19:37:03.186Z"
   },
   {
    "duration": 23,
    "start_time": "2022-04-01T19:37:03.230Z"
   },
   {
    "duration": 26,
    "start_time": "2022-04-01T19:37:03.256Z"
   },
   {
    "duration": 35,
    "start_time": "2022-04-01T19:37:03.284Z"
   },
   {
    "duration": 22,
    "start_time": "2022-04-01T19:37:03.322Z"
   },
   {
    "duration": 12,
    "start_time": "2022-04-01T19:37:03.346Z"
   },
   {
    "duration": 20,
    "start_time": "2022-04-01T19:37:03.360Z"
   },
   {
    "duration": 23,
    "start_time": "2022-04-01T19:37:03.382Z"
   },
   {
    "duration": 26,
    "start_time": "2022-04-01T19:37:03.406Z"
   },
   {
    "duration": 33,
    "start_time": "2022-04-01T19:37:03.434Z"
   },
   {
    "duration": 88,
    "start_time": "2022-04-01T19:37:03.469Z"
   },
   {
    "duration": 11,
    "start_time": "2022-04-01T19:37:03.559Z"
   },
   {
    "duration": 18,
    "start_time": "2022-04-01T19:37:03.572Z"
   },
   {
    "duration": 52,
    "start_time": "2022-04-01T19:37:03.592Z"
   },
   {
    "duration": 38,
    "start_time": "2022-04-01T19:37:03.646Z"
   },
   {
    "duration": 18,
    "start_time": "2022-04-01T19:37:03.686Z"
   },
   {
    "duration": 19,
    "start_time": "2022-04-01T19:37:03.706Z"
   },
   {
    "duration": 45,
    "start_time": "2022-04-01T19:37:03.727Z"
   },
   {
    "duration": 77,
    "start_time": "2022-04-01T19:37:03.774Z"
   },
   {
    "duration": 22,
    "start_time": "2022-04-01T19:37:03.853Z"
   },
   {
    "duration": 46,
    "start_time": "2022-04-01T19:37:03.876Z"
   },
   {
    "duration": 25,
    "start_time": "2022-04-01T19:37:03.924Z"
   },
   {
    "duration": 58,
    "start_time": "2022-04-01T19:37:03.955Z"
   },
   {
    "duration": 72,
    "start_time": "2022-04-01T19:37:04.016Z"
   },
   {
    "duration": 15,
    "start_time": "2022-04-01T19:37:04.100Z"
   },
   {
    "duration": 15,
    "start_time": "2022-04-01T19:37:04.117Z"
   },
   {
    "duration": 41,
    "start_time": "2022-04-01T19:37:04.135Z"
   },
   {
    "duration": 82,
    "start_time": "2022-04-01T19:37:04.179Z"
   },
   {
    "duration": 38,
    "start_time": "2022-04-01T19:37:04.263Z"
   },
   {
    "duration": 33,
    "start_time": "2022-04-01T19:37:04.303Z"
   },
   {
    "duration": 23,
    "start_time": "2022-04-01T19:37:04.339Z"
   },
   {
    "duration": 11,
    "start_time": "2022-04-01T19:37:04.365Z"
   },
   {
    "duration": 573,
    "start_time": "2022-04-01T19:37:04.378Z"
   },
   {
    "duration": 199,
    "start_time": "2022-04-01T19:37:04.953Z"
   },
   {
    "duration": 11,
    "start_time": "2022-04-01T19:37:05.154Z"
   },
   {
    "duration": 35,
    "start_time": "2022-04-01T19:37:05.167Z"
   },
   {
    "duration": 191,
    "start_time": "2022-04-01T19:37:05.204Z"
   },
   {
    "duration": 155,
    "start_time": "2022-04-01T19:37:05.397Z"
   },
   {
    "duration": 11,
    "start_time": "2022-04-01T19:37:05.554Z"
   },
   {
    "duration": 9,
    "start_time": "2022-04-01T19:37:05.567Z"
   },
   {
    "duration": 180,
    "start_time": "2022-04-01T19:37:05.578Z"
   },
   {
    "duration": 10,
    "start_time": "2022-04-01T19:37:05.760Z"
   },
   {
    "duration": 21,
    "start_time": "2022-04-01T19:37:05.772Z"
   },
   {
    "duration": 197,
    "start_time": "2022-04-01T19:37:05.795Z"
   },
   {
    "duration": 15,
    "start_time": "2022-04-01T19:37:05.994Z"
   },
   {
    "duration": 100,
    "start_time": "2022-04-01T19:37:06.010Z"
   },
   {
    "duration": 180,
    "start_time": "2022-04-01T19:37:06.111Z"
   },
   {
    "duration": 10,
    "start_time": "2022-04-01T19:37:06.293Z"
   },
   {
    "duration": 8,
    "start_time": "2022-04-01T19:37:06.305Z"
   },
   {
    "duration": 203,
    "start_time": "2022-04-01T19:37:06.314Z"
   },
   {
    "duration": 6,
    "start_time": "2022-04-01T19:37:06.519Z"
   },
   {
    "duration": 15,
    "start_time": "2022-04-01T19:37:06.526Z"
   },
   {
    "duration": 16,
    "start_time": "2022-04-01T19:37:06.542Z"
   },
   {
    "duration": 15,
    "start_time": "2022-04-01T19:39:41.057Z"
   },
   {
    "duration": 1206,
    "start_time": "2022-04-01T19:39:54.982Z"
   },
   {
    "duration": 23,
    "start_time": "2022-04-01T19:39:56.191Z"
   },
   {
    "duration": 60,
    "start_time": "2022-04-01T19:39:56.217Z"
   },
   {
    "duration": 48,
    "start_time": "2022-04-01T19:39:56.279Z"
   },
   {
    "duration": 14,
    "start_time": "2022-04-01T19:39:56.331Z"
   },
   {
    "duration": 53,
    "start_time": "2022-04-01T19:39:56.347Z"
   },
   {
    "duration": 25,
    "start_time": "2022-04-01T19:39:56.402Z"
   },
   {
    "duration": 10,
    "start_time": "2022-04-01T19:39:56.428Z"
   },
   {
    "duration": 17,
    "start_time": "2022-04-01T19:39:56.440Z"
   },
   {
    "duration": 51,
    "start_time": "2022-04-01T19:39:56.459Z"
   },
   {
    "duration": 15,
    "start_time": "2022-04-01T19:39:56.513Z"
   },
   {
    "duration": 15,
    "start_time": "2022-04-01T19:39:56.530Z"
   },
   {
    "duration": 13,
    "start_time": "2022-04-01T19:39:56.547Z"
   },
   {
    "duration": 37,
    "start_time": "2022-04-01T19:39:56.564Z"
   },
   {
    "duration": 11,
    "start_time": "2022-04-01T19:39:56.603Z"
   },
   {
    "duration": 102,
    "start_time": "2022-04-01T19:39:56.616Z"
   },
   {
    "duration": 12,
    "start_time": "2022-04-01T19:39:56.719Z"
   },
   {
    "duration": 13,
    "start_time": "2022-04-01T19:39:56.733Z"
   },
   {
    "duration": 28,
    "start_time": "2022-04-01T19:39:56.747Z"
   },
   {
    "duration": 32,
    "start_time": "2022-04-01T19:39:56.777Z"
   },
   {
    "duration": 17,
    "start_time": "2022-04-01T19:39:56.811Z"
   },
   {
    "duration": 11,
    "start_time": "2022-04-01T19:39:56.830Z"
   },
   {
    "duration": 60,
    "start_time": "2022-04-01T19:39:56.843Z"
   },
   {
    "duration": 72,
    "start_time": "2022-04-01T19:39:56.905Z"
   },
   {
    "duration": 34,
    "start_time": "2022-04-01T19:39:56.979Z"
   },
   {
    "duration": 34,
    "start_time": "2022-04-01T19:39:57.015Z"
   },
   {
    "duration": 25,
    "start_time": "2022-04-01T19:39:57.051Z"
   },
   {
    "duration": 35,
    "start_time": "2022-04-01T19:39:57.101Z"
   },
   {
    "duration": 84,
    "start_time": "2022-04-01T19:39:57.138Z"
   },
   {
    "duration": 13,
    "start_time": "2022-04-01T19:39:57.224Z"
   },
   {
    "duration": 12,
    "start_time": "2022-04-01T19:39:57.239Z"
   },
   {
    "duration": 22,
    "start_time": "2022-04-01T19:39:57.253Z"
   },
   {
    "duration": 20,
    "start_time": "2022-04-01T19:39:57.301Z"
   },
   {
    "duration": 16,
    "start_time": "2022-04-01T19:39:57.323Z"
   },
   {
    "duration": 34,
    "start_time": "2022-04-01T19:39:57.341Z"
   },
   {
    "duration": 26,
    "start_time": "2022-04-01T19:39:57.378Z"
   },
   {
    "duration": 17,
    "start_time": "2022-04-01T19:39:57.407Z"
   },
   {
    "duration": 498,
    "start_time": "2022-04-01T19:39:57.427Z"
   },
   {
    "duration": 195,
    "start_time": "2022-04-01T19:39:57.927Z"
   },
   {
    "duration": 11,
    "start_time": "2022-04-01T19:39:58.125Z"
   },
   {
    "duration": 8,
    "start_time": "2022-04-01T19:39:58.141Z"
   },
   {
    "duration": 168,
    "start_time": "2022-04-01T19:39:58.151Z"
   },
   {
    "duration": 144,
    "start_time": "2022-04-01T19:39:58.322Z"
   },
   {
    "duration": 10,
    "start_time": "2022-04-01T19:39:58.469Z"
   },
   {
    "duration": 23,
    "start_time": "2022-04-01T19:39:58.481Z"
   },
   {
    "duration": 171,
    "start_time": "2022-04-01T19:39:58.507Z"
   },
   {
    "duration": 24,
    "start_time": "2022-04-01T19:39:58.680Z"
   },
   {
    "duration": 7,
    "start_time": "2022-04-01T19:39:58.706Z"
   },
   {
    "duration": 186,
    "start_time": "2022-04-01T19:39:58.715Z"
   },
   {
    "duration": 9,
    "start_time": "2022-04-01T19:39:58.903Z"
   },
   {
    "duration": 7,
    "start_time": "2022-04-01T19:39:58.914Z"
   },
   {
    "duration": 188,
    "start_time": "2022-04-01T19:39:58.922Z"
   },
   {
    "duration": 10,
    "start_time": "2022-04-01T19:39:59.112Z"
   },
   {
    "duration": 15,
    "start_time": "2022-04-01T19:39:59.123Z"
   },
   {
    "duration": 199,
    "start_time": "2022-04-01T19:39:59.140Z"
   },
   {
    "duration": 5,
    "start_time": "2022-04-01T19:39:59.342Z"
   },
   {
    "duration": 8,
    "start_time": "2022-04-01T19:39:59.348Z"
   },
   {
    "duration": 8,
    "start_time": "2022-04-01T19:39:59.358Z"
   },
   {
    "duration": 166,
    "start_time": "2022-04-01T19:46:11.369Z"
   },
   {
    "duration": 171,
    "start_time": "2022-04-01T19:46:12.727Z"
   },
   {
    "duration": 196,
    "start_time": "2022-04-01T19:51:49.589Z"
   },
   {
    "duration": 793,
    "start_time": "2022-04-01T19:54:39.451Z"
   },
   {
    "duration": 18,
    "start_time": "2022-04-01T19:54:40.247Z"
   },
   {
    "duration": 35,
    "start_time": "2022-04-01T19:54:40.267Z"
   },
   {
    "duration": 28,
    "start_time": "2022-04-01T19:54:40.303Z"
   },
   {
    "duration": 10,
    "start_time": "2022-04-01T19:54:40.334Z"
   },
   {
    "duration": 33,
    "start_time": "2022-04-01T19:54:40.345Z"
   },
   {
    "duration": 23,
    "start_time": "2022-04-01T19:54:40.401Z"
   },
   {
    "duration": 9,
    "start_time": "2022-04-01T19:54:40.426Z"
   },
   {
    "duration": 17,
    "start_time": "2022-04-01T19:54:40.437Z"
   },
   {
    "duration": 50,
    "start_time": "2022-04-01T19:54:40.455Z"
   },
   {
    "duration": 9,
    "start_time": "2022-04-01T19:54:40.506Z"
   },
   {
    "duration": 13,
    "start_time": "2022-04-01T19:54:40.516Z"
   },
   {
    "duration": 12,
    "start_time": "2022-04-01T19:54:40.531Z"
   },
   {
    "duration": 14,
    "start_time": "2022-04-01T19:54:40.547Z"
   },
   {
    "duration": 41,
    "start_time": "2022-04-01T19:54:40.563Z"
   },
   {
    "duration": 86,
    "start_time": "2022-04-01T19:54:40.606Z"
   },
   {
    "duration": 11,
    "start_time": "2022-04-01T19:54:40.701Z"
   },
   {
    "duration": 12,
    "start_time": "2022-04-01T19:54:40.714Z"
   },
   {
    "duration": 22,
    "start_time": "2022-04-01T19:54:40.728Z"
   },
   {
    "duration": 18,
    "start_time": "2022-04-01T19:54:40.752Z"
   },
   {
    "duration": 43,
    "start_time": "2022-04-01T19:54:40.772Z"
   },
   {
    "duration": 12,
    "start_time": "2022-04-01T19:54:40.817Z"
   },
   {
    "duration": 40,
    "start_time": "2022-04-01T19:54:40.831Z"
   },
   {
    "duration": 92,
    "start_time": "2022-04-01T19:54:40.873Z"
   },
   {
    "duration": 21,
    "start_time": "2022-04-01T19:54:40.967Z"
   },
   {
    "duration": 36,
    "start_time": "2022-04-01T19:54:41.001Z"
   },
   {
    "duration": 24,
    "start_time": "2022-04-01T19:54:41.039Z"
   },
   {
    "duration": 59,
    "start_time": "2022-04-01T19:54:41.065Z"
   },
   {
    "duration": 78,
    "start_time": "2022-04-01T19:54:41.127Z"
   },
   {
    "duration": 14,
    "start_time": "2022-04-01T19:54:41.207Z"
   },
   {
    "duration": 14,
    "start_time": "2022-04-01T19:54:41.223Z"
   },
   {
    "duration": 21,
    "start_time": "2022-04-01T19:54:41.239Z"
   },
   {
    "duration": 54,
    "start_time": "2022-04-01T19:54:41.262Z"
   },
   {
    "duration": 16,
    "start_time": "2022-04-01T19:54:41.318Z"
   },
   {
    "duration": 17,
    "start_time": "2022-04-01T19:54:41.336Z"
   },
   {
    "duration": 10,
    "start_time": "2022-04-01T19:54:41.354Z"
   },
   {
    "duration": 38,
    "start_time": "2022-04-01T19:54:41.366Z"
   },
   {
    "duration": 462,
    "start_time": "2022-04-01T19:54:41.407Z"
   },
   {
    "duration": 179,
    "start_time": "2022-04-01T19:54:41.871Z"
   },
   {
    "duration": 10,
    "start_time": "2022-04-01T19:54:42.051Z"
   },
   {
    "duration": 7,
    "start_time": "2022-04-01T19:54:42.066Z"
   },
   {
    "duration": 161,
    "start_time": "2022-04-01T19:54:42.075Z"
   },
   {
    "duration": 138,
    "start_time": "2022-04-01T19:54:42.238Z"
   },
   {
    "duration": 10,
    "start_time": "2022-04-01T19:54:42.378Z"
   },
   {
    "duration": 7,
    "start_time": "2022-04-01T19:54:42.401Z"
   },
   {
    "duration": 167,
    "start_time": "2022-04-01T19:54:42.410Z"
   },
   {
    "duration": 10,
    "start_time": "2022-04-01T19:54:42.579Z"
   },
   {
    "duration": 10,
    "start_time": "2022-04-01T19:54:42.602Z"
   },
   {
    "duration": 189,
    "start_time": "2022-04-01T19:54:42.614Z"
   },
   {
    "duration": 10,
    "start_time": "2022-04-01T19:54:42.805Z"
   },
   {
    "duration": 8,
    "start_time": "2022-04-01T19:54:42.817Z"
   },
   {
    "duration": 202,
    "start_time": "2022-04-01T19:54:42.827Z"
   },
   {
    "duration": 181,
    "start_time": "2022-04-01T19:54:43.032Z"
   },
   {
    "duration": 11,
    "start_time": "2022-04-01T19:54:43.215Z"
   },
   {
    "duration": 8,
    "start_time": "2022-04-01T19:54:43.229Z"
   },
   {
    "duration": 220,
    "start_time": "2022-04-01T19:54:43.239Z"
   },
   {
    "duration": 5,
    "start_time": "2022-04-01T19:54:43.462Z"
   },
   {
    "duration": 7,
    "start_time": "2022-04-01T19:54:43.470Z"
   },
   {
    "duration": 25,
    "start_time": "2022-04-01T19:54:43.479Z"
   },
   {
    "duration": 15,
    "start_time": "2022-04-01T20:04:09.888Z"
   },
   {
    "duration": 20,
    "start_time": "2022-04-01T20:04:12.768Z"
   },
   {
    "duration": 14,
    "start_time": "2022-04-01T20:04:27.958Z"
   },
   {
    "duration": 19,
    "start_time": "2022-04-01T20:04:42.308Z"
   },
   {
    "duration": 7,
    "start_time": "2022-04-01T20:07:16.058Z"
   },
   {
    "duration": 137,
    "start_time": "2022-04-01T20:07:43.648Z"
   },
   {
    "duration": 10,
    "start_time": "2022-04-01T20:08:13.668Z"
   },
   {
    "duration": 137,
    "start_time": "2022-04-01T20:08:29.990Z"
   },
   {
    "duration": 206,
    "start_time": "2022-04-01T20:08:36.268Z"
   },
   {
    "duration": 170,
    "start_time": "2022-04-01T20:08:46.728Z"
   },
   {
    "duration": 178,
    "start_time": "2022-04-01T20:08:52.626Z"
   },
   {
    "duration": 214,
    "start_time": "2022-04-01T20:08:57.188Z"
   },
   {
    "duration": 169,
    "start_time": "2022-04-01T20:09:20.600Z"
   },
   {
    "duration": 165,
    "start_time": "2022-04-01T20:09:41.378Z"
   },
   {
    "duration": 136,
    "start_time": "2022-04-01T20:09:45.658Z"
   },
   {
    "duration": 10,
    "start_time": "2022-04-01T20:11:01.937Z"
   },
   {
    "duration": 11,
    "start_time": "2022-04-01T20:11:02.338Z"
   },
   {
    "duration": 151,
    "start_time": "2022-04-01T20:11:02.708Z"
   },
   {
    "duration": 136,
    "start_time": "2022-04-01T20:11:14.386Z"
   },
   {
    "duration": 237,
    "start_time": "2022-04-01T20:11:25.246Z"
   },
   {
    "duration": 139,
    "start_time": "2022-04-01T20:11:29.564Z"
   },
   {
    "duration": 133,
    "start_time": "2022-04-01T20:11:49.698Z"
   },
   {
    "duration": 139,
    "start_time": "2022-04-01T20:11:59.288Z"
   },
   {
    "duration": 141,
    "start_time": "2022-04-01T20:12:10.168Z"
   },
   {
    "duration": 188,
    "start_time": "2022-04-01T20:12:19.768Z"
   },
   {
    "duration": 134,
    "start_time": "2022-04-01T20:12:42.237Z"
   },
   {
    "duration": 172,
    "start_time": "2022-04-01T20:12:46.748Z"
   },
   {
    "duration": 158,
    "start_time": "2022-04-01T20:12:52.226Z"
   },
   {
    "duration": 249,
    "start_time": "2022-04-01T20:12:56.661Z"
   },
   {
    "duration": 11,
    "start_time": "2022-04-01T20:14:47.808Z"
   },
   {
    "duration": 10,
    "start_time": "2022-04-01T20:14:55.178Z"
   },
   {
    "duration": 112,
    "start_time": "2022-04-01T20:15:55.020Z"
   },
   {
    "duration": 261,
    "start_time": "2022-04-01T20:16:18.368Z"
   },
   {
    "duration": 172,
    "start_time": "2022-04-01T20:16:38.601Z"
   },
   {
    "duration": 827,
    "start_time": "2022-04-01T20:34:09.879Z"
   },
   {
    "duration": 3,
    "start_time": "2022-04-01T20:42:14.239Z"
   },
   {
    "duration": 6,
    "start_time": "2022-04-01T20:43:24.848Z"
   },
   {
    "duration": 4,
    "start_time": "2022-04-01T20:43:28.608Z"
   },
   {
    "duration": 3,
    "start_time": "2022-04-01T20:46:01.629Z"
   },
   {
    "duration": 7,
    "start_time": "2022-04-01T20:46:02.598Z"
   },
   {
    "duration": 4,
    "start_time": "2022-04-01T20:46:03.979Z"
   },
   {
    "duration": 5,
    "start_time": "2022-04-01T20:46:10.217Z"
   },
   {
    "duration": 6,
    "start_time": "2022-04-01T20:47:54.417Z"
   },
   {
    "duration": 4,
    "start_time": "2022-04-01T20:47:55.117Z"
   },
   {
    "duration": 7,
    "start_time": "2022-04-01T20:48:05.619Z"
   },
   {
    "duration": 4,
    "start_time": "2022-04-01T20:48:06.328Z"
   },
   {
    "duration": 7,
    "start_time": "2022-04-01T20:52:36.239Z"
   },
   {
    "duration": 5,
    "start_time": "2022-04-01T20:52:37.368Z"
   },
   {
    "duration": 9,
    "start_time": "2022-04-01T20:52:58.410Z"
   },
   {
    "duration": 5,
    "start_time": "2022-04-01T20:52:59.451Z"
   },
   {
    "duration": 7,
    "start_time": "2022-04-01T20:53:02.566Z"
   },
   {
    "duration": 5,
    "start_time": "2022-04-01T20:53:02.878Z"
   },
   {
    "duration": 10,
    "start_time": "2022-04-01T21:11:56.132Z"
   },
   {
    "duration": 11,
    "start_time": "2022-04-01T21:11:56.623Z"
   },
   {
    "duration": 12,
    "start_time": "2022-04-01T21:28:00.796Z"
   },
   {
    "duration": 11,
    "start_time": "2022-04-01T21:28:01.376Z"
   },
   {
    "duration": 3,
    "start_time": "2022-04-01T21:28:03.827Z"
   },
   {
    "duration": 7,
    "start_time": "2022-04-01T21:28:04.158Z"
   },
   {
    "duration": 4,
    "start_time": "2022-04-01T21:28:05.297Z"
   },
   {
    "duration": 10,
    "start_time": "2022-04-01T21:28:17.558Z"
   },
   {
    "duration": 10,
    "start_time": "2022-04-01T21:28:18.138Z"
   },
   {
    "duration": 8,
    "start_time": "2022-04-01T21:28:19.279Z"
   },
   {
    "duration": 5,
    "start_time": "2022-04-01T21:28:19.870Z"
   },
   {
    "duration": 7,
    "start_time": "2022-04-01T21:28:26.838Z"
   },
   {
    "duration": 4,
    "start_time": "2022-04-01T21:28:27.290Z"
   },
   {
    "duration": 1230,
    "start_time": "2022-04-01T21:31:26.317Z"
   },
   {
    "duration": 16,
    "start_time": "2022-04-01T21:31:27.550Z"
   },
   {
    "duration": 47,
    "start_time": "2022-04-01T21:31:27.568Z"
   },
   {
    "duration": 27,
    "start_time": "2022-04-01T21:31:27.617Z"
   },
   {
    "duration": 9,
    "start_time": "2022-04-01T21:31:27.647Z"
   },
   {
    "duration": 50,
    "start_time": "2022-04-01T21:31:27.658Z"
   },
   {
    "duration": 38,
    "start_time": "2022-04-01T21:31:27.710Z"
   },
   {
    "duration": 10,
    "start_time": "2022-04-01T21:31:27.751Z"
   },
   {
    "duration": 49,
    "start_time": "2022-04-01T21:31:27.764Z"
   },
   {
    "duration": 34,
    "start_time": "2022-04-01T21:31:27.816Z"
   },
   {
    "duration": 13,
    "start_time": "2022-04-01T21:31:27.853Z"
   },
   {
    "duration": 37,
    "start_time": "2022-04-01T21:31:27.868Z"
   },
   {
    "duration": 18,
    "start_time": "2022-04-01T21:31:27.907Z"
   },
   {
    "duration": 16,
    "start_time": "2022-04-01T21:31:27.929Z"
   },
   {
    "duration": 11,
    "start_time": "2022-04-01T21:31:27.947Z"
   },
   {
    "duration": 102,
    "start_time": "2022-04-01T21:31:27.960Z"
   },
   {
    "duration": 10,
    "start_time": "2022-04-01T21:31:28.065Z"
   },
   {
    "duration": 13,
    "start_time": "2022-04-01T21:31:28.076Z"
   },
   {
    "duration": 22,
    "start_time": "2022-04-01T21:31:28.100Z"
   },
   {
    "duration": 17,
    "start_time": "2022-04-01T21:31:28.124Z"
   },
   {
    "duration": 17,
    "start_time": "2022-04-01T21:31:28.143Z"
   },
   {
    "duration": 41,
    "start_time": "2022-04-01T21:31:28.161Z"
   },
   {
    "duration": 51,
    "start_time": "2022-04-01T21:31:28.204Z"
   },
   {
    "duration": 71,
    "start_time": "2022-04-01T21:31:28.257Z"
   },
   {
    "duration": 21,
    "start_time": "2022-04-01T21:31:28.329Z"
   },
   {
    "duration": 51,
    "start_time": "2022-04-01T21:31:28.351Z"
   },
   {
    "duration": 25,
    "start_time": "2022-04-01T21:31:28.404Z"
   },
   {
    "duration": 34,
    "start_time": "2022-04-01T21:31:28.431Z"
   },
   {
    "duration": 54,
    "start_time": "2022-04-01T21:31:28.466Z"
   },
   {
    "duration": 12,
    "start_time": "2022-04-01T21:31:28.522Z"
   },
   {
    "duration": 18,
    "start_time": "2022-04-01T21:31:28.536Z"
   },
   {
    "duration": 21,
    "start_time": "2022-04-01T21:31:28.556Z"
   },
   {
    "duration": 20,
    "start_time": "2022-04-01T21:31:28.600Z"
   },
   {
    "duration": 15,
    "start_time": "2022-04-01T21:31:28.621Z"
   },
   {
    "duration": 15,
    "start_time": "2022-04-01T21:31:28.637Z"
   },
   {
    "duration": 10,
    "start_time": "2022-04-01T21:31:28.654Z"
   },
   {
    "duration": 37,
    "start_time": "2022-04-01T21:31:28.666Z"
   },
   {
    "duration": 470,
    "start_time": "2022-04-01T21:31:28.704Z"
   },
   {
    "duration": 180,
    "start_time": "2022-04-01T21:31:29.176Z"
   },
   {
    "duration": 10,
    "start_time": "2022-04-01T21:31:29.358Z"
   },
   {
    "duration": 25,
    "start_time": "2022-04-01T21:31:29.372Z"
   },
   {
    "duration": 145,
    "start_time": "2022-04-01T21:31:29.399Z"
   },
   {
    "duration": 137,
    "start_time": "2022-04-01T21:31:29.546Z"
   },
   {
    "duration": 17,
    "start_time": "2022-04-01T21:31:29.685Z"
   },
   {
    "duration": 6,
    "start_time": "2022-04-01T21:31:29.704Z"
   },
   {
    "duration": 168,
    "start_time": "2022-04-01T21:31:29.712Z"
   },
   {
    "duration": 20,
    "start_time": "2022-04-01T21:31:29.882Z"
   },
   {
    "duration": 7,
    "start_time": "2022-04-01T21:31:29.904Z"
   },
   {
    "duration": 197,
    "start_time": "2022-04-01T21:31:29.913Z"
   },
   {
    "duration": 10,
    "start_time": "2022-04-01T21:31:30.112Z"
   },
   {
    "duration": 7,
    "start_time": "2022-04-01T21:31:30.124Z"
   },
   {
    "duration": 258,
    "start_time": "2022-04-01T21:31:30.133Z"
   },
   {
    "duration": 188,
    "start_time": "2022-04-01T21:31:30.393Z"
   },
   {
    "duration": 19,
    "start_time": "2022-04-01T21:31:30.584Z"
   },
   {
    "duration": 9,
    "start_time": "2022-04-01T21:31:30.605Z"
   },
   {
    "duration": 207,
    "start_time": "2022-04-01T21:31:30.615Z"
   },
   {
    "duration": 11,
    "start_time": "2022-04-01T21:31:30.824Z"
   },
   {
    "duration": 17,
    "start_time": "2022-04-01T21:31:30.836Z"
   },
   {
    "duration": 17,
    "start_time": "2022-04-01T21:31:30.855Z"
   },
   {
    "duration": 10,
    "start_time": "2022-04-01T21:31:30.874Z"
   },
   {
    "duration": 29,
    "start_time": "2022-04-01T21:31:30.886Z"
   },
   {
    "duration": 30,
    "start_time": "2022-04-01T21:31:30.917Z"
   },
   {
    "duration": 20,
    "start_time": "2022-04-01T21:31:30.949Z"
   },
   {
    "duration": 16,
    "start_time": "2022-04-01T21:31:30.971Z"
   },
   {
    "duration": 24,
    "start_time": "2022-04-01T21:31:30.989Z"
   },
   {
    "duration": 1272,
    "start_time": "2022-04-01T21:33:48.677Z"
   },
   {
    "duration": 17,
    "start_time": "2022-04-01T21:33:49.952Z"
   },
   {
    "duration": 38,
    "start_time": "2022-04-01T21:33:49.971Z"
   },
   {
    "duration": 30,
    "start_time": "2022-04-01T21:33:50.011Z"
   },
   {
    "duration": 10,
    "start_time": "2022-04-01T21:33:50.044Z"
   },
   {
    "duration": 60,
    "start_time": "2022-04-01T21:33:50.057Z"
   },
   {
    "duration": 24,
    "start_time": "2022-04-01T21:33:50.120Z"
   },
   {
    "duration": 14,
    "start_time": "2022-04-01T21:33:50.147Z"
   },
   {
    "duration": 39,
    "start_time": "2022-04-01T21:33:50.163Z"
   },
   {
    "duration": 22,
    "start_time": "2022-04-01T21:33:50.205Z"
   },
   {
    "duration": 10,
    "start_time": "2022-04-01T21:33:50.229Z"
   },
   {
    "duration": 13,
    "start_time": "2022-04-01T21:33:50.241Z"
   },
   {
    "duration": 12,
    "start_time": "2022-04-01T21:33:50.256Z"
   },
   {
    "duration": 16,
    "start_time": "2022-04-01T21:33:50.301Z"
   },
   {
    "duration": 13,
    "start_time": "2022-04-01T21:33:50.318Z"
   },
   {
    "duration": 99,
    "start_time": "2022-04-01T21:33:50.333Z"
   },
   {
    "duration": 10,
    "start_time": "2022-04-01T21:33:50.434Z"
   },
   {
    "duration": 12,
    "start_time": "2022-04-01T21:33:50.446Z"
   },
   {
    "duration": 23,
    "start_time": "2022-04-01T21:33:50.460Z"
   },
   {
    "duration": 31,
    "start_time": "2022-04-01T21:33:50.485Z"
   },
   {
    "duration": 16,
    "start_time": "2022-04-01T21:33:50.518Z"
   },
   {
    "duration": 11,
    "start_time": "2022-04-01T21:33:50.536Z"
   },
   {
    "duration": 61,
    "start_time": "2022-04-01T21:33:50.549Z"
   },
   {
    "duration": 69,
    "start_time": "2022-04-01T21:33:50.612Z"
   },
   {
    "duration": 38,
    "start_time": "2022-04-01T21:33:50.682Z"
   },
   {
    "duration": 34,
    "start_time": "2022-04-01T21:33:50.722Z"
   },
   {
    "duration": 43,
    "start_time": "2022-04-01T21:33:50.758Z"
   },
   {
    "duration": 35,
    "start_time": "2022-04-01T21:33:50.803Z"
   },
   {
    "duration": 28,
    "start_time": "2022-04-01T21:33:50.839Z"
   },
   {
    "duration": 32,
    "start_time": "2022-04-01T21:33:50.869Z"
   },
   {
    "duration": 13,
    "start_time": "2022-04-01T21:33:50.903Z"
   },
   {
    "duration": 20,
    "start_time": "2022-04-01T21:33:50.918Z"
   },
   {
    "duration": 18,
    "start_time": "2022-04-01T21:33:50.940Z"
   },
   {
    "duration": 47,
    "start_time": "2022-04-01T21:33:50.960Z"
   },
   {
    "duration": 16,
    "start_time": "2022-04-01T21:33:51.009Z"
   },
   {
    "duration": 14,
    "start_time": "2022-04-01T21:33:51.027Z"
   },
   {
    "duration": 7,
    "start_time": "2022-04-01T21:33:51.043Z"
   },
   {
    "duration": 496,
    "start_time": "2022-04-01T21:33:51.051Z"
   },
   {
    "duration": 183,
    "start_time": "2022-04-01T21:33:51.549Z"
   },
   {
    "duration": 11,
    "start_time": "2022-04-01T21:33:51.734Z"
   },
   {
    "duration": 7,
    "start_time": "2022-04-01T21:33:51.750Z"
   },
   {
    "duration": 165,
    "start_time": "2022-04-01T21:33:51.759Z"
   },
   {
    "duration": 144,
    "start_time": "2022-04-01T21:33:51.926Z"
   },
   {
    "duration": 12,
    "start_time": "2022-04-01T21:33:52.072Z"
   },
   {
    "duration": 21,
    "start_time": "2022-04-01T21:33:52.086Z"
   },
   {
    "duration": 171,
    "start_time": "2022-04-01T21:33:52.109Z"
   },
   {
    "duration": 20,
    "start_time": "2022-04-01T21:33:52.283Z"
   },
   {
    "duration": 17,
    "start_time": "2022-04-01T21:33:52.305Z"
   },
   {
    "duration": 194,
    "start_time": "2022-04-01T21:33:52.324Z"
   },
   {
    "duration": 12,
    "start_time": "2022-04-01T21:33:52.520Z"
   },
   {
    "duration": 24,
    "start_time": "2022-04-01T21:33:52.534Z"
   },
   {
    "duration": 255,
    "start_time": "2022-04-01T21:33:52.560Z"
   },
   {
    "duration": 176,
    "start_time": "2022-04-01T21:33:52.817Z"
   },
   {
    "duration": 15,
    "start_time": "2022-04-01T21:33:52.995Z"
   },
   {
    "duration": 11,
    "start_time": "2022-04-01T21:33:53.012Z"
   },
   {
    "duration": 207,
    "start_time": "2022-04-01T21:33:53.025Z"
   },
   {
    "duration": 11,
    "start_time": "2022-04-01T21:33:53.234Z"
   },
   {
    "duration": 11,
    "start_time": "2022-04-01T21:33:53.247Z"
   },
   {
    "duration": 9,
    "start_time": "2022-04-01T21:33:53.260Z"
   },
   {
    "duration": 31,
    "start_time": "2022-04-01T21:33:53.270Z"
   },
   {
    "duration": 5,
    "start_time": "2022-04-01T21:33:53.303Z"
   },
   {
    "duration": 15,
    "start_time": "2022-04-01T21:33:53.310Z"
   },
   {
    "duration": 10,
    "start_time": "2022-04-01T21:33:53.327Z"
   },
   {
    "duration": 13,
    "start_time": "2022-04-01T21:33:53.339Z"
   },
   {
    "duration": 5,
    "start_time": "2022-04-01T21:33:53.354Z"
   },
   {
    "duration": 11,
    "start_time": "2022-04-01T21:34:49.507Z"
   },
   {
    "duration": 10,
    "start_time": "2022-04-01T21:36:43.629Z"
   },
   {
    "duration": 10,
    "start_time": "2022-04-01T21:36:49.539Z"
   },
   {
    "duration": 13,
    "start_time": "2022-04-01T21:38:54.021Z"
   },
   {
    "duration": 12,
    "start_time": "2022-04-01T21:38:57.048Z"
   },
   {
    "duration": 6,
    "start_time": "2022-04-01T21:39:09.198Z"
   },
   {
    "duration": 12,
    "start_time": "2022-04-01T21:39:13.989Z"
   },
   {
    "duration": 1286,
    "start_time": "2022-04-01T21:39:40.129Z"
   },
   {
    "duration": 17,
    "start_time": "2022-04-01T21:39:41.417Z"
   },
   {
    "duration": 34,
    "start_time": "2022-04-01T21:39:41.436Z"
   },
   {
    "duration": 37,
    "start_time": "2022-04-01T21:39:41.472Z"
   },
   {
    "duration": 10,
    "start_time": "2022-04-01T21:39:41.512Z"
   },
   {
    "duration": 35,
    "start_time": "2022-04-01T21:39:41.524Z"
   },
   {
    "duration": 48,
    "start_time": "2022-04-01T21:39:41.561Z"
   },
   {
    "duration": 8,
    "start_time": "2022-04-01T21:39:41.611Z"
   },
   {
    "duration": 16,
    "start_time": "2022-04-01T21:39:41.621Z"
   },
   {
    "duration": 22,
    "start_time": "2022-04-01T21:39:41.639Z"
   },
   {
    "duration": 40,
    "start_time": "2022-04-01T21:39:41.662Z"
   },
   {
    "duration": 18,
    "start_time": "2022-04-01T21:39:41.704Z"
   },
   {
    "duration": 14,
    "start_time": "2022-04-01T21:39:41.724Z"
   },
   {
    "duration": 17,
    "start_time": "2022-04-01T21:39:41.742Z"
   },
   {
    "duration": 16,
    "start_time": "2022-04-01T21:39:41.761Z"
   },
   {
    "duration": 98,
    "start_time": "2022-04-01T21:39:41.779Z"
   },
   {
    "duration": 22,
    "start_time": "2022-04-01T21:39:41.879Z"
   },
   {
    "duration": 15,
    "start_time": "2022-04-01T21:39:41.904Z"
   },
   {
    "duration": 16,
    "start_time": "2022-04-01T21:39:41.921Z"
   },
   {
    "duration": 14,
    "start_time": "2022-04-01T21:39:41.939Z"
   },
   {
    "duration": 21,
    "start_time": "2022-04-01T21:39:41.955Z"
   },
   {
    "duration": 34,
    "start_time": "2022-04-01T21:39:41.978Z"
   },
   {
    "duration": 15,
    "start_time": "2022-04-01T21:39:42.014Z"
   },
   {
    "duration": 11,
    "start_time": "2022-04-01T21:39:42.031Z"
   },
   {
    "duration": 59,
    "start_time": "2022-04-01T21:39:42.044Z"
   },
   {
    "duration": 69,
    "start_time": "2022-04-01T21:39:42.105Z"
   },
   {
    "duration": 37,
    "start_time": "2022-04-01T21:39:42.176Z"
   },
   {
    "duration": 33,
    "start_time": "2022-04-01T21:39:42.215Z"
   },
   {
    "duration": 25,
    "start_time": "2022-04-01T21:39:42.250Z"
   },
   {
    "duration": 55,
    "start_time": "2022-04-01T21:39:42.277Z"
   },
   {
    "duration": 30,
    "start_time": "2022-04-01T21:39:42.334Z"
   },
   {
    "duration": 40,
    "start_time": "2022-04-01T21:39:42.366Z"
   },
   {
    "duration": 15,
    "start_time": "2022-04-01T21:39:42.408Z"
   },
   {
    "duration": 22,
    "start_time": "2022-04-01T21:39:42.424Z"
   },
   {
    "duration": 54,
    "start_time": "2022-04-01T21:39:42.448Z"
   },
   {
    "duration": 16,
    "start_time": "2022-04-01T21:39:42.505Z"
   },
   {
    "duration": 17,
    "start_time": "2022-04-01T21:39:42.523Z"
   },
   {
    "duration": 11,
    "start_time": "2022-04-01T21:39:42.542Z"
   },
   {
    "duration": 8,
    "start_time": "2022-04-01T21:39:42.555Z"
   },
   {
    "duration": 520,
    "start_time": "2022-04-01T21:39:42.565Z"
   },
   {
    "duration": 178,
    "start_time": "2022-04-01T21:39:43.100Z"
   },
   {
    "duration": 23,
    "start_time": "2022-04-01T21:39:43.280Z"
   },
   {
    "duration": 7,
    "start_time": "2022-04-01T21:39:43.305Z"
   },
   {
    "duration": 160,
    "start_time": "2022-04-01T21:39:43.314Z"
   },
   {
    "duration": 144,
    "start_time": "2022-04-01T21:39:43.476Z"
   },
   {
    "duration": 10,
    "start_time": "2022-04-01T21:39:43.622Z"
   },
   {
    "duration": 10,
    "start_time": "2022-04-01T21:39:43.634Z"
   },
   {
    "duration": 176,
    "start_time": "2022-04-01T21:39:43.646Z"
   },
   {
    "duration": 11,
    "start_time": "2022-04-01T21:39:43.824Z"
   },
   {
    "duration": 7,
    "start_time": "2022-04-01T21:39:43.838Z"
   },
   {
    "duration": 201,
    "start_time": "2022-04-01T21:39:43.847Z"
   },
   {
    "duration": 11,
    "start_time": "2022-04-01T21:39:44.050Z"
   },
   {
    "duration": 7,
    "start_time": "2022-04-01T21:39:44.064Z"
   },
   {
    "duration": 282,
    "start_time": "2022-04-01T21:39:44.073Z"
   },
   {
    "duration": 185,
    "start_time": "2022-04-01T21:39:44.358Z"
   },
   {
    "duration": 11,
    "start_time": "2022-04-01T21:39:44.545Z"
   },
   {
    "duration": 8,
    "start_time": "2022-04-01T21:39:44.558Z"
   },
   {
    "duration": 211,
    "start_time": "2022-04-01T21:39:44.568Z"
   },
   {
    "duration": 22,
    "start_time": "2022-04-01T21:39:44.781Z"
   },
   {
    "duration": 10,
    "start_time": "2022-04-01T21:39:44.805Z"
   },
   {
    "duration": 3,
    "start_time": "2022-04-01T21:39:44.817Z"
   },
   {
    "duration": 7,
    "start_time": "2022-04-01T21:39:44.821Z"
   },
   {
    "duration": 6,
    "start_time": "2022-04-01T21:39:44.830Z"
   },
   {
    "duration": 10,
    "start_time": "2022-04-01T21:39:44.838Z"
   },
   {
    "duration": 11,
    "start_time": "2022-04-01T21:39:44.849Z"
   },
   {
    "duration": 44,
    "start_time": "2022-04-01T21:39:44.861Z"
   },
   {
    "duration": 5,
    "start_time": "2022-04-01T21:39:44.907Z"
   },
   {
    "duration": 7,
    "start_time": "2022-04-01T21:39:57.183Z"
   },
   {
    "duration": 11,
    "start_time": "2022-04-01T21:39:58.233Z"
   },
   {
    "duration": 1295,
    "start_time": "2022-04-01T21:42:22.608Z"
   },
   {
    "duration": 18,
    "start_time": "2022-04-01T21:42:23.905Z"
   },
   {
    "duration": 33,
    "start_time": "2022-04-01T21:42:23.924Z"
   },
   {
    "duration": 49,
    "start_time": "2022-04-01T21:42:23.959Z"
   },
   {
    "duration": 9,
    "start_time": "2022-04-01T21:42:24.011Z"
   },
   {
    "duration": 38,
    "start_time": "2022-04-01T21:42:24.022Z"
   },
   {
    "duration": 48,
    "start_time": "2022-04-01T21:42:24.062Z"
   },
   {
    "duration": 9,
    "start_time": "2022-04-01T21:42:24.112Z"
   },
   {
    "duration": 19,
    "start_time": "2022-04-01T21:42:24.123Z"
   },
   {
    "duration": 21,
    "start_time": "2022-04-01T21:42:24.144Z"
   },
   {
    "duration": 46,
    "start_time": "2022-04-01T21:42:24.167Z"
   },
   {
    "duration": 21,
    "start_time": "2022-04-01T21:42:24.215Z"
   },
   {
    "duration": 70,
    "start_time": "2022-04-01T21:42:24.239Z"
   },
   {
    "duration": 22,
    "start_time": "2022-04-01T21:42:24.312Z"
   },
   {
    "duration": 15,
    "start_time": "2022-04-01T21:42:24.336Z"
   },
   {
    "duration": 101,
    "start_time": "2022-04-01T21:42:24.353Z"
   },
   {
    "duration": 11,
    "start_time": "2022-04-01T21:42:24.456Z"
   },
   {
    "duration": 13,
    "start_time": "2022-04-01T21:42:24.469Z"
   },
   {
    "duration": 29,
    "start_time": "2022-04-01T21:42:24.484Z"
   },
   {
    "duration": 18,
    "start_time": "2022-04-01T21:42:24.515Z"
   },
   {
    "duration": 33,
    "start_time": "2022-04-01T21:42:24.535Z"
   },
   {
    "duration": 31,
    "start_time": "2022-04-01T21:42:24.570Z"
   },
   {
    "duration": 33,
    "start_time": "2022-04-01T21:42:24.603Z"
   },
   {
    "duration": 12,
    "start_time": "2022-04-01T21:42:24.638Z"
   },
   {
    "duration": 50,
    "start_time": "2022-04-01T21:42:24.652Z"
   },
   {
    "duration": 72,
    "start_time": "2022-04-01T21:42:24.704Z"
   },
   {
    "duration": 35,
    "start_time": "2022-04-01T21:42:24.777Z"
   },
   {
    "duration": 36,
    "start_time": "2022-04-01T21:42:24.814Z"
   },
   {
    "duration": 48,
    "start_time": "2022-04-01T21:42:24.852Z"
   },
   {
    "duration": 34,
    "start_time": "2022-04-01T21:42:24.902Z"
   },
   {
    "duration": 30,
    "start_time": "2022-04-01T21:42:24.938Z"
   },
   {
    "duration": 38,
    "start_time": "2022-04-01T21:42:24.970Z"
   },
   {
    "duration": 13,
    "start_time": "2022-04-01T21:42:25.010Z"
   },
   {
    "duration": 22,
    "start_time": "2022-04-01T21:42:25.025Z"
   },
   {
    "duration": 19,
    "start_time": "2022-04-01T21:42:25.049Z"
   },
   {
    "duration": 45,
    "start_time": "2022-04-01T21:42:25.070Z"
   },
   {
    "duration": 15,
    "start_time": "2022-04-01T21:42:25.118Z"
   },
   {
    "duration": 14,
    "start_time": "2022-04-01T21:42:25.135Z"
   },
   {
    "duration": 14,
    "start_time": "2022-04-01T21:42:25.151Z"
   },
   {
    "duration": 501,
    "start_time": "2022-04-01T21:42:25.168Z"
   },
   {
    "duration": 185,
    "start_time": "2022-04-01T21:42:25.674Z"
   },
   {
    "duration": 11,
    "start_time": "2022-04-01T21:42:25.861Z"
   },
   {
    "duration": 7,
    "start_time": "2022-04-01T21:42:25.874Z"
   },
   {
    "duration": 172,
    "start_time": "2022-04-01T21:42:25.883Z"
   },
   {
    "duration": 138,
    "start_time": "2022-04-01T21:42:26.057Z"
   },
   {
    "duration": 9,
    "start_time": "2022-04-01T21:42:26.201Z"
   },
   {
    "duration": 11,
    "start_time": "2022-04-01T21:42:26.212Z"
   },
   {
    "duration": 160,
    "start_time": "2022-04-01T21:42:26.225Z"
   },
   {
    "duration": 20,
    "start_time": "2022-04-01T21:42:26.387Z"
   },
   {
    "duration": 11,
    "start_time": "2022-04-01T21:42:26.408Z"
   },
   {
    "duration": 182,
    "start_time": "2022-04-01T21:42:26.421Z"
   },
   {
    "duration": 9,
    "start_time": "2022-04-01T21:42:26.605Z"
   },
   {
    "duration": 6,
    "start_time": "2022-04-01T21:42:26.616Z"
   },
   {
    "duration": 258,
    "start_time": "2022-04-01T21:42:26.624Z"
   },
   {
    "duration": 173,
    "start_time": "2022-04-01T21:42:26.884Z"
   },
   {
    "duration": 10,
    "start_time": "2022-04-01T21:42:27.058Z"
   },
   {
    "duration": 9,
    "start_time": "2022-04-01T21:42:27.070Z"
   },
   {
    "duration": 206,
    "start_time": "2022-04-01T21:42:27.081Z"
   },
   {
    "duration": 16,
    "start_time": "2022-04-01T21:42:27.289Z"
   },
   {
    "duration": 10,
    "start_time": "2022-04-01T21:42:27.307Z"
   },
   {
    "duration": 3,
    "start_time": "2022-04-01T21:42:27.318Z"
   },
   {
    "duration": 12,
    "start_time": "2022-04-01T21:42:27.323Z"
   },
   {
    "duration": 6,
    "start_time": "2022-04-01T21:42:27.336Z"
   },
   {
    "duration": 10,
    "start_time": "2022-04-01T21:42:27.344Z"
   },
   {
    "duration": 9,
    "start_time": "2022-04-01T21:42:27.357Z"
   },
   {
    "duration": 6,
    "start_time": "2022-04-01T21:42:27.402Z"
   },
   {
    "duration": 4,
    "start_time": "2022-04-01T21:42:27.410Z"
   },
   {
    "duration": 101,
    "start_time": "2022-04-01T21:42:38.144Z"
   },
   {
    "duration": 10,
    "start_time": "2022-04-01T21:42:46.243Z"
   },
   {
    "duration": 10,
    "start_time": "2022-04-01T21:42:56.674Z"
   },
   {
    "duration": 400,
    "start_time": "2022-04-01T21:48:15.104Z"
   },
   {
    "duration": 11,
    "start_time": "2022-04-01T21:49:05.654Z"
   },
   {
    "duration": 1297,
    "start_time": "2022-04-01T21:49:22.000Z"
   },
   {
    "duration": 17,
    "start_time": "2022-04-01T21:49:23.300Z"
   },
   {
    "duration": 41,
    "start_time": "2022-04-01T21:49:23.319Z"
   },
   {
    "duration": 40,
    "start_time": "2022-04-01T21:49:23.362Z"
   },
   {
    "duration": 10,
    "start_time": "2022-04-01T21:49:23.404Z"
   },
   {
    "duration": 48,
    "start_time": "2022-04-01T21:49:23.416Z"
   },
   {
    "duration": 23,
    "start_time": "2022-04-01T21:49:23.466Z"
   },
   {
    "duration": 8,
    "start_time": "2022-04-01T21:49:23.501Z"
   },
   {
    "duration": 47,
    "start_time": "2022-04-01T21:49:23.511Z"
   },
   {
    "duration": 36,
    "start_time": "2022-04-01T21:49:23.560Z"
   },
   {
    "duration": 18,
    "start_time": "2022-04-01T21:49:23.598Z"
   },
   {
    "duration": 23,
    "start_time": "2022-04-01T21:49:23.618Z"
   },
   {
    "duration": 16,
    "start_time": "2022-04-01T21:49:23.643Z"
   },
   {
    "duration": 27,
    "start_time": "2022-04-01T21:49:23.663Z"
   },
   {
    "duration": 17,
    "start_time": "2022-04-01T21:49:23.692Z"
   },
   {
    "duration": 96,
    "start_time": "2022-04-01T21:49:23.711Z"
   },
   {
    "duration": 11,
    "start_time": "2022-04-01T21:49:23.809Z"
   },
   {
    "duration": 26,
    "start_time": "2022-04-01T21:49:23.822Z"
   },
   {
    "duration": 104,
    "start_time": "2022-04-01T21:49:23.850Z"
   },
   {
    "duration": 0,
    "start_time": "2022-04-01T21:49:23.957Z"
   },
   {
    "duration": 0,
    "start_time": "2022-04-01T21:49:23.958Z"
   },
   {
    "duration": 0,
    "start_time": "2022-04-01T21:49:23.959Z"
   },
   {
    "duration": 0,
    "start_time": "2022-04-01T21:49:23.960Z"
   },
   {
    "duration": 0,
    "start_time": "2022-04-01T21:49:23.961Z"
   },
   {
    "duration": 0,
    "start_time": "2022-04-01T21:49:23.962Z"
   },
   {
    "duration": 0,
    "start_time": "2022-04-01T21:49:23.963Z"
   },
   {
    "duration": 0,
    "start_time": "2022-04-01T21:49:23.964Z"
   },
   {
    "duration": 0,
    "start_time": "2022-04-01T21:49:23.965Z"
   },
   {
    "duration": 0,
    "start_time": "2022-04-01T21:49:23.966Z"
   },
   {
    "duration": 0,
    "start_time": "2022-04-01T21:49:23.967Z"
   },
   {
    "duration": 0,
    "start_time": "2022-04-01T21:49:23.968Z"
   },
   {
    "duration": 0,
    "start_time": "2022-04-01T21:49:23.969Z"
   },
   {
    "duration": 0,
    "start_time": "2022-04-01T21:49:23.970Z"
   },
   {
    "duration": 0,
    "start_time": "2022-04-01T21:49:23.971Z"
   },
   {
    "duration": 0,
    "start_time": "2022-04-01T21:49:23.972Z"
   },
   {
    "duration": 0,
    "start_time": "2022-04-01T21:49:24.000Z"
   },
   {
    "duration": 0,
    "start_time": "2022-04-01T21:49:24.002Z"
   },
   {
    "duration": 0,
    "start_time": "2022-04-01T21:49:24.003Z"
   },
   {
    "duration": 0,
    "start_time": "2022-04-01T21:49:24.004Z"
   },
   {
    "duration": 0,
    "start_time": "2022-04-01T21:49:24.006Z"
   },
   {
    "duration": 0,
    "start_time": "2022-04-01T21:49:24.007Z"
   },
   {
    "duration": 0,
    "start_time": "2022-04-01T21:49:24.008Z"
   },
   {
    "duration": 0,
    "start_time": "2022-04-01T21:49:24.009Z"
   },
   {
    "duration": 0,
    "start_time": "2022-04-01T21:49:24.010Z"
   },
   {
    "duration": 0,
    "start_time": "2022-04-01T21:49:24.011Z"
   },
   {
    "duration": 0,
    "start_time": "2022-04-01T21:49:24.012Z"
   },
   {
    "duration": 0,
    "start_time": "2022-04-01T21:49:24.013Z"
   },
   {
    "duration": 0,
    "start_time": "2022-04-01T21:49:24.015Z"
   },
   {
    "duration": 0,
    "start_time": "2022-04-01T21:49:24.016Z"
   },
   {
    "duration": 0,
    "start_time": "2022-04-01T21:49:24.017Z"
   },
   {
    "duration": 0,
    "start_time": "2022-04-01T21:49:24.018Z"
   },
   {
    "duration": 0,
    "start_time": "2022-04-01T21:49:24.019Z"
   },
   {
    "duration": 0,
    "start_time": "2022-04-01T21:49:24.020Z"
   },
   {
    "duration": 0,
    "start_time": "2022-04-01T21:49:24.021Z"
   },
   {
    "duration": 0,
    "start_time": "2022-04-01T21:49:24.022Z"
   },
   {
    "duration": 1,
    "start_time": "2022-04-01T21:49:24.022Z"
   },
   {
    "duration": 0,
    "start_time": "2022-04-01T21:49:24.023Z"
   },
   {
    "duration": 0,
    "start_time": "2022-04-01T21:49:24.024Z"
   },
   {
    "duration": 0,
    "start_time": "2022-04-01T21:49:24.025Z"
   },
   {
    "duration": 0,
    "start_time": "2022-04-01T21:49:24.026Z"
   },
   {
    "duration": 0,
    "start_time": "2022-04-01T21:49:24.027Z"
   },
   {
    "duration": 0,
    "start_time": "2022-04-01T21:49:24.028Z"
   },
   {
    "duration": 0,
    "start_time": "2022-04-01T21:49:24.028Z"
   },
   {
    "duration": 0,
    "start_time": "2022-04-01T21:49:24.029Z"
   },
   {
    "duration": 0,
    "start_time": "2022-04-01T21:49:24.030Z"
   },
   {
    "duration": 0,
    "start_time": "2022-04-01T21:49:24.031Z"
   },
   {
    "duration": 0,
    "start_time": "2022-04-01T21:49:24.032Z"
   },
   {
    "duration": 0,
    "start_time": "2022-04-01T21:49:24.033Z"
   },
   {
    "duration": 9,
    "start_time": "2022-04-01T21:52:42.980Z"
   },
   {
    "duration": 390,
    "start_time": "2022-04-01T21:53:12.201Z"
   },
   {
    "duration": 11,
    "start_time": "2022-04-01T21:53:23.091Z"
   },
   {
    "duration": 11,
    "start_time": "2022-04-01T21:53:50.402Z"
   },
   {
    "duration": 27,
    "start_time": "2022-04-01T21:54:18.421Z"
   },
   {
    "duration": 5,
    "start_time": "2022-04-01T21:58:54.750Z"
   },
   {
    "duration": 10,
    "start_time": "2022-04-01T21:59:06.938Z"
   },
   {
    "duration": 1297,
    "start_time": "2022-04-01T21:59:54.690Z"
   },
   {
    "duration": 17,
    "start_time": "2022-04-01T21:59:55.989Z"
   },
   {
    "duration": 40,
    "start_time": "2022-04-01T21:59:56.008Z"
   },
   {
    "duration": 28,
    "start_time": "2022-04-01T21:59:56.049Z"
   },
   {
    "duration": 30,
    "start_time": "2022-04-01T21:59:56.080Z"
   },
   {
    "duration": 71,
    "start_time": "2022-04-01T21:59:56.113Z"
   },
   {
    "duration": 26,
    "start_time": "2022-04-01T21:59:56.187Z"
   },
   {
    "duration": 10,
    "start_time": "2022-04-01T21:59:56.215Z"
   },
   {
    "duration": 17,
    "start_time": "2022-04-01T21:59:56.227Z"
   },
   {
    "duration": 23,
    "start_time": "2022-04-01T21:59:56.246Z"
   },
   {
    "duration": 35,
    "start_time": "2022-04-01T21:59:56.271Z"
   },
   {
    "duration": 12,
    "start_time": "2022-04-01T21:59:56.309Z"
   },
   {
    "duration": 12,
    "start_time": "2022-04-01T21:59:56.324Z"
   },
   {
    "duration": 16,
    "start_time": "2022-04-01T21:59:56.341Z"
   },
   {
    "duration": 51,
    "start_time": "2022-04-01T21:59:56.359Z"
   },
   {
    "duration": 94,
    "start_time": "2022-04-01T21:59:56.412Z"
   },
   {
    "duration": 11,
    "start_time": "2022-04-01T21:59:56.508Z"
   },
   {
    "duration": 17,
    "start_time": "2022-04-01T21:59:56.522Z"
   },
   {
    "duration": 13,
    "start_time": "2022-04-01T21:59:56.541Z"
   },
   {
    "duration": 15,
    "start_time": "2022-04-01T21:59:56.556Z"
   },
   {
    "duration": 42,
    "start_time": "2022-04-01T21:59:56.573Z"
   },
   {
    "duration": 18,
    "start_time": "2022-04-01T21:59:56.617Z"
   },
   {
    "duration": 16,
    "start_time": "2022-04-01T21:59:56.637Z"
   },
   {
    "duration": 12,
    "start_time": "2022-04-01T21:59:56.655Z"
   },
   {
    "duration": 32,
    "start_time": "2022-04-01T21:59:56.700Z"
   },
   {
    "duration": 83,
    "start_time": "2022-04-01T21:59:56.734Z"
   },
   {
    "duration": 22,
    "start_time": "2022-04-01T21:59:56.819Z"
   },
   {
    "duration": 33,
    "start_time": "2022-04-01T21:59:56.843Z"
   },
   {
    "duration": 45,
    "start_time": "2022-04-01T21:59:56.878Z"
   },
   {
    "duration": 32,
    "start_time": "2022-04-01T21:59:56.925Z"
   },
   {
    "duration": 51,
    "start_time": "2022-04-01T21:59:56.959Z"
   },
   {
    "duration": 13,
    "start_time": "2022-04-01T21:59:57.012Z"
   },
   {
    "duration": 13,
    "start_time": "2022-04-01T21:59:57.027Z"
   },
   {
    "duration": 21,
    "start_time": "2022-04-01T21:59:57.041Z"
   },
   {
    "duration": 52,
    "start_time": "2022-04-01T21:59:57.064Z"
   },
   {
    "duration": 14,
    "start_time": "2022-04-01T21:59:57.118Z"
   },
   {
    "duration": 19,
    "start_time": "2022-04-01T21:59:57.134Z"
   },
   {
    "duration": 12,
    "start_time": "2022-04-01T21:59:57.155Z"
   },
   {
    "duration": 36,
    "start_time": "2022-04-01T21:59:57.169Z"
   },
   {
    "duration": 484,
    "start_time": "2022-04-01T21:59:57.207Z"
   },
   {
    "duration": 173,
    "start_time": "2022-04-01T21:59:57.696Z"
   },
   {
    "duration": 10,
    "start_time": "2022-04-01T21:59:57.870Z"
   },
   {
    "duration": 20,
    "start_time": "2022-04-01T21:59:57.882Z"
   },
   {
    "duration": 145,
    "start_time": "2022-04-01T21:59:57.904Z"
   },
   {
    "duration": 139,
    "start_time": "2022-04-01T21:59:58.051Z"
   },
   {
    "duration": 16,
    "start_time": "2022-04-01T21:59:58.192Z"
   },
   {
    "duration": 11,
    "start_time": "2022-04-01T21:59:58.210Z"
   },
   {
    "duration": 165,
    "start_time": "2022-04-01T21:59:58.223Z"
   },
   {
    "duration": 17,
    "start_time": "2022-04-01T21:59:58.390Z"
   },
   {
    "duration": 7,
    "start_time": "2022-04-01T21:59:58.409Z"
   },
   {
    "duration": 192,
    "start_time": "2022-04-01T21:59:58.417Z"
   },
   {
    "duration": 10,
    "start_time": "2022-04-01T21:59:58.610Z"
   },
   {
    "duration": 6,
    "start_time": "2022-04-01T21:59:58.622Z"
   },
   {
    "duration": 258,
    "start_time": "2022-04-01T21:59:58.630Z"
   },
   {
    "duration": 262,
    "start_time": "2022-04-01T21:59:58.891Z"
   },
   {
    "duration": 14,
    "start_time": "2022-04-01T21:59:59.155Z"
   },
   {
    "duration": 8,
    "start_time": "2022-04-01T21:59:59.171Z"
   },
   {
    "duration": 231,
    "start_time": "2022-04-01T21:59:59.201Z"
   },
   {
    "duration": 11,
    "start_time": "2022-04-01T21:59:59.435Z"
   },
   {
    "duration": 19,
    "start_time": "2022-04-01T21:59:59.447Z"
   },
   {
    "duration": 3,
    "start_time": "2022-04-01T21:59:59.468Z"
   },
   {
    "duration": 30,
    "start_time": "2022-04-01T21:59:59.473Z"
   },
   {
    "duration": 13,
    "start_time": "2022-04-01T21:59:59.505Z"
   },
   {
    "duration": 18,
    "start_time": "2022-04-01T21:59:59.521Z"
   },
   {
    "duration": 18,
    "start_time": "2022-04-01T21:59:59.541Z"
   },
   {
    "duration": 8,
    "start_time": "2022-04-01T21:59:59.561Z"
   },
   {
    "duration": 7,
    "start_time": "2022-04-01T21:59:59.571Z"
   },
   {
    "duration": 102,
    "start_time": "2022-04-01T22:06:07.747Z"
   },
   {
    "duration": 134,
    "start_time": "2022-04-01T22:09:50.491Z"
   },
   {
    "duration": 135,
    "start_time": "2022-04-01T22:10:00.547Z"
   },
   {
    "duration": 85,
    "start_time": "2022-04-01T22:10:07.549Z"
   },
   {
    "duration": 6,
    "start_time": "2022-04-01T22:10:12.927Z"
   },
   {
    "duration": 87,
    "start_time": "2022-04-01T22:10:25.029Z"
   },
   {
    "duration": 6,
    "start_time": "2022-04-01T22:10:27.037Z"
   },
   {
    "duration": 11,
    "start_time": "2022-04-01T22:10:28.878Z"
   },
   {
    "duration": 1245,
    "start_time": "2022-04-01T22:10:39.726Z"
   },
   {
    "duration": 17,
    "start_time": "2022-04-01T22:10:40.974Z"
   },
   {
    "duration": 34,
    "start_time": "2022-04-01T22:10:40.993Z"
   },
   {
    "duration": 28,
    "start_time": "2022-04-01T22:10:41.029Z"
   },
   {
    "duration": 9,
    "start_time": "2022-04-01T22:10:41.059Z"
   },
   {
    "duration": 60,
    "start_time": "2022-04-01T22:10:41.070Z"
   },
   {
    "duration": 24,
    "start_time": "2022-04-01T22:10:41.132Z"
   },
   {
    "duration": 8,
    "start_time": "2022-04-01T22:10:41.158Z"
   },
   {
    "duration": 38,
    "start_time": "2022-04-01T22:10:41.168Z"
   },
   {
    "duration": 19,
    "start_time": "2022-04-01T22:10:41.210Z"
   },
   {
    "duration": 11,
    "start_time": "2022-04-01T22:10:41.231Z"
   },
   {
    "duration": 18,
    "start_time": "2022-04-01T22:10:41.244Z"
   },
   {
    "duration": 38,
    "start_time": "2022-04-01T22:10:41.264Z"
   },
   {
    "duration": 16,
    "start_time": "2022-04-01T22:10:41.305Z"
   },
   {
    "duration": 24,
    "start_time": "2022-04-01T22:10:41.323Z"
   },
   {
    "duration": 93,
    "start_time": "2022-04-01T22:10:41.349Z"
   },
   {
    "duration": 11,
    "start_time": "2022-04-01T22:10:41.444Z"
   },
   {
    "duration": 25,
    "start_time": "2022-04-01T22:10:41.457Z"
   },
   {
    "duration": 109,
    "start_time": "2022-04-01T22:10:41.484Z"
   },
   {
    "duration": 0,
    "start_time": "2022-04-01T22:10:41.596Z"
   },
   {
    "duration": 0,
    "start_time": "2022-04-01T22:10:41.597Z"
   },
   {
    "duration": 0,
    "start_time": "2022-04-01T22:10:41.601Z"
   },
   {
    "duration": 0,
    "start_time": "2022-04-01T22:10:41.602Z"
   },
   {
    "duration": 0,
    "start_time": "2022-04-01T22:10:41.603Z"
   },
   {
    "duration": 0,
    "start_time": "2022-04-01T22:10:41.605Z"
   },
   {
    "duration": 0,
    "start_time": "2022-04-01T22:10:41.606Z"
   },
   {
    "duration": 0,
    "start_time": "2022-04-01T22:10:41.607Z"
   },
   {
    "duration": 0,
    "start_time": "2022-04-01T22:10:41.608Z"
   },
   {
    "duration": 0,
    "start_time": "2022-04-01T22:10:41.609Z"
   },
   {
    "duration": 0,
    "start_time": "2022-04-01T22:10:41.609Z"
   },
   {
    "duration": 0,
    "start_time": "2022-04-01T22:10:41.610Z"
   },
   {
    "duration": 0,
    "start_time": "2022-04-01T22:10:41.611Z"
   },
   {
    "duration": 0,
    "start_time": "2022-04-01T22:10:41.612Z"
   },
   {
    "duration": 0,
    "start_time": "2022-04-01T22:10:41.614Z"
   },
   {
    "duration": 0,
    "start_time": "2022-04-01T22:10:41.614Z"
   },
   {
    "duration": 0,
    "start_time": "2022-04-01T22:10:41.616Z"
   },
   {
    "duration": 0,
    "start_time": "2022-04-01T22:10:41.617Z"
   },
   {
    "duration": 0,
    "start_time": "2022-04-01T22:10:41.618Z"
   },
   {
    "duration": 0,
    "start_time": "2022-04-01T22:10:41.619Z"
   },
   {
    "duration": 0,
    "start_time": "2022-04-01T22:10:41.620Z"
   },
   {
    "duration": 0,
    "start_time": "2022-04-01T22:10:41.621Z"
   },
   {
    "duration": 0,
    "start_time": "2022-04-01T22:10:41.622Z"
   },
   {
    "duration": 0,
    "start_time": "2022-04-01T22:10:41.623Z"
   },
   {
    "duration": 0,
    "start_time": "2022-04-01T22:10:41.624Z"
   },
   {
    "duration": 0,
    "start_time": "2022-04-01T22:10:41.625Z"
   },
   {
    "duration": 0,
    "start_time": "2022-04-01T22:10:41.627Z"
   },
   {
    "duration": 0,
    "start_time": "2022-04-01T22:10:41.628Z"
   },
   {
    "duration": 0,
    "start_time": "2022-04-01T22:10:41.629Z"
   },
   {
    "duration": 0,
    "start_time": "2022-04-01T22:10:41.630Z"
   },
   {
    "duration": 0,
    "start_time": "2022-04-01T22:10:41.631Z"
   },
   {
    "duration": 0,
    "start_time": "2022-04-01T22:10:41.632Z"
   },
   {
    "duration": 0,
    "start_time": "2022-04-01T22:10:41.633Z"
   },
   {
    "duration": 0,
    "start_time": "2022-04-01T22:10:41.634Z"
   },
   {
    "duration": 0,
    "start_time": "2022-04-01T22:10:41.635Z"
   },
   {
    "duration": 0,
    "start_time": "2022-04-01T22:10:41.636Z"
   },
   {
    "duration": 0,
    "start_time": "2022-04-01T22:10:41.637Z"
   },
   {
    "duration": 0,
    "start_time": "2022-04-01T22:10:41.701Z"
   },
   {
    "duration": 0,
    "start_time": "2022-04-01T22:10:41.703Z"
   },
   {
    "duration": 0,
    "start_time": "2022-04-01T22:10:41.704Z"
   },
   {
    "duration": 0,
    "start_time": "2022-04-01T22:10:41.704Z"
   },
   {
    "duration": 1,
    "start_time": "2022-04-01T22:10:41.705Z"
   },
   {
    "duration": 0,
    "start_time": "2022-04-01T22:10:41.707Z"
   },
   {
    "duration": 0,
    "start_time": "2022-04-01T22:10:41.708Z"
   },
   {
    "duration": 0,
    "start_time": "2022-04-01T22:10:41.709Z"
   },
   {
    "duration": 1,
    "start_time": "2022-04-01T22:10:41.710Z"
   },
   {
    "duration": 0,
    "start_time": "2022-04-01T22:10:41.712Z"
   },
   {
    "duration": 0,
    "start_time": "2022-04-01T22:10:41.713Z"
   },
   {
    "duration": 0,
    "start_time": "2022-04-01T22:10:41.714Z"
   },
   {
    "duration": 0,
    "start_time": "2022-04-01T22:10:41.715Z"
   },
   {
    "duration": 1432,
    "start_time": "2022-04-01T22:11:03.353Z"
   },
   {
    "duration": 19,
    "start_time": "2022-04-01T22:11:04.788Z"
   },
   {
    "duration": 37,
    "start_time": "2022-04-01T22:11:04.808Z"
   },
   {
    "duration": 27,
    "start_time": "2022-04-01T22:11:04.847Z"
   },
   {
    "duration": 32,
    "start_time": "2022-04-01T22:11:04.876Z"
   },
   {
    "duration": 36,
    "start_time": "2022-04-01T22:11:04.910Z"
   },
   {
    "duration": 24,
    "start_time": "2022-04-01T22:11:04.948Z"
   },
   {
    "duration": 33,
    "start_time": "2022-04-01T22:11:04.974Z"
   },
   {
    "duration": 43,
    "start_time": "2022-04-01T22:11:05.008Z"
   },
   {
    "duration": 24,
    "start_time": "2022-04-01T22:11:05.054Z"
   },
   {
    "duration": 10,
    "start_time": "2022-04-01T22:11:05.079Z"
   },
   {
    "duration": 17,
    "start_time": "2022-04-01T22:11:05.090Z"
   },
   {
    "duration": 26,
    "start_time": "2022-04-01T22:11:05.109Z"
   },
   {
    "duration": 42,
    "start_time": "2022-04-01T22:11:05.138Z"
   },
   {
    "duration": 27,
    "start_time": "2022-04-01T22:11:05.182Z"
   },
   {
    "duration": 114,
    "start_time": "2022-04-01T22:11:05.212Z"
   },
   {
    "duration": 13,
    "start_time": "2022-04-01T22:11:05.328Z"
   },
   {
    "duration": 24,
    "start_time": "2022-04-01T22:11:05.343Z"
   },
   {
    "duration": 96,
    "start_time": "2022-04-01T22:11:05.369Z"
   },
   {
    "duration": 11,
    "start_time": "2022-04-01T22:11:05.467Z"
   },
   {
    "duration": 24,
    "start_time": "2022-04-01T22:11:05.479Z"
   },
   {
    "duration": 31,
    "start_time": "2022-04-01T22:11:05.504Z"
   },
   {
    "duration": 25,
    "start_time": "2022-04-01T22:11:05.537Z"
   },
   {
    "duration": 20,
    "start_time": "2022-04-01T22:11:05.564Z"
   },
   {
    "duration": 22,
    "start_time": "2022-04-01T22:11:05.586Z"
   },
   {
    "duration": 32,
    "start_time": "2022-04-01T22:11:05.610Z"
   },
   {
    "duration": 91,
    "start_time": "2022-04-01T22:11:05.644Z"
   },
   {
    "duration": 22,
    "start_time": "2022-04-01T22:11:05.739Z"
   },
   {
    "duration": 57,
    "start_time": "2022-04-01T22:11:05.763Z"
   },
   {
    "duration": 26,
    "start_time": "2022-04-01T22:11:05.822Z"
   },
   {
    "duration": 54,
    "start_time": "2022-04-01T22:11:05.850Z"
   },
   {
    "duration": 31,
    "start_time": "2022-04-01T22:11:05.906Z"
   },
   {
    "duration": 13,
    "start_time": "2022-04-01T22:11:05.939Z"
   },
   {
    "duration": 29,
    "start_time": "2022-04-01T22:11:05.954Z"
   },
   {
    "duration": 35,
    "start_time": "2022-04-01T22:11:05.985Z"
   },
   {
    "duration": 21,
    "start_time": "2022-04-01T22:11:06.022Z"
   },
   {
    "duration": 17,
    "start_time": "2022-04-01T22:11:06.045Z"
   },
   {
    "duration": 46,
    "start_time": "2022-04-01T22:11:06.064Z"
   },
   {
    "duration": 10,
    "start_time": "2022-04-01T22:11:06.112Z"
   },
   {
    "duration": 12,
    "start_time": "2022-04-01T22:11:06.124Z"
   },
   {
    "duration": 491,
    "start_time": "2022-04-01T22:11:06.138Z"
   },
   {
    "duration": 184,
    "start_time": "2022-04-01T22:11:06.631Z"
   },
   {
    "duration": 11,
    "start_time": "2022-04-01T22:11:06.816Z"
   },
   {
    "duration": 8,
    "start_time": "2022-04-01T22:11:06.829Z"
   },
   {
    "duration": 165,
    "start_time": "2022-04-01T22:11:06.838Z"
   },
   {
    "duration": 142,
    "start_time": "2022-04-01T22:11:07.006Z"
   },
   {
    "duration": 9,
    "start_time": "2022-04-01T22:11:07.150Z"
   },
   {
    "duration": 8,
    "start_time": "2022-04-01T22:11:07.161Z"
   },
   {
    "duration": 175,
    "start_time": "2022-04-01T22:11:07.170Z"
   },
   {
    "duration": 10,
    "start_time": "2022-04-01T22:11:07.347Z"
   },
   {
    "duration": 8,
    "start_time": "2022-04-01T22:11:07.359Z"
   },
   {
    "duration": 195,
    "start_time": "2022-04-01T22:11:07.369Z"
   },
   {
    "duration": 11,
    "start_time": "2022-04-01T22:11:07.566Z"
   },
   {
    "duration": 24,
    "start_time": "2022-04-01T22:11:07.578Z"
   },
   {
    "duration": 247,
    "start_time": "2022-04-01T22:11:07.604Z"
   },
   {
    "duration": 177,
    "start_time": "2022-04-01T22:11:07.854Z"
   },
   {
    "duration": 11,
    "start_time": "2022-04-01T22:11:08.034Z"
   },
   {
    "duration": 8,
    "start_time": "2022-04-01T22:11:08.047Z"
   },
   {
    "duration": 218,
    "start_time": "2022-04-01T22:11:08.057Z"
   },
   {
    "duration": 10,
    "start_time": "2022-04-01T22:11:08.277Z"
   },
   {
    "duration": 11,
    "start_time": "2022-04-01T22:11:08.300Z"
   },
   {
    "duration": 3,
    "start_time": "2022-04-01T22:11:08.313Z"
   },
   {
    "duration": 16,
    "start_time": "2022-04-01T22:11:08.318Z"
   },
   {
    "duration": 6,
    "start_time": "2022-04-01T22:11:08.336Z"
   },
   {
    "duration": 11,
    "start_time": "2022-04-01T22:11:08.344Z"
   },
   {
    "duration": 14,
    "start_time": "2022-04-01T22:11:08.357Z"
   },
   {
    "duration": 8,
    "start_time": "2022-04-01T22:11:08.401Z"
   },
   {
    "duration": 9,
    "start_time": "2022-04-01T22:11:08.411Z"
   },
   {
    "duration": 11,
    "start_time": "2022-04-01T22:11:38.655Z"
   },
   {
    "duration": 18,
    "start_time": "2022-04-01T22:20:12.885Z"
   },
   {
    "duration": 10,
    "start_time": "2022-04-01T22:22:29.795Z"
   },
   {
    "duration": 1249,
    "start_time": "2022-04-01T22:23:42.534Z"
   },
   {
    "duration": 17,
    "start_time": "2022-04-01T22:23:43.785Z"
   },
   {
    "duration": 32,
    "start_time": "2022-04-01T22:23:43.804Z"
   },
   {
    "duration": 27,
    "start_time": "2022-04-01T22:23:43.839Z"
   },
   {
    "duration": 35,
    "start_time": "2022-04-01T22:23:43.868Z"
   },
   {
    "duration": 34,
    "start_time": "2022-04-01T22:23:43.904Z"
   },
   {
    "duration": 22,
    "start_time": "2022-04-01T22:23:43.940Z"
   },
   {
    "duration": 9,
    "start_time": "2022-04-01T22:23:43.964Z"
   },
   {
    "duration": 15,
    "start_time": "2022-04-01T22:23:44.001Z"
   },
   {
    "duration": 21,
    "start_time": "2022-04-01T22:23:44.018Z"
   },
   {
    "duration": 9,
    "start_time": "2022-04-01T22:23:44.041Z"
   },
   {
    "duration": 13,
    "start_time": "2022-04-01T22:23:44.052Z"
   },
   {
    "duration": 44,
    "start_time": "2022-04-01T22:23:44.067Z"
   },
   {
    "duration": 19,
    "start_time": "2022-04-01T22:23:44.112Z"
   },
   {
    "duration": 13,
    "start_time": "2022-04-01T22:23:44.133Z"
   },
   {
    "duration": 102,
    "start_time": "2022-04-01T22:23:44.148Z"
   },
   {
    "duration": 9,
    "start_time": "2022-04-01T22:23:44.253Z"
   },
   {
    "duration": 14,
    "start_time": "2022-04-01T22:23:44.264Z"
   },
   {
    "duration": 102,
    "start_time": "2022-04-01T22:23:44.280Z"
   },
   {
    "duration": 18,
    "start_time": "2022-04-01T22:23:44.384Z"
   },
   {
    "duration": 21,
    "start_time": "2022-04-01T22:23:44.404Z"
   },
   {
    "duration": 19,
    "start_time": "2022-04-01T22:23:44.427Z"
   },
   {
    "duration": 17,
    "start_time": "2022-04-01T22:23:44.448Z"
   },
   {
    "duration": 13,
    "start_time": "2022-04-01T22:23:44.500Z"
   },
   {
    "duration": 34,
    "start_time": "2022-04-01T22:23:44.515Z"
   },
   {
    "duration": 91,
    "start_time": "2022-04-01T22:23:44.550Z"
   },
   {
    "duration": 21,
    "start_time": "2022-04-01T22:23:44.643Z"
   },
   {
    "duration": 49,
    "start_time": "2022-04-01T22:23:44.668Z"
   },
   {
    "duration": 24,
    "start_time": "2022-04-01T22:23:44.719Z"
   },
   {
    "duration": 30,
    "start_time": "2022-04-01T22:23:44.745Z"
   },
   {
    "duration": 54,
    "start_time": "2022-04-01T22:23:44.776Z"
   },
   {
    "duration": 13,
    "start_time": "2022-04-01T22:23:44.832Z"
   },
   {
    "duration": 12,
    "start_time": "2022-04-01T22:23:44.847Z"
   },
   {
    "duration": 50,
    "start_time": "2022-04-01T22:23:44.861Z"
   },
   {
    "duration": 19,
    "start_time": "2022-04-01T22:23:44.912Z"
   },
   {
    "duration": 14,
    "start_time": "2022-04-01T22:23:44.933Z"
   },
   {
    "duration": 15,
    "start_time": "2022-04-01T22:23:44.949Z"
   },
   {
    "duration": 42,
    "start_time": "2022-04-01T22:23:44.965Z"
   },
   {
    "duration": 29,
    "start_time": "2022-04-01T22:23:45.009Z"
   },
   {
    "duration": 497,
    "start_time": "2022-04-01T22:23:45.040Z"
   },
   {
    "duration": 178,
    "start_time": "2022-04-01T22:23:45.539Z"
   },
   {
    "duration": 10,
    "start_time": "2022-04-01T22:23:45.719Z"
   },
   {
    "duration": 8,
    "start_time": "2022-04-01T22:23:45.731Z"
   },
   {
    "duration": 169,
    "start_time": "2022-04-01T22:23:45.741Z"
   },
   {
    "duration": 156,
    "start_time": "2022-04-01T22:23:45.912Z"
   },
   {
    "duration": 11,
    "start_time": "2022-04-01T22:23:46.070Z"
   },
   {
    "duration": 22,
    "start_time": "2022-04-01T22:23:46.083Z"
   },
   {
    "duration": 170,
    "start_time": "2022-04-01T22:23:46.107Z"
   },
   {
    "duration": 11,
    "start_time": "2022-04-01T22:23:46.279Z"
   },
   {
    "duration": 7,
    "start_time": "2022-04-01T22:23:46.302Z"
   },
   {
    "duration": 187,
    "start_time": "2022-04-01T22:23:46.310Z"
   },
   {
    "duration": 11,
    "start_time": "2022-04-01T22:23:46.498Z"
   },
   {
    "duration": 6,
    "start_time": "2022-04-01T22:23:46.512Z"
   },
   {
    "duration": 273,
    "start_time": "2022-04-01T22:23:46.520Z"
   },
   {
    "duration": 176,
    "start_time": "2022-04-01T22:23:46.795Z"
   },
   {
    "duration": 10,
    "start_time": "2022-04-01T22:23:46.973Z"
   },
   {
    "duration": 20,
    "start_time": "2022-04-01T22:23:46.985Z"
   },
   {
    "duration": 201,
    "start_time": "2022-04-01T22:23:47.007Z"
   },
   {
    "duration": 10,
    "start_time": "2022-04-01T22:23:47.210Z"
   },
   {
    "duration": 10,
    "start_time": "2022-04-01T22:23:47.222Z"
   },
   {
    "duration": 12,
    "start_time": "2022-04-01T22:23:47.233Z"
   },
   {
    "duration": 10,
    "start_time": "2022-04-01T22:23:47.247Z"
   },
   {
    "duration": 12,
    "start_time": "2022-04-01T22:23:47.259Z"
   },
   {
    "duration": 35,
    "start_time": "2022-04-01T22:23:47.273Z"
   },
   {
    "duration": 11,
    "start_time": "2022-04-01T22:23:47.309Z"
   },
   {
    "duration": 7,
    "start_time": "2022-04-01T22:23:47.321Z"
   },
   {
    "duration": 4,
    "start_time": "2022-04-01T22:23:47.330Z"
   },
   {
    "duration": 26,
    "start_time": "2022-04-01T22:23:47.336Z"
   },
   {
    "duration": 8,
    "start_time": "2022-04-01T22:28:32.838Z"
   },
   {
    "duration": 8,
    "start_time": "2022-04-01T22:28:45.034Z"
   },
   {
    "duration": 10,
    "start_time": "2022-04-01T22:31:32.996Z"
   },
   {
    "duration": 3,
    "start_time": "2022-04-01T22:32:41.169Z"
   },
   {
    "duration": 9,
    "start_time": "2022-04-01T22:32:48.338Z"
   },
   {
    "duration": 35,
    "start_time": "2022-04-01T22:33:00.028Z"
   },
   {
    "duration": 10,
    "start_time": "2022-04-01T22:33:03.728Z"
   },
   {
    "duration": 11,
    "start_time": "2022-04-01T22:34:16.138Z"
   },
   {
    "duration": 30,
    "start_time": "2022-04-01T22:34:21.556Z"
   },
   {
    "duration": 32,
    "start_time": "2022-04-01T22:34:30.608Z"
   },
   {
    "duration": 12,
    "start_time": "2022-04-01T22:34:33.337Z"
   },
   {
    "duration": 1303,
    "start_time": "2022-04-01T22:34:44.261Z"
   },
   {
    "duration": 16,
    "start_time": "2022-04-01T22:34:45.566Z"
   },
   {
    "duration": 37,
    "start_time": "2022-04-01T22:34:45.583Z"
   },
   {
    "duration": 27,
    "start_time": "2022-04-01T22:34:45.622Z"
   },
   {
    "duration": 9,
    "start_time": "2022-04-01T22:34:45.650Z"
   },
   {
    "duration": 59,
    "start_time": "2022-04-01T22:34:45.661Z"
   },
   {
    "duration": 23,
    "start_time": "2022-04-01T22:34:45.722Z"
   },
   {
    "duration": 8,
    "start_time": "2022-04-01T22:34:45.747Z"
   },
   {
    "duration": 17,
    "start_time": "2022-04-01T22:34:45.756Z"
   },
   {
    "duration": 22,
    "start_time": "2022-04-01T22:34:45.800Z"
   },
   {
    "duration": 8,
    "start_time": "2022-04-01T22:34:45.824Z"
   },
   {
    "duration": 15,
    "start_time": "2022-04-01T22:34:45.834Z"
   },
   {
    "duration": 15,
    "start_time": "2022-04-01T22:34:45.851Z"
   },
   {
    "duration": 42,
    "start_time": "2022-04-01T22:34:45.868Z"
   },
   {
    "duration": 12,
    "start_time": "2022-04-01T22:34:45.912Z"
   },
   {
    "duration": 95,
    "start_time": "2022-04-01T22:34:45.926Z"
   },
   {
    "duration": 10,
    "start_time": "2022-04-01T22:34:46.023Z"
   },
   {
    "duration": 13,
    "start_time": "2022-04-01T22:34:46.035Z"
   },
   {
    "duration": 100,
    "start_time": "2022-04-01T22:34:46.050Z"
   },
   {
    "duration": 10,
    "start_time": "2022-04-01T22:34:46.152Z"
   },
   {
    "duration": 38,
    "start_time": "2022-04-01T22:34:46.164Z"
   },
   {
    "duration": 18,
    "start_time": "2022-04-01T22:34:46.204Z"
   },
   {
    "duration": 16,
    "start_time": "2022-04-01T22:34:46.224Z"
   },
   {
    "duration": 12,
    "start_time": "2022-04-01T22:34:46.242Z"
   },
   {
    "duration": 66,
    "start_time": "2022-04-01T22:34:46.256Z"
   },
   {
    "duration": 78,
    "start_time": "2022-04-01T22:34:46.324Z"
   },
   {
    "duration": 22,
    "start_time": "2022-04-01T22:34:46.404Z"
   },
   {
    "duration": 36,
    "start_time": "2022-04-01T22:34:46.431Z"
   },
   {
    "duration": 49,
    "start_time": "2022-04-01T22:34:46.469Z"
   },
   {
    "duration": 32,
    "start_time": "2022-04-01T22:34:46.520Z"
   },
   {
    "duration": 10,
    "start_time": "2022-04-01T22:34:46.554Z"
   },
   {
    "duration": 57,
    "start_time": "2022-04-01T22:34:46.566Z"
   },
   {
    "duration": 13,
    "start_time": "2022-04-01T22:34:46.625Z"
   },
   {
    "duration": 14,
    "start_time": "2022-04-01T22:34:46.640Z"
   },
   {
    "duration": 51,
    "start_time": "2022-04-01T22:34:46.656Z"
   },
   {
    "duration": 20,
    "start_time": "2022-04-01T22:34:46.709Z"
   },
   {
    "duration": 15,
    "start_time": "2022-04-01T22:34:46.730Z"
   },
   {
    "duration": 17,
    "start_time": "2022-04-01T22:34:46.747Z"
   },
   {
    "duration": 40,
    "start_time": "2022-04-01T22:34:46.766Z"
   },
   {
    "duration": 9,
    "start_time": "2022-04-01T22:34:46.808Z"
   },
   {
    "duration": 484,
    "start_time": "2022-04-01T22:34:46.819Z"
   },
   {
    "duration": 186,
    "start_time": "2022-04-01T22:34:47.305Z"
   },
   {
    "duration": 11,
    "start_time": "2022-04-01T22:34:47.502Z"
   },
   {
    "duration": 11,
    "start_time": "2022-04-01T22:34:47.515Z"
   },
   {
    "duration": 165,
    "start_time": "2022-04-01T22:34:47.528Z"
   },
   {
    "duration": 145,
    "start_time": "2022-04-01T22:34:47.695Z"
   },
   {
    "duration": 11,
    "start_time": "2022-04-01T22:34:47.842Z"
   },
   {
    "duration": 8,
    "start_time": "2022-04-01T22:34:47.854Z"
   },
   {
    "duration": 183,
    "start_time": "2022-04-01T22:34:47.864Z"
   },
   {
    "duration": 10,
    "start_time": "2022-04-01T22:34:48.049Z"
   },
   {
    "duration": 7,
    "start_time": "2022-04-01T22:34:48.061Z"
   },
   {
    "duration": 201,
    "start_time": "2022-04-01T22:34:48.070Z"
   },
   {
    "duration": 10,
    "start_time": "2022-04-01T22:34:48.273Z"
   },
   {
    "duration": 21,
    "start_time": "2022-04-01T22:34:48.285Z"
   },
   {
    "duration": 252,
    "start_time": "2022-04-01T22:34:48.308Z"
   },
   {
    "duration": 180,
    "start_time": "2022-04-01T22:34:48.562Z"
   },
   {
    "duration": 10,
    "start_time": "2022-04-01T22:34:48.744Z"
   },
   {
    "duration": 13,
    "start_time": "2022-04-01T22:34:48.756Z"
   },
   {
    "duration": 193,
    "start_time": "2022-04-01T22:34:48.771Z"
   },
   {
    "duration": 9,
    "start_time": "2022-04-01T22:34:48.966Z"
   },
   {
    "duration": 29,
    "start_time": "2022-04-01T22:34:48.977Z"
   },
   {
    "duration": 2,
    "start_time": "2022-04-01T22:34:49.008Z"
   },
   {
    "duration": 17,
    "start_time": "2022-04-01T22:34:49.012Z"
   },
   {
    "duration": 9,
    "start_time": "2022-04-01T22:34:49.031Z"
   },
   {
    "duration": 28,
    "start_time": "2022-04-01T22:34:49.041Z"
   },
   {
    "duration": 42,
    "start_time": "2022-04-01T22:34:49.071Z"
   },
   {
    "duration": 7,
    "start_time": "2022-04-01T22:34:49.114Z"
   },
   {
    "duration": 20,
    "start_time": "2022-04-01T22:34:49.122Z"
   },
   {
    "duration": 27,
    "start_time": "2022-04-01T22:34:49.145Z"
   },
   {
    "duration": 10,
    "start_time": "2022-04-01T22:37:41.851Z"
   },
   {
    "duration": 34,
    "start_time": "2022-04-01T22:37:45.925Z"
   },
   {
    "duration": 11,
    "start_time": "2022-04-01T22:37:47.575Z"
   },
   {
    "duration": 13,
    "start_time": "2022-04-01T22:38:22.455Z"
   },
   {
    "duration": 1211,
    "start_time": "2022-04-01T22:39:18.442Z"
   },
   {
    "duration": 17,
    "start_time": "2022-04-01T22:39:19.655Z"
   },
   {
    "duration": 32,
    "start_time": "2022-04-01T22:39:19.674Z"
   },
   {
    "duration": 27,
    "start_time": "2022-04-01T22:39:19.708Z"
   },
   {
    "duration": 9,
    "start_time": "2022-04-01T22:39:19.737Z"
   },
   {
    "duration": 33,
    "start_time": "2022-04-01T22:39:19.748Z"
   },
   {
    "duration": 26,
    "start_time": "2022-04-01T22:39:19.800Z"
   },
   {
    "duration": 8,
    "start_time": "2022-04-01T22:39:19.827Z"
   },
   {
    "duration": 16,
    "start_time": "2022-04-01T22:39:19.837Z"
   },
   {
    "duration": 51,
    "start_time": "2022-04-01T22:39:19.856Z"
   },
   {
    "duration": 9,
    "start_time": "2022-04-01T22:39:19.909Z"
   },
   {
    "duration": 14,
    "start_time": "2022-04-01T22:39:19.920Z"
   },
   {
    "duration": 13,
    "start_time": "2022-04-01T22:39:19.936Z"
   },
   {
    "duration": 17,
    "start_time": "2022-04-01T22:39:19.951Z"
   },
   {
    "duration": 38,
    "start_time": "2022-04-01T22:39:19.970Z"
   },
   {
    "duration": 97,
    "start_time": "2022-04-01T22:39:20.010Z"
   },
   {
    "duration": 12,
    "start_time": "2022-04-01T22:39:20.109Z"
   },
   {
    "duration": 16,
    "start_time": "2022-04-01T22:39:20.123Z"
   },
   {
    "duration": 96,
    "start_time": "2022-04-01T22:39:20.141Z"
   },
   {
    "duration": 9,
    "start_time": "2022-04-01T22:39:20.240Z"
   },
   {
    "duration": 26,
    "start_time": "2022-04-01T22:39:20.251Z"
   },
   {
    "duration": 32,
    "start_time": "2022-04-01T22:39:20.279Z"
   },
   {
    "duration": 18,
    "start_time": "2022-04-01T22:39:20.314Z"
   },
   {
    "duration": 12,
    "start_time": "2022-04-01T22:39:20.334Z"
   },
   {
    "duration": 68,
    "start_time": "2022-04-01T22:39:20.349Z"
   },
   {
    "duration": 72,
    "start_time": "2022-04-01T22:39:20.418Z"
   },
   {
    "duration": 22,
    "start_time": "2022-04-01T22:39:20.500Z"
   },
   {
    "duration": 36,
    "start_time": "2022-04-01T22:39:20.526Z"
   },
   {
    "duration": 48,
    "start_time": "2022-04-01T22:39:20.563Z"
   },
   {
    "duration": 30,
    "start_time": "2022-04-01T22:39:20.613Z"
   },
   {
    "duration": 11,
    "start_time": "2022-04-01T22:39:20.645Z"
   },
   {
    "duration": 48,
    "start_time": "2022-04-01T22:39:20.657Z"
   },
   {
    "duration": 13,
    "start_time": "2022-04-01T22:39:20.707Z"
   },
   {
    "duration": 13,
    "start_time": "2022-04-01T22:39:20.721Z"
   },
   {
    "duration": 22,
    "start_time": "2022-04-01T22:39:20.735Z"
   },
   {
    "duration": 52,
    "start_time": "2022-04-01T22:39:20.758Z"
   },
   {
    "duration": 15,
    "start_time": "2022-04-01T22:39:20.811Z"
   },
   {
    "duration": 16,
    "start_time": "2022-04-01T22:39:20.828Z"
   },
   {
    "duration": 9,
    "start_time": "2022-04-01T22:39:20.846Z"
   },
   {
    "duration": 7,
    "start_time": "2022-04-01T22:39:20.857Z"
   },
   {
    "duration": 516,
    "start_time": "2022-04-01T22:39:20.865Z"
   },
   {
    "duration": 189,
    "start_time": "2022-04-01T22:39:21.383Z"
   },
   {
    "duration": 10,
    "start_time": "2022-04-01T22:39:21.574Z"
   },
   {
    "duration": 18,
    "start_time": "2022-04-01T22:39:21.586Z"
   },
   {
    "duration": 153,
    "start_time": "2022-04-01T22:39:21.606Z"
   },
   {
    "duration": 142,
    "start_time": "2022-04-01T22:39:21.761Z"
   },
   {
    "duration": 11,
    "start_time": "2022-04-01T22:39:21.905Z"
   },
   {
    "duration": 12,
    "start_time": "2022-04-01T22:39:21.918Z"
   },
   {
    "duration": 181,
    "start_time": "2022-04-01T22:39:21.931Z"
   },
   {
    "duration": 11,
    "start_time": "2022-04-01T22:39:22.114Z"
   },
   {
    "duration": 8,
    "start_time": "2022-04-01T22:39:22.127Z"
   },
   {
    "duration": 198,
    "start_time": "2022-04-01T22:39:22.137Z"
   },
   {
    "duration": 11,
    "start_time": "2022-04-01T22:39:22.337Z"
   },
   {
    "duration": 9,
    "start_time": "2022-04-01T22:39:22.349Z"
   },
   {
    "duration": 253,
    "start_time": "2022-04-01T22:39:22.360Z"
   },
   {
    "duration": 171,
    "start_time": "2022-04-01T22:39:22.615Z"
   },
   {
    "duration": 15,
    "start_time": "2022-04-01T22:39:22.788Z"
   },
   {
    "duration": 6,
    "start_time": "2022-04-01T22:39:22.805Z"
   },
   {
    "duration": 205,
    "start_time": "2022-04-01T22:39:22.813Z"
   },
   {
    "duration": 10,
    "start_time": "2022-04-01T22:39:23.020Z"
   },
   {
    "duration": 11,
    "start_time": "2022-04-01T22:39:23.031Z"
   },
   {
    "duration": 2,
    "start_time": "2022-04-01T22:39:23.044Z"
   },
   {
    "duration": 10,
    "start_time": "2022-04-01T22:39:23.048Z"
   },
   {
    "duration": 5,
    "start_time": "2022-04-01T22:39:23.060Z"
   },
   {
    "duration": 40,
    "start_time": "2022-04-01T22:39:23.067Z"
   },
   {
    "duration": 10,
    "start_time": "2022-04-01T22:39:23.109Z"
   },
   {
    "duration": 6,
    "start_time": "2022-04-01T22:39:23.121Z"
   },
   {
    "duration": 11,
    "start_time": "2022-04-01T22:39:23.128Z"
   },
   {
    "duration": 20,
    "start_time": "2022-04-01T22:39:23.141Z"
   },
   {
    "duration": 169,
    "start_time": "2022-04-01T22:42:01.723Z"
   },
   {
    "duration": 145,
    "start_time": "2022-04-01T22:42:05.015Z"
   },
   {
    "duration": 134,
    "start_time": "2022-04-01T22:42:08.425Z"
   },
   {
    "duration": 137,
    "start_time": "2022-04-01T22:43:31.236Z"
   },
   {
    "duration": 158,
    "start_time": "2022-04-01T22:43:35.875Z"
   },
   {
    "duration": 151,
    "start_time": "2022-04-01T22:43:41.505Z"
   },
   {
    "duration": 3,
    "start_time": "2022-04-01T22:52:19.345Z"
   },
   {
    "duration": 7,
    "start_time": "2022-04-01T22:52:19.835Z"
   },
   {
    "duration": 99,
    "start_time": "2022-04-01T22:52:20.543Z"
   },
   {
    "duration": 9,
    "start_time": "2022-04-01T22:53:19.273Z"
   },
   {
    "duration": 6,
    "start_time": "2022-04-01T22:53:37.425Z"
   },
   {
    "duration": 8,
    "start_time": "2022-04-01T22:53:38.706Z"
   },
   {
    "duration": 7,
    "start_time": "2022-04-01T22:56:38.796Z"
   },
   {
    "duration": 3,
    "start_time": "2022-04-01T22:57:46.116Z"
   },
   {
    "duration": 5,
    "start_time": "2022-04-01T22:57:46.475Z"
   },
   {
    "duration": 5,
    "start_time": "2022-04-01T22:57:47.676Z"
   },
   {
    "duration": 5,
    "start_time": "2022-04-01T22:57:48.723Z"
   },
   {
    "duration": 2,
    "start_time": "2022-04-01T22:58:27.136Z"
   },
   {
    "duration": 5,
    "start_time": "2022-04-01T22:58:27.455Z"
   },
   {
    "duration": 6,
    "start_time": "2022-04-01T22:58:27.817Z"
   },
   {
    "duration": 4,
    "start_time": "2022-04-01T22:58:28.316Z"
   },
   {
    "duration": 1384,
    "start_time": "2022-04-01T22:59:21.898Z"
   },
   {
    "duration": 16,
    "start_time": "2022-04-01T22:59:23.284Z"
   },
   {
    "duration": 34,
    "start_time": "2022-04-01T22:59:23.301Z"
   },
   {
    "duration": 26,
    "start_time": "2022-04-01T22:59:23.337Z"
   },
   {
    "duration": 9,
    "start_time": "2022-04-01T22:59:23.366Z"
   },
   {
    "duration": 54,
    "start_time": "2022-04-01T22:59:23.376Z"
   },
   {
    "duration": 23,
    "start_time": "2022-04-01T22:59:23.431Z"
   },
   {
    "duration": 8,
    "start_time": "2022-04-01T22:59:23.456Z"
   },
   {
    "duration": 44,
    "start_time": "2022-04-01T22:59:23.466Z"
   },
   {
    "duration": 20,
    "start_time": "2022-04-01T22:59:23.512Z"
   },
   {
    "duration": 9,
    "start_time": "2022-04-01T22:59:23.535Z"
   },
   {
    "duration": 12,
    "start_time": "2022-04-01T22:59:23.546Z"
   },
   {
    "duration": 41,
    "start_time": "2022-04-01T22:59:23.560Z"
   },
   {
    "duration": 15,
    "start_time": "2022-04-01T22:59:23.605Z"
   },
   {
    "duration": 13,
    "start_time": "2022-04-01T22:59:23.621Z"
   },
   {
    "duration": 104,
    "start_time": "2022-04-01T22:59:23.637Z"
   },
   {
    "duration": 11,
    "start_time": "2022-04-01T22:59:23.743Z"
   },
   {
    "duration": 10,
    "start_time": "2022-04-01T22:59:23.757Z"
   },
   {
    "duration": 101,
    "start_time": "2022-04-01T22:59:23.769Z"
   },
   {
    "duration": 9,
    "start_time": "2022-04-01T22:59:23.872Z"
   },
   {
    "duration": 33,
    "start_time": "2022-04-01T22:59:23.883Z"
   },
   {
    "duration": 18,
    "start_time": "2022-04-01T22:59:23.918Z"
   },
   {
    "duration": 18,
    "start_time": "2022-04-01T22:59:23.938Z"
   },
   {
    "duration": 13,
    "start_time": "2022-04-01T22:59:23.958Z"
   },
   {
    "duration": 31,
    "start_time": "2022-04-01T22:59:24.003Z"
   },
   {
    "duration": 92,
    "start_time": "2022-04-01T22:59:24.037Z"
   },
   {
    "duration": 21,
    "start_time": "2022-04-01T22:59:24.132Z"
   },
   {
    "duration": 58,
    "start_time": "2022-04-01T22:59:24.156Z"
   },
   {
    "duration": 26,
    "start_time": "2022-04-01T22:59:24.216Z"
   },
   {
    "duration": 31,
    "start_time": "2022-04-01T22:59:24.244Z"
   },
   {
    "duration": 34,
    "start_time": "2022-04-01T22:59:24.277Z"
   },
   {
    "duration": 32,
    "start_time": "2022-04-01T22:59:24.314Z"
   },
   {
    "duration": 14,
    "start_time": "2022-04-01T22:59:24.348Z"
   },
   {
    "duration": 49,
    "start_time": "2022-04-01T22:59:24.364Z"
   },
   {
    "duration": 22,
    "start_time": "2022-04-01T22:59:24.415Z"
   },
   {
    "duration": 20,
    "start_time": "2022-04-01T22:59:24.439Z"
   },
   {
    "duration": 47,
    "start_time": "2022-04-01T22:59:24.462Z"
   },
   {
    "duration": 17,
    "start_time": "2022-04-01T22:59:24.511Z"
   },
   {
    "duration": 9,
    "start_time": "2022-04-01T22:59:24.530Z"
   },
   {
    "duration": 6,
    "start_time": "2022-04-01T22:59:24.541Z"
   },
   {
    "duration": 493,
    "start_time": "2022-04-01T22:59:24.552Z"
   },
   {
    "duration": 181,
    "start_time": "2022-04-01T22:59:25.046Z"
   },
   {
    "duration": 11,
    "start_time": "2022-04-01T22:59:25.228Z"
   },
   {
    "duration": 11,
    "start_time": "2022-04-01T22:59:25.240Z"
   },
   {
    "duration": 158,
    "start_time": "2022-04-01T22:59:25.253Z"
   },
   {
    "duration": 137,
    "start_time": "2022-04-01T22:59:25.413Z"
   },
   {
    "duration": 10,
    "start_time": "2022-04-01T22:59:25.551Z"
   },
   {
    "duration": 7,
    "start_time": "2022-04-01T22:59:25.562Z"
   },
   {
    "duration": 163,
    "start_time": "2022-04-01T22:59:25.571Z"
   },
   {
    "duration": 12,
    "start_time": "2022-04-01T22:59:25.737Z"
   },
   {
    "duration": 9,
    "start_time": "2022-04-01T22:59:25.751Z"
   },
   {
    "duration": 204,
    "start_time": "2022-04-01T22:59:25.762Z"
   },
   {
    "duration": 10,
    "start_time": "2022-04-01T22:59:25.968Z"
   },
   {
    "duration": 24,
    "start_time": "2022-04-01T22:59:25.980Z"
   },
   {
    "duration": 253,
    "start_time": "2022-04-01T22:59:26.005Z"
   },
   {
    "duration": 180,
    "start_time": "2022-04-01T22:59:26.260Z"
   },
   {
    "duration": 9,
    "start_time": "2022-04-01T22:59:26.442Z"
   },
   {
    "duration": 8,
    "start_time": "2022-04-01T22:59:26.453Z"
   },
   {
    "duration": 161,
    "start_time": "2022-04-01T22:59:26.464Z"
   },
   {
    "duration": 11,
    "start_time": "2022-04-01T22:59:26.628Z"
   },
   {
    "duration": 12,
    "start_time": "2022-04-01T22:59:26.641Z"
   },
   {
    "duration": 3,
    "start_time": "2022-04-01T22:59:26.655Z"
   },
   {
    "duration": 11,
    "start_time": "2022-04-01T22:59:26.661Z"
   },
   {
    "duration": 6,
    "start_time": "2022-04-01T22:59:26.700Z"
   },
   {
    "duration": 13,
    "start_time": "2022-04-01T22:59:26.709Z"
   },
   {
    "duration": 11,
    "start_time": "2022-04-01T22:59:26.725Z"
   },
   {
    "duration": 9,
    "start_time": "2022-04-01T22:59:26.738Z"
   },
   {
    "duration": 7,
    "start_time": "2022-04-01T22:59:26.750Z"
   },
   {
    "duration": 7,
    "start_time": "2022-04-01T22:59:26.759Z"
   },
   {
    "duration": 6,
    "start_time": "2022-04-01T22:59:26.800Z"
   },
   {
    "duration": 8,
    "start_time": "2022-04-01T22:59:26.808Z"
   },
   {
    "duration": 8,
    "start_time": "2022-04-01T22:59:26.818Z"
   },
   {
    "duration": 198,
    "start_time": "2022-04-01T23:05:03.987Z"
   },
   {
    "duration": 213,
    "start_time": "2022-04-01T23:05:08.717Z"
   },
   {
    "duration": 205,
    "start_time": "2022-04-01T23:05:14.406Z"
   },
   {
    "duration": 1297,
    "start_time": "2022-04-01T23:11:05.369Z"
   },
   {
    "duration": 17,
    "start_time": "2022-04-01T23:11:06.668Z"
   },
   {
    "duration": 34,
    "start_time": "2022-04-01T23:11:06.687Z"
   },
   {
    "duration": 27,
    "start_time": "2022-04-01T23:11:06.723Z"
   },
   {
    "duration": 12,
    "start_time": "2022-04-01T23:11:06.752Z"
   },
   {
    "duration": 57,
    "start_time": "2022-04-01T23:11:06.765Z"
   },
   {
    "duration": 23,
    "start_time": "2022-04-01T23:11:06.824Z"
   },
   {
    "duration": 9,
    "start_time": "2022-04-01T23:11:06.849Z"
   },
   {
    "duration": 42,
    "start_time": "2022-04-01T23:11:06.859Z"
   },
   {
    "duration": 22,
    "start_time": "2022-04-01T23:11:06.903Z"
   },
   {
    "duration": 15,
    "start_time": "2022-04-01T23:11:06.927Z"
   },
   {
    "duration": 14,
    "start_time": "2022-04-01T23:11:06.944Z"
   },
   {
    "duration": 14,
    "start_time": "2022-04-01T23:11:06.960Z"
   },
   {
    "duration": 37,
    "start_time": "2022-04-01T23:11:06.977Z"
   },
   {
    "duration": 15,
    "start_time": "2022-04-01T23:11:07.015Z"
   },
   {
    "duration": 97,
    "start_time": "2022-04-01T23:11:07.031Z"
   },
   {
    "duration": 11,
    "start_time": "2022-04-01T23:11:07.130Z"
   },
   {
    "duration": 14,
    "start_time": "2022-04-01T23:11:07.143Z"
   },
   {
    "duration": 91,
    "start_time": "2022-04-01T23:11:07.159Z"
   },
   {
    "duration": 9,
    "start_time": "2022-04-01T23:11:07.251Z"
   },
   {
    "duration": 23,
    "start_time": "2022-04-01T23:11:07.261Z"
   },
   {
    "duration": 32,
    "start_time": "2022-04-01T23:11:07.286Z"
   },
   {
    "duration": 16,
    "start_time": "2022-04-01T23:11:07.320Z"
   },
   {
    "duration": 12,
    "start_time": "2022-04-01T23:11:07.338Z"
   },
   {
    "duration": 63,
    "start_time": "2022-04-01T23:11:07.352Z"
   },
   {
    "duration": 68,
    "start_time": "2022-04-01T23:11:07.417Z"
   },
   {
    "duration": 29,
    "start_time": "2022-04-01T23:11:07.486Z"
   },
   {
    "duration": 37,
    "start_time": "2022-04-01T23:11:07.517Z"
   },
   {
    "duration": 50,
    "start_time": "2022-04-01T23:11:07.555Z"
   },
   {
    "duration": 31,
    "start_time": "2022-04-01T23:11:07.607Z"
   },
   {
    "duration": 11,
    "start_time": "2022-04-01T23:11:07.640Z"
   },
   {
    "duration": 51,
    "start_time": "2022-04-01T23:11:07.652Z"
   },
   {
    "duration": 13,
    "start_time": "2022-04-01T23:11:07.704Z"
   },
   {
    "duration": 13,
    "start_time": "2022-04-01T23:11:07.719Z"
   },
   {
    "duration": 21,
    "start_time": "2022-04-01T23:11:07.734Z"
   },
   {
    "duration": 52,
    "start_time": "2022-04-01T23:11:07.756Z"
   },
   {
    "duration": 15,
    "start_time": "2022-04-01T23:11:07.810Z"
   },
   {
    "duration": 16,
    "start_time": "2022-04-01T23:11:07.827Z"
   },
   {
    "duration": 11,
    "start_time": "2022-04-01T23:11:07.844Z"
   },
   {
    "duration": 7,
    "start_time": "2022-04-01T23:11:07.856Z"
   },
   {
    "duration": 494,
    "start_time": "2022-04-01T23:11:07.867Z"
   },
   {
    "duration": 178,
    "start_time": "2022-04-01T23:11:08.362Z"
   },
   {
    "duration": 11,
    "start_time": "2022-04-01T23:11:08.541Z"
   },
   {
    "duration": 6,
    "start_time": "2022-04-01T23:11:08.554Z"
   },
   {
    "duration": 158,
    "start_time": "2022-04-01T23:11:08.561Z"
   },
   {
    "duration": 147,
    "start_time": "2022-04-01T23:11:08.722Z"
   },
   {
    "duration": 10,
    "start_time": "2022-04-01T23:11:08.872Z"
   },
   {
    "duration": 20,
    "start_time": "2022-04-01T23:11:08.885Z"
   },
   {
    "duration": 156,
    "start_time": "2022-04-01T23:11:08.908Z"
   },
   {
    "duration": 10,
    "start_time": "2022-04-01T23:11:09.067Z"
   },
   {
    "duration": 24,
    "start_time": "2022-04-01T23:11:09.079Z"
   },
   {
    "duration": 180,
    "start_time": "2022-04-01T23:11:09.106Z"
   },
   {
    "duration": 21,
    "start_time": "2022-04-01T23:11:09.288Z"
   },
   {
    "duration": 9,
    "start_time": "2022-04-01T23:11:09.311Z"
   },
   {
    "duration": 279,
    "start_time": "2022-04-01T23:11:09.322Z"
   },
   {
    "duration": 178,
    "start_time": "2022-04-01T23:11:09.603Z"
   },
   {
    "duration": 19,
    "start_time": "2022-04-01T23:11:09.783Z"
   },
   {
    "duration": 8,
    "start_time": "2022-04-01T23:11:09.805Z"
   },
   {
    "duration": 155,
    "start_time": "2022-04-01T23:11:09.815Z"
   },
   {
    "duration": 10,
    "start_time": "2022-04-01T23:11:09.973Z"
   },
   {
    "duration": 24,
    "start_time": "2022-04-01T23:11:09.985Z"
   },
   {
    "duration": 4,
    "start_time": "2022-04-01T23:11:10.011Z"
   },
   {
    "duration": 8,
    "start_time": "2022-04-01T23:11:10.017Z"
   },
   {
    "duration": 6,
    "start_time": "2022-04-01T23:11:10.027Z"
   },
   {
    "duration": 14,
    "start_time": "2022-04-01T23:11:10.035Z"
   },
   {
    "duration": 11,
    "start_time": "2022-04-01T23:11:10.052Z"
   },
   {
    "duration": 8,
    "start_time": "2022-04-01T23:11:10.102Z"
   },
   {
    "duration": 7,
    "start_time": "2022-04-01T23:11:10.112Z"
   },
   {
    "duration": 9,
    "start_time": "2022-04-01T23:11:10.121Z"
   },
   {
    "duration": 10,
    "start_time": "2022-04-01T23:11:10.133Z"
   },
   {
    "duration": 10,
    "start_time": "2022-04-01T23:11:10.145Z"
   },
   {
    "duration": 9,
    "start_time": "2022-04-01T23:11:10.158Z"
   },
   {
    "duration": 1737,
    "start_time": "2022-04-12T14:14:48.491Z"
   },
   {
    "duration": 23,
    "start_time": "2022-04-12T14:14:50.231Z"
   },
   {
    "duration": 38,
    "start_time": "2022-04-12T14:14:50.257Z"
   },
   {
    "duration": 68,
    "start_time": "2022-04-12T14:14:50.303Z"
   },
   {
    "duration": 18,
    "start_time": "2022-04-12T14:14:50.374Z"
   },
   {
    "duration": 63,
    "start_time": "2022-04-12T14:14:50.395Z"
   },
   {
    "duration": 34,
    "start_time": "2022-04-12T14:14:50.461Z"
   },
   {
    "duration": 11,
    "start_time": "2022-04-12T14:14:50.498Z"
   },
   {
    "duration": 51,
    "start_time": "2022-04-12T14:14:50.512Z"
   },
   {
    "duration": 26,
    "start_time": "2022-04-12T14:14:50.567Z"
   },
   {
    "duration": 17,
    "start_time": "2022-04-12T14:14:50.595Z"
   },
   {
    "duration": 49,
    "start_time": "2022-04-12T14:14:50.615Z"
   },
   {
    "duration": 23,
    "start_time": "2022-04-12T14:14:50.667Z"
   },
   {
    "duration": 25,
    "start_time": "2022-04-12T14:14:50.693Z"
   },
   {
    "duration": 37,
    "start_time": "2022-04-12T14:14:50.720Z"
   },
   {
    "duration": 125,
    "start_time": "2022-04-12T14:14:50.760Z"
   },
   {
    "duration": 14,
    "start_time": "2022-04-12T14:14:50.887Z"
   },
   {
    "duration": 14,
    "start_time": "2022-04-12T14:14:50.904Z"
   },
   {
    "duration": 163,
    "start_time": "2022-04-12T14:14:50.920Z"
   },
   {
    "duration": 12,
    "start_time": "2022-04-12T14:14:51.085Z"
   },
   {
    "duration": 52,
    "start_time": "2022-04-12T14:14:51.100Z"
   },
   {
    "duration": 29,
    "start_time": "2022-04-12T14:14:51.155Z"
   },
   {
    "duration": 33,
    "start_time": "2022-04-12T14:14:51.187Z"
   },
   {
    "duration": 24,
    "start_time": "2022-04-12T14:14:51.251Z"
   },
   {
    "duration": 78,
    "start_time": "2022-04-12T14:14:51.278Z"
   },
   {
    "duration": 140,
    "start_time": "2022-04-12T14:14:51.359Z"
   },
   {
    "duration": 51,
    "start_time": "2022-04-12T14:14:51.501Z"
   },
   {
    "duration": 67,
    "start_time": "2022-04-12T14:14:51.562Z"
   },
   {
    "duration": 60,
    "start_time": "2022-04-12T14:14:51.632Z"
   },
   {
    "duration": 64,
    "start_time": "2022-04-12T14:14:51.695Z"
   },
   {
    "duration": 15,
    "start_time": "2022-04-12T14:14:51.761Z"
   },
   {
    "duration": 59,
    "start_time": "2022-04-12T14:14:51.779Z"
   },
   {
    "duration": 25,
    "start_time": "2022-04-12T14:14:51.840Z"
   },
   {
    "duration": 18,
    "start_time": "2022-04-12T14:14:51.868Z"
   },
   {
    "duration": 63,
    "start_time": "2022-04-12T14:14:51.889Z"
   },
   {
    "duration": 28,
    "start_time": "2022-04-12T14:14:51.954Z"
   },
   {
    "duration": 30,
    "start_time": "2022-04-12T14:14:51.985Z"
   },
   {
    "duration": 61,
    "start_time": "2022-04-12T14:14:52.017Z"
   },
   {
    "duration": 13,
    "start_time": "2022-04-12T14:14:52.081Z"
   },
   {
    "duration": 10,
    "start_time": "2022-04-12T14:14:52.096Z"
   },
   {
    "duration": 1057,
    "start_time": "2022-04-12T14:14:52.109Z"
   },
   {
    "duration": 291,
    "start_time": "2022-04-12T14:14:53.168Z"
   },
   {
    "duration": 13,
    "start_time": "2022-04-12T14:14:53.461Z"
   },
   {
    "duration": 10,
    "start_time": "2022-04-12T14:14:53.477Z"
   },
   {
    "duration": 265,
    "start_time": "2022-04-12T14:14:53.490Z"
   },
   {
    "duration": 228,
    "start_time": "2022-04-12T14:14:53.758Z"
   },
   {
    "duration": 14,
    "start_time": "2022-04-12T14:14:53.989Z"
   },
   {
    "duration": 9,
    "start_time": "2022-04-12T14:14:54.006Z"
   },
   {
    "duration": 225,
    "start_time": "2022-04-12T14:14:54.052Z"
   },
   {
    "duration": 13,
    "start_time": "2022-04-12T14:14:54.279Z"
   },
   {
    "duration": 8,
    "start_time": "2022-04-12T14:14:54.294Z"
   },
   {
    "duration": 311,
    "start_time": "2022-04-12T14:14:54.304Z"
   },
   {
    "duration": 12,
    "start_time": "2022-04-12T14:14:54.618Z"
   },
   {
    "duration": 11,
    "start_time": "2022-04-12T14:14:54.653Z"
   },
   {
    "duration": 716,
    "start_time": "2022-04-12T14:14:54.667Z"
   },
   {
    "duration": 466,
    "start_time": "2022-04-12T14:14:55.386Z"
   },
   {
    "duration": 17,
    "start_time": "2022-04-12T14:14:55.855Z"
   },
   {
    "duration": 8,
    "start_time": "2022-04-12T14:14:55.874Z"
   },
   {
    "duration": 253,
    "start_time": "2022-04-12T14:14:55.884Z"
   },
   {
    "duration": 25,
    "start_time": "2022-04-12T14:14:56.139Z"
   },
   {
    "duration": 17,
    "start_time": "2022-04-12T14:14:56.167Z"
   },
   {
    "duration": 4,
    "start_time": "2022-04-12T14:14:56.187Z"
   },
   {
    "duration": 11,
    "start_time": "2022-04-12T14:14:56.193Z"
   },
   {
    "duration": 47,
    "start_time": "2022-04-12T14:14:56.206Z"
   },
   {
    "duration": 13,
    "start_time": "2022-04-12T14:14:56.255Z"
   },
   {
    "duration": 15,
    "start_time": "2022-04-12T14:14:56.270Z"
   },
   {
    "duration": 10,
    "start_time": "2022-04-12T14:14:56.288Z"
   },
   {
    "duration": 56,
    "start_time": "2022-04-12T14:14:56.301Z"
   },
   {
    "duration": 5,
    "start_time": "2022-04-12T14:14:56.360Z"
   },
   {
    "duration": 7,
    "start_time": "2022-04-12T14:14:56.368Z"
   },
   {
    "duration": 8,
    "start_time": "2022-04-12T14:14:56.378Z"
   },
   {
    "duration": 8,
    "start_time": "2022-04-12T14:14:56.388Z"
   },
   {
    "duration": 24,
    "start_time": "2022-04-12T14:17:35.002Z"
   },
   {
    "duration": 39,
    "start_time": "2022-04-12T14:22:57.790Z"
   },
   {
    "duration": 275,
    "start_time": "2022-04-12T14:23:08.974Z"
   },
   {
    "duration": 37,
    "start_time": "2022-04-12T14:23:14.618Z"
   },
   {
    "duration": 57,
    "start_time": "2022-04-12T14:23:26.181Z"
   },
   {
    "duration": 149,
    "start_time": "2022-04-12T17:56:15.046Z"
   },
   {
    "duration": 820,
    "start_time": "2022-04-12T18:13:01.667Z"
   },
   {
    "duration": 367,
    "start_time": "2022-04-12T18:13:02.489Z"
   },
   {
    "duration": 15,
    "start_time": "2022-04-12T18:13:02.857Z"
   },
   {
    "duration": 29,
    "start_time": "2022-04-12T18:13:02.874Z"
   },
   {
    "duration": 25,
    "start_time": "2022-04-12T18:13:02.905Z"
   },
   {
    "duration": 8,
    "start_time": "2022-04-12T18:13:02.948Z"
   },
   {
    "duration": 29,
    "start_time": "2022-04-12T18:13:02.958Z"
   },
   {
    "duration": 21,
    "start_time": "2022-04-12T18:13:02.988Z"
   },
   {
    "duration": 6,
    "start_time": "2022-04-12T18:13:03.011Z"
   },
   {
    "duration": 14,
    "start_time": "2022-04-12T18:13:03.047Z"
   },
   {
    "duration": 18,
    "start_time": "2022-04-12T18:13:03.062Z"
   },
   {
    "duration": 7,
    "start_time": "2022-04-12T18:13:03.081Z"
   },
   {
    "duration": 10,
    "start_time": "2022-04-12T18:13:03.090Z"
   },
   {
    "duration": 14,
    "start_time": "2022-04-12T18:13:03.102Z"
   },
   {
    "duration": 42,
    "start_time": "2022-04-12T18:13:03.117Z"
   },
   {
    "duration": 12,
    "start_time": "2022-04-12T18:13:03.160Z"
   },
   {
    "duration": 89,
    "start_time": "2022-04-12T18:13:03.174Z"
   },
   {
    "duration": 8,
    "start_time": "2022-04-12T18:13:03.265Z"
   },
   {
    "duration": 11,
    "start_time": "2022-04-12T18:13:03.275Z"
   },
   {
    "duration": 88,
    "start_time": "2022-04-12T18:13:03.288Z"
   },
   {
    "duration": 8,
    "start_time": "2022-04-12T18:13:03.377Z"
   },
   {
    "duration": 19,
    "start_time": "2022-04-12T18:13:03.387Z"
   },
   {
    "duration": 17,
    "start_time": "2022-04-12T18:13:03.408Z"
   },
   {
    "duration": 14,
    "start_time": "2022-04-12T18:13:03.448Z"
   },
   {
    "duration": 9,
    "start_time": "2022-04-12T18:13:03.464Z"
   },
   {
    "duration": 30,
    "start_time": "2022-04-12T18:13:03.475Z"
   },
   {
    "duration": 83,
    "start_time": "2022-04-12T18:13:03.506Z"
   },
   {
    "duration": 19,
    "start_time": "2022-04-12T18:13:03.593Z"
   },
   {
    "duration": 48,
    "start_time": "2022-04-12T18:13:03.613Z"
   },
   {
    "duration": 22,
    "start_time": "2022-04-12T18:13:03.663Z"
   },
   {
    "duration": 27,
    "start_time": "2022-04-12T18:13:03.688Z"
   },
   {
    "duration": 32,
    "start_time": "2022-04-12T18:13:03.717Z"
   },
   {
    "duration": 27,
    "start_time": "2022-04-12T18:13:03.751Z"
   },
   {
    "duration": 12,
    "start_time": "2022-04-12T18:13:03.780Z"
   },
   {
    "duration": 12,
    "start_time": "2022-04-12T18:13:03.794Z"
   },
   {
    "duration": 53,
    "start_time": "2022-04-12T18:13:03.808Z"
   },
   {
    "duration": 18,
    "start_time": "2022-04-12T18:13:03.863Z"
   },
   {
    "duration": 14,
    "start_time": "2022-04-12T18:13:03.883Z"
   },
   {
    "duration": 15,
    "start_time": "2022-04-12T18:13:03.899Z"
   },
   {
    "duration": 41,
    "start_time": "2022-04-12T18:13:03.915Z"
   },
   {
    "duration": 7,
    "start_time": "2022-04-12T18:13:03.958Z"
   },
   {
    "duration": 578,
    "start_time": "2022-04-12T18:13:03.966Z"
   },
   {
    "duration": 163,
    "start_time": "2022-04-12T18:13:04.546Z"
   },
   {
    "duration": 9,
    "start_time": "2022-04-12T18:13:04.711Z"
   },
   {
    "duration": 7,
    "start_time": "2022-04-12T18:13:04.722Z"
   },
   {
    "duration": 147,
    "start_time": "2022-04-12T18:13:04.730Z"
   },
   {
    "duration": 127,
    "start_time": "2022-04-12T18:13:04.879Z"
   },
   {
    "duration": 9,
    "start_time": "2022-04-12T18:13:05.007Z"
   },
   {
    "duration": 8,
    "start_time": "2022-04-12T18:13:05.017Z"
   },
   {
    "duration": 144,
    "start_time": "2022-04-12T18:13:05.027Z"
   },
   {
    "duration": 9,
    "start_time": "2022-04-12T18:13:05.172Z"
   },
   {
    "duration": 6,
    "start_time": "2022-04-12T18:13:05.183Z"
   },
   {
    "duration": 234,
    "start_time": "2022-04-12T18:13:05.190Z"
   },
   {
    "duration": 9,
    "start_time": "2022-04-12T18:13:05.426Z"
   },
   {
    "duration": 6,
    "start_time": "2022-04-12T18:13:05.447Z"
   },
   {
    "duration": 179,
    "start_time": "2022-04-12T18:13:05.455Z"
   },
   {
    "duration": 161,
    "start_time": "2022-04-12T18:13:05.636Z"
   },
   {
    "duration": 10,
    "start_time": "2022-04-12T18:13:05.799Z"
   },
   {
    "duration": 10,
    "start_time": "2022-04-12T18:13:05.810Z"
   },
   {
    "duration": 142,
    "start_time": "2022-04-12T18:13:05.821Z"
   },
   {
    "duration": 33,
    "start_time": "2022-04-12T18:13:05.964Z"
   },
   {
    "duration": 9,
    "start_time": "2022-04-12T18:13:05.999Z"
   },
   {
    "duration": 10,
    "start_time": "2022-04-12T18:13:06.009Z"
   },
   {
    "duration": 2,
    "start_time": "2022-04-12T18:13:06.021Z"
   },
   {
    "duration": 6,
    "start_time": "2022-04-12T18:13:06.048Z"
   },
   {
    "duration": 6,
    "start_time": "2022-04-12T18:13:06.055Z"
   },
   {
    "duration": 12,
    "start_time": "2022-04-12T18:13:06.063Z"
   },
   {
    "duration": 14,
    "start_time": "2022-04-12T18:13:06.076Z"
   },
   {
    "duration": 14,
    "start_time": "2022-04-12T18:13:06.092Z"
   },
   {
    "duration": 9,
    "start_time": "2022-04-12T18:13:06.107Z"
   },
   {
    "duration": 3,
    "start_time": "2022-04-12T18:13:06.118Z"
   },
   {
    "duration": 26,
    "start_time": "2022-04-12T18:13:06.123Z"
   },
   {
    "duration": 5,
    "start_time": "2022-04-12T18:13:06.150Z"
   },
   {
    "duration": 5,
    "start_time": "2022-04-12T18:13:06.157Z"
   },
   {
    "duration": 7,
    "start_time": "2022-04-12T18:15:13.508Z"
   },
   {
    "duration": 3,
    "start_time": "2022-04-12T18:15:14.477Z"
   },
   {
    "duration": 6,
    "start_time": "2022-04-12T18:15:29.074Z"
   },
   {
    "duration": 4,
    "start_time": "2022-04-12T18:15:29.628Z"
   },
   {
    "duration": 6,
    "start_time": "2022-04-12T18:15:34.547Z"
   },
   {
    "duration": 3,
    "start_time": "2022-04-12T18:15:36.016Z"
   },
   {
    "duration": 8,
    "start_time": "2022-04-12T18:41:32.138Z"
   },
   {
    "duration": 8,
    "start_time": "2022-04-12T18:42:07.588Z"
   },
   {
    "duration": 7,
    "start_time": "2022-04-12T18:42:11.580Z"
   },
   {
    "duration": 10,
    "start_time": "2022-04-12T18:42:21.417Z"
   },
   {
    "duration": 10,
    "start_time": "2022-04-12T18:43:56.877Z"
   },
   {
    "duration": 4,
    "start_time": "2022-04-12T18:44:38.528Z"
   },
   {
    "duration": 7,
    "start_time": "2022-04-12T18:44:47.077Z"
   },
   {
    "duration": 4,
    "start_time": "2022-04-12T18:44:53.018Z"
   },
   {
    "duration": 7,
    "start_time": "2022-04-12T18:44:57.667Z"
   },
   {
    "duration": 8,
    "start_time": "2022-04-12T18:46:14.837Z"
   },
   {
    "duration": 6,
    "start_time": "2022-04-12T18:46:15.709Z"
   },
   {
    "duration": 6,
    "start_time": "2022-04-12T18:46:16.259Z"
   },
   {
    "duration": 6,
    "start_time": "2022-04-12T18:46:23.917Z"
   },
   {
    "duration": 4,
    "start_time": "2022-04-12T18:46:25.410Z"
   },
   {
    "duration": 6,
    "start_time": "2022-04-12T18:46:29.867Z"
   },
   {
    "duration": 850,
    "start_time": "2022-04-12T18:46:48.394Z"
   },
   {
    "duration": 371,
    "start_time": "2022-04-12T18:46:49.248Z"
   },
   {
    "duration": 15,
    "start_time": "2022-04-12T18:46:49.621Z"
   },
   {
    "duration": 29,
    "start_time": "2022-04-12T18:46:49.638Z"
   },
   {
    "duration": 25,
    "start_time": "2022-04-12T18:46:49.669Z"
   },
   {
    "duration": 8,
    "start_time": "2022-04-12T18:46:49.696Z"
   },
   {
    "duration": 46,
    "start_time": "2022-04-12T18:46:49.706Z"
   },
   {
    "duration": 21,
    "start_time": "2022-04-12T18:46:49.754Z"
   },
   {
    "duration": 7,
    "start_time": "2022-04-12T18:46:49.777Z"
   },
   {
    "duration": 15,
    "start_time": "2022-04-12T18:46:49.786Z"
   },
   {
    "duration": 51,
    "start_time": "2022-04-12T18:46:49.802Z"
   },
   {
    "duration": 8,
    "start_time": "2022-04-12T18:46:49.855Z"
   },
   {
    "duration": 11,
    "start_time": "2022-04-12T18:46:49.865Z"
   },
   {
    "duration": 11,
    "start_time": "2022-04-12T18:46:49.879Z"
   },
   {
    "duration": 17,
    "start_time": "2022-04-12T18:46:49.892Z"
   },
   {
    "duration": 9,
    "start_time": "2022-04-12T18:46:49.911Z"
   },
   {
    "duration": 73,
    "start_time": "2022-04-12T18:46:49.948Z"
   },
   {
    "duration": 9,
    "start_time": "2022-04-12T18:46:50.023Z"
   },
   {
    "duration": 21,
    "start_time": "2022-04-12T18:46:50.034Z"
   },
   {
    "duration": 91,
    "start_time": "2022-04-12T18:46:50.057Z"
   },
   {
    "duration": 8,
    "start_time": "2022-04-12T18:46:50.150Z"
   },
   {
    "duration": 20,
    "start_time": "2022-04-12T18:46:50.160Z"
   },
   {
    "duration": 16,
    "start_time": "2022-04-12T18:46:50.181Z"
   },
   {
    "duration": 14,
    "start_time": "2022-04-12T18:46:50.199Z"
   },
   {
    "duration": 41,
    "start_time": "2022-04-12T18:46:50.214Z"
   },
   {
    "duration": 30,
    "start_time": "2022-04-12T18:46:50.256Z"
   },
   {
    "duration": 76,
    "start_time": "2022-04-12T18:46:50.288Z"
   },
   {
    "duration": 19,
    "start_time": "2022-04-12T18:46:50.366Z"
   },
   {
    "duration": 32,
    "start_time": "2022-04-12T18:46:50.387Z"
   },
   {
    "duration": 39,
    "start_time": "2022-04-12T18:46:50.421Z"
   },
   {
    "duration": 26,
    "start_time": "2022-04-12T18:46:50.462Z"
   },
   {
    "duration": 9,
    "start_time": "2022-04-12T18:46:50.490Z"
   },
   {
    "duration": 52,
    "start_time": "2022-04-12T18:46:50.501Z"
   },
   {
    "duration": 12,
    "start_time": "2022-04-12T18:46:50.555Z"
   },
   {
    "duration": 11,
    "start_time": "2022-04-12T18:46:50.569Z"
   },
   {
    "duration": 19,
    "start_time": "2022-04-12T18:46:50.582Z"
   },
   {
    "duration": 45,
    "start_time": "2022-04-12T18:46:50.603Z"
   },
   {
    "duration": 13,
    "start_time": "2022-04-12T18:46:50.650Z"
   },
   {
    "duration": 15,
    "start_time": "2022-04-12T18:46:50.665Z"
   },
   {
    "duration": 8,
    "start_time": "2022-04-12T18:46:50.681Z"
   },
   {
    "duration": 6,
    "start_time": "2022-04-12T18:46:50.693Z"
   },
   {
    "duration": 448,
    "start_time": "2022-04-12T18:46:50.701Z"
   },
   {
    "duration": 166,
    "start_time": "2022-04-12T18:46:51.150Z"
   },
   {
    "duration": 10,
    "start_time": "2022-04-12T18:46:51.317Z"
   },
   {
    "duration": 21,
    "start_time": "2022-04-12T18:46:51.329Z"
   },
   {
    "duration": 136,
    "start_time": "2022-04-12T18:46:51.352Z"
   },
   {
    "duration": 131,
    "start_time": "2022-04-12T18:46:51.490Z"
   },
   {
    "duration": 10,
    "start_time": "2022-04-12T18:46:51.623Z"
   },
   {
    "duration": 20,
    "start_time": "2022-04-12T18:46:51.634Z"
   },
   {
    "duration": 137,
    "start_time": "2022-04-12T18:46:51.655Z"
   },
   {
    "duration": 9,
    "start_time": "2022-04-12T18:46:51.793Z"
   },
   {
    "duration": 6,
    "start_time": "2022-04-12T18:46:51.804Z"
   },
   {
    "duration": 178,
    "start_time": "2022-04-12T18:46:51.811Z"
   },
   {
    "duration": 10,
    "start_time": "2022-04-12T18:46:51.990Z"
   },
   {
    "duration": 8,
    "start_time": "2022-04-12T18:46:52.001Z"
   },
   {
    "duration": 254,
    "start_time": "2022-04-12T18:46:52.011Z"
   },
   {
    "duration": 163,
    "start_time": "2022-04-12T18:46:52.267Z"
   },
   {
    "duration": 8,
    "start_time": "2022-04-12T18:46:52.432Z"
   },
   {
    "duration": 7,
    "start_time": "2022-04-12T18:46:52.448Z"
   },
   {
    "duration": 147,
    "start_time": "2022-04-12T18:46:52.456Z"
   },
   {
    "duration": 48,
    "start_time": "2022-04-12T18:46:52.605Z"
   },
   {
    "duration": 10,
    "start_time": "2022-04-12T18:46:52.655Z"
   },
   {
    "duration": 9,
    "start_time": "2022-04-12T18:46:52.667Z"
   },
   {
    "duration": 3,
    "start_time": "2022-04-12T18:46:52.678Z"
   },
   {
    "duration": 9,
    "start_time": "2022-04-12T18:46:52.683Z"
   },
   {
    "duration": 8,
    "start_time": "2022-04-12T18:46:52.693Z"
   },
   {
    "duration": 13,
    "start_time": "2022-04-12T18:46:52.703Z"
   },
   {
    "duration": 39,
    "start_time": "2022-04-12T18:46:52.717Z"
   },
   {
    "duration": 6,
    "start_time": "2022-04-12T18:46:52.757Z"
   },
   {
    "duration": 3,
    "start_time": "2022-04-12T18:46:52.765Z"
   },
   {
    "duration": 3,
    "start_time": "2022-04-12T18:46:52.770Z"
   },
   {
    "duration": 10,
    "start_time": "2022-04-12T18:46:52.775Z"
   },
   {
    "duration": 8,
    "start_time": "2022-04-12T18:46:52.787Z"
   },
   {
    "duration": 7,
    "start_time": "2022-04-12T18:46:52.797Z"
   },
   {
    "duration": 44,
    "start_time": "2022-04-12T18:46:52.806Z"
   },
   {
    "duration": 9,
    "start_time": "2022-04-12T18:46:52.852Z"
   },
   {
    "duration": 6,
    "start_time": "2022-04-12T18:48:34.549Z"
   },
   {
    "duration": 9,
    "start_time": "2022-04-12T18:50:05.577Z"
   },
   {
    "duration": 5,
    "start_time": "2022-04-12T18:50:18.567Z"
   },
   {
    "duration": 6,
    "start_time": "2022-04-12T18:50:24.692Z"
   },
   {
    "duration": 12,
    "start_time": "2022-04-12T18:51:41.958Z"
   },
   {
    "duration": 105,
    "start_time": "2022-04-12T18:51:43.870Z"
   },
   {
    "duration": 6,
    "start_time": "2022-04-12T18:52:01.263Z"
   },
   {
    "duration": 8,
    "start_time": "2022-04-12T18:52:02.863Z"
   },
   {
    "duration": 14,
    "start_time": "2022-04-12T18:52:03.538Z"
   },
   {
    "duration": 7,
    "start_time": "2022-04-12T18:52:35.147Z"
   },
   {
    "duration": 7,
    "start_time": "2022-04-12T18:53:07.598Z"
   },
   {
    "duration": 5,
    "start_time": "2022-04-12T18:53:08.478Z"
   },
   {
    "duration": 8,
    "start_time": "2022-04-12T18:53:10.317Z"
   },
   {
    "duration": 6,
    "start_time": "2022-04-12T18:53:14.775Z"
   },
   {
    "duration": 18,
    "start_time": "2022-04-12T18:53:58.640Z"
   },
   {
    "duration": 845,
    "start_time": "2022-04-12T18:54:56.052Z"
   },
   {
    "duration": 374,
    "start_time": "2022-04-12T18:54:56.899Z"
   },
   {
    "duration": 19,
    "start_time": "2022-04-12T18:54:57.275Z"
   },
   {
    "duration": 31,
    "start_time": "2022-04-12T18:54:57.296Z"
   },
   {
    "duration": 30,
    "start_time": "2022-04-12T18:54:57.330Z"
   },
   {
    "duration": 9,
    "start_time": "2022-04-12T18:54:57.362Z"
   },
   {
    "duration": 30,
    "start_time": "2022-04-12T18:54:57.373Z"
   },
   {
    "duration": 50,
    "start_time": "2022-04-12T18:54:57.404Z"
   },
   {
    "duration": 7,
    "start_time": "2022-04-12T18:54:57.456Z"
   },
   {
    "duration": 16,
    "start_time": "2022-04-12T18:54:57.464Z"
   },
   {
    "duration": 30,
    "start_time": "2022-04-12T18:54:57.482Z"
   },
   {
    "duration": 8,
    "start_time": "2022-04-12T18:54:57.514Z"
   },
   {
    "duration": 11,
    "start_time": "2022-04-12T18:54:57.548Z"
   },
   {
    "duration": 11,
    "start_time": "2022-04-12T18:54:57.562Z"
   },
   {
    "duration": 15,
    "start_time": "2022-04-12T18:54:57.574Z"
   },
   {
    "duration": 10,
    "start_time": "2022-04-12T18:54:57.591Z"
   },
   {
    "duration": 114,
    "start_time": "2022-04-12T18:54:57.602Z"
   },
   {
    "duration": 9,
    "start_time": "2022-04-12T18:54:57.717Z"
   },
   {
    "duration": 24,
    "start_time": "2022-04-12T18:54:57.728Z"
   },
   {
    "duration": 78,
    "start_time": "2022-04-12T18:54:57.754Z"
   },
   {
    "duration": 19,
    "start_time": "2022-04-12T18:54:57.834Z"
   },
   {
    "duration": 19,
    "start_time": "2022-04-12T18:54:57.855Z"
   },
   {
    "duration": 16,
    "start_time": "2022-04-12T18:54:57.876Z"
   },
   {
    "duration": 14,
    "start_time": "2022-04-12T18:54:57.894Z"
   },
   {
    "duration": 46,
    "start_time": "2022-04-12T18:54:57.910Z"
   },
   {
    "duration": 39,
    "start_time": "2022-04-12T18:54:57.958Z"
   },
   {
    "duration": 104,
    "start_time": "2022-04-12T18:54:57.999Z"
   },
   {
    "duration": 25,
    "start_time": "2022-04-12T18:54:58.105Z"
   },
   {
    "duration": 60,
    "start_time": "2022-04-12T18:54:58.132Z"
   },
   {
    "duration": 22,
    "start_time": "2022-04-12T18:54:58.195Z"
   },
   {
    "duration": 51,
    "start_time": "2022-04-12T18:54:58.219Z"
   },
   {
    "duration": 9,
    "start_time": "2022-04-12T18:54:58.272Z"
   },
   {
    "duration": 29,
    "start_time": "2022-04-12T18:54:58.283Z"
   },
   {
    "duration": 13,
    "start_time": "2022-04-12T18:54:58.314Z"
   },
   {
    "duration": 14,
    "start_time": "2022-04-12T18:54:58.348Z"
   },
   {
    "duration": 20,
    "start_time": "2022-04-12T18:54:58.364Z"
   },
   {
    "duration": 20,
    "start_time": "2022-04-12T18:54:58.386Z"
   },
   {
    "duration": 46,
    "start_time": "2022-04-12T18:54:58.408Z"
   },
   {
    "duration": 14,
    "start_time": "2022-04-12T18:54:58.456Z"
   },
   {
    "duration": 10,
    "start_time": "2022-04-12T18:54:58.472Z"
   },
   {
    "duration": 6,
    "start_time": "2022-04-12T18:54:58.487Z"
   },
   {
    "duration": 453,
    "start_time": "2022-04-12T18:54:58.494Z"
   },
   {
    "duration": 164,
    "start_time": "2022-04-12T18:54:58.949Z"
   },
   {
    "duration": 10,
    "start_time": "2022-04-12T18:54:59.115Z"
   },
   {
    "duration": 24,
    "start_time": "2022-04-12T18:54:59.126Z"
   },
   {
    "duration": 132,
    "start_time": "2022-04-12T18:54:59.151Z"
   },
   {
    "duration": 125,
    "start_time": "2022-04-12T18:54:59.285Z"
   },
   {
    "duration": 10,
    "start_time": "2022-04-12T18:54:59.412Z"
   },
   {
    "duration": 24,
    "start_time": "2022-04-12T18:54:59.424Z"
   },
   {
    "duration": 200,
    "start_time": "2022-04-12T18:54:59.450Z"
   },
   {
    "duration": 12,
    "start_time": "2022-04-12T18:54:59.652Z"
   },
   {
    "duration": 8,
    "start_time": "2022-04-12T18:54:59.666Z"
   },
   {
    "duration": 183,
    "start_time": "2022-04-12T18:54:59.676Z"
   },
   {
    "duration": 9,
    "start_time": "2022-04-12T18:54:59.861Z"
   },
   {
    "duration": 11,
    "start_time": "2022-04-12T18:54:59.871Z"
   },
   {
    "duration": 283,
    "start_time": "2022-04-12T18:54:59.884Z"
   },
   {
    "duration": 169,
    "start_time": "2022-04-12T18:55:00.168Z"
   },
   {
    "duration": 15,
    "start_time": "2022-04-12T18:55:00.339Z"
   },
   {
    "duration": 8,
    "start_time": "2022-04-12T18:55:00.355Z"
   },
   {
    "duration": 149,
    "start_time": "2022-04-12T18:55:00.365Z"
   },
   {
    "duration": 44,
    "start_time": "2022-04-12T18:55:00.516Z"
   },
   {
    "duration": 9,
    "start_time": "2022-04-12T18:55:00.561Z"
   },
   {
    "duration": 16,
    "start_time": "2022-04-12T18:55:00.571Z"
   },
   {
    "duration": 4,
    "start_time": "2022-04-12T18:55:00.589Z"
   },
   {
    "duration": 18,
    "start_time": "2022-04-12T18:55:00.595Z"
   },
   {
    "duration": 7,
    "start_time": "2022-04-12T18:55:00.614Z"
   },
   {
    "duration": 25,
    "start_time": "2022-04-12T18:55:00.623Z"
   },
   {
    "duration": 11,
    "start_time": "2022-04-12T18:55:00.650Z"
   },
   {
    "duration": 11,
    "start_time": "2022-04-12T18:55:00.663Z"
   },
   {
    "duration": 9,
    "start_time": "2022-04-12T18:55:00.675Z"
   },
   {
    "duration": 11,
    "start_time": "2022-04-12T18:55:00.686Z"
   },
   {
    "duration": 14,
    "start_time": "2022-04-12T18:55:00.698Z"
   },
   {
    "duration": 7,
    "start_time": "2022-04-12T18:55:00.714Z"
   },
   {
    "duration": 5,
    "start_time": "2022-04-12T18:55:00.723Z"
   },
   {
    "duration": 21,
    "start_time": "2022-04-12T18:55:00.729Z"
   },
   {
    "duration": 110,
    "start_time": "2022-04-12T18:55:00.752Z"
   },
   {
    "duration": 0,
    "start_time": "2022-04-12T18:55:00.864Z"
   },
   {
    "duration": 6,
    "start_time": "2022-04-12T18:55:12.524Z"
   },
   {
    "duration": 6,
    "start_time": "2022-04-12T18:56:28.569Z"
   },
   {
    "duration": 5,
    "start_time": "2022-04-12T18:56:36.812Z"
   },
   {
    "duration": 6,
    "start_time": "2022-04-12T18:56:50.552Z"
   },
   {
    "duration": 6,
    "start_time": "2022-04-12T18:57:29.232Z"
   },
   {
    "duration": 6,
    "start_time": "2022-04-12T18:57:31.374Z"
   },
   {
    "duration": 775,
    "start_time": "2022-04-12T18:57:51.598Z"
   },
   {
    "duration": 363,
    "start_time": "2022-04-12T18:57:52.374Z"
   },
   {
    "duration": 14,
    "start_time": "2022-04-12T18:57:52.739Z"
   },
   {
    "duration": 28,
    "start_time": "2022-04-12T18:57:52.755Z"
   },
   {
    "duration": 24,
    "start_time": "2022-04-12T18:57:52.785Z"
   },
   {
    "duration": 9,
    "start_time": "2022-04-12T18:57:52.810Z"
   },
   {
    "duration": 51,
    "start_time": "2022-04-12T18:57:52.820Z"
   },
   {
    "duration": 21,
    "start_time": "2022-04-12T18:57:52.872Z"
   },
   {
    "duration": 7,
    "start_time": "2022-04-12T18:57:52.894Z"
   },
   {
    "duration": 14,
    "start_time": "2022-04-12T18:57:52.902Z"
   },
   {
    "duration": 44,
    "start_time": "2022-04-12T18:57:52.918Z"
   },
   {
    "duration": 7,
    "start_time": "2022-04-12T18:57:52.963Z"
   },
   {
    "duration": 14,
    "start_time": "2022-04-12T18:57:52.971Z"
   },
   {
    "duration": 8,
    "start_time": "2022-04-12T18:57:52.988Z"
   },
   {
    "duration": 13,
    "start_time": "2022-04-12T18:57:52.998Z"
   },
   {
    "duration": 38,
    "start_time": "2022-04-12T18:57:53.012Z"
   },
   {
    "duration": 73,
    "start_time": "2022-04-12T18:57:53.051Z"
   },
   {
    "duration": 22,
    "start_time": "2022-04-12T18:57:53.126Z"
   },
   {
    "duration": 10,
    "start_time": "2022-04-12T18:57:53.149Z"
   },
   {
    "duration": 87,
    "start_time": "2022-04-12T18:57:53.161Z"
   },
   {
    "duration": 8,
    "start_time": "2022-04-12T18:57:53.249Z"
   },
   {
    "duration": 21,
    "start_time": "2022-04-12T18:57:53.259Z"
   },
   {
    "duration": 15,
    "start_time": "2022-04-12T18:57:53.281Z"
   },
   {
    "duration": 15,
    "start_time": "2022-04-12T18:57:53.298Z"
   },
   {
    "duration": 41,
    "start_time": "2022-04-12T18:57:53.314Z"
   },
   {
    "duration": 34,
    "start_time": "2022-04-12T18:57:53.357Z"
   },
   {
    "duration": 70,
    "start_time": "2022-04-12T18:57:53.392Z"
   },
   {
    "duration": 19,
    "start_time": "2022-04-12T18:57:53.463Z"
   },
   {
    "duration": 32,
    "start_time": "2022-04-12T18:57:53.484Z"
   },
   {
    "duration": 43,
    "start_time": "2022-04-12T18:57:53.518Z"
   },
   {
    "duration": 28,
    "start_time": "2022-04-12T18:57:53.563Z"
   },
   {
    "duration": 10,
    "start_time": "2022-04-12T18:57:53.592Z"
   },
   {
    "duration": 49,
    "start_time": "2022-04-12T18:57:53.603Z"
   },
   {
    "duration": 12,
    "start_time": "2022-04-12T18:57:53.653Z"
   },
   {
    "duration": 12,
    "start_time": "2022-04-12T18:57:53.666Z"
   },
   {
    "duration": 19,
    "start_time": "2022-04-12T18:57:53.679Z"
   },
   {
    "duration": 17,
    "start_time": "2022-04-12T18:57:53.700Z"
   },
   {
    "duration": 13,
    "start_time": "2022-04-12T18:57:53.748Z"
   },
   {
    "duration": 13,
    "start_time": "2022-04-12T18:57:53.762Z"
   },
   {
    "duration": 13,
    "start_time": "2022-04-12T18:57:53.777Z"
   },
   {
    "duration": 5,
    "start_time": "2022-04-12T18:57:53.795Z"
   },
   {
    "duration": 446,
    "start_time": "2022-04-12T18:57:53.802Z"
   },
   {
    "duration": 164,
    "start_time": "2022-04-12T18:57:54.249Z"
   },
   {
    "duration": 9,
    "start_time": "2022-04-12T18:57:54.414Z"
   },
   {
    "duration": 7,
    "start_time": "2022-04-12T18:57:54.424Z"
   },
   {
    "duration": 136,
    "start_time": "2022-04-12T18:57:54.448Z"
   },
   {
    "duration": 122,
    "start_time": "2022-04-12T18:57:54.585Z"
   },
   {
    "duration": 9,
    "start_time": "2022-04-12T18:57:54.708Z"
   },
   {
    "duration": 6,
    "start_time": "2022-04-12T18:57:54.719Z"
   },
   {
    "duration": 146,
    "start_time": "2022-04-12T18:57:54.727Z"
   },
   {
    "duration": 9,
    "start_time": "2022-04-12T18:57:54.874Z"
   },
   {
    "duration": 9,
    "start_time": "2022-04-12T18:57:54.885Z"
   },
   {
    "duration": 177,
    "start_time": "2022-04-12T18:57:54.896Z"
   },
   {
    "duration": 9,
    "start_time": "2022-04-12T18:57:55.074Z"
   },
   {
    "duration": 6,
    "start_time": "2022-04-12T18:57:55.084Z"
   },
   {
    "duration": 250,
    "start_time": "2022-04-12T18:57:55.092Z"
   },
   {
    "duration": 158,
    "start_time": "2022-04-12T18:57:55.347Z"
   },
   {
    "duration": 10,
    "start_time": "2022-04-12T18:57:55.506Z"
   },
   {
    "duration": 8,
    "start_time": "2022-04-12T18:57:55.517Z"
   },
   {
    "duration": 140,
    "start_time": "2022-04-12T18:57:55.527Z"
   },
   {
    "duration": 33,
    "start_time": "2022-04-12T18:57:55.668Z"
   },
   {
    "duration": 9,
    "start_time": "2022-04-12T18:57:55.703Z"
   },
   {
    "duration": 8,
    "start_time": "2022-04-12T18:57:55.714Z"
   },
   {
    "duration": 24,
    "start_time": "2022-04-12T18:57:55.724Z"
   },
   {
    "duration": 6,
    "start_time": "2022-04-12T18:57:55.750Z"
   },
   {
    "duration": 7,
    "start_time": "2022-04-12T18:57:55.757Z"
   },
   {
    "duration": 9,
    "start_time": "2022-04-12T18:57:55.766Z"
   },
   {
    "duration": 8,
    "start_time": "2022-04-12T18:57:55.777Z"
   },
   {
    "duration": 8,
    "start_time": "2022-04-12T18:57:55.787Z"
   },
   {
    "duration": 7,
    "start_time": "2022-04-12T18:57:55.796Z"
   },
   {
    "duration": 4,
    "start_time": "2022-04-12T18:57:55.805Z"
   },
   {
    "duration": 40,
    "start_time": "2022-04-12T18:57:55.810Z"
   },
   {
    "duration": 5,
    "start_time": "2022-04-12T18:57:55.852Z"
   },
   {
    "duration": 7,
    "start_time": "2022-04-12T18:57:55.858Z"
   },
   {
    "duration": 813,
    "start_time": "2022-04-12T18:58:45.259Z"
   },
   {
    "duration": 361,
    "start_time": "2022-04-12T18:58:46.074Z"
   },
   {
    "duration": 14,
    "start_time": "2022-04-12T18:58:46.437Z"
   },
   {
    "duration": 29,
    "start_time": "2022-04-12T18:58:46.453Z"
   },
   {
    "duration": 24,
    "start_time": "2022-04-12T18:58:46.484Z"
   },
   {
    "duration": 9,
    "start_time": "2022-04-12T18:58:46.509Z"
   },
   {
    "duration": 51,
    "start_time": "2022-04-12T18:58:46.519Z"
   },
   {
    "duration": 21,
    "start_time": "2022-04-12T18:58:46.572Z"
   },
   {
    "duration": 7,
    "start_time": "2022-04-12T18:58:46.595Z"
   },
   {
    "duration": 16,
    "start_time": "2022-04-12T18:58:46.605Z"
   },
   {
    "duration": 41,
    "start_time": "2022-04-12T18:58:46.623Z"
   },
   {
    "duration": 8,
    "start_time": "2022-04-12T18:58:46.665Z"
   },
   {
    "duration": 12,
    "start_time": "2022-04-12T18:58:46.674Z"
   },
   {
    "duration": 14,
    "start_time": "2022-04-12T18:58:46.688Z"
   },
   {
    "duration": 14,
    "start_time": "2022-04-12T18:58:46.703Z"
   },
   {
    "duration": 37,
    "start_time": "2022-04-12T18:58:46.719Z"
   },
   {
    "duration": 75,
    "start_time": "2022-04-12T18:58:46.757Z"
   },
   {
    "duration": 22,
    "start_time": "2022-04-12T18:58:46.834Z"
   },
   {
    "duration": 11,
    "start_time": "2022-04-12T18:58:46.858Z"
   },
   {
    "duration": 85,
    "start_time": "2022-04-12T18:58:46.871Z"
   },
   {
    "duration": 8,
    "start_time": "2022-04-12T18:58:46.957Z"
   },
   {
    "duration": 19,
    "start_time": "2022-04-12T18:58:46.967Z"
   },
   {
    "duration": 16,
    "start_time": "2022-04-12T18:58:46.987Z"
   },
   {
    "duration": 14,
    "start_time": "2022-04-12T18:58:47.005Z"
   },
   {
    "duration": 11,
    "start_time": "2022-04-12T18:58:47.048Z"
   },
   {
    "duration": 30,
    "start_time": "2022-04-12T18:58:47.060Z"
   },
   {
    "duration": 78,
    "start_time": "2022-04-12T18:58:47.092Z"
   },
   {
    "duration": 19,
    "start_time": "2022-04-12T18:58:47.174Z"
   },
   {
    "duration": 31,
    "start_time": "2022-04-12T18:58:47.195Z"
   },
   {
    "duration": 38,
    "start_time": "2022-04-12T18:58:47.227Z"
   },
   {
    "duration": 26,
    "start_time": "2022-04-12T18:58:47.267Z"
   },
   {
    "duration": 10,
    "start_time": "2022-04-12T18:58:47.294Z"
   },
   {
    "duration": 52,
    "start_time": "2022-04-12T18:58:47.306Z"
   },
   {
    "duration": 12,
    "start_time": "2022-04-12T18:58:47.360Z"
   },
   {
    "duration": 12,
    "start_time": "2022-04-12T18:58:47.373Z"
   },
   {
    "duration": 18,
    "start_time": "2022-04-12T18:58:47.386Z"
   },
   {
    "duration": 46,
    "start_time": "2022-04-12T18:58:47.406Z"
   },
   {
    "duration": 13,
    "start_time": "2022-04-12T18:58:47.454Z"
   },
   {
    "duration": 14,
    "start_time": "2022-04-12T18:58:47.469Z"
   },
   {
    "duration": 9,
    "start_time": "2022-04-12T18:58:47.484Z"
   },
   {
    "duration": 5,
    "start_time": "2022-04-12T18:58:47.495Z"
   },
   {
    "duration": 454,
    "start_time": "2022-04-12T18:58:47.501Z"
   },
   {
    "duration": 159,
    "start_time": "2022-04-12T18:58:47.957Z"
   },
   {
    "duration": 9,
    "start_time": "2022-04-12T18:58:48.118Z"
   },
   {
    "duration": 11,
    "start_time": "2022-04-12T18:58:48.129Z"
   },
   {
    "duration": 139,
    "start_time": "2022-04-12T18:58:48.148Z"
   },
   {
    "duration": 131,
    "start_time": "2022-04-12T18:58:48.288Z"
   },
   {
    "duration": 9,
    "start_time": "2022-04-12T18:58:48.421Z"
   },
   {
    "duration": 17,
    "start_time": "2022-04-12T18:58:48.431Z"
   },
   {
    "duration": 129,
    "start_time": "2022-04-12T18:58:48.450Z"
   },
   {
    "duration": 10,
    "start_time": "2022-04-12T18:58:48.580Z"
   },
   {
    "duration": 12,
    "start_time": "2022-04-12T18:58:48.591Z"
   },
   {
    "duration": 172,
    "start_time": "2022-04-12T18:58:48.604Z"
   },
   {
    "duration": 9,
    "start_time": "2022-04-12T18:58:48.777Z"
   },
   {
    "duration": 6,
    "start_time": "2022-04-12T18:58:48.788Z"
   },
   {
    "duration": 247,
    "start_time": "2022-04-12T18:58:48.796Z"
   },
   {
    "duration": 157,
    "start_time": "2022-04-12T18:58:49.044Z"
   },
   {
    "duration": 8,
    "start_time": "2022-04-12T18:58:49.203Z"
   },
   {
    "duration": 5,
    "start_time": "2022-04-12T18:58:49.213Z"
   },
   {
    "duration": 146,
    "start_time": "2022-04-12T18:58:49.220Z"
   },
   {
    "duration": 32,
    "start_time": "2022-04-12T18:58:49.368Z"
   },
   {
    "duration": 9,
    "start_time": "2022-04-12T18:58:49.402Z"
   },
   {
    "duration": 9,
    "start_time": "2022-04-12T18:58:49.412Z"
   },
   {
    "duration": 25,
    "start_time": "2022-04-12T18:58:49.423Z"
   },
   {
    "duration": 9,
    "start_time": "2022-04-12T18:58:49.449Z"
   },
   {
    "duration": 4,
    "start_time": "2022-04-12T18:58:49.460Z"
   },
   {
    "duration": 9,
    "start_time": "2022-04-12T18:58:49.466Z"
   },
   {
    "duration": 8,
    "start_time": "2022-04-12T18:58:49.476Z"
   },
   {
    "duration": 5,
    "start_time": "2022-04-12T18:58:49.486Z"
   },
   {
    "duration": 5,
    "start_time": "2022-04-12T18:58:49.492Z"
   },
   {
    "duration": 4,
    "start_time": "2022-04-12T18:58:49.499Z"
   },
   {
    "duration": 44,
    "start_time": "2022-04-12T18:58:49.504Z"
   },
   {
    "duration": 4,
    "start_time": "2022-04-12T18:58:49.550Z"
   },
   {
    "duration": 6,
    "start_time": "2022-04-12T18:58:49.556Z"
   },
   {
    "duration": 9,
    "start_time": "2022-04-12T19:11:48.687Z"
   },
   {
    "duration": 9,
    "start_time": "2022-04-12T19:11:49.437Z"
   },
   {
    "duration": 825,
    "start_time": "2022-04-12T19:24:45.942Z"
   },
   {
    "duration": 381,
    "start_time": "2022-04-12T19:24:46.769Z"
   },
   {
    "duration": 15,
    "start_time": "2022-04-12T19:24:47.152Z"
   },
   {
    "duration": 29,
    "start_time": "2022-04-12T19:24:47.170Z"
   },
   {
    "duration": 24,
    "start_time": "2022-04-12T19:24:47.201Z"
   },
   {
    "duration": 9,
    "start_time": "2022-04-12T19:24:47.248Z"
   },
   {
    "duration": 29,
    "start_time": "2022-04-12T19:24:47.259Z"
   },
   {
    "duration": 22,
    "start_time": "2022-04-12T19:24:47.290Z"
   },
   {
    "duration": 34,
    "start_time": "2022-04-12T19:24:47.314Z"
   },
   {
    "duration": 13,
    "start_time": "2022-04-12T19:24:47.352Z"
   },
   {
    "duration": 19,
    "start_time": "2022-04-12T19:24:47.367Z"
   },
   {
    "duration": 9,
    "start_time": "2022-04-12T19:24:47.387Z"
   },
   {
    "duration": 10,
    "start_time": "2022-04-12T19:24:47.398Z"
   },
   {
    "duration": 9,
    "start_time": "2022-04-12T19:24:47.448Z"
   },
   {
    "duration": 14,
    "start_time": "2022-04-12T19:24:47.460Z"
   },
   {
    "duration": 11,
    "start_time": "2022-04-12T19:24:47.475Z"
   },
   {
    "duration": 104,
    "start_time": "2022-04-12T19:24:47.487Z"
   },
   {
    "duration": 10,
    "start_time": "2022-04-12T19:24:47.593Z"
   },
   {
    "duration": 11,
    "start_time": "2022-04-12T19:24:47.605Z"
   },
   {
    "duration": 92,
    "start_time": "2022-04-12T19:24:47.618Z"
   },
   {
    "duration": 8,
    "start_time": "2022-04-12T19:24:47.712Z"
   },
   {
    "duration": 33,
    "start_time": "2022-04-12T19:24:47.722Z"
   },
   {
    "duration": 17,
    "start_time": "2022-04-12T19:24:47.757Z"
   },
   {
    "duration": 16,
    "start_time": "2022-04-12T19:24:47.776Z"
   },
   {
    "duration": 11,
    "start_time": "2022-04-12T19:24:47.793Z"
   },
   {
    "duration": 62,
    "start_time": "2022-04-12T19:24:47.806Z"
   },
   {
    "duration": 78,
    "start_time": "2022-04-12T19:24:47.870Z"
   },
   {
    "duration": 18,
    "start_time": "2022-04-12T19:24:47.953Z"
   },
   {
    "duration": 34,
    "start_time": "2022-04-12T19:24:47.973Z"
   },
   {
    "duration": 46,
    "start_time": "2022-04-12T19:24:48.008Z"
   },
   {
    "duration": 28,
    "start_time": "2022-04-12T19:24:48.055Z"
   },
   {
    "duration": 10,
    "start_time": "2022-04-12T19:24:48.085Z"
   },
   {
    "duration": 28,
    "start_time": "2022-04-12T19:24:48.096Z"
   },
   {
    "duration": 13,
    "start_time": "2022-04-12T19:24:48.148Z"
   },
   {
    "duration": 16,
    "start_time": "2022-04-12T19:24:48.162Z"
   },
   {
    "duration": 19,
    "start_time": "2022-04-12T19:24:48.181Z"
   },
   {
    "duration": 46,
    "start_time": "2022-04-12T19:24:48.201Z"
   },
   {
    "duration": 14,
    "start_time": "2022-04-12T19:24:48.249Z"
   },
   {
    "duration": 15,
    "start_time": "2022-04-12T19:24:48.264Z"
   },
   {
    "duration": 11,
    "start_time": "2022-04-12T19:24:48.280Z"
   },
   {
    "duration": 6,
    "start_time": "2022-04-12T19:24:48.293Z"
   },
   {
    "duration": 442,
    "start_time": "2022-04-12T19:24:48.301Z"
   },
   {
    "duration": 160,
    "start_time": "2022-04-12T19:24:48.746Z"
   },
   {
    "duration": 9,
    "start_time": "2022-04-12T19:24:48.908Z"
   },
   {
    "duration": 8,
    "start_time": "2022-04-12T19:24:48.919Z"
   },
   {
    "duration": 150,
    "start_time": "2022-04-12T19:24:48.929Z"
   },
   {
    "duration": 135,
    "start_time": "2022-04-12T19:24:49.081Z"
   },
   {
    "duration": 8,
    "start_time": "2022-04-12T19:24:49.218Z"
   },
   {
    "duration": 5,
    "start_time": "2022-04-12T19:24:49.228Z"
   },
   {
    "duration": 138,
    "start_time": "2022-04-12T19:24:49.248Z"
   },
   {
    "duration": 9,
    "start_time": "2022-04-12T19:24:49.388Z"
   },
   {
    "duration": 7,
    "start_time": "2022-04-12T19:24:49.398Z"
   },
   {
    "duration": 181,
    "start_time": "2022-04-12T19:24:49.406Z"
   },
   {
    "duration": 8,
    "start_time": "2022-04-12T19:24:49.589Z"
   },
   {
    "duration": 9,
    "start_time": "2022-04-12T19:24:49.599Z"
   },
   {
    "duration": 257,
    "start_time": "2022-04-12T19:24:49.609Z"
   },
   {
    "duration": 163,
    "start_time": "2022-04-12T19:24:49.868Z"
   },
   {
    "duration": 18,
    "start_time": "2022-04-12T19:24:50.032Z"
   },
   {
    "duration": 7,
    "start_time": "2022-04-12T19:24:50.052Z"
   },
   {
    "duration": 136,
    "start_time": "2022-04-12T19:24:50.061Z"
   },
   {
    "duration": 33,
    "start_time": "2022-04-12T19:24:50.199Z"
   },
   {
    "duration": 9,
    "start_time": "2022-04-12T19:24:50.247Z"
   },
   {
    "duration": 9,
    "start_time": "2022-04-12T19:24:50.258Z"
   },
   {
    "duration": 3,
    "start_time": "2022-04-12T19:24:50.269Z"
   },
   {
    "duration": 11,
    "start_time": "2022-04-12T19:24:50.273Z"
   },
   {
    "duration": 4,
    "start_time": "2022-04-12T19:24:50.286Z"
   },
   {
    "duration": 9,
    "start_time": "2022-04-12T19:24:50.292Z"
   },
   {
    "duration": 8,
    "start_time": "2022-04-12T19:24:50.303Z"
   },
   {
    "duration": 6,
    "start_time": "2022-04-12T19:24:50.348Z"
   },
   {
    "duration": 5,
    "start_time": "2022-04-12T19:24:50.355Z"
   },
   {
    "duration": 5,
    "start_time": "2022-04-12T19:24:50.362Z"
   },
   {
    "duration": 8,
    "start_time": "2022-04-12T19:24:50.369Z"
   },
   {
    "duration": 11,
    "start_time": "2022-04-12T19:24:50.378Z"
   },
   {
    "duration": 8,
    "start_time": "2022-04-12T19:24:50.391Z"
   },
   {
    "duration": 9,
    "start_time": "2022-04-12T19:24:50.400Z"
   },
   {
    "duration": 41,
    "start_time": "2022-04-12T19:24:50.411Z"
   },
   {
    "duration": 814,
    "start_time": "2022-04-12T19:25:29.095Z"
   },
   {
    "duration": 387,
    "start_time": "2022-04-12T19:25:29.911Z"
   },
   {
    "duration": 17,
    "start_time": "2022-04-12T19:25:30.300Z"
   },
   {
    "duration": 42,
    "start_time": "2022-04-12T19:25:30.319Z"
   },
   {
    "duration": 40,
    "start_time": "2022-04-12T19:25:30.364Z"
   },
   {
    "duration": 11,
    "start_time": "2022-04-12T19:25:30.406Z"
   },
   {
    "duration": 55,
    "start_time": "2022-04-12T19:25:30.418Z"
   },
   {
    "duration": 21,
    "start_time": "2022-04-12T19:25:30.474Z"
   },
   {
    "duration": 8,
    "start_time": "2022-04-12T19:25:30.496Z"
   },
   {
    "duration": 18,
    "start_time": "2022-04-12T19:25:30.506Z"
   },
   {
    "duration": 38,
    "start_time": "2022-04-12T19:25:30.526Z"
   },
   {
    "duration": 13,
    "start_time": "2022-04-12T19:25:30.566Z"
   },
   {
    "duration": 21,
    "start_time": "2022-04-12T19:25:30.580Z"
   },
   {
    "duration": 15,
    "start_time": "2022-04-12T19:25:30.604Z"
   },
   {
    "duration": 26,
    "start_time": "2022-04-12T19:25:30.621Z"
   },
   {
    "duration": 12,
    "start_time": "2022-04-12T19:25:30.649Z"
   },
   {
    "duration": 90,
    "start_time": "2022-04-12T19:25:30.662Z"
   },
   {
    "duration": 10,
    "start_time": "2022-04-12T19:25:30.754Z"
   },
   {
    "duration": 11,
    "start_time": "2022-04-12T19:25:30.766Z"
   },
   {
    "duration": 91,
    "start_time": "2022-04-12T19:25:30.779Z"
   },
   {
    "duration": 8,
    "start_time": "2022-04-12T19:25:30.871Z"
   },
   {
    "duration": 21,
    "start_time": "2022-04-12T19:25:30.881Z"
   },
   {
    "duration": 16,
    "start_time": "2022-04-12T19:25:30.903Z"
   },
   {
    "duration": 35,
    "start_time": "2022-04-12T19:25:30.921Z"
   },
   {
    "duration": 12,
    "start_time": "2022-04-12T19:25:30.958Z"
   },
   {
    "duration": 32,
    "start_time": "2022-04-12T19:25:30.971Z"
   },
   {
    "duration": 90,
    "start_time": "2022-04-12T19:25:31.005Z"
   },
   {
    "duration": 20,
    "start_time": "2022-04-12T19:25:31.096Z"
   },
   {
    "duration": 52,
    "start_time": "2022-04-12T19:25:31.118Z"
   },
   {
    "duration": 22,
    "start_time": "2022-04-12T19:25:31.172Z"
   },
   {
    "duration": 53,
    "start_time": "2022-04-12T19:25:31.196Z"
   },
   {
    "duration": 14,
    "start_time": "2022-04-12T19:25:31.251Z"
   },
   {
    "duration": 42,
    "start_time": "2022-04-12T19:25:31.267Z"
   },
   {
    "duration": 37,
    "start_time": "2022-04-12T19:25:31.311Z"
   },
   {
    "duration": 15,
    "start_time": "2022-04-12T19:25:31.350Z"
   },
   {
    "duration": 18,
    "start_time": "2022-04-12T19:25:31.367Z"
   },
   {
    "duration": 18,
    "start_time": "2022-04-12T19:25:31.387Z"
   },
   {
    "duration": 44,
    "start_time": "2022-04-12T19:25:31.407Z"
   },
   {
    "duration": 17,
    "start_time": "2022-04-12T19:25:31.452Z"
   },
   {
    "duration": 10,
    "start_time": "2022-04-12T19:25:31.471Z"
   },
   {
    "duration": 7,
    "start_time": "2022-04-12T19:25:31.487Z"
   },
   {
    "duration": 461,
    "start_time": "2022-04-12T19:25:31.496Z"
   },
   {
    "duration": 166,
    "start_time": "2022-04-12T19:25:31.960Z"
   },
   {
    "duration": 20,
    "start_time": "2022-04-12T19:25:32.128Z"
   },
   {
    "duration": 7,
    "start_time": "2022-04-12T19:25:32.150Z"
   },
   {
    "duration": 145,
    "start_time": "2022-04-12T19:25:32.159Z"
   },
   {
    "duration": 122,
    "start_time": "2022-04-12T19:25:32.306Z"
   },
   {
    "duration": 20,
    "start_time": "2022-04-12T19:25:32.429Z"
   },
   {
    "duration": 9,
    "start_time": "2022-04-12T19:25:32.451Z"
   },
   {
    "duration": 142,
    "start_time": "2022-04-12T19:25:32.462Z"
   },
   {
    "duration": 10,
    "start_time": "2022-04-12T19:25:32.606Z"
   },
   {
    "duration": 5,
    "start_time": "2022-04-12T19:25:32.618Z"
   },
   {
    "duration": 174,
    "start_time": "2022-04-12T19:25:32.625Z"
   },
   {
    "duration": 9,
    "start_time": "2022-04-12T19:25:32.800Z"
   },
   {
    "duration": 7,
    "start_time": "2022-04-12T19:25:32.811Z"
   },
   {
    "duration": 258,
    "start_time": "2022-04-12T19:25:32.820Z"
   },
   {
    "duration": 159,
    "start_time": "2022-04-12T19:25:33.081Z"
   },
   {
    "duration": 8,
    "start_time": "2022-04-12T19:25:33.247Z"
   },
   {
    "duration": 5,
    "start_time": "2022-04-12T19:25:33.257Z"
   },
   {
    "duration": 141,
    "start_time": "2022-04-12T19:25:33.264Z"
   },
   {
    "duration": 42,
    "start_time": "2022-04-12T19:25:33.406Z"
   },
   {
    "duration": 9,
    "start_time": "2022-04-12T19:25:33.450Z"
   },
   {
    "duration": 9,
    "start_time": "2022-04-12T19:25:33.460Z"
   },
   {
    "duration": 2,
    "start_time": "2022-04-12T19:25:33.471Z"
   },
   {
    "duration": 7,
    "start_time": "2022-04-12T19:25:33.474Z"
   },
   {
    "duration": 3,
    "start_time": "2022-04-12T19:25:33.483Z"
   },
   {
    "duration": 9,
    "start_time": "2022-04-12T19:25:33.488Z"
   },
   {
    "duration": 49,
    "start_time": "2022-04-12T19:25:33.499Z"
   },
   {
    "duration": 6,
    "start_time": "2022-04-12T19:25:33.550Z"
   },
   {
    "duration": 6,
    "start_time": "2022-04-12T19:25:33.558Z"
   },
   {
    "duration": 3,
    "start_time": "2022-04-12T19:25:33.566Z"
   },
   {
    "duration": 6,
    "start_time": "2022-04-12T19:25:33.570Z"
   },
   {
    "duration": 4,
    "start_time": "2022-04-12T19:25:33.578Z"
   },
   {
    "duration": 8,
    "start_time": "2022-04-12T19:25:33.583Z"
   },
   {
    "duration": 11,
    "start_time": "2022-04-12T19:25:33.593Z"
   },
   {
    "duration": 14,
    "start_time": "2022-04-12T19:25:33.605Z"
   },
   {
    "duration": 862,
    "start_time": "2022-04-12T19:27:11.220Z"
   },
   {
    "duration": 393,
    "start_time": "2022-04-12T19:27:12.084Z"
   },
   {
    "duration": 16,
    "start_time": "2022-04-12T19:27:12.479Z"
   },
   {
    "duration": 31,
    "start_time": "2022-04-12T19:27:12.497Z"
   },
   {
    "duration": 35,
    "start_time": "2022-04-12T19:27:12.530Z"
   },
   {
    "duration": 10,
    "start_time": "2022-04-12T19:27:12.566Z"
   },
   {
    "duration": 31,
    "start_time": "2022-04-12T19:27:12.578Z"
   },
   {
    "duration": 43,
    "start_time": "2022-04-12T19:27:12.611Z"
   },
   {
    "duration": 8,
    "start_time": "2022-04-12T19:27:12.655Z"
   },
   {
    "duration": 14,
    "start_time": "2022-04-12T19:27:12.666Z"
   },
   {
    "duration": 20,
    "start_time": "2022-04-12T19:27:12.681Z"
   },
   {
    "duration": 9,
    "start_time": "2022-04-12T19:27:12.703Z"
   },
   {
    "duration": 11,
    "start_time": "2022-04-12T19:27:12.748Z"
   },
   {
    "duration": 13,
    "start_time": "2022-04-12T19:27:12.761Z"
   },
   {
    "duration": 15,
    "start_time": "2022-04-12T19:27:12.778Z"
   },
   {
    "duration": 11,
    "start_time": "2022-04-12T19:27:12.795Z"
   },
   {
    "duration": 118,
    "start_time": "2022-04-12T19:27:12.808Z"
   },
   {
    "duration": 23,
    "start_time": "2022-04-12T19:27:12.928Z"
   },
   {
    "duration": 12,
    "start_time": "2022-04-12T19:27:12.953Z"
   },
   {
    "duration": 155,
    "start_time": "2022-04-12T19:27:12.967Z"
   },
   {
    "duration": 11,
    "start_time": "2022-04-12T19:27:13.124Z"
   },
   {
    "duration": 21,
    "start_time": "2022-04-12T19:27:13.148Z"
   },
   {
    "duration": 19,
    "start_time": "2022-04-12T19:27:13.171Z"
   },
   {
    "duration": 17,
    "start_time": "2022-04-12T19:27:13.191Z"
   },
   {
    "duration": 44,
    "start_time": "2022-04-12T19:27:13.210Z"
   },
   {
    "duration": 31,
    "start_time": "2022-04-12T19:27:13.256Z"
   },
   {
    "duration": 84,
    "start_time": "2022-04-12T19:27:13.289Z"
   },
   {
    "duration": 21,
    "start_time": "2022-04-12T19:27:13.377Z"
   },
   {
    "duration": 57,
    "start_time": "2022-04-12T19:27:13.401Z"
   },
   {
    "duration": 25,
    "start_time": "2022-04-12T19:27:13.460Z"
   },
   {
    "duration": 30,
    "start_time": "2022-04-12T19:27:13.487Z"
   },
   {
    "duration": 37,
    "start_time": "2022-04-12T19:27:13.519Z"
   },
   {
    "duration": 30,
    "start_time": "2022-04-12T19:27:13.558Z"
   },
   {
    "duration": 14,
    "start_time": "2022-04-12T19:27:13.590Z"
   },
   {
    "duration": 44,
    "start_time": "2022-04-12T19:27:13.605Z"
   },
   {
    "duration": 22,
    "start_time": "2022-04-12T19:27:13.651Z"
   },
   {
    "duration": 20,
    "start_time": "2022-04-12T19:27:13.675Z"
   },
   {
    "duration": 17,
    "start_time": "2022-04-12T19:27:13.698Z"
   },
   {
    "duration": 21,
    "start_time": "2022-04-12T19:27:13.747Z"
   },
   {
    "duration": 11,
    "start_time": "2022-04-12T19:27:13.771Z"
   },
   {
    "duration": 7,
    "start_time": "2022-04-12T19:27:13.783Z"
   },
   {
    "duration": 655,
    "start_time": "2022-04-12T19:27:13.792Z"
   },
   {
    "duration": 247,
    "start_time": "2022-04-12T19:27:14.449Z"
   },
   {
    "duration": 13,
    "start_time": "2022-04-12T19:27:14.698Z"
   },
   {
    "duration": 7,
    "start_time": "2022-04-12T19:27:14.713Z"
   },
   {
    "duration": 157,
    "start_time": "2022-04-12T19:27:14.722Z"
   },
   {
    "duration": 147,
    "start_time": "2022-04-12T19:27:14.881Z"
   },
   {
    "duration": 18,
    "start_time": "2022-04-12T19:27:15.030Z"
   },
   {
    "duration": 9,
    "start_time": "2022-04-12T19:27:15.050Z"
   },
   {
    "duration": 148,
    "start_time": "2022-04-12T19:27:15.062Z"
   },
   {
    "duration": 11,
    "start_time": "2022-04-12T19:27:15.212Z"
   },
   {
    "duration": 7,
    "start_time": "2022-04-12T19:27:15.224Z"
   },
   {
    "duration": 266,
    "start_time": "2022-04-12T19:27:15.248Z"
   },
   {
    "duration": 14,
    "start_time": "2022-04-12T19:27:15.516Z"
   },
   {
    "duration": 20,
    "start_time": "2022-04-12T19:27:15.531Z"
   },
   {
    "duration": 254,
    "start_time": "2022-04-12T19:27:15.553Z"
   },
   {
    "duration": 258,
    "start_time": "2022-04-12T19:27:15.809Z"
   },
   {
    "duration": 12,
    "start_time": "2022-04-12T19:27:16.070Z"
   },
   {
    "duration": 8,
    "start_time": "2022-04-12T19:27:16.084Z"
   },
   {
    "duration": 160,
    "start_time": "2022-04-12T19:27:16.093Z"
   },
   {
    "duration": 35,
    "start_time": "2022-04-12T19:27:16.255Z"
   },
   {
    "duration": 9,
    "start_time": "2022-04-12T19:27:16.292Z"
   },
   {
    "duration": 12,
    "start_time": "2022-04-12T19:27:16.303Z"
   },
   {
    "duration": 32,
    "start_time": "2022-04-12T19:27:16.317Z"
   },
   {
    "duration": 12,
    "start_time": "2022-04-12T19:27:16.351Z"
   },
   {
    "duration": 5,
    "start_time": "2022-04-12T19:27:16.365Z"
   },
   {
    "duration": 11,
    "start_time": "2022-04-12T19:27:16.372Z"
   },
   {
    "duration": 10,
    "start_time": "2022-04-12T19:27:16.385Z"
   },
   {
    "duration": 6,
    "start_time": "2022-04-12T19:27:16.397Z"
   },
   {
    "duration": 5,
    "start_time": "2022-04-12T19:27:16.405Z"
   },
   {
    "duration": 3,
    "start_time": "2022-04-12T19:27:16.448Z"
   },
   {
    "duration": 5,
    "start_time": "2022-04-12T19:27:16.453Z"
   },
   {
    "duration": 6,
    "start_time": "2022-04-12T19:27:16.460Z"
   },
   {
    "duration": 7,
    "start_time": "2022-04-12T19:27:16.468Z"
   },
   {
    "duration": 10,
    "start_time": "2022-04-12T19:27:16.476Z"
   },
   {
    "duration": 9,
    "start_time": "2022-04-12T19:27:16.487Z"
   }
  ],
  "kernelspec": {
   "display_name": "Python 3 (ipykernel)",
   "language": "python",
   "name": "python3"
  },
  "language_info": {
   "codemirror_mode": {
    "name": "ipython",
    "version": 3
   },
   "file_extension": ".py",
   "mimetype": "text/x-python",
   "name": "python",
   "nbconvert_exporter": "python",
   "pygments_lexer": "ipython3",
   "version": "3.9.10"
  },
  "toc": {
   "base_numbering": 1,
   "nav_menu": {
    "height": "246.753px",
    "width": "288.767px"
   },
   "number_sections": false,
   "sideBar": true,
   "skip_h1_title": false,
   "title_cell": "Содержание",
   "title_sidebar": "Contents",
   "toc_cell": true,
   "toc_position": {
    "height": "calc(100% - 180px)",
    "left": "10px",
    "top": "150px",
    "width": "304.872px"
   },
   "toc_section_display": true,
   "toc_window_display": false
  }
 },
 "nbformat": 4,
 "nbformat_minor": 2
}
