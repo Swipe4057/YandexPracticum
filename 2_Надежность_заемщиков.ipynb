{
 "cells": [
  {
   "cell_type": "markdown",
   "id": "cfb0c253",
   "metadata": {},
   "source": [
    "# Исследование надежности заемщиков."
   ]
  },
  {
   "cell_type": "markdown",
   "id": "6bbfbe5a",
   "metadata": {},
   "source": [
    "### Шаг 1. Обзор данных\n",
    "\n",
    "Составим первое представление о данных."
   ]
  },
  {
   "cell_type": "code",
   "execution_count": 1,
   "id": "82003874",
   "metadata": {
    "scrolled": false
   },
   "outputs": [
    {
     "data": {
      "text/html": [
       "<div>\n",
       "<style scoped>\n",
       "    .dataframe tbody tr th:only-of-type {\n",
       "        vertical-align: middle;\n",
       "    }\n",
       "\n",
       "    .dataframe tbody tr th {\n",
       "        vertical-align: top;\n",
       "    }\n",
       "\n",
       "    .dataframe thead th {\n",
       "        text-align: right;\n",
       "    }\n",
       "</style>\n",
       "<table border=\"1\" class=\"dataframe\">\n",
       "  <thead>\n",
       "    <tr style=\"text-align: right;\">\n",
       "      <th></th>\n",
       "      <th>children</th>\n",
       "      <th>days_employed</th>\n",
       "      <th>dob_years</th>\n",
       "      <th>education</th>\n",
       "      <th>education_id</th>\n",
       "      <th>family_status</th>\n",
       "      <th>family_status_id</th>\n",
       "      <th>gender</th>\n",
       "      <th>income_type</th>\n",
       "      <th>debt</th>\n",
       "      <th>total_income</th>\n",
       "      <th>purpose</th>\n",
       "    </tr>\n",
       "  </thead>\n",
       "  <tbody>\n",
       "    <tr>\n",
       "      <td>0</td>\n",
       "      <td>1</td>\n",
       "      <td>-8437.673028</td>\n",
       "      <td>42</td>\n",
       "      <td>высшее</td>\n",
       "      <td>0</td>\n",
       "      <td>женат / замужем</td>\n",
       "      <td>0</td>\n",
       "      <td>F</td>\n",
       "      <td>сотрудник</td>\n",
       "      <td>0</td>\n",
       "      <td>253875.639453</td>\n",
       "      <td>покупка жилья</td>\n",
       "    </tr>\n",
       "    <tr>\n",
       "      <td>1</td>\n",
       "      <td>1</td>\n",
       "      <td>-4024.803754</td>\n",
       "      <td>36</td>\n",
       "      <td>среднее</td>\n",
       "      <td>1</td>\n",
       "      <td>женат / замужем</td>\n",
       "      <td>0</td>\n",
       "      <td>F</td>\n",
       "      <td>сотрудник</td>\n",
       "      <td>0</td>\n",
       "      <td>112080.014102</td>\n",
       "      <td>приобретение автомобиля</td>\n",
       "    </tr>\n",
       "    <tr>\n",
       "      <td>2</td>\n",
       "      <td>0</td>\n",
       "      <td>-5623.422610</td>\n",
       "      <td>33</td>\n",
       "      <td>Среднее</td>\n",
       "      <td>1</td>\n",
       "      <td>женат / замужем</td>\n",
       "      <td>0</td>\n",
       "      <td>M</td>\n",
       "      <td>сотрудник</td>\n",
       "      <td>0</td>\n",
       "      <td>145885.952297</td>\n",
       "      <td>покупка жилья</td>\n",
       "    </tr>\n",
       "    <tr>\n",
       "      <td>3</td>\n",
       "      <td>3</td>\n",
       "      <td>-4124.747207</td>\n",
       "      <td>32</td>\n",
       "      <td>среднее</td>\n",
       "      <td>1</td>\n",
       "      <td>женат / замужем</td>\n",
       "      <td>0</td>\n",
       "      <td>M</td>\n",
       "      <td>сотрудник</td>\n",
       "      <td>0</td>\n",
       "      <td>267628.550329</td>\n",
       "      <td>дополнительное образование</td>\n",
       "    </tr>\n",
       "    <tr>\n",
       "      <td>4</td>\n",
       "      <td>0</td>\n",
       "      <td>340266.072047</td>\n",
       "      <td>53</td>\n",
       "      <td>среднее</td>\n",
       "      <td>1</td>\n",
       "      <td>гражданский брак</td>\n",
       "      <td>1</td>\n",
       "      <td>F</td>\n",
       "      <td>пенсионер</td>\n",
       "      <td>0</td>\n",
       "      <td>158616.077870</td>\n",
       "      <td>сыграть свадьбу</td>\n",
       "    </tr>\n",
       "    <tr>\n",
       "      <td>5</td>\n",
       "      <td>0</td>\n",
       "      <td>-926.185831</td>\n",
       "      <td>27</td>\n",
       "      <td>высшее</td>\n",
       "      <td>0</td>\n",
       "      <td>гражданский брак</td>\n",
       "      <td>1</td>\n",
       "      <td>M</td>\n",
       "      <td>компаньон</td>\n",
       "      <td>0</td>\n",
       "      <td>255763.565419</td>\n",
       "      <td>покупка жилья</td>\n",
       "    </tr>\n",
       "    <tr>\n",
       "      <td>6</td>\n",
       "      <td>0</td>\n",
       "      <td>-2879.202052</td>\n",
       "      <td>43</td>\n",
       "      <td>высшее</td>\n",
       "      <td>0</td>\n",
       "      <td>женат / замужем</td>\n",
       "      <td>0</td>\n",
       "      <td>F</td>\n",
       "      <td>компаньон</td>\n",
       "      <td>0</td>\n",
       "      <td>240525.971920</td>\n",
       "      <td>операции с жильем</td>\n",
       "    </tr>\n",
       "    <tr>\n",
       "      <td>7</td>\n",
       "      <td>0</td>\n",
       "      <td>-152.779569</td>\n",
       "      <td>50</td>\n",
       "      <td>СРЕДНЕЕ</td>\n",
       "      <td>1</td>\n",
       "      <td>женат / замужем</td>\n",
       "      <td>0</td>\n",
       "      <td>M</td>\n",
       "      <td>сотрудник</td>\n",
       "      <td>0</td>\n",
       "      <td>135823.934197</td>\n",
       "      <td>образование</td>\n",
       "    </tr>\n",
       "    <tr>\n",
       "      <td>8</td>\n",
       "      <td>2</td>\n",
       "      <td>-6929.865299</td>\n",
       "      <td>35</td>\n",
       "      <td>ВЫСШЕЕ</td>\n",
       "      <td>0</td>\n",
       "      <td>гражданский брак</td>\n",
       "      <td>1</td>\n",
       "      <td>F</td>\n",
       "      <td>сотрудник</td>\n",
       "      <td>0</td>\n",
       "      <td>95856.832424</td>\n",
       "      <td>на проведение свадьбы</td>\n",
       "    </tr>\n",
       "    <tr>\n",
       "      <td>9</td>\n",
       "      <td>0</td>\n",
       "      <td>-2188.756445</td>\n",
       "      <td>41</td>\n",
       "      <td>среднее</td>\n",
       "      <td>1</td>\n",
       "      <td>женат / замужем</td>\n",
       "      <td>0</td>\n",
       "      <td>M</td>\n",
       "      <td>сотрудник</td>\n",
       "      <td>0</td>\n",
       "      <td>144425.938277</td>\n",
       "      <td>покупка жилья для семьи</td>\n",
       "    </tr>\n",
       "  </tbody>\n",
       "</table>\n",
       "</div>"
      ],
      "text/plain": [
       "   children  days_employed  dob_years education  education_id  \\\n",
       "0         1   -8437.673028         42    высшее             0   \n",
       "1         1   -4024.803754         36   среднее             1   \n",
       "2         0   -5623.422610         33   Среднее             1   \n",
       "3         3   -4124.747207         32   среднее             1   \n",
       "4         0  340266.072047         53   среднее             1   \n",
       "5         0    -926.185831         27    высшее             0   \n",
       "6         0   -2879.202052         43    высшее             0   \n",
       "7         0    -152.779569         50   СРЕДНЕЕ             1   \n",
       "8         2   -6929.865299         35    ВЫСШЕЕ             0   \n",
       "9         0   -2188.756445         41   среднее             1   \n",
       "\n",
       "      family_status  family_status_id gender income_type  debt   total_income  \\\n",
       "0   женат / замужем                 0      F   сотрудник     0  253875.639453   \n",
       "1   женат / замужем                 0      F   сотрудник     0  112080.014102   \n",
       "2   женат / замужем                 0      M   сотрудник     0  145885.952297   \n",
       "3   женат / замужем                 0      M   сотрудник     0  267628.550329   \n",
       "4  гражданский брак                 1      F   пенсионер     0  158616.077870   \n",
       "5  гражданский брак                 1      M   компаньон     0  255763.565419   \n",
       "6   женат / замужем                 0      F   компаньон     0  240525.971920   \n",
       "7   женат / замужем                 0      M   сотрудник     0  135823.934197   \n",
       "8  гражданский брак                 1      F   сотрудник     0   95856.832424   \n",
       "9   женат / замужем                 0      M   сотрудник     0  144425.938277   \n",
       "\n",
       "                      purpose  \n",
       "0               покупка жилья  \n",
       "1     приобретение автомобиля  \n",
       "2               покупка жилья  \n",
       "3  дополнительное образование  \n",
       "4             сыграть свадьбу  \n",
       "5               покупка жилья  \n",
       "6           операции с жильем  \n",
       "7                 образование  \n",
       "8       на проведение свадьбы  \n",
       "9     покупка жилья для семьи  "
      ]
     },
     "execution_count": 1,
     "metadata": {},
     "output_type": "execute_result"
    }
   ],
   "source": [
    "import pandas as pd\n",
    "df = pd.read_csv(\"/datasets/data.csv\")\n",
    "df.head(10)"
   ]
  },
  {
   "cell_type": "code",
   "execution_count": 2,
   "id": "b848ffe1",
   "metadata": {},
   "outputs": [
    {
     "name": "stdout",
     "output_type": "stream",
     "text": [
      "<class 'pandas.core.frame.DataFrame'>\n",
      "RangeIndex: 21525 entries, 0 to 21524\n",
      "Data columns (total 12 columns):\n",
      "children            21525 non-null int64\n",
      "days_employed       19351 non-null float64\n",
      "dob_years           21525 non-null int64\n",
      "education           21525 non-null object\n",
      "education_id        21525 non-null int64\n",
      "family_status       21525 non-null object\n",
      "family_status_id    21525 non-null int64\n",
      "gender              21525 non-null object\n",
      "income_type         21525 non-null object\n",
      "debt                21525 non-null int64\n",
      "total_income        19351 non-null float64\n",
      "purpose             21525 non-null object\n",
      "dtypes: float64(2), int64(5), object(5)\n",
      "memory usage: 2.0+ MB\n"
     ]
    }
   ],
   "source": [
    "df.info()"
   ]
  },
  {
   "cell_type": "markdown",
   "id": "3335af74",
   "metadata": {},
   "source": [
    "### Шаг 2.1 Заполнение пропусков\n",
    "\n",
    "В результате просмотра информации о таблице было выявлено два столбца с пропущенными значениями:\n",
    "* `days_employed` — общий трудовой стаж в днях;\n",
    "* `total_income` — ежемесячный доход.\n",
    "\n",
    "Возможной причиной пропуска в данных об общем трудовом стаже может являться утеря трудовой книжки заемщиком. А отсутствие информации о ежемесячном доходе может быть связано с неофициальным видом заработка и невозможностью предоставить справки о доходе.\n",
    "\n",
    "Ежемесячный доход является основополагающей информацией для оценки надежности заемщика, в связи с этим рекомендуется с таких заемщиков, по которым отсутствует данная информация, запрашивать официальные справки о доходе которые должны быть выданы работодателем.\n",
    "\n",
    "Оценим долю которую составляют пропущенные значения в каждом из столбцов с пропусками:"
   ]
  },
  {
   "cell_type": "code",
   "execution_count": 3,
   "id": "a953e3d4",
   "metadata": {},
   "outputs": [
    {
     "name": "stdout",
     "output_type": "stream",
     "text": [
      "Доля пропущенных значений в столбце \"days_employed\": 10.1%\n",
      "Доля пропущенных значений в столбце \"total_income\": 10.1%\n"
     ]
    }
   ],
   "source": [
    "share_of_omissions_days_employed = df['days_employed'].isna().mean()\n",
    "share_of_omissions_total_income = df['total_income'].isna().mean()\n",
    "print(f'Доля пропущенных значений в столбце \"days_employed\": {share_of_omissions_days_employed:.1%}')\n",
    "print(f'Доля пропущенных значений в столбце \"total_income\": {share_of_omissions_total_income:.1%}')"
   ]
  },
  {
   "cell_type": "markdown",
   "id": "2e28d6bb",
   "metadata": {},
   "source": [
    "Доля пропущенных значений не велика и составляет 10.1% от всех данных. Заполнить данные пропуски лучше медианным значением, так как значения количественные, на среднее значение будет сильно влиять максимальные и минимальные значения, и оно может не отражать реальной картины для большинства данных. Медианное же значение делит численные данные \"пополам\", и ровно половина всех значений будет меньше медианного, а другая половина больше медианного значения."
   ]
  },
  {
   "cell_type": "markdown",
   "id": "0a9a2f5a",
   "metadata": {},
   "source": [
    "### Шаг 2.2 Проверка данных на аномалии и исправления."
   ]
  },
  {
   "cell_type": "markdown",
   "id": "8dfa80cd",
   "metadata": {},
   "source": [
    "Значения общего трудового стажа отрицательное, в реальной жизни это невозможно, и данные необходимо исправить. Сделаем данные положительными:"
   ]
  },
  {
   "cell_type": "code",
   "execution_count": 4,
   "id": "0a1359c0",
   "metadata": {
    "scrolled": false
   },
   "outputs": [
    {
     "data": {
      "text/html": [
       "<div>\n",
       "<style scoped>\n",
       "    .dataframe tbody tr th:only-of-type {\n",
       "        vertical-align: middle;\n",
       "    }\n",
       "\n",
       "    .dataframe tbody tr th {\n",
       "        vertical-align: top;\n",
       "    }\n",
       "\n",
       "    .dataframe thead th {\n",
       "        text-align: right;\n",
       "    }\n",
       "</style>\n",
       "<table border=\"1\" class=\"dataframe\">\n",
       "  <thead>\n",
       "    <tr style=\"text-align: right;\">\n",
       "      <th></th>\n",
       "      <th>children</th>\n",
       "      <th>days_employed</th>\n",
       "      <th>dob_years</th>\n",
       "      <th>education</th>\n",
       "      <th>education_id</th>\n",
       "      <th>family_status</th>\n",
       "      <th>family_status_id</th>\n",
       "      <th>gender</th>\n",
       "      <th>income_type</th>\n",
       "      <th>debt</th>\n",
       "      <th>total_income</th>\n",
       "      <th>purpose</th>\n",
       "    </tr>\n",
       "  </thead>\n",
       "  <tbody>\n",
       "    <tr>\n",
       "      <td>0</td>\n",
       "      <td>1</td>\n",
       "      <td>8437.673028</td>\n",
       "      <td>42</td>\n",
       "      <td>высшее</td>\n",
       "      <td>0</td>\n",
       "      <td>женат / замужем</td>\n",
       "      <td>0</td>\n",
       "      <td>F</td>\n",
       "      <td>сотрудник</td>\n",
       "      <td>0</td>\n",
       "      <td>253875.639453</td>\n",
       "      <td>покупка жилья</td>\n",
       "    </tr>\n",
       "    <tr>\n",
       "      <td>1</td>\n",
       "      <td>1</td>\n",
       "      <td>4024.803754</td>\n",
       "      <td>36</td>\n",
       "      <td>среднее</td>\n",
       "      <td>1</td>\n",
       "      <td>женат / замужем</td>\n",
       "      <td>0</td>\n",
       "      <td>F</td>\n",
       "      <td>сотрудник</td>\n",
       "      <td>0</td>\n",
       "      <td>112080.014102</td>\n",
       "      <td>приобретение автомобиля</td>\n",
       "    </tr>\n",
       "    <tr>\n",
       "      <td>2</td>\n",
       "      <td>0</td>\n",
       "      <td>5623.422610</td>\n",
       "      <td>33</td>\n",
       "      <td>Среднее</td>\n",
       "      <td>1</td>\n",
       "      <td>женат / замужем</td>\n",
       "      <td>0</td>\n",
       "      <td>M</td>\n",
       "      <td>сотрудник</td>\n",
       "      <td>0</td>\n",
       "      <td>145885.952297</td>\n",
       "      <td>покупка жилья</td>\n",
       "    </tr>\n",
       "    <tr>\n",
       "      <td>3</td>\n",
       "      <td>3</td>\n",
       "      <td>4124.747207</td>\n",
       "      <td>32</td>\n",
       "      <td>среднее</td>\n",
       "      <td>1</td>\n",
       "      <td>женат / замужем</td>\n",
       "      <td>0</td>\n",
       "      <td>M</td>\n",
       "      <td>сотрудник</td>\n",
       "      <td>0</td>\n",
       "      <td>267628.550329</td>\n",
       "      <td>дополнительное образование</td>\n",
       "    </tr>\n",
       "    <tr>\n",
       "      <td>4</td>\n",
       "      <td>0</td>\n",
       "      <td>340266.072047</td>\n",
       "      <td>53</td>\n",
       "      <td>среднее</td>\n",
       "      <td>1</td>\n",
       "      <td>гражданский брак</td>\n",
       "      <td>1</td>\n",
       "      <td>F</td>\n",
       "      <td>пенсионер</td>\n",
       "      <td>0</td>\n",
       "      <td>158616.077870</td>\n",
       "      <td>сыграть свадьбу</td>\n",
       "    </tr>\n",
       "  </tbody>\n",
       "</table>\n",
       "</div>"
      ],
      "text/plain": [
       "   children  days_employed  dob_years education  education_id  \\\n",
       "0         1    8437.673028         42    высшее             0   \n",
       "1         1    4024.803754         36   среднее             1   \n",
       "2         0    5623.422610         33   Среднее             1   \n",
       "3         3    4124.747207         32   среднее             1   \n",
       "4         0  340266.072047         53   среднее             1   \n",
       "\n",
       "      family_status  family_status_id gender income_type  debt   total_income  \\\n",
       "0   женат / замужем                 0      F   сотрудник     0  253875.639453   \n",
       "1   женат / замужем                 0      F   сотрудник     0  112080.014102   \n",
       "2   женат / замужем                 0      M   сотрудник     0  145885.952297   \n",
       "3   женат / замужем                 0      M   сотрудник     0  267628.550329   \n",
       "4  гражданский брак                 1      F   пенсионер     0  158616.077870   \n",
       "\n",
       "                      purpose  \n",
       "0               покупка жилья  \n",
       "1     приобретение автомобиля  \n",
       "2               покупка жилья  \n",
       "3  дополнительное образование  \n",
       "4             сыграть свадьбу  "
      ]
     },
     "execution_count": 4,
     "metadata": {},
     "output_type": "execute_result"
    }
   ],
   "source": [
    "rows = df[\"days_employed\"] < 0\n",
    "df.loc[rows,\"days_employed\"] = df[\"days_employed\"]*(-1)\n",
    "df.head()"
   ]
  },
  {
   "cell_type": "code",
   "execution_count": 5,
   "id": "5719a970",
   "metadata": {},
   "outputs": [
    {
     "data": {
      "text/plain": [
       "count     19351.000000\n",
       "mean      66914.728907\n",
       "std      139030.880527\n",
       "min          24.141633\n",
       "25%         927.009265\n",
       "50%        2194.220567\n",
       "75%        5537.882441\n",
       "max      401755.400475\n",
       "Name: days_employed, dtype: float64"
      ]
     },
     "execution_count": 5,
     "metadata": {},
     "output_type": "execute_result"
    }
   ],
   "source": [
    "df[\"days_employed\"].describe()"
   ]
  },
  {
   "cell_type": "code",
   "execution_count": 6,
   "id": "ec5c820a",
   "metadata": {},
   "outputs": [
    {
     "data": {
      "text/html": [
       "<div>\n",
       "<style scoped>\n",
       "    .dataframe tbody tr th:only-of-type {\n",
       "        vertical-align: middle;\n",
       "    }\n",
       "\n",
       "    .dataframe tbody tr th {\n",
       "        vertical-align: top;\n",
       "    }\n",
       "\n",
       "    .dataframe thead th {\n",
       "        text-align: right;\n",
       "    }\n",
       "</style>\n",
       "<table border=\"1\" class=\"dataframe\">\n",
       "  <thead>\n",
       "    <tr style=\"text-align: right;\">\n",
       "      <th></th>\n",
       "      <th>children</th>\n",
       "      <th>days_employed</th>\n",
       "      <th>dob_years</th>\n",
       "      <th>education</th>\n",
       "      <th>education_id</th>\n",
       "      <th>family_status</th>\n",
       "      <th>family_status_id</th>\n",
       "      <th>gender</th>\n",
       "      <th>income_type</th>\n",
       "      <th>debt</th>\n",
       "      <th>total_income</th>\n",
       "      <th>purpose</th>\n",
       "    </tr>\n",
       "  </thead>\n",
       "  <tbody>\n",
       "    <tr>\n",
       "      <td>4</td>\n",
       "      <td>0</td>\n",
       "      <td>340266.072047</td>\n",
       "      <td>53</td>\n",
       "      <td>среднее</td>\n",
       "      <td>1</td>\n",
       "      <td>гражданский брак</td>\n",
       "      <td>1</td>\n",
       "      <td>F</td>\n",
       "      <td>пенсионер</td>\n",
       "      <td>0</td>\n",
       "      <td>158616.077870</td>\n",
       "      <td>сыграть свадьбу</td>\n",
       "    </tr>\n",
       "    <tr>\n",
       "      <td>18</td>\n",
       "      <td>0</td>\n",
       "      <td>400281.136913</td>\n",
       "      <td>53</td>\n",
       "      <td>среднее</td>\n",
       "      <td>1</td>\n",
       "      <td>вдовец / вдова</td>\n",
       "      <td>2</td>\n",
       "      <td>F</td>\n",
       "      <td>пенсионер</td>\n",
       "      <td>0</td>\n",
       "      <td>56823.777243</td>\n",
       "      <td>на покупку подержанного автомобиля</td>\n",
       "    </tr>\n",
       "    <tr>\n",
       "      <td>24</td>\n",
       "      <td>1</td>\n",
       "      <td>338551.952911</td>\n",
       "      <td>57</td>\n",
       "      <td>среднее</td>\n",
       "      <td>1</td>\n",
       "      <td>Не женат / не замужем</td>\n",
       "      <td>4</td>\n",
       "      <td>F</td>\n",
       "      <td>пенсионер</td>\n",
       "      <td>0</td>\n",
       "      <td>290547.235997</td>\n",
       "      <td>операции с коммерческой недвижимостью</td>\n",
       "    </tr>\n",
       "    <tr>\n",
       "      <td>25</td>\n",
       "      <td>0</td>\n",
       "      <td>363548.489348</td>\n",
       "      <td>67</td>\n",
       "      <td>среднее</td>\n",
       "      <td>1</td>\n",
       "      <td>женат / замужем</td>\n",
       "      <td>0</td>\n",
       "      <td>M</td>\n",
       "      <td>пенсионер</td>\n",
       "      <td>0</td>\n",
       "      <td>55112.757732</td>\n",
       "      <td>покупка недвижимости</td>\n",
       "    </tr>\n",
       "    <tr>\n",
       "      <td>30</td>\n",
       "      <td>1</td>\n",
       "      <td>335581.668515</td>\n",
       "      <td>62</td>\n",
       "      <td>среднее</td>\n",
       "      <td>1</td>\n",
       "      <td>женат / замужем</td>\n",
       "      <td>0</td>\n",
       "      <td>F</td>\n",
       "      <td>пенсионер</td>\n",
       "      <td>0</td>\n",
       "      <td>171456.067993</td>\n",
       "      <td>операции с коммерческой недвижимостью</td>\n",
       "    </tr>\n",
       "  </tbody>\n",
       "</table>\n",
       "</div>"
      ],
      "text/plain": [
       "    children  days_employed  dob_years education  education_id  \\\n",
       "4          0  340266.072047         53   среднее             1   \n",
       "18         0  400281.136913         53   среднее             1   \n",
       "24         1  338551.952911         57   среднее             1   \n",
       "25         0  363548.489348         67   среднее             1   \n",
       "30         1  335581.668515         62   среднее             1   \n",
       "\n",
       "            family_status  family_status_id gender income_type  debt  \\\n",
       "4        гражданский брак                 1      F   пенсионер     0   \n",
       "18         вдовец / вдова                 2      F   пенсионер     0   \n",
       "24  Не женат / не замужем                 4      F   пенсионер     0   \n",
       "25        женат / замужем                 0      M   пенсионер     0   \n",
       "30        женат / замужем                 0      F   пенсионер     0   \n",
       "\n",
       "     total_income                                purpose  \n",
       "4   158616.077870                        сыграть свадьбу  \n",
       "18   56823.777243     на покупку подержанного автомобиля  \n",
       "24  290547.235997  операции с коммерческой недвижимостью  \n",
       "25   55112.757732                   покупка недвижимости  \n",
       "30  171456.067993  операции с коммерческой недвижимостью  "
      ]
     },
     "execution_count": 6,
     "metadata": {},
     "output_type": "execute_result"
    }
   ],
   "source": [
    "df[df[\"days_employed\"] >= 365*104].head()"
   ]
  },
  {
   "cell_type": "code",
   "execution_count": 7,
   "id": "dbe3b0a8",
   "metadata": {},
   "outputs": [
    {
     "data": {
      "text/plain": [
       "3445"
      ]
     },
     "execution_count": 7,
     "metadata": {},
     "output_type": "execute_result"
    }
   ],
   "source": [
    "df[df[\"days_employed\"] > 365*104][\"days_employed\"].count()"
   ]
  },
  {
   "cell_type": "code",
   "execution_count": 8,
   "id": "14c332c5",
   "metadata": {},
   "outputs": [],
   "source": [
    "df.loc[df[\"days_employed\"] > 365*104, \"days_employed\"] = 37960"
   ]
  },
  {
   "cell_type": "code",
   "execution_count": 9,
   "id": "48648bcf",
   "metadata": {},
   "outputs": [
    {
     "data": {
      "text/plain": [
       "0"
      ]
     },
     "execution_count": 9,
     "metadata": {},
     "output_type": "execute_result"
    }
   ],
   "source": [
    "df[df[\"days_employed\"] > 365*104][\"days_employed\"].count()"
   ]
  },
  {
   "cell_type": "code",
   "execution_count": 10,
   "id": "c34b11c7",
   "metadata": {},
   "outputs": [
    {
     "data": {
      "text/html": [
       "<div>\n",
       "<style scoped>\n",
       "    .dataframe tbody tr th:only-of-type {\n",
       "        vertical-align: middle;\n",
       "    }\n",
       "\n",
       "    .dataframe tbody tr th {\n",
       "        vertical-align: top;\n",
       "    }\n",
       "\n",
       "    .dataframe thead th {\n",
       "        text-align: right;\n",
       "    }\n",
       "</style>\n",
       "<table border=\"1\" class=\"dataframe\">\n",
       "  <thead>\n",
       "    <tr style=\"text-align: right;\">\n",
       "      <th></th>\n",
       "      <th>children</th>\n",
       "      <th>days_employed</th>\n",
       "      <th>dob_years</th>\n",
       "      <th>education</th>\n",
       "      <th>education_id</th>\n",
       "      <th>family_status</th>\n",
       "      <th>family_status_id</th>\n",
       "      <th>gender</th>\n",
       "      <th>income_type</th>\n",
       "      <th>debt</th>\n",
       "      <th>total_income</th>\n",
       "      <th>purpose</th>\n",
       "    </tr>\n",
       "  </thead>\n",
       "  <tbody>\n",
       "    <tr>\n",
       "      <td>0</td>\n",
       "      <td>1</td>\n",
       "      <td>8437.673028</td>\n",
       "      <td>42</td>\n",
       "      <td>высшее</td>\n",
       "      <td>0</td>\n",
       "      <td>женат / замужем</td>\n",
       "      <td>0</td>\n",
       "      <td>F</td>\n",
       "      <td>сотрудник</td>\n",
       "      <td>0</td>\n",
       "      <td>253875.639453</td>\n",
       "      <td>покупка жилья</td>\n",
       "    </tr>\n",
       "    <tr>\n",
       "      <td>1</td>\n",
       "      <td>1</td>\n",
       "      <td>4024.803754</td>\n",
       "      <td>36</td>\n",
       "      <td>среднее</td>\n",
       "      <td>1</td>\n",
       "      <td>женат / замужем</td>\n",
       "      <td>0</td>\n",
       "      <td>F</td>\n",
       "      <td>сотрудник</td>\n",
       "      <td>0</td>\n",
       "      <td>112080.014102</td>\n",
       "      <td>приобретение автомобиля</td>\n",
       "    </tr>\n",
       "    <tr>\n",
       "      <td>2</td>\n",
       "      <td>0</td>\n",
       "      <td>5623.422610</td>\n",
       "      <td>33</td>\n",
       "      <td>Среднее</td>\n",
       "      <td>1</td>\n",
       "      <td>женат / замужем</td>\n",
       "      <td>0</td>\n",
       "      <td>M</td>\n",
       "      <td>сотрудник</td>\n",
       "      <td>0</td>\n",
       "      <td>145885.952297</td>\n",
       "      <td>покупка жилья</td>\n",
       "    </tr>\n",
       "    <tr>\n",
       "      <td>3</td>\n",
       "      <td>3</td>\n",
       "      <td>4124.747207</td>\n",
       "      <td>32</td>\n",
       "      <td>среднее</td>\n",
       "      <td>1</td>\n",
       "      <td>женат / замужем</td>\n",
       "      <td>0</td>\n",
       "      <td>M</td>\n",
       "      <td>сотрудник</td>\n",
       "      <td>0</td>\n",
       "      <td>267628.550329</td>\n",
       "      <td>дополнительное образование</td>\n",
       "    </tr>\n",
       "    <tr>\n",
       "      <td>4</td>\n",
       "      <td>0</td>\n",
       "      <td>37960.000000</td>\n",
       "      <td>53</td>\n",
       "      <td>среднее</td>\n",
       "      <td>1</td>\n",
       "      <td>гражданский брак</td>\n",
       "      <td>1</td>\n",
       "      <td>F</td>\n",
       "      <td>пенсионер</td>\n",
       "      <td>0</td>\n",
       "      <td>158616.077870</td>\n",
       "      <td>сыграть свадьбу</td>\n",
       "    </tr>\n",
       "  </tbody>\n",
       "</table>\n",
       "</div>"
      ],
      "text/plain": [
       "   children  days_employed  dob_years education  education_id  \\\n",
       "0         1    8437.673028         42    высшее             0   \n",
       "1         1    4024.803754         36   среднее             1   \n",
       "2         0    5623.422610         33   Среднее             1   \n",
       "3         3    4124.747207         32   среднее             1   \n",
       "4         0   37960.000000         53   среднее             1   \n",
       "\n",
       "      family_status  family_status_id gender income_type  debt   total_income  \\\n",
       "0   женат / замужем                 0      F   сотрудник     0  253875.639453   \n",
       "1   женат / замужем                 0      F   сотрудник     0  112080.014102   \n",
       "2   женат / замужем                 0      M   сотрудник     0  145885.952297   \n",
       "3   женат / замужем                 0      M   сотрудник     0  267628.550329   \n",
       "4  гражданский брак                 1      F   пенсионер     0  158616.077870   \n",
       "\n",
       "                      purpose  \n",
       "0               покупка жилья  \n",
       "1     приобретение автомобиля  \n",
       "2               покупка жилья  \n",
       "3  дополнительное образование  \n",
       "4             сыграть свадьбу  "
      ]
     },
     "execution_count": 10,
     "metadata": {},
     "output_type": "execute_result"
    }
   ],
   "source": [
    "df.head()"
   ]
  },
  {
   "cell_type": "markdown",
   "id": "f605dac6",
   "metadata": {},
   "source": [
    "Вычислим медианные значения и заполним пропуски:"
   ]
  },
  {
   "cell_type": "code",
   "execution_count": 11,
   "id": "4a3a18d3",
   "metadata": {},
   "outputs": [
    {
     "name": "stdout",
     "output_type": "stream",
     "text": [
      "Медианное значение в столбце \"days_employed\": 2194.2\n",
      "Медианное значение в столбце \"total_income\": 145017.9\n"
     ]
    }
   ],
   "source": [
    "median_days_employed = df[\"days_employed\"].median()\n",
    "print(f'Медианное значение в столбце \"days_employed\": {median_days_employed:.1f}')\n",
    "df[\"days_employed\"] = df[\"days_employed\"].fillna(median_days_employed)\n",
    "median_total_income = df[\"total_income\"].median()\n",
    "print(f'Медианное значение в столбце \"total_income\": {median_total_income:.1f}')\n",
    "df[\"total_income\"] = df[\"total_income\"].fillna(median_total_income)"
   ]
  },
  {
   "cell_type": "code",
   "execution_count": 12,
   "id": "53fc9f69",
   "metadata": {},
   "outputs": [
    {
     "name": "stdout",
     "output_type": "stream",
     "text": [
      "<class 'pandas.core.frame.DataFrame'>\n",
      "RangeIndex: 21525 entries, 0 to 21524\n",
      "Data columns (total 12 columns):\n",
      "children            21525 non-null int64\n",
      "days_employed       21525 non-null float64\n",
      "dob_years           21525 non-null int64\n",
      "education           21525 non-null object\n",
      "education_id        21525 non-null int64\n",
      "family_status       21525 non-null object\n",
      "family_status_id    21525 non-null int64\n",
      "gender              21525 non-null object\n",
      "income_type         21525 non-null object\n",
      "debt                21525 non-null int64\n",
      "total_income        21525 non-null float64\n",
      "purpose             21525 non-null object\n",
      "dtypes: float64(2), int64(5), object(5)\n",
      "memory usage: 2.0+ MB\n"
     ]
    }
   ],
   "source": [
    "df.info()"
   ]
  },
  {
   "cell_type": "markdown",
   "id": "659087e6",
   "metadata": {},
   "source": [
    "Большое количество отрицательных значений в столбце трудового стажа свидетельствует об ошибке в процессе сбора информации. Необходимо сообщить разработчикам. Возможно воспринимаемый знак за минус на самом деле является дефисом."
   ]
  },
  {
   "cell_type": "markdown",
   "id": "c2fbfc93",
   "metadata": {},
   "source": [
    "### Шаг 2.3. Изменение типов данных."
   ]
  },
  {
   "cell_type": "markdown",
   "id": "59041c26",
   "metadata": {},
   "source": [
    "Заменим вещественный тип данных в столбце 'total_income' и 'days_employed' на целочисленный:"
   ]
  },
  {
   "cell_type": "code",
   "execution_count": 13,
   "id": "ea2eeaf2",
   "metadata": {},
   "outputs": [
    {
     "name": "stdout",
     "output_type": "stream",
     "text": [
      "<class 'pandas.core.frame.DataFrame'>\n",
      "RangeIndex: 21525 entries, 0 to 21524\n",
      "Data columns (total 12 columns):\n",
      "children            21525 non-null int64\n",
      "days_employed       21525 non-null int64\n",
      "dob_years           21525 non-null int64\n",
      "education           21525 non-null object\n",
      "education_id        21525 non-null int64\n",
      "family_status       21525 non-null object\n",
      "family_status_id    21525 non-null int64\n",
      "gender              21525 non-null object\n",
      "income_type         21525 non-null object\n",
      "debt                21525 non-null int64\n",
      "total_income        21525 non-null int64\n",
      "purpose             21525 non-null object\n",
      "dtypes: int64(7), object(5)\n",
      "memory usage: 2.0+ MB\n"
     ]
    }
   ],
   "source": [
    "df[\"total_income\"] = df[\"total_income\"].astype(\"int\")\n",
    "df['days_employed'] = df['days_employed'].astype('int')\n",
    "df.info()"
   ]
  },
  {
   "cell_type": "markdown",
   "id": "2b1ec479",
   "metadata": {},
   "source": [
    "### Шаг 2.4. Удаление дубликатов."
   ]
  },
  {
   "cell_type": "markdown",
   "id": "df565d40",
   "metadata": {},
   "source": [
    "Удалим явные дубликаты:"
   ]
  },
  {
   "cell_type": "code",
   "execution_count": 14,
   "id": "546bc628",
   "metadata": {},
   "outputs": [
    {
     "data": {
      "text/plain": [
       "0"
      ]
     },
     "execution_count": 14,
     "metadata": {},
     "output_type": "execute_result"
    }
   ],
   "source": [
    "df = df.drop_duplicates().reset_index(drop=True)\n",
    "df.duplicated().sum()"
   ]
  },
  {
   "cell_type": "markdown",
   "id": "8c019c1f",
   "metadata": {},
   "source": [
    "Определим уникальные значения в столбцах для выявления не явных дубликатов:"
   ]
  },
  {
   "cell_type": "code",
   "execution_count": 15,
   "id": "bc41ba01",
   "metadata": {},
   "outputs": [
    {
     "data": {
      "text/plain": [
       "среднее                13705\n",
       "высшее                  4710\n",
       "СРЕДНЕЕ                  772\n",
       "Среднее                  711\n",
       "неоконченное высшее      668\n",
       "ВЫСШЕЕ                   273\n",
       "Высшее                   268\n",
       "начальное                250\n",
       "Неоконченное высшее       47\n",
       "НЕОКОНЧЕННОЕ ВЫСШЕЕ       29\n",
       "НАЧАЛЬНОЕ                 17\n",
       "Начальное                 15\n",
       "ученая степень             4\n",
       "Ученая степень             1\n",
       "УЧЕНАЯ СТЕПЕНЬ             1\n",
       "Name: education, dtype: int64"
      ]
     },
     "execution_count": 15,
     "metadata": {},
     "output_type": "execute_result"
    }
   ],
   "source": [
    "df[\"education\"].value_counts()"
   ]
  },
  {
   "cell_type": "markdown",
   "id": "b0284f62",
   "metadata": {},
   "source": [
    "Приведем все значения в столбце к нижнему регистру чтобы исключить не явные дубликаты в столбце:"
   ]
  },
  {
   "cell_type": "code",
   "execution_count": 16,
   "id": "db504d21",
   "metadata": {},
   "outputs": [],
   "source": [
    "df[\"education\"] = df[\"education\"].str.lower()"
   ]
  },
  {
   "cell_type": "code",
   "execution_count": 17,
   "id": "713a3857",
   "metadata": {},
   "outputs": [
    {
     "data": {
      "text/plain": [
       "женат / замужем          12344\n",
       "гражданский брак          4163\n",
       "Не женат / не замужем     2810\n",
       "в разводе                 1195\n",
       "вдовец / вдова             959\n",
       "Name: family_status, dtype: int64"
      ]
     },
     "execution_count": 17,
     "metadata": {},
     "output_type": "execute_result"
    }
   ],
   "source": [
    "df[\"family_status\"].value_counts()"
   ]
  },
  {
   "cell_type": "markdown",
   "id": "f716dc26",
   "metadata": {},
   "source": [
    "Не явные дубликаты в столбце \"family_status\" отсутствуют."
   ]
  },
  {
   "cell_type": "code",
   "execution_count": 18,
   "id": "7d7dac72",
   "metadata": {},
   "outputs": [
    {
     "data": {
      "text/plain": [
       "сотрудник          11091\n",
       "компаньон           5080\n",
       "пенсионер           3837\n",
       "госслужащий         1457\n",
       "безработный            2\n",
       "предприниматель        2\n",
       "студент                1\n",
       "в декрете              1\n",
       "Name: income_type, dtype: int64"
      ]
     },
     "execution_count": 18,
     "metadata": {},
     "output_type": "execute_result"
    }
   ],
   "source": [
    "df[\"income_type\"].value_counts()"
   ]
  },
  {
   "cell_type": "markdown",
   "id": "8bd99b77",
   "metadata": {},
   "source": [
    "Не явные дубликаты в столбце \"income_type\" отсутствуют."
   ]
  },
  {
   "cell_type": "code",
   "execution_count": 19,
   "id": "d01a537a",
   "metadata": {},
   "outputs": [
    {
     "data": {
      "text/plain": [
       " 0     14107\n",
       " 1      4809\n",
       " 2      2052\n",
       " 3       330\n",
       " 20       76\n",
       "-1        47\n",
       " 4        41\n",
       " 5         9\n",
       "Name: children, dtype: int64"
      ]
     },
     "execution_count": 19,
     "metadata": {},
     "output_type": "execute_result"
    }
   ],
   "source": [
    "df[\"children\"].value_counts()"
   ]
  },
  {
   "cell_type": "markdown",
   "id": "b57e0020",
   "metadata": {},
   "source": [
    "Обнаружены ошибки в столбце количество детей: -1 и 20. Заменим -1 на 1 и предположим что в значении 20 был введен ошибочно дополнительный 0, т.е. заменим 20 на 2:"
   ]
  },
  {
   "cell_type": "code",
   "execution_count": 20,
   "id": "ca7be54e",
   "metadata": {},
   "outputs": [
    {
     "data": {
      "text/plain": [
       "0    14107\n",
       "1     4856\n",
       "2     2128\n",
       "3      330\n",
       "4       41\n",
       "5        9\n",
       "Name: children, dtype: int64"
      ]
     },
     "execution_count": 20,
     "metadata": {},
     "output_type": "execute_result"
    }
   ],
   "source": [
    "df.loc[df[\"children\"] < 0, \"children\"] = df[\"children\"]*(-1)\n",
    "df.loc[df[\"children\"] == 20, \"children\"] = 2\n",
    "df[\"children\"].value_counts()"
   ]
  },
  {
   "cell_type": "code",
   "execution_count": 21,
   "id": "ea8e4178",
   "metadata": {},
   "outputs": [
    {
     "data": {
      "text/plain": [
       "35    616\n",
       "40    607\n",
       "41    606\n",
       "34    601\n",
       "38    597\n",
       "42    596\n",
       "33    581\n",
       "39    572\n",
       "31    559\n",
       "36    554\n",
       "44    545\n",
       "29    544\n",
       "30    538\n",
       "48    537\n",
       "37    536\n",
       "50    513\n",
       "43    512\n",
       "32    509\n",
       "49    508\n",
       "28    503\n",
       "45    497\n",
       "27    493\n",
       "56    484\n",
       "52    484\n",
       "47    477\n",
       "54    476\n",
       "46    473\n",
       "53    459\n",
       "57    456\n",
       "58    456\n",
       "51    448\n",
       "55    443\n",
       "59    443\n",
       "26    408\n",
       "60    374\n",
       "25    357\n",
       "61    354\n",
       "62    349\n",
       "63    269\n",
       "24    264\n",
       "64    262\n",
       "23    253\n",
       "65    194\n",
       "22    183\n",
       "66    182\n",
       "67    167\n",
       "21    111\n",
       "0     101\n",
       "68     99\n",
       "69     85\n",
       "70     65\n",
       "71     58\n",
       "20     51\n",
       "72     33\n",
       "19     14\n",
       "73      8\n",
       "74      6\n",
       "75      1\n",
       "Name: dob_years, dtype: int64"
      ]
     },
     "execution_count": 21,
     "metadata": {},
     "output_type": "execute_result"
    }
   ],
   "source": [
    "df[\"dob_years\"].value_counts()"
   ]
  },
  {
   "cell_type": "markdown",
   "id": "6db3c50c",
   "metadata": {},
   "source": [
    "В столбце \"dob_years\" у ста одного заемщика указан возраст 0, заменим его на медианное значение возраста:"
   ]
  },
  {
   "cell_type": "code",
   "execution_count": 22,
   "id": "c3aaf03c",
   "metadata": {},
   "outputs": [
    {
     "name": "stdout",
     "output_type": "stream",
     "text": [
      "Медианное значение в столбце \"dob_years\": 42\n"
     ]
    }
   ],
   "source": [
    "median_dob_years = df[\"dob_years\"].median().astype(\"int\")\n",
    "print(f'Медианное значение в столбце \"dob_years\": {median_dob_years}')\n",
    "df.loc[df[\"dob_years\"] == 0, \"dob_years\"] = median_dob_years"
   ]
  },
  {
   "cell_type": "code",
   "execution_count": 23,
   "id": "30bae89a",
   "metadata": {},
   "outputs": [
    {
     "data": {
      "text/plain": [
       "F      14189\n",
       "M       7281\n",
       "XNA        1\n",
       "Name: gender, dtype: int64"
      ]
     },
     "execution_count": 23,
     "metadata": {},
     "output_type": "execute_result"
    }
   ],
   "source": [
    "df[\"gender\"].value_counts()"
   ]
  },
  {
   "cell_type": "markdown",
   "id": "c7fa19d9",
   "metadata": {},
   "source": [
    "В столбце \"gender\" указано ошибочное значение XNA. Ввиду того что такое значение всего одно, и из него не ясно к какому типу гендера относится данный заемщик, оставим его без изменений."
   ]
  },
  {
   "cell_type": "markdown",
   "id": "bf4f3e88",
   "metadata": {},
   "source": [
    "Теперь удалим оставшиеся не явные дубликаты:"
   ]
  },
  {
   "cell_type": "code",
   "execution_count": 24,
   "id": "d0b676ba",
   "metadata": {},
   "outputs": [],
   "source": [
    "df = df.drop_duplicates().reset_index(drop=True)"
   ]
  },
  {
   "cell_type": "markdown",
   "id": "260b8432",
   "metadata": {},
   "source": [
    "Для удаления явных и не явных дубликатов используется метод .drop_duplicates(). Отличие между явными и не явными дубликатами лишь в том, что повторяющиеся значения повторяются по смыслу, но могут быть записаны по разному, в связи с этим необходима проверка уникальных значений и приведение к единообразной терминологии.\n",
    "\n",
    "В данном случае причиной дубликатов может быть то, что заемщики заполняют форму самостоятельно и используют свободную терминологию и разный регистр. Для исключения данных дубликатов следует сделать в форме выбор из конкретных значений, без возможности самостоятельного ввода."
   ]
  },
  {
   "cell_type": "markdown",
   "id": "bc888d6e",
   "metadata": {},
   "source": [
    "### Шаг 2.5. Формирование дополнительных датафреймов словарей, декомпозиция исходного датафрейма."
   ]
  },
  {
   "cell_type": "markdown",
   "id": "39360e9b",
   "metadata": {},
   "source": [
    "Создадим два новых датафрейма, в которых:\n",
    "\n",
    "* каждому уникальному значению из education соответствует уникальное значение education_id — в первом;\n",
    "* каждому уникальному значению из family_status соответствует уникальное значение family_status_id — во втором."
   ]
  },
  {
   "cell_type": "code",
   "execution_count": 25,
   "id": "0a0c8cd8",
   "metadata": {},
   "outputs": [],
   "source": [
    "df_education_id = df[['education','education_id']]\n",
    "df_education_id = df_education_id.drop_duplicates().reset_index(drop=True)\n",
    "df_family_status_id = df[['family_status','family_status_id']]\n",
    "df_family_status_id = df_family_status_id.drop_duplicates().reset_index(drop=True)"
   ]
  },
  {
   "cell_type": "code",
   "execution_count": 26,
   "id": "6d3ab1f3",
   "metadata": {},
   "outputs": [
    {
     "data": {
      "text/html": [
       "<div>\n",
       "<style scoped>\n",
       "    .dataframe tbody tr th:only-of-type {\n",
       "        vertical-align: middle;\n",
       "    }\n",
       "\n",
       "    .dataframe tbody tr th {\n",
       "        vertical-align: top;\n",
       "    }\n",
       "\n",
       "    .dataframe thead th {\n",
       "        text-align: right;\n",
       "    }\n",
       "</style>\n",
       "<table border=\"1\" class=\"dataframe\">\n",
       "  <thead>\n",
       "    <tr style=\"text-align: right;\">\n",
       "      <th></th>\n",
       "      <th>education</th>\n",
       "      <th>education_id</th>\n",
       "    </tr>\n",
       "  </thead>\n",
       "  <tbody>\n",
       "    <tr>\n",
       "      <td>0</td>\n",
       "      <td>высшее</td>\n",
       "      <td>0</td>\n",
       "    </tr>\n",
       "    <tr>\n",
       "      <td>1</td>\n",
       "      <td>среднее</td>\n",
       "      <td>1</td>\n",
       "    </tr>\n",
       "    <tr>\n",
       "      <td>2</td>\n",
       "      <td>неоконченное высшее</td>\n",
       "      <td>2</td>\n",
       "    </tr>\n",
       "    <tr>\n",
       "      <td>3</td>\n",
       "      <td>начальное</td>\n",
       "      <td>3</td>\n",
       "    </tr>\n",
       "    <tr>\n",
       "      <td>4</td>\n",
       "      <td>ученая степень</td>\n",
       "      <td>4</td>\n",
       "    </tr>\n",
       "  </tbody>\n",
       "</table>\n",
       "</div>"
      ],
      "text/plain": [
       "             education  education_id\n",
       "0               высшее             0\n",
       "1              среднее             1\n",
       "2  неоконченное высшее             2\n",
       "3            начальное             3\n",
       "4       ученая степень             4"
      ]
     },
     "execution_count": 26,
     "metadata": {},
     "output_type": "execute_result"
    }
   ],
   "source": [
    "df_education_id"
   ]
  },
  {
   "cell_type": "code",
   "execution_count": 27,
   "id": "c54bcdff",
   "metadata": {},
   "outputs": [
    {
     "data": {
      "text/html": [
       "<div>\n",
       "<style scoped>\n",
       "    .dataframe tbody tr th:only-of-type {\n",
       "        vertical-align: middle;\n",
       "    }\n",
       "\n",
       "    .dataframe tbody tr th {\n",
       "        vertical-align: top;\n",
       "    }\n",
       "\n",
       "    .dataframe thead th {\n",
       "        text-align: right;\n",
       "    }\n",
       "</style>\n",
       "<table border=\"1\" class=\"dataframe\">\n",
       "  <thead>\n",
       "    <tr style=\"text-align: right;\">\n",
       "      <th></th>\n",
       "      <th>family_status</th>\n",
       "      <th>family_status_id</th>\n",
       "    </tr>\n",
       "  </thead>\n",
       "  <tbody>\n",
       "    <tr>\n",
       "      <td>0</td>\n",
       "      <td>женат / замужем</td>\n",
       "      <td>0</td>\n",
       "    </tr>\n",
       "    <tr>\n",
       "      <td>1</td>\n",
       "      <td>гражданский брак</td>\n",
       "      <td>1</td>\n",
       "    </tr>\n",
       "    <tr>\n",
       "      <td>2</td>\n",
       "      <td>вдовец / вдова</td>\n",
       "      <td>2</td>\n",
       "    </tr>\n",
       "    <tr>\n",
       "      <td>3</td>\n",
       "      <td>в разводе</td>\n",
       "      <td>3</td>\n",
       "    </tr>\n",
       "    <tr>\n",
       "      <td>4</td>\n",
       "      <td>Не женат / не замужем</td>\n",
       "      <td>4</td>\n",
       "    </tr>\n",
       "  </tbody>\n",
       "</table>\n",
       "</div>"
      ],
      "text/plain": [
       "           family_status  family_status_id\n",
       "0        женат / замужем                 0\n",
       "1       гражданский брак                 1\n",
       "2         вдовец / вдова                 2\n",
       "3              в разводе                 3\n",
       "4  Не женат / не замужем                 4"
      ]
     },
     "execution_count": 27,
     "metadata": {},
     "output_type": "execute_result"
    }
   ],
   "source": [
    "df_family_status_id"
   ]
  },
  {
   "cell_type": "markdown",
   "id": "278c6f81",
   "metadata": {},
   "source": [
    "Удалим из исходного датафрейма столбцы \"education\" и \"family_status\":"
   ]
  },
  {
   "cell_type": "code",
   "execution_count": 28,
   "id": "89e62316",
   "metadata": {},
   "outputs": [
    {
     "data": {
      "text/html": [
       "<div>\n",
       "<style scoped>\n",
       "    .dataframe tbody tr th:only-of-type {\n",
       "        vertical-align: middle;\n",
       "    }\n",
       "\n",
       "    .dataframe tbody tr th {\n",
       "        vertical-align: top;\n",
       "    }\n",
       "\n",
       "    .dataframe thead th {\n",
       "        text-align: right;\n",
       "    }\n",
       "</style>\n",
       "<table border=\"1\" class=\"dataframe\">\n",
       "  <thead>\n",
       "    <tr style=\"text-align: right;\">\n",
       "      <th></th>\n",
       "      <th>children</th>\n",
       "      <th>days_employed</th>\n",
       "      <th>dob_years</th>\n",
       "      <th>education_id</th>\n",
       "      <th>family_status_id</th>\n",
       "      <th>gender</th>\n",
       "      <th>income_type</th>\n",
       "      <th>debt</th>\n",
       "      <th>total_income</th>\n",
       "      <th>purpose</th>\n",
       "    </tr>\n",
       "  </thead>\n",
       "  <tbody>\n",
       "    <tr>\n",
       "      <td>0</td>\n",
       "      <td>1</td>\n",
       "      <td>8437</td>\n",
       "      <td>42</td>\n",
       "      <td>0</td>\n",
       "      <td>0</td>\n",
       "      <td>F</td>\n",
       "      <td>сотрудник</td>\n",
       "      <td>0</td>\n",
       "      <td>253875</td>\n",
       "      <td>покупка жилья</td>\n",
       "    </tr>\n",
       "    <tr>\n",
       "      <td>1</td>\n",
       "      <td>1</td>\n",
       "      <td>4024</td>\n",
       "      <td>36</td>\n",
       "      <td>1</td>\n",
       "      <td>0</td>\n",
       "      <td>F</td>\n",
       "      <td>сотрудник</td>\n",
       "      <td>0</td>\n",
       "      <td>112080</td>\n",
       "      <td>приобретение автомобиля</td>\n",
       "    </tr>\n",
       "    <tr>\n",
       "      <td>2</td>\n",
       "      <td>0</td>\n",
       "      <td>5623</td>\n",
       "      <td>33</td>\n",
       "      <td>1</td>\n",
       "      <td>0</td>\n",
       "      <td>M</td>\n",
       "      <td>сотрудник</td>\n",
       "      <td>0</td>\n",
       "      <td>145885</td>\n",
       "      <td>покупка жилья</td>\n",
       "    </tr>\n",
       "    <tr>\n",
       "      <td>3</td>\n",
       "      <td>3</td>\n",
       "      <td>4124</td>\n",
       "      <td>32</td>\n",
       "      <td>1</td>\n",
       "      <td>0</td>\n",
       "      <td>M</td>\n",
       "      <td>сотрудник</td>\n",
       "      <td>0</td>\n",
       "      <td>267628</td>\n",
       "      <td>дополнительное образование</td>\n",
       "    </tr>\n",
       "    <tr>\n",
       "      <td>4</td>\n",
       "      <td>0</td>\n",
       "      <td>37960</td>\n",
       "      <td>53</td>\n",
       "      <td>1</td>\n",
       "      <td>1</td>\n",
       "      <td>F</td>\n",
       "      <td>пенсионер</td>\n",
       "      <td>0</td>\n",
       "      <td>158616</td>\n",
       "      <td>сыграть свадьбу</td>\n",
       "    </tr>\n",
       "  </tbody>\n",
       "</table>\n",
       "</div>"
      ],
      "text/plain": [
       "   children  days_employed  dob_years  education_id  family_status_id gender  \\\n",
       "0         1           8437         42             0                 0      F   \n",
       "1         1           4024         36             1                 0      F   \n",
       "2         0           5623         33             1                 0      M   \n",
       "3         3           4124         32             1                 0      M   \n",
       "4         0          37960         53             1                 1      F   \n",
       "\n",
       "  income_type  debt  total_income                     purpose  \n",
       "0   сотрудник     0        253875               покупка жилья  \n",
       "1   сотрудник     0        112080     приобретение автомобиля  \n",
       "2   сотрудник     0        145885               покупка жилья  \n",
       "3   сотрудник     0        267628  дополнительное образование  \n",
       "4   пенсионер     0        158616             сыграть свадьбу  "
      ]
     },
     "execution_count": 28,
     "metadata": {},
     "output_type": "execute_result"
    }
   ],
   "source": [
    "df = df[['children', 'days_employed', 'dob_years', 'education_id', 'family_status_id', 'gender', 'income_type', 'debt', 'total_income', 'purpose']]\n",
    "df.head(5)"
   ]
  },
  {
   "cell_type": "markdown",
   "id": "637723b5",
   "metadata": {},
   "source": [
    "### Шаг 2.6. Категоризация дохода."
   ]
  },
  {
   "cell_type": "markdown",
   "id": "7bbbcb69",
   "metadata": {},
   "source": [
    "Создадим категории доходов:"
   ]
  },
  {
   "cell_type": "code",
   "execution_count": 29,
   "id": "622bb26f",
   "metadata": {},
   "outputs": [
    {
     "data": {
      "text/html": [
       "<div>\n",
       "<style scoped>\n",
       "    .dataframe tbody tr th:only-of-type {\n",
       "        vertical-align: middle;\n",
       "    }\n",
       "\n",
       "    .dataframe tbody tr th {\n",
       "        vertical-align: top;\n",
       "    }\n",
       "\n",
       "    .dataframe thead th {\n",
       "        text-align: right;\n",
       "    }\n",
       "</style>\n",
       "<table border=\"1\" class=\"dataframe\">\n",
       "  <thead>\n",
       "    <tr style=\"text-align: right;\">\n",
       "      <th></th>\n",
       "      <th>children</th>\n",
       "      <th>days_employed</th>\n",
       "      <th>dob_years</th>\n",
       "      <th>education_id</th>\n",
       "      <th>family_status_id</th>\n",
       "      <th>gender</th>\n",
       "      <th>income_type</th>\n",
       "      <th>debt</th>\n",
       "      <th>total_income</th>\n",
       "      <th>purpose</th>\n",
       "      <th>total_income_category</th>\n",
       "    </tr>\n",
       "  </thead>\n",
       "  <tbody>\n",
       "    <tr>\n",
       "      <td>0</td>\n",
       "      <td>1</td>\n",
       "      <td>8437</td>\n",
       "      <td>42</td>\n",
       "      <td>0</td>\n",
       "      <td>0</td>\n",
       "      <td>F</td>\n",
       "      <td>сотрудник</td>\n",
       "      <td>0</td>\n",
       "      <td>253875</td>\n",
       "      <td>покупка жилья</td>\n",
       "      <td>B</td>\n",
       "    </tr>\n",
       "    <tr>\n",
       "      <td>1</td>\n",
       "      <td>1</td>\n",
       "      <td>4024</td>\n",
       "      <td>36</td>\n",
       "      <td>1</td>\n",
       "      <td>0</td>\n",
       "      <td>F</td>\n",
       "      <td>сотрудник</td>\n",
       "      <td>0</td>\n",
       "      <td>112080</td>\n",
       "      <td>приобретение автомобиля</td>\n",
       "      <td>C</td>\n",
       "    </tr>\n",
       "    <tr>\n",
       "      <td>2</td>\n",
       "      <td>0</td>\n",
       "      <td>5623</td>\n",
       "      <td>33</td>\n",
       "      <td>1</td>\n",
       "      <td>0</td>\n",
       "      <td>M</td>\n",
       "      <td>сотрудник</td>\n",
       "      <td>0</td>\n",
       "      <td>145885</td>\n",
       "      <td>покупка жилья</td>\n",
       "      <td>C</td>\n",
       "    </tr>\n",
       "    <tr>\n",
       "      <td>3</td>\n",
       "      <td>3</td>\n",
       "      <td>4124</td>\n",
       "      <td>32</td>\n",
       "      <td>1</td>\n",
       "      <td>0</td>\n",
       "      <td>M</td>\n",
       "      <td>сотрудник</td>\n",
       "      <td>0</td>\n",
       "      <td>267628</td>\n",
       "      <td>дополнительное образование</td>\n",
       "      <td>B</td>\n",
       "    </tr>\n",
       "    <tr>\n",
       "      <td>4</td>\n",
       "      <td>0</td>\n",
       "      <td>37960</td>\n",
       "      <td>53</td>\n",
       "      <td>1</td>\n",
       "      <td>1</td>\n",
       "      <td>F</td>\n",
       "      <td>пенсионер</td>\n",
       "      <td>0</td>\n",
       "      <td>158616</td>\n",
       "      <td>сыграть свадьбу</td>\n",
       "      <td>C</td>\n",
       "    </tr>\n",
       "  </tbody>\n",
       "</table>\n",
       "</div>"
      ],
      "text/plain": [
       "   children  days_employed  dob_years  education_id  family_status_id gender  \\\n",
       "0         1           8437         42             0                 0      F   \n",
       "1         1           4024         36             1                 0      F   \n",
       "2         0           5623         33             1                 0      M   \n",
       "3         3           4124         32             1                 0      M   \n",
       "4         0          37960         53             1                 1      F   \n",
       "\n",
       "  income_type  debt  total_income                     purpose  \\\n",
       "0   сотрудник     0        253875               покупка жилья   \n",
       "1   сотрудник     0        112080     приобретение автомобиля   \n",
       "2   сотрудник     0        145885               покупка жилья   \n",
       "3   сотрудник     0        267628  дополнительное образование   \n",
       "4   пенсионер     0        158616             сыграть свадьбу   \n",
       "\n",
       "  total_income_category  \n",
       "0                     B  \n",
       "1                     C  \n",
       "2                     C  \n",
       "3                     B  \n",
       "4                     C  "
      ]
     },
     "execution_count": 29,
     "metadata": {},
     "output_type": "execute_result"
    }
   ],
   "source": [
    "def total_income_category(income):\n",
    "    if income <= 30000:\n",
    "        return \"E\"\n",
    "    elif 30000 < income <= 50000 :\n",
    "        return \"D\"\n",
    "    elif 50000 < income <= 200000 :\n",
    "        return \"C\"\n",
    "    elif 200000 < income <= 1000000 :\n",
    "        return \"B\"\n",
    "    else:\n",
    "        return \"A\"\n",
    "df[\"total_income_category\"] = df[\"total_income\"].apply(total_income_category)\n",
    "df.head(5)"
   ]
  },
  {
   "cell_type": "markdown",
   "id": "3dfac59d",
   "metadata": {},
   "source": [
    "### Шаг 2.7. Категоризация целей кредита."
   ]
  },
  {
   "cell_type": "code",
   "execution_count": 30,
   "id": "6e31ac30",
   "metadata": {},
   "outputs": [
    {
     "data": {
      "text/plain": [
       "свадьба                                   791\n",
       "на проведение свадьбы                     767\n",
       "сыграть свадьбу                           765\n",
       "операции с недвижимостью                  675\n",
       "покупка коммерческой недвижимости         661\n",
       "операции с жильем                         652\n",
       "покупка жилья для сдачи                   651\n",
       "операции с коммерческой недвижимостью     650\n",
       "покупка жилья                             646\n",
       "жилье                                     646\n",
       "покупка жилья для семьи                   638\n",
       "строительство собственной недвижимости    635\n",
       "недвижимость                              633\n",
       "операции со своей недвижимостью           627\n",
       "строительство жилой недвижимости          624\n",
       "покупка недвижимости                      621\n",
       "покупка своего жилья                      620\n",
       "строительство недвижимости                619\n",
       "ремонт жилью                              607\n",
       "покупка жилой недвижимости                606\n",
       "на покупку своего автомобиля              505\n",
       "заняться высшим образованием              496\n",
       "автомобиль                                494\n",
       "сделка с подержанным автомобилем          486\n",
       "на покупку подержанного автомобиля        478\n",
       "автомобили                                478\n",
       "свой автомобиль                           478\n",
       "на покупку автомобиля                     471\n",
       "приобретение автомобиля                   461\n",
       "дополнительное образование                460\n",
       "сделка с автомобилем                      455\n",
       "высшее образование                        452\n",
       "образование                               447\n",
       "получение дополнительного образования     446\n",
       "получение образования                     442\n",
       "профильное образование                    436\n",
       "получение высшего образования             426\n",
       "заняться образованием                     408\n",
       "Name: purpose, dtype: int64"
      ]
     },
     "execution_count": 30,
     "metadata": {},
     "output_type": "execute_result"
    }
   ],
   "source": [
    "df[\"purpose\"].value_counts()"
   ]
  },
  {
   "cell_type": "code",
   "execution_count": 31,
   "id": "f49684f2",
   "metadata": {},
   "outputs": [
    {
     "data": {
      "text/html": [
       "<div>\n",
       "<style scoped>\n",
       "    .dataframe tbody tr th:only-of-type {\n",
       "        vertical-align: middle;\n",
       "    }\n",
       "\n",
       "    .dataframe tbody tr th {\n",
       "        vertical-align: top;\n",
       "    }\n",
       "\n",
       "    .dataframe thead th {\n",
       "        text-align: right;\n",
       "    }\n",
       "</style>\n",
       "<table border=\"1\" class=\"dataframe\">\n",
       "  <thead>\n",
       "    <tr style=\"text-align: right;\">\n",
       "      <th></th>\n",
       "      <th>children</th>\n",
       "      <th>days_employed</th>\n",
       "      <th>dob_years</th>\n",
       "      <th>education_id</th>\n",
       "      <th>family_status_id</th>\n",
       "      <th>gender</th>\n",
       "      <th>income_type</th>\n",
       "      <th>debt</th>\n",
       "      <th>total_income</th>\n",
       "      <th>purpose</th>\n",
       "      <th>total_income_category</th>\n",
       "      <th>purpose_category</th>\n",
       "    </tr>\n",
       "  </thead>\n",
       "  <tbody>\n",
       "    <tr>\n",
       "      <td>0</td>\n",
       "      <td>1</td>\n",
       "      <td>8437</td>\n",
       "      <td>42</td>\n",
       "      <td>0</td>\n",
       "      <td>0</td>\n",
       "      <td>F</td>\n",
       "      <td>сотрудник</td>\n",
       "      <td>0</td>\n",
       "      <td>253875</td>\n",
       "      <td>покупка жилья</td>\n",
       "      <td>B</td>\n",
       "      <td>операции с недвижимостью</td>\n",
       "    </tr>\n",
       "    <tr>\n",
       "      <td>1</td>\n",
       "      <td>1</td>\n",
       "      <td>4024</td>\n",
       "      <td>36</td>\n",
       "      <td>1</td>\n",
       "      <td>0</td>\n",
       "      <td>F</td>\n",
       "      <td>сотрудник</td>\n",
       "      <td>0</td>\n",
       "      <td>112080</td>\n",
       "      <td>приобретение автомобиля</td>\n",
       "      <td>C</td>\n",
       "      <td>операции с автомобилем</td>\n",
       "    </tr>\n",
       "    <tr>\n",
       "      <td>2</td>\n",
       "      <td>0</td>\n",
       "      <td>5623</td>\n",
       "      <td>33</td>\n",
       "      <td>1</td>\n",
       "      <td>0</td>\n",
       "      <td>M</td>\n",
       "      <td>сотрудник</td>\n",
       "      <td>0</td>\n",
       "      <td>145885</td>\n",
       "      <td>покупка жилья</td>\n",
       "      <td>C</td>\n",
       "      <td>операции с недвижимостью</td>\n",
       "    </tr>\n",
       "    <tr>\n",
       "      <td>3</td>\n",
       "      <td>3</td>\n",
       "      <td>4124</td>\n",
       "      <td>32</td>\n",
       "      <td>1</td>\n",
       "      <td>0</td>\n",
       "      <td>M</td>\n",
       "      <td>сотрудник</td>\n",
       "      <td>0</td>\n",
       "      <td>267628</td>\n",
       "      <td>дополнительное образование</td>\n",
       "      <td>B</td>\n",
       "      <td>получение образования</td>\n",
       "    </tr>\n",
       "    <tr>\n",
       "      <td>4</td>\n",
       "      <td>0</td>\n",
       "      <td>37960</td>\n",
       "      <td>53</td>\n",
       "      <td>1</td>\n",
       "      <td>1</td>\n",
       "      <td>F</td>\n",
       "      <td>пенсионер</td>\n",
       "      <td>0</td>\n",
       "      <td>158616</td>\n",
       "      <td>сыграть свадьбу</td>\n",
       "      <td>C</td>\n",
       "      <td>проведение свадьбы</td>\n",
       "    </tr>\n",
       "  </tbody>\n",
       "</table>\n",
       "</div>"
      ],
      "text/plain": [
       "   children  days_employed  dob_years  education_id  family_status_id gender  \\\n",
       "0         1           8437         42             0                 0      F   \n",
       "1         1           4024         36             1                 0      F   \n",
       "2         0           5623         33             1                 0      M   \n",
       "3         3           4124         32             1                 0      M   \n",
       "4         0          37960         53             1                 1      F   \n",
       "\n",
       "  income_type  debt  total_income                     purpose  \\\n",
       "0   сотрудник     0        253875               покупка жилья   \n",
       "1   сотрудник     0        112080     приобретение автомобиля   \n",
       "2   сотрудник     0        145885               покупка жилья   \n",
       "3   сотрудник     0        267628  дополнительное образование   \n",
       "4   пенсионер     0        158616             сыграть свадьбу   \n",
       "\n",
       "  total_income_category          purpose_category  \n",
       "0                     B  операции с недвижимостью  \n",
       "1                     C    операции с автомобилем  \n",
       "2                     C  операции с недвижимостью  \n",
       "3                     B     получение образования  \n",
       "4                     C        проведение свадьбы  "
      ]
     },
     "execution_count": 31,
     "metadata": {},
     "output_type": "execute_result"
    }
   ],
   "source": [
    "def purpose_category(purpose):\n",
    "    car_operations = ['на покупку своего автомобиля', 'автомобиль', 'сделка с подержанным автомобилем', 'автомобили', 'свой автомобиль', 'на покупку подержанного автомобиля', 'на покупку автомобиля', 'приобретение автомобиля', 'сделка с автомобилем']\n",
    "    wedding = ['свадьба', 'на проведение свадьбы', 'сыграть свадьбу']\n",
    "    education = ['заняться высшим образованием', 'дополнительное образование', 'высшее образование', 'образование', 'получение дополнительного образования', 'получение образования', 'профильное образование', 'получение высшего образования', 'заняться образованием']\n",
    "    for i in car_operations:\n",
    "        if purpose == i:\n",
    "            return \"операции с автомобилем\"\n",
    "    for k in wedding:\n",
    "        if purpose == k:\n",
    "            return \"проведение свадьбы\"\n",
    "    for l in education:\n",
    "        if purpose == l:\n",
    "            return \"получение образования\"\n",
    "    return \"операции с недвижимостью\"\n",
    "df[\"purpose_category\"] = df[\"purpose\"].apply(purpose_category)\n",
    "df.head(5)"
   ]
  },
  {
   "cell_type": "markdown",
   "id": "c55686cc",
   "metadata": {},
   "source": [
    "### Ответы на вопросы."
   ]
  },
  {
   "cell_type": "markdown",
   "id": "9b3e95e7",
   "metadata": {},
   "source": [
    "##### Вопрос 1:"
   ]
  },
  {
   "cell_type": "markdown",
   "id": "6e3a7713",
   "metadata": {},
   "source": [
    "Есть ли зависимость между количеством детей и возвратом кредита в срок?"
   ]
  },
  {
   "cell_type": "code",
   "execution_count": 32,
   "id": "af64f9e2",
   "metadata": {},
   "outputs": [
    {
     "data": {
      "text/html": [
       "<div>\n",
       "<style scoped>\n",
       "    .dataframe tbody tr th:only-of-type {\n",
       "        vertical-align: middle;\n",
       "    }\n",
       "\n",
       "    .dataframe tbody tr th {\n",
       "        vertical-align: top;\n",
       "    }\n",
       "\n",
       "    .dataframe thead th {\n",
       "        text-align: right;\n",
       "    }\n",
       "</style>\n",
       "<table border=\"1\" class=\"dataframe\">\n",
       "  <thead>\n",
       "    <tr style=\"text-align: right;\">\n",
       "      <th></th>\n",
       "      <th>debt_sum</th>\n",
       "      <th>debt_count</th>\n",
       "      <th>share</th>\n",
       "    </tr>\n",
       "    <tr>\n",
       "      <th>children</th>\n",
       "      <th></th>\n",
       "      <th></th>\n",
       "      <th></th>\n",
       "    </tr>\n",
       "  </thead>\n",
       "  <tbody>\n",
       "    <tr>\n",
       "      <td>4</td>\n",
       "      <td>4</td>\n",
       "      <td>41</td>\n",
       "      <td>0.097561</td>\n",
       "    </tr>\n",
       "    <tr>\n",
       "      <td>2</td>\n",
       "      <td>202</td>\n",
       "      <td>2128</td>\n",
       "      <td>0.094925</td>\n",
       "    </tr>\n",
       "    <tr>\n",
       "      <td>1</td>\n",
       "      <td>445</td>\n",
       "      <td>4855</td>\n",
       "      <td>0.091658</td>\n",
       "    </tr>\n",
       "    <tr>\n",
       "      <td>3</td>\n",
       "      <td>27</td>\n",
       "      <td>330</td>\n",
       "      <td>0.081818</td>\n",
       "    </tr>\n",
       "    <tr>\n",
       "      <td>0</td>\n",
       "      <td>1063</td>\n",
       "      <td>14090</td>\n",
       "      <td>0.075444</td>\n",
       "    </tr>\n",
       "    <tr>\n",
       "      <td>5</td>\n",
       "      <td>0</td>\n",
       "      <td>9</td>\n",
       "      <td>0.000000</td>\n",
       "    </tr>\n",
       "  </tbody>\n",
       "</table>\n",
       "</div>"
      ],
      "text/plain": [
       "          debt_sum  debt_count     share\n",
       "children                                \n",
       "4                4          41  0.097561\n",
       "2              202        2128  0.094925\n",
       "1              445        4855  0.091658\n",
       "3               27         330  0.081818\n",
       "0             1063       14090  0.075444\n",
       "5                0           9  0.000000"
      ]
     },
     "execution_count": 32,
     "metadata": {},
     "output_type": "execute_result"
    }
   ],
   "source": [
    "df_pivot_children = df.pivot_table(index='children', values='debt', aggfunc= ['sum', 'count'])\n",
    "df_pivot_children.columns = ['debt_sum', 'debt_count']\n",
    "df_pivot_children['share'] = df_pivot_children[\"debt_sum\"] / df_pivot_children[\"debt_count\"]\n",
    "df_pivot_children = df_pivot_children.sort_values('share' , ascending = False)\n",
    "df_pivot_children"
   ]
  },
  {
   "cell_type": "markdown",
   "id": "a4b622ba",
   "metadata": {},
   "source": [
    "##### Вывод 1:"
   ]
  },
  {
   "cell_type": "markdown",
   "id": "23eeb60d",
   "metadata": {},
   "source": [
    "С увеличением количества детей видно увеличение количества просроченных задолженностей. Однако, люди с 3 детьми платят чаще чем люди с 1 ребенком, возможно выборка слишком мала для достаточного анализа. Люди без детей просрачивают оплату по кредиту гораздо реже, чем люди с детьми и являются надежными заемщиками."
   ]
  },
  {
   "cell_type": "markdown",
   "id": "13d5fd79",
   "metadata": {},
   "source": [
    "##### Вопрос 2:"
   ]
  },
  {
   "cell_type": "markdown",
   "id": "79c552fb",
   "metadata": {},
   "source": [
    "Есть ли зависимость между семейным положением и возвратом кредита в срок?"
   ]
  },
  {
   "cell_type": "code",
   "execution_count": 33,
   "id": "0536282f",
   "metadata": {},
   "outputs": [
    {
     "data": {
      "text/html": [
       "<div>\n",
       "<style scoped>\n",
       "    .dataframe tbody tr th:only-of-type {\n",
       "        vertical-align: middle;\n",
       "    }\n",
       "\n",
       "    .dataframe tbody tr th {\n",
       "        vertical-align: top;\n",
       "    }\n",
       "\n",
       "    .dataframe thead th {\n",
       "        text-align: right;\n",
       "    }\n",
       "</style>\n",
       "<table border=\"1\" class=\"dataframe\">\n",
       "  <thead>\n",
       "    <tr style=\"text-align: right;\">\n",
       "      <th></th>\n",
       "      <th>debt_sum</th>\n",
       "      <th>debt_count</th>\n",
       "      <th>share</th>\n",
       "    </tr>\n",
       "    <tr>\n",
       "      <th>family_status_id</th>\n",
       "      <th></th>\n",
       "      <th></th>\n",
       "      <th></th>\n",
       "    </tr>\n",
       "  </thead>\n",
       "  <tbody>\n",
       "    <tr>\n",
       "      <td>4</td>\n",
       "      <td>274</td>\n",
       "      <td>2810</td>\n",
       "      <td>0.097509</td>\n",
       "    </tr>\n",
       "    <tr>\n",
       "      <td>1</td>\n",
       "      <td>388</td>\n",
       "      <td>4150</td>\n",
       "      <td>0.093494</td>\n",
       "    </tr>\n",
       "    <tr>\n",
       "      <td>0</td>\n",
       "      <td>931</td>\n",
       "      <td>12339</td>\n",
       "      <td>0.075452</td>\n",
       "    </tr>\n",
       "    <tr>\n",
       "      <td>3</td>\n",
       "      <td>85</td>\n",
       "      <td>1195</td>\n",
       "      <td>0.071130</td>\n",
       "    </tr>\n",
       "    <tr>\n",
       "      <td>2</td>\n",
       "      <td>63</td>\n",
       "      <td>959</td>\n",
       "      <td>0.065693</td>\n",
       "    </tr>\n",
       "  </tbody>\n",
       "</table>\n",
       "</div>"
      ],
      "text/plain": [
       "                  debt_sum  debt_count     share\n",
       "family_status_id                                \n",
       "4                      274        2810  0.097509\n",
       "1                      388        4150  0.093494\n",
       "0                      931       12339  0.075452\n",
       "3                       85        1195  0.071130\n",
       "2                       63         959  0.065693"
      ]
     },
     "execution_count": 33,
     "metadata": {},
     "output_type": "execute_result"
    }
   ],
   "source": [
    "df_pivot_family_status = df.pivot_table(index='family_status_id', values='debt', aggfunc= ['sum', 'count'])\n",
    "df_pivot_family_status.columns = ['debt_sum', 'debt_count']\n",
    "df_pivot_family_status['share'] = df_pivot_family_status[\"debt_sum\"] / df_pivot_family_status[\"debt_count\"]\n",
    "df_pivot_family_status = df_pivot_family_status.sort_values('share' , ascending = False)\n",
    "df_pivot_family_status"
   ]
  },
  {
   "cell_type": "markdown",
   "id": "d5654a84",
   "metadata": {},
   "source": [
    "##### Вывод 2:"
   ]
  },
  {
   "cell_type": "markdown",
   "id": "3e8595ae",
   "metadata": {},
   "source": [
    "Зависимость между семейным положением и возвратом кредита в срок имеется. Люди не в браке имеют большой процент невозвратов в срок. А те кто развелись или овдовели платят в срок чаще чем люди в браке."
   ]
  },
  {
   "cell_type": "markdown",
   "id": "bc4df7d4",
   "metadata": {},
   "source": [
    "##### Вопрос 3:"
   ]
  },
  {
   "cell_type": "markdown",
   "id": "b8ca6a5f",
   "metadata": {},
   "source": [
    "Есть ли зависимость между уровнем дохода и возвратом кредита в срок?"
   ]
  },
  {
   "cell_type": "code",
   "execution_count": 34,
   "id": "36898732",
   "metadata": {},
   "outputs": [
    {
     "data": {
      "text/html": [
       "<div>\n",
       "<style scoped>\n",
       "    .dataframe tbody tr th:only-of-type {\n",
       "        vertical-align: middle;\n",
       "    }\n",
       "\n",
       "    .dataframe tbody tr th {\n",
       "        vertical-align: top;\n",
       "    }\n",
       "\n",
       "    .dataframe thead th {\n",
       "        text-align: right;\n",
       "    }\n",
       "</style>\n",
       "<table border=\"1\" class=\"dataframe\">\n",
       "  <thead>\n",
       "    <tr style=\"text-align: right;\">\n",
       "      <th></th>\n",
       "      <th>debt_sum</th>\n",
       "      <th>debt_count</th>\n",
       "      <th>share</th>\n",
       "    </tr>\n",
       "    <tr>\n",
       "      <th>total_income_category</th>\n",
       "      <th></th>\n",
       "      <th></th>\n",
       "      <th></th>\n",
       "    </tr>\n",
       "  </thead>\n",
       "  <tbody>\n",
       "    <tr>\n",
       "      <td>E</td>\n",
       "      <td>2</td>\n",
       "      <td>22</td>\n",
       "      <td>0.090909</td>\n",
       "    </tr>\n",
       "    <tr>\n",
       "      <td>C</td>\n",
       "      <td>1360</td>\n",
       "      <td>16015</td>\n",
       "      <td>0.084920</td>\n",
       "    </tr>\n",
       "    <tr>\n",
       "      <td>A</td>\n",
       "      <td>2</td>\n",
       "      <td>25</td>\n",
       "      <td>0.080000</td>\n",
       "    </tr>\n",
       "    <tr>\n",
       "      <td>B</td>\n",
       "      <td>356</td>\n",
       "      <td>5041</td>\n",
       "      <td>0.070621</td>\n",
       "    </tr>\n",
       "    <tr>\n",
       "      <td>D</td>\n",
       "      <td>21</td>\n",
       "      <td>350</td>\n",
       "      <td>0.060000</td>\n",
       "    </tr>\n",
       "  </tbody>\n",
       "</table>\n",
       "</div>"
      ],
      "text/plain": [
       "                       debt_sum  debt_count     share\n",
       "total_income_category                                \n",
       "E                             2          22  0.090909\n",
       "C                          1360       16015  0.084920\n",
       "A                             2          25  0.080000\n",
       "B                           356        5041  0.070621\n",
       "D                            21         350  0.060000"
      ]
     },
     "execution_count": 34,
     "metadata": {},
     "output_type": "execute_result"
    }
   ],
   "source": [
    "df_pivot_income_category = df.pivot_table(index='total_income_category', values='debt', aggfunc= ['sum', 'count'])\n",
    "df_pivot_income_category.columns = ['debt_sum', 'debt_count']\n",
    "df_pivot_income_category['share'] = df_pivot_income_category[\"debt_sum\"] / df_pivot_income_category[\"debt_count\"]\n",
    "df_pivot_income_category = df_pivot_income_category.sort_values('share' , ascending = False)\n",
    "df_pivot_income_category"
   ]
  },
  {
   "cell_type": "markdown",
   "id": "309eca9d",
   "metadata": {},
   "source": [
    "##### Вывод 3:"
   ]
  },
  {
   "cell_type": "markdown",
   "id": "06844ca7",
   "metadata": {},
   "source": [
    "Явной зависимости между уровнем дохода и возвратом кредита в срок не обнаружено. Возможно это связано с разницей в сумме заема, для разных заемщиков с разным уровнем дохода. Чем больше уровень дохода, тем больше берется сумма заема. В итоге долговая нагрузка одинакова."
   ]
  },
  {
   "cell_type": "markdown",
   "id": "5d55f2ce",
   "metadata": {},
   "source": [
    "##### Вопрос 4:"
   ]
  },
  {
   "cell_type": "markdown",
   "id": "32e48db4",
   "metadata": {},
   "source": [
    "Как разные цели кредита влияют на его возврат в срок?"
   ]
  },
  {
   "cell_type": "code",
   "execution_count": 35,
   "id": "c9c5d5eb",
   "metadata": {},
   "outputs": [
    {
     "data": {
      "text/html": [
       "<div>\n",
       "<style scoped>\n",
       "    .dataframe tbody tr th:only-of-type {\n",
       "        vertical-align: middle;\n",
       "    }\n",
       "\n",
       "    .dataframe tbody tr th {\n",
       "        vertical-align: top;\n",
       "    }\n",
       "\n",
       "    .dataframe thead th {\n",
       "        text-align: right;\n",
       "    }\n",
       "</style>\n",
       "<table border=\"1\" class=\"dataframe\">\n",
       "  <thead>\n",
       "    <tr style=\"text-align: right;\">\n",
       "      <th></th>\n",
       "      <th>debt_sum</th>\n",
       "      <th>debt_count</th>\n",
       "      <th>share</th>\n",
       "    </tr>\n",
       "    <tr>\n",
       "      <th>purpose_category</th>\n",
       "      <th></th>\n",
       "      <th></th>\n",
       "      <th></th>\n",
       "    </tr>\n",
       "  </thead>\n",
       "  <tbody>\n",
       "    <tr>\n",
       "      <td>операции с автомобилем</td>\n",
       "      <td>403</td>\n",
       "      <td>4306</td>\n",
       "      <td>0.093590</td>\n",
       "    </tr>\n",
       "    <tr>\n",
       "      <td>получение образования</td>\n",
       "      <td>370</td>\n",
       "      <td>4013</td>\n",
       "      <td>0.092200</td>\n",
       "    </tr>\n",
       "    <tr>\n",
       "      <td>проведение свадьбы</td>\n",
       "      <td>186</td>\n",
       "      <td>2323</td>\n",
       "      <td>0.080069</td>\n",
       "    </tr>\n",
       "    <tr>\n",
       "      <td>операции с недвижимостью</td>\n",
       "      <td>782</td>\n",
       "      <td>10811</td>\n",
       "      <td>0.072334</td>\n",
       "    </tr>\n",
       "  </tbody>\n",
       "</table>\n",
       "</div>"
      ],
      "text/plain": [
       "                          debt_sum  debt_count     share\n",
       "purpose_category                                        \n",
       "операции с автомобилем         403        4306  0.093590\n",
       "получение образования          370        4013  0.092200\n",
       "проведение свадьбы             186        2323  0.080069\n",
       "операции с недвижимостью       782       10811  0.072334"
      ]
     },
     "execution_count": 35,
     "metadata": {},
     "output_type": "execute_result"
    }
   ],
   "source": [
    "df_pivot_purpose_category = df.pivot_table(index='purpose_category', values='debt', aggfunc= ['sum', 'count'])\n",
    "df_pivot_purpose_category.columns = ['debt_sum', 'debt_count']\n",
    "df_pivot_purpose_category['share'] = df_pivot_purpose_category[\"debt_sum\"] / df_pivot_purpose_category[\"debt_count\"]\n",
    "df_pivot_purpose_category = df_pivot_purpose_category.sort_values('share' , ascending = False)\n",
    "df_pivot_purpose_category"
   ]
  },
  {
   "cell_type": "markdown",
   "id": "cfa11ed7",
   "metadata": {},
   "source": [
    "##### Вывод 4:"
   ]
  },
  {
   "cell_type": "markdown",
   "id": "f1daace7",
   "metadata": {},
   "source": [
    "Больше всего процент просрочек у тех, кто берет кредит на автомобили и образование. Ипотечное кредитование остается самым надежным."
   ]
  },
  {
   "cell_type": "markdown",
   "id": "9e35a1a4",
   "metadata": {},
   "source": [
    "## Общий вывод:"
   ]
  },
  {
   "cell_type": "markdown",
   "id": "89e8eb39",
   "metadata": {},
   "source": [
    "Семейный статус влияет на просрочку платежа - люди которые были в браке чаще плятят в срок чем те, кто не бывали в браке, такие люди ответственно подходят к обеспечению своей семьи. Однако, с другой стороны, чем больше детей, тем чаще просрочки платежей - прежде всего это может быть связано с непредвиденными расходами на детей, а также уменьшающимся подушевого дохода рассчитанного на каждого члена семьи."
   ]
  },
  {
   "cell_type": "markdown",
   "id": "e433fd78",
   "metadata": {},
   "source": [
    "Результаты исследования:\n",
    "    \n",
    "1. Были обнаружены пропущенные значения в столбцах 'days_employed' и 'total_income'. Пропуски составляют 10.1% от всей информации в соответствующих столбцах и были заполнены медианными значениями;\n",
    "2. Были обнаружены аномалии:\n",
    "    1. в столбце 'days_employed' большое количество отрицательных значений и выбросов - отрицательные значения были изменены на положительные, а выбросы были предварительно приведены к принятому в расчете значению;\n",
    "    2. Обнаружены аномалии в столбцах 'children', 'dob_years' и 'gender'. Аномалии в столбцах 'children' и 'dob_years' были исправлены.\n",
    "3. Были удалены дубликаты строк, как явные так и неявные.\n",
    "4. Была проведена категоризация потенциальных заемщиков по доходу и цели кредита.\n",
    "5. Были проверены основные предположения о взаимосвязях между характеристиками потенциальных заемщиков и их просрочкой по кредиту на предоставленных данных, по итогу был сделан общий вывод о взаимосвязях:\n",
    "    \n",
    "Семейный статус влияет на просрочку платежа - люди которые были в браке чаще плятят в срок чем те, кто не бывали в браке, такие люди ответственно подходят к обеспечению своей семьи. Однако, с другой стороны, чем больше детей, тем чаще просрочки платежей - прежде всего это может быть связано с непредвиденными расходами на детей, а также уменьшающимся подушевого дохода рассчитанного на каждого члена семьи."
   ]
  }
 ],
 "metadata": {
  "ExecuteTimeLog": [
   {
    "duration": 604,
    "start_time": "2022-02-27T11:28:10.821Z"
   },
   {
    "duration": 52,
    "start_time": "2022-02-27T11:33:22.292Z"
   },
   {
    "duration": 50,
    "start_time": "2022-02-27T11:33:27.724Z"
   },
   {
    "duration": 11,
    "start_time": "2022-02-27T11:33:39.668Z"
   },
   {
    "duration": 262,
    "start_time": "2022-02-27T14:57:56.061Z"
   },
   {
    "duration": 180,
    "start_time": "2022-02-27T14:58:14.291Z"
   },
   {
    "duration": 175,
    "start_time": "2022-02-27T14:58:25.843Z"
   },
   {
    "duration": 173,
    "start_time": "2022-02-27T14:58:33.465Z"
   },
   {
    "duration": 228,
    "start_time": "2022-02-27T14:59:25.533Z"
   },
   {
    "duration": 177,
    "start_time": "2022-02-27T14:59:32.064Z"
   },
   {
    "duration": 242,
    "start_time": "2022-02-27T15:00:08.363Z"
   },
   {
    "duration": 199,
    "start_time": "2022-02-27T15:00:16.243Z"
   },
   {
    "duration": 194,
    "start_time": "2022-02-27T15:00:35.443Z"
   },
   {
    "duration": 212,
    "start_time": "2022-02-27T15:01:21.952Z"
   },
   {
    "duration": 6,
    "start_time": "2022-02-27T15:01:27.139Z"
   },
   {
    "duration": 5,
    "start_time": "2022-02-27T15:04:12.804Z"
   },
   {
    "duration": 5,
    "start_time": "2022-02-27T15:04:32.960Z"
   },
   {
    "duration": 10,
    "start_time": "2022-02-27T15:09:16.288Z"
   },
   {
    "duration": 8,
    "start_time": "2022-02-27T15:09:27.912Z"
   },
   {
    "duration": 9,
    "start_time": "2022-02-27T15:09:43.071Z"
   },
   {
    "duration": 9,
    "start_time": "2022-02-27T15:10:00.024Z"
   },
   {
    "duration": 18,
    "start_time": "2022-02-27T15:10:52.987Z"
   },
   {
    "duration": 10,
    "start_time": "2022-02-27T15:11:55.019Z"
   },
   {
    "duration": 14,
    "start_time": "2022-02-27T15:12:07.235Z"
   },
   {
    "duration": 9,
    "start_time": "2022-02-27T15:12:13.798Z"
   },
   {
    "duration": 5,
    "start_time": "2022-02-27T15:13:37.581Z"
   },
   {
    "duration": 10,
    "start_time": "2022-02-27T15:13:43.669Z"
   },
   {
    "duration": 5,
    "start_time": "2022-02-27T15:22:15.640Z"
   },
   {
    "duration": 6,
    "start_time": "2022-02-27T15:24:53.120Z"
   },
   {
    "duration": 5,
    "start_time": "2022-02-27T15:24:59.204Z"
   },
   {
    "duration": 6,
    "start_time": "2022-02-27T15:25:07.081Z"
   },
   {
    "duration": 6,
    "start_time": "2022-02-27T15:33:26.858Z"
   },
   {
    "duration": 4,
    "start_time": "2022-02-27T15:33:34.955Z"
   },
   {
    "duration": 4,
    "start_time": "2022-02-27T15:33:43.497Z"
   },
   {
    "duration": 250,
    "start_time": "2022-02-27T15:33:54.220Z"
   },
   {
    "duration": 6,
    "start_time": "2022-02-27T15:33:59.478Z"
   },
   {
    "duration": 5,
    "start_time": "2022-02-27T15:34:09.128Z"
   },
   {
    "duration": 5,
    "start_time": "2022-02-27T15:34:31.189Z"
   },
   {
    "duration": 189,
    "start_time": "2022-02-27T15:36:20.038Z"
   },
   {
    "duration": 4,
    "start_time": "2022-02-27T15:36:36.566Z"
   },
   {
    "duration": 4,
    "start_time": "2022-02-27T15:36:45.356Z"
   },
   {
    "duration": 19,
    "start_time": "2022-02-27T15:39:09.311Z"
   },
   {
    "duration": 10,
    "start_time": "2022-02-27T15:39:18.025Z"
   },
   {
    "duration": 5,
    "start_time": "2022-02-27T15:40:15.998Z"
   },
   {
    "duration": 5,
    "start_time": "2022-02-27T15:40:25.698Z"
   },
   {
    "duration": 5,
    "start_time": "2022-02-27T15:41:25.938Z"
   },
   {
    "duration": 10,
    "start_time": "2022-02-27T17:57:51.226Z"
   },
   {
    "duration": 9,
    "start_time": "2022-02-27T17:58:12.535Z"
   },
   {
    "duration": 4,
    "start_time": "2022-02-27T17:58:38.346Z"
   },
   {
    "duration": 2722,
    "start_time": "2022-02-27T17:58:39.835Z"
   },
   {
    "duration": 2371,
    "start_time": "2022-02-27T17:59:07.845Z"
   },
   {
    "duration": 2926,
    "start_time": "2022-02-27T18:00:17.325Z"
   },
   {
    "duration": -485,
    "start_time": "2022-02-27T18:00:20.738Z"
   },
   {
    "duration": 2354,
    "start_time": "2022-02-27T18:06:06.370Z"
   },
   {
    "duration": 56,
    "start_time": "2022-02-27T18:06:17.632Z"
   },
   {
    "duration": 11,
    "start_time": "2022-02-27T18:06:19.314Z"
   },
   {
    "duration": 4,
    "start_time": "2022-02-27T18:06:22.005Z"
   },
   {
    "duration": 3,
    "start_time": "2022-02-27T18:06:22.797Z"
   },
   {
    "duration": 4,
    "start_time": "2022-02-27T18:06:24.777Z"
   },
   {
    "duration": 4,
    "start_time": "2022-02-27T18:06:26.394Z"
   },
   {
    "duration": 5,
    "start_time": "2022-02-27T18:06:27.125Z"
   },
   {
    "duration": 4,
    "start_time": "2022-02-27T18:06:48.378Z"
   },
   {
    "duration": 4,
    "start_time": "2022-02-27T18:06:49.006Z"
   },
   {
    "duration": 5,
    "start_time": "2022-02-27T18:07:56.081Z"
   },
   {
    "duration": 5,
    "start_time": "2022-02-27T18:08:03.398Z"
   },
   {
    "duration": 4,
    "start_time": "2022-02-27T18:08:10.397Z"
   },
   {
    "duration": 3,
    "start_time": "2022-02-27T18:08:10.825Z"
   },
   {
    "duration": 12,
    "start_time": "2022-02-27T18:08:33.721Z"
   },
   {
    "duration": 5,
    "start_time": "2022-02-27T18:08:53.703Z"
   },
   {
    "duration": 23,
    "start_time": "2022-02-27T18:12:04.178Z"
   },
   {
    "duration": 13,
    "start_time": "2022-02-27T18:12:36.939Z"
   },
   {
    "duration": 1226,
    "start_time": "2022-02-27T18:12:43.159Z"
   },
   {
    "duration": 5,
    "start_time": "2022-02-27T18:13:05.278Z"
   },
   {
    "duration": 11,
    "start_time": "2022-02-27T18:13:17.349Z"
   },
   {
    "duration": 5,
    "start_time": "2022-02-27T18:13:25.789Z"
   },
   {
    "duration": 5,
    "start_time": "2022-02-27T18:13:48.549Z"
   },
   {
    "duration": 61,
    "start_time": "2022-02-27T18:21:29.633Z"
   },
   {
    "duration": 56,
    "start_time": "2022-02-27T18:21:49.693Z"
   },
   {
    "duration": 5,
    "start_time": "2022-02-27T18:22:10.482Z"
   },
   {
    "duration": 172,
    "start_time": "2022-02-27T18:22:37.172Z"
   },
   {
    "duration": 11,
    "start_time": "2022-02-27T18:22:45.532Z"
   },
   {
    "duration": 5,
    "start_time": "2022-02-27T18:23:04.618Z"
   },
   {
    "duration": 6,
    "start_time": "2022-02-27T18:23:11.700Z"
   },
   {
    "duration": 5,
    "start_time": "2022-02-27T18:23:46.370Z"
   },
   {
    "duration": 5,
    "start_time": "2022-02-27T18:23:57.932Z"
   },
   {
    "duration": 5,
    "start_time": "2022-02-27T18:24:02.341Z"
   },
   {
    "duration": 8,
    "start_time": "2022-02-27T18:24:15.819Z"
   },
   {
    "duration": 49,
    "start_time": "2022-02-27T18:24:20.861Z"
   },
   {
    "duration": 11,
    "start_time": "2022-02-27T18:24:23.405Z"
   },
   {
    "duration": 5,
    "start_time": "2022-02-27T18:24:24.340Z"
   },
   {
    "duration": 6,
    "start_time": "2022-02-27T18:24:24.531Z"
   },
   {
    "duration": 5,
    "start_time": "2022-02-27T18:24:24.734Z"
   },
   {
    "duration": 3,
    "start_time": "2022-02-27T18:24:24.928Z"
   },
   {
    "duration": 3,
    "start_time": "2022-02-27T18:24:25.352Z"
   },
   {
    "duration": 10,
    "start_time": "2022-02-27T18:24:25.882Z"
   },
   {
    "duration": 23,
    "start_time": "2022-02-27T18:24:31.370Z"
   },
   {
    "duration": 6,
    "start_time": "2022-02-27T18:24:42.353Z"
   },
   {
    "duration": 107,
    "start_time": "2022-02-27T18:24:47.892Z"
   },
   {
    "duration": 5,
    "start_time": "2022-02-27T18:24:52.912Z"
   },
   {
    "duration": 6,
    "start_time": "2022-02-27T18:25:45.602Z"
   },
   {
    "duration": 13,
    "start_time": "2022-02-27T18:26:15.292Z"
   },
   {
    "duration": 17,
    "start_time": "2022-02-27T18:26:22.712Z"
   },
   {
    "duration": 60,
    "start_time": "2022-02-27T18:26:27.603Z"
   },
   {
    "duration": 11,
    "start_time": "2022-02-27T18:26:28.252Z"
   },
   {
    "duration": 5,
    "start_time": "2022-02-27T18:26:28.822Z"
   },
   {
    "duration": 5,
    "start_time": "2022-02-27T18:26:30.443Z"
   },
   {
    "duration": 6,
    "start_time": "2022-02-27T18:26:30.643Z"
   },
   {
    "duration": 4,
    "start_time": "2022-02-27T18:26:30.852Z"
   },
   {
    "duration": 4,
    "start_time": "2022-02-27T18:26:31.262Z"
   },
   {
    "duration": 10,
    "start_time": "2022-02-27T18:26:31.474Z"
   },
   {
    "duration": 16,
    "start_time": "2022-02-27T18:26:35.195Z"
   },
   {
    "duration": 53,
    "start_time": "2022-02-27T18:26:42.721Z"
   },
   {
    "duration": 30,
    "start_time": "2022-02-27T18:26:47.202Z"
   },
   {
    "duration": 60,
    "start_time": "2022-02-27T18:28:37.772Z"
   },
   {
    "duration": 21,
    "start_time": "2022-02-27T18:28:41.893Z"
   },
   {
    "duration": 56,
    "start_time": "2022-02-27T18:28:46.592Z"
   },
   {
    "duration": 10,
    "start_time": "2022-02-27T18:28:47.000Z"
   },
   {
    "duration": 4,
    "start_time": "2022-02-27T18:28:47.342Z"
   },
   {
    "duration": 5,
    "start_time": "2022-02-27T18:28:47.532Z"
   },
   {
    "duration": 6,
    "start_time": "2022-02-27T18:28:47.782Z"
   },
   {
    "duration": 3,
    "start_time": "2022-02-27T18:28:47.992Z"
   },
   {
    "duration": 4,
    "start_time": "2022-02-27T18:28:48.160Z"
   },
   {
    "duration": 11,
    "start_time": "2022-02-27T18:28:49.853Z"
   },
   {
    "duration": 9,
    "start_time": "2022-02-27T18:28:55.932Z"
   },
   {
    "duration": 20,
    "start_time": "2022-02-27T18:29:04.362Z"
   },
   {
    "duration": 7,
    "start_time": "2022-02-27T18:30:24.792Z"
   },
   {
    "duration": 6,
    "start_time": "2022-02-27T18:30:33.602Z"
   },
   {
    "duration": 8,
    "start_time": "2022-02-27T18:30:40.722Z"
   },
   {
    "duration": 582,
    "start_time": "2022-03-06T13:52:46.246Z"
   },
   {
    "duration": 11,
    "start_time": "2022-03-06T13:54:28.320Z"
   },
   {
    "duration": 4,
    "start_time": "2022-03-06T14:16:51.275Z"
   },
   {
    "duration": 4,
    "start_time": "2022-03-06T14:16:59.397Z"
   },
   {
    "duration": 4,
    "start_time": "2022-03-06T14:19:28.174Z"
   },
   {
    "duration": 6,
    "start_time": "2022-03-06T14:19:39.802Z"
   },
   {
    "duration": 5,
    "start_time": "2022-03-06T14:22:25.375Z"
   },
   {
    "duration": 5,
    "start_time": "2022-03-06T14:22:36.908Z"
   },
   {
    "duration": 6,
    "start_time": "2022-03-06T14:23:01.332Z"
   },
   {
    "duration": 6,
    "start_time": "2022-03-06T14:34:04.298Z"
   },
   {
    "duration": 9,
    "start_time": "2022-03-06T14:34:17.271Z"
   },
   {
    "duration": 8,
    "start_time": "2022-03-06T14:34:21.451Z"
   },
   {
    "duration": 10,
    "start_time": "2022-03-06T14:34:22.980Z"
   },
   {
    "duration": 8,
    "start_time": "2022-03-06T14:36:14.964Z"
   },
   {
    "duration": 7,
    "start_time": "2022-03-06T14:36:46.712Z"
   },
   {
    "duration": 7,
    "start_time": "2022-03-06T14:38:35.389Z"
   },
   {
    "duration": 8,
    "start_time": "2022-03-06T14:40:35.012Z"
   },
   {
    "duration": 10,
    "start_time": "2022-03-06T14:40:56.857Z"
   },
   {
    "duration": 7,
    "start_time": "2022-03-06T14:48:45.474Z"
   },
   {
    "duration": 8,
    "start_time": "2022-03-06T14:50:33.128Z"
   },
   {
    "duration": 8,
    "start_time": "2022-03-06T14:51:10.102Z"
   },
   {
    "duration": 9,
    "start_time": "2022-03-06T14:51:19.705Z"
   },
   {
    "duration": 20,
    "start_time": "2022-03-06T14:51:37.927Z"
   },
   {
    "duration": 6,
    "start_time": "2022-03-06T14:51:51.806Z"
   },
   {
    "duration": 768,
    "start_time": "2022-03-06T14:52:01.816Z"
   },
   {
    "duration": 5,
    "start_time": "2022-03-06T14:55:58.515Z"
   },
   {
    "duration": 54,
    "start_time": "2022-03-06T14:56:08.318Z"
   },
   {
    "duration": 13,
    "start_time": "2022-03-06T14:56:08.906Z"
   },
   {
    "duration": 4,
    "start_time": "2022-03-06T14:56:12.111Z"
   },
   {
    "duration": 7,
    "start_time": "2022-03-06T14:56:15.614Z"
   },
   {
    "duration": 10,
    "start_time": "2022-03-06T14:56:16.577Z"
   },
   {
    "duration": 7,
    "start_time": "2022-03-06T14:56:19.549Z"
   },
   {
    "duration": 3,
    "start_time": "2022-03-06T15:16:23.297Z"
   },
   {
    "duration": 4,
    "start_time": "2022-03-06T15:16:29.095Z"
   },
   {
    "duration": 6,
    "start_time": "2022-03-06T15:16:37.167Z"
   },
   {
    "duration": 21,
    "start_time": "2022-03-06T15:22:41.130Z"
   },
   {
    "duration": 6,
    "start_time": "2022-03-06T15:25:47.216Z"
   },
   {
    "duration": 6,
    "start_time": "2022-03-06T15:25:55.348Z"
   },
   {
    "duration": 6,
    "start_time": "2022-03-06T15:26:00.285Z"
   },
   {
    "duration": 6,
    "start_time": "2022-03-06T15:26:39.536Z"
   },
   {
    "duration": 54,
    "start_time": "2022-03-06T15:26:58.261Z"
   },
   {
    "duration": 10,
    "start_time": "2022-03-06T15:26:58.467Z"
   },
   {
    "duration": 5,
    "start_time": "2022-03-06T15:26:58.895Z"
   },
   {
    "duration": 7,
    "start_time": "2022-03-06T15:26:59.358Z"
   },
   {
    "duration": 10,
    "start_time": "2022-03-06T15:26:59.635Z"
   },
   {
    "duration": 7,
    "start_time": "2022-03-06T15:27:01.505Z"
   },
   {
    "duration": 13,
    "start_time": "2022-03-06T15:27:27.070Z"
   },
   {
    "duration": 14,
    "start_time": "2022-03-06T15:28:20.387Z"
   },
   {
    "duration": 4,
    "start_time": "2022-03-06T15:28:27.832Z"
   },
   {
    "duration": 15,
    "start_time": "2022-03-06T15:28:46.225Z"
   },
   {
    "duration": 20,
    "start_time": "2022-03-06T15:28:54.193Z"
   },
   {
    "duration": 64,
    "start_time": "2022-03-06T15:29:14.965Z"
   },
   {
    "duration": 9,
    "start_time": "2022-03-06T15:29:15.488Z"
   },
   {
    "duration": 5,
    "start_time": "2022-03-06T15:29:15.904Z"
   },
   {
    "duration": 7,
    "start_time": "2022-03-06T15:29:18.167Z"
   },
   {
    "duration": 11,
    "start_time": "2022-03-06T15:29:18.385Z"
   },
   {
    "duration": 22,
    "start_time": "2022-03-06T15:29:21.125Z"
   },
   {
    "duration": 4,
    "start_time": "2022-03-06T15:29:27.469Z"
   },
   {
    "duration": 4,
    "start_time": "2022-03-06T15:29:34.676Z"
   },
   {
    "duration": 5,
    "start_time": "2022-03-06T15:29:48.149Z"
   },
   {
    "duration": 4,
    "start_time": "2022-03-06T15:30:28.440Z"
   },
   {
    "duration": 6,
    "start_time": "2022-03-06T15:30:33.608Z"
   },
   {
    "duration": 5,
    "start_time": "2022-03-06T15:30:54.826Z"
   },
   {
    "duration": 20,
    "start_time": "2022-03-06T15:31:52.889Z"
   },
   {
    "duration": 14,
    "start_time": "2022-03-06T15:31:59.545Z"
   },
   {
    "duration": 15,
    "start_time": "2022-03-06T15:32:06.108Z"
   },
   {
    "duration": 53,
    "start_time": "2022-03-06T15:32:13.893Z"
   },
   {
    "duration": 10,
    "start_time": "2022-03-06T15:32:15.426Z"
   },
   {
    "duration": 5,
    "start_time": "2022-03-06T15:32:16.358Z"
   },
   {
    "duration": 7,
    "start_time": "2022-03-06T15:32:17.305Z"
   },
   {
    "duration": 10,
    "start_time": "2022-03-06T15:32:19.452Z"
   },
   {
    "duration": 14,
    "start_time": "2022-03-06T15:32:30.410Z"
   },
   {
    "duration": 5,
    "start_time": "2022-03-06T15:33:44.346Z"
   },
   {
    "duration": 13,
    "start_time": "2022-03-06T15:35:00.116Z"
   },
   {
    "duration": 13,
    "start_time": "2022-03-06T15:35:08.567Z"
   },
   {
    "duration": 4,
    "start_time": "2022-03-06T15:35:32.726Z"
   },
   {
    "duration": 4,
    "start_time": "2022-03-06T15:35:53.035Z"
   },
   {
    "duration": 6,
    "start_time": "2022-03-06T15:36:33.127Z"
   },
   {
    "duration": 5,
    "start_time": "2022-03-06T15:36:57.146Z"
   },
   {
    "duration": 4,
    "start_time": "2022-03-06T15:38:50.036Z"
   },
   {
    "duration": 6,
    "start_time": "2022-03-06T15:40:42.365Z"
   },
   {
    "duration": 13,
    "start_time": "2022-03-06T15:43:26.874Z"
   },
   {
    "duration": 5,
    "start_time": "2022-03-06T15:43:37.314Z"
   },
   {
    "duration": 342,
    "start_time": "2022-03-06T15:56:46.961Z"
   },
   {
    "duration": 5,
    "start_time": "2022-03-06T16:06:57.607Z"
   },
   {
    "duration": 15,
    "start_time": "2022-03-06T16:07:05.377Z"
   },
   {
    "duration": 4,
    "start_time": "2022-03-06T16:08:01.750Z"
   },
   {
    "duration": 296,
    "start_time": "2022-03-06T16:08:58.895Z"
   },
   {
    "duration": 17,
    "start_time": "2022-03-06T16:09:19.938Z"
   },
   {
    "duration": 27,
    "start_time": "2022-03-06T16:10:43.039Z"
   },
   {
    "duration": 11,
    "start_time": "2022-03-06T16:11:51.386Z"
   },
   {
    "duration": 18,
    "start_time": "2022-03-06T16:12:07.800Z"
   },
   {
    "duration": 28,
    "start_time": "2022-03-06T16:12:09.938Z"
   },
   {
    "duration": 14,
    "start_time": "2022-03-06T16:14:32.945Z"
   },
   {
    "duration": 5,
    "start_time": "2022-03-06T16:14:33.576Z"
   },
   {
    "duration": 3,
    "start_time": "2022-03-06T16:14:34.463Z"
   },
   {
    "duration": 30,
    "start_time": "2022-03-06T16:14:39.820Z"
   },
   {
    "duration": 98,
    "start_time": "2022-03-06T16:27:48.717Z"
   },
   {
    "duration": 104,
    "start_time": "2022-03-06T16:28:00.475Z"
   },
   {
    "duration": 4,
    "start_time": "2022-03-06T16:28:08.406Z"
   },
   {
    "duration": 6,
    "start_time": "2022-03-06T16:28:43.354Z"
   },
   {
    "duration": 5,
    "start_time": "2022-03-06T16:29:39.415Z"
   },
   {
    "duration": 5,
    "start_time": "2022-03-06T16:29:40.216Z"
   },
   {
    "duration": 5,
    "start_time": "2022-03-06T16:29:40.645Z"
   },
   {
    "duration": 5,
    "start_time": "2022-03-06T16:29:41.124Z"
   },
   {
    "duration": 4,
    "start_time": "2022-03-06T16:33:57.176Z"
   },
   {
    "duration": 5,
    "start_time": "2022-03-06T16:34:46.915Z"
   },
   {
    "duration": 29,
    "start_time": "2022-03-06T16:34:58.145Z"
   },
   {
    "duration": 4,
    "start_time": "2022-03-06T16:34:58.586Z"
   },
   {
    "duration": 5,
    "start_time": "2022-03-06T16:34:58.780Z"
   },
   {
    "duration": 5,
    "start_time": "2022-03-06T16:34:58.997Z"
   },
   {
    "duration": 4,
    "start_time": "2022-03-06T16:34:59.206Z"
   },
   {
    "duration": 6,
    "start_time": "2022-03-06T16:34:59.427Z"
   },
   {
    "duration": 6,
    "start_time": "2022-03-06T16:35:00.105Z"
   },
   {
    "duration": 7,
    "start_time": "2022-03-06T16:41:03.197Z"
   },
   {
    "duration": 5,
    "start_time": "2022-03-06T16:41:14.330Z"
   },
   {
    "duration": 6,
    "start_time": "2022-03-06T16:41:28.765Z"
   },
   {
    "duration": 7,
    "start_time": "2022-03-06T16:41:29.375Z"
   },
   {
    "duration": 5,
    "start_time": "2022-03-06T16:41:30.361Z"
   },
   {
    "duration": 6,
    "start_time": "2022-03-06T16:41:31.185Z"
   },
   {
    "duration": 5,
    "start_time": "2022-03-06T16:41:39.973Z"
   },
   {
    "duration": 7,
    "start_time": "2022-03-06T16:41:44.556Z"
   },
   {
    "duration": 10,
    "start_time": "2022-03-06T16:44:42.783Z"
   },
   {
    "duration": 17,
    "start_time": "2022-03-06T16:45:37.658Z"
   },
   {
    "duration": 8,
    "start_time": "2022-03-06T16:49:26.343Z"
   },
   {
    "duration": 297,
    "start_time": "2022-03-06T16:49:46.373Z"
   },
   {
    "duration": 7,
    "start_time": "2022-03-06T16:49:51.697Z"
   },
   {
    "duration": 7,
    "start_time": "2022-03-06T16:50:37.231Z"
   },
   {
    "duration": 7,
    "start_time": "2022-03-06T16:50:38.623Z"
   },
   {
    "duration": 9,
    "start_time": "2022-03-06T16:50:39.061Z"
   },
   {
    "duration": 7,
    "start_time": "2022-03-06T16:50:39.565Z"
   },
   {
    "duration": 53,
    "start_time": "2022-03-06T16:50:56.267Z"
   },
   {
    "duration": 53,
    "start_time": "2022-03-06T16:51:01.457Z"
   },
   {
    "duration": 10,
    "start_time": "2022-03-06T16:51:01.681Z"
   },
   {
    "duration": 6,
    "start_time": "2022-03-06T16:51:02.102Z"
   },
   {
    "duration": 8,
    "start_time": "2022-03-06T16:51:02.560Z"
   },
   {
    "duration": 9,
    "start_time": "2022-03-06T16:51:03.045Z"
   },
   {
    "duration": 12,
    "start_time": "2022-03-06T16:51:04.179Z"
   },
   {
    "duration": 5,
    "start_time": "2022-03-06T16:51:05.252Z"
   },
   {
    "duration": 4,
    "start_time": "2022-03-06T16:51:08.545Z"
   },
   {
    "duration": 28,
    "start_time": "2022-03-06T16:51:09.827Z"
   },
   {
    "duration": 6,
    "start_time": "2022-03-06T16:51:12.226Z"
   },
   {
    "duration": 7,
    "start_time": "2022-03-06T16:51:15.104Z"
   },
   {
    "duration": 7,
    "start_time": "2022-03-06T16:51:17.446Z"
   },
   {
    "duration": 7,
    "start_time": "2022-03-06T16:51:20.479Z"
   },
   {
    "duration": 8,
    "start_time": "2022-03-06T16:51:23.445Z"
   },
   {
    "duration": 17,
    "start_time": "2022-03-06T16:51:30.186Z"
   },
   {
    "duration": 30,
    "start_time": "2022-03-06T16:52:02.976Z"
   },
   {
    "duration": 37,
    "start_time": "2022-03-06T16:52:10.393Z"
   },
   {
    "duration": 25,
    "start_time": "2022-03-06T16:53:16.489Z"
   },
   {
    "duration": 64,
    "start_time": "2022-03-06T16:53:29.343Z"
   },
   {
    "duration": 12,
    "start_time": "2022-03-06T16:53:29.514Z"
   },
   {
    "duration": 5,
    "start_time": "2022-03-06T16:53:29.890Z"
   },
   {
    "duration": 8,
    "start_time": "2022-03-06T16:53:30.250Z"
   },
   {
    "duration": 10,
    "start_time": "2022-03-06T16:53:30.444Z"
   },
   {
    "duration": 13,
    "start_time": "2022-03-06T16:53:30.986Z"
   },
   {
    "duration": 5,
    "start_time": "2022-03-06T16:53:32.577Z"
   },
   {
    "duration": 4,
    "start_time": "2022-03-06T16:53:33.636Z"
   },
   {
    "duration": 27,
    "start_time": "2022-03-06T16:53:36.616Z"
   },
   {
    "duration": 7,
    "start_time": "2022-03-06T16:53:37.557Z"
   },
   {
    "duration": 7,
    "start_time": "2022-03-06T16:53:41.209Z"
   },
   {
    "duration": 7,
    "start_time": "2022-03-06T16:53:45.436Z"
   },
   {
    "duration": 7,
    "start_time": "2022-03-06T16:53:45.983Z"
   },
   {
    "duration": 7,
    "start_time": "2022-03-06T16:53:46.318Z"
   },
   {
    "duration": 7,
    "start_time": "2022-03-06T16:53:57.106Z"
   },
   {
    "duration": 27,
    "start_time": "2022-03-06T16:53:59.396Z"
   },
   {
    "duration": 4,
    "start_time": "2022-03-06T17:04:43.585Z"
   },
   {
    "duration": 10,
    "start_time": "2022-03-06T17:04:49.276Z"
   },
   {
    "duration": 12,
    "start_time": "2022-03-06T17:05:00.798Z"
   },
   {
    "duration": 5,
    "start_time": "2022-03-06T17:05:41.796Z"
   },
   {
    "duration": 9,
    "start_time": "2022-03-06T17:05:42.423Z"
   },
   {
    "duration": 8,
    "start_time": "2022-03-06T17:05:43.047Z"
   },
   {
    "duration": 11,
    "start_time": "2022-03-06T17:07:47.457Z"
   },
   {
    "duration": 5,
    "start_time": "2022-03-06T17:07:48.058Z"
   },
   {
    "duration": 6,
    "start_time": "2022-03-06T17:07:48.886Z"
   },
   {
    "duration": 12,
    "start_time": "2022-03-06T17:09:19.497Z"
   },
   {
    "duration": 6,
    "start_time": "2022-03-06T17:09:19.957Z"
   },
   {
    "duration": 5,
    "start_time": "2022-03-06T17:09:20.798Z"
   },
   {
    "duration": 12,
    "start_time": "2022-03-06T17:14:37.354Z"
   },
   {
    "duration": 300,
    "start_time": "2022-03-06T17:37:53.037Z"
   },
   {
    "duration": 19,
    "start_time": "2022-03-06T17:38:20.147Z"
   },
   {
    "duration": 29,
    "start_time": "2022-03-06T17:42:35.824Z"
   },
   {
    "duration": 101,
    "start_time": "2022-03-06T17:42:41.462Z"
   },
   {
    "duration": 7484,
    "start_time": "2022-03-06T17:42:42.286Z"
   },
   {
    "duration": 7,
    "start_time": "2022-03-06T17:42:56.982Z"
   },
   {
    "duration": 109,
    "start_time": "2022-03-06T18:15:00.706Z"
   },
   {
    "duration": 235,
    "start_time": "2022-03-06T18:15:42.009Z"
   },
   {
    "duration": 145,
    "start_time": "2022-03-06T18:18:19.140Z"
   },
   {
    "duration": 134,
    "start_time": "2022-03-06T18:19:45.469Z"
   },
   {
    "duration": 171,
    "start_time": "2022-03-06T18:20:02.707Z"
   },
   {
    "duration": 136,
    "start_time": "2022-03-06T18:20:16.300Z"
   },
   {
    "duration": 5,
    "start_time": "2022-03-06T18:20:32.849Z"
   },
   {
    "duration": 108,
    "start_time": "2022-03-06T18:20:39.913Z"
   },
   {
    "duration": 107,
    "start_time": "2022-03-06T18:21:05.660Z"
   },
   {
    "duration": 71,
    "start_time": "2022-03-06T18:21:36.119Z"
   },
   {
    "duration": 12,
    "start_time": "2022-03-06T18:21:36.417Z"
   },
   {
    "duration": 5,
    "start_time": "2022-03-06T18:21:37.529Z"
   },
   {
    "duration": 7,
    "start_time": "2022-03-06T18:21:37.929Z"
   },
   {
    "duration": 11,
    "start_time": "2022-03-06T18:21:38.168Z"
   },
   {
    "duration": 15,
    "start_time": "2022-03-06T18:21:38.811Z"
   },
   {
    "duration": 5,
    "start_time": "2022-03-06T18:21:39.262Z"
   },
   {
    "duration": 4,
    "start_time": "2022-03-06T18:21:41.819Z"
   },
   {
    "duration": 32,
    "start_time": "2022-03-06T18:21:42.988Z"
   },
   {
    "duration": 6,
    "start_time": "2022-03-06T18:21:43.779Z"
   },
   {
    "duration": 10,
    "start_time": "2022-03-06T18:21:44.309Z"
   },
   {
    "duration": 7,
    "start_time": "2022-03-06T18:21:44.658Z"
   },
   {
    "duration": 6,
    "start_time": "2022-03-06T18:21:46.777Z"
   },
   {
    "duration": 27,
    "start_time": "2022-03-06T18:21:48.216Z"
   },
   {
    "duration": 8,
    "start_time": "2022-03-06T18:21:57.309Z"
   },
   {
    "duration": 28,
    "start_time": "2022-03-06T18:21:58.248Z"
   },
   {
    "duration": 11,
    "start_time": "2022-03-06T18:21:59.859Z"
   },
   {
    "duration": 8,
    "start_time": "2022-03-06T18:22:01.409Z"
   },
   {
    "duration": 6,
    "start_time": "2022-03-06T18:22:01.569Z"
   },
   {
    "duration": 15,
    "start_time": "2022-03-06T18:22:02.007Z"
   },
   {
    "duration": 27,
    "start_time": "2022-03-06T18:22:05.592Z"
   },
   {
    "duration": 7,
    "start_time": "2022-03-06T18:22:08.768Z"
   },
   {
    "duration": 105,
    "start_time": "2022-03-06T18:22:11.530Z"
   },
   {
    "duration": 132,
    "start_time": "2022-03-06T18:24:17.580Z"
   },
   {
    "duration": 1387,
    "start_time": "2022-03-06T18:24:56.088Z"
   },
   {
    "duration": 1382,
    "start_time": "2022-03-06T18:27:12.141Z"
   },
   {
    "duration": 1595,
    "start_time": "2022-03-06T18:27:20.409Z"
   },
   {
    "duration": 1395,
    "start_time": "2022-03-06T18:27:37.930Z"
   },
   {
    "duration": 5,
    "start_time": "2022-03-06T18:32:59.050Z"
   },
   {
    "duration": 5,
    "start_time": "2022-03-06T18:33:20.930Z"
   },
   {
    "duration": 6,
    "start_time": "2022-03-06T18:33:47.051Z"
   },
   {
    "duration": 5,
    "start_time": "2022-03-06T18:33:59.227Z"
   },
   {
    "duration": 4,
    "start_time": "2022-03-06T18:34:20.556Z"
   },
   {
    "duration": 1526,
    "start_time": "2022-03-06T18:34:21.419Z"
   },
   {
    "duration": 303,
    "start_time": "2022-03-06T18:34:47.023Z"
   },
   {
    "duration": 500,
    "start_time": "2022-03-06T18:34:52.938Z"
   },
   {
    "duration": 3053,
    "start_time": "2022-03-06T18:35:07.028Z"
   },
   {
    "duration": 738,
    "start_time": "2022-03-06T18:35:25.619Z"
   },
   {
    "duration": 1041,
    "start_time": "2022-03-06T18:35:45.832Z"
   },
   {
    "duration": 967,
    "start_time": "2022-03-06T18:36:04.034Z"
   },
   {
    "duration": 1198,
    "start_time": "2022-03-06T18:36:09.380Z"
   },
   {
    "duration": 875,
    "start_time": "2022-03-06T18:36:25.385Z"
   },
   {
    "duration": 5,
    "start_time": "2022-03-06T18:36:38.967Z"
   },
   {
    "duration": 6,
    "start_time": "2022-03-06T18:37:01.220Z"
   },
   {
    "duration": 493,
    "start_time": "2022-03-06T18:37:08.601Z"
   },
   {
    "duration": 6,
    "start_time": "2022-03-06T18:37:21.556Z"
   },
   {
    "duration": 5,
    "start_time": "2022-03-06T18:37:41.356Z"
   },
   {
    "duration": 514,
    "start_time": "2022-03-06T18:37:51.903Z"
   },
   {
    "duration": 7,
    "start_time": "2022-03-06T18:38:07.611Z"
   },
   {
    "duration": 34,
    "start_time": "2022-03-06T18:38:13.486Z"
   },
   {
    "duration": 39,
    "start_time": "2022-03-06T18:38:27.501Z"
   },
   {
    "duration": 303,
    "start_time": "2022-03-06T19:33:47.392Z"
   },
   {
    "duration": 306,
    "start_time": "2022-03-06T19:34:05.661Z"
   },
   {
    "duration": 5,
    "start_time": "2022-03-06T19:36:03.261Z"
   },
   {
    "duration": 6,
    "start_time": "2022-03-06T19:40:16.981Z"
   },
   {
    "duration": 42,
    "start_time": "2022-03-06T19:40:25.468Z"
   },
   {
    "duration": -201,
    "start_time": "2022-03-06T19:40:37.312Z"
   },
   {
    "duration": -202,
    "start_time": "2022-03-06T19:40:37.314Z"
   },
   {
    "duration": -204,
    "start_time": "2022-03-06T19:40:37.317Z"
   },
   {
    "duration": -208,
    "start_time": "2022-03-06T19:40:37.322Z"
   },
   {
    "duration": -230,
    "start_time": "2022-03-06T19:40:37.345Z"
   },
   {
    "duration": -235,
    "start_time": "2022-03-06T19:40:37.351Z"
   },
   {
    "duration": -240,
    "start_time": "2022-03-06T19:40:37.356Z"
   },
   {
    "duration": -240,
    "start_time": "2022-03-06T19:40:37.357Z"
   },
   {
    "duration": -267,
    "start_time": "2022-03-06T19:40:37.385Z"
   },
   {
    "duration": -270,
    "start_time": "2022-03-06T19:40:37.389Z"
   },
   {
    "duration": -271,
    "start_time": "2022-03-06T19:40:37.391Z"
   },
   {
    "duration": -272,
    "start_time": "2022-03-06T19:40:37.393Z"
   },
   {
    "duration": 7,
    "start_time": "2022-03-06T19:40:37.308Z"
   },
   {
    "duration": 11490,
    "start_time": "2022-03-06T19:40:43.843Z"
   },
   {
    "duration": 670,
    "start_time": "2022-03-06T19:41:03.233Z"
   },
   {
    "duration": 16,
    "start_time": "2022-03-06T19:41:03.906Z"
   },
   {
    "duration": 23,
    "start_time": "2022-03-06T19:41:03.924Z"
   },
   {
    "duration": 21,
    "start_time": "2022-03-06T19:41:03.950Z"
   },
   {
    "duration": 17,
    "start_time": "2022-03-06T19:41:03.973Z"
   },
   {
    "duration": 28,
    "start_time": "2022-03-06T19:41:03.992Z"
   },
   {
    "duration": 20,
    "start_time": "2022-03-06T19:41:04.021Z"
   },
   {
    "duration": 20,
    "start_time": "2022-03-06T19:41:04.043Z"
   },
   {
    "duration": 60,
    "start_time": "2022-03-06T19:41:04.065Z"
   },
   {
    "duration": 10,
    "start_time": "2022-03-06T19:41:04.127Z"
   },
   {
    "duration": 18,
    "start_time": "2022-03-06T19:41:04.139Z"
   },
   {
    "duration": 9,
    "start_time": "2022-03-06T19:41:04.159Z"
   },
   {
    "duration": 37,
    "start_time": "2022-03-06T19:41:04.170Z"
   },
   {
    "duration": 15,
    "start_time": "2022-03-06T19:41:04.208Z"
   },
   {
    "duration": 15,
    "start_time": "2022-03-06T19:41:04.225Z"
   },
   {
    "duration": 19,
    "start_time": "2022-03-06T19:41:04.242Z"
   },
   {
    "duration": 24,
    "start_time": "2022-03-06T19:41:04.263Z"
   },
   {
    "duration": 35,
    "start_time": "2022-03-06T19:41:04.288Z"
   },
   {
    "duration": 13,
    "start_time": "2022-03-06T19:41:04.326Z"
   },
   {
    "duration": 37,
    "start_time": "2022-03-06T19:41:04.340Z"
   },
   {
    "duration": 390,
    "start_time": "2022-03-06T19:41:04.378Z"
   },
   {
    "duration": -102,
    "start_time": "2022-03-06T19:41:04.872Z"
   },
   {
    "duration": 5,
    "start_time": "2022-03-06T19:47:26.800Z"
   },
   {
    "duration": 6,
    "start_time": "2022-03-06T19:48:06.560Z"
   },
   {
    "duration": 6,
    "start_time": "2022-03-06T19:49:11.758Z"
   },
   {
    "duration": 16,
    "start_time": "2022-03-06T19:51:32.552Z"
   },
   {
    "duration": 54,
    "start_time": "2022-03-06T19:51:44.524Z"
   },
   {
    "duration": 9,
    "start_time": "2022-03-06T19:51:45.151Z"
   },
   {
    "duration": 5,
    "start_time": "2022-03-06T19:51:46.052Z"
   },
   {
    "duration": 7,
    "start_time": "2022-03-06T19:51:46.828Z"
   },
   {
    "duration": 10,
    "start_time": "2022-03-06T19:51:47.267Z"
   },
   {
    "duration": 15,
    "start_time": "2022-03-06T19:51:50.412Z"
   },
   {
    "duration": 13,
    "start_time": "2022-03-06T19:52:58.446Z"
   },
   {
    "duration": 615,
    "start_time": "2022-03-06T19:53:54.414Z"
   },
   {
    "duration": 9,
    "start_time": "2022-03-06T19:53:55.031Z"
   },
   {
    "duration": 5,
    "start_time": "2022-03-06T19:53:55.042Z"
   },
   {
    "duration": 7,
    "start_time": "2022-03-06T19:53:55.048Z"
   },
   {
    "duration": 15,
    "start_time": "2022-03-06T19:53:55.056Z"
   },
   {
    "duration": 15,
    "start_time": "2022-03-06T19:53:55.072Z"
   },
   {
    "duration": 4,
    "start_time": "2022-03-06T19:53:55.101Z"
   },
   {
    "duration": 13,
    "start_time": "2022-03-06T19:53:55.107Z"
   },
   {
    "duration": 28,
    "start_time": "2022-03-06T19:53:55.123Z"
   },
   {
    "duration": 8,
    "start_time": "2022-03-06T19:53:55.153Z"
   },
   {
    "duration": 10,
    "start_time": "2022-03-06T19:53:55.162Z"
   },
   {
    "duration": 29,
    "start_time": "2022-03-06T19:53:55.174Z"
   },
   {
    "duration": 10,
    "start_time": "2022-03-06T19:53:55.205Z"
   },
   {
    "duration": 19,
    "start_time": "2022-03-06T19:53:55.217Z"
   },
   {
    "duration": 9,
    "start_time": "2022-03-06T19:53:55.238Z"
   },
   {
    "duration": 39,
    "start_time": "2022-03-06T19:53:55.249Z"
   },
   {
    "duration": 12,
    "start_time": "2022-03-06T19:53:55.289Z"
   },
   {
    "duration": 12,
    "start_time": "2022-03-06T19:53:55.302Z"
   },
   {
    "duration": 25,
    "start_time": "2022-03-06T19:53:55.315Z"
   },
   {
    "duration": 23,
    "start_time": "2022-03-06T19:53:55.342Z"
   },
   {
    "duration": 28,
    "start_time": "2022-03-06T19:53:55.366Z"
   },
   {
    "duration": 18,
    "start_time": "2022-03-06T19:53:55.395Z"
   },
   {
    "duration": 36,
    "start_time": "2022-03-06T19:53:55.415Z"
   },
   {
    "duration": 349,
    "start_time": "2022-03-06T19:53:55.453Z"
   },
   {
    "duration": -69,
    "start_time": "2022-03-06T19:53:55.873Z"
   },
   {
    "duration": 825,
    "start_time": "2022-03-07T06:56:12.592Z"
   },
   {
    "duration": 14,
    "start_time": "2022-03-07T06:56:13.420Z"
   },
   {
    "duration": 6,
    "start_time": "2022-03-07T06:56:13.437Z"
   },
   {
    "duration": 10,
    "start_time": "2022-03-07T06:56:13.445Z"
   },
   {
    "duration": 14,
    "start_time": "2022-03-07T06:56:13.487Z"
   },
   {
    "duration": 23,
    "start_time": "2022-03-07T06:56:13.503Z"
   },
   {
    "duration": 6,
    "start_time": "2022-03-07T06:56:13.528Z"
   },
   {
    "duration": 7,
    "start_time": "2022-03-07T06:56:13.537Z"
   },
   {
    "duration": 89,
    "start_time": "2022-03-07T06:56:13.547Z"
   },
   {
    "duration": 9,
    "start_time": "2022-03-07T06:56:13.638Z"
   },
   {
    "duration": 13,
    "start_time": "2022-03-07T06:56:13.649Z"
   },
   {
    "duration": 11,
    "start_time": "2022-03-07T06:56:13.687Z"
   },
   {
    "duration": 12,
    "start_time": "2022-03-07T06:56:13.701Z"
   },
   {
    "duration": 9,
    "start_time": "2022-03-07T06:56:13.715Z"
   },
   {
    "duration": 12,
    "start_time": "2022-03-07T06:56:13.726Z"
   },
   {
    "duration": 74,
    "start_time": "2022-03-07T06:56:13.740Z"
   },
   {
    "duration": 16,
    "start_time": "2022-03-07T06:56:13.817Z"
   },
   {
    "duration": 14,
    "start_time": "2022-03-07T06:56:13.835Z"
   },
   {
    "duration": 15,
    "start_time": "2022-03-07T06:56:13.851Z"
   },
   {
    "duration": 34,
    "start_time": "2022-03-07T06:56:13.869Z"
   },
   {
    "duration": 34,
    "start_time": "2022-03-07T06:56:13.906Z"
   },
   {
    "duration": 11,
    "start_time": "2022-03-07T06:56:13.943Z"
   },
   {
    "duration": 57,
    "start_time": "2022-03-07T06:56:13.987Z"
   },
   {
    "duration": 328,
    "start_time": "2022-03-07T06:56:14.046Z"
   },
   {
    "duration": -336,
    "start_time": "2022-03-07T06:56:14.713Z"
   },
   {
    "duration": 803,
    "start_time": "2022-03-07T06:58:46.374Z"
   },
   {
    "duration": 14,
    "start_time": "2022-03-07T06:58:47.180Z"
   },
   {
    "duration": 7,
    "start_time": "2022-03-07T06:58:47.198Z"
   },
   {
    "duration": 31,
    "start_time": "2022-03-07T06:58:47.208Z"
   },
   {
    "duration": 11,
    "start_time": "2022-03-07T06:58:47.241Z"
   },
   {
    "duration": 7,
    "start_time": "2022-03-07T06:58:47.287Z"
   },
   {
    "duration": 20,
    "start_time": "2022-03-07T06:58:47.297Z"
   },
   {
    "duration": 7,
    "start_time": "2022-03-07T06:58:47.319Z"
   },
   {
    "duration": 81,
    "start_time": "2022-03-07T06:58:47.330Z"
   },
   {
    "duration": 10,
    "start_time": "2022-03-07T06:58:47.414Z"
   },
   {
    "duration": 26,
    "start_time": "2022-03-07T06:58:47.427Z"
   },
   {
    "duration": 19,
    "start_time": "2022-03-07T06:58:47.455Z"
   },
   {
    "duration": 14,
    "start_time": "2022-03-07T06:58:47.488Z"
   },
   {
    "duration": 17,
    "start_time": "2022-03-07T06:58:47.504Z"
   },
   {
    "duration": 12,
    "start_time": "2022-03-07T06:58:47.523Z"
   },
   {
    "duration": 53,
    "start_time": "2022-03-07T06:58:47.537Z"
   },
   {
    "duration": 15,
    "start_time": "2022-03-07T06:58:47.593Z"
   },
   {
    "duration": 8,
    "start_time": "2022-03-07T06:58:47.610Z"
   },
   {
    "duration": 15,
    "start_time": "2022-03-07T06:58:47.620Z"
   },
   {
    "duration": 28,
    "start_time": "2022-03-07T06:58:47.637Z"
   },
   {
    "duration": 45,
    "start_time": "2022-03-07T06:58:47.667Z"
   },
   {
    "duration": 10,
    "start_time": "2022-03-07T06:58:47.714Z"
   },
   {
    "duration": 84,
    "start_time": "2022-03-07T06:58:47.727Z"
   },
   {
    "duration": 324,
    "start_time": "2022-03-07T06:58:47.813Z"
   },
   {
    "duration": -275,
    "start_time": "2022-03-07T06:58:48.415Z"
   },
   {
    "duration": 6,
    "start_time": "2022-03-07T07:02:33.776Z"
   },
   {
    "duration": 5884,
    "start_time": "2022-03-07T07:05:43.177Z"
   },
   {
    "duration": 26,
    "start_time": "2022-03-07T07:06:04.578Z"
   },
   {
    "duration": 816,
    "start_time": "2022-03-07T07:06:08.762Z"
   },
   {
    "duration": 14,
    "start_time": "2022-03-07T07:06:09.581Z"
   },
   {
    "duration": 9,
    "start_time": "2022-03-07T07:06:09.598Z"
   },
   {
    "duration": 31,
    "start_time": "2022-03-07T07:06:09.609Z"
   },
   {
    "duration": 11,
    "start_time": "2022-03-07T07:06:09.642Z"
   },
   {
    "duration": 48,
    "start_time": "2022-03-07T07:06:09.656Z"
   },
   {
    "duration": 6,
    "start_time": "2022-03-07T07:06:09.707Z"
   },
   {
    "duration": 46,
    "start_time": "2022-03-07T07:06:09.717Z"
   },
   {
    "duration": 9,
    "start_time": "2022-03-07T07:06:09.789Z"
   },
   {
    "duration": 23,
    "start_time": "2022-03-07T07:06:09.801Z"
   },
   {
    "duration": 12,
    "start_time": "2022-03-07T07:06:09.826Z"
   },
   {
    "duration": 15,
    "start_time": "2022-03-07T07:06:09.841Z"
   },
   {
    "duration": 31,
    "start_time": "2022-03-07T07:06:09.858Z"
   },
   {
    "duration": 20,
    "start_time": "2022-03-07T07:06:09.892Z"
   },
   {
    "duration": 11,
    "start_time": "2022-03-07T07:06:09.914Z"
   },
   {
    "duration": 34,
    "start_time": "2022-03-07T07:06:09.928Z"
   },
   {
    "duration": 27,
    "start_time": "2022-03-07T07:06:09.964Z"
   },
   {
    "duration": 8,
    "start_time": "2022-03-07T07:06:09.993Z"
   },
   {
    "duration": 11,
    "start_time": "2022-03-07T07:06:10.004Z"
   },
   {
    "duration": 26,
    "start_time": "2022-03-07T07:06:10.017Z"
   },
   {
    "duration": 57,
    "start_time": "2022-03-07T07:06:10.046Z"
   },
   {
    "duration": 15,
    "start_time": "2022-03-07T07:06:10.105Z"
   },
   {
    "duration": 71,
    "start_time": "2022-03-07T07:06:10.124Z"
   },
   {
    "duration": 326,
    "start_time": "2022-03-07T07:06:10.198Z"
   },
   {
    "duration": -273,
    "start_time": "2022-03-07T07:06:10.800Z"
   },
   {
    "duration": 16,
    "start_time": "2022-03-07T07:19:34.901Z"
   },
   {
    "duration": 6,
    "start_time": "2022-03-07T07:24:07.285Z"
   },
   {
    "duration": 16,
    "start_time": "2022-03-07T07:24:52.541Z"
   },
   {
    "duration": 16,
    "start_time": "2022-03-07T07:25:09.133Z"
   },
   {
    "duration": 16,
    "start_time": "2022-03-07T07:25:24.293Z"
   },
   {
    "duration": 844,
    "start_time": "2022-03-07T07:25:38.186Z"
   },
   {
    "duration": 15,
    "start_time": "2022-03-07T07:25:39.032Z"
   },
   {
    "duration": 6,
    "start_time": "2022-03-07T07:25:39.051Z"
   },
   {
    "duration": 46,
    "start_time": "2022-03-07T07:25:39.060Z"
   },
   {
    "duration": 9,
    "start_time": "2022-03-07T07:25:39.109Z"
   },
   {
    "duration": 21,
    "start_time": "2022-03-07T07:25:39.120Z"
   },
   {
    "duration": 5,
    "start_time": "2022-03-07T07:25:39.143Z"
   },
   {
    "duration": 77,
    "start_time": "2022-03-07T07:25:39.150Z"
   },
   {
    "duration": 10,
    "start_time": "2022-03-07T07:25:39.231Z"
   },
   {
    "duration": 17,
    "start_time": "2022-03-07T07:25:39.244Z"
   },
   {
    "duration": 27,
    "start_time": "2022-03-07T07:25:39.263Z"
   },
   {
    "duration": 12,
    "start_time": "2022-03-07T07:25:39.293Z"
   },
   {
    "duration": 8,
    "start_time": "2022-03-07T07:25:39.307Z"
   },
   {
    "duration": 16,
    "start_time": "2022-03-07T07:25:39.317Z"
   },
   {
    "duration": 11,
    "start_time": "2022-03-07T07:25:39.335Z"
   },
   {
    "duration": 50,
    "start_time": "2022-03-07T07:25:39.348Z"
   },
   {
    "duration": 9,
    "start_time": "2022-03-07T07:25:39.401Z"
   },
   {
    "duration": 29,
    "start_time": "2022-03-07T07:25:39.412Z"
   },
   {
    "duration": 50,
    "start_time": "2022-03-07T07:25:39.443Z"
   },
   {
    "duration": 8,
    "start_time": "2022-03-07T07:25:39.495Z"
   },
   {
    "duration": 12,
    "start_time": "2022-03-07T07:25:39.505Z"
   },
   {
    "duration": 22,
    "start_time": "2022-03-07T07:25:39.519Z"
   },
   {
    "duration": 61,
    "start_time": "2022-03-07T07:25:39.543Z"
   },
   {
    "duration": 17,
    "start_time": "2022-03-07T07:25:39.607Z"
   },
   {
    "duration": 66,
    "start_time": "2022-03-07T07:25:39.626Z"
   },
   {
    "duration": 339,
    "start_time": "2022-03-07T07:25:39.694Z"
   },
   {
    "duration": -261,
    "start_time": "2022-03-07T07:25:40.297Z"
   },
   {
    "duration": 10,
    "start_time": "2022-03-07T07:26:07.413Z"
   },
   {
    "duration": 32,
    "start_time": "2022-03-07T07:28:20.174Z"
   },
   {
    "duration": 797,
    "start_time": "2022-03-07T07:28:47.697Z"
   },
   {
    "duration": 18,
    "start_time": "2022-03-07T07:28:48.498Z"
   },
   {
    "duration": 7,
    "start_time": "2022-03-07T07:28:48.519Z"
   },
   {
    "duration": 25,
    "start_time": "2022-03-07T07:28:48.529Z"
   },
   {
    "duration": 11,
    "start_time": "2022-03-07T07:28:48.587Z"
   },
   {
    "duration": 14,
    "start_time": "2022-03-07T07:28:48.600Z"
   },
   {
    "duration": 6,
    "start_time": "2022-03-07T07:28:48.620Z"
   },
   {
    "duration": 91,
    "start_time": "2022-03-07T07:28:48.629Z"
   },
   {
    "duration": 10,
    "start_time": "2022-03-07T07:28:48.723Z"
   },
   {
    "duration": 24,
    "start_time": "2022-03-07T07:28:48.735Z"
   },
   {
    "duration": 28,
    "start_time": "2022-03-07T07:28:48.762Z"
   },
   {
    "duration": 11,
    "start_time": "2022-03-07T07:28:48.792Z"
   },
   {
    "duration": 11,
    "start_time": "2022-03-07T07:28:48.805Z"
   },
   {
    "duration": 16,
    "start_time": "2022-03-07T07:28:48.818Z"
   },
   {
    "duration": 57,
    "start_time": "2022-03-07T07:28:48.836Z"
   },
   {
    "duration": 8,
    "start_time": "2022-03-07T07:28:48.895Z"
   },
   {
    "duration": 9,
    "start_time": "2022-03-07T07:28:48.906Z"
   },
   {
    "duration": 29,
    "start_time": "2022-03-07T07:28:48.917Z"
   },
   {
    "duration": 44,
    "start_time": "2022-03-07T07:28:48.948Z"
   },
   {
    "duration": 8,
    "start_time": "2022-03-07T07:28:48.995Z"
   },
   {
    "duration": 11,
    "start_time": "2022-03-07T07:28:49.005Z"
   },
   {
    "duration": 18,
    "start_time": "2022-03-07T07:28:49.020Z"
   },
   {
    "duration": 59,
    "start_time": "2022-03-07T07:28:49.041Z"
   },
   {
    "duration": 10,
    "start_time": "2022-03-07T07:28:49.103Z"
   },
   {
    "duration": 80,
    "start_time": "2022-03-07T07:28:49.116Z"
   },
   {
    "duration": 340,
    "start_time": "2022-03-07T07:28:49.198Z"
   },
   {
    "duration": -305,
    "start_time": "2022-03-07T07:28:49.846Z"
   },
   {
    "duration": 35,
    "start_time": "2022-03-07T07:43:41.305Z"
   },
   {
    "duration": 31,
    "start_time": "2022-03-07T07:46:17.640Z"
   },
   {
    "duration": 22,
    "start_time": "2022-03-07T07:49:22.956Z"
   },
   {
    "duration": 239,
    "start_time": "2022-03-07T07:49:39.369Z"
   },
   {
    "duration": 47,
    "start_time": "2022-03-07T07:49:47.578Z"
   },
   {
    "duration": 22,
    "start_time": "2022-03-07T07:49:59.723Z"
   },
   {
    "duration": 21,
    "start_time": "2022-03-07T07:51:00.101Z"
   },
   {
    "duration": 19,
    "start_time": "2022-03-07T07:54:59.790Z"
   },
   {
    "duration": 8,
    "start_time": "2022-03-07T07:56:07.639Z"
   },
   {
    "duration": 10,
    "start_time": "2022-03-07T07:56:13.511Z"
   },
   {
    "duration": 13,
    "start_time": "2022-03-07T07:57:40.449Z"
   },
   {
    "duration": 29,
    "start_time": "2022-03-07T07:59:47.186Z"
   },
   {
    "duration": 231,
    "start_time": "2022-03-07T08:01:08.689Z"
   },
   {
    "duration": 44,
    "start_time": "2022-03-07T08:01:22.232Z"
   },
   {
    "duration": 19,
    "start_time": "2022-03-07T08:01:34.336Z"
   },
   {
    "duration": 20,
    "start_time": "2022-03-07T08:01:53.266Z"
   },
   {
    "duration": 242,
    "start_time": "2022-03-07T08:02:32.859Z"
   },
   {
    "duration": 18,
    "start_time": "2022-03-07T08:02:45.059Z"
   },
   {
    "duration": 235,
    "start_time": "2022-03-07T08:05:33.577Z"
   },
   {
    "duration": 571,
    "start_time": "2022-03-07T08:07:25.001Z"
   },
   {
    "duration": 73,
    "start_time": "2022-03-07T08:07:47.979Z"
   },
   {
    "duration": 19,
    "start_time": "2022-03-07T08:08:24.597Z"
   },
   {
    "duration": 24,
    "start_time": "2022-03-07T08:09:42.651Z"
   },
   {
    "duration": 571,
    "start_time": "2022-03-07T08:10:12.138Z"
   },
   {
    "duration": 240,
    "start_time": "2022-03-07T08:10:24.328Z"
   },
   {
    "duration": 233,
    "start_time": "2022-03-07T08:11:49.738Z"
   },
   {
    "duration": 278,
    "start_time": "2022-03-07T08:11:55.329Z"
   },
   {
    "duration": 230,
    "start_time": "2022-03-07T08:12:07.110Z"
   },
   {
    "duration": 238,
    "start_time": "2022-03-07T08:13:35.419Z"
   },
   {
    "duration": 817,
    "start_time": "2022-03-07T08:13:55.182Z"
   },
   {
    "duration": 14,
    "start_time": "2022-03-07T08:13:56.001Z"
   },
   {
    "duration": 16,
    "start_time": "2022-03-07T08:13:56.018Z"
   },
   {
    "duration": 27,
    "start_time": "2022-03-07T08:13:56.037Z"
   },
   {
    "duration": 26,
    "start_time": "2022-03-07T08:13:56.067Z"
   },
   {
    "duration": 21,
    "start_time": "2022-03-07T08:13:56.096Z"
   },
   {
    "duration": 9,
    "start_time": "2022-03-07T08:13:56.119Z"
   },
   {
    "duration": 67,
    "start_time": "2022-03-07T08:13:56.132Z"
   },
   {
    "duration": 10,
    "start_time": "2022-03-07T08:13:56.202Z"
   },
   {
    "duration": 17,
    "start_time": "2022-03-07T08:13:56.214Z"
   },
   {
    "duration": 17,
    "start_time": "2022-03-07T08:13:56.234Z"
   },
   {
    "duration": 35,
    "start_time": "2022-03-07T08:13:56.253Z"
   },
   {
    "duration": 8,
    "start_time": "2022-03-07T08:13:56.291Z"
   },
   {
    "duration": 21,
    "start_time": "2022-03-07T08:13:56.301Z"
   },
   {
    "duration": 9,
    "start_time": "2022-03-07T08:13:56.325Z"
   },
   {
    "duration": 10,
    "start_time": "2022-03-07T08:13:56.337Z"
   },
   {
    "duration": 44,
    "start_time": "2022-03-07T08:13:56.349Z"
   },
   {
    "duration": 35,
    "start_time": "2022-03-07T08:13:56.395Z"
   },
   {
    "duration": 20,
    "start_time": "2022-03-07T08:13:56.432Z"
   },
   {
    "duration": 9,
    "start_time": "2022-03-07T08:13:56.454Z"
   },
   {
    "duration": 9,
    "start_time": "2022-03-07T08:13:56.488Z"
   },
   {
    "duration": 19,
    "start_time": "2022-03-07T08:13:56.499Z"
   },
   {
    "duration": 28,
    "start_time": "2022-03-07T08:13:56.522Z"
   },
   {
    "duration": 43,
    "start_time": "2022-03-07T08:13:56.553Z"
   },
   {
    "duration": 56,
    "start_time": "2022-03-07T08:13:56.598Z"
   },
   {
    "duration": 45,
    "start_time": "2022-03-07T08:13:56.656Z"
   },
   {
    "duration": 329,
    "start_time": "2022-03-07T08:13:56.703Z"
   },
   {
    "duration": -507,
    "start_time": "2022-03-07T08:13:57.542Z"
   },
   {
    "duration": 222,
    "start_time": "2022-03-07T08:15:21.361Z"
   },
   {
    "duration": 244,
    "start_time": "2022-03-07T08:15:40.761Z"
   },
   {
    "duration": 231,
    "start_time": "2022-03-07T08:16:28.140Z"
   },
   {
    "duration": 235,
    "start_time": "2022-03-07T08:16:36.285Z"
   },
   {
    "duration": 240,
    "start_time": "2022-03-07T08:16:41.512Z"
   },
   {
    "duration": 14,
    "start_time": "2022-03-07T08:17:00.261Z"
   },
   {
    "duration": 18,
    "start_time": "2022-03-07T08:17:07.651Z"
   },
   {
    "duration": 19,
    "start_time": "2022-03-07T08:17:49.381Z"
   },
   {
    "duration": 20,
    "start_time": "2022-03-07T08:17:56.342Z"
   },
   {
    "duration": 5688,
    "start_time": "2022-03-07T08:18:05.980Z"
   },
   {
    "duration": 19,
    "start_time": "2022-03-07T08:18:15.995Z"
   },
   {
    "duration": 20,
    "start_time": "2022-03-07T08:20:45.154Z"
   },
   {
    "duration": 23,
    "start_time": "2022-03-07T08:21:08.941Z"
   },
   {
    "duration": 28,
    "start_time": "2022-03-07T08:21:22.619Z"
   },
   {
    "duration": 8,
    "start_time": "2022-03-07T08:21:22.982Z"
   },
   {
    "duration": 7,
    "start_time": "2022-03-07T08:23:37.883Z"
   },
   {
    "duration": 5415,
    "start_time": "2022-03-07T08:23:46.023Z"
   },
   {
    "duration": 7,
    "start_time": "2022-03-07T08:23:55.223Z"
   },
   {
    "duration": 5535,
    "start_time": "2022-03-07T08:24:12.243Z"
   },
   {
    "duration": 6,
    "start_time": "2022-03-07T08:24:37.335Z"
   },
   {
    "duration": 11,
    "start_time": "2022-03-07T08:24:56.295Z"
   },
   {
    "duration": 9,
    "start_time": "2022-03-07T08:25:10.014Z"
   },
   {
    "duration": 8,
    "start_time": "2022-03-07T08:25:14.135Z"
   },
   {
    "duration": 9,
    "start_time": "2022-03-07T08:25:22.005Z"
   },
   {
    "duration": 8,
    "start_time": "2022-03-07T08:25:45.803Z"
   },
   {
    "duration": 8,
    "start_time": "2022-03-07T08:25:54.035Z"
   },
   {
    "duration": 8,
    "start_time": "2022-03-07T08:26:22.616Z"
   },
   {
    "duration": 28,
    "start_time": "2022-03-07T08:26:42.290Z"
   },
   {
    "duration": 29,
    "start_time": "2022-03-07T08:46:33.920Z"
   },
   {
    "duration": 30,
    "start_time": "2022-03-07T08:48:33.588Z"
   },
   {
    "duration": 260,
    "start_time": "2022-03-07T08:52:32.697Z"
   },
   {
    "duration": 251,
    "start_time": "2022-03-07T08:52:48.168Z"
   },
   {
    "duration": 268,
    "start_time": "2022-03-07T08:53:46.121Z"
   },
   {
    "duration": 25,
    "start_time": "2022-03-07T08:53:50.800Z"
   },
   {
    "duration": 30,
    "start_time": "2022-03-07T08:54:00.929Z"
   },
   {
    "duration": 32,
    "start_time": "2022-03-07T09:00:13.984Z"
   },
   {
    "duration": 32,
    "start_time": "2022-03-07T09:03:29.560Z"
   },
   {
    "duration": 775,
    "start_time": "2022-03-07T09:03:34.620Z"
   },
   {
    "duration": 15,
    "start_time": "2022-03-07T09:03:35.397Z"
   },
   {
    "duration": 19,
    "start_time": "2022-03-07T09:03:35.415Z"
   },
   {
    "duration": 34,
    "start_time": "2022-03-07T09:03:35.436Z"
   },
   {
    "duration": 21,
    "start_time": "2022-03-07T09:03:35.472Z"
   },
   {
    "duration": 35,
    "start_time": "2022-03-07T09:03:35.495Z"
   },
   {
    "duration": 18,
    "start_time": "2022-03-07T09:03:35.532Z"
   },
   {
    "duration": 55,
    "start_time": "2022-03-07T09:03:35.552Z"
   },
   {
    "duration": 9,
    "start_time": "2022-03-07T09:03:35.612Z"
   },
   {
    "duration": 27,
    "start_time": "2022-03-07T09:03:35.625Z"
   },
   {
    "duration": 27,
    "start_time": "2022-03-07T09:03:35.655Z"
   },
   {
    "duration": 19,
    "start_time": "2022-03-07T09:03:35.685Z"
   },
   {
    "duration": 26,
    "start_time": "2022-03-07T09:03:35.706Z"
   },
   {
    "duration": 32,
    "start_time": "2022-03-07T09:03:35.734Z"
   },
   {
    "duration": 31,
    "start_time": "2022-03-07T09:03:35.768Z"
   },
   {
    "duration": 21,
    "start_time": "2022-03-07T09:03:35.801Z"
   },
   {
    "duration": 32,
    "start_time": "2022-03-07T09:03:35.824Z"
   },
   {
    "duration": 44,
    "start_time": "2022-03-07T09:03:35.858Z"
   },
   {
    "duration": 16,
    "start_time": "2022-03-07T09:03:35.904Z"
   },
   {
    "duration": 8,
    "start_time": "2022-03-07T09:03:35.922Z"
   },
   {
    "duration": 19,
    "start_time": "2022-03-07T09:03:35.932Z"
   },
   {
    "duration": 38,
    "start_time": "2022-03-07T09:03:35.953Z"
   },
   {
    "duration": 33,
    "start_time": "2022-03-07T09:03:35.994Z"
   },
   {
    "duration": 25,
    "start_time": "2022-03-07T09:03:36.030Z"
   },
   {
    "duration": 78,
    "start_time": "2022-03-07T09:03:36.058Z"
   },
   {
    "duration": 31,
    "start_time": "2022-03-07T09:03:36.138Z"
   },
   {
    "duration": 39,
    "start_time": "2022-03-07T09:03:36.173Z"
   },
   {
    "duration": 30,
    "start_time": "2022-03-07T09:03:36.215Z"
   },
   {
    "duration": 55,
    "start_time": "2022-03-07T09:03:36.248Z"
   },
   {
    "duration": 330,
    "start_time": "2022-03-07T09:04:17.129Z"
   },
   {
    "duration": 20,
    "start_time": "2022-03-07T09:04:26.681Z"
   },
   {
    "duration": 22,
    "start_time": "2022-03-07T09:04:34.881Z"
   },
   {
    "duration": 20,
    "start_time": "2022-03-07T09:04:51.152Z"
   },
   {
    "duration": 21,
    "start_time": "2022-03-07T09:05:06.222Z"
   },
   {
    "duration": 8,
    "start_time": "2022-03-07T09:07:16.922Z"
   },
   {
    "duration": 9,
    "start_time": "2022-03-07T09:07:17.502Z"
   },
   {
    "duration": 31,
    "start_time": "2022-03-07T09:11:55.750Z"
   },
   {
    "duration": 29,
    "start_time": "2022-03-07T09:12:06.293Z"
   },
   {
    "duration": 30,
    "start_time": "2022-03-07T09:13:11.294Z"
   },
   {
    "duration": 24,
    "start_time": "2022-03-07T09:15:52.779Z"
   },
   {
    "duration": 33,
    "start_time": "2022-03-07T09:16:48.959Z"
   },
   {
    "duration": 31,
    "start_time": "2022-03-07T09:18:00.662Z"
   },
   {
    "duration": 10,
    "start_time": "2022-03-07T09:18:11.961Z"
   },
   {
    "duration": 8,
    "start_time": "2022-03-07T09:18:35.281Z"
   },
   {
    "duration": 9,
    "start_time": "2022-03-07T09:18:46.769Z"
   },
   {
    "duration": 9,
    "start_time": "2022-03-07T09:18:52.082Z"
   },
   {
    "duration": 33,
    "start_time": "2022-03-07T09:18:59.112Z"
   },
   {
    "duration": 9,
    "start_time": "2022-03-07T09:19:01.431Z"
   },
   {
    "duration": 9,
    "start_time": "2022-03-07T09:19:02.061Z"
   },
   {
    "duration": 886,
    "start_time": "2022-03-15T07:44:12.708Z"
   },
   {
    "duration": 16,
    "start_time": "2022-03-15T07:44:13.596Z"
   },
   {
    "duration": 7,
    "start_time": "2022-03-15T07:44:13.615Z"
   },
   {
    "duration": 26,
    "start_time": "2022-03-15T07:44:13.645Z"
   },
   {
    "duration": 12,
    "start_time": "2022-03-15T07:44:13.674Z"
   },
   {
    "duration": 56,
    "start_time": "2022-03-15T07:44:13.689Z"
   },
   {
    "duration": 8,
    "start_time": "2022-03-15T07:44:13.748Z"
   },
   {
    "duration": 46,
    "start_time": "2022-03-15T07:44:13.761Z"
   },
   {
    "duration": 41,
    "start_time": "2022-03-15T07:44:13.811Z"
   },
   {
    "duration": 17,
    "start_time": "2022-03-15T07:44:13.855Z"
   },
   {
    "duration": 12,
    "start_time": "2022-03-15T07:44:13.875Z"
   },
   {
    "duration": 55,
    "start_time": "2022-03-15T07:44:13.889Z"
   },
   {
    "duration": 10,
    "start_time": "2022-03-15T07:44:13.947Z"
   },
   {
    "duration": 18,
    "start_time": "2022-03-15T07:44:13.960Z"
   },
   {
    "duration": 10,
    "start_time": "2022-03-15T07:44:13.981Z"
   },
   {
    "duration": 57,
    "start_time": "2022-03-15T07:44:13.993Z"
   },
   {
    "duration": 11,
    "start_time": "2022-03-15T07:44:14.053Z"
   },
   {
    "duration": 28,
    "start_time": "2022-03-15T07:44:14.066Z"
   },
   {
    "duration": 48,
    "start_time": "2022-03-15T07:44:14.096Z"
   },
   {
    "duration": 8,
    "start_time": "2022-03-15T07:44:14.146Z"
   },
   {
    "duration": 9,
    "start_time": "2022-03-15T07:44:14.156Z"
   },
   {
    "duration": 18,
    "start_time": "2022-03-15T07:44:14.167Z"
   },
   {
    "duration": 61,
    "start_time": "2022-03-15T07:44:14.189Z"
   },
   {
    "duration": 10,
    "start_time": "2022-03-15T07:44:14.252Z"
   },
   {
    "duration": 54,
    "start_time": "2022-03-15T07:44:14.264Z"
   },
   {
    "duration": 50,
    "start_time": "2022-03-15T07:44:14.320Z"
   },
   {
    "duration": 26,
    "start_time": "2022-03-15T07:44:14.372Z"
   },
   {
    "duration": 62,
    "start_time": "2022-03-15T07:44:14.400Z"
   },
   {
    "duration": 32,
    "start_time": "2022-03-15T07:44:14.464Z"
   },
   {
    "duration": 8,
    "start_time": "2022-03-15T07:44:14.498Z"
   },
   {
    "duration": 37,
    "start_time": "2022-03-15T07:44:14.508Z"
   },
   {
    "duration": 898,
    "start_time": "2022-03-15T07:55:14.422Z"
   },
   {
    "duration": 21,
    "start_time": "2022-03-15T07:55:15.322Z"
   },
   {
    "duration": 6,
    "start_time": "2022-03-15T07:55:15.346Z"
   },
   {
    "duration": 27,
    "start_time": "2022-03-15T07:55:15.355Z"
   },
   {
    "duration": 12,
    "start_time": "2022-03-15T07:55:15.385Z"
   },
   {
    "duration": 56,
    "start_time": "2022-03-15T07:55:15.399Z"
   },
   {
    "duration": 7,
    "start_time": "2022-03-15T07:55:15.458Z"
   },
   {
    "duration": 50,
    "start_time": "2022-03-15T07:55:15.467Z"
   },
   {
    "duration": 11,
    "start_time": "2022-03-15T07:55:15.545Z"
   },
   {
    "duration": 20,
    "start_time": "2022-03-15T07:55:15.559Z"
   },
   {
    "duration": 11,
    "start_time": "2022-03-15T07:55:15.581Z"
   },
   {
    "duration": 14,
    "start_time": "2022-03-15T07:55:15.594Z"
   },
   {
    "duration": 9,
    "start_time": "2022-03-15T07:55:15.644Z"
   },
   {
    "duration": 19,
    "start_time": "2022-03-15T07:55:15.656Z"
   },
   {
    "duration": 8,
    "start_time": "2022-03-15T07:55:15.678Z"
   },
   {
    "duration": 13,
    "start_time": "2022-03-15T07:55:15.689Z"
   },
   {
    "duration": 48,
    "start_time": "2022-03-15T07:55:15.704Z"
   },
   {
    "duration": 32,
    "start_time": "2022-03-15T07:55:15.754Z"
   },
   {
    "duration": 18,
    "start_time": "2022-03-15T07:55:15.789Z"
   },
   {
    "duration": 37,
    "start_time": "2022-03-15T07:55:15.809Z"
   },
   {
    "duration": 11,
    "start_time": "2022-03-15T07:55:15.848Z"
   },
   {
    "duration": 19,
    "start_time": "2022-03-15T07:55:15.862Z"
   },
   {
    "duration": 61,
    "start_time": "2022-03-15T07:55:15.884Z"
   },
   {
    "duration": 10,
    "start_time": "2022-03-15T07:55:15.947Z"
   },
   {
    "duration": 56,
    "start_time": "2022-03-15T07:55:15.960Z"
   },
   {
    "duration": 57,
    "start_time": "2022-03-15T07:55:16.019Z"
   },
   {
    "duration": 60,
    "start_time": "2022-03-15T07:55:16.083Z"
   },
   {
    "duration": 31,
    "start_time": "2022-03-15T07:55:16.145Z"
   },
   {
    "duration": 33,
    "start_time": "2022-03-15T07:55:16.178Z"
   },
   {
    "duration": 34,
    "start_time": "2022-03-15T07:55:16.214Z"
   },
   {
    "duration": 13,
    "start_time": "2022-03-15T07:55:16.250Z"
   },
   {
    "duration": 924,
    "start_time": "2022-03-15T18:41:46.274Z"
   },
   {
    "duration": 16,
    "start_time": "2022-03-15T18:41:47.201Z"
   },
   {
    "duration": 284,
    "start_time": "2022-03-15T18:41:47.219Z"
   },
   {
    "duration": 216,
    "start_time": "2022-03-15T18:41:47.505Z"
   },
   {
    "duration": 197,
    "start_time": "2022-03-15T18:41:47.723Z"
   },
   {
    "duration": 231,
    "start_time": "2022-03-15T18:41:47.922Z"
   },
   {
    "duration": 334,
    "start_time": "2022-03-15T18:41:48.157Z"
   },
   {
    "duration": 443,
    "start_time": "2022-03-15T18:41:48.495Z"
   },
   {
    "duration": 232,
    "start_time": "2022-03-15T18:41:48.941Z"
   },
   {
    "duration": 268,
    "start_time": "2022-03-15T18:41:49.176Z"
   },
   {
    "duration": 836,
    "start_time": "2022-03-15T18:41:49.447Z"
   },
   {
    "duration": 1612,
    "start_time": "2022-03-15T18:41:50.286Z"
   },
   {
    "duration": 1455,
    "start_time": "2022-03-15T18:41:51.900Z"
   },
   {
    "duration": 1594,
    "start_time": "2022-03-15T18:41:53.357Z"
   },
   {
    "duration": 1434,
    "start_time": "2022-03-15T18:41:54.953Z"
   },
   {
    "duration": 927,
    "start_time": "2022-03-15T18:41:56.389Z"
   },
   {
    "duration": 542,
    "start_time": "2022-03-15T18:41:57.318Z"
   },
   {
    "duration": 444,
    "start_time": "2022-03-15T18:41:57.863Z"
   },
   {
    "duration": 297,
    "start_time": "2022-03-15T18:41:58.309Z"
   },
   {
    "duration": 425,
    "start_time": "2022-03-15T18:41:58.609Z"
   },
   {
    "duration": 337,
    "start_time": "2022-03-15T18:41:59.037Z"
   },
   {
    "duration": 338,
    "start_time": "2022-03-15T18:41:59.378Z"
   },
   {
    "duration": 318,
    "start_time": "2022-03-15T18:41:59.719Z"
   },
   {
    "duration": 305,
    "start_time": "2022-03-15T18:42:00.040Z"
   },
   {
    "duration": 428,
    "start_time": "2022-03-15T18:42:00.347Z"
   },
   {
    "duration": 485,
    "start_time": "2022-03-15T18:42:00.778Z"
   },
   {
    "duration": 462,
    "start_time": "2022-03-15T18:42:01.265Z"
   },
   {
    "duration": 484,
    "start_time": "2022-03-15T18:42:01.730Z"
   },
   {
    "duration": 456,
    "start_time": "2022-03-15T18:42:02.216Z"
   },
   {
    "duration": 297,
    "start_time": "2022-03-15T18:42:02.674Z"
   },
   {
    "duration": 346,
    "start_time": "2022-03-15T18:42:02.973Z"
   },
   {
    "duration": 6,
    "start_time": "2022-03-15T18:51:52.901Z"
   },
   {
    "duration": 878,
    "start_time": "2022-03-15T18:52:03.142Z"
   },
   {
    "duration": 18,
    "start_time": "2022-03-15T18:52:04.023Z"
   },
   {
    "duration": 532,
    "start_time": "2022-03-15T18:52:04.044Z"
   },
   {
    "duration": 440,
    "start_time": "2022-03-15T18:52:04.579Z"
   },
   {
    "duration": 279,
    "start_time": "2022-03-15T18:52:05.022Z"
   },
   {
    "duration": 463,
    "start_time": "2022-03-15T18:52:05.304Z"
   },
   {
    "duration": 457,
    "start_time": "2022-03-15T18:52:05.770Z"
   },
   {
    "duration": 438,
    "start_time": "2022-03-15T18:52:06.231Z"
   },
   {
    "duration": 353,
    "start_time": "2022-03-15T18:52:06.673Z"
   },
   {
    "duration": 408,
    "start_time": "2022-03-15T18:52:07.029Z"
   },
   {
    "duration": 1212,
    "start_time": "2022-03-15T18:52:07.439Z"
   },
   {
    "duration": 912,
    "start_time": "2022-03-15T18:52:08.654Z"
   },
   {
    "duration": 840,
    "start_time": "2022-03-15T18:52:09.568Z"
   },
   {
    "duration": 1038,
    "start_time": "2022-03-15T18:52:10.410Z"
   },
   {
    "duration": 1198,
    "start_time": "2022-03-15T18:52:11.450Z"
   },
   {
    "duration": 1378,
    "start_time": "2022-03-15T18:52:12.650Z"
   },
   {
    "duration": 833,
    "start_time": "2022-03-15T18:52:14.030Z"
   },
   {
    "duration": 1428,
    "start_time": "2022-03-15T18:52:14.866Z"
   },
   {
    "duration": 1078,
    "start_time": "2022-03-15T18:52:16.297Z"
   },
   {
    "duration": 1304,
    "start_time": "2022-03-15T18:52:17.378Z"
   },
   {
    "duration": 1411,
    "start_time": "2022-03-15T18:52:18.684Z"
   },
   {
    "duration": 1207,
    "start_time": "2022-03-15T18:52:20.098Z"
   },
   {
    "duration": 923,
    "start_time": "2022-03-15T18:52:21.307Z"
   },
   {
    "duration": 2574,
    "start_time": "2022-03-15T18:52:22.232Z"
   },
   {
    "duration": 818,
    "start_time": "2022-03-15T18:52:24.809Z"
   },
   {
    "duration": 274,
    "start_time": "2022-03-15T18:52:25.633Z"
   },
   {
    "duration": 454,
    "start_time": "2022-03-15T18:52:25.910Z"
   },
   {
    "duration": 556,
    "start_time": "2022-03-15T18:52:26.367Z"
   },
   {
    "duration": 705,
    "start_time": "2022-03-15T18:52:26.926Z"
   },
   {
    "duration": 543,
    "start_time": "2022-03-15T18:52:27.633Z"
   },
   {
    "duration": 420,
    "start_time": "2022-03-15T18:52:28.178Z"
   },
   {
    "duration": 12,
    "start_time": "2022-03-15T19:13:03.700Z"
   },
   {
    "duration": 11,
    "start_time": "2022-03-15T19:16:05.910Z"
   },
   {
    "duration": 21,
    "start_time": "2022-03-15T19:24:48.116Z"
   },
   {
    "duration": 14,
    "start_time": "2022-03-15T19:24:54.711Z"
   },
   {
    "duration": 30,
    "start_time": "2022-03-15T19:43:53.729Z"
   },
   {
    "duration": 28,
    "start_time": "2022-03-15T19:44:04.130Z"
   },
   {
    "duration": 12,
    "start_time": "2022-03-15T19:45:06.087Z"
   },
   {
    "duration": 8,
    "start_time": "2022-03-15T19:45:14.975Z"
   },
   {
    "duration": 29,
    "start_time": "2022-03-15T19:45:32.348Z"
   },
   {
    "duration": 19,
    "start_time": "2022-03-15T19:45:44.491Z"
   },
   {
    "duration": 8,
    "start_time": "2022-03-15T19:45:50.450Z"
   },
   {
    "duration": 8,
    "start_time": "2022-03-15T20:00:34.183Z"
   },
   {
    "duration": 144,
    "start_time": "2022-03-15T20:00:48.781Z"
   },
   {
    "duration": 21,
    "start_time": "2022-03-15T20:03:28.481Z"
   },
   {
    "duration": 9,
    "start_time": "2022-03-15T20:03:37.901Z"
   },
   {
    "duration": 18,
    "start_time": "2022-03-15T20:06:11.880Z"
   },
   {
    "duration": 858,
    "start_time": "2022-03-15T20:06:36.732Z"
   },
   {
    "duration": 596,
    "start_time": "2022-03-15T20:06:37.593Z"
   },
   {
    "duration": 1035,
    "start_time": "2022-03-15T20:06:38.192Z"
   },
   {
    "duration": 1467,
    "start_time": "2022-03-15T20:06:39.231Z"
   },
   {
    "duration": 1397,
    "start_time": "2022-03-15T20:06:40.701Z"
   },
   {
    "duration": 1710,
    "start_time": "2022-03-15T20:06:42.101Z"
   },
   {
    "duration": 1572,
    "start_time": "2022-03-15T20:06:43.814Z"
   },
   {
    "duration": 1640,
    "start_time": "2022-03-15T20:06:45.391Z"
   },
   {
    "duration": 604,
    "start_time": "2022-03-15T20:06:47.033Z"
   },
   {
    "duration": 429,
    "start_time": "2022-03-15T20:06:47.640Z"
   },
   {
    "duration": 803,
    "start_time": "2022-03-15T20:06:48.072Z"
   },
   {
    "duration": 1154,
    "start_time": "2022-03-15T20:06:48.878Z"
   },
   {
    "duration": 627,
    "start_time": "2022-03-15T20:06:50.035Z"
   },
   {
    "duration": 737,
    "start_time": "2022-03-15T20:06:50.664Z"
   },
   {
    "duration": 966,
    "start_time": "2022-03-15T20:06:51.404Z"
   },
   {
    "duration": 597,
    "start_time": "2022-03-15T20:06:52.373Z"
   },
   {
    "duration": 1044,
    "start_time": "2022-03-15T20:06:52.972Z"
   },
   {
    "duration": 1385,
    "start_time": "2022-03-15T20:06:54.018Z"
   },
   {
    "duration": 711,
    "start_time": "2022-03-15T20:06:55.406Z"
   },
   {
    "duration": 1545,
    "start_time": "2022-03-15T20:06:56.120Z"
   },
   {
    "duration": 656,
    "start_time": "2022-03-15T20:06:57.668Z"
   },
   {
    "duration": 676,
    "start_time": "2022-03-15T20:06:58.327Z"
   },
   {
    "duration": 660,
    "start_time": "2022-03-15T20:06:59.009Z"
   },
   {
    "duration": 1538,
    "start_time": "2022-03-15T20:06:59.672Z"
   },
   {
    "duration": 1316,
    "start_time": "2022-03-15T20:07:01.213Z"
   },
   {
    "duration": 1503,
    "start_time": "2022-03-15T20:07:02.532Z"
   },
   {
    "duration": 1121,
    "start_time": "2022-03-15T20:07:04.038Z"
   },
   {
    "duration": 1478,
    "start_time": "2022-03-15T20:07:05.162Z"
   },
   {
    "duration": 1359,
    "start_time": "2022-03-15T20:07:06.643Z"
   },
   {
    "duration": 991,
    "start_time": "2022-03-15T20:07:08.004Z"
   },
   {
    "duration": 1344,
    "start_time": "2022-03-15T20:07:08.998Z"
   },
   {
    "duration": 1170,
    "start_time": "2022-03-15T20:07:10.345Z"
   },
   {
    "duration": 1007,
    "start_time": "2022-03-15T20:07:11.518Z"
   },
   {
    "duration": 1234,
    "start_time": "2022-03-15T20:07:12.528Z"
   },
   {
    "duration": 931,
    "start_time": "2022-03-15T20:07:13.765Z"
   },
   {
    "duration": 852,
    "start_time": "2022-03-15T20:07:14.698Z"
   },
   {
    "duration": 320,
    "start_time": "2022-03-15T20:07:15.553Z"
   },
   {
    "duration": 8,
    "start_time": "2022-03-15T20:07:58.188Z"
   },
   {
    "duration": 8,
    "start_time": "2022-03-15T20:08:34.546Z"
   },
   {
    "duration": 8,
    "start_time": "2022-03-15T20:08:56.387Z"
   },
   {
    "duration": 21,
    "start_time": "2022-03-15T20:09:04.906Z"
   },
   {
    "duration": 9,
    "start_time": "2022-03-15T20:09:06.377Z"
   },
   {
    "duration": 41,
    "start_time": "2022-03-15T20:09:07.367Z"
   },
   {
    "duration": 6,
    "start_time": "2022-03-15T20:09:32.497Z"
   },
   {
    "duration": 992,
    "start_time": "2022-03-15T20:09:33.087Z"
   },
   {
    "duration": 1008,
    "start_time": "2022-03-15T20:09:34.082Z"
   },
   {
    "duration": 790,
    "start_time": "2022-03-15T20:09:41.317Z"
   },
   {
    "duration": 15,
    "start_time": "2022-03-15T20:09:42.110Z"
   },
   {
    "duration": 310,
    "start_time": "2022-03-15T20:09:42.127Z"
   },
   {
    "duration": 285,
    "start_time": "2022-03-15T20:09:42.440Z"
   },
   {
    "duration": 263,
    "start_time": "2022-03-15T20:09:42.728Z"
   },
   {
    "duration": 301,
    "start_time": "2022-03-15T20:09:42.993Z"
   },
   {
    "duration": 489,
    "start_time": "2022-03-15T20:09:43.297Z"
   },
   {
    "duration": 400,
    "start_time": "2022-03-15T20:09:43.790Z"
   },
   {
    "duration": 296,
    "start_time": "2022-03-15T20:09:44.192Z"
   },
   {
    "duration": 304,
    "start_time": "2022-03-15T20:09:44.491Z"
   },
   {
    "duration": 328,
    "start_time": "2022-03-15T20:09:44.798Z"
   },
   {
    "duration": 505,
    "start_time": "2022-03-15T20:09:45.129Z"
   },
   {
    "duration": 633,
    "start_time": "2022-03-15T20:09:45.636Z"
   },
   {
    "duration": 262,
    "start_time": "2022-03-15T20:09:46.272Z"
   },
   {
    "duration": 444,
    "start_time": "2022-03-15T20:09:46.536Z"
   },
   {
    "duration": 451,
    "start_time": "2022-03-15T20:09:46.983Z"
   },
   {
    "duration": 539,
    "start_time": "2022-03-15T20:09:47.436Z"
   },
   {
    "duration": 303,
    "start_time": "2022-03-15T20:09:47.977Z"
   },
   {
    "duration": 464,
    "start_time": "2022-03-15T20:09:48.282Z"
   },
   {
    "duration": 794,
    "start_time": "2022-03-15T20:09:48.748Z"
   },
   {
    "duration": 595,
    "start_time": "2022-03-15T20:09:49.544Z"
   },
   {
    "duration": 574,
    "start_time": "2022-03-15T20:09:50.142Z"
   },
   {
    "duration": 497,
    "start_time": "2022-03-15T20:09:50.721Z"
   },
   {
    "duration": 703,
    "start_time": "2022-03-15T20:09:51.221Z"
   },
   {
    "duration": 584,
    "start_time": "2022-03-15T20:09:51.926Z"
   },
   {
    "duration": 370,
    "start_time": "2022-03-15T20:09:52.513Z"
   },
   {
    "duration": 316,
    "start_time": "2022-03-15T20:09:52.885Z"
   },
   {
    "duration": 443,
    "start_time": "2022-03-15T20:09:53.203Z"
   },
   {
    "duration": 393,
    "start_time": "2022-03-15T20:09:53.648Z"
   },
   {
    "duration": 374,
    "start_time": "2022-03-15T20:09:54.043Z"
   },
   {
    "duration": 759,
    "start_time": "2022-03-15T20:09:54.420Z"
   },
   {
    "duration": 713,
    "start_time": "2022-03-15T20:09:55.181Z"
   },
   {
    "duration": 969,
    "start_time": "2022-03-15T20:09:55.897Z"
   },
   {
    "duration": 1486,
    "start_time": "2022-03-15T20:09:56.868Z"
   },
   {
    "duration": 643,
    "start_time": "2022-03-15T20:09:58.356Z"
   },
   {
    "duration": 503,
    "start_time": "2022-03-15T20:09:59.002Z"
   },
   {
    "duration": 152,
    "start_time": "2022-03-15T20:09:59.507Z"
   },
   {
    "duration": 8,
    "start_time": "2022-03-15T20:12:30.908Z"
   },
   {
    "duration": 9,
    "start_time": "2022-03-15T20:12:49.247Z"
   },
   {
    "duration": 8,
    "start_time": "2022-03-15T20:12:50.193Z"
   },
   {
    "duration": 17,
    "start_time": "2022-03-15T20:12:51.038Z"
   },
   {
    "duration": 861,
    "start_time": "2022-03-15T20:13:00.116Z"
   },
   {
    "duration": 16,
    "start_time": "2022-03-15T20:13:00.980Z"
   },
   {
    "duration": 366,
    "start_time": "2022-03-15T20:13:00.999Z"
   },
   {
    "duration": 613,
    "start_time": "2022-03-15T20:13:01.368Z"
   },
   {
    "duration": 823,
    "start_time": "2022-03-15T20:13:01.984Z"
   },
   {
    "duration": 814,
    "start_time": "2022-03-15T20:13:02.809Z"
   },
   {
    "duration": 1160,
    "start_time": "2022-03-15T20:13:03.626Z"
   },
   {
    "duration": 1190,
    "start_time": "2022-03-15T20:13:04.790Z"
   },
   {
    "duration": 671,
    "start_time": "2022-03-15T20:13:05.983Z"
   },
   {
    "duration": 545,
    "start_time": "2022-03-15T20:13:06.656Z"
   },
   {
    "duration": 650,
    "start_time": "2022-03-15T20:13:07.203Z"
   },
   {
    "duration": 603,
    "start_time": "2022-03-15T20:13:07.855Z"
   },
   {
    "duration": 490,
    "start_time": "2022-03-15T20:13:08.460Z"
   },
   {
    "duration": 280,
    "start_time": "2022-03-15T20:13:08.952Z"
   },
   {
    "duration": 218,
    "start_time": "2022-03-15T20:13:09.234Z"
   },
   {
    "duration": 293,
    "start_time": "2022-03-15T20:13:09.454Z"
   },
   {
    "duration": 469,
    "start_time": "2022-03-15T20:13:09.749Z"
   },
   {
    "duration": 405,
    "start_time": "2022-03-15T20:13:10.220Z"
   },
   {
    "duration": 383,
    "start_time": "2022-03-15T20:13:10.627Z"
   },
   {
    "duration": 228,
    "start_time": "2022-03-15T20:13:11.012Z"
   },
   {
    "duration": 319,
    "start_time": "2022-03-15T20:13:11.242Z"
   },
   {
    "duration": 269,
    "start_time": "2022-03-15T20:13:11.564Z"
   },
   {
    "duration": 421,
    "start_time": "2022-03-15T20:13:11.839Z"
   },
   {
    "duration": 474,
    "start_time": "2022-03-15T20:13:12.262Z"
   },
   {
    "duration": 303,
    "start_time": "2022-03-15T20:13:12.739Z"
   },
   {
    "duration": 227,
    "start_time": "2022-03-15T20:13:13.045Z"
   },
   {
    "duration": 751,
    "start_time": "2022-03-15T20:13:13.275Z"
   },
   {
    "duration": 866,
    "start_time": "2022-03-15T20:13:14.028Z"
   },
   {
    "duration": 794,
    "start_time": "2022-03-15T20:13:14.897Z"
   },
   {
    "duration": 709,
    "start_time": "2022-03-15T20:13:15.694Z"
   },
   {
    "duration": 810,
    "start_time": "2022-03-15T20:13:16.405Z"
   },
   {
    "duration": 372,
    "start_time": "2022-03-15T20:13:17.218Z"
   },
   {
    "duration": 559,
    "start_time": "2022-03-15T20:13:17.593Z"
   },
   {
    "duration": 789,
    "start_time": "2022-03-15T20:13:18.155Z"
   },
   {
    "duration": 493,
    "start_time": "2022-03-15T20:13:18.947Z"
   },
   {
    "duration": 295,
    "start_time": "2022-03-15T20:13:19.443Z"
   },
   {
    "duration": 251,
    "start_time": "2022-03-15T20:13:19.741Z"
   },
   {
    "duration": 28,
    "start_time": "2022-03-15T20:29:52.993Z"
   },
   {
    "duration": 34,
    "start_time": "2022-03-15T20:30:05.321Z"
   },
   {
    "duration": 32,
    "start_time": "2022-03-15T20:31:21.869Z"
   },
   {
    "duration": 33,
    "start_time": "2022-03-15T20:31:27.030Z"
   },
   {
    "duration": 848,
    "start_time": "2022-03-15T20:38:33.745Z"
   },
   {
    "duration": 729,
    "start_time": "2022-03-15T20:39:04.722Z"
   },
   {
    "duration": 970,
    "start_time": "2022-03-15T20:39:16.406Z"
   },
   {
    "duration": 16,
    "start_time": "2022-03-15T20:39:17.378Z"
   },
   {
    "duration": 305,
    "start_time": "2022-03-15T20:39:17.399Z"
   },
   {
    "duration": 388,
    "start_time": "2022-03-15T20:39:17.708Z"
   },
   {
    "duration": 526,
    "start_time": "2022-03-15T20:39:18.098Z"
   },
   {
    "duration": 663,
    "start_time": "2022-03-15T20:39:18.627Z"
   },
   {
    "duration": 454,
    "start_time": "2022-03-15T20:39:19.292Z"
   },
   {
    "duration": 756,
    "start_time": "2022-03-15T20:39:19.749Z"
   },
   {
    "duration": 493,
    "start_time": "2022-03-15T20:39:20.509Z"
   },
   {
    "duration": 497,
    "start_time": "2022-03-15T20:39:21.007Z"
   },
   {
    "duration": 353,
    "start_time": "2022-03-15T20:39:21.506Z"
   },
   {
    "duration": 251,
    "start_time": "2022-03-15T20:39:21.862Z"
   },
   {
    "duration": 572,
    "start_time": "2022-03-15T20:39:22.115Z"
   },
   {
    "duration": 356,
    "start_time": "2022-03-15T20:39:22.690Z"
   },
   {
    "duration": 339,
    "start_time": "2022-03-15T20:39:23.049Z"
   },
   {
    "duration": 747,
    "start_time": "2022-03-15T20:39:23.391Z"
   },
   {
    "duration": 899,
    "start_time": "2022-03-15T20:39:24.141Z"
   },
   {
    "duration": 936,
    "start_time": "2022-03-15T20:39:25.043Z"
   },
   {
    "duration": 359,
    "start_time": "2022-03-15T20:39:25.981Z"
   },
   {
    "duration": 586,
    "start_time": "2022-03-15T20:39:26.343Z"
   },
   {
    "duration": 641,
    "start_time": "2022-03-15T20:39:26.932Z"
   },
   {
    "duration": 641,
    "start_time": "2022-03-15T20:39:27.575Z"
   },
   {
    "duration": 413,
    "start_time": "2022-03-15T20:39:28.218Z"
   },
   {
    "duration": 670,
    "start_time": "2022-03-15T20:39:28.633Z"
   },
   {
    "duration": 394,
    "start_time": "2022-03-15T20:39:29.307Z"
   },
   {
    "duration": 330,
    "start_time": "2022-03-15T20:39:29.704Z"
   },
   {
    "duration": 240,
    "start_time": "2022-03-15T20:39:30.039Z"
   },
   {
    "duration": 432,
    "start_time": "2022-03-15T20:39:30.282Z"
   },
   {
    "duration": 686,
    "start_time": "2022-03-15T20:39:30.717Z"
   },
   {
    "duration": 473,
    "start_time": "2022-03-15T20:39:31.406Z"
   },
   {
    "duration": 337,
    "start_time": "2022-03-15T20:39:31.882Z"
   },
   {
    "duration": 1132,
    "start_time": "2022-03-15T20:39:32.221Z"
   },
   {
    "duration": -1130,
    "start_time": "2022-03-15T20:39:34.486Z"
   },
   {
    "duration": -1130,
    "start_time": "2022-03-15T20:39:34.488Z"
   },
   {
    "duration": -1141,
    "start_time": "2022-03-15T20:39:34.500Z"
   },
   {
    "duration": -1141,
    "start_time": "2022-03-15T20:39:34.502Z"
   },
   {
    "duration": -1141,
    "start_time": "2022-03-15T20:39:34.504Z"
   },
   {
    "duration": 35,
    "start_time": "2022-03-15T20:40:02.530Z"
   },
   {
    "duration": 34,
    "start_time": "2022-03-15T20:40:24.358Z"
   },
   {
    "duration": 31,
    "start_time": "2022-03-15T20:40:51.640Z"
   },
   {
    "duration": 728,
    "start_time": "2022-03-15T20:40:56.660Z"
   },
   {
    "duration": 39,
    "start_time": "2022-03-15T20:41:02.740Z"
   },
   {
    "duration": 30,
    "start_time": "2022-03-15T20:42:07.732Z"
   },
   {
    "duration": 20,
    "start_time": "2022-03-15T20:42:33.140Z"
   },
   {
    "duration": 30,
    "start_time": "2022-03-15T20:42:40.900Z"
   },
   {
    "duration": 35,
    "start_time": "2022-03-15T20:43:27.439Z"
   },
   {
    "duration": 60,
    "start_time": "2022-03-15T20:44:30.991Z"
   },
   {
    "duration": 34,
    "start_time": "2022-03-15T20:44:50.429Z"
   },
   {
    "duration": 34,
    "start_time": "2022-03-15T20:45:46.807Z"
   },
   {
    "duration": 715,
    "start_time": "2022-03-15T20:48:16.311Z"
   },
   {
    "duration": 39,
    "start_time": "2022-03-15T20:48:22.550Z"
   },
   {
    "duration": 866,
    "start_time": "2022-03-15T20:48:42.920Z"
   },
   {
    "duration": 15,
    "start_time": "2022-03-15T20:48:43.789Z"
   },
   {
    "duration": 222,
    "start_time": "2022-03-15T20:48:43.807Z"
   },
   {
    "duration": 289,
    "start_time": "2022-03-15T20:48:44.032Z"
   },
   {
    "duration": 287,
    "start_time": "2022-03-15T20:48:44.324Z"
   },
   {
    "duration": 314,
    "start_time": "2022-03-15T20:48:44.613Z"
   },
   {
    "duration": 405,
    "start_time": "2022-03-15T20:48:44.930Z"
   },
   {
    "duration": 792,
    "start_time": "2022-03-15T20:48:45.337Z"
   },
   {
    "duration": 745,
    "start_time": "2022-03-15T20:48:46.133Z"
   },
   {
    "duration": 705,
    "start_time": "2022-03-15T20:48:46.882Z"
   },
   {
    "duration": 640,
    "start_time": "2022-03-15T20:48:47.590Z"
   },
   {
    "duration": 837,
    "start_time": "2022-03-15T20:48:48.233Z"
   },
   {
    "duration": 637,
    "start_time": "2022-03-15T20:48:49.073Z"
   },
   {
    "duration": 753,
    "start_time": "2022-03-15T20:48:49.712Z"
   },
   {
    "duration": 825,
    "start_time": "2022-03-15T20:48:50.467Z"
   },
   {
    "duration": 623,
    "start_time": "2022-03-15T20:48:51.294Z"
   },
   {
    "duration": 703,
    "start_time": "2022-03-15T20:48:51.920Z"
   },
   {
    "duration": 601,
    "start_time": "2022-03-15T20:48:52.626Z"
   },
   {
    "duration": 846,
    "start_time": "2022-03-15T20:48:53.229Z"
   },
   {
    "duration": 515,
    "start_time": "2022-03-15T20:48:54.077Z"
   },
   {
    "duration": 501,
    "start_time": "2022-03-15T20:48:54.595Z"
   },
   {
    "duration": 721,
    "start_time": "2022-03-15T20:48:55.099Z"
   },
   {
    "duration": 901,
    "start_time": "2022-03-15T20:48:55.823Z"
   },
   {
    "duration": 1364,
    "start_time": "2022-03-15T20:48:56.726Z"
   },
   {
    "duration": 1172,
    "start_time": "2022-03-15T20:48:58.093Z"
   },
   {
    "duration": 1637,
    "start_time": "2022-03-15T20:48:59.267Z"
   },
   {
    "duration": 1262,
    "start_time": "2022-03-15T20:49:00.909Z"
   },
   {
    "duration": 1285,
    "start_time": "2022-03-15T20:49:02.174Z"
   },
   {
    "duration": 983,
    "start_time": "2022-03-15T20:49:03.462Z"
   },
   {
    "duration": 528,
    "start_time": "2022-03-15T20:49:04.448Z"
   },
   {
    "duration": 736,
    "start_time": "2022-03-15T20:49:04.979Z"
   },
   {
    "duration": 868,
    "start_time": "2022-03-15T20:49:05.718Z"
   },
   {
    "duration": 704,
    "start_time": "2022-03-15T20:49:06.588Z"
   },
   {
    "duration": 964,
    "start_time": "2022-03-15T20:49:07.294Z"
   },
   {
    "duration": 375,
    "start_time": "2022-03-15T20:49:08.261Z"
   },
   {
    "duration": 262,
    "start_time": "2022-03-15T20:49:08.638Z"
   },
   {
    "duration": 302,
    "start_time": "2022-03-15T20:49:08.902Z"
   },
   {
    "duration": 48,
    "start_time": "2022-03-15T20:51:28.266Z"
   },
   {
    "duration": 23,
    "start_time": "2022-03-15T20:52:26.402Z"
   },
   {
    "duration": 31,
    "start_time": "2022-03-15T20:52:35.702Z"
   },
   {
    "duration": 33,
    "start_time": "2022-03-15T20:52:45.503Z"
   },
   {
    "duration": 816,
    "start_time": "2022-03-15T20:53:57.983Z"
   },
   {
    "duration": 16,
    "start_time": "2022-03-15T20:53:58.802Z"
   },
   {
    "duration": 40,
    "start_time": "2022-03-15T20:53:58.821Z"
   },
   {
    "duration": 69,
    "start_time": "2022-03-15T20:53:58.864Z"
   },
   {
    "duration": 166,
    "start_time": "2022-03-15T20:53:58.935Z"
   },
   {
    "duration": 114,
    "start_time": "2022-03-15T20:53:59.103Z"
   },
   {
    "duration": 97,
    "start_time": "2022-03-15T20:53:59.219Z"
   },
   {
    "duration": 142,
    "start_time": "2022-03-15T20:53:59.319Z"
   },
   {
    "duration": 200,
    "start_time": "2022-03-15T20:53:59.465Z"
   },
   {
    "duration": 278,
    "start_time": "2022-03-15T20:53:59.668Z"
   },
   {
    "duration": 278,
    "start_time": "2022-03-15T20:53:59.949Z"
   },
   {
    "duration": 229,
    "start_time": "2022-03-15T20:54:00.229Z"
   },
   {
    "duration": 194,
    "start_time": "2022-03-15T20:54:00.460Z"
   },
   {
    "duration": 98,
    "start_time": "2022-03-15T20:54:00.657Z"
   },
   {
    "duration": 13,
    "start_time": "2022-03-15T20:54:00.757Z"
   },
   {
    "duration": 112,
    "start_time": "2022-03-15T20:54:00.773Z"
   },
   {
    "duration": 123,
    "start_time": "2022-03-15T20:54:00.887Z"
   },
   {
    "duration": 107,
    "start_time": "2022-03-15T20:54:01.013Z"
   },
   {
    "duration": 123,
    "start_time": "2022-03-15T20:54:01.124Z"
   },
   {
    "duration": 100,
    "start_time": "2022-03-15T20:54:01.250Z"
   },
   {
    "duration": 148,
    "start_time": "2022-03-15T20:54:01.353Z"
   },
   {
    "duration": 103,
    "start_time": "2022-03-15T20:54:01.503Z"
   },
   {
    "duration": 237,
    "start_time": "2022-03-15T20:54:01.608Z"
   },
   {
    "duration": 182,
    "start_time": "2022-03-15T20:54:01.847Z"
   },
   {
    "duration": 106,
    "start_time": "2022-03-15T20:54:02.032Z"
   },
   {
    "duration": 51,
    "start_time": "2022-03-15T20:54:02.140Z"
   },
   {
    "duration": 85,
    "start_time": "2022-03-15T20:54:02.196Z"
   },
   {
    "duration": 85,
    "start_time": "2022-03-15T20:54:02.284Z"
   },
   {
    "duration": 118,
    "start_time": "2022-03-15T20:54:02.373Z"
   },
   {
    "duration": 95,
    "start_time": "2022-03-15T20:54:02.494Z"
   },
   {
    "duration": 165,
    "start_time": "2022-03-15T20:54:02.591Z"
   },
   {
    "duration": 50,
    "start_time": "2022-03-15T20:54:02.758Z"
   },
   {
    "duration": 32,
    "start_time": "2022-03-15T20:54:02.810Z"
   },
   {
    "duration": 54,
    "start_time": "2022-03-15T20:54:02.844Z"
   },
   {
    "duration": 43,
    "start_time": "2022-03-15T20:54:02.900Z"
   },
   {
    "duration": 51,
    "start_time": "2022-03-15T20:54:02.945Z"
   },
   {
    "duration": 91,
    "start_time": "2022-03-15T20:54:02.998Z"
   },
   {
    "duration": 86,
    "start_time": "2022-03-15T20:54:03.092Z"
   },
   {
    "duration": 33,
    "start_time": "2022-03-15T20:54:23.942Z"
   },
   {
    "duration": 35,
    "start_time": "2022-03-15T20:54:55.562Z"
   },
   {
    "duration": 37,
    "start_time": "2022-03-15T20:56:04.673Z"
   },
   {
    "duration": 35,
    "start_time": "2022-03-15T20:56:14.892Z"
   },
   {
    "duration": 38,
    "start_time": "2022-03-15T20:58:07.001Z"
   },
   {
    "duration": 838,
    "start_time": "2022-03-15T20:59:36.875Z"
   },
   {
    "duration": 14,
    "start_time": "2022-03-15T20:59:37.716Z"
   },
   {
    "duration": 309,
    "start_time": "2022-03-15T20:59:37.733Z"
   },
   {
    "duration": 274,
    "start_time": "2022-03-15T20:59:38.045Z"
   },
   {
    "duration": 251,
    "start_time": "2022-03-15T20:59:38.322Z"
   },
   {
    "duration": 356,
    "start_time": "2022-03-15T20:59:38.575Z"
   },
   {
    "duration": 319,
    "start_time": "2022-03-15T20:59:38.934Z"
   },
   {
    "duration": 278,
    "start_time": "2022-03-15T20:59:39.255Z"
   },
   {
    "duration": 499,
    "start_time": "2022-03-15T20:59:39.537Z"
   },
   {
    "duration": 688,
    "start_time": "2022-03-15T20:59:40.039Z"
   },
   {
    "duration": 278,
    "start_time": "2022-03-15T20:59:40.730Z"
   },
   {
    "duration": 396,
    "start_time": "2022-03-15T20:59:41.010Z"
   },
   {
    "duration": 380,
    "start_time": "2022-03-15T20:59:41.408Z"
   },
   {
    "duration": 260,
    "start_time": "2022-03-15T20:59:41.790Z"
   },
   {
    "duration": 500,
    "start_time": "2022-03-15T20:59:42.053Z"
   },
   {
    "duration": 521,
    "start_time": "2022-03-15T20:59:42.556Z"
   },
   {
    "duration": 526,
    "start_time": "2022-03-15T20:59:43.080Z"
   },
   {
    "duration": 448,
    "start_time": "2022-03-15T20:59:43.609Z"
   },
   {
    "duration": 756,
    "start_time": "2022-03-15T20:59:44.060Z"
   },
   {
    "duration": 452,
    "start_time": "2022-03-15T20:59:44.818Z"
   },
   {
    "duration": 877,
    "start_time": "2022-03-15T20:59:45.273Z"
   },
   {
    "duration": 339,
    "start_time": "2022-03-15T20:59:46.153Z"
   },
   {
    "duration": 577,
    "start_time": "2022-03-15T20:59:46.494Z"
   },
   {
    "duration": 557,
    "start_time": "2022-03-15T20:59:47.074Z"
   },
   {
    "duration": 597,
    "start_time": "2022-03-15T20:59:47.634Z"
   },
   {
    "duration": 291,
    "start_time": "2022-03-15T20:59:48.234Z"
   },
   {
    "duration": 498,
    "start_time": "2022-03-15T20:59:48.530Z"
   },
   {
    "duration": 493,
    "start_time": "2022-03-15T20:59:49.031Z"
   },
   {
    "duration": 213,
    "start_time": "2022-03-15T20:59:49.527Z"
   },
   {
    "duration": 343,
    "start_time": "2022-03-15T20:59:49.743Z"
   },
   {
    "duration": 265,
    "start_time": "2022-03-15T20:59:50.088Z"
   },
   {
    "duration": 321,
    "start_time": "2022-03-15T20:59:50.355Z"
   },
   {
    "duration": 313,
    "start_time": "2022-03-15T20:59:50.679Z"
   },
   {
    "duration": 472,
    "start_time": "2022-03-15T20:59:50.994Z"
   },
   {
    "duration": 266,
    "start_time": "2022-03-15T20:59:51.468Z"
   },
   {
    "duration": 269,
    "start_time": "2022-03-15T21:21:00.275Z"
   },
   {
    "duration": 834,
    "start_time": "2022-03-15T21:21:13.506Z"
   },
   {
    "duration": 16,
    "start_time": "2022-03-15T21:21:14.343Z"
   },
   {
    "duration": 466,
    "start_time": "2022-03-15T21:21:14.362Z"
   },
   {
    "duration": 339,
    "start_time": "2022-03-15T21:21:14.831Z"
   },
   {
    "duration": 636,
    "start_time": "2022-03-15T21:21:15.172Z"
   },
   {
    "duration": 519,
    "start_time": "2022-03-15T21:21:15.810Z"
   },
   {
    "duration": 805,
    "start_time": "2022-03-15T21:21:16.331Z"
   },
   {
    "duration": 821,
    "start_time": "2022-03-15T21:21:17.138Z"
   },
   {
    "duration": 946,
    "start_time": "2022-03-15T21:21:17.963Z"
   },
   {
    "duration": 437,
    "start_time": "2022-03-15T21:21:18.913Z"
   },
   {
    "duration": 800,
    "start_time": "2022-03-15T21:21:19.352Z"
   },
   {
    "duration": 968,
    "start_time": "2022-03-15T21:21:20.154Z"
   },
   {
    "duration": 814,
    "start_time": "2022-03-15T21:21:21.125Z"
   },
   {
    "duration": 1079,
    "start_time": "2022-03-15T21:21:21.941Z"
   },
   {
    "duration": 867,
    "start_time": "2022-03-15T21:21:23.023Z"
   },
   {
    "duration": 477,
    "start_time": "2022-03-15T21:21:23.893Z"
   },
   {
    "duration": 577,
    "start_time": "2022-03-15T21:21:24.373Z"
   },
   {
    "duration": 577,
    "start_time": "2022-03-15T21:21:24.953Z"
   },
   {
    "duration": 541,
    "start_time": "2022-03-15T21:21:25.532Z"
   },
   {
    "duration": 442,
    "start_time": "2022-03-15T21:21:26.075Z"
   },
   {
    "duration": 614,
    "start_time": "2022-03-15T21:21:26.520Z"
   },
   {
    "duration": -1155,
    "start_time": "2022-03-15T21:21:28.292Z"
   },
   {
    "duration": -1215,
    "start_time": "2022-03-15T21:21:28.353Z"
   },
   {
    "duration": -1220,
    "start_time": "2022-03-15T21:21:28.360Z"
   },
   {
    "duration": -1222,
    "start_time": "2022-03-15T21:21:28.364Z"
   },
   {
    "duration": -1223,
    "start_time": "2022-03-15T21:21:28.367Z"
   },
   {
    "duration": -1225,
    "start_time": "2022-03-15T21:21:28.370Z"
   },
   {
    "duration": -1227,
    "start_time": "2022-03-15T21:21:28.373Z"
   },
   {
    "duration": -1229,
    "start_time": "2022-03-15T21:21:28.376Z"
   },
   {
    "duration": -1230,
    "start_time": "2022-03-15T21:21:28.378Z"
   },
   {
    "duration": -1230,
    "start_time": "2022-03-15T21:21:28.380Z"
   },
   {
    "duration": -1232,
    "start_time": "2022-03-15T21:21:28.383Z"
   },
   {
    "duration": -1232,
    "start_time": "2022-03-15T21:21:28.385Z"
   },
   {
    "duration": -1232,
    "start_time": "2022-03-15T21:21:28.387Z"
   },
   {
    "duration": -1233,
    "start_time": "2022-03-15T21:21:28.389Z"
   },
   {
    "duration": 11,
    "start_time": "2022-03-15T21:22:37.674Z"
   },
   {
    "duration": 11,
    "start_time": "2022-03-15T21:22:59.034Z"
   },
   {
    "duration": 8,
    "start_time": "2022-03-15T21:23:19.354Z"
   },
   {
    "duration": 830,
    "start_time": "2022-03-15T21:23:24.886Z"
   },
   {
    "duration": 16,
    "start_time": "2022-03-15T21:23:25.719Z"
   },
   {
    "duration": 310,
    "start_time": "2022-03-15T21:23:25.738Z"
   },
   {
    "duration": 356,
    "start_time": "2022-03-15T21:23:26.052Z"
   },
   {
    "duration": 408,
    "start_time": "2022-03-15T21:23:26.410Z"
   },
   {
    "duration": 272,
    "start_time": "2022-03-15T21:23:26.821Z"
   },
   {
    "duration": 230,
    "start_time": "2022-03-15T21:23:27.096Z"
   },
   {
    "duration": 298,
    "start_time": "2022-03-15T21:23:27.330Z"
   },
   {
    "duration": 470,
    "start_time": "2022-03-15T21:23:27.632Z"
   },
   {
    "duration": 413,
    "start_time": "2022-03-15T21:23:28.105Z"
   },
   {
    "duration": 232,
    "start_time": "2022-03-15T21:23:28.521Z"
   },
   {
    "duration": 278,
    "start_time": "2022-03-15T21:23:28.756Z"
   },
   {
    "duration": 610,
    "start_time": "2022-03-15T21:23:29.038Z"
   },
   {
    "duration": 314,
    "start_time": "2022-03-15T21:23:29.651Z"
   },
   {
    "duration": 269,
    "start_time": "2022-03-15T21:23:29.968Z"
   },
   {
    "duration": 431,
    "start_time": "2022-03-15T21:23:30.239Z"
   },
   {
    "duration": 304,
    "start_time": "2022-03-15T21:23:30.672Z"
   },
   {
    "duration": 317,
    "start_time": "2022-03-15T21:23:30.979Z"
   },
   {
    "duration": 251,
    "start_time": "2022-03-15T21:23:31.300Z"
   },
   {
    "duration": 308,
    "start_time": "2022-03-15T21:23:31.554Z"
   },
   {
    "duration": 244,
    "start_time": "2022-03-15T21:23:31.865Z"
   },
   {
    "duration": 375,
    "start_time": "2022-03-15T21:23:32.111Z"
   },
   {
    "duration": 405,
    "start_time": "2022-03-15T21:23:32.490Z"
   },
   {
    "duration": 395,
    "start_time": "2022-03-15T21:23:32.898Z"
   },
   {
    "duration": 621,
    "start_time": "2022-03-15T21:23:33.295Z"
   },
   {
    "duration": 756,
    "start_time": "2022-03-15T21:23:33.918Z"
   },
   {
    "duration": 206,
    "start_time": "2022-03-15T21:23:34.677Z"
   },
   {
    "duration": 326,
    "start_time": "2022-03-15T21:23:34.885Z"
   },
   {
    "duration": 339,
    "start_time": "2022-03-15T21:23:35.214Z"
   },
   {
    "duration": 475,
    "start_time": "2022-03-15T21:23:35.555Z"
   },
   {
    "duration": 581,
    "start_time": "2022-03-15T21:23:36.032Z"
   },
   {
    "duration": 431,
    "start_time": "2022-03-15T21:23:36.615Z"
   },
   {
    "duration": 242,
    "start_time": "2022-03-15T21:23:37.049Z"
   },
   {
    "duration": 431,
    "start_time": "2022-03-15T21:23:37.294Z"
   },
   {
    "duration": 224,
    "start_time": "2022-03-15T21:23:37.728Z"
   },
   {
    "duration": 791,
    "start_time": "2022-03-15T21:52:44.914Z"
   },
   {
    "duration": 15,
    "start_time": "2022-03-15T21:52:45.708Z"
   },
   {
    "duration": 252,
    "start_time": "2022-03-15T21:52:45.726Z"
   },
   {
    "duration": 286,
    "start_time": "2022-03-15T21:52:45.980Z"
   },
   {
    "duration": 335,
    "start_time": "2022-03-15T21:52:46.269Z"
   },
   {
    "duration": 248,
    "start_time": "2022-03-15T21:52:46.606Z"
   },
   {
    "duration": 210,
    "start_time": "2022-03-15T21:52:46.856Z"
   },
   {
    "duration": 313,
    "start_time": "2022-03-15T21:52:47.070Z"
   },
   {
    "duration": 401,
    "start_time": "2022-03-15T21:52:47.386Z"
   },
   {
    "duration": 265,
    "start_time": "2022-03-15T21:52:47.789Z"
   },
   {
    "duration": 191,
    "start_time": "2022-03-15T21:52:48.056Z"
   },
   {
    "duration": 232,
    "start_time": "2022-03-15T21:52:48.250Z"
   },
   {
    "duration": 345,
    "start_time": "2022-03-15T21:52:48.484Z"
   },
   {
    "duration": 268,
    "start_time": "2022-03-15T21:52:48.832Z"
   },
   {
    "duration": 222,
    "start_time": "2022-03-15T21:52:49.102Z"
   },
   {
    "duration": 367,
    "start_time": "2022-03-15T21:52:49.326Z"
   },
   {
    "duration": 237,
    "start_time": "2022-03-15T21:52:49.695Z"
   },
   {
    "duration": 305,
    "start_time": "2022-03-15T21:52:49.934Z"
   },
   {
    "duration": 385,
    "start_time": "2022-03-15T21:52:50.241Z"
   },
   {
    "duration": 315,
    "start_time": "2022-03-15T21:52:50.629Z"
   },
   {
    "duration": 254,
    "start_time": "2022-03-15T21:52:50.946Z"
   },
   {
    "duration": 360,
    "start_time": "2022-03-15T21:52:51.202Z"
   },
   {
    "duration": 264,
    "start_time": "2022-03-15T21:52:51.566Z"
   },
   {
    "duration": 320,
    "start_time": "2022-03-15T21:52:51.833Z"
   },
   {
    "duration": 298,
    "start_time": "2022-03-15T21:52:52.156Z"
   },
   {
    "duration": 312,
    "start_time": "2022-03-15T21:52:52.457Z"
   },
   {
    "duration": 574,
    "start_time": "2022-03-15T21:52:52.771Z"
   },
   {
    "duration": 622,
    "start_time": "2022-03-15T21:52:53.347Z"
   },
   {
    "duration": 481,
    "start_time": "2022-03-15T21:52:53.972Z"
   },
   {
    "duration": 620,
    "start_time": "2022-03-15T21:52:54.455Z"
   },
   {
    "duration": 589,
    "start_time": "2022-03-15T21:52:55.078Z"
   },
   {
    "duration": 276,
    "start_time": "2022-03-15T21:52:55.669Z"
   },
   {
    "duration": 877,
    "start_time": "2022-03-15T21:52:55.948Z"
   },
   {
    "duration": 392,
    "start_time": "2022-03-15T21:52:56.828Z"
   },
   {
    "duration": 395,
    "start_time": "2022-03-15T21:52:57.222Z"
   },
   {
    "duration": 821,
    "start_time": "2022-03-16T06:20:44.374Z"
   },
   {
    "duration": 14,
    "start_time": "2022-03-16T06:20:45.198Z"
   },
   {
    "duration": 13,
    "start_time": "2022-03-16T06:20:45.216Z"
   },
   {
    "duration": 34,
    "start_time": "2022-03-16T06:20:45.231Z"
   },
   {
    "duration": 11,
    "start_time": "2022-03-16T06:20:45.283Z"
   },
   {
    "duration": 22,
    "start_time": "2022-03-16T06:20:45.296Z"
   },
   {
    "duration": 8,
    "start_time": "2022-03-16T06:20:45.320Z"
   },
   {
    "duration": 7,
    "start_time": "2022-03-16T06:20:45.332Z"
   },
   {
    "duration": 46,
    "start_time": "2022-03-16T06:20:45.342Z"
   },
   {
    "duration": 20,
    "start_time": "2022-03-16T06:20:45.390Z"
   },
   {
    "duration": 13,
    "start_time": "2022-03-16T06:20:45.413Z"
   },
   {
    "duration": 14,
    "start_time": "2022-03-16T06:20:45.428Z"
   },
   {
    "duration": 46,
    "start_time": "2022-03-16T06:20:45.445Z"
   },
   {
    "duration": 41,
    "start_time": "2022-03-16T06:20:45.494Z"
   },
   {
    "duration": 10,
    "start_time": "2022-03-16T06:20:45.537Z"
   },
   {
    "duration": 45,
    "start_time": "2022-03-16T06:20:45.549Z"
   },
   {
    "duration": 9,
    "start_time": "2022-03-16T06:20:45.596Z"
   },
   {
    "duration": 17,
    "start_time": "2022-03-16T06:20:45.608Z"
   },
   {
    "duration": 10,
    "start_time": "2022-03-16T06:20:45.628Z"
   },
   {
    "duration": 45,
    "start_time": "2022-03-16T06:20:45.641Z"
   },
   {
    "duration": 8,
    "start_time": "2022-03-16T06:20:45.689Z"
   },
   {
    "duration": 11,
    "start_time": "2022-03-16T06:20:45.699Z"
   },
   {
    "duration": 9,
    "start_time": "2022-03-16T06:20:45.714Z"
   },
   {
    "duration": 63,
    "start_time": "2022-03-16T06:20:45.726Z"
   },
   {
    "duration": 15,
    "start_time": "2022-03-16T06:20:45.792Z"
   },
   {
    "duration": 9,
    "start_time": "2022-03-16T06:20:45.809Z"
   },
   {
    "duration": 10,
    "start_time": "2022-03-16T06:20:45.820Z"
   },
   {
    "duration": 52,
    "start_time": "2022-03-16T06:20:45.832Z"
   },
   {
    "duration": 29,
    "start_time": "2022-03-16T06:20:45.887Z"
   },
   {
    "duration": 10,
    "start_time": "2022-03-16T06:20:45.918Z"
   },
   {
    "duration": 88,
    "start_time": "2022-03-16T06:20:45.932Z"
   },
   {
    "duration": 34,
    "start_time": "2022-03-16T06:20:46.023Z"
   },
   {
    "duration": 50,
    "start_time": "2022-03-16T06:20:46.060Z"
   },
   {
    "duration": 34,
    "start_time": "2022-03-16T06:20:46.112Z"
   },
   {
    "duration": 58,
    "start_time": "2022-03-16T06:20:46.148Z"
   },
   {
    "duration": 818,
    "start_time": "2022-03-16T06:23:28.996Z"
   },
   {
    "duration": 20,
    "start_time": "2022-03-16T06:23:29.817Z"
   },
   {
    "duration": 19,
    "start_time": "2022-03-16T06:23:29.841Z"
   },
   {
    "duration": 51,
    "start_time": "2022-03-16T06:23:29.863Z"
   },
   {
    "duration": 12,
    "start_time": "2022-03-16T06:23:29.917Z"
   },
   {
    "duration": 38,
    "start_time": "2022-03-16T06:23:29.932Z"
   },
   {
    "duration": 15,
    "start_time": "2022-03-16T06:23:29.972Z"
   },
   {
    "duration": 22,
    "start_time": "2022-03-16T06:23:29.989Z"
   },
   {
    "duration": 71,
    "start_time": "2022-03-16T06:23:30.015Z"
   },
   {
    "duration": 27,
    "start_time": "2022-03-16T06:23:30.089Z"
   },
   {
    "duration": 39,
    "start_time": "2022-03-16T06:23:30.119Z"
   },
   {
    "duration": 28,
    "start_time": "2022-03-16T06:23:30.160Z"
   },
   {
    "duration": 19,
    "start_time": "2022-03-16T06:23:30.191Z"
   },
   {
    "duration": 51,
    "start_time": "2022-03-16T06:23:30.212Z"
   },
   {
    "duration": 10,
    "start_time": "2022-03-16T06:23:30.281Z"
   },
   {
    "duration": 34,
    "start_time": "2022-03-16T06:23:30.293Z"
   },
   {
    "duration": 53,
    "start_time": "2022-03-16T06:23:30.329Z"
   },
   {
    "duration": 35,
    "start_time": "2022-03-16T06:23:30.384Z"
   },
   {
    "duration": 40,
    "start_time": "2022-03-16T06:23:30.422Z"
   },
   {
    "duration": 41,
    "start_time": "2022-03-16T06:23:30.465Z"
   },
   {
    "duration": 26,
    "start_time": "2022-03-16T06:23:30.508Z"
   },
   {
    "duration": 29,
    "start_time": "2022-03-16T06:23:30.537Z"
   },
   {
    "duration": 43,
    "start_time": "2022-03-16T06:23:30.569Z"
   },
   {
    "duration": 57,
    "start_time": "2022-03-16T06:23:30.616Z"
   },
   {
    "duration": 17,
    "start_time": "2022-03-16T06:23:30.675Z"
   },
   {
    "duration": 44,
    "start_time": "2022-03-16T06:23:30.694Z"
   },
   {
    "duration": 32,
    "start_time": "2022-03-16T06:23:30.743Z"
   },
   {
    "duration": 27,
    "start_time": "2022-03-16T06:23:30.778Z"
   },
   {
    "duration": 35,
    "start_time": "2022-03-16T06:23:30.808Z"
   },
   {
    "duration": 27,
    "start_time": "2022-03-16T06:23:30.846Z"
   },
   {
    "duration": 70,
    "start_time": "2022-03-16T06:23:30.875Z"
   },
   {
    "duration": 32,
    "start_time": "2022-03-16T06:23:30.948Z"
   },
   {
    "duration": 36,
    "start_time": "2022-03-16T06:23:30.983Z"
   },
   {
    "duration": 31,
    "start_time": "2022-03-16T06:23:31.022Z"
   },
   {
    "duration": 53,
    "start_time": "2022-03-16T06:23:31.056Z"
   }
  ],
  "kernelspec": {
   "display_name": "Python 3 (ipykernel)",
   "language": "python",
   "name": "python3"
  },
  "language_info": {
   "codemirror_mode": {
    "name": "ipython",
    "version": 3
   },
   "file_extension": ".py",
   "mimetype": "text/x-python",
   "name": "python",
   "nbconvert_exporter": "python",
   "pygments_lexer": "ipython3",
   "version": "3.9.10"
  },
  "toc": {
   "base_numbering": 1,
   "nav_menu": {},
   "number_sections": true,
   "sideBar": true,
   "skip_h1_title": true,
   "title_cell": "Table of Contents",
   "title_sidebar": "Contents",
   "toc_cell": false,
   "toc_position": {},
   "toc_section_display": true,
   "toc_window_display": false
  }
 },
 "nbformat": 4,
 "nbformat_minor": 5
}
